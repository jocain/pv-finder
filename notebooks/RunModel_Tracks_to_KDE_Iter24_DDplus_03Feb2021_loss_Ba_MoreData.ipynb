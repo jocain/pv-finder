{
 "cells": [
  {
   "cell_type": "code",
   "execution_count": 1,
   "metadata": {},
   "outputs": [],
   "source": [
    "##%matplotlib widget\n",
    "## with %matplotlib notebook: seems to require ipympl as part of environment, either\n",
    "## part of the conda environment or \"pip install ipympl\"\n",
    "## otherwise, does not show ANY plots in note\"book, plt.savefig() works\n",
    "%matplotlib notebook  \n",
    "##%matplotlib inline    ## --plt.savefig()  works, but re-sizing does NOT\n"
   ]
  },
  {
   "cell_type": "markdown",
   "metadata": {},
   "source": [
    "This notebook is the second attempt to read in track information and use it to predict the KDE used as input to PvFinder. This time, we are reading in poca KDEs rather than the original KDEs. \n",
    "\n",
    "collectdata_kde_C.py uses poca_z, poca_x, poca_y, major_axis_x, major_axis_y, and major_axis_z as the six track parameters (for the moment)\n"
   ]
  },
  {
   "cell_type": "markdown",
   "metadata": {},
   "source": [
    "Check the current GPU usage. Please try to be nice!"
   ]
  },
  {
   "cell_type": "code",
   "execution_count": 2,
   "metadata": {},
   "outputs": [
    {
     "name": "stdout",
     "output_type": "stream",
     "text": [
      "Wed Feb  3 03:17:02 2021       \r\n",
      "+-----------------------------------------------------------------------------+\r\n",
      "| NVIDIA-SMI 440.64.00    Driver Version: 440.64.00    CUDA Version: 10.2     |\r\n",
      "|-------------------------------+----------------------+----------------------+\r\n",
      "| GPU  Name        Persistence-M| Bus-Id        Disp.A | Volatile Uncorr. ECC |\r\n",
      "| Fan  Temp  Perf  Pwr:Usage/Cap|         Memory-Usage | GPU-Util  Compute M. |\r\n",
      "|===============================+======================+======================|\r\n",
      "|   0  TITAN V             Off  | 00000000:03:00.0 Off |                  N/A |\r\n",
      "| 28%   31C    P8    23W / 250W |      0MiB / 12066MiB |      0%      Default |\r\n",
      "+-------------------------------+----------------------+----------------------+\r\n",
      "|   1  Tesla P100-PCIE...  Off  | 00000000:83:00.0 Off |                    0 |\r\n",
      "| N/A   32C    P0    33W / 250W |      0MiB / 16280MiB |      0%      Default |\r\n",
      "+-------------------------------+----------------------+----------------------+\r\n",
      "|   2  TITAN V             Off  | 00000000:84:00.0 Off |                  N/A |\r\n",
      "| 22%   37C    P0    34W / 250W |      0MiB / 12066MiB |      0%      Default |\r\n",
      "+-------------------------------+----------------------+----------------------+\r\n",
      "                                                                               \r\n",
      "+-----------------------------------------------------------------------------+\r\n",
      "| Processes:                                                       GPU Memory |\r\n",
      "|  GPU       PID   Type   Process name                             Usage      |\r\n",
      "|=============================================================================|\r\n",
      "|  No running processes found                                                 |\r\n",
      "+-----------------------------------------------------------------------------+\r\n"
     ]
    }
   ],
   "source": [
    "!nvidia-smi"
   ]
  },
  {
   "cell_type": "markdown",
   "metadata": {},
   "source": [
    "> **WARNING**: The card numbers here are *not* the same as in CUDA. You have been warned."
   ]
  },
  {
   "cell_type": "markdown",
   "metadata": {},
   "source": [
    "This notebook is first attempt to read in track information and use it to predict the KDE used as input to PvFinder.\n"
   ]
  },
  {
   "cell_type": "markdown",
   "metadata": {},
   "source": [
    "## Imports"
   ]
  },
  {
   "cell_type": "code",
   "execution_count": 3,
   "metadata": {},
   "outputs": [],
   "source": [
    "import matplotlib.pyplot as plt\n",
    "import numpy as np\n",
    "import time\n",
    "import torch\n",
    "import pandas as pd\n",
    "\n",
    "# Python 3 standard library\n",
    "from pathlib import Path\n",
    "\n",
    "##from torchsummary import summary"
   ]
  },
  {
   "cell_type": "markdown",
   "metadata": {},
   "source": [
    "### Set up local parameters"
   ]
  },
  {
   "cell_type": "code",
   "execution_count": 4,
   "metadata": {},
   "outputs": [],
   "source": [
    "n_epochs = 150\n",
    "\n",
    "folder = '03Feb_DDplus_loss_Ba_iter24_floatAll_150epochs_1p5em5_4xwill'\n",
    "name   = folder\n",
    "\n",
    "# Make an output folder named \"name\" (change if you want)\n",
    "\n",
    "## Special instructions for those working on goofy at UC\n",
    "## Please be very careful to make sure that your folder\n",
    "## does not live in a subdirectory of your home directory\n",
    "## this disk has very little capacity. Instead, use \n",
    "## a subdirectory in /share/lazy with a symbolic link to\n",
    "## it in this (the notebooks) subdirectory\n",
    "folder = 'ML_dir/' + folder\n",
    "output = Path(folder)\n",
    "\n",
    "\n",
    "# Size of batches\n",
    "batch_size = 64 ## batch_size = 24 ---> 4763MiB / 12066MiB on Titan V\n",
    "# How fast to learn\n",
    "learning_rate = 1.5e-5"
   ]
  },
  {
   "cell_type": "markdown",
   "metadata": {},
   "source": [
    "Make the output directory if it does not exist:"
   ]
  },
  {
   "cell_type": "code",
   "execution_count": 5,
   "metadata": {},
   "outputs": [],
   "source": [
    "output.mkdir(exist_ok=True)"
   ]
  },
  {
   "cell_type": "markdown",
   "metadata": {},
   "source": [
    "## Get the helper functions\n",
    "\n",
    "Add the directory with the model\n",
    "definitions to the path so we can import from it:\n",
    "\n",
    "> When you type `import X`,\n",
    "Python searches `sys.path` for a python\n",
    "file named `X.py` to import. So we need to add the model directory to the path."
   ]
  },
  {
   "cell_type": "code",
   "execution_count": 6,
   "metadata": {
    "scrolled": true
   },
   "outputs": [],
   "source": [
    "from model.collectdata_kde_Ellipsoids import collect_t2kde_data\n",
    "\n",
    "##  It takes 9 input features (poca centers + (A,B,C,D,E,F)) . \n",
    "from model.models_kde import TracksToKDE_Ellipsoids_DDplus as Model\n",
    "\n",
    "# kde_loss_Ba is a Chi2 loss (go and look at it!)\n",
    "from model.kde_loss_Ba import Loss\n",
    "\n",
    "from model.training_kde import trainNet, select_gpu, Results\n",
    "from model.plots import dual_train_plots, replace_in_ax"
   ]
  },
  {
   "cell_type": "code",
   "execution_count": 7,
   "metadata": {},
   "outputs": [],
   "source": [
    "# This gets built up during the run - do not rerun this cell\n",
    "results = pd.DataFrame([], columns=Results._fields)"
   ]
  },
  {
   "cell_type": "markdown",
   "metadata": {},
   "source": [
    "Set up Torch device configuration. All tensors and model parameters need to know where to be put.\n",
    "This takes a BUS ID number: The BUS ID is the same as the listing at the top of this script."
   ]
  },
  {
   "cell_type": "code",
   "execution_count": 8,
   "metadata": {},
   "outputs": [
    {
     "name": "stdout",
     "output_type": "stream",
     "text": [
      "1 available GPUs (initially using device 0):\n",
      "  0 TITAN V\n"
     ]
    }
   ],
   "source": [
    "# either 0 or 2 on goofy (i.e. TITAN V) [1 or 2 on sleepy RTX 2080TI]\n",
    "device = select_gpu(2)\n",
    "##device = \"cpu\""
   ]
  },
  {
   "cell_type": "markdown",
   "metadata": {},
   "source": [
    "## Loading data\n",
    "\n",
    "Load the dataset, split into parts, then move to device (see `collectdata.py` in the `../model` directory)"
   ]
  },
  {
   "cell_type": "markdown",
   "metadata": {},
   "source": [
    "# Preparing the model"
   ]
  },
  {
   "cell_type": "markdown",
   "metadata": {},
   "source": [
    "Prepare a model, use multiple GPUs if they are VISIBLE, and move the model to the device."
   ]
  },
  {
   "cell_type": "code",
   "execution_count": 9,
   "metadata": {
    "scrolled": true
   },
   "outputs": [],
   "source": [
    "##print(\"Let's use\", torch.cuda.device_count(), \"GPUs!\")\n",
    "##if torch.cuda.device_count() > 1:\n",
    "##    model = torch.nn.DataParallel(model)"
   ]
  },
  {
   "cell_type": "code",
   "execution_count": 10,
   "metadata": {},
   "outputs": [
    {
     "name": "stdout",
     "output_type": "stream",
     "text": [
      "ct, child =  0    Linear(in_features=9, out_features=50, bias=True)\n",
      "ct, child =  1    Linear(in_features=50, out_features=50, bias=True)\n",
      "ct, child =  2    Linear(in_features=50, out_features=50, bias=True)\n",
      "ct, child =  3    Linear(in_features=50, out_features=50, bias=True)\n",
      "ct, child =  4    Linear(in_features=50, out_features=50, bias=True)\n",
      "ct, child =  5    Linear(in_features=50, out_features=50, bias=True)\n",
      "ct, child =  6    Linear(in_features=50, out_features=50, bias=True)\n",
      "ct, child =  7    Linear(in_features=50, out_features=50, bias=True)\n",
      "ct, child =  8    Linear(in_features=50, out_features=50, bias=True)\n",
      "ct, child =  9    Linear(in_features=50, out_features=50, bias=True)\n",
      "ct, child =  10    Linear(in_features=50, out_features=50, bias=True)\n",
      "ct, child =  11    Linear(in_features=50, out_features=16000, bias=True)\n",
      "ct, child =  12    Conv1d(4, 25, kernel_size=(25,), stride=(1,), padding=(12,))\n",
      "ct, child =  13    Conv1d(25, 1, kernel_size=(5,), stride=(1,), padding=(2,))\n",
      "ct, child =  14    Linear(in_features=4000, out_features=4000, bias=True)\n",
      "ct, child =  15    Conv1d(25, 1, kernel_size=(15,), stride=(1,), padding=(7,))\n",
      "ct, child =  16    Dropout(p=0.15, inplace=False)\n",
      "ct, child =  17    Dropout(p=0.15, inplace=False)\n"
     ]
    }
   ],
   "source": [
    "## a comment on the web at https://pytorch.org/docs/stable/optim.html says\n",
    "\"\"\"\n",
    "If you need to move a model to GPU via .cuda(), please do so before constructing optimizers for it. \n",
    "Parameters of a model after .cuda() will be different objects with those before the call.\n",
    "\n",
    "In general, you should make sure that optimized parameters live in consistent locations when \n",
    "optimizers are constructed and used.\n",
    "\"\"\"\n",
    "## so move this here (although we are using model.to(device) not explicitly using .cuda()\n",
    "\n",
    "nOut1 = 50\n",
    "nOut2 = 50\n",
    "nOut3 = 50\n",
    "nOut4 = 50\n",
    "nOut5 = 50\n",
    "nOut6 = 50\n",
    "nOut7 = 50\n",
    "nOut8 = 50\n",
    "nOut9 = 50\n",
    "nOut10 = 50\n",
    "nOut11 = 50\n",
    "latentChannels = 4\n",
    "model = Model(nOut1,nOut2,nOut3,nOut4,nOut5,nOut6,nOut7,nOut8,nOut9,nOut10,nOut11,latentChannels)\n",
    "\n",
    "##summary(model, input_size=(4, 4000))\n",
    "##print(model.parameters)\n",
    "\n",
    "## add the following code to allow the user to freeze the some of the weights corresponding \n",
    "## to those taken from an earlier model trained with the original target histograms\n",
    "## presumably -- this leaves either the perturbative filter \"fixed\" and lets the \n",
    "## learning focus on the non-perturbative features, so get started faster, or vice versa\n",
    "ct = 0\n",
    "for child in model.children():\n",
    "  print('ct, child = ',ct, \"  \", child)\n",
    "  if ct < 0:\n",
    "    print(\"     About to set param.requires_grad=False for ct = \", ct, \"params\")\n",
    "    for param in child.parameters():\n",
    "        # fixing parameters\n",
    "        param.requires_grad = False \n",
    "  ct += 1\n",
    "##  mds 200121 loss = Loss(epsilon=1e-5,coefficient=1.0)\n",
    "##  loss = Loss(epsilon=1e-5,coefficient=2.5)\n",
    "##loss = Loss(epsilon=3e-5, debug=False)\n",
    "loss = Loss(epsilon=3e-5)"
   ]
  },
  {
   "cell_type": "markdown",
   "metadata": {},
   "source": [
    "Let's move the model's weight matricies to the GPU:"
   ]
  },
  {
   "cell_type": "code",
   "execution_count": 11,
   "metadata": {
    "scrolled": true
   },
   "outputs": [],
   "source": [
    "model = model.to(device)"
   ]
  },
  {
   "cell_type": "code",
   "execution_count": 12,
   "metadata": {
    "scrolled": true
   },
   "outputs": [],
   "source": [
    "optimizer = torch.optim.Adam(model.parameters(), lr=learning_rate)\n",
    "##optimizer = torch.optim.SGD(model.parameters(), lr=learning_rate)"
   ]
  },
  {
   "cell_type": "code",
   "execution_count": 13,
   "metadata": {
    "scrolled": true
   },
   "outputs": [
    {
     "name": "stdout",
     "output_type": "stream",
     "text": [
      "output =  ML_dir/03Feb_DDplus_loss_Ba_iter24_floatAll_150epochs_1p5em5_4xwill\n",
      "for model_dict\n",
      "index, k =   0    layer1.weight\n",
      "index, k =   1    layer1.bias\n",
      "index, k =   2    layer2.weight\n",
      "index, k =   3    layer2.bias\n",
      "index, k =   4    layer3.weight\n",
      "index, k =   5    layer3.bias\n",
      "index, k =   6    layer4.weight\n",
      "index, k =   7    layer4.bias\n",
      "index, k =   8    layer5.weight\n",
      "index, k =   9    layer5.bias\n",
      "index, k =   10    layer6.weight\n",
      "index, k =   11    layer6.bias\n",
      "index, k =   12    layer7.weight\n",
      "index, k =   13    layer7.bias\n",
      "index, k =   14    layer8.weight\n",
      "index, k =   15    layer8.bias\n",
      "index, k =   16    layer9.weight\n",
      "index, k =   17    layer9.bias\n",
      "index, k =   18    layer10.weight\n",
      "index, k =   19    layer10.bias\n",
      "index, k =   20    layer11.weight\n",
      "index, k =   21    layer11.bias\n",
      "index, k =   22    layer12new.weight\n",
      "index, k =   23    layer12new.bias\n",
      "index, k =   24    conv1.weight\n",
      "index, k =   25    conv1.bias\n",
      "index, k =   26    conv2.weight\n",
      "index, k =   27    conv2.bias\n",
      "index, k =   28    fc1.weight\n",
      "index, k =   29    fc1.bias\n",
      "index, k =   30    finalFilter.weight\n",
      "index, k =   31    finalFilter.bias\n",
      "dict_name =  ML_dir/02Feb_DDplus_loss_Ba_iter23_floatAll_80epochs_1p5em5_4xwill/02Feb_DDplus_loss_Ba_iter23_floatAll_80epochs_1p5em5_4xwill_final.pyt\n",
      " \n",
      "  for pretrained_dict\n",
      "index, k =   0    layer1.weight\n",
      "index, k =   1    layer1.bias\n",
      "index, k =   2    layer2.weight\n",
      "index, k =   3    layer2.bias\n",
      "index, k =   4    layer3.weight\n",
      "index, k =   5    layer3.bias\n",
      "index, k =   6    layer4.weight\n",
      "index, k =   7    layer4.bias\n",
      "index, k =   8    layer5.weight\n",
      "index, k =   9    layer5.bias\n",
      "index, k =   10    layer6.weight\n",
      "index, k =   11    layer6.bias\n",
      "index, k =   12    layer7.weight\n",
      "index, k =   13    layer7.bias\n",
      "index, k =   14    layer8.weight\n",
      "index, k =   15    layer8.bias\n",
      "index, k =   16    layer9.weight\n",
      "index, k =   17    layer9.bias\n",
      "index, k =   18    layer10.weight\n",
      "index, k =   19    layer10.bias\n",
      "index, k =   20    layer11.weight\n",
      "index, k =   21    layer11.bias\n",
      "index, k =   22    layer12new.weight\n",
      "index, k =   23    layer12new.bias\n",
      "index, k =   24    conv1.weight\n",
      "index, k =   25    conv1.bias\n",
      "index, k =   26    conv2.weight\n",
      "index, k =   27    conv2.bias\n",
      "index, k =   28    fc1.weight\n",
      "index, k =   29    fc1.bias\n",
      "index, k =   30    finalFilter.weight\n",
      "index, k =   31    finalFilter.bias\n",
      "pretrained_dict iterated\n"
     ]
    },
    {
     "data": {
      "text/plain": [
       "<All keys matched successfully>"
      ]
     },
     "execution_count": 13,
     "metadata": {},
     "output_type": "execute_result"
    }
   ],
   "source": [
    "print('output = ',output)\n",
    "##print('oldOutput = ',oldOutput)\n",
    "##  use the first four layers from a pre-existing model\n",
    "##  see example at https://discuss.pytorch.org/t/how-to-load-part-of-pre-trained-model/1113\n",
    "\n",
    "##   ML -> /share/lazy/sokoloff/ML\n",
    "model_dict = model.state_dict()\n",
    "## mds 190725 for debugging\n",
    "print(\"for model_dict\")\n",
    "index = 0\n",
    "for k,v in model_dict.items():\n",
    "    print(\"index, k =  \",index,\"  \",k)\n",
    "    index = index+1\n",
    "##    print(\"value = \", v)\n",
    " \n",
    "updated_dict = model_dict\n",
    "##print(\"updated_dict = \",updated_dict)\n",
    "## when starting \"ab initio\", reduce biases as the bias gets summed for each track\n",
    "## contributing to the predicted KDE\n",
    "updated_dict[\"layer1.bias\"] = 0.005*model_dict[\"layer1.bias\"]\n",
    "updated_dict[\"layer2.bias\"] = 0.005*model_dict[\"layer2.bias\"]\n",
    "updated_dict[\"layer3.bias\"] = 0.005*model_dict[\"layer3.bias\"]\n",
    "updated_dict[\"layer4.bias\"] = 0.005*model_dict[\"layer4.bias\"]\n",
    "updated_dict[\"layer5.bias\"] = 0.005*model_dict[\"layer5.bias\"]\n",
    "updated_dict[\"layer6.bias\"] = 0.005*model_dict[\"layer6.bias\"]\n",
    "updated_dict[\"layer7.bias\"] = 0.005*model_dict[\"layer7.bias\"]\n",
    "updated_dict[\"layer8.bias\"] = 0.005*model_dict[\"layer8.bias\"]\n",
    "updated_dict[\"layer9.bias\"] = 0.005*model_dict[\"layer9.bias\"]\n",
    "updated_dict[\"layer10.bias\"] = 0.005*model_dict[\"layer10.bias\"]\n",
    "updated_dict[\"layer11.bias\"] = 0.005*model_dict[\"layer11.bias\"]\n",
    "\n",
    "model.load_state_dict(updated_dict,strict=False)\n",
    "\n",
    "model_dict = model.state_dict()\n",
    "##print(\"updated model_dict = \",model_dict)\n",
    "\n",
    "## print(\" \\n\",\"  for pretrained_dict\")\n",
    "## index = 0\n",
    "##for k,v in pretrained_dict.items():\n",
    "##    print(\"index, k =  \",index,\"  \",k)\n",
    "##    index = index+1\n",
    "## mds  \n",
    "\n",
    "##pretrained_dict = torch.load('ML/29July2020_Trks_to_KDE_C_lossB_100epochs_b64_1m3_nOut_50x50/29July2020_Trks_to_KDE_C_lossB_100epochs_b64_1m3_nOut_50x50_final.pyt')\n",
    "##print(\"model_dict instantiated\")\n",
    "# 1. filter out unnecessary keys\n",
    "##pretrained_dict = {k: v for k, v in pretrained_dict.items() if k in model_dict}\n",
    "##print(\"pretrained_dict iterated\")\n",
    "# 2. overwrite entries in the existing state dict\n",
    "##model_dict.update(pretrained_dict) \n",
    "##\n",
    "#   when starting from a model with a fully connected last layer rather than a convolutional layer\n",
    "# 3. load the new state dict\n",
    "#   need to use strict=False as the two models state model attributes do not agree exactly\n",
    "#   see https://pytorch.org/docs/master/_modules/torch/nn/modules/module.html#Module.load_state_dict\n",
    "\n",
    "##model.load_state_dict(pretrained_dict,strict=False)\n",
    "\n",
    "## print('model_dict =    ', model_dict)\n",
    "\n",
    "## finished at training cost = 1.46, validation cost = 1.50\n",
    "##d_folder = '25December__DDplus_loss_Ba_iter7_floatAll_800epochs_4em6'\n",
    "d_folder = '02Feb_DDplus_loss_Ba_iter23_floatAll_80epochs_1p5em5_4xwill'\n",
    "d_name = d_folder\n",
    "##  for 24Jan_DDplus_loss_Ba_iter17_floatAll_150epochs_1p5em5_4xwill use suffix 87\n",
    "##  as this is the last epoch that ran before I killed the job (don't ask)\n",
    "suffix = 'final'\n",
    "dict_name = 'ML_dir/' + d_folder + '/' + d_name + '_'+ suffix + '.pyt'\n",
    "print('dict_name = ',dict_name)\n",
    "pretrained_dict = torch.load(dict_name)\n",
    "\n",
    "print(\" \")\n",
    "print(\"  for pretrained_dict\")\n",
    "index = 0\n",
    "for k,v in pretrained_dict.items():\n",
    "    print(\"index, k =  \",index,\"  \",k)\n",
    "    index = index+1\n",
    " \n",
    "\n",
    "##print(\"model_dict instantiated\")\n",
    "# 1. filter out unnecessary keys\n",
    "pretrained_dict = {k: v for k, v in pretrained_dict.items() if k in model_dict}\n",
    "print(\"pretrained_dict iterated\")\n",
    "# 2. overwrite entries in the existing state dict\n",
    "model_dict.update(pretrained_dict) \n",
    "##\n",
    "#   when starting from a model with a fully connected last layer rather than a convolutional layer\n",
    "# 3. load the new state dict\n",
    "#   need to use strict=False as the two models state model attributes do not agree exactly\n",
    "#   see https://pytorch.org/docs/master/_modules/torch/nn/modules/module.html#Module.load_state_dict\n",
    "\n",
    "model.load_state_dict(pretrained_dict,strict=False)\n",
    "\n"
   ]
  },
  {
   "cell_type": "code",
   "execution_count": 14,
   "metadata": {},
   "outputs": [],
   "source": [
    "##print('validation.dataset.tensors = ',validation.dataset.tensors)\n",
    "fig_size = plt.rcParams[\"figure.figsize\"]\n",
    "fig_size[0] = 10\n",
    "fig_size[1] = 4\n",
    "plt.rcParams[\"figure.figsize\"] = fig_size"
   ]
  },
  {
   "cell_type": "code",
   "execution_count": 15,
   "metadata": {},
   "outputs": [
    {
     "name": "stdout",
     "output_type": "stream",
     "text": [
      "Loading data...\n",
      "pocaMx.shape =  (80000,)\n",
      "nEvts =  80000\n",
      "len(pocaMx[0]) =  199\n",
      "len(pocaMx[1]) =  25\n",
      "len(pocaMx[2]) =  369\n",
      "len(pocaMx[3]) =  143\n",
      "len(pocaMx[4]) =  160\n",
      "majorAxis.shape =  (80000, 3)\n",
      "minorAxis_1.shape =  (80000, 3)\n",
      "minorAxis_2.shape =  (80000, 3)\n",
      "have entered six_ellipsoid_parameters\n",
      "  \n",
      " \n",
      "  nEvts =  80000\n",
      " iEvt, nTrks =  0 199\n",
      " iEvt, nTrks =  1 25\n",
      " iEvt, nTrks =  2 369\n",
      " iEvt, nTrks =  3 143\n",
      " iEvt, nTrks =  4 160\n",
      " iEvt, nTrks =  5 260\n",
      " iEvt, nTrks =  6 237\n",
      " iEvt, nTrks =  7 327\n",
      " iEvt, nTrks =  8 178\n",
      " iEvt, nTrks =  9 106\n",
      "A.shape =  (80000,)\n",
      "majorAxis[iTrk][0][0] =  0.00045611936\n",
      "majorAxis[iTrk][1][0] =  -4.8292455e-05\n",
      "majorAxis[iTrk][2][0] =  0.090019904\n",
      "minorAxis_1[iTrk][0][0] =  -1.8602173\n",
      "minorAxis_1[iTrk][1][0] =  -17.569641\n",
      "minorAxis_1[iTrk][2][0] =  4.7891795e-08\n",
      "minorAxis_2[iTrk][0][0] =  -17.569414\n",
      "minorAxis_2[iTrk][1][0] =  1.8601931\n",
      "minorAxis_2[iTrk][2][0] =  0.0900199\n",
      "  \n",
      "majorAxis[iTrk][0][0] =  0.002360258\n",
      "majorAxis[iTrk][1][0] =  -0.007426616\n",
      "majorAxis[iTrk][2][0] =  0.3710108\n",
      "minorAxis_1[iTrk][0][0] =  -16.837948\n",
      "minorAxis_1[iTrk][1][0] =  -5.3512807\n",
      "minorAxis_1[iTrk][2][0] =  8.157131e-09\n",
      "minorAxis_2[iTrk][0][0] =  -5.3501005\n",
      "minorAxis_2[iTrk][1][0] =  16.834236\n",
      "minorAxis_2[iTrk][2][0] =  0.3710108\n",
      "  \n",
      "majorAxis[iTrk][0][0] =  6.220712e-05\n",
      "majorAxis[iTrk][1][0] =  -4.4594188e-05\n",
      "majorAxis[iTrk][2][0] =  0.036773544\n",
      "minorAxis_1[iTrk][0][0] =  10.293747\n",
      "minorAxis_1[iTrk][1][0] =  14.359369\n",
      "minorAxis_1[iTrk][2][0] =  1.571041e-06\n",
      "minorAxis_2[iTrk][0][0] =  14.359338\n",
      "minorAxis_2[iTrk][1][0] =  -10.293725\n",
      "minorAxis_2[iTrk][2][0] =  -0.03677354\n",
      "  \n",
      "majorAxis[iTrk][0][0] =  0.0033452737\n",
      "majorAxis[iTrk][1][0] =  0.00013028442\n",
      "majorAxis[iTrk][2][0] =  0.2431933\n",
      "minorAxis_1[iTrk][0][0] =  0.6875674\n",
      "minorAxis_1[iTrk][1][0] =  -17.65446\n",
      "minorAxis_1[iTrk][2][0] =  -6.6602626e-09\n",
      "minorAxis_2[iTrk][0][0] =  -17.652788\n",
      "minorAxis_2[iTrk][1][0] =  -0.68750226\n",
      "minorAxis_2[iTrk][2][0] =  0.2431933\n",
      "  \n",
      "majorAxis[iTrk][0][0] =  -0.00068196515\n",
      "majorAxis[iTrk][1][0] =  -0.00044562915\n",
      "majorAxis[iTrk][2][0] =  0.119970225\n",
      "minorAxis_1[iTrk][0][0] =  9.664597\n",
      "minorAxis_1[iTrk][1][0] =  -14.790141\n",
      "minorAxis_1[iTrk][2][0] =  1.9819232e-08\n",
      "minorAxis_2[iTrk][0][0] =  -14.789802\n",
      "minorAxis_2[iTrk][1][0] =  -9.664374\n",
      "minorAxis_2[iTrk][2][0] =  -0.11997023\n",
      "  \n",
      "majorAxis[iTrk][0][0] =  -8.245073e-05\n",
      "majorAxis[iTrk][1][0] =  0.00015860004\n",
      "majorAxis[iTrk][2][0] =  0.05619731\n",
      "minorAxis_1[iTrk][0][0] =  -15.676071\n",
      "minorAxis_1[iTrk][1][0] =  -8.149452\n",
      "minorAxis_1[iTrk][2][0] =  4.1105773e-07\n",
      "minorAxis_2[iTrk][0][0] =  -8.14941\n",
      "minorAxis_2[iTrk][1][0] =  15.675991\n",
      "minorAxis_2[iTrk][2][0] =  -0.056197315\n",
      "  \n",
      "majorAxis[iTrk][0][0] =  -0.00015151131\n",
      "majorAxis[iTrk][1][0] =  0.00067339616\n",
      "majorAxis[iTrk][2][0] =  0.11042937\n",
      "minorAxis_1[iTrk][0][0] =  17.236937\n",
      "minorAxis_1[iTrk][1][0] =  3.8782384\n",
      "minorAxis_1[iTrk][2][0] =  2.3217373e-08\n",
      "minorAxis_2[iTrk][0][0] =  3.8781626\n",
      "minorAxis_2[iTrk][1][0] =  -17.236599\n",
      "minorAxis_2[iTrk][2][0] =  0.11042936\n",
      "  \n",
      "majorAxis[iTrk][0][0] =  -7.577422e-05\n",
      "majorAxis[iTrk][1][0] =  -0.00036802414\n",
      "majorAxis[iTrk][2][0] =  0.08147708\n",
      "minorAxis_1[iTrk][0][0] =  -17.304853\n",
      "minorAxis_1[iTrk][1][0] =  3.5629773\n",
      "minorAxis_1[iTrk][2][0] =  5.80501e-09\n",
      "minorAxis_2[iTrk][0][0] =  3.5629392\n",
      "minorAxis_2[iTrk][1][0] =  17.304668\n",
      "minorAxis_2[iTrk][2][0] =  0.081477076\n",
      "  \n",
      "majorAxis[iTrk][0][0] =  0.00013397264\n",
      "majorAxis[iTrk][1][0] =  0.00094400026\n",
      "majorAxis[iTrk][2][0] =  0.12978876\n",
      "minorAxis_1[iTrk][0][0] =  17.492561\n",
      "minorAxis_1[iTrk][1][0] =  -2.4825466\n",
      "minorAxis_1[iTrk][2][0] =  1.1329301e-08\n",
      "minorAxis_2[iTrk][0][0] =  -2.4824798\n",
      "minorAxis_2[iTrk][1][0] =  -17.492088\n",
      "minorAxis_2[iTrk][2][0] =  0.12978874\n",
      "  \n",
      "majorAxis[iTrk][0][0] =  0.00043501743\n",
      "majorAxis[iTrk][1][0] =  -0.0016521378\n",
      "majorAxis[iTrk][2][0] =  0.17373301\n",
      "minorAxis_1[iTrk][0][0] =  -17.0855\n",
      "minorAxis_1[iTrk][1][0] =  -4.4987106\n",
      "minorAxis_1[iTrk][2][0] =  -7.7275175e-08\n",
      "minorAxis_2[iTrk][0][0] =  -4.4984937\n",
      "minorAxis_2[iTrk][1][0] =  17.084677\n",
      "minorAxis_2[iTrk][2][0] =  0.17373303\n",
      "  \n",
      "len(X) =  80000\n",
      "len(Xlist) =  1\n",
      "Loaded /share/lazy/will/data/June30_2020_80k_1.h5 in 153.1 s\n",
      "pocaMx.shape =  (80000,)\n",
      "nEvts =  80000\n",
      "len(pocaMx[0]) =  222\n",
      "len(pocaMx[1]) =  133\n",
      "len(pocaMx[2]) =  259\n",
      "len(pocaMx[3]) =  114\n",
      "len(pocaMx[4]) =  143\n",
      "majorAxis.shape =  (80000, 3)\n",
      "minorAxis_1.shape =  (80000, 3)\n",
      "minorAxis_2.shape =  (80000, 3)\n",
      "have entered six_ellipsoid_parameters\n",
      "  \n",
      " \n",
      "  nEvts =  80000\n",
      " iEvt, nTrks =  0 222\n",
      " iEvt, nTrks =  1 133\n",
      " iEvt, nTrks =  2 259\n",
      " iEvt, nTrks =  3 114\n",
      " iEvt, nTrks =  4 143\n",
      " iEvt, nTrks =  5 136\n",
      " iEvt, nTrks =  6 397\n",
      " iEvt, nTrks =  7 370\n",
      " iEvt, nTrks =  8 97\n",
      " iEvt, nTrks =  9 67\n",
      "A.shape =  (80000,)\n",
      "majorAxis[iTrk][0][0] =  -0.001036478\n",
      "majorAxis[iTrk][1][0] =  0.0009833863\n",
      "majorAxis[iTrk][2][0] =  0.15887721\n",
      "minorAxis_1[iTrk][0][0] =  -12.160475\n",
      "minorAxis_1[iTrk][1][0] =  -12.817002\n",
      "minorAxis_1[iTrk][2][0] =  0.0\n",
      "minorAxis_2[iTrk][0][0] =  -12.816484\n",
      "minorAxis_2[iTrk][1][0] =  12.159985\n",
      "minorAxis_2[iTrk][2][0] =  -0.15887721\n",
      "  \n",
      "majorAxis[iTrk][0][0] =  0.0016579849\n",
      "majorAxis[iTrk][1][0] =  0.0020989499\n",
      "majorAxis[iTrk][2][0] =  0.21738033\n",
      "minorAxis_1[iTrk][0][0] =  -13.864233\n",
      "minorAxis_1[iTrk][1][0] =  10.95152\n",
      "minorAxis_1[iTrk][2][0] =  -3.3017489e-09\n",
      "minorAxis_2[iTrk][0][0] =  10.95069\n",
      "minorAxis_2[iTrk][1][0] =  13.863184\n",
      "minorAxis_2[iTrk][2][0] =  -0.21738033\n",
      "  \n",
      "majorAxis[iTrk][0][0] =  0.00012481198\n",
      "majorAxis[iTrk][1][0] =  -0.00028747538\n",
      "majorAxis[iTrk][2][0] =  0.07441149\n",
      "minorAxis_1[iTrk][0][0] =  -16.206305\n",
      "minorAxis_1[iTrk][1][0] =  -7.036224\n",
      "minorAxis_1[iTrk][2][0] =  5.3456716e-08\n",
      "minorAxis_2[iTrk][0][0] =  -7.0361605\n",
      "minorAxis_2[iTrk][1][0] =  16.20616\n",
      "minorAxis_2[iTrk][2][0] =  0.07441148\n",
      "  \n",
      "majorAxis[iTrk][0][0] =  -0.007920195\n",
      "majorAxis[iTrk][1][0] =  -0.009694931\n",
      "majorAxis[iTrk][2][0] =  0.47021532\n",
      "minorAxis_1[iTrk][0][0] =  -13.682467\n",
      "minorAxis_1[iTrk][1][0] =  11.177781\n",
      "minorAxis_1[iTrk][2][0] =  1.8638048e-10\n",
      "minorAxis_2[iTrk][0][0] =  11.173822\n",
      "minorAxis_2[iTrk][1][0] =  13.677622\n",
      "minorAxis_2[iTrk][2][0] =  0.47021535\n",
      "  \n",
      "majorAxis[iTrk][0][0] =  0.00038854493\n",
      "majorAxis[iTrk][1][0] =  0.0009230774\n",
      "majorAxis[iTrk][2][0] =  0.13301943\n",
      "minorAxis_1[iTrk][0][0] =  -16.284061\n",
      "minorAxis_1[iTrk][1][0] =  6.854344\n",
      "minorAxis_1[iTrk][2][0] =  2.2469074e-07\n",
      "minorAxis_2[iTrk][0][0] =  6.8541493\n",
      "minorAxis_2[iTrk][1][0] =  16.283602\n",
      "minorAxis_2[iTrk][2][0] =  -0.13301945\n",
      "  \n",
      "majorAxis[iTrk][0][0] =  -5.6093595e-05\n",
      "majorAxis[iTrk][1][0] =  0.000114469876\n",
      "majorAxis[iTrk][2][0] =  0.04745733\n",
      "minorAxis_1[iTrk][0][0] =  15.865369\n",
      "minorAxis_1[iTrk][1][0] =  7.774496\n",
      "minorAxis_1[iTrk][2][0] =  1.8465234e-06\n",
      "minorAxis_2[iTrk][0][0] =  7.774468\n",
      "minorAxis_2[iTrk][1][0] =  -15.865313\n",
      "minorAxis_2[iTrk][2][0] =  0.04745733\n",
      "  \n",
      "majorAxis[iTrk][0][0] =  9.375396e-05\n",
      "majorAxis[iTrk][1][0] =  0.0002926058\n",
      "majorAxis[iTrk][2][0] =  0.07367872\n",
      "minorAxis_1[iTrk][0][0] =  -16.825275\n",
      "minorAxis_1[iTrk][1][0] =  5.390994\n",
      "minorAxis_1[iTrk][2][0] =  -2.1861728e-08\n",
      "minorAxis_2[iTrk][0][0] =  5.3909473\n",
      "minorAxis_2[iTrk][1][0] =  16.825129\n",
      "minorAxis_2[iTrk][2][0] =  -0.07367872\n",
      "  \n",
      "majorAxis[iTrk][0][0] =  -1.1543522e-06\n",
      "majorAxis[iTrk][1][0] =  2.8112001e-05\n",
      "majorAxis[iTrk][2][0] =  0.022295665\n",
      "minorAxis_1[iTrk][0][0] =  -17.652967\n",
      "minorAxis_1[iTrk][1][0] =  -0.7248769\n",
      "minorAxis_1[iTrk][2][0] =  1.7815448e-07\n",
      "minorAxis_2[iTrk][0][0] =  -0.7248763\n",
      "minorAxis_2[iTrk][1][0] =  17.652954\n",
      "minorAxis_2[iTrk][2][0] =  -0.022295661\n",
      "  \n",
      "majorAxis[iTrk][0][0] =  -0.2612214\n",
      "majorAxis[iTrk][1][0] =  0.83076316\n",
      "majorAxis[iTrk][2][0] =  3.8745012\n",
      "minorAxis_1[iTrk][0][0] =  -16.85429\n",
      "minorAxis_1[iTrk][1][0] =  -5.299587\n",
      "minorAxis_1[iTrk][2][0] =  2.0865195e-11\n",
      "minorAxis_2[iTrk][0][0] =  -5.1705856\n",
      "minorAxis_2[iTrk][1][0] =  16.444027\n",
      "minorAxis_2[iTrk][2][0] =  -3.874501\n",
      "  \n",
      "majorAxis[iTrk][0][0] =  -0.057592034\n",
      "majorAxis[iTrk][1][0] =  0.06503555\n",
      "majorAxis[iTrk][2][0] =  1.2373537\n",
      "minorAxis_1[iTrk][0][0] =  13.227038\n",
      "minorAxis_1[iTrk][1][0] =  11.713163\n",
      "minorAxis_1[iTrk][2][0] =  1.7679876e-10\n",
      "minorAxis_2[iTrk][0][0] =  11.684402\n",
      "minorAxis_2[iTrk][1][0] =  -13.194561\n",
      "minorAxis_2[iTrk][2][0] =  1.2373537\n",
      "  \n",
      "len(X) =  80000\n",
      "len(Xlist) =  2\n",
      "Loaded /share/lazy/will/data/June30_2020_80k_2.h5 in 152.9 s\n",
      "pocaMx.shape =  (80000,)\n"
     ]
    },
    {
     "name": "stdout",
     "output_type": "stream",
     "text": [
      "nEvts =  80000\n",
      "len(pocaMx[0]) =  196\n",
      "len(pocaMx[1]) =  35\n",
      "len(pocaMx[2]) =  265\n",
      "len(pocaMx[3]) =  128\n",
      "len(pocaMx[4]) =  124\n",
      "majorAxis.shape =  (80000, 3)\n",
      "minorAxis_1.shape =  (80000, 3)\n",
      "minorAxis_2.shape =  (80000, 3)\n",
      "have entered six_ellipsoid_parameters\n",
      "  \n",
      " \n",
      "  nEvts =  80000\n",
      " iEvt, nTrks =  0 196\n",
      " iEvt, nTrks =  1 35\n",
      " iEvt, nTrks =  2 265\n",
      " iEvt, nTrks =  3 128\n",
      " iEvt, nTrks =  4 124\n",
      " iEvt, nTrks =  5 122\n",
      " iEvt, nTrks =  6 300\n",
      " iEvt, nTrks =  7 179\n",
      " iEvt, nTrks =  8 243\n",
      " iEvt, nTrks =  9 112\n",
      "A.shape =  (80000,)\n",
      "majorAxis[iTrk][0][0] =  -2.440992e-05\n",
      "majorAxis[iTrk][1][0] =  -0.00038087237\n",
      "majorAxis[iTrk][2][0] =  0.08211532\n",
      "minorAxis_1[iTrk][0][0] =  -17.631672\n",
      "minorAxis_1[iTrk][1][0] =  1.130005\n",
      "minorAxis_1[iTrk][2][0] =  4.7444193e-08\n",
      "minorAxis_2[iTrk][0][0] =  1.1299927\n",
      "minorAxis_2[iTrk][1][0] =  17.631481\n",
      "minorAxis_2[iTrk][2][0] =  0.08211532\n",
      "  \n",
      "majorAxis[iTrk][0][0] =  -0.02277395\n",
      "majorAxis[iTrk][1][0] =  0.0014473597\n",
      "majorAxis[iTrk][2][0] =  0.6347583\n",
      "minorAxis_1[iTrk][0][0] =  -1.1205891\n",
      "minorAxis_1[iTrk][1][0] =  -17.632273\n",
      "minorAxis_1[iTrk][2][0] =  2.1543272e-09\n",
      "minorAxis_2[iTrk][0][0] =  -17.620888\n",
      "minorAxis_2[iTrk][1][0] =  1.1198657\n",
      "minorAxis_2[iTrk][2][0] =  -0.63475823\n",
      "  \n",
      "majorAxis[iTrk][0][0] =  0.0004024825\n",
      "majorAxis[iTrk][1][0] =  -0.00023784715\n",
      "majorAxis[iTrk][2][0] =  0.090883136\n",
      "minorAxis_1[iTrk][0][0] =  -8.988615\n",
      "minorAxis_1[iTrk][1][0] =  -15.210441\n",
      "minorAxis_1[iTrk][2][0] =  -6.56547e-08\n",
      "minorAxis_2[iTrk][0][0] =  -15.21024\n",
      "minorAxis_2[iTrk][1][0] =  8.988497\n",
      "minorAxis_2[iTrk][2][0] =  0.090883136\n",
      "  \n",
      "majorAxis[iTrk][0][0] =  0.0068744724\n",
      "majorAxis[iTrk][1][0] =  0.0017050834\n",
      "majorAxis[iTrk][2][0] =  0.3537121\n",
      "minorAxis_1[iTrk][0][0] =  4.2532983\n",
      "minorAxis_1[iTrk][1][0] =  -17.148241\n",
      "minorAxis_1[iTrk][2][0] =  1.1939819e-09\n",
      "minorAxis_2[iTrk][0][0] =  -17.144806\n",
      "minorAxis_2[iTrk][1][0] =  -4.252446\n",
      "minorAxis_2[iTrk][2][0] =  0.3537121\n",
      "  \n",
      "majorAxis[iTrk][0][0] =  -0.004920899\n",
      "majorAxis[iTrk][1][0] =  0.0009170567\n",
      "majorAxis[iTrk][2][0] =  0.2973651\n",
      "minorAxis_1[iTrk][0][0] =  -3.236844\n",
      "minorAxis_1[iTrk][1][0] =  -17.36881\n",
      "minorAxis_1[iTrk][2][0] =  -4.7397712e-09\n",
      "minorAxis_2[iTrk][0][0] =  -17.36635\n",
      "minorAxis_2[iTrk][1][0] =  3.2363856\n",
      "minorAxis_2[iTrk][2][0] =  -0.29736507\n",
      "  \n",
      "majorAxis[iTrk][0][0] =  -0.0001240533\n",
      "majorAxis[iTrk][1][0] =  0.00033394952\n",
      "majorAxis[iTrk][2][0] =  0.079335004\n",
      "minorAxis_1[iTrk][0][0] =  -16.562042\n",
      "minorAxis_1[iTrk][1][0] =  -6.1523557\n",
      "minorAxis_1[iTrk][2][0] =  3.1261713e-08\n",
      "minorAxis_2[iTrk][0][0] =  -6.1522937\n",
      "minorAxis_2[iTrk][1][0] =  16.561876\n",
      "minorAxis_2[iTrk][2][0] =  -0.079335004\n",
      "  \n",
      "majorAxis[iTrk][0][0] =  0.00010132754\n",
      "majorAxis[iTrk][1][0] =  6.684385e-05\n",
      "majorAxis[iTrk][2][0] =  0.046310693\n",
      "minorAxis_1[iTrk][0][0] =  -9.728917\n",
      "minorAxis_1[iTrk][1][0] =  14.747911\n",
      "minorAxis_1[iTrk][2][0] =  -2.3591362e-07\n",
      "minorAxis_2[iTrk][0][0] =  14.74786\n",
      "minorAxis_2[iTrk][1][0] =  9.728883\n",
      "minorAxis_2[iTrk][2][0] =  -0.04631069\n",
      "  \n",
      "majorAxis[iTrk][0][0] =  0.0042806785\n",
      "majorAxis[iTrk][1][0] =  0.004939851\n",
      "majorAxis[iTrk][2][0] =  0.3398017\n",
      "minorAxis_1[iTrk][0][0] =  13.3521\n",
      "minorAxis_1[iTrk][1][0] =  -11.5704\n",
      "minorAxis_1[iTrk][2][0] =  1.21654296e-08\n",
      "minorAxis_2[iTrk][0][0] =  -11.56826\n",
      "minorAxis_2[iTrk][1][0] =  -13.349631\n",
      "minorAxis_2[iTrk][2][0] =  0.33980173\n",
      "  \n",
      "majorAxis[iTrk][0][0] =  -0.00013103899\n",
      "majorAxis[iTrk][1][0] =  -0.0006021903\n",
      "majorAxis[iTrk][2][0] =  0.10434653\n",
      "minorAxis_1[iTrk][0][0] =  -17.26384\n",
      "minorAxis_1[iTrk][1][0] =  3.7566798\n",
      "minorAxis_1[iTrk][2][0] =  -9.616703e-08\n",
      "minorAxis_2[iTrk][0][0] =  3.7566135\n",
      "minorAxis_2[iTrk][1][0] =  17.263535\n",
      "minorAxis_2[iTrk][2][0] =  0.10434652\n",
      "  \n",
      "majorAxis[iTrk][0][0] =  0.0016481678\n",
      "majorAxis[iTrk][1][0] =  -0.0019788505\n",
      "majorAxis[iTrk][2][0] =  0.21330062\n",
      "minorAxis_1[iTrk][0][0] =  -13.575765\n",
      "minorAxis_1[iTrk][1][0] =  -11.307139\n",
      "minorAxis_1[iTrk][2][0] =  8.543098e-09\n",
      "minorAxis_2[iTrk][0][0] =  -11.306314\n",
      "minorAxis_2[iTrk][1][0] =  13.574774\n",
      "minorAxis_2[iTrk][2][0] =  0.21330062\n",
      "  \n",
      "len(X) =  80000\n",
      "len(Xlist) =  3\n",
      "Loaded /share/lazy/will/data/June30_2020_80k_3.h5 in 151.7 s\n",
      "pocaMx.shape =  (80000,)\n",
      "nEvts =  80000\n",
      "len(pocaMx[0]) =  204\n",
      "len(pocaMx[1]) =  33\n",
      "len(pocaMx[2]) =  206\n",
      "len(pocaMx[3]) =  150\n",
      "len(pocaMx[4]) =  96\n",
      "majorAxis.shape =  (80000, 3)\n",
      "minorAxis_1.shape =  (80000, 3)\n",
      "minorAxis_2.shape =  (80000, 3)\n",
      "have entered six_ellipsoid_parameters\n",
      "  \n",
      " \n",
      "  nEvts =  80000\n",
      " iEvt, nTrks =  0 204\n",
      " iEvt, nTrks =  1 33\n",
      " iEvt, nTrks =  2 206\n",
      " iEvt, nTrks =  3 150\n",
      " iEvt, nTrks =  4 96\n",
      " iEvt, nTrks =  5 10\n",
      " iEvt, nTrks =  6 174\n",
      " iEvt, nTrks =  7 320\n",
      " iEvt, nTrks =  8 164\n",
      " iEvt, nTrks =  9 119\n",
      "A.shape =  (80000,)\n",
      "majorAxis[iTrk][0][0] =  0.00057876867\n",
      "majorAxis[iTrk][1][0] =  0.00037603904\n",
      "majorAxis[iTrk][2][0] =  0.110427074\n",
      "minorAxis_1[iTrk][0][0] =  9.62588\n",
      "minorAxis_1[iTrk][1][0] =  -14.81537\n",
      "minorAxis_1[iTrk][2][0] =  8.391163e-09\n",
      "minorAxis_2[iTrk][0][0] =  -14.815081\n",
      "minorAxis_2[iTrk][1][0] =  -9.625692\n",
      "minorAxis_2[iTrk][2][0] =  0.11042709\n",
      "  \n",
      "majorAxis[iTrk][0][0] =  -7.687664e-05\n",
      "majorAxis[iTrk][1][0] =  -0.0017985329\n",
      "majorAxis[iTrk][2][0] =  0.17833562\n",
      "minorAxis_1[iTrk][0][0] =  -17.651728\n",
      "minorAxis_1[iTrk][1][0] =  0.7545069\n",
      "minorAxis_1[iTrk][2][0] =  -7.932265e-09\n",
      "minorAxis_2[iTrk][0][0] =  0.75446844\n",
      "minorAxis_2[iTrk][1][0] =  17.650827\n",
      "minorAxis_2[iTrk][2][0] =  0.17833562\n",
      "  \n",
      "majorAxis[iTrk][0][0] =  4.5855802e-05\n",
      "majorAxis[iTrk][1][0] =  -0.00054240844\n",
      "majorAxis[iTrk][2][0] =  0.098067455\n",
      "minorAxis_1[iTrk][0][0] =  17.605043\n",
      "minorAxis_1[iTrk][1][0] =  1.4883496\n",
      "minorAxis_1[iTrk][2][0] =  -2.7847218e-08\n",
      "minorAxis_2[iTrk][0][0] =  1.4883265\n",
      "minorAxis_2[iTrk][1][0] =  -17.604773\n",
      "minorAxis_2[iTrk][2][0] =  -0.098067455\n",
      "  \n",
      "majorAxis[iTrk][0][0] =  -0.0013144773\n",
      "majorAxis[iTrk][1][0] =  0.0008680699\n",
      "majorAxis[iTrk][2][0] =  0.16682307\n",
      "minorAxis_1[iTrk][0][0] =  -9.736217\n",
      "minorAxis_1[iTrk][1][0] =  -14.743094\n",
      "minorAxis_1[iTrk][2][0] =  -1.7552136e-08\n",
      "minorAxis_2[iTrk][0][0] =  -14.742435\n",
      "minorAxis_2[iTrk][1][0] =  9.735782\n",
      "minorAxis_2[iTrk][2][0] =  -0.16682304\n",
      "  \n",
      "majorAxis[iTrk][0][0] =  0.032227762\n",
      "majorAxis[iTrk][1][0] =  0.007741693\n",
      "majorAxis[iTrk][2][0] =  0.76488173\n",
      "minorAxis_1[iTrk][0][0] =  -4.1267405\n",
      "minorAxis_1[iTrk][1][0] =  17.179138\n",
      "minorAxis_1[iTrk][2][0] =  -2.3529467e-10\n",
      "minorAxis_2[iTrk][0][0] =  17.16303\n",
      "minorAxis_2[iTrk][1][0] =  4.122871\n",
      "minorAxis_2[iTrk][2][0] =  -0.7648817\n",
      "  \n",
      "majorAxis[iTrk][0][0] =  1.9753945\n",
      "majorAxis[iTrk][1][0] =  2.5669005\n",
      "majorAxis[iTrk][2][0] =  7.226382\n",
      "minorAxis_1[iTrk][0][0] =  14.0017\n",
      "minorAxis_1[iTrk][1][0] =  -10.7752075\n",
      "minorAxis_1[iTrk][2][0] =  5.3286344e-11\n",
      "minorAxis_2[iTrk][0][0] =  -9.832683\n",
      "minorAxis_2[iTrk][1][0] =  -12.776951\n",
      "minorAxis_2[iTrk][2][0] =  7.226381\n",
      "  \n",
      "majorAxis[iTrk][0][0] =  -0.0026900356\n",
      "majorAxis[iTrk][1][0] =  -0.0015841618\n",
      "majorAxis[iTrk][2][0] =  0.234843\n",
      "minorAxis_1[iTrk][0][0] =  -8.965469\n",
      "minorAxis_1[iTrk][1][0] =  15.224096\n",
      "minorAxis_1[iTrk][2][0] =  2.8236277e-08\n",
      "minorAxis_2[iTrk][0][0] =  15.222751\n",
      "minorAxis_2[iTrk][1][0] =  8.964677\n",
      "minorAxis_2[iTrk][2][0] =  0.234843\n",
      "  \n",
      "majorAxis[iTrk][0][0] =  -0.0001692281\n",
      "majorAxis[iTrk][1][0] =  0.0003505444\n",
      "majorAxis[iTrk][2][0] =  0.08292902\n",
      "minorAxis_1[iTrk][0][0] =  -15.910811\n",
      "minorAxis_1[iTrk][1][0] =  -7.68107\n",
      "minorAxis_1[iTrk][2][0] =  1.587002e-08\n",
      "minorAxis_2[iTrk][0][0] =  -7.680986\n",
      "minorAxis_2[iTrk][1][0] =  15.910635\n",
      "minorAxis_2[iTrk][2][0] =  -0.08292903\n",
      "  \n",
      "majorAxis[iTrk][0][0] =  0.0017714669\n",
      "majorAxis[iTrk][1][0] =  -0.001515166\n",
      "majorAxis[iTrk][2][0] =  0.20293355\n",
      "minorAxis_1[iTrk][0][0] =  11.483943\n",
      "minorAxis_1[iTrk][1][0] =  13.426532\n",
      "minorAxis_1[iTrk][2][0] =  -2.7840934e-09\n",
      "minorAxis_2[iTrk][0][0] =  13.425648\n",
      "minorAxis_2[iTrk][1][0] =  -11.483187\n",
      "minorAxis_2[iTrk][2][0] =  -0.20293356\n",
      "  \n",
      "majorAxis[iTrk][0][0] =  0.0006359923\n",
      "majorAxis[iTrk][1][0] =  -0.0003371759\n",
      "majorAxis[iTrk][2][0] =  0.112773284\n",
      "minorAxis_1[iTrk][0][0] =  8.275655\n",
      "minorAxis_1[iTrk][1][0] =  15.609813\n",
      "minorAxis_1[iTrk][2][0] =  -5.6373224e-08\n",
      "minorAxis_2[iTrk][0][0] =  15.609494\n",
      "minorAxis_2[iTrk][1][0] =  -8.275486\n",
      "minorAxis_2[iTrk][2][0] =  -0.11277328\n",
      "  \n",
      "len(X) =  80000\n",
      "len(Xlist) =  4\n",
      "Loaded /share/lazy/will/data/June30_2020_80k_4.h5 in 157.4 s\n",
      "outer loop X.shape =  (320000, 9, 600)\n",
      "Constructing 320000 event dataset took 2.421 s\n",
      "x_t.shape =  torch.Size([320000, 9, 600])\n",
      "x_t.shape[0] =  320000\n",
      "x_t.shape[1] =  9\n",
      "x_t.shape =  torch.Size([320000, 9, 600])\n"
     ]
    }
   ],
   "source": [
    "## Training dataset. You can put as many files here as desired.\n",
    "\n",
    "##train_loader = collect_t2kde_data('/share/lazy/pv-finder/20k_evts_for_KDE_learning_200716.h5',\n",
    "train_loader = collect_t2kde_data('/share/lazy/will/data/June30_2020_80k_1.h5', \n",
    "                                  '/share/lazy/will/data/June30_2020_80k_2.h5',\n",
    "                                  '/share/lazy/will/data/June30_2020_80k_3.h5',\n",
    "                                  '/share/lazy/will/data/June30_2020_80k_4.h5',\n",
    "                                  #'/share/lazy/will/data/June30_2020_80k_5.h5',\n",
    "                                  #'/share/lazy/will/data/June30_2020_80k_6.h5',\n",
    "                                  #'/share/lazy/will/data/June30_2020_80k_7.h5',\n",
    "                             batch_size=batch_size,\n",
    "## if we are using a larger dataset (240K events, with the datasets above, and 11 GB  of GPU memory),\n",
    "## the dataset will overflow the GPU memory; device=device will allow the data to move back\n",
    "## and forth between the CPU and GPU memory. While this allows use of a larger dataset, it slows\n",
    "## down performance by about 10%.  So comment out when not needed.\n",
    "#                          device=device,\n",
    "##                           slice = slice(None,18000)\n",
    "                           )"
   ]
  },
  {
   "cell_type": "code",
   "execution_count": 16,
   "metadata": {
    "scrolled": false
   },
   "outputs": [
    {
     "name": "stdout",
     "output_type": "stream",
     "text": [
      "Loading data...\n",
      "pocaMx.shape =  (20000,)\n",
      "nEvts =  20000\n",
      "len(pocaMx[0]) =  211\n",
      "len(pocaMx[1]) =  21\n",
      "len(pocaMx[2]) =  20\n",
      "len(pocaMx[3]) =  198\n",
      "len(pocaMx[4]) =  233\n",
      "majorAxis.shape =  (20000, 3)\n",
      "minorAxis_1.shape =  (20000, 3)\n",
      "minorAxis_2.shape =  (20000, 3)\n",
      "have entered six_ellipsoid_parameters\n",
      "  \n",
      " \n",
      "  nEvts =  20000\n",
      " iEvt, nTrks =  0 211\n",
      " iEvt, nTrks =  1 21\n",
      " iEvt, nTrks =  2 20\n",
      " iEvt, nTrks =  3 198\n",
      " iEvt, nTrks =  4 233\n",
      " iEvt, nTrks =  5 85\n",
      " iEvt, nTrks =  6 223\n",
      " iEvt, nTrks =  7 425\n",
      " iEvt, nTrks =  8 252\n",
      " iEvt, nTrks =  9 169\n",
      "A.shape =  (20000,)\n",
      "majorAxis[iTrk][0][0] =  -0.00023452607\n",
      "majorAxis[iTrk][1][0] =  -0.00047206535\n",
      "majorAxis[iTrk][2][0] =  0.096502915\n",
      "minorAxis_1[iTrk][0][0] =  -15.822749\n",
      "minorAxis_1[iTrk][1][0] =  7.8608756\n",
      "minorAxis_1[iTrk][2][0] =  -2.6228399e-08\n",
      "minorAxis_2[iTrk][0][0] =  7.860759\n",
      "minorAxis_2[iTrk][1][0] =  15.822513\n",
      "minorAxis_2[iTrk][2][0] =  0.096502915\n",
      "  \n",
      "majorAxis[iTrk][0][0] =  -0.37655562\n",
      "majorAxis[iTrk][1][0] =  0.2768704\n",
      "majorAxis[iTrk][2][0] =  2.8546858\n",
      "minorAxis_1[iTrk][0][0] =  -10.466048\n",
      "minorAxis_1[iTrk][1][0] =  -14.234274\n",
      "minorAxis_1[iTrk][2][0] =  2.2974699e-11\n",
      "minorAxis_2[iTrk][0][0] =  -14.04724\n",
      "minorAxis_2[iTrk][1][0] =  10.328527\n",
      "minorAxis_2[iTrk][2][0] =  -2.8546853\n",
      "  \n",
      "majorAxis[iTrk][0][0] =  -0.024279848\n",
      "majorAxis[iTrk][1][0] =  0.0019689242\n",
      "majorAxis[iTrk][2][0] =  0.65580803\n",
      "minorAxis_1[iTrk][0][0] =  -1.4280497\n",
      "minorAxis_1[iTrk][1][0] =  -17.610037\n",
      "minorAxis_1[iTrk][2][0] =  -6.123401e-10\n",
      "minorAxis_2[iTrk][0][0] =  -17.597902\n",
      "minorAxis_2[iTrk][1][0] =  1.4270656\n",
      "minorAxis_2[iTrk][2][0] =  -0.6558081\n",
      "  \n",
      "majorAxis[iTrk][0][0] =  -0.007825993\n",
      "majorAxis[iTrk][1][0] =  0.004052097\n",
      "majorAxis[iTrk][2][0] =  0.3945435\n",
      "minorAxis_1[iTrk][0][0] =  8.123606\n",
      "minorAxis_1[iTrk][1][0] =  15.689478\n",
      "minorAxis_1[iTrk][2][0] =  -2.4940747e-10\n",
      "minorAxis_2[iTrk][0][0] =  15.685566\n",
      "minorAxis_2[iTrk][1][0] =  -8.12158\n",
      "minorAxis_2[iTrk][2][0] =  0.3945435\n",
      "  \n",
      "majorAxis[iTrk][0][0] =  0.0046102717\n",
      "majorAxis[iTrk][1][0] =  -0.0016007021\n",
      "majorAxis[iTrk][2][0] =  0.29361814\n",
      "minorAxis_1[iTrk][0][0] =  -5.794979\n",
      "minorAxis_1[iTrk][1][0] =  -16.690445\n",
      "minorAxis_1[iTrk][2][0] =  2.4897104e-09\n",
      "minorAxis_2[iTrk][0][0] =  -16.688139\n",
      "minorAxis_2[iTrk][1][0] =  5.794179\n",
      "minorAxis_2[iTrk][2][0] =  0.2936181\n",
      "  \n",
      "majorAxis[iTrk][0][0] =  -0.00020041714\n",
      "majorAxis[iTrk][1][0] =  0.00010468164\n",
      "majorAxis[iTrk][2][0] =  0.06320469\n",
      "minorAxis_1[iTrk][0][0] =  8.179679\n",
      "minorAxis_1[iTrk][1][0] =  15.660318\n",
      "minorAxis_1[iTrk][2][0] =  7.40176e-08\n",
      "minorAxis_2[iTrk][0][0] =  15.660218\n",
      "minorAxis_2[iTrk][1][0] =  -8.179626\n",
      "minorAxis_2[iTrk][2][0] =  0.06320469\n",
      "  \n",
      "majorAxis[iTrk][0][0] =  -0.00020603223\n",
      "majorAxis[iTrk][1][0] =  -0.0005662605\n",
      "majorAxis[iTrk][2][0] =  0.10317981\n",
      "minorAxis_1[iTrk][0][0] =  -16.603\n",
      "minorAxis_1[iTrk][1][0] =  6.040953\n",
      "minorAxis_1[iTrk][2][0] =  4.5812504e-07\n",
      "minorAxis_2[iTrk][0][0] =  6.0408506\n",
      "minorAxis_2[iTrk][1][0] =  16.602718\n",
      "minorAxis_2[iTrk][2][0] =  0.10317982\n",
      "  \n",
      "majorAxis[iTrk][0][0] =  -0.00040561036\n",
      "majorAxis[iTrk][1][0] =  0.00014461782\n",
      "majorAxis[iTrk][2][0] =  0.0872241\n",
      "minorAxis_1[iTrk][0][0] =  -5.933496\n",
      "minorAxis_1[iTrk][1][0] =  -16.641706\n",
      "minorAxis_1[iTrk][2][0] =  1.0720762e-08\n",
      "minorAxis_2[iTrk][0][0] =  -16.641502\n",
      "minorAxis_2[iTrk][1][0] =  5.9334235\n",
      "minorAxis_2[iTrk][2][0] =  -0.0872241\n",
      "  \n",
      "majorAxis[iTrk][0][0] =  0.00038461428\n",
      "majorAxis[iTrk][1][0] =  -3.4232737e-05\n",
      "majorAxis[iTrk][2][0] =  0.08259597\n",
      "minorAxis_1[iTrk][0][0] =  -1.5663412\n",
      "minorAxis_1[iTrk][1][0] =  -17.598276\n",
      "minorAxis_1[iTrk][2][0] =  3.2106848e-07\n",
      "minorAxis_2[iTrk][0][0] =  -17.598082\n",
      "minorAxis_2[iTrk][1][0] =  1.5663238\n",
      "minorAxis_2[iTrk][2][0] =  0.08259596\n",
      "  \n",
      "majorAxis[iTrk][0][0] =  -0.022277953\n",
      "majorAxis[iTrk][1][0] =  -0.0046837274\n",
      "majorAxis[iTrk][2][0] =  0.63399464\n",
      "minorAxis_1[iTrk][0][0] =  -3.6350286\n",
      "minorAxis_1[iTrk][1][0] =  17.289862\n",
      "minorAxis_1[iTrk][2][0] =  9.566169e-10\n",
      "minorAxis_2[iTrk][0][0] =  17.278727\n",
      "minorAxis_2[iTrk][1][0] =  3.6326876\n",
      "minorAxis_2[iTrk][2][0] =  0.6339946\n",
      "  \n",
      "len(X) =  20000\n",
      "len(Xlist) =  1\n",
      "Loaded dataAA/20K_POCA_kernel_evts_200926.h5 in 37.81 s\n",
      "outer loop X.shape =  (20000, 9, 600)\n",
      "Constructing 10000 event dataset took 0.1197 s\n",
      "x_t.shape =  torch.Size([10000, 9, 600])\n",
      "x_t.shape[0] =  10000\n",
      "x_t.shape[1] =  9\n",
      "x_t.shape =  torch.Size([10000, 9, 600])\n"
     ]
    }
   ],
   "source": [
    "                            \n",
    "# Validation dataset. You can slice to reduce the size.\n",
    "## mds no separate validation set yet,\n",
    "\n",
    "## For iter12, change slice(18000,None) to slice(10000,None)\n",
    "## First, we'll see if this changes the validation cost significantly\n",
    "##  Second, we will see if this reduces the validation cost fluctuations\n",
    "val_loader = collect_t2kde_data('dataAA/20K_POCA_kernel_evts_200926.h5',\n",
    "                            batch_size=batch_size,\n",
    "##                            device=device,\n",
    "                            slice = slice(10000,None)\n",
    "                           )"
   ]
  },
  {
   "cell_type": "code",
   "execution_count": 17,
   "metadata": {
    "scrolled": false
   },
   "outputs": [
    {
     "data": {
      "application/javascript": [
       "/* Put everything inside the global mpl namespace */\n",
       "window.mpl = {};\n",
       "\n",
       "\n",
       "mpl.get_websocket_type = function() {\n",
       "    if (typeof(WebSocket) !== 'undefined') {\n",
       "        return WebSocket;\n",
       "    } else if (typeof(MozWebSocket) !== 'undefined') {\n",
       "        return MozWebSocket;\n",
       "    } else {\n",
       "        alert('Your browser does not have WebSocket support. ' +\n",
       "              'Please try Chrome, Safari or Firefox ≥ 6. ' +\n",
       "              'Firefox 4 and 5 are also supported but you ' +\n",
       "              'have to enable WebSockets in about:config.');\n",
       "    };\n",
       "}\n",
       "\n",
       "mpl.figure = function(figure_id, websocket, ondownload, parent_element) {\n",
       "    this.id = figure_id;\n",
       "\n",
       "    this.ws = websocket;\n",
       "\n",
       "    this.supports_binary = (this.ws.binaryType != undefined);\n",
       "\n",
       "    if (!this.supports_binary) {\n",
       "        var warnings = document.getElementById(\"mpl-warnings\");\n",
       "        if (warnings) {\n",
       "            warnings.style.display = 'block';\n",
       "            warnings.textContent = (\n",
       "                \"This browser does not support binary websocket messages. \" +\n",
       "                    \"Performance may be slow.\");\n",
       "        }\n",
       "    }\n",
       "\n",
       "    this.imageObj = new Image();\n",
       "\n",
       "    this.context = undefined;\n",
       "    this.message = undefined;\n",
       "    this.canvas = undefined;\n",
       "    this.rubberband_canvas = undefined;\n",
       "    this.rubberband_context = undefined;\n",
       "    this.format_dropdown = undefined;\n",
       "\n",
       "    this.image_mode = 'full';\n",
       "\n",
       "    this.root = $('<div/>');\n",
       "    this._root_extra_style(this.root)\n",
       "    this.root.attr('style', 'display: inline-block');\n",
       "\n",
       "    $(parent_element).append(this.root);\n",
       "\n",
       "    this._init_header(this);\n",
       "    this._init_canvas(this);\n",
       "    this._init_toolbar(this);\n",
       "\n",
       "    var fig = this;\n",
       "\n",
       "    this.waiting = false;\n",
       "\n",
       "    this.ws.onopen =  function () {\n",
       "            fig.send_message(\"supports_binary\", {value: fig.supports_binary});\n",
       "            fig.send_message(\"send_image_mode\", {});\n",
       "            if (mpl.ratio != 1) {\n",
       "                fig.send_message(\"set_dpi_ratio\", {'dpi_ratio': mpl.ratio});\n",
       "            }\n",
       "            fig.send_message(\"refresh\", {});\n",
       "        }\n",
       "\n",
       "    this.imageObj.onload = function() {\n",
       "            if (fig.image_mode == 'full') {\n",
       "                // Full images could contain transparency (where diff images\n",
       "                // almost always do), so we need to clear the canvas so that\n",
       "                // there is no ghosting.\n",
       "                fig.context.clearRect(0, 0, fig.canvas.width, fig.canvas.height);\n",
       "            }\n",
       "            fig.context.drawImage(fig.imageObj, 0, 0);\n",
       "        };\n",
       "\n",
       "    this.imageObj.onunload = function() {\n",
       "        fig.ws.close();\n",
       "    }\n",
       "\n",
       "    this.ws.onmessage = this._make_on_message_function(this);\n",
       "\n",
       "    this.ondownload = ondownload;\n",
       "}\n",
       "\n",
       "mpl.figure.prototype._init_header = function() {\n",
       "    var titlebar = $(\n",
       "        '<div class=\"ui-dialog-titlebar ui-widget-header ui-corner-all ' +\n",
       "        'ui-helper-clearfix\"/>');\n",
       "    var titletext = $(\n",
       "        '<div class=\"ui-dialog-title\" style=\"width: 100%; ' +\n",
       "        'text-align: center; padding: 3px;\"/>');\n",
       "    titlebar.append(titletext)\n",
       "    this.root.append(titlebar);\n",
       "    this.header = titletext[0];\n",
       "}\n",
       "\n",
       "\n",
       "\n",
       "mpl.figure.prototype._canvas_extra_style = function(canvas_div) {\n",
       "\n",
       "}\n",
       "\n",
       "\n",
       "mpl.figure.prototype._root_extra_style = function(canvas_div) {\n",
       "\n",
       "}\n",
       "\n",
       "mpl.figure.prototype._init_canvas = function() {\n",
       "    var fig = this;\n",
       "\n",
       "    var canvas_div = $('<div/>');\n",
       "\n",
       "    canvas_div.attr('style', 'position: relative; clear: both; outline: 0');\n",
       "\n",
       "    function canvas_keyboard_event(event) {\n",
       "        return fig.key_event(event, event['data']);\n",
       "    }\n",
       "\n",
       "    canvas_div.keydown('key_press', canvas_keyboard_event);\n",
       "    canvas_div.keyup('key_release', canvas_keyboard_event);\n",
       "    this.canvas_div = canvas_div\n",
       "    this._canvas_extra_style(canvas_div)\n",
       "    this.root.append(canvas_div);\n",
       "\n",
       "    var canvas = $('<canvas/>');\n",
       "    canvas.addClass('mpl-canvas');\n",
       "    canvas.attr('style', \"left: 0; top: 0; z-index: 0; outline: 0\")\n",
       "\n",
       "    this.canvas = canvas[0];\n",
       "    this.context = canvas[0].getContext(\"2d\");\n",
       "\n",
       "    var backingStore = this.context.backingStorePixelRatio ||\n",
       "\tthis.context.webkitBackingStorePixelRatio ||\n",
       "\tthis.context.mozBackingStorePixelRatio ||\n",
       "\tthis.context.msBackingStorePixelRatio ||\n",
       "\tthis.context.oBackingStorePixelRatio ||\n",
       "\tthis.context.backingStorePixelRatio || 1;\n",
       "\n",
       "    mpl.ratio = (window.devicePixelRatio || 1) / backingStore;\n",
       "\n",
       "    var rubberband = $('<canvas/>');\n",
       "    rubberband.attr('style', \"position: absolute; left: 0; top: 0; z-index: 1;\")\n",
       "\n",
       "    var pass_mouse_events = true;\n",
       "\n",
       "    canvas_div.resizable({\n",
       "        start: function(event, ui) {\n",
       "            pass_mouse_events = false;\n",
       "        },\n",
       "        resize: function(event, ui) {\n",
       "            fig.request_resize(ui.size.width, ui.size.height);\n",
       "        },\n",
       "        stop: function(event, ui) {\n",
       "            pass_mouse_events = true;\n",
       "            fig.request_resize(ui.size.width, ui.size.height);\n",
       "        },\n",
       "    });\n",
       "\n",
       "    function mouse_event_fn(event) {\n",
       "        if (pass_mouse_events)\n",
       "            return fig.mouse_event(event, event['data']);\n",
       "    }\n",
       "\n",
       "    rubberband.mousedown('button_press', mouse_event_fn);\n",
       "    rubberband.mouseup('button_release', mouse_event_fn);\n",
       "    // Throttle sequential mouse events to 1 every 20ms.\n",
       "    rubberband.mousemove('motion_notify', mouse_event_fn);\n",
       "\n",
       "    rubberband.mouseenter('figure_enter', mouse_event_fn);\n",
       "    rubberband.mouseleave('figure_leave', mouse_event_fn);\n",
       "\n",
       "    canvas_div.on(\"wheel\", function (event) {\n",
       "        event = event.originalEvent;\n",
       "        event['data'] = 'scroll'\n",
       "        if (event.deltaY < 0) {\n",
       "            event.step = 1;\n",
       "        } else {\n",
       "            event.step = -1;\n",
       "        }\n",
       "        mouse_event_fn(event);\n",
       "    });\n",
       "\n",
       "    canvas_div.append(canvas);\n",
       "    canvas_div.append(rubberband);\n",
       "\n",
       "    this.rubberband = rubberband;\n",
       "    this.rubberband_canvas = rubberband[0];\n",
       "    this.rubberband_context = rubberband[0].getContext(\"2d\");\n",
       "    this.rubberband_context.strokeStyle = \"#000000\";\n",
       "\n",
       "    this._resize_canvas = function(width, height) {\n",
       "        // Keep the size of the canvas, canvas container, and rubber band\n",
       "        // canvas in synch.\n",
       "        canvas_div.css('width', width)\n",
       "        canvas_div.css('height', height)\n",
       "\n",
       "        canvas.attr('width', width * mpl.ratio);\n",
       "        canvas.attr('height', height * mpl.ratio);\n",
       "        canvas.attr('style', 'width: ' + width + 'px; height: ' + height + 'px;');\n",
       "\n",
       "        rubberband.attr('width', width);\n",
       "        rubberband.attr('height', height);\n",
       "    }\n",
       "\n",
       "    // Set the figure to an initial 600x600px, this will subsequently be updated\n",
       "    // upon first draw.\n",
       "    this._resize_canvas(600, 600);\n",
       "\n",
       "    // Disable right mouse context menu.\n",
       "    $(this.rubberband_canvas).bind(\"contextmenu\",function(e){\n",
       "        return false;\n",
       "    });\n",
       "\n",
       "    function set_focus () {\n",
       "        canvas.focus();\n",
       "        canvas_div.focus();\n",
       "    }\n",
       "\n",
       "    window.setTimeout(set_focus, 100);\n",
       "}\n",
       "\n",
       "mpl.figure.prototype._init_toolbar = function() {\n",
       "    var fig = this;\n",
       "\n",
       "    var nav_element = $('<div/>');\n",
       "    nav_element.attr('style', 'width: 100%');\n",
       "    this.root.append(nav_element);\n",
       "\n",
       "    // Define a callback function for later on.\n",
       "    function toolbar_event(event) {\n",
       "        return fig.toolbar_button_onclick(event['data']);\n",
       "    }\n",
       "    function toolbar_mouse_event(event) {\n",
       "        return fig.toolbar_button_onmouseover(event['data']);\n",
       "    }\n",
       "\n",
       "    for(var toolbar_ind in mpl.toolbar_items) {\n",
       "        var name = mpl.toolbar_items[toolbar_ind][0];\n",
       "        var tooltip = mpl.toolbar_items[toolbar_ind][1];\n",
       "        var image = mpl.toolbar_items[toolbar_ind][2];\n",
       "        var method_name = mpl.toolbar_items[toolbar_ind][3];\n",
       "\n",
       "        if (!name) {\n",
       "            // put a spacer in here.\n",
       "            continue;\n",
       "        }\n",
       "        var button = $('<button/>');\n",
       "        button.addClass('ui-button ui-widget ui-state-default ui-corner-all ' +\n",
       "                        'ui-button-icon-only');\n",
       "        button.attr('role', 'button');\n",
       "        button.attr('aria-disabled', 'false');\n",
       "        button.click(method_name, toolbar_event);\n",
       "        button.mouseover(tooltip, toolbar_mouse_event);\n",
       "\n",
       "        var icon_img = $('<span/>');\n",
       "        icon_img.addClass('ui-button-icon-primary ui-icon');\n",
       "        icon_img.addClass(image);\n",
       "        icon_img.addClass('ui-corner-all');\n",
       "\n",
       "        var tooltip_span = $('<span/>');\n",
       "        tooltip_span.addClass('ui-button-text');\n",
       "        tooltip_span.html(tooltip);\n",
       "\n",
       "        button.append(icon_img);\n",
       "        button.append(tooltip_span);\n",
       "\n",
       "        nav_element.append(button);\n",
       "    }\n",
       "\n",
       "    var fmt_picker_span = $('<span/>');\n",
       "\n",
       "    var fmt_picker = $('<select/>');\n",
       "    fmt_picker.addClass('mpl-toolbar-option ui-widget ui-widget-content');\n",
       "    fmt_picker_span.append(fmt_picker);\n",
       "    nav_element.append(fmt_picker_span);\n",
       "    this.format_dropdown = fmt_picker[0];\n",
       "\n",
       "    for (var ind in mpl.extensions) {\n",
       "        var fmt = mpl.extensions[ind];\n",
       "        var option = $(\n",
       "            '<option/>', {selected: fmt === mpl.default_extension}).html(fmt);\n",
       "        fmt_picker.append(option);\n",
       "    }\n",
       "\n",
       "    // Add hover states to the ui-buttons\n",
       "    $( \".ui-button\" ).hover(\n",
       "        function() { $(this).addClass(\"ui-state-hover\");},\n",
       "        function() { $(this).removeClass(\"ui-state-hover\");}\n",
       "    );\n",
       "\n",
       "    var status_bar = $('<span class=\"mpl-message\"/>');\n",
       "    nav_element.append(status_bar);\n",
       "    this.message = status_bar[0];\n",
       "}\n",
       "\n",
       "mpl.figure.prototype.request_resize = function(x_pixels, y_pixels) {\n",
       "    // Request matplotlib to resize the figure. Matplotlib will then trigger a resize in the client,\n",
       "    // which will in turn request a refresh of the image.\n",
       "    this.send_message('resize', {'width': x_pixels, 'height': y_pixels});\n",
       "}\n",
       "\n",
       "mpl.figure.prototype.send_message = function(type, properties) {\n",
       "    properties['type'] = type;\n",
       "    properties['figure_id'] = this.id;\n",
       "    this.ws.send(JSON.stringify(properties));\n",
       "}\n",
       "\n",
       "mpl.figure.prototype.send_draw_message = function() {\n",
       "    if (!this.waiting) {\n",
       "        this.waiting = true;\n",
       "        this.ws.send(JSON.stringify({type: \"draw\", figure_id: this.id}));\n",
       "    }\n",
       "}\n",
       "\n",
       "\n",
       "mpl.figure.prototype.handle_save = function(fig, msg) {\n",
       "    var format_dropdown = fig.format_dropdown;\n",
       "    var format = format_dropdown.options[format_dropdown.selectedIndex].value;\n",
       "    fig.ondownload(fig, format);\n",
       "}\n",
       "\n",
       "\n",
       "mpl.figure.prototype.handle_resize = function(fig, msg) {\n",
       "    var size = msg['size'];\n",
       "    if (size[0] != fig.canvas.width || size[1] != fig.canvas.height) {\n",
       "        fig._resize_canvas(size[0], size[1]);\n",
       "        fig.send_message(\"refresh\", {});\n",
       "    };\n",
       "}\n",
       "\n",
       "mpl.figure.prototype.handle_rubberband = function(fig, msg) {\n",
       "    var x0 = msg['x0'] / mpl.ratio;\n",
       "    var y0 = (fig.canvas.height - msg['y0']) / mpl.ratio;\n",
       "    var x1 = msg['x1'] / mpl.ratio;\n",
       "    var y1 = (fig.canvas.height - msg['y1']) / mpl.ratio;\n",
       "    x0 = Math.floor(x0) + 0.5;\n",
       "    y0 = Math.floor(y0) + 0.5;\n",
       "    x1 = Math.floor(x1) + 0.5;\n",
       "    y1 = Math.floor(y1) + 0.5;\n",
       "    var min_x = Math.min(x0, x1);\n",
       "    var min_y = Math.min(y0, y1);\n",
       "    var width = Math.abs(x1 - x0);\n",
       "    var height = Math.abs(y1 - y0);\n",
       "\n",
       "    fig.rubberband_context.clearRect(\n",
       "        0, 0, fig.canvas.width / mpl.ratio, fig.canvas.height / mpl.ratio);\n",
       "\n",
       "    fig.rubberband_context.strokeRect(min_x, min_y, width, height);\n",
       "}\n",
       "\n",
       "mpl.figure.prototype.handle_figure_label = function(fig, msg) {\n",
       "    // Updates the figure title.\n",
       "    fig.header.textContent = msg['label'];\n",
       "}\n",
       "\n",
       "mpl.figure.prototype.handle_cursor = function(fig, msg) {\n",
       "    var cursor = msg['cursor'];\n",
       "    switch(cursor)\n",
       "    {\n",
       "    case 0:\n",
       "        cursor = 'pointer';\n",
       "        break;\n",
       "    case 1:\n",
       "        cursor = 'default';\n",
       "        break;\n",
       "    case 2:\n",
       "        cursor = 'crosshair';\n",
       "        break;\n",
       "    case 3:\n",
       "        cursor = 'move';\n",
       "        break;\n",
       "    }\n",
       "    fig.rubberband_canvas.style.cursor = cursor;\n",
       "}\n",
       "\n",
       "mpl.figure.prototype.handle_message = function(fig, msg) {\n",
       "    fig.message.textContent = msg['message'];\n",
       "}\n",
       "\n",
       "mpl.figure.prototype.handle_draw = function(fig, msg) {\n",
       "    // Request the server to send over a new figure.\n",
       "    fig.send_draw_message();\n",
       "}\n",
       "\n",
       "mpl.figure.prototype.handle_image_mode = function(fig, msg) {\n",
       "    fig.image_mode = msg['mode'];\n",
       "}\n",
       "\n",
       "mpl.figure.prototype.updated_canvas_event = function() {\n",
       "    // Called whenever the canvas gets updated.\n",
       "    this.send_message(\"ack\", {});\n",
       "}\n",
       "\n",
       "// A function to construct a web socket function for onmessage handling.\n",
       "// Called in the figure constructor.\n",
       "mpl.figure.prototype._make_on_message_function = function(fig) {\n",
       "    return function socket_on_message(evt) {\n",
       "        if (evt.data instanceof Blob) {\n",
       "            /* FIXME: We get \"Resource interpreted as Image but\n",
       "             * transferred with MIME type text/plain:\" errors on\n",
       "             * Chrome.  But how to set the MIME type?  It doesn't seem\n",
       "             * to be part of the websocket stream */\n",
       "            evt.data.type = \"image/png\";\n",
       "\n",
       "            /* Free the memory for the previous frames */\n",
       "            if (fig.imageObj.src) {\n",
       "                (window.URL || window.webkitURL).revokeObjectURL(\n",
       "                    fig.imageObj.src);\n",
       "            }\n",
       "\n",
       "            fig.imageObj.src = (window.URL || window.webkitURL).createObjectURL(\n",
       "                evt.data);\n",
       "            fig.updated_canvas_event();\n",
       "            fig.waiting = false;\n",
       "            return;\n",
       "        }\n",
       "        else if (typeof evt.data === 'string' && evt.data.slice(0, 21) == \"data:image/png;base64\") {\n",
       "            fig.imageObj.src = evt.data;\n",
       "            fig.updated_canvas_event();\n",
       "            fig.waiting = false;\n",
       "            return;\n",
       "        }\n",
       "\n",
       "        var msg = JSON.parse(evt.data);\n",
       "        var msg_type = msg['type'];\n",
       "\n",
       "        // Call the  \"handle_{type}\" callback, which takes\n",
       "        // the figure and JSON message as its only arguments.\n",
       "        try {\n",
       "            var callback = fig[\"handle_\" + msg_type];\n",
       "        } catch (e) {\n",
       "            console.log(\"No handler for the '\" + msg_type + \"' message type: \", msg);\n",
       "            return;\n",
       "        }\n",
       "\n",
       "        if (callback) {\n",
       "            try {\n",
       "                // console.log(\"Handling '\" + msg_type + \"' message: \", msg);\n",
       "                callback(fig, msg);\n",
       "            } catch (e) {\n",
       "                console.log(\"Exception inside the 'handler_\" + msg_type + \"' callback:\", e, e.stack, msg);\n",
       "            }\n",
       "        }\n",
       "    };\n",
       "}\n",
       "\n",
       "// from http://stackoverflow.com/questions/1114465/getting-mouse-location-in-canvas\n",
       "mpl.findpos = function(e) {\n",
       "    //this section is from http://www.quirksmode.org/js/events_properties.html\n",
       "    var targ;\n",
       "    if (!e)\n",
       "        e = window.event;\n",
       "    if (e.target)\n",
       "        targ = e.target;\n",
       "    else if (e.srcElement)\n",
       "        targ = e.srcElement;\n",
       "    if (targ.nodeType == 3) // defeat Safari bug\n",
       "        targ = targ.parentNode;\n",
       "\n",
       "    // jQuery normalizes the pageX and pageY\n",
       "    // pageX,Y are the mouse positions relative to the document\n",
       "    // offset() returns the position of the element relative to the document\n",
       "    var x = e.pageX - $(targ).offset().left;\n",
       "    var y = e.pageY - $(targ).offset().top;\n",
       "\n",
       "    return {\"x\": x, \"y\": y};\n",
       "};\n",
       "\n",
       "/*\n",
       " * return a copy of an object with only non-object keys\n",
       " * we need this to avoid circular references\n",
       " * http://stackoverflow.com/a/24161582/3208463\n",
       " */\n",
       "function simpleKeys (original) {\n",
       "  return Object.keys(original).reduce(function (obj, key) {\n",
       "    if (typeof original[key] !== 'object')\n",
       "        obj[key] = original[key]\n",
       "    return obj;\n",
       "  }, {});\n",
       "}\n",
       "\n",
       "mpl.figure.prototype.mouse_event = function(event, name) {\n",
       "    var canvas_pos = mpl.findpos(event)\n",
       "\n",
       "    if (name === 'button_press')\n",
       "    {\n",
       "        this.canvas.focus();\n",
       "        this.canvas_div.focus();\n",
       "    }\n",
       "\n",
       "    var x = canvas_pos.x * mpl.ratio;\n",
       "    var y = canvas_pos.y * mpl.ratio;\n",
       "\n",
       "    this.send_message(name, {x: x, y: y, button: event.button,\n",
       "                             step: event.step,\n",
       "                             guiEvent: simpleKeys(event)});\n",
       "\n",
       "    /* This prevents the web browser from automatically changing to\n",
       "     * the text insertion cursor when the button is pressed.  We want\n",
       "     * to control all of the cursor setting manually through the\n",
       "     * 'cursor' event from matplotlib */\n",
       "    event.preventDefault();\n",
       "    return false;\n",
       "}\n",
       "\n",
       "mpl.figure.prototype._key_event_extra = function(event, name) {\n",
       "    // Handle any extra behaviour associated with a key event\n",
       "}\n",
       "\n",
       "mpl.figure.prototype.key_event = function(event, name) {\n",
       "\n",
       "    // Prevent repeat events\n",
       "    if (name == 'key_press')\n",
       "    {\n",
       "        if (event.which === this._key)\n",
       "            return;\n",
       "        else\n",
       "            this._key = event.which;\n",
       "    }\n",
       "    if (name == 'key_release')\n",
       "        this._key = null;\n",
       "\n",
       "    var value = '';\n",
       "    if (event.ctrlKey && event.which != 17)\n",
       "        value += \"ctrl+\";\n",
       "    if (event.altKey && event.which != 18)\n",
       "        value += \"alt+\";\n",
       "    if (event.shiftKey && event.which != 16)\n",
       "        value += \"shift+\";\n",
       "\n",
       "    value += 'k';\n",
       "    value += event.which.toString();\n",
       "\n",
       "    this._key_event_extra(event, name);\n",
       "\n",
       "    this.send_message(name, {key: value,\n",
       "                             guiEvent: simpleKeys(event)});\n",
       "    return false;\n",
       "}\n",
       "\n",
       "mpl.figure.prototype.toolbar_button_onclick = function(name) {\n",
       "    if (name == 'download') {\n",
       "        this.handle_save(this, null);\n",
       "    } else {\n",
       "        this.send_message(\"toolbar_button\", {name: name});\n",
       "    }\n",
       "};\n",
       "\n",
       "mpl.figure.prototype.toolbar_button_onmouseover = function(tooltip) {\n",
       "    this.message.textContent = tooltip;\n",
       "};\n",
       "mpl.toolbar_items = [[\"Home\", \"Reset original view\", \"fa fa-home icon-home\", \"home\"], [\"Back\", \"Back to previous view\", \"fa fa-arrow-left icon-arrow-left\", \"back\"], [\"Forward\", \"Forward to next view\", \"fa fa-arrow-right icon-arrow-right\", \"forward\"], [\"\", \"\", \"\", \"\"], [\"Pan\", \"Pan axes with left mouse, zoom with right\", \"fa fa-arrows icon-move\", \"pan\"], [\"Zoom\", \"Zoom to rectangle\", \"fa fa-square-o icon-check-empty\", \"zoom\"], [\"\", \"\", \"\", \"\"], [\"Download\", \"Download plot\", \"fa fa-floppy-o icon-save\", \"download\"]];\n",
       "\n",
       "mpl.extensions = [\"eps\", \"jpeg\", \"pdf\", \"png\", \"ps\", \"raw\", \"svg\", \"tif\"];\n",
       "\n",
       "mpl.default_extension = \"png\";var comm_websocket_adapter = function(comm) {\n",
       "    // Create a \"websocket\"-like object which calls the given IPython comm\n",
       "    // object with the appropriate methods. Currently this is a non binary\n",
       "    // socket, so there is still some room for performance tuning.\n",
       "    var ws = {};\n",
       "\n",
       "    ws.close = function() {\n",
       "        comm.close()\n",
       "    };\n",
       "    ws.send = function(m) {\n",
       "        //console.log('sending', m);\n",
       "        comm.send(m);\n",
       "    };\n",
       "    // Register the callback with on_msg.\n",
       "    comm.on_msg(function(msg) {\n",
       "        //console.log('receiving', msg['content']['data'], msg);\n",
       "        // Pass the mpl event to the overridden (by mpl) onmessage function.\n",
       "        ws.onmessage(msg['content']['data'])\n",
       "    });\n",
       "    return ws;\n",
       "}\n",
       "\n",
       "mpl.mpl_figure_comm = function(comm, msg) {\n",
       "    // This is the function which gets called when the mpl process\n",
       "    // starts-up an IPython Comm through the \"matplotlib\" channel.\n",
       "\n",
       "    var id = msg.content.data.id;\n",
       "    // Get hold of the div created by the display call when the Comm\n",
       "    // socket was opened in Python.\n",
       "    var element = $(\"#\" + id);\n",
       "    var ws_proxy = comm_websocket_adapter(comm)\n",
       "\n",
       "    function ondownload(figure, format) {\n",
       "        window.open(figure.imageObj.src);\n",
       "    }\n",
       "\n",
       "    var fig = new mpl.figure(id, ws_proxy,\n",
       "                           ondownload,\n",
       "                           element.get(0));\n",
       "\n",
       "    // Call onopen now - mpl needs it, as it is assuming we've passed it a real\n",
       "    // web socket which is closed, not our websocket->open comm proxy.\n",
       "    ws_proxy.onopen();\n",
       "\n",
       "    fig.parent_element = element.get(0);\n",
       "    fig.cell_info = mpl.find_output_cell(\"<div id='\" + id + \"'></div>\");\n",
       "    if (!fig.cell_info) {\n",
       "        console.error(\"Failed to find cell for figure\", id, fig);\n",
       "        return;\n",
       "    }\n",
       "\n",
       "    var output_index = fig.cell_info[2]\n",
       "    var cell = fig.cell_info[0];\n",
       "\n",
       "};\n",
       "\n",
       "mpl.figure.prototype.handle_close = function(fig, msg) {\n",
       "    var width = fig.canvas.width/mpl.ratio\n",
       "    fig.root.unbind('remove')\n",
       "\n",
       "    // Update the output cell to use the data from the current canvas.\n",
       "    fig.push_to_output();\n",
       "    var dataURL = fig.canvas.toDataURL();\n",
       "    // Re-enable the keyboard manager in IPython - without this line, in FF,\n",
       "    // the notebook keyboard shortcuts fail.\n",
       "    IPython.keyboard_manager.enable()\n",
       "    $(fig.parent_element).html('<img src=\"' + dataURL + '\" width=\"' + width + '\">');\n",
       "    fig.close_ws(fig, msg);\n",
       "}\n",
       "\n",
       "mpl.figure.prototype.close_ws = function(fig, msg){\n",
       "    fig.send_message('closing', msg);\n",
       "    // fig.ws.close()\n",
       "}\n",
       "\n",
       "mpl.figure.prototype.push_to_output = function(remove_interactive) {\n",
       "    // Turn the data on the canvas into data in the output cell.\n",
       "    var width = this.canvas.width/mpl.ratio\n",
       "    var dataURL = this.canvas.toDataURL();\n",
       "    this.cell_info[1]['text/html'] = '<img src=\"' + dataURL + '\" width=\"' + width + '\">';\n",
       "}\n",
       "\n",
       "mpl.figure.prototype.updated_canvas_event = function() {\n",
       "    // Tell IPython that the notebook contents must change.\n",
       "    IPython.notebook.set_dirty(true);\n",
       "    this.send_message(\"ack\", {});\n",
       "    var fig = this;\n",
       "    // Wait a second, then push the new image to the DOM so\n",
       "    // that it is saved nicely (might be nice to debounce this).\n",
       "    setTimeout(function () { fig.push_to_output() }, 1000);\n",
       "}\n",
       "\n",
       "mpl.figure.prototype._init_toolbar = function() {\n",
       "    var fig = this;\n",
       "\n",
       "    var nav_element = $('<div/>');\n",
       "    nav_element.attr('style', 'width: 100%');\n",
       "    this.root.append(nav_element);\n",
       "\n",
       "    // Define a callback function for later on.\n",
       "    function toolbar_event(event) {\n",
       "        return fig.toolbar_button_onclick(event['data']);\n",
       "    }\n",
       "    function toolbar_mouse_event(event) {\n",
       "        return fig.toolbar_button_onmouseover(event['data']);\n",
       "    }\n",
       "\n",
       "    for(var toolbar_ind in mpl.toolbar_items){\n",
       "        var name = mpl.toolbar_items[toolbar_ind][0];\n",
       "        var tooltip = mpl.toolbar_items[toolbar_ind][1];\n",
       "        var image = mpl.toolbar_items[toolbar_ind][2];\n",
       "        var method_name = mpl.toolbar_items[toolbar_ind][3];\n",
       "\n",
       "        if (!name) { continue; };\n",
       "\n",
       "        var button = $('<button class=\"btn btn-default\" href=\"#\" title=\"' + name + '\"><i class=\"fa ' + image + ' fa-lg\"></i></button>');\n",
       "        button.click(method_name, toolbar_event);\n",
       "        button.mouseover(tooltip, toolbar_mouse_event);\n",
       "        nav_element.append(button);\n",
       "    }\n",
       "\n",
       "    // Add the status bar.\n",
       "    var status_bar = $('<span class=\"mpl-message\" style=\"text-align:right; float: right;\"/>');\n",
       "    nav_element.append(status_bar);\n",
       "    this.message = status_bar[0];\n",
       "\n",
       "    // Add the close button to the window.\n",
       "    var buttongrp = $('<div class=\"btn-group inline pull-right\"></div>');\n",
       "    var button = $('<button class=\"btn btn-mini btn-primary\" href=\"#\" title=\"Stop Interaction\"><i class=\"fa fa-power-off icon-remove icon-large\"></i></button>');\n",
       "    button.click(function (evt) { fig.handle_close(fig, {}); } );\n",
       "    button.mouseover('Stop Interaction', toolbar_mouse_event);\n",
       "    buttongrp.append(button);\n",
       "    var titlebar = this.root.find($('.ui-dialog-titlebar'));\n",
       "    titlebar.prepend(buttongrp);\n",
       "}\n",
       "\n",
       "mpl.figure.prototype._root_extra_style = function(el){\n",
       "    var fig = this\n",
       "    el.on(\"remove\", function(){\n",
       "\tfig.close_ws(fig, {});\n",
       "    });\n",
       "}\n",
       "\n",
       "mpl.figure.prototype._canvas_extra_style = function(el){\n",
       "    // this is important to make the div 'focusable\n",
       "    el.attr('tabindex', 0)\n",
       "    // reach out to IPython and tell the keyboard manager to turn it's self\n",
       "    // off when our div gets focus\n",
       "\n",
       "    // location in version 3\n",
       "    if (IPython.notebook.keyboard_manager) {\n",
       "        IPython.notebook.keyboard_manager.register_events(el);\n",
       "    }\n",
       "    else {\n",
       "        // location in version 2\n",
       "        IPython.keyboard_manager.register_events(el);\n",
       "    }\n",
       "\n",
       "}\n",
       "\n",
       "mpl.figure.prototype._key_event_extra = function(event, name) {\n",
       "    var manager = IPython.notebook.keyboard_manager;\n",
       "    if (!manager)\n",
       "        manager = IPython.keyboard_manager;\n",
       "\n",
       "    // Check for shift+enter\n",
       "    if (event.shiftKey && event.which == 13) {\n",
       "        this.canvas_div.blur();\n",
       "        // select the cell after this one\n",
       "        var index = IPython.notebook.find_cell_index(this.cell_info[0]);\n",
       "        IPython.notebook.select(index + 1);\n",
       "    }\n",
       "}\n",
       "\n",
       "mpl.figure.prototype.handle_save = function(fig, msg) {\n",
       "    fig.ondownload(fig, null);\n",
       "}\n",
       "\n",
       "\n",
       "mpl.find_output_cell = function(html_output) {\n",
       "    // Return the cell and output element which can be found *uniquely* in the notebook.\n",
       "    // Note - this is a bit hacky, but it is done because the \"notebook_saving.Notebook\"\n",
       "    // IPython event is triggered only after the cells have been serialised, which for\n",
       "    // our purposes (turning an active figure into a static one), is too late.\n",
       "    var cells = IPython.notebook.get_cells();\n",
       "    var ncells = cells.length;\n",
       "    for (var i=0; i<ncells; i++) {\n",
       "        var cell = cells[i];\n",
       "        if (cell.cell_type === 'code'){\n",
       "            for (var j=0; j<cell.output_area.outputs.length; j++) {\n",
       "                var data = cell.output_area.outputs[j];\n",
       "                if (data.data) {\n",
       "                    // IPython >= 3 moved mimebundle to data attribute of output\n",
       "                    data = data.data;\n",
       "                }\n",
       "                if (data['text/html'] == html_output) {\n",
       "                    return [cell, data, j];\n",
       "                }\n",
       "            }\n",
       "        }\n",
       "    }\n",
       "}\n",
       "\n",
       "// Register the function which deals with the matplotlib target/channel.\n",
       "// The kernel may be null if the page has been refreshed.\n",
       "if (IPython.notebook.kernel != null) {\n",
       "    IPython.notebook.kernel.comm_manager.register_target('matplotlib', mpl.mpl_figure_comm);\n",
       "}\n"
      ],
      "text/plain": [
       "<IPython.core.display.Javascript object>"
      ]
     },
     "metadata": {},
     "output_type": "display_data"
    },
    {
     "data": {
      "text/html": [
       "<img src=\"data:image/png;base64,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\" width=\"1000\">"
      ],
      "text/plain": [
       "<IPython.core.display.HTML object>"
      ]
     },
     "metadata": {},
     "output_type": "display_data"
    }
   ],
   "source": [
    "ax, tax, lax, lines = dual_train_plots()\n",
    "fig = ax.figure\n",
    "plt.tight_layout()"
   ]
  },
  {
   "cell_type": "code",
   "execution_count": null,
   "metadata": {
    "scrolled": false
   },
   "outputs": [
    {
     "name": "stdout",
     "output_type": "stream",
     "text": [
      "Number of batches: train = 5000, val = 157\n"
     ]
    },
    {
     "data": {
      "application/vnd.jupyter.widget-view+json": {
       "model_id": "e82bfcac634d431988ba3c0b47545e0b",
       "version_major": 2,
       "version_minor": 0
      },
      "text/plain": [
       "HBox(children=(FloatProgress(value=0.0, description='Epochs', layout=Layout(flex='2'), max=150.0, style=Progre…"
      ]
     },
     "metadata": {},
     "output_type": "display_data"
    },
    {
     "name": "stdout",
     "output_type": "stream",
     "text": [
      "Number of batches: train = 5000, val = 157\n"
     ]
    },
    {
     "data": {
      "application/vnd.jupyter.widget-view+json": {
       "model_id": "",
       "version_major": 2,
       "version_minor": 0
      },
      "text/plain": [
       "HBox(children=(FloatProgress(value=0.0, description='Training', layout=Layout(flex='2'), max=5000.0, style=Pro…"
      ]
     },
     "metadata": {},
     "output_type": "display_data"
    },
    {
     "name": "stdout",
     "output_type": "stream",
     "text": [
      "Epoch 0: train=0.57784, val=0.376361, took 581.26 s\n"
     ]
    },
    {
     "data": {
      "application/vnd.jupyter.widget-view+json": {
       "model_id": "",
       "version_major": 2,
       "version_minor": 0
      },
      "text/plain": [
       "HBox(children=(FloatProgress(value=0.0, description='Training', layout=Layout(flex='2'), max=5000.0, style=Pro…"
      ]
     },
     "metadata": {},
     "output_type": "display_data"
    },
    {
     "name": "stdout",
     "output_type": "stream",
     "text": [
      "Epoch 1: train=0.576395, val=0.382383, took 582.57 s\n"
     ]
    },
    {
     "data": {
      "application/vnd.jupyter.widget-view+json": {
       "model_id": "",
       "version_major": 2,
       "version_minor": 0
      },
      "text/plain": [
       "HBox(children=(FloatProgress(value=0.0, description='Training', layout=Layout(flex='2'), max=5000.0, style=Pro…"
      ]
     },
     "metadata": {},
     "output_type": "display_data"
    },
    {
     "name": "stdout",
     "output_type": "stream",
     "text": [
      "Epoch 2: train=0.57557, val=0.380694, took 580.53 s\n"
     ]
    },
    {
     "data": {
      "application/vnd.jupyter.widget-view+json": {
       "model_id": "",
       "version_major": 2,
       "version_minor": 0
      },
      "text/plain": [
       "HBox(children=(FloatProgress(value=0.0, description='Training', layout=Layout(flex='2'), max=5000.0, style=Pro…"
      ]
     },
     "metadata": {},
     "output_type": "display_data"
    },
    {
     "name": "stdout",
     "output_type": "stream",
     "text": [
      "Epoch 3: train=0.574291, val=0.406875, took 579.48 s\n"
     ]
    },
    {
     "data": {
      "application/vnd.jupyter.widget-view+json": {
       "model_id": "",
       "version_major": 2,
       "version_minor": 0
      },
      "text/plain": [
       "HBox(children=(FloatProgress(value=0.0, description='Training', layout=Layout(flex='2'), max=5000.0, style=Pro…"
      ]
     },
     "metadata": {},
     "output_type": "display_data"
    },
    {
     "name": "stdout",
     "output_type": "stream",
     "text": [
      "Epoch 4: train=0.574998, val=0.379111, took 578.58 s\n"
     ]
    },
    {
     "data": {
      "application/vnd.jupyter.widget-view+json": {
       "model_id": "",
       "version_major": 2,
       "version_minor": 0
      },
      "text/plain": [
       "HBox(children=(FloatProgress(value=0.0, description='Training', layout=Layout(flex='2'), max=5000.0, style=Pro…"
      ]
     },
     "metadata": {},
     "output_type": "display_data"
    },
    {
     "name": "stdout",
     "output_type": "stream",
     "text": [
      "Epoch 5: train=0.575443, val=0.37582, took 578.31 s\n"
     ]
    },
    {
     "data": {
      "application/vnd.jupyter.widget-view+json": {
       "model_id": "",
       "version_major": 2,
       "version_minor": 0
      },
      "text/plain": [
       "HBox(children=(FloatProgress(value=0.0, description='Training', layout=Layout(flex='2'), max=5000.0, style=Pro…"
      ]
     },
     "metadata": {},
     "output_type": "display_data"
    },
    {
     "name": "stdout",
     "output_type": "stream",
     "text": [
      "Epoch 6: train=0.574354, val=0.388931, took 577.31 s\n"
     ]
    },
    {
     "data": {
      "application/vnd.jupyter.widget-view+json": {
       "model_id": "",
       "version_major": 2,
       "version_minor": 0
      },
      "text/plain": [
       "HBox(children=(FloatProgress(value=0.0, description='Training', layout=Layout(flex='2'), max=5000.0, style=Pro…"
      ]
     },
     "metadata": {},
     "output_type": "display_data"
    },
    {
     "name": "stdout",
     "output_type": "stream",
     "text": [
      "Epoch 7: train=0.575892, val=0.375683, took 578.26 s\n"
     ]
    },
    {
     "data": {
      "application/vnd.jupyter.widget-view+json": {
       "model_id": "",
       "version_major": 2,
       "version_minor": 0
      },
      "text/plain": [
       "HBox(children=(FloatProgress(value=0.0, description='Training', layout=Layout(flex='2'), max=5000.0, style=Pro…"
      ]
     },
     "metadata": {},
     "output_type": "display_data"
    },
    {
     "name": "stdout",
     "output_type": "stream",
     "text": [
      "Epoch 8: train=0.576831, val=0.476458, took 578.38 s\n"
     ]
    },
    {
     "data": {
      "application/vnd.jupyter.widget-view+json": {
       "model_id": "",
       "version_major": 2,
       "version_minor": 0
      },
      "text/plain": [
       "HBox(children=(FloatProgress(value=0.0, description='Training', layout=Layout(flex='2'), max=5000.0, style=Pro…"
      ]
     },
     "metadata": {},
     "output_type": "display_data"
    },
    {
     "name": "stdout",
     "output_type": "stream",
     "text": [
      "Epoch 9: train=0.574654, val=0.380303, took 578.09 s\n"
     ]
    },
    {
     "data": {
      "application/vnd.jupyter.widget-view+json": {
       "model_id": "",
       "version_major": 2,
       "version_minor": 0
      },
      "text/plain": [
       "HBox(children=(FloatProgress(value=0.0, description='Training', layout=Layout(flex='2'), max=5000.0, style=Pro…"
      ]
     },
     "metadata": {},
     "output_type": "display_data"
    },
    {
     "name": "stdout",
     "output_type": "stream",
     "text": [
      "Epoch 10: train=0.577713, val=0.38276, took 578.52 s\n"
     ]
    },
    {
     "data": {
      "application/vnd.jupyter.widget-view+json": {
       "model_id": "",
       "version_major": 2,
       "version_minor": 0
      },
      "text/plain": [
       "HBox(children=(FloatProgress(value=0.0, description='Training', layout=Layout(flex='2'), max=5000.0, style=Pro…"
      ]
     },
     "metadata": {},
     "output_type": "display_data"
    },
    {
     "name": "stdout",
     "output_type": "stream",
     "text": [
      "Epoch 11: train=0.575102, val=0.404873, took 578.65 s\n"
     ]
    },
    {
     "data": {
      "application/vnd.jupyter.widget-view+json": {
       "model_id": "",
       "version_major": 2,
       "version_minor": 0
      },
      "text/plain": [
       "HBox(children=(FloatProgress(value=0.0, description='Training', layout=Layout(flex='2'), max=5000.0, style=Pro…"
      ]
     },
     "metadata": {},
     "output_type": "display_data"
    },
    {
     "name": "stdout",
     "output_type": "stream",
     "text": [
      "Epoch 12: train=0.574667, val=0.384822, took 578.4 s\n"
     ]
    },
    {
     "data": {
      "application/vnd.jupyter.widget-view+json": {
       "model_id": "",
       "version_major": 2,
       "version_minor": 0
      },
      "text/plain": [
       "HBox(children=(FloatProgress(value=0.0, description='Training', layout=Layout(flex='2'), max=5000.0, style=Pro…"
      ]
     },
     "metadata": {},
     "output_type": "display_data"
    },
    {
     "name": "stdout",
     "output_type": "stream",
     "text": [
      "Epoch 13: train=0.574212, val=0.391138, took 578.44 s\n"
     ]
    },
    {
     "data": {
      "application/vnd.jupyter.widget-view+json": {
       "model_id": "",
       "version_major": 2,
       "version_minor": 0
      },
      "text/plain": [
       "HBox(children=(FloatProgress(value=0.0, description='Training', layout=Layout(flex='2'), max=5000.0, style=Pro…"
      ]
     },
     "metadata": {},
     "output_type": "display_data"
    },
    {
     "name": "stdout",
     "output_type": "stream",
     "text": [
      "Epoch 14: train=0.57406, val=0.394929, took 578.54 s\n"
     ]
    },
    {
     "data": {
      "application/vnd.jupyter.widget-view+json": {
       "model_id": "",
       "version_major": 2,
       "version_minor": 0
      },
      "text/plain": [
       "HBox(children=(FloatProgress(value=0.0, description='Training', layout=Layout(flex='2'), max=5000.0, style=Pro…"
      ]
     },
     "metadata": {},
     "output_type": "display_data"
    },
    {
     "name": "stdout",
     "output_type": "stream",
     "text": [
      "Epoch 15: train=0.574536, val=0.393682, took 578.31 s\n"
     ]
    },
    {
     "data": {
      "application/vnd.jupyter.widget-view+json": {
       "model_id": "",
       "version_major": 2,
       "version_minor": 0
      },
      "text/plain": [
       "HBox(children=(FloatProgress(value=0.0, description='Training', layout=Layout(flex='2'), max=5000.0, style=Pro…"
      ]
     },
     "metadata": {},
     "output_type": "display_data"
    },
    {
     "name": "stdout",
     "output_type": "stream",
     "text": [
      "Epoch 16: train=0.572315, val=0.378353, took 577.87 s\n"
     ]
    },
    {
     "data": {
      "application/vnd.jupyter.widget-view+json": {
       "model_id": "",
       "version_major": 2,
       "version_minor": 0
      },
      "text/plain": [
       "HBox(children=(FloatProgress(value=0.0, description='Training', layout=Layout(flex='2'), max=5000.0, style=Pro…"
      ]
     },
     "metadata": {},
     "output_type": "display_data"
    },
    {
     "name": "stdout",
     "output_type": "stream",
     "text": [
      "Epoch 17: train=0.572466, val=0.376355, took 576.88 s\n"
     ]
    },
    {
     "data": {
      "application/vnd.jupyter.widget-view+json": {
       "model_id": "",
       "version_major": 2,
       "version_minor": 0
      },
      "text/plain": [
       "HBox(children=(FloatProgress(value=0.0, description='Training', layout=Layout(flex='2'), max=5000.0, style=Pro…"
      ]
     },
     "metadata": {},
     "output_type": "display_data"
    },
    {
     "name": "stdout",
     "output_type": "stream",
     "text": [
      "Epoch 18: train=0.574942, val=0.380156, took 577.66 s\n"
     ]
    },
    {
     "data": {
      "application/vnd.jupyter.widget-view+json": {
       "model_id": "",
       "version_major": 2,
       "version_minor": 0
      },
      "text/plain": [
       "HBox(children=(FloatProgress(value=0.0, description='Training', layout=Layout(flex='2'), max=5000.0, style=Pro…"
      ]
     },
     "metadata": {},
     "output_type": "display_data"
    },
    {
     "name": "stdout",
     "output_type": "stream",
     "text": [
      "Epoch 19: train=0.57365, val=0.381056, took 578.07 s\n"
     ]
    },
    {
     "data": {
      "application/vnd.jupyter.widget-view+json": {
       "model_id": "",
       "version_major": 2,
       "version_minor": 0
      },
      "text/plain": [
       "HBox(children=(FloatProgress(value=0.0, description='Training', layout=Layout(flex='2'), max=5000.0, style=Pro…"
      ]
     },
     "metadata": {},
     "output_type": "display_data"
    },
    {
     "name": "stdout",
     "output_type": "stream",
     "text": [
      "Epoch 20: train=0.574452, val=0.37344, took 578.68 s\n"
     ]
    },
    {
     "data": {
      "application/vnd.jupyter.widget-view+json": {
       "model_id": "",
       "version_major": 2,
       "version_minor": 0
      },
      "text/plain": [
       "HBox(children=(FloatProgress(value=0.0, description='Training', layout=Layout(flex='2'), max=5000.0, style=Pro…"
      ]
     },
     "metadata": {},
     "output_type": "display_data"
    },
    {
     "name": "stdout",
     "output_type": "stream",
     "text": [
      "Epoch 21: train=0.574535, val=0.382021, took 577.79 s\n"
     ]
    },
    {
     "data": {
      "application/vnd.jupyter.widget-view+json": {
       "model_id": "",
       "version_major": 2,
       "version_minor": 0
      },
      "text/plain": [
       "HBox(children=(FloatProgress(value=0.0, description='Training', layout=Layout(flex='2'), max=5000.0, style=Pro…"
      ]
     },
     "metadata": {},
     "output_type": "display_data"
    },
    {
     "name": "stdout",
     "output_type": "stream",
     "text": [
      "Epoch 22: train=0.574465, val=0.373591, took 577.51 s\n"
     ]
    },
    {
     "data": {
      "application/vnd.jupyter.widget-view+json": {
       "model_id": "",
       "version_major": 2,
       "version_minor": 0
      },
      "text/plain": [
       "HBox(children=(FloatProgress(value=0.0, description='Training', layout=Layout(flex='2'), max=5000.0, style=Pro…"
      ]
     },
     "metadata": {},
     "output_type": "display_data"
    },
    {
     "name": "stdout",
     "output_type": "stream",
     "text": [
      "Epoch 23: train=0.574264, val=0.377281, took 578.16 s\n"
     ]
    },
    {
     "data": {
      "application/vnd.jupyter.widget-view+json": {
       "model_id": "",
       "version_major": 2,
       "version_minor": 0
      },
      "text/plain": [
       "HBox(children=(FloatProgress(value=0.0, description='Training', layout=Layout(flex='2'), max=5000.0, style=Pro…"
      ]
     },
     "metadata": {},
     "output_type": "display_data"
    },
    {
     "name": "stdout",
     "output_type": "stream",
     "text": [
      "Epoch 24: train=0.573577, val=0.407634, took 577.32 s\n"
     ]
    },
    {
     "data": {
      "application/vnd.jupyter.widget-view+json": {
       "model_id": "",
       "version_major": 2,
       "version_minor": 0
      },
      "text/plain": [
       "HBox(children=(FloatProgress(value=0.0, description='Training', layout=Layout(flex='2'), max=5000.0, style=Pro…"
      ]
     },
     "metadata": {},
     "output_type": "display_data"
    },
    {
     "name": "stdout",
     "output_type": "stream",
     "text": [
      "Epoch 25: train=0.573325, val=0.376579, took 577.52 s\n"
     ]
    },
    {
     "data": {
      "application/vnd.jupyter.widget-view+json": {
       "model_id": "",
       "version_major": 2,
       "version_minor": 0
      },
      "text/plain": [
       "HBox(children=(FloatProgress(value=0.0, description='Training', layout=Layout(flex='2'), max=5000.0, style=Pro…"
      ]
     },
     "metadata": {},
     "output_type": "display_data"
    },
    {
     "name": "stdout",
     "output_type": "stream",
     "text": [
      "Epoch 26: train=0.573635, val=0.378622, took 577.69 s\n"
     ]
    },
    {
     "data": {
      "application/vnd.jupyter.widget-view+json": {
       "model_id": "",
       "version_major": 2,
       "version_minor": 0
      },
      "text/plain": [
       "HBox(children=(FloatProgress(value=0.0, description='Training', layout=Layout(flex='2'), max=5000.0, style=Pro…"
      ]
     },
     "metadata": {},
     "output_type": "display_data"
    },
    {
     "name": "stdout",
     "output_type": "stream",
     "text": [
      "Epoch 27: train=0.573124, val=0.383913, took 576.94 s\n"
     ]
    },
    {
     "data": {
      "application/vnd.jupyter.widget-view+json": {
       "model_id": "c8289b05884948bcba0a83b44ce0cafe",
       "version_major": 2,
       "version_minor": 0
      },
      "text/plain": [
       "HBox(children=(FloatProgress(value=0.0, description='Training', layout=Layout(flex='2'), max=5000.0, style=Pro…"
      ]
     },
     "metadata": {},
     "output_type": "display_data"
    }
   ],
   "source": [
    "for result in trainNet(model, optimizer, loss,\n",
    "                        train_loader, val_loader,\n",
    "                        n_epochs, epoch_start=len(results),\n",
    "                        notebook=True):\n",
    "    \n",
    "    results = results.append(pd.Series(result._asdict()), ignore_index=True)\n",
    "    xs = results.index\n",
    "    \n",
    "    # Update the plot above\n",
    "    lines['train'].set_data(results.index,results.cost)\n",
    "    lines['val'].set_data(results.index,results.val)\n",
    "    \n",
    "    #filter first cost epoch (can be really large)\n",
    "    max_cost = max(max(results.cost if len(results.cost)<2 else results.cost[1:]), max(results.val))\n",
    "    min_cost = min(min(results.cost), min(results.val))\n",
    "    \n",
    "    # The plot limits need updating too\n",
    "    \n",
    "    \n",
    "    \n",
    "    ax.set_ylim(min_cost*.9, max_cost*1.1)  \n",
    "    ax.set_xlim(-.5, len(results.cost) - .5)\n",
    "\n",
    "    \n",
    "    # Redraw the figure\n",
    "    fig.canvas.draw()\n",
    "\n",
    "    # Save each model state dictionary\n",
    "    torch.save(model.state_dict(), output / f'{name}_{result.epoch}.pyt')"
   ]
  },
  {
   "cell_type": "markdown",
   "metadata": {},
   "source": [
    "Go ahead and save the final model (even though it was also saved above):"
   ]
  },
  {
   "cell_type": "code",
   "execution_count": null,
   "metadata": {},
   "outputs": [],
   "source": [
    "torch.save(model.state_dict(), output / f'{name}_final.pyt')"
   ]
  },
  {
   "cell_type": "markdown",
   "metadata": {},
   "source": [
    "Save the output results:"
   ]
  },
  {
   "cell_type": "code",
   "execution_count": null,
   "metadata": {},
   "outputs": [],
   "source": [
    "results.to_hdf(output / f'{name}_stats.hdf5', 'results')"
   ]
  },
  {
   "cell_type": "markdown",
   "metadata": {},
   "source": [
    "Save the plot above:"
   ]
  },
  {
   "cell_type": "code",
   "execution_count": null,
   "metadata": {},
   "outputs": [],
   "source": [
    "dual_train_plots(results.index,\n",
    "                 results.cost, results.val,\n",
    "                 results.cost, results.val)\n",
    "plt.tight_layout()\n",
    "plt.savefig(str(output / f'{name}_stats_a.png'))"
   ]
  },
  {
   "cell_type": "code",
   "execution_count": null,
   "metadata": {},
   "outputs": [],
   "source": [
    "quit()"
   ]
  },
  {
   "cell_type": "code",
   "execution_count": null,
   "metadata": {},
   "outputs": [],
   "source": []
  },
  {
   "cell_type": "code",
   "execution_count": null,
   "metadata": {},
   "outputs": [],
   "source": []
  }
 ],
 "metadata": {
  "kernelspec": {
   "display_name": "goofit-june2020",
   "language": "python",
   "name": "goofit-june2020"
  },
  "language_info": {
   "codemirror_mode": {
    "name": "ipython",
    "version": 3
   },
   "file_extension": ".py",
   "mimetype": "text/x-python",
   "name": "python",
   "nbconvert_exporter": "python",
   "pygments_lexer": "ipython3",
   "version": "3.7.6"
  }
 },
 "nbformat": 4,
 "nbformat_minor": 2
}
