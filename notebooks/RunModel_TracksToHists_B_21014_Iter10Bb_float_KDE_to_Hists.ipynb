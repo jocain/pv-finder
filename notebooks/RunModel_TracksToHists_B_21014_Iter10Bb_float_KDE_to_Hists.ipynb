{
 "cells": [
  {
   "cell_type": "code",
   "execution_count": 1,
   "metadata": {},
   "outputs": [],
   "source": [
    "##%matplotlib widget\n",
    "## with %matplotlib notebook: seems to require ipympl as part of environment, either\n",
    "## part of the conda environment or \"pip install ipympl\"\n",
    "## otherwise, does not show ANY plots in notebook, plt.savefig() works\n",
    "%matplotlib notebook  \n",
    "##%matplotlib inline    ## --plt.savefig()  works, but re-sizing does NOT\n"
   ]
  },
  {
   "cell_type": "markdown",
   "metadata": {},
   "source": [
    "This notebook is a first attempt to read in track information and use it to predict the the full target histrograms.\n",
    "\n",
    "It will read in the TracksToDKE__Ellipsoids_DDPlus model to predict the KDE, and then feed it into a SimpleCNN model to predict the target histograms.  Initially, it will use previously trained weights.\n"
   ]
  },
  {
   "cell_type": "markdown",
   "metadata": {},
   "source": [
    "Check the current GPU usage. Please try to be nice!"
   ]
  },
  {
   "cell_type": "code",
   "execution_count": 2,
   "metadata": {},
   "outputs": [
    {
     "name": "stdout",
     "output_type": "stream",
     "text": [
      "Thu Jan 14 22:38:05 2021       \r\n",
      "+-----------------------------------------------------------------------------+\r\n",
      "| NVIDIA-SMI 450.36.06    Driver Version: 450.36.06    CUDA Version: 11.0     |\r\n",
      "|-------------------------------+----------------------+----------------------+\r\n",
      "| GPU  Name        Persistence-M| Bus-Id        Disp.A | Volatile Uncorr. ECC |\r\n",
      "| Fan  Temp  Perf  Pwr:Usage/Cap|         Memory-Usage | GPU-Util  Compute M. |\r\n",
      "|                               |                      |               MIG M. |\r\n",
      "|===============================+======================+======================|\r\n",
      "|   0  GeForce RTX 208...  On   | 00000000:18:00.0 Off |                  N/A |\r\n",
      "| 29%   36C    P8    38W / 250W |  10778MiB / 11019MiB |      0%      Default |\r\n",
      "|                               |                      |                  N/A |\r\n",
      "+-------------------------------+----------------------+----------------------+\r\n",
      "|   1  GeForce RTX 208...  On   | 00000000:3B:00.0 Off |                  N/A |\r\n",
      "| 29%   38C    P8    39W / 250W |     61MiB / 11019MiB |      0%      Default |\r\n",
      "|                               |                      |                  N/A |\r\n",
      "+-------------------------------+----------------------+----------------------+\r\n",
      "                                                                               \r\n",
      "+-----------------------------------------------------------------------------+\r\n",
      "| Processes:                                                                  |\r\n",
      "|  GPU   GI   CI        PID   Type   Process name                  GPU Memory |\r\n",
      "|        ID   ID                                                   Usage      |\r\n",
      "|=============================================================================|\r\n",
      "|    0   N/A  N/A     10361      C   ...s/june2020-gpu/bin/python     4215MiB |\r\n",
      "|    0   N/A  N/A    244396      C   ...s/june2020-gpu/bin/python     6559MiB |\r\n",
      "|    1   N/A  N/A      3736      G   /usr/bin/X                         33MiB |\r\n",
      "|    1   N/A  N/A      3790      G   /usr/bin/gnome-shell               25MiB |\r\n",
      "+-----------------------------------------------------------------------------+\r\n"
     ]
    }
   ],
   "source": [
    "!nvidia-smi"
   ]
  },
  {
   "cell_type": "markdown",
   "metadata": {},
   "source": [
    "> **WARNING**: The card numbers here are *not* the same as in CUDA. You have been warned."
   ]
  },
  {
   "cell_type": "markdown",
   "metadata": {},
   "source": [
    "## Imports"
   ]
  },
  {
   "cell_type": "code",
   "execution_count": 3,
   "metadata": {},
   "outputs": [],
   "source": [
    "import matplotlib.pyplot as plt\n",
    "import numpy as np\n",
    "import time\n",
    "import torch\n",
    "import pandas as pd\n",
    "\n",
    "# Python 3 standard library\n",
    "from pathlib import Path\n",
    "\n",
    "from model.efficiency import pv_locations, efficiency\n",
    "\n",
    "##from torchsummary import summary"
   ]
  },
  {
   "cell_type": "markdown",
   "metadata": {},
   "source": [
    "### Set up local parameters"
   ]
  },
  {
   "cell_type": "code",
   "execution_count": 4,
   "metadata": {},
   "outputs": [],
   "source": [
    "n_epochs = 50\n",
    "\n",
    "# Name is the output file name\n",
    "\n",
    "\n",
    "##  200719  mds\n",
    "##folder = '20December_Tracks_to_KDE_TestTrainedModel'\n",
    "##folder = '22December_testing_DDplus_loss_Bb_iter2_floatAll_100epochs_3em6'\n",
    "## 50 epochs using 4 of Will's files with batch_size = 48 should take\n",
    "##  just over 8 hours\n",
    "folder = '14Jan2021_TracksToHists_B_Iter10Bb_50epochs_lr_1p5em5_b48_2p5_kde2hists_float_all_4x_will'\n",
    "name = folder\n",
    "\n",
    "# Make an output folder named \"name\" (change if you want)\n",
    "\n",
    "## Special instructions for those working on goofy at UC\n",
    "## Please be very careful to make sure that your folder\n",
    "## does not live in a subdirectory of your home directory\n",
    "## this disk has very little capacity. Instead, use \n",
    "## a subdirectory in /share/lazy with a symbolic link to\n",
    "## it in this (the notebooks) subdirectory\n",
    "folder = 'ML/' + folder\n",
    "output = Path(folder)\n",
    "\n",
    "\n",
    "# Size of batches\n",
    "## reduce batch size from 64 to 32 when floating all the parameters\n",
    "##  it *appears* that storing the gradients requires extra memory\n",
    "##  batch_size = 32 --> 6623MiB / 11019 MiB on sleepy RTX2081 Ti\n",
    "batch_size = 48\n",
    "# How fast to learn\n",
    "## learning rate was 1e-7 for all layers in TracksToHists_A\n",
    "## here we want to learn only weights in the finalFilter layer\n",
    "## of TracksToHists_B, so try a high learning rate, at least initially\n",
    "## 1e-3 did well for the first 10 epochs; let's increase it for the next 40\n",
    "## reduce to 1e-3 for iteration with KDE_to_Hists weights floated\n",
    "##  cost decreased monotonically in previous run, so increase lr to 2e-3\n",
    "##  tried running with lr = 2e-3 and the validation cost function \n",
    "##  bounced around.  Want to try using a lower learning rate and\n",
    "##  a larger training sample\n",
    "##  Iter5B --  float all, leave learning rate = 5e-4\n",
    "##  Iter6C, with lr = 1e-5 rather than 1e-6, seems to be learning more quickly,\n",
    "##  so increase the learning rate to 1e-5 for Iter7B\n",
    "learning_rate = 1.5e-5"
   ]
  },
  {
   "cell_type": "markdown",
   "metadata": {},
   "source": [
    "Make the output directory if it does not exist:"
   ]
  },
  {
   "cell_type": "code",
   "execution_count": 5,
   "metadata": {},
   "outputs": [],
   "source": [
    "output.mkdir(exist_ok=True)"
   ]
  },
  {
   "cell_type": "markdown",
   "metadata": {},
   "source": [
    "## Get the helper functions\n",
    "\n",
    "Add the directory with the model\n",
    "definitions to the path so we can import from it:\n",
    "\n",
    "> When you type `import X`,\n",
    "Python searches `sys.path` for a python\n",
    "file named `X.py` to import. So we need to add the model directory to the path."
   ]
  },
  {
   "cell_type": "code",
   "execution_count": 6,
   "metadata": {
    "scrolled": true
   },
   "outputs": [],
   "source": [
    "# From model/collectdata.py\n",
    "##from model.collectdata_kde_Ellipsoids import collect_t2kde_data\n",
    "from model.collectdata_t2hists import collect_t2hists_data\n",
    "from model.collectdata_mdsA  import collect_truth\n",
    "\n",
    "# From model/loss.py\n",
    "##from loss import Loss\n",
    "##from model.kde_loss_D import Loss\n",
    "## from model.kde_loss_B import Loss  ## Tracks_to_KDE loss, not for target hists\n",
    "\n",
    "##  \"standard\" ratios loss for hists training\n",
    "from model.alt_loss_A import Loss  ## loss used to train RunModel_Demo_28November2020-SimpleCNNLayer_Ca-Restart_5\n",
    "\n",
    "\n",
    "##from model.models_kde import TracksToKDE_Ellipsoids_DirtyDozen as Model\n",
    "from model.models_kde import TracksToKDE_Ellipsoids_DDplus as t2kde_model\n",
    "##from model.models_mds_G import SimpleCNN5Layer_Ca as kde2hists_model\n",
    "from model.models_mds_28Dec20 import SimpleCNN5Layer_Ca as kde2hists_model  ## copy of models_mds_01June20 for debugging\n",
    "from model.models_t2hists import TracksToHists_B as t2hists_model\n",
    "\n",
    "\n",
    "##from model.training_kde import trainNet, select_gpu, Results\n",
    "## training_t2hists_A.py increases \"difference\" for accepting found\n",
    "## peaks as matched from 5 bins to 7.5 bins (compmared to original training.py)\n",
    "from model.training_t2hists_A import trainNet, select_gpu, Results\n",
    "from model.plots import dual_train_plots, replace_in_ax"
   ]
  },
  {
   "cell_type": "code",
   "execution_count": 7,
   "metadata": {},
   "outputs": [],
   "source": [
    "# This gets built up during the run - do not rerun this cell\n",
    "results = pd.DataFrame([], columns=Results._fields)"
   ]
  },
  {
   "cell_type": "markdown",
   "metadata": {},
   "source": [
    "Set up Torch device configuration. All tensors and model parameters need to know where to be put.\n",
    "This takes a BUS ID number: The BUS ID is the same as the listing at the top of this script."
   ]
  },
  {
   "cell_type": "code",
   "execution_count": 8,
   "metadata": {},
   "outputs": [
    {
     "name": "stdout",
     "output_type": "stream",
     "text": [
      "1 available GPUs (initially using device 0):\n",
      "  0 GeForce RTX 2080 Ti\n"
     ]
    }
   ],
   "source": [
    "device = select_gpu(1)\n",
    "##device = \"cpu\""
   ]
  },
  {
   "cell_type": "markdown",
   "metadata": {},
   "source": [
    "## Loading data\n",
    "\n",
    "Load the dataset, split into parts, then move to device (see `collectdata.py` in the `../model` directory)"
   ]
  },
  {
   "cell_type": "code",
   "execution_count": 9,
   "metadata": {
    "scrolled": false
   },
   "outputs": [
    {
     "name": "stdout",
     "output_type": "stream",
     "text": [
      "Loading data...\n",
      "pocaMx.shape =  (80000,)\n",
      "nEvts =  80000\n",
      "len(pocaMx[0]) =  199\n",
      "len(pocaMx[1]) =  25\n",
      "len(pocaMx[2]) =  369\n",
      "len(pocaMx[3]) =  143\n",
      "len(pocaMx[4]) =  160\n",
      "have entered six_ellipsoid_parameters\n",
      "  \n",
      " \n",
      "  nEvts =  80000\n",
      " iEvt, nTrks =  0 199\n",
      " iEvt, nTrks =  1 25\n",
      " iEvt, nTrks =  2 369\n",
      " iEvt, nTrks =  3 143\n",
      " iEvt, nTrks =  4 160\n",
      " iEvt, nTrks =  5 260\n",
      " iEvt, nTrks =  6 237\n",
      " iEvt, nTrks =  7 327\n",
      " iEvt, nTrks =  8 178\n",
      " iEvt, nTrks =  9 106\n",
      "len(X) =  80000\n",
      "len(Xlist) =  1\n",
      "Loaded /share/lazy/will/data/June30_2020_80k_1.h5 in 106.9 s\n",
      "pocaMx.shape =  (80000,)\n",
      "nEvts =  80000\n",
      "len(pocaMx[0]) =  222\n",
      "len(pocaMx[1]) =  133\n",
      "len(pocaMx[2]) =  259\n",
      "len(pocaMx[3]) =  114\n",
      "len(pocaMx[4]) =  143\n",
      "have entered six_ellipsoid_parameters\n",
      "  \n",
      " \n",
      "  nEvts =  80000\n",
      " iEvt, nTrks =  0 222\n",
      " iEvt, nTrks =  1 133\n",
      " iEvt, nTrks =  2 259\n",
      " iEvt, nTrks =  3 114\n",
      " iEvt, nTrks =  4 143\n",
      " iEvt, nTrks =  5 136\n",
      " iEvt, nTrks =  6 397\n",
      " iEvt, nTrks =  7 370\n",
      " iEvt, nTrks =  8 97\n",
      " iEvt, nTrks =  9 67\n",
      "len(X) =  80000\n",
      "len(Xlist) =  2\n",
      "Loaded /share/lazy/will/data/June30_2020_80k_2.h5 in 106.6 s\n",
      "pocaMx.shape =  (80000,)\n",
      "nEvts =  80000\n",
      "len(pocaMx[0]) =  196\n",
      "len(pocaMx[1]) =  35\n",
      "len(pocaMx[2]) =  265\n",
      "len(pocaMx[3]) =  128\n",
      "len(pocaMx[4]) =  124\n",
      "have entered six_ellipsoid_parameters\n",
      "  \n",
      " \n",
      "  nEvts =  80000\n",
      " iEvt, nTrks =  0 196\n",
      " iEvt, nTrks =  1 35\n",
      " iEvt, nTrks =  2 265\n",
      " iEvt, nTrks =  3 128\n",
      " iEvt, nTrks =  4 124\n",
      " iEvt, nTrks =  5 122\n",
      " iEvt, nTrks =  6 300\n",
      " iEvt, nTrks =  7 179\n",
      " iEvt, nTrks =  8 243\n",
      " iEvt, nTrks =  9 112\n",
      "len(X) =  80000\n",
      "len(Xlist) =  3\n",
      "Loaded /share/lazy/will/data/June30_2020_80k_3.h5 in 108.5 s\n",
      "pocaMx.shape =  (80000,)\n",
      "nEvts =  80000\n",
      "len(pocaMx[0]) =  204\n",
      "len(pocaMx[1]) =  33\n",
      "len(pocaMx[2]) =  206\n",
      "len(pocaMx[3]) =  150\n",
      "len(pocaMx[4]) =  96\n",
      "have entered six_ellipsoid_parameters\n",
      "  \n",
      " \n",
      "  nEvts =  80000\n",
      " iEvt, nTrks =  0 204\n",
      " iEvt, nTrks =  1 33\n",
      " iEvt, nTrks =  2 206\n",
      " iEvt, nTrks =  3 150\n",
      " iEvt, nTrks =  4 96\n",
      " iEvt, nTrks =  5 10\n",
      " iEvt, nTrks =  6 174\n",
      " iEvt, nTrks =  7 320\n",
      " iEvt, nTrks =  8 164\n",
      " iEvt, nTrks =  9 119\n",
      "len(X) =  80000\n",
      "len(Xlist) =  4\n",
      "Loaded /share/lazy/will/data/June30_2020_80k_4.h5 in 110.0 s\n",
      "outer loop X.shape =  (320000, 9, 600)\n",
      "Constructing 320000 event dataset took 1.043 s\n",
      "x_t.shape =  torch.Size([320000, 9, 600])\n",
      "x_t.shape[0] =  320000\n",
      "x_t.shape[1] =  9\n",
      "x_t.shape =  torch.Size([320000, 9, 600])\n",
      "Loading data...\n",
      "pocaMx.shape =  (20000,)\n",
      "nEvts =  20000\n",
      "len(pocaMx[0]) =  211\n",
      "len(pocaMx[1]) =  21\n",
      "len(pocaMx[2]) =  20\n",
      "len(pocaMx[3]) =  198\n",
      "len(pocaMx[4]) =  233\n",
      "have entered six_ellipsoid_parameters\n",
      "  \n",
      " \n",
      "  nEvts =  20000\n",
      " iEvt, nTrks =  0 211\n",
      " iEvt, nTrks =  1 21\n",
      " iEvt, nTrks =  2 20\n",
      " iEvt, nTrks =  3 198\n",
      " iEvt, nTrks =  4 233\n",
      " iEvt, nTrks =  5 85\n",
      " iEvt, nTrks =  6 223\n",
      " iEvt, nTrks =  7 425\n",
      " iEvt, nTrks =  8 252\n",
      " iEvt, nTrks =  9 169\n",
      "len(X) =  20000\n",
      "len(Xlist) =  1\n",
      "Loaded dataAA/20K_POCA_kernel_evts_200926.h5 in 25.56 s\n",
      "outer loop X.shape =  (20000, 9, 600)\n",
      "Constructing 20000 event dataset took 1.991 s\n",
      "x_t.shape =  torch.Size([20000, 9, 600])\n",
      "x_t.shape[0] =  20000\n",
      "x_t.shape[1] =  9\n",
      "x_t.shape =  torch.Size([20000, 9, 600])\n",
      "Loaded dataAA/20K_POCA_kernel_evts_200926.h5 in 0.01081 s\n",
      "PV.n.shape =     (20000,)\n",
      "PV.n[0].shape =  6\n",
      "PV.x[0] =        -0.06039733 0.034324445 0.032115813 0.0021888595 -0.035334907 -0.013019809\n",
      "PV.y[0] =        -0.09381338 -0.013181885 -0.030898828 -0.08940365 -0.0058297813 0.062288247\n",
      "PV.z[0] =        97.82085 61.021088 -0.15807877 134.26784 -29.881668 79.19783\n",
      "PV.n[0] =        24 26 10 7 24 19\n",
      "PV.cat[0] =      1 1 1 1 1 1\n",
      "Loaded dataAA/20K_POCA_kernel_evts_200926.h5 in 0.01075 s\n",
      "SV.n.shape =     (20000,)\n",
      "SV.n[0].shape =  2\n",
      "SV.x[0] =        -0.014751727 0.03923173\n",
      "SV.y[0] =        0.050640453 0.08648109\n",
      "SV.z[0] =        78.924194 79.170876\n",
      "SV.n[0] =        2 0\n",
      "SV.cat[0] =      1 -1\n"
     ]
    }
   ],
   "source": [
    "## 210109 let's use some of Will's toy MC for training rather than the 20K sample I've been using\n",
    "\n",
    "##train_loader = collect_t2hists_data('dataAA/20K_POCA_kernel_evts_200926.h5',\n",
    "train_loader = collect_t2hists_data('/share/lazy/will/data/June30_2020_80k_1.h5', \n",
    "                                    '/share/lazy/will/data/June30_2020_80k_2.h5',\n",
    "                                    '/share/lazy/will/data/June30_2020_80k_3.h5',\n",
    "                                    '/share/lazy/will/data/June30_2020_80k_4.h5',\n",
    "                             batch_size=batch_size,\n",
    "## if we are using a larger dataset (240K events, with the datasets above, and 11 GB  of GPU memory),\n",
    "## not the dataset will overflow the GPU memory; device=device will allow the data to move back\n",
    "## and forth between the CPU and GPU memory. While this allows use of a larger dataset, it slows\n",
    "## down performance by about 10%.  So comment out when not needed.\n",
    "##                           device=device,\n",
    "##                             slice = slice(0,18000)\n",
    "                           )\n",
    "\n",
    "\n",
    "\n",
    "                            \n",
    "# Validation dataset. You can slice to reduce the size.\n",
    "## mds no separate validation set yet,\n",
    "\n",
    "## 210109 and use everything in this 20K file for validation\n",
    "val_loader = collect_t2hists_data('dataAA/20K_POCA_kernel_evts_200926.h5',\n",
    "                            batch_size=batch_size,\n",
    "                            device=device,\n",
    "##                           slice = slice(18000,None)\n",
    "                           )\n",
    "\n",
    "PV = collect_truth('dataAA/20K_POCA_kernel_evts_200926.h5', pvs=True)\n",
    "print('PV.n.shape =    ',  PV.n.shape)\n",
    "print('PV.n[0].shape = ', *PV.n[0].shape)\n",
    "print('PV.x[0] =       ', *PV.x[0])\n",
    "print('PV.y[0] =       ', *PV.y[0])\n",
    "print('PV.z[0] =       ', *PV.z[0])\n",
    "print('PV.n[0] =       ', *PV.n[0])\n",
    "print('PV.cat[0] =     ', *PV.cat[0])\n",
    "\n",
    "SV = collect_truth('dataAA/20K_POCA_kernel_evts_200926.h5', pvs=False)\n",
    "print('SV.n.shape =    ', SV.n.shape)\n",
    "print('SV.n[0].shape = ', *SV.n[0].shape)\n",
    "print('SV.x[0] =       ', *SV.x[0])\n",
    "print('SV.y[0] =       ', *SV.y[0])\n",
    "print('SV.z[0] =       ', *SV.z[0])\n",
    "print('SV.n[0] =       ', *SV.n[0])\n",
    "print('SV.cat[0] =     ', *SV.cat[0])\n"
   ]
  },
  {
   "cell_type": "markdown",
   "metadata": {},
   "source": [
    "# Preparing the model"
   ]
  },
  {
   "cell_type": "markdown",
   "metadata": {},
   "source": [
    "Prepare a model, use multiple GPUs if they are VISIBLE, and move the model to the device."
   ]
  },
  {
   "cell_type": "code",
   "execution_count": 10,
   "metadata": {
    "scrolled": false
   },
   "outputs": [
    {
     "name": "stdout",
     "output_type": "stream",
     "text": [
      "ct, child =  0    Linear(in_features=9, out_features=50, bias=True)\n",
      "ct, child =  1    Linear(in_features=50, out_features=50, bias=True)\n",
      "ct, child =  2    Linear(in_features=50, out_features=50, bias=True)\n",
      "ct, child =  3    Linear(in_features=50, out_features=50, bias=True)\n",
      "ct, child =  4    Linear(in_features=50, out_features=50, bias=True)\n",
      "ct, child =  5    Linear(in_features=50, out_features=50, bias=True)\n",
      "ct, child =  6    Linear(in_features=50, out_features=50, bias=True)\n",
      "ct, child =  7    Linear(in_features=50, out_features=50, bias=True)\n",
      "ct, child =  8    Linear(in_features=50, out_features=50, bias=True)\n",
      "ct, child =  9    Linear(in_features=50, out_features=50, bias=True)\n",
      "ct, child =  10    Linear(in_features=50, out_features=50, bias=True)\n",
      "ct, child =  11    Linear(in_features=50, out_features=16000, bias=True)\n",
      "ct, child =  12    Conv1d(4, 25, kernel_size=(25,), stride=(1,), padding=(12,))\n",
      "ct, child =  13    Conv1d(25, 1, kernel_size=(5,), stride=(1,), padding=(2,))\n",
      "ct, child =  14    Linear(in_features=4000, out_features=4000, bias=True)\n",
      "ct, child =  15    Dropout(p=0.15, inplace=False)\n",
      "ct, child =  16    Dropout(p=0.15, inplace=False)\n",
      "ct, child =  17    Conv1d(1, 20, kernel_size=(25,), stride=(1,), padding=(12,))\n",
      "ct, child =  18    Conv1d(20, 10, kernel_size=(15,), stride=(1,), padding=(7,))\n",
      "ct, child =  19    Conv1d(10, 10, kernel_size=(15,), stride=(1,), padding=(7,))\n",
      "ct, child =  20    Conv1d(10, 10, kernel_size=(15,), stride=(1,), padding=(7,))\n",
      "ct, child =  21    Conv1d(10, 1, kernel_size=(5,), stride=(1,), padding=(2,))\n",
      "ct, child =  22    Dropout(p=0.15, inplace=False)\n",
      "ct, child =  23    Dropout(p=0.15, inplace=False)\n",
      "ct, child =  24    Dropout(p=0.15, inplace=False)\n",
      "ct, child =  25    Dropout(p=0.15, inplace=False)\n",
      "ct, child =  26    Dropout(p=0.35, inplace=False)\n",
      "ct, child =  27    Linear(in_features=4000, out_features=4000, bias=True)\n",
      "ct, child =  28    Conv1d(1, 1, kernel_size=(91,), stride=(1,), padding=(45,))\n"
     ]
    }
   ],
   "source": [
    "nOut1 = 50\n",
    "nOut2 = 50\n",
    "nOut3 = 50\n",
    "nOut4 = 50\n",
    "nOut5 = 50\n",
    "nOut6 = 50\n",
    "nOut7 = 50\n",
    "nOut8 = 50\n",
    "nOut9 = 50\n",
    "nOut10 = 50\n",
    "nOut11 = 50\n",
    "latentChannels = 4\n",
    "model_t2kde = t2kde_model(nOut1,nOut2,nOut3,nOut4,nOut5,nOut6,nOut7,nOut8,nOut9,nOut10,nOut11,latentChannels)\n",
    "model_kde2hists = kde2hists_model()\n",
    "model_t2hists = t2hists_model(nOut1,nOut2,nOut3,nOut4,nOut5,nOut6,nOut7,nOut8,nOut9,nOut10,nOut11,latentChannels)\n",
    "\n",
    "##summary(model, input_size=(4, 4000))\n",
    "##print(model.parameters)\n",
    "\n",
    "## add the following code to allow the user to freeze the some of the weights corresponding \n",
    "## to those taken from an earlier model trained with the original target histograms\n",
    "## presumably -- this leaves either the perturbative filter \"fixed\" and lets the \n",
    "## learning focus on the non-perturbative features, so get started faster, or vice versa\n",
    "\n",
    "## 210110 For Iter0, freeze all weights other than those asociated with\n",
    "## the finalFilter added in moving from TracksToHists_A to TracksToHists_B\n",
    "\n",
    "## for \"float_KDE_to_Hists\" loop over ct<17\n",
    "## for float_all loope over ct < 0\n",
    "ct = 0\n",
    "for child in model_t2hists.children():\n",
    "  print('ct, child = ',ct, \"  \", child)\n",
    "  if (ct < 0) :\n",
    "    print(\"     About to set param.requires_grad=False for ct = \", ct, \"params\")\n",
    "    for param in child.parameters():\n",
    "        param.requires_grad = False \n",
    "  ct += 1\n",
    "\n",
    "loss = Loss(epsilon=1e-5,coefficient=2.5)\n",
    "optimizer = torch.optim.Adam(model_t2hists.parameters(), lr=learning_rate)"
   ]
  },
  {
   "cell_type": "markdown",
   "metadata": {},
   "source": [
    "Let's move the model's weight matricies to the GPU:"
   ]
  },
  {
   "cell_type": "code",
   "execution_count": 11,
   "metadata": {
    "scrolled": false
   },
   "outputs": [
    {
     "data": {
      "text/plain": [
       "<All keys matched successfully>"
      ]
     },
     "execution_count": 11,
     "metadata": {},
     "output_type": "execute_result"
    }
   ],
   "source": [
    "## want to look at all three dictionaries to start:\n",
    "##  t2kde\n",
    "##  kde2hists\n",
    "##  t2hists\n",
    "## the plan is to (initially) copy weights from separate dictionaries into th t2hists dictionary\n",
    "\n",
    "##   ML -> /share/lazy/sokoloff/ML\n",
    "'''\n",
    "model_t2kde_dict = model_t2kde.state_dict()\n",
    "## mds 190725 for debugging\n",
    "print(\"for model_t2kde_dict\")\n",
    "index = 0\n",
    "for k,v in model_t2kde_dict.items():\n",
    "    print(\"index, k =  \",index,\"  \",k)\n",
    "    index = index+1\n",
    "#\n",
    "model_kde2hists_dict = model_kde2hists.state_dict()\n",
    "## mds 190725 for debugging\n",
    "print(\"for model_hists_2kde_dict\")\n",
    "index = 0\n",
    "for k,v in model_kde2hists_dict.items():\n",
    "    print(\"index, k =  \",index,\"  \",k)\n",
    "    index = index+1\n",
    "#\n",
    "model_t2hists_dict = model_t2hists.state_dict()\n",
    "## mds 190725 for debugging\n",
    "print(\"for model_hists_2kde_dict\")\n",
    "index = 0\n",
    "for k,v in model_t2hists_dict.items():\n",
    "    print(\"index, k =  \",index,\"  \",k)\n",
    "    index = index+1\n",
    "#\n",
    "\n",
    "##  build the \"updated_dict\" to become the t2hists_dictionary from the\n",
    "##  t2kde and kde2hist dictionaries\n",
    "update_dict = model_t2hists_dict\n",
    "##print(\"updated_dict = \",updated_dict)\n",
    "## when starting \"ab initio\", reduce biases as the bias gets summed for each track\n",
    "## contributing to the predicted KDE\n",
    "'''\n",
    "\n",
    "\n",
    "'''\n",
    "updated_dict[\"layer1.bias\"] = 0.005*model_dict[\"layer1.bias\"]\n",
    "updated_dict[\"layer2.bias\"] = 0.005*model_dict[\"layer2.bias\"]\n",
    "updated_dict[\"layer3.bias\"] = 0.005*model_dict[\"layer3.bias\"]\n",
    "updated_dict[\"layer4.bias\"] = 0.005*model_dict[\"layer4.bias\"]\n",
    "updated_dict[\"layer5.bias\"] = 0.005*model_dict[\"layer5.bias\"]\n",
    "updated_dict[\"layer6.bias\"] = 0.005*model_dict[\"layer6.bias\"]\n",
    "updated_dict[\"layer7.bias\"] = 0.005*model_dict[\"layer7.bias\"]\n",
    "updated_dict[\"layer8.bias\"] = 0.005*model_dict[\"layer8.bias\"]\n",
    "updated_dict[\"layer9.bias\"] = 0.005*model_dict[\"layer9.bias\"]\n",
    "updated_dict[\"layer10.bias\"] = 0.005*model_dict[\"layer10.bias\"]\n",
    "updated_dict[\"layer11.bias\"] = 0.005*model_dict[\"layer11.bias\"]\n",
    "'''\n",
    "\n",
    "'''\n",
    "##model_t2hists.load_state_dict(updated_dict,strict=False)\n",
    "\n",
    "##model__t2hists_dict = model_t2hists.state_dict()\n",
    "\n",
    "## let's get the tracks-to-kde model here\n",
    "t2kde_folder = '25December__DDplus_loss_Ba_iter5_floatAll_800epochs_5em6'  ## really iter6, really Dec. 27\n",
    "t2kde_folder = '25December__DDplus_loss_Ba_iter7_floatAll_800epochs_4em6'\n",
    "t2kde_name = t2kde_folder\n",
    "suffix = 'final'\n",
    "t2kde_dict_name = 'ML/' + t2kde_folder + '/' + t2kde_name + '_'+ suffix + '.pyt'\n",
    "print('t2kde_dict_name = ',t2kde_dict_name)\n",
    "pretrained_t2kde_dict = torch.load(t2kde_dict_name)\n",
    "\n",
    "print(\" \\n\",\"  for t2kde_pretrained_dict\")\n",
    "index = 0\n",
    "for k,v in pretrained_t2kde_dict.items():\n",
    "    print(\"index, k =  \",index,\"  \",k)\n",
    "    index = index+1\n",
    "    \n",
    "    \n",
    "## let's get the hists-to-kde model here   \n",
    "kde2hists_folder = '02June2020_CNN5Layer_Ca_another200epochs_K'\n",
    "kde2hists_name = kde2hists_folder\n",
    "suffix = 'final'\n",
    "kde2hists_dict_name = 'ML/' + kde2hists_folder + '/' + kde2hists_name + '_'+ suffix + '.pyt'\n",
    "## mds dec28 print('kde2hists_dict_name = ',kde2hists_dict_name)\n",
    "pretrained_kde2hists_dict = torch.load(kde2hists_dict_name)\n",
    "\n",
    "print(\" \\n\",\"  for kde2hists_pretrained_dict\")\n",
    "index = 0\n",
    "for k,v in pretrained_kde2hists_dict.items():\n",
    "    print(\"index, k =  \",index,\"  \",k)\n",
    "    index = index+1\n",
    " \n",
    "\n",
    "\n",
    "##print(\"model_dict instantiated\")\n",
    "# 1. filter out unnecessary keys\n",
    "pretrained_dict = {k: v for k, v in pretrained_t2kde_dict.items() if k in model_t2hists_dict}\n",
    "## mds dec28 print(\"pretrained_dict iterated\")\n",
    "# 2. overwrite entries in the existing state dict\n",
    "model_t2hists_dict.update(pretrained_dict) \n",
    "\n",
    "update_dict[\"hist_conv1.weight\"] = pretrained_kde2hists_dict[\"conv1.weight\"]\n",
    "update_dict[\"hist_conv1.bias\"]   = pretrained_kde2hists_dict[\"conv1.bias\"]\n",
    "update_dict[\"hist_conv2.weight\"] = pretrained_kde2hists_dict[\"conv2.weight\"]\n",
    "update_dict[\"hist_conv2.bias\"]   = pretrained_kde2hists_dict[\"conv2.bias\"]\n",
    "update_dict[\"hist_conv3.weight\"] = pretrained_kde2hists_dict[\"conv3.weight\"]\n",
    "update_dict[\"hist_conv3.bias\"]   = pretrained_kde2hists_dict[\"conv3.bias\"]\n",
    "update_dict[\"hist_conv4.weight\"] = pretrained_kde2hists_dict[\"conv4.weight\"]\n",
    "update_dict[\"hist_conv4.bias\"]   = pretrained_kde2hists_dict[\"conv4.bias\"]\n",
    "update_dict[\"hist_conv5.weight\"] = pretrained_kde2hists_dict[\"conv5.weight\"]\n",
    "update_dict[\"hist_conv5.bias\"]   = pretrained_kde2hists_dict[\"conv5.bias\"]\n",
    "update_dict[\"hist_fc1.weight\"]   = pretrained_kde2hists_dict[\"fc1.weight\"]\n",
    "update_dict[\"hist_fc1.bias\"]     = pretrained_kde2hists_dict[\"fc1.bias\"]\n",
    "\n",
    "##model_t2hists.update(update_dict,strict=False)\n",
    "model_t2hists.load_state_dict(update_dict,strict=False)\n",
    "model_t2hists_dict = model_t2hists.state_dict()\n",
    "'''\n",
    "\n",
    "##\n",
    "#   when starting from a model with a fully connected last layer rather than a convolutional layer\n",
    "# 3. load the new state dict\n",
    "#   need to use strict=False as the two models state model attributes do not agree exactly\n",
    "#   see https://pytorch.org/docs/master/_modules/torch/nn/modules/module.html#Module.load_state_dict\n",
    "\n",
    "t2hists_folder = '14Jan2021_TracksToHists_B_Iter9Bb_5epochs_lr_1p5em5_b48_2p5_kde2hists_float_all_4x_will'\n",
    "t2hists_name = t2hists_folder\n",
    "suffix = 'final'\n",
    "t2hists_dict_name = 'ML/' + t2hists_folder + '/' +t2hists_name + '_'+ suffix + '.pyt'\n",
    "## mds dec28 print('kde2hists_dict_name = ',kde2hists_dict_name)\n",
    "pretrained_t2hists_dict = torch.load(t2hists_dict_name) \n",
    "\n",
    "model_t2hists.load_state_dict(pretrained_t2hists_dict,strict=False)\n",
    "\n",
    "##  print('model_t2hists_dict =    ', model_t2hists_dict)\n"
   ]
  },
  {
   "cell_type": "code",
   "execution_count": 12,
   "metadata": {},
   "outputs": [],
   "source": [
    "##print('validation.dataset.tensors = ',validation.dataset.tensors)\n",
    "fig_size = plt.rcParams[\"figure.figsize\"]\n",
    "fig_size[0] = 10\n",
    "fig_size[1] = 4\n",
    "plt.rcParams[\"figure.figsize\"] = fig_size"
   ]
  },
  {
   "cell_type": "code",
   "execution_count": 13,
   "metadata": {
    "scrolled": true
   },
   "outputs": [],
   "source": [
    "model = model_t2hists.to(device)"
   ]
  },
  {
   "cell_type": "code",
   "execution_count": 14,
   "metadata": {},
   "outputs": [
    {
     "data": {
      "application/javascript": [
       "/* Put everything inside the global mpl namespace */\n",
       "window.mpl = {};\n",
       "\n",
       "\n",
       "mpl.get_websocket_type = function() {\n",
       "    if (typeof(WebSocket) !== 'undefined') {\n",
       "        return WebSocket;\n",
       "    } else if (typeof(MozWebSocket) !== 'undefined') {\n",
       "        return MozWebSocket;\n",
       "    } else {\n",
       "        alert('Your browser does not have WebSocket support. ' +\n",
       "              'Please try Chrome, Safari or Firefox ≥ 6. ' +\n",
       "              'Firefox 4 and 5 are also supported but you ' +\n",
       "              'have to enable WebSockets in about:config.');\n",
       "    };\n",
       "}\n",
       "\n",
       "mpl.figure = function(figure_id, websocket, ondownload, parent_element) {\n",
       "    this.id = figure_id;\n",
       "\n",
       "    this.ws = websocket;\n",
       "\n",
       "    this.supports_binary = (this.ws.binaryType != undefined);\n",
       "\n",
       "    if (!this.supports_binary) {\n",
       "        var warnings = document.getElementById(\"mpl-warnings\");\n",
       "        if (warnings) {\n",
       "            warnings.style.display = 'block';\n",
       "            warnings.textContent = (\n",
       "                \"This browser does not support binary websocket messages. \" +\n",
       "                    \"Performance may be slow.\");\n",
       "        }\n",
       "    }\n",
       "\n",
       "    this.imageObj = new Image();\n",
       "\n",
       "    this.context = undefined;\n",
       "    this.message = undefined;\n",
       "    this.canvas = undefined;\n",
       "    this.rubberband_canvas = undefined;\n",
       "    this.rubberband_context = undefined;\n",
       "    this.format_dropdown = undefined;\n",
       "\n",
       "    this.image_mode = 'full';\n",
       "\n",
       "    this.root = $('<div/>');\n",
       "    this._root_extra_style(this.root)\n",
       "    this.root.attr('style', 'display: inline-block');\n",
       "\n",
       "    $(parent_element).append(this.root);\n",
       "\n",
       "    this._init_header(this);\n",
       "    this._init_canvas(this);\n",
       "    this._init_toolbar(this);\n",
       "\n",
       "    var fig = this;\n",
       "\n",
       "    this.waiting = false;\n",
       "\n",
       "    this.ws.onopen =  function () {\n",
       "            fig.send_message(\"supports_binary\", {value: fig.supports_binary});\n",
       "            fig.send_message(\"send_image_mode\", {});\n",
       "            if (mpl.ratio != 1) {\n",
       "                fig.send_message(\"set_dpi_ratio\", {'dpi_ratio': mpl.ratio});\n",
       "            }\n",
       "            fig.send_message(\"refresh\", {});\n",
       "        }\n",
       "\n",
       "    this.imageObj.onload = function() {\n",
       "            if (fig.image_mode == 'full') {\n",
       "                // Full images could contain transparency (where diff images\n",
       "                // almost always do), so we need to clear the canvas so that\n",
       "                // there is no ghosting.\n",
       "                fig.context.clearRect(0, 0, fig.canvas.width, fig.canvas.height);\n",
       "            }\n",
       "            fig.context.drawImage(fig.imageObj, 0, 0);\n",
       "        };\n",
       "\n",
       "    this.imageObj.onunload = function() {\n",
       "        fig.ws.close();\n",
       "    }\n",
       "\n",
       "    this.ws.onmessage = this._make_on_message_function(this);\n",
       "\n",
       "    this.ondownload = ondownload;\n",
       "}\n",
       "\n",
       "mpl.figure.prototype._init_header = function() {\n",
       "    var titlebar = $(\n",
       "        '<div class=\"ui-dialog-titlebar ui-widget-header ui-corner-all ' +\n",
       "        'ui-helper-clearfix\"/>');\n",
       "    var titletext = $(\n",
       "        '<div class=\"ui-dialog-title\" style=\"width: 100%; ' +\n",
       "        'text-align: center; padding: 3px;\"/>');\n",
       "    titlebar.append(titletext)\n",
       "    this.root.append(titlebar);\n",
       "    this.header = titletext[0];\n",
       "}\n",
       "\n",
       "\n",
       "\n",
       "mpl.figure.prototype._canvas_extra_style = function(canvas_div) {\n",
       "\n",
       "}\n",
       "\n",
       "\n",
       "mpl.figure.prototype._root_extra_style = function(canvas_div) {\n",
       "\n",
       "}\n",
       "\n",
       "mpl.figure.prototype._init_canvas = function() {\n",
       "    var fig = this;\n",
       "\n",
       "    var canvas_div = $('<div/>');\n",
       "\n",
       "    canvas_div.attr('style', 'position: relative; clear: both; outline: 0');\n",
       "\n",
       "    function canvas_keyboard_event(event) {\n",
       "        return fig.key_event(event, event['data']);\n",
       "    }\n",
       "\n",
       "    canvas_div.keydown('key_press', canvas_keyboard_event);\n",
       "    canvas_div.keyup('key_release', canvas_keyboard_event);\n",
       "    this.canvas_div = canvas_div\n",
       "    this._canvas_extra_style(canvas_div)\n",
       "    this.root.append(canvas_div);\n",
       "\n",
       "    var canvas = $('<canvas/>');\n",
       "    canvas.addClass('mpl-canvas');\n",
       "    canvas.attr('style', \"left: 0; top: 0; z-index: 0; outline: 0\")\n",
       "\n",
       "    this.canvas = canvas[0];\n",
       "    this.context = canvas[0].getContext(\"2d\");\n",
       "\n",
       "    var backingStore = this.context.backingStorePixelRatio ||\n",
       "\tthis.context.webkitBackingStorePixelRatio ||\n",
       "\tthis.context.mozBackingStorePixelRatio ||\n",
       "\tthis.context.msBackingStorePixelRatio ||\n",
       "\tthis.context.oBackingStorePixelRatio ||\n",
       "\tthis.context.backingStorePixelRatio || 1;\n",
       "\n",
       "    mpl.ratio = (window.devicePixelRatio || 1) / backingStore;\n",
       "\n",
       "    var rubberband = $('<canvas/>');\n",
       "    rubberband.attr('style', \"position: absolute; left: 0; top: 0; z-index: 1;\")\n",
       "\n",
       "    var pass_mouse_events = true;\n",
       "\n",
       "    canvas_div.resizable({\n",
       "        start: function(event, ui) {\n",
       "            pass_mouse_events = false;\n",
       "        },\n",
       "        resize: function(event, ui) {\n",
       "            fig.request_resize(ui.size.width, ui.size.height);\n",
       "        },\n",
       "        stop: function(event, ui) {\n",
       "            pass_mouse_events = true;\n",
       "            fig.request_resize(ui.size.width, ui.size.height);\n",
       "        },\n",
       "    });\n",
       "\n",
       "    function mouse_event_fn(event) {\n",
       "        if (pass_mouse_events)\n",
       "            return fig.mouse_event(event, event['data']);\n",
       "    }\n",
       "\n",
       "    rubberband.mousedown('button_press', mouse_event_fn);\n",
       "    rubberband.mouseup('button_release', mouse_event_fn);\n",
       "    // Throttle sequential mouse events to 1 every 20ms.\n",
       "    rubberband.mousemove('motion_notify', mouse_event_fn);\n",
       "\n",
       "    rubberband.mouseenter('figure_enter', mouse_event_fn);\n",
       "    rubberband.mouseleave('figure_leave', mouse_event_fn);\n",
       "\n",
       "    canvas_div.on(\"wheel\", function (event) {\n",
       "        event = event.originalEvent;\n",
       "        event['data'] = 'scroll'\n",
       "        if (event.deltaY < 0) {\n",
       "            event.step = 1;\n",
       "        } else {\n",
       "            event.step = -1;\n",
       "        }\n",
       "        mouse_event_fn(event);\n",
       "    });\n",
       "\n",
       "    canvas_div.append(canvas);\n",
       "    canvas_div.append(rubberband);\n",
       "\n",
       "    this.rubberband = rubberband;\n",
       "    this.rubberband_canvas = rubberband[0];\n",
       "    this.rubberband_context = rubberband[0].getContext(\"2d\");\n",
       "    this.rubberband_context.strokeStyle = \"#000000\";\n",
       "\n",
       "    this._resize_canvas = function(width, height) {\n",
       "        // Keep the size of the canvas, canvas container, and rubber band\n",
       "        // canvas in synch.\n",
       "        canvas_div.css('width', width)\n",
       "        canvas_div.css('height', height)\n",
       "\n",
       "        canvas.attr('width', width * mpl.ratio);\n",
       "        canvas.attr('height', height * mpl.ratio);\n",
       "        canvas.attr('style', 'width: ' + width + 'px; height: ' + height + 'px;');\n",
       "\n",
       "        rubberband.attr('width', width);\n",
       "        rubberband.attr('height', height);\n",
       "    }\n",
       "\n",
       "    // Set the figure to an initial 600x600px, this will subsequently be updated\n",
       "    // upon first draw.\n",
       "    this._resize_canvas(600, 600);\n",
       "\n",
       "    // Disable right mouse context menu.\n",
       "    $(this.rubberband_canvas).bind(\"contextmenu\",function(e){\n",
       "        return false;\n",
       "    });\n",
       "\n",
       "    function set_focus () {\n",
       "        canvas.focus();\n",
       "        canvas_div.focus();\n",
       "    }\n",
       "\n",
       "    window.setTimeout(set_focus, 100);\n",
       "}\n",
       "\n",
       "mpl.figure.prototype._init_toolbar = function() {\n",
       "    var fig = this;\n",
       "\n",
       "    var nav_element = $('<div/>');\n",
       "    nav_element.attr('style', 'width: 100%');\n",
       "    this.root.append(nav_element);\n",
       "\n",
       "    // Define a callback function for later on.\n",
       "    function toolbar_event(event) {\n",
       "        return fig.toolbar_button_onclick(event['data']);\n",
       "    }\n",
       "    function toolbar_mouse_event(event) {\n",
       "        return fig.toolbar_button_onmouseover(event['data']);\n",
       "    }\n",
       "\n",
       "    for(var toolbar_ind in mpl.toolbar_items) {\n",
       "        var name = mpl.toolbar_items[toolbar_ind][0];\n",
       "        var tooltip = mpl.toolbar_items[toolbar_ind][1];\n",
       "        var image = mpl.toolbar_items[toolbar_ind][2];\n",
       "        var method_name = mpl.toolbar_items[toolbar_ind][3];\n",
       "\n",
       "        if (!name) {\n",
       "            // put a spacer in here.\n",
       "            continue;\n",
       "        }\n",
       "        var button = $('<button/>');\n",
       "        button.addClass('ui-button ui-widget ui-state-default ui-corner-all ' +\n",
       "                        'ui-button-icon-only');\n",
       "        button.attr('role', 'button');\n",
       "        button.attr('aria-disabled', 'false');\n",
       "        button.click(method_name, toolbar_event);\n",
       "        button.mouseover(tooltip, toolbar_mouse_event);\n",
       "\n",
       "        var icon_img = $('<span/>');\n",
       "        icon_img.addClass('ui-button-icon-primary ui-icon');\n",
       "        icon_img.addClass(image);\n",
       "        icon_img.addClass('ui-corner-all');\n",
       "\n",
       "        var tooltip_span = $('<span/>');\n",
       "        tooltip_span.addClass('ui-button-text');\n",
       "        tooltip_span.html(tooltip);\n",
       "\n",
       "        button.append(icon_img);\n",
       "        button.append(tooltip_span);\n",
       "\n",
       "        nav_element.append(button);\n",
       "    }\n",
       "\n",
       "    var fmt_picker_span = $('<span/>');\n",
       "\n",
       "    var fmt_picker = $('<select/>');\n",
       "    fmt_picker.addClass('mpl-toolbar-option ui-widget ui-widget-content');\n",
       "    fmt_picker_span.append(fmt_picker);\n",
       "    nav_element.append(fmt_picker_span);\n",
       "    this.format_dropdown = fmt_picker[0];\n",
       "\n",
       "    for (var ind in mpl.extensions) {\n",
       "        var fmt = mpl.extensions[ind];\n",
       "        var option = $(\n",
       "            '<option/>', {selected: fmt === mpl.default_extension}).html(fmt);\n",
       "        fmt_picker.append(option);\n",
       "    }\n",
       "\n",
       "    // Add hover states to the ui-buttons\n",
       "    $( \".ui-button\" ).hover(\n",
       "        function() { $(this).addClass(\"ui-state-hover\");},\n",
       "        function() { $(this).removeClass(\"ui-state-hover\");}\n",
       "    );\n",
       "\n",
       "    var status_bar = $('<span class=\"mpl-message\"/>');\n",
       "    nav_element.append(status_bar);\n",
       "    this.message = status_bar[0];\n",
       "}\n",
       "\n",
       "mpl.figure.prototype.request_resize = function(x_pixels, y_pixels) {\n",
       "    // Request matplotlib to resize the figure. Matplotlib will then trigger a resize in the client,\n",
       "    // which will in turn request a refresh of the image.\n",
       "    this.send_message('resize', {'width': x_pixels, 'height': y_pixels});\n",
       "}\n",
       "\n",
       "mpl.figure.prototype.send_message = function(type, properties) {\n",
       "    properties['type'] = type;\n",
       "    properties['figure_id'] = this.id;\n",
       "    this.ws.send(JSON.stringify(properties));\n",
       "}\n",
       "\n",
       "mpl.figure.prototype.send_draw_message = function() {\n",
       "    if (!this.waiting) {\n",
       "        this.waiting = true;\n",
       "        this.ws.send(JSON.stringify({type: \"draw\", figure_id: this.id}));\n",
       "    }\n",
       "}\n",
       "\n",
       "\n",
       "mpl.figure.prototype.handle_save = function(fig, msg) {\n",
       "    var format_dropdown = fig.format_dropdown;\n",
       "    var format = format_dropdown.options[format_dropdown.selectedIndex].value;\n",
       "    fig.ondownload(fig, format);\n",
       "}\n",
       "\n",
       "\n",
       "mpl.figure.prototype.handle_resize = function(fig, msg) {\n",
       "    var size = msg['size'];\n",
       "    if (size[0] != fig.canvas.width || size[1] != fig.canvas.height) {\n",
       "        fig._resize_canvas(size[0], size[1]);\n",
       "        fig.send_message(\"refresh\", {});\n",
       "    };\n",
       "}\n",
       "\n",
       "mpl.figure.prototype.handle_rubberband = function(fig, msg) {\n",
       "    var x0 = msg['x0'] / mpl.ratio;\n",
       "    var y0 = (fig.canvas.height - msg['y0']) / mpl.ratio;\n",
       "    var x1 = msg['x1'] / mpl.ratio;\n",
       "    var y1 = (fig.canvas.height - msg['y1']) / mpl.ratio;\n",
       "    x0 = Math.floor(x0) + 0.5;\n",
       "    y0 = Math.floor(y0) + 0.5;\n",
       "    x1 = Math.floor(x1) + 0.5;\n",
       "    y1 = Math.floor(y1) + 0.5;\n",
       "    var min_x = Math.min(x0, x1);\n",
       "    var min_y = Math.min(y0, y1);\n",
       "    var width = Math.abs(x1 - x0);\n",
       "    var height = Math.abs(y1 - y0);\n",
       "\n",
       "    fig.rubberband_context.clearRect(\n",
       "        0, 0, fig.canvas.width / mpl.ratio, fig.canvas.height / mpl.ratio);\n",
       "\n",
       "    fig.rubberband_context.strokeRect(min_x, min_y, width, height);\n",
       "}\n",
       "\n",
       "mpl.figure.prototype.handle_figure_label = function(fig, msg) {\n",
       "    // Updates the figure title.\n",
       "    fig.header.textContent = msg['label'];\n",
       "}\n",
       "\n",
       "mpl.figure.prototype.handle_cursor = function(fig, msg) {\n",
       "    var cursor = msg['cursor'];\n",
       "    switch(cursor)\n",
       "    {\n",
       "    case 0:\n",
       "        cursor = 'pointer';\n",
       "        break;\n",
       "    case 1:\n",
       "        cursor = 'default';\n",
       "        break;\n",
       "    case 2:\n",
       "        cursor = 'crosshair';\n",
       "        break;\n",
       "    case 3:\n",
       "        cursor = 'move';\n",
       "        break;\n",
       "    }\n",
       "    fig.rubberband_canvas.style.cursor = cursor;\n",
       "}\n",
       "\n",
       "mpl.figure.prototype.handle_message = function(fig, msg) {\n",
       "    fig.message.textContent = msg['message'];\n",
       "}\n",
       "\n",
       "mpl.figure.prototype.handle_draw = function(fig, msg) {\n",
       "    // Request the server to send over a new figure.\n",
       "    fig.send_draw_message();\n",
       "}\n",
       "\n",
       "mpl.figure.prototype.handle_image_mode = function(fig, msg) {\n",
       "    fig.image_mode = msg['mode'];\n",
       "}\n",
       "\n",
       "mpl.figure.prototype.updated_canvas_event = function() {\n",
       "    // Called whenever the canvas gets updated.\n",
       "    this.send_message(\"ack\", {});\n",
       "}\n",
       "\n",
       "// A function to construct a web socket function for onmessage handling.\n",
       "// Called in the figure constructor.\n",
       "mpl.figure.prototype._make_on_message_function = function(fig) {\n",
       "    return function socket_on_message(evt) {\n",
       "        if (evt.data instanceof Blob) {\n",
       "            /* FIXME: We get \"Resource interpreted as Image but\n",
       "             * transferred with MIME type text/plain:\" errors on\n",
       "             * Chrome.  But how to set the MIME type?  It doesn't seem\n",
       "             * to be part of the websocket stream */\n",
       "            evt.data.type = \"image/png\";\n",
       "\n",
       "            /* Free the memory for the previous frames */\n",
       "            if (fig.imageObj.src) {\n",
       "                (window.URL || window.webkitURL).revokeObjectURL(\n",
       "                    fig.imageObj.src);\n",
       "            }\n",
       "\n",
       "            fig.imageObj.src = (window.URL || window.webkitURL).createObjectURL(\n",
       "                evt.data);\n",
       "            fig.updated_canvas_event();\n",
       "            fig.waiting = false;\n",
       "            return;\n",
       "        }\n",
       "        else if (typeof evt.data === 'string' && evt.data.slice(0, 21) == \"data:image/png;base64\") {\n",
       "            fig.imageObj.src = evt.data;\n",
       "            fig.updated_canvas_event();\n",
       "            fig.waiting = false;\n",
       "            return;\n",
       "        }\n",
       "\n",
       "        var msg = JSON.parse(evt.data);\n",
       "        var msg_type = msg['type'];\n",
       "\n",
       "        // Call the  \"handle_{type}\" callback, which takes\n",
       "        // the figure and JSON message as its only arguments.\n",
       "        try {\n",
       "            var callback = fig[\"handle_\" + msg_type];\n",
       "        } catch (e) {\n",
       "            console.log(\"No handler for the '\" + msg_type + \"' message type: \", msg);\n",
       "            return;\n",
       "        }\n",
       "\n",
       "        if (callback) {\n",
       "            try {\n",
       "                // console.log(\"Handling '\" + msg_type + \"' message: \", msg);\n",
       "                callback(fig, msg);\n",
       "            } catch (e) {\n",
       "                console.log(\"Exception inside the 'handler_\" + msg_type + \"' callback:\", e, e.stack, msg);\n",
       "            }\n",
       "        }\n",
       "    };\n",
       "}\n",
       "\n",
       "// from http://stackoverflow.com/questions/1114465/getting-mouse-location-in-canvas\n",
       "mpl.findpos = function(e) {\n",
       "    //this section is from http://www.quirksmode.org/js/events_properties.html\n",
       "    var targ;\n",
       "    if (!e)\n",
       "        e = window.event;\n",
       "    if (e.target)\n",
       "        targ = e.target;\n",
       "    else if (e.srcElement)\n",
       "        targ = e.srcElement;\n",
       "    if (targ.nodeType == 3) // defeat Safari bug\n",
       "        targ = targ.parentNode;\n",
       "\n",
       "    // jQuery normalizes the pageX and pageY\n",
       "    // pageX,Y are the mouse positions relative to the document\n",
       "    // offset() returns the position of the element relative to the document\n",
       "    var x = e.pageX - $(targ).offset().left;\n",
       "    var y = e.pageY - $(targ).offset().top;\n",
       "\n",
       "    return {\"x\": x, \"y\": y};\n",
       "};\n",
       "\n",
       "/*\n",
       " * return a copy of an object with only non-object keys\n",
       " * we need this to avoid circular references\n",
       " * http://stackoverflow.com/a/24161582/3208463\n",
       " */\n",
       "function simpleKeys (original) {\n",
       "  return Object.keys(original).reduce(function (obj, key) {\n",
       "    if (typeof original[key] !== 'object')\n",
       "        obj[key] = original[key]\n",
       "    return obj;\n",
       "  }, {});\n",
       "}\n",
       "\n",
       "mpl.figure.prototype.mouse_event = function(event, name) {\n",
       "    var canvas_pos = mpl.findpos(event)\n",
       "\n",
       "    if (name === 'button_press')\n",
       "    {\n",
       "        this.canvas.focus();\n",
       "        this.canvas_div.focus();\n",
       "    }\n",
       "\n",
       "    var x = canvas_pos.x * mpl.ratio;\n",
       "    var y = canvas_pos.y * mpl.ratio;\n",
       "\n",
       "    this.send_message(name, {x: x, y: y, button: event.button,\n",
       "                             step: event.step,\n",
       "                             guiEvent: simpleKeys(event)});\n",
       "\n",
       "    /* This prevents the web browser from automatically changing to\n",
       "     * the text insertion cursor when the button is pressed.  We want\n",
       "     * to control all of the cursor setting manually through the\n",
       "     * 'cursor' event from matplotlib */\n",
       "    event.preventDefault();\n",
       "    return false;\n",
       "}\n",
       "\n",
       "mpl.figure.prototype._key_event_extra = function(event, name) {\n",
       "    // Handle any extra behaviour associated with a key event\n",
       "}\n",
       "\n",
       "mpl.figure.prototype.key_event = function(event, name) {\n",
       "\n",
       "    // Prevent repeat events\n",
       "    if (name == 'key_press')\n",
       "    {\n",
       "        if (event.which === this._key)\n",
       "            return;\n",
       "        else\n",
       "            this._key = event.which;\n",
       "    }\n",
       "    if (name == 'key_release')\n",
       "        this._key = null;\n",
       "\n",
       "    var value = '';\n",
       "    if (event.ctrlKey && event.which != 17)\n",
       "        value += \"ctrl+\";\n",
       "    if (event.altKey && event.which != 18)\n",
       "        value += \"alt+\";\n",
       "    if (event.shiftKey && event.which != 16)\n",
       "        value += \"shift+\";\n",
       "\n",
       "    value += 'k';\n",
       "    value += event.which.toString();\n",
       "\n",
       "    this._key_event_extra(event, name);\n",
       "\n",
       "    this.send_message(name, {key: value,\n",
       "                             guiEvent: simpleKeys(event)});\n",
       "    return false;\n",
       "}\n",
       "\n",
       "mpl.figure.prototype.toolbar_button_onclick = function(name) {\n",
       "    if (name == 'download') {\n",
       "        this.handle_save(this, null);\n",
       "    } else {\n",
       "        this.send_message(\"toolbar_button\", {name: name});\n",
       "    }\n",
       "};\n",
       "\n",
       "mpl.figure.prototype.toolbar_button_onmouseover = function(tooltip) {\n",
       "    this.message.textContent = tooltip;\n",
       "};\n",
       "mpl.toolbar_items = [[\"Home\", \"Reset original view\", \"fa fa-home icon-home\", \"home\"], [\"Back\", \"Back to previous view\", \"fa fa-arrow-left icon-arrow-left\", \"back\"], [\"Forward\", \"Forward to next view\", \"fa fa-arrow-right icon-arrow-right\", \"forward\"], [\"\", \"\", \"\", \"\"], [\"Pan\", \"Pan axes with left mouse, zoom with right\", \"fa fa-arrows icon-move\", \"pan\"], [\"Zoom\", \"Zoom to rectangle\", \"fa fa-square-o icon-check-empty\", \"zoom\"], [\"\", \"\", \"\", \"\"], [\"Download\", \"Download plot\", \"fa fa-floppy-o icon-save\", \"download\"]];\n",
       "\n",
       "mpl.extensions = [\"eps\", \"jpeg\", \"pdf\", \"png\", \"ps\", \"raw\", \"svg\", \"tif\"];\n",
       "\n",
       "mpl.default_extension = \"png\";var comm_websocket_adapter = function(comm) {\n",
       "    // Create a \"websocket\"-like object which calls the given IPython comm\n",
       "    // object with the appropriate methods. Currently this is a non binary\n",
       "    // socket, so there is still some room for performance tuning.\n",
       "    var ws = {};\n",
       "\n",
       "    ws.close = function() {\n",
       "        comm.close()\n",
       "    };\n",
       "    ws.send = function(m) {\n",
       "        //console.log('sending', m);\n",
       "        comm.send(m);\n",
       "    };\n",
       "    // Register the callback with on_msg.\n",
       "    comm.on_msg(function(msg) {\n",
       "        //console.log('receiving', msg['content']['data'], msg);\n",
       "        // Pass the mpl event to the overridden (by mpl) onmessage function.\n",
       "        ws.onmessage(msg['content']['data'])\n",
       "    });\n",
       "    return ws;\n",
       "}\n",
       "\n",
       "mpl.mpl_figure_comm = function(comm, msg) {\n",
       "    // This is the function which gets called when the mpl process\n",
       "    // starts-up an IPython Comm through the \"matplotlib\" channel.\n",
       "\n",
       "    var id = msg.content.data.id;\n",
       "    // Get hold of the div created by the display call when the Comm\n",
       "    // socket was opened in Python.\n",
       "    var element = $(\"#\" + id);\n",
       "    var ws_proxy = comm_websocket_adapter(comm)\n",
       "\n",
       "    function ondownload(figure, format) {\n",
       "        window.open(figure.imageObj.src);\n",
       "    }\n",
       "\n",
       "    var fig = new mpl.figure(id, ws_proxy,\n",
       "                           ondownload,\n",
       "                           element.get(0));\n",
       "\n",
       "    // Call onopen now - mpl needs it, as it is assuming we've passed it a real\n",
       "    // web socket which is closed, not our websocket->open comm proxy.\n",
       "    ws_proxy.onopen();\n",
       "\n",
       "    fig.parent_element = element.get(0);\n",
       "    fig.cell_info = mpl.find_output_cell(\"<div id='\" + id + \"'></div>\");\n",
       "    if (!fig.cell_info) {\n",
       "        console.error(\"Failed to find cell for figure\", id, fig);\n",
       "        return;\n",
       "    }\n",
       "\n",
       "    var output_index = fig.cell_info[2]\n",
       "    var cell = fig.cell_info[0];\n",
       "\n",
       "};\n",
       "\n",
       "mpl.figure.prototype.handle_close = function(fig, msg) {\n",
       "    var width = fig.canvas.width/mpl.ratio\n",
       "    fig.root.unbind('remove')\n",
       "\n",
       "    // Update the output cell to use the data from the current canvas.\n",
       "    fig.push_to_output();\n",
       "    var dataURL = fig.canvas.toDataURL();\n",
       "    // Re-enable the keyboard manager in IPython - without this line, in FF,\n",
       "    // the notebook keyboard shortcuts fail.\n",
       "    IPython.keyboard_manager.enable()\n",
       "    $(fig.parent_element).html('<img src=\"' + dataURL + '\" width=\"' + width + '\">');\n",
       "    fig.close_ws(fig, msg);\n",
       "}\n",
       "\n",
       "mpl.figure.prototype.close_ws = function(fig, msg){\n",
       "    fig.send_message('closing', msg);\n",
       "    // fig.ws.close()\n",
       "}\n",
       "\n",
       "mpl.figure.prototype.push_to_output = function(remove_interactive) {\n",
       "    // Turn the data on the canvas into data in the output cell.\n",
       "    var width = this.canvas.width/mpl.ratio\n",
       "    var dataURL = this.canvas.toDataURL();\n",
       "    this.cell_info[1]['text/html'] = '<img src=\"' + dataURL + '\" width=\"' + width + '\">';\n",
       "}\n",
       "\n",
       "mpl.figure.prototype.updated_canvas_event = function() {\n",
       "    // Tell IPython that the notebook contents must change.\n",
       "    IPython.notebook.set_dirty(true);\n",
       "    this.send_message(\"ack\", {});\n",
       "    var fig = this;\n",
       "    // Wait a second, then push the new image to the DOM so\n",
       "    // that it is saved nicely (might be nice to debounce this).\n",
       "    setTimeout(function () { fig.push_to_output() }, 1000);\n",
       "}\n",
       "\n",
       "mpl.figure.prototype._init_toolbar = function() {\n",
       "    var fig = this;\n",
       "\n",
       "    var nav_element = $('<div/>');\n",
       "    nav_element.attr('style', 'width: 100%');\n",
       "    this.root.append(nav_element);\n",
       "\n",
       "    // Define a callback function for later on.\n",
       "    function toolbar_event(event) {\n",
       "        return fig.toolbar_button_onclick(event['data']);\n",
       "    }\n",
       "    function toolbar_mouse_event(event) {\n",
       "        return fig.toolbar_button_onmouseover(event['data']);\n",
       "    }\n",
       "\n",
       "    for(var toolbar_ind in mpl.toolbar_items){\n",
       "        var name = mpl.toolbar_items[toolbar_ind][0];\n",
       "        var tooltip = mpl.toolbar_items[toolbar_ind][1];\n",
       "        var image = mpl.toolbar_items[toolbar_ind][2];\n",
       "        var method_name = mpl.toolbar_items[toolbar_ind][3];\n",
       "\n",
       "        if (!name) { continue; };\n",
       "\n",
       "        var button = $('<button class=\"btn btn-default\" href=\"#\" title=\"' + name + '\"><i class=\"fa ' + image + ' fa-lg\"></i></button>');\n",
       "        button.click(method_name, toolbar_event);\n",
       "        button.mouseover(tooltip, toolbar_mouse_event);\n",
       "        nav_element.append(button);\n",
       "    }\n",
       "\n",
       "    // Add the status bar.\n",
       "    var status_bar = $('<span class=\"mpl-message\" style=\"text-align:right; float: right;\"/>');\n",
       "    nav_element.append(status_bar);\n",
       "    this.message = status_bar[0];\n",
       "\n",
       "    // Add the close button to the window.\n",
       "    var buttongrp = $('<div class=\"btn-group inline pull-right\"></div>');\n",
       "    var button = $('<button class=\"btn btn-mini btn-primary\" href=\"#\" title=\"Stop Interaction\"><i class=\"fa fa-power-off icon-remove icon-large\"></i></button>');\n",
       "    button.click(function (evt) { fig.handle_close(fig, {}); } );\n",
       "    button.mouseover('Stop Interaction', toolbar_mouse_event);\n",
       "    buttongrp.append(button);\n",
       "    var titlebar = this.root.find($('.ui-dialog-titlebar'));\n",
       "    titlebar.prepend(buttongrp);\n",
       "}\n",
       "\n",
       "mpl.figure.prototype._root_extra_style = function(el){\n",
       "    var fig = this\n",
       "    el.on(\"remove\", function(){\n",
       "\tfig.close_ws(fig, {});\n",
       "    });\n",
       "}\n",
       "\n",
       "mpl.figure.prototype._canvas_extra_style = function(el){\n",
       "    // this is important to make the div 'focusable\n",
       "    el.attr('tabindex', 0)\n",
       "    // reach out to IPython and tell the keyboard manager to turn it's self\n",
       "    // off when our div gets focus\n",
       "\n",
       "    // location in version 3\n",
       "    if (IPython.notebook.keyboard_manager) {\n",
       "        IPython.notebook.keyboard_manager.register_events(el);\n",
       "    }\n",
       "    else {\n",
       "        // location in version 2\n",
       "        IPython.keyboard_manager.register_events(el);\n",
       "    }\n",
       "\n",
       "}\n",
       "\n",
       "mpl.figure.prototype._key_event_extra = function(event, name) {\n",
       "    var manager = IPython.notebook.keyboard_manager;\n",
       "    if (!manager)\n",
       "        manager = IPython.keyboard_manager;\n",
       "\n",
       "    // Check for shift+enter\n",
       "    if (event.shiftKey && event.which == 13) {\n",
       "        this.canvas_div.blur();\n",
       "        // select the cell after this one\n",
       "        var index = IPython.notebook.find_cell_index(this.cell_info[0]);\n",
       "        IPython.notebook.select(index + 1);\n",
       "    }\n",
       "}\n",
       "\n",
       "mpl.figure.prototype.handle_save = function(fig, msg) {\n",
       "    fig.ondownload(fig, null);\n",
       "}\n",
       "\n",
       "\n",
       "mpl.find_output_cell = function(html_output) {\n",
       "    // Return the cell and output element which can be found *uniquely* in the notebook.\n",
       "    // Note - this is a bit hacky, but it is done because the \"notebook_saving.Notebook\"\n",
       "    // IPython event is triggered only after the cells have been serialised, which for\n",
       "    // our purposes (turning an active figure into a static one), is too late.\n",
       "    var cells = IPython.notebook.get_cells();\n",
       "    var ncells = cells.length;\n",
       "    for (var i=0; i<ncells; i++) {\n",
       "        var cell = cells[i];\n",
       "        if (cell.cell_type === 'code'){\n",
       "            for (var j=0; j<cell.output_area.outputs.length; j++) {\n",
       "                var data = cell.output_area.outputs[j];\n",
       "                if (data.data) {\n",
       "                    // IPython >= 3 moved mimebundle to data attribute of output\n",
       "                    data = data.data;\n",
       "                }\n",
       "                if (data['text/html'] == html_output) {\n",
       "                    return [cell, data, j];\n",
       "                }\n",
       "            }\n",
       "        }\n",
       "    }\n",
       "}\n",
       "\n",
       "// Register the function which deals with the matplotlib target/channel.\n",
       "// The kernel may be null if the page has been refreshed.\n",
       "if (IPython.notebook.kernel != null) {\n",
       "    IPython.notebook.kernel.comm_manager.register_target('matplotlib', mpl.mpl_figure_comm);\n",
       "}\n"
      ],
      "text/plain": [
       "<IPython.core.display.Javascript object>"
      ]
     },
     "metadata": {},
     "output_type": "display_data"
    },
    {
     "data": {
      "text/html": [
       "<img src=\"data:image/png;base64,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\" width=\"1000\">"
      ],
      "text/plain": [
       "<IPython.core.display.HTML object>"
      ]
     },
     "metadata": {},
     "output_type": "display_data"
    }
   ],
   "source": [
    "ax, tax, lax, lines = dual_train_plots()\n",
    "fig = ax.figure\n",
    "plt.tight_layout()"
   ]
  },
  {
   "cell_type": "code",
   "execution_count": 15,
   "metadata": {
    "scrolled": false
   },
   "outputs": [
    {
     "name": "stdout",
     "output_type": "stream",
     "text": [
      "Number of batches: train = 6667, val = 417\n"
     ]
    },
    {
     "data": {
      "application/vnd.jupyter.widget-view+json": {
       "model_id": "803a63a6a6f941a397e5bc7ae0f11537",
       "version_major": 2,
       "version_minor": 0
      },
      "text/plain": [
       "HBox(children=(FloatProgress(value=0.0, description='Epochs', layout=Layout(flex='2'), max=50.0, style=Progres…"
      ]
     },
     "metadata": {},
     "output_type": "display_data"
    },
    {
     "data": {
      "application/vnd.jupyter.widget-view+json": {
       "model_id": "",
       "version_major": 2,
       "version_minor": 0
      },
      "text/plain": [
       "HBox(children=(FloatProgress(value=0.0, description='Training', layout=Layout(flex='2'), max=6667.0, style=Pro…"
      ]
     },
     "metadata": {},
     "output_type": "display_data"
    },
    {
     "name": "stdout",
     "output_type": "stream",
     "text": [
      "Epoch 0: train=6.91025, val=6.38477, took 590.53 s\n",
      "  Validation Found 85649 of 108024, added 8568 (eff 79.29%) (0.428 FP/event)\n"
     ]
    },
    {
     "data": {
      "application/vnd.jupyter.widget-view+json": {
       "model_id": "",
       "version_major": 2,
       "version_minor": 0
      },
      "text/plain": [
       "HBox(children=(FloatProgress(value=0.0, description='Training', layout=Layout(flex='2'), max=6667.0, style=Pro…"
      ]
     },
     "metadata": {},
     "output_type": "display_data"
    },
    {
     "name": "stdout",
     "output_type": "stream",
     "text": [
      "Epoch 1: train=6.90257, val=6.22766, took 594.14 s\n",
      "  Validation Found 85987 of 108024, added 8600 (eff 79.60%) (0.43 FP/event)\n"
     ]
    },
    {
     "data": {
      "application/vnd.jupyter.widget-view+json": {
       "model_id": "",
       "version_major": 2,
       "version_minor": 0
      },
      "text/plain": [
       "HBox(children=(FloatProgress(value=0.0, description='Training', layout=Layout(flex='2'), max=6667.0, style=Pro…"
      ]
     },
     "metadata": {},
     "output_type": "display_data"
    },
    {
     "name": "stdout",
     "output_type": "stream",
     "text": [
      "Epoch 2: train=6.89682, val=6.20222, took 592.52 s\n",
      "  Validation Found 85694 of 108024, added 8723 (eff 79.33%) (0.436 FP/event)\n"
     ]
    },
    {
     "data": {
      "application/vnd.jupyter.widget-view+json": {
       "model_id": "",
       "version_major": 2,
       "version_minor": 0
      },
      "text/plain": [
       "HBox(children=(FloatProgress(value=0.0, description='Training', layout=Layout(flex='2'), max=6667.0, style=Pro…"
      ]
     },
     "metadata": {},
     "output_type": "display_data"
    },
    {
     "name": "stdout",
     "output_type": "stream",
     "text": [
      "Epoch 3: train=6.8977, val=6.65818, took 591.41 s\n",
      "  Validation Found 86087 of 108024, added 8899 (eff 79.69%) (0.445 FP/event)\n"
     ]
    },
    {
     "data": {
      "application/vnd.jupyter.widget-view+json": {
       "model_id": "",
       "version_major": 2,
       "version_minor": 0
      },
      "text/plain": [
       "HBox(children=(FloatProgress(value=0.0, description='Training', layout=Layout(flex='2'), max=6667.0, style=Pro…"
      ]
     },
     "metadata": {},
     "output_type": "display_data"
    },
    {
     "name": "stdout",
     "output_type": "stream",
     "text": [
      "Epoch 4: train=6.892, val=6.20598, took 590.81 s\n",
      "  Validation Found 85240 of 108024, added 8398 (eff 78.91%) (0.42 FP/event)\n"
     ]
    },
    {
     "data": {
      "application/vnd.jupyter.widget-view+json": {
       "model_id": "",
       "version_major": 2,
       "version_minor": 0
      },
      "text/plain": [
       "HBox(children=(FloatProgress(value=0.0, description='Training', layout=Layout(flex='2'), max=6667.0, style=Pro…"
      ]
     },
     "metadata": {},
     "output_type": "display_data"
    },
    {
     "name": "stdout",
     "output_type": "stream",
     "text": [
      "Epoch 5: train=6.88511, val=6.43414, took 591.0 s\n",
      "  Validation Found 85805 of 108024, added 8702 (eff 79.43%) (0.435 FP/event)\n"
     ]
    },
    {
     "data": {
      "application/vnd.jupyter.widget-view+json": {
       "model_id": "",
       "version_major": 2,
       "version_minor": 0
      },
      "text/plain": [
       "HBox(children=(FloatProgress(value=0.0, description='Training', layout=Layout(flex='2'), max=6667.0, style=Pro…"
      ]
     },
     "metadata": {},
     "output_type": "display_data"
    },
    {
     "name": "stdout",
     "output_type": "stream",
     "text": [
      "Epoch 6: train=6.87266, val=6.32236, took 591.19 s\n",
      "  Validation Found 85884 of 108024, added 8666 (eff 79.50%) (0.433 FP/event)\n"
     ]
    },
    {
     "data": {
      "application/vnd.jupyter.widget-view+json": {
       "model_id": "",
       "version_major": 2,
       "version_minor": 0
      },
      "text/plain": [
       "HBox(children=(FloatProgress(value=0.0, description='Training', layout=Layout(flex='2'), max=6667.0, style=Pro…"
      ]
     },
     "metadata": {},
     "output_type": "display_data"
    },
    {
     "name": "stdout",
     "output_type": "stream",
     "text": [
      "Epoch 7: train=6.86844, val=6.22862, took 591.35 s\n",
      "  Validation Found 85481 of 108024, added 8431 (eff 79.13%) (0.422 FP/event)\n"
     ]
    },
    {
     "data": {
      "application/vnd.jupyter.widget-view+json": {
       "model_id": "",
       "version_major": 2,
       "version_minor": 0
      },
      "text/plain": [
       "HBox(children=(FloatProgress(value=0.0, description='Training', layout=Layout(flex='2'), max=6667.0, style=Pro…"
      ]
     },
     "metadata": {},
     "output_type": "display_data"
    },
    {
     "name": "stdout",
     "output_type": "stream",
     "text": [
      "Epoch 8: train=6.86715, val=6.21388, took 590.9 s\n",
      "  Validation Found 85786 of 108024, added 8566 (eff 79.41%) (0.428 FP/event)\n"
     ]
    },
    {
     "data": {
      "application/vnd.jupyter.widget-view+json": {
       "model_id": "",
       "version_major": 2,
       "version_minor": 0
      },
      "text/plain": [
       "HBox(children=(FloatProgress(value=0.0, description='Training', layout=Layout(flex='2'), max=6667.0, style=Pro…"
      ]
     },
     "metadata": {},
     "output_type": "display_data"
    },
    {
     "name": "stdout",
     "output_type": "stream",
     "text": [
      "Epoch 9: train=6.85906, val=6.18262, took 591.0 s\n",
      "  Validation Found 85761 of 108024, added 8407 (eff 79.39%) (0.42 FP/event)\n"
     ]
    },
    {
     "data": {
      "application/vnd.jupyter.widget-view+json": {
       "model_id": "",
       "version_major": 2,
       "version_minor": 0
      },
      "text/plain": [
       "HBox(children=(FloatProgress(value=0.0, description='Training', layout=Layout(flex='2'), max=6667.0, style=Pro…"
      ]
     },
     "metadata": {},
     "output_type": "display_data"
    },
    {
     "name": "stdout",
     "output_type": "stream",
     "text": [
      "Epoch 10: train=6.8577, val=6.18353, took 591.36 s\n",
      "  Validation Found 85378 of 108024, added 8195 (eff 79.04%) (0.41 FP/event)\n"
     ]
    },
    {
     "data": {
      "application/vnd.jupyter.widget-view+json": {
       "model_id": "",
       "version_major": 2,
       "version_minor": 0
      },
      "text/plain": [
       "HBox(children=(FloatProgress(value=0.0, description='Training', layout=Layout(flex='2'), max=6667.0, style=Pro…"
      ]
     },
     "metadata": {},
     "output_type": "display_data"
    },
    {
     "name": "stdout",
     "output_type": "stream",
     "text": [
      "Epoch 11: train=6.85148, val=6.16871, took 591.32 s\n",
      "  Validation Found 85561 of 108024, added 8306 (eff 79.21%) (0.415 FP/event)\n"
     ]
    },
    {
     "data": {
      "application/vnd.jupyter.widget-view+json": {
       "model_id": "",
       "version_major": 2,
       "version_minor": 0
      },
      "text/plain": [
       "HBox(children=(FloatProgress(value=0.0, description='Training', layout=Layout(flex='2'), max=6667.0, style=Pro…"
      ]
     },
     "metadata": {},
     "output_type": "display_data"
    },
    {
     "name": "stdout",
     "output_type": "stream",
     "text": [
      "Epoch 12: train=6.84438, val=6.16164, took 590.88 s\n",
      "  Validation Found 85801 of 108024, added 8543 (eff 79.43%) (0.427 FP/event)\n"
     ]
    },
    {
     "data": {
      "application/vnd.jupyter.widget-view+json": {
       "model_id": "",
       "version_major": 2,
       "version_minor": 0
      },
      "text/plain": [
       "HBox(children=(FloatProgress(value=0.0, description='Training', layout=Layout(flex='2'), max=6667.0, style=Pro…"
      ]
     },
     "metadata": {},
     "output_type": "display_data"
    },
    {
     "name": "stdout",
     "output_type": "stream",
     "text": [
      "Epoch 13: train=6.84207, val=6.87338, took 591.16 s\n",
      "  Validation Found 86283 of 108024, added 8996 (eff 79.87%) (0.45 FP/event)\n"
     ]
    },
    {
     "data": {
      "application/vnd.jupyter.widget-view+json": {
       "model_id": "",
       "version_major": 2,
       "version_minor": 0
      },
      "text/plain": [
       "HBox(children=(FloatProgress(value=0.0, description='Training', layout=Layout(flex='2'), max=6667.0, style=Pro…"
      ]
     },
     "metadata": {},
     "output_type": "display_data"
    },
    {
     "name": "stdout",
     "output_type": "stream",
     "text": [
      "Epoch 14: train=6.83939, val=6.1609, took 591.15 s\n",
      "  Validation Found 85717 of 108024, added 8309 (eff 79.35%) (0.415 FP/event)\n"
     ]
    },
    {
     "data": {
      "application/vnd.jupyter.widget-view+json": {
       "model_id": "",
       "version_major": 2,
       "version_minor": 0
      },
      "text/plain": [
       "HBox(children=(FloatProgress(value=0.0, description='Training', layout=Layout(flex='2'), max=6667.0, style=Pro…"
      ]
     },
     "metadata": {},
     "output_type": "display_data"
    },
    {
     "name": "stdout",
     "output_type": "stream",
     "text": [
      "Epoch 15: train=6.83018, val=6.18894, took 591.01 s\n",
      "  Validation Found 86337 of 108024, added 8605 (eff 79.92%) (0.43 FP/event)\n"
     ]
    },
    {
     "data": {
      "application/vnd.jupyter.widget-view+json": {
       "model_id": "",
       "version_major": 2,
       "version_minor": 0
      },
      "text/plain": [
       "HBox(children=(FloatProgress(value=0.0, description='Training', layout=Layout(flex='2'), max=6667.0, style=Pro…"
      ]
     },
     "metadata": {},
     "output_type": "display_data"
    },
    {
     "name": "stdout",
     "output_type": "stream",
     "text": [
      "Epoch 16: train=6.82433, val=6.14312, took 590.72 s\n",
      "  Validation Found 86496 of 108024, added 8644 (eff 80.07%) (0.432 FP/event)\n"
     ]
    },
    {
     "data": {
      "application/vnd.jupyter.widget-view+json": {
       "model_id": "",
       "version_major": 2,
       "version_minor": 0
      },
      "text/plain": [
       "HBox(children=(FloatProgress(value=0.0, description='Training', layout=Layout(flex='2'), max=6667.0, style=Pro…"
      ]
     },
     "metadata": {},
     "output_type": "display_data"
    },
    {
     "name": "stdout",
     "output_type": "stream",
     "text": [
      "Epoch 17: train=6.8151, val=6.1849, took 591.26 s\n",
      "  Validation Found 85689 of 108024, added 8432 (eff 79.32%) (0.422 FP/event)\n"
     ]
    },
    {
     "data": {
      "application/vnd.jupyter.widget-view+json": {
       "model_id": "",
       "version_major": 2,
       "version_minor": 0
      },
      "text/plain": [
       "HBox(children=(FloatProgress(value=0.0, description='Training', layout=Layout(flex='2'), max=6667.0, style=Pro…"
      ]
     },
     "metadata": {},
     "output_type": "display_data"
    },
    {
     "name": "stdout",
     "output_type": "stream",
     "text": [
      "Epoch 18: train=6.81862, val=6.1314, took 591.24 s\n",
      "  Validation Found 86168 of 108024, added 8490 (eff 79.77%) (0.424 FP/event)\n"
     ]
    },
    {
     "data": {
      "application/vnd.jupyter.widget-view+json": {
       "model_id": "",
       "version_major": 2,
       "version_minor": 0
      },
      "text/plain": [
       "HBox(children=(FloatProgress(value=0.0, description='Training', layout=Layout(flex='2'), max=6667.0, style=Pro…"
      ]
     },
     "metadata": {},
     "output_type": "display_data"
    },
    {
     "name": "stdout",
     "output_type": "stream",
     "text": [
      "Epoch 19: train=6.81889, val=6.28605, took 591.2 s\n",
      "  Validation Found 86421 of 108024, added 8732 (eff 80.00%) (0.437 FP/event)\n"
     ]
    },
    {
     "data": {
      "application/vnd.jupyter.widget-view+json": {
       "model_id": "",
       "version_major": 2,
       "version_minor": 0
      },
      "text/plain": [
       "HBox(children=(FloatProgress(value=0.0, description='Training', layout=Layout(flex='2'), max=6667.0, style=Pro…"
      ]
     },
     "metadata": {},
     "output_type": "display_data"
    },
    {
     "name": "stdout",
     "output_type": "stream",
     "text": [
      "Epoch 20: train=6.80244, val=6.26662, took 590.94 s\n",
      "  Validation Found 86296 of 108024, added 8622 (eff 79.89%) (0.431 FP/event)\n"
     ]
    },
    {
     "data": {
      "application/vnd.jupyter.widget-view+json": {
       "model_id": "",
       "version_major": 2,
       "version_minor": 0
      },
      "text/plain": [
       "HBox(children=(FloatProgress(value=0.0, description='Training', layout=Layout(flex='2'), max=6667.0, style=Pro…"
      ]
     },
     "metadata": {},
     "output_type": "display_data"
    },
    {
     "name": "stdout",
     "output_type": "stream",
     "text": [
      "Epoch 21: train=6.80323, val=6.20654, took 591.06 s\n",
      "  Validation Found 86462 of 108024, added 8658 (eff 80.04%) (0.433 FP/event)\n"
     ]
    },
    {
     "data": {
      "application/vnd.jupyter.widget-view+json": {
       "model_id": "",
       "version_major": 2,
       "version_minor": 0
      },
      "text/plain": [
       "HBox(children=(FloatProgress(value=0.0, description='Training', layout=Layout(flex='2'), max=6667.0, style=Pro…"
      ]
     },
     "metadata": {},
     "output_type": "display_data"
    },
    {
     "name": "stdout",
     "output_type": "stream",
     "text": [
      "Epoch 22: train=6.80577, val=6.75231, took 590.97 s\n",
      "  Validation Found 86738 of 108024, added 8995 (eff 80.30%) (0.45 FP/event)\n"
     ]
    },
    {
     "data": {
      "application/vnd.jupyter.widget-view+json": {
       "model_id": "",
       "version_major": 2,
       "version_minor": 0
      },
      "text/plain": [
       "HBox(children=(FloatProgress(value=0.0, description='Training', layout=Layout(flex='2'), max=6667.0, style=Pro…"
      ]
     },
     "metadata": {},
     "output_type": "display_data"
    },
    {
     "name": "stdout",
     "output_type": "stream",
     "text": [
      "Epoch 23: train=6.79258, val=6.69747, took 590.54 s\n",
      "  Validation Found 86454 of 108024, added 8938 (eff 80.03%) (0.447 FP/event)\n"
     ]
    },
    {
     "data": {
      "application/vnd.jupyter.widget-view+json": {
       "model_id": "",
       "version_major": 2,
       "version_minor": 0
      },
      "text/plain": [
       "HBox(children=(FloatProgress(value=0.0, description='Training', layout=Layout(flex='2'), max=6667.0, style=Pro…"
      ]
     },
     "metadata": {},
     "output_type": "display_data"
    },
    {
     "name": "stdout",
     "output_type": "stream",
     "text": [
      "Epoch 24: train=6.78698, val=6.10579, took 591.07 s\n",
      "  Validation Found 85888 of 108024, added 8365 (eff 79.51%) (0.418 FP/event)\n"
     ]
    },
    {
     "data": {
      "application/vnd.jupyter.widget-view+json": {
       "model_id": "",
       "version_major": 2,
       "version_minor": 0
      },
      "text/plain": [
       "HBox(children=(FloatProgress(value=0.0, description='Training', layout=Layout(flex='2'), max=6667.0, style=Pro…"
      ]
     },
     "metadata": {},
     "output_type": "display_data"
    },
    {
     "name": "stdout",
     "output_type": "stream",
     "text": [
      "Epoch 25: train=6.78536, val=6.09569, took 590.91 s\n",
      "  Validation Found 86481 of 108024, added 8497 (eff 80.06%) (0.425 FP/event)\n"
     ]
    },
    {
     "data": {
      "application/vnd.jupyter.widget-view+json": {
       "model_id": "",
       "version_major": 2,
       "version_minor": 0
      },
      "text/plain": [
       "HBox(children=(FloatProgress(value=0.0, description='Training', layout=Layout(flex='2'), max=6667.0, style=Pro…"
      ]
     },
     "metadata": {},
     "output_type": "display_data"
    },
    {
     "name": "stdout",
     "output_type": "stream",
     "text": [
      "Epoch 26: train=6.77549, val=6.12994, took 591.78 s\n",
      "  Validation Found 86794 of 108024, added 8736 (eff 80.35%) (0.437 FP/event)\n"
     ]
    },
    {
     "data": {
      "application/vnd.jupyter.widget-view+json": {
       "model_id": "",
       "version_major": 2,
       "version_minor": 0
      },
      "text/plain": [
       "HBox(children=(FloatProgress(value=0.0, description='Training', layout=Layout(flex='2'), max=6667.0, style=Pro…"
      ]
     },
     "metadata": {},
     "output_type": "display_data"
    },
    {
     "name": "stdout",
     "output_type": "stream",
     "text": [
      "Epoch 27: train=6.77441, val=6.16072, took 591.3 s\n",
      "  Validation Found 86659 of 108024, added 8675 (eff 80.22%) (0.434 FP/event)\n"
     ]
    },
    {
     "data": {
      "application/vnd.jupyter.widget-view+json": {
       "model_id": "",
       "version_major": 2,
       "version_minor": 0
      },
      "text/plain": [
       "HBox(children=(FloatProgress(value=0.0, description='Training', layout=Layout(flex='2'), max=6667.0, style=Pro…"
      ]
     },
     "metadata": {},
     "output_type": "display_data"
    },
    {
     "name": "stdout",
     "output_type": "stream",
     "text": [
      "Epoch 28: train=6.77413, val=6.1281, took 591.59 s\n",
      "  Validation Found 86488 of 108024, added 8687 (eff 80.06%) (0.434 FP/event)\n"
     ]
    },
    {
     "data": {
      "application/vnd.jupyter.widget-view+json": {
       "model_id": "",
       "version_major": 2,
       "version_minor": 0
      },
      "text/plain": [
       "HBox(children=(FloatProgress(value=0.0, description='Training', layout=Layout(flex='2'), max=6667.0, style=Pro…"
      ]
     },
     "metadata": {},
     "output_type": "display_data"
    },
    {
     "name": "stdout",
     "output_type": "stream",
     "text": [
      "Epoch 29: train=6.76486, val=6.11847, took 590.62 s\n",
      "  Validation Found 87246 of 108024, added 9058 (eff 80.77%) (0.453 FP/event)\n"
     ]
    },
    {
     "data": {
      "application/vnd.jupyter.widget-view+json": {
       "model_id": "",
       "version_major": 2,
       "version_minor": 0
      },
      "text/plain": [
       "HBox(children=(FloatProgress(value=0.0, description='Training', layout=Layout(flex='2'), max=6667.0, style=Pro…"
      ]
     },
     "metadata": {},
     "output_type": "display_data"
    },
    {
     "name": "stdout",
     "output_type": "stream",
     "text": [
      "Epoch 30: train=6.76094, val=6.25038, took 590.48 s\n",
      "  Validation Found 86664 of 108024, added 8697 (eff 80.23%) (0.435 FP/event)\n"
     ]
    },
    {
     "data": {
      "application/vnd.jupyter.widget-view+json": {
       "model_id": "",
       "version_major": 2,
       "version_minor": 0
      },
      "text/plain": [
       "HBox(children=(FloatProgress(value=0.0, description='Training', layout=Layout(flex='2'), max=6667.0, style=Pro…"
      ]
     },
     "metadata": {},
     "output_type": "display_data"
    },
    {
     "name": "stdout",
     "output_type": "stream",
     "text": [
      "Epoch 31: train=6.75513, val=6.07315, took 590.6 s\n",
      "  Validation Found 86346 of 108024, added 8589 (eff 79.93%) (0.429 FP/event)\n"
     ]
    },
    {
     "data": {
      "application/vnd.jupyter.widget-view+json": {
       "model_id": "",
       "version_major": 2,
       "version_minor": 0
      },
      "text/plain": [
       "HBox(children=(FloatProgress(value=0.0, description='Training', layout=Layout(flex='2'), max=6667.0, style=Pro…"
      ]
     },
     "metadata": {},
     "output_type": "display_data"
    },
    {
     "name": "stdout",
     "output_type": "stream",
     "text": [
      "Epoch 32: train=6.74608, val=6.08741, took 591.06 s\n",
      "  Validation Found 86775 of 108024, added 8635 (eff 80.33%) (0.432 FP/event)\n"
     ]
    },
    {
     "data": {
      "application/vnd.jupyter.widget-view+json": {
       "model_id": "",
       "version_major": 2,
       "version_minor": 0
      },
      "text/plain": [
       "HBox(children=(FloatProgress(value=0.0, description='Training', layout=Layout(flex='2'), max=6667.0, style=Pro…"
      ]
     },
     "metadata": {},
     "output_type": "display_data"
    },
    {
     "name": "stdout",
     "output_type": "stream",
     "text": [
      "Epoch 33: train=6.7515, val=6.14433, took 590.55 s\n",
      "  Validation Found 86352 of 108024, added 8489 (eff 79.94%) (0.424 FP/event)\n"
     ]
    },
    {
     "data": {
      "application/vnd.jupyter.widget-view+json": {
       "model_id": "",
       "version_major": 2,
       "version_minor": 0
      },
      "text/plain": [
       "HBox(children=(FloatProgress(value=0.0, description='Training', layout=Layout(flex='2'), max=6667.0, style=Pro…"
      ]
     },
     "metadata": {},
     "output_type": "display_data"
    },
    {
     "name": "stdout",
     "output_type": "stream",
     "text": [
      "Epoch 34: train=6.73877, val=6.23395, took 590.29 s\n",
      "  Validation Found 86326 of 108024, added 8549 (eff 79.91%) (0.427 FP/event)\n"
     ]
    },
    {
     "data": {
      "application/vnd.jupyter.widget-view+json": {
       "model_id": "",
       "version_major": 2,
       "version_minor": 0
      },
      "text/plain": [
       "HBox(children=(FloatProgress(value=0.0, description='Training', layout=Layout(flex='2'), max=6667.0, style=Pro…"
      ]
     },
     "metadata": {},
     "output_type": "display_data"
    },
    {
     "name": "stdout",
     "output_type": "stream",
     "text": [
      "Epoch 35: train=6.7428, val=6.28527, took 590.53 s\n",
      "  Validation Found 86677 of 108024, added 8801 (eff 80.24%) (0.44 FP/event)\n"
     ]
    },
    {
     "data": {
      "application/vnd.jupyter.widget-view+json": {
       "model_id": "",
       "version_major": 2,
       "version_minor": 0
      },
      "text/plain": [
       "HBox(children=(FloatProgress(value=0.0, description='Training', layout=Layout(flex='2'), max=6667.0, style=Pro…"
      ]
     },
     "metadata": {},
     "output_type": "display_data"
    },
    {
     "name": "stdout",
     "output_type": "stream",
     "text": [
      "Epoch 36: train=6.74322, val=6.15813, took 590.67 s\n",
      "  Validation Found 86458 of 108024, added 8532 (eff 80.04%) (0.427 FP/event)\n"
     ]
    },
    {
     "data": {
      "application/vnd.jupyter.widget-view+json": {
       "model_id": "",
       "version_major": 2,
       "version_minor": 0
      },
      "text/plain": [
       "HBox(children=(FloatProgress(value=0.0, description='Training', layout=Layout(flex='2'), max=6667.0, style=Pro…"
      ]
     },
     "metadata": {},
     "output_type": "display_data"
    },
    {
     "name": "stdout",
     "output_type": "stream",
     "text": [
      "Epoch 37: train=6.73148, val=6.08388, took 591.18 s\n",
      "  Validation Found 86916 of 108024, added 8773 (eff 80.46%) (0.439 FP/event)\n"
     ]
    },
    {
     "data": {
      "application/vnd.jupyter.widget-view+json": {
       "model_id": "",
       "version_major": 2,
       "version_minor": 0
      },
      "text/plain": [
       "HBox(children=(FloatProgress(value=0.0, description='Training', layout=Layout(flex='2'), max=6667.0, style=Pro…"
      ]
     },
     "metadata": {},
     "output_type": "display_data"
    },
    {
     "name": "stdout",
     "output_type": "stream",
     "text": [
      "Epoch 38: train=6.73228, val=6.14933, took 590.83 s\n",
      "  Validation Found 86519 of 108024, added 8583 (eff 80.09%) (0.429 FP/event)\n"
     ]
    },
    {
     "data": {
      "application/vnd.jupyter.widget-view+json": {
       "model_id": "",
       "version_major": 2,
       "version_minor": 0
      },
      "text/plain": [
       "HBox(children=(FloatProgress(value=0.0, description='Training', layout=Layout(flex='2'), max=6667.0, style=Pro…"
      ]
     },
     "metadata": {},
     "output_type": "display_data"
    },
    {
     "name": "stdout",
     "output_type": "stream",
     "text": [
      "Epoch 39: train=6.72266, val=7.07275, took 590.55 s\n",
      "  Validation Found 86987 of 108024, added 9242 (eff 80.53%) (0.462 FP/event)\n"
     ]
    },
    {
     "data": {
      "application/vnd.jupyter.widget-view+json": {
       "model_id": "",
       "version_major": 2,
       "version_minor": 0
      },
      "text/plain": [
       "HBox(children=(FloatProgress(value=0.0, description='Training', layout=Layout(flex='2'), max=6667.0, style=Pro…"
      ]
     },
     "metadata": {},
     "output_type": "display_data"
    },
    {
     "name": "stdout",
     "output_type": "stream",
     "text": [
      "Epoch 40: train=6.71659, val=6.05143, took 590.63 s\n",
      "  Validation Found 86900 of 108024, added 8760 (eff 80.45%) (0.438 FP/event)\n"
     ]
    },
    {
     "data": {
      "application/vnd.jupyter.widget-view+json": {
       "model_id": "",
       "version_major": 2,
       "version_minor": 0
      },
      "text/plain": [
       "HBox(children=(FloatProgress(value=0.0, description='Training', layout=Layout(flex='2'), max=6667.0, style=Pro…"
      ]
     },
     "metadata": {},
     "output_type": "display_data"
    },
    {
     "name": "stdout",
     "output_type": "stream",
     "text": [
      "Epoch 41: train=6.71643, val=6.06499, took 590.96 s\n",
      "  Validation Found 86731 of 108024, added 8583 (eff 80.29%) (0.429 FP/event)\n"
     ]
    },
    {
     "data": {
      "application/vnd.jupyter.widget-view+json": {
       "model_id": "",
       "version_major": 2,
       "version_minor": 0
      },
      "text/plain": [
       "HBox(children=(FloatProgress(value=0.0, description='Training', layout=Layout(flex='2'), max=6667.0, style=Pro…"
      ]
     },
     "metadata": {},
     "output_type": "display_data"
    },
    {
     "name": "stdout",
     "output_type": "stream",
     "text": [
      "Epoch 42: train=6.70883, val=6.05188, took 590.41 s\n",
      "  Validation Found 86573 of 108024, added 8439 (eff 80.14%) (0.422 FP/event)\n"
     ]
    },
    {
     "data": {
      "application/vnd.jupyter.widget-view+json": {
       "model_id": "",
       "version_major": 2,
       "version_minor": 0
      },
      "text/plain": [
       "HBox(children=(FloatProgress(value=0.0, description='Training', layout=Layout(flex='2'), max=6667.0, style=Pro…"
      ]
     },
     "metadata": {},
     "output_type": "display_data"
    },
    {
     "name": "stdout",
     "output_type": "stream",
     "text": [
      "Epoch 43: train=6.70775, val=6.06975, took 590.45 s\n",
      "  Validation Found 86506 of 108024, added 8444 (eff 80.08%) (0.422 FP/event)\n"
     ]
    },
    {
     "data": {
      "application/vnd.jupyter.widget-view+json": {
       "model_id": "",
       "version_major": 2,
       "version_minor": 0
      },
      "text/plain": [
       "HBox(children=(FloatProgress(value=0.0, description='Training', layout=Layout(flex='2'), max=6667.0, style=Pro…"
      ]
     },
     "metadata": {},
     "output_type": "display_data"
    },
    {
     "name": "stdout",
     "output_type": "stream",
     "text": [
      "Epoch 44: train=6.70821, val=6.37176, took 591.37 s\n",
      "  Validation Found 86515 of 108024, added 8548 (eff 80.09%) (0.427 FP/event)\n"
     ]
    },
    {
     "data": {
      "application/vnd.jupyter.widget-view+json": {
       "model_id": "",
       "version_major": 2,
       "version_minor": 0
      },
      "text/plain": [
       "HBox(children=(FloatProgress(value=0.0, description='Training', layout=Layout(flex='2'), max=6667.0, style=Pro…"
      ]
     },
     "metadata": {},
     "output_type": "display_data"
    },
    {
     "name": "stdout",
     "output_type": "stream",
     "text": [
      "Epoch 45: train=6.69761, val=6.05429, took 590.87 s\n",
      "  Validation Found 87252 of 108024, added 9003 (eff 80.77%) (0.45 FP/event)\n"
     ]
    },
    {
     "data": {
      "application/vnd.jupyter.widget-view+json": {
       "model_id": "",
       "version_major": 2,
       "version_minor": 0
      },
      "text/plain": [
       "HBox(children=(FloatProgress(value=0.0, description='Training', layout=Layout(flex='2'), max=6667.0, style=Pro…"
      ]
     },
     "metadata": {},
     "output_type": "display_data"
    },
    {
     "name": "stdout",
     "output_type": "stream",
     "text": [
      "Epoch 46: train=6.69188, val=6.02776, took 590.67 s\n",
      "  Validation Found 87265 of 108024, added 8821 (eff 80.78%) (0.441 FP/event)\n"
     ]
    },
    {
     "data": {
      "application/vnd.jupyter.widget-view+json": {
       "model_id": "",
       "version_major": 2,
       "version_minor": 0
      },
      "text/plain": [
       "HBox(children=(FloatProgress(value=0.0, description='Training', layout=Layout(flex='2'), max=6667.0, style=Pro…"
      ]
     },
     "metadata": {},
     "output_type": "display_data"
    },
    {
     "name": "stdout",
     "output_type": "stream",
     "text": [
      "Epoch 47: train=6.69225, val=6.18014, took 591.01 s\n",
      "  Validation Found 87174 of 108024, added 8806 (eff 80.70%) (0.44 FP/event)\n"
     ]
    },
    {
     "data": {
      "application/vnd.jupyter.widget-view+json": {
       "model_id": "",
       "version_major": 2,
       "version_minor": 0
      },
      "text/plain": [
       "HBox(children=(FloatProgress(value=0.0, description='Training', layout=Layout(flex='2'), max=6667.0, style=Pro…"
      ]
     },
     "metadata": {},
     "output_type": "display_data"
    },
    {
     "name": "stdout",
     "output_type": "stream",
     "text": [
      "Epoch 48: train=6.68429, val=6.07321, took 591.39 s\n",
      "  Validation Found 87383 of 108024, added 8913 (eff 80.89%) (0.446 FP/event)\n"
     ]
    },
    {
     "data": {
      "application/vnd.jupyter.widget-view+json": {
       "model_id": "",
       "version_major": 2,
       "version_minor": 0
      },
      "text/plain": [
       "HBox(children=(FloatProgress(value=0.0, description='Training', layout=Layout(flex='2'), max=6667.0, style=Pro…"
      ]
     },
     "metadata": {},
     "output_type": "display_data"
    },
    {
     "name": "stdout",
     "output_type": "stream",
     "text": [
      "Epoch 49: train=6.67894, val=6.0744, took 590.64 s\n",
      "  Validation Found 87581 of 108024, added 8922 (eff 81.08%) (0.446 FP/event)\n",
      "\n"
     ]
    }
   ],
   "source": [
    "for result in trainNet(model, optimizer, loss,\n",
    "                        train_loader, val_loader,\n",
    "                        n_epochs, epoch_start=len(results),\n",
    "                        notebook=True):\n",
    "    \n",
    "    results = results.append(pd.Series(result._asdict()), ignore_index=True)\n",
    "    \n",
    "    xs = results.index\n",
    "##    print(\"xs = \",xs)\n",
    "    \n",
    "    # Update the plot above\n",
    "##    print(\"results.index = \",results.index,\"  results.cost\", results.cost)\n",
    "##    print(\"results.index = \",results.index,\"  results.val\", results.val)\n",
    "    lines['train'].set_data(results.index,results.cost)\n",
    "    lines['val'].set_data(results.index,results.val)\n",
    "    \n",
    "    #filter first cost epoch (can be really large)\n",
    "    max_cost = max(max(results.cost if len(results.cost)<2 else results.cost[1:]), max(results.val))\n",
    "    min_cost = min(min(results.cost), min(results.val))\n",
    "    \n",
    "    # The plot limits need updating too\n",
    "    \n",
    "    \n",
    "    \n",
    "    ax.set_ylim(min_cost*.9, max_cost*1.1)  \n",
    "    ax.set_xlim(-.5, len(results.cost) - .5)\n",
    "    \n",
    "    replace_in_ax(lax, lines['eff'], xs, results['eff_val'].apply(lambda x: x.eff_rate))\n",
    "    replace_in_ax(tax, lines['fp'], xs, results['eff_val'].apply(lambda x: x.fp_rate))\n",
    "    \n",
    "    # Redraw the figure\n",
    "    fig.canvas.draw()\n",
    "\n",
    "    # Save each model state dictionary\n",
    "    torch.save(model.state_dict(), output / f'{name}_{result.epoch}.pyt')"
   ]
  },
  {
   "cell_type": "code",
   "execution_count": 16,
   "metadata": {},
   "outputs": [],
   "source": [
    "torch.save(model.state_dict(), output / f'{name}_final.pyt')"
   ]
  },
  {
   "cell_type": "code",
   "execution_count": 17,
   "metadata": {},
   "outputs": [
    {
     "name": "stderr",
     "output_type": "stream",
     "text": [
      "/apps/miniconda3/envs/june2020-gpu/lib/python3.7/site-packages/pandas/core/generic.py:2505: PerformanceWarning: \n",
      "your performance may suffer as PyTables will pickle object types that it cannot\n",
      "map directly to c-types [inferred_type->mixed-integer,key->block1_values] [items->Index(['epoch', 'eff_val'], dtype='object')]\n",
      "\n",
      "  encoding=encoding,\n"
     ]
    }
   ],
   "source": [
    "results.to_hdf(f'{name}_stats.hdf5', 'results')"
   ]
  },
  {
   "cell_type": "code",
   "execution_count": 18,
   "metadata": {},
   "outputs": [
    {
     "data": {
      "application/javascript": [
       "/* Put everything inside the global mpl namespace */\n",
       "window.mpl = {};\n",
       "\n",
       "\n",
       "mpl.get_websocket_type = function() {\n",
       "    if (typeof(WebSocket) !== 'undefined') {\n",
       "        return WebSocket;\n",
       "    } else if (typeof(MozWebSocket) !== 'undefined') {\n",
       "        return MozWebSocket;\n",
       "    } else {\n",
       "        alert('Your browser does not have WebSocket support. ' +\n",
       "              'Please try Chrome, Safari or Firefox ≥ 6. ' +\n",
       "              'Firefox 4 and 5 are also supported but you ' +\n",
       "              'have to enable WebSockets in about:config.');\n",
       "    };\n",
       "}\n",
       "\n",
       "mpl.figure = function(figure_id, websocket, ondownload, parent_element) {\n",
       "    this.id = figure_id;\n",
       "\n",
       "    this.ws = websocket;\n",
       "\n",
       "    this.supports_binary = (this.ws.binaryType != undefined);\n",
       "\n",
       "    if (!this.supports_binary) {\n",
       "        var warnings = document.getElementById(\"mpl-warnings\");\n",
       "        if (warnings) {\n",
       "            warnings.style.display = 'block';\n",
       "            warnings.textContent = (\n",
       "                \"This browser does not support binary websocket messages. \" +\n",
       "                    \"Performance may be slow.\");\n",
       "        }\n",
       "    }\n",
       "\n",
       "    this.imageObj = new Image();\n",
       "\n",
       "    this.context = undefined;\n",
       "    this.message = undefined;\n",
       "    this.canvas = undefined;\n",
       "    this.rubberband_canvas = undefined;\n",
       "    this.rubberband_context = undefined;\n",
       "    this.format_dropdown = undefined;\n",
       "\n",
       "    this.image_mode = 'full';\n",
       "\n",
       "    this.root = $('<div/>');\n",
       "    this._root_extra_style(this.root)\n",
       "    this.root.attr('style', 'display: inline-block');\n",
       "\n",
       "    $(parent_element).append(this.root);\n",
       "\n",
       "    this._init_header(this);\n",
       "    this._init_canvas(this);\n",
       "    this._init_toolbar(this);\n",
       "\n",
       "    var fig = this;\n",
       "\n",
       "    this.waiting = false;\n",
       "\n",
       "    this.ws.onopen =  function () {\n",
       "            fig.send_message(\"supports_binary\", {value: fig.supports_binary});\n",
       "            fig.send_message(\"send_image_mode\", {});\n",
       "            if (mpl.ratio != 1) {\n",
       "                fig.send_message(\"set_dpi_ratio\", {'dpi_ratio': mpl.ratio});\n",
       "            }\n",
       "            fig.send_message(\"refresh\", {});\n",
       "        }\n",
       "\n",
       "    this.imageObj.onload = function() {\n",
       "            if (fig.image_mode == 'full') {\n",
       "                // Full images could contain transparency (where diff images\n",
       "                // almost always do), so we need to clear the canvas so that\n",
       "                // there is no ghosting.\n",
       "                fig.context.clearRect(0, 0, fig.canvas.width, fig.canvas.height);\n",
       "            }\n",
       "            fig.context.drawImage(fig.imageObj, 0, 0);\n",
       "        };\n",
       "\n",
       "    this.imageObj.onunload = function() {\n",
       "        fig.ws.close();\n",
       "    }\n",
       "\n",
       "    this.ws.onmessage = this._make_on_message_function(this);\n",
       "\n",
       "    this.ondownload = ondownload;\n",
       "}\n",
       "\n",
       "mpl.figure.prototype._init_header = function() {\n",
       "    var titlebar = $(\n",
       "        '<div class=\"ui-dialog-titlebar ui-widget-header ui-corner-all ' +\n",
       "        'ui-helper-clearfix\"/>');\n",
       "    var titletext = $(\n",
       "        '<div class=\"ui-dialog-title\" style=\"width: 100%; ' +\n",
       "        'text-align: center; padding: 3px;\"/>');\n",
       "    titlebar.append(titletext)\n",
       "    this.root.append(titlebar);\n",
       "    this.header = titletext[0];\n",
       "}\n",
       "\n",
       "\n",
       "\n",
       "mpl.figure.prototype._canvas_extra_style = function(canvas_div) {\n",
       "\n",
       "}\n",
       "\n",
       "\n",
       "mpl.figure.prototype._root_extra_style = function(canvas_div) {\n",
       "\n",
       "}\n",
       "\n",
       "mpl.figure.prototype._init_canvas = function() {\n",
       "    var fig = this;\n",
       "\n",
       "    var canvas_div = $('<div/>');\n",
       "\n",
       "    canvas_div.attr('style', 'position: relative; clear: both; outline: 0');\n",
       "\n",
       "    function canvas_keyboard_event(event) {\n",
       "        return fig.key_event(event, event['data']);\n",
       "    }\n",
       "\n",
       "    canvas_div.keydown('key_press', canvas_keyboard_event);\n",
       "    canvas_div.keyup('key_release', canvas_keyboard_event);\n",
       "    this.canvas_div = canvas_div\n",
       "    this._canvas_extra_style(canvas_div)\n",
       "    this.root.append(canvas_div);\n",
       "\n",
       "    var canvas = $('<canvas/>');\n",
       "    canvas.addClass('mpl-canvas');\n",
       "    canvas.attr('style', \"left: 0; top: 0; z-index: 0; outline: 0\")\n",
       "\n",
       "    this.canvas = canvas[0];\n",
       "    this.context = canvas[0].getContext(\"2d\");\n",
       "\n",
       "    var backingStore = this.context.backingStorePixelRatio ||\n",
       "\tthis.context.webkitBackingStorePixelRatio ||\n",
       "\tthis.context.mozBackingStorePixelRatio ||\n",
       "\tthis.context.msBackingStorePixelRatio ||\n",
       "\tthis.context.oBackingStorePixelRatio ||\n",
       "\tthis.context.backingStorePixelRatio || 1;\n",
       "\n",
       "    mpl.ratio = (window.devicePixelRatio || 1) / backingStore;\n",
       "\n",
       "    var rubberband = $('<canvas/>');\n",
       "    rubberband.attr('style', \"position: absolute; left: 0; top: 0; z-index: 1;\")\n",
       "\n",
       "    var pass_mouse_events = true;\n",
       "\n",
       "    canvas_div.resizable({\n",
       "        start: function(event, ui) {\n",
       "            pass_mouse_events = false;\n",
       "        },\n",
       "        resize: function(event, ui) {\n",
       "            fig.request_resize(ui.size.width, ui.size.height);\n",
       "        },\n",
       "        stop: function(event, ui) {\n",
       "            pass_mouse_events = true;\n",
       "            fig.request_resize(ui.size.width, ui.size.height);\n",
       "        },\n",
       "    });\n",
       "\n",
       "    function mouse_event_fn(event) {\n",
       "        if (pass_mouse_events)\n",
       "            return fig.mouse_event(event, event['data']);\n",
       "    }\n",
       "\n",
       "    rubberband.mousedown('button_press', mouse_event_fn);\n",
       "    rubberband.mouseup('button_release', mouse_event_fn);\n",
       "    // Throttle sequential mouse events to 1 every 20ms.\n",
       "    rubberband.mousemove('motion_notify', mouse_event_fn);\n",
       "\n",
       "    rubberband.mouseenter('figure_enter', mouse_event_fn);\n",
       "    rubberband.mouseleave('figure_leave', mouse_event_fn);\n",
       "\n",
       "    canvas_div.on(\"wheel\", function (event) {\n",
       "        event = event.originalEvent;\n",
       "        event['data'] = 'scroll'\n",
       "        if (event.deltaY < 0) {\n",
       "            event.step = 1;\n",
       "        } else {\n",
       "            event.step = -1;\n",
       "        }\n",
       "        mouse_event_fn(event);\n",
       "    });\n",
       "\n",
       "    canvas_div.append(canvas);\n",
       "    canvas_div.append(rubberband);\n",
       "\n",
       "    this.rubberband = rubberband;\n",
       "    this.rubberband_canvas = rubberband[0];\n",
       "    this.rubberband_context = rubberband[0].getContext(\"2d\");\n",
       "    this.rubberband_context.strokeStyle = \"#000000\";\n",
       "\n",
       "    this._resize_canvas = function(width, height) {\n",
       "        // Keep the size of the canvas, canvas container, and rubber band\n",
       "        // canvas in synch.\n",
       "        canvas_div.css('width', width)\n",
       "        canvas_div.css('height', height)\n",
       "\n",
       "        canvas.attr('width', width * mpl.ratio);\n",
       "        canvas.attr('height', height * mpl.ratio);\n",
       "        canvas.attr('style', 'width: ' + width + 'px; height: ' + height + 'px;');\n",
       "\n",
       "        rubberband.attr('width', width);\n",
       "        rubberband.attr('height', height);\n",
       "    }\n",
       "\n",
       "    // Set the figure to an initial 600x600px, this will subsequently be updated\n",
       "    // upon first draw.\n",
       "    this._resize_canvas(600, 600);\n",
       "\n",
       "    // Disable right mouse context menu.\n",
       "    $(this.rubberband_canvas).bind(\"contextmenu\",function(e){\n",
       "        return false;\n",
       "    });\n",
       "\n",
       "    function set_focus () {\n",
       "        canvas.focus();\n",
       "        canvas_div.focus();\n",
       "    }\n",
       "\n",
       "    window.setTimeout(set_focus, 100);\n",
       "}\n",
       "\n",
       "mpl.figure.prototype._init_toolbar = function() {\n",
       "    var fig = this;\n",
       "\n",
       "    var nav_element = $('<div/>');\n",
       "    nav_element.attr('style', 'width: 100%');\n",
       "    this.root.append(nav_element);\n",
       "\n",
       "    // Define a callback function for later on.\n",
       "    function toolbar_event(event) {\n",
       "        return fig.toolbar_button_onclick(event['data']);\n",
       "    }\n",
       "    function toolbar_mouse_event(event) {\n",
       "        return fig.toolbar_button_onmouseover(event['data']);\n",
       "    }\n",
       "\n",
       "    for(var toolbar_ind in mpl.toolbar_items) {\n",
       "        var name = mpl.toolbar_items[toolbar_ind][0];\n",
       "        var tooltip = mpl.toolbar_items[toolbar_ind][1];\n",
       "        var image = mpl.toolbar_items[toolbar_ind][2];\n",
       "        var method_name = mpl.toolbar_items[toolbar_ind][3];\n",
       "\n",
       "        if (!name) {\n",
       "            // put a spacer in here.\n",
       "            continue;\n",
       "        }\n",
       "        var button = $('<button/>');\n",
       "        button.addClass('ui-button ui-widget ui-state-default ui-corner-all ' +\n",
       "                        'ui-button-icon-only');\n",
       "        button.attr('role', 'button');\n",
       "        button.attr('aria-disabled', 'false');\n",
       "        button.click(method_name, toolbar_event);\n",
       "        button.mouseover(tooltip, toolbar_mouse_event);\n",
       "\n",
       "        var icon_img = $('<span/>');\n",
       "        icon_img.addClass('ui-button-icon-primary ui-icon');\n",
       "        icon_img.addClass(image);\n",
       "        icon_img.addClass('ui-corner-all');\n",
       "\n",
       "        var tooltip_span = $('<span/>');\n",
       "        tooltip_span.addClass('ui-button-text');\n",
       "        tooltip_span.html(tooltip);\n",
       "\n",
       "        button.append(icon_img);\n",
       "        button.append(tooltip_span);\n",
       "\n",
       "        nav_element.append(button);\n",
       "    }\n",
       "\n",
       "    var fmt_picker_span = $('<span/>');\n",
       "\n",
       "    var fmt_picker = $('<select/>');\n",
       "    fmt_picker.addClass('mpl-toolbar-option ui-widget ui-widget-content');\n",
       "    fmt_picker_span.append(fmt_picker);\n",
       "    nav_element.append(fmt_picker_span);\n",
       "    this.format_dropdown = fmt_picker[0];\n",
       "\n",
       "    for (var ind in mpl.extensions) {\n",
       "        var fmt = mpl.extensions[ind];\n",
       "        var option = $(\n",
       "            '<option/>', {selected: fmt === mpl.default_extension}).html(fmt);\n",
       "        fmt_picker.append(option);\n",
       "    }\n",
       "\n",
       "    // Add hover states to the ui-buttons\n",
       "    $( \".ui-button\" ).hover(\n",
       "        function() { $(this).addClass(\"ui-state-hover\");},\n",
       "        function() { $(this).removeClass(\"ui-state-hover\");}\n",
       "    );\n",
       "\n",
       "    var status_bar = $('<span class=\"mpl-message\"/>');\n",
       "    nav_element.append(status_bar);\n",
       "    this.message = status_bar[0];\n",
       "}\n",
       "\n",
       "mpl.figure.prototype.request_resize = function(x_pixels, y_pixels) {\n",
       "    // Request matplotlib to resize the figure. Matplotlib will then trigger a resize in the client,\n",
       "    // which will in turn request a refresh of the image.\n",
       "    this.send_message('resize', {'width': x_pixels, 'height': y_pixels});\n",
       "}\n",
       "\n",
       "mpl.figure.prototype.send_message = function(type, properties) {\n",
       "    properties['type'] = type;\n",
       "    properties['figure_id'] = this.id;\n",
       "    this.ws.send(JSON.stringify(properties));\n",
       "}\n",
       "\n",
       "mpl.figure.prototype.send_draw_message = function() {\n",
       "    if (!this.waiting) {\n",
       "        this.waiting = true;\n",
       "        this.ws.send(JSON.stringify({type: \"draw\", figure_id: this.id}));\n",
       "    }\n",
       "}\n",
       "\n",
       "\n",
       "mpl.figure.prototype.handle_save = function(fig, msg) {\n",
       "    var format_dropdown = fig.format_dropdown;\n",
       "    var format = format_dropdown.options[format_dropdown.selectedIndex].value;\n",
       "    fig.ondownload(fig, format);\n",
       "}\n",
       "\n",
       "\n",
       "mpl.figure.prototype.handle_resize = function(fig, msg) {\n",
       "    var size = msg['size'];\n",
       "    if (size[0] != fig.canvas.width || size[1] != fig.canvas.height) {\n",
       "        fig._resize_canvas(size[0], size[1]);\n",
       "        fig.send_message(\"refresh\", {});\n",
       "    };\n",
       "}\n",
       "\n",
       "mpl.figure.prototype.handle_rubberband = function(fig, msg) {\n",
       "    var x0 = msg['x0'] / mpl.ratio;\n",
       "    var y0 = (fig.canvas.height - msg['y0']) / mpl.ratio;\n",
       "    var x1 = msg['x1'] / mpl.ratio;\n",
       "    var y1 = (fig.canvas.height - msg['y1']) / mpl.ratio;\n",
       "    x0 = Math.floor(x0) + 0.5;\n",
       "    y0 = Math.floor(y0) + 0.5;\n",
       "    x1 = Math.floor(x1) + 0.5;\n",
       "    y1 = Math.floor(y1) + 0.5;\n",
       "    var min_x = Math.min(x0, x1);\n",
       "    var min_y = Math.min(y0, y1);\n",
       "    var width = Math.abs(x1 - x0);\n",
       "    var height = Math.abs(y1 - y0);\n",
       "\n",
       "    fig.rubberband_context.clearRect(\n",
       "        0, 0, fig.canvas.width / mpl.ratio, fig.canvas.height / mpl.ratio);\n",
       "\n",
       "    fig.rubberband_context.strokeRect(min_x, min_y, width, height);\n",
       "}\n",
       "\n",
       "mpl.figure.prototype.handle_figure_label = function(fig, msg) {\n",
       "    // Updates the figure title.\n",
       "    fig.header.textContent = msg['label'];\n",
       "}\n",
       "\n",
       "mpl.figure.prototype.handle_cursor = function(fig, msg) {\n",
       "    var cursor = msg['cursor'];\n",
       "    switch(cursor)\n",
       "    {\n",
       "    case 0:\n",
       "        cursor = 'pointer';\n",
       "        break;\n",
       "    case 1:\n",
       "        cursor = 'default';\n",
       "        break;\n",
       "    case 2:\n",
       "        cursor = 'crosshair';\n",
       "        break;\n",
       "    case 3:\n",
       "        cursor = 'move';\n",
       "        break;\n",
       "    }\n",
       "    fig.rubberband_canvas.style.cursor = cursor;\n",
       "}\n",
       "\n",
       "mpl.figure.prototype.handle_message = function(fig, msg) {\n",
       "    fig.message.textContent = msg['message'];\n",
       "}\n",
       "\n",
       "mpl.figure.prototype.handle_draw = function(fig, msg) {\n",
       "    // Request the server to send over a new figure.\n",
       "    fig.send_draw_message();\n",
       "}\n",
       "\n",
       "mpl.figure.prototype.handle_image_mode = function(fig, msg) {\n",
       "    fig.image_mode = msg['mode'];\n",
       "}\n",
       "\n",
       "mpl.figure.prototype.updated_canvas_event = function() {\n",
       "    // Called whenever the canvas gets updated.\n",
       "    this.send_message(\"ack\", {});\n",
       "}\n",
       "\n",
       "// A function to construct a web socket function for onmessage handling.\n",
       "// Called in the figure constructor.\n",
       "mpl.figure.prototype._make_on_message_function = function(fig) {\n",
       "    return function socket_on_message(evt) {\n",
       "        if (evt.data instanceof Blob) {\n",
       "            /* FIXME: We get \"Resource interpreted as Image but\n",
       "             * transferred with MIME type text/plain:\" errors on\n",
       "             * Chrome.  But how to set the MIME type?  It doesn't seem\n",
       "             * to be part of the websocket stream */\n",
       "            evt.data.type = \"image/png\";\n",
       "\n",
       "            /* Free the memory for the previous frames */\n",
       "            if (fig.imageObj.src) {\n",
       "                (window.URL || window.webkitURL).revokeObjectURL(\n",
       "                    fig.imageObj.src);\n",
       "            }\n",
       "\n",
       "            fig.imageObj.src = (window.URL || window.webkitURL).createObjectURL(\n",
       "                evt.data);\n",
       "            fig.updated_canvas_event();\n",
       "            fig.waiting = false;\n",
       "            return;\n",
       "        }\n",
       "        else if (typeof evt.data === 'string' && evt.data.slice(0, 21) == \"data:image/png;base64\") {\n",
       "            fig.imageObj.src = evt.data;\n",
       "            fig.updated_canvas_event();\n",
       "            fig.waiting = false;\n",
       "            return;\n",
       "        }\n",
       "\n",
       "        var msg = JSON.parse(evt.data);\n",
       "        var msg_type = msg['type'];\n",
       "\n",
       "        // Call the  \"handle_{type}\" callback, which takes\n",
       "        // the figure and JSON message as its only arguments.\n",
       "        try {\n",
       "            var callback = fig[\"handle_\" + msg_type];\n",
       "        } catch (e) {\n",
       "            console.log(\"No handler for the '\" + msg_type + \"' message type: \", msg);\n",
       "            return;\n",
       "        }\n",
       "\n",
       "        if (callback) {\n",
       "            try {\n",
       "                // console.log(\"Handling '\" + msg_type + \"' message: \", msg);\n",
       "                callback(fig, msg);\n",
       "            } catch (e) {\n",
       "                console.log(\"Exception inside the 'handler_\" + msg_type + \"' callback:\", e, e.stack, msg);\n",
       "            }\n",
       "        }\n",
       "    };\n",
       "}\n",
       "\n",
       "// from http://stackoverflow.com/questions/1114465/getting-mouse-location-in-canvas\n",
       "mpl.findpos = function(e) {\n",
       "    //this section is from http://www.quirksmode.org/js/events_properties.html\n",
       "    var targ;\n",
       "    if (!e)\n",
       "        e = window.event;\n",
       "    if (e.target)\n",
       "        targ = e.target;\n",
       "    else if (e.srcElement)\n",
       "        targ = e.srcElement;\n",
       "    if (targ.nodeType == 3) // defeat Safari bug\n",
       "        targ = targ.parentNode;\n",
       "\n",
       "    // jQuery normalizes the pageX and pageY\n",
       "    // pageX,Y are the mouse positions relative to the document\n",
       "    // offset() returns the position of the element relative to the document\n",
       "    var x = e.pageX - $(targ).offset().left;\n",
       "    var y = e.pageY - $(targ).offset().top;\n",
       "\n",
       "    return {\"x\": x, \"y\": y};\n",
       "};\n",
       "\n",
       "/*\n",
       " * return a copy of an object with only non-object keys\n",
       " * we need this to avoid circular references\n",
       " * http://stackoverflow.com/a/24161582/3208463\n",
       " */\n",
       "function simpleKeys (original) {\n",
       "  return Object.keys(original).reduce(function (obj, key) {\n",
       "    if (typeof original[key] !== 'object')\n",
       "        obj[key] = original[key]\n",
       "    return obj;\n",
       "  }, {});\n",
       "}\n",
       "\n",
       "mpl.figure.prototype.mouse_event = function(event, name) {\n",
       "    var canvas_pos = mpl.findpos(event)\n",
       "\n",
       "    if (name === 'button_press')\n",
       "    {\n",
       "        this.canvas.focus();\n",
       "        this.canvas_div.focus();\n",
       "    }\n",
       "\n",
       "    var x = canvas_pos.x * mpl.ratio;\n",
       "    var y = canvas_pos.y * mpl.ratio;\n",
       "\n",
       "    this.send_message(name, {x: x, y: y, button: event.button,\n",
       "                             step: event.step,\n",
       "                             guiEvent: simpleKeys(event)});\n",
       "\n",
       "    /* This prevents the web browser from automatically changing to\n",
       "     * the text insertion cursor when the button is pressed.  We want\n",
       "     * to control all of the cursor setting manually through the\n",
       "     * 'cursor' event from matplotlib */\n",
       "    event.preventDefault();\n",
       "    return false;\n",
       "}\n",
       "\n",
       "mpl.figure.prototype._key_event_extra = function(event, name) {\n",
       "    // Handle any extra behaviour associated with a key event\n",
       "}\n",
       "\n",
       "mpl.figure.prototype.key_event = function(event, name) {\n",
       "\n",
       "    // Prevent repeat events\n",
       "    if (name == 'key_press')\n",
       "    {\n",
       "        if (event.which === this._key)\n",
       "            return;\n",
       "        else\n",
       "            this._key = event.which;\n",
       "    }\n",
       "    if (name == 'key_release')\n",
       "        this._key = null;\n",
       "\n",
       "    var value = '';\n",
       "    if (event.ctrlKey && event.which != 17)\n",
       "        value += \"ctrl+\";\n",
       "    if (event.altKey && event.which != 18)\n",
       "        value += \"alt+\";\n",
       "    if (event.shiftKey && event.which != 16)\n",
       "        value += \"shift+\";\n",
       "\n",
       "    value += 'k';\n",
       "    value += event.which.toString();\n",
       "\n",
       "    this._key_event_extra(event, name);\n",
       "\n",
       "    this.send_message(name, {key: value,\n",
       "                             guiEvent: simpleKeys(event)});\n",
       "    return false;\n",
       "}\n",
       "\n",
       "mpl.figure.prototype.toolbar_button_onclick = function(name) {\n",
       "    if (name == 'download') {\n",
       "        this.handle_save(this, null);\n",
       "    } else {\n",
       "        this.send_message(\"toolbar_button\", {name: name});\n",
       "    }\n",
       "};\n",
       "\n",
       "mpl.figure.prototype.toolbar_button_onmouseover = function(tooltip) {\n",
       "    this.message.textContent = tooltip;\n",
       "};\n",
       "mpl.toolbar_items = [[\"Home\", \"Reset original view\", \"fa fa-home icon-home\", \"home\"], [\"Back\", \"Back to previous view\", \"fa fa-arrow-left icon-arrow-left\", \"back\"], [\"Forward\", \"Forward to next view\", \"fa fa-arrow-right icon-arrow-right\", \"forward\"], [\"\", \"\", \"\", \"\"], [\"Pan\", \"Pan axes with left mouse, zoom with right\", \"fa fa-arrows icon-move\", \"pan\"], [\"Zoom\", \"Zoom to rectangle\", \"fa fa-square-o icon-check-empty\", \"zoom\"], [\"\", \"\", \"\", \"\"], [\"Download\", \"Download plot\", \"fa fa-floppy-o icon-save\", \"download\"]];\n",
       "\n",
       "mpl.extensions = [\"eps\", \"jpeg\", \"pdf\", \"png\", \"ps\", \"raw\", \"svg\", \"tif\"];\n",
       "\n",
       "mpl.default_extension = \"png\";var comm_websocket_adapter = function(comm) {\n",
       "    // Create a \"websocket\"-like object which calls the given IPython comm\n",
       "    // object with the appropriate methods. Currently this is a non binary\n",
       "    // socket, so there is still some room for performance tuning.\n",
       "    var ws = {};\n",
       "\n",
       "    ws.close = function() {\n",
       "        comm.close()\n",
       "    };\n",
       "    ws.send = function(m) {\n",
       "        //console.log('sending', m);\n",
       "        comm.send(m);\n",
       "    };\n",
       "    // Register the callback with on_msg.\n",
       "    comm.on_msg(function(msg) {\n",
       "        //console.log('receiving', msg['content']['data'], msg);\n",
       "        // Pass the mpl event to the overridden (by mpl) onmessage function.\n",
       "        ws.onmessage(msg['content']['data'])\n",
       "    });\n",
       "    return ws;\n",
       "}\n",
       "\n",
       "mpl.mpl_figure_comm = function(comm, msg) {\n",
       "    // This is the function which gets called when the mpl process\n",
       "    // starts-up an IPython Comm through the \"matplotlib\" channel.\n",
       "\n",
       "    var id = msg.content.data.id;\n",
       "    // Get hold of the div created by the display call when the Comm\n",
       "    // socket was opened in Python.\n",
       "    var element = $(\"#\" + id);\n",
       "    var ws_proxy = comm_websocket_adapter(comm)\n",
       "\n",
       "    function ondownload(figure, format) {\n",
       "        window.open(figure.imageObj.src);\n",
       "    }\n",
       "\n",
       "    var fig = new mpl.figure(id, ws_proxy,\n",
       "                           ondownload,\n",
       "                           element.get(0));\n",
       "\n",
       "    // Call onopen now - mpl needs it, as it is assuming we've passed it a real\n",
       "    // web socket which is closed, not our websocket->open comm proxy.\n",
       "    ws_proxy.onopen();\n",
       "\n",
       "    fig.parent_element = element.get(0);\n",
       "    fig.cell_info = mpl.find_output_cell(\"<div id='\" + id + \"'></div>\");\n",
       "    if (!fig.cell_info) {\n",
       "        console.error(\"Failed to find cell for figure\", id, fig);\n",
       "        return;\n",
       "    }\n",
       "\n",
       "    var output_index = fig.cell_info[2]\n",
       "    var cell = fig.cell_info[0];\n",
       "\n",
       "};\n",
       "\n",
       "mpl.figure.prototype.handle_close = function(fig, msg) {\n",
       "    var width = fig.canvas.width/mpl.ratio\n",
       "    fig.root.unbind('remove')\n",
       "\n",
       "    // Update the output cell to use the data from the current canvas.\n",
       "    fig.push_to_output();\n",
       "    var dataURL = fig.canvas.toDataURL();\n",
       "    // Re-enable the keyboard manager in IPython - without this line, in FF,\n",
       "    // the notebook keyboard shortcuts fail.\n",
       "    IPython.keyboard_manager.enable()\n",
       "    $(fig.parent_element).html('<img src=\"' + dataURL + '\" width=\"' + width + '\">');\n",
       "    fig.close_ws(fig, msg);\n",
       "}\n",
       "\n",
       "mpl.figure.prototype.close_ws = function(fig, msg){\n",
       "    fig.send_message('closing', msg);\n",
       "    // fig.ws.close()\n",
       "}\n",
       "\n",
       "mpl.figure.prototype.push_to_output = function(remove_interactive) {\n",
       "    // Turn the data on the canvas into data in the output cell.\n",
       "    var width = this.canvas.width/mpl.ratio\n",
       "    var dataURL = this.canvas.toDataURL();\n",
       "    this.cell_info[1]['text/html'] = '<img src=\"' + dataURL + '\" width=\"' + width + '\">';\n",
       "}\n",
       "\n",
       "mpl.figure.prototype.updated_canvas_event = function() {\n",
       "    // Tell IPython that the notebook contents must change.\n",
       "    IPython.notebook.set_dirty(true);\n",
       "    this.send_message(\"ack\", {});\n",
       "    var fig = this;\n",
       "    // Wait a second, then push the new image to the DOM so\n",
       "    // that it is saved nicely (might be nice to debounce this).\n",
       "    setTimeout(function () { fig.push_to_output() }, 1000);\n",
       "}\n",
       "\n",
       "mpl.figure.prototype._init_toolbar = function() {\n",
       "    var fig = this;\n",
       "\n",
       "    var nav_element = $('<div/>');\n",
       "    nav_element.attr('style', 'width: 100%');\n",
       "    this.root.append(nav_element);\n",
       "\n",
       "    // Define a callback function for later on.\n",
       "    function toolbar_event(event) {\n",
       "        return fig.toolbar_button_onclick(event['data']);\n",
       "    }\n",
       "    function toolbar_mouse_event(event) {\n",
       "        return fig.toolbar_button_onmouseover(event['data']);\n",
       "    }\n",
       "\n",
       "    for(var toolbar_ind in mpl.toolbar_items){\n",
       "        var name = mpl.toolbar_items[toolbar_ind][0];\n",
       "        var tooltip = mpl.toolbar_items[toolbar_ind][1];\n",
       "        var image = mpl.toolbar_items[toolbar_ind][2];\n",
       "        var method_name = mpl.toolbar_items[toolbar_ind][3];\n",
       "\n",
       "        if (!name) { continue; };\n",
       "\n",
       "        var button = $('<button class=\"btn btn-default\" href=\"#\" title=\"' + name + '\"><i class=\"fa ' + image + ' fa-lg\"></i></button>');\n",
       "        button.click(method_name, toolbar_event);\n",
       "        button.mouseover(tooltip, toolbar_mouse_event);\n",
       "        nav_element.append(button);\n",
       "    }\n",
       "\n",
       "    // Add the status bar.\n",
       "    var status_bar = $('<span class=\"mpl-message\" style=\"text-align:right; float: right;\"/>');\n",
       "    nav_element.append(status_bar);\n",
       "    this.message = status_bar[0];\n",
       "\n",
       "    // Add the close button to the window.\n",
       "    var buttongrp = $('<div class=\"btn-group inline pull-right\"></div>');\n",
       "    var button = $('<button class=\"btn btn-mini btn-primary\" href=\"#\" title=\"Stop Interaction\"><i class=\"fa fa-power-off icon-remove icon-large\"></i></button>');\n",
       "    button.click(function (evt) { fig.handle_close(fig, {}); } );\n",
       "    button.mouseover('Stop Interaction', toolbar_mouse_event);\n",
       "    buttongrp.append(button);\n",
       "    var titlebar = this.root.find($('.ui-dialog-titlebar'));\n",
       "    titlebar.prepend(buttongrp);\n",
       "}\n",
       "\n",
       "mpl.figure.prototype._root_extra_style = function(el){\n",
       "    var fig = this\n",
       "    el.on(\"remove\", function(){\n",
       "\tfig.close_ws(fig, {});\n",
       "    });\n",
       "}\n",
       "\n",
       "mpl.figure.prototype._canvas_extra_style = function(el){\n",
       "    // this is important to make the div 'focusable\n",
       "    el.attr('tabindex', 0)\n",
       "    // reach out to IPython and tell the keyboard manager to turn it's self\n",
       "    // off when our div gets focus\n",
       "\n",
       "    // location in version 3\n",
       "    if (IPython.notebook.keyboard_manager) {\n",
       "        IPython.notebook.keyboard_manager.register_events(el);\n",
       "    }\n",
       "    else {\n",
       "        // location in version 2\n",
       "        IPython.keyboard_manager.register_events(el);\n",
       "    }\n",
       "\n",
       "}\n",
       "\n",
       "mpl.figure.prototype._key_event_extra = function(event, name) {\n",
       "    var manager = IPython.notebook.keyboard_manager;\n",
       "    if (!manager)\n",
       "        manager = IPython.keyboard_manager;\n",
       "\n",
       "    // Check for shift+enter\n",
       "    if (event.shiftKey && event.which == 13) {\n",
       "        this.canvas_div.blur();\n",
       "        // select the cell after this one\n",
       "        var index = IPython.notebook.find_cell_index(this.cell_info[0]);\n",
       "        IPython.notebook.select(index + 1);\n",
       "    }\n",
       "}\n",
       "\n",
       "mpl.figure.prototype.handle_save = function(fig, msg) {\n",
       "    fig.ondownload(fig, null);\n",
       "}\n",
       "\n",
       "\n",
       "mpl.find_output_cell = function(html_output) {\n",
       "    // Return the cell and output element which can be found *uniquely* in the notebook.\n",
       "    // Note - this is a bit hacky, but it is done because the \"notebook_saving.Notebook\"\n",
       "    // IPython event is triggered only after the cells have been serialised, which for\n",
       "    // our purposes (turning an active figure into a static one), is too late.\n",
       "    var cells = IPython.notebook.get_cells();\n",
       "    var ncells = cells.length;\n",
       "    for (var i=0; i<ncells; i++) {\n",
       "        var cell = cells[i];\n",
       "        if (cell.cell_type === 'code'){\n",
       "            for (var j=0; j<cell.output_area.outputs.length; j++) {\n",
       "                var data = cell.output_area.outputs[j];\n",
       "                if (data.data) {\n",
       "                    // IPython >= 3 moved mimebundle to data attribute of output\n",
       "                    data = data.data;\n",
       "                }\n",
       "                if (data['text/html'] == html_output) {\n",
       "                    return [cell, data, j];\n",
       "                }\n",
       "            }\n",
       "        }\n",
       "    }\n",
       "}\n",
       "\n",
       "// Register the function which deals with the matplotlib target/channel.\n",
       "// The kernel may be null if the page has been refreshed.\n",
       "if (IPython.notebook.kernel != null) {\n",
       "    IPython.notebook.kernel.comm_manager.register_target('matplotlib', mpl.mpl_figure_comm);\n",
       "}\n"
      ],
      "text/plain": [
       "<IPython.core.display.Javascript object>"
      ]
     },
     "metadata": {},
     "output_type": "display_data"
    },
    {
     "data": {
      "text/html": [
       "<img src=\"data:image/png;base64,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\" width=\"1000\">"
      ],
      "text/plain": [
       "<IPython.core.display.HTML object>"
      ]
     },
     "metadata": {},
     "output_type": "display_data"
    }
   ],
   "source": [
    "dual_train_plots(results.index,\n",
    "                 results.cost, results.val, \n",
    "                 results['eff_val'].apply(lambda x: x.eff_rate),\n",
    "                 results['eff_val'].apply(lambda x: x.fp_rate))\n",
    "plt.tight_layout()\n",
    "plt.savefig(str(output / f'{name}_stats_a.png'))"
   ]
  },
  {
   "cell_type": "markdown",
   "metadata": {},
   "source": [
    "Go ahead and save the final model (even though it was also saved above):"
   ]
  },
  {
   "cell_type": "markdown",
   "metadata": {},
   "source": [
    "Save the output results:"
   ]
  },
  {
   "cell_type": "code",
   "execution_count": 1,
   "metadata": {},
   "outputs": [],
   "source": [
    "##torch.cuda.empty_cache()\"\n",
    "##quit()\n",
    "\n"
   ]
  },
  {
   "cell_type": "code",
   "execution_count": null,
   "metadata": {},
   "outputs": [],
   "source": []
  }
 ],
 "metadata": {
  "kernelspec": {
   "display_name": "june2020-gpu",
   "language": "python",
   "name": "june2020-gpu"
  },
  "language_info": {
   "codemirror_mode": {
    "name": "ipython",
    "version": 3
   },
   "file_extension": ".py",
   "mimetype": "text/x-python",
   "name": "python",
   "nbconvert_exporter": "python",
   "pygments_lexer": "ipython3",
   "version": "3.7.6"
  }
 },
 "nbformat": 4,
 "nbformat_minor": 2
}
