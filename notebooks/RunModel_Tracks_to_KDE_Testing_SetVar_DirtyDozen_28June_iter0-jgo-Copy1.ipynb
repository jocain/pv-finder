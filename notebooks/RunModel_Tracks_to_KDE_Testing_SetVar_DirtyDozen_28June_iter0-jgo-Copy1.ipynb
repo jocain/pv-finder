{
 "cells": [
  {
   "cell_type": "code",
   "execution_count": 1,
   "metadata": {},
   "outputs": [],
   "source": [
    "##%matplotlib widget\n",
    "## with %matplotlib notebook: seems to require ipympl as part of environment, either\n",
    "## part of the conda environment or \"pip install ipympl\"\n",
    "## otherwise, does not show ANY plots in note\"book, plt.savefig() works\n",
    "%matplotlib notebook  \n",
    "##%matplotlib inline    ## --plt.savefig()  works, but re-sizing does NOT"
   ]
  },
  {
   "cell_type": "markdown",
   "metadata": {},
   "source": [
    "This notebook is the second (perhaps third) attempt to read in track information and use it to predict the KDE used as input to pv-finder. This time, we are reading in poca KDEs rather than the original KDEs. \n",
    "\n",
    "collectdata_kde_Ellipsoids.py uses poca_z, poca_x, poca_y, and six parameters A, B, C, D, E, and F describing the error ellipsoids are those defined at\n",
    "\n",
    "from https://math.stackexchange.com/questions/1865188/how-to-prove-the-parallel-projection-of-an-ellipsoid-is-an-ellipse\n",
    "\n",
    "Up to translation, a general ellipsoid can be written in the form\n",
    "\n",
    "  𝐴$𝑥^2$ +𝐵$𝑦^2$+𝐶$𝑧^2$+2(𝐷𝑥𝑦+𝐸𝑥𝑧+𝐹𝑦𝑧)=1\n",
    "  \n",
    "for some positive-definite coefficient matrix \n",
    "\n",
    "$$\n",
    "\\left(\\begin{array}{ccc}\n",
    "A & D & E \\\\\n",
    "D & B & F \\\\\n",
    "E & F & C \\\\\n",
    "\\end{array}\\right)\n",
    "$$\n",
    "\n",
    "Note that other conventions use a similarly named set of parameters with D, E, and and F denoting the coefficients of different combinations of $ x y $, etc., or without the factor of 2 in front of the cross-terms.  However, this is the convention we are using for pv-finder related work, as of early November, 20020\n"
   ]
  },
  {
   "cell_type": "markdown",
   "metadata": {},
   "source": [
    "Check the current GPU usage. Please try to be nice!"
   ]
  },
  {
   "cell_type": "code",
   "execution_count": 2,
   "metadata": {},
   "outputs": [
    {
     "name": "stdout",
     "output_type": "stream",
     "text": [
      "Thu Jul  1 12:09:31 2021       \r\n",
      "+-----------------------------------------------------------------------------+\r\n",
      "| NVIDIA-SMI 460.32.03    Driver Version: 460.56       CUDA Version: 11.2     |\r\n",
      "|-------------------------------+----------------------+----------------------+\r\n",
      "| GPU  Name        Persistence-M| Bus-Id        Disp.A | Volatile Uncorr. ECC |\r\n",
      "| Fan  Temp  Perf  Pwr:Usage/Cap|         Memory-Usage | GPU-Util  Compute M. |\r\n",
      "|                               |                      |               MIG M. |\r\n",
      "|===============================+======================+======================|\r\n",
      "|   0  GeForce RTX 208...  On   | 00000000:18:00.0 Off |                  N/A |\r\n",
      "| 29%   44C    P8    43W / 250W |   4984MiB / 11019MiB |      0%      Default |\r\n",
      "|                               |                      |                  N/A |\r\n",
      "+-------------------------------+----------------------+----------------------+\r\n",
      "|   1  GeForce RTX 208...  On   | 00000000:3B:00.0 Off |                  N/A |\r\n",
      "| 29%   38C    P8    21W / 250W |   4723MiB / 11019MiB |      0%      Default |\r\n",
      "|                               |                      |                  N/A |\r\n",
      "+-------------------------------+----------------------+----------------------+\r\n",
      "|   2  GeForce RTX 3090    On   | 00000000:AF:00.0 Off |                  N/A |\r\n",
      "|  0%   42C    P8    30W / 350W |  18913MiB / 24268MiB |      0%      Default |\r\n",
      "|                               |                      |                  N/A |\r\n",
      "+-------------------------------+----------------------+----------------------+\r\n",
      "                                                                               \r\n",
      "+-----------------------------------------------------------------------------+\r\n",
      "| Processes:                                                                  |\r\n",
      "|  GPU   GI   CI        PID   Type   Process name                  GPU Memory |\r\n",
      "|        ID   ID                                                   Usage      |\r\n",
      "|=============================================================================|\r\n",
      "|    0   N/A  N/A    174932      C   ...s/june2020-gpu/bin/python      999MiB |\r\n",
      "|    0   N/A  N/A    239812      C   .../envs/will-gpu/bin/python      155MiB |\r\n",
      "|    0   N/A  N/A    271611      C   ...s/june2020-gpu/bin/python     3827MiB |\r\n",
      "|    1   N/A  N/A    239812      C   .../envs/will-gpu/bin/python      155MiB |\r\n",
      "|    1   N/A  N/A    281736      C   ...s/june2020-gpu/bin/python     4565MiB |\r\n",
      "|    2   N/A  N/A     50582      C   ...s/june2020-gpu/bin/python     1485MiB |\r\n",
      "|    2   N/A  N/A    239812      C   .../envs/will-gpu/bin/python    17425MiB |\r\n",
      "+-----------------------------------------------------------------------------+\r\n"
     ]
    }
   ],
   "source": [
    "!nvidia-smi"
   ]
  },
  {
   "cell_type": "markdown",
   "metadata": {},
   "source": [
    "> **WARNING**: The card numbers here are *not* the same as in CUDA. You have been warned."
   ]
  },
  {
   "cell_type": "markdown",
   "metadata": {},
   "source": [
    "This notebook is first attempt to read in track information and use it to predict the KDE used as input to PvFinder.\n"
   ]
  },
  {
   "cell_type": "markdown",
   "metadata": {},
   "source": [
    "## Imports"
   ]
  },
  {
   "cell_type": "code",
   "execution_count": 3,
   "metadata": {},
   "outputs": [],
   "source": [
    "import matplotlib.pyplot as plt\n",
    "import numpy as np\n",
    "import time\n",
    "import torch\n",
    "import pandas as pd\n",
    "\n",
    "# Python 3 standard library\n",
    "from pathlib import Path\n",
    "\n",
    "##from torchsummary import summary"
   ]
  },
  {
   "cell_type": "markdown",
   "metadata": {},
   "source": [
    "### Set up local parameters"
   ]
  },
  {
   "cell_type": "code",
   "execution_count": 5,
   "metadata": {},
   "outputs": [],
   "source": [
    "n_epochs = 100\n",
    "# How fast to learn\n",
    "learning_rate = 1e-4\n",
    "\n",
    "# Name is the output file name\n",
    "\n",
    "n = 30\n",
    "nOuts = [n]*11\n",
    "nOut1, nOut2, nOut3, nOut4, nOut5, nOut6, nOut7, nOut8, nOut9, nOut10, nOut11 = nOuts\n",
    "folder = time.strftime('%d%B%Y') + '_testing_DirtyDozen_first_learning_iterC_30_nodes_' + str(n_epochs) + '_epochs_' + str(learning_rate)\n",
    "name   = folder\n",
    "\n",
    "# Make an output folder named \"name\" (change if you want)\n",
    "\n",
    "## Special instructions for those working on goofy at UC\n",
    "## Please be very careful to make sure that your folder\n",
    "## does not live in a subdirectory of your home directory\n",
    "## this disk has very little capacity. Instead, use \n",
    "## a subdirectory in /share/lazy with a symbolic link to\n",
    "## it in this (the notebooks) subdirectory\n",
    "folder = 'jgo_files/' + folder\n",
    "output = Path(folder)\n",
    "\n",
    "\n",
    "# Size of batches\n",
    "batch_size = 64"
   ]
  },
  {
   "cell_type": "markdown",
   "metadata": {},
   "source": [
    "Make the output directory if it does not exist:"
   ]
  },
  {
   "cell_type": "code",
   "execution_count": 6,
   "metadata": {},
   "outputs": [],
   "source": [
    "output.mkdir(exist_ok=True)"
   ]
  },
  {
   "cell_type": "markdown",
   "metadata": {},
   "source": [
    "## Get the helper functions\n",
    "\n",
    "Add the directory with the model\n",
    "definitions to the path so we can import from it:\n",
    "\n",
    "> When you type `import X`,\n",
    "Python searches `sys.path` for a python\n",
    "file named `X.py` to import. So we need to add the model directory to the path."
   ]
  },
  {
   "cell_type": "code",
   "execution_count": 6,
   "metadata": {
    "scrolled": true
   },
   "outputs": [],
   "source": [
    "# From model/collectdata.py\n",
    "##from model.collectdata_kde_B import collect_t2kde_data\n",
    "## collectdata_kde_C should use the new poca KDE rather than the original kernel KDE\n",
    "from model.collectdata_kde_Ellipsoids import collect_t2kde_data\n",
    "\n",
    "\n",
    "# From model/loss.py\n",
    "##from loss import Loss\n",
    "## kde_loss_D includes botha ratio term and a chisq term, 98% ave_chisq\n",
    "## kde_loss_E adds a chi^4 term to the kde_loss_D return value\n",
    "## this is intended to emphasize the importance of values significantly different than zero\n",
    "from model.kde_loss_E import Loss\n",
    "\n",
    "##  TracksToKDE_Ellipsoids_SevenLayerCake has 7 hidden layers producing the 4000-bin KDE historgram\n",
    "##  It takes 9 input features (pocca centers + (A,B,C,D,E,F) . \n",
    "from model.models_kde import TracksToKDE_Ellipsoids_DirtyDozen as Model\n",
    "\n",
    "\n",
    "from model.training_kde import trainNet, select_gpu, Results\n",
    "from model.plots import dual_train_plots, replace_in_ax"
   ]
  },
  {
   "cell_type": "code",
   "execution_count": 7,
   "metadata": {},
   "outputs": [],
   "source": [
    "# This gets built up during the run - do not rerun this cell\n",
    "results = pd.DataFrame([], columns=Results._fields)"
   ]
  },
  {
   "cell_type": "markdown",
   "metadata": {},
   "source": [
    "Set up Torch device configuration. All tensors and model parameters need to know where to be put.\n",
    "This takes a BUS ID number: The BUS ID is the same as the listing at the top of this script."
   ]
  },
  {
   "cell_type": "code",
   "execution_count": 8,
   "metadata": {},
   "outputs": [
    {
     "name": "stdout",
     "output_type": "stream",
     "text": [
      "1 available GPUs (initially using device 0):\n",
      "  0 GeForce RTX 2080 Ti\n"
     ]
    }
   ],
   "source": [
    "device = select_gpu(0)\n",
    "##device = \"cpu\""
   ]
  },
  {
   "cell_type": "markdown",
   "metadata": {},
   "source": [
    "## Loading data\n",
    "\n",
    "Load the dataset, split into parts, then move to device (see `collectdata.py` in the `../model` directory)"
   ]
  },
  {
   "cell_type": "markdown",
   "metadata": {},
   "source": [
    "# Preparing the model"
   ]
  },
  {
   "cell_type": "markdown",
   "metadata": {},
   "source": [
    "Prepare a model, use multiple GPUs if they are VISIBLE, and move the model to the device."
   ]
  },
  {
   "cell_type": "code",
   "execution_count": 9,
   "metadata": {
    "scrolled": true
   },
   "outputs": [],
   "source": [
    "##print(\"Let's use\", torch.cuda.device_count(), \"GPUs!\")\n",
    "##if torch.cuda.device_count() > 1:\n",
    "##    model = torch.nn.DataParallel(model)"
   ]
  },
  {
   "cell_type": "code",
   "execution_count": 10,
   "metadata": {},
   "outputs": [
    {
     "name": "stdout",
     "output_type": "stream",
     "text": [
      "ct, child =  0    Linear(in_features=9, out_features=30, bias=True)\n",
      "ct, child =  1    Linear(in_features=30, out_features=30, bias=True)\n",
      "ct, child =  2    Linear(in_features=30, out_features=30, bias=True)\n",
      "ct, child =  3    Linear(in_features=30, out_features=30, bias=True)\n",
      "ct, child =  4    Linear(in_features=30, out_features=30, bias=True)\n",
      "ct, child =  5    Linear(in_features=30, out_features=30, bias=True)\n",
      "ct, child =  6    Linear(in_features=30, out_features=30, bias=True)\n",
      "ct, child =  7    Linear(in_features=30, out_features=30, bias=True)\n",
      "ct, child =  8    Linear(in_features=30, out_features=30, bias=True)\n",
      "ct, child =  9    Linear(in_features=30, out_features=30, bias=True)\n",
      "ct, child =  10    Linear(in_features=30, out_features=30, bias=True)\n",
      "ct, child =  11    Linear(in_features=30, out_features=4000, bias=True)\n"
     ]
    }
   ],
   "source": [
    "## a comment on the web at https://pytorch.org/docs/stable/optim.html says\n",
    "\"\"\"\n",
    "If you need to move a model to GPU via .cuda(), please do so before constructing optimizers for it. \n",
    "Parameters of a model after .cuda() will be different objects with those before the call.\n",
    "\n",
    "In general, you should make sure that optimized parameters live in consistent locations when \n",
    "optimizers are constructed and used.\n",
    "\"\"\"\n",
    "## so move this here (although we are using model.to(device) not explicitly using .cuda()\n",
    "\n",
    "model = Model(nOut1,nOut2,nOut3,nOut4,nOut5,nOut6,nOut7,nOut8,nOut9,nOut10,nOut11)\n",
    "\n",
    "##summary(model, input_size=(4, 4000))\n",
    "##print(model.parameters)\n",
    "\n",
    "## add the following code to allow the user to freeze the some of the weights corresponding \n",
    "## to those taken from an earlier model trained with the original target histograms\n",
    "## presumably -- this leaves either the perturbative filter \"fixed\" and lets the \n",
    "## learning focus on the non-perturbative features, so get started faster, or vice versa\n",
    "ct = 0\n",
    "for child in model.children():\n",
    "  print('ct, child = ',ct, \"  \", child)\n",
    "  if ct < 0:\n",
    "    print(\"     About to set param.requires_grad=False for ct = \", ct, \"params\")\n",
    "    for param in child.parameters():\n",
    "        param.requires_grad = False \n",
    "  ct += 1\n",
    "##  mds 200121 loss = Loss(epsilon=1e-5,coefficient=1.0)\n",
    "##  loss = Loss(epsilon=1e-5,coefficient=2.5)\n",
    "loss = Loss(epsilon=3e-6, debug=False)"
   ]
  },
  {
   "cell_type": "markdown",
   "metadata": {},
   "source": [
    "Let's move the model's weight matricies to the GPU:"
   ]
  },
  {
   "cell_type": "code",
   "execution_count": 11,
   "metadata": {
    "scrolled": true
   },
   "outputs": [],
   "source": [
    "model = model.to(device)"
   ]
  },
  {
   "cell_type": "code",
   "execution_count": 12,
   "metadata": {
    "scrolled": true
   },
   "outputs": [],
   "source": [
    "optimizer = torch.optim.Adam(model.parameters(), lr=learning_rate)\n",
    "##optimizer = torch.optim.SGD(model.parameters(), lr=learning_rate)"
   ]
  },
  {
   "cell_type": "code",
   "execution_count": 13,
   "metadata": {},
   "outputs": [
    {
     "name": "stdout",
     "output_type": "stream",
     "text": [
      "output =  jgo_files/29June2021_testing_DirtyDozen_first_learning_iterC_30_nodes_100_epochs_0.0001\n",
      "for model_dict\n",
      "index, k =   0    layer1.weight\n",
      "index, k =   1    layer1.bias\n",
      "index, k =   2    layer2.weight\n",
      "index, k =   3    layer2.bias\n",
      "index, k =   4    layer3.weight\n",
      "index, k =   5    layer3.bias\n",
      "index, k =   6    layer4.weight\n",
      "index, k =   7    layer4.bias\n",
      "index, k =   8    layer5.weight\n",
      "index, k =   9    layer5.bias\n",
      "index, k =   10    layer6.weight\n",
      "index, k =   11    layer6.bias\n",
      "index, k =   12    layer7.weight\n",
      "index, k =   13    layer7.bias\n",
      "index, k =   14    layer8.weight\n",
      "index, k =   15    layer8.bias\n",
      "index, k =   16    layer9.weight\n",
      "index, k =   17    layer9.bias\n",
      "index, k =   18    layer10.weight\n",
      "index, k =   19    layer10.bias\n",
      "index, k =   20    layer11.weight\n",
      "index, k =   21    layer11.bias\n",
      "index, k =   22    layer12.weight\n",
      "index, k =   23    layer12.bias\n"
     ]
    }
   ],
   "source": [
    "print('output = ',output)\n",
    "##print('oldOutput = ',oldOutput)\n",
    "##  use the first four layers from a pre-existing model\n",
    "##  see example at https://discuss.pytorch.org/t/how-to-load-part-of-pre-trained-model/1113\n",
    "\n",
    "##   ML -> /share/lazy/sokoloff/ML\n",
    "model_dict = model.state_dict()\n",
    "## mds 190725 for debugging\n",
    "print(\"for model_dict\")\n",
    "index = 0\n",
    "for k,v in model_dict.items():\n",
    "    print(\"index, k =  \",index,\"  \",k)\n",
    "    index = index+1\n",
    "##    print(\"value = \", v)\n",
    " \n",
    "updated_dict = model_dict\n",
    "##print(\"updated_dict = \",updated_dict)\n",
    "## when starting \"ab initio\", reduce biases as the bias gets summed for each track\n",
    "## contributing to the predicted KDE\n",
    "updated_dict[\"layer1.bias\"] = 0.005*model_dict[\"layer1.bias\"]\n",
    "updated_dict[\"layer2.bias\"] = 0.005*model_dict[\"layer2.bias\"]\n",
    "updated_dict[\"layer3.bias\"] = 0.005*model_dict[\"layer3.bias\"]\n",
    "updated_dict[\"layer4.bias\"] = 0.005*model_dict[\"layer4.bias\"]\n",
    "updated_dict[\"layer5.bias\"] = 0.005*model_dict[\"layer5.bias\"]\n",
    "updated_dict[\"layer6.bias\"] = 0.005*model_dict[\"layer6.bias\"]\n",
    "updated_dict[\"layer7.bias\"] = 0.005*model_dict[\"layer7.bias\"]\n",
    "updated_dict[\"layer8.bias\"] = 0.005*model_dict[\"layer8.bias\"]\n",
    "updated_dict[\"layer9.bias\"] = 0.005*model_dict[\"layer9.bias\"]\n",
    "updated_dict[\"layer10.bias\"] = 0.005*model_dict[\"layer10.bias\"]\n",
    "updated_dict[\"layer11.bias\"] = 0.005*model_dict[\"layer11.bias\"]\n",
    "\n",
    "model.load_state_dict(updated_dict,strict=False)\n",
    "\n",
    "model_dict = model.state_dict()\n",
    "##print(\"updated model_dict = \",model_dict)\n",
    "\n",
    "## print(\" \\n\",\"  for pretrained_dict\")\n",
    "## index = 0\n",
    "##for k,v in pretrained_dict.items():\n",
    "##    print(\"index, k =  \",index,\"  \",k)\n",
    "##    index = index+1\n",
    "## mds  \n",
    "\n",
    "##pretrained_dict = torch.load('ML/29July2020_Trks_to_KDE_C_lossB_100epochs_b64_1m3_nOut_50x50/29July2020_Trks_to_KDE_C_lossB_100epochs_b64_1m3_nOut_50x50_final.pyt')\n",
    "##print(\"model_dict instantiated\")\n",
    "# 1. filter out unnecessary keys\n",
    "##pretrained_dict = {k: v for k, v in pretrained_dict.items() if k in model_dict}\n",
    "##print(\"pretrained_dict iterated\")\n",
    "# 2. overwrite entries in the existing state dict\n",
    "##model_dict.update(pretrained_dict) \n",
    "##\n",
    "#   when starting from a model with a fully connected last layer rather than a convolutional layer\n",
    "# 3. load the new state dict\n",
    "#   need to use strict=False as the two models state model attributes do not agree exactly\n",
    "#   see https://pytorch.org/docs/master/_modules/torch/nn/modules/module.html#Module.load_state_dict\n",
    "\n",
    "##model.load_state_dict(pretrained_dict,strict=False)\n",
    "\n",
    "## print('model_dict =    ', model_dict)\n",
    "\n",
    "## pretrained_dict = torch.load('ML/19October_testing_loss_C_500epochs_more_learning/19October_testing_loss_C_500epochs_more_learning_final.pyt')\n",
    "## pretrained_dict = torch.load('ML/24October_testing_SevenLayerCake_first_learning_50epochs/24October_testing_SevenLayerCake_first_learning_50epochs_44.pyt')\n",
    "\n",
    "##pretrained_dict = torch.load('ML/24October_testing_SevenLayerCake_first_learning_next1000epochs/24October_testing_SevenLayerCake_first_learning_next1000epochs_976.pyt')\n",
    "## pretrained_dict = torch.load('ML/24October_testing_SevenLayerCake_first_learning_iter4_2500epochs_1em5/24October_testing_SevenLayerCake_first_learning_iter4_2500epochs_1em5_final.pyt')\n",
    "## pretrained_dict = torch.load('ML/25October_testing_SevenLayerCake_first_learning_iter0_1000epochs_lossE/25October_testing_SevenLayerCake_first_learning_iter0_1000epochs_lossE_503.pyt')\n",
    "\n",
    "\n",
    "## pretrained_dict = torch.load('ML/25October_testing_SevenLayerCake_first_learning_iter0_1000epochs_lossE/25October_testing_SevenLayerCake_first_learning_iter0_1000epochs_lossE_final.pyt')\n",
    "\n",
    "## pretrained_dict = torch.load('ML/25October_testing_SevenLayerCake_first_learning_iter2_100epochs_lossE/25October_testing_SevenLayerCake_first_learning_iter2_100epochs_lossE_final.pyt')\n",
    "\n",
    "## pretrained_dict = torch.load('ML/25October_testing_SevenLayerCake_first_learning_iter2_2nd_100epochs_lossE_Adam/25October_testing_SevenLayerCake_first_learning_iter2_2nd_100epochs_lossE_Adam_final.pyt')\n",
    "\n",
    "## pretrained_dict = torch.load('ML/25October_testing_SevenLayerCake_first_learning_iter3_4000epochs_lossE_Adam/25October_testing_SevenLayerCake_first_learning_iter3_4000epochs_lossE_Adam_final.pyt')\n",
    "\n",
    "##  results from the previous model were fluctuating, so choose epoch with relatively low costs\n",
    "\n",
    "##pretrained_dict = torch.load('ML/27October_testing_DirtyDozen_first_learning_iter0_250epochs_1em3/27October_testing_DirtyDozen_first_learning_iter0_250epochs_1em3_220.pyt')\n",
    "\n",
    "\n",
    "\n",
    "\n",
    "\n",
    "# #  the next model had fluctuations near the end, but the final epoch is within striking distance of the lowest cost\n",
    "# pretrained_dict = torch.load('ML/06November_testing_DirtyDozen_first_learning_iterB_20epochs_1em6/06November_testing_DirtyDozen_first_learning_iterB_20epochs_1em6_final.pyt')\n",
    "# print(\" \")\n",
    "# print(\"  for pretrained_dict\")\n",
    "# index = 0\n",
    "# for k,v in pretrained_dict.items():\n",
    "#     print(\"index, k =  \",index,\"  \",k)\n",
    "#     index = index+1\n",
    " \n",
    "\n",
    "# ##print(\"model_dict instantiated\")\n",
    "# # 1. filter out unnecessary keys\n",
    "# pretrained_dict = {k: v for k, v in pretrained_dict.items() if k in model_dict}\n",
    "# print(\"pretrained_dict iterated\")\n",
    "# # 2. overwrite entries in the existing state dict\n",
    "# model_dict.update(pretrained_dict) \n",
    "# ##\n",
    "# #   when starting from a model with a fully connected last layer rather than a convolutional layer\n",
    "# # 3. load the new state dict\n",
    "# #   need to use strict=False as the two models state model attributes do not agree exactly\n",
    "# #   see https://pytorch.org/docs/master/_modules/torch/nn/modules/module.html#Module.load_state_dict\n",
    "\n",
    "# model.load_state_dict(pretrained_dict,strict=False)"
   ]
  },
  {
   "cell_type": "code",
   "execution_count": 14,
   "metadata": {},
   "outputs": [],
   "source": [
    "##print('validation.dataset.tensors = ',validation.dataset.tensors)\n",
    "fig_size = plt.rcParams[\"figure.figsize\"]\n",
    "fig_size[0] = 10\n",
    "fig_size[1] = 4\n",
    "plt.rcParams[\"figure.figsize\"] = fig_size"
   ]
  },
  {
   "cell_type": "code",
   "execution_count": 15,
   "metadata": {
    "scrolled": true
   },
   "outputs": [
    {
     "name": "stdout",
     "output_type": "stream",
     "text": [
      "Loading data...\n",
      "pocaMx.shape =  (20000,)\n",
      "nEvts =  20000\n",
      "len(pocaMx[0]) =  211\n",
      "len(pocaMx[1]) =  21\n",
      "len(pocaMx[2]) =  20\n",
      "len(pocaMx[3]) =  198\n",
      "len(pocaMx[4]) =  233\n",
      "majorAxis.shape =  (20000, 3)\n",
      "minorAxis_1.shape =  (20000, 3)\n",
      "minorAxis_2.shape =  (20000, 3)\n",
      "have entered six_ellipsoid_parameters\n",
      "  \n",
      " \n",
      "  nEvts =  20000\n",
      " iEvt, nTrks =  0 211\n",
      " iEvt, nTrks =  1 21\n",
      " iEvt, nTrks =  2 20\n",
      " iEvt, nTrks =  3 198\n",
      " iEvt, nTrks =  4 233\n",
      " iEvt, nTrks =  5 85\n",
      " iEvt, nTrks =  6 223\n",
      " iEvt, nTrks =  7 425\n",
      " iEvt, nTrks =  8 252\n",
      " iEvt, nTrks =  9 169\n",
      "A.shape =  (20000,)\n",
      "majorAxis[iTrk][0][0] =  -0.00023452607\n",
      "majorAxis[iTrk][1][0] =  -0.00047206535\n",
      "majorAxis[iTrk][2][0] =  0.096502915\n",
      "minorAxis_1[iTrk][0][0] =  -15.822749\n",
      "minorAxis_1[iTrk][1][0] =  7.8608756\n",
      "minorAxis_1[iTrk][2][0] =  -2.6228399e-08\n",
      "minorAxis_2[iTrk][0][0] =  7.860759\n",
      "minorAxis_2[iTrk][1][0] =  15.822513\n",
      "minorAxis_2[iTrk][2][0] =  0.096502915\n",
      "  \n",
      "majorAxis[iTrk][0][0] =  -0.37655562\n",
      "majorAxis[iTrk][1][0] =  0.2768704\n",
      "majorAxis[iTrk][2][0] =  2.8546858\n",
      "minorAxis_1[iTrk][0][0] =  -10.466048\n",
      "minorAxis_1[iTrk][1][0] =  -14.234274\n",
      "minorAxis_1[iTrk][2][0] =  2.2974699e-11\n",
      "minorAxis_2[iTrk][0][0] =  -14.04724\n",
      "minorAxis_2[iTrk][1][0] =  10.328527\n",
      "minorAxis_2[iTrk][2][0] =  -2.8546853\n",
      "  \n",
      "majorAxis[iTrk][0][0] =  -0.024279848\n",
      "majorAxis[iTrk][1][0] =  0.0019689242\n",
      "majorAxis[iTrk][2][0] =  0.65580803\n",
      "minorAxis_1[iTrk][0][0] =  -1.4280497\n",
      "minorAxis_1[iTrk][1][0] =  -17.610037\n",
      "minorAxis_1[iTrk][2][0] =  -6.123401e-10\n",
      "minorAxis_2[iTrk][0][0] =  -17.597902\n",
      "minorAxis_2[iTrk][1][0] =  1.4270656\n",
      "minorAxis_2[iTrk][2][0] =  -0.6558081\n",
      "  \n",
      "majorAxis[iTrk][0][0] =  -0.007825993\n",
      "majorAxis[iTrk][1][0] =  0.004052097\n",
      "majorAxis[iTrk][2][0] =  0.3945435\n",
      "minorAxis_1[iTrk][0][0] =  8.123606\n",
      "minorAxis_1[iTrk][1][0] =  15.689478\n",
      "minorAxis_1[iTrk][2][0] =  -2.4940747e-10\n",
      "minorAxis_2[iTrk][0][0] =  15.685566\n",
      "minorAxis_2[iTrk][1][0] =  -8.12158\n",
      "minorAxis_2[iTrk][2][0] =  0.3945435\n",
      "  \n",
      "majorAxis[iTrk][0][0] =  0.0046102717\n",
      "majorAxis[iTrk][1][0] =  -0.0016007021\n",
      "majorAxis[iTrk][2][0] =  0.29361814\n",
      "minorAxis_1[iTrk][0][0] =  -5.794979\n",
      "minorAxis_1[iTrk][1][0] =  -16.690445\n",
      "minorAxis_1[iTrk][2][0] =  2.4897104e-09\n",
      "minorAxis_2[iTrk][0][0] =  -16.688139\n",
      "minorAxis_2[iTrk][1][0] =  5.794179\n",
      "minorAxis_2[iTrk][2][0] =  0.2936181\n",
      "  \n",
      "majorAxis[iTrk][0][0] =  -0.00020041714\n",
      "majorAxis[iTrk][1][0] =  0.00010468164\n",
      "majorAxis[iTrk][2][0] =  0.06320469\n",
      "minorAxis_1[iTrk][0][0] =  8.179679\n",
      "minorAxis_1[iTrk][1][0] =  15.660318\n",
      "minorAxis_1[iTrk][2][0] =  7.40176e-08\n",
      "minorAxis_2[iTrk][0][0] =  15.660218\n",
      "minorAxis_2[iTrk][1][0] =  -8.179626\n",
      "minorAxis_2[iTrk][2][0] =  0.06320469\n",
      "  \n",
      "majorAxis[iTrk][0][0] =  -0.00020603223\n",
      "majorAxis[iTrk][1][0] =  -0.0005662605\n",
      "majorAxis[iTrk][2][0] =  0.10317981\n",
      "minorAxis_1[iTrk][0][0] =  -16.603\n",
      "minorAxis_1[iTrk][1][0] =  6.040953\n",
      "minorAxis_1[iTrk][2][0] =  4.5812504e-07\n",
      "minorAxis_2[iTrk][0][0] =  6.0408506\n",
      "minorAxis_2[iTrk][1][0] =  16.602718\n",
      "minorAxis_2[iTrk][2][0] =  0.10317982\n",
      "  \n",
      "majorAxis[iTrk][0][0] =  -0.00040561036\n",
      "majorAxis[iTrk][1][0] =  0.00014461782\n",
      "majorAxis[iTrk][2][0] =  0.0872241\n",
      "minorAxis_1[iTrk][0][0] =  -5.933496\n",
      "minorAxis_1[iTrk][1][0] =  -16.641706\n",
      "minorAxis_1[iTrk][2][0] =  1.0720762e-08\n",
      "minorAxis_2[iTrk][0][0] =  -16.641502\n",
      "minorAxis_2[iTrk][1][0] =  5.9334235\n",
      "minorAxis_2[iTrk][2][0] =  -0.0872241\n",
      "  \n",
      "majorAxis[iTrk][0][0] =  0.00038461428\n",
      "majorAxis[iTrk][1][0] =  -3.4232737e-05\n",
      "majorAxis[iTrk][2][0] =  0.08259597\n",
      "minorAxis_1[iTrk][0][0] =  -1.5663412\n",
      "minorAxis_1[iTrk][1][0] =  -17.598276\n",
      "minorAxis_1[iTrk][2][0] =  3.2106848e-07\n",
      "minorAxis_2[iTrk][0][0] =  -17.598082\n",
      "minorAxis_2[iTrk][1][0] =  1.5663238\n",
      "minorAxis_2[iTrk][2][0] =  0.08259596\n",
      "  \n",
      "majorAxis[iTrk][0][0] =  -0.022277953\n",
      "majorAxis[iTrk][1][0] =  -0.0046837274\n",
      "majorAxis[iTrk][2][0] =  0.63399464\n",
      "minorAxis_1[iTrk][0][0] =  -3.6350286\n",
      "minorAxis_1[iTrk][1][0] =  17.289862\n",
      "minorAxis_1[iTrk][2][0] =  9.566169e-10\n",
      "minorAxis_2[iTrk][0][0] =  17.278727\n",
      "minorAxis_2[iTrk][1][0] =  3.6326876\n",
      "minorAxis_2[iTrk][2][0] =  0.6339946\n",
      "  \n",
      "len(X) =  20000\n",
      "len(Xlist) =  1\n",
      "Loaded dataAA/20K_POCA_kernel_evts_200926.h5 in 29.91 s\n",
      "outer loop X.shape =  (20000, 9, 600)\n",
      "Constructing 18000 event dataset took 0.4776 s\n",
      "x_t.shape =  torch.Size([18000, 9, 600])\n",
      "x_t.shape[0] =  18000\n",
      "x_t.shape[1] =  9\n",
      "x_t.shape =  torch.Size([18000, 9, 600])\n",
      "Loading data...\n",
      "pocaMx.shape =  (20000,)\n",
      "nEvts =  20000\n",
      "len(pocaMx[0]) =  211\n",
      "len(pocaMx[1]) =  21\n",
      "len(pocaMx[2]) =  20\n",
      "len(pocaMx[3]) =  198\n",
      "len(pocaMx[4]) =  233\n",
      "majorAxis.shape =  (20000, 3)\n",
      "minorAxis_1.shape =  (20000, 3)\n",
      "minorAxis_2.shape =  (20000, 3)\n",
      "have entered six_ellipsoid_parameters\n",
      "  \n",
      " \n",
      "  nEvts =  20000\n",
      " iEvt, nTrks =  0 211\n",
      " iEvt, nTrks =  1 21\n",
      " iEvt, nTrks =  2 20\n",
      " iEvt, nTrks =  3 198\n",
      " iEvt, nTrks =  4 233\n",
      " iEvt, nTrks =  5 85\n",
      " iEvt, nTrks =  6 223\n",
      " iEvt, nTrks =  7 425\n",
      " iEvt, nTrks =  8 252\n",
      " iEvt, nTrks =  9 169\n",
      "A.shape =  (20000,)\n",
      "majorAxis[iTrk][0][0] =  -0.00023452607\n",
      "majorAxis[iTrk][1][0] =  -0.00047206535\n",
      "majorAxis[iTrk][2][0] =  0.096502915\n",
      "minorAxis_1[iTrk][0][0] =  -15.822749\n",
      "minorAxis_1[iTrk][1][0] =  7.8608756\n",
      "minorAxis_1[iTrk][2][0] =  -2.6228399e-08\n",
      "minorAxis_2[iTrk][0][0] =  7.860759\n",
      "minorAxis_2[iTrk][1][0] =  15.822513\n",
      "minorAxis_2[iTrk][2][0] =  0.096502915\n",
      "  \n",
      "majorAxis[iTrk][0][0] =  -0.37655562\n",
      "majorAxis[iTrk][1][0] =  0.2768704\n",
      "majorAxis[iTrk][2][0] =  2.8546858\n",
      "minorAxis_1[iTrk][0][0] =  -10.466048\n",
      "minorAxis_1[iTrk][1][0] =  -14.234274\n",
      "minorAxis_1[iTrk][2][0] =  2.2974699e-11\n",
      "minorAxis_2[iTrk][0][0] =  -14.04724\n",
      "minorAxis_2[iTrk][1][0] =  10.328527\n",
      "minorAxis_2[iTrk][2][0] =  -2.8546853\n",
      "  \n",
      "majorAxis[iTrk][0][0] =  -0.024279848\n",
      "majorAxis[iTrk][1][0] =  0.0019689242\n",
      "majorAxis[iTrk][2][0] =  0.65580803\n",
      "minorAxis_1[iTrk][0][0] =  -1.4280497\n",
      "minorAxis_1[iTrk][1][0] =  -17.610037\n",
      "minorAxis_1[iTrk][2][0] =  -6.123401e-10\n",
      "minorAxis_2[iTrk][0][0] =  -17.597902\n",
      "minorAxis_2[iTrk][1][0] =  1.4270656\n",
      "minorAxis_2[iTrk][2][0] =  -0.6558081\n",
      "  \n",
      "majorAxis[iTrk][0][0] =  -0.007825993\n",
      "majorAxis[iTrk][1][0] =  0.004052097\n",
      "majorAxis[iTrk][2][0] =  0.3945435\n",
      "minorAxis_1[iTrk][0][0] =  8.123606\n",
      "minorAxis_1[iTrk][1][0] =  15.689478\n",
      "minorAxis_1[iTrk][2][0] =  -2.4940747e-10\n",
      "minorAxis_2[iTrk][0][0] =  15.685566\n",
      "minorAxis_2[iTrk][1][0] =  -8.12158\n",
      "minorAxis_2[iTrk][2][0] =  0.3945435\n",
      "  \n",
      "majorAxis[iTrk][0][0] =  0.0046102717\n",
      "majorAxis[iTrk][1][0] =  -0.0016007021\n",
      "majorAxis[iTrk][2][0] =  0.29361814\n",
      "minorAxis_1[iTrk][0][0] =  -5.794979\n",
      "minorAxis_1[iTrk][1][0] =  -16.690445\n",
      "minorAxis_1[iTrk][2][0] =  2.4897104e-09\n",
      "minorAxis_2[iTrk][0][0] =  -16.688139\n",
      "minorAxis_2[iTrk][1][0] =  5.794179\n",
      "minorAxis_2[iTrk][2][0] =  0.2936181\n",
      "  \n",
      "majorAxis[iTrk][0][0] =  -0.00020041714\n",
      "majorAxis[iTrk][1][0] =  0.00010468164\n",
      "majorAxis[iTrk][2][0] =  0.06320469\n",
      "minorAxis_1[iTrk][0][0] =  8.179679\n",
      "minorAxis_1[iTrk][1][0] =  15.660318\n",
      "minorAxis_1[iTrk][2][0] =  7.40176e-08\n",
      "minorAxis_2[iTrk][0][0] =  15.660218\n",
      "minorAxis_2[iTrk][1][0] =  -8.179626\n",
      "minorAxis_2[iTrk][2][0] =  0.06320469\n",
      "  \n",
      "majorAxis[iTrk][0][0] =  -0.00020603223\n",
      "majorAxis[iTrk][1][0] =  -0.0005662605\n",
      "majorAxis[iTrk][2][0] =  0.10317981\n",
      "minorAxis_1[iTrk][0][0] =  -16.603\n",
      "minorAxis_1[iTrk][1][0] =  6.040953\n",
      "minorAxis_1[iTrk][2][0] =  4.5812504e-07\n",
      "minorAxis_2[iTrk][0][0] =  6.0408506\n",
      "minorAxis_2[iTrk][1][0] =  16.602718\n",
      "minorAxis_2[iTrk][2][0] =  0.10317982\n",
      "  \n",
      "majorAxis[iTrk][0][0] =  -0.00040561036\n",
      "majorAxis[iTrk][1][0] =  0.00014461782\n",
      "majorAxis[iTrk][2][0] =  0.0872241\n",
      "minorAxis_1[iTrk][0][0] =  -5.933496\n",
      "minorAxis_1[iTrk][1][0] =  -16.641706\n",
      "minorAxis_1[iTrk][2][0] =  1.0720762e-08\n",
      "minorAxis_2[iTrk][0][0] =  -16.641502\n",
      "minorAxis_2[iTrk][1][0] =  5.9334235\n",
      "minorAxis_2[iTrk][2][0] =  -0.0872241\n",
      "  \n",
      "majorAxis[iTrk][0][0] =  0.00038461428\n",
      "majorAxis[iTrk][1][0] =  -3.4232737e-05\n",
      "majorAxis[iTrk][2][0] =  0.08259597\n",
      "minorAxis_1[iTrk][0][0] =  -1.5663412\n",
      "minorAxis_1[iTrk][1][0] =  -17.598276\n",
      "minorAxis_1[iTrk][2][0] =  3.2106848e-07\n",
      "minorAxis_2[iTrk][0][0] =  -17.598082\n",
      "minorAxis_2[iTrk][1][0] =  1.5663238\n",
      "minorAxis_2[iTrk][2][0] =  0.08259596\n",
      "  \n",
      "majorAxis[iTrk][0][0] =  -0.022277953\n",
      "majorAxis[iTrk][1][0] =  -0.0046837274\n",
      "majorAxis[iTrk][2][0] =  0.63399464\n",
      "minorAxis_1[iTrk][0][0] =  -3.6350286\n",
      "minorAxis_1[iTrk][1][0] =  17.289862\n",
      "minorAxis_1[iTrk][2][0] =  9.566169e-10\n",
      "minorAxis_2[iTrk][0][0] =  17.278727\n",
      "minorAxis_2[iTrk][1][0] =  3.6326876\n",
      "minorAxis_2[iTrk][2][0] =  0.6339946\n",
      "  \n"
     ]
    },
    {
     "name": "stdout",
     "output_type": "stream",
     "text": [
      "len(X) =  20000\n",
      "len(Xlist) =  1\n",
      "Loaded dataAA/20K_POCA_kernel_evts_200926.h5 in 29.23 s\n",
      "outer loop X.shape =  (20000, 9, 600)\n",
      "Constructing 2000 event dataset took 0.06802 s\n",
      "x_t.shape =  torch.Size([2000, 9, 600])\n",
      "x_t.shape[0] =  2000\n",
      "x_t.shape[1] =  9\n",
      "x_t.shape =  torch.Size([2000, 9, 600])\n"
     ]
    }
   ],
   "source": [
    "\n",
    "## Training dataset. You can put as many files here as desired.\n",
    "\n",
    "##train_loader = collect_t2kde_data('/share/lazy/pv-finder/20k_evts_for_KDE_learning_200716.h5',\n",
    "train_loader = collect_t2kde_data('dataAA/20K_POCA_kernel_evts_200926.h5',\n",
    "##train_loader = collect_t2kde_data('/share/lazy/pv-finder/test_data_for_KDE_learning_BastilleDay20.h5',\n",
    "                            batch_size=batch_size,\n",
    "## if we are using a larger dataset (240K events, with the datasets above, and 11 GB  of GPU memory),\n",
    "## the dataset will overflow the GPU memory; device=device will allow the data to move back\n",
    "## and forth between the CPU and GPU memory. While this allows use of a larger dataset, it slows\n",
    "## down performance by about 10%.  So comment out when not needed.\n",
    "                           device=device,\n",
    "                           slice = slice(None,18000)\n",
    "                           )\n",
    "                            \n",
    "# Validation dataset. You can slice to reduce the size.\n",
    "## mds no separate validation set yet,\n",
    "val_loader = collect_t2kde_data('dataAA/20K_POCA_kernel_evts_200926.h5',\n",
    "                            batch_size=batch_size,\n",
    "                            device=device,\n",
    "                            slice = slice(18000,None)\n",
    "                           )\n"
   ]
  },
  {
   "cell_type": "markdown",
   "metadata": {},
   "source": [
    "with torch.no_grad():\n",
    "    counter = 0\n",
    "    event = 0\n",
    "    print(\"train_loader = \",train_loader)\n",
    "    for inputs, labels in train_loader:\n",
    "##        print(\"counter = \",counter)\n",
    "##        print(\"inputs = \",inputs)\n",
    "        print(\"inputs.shape = \",inputs.shape)\n",
    "        if inputs.device != device:\n",
    "            inputs, labels = inputs.to(device), labels.to(device)\n",
    "            \n",
    "        outputs = model(inputs)\n",
    "##        print(\"outputs.shape = \",outputs.shape)\n",
    "        nEvts = outputs.shape[0]\n",
    "        for iEvt in range(nEvts):\n",
    "            y_pred = outputs[iEvt,:]\n",
    "            y_pred = y_pred.cpu().numpy()\n",
    "            \n",
    "            event = event +1\n",
    "##            print(\"event = \",event)\n",
    "            if (event<5):\n",
    "                plt.figure()\n",
    "                plt.plot(y_pred[0:50])\n",
    "                plt.show()\n",
    "                \n",
    "##                print(\"  point AA \")\n",
    "                features = inputs[iEvt,:]\n",
    "                features = features[np.newaxis,:,:]\n",
    "                \n",
    "                \n",
    "                print(\"features.shape = \",features.shape)\n",
    "                \n",
    "                output_A = model(features)\n",
    "                y_prime = output_A[0,:]\n",
    "                y_prime = y_prime.cpu().numpy()\n",
    "                plt.figure()\n",
    "                plt.plot(y_prime[0:50], color=\"r\")\n",
    "                plt.show()\n",
    "                \n",
    "            \n",
    "\n",
    "##        print(\"nEvts = \",nEvts)\n",
    "        \n",
    "        counter = counter+1\n",
    "        \n",
    "        \n",
    "        "
   ]
  },
  {
   "cell_type": "code",
   "execution_count": 16,
   "metadata": {
    "scrolled": false
   },
   "outputs": [
    {
     "data": {
      "application/javascript": [
       "/* Put everything inside the global mpl namespace */\n",
       "window.mpl = {};\n",
       "\n",
       "\n",
       "mpl.get_websocket_type = function() {\n",
       "    if (typeof(WebSocket) !== 'undefined') {\n",
       "        return WebSocket;\n",
       "    } else if (typeof(MozWebSocket) !== 'undefined') {\n",
       "        return MozWebSocket;\n",
       "    } else {\n",
       "        alert('Your browser does not have WebSocket support. ' +\n",
       "              'Please try Chrome, Safari or Firefox ≥ 6. ' +\n",
       "              'Firefox 4 and 5 are also supported but you ' +\n",
       "              'have to enable WebSockets in about:config.');\n",
       "    };\n",
       "}\n",
       "\n",
       "mpl.figure = function(figure_id, websocket, ondownload, parent_element) {\n",
       "    this.id = figure_id;\n",
       "\n",
       "    this.ws = websocket;\n",
       "\n",
       "    this.supports_binary = (this.ws.binaryType != undefined);\n",
       "\n",
       "    if (!this.supports_binary) {\n",
       "        var warnings = document.getElementById(\"mpl-warnings\");\n",
       "        if (warnings) {\n",
       "            warnings.style.display = 'block';\n",
       "            warnings.textContent = (\n",
       "                \"This browser does not support binary websocket messages. \" +\n",
       "                    \"Performance may be slow.\");\n",
       "        }\n",
       "    }\n",
       "\n",
       "    this.imageObj = new Image();\n",
       "\n",
       "    this.context = undefined;\n",
       "    this.message = undefined;\n",
       "    this.canvas = undefined;\n",
       "    this.rubberband_canvas = undefined;\n",
       "    this.rubberband_context = undefined;\n",
       "    this.format_dropdown = undefined;\n",
       "\n",
       "    this.image_mode = 'full';\n",
       "\n",
       "    this.root = $('<div/>');\n",
       "    this._root_extra_style(this.root)\n",
       "    this.root.attr('style', 'display: inline-block');\n",
       "\n",
       "    $(parent_element).append(this.root);\n",
       "\n",
       "    this._init_header(this);\n",
       "    this._init_canvas(this);\n",
       "    this._init_toolbar(this);\n",
       "\n",
       "    var fig = this;\n",
       "\n",
       "    this.waiting = false;\n",
       "\n",
       "    this.ws.onopen =  function () {\n",
       "            fig.send_message(\"supports_binary\", {value: fig.supports_binary});\n",
       "            fig.send_message(\"send_image_mode\", {});\n",
       "            if (mpl.ratio != 1) {\n",
       "                fig.send_message(\"set_dpi_ratio\", {'dpi_ratio': mpl.ratio});\n",
       "            }\n",
       "            fig.send_message(\"refresh\", {});\n",
       "        }\n",
       "\n",
       "    this.imageObj.onload = function() {\n",
       "            if (fig.image_mode == 'full') {\n",
       "                // Full images could contain transparency (where diff images\n",
       "                // almost always do), so we need to clear the canvas so that\n",
       "                // there is no ghosting.\n",
       "                fig.context.clearRect(0, 0, fig.canvas.width, fig.canvas.height);\n",
       "            }\n",
       "            fig.context.drawImage(fig.imageObj, 0, 0);\n",
       "        };\n",
       "\n",
       "    this.imageObj.onunload = function() {\n",
       "        fig.ws.close();\n",
       "    }\n",
       "\n",
       "    this.ws.onmessage = this._make_on_message_function(this);\n",
       "\n",
       "    this.ondownload = ondownload;\n",
       "}\n",
       "\n",
       "mpl.figure.prototype._init_header = function() {\n",
       "    var titlebar = $(\n",
       "        '<div class=\"ui-dialog-titlebar ui-widget-header ui-corner-all ' +\n",
       "        'ui-helper-clearfix\"/>');\n",
       "    var titletext = $(\n",
       "        '<div class=\"ui-dialog-title\" style=\"width: 100%; ' +\n",
       "        'text-align: center; padding: 3px;\"/>');\n",
       "    titlebar.append(titletext)\n",
       "    this.root.append(titlebar);\n",
       "    this.header = titletext[0];\n",
       "}\n",
       "\n",
       "\n",
       "\n",
       "mpl.figure.prototype._canvas_extra_style = function(canvas_div) {\n",
       "\n",
       "}\n",
       "\n",
       "\n",
       "mpl.figure.prototype._root_extra_style = function(canvas_div) {\n",
       "\n",
       "}\n",
       "\n",
       "mpl.figure.prototype._init_canvas = function() {\n",
       "    var fig = this;\n",
       "\n",
       "    var canvas_div = $('<div/>');\n",
       "\n",
       "    canvas_div.attr('style', 'position: relative; clear: both; outline: 0');\n",
       "\n",
       "    function canvas_keyboard_event(event) {\n",
       "        return fig.key_event(event, event['data']);\n",
       "    }\n",
       "\n",
       "    canvas_div.keydown('key_press', canvas_keyboard_event);\n",
       "    canvas_div.keyup('key_release', canvas_keyboard_event);\n",
       "    this.canvas_div = canvas_div\n",
       "    this._canvas_extra_style(canvas_div)\n",
       "    this.root.append(canvas_div);\n",
       "\n",
       "    var canvas = $('<canvas/>');\n",
       "    canvas.addClass('mpl-canvas');\n",
       "    canvas.attr('style', \"left: 0; top: 0; z-index: 0; outline: 0\")\n",
       "\n",
       "    this.canvas = canvas[0];\n",
       "    this.context = canvas[0].getContext(\"2d\");\n",
       "\n",
       "    var backingStore = this.context.backingStorePixelRatio ||\n",
       "\tthis.context.webkitBackingStorePixelRatio ||\n",
       "\tthis.context.mozBackingStorePixelRatio ||\n",
       "\tthis.context.msBackingStorePixelRatio ||\n",
       "\tthis.context.oBackingStorePixelRatio ||\n",
       "\tthis.context.backingStorePixelRatio || 1;\n",
       "\n",
       "    mpl.ratio = (window.devicePixelRatio || 1) / backingStore;\n",
       "\n",
       "    var rubberband = $('<canvas/>');\n",
       "    rubberband.attr('style', \"position: absolute; left: 0; top: 0; z-index: 1;\")\n",
       "\n",
       "    var pass_mouse_events = true;\n",
       "\n",
       "    canvas_div.resizable({\n",
       "        start: function(event, ui) {\n",
       "            pass_mouse_events = false;\n",
       "        },\n",
       "        resize: function(event, ui) {\n",
       "            fig.request_resize(ui.size.width, ui.size.height);\n",
       "        },\n",
       "        stop: function(event, ui) {\n",
       "            pass_mouse_events = true;\n",
       "            fig.request_resize(ui.size.width, ui.size.height);\n",
       "        },\n",
       "    });\n",
       "\n",
       "    function mouse_event_fn(event) {\n",
       "        if (pass_mouse_events)\n",
       "            return fig.mouse_event(event, event['data']);\n",
       "    }\n",
       "\n",
       "    rubberband.mousedown('button_press', mouse_event_fn);\n",
       "    rubberband.mouseup('button_release', mouse_event_fn);\n",
       "    // Throttle sequential mouse events to 1 every 20ms.\n",
       "    rubberband.mousemove('motion_notify', mouse_event_fn);\n",
       "\n",
       "    rubberband.mouseenter('figure_enter', mouse_event_fn);\n",
       "    rubberband.mouseleave('figure_leave', mouse_event_fn);\n",
       "\n",
       "    canvas_div.on(\"wheel\", function (event) {\n",
       "        event = event.originalEvent;\n",
       "        event['data'] = 'scroll'\n",
       "        if (event.deltaY < 0) {\n",
       "            event.step = 1;\n",
       "        } else {\n",
       "            event.step = -1;\n",
       "        }\n",
       "        mouse_event_fn(event);\n",
       "    });\n",
       "\n",
       "    canvas_div.append(canvas);\n",
       "    canvas_div.append(rubberband);\n",
       "\n",
       "    this.rubberband = rubberband;\n",
       "    this.rubberband_canvas = rubberband[0];\n",
       "    this.rubberband_context = rubberband[0].getContext(\"2d\");\n",
       "    this.rubberband_context.strokeStyle = \"#000000\";\n",
       "\n",
       "    this._resize_canvas = function(width, height) {\n",
       "        // Keep the size of the canvas, canvas container, and rubber band\n",
       "        // canvas in synch.\n",
       "        canvas_div.css('width', width)\n",
       "        canvas_div.css('height', height)\n",
       "\n",
       "        canvas.attr('width', width * mpl.ratio);\n",
       "        canvas.attr('height', height * mpl.ratio);\n",
       "        canvas.attr('style', 'width: ' + width + 'px; height: ' + height + 'px;');\n",
       "\n",
       "        rubberband.attr('width', width);\n",
       "        rubberband.attr('height', height);\n",
       "    }\n",
       "\n",
       "    // Set the figure to an initial 600x600px, this will subsequently be updated\n",
       "    // upon first draw.\n",
       "    this._resize_canvas(600, 600);\n",
       "\n",
       "    // Disable right mouse context menu.\n",
       "    $(this.rubberband_canvas).bind(\"contextmenu\",function(e){\n",
       "        return false;\n",
       "    });\n",
       "\n",
       "    function set_focus () {\n",
       "        canvas.focus();\n",
       "        canvas_div.focus();\n",
       "    }\n",
       "\n",
       "    window.setTimeout(set_focus, 100);\n",
       "}\n",
       "\n",
       "mpl.figure.prototype._init_toolbar = function() {\n",
       "    var fig = this;\n",
       "\n",
       "    var nav_element = $('<div/>');\n",
       "    nav_element.attr('style', 'width: 100%');\n",
       "    this.root.append(nav_element);\n",
       "\n",
       "    // Define a callback function for later on.\n",
       "    function toolbar_event(event) {\n",
       "        return fig.toolbar_button_onclick(event['data']);\n",
       "    }\n",
       "    function toolbar_mouse_event(event) {\n",
       "        return fig.toolbar_button_onmouseover(event['data']);\n",
       "    }\n",
       "\n",
       "    for(var toolbar_ind in mpl.toolbar_items) {\n",
       "        var name = mpl.toolbar_items[toolbar_ind][0];\n",
       "        var tooltip = mpl.toolbar_items[toolbar_ind][1];\n",
       "        var image = mpl.toolbar_items[toolbar_ind][2];\n",
       "        var method_name = mpl.toolbar_items[toolbar_ind][3];\n",
       "\n",
       "        if (!name) {\n",
       "            // put a spacer in here.\n",
       "            continue;\n",
       "        }\n",
       "        var button = $('<button/>');\n",
       "        button.addClass('ui-button ui-widget ui-state-default ui-corner-all ' +\n",
       "                        'ui-button-icon-only');\n",
       "        button.attr('role', 'button');\n",
       "        button.attr('aria-disabled', 'false');\n",
       "        button.click(method_name, toolbar_event);\n",
       "        button.mouseover(tooltip, toolbar_mouse_event);\n",
       "\n",
       "        var icon_img = $('<span/>');\n",
       "        icon_img.addClass('ui-button-icon-primary ui-icon');\n",
       "        icon_img.addClass(image);\n",
       "        icon_img.addClass('ui-corner-all');\n",
       "\n",
       "        var tooltip_span = $('<span/>');\n",
       "        tooltip_span.addClass('ui-button-text');\n",
       "        tooltip_span.html(tooltip);\n",
       "\n",
       "        button.append(icon_img);\n",
       "        button.append(tooltip_span);\n",
       "\n",
       "        nav_element.append(button);\n",
       "    }\n",
       "\n",
       "    var fmt_picker_span = $('<span/>');\n",
       "\n",
       "    var fmt_picker = $('<select/>');\n",
       "    fmt_picker.addClass('mpl-toolbar-option ui-widget ui-widget-content');\n",
       "    fmt_picker_span.append(fmt_picker);\n",
       "    nav_element.append(fmt_picker_span);\n",
       "    this.format_dropdown = fmt_picker[0];\n",
       "\n",
       "    for (var ind in mpl.extensions) {\n",
       "        var fmt = mpl.extensions[ind];\n",
       "        var option = $(\n",
       "            '<option/>', {selected: fmt === mpl.default_extension}).html(fmt);\n",
       "        fmt_picker.append(option);\n",
       "    }\n",
       "\n",
       "    // Add hover states to the ui-buttons\n",
       "    $( \".ui-button\" ).hover(\n",
       "        function() { $(this).addClass(\"ui-state-hover\");},\n",
       "        function() { $(this).removeClass(\"ui-state-hover\");}\n",
       "    );\n",
       "\n",
       "    var status_bar = $('<span class=\"mpl-message\"/>');\n",
       "    nav_element.append(status_bar);\n",
       "    this.message = status_bar[0];\n",
       "}\n",
       "\n",
       "mpl.figure.prototype.request_resize = function(x_pixels, y_pixels) {\n",
       "    // Request matplotlib to resize the figure. Matplotlib will then trigger a resize in the client,\n",
       "    // which will in turn request a refresh of the image.\n",
       "    this.send_message('resize', {'width': x_pixels, 'height': y_pixels});\n",
       "}\n",
       "\n",
       "mpl.figure.prototype.send_message = function(type, properties) {\n",
       "    properties['type'] = type;\n",
       "    properties['figure_id'] = this.id;\n",
       "    this.ws.send(JSON.stringify(properties));\n",
       "}\n",
       "\n",
       "mpl.figure.prototype.send_draw_message = function() {\n",
       "    if (!this.waiting) {\n",
       "        this.waiting = true;\n",
       "        this.ws.send(JSON.stringify({type: \"draw\", figure_id: this.id}));\n",
       "    }\n",
       "}\n",
       "\n",
       "\n",
       "mpl.figure.prototype.handle_save = function(fig, msg) {\n",
       "    var format_dropdown = fig.format_dropdown;\n",
       "    var format = format_dropdown.options[format_dropdown.selectedIndex].value;\n",
       "    fig.ondownload(fig, format);\n",
       "}\n",
       "\n",
       "\n",
       "mpl.figure.prototype.handle_resize = function(fig, msg) {\n",
       "    var size = msg['size'];\n",
       "    if (size[0] != fig.canvas.width || size[1] != fig.canvas.height) {\n",
       "        fig._resize_canvas(size[0], size[1]);\n",
       "        fig.send_message(\"refresh\", {});\n",
       "    };\n",
       "}\n",
       "\n",
       "mpl.figure.prototype.handle_rubberband = function(fig, msg) {\n",
       "    var x0 = msg['x0'] / mpl.ratio;\n",
       "    var y0 = (fig.canvas.height - msg['y0']) / mpl.ratio;\n",
       "    var x1 = msg['x1'] / mpl.ratio;\n",
       "    var y1 = (fig.canvas.height - msg['y1']) / mpl.ratio;\n",
       "    x0 = Math.floor(x0) + 0.5;\n",
       "    y0 = Math.floor(y0) + 0.5;\n",
       "    x1 = Math.floor(x1) + 0.5;\n",
       "    y1 = Math.floor(y1) + 0.5;\n",
       "    var min_x = Math.min(x0, x1);\n",
       "    var min_y = Math.min(y0, y1);\n",
       "    var width = Math.abs(x1 - x0);\n",
       "    var height = Math.abs(y1 - y0);\n",
       "\n",
       "    fig.rubberband_context.clearRect(\n",
       "        0, 0, fig.canvas.width / mpl.ratio, fig.canvas.height / mpl.ratio);\n",
       "\n",
       "    fig.rubberband_context.strokeRect(min_x, min_y, width, height);\n",
       "}\n",
       "\n",
       "mpl.figure.prototype.handle_figure_label = function(fig, msg) {\n",
       "    // Updates the figure title.\n",
       "    fig.header.textContent = msg['label'];\n",
       "}\n",
       "\n",
       "mpl.figure.prototype.handle_cursor = function(fig, msg) {\n",
       "    var cursor = msg['cursor'];\n",
       "    switch(cursor)\n",
       "    {\n",
       "    case 0:\n",
       "        cursor = 'pointer';\n",
       "        break;\n",
       "    case 1:\n",
       "        cursor = 'default';\n",
       "        break;\n",
       "    case 2:\n",
       "        cursor = 'crosshair';\n",
       "        break;\n",
       "    case 3:\n",
       "        cursor = 'move';\n",
       "        break;\n",
       "    }\n",
       "    fig.rubberband_canvas.style.cursor = cursor;\n",
       "}\n",
       "\n",
       "mpl.figure.prototype.handle_message = function(fig, msg) {\n",
       "    fig.message.textContent = msg['message'];\n",
       "}\n",
       "\n",
       "mpl.figure.prototype.handle_draw = function(fig, msg) {\n",
       "    // Request the server to send over a new figure.\n",
       "    fig.send_draw_message();\n",
       "}\n",
       "\n",
       "mpl.figure.prototype.handle_image_mode = function(fig, msg) {\n",
       "    fig.image_mode = msg['mode'];\n",
       "}\n",
       "\n",
       "mpl.figure.prototype.updated_canvas_event = function() {\n",
       "    // Called whenever the canvas gets updated.\n",
       "    this.send_message(\"ack\", {});\n",
       "}\n",
       "\n",
       "// A function to construct a web socket function for onmessage handling.\n",
       "// Called in the figure constructor.\n",
       "mpl.figure.prototype._make_on_message_function = function(fig) {\n",
       "    return function socket_on_message(evt) {\n",
       "        if (evt.data instanceof Blob) {\n",
       "            /* FIXME: We get \"Resource interpreted as Image but\n",
       "             * transferred with MIME type text/plain:\" errors on\n",
       "             * Chrome.  But how to set the MIME type?  It doesn't seem\n",
       "             * to be part of the websocket stream */\n",
       "            evt.data.type = \"image/png\";\n",
       "\n",
       "            /* Free the memory for the previous frames */\n",
       "            if (fig.imageObj.src) {\n",
       "                (window.URL || window.webkitURL).revokeObjectURL(\n",
       "                    fig.imageObj.src);\n",
       "            }\n",
       "\n",
       "            fig.imageObj.src = (window.URL || window.webkitURL).createObjectURL(\n",
       "                evt.data);\n",
       "            fig.updated_canvas_event();\n",
       "            fig.waiting = false;\n",
       "            return;\n",
       "        }\n",
       "        else if (typeof evt.data === 'string' && evt.data.slice(0, 21) == \"data:image/png;base64\") {\n",
       "            fig.imageObj.src = evt.data;\n",
       "            fig.updated_canvas_event();\n",
       "            fig.waiting = false;\n",
       "            return;\n",
       "        }\n",
       "\n",
       "        var msg = JSON.parse(evt.data);\n",
       "        var msg_type = msg['type'];\n",
       "\n",
       "        // Call the  \"handle_{type}\" callback, which takes\n",
       "        // the figure and JSON message as its only arguments.\n",
       "        try {\n",
       "            var callback = fig[\"handle_\" + msg_type];\n",
       "        } catch (e) {\n",
       "            console.log(\"No handler for the '\" + msg_type + \"' message type: \", msg);\n",
       "            return;\n",
       "        }\n",
       "\n",
       "        if (callback) {\n",
       "            try {\n",
       "                // console.log(\"Handling '\" + msg_type + \"' message: \", msg);\n",
       "                callback(fig, msg);\n",
       "            } catch (e) {\n",
       "                console.log(\"Exception inside the 'handler_\" + msg_type + \"' callback:\", e, e.stack, msg);\n",
       "            }\n",
       "        }\n",
       "    };\n",
       "}\n",
       "\n",
       "// from http://stackoverflow.com/questions/1114465/getting-mouse-location-in-canvas\n",
       "mpl.findpos = function(e) {\n",
       "    //this section is from http://www.quirksmode.org/js/events_properties.html\n",
       "    var targ;\n",
       "    if (!e)\n",
       "        e = window.event;\n",
       "    if (e.target)\n",
       "        targ = e.target;\n",
       "    else if (e.srcElement)\n",
       "        targ = e.srcElement;\n",
       "    if (targ.nodeType == 3) // defeat Safari bug\n",
       "        targ = targ.parentNode;\n",
       "\n",
       "    // jQuery normalizes the pageX and pageY\n",
       "    // pageX,Y are the mouse positions relative to the document\n",
       "    // offset() returns the position of the element relative to the document\n",
       "    var x = e.pageX - $(targ).offset().left;\n",
       "    var y = e.pageY - $(targ).offset().top;\n",
       "\n",
       "    return {\"x\": x, \"y\": y};\n",
       "};\n",
       "\n",
       "/*\n",
       " * return a copy of an object with only non-object keys\n",
       " * we need this to avoid circular references\n",
       " * http://stackoverflow.com/a/24161582/3208463\n",
       " */\n",
       "function simpleKeys (original) {\n",
       "  return Object.keys(original).reduce(function (obj, key) {\n",
       "    if (typeof original[key] !== 'object')\n",
       "        obj[key] = original[key]\n",
       "    return obj;\n",
       "  }, {});\n",
       "}\n",
       "\n",
       "mpl.figure.prototype.mouse_event = function(event, name) {\n",
       "    var canvas_pos = mpl.findpos(event)\n",
       "\n",
       "    if (name === 'button_press')\n",
       "    {\n",
       "        this.canvas.focus();\n",
       "        this.canvas_div.focus();\n",
       "    }\n",
       "\n",
       "    var x = canvas_pos.x * mpl.ratio;\n",
       "    var y = canvas_pos.y * mpl.ratio;\n",
       "\n",
       "    this.send_message(name, {x: x, y: y, button: event.button,\n",
       "                             step: event.step,\n",
       "                             guiEvent: simpleKeys(event)});\n",
       "\n",
       "    /* This prevents the web browser from automatically changing to\n",
       "     * the text insertion cursor when the button is pressed.  We want\n",
       "     * to control all of the cursor setting manually through the\n",
       "     * 'cursor' event from matplotlib */\n",
       "    event.preventDefault();\n",
       "    return false;\n",
       "}\n",
       "\n",
       "mpl.figure.prototype._key_event_extra = function(event, name) {\n",
       "    // Handle any extra behaviour associated with a key event\n",
       "}\n",
       "\n",
       "mpl.figure.prototype.key_event = function(event, name) {\n",
       "\n",
       "    // Prevent repeat events\n",
       "    if (name == 'key_press')\n",
       "    {\n",
       "        if (event.which === this._key)\n",
       "            return;\n",
       "        else\n",
       "            this._key = event.which;\n",
       "    }\n",
       "    if (name == 'key_release')\n",
       "        this._key = null;\n",
       "\n",
       "    var value = '';\n",
       "    if (event.ctrlKey && event.which != 17)\n",
       "        value += \"ctrl+\";\n",
       "    if (event.altKey && event.which != 18)\n",
       "        value += \"alt+\";\n",
       "    if (event.shiftKey && event.which != 16)\n",
       "        value += \"shift+\";\n",
       "\n",
       "    value += 'k';\n",
       "    value += event.which.toString();\n",
       "\n",
       "    this._key_event_extra(event, name);\n",
       "\n",
       "    this.send_message(name, {key: value,\n",
       "                             guiEvent: simpleKeys(event)});\n",
       "    return false;\n",
       "}\n",
       "\n",
       "mpl.figure.prototype.toolbar_button_onclick = function(name) {\n",
       "    if (name == 'download') {\n",
       "        this.handle_save(this, null);\n",
       "    } else {\n",
       "        this.send_message(\"toolbar_button\", {name: name});\n",
       "    }\n",
       "};\n",
       "\n",
       "mpl.figure.prototype.toolbar_button_onmouseover = function(tooltip) {\n",
       "    this.message.textContent = tooltip;\n",
       "};\n",
       "mpl.toolbar_items = [[\"Home\", \"Reset original view\", \"fa fa-home icon-home\", \"home\"], [\"Back\", \"Back to previous view\", \"fa fa-arrow-left icon-arrow-left\", \"back\"], [\"Forward\", \"Forward to next view\", \"fa fa-arrow-right icon-arrow-right\", \"forward\"], [\"\", \"\", \"\", \"\"], [\"Pan\", \"Pan axes with left mouse, zoom with right\", \"fa fa-arrows icon-move\", \"pan\"], [\"Zoom\", \"Zoom to rectangle\", \"fa fa-square-o icon-check-empty\", \"zoom\"], [\"\", \"\", \"\", \"\"], [\"Download\", \"Download plot\", \"fa fa-floppy-o icon-save\", \"download\"]];\n",
       "\n",
       "mpl.extensions = [\"eps\", \"jpeg\", \"pdf\", \"png\", \"ps\", \"raw\", \"svg\", \"tif\"];\n",
       "\n",
       "mpl.default_extension = \"png\";var comm_websocket_adapter = function(comm) {\n",
       "    // Create a \"websocket\"-like object which calls the given IPython comm\n",
       "    // object with the appropriate methods. Currently this is a non binary\n",
       "    // socket, so there is still some room for performance tuning.\n",
       "    var ws = {};\n",
       "\n",
       "    ws.close = function() {\n",
       "        comm.close()\n",
       "    };\n",
       "    ws.send = function(m) {\n",
       "        //console.log('sending', m);\n",
       "        comm.send(m);\n",
       "    };\n",
       "    // Register the callback with on_msg.\n",
       "    comm.on_msg(function(msg) {\n",
       "        //console.log('receiving', msg['content']['data'], msg);\n",
       "        // Pass the mpl event to the overridden (by mpl) onmessage function.\n",
       "        ws.onmessage(msg['content']['data'])\n",
       "    });\n",
       "    return ws;\n",
       "}\n",
       "\n",
       "mpl.mpl_figure_comm = function(comm, msg) {\n",
       "    // This is the function which gets called when the mpl process\n",
       "    // starts-up an IPython Comm through the \"matplotlib\" channel.\n",
       "\n",
       "    var id = msg.content.data.id;\n",
       "    // Get hold of the div created by the display call when the Comm\n",
       "    // socket was opened in Python.\n",
       "    var element = $(\"#\" + id);\n",
       "    var ws_proxy = comm_websocket_adapter(comm)\n",
       "\n",
       "    function ondownload(figure, format) {\n",
       "        window.open(figure.imageObj.src);\n",
       "    }\n",
       "\n",
       "    var fig = new mpl.figure(id, ws_proxy,\n",
       "                           ondownload,\n",
       "                           element.get(0));\n",
       "\n",
       "    // Call onopen now - mpl needs it, as it is assuming we've passed it a real\n",
       "    // web socket which is closed, not our websocket->open comm proxy.\n",
       "    ws_proxy.onopen();\n",
       "\n",
       "    fig.parent_element = element.get(0);\n",
       "    fig.cell_info = mpl.find_output_cell(\"<div id='\" + id + \"'></div>\");\n",
       "    if (!fig.cell_info) {\n",
       "        console.error(\"Failed to find cell for figure\", id, fig);\n",
       "        return;\n",
       "    }\n",
       "\n",
       "    var output_index = fig.cell_info[2]\n",
       "    var cell = fig.cell_info[0];\n",
       "\n",
       "};\n",
       "\n",
       "mpl.figure.prototype.handle_close = function(fig, msg) {\n",
       "    var width = fig.canvas.width/mpl.ratio\n",
       "    fig.root.unbind('remove')\n",
       "\n",
       "    // Update the output cell to use the data from the current canvas.\n",
       "    fig.push_to_output();\n",
       "    var dataURL = fig.canvas.toDataURL();\n",
       "    // Re-enable the keyboard manager in IPython - without this line, in FF,\n",
       "    // the notebook keyboard shortcuts fail.\n",
       "    IPython.keyboard_manager.enable()\n",
       "    $(fig.parent_element).html('<img src=\"' + dataURL + '\" width=\"' + width + '\">');\n",
       "    fig.close_ws(fig, msg);\n",
       "}\n",
       "\n",
       "mpl.figure.prototype.close_ws = function(fig, msg){\n",
       "    fig.send_message('closing', msg);\n",
       "    // fig.ws.close()\n",
       "}\n",
       "\n",
       "mpl.figure.prototype.push_to_output = function(remove_interactive) {\n",
       "    // Turn the data on the canvas into data in the output cell.\n",
       "    var width = this.canvas.width/mpl.ratio\n",
       "    var dataURL = this.canvas.toDataURL();\n",
       "    this.cell_info[1]['text/html'] = '<img src=\"' + dataURL + '\" width=\"' + width + '\">';\n",
       "}\n",
       "\n",
       "mpl.figure.prototype.updated_canvas_event = function() {\n",
       "    // Tell IPython that the notebook contents must change.\n",
       "    IPython.notebook.set_dirty(true);\n",
       "    this.send_message(\"ack\", {});\n",
       "    var fig = this;\n",
       "    // Wait a second, then push the new image to the DOM so\n",
       "    // that it is saved nicely (might be nice to debounce this).\n",
       "    setTimeout(function () { fig.push_to_output() }, 1000);\n",
       "}\n",
       "\n",
       "mpl.figure.prototype._init_toolbar = function() {\n",
       "    var fig = this;\n",
       "\n",
       "    var nav_element = $('<div/>');\n",
       "    nav_element.attr('style', 'width: 100%');\n",
       "    this.root.append(nav_element);\n",
       "\n",
       "    // Define a callback function for later on.\n",
       "    function toolbar_event(event) {\n",
       "        return fig.toolbar_button_onclick(event['data']);\n",
       "    }\n",
       "    function toolbar_mouse_event(event) {\n",
       "        return fig.toolbar_button_onmouseover(event['data']);\n",
       "    }\n",
       "\n",
       "    for(var toolbar_ind in mpl.toolbar_items){\n",
       "        var name = mpl.toolbar_items[toolbar_ind][0];\n",
       "        var tooltip = mpl.toolbar_items[toolbar_ind][1];\n",
       "        var image = mpl.toolbar_items[toolbar_ind][2];\n",
       "        var method_name = mpl.toolbar_items[toolbar_ind][3];\n",
       "\n",
       "        if (!name) { continue; };\n",
       "\n",
       "        var button = $('<button class=\"btn btn-default\" href=\"#\" title=\"' + name + '\"><i class=\"fa ' + image + ' fa-lg\"></i></button>');\n",
       "        button.click(method_name, toolbar_event);\n",
       "        button.mouseover(tooltip, toolbar_mouse_event);\n",
       "        nav_element.append(button);\n",
       "    }\n",
       "\n",
       "    // Add the status bar.\n",
       "    var status_bar = $('<span class=\"mpl-message\" style=\"text-align:right; float: right;\"/>');\n",
       "    nav_element.append(status_bar);\n",
       "    this.message = status_bar[0];\n",
       "\n",
       "    // Add the close button to the window.\n",
       "    var buttongrp = $('<div class=\"btn-group inline pull-right\"></div>');\n",
       "    var button = $('<button class=\"btn btn-mini btn-primary\" href=\"#\" title=\"Stop Interaction\"><i class=\"fa fa-power-off icon-remove icon-large\"></i></button>');\n",
       "    button.click(function (evt) { fig.handle_close(fig, {}); } );\n",
       "    button.mouseover('Stop Interaction', toolbar_mouse_event);\n",
       "    buttongrp.append(button);\n",
       "    var titlebar = this.root.find($('.ui-dialog-titlebar'));\n",
       "    titlebar.prepend(buttongrp);\n",
       "}\n",
       "\n",
       "mpl.figure.prototype._root_extra_style = function(el){\n",
       "    var fig = this\n",
       "    el.on(\"remove\", function(){\n",
       "\tfig.close_ws(fig, {});\n",
       "    });\n",
       "}\n",
       "\n",
       "mpl.figure.prototype._canvas_extra_style = function(el){\n",
       "    // this is important to make the div 'focusable\n",
       "    el.attr('tabindex', 0)\n",
       "    // reach out to IPython and tell the keyboard manager to turn it's self\n",
       "    // off when our div gets focus\n",
       "\n",
       "    // location in version 3\n",
       "    if (IPython.notebook.keyboard_manager) {\n",
       "        IPython.notebook.keyboard_manager.register_events(el);\n",
       "    }\n",
       "    else {\n",
       "        // location in version 2\n",
       "        IPython.keyboard_manager.register_events(el);\n",
       "    }\n",
       "\n",
       "}\n",
       "\n",
       "mpl.figure.prototype._key_event_extra = function(event, name) {\n",
       "    var manager = IPython.notebook.keyboard_manager;\n",
       "    if (!manager)\n",
       "        manager = IPython.keyboard_manager;\n",
       "\n",
       "    // Check for shift+enter\n",
       "    if (event.shiftKey && event.which == 13) {\n",
       "        this.canvas_div.blur();\n",
       "        // select the cell after this one\n",
       "        var index = IPython.notebook.find_cell_index(this.cell_info[0]);\n",
       "        IPython.notebook.select(index + 1);\n",
       "    }\n",
       "}\n",
       "\n",
       "mpl.figure.prototype.handle_save = function(fig, msg) {\n",
       "    fig.ondownload(fig, null);\n",
       "}\n",
       "\n",
       "\n",
       "mpl.find_output_cell = function(html_output) {\n",
       "    // Return the cell and output element which can be found *uniquely* in the notebook.\n",
       "    // Note - this is a bit hacky, but it is done because the \"notebook_saving.Notebook\"\n",
       "    // IPython event is triggered only after the cells have been serialised, which for\n",
       "    // our purposes (turning an active figure into a static one), is too late.\n",
       "    var cells = IPython.notebook.get_cells();\n",
       "    var ncells = cells.length;\n",
       "    for (var i=0; i<ncells; i++) {\n",
       "        var cell = cells[i];\n",
       "        if (cell.cell_type === 'code'){\n",
       "            for (var j=0; j<cell.output_area.outputs.length; j++) {\n",
       "                var data = cell.output_area.outputs[j];\n",
       "                if (data.data) {\n",
       "                    // IPython >= 3 moved mimebundle to data attribute of output\n",
       "                    data = data.data;\n",
       "                }\n",
       "                if (data['text/html'] == html_output) {\n",
       "                    return [cell, data, j];\n",
       "                }\n",
       "            }\n",
       "        }\n",
       "    }\n",
       "}\n",
       "\n",
       "// Register the function which deals with the matplotlib target/channel.\n",
       "// The kernel may be null if the page has been refreshed.\n",
       "if (IPython.notebook.kernel != null) {\n",
       "    IPython.notebook.kernel.comm_manager.register_target('matplotlib', mpl.mpl_figure_comm);\n",
       "}\n"
      ],
      "text/plain": [
       "<IPython.core.display.Javascript object>"
      ]
     },
     "metadata": {},
     "output_type": "display_data"
    },
    {
     "data": {
      "text/html": [
       "<img src=\"data:image/png;base64,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\" width=\"1000\">"
      ],
      "text/plain": [
       "<IPython.core.display.HTML object>"
      ]
     },
     "metadata": {},
     "output_type": "display_data"
    }
   ],
   "source": [
    "ax, tax, lax, lines = dual_train_plots()\n",
    "fig = ax.figure\n",
    "plt.tight_layout()"
   ]
  },
  {
   "cell_type": "code",
   "execution_count": 17,
   "metadata": {},
   "outputs": [
    {
     "name": "stdout",
     "output_type": "stream",
     "text": [
      "Number of batches: train = 282, val = 32\n"
     ]
    },
    {
     "data": {
      "application/vnd.jupyter.widget-view+json": {
       "model_id": "c6317095ea724fd7b185d06f80bc39a1",
       "version_major": 2,
       "version_minor": 0
      },
      "text/plain": [
       "HBox(children=(FloatProgress(value=0.0, description='Epochs', layout=Layout(flex='2'), style=ProgressStyle(des…"
      ]
     },
     "metadata": {},
     "output_type": "display_data"
    },
    {
     "name": "stdout",
     "output_type": "stream",
     "text": [
      "Number of batches: train = 282, val = 32\n"
     ]
    },
    {
     "data": {
      "application/vnd.jupyter.widget-view+json": {
       "model_id": "",
       "version_major": 2,
       "version_minor": 0
      },
      "text/plain": [
       "HBox(children=(FloatProgress(value=0.0, description='Training', layout=Layout(flex='2'), max=282.0, style=Prog…"
      ]
     },
     "metadata": {},
     "output_type": "display_data"
    },
    {
     "name": "stdout",
     "output_type": "stream",
     "text": [
      "Epoch 0: train=111.338, val=31.2643, took 8.3507 s\n"
     ]
    },
    {
     "data": {
      "application/vnd.jupyter.widget-view+json": {
       "model_id": "",
       "version_major": 2,
       "version_minor": 0
      },
      "text/plain": [
       "HBox(children=(FloatProgress(value=0.0, description='Training', layout=Layout(flex='2'), max=282.0, style=Prog…"
      ]
     },
     "metadata": {},
     "output_type": "display_data"
    },
    {
     "name": "stdout",
     "output_type": "stream",
     "text": [
      "Epoch 1: train=16.6242, val=12.9354, took 8.0878 s\n"
     ]
    },
    {
     "data": {
      "application/vnd.jupyter.widget-view+json": {
       "model_id": "",
       "version_major": 2,
       "version_minor": 0
      },
      "text/plain": [
       "HBox(children=(FloatProgress(value=0.0, description='Training', layout=Layout(flex='2'), max=282.0, style=Prog…"
      ]
     },
     "metadata": {},
     "output_type": "display_data"
    },
    {
     "name": "stdout",
     "output_type": "stream",
     "text": [
      "Epoch 2: train=12.5984, val=12.3016, took 8.1468 s\n"
     ]
    },
    {
     "data": {
      "application/vnd.jupyter.widget-view+json": {
       "model_id": "",
       "version_major": 2,
       "version_minor": 0
      },
      "text/plain": [
       "HBox(children=(FloatProgress(value=0.0, description='Training', layout=Layout(flex='2'), max=282.0, style=Prog…"
      ]
     },
     "metadata": {},
     "output_type": "display_data"
    },
    {
     "name": "stdout",
     "output_type": "stream",
     "text": [
      "Epoch 3: train=12.1598, val=11.9835, took 8.2955 s\n"
     ]
    },
    {
     "data": {
      "application/vnd.jupyter.widget-view+json": {
       "model_id": "",
       "version_major": 2,
       "version_minor": 0
      },
      "text/plain": [
       "HBox(children=(FloatProgress(value=0.0, description='Training', layout=Layout(flex='2'), max=282.0, style=Prog…"
      ]
     },
     "metadata": {},
     "output_type": "display_data"
    },
    {
     "name": "stdout",
     "output_type": "stream",
     "text": [
      "Epoch 4: train=11.9036, val=11.7793, took 8.2073 s\n"
     ]
    },
    {
     "data": {
      "application/vnd.jupyter.widget-view+json": {
       "model_id": "",
       "version_major": 2,
       "version_minor": 0
      },
      "text/plain": [
       "HBox(children=(FloatProgress(value=0.0, description='Training', layout=Layout(flex='2'), max=282.0, style=Prog…"
      ]
     },
     "metadata": {},
     "output_type": "display_data"
    },
    {
     "name": "stdout",
     "output_type": "stream",
     "text": [
      "Epoch 5: train=11.7357, val=11.6369, took 8.2126 s\n"
     ]
    },
    {
     "data": {
      "application/vnd.jupyter.widget-view+json": {
       "model_id": "",
       "version_major": 2,
       "version_minor": 0
      },
      "text/plain": [
       "HBox(children=(FloatProgress(value=0.0, description='Training', layout=Layout(flex='2'), max=282.0, style=Prog…"
      ]
     },
     "metadata": {},
     "output_type": "display_data"
    },
    {
     "name": "stdout",
     "output_type": "stream",
     "text": [
      "Epoch 6: train=11.613, val=11.5328, took 8.1745 s\n"
     ]
    },
    {
     "data": {
      "application/vnd.jupyter.widget-view+json": {
       "model_id": "",
       "version_major": 2,
       "version_minor": 0
      },
      "text/plain": [
       "HBox(children=(FloatProgress(value=0.0, description='Training', layout=Layout(flex='2'), max=282.0, style=Prog…"
      ]
     },
     "metadata": {},
     "output_type": "display_data"
    },
    {
     "name": "stdout",
     "output_type": "stream",
     "text": [
      "Epoch 7: train=11.5205, val=11.4519, took 8.1777 s\n"
     ]
    },
    {
     "data": {
      "application/vnd.jupyter.widget-view+json": {
       "model_id": "",
       "version_major": 2,
       "version_minor": 0
      },
      "text/plain": [
       "HBox(children=(FloatProgress(value=0.0, description='Training', layout=Layout(flex='2'), max=282.0, style=Prog…"
      ]
     },
     "metadata": {},
     "output_type": "display_data"
    },
    {
     "name": "stdout",
     "output_type": "stream",
     "text": [
      "Epoch 8: train=11.4529, val=11.3948, took 8.1916 s\n"
     ]
    },
    {
     "data": {
      "application/vnd.jupyter.widget-view+json": {
       "model_id": "",
       "version_major": 2,
       "version_minor": 0
      },
      "text/plain": [
       "HBox(children=(FloatProgress(value=0.0, description='Training', layout=Layout(flex='2'), max=282.0, style=Prog…"
      ]
     },
     "metadata": {},
     "output_type": "display_data"
    },
    {
     "name": "stdout",
     "output_type": "stream",
     "text": [
      "Epoch 9: train=11.3982, val=11.3404, took 8.2349 s\n"
     ]
    },
    {
     "data": {
      "application/vnd.jupyter.widget-view+json": {
       "model_id": "",
       "version_major": 2,
       "version_minor": 0
      },
      "text/plain": [
       "HBox(children=(FloatProgress(value=0.0, description='Training', layout=Layout(flex='2'), max=282.0, style=Prog…"
      ]
     },
     "metadata": {},
     "output_type": "display_data"
    },
    {
     "name": "stdout",
     "output_type": "stream",
     "text": [
      "Epoch 10: train=11.3455, val=11.2983, took 8.24 s\n"
     ]
    },
    {
     "data": {
      "application/vnd.jupyter.widget-view+json": {
       "model_id": "",
       "version_major": 2,
       "version_minor": 0
      },
      "text/plain": [
       "HBox(children=(FloatProgress(value=0.0, description='Training', layout=Layout(flex='2'), max=282.0, style=Prog…"
      ]
     },
     "metadata": {},
     "output_type": "display_data"
    },
    {
     "name": "stdout",
     "output_type": "stream",
     "text": [
      "Epoch 11: train=11.3144, val=11.2765, took 8.1795 s\n"
     ]
    },
    {
     "data": {
      "application/vnd.jupyter.widget-view+json": {
       "model_id": "",
       "version_major": 2,
       "version_minor": 0
      },
      "text/plain": [
       "HBox(children=(FloatProgress(value=0.0, description='Training', layout=Layout(flex='2'), max=282.0, style=Prog…"
      ]
     },
     "metadata": {},
     "output_type": "display_data"
    },
    {
     "name": "stdout",
     "output_type": "stream",
     "text": [
      "Epoch 12: train=11.2943, val=11.2568, took 8.2335 s\n"
     ]
    },
    {
     "data": {
      "application/vnd.jupyter.widget-view+json": {
       "model_id": "",
       "version_major": 2,
       "version_minor": 0
      },
      "text/plain": [
       "HBox(children=(FloatProgress(value=0.0, description='Training', layout=Layout(flex='2'), max=282.0, style=Prog…"
      ]
     },
     "metadata": {},
     "output_type": "display_data"
    },
    {
     "name": "stdout",
     "output_type": "stream",
     "text": [
      "Epoch 13: train=11.2793, val=11.2466, took 8.2326 s\n"
     ]
    },
    {
     "data": {
      "application/vnd.jupyter.widget-view+json": {
       "model_id": "",
       "version_major": 2,
       "version_minor": 0
      },
      "text/plain": [
       "HBox(children=(FloatProgress(value=0.0, description='Training', layout=Layout(flex='2'), max=282.0, style=Prog…"
      ]
     },
     "metadata": {},
     "output_type": "display_data"
    },
    {
     "name": "stdout",
     "output_type": "stream",
     "text": [
      "Epoch 14: train=11.2698, val=11.2402, took 8.2924 s\n"
     ]
    },
    {
     "data": {
      "application/vnd.jupyter.widget-view+json": {
       "model_id": "",
       "version_major": 2,
       "version_minor": 0
      },
      "text/plain": [
       "HBox(children=(FloatProgress(value=0.0, description='Training', layout=Layout(flex='2'), max=282.0, style=Prog…"
      ]
     },
     "metadata": {},
     "output_type": "display_data"
    },
    {
     "name": "stdout",
     "output_type": "stream",
     "text": [
      "Epoch 15: train=11.2641, val=11.2342, took 8.3478 s\n"
     ]
    },
    {
     "data": {
      "application/vnd.jupyter.widget-view+json": {
       "model_id": "",
       "version_major": 2,
       "version_minor": 0
      },
      "text/plain": [
       "HBox(children=(FloatProgress(value=0.0, description='Training', layout=Layout(flex='2'), max=282.0, style=Prog…"
      ]
     },
     "metadata": {},
     "output_type": "display_data"
    },
    {
     "name": "stdout",
     "output_type": "stream",
     "text": [
      "Epoch 16: train=11.2586, val=11.232, took 8.3364 s\n"
     ]
    },
    {
     "data": {
      "application/vnd.jupyter.widget-view+json": {
       "model_id": "",
       "version_major": 2,
       "version_minor": 0
      },
      "text/plain": [
       "HBox(children=(FloatProgress(value=0.0, description='Training', layout=Layout(flex='2'), max=282.0, style=Prog…"
      ]
     },
     "metadata": {},
     "output_type": "display_data"
    },
    {
     "name": "stdout",
     "output_type": "stream",
     "text": [
      "Epoch 17: train=11.2564, val=11.23, took 8.2998 s\n"
     ]
    },
    {
     "data": {
      "application/vnd.jupyter.widget-view+json": {
       "model_id": "",
       "version_major": 2,
       "version_minor": 0
      },
      "text/plain": [
       "HBox(children=(FloatProgress(value=0.0, description='Training', layout=Layout(flex='2'), max=282.0, style=Prog…"
      ]
     },
     "metadata": {},
     "output_type": "display_data"
    },
    {
     "name": "stdout",
     "output_type": "stream",
     "text": [
      "Epoch 18: train=11.2552, val=11.2295, took 8.2422 s\n"
     ]
    },
    {
     "data": {
      "application/vnd.jupyter.widget-view+json": {
       "model_id": "",
       "version_major": 2,
       "version_minor": 0
      },
      "text/plain": [
       "HBox(children=(FloatProgress(value=0.0, description='Training', layout=Layout(flex='2'), max=282.0, style=Prog…"
      ]
     },
     "metadata": {},
     "output_type": "display_data"
    },
    {
     "name": "stdout",
     "output_type": "stream",
     "text": [
      "Epoch 19: train=11.2541, val=11.2281, took 8.3473 s\n"
     ]
    },
    {
     "data": {
      "application/vnd.jupyter.widget-view+json": {
       "model_id": "",
       "version_major": 2,
       "version_minor": 0
      },
      "text/plain": [
       "HBox(children=(FloatProgress(value=0.0, description='Training', layout=Layout(flex='2'), max=282.0, style=Prog…"
      ]
     },
     "metadata": {},
     "output_type": "display_data"
    },
    {
     "name": "stdout",
     "output_type": "stream",
     "text": [
      "Epoch 20: train=11.252, val=11.2264, took 8.3053 s\n"
     ]
    },
    {
     "data": {
      "application/vnd.jupyter.widget-view+json": {
       "model_id": "",
       "version_major": 2,
       "version_minor": 0
      },
      "text/plain": [
       "HBox(children=(FloatProgress(value=0.0, description='Training', layout=Layout(flex='2'), max=282.0, style=Prog…"
      ]
     },
     "metadata": {},
     "output_type": "display_data"
    },
    {
     "name": "stdout",
     "output_type": "stream",
     "text": [
      "Epoch 21: train=11.2515, val=11.2261, took 8.2592 s\n"
     ]
    },
    {
     "data": {
      "application/vnd.jupyter.widget-view+json": {
       "model_id": "",
       "version_major": 2,
       "version_minor": 0
      },
      "text/plain": [
       "HBox(children=(FloatProgress(value=0.0, description='Training', layout=Layout(flex='2'), max=282.0, style=Prog…"
      ]
     },
     "metadata": {},
     "output_type": "display_data"
    },
    {
     "name": "stdout",
     "output_type": "stream",
     "text": [
      "Epoch 22: train=11.2511, val=11.225, took 8.3764 s\n"
     ]
    },
    {
     "data": {
      "application/vnd.jupyter.widget-view+json": {
       "model_id": "",
       "version_major": 2,
       "version_minor": 0
      },
      "text/plain": [
       "HBox(children=(FloatProgress(value=0.0, description='Training', layout=Layout(flex='2'), max=282.0, style=Prog…"
      ]
     },
     "metadata": {},
     "output_type": "display_data"
    },
    {
     "name": "stdout",
     "output_type": "stream",
     "text": [
      "Epoch 23: train=11.2505, val=11.2248, took 8.2937 s\n"
     ]
    },
    {
     "data": {
      "application/vnd.jupyter.widget-view+json": {
       "model_id": "",
       "version_major": 2,
       "version_minor": 0
      },
      "text/plain": [
       "HBox(children=(FloatProgress(value=0.0, description='Training', layout=Layout(flex='2'), max=282.0, style=Prog…"
      ]
     },
     "metadata": {},
     "output_type": "display_data"
    },
    {
     "name": "stdout",
     "output_type": "stream",
     "text": [
      "Epoch 24: train=11.2504, val=11.2246, took 8.3503 s\n"
     ]
    },
    {
     "data": {
      "application/vnd.jupyter.widget-view+json": {
       "model_id": "",
       "version_major": 2,
       "version_minor": 0
      },
      "text/plain": [
       "HBox(children=(FloatProgress(value=0.0, description='Training', layout=Layout(flex='2'), max=282.0, style=Prog…"
      ]
     },
     "metadata": {},
     "output_type": "display_data"
    },
    {
     "name": "stdout",
     "output_type": "stream",
     "text": [
      "Epoch 25: train=11.2503, val=11.2245, took 8.2463 s\n"
     ]
    },
    {
     "data": {
      "application/vnd.jupyter.widget-view+json": {
       "model_id": "",
       "version_major": 2,
       "version_minor": 0
      },
      "text/plain": [
       "HBox(children=(FloatProgress(value=0.0, description='Training', layout=Layout(flex='2'), max=282.0, style=Prog…"
      ]
     },
     "metadata": {},
     "output_type": "display_data"
    },
    {
     "name": "stdout",
     "output_type": "stream",
     "text": [
      "Epoch 26: train=11.2502, val=11.2244, took 8.2463 s\n"
     ]
    },
    {
     "data": {
      "application/vnd.jupyter.widget-view+json": {
       "model_id": "",
       "version_major": 2,
       "version_minor": 0
      },
      "text/plain": [
       "HBox(children=(FloatProgress(value=0.0, description='Training', layout=Layout(flex='2'), max=282.0, style=Prog…"
      ]
     },
     "metadata": {},
     "output_type": "display_data"
    },
    {
     "name": "stdout",
     "output_type": "stream",
     "text": [
      "Epoch 27: train=11.2502, val=11.2244, took 8.2621 s\n"
     ]
    },
    {
     "data": {
      "application/vnd.jupyter.widget-view+json": {
       "model_id": "",
       "version_major": 2,
       "version_minor": 0
      },
      "text/plain": [
       "HBox(children=(FloatProgress(value=0.0, description='Training', layout=Layout(flex='2'), max=282.0, style=Prog…"
      ]
     },
     "metadata": {},
     "output_type": "display_data"
    },
    {
     "name": "stdout",
     "output_type": "stream",
     "text": [
      "Epoch 28: train=11.2502, val=11.2243, took 8.2913 s\n"
     ]
    },
    {
     "data": {
      "application/vnd.jupyter.widget-view+json": {
       "model_id": "",
       "version_major": 2,
       "version_minor": 0
      },
      "text/plain": [
       "HBox(children=(FloatProgress(value=0.0, description='Training', layout=Layout(flex='2'), max=282.0, style=Prog…"
      ]
     },
     "metadata": {},
     "output_type": "display_data"
    },
    {
     "name": "stdout",
     "output_type": "stream",
     "text": [
      "Epoch 29: train=11.2501, val=11.2243, took 8.3318 s\n"
     ]
    },
    {
     "data": {
      "application/vnd.jupyter.widget-view+json": {
       "model_id": "",
       "version_major": 2,
       "version_minor": 0
      },
      "text/plain": [
       "HBox(children=(FloatProgress(value=0.0, description='Training', layout=Layout(flex='2'), max=282.0, style=Prog…"
      ]
     },
     "metadata": {},
     "output_type": "display_data"
    },
    {
     "name": "stdout",
     "output_type": "stream",
     "text": [
      "Epoch 30: train=11.2501, val=11.2242, took 8.3003 s\n"
     ]
    },
    {
     "data": {
      "application/vnd.jupyter.widget-view+json": {
       "model_id": "",
       "version_major": 2,
       "version_minor": 0
      },
      "text/plain": [
       "HBox(children=(FloatProgress(value=0.0, description='Training', layout=Layout(flex='2'), max=282.0, style=Prog…"
      ]
     },
     "metadata": {},
     "output_type": "display_data"
    },
    {
     "name": "stdout",
     "output_type": "stream",
     "text": [
      "Epoch 31: train=11.2501, val=11.2242, took 8.3541 s\n"
     ]
    },
    {
     "data": {
      "application/vnd.jupyter.widget-view+json": {
       "model_id": "",
       "version_major": 2,
       "version_minor": 0
      },
      "text/plain": [
       "HBox(children=(FloatProgress(value=0.0, description='Training', layout=Layout(flex='2'), max=282.0, style=Prog…"
      ]
     },
     "metadata": {},
     "output_type": "display_data"
    },
    {
     "name": "stdout",
     "output_type": "stream",
     "text": [
      "Epoch 32: train=11.25, val=11.2241, took 8.4184 s\n"
     ]
    },
    {
     "data": {
      "application/vnd.jupyter.widget-view+json": {
       "model_id": "",
       "version_major": 2,
       "version_minor": 0
      },
      "text/plain": [
       "HBox(children=(FloatProgress(value=0.0, description='Training', layout=Layout(flex='2'), max=282.0, style=Prog…"
      ]
     },
     "metadata": {},
     "output_type": "display_data"
    },
    {
     "name": "stdout",
     "output_type": "stream",
     "text": [
      "Epoch 33: train=11.25, val=11.2241, took 8.4527 s\n"
     ]
    },
    {
     "data": {
      "application/vnd.jupyter.widget-view+json": {
       "model_id": "",
       "version_major": 2,
       "version_minor": 0
      },
      "text/plain": [
       "HBox(children=(FloatProgress(value=0.0, description='Training', layout=Layout(flex='2'), max=282.0, style=Prog…"
      ]
     },
     "metadata": {},
     "output_type": "display_data"
    },
    {
     "name": "stdout",
     "output_type": "stream",
     "text": [
      "Epoch 34: train=11.25, val=11.224, took 8.4198 s\n"
     ]
    },
    {
     "data": {
      "application/vnd.jupyter.widget-view+json": {
       "model_id": "",
       "version_major": 2,
       "version_minor": 0
      },
      "text/plain": [
       "HBox(children=(FloatProgress(value=0.0, description='Training', layout=Layout(flex='2'), max=282.0, style=Prog…"
      ]
     },
     "metadata": {},
     "output_type": "display_data"
    },
    {
     "name": "stdout",
     "output_type": "stream",
     "text": [
      "Epoch 35: train=11.2499, val=11.224, took 8.506 s\n"
     ]
    },
    {
     "data": {
      "application/vnd.jupyter.widget-view+json": {
       "model_id": "",
       "version_major": 2,
       "version_minor": 0
      },
      "text/plain": [
       "HBox(children=(FloatProgress(value=0.0, description='Training', layout=Layout(flex='2'), max=282.0, style=Prog…"
      ]
     },
     "metadata": {},
     "output_type": "display_data"
    },
    {
     "name": "stdout",
     "output_type": "stream",
     "text": [
      "Epoch 36: train=11.2499, val=11.224, took 8.488 s\n"
     ]
    },
    {
     "data": {
      "application/vnd.jupyter.widget-view+json": {
       "model_id": "",
       "version_major": 2,
       "version_minor": 0
      },
      "text/plain": [
       "HBox(children=(FloatProgress(value=0.0, description='Training', layout=Layout(flex='2'), max=282.0, style=Prog…"
      ]
     },
     "metadata": {},
     "output_type": "display_data"
    },
    {
     "name": "stdout",
     "output_type": "stream",
     "text": [
      "Epoch 37: train=11.2498, val=11.2239, took 8.6761 s\n"
     ]
    },
    {
     "data": {
      "application/vnd.jupyter.widget-view+json": {
       "model_id": "",
       "version_major": 2,
       "version_minor": 0
      },
      "text/plain": [
       "HBox(children=(FloatProgress(value=0.0, description='Training', layout=Layout(flex='2'), max=282.0, style=Prog…"
      ]
     },
     "metadata": {},
     "output_type": "display_data"
    },
    {
     "name": "stdout",
     "output_type": "stream",
     "text": [
      "Epoch 38: train=11.2498, val=11.2239, took 8.7253 s\n"
     ]
    },
    {
     "data": {
      "application/vnd.jupyter.widget-view+json": {
       "model_id": "",
       "version_major": 2,
       "version_minor": 0
      },
      "text/plain": [
       "HBox(children=(FloatProgress(value=0.0, description='Training', layout=Layout(flex='2'), max=282.0, style=Prog…"
      ]
     },
     "metadata": {},
     "output_type": "display_data"
    },
    {
     "name": "stdout",
     "output_type": "stream",
     "text": [
      "Epoch 39: train=11.2498, val=11.2238, took 8.7267 s\n"
     ]
    },
    {
     "data": {
      "application/vnd.jupyter.widget-view+json": {
       "model_id": "",
       "version_major": 2,
       "version_minor": 0
      },
      "text/plain": [
       "HBox(children=(FloatProgress(value=0.0, description='Training', layout=Layout(flex='2'), max=282.0, style=Prog…"
      ]
     },
     "metadata": {},
     "output_type": "display_data"
    },
    {
     "name": "stdout",
     "output_type": "stream",
     "text": [
      "Epoch 40: train=11.2497, val=11.2238, took 8.6512 s\n"
     ]
    },
    {
     "data": {
      "application/vnd.jupyter.widget-view+json": {
       "model_id": "",
       "version_major": 2,
       "version_minor": 0
      },
      "text/plain": [
       "HBox(children=(FloatProgress(value=0.0, description='Training', layout=Layout(flex='2'), max=282.0, style=Prog…"
      ]
     },
     "metadata": {},
     "output_type": "display_data"
    },
    {
     "name": "stdout",
     "output_type": "stream",
     "text": [
      "Epoch 41: train=11.2497, val=11.2238, took 8.5328 s\n"
     ]
    },
    {
     "data": {
      "application/vnd.jupyter.widget-view+json": {
       "model_id": "",
       "version_major": 2,
       "version_minor": 0
      },
      "text/plain": [
       "HBox(children=(FloatProgress(value=0.0, description='Training', layout=Layout(flex='2'), max=282.0, style=Prog…"
      ]
     },
     "metadata": {},
     "output_type": "display_data"
    },
    {
     "name": "stdout",
     "output_type": "stream",
     "text": [
      "Epoch 42: train=11.2497, val=11.2237, took 8.3124 s\n"
     ]
    },
    {
     "data": {
      "application/vnd.jupyter.widget-view+json": {
       "model_id": "",
       "version_major": 2,
       "version_minor": 0
      },
      "text/plain": [
       "HBox(children=(FloatProgress(value=0.0, description='Training', layout=Layout(flex='2'), max=282.0, style=Prog…"
      ]
     },
     "metadata": {},
     "output_type": "display_data"
    },
    {
     "name": "stdout",
     "output_type": "stream",
     "text": [
      "Epoch 43: train=11.2496, val=11.2237, took 8.3746 s\n"
     ]
    },
    {
     "data": {
      "application/vnd.jupyter.widget-view+json": {
       "model_id": "",
       "version_major": 2,
       "version_minor": 0
      },
      "text/plain": [
       "HBox(children=(FloatProgress(value=0.0, description='Training', layout=Layout(flex='2'), max=282.0, style=Prog…"
      ]
     },
     "metadata": {},
     "output_type": "display_data"
    },
    {
     "name": "stdout",
     "output_type": "stream",
     "text": [
      "Epoch 44: train=11.2496, val=11.2237, took 8.3189 s\n"
     ]
    },
    {
     "data": {
      "application/vnd.jupyter.widget-view+json": {
       "model_id": "",
       "version_major": 2,
       "version_minor": 0
      },
      "text/plain": [
       "HBox(children=(FloatProgress(value=0.0, description='Training', layout=Layout(flex='2'), max=282.0, style=Prog…"
      ]
     },
     "metadata": {},
     "output_type": "display_data"
    },
    {
     "name": "stdout",
     "output_type": "stream",
     "text": [
      "Epoch 45: train=11.2496, val=11.2236, took 8.3717 s\n"
     ]
    },
    {
     "data": {
      "application/vnd.jupyter.widget-view+json": {
       "model_id": "",
       "version_major": 2,
       "version_minor": 0
      },
      "text/plain": [
       "HBox(children=(FloatProgress(value=0.0, description='Training', layout=Layout(flex='2'), max=282.0, style=Prog…"
      ]
     },
     "metadata": {},
     "output_type": "display_data"
    },
    {
     "name": "stdout",
     "output_type": "stream",
     "text": [
      "Epoch 46: train=11.2495, val=11.2236, took 8.3938 s\n"
     ]
    },
    {
     "data": {
      "application/vnd.jupyter.widget-view+json": {
       "model_id": "",
       "version_major": 2,
       "version_minor": 0
      },
      "text/plain": [
       "HBox(children=(FloatProgress(value=0.0, description='Training', layout=Layout(flex='2'), max=282.0, style=Prog…"
      ]
     },
     "metadata": {},
     "output_type": "display_data"
    },
    {
     "name": "stdout",
     "output_type": "stream",
     "text": [
      "Epoch 47: train=11.2495, val=11.2236, took 8.2661 s\n"
     ]
    },
    {
     "data": {
      "application/vnd.jupyter.widget-view+json": {
       "model_id": "",
       "version_major": 2,
       "version_minor": 0
      },
      "text/plain": [
       "HBox(children=(FloatProgress(value=0.0, description='Training', layout=Layout(flex='2'), max=282.0, style=Prog…"
      ]
     },
     "metadata": {},
     "output_type": "display_data"
    },
    {
     "name": "stdout",
     "output_type": "stream",
     "text": [
      "Epoch 48: train=11.2495, val=11.2235, took 8.2644 s\n"
     ]
    },
    {
     "data": {
      "application/vnd.jupyter.widget-view+json": {
       "model_id": "",
       "version_major": 2,
       "version_minor": 0
      },
      "text/plain": [
       "HBox(children=(FloatProgress(value=0.0, description='Training', layout=Layout(flex='2'), max=282.0, style=Prog…"
      ]
     },
     "metadata": {},
     "output_type": "display_data"
    },
    {
     "name": "stdout",
     "output_type": "stream",
     "text": [
      "Epoch 49: train=11.2495, val=11.2235, took 8.2963 s\n"
     ]
    },
    {
     "data": {
      "application/vnd.jupyter.widget-view+json": {
       "model_id": "",
       "version_major": 2,
       "version_minor": 0
      },
      "text/plain": [
       "HBox(children=(FloatProgress(value=0.0, description='Training', layout=Layout(flex='2'), max=282.0, style=Prog…"
      ]
     },
     "metadata": {},
     "output_type": "display_data"
    },
    {
     "name": "stdout",
     "output_type": "stream",
     "text": [
      "Epoch 50: train=11.2494, val=11.2235, took 8.3572 s\n"
     ]
    },
    {
     "data": {
      "application/vnd.jupyter.widget-view+json": {
       "model_id": "",
       "version_major": 2,
       "version_minor": 0
      },
      "text/plain": [
       "HBox(children=(FloatProgress(value=0.0, description='Training', layout=Layout(flex='2'), max=282.0, style=Prog…"
      ]
     },
     "metadata": {},
     "output_type": "display_data"
    },
    {
     "name": "stdout",
     "output_type": "stream",
     "text": [
      "Epoch 51: train=11.2494, val=11.2234, took 8.3192 s\n"
     ]
    },
    {
     "data": {
      "application/vnd.jupyter.widget-view+json": {
       "model_id": "",
       "version_major": 2,
       "version_minor": 0
      },
      "text/plain": [
       "HBox(children=(FloatProgress(value=0.0, description='Training', layout=Layout(flex='2'), max=282.0, style=Prog…"
      ]
     },
     "metadata": {},
     "output_type": "display_data"
    },
    {
     "name": "stdout",
     "output_type": "stream",
     "text": [
      "Epoch 52: train=11.2494, val=11.2234, took 8.3127 s\n"
     ]
    },
    {
     "data": {
      "application/vnd.jupyter.widget-view+json": {
       "model_id": "",
       "version_major": 2,
       "version_minor": 0
      },
      "text/plain": [
       "HBox(children=(FloatProgress(value=0.0, description='Training', layout=Layout(flex='2'), max=282.0, style=Prog…"
      ]
     },
     "metadata": {},
     "output_type": "display_data"
    },
    {
     "name": "stdout",
     "output_type": "stream",
     "text": [
      "Epoch 53: train=11.2493, val=11.2234, took 8.251 s\n"
     ]
    },
    {
     "data": {
      "application/vnd.jupyter.widget-view+json": {
       "model_id": "",
       "version_major": 2,
       "version_minor": 0
      },
      "text/plain": [
       "HBox(children=(FloatProgress(value=0.0, description='Training', layout=Layout(flex='2'), max=282.0, style=Prog…"
      ]
     },
     "metadata": {},
     "output_type": "display_data"
    },
    {
     "name": "stdout",
     "output_type": "stream",
     "text": [
      "Epoch 54: train=11.2493, val=11.2233, took 8.3464 s\n"
     ]
    },
    {
     "data": {
      "application/vnd.jupyter.widget-view+json": {
       "model_id": "",
       "version_major": 2,
       "version_minor": 0
      },
      "text/plain": [
       "HBox(children=(FloatProgress(value=0.0, description='Training', layout=Layout(flex='2'), max=282.0, style=Prog…"
      ]
     },
     "metadata": {},
     "output_type": "display_data"
    },
    {
     "name": "stdout",
     "output_type": "stream",
     "text": [
      "Epoch 55: train=11.2493, val=11.2233, took 8.3947 s\n"
     ]
    },
    {
     "data": {
      "application/vnd.jupyter.widget-view+json": {
       "model_id": "",
       "version_major": 2,
       "version_minor": 0
      },
      "text/plain": [
       "HBox(children=(FloatProgress(value=0.0, description='Training', layout=Layout(flex='2'), max=282.0, style=Prog…"
      ]
     },
     "metadata": {},
     "output_type": "display_data"
    },
    {
     "name": "stdout",
     "output_type": "stream",
     "text": [
      "Epoch 56: train=11.2492, val=11.2233, took 8.4121 s\n"
     ]
    },
    {
     "data": {
      "application/vnd.jupyter.widget-view+json": {
       "model_id": "",
       "version_major": 2,
       "version_minor": 0
      },
      "text/plain": [
       "HBox(children=(FloatProgress(value=0.0, description='Training', layout=Layout(flex='2'), max=282.0, style=Prog…"
      ]
     },
     "metadata": {},
     "output_type": "display_data"
    },
    {
     "name": "stdout",
     "output_type": "stream",
     "text": [
      "Epoch 57: train=11.2492, val=11.2233, took 8.436 s\n"
     ]
    },
    {
     "data": {
      "application/vnd.jupyter.widget-view+json": {
       "model_id": "",
       "version_major": 2,
       "version_minor": 0
      },
      "text/plain": [
       "HBox(children=(FloatProgress(value=0.0, description='Training', layout=Layout(flex='2'), max=282.0, style=Prog…"
      ]
     },
     "metadata": {},
     "output_type": "display_data"
    },
    {
     "name": "stdout",
     "output_type": "stream",
     "text": [
      "Epoch 58: train=11.2492, val=11.2232, took 8.4572 s\n"
     ]
    },
    {
     "data": {
      "application/vnd.jupyter.widget-view+json": {
       "model_id": "",
       "version_major": 2,
       "version_minor": 0
      },
      "text/plain": [
       "HBox(children=(FloatProgress(value=0.0, description='Training', layout=Layout(flex='2'), max=282.0, style=Prog…"
      ]
     },
     "metadata": {},
     "output_type": "display_data"
    },
    {
     "name": "stdout",
     "output_type": "stream",
     "text": [
      "Epoch 59: train=11.2492, val=11.2232, took 8.3592 s\n"
     ]
    },
    {
     "data": {
      "application/vnd.jupyter.widget-view+json": {
       "model_id": "",
       "version_major": 2,
       "version_minor": 0
      },
      "text/plain": [
       "HBox(children=(FloatProgress(value=0.0, description='Training', layout=Layout(flex='2'), max=282.0, style=Prog…"
      ]
     },
     "metadata": {},
     "output_type": "display_data"
    },
    {
     "name": "stdout",
     "output_type": "stream",
     "text": [
      "Epoch 60: train=11.2491, val=11.2232, took 8.3563 s\n"
     ]
    },
    {
     "data": {
      "application/vnd.jupyter.widget-view+json": {
       "model_id": "",
       "version_major": 2,
       "version_minor": 0
      },
      "text/plain": [
       "HBox(children=(FloatProgress(value=0.0, description='Training', layout=Layout(flex='2'), max=282.0, style=Prog…"
      ]
     },
     "metadata": {},
     "output_type": "display_data"
    },
    {
     "name": "stdout",
     "output_type": "stream",
     "text": [
      "Epoch 61: train=11.2491, val=11.2231, took 8.3348 s\n"
     ]
    },
    {
     "data": {
      "application/vnd.jupyter.widget-view+json": {
       "model_id": "",
       "version_major": 2,
       "version_minor": 0
      },
      "text/plain": [
       "HBox(children=(FloatProgress(value=0.0, description='Training', layout=Layout(flex='2'), max=282.0, style=Prog…"
      ]
     },
     "metadata": {},
     "output_type": "display_data"
    },
    {
     "name": "stdout",
     "output_type": "stream",
     "text": [
      "Epoch 62: train=11.2491, val=11.2231, took 8.2895 s\n"
     ]
    },
    {
     "data": {
      "application/vnd.jupyter.widget-view+json": {
       "model_id": "",
       "version_major": 2,
       "version_minor": 0
      },
      "text/plain": [
       "HBox(children=(FloatProgress(value=0.0, description='Training', layout=Layout(flex='2'), max=282.0, style=Prog…"
      ]
     },
     "metadata": {},
     "output_type": "display_data"
    },
    {
     "name": "stdout",
     "output_type": "stream",
     "text": [
      "Epoch 63: train=11.249, val=11.2231, took 8.3064 s\n"
     ]
    },
    {
     "data": {
      "application/vnd.jupyter.widget-view+json": {
       "model_id": "",
       "version_major": 2,
       "version_minor": 0
      },
      "text/plain": [
       "HBox(children=(FloatProgress(value=0.0, description='Training', layout=Layout(flex='2'), max=282.0, style=Prog…"
      ]
     },
     "metadata": {},
     "output_type": "display_data"
    },
    {
     "name": "stdout",
     "output_type": "stream",
     "text": [
      "Epoch 64: train=11.249, val=11.2231, took 8.348 s\n"
     ]
    },
    {
     "data": {
      "application/vnd.jupyter.widget-view+json": {
       "model_id": "",
       "version_major": 2,
       "version_minor": 0
      },
      "text/plain": [
       "HBox(children=(FloatProgress(value=0.0, description='Training', layout=Layout(flex='2'), max=282.0, style=Prog…"
      ]
     },
     "metadata": {},
     "output_type": "display_data"
    },
    {
     "name": "stdout",
     "output_type": "stream",
     "text": [
      "Epoch 65: train=11.249, val=11.223, took 8.3249 s\n"
     ]
    },
    {
     "data": {
      "application/vnd.jupyter.widget-view+json": {
       "model_id": "",
       "version_major": 2,
       "version_minor": 0
      },
      "text/plain": [
       "HBox(children=(FloatProgress(value=0.0, description='Training', layout=Layout(flex='2'), max=282.0, style=Prog…"
      ]
     },
     "metadata": {},
     "output_type": "display_data"
    },
    {
     "name": "stdout",
     "output_type": "stream",
     "text": [
      "Epoch 66: train=11.249, val=11.223, took 8.4501 s\n"
     ]
    },
    {
     "data": {
      "application/vnd.jupyter.widget-view+json": {
       "model_id": "",
       "version_major": 2,
       "version_minor": 0
      },
      "text/plain": [
       "HBox(children=(FloatProgress(value=0.0, description='Training', layout=Layout(flex='2'), max=282.0, style=Prog…"
      ]
     },
     "metadata": {},
     "output_type": "display_data"
    },
    {
     "name": "stdout",
     "output_type": "stream",
     "text": [
      "Epoch 67: train=11.2489, val=11.223, took 8.3033 s\n"
     ]
    },
    {
     "data": {
      "application/vnd.jupyter.widget-view+json": {
       "model_id": "",
       "version_major": 2,
       "version_minor": 0
      },
      "text/plain": [
       "HBox(children=(FloatProgress(value=0.0, description='Training', layout=Layout(flex='2'), max=282.0, style=Prog…"
      ]
     },
     "metadata": {},
     "output_type": "display_data"
    },
    {
     "name": "stdout",
     "output_type": "stream",
     "text": [
      "Epoch 68: train=11.2489, val=11.2229, took 8.268 s\n"
     ]
    },
    {
     "data": {
      "application/vnd.jupyter.widget-view+json": {
       "model_id": "",
       "version_major": 2,
       "version_minor": 0
      },
      "text/plain": [
       "HBox(children=(FloatProgress(value=0.0, description='Training', layout=Layout(flex='2'), max=282.0, style=Prog…"
      ]
     },
     "metadata": {},
     "output_type": "display_data"
    },
    {
     "name": "stdout",
     "output_type": "stream",
     "text": [
      "Epoch 69: train=11.2489, val=11.2229, took 8.3978 s\n"
     ]
    },
    {
     "data": {
      "application/vnd.jupyter.widget-view+json": {
       "model_id": "",
       "version_major": 2,
       "version_minor": 0
      },
      "text/plain": [
       "HBox(children=(FloatProgress(value=0.0, description='Training', layout=Layout(flex='2'), max=282.0, style=Prog…"
      ]
     },
     "metadata": {},
     "output_type": "display_data"
    },
    {
     "name": "stdout",
     "output_type": "stream",
     "text": [
      "Epoch 70: train=11.2489, val=11.2229, took 8.3559 s\n"
     ]
    },
    {
     "data": {
      "application/vnd.jupyter.widget-view+json": {
       "model_id": "",
       "version_major": 2,
       "version_minor": 0
      },
      "text/plain": [
       "HBox(children=(FloatProgress(value=0.0, description='Training', layout=Layout(flex='2'), max=282.0, style=Prog…"
      ]
     },
     "metadata": {},
     "output_type": "display_data"
    },
    {
     "name": "stdout",
     "output_type": "stream",
     "text": [
      "Epoch 71: train=11.2488, val=11.2229, took 8.327 s\n"
     ]
    },
    {
     "data": {
      "application/vnd.jupyter.widget-view+json": {
       "model_id": "",
       "version_major": 2,
       "version_minor": 0
      },
      "text/plain": [
       "HBox(children=(FloatProgress(value=0.0, description='Training', layout=Layout(flex='2'), max=282.0, style=Prog…"
      ]
     },
     "metadata": {},
     "output_type": "display_data"
    },
    {
     "name": "stdout",
     "output_type": "stream",
     "text": [
      "Epoch 72: train=11.2488, val=11.2228, took 8.43 s\n"
     ]
    },
    {
     "data": {
      "application/vnd.jupyter.widget-view+json": {
       "model_id": "",
       "version_major": 2,
       "version_minor": 0
      },
      "text/plain": [
       "HBox(children=(FloatProgress(value=0.0, description='Training', layout=Layout(flex='2'), max=282.0, style=Prog…"
      ]
     },
     "metadata": {},
     "output_type": "display_data"
    },
    {
     "name": "stdout",
     "output_type": "stream",
     "text": [
      "Epoch 73: train=11.2488, val=11.2228, took 8.6279 s\n"
     ]
    },
    {
     "data": {
      "application/vnd.jupyter.widget-view+json": {
       "model_id": "",
       "version_major": 2,
       "version_minor": 0
      },
      "text/plain": [
       "HBox(children=(FloatProgress(value=0.0, description='Training', layout=Layout(flex='2'), max=282.0, style=Prog…"
      ]
     },
     "metadata": {},
     "output_type": "display_data"
    },
    {
     "name": "stdout",
     "output_type": "stream",
     "text": [
      "Epoch 74: train=11.2488, val=11.2228, took 8.443 s\n"
     ]
    },
    {
     "data": {
      "application/vnd.jupyter.widget-view+json": {
       "model_id": "",
       "version_major": 2,
       "version_minor": 0
      },
      "text/plain": [
       "HBox(children=(FloatProgress(value=0.0, description='Training', layout=Layout(flex='2'), max=282.0, style=Prog…"
      ]
     },
     "metadata": {},
     "output_type": "display_data"
    },
    {
     "name": "stdout",
     "output_type": "stream",
     "text": [
      "Epoch 75: train=11.2487, val=11.2227, took 8.6599 s\n"
     ]
    },
    {
     "data": {
      "application/vnd.jupyter.widget-view+json": {
       "model_id": "",
       "version_major": 2,
       "version_minor": 0
      },
      "text/plain": [
       "HBox(children=(FloatProgress(value=0.0, description='Training', layout=Layout(flex='2'), max=282.0, style=Prog…"
      ]
     },
     "metadata": {},
     "output_type": "display_data"
    },
    {
     "name": "stdout",
     "output_type": "stream",
     "text": [
      "Epoch 76: train=11.2487, val=11.2227, took 8.6965 s\n"
     ]
    },
    {
     "data": {
      "application/vnd.jupyter.widget-view+json": {
       "model_id": "",
       "version_major": 2,
       "version_minor": 0
      },
      "text/plain": [
       "HBox(children=(FloatProgress(value=0.0, description='Training', layout=Layout(flex='2'), max=282.0, style=Prog…"
      ]
     },
     "metadata": {},
     "output_type": "display_data"
    },
    {
     "name": "stdout",
     "output_type": "stream",
     "text": [
      "Epoch 77: train=11.2487, val=11.2227, took 8.5314 s\n"
     ]
    },
    {
     "data": {
      "application/vnd.jupyter.widget-view+json": {
       "model_id": "",
       "version_major": 2,
       "version_minor": 0
      },
      "text/plain": [
       "HBox(children=(FloatProgress(value=0.0, description='Training', layout=Layout(flex='2'), max=282.0, style=Prog…"
      ]
     },
     "metadata": {},
     "output_type": "display_data"
    },
    {
     "name": "stdout",
     "output_type": "stream",
     "text": [
      "Epoch 78: train=11.2486, val=11.2227, took 8.6575 s\n"
     ]
    },
    {
     "data": {
      "application/vnd.jupyter.widget-view+json": {
       "model_id": "",
       "version_major": 2,
       "version_minor": 0
      },
      "text/plain": [
       "HBox(children=(FloatProgress(value=0.0, description='Training', layout=Layout(flex='2'), max=282.0, style=Prog…"
      ]
     },
     "metadata": {},
     "output_type": "display_data"
    },
    {
     "name": "stdout",
     "output_type": "stream",
     "text": [
      "Epoch 79: train=11.2486, val=11.2226, took 8.858 s\n"
     ]
    },
    {
     "data": {
      "application/vnd.jupyter.widget-view+json": {
       "model_id": "",
       "version_major": 2,
       "version_minor": 0
      },
      "text/plain": [
       "HBox(children=(FloatProgress(value=0.0, description='Training', layout=Layout(flex='2'), max=282.0, style=Prog…"
      ]
     },
     "metadata": {},
     "output_type": "display_data"
    },
    {
     "name": "stdout",
     "output_type": "stream",
     "text": [
      "Epoch 80: train=11.2486, val=11.2226, took 8.773 s\n"
     ]
    },
    {
     "data": {
      "application/vnd.jupyter.widget-view+json": {
       "model_id": "",
       "version_major": 2,
       "version_minor": 0
      },
      "text/plain": [
       "HBox(children=(FloatProgress(value=0.0, description='Training', layout=Layout(flex='2'), max=282.0, style=Prog…"
      ]
     },
     "metadata": {},
     "output_type": "display_data"
    },
    {
     "name": "stdout",
     "output_type": "stream",
     "text": [
      "Epoch 81: train=11.2486, val=11.2226, took 8.8555 s\n"
     ]
    },
    {
     "data": {
      "application/vnd.jupyter.widget-view+json": {
       "model_id": "",
       "version_major": 2,
       "version_minor": 0
      },
      "text/plain": [
       "HBox(children=(FloatProgress(value=0.0, description='Training', layout=Layout(flex='2'), max=282.0, style=Prog…"
      ]
     },
     "metadata": {},
     "output_type": "display_data"
    },
    {
     "name": "stdout",
     "output_type": "stream",
     "text": [
      "Epoch 82: train=11.2485, val=11.2226, took 8.722 s\n"
     ]
    },
    {
     "data": {
      "application/vnd.jupyter.widget-view+json": {
       "model_id": "",
       "version_major": 2,
       "version_minor": 0
      },
      "text/plain": [
       "HBox(children=(FloatProgress(value=0.0, description='Training', layout=Layout(flex='2'), max=282.0, style=Prog…"
      ]
     },
     "metadata": {},
     "output_type": "display_data"
    },
    {
     "name": "stdout",
     "output_type": "stream",
     "text": [
      "Epoch 83: train=11.2485, val=11.2225, took 8.5092 s\n"
     ]
    },
    {
     "data": {
      "application/vnd.jupyter.widget-view+json": {
       "model_id": "",
       "version_major": 2,
       "version_minor": 0
      },
      "text/plain": [
       "HBox(children=(FloatProgress(value=0.0, description='Training', layout=Layout(flex='2'), max=282.0, style=Prog…"
      ]
     },
     "metadata": {},
     "output_type": "display_data"
    },
    {
     "name": "stdout",
     "output_type": "stream",
     "text": [
      "Epoch 84: train=11.2485, val=11.2225, took 8.5017 s\n"
     ]
    },
    {
     "data": {
      "application/vnd.jupyter.widget-view+json": {
       "model_id": "",
       "version_major": 2,
       "version_minor": 0
      },
      "text/plain": [
       "HBox(children=(FloatProgress(value=0.0, description='Training', layout=Layout(flex='2'), max=282.0, style=Prog…"
      ]
     },
     "metadata": {},
     "output_type": "display_data"
    },
    {
     "name": "stdout",
     "output_type": "stream",
     "text": [
      "Epoch 85: train=11.2485, val=11.2225, took 8.3602 s\n"
     ]
    },
    {
     "data": {
      "application/vnd.jupyter.widget-view+json": {
       "model_id": "",
       "version_major": 2,
       "version_minor": 0
      },
      "text/plain": [
       "HBox(children=(FloatProgress(value=0.0, description='Training', layout=Layout(flex='2'), max=282.0, style=Prog…"
      ]
     },
     "metadata": {},
     "output_type": "display_data"
    },
    {
     "name": "stdout",
     "output_type": "stream",
     "text": [
      "Epoch 86: train=11.2484, val=11.2225, took 8.324 s\n"
     ]
    },
    {
     "data": {
      "application/vnd.jupyter.widget-view+json": {
       "model_id": "",
       "version_major": 2,
       "version_minor": 0
      },
      "text/plain": [
       "HBox(children=(FloatProgress(value=0.0, description='Training', layout=Layout(flex='2'), max=282.0, style=Prog…"
      ]
     },
     "metadata": {},
     "output_type": "display_data"
    },
    {
     "name": "stdout",
     "output_type": "stream",
     "text": [
      "Epoch 87: train=11.2484, val=11.2224, took 8.3232 s\n"
     ]
    },
    {
     "data": {
      "application/vnd.jupyter.widget-view+json": {
       "model_id": "",
       "version_major": 2,
       "version_minor": 0
      },
      "text/plain": [
       "HBox(children=(FloatProgress(value=0.0, description='Training', layout=Layout(flex='2'), max=282.0, style=Prog…"
      ]
     },
     "metadata": {},
     "output_type": "display_data"
    },
    {
     "name": "stdout",
     "output_type": "stream",
     "text": [
      "Epoch 88: train=11.2484, val=11.2224, took 8.3457 s\n"
     ]
    },
    {
     "data": {
      "application/vnd.jupyter.widget-view+json": {
       "model_id": "",
       "version_major": 2,
       "version_minor": 0
      },
      "text/plain": [
       "HBox(children=(FloatProgress(value=0.0, description='Training', layout=Layout(flex='2'), max=282.0, style=Prog…"
      ]
     },
     "metadata": {},
     "output_type": "display_data"
    },
    {
     "name": "stdout",
     "output_type": "stream",
     "text": [
      "Epoch 89: train=11.2484, val=11.2224, took 8.2942 s\n"
     ]
    },
    {
     "data": {
      "application/vnd.jupyter.widget-view+json": {
       "model_id": "",
       "version_major": 2,
       "version_minor": 0
      },
      "text/plain": [
       "HBox(children=(FloatProgress(value=0.0, description='Training', layout=Layout(flex='2'), max=282.0, style=Prog…"
      ]
     },
     "metadata": {},
     "output_type": "display_data"
    },
    {
     "name": "stdout",
     "output_type": "stream",
     "text": [
      "Epoch 90: train=11.2483, val=11.2223, took 8.2925 s\n"
     ]
    },
    {
     "data": {
      "application/vnd.jupyter.widget-view+json": {
       "model_id": "",
       "version_major": 2,
       "version_minor": 0
      },
      "text/plain": [
       "HBox(children=(FloatProgress(value=0.0, description='Training', layout=Layout(flex='2'), max=282.0, style=Prog…"
      ]
     },
     "metadata": {},
     "output_type": "display_data"
    },
    {
     "name": "stdout",
     "output_type": "stream",
     "text": [
      "Epoch 91: train=11.2483, val=11.2223, took 8.3451 s\n"
     ]
    },
    {
     "data": {
      "application/vnd.jupyter.widget-view+json": {
       "model_id": "",
       "version_major": 2,
       "version_minor": 0
      },
      "text/plain": [
       "HBox(children=(FloatProgress(value=0.0, description='Training', layout=Layout(flex='2'), max=282.0, style=Prog…"
      ]
     },
     "metadata": {},
     "output_type": "display_data"
    },
    {
     "name": "stdout",
     "output_type": "stream",
     "text": [
      "Epoch 92: train=11.2483, val=11.2223, took 8.3802 s\n"
     ]
    },
    {
     "data": {
      "application/vnd.jupyter.widget-view+json": {
       "model_id": "",
       "version_major": 2,
       "version_minor": 0
      },
      "text/plain": [
       "HBox(children=(FloatProgress(value=0.0, description='Training', layout=Layout(flex='2'), max=282.0, style=Prog…"
      ]
     },
     "metadata": {},
     "output_type": "display_data"
    },
    {
     "name": "stdout",
     "output_type": "stream",
     "text": [
      "Epoch 93: train=11.2483, val=11.2223, took 8.3254 s\n"
     ]
    },
    {
     "data": {
      "application/vnd.jupyter.widget-view+json": {
       "model_id": "",
       "version_major": 2,
       "version_minor": 0
      },
      "text/plain": [
       "HBox(children=(FloatProgress(value=0.0, description='Training', layout=Layout(flex='2'), max=282.0, style=Prog…"
      ]
     },
     "metadata": {},
     "output_type": "display_data"
    },
    {
     "name": "stdout",
     "output_type": "stream",
     "text": [
      "Epoch 94: train=11.2482, val=11.2222, took 8.392 s\n"
     ]
    },
    {
     "data": {
      "application/vnd.jupyter.widget-view+json": {
       "model_id": "",
       "version_major": 2,
       "version_minor": 0
      },
      "text/plain": [
       "HBox(children=(FloatProgress(value=0.0, description='Training', layout=Layout(flex='2'), max=282.0, style=Prog…"
      ]
     },
     "metadata": {},
     "output_type": "display_data"
    },
    {
     "name": "stdout",
     "output_type": "stream",
     "text": [
      "Epoch 95: train=11.2482, val=11.2222, took 8.3137 s\n"
     ]
    },
    {
     "data": {
      "application/vnd.jupyter.widget-view+json": {
       "model_id": "",
       "version_major": 2,
       "version_minor": 0
      },
      "text/plain": [
       "HBox(children=(FloatProgress(value=0.0, description='Training', layout=Layout(flex='2'), max=282.0, style=Prog…"
      ]
     },
     "metadata": {},
     "output_type": "display_data"
    },
    {
     "name": "stdout",
     "output_type": "stream",
     "text": [
      "Epoch 96: train=11.2482, val=11.2222, took 8.3129 s\n"
     ]
    },
    {
     "data": {
      "application/vnd.jupyter.widget-view+json": {
       "model_id": "",
       "version_major": 2,
       "version_minor": 0
      },
      "text/plain": [
       "HBox(children=(FloatProgress(value=0.0, description='Training', layout=Layout(flex='2'), max=282.0, style=Prog…"
      ]
     },
     "metadata": {},
     "output_type": "display_data"
    },
    {
     "name": "stdout",
     "output_type": "stream",
     "text": [
      "Epoch 97: train=11.2482, val=11.2222, took 8.2737 s\n"
     ]
    },
    {
     "data": {
      "application/vnd.jupyter.widget-view+json": {
       "model_id": "",
       "version_major": 2,
       "version_minor": 0
      },
      "text/plain": [
       "HBox(children=(FloatProgress(value=0.0, description='Training', layout=Layout(flex='2'), max=282.0, style=Prog…"
      ]
     },
     "metadata": {},
     "output_type": "display_data"
    },
    {
     "name": "stdout",
     "output_type": "stream",
     "text": [
      "Epoch 98: train=11.2481, val=11.2221, took 8.2791 s\n"
     ]
    },
    {
     "data": {
      "application/vnd.jupyter.widget-view+json": {
       "model_id": "",
       "version_major": 2,
       "version_minor": 0
      },
      "text/plain": [
       "HBox(children=(FloatProgress(value=0.0, description='Training', layout=Layout(flex='2'), max=282.0, style=Prog…"
      ]
     },
     "metadata": {},
     "output_type": "display_data"
    },
    {
     "name": "stdout",
     "output_type": "stream",
     "text": [
      "Epoch 99: train=11.2481, val=11.2221, took 8.34 s\n",
      "\n"
     ]
    }
   ],
   "source": [
    "for result in trainNet(model, optimizer, loss,\n",
    "                        train_loader, val_loader,\n",
    "                        n_epochs, epoch_start=len(results),\n",
    "                        notebook=True):\n",
    "    \n",
    "    results = results.append(pd.Series(result._asdict()), ignore_index=True)\n",
    "    xs = results.index\n",
    "    \n",
    "    # Update the plot above\n",
    "    lines['train'].set_data(results.index,results.cost)\n",
    "    lines['val'].set_data(results.index,results.val)\n",
    "    \n",
    "    #filter first cost epoch (can be really large)\n",
    "    max_cost = max(max(results.cost if len(results.cost)<2 else results.cost[1:]), max(results.val))\n",
    "    min_cost = min(min(results.cost), min(results.val))\n",
    "    \n",
    "    # The plot limits need updating too\n",
    "    \n",
    "    \n",
    "    \n",
    "    ax.set_ylim(min_cost*.9, max_cost*1.1)  \n",
    "    ax.set_xlim(-.5, len(results.cost) - .5)\n",
    "\n",
    "    \n",
    "    # Redraw the figure\n",
    "    fig.canvas.draw()\n",
    "\n",
    "    # Save each model state dictionary\n",
    "    torch.save(model.state_dict(), output / f'{name}_{result.epoch}.pyt')"
   ]
  },
  {
   "cell_type": "markdown",
   "metadata": {},
   "source": [
    "Go ahead and save the final model (even though it was also saved above):"
   ]
  },
  {
   "cell_type": "code",
   "execution_count": 18,
   "metadata": {},
   "outputs": [],
   "source": [
    "torch.save(model.state_dict(), output / f'{name}_final.pyt')"
   ]
  },
  {
   "cell_type": "markdown",
   "metadata": {},
   "source": [
    "Save the output results:"
   ]
  },
  {
   "cell_type": "code",
   "execution_count": 19,
   "metadata": {},
   "outputs": [
    {
     "name": "stdout",
     "output_type": "stream",
     "text": [
      "    epoch        cost        val      time\n",
      "0     0.0  111.338458  31.264314  8.350688\n",
      "1     1.0   16.624219  12.935409  8.087822\n",
      "2     2.0   12.598360  12.301557  8.146834\n",
      "3     3.0   12.159786  11.983470  8.295506\n",
      "4     4.0   11.903593  11.779278  8.207290\n",
      "..    ...         ...        ...       ...\n",
      "95   95.0   11.248218  11.222211  8.313746\n",
      "96   96.0   11.248194  11.222184  8.312854\n",
      "97   97.0   11.248169  11.222158  8.273691\n",
      "98   98.0   11.248144  11.222131  8.279133\n",
      "99   99.0   11.248120  11.222105  8.340048\n",
      "\n",
      "[100 rows x 4 columns]\n"
     ]
    }
   ],
   "source": [
    "results.to_hdf(output / f'{name}_stats.hdf5', 'results')\n",
    "print(results)"
   ]
  },
  {
   "cell_type": "markdown",
   "metadata": {},
   "source": [
    "Save the plot above:"
   ]
  },
  {
   "cell_type": "code",
   "execution_count": 20,
   "metadata": {},
   "outputs": [
    {
     "data": {
      "application/javascript": [
       "/* Put everything inside the global mpl namespace */\n",
       "window.mpl = {};\n",
       "\n",
       "\n",
       "mpl.get_websocket_type = function() {\n",
       "    if (typeof(WebSocket) !== 'undefined') {\n",
       "        return WebSocket;\n",
       "    } else if (typeof(MozWebSocket) !== 'undefined') {\n",
       "        return MozWebSocket;\n",
       "    } else {\n",
       "        alert('Your browser does not have WebSocket support. ' +\n",
       "              'Please try Chrome, Safari or Firefox ≥ 6. ' +\n",
       "              'Firefox 4 and 5 are also supported but you ' +\n",
       "              'have to enable WebSockets in about:config.');\n",
       "    };\n",
       "}\n",
       "\n",
       "mpl.figure = function(figure_id, websocket, ondownload, parent_element) {\n",
       "    this.id = figure_id;\n",
       "\n",
       "    this.ws = websocket;\n",
       "\n",
       "    this.supports_binary = (this.ws.binaryType != undefined);\n",
       "\n",
       "    if (!this.supports_binary) {\n",
       "        var warnings = document.getElementById(\"mpl-warnings\");\n",
       "        if (warnings) {\n",
       "            warnings.style.display = 'block';\n",
       "            warnings.textContent = (\n",
       "                \"This browser does not support binary websocket messages. \" +\n",
       "                    \"Performance may be slow.\");\n",
       "        }\n",
       "    }\n",
       "\n",
       "    this.imageObj = new Image();\n",
       "\n",
       "    this.context = undefined;\n",
       "    this.message = undefined;\n",
       "    this.canvas = undefined;\n",
       "    this.rubberband_canvas = undefined;\n",
       "    this.rubberband_context = undefined;\n",
       "    this.format_dropdown = undefined;\n",
       "\n",
       "    this.image_mode = 'full';\n",
       "\n",
       "    this.root = $('<div/>');\n",
       "    this._root_extra_style(this.root)\n",
       "    this.root.attr('style', 'display: inline-block');\n",
       "\n",
       "    $(parent_element).append(this.root);\n",
       "\n",
       "    this._init_header(this);\n",
       "    this._init_canvas(this);\n",
       "    this._init_toolbar(this);\n",
       "\n",
       "    var fig = this;\n",
       "\n",
       "    this.waiting = false;\n",
       "\n",
       "    this.ws.onopen =  function () {\n",
       "            fig.send_message(\"supports_binary\", {value: fig.supports_binary});\n",
       "            fig.send_message(\"send_image_mode\", {});\n",
       "            if (mpl.ratio != 1) {\n",
       "                fig.send_message(\"set_dpi_ratio\", {'dpi_ratio': mpl.ratio});\n",
       "            }\n",
       "            fig.send_message(\"refresh\", {});\n",
       "        }\n",
       "\n",
       "    this.imageObj.onload = function() {\n",
       "            if (fig.image_mode == 'full') {\n",
       "                // Full images could contain transparency (where diff images\n",
       "                // almost always do), so we need to clear the canvas so that\n",
       "                // there is no ghosting.\n",
       "                fig.context.clearRect(0, 0, fig.canvas.width, fig.canvas.height);\n",
       "            }\n",
       "            fig.context.drawImage(fig.imageObj, 0, 0);\n",
       "        };\n",
       "\n",
       "    this.imageObj.onunload = function() {\n",
       "        fig.ws.close();\n",
       "    }\n",
       "\n",
       "    this.ws.onmessage = this._make_on_message_function(this);\n",
       "\n",
       "    this.ondownload = ondownload;\n",
       "}\n",
       "\n",
       "mpl.figure.prototype._init_header = function() {\n",
       "    var titlebar = $(\n",
       "        '<div class=\"ui-dialog-titlebar ui-widget-header ui-corner-all ' +\n",
       "        'ui-helper-clearfix\"/>');\n",
       "    var titletext = $(\n",
       "        '<div class=\"ui-dialog-title\" style=\"width: 100%; ' +\n",
       "        'text-align: center; padding: 3px;\"/>');\n",
       "    titlebar.append(titletext)\n",
       "    this.root.append(titlebar);\n",
       "    this.header = titletext[0];\n",
       "}\n",
       "\n",
       "\n",
       "\n",
       "mpl.figure.prototype._canvas_extra_style = function(canvas_div) {\n",
       "\n",
       "}\n",
       "\n",
       "\n",
       "mpl.figure.prototype._root_extra_style = function(canvas_div) {\n",
       "\n",
       "}\n",
       "\n",
       "mpl.figure.prototype._init_canvas = function() {\n",
       "    var fig = this;\n",
       "\n",
       "    var canvas_div = $('<div/>');\n",
       "\n",
       "    canvas_div.attr('style', 'position: relative; clear: both; outline: 0');\n",
       "\n",
       "    function canvas_keyboard_event(event) {\n",
       "        return fig.key_event(event, event['data']);\n",
       "    }\n",
       "\n",
       "    canvas_div.keydown('key_press', canvas_keyboard_event);\n",
       "    canvas_div.keyup('key_release', canvas_keyboard_event);\n",
       "    this.canvas_div = canvas_div\n",
       "    this._canvas_extra_style(canvas_div)\n",
       "    this.root.append(canvas_div);\n",
       "\n",
       "    var canvas = $('<canvas/>');\n",
       "    canvas.addClass('mpl-canvas');\n",
       "    canvas.attr('style', \"left: 0; top: 0; z-index: 0; outline: 0\")\n",
       "\n",
       "    this.canvas = canvas[0];\n",
       "    this.context = canvas[0].getContext(\"2d\");\n",
       "\n",
       "    var backingStore = this.context.backingStorePixelRatio ||\n",
       "\tthis.context.webkitBackingStorePixelRatio ||\n",
       "\tthis.context.mozBackingStorePixelRatio ||\n",
       "\tthis.context.msBackingStorePixelRatio ||\n",
       "\tthis.context.oBackingStorePixelRatio ||\n",
       "\tthis.context.backingStorePixelRatio || 1;\n",
       "\n",
       "    mpl.ratio = (window.devicePixelRatio || 1) / backingStore;\n",
       "\n",
       "    var rubberband = $('<canvas/>');\n",
       "    rubberband.attr('style', \"position: absolute; left: 0; top: 0; z-index: 1;\")\n",
       "\n",
       "    var pass_mouse_events = true;\n",
       "\n",
       "    canvas_div.resizable({\n",
       "        start: function(event, ui) {\n",
       "            pass_mouse_events = false;\n",
       "        },\n",
       "        resize: function(event, ui) {\n",
       "            fig.request_resize(ui.size.width, ui.size.height);\n",
       "        },\n",
       "        stop: function(event, ui) {\n",
       "            pass_mouse_events = true;\n",
       "            fig.request_resize(ui.size.width, ui.size.height);\n",
       "        },\n",
       "    });\n",
       "\n",
       "    function mouse_event_fn(event) {\n",
       "        if (pass_mouse_events)\n",
       "            return fig.mouse_event(event, event['data']);\n",
       "    }\n",
       "\n",
       "    rubberband.mousedown('button_press', mouse_event_fn);\n",
       "    rubberband.mouseup('button_release', mouse_event_fn);\n",
       "    // Throttle sequential mouse events to 1 every 20ms.\n",
       "    rubberband.mousemove('motion_notify', mouse_event_fn);\n",
       "\n",
       "    rubberband.mouseenter('figure_enter', mouse_event_fn);\n",
       "    rubberband.mouseleave('figure_leave', mouse_event_fn);\n",
       "\n",
       "    canvas_div.on(\"wheel\", function (event) {\n",
       "        event = event.originalEvent;\n",
       "        event['data'] = 'scroll'\n",
       "        if (event.deltaY < 0) {\n",
       "            event.step = 1;\n",
       "        } else {\n",
       "            event.step = -1;\n",
       "        }\n",
       "        mouse_event_fn(event);\n",
       "    });\n",
       "\n",
       "    canvas_div.append(canvas);\n",
       "    canvas_div.append(rubberband);\n",
       "\n",
       "    this.rubberband = rubberband;\n",
       "    this.rubberband_canvas = rubberband[0];\n",
       "    this.rubberband_context = rubberband[0].getContext(\"2d\");\n",
       "    this.rubberband_context.strokeStyle = \"#000000\";\n",
       "\n",
       "    this._resize_canvas = function(width, height) {\n",
       "        // Keep the size of the canvas, canvas container, and rubber band\n",
       "        // canvas in synch.\n",
       "        canvas_div.css('width', width)\n",
       "        canvas_div.css('height', height)\n",
       "\n",
       "        canvas.attr('width', width * mpl.ratio);\n",
       "        canvas.attr('height', height * mpl.ratio);\n",
       "        canvas.attr('style', 'width: ' + width + 'px; height: ' + height + 'px;');\n",
       "\n",
       "        rubberband.attr('width', width);\n",
       "        rubberband.attr('height', height);\n",
       "    }\n",
       "\n",
       "    // Set the figure to an initial 600x600px, this will subsequently be updated\n",
       "    // upon first draw.\n",
       "    this._resize_canvas(600, 600);\n",
       "\n",
       "    // Disable right mouse context menu.\n",
       "    $(this.rubberband_canvas).bind(\"contextmenu\",function(e){\n",
       "        return false;\n",
       "    });\n",
       "\n",
       "    function set_focus () {\n",
       "        canvas.focus();\n",
       "        canvas_div.focus();\n",
       "    }\n",
       "\n",
       "    window.setTimeout(set_focus, 100);\n",
       "}\n",
       "\n",
       "mpl.figure.prototype._init_toolbar = function() {\n",
       "    var fig = this;\n",
       "\n",
       "    var nav_element = $('<div/>');\n",
       "    nav_element.attr('style', 'width: 100%');\n",
       "    this.root.append(nav_element);\n",
       "\n",
       "    // Define a callback function for later on.\n",
       "    function toolbar_event(event) {\n",
       "        return fig.toolbar_button_onclick(event['data']);\n",
       "    }\n",
       "    function toolbar_mouse_event(event) {\n",
       "        return fig.toolbar_button_onmouseover(event['data']);\n",
       "    }\n",
       "\n",
       "    for(var toolbar_ind in mpl.toolbar_items) {\n",
       "        var name = mpl.toolbar_items[toolbar_ind][0];\n",
       "        var tooltip = mpl.toolbar_items[toolbar_ind][1];\n",
       "        var image = mpl.toolbar_items[toolbar_ind][2];\n",
       "        var method_name = mpl.toolbar_items[toolbar_ind][3];\n",
       "\n",
       "        if (!name) {\n",
       "            // put a spacer in here.\n",
       "            continue;\n",
       "        }\n",
       "        var button = $('<button/>');\n",
       "        button.addClass('ui-button ui-widget ui-state-default ui-corner-all ' +\n",
       "                        'ui-button-icon-only');\n",
       "        button.attr('role', 'button');\n",
       "        button.attr('aria-disabled', 'false');\n",
       "        button.click(method_name, toolbar_event);\n",
       "        button.mouseover(tooltip, toolbar_mouse_event);\n",
       "\n",
       "        var icon_img = $('<span/>');\n",
       "        icon_img.addClass('ui-button-icon-primary ui-icon');\n",
       "        icon_img.addClass(image);\n",
       "        icon_img.addClass('ui-corner-all');\n",
       "\n",
       "        var tooltip_span = $('<span/>');\n",
       "        tooltip_span.addClass('ui-button-text');\n",
       "        tooltip_span.html(tooltip);\n",
       "\n",
       "        button.append(icon_img);\n",
       "        button.append(tooltip_span);\n",
       "\n",
       "        nav_element.append(button);\n",
       "    }\n",
       "\n",
       "    var fmt_picker_span = $('<span/>');\n",
       "\n",
       "    var fmt_picker = $('<select/>');\n",
       "    fmt_picker.addClass('mpl-toolbar-option ui-widget ui-widget-content');\n",
       "    fmt_picker_span.append(fmt_picker);\n",
       "    nav_element.append(fmt_picker_span);\n",
       "    this.format_dropdown = fmt_picker[0];\n",
       "\n",
       "    for (var ind in mpl.extensions) {\n",
       "        var fmt = mpl.extensions[ind];\n",
       "        var option = $(\n",
       "            '<option/>', {selected: fmt === mpl.default_extension}).html(fmt);\n",
       "        fmt_picker.append(option);\n",
       "    }\n",
       "\n",
       "    // Add hover states to the ui-buttons\n",
       "    $( \".ui-button\" ).hover(\n",
       "        function() { $(this).addClass(\"ui-state-hover\");},\n",
       "        function() { $(this).removeClass(\"ui-state-hover\");}\n",
       "    );\n",
       "\n",
       "    var status_bar = $('<span class=\"mpl-message\"/>');\n",
       "    nav_element.append(status_bar);\n",
       "    this.message = status_bar[0];\n",
       "}\n",
       "\n",
       "mpl.figure.prototype.request_resize = function(x_pixels, y_pixels) {\n",
       "    // Request matplotlib to resize the figure. Matplotlib will then trigger a resize in the client,\n",
       "    // which will in turn request a refresh of the image.\n",
       "    this.send_message('resize', {'width': x_pixels, 'height': y_pixels});\n",
       "}\n",
       "\n",
       "mpl.figure.prototype.send_message = function(type, properties) {\n",
       "    properties['type'] = type;\n",
       "    properties['figure_id'] = this.id;\n",
       "    this.ws.send(JSON.stringify(properties));\n",
       "}\n",
       "\n",
       "mpl.figure.prototype.send_draw_message = function() {\n",
       "    if (!this.waiting) {\n",
       "        this.waiting = true;\n",
       "        this.ws.send(JSON.stringify({type: \"draw\", figure_id: this.id}));\n",
       "    }\n",
       "}\n",
       "\n",
       "\n",
       "mpl.figure.prototype.handle_save = function(fig, msg) {\n",
       "    var format_dropdown = fig.format_dropdown;\n",
       "    var format = format_dropdown.options[format_dropdown.selectedIndex].value;\n",
       "    fig.ondownload(fig, format);\n",
       "}\n",
       "\n",
       "\n",
       "mpl.figure.prototype.handle_resize = function(fig, msg) {\n",
       "    var size = msg['size'];\n",
       "    if (size[0] != fig.canvas.width || size[1] != fig.canvas.height) {\n",
       "        fig._resize_canvas(size[0], size[1]);\n",
       "        fig.send_message(\"refresh\", {});\n",
       "    };\n",
       "}\n",
       "\n",
       "mpl.figure.prototype.handle_rubberband = function(fig, msg) {\n",
       "    var x0 = msg['x0'] / mpl.ratio;\n",
       "    var y0 = (fig.canvas.height - msg['y0']) / mpl.ratio;\n",
       "    var x1 = msg['x1'] / mpl.ratio;\n",
       "    var y1 = (fig.canvas.height - msg['y1']) / mpl.ratio;\n",
       "    x0 = Math.floor(x0) + 0.5;\n",
       "    y0 = Math.floor(y0) + 0.5;\n",
       "    x1 = Math.floor(x1) + 0.5;\n",
       "    y1 = Math.floor(y1) + 0.5;\n",
       "    var min_x = Math.min(x0, x1);\n",
       "    var min_y = Math.min(y0, y1);\n",
       "    var width = Math.abs(x1 - x0);\n",
       "    var height = Math.abs(y1 - y0);\n",
       "\n",
       "    fig.rubberband_context.clearRect(\n",
       "        0, 0, fig.canvas.width / mpl.ratio, fig.canvas.height / mpl.ratio);\n",
       "\n",
       "    fig.rubberband_context.strokeRect(min_x, min_y, width, height);\n",
       "}\n",
       "\n",
       "mpl.figure.prototype.handle_figure_label = function(fig, msg) {\n",
       "    // Updates the figure title.\n",
       "    fig.header.textContent = msg['label'];\n",
       "}\n",
       "\n",
       "mpl.figure.prototype.handle_cursor = function(fig, msg) {\n",
       "    var cursor = msg['cursor'];\n",
       "    switch(cursor)\n",
       "    {\n",
       "    case 0:\n",
       "        cursor = 'pointer';\n",
       "        break;\n",
       "    case 1:\n",
       "        cursor = 'default';\n",
       "        break;\n",
       "    case 2:\n",
       "        cursor = 'crosshair';\n",
       "        break;\n",
       "    case 3:\n",
       "        cursor = 'move';\n",
       "        break;\n",
       "    }\n",
       "    fig.rubberband_canvas.style.cursor = cursor;\n",
       "}\n",
       "\n",
       "mpl.figure.prototype.handle_message = function(fig, msg) {\n",
       "    fig.message.textContent = msg['message'];\n",
       "}\n",
       "\n",
       "mpl.figure.prototype.handle_draw = function(fig, msg) {\n",
       "    // Request the server to send over a new figure.\n",
       "    fig.send_draw_message();\n",
       "}\n",
       "\n",
       "mpl.figure.prototype.handle_image_mode = function(fig, msg) {\n",
       "    fig.image_mode = msg['mode'];\n",
       "}\n",
       "\n",
       "mpl.figure.prototype.updated_canvas_event = function() {\n",
       "    // Called whenever the canvas gets updated.\n",
       "    this.send_message(\"ack\", {});\n",
       "}\n",
       "\n",
       "// A function to construct a web socket function for onmessage handling.\n",
       "// Called in the figure constructor.\n",
       "mpl.figure.prototype._make_on_message_function = function(fig) {\n",
       "    return function socket_on_message(evt) {\n",
       "        if (evt.data instanceof Blob) {\n",
       "            /* FIXME: We get \"Resource interpreted as Image but\n",
       "             * transferred with MIME type text/plain:\" errors on\n",
       "             * Chrome.  But how to set the MIME type?  It doesn't seem\n",
       "             * to be part of the websocket stream */\n",
       "            evt.data.type = \"image/png\";\n",
       "\n",
       "            /* Free the memory for the previous frames */\n",
       "            if (fig.imageObj.src) {\n",
       "                (window.URL || window.webkitURL).revokeObjectURL(\n",
       "                    fig.imageObj.src);\n",
       "            }\n",
       "\n",
       "            fig.imageObj.src = (window.URL || window.webkitURL).createObjectURL(\n",
       "                evt.data);\n",
       "            fig.updated_canvas_event();\n",
       "            fig.waiting = false;\n",
       "            return;\n",
       "        }\n",
       "        else if (typeof evt.data === 'string' && evt.data.slice(0, 21) == \"data:image/png;base64\") {\n",
       "            fig.imageObj.src = evt.data;\n",
       "            fig.updated_canvas_event();\n",
       "            fig.waiting = false;\n",
       "            return;\n",
       "        }\n",
       "\n",
       "        var msg = JSON.parse(evt.data);\n",
       "        var msg_type = msg['type'];\n",
       "\n",
       "        // Call the  \"handle_{type}\" callback, which takes\n",
       "        // the figure and JSON message as its only arguments.\n",
       "        try {\n",
       "            var callback = fig[\"handle_\" + msg_type];\n",
       "        } catch (e) {\n",
       "            console.log(\"No handler for the '\" + msg_type + \"' message type: \", msg);\n",
       "            return;\n",
       "        }\n",
       "\n",
       "        if (callback) {\n",
       "            try {\n",
       "                // console.log(\"Handling '\" + msg_type + \"' message: \", msg);\n",
       "                callback(fig, msg);\n",
       "            } catch (e) {\n",
       "                console.log(\"Exception inside the 'handler_\" + msg_type + \"' callback:\", e, e.stack, msg);\n",
       "            }\n",
       "        }\n",
       "    };\n",
       "}\n",
       "\n",
       "// from http://stackoverflow.com/questions/1114465/getting-mouse-location-in-canvas\n",
       "mpl.findpos = function(e) {\n",
       "    //this section is from http://www.quirksmode.org/js/events_properties.html\n",
       "    var targ;\n",
       "    if (!e)\n",
       "        e = window.event;\n",
       "    if (e.target)\n",
       "        targ = e.target;\n",
       "    else if (e.srcElement)\n",
       "        targ = e.srcElement;\n",
       "    if (targ.nodeType == 3) // defeat Safari bug\n",
       "        targ = targ.parentNode;\n",
       "\n",
       "    // jQuery normalizes the pageX and pageY\n",
       "    // pageX,Y are the mouse positions relative to the document\n",
       "    // offset() returns the position of the element relative to the document\n",
       "    var x = e.pageX - $(targ).offset().left;\n",
       "    var y = e.pageY - $(targ).offset().top;\n",
       "\n",
       "    return {\"x\": x, \"y\": y};\n",
       "};\n",
       "\n",
       "/*\n",
       " * return a copy of an object with only non-object keys\n",
       " * we need this to avoid circular references\n",
       " * http://stackoverflow.com/a/24161582/3208463\n",
       " */\n",
       "function simpleKeys (original) {\n",
       "  return Object.keys(original).reduce(function (obj, key) {\n",
       "    if (typeof original[key] !== 'object')\n",
       "        obj[key] = original[key]\n",
       "    return obj;\n",
       "  }, {});\n",
       "}\n",
       "\n",
       "mpl.figure.prototype.mouse_event = function(event, name) {\n",
       "    var canvas_pos = mpl.findpos(event)\n",
       "\n",
       "    if (name === 'button_press')\n",
       "    {\n",
       "        this.canvas.focus();\n",
       "        this.canvas_div.focus();\n",
       "    }\n",
       "\n",
       "    var x = canvas_pos.x * mpl.ratio;\n",
       "    var y = canvas_pos.y * mpl.ratio;\n",
       "\n",
       "    this.send_message(name, {x: x, y: y, button: event.button,\n",
       "                             step: event.step,\n",
       "                             guiEvent: simpleKeys(event)});\n",
       "\n",
       "    /* This prevents the web browser from automatically changing to\n",
       "     * the text insertion cursor when the button is pressed.  We want\n",
       "     * to control all of the cursor setting manually through the\n",
       "     * 'cursor' event from matplotlib */\n",
       "    event.preventDefault();\n",
       "    return false;\n",
       "}\n",
       "\n",
       "mpl.figure.prototype._key_event_extra = function(event, name) {\n",
       "    // Handle any extra behaviour associated with a key event\n",
       "}\n",
       "\n",
       "mpl.figure.prototype.key_event = function(event, name) {\n",
       "\n",
       "    // Prevent repeat events\n",
       "    if (name == 'key_press')\n",
       "    {\n",
       "        if (event.which === this._key)\n",
       "            return;\n",
       "        else\n",
       "            this._key = event.which;\n",
       "    }\n",
       "    if (name == 'key_release')\n",
       "        this._key = null;\n",
       "\n",
       "    var value = '';\n",
       "    if (event.ctrlKey && event.which != 17)\n",
       "        value += \"ctrl+\";\n",
       "    if (event.altKey && event.which != 18)\n",
       "        value += \"alt+\";\n",
       "    if (event.shiftKey && event.which != 16)\n",
       "        value += \"shift+\";\n",
       "\n",
       "    value += 'k';\n",
       "    value += event.which.toString();\n",
       "\n",
       "    this._key_event_extra(event, name);\n",
       "\n",
       "    this.send_message(name, {key: value,\n",
       "                             guiEvent: simpleKeys(event)});\n",
       "    return false;\n",
       "}\n",
       "\n",
       "mpl.figure.prototype.toolbar_button_onclick = function(name) {\n",
       "    if (name == 'download') {\n",
       "        this.handle_save(this, null);\n",
       "    } else {\n",
       "        this.send_message(\"toolbar_button\", {name: name});\n",
       "    }\n",
       "};\n",
       "\n",
       "mpl.figure.prototype.toolbar_button_onmouseover = function(tooltip) {\n",
       "    this.message.textContent = tooltip;\n",
       "};\n",
       "mpl.toolbar_items = [[\"Home\", \"Reset original view\", \"fa fa-home icon-home\", \"home\"], [\"Back\", \"Back to previous view\", \"fa fa-arrow-left icon-arrow-left\", \"back\"], [\"Forward\", \"Forward to next view\", \"fa fa-arrow-right icon-arrow-right\", \"forward\"], [\"\", \"\", \"\", \"\"], [\"Pan\", \"Pan axes with left mouse, zoom with right\", \"fa fa-arrows icon-move\", \"pan\"], [\"Zoom\", \"Zoom to rectangle\", \"fa fa-square-o icon-check-empty\", \"zoom\"], [\"\", \"\", \"\", \"\"], [\"Download\", \"Download plot\", \"fa fa-floppy-o icon-save\", \"download\"]];\n",
       "\n",
       "mpl.extensions = [\"eps\", \"jpeg\", \"pdf\", \"png\", \"ps\", \"raw\", \"svg\", \"tif\"];\n",
       "\n",
       "mpl.default_extension = \"png\";var comm_websocket_adapter = function(comm) {\n",
       "    // Create a \"websocket\"-like object which calls the given IPython comm\n",
       "    // object with the appropriate methods. Currently this is a non binary\n",
       "    // socket, so there is still some room for performance tuning.\n",
       "    var ws = {};\n",
       "\n",
       "    ws.close = function() {\n",
       "        comm.close()\n",
       "    };\n",
       "    ws.send = function(m) {\n",
       "        //console.log('sending', m);\n",
       "        comm.send(m);\n",
       "    };\n",
       "    // Register the callback with on_msg.\n",
       "    comm.on_msg(function(msg) {\n",
       "        //console.log('receiving', msg['content']['data'], msg);\n",
       "        // Pass the mpl event to the overridden (by mpl) onmessage function.\n",
       "        ws.onmessage(msg['content']['data'])\n",
       "    });\n",
       "    return ws;\n",
       "}\n",
       "\n",
       "mpl.mpl_figure_comm = function(comm, msg) {\n",
       "    // This is the function which gets called when the mpl process\n",
       "    // starts-up an IPython Comm through the \"matplotlib\" channel.\n",
       "\n",
       "    var id = msg.content.data.id;\n",
       "    // Get hold of the div created by the display call when the Comm\n",
       "    // socket was opened in Python.\n",
       "    var element = $(\"#\" + id);\n",
       "    var ws_proxy = comm_websocket_adapter(comm)\n",
       "\n",
       "    function ondownload(figure, format) {\n",
       "        window.open(figure.imageObj.src);\n",
       "    }\n",
       "\n",
       "    var fig = new mpl.figure(id, ws_proxy,\n",
       "                           ondownload,\n",
       "                           element.get(0));\n",
       "\n",
       "    // Call onopen now - mpl needs it, as it is assuming we've passed it a real\n",
       "    // web socket which is closed, not our websocket->open comm proxy.\n",
       "    ws_proxy.onopen();\n",
       "\n",
       "    fig.parent_element = element.get(0);\n",
       "    fig.cell_info = mpl.find_output_cell(\"<div id='\" + id + \"'></div>\");\n",
       "    if (!fig.cell_info) {\n",
       "        console.error(\"Failed to find cell for figure\", id, fig);\n",
       "        return;\n",
       "    }\n",
       "\n",
       "    var output_index = fig.cell_info[2]\n",
       "    var cell = fig.cell_info[0];\n",
       "\n",
       "};\n",
       "\n",
       "mpl.figure.prototype.handle_close = function(fig, msg) {\n",
       "    var width = fig.canvas.width/mpl.ratio\n",
       "    fig.root.unbind('remove')\n",
       "\n",
       "    // Update the output cell to use the data from the current canvas.\n",
       "    fig.push_to_output();\n",
       "    var dataURL = fig.canvas.toDataURL();\n",
       "    // Re-enable the keyboard manager in IPython - without this line, in FF,\n",
       "    // the notebook keyboard shortcuts fail.\n",
       "    IPython.keyboard_manager.enable()\n",
       "    $(fig.parent_element).html('<img src=\"' + dataURL + '\" width=\"' + width + '\">');\n",
       "    fig.close_ws(fig, msg);\n",
       "}\n",
       "\n",
       "mpl.figure.prototype.close_ws = function(fig, msg){\n",
       "    fig.send_message('closing', msg);\n",
       "    // fig.ws.close()\n",
       "}\n",
       "\n",
       "mpl.figure.prototype.push_to_output = function(remove_interactive) {\n",
       "    // Turn the data on the canvas into data in the output cell.\n",
       "    var width = this.canvas.width/mpl.ratio\n",
       "    var dataURL = this.canvas.toDataURL();\n",
       "    this.cell_info[1]['text/html'] = '<img src=\"' + dataURL + '\" width=\"' + width + '\">';\n",
       "}\n",
       "\n",
       "mpl.figure.prototype.updated_canvas_event = function() {\n",
       "    // Tell IPython that the notebook contents must change.\n",
       "    IPython.notebook.set_dirty(true);\n",
       "    this.send_message(\"ack\", {});\n",
       "    var fig = this;\n",
       "    // Wait a second, then push the new image to the DOM so\n",
       "    // that it is saved nicely (might be nice to debounce this).\n",
       "    setTimeout(function () { fig.push_to_output() }, 1000);\n",
       "}\n",
       "\n",
       "mpl.figure.prototype._init_toolbar = function() {\n",
       "    var fig = this;\n",
       "\n",
       "    var nav_element = $('<div/>');\n",
       "    nav_element.attr('style', 'width: 100%');\n",
       "    this.root.append(nav_element);\n",
       "\n",
       "    // Define a callback function for later on.\n",
       "    function toolbar_event(event) {\n",
       "        return fig.toolbar_button_onclick(event['data']);\n",
       "    }\n",
       "    function toolbar_mouse_event(event) {\n",
       "        return fig.toolbar_button_onmouseover(event['data']);\n",
       "    }\n",
       "\n",
       "    for(var toolbar_ind in mpl.toolbar_items){\n",
       "        var name = mpl.toolbar_items[toolbar_ind][0];\n",
       "        var tooltip = mpl.toolbar_items[toolbar_ind][1];\n",
       "        var image = mpl.toolbar_items[toolbar_ind][2];\n",
       "        var method_name = mpl.toolbar_items[toolbar_ind][3];\n",
       "\n",
       "        if (!name) { continue; };\n",
       "\n",
       "        var button = $('<button class=\"btn btn-default\" href=\"#\" title=\"' + name + '\"><i class=\"fa ' + image + ' fa-lg\"></i></button>');\n",
       "        button.click(method_name, toolbar_event);\n",
       "        button.mouseover(tooltip, toolbar_mouse_event);\n",
       "        nav_element.append(button);\n",
       "    }\n",
       "\n",
       "    // Add the status bar.\n",
       "    var status_bar = $('<span class=\"mpl-message\" style=\"text-align:right; float: right;\"/>');\n",
       "    nav_element.append(status_bar);\n",
       "    this.message = status_bar[0];\n",
       "\n",
       "    // Add the close button to the window.\n",
       "    var buttongrp = $('<div class=\"btn-group inline pull-right\"></div>');\n",
       "    var button = $('<button class=\"btn btn-mini btn-primary\" href=\"#\" title=\"Stop Interaction\"><i class=\"fa fa-power-off icon-remove icon-large\"></i></button>');\n",
       "    button.click(function (evt) { fig.handle_close(fig, {}); } );\n",
       "    button.mouseover('Stop Interaction', toolbar_mouse_event);\n",
       "    buttongrp.append(button);\n",
       "    var titlebar = this.root.find($('.ui-dialog-titlebar'));\n",
       "    titlebar.prepend(buttongrp);\n",
       "}\n",
       "\n",
       "mpl.figure.prototype._root_extra_style = function(el){\n",
       "    var fig = this\n",
       "    el.on(\"remove\", function(){\n",
       "\tfig.close_ws(fig, {});\n",
       "    });\n",
       "}\n",
       "\n",
       "mpl.figure.prototype._canvas_extra_style = function(el){\n",
       "    // this is important to make the div 'focusable\n",
       "    el.attr('tabindex', 0)\n",
       "    // reach out to IPython and tell the keyboard manager to turn it's self\n",
       "    // off when our div gets focus\n",
       "\n",
       "    // location in version 3\n",
       "    if (IPython.notebook.keyboard_manager) {\n",
       "        IPython.notebook.keyboard_manager.register_events(el);\n",
       "    }\n",
       "    else {\n",
       "        // location in version 2\n",
       "        IPython.keyboard_manager.register_events(el);\n",
       "    }\n",
       "\n",
       "}\n",
       "\n",
       "mpl.figure.prototype._key_event_extra = function(event, name) {\n",
       "    var manager = IPython.notebook.keyboard_manager;\n",
       "    if (!manager)\n",
       "        manager = IPython.keyboard_manager;\n",
       "\n",
       "    // Check for shift+enter\n",
       "    if (event.shiftKey && event.which == 13) {\n",
       "        this.canvas_div.blur();\n",
       "        // select the cell after this one\n",
       "        var index = IPython.notebook.find_cell_index(this.cell_info[0]);\n",
       "        IPython.notebook.select(index + 1);\n",
       "    }\n",
       "}\n",
       "\n",
       "mpl.figure.prototype.handle_save = function(fig, msg) {\n",
       "    fig.ondownload(fig, null);\n",
       "}\n",
       "\n",
       "\n",
       "mpl.find_output_cell = function(html_output) {\n",
       "    // Return the cell and output element which can be found *uniquely* in the notebook.\n",
       "    // Note - this is a bit hacky, but it is done because the \"notebook_saving.Notebook\"\n",
       "    // IPython event is triggered only after the cells have been serialised, which for\n",
       "    // our purposes (turning an active figure into a static one), is too late.\n",
       "    var cells = IPython.notebook.get_cells();\n",
       "    var ncells = cells.length;\n",
       "    for (var i=0; i<ncells; i++) {\n",
       "        var cell = cells[i];\n",
       "        if (cell.cell_type === 'code'){\n",
       "            for (var j=0; j<cell.output_area.outputs.length; j++) {\n",
       "                var data = cell.output_area.outputs[j];\n",
       "                if (data.data) {\n",
       "                    // IPython >= 3 moved mimebundle to data attribute of output\n",
       "                    data = data.data;\n",
       "                }\n",
       "                if (data['text/html'] == html_output) {\n",
       "                    return [cell, data, j];\n",
       "                }\n",
       "            }\n",
       "        }\n",
       "    }\n",
       "}\n",
       "\n",
       "// Register the function which deals with the matplotlib target/channel.\n",
       "// The kernel may be null if the page has been refreshed.\n",
       "if (IPython.notebook.kernel != null) {\n",
       "    IPython.notebook.kernel.comm_manager.register_target('matplotlib', mpl.mpl_figure_comm);\n",
       "}\n"
      ],
      "text/plain": [
       "<IPython.core.display.Javascript object>"
      ]
     },
     "metadata": {},
     "output_type": "display_data"
    },
    {
     "data": {
      "text/html": [
       "<img src=\"data:image/png;base64,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\" width=\"1000\">"
      ],
      "text/plain": [
       "<IPython.core.display.HTML object>"
      ]
     },
     "metadata": {},
     "output_type": "display_data"
    }
   ],
   "source": [
    "dual_train_plots(results.index,\n",
    "                 results.cost, results.val,\n",
    "                 results.cost, results.val)\n",
    "plt.tight_layout()\n",
    "plt.savefig(str(output / f'{name}_stats_a.png'))"
   ]
  },
  {
   "cell_type": "code",
   "execution_count": null,
   "metadata": {},
   "outputs": [],
   "source": []
  },
  {
   "cell_type": "code",
   "execution_count": null,
   "metadata": {},
   "outputs": [],
   "source": []
  },
  {
   "cell_type": "code",
   "execution_count": null,
   "metadata": {},
   "outputs": [],
   "source": []
  }
 ],
 "metadata": {
  "kernelspec": {
   "display_name": "june2020-gpu",
   "language": "python",
   "name": "june2020-gpu"
  },
  "language_info": {
   "codemirror_mode": {
    "name": "ipython",
    "version": 3
   },
   "file_extension": ".py",
   "mimetype": "text/x-python",
   "name": "python",
   "nbconvert_exporter": "python",
   "pygments_lexer": "ipython3",
   "version": "3.7.6"
  }
 },
 "nbformat": 4,
 "nbformat_minor": 4
}
