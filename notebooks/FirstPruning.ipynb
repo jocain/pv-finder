{
 "cells": [
  {
   "cell_type": "code",
   "execution_count": 4,
   "metadata": {},
   "outputs": [
    {
     "name": "stdout",
     "output_type": "stream",
     "text": [
      "1.4.0\n"
     ]
    }
   ],
   "source": [
    "import torch.nn as nn\n",
    "import torch.nn.functional as F\n",
    "import torch \n",
    "print(torch.__version__) \n",
    "import torch.nn.utils\n",
    "import torch.nn.utils.prune as prune"
   ]
  },
  {
   "cell_type": "code",
   "execution_count": 2,
   "metadata": {},
   "outputs": [],
   "source": [
    "class testModel(nn.Module):\n",
    "    def __init__(self):\n",
    "        super(testModel,self).__init__()\n",
    "       \n",
    "        \n",
    "        self.mike = nn.Conv1d(\n",
    "            in_channels = 3,\n",
    "            out_channels = 6,\n",
    "            kernel_size = 3,\n",
    "            stride = 3,\n",
    "            padding = 0,\n",
    "            groups = 3)\n",
    "        \n",
    "    def forward(self, x):\n",
    "        leaky = nn.LeakyReLU(0.01)\n",
    "        x = leaky(self.mike(x))\n",
    "        \n",
    "        params = list(self.parameters())\n",
    "        print(len(params))\n",
    "        print(params[0].size())  # conv1's .weight\n",
    "        return x"
   ]
  },
  {
   "cell_type": "code",
   "execution_count": 3,
   "metadata": {},
   "outputs": [
    {
     "name": "stdout",
     "output_type": "stream",
     "text": [
      "input.size() =  torch.Size([2, 3, 5])\n",
      "input.shape =  torch.Size([2, 3, 5])\n",
      "input =  tensor([[[-0.2314, -0.1660,  2.6358,  0.3446,  0.0806],\n",
      "         [-0.7033, -0.4945, -0.0315, -2.3155,  2.0548],\n",
      "         [ 0.3508, -0.2263, -0.1728, -0.2293, -0.5760]],\n",
      "\n",
      "        [[ 0.2031,  0.9739, -0.2447,  0.0553, -0.9320],\n",
      "         [-1.2844,  0.8001,  0.6534, -1.5039,  0.4885],\n",
      "         [-1.3670, -0.2455, -0.1996, -1.1903,  0.8448]]])\n",
      "2\n",
      "torch.Size([6, 1, 3])\n",
      "  \n",
      "output.size() =  torch.Size([2, 6, 1])\n",
      "output =  tensor([[[ 1.4315],\n",
      "         [ 0.5674],\n",
      "         [ 0.4660],\n",
      "         [ 0.2794],\n",
      "         [ 0.2081],\n",
      "         [ 0.3380]],\n",
      "\n",
      "        [[ 0.5222],\n",
      "         [-0.0019],\n",
      "         [ 0.4765],\n",
      "         [ 0.4603],\n",
      "         [-0.0047],\n",
      "         [ 1.3449]]], grad_fn=<LeakyReluBackward0>)\n",
      "  \n"
     ]
    }
   ],
   "source": [
    "input = torch.randn(2,3,5)\n",
    "print(\"input.size() = \", input.size()) ## size() is a function\n",
    "print(\"input.shape = \",input.shape)  ## shape is an attribute\n",
    "print(\"input = \",input)\n",
    "m = testModel()\n",
    "output = m(input)\n",
    "\n",
    "print(\"  \")\n",
    "print(\"output.size() = \", output.size())\n",
    "print(\"output = \",output)\n",
    "\n",
    "print(\"  \")\n",
    "\n"
   ]
  },
  {
   "cell_type": "code",
   "execution_count": 10,
   "metadata": {},
   "outputs": [
    {
     "name": "stdout",
     "output_type": "stream",
     "text": [
      "[('bias', Parameter containing:\n",
      "tensor([ 0.2970, -0.3209,  0.3810,  0.3793,  0.1972,  0.3879],\n",
      "       requires_grad=True)), ('weight_orig', Parameter containing:\n",
      "tensor([[[-0.4698,  0.4339,  0.4165]],\n",
      "\n",
      "        [[ 0.0033,  0.2248,  0.3515]],\n",
      "\n",
      "        [[-0.2157,  0.1656, -0.4808]],\n",
      "\n",
      "        [[-0.0234,  0.2497, -0.2277]],\n",
      "\n",
      "        [[ 0.3878,  0.1548,  0.5214]],\n",
      "\n",
      "        [[-0.5767, -0.4616, -0.2776]]], requires_grad=True))]\n",
      " between commands\n",
      "[('weight_mask', tensor([[[1., 1., 1.]],\n",
      "\n",
      "        [[0., 0., 0.]],\n",
      "\n",
      "        [[1., 0., 0.]],\n",
      "\n",
      "        [[0., 1., 0.]],\n",
      "\n",
      "        [[1., 1., 1.]],\n",
      "\n",
      "        [[1., 0., 0.]]]))]\n"
     ]
    }
   ],
   "source": [
    "module = m.mike\n",
    "print(list(module.named_parameters()))\n",
    "\n",
    "print(\" between commands\")\n",
    "print(list(module.named_buffers()))"
   ]
  },
  {
   "cell_type": "code",
   "execution_count": 8,
   "metadata": {},
   "outputs": [
    {
     "data": {
      "text/plain": [
       "Conv1d(3, 6, kernel_size=(3,), stride=(3,), groups=3)"
      ]
     },
     "execution_count": 8,
     "metadata": {},
     "output_type": "execute_result"
    }
   ],
   "source": [
    "prune.random_unstructured(module, name=\"weight\", amount=0.3)"
   ]
  },
  {
   "cell_type": "code",
   "execution_count": 7,
   "metadata": {},
   "outputs": [
    {
     "name": "stdout",
     "output_type": "stream",
     "text": [
      "[('bias', Parameter containing:\n",
      "tensor([ 0.2970, -0.3209,  0.3810,  0.3793,  0.1972,  0.3879],\n",
      "       requires_grad=True)), ('weight_orig', Parameter containing:\n",
      "tensor([[[-0.4698,  0.4339,  0.4165]],\n",
      "\n",
      "        [[ 0.0033,  0.2248,  0.3515]],\n",
      "\n",
      "        [[-0.2157,  0.1656, -0.4808]],\n",
      "\n",
      "        [[-0.0234,  0.2497, -0.2277]],\n",
      "\n",
      "        [[ 0.3878,  0.1548,  0.5214]],\n",
      "\n",
      "        [[-0.5767, -0.4616, -0.2776]]], requires_grad=True))]\n"
     ]
    }
   ],
   "source": [
    "print(list(module.named_parameters()))"
   ]
  },
  {
   "cell_type": "code",
   "execution_count": 9,
   "metadata": {},
   "outputs": [
    {
     "name": "stdout",
     "output_type": "stream",
     "text": [
      "tensor([[[-0.4698,  0.4339,  0.4165]],\n",
      "\n",
      "        [[ 0.0000,  0.0000,  0.0000]],\n",
      "\n",
      "        [[-0.2157,  0.0000, -0.0000]],\n",
      "\n",
      "        [[-0.0000,  0.2497, -0.0000]],\n",
      "\n",
      "        [[ 0.3878,  0.1548,  0.5214]],\n",
      "\n",
      "        [[-0.5767, -0.0000, -0.0000]]], grad_fn=<MulBackward0>)\n"
     ]
    }
   ],
   "source": [
    "print(module.weight)"
   ]
  },
  {
   "cell_type": "code",
   "execution_count": null,
   "metadata": {},
   "outputs": [],
   "source": []
  }
 ],
 "metadata": {
  "kernelspec": {
   "display_name": "goofit-june2020",
   "language": "python",
   "name": "goofit-june2020"
  },
  "language_info": {
   "codemirror_mode": {
    "name": "ipython",
    "version": 3
   },
   "file_extension": ".py",
   "mimetype": "text/x-python",
   "name": "python",
   "nbconvert_exporter": "python",
   "pygments_lexer": "ipython3",
   "version": "3.7.6"
  }
 },
 "nbformat": 4,
 "nbformat_minor": 2
}
