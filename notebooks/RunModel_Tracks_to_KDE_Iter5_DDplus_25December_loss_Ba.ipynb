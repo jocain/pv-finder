{
 "cells": [
  {
   "cell_type": "code",
   "execution_count": 1,
   "metadata": {},
   "outputs": [],
   "source": [
    "##%matplotlib widget\n",
    "## with %matplotlib notebook: seems to require ipympl as part of environment, either\n",
    "## part of the conda environment or \"pip install ipympl\"\n",
    "## otherwise, does not show ANY plots in note\"book, plt.savefig() works\n",
    "%matplotlib notebook  \n",
    "##%matplotlib inline    ## --plt.savefig()  works, but re-sizing does NOT\n"
   ]
  },
  {
   "cell_type": "markdown",
   "metadata": {},
   "source": [
    "This notebook is the second attempt to read in track information and use it to predict the KDE used as input to PvFinder. This time, we are reading in poca KDEs rather than the original KDEs. \n",
    "\n",
    "collectdata_kde_C.py uses poca_z, poca_x, poca_y, major_axis_x, major_axis_y, and major_axis_z as the six track parameters (for the moment)\n"
   ]
  },
  {
   "cell_type": "markdown",
   "metadata": {},
   "source": [
    "Check the current GPU usage. Please try to be nice!"
   ]
  },
  {
   "cell_type": "code",
   "execution_count": 2,
   "metadata": {},
   "outputs": [
    {
     "name": "stdout",
     "output_type": "stream",
     "text": [
      "Fri Dec 25 21:38:59 2020       \r\n",
      "+-----------------------------------------------------------------------------+\r\n",
      "| NVIDIA-SMI 450.36.06    Driver Version: 450.36.06    CUDA Version: 11.0     |\r\n",
      "|-------------------------------+----------------------+----------------------+\r\n",
      "| GPU  Name        Persistence-M| Bus-Id        Disp.A | Volatile Uncorr. ECC |\r\n",
      "| Fan  Temp  Perf  Pwr:Usage/Cap|         Memory-Usage | GPU-Util  Compute M. |\r\n",
      "|                               |                      |               MIG M. |\r\n",
      "|===============================+======================+======================|\r\n",
      "|   0  GeForce RTX 208...  On   | 00000000:18:00.0 Off |                  N/A |\r\n",
      "| 29%   39C    P8    40W / 250W |   6932MiB / 11019MiB |      0%      Default |\r\n",
      "|                               |                      |                  N/A |\r\n",
      "+-------------------------------+----------------------+----------------------+\r\n",
      "|   1  GeForce RTX 208...  On   | 00000000:3B:00.0 Off |                  N/A |\r\n",
      "| 29%   40C    P8    39W / 250W |     61MiB / 11019MiB |      0%      Default |\r\n",
      "|                               |                      |                  N/A |\r\n",
      "+-------------------------------+----------------------+----------------------+\r\n",
      "                                                                               \r\n",
      "+-----------------------------------------------------------------------------+\r\n",
      "| Processes:                                                                  |\r\n",
      "|  GPU   GI   CI        PID   Type   Process name                  GPU Memory |\r\n",
      "|        ID   ID                                                   Usage      |\r\n",
      "|=============================================================================|\r\n",
      "|    0   N/A  N/A     72843      C   ...s/june2020-gpu/bin/python     3347MiB |\r\n",
      "|    0   N/A  N/A    121144      C   ...s/june2020-gpu/bin/python     3581MiB |\r\n",
      "|    1   N/A  N/A      3736      G   /usr/bin/X                         33MiB |\r\n",
      "|    1   N/A  N/A      3790      G   /usr/bin/gnome-shell               25MiB |\r\n",
      "+-----------------------------------------------------------------------------+\r\n"
     ]
    }
   ],
   "source": [
    "!nvidia-smi"
   ]
  },
  {
   "cell_type": "markdown",
   "metadata": {},
   "source": [
    "> **WARNING**: The card numbers here are *not* the same as in CUDA. You have been warned."
   ]
  },
  {
   "cell_type": "markdown",
   "metadata": {},
   "source": [
    "This notebook is first attempt to read in track information and use it to predict the KDE used as input to PvFinder.\n"
   ]
  },
  {
   "cell_type": "markdown",
   "metadata": {},
   "source": [
    "## Imports"
   ]
  },
  {
   "cell_type": "code",
   "execution_count": 3,
   "metadata": {},
   "outputs": [],
   "source": [
    "import matplotlib.pyplot as plt\n",
    "import numpy as np\n",
    "import time\n",
    "import torch\n",
    "import pandas as pd\n",
    "\n",
    "# Python 3 standard library\n",
    "from pathlib import Path\n",
    "\n",
    "##from torchsummary import summary"
   ]
  },
  {
   "cell_type": "markdown",
   "metadata": {},
   "source": [
    "### Set up local parameters"
   ]
  },
  {
   "cell_type": "code",
   "execution_count": 4,
   "metadata": {},
   "outputs": [],
   "source": [
    "n_epochs = 800\n",
    "\n",
    "# Name is the output file name\n",
    "\n",
    "\n",
    "##  201027 -- about to go to bed, so try 2500 epochs with lr = 1e55\n",
    "##  previous iteration had l4 = 3e-5 and cost dropped almost linearly\n",
    "##  for 100 epochs -- final training costs ~ 2.02, validation cost ~ 2.01\n",
    "\n",
    "## for iter 4, try 10 epochs with lr = 3e-6\n",
    "## usually have a big jump down at epoch 0; want to try a\n",
    "## small number of epochs per iteration and see what happens (iter4: 10 epochs gave\n",
    "## traiing cost dropping from 1.54 to 1.50 immediately, then dropping very slowly)\n",
    "folder = '25December__DDplus_loss_Ba_iter5_floatAll_800epochs_1em5'\n",
    "name   = folder\n",
    "\n",
    "# Make an output folder named \"name\" (change if you want)\n",
    "\n",
    "## Special instructions for those working on goofy at UC\n",
    "## Please be very careful to make sure that your folder\n",
    "## does not live in a subdirectory of your home directory\n",
    "## this disk has very little capacity. Instead, use \n",
    "## a subdirectory in /share/lazy with a symbolic link to\n",
    "## it in this (the notebooks) subdirectory\n",
    "folder = 'ML/' + folder\n",
    "output = Path(folder)\n",
    "\n",
    "\n",
    "# Size of batches\n",
    "batch_size = 16 ## was 64\n",
    "# How fast to learn\n",
    "learning_rate = 1e-5"
   ]
  },
  {
   "cell_type": "markdown",
   "metadata": {},
   "source": [
    "Make the output directory if it does not exist:"
   ]
  },
  {
   "cell_type": "code",
   "execution_count": 5,
   "metadata": {},
   "outputs": [],
   "source": [
    "output.mkdir(exist_ok=True)"
   ]
  },
  {
   "cell_type": "markdown",
   "metadata": {},
   "source": [
    "## Get the helper functions\n",
    "\n",
    "Add the directory with the model\n",
    "definitions to the path so we can import from it:\n",
    "\n",
    "> When you type `import X`,\n",
    "Python searches `sys.path` for a python\n",
    "file named `X.py` to import. So we need to add the model directory to the path."
   ]
  },
  {
   "cell_type": "code",
   "execution_count": 6,
   "metadata": {
    "scrolled": true
   },
   "outputs": [],
   "source": [
    "# From model/collectdata.py\n",
    "##from model.collectdata_kde_B import collect_t2kde_data\n",
    "## collectdata_kde_C should use the new poca KDE rather than the original kernel KDE\n",
    "from model.collectdata_kde_Ellipsoids import collect_t2kde_data\n",
    "\n",
    "\n",
    "# From model/loss.py\n",
    "##from loss import Loss\n",
    "## kde_loss_D includes botha ratio term and a chisq term, 98% ave_chisq\n",
    "## kde_loss_E adds a chi^4 term to the kde_loss_D return value\n",
    "## this is intended to emphasize the importance of values significantly different than zero\n",
    "from model.kde_loss_Ba import Loss\n",
    "\n",
    "##  TracksToKDE_Ellipsoids_SevenLayerCake has 7 hidden layers producing the 4000-bin KDE historgram\n",
    "##  It takes 9 input features (pocca centers + (A,B,C,D,E,F) . \n",
    "from model.models_kde import TracksToKDE_Ellipsoids_DDplus as Model\n",
    "\n",
    "\n",
    "from model.training_kde import trainNet, select_gpu, Results\n",
    "from model.plots import dual_train_plots, replace_in_ax"
   ]
  },
  {
   "cell_type": "code",
   "execution_count": 7,
   "metadata": {},
   "outputs": [],
   "source": [
    "# This gets built up during the run - do not rerun this cell\n",
    "results = pd.DataFrame([], columns=Results._fields)"
   ]
  },
  {
   "cell_type": "markdown",
   "metadata": {},
   "source": [
    "Set up Torch device configuration. All tensors and model parameters need to know where to be put.\n",
    "This takes a BUS ID number: The BUS ID is the same as the listing at the top of this script."
   ]
  },
  {
   "cell_type": "code",
   "execution_count": 8,
   "metadata": {},
   "outputs": [
    {
     "name": "stdout",
     "output_type": "stream",
     "text": [
      "1 available GPUs (initially using device 0):\n",
      "  0 GeForce RTX 2080 Ti\n"
     ]
    }
   ],
   "source": [
    "device = select_gpu(0)\n",
    "##device = \"cpu\""
   ]
  },
  {
   "cell_type": "markdown",
   "metadata": {},
   "source": [
    "## Loading data\n",
    "\n",
    "Load the dataset, split into parts, then move to device (see `collectdata.py` in the `../model` directory)"
   ]
  },
  {
   "cell_type": "markdown",
   "metadata": {},
   "source": [
    "# Preparing the model"
   ]
  },
  {
   "cell_type": "markdown",
   "metadata": {},
   "source": [
    "Prepare a model, use multiple GPUs if they are VISIBLE, and move the model to the device."
   ]
  },
  {
   "cell_type": "code",
   "execution_count": 9,
   "metadata": {
    "scrolled": true
   },
   "outputs": [],
   "source": [
    "##print(\"Let's use\", torch.cuda.device_count(), \"GPUs!\")\n",
    "##if torch.cuda.device_count() > 1:\n",
    "##    model = torch.nn.DataParallel(model)"
   ]
  },
  {
   "cell_type": "code",
   "execution_count": 10,
   "metadata": {},
   "outputs": [
    {
     "name": "stdout",
     "output_type": "stream",
     "text": [
      "ct, child =  0    Linear(in_features=9, out_features=50, bias=True)\n",
      "ct, child =  1    Linear(in_features=50, out_features=50, bias=True)\n",
      "ct, child =  2    Linear(in_features=50, out_features=50, bias=True)\n",
      "ct, child =  3    Linear(in_features=50, out_features=50, bias=True)\n",
      "ct, child =  4    Linear(in_features=50, out_features=50, bias=True)\n",
      "ct, child =  5    Linear(in_features=50, out_features=50, bias=True)\n",
      "ct, child =  6    Linear(in_features=50, out_features=50, bias=True)\n",
      "ct, child =  7    Linear(in_features=50, out_features=50, bias=True)\n",
      "ct, child =  8    Linear(in_features=50, out_features=50, bias=True)\n",
      "ct, child =  9    Linear(in_features=50, out_features=50, bias=True)\n",
      "ct, child =  10    Linear(in_features=50, out_features=50, bias=True)\n",
      "ct, child =  11    Linear(in_features=50, out_features=16000, bias=True)\n",
      "ct, child =  12    Conv1d(4, 25, kernel_size=(25,), stride=(1,), padding=(12,))\n",
      "ct, child =  13    Conv1d(25, 1, kernel_size=(5,), stride=(1,), padding=(2,))\n",
      "ct, child =  14    Linear(in_features=4000, out_features=4000, bias=True)\n",
      "ct, child =  15    Conv1d(25, 1, kernel_size=(15,), stride=(1,), padding=(7,))\n",
      "ct, child =  16    Dropout(p=0.15, inplace=False)\n",
      "ct, child =  17    Dropout(p=0.15, inplace=False)\n"
     ]
    }
   ],
   "source": [
    "## a comment on the web at https://pytorch.org/docs/stable/optim.html says\n",
    "\"\"\"\n",
    "If you need to move a model to GPU via .cuda(), please do so before constructing optimizers for it. \n",
    "Parameters of a model after .cuda() will be different objects with those before the call.\n",
    "\n",
    "In general, you should make sure that optimized parameters live in consistent locations when \n",
    "optimizers are constructed and used.\n",
    "\"\"\"\n",
    "## so move this here (although we are using model.to(device) not explicitly using .cuda()\n",
    "\n",
    "nOut1 = 50\n",
    "nOut2 = 50\n",
    "nOut3 = 50\n",
    "nOut4 = 50\n",
    "nOut5 = 50\n",
    "nOut6 = 50\n",
    "nOut7 = 50\n",
    "nOut8 = 50\n",
    "nOut9 = 50\n",
    "nOut10 = 50\n",
    "nOut11 = 50\n",
    "latentChannels = 4\n",
    "model = Model(nOut1,nOut2,nOut3,nOut4,nOut5,nOut6,nOut7,nOut8,nOut9,nOut10,nOut11,latentChannels)\n",
    "\n",
    "##summary(model, input_size=(4, 4000))\n",
    "##print(model.parameters)\n",
    "\n",
    "## add the following code to allow the user to freeze the some of the weights corresponding \n",
    "## to those taken from an earlier model trained with the original target histograms\n",
    "## presumably -- this leaves either the perturbative filter \"fixed\" and lets the \n",
    "## learning focus on the non-perturbative features, so get started faster, or vice versa\n",
    "ct = 0\n",
    "for child in model.children():\n",
    "  print('ct, child = ',ct, \"  \", child)\n",
    "  if ct < 0:\n",
    "    print(\"     About to set param.requires_grad=False for ct = \", ct, \"params\")\n",
    "    for param in child.parameters():\n",
    "        param.requires_grad = False \n",
    "  ct += 1\n",
    "##  mds 200121 loss = Loss(epsilon=1e-5,coefficient=1.0)\n",
    "##  loss = Loss(epsilon=1e-5,coefficient=2.5)\n",
    "##loss = Loss(epsilon=3e-5, debug=False)\n",
    "loss = Loss(epsilon=3e-5)"
   ]
  },
  {
   "cell_type": "markdown",
   "metadata": {},
   "source": [
    "Let's move the model's weight matricies to the GPU:"
   ]
  },
  {
   "cell_type": "code",
   "execution_count": 11,
   "metadata": {
    "scrolled": true
   },
   "outputs": [],
   "source": [
    "model = model.to(device)"
   ]
  },
  {
   "cell_type": "code",
   "execution_count": 12,
   "metadata": {
    "scrolled": true
   },
   "outputs": [],
   "source": [
    "optimizer = torch.optim.Adam(model.parameters(), lr=learning_rate)\n",
    "##optimizer = torch.optim.SGD(model.parameters(), lr=learning_rate)"
   ]
  },
  {
   "cell_type": "code",
   "execution_count": 13,
   "metadata": {
    "scrolled": false
   },
   "outputs": [
    {
     "name": "stdout",
     "output_type": "stream",
     "text": [
      "output =  ML/25December__DDplus_loss_Ba_iter5_floatAll_800epochs_1em5\n",
      "for model_dict\n",
      "index, k =   0    layer1.weight\n",
      "index, k =   1    layer1.bias\n",
      "index, k =   2    layer2.weight\n",
      "index, k =   3    layer2.bias\n",
      "index, k =   4    layer3.weight\n",
      "index, k =   5    layer3.bias\n",
      "index, k =   6    layer4.weight\n",
      "index, k =   7    layer4.bias\n",
      "index, k =   8    layer5.weight\n",
      "index, k =   9    layer5.bias\n",
      "index, k =   10    layer6.weight\n",
      "index, k =   11    layer6.bias\n",
      "index, k =   12    layer7.weight\n",
      "index, k =   13    layer7.bias\n",
      "index, k =   14    layer8.weight\n",
      "index, k =   15    layer8.bias\n",
      "index, k =   16    layer9.weight\n",
      "index, k =   17    layer9.bias\n",
      "index, k =   18    layer10.weight\n",
      "index, k =   19    layer10.bias\n",
      "index, k =   20    layer11.weight\n",
      "index, k =   21    layer11.bias\n",
      "index, k =   22    layer12new.weight\n",
      "index, k =   23    layer12new.bias\n",
      "index, k =   24    conv1.weight\n",
      "index, k =   25    conv1.bias\n",
      "index, k =   26    conv2.weight\n",
      "index, k =   27    conv2.bias\n",
      "index, k =   28    fc1.weight\n",
      "index, k =   29    fc1.bias\n",
      "index, k =   30    finalFilter.weight\n",
      "index, k =   31    finalFilter.bias\n",
      "dict_name =  ML/25December__DDplus_loss_Ba_iter4_floatAll_500epochs_1em5/25December__DDplus_loss_Ba_iter4_floatAll_500epochs_1em5_final.pyt\n",
      " \n",
      "  for pretrained_dict\n",
      "index, k =   0    layer1.weight\n",
      "index, k =   1    layer1.bias\n",
      "index, k =   2    layer2.weight\n",
      "index, k =   3    layer2.bias\n",
      "index, k =   4    layer3.weight\n",
      "index, k =   5    layer3.bias\n",
      "index, k =   6    layer4.weight\n",
      "index, k =   7    layer4.bias\n",
      "index, k =   8    layer5.weight\n",
      "index, k =   9    layer5.bias\n",
      "index, k =   10    layer6.weight\n",
      "index, k =   11    layer6.bias\n",
      "index, k =   12    layer7.weight\n",
      "index, k =   13    layer7.bias\n",
      "index, k =   14    layer8.weight\n",
      "index, k =   15    layer8.bias\n",
      "index, k =   16    layer9.weight\n",
      "index, k =   17    layer9.bias\n",
      "index, k =   18    layer10.weight\n",
      "index, k =   19    layer10.bias\n",
      "index, k =   20    layer11.weight\n",
      "index, k =   21    layer11.bias\n",
      "index, k =   22    layer12new.weight\n",
      "index, k =   23    layer12new.bias\n",
      "index, k =   24    conv1.weight\n",
      "index, k =   25    conv1.bias\n",
      "index, k =   26    conv2.weight\n",
      "index, k =   27    conv2.bias\n",
      "index, k =   28    fc1.weight\n",
      "index, k =   29    fc1.bias\n",
      "index, k =   30    finalFilter.weight\n",
      "index, k =   31    finalFilter.bias\n",
      "pretrained_dict iterated\n"
     ]
    },
    {
     "data": {
      "text/plain": [
       "<All keys matched successfully>"
      ]
     },
     "execution_count": 13,
     "metadata": {},
     "output_type": "execute_result"
    }
   ],
   "source": [
    "print('output = ',output)\n",
    "##print('oldOutput = ',oldOutput)\n",
    "##  use the first four layers from a pre-existing model\n",
    "##  see example at https://discuss.pytorch.org/t/how-to-load-part-of-pre-trained-model/1113\n",
    "\n",
    "##   ML -> /share/lazy/sokoloff/ML\n",
    "model_dict = model.state_dict()\n",
    "## mds 190725 for debugging\n",
    "print(\"for model_dict\")\n",
    "index = 0\n",
    "for k,v in model_dict.items():\n",
    "    print(\"index, k =  \",index,\"  \",k)\n",
    "    index = index+1\n",
    "##    print(\"value = \", v)\n",
    " \n",
    "updated_dict = model_dict\n",
    "##print(\"updated_dict = \",updated_dict)\n",
    "## when starting \"ab initio\", reduce biases as the bias gets summed for each track\n",
    "## contributing to the predicted KDE\n",
    "updated_dict[\"layer1.bias\"] = 0.005*model_dict[\"layer1.bias\"]\n",
    "updated_dict[\"layer2.bias\"] = 0.005*model_dict[\"layer2.bias\"]\n",
    "updated_dict[\"layer3.bias\"] = 0.005*model_dict[\"layer3.bias\"]\n",
    "updated_dict[\"layer4.bias\"] = 0.005*model_dict[\"layer4.bias\"]\n",
    "updated_dict[\"layer5.bias\"] = 0.005*model_dict[\"layer5.bias\"]\n",
    "updated_dict[\"layer6.bias\"] = 0.005*model_dict[\"layer6.bias\"]\n",
    "updated_dict[\"layer7.bias\"] = 0.005*model_dict[\"layer7.bias\"]\n",
    "updated_dict[\"layer8.bias\"] = 0.005*model_dict[\"layer8.bias\"]\n",
    "updated_dict[\"layer9.bias\"] = 0.005*model_dict[\"layer9.bias\"]\n",
    "updated_dict[\"layer10.bias\"] = 0.005*model_dict[\"layer10.bias\"]\n",
    "updated_dict[\"layer11.bias\"] = 0.005*model_dict[\"layer11.bias\"]\n",
    "\n",
    "model.load_state_dict(updated_dict,strict=False)\n",
    "\n",
    "model_dict = model.state_dict()\n",
    "##print(\"updated model_dict = \",model_dict)\n",
    "\n",
    "## print(\" \\n\",\"  for pretrained_dict\")\n",
    "## index = 0\n",
    "##for k,v in pretrained_dict.items():\n",
    "##    print(\"index, k =  \",index,\"  \",k)\n",
    "##    index = index+1\n",
    "## mds  \n",
    "\n",
    "##pretrained_dict = torch.load('ML/29July2020_Trks_to_KDE_C_lossB_100epochs_b64_1m3_nOut_50x50/29July2020_Trks_to_KDE_C_lossB_100epochs_b64_1m3_nOut_50x50_final.pyt')\n",
    "##print(\"model_dict instantiated\")\n",
    "# 1. filter out unnecessary keys\n",
    "##pretrained_dict = {k: v for k, v in pretrained_dict.items() if k in model_dict}\n",
    "##print(\"pretrained_dict iterated\")\n",
    "# 2. overwrite entries in the existing state dict\n",
    "##model_dict.update(pretrained_dict) \n",
    "##\n",
    "#   when starting from a model with a fully connected last layer rather than a convolutional layer\n",
    "# 3. load the new state dict\n",
    "#   need to use strict=False as the two models state model attributes do not agree exactly\n",
    "#   see https://pytorch.org/docs/master/_modules/torch/nn/modules/module.html#Module.load_state_dict\n",
    "\n",
    "##model.load_state_dict(pretrained_dict,strict=False)\n",
    "\n",
    "## print('model_dict =    ', model_dict)\n",
    "\n",
    "## finished at training cost = 1.46, validation cost = 1.50\n",
    "d_folder = '25December__DDplus_loss_Ba_iter4_floatAll_500epochs_1em5'\n",
    "d_name = d_folder\n",
    "suffix = 'final'\n",
    "dict_name = 'ML/' + d_folder + '/' + d_name + '_'+ suffix + '.pyt'\n",
    "print('dict_name = ',dict_name)\n",
    "pretrained_dict = torch.load(dict_name)\n",
    "\n",
    "print(\" \")\n",
    "print(\"  for pretrained_dict\")\n",
    "index = 0\n",
    "for k,v in pretrained_dict.items():\n",
    "    print(\"index, k =  \",index,\"  \",k)\n",
    "    index = index+1\n",
    " \n",
    "\n",
    "##print(\"model_dict instantiated\")\n",
    "# 1. filter out unnecessary keys\n",
    "pretrained_dict = {k: v for k, v in pretrained_dict.items() if k in model_dict}\n",
    "print(\"pretrained_dict iterated\")\n",
    "# 2. overwrite entries in the existing state dict\n",
    "model_dict.update(pretrained_dict) \n",
    "##\n",
    "#   when starting from a model with a fully connected last layer rather than a convolutional layer\n",
    "# 3. load the new state dict\n",
    "#   need to use strict=False as the two models state model attributes do not agree exactly\n",
    "#   see https://pytorch.org/docs/master/_modules/torch/nn/modules/module.html#Module.load_state_dict\n",
    "\n",
    "model.load_state_dict(pretrained_dict,strict=False)\n",
    "\n"
   ]
  },
  {
   "cell_type": "code",
   "execution_count": 14,
   "metadata": {},
   "outputs": [],
   "source": [
    "##print('validation.dataset.tensors = ',validation.dataset.tensors)\n",
    "fig_size = plt.rcParams[\"figure.figsize\"]\n",
    "fig_size[0] = 10\n",
    "fig_size[1] = 4\n",
    "plt.rcParams[\"figure.figsize\"] = fig_size"
   ]
  },
  {
   "cell_type": "code",
   "execution_count": 15,
   "metadata": {
    "scrolled": false
   },
   "outputs": [
    {
     "name": "stdout",
     "output_type": "stream",
     "text": [
      "Loading data...\n",
      "pocaMx.shape =  (20000,)\n",
      "nEvts =  20000\n",
      "len(pocaMx[0]) =  211\n",
      "len(pocaMx[1]) =  21\n",
      "len(pocaMx[2]) =  20\n",
      "len(pocaMx[3]) =  198\n",
      "len(pocaMx[4]) =  233\n",
      "majorAxis.shape =  (20000, 3)\n",
      "minorAxis_1.shape =  (20000, 3)\n",
      "minorAxis_2.shape =  (20000, 3)\n",
      "have entered six_ellipsoid_parameters\n",
      "  \n",
      " \n",
      "  nEvts =  20000\n",
      " iEvt, nTrks =  0 211\n",
      " iEvt, nTrks =  1 21\n",
      " iEvt, nTrks =  2 20\n",
      " iEvt, nTrks =  3 198\n",
      " iEvt, nTrks =  4 233\n",
      " iEvt, nTrks =  5 85\n",
      " iEvt, nTrks =  6 223\n",
      " iEvt, nTrks =  7 425\n",
      " iEvt, nTrks =  8 252\n",
      " iEvt, nTrks =  9 169\n",
      "A.shape =  (20000,)\n",
      "majorAxis[iTrk][0][0] =  -0.00023452607\n",
      "majorAxis[iTrk][1][0] =  -0.00047206535\n",
      "majorAxis[iTrk][2][0] =  0.096502915\n",
      "minorAxis_1[iTrk][0][0] =  -15.822749\n",
      "minorAxis_1[iTrk][1][0] =  7.8608756\n",
      "minorAxis_1[iTrk][2][0] =  -2.6228399e-08\n",
      "minorAxis_2[iTrk][0][0] =  7.860759\n",
      "minorAxis_2[iTrk][1][0] =  15.822513\n",
      "minorAxis_2[iTrk][2][0] =  0.096502915\n",
      "  \n",
      "majorAxis[iTrk][0][0] =  -0.37655562\n",
      "majorAxis[iTrk][1][0] =  0.2768704\n",
      "majorAxis[iTrk][2][0] =  2.8546858\n",
      "minorAxis_1[iTrk][0][0] =  -10.466048\n",
      "minorAxis_1[iTrk][1][0] =  -14.234274\n",
      "minorAxis_1[iTrk][2][0] =  2.2974699e-11\n",
      "minorAxis_2[iTrk][0][0] =  -14.04724\n",
      "minorAxis_2[iTrk][1][0] =  10.328527\n",
      "minorAxis_2[iTrk][2][0] =  -2.8546853\n",
      "  \n",
      "majorAxis[iTrk][0][0] =  -0.024279848\n",
      "majorAxis[iTrk][1][0] =  0.0019689242\n",
      "majorAxis[iTrk][2][0] =  0.65580803\n",
      "minorAxis_1[iTrk][0][0] =  -1.4280497\n",
      "minorAxis_1[iTrk][1][0] =  -17.610037\n",
      "minorAxis_1[iTrk][2][0] =  -6.123401e-10\n",
      "minorAxis_2[iTrk][0][0] =  -17.597902\n",
      "minorAxis_2[iTrk][1][0] =  1.4270656\n",
      "minorAxis_2[iTrk][2][0] =  -0.6558081\n",
      "  \n",
      "majorAxis[iTrk][0][0] =  -0.007825993\n",
      "majorAxis[iTrk][1][0] =  0.004052097\n",
      "majorAxis[iTrk][2][0] =  0.3945435\n",
      "minorAxis_1[iTrk][0][0] =  8.123606\n",
      "minorAxis_1[iTrk][1][0] =  15.689478\n",
      "minorAxis_1[iTrk][2][0] =  -2.4940747e-10\n",
      "minorAxis_2[iTrk][0][0] =  15.685566\n",
      "minorAxis_2[iTrk][1][0] =  -8.12158\n",
      "minorAxis_2[iTrk][2][0] =  0.3945435\n",
      "  \n",
      "majorAxis[iTrk][0][0] =  0.0046102717\n",
      "majorAxis[iTrk][1][0] =  -0.0016007021\n",
      "majorAxis[iTrk][2][0] =  0.29361814\n",
      "minorAxis_1[iTrk][0][0] =  -5.794979\n",
      "minorAxis_1[iTrk][1][0] =  -16.690445\n",
      "minorAxis_1[iTrk][2][0] =  2.4897104e-09\n",
      "minorAxis_2[iTrk][0][0] =  -16.688139\n",
      "minorAxis_2[iTrk][1][0] =  5.794179\n",
      "minorAxis_2[iTrk][2][0] =  0.2936181\n",
      "  \n",
      "majorAxis[iTrk][0][0] =  -0.00020041714\n",
      "majorAxis[iTrk][1][0] =  0.00010468164\n",
      "majorAxis[iTrk][2][0] =  0.06320469\n",
      "minorAxis_1[iTrk][0][0] =  8.179679\n",
      "minorAxis_1[iTrk][1][0] =  15.660318\n",
      "minorAxis_1[iTrk][2][0] =  7.40176e-08\n",
      "minorAxis_2[iTrk][0][0] =  15.660218\n",
      "minorAxis_2[iTrk][1][0] =  -8.179626\n",
      "minorAxis_2[iTrk][2][0] =  0.06320469\n",
      "  \n",
      "majorAxis[iTrk][0][0] =  -0.00020603223\n",
      "majorAxis[iTrk][1][0] =  -0.0005662605\n",
      "majorAxis[iTrk][2][0] =  0.10317981\n",
      "minorAxis_1[iTrk][0][0] =  -16.603\n",
      "minorAxis_1[iTrk][1][0] =  6.040953\n",
      "minorAxis_1[iTrk][2][0] =  4.5812504e-07\n",
      "minorAxis_2[iTrk][0][0] =  6.0408506\n",
      "minorAxis_2[iTrk][1][0] =  16.602718\n",
      "minorAxis_2[iTrk][2][0] =  0.10317982\n",
      "  \n",
      "majorAxis[iTrk][0][0] =  -0.00040561036\n",
      "majorAxis[iTrk][1][0] =  0.00014461782\n",
      "majorAxis[iTrk][2][0] =  0.0872241\n",
      "minorAxis_1[iTrk][0][0] =  -5.933496\n",
      "minorAxis_1[iTrk][1][0] =  -16.641706\n",
      "minorAxis_1[iTrk][2][0] =  1.0720762e-08\n",
      "minorAxis_2[iTrk][0][0] =  -16.641502\n",
      "minorAxis_2[iTrk][1][0] =  5.9334235\n",
      "minorAxis_2[iTrk][2][0] =  -0.0872241\n",
      "  \n",
      "majorAxis[iTrk][0][0] =  0.00038461428\n",
      "majorAxis[iTrk][1][0] =  -3.4232737e-05\n",
      "majorAxis[iTrk][2][0] =  0.08259597\n",
      "minorAxis_1[iTrk][0][0] =  -1.5663412\n",
      "minorAxis_1[iTrk][1][0] =  -17.598276\n",
      "minorAxis_1[iTrk][2][0] =  3.2106848e-07\n",
      "minorAxis_2[iTrk][0][0] =  -17.598082\n",
      "minorAxis_2[iTrk][1][0] =  1.5663238\n",
      "minorAxis_2[iTrk][2][0] =  0.08259596\n",
      "  \n",
      "majorAxis[iTrk][0][0] =  -0.022277953\n",
      "majorAxis[iTrk][1][0] =  -0.0046837274\n",
      "majorAxis[iTrk][2][0] =  0.63399464\n",
      "minorAxis_1[iTrk][0][0] =  -3.6350286\n",
      "minorAxis_1[iTrk][1][0] =  17.289862\n",
      "minorAxis_1[iTrk][2][0] =  9.566169e-10\n",
      "minorAxis_2[iTrk][0][0] =  17.278727\n",
      "minorAxis_2[iTrk][1][0] =  3.6326876\n",
      "minorAxis_2[iTrk][2][0] =  0.6339946\n",
      "  \n",
      "len(X) =  20000\n",
      "len(Xlist) =  1\n",
      "Loaded dataAA/20K_POCA_kernel_evts_200926.h5 in 28.62 s\n",
      "outer loop X.shape =  (20000, 9, 600)\n",
      "Constructing 18000 event dataset took 0.09228 s\n",
      "x_t.shape =  torch.Size([18000, 9, 600])\n",
      "x_t.shape[0] =  18000\n",
      "x_t.shape[1] =  9\n",
      "x_t.shape =  torch.Size([18000, 9, 600])\n",
      "Loading data...\n",
      "pocaMx.shape =  (20000,)\n",
      "nEvts =  20000\n",
      "len(pocaMx[0]) =  211\n",
      "len(pocaMx[1]) =  21\n",
      "len(pocaMx[2]) =  20\n",
      "len(pocaMx[3]) =  198\n",
      "len(pocaMx[4]) =  233\n",
      "majorAxis.shape =  (20000, 3)\n",
      "minorAxis_1.shape =  (20000, 3)\n",
      "minorAxis_2.shape =  (20000, 3)\n",
      "have entered six_ellipsoid_parameters\n",
      "  \n",
      " \n",
      "  nEvts =  20000\n",
      " iEvt, nTrks =  0 211\n",
      " iEvt, nTrks =  1 21\n",
      " iEvt, nTrks =  2 20\n",
      " iEvt, nTrks =  3 198\n",
      " iEvt, nTrks =  4 233\n",
      " iEvt, nTrks =  5 85\n",
      " iEvt, nTrks =  6 223\n",
      " iEvt, nTrks =  7 425\n",
      " iEvt, nTrks =  8 252\n",
      " iEvt, nTrks =  9 169\n",
      "A.shape =  (20000,)\n",
      "majorAxis[iTrk][0][0] =  -0.00023452607\n",
      "majorAxis[iTrk][1][0] =  -0.00047206535\n",
      "majorAxis[iTrk][2][0] =  0.096502915\n",
      "minorAxis_1[iTrk][0][0] =  -15.822749\n",
      "minorAxis_1[iTrk][1][0] =  7.8608756\n",
      "minorAxis_1[iTrk][2][0] =  -2.6228399e-08\n",
      "minorAxis_2[iTrk][0][0] =  7.860759\n",
      "minorAxis_2[iTrk][1][0] =  15.822513\n",
      "minorAxis_2[iTrk][2][0] =  0.096502915\n",
      "  \n",
      "majorAxis[iTrk][0][0] =  -0.37655562\n",
      "majorAxis[iTrk][1][0] =  0.2768704\n",
      "majorAxis[iTrk][2][0] =  2.8546858\n",
      "minorAxis_1[iTrk][0][0] =  -10.466048\n",
      "minorAxis_1[iTrk][1][0] =  -14.234274\n",
      "minorAxis_1[iTrk][2][0] =  2.2974699e-11\n",
      "minorAxis_2[iTrk][0][0] =  -14.04724\n",
      "minorAxis_2[iTrk][1][0] =  10.328527\n",
      "minorAxis_2[iTrk][2][0] =  -2.8546853\n",
      "  \n",
      "majorAxis[iTrk][0][0] =  -0.024279848\n",
      "majorAxis[iTrk][1][0] =  0.0019689242\n",
      "majorAxis[iTrk][2][0] =  0.65580803\n",
      "minorAxis_1[iTrk][0][0] =  -1.4280497\n",
      "minorAxis_1[iTrk][1][0] =  -17.610037\n",
      "minorAxis_1[iTrk][2][0] =  -6.123401e-10\n",
      "minorAxis_2[iTrk][0][0] =  -17.597902\n",
      "minorAxis_2[iTrk][1][0] =  1.4270656\n",
      "minorAxis_2[iTrk][2][0] =  -0.6558081\n",
      "  \n",
      "majorAxis[iTrk][0][0] =  -0.007825993\n",
      "majorAxis[iTrk][1][0] =  0.004052097\n",
      "majorAxis[iTrk][2][0] =  0.3945435\n",
      "minorAxis_1[iTrk][0][0] =  8.123606\n",
      "minorAxis_1[iTrk][1][0] =  15.689478\n",
      "minorAxis_1[iTrk][2][0] =  -2.4940747e-10\n",
      "minorAxis_2[iTrk][0][0] =  15.685566\n",
      "minorAxis_2[iTrk][1][0] =  -8.12158\n",
      "minorAxis_2[iTrk][2][0] =  0.3945435\n",
      "  \n",
      "majorAxis[iTrk][0][0] =  0.0046102717\n",
      "majorAxis[iTrk][1][0] =  -0.0016007021\n",
      "majorAxis[iTrk][2][0] =  0.29361814\n",
      "minorAxis_1[iTrk][0][0] =  -5.794979\n",
      "minorAxis_1[iTrk][1][0] =  -16.690445\n",
      "minorAxis_1[iTrk][2][0] =  2.4897104e-09\n",
      "minorAxis_2[iTrk][0][0] =  -16.688139\n",
      "minorAxis_2[iTrk][1][0] =  5.794179\n",
      "minorAxis_2[iTrk][2][0] =  0.2936181\n",
      "  \n",
      "majorAxis[iTrk][0][0] =  -0.00020041714\n",
      "majorAxis[iTrk][1][0] =  0.00010468164\n",
      "majorAxis[iTrk][2][0] =  0.06320469\n",
      "minorAxis_1[iTrk][0][0] =  8.179679\n",
      "minorAxis_1[iTrk][1][0] =  15.660318\n",
      "minorAxis_1[iTrk][2][0] =  7.40176e-08\n",
      "minorAxis_2[iTrk][0][0] =  15.660218\n",
      "minorAxis_2[iTrk][1][0] =  -8.179626\n",
      "minorAxis_2[iTrk][2][0] =  0.06320469\n",
      "  \n",
      "majorAxis[iTrk][0][0] =  -0.00020603223\n",
      "majorAxis[iTrk][1][0] =  -0.0005662605\n",
      "majorAxis[iTrk][2][0] =  0.10317981\n",
      "minorAxis_1[iTrk][0][0] =  -16.603\n",
      "minorAxis_1[iTrk][1][0] =  6.040953\n",
      "minorAxis_1[iTrk][2][0] =  4.5812504e-07\n",
      "minorAxis_2[iTrk][0][0] =  6.0408506\n",
      "minorAxis_2[iTrk][1][0] =  16.602718\n",
      "minorAxis_2[iTrk][2][0] =  0.10317982\n",
      "  \n",
      "majorAxis[iTrk][0][0] =  -0.00040561036\n",
      "majorAxis[iTrk][1][0] =  0.00014461782\n",
      "majorAxis[iTrk][2][0] =  0.0872241\n",
      "minorAxis_1[iTrk][0][0] =  -5.933496\n",
      "minorAxis_1[iTrk][1][0] =  -16.641706\n",
      "minorAxis_1[iTrk][2][0] =  1.0720762e-08\n",
      "minorAxis_2[iTrk][0][0] =  -16.641502\n",
      "minorAxis_2[iTrk][1][0] =  5.9334235\n",
      "minorAxis_2[iTrk][2][0] =  -0.0872241\n",
      "  \n",
      "majorAxis[iTrk][0][0] =  0.00038461428\n",
      "majorAxis[iTrk][1][0] =  -3.4232737e-05\n",
      "majorAxis[iTrk][2][0] =  0.08259597\n",
      "minorAxis_1[iTrk][0][0] =  -1.5663412\n",
      "minorAxis_1[iTrk][1][0] =  -17.598276\n",
      "minorAxis_1[iTrk][2][0] =  3.2106848e-07\n",
      "minorAxis_2[iTrk][0][0] =  -17.598082\n",
      "minorAxis_2[iTrk][1][0] =  1.5663238\n",
      "minorAxis_2[iTrk][2][0] =  0.08259596\n",
      "  \n",
      "majorAxis[iTrk][0][0] =  -0.022277953\n",
      "majorAxis[iTrk][1][0] =  -0.0046837274\n",
      "majorAxis[iTrk][2][0] =  0.63399464\n",
      "minorAxis_1[iTrk][0][0] =  -3.6350286\n",
      "minorAxis_1[iTrk][1][0] =  17.289862\n",
      "minorAxis_1[iTrk][2][0] =  9.566169e-10\n",
      "minorAxis_2[iTrk][0][0] =  17.278727\n",
      "minorAxis_2[iTrk][1][0] =  3.6326876\n",
      "minorAxis_2[iTrk][2][0] =  0.6339946\n",
      "  \n"
     ]
    },
    {
     "name": "stdout",
     "output_type": "stream",
     "text": [
      "len(X) =  20000\n",
      "len(Xlist) =  1\n",
      "Loaded dataAA/20K_POCA_kernel_evts_200926.h5 in 28.37 s\n",
      "outer loop X.shape =  (20000, 9, 600)\n",
      "Constructing 2000 event dataset took 0.01359 s\n",
      "x_t.shape =  torch.Size([2000, 9, 600])\n",
      "x_t.shape[0] =  2000\n",
      "x_t.shape[1] =  9\n",
      "x_t.shape =  torch.Size([2000, 9, 600])\n"
     ]
    }
   ],
   "source": [
    "\n",
    "## Training dataset. You can put as many files here as desired.\n",
    "\n",
    "##train_loader = collect_t2kde_data('/share/lazy/pv-finder/20k_evts_for_KDE_learning_200716.h5',\n",
    "train_loader = collect_t2kde_data('dataAA/20K_POCA_kernel_evts_200926.h5',\n",
    "##train_loader = collect_t2kde_data('/share/lazy/pv-finder/test_data_for_KDE_learning_BastilleDay20.h5',\n",
    "                            batch_size=batch_size,\n",
    "## if we are using a larger dataset (240K events, with the datasets above, and 11 GB  of GPU memory),\n",
    "## the dataset will overflow the GPU memory; device=device will allow the data to move back\n",
    "## and forth between the CPU and GPU memory. While this allows use of a larger dataset, it slows\n",
    "## down performance by about 10%.  So comment out when not needed.\n",
    "##                          device=device,\n",
    "                           slice = slice(None,18000)\n",
    "                           )\n",
    "                            \n",
    "# Validation dataset. You can slice to reduce the size.\n",
    "## mds no separate validation set yet,\n",
    "val_loader = collect_t2kde_data('dataAA/20K_POCA_kernel_evts_200926.h5',\n",
    "                            batch_size=batch_size,\n",
    "##                            device=device,\n",
    "                            slice = slice(18000,None)\n",
    "                           )\n"
   ]
  },
  {
   "cell_type": "code",
   "execution_count": 16,
   "metadata": {
    "scrolled": false
   },
   "outputs": [
    {
     "data": {
      "application/javascript": [
       "/* Put everything inside the global mpl namespace */\n",
       "window.mpl = {};\n",
       "\n",
       "\n",
       "mpl.get_websocket_type = function() {\n",
       "    if (typeof(WebSocket) !== 'undefined') {\n",
       "        return WebSocket;\n",
       "    } else if (typeof(MozWebSocket) !== 'undefined') {\n",
       "        return MozWebSocket;\n",
       "    } else {\n",
       "        alert('Your browser does not have WebSocket support. ' +\n",
       "              'Please try Chrome, Safari or Firefox ≥ 6. ' +\n",
       "              'Firefox 4 and 5 are also supported but you ' +\n",
       "              'have to enable WebSockets in about:config.');\n",
       "    };\n",
       "}\n",
       "\n",
       "mpl.figure = function(figure_id, websocket, ondownload, parent_element) {\n",
       "    this.id = figure_id;\n",
       "\n",
       "    this.ws = websocket;\n",
       "\n",
       "    this.supports_binary = (this.ws.binaryType != undefined);\n",
       "\n",
       "    if (!this.supports_binary) {\n",
       "        var warnings = document.getElementById(\"mpl-warnings\");\n",
       "        if (warnings) {\n",
       "            warnings.style.display = 'block';\n",
       "            warnings.textContent = (\n",
       "                \"This browser does not support binary websocket messages. \" +\n",
       "                    \"Performance may be slow.\");\n",
       "        }\n",
       "    }\n",
       "\n",
       "    this.imageObj = new Image();\n",
       "\n",
       "    this.context = undefined;\n",
       "    this.message = undefined;\n",
       "    this.canvas = undefined;\n",
       "    this.rubberband_canvas = undefined;\n",
       "    this.rubberband_context = undefined;\n",
       "    this.format_dropdown = undefined;\n",
       "\n",
       "    this.image_mode = 'full';\n",
       "\n",
       "    this.root = $('<div/>');\n",
       "    this._root_extra_style(this.root)\n",
       "    this.root.attr('style', 'display: inline-block');\n",
       "\n",
       "    $(parent_element).append(this.root);\n",
       "\n",
       "    this._init_header(this);\n",
       "    this._init_canvas(this);\n",
       "    this._init_toolbar(this);\n",
       "\n",
       "    var fig = this;\n",
       "\n",
       "    this.waiting = false;\n",
       "\n",
       "    this.ws.onopen =  function () {\n",
       "            fig.send_message(\"supports_binary\", {value: fig.supports_binary});\n",
       "            fig.send_message(\"send_image_mode\", {});\n",
       "            if (mpl.ratio != 1) {\n",
       "                fig.send_message(\"set_dpi_ratio\", {'dpi_ratio': mpl.ratio});\n",
       "            }\n",
       "            fig.send_message(\"refresh\", {});\n",
       "        }\n",
       "\n",
       "    this.imageObj.onload = function() {\n",
       "            if (fig.image_mode == 'full') {\n",
       "                // Full images could contain transparency (where diff images\n",
       "                // almost always do), so we need to clear the canvas so that\n",
       "                // there is no ghosting.\n",
       "                fig.context.clearRect(0, 0, fig.canvas.width, fig.canvas.height);\n",
       "            }\n",
       "            fig.context.drawImage(fig.imageObj, 0, 0);\n",
       "        };\n",
       "\n",
       "    this.imageObj.onunload = function() {\n",
       "        fig.ws.close();\n",
       "    }\n",
       "\n",
       "    this.ws.onmessage = this._make_on_message_function(this);\n",
       "\n",
       "    this.ondownload = ondownload;\n",
       "}\n",
       "\n",
       "mpl.figure.prototype._init_header = function() {\n",
       "    var titlebar = $(\n",
       "        '<div class=\"ui-dialog-titlebar ui-widget-header ui-corner-all ' +\n",
       "        'ui-helper-clearfix\"/>');\n",
       "    var titletext = $(\n",
       "        '<div class=\"ui-dialog-title\" style=\"width: 100%; ' +\n",
       "        'text-align: center; padding: 3px;\"/>');\n",
       "    titlebar.append(titletext)\n",
       "    this.root.append(titlebar);\n",
       "    this.header = titletext[0];\n",
       "}\n",
       "\n",
       "\n",
       "\n",
       "mpl.figure.prototype._canvas_extra_style = function(canvas_div) {\n",
       "\n",
       "}\n",
       "\n",
       "\n",
       "mpl.figure.prototype._root_extra_style = function(canvas_div) {\n",
       "\n",
       "}\n",
       "\n",
       "mpl.figure.prototype._init_canvas = function() {\n",
       "    var fig = this;\n",
       "\n",
       "    var canvas_div = $('<div/>');\n",
       "\n",
       "    canvas_div.attr('style', 'position: relative; clear: both; outline: 0');\n",
       "\n",
       "    function canvas_keyboard_event(event) {\n",
       "        return fig.key_event(event, event['data']);\n",
       "    }\n",
       "\n",
       "    canvas_div.keydown('key_press', canvas_keyboard_event);\n",
       "    canvas_div.keyup('key_release', canvas_keyboard_event);\n",
       "    this.canvas_div = canvas_div\n",
       "    this._canvas_extra_style(canvas_div)\n",
       "    this.root.append(canvas_div);\n",
       "\n",
       "    var canvas = $('<canvas/>');\n",
       "    canvas.addClass('mpl-canvas');\n",
       "    canvas.attr('style', \"left: 0; top: 0; z-index: 0; outline: 0\")\n",
       "\n",
       "    this.canvas = canvas[0];\n",
       "    this.context = canvas[0].getContext(\"2d\");\n",
       "\n",
       "    var backingStore = this.context.backingStorePixelRatio ||\n",
       "\tthis.context.webkitBackingStorePixelRatio ||\n",
       "\tthis.context.mozBackingStorePixelRatio ||\n",
       "\tthis.context.msBackingStorePixelRatio ||\n",
       "\tthis.context.oBackingStorePixelRatio ||\n",
       "\tthis.context.backingStorePixelRatio || 1;\n",
       "\n",
       "    mpl.ratio = (window.devicePixelRatio || 1) / backingStore;\n",
       "\n",
       "    var rubberband = $('<canvas/>');\n",
       "    rubberband.attr('style', \"position: absolute; left: 0; top: 0; z-index: 1;\")\n",
       "\n",
       "    var pass_mouse_events = true;\n",
       "\n",
       "    canvas_div.resizable({\n",
       "        start: function(event, ui) {\n",
       "            pass_mouse_events = false;\n",
       "        },\n",
       "        resize: function(event, ui) {\n",
       "            fig.request_resize(ui.size.width, ui.size.height);\n",
       "        },\n",
       "        stop: function(event, ui) {\n",
       "            pass_mouse_events = true;\n",
       "            fig.request_resize(ui.size.width, ui.size.height);\n",
       "        },\n",
       "    });\n",
       "\n",
       "    function mouse_event_fn(event) {\n",
       "        if (pass_mouse_events)\n",
       "            return fig.mouse_event(event, event['data']);\n",
       "    }\n",
       "\n",
       "    rubberband.mousedown('button_press', mouse_event_fn);\n",
       "    rubberband.mouseup('button_release', mouse_event_fn);\n",
       "    // Throttle sequential mouse events to 1 every 20ms.\n",
       "    rubberband.mousemove('motion_notify', mouse_event_fn);\n",
       "\n",
       "    rubberband.mouseenter('figure_enter', mouse_event_fn);\n",
       "    rubberband.mouseleave('figure_leave', mouse_event_fn);\n",
       "\n",
       "    canvas_div.on(\"wheel\", function (event) {\n",
       "        event = event.originalEvent;\n",
       "        event['data'] = 'scroll'\n",
       "        if (event.deltaY < 0) {\n",
       "            event.step = 1;\n",
       "        } else {\n",
       "            event.step = -1;\n",
       "        }\n",
       "        mouse_event_fn(event);\n",
       "    });\n",
       "\n",
       "    canvas_div.append(canvas);\n",
       "    canvas_div.append(rubberband);\n",
       "\n",
       "    this.rubberband = rubberband;\n",
       "    this.rubberband_canvas = rubberband[0];\n",
       "    this.rubberband_context = rubberband[0].getContext(\"2d\");\n",
       "    this.rubberband_context.strokeStyle = \"#000000\";\n",
       "\n",
       "    this._resize_canvas = function(width, height) {\n",
       "        // Keep the size of the canvas, canvas container, and rubber band\n",
       "        // canvas in synch.\n",
       "        canvas_div.css('width', width)\n",
       "        canvas_div.css('height', height)\n",
       "\n",
       "        canvas.attr('width', width * mpl.ratio);\n",
       "        canvas.attr('height', height * mpl.ratio);\n",
       "        canvas.attr('style', 'width: ' + width + 'px; height: ' + height + 'px;');\n",
       "\n",
       "        rubberband.attr('width', width);\n",
       "        rubberband.attr('height', height);\n",
       "    }\n",
       "\n",
       "    // Set the figure to an initial 600x600px, this will subsequently be updated\n",
       "    // upon first draw.\n",
       "    this._resize_canvas(600, 600);\n",
       "\n",
       "    // Disable right mouse context menu.\n",
       "    $(this.rubberband_canvas).bind(\"contextmenu\",function(e){\n",
       "        return false;\n",
       "    });\n",
       "\n",
       "    function set_focus () {\n",
       "        canvas.focus();\n",
       "        canvas_div.focus();\n",
       "    }\n",
       "\n",
       "    window.setTimeout(set_focus, 100);\n",
       "}\n",
       "\n",
       "mpl.figure.prototype._init_toolbar = function() {\n",
       "    var fig = this;\n",
       "\n",
       "    var nav_element = $('<div/>');\n",
       "    nav_element.attr('style', 'width: 100%');\n",
       "    this.root.append(nav_element);\n",
       "\n",
       "    // Define a callback function for later on.\n",
       "    function toolbar_event(event) {\n",
       "        return fig.toolbar_button_onclick(event['data']);\n",
       "    }\n",
       "    function toolbar_mouse_event(event) {\n",
       "        return fig.toolbar_button_onmouseover(event['data']);\n",
       "    }\n",
       "\n",
       "    for(var toolbar_ind in mpl.toolbar_items) {\n",
       "        var name = mpl.toolbar_items[toolbar_ind][0];\n",
       "        var tooltip = mpl.toolbar_items[toolbar_ind][1];\n",
       "        var image = mpl.toolbar_items[toolbar_ind][2];\n",
       "        var method_name = mpl.toolbar_items[toolbar_ind][3];\n",
       "\n",
       "        if (!name) {\n",
       "            // put a spacer in here.\n",
       "            continue;\n",
       "        }\n",
       "        var button = $('<button/>');\n",
       "        button.addClass('ui-button ui-widget ui-state-default ui-corner-all ' +\n",
       "                        'ui-button-icon-only');\n",
       "        button.attr('role', 'button');\n",
       "        button.attr('aria-disabled', 'false');\n",
       "        button.click(method_name, toolbar_event);\n",
       "        button.mouseover(tooltip, toolbar_mouse_event);\n",
       "\n",
       "        var icon_img = $('<span/>');\n",
       "        icon_img.addClass('ui-button-icon-primary ui-icon');\n",
       "        icon_img.addClass(image);\n",
       "        icon_img.addClass('ui-corner-all');\n",
       "\n",
       "        var tooltip_span = $('<span/>');\n",
       "        tooltip_span.addClass('ui-button-text');\n",
       "        tooltip_span.html(tooltip);\n",
       "\n",
       "        button.append(icon_img);\n",
       "        button.append(tooltip_span);\n",
       "\n",
       "        nav_element.append(button);\n",
       "    }\n",
       "\n",
       "    var fmt_picker_span = $('<span/>');\n",
       "\n",
       "    var fmt_picker = $('<select/>');\n",
       "    fmt_picker.addClass('mpl-toolbar-option ui-widget ui-widget-content');\n",
       "    fmt_picker_span.append(fmt_picker);\n",
       "    nav_element.append(fmt_picker_span);\n",
       "    this.format_dropdown = fmt_picker[0];\n",
       "\n",
       "    for (var ind in mpl.extensions) {\n",
       "        var fmt = mpl.extensions[ind];\n",
       "        var option = $(\n",
       "            '<option/>', {selected: fmt === mpl.default_extension}).html(fmt);\n",
       "        fmt_picker.append(option);\n",
       "    }\n",
       "\n",
       "    // Add hover states to the ui-buttons\n",
       "    $( \".ui-button\" ).hover(\n",
       "        function() { $(this).addClass(\"ui-state-hover\");},\n",
       "        function() { $(this).removeClass(\"ui-state-hover\");}\n",
       "    );\n",
       "\n",
       "    var status_bar = $('<span class=\"mpl-message\"/>');\n",
       "    nav_element.append(status_bar);\n",
       "    this.message = status_bar[0];\n",
       "}\n",
       "\n",
       "mpl.figure.prototype.request_resize = function(x_pixels, y_pixels) {\n",
       "    // Request matplotlib to resize the figure. Matplotlib will then trigger a resize in the client,\n",
       "    // which will in turn request a refresh of the image.\n",
       "    this.send_message('resize', {'width': x_pixels, 'height': y_pixels});\n",
       "}\n",
       "\n",
       "mpl.figure.prototype.send_message = function(type, properties) {\n",
       "    properties['type'] = type;\n",
       "    properties['figure_id'] = this.id;\n",
       "    this.ws.send(JSON.stringify(properties));\n",
       "}\n",
       "\n",
       "mpl.figure.prototype.send_draw_message = function() {\n",
       "    if (!this.waiting) {\n",
       "        this.waiting = true;\n",
       "        this.ws.send(JSON.stringify({type: \"draw\", figure_id: this.id}));\n",
       "    }\n",
       "}\n",
       "\n",
       "\n",
       "mpl.figure.prototype.handle_save = function(fig, msg) {\n",
       "    var format_dropdown = fig.format_dropdown;\n",
       "    var format = format_dropdown.options[format_dropdown.selectedIndex].value;\n",
       "    fig.ondownload(fig, format);\n",
       "}\n",
       "\n",
       "\n",
       "mpl.figure.prototype.handle_resize = function(fig, msg) {\n",
       "    var size = msg['size'];\n",
       "    if (size[0] != fig.canvas.width || size[1] != fig.canvas.height) {\n",
       "        fig._resize_canvas(size[0], size[1]);\n",
       "        fig.send_message(\"refresh\", {});\n",
       "    };\n",
       "}\n",
       "\n",
       "mpl.figure.prototype.handle_rubberband = function(fig, msg) {\n",
       "    var x0 = msg['x0'] / mpl.ratio;\n",
       "    var y0 = (fig.canvas.height - msg['y0']) / mpl.ratio;\n",
       "    var x1 = msg['x1'] / mpl.ratio;\n",
       "    var y1 = (fig.canvas.height - msg['y1']) / mpl.ratio;\n",
       "    x0 = Math.floor(x0) + 0.5;\n",
       "    y0 = Math.floor(y0) + 0.5;\n",
       "    x1 = Math.floor(x1) + 0.5;\n",
       "    y1 = Math.floor(y1) + 0.5;\n",
       "    var min_x = Math.min(x0, x1);\n",
       "    var min_y = Math.min(y0, y1);\n",
       "    var width = Math.abs(x1 - x0);\n",
       "    var height = Math.abs(y1 - y0);\n",
       "\n",
       "    fig.rubberband_context.clearRect(\n",
       "        0, 0, fig.canvas.width / mpl.ratio, fig.canvas.height / mpl.ratio);\n",
       "\n",
       "    fig.rubberband_context.strokeRect(min_x, min_y, width, height);\n",
       "}\n",
       "\n",
       "mpl.figure.prototype.handle_figure_label = function(fig, msg) {\n",
       "    // Updates the figure title.\n",
       "    fig.header.textContent = msg['label'];\n",
       "}\n",
       "\n",
       "mpl.figure.prototype.handle_cursor = function(fig, msg) {\n",
       "    var cursor = msg['cursor'];\n",
       "    switch(cursor)\n",
       "    {\n",
       "    case 0:\n",
       "        cursor = 'pointer';\n",
       "        break;\n",
       "    case 1:\n",
       "        cursor = 'default';\n",
       "        break;\n",
       "    case 2:\n",
       "        cursor = 'crosshair';\n",
       "        break;\n",
       "    case 3:\n",
       "        cursor = 'move';\n",
       "        break;\n",
       "    }\n",
       "    fig.rubberband_canvas.style.cursor = cursor;\n",
       "}\n",
       "\n",
       "mpl.figure.prototype.handle_message = function(fig, msg) {\n",
       "    fig.message.textContent = msg['message'];\n",
       "}\n",
       "\n",
       "mpl.figure.prototype.handle_draw = function(fig, msg) {\n",
       "    // Request the server to send over a new figure.\n",
       "    fig.send_draw_message();\n",
       "}\n",
       "\n",
       "mpl.figure.prototype.handle_image_mode = function(fig, msg) {\n",
       "    fig.image_mode = msg['mode'];\n",
       "}\n",
       "\n",
       "mpl.figure.prototype.updated_canvas_event = function() {\n",
       "    // Called whenever the canvas gets updated.\n",
       "    this.send_message(\"ack\", {});\n",
       "}\n",
       "\n",
       "// A function to construct a web socket function for onmessage handling.\n",
       "// Called in the figure constructor.\n",
       "mpl.figure.prototype._make_on_message_function = function(fig) {\n",
       "    return function socket_on_message(evt) {\n",
       "        if (evt.data instanceof Blob) {\n",
       "            /* FIXME: We get \"Resource interpreted as Image but\n",
       "             * transferred with MIME type text/plain:\" errors on\n",
       "             * Chrome.  But how to set the MIME type?  It doesn't seem\n",
       "             * to be part of the websocket stream */\n",
       "            evt.data.type = \"image/png\";\n",
       "\n",
       "            /* Free the memory for the previous frames */\n",
       "            if (fig.imageObj.src) {\n",
       "                (window.URL || window.webkitURL).revokeObjectURL(\n",
       "                    fig.imageObj.src);\n",
       "            }\n",
       "\n",
       "            fig.imageObj.src = (window.URL || window.webkitURL).createObjectURL(\n",
       "                evt.data);\n",
       "            fig.updated_canvas_event();\n",
       "            fig.waiting = false;\n",
       "            return;\n",
       "        }\n",
       "        else if (typeof evt.data === 'string' && evt.data.slice(0, 21) == \"data:image/png;base64\") {\n",
       "            fig.imageObj.src = evt.data;\n",
       "            fig.updated_canvas_event();\n",
       "            fig.waiting = false;\n",
       "            return;\n",
       "        }\n",
       "\n",
       "        var msg = JSON.parse(evt.data);\n",
       "        var msg_type = msg['type'];\n",
       "\n",
       "        // Call the  \"handle_{type}\" callback, which takes\n",
       "        // the figure and JSON message as its only arguments.\n",
       "        try {\n",
       "            var callback = fig[\"handle_\" + msg_type];\n",
       "        } catch (e) {\n",
       "            console.log(\"No handler for the '\" + msg_type + \"' message type: \", msg);\n",
       "            return;\n",
       "        }\n",
       "\n",
       "        if (callback) {\n",
       "            try {\n",
       "                // console.log(\"Handling '\" + msg_type + \"' message: \", msg);\n",
       "                callback(fig, msg);\n",
       "            } catch (e) {\n",
       "                console.log(\"Exception inside the 'handler_\" + msg_type + \"' callback:\", e, e.stack, msg);\n",
       "            }\n",
       "        }\n",
       "    };\n",
       "}\n",
       "\n",
       "// from http://stackoverflow.com/questions/1114465/getting-mouse-location-in-canvas\n",
       "mpl.findpos = function(e) {\n",
       "    //this section is from http://www.quirksmode.org/js/events_properties.html\n",
       "    var targ;\n",
       "    if (!e)\n",
       "        e = window.event;\n",
       "    if (e.target)\n",
       "        targ = e.target;\n",
       "    else if (e.srcElement)\n",
       "        targ = e.srcElement;\n",
       "    if (targ.nodeType == 3) // defeat Safari bug\n",
       "        targ = targ.parentNode;\n",
       "\n",
       "    // jQuery normalizes the pageX and pageY\n",
       "    // pageX,Y are the mouse positions relative to the document\n",
       "    // offset() returns the position of the element relative to the document\n",
       "    var x = e.pageX - $(targ).offset().left;\n",
       "    var y = e.pageY - $(targ).offset().top;\n",
       "\n",
       "    return {\"x\": x, \"y\": y};\n",
       "};\n",
       "\n",
       "/*\n",
       " * return a copy of an object with only non-object keys\n",
       " * we need this to avoid circular references\n",
       " * http://stackoverflow.com/a/24161582/3208463\n",
       " */\n",
       "function simpleKeys (original) {\n",
       "  return Object.keys(original).reduce(function (obj, key) {\n",
       "    if (typeof original[key] !== 'object')\n",
       "        obj[key] = original[key]\n",
       "    return obj;\n",
       "  }, {});\n",
       "}\n",
       "\n",
       "mpl.figure.prototype.mouse_event = function(event, name) {\n",
       "    var canvas_pos = mpl.findpos(event)\n",
       "\n",
       "    if (name === 'button_press')\n",
       "    {\n",
       "        this.canvas.focus();\n",
       "        this.canvas_div.focus();\n",
       "    }\n",
       "\n",
       "    var x = canvas_pos.x * mpl.ratio;\n",
       "    var y = canvas_pos.y * mpl.ratio;\n",
       "\n",
       "    this.send_message(name, {x: x, y: y, button: event.button,\n",
       "                             step: event.step,\n",
       "                             guiEvent: simpleKeys(event)});\n",
       "\n",
       "    /* This prevents the web browser from automatically changing to\n",
       "     * the text insertion cursor when the button is pressed.  We want\n",
       "     * to control all of the cursor setting manually through the\n",
       "     * 'cursor' event from matplotlib */\n",
       "    event.preventDefault();\n",
       "    return false;\n",
       "}\n",
       "\n",
       "mpl.figure.prototype._key_event_extra = function(event, name) {\n",
       "    // Handle any extra behaviour associated with a key event\n",
       "}\n",
       "\n",
       "mpl.figure.prototype.key_event = function(event, name) {\n",
       "\n",
       "    // Prevent repeat events\n",
       "    if (name == 'key_press')\n",
       "    {\n",
       "        if (event.which === this._key)\n",
       "            return;\n",
       "        else\n",
       "            this._key = event.which;\n",
       "    }\n",
       "    if (name == 'key_release')\n",
       "        this._key = null;\n",
       "\n",
       "    var value = '';\n",
       "    if (event.ctrlKey && event.which != 17)\n",
       "        value += \"ctrl+\";\n",
       "    if (event.altKey && event.which != 18)\n",
       "        value += \"alt+\";\n",
       "    if (event.shiftKey && event.which != 16)\n",
       "        value += \"shift+\";\n",
       "\n",
       "    value += 'k';\n",
       "    value += event.which.toString();\n",
       "\n",
       "    this._key_event_extra(event, name);\n",
       "\n",
       "    this.send_message(name, {key: value,\n",
       "                             guiEvent: simpleKeys(event)});\n",
       "    return false;\n",
       "}\n",
       "\n",
       "mpl.figure.prototype.toolbar_button_onclick = function(name) {\n",
       "    if (name == 'download') {\n",
       "        this.handle_save(this, null);\n",
       "    } else {\n",
       "        this.send_message(\"toolbar_button\", {name: name});\n",
       "    }\n",
       "};\n",
       "\n",
       "mpl.figure.prototype.toolbar_button_onmouseover = function(tooltip) {\n",
       "    this.message.textContent = tooltip;\n",
       "};\n",
       "mpl.toolbar_items = [[\"Home\", \"Reset original view\", \"fa fa-home icon-home\", \"home\"], [\"Back\", \"Back to previous view\", \"fa fa-arrow-left icon-arrow-left\", \"back\"], [\"Forward\", \"Forward to next view\", \"fa fa-arrow-right icon-arrow-right\", \"forward\"], [\"\", \"\", \"\", \"\"], [\"Pan\", \"Pan axes with left mouse, zoom with right\", \"fa fa-arrows icon-move\", \"pan\"], [\"Zoom\", \"Zoom to rectangle\", \"fa fa-square-o icon-check-empty\", \"zoom\"], [\"\", \"\", \"\", \"\"], [\"Download\", \"Download plot\", \"fa fa-floppy-o icon-save\", \"download\"]];\n",
       "\n",
       "mpl.extensions = [\"eps\", \"jpeg\", \"pdf\", \"png\", \"ps\", \"raw\", \"svg\", \"tif\"];\n",
       "\n",
       "mpl.default_extension = \"png\";var comm_websocket_adapter = function(comm) {\n",
       "    // Create a \"websocket\"-like object which calls the given IPython comm\n",
       "    // object with the appropriate methods. Currently this is a non binary\n",
       "    // socket, so there is still some room for performance tuning.\n",
       "    var ws = {};\n",
       "\n",
       "    ws.close = function() {\n",
       "        comm.close()\n",
       "    };\n",
       "    ws.send = function(m) {\n",
       "        //console.log('sending', m);\n",
       "        comm.send(m);\n",
       "    };\n",
       "    // Register the callback with on_msg.\n",
       "    comm.on_msg(function(msg) {\n",
       "        //console.log('receiving', msg['content']['data'], msg);\n",
       "        // Pass the mpl event to the overridden (by mpl) onmessage function.\n",
       "        ws.onmessage(msg['content']['data'])\n",
       "    });\n",
       "    return ws;\n",
       "}\n",
       "\n",
       "mpl.mpl_figure_comm = function(comm, msg) {\n",
       "    // This is the function which gets called when the mpl process\n",
       "    // starts-up an IPython Comm through the \"matplotlib\" channel.\n",
       "\n",
       "    var id = msg.content.data.id;\n",
       "    // Get hold of the div created by the display call when the Comm\n",
       "    // socket was opened in Python.\n",
       "    var element = $(\"#\" + id);\n",
       "    var ws_proxy = comm_websocket_adapter(comm)\n",
       "\n",
       "    function ondownload(figure, format) {\n",
       "        window.open(figure.imageObj.src);\n",
       "    }\n",
       "\n",
       "    var fig = new mpl.figure(id, ws_proxy,\n",
       "                           ondownload,\n",
       "                           element.get(0));\n",
       "\n",
       "    // Call onopen now - mpl needs it, as it is assuming we've passed it a real\n",
       "    // web socket which is closed, not our websocket->open comm proxy.\n",
       "    ws_proxy.onopen();\n",
       "\n",
       "    fig.parent_element = element.get(0);\n",
       "    fig.cell_info = mpl.find_output_cell(\"<div id='\" + id + \"'></div>\");\n",
       "    if (!fig.cell_info) {\n",
       "        console.error(\"Failed to find cell for figure\", id, fig);\n",
       "        return;\n",
       "    }\n",
       "\n",
       "    var output_index = fig.cell_info[2]\n",
       "    var cell = fig.cell_info[0];\n",
       "\n",
       "};\n",
       "\n",
       "mpl.figure.prototype.handle_close = function(fig, msg) {\n",
       "    var width = fig.canvas.width/mpl.ratio\n",
       "    fig.root.unbind('remove')\n",
       "\n",
       "    // Update the output cell to use the data from the current canvas.\n",
       "    fig.push_to_output();\n",
       "    var dataURL = fig.canvas.toDataURL();\n",
       "    // Re-enable the keyboard manager in IPython - without this line, in FF,\n",
       "    // the notebook keyboard shortcuts fail.\n",
       "    IPython.keyboard_manager.enable()\n",
       "    $(fig.parent_element).html('<img src=\"' + dataURL + '\" width=\"' + width + '\">');\n",
       "    fig.close_ws(fig, msg);\n",
       "}\n",
       "\n",
       "mpl.figure.prototype.close_ws = function(fig, msg){\n",
       "    fig.send_message('closing', msg);\n",
       "    // fig.ws.close()\n",
       "}\n",
       "\n",
       "mpl.figure.prototype.push_to_output = function(remove_interactive) {\n",
       "    // Turn the data on the canvas into data in the output cell.\n",
       "    var width = this.canvas.width/mpl.ratio\n",
       "    var dataURL = this.canvas.toDataURL();\n",
       "    this.cell_info[1]['text/html'] = '<img src=\"' + dataURL + '\" width=\"' + width + '\">';\n",
       "}\n",
       "\n",
       "mpl.figure.prototype.updated_canvas_event = function() {\n",
       "    // Tell IPython that the notebook contents must change.\n",
       "    IPython.notebook.set_dirty(true);\n",
       "    this.send_message(\"ack\", {});\n",
       "    var fig = this;\n",
       "    // Wait a second, then push the new image to the DOM so\n",
       "    // that it is saved nicely (might be nice to debounce this).\n",
       "    setTimeout(function () { fig.push_to_output() }, 1000);\n",
       "}\n",
       "\n",
       "mpl.figure.prototype._init_toolbar = function() {\n",
       "    var fig = this;\n",
       "\n",
       "    var nav_element = $('<div/>');\n",
       "    nav_element.attr('style', 'width: 100%');\n",
       "    this.root.append(nav_element);\n",
       "\n",
       "    // Define a callback function for later on.\n",
       "    function toolbar_event(event) {\n",
       "        return fig.toolbar_button_onclick(event['data']);\n",
       "    }\n",
       "    function toolbar_mouse_event(event) {\n",
       "        return fig.toolbar_button_onmouseover(event['data']);\n",
       "    }\n",
       "\n",
       "    for(var toolbar_ind in mpl.toolbar_items){\n",
       "        var name = mpl.toolbar_items[toolbar_ind][0];\n",
       "        var tooltip = mpl.toolbar_items[toolbar_ind][1];\n",
       "        var image = mpl.toolbar_items[toolbar_ind][2];\n",
       "        var method_name = mpl.toolbar_items[toolbar_ind][3];\n",
       "\n",
       "        if (!name) { continue; };\n",
       "\n",
       "        var button = $('<button class=\"btn btn-default\" href=\"#\" title=\"' + name + '\"><i class=\"fa ' + image + ' fa-lg\"></i></button>');\n",
       "        button.click(method_name, toolbar_event);\n",
       "        button.mouseover(tooltip, toolbar_mouse_event);\n",
       "        nav_element.append(button);\n",
       "    }\n",
       "\n",
       "    // Add the status bar.\n",
       "    var status_bar = $('<span class=\"mpl-message\" style=\"text-align:right; float: right;\"/>');\n",
       "    nav_element.append(status_bar);\n",
       "    this.message = status_bar[0];\n",
       "\n",
       "    // Add the close button to the window.\n",
       "    var buttongrp = $('<div class=\"btn-group inline pull-right\"></div>');\n",
       "    var button = $('<button class=\"btn btn-mini btn-primary\" href=\"#\" title=\"Stop Interaction\"><i class=\"fa fa-power-off icon-remove icon-large\"></i></button>');\n",
       "    button.click(function (evt) { fig.handle_close(fig, {}); } );\n",
       "    button.mouseover('Stop Interaction', toolbar_mouse_event);\n",
       "    buttongrp.append(button);\n",
       "    var titlebar = this.root.find($('.ui-dialog-titlebar'));\n",
       "    titlebar.prepend(buttongrp);\n",
       "}\n",
       "\n",
       "mpl.figure.prototype._root_extra_style = function(el){\n",
       "    var fig = this\n",
       "    el.on(\"remove\", function(){\n",
       "\tfig.close_ws(fig, {});\n",
       "    });\n",
       "}\n",
       "\n",
       "mpl.figure.prototype._canvas_extra_style = function(el){\n",
       "    // this is important to make the div 'focusable\n",
       "    el.attr('tabindex', 0)\n",
       "    // reach out to IPython and tell the keyboard manager to turn it's self\n",
       "    // off when our div gets focus\n",
       "\n",
       "    // location in version 3\n",
       "    if (IPython.notebook.keyboard_manager) {\n",
       "        IPython.notebook.keyboard_manager.register_events(el);\n",
       "    }\n",
       "    else {\n",
       "        // location in version 2\n",
       "        IPython.keyboard_manager.register_events(el);\n",
       "    }\n",
       "\n",
       "}\n",
       "\n",
       "mpl.figure.prototype._key_event_extra = function(event, name) {\n",
       "    var manager = IPython.notebook.keyboard_manager;\n",
       "    if (!manager)\n",
       "        manager = IPython.keyboard_manager;\n",
       "\n",
       "    // Check for shift+enter\n",
       "    if (event.shiftKey && event.which == 13) {\n",
       "        this.canvas_div.blur();\n",
       "        // select the cell after this one\n",
       "        var index = IPython.notebook.find_cell_index(this.cell_info[0]);\n",
       "        IPython.notebook.select(index + 1);\n",
       "    }\n",
       "}\n",
       "\n",
       "mpl.figure.prototype.handle_save = function(fig, msg) {\n",
       "    fig.ondownload(fig, null);\n",
       "}\n",
       "\n",
       "\n",
       "mpl.find_output_cell = function(html_output) {\n",
       "    // Return the cell and output element which can be found *uniquely* in the notebook.\n",
       "    // Note - this is a bit hacky, but it is done because the \"notebook_saving.Notebook\"\n",
       "    // IPython event is triggered only after the cells have been serialised, which for\n",
       "    // our purposes (turning an active figure into a static one), is too late.\n",
       "    var cells = IPython.notebook.get_cells();\n",
       "    var ncells = cells.length;\n",
       "    for (var i=0; i<ncells; i++) {\n",
       "        var cell = cells[i];\n",
       "        if (cell.cell_type === 'code'){\n",
       "            for (var j=0; j<cell.output_area.outputs.length; j++) {\n",
       "                var data = cell.output_area.outputs[j];\n",
       "                if (data.data) {\n",
       "                    // IPython >= 3 moved mimebundle to data attribute of output\n",
       "                    data = data.data;\n",
       "                }\n",
       "                if (data['text/html'] == html_output) {\n",
       "                    return [cell, data, j];\n",
       "                }\n",
       "            }\n",
       "        }\n",
       "    }\n",
       "}\n",
       "\n",
       "// Register the function which deals with the matplotlib target/channel.\n",
       "// The kernel may be null if the page has been refreshed.\n",
       "if (IPython.notebook.kernel != null) {\n",
       "    IPython.notebook.kernel.comm_manager.register_target('matplotlib', mpl.mpl_figure_comm);\n",
       "}\n"
      ],
      "text/plain": [
       "<IPython.core.display.Javascript object>"
      ]
     },
     "metadata": {},
     "output_type": "display_data"
    },
    {
     "data": {
      "text/html": [
       "<img src=\"data:image/png;base64,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\" width=\"999.75\">"
      ],
      "text/plain": [
       "<IPython.core.display.HTML object>"
      ]
     },
     "metadata": {},
     "output_type": "display_data"
    }
   ],
   "source": [
    "ax, tax, lax, lines = dual_train_plots()\n",
    "fig = ax.figure\n",
    "plt.tight_layout()"
   ]
  },
  {
   "cell_type": "code",
   "execution_count": 17,
   "metadata": {
    "scrolled": false
   },
   "outputs": [
    {
     "name": "stdout",
     "output_type": "stream",
     "text": [
      "Number of batches: train = 1125, val = 125\n"
     ]
    },
    {
     "data": {
      "application/vnd.jupyter.widget-view+json": {
       "model_id": "521463f6c9554ecdb2f71542e9e130d5",
       "version_major": 2,
       "version_minor": 0
      },
      "text/plain": [
       "HBox(children=(FloatProgress(value=0.0, description='Epochs', layout=Layout(flex='2'), max=800.0, style=Progre…"
      ]
     },
     "metadata": {},
     "output_type": "display_data"
    },
    {
     "name": "stdout",
     "output_type": "stream",
     "text": [
      "Number of batches: train = 1125, val = 125\n"
     ]
    },
    {
     "data": {
      "application/vnd.jupyter.widget-view+json": {
       "model_id": "",
       "version_major": 2,
       "version_minor": 0
      },
      "text/plain": [
       "HBox(children=(FloatProgress(value=0.0, description='Training', layout=Layout(flex='2'), max=1125.0, style=Pro…"
      ]
     },
     "metadata": {},
     "output_type": "display_data"
    },
    {
     "name": "stdout",
     "output_type": "stream",
     "text": [
      "Epoch 0: train=1.16537, val=1.1385, took 37.308 s\n"
     ]
    },
    {
     "data": {
      "application/vnd.jupyter.widget-view+json": {
       "model_id": "",
       "version_major": 2,
       "version_minor": 0
      },
      "text/plain": [
       "HBox(children=(FloatProgress(value=0.0, description='Training', layout=Layout(flex='2'), max=1125.0, style=Pro…"
      ]
     },
     "metadata": {},
     "output_type": "display_data"
    },
    {
     "name": "stdout",
     "output_type": "stream",
     "text": [
      "Epoch 1: train=1.16507, val=1.05409, took 36.979 s\n"
     ]
    },
    {
     "data": {
      "application/vnd.jupyter.widget-view+json": {
       "model_id": "",
       "version_major": 2,
       "version_minor": 0
      },
      "text/plain": [
       "HBox(children=(FloatProgress(value=0.0, description='Training', layout=Layout(flex='2'), max=1125.0, style=Pro…"
      ]
     },
     "metadata": {},
     "output_type": "display_data"
    },
    {
     "name": "stdout",
     "output_type": "stream",
     "text": [
      "Epoch 2: train=1.16003, val=1.12296, took 37.168 s\n"
     ]
    },
    {
     "data": {
      "application/vnd.jupyter.widget-view+json": {
       "model_id": "",
       "version_major": 2,
       "version_minor": 0
      },
      "text/plain": [
       "HBox(children=(FloatProgress(value=0.0, description='Training', layout=Layout(flex='2'), max=1125.0, style=Pro…"
      ]
     },
     "metadata": {},
     "output_type": "display_data"
    },
    {
     "name": "stdout",
     "output_type": "stream",
     "text": [
      "Epoch 3: train=1.16661, val=1.07832, took 37.146 s\n"
     ]
    },
    {
     "data": {
      "application/vnd.jupyter.widget-view+json": {
       "model_id": "",
       "version_major": 2,
       "version_minor": 0
      },
      "text/plain": [
       "HBox(children=(FloatProgress(value=0.0, description='Training', layout=Layout(flex='2'), max=1125.0, style=Pro…"
      ]
     },
     "metadata": {},
     "output_type": "display_data"
    },
    {
     "name": "stdout",
     "output_type": "stream",
     "text": [
      "Epoch 4: train=1.17424, val=1.07604, took 37.474 s\n"
     ]
    },
    {
     "data": {
      "application/vnd.jupyter.widget-view+json": {
       "model_id": "",
       "version_major": 2,
       "version_minor": 0
      },
      "text/plain": [
       "HBox(children=(FloatProgress(value=0.0, description='Training', layout=Layout(flex='2'), max=1125.0, style=Pro…"
      ]
     },
     "metadata": {},
     "output_type": "display_data"
    },
    {
     "name": "stdout",
     "output_type": "stream",
     "text": [
      "Epoch 5: train=1.1613, val=1.05239, took 37.062 s\n"
     ]
    },
    {
     "data": {
      "application/vnd.jupyter.widget-view+json": {
       "model_id": "",
       "version_major": 2,
       "version_minor": 0
      },
      "text/plain": [
       "HBox(children=(FloatProgress(value=0.0, description='Training', layout=Layout(flex='2'), max=1125.0, style=Pro…"
      ]
     },
     "metadata": {},
     "output_type": "display_data"
    },
    {
     "name": "stdout",
     "output_type": "stream",
     "text": [
      "Epoch 6: train=1.16545, val=1.06258, took 37.049 s\n"
     ]
    },
    {
     "data": {
      "application/vnd.jupyter.widget-view+json": {
       "model_id": "",
       "version_major": 2,
       "version_minor": 0
      },
      "text/plain": [
       "HBox(children=(FloatProgress(value=0.0, description='Training', layout=Layout(flex='2'), max=1125.0, style=Pro…"
      ]
     },
     "metadata": {},
     "output_type": "display_data"
    },
    {
     "name": "stdout",
     "output_type": "stream",
     "text": [
      "Epoch 7: train=1.1673, val=1.07839, took 37.117 s\n"
     ]
    },
    {
     "data": {
      "application/vnd.jupyter.widget-view+json": {
       "model_id": "",
       "version_major": 2,
       "version_minor": 0
      },
      "text/plain": [
       "HBox(children=(FloatProgress(value=0.0, description='Training', layout=Layout(flex='2'), max=1125.0, style=Pro…"
      ]
     },
     "metadata": {},
     "output_type": "display_data"
    },
    {
     "name": "stdout",
     "output_type": "stream",
     "text": [
      "Epoch 8: train=1.158, val=1.05844, took 37.021 s\n"
     ]
    },
    {
     "data": {
      "application/vnd.jupyter.widget-view+json": {
       "model_id": "",
       "version_major": 2,
       "version_minor": 0
      },
      "text/plain": [
       "HBox(children=(FloatProgress(value=0.0, description='Training', layout=Layout(flex='2'), max=1125.0, style=Pro…"
      ]
     },
     "metadata": {},
     "output_type": "display_data"
    },
    {
     "name": "stdout",
     "output_type": "stream",
     "text": [
      "Epoch 9: train=1.17438, val=1.06388, took 37.165 s\n"
     ]
    },
    {
     "data": {
      "application/vnd.jupyter.widget-view+json": {
       "model_id": "",
       "version_major": 2,
       "version_minor": 0
      },
      "text/plain": [
       "HBox(children=(FloatProgress(value=0.0, description='Training', layout=Layout(flex='2'), max=1125.0, style=Pro…"
      ]
     },
     "metadata": {},
     "output_type": "display_data"
    },
    {
     "name": "stdout",
     "output_type": "stream",
     "text": [
      "Epoch 10: train=1.16073, val=1.0764, took 37.092 s\n"
     ]
    },
    {
     "data": {
      "application/vnd.jupyter.widget-view+json": {
       "model_id": "",
       "version_major": 2,
       "version_minor": 0
      },
      "text/plain": [
       "HBox(children=(FloatProgress(value=0.0, description='Training', layout=Layout(flex='2'), max=1125.0, style=Pro…"
      ]
     },
     "metadata": {},
     "output_type": "display_data"
    },
    {
     "name": "stdout",
     "output_type": "stream",
     "text": [
      "Epoch 11: train=1.15969, val=1.05148, took 37.143 s\n"
     ]
    },
    {
     "data": {
      "application/vnd.jupyter.widget-view+json": {
       "model_id": "",
       "version_major": 2,
       "version_minor": 0
      },
      "text/plain": [
       "HBox(children=(FloatProgress(value=0.0, description='Training', layout=Layout(flex='2'), max=1125.0, style=Pro…"
      ]
     },
     "metadata": {},
     "output_type": "display_data"
    },
    {
     "name": "stdout",
     "output_type": "stream",
     "text": [
      "Epoch 12: train=1.16678, val=1.06995, took 37.203 s\n"
     ]
    },
    {
     "data": {
      "application/vnd.jupyter.widget-view+json": {
       "model_id": "",
       "version_major": 2,
       "version_minor": 0
      },
      "text/plain": [
       "HBox(children=(FloatProgress(value=0.0, description='Training', layout=Layout(flex='2'), max=1125.0, style=Pro…"
      ]
     },
     "metadata": {},
     "output_type": "display_data"
    },
    {
     "name": "stdout",
     "output_type": "stream",
     "text": [
      "Epoch 13: train=1.15735, val=1.0667, took 37.142 s\n"
     ]
    },
    {
     "data": {
      "application/vnd.jupyter.widget-view+json": {
       "model_id": "",
       "version_major": 2,
       "version_minor": 0
      },
      "text/plain": [
       "HBox(children=(FloatProgress(value=0.0, description='Training', layout=Layout(flex='2'), max=1125.0, style=Pro…"
      ]
     },
     "metadata": {},
     "output_type": "display_data"
    },
    {
     "name": "stdout",
     "output_type": "stream",
     "text": [
      "Epoch 14: train=1.15708, val=1.07817, took 37.212 s\n"
     ]
    },
    {
     "data": {
      "application/vnd.jupyter.widget-view+json": {
       "model_id": "",
       "version_major": 2,
       "version_minor": 0
      },
      "text/plain": [
       "HBox(children=(FloatProgress(value=0.0, description='Training', layout=Layout(flex='2'), max=1125.0, style=Pro…"
      ]
     },
     "metadata": {},
     "output_type": "display_data"
    },
    {
     "name": "stdout",
     "output_type": "stream",
     "text": [
      "Epoch 15: train=1.18435, val=1.10708, took 37.088 s\n"
     ]
    },
    {
     "data": {
      "application/vnd.jupyter.widget-view+json": {
       "model_id": "",
       "version_major": 2,
       "version_minor": 0
      },
      "text/plain": [
       "HBox(children=(FloatProgress(value=0.0, description='Training', layout=Layout(flex='2'), max=1125.0, style=Pro…"
      ]
     },
     "metadata": {},
     "output_type": "display_data"
    },
    {
     "name": "stdout",
     "output_type": "stream",
     "text": [
      "Epoch 16: train=1.1598, val=1.05419, took 36.944 s\n"
     ]
    },
    {
     "data": {
      "application/vnd.jupyter.widget-view+json": {
       "model_id": "",
       "version_major": 2,
       "version_minor": 0
      },
      "text/plain": [
       "HBox(children=(FloatProgress(value=0.0, description='Training', layout=Layout(flex='2'), max=1125.0, style=Pro…"
      ]
     },
     "metadata": {},
     "output_type": "display_data"
    },
    {
     "name": "stdout",
     "output_type": "stream",
     "text": [
      "Epoch 17: train=1.1611, val=1.05801, took 37.017 s\n"
     ]
    },
    {
     "data": {
      "application/vnd.jupyter.widget-view+json": {
       "model_id": "",
       "version_major": 2,
       "version_minor": 0
      },
      "text/plain": [
       "HBox(children=(FloatProgress(value=0.0, description='Training', layout=Layout(flex='2'), max=1125.0, style=Pro…"
      ]
     },
     "metadata": {},
     "output_type": "display_data"
    },
    {
     "name": "stdout",
     "output_type": "stream",
     "text": [
      "Epoch 18: train=1.16516, val=1.05147, took 37.027 s\n"
     ]
    },
    {
     "data": {
      "application/vnd.jupyter.widget-view+json": {
       "model_id": "",
       "version_major": 2,
       "version_minor": 0
      },
      "text/plain": [
       "HBox(children=(FloatProgress(value=0.0, description='Training', layout=Layout(flex='2'), max=1125.0, style=Pro…"
      ]
     },
     "metadata": {},
     "output_type": "display_data"
    },
    {
     "name": "stdout",
     "output_type": "stream",
     "text": [
      "Epoch 19: train=1.16458, val=1.16909, took 36.941 s\n"
     ]
    },
    {
     "data": {
      "application/vnd.jupyter.widget-view+json": {
       "model_id": "",
       "version_major": 2,
       "version_minor": 0
      },
      "text/plain": [
       "HBox(children=(FloatProgress(value=0.0, description='Training', layout=Layout(flex='2'), max=1125.0, style=Pro…"
      ]
     },
     "metadata": {},
     "output_type": "display_data"
    },
    {
     "name": "stdout",
     "output_type": "stream",
     "text": [
      "Epoch 20: train=1.15529, val=1.12392, took 37.019 s\n"
     ]
    },
    {
     "data": {
      "application/vnd.jupyter.widget-view+json": {
       "model_id": "",
       "version_major": 2,
       "version_minor": 0
      },
      "text/plain": [
       "HBox(children=(FloatProgress(value=0.0, description='Training', layout=Layout(flex='2'), max=1125.0, style=Pro…"
      ]
     },
     "metadata": {},
     "output_type": "display_data"
    },
    {
     "name": "stdout",
     "output_type": "stream",
     "text": [
      "Epoch 21: train=1.15941, val=1.05307, took 37.088 s\n"
     ]
    },
    {
     "data": {
      "application/vnd.jupyter.widget-view+json": {
       "model_id": "",
       "version_major": 2,
       "version_minor": 0
      },
      "text/plain": [
       "HBox(children=(FloatProgress(value=0.0, description='Training', layout=Layout(flex='2'), max=1125.0, style=Pro…"
      ]
     },
     "metadata": {},
     "output_type": "display_data"
    },
    {
     "name": "stdout",
     "output_type": "stream",
     "text": [
      "Epoch 22: train=1.15918, val=1.05282, took 37.088 s\n"
     ]
    },
    {
     "data": {
      "application/vnd.jupyter.widget-view+json": {
       "model_id": "",
       "version_major": 2,
       "version_minor": 0
      },
      "text/plain": [
       "HBox(children=(FloatProgress(value=0.0, description='Training', layout=Layout(flex='2'), max=1125.0, style=Pro…"
      ]
     },
     "metadata": {},
     "output_type": "display_data"
    },
    {
     "name": "stdout",
     "output_type": "stream",
     "text": [
      "Epoch 23: train=1.15365, val=1.07602, took 37.164 s\n"
     ]
    },
    {
     "data": {
      "application/vnd.jupyter.widget-view+json": {
       "model_id": "",
       "version_major": 2,
       "version_minor": 0
      },
      "text/plain": [
       "HBox(children=(FloatProgress(value=0.0, description='Training', layout=Layout(flex='2'), max=1125.0, style=Pro…"
      ]
     },
     "metadata": {},
     "output_type": "display_data"
    },
    {
     "name": "stdout",
     "output_type": "stream",
     "text": [
      "Epoch 24: train=1.16246, val=1.0694, took 36.963 s\n"
     ]
    },
    {
     "data": {
      "application/vnd.jupyter.widget-view+json": {
       "model_id": "",
       "version_major": 2,
       "version_minor": 0
      },
      "text/plain": [
       "HBox(children=(FloatProgress(value=0.0, description='Training', layout=Layout(flex='2'), max=1125.0, style=Pro…"
      ]
     },
     "metadata": {},
     "output_type": "display_data"
    },
    {
     "name": "stdout",
     "output_type": "stream",
     "text": [
      "Epoch 25: train=1.15624, val=1.05931, took 36.994 s\n"
     ]
    },
    {
     "data": {
      "application/vnd.jupyter.widget-view+json": {
       "model_id": "",
       "version_major": 2,
       "version_minor": 0
      },
      "text/plain": [
       "HBox(children=(FloatProgress(value=0.0, description='Training', layout=Layout(flex='2'), max=1125.0, style=Pro…"
      ]
     },
     "metadata": {},
     "output_type": "display_data"
    },
    {
     "name": "stdout",
     "output_type": "stream",
     "text": [
      "Epoch 26: train=1.16074, val=1.08891, took 36.972 s\n"
     ]
    },
    {
     "data": {
      "application/vnd.jupyter.widget-view+json": {
       "model_id": "",
       "version_major": 2,
       "version_minor": 0
      },
      "text/plain": [
       "HBox(children=(FloatProgress(value=0.0, description='Training', layout=Layout(flex='2'), max=1125.0, style=Pro…"
      ]
     },
     "metadata": {},
     "output_type": "display_data"
    },
    {
     "name": "stdout",
     "output_type": "stream",
     "text": [
      "Epoch 27: train=1.15209, val=1.113, took 36.989 s\n"
     ]
    },
    {
     "data": {
      "application/vnd.jupyter.widget-view+json": {
       "model_id": "",
       "version_major": 2,
       "version_minor": 0
      },
      "text/plain": [
       "HBox(children=(FloatProgress(value=0.0, description='Training', layout=Layout(flex='2'), max=1125.0, style=Pro…"
      ]
     },
     "metadata": {},
     "output_type": "display_data"
    },
    {
     "name": "stdout",
     "output_type": "stream",
     "text": [
      "Epoch 28: train=1.17197, val=1.06775, took 37.167 s\n"
     ]
    },
    {
     "data": {
      "application/vnd.jupyter.widget-view+json": {
       "model_id": "",
       "version_major": 2,
       "version_minor": 0
      },
      "text/plain": [
       "HBox(children=(FloatProgress(value=0.0, description='Training', layout=Layout(flex='2'), max=1125.0, style=Pro…"
      ]
     },
     "metadata": {},
     "output_type": "display_data"
    },
    {
     "name": "stdout",
     "output_type": "stream",
     "text": [
      "Epoch 29: train=1.15445, val=1.20568, took 36.975 s\n"
     ]
    },
    {
     "data": {
      "application/vnd.jupyter.widget-view+json": {
       "model_id": "",
       "version_major": 2,
       "version_minor": 0
      },
      "text/plain": [
       "HBox(children=(FloatProgress(value=0.0, description='Training', layout=Layout(flex='2'), max=1125.0, style=Pro…"
      ]
     },
     "metadata": {},
     "output_type": "display_data"
    },
    {
     "name": "stdout",
     "output_type": "stream",
     "text": [
      "Epoch 30: train=1.15272, val=1.07105, took 37.051 s\n"
     ]
    },
    {
     "data": {
      "application/vnd.jupyter.widget-view+json": {
       "model_id": "",
       "version_major": 2,
       "version_minor": 0
      },
      "text/plain": [
       "HBox(children=(FloatProgress(value=0.0, description='Training', layout=Layout(flex='2'), max=1125.0, style=Pro…"
      ]
     },
     "metadata": {},
     "output_type": "display_data"
    },
    {
     "name": "stdout",
     "output_type": "stream",
     "text": [
      "Epoch 31: train=1.15739, val=1.09993, took 36.894 s\n"
     ]
    },
    {
     "data": {
      "application/vnd.jupyter.widget-view+json": {
       "model_id": "",
       "version_major": 2,
       "version_minor": 0
      },
      "text/plain": [
       "HBox(children=(FloatProgress(value=0.0, description='Training', layout=Layout(flex='2'), max=1125.0, style=Pro…"
      ]
     },
     "metadata": {},
     "output_type": "display_data"
    },
    {
     "name": "stdout",
     "output_type": "stream",
     "text": [
      "Epoch 32: train=1.159, val=1.07161, took 36.844 s\n"
     ]
    },
    {
     "data": {
      "application/vnd.jupyter.widget-view+json": {
       "model_id": "",
       "version_major": 2,
       "version_minor": 0
      },
      "text/plain": [
       "HBox(children=(FloatProgress(value=0.0, description='Training', layout=Layout(flex='2'), max=1125.0, style=Pro…"
      ]
     },
     "metadata": {},
     "output_type": "display_data"
    },
    {
     "name": "stdout",
     "output_type": "stream",
     "text": [
      "Epoch 33: train=1.15483, val=1.12493, took 37.017 s\n"
     ]
    },
    {
     "data": {
      "application/vnd.jupyter.widget-view+json": {
       "model_id": "",
       "version_major": 2,
       "version_minor": 0
      },
      "text/plain": [
       "HBox(children=(FloatProgress(value=0.0, description='Training', layout=Layout(flex='2'), max=1125.0, style=Pro…"
      ]
     },
     "metadata": {},
     "output_type": "display_data"
    },
    {
     "name": "stdout",
     "output_type": "stream",
     "text": [
      "Epoch 34: train=1.15515, val=1.11355, took 36.963 s\n"
     ]
    },
    {
     "data": {
      "application/vnd.jupyter.widget-view+json": {
       "model_id": "",
       "version_major": 2,
       "version_minor": 0
      },
      "text/plain": [
       "HBox(children=(FloatProgress(value=0.0, description='Training', layout=Layout(flex='2'), max=1125.0, style=Pro…"
      ]
     },
     "metadata": {},
     "output_type": "display_data"
    },
    {
     "name": "stdout",
     "output_type": "stream",
     "text": [
      "Epoch 35: train=1.14866, val=1.11935, took 36.852 s\n"
     ]
    },
    {
     "data": {
      "application/vnd.jupyter.widget-view+json": {
       "model_id": "",
       "version_major": 2,
       "version_minor": 0
      },
      "text/plain": [
       "HBox(children=(FloatProgress(value=0.0, description='Training', layout=Layout(flex='2'), max=1125.0, style=Pro…"
      ]
     },
     "metadata": {},
     "output_type": "display_data"
    },
    {
     "name": "stdout",
     "output_type": "stream",
     "text": [
      "Epoch 36: train=1.163, val=1.07037, took 36.939 s\n"
     ]
    },
    {
     "data": {
      "application/vnd.jupyter.widget-view+json": {
       "model_id": "",
       "version_major": 2,
       "version_minor": 0
      },
      "text/plain": [
       "HBox(children=(FloatProgress(value=0.0, description='Training', layout=Layout(flex='2'), max=1125.0, style=Pro…"
      ]
     },
     "metadata": {},
     "output_type": "display_data"
    },
    {
     "name": "stdout",
     "output_type": "stream",
     "text": [
      "Epoch 37: train=1.15822, val=1.0581, took 37.017 s\n"
     ]
    },
    {
     "data": {
      "application/vnd.jupyter.widget-view+json": {
       "model_id": "",
       "version_major": 2,
       "version_minor": 0
      },
      "text/plain": [
       "HBox(children=(FloatProgress(value=0.0, description='Training', layout=Layout(flex='2'), max=1125.0, style=Pro…"
      ]
     },
     "metadata": {},
     "output_type": "display_data"
    },
    {
     "name": "stdout",
     "output_type": "stream",
     "text": [
      "Epoch 38: train=1.16505, val=1.11579, took 37.003 s\n"
     ]
    },
    {
     "data": {
      "application/vnd.jupyter.widget-view+json": {
       "model_id": "",
       "version_major": 2,
       "version_minor": 0
      },
      "text/plain": [
       "HBox(children=(FloatProgress(value=0.0, description='Training', layout=Layout(flex='2'), max=1125.0, style=Pro…"
      ]
     },
     "metadata": {},
     "output_type": "display_data"
    },
    {
     "name": "stdout",
     "output_type": "stream",
     "text": [
      "Epoch 39: train=1.15562, val=1.07999, took 36.912 s\n"
     ]
    },
    {
     "data": {
      "application/vnd.jupyter.widget-view+json": {
       "model_id": "",
       "version_major": 2,
       "version_minor": 0
      },
      "text/plain": [
       "HBox(children=(FloatProgress(value=0.0, description='Training', layout=Layout(flex='2'), max=1125.0, style=Pro…"
      ]
     },
     "metadata": {},
     "output_type": "display_data"
    },
    {
     "name": "stdout",
     "output_type": "stream",
     "text": [
      "Epoch 40: train=1.14537, val=1.07308, took 36.96 s\n"
     ]
    },
    {
     "data": {
      "application/vnd.jupyter.widget-view+json": {
       "model_id": "",
       "version_major": 2,
       "version_minor": 0
      },
      "text/plain": [
       "HBox(children=(FloatProgress(value=0.0, description='Training', layout=Layout(flex='2'), max=1125.0, style=Pro…"
      ]
     },
     "metadata": {},
     "output_type": "display_data"
    },
    {
     "name": "stdout",
     "output_type": "stream",
     "text": [
      "Epoch 41: train=1.1527, val=1.04666, took 36.986 s\n"
     ]
    },
    {
     "data": {
      "application/vnd.jupyter.widget-view+json": {
       "model_id": "",
       "version_major": 2,
       "version_minor": 0
      },
      "text/plain": [
       "HBox(children=(FloatProgress(value=0.0, description='Training', layout=Layout(flex='2'), max=1125.0, style=Pro…"
      ]
     },
     "metadata": {},
     "output_type": "display_data"
    },
    {
     "name": "stdout",
     "output_type": "stream",
     "text": [
      "Epoch 42: train=1.15478, val=1.05744, took 36.929 s\n"
     ]
    },
    {
     "data": {
      "application/vnd.jupyter.widget-view+json": {
       "model_id": "",
       "version_major": 2,
       "version_minor": 0
      },
      "text/plain": [
       "HBox(children=(FloatProgress(value=0.0, description='Training', layout=Layout(flex='2'), max=1125.0, style=Pro…"
      ]
     },
     "metadata": {},
     "output_type": "display_data"
    },
    {
     "name": "stdout",
     "output_type": "stream",
     "text": [
      "Epoch 43: train=1.15419, val=1.0491, took 36.92 s\n"
     ]
    },
    {
     "data": {
      "application/vnd.jupyter.widget-view+json": {
       "model_id": "",
       "version_major": 2,
       "version_minor": 0
      },
      "text/plain": [
       "HBox(children=(FloatProgress(value=0.0, description='Training', layout=Layout(flex='2'), max=1125.0, style=Pro…"
      ]
     },
     "metadata": {},
     "output_type": "display_data"
    },
    {
     "name": "stdout",
     "output_type": "stream",
     "text": [
      "Epoch 44: train=1.14685, val=1.05882, took 37.108 s\n"
     ]
    },
    {
     "data": {
      "application/vnd.jupyter.widget-view+json": {
       "model_id": "",
       "version_major": 2,
       "version_minor": 0
      },
      "text/plain": [
       "HBox(children=(FloatProgress(value=0.0, description='Training', layout=Layout(flex='2'), max=1125.0, style=Pro…"
      ]
     },
     "metadata": {},
     "output_type": "display_data"
    },
    {
     "name": "stdout",
     "output_type": "stream",
     "text": [
      "Epoch 45: train=1.15111, val=1.05986, took 36.857 s\n"
     ]
    },
    {
     "data": {
      "application/vnd.jupyter.widget-view+json": {
       "model_id": "",
       "version_major": 2,
       "version_minor": 0
      },
      "text/plain": [
       "HBox(children=(FloatProgress(value=0.0, description='Training', layout=Layout(flex='2'), max=1125.0, style=Pro…"
      ]
     },
     "metadata": {},
     "output_type": "display_data"
    },
    {
     "name": "stdout",
     "output_type": "stream",
     "text": [
      "Epoch 46: train=1.15358, val=1.04827, took 36.866 s\n"
     ]
    },
    {
     "data": {
      "application/vnd.jupyter.widget-view+json": {
       "model_id": "",
       "version_major": 2,
       "version_minor": 0
      },
      "text/plain": [
       "HBox(children=(FloatProgress(value=0.0, description='Training', layout=Layout(flex='2'), max=1125.0, style=Pro…"
      ]
     },
     "metadata": {},
     "output_type": "display_data"
    },
    {
     "name": "stdout",
     "output_type": "stream",
     "text": [
      "Epoch 47: train=1.1509, val=1.06346, took 37.007 s\n"
     ]
    },
    {
     "data": {
      "application/vnd.jupyter.widget-view+json": {
       "model_id": "",
       "version_major": 2,
       "version_minor": 0
      },
      "text/plain": [
       "HBox(children=(FloatProgress(value=0.0, description='Training', layout=Layout(flex='2'), max=1125.0, style=Pro…"
      ]
     },
     "metadata": {},
     "output_type": "display_data"
    },
    {
     "name": "stdout",
     "output_type": "stream",
     "text": [
      "Epoch 48: train=1.15559, val=1.06966, took 37.0 s\n"
     ]
    },
    {
     "data": {
      "application/vnd.jupyter.widget-view+json": {
       "model_id": "",
       "version_major": 2,
       "version_minor": 0
      },
      "text/plain": [
       "HBox(children=(FloatProgress(value=0.0, description='Training', layout=Layout(flex='2'), max=1125.0, style=Pro…"
      ]
     },
     "metadata": {},
     "output_type": "display_data"
    },
    {
     "name": "stdout",
     "output_type": "stream",
     "text": [
      "Epoch 49: train=1.15052, val=1.06325, took 36.858 s\n"
     ]
    },
    {
     "data": {
      "application/vnd.jupyter.widget-view+json": {
       "model_id": "",
       "version_major": 2,
       "version_minor": 0
      },
      "text/plain": [
       "HBox(children=(FloatProgress(value=0.0, description='Training', layout=Layout(flex='2'), max=1125.0, style=Pro…"
      ]
     },
     "metadata": {},
     "output_type": "display_data"
    },
    {
     "name": "stdout",
     "output_type": "stream",
     "text": [
      "Epoch 50: train=1.16321, val=1.0565, took 36.92 s\n"
     ]
    },
    {
     "data": {
      "application/vnd.jupyter.widget-view+json": {
       "model_id": "",
       "version_major": 2,
       "version_minor": 0
      },
      "text/plain": [
       "HBox(children=(FloatProgress(value=0.0, description='Training', layout=Layout(flex='2'), max=1125.0, style=Pro…"
      ]
     },
     "metadata": {},
     "output_type": "display_data"
    },
    {
     "name": "stdout",
     "output_type": "stream",
     "text": [
      "Epoch 51: train=1.16115, val=1.05917, took 36.934 s\n"
     ]
    },
    {
     "data": {
      "application/vnd.jupyter.widget-view+json": {
       "model_id": "",
       "version_major": 2,
       "version_minor": 0
      },
      "text/plain": [
       "HBox(children=(FloatProgress(value=0.0, description='Training', layout=Layout(flex='2'), max=1125.0, style=Pro…"
      ]
     },
     "metadata": {},
     "output_type": "display_data"
    },
    {
     "name": "stdout",
     "output_type": "stream",
     "text": [
      "Epoch 52: train=1.15078, val=1.0537, took 36.926 s\n"
     ]
    },
    {
     "data": {
      "application/vnd.jupyter.widget-view+json": {
       "model_id": "",
       "version_major": 2,
       "version_minor": 0
      },
      "text/plain": [
       "HBox(children=(FloatProgress(value=0.0, description='Training', layout=Layout(flex='2'), max=1125.0, style=Pro…"
      ]
     },
     "metadata": {},
     "output_type": "display_data"
    },
    {
     "name": "stdout",
     "output_type": "stream",
     "text": [
      "Epoch 53: train=1.14714, val=1.30121, took 36.921 s\n"
     ]
    },
    {
     "data": {
      "application/vnd.jupyter.widget-view+json": {
       "model_id": "",
       "version_major": 2,
       "version_minor": 0
      },
      "text/plain": [
       "HBox(children=(FloatProgress(value=0.0, description='Training', layout=Layout(flex='2'), max=1125.0, style=Pro…"
      ]
     },
     "metadata": {},
     "output_type": "display_data"
    },
    {
     "name": "stdout",
     "output_type": "stream",
     "text": [
      "Epoch 54: train=1.15583, val=1.05481, took 36.972 s\n"
     ]
    },
    {
     "data": {
      "application/vnd.jupyter.widget-view+json": {
       "model_id": "",
       "version_major": 2,
       "version_minor": 0
      },
      "text/plain": [
       "HBox(children=(FloatProgress(value=0.0, description='Training', layout=Layout(flex='2'), max=1125.0, style=Pro…"
      ]
     },
     "metadata": {},
     "output_type": "display_data"
    },
    {
     "name": "stdout",
     "output_type": "stream",
     "text": [
      "Epoch 55: train=1.1589, val=1.06074, took 36.936 s\n"
     ]
    },
    {
     "data": {
      "application/vnd.jupyter.widget-view+json": {
       "model_id": "",
       "version_major": 2,
       "version_minor": 0
      },
      "text/plain": [
       "HBox(children=(FloatProgress(value=0.0, description='Training', layout=Layout(flex='2'), max=1125.0, style=Pro…"
      ]
     },
     "metadata": {},
     "output_type": "display_data"
    },
    {
     "name": "stdout",
     "output_type": "stream",
     "text": [
      "Epoch 56: train=1.15104, val=1.08795, took 36.907 s\n"
     ]
    },
    {
     "data": {
      "application/vnd.jupyter.widget-view+json": {
       "model_id": "",
       "version_major": 2,
       "version_minor": 0
      },
      "text/plain": [
       "HBox(children=(FloatProgress(value=0.0, description='Training', layout=Layout(flex='2'), max=1125.0, style=Pro…"
      ]
     },
     "metadata": {},
     "output_type": "display_data"
    },
    {
     "name": "stdout",
     "output_type": "stream",
     "text": [
      "Epoch 57: train=1.15142, val=1.05523, took 36.923 s\n"
     ]
    },
    {
     "data": {
      "application/vnd.jupyter.widget-view+json": {
       "model_id": "",
       "version_major": 2,
       "version_minor": 0
      },
      "text/plain": [
       "HBox(children=(FloatProgress(value=0.0, description='Training', layout=Layout(flex='2'), max=1125.0, style=Pro…"
      ]
     },
     "metadata": {},
     "output_type": "display_data"
    },
    {
     "name": "stdout",
     "output_type": "stream",
     "text": [
      "Epoch 58: train=1.14616, val=1.05084, took 36.981 s\n"
     ]
    },
    {
     "data": {
      "application/vnd.jupyter.widget-view+json": {
       "model_id": "",
       "version_major": 2,
       "version_minor": 0
      },
      "text/plain": [
       "HBox(children=(FloatProgress(value=0.0, description='Training', layout=Layout(flex='2'), max=1125.0, style=Pro…"
      ]
     },
     "metadata": {},
     "output_type": "display_data"
    },
    {
     "name": "stdout",
     "output_type": "stream",
     "text": [
      "Epoch 59: train=1.15224, val=1.0587, took 36.973 s\n"
     ]
    },
    {
     "data": {
      "application/vnd.jupyter.widget-view+json": {
       "model_id": "",
       "version_major": 2,
       "version_minor": 0
      },
      "text/plain": [
       "HBox(children=(FloatProgress(value=0.0, description='Training', layout=Layout(flex='2'), max=1125.0, style=Pro…"
      ]
     },
     "metadata": {},
     "output_type": "display_data"
    },
    {
     "name": "stdout",
     "output_type": "stream",
     "text": [
      "Epoch 60: train=1.16553, val=1.04795, took 37.004 s\n"
     ]
    },
    {
     "data": {
      "application/vnd.jupyter.widget-view+json": {
       "model_id": "",
       "version_major": 2,
       "version_minor": 0
      },
      "text/plain": [
       "HBox(children=(FloatProgress(value=0.0, description='Training', layout=Layout(flex='2'), max=1125.0, style=Pro…"
      ]
     },
     "metadata": {},
     "output_type": "display_data"
    },
    {
     "name": "stdout",
     "output_type": "stream",
     "text": [
      "Epoch 61: train=1.14869, val=1.12622, took 37.02 s\n"
     ]
    },
    {
     "data": {
      "application/vnd.jupyter.widget-view+json": {
       "model_id": "",
       "version_major": 2,
       "version_minor": 0
      },
      "text/plain": [
       "HBox(children=(FloatProgress(value=0.0, description='Training', layout=Layout(flex='2'), max=1125.0, style=Pro…"
      ]
     },
     "metadata": {},
     "output_type": "display_data"
    },
    {
     "name": "stdout",
     "output_type": "stream",
     "text": [
      "Epoch 62: train=1.15757, val=1.06173, took 36.854 s\n"
     ]
    },
    {
     "data": {
      "application/vnd.jupyter.widget-view+json": {
       "model_id": "",
       "version_major": 2,
       "version_minor": 0
      },
      "text/plain": [
       "HBox(children=(FloatProgress(value=0.0, description='Training', layout=Layout(flex='2'), max=1125.0, style=Pro…"
      ]
     },
     "metadata": {},
     "output_type": "display_data"
    },
    {
     "name": "stdout",
     "output_type": "stream",
     "text": [
      "Epoch 63: train=1.15562, val=1.04672, took 36.909 s\n"
     ]
    },
    {
     "data": {
      "application/vnd.jupyter.widget-view+json": {
       "model_id": "",
       "version_major": 2,
       "version_minor": 0
      },
      "text/plain": [
       "HBox(children=(FloatProgress(value=0.0, description='Training', layout=Layout(flex='2'), max=1125.0, style=Pro…"
      ]
     },
     "metadata": {},
     "output_type": "display_data"
    },
    {
     "name": "stdout",
     "output_type": "stream",
     "text": [
      "Epoch 64: train=1.14582, val=1.06515, took 36.85 s\n"
     ]
    },
    {
     "data": {
      "application/vnd.jupyter.widget-view+json": {
       "model_id": "",
       "version_major": 2,
       "version_minor": 0
      },
      "text/plain": [
       "HBox(children=(FloatProgress(value=0.0, description='Training', layout=Layout(flex='2'), max=1125.0, style=Pro…"
      ]
     },
     "metadata": {},
     "output_type": "display_data"
    },
    {
     "name": "stdout",
     "output_type": "stream",
     "text": [
      "Epoch 65: train=1.14348, val=1.07194, took 37.028 s\n"
     ]
    },
    {
     "data": {
      "application/vnd.jupyter.widget-view+json": {
       "model_id": "",
       "version_major": 2,
       "version_minor": 0
      },
      "text/plain": [
       "HBox(children=(FloatProgress(value=0.0, description='Training', layout=Layout(flex='2'), max=1125.0, style=Pro…"
      ]
     },
     "metadata": {},
     "output_type": "display_data"
    },
    {
     "name": "stdout",
     "output_type": "stream",
     "text": [
      "Epoch 66: train=1.14906, val=1.17168, took 36.989 s\n"
     ]
    },
    {
     "data": {
      "application/vnd.jupyter.widget-view+json": {
       "model_id": "",
       "version_major": 2,
       "version_minor": 0
      },
      "text/plain": [
       "HBox(children=(FloatProgress(value=0.0, description='Training', layout=Layout(flex='2'), max=1125.0, style=Pro…"
      ]
     },
     "metadata": {},
     "output_type": "display_data"
    },
    {
     "name": "stdout",
     "output_type": "stream",
     "text": [
      "Epoch 67: train=1.15613, val=1.05598, took 37.148 s\n"
     ]
    },
    {
     "data": {
      "application/vnd.jupyter.widget-view+json": {
       "model_id": "",
       "version_major": 2,
       "version_minor": 0
      },
      "text/plain": [
       "HBox(children=(FloatProgress(value=0.0, description='Training', layout=Layout(flex='2'), max=1125.0, style=Pro…"
      ]
     },
     "metadata": {},
     "output_type": "display_data"
    },
    {
     "name": "stdout",
     "output_type": "stream",
     "text": [
      "Epoch 68: train=1.16079, val=1.09663, took 36.922 s\n"
     ]
    },
    {
     "data": {
      "application/vnd.jupyter.widget-view+json": {
       "model_id": "",
       "version_major": 2,
       "version_minor": 0
      },
      "text/plain": [
       "HBox(children=(FloatProgress(value=0.0, description='Training', layout=Layout(flex='2'), max=1125.0, style=Pro…"
      ]
     },
     "metadata": {},
     "output_type": "display_data"
    },
    {
     "name": "stdout",
     "output_type": "stream",
     "text": [
      "Epoch 69: train=1.14818, val=1.16241, took 36.973 s\n"
     ]
    },
    {
     "data": {
      "application/vnd.jupyter.widget-view+json": {
       "model_id": "",
       "version_major": 2,
       "version_minor": 0
      },
      "text/plain": [
       "HBox(children=(FloatProgress(value=0.0, description='Training', layout=Layout(flex='2'), max=1125.0, style=Pro…"
      ]
     },
     "metadata": {},
     "output_type": "display_data"
    },
    {
     "name": "stdout",
     "output_type": "stream",
     "text": [
      "Epoch 70: train=1.15644, val=1.05102, took 36.965 s\n"
     ]
    },
    {
     "data": {
      "application/vnd.jupyter.widget-view+json": {
       "model_id": "",
       "version_major": 2,
       "version_minor": 0
      },
      "text/plain": [
       "HBox(children=(FloatProgress(value=0.0, description='Training', layout=Layout(flex='2'), max=1125.0, style=Pro…"
      ]
     },
     "metadata": {},
     "output_type": "display_data"
    },
    {
     "name": "stdout",
     "output_type": "stream",
     "text": [
      "Epoch 71: train=1.15776, val=1.20773, took 36.922 s\n"
     ]
    },
    {
     "data": {
      "application/vnd.jupyter.widget-view+json": {
       "model_id": "",
       "version_major": 2,
       "version_minor": 0
      },
      "text/plain": [
       "HBox(children=(FloatProgress(value=0.0, description='Training', layout=Layout(flex='2'), max=1125.0, style=Pro…"
      ]
     },
     "metadata": {},
     "output_type": "display_data"
    },
    {
     "name": "stdout",
     "output_type": "stream",
     "text": [
      "Epoch 72: train=1.153, val=1.0587, took 36.846 s\n"
     ]
    },
    {
     "data": {
      "application/vnd.jupyter.widget-view+json": {
       "model_id": "",
       "version_major": 2,
       "version_minor": 0
      },
      "text/plain": [
       "HBox(children=(FloatProgress(value=0.0, description='Training', layout=Layout(flex='2'), max=1125.0, style=Pro…"
      ]
     },
     "metadata": {},
     "output_type": "display_data"
    },
    {
     "name": "stdout",
     "output_type": "stream",
     "text": [
      "Epoch 73: train=1.14908, val=1.04819, took 36.9 s\n"
     ]
    },
    {
     "data": {
      "application/vnd.jupyter.widget-view+json": {
       "model_id": "",
       "version_major": 2,
       "version_minor": 0
      },
      "text/plain": [
       "HBox(children=(FloatProgress(value=0.0, description='Training', layout=Layout(flex='2'), max=1125.0, style=Pro…"
      ]
     },
     "metadata": {},
     "output_type": "display_data"
    },
    {
     "name": "stdout",
     "output_type": "stream",
     "text": [
      "Epoch 74: train=1.14304, val=1.04443, took 36.868 s\n"
     ]
    },
    {
     "data": {
      "application/vnd.jupyter.widget-view+json": {
       "model_id": "",
       "version_major": 2,
       "version_minor": 0
      },
      "text/plain": [
       "HBox(children=(FloatProgress(value=0.0, description='Training', layout=Layout(flex='2'), max=1125.0, style=Pro…"
      ]
     },
     "metadata": {},
     "output_type": "display_data"
    },
    {
     "name": "stdout",
     "output_type": "stream",
     "text": [
      "Epoch 75: train=1.1487, val=1.05973, took 36.922 s\n"
     ]
    },
    {
     "data": {
      "application/vnd.jupyter.widget-view+json": {
       "model_id": "",
       "version_major": 2,
       "version_minor": 0
      },
      "text/plain": [
       "HBox(children=(FloatProgress(value=0.0, description='Training', layout=Layout(flex='2'), max=1125.0, style=Pro…"
      ]
     },
     "metadata": {},
     "output_type": "display_data"
    },
    {
     "name": "stdout",
     "output_type": "stream",
     "text": [
      "Epoch 76: train=1.15069, val=1.07842, took 36.965 s\n"
     ]
    },
    {
     "data": {
      "application/vnd.jupyter.widget-view+json": {
       "model_id": "",
       "version_major": 2,
       "version_minor": 0
      },
      "text/plain": [
       "HBox(children=(FloatProgress(value=0.0, description='Training', layout=Layout(flex='2'), max=1125.0, style=Pro…"
      ]
     },
     "metadata": {},
     "output_type": "display_data"
    },
    {
     "name": "stdout",
     "output_type": "stream",
     "text": [
      "Epoch 77: train=1.14477, val=1.05605, took 36.884 s\n"
     ]
    },
    {
     "data": {
      "application/vnd.jupyter.widget-view+json": {
       "model_id": "",
       "version_major": 2,
       "version_minor": 0
      },
      "text/plain": [
       "HBox(children=(FloatProgress(value=0.0, description='Training', layout=Layout(flex='2'), max=1125.0, style=Pro…"
      ]
     },
     "metadata": {},
     "output_type": "display_data"
    },
    {
     "name": "stdout",
     "output_type": "stream",
     "text": [
      "Epoch 78: train=1.14493, val=1.04483, took 37.085 s\n"
     ]
    },
    {
     "data": {
      "application/vnd.jupyter.widget-view+json": {
       "model_id": "",
       "version_major": 2,
       "version_minor": 0
      },
      "text/plain": [
       "HBox(children=(FloatProgress(value=0.0, description='Training', layout=Layout(flex='2'), max=1125.0, style=Pro…"
      ]
     },
     "metadata": {},
     "output_type": "display_data"
    },
    {
     "name": "stdout",
     "output_type": "stream",
     "text": [
      "Epoch 79: train=1.16491, val=1.07679, took 36.95 s\n"
     ]
    },
    {
     "data": {
      "application/vnd.jupyter.widget-view+json": {
       "model_id": "",
       "version_major": 2,
       "version_minor": 0
      },
      "text/plain": [
       "HBox(children=(FloatProgress(value=0.0, description='Training', layout=Layout(flex='2'), max=1125.0, style=Pro…"
      ]
     },
     "metadata": {},
     "output_type": "display_data"
    },
    {
     "name": "stdout",
     "output_type": "stream",
     "text": [
      "Epoch 80: train=1.14783, val=1.05901, took 36.805 s\n"
     ]
    },
    {
     "data": {
      "application/vnd.jupyter.widget-view+json": {
       "model_id": "",
       "version_major": 2,
       "version_minor": 0
      },
      "text/plain": [
       "HBox(children=(FloatProgress(value=0.0, description='Training', layout=Layout(flex='2'), max=1125.0, style=Pro…"
      ]
     },
     "metadata": {},
     "output_type": "display_data"
    },
    {
     "name": "stdout",
     "output_type": "stream",
     "text": [
      "Epoch 81: train=1.13875, val=1.06182, took 37.091 s\n"
     ]
    },
    {
     "data": {
      "application/vnd.jupyter.widget-view+json": {
       "model_id": "",
       "version_major": 2,
       "version_minor": 0
      },
      "text/plain": [
       "HBox(children=(FloatProgress(value=0.0, description='Training', layout=Layout(flex='2'), max=1125.0, style=Pro…"
      ]
     },
     "metadata": {},
     "output_type": "display_data"
    },
    {
     "name": "stdout",
     "output_type": "stream",
     "text": [
      "Epoch 82: train=1.15494, val=1.81072, took 37.121 s\n"
     ]
    },
    {
     "data": {
      "application/vnd.jupyter.widget-view+json": {
       "model_id": "",
       "version_major": 2,
       "version_minor": 0
      },
      "text/plain": [
       "HBox(children=(FloatProgress(value=0.0, description='Training', layout=Layout(flex='2'), max=1125.0, style=Pro…"
      ]
     },
     "metadata": {},
     "output_type": "display_data"
    },
    {
     "name": "stdout",
     "output_type": "stream",
     "text": [
      "Epoch 83: train=1.14371, val=1.06031, took 37.075 s\n"
     ]
    },
    {
     "data": {
      "application/vnd.jupyter.widget-view+json": {
       "model_id": "",
       "version_major": 2,
       "version_minor": 0
      },
      "text/plain": [
       "HBox(children=(FloatProgress(value=0.0, description='Training', layout=Layout(flex='2'), max=1125.0, style=Pro…"
      ]
     },
     "metadata": {},
     "output_type": "display_data"
    },
    {
     "name": "stdout",
     "output_type": "stream",
     "text": [
      "Epoch 84: train=1.15151, val=1.09522, took 37.135 s\n"
     ]
    },
    {
     "data": {
      "application/vnd.jupyter.widget-view+json": {
       "model_id": "",
       "version_major": 2,
       "version_minor": 0
      },
      "text/plain": [
       "HBox(children=(FloatProgress(value=0.0, description='Training', layout=Layout(flex='2'), max=1125.0, style=Pro…"
      ]
     },
     "metadata": {},
     "output_type": "display_data"
    },
    {
     "name": "stdout",
     "output_type": "stream",
     "text": [
      "Epoch 85: train=1.14522, val=1.04632, took 36.968 s\n"
     ]
    },
    {
     "data": {
      "application/vnd.jupyter.widget-view+json": {
       "model_id": "",
       "version_major": 2,
       "version_minor": 0
      },
      "text/plain": [
       "HBox(children=(FloatProgress(value=0.0, description='Training', layout=Layout(flex='2'), max=1125.0, style=Pro…"
      ]
     },
     "metadata": {},
     "output_type": "display_data"
    },
    {
     "name": "stdout",
     "output_type": "stream",
     "text": [
      "Epoch 86: train=1.14399, val=1.232, took 37.035 s\n"
     ]
    },
    {
     "data": {
      "application/vnd.jupyter.widget-view+json": {
       "model_id": "",
       "version_major": 2,
       "version_minor": 0
      },
      "text/plain": [
       "HBox(children=(FloatProgress(value=0.0, description='Training', layout=Layout(flex='2'), max=1125.0, style=Pro…"
      ]
     },
     "metadata": {},
     "output_type": "display_data"
    },
    {
     "name": "stdout",
     "output_type": "stream",
     "text": [
      "Epoch 87: train=1.15537, val=1.06378, took 36.873 s\n"
     ]
    },
    {
     "data": {
      "application/vnd.jupyter.widget-view+json": {
       "model_id": "",
       "version_major": 2,
       "version_minor": 0
      },
      "text/plain": [
       "HBox(children=(FloatProgress(value=0.0, description='Training', layout=Layout(flex='2'), max=1125.0, style=Pro…"
      ]
     },
     "metadata": {},
     "output_type": "display_data"
    },
    {
     "name": "stdout",
     "output_type": "stream",
     "text": [
      "Epoch 88: train=1.14147, val=1.08445, took 36.904 s\n"
     ]
    },
    {
     "data": {
      "application/vnd.jupyter.widget-view+json": {
       "model_id": "",
       "version_major": 2,
       "version_minor": 0
      },
      "text/plain": [
       "HBox(children=(FloatProgress(value=0.0, description='Training', layout=Layout(flex='2'), max=1125.0, style=Pro…"
      ]
     },
     "metadata": {},
     "output_type": "display_data"
    },
    {
     "name": "stdout",
     "output_type": "stream",
     "text": [
      "Epoch 89: train=1.15069, val=1.04639, took 36.928 s\n"
     ]
    },
    {
     "data": {
      "application/vnd.jupyter.widget-view+json": {
       "model_id": "",
       "version_major": 2,
       "version_minor": 0
      },
      "text/plain": [
       "HBox(children=(FloatProgress(value=0.0, description='Training', layout=Layout(flex='2'), max=1125.0, style=Pro…"
      ]
     },
     "metadata": {},
     "output_type": "display_data"
    },
    {
     "name": "stdout",
     "output_type": "stream",
     "text": [
      "Epoch 90: train=1.14079, val=1.05613, took 37.033 s\n"
     ]
    },
    {
     "data": {
      "application/vnd.jupyter.widget-view+json": {
       "model_id": "",
       "version_major": 2,
       "version_minor": 0
      },
      "text/plain": [
       "HBox(children=(FloatProgress(value=0.0, description='Training', layout=Layout(flex='2'), max=1125.0, style=Pro…"
      ]
     },
     "metadata": {},
     "output_type": "display_data"
    },
    {
     "name": "stdout",
     "output_type": "stream",
     "text": [
      "Epoch 91: train=1.1473, val=1.0488, took 37.014 s\n"
     ]
    },
    {
     "data": {
      "application/vnd.jupyter.widget-view+json": {
       "model_id": "",
       "version_major": 2,
       "version_minor": 0
      },
      "text/plain": [
       "HBox(children=(FloatProgress(value=0.0, description='Training', layout=Layout(flex='2'), max=1125.0, style=Pro…"
      ]
     },
     "metadata": {},
     "output_type": "display_data"
    },
    {
     "name": "stdout",
     "output_type": "stream",
     "text": [
      "Epoch 92: train=1.14576, val=1.06088, took 36.977 s\n"
     ]
    },
    {
     "data": {
      "application/vnd.jupyter.widget-view+json": {
       "model_id": "",
       "version_major": 2,
       "version_minor": 0
      },
      "text/plain": [
       "HBox(children=(FloatProgress(value=0.0, description='Training', layout=Layout(flex='2'), max=1125.0, style=Pro…"
      ]
     },
     "metadata": {},
     "output_type": "display_data"
    },
    {
     "name": "stdout",
     "output_type": "stream",
     "text": [
      "Epoch 93: train=1.14643, val=1.04212, took 36.967 s\n"
     ]
    },
    {
     "data": {
      "application/vnd.jupyter.widget-view+json": {
       "model_id": "",
       "version_major": 2,
       "version_minor": 0
      },
      "text/plain": [
       "HBox(children=(FloatProgress(value=0.0, description='Training', layout=Layout(flex='2'), max=1125.0, style=Pro…"
      ]
     },
     "metadata": {},
     "output_type": "display_data"
    },
    {
     "name": "stdout",
     "output_type": "stream",
     "text": [
      "Epoch 94: train=1.15161, val=1.06977, took 37.076 s\n"
     ]
    },
    {
     "data": {
      "application/vnd.jupyter.widget-view+json": {
       "model_id": "",
       "version_major": 2,
       "version_minor": 0
      },
      "text/plain": [
       "HBox(children=(FloatProgress(value=0.0, description='Training', layout=Layout(flex='2'), max=1125.0, style=Pro…"
      ]
     },
     "metadata": {},
     "output_type": "display_data"
    },
    {
     "name": "stdout",
     "output_type": "stream",
     "text": [
      "Epoch 95: train=1.1555, val=1.11866, took 36.938 s\n"
     ]
    },
    {
     "data": {
      "application/vnd.jupyter.widget-view+json": {
       "model_id": "",
       "version_major": 2,
       "version_minor": 0
      },
      "text/plain": [
       "HBox(children=(FloatProgress(value=0.0, description='Training', layout=Layout(flex='2'), max=1125.0, style=Pro…"
      ]
     },
     "metadata": {},
     "output_type": "display_data"
    },
    {
     "name": "stdout",
     "output_type": "stream",
     "text": [
      "Epoch 96: train=1.15506, val=1.04802, took 36.878 s\n"
     ]
    },
    {
     "data": {
      "application/vnd.jupyter.widget-view+json": {
       "model_id": "",
       "version_major": 2,
       "version_minor": 0
      },
      "text/plain": [
       "HBox(children=(FloatProgress(value=0.0, description='Training', layout=Layout(flex='2'), max=1125.0, style=Pro…"
      ]
     },
     "metadata": {},
     "output_type": "display_data"
    },
    {
     "name": "stdout",
     "output_type": "stream",
     "text": [
      "Epoch 97: train=1.14307, val=1.0631, took 36.984 s\n"
     ]
    },
    {
     "data": {
      "application/vnd.jupyter.widget-view+json": {
       "model_id": "",
       "version_major": 2,
       "version_minor": 0
      },
      "text/plain": [
       "HBox(children=(FloatProgress(value=0.0, description='Training', layout=Layout(flex='2'), max=1125.0, style=Pro…"
      ]
     },
     "metadata": {},
     "output_type": "display_data"
    },
    {
     "name": "stdout",
     "output_type": "stream",
     "text": [
      "Epoch 98: train=1.13258, val=1.04126, took 37.145 s\n"
     ]
    },
    {
     "data": {
      "application/vnd.jupyter.widget-view+json": {
       "model_id": "",
       "version_major": 2,
       "version_minor": 0
      },
      "text/plain": [
       "HBox(children=(FloatProgress(value=0.0, description='Training', layout=Layout(flex='2'), max=1125.0, style=Pro…"
      ]
     },
     "metadata": {},
     "output_type": "display_data"
    },
    {
     "name": "stdout",
     "output_type": "stream",
     "text": [
      "Epoch 99: train=1.14417, val=1.04672, took 37.06 s\n"
     ]
    },
    {
     "data": {
      "application/vnd.jupyter.widget-view+json": {
       "model_id": "",
       "version_major": 2,
       "version_minor": 0
      },
      "text/plain": [
       "HBox(children=(FloatProgress(value=0.0, description='Training', layout=Layout(flex='2'), max=1125.0, style=Pro…"
      ]
     },
     "metadata": {},
     "output_type": "display_data"
    },
    {
     "name": "stdout",
     "output_type": "stream",
     "text": [
      "Epoch 100: train=1.15542, val=1.05292, took 37.093 s\n"
     ]
    },
    {
     "data": {
      "application/vnd.jupyter.widget-view+json": {
       "model_id": "",
       "version_major": 2,
       "version_minor": 0
      },
      "text/plain": [
       "HBox(children=(FloatProgress(value=0.0, description='Training', layout=Layout(flex='2'), max=1125.0, style=Pro…"
      ]
     },
     "metadata": {},
     "output_type": "display_data"
    },
    {
     "name": "stdout",
     "output_type": "stream",
     "text": [
      "Epoch 101: train=1.13929, val=1.06741, took 36.951 s\n"
     ]
    },
    {
     "data": {
      "application/vnd.jupyter.widget-view+json": {
       "model_id": "",
       "version_major": 2,
       "version_minor": 0
      },
      "text/plain": [
       "HBox(children=(FloatProgress(value=0.0, description='Training', layout=Layout(flex='2'), max=1125.0, style=Pro…"
      ]
     },
     "metadata": {},
     "output_type": "display_data"
    },
    {
     "name": "stdout",
     "output_type": "stream",
     "text": [
      "Epoch 102: train=1.15275, val=1.08744, took 36.85 s\n"
     ]
    },
    {
     "data": {
      "application/vnd.jupyter.widget-view+json": {
       "model_id": "",
       "version_major": 2,
       "version_minor": 0
      },
      "text/plain": [
       "HBox(children=(FloatProgress(value=0.0, description='Training', layout=Layout(flex='2'), max=1125.0, style=Pro…"
      ]
     },
     "metadata": {},
     "output_type": "display_data"
    },
    {
     "name": "stdout",
     "output_type": "stream",
     "text": [
      "Epoch 103: train=1.14763, val=1.0375, took 36.911 s\n"
     ]
    },
    {
     "data": {
      "application/vnd.jupyter.widget-view+json": {
       "model_id": "",
       "version_major": 2,
       "version_minor": 0
      },
      "text/plain": [
       "HBox(children=(FloatProgress(value=0.0, description='Training', layout=Layout(flex='2'), max=1125.0, style=Pro…"
      ]
     },
     "metadata": {},
     "output_type": "display_data"
    },
    {
     "name": "stdout",
     "output_type": "stream",
     "text": [
      "Epoch 104: train=1.13888, val=1.08207, took 36.812 s\n"
     ]
    },
    {
     "data": {
      "application/vnd.jupyter.widget-view+json": {
       "model_id": "",
       "version_major": 2,
       "version_minor": 0
      },
      "text/plain": [
       "HBox(children=(FloatProgress(value=0.0, description='Training', layout=Layout(flex='2'), max=1125.0, style=Pro…"
      ]
     },
     "metadata": {},
     "output_type": "display_data"
    },
    {
     "name": "stdout",
     "output_type": "stream",
     "text": [
      "Epoch 105: train=1.14396, val=1.09826, took 37.047 s\n"
     ]
    },
    {
     "data": {
      "application/vnd.jupyter.widget-view+json": {
       "model_id": "",
       "version_major": 2,
       "version_minor": 0
      },
      "text/plain": [
       "HBox(children=(FloatProgress(value=0.0, description='Training', layout=Layout(flex='2'), max=1125.0, style=Pro…"
      ]
     },
     "metadata": {},
     "output_type": "display_data"
    },
    {
     "name": "stdout",
     "output_type": "stream",
     "text": [
      "Epoch 106: train=1.13757, val=1.04616, took 36.979 s\n"
     ]
    },
    {
     "data": {
      "application/vnd.jupyter.widget-view+json": {
       "model_id": "",
       "version_major": 2,
       "version_minor": 0
      },
      "text/plain": [
       "HBox(children=(FloatProgress(value=0.0, description='Training', layout=Layout(flex='2'), max=1125.0, style=Pro…"
      ]
     },
     "metadata": {},
     "output_type": "display_data"
    },
    {
     "name": "stdout",
     "output_type": "stream",
     "text": [
      "Epoch 107: train=1.13799, val=1.12351, took 36.951 s\n"
     ]
    },
    {
     "data": {
      "application/vnd.jupyter.widget-view+json": {
       "model_id": "",
       "version_major": 2,
       "version_minor": 0
      },
      "text/plain": [
       "HBox(children=(FloatProgress(value=0.0, description='Training', layout=Layout(flex='2'), max=1125.0, style=Pro…"
      ]
     },
     "metadata": {},
     "output_type": "display_data"
    },
    {
     "name": "stdout",
     "output_type": "stream",
     "text": [
      "Epoch 108: train=1.14362, val=1.09799, took 36.955 s\n"
     ]
    },
    {
     "data": {
      "application/vnd.jupyter.widget-view+json": {
       "model_id": "",
       "version_major": 2,
       "version_minor": 0
      },
      "text/plain": [
       "HBox(children=(FloatProgress(value=0.0, description='Training', layout=Layout(flex='2'), max=1125.0, style=Pro…"
      ]
     },
     "metadata": {},
     "output_type": "display_data"
    },
    {
     "name": "stdout",
     "output_type": "stream",
     "text": [
      "Epoch 109: train=1.1401, val=1.11279, took 37.015 s\n"
     ]
    },
    {
     "data": {
      "application/vnd.jupyter.widget-view+json": {
       "model_id": "",
       "version_major": 2,
       "version_minor": 0
      },
      "text/plain": [
       "HBox(children=(FloatProgress(value=0.0, description='Training', layout=Layout(flex='2'), max=1125.0, style=Pro…"
      ]
     },
     "metadata": {},
     "output_type": "display_data"
    },
    {
     "name": "stdout",
     "output_type": "stream",
     "text": [
      "Epoch 110: train=1.1392, val=1.0481, took 36.862 s\n"
     ]
    },
    {
     "data": {
      "application/vnd.jupyter.widget-view+json": {
       "model_id": "",
       "version_major": 2,
       "version_minor": 0
      },
      "text/plain": [
       "HBox(children=(FloatProgress(value=0.0, description='Training', layout=Layout(flex='2'), max=1125.0, style=Pro…"
      ]
     },
     "metadata": {},
     "output_type": "display_data"
    },
    {
     "name": "stdout",
     "output_type": "stream",
     "text": [
      "Epoch 111: train=1.14245, val=1.05228, took 36.925 s\n"
     ]
    },
    {
     "data": {
      "application/vnd.jupyter.widget-view+json": {
       "model_id": "",
       "version_major": 2,
       "version_minor": 0
      },
      "text/plain": [
       "HBox(children=(FloatProgress(value=0.0, description='Training', layout=Layout(flex='2'), max=1125.0, style=Pro…"
      ]
     },
     "metadata": {},
     "output_type": "display_data"
    },
    {
     "name": "stdout",
     "output_type": "stream",
     "text": [
      "Epoch 112: train=1.15043, val=1.04117, took 36.987 s\n"
     ]
    },
    {
     "data": {
      "application/vnd.jupyter.widget-view+json": {
       "model_id": "",
       "version_major": 2,
       "version_minor": 0
      },
      "text/plain": [
       "HBox(children=(FloatProgress(value=0.0, description='Training', layout=Layout(flex='2'), max=1125.0, style=Pro…"
      ]
     },
     "metadata": {},
     "output_type": "display_data"
    },
    {
     "name": "stdout",
     "output_type": "stream",
     "text": [
      "Epoch 113: train=1.13769, val=1.09082, took 36.878 s\n"
     ]
    },
    {
     "data": {
      "application/vnd.jupyter.widget-view+json": {
       "model_id": "",
       "version_major": 2,
       "version_minor": 0
      },
      "text/plain": [
       "HBox(children=(FloatProgress(value=0.0, description='Training', layout=Layout(flex='2'), max=1125.0, style=Pro…"
      ]
     },
     "metadata": {},
     "output_type": "display_data"
    },
    {
     "name": "stdout",
     "output_type": "stream",
     "text": [
      "Epoch 114: train=1.15212, val=1.06001, took 36.858 s\n"
     ]
    },
    {
     "data": {
      "application/vnd.jupyter.widget-view+json": {
       "model_id": "",
       "version_major": 2,
       "version_minor": 0
      },
      "text/plain": [
       "HBox(children=(FloatProgress(value=0.0, description='Training', layout=Layout(flex='2'), max=1125.0, style=Pro…"
      ]
     },
     "metadata": {},
     "output_type": "display_data"
    },
    {
     "name": "stdout",
     "output_type": "stream",
     "text": [
      "Epoch 115: train=1.13894, val=1.04735, took 36.747 s\n"
     ]
    },
    {
     "data": {
      "application/vnd.jupyter.widget-view+json": {
       "model_id": "",
       "version_major": 2,
       "version_minor": 0
      },
      "text/plain": [
       "HBox(children=(FloatProgress(value=0.0, description='Training', layout=Layout(flex='2'), max=1125.0, style=Pro…"
      ]
     },
     "metadata": {},
     "output_type": "display_data"
    },
    {
     "name": "stdout",
     "output_type": "stream",
     "text": [
      "Epoch 116: train=1.13977, val=1.07189, took 36.96 s\n"
     ]
    },
    {
     "data": {
      "application/vnd.jupyter.widget-view+json": {
       "model_id": "",
       "version_major": 2,
       "version_minor": 0
      },
      "text/plain": [
       "HBox(children=(FloatProgress(value=0.0, description='Training', layout=Layout(flex='2'), max=1125.0, style=Pro…"
      ]
     },
     "metadata": {},
     "output_type": "display_data"
    },
    {
     "name": "stdout",
     "output_type": "stream",
     "text": [
      "Epoch 117: train=1.15376, val=1.0393, took 36.918 s\n"
     ]
    },
    {
     "data": {
      "application/vnd.jupyter.widget-view+json": {
       "model_id": "",
       "version_major": 2,
       "version_minor": 0
      },
      "text/plain": [
       "HBox(children=(FloatProgress(value=0.0, description='Training', layout=Layout(flex='2'), max=1125.0, style=Pro…"
      ]
     },
     "metadata": {},
     "output_type": "display_data"
    },
    {
     "name": "stdout",
     "output_type": "stream",
     "text": [
      "Epoch 118: train=1.14312, val=1.06644, took 37.049 s\n"
     ]
    },
    {
     "data": {
      "application/vnd.jupyter.widget-view+json": {
       "model_id": "",
       "version_major": 2,
       "version_minor": 0
      },
      "text/plain": [
       "HBox(children=(FloatProgress(value=0.0, description='Training', layout=Layout(flex='2'), max=1125.0, style=Pro…"
      ]
     },
     "metadata": {},
     "output_type": "display_data"
    },
    {
     "name": "stdout",
     "output_type": "stream",
     "text": [
      "Epoch 119: train=1.13517, val=1.05446, took 36.85 s\n"
     ]
    },
    {
     "data": {
      "application/vnd.jupyter.widget-view+json": {
       "model_id": "",
       "version_major": 2,
       "version_minor": 0
      },
      "text/plain": [
       "HBox(children=(FloatProgress(value=0.0, description='Training', layout=Layout(flex='2'), max=1125.0, style=Pro…"
      ]
     },
     "metadata": {},
     "output_type": "display_data"
    },
    {
     "name": "stdout",
     "output_type": "stream",
     "text": [
      "Epoch 120: train=1.1582, val=1.07475, took 36.879 s\n"
     ]
    },
    {
     "data": {
      "application/vnd.jupyter.widget-view+json": {
       "model_id": "",
       "version_major": 2,
       "version_minor": 0
      },
      "text/plain": [
       "HBox(children=(FloatProgress(value=0.0, description='Training', layout=Layout(flex='2'), max=1125.0, style=Pro…"
      ]
     },
     "metadata": {},
     "output_type": "display_data"
    },
    {
     "name": "stdout",
     "output_type": "stream",
     "text": [
      "Epoch 121: train=1.15103, val=1.0552, took 36.872 s\n"
     ]
    },
    {
     "data": {
      "application/vnd.jupyter.widget-view+json": {
       "model_id": "",
       "version_major": 2,
       "version_minor": 0
      },
      "text/plain": [
       "HBox(children=(FloatProgress(value=0.0, description='Training', layout=Layout(flex='2'), max=1125.0, style=Pro…"
      ]
     },
     "metadata": {},
     "output_type": "display_data"
    },
    {
     "name": "stdout",
     "output_type": "stream",
     "text": [
      "Epoch 122: train=1.1385, val=1.07823, took 36.927 s\n"
     ]
    },
    {
     "data": {
      "application/vnd.jupyter.widget-view+json": {
       "model_id": "",
       "version_major": 2,
       "version_minor": 0
      },
      "text/plain": [
       "HBox(children=(FloatProgress(value=0.0, description='Training', layout=Layout(flex='2'), max=1125.0, style=Pro…"
      ]
     },
     "metadata": {},
     "output_type": "display_data"
    },
    {
     "name": "stdout",
     "output_type": "stream",
     "text": [
      "Epoch 123: train=1.14305, val=1.04096, took 37.072 s\n"
     ]
    },
    {
     "data": {
      "application/vnd.jupyter.widget-view+json": {
       "model_id": "",
       "version_major": 2,
       "version_minor": 0
      },
      "text/plain": [
       "HBox(children=(FloatProgress(value=0.0, description='Training', layout=Layout(flex='2'), max=1125.0, style=Pro…"
      ]
     },
     "metadata": {},
     "output_type": "display_data"
    },
    {
     "name": "stdout",
     "output_type": "stream",
     "text": [
      "Epoch 124: train=1.13189, val=1.12104, took 36.927 s\n"
     ]
    },
    {
     "data": {
      "application/vnd.jupyter.widget-view+json": {
       "model_id": "",
       "version_major": 2,
       "version_minor": 0
      },
      "text/plain": [
       "HBox(children=(FloatProgress(value=0.0, description='Training', layout=Layout(flex='2'), max=1125.0, style=Pro…"
      ]
     },
     "metadata": {},
     "output_type": "display_data"
    },
    {
     "name": "stdout",
     "output_type": "stream",
     "text": [
      "Epoch 125: train=1.14176, val=1.0426, took 36.939 s\n"
     ]
    },
    {
     "data": {
      "application/vnd.jupyter.widget-view+json": {
       "model_id": "",
       "version_major": 2,
       "version_minor": 0
      },
      "text/plain": [
       "HBox(children=(FloatProgress(value=0.0, description='Training', layout=Layout(flex='2'), max=1125.0, style=Pro…"
      ]
     },
     "metadata": {},
     "output_type": "display_data"
    },
    {
     "name": "stdout",
     "output_type": "stream",
     "text": [
      "Epoch 126: train=1.1336, val=1.04863, took 36.833 s\n"
     ]
    },
    {
     "data": {
      "application/vnd.jupyter.widget-view+json": {
       "model_id": "",
       "version_major": 2,
       "version_minor": 0
      },
      "text/plain": [
       "HBox(children=(FloatProgress(value=0.0, description='Training', layout=Layout(flex='2'), max=1125.0, style=Pro…"
      ]
     },
     "metadata": {},
     "output_type": "display_data"
    },
    {
     "name": "stdout",
     "output_type": "stream",
     "text": [
      "Epoch 127: train=1.1401, val=1.09124, took 36.864 s\n"
     ]
    },
    {
     "data": {
      "application/vnd.jupyter.widget-view+json": {
       "model_id": "",
       "version_major": 2,
       "version_minor": 0
      },
      "text/plain": [
       "HBox(children=(FloatProgress(value=0.0, description='Training', layout=Layout(flex='2'), max=1125.0, style=Pro…"
      ]
     },
     "metadata": {},
     "output_type": "display_data"
    },
    {
     "name": "stdout",
     "output_type": "stream",
     "text": [
      "Epoch 128: train=1.14366, val=1.04048, took 37.103 s\n"
     ]
    },
    {
     "data": {
      "application/vnd.jupyter.widget-view+json": {
       "model_id": "",
       "version_major": 2,
       "version_minor": 0
      },
      "text/plain": [
       "HBox(children=(FloatProgress(value=0.0, description='Training', layout=Layout(flex='2'), max=1125.0, style=Pro…"
      ]
     },
     "metadata": {},
     "output_type": "display_data"
    },
    {
     "name": "stdout",
     "output_type": "stream",
     "text": [
      "Epoch 129: train=1.14588, val=1.03819, took 36.903 s\n"
     ]
    },
    {
     "data": {
      "application/vnd.jupyter.widget-view+json": {
       "model_id": "",
       "version_major": 2,
       "version_minor": 0
      },
      "text/plain": [
       "HBox(children=(FloatProgress(value=0.0, description='Training', layout=Layout(flex='2'), max=1125.0, style=Pro…"
      ]
     },
     "metadata": {},
     "output_type": "display_data"
    },
    {
     "name": "stdout",
     "output_type": "stream",
     "text": [
      "Epoch 130: train=1.13328, val=1.03842, took 36.931 s\n"
     ]
    },
    {
     "data": {
      "application/vnd.jupyter.widget-view+json": {
       "model_id": "",
       "version_major": 2,
       "version_minor": 0
      },
      "text/plain": [
       "HBox(children=(FloatProgress(value=0.0, description='Training', layout=Layout(flex='2'), max=1125.0, style=Pro…"
      ]
     },
     "metadata": {},
     "output_type": "display_data"
    },
    {
     "name": "stdout",
     "output_type": "stream",
     "text": [
      "Epoch 131: train=1.13803, val=1.06193, took 36.961 s\n"
     ]
    },
    {
     "data": {
      "application/vnd.jupyter.widget-view+json": {
       "model_id": "",
       "version_major": 2,
       "version_minor": 0
      },
      "text/plain": [
       "HBox(children=(FloatProgress(value=0.0, description='Training', layout=Layout(flex='2'), max=1125.0, style=Pro…"
      ]
     },
     "metadata": {},
     "output_type": "display_data"
    },
    {
     "name": "stdout",
     "output_type": "stream",
     "text": [
      "Epoch 132: train=1.13462, val=1.04079, took 36.868 s\n"
     ]
    },
    {
     "data": {
      "application/vnd.jupyter.widget-view+json": {
       "model_id": "",
       "version_major": 2,
       "version_minor": 0
      },
      "text/plain": [
       "HBox(children=(FloatProgress(value=0.0, description='Training', layout=Layout(flex='2'), max=1125.0, style=Pro…"
      ]
     },
     "metadata": {},
     "output_type": "display_data"
    },
    {
     "name": "stdout",
     "output_type": "stream",
     "text": [
      "Epoch 133: train=1.1339, val=1.05154, took 36.918 s\n"
     ]
    },
    {
     "data": {
      "application/vnd.jupyter.widget-view+json": {
       "model_id": "",
       "version_major": 2,
       "version_minor": 0
      },
      "text/plain": [
       "HBox(children=(FloatProgress(value=0.0, description='Training', layout=Layout(flex='2'), max=1125.0, style=Pro…"
      ]
     },
     "metadata": {},
     "output_type": "display_data"
    },
    {
     "name": "stdout",
     "output_type": "stream",
     "text": [
      "Epoch 134: train=1.15412, val=1.09813, took 36.832 s\n"
     ]
    },
    {
     "data": {
      "application/vnd.jupyter.widget-view+json": {
       "model_id": "",
       "version_major": 2,
       "version_minor": 0
      },
      "text/plain": [
       "HBox(children=(FloatProgress(value=0.0, description='Training', layout=Layout(flex='2'), max=1125.0, style=Pro…"
      ]
     },
     "metadata": {},
     "output_type": "display_data"
    },
    {
     "name": "stdout",
     "output_type": "stream",
     "text": [
      "Epoch 135: train=1.13261, val=1.08366, took 36.786 s\n"
     ]
    },
    {
     "data": {
      "application/vnd.jupyter.widget-view+json": {
       "model_id": "",
       "version_major": 2,
       "version_minor": 0
      },
      "text/plain": [
       "HBox(children=(FloatProgress(value=0.0, description='Training', layout=Layout(flex='2'), max=1125.0, style=Pro…"
      ]
     },
     "metadata": {},
     "output_type": "display_data"
    },
    {
     "name": "stdout",
     "output_type": "stream",
     "text": [
      "Epoch 136: train=1.13453, val=1.0749, took 36.811 s\n"
     ]
    },
    {
     "data": {
      "application/vnd.jupyter.widget-view+json": {
       "model_id": "",
       "version_major": 2,
       "version_minor": 0
      },
      "text/plain": [
       "HBox(children=(FloatProgress(value=0.0, description='Training', layout=Layout(flex='2'), max=1125.0, style=Pro…"
      ]
     },
     "metadata": {},
     "output_type": "display_data"
    },
    {
     "name": "stdout",
     "output_type": "stream",
     "text": [
      "Epoch 137: train=1.14664, val=1.05106, took 36.888 s\n"
     ]
    },
    {
     "data": {
      "application/vnd.jupyter.widget-view+json": {
       "model_id": "",
       "version_major": 2,
       "version_minor": 0
      },
      "text/plain": [
       "HBox(children=(FloatProgress(value=0.0, description='Training', layout=Layout(flex='2'), max=1125.0, style=Pro…"
      ]
     },
     "metadata": {},
     "output_type": "display_data"
    },
    {
     "name": "stdout",
     "output_type": "stream",
     "text": [
      "Epoch 138: train=1.1316, val=1.14635, took 36.795 s\n"
     ]
    },
    {
     "data": {
      "application/vnd.jupyter.widget-view+json": {
       "model_id": "",
       "version_major": 2,
       "version_minor": 0
      },
      "text/plain": [
       "HBox(children=(FloatProgress(value=0.0, description='Training', layout=Layout(flex='2'), max=1125.0, style=Pro…"
      ]
     },
     "metadata": {},
     "output_type": "display_data"
    },
    {
     "name": "stdout",
     "output_type": "stream",
     "text": [
      "Epoch 139: train=1.12899, val=1.06312, took 36.862 s\n"
     ]
    },
    {
     "data": {
      "application/vnd.jupyter.widget-view+json": {
       "model_id": "",
       "version_major": 2,
       "version_minor": 0
      },
      "text/plain": [
       "HBox(children=(FloatProgress(value=0.0, description='Training', layout=Layout(flex='2'), max=1125.0, style=Pro…"
      ]
     },
     "metadata": {},
     "output_type": "display_data"
    },
    {
     "name": "stdout",
     "output_type": "stream",
     "text": [
      "Epoch 140: train=1.1271, val=1.03848, took 37.294 s\n"
     ]
    },
    {
     "data": {
      "application/vnd.jupyter.widget-view+json": {
       "model_id": "",
       "version_major": 2,
       "version_minor": 0
      },
      "text/plain": [
       "HBox(children=(FloatProgress(value=0.0, description='Training', layout=Layout(flex='2'), max=1125.0, style=Pro…"
      ]
     },
     "metadata": {},
     "output_type": "display_data"
    },
    {
     "name": "stdout",
     "output_type": "stream",
     "text": [
      "Epoch 141: train=1.14725, val=1.06538, took 36.88 s\n"
     ]
    },
    {
     "data": {
      "application/vnd.jupyter.widget-view+json": {
       "model_id": "",
       "version_major": 2,
       "version_minor": 0
      },
      "text/plain": [
       "HBox(children=(FloatProgress(value=0.0, description='Training', layout=Layout(flex='2'), max=1125.0, style=Pro…"
      ]
     },
     "metadata": {},
     "output_type": "display_data"
    },
    {
     "name": "stdout",
     "output_type": "stream",
     "text": [
      "Epoch 142: train=1.16467, val=1.05618, took 36.834 s\n"
     ]
    },
    {
     "data": {
      "application/vnd.jupyter.widget-view+json": {
       "model_id": "",
       "version_major": 2,
       "version_minor": 0
      },
      "text/plain": [
       "HBox(children=(FloatProgress(value=0.0, description='Training', layout=Layout(flex='2'), max=1125.0, style=Pro…"
      ]
     },
     "metadata": {},
     "output_type": "display_data"
    },
    {
     "name": "stdout",
     "output_type": "stream",
     "text": [
      "Epoch 143: train=1.13177, val=1.05291, took 36.949 s\n"
     ]
    },
    {
     "data": {
      "application/vnd.jupyter.widget-view+json": {
       "model_id": "",
       "version_major": 2,
       "version_minor": 0
      },
      "text/plain": [
       "HBox(children=(FloatProgress(value=0.0, description='Training', layout=Layout(flex='2'), max=1125.0, style=Pro…"
      ]
     },
     "metadata": {},
     "output_type": "display_data"
    },
    {
     "name": "stdout",
     "output_type": "stream",
     "text": [
      "Epoch 144: train=1.13862, val=1.08766, took 36.917 s\n"
     ]
    },
    {
     "data": {
      "application/vnd.jupyter.widget-view+json": {
       "model_id": "",
       "version_major": 2,
       "version_minor": 0
      },
      "text/plain": [
       "HBox(children=(FloatProgress(value=0.0, description='Training', layout=Layout(flex='2'), max=1125.0, style=Pro…"
      ]
     },
     "metadata": {},
     "output_type": "display_data"
    },
    {
     "name": "stdout",
     "output_type": "stream",
     "text": [
      "Epoch 145: train=1.13243, val=1.04075, took 37.028 s\n"
     ]
    },
    {
     "data": {
      "application/vnd.jupyter.widget-view+json": {
       "model_id": "",
       "version_major": 2,
       "version_minor": 0
      },
      "text/plain": [
       "HBox(children=(FloatProgress(value=0.0, description='Training', layout=Layout(flex='2'), max=1125.0, style=Pro…"
      ]
     },
     "metadata": {},
     "output_type": "display_data"
    },
    {
     "name": "stdout",
     "output_type": "stream",
     "text": [
      "Epoch 146: train=1.13707, val=1.04054, took 37.017 s\n"
     ]
    },
    {
     "data": {
      "application/vnd.jupyter.widget-view+json": {
       "model_id": "",
       "version_major": 2,
       "version_minor": 0
      },
      "text/plain": [
       "HBox(children=(FloatProgress(value=0.0, description='Training', layout=Layout(flex='2'), max=1125.0, style=Pro…"
      ]
     },
     "metadata": {},
     "output_type": "display_data"
    },
    {
     "name": "stdout",
     "output_type": "stream",
     "text": [
      "Epoch 147: train=1.13221, val=1.06214, took 36.923 s\n"
     ]
    },
    {
     "data": {
      "application/vnd.jupyter.widget-view+json": {
       "model_id": "",
       "version_major": 2,
       "version_minor": 0
      },
      "text/plain": [
       "HBox(children=(FloatProgress(value=0.0, description='Training', layout=Layout(flex='2'), max=1125.0, style=Pro…"
      ]
     },
     "metadata": {},
     "output_type": "display_data"
    },
    {
     "name": "stdout",
     "output_type": "stream",
     "text": [
      "Epoch 148: train=1.14464, val=1.09515, took 36.861 s\n"
     ]
    },
    {
     "data": {
      "application/vnd.jupyter.widget-view+json": {
       "model_id": "",
       "version_major": 2,
       "version_minor": 0
      },
      "text/plain": [
       "HBox(children=(FloatProgress(value=0.0, description='Training', layout=Layout(flex='2'), max=1125.0, style=Pro…"
      ]
     },
     "metadata": {},
     "output_type": "display_data"
    },
    {
     "name": "stdout",
     "output_type": "stream",
     "text": [
      "Epoch 149: train=1.14595, val=1.08336, took 36.887 s\n"
     ]
    },
    {
     "data": {
      "application/vnd.jupyter.widget-view+json": {
       "model_id": "",
       "version_major": 2,
       "version_minor": 0
      },
      "text/plain": [
       "HBox(children=(FloatProgress(value=0.0, description='Training', layout=Layout(flex='2'), max=1125.0, style=Pro…"
      ]
     },
     "metadata": {},
     "output_type": "display_data"
    },
    {
     "name": "stdout",
     "output_type": "stream",
     "text": [
      "Epoch 150: train=1.13667, val=1.04471, took 36.944 s\n"
     ]
    },
    {
     "data": {
      "application/vnd.jupyter.widget-view+json": {
       "model_id": "",
       "version_major": 2,
       "version_minor": 0
      },
      "text/plain": [
       "HBox(children=(FloatProgress(value=0.0, description='Training', layout=Layout(flex='2'), max=1125.0, style=Pro…"
      ]
     },
     "metadata": {},
     "output_type": "display_data"
    },
    {
     "name": "stdout",
     "output_type": "stream",
     "text": [
      "Epoch 151: train=1.12951, val=1.10232, took 37.335 s\n"
     ]
    },
    {
     "data": {
      "application/vnd.jupyter.widget-view+json": {
       "model_id": "",
       "version_major": 2,
       "version_minor": 0
      },
      "text/plain": [
       "HBox(children=(FloatProgress(value=0.0, description='Training', layout=Layout(flex='2'), max=1125.0, style=Pro…"
      ]
     },
     "metadata": {},
     "output_type": "display_data"
    },
    {
     "name": "stdout",
     "output_type": "stream",
     "text": [
      "Epoch 152: train=1.137, val=1.08749, took 37.111 s\n"
     ]
    },
    {
     "data": {
      "application/vnd.jupyter.widget-view+json": {
       "model_id": "",
       "version_major": 2,
       "version_minor": 0
      },
      "text/plain": [
       "HBox(children=(FloatProgress(value=0.0, description='Training', layout=Layout(flex='2'), max=1125.0, style=Pro…"
      ]
     },
     "metadata": {},
     "output_type": "display_data"
    },
    {
     "name": "stdout",
     "output_type": "stream",
     "text": [
      "Epoch 153: train=1.13434, val=1.16429, took 36.93 s\n"
     ]
    },
    {
     "data": {
      "application/vnd.jupyter.widget-view+json": {
       "model_id": "",
       "version_major": 2,
       "version_minor": 0
      },
      "text/plain": [
       "HBox(children=(FloatProgress(value=0.0, description='Training', layout=Layout(flex='2'), max=1125.0, style=Pro…"
      ]
     },
     "metadata": {},
     "output_type": "display_data"
    },
    {
     "name": "stdout",
     "output_type": "stream",
     "text": [
      "Epoch 154: train=1.12715, val=1.08827, took 36.861 s\n"
     ]
    },
    {
     "data": {
      "application/vnd.jupyter.widget-view+json": {
       "model_id": "",
       "version_major": 2,
       "version_minor": 0
      },
      "text/plain": [
       "HBox(children=(FloatProgress(value=0.0, description='Training', layout=Layout(flex='2'), max=1125.0, style=Pro…"
      ]
     },
     "metadata": {},
     "output_type": "display_data"
    },
    {
     "name": "stdout",
     "output_type": "stream",
     "text": [
      "Epoch 155: train=1.13129, val=1.07444, took 36.861 s\n"
     ]
    },
    {
     "data": {
      "application/vnd.jupyter.widget-view+json": {
       "model_id": "",
       "version_major": 2,
       "version_minor": 0
      },
      "text/plain": [
       "HBox(children=(FloatProgress(value=0.0, description='Training', layout=Layout(flex='2'), max=1125.0, style=Pro…"
      ]
     },
     "metadata": {},
     "output_type": "display_data"
    },
    {
     "name": "stdout",
     "output_type": "stream",
     "text": [
      "Epoch 156: train=1.13711, val=1.13895, took 36.864 s\n"
     ]
    },
    {
     "data": {
      "application/vnd.jupyter.widget-view+json": {
       "model_id": "",
       "version_major": 2,
       "version_minor": 0
      },
      "text/plain": [
       "HBox(children=(FloatProgress(value=0.0, description='Training', layout=Layout(flex='2'), max=1125.0, style=Pro…"
      ]
     },
     "metadata": {},
     "output_type": "display_data"
    },
    {
     "name": "stdout",
     "output_type": "stream",
     "text": [
      "Epoch 157: train=1.12751, val=1.03818, took 36.998 s\n"
     ]
    },
    {
     "data": {
      "application/vnd.jupyter.widget-view+json": {
       "model_id": "",
       "version_major": 2,
       "version_minor": 0
      },
      "text/plain": [
       "HBox(children=(FloatProgress(value=0.0, description='Training', layout=Layout(flex='2'), max=1125.0, style=Pro…"
      ]
     },
     "metadata": {},
     "output_type": "display_data"
    },
    {
     "name": "stdout",
     "output_type": "stream",
     "text": [
      "Epoch 158: train=1.13384, val=1.14348, took 36.905 s\n"
     ]
    },
    {
     "data": {
      "application/vnd.jupyter.widget-view+json": {
       "model_id": "",
       "version_major": 2,
       "version_minor": 0
      },
      "text/plain": [
       "HBox(children=(FloatProgress(value=0.0, description='Training', layout=Layout(flex='2'), max=1125.0, style=Pro…"
      ]
     },
     "metadata": {},
     "output_type": "display_data"
    },
    {
     "name": "stdout",
     "output_type": "stream",
     "text": [
      "Epoch 159: train=1.14292, val=1.07267, took 37.128 s\n"
     ]
    },
    {
     "data": {
      "application/vnd.jupyter.widget-view+json": {
       "model_id": "",
       "version_major": 2,
       "version_minor": 0
      },
      "text/plain": [
       "HBox(children=(FloatProgress(value=0.0, description='Training', layout=Layout(flex='2'), max=1125.0, style=Pro…"
      ]
     },
     "metadata": {},
     "output_type": "display_data"
    },
    {
     "name": "stdout",
     "output_type": "stream",
     "text": [
      "Epoch 160: train=1.13089, val=1.05089, took 36.97 s\n"
     ]
    },
    {
     "data": {
      "application/vnd.jupyter.widget-view+json": {
       "model_id": "",
       "version_major": 2,
       "version_minor": 0
      },
      "text/plain": [
       "HBox(children=(FloatProgress(value=0.0, description='Training', layout=Layout(flex='2'), max=1125.0, style=Pro…"
      ]
     },
     "metadata": {},
     "output_type": "display_data"
    },
    {
     "name": "stdout",
     "output_type": "stream",
     "text": [
      "Epoch 161: train=1.12882, val=1.03594, took 36.946 s\n"
     ]
    },
    {
     "data": {
      "application/vnd.jupyter.widget-view+json": {
       "model_id": "",
       "version_major": 2,
       "version_minor": 0
      },
      "text/plain": [
       "HBox(children=(FloatProgress(value=0.0, description='Training', layout=Layout(flex='2'), max=1125.0, style=Pro…"
      ]
     },
     "metadata": {},
     "output_type": "display_data"
    },
    {
     "name": "stdout",
     "output_type": "stream",
     "text": [
      "Epoch 162: train=1.13896, val=1.0829, took 36.968 s\n"
     ]
    },
    {
     "data": {
      "application/vnd.jupyter.widget-view+json": {
       "model_id": "",
       "version_major": 2,
       "version_minor": 0
      },
      "text/plain": [
       "HBox(children=(FloatProgress(value=0.0, description='Training', layout=Layout(flex='2'), max=1125.0, style=Pro…"
      ]
     },
     "metadata": {},
     "output_type": "display_data"
    },
    {
     "name": "stdout",
     "output_type": "stream",
     "text": [
      "Epoch 163: train=1.13423, val=1.03886, took 36.948 s\n"
     ]
    },
    {
     "data": {
      "application/vnd.jupyter.widget-view+json": {
       "model_id": "",
       "version_major": 2,
       "version_minor": 0
      },
      "text/plain": [
       "HBox(children=(FloatProgress(value=0.0, description='Training', layout=Layout(flex='2'), max=1125.0, style=Pro…"
      ]
     },
     "metadata": {},
     "output_type": "display_data"
    },
    {
     "name": "stdout",
     "output_type": "stream",
     "text": [
      "Epoch 164: train=1.12681, val=1.07037, took 36.959 s\n"
     ]
    },
    {
     "data": {
      "application/vnd.jupyter.widget-view+json": {
       "model_id": "",
       "version_major": 2,
       "version_minor": 0
      },
      "text/plain": [
       "HBox(children=(FloatProgress(value=0.0, description='Training', layout=Layout(flex='2'), max=1125.0, style=Pro…"
      ]
     },
     "metadata": {},
     "output_type": "display_data"
    },
    {
     "name": "stdout",
     "output_type": "stream",
     "text": [
      "Epoch 165: train=1.12422, val=1.05313, took 36.905 s\n"
     ]
    },
    {
     "data": {
      "application/vnd.jupyter.widget-view+json": {
       "model_id": "",
       "version_major": 2,
       "version_minor": 0
      },
      "text/plain": [
       "HBox(children=(FloatProgress(value=0.0, description='Training', layout=Layout(flex='2'), max=1125.0, style=Pro…"
      ]
     },
     "metadata": {},
     "output_type": "display_data"
    },
    {
     "name": "stdout",
     "output_type": "stream",
     "text": [
      "Epoch 166: train=1.13799, val=1.04777, took 36.951 s\n"
     ]
    },
    {
     "data": {
      "application/vnd.jupyter.widget-view+json": {
       "model_id": "",
       "version_major": 2,
       "version_minor": 0
      },
      "text/plain": [
       "HBox(children=(FloatProgress(value=0.0, description='Training', layout=Layout(flex='2'), max=1125.0, style=Pro…"
      ]
     },
     "metadata": {},
     "output_type": "display_data"
    },
    {
     "name": "stdout",
     "output_type": "stream",
     "text": [
      "Epoch 167: train=1.12566, val=1.08452, took 36.843 s\n"
     ]
    },
    {
     "data": {
      "application/vnd.jupyter.widget-view+json": {
       "model_id": "",
       "version_major": 2,
       "version_minor": 0
      },
      "text/plain": [
       "HBox(children=(FloatProgress(value=0.0, description='Training', layout=Layout(flex='2'), max=1125.0, style=Pro…"
      ]
     },
     "metadata": {},
     "output_type": "display_data"
    },
    {
     "name": "stdout",
     "output_type": "stream",
     "text": [
      "Epoch 168: train=1.13795, val=1.04611, took 36.908 s\n"
     ]
    },
    {
     "data": {
      "application/vnd.jupyter.widget-view+json": {
       "model_id": "",
       "version_major": 2,
       "version_minor": 0
      },
      "text/plain": [
       "HBox(children=(FloatProgress(value=0.0, description='Training', layout=Layout(flex='2'), max=1125.0, style=Pro…"
      ]
     },
     "metadata": {},
     "output_type": "display_data"
    },
    {
     "name": "stdout",
     "output_type": "stream",
     "text": [
      "Epoch 169: train=1.13155, val=1.18295, took 36.988 s\n"
     ]
    },
    {
     "data": {
      "application/vnd.jupyter.widget-view+json": {
       "model_id": "",
       "version_major": 2,
       "version_minor": 0
      },
      "text/plain": [
       "HBox(children=(FloatProgress(value=0.0, description='Training', layout=Layout(flex='2'), max=1125.0, style=Pro…"
      ]
     },
     "metadata": {},
     "output_type": "display_data"
    },
    {
     "name": "stdout",
     "output_type": "stream",
     "text": [
      "Epoch 170: train=1.12851, val=1.03892, took 36.92 s\n"
     ]
    },
    {
     "data": {
      "application/vnd.jupyter.widget-view+json": {
       "model_id": "",
       "version_major": 2,
       "version_minor": 0
      },
      "text/plain": [
       "HBox(children=(FloatProgress(value=0.0, description='Training', layout=Layout(flex='2'), max=1125.0, style=Pro…"
      ]
     },
     "metadata": {},
     "output_type": "display_data"
    },
    {
     "name": "stdout",
     "output_type": "stream",
     "text": [
      "Epoch 171: train=1.12644, val=1.09289, took 37.043 s\n"
     ]
    },
    {
     "data": {
      "application/vnd.jupyter.widget-view+json": {
       "model_id": "",
       "version_major": 2,
       "version_minor": 0
      },
      "text/plain": [
       "HBox(children=(FloatProgress(value=0.0, description='Training', layout=Layout(flex='2'), max=1125.0, style=Pro…"
      ]
     },
     "metadata": {},
     "output_type": "display_data"
    },
    {
     "name": "stdout",
     "output_type": "stream",
     "text": [
      "Epoch 172: train=1.12576, val=1.07335, took 37.069 s\n"
     ]
    },
    {
     "data": {
      "application/vnd.jupyter.widget-view+json": {
       "model_id": "",
       "version_major": 2,
       "version_minor": 0
      },
      "text/plain": [
       "HBox(children=(FloatProgress(value=0.0, description='Training', layout=Layout(flex='2'), max=1125.0, style=Pro…"
      ]
     },
     "metadata": {},
     "output_type": "display_data"
    },
    {
     "name": "stdout",
     "output_type": "stream",
     "text": [
      "Epoch 173: train=1.12911, val=1.0364, took 36.97 s\n"
     ]
    },
    {
     "data": {
      "application/vnd.jupyter.widget-view+json": {
       "model_id": "",
       "version_major": 2,
       "version_minor": 0
      },
      "text/plain": [
       "HBox(children=(FloatProgress(value=0.0, description='Training', layout=Layout(flex='2'), max=1125.0, style=Pro…"
      ]
     },
     "metadata": {},
     "output_type": "display_data"
    },
    {
     "name": "stdout",
     "output_type": "stream",
     "text": [
      "Epoch 174: train=1.12883, val=1.04915, took 37.09 s\n"
     ]
    },
    {
     "data": {
      "application/vnd.jupyter.widget-view+json": {
       "model_id": "",
       "version_major": 2,
       "version_minor": 0
      },
      "text/plain": [
       "HBox(children=(FloatProgress(value=0.0, description='Training', layout=Layout(flex='2'), max=1125.0, style=Pro…"
      ]
     },
     "metadata": {},
     "output_type": "display_data"
    },
    {
     "name": "stdout",
     "output_type": "stream",
     "text": [
      "Epoch 175: train=1.13278, val=1.0951, took 36.821 s\n"
     ]
    },
    {
     "data": {
      "application/vnd.jupyter.widget-view+json": {
       "model_id": "",
       "version_major": 2,
       "version_minor": 0
      },
      "text/plain": [
       "HBox(children=(FloatProgress(value=0.0, description='Training', layout=Layout(flex='2'), max=1125.0, style=Pro…"
      ]
     },
     "metadata": {},
     "output_type": "display_data"
    },
    {
     "name": "stdout",
     "output_type": "stream",
     "text": [
      "Epoch 176: train=1.13651, val=1.05223, took 36.892 s\n"
     ]
    },
    {
     "data": {
      "application/vnd.jupyter.widget-view+json": {
       "model_id": "",
       "version_major": 2,
       "version_minor": 0
      },
      "text/plain": [
       "HBox(children=(FloatProgress(value=0.0, description='Training', layout=Layout(flex='2'), max=1125.0, style=Pro…"
      ]
     },
     "metadata": {},
     "output_type": "display_data"
    },
    {
     "name": "stdout",
     "output_type": "stream",
     "text": [
      "Epoch 177: train=1.11954, val=1.05376, took 36.905 s\n"
     ]
    },
    {
     "data": {
      "application/vnd.jupyter.widget-view+json": {
       "model_id": "",
       "version_major": 2,
       "version_minor": 0
      },
      "text/plain": [
       "HBox(children=(FloatProgress(value=0.0, description='Training', layout=Layout(flex='2'), max=1125.0, style=Pro…"
      ]
     },
     "metadata": {},
     "output_type": "display_data"
    },
    {
     "name": "stdout",
     "output_type": "stream",
     "text": [
      "Epoch 178: train=1.13053, val=1.08094, took 36.894 s\n"
     ]
    },
    {
     "data": {
      "application/vnd.jupyter.widget-view+json": {
       "model_id": "",
       "version_major": 2,
       "version_minor": 0
      },
      "text/plain": [
       "HBox(children=(FloatProgress(value=0.0, description='Training', layout=Layout(flex='2'), max=1125.0, style=Pro…"
      ]
     },
     "metadata": {},
     "output_type": "display_data"
    },
    {
     "name": "stdout",
     "output_type": "stream",
     "text": [
      "Epoch 179: train=1.12521, val=1.03368, took 36.862 s\n"
     ]
    },
    {
     "data": {
      "application/vnd.jupyter.widget-view+json": {
       "model_id": "",
       "version_major": 2,
       "version_minor": 0
      },
      "text/plain": [
       "HBox(children=(FloatProgress(value=0.0, description='Training', layout=Layout(flex='2'), max=1125.0, style=Pro…"
      ]
     },
     "metadata": {},
     "output_type": "display_data"
    },
    {
     "name": "stdout",
     "output_type": "stream",
     "text": [
      "Epoch 180: train=1.12457, val=1.04447, took 36.863 s\n"
     ]
    },
    {
     "data": {
      "application/vnd.jupyter.widget-view+json": {
       "model_id": "",
       "version_major": 2,
       "version_minor": 0
      },
      "text/plain": [
       "HBox(children=(FloatProgress(value=0.0, description='Training', layout=Layout(flex='2'), max=1125.0, style=Pro…"
      ]
     },
     "metadata": {},
     "output_type": "display_data"
    },
    {
     "name": "stdout",
     "output_type": "stream",
     "text": [
      "Epoch 181: train=1.12208, val=1.21418, took 36.96 s\n"
     ]
    },
    {
     "data": {
      "application/vnd.jupyter.widget-view+json": {
       "model_id": "",
       "version_major": 2,
       "version_minor": 0
      },
      "text/plain": [
       "HBox(children=(FloatProgress(value=0.0, description='Training', layout=Layout(flex='2'), max=1125.0, style=Pro…"
      ]
     },
     "metadata": {},
     "output_type": "display_data"
    },
    {
     "name": "stdout",
     "output_type": "stream",
     "text": [
      "Epoch 182: train=1.1229, val=1.04593, took 36.974 s\n"
     ]
    },
    {
     "data": {
      "application/vnd.jupyter.widget-view+json": {
       "model_id": "",
       "version_major": 2,
       "version_minor": 0
      },
      "text/plain": [
       "HBox(children=(FloatProgress(value=0.0, description='Training', layout=Layout(flex='2'), max=1125.0, style=Pro…"
      ]
     },
     "metadata": {},
     "output_type": "display_data"
    },
    {
     "name": "stdout",
     "output_type": "stream",
     "text": [
      "Epoch 183: train=1.12702, val=1.04844, took 36.893 s\n"
     ]
    },
    {
     "data": {
      "application/vnd.jupyter.widget-view+json": {
       "model_id": "",
       "version_major": 2,
       "version_minor": 0
      },
      "text/plain": [
       "HBox(children=(FloatProgress(value=0.0, description='Training', layout=Layout(flex='2'), max=1125.0, style=Pro…"
      ]
     },
     "metadata": {},
     "output_type": "display_data"
    },
    {
     "name": "stdout",
     "output_type": "stream",
     "text": [
      "Epoch 184: train=1.12757, val=1.04503, took 36.858 s\n"
     ]
    },
    {
     "data": {
      "application/vnd.jupyter.widget-view+json": {
       "model_id": "",
       "version_major": 2,
       "version_minor": 0
      },
      "text/plain": [
       "HBox(children=(FloatProgress(value=0.0, description='Training', layout=Layout(flex='2'), max=1125.0, style=Pro…"
      ]
     },
     "metadata": {},
     "output_type": "display_data"
    },
    {
     "name": "stdout",
     "output_type": "stream",
     "text": [
      "Epoch 185: train=1.14021, val=1.03847, took 36.9 s\n"
     ]
    },
    {
     "data": {
      "application/vnd.jupyter.widget-view+json": {
       "model_id": "",
       "version_major": 2,
       "version_minor": 0
      },
      "text/plain": [
       "HBox(children=(FloatProgress(value=0.0, description='Training', layout=Layout(flex='2'), max=1125.0, style=Pro…"
      ]
     },
     "metadata": {},
     "output_type": "display_data"
    },
    {
     "name": "stdout",
     "output_type": "stream",
     "text": [
      "Epoch 186: train=1.14554, val=1.05048, took 36.93 s\n"
     ]
    },
    {
     "data": {
      "application/vnd.jupyter.widget-view+json": {
       "model_id": "",
       "version_major": 2,
       "version_minor": 0
      },
      "text/plain": [
       "HBox(children=(FloatProgress(value=0.0, description='Training', layout=Layout(flex='2'), max=1125.0, style=Pro…"
      ]
     },
     "metadata": {},
     "output_type": "display_data"
    },
    {
     "name": "stdout",
     "output_type": "stream",
     "text": [
      "Epoch 187: train=1.1377, val=1.03612, took 36.958 s\n"
     ]
    },
    {
     "data": {
      "application/vnd.jupyter.widget-view+json": {
       "model_id": "",
       "version_major": 2,
       "version_minor": 0
      },
      "text/plain": [
       "HBox(children=(FloatProgress(value=0.0, description='Training', layout=Layout(flex='2'), max=1125.0, style=Pro…"
      ]
     },
     "metadata": {},
     "output_type": "display_data"
    },
    {
     "name": "stdout",
     "output_type": "stream",
     "text": [
      "Epoch 188: train=1.14083, val=1.13988, took 36.986 s\n"
     ]
    },
    {
     "data": {
      "application/vnd.jupyter.widget-view+json": {
       "model_id": "",
       "version_major": 2,
       "version_minor": 0
      },
      "text/plain": [
       "HBox(children=(FloatProgress(value=0.0, description='Training', layout=Layout(flex='2'), max=1125.0, style=Pro…"
      ]
     },
     "metadata": {},
     "output_type": "display_data"
    },
    {
     "name": "stdout",
     "output_type": "stream",
     "text": [
      "Epoch 189: train=1.12668, val=1.03512, took 37.387 s\n"
     ]
    },
    {
     "data": {
      "application/vnd.jupyter.widget-view+json": {
       "model_id": "",
       "version_major": 2,
       "version_minor": 0
      },
      "text/plain": [
       "HBox(children=(FloatProgress(value=0.0, description='Training', layout=Layout(flex='2'), max=1125.0, style=Pro…"
      ]
     },
     "metadata": {},
     "output_type": "display_data"
    },
    {
     "name": "stdout",
     "output_type": "stream",
     "text": [
      "Epoch 190: train=1.13239, val=1.0447, took 37.032 s\n"
     ]
    },
    {
     "data": {
      "application/vnd.jupyter.widget-view+json": {
       "model_id": "",
       "version_major": 2,
       "version_minor": 0
      },
      "text/plain": [
       "HBox(children=(FloatProgress(value=0.0, description='Training', layout=Layout(flex='2'), max=1125.0, style=Pro…"
      ]
     },
     "metadata": {},
     "output_type": "display_data"
    },
    {
     "name": "stdout",
     "output_type": "stream",
     "text": [
      "Epoch 191: train=1.13154, val=1.0484, took 36.833 s\n"
     ]
    },
    {
     "data": {
      "application/vnd.jupyter.widget-view+json": {
       "model_id": "",
       "version_major": 2,
       "version_minor": 0
      },
      "text/plain": [
       "HBox(children=(FloatProgress(value=0.0, description='Training', layout=Layout(flex='2'), max=1125.0, style=Pro…"
      ]
     },
     "metadata": {},
     "output_type": "display_data"
    },
    {
     "name": "stdout",
     "output_type": "stream",
     "text": [
      "Epoch 192: train=1.12502, val=1.03804, took 37.01 s\n"
     ]
    },
    {
     "data": {
      "application/vnd.jupyter.widget-view+json": {
       "model_id": "",
       "version_major": 2,
       "version_minor": 0
      },
      "text/plain": [
       "HBox(children=(FloatProgress(value=0.0, description='Training', layout=Layout(flex='2'), max=1125.0, style=Pro…"
      ]
     },
     "metadata": {},
     "output_type": "display_data"
    },
    {
     "name": "stdout",
     "output_type": "stream",
     "text": [
      "Epoch 193: train=1.13475, val=1.11862, took 36.89 s\n"
     ]
    },
    {
     "data": {
      "application/vnd.jupyter.widget-view+json": {
       "model_id": "",
       "version_major": 2,
       "version_minor": 0
      },
      "text/plain": [
       "HBox(children=(FloatProgress(value=0.0, description='Training', layout=Layout(flex='2'), max=1125.0, style=Pro…"
      ]
     },
     "metadata": {},
     "output_type": "display_data"
    },
    {
     "name": "stdout",
     "output_type": "stream",
     "text": [
      "Epoch 194: train=1.12989, val=1.03605, took 36.9 s\n"
     ]
    },
    {
     "data": {
      "application/vnd.jupyter.widget-view+json": {
       "model_id": "",
       "version_major": 2,
       "version_minor": 0
      },
      "text/plain": [
       "HBox(children=(FloatProgress(value=0.0, description='Training', layout=Layout(flex='2'), max=1125.0, style=Pro…"
      ]
     },
     "metadata": {},
     "output_type": "display_data"
    },
    {
     "name": "stdout",
     "output_type": "stream",
     "text": [
      "Epoch 195: train=1.11448, val=1.07424, took 36.884 s\n"
     ]
    },
    {
     "data": {
      "application/vnd.jupyter.widget-view+json": {
       "model_id": "",
       "version_major": 2,
       "version_minor": 0
      },
      "text/plain": [
       "HBox(children=(FloatProgress(value=0.0, description='Training', layout=Layout(flex='2'), max=1125.0, style=Pro…"
      ]
     },
     "metadata": {},
     "output_type": "display_data"
    },
    {
     "name": "stdout",
     "output_type": "stream",
     "text": [
      "Epoch 196: train=1.12404, val=1.10662, took 36.957 s\n"
     ]
    },
    {
     "data": {
      "application/vnd.jupyter.widget-view+json": {
       "model_id": "",
       "version_major": 2,
       "version_minor": 0
      },
      "text/plain": [
       "HBox(children=(FloatProgress(value=0.0, description='Training', layout=Layout(flex='2'), max=1125.0, style=Pro…"
      ]
     },
     "metadata": {},
     "output_type": "display_data"
    },
    {
     "name": "stdout",
     "output_type": "stream",
     "text": [
      "Epoch 197: train=1.13283, val=1.15376, took 36.873 s\n"
     ]
    },
    {
     "data": {
      "application/vnd.jupyter.widget-view+json": {
       "model_id": "",
       "version_major": 2,
       "version_minor": 0
      },
      "text/plain": [
       "HBox(children=(FloatProgress(value=0.0, description='Training', layout=Layout(flex='2'), max=1125.0, style=Pro…"
      ]
     },
     "metadata": {},
     "output_type": "display_data"
    },
    {
     "name": "stdout",
     "output_type": "stream",
     "text": [
      "Epoch 198: train=1.13634, val=1.15632, took 36.853 s\n"
     ]
    },
    {
     "data": {
      "application/vnd.jupyter.widget-view+json": {
       "model_id": "",
       "version_major": 2,
       "version_minor": 0
      },
      "text/plain": [
       "HBox(children=(FloatProgress(value=0.0, description='Training', layout=Layout(flex='2'), max=1125.0, style=Pro…"
      ]
     },
     "metadata": {},
     "output_type": "display_data"
    },
    {
     "name": "stdout",
     "output_type": "stream",
     "text": [
      "Epoch 199: train=1.12464, val=1.09108, took 36.842 s\n"
     ]
    },
    {
     "data": {
      "application/vnd.jupyter.widget-view+json": {
       "model_id": "",
       "version_major": 2,
       "version_minor": 0
      },
      "text/plain": [
       "HBox(children=(FloatProgress(value=0.0, description='Training', layout=Layout(flex='2'), max=1125.0, style=Pro…"
      ]
     },
     "metadata": {},
     "output_type": "display_data"
    },
    {
     "name": "stdout",
     "output_type": "stream",
     "text": [
      "Epoch 200: train=1.12852, val=1.03757, took 36.808 s\n"
     ]
    },
    {
     "data": {
      "application/vnd.jupyter.widget-view+json": {
       "model_id": "",
       "version_major": 2,
       "version_minor": 0
      },
      "text/plain": [
       "HBox(children=(FloatProgress(value=0.0, description='Training', layout=Layout(flex='2'), max=1125.0, style=Pro…"
      ]
     },
     "metadata": {},
     "output_type": "display_data"
    },
    {
     "name": "stdout",
     "output_type": "stream",
     "text": [
      "Epoch 201: train=1.12947, val=1.03648, took 37.016 s\n"
     ]
    },
    {
     "data": {
      "application/vnd.jupyter.widget-view+json": {
       "model_id": "",
       "version_major": 2,
       "version_minor": 0
      },
      "text/plain": [
       "HBox(children=(FloatProgress(value=0.0, description='Training', layout=Layout(flex='2'), max=1125.0, style=Pro…"
      ]
     },
     "metadata": {},
     "output_type": "display_data"
    },
    {
     "name": "stdout",
     "output_type": "stream",
     "text": [
      "Epoch 202: train=1.12244, val=1.0689, took 36.895 s\n"
     ]
    },
    {
     "data": {
      "application/vnd.jupyter.widget-view+json": {
       "model_id": "",
       "version_major": 2,
       "version_minor": 0
      },
      "text/plain": [
       "HBox(children=(FloatProgress(value=0.0, description='Training', layout=Layout(flex='2'), max=1125.0, style=Pro…"
      ]
     },
     "metadata": {},
     "output_type": "display_data"
    },
    {
     "name": "stdout",
     "output_type": "stream",
     "text": [
      "Epoch 203: train=1.12172, val=1.03768, took 36.964 s\n"
     ]
    },
    {
     "data": {
      "application/vnd.jupyter.widget-view+json": {
       "model_id": "",
       "version_major": 2,
       "version_minor": 0
      },
      "text/plain": [
       "HBox(children=(FloatProgress(value=0.0, description='Training', layout=Layout(flex='2'), max=1125.0, style=Pro…"
      ]
     },
     "metadata": {},
     "output_type": "display_data"
    },
    {
     "name": "stdout",
     "output_type": "stream",
     "text": [
      "Epoch 204: train=1.12894, val=1.04158, took 36.934 s\n"
     ]
    },
    {
     "data": {
      "application/vnd.jupyter.widget-view+json": {
       "model_id": "",
       "version_major": 2,
       "version_minor": 0
      },
      "text/plain": [
       "HBox(children=(FloatProgress(value=0.0, description='Training', layout=Layout(flex='2'), max=1125.0, style=Pro…"
      ]
     },
     "metadata": {},
     "output_type": "display_data"
    },
    {
     "name": "stdout",
     "output_type": "stream",
     "text": [
      "Epoch 205: train=1.12094, val=1.04222, took 36.78 s\n"
     ]
    },
    {
     "data": {
      "application/vnd.jupyter.widget-view+json": {
       "model_id": "",
       "version_major": 2,
       "version_minor": 0
      },
      "text/plain": [
       "HBox(children=(FloatProgress(value=0.0, description='Training', layout=Layout(flex='2'), max=1125.0, style=Pro…"
      ]
     },
     "metadata": {},
     "output_type": "display_data"
    },
    {
     "name": "stdout",
     "output_type": "stream",
     "text": [
      "Epoch 206: train=1.14708, val=1.0376, took 37.022 s\n"
     ]
    },
    {
     "data": {
      "application/vnd.jupyter.widget-view+json": {
       "model_id": "",
       "version_major": 2,
       "version_minor": 0
      },
      "text/plain": [
       "HBox(children=(FloatProgress(value=0.0, description='Training', layout=Layout(flex='2'), max=1125.0, style=Pro…"
      ]
     },
     "metadata": {},
     "output_type": "display_data"
    },
    {
     "name": "stdout",
     "output_type": "stream",
     "text": [
      "Epoch 207: train=1.12203, val=1.10646, took 36.827 s\n"
     ]
    },
    {
     "data": {
      "application/vnd.jupyter.widget-view+json": {
       "model_id": "",
       "version_major": 2,
       "version_minor": 0
      },
      "text/plain": [
       "HBox(children=(FloatProgress(value=0.0, description='Training', layout=Layout(flex='2'), max=1125.0, style=Pro…"
      ]
     },
     "metadata": {},
     "output_type": "display_data"
    },
    {
     "name": "stdout",
     "output_type": "stream",
     "text": [
      "Epoch 208: train=1.1234, val=1.03274, took 36.858 s\n"
     ]
    },
    {
     "data": {
      "application/vnd.jupyter.widget-view+json": {
       "model_id": "",
       "version_major": 2,
       "version_minor": 0
      },
      "text/plain": [
       "HBox(children=(FloatProgress(value=0.0, description='Training', layout=Layout(flex='2'), max=1125.0, style=Pro…"
      ]
     },
     "metadata": {},
     "output_type": "display_data"
    },
    {
     "name": "stdout",
     "output_type": "stream",
     "text": [
      "Epoch 209: train=1.11461, val=1.03383, took 36.827 s\n"
     ]
    },
    {
     "data": {
      "application/vnd.jupyter.widget-view+json": {
       "model_id": "",
       "version_major": 2,
       "version_minor": 0
      },
      "text/plain": [
       "HBox(children=(FloatProgress(value=0.0, description='Training', layout=Layout(flex='2'), max=1125.0, style=Pro…"
      ]
     },
     "metadata": {},
     "output_type": "display_data"
    },
    {
     "name": "stdout",
     "output_type": "stream",
     "text": [
      "Epoch 210: train=1.1532, val=1.07195, took 36.897 s\n"
     ]
    },
    {
     "data": {
      "application/vnd.jupyter.widget-view+json": {
       "model_id": "",
       "version_major": 2,
       "version_minor": 0
      },
      "text/plain": [
       "HBox(children=(FloatProgress(value=0.0, description='Training', layout=Layout(flex='2'), max=1125.0, style=Pro…"
      ]
     },
     "metadata": {},
     "output_type": "display_data"
    },
    {
     "name": "stdout",
     "output_type": "stream",
     "text": [
      "Epoch 211: train=1.12979, val=1.03307, took 36.859 s\n"
     ]
    },
    {
     "data": {
      "application/vnd.jupyter.widget-view+json": {
       "model_id": "",
       "version_major": 2,
       "version_minor": 0
      },
      "text/plain": [
       "HBox(children=(FloatProgress(value=0.0, description='Training', layout=Layout(flex='2'), max=1125.0, style=Pro…"
      ]
     },
     "metadata": {},
     "output_type": "display_data"
    },
    {
     "name": "stdout",
     "output_type": "stream",
     "text": [
      "Epoch 212: train=1.12795, val=1.06826, took 36.942 s\n"
     ]
    },
    {
     "data": {
      "application/vnd.jupyter.widget-view+json": {
       "model_id": "",
       "version_major": 2,
       "version_minor": 0
      },
      "text/plain": [
       "HBox(children=(FloatProgress(value=0.0, description='Training', layout=Layout(flex='2'), max=1125.0, style=Pro…"
      ]
     },
     "metadata": {},
     "output_type": "display_data"
    },
    {
     "name": "stdout",
     "output_type": "stream",
     "text": [
      "Epoch 213: train=1.11948, val=1.03597, took 37.176 s\n"
     ]
    },
    {
     "data": {
      "application/vnd.jupyter.widget-view+json": {
       "model_id": "",
       "version_major": 2,
       "version_minor": 0
      },
      "text/plain": [
       "HBox(children=(FloatProgress(value=0.0, description='Training', layout=Layout(flex='2'), max=1125.0, style=Pro…"
      ]
     },
     "metadata": {},
     "output_type": "display_data"
    },
    {
     "name": "stdout",
     "output_type": "stream",
     "text": [
      "Epoch 214: train=1.11664, val=1.04122, took 36.855 s\n"
     ]
    },
    {
     "data": {
      "application/vnd.jupyter.widget-view+json": {
       "model_id": "",
       "version_major": 2,
       "version_minor": 0
      },
      "text/plain": [
       "HBox(children=(FloatProgress(value=0.0, description='Training', layout=Layout(flex='2'), max=1125.0, style=Pro…"
      ]
     },
     "metadata": {},
     "output_type": "display_data"
    },
    {
     "name": "stdout",
     "output_type": "stream",
     "text": [
      "Epoch 215: train=1.12328, val=1.04786, took 36.844 s\n"
     ]
    },
    {
     "data": {
      "application/vnd.jupyter.widget-view+json": {
       "model_id": "",
       "version_major": 2,
       "version_minor": 0
      },
      "text/plain": [
       "HBox(children=(FloatProgress(value=0.0, description='Training', layout=Layout(flex='2'), max=1125.0, style=Pro…"
      ]
     },
     "metadata": {},
     "output_type": "display_data"
    },
    {
     "name": "stdout",
     "output_type": "stream",
     "text": [
      "Epoch 216: train=1.11831, val=1.06731, took 37.01 s\n"
     ]
    },
    {
     "data": {
      "application/vnd.jupyter.widget-view+json": {
       "model_id": "",
       "version_major": 2,
       "version_minor": 0
      },
      "text/plain": [
       "HBox(children=(FloatProgress(value=0.0, description='Training', layout=Layout(flex='2'), max=1125.0, style=Pro…"
      ]
     },
     "metadata": {},
     "output_type": "display_data"
    },
    {
     "name": "stdout",
     "output_type": "stream",
     "text": [
      "Epoch 217: train=1.12983, val=1.04763, took 37.285 s\n"
     ]
    },
    {
     "data": {
      "application/vnd.jupyter.widget-view+json": {
       "model_id": "",
       "version_major": 2,
       "version_minor": 0
      },
      "text/plain": [
       "HBox(children=(FloatProgress(value=0.0, description='Training', layout=Layout(flex='2'), max=1125.0, style=Pro…"
      ]
     },
     "metadata": {},
     "output_type": "display_data"
    },
    {
     "name": "stdout",
     "output_type": "stream",
     "text": [
      "Epoch 218: train=1.12416, val=1.04048, took 36.843 s\n"
     ]
    },
    {
     "data": {
      "application/vnd.jupyter.widget-view+json": {
       "model_id": "",
       "version_major": 2,
       "version_minor": 0
      },
      "text/plain": [
       "HBox(children=(FloatProgress(value=0.0, description='Training', layout=Layout(flex='2'), max=1125.0, style=Pro…"
      ]
     },
     "metadata": {},
     "output_type": "display_data"
    },
    {
     "name": "stdout",
     "output_type": "stream",
     "text": [
      "Epoch 219: train=1.1135, val=1.03234, took 36.846 s\n"
     ]
    },
    {
     "data": {
      "application/vnd.jupyter.widget-view+json": {
       "model_id": "",
       "version_major": 2,
       "version_minor": 0
      },
      "text/plain": [
       "HBox(children=(FloatProgress(value=0.0, description='Training', layout=Layout(flex='2'), max=1125.0, style=Pro…"
      ]
     },
     "metadata": {},
     "output_type": "display_data"
    },
    {
     "name": "stdout",
     "output_type": "stream",
     "text": [
      "Epoch 220: train=1.12196, val=1.11095, took 36.942 s\n"
     ]
    },
    {
     "data": {
      "application/vnd.jupyter.widget-view+json": {
       "model_id": "",
       "version_major": 2,
       "version_minor": 0
      },
      "text/plain": [
       "HBox(children=(FloatProgress(value=0.0, description='Training', layout=Layout(flex='2'), max=1125.0, style=Pro…"
      ]
     },
     "metadata": {},
     "output_type": "display_data"
    },
    {
     "name": "stdout",
     "output_type": "stream",
     "text": [
      "Epoch 221: train=1.12129, val=1.05308, took 37.032 s\n"
     ]
    },
    {
     "data": {
      "application/vnd.jupyter.widget-view+json": {
       "model_id": "",
       "version_major": 2,
       "version_minor": 0
      },
      "text/plain": [
       "HBox(children=(FloatProgress(value=0.0, description='Training', layout=Layout(flex='2'), max=1125.0, style=Pro…"
      ]
     },
     "metadata": {},
     "output_type": "display_data"
    },
    {
     "name": "stdout",
     "output_type": "stream",
     "text": [
      "Epoch 222: train=1.12436, val=1.09712, took 36.997 s\n"
     ]
    },
    {
     "data": {
      "application/vnd.jupyter.widget-view+json": {
       "model_id": "",
       "version_major": 2,
       "version_minor": 0
      },
      "text/plain": [
       "HBox(children=(FloatProgress(value=0.0, description='Training', layout=Layout(flex='2'), max=1125.0, style=Pro…"
      ]
     },
     "metadata": {},
     "output_type": "display_data"
    },
    {
     "name": "stdout",
     "output_type": "stream",
     "text": [
      "Epoch 223: train=1.12777, val=1.03284, took 36.873 s\n"
     ]
    },
    {
     "data": {
      "application/vnd.jupyter.widget-view+json": {
       "model_id": "",
       "version_major": 2,
       "version_minor": 0
      },
      "text/plain": [
       "HBox(children=(FloatProgress(value=0.0, description='Training', layout=Layout(flex='2'), max=1125.0, style=Pro…"
      ]
     },
     "metadata": {},
     "output_type": "display_data"
    },
    {
     "name": "stdout",
     "output_type": "stream",
     "text": [
      "Epoch 224: train=1.12058, val=1.05299, took 36.862 s\n"
     ]
    },
    {
     "data": {
      "application/vnd.jupyter.widget-view+json": {
       "model_id": "",
       "version_major": 2,
       "version_minor": 0
      },
      "text/plain": [
       "HBox(children=(FloatProgress(value=0.0, description='Training', layout=Layout(flex='2'), max=1125.0, style=Pro…"
      ]
     },
     "metadata": {},
     "output_type": "display_data"
    },
    {
     "name": "stdout",
     "output_type": "stream",
     "text": [
      "Epoch 225: train=1.12386, val=1.03873, took 36.821 s\n"
     ]
    },
    {
     "data": {
      "application/vnd.jupyter.widget-view+json": {
       "model_id": "",
       "version_major": 2,
       "version_minor": 0
      },
      "text/plain": [
       "HBox(children=(FloatProgress(value=0.0, description='Training', layout=Layout(flex='2'), max=1125.0, style=Pro…"
      ]
     },
     "metadata": {},
     "output_type": "display_data"
    },
    {
     "name": "stdout",
     "output_type": "stream",
     "text": [
      "Epoch 226: train=1.12746, val=1.03044, took 36.842 s\n"
     ]
    },
    {
     "data": {
      "application/vnd.jupyter.widget-view+json": {
       "model_id": "",
       "version_major": 2,
       "version_minor": 0
      },
      "text/plain": [
       "HBox(children=(FloatProgress(value=0.0, description='Training', layout=Layout(flex='2'), max=1125.0, style=Pro…"
      ]
     },
     "metadata": {},
     "output_type": "display_data"
    },
    {
     "name": "stdout",
     "output_type": "stream",
     "text": [
      "Epoch 227: train=1.12492, val=1.07459, took 36.887 s\n"
     ]
    },
    {
     "data": {
      "application/vnd.jupyter.widget-view+json": {
       "model_id": "",
       "version_major": 2,
       "version_minor": 0
      },
      "text/plain": [
       "HBox(children=(FloatProgress(value=0.0, description='Training', layout=Layout(flex='2'), max=1125.0, style=Pro…"
      ]
     },
     "metadata": {},
     "output_type": "display_data"
    },
    {
     "name": "stdout",
     "output_type": "stream",
     "text": [
      "Epoch 228: train=1.11422, val=1.03834, took 36.858 s\n"
     ]
    },
    {
     "data": {
      "application/vnd.jupyter.widget-view+json": {
       "model_id": "",
       "version_major": 2,
       "version_minor": 0
      },
      "text/plain": [
       "HBox(children=(FloatProgress(value=0.0, description='Training', layout=Layout(flex='2'), max=1125.0, style=Pro…"
      ]
     },
     "metadata": {},
     "output_type": "display_data"
    },
    {
     "name": "stdout",
     "output_type": "stream",
     "text": [
      "Epoch 229: train=1.12021, val=1.04239, took 36.971 s\n"
     ]
    },
    {
     "data": {
      "application/vnd.jupyter.widget-view+json": {
       "model_id": "",
       "version_major": 2,
       "version_minor": 0
      },
      "text/plain": [
       "HBox(children=(FloatProgress(value=0.0, description='Training', layout=Layout(flex='2'), max=1125.0, style=Pro…"
      ]
     },
     "metadata": {},
     "output_type": "display_data"
    },
    {
     "name": "stdout",
     "output_type": "stream",
     "text": [
      "Epoch 230: train=1.11791, val=1.08383, took 36.841 s\n"
     ]
    },
    {
     "data": {
      "application/vnd.jupyter.widget-view+json": {
       "model_id": "",
       "version_major": 2,
       "version_minor": 0
      },
      "text/plain": [
       "HBox(children=(FloatProgress(value=0.0, description='Training', layout=Layout(flex='2'), max=1125.0, style=Pro…"
      ]
     },
     "metadata": {},
     "output_type": "display_data"
    },
    {
     "name": "stdout",
     "output_type": "stream",
     "text": [
      "Epoch 231: train=1.12814, val=1.0303, took 36.999 s\n"
     ]
    },
    {
     "data": {
      "application/vnd.jupyter.widget-view+json": {
       "model_id": "",
       "version_major": 2,
       "version_minor": 0
      },
      "text/plain": [
       "HBox(children=(FloatProgress(value=0.0, description='Training', layout=Layout(flex='2'), max=1125.0, style=Pro…"
      ]
     },
     "metadata": {},
     "output_type": "display_data"
    },
    {
     "name": "stdout",
     "output_type": "stream",
     "text": [
      "Epoch 232: train=1.12725, val=1.18913, took 37.03 s\n"
     ]
    },
    {
     "data": {
      "application/vnd.jupyter.widget-view+json": {
       "model_id": "",
       "version_major": 2,
       "version_minor": 0
      },
      "text/plain": [
       "HBox(children=(FloatProgress(value=0.0, description='Training', layout=Layout(flex='2'), max=1125.0, style=Pro…"
      ]
     },
     "metadata": {},
     "output_type": "display_data"
    },
    {
     "name": "stdout",
     "output_type": "stream",
     "text": [
      "Epoch 233: train=1.1224, val=1.12341, took 36.93 s\n"
     ]
    },
    {
     "data": {
      "application/vnd.jupyter.widget-view+json": {
       "model_id": "",
       "version_major": 2,
       "version_minor": 0
      },
      "text/plain": [
       "HBox(children=(FloatProgress(value=0.0, description='Training', layout=Layout(flex='2'), max=1125.0, style=Pro…"
      ]
     },
     "metadata": {},
     "output_type": "display_data"
    },
    {
     "name": "stdout",
     "output_type": "stream",
     "text": [
      "Epoch 234: train=1.1318, val=1.73149, took 36.909 s\n"
     ]
    },
    {
     "data": {
      "application/vnd.jupyter.widget-view+json": {
       "model_id": "",
       "version_major": 2,
       "version_minor": 0
      },
      "text/plain": [
       "HBox(children=(FloatProgress(value=0.0, description='Training', layout=Layout(flex='2'), max=1125.0, style=Pro…"
      ]
     },
     "metadata": {},
     "output_type": "display_data"
    },
    {
     "name": "stdout",
     "output_type": "stream",
     "text": [
      "Epoch 235: train=1.11475, val=1.02899, took 36.893 s\n"
     ]
    },
    {
     "data": {
      "application/vnd.jupyter.widget-view+json": {
       "model_id": "",
       "version_major": 2,
       "version_minor": 0
      },
      "text/plain": [
       "HBox(children=(FloatProgress(value=0.0, description='Training', layout=Layout(flex='2'), max=1125.0, style=Pro…"
      ]
     },
     "metadata": {},
     "output_type": "display_data"
    },
    {
     "name": "stdout",
     "output_type": "stream",
     "text": [
      "Epoch 236: train=1.11696, val=1.03124, took 37.052 s\n"
     ]
    },
    {
     "data": {
      "application/vnd.jupyter.widget-view+json": {
       "model_id": "",
       "version_major": 2,
       "version_minor": 0
      },
      "text/plain": [
       "HBox(children=(FloatProgress(value=0.0, description='Training', layout=Layout(flex='2'), max=1125.0, style=Pro…"
      ]
     },
     "metadata": {},
     "output_type": "display_data"
    },
    {
     "name": "stdout",
     "output_type": "stream",
     "text": [
      "Epoch 237: train=1.13109, val=1.27062, took 36.912 s\n"
     ]
    },
    {
     "data": {
      "application/vnd.jupyter.widget-view+json": {
       "model_id": "",
       "version_major": 2,
       "version_minor": 0
      },
      "text/plain": [
       "HBox(children=(FloatProgress(value=0.0, description='Training', layout=Layout(flex='2'), max=1125.0, style=Pro…"
      ]
     },
     "metadata": {},
     "output_type": "display_data"
    },
    {
     "name": "stdout",
     "output_type": "stream",
     "text": [
      "Epoch 238: train=1.11322, val=1.02943, took 36.931 s\n"
     ]
    },
    {
     "data": {
      "application/vnd.jupyter.widget-view+json": {
       "model_id": "",
       "version_major": 2,
       "version_minor": 0
      },
      "text/plain": [
       "HBox(children=(FloatProgress(value=0.0, description='Training', layout=Layout(flex='2'), max=1125.0, style=Pro…"
      ]
     },
     "metadata": {},
     "output_type": "display_data"
    },
    {
     "name": "stdout",
     "output_type": "stream",
     "text": [
      "Epoch 239: train=1.11322, val=1.04631, took 36.953 s\n"
     ]
    },
    {
     "data": {
      "application/vnd.jupyter.widget-view+json": {
       "model_id": "",
       "version_major": 2,
       "version_minor": 0
      },
      "text/plain": [
       "HBox(children=(FloatProgress(value=0.0, description='Training', layout=Layout(flex='2'), max=1125.0, style=Pro…"
      ]
     },
     "metadata": {},
     "output_type": "display_data"
    },
    {
     "name": "stdout",
     "output_type": "stream",
     "text": [
      "Epoch 240: train=1.1149, val=1.08477, took 37.065 s\n"
     ]
    },
    {
     "data": {
      "application/vnd.jupyter.widget-view+json": {
       "model_id": "",
       "version_major": 2,
       "version_minor": 0
      },
      "text/plain": [
       "HBox(children=(FloatProgress(value=0.0, description='Training', layout=Layout(flex='2'), max=1125.0, style=Pro…"
      ]
     },
     "metadata": {},
     "output_type": "display_data"
    },
    {
     "name": "stdout",
     "output_type": "stream",
     "text": [
      "Epoch 241: train=1.11223, val=1.03489, took 36.953 s\n"
     ]
    },
    {
     "data": {
      "application/vnd.jupyter.widget-view+json": {
       "model_id": "",
       "version_major": 2,
       "version_minor": 0
      },
      "text/plain": [
       "HBox(children=(FloatProgress(value=0.0, description='Training', layout=Layout(flex='2'), max=1125.0, style=Pro…"
      ]
     },
     "metadata": {},
     "output_type": "display_data"
    },
    {
     "name": "stdout",
     "output_type": "stream",
     "text": [
      "Epoch 242: train=1.12083, val=1.06641, took 36.916 s\n"
     ]
    },
    {
     "data": {
      "application/vnd.jupyter.widget-view+json": {
       "model_id": "",
       "version_major": 2,
       "version_minor": 0
      },
      "text/plain": [
       "HBox(children=(FloatProgress(value=0.0, description='Training', layout=Layout(flex='2'), max=1125.0, style=Pro…"
      ]
     },
     "metadata": {},
     "output_type": "display_data"
    },
    {
     "name": "stdout",
     "output_type": "stream",
     "text": [
      "Epoch 243: train=1.12403, val=1.04356, took 37.091 s\n"
     ]
    },
    {
     "data": {
      "application/vnd.jupyter.widget-view+json": {
       "model_id": "",
       "version_major": 2,
       "version_minor": 0
      },
      "text/plain": [
       "HBox(children=(FloatProgress(value=0.0, description='Training', layout=Layout(flex='2'), max=1125.0, style=Pro…"
      ]
     },
     "metadata": {},
     "output_type": "display_data"
    },
    {
     "name": "stdout",
     "output_type": "stream",
     "text": [
      "Epoch 244: train=1.12246, val=1.0334, took 36.961 s\n"
     ]
    },
    {
     "data": {
      "application/vnd.jupyter.widget-view+json": {
       "model_id": "",
       "version_major": 2,
       "version_minor": 0
      },
      "text/plain": [
       "HBox(children=(FloatProgress(value=0.0, description='Training', layout=Layout(flex='2'), max=1125.0, style=Pro…"
      ]
     },
     "metadata": {},
     "output_type": "display_data"
    },
    {
     "name": "stdout",
     "output_type": "stream",
     "text": [
      "Epoch 245: train=1.11322, val=1.03811, took 36.996 s\n"
     ]
    },
    {
     "data": {
      "application/vnd.jupyter.widget-view+json": {
       "model_id": "",
       "version_major": 2,
       "version_minor": 0
      },
      "text/plain": [
       "HBox(children=(FloatProgress(value=0.0, description='Training', layout=Layout(flex='2'), max=1125.0, style=Pro…"
      ]
     },
     "metadata": {},
     "output_type": "display_data"
    },
    {
     "name": "stdout",
     "output_type": "stream",
     "text": [
      "Epoch 246: train=1.10355, val=1.08313, took 36.861 s\n"
     ]
    },
    {
     "data": {
      "application/vnd.jupyter.widget-view+json": {
       "model_id": "",
       "version_major": 2,
       "version_minor": 0
      },
      "text/plain": [
       "HBox(children=(FloatProgress(value=0.0, description='Training', layout=Layout(flex='2'), max=1125.0, style=Pro…"
      ]
     },
     "metadata": {},
     "output_type": "display_data"
    },
    {
     "name": "stdout",
     "output_type": "stream",
     "text": [
      "Epoch 247: train=1.11786, val=1.03788, took 37.194 s\n"
     ]
    },
    {
     "data": {
      "application/vnd.jupyter.widget-view+json": {
       "model_id": "",
       "version_major": 2,
       "version_minor": 0
      },
      "text/plain": [
       "HBox(children=(FloatProgress(value=0.0, description='Training', layout=Layout(flex='2'), max=1125.0, style=Pro…"
      ]
     },
     "metadata": {},
     "output_type": "display_data"
    },
    {
     "name": "stdout",
     "output_type": "stream",
     "text": [
      "Epoch 248: train=1.12395, val=1.03725, took 36.867 s\n"
     ]
    },
    {
     "data": {
      "application/vnd.jupyter.widget-view+json": {
       "model_id": "",
       "version_major": 2,
       "version_minor": 0
      },
      "text/plain": [
       "HBox(children=(FloatProgress(value=0.0, description='Training', layout=Layout(flex='2'), max=1125.0, style=Pro…"
      ]
     },
     "metadata": {},
     "output_type": "display_data"
    },
    {
     "name": "stdout",
     "output_type": "stream",
     "text": [
      "Epoch 249: train=1.1161, val=1.02818, took 37.0 s\n"
     ]
    },
    {
     "data": {
      "application/vnd.jupyter.widget-view+json": {
       "model_id": "",
       "version_major": 2,
       "version_minor": 0
      },
      "text/plain": [
       "HBox(children=(FloatProgress(value=0.0, description='Training', layout=Layout(flex='2'), max=1125.0, style=Pro…"
      ]
     },
     "metadata": {},
     "output_type": "display_data"
    },
    {
     "name": "stdout",
     "output_type": "stream",
     "text": [
      "Epoch 250: train=1.11069, val=1.05008, took 36.933 s\n"
     ]
    },
    {
     "data": {
      "application/vnd.jupyter.widget-view+json": {
       "model_id": "",
       "version_major": 2,
       "version_minor": 0
      },
      "text/plain": [
       "HBox(children=(FloatProgress(value=0.0, description='Training', layout=Layout(flex='2'), max=1125.0, style=Pro…"
      ]
     },
     "metadata": {},
     "output_type": "display_data"
    },
    {
     "name": "stdout",
     "output_type": "stream",
     "text": [
      "Epoch 251: train=1.11281, val=1.03955, took 36.819 s\n"
     ]
    },
    {
     "data": {
      "application/vnd.jupyter.widget-view+json": {
       "model_id": "",
       "version_major": 2,
       "version_minor": 0
      },
      "text/plain": [
       "HBox(children=(FloatProgress(value=0.0, description='Training', layout=Layout(flex='2'), max=1125.0, style=Pro…"
      ]
     },
     "metadata": {},
     "output_type": "display_data"
    },
    {
     "name": "stdout",
     "output_type": "stream",
     "text": [
      "Epoch 252: train=1.11039, val=1.03754, took 36.874 s\n"
     ]
    },
    {
     "data": {
      "application/vnd.jupyter.widget-view+json": {
       "model_id": "",
       "version_major": 2,
       "version_minor": 0
      },
      "text/plain": [
       "HBox(children=(FloatProgress(value=0.0, description='Training', layout=Layout(flex='2'), max=1125.0, style=Pro…"
      ]
     },
     "metadata": {},
     "output_type": "display_data"
    },
    {
     "name": "stdout",
     "output_type": "stream",
     "text": [
      "Epoch 253: train=1.13219, val=1.03472, took 36.882 s\n"
     ]
    },
    {
     "data": {
      "application/vnd.jupyter.widget-view+json": {
       "model_id": "",
       "version_major": 2,
       "version_minor": 0
      },
      "text/plain": [
       "HBox(children=(FloatProgress(value=0.0, description='Training', layout=Layout(flex='2'), max=1125.0, style=Pro…"
      ]
     },
     "metadata": {},
     "output_type": "display_data"
    },
    {
     "name": "stdout",
     "output_type": "stream",
     "text": [
      "Epoch 254: train=1.11471, val=1.03149, took 37.023 s\n"
     ]
    },
    {
     "data": {
      "application/vnd.jupyter.widget-view+json": {
       "model_id": "",
       "version_major": 2,
       "version_minor": 0
      },
      "text/plain": [
       "HBox(children=(FloatProgress(value=0.0, description='Training', layout=Layout(flex='2'), max=1125.0, style=Pro…"
      ]
     },
     "metadata": {},
     "output_type": "display_data"
    },
    {
     "name": "stdout",
     "output_type": "stream",
     "text": [
      "Epoch 255: train=1.11508, val=1.04197, took 36.928 s\n"
     ]
    },
    {
     "data": {
      "application/vnd.jupyter.widget-view+json": {
       "model_id": "",
       "version_major": 2,
       "version_minor": 0
      },
      "text/plain": [
       "HBox(children=(FloatProgress(value=0.0, description='Training', layout=Layout(flex='2'), max=1125.0, style=Pro…"
      ]
     },
     "metadata": {},
     "output_type": "display_data"
    },
    {
     "name": "stdout",
     "output_type": "stream",
     "text": [
      "Epoch 256: train=1.11058, val=1.03706, took 37.098 s\n"
     ]
    },
    {
     "data": {
      "application/vnd.jupyter.widget-view+json": {
       "model_id": "",
       "version_major": 2,
       "version_minor": 0
      },
      "text/plain": [
       "HBox(children=(FloatProgress(value=0.0, description='Training', layout=Layout(flex='2'), max=1125.0, style=Pro…"
      ]
     },
     "metadata": {},
     "output_type": "display_data"
    },
    {
     "name": "stdout",
     "output_type": "stream",
     "text": [
      "Epoch 257: train=1.11712, val=1.06087, took 36.922 s\n"
     ]
    },
    {
     "data": {
      "application/vnd.jupyter.widget-view+json": {
       "model_id": "",
       "version_major": 2,
       "version_minor": 0
      },
      "text/plain": [
       "HBox(children=(FloatProgress(value=0.0, description='Training', layout=Layout(flex='2'), max=1125.0, style=Pro…"
      ]
     },
     "metadata": {},
     "output_type": "display_data"
    },
    {
     "name": "stdout",
     "output_type": "stream",
     "text": [
      "Epoch 258: train=1.11527, val=1.07968, took 36.911 s\n"
     ]
    },
    {
     "data": {
      "application/vnd.jupyter.widget-view+json": {
       "model_id": "",
       "version_major": 2,
       "version_minor": 0
      },
      "text/plain": [
       "HBox(children=(FloatProgress(value=0.0, description='Training', layout=Layout(flex='2'), max=1125.0, style=Pro…"
      ]
     },
     "metadata": {},
     "output_type": "display_data"
    },
    {
     "name": "stdout",
     "output_type": "stream",
     "text": [
      "Epoch 259: train=1.10816, val=1.03244, took 36.826 s\n"
     ]
    },
    {
     "data": {
      "application/vnd.jupyter.widget-view+json": {
       "model_id": "",
       "version_major": 2,
       "version_minor": 0
      },
      "text/plain": [
       "HBox(children=(FloatProgress(value=0.0, description='Training', layout=Layout(flex='2'), max=1125.0, style=Pro…"
      ]
     },
     "metadata": {},
     "output_type": "display_data"
    },
    {
     "name": "stdout",
     "output_type": "stream",
     "text": [
      "Epoch 260: train=1.11072, val=1.04309, took 36.867 s\n"
     ]
    },
    {
     "data": {
      "application/vnd.jupyter.widget-view+json": {
       "model_id": "",
       "version_major": 2,
       "version_minor": 0
      },
      "text/plain": [
       "HBox(children=(FloatProgress(value=0.0, description='Training', layout=Layout(flex='2'), max=1125.0, style=Pro…"
      ]
     },
     "metadata": {},
     "output_type": "display_data"
    },
    {
     "name": "stdout",
     "output_type": "stream",
     "text": [
      "Epoch 261: train=1.10695, val=1.03936, took 36.972 s\n"
     ]
    },
    {
     "data": {
      "application/vnd.jupyter.widget-view+json": {
       "model_id": "",
       "version_major": 2,
       "version_minor": 0
      },
      "text/plain": [
       "HBox(children=(FloatProgress(value=0.0, description='Training', layout=Layout(flex='2'), max=1125.0, style=Pro…"
      ]
     },
     "metadata": {},
     "output_type": "display_data"
    },
    {
     "name": "stdout",
     "output_type": "stream",
     "text": [
      "Epoch 262: train=1.12368, val=1.04544, took 37.113 s\n"
     ]
    },
    {
     "data": {
      "application/vnd.jupyter.widget-view+json": {
       "model_id": "",
       "version_major": 2,
       "version_minor": 0
      },
      "text/plain": [
       "HBox(children=(FloatProgress(value=0.0, description='Training', layout=Layout(flex='2'), max=1125.0, style=Pro…"
      ]
     },
     "metadata": {},
     "output_type": "display_data"
    },
    {
     "name": "stdout",
     "output_type": "stream",
     "text": [
      "Epoch 263: train=1.11475, val=1.25412, took 36.959 s\n"
     ]
    },
    {
     "data": {
      "application/vnd.jupyter.widget-view+json": {
       "model_id": "",
       "version_major": 2,
       "version_minor": 0
      },
      "text/plain": [
       "HBox(children=(FloatProgress(value=0.0, description='Training', layout=Layout(flex='2'), max=1125.0, style=Pro…"
      ]
     },
     "metadata": {},
     "output_type": "display_data"
    },
    {
     "name": "stdout",
     "output_type": "stream",
     "text": [
      "Epoch 264: train=1.11633, val=1.03076, took 37.053 s\n"
     ]
    },
    {
     "data": {
      "application/vnd.jupyter.widget-view+json": {
       "model_id": "",
       "version_major": 2,
       "version_minor": 0
      },
      "text/plain": [
       "HBox(children=(FloatProgress(value=0.0, description='Training', layout=Layout(flex='2'), max=1125.0, style=Pro…"
      ]
     },
     "metadata": {},
     "output_type": "display_data"
    },
    {
     "name": "stdout",
     "output_type": "stream",
     "text": [
      "Epoch 265: train=1.11765, val=1.03293, took 36.888 s\n"
     ]
    },
    {
     "data": {
      "application/vnd.jupyter.widget-view+json": {
       "model_id": "",
       "version_major": 2,
       "version_minor": 0
      },
      "text/plain": [
       "HBox(children=(FloatProgress(value=0.0, description='Training', layout=Layout(flex='2'), max=1125.0, style=Pro…"
      ]
     },
     "metadata": {},
     "output_type": "display_data"
    },
    {
     "name": "stdout",
     "output_type": "stream",
     "text": [
      "Epoch 266: train=1.11478, val=1.0538, took 36.988 s\n"
     ]
    },
    {
     "data": {
      "application/vnd.jupyter.widget-view+json": {
       "model_id": "",
       "version_major": 2,
       "version_minor": 0
      },
      "text/plain": [
       "HBox(children=(FloatProgress(value=0.0, description='Training', layout=Layout(flex='2'), max=1125.0, style=Pro…"
      ]
     },
     "metadata": {},
     "output_type": "display_data"
    },
    {
     "name": "stdout",
     "output_type": "stream",
     "text": [
      "Epoch 267: train=1.10566, val=1.07045, took 36.925 s\n"
     ]
    },
    {
     "data": {
      "application/vnd.jupyter.widget-view+json": {
       "model_id": "",
       "version_major": 2,
       "version_minor": 0
      },
      "text/plain": [
       "HBox(children=(FloatProgress(value=0.0, description='Training', layout=Layout(flex='2'), max=1125.0, style=Pro…"
      ]
     },
     "metadata": {},
     "output_type": "display_data"
    },
    {
     "name": "stdout",
     "output_type": "stream",
     "text": [
      "Epoch 268: train=1.11695, val=1.04621, took 36.97 s\n"
     ]
    },
    {
     "data": {
      "application/vnd.jupyter.widget-view+json": {
       "model_id": "",
       "version_major": 2,
       "version_minor": 0
      },
      "text/plain": [
       "HBox(children=(FloatProgress(value=0.0, description='Training', layout=Layout(flex='2'), max=1125.0, style=Pro…"
      ]
     },
     "metadata": {},
     "output_type": "display_data"
    },
    {
     "name": "stdout",
     "output_type": "stream",
     "text": [
      "Epoch 269: train=1.10583, val=1.04265, took 36.876 s\n"
     ]
    },
    {
     "data": {
      "application/vnd.jupyter.widget-view+json": {
       "model_id": "",
       "version_major": 2,
       "version_minor": 0
      },
      "text/plain": [
       "HBox(children=(FloatProgress(value=0.0, description='Training', layout=Layout(flex='2'), max=1125.0, style=Pro…"
      ]
     },
     "metadata": {},
     "output_type": "display_data"
    },
    {
     "name": "stdout",
     "output_type": "stream",
     "text": [
      "Epoch 270: train=1.12216, val=1.03755, took 36.893 s\n"
     ]
    },
    {
     "data": {
      "application/vnd.jupyter.widget-view+json": {
       "model_id": "",
       "version_major": 2,
       "version_minor": 0
      },
      "text/plain": [
       "HBox(children=(FloatProgress(value=0.0, description='Training', layout=Layout(flex='2'), max=1125.0, style=Pro…"
      ]
     },
     "metadata": {},
     "output_type": "display_data"
    },
    {
     "name": "stdout",
     "output_type": "stream",
     "text": [
      "Epoch 271: train=1.10207, val=1.05201, took 36.963 s\n"
     ]
    },
    {
     "data": {
      "application/vnd.jupyter.widget-view+json": {
       "model_id": "",
       "version_major": 2,
       "version_minor": 0
      },
      "text/plain": [
       "HBox(children=(FloatProgress(value=0.0, description='Training', layout=Layout(flex='2'), max=1125.0, style=Pro…"
      ]
     },
     "metadata": {},
     "output_type": "display_data"
    },
    {
     "name": "stdout",
     "output_type": "stream",
     "text": [
      "Epoch 272: train=1.11302, val=1.03363, took 36.858 s\n"
     ]
    },
    {
     "data": {
      "application/vnd.jupyter.widget-view+json": {
       "model_id": "",
       "version_major": 2,
       "version_minor": 0
      },
      "text/plain": [
       "HBox(children=(FloatProgress(value=0.0, description='Training', layout=Layout(flex='2'), max=1125.0, style=Pro…"
      ]
     },
     "metadata": {},
     "output_type": "display_data"
    },
    {
     "name": "stdout",
     "output_type": "stream",
     "text": [
      "Epoch 273: train=1.10949, val=1.09381, took 36.869 s\n"
     ]
    },
    {
     "data": {
      "application/vnd.jupyter.widget-view+json": {
       "model_id": "",
       "version_major": 2,
       "version_minor": 0
      },
      "text/plain": [
       "HBox(children=(FloatProgress(value=0.0, description='Training', layout=Layout(flex='2'), max=1125.0, style=Pro…"
      ]
     },
     "metadata": {},
     "output_type": "display_data"
    },
    {
     "name": "stdout",
     "output_type": "stream",
     "text": [
      "Epoch 274: train=1.10594, val=1.03673, took 37.003 s\n"
     ]
    },
    {
     "data": {
      "application/vnd.jupyter.widget-view+json": {
       "model_id": "",
       "version_major": 2,
       "version_minor": 0
      },
      "text/plain": [
       "HBox(children=(FloatProgress(value=0.0, description='Training', layout=Layout(flex='2'), max=1125.0, style=Pro…"
      ]
     },
     "metadata": {},
     "output_type": "display_data"
    },
    {
     "name": "stdout",
     "output_type": "stream",
     "text": [
      "Epoch 275: train=1.12084, val=1.0375, took 37.192 s\n"
     ]
    },
    {
     "data": {
      "application/vnd.jupyter.widget-view+json": {
       "model_id": "",
       "version_major": 2,
       "version_minor": 0
      },
      "text/plain": [
       "HBox(children=(FloatProgress(value=0.0, description='Training', layout=Layout(flex='2'), max=1125.0, style=Pro…"
      ]
     },
     "metadata": {},
     "output_type": "display_data"
    },
    {
     "name": "stdout",
     "output_type": "stream",
     "text": [
      "Epoch 276: train=1.1154, val=1.13181, took 36.841 s\n"
     ]
    },
    {
     "data": {
      "application/vnd.jupyter.widget-view+json": {
       "model_id": "",
       "version_major": 2,
       "version_minor": 0
      },
      "text/plain": [
       "HBox(children=(FloatProgress(value=0.0, description='Training', layout=Layout(flex='2'), max=1125.0, style=Pro…"
      ]
     },
     "metadata": {},
     "output_type": "display_data"
    },
    {
     "name": "stdout",
     "output_type": "stream",
     "text": [
      "Epoch 277: train=1.11, val=1.02731, took 37.051 s\n"
     ]
    },
    {
     "data": {
      "application/vnd.jupyter.widget-view+json": {
       "model_id": "",
       "version_major": 2,
       "version_minor": 0
      },
      "text/plain": [
       "HBox(children=(FloatProgress(value=0.0, description='Training', layout=Layout(flex='2'), max=1125.0, style=Pro…"
      ]
     },
     "metadata": {},
     "output_type": "display_data"
    },
    {
     "name": "stdout",
     "output_type": "stream",
     "text": [
      "Epoch 278: train=1.11088, val=1.06098, took 36.897 s\n"
     ]
    },
    {
     "data": {
      "application/vnd.jupyter.widget-view+json": {
       "model_id": "",
       "version_major": 2,
       "version_minor": 0
      },
      "text/plain": [
       "HBox(children=(FloatProgress(value=0.0, description='Training', layout=Layout(flex='2'), max=1125.0, style=Pro…"
      ]
     },
     "metadata": {},
     "output_type": "display_data"
    },
    {
     "name": "stdout",
     "output_type": "stream",
     "text": [
      "Epoch 279: train=1.10565, val=1.02844, took 36.949 s\n"
     ]
    },
    {
     "data": {
      "application/vnd.jupyter.widget-view+json": {
       "model_id": "",
       "version_major": 2,
       "version_minor": 0
      },
      "text/plain": [
       "HBox(children=(FloatProgress(value=0.0, description='Training', layout=Layout(flex='2'), max=1125.0, style=Pro…"
      ]
     },
     "metadata": {},
     "output_type": "display_data"
    },
    {
     "name": "stdout",
     "output_type": "stream",
     "text": [
      "Epoch 280: train=1.1078, val=1.02919, took 37.067 s\n"
     ]
    },
    {
     "data": {
      "application/vnd.jupyter.widget-view+json": {
       "model_id": "",
       "version_major": 2,
       "version_minor": 0
      },
      "text/plain": [
       "HBox(children=(FloatProgress(value=0.0, description='Training', layout=Layout(flex='2'), max=1125.0, style=Pro…"
      ]
     },
     "metadata": {},
     "output_type": "display_data"
    },
    {
     "name": "stdout",
     "output_type": "stream",
     "text": [
      "Epoch 281: train=1.11241, val=1.07687, took 36.873 s\n"
     ]
    },
    {
     "data": {
      "application/vnd.jupyter.widget-view+json": {
       "model_id": "",
       "version_major": 2,
       "version_minor": 0
      },
      "text/plain": [
       "HBox(children=(FloatProgress(value=0.0, description='Training', layout=Layout(flex='2'), max=1125.0, style=Pro…"
      ]
     },
     "metadata": {},
     "output_type": "display_data"
    },
    {
     "name": "stdout",
     "output_type": "stream",
     "text": [
      "Epoch 282: train=1.11425, val=1.04046, took 36.964 s\n"
     ]
    },
    {
     "data": {
      "application/vnd.jupyter.widget-view+json": {
       "model_id": "",
       "version_major": 2,
       "version_minor": 0
      },
      "text/plain": [
       "HBox(children=(FloatProgress(value=0.0, description='Training', layout=Layout(flex='2'), max=1125.0, style=Pro…"
      ]
     },
     "metadata": {},
     "output_type": "display_data"
    },
    {
     "name": "stdout",
     "output_type": "stream",
     "text": [
      "Epoch 283: train=1.10236, val=1.09548, took 36.865 s\n"
     ]
    },
    {
     "data": {
      "application/vnd.jupyter.widget-view+json": {
       "model_id": "",
       "version_major": 2,
       "version_minor": 0
      },
      "text/plain": [
       "HBox(children=(FloatProgress(value=0.0, description='Training', layout=Layout(flex='2'), max=1125.0, style=Pro…"
      ]
     },
     "metadata": {},
     "output_type": "display_data"
    },
    {
     "name": "stdout",
     "output_type": "stream",
     "text": [
      "Epoch 284: train=1.11968, val=1.03828, took 36.962 s\n"
     ]
    },
    {
     "data": {
      "application/vnd.jupyter.widget-view+json": {
       "model_id": "",
       "version_major": 2,
       "version_minor": 0
      },
      "text/plain": [
       "HBox(children=(FloatProgress(value=0.0, description='Training', layout=Layout(flex='2'), max=1125.0, style=Pro…"
      ]
     },
     "metadata": {},
     "output_type": "display_data"
    },
    {
     "name": "stdout",
     "output_type": "stream",
     "text": [
      "Epoch 285: train=1.10266, val=1.04489, took 37.01 s\n"
     ]
    },
    {
     "data": {
      "application/vnd.jupyter.widget-view+json": {
       "model_id": "",
       "version_major": 2,
       "version_minor": 0
      },
      "text/plain": [
       "HBox(children=(FloatProgress(value=0.0, description='Training', layout=Layout(flex='2'), max=1125.0, style=Pro…"
      ]
     },
     "metadata": {},
     "output_type": "display_data"
    },
    {
     "name": "stdout",
     "output_type": "stream",
     "text": [
      "Epoch 286: train=1.12386, val=1.03038, took 37.026 s\n"
     ]
    },
    {
     "data": {
      "application/vnd.jupyter.widget-view+json": {
       "model_id": "",
       "version_major": 2,
       "version_minor": 0
      },
      "text/plain": [
       "HBox(children=(FloatProgress(value=0.0, description='Training', layout=Layout(flex='2'), max=1125.0, style=Pro…"
      ]
     },
     "metadata": {},
     "output_type": "display_data"
    },
    {
     "name": "stdout",
     "output_type": "stream",
     "text": [
      "Epoch 287: train=1.10535, val=1.02944, took 37.133 s\n"
     ]
    },
    {
     "data": {
      "application/vnd.jupyter.widget-view+json": {
       "model_id": "",
       "version_major": 2,
       "version_minor": 0
      },
      "text/plain": [
       "HBox(children=(FloatProgress(value=0.0, description='Training', layout=Layout(flex='2'), max=1125.0, style=Pro…"
      ]
     },
     "metadata": {},
     "output_type": "display_data"
    },
    {
     "name": "stdout",
     "output_type": "stream",
     "text": [
      "Epoch 288: train=1.10997, val=1.03392, took 36.879 s\n"
     ]
    },
    {
     "data": {
      "application/vnd.jupyter.widget-view+json": {
       "model_id": "",
       "version_major": 2,
       "version_minor": 0
      },
      "text/plain": [
       "HBox(children=(FloatProgress(value=0.0, description='Training', layout=Layout(flex='2'), max=1125.0, style=Pro…"
      ]
     },
     "metadata": {},
     "output_type": "display_data"
    },
    {
     "name": "stdout",
     "output_type": "stream",
     "text": [
      "Epoch 289: train=1.11028, val=1.05468, took 37.114 s\n"
     ]
    },
    {
     "data": {
      "application/vnd.jupyter.widget-view+json": {
       "model_id": "",
       "version_major": 2,
       "version_minor": 0
      },
      "text/plain": [
       "HBox(children=(FloatProgress(value=0.0, description='Training', layout=Layout(flex='2'), max=1125.0, style=Pro…"
      ]
     },
     "metadata": {},
     "output_type": "display_data"
    },
    {
     "name": "stdout",
     "output_type": "stream",
     "text": [
      "Epoch 290: train=1.11341, val=1.06291, took 36.846 s\n"
     ]
    },
    {
     "data": {
      "application/vnd.jupyter.widget-view+json": {
       "model_id": "",
       "version_major": 2,
       "version_minor": 0
      },
      "text/plain": [
       "HBox(children=(FloatProgress(value=0.0, description='Training', layout=Layout(flex='2'), max=1125.0, style=Pro…"
      ]
     },
     "metadata": {},
     "output_type": "display_data"
    },
    {
     "name": "stdout",
     "output_type": "stream",
     "text": [
      "Epoch 291: train=1.1098, val=1.11089, took 36.91 s\n"
     ]
    },
    {
     "data": {
      "application/vnd.jupyter.widget-view+json": {
       "model_id": "",
       "version_major": 2,
       "version_minor": 0
      },
      "text/plain": [
       "HBox(children=(FloatProgress(value=0.0, description='Training', layout=Layout(flex='2'), max=1125.0, style=Pro…"
      ]
     },
     "metadata": {},
     "output_type": "display_data"
    },
    {
     "name": "stdout",
     "output_type": "stream",
     "text": [
      "Epoch 292: train=1.11983, val=1.04036, took 37.057 s\n"
     ]
    },
    {
     "data": {
      "application/vnd.jupyter.widget-view+json": {
       "model_id": "",
       "version_major": 2,
       "version_minor": 0
      },
      "text/plain": [
       "HBox(children=(FloatProgress(value=0.0, description='Training', layout=Layout(flex='2'), max=1125.0, style=Pro…"
      ]
     },
     "metadata": {},
     "output_type": "display_data"
    },
    {
     "name": "stdout",
     "output_type": "stream",
     "text": [
      "Epoch 293: train=1.11142, val=1.02814, took 36.906 s\n"
     ]
    },
    {
     "data": {
      "application/vnd.jupyter.widget-view+json": {
       "model_id": "",
       "version_major": 2,
       "version_minor": 0
      },
      "text/plain": [
       "HBox(children=(FloatProgress(value=0.0, description='Training', layout=Layout(flex='2'), max=1125.0, style=Pro…"
      ]
     },
     "metadata": {},
     "output_type": "display_data"
    },
    {
     "name": "stdout",
     "output_type": "stream",
     "text": [
      "Epoch 294: train=1.10973, val=1.03268, took 37.032 s\n"
     ]
    },
    {
     "data": {
      "application/vnd.jupyter.widget-view+json": {
       "model_id": "",
       "version_major": 2,
       "version_minor": 0
      },
      "text/plain": [
       "HBox(children=(FloatProgress(value=0.0, description='Training', layout=Layout(flex='2'), max=1125.0, style=Pro…"
      ]
     },
     "metadata": {},
     "output_type": "display_data"
    },
    {
     "name": "stdout",
     "output_type": "stream",
     "text": [
      "Epoch 295: train=1.11173, val=1.0376, took 36.823 s\n"
     ]
    },
    {
     "data": {
      "application/vnd.jupyter.widget-view+json": {
       "model_id": "",
       "version_major": 2,
       "version_minor": 0
      },
      "text/plain": [
       "HBox(children=(FloatProgress(value=0.0, description='Training', layout=Layout(flex='2'), max=1125.0, style=Pro…"
      ]
     },
     "metadata": {},
     "output_type": "display_data"
    },
    {
     "name": "stdout",
     "output_type": "stream",
     "text": [
      "Epoch 296: train=1.1054, val=1.04264, took 36.944 s\n"
     ]
    },
    {
     "data": {
      "application/vnd.jupyter.widget-view+json": {
       "model_id": "",
       "version_major": 2,
       "version_minor": 0
      },
      "text/plain": [
       "HBox(children=(FloatProgress(value=0.0, description='Training', layout=Layout(flex='2'), max=1125.0, style=Pro…"
      ]
     },
     "metadata": {},
     "output_type": "display_data"
    },
    {
     "name": "stdout",
     "output_type": "stream",
     "text": [
      "Epoch 297: train=1.09935, val=1.18454, took 36.926 s\n"
     ]
    },
    {
     "data": {
      "application/vnd.jupyter.widget-view+json": {
       "model_id": "",
       "version_major": 2,
       "version_minor": 0
      },
      "text/plain": [
       "HBox(children=(FloatProgress(value=0.0, description='Training', layout=Layout(flex='2'), max=1125.0, style=Pro…"
      ]
     },
     "metadata": {},
     "output_type": "display_data"
    },
    {
     "name": "stdout",
     "output_type": "stream",
     "text": [
      "Epoch 298: train=1.12727, val=1.33634, took 36.977 s\n"
     ]
    },
    {
     "data": {
      "application/vnd.jupyter.widget-view+json": {
       "model_id": "",
       "version_major": 2,
       "version_minor": 0
      },
      "text/plain": [
       "HBox(children=(FloatProgress(value=0.0, description='Training', layout=Layout(flex='2'), max=1125.0, style=Pro…"
      ]
     },
     "metadata": {},
     "output_type": "display_data"
    },
    {
     "name": "stdout",
     "output_type": "stream",
     "text": [
      "Epoch 299: train=1.10514, val=1.02901, took 36.994 s\n"
     ]
    },
    {
     "data": {
      "application/vnd.jupyter.widget-view+json": {
       "model_id": "",
       "version_major": 2,
       "version_minor": 0
      },
      "text/plain": [
       "HBox(children=(FloatProgress(value=0.0, description='Training', layout=Layout(flex='2'), max=1125.0, style=Pro…"
      ]
     },
     "metadata": {},
     "output_type": "display_data"
    },
    {
     "name": "stdout",
     "output_type": "stream",
     "text": [
      "Epoch 300: train=1.10206, val=1.03062, took 36.928 s\n"
     ]
    },
    {
     "data": {
      "application/vnd.jupyter.widget-view+json": {
       "model_id": "",
       "version_major": 2,
       "version_minor": 0
      },
      "text/plain": [
       "HBox(children=(FloatProgress(value=0.0, description='Training', layout=Layout(flex='2'), max=1125.0, style=Pro…"
      ]
     },
     "metadata": {},
     "output_type": "display_data"
    },
    {
     "name": "stdout",
     "output_type": "stream",
     "text": [
      "Epoch 301: train=1.11623, val=1.02694, took 37.03 s\n"
     ]
    },
    {
     "data": {
      "application/vnd.jupyter.widget-view+json": {
       "model_id": "",
       "version_major": 2,
       "version_minor": 0
      },
      "text/plain": [
       "HBox(children=(FloatProgress(value=0.0, description='Training', layout=Layout(flex='2'), max=1125.0, style=Pro…"
      ]
     },
     "metadata": {},
     "output_type": "display_data"
    },
    {
     "name": "stdout",
     "output_type": "stream",
     "text": [
      "Epoch 302: train=1.10582, val=1.06126, took 37.092 s\n"
     ]
    },
    {
     "data": {
      "application/vnd.jupyter.widget-view+json": {
       "model_id": "",
       "version_major": 2,
       "version_minor": 0
      },
      "text/plain": [
       "HBox(children=(FloatProgress(value=0.0, description='Training', layout=Layout(flex='2'), max=1125.0, style=Pro…"
      ]
     },
     "metadata": {},
     "output_type": "display_data"
    },
    {
     "name": "stdout",
     "output_type": "stream",
     "text": [
      "Epoch 303: train=1.10873, val=1.02492, took 36.909 s\n"
     ]
    },
    {
     "data": {
      "application/vnd.jupyter.widget-view+json": {
       "model_id": "",
       "version_major": 2,
       "version_minor": 0
      },
      "text/plain": [
       "HBox(children=(FloatProgress(value=0.0, description='Training', layout=Layout(flex='2'), max=1125.0, style=Pro…"
      ]
     },
     "metadata": {},
     "output_type": "display_data"
    },
    {
     "name": "stdout",
     "output_type": "stream",
     "text": [
      "Epoch 304: train=1.10681, val=1.02606, took 36.931 s\n"
     ]
    },
    {
     "data": {
      "application/vnd.jupyter.widget-view+json": {
       "model_id": "",
       "version_major": 2,
       "version_minor": 0
      },
      "text/plain": [
       "HBox(children=(FloatProgress(value=0.0, description='Training', layout=Layout(flex='2'), max=1125.0, style=Pro…"
      ]
     },
     "metadata": {},
     "output_type": "display_data"
    },
    {
     "name": "stdout",
     "output_type": "stream",
     "text": [
      "Epoch 305: train=1.11098, val=1.06997, took 36.879 s\n"
     ]
    },
    {
     "data": {
      "application/vnd.jupyter.widget-view+json": {
       "model_id": "",
       "version_major": 2,
       "version_minor": 0
      },
      "text/plain": [
       "HBox(children=(FloatProgress(value=0.0, description='Training', layout=Layout(flex='2'), max=1125.0, style=Pro…"
      ]
     },
     "metadata": {},
     "output_type": "display_data"
    },
    {
     "name": "stdout",
     "output_type": "stream",
     "text": [
      "Epoch 306: train=1.10371, val=1.05298, took 36.945 s\n"
     ]
    },
    {
     "data": {
      "application/vnd.jupyter.widget-view+json": {
       "model_id": "",
       "version_major": 2,
       "version_minor": 0
      },
      "text/plain": [
       "HBox(children=(FloatProgress(value=0.0, description='Training', layout=Layout(flex='2'), max=1125.0, style=Pro…"
      ]
     },
     "metadata": {},
     "output_type": "display_data"
    },
    {
     "name": "stdout",
     "output_type": "stream",
     "text": [
      "Epoch 307: train=1.10348, val=1.02699, took 37.208 s\n"
     ]
    },
    {
     "data": {
      "application/vnd.jupyter.widget-view+json": {
       "model_id": "",
       "version_major": 2,
       "version_minor": 0
      },
      "text/plain": [
       "HBox(children=(FloatProgress(value=0.0, description='Training', layout=Layout(flex='2'), max=1125.0, style=Pro…"
      ]
     },
     "metadata": {},
     "output_type": "display_data"
    },
    {
     "name": "stdout",
     "output_type": "stream",
     "text": [
      "Epoch 308: train=1.10225, val=1.07807, took 36.961 s\n"
     ]
    },
    {
     "data": {
      "application/vnd.jupyter.widget-view+json": {
       "model_id": "",
       "version_major": 2,
       "version_minor": 0
      },
      "text/plain": [
       "HBox(children=(FloatProgress(value=0.0, description='Training', layout=Layout(flex='2'), max=1125.0, style=Pro…"
      ]
     },
     "metadata": {},
     "output_type": "display_data"
    },
    {
     "name": "stdout",
     "output_type": "stream",
     "text": [
      "Epoch 309: train=1.11538, val=1.12526, took 36.963 s\n"
     ]
    },
    {
     "data": {
      "application/vnd.jupyter.widget-view+json": {
       "model_id": "",
       "version_major": 2,
       "version_minor": 0
      },
      "text/plain": [
       "HBox(children=(FloatProgress(value=0.0, description='Training', layout=Layout(flex='2'), max=1125.0, style=Pro…"
      ]
     },
     "metadata": {},
     "output_type": "display_data"
    },
    {
     "name": "stdout",
     "output_type": "stream",
     "text": [
      "Epoch 310: train=1.10508, val=1.08844, took 36.989 s\n"
     ]
    },
    {
     "data": {
      "application/vnd.jupyter.widget-view+json": {
       "model_id": "",
       "version_major": 2,
       "version_minor": 0
      },
      "text/plain": [
       "HBox(children=(FloatProgress(value=0.0, description='Training', layout=Layout(flex='2'), max=1125.0, style=Pro…"
      ]
     },
     "metadata": {},
     "output_type": "display_data"
    },
    {
     "name": "stdout",
     "output_type": "stream",
     "text": [
      "Epoch 311: train=1.10163, val=1.03571, took 37.007 s\n"
     ]
    },
    {
     "data": {
      "application/vnd.jupyter.widget-view+json": {
       "model_id": "",
       "version_major": 2,
       "version_minor": 0
      },
      "text/plain": [
       "HBox(children=(FloatProgress(value=0.0, description='Training', layout=Layout(flex='2'), max=1125.0, style=Pro…"
      ]
     },
     "metadata": {},
     "output_type": "display_data"
    },
    {
     "name": "stdout",
     "output_type": "stream",
     "text": [
      "Epoch 312: train=1.11092, val=1.02447, took 36.85 s\n"
     ]
    },
    {
     "data": {
      "application/vnd.jupyter.widget-view+json": {
       "model_id": "",
       "version_major": 2,
       "version_minor": 0
      },
      "text/plain": [
       "HBox(children=(FloatProgress(value=0.0, description='Training', layout=Layout(flex='2'), max=1125.0, style=Pro…"
      ]
     },
     "metadata": {},
     "output_type": "display_data"
    },
    {
     "name": "stdout",
     "output_type": "stream",
     "text": [
      "Epoch 313: train=1.10699, val=1.08562, took 36.868 s\n"
     ]
    },
    {
     "data": {
      "application/vnd.jupyter.widget-view+json": {
       "model_id": "",
       "version_major": 2,
       "version_minor": 0
      },
      "text/plain": [
       "HBox(children=(FloatProgress(value=0.0, description='Training', layout=Layout(flex='2'), max=1125.0, style=Pro…"
      ]
     },
     "metadata": {},
     "output_type": "display_data"
    },
    {
     "name": "stdout",
     "output_type": "stream",
     "text": [
      "Epoch 314: train=1.10037, val=1.10248, took 36.952 s\n"
     ]
    },
    {
     "data": {
      "application/vnd.jupyter.widget-view+json": {
       "model_id": "",
       "version_major": 2,
       "version_minor": 0
      },
      "text/plain": [
       "HBox(children=(FloatProgress(value=0.0, description='Training', layout=Layout(flex='2'), max=1125.0, style=Pro…"
      ]
     },
     "metadata": {},
     "output_type": "display_data"
    },
    {
     "name": "stdout",
     "output_type": "stream",
     "text": [
      "Epoch 315: train=1.10024, val=1.03775, took 36.947 s\n"
     ]
    },
    {
     "data": {
      "application/vnd.jupyter.widget-view+json": {
       "model_id": "",
       "version_major": 2,
       "version_minor": 0
      },
      "text/plain": [
       "HBox(children=(FloatProgress(value=0.0, description='Training', layout=Layout(flex='2'), max=1125.0, style=Pro…"
      ]
     },
     "metadata": {},
     "output_type": "display_data"
    },
    {
     "name": "stdout",
     "output_type": "stream",
     "text": [
      "Epoch 316: train=1.11027, val=1.02758, took 36.894 s\n"
     ]
    },
    {
     "data": {
      "application/vnd.jupyter.widget-view+json": {
       "model_id": "",
       "version_major": 2,
       "version_minor": 0
      },
      "text/plain": [
       "HBox(children=(FloatProgress(value=0.0, description='Training', layout=Layout(flex='2'), max=1125.0, style=Pro…"
      ]
     },
     "metadata": {},
     "output_type": "display_data"
    },
    {
     "name": "stdout",
     "output_type": "stream",
     "text": [
      "Epoch 317: train=1.09373, val=1.02354, took 36.848 s\n"
     ]
    },
    {
     "data": {
      "application/vnd.jupyter.widget-view+json": {
       "model_id": "",
       "version_major": 2,
       "version_minor": 0
      },
      "text/plain": [
       "HBox(children=(FloatProgress(value=0.0, description='Training', layout=Layout(flex='2'), max=1125.0, style=Pro…"
      ]
     },
     "metadata": {},
     "output_type": "display_data"
    },
    {
     "name": "stdout",
     "output_type": "stream",
     "text": [
      "Epoch 318: train=1.11223, val=1.28319, took 36.826 s\n"
     ]
    },
    {
     "data": {
      "application/vnd.jupyter.widget-view+json": {
       "model_id": "",
       "version_major": 2,
       "version_minor": 0
      },
      "text/plain": [
       "HBox(children=(FloatProgress(value=0.0, description='Training', layout=Layout(flex='2'), max=1125.0, style=Pro…"
      ]
     },
     "metadata": {},
     "output_type": "display_data"
    },
    {
     "name": "stdout",
     "output_type": "stream",
     "text": [
      "Epoch 319: train=1.10289, val=1.03096, took 36.869 s\n"
     ]
    },
    {
     "data": {
      "application/vnd.jupyter.widget-view+json": {
       "model_id": "",
       "version_major": 2,
       "version_minor": 0
      },
      "text/plain": [
       "HBox(children=(FloatProgress(value=0.0, description='Training', layout=Layout(flex='2'), max=1125.0, style=Pro…"
      ]
     },
     "metadata": {},
     "output_type": "display_data"
    },
    {
     "name": "stdout",
     "output_type": "stream",
     "text": [
      "Epoch 320: train=1.10416, val=1.05598, took 36.909 s\n"
     ]
    },
    {
     "data": {
      "application/vnd.jupyter.widget-view+json": {
       "model_id": "",
       "version_major": 2,
       "version_minor": 0
      },
      "text/plain": [
       "HBox(children=(FloatProgress(value=0.0, description='Training', layout=Layout(flex='2'), max=1125.0, style=Pro…"
      ]
     },
     "metadata": {},
     "output_type": "display_data"
    },
    {
     "name": "stdout",
     "output_type": "stream",
     "text": [
      "Epoch 321: train=1.11202, val=1.0816, took 36.883 s\n"
     ]
    },
    {
     "data": {
      "application/vnd.jupyter.widget-view+json": {
       "model_id": "",
       "version_major": 2,
       "version_minor": 0
      },
      "text/plain": [
       "HBox(children=(FloatProgress(value=0.0, description='Training', layout=Layout(flex='2'), max=1125.0, style=Pro…"
      ]
     },
     "metadata": {},
     "output_type": "display_data"
    },
    {
     "name": "stdout",
     "output_type": "stream",
     "text": [
      "Epoch 322: train=1.10191, val=1.03516, took 36.809 s\n"
     ]
    },
    {
     "data": {
      "application/vnd.jupyter.widget-view+json": {
       "model_id": "",
       "version_major": 2,
       "version_minor": 0
      },
      "text/plain": [
       "HBox(children=(FloatProgress(value=0.0, description='Training', layout=Layout(flex='2'), max=1125.0, style=Pro…"
      ]
     },
     "metadata": {},
     "output_type": "display_data"
    },
    {
     "name": "stdout",
     "output_type": "stream",
     "text": [
      "Epoch 323: train=1.09933, val=1.03484, took 37.016 s\n"
     ]
    },
    {
     "data": {
      "application/vnd.jupyter.widget-view+json": {
       "model_id": "",
       "version_major": 2,
       "version_minor": 0
      },
      "text/plain": [
       "HBox(children=(FloatProgress(value=0.0, description='Training', layout=Layout(flex='2'), max=1125.0, style=Pro…"
      ]
     },
     "metadata": {},
     "output_type": "display_data"
    },
    {
     "name": "stdout",
     "output_type": "stream",
     "text": [
      "Epoch 324: train=1.10334, val=1.02779, took 37.114 s\n"
     ]
    },
    {
     "data": {
      "application/vnd.jupyter.widget-view+json": {
       "model_id": "",
       "version_major": 2,
       "version_minor": 0
      },
      "text/plain": [
       "HBox(children=(FloatProgress(value=0.0, description='Training', layout=Layout(flex='2'), max=1125.0, style=Pro…"
      ]
     },
     "metadata": {},
     "output_type": "display_data"
    },
    {
     "name": "stdout",
     "output_type": "stream",
     "text": [
      "Epoch 325: train=1.10016, val=1.04341, took 36.923 s\n"
     ]
    },
    {
     "data": {
      "application/vnd.jupyter.widget-view+json": {
       "model_id": "",
       "version_major": 2,
       "version_minor": 0
      },
      "text/plain": [
       "HBox(children=(FloatProgress(value=0.0, description='Training', layout=Layout(flex='2'), max=1125.0, style=Pro…"
      ]
     },
     "metadata": {},
     "output_type": "display_data"
    },
    {
     "name": "stdout",
     "output_type": "stream",
     "text": [
      "Epoch 326: train=1.11147, val=1.02679, took 36.862 s\n"
     ]
    },
    {
     "data": {
      "application/vnd.jupyter.widget-view+json": {
       "model_id": "",
       "version_major": 2,
       "version_minor": 0
      },
      "text/plain": [
       "HBox(children=(FloatProgress(value=0.0, description='Training', layout=Layout(flex='2'), max=1125.0, style=Pro…"
      ]
     },
     "metadata": {},
     "output_type": "display_data"
    },
    {
     "name": "stdout",
     "output_type": "stream",
     "text": [
      "Epoch 327: train=1.1082, val=1.03131, took 36.828 s\n"
     ]
    },
    {
     "data": {
      "application/vnd.jupyter.widget-view+json": {
       "model_id": "",
       "version_major": 2,
       "version_minor": 0
      },
      "text/plain": [
       "HBox(children=(FloatProgress(value=0.0, description='Training', layout=Layout(flex='2'), max=1125.0, style=Pro…"
      ]
     },
     "metadata": {},
     "output_type": "display_data"
    },
    {
     "name": "stdout",
     "output_type": "stream",
     "text": [
      "Epoch 328: train=1.10043, val=1.02082, took 36.97 s\n"
     ]
    },
    {
     "data": {
      "application/vnd.jupyter.widget-view+json": {
       "model_id": "",
       "version_major": 2,
       "version_minor": 0
      },
      "text/plain": [
       "HBox(children=(FloatProgress(value=0.0, description='Training', layout=Layout(flex='2'), max=1125.0, style=Pro…"
      ]
     },
     "metadata": {},
     "output_type": "display_data"
    },
    {
     "name": "stdout",
     "output_type": "stream",
     "text": [
      "Epoch 329: train=1.09919, val=1.08182, took 36.922 s\n"
     ]
    },
    {
     "data": {
      "application/vnd.jupyter.widget-view+json": {
       "model_id": "",
       "version_major": 2,
       "version_minor": 0
      },
      "text/plain": [
       "HBox(children=(FloatProgress(value=0.0, description='Training', layout=Layout(flex='2'), max=1125.0, style=Pro…"
      ]
     },
     "metadata": {},
     "output_type": "display_data"
    },
    {
     "name": "stdout",
     "output_type": "stream",
     "text": [
      "Epoch 330: train=1.09648, val=1.03912, took 36.926 s\n"
     ]
    },
    {
     "data": {
      "application/vnd.jupyter.widget-view+json": {
       "model_id": "",
       "version_major": 2,
       "version_minor": 0
      },
      "text/plain": [
       "HBox(children=(FloatProgress(value=0.0, description='Training', layout=Layout(flex='2'), max=1125.0, style=Pro…"
      ]
     },
     "metadata": {},
     "output_type": "display_data"
    },
    {
     "name": "stdout",
     "output_type": "stream",
     "text": [
      "Epoch 331: train=1.10299, val=1.02574, took 37.021 s\n"
     ]
    },
    {
     "data": {
      "application/vnd.jupyter.widget-view+json": {
       "model_id": "",
       "version_major": 2,
       "version_minor": 0
      },
      "text/plain": [
       "HBox(children=(FloatProgress(value=0.0, description='Training', layout=Layout(flex='2'), max=1125.0, style=Pro…"
      ]
     },
     "metadata": {},
     "output_type": "display_data"
    },
    {
     "name": "stdout",
     "output_type": "stream",
     "text": [
      "Epoch 332: train=1.10386, val=1.02476, took 37.247 s\n"
     ]
    },
    {
     "data": {
      "application/vnd.jupyter.widget-view+json": {
       "model_id": "",
       "version_major": 2,
       "version_minor": 0
      },
      "text/plain": [
       "HBox(children=(FloatProgress(value=0.0, description='Training', layout=Layout(flex='2'), max=1125.0, style=Pro…"
      ]
     },
     "metadata": {},
     "output_type": "display_data"
    },
    {
     "name": "stdout",
     "output_type": "stream",
     "text": [
      "Epoch 333: train=1.09621, val=1.03353, took 37.162 s\n"
     ]
    },
    {
     "data": {
      "application/vnd.jupyter.widget-view+json": {
       "model_id": "",
       "version_major": 2,
       "version_minor": 0
      },
      "text/plain": [
       "HBox(children=(FloatProgress(value=0.0, description='Training', layout=Layout(flex='2'), max=1125.0, style=Pro…"
      ]
     },
     "metadata": {},
     "output_type": "display_data"
    },
    {
     "name": "stdout",
     "output_type": "stream",
     "text": [
      "Epoch 334: train=1.09471, val=1.04483, took 37.033 s\n"
     ]
    },
    {
     "data": {
      "application/vnd.jupyter.widget-view+json": {
       "model_id": "",
       "version_major": 2,
       "version_minor": 0
      },
      "text/plain": [
       "HBox(children=(FloatProgress(value=0.0, description='Training', layout=Layout(flex='2'), max=1125.0, style=Pro…"
      ]
     },
     "metadata": {},
     "output_type": "display_data"
    },
    {
     "name": "stdout",
     "output_type": "stream",
     "text": [
      "Epoch 335: train=1.09813, val=1.02664, took 36.955 s\n"
     ]
    },
    {
     "data": {
      "application/vnd.jupyter.widget-view+json": {
       "model_id": "",
       "version_major": 2,
       "version_minor": 0
      },
      "text/plain": [
       "HBox(children=(FloatProgress(value=0.0, description='Training', layout=Layout(flex='2'), max=1125.0, style=Pro…"
      ]
     },
     "metadata": {},
     "output_type": "display_data"
    },
    {
     "name": "stdout",
     "output_type": "stream",
     "text": [
      "Epoch 336: train=1.10221, val=1.07893, took 36.874 s\n"
     ]
    },
    {
     "data": {
      "application/vnd.jupyter.widget-view+json": {
       "model_id": "",
       "version_major": 2,
       "version_minor": 0
      },
      "text/plain": [
       "HBox(children=(FloatProgress(value=0.0, description='Training', layout=Layout(flex='2'), max=1125.0, style=Pro…"
      ]
     },
     "metadata": {},
     "output_type": "display_data"
    },
    {
     "name": "stdout",
     "output_type": "stream",
     "text": [
      "Epoch 337: train=1.10353, val=1.06537, took 36.834 s\n"
     ]
    },
    {
     "data": {
      "application/vnd.jupyter.widget-view+json": {
       "model_id": "",
       "version_major": 2,
       "version_minor": 0
      },
      "text/plain": [
       "HBox(children=(FloatProgress(value=0.0, description='Training', layout=Layout(flex='2'), max=1125.0, style=Pro…"
      ]
     },
     "metadata": {},
     "output_type": "display_data"
    },
    {
     "name": "stdout",
     "output_type": "stream",
     "text": [
      "Epoch 338: train=1.10507, val=1.06085, took 36.89 s\n"
     ]
    },
    {
     "data": {
      "application/vnd.jupyter.widget-view+json": {
       "model_id": "",
       "version_major": 2,
       "version_minor": 0
      },
      "text/plain": [
       "HBox(children=(FloatProgress(value=0.0, description='Training', layout=Layout(flex='2'), max=1125.0, style=Pro…"
      ]
     },
     "metadata": {},
     "output_type": "display_data"
    },
    {
     "name": "stdout",
     "output_type": "stream",
     "text": [
      "Epoch 339: train=1.10072, val=1.02345, took 36.992 s\n"
     ]
    },
    {
     "data": {
      "application/vnd.jupyter.widget-view+json": {
       "model_id": "",
       "version_major": 2,
       "version_minor": 0
      },
      "text/plain": [
       "HBox(children=(FloatProgress(value=0.0, description='Training', layout=Layout(flex='2'), max=1125.0, style=Pro…"
      ]
     },
     "metadata": {},
     "output_type": "display_data"
    },
    {
     "name": "stdout",
     "output_type": "stream",
     "text": [
      "Epoch 340: train=1.10147, val=1.10673, took 36.946 s\n"
     ]
    },
    {
     "data": {
      "application/vnd.jupyter.widget-view+json": {
       "model_id": "",
       "version_major": 2,
       "version_minor": 0
      },
      "text/plain": [
       "HBox(children=(FloatProgress(value=0.0, description='Training', layout=Layout(flex='2'), max=1125.0, style=Pro…"
      ]
     },
     "metadata": {},
     "output_type": "display_data"
    },
    {
     "name": "stdout",
     "output_type": "stream",
     "text": [
      "Epoch 341: train=1.09873, val=1.1364, took 36.791 s\n"
     ]
    },
    {
     "data": {
      "application/vnd.jupyter.widget-view+json": {
       "model_id": "",
       "version_major": 2,
       "version_minor": 0
      },
      "text/plain": [
       "HBox(children=(FloatProgress(value=0.0, description='Training', layout=Layout(flex='2'), max=1125.0, style=Pro…"
      ]
     },
     "metadata": {},
     "output_type": "display_data"
    },
    {
     "name": "stdout",
     "output_type": "stream",
     "text": [
      "Epoch 342: train=1.10254, val=1.02376, took 36.91 s\n"
     ]
    },
    {
     "data": {
      "application/vnd.jupyter.widget-view+json": {
       "model_id": "",
       "version_major": 2,
       "version_minor": 0
      },
      "text/plain": [
       "HBox(children=(FloatProgress(value=0.0, description='Training', layout=Layout(flex='2'), max=1125.0, style=Pro…"
      ]
     },
     "metadata": {},
     "output_type": "display_data"
    },
    {
     "name": "stdout",
     "output_type": "stream",
     "text": [
      "Epoch 343: train=1.10098, val=1.01802, took 36.816 s\n"
     ]
    },
    {
     "data": {
      "application/vnd.jupyter.widget-view+json": {
       "model_id": "",
       "version_major": 2,
       "version_minor": 0
      },
      "text/plain": [
       "HBox(children=(FloatProgress(value=0.0, description='Training', layout=Layout(flex='2'), max=1125.0, style=Pro…"
      ]
     },
     "metadata": {},
     "output_type": "display_data"
    },
    {
     "name": "stdout",
     "output_type": "stream",
     "text": [
      "Epoch 344: train=1.09634, val=1.12023, took 37.004 s\n"
     ]
    },
    {
     "data": {
      "application/vnd.jupyter.widget-view+json": {
       "model_id": "",
       "version_major": 2,
       "version_minor": 0
      },
      "text/plain": [
       "HBox(children=(FloatProgress(value=0.0, description='Training', layout=Layout(flex='2'), max=1125.0, style=Pro…"
      ]
     },
     "metadata": {},
     "output_type": "display_data"
    },
    {
     "name": "stdout",
     "output_type": "stream",
     "text": [
      "Epoch 345: train=1.10085, val=1.10264, took 36.934 s\n"
     ]
    },
    {
     "data": {
      "application/vnd.jupyter.widget-view+json": {
       "model_id": "",
       "version_major": 2,
       "version_minor": 0
      },
      "text/plain": [
       "HBox(children=(FloatProgress(value=0.0, description='Training', layout=Layout(flex='2'), max=1125.0, style=Pro…"
      ]
     },
     "metadata": {},
     "output_type": "display_data"
    },
    {
     "name": "stdout",
     "output_type": "stream",
     "text": [
      "Epoch 346: train=1.09062, val=1.02431, took 36.811 s\n"
     ]
    },
    {
     "data": {
      "application/vnd.jupyter.widget-view+json": {
       "model_id": "",
       "version_major": 2,
       "version_minor": 0
      },
      "text/plain": [
       "HBox(children=(FloatProgress(value=0.0, description='Training', layout=Layout(flex='2'), max=1125.0, style=Pro…"
      ]
     },
     "metadata": {},
     "output_type": "display_data"
    },
    {
     "name": "stdout",
     "output_type": "stream",
     "text": [
      "Epoch 347: train=1.093, val=1.02038, took 36.819 s\n"
     ]
    },
    {
     "data": {
      "application/vnd.jupyter.widget-view+json": {
       "model_id": "",
       "version_major": 2,
       "version_minor": 0
      },
      "text/plain": [
       "HBox(children=(FloatProgress(value=0.0, description='Training', layout=Layout(flex='2'), max=1125.0, style=Pro…"
      ]
     },
     "metadata": {},
     "output_type": "display_data"
    },
    {
     "name": "stdout",
     "output_type": "stream",
     "text": [
      "Epoch 348: train=1.10363, val=1.13489, took 37.279 s\n"
     ]
    },
    {
     "data": {
      "application/vnd.jupyter.widget-view+json": {
       "model_id": "",
       "version_major": 2,
       "version_minor": 0
      },
      "text/plain": [
       "HBox(children=(FloatProgress(value=0.0, description='Training', layout=Layout(flex='2'), max=1125.0, style=Pro…"
      ]
     },
     "metadata": {},
     "output_type": "display_data"
    },
    {
     "name": "stdout",
     "output_type": "stream",
     "text": [
      "Epoch 349: train=1.10645, val=1.02285, took 36.96 s\n"
     ]
    },
    {
     "data": {
      "application/vnd.jupyter.widget-view+json": {
       "model_id": "",
       "version_major": 2,
       "version_minor": 0
      },
      "text/plain": [
       "HBox(children=(FloatProgress(value=0.0, description='Training', layout=Layout(flex='2'), max=1125.0, style=Pro…"
      ]
     },
     "metadata": {},
     "output_type": "display_data"
    },
    {
     "name": "stdout",
     "output_type": "stream",
     "text": [
      "Epoch 350: train=1.09612, val=1.04091, took 37.141 s\n"
     ]
    },
    {
     "data": {
      "application/vnd.jupyter.widget-view+json": {
       "model_id": "",
       "version_major": 2,
       "version_minor": 0
      },
      "text/plain": [
       "HBox(children=(FloatProgress(value=0.0, description='Training', layout=Layout(flex='2'), max=1125.0, style=Pro…"
      ]
     },
     "metadata": {},
     "output_type": "display_data"
    },
    {
     "name": "stdout",
     "output_type": "stream",
     "text": [
      "Epoch 351: train=1.10077, val=1.05505, took 37.089 s\n"
     ]
    },
    {
     "data": {
      "application/vnd.jupyter.widget-view+json": {
       "model_id": "",
       "version_major": 2,
       "version_minor": 0
      },
      "text/plain": [
       "HBox(children=(FloatProgress(value=0.0, description='Training', layout=Layout(flex='2'), max=1125.0, style=Pro…"
      ]
     },
     "metadata": {},
     "output_type": "display_data"
    },
    {
     "name": "stdout",
     "output_type": "stream",
     "text": [
      "Epoch 352: train=1.1037, val=1.04342, took 36.885 s\n"
     ]
    },
    {
     "data": {
      "application/vnd.jupyter.widget-view+json": {
       "model_id": "",
       "version_major": 2,
       "version_minor": 0
      },
      "text/plain": [
       "HBox(children=(FloatProgress(value=0.0, description='Training', layout=Layout(flex='2'), max=1125.0, style=Pro…"
      ]
     },
     "metadata": {},
     "output_type": "display_data"
    },
    {
     "name": "stdout",
     "output_type": "stream",
     "text": [
      "Epoch 353: train=1.09339, val=1.04893, took 36.967 s\n"
     ]
    },
    {
     "data": {
      "application/vnd.jupyter.widget-view+json": {
       "model_id": "",
       "version_major": 2,
       "version_minor": 0
      },
      "text/plain": [
       "HBox(children=(FloatProgress(value=0.0, description='Training', layout=Layout(flex='2'), max=1125.0, style=Pro…"
      ]
     },
     "metadata": {},
     "output_type": "display_data"
    },
    {
     "name": "stdout",
     "output_type": "stream",
     "text": [
      "Epoch 354: train=1.10108, val=1.03873, took 36.847 s\n"
     ]
    },
    {
     "data": {
      "application/vnd.jupyter.widget-view+json": {
       "model_id": "",
       "version_major": 2,
       "version_minor": 0
      },
      "text/plain": [
       "HBox(children=(FloatProgress(value=0.0, description='Training', layout=Layout(flex='2'), max=1125.0, style=Pro…"
      ]
     },
     "metadata": {},
     "output_type": "display_data"
    },
    {
     "name": "stdout",
     "output_type": "stream",
     "text": [
      "Epoch 355: train=1.10785, val=1.0878, took 36.89 s\n"
     ]
    },
    {
     "data": {
      "application/vnd.jupyter.widget-view+json": {
       "model_id": "",
       "version_major": 2,
       "version_minor": 0
      },
      "text/plain": [
       "HBox(children=(FloatProgress(value=0.0, description='Training', layout=Layout(flex='2'), max=1125.0, style=Pro…"
      ]
     },
     "metadata": {},
     "output_type": "display_data"
    },
    {
     "name": "stdout",
     "output_type": "stream",
     "text": [
      "Epoch 356: train=1.09777, val=1.02853, took 36.987 s\n"
     ]
    },
    {
     "data": {
      "application/vnd.jupyter.widget-view+json": {
       "model_id": "",
       "version_major": 2,
       "version_minor": 0
      },
      "text/plain": [
       "HBox(children=(FloatProgress(value=0.0, description='Training', layout=Layout(flex='2'), max=1125.0, style=Pro…"
      ]
     },
     "metadata": {},
     "output_type": "display_data"
    },
    {
     "name": "stdout",
     "output_type": "stream",
     "text": [
      "Epoch 357: train=1.1087, val=1.11366, took 36.958 s\n"
     ]
    },
    {
     "data": {
      "application/vnd.jupyter.widget-view+json": {
       "model_id": "",
       "version_major": 2,
       "version_minor": 0
      },
      "text/plain": [
       "HBox(children=(FloatProgress(value=0.0, description='Training', layout=Layout(flex='2'), max=1125.0, style=Pro…"
      ]
     },
     "metadata": {},
     "output_type": "display_data"
    },
    {
     "name": "stdout",
     "output_type": "stream",
     "text": [
      "Epoch 358: train=1.11795, val=1.04476, took 36.843 s\n"
     ]
    },
    {
     "data": {
      "application/vnd.jupyter.widget-view+json": {
       "model_id": "",
       "version_major": 2,
       "version_minor": 0
      },
      "text/plain": [
       "HBox(children=(FloatProgress(value=0.0, description='Training', layout=Layout(flex='2'), max=1125.0, style=Pro…"
      ]
     },
     "metadata": {},
     "output_type": "display_data"
    },
    {
     "name": "stdout",
     "output_type": "stream",
     "text": [
      "Epoch 359: train=1.09516, val=1.02218, took 36.845 s\n"
     ]
    },
    {
     "data": {
      "application/vnd.jupyter.widget-view+json": {
       "model_id": "",
       "version_major": 2,
       "version_minor": 0
      },
      "text/plain": [
       "HBox(children=(FloatProgress(value=0.0, description='Training', layout=Layout(flex='2'), max=1125.0, style=Pro…"
      ]
     },
     "metadata": {},
     "output_type": "display_data"
    },
    {
     "name": "stdout",
     "output_type": "stream",
     "text": [
      "Epoch 360: train=1.09514, val=1.09997, took 36.855 s\n"
     ]
    },
    {
     "data": {
      "application/vnd.jupyter.widget-view+json": {
       "model_id": "",
       "version_major": 2,
       "version_minor": 0
      },
      "text/plain": [
       "HBox(children=(FloatProgress(value=0.0, description='Training', layout=Layout(flex='2'), max=1125.0, style=Pro…"
      ]
     },
     "metadata": {},
     "output_type": "display_data"
    },
    {
     "name": "stdout",
     "output_type": "stream",
     "text": [
      "Epoch 361: train=1.09817, val=1.03131, took 36.882 s\n"
     ]
    },
    {
     "data": {
      "application/vnd.jupyter.widget-view+json": {
       "model_id": "",
       "version_major": 2,
       "version_minor": 0
      },
      "text/plain": [
       "HBox(children=(FloatProgress(value=0.0, description='Training', layout=Layout(flex='2'), max=1125.0, style=Pro…"
      ]
     },
     "metadata": {},
     "output_type": "display_data"
    },
    {
     "name": "stdout",
     "output_type": "stream",
     "text": [
      "Epoch 362: train=1.09874, val=1.05853, took 36.844 s\n"
     ]
    },
    {
     "data": {
      "application/vnd.jupyter.widget-view+json": {
       "model_id": "",
       "version_major": 2,
       "version_minor": 0
      },
      "text/plain": [
       "HBox(children=(FloatProgress(value=0.0, description='Training', layout=Layout(flex='2'), max=1125.0, style=Pro…"
      ]
     },
     "metadata": {},
     "output_type": "display_data"
    },
    {
     "name": "stdout",
     "output_type": "stream",
     "text": [
      "Epoch 363: train=1.0894, val=1.02634, took 36.832 s\n"
     ]
    },
    {
     "data": {
      "application/vnd.jupyter.widget-view+json": {
       "model_id": "",
       "version_major": 2,
       "version_minor": 0
      },
      "text/plain": [
       "HBox(children=(FloatProgress(value=0.0, description='Training', layout=Layout(flex='2'), max=1125.0, style=Pro…"
      ]
     },
     "metadata": {},
     "output_type": "display_data"
    },
    {
     "name": "stdout",
     "output_type": "stream",
     "text": [
      "Epoch 364: train=1.09775, val=1.01613, took 36.931 s\n"
     ]
    },
    {
     "data": {
      "application/vnd.jupyter.widget-view+json": {
       "model_id": "",
       "version_major": 2,
       "version_minor": 0
      },
      "text/plain": [
       "HBox(children=(FloatProgress(value=0.0, description='Training', layout=Layout(flex='2'), max=1125.0, style=Pro…"
      ]
     },
     "metadata": {},
     "output_type": "display_data"
    },
    {
     "name": "stdout",
     "output_type": "stream",
     "text": [
      "Epoch 365: train=1.11022, val=1.07838, took 36.787 s\n"
     ]
    },
    {
     "data": {
      "application/vnd.jupyter.widget-view+json": {
       "model_id": "",
       "version_major": 2,
       "version_minor": 0
      },
      "text/plain": [
       "HBox(children=(FloatProgress(value=0.0, description='Training', layout=Layout(flex='2'), max=1125.0, style=Pro…"
      ]
     },
     "metadata": {},
     "output_type": "display_data"
    },
    {
     "name": "stdout",
     "output_type": "stream",
     "text": [
      "Epoch 366: train=1.10491, val=1.02817, took 36.833 s\n"
     ]
    },
    {
     "data": {
      "application/vnd.jupyter.widget-view+json": {
       "model_id": "",
       "version_major": 2,
       "version_minor": 0
      },
      "text/plain": [
       "HBox(children=(FloatProgress(value=0.0, description='Training', layout=Layout(flex='2'), max=1125.0, style=Pro…"
      ]
     },
     "metadata": {},
     "output_type": "display_data"
    },
    {
     "name": "stdout",
     "output_type": "stream",
     "text": [
      "Epoch 367: train=1.09004, val=1.11197, took 36.789 s\n"
     ]
    },
    {
     "data": {
      "application/vnd.jupyter.widget-view+json": {
       "model_id": "",
       "version_major": 2,
       "version_minor": 0
      },
      "text/plain": [
       "HBox(children=(FloatProgress(value=0.0, description='Training', layout=Layout(flex='2'), max=1125.0, style=Pro…"
      ]
     },
     "metadata": {},
     "output_type": "display_data"
    },
    {
     "name": "stdout",
     "output_type": "stream",
     "text": [
      "Epoch 368: train=1.09212, val=1.01755, took 37.019 s\n"
     ]
    },
    {
     "data": {
      "application/vnd.jupyter.widget-view+json": {
       "model_id": "",
       "version_major": 2,
       "version_minor": 0
      },
      "text/plain": [
       "HBox(children=(FloatProgress(value=0.0, description='Training', layout=Layout(flex='2'), max=1125.0, style=Pro…"
      ]
     },
     "metadata": {},
     "output_type": "display_data"
    },
    {
     "name": "stdout",
     "output_type": "stream",
     "text": [
      "Epoch 369: train=1.09841, val=1.0486, took 36.893 s\n"
     ]
    },
    {
     "data": {
      "application/vnd.jupyter.widget-view+json": {
       "model_id": "",
       "version_major": 2,
       "version_minor": 0
      },
      "text/plain": [
       "HBox(children=(FloatProgress(value=0.0, description='Training', layout=Layout(flex='2'), max=1125.0, style=Pro…"
      ]
     },
     "metadata": {},
     "output_type": "display_data"
    },
    {
     "name": "stdout",
     "output_type": "stream",
     "text": [
      "Epoch 370: train=1.09675, val=1.08596, took 36.796 s\n"
     ]
    },
    {
     "data": {
      "application/vnd.jupyter.widget-view+json": {
       "model_id": "",
       "version_major": 2,
       "version_minor": 0
      },
      "text/plain": [
       "HBox(children=(FloatProgress(value=0.0, description='Training', layout=Layout(flex='2'), max=1125.0, style=Pro…"
      ]
     },
     "metadata": {},
     "output_type": "display_data"
    },
    {
     "name": "stdout",
     "output_type": "stream",
     "text": [
      "Epoch 371: train=1.10308, val=1.02969, took 36.764 s\n"
     ]
    },
    {
     "data": {
      "application/vnd.jupyter.widget-view+json": {
       "model_id": "",
       "version_major": 2,
       "version_minor": 0
      },
      "text/plain": [
       "HBox(children=(FloatProgress(value=0.0, description='Training', layout=Layout(flex='2'), max=1125.0, style=Pro…"
      ]
     },
     "metadata": {},
     "output_type": "display_data"
    },
    {
     "name": "stdout",
     "output_type": "stream",
     "text": [
      "Epoch 372: train=1.09536, val=1.07692, took 36.733 s\n"
     ]
    },
    {
     "data": {
      "application/vnd.jupyter.widget-view+json": {
       "model_id": "",
       "version_major": 2,
       "version_minor": 0
      },
      "text/plain": [
       "HBox(children=(FloatProgress(value=0.0, description='Training', layout=Layout(flex='2'), max=1125.0, style=Pro…"
      ]
     },
     "metadata": {},
     "output_type": "display_data"
    },
    {
     "name": "stdout",
     "output_type": "stream",
     "text": [
      "Epoch 373: train=1.09857, val=1.10088, took 36.859 s\n"
     ]
    },
    {
     "data": {
      "application/vnd.jupyter.widget-view+json": {
       "model_id": "",
       "version_major": 2,
       "version_minor": 0
      },
      "text/plain": [
       "HBox(children=(FloatProgress(value=0.0, description='Training', layout=Layout(flex='2'), max=1125.0, style=Pro…"
      ]
     },
     "metadata": {},
     "output_type": "display_data"
    },
    {
     "name": "stdout",
     "output_type": "stream",
     "text": [
      "Epoch 374: train=1.11198, val=1.11301, took 36.819 s\n"
     ]
    },
    {
     "data": {
      "application/vnd.jupyter.widget-view+json": {
       "model_id": "",
       "version_major": 2,
       "version_minor": 0
      },
      "text/plain": [
       "HBox(children=(FloatProgress(value=0.0, description='Training', layout=Layout(flex='2'), max=1125.0, style=Pro…"
      ]
     },
     "metadata": {},
     "output_type": "display_data"
    },
    {
     "name": "stdout",
     "output_type": "stream",
     "text": [
      "Epoch 375: train=1.10857, val=1.11049, took 37.206 s\n"
     ]
    },
    {
     "data": {
      "application/vnd.jupyter.widget-view+json": {
       "model_id": "",
       "version_major": 2,
       "version_minor": 0
      },
      "text/plain": [
       "HBox(children=(FloatProgress(value=0.0, description='Training', layout=Layout(flex='2'), max=1125.0, style=Pro…"
      ]
     },
     "metadata": {},
     "output_type": "display_data"
    },
    {
     "name": "stdout",
     "output_type": "stream",
     "text": [
      "Epoch 376: train=1.10384, val=1.03899, took 36.925 s\n"
     ]
    },
    {
     "data": {
      "application/vnd.jupyter.widget-view+json": {
       "model_id": "",
       "version_major": 2,
       "version_minor": 0
      },
      "text/plain": [
       "HBox(children=(FloatProgress(value=0.0, description='Training', layout=Layout(flex='2'), max=1125.0, style=Pro…"
      ]
     },
     "metadata": {},
     "output_type": "display_data"
    },
    {
     "name": "stdout",
     "output_type": "stream",
     "text": [
      "Epoch 377: train=1.09221, val=1.04845, took 36.9 s\n"
     ]
    },
    {
     "data": {
      "application/vnd.jupyter.widget-view+json": {
       "model_id": "",
       "version_major": 2,
       "version_minor": 0
      },
      "text/plain": [
       "HBox(children=(FloatProgress(value=0.0, description='Training', layout=Layout(flex='2'), max=1125.0, style=Pro…"
      ]
     },
     "metadata": {},
     "output_type": "display_data"
    },
    {
     "name": "stdout",
     "output_type": "stream",
     "text": [
      "Epoch 378: train=1.08429, val=1.02368, took 36.963 s\n"
     ]
    },
    {
     "data": {
      "application/vnd.jupyter.widget-view+json": {
       "model_id": "",
       "version_major": 2,
       "version_minor": 0
      },
      "text/plain": [
       "HBox(children=(FloatProgress(value=0.0, description='Training', layout=Layout(flex='2'), max=1125.0, style=Pro…"
      ]
     },
     "metadata": {},
     "output_type": "display_data"
    },
    {
     "name": "stdout",
     "output_type": "stream",
     "text": [
      "Epoch 379: train=1.09356, val=1.10929, took 37.099 s\n"
     ]
    },
    {
     "data": {
      "application/vnd.jupyter.widget-view+json": {
       "model_id": "",
       "version_major": 2,
       "version_minor": 0
      },
      "text/plain": [
       "HBox(children=(FloatProgress(value=0.0, description='Training', layout=Layout(flex='2'), max=1125.0, style=Pro…"
      ]
     },
     "metadata": {},
     "output_type": "display_data"
    },
    {
     "name": "stdout",
     "output_type": "stream",
     "text": [
      "Epoch 380: train=1.09767, val=1.02532, took 36.936 s\n"
     ]
    },
    {
     "data": {
      "application/vnd.jupyter.widget-view+json": {
       "model_id": "",
       "version_major": 2,
       "version_minor": 0
      },
      "text/plain": [
       "HBox(children=(FloatProgress(value=0.0, description='Training', layout=Layout(flex='2'), max=1125.0, style=Pro…"
      ]
     },
     "metadata": {},
     "output_type": "display_data"
    },
    {
     "name": "stdout",
     "output_type": "stream",
     "text": [
      "Epoch 381: train=1.08939, val=1.02057, took 36.865 s\n"
     ]
    },
    {
     "data": {
      "application/vnd.jupyter.widget-view+json": {
       "model_id": "",
       "version_major": 2,
       "version_minor": 0
      },
      "text/plain": [
       "HBox(children=(FloatProgress(value=0.0, description='Training', layout=Layout(flex='2'), max=1125.0, style=Pro…"
      ]
     },
     "metadata": {},
     "output_type": "display_data"
    },
    {
     "name": "stdout",
     "output_type": "stream",
     "text": [
      "Epoch 382: train=1.08453, val=1.02647, took 36.987 s\n"
     ]
    },
    {
     "data": {
      "application/vnd.jupyter.widget-view+json": {
       "model_id": "",
       "version_major": 2,
       "version_minor": 0
      },
      "text/plain": [
       "HBox(children=(FloatProgress(value=0.0, description='Training', layout=Layout(flex='2'), max=1125.0, style=Pro…"
      ]
     },
     "metadata": {},
     "output_type": "display_data"
    },
    {
     "name": "stdout",
     "output_type": "stream",
     "text": [
      "Epoch 383: train=1.09134, val=1.02404, took 36.941 s\n"
     ]
    },
    {
     "data": {
      "application/vnd.jupyter.widget-view+json": {
       "model_id": "",
       "version_major": 2,
       "version_minor": 0
      },
      "text/plain": [
       "HBox(children=(FloatProgress(value=0.0, description='Training', layout=Layout(flex='2'), max=1125.0, style=Pro…"
      ]
     },
     "metadata": {},
     "output_type": "display_data"
    },
    {
     "name": "stdout",
     "output_type": "stream",
     "text": [
      "Epoch 384: train=1.15225, val=1.16745, took 36.991 s\n"
     ]
    },
    {
     "data": {
      "application/vnd.jupyter.widget-view+json": {
       "model_id": "",
       "version_major": 2,
       "version_minor": 0
      },
      "text/plain": [
       "HBox(children=(FloatProgress(value=0.0, description='Training', layout=Layout(flex='2'), max=1125.0, style=Pro…"
      ]
     },
     "metadata": {},
     "output_type": "display_data"
    },
    {
     "name": "stdout",
     "output_type": "stream",
     "text": [
      "Epoch 385: train=1.09076, val=1.04834, took 36.979 s\n"
     ]
    },
    {
     "data": {
      "application/vnd.jupyter.widget-view+json": {
       "model_id": "",
       "version_major": 2,
       "version_minor": 0
      },
      "text/plain": [
       "HBox(children=(FloatProgress(value=0.0, description='Training', layout=Layout(flex='2'), max=1125.0, style=Pro…"
      ]
     },
     "metadata": {},
     "output_type": "display_data"
    },
    {
     "name": "stdout",
     "output_type": "stream",
     "text": [
      "Epoch 386: train=1.09676, val=1.03072, took 37.094 s\n"
     ]
    },
    {
     "data": {
      "application/vnd.jupyter.widget-view+json": {
       "model_id": "",
       "version_major": 2,
       "version_minor": 0
      },
      "text/plain": [
       "HBox(children=(FloatProgress(value=0.0, description='Training', layout=Layout(flex='2'), max=1125.0, style=Pro…"
      ]
     },
     "metadata": {},
     "output_type": "display_data"
    },
    {
     "name": "stdout",
     "output_type": "stream",
     "text": [
      "Epoch 387: train=1.08562, val=1.05993, took 37.036 s\n"
     ]
    },
    {
     "data": {
      "application/vnd.jupyter.widget-view+json": {
       "model_id": "",
       "version_major": 2,
       "version_minor": 0
      },
      "text/plain": [
       "HBox(children=(FloatProgress(value=0.0, description='Training', layout=Layout(flex='2'), max=1125.0, style=Pro…"
      ]
     },
     "metadata": {},
     "output_type": "display_data"
    },
    {
     "name": "stdout",
     "output_type": "stream",
     "text": [
      "Epoch 388: train=1.09324, val=1.0312, took 36.937 s\n"
     ]
    },
    {
     "data": {
      "application/vnd.jupyter.widget-view+json": {
       "model_id": "",
       "version_major": 2,
       "version_minor": 0
      },
      "text/plain": [
       "HBox(children=(FloatProgress(value=0.0, description='Training', layout=Layout(flex='2'), max=1125.0, style=Pro…"
      ]
     },
     "metadata": {},
     "output_type": "display_data"
    },
    {
     "name": "stdout",
     "output_type": "stream",
     "text": [
      "Epoch 389: train=1.10025, val=1.02005, took 36.968 s\n"
     ]
    },
    {
     "data": {
      "application/vnd.jupyter.widget-view+json": {
       "model_id": "",
       "version_major": 2,
       "version_minor": 0
      },
      "text/plain": [
       "HBox(children=(FloatProgress(value=0.0, description='Training', layout=Layout(flex='2'), max=1125.0, style=Pro…"
      ]
     },
     "metadata": {},
     "output_type": "display_data"
    },
    {
     "name": "stdout",
     "output_type": "stream",
     "text": [
      "Epoch 390: train=1.09535, val=1.08008, took 36.935 s\n"
     ]
    },
    {
     "data": {
      "application/vnd.jupyter.widget-view+json": {
       "model_id": "",
       "version_major": 2,
       "version_minor": 0
      },
      "text/plain": [
       "HBox(children=(FloatProgress(value=0.0, description='Training', layout=Layout(flex='2'), max=1125.0, style=Pro…"
      ]
     },
     "metadata": {},
     "output_type": "display_data"
    },
    {
     "name": "stdout",
     "output_type": "stream",
     "text": [
      "Epoch 391: train=1.09131, val=1.0995, took 36.873 s\n"
     ]
    },
    {
     "data": {
      "application/vnd.jupyter.widget-view+json": {
       "model_id": "",
       "version_major": 2,
       "version_minor": 0
      },
      "text/plain": [
       "HBox(children=(FloatProgress(value=0.0, description='Training', layout=Layout(flex='2'), max=1125.0, style=Pro…"
      ]
     },
     "metadata": {},
     "output_type": "display_data"
    },
    {
     "name": "stdout",
     "output_type": "stream",
     "text": [
      "Epoch 392: train=1.09978, val=1.01975, took 36.934 s\n"
     ]
    },
    {
     "data": {
      "application/vnd.jupyter.widget-view+json": {
       "model_id": "",
       "version_major": 2,
       "version_minor": 0
      },
      "text/plain": [
       "HBox(children=(FloatProgress(value=0.0, description='Training', layout=Layout(flex='2'), max=1125.0, style=Pro…"
      ]
     },
     "metadata": {},
     "output_type": "display_data"
    },
    {
     "name": "stdout",
     "output_type": "stream",
     "text": [
      "Epoch 393: train=1.09314, val=1.02941, took 36.878 s\n"
     ]
    },
    {
     "data": {
      "application/vnd.jupyter.widget-view+json": {
       "model_id": "",
       "version_major": 2,
       "version_minor": 0
      },
      "text/plain": [
       "HBox(children=(FloatProgress(value=0.0, description='Training', layout=Layout(flex='2'), max=1125.0, style=Pro…"
      ]
     },
     "metadata": {},
     "output_type": "display_data"
    },
    {
     "name": "stdout",
     "output_type": "stream",
     "text": [
      "Epoch 394: train=1.0965, val=1.07593, took 36.988 s\n"
     ]
    },
    {
     "data": {
      "application/vnd.jupyter.widget-view+json": {
       "model_id": "",
       "version_major": 2,
       "version_minor": 0
      },
      "text/plain": [
       "HBox(children=(FloatProgress(value=0.0, description='Training', layout=Layout(flex='2'), max=1125.0, style=Pro…"
      ]
     },
     "metadata": {},
     "output_type": "display_data"
    },
    {
     "name": "stdout",
     "output_type": "stream",
     "text": [
      "Epoch 395: train=1.10235, val=1.01529, took 36.945 s\n"
     ]
    },
    {
     "data": {
      "application/vnd.jupyter.widget-view+json": {
       "model_id": "",
       "version_major": 2,
       "version_minor": 0
      },
      "text/plain": [
       "HBox(children=(FloatProgress(value=0.0, description='Training', layout=Layout(flex='2'), max=1125.0, style=Pro…"
      ]
     },
     "metadata": {},
     "output_type": "display_data"
    },
    {
     "name": "stdout",
     "output_type": "stream",
     "text": [
      "Epoch 396: train=1.08993, val=1.01163, took 36.975 s\n"
     ]
    },
    {
     "data": {
      "application/vnd.jupyter.widget-view+json": {
       "model_id": "",
       "version_major": 2,
       "version_minor": 0
      },
      "text/plain": [
       "HBox(children=(FloatProgress(value=0.0, description='Training', layout=Layout(flex='2'), max=1125.0, style=Pro…"
      ]
     },
     "metadata": {},
     "output_type": "display_data"
    },
    {
     "name": "stdout",
     "output_type": "stream",
     "text": [
      "Epoch 397: train=1.08189, val=1.02977, took 37.101 s\n"
     ]
    },
    {
     "data": {
      "application/vnd.jupyter.widget-view+json": {
       "model_id": "",
       "version_major": 2,
       "version_minor": 0
      },
      "text/plain": [
       "HBox(children=(FloatProgress(value=0.0, description='Training', layout=Layout(flex='2'), max=1125.0, style=Pro…"
      ]
     },
     "metadata": {},
     "output_type": "display_data"
    },
    {
     "name": "stdout",
     "output_type": "stream",
     "text": [
      "Epoch 398: train=1.08709, val=1.05549, took 37.021 s\n"
     ]
    },
    {
     "data": {
      "application/vnd.jupyter.widget-view+json": {
       "model_id": "",
       "version_major": 2,
       "version_minor": 0
      },
      "text/plain": [
       "HBox(children=(FloatProgress(value=0.0, description='Training', layout=Layout(flex='2'), max=1125.0, style=Pro…"
      ]
     },
     "metadata": {},
     "output_type": "display_data"
    },
    {
     "name": "stdout",
     "output_type": "stream",
     "text": [
      "Epoch 399: train=1.08974, val=1.05215, took 36.855 s\n"
     ]
    },
    {
     "data": {
      "application/vnd.jupyter.widget-view+json": {
       "model_id": "",
       "version_major": 2,
       "version_minor": 0
      },
      "text/plain": [
       "HBox(children=(FloatProgress(value=0.0, description='Training', layout=Layout(flex='2'), max=1125.0, style=Pro…"
      ]
     },
     "metadata": {},
     "output_type": "display_data"
    },
    {
     "name": "stdout",
     "output_type": "stream",
     "text": [
      "Epoch 400: train=1.08293, val=1.02235, took 36.978 s\n"
     ]
    },
    {
     "data": {
      "application/vnd.jupyter.widget-view+json": {
       "model_id": "",
       "version_major": 2,
       "version_minor": 0
      },
      "text/plain": [
       "HBox(children=(FloatProgress(value=0.0, description='Training', layout=Layout(flex='2'), max=1125.0, style=Pro…"
      ]
     },
     "metadata": {},
     "output_type": "display_data"
    },
    {
     "name": "stdout",
     "output_type": "stream",
     "text": [
      "Epoch 401: train=1.08607, val=1.08336, took 36.977 s\n"
     ]
    },
    {
     "data": {
      "application/vnd.jupyter.widget-view+json": {
       "model_id": "",
       "version_major": 2,
       "version_minor": 0
      },
      "text/plain": [
       "HBox(children=(FloatProgress(value=0.0, description='Training', layout=Layout(flex='2'), max=1125.0, style=Pro…"
      ]
     },
     "metadata": {},
     "output_type": "display_data"
    },
    {
     "name": "stdout",
     "output_type": "stream",
     "text": [
      "Epoch 402: train=1.08427, val=1.06106, took 36.884 s\n"
     ]
    },
    {
     "data": {
      "application/vnd.jupyter.widget-view+json": {
       "model_id": "",
       "version_major": 2,
       "version_minor": 0
      },
      "text/plain": [
       "HBox(children=(FloatProgress(value=0.0, description='Training', layout=Layout(flex='2'), max=1125.0, style=Pro…"
      ]
     },
     "metadata": {},
     "output_type": "display_data"
    },
    {
     "name": "stdout",
     "output_type": "stream",
     "text": [
      "Epoch 403: train=1.09673, val=1.02534, took 37.005 s\n"
     ]
    },
    {
     "data": {
      "application/vnd.jupyter.widget-view+json": {
       "model_id": "",
       "version_major": 2,
       "version_minor": 0
      },
      "text/plain": [
       "HBox(children=(FloatProgress(value=0.0, description='Training', layout=Layout(flex='2'), max=1125.0, style=Pro…"
      ]
     },
     "metadata": {},
     "output_type": "display_data"
    },
    {
     "name": "stdout",
     "output_type": "stream",
     "text": [
      "Epoch 404: train=1.10993, val=1.04083, took 36.849 s\n"
     ]
    },
    {
     "data": {
      "application/vnd.jupyter.widget-view+json": {
       "model_id": "",
       "version_major": 2,
       "version_minor": 0
      },
      "text/plain": [
       "HBox(children=(FloatProgress(value=0.0, description='Training', layout=Layout(flex='2'), max=1125.0, style=Pro…"
      ]
     },
     "metadata": {},
     "output_type": "display_data"
    },
    {
     "name": "stdout",
     "output_type": "stream",
     "text": [
      "Epoch 405: train=1.08498, val=1.0537, took 36.914 s\n"
     ]
    },
    {
     "data": {
      "application/vnd.jupyter.widget-view+json": {
       "model_id": "",
       "version_major": 2,
       "version_minor": 0
      },
      "text/plain": [
       "HBox(children=(FloatProgress(value=0.0, description='Training', layout=Layout(flex='2'), max=1125.0, style=Pro…"
      ]
     },
     "metadata": {},
     "output_type": "display_data"
    },
    {
     "name": "stdout",
     "output_type": "stream",
     "text": [
      "Epoch 406: train=1.09269, val=1.1001, took 37.024 s\n"
     ]
    },
    {
     "data": {
      "application/vnd.jupyter.widget-view+json": {
       "model_id": "",
       "version_major": 2,
       "version_minor": 0
      },
      "text/plain": [
       "HBox(children=(FloatProgress(value=0.0, description='Training', layout=Layout(flex='2'), max=1125.0, style=Pro…"
      ]
     },
     "metadata": {},
     "output_type": "display_data"
    },
    {
     "name": "stdout",
     "output_type": "stream",
     "text": [
      "Epoch 407: train=1.08705, val=1.04406, took 36.913 s\n"
     ]
    },
    {
     "data": {
      "application/vnd.jupyter.widget-view+json": {
       "model_id": "",
       "version_major": 2,
       "version_minor": 0
      },
      "text/plain": [
       "HBox(children=(FloatProgress(value=0.0, description='Training', layout=Layout(flex='2'), max=1125.0, style=Pro…"
      ]
     },
     "metadata": {},
     "output_type": "display_data"
    },
    {
     "name": "stdout",
     "output_type": "stream",
     "text": [
      "Epoch 408: train=1.10916, val=1.02335, took 36.868 s\n"
     ]
    },
    {
     "data": {
      "application/vnd.jupyter.widget-view+json": {
       "model_id": "",
       "version_major": 2,
       "version_minor": 0
      },
      "text/plain": [
       "HBox(children=(FloatProgress(value=0.0, description='Training', layout=Layout(flex='2'), max=1125.0, style=Pro…"
      ]
     },
     "metadata": {},
     "output_type": "display_data"
    },
    {
     "name": "stdout",
     "output_type": "stream",
     "text": [
      "Epoch 409: train=1.0932, val=1.01749, took 36.887 s\n"
     ]
    },
    {
     "data": {
      "application/vnd.jupyter.widget-view+json": {
       "model_id": "",
       "version_major": 2,
       "version_minor": 0
      },
      "text/plain": [
       "HBox(children=(FloatProgress(value=0.0, description='Training', layout=Layout(flex='2'), max=1125.0, style=Pro…"
      ]
     },
     "metadata": {},
     "output_type": "display_data"
    },
    {
     "name": "stdout",
     "output_type": "stream",
     "text": [
      "Epoch 410: train=1.09446, val=1.03996, took 37.023 s\n"
     ]
    },
    {
     "data": {
      "application/vnd.jupyter.widget-view+json": {
       "model_id": "",
       "version_major": 2,
       "version_minor": 0
      },
      "text/plain": [
       "HBox(children=(FloatProgress(value=0.0, description='Training', layout=Layout(flex='2'), max=1125.0, style=Pro…"
      ]
     },
     "metadata": {},
     "output_type": "display_data"
    },
    {
     "name": "stdout",
     "output_type": "stream",
     "text": [
      "Epoch 411: train=1.08725, val=1.07932, took 36.955 s\n"
     ]
    },
    {
     "data": {
      "application/vnd.jupyter.widget-view+json": {
       "model_id": "",
       "version_major": 2,
       "version_minor": 0
      },
      "text/plain": [
       "HBox(children=(FloatProgress(value=0.0, description='Training', layout=Layout(flex='2'), max=1125.0, style=Pro…"
      ]
     },
     "metadata": {},
     "output_type": "display_data"
    },
    {
     "name": "stdout",
     "output_type": "stream",
     "text": [
      "Epoch 412: train=1.08971, val=1.01765, took 36.89 s\n"
     ]
    },
    {
     "data": {
      "application/vnd.jupyter.widget-view+json": {
       "model_id": "",
       "version_major": 2,
       "version_minor": 0
      },
      "text/plain": [
       "HBox(children=(FloatProgress(value=0.0, description='Training', layout=Layout(flex='2'), max=1125.0, style=Pro…"
      ]
     },
     "metadata": {},
     "output_type": "display_data"
    },
    {
     "name": "stdout",
     "output_type": "stream",
     "text": [
      "Epoch 413: train=1.08166, val=1.04597, took 36.82 s\n"
     ]
    },
    {
     "data": {
      "application/vnd.jupyter.widget-view+json": {
       "model_id": "",
       "version_major": 2,
       "version_minor": 0
      },
      "text/plain": [
       "HBox(children=(FloatProgress(value=0.0, description='Training', layout=Layout(flex='2'), max=1125.0, style=Pro…"
      ]
     },
     "metadata": {},
     "output_type": "display_data"
    },
    {
     "name": "stdout",
     "output_type": "stream",
     "text": [
      "Epoch 414: train=1.09588, val=1.03968, took 36.844 s\n"
     ]
    },
    {
     "data": {
      "application/vnd.jupyter.widget-view+json": {
       "model_id": "",
       "version_major": 2,
       "version_minor": 0
      },
      "text/plain": [
       "HBox(children=(FloatProgress(value=0.0, description='Training', layout=Layout(flex='2'), max=1125.0, style=Pro…"
      ]
     },
     "metadata": {},
     "output_type": "display_data"
    },
    {
     "name": "stdout",
     "output_type": "stream",
     "text": [
      "Epoch 415: train=1.10815, val=1.02331, took 36.815 s\n"
     ]
    },
    {
     "data": {
      "application/vnd.jupyter.widget-view+json": {
       "model_id": "",
       "version_major": 2,
       "version_minor": 0
      },
      "text/plain": [
       "HBox(children=(FloatProgress(value=0.0, description='Training', layout=Layout(flex='2'), max=1125.0, style=Pro…"
      ]
     },
     "metadata": {},
     "output_type": "display_data"
    },
    {
     "name": "stdout",
     "output_type": "stream",
     "text": [
      "Epoch 416: train=1.07723, val=1.06467, took 37.025 s\n"
     ]
    },
    {
     "data": {
      "application/vnd.jupyter.widget-view+json": {
       "model_id": "",
       "version_major": 2,
       "version_minor": 0
      },
      "text/plain": [
       "HBox(children=(FloatProgress(value=0.0, description='Training', layout=Layout(flex='2'), max=1125.0, style=Pro…"
      ]
     },
     "metadata": {},
     "output_type": "display_data"
    },
    {
     "name": "stdout",
     "output_type": "stream",
     "text": [
      "Epoch 417: train=1.08906, val=1.02208, took 37.01 s\n"
     ]
    },
    {
     "data": {
      "application/vnd.jupyter.widget-view+json": {
       "model_id": "",
       "version_major": 2,
       "version_minor": 0
      },
      "text/plain": [
       "HBox(children=(FloatProgress(value=0.0, description='Training', layout=Layout(flex='2'), max=1125.0, style=Pro…"
      ]
     },
     "metadata": {},
     "output_type": "display_data"
    },
    {
     "name": "stdout",
     "output_type": "stream",
     "text": [
      "Epoch 418: train=1.09229, val=1.03284, took 36.872 s\n"
     ]
    },
    {
     "data": {
      "application/vnd.jupyter.widget-view+json": {
       "model_id": "",
       "version_major": 2,
       "version_minor": 0
      },
      "text/plain": [
       "HBox(children=(FloatProgress(value=0.0, description='Training', layout=Layout(flex='2'), max=1125.0, style=Pro…"
      ]
     },
     "metadata": {},
     "output_type": "display_data"
    },
    {
     "name": "stdout",
     "output_type": "stream",
     "text": [
      "Epoch 419: train=1.10171, val=1.04181, took 37.082 s\n"
     ]
    },
    {
     "data": {
      "application/vnd.jupyter.widget-view+json": {
       "model_id": "",
       "version_major": 2,
       "version_minor": 0
      },
      "text/plain": [
       "HBox(children=(FloatProgress(value=0.0, description='Training', layout=Layout(flex='2'), max=1125.0, style=Pro…"
      ]
     },
     "metadata": {},
     "output_type": "display_data"
    },
    {
     "name": "stdout",
     "output_type": "stream",
     "text": [
      "Epoch 420: train=1.09063, val=1.13389, took 36.898 s\n"
     ]
    },
    {
     "data": {
      "application/vnd.jupyter.widget-view+json": {
       "model_id": "",
       "version_major": 2,
       "version_minor": 0
      },
      "text/plain": [
       "HBox(children=(FloatProgress(value=0.0, description='Training', layout=Layout(flex='2'), max=1125.0, style=Pro…"
      ]
     },
     "metadata": {},
     "output_type": "display_data"
    },
    {
     "name": "stdout",
     "output_type": "stream",
     "text": [
      "Epoch 421: train=1.10198, val=1.11839, took 37.089 s\n"
     ]
    },
    {
     "data": {
      "application/vnd.jupyter.widget-view+json": {
       "model_id": "",
       "version_major": 2,
       "version_minor": 0
      },
      "text/plain": [
       "HBox(children=(FloatProgress(value=0.0, description='Training', layout=Layout(flex='2'), max=1125.0, style=Pro…"
      ]
     },
     "metadata": {},
     "output_type": "display_data"
    },
    {
     "name": "stdout",
     "output_type": "stream",
     "text": [
      "Epoch 422: train=1.08049, val=1.01765, took 36.887 s\n"
     ]
    },
    {
     "data": {
      "application/vnd.jupyter.widget-view+json": {
       "model_id": "",
       "version_major": 2,
       "version_minor": 0
      },
      "text/plain": [
       "HBox(children=(FloatProgress(value=0.0, description='Training', layout=Layout(flex='2'), max=1125.0, style=Pro…"
      ]
     },
     "metadata": {},
     "output_type": "display_data"
    },
    {
     "name": "stdout",
     "output_type": "stream",
     "text": [
      "Epoch 423: train=1.08303, val=1.01475, took 36.981 s\n"
     ]
    },
    {
     "data": {
      "application/vnd.jupyter.widget-view+json": {
       "model_id": "",
       "version_major": 2,
       "version_minor": 0
      },
      "text/plain": [
       "HBox(children=(FloatProgress(value=0.0, description='Training', layout=Layout(flex='2'), max=1125.0, style=Pro…"
      ]
     },
     "metadata": {},
     "output_type": "display_data"
    },
    {
     "name": "stdout",
     "output_type": "stream",
     "text": [
      "Epoch 424: train=1.09295, val=1.02067, took 37.002 s\n"
     ]
    },
    {
     "data": {
      "application/vnd.jupyter.widget-view+json": {
       "model_id": "",
       "version_major": 2,
       "version_minor": 0
      },
      "text/plain": [
       "HBox(children=(FloatProgress(value=0.0, description='Training', layout=Layout(flex='2'), max=1125.0, style=Pro…"
      ]
     },
     "metadata": {},
     "output_type": "display_data"
    },
    {
     "name": "stdout",
     "output_type": "stream",
     "text": [
      "Epoch 425: train=1.08475, val=1.05359, took 37.03 s\n"
     ]
    },
    {
     "data": {
      "application/vnd.jupyter.widget-view+json": {
       "model_id": "",
       "version_major": 2,
       "version_minor": 0
      },
      "text/plain": [
       "HBox(children=(FloatProgress(value=0.0, description='Training', layout=Layout(flex='2'), max=1125.0, style=Pro…"
      ]
     },
     "metadata": {},
     "output_type": "display_data"
    },
    {
     "name": "stdout",
     "output_type": "stream",
     "text": [
      "Epoch 426: train=1.09111, val=1.07697, took 36.891 s\n"
     ]
    },
    {
     "data": {
      "application/vnd.jupyter.widget-view+json": {
       "model_id": "",
       "version_major": 2,
       "version_minor": 0
      },
      "text/plain": [
       "HBox(children=(FloatProgress(value=0.0, description='Training', layout=Layout(flex='2'), max=1125.0, style=Pro…"
      ]
     },
     "metadata": {},
     "output_type": "display_data"
    },
    {
     "name": "stdout",
     "output_type": "stream",
     "text": [
      "Epoch 427: train=1.08854, val=1.23525, took 36.841 s\n"
     ]
    },
    {
     "data": {
      "application/vnd.jupyter.widget-view+json": {
       "model_id": "",
       "version_major": 2,
       "version_minor": 0
      },
      "text/plain": [
       "HBox(children=(FloatProgress(value=0.0, description='Training', layout=Layout(flex='2'), max=1125.0, style=Pro…"
      ]
     },
     "metadata": {},
     "output_type": "display_data"
    },
    {
     "name": "stdout",
     "output_type": "stream",
     "text": [
      "Epoch 428: train=1.09834, val=1.07946, took 37.035 s\n"
     ]
    },
    {
     "data": {
      "application/vnd.jupyter.widget-view+json": {
       "model_id": "",
       "version_major": 2,
       "version_minor": 0
      },
      "text/plain": [
       "HBox(children=(FloatProgress(value=0.0, description='Training', layout=Layout(flex='2'), max=1125.0, style=Pro…"
      ]
     },
     "metadata": {},
     "output_type": "display_data"
    },
    {
     "name": "stdout",
     "output_type": "stream",
     "text": [
      "Epoch 429: train=1.10147, val=1.03258, took 37.045 s\n"
     ]
    },
    {
     "data": {
      "application/vnd.jupyter.widget-view+json": {
       "model_id": "",
       "version_major": 2,
       "version_minor": 0
      },
      "text/plain": [
       "HBox(children=(FloatProgress(value=0.0, description='Training', layout=Layout(flex='2'), max=1125.0, style=Pro…"
      ]
     },
     "metadata": {},
     "output_type": "display_data"
    },
    {
     "name": "stdout",
     "output_type": "stream",
     "text": [
      "Epoch 430: train=1.08075, val=1.02233, took 36.939 s\n"
     ]
    },
    {
     "data": {
      "application/vnd.jupyter.widget-view+json": {
       "model_id": "",
       "version_major": 2,
       "version_minor": 0
      },
      "text/plain": [
       "HBox(children=(FloatProgress(value=0.0, description='Training', layout=Layout(flex='2'), max=1125.0, style=Pro…"
      ]
     },
     "metadata": {},
     "output_type": "display_data"
    },
    {
     "name": "stdout",
     "output_type": "stream",
     "text": [
      "Epoch 431: train=1.09749, val=1.06311, took 37.019 s\n"
     ]
    },
    {
     "data": {
      "application/vnd.jupyter.widget-view+json": {
       "model_id": "",
       "version_major": 2,
       "version_minor": 0
      },
      "text/plain": [
       "HBox(children=(FloatProgress(value=0.0, description='Training', layout=Layout(flex='2'), max=1125.0, style=Pro…"
      ]
     },
     "metadata": {},
     "output_type": "display_data"
    },
    {
     "name": "stdout",
     "output_type": "stream",
     "text": [
      "Epoch 432: train=1.08666, val=1.05533, took 36.859 s\n"
     ]
    },
    {
     "data": {
      "application/vnd.jupyter.widget-view+json": {
       "model_id": "",
       "version_major": 2,
       "version_minor": 0
      },
      "text/plain": [
       "HBox(children=(FloatProgress(value=0.0, description='Training', layout=Layout(flex='2'), max=1125.0, style=Pro…"
      ]
     },
     "metadata": {},
     "output_type": "display_data"
    },
    {
     "name": "stdout",
     "output_type": "stream",
     "text": [
      "Epoch 433: train=1.09101, val=1.02945, took 36.913 s\n"
     ]
    },
    {
     "data": {
      "application/vnd.jupyter.widget-view+json": {
       "model_id": "",
       "version_major": 2,
       "version_minor": 0
      },
      "text/plain": [
       "HBox(children=(FloatProgress(value=0.0, description='Training', layout=Layout(flex='2'), max=1125.0, style=Pro…"
      ]
     },
     "metadata": {},
     "output_type": "display_data"
    },
    {
     "name": "stdout",
     "output_type": "stream",
     "text": [
      "Epoch 434: train=1.08284, val=1.02043, took 36.895 s\n"
     ]
    },
    {
     "data": {
      "application/vnd.jupyter.widget-view+json": {
       "model_id": "",
       "version_major": 2,
       "version_minor": 0
      },
      "text/plain": [
       "HBox(children=(FloatProgress(value=0.0, description='Training', layout=Layout(flex='2'), max=1125.0, style=Pro…"
      ]
     },
     "metadata": {},
     "output_type": "display_data"
    },
    {
     "name": "stdout",
     "output_type": "stream",
     "text": [
      "Epoch 435: train=1.08874, val=1.01893, took 36.863 s\n"
     ]
    },
    {
     "data": {
      "application/vnd.jupyter.widget-view+json": {
       "model_id": "",
       "version_major": 2,
       "version_minor": 0
      },
      "text/plain": [
       "HBox(children=(FloatProgress(value=0.0, description='Training', layout=Layout(flex='2'), max=1125.0, style=Pro…"
      ]
     },
     "metadata": {},
     "output_type": "display_data"
    },
    {
     "name": "stdout",
     "output_type": "stream",
     "text": [
      "Epoch 436: train=1.07438, val=1.02244, took 37.177 s\n"
     ]
    },
    {
     "data": {
      "application/vnd.jupyter.widget-view+json": {
       "model_id": "",
       "version_major": 2,
       "version_minor": 0
      },
      "text/plain": [
       "HBox(children=(FloatProgress(value=0.0, description='Training', layout=Layout(flex='2'), max=1125.0, style=Pro…"
      ]
     },
     "metadata": {},
     "output_type": "display_data"
    },
    {
     "name": "stdout",
     "output_type": "stream",
     "text": [
      "Epoch 437: train=1.08287, val=1.06662, took 36.959 s\n"
     ]
    },
    {
     "data": {
      "application/vnd.jupyter.widget-view+json": {
       "model_id": "",
       "version_major": 2,
       "version_minor": 0
      },
      "text/plain": [
       "HBox(children=(FloatProgress(value=0.0, description='Training', layout=Layout(flex='2'), max=1125.0, style=Pro…"
      ]
     },
     "metadata": {},
     "output_type": "display_data"
    },
    {
     "name": "stdout",
     "output_type": "stream",
     "text": [
      "Epoch 438: train=1.08514, val=1.01384, took 36.898 s\n"
     ]
    },
    {
     "data": {
      "application/vnd.jupyter.widget-view+json": {
       "model_id": "",
       "version_major": 2,
       "version_minor": 0
      },
      "text/plain": [
       "HBox(children=(FloatProgress(value=0.0, description='Training', layout=Layout(flex='2'), max=1125.0, style=Pro…"
      ]
     },
     "metadata": {},
     "output_type": "display_data"
    },
    {
     "name": "stdout",
     "output_type": "stream",
     "text": [
      "Epoch 439: train=1.07994, val=1.01179, took 36.931 s\n"
     ]
    },
    {
     "data": {
      "application/vnd.jupyter.widget-view+json": {
       "model_id": "",
       "version_major": 2,
       "version_minor": 0
      },
      "text/plain": [
       "HBox(children=(FloatProgress(value=0.0, description='Training', layout=Layout(flex='2'), max=1125.0, style=Pro…"
      ]
     },
     "metadata": {},
     "output_type": "display_data"
    },
    {
     "name": "stdout",
     "output_type": "stream",
     "text": [
      "Epoch 440: train=1.08255, val=1.10098, took 36.809 s\n"
     ]
    },
    {
     "data": {
      "application/vnd.jupyter.widget-view+json": {
       "model_id": "",
       "version_major": 2,
       "version_minor": 0
      },
      "text/plain": [
       "HBox(children=(FloatProgress(value=0.0, description='Training', layout=Layout(flex='2'), max=1125.0, style=Pro…"
      ]
     },
     "metadata": {},
     "output_type": "display_data"
    },
    {
     "name": "stdout",
     "output_type": "stream",
     "text": [
      "Epoch 441: train=1.09551, val=1.06612, took 36.814 s\n"
     ]
    },
    {
     "data": {
      "application/vnd.jupyter.widget-view+json": {
       "model_id": "",
       "version_major": 2,
       "version_minor": 0
      },
      "text/plain": [
       "HBox(children=(FloatProgress(value=0.0, description='Training', layout=Layout(flex='2'), max=1125.0, style=Pro…"
      ]
     },
     "metadata": {},
     "output_type": "display_data"
    },
    {
     "name": "stdout",
     "output_type": "stream",
     "text": [
      "Epoch 442: train=1.09649, val=1.0699, took 36.922 s\n"
     ]
    },
    {
     "data": {
      "application/vnd.jupyter.widget-view+json": {
       "model_id": "",
       "version_major": 2,
       "version_minor": 0
      },
      "text/plain": [
       "HBox(children=(FloatProgress(value=0.0, description='Training', layout=Layout(flex='2'), max=1125.0, style=Pro…"
      ]
     },
     "metadata": {},
     "output_type": "display_data"
    },
    {
     "name": "stdout",
     "output_type": "stream",
     "text": [
      "Epoch 443: train=1.07932, val=1.04385, took 36.858 s\n"
     ]
    },
    {
     "data": {
      "application/vnd.jupyter.widget-view+json": {
       "model_id": "",
       "version_major": 2,
       "version_minor": 0
      },
      "text/plain": [
       "HBox(children=(FloatProgress(value=0.0, description='Training', layout=Layout(flex='2'), max=1125.0, style=Pro…"
      ]
     },
     "metadata": {},
     "output_type": "display_data"
    },
    {
     "name": "stdout",
     "output_type": "stream",
     "text": [
      "Epoch 444: train=1.09213, val=1.09909, took 36.967 s\n"
     ]
    },
    {
     "data": {
      "application/vnd.jupyter.widget-view+json": {
       "model_id": "",
       "version_major": 2,
       "version_minor": 0
      },
      "text/plain": [
       "HBox(children=(FloatProgress(value=0.0, description='Training', layout=Layout(flex='2'), max=1125.0, style=Pro…"
      ]
     },
     "metadata": {},
     "output_type": "display_data"
    },
    {
     "name": "stdout",
     "output_type": "stream",
     "text": [
      "Epoch 445: train=1.08077, val=1.01057, took 36.934 s\n"
     ]
    },
    {
     "data": {
      "application/vnd.jupyter.widget-view+json": {
       "model_id": "",
       "version_major": 2,
       "version_minor": 0
      },
      "text/plain": [
       "HBox(children=(FloatProgress(value=0.0, description='Training', layout=Layout(flex='2'), max=1125.0, style=Pro…"
      ]
     },
     "metadata": {},
     "output_type": "display_data"
    },
    {
     "name": "stdout",
     "output_type": "stream",
     "text": [
      "Epoch 446: train=1.08645, val=1.0309, took 37.261 s\n"
     ]
    },
    {
     "data": {
      "application/vnd.jupyter.widget-view+json": {
       "model_id": "",
       "version_major": 2,
       "version_minor": 0
      },
      "text/plain": [
       "HBox(children=(FloatProgress(value=0.0, description='Training', layout=Layout(flex='2'), max=1125.0, style=Pro…"
      ]
     },
     "metadata": {},
     "output_type": "display_data"
    },
    {
     "name": "stdout",
     "output_type": "stream",
     "text": [
      "Epoch 447: train=1.08455, val=1.02165, took 36.9 s\n"
     ]
    },
    {
     "data": {
      "application/vnd.jupyter.widget-view+json": {
       "model_id": "",
       "version_major": 2,
       "version_minor": 0
      },
      "text/plain": [
       "HBox(children=(FloatProgress(value=0.0, description='Training', layout=Layout(flex='2'), max=1125.0, style=Pro…"
      ]
     },
     "metadata": {},
     "output_type": "display_data"
    },
    {
     "name": "stdout",
     "output_type": "stream",
     "text": [
      "Epoch 448: train=1.08172, val=1.0124, took 36.836 s\n"
     ]
    },
    {
     "data": {
      "application/vnd.jupyter.widget-view+json": {
       "model_id": "",
       "version_major": 2,
       "version_minor": 0
      },
      "text/plain": [
       "HBox(children=(FloatProgress(value=0.0, description='Training', layout=Layout(flex='2'), max=1125.0, style=Pro…"
      ]
     },
     "metadata": {},
     "output_type": "display_data"
    },
    {
     "name": "stdout",
     "output_type": "stream",
     "text": [
      "Epoch 449: train=1.08587, val=1.02127, took 36.932 s\n"
     ]
    },
    {
     "data": {
      "application/vnd.jupyter.widget-view+json": {
       "model_id": "",
       "version_major": 2,
       "version_minor": 0
      },
      "text/plain": [
       "HBox(children=(FloatProgress(value=0.0, description='Training', layout=Layout(flex='2'), max=1125.0, style=Pro…"
      ]
     },
     "metadata": {},
     "output_type": "display_data"
    },
    {
     "name": "stdout",
     "output_type": "stream",
     "text": [
      "Epoch 450: train=1.08098, val=1.01174, took 36.993 s\n"
     ]
    },
    {
     "data": {
      "application/vnd.jupyter.widget-view+json": {
       "model_id": "",
       "version_major": 2,
       "version_minor": 0
      },
      "text/plain": [
       "HBox(children=(FloatProgress(value=0.0, description='Training', layout=Layout(flex='2'), max=1125.0, style=Pro…"
      ]
     },
     "metadata": {},
     "output_type": "display_data"
    },
    {
     "name": "stdout",
     "output_type": "stream",
     "text": [
      "Epoch 451: train=1.09025, val=1.17729, took 36.785 s\n"
     ]
    },
    {
     "data": {
      "application/vnd.jupyter.widget-view+json": {
       "model_id": "",
       "version_major": 2,
       "version_minor": 0
      },
      "text/plain": [
       "HBox(children=(FloatProgress(value=0.0, description='Training', layout=Layout(flex='2'), max=1125.0, style=Pro…"
      ]
     },
     "metadata": {},
     "output_type": "display_data"
    },
    {
     "name": "stdout",
     "output_type": "stream",
     "text": [
      "Epoch 452: train=1.09091, val=1.0313, took 37.285 s\n"
     ]
    },
    {
     "data": {
      "application/vnd.jupyter.widget-view+json": {
       "model_id": "",
       "version_major": 2,
       "version_minor": 0
      },
      "text/plain": [
       "HBox(children=(FloatProgress(value=0.0, description='Training', layout=Layout(flex='2'), max=1125.0, style=Pro…"
      ]
     },
     "metadata": {},
     "output_type": "display_data"
    },
    {
     "name": "stdout",
     "output_type": "stream",
     "text": [
      "Epoch 453: train=1.08675, val=1.18141, took 37.129 s\n"
     ]
    },
    {
     "data": {
      "application/vnd.jupyter.widget-view+json": {
       "model_id": "",
       "version_major": 2,
       "version_minor": 0
      },
      "text/plain": [
       "HBox(children=(FloatProgress(value=0.0, description='Training', layout=Layout(flex='2'), max=1125.0, style=Pro…"
      ]
     },
     "metadata": {},
     "output_type": "display_data"
    },
    {
     "name": "stdout",
     "output_type": "stream",
     "text": [
      "Epoch 454: train=1.08651, val=1.03587, took 36.823 s\n"
     ]
    },
    {
     "data": {
      "application/vnd.jupyter.widget-view+json": {
       "model_id": "",
       "version_major": 2,
       "version_minor": 0
      },
      "text/plain": [
       "HBox(children=(FloatProgress(value=0.0, description='Training', layout=Layout(flex='2'), max=1125.0, style=Pro…"
      ]
     },
     "metadata": {},
     "output_type": "display_data"
    },
    {
     "name": "stdout",
     "output_type": "stream",
     "text": [
      "Epoch 455: train=1.07979, val=1.01921, took 36.918 s\n"
     ]
    },
    {
     "data": {
      "application/vnd.jupyter.widget-view+json": {
       "model_id": "",
       "version_major": 2,
       "version_minor": 0
      },
      "text/plain": [
       "HBox(children=(FloatProgress(value=0.0, description='Training', layout=Layout(flex='2'), max=1125.0, style=Pro…"
      ]
     },
     "metadata": {},
     "output_type": "display_data"
    },
    {
     "name": "stdout",
     "output_type": "stream",
     "text": [
      "Epoch 456: train=1.07616, val=1.04129, took 37.085 s\n"
     ]
    },
    {
     "data": {
      "application/vnd.jupyter.widget-view+json": {
       "model_id": "",
       "version_major": 2,
       "version_minor": 0
      },
      "text/plain": [
       "HBox(children=(FloatProgress(value=0.0, description='Training', layout=Layout(flex='2'), max=1125.0, style=Pro…"
      ]
     },
     "metadata": {},
     "output_type": "display_data"
    },
    {
     "name": "stdout",
     "output_type": "stream",
     "text": [
      "Epoch 457: train=1.09347, val=1.04265, took 36.948 s\n"
     ]
    },
    {
     "data": {
      "application/vnd.jupyter.widget-view+json": {
       "model_id": "",
       "version_major": 2,
       "version_minor": 0
      },
      "text/plain": [
       "HBox(children=(FloatProgress(value=0.0, description='Training', layout=Layout(flex='2'), max=1125.0, style=Pro…"
      ]
     },
     "metadata": {},
     "output_type": "display_data"
    },
    {
     "name": "stdout",
     "output_type": "stream",
     "text": [
      "Epoch 458: train=1.09141, val=1.0239, took 36.924 s\n"
     ]
    },
    {
     "data": {
      "application/vnd.jupyter.widget-view+json": {
       "model_id": "",
       "version_major": 2,
       "version_minor": 0
      },
      "text/plain": [
       "HBox(children=(FloatProgress(value=0.0, description='Training', layout=Layout(flex='2'), max=1125.0, style=Pro…"
      ]
     },
     "metadata": {},
     "output_type": "display_data"
    },
    {
     "name": "stdout",
     "output_type": "stream",
     "text": [
      "Epoch 459: train=1.07576, val=1.03942, took 36.831 s\n"
     ]
    },
    {
     "data": {
      "application/vnd.jupyter.widget-view+json": {
       "model_id": "",
       "version_major": 2,
       "version_minor": 0
      },
      "text/plain": [
       "HBox(children=(FloatProgress(value=0.0, description='Training', layout=Layout(flex='2'), max=1125.0, style=Pro…"
      ]
     },
     "metadata": {},
     "output_type": "display_data"
    },
    {
     "name": "stdout",
     "output_type": "stream",
     "text": [
      "Epoch 460: train=1.08551, val=1.05455, took 36.904 s\n"
     ]
    },
    {
     "data": {
      "application/vnd.jupyter.widget-view+json": {
       "model_id": "",
       "version_major": 2,
       "version_minor": 0
      },
      "text/plain": [
       "HBox(children=(FloatProgress(value=0.0, description='Training', layout=Layout(flex='2'), max=1125.0, style=Pro…"
      ]
     },
     "metadata": {},
     "output_type": "display_data"
    },
    {
     "name": "stdout",
     "output_type": "stream",
     "text": [
      "Epoch 461: train=1.07534, val=1.0669, took 36.989 s\n"
     ]
    },
    {
     "data": {
      "application/vnd.jupyter.widget-view+json": {
       "model_id": "",
       "version_major": 2,
       "version_minor": 0
      },
      "text/plain": [
       "HBox(children=(FloatProgress(value=0.0, description='Training', layout=Layout(flex='2'), max=1125.0, style=Pro…"
      ]
     },
     "metadata": {},
     "output_type": "display_data"
    },
    {
     "name": "stdout",
     "output_type": "stream",
     "text": [
      "Epoch 462: train=1.07308, val=1.01438, took 37.099 s\n"
     ]
    },
    {
     "data": {
      "application/vnd.jupyter.widget-view+json": {
       "model_id": "",
       "version_major": 2,
       "version_minor": 0
      },
      "text/plain": [
       "HBox(children=(FloatProgress(value=0.0, description='Training', layout=Layout(flex='2'), max=1125.0, style=Pro…"
      ]
     },
     "metadata": {},
     "output_type": "display_data"
    },
    {
     "name": "stdout",
     "output_type": "stream",
     "text": [
      "Epoch 463: train=1.08348, val=1.02929, took 36.879 s\n"
     ]
    },
    {
     "data": {
      "application/vnd.jupyter.widget-view+json": {
       "model_id": "",
       "version_major": 2,
       "version_minor": 0
      },
      "text/plain": [
       "HBox(children=(FloatProgress(value=0.0, description='Training', layout=Layout(flex='2'), max=1125.0, style=Pro…"
      ]
     },
     "metadata": {},
     "output_type": "display_data"
    },
    {
     "name": "stdout",
     "output_type": "stream",
     "text": [
      "Epoch 464: train=1.08669, val=1.01689, took 36.987 s\n"
     ]
    },
    {
     "data": {
      "application/vnd.jupyter.widget-view+json": {
       "model_id": "",
       "version_major": 2,
       "version_minor": 0
      },
      "text/plain": [
       "HBox(children=(FloatProgress(value=0.0, description='Training', layout=Layout(flex='2'), max=1125.0, style=Pro…"
      ]
     },
     "metadata": {},
     "output_type": "display_data"
    },
    {
     "name": "stdout",
     "output_type": "stream",
     "text": [
      "Epoch 465: train=1.07843, val=1.01655, took 36.984 s\n"
     ]
    },
    {
     "data": {
      "application/vnd.jupyter.widget-view+json": {
       "model_id": "",
       "version_major": 2,
       "version_minor": 0
      },
      "text/plain": [
       "HBox(children=(FloatProgress(value=0.0, description='Training', layout=Layout(flex='2'), max=1125.0, style=Pro…"
      ]
     },
     "metadata": {},
     "output_type": "display_data"
    },
    {
     "name": "stdout",
     "output_type": "stream",
     "text": [
      "Epoch 466: train=1.09351, val=1.08294, took 36.895 s\n"
     ]
    },
    {
     "data": {
      "application/vnd.jupyter.widget-view+json": {
       "model_id": "",
       "version_major": 2,
       "version_minor": 0
      },
      "text/plain": [
       "HBox(children=(FloatProgress(value=0.0, description='Training', layout=Layout(flex='2'), max=1125.0, style=Pro…"
      ]
     },
     "metadata": {},
     "output_type": "display_data"
    },
    {
     "name": "stdout",
     "output_type": "stream",
     "text": [
      "Epoch 467: train=1.0782, val=1.01775, took 37.133 s\n"
     ]
    },
    {
     "data": {
      "application/vnd.jupyter.widget-view+json": {
       "model_id": "",
       "version_major": 2,
       "version_minor": 0
      },
      "text/plain": [
       "HBox(children=(FloatProgress(value=0.0, description='Training', layout=Layout(flex='2'), max=1125.0, style=Pro…"
      ]
     },
     "metadata": {},
     "output_type": "display_data"
    },
    {
     "name": "stdout",
     "output_type": "stream",
     "text": [
      "Epoch 468: train=1.0755, val=1.05003, took 36.928 s\n"
     ]
    },
    {
     "data": {
      "application/vnd.jupyter.widget-view+json": {
       "model_id": "",
       "version_major": 2,
       "version_minor": 0
      },
      "text/plain": [
       "HBox(children=(FloatProgress(value=0.0, description='Training', layout=Layout(flex='2'), max=1125.0, style=Pro…"
      ]
     },
     "metadata": {},
     "output_type": "display_data"
    },
    {
     "name": "stdout",
     "output_type": "stream",
     "text": [
      "Epoch 469: train=1.08513, val=1.02851, took 36.995 s\n"
     ]
    },
    {
     "data": {
      "application/vnd.jupyter.widget-view+json": {
       "model_id": "",
       "version_major": 2,
       "version_minor": 0
      },
      "text/plain": [
       "HBox(children=(FloatProgress(value=0.0, description='Training', layout=Layout(flex='2'), max=1125.0, style=Pro…"
      ]
     },
     "metadata": {},
     "output_type": "display_data"
    },
    {
     "name": "stdout",
     "output_type": "stream",
     "text": [
      "Epoch 470: train=1.09894, val=1.18296, took 36.862 s\n"
     ]
    },
    {
     "data": {
      "application/vnd.jupyter.widget-view+json": {
       "model_id": "",
       "version_major": 2,
       "version_minor": 0
      },
      "text/plain": [
       "HBox(children=(FloatProgress(value=0.0, description='Training', layout=Layout(flex='2'), max=1125.0, style=Pro…"
      ]
     },
     "metadata": {},
     "output_type": "display_data"
    },
    {
     "name": "stdout",
     "output_type": "stream",
     "text": [
      "Epoch 471: train=1.07706, val=1.01832, took 36.929 s\n"
     ]
    },
    {
     "data": {
      "application/vnd.jupyter.widget-view+json": {
       "model_id": "",
       "version_major": 2,
       "version_minor": 0
      },
      "text/plain": [
       "HBox(children=(FloatProgress(value=0.0, description='Training', layout=Layout(flex='2'), max=1125.0, style=Pro…"
      ]
     },
     "metadata": {},
     "output_type": "display_data"
    },
    {
     "name": "stdout",
     "output_type": "stream",
     "text": [
      "Epoch 472: train=1.09223, val=1.04387, took 37.026 s\n"
     ]
    },
    {
     "data": {
      "application/vnd.jupyter.widget-view+json": {
       "model_id": "",
       "version_major": 2,
       "version_minor": 0
      },
      "text/plain": [
       "HBox(children=(FloatProgress(value=0.0, description='Training', layout=Layout(flex='2'), max=1125.0, style=Pro…"
      ]
     },
     "metadata": {},
     "output_type": "display_data"
    },
    {
     "name": "stdout",
     "output_type": "stream",
     "text": [
      "Epoch 473: train=1.08152, val=1.01943, took 36.932 s\n"
     ]
    },
    {
     "data": {
      "application/vnd.jupyter.widget-view+json": {
       "model_id": "",
       "version_major": 2,
       "version_minor": 0
      },
      "text/plain": [
       "HBox(children=(FloatProgress(value=0.0, description='Training', layout=Layout(flex='2'), max=1125.0, style=Pro…"
      ]
     },
     "metadata": {},
     "output_type": "display_data"
    },
    {
     "name": "stdout",
     "output_type": "stream",
     "text": [
      "Epoch 474: train=1.0743, val=1.04774, took 36.99 s\n"
     ]
    },
    {
     "data": {
      "application/vnd.jupyter.widget-view+json": {
       "model_id": "",
       "version_major": 2,
       "version_minor": 0
      },
      "text/plain": [
       "HBox(children=(FloatProgress(value=0.0, description='Training', layout=Layout(flex='2'), max=1125.0, style=Pro…"
      ]
     },
     "metadata": {},
     "output_type": "display_data"
    },
    {
     "name": "stdout",
     "output_type": "stream",
     "text": [
      "Epoch 475: train=1.07764, val=1.02436, took 36.841 s\n"
     ]
    },
    {
     "data": {
      "application/vnd.jupyter.widget-view+json": {
       "model_id": "",
       "version_major": 2,
       "version_minor": 0
      },
      "text/plain": [
       "HBox(children=(FloatProgress(value=0.0, description='Training', layout=Layout(flex='2'), max=1125.0, style=Pro…"
      ]
     },
     "metadata": {},
     "output_type": "display_data"
    },
    {
     "name": "stdout",
     "output_type": "stream",
     "text": [
      "Epoch 476: train=1.08321, val=1.03306, took 36.989 s\n"
     ]
    },
    {
     "data": {
      "application/vnd.jupyter.widget-view+json": {
       "model_id": "",
       "version_major": 2,
       "version_minor": 0
      },
      "text/plain": [
       "HBox(children=(FloatProgress(value=0.0, description='Training', layout=Layout(flex='2'), max=1125.0, style=Pro…"
      ]
     },
     "metadata": {},
     "output_type": "display_data"
    },
    {
     "name": "stdout",
     "output_type": "stream",
     "text": [
      "Epoch 477: train=1.08327, val=1.01514, took 36.981 s\n"
     ]
    },
    {
     "data": {
      "application/vnd.jupyter.widget-view+json": {
       "model_id": "",
       "version_major": 2,
       "version_minor": 0
      },
      "text/plain": [
       "HBox(children=(FloatProgress(value=0.0, description='Training', layout=Layout(flex='2'), max=1125.0, style=Pro…"
      ]
     },
     "metadata": {},
     "output_type": "display_data"
    },
    {
     "name": "stdout",
     "output_type": "stream",
     "text": [
      "Epoch 478: train=1.07754, val=1.01765, took 36.893 s\n"
     ]
    },
    {
     "data": {
      "application/vnd.jupyter.widget-view+json": {
       "model_id": "",
       "version_major": 2,
       "version_minor": 0
      },
      "text/plain": [
       "HBox(children=(FloatProgress(value=0.0, description='Training', layout=Layout(flex='2'), max=1125.0, style=Pro…"
      ]
     },
     "metadata": {},
     "output_type": "display_data"
    },
    {
     "name": "stdout",
     "output_type": "stream",
     "text": [
      "Epoch 479: train=1.07725, val=1.00939, took 36.981 s\n"
     ]
    },
    {
     "data": {
      "application/vnd.jupyter.widget-view+json": {
       "model_id": "",
       "version_major": 2,
       "version_minor": 0
      },
      "text/plain": [
       "HBox(children=(FloatProgress(value=0.0, description='Training', layout=Layout(flex='2'), max=1125.0, style=Pro…"
      ]
     },
     "metadata": {},
     "output_type": "display_data"
    },
    {
     "name": "stdout",
     "output_type": "stream",
     "text": [
      "Epoch 480: train=1.07642, val=1.03158, took 37.169 s\n"
     ]
    },
    {
     "data": {
      "application/vnd.jupyter.widget-view+json": {
       "model_id": "",
       "version_major": 2,
       "version_minor": 0
      },
      "text/plain": [
       "HBox(children=(FloatProgress(value=0.0, description='Training', layout=Layout(flex='2'), max=1125.0, style=Pro…"
      ]
     },
     "metadata": {},
     "output_type": "display_data"
    },
    {
     "name": "stdout",
     "output_type": "stream",
     "text": [
      "Epoch 481: train=1.07506, val=1.02878, took 36.891 s\n"
     ]
    },
    {
     "data": {
      "application/vnd.jupyter.widget-view+json": {
       "model_id": "",
       "version_major": 2,
       "version_minor": 0
      },
      "text/plain": [
       "HBox(children=(FloatProgress(value=0.0, description='Training', layout=Layout(flex='2'), max=1125.0, style=Pro…"
      ]
     },
     "metadata": {},
     "output_type": "display_data"
    },
    {
     "name": "stdout",
     "output_type": "stream",
     "text": [
      "Epoch 482: train=1.08233, val=1.05468, took 37.008 s\n"
     ]
    },
    {
     "data": {
      "application/vnd.jupyter.widget-view+json": {
       "model_id": "",
       "version_major": 2,
       "version_minor": 0
      },
      "text/plain": [
       "HBox(children=(FloatProgress(value=0.0, description='Training', layout=Layout(flex='2'), max=1125.0, style=Pro…"
      ]
     },
     "metadata": {},
     "output_type": "display_data"
    },
    {
     "name": "stdout",
     "output_type": "stream",
     "text": [
      "Epoch 483: train=1.07746, val=1.01519, took 36.955 s\n"
     ]
    },
    {
     "data": {
      "application/vnd.jupyter.widget-view+json": {
       "model_id": "",
       "version_major": 2,
       "version_minor": 0
      },
      "text/plain": [
       "HBox(children=(FloatProgress(value=0.0, description='Training', layout=Layout(flex='2'), max=1125.0, style=Pro…"
      ]
     },
     "metadata": {},
     "output_type": "display_data"
    },
    {
     "name": "stdout",
     "output_type": "stream",
     "text": [
      "Epoch 484: train=1.08336, val=1.01512, took 36.811 s\n"
     ]
    },
    {
     "data": {
      "application/vnd.jupyter.widget-view+json": {
       "model_id": "",
       "version_major": 2,
       "version_minor": 0
      },
      "text/plain": [
       "HBox(children=(FloatProgress(value=0.0, description='Training', layout=Layout(flex='2'), max=1125.0, style=Pro…"
      ]
     },
     "metadata": {},
     "output_type": "display_data"
    },
    {
     "name": "stdout",
     "output_type": "stream",
     "text": [
      "Epoch 485: train=1.08437, val=1.09104, took 36.903 s\n"
     ]
    },
    {
     "data": {
      "application/vnd.jupyter.widget-view+json": {
       "model_id": "",
       "version_major": 2,
       "version_minor": 0
      },
      "text/plain": [
       "HBox(children=(FloatProgress(value=0.0, description='Training', layout=Layout(flex='2'), max=1125.0, style=Pro…"
      ]
     },
     "metadata": {},
     "output_type": "display_data"
    },
    {
     "name": "stdout",
     "output_type": "stream",
     "text": [
      "Epoch 486: train=1.08237, val=1.11526, took 36.913 s\n"
     ]
    },
    {
     "data": {
      "application/vnd.jupyter.widget-view+json": {
       "model_id": "",
       "version_major": 2,
       "version_minor": 0
      },
      "text/plain": [
       "HBox(children=(FloatProgress(value=0.0, description='Training', layout=Layout(flex='2'), max=1125.0, style=Pro…"
      ]
     },
     "metadata": {},
     "output_type": "display_data"
    },
    {
     "name": "stdout",
     "output_type": "stream",
     "text": [
      "Epoch 487: train=1.0812, val=1.02451, took 36.918 s\n"
     ]
    },
    {
     "data": {
      "application/vnd.jupyter.widget-view+json": {
       "model_id": "",
       "version_major": 2,
       "version_minor": 0
      },
      "text/plain": [
       "HBox(children=(FloatProgress(value=0.0, description='Training', layout=Layout(flex='2'), max=1125.0, style=Pro…"
      ]
     },
     "metadata": {},
     "output_type": "display_data"
    },
    {
     "name": "stdout",
     "output_type": "stream",
     "text": [
      "Epoch 488: train=1.07478, val=1.02111, took 36.911 s\n"
     ]
    },
    {
     "data": {
      "application/vnd.jupyter.widget-view+json": {
       "model_id": "",
       "version_major": 2,
       "version_minor": 0
      },
      "text/plain": [
       "HBox(children=(FloatProgress(value=0.0, description='Training', layout=Layout(flex='2'), max=1125.0, style=Pro…"
      ]
     },
     "metadata": {},
     "output_type": "display_data"
    },
    {
     "name": "stdout",
     "output_type": "stream",
     "text": [
      "Epoch 489: train=1.08503, val=1.04803, took 37.045 s\n"
     ]
    },
    {
     "data": {
      "application/vnd.jupyter.widget-view+json": {
       "model_id": "",
       "version_major": 2,
       "version_minor": 0
      },
      "text/plain": [
       "HBox(children=(FloatProgress(value=0.0, description='Training', layout=Layout(flex='2'), max=1125.0, style=Pro…"
      ]
     },
     "metadata": {},
     "output_type": "display_data"
    },
    {
     "name": "stdout",
     "output_type": "stream",
     "text": [
      "Epoch 490: train=1.06665, val=1.03765, took 36.999 s\n"
     ]
    },
    {
     "data": {
      "application/vnd.jupyter.widget-view+json": {
       "model_id": "",
       "version_major": 2,
       "version_minor": 0
      },
      "text/plain": [
       "HBox(children=(FloatProgress(value=0.0, description='Training', layout=Layout(flex='2'), max=1125.0, style=Pro…"
      ]
     },
     "metadata": {},
     "output_type": "display_data"
    },
    {
     "name": "stdout",
     "output_type": "stream",
     "text": [
      "Epoch 491: train=1.07591, val=1.05244, took 37.289 s\n"
     ]
    },
    {
     "data": {
      "application/vnd.jupyter.widget-view+json": {
       "model_id": "",
       "version_major": 2,
       "version_minor": 0
      },
      "text/plain": [
       "HBox(children=(FloatProgress(value=0.0, description='Training', layout=Layout(flex='2'), max=1125.0, style=Pro…"
      ]
     },
     "metadata": {},
     "output_type": "display_data"
    },
    {
     "name": "stdout",
     "output_type": "stream",
     "text": [
      "Epoch 492: train=1.09004, val=1.11011, took 36.876 s\n"
     ]
    },
    {
     "data": {
      "application/vnd.jupyter.widget-view+json": {
       "model_id": "",
       "version_major": 2,
       "version_minor": 0
      },
      "text/plain": [
       "HBox(children=(FloatProgress(value=0.0, description='Training', layout=Layout(flex='2'), max=1125.0, style=Pro…"
      ]
     },
     "metadata": {},
     "output_type": "display_data"
    },
    {
     "name": "stdout",
     "output_type": "stream",
     "text": [
      "Epoch 493: train=1.08254, val=1.0364, took 36.915 s\n"
     ]
    },
    {
     "data": {
      "application/vnd.jupyter.widget-view+json": {
       "model_id": "",
       "version_major": 2,
       "version_minor": 0
      },
      "text/plain": [
       "HBox(children=(FloatProgress(value=0.0, description='Training', layout=Layout(flex='2'), max=1125.0, style=Pro…"
      ]
     },
     "metadata": {},
     "output_type": "display_data"
    },
    {
     "name": "stdout",
     "output_type": "stream",
     "text": [
      "Epoch 494: train=1.08023, val=1.01661, took 36.863 s\n"
     ]
    },
    {
     "data": {
      "application/vnd.jupyter.widget-view+json": {
       "model_id": "",
       "version_major": 2,
       "version_minor": 0
      },
      "text/plain": [
       "HBox(children=(FloatProgress(value=0.0, description='Training', layout=Layout(flex='2'), max=1125.0, style=Pro…"
      ]
     },
     "metadata": {},
     "output_type": "display_data"
    },
    {
     "name": "stdout",
     "output_type": "stream",
     "text": [
      "Epoch 495: train=1.07347, val=1.16941, took 36.938 s\n"
     ]
    },
    {
     "data": {
      "application/vnd.jupyter.widget-view+json": {
       "model_id": "",
       "version_major": 2,
       "version_minor": 0
      },
      "text/plain": [
       "HBox(children=(FloatProgress(value=0.0, description='Training', layout=Layout(flex='2'), max=1125.0, style=Pro…"
      ]
     },
     "metadata": {},
     "output_type": "display_data"
    },
    {
     "name": "stdout",
     "output_type": "stream",
     "text": [
      "Epoch 496: train=1.07814, val=1.05405, took 36.842 s\n"
     ]
    },
    {
     "data": {
      "application/vnd.jupyter.widget-view+json": {
       "model_id": "",
       "version_major": 2,
       "version_minor": 0
      },
      "text/plain": [
       "HBox(children=(FloatProgress(value=0.0, description='Training', layout=Layout(flex='2'), max=1125.0, style=Pro…"
      ]
     },
     "metadata": {},
     "output_type": "display_data"
    },
    {
     "name": "stdout",
     "output_type": "stream",
     "text": [
      "Epoch 497: train=1.08727, val=1.01541, took 36.94 s\n"
     ]
    },
    {
     "data": {
      "application/vnd.jupyter.widget-view+json": {
       "model_id": "",
       "version_major": 2,
       "version_minor": 0
      },
      "text/plain": [
       "HBox(children=(FloatProgress(value=0.0, description='Training', layout=Layout(flex='2'), max=1125.0, style=Pro…"
      ]
     },
     "metadata": {},
     "output_type": "display_data"
    },
    {
     "name": "stdout",
     "output_type": "stream",
     "text": [
      "Epoch 498: train=1.06769, val=1.02438, took 36.88 s\n"
     ]
    },
    {
     "data": {
      "application/vnd.jupyter.widget-view+json": {
       "model_id": "",
       "version_major": 2,
       "version_minor": 0
      },
      "text/plain": [
       "HBox(children=(FloatProgress(value=0.0, description='Training', layout=Layout(flex='2'), max=1125.0, style=Pro…"
      ]
     },
     "metadata": {},
     "output_type": "display_data"
    },
    {
     "name": "stdout",
     "output_type": "stream",
     "text": [
      "Epoch 499: train=1.06749, val=1.03409, took 37.107 s\n"
     ]
    },
    {
     "data": {
      "application/vnd.jupyter.widget-view+json": {
       "model_id": "",
       "version_major": 2,
       "version_minor": 0
      },
      "text/plain": [
       "HBox(children=(FloatProgress(value=0.0, description='Training', layout=Layout(flex='2'), max=1125.0, style=Pro…"
      ]
     },
     "metadata": {},
     "output_type": "display_data"
    },
    {
     "name": "stdout",
     "output_type": "stream",
     "text": [
      "Epoch 500: train=1.06999, val=1.02293, took 37.061 s\n"
     ]
    },
    {
     "data": {
      "application/vnd.jupyter.widget-view+json": {
       "model_id": "",
       "version_major": 2,
       "version_minor": 0
      },
      "text/plain": [
       "HBox(children=(FloatProgress(value=0.0, description='Training', layout=Layout(flex='2'), max=1125.0, style=Pro…"
      ]
     },
     "metadata": {},
     "output_type": "display_data"
    },
    {
     "name": "stdout",
     "output_type": "stream",
     "text": [
      "Epoch 501: train=1.07697, val=1.06304, took 36.992 s\n"
     ]
    },
    {
     "data": {
      "application/vnd.jupyter.widget-view+json": {
       "model_id": "",
       "version_major": 2,
       "version_minor": 0
      },
      "text/plain": [
       "HBox(children=(FloatProgress(value=0.0, description='Training', layout=Layout(flex='2'), max=1125.0, style=Pro…"
      ]
     },
     "metadata": {},
     "output_type": "display_data"
    },
    {
     "name": "stdout",
     "output_type": "stream",
     "text": [
      "Epoch 502: train=1.07198, val=1.10332, took 36.931 s\n"
     ]
    },
    {
     "data": {
      "application/vnd.jupyter.widget-view+json": {
       "model_id": "",
       "version_major": 2,
       "version_minor": 0
      },
      "text/plain": [
       "HBox(children=(FloatProgress(value=0.0, description='Training', layout=Layout(flex='2'), max=1125.0, style=Pro…"
      ]
     },
     "metadata": {},
     "output_type": "display_data"
    },
    {
     "name": "stdout",
     "output_type": "stream",
     "text": [
      "Epoch 503: train=1.07247, val=1.02345, took 36.979 s\n"
     ]
    },
    {
     "data": {
      "application/vnd.jupyter.widget-view+json": {
       "model_id": "",
       "version_major": 2,
       "version_minor": 0
      },
      "text/plain": [
       "HBox(children=(FloatProgress(value=0.0, description='Training', layout=Layout(flex='2'), max=1125.0, style=Pro…"
      ]
     },
     "metadata": {},
     "output_type": "display_data"
    },
    {
     "name": "stdout",
     "output_type": "stream",
     "text": [
      "Epoch 504: train=1.07101, val=1.06323, took 37.238 s\n"
     ]
    },
    {
     "data": {
      "application/vnd.jupyter.widget-view+json": {
       "model_id": "",
       "version_major": 2,
       "version_minor": 0
      },
      "text/plain": [
       "HBox(children=(FloatProgress(value=0.0, description='Training', layout=Layout(flex='2'), max=1125.0, style=Pro…"
      ]
     },
     "metadata": {},
     "output_type": "display_data"
    },
    {
     "name": "stdout",
     "output_type": "stream",
     "text": [
      "Epoch 505: train=1.07841, val=1.02138, took 36.867 s\n"
     ]
    },
    {
     "data": {
      "application/vnd.jupyter.widget-view+json": {
       "model_id": "",
       "version_major": 2,
       "version_minor": 0
      },
      "text/plain": [
       "HBox(children=(FloatProgress(value=0.0, description='Training', layout=Layout(flex='2'), max=1125.0, style=Pro…"
      ]
     },
     "metadata": {},
     "output_type": "display_data"
    },
    {
     "name": "stdout",
     "output_type": "stream",
     "text": [
      "Epoch 506: train=1.07482, val=1.02934, took 37.023 s\n"
     ]
    },
    {
     "data": {
      "application/vnd.jupyter.widget-view+json": {
       "model_id": "",
       "version_major": 2,
       "version_minor": 0
      },
      "text/plain": [
       "HBox(children=(FloatProgress(value=0.0, description='Training', layout=Layout(flex='2'), max=1125.0, style=Pro…"
      ]
     },
     "metadata": {},
     "output_type": "display_data"
    },
    {
     "name": "stdout",
     "output_type": "stream",
     "text": [
      "Epoch 507: train=1.07343, val=1.11208, took 37.015 s\n"
     ]
    },
    {
     "data": {
      "application/vnd.jupyter.widget-view+json": {
       "model_id": "",
       "version_major": 2,
       "version_minor": 0
      },
      "text/plain": [
       "HBox(children=(FloatProgress(value=0.0, description='Training', layout=Layout(flex='2'), max=1125.0, style=Pro…"
      ]
     },
     "metadata": {},
     "output_type": "display_data"
    },
    {
     "name": "stdout",
     "output_type": "stream",
     "text": [
      "Epoch 508: train=1.07107, val=1.02485, took 37.131 s\n"
     ]
    },
    {
     "data": {
      "application/vnd.jupyter.widget-view+json": {
       "model_id": "",
       "version_major": 2,
       "version_minor": 0
      },
      "text/plain": [
       "HBox(children=(FloatProgress(value=0.0, description='Training', layout=Layout(flex='2'), max=1125.0, style=Pro…"
      ]
     },
     "metadata": {},
     "output_type": "display_data"
    },
    {
     "name": "stdout",
     "output_type": "stream",
     "text": [
      "Epoch 509: train=1.08563, val=1.05138, took 36.835 s\n"
     ]
    },
    {
     "data": {
      "application/vnd.jupyter.widget-view+json": {
       "model_id": "",
       "version_major": 2,
       "version_minor": 0
      },
      "text/plain": [
       "HBox(children=(FloatProgress(value=0.0, description='Training', layout=Layout(flex='2'), max=1125.0, style=Pro…"
      ]
     },
     "metadata": {},
     "output_type": "display_data"
    },
    {
     "name": "stdout",
     "output_type": "stream",
     "text": [
      "Epoch 510: train=1.07857, val=1.00703, took 36.931 s\n"
     ]
    },
    {
     "data": {
      "application/vnd.jupyter.widget-view+json": {
       "model_id": "",
       "version_major": 2,
       "version_minor": 0
      },
      "text/plain": [
       "HBox(children=(FloatProgress(value=0.0, description='Training', layout=Layout(flex='2'), max=1125.0, style=Pro…"
      ]
     },
     "metadata": {},
     "output_type": "display_data"
    },
    {
     "name": "stdout",
     "output_type": "stream",
     "text": [
      "Epoch 511: train=1.07492, val=1.01517, took 36.933 s\n"
     ]
    },
    {
     "data": {
      "application/vnd.jupyter.widget-view+json": {
       "model_id": "",
       "version_major": 2,
       "version_minor": 0
      },
      "text/plain": [
       "HBox(children=(FloatProgress(value=0.0, description='Training', layout=Layout(flex='2'), max=1125.0, style=Pro…"
      ]
     },
     "metadata": {},
     "output_type": "display_data"
    },
    {
     "name": "stdout",
     "output_type": "stream",
     "text": [
      "Epoch 512: train=1.07463, val=1.06811, took 37.053 s\n"
     ]
    },
    {
     "data": {
      "application/vnd.jupyter.widget-view+json": {
       "model_id": "",
       "version_major": 2,
       "version_minor": 0
      },
      "text/plain": [
       "HBox(children=(FloatProgress(value=0.0, description='Training', layout=Layout(flex='2'), max=1125.0, style=Pro…"
      ]
     },
     "metadata": {},
     "output_type": "display_data"
    },
    {
     "name": "stdout",
     "output_type": "stream",
     "text": [
      "Epoch 513: train=1.08779, val=1.0125, took 36.861 s\n"
     ]
    },
    {
     "data": {
      "application/vnd.jupyter.widget-view+json": {
       "model_id": "",
       "version_major": 2,
       "version_minor": 0
      },
      "text/plain": [
       "HBox(children=(FloatProgress(value=0.0, description='Training', layout=Layout(flex='2'), max=1125.0, style=Pro…"
      ]
     },
     "metadata": {},
     "output_type": "display_data"
    },
    {
     "name": "stdout",
     "output_type": "stream",
     "text": [
      "Epoch 514: train=1.07157, val=1.16354, took 36.815 s\n"
     ]
    },
    {
     "data": {
      "application/vnd.jupyter.widget-view+json": {
       "model_id": "",
       "version_major": 2,
       "version_minor": 0
      },
      "text/plain": [
       "HBox(children=(FloatProgress(value=0.0, description='Training', layout=Layout(flex='2'), max=1125.0, style=Pro…"
      ]
     },
     "metadata": {},
     "output_type": "display_data"
    },
    {
     "name": "stdout",
     "output_type": "stream",
     "text": [
      "Epoch 515: train=1.07016, val=1.03213, took 36.863 s\n"
     ]
    },
    {
     "data": {
      "application/vnd.jupyter.widget-view+json": {
       "model_id": "",
       "version_major": 2,
       "version_minor": 0
      },
      "text/plain": [
       "HBox(children=(FloatProgress(value=0.0, description='Training', layout=Layout(flex='2'), max=1125.0, style=Pro…"
      ]
     },
     "metadata": {},
     "output_type": "display_data"
    },
    {
     "name": "stdout",
     "output_type": "stream",
     "text": [
      "Epoch 516: train=1.08314, val=1.03693, took 36.978 s\n"
     ]
    },
    {
     "data": {
      "application/vnd.jupyter.widget-view+json": {
       "model_id": "",
       "version_major": 2,
       "version_minor": 0
      },
      "text/plain": [
       "HBox(children=(FloatProgress(value=0.0, description='Training', layout=Layout(flex='2'), max=1125.0, style=Pro…"
      ]
     },
     "metadata": {},
     "output_type": "display_data"
    },
    {
     "name": "stdout",
     "output_type": "stream",
     "text": [
      "Epoch 517: train=1.08961, val=1.1633, took 36.838 s\n"
     ]
    },
    {
     "data": {
      "application/vnd.jupyter.widget-view+json": {
       "model_id": "",
       "version_major": 2,
       "version_minor": 0
      },
      "text/plain": [
       "HBox(children=(FloatProgress(value=0.0, description='Training', layout=Layout(flex='2'), max=1125.0, style=Pro…"
      ]
     },
     "metadata": {},
     "output_type": "display_data"
    },
    {
     "name": "stdout",
     "output_type": "stream",
     "text": [
      "Epoch 518: train=1.08438, val=1.02722, took 36.934 s\n"
     ]
    },
    {
     "data": {
      "application/vnd.jupyter.widget-view+json": {
       "model_id": "",
       "version_major": 2,
       "version_minor": 0
      },
      "text/plain": [
       "HBox(children=(FloatProgress(value=0.0, description='Training', layout=Layout(flex='2'), max=1125.0, style=Pro…"
      ]
     },
     "metadata": {},
     "output_type": "display_data"
    },
    {
     "name": "stdout",
     "output_type": "stream",
     "text": [
      "Epoch 519: train=1.06074, val=1.01087, took 36.972 s\n"
     ]
    },
    {
     "data": {
      "application/vnd.jupyter.widget-view+json": {
       "model_id": "",
       "version_major": 2,
       "version_minor": 0
      },
      "text/plain": [
       "HBox(children=(FloatProgress(value=0.0, description='Training', layout=Layout(flex='2'), max=1125.0, style=Pro…"
      ]
     },
     "metadata": {},
     "output_type": "display_data"
    },
    {
     "name": "stdout",
     "output_type": "stream",
     "text": [
      "Epoch 520: train=1.06606, val=1.00707, took 37.114 s\n"
     ]
    },
    {
     "data": {
      "application/vnd.jupyter.widget-view+json": {
       "model_id": "",
       "version_major": 2,
       "version_minor": 0
      },
      "text/plain": [
       "HBox(children=(FloatProgress(value=0.0, description='Training', layout=Layout(flex='2'), max=1125.0, style=Pro…"
      ]
     },
     "metadata": {},
     "output_type": "display_data"
    },
    {
     "name": "stdout",
     "output_type": "stream",
     "text": [
      "Epoch 521: train=1.06839, val=1.01822, took 36.878 s\n"
     ]
    },
    {
     "data": {
      "application/vnd.jupyter.widget-view+json": {
       "model_id": "",
       "version_major": 2,
       "version_minor": 0
      },
      "text/plain": [
       "HBox(children=(FloatProgress(value=0.0, description='Training', layout=Layout(flex='2'), max=1125.0, style=Pro…"
      ]
     },
     "metadata": {},
     "output_type": "display_data"
    },
    {
     "name": "stdout",
     "output_type": "stream",
     "text": [
      "Epoch 522: train=1.07306, val=1.02498, took 37.006 s\n"
     ]
    },
    {
     "data": {
      "application/vnd.jupyter.widget-view+json": {
       "model_id": "",
       "version_major": 2,
       "version_minor": 0
      },
      "text/plain": [
       "HBox(children=(FloatProgress(value=0.0, description='Training', layout=Layout(flex='2'), max=1125.0, style=Pro…"
      ]
     },
     "metadata": {},
     "output_type": "display_data"
    },
    {
     "name": "stdout",
     "output_type": "stream",
     "text": [
      "Epoch 523: train=1.08574, val=1.05869, took 36.856 s\n"
     ]
    },
    {
     "data": {
      "application/vnd.jupyter.widget-view+json": {
       "model_id": "",
       "version_major": 2,
       "version_minor": 0
      },
      "text/plain": [
       "HBox(children=(FloatProgress(value=0.0, description='Training', layout=Layout(flex='2'), max=1125.0, style=Pro…"
      ]
     },
     "metadata": {},
     "output_type": "display_data"
    },
    {
     "name": "stdout",
     "output_type": "stream",
     "text": [
      "Epoch 524: train=1.07794, val=1.02517, took 36.844 s\n"
     ]
    },
    {
     "data": {
      "application/vnd.jupyter.widget-view+json": {
       "model_id": "",
       "version_major": 2,
       "version_minor": 0
      },
      "text/plain": [
       "HBox(children=(FloatProgress(value=0.0, description='Training', layout=Layout(flex='2'), max=1125.0, style=Pro…"
      ]
     },
     "metadata": {},
     "output_type": "display_data"
    },
    {
     "name": "stdout",
     "output_type": "stream",
     "text": [
      "Epoch 525: train=1.08207, val=1.34146, took 36.897 s\n"
     ]
    },
    {
     "data": {
      "application/vnd.jupyter.widget-view+json": {
       "model_id": "",
       "version_major": 2,
       "version_minor": 0
      },
      "text/plain": [
       "HBox(children=(FloatProgress(value=0.0, description='Training', layout=Layout(flex='2'), max=1125.0, style=Pro…"
      ]
     },
     "metadata": {},
     "output_type": "display_data"
    },
    {
     "name": "stdout",
     "output_type": "stream",
     "text": [
      "Epoch 526: train=1.06503, val=1.13393, took 36.912 s\n"
     ]
    },
    {
     "data": {
      "application/vnd.jupyter.widget-view+json": {
       "model_id": "",
       "version_major": 2,
       "version_minor": 0
      },
      "text/plain": [
       "HBox(children=(FloatProgress(value=0.0, description='Training', layout=Layout(flex='2'), max=1125.0, style=Pro…"
      ]
     },
     "metadata": {},
     "output_type": "display_data"
    },
    {
     "name": "stdout",
     "output_type": "stream",
     "text": [
      "Epoch 527: train=1.07345, val=1.02459, took 36.999 s\n"
     ]
    },
    {
     "data": {
      "application/vnd.jupyter.widget-view+json": {
       "model_id": "",
       "version_major": 2,
       "version_minor": 0
      },
      "text/plain": [
       "HBox(children=(FloatProgress(value=0.0, description='Training', layout=Layout(flex='2'), max=1125.0, style=Pro…"
      ]
     },
     "metadata": {},
     "output_type": "display_data"
    },
    {
     "name": "stdout",
     "output_type": "stream",
     "text": [
      "Epoch 528: train=1.07359, val=1.03477, took 36.823 s\n"
     ]
    },
    {
     "data": {
      "application/vnd.jupyter.widget-view+json": {
       "model_id": "",
       "version_major": 2,
       "version_minor": 0
      },
      "text/plain": [
       "HBox(children=(FloatProgress(value=0.0, description='Training', layout=Layout(flex='2'), max=1125.0, style=Pro…"
      ]
     },
     "metadata": {},
     "output_type": "display_data"
    },
    {
     "name": "stdout",
     "output_type": "stream",
     "text": [
      "Epoch 529: train=1.06604, val=1.04322, took 36.908 s\n"
     ]
    },
    {
     "data": {
      "application/vnd.jupyter.widget-view+json": {
       "model_id": "",
       "version_major": 2,
       "version_minor": 0
      },
      "text/plain": [
       "HBox(children=(FloatProgress(value=0.0, description='Training', layout=Layout(flex='2'), max=1125.0, style=Pro…"
      ]
     },
     "metadata": {},
     "output_type": "display_data"
    },
    {
     "name": "stdout",
     "output_type": "stream",
     "text": [
      "Epoch 530: train=1.09019, val=1.01851, took 36.826 s\n"
     ]
    },
    {
     "data": {
      "application/vnd.jupyter.widget-view+json": {
       "model_id": "",
       "version_major": 2,
       "version_minor": 0
      },
      "text/plain": [
       "HBox(children=(FloatProgress(value=0.0, description='Training', layout=Layout(flex='2'), max=1125.0, style=Pro…"
      ]
     },
     "metadata": {},
     "output_type": "display_data"
    },
    {
     "name": "stdout",
     "output_type": "stream",
     "text": [
      "Epoch 531: train=1.0718, val=1.00419, took 36.903 s\n"
     ]
    },
    {
     "data": {
      "application/vnd.jupyter.widget-view+json": {
       "model_id": "",
       "version_major": 2,
       "version_minor": 0
      },
      "text/plain": [
       "HBox(children=(FloatProgress(value=0.0, description='Training', layout=Layout(flex='2'), max=1125.0, style=Pro…"
      ]
     },
     "metadata": {},
     "output_type": "display_data"
    },
    {
     "name": "stdout",
     "output_type": "stream",
     "text": [
      "Epoch 532: train=1.07725, val=1.0114, took 36.971 s\n"
     ]
    },
    {
     "data": {
      "application/vnd.jupyter.widget-view+json": {
       "model_id": "",
       "version_major": 2,
       "version_minor": 0
      },
      "text/plain": [
       "HBox(children=(FloatProgress(value=0.0, description='Training', layout=Layout(flex='2'), max=1125.0, style=Pro…"
      ]
     },
     "metadata": {},
     "output_type": "display_data"
    },
    {
     "name": "stdout",
     "output_type": "stream",
     "text": [
      "Epoch 533: train=1.06653, val=1.09142, took 36.964 s\n"
     ]
    },
    {
     "data": {
      "application/vnd.jupyter.widget-view+json": {
       "model_id": "",
       "version_major": 2,
       "version_minor": 0
      },
      "text/plain": [
       "HBox(children=(FloatProgress(value=0.0, description='Training', layout=Layout(flex='2'), max=1125.0, style=Pro…"
      ]
     },
     "metadata": {},
     "output_type": "display_data"
    },
    {
     "name": "stdout",
     "output_type": "stream",
     "text": [
      "Epoch 534: train=1.06276, val=1.00317, took 36.907 s\n"
     ]
    },
    {
     "data": {
      "application/vnd.jupyter.widget-view+json": {
       "model_id": "",
       "version_major": 2,
       "version_minor": 0
      },
      "text/plain": [
       "HBox(children=(FloatProgress(value=0.0, description='Training', layout=Layout(flex='2'), max=1125.0, style=Pro…"
      ]
     },
     "metadata": {},
     "output_type": "display_data"
    },
    {
     "name": "stdout",
     "output_type": "stream",
     "text": [
      "Epoch 535: train=1.06844, val=1.01221, took 36.85 s\n"
     ]
    },
    {
     "data": {
      "application/vnd.jupyter.widget-view+json": {
       "model_id": "",
       "version_major": 2,
       "version_minor": 0
      },
      "text/plain": [
       "HBox(children=(FloatProgress(value=0.0, description='Training', layout=Layout(flex='2'), max=1125.0, style=Pro…"
      ]
     },
     "metadata": {},
     "output_type": "display_data"
    },
    {
     "name": "stdout",
     "output_type": "stream",
     "text": [
      "Epoch 536: train=1.0888, val=1.02281, took 36.848 s\n"
     ]
    },
    {
     "data": {
      "application/vnd.jupyter.widget-view+json": {
       "model_id": "",
       "version_major": 2,
       "version_minor": 0
      },
      "text/plain": [
       "HBox(children=(FloatProgress(value=0.0, description='Training', layout=Layout(flex='2'), max=1125.0, style=Pro…"
      ]
     },
     "metadata": {},
     "output_type": "display_data"
    },
    {
     "name": "stdout",
     "output_type": "stream",
     "text": [
      "Epoch 537: train=1.06542, val=1.04497, took 36.85 s\n"
     ]
    },
    {
     "data": {
      "application/vnd.jupyter.widget-view+json": {
       "model_id": "",
       "version_major": 2,
       "version_minor": 0
      },
      "text/plain": [
       "HBox(children=(FloatProgress(value=0.0, description='Training', layout=Layout(flex='2'), max=1125.0, style=Pro…"
      ]
     },
     "metadata": {},
     "output_type": "display_data"
    },
    {
     "name": "stdout",
     "output_type": "stream",
     "text": [
      "Epoch 538: train=1.07797, val=1.00982, took 36.803 s\n"
     ]
    },
    {
     "data": {
      "application/vnd.jupyter.widget-view+json": {
       "model_id": "",
       "version_major": 2,
       "version_minor": 0
      },
      "text/plain": [
       "HBox(children=(FloatProgress(value=0.0, description='Training', layout=Layout(flex='2'), max=1125.0, style=Pro…"
      ]
     },
     "metadata": {},
     "output_type": "display_data"
    },
    {
     "name": "stdout",
     "output_type": "stream",
     "text": [
      "Epoch 539: train=1.07197, val=1.01883, took 36.964 s\n"
     ]
    },
    {
     "data": {
      "application/vnd.jupyter.widget-view+json": {
       "model_id": "",
       "version_major": 2,
       "version_minor": 0
      },
      "text/plain": [
       "HBox(children=(FloatProgress(value=0.0, description='Training', layout=Layout(flex='2'), max=1125.0, style=Pro…"
      ]
     },
     "metadata": {},
     "output_type": "display_data"
    },
    {
     "name": "stdout",
     "output_type": "stream",
     "text": [
      "Epoch 540: train=1.07066, val=1.04095, took 36.897 s\n"
     ]
    },
    {
     "data": {
      "application/vnd.jupyter.widget-view+json": {
       "model_id": "",
       "version_major": 2,
       "version_minor": 0
      },
      "text/plain": [
       "HBox(children=(FloatProgress(value=0.0, description='Training', layout=Layout(flex='2'), max=1125.0, style=Pro…"
      ]
     },
     "metadata": {},
     "output_type": "display_data"
    },
    {
     "name": "stdout",
     "output_type": "stream",
     "text": [
      "Epoch 541: train=1.06888, val=1.00803, took 36.839 s\n"
     ]
    },
    {
     "data": {
      "application/vnd.jupyter.widget-view+json": {
       "model_id": "",
       "version_major": 2,
       "version_minor": 0
      },
      "text/plain": [
       "HBox(children=(FloatProgress(value=0.0, description='Training', layout=Layout(flex='2'), max=1125.0, style=Pro…"
      ]
     },
     "metadata": {},
     "output_type": "display_data"
    },
    {
     "name": "stdout",
     "output_type": "stream",
     "text": [
      "Epoch 542: train=1.06239, val=1.00374, took 36.838 s\n"
     ]
    },
    {
     "data": {
      "application/vnd.jupyter.widget-view+json": {
       "model_id": "",
       "version_major": 2,
       "version_minor": 0
      },
      "text/plain": [
       "HBox(children=(FloatProgress(value=0.0, description='Training', layout=Layout(flex='2'), max=1125.0, style=Pro…"
      ]
     },
     "metadata": {},
     "output_type": "display_data"
    },
    {
     "name": "stdout",
     "output_type": "stream",
     "text": [
      "Epoch 543: train=1.0713, val=1.04055, took 36.936 s\n"
     ]
    },
    {
     "data": {
      "application/vnd.jupyter.widget-view+json": {
       "model_id": "",
       "version_major": 2,
       "version_minor": 0
      },
      "text/plain": [
       "HBox(children=(FloatProgress(value=0.0, description='Training', layout=Layout(flex='2'), max=1125.0, style=Pro…"
      ]
     },
     "metadata": {},
     "output_type": "display_data"
    },
    {
     "name": "stdout",
     "output_type": "stream",
     "text": [
      "Epoch 544: train=1.07301, val=1.19318, took 36.918 s\n"
     ]
    },
    {
     "data": {
      "application/vnd.jupyter.widget-view+json": {
       "model_id": "",
       "version_major": 2,
       "version_minor": 0
      },
      "text/plain": [
       "HBox(children=(FloatProgress(value=0.0, description='Training', layout=Layout(flex='2'), max=1125.0, style=Pro…"
      ]
     },
     "metadata": {},
     "output_type": "display_data"
    },
    {
     "name": "stdout",
     "output_type": "stream",
     "text": [
      "Epoch 545: train=1.06817, val=1.03496, took 36.965 s\n"
     ]
    },
    {
     "data": {
      "application/vnd.jupyter.widget-view+json": {
       "model_id": "",
       "version_major": 2,
       "version_minor": 0
      },
      "text/plain": [
       "HBox(children=(FloatProgress(value=0.0, description='Training', layout=Layout(flex='2'), max=1125.0, style=Pro…"
      ]
     },
     "metadata": {},
     "output_type": "display_data"
    },
    {
     "name": "stdout",
     "output_type": "stream",
     "text": [
      "Epoch 546: train=1.0753, val=1.0412, took 36.812 s\n"
     ]
    },
    {
     "data": {
      "application/vnd.jupyter.widget-view+json": {
       "model_id": "",
       "version_major": 2,
       "version_minor": 0
      },
      "text/plain": [
       "HBox(children=(FloatProgress(value=0.0, description='Training', layout=Layout(flex='2'), max=1125.0, style=Pro…"
      ]
     },
     "metadata": {},
     "output_type": "display_data"
    },
    {
     "name": "stdout",
     "output_type": "stream",
     "text": [
      "Epoch 547: train=1.08525, val=1.09862, took 36.779 s\n"
     ]
    },
    {
     "data": {
      "application/vnd.jupyter.widget-view+json": {
       "model_id": "",
       "version_major": 2,
       "version_minor": 0
      },
      "text/plain": [
       "HBox(children=(FloatProgress(value=0.0, description='Training', layout=Layout(flex='2'), max=1125.0, style=Pro…"
      ]
     },
     "metadata": {},
     "output_type": "display_data"
    },
    {
     "name": "stdout",
     "output_type": "stream",
     "text": [
      "Epoch 548: train=1.07592, val=1.00538, took 36.896 s\n"
     ]
    },
    {
     "data": {
      "application/vnd.jupyter.widget-view+json": {
       "model_id": "",
       "version_major": 2,
       "version_minor": 0
      },
      "text/plain": [
       "HBox(children=(FloatProgress(value=0.0, description='Training', layout=Layout(flex='2'), max=1125.0, style=Pro…"
      ]
     },
     "metadata": {},
     "output_type": "display_data"
    },
    {
     "name": "stdout",
     "output_type": "stream",
     "text": [
      "Epoch 549: train=1.06684, val=1.30164, took 36.845 s\n"
     ]
    },
    {
     "data": {
      "application/vnd.jupyter.widget-view+json": {
       "model_id": "",
       "version_major": 2,
       "version_minor": 0
      },
      "text/plain": [
       "HBox(children=(FloatProgress(value=0.0, description='Training', layout=Layout(flex='2'), max=1125.0, style=Pro…"
      ]
     },
     "metadata": {},
     "output_type": "display_data"
    },
    {
     "name": "stdout",
     "output_type": "stream",
     "text": [
      "Epoch 550: train=1.07367, val=1.01058, took 36.855 s\n"
     ]
    },
    {
     "data": {
      "application/vnd.jupyter.widget-view+json": {
       "model_id": "",
       "version_major": 2,
       "version_minor": 0
      },
      "text/plain": [
       "HBox(children=(FloatProgress(value=0.0, description='Training', layout=Layout(flex='2'), max=1125.0, style=Pro…"
      ]
     },
     "metadata": {},
     "output_type": "display_data"
    },
    {
     "name": "stdout",
     "output_type": "stream",
     "text": [
      "Epoch 551: train=1.05639, val=1.00651, took 36.882 s\n"
     ]
    },
    {
     "data": {
      "application/vnd.jupyter.widget-view+json": {
       "model_id": "",
       "version_major": 2,
       "version_minor": 0
      },
      "text/plain": [
       "HBox(children=(FloatProgress(value=0.0, description='Training', layout=Layout(flex='2'), max=1125.0, style=Pro…"
      ]
     },
     "metadata": {},
     "output_type": "display_data"
    },
    {
     "name": "stdout",
     "output_type": "stream",
     "text": [
      "Epoch 552: train=1.08124, val=1.06816, took 36.93 s\n"
     ]
    },
    {
     "data": {
      "application/vnd.jupyter.widget-view+json": {
       "model_id": "",
       "version_major": 2,
       "version_minor": 0
      },
      "text/plain": [
       "HBox(children=(FloatProgress(value=0.0, description='Training', layout=Layout(flex='2'), max=1125.0, style=Pro…"
      ]
     },
     "metadata": {},
     "output_type": "display_data"
    },
    {
     "name": "stdout",
     "output_type": "stream",
     "text": [
      "Epoch 553: train=1.05354, val=1.13335, took 36.872 s\n"
     ]
    },
    {
     "data": {
      "application/vnd.jupyter.widget-view+json": {
       "model_id": "",
       "version_major": 2,
       "version_minor": 0
      },
      "text/plain": [
       "HBox(children=(FloatProgress(value=0.0, description='Training', layout=Layout(flex='2'), max=1125.0, style=Pro…"
      ]
     },
     "metadata": {},
     "output_type": "display_data"
    },
    {
     "name": "stdout",
     "output_type": "stream",
     "text": [
      "Epoch 554: train=1.06666, val=1.05335, took 36.906 s\n"
     ]
    },
    {
     "data": {
      "application/vnd.jupyter.widget-view+json": {
       "model_id": "",
       "version_major": 2,
       "version_minor": 0
      },
      "text/plain": [
       "HBox(children=(FloatProgress(value=0.0, description='Training', layout=Layout(flex='2'), max=1125.0, style=Pro…"
      ]
     },
     "metadata": {},
     "output_type": "display_data"
    },
    {
     "name": "stdout",
     "output_type": "stream",
     "text": [
      "Epoch 555: train=1.06309, val=1.00315, took 36.881 s\n"
     ]
    },
    {
     "data": {
      "application/vnd.jupyter.widget-view+json": {
       "model_id": "",
       "version_major": 2,
       "version_minor": 0
      },
      "text/plain": [
       "HBox(children=(FloatProgress(value=0.0, description='Training', layout=Layout(flex='2'), max=1125.0, style=Pro…"
      ]
     },
     "metadata": {},
     "output_type": "display_data"
    },
    {
     "name": "stdout",
     "output_type": "stream",
     "text": [
      "Epoch 556: train=1.06526, val=1.01458, took 37.026 s\n"
     ]
    },
    {
     "data": {
      "application/vnd.jupyter.widget-view+json": {
       "model_id": "",
       "version_major": 2,
       "version_minor": 0
      },
      "text/plain": [
       "HBox(children=(FloatProgress(value=0.0, description='Training', layout=Layout(flex='2'), max=1125.0, style=Pro…"
      ]
     },
     "metadata": {},
     "output_type": "display_data"
    },
    {
     "name": "stdout",
     "output_type": "stream",
     "text": [
      "Epoch 557: train=1.06266, val=1.00409, took 36.974 s\n"
     ]
    },
    {
     "data": {
      "application/vnd.jupyter.widget-view+json": {
       "model_id": "",
       "version_major": 2,
       "version_minor": 0
      },
      "text/plain": [
       "HBox(children=(FloatProgress(value=0.0, description='Training', layout=Layout(flex='2'), max=1125.0, style=Pro…"
      ]
     },
     "metadata": {},
     "output_type": "display_data"
    },
    {
     "name": "stdout",
     "output_type": "stream",
     "text": [
      "Epoch 558: train=1.06706, val=1.1156, took 36.891 s\n"
     ]
    },
    {
     "data": {
      "application/vnd.jupyter.widget-view+json": {
       "model_id": "",
       "version_major": 2,
       "version_minor": 0
      },
      "text/plain": [
       "HBox(children=(FloatProgress(value=0.0, description='Training', layout=Layout(flex='2'), max=1125.0, style=Pro…"
      ]
     },
     "metadata": {},
     "output_type": "display_data"
    },
    {
     "name": "stdout",
     "output_type": "stream",
     "text": [
      "Epoch 559: train=1.06842, val=1.01584, took 36.897 s\n"
     ]
    },
    {
     "data": {
      "application/vnd.jupyter.widget-view+json": {
       "model_id": "",
       "version_major": 2,
       "version_minor": 0
      },
      "text/plain": [
       "HBox(children=(FloatProgress(value=0.0, description='Training', layout=Layout(flex='2'), max=1125.0, style=Pro…"
      ]
     },
     "metadata": {},
     "output_type": "display_data"
    },
    {
     "name": "stdout",
     "output_type": "stream",
     "text": [
      "Epoch 560: train=1.06217, val=1.01609, took 36.837 s\n"
     ]
    },
    {
     "data": {
      "application/vnd.jupyter.widget-view+json": {
       "model_id": "",
       "version_major": 2,
       "version_minor": 0
      },
      "text/plain": [
       "HBox(children=(FloatProgress(value=0.0, description='Training', layout=Layout(flex='2'), max=1125.0, style=Pro…"
      ]
     },
     "metadata": {},
     "output_type": "display_data"
    },
    {
     "name": "stdout",
     "output_type": "stream",
     "text": [
      "Epoch 561: train=1.0665, val=1.00959, took 36.849 s\n"
     ]
    },
    {
     "data": {
      "application/vnd.jupyter.widget-view+json": {
       "model_id": "",
       "version_major": 2,
       "version_minor": 0
      },
      "text/plain": [
       "HBox(children=(FloatProgress(value=0.0, description='Training', layout=Layout(flex='2'), max=1125.0, style=Pro…"
      ]
     },
     "metadata": {},
     "output_type": "display_data"
    },
    {
     "name": "stdout",
     "output_type": "stream",
     "text": [
      "Epoch 562: train=1.08196, val=1.03378, took 36.908 s\n"
     ]
    },
    {
     "data": {
      "application/vnd.jupyter.widget-view+json": {
       "model_id": "",
       "version_major": 2,
       "version_minor": 0
      },
      "text/plain": [
       "HBox(children=(FloatProgress(value=0.0, description='Training', layout=Layout(flex='2'), max=1125.0, style=Pro…"
      ]
     },
     "metadata": {},
     "output_type": "display_data"
    },
    {
     "name": "stdout",
     "output_type": "stream",
     "text": [
      "Epoch 563: train=1.06716, val=1.00404, took 37.242 s\n"
     ]
    },
    {
     "data": {
      "application/vnd.jupyter.widget-view+json": {
       "model_id": "",
       "version_major": 2,
       "version_minor": 0
      },
      "text/plain": [
       "HBox(children=(FloatProgress(value=0.0, description='Training', layout=Layout(flex='2'), max=1125.0, style=Pro…"
      ]
     },
     "metadata": {},
     "output_type": "display_data"
    },
    {
     "name": "stdout",
     "output_type": "stream",
     "text": [
      "Epoch 564: train=1.07295, val=1.00246, took 36.975 s\n"
     ]
    },
    {
     "data": {
      "application/vnd.jupyter.widget-view+json": {
       "model_id": "",
       "version_major": 2,
       "version_minor": 0
      },
      "text/plain": [
       "HBox(children=(FloatProgress(value=0.0, description='Training', layout=Layout(flex='2'), max=1125.0, style=Pro…"
      ]
     },
     "metadata": {},
     "output_type": "display_data"
    },
    {
     "name": "stdout",
     "output_type": "stream",
     "text": [
      "Epoch 565: train=1.06365, val=1.01977, took 36.799 s\n"
     ]
    },
    {
     "data": {
      "application/vnd.jupyter.widget-view+json": {
       "model_id": "",
       "version_major": 2,
       "version_minor": 0
      },
      "text/plain": [
       "HBox(children=(FloatProgress(value=0.0, description='Training', layout=Layout(flex='2'), max=1125.0, style=Pro…"
      ]
     },
     "metadata": {},
     "output_type": "display_data"
    },
    {
     "name": "stdout",
     "output_type": "stream",
     "text": [
      "Epoch 566: train=1.07375, val=1.06203, took 36.892 s\n"
     ]
    },
    {
     "data": {
      "application/vnd.jupyter.widget-view+json": {
       "model_id": "",
       "version_major": 2,
       "version_minor": 0
      },
      "text/plain": [
       "HBox(children=(FloatProgress(value=0.0, description='Training', layout=Layout(flex='2'), max=1125.0, style=Pro…"
      ]
     },
     "metadata": {},
     "output_type": "display_data"
    },
    {
     "name": "stdout",
     "output_type": "stream",
     "text": [
      "Epoch 567: train=1.06369, val=1.01157, took 36.866 s\n"
     ]
    },
    {
     "data": {
      "application/vnd.jupyter.widget-view+json": {
       "model_id": "",
       "version_major": 2,
       "version_minor": 0
      },
      "text/plain": [
       "HBox(children=(FloatProgress(value=0.0, description='Training', layout=Layout(flex='2'), max=1125.0, style=Pro…"
      ]
     },
     "metadata": {},
     "output_type": "display_data"
    },
    {
     "name": "stdout",
     "output_type": "stream",
     "text": [
      "Epoch 568: train=1.06371, val=1.11598, took 36.935 s\n"
     ]
    },
    {
     "data": {
      "application/vnd.jupyter.widget-view+json": {
       "model_id": "",
       "version_major": 2,
       "version_minor": 0
      },
      "text/plain": [
       "HBox(children=(FloatProgress(value=0.0, description='Training', layout=Layout(flex='2'), max=1125.0, style=Pro…"
      ]
     },
     "metadata": {},
     "output_type": "display_data"
    },
    {
     "name": "stdout",
     "output_type": "stream",
     "text": [
      "Epoch 569: train=1.07032, val=1.01391, took 36.966 s\n"
     ]
    },
    {
     "data": {
      "application/vnd.jupyter.widget-view+json": {
       "model_id": "",
       "version_major": 2,
       "version_minor": 0
      },
      "text/plain": [
       "HBox(children=(FloatProgress(value=0.0, description='Training', layout=Layout(flex='2'), max=1125.0, style=Pro…"
      ]
     },
     "metadata": {},
     "output_type": "display_data"
    },
    {
     "name": "stdout",
     "output_type": "stream",
     "text": [
      "Epoch 570: train=1.07373, val=1.11526, took 36.83 s\n"
     ]
    },
    {
     "data": {
      "application/vnd.jupyter.widget-view+json": {
       "model_id": "",
       "version_major": 2,
       "version_minor": 0
      },
      "text/plain": [
       "HBox(children=(FloatProgress(value=0.0, description='Training', layout=Layout(flex='2'), max=1125.0, style=Pro…"
      ]
     },
     "metadata": {},
     "output_type": "display_data"
    },
    {
     "name": "stdout",
     "output_type": "stream",
     "text": [
      "Epoch 571: train=1.06126, val=1.00626, took 37.036 s\n"
     ]
    },
    {
     "data": {
      "application/vnd.jupyter.widget-view+json": {
       "model_id": "",
       "version_major": 2,
       "version_minor": 0
      },
      "text/plain": [
       "HBox(children=(FloatProgress(value=0.0, description='Training', layout=Layout(flex='2'), max=1125.0, style=Pro…"
      ]
     },
     "metadata": {},
     "output_type": "display_data"
    },
    {
     "name": "stdout",
     "output_type": "stream",
     "text": [
      "Epoch 572: train=1.07704, val=1.00358, took 36.96 s\n"
     ]
    },
    {
     "data": {
      "application/vnd.jupyter.widget-view+json": {
       "model_id": "",
       "version_major": 2,
       "version_minor": 0
      },
      "text/plain": [
       "HBox(children=(FloatProgress(value=0.0, description='Training', layout=Layout(flex='2'), max=1125.0, style=Pro…"
      ]
     },
     "metadata": {},
     "output_type": "display_data"
    },
    {
     "name": "stdout",
     "output_type": "stream",
     "text": [
      "Epoch 573: train=1.06064, val=1.01096, took 36.928 s\n"
     ]
    },
    {
     "data": {
      "application/vnd.jupyter.widget-view+json": {
       "model_id": "",
       "version_major": 2,
       "version_minor": 0
      },
      "text/plain": [
       "HBox(children=(FloatProgress(value=0.0, description='Training', layout=Layout(flex='2'), max=1125.0, style=Pro…"
      ]
     },
     "metadata": {},
     "output_type": "display_data"
    },
    {
     "name": "stdout",
     "output_type": "stream",
     "text": [
      "Epoch 574: train=1.07329, val=1.00489, took 37.005 s\n"
     ]
    },
    {
     "data": {
      "application/vnd.jupyter.widget-view+json": {
       "model_id": "",
       "version_major": 2,
       "version_minor": 0
      },
      "text/plain": [
       "HBox(children=(FloatProgress(value=0.0, description='Training', layout=Layout(flex='2'), max=1125.0, style=Pro…"
      ]
     },
     "metadata": {},
     "output_type": "display_data"
    },
    {
     "name": "stdout",
     "output_type": "stream",
     "text": [
      "Epoch 575: train=1.058, val=1.00612, took 36.878 s\n"
     ]
    },
    {
     "data": {
      "application/vnd.jupyter.widget-view+json": {
       "model_id": "",
       "version_major": 2,
       "version_minor": 0
      },
      "text/plain": [
       "HBox(children=(FloatProgress(value=0.0, description='Training', layout=Layout(flex='2'), max=1125.0, style=Pro…"
      ]
     },
     "metadata": {},
     "output_type": "display_data"
    },
    {
     "name": "stdout",
     "output_type": "stream",
     "text": [
      "Epoch 576: train=1.07956, val=1.06111, took 37.009 s\n"
     ]
    },
    {
     "data": {
      "application/vnd.jupyter.widget-view+json": {
       "model_id": "",
       "version_major": 2,
       "version_minor": 0
      },
      "text/plain": [
       "HBox(children=(FloatProgress(value=0.0, description='Training', layout=Layout(flex='2'), max=1125.0, style=Pro…"
      ]
     },
     "metadata": {},
     "output_type": "display_data"
    },
    {
     "name": "stdout",
     "output_type": "stream",
     "text": [
      "Epoch 577: train=1.05902, val=1.00413, took 36.857 s\n"
     ]
    },
    {
     "data": {
      "application/vnd.jupyter.widget-view+json": {
       "model_id": "",
       "version_major": 2,
       "version_minor": 0
      },
      "text/plain": [
       "HBox(children=(FloatProgress(value=0.0, description='Training', layout=Layout(flex='2'), max=1125.0, style=Pro…"
      ]
     },
     "metadata": {},
     "output_type": "display_data"
    },
    {
     "name": "stdout",
     "output_type": "stream",
     "text": [
      "Epoch 578: train=1.06789, val=1.06228, took 36.902 s\n"
     ]
    },
    {
     "data": {
      "application/vnd.jupyter.widget-view+json": {
       "model_id": "",
       "version_major": 2,
       "version_minor": 0
      },
      "text/plain": [
       "HBox(children=(FloatProgress(value=0.0, description='Training', layout=Layout(flex='2'), max=1125.0, style=Pro…"
      ]
     },
     "metadata": {},
     "output_type": "display_data"
    },
    {
     "name": "stdout",
     "output_type": "stream",
     "text": [
      "Epoch 579: train=1.05668, val=1.00157, took 36.94 s\n"
     ]
    },
    {
     "data": {
      "application/vnd.jupyter.widget-view+json": {
       "model_id": "",
       "version_major": 2,
       "version_minor": 0
      },
      "text/plain": [
       "HBox(children=(FloatProgress(value=0.0, description='Training', layout=Layout(flex='2'), max=1125.0, style=Pro…"
      ]
     },
     "metadata": {},
     "output_type": "display_data"
    },
    {
     "name": "stdout",
     "output_type": "stream",
     "text": [
      "Epoch 580: train=1.06017, val=1.00541, took 37.19 s\n"
     ]
    },
    {
     "data": {
      "application/vnd.jupyter.widget-view+json": {
       "model_id": "",
       "version_major": 2,
       "version_minor": 0
      },
      "text/plain": [
       "HBox(children=(FloatProgress(value=0.0, description='Training', layout=Layout(flex='2'), max=1125.0, style=Pro…"
      ]
     },
     "metadata": {},
     "output_type": "display_data"
    },
    {
     "name": "stdout",
     "output_type": "stream",
     "text": [
      "Epoch 581: train=1.06644, val=1.04123, took 36.816 s\n"
     ]
    },
    {
     "data": {
      "application/vnd.jupyter.widget-view+json": {
       "model_id": "",
       "version_major": 2,
       "version_minor": 0
      },
      "text/plain": [
       "HBox(children=(FloatProgress(value=0.0, description='Training', layout=Layout(flex='2'), max=1125.0, style=Pro…"
      ]
     },
     "metadata": {},
     "output_type": "display_data"
    },
    {
     "name": "stdout",
     "output_type": "stream",
     "text": [
      "Epoch 582: train=1.05752, val=1.01159, took 36.985 s\n"
     ]
    },
    {
     "data": {
      "application/vnd.jupyter.widget-view+json": {
       "model_id": "",
       "version_major": 2,
       "version_minor": 0
      },
      "text/plain": [
       "HBox(children=(FloatProgress(value=0.0, description='Training', layout=Layout(flex='2'), max=1125.0, style=Pro…"
      ]
     },
     "metadata": {},
     "output_type": "display_data"
    },
    {
     "name": "stdout",
     "output_type": "stream",
     "text": [
      "Epoch 583: train=1.05129, val=1.00487, took 36.914 s\n"
     ]
    },
    {
     "data": {
      "application/vnd.jupyter.widget-view+json": {
       "model_id": "",
       "version_major": 2,
       "version_minor": 0
      },
      "text/plain": [
       "HBox(children=(FloatProgress(value=0.0, description='Training', layout=Layout(flex='2'), max=1125.0, style=Pro…"
      ]
     },
     "metadata": {},
     "output_type": "display_data"
    },
    {
     "name": "stdout",
     "output_type": "stream",
     "text": [
      "Epoch 584: train=1.06243, val=1.01441, took 37.077 s\n"
     ]
    },
    {
     "data": {
      "application/vnd.jupyter.widget-view+json": {
       "model_id": "",
       "version_major": 2,
       "version_minor": 0
      },
      "text/plain": [
       "HBox(children=(FloatProgress(value=0.0, description='Training', layout=Layout(flex='2'), max=1125.0, style=Pro…"
      ]
     },
     "metadata": {},
     "output_type": "display_data"
    },
    {
     "name": "stdout",
     "output_type": "stream",
     "text": [
      "Epoch 585: train=1.06161, val=0.997414, took 36.993 s\n"
     ]
    },
    {
     "data": {
      "application/vnd.jupyter.widget-view+json": {
       "model_id": "",
       "version_major": 2,
       "version_minor": 0
      },
      "text/plain": [
       "HBox(children=(FloatProgress(value=0.0, description='Training', layout=Layout(flex='2'), max=1125.0, style=Pro…"
      ]
     },
     "metadata": {},
     "output_type": "display_data"
    },
    {
     "name": "stdout",
     "output_type": "stream",
     "text": [
      "Epoch 586: train=1.06876, val=1.08389, took 36.927 s\n"
     ]
    },
    {
     "data": {
      "application/vnd.jupyter.widget-view+json": {
       "model_id": "",
       "version_major": 2,
       "version_minor": 0
      },
      "text/plain": [
       "HBox(children=(FloatProgress(value=0.0, description='Training', layout=Layout(flex='2'), max=1125.0, style=Pro…"
      ]
     },
     "metadata": {},
     "output_type": "display_data"
    },
    {
     "name": "stdout",
     "output_type": "stream",
     "text": [
      "Epoch 587: train=1.06093, val=1.01052, took 37.136 s\n"
     ]
    },
    {
     "data": {
      "application/vnd.jupyter.widget-view+json": {
       "model_id": "",
       "version_major": 2,
       "version_minor": 0
      },
      "text/plain": [
       "HBox(children=(FloatProgress(value=0.0, description='Training', layout=Layout(flex='2'), max=1125.0, style=Pro…"
      ]
     },
     "metadata": {},
     "output_type": "display_data"
    },
    {
     "name": "stdout",
     "output_type": "stream",
     "text": [
      "Epoch 588: train=1.0724, val=1.05418, took 36.948 s\n"
     ]
    },
    {
     "data": {
      "application/vnd.jupyter.widget-view+json": {
       "model_id": "",
       "version_major": 2,
       "version_minor": 0
      },
      "text/plain": [
       "HBox(children=(FloatProgress(value=0.0, description='Training', layout=Layout(flex='2'), max=1125.0, style=Pro…"
      ]
     },
     "metadata": {},
     "output_type": "display_data"
    },
    {
     "name": "stdout",
     "output_type": "stream",
     "text": [
      "Epoch 589: train=1.06411, val=1.44903, took 37.188 s\n"
     ]
    },
    {
     "data": {
      "application/vnd.jupyter.widget-view+json": {
       "model_id": "",
       "version_major": 2,
       "version_minor": 0
      },
      "text/plain": [
       "HBox(children=(FloatProgress(value=0.0, description='Training', layout=Layout(flex='2'), max=1125.0, style=Pro…"
      ]
     },
     "metadata": {},
     "output_type": "display_data"
    },
    {
     "name": "stdout",
     "output_type": "stream",
     "text": [
      "Epoch 590: train=1.07037, val=1.1169, took 37.028 s\n"
     ]
    },
    {
     "data": {
      "application/vnd.jupyter.widget-view+json": {
       "model_id": "",
       "version_major": 2,
       "version_minor": 0
      },
      "text/plain": [
       "HBox(children=(FloatProgress(value=0.0, description='Training', layout=Layout(flex='2'), max=1125.0, style=Pro…"
      ]
     },
     "metadata": {},
     "output_type": "display_data"
    },
    {
     "name": "stdout",
     "output_type": "stream",
     "text": [
      "Epoch 591: train=1.06873, val=1.08508, took 36.967 s\n"
     ]
    },
    {
     "data": {
      "application/vnd.jupyter.widget-view+json": {
       "model_id": "",
       "version_major": 2,
       "version_minor": 0
      },
      "text/plain": [
       "HBox(children=(FloatProgress(value=0.0, description='Training', layout=Layout(flex='2'), max=1125.0, style=Pro…"
      ]
     },
     "metadata": {},
     "output_type": "display_data"
    },
    {
     "name": "stdout",
     "output_type": "stream",
     "text": [
      "Epoch 592: train=1.06522, val=1.0073, took 36.91 s\n"
     ]
    },
    {
     "data": {
      "application/vnd.jupyter.widget-view+json": {
       "model_id": "",
       "version_major": 2,
       "version_minor": 0
      },
      "text/plain": [
       "HBox(children=(FloatProgress(value=0.0, description='Training', layout=Layout(flex='2'), max=1125.0, style=Pro…"
      ]
     },
     "metadata": {},
     "output_type": "display_data"
    },
    {
     "name": "stdout",
     "output_type": "stream",
     "text": [
      "Epoch 593: train=1.05947, val=1.02967, took 37.004 s\n"
     ]
    },
    {
     "data": {
      "application/vnd.jupyter.widget-view+json": {
       "model_id": "",
       "version_major": 2,
       "version_minor": 0
      },
      "text/plain": [
       "HBox(children=(FloatProgress(value=0.0, description='Training', layout=Layout(flex='2'), max=1125.0, style=Pro…"
      ]
     },
     "metadata": {},
     "output_type": "display_data"
    },
    {
     "name": "stdout",
     "output_type": "stream",
     "text": [
      "Epoch 594: train=1.05531, val=1.01949, took 36.882 s\n"
     ]
    },
    {
     "data": {
      "application/vnd.jupyter.widget-view+json": {
       "model_id": "",
       "version_major": 2,
       "version_minor": 0
      },
      "text/plain": [
       "HBox(children=(FloatProgress(value=0.0, description='Training', layout=Layout(flex='2'), max=1125.0, style=Pro…"
      ]
     },
     "metadata": {},
     "output_type": "display_data"
    },
    {
     "name": "stdout",
     "output_type": "stream",
     "text": [
      "Epoch 595: train=1.08375, val=1.0433, took 36.995 s\n"
     ]
    },
    {
     "data": {
      "application/vnd.jupyter.widget-view+json": {
       "model_id": "",
       "version_major": 2,
       "version_minor": 0
      },
      "text/plain": [
       "HBox(children=(FloatProgress(value=0.0, description='Training', layout=Layout(flex='2'), max=1125.0, style=Pro…"
      ]
     },
     "metadata": {},
     "output_type": "display_data"
    },
    {
     "name": "stdout",
     "output_type": "stream",
     "text": [
      "Epoch 596: train=1.06113, val=1.01818, took 37.082 s\n"
     ]
    },
    {
     "data": {
      "application/vnd.jupyter.widget-view+json": {
       "model_id": "",
       "version_major": 2,
       "version_minor": 0
      },
      "text/plain": [
       "HBox(children=(FloatProgress(value=0.0, description='Training', layout=Layout(flex='2'), max=1125.0, style=Pro…"
      ]
     },
     "metadata": {},
     "output_type": "display_data"
    },
    {
     "name": "stdout",
     "output_type": "stream",
     "text": [
      "Epoch 597: train=1.05875, val=1.01094, took 36.963 s\n"
     ]
    },
    {
     "data": {
      "application/vnd.jupyter.widget-view+json": {
       "model_id": "",
       "version_major": 2,
       "version_minor": 0
      },
      "text/plain": [
       "HBox(children=(FloatProgress(value=0.0, description='Training', layout=Layout(flex='2'), max=1125.0, style=Pro…"
      ]
     },
     "metadata": {},
     "output_type": "display_data"
    },
    {
     "name": "stdout",
     "output_type": "stream",
     "text": [
      "Epoch 598: train=1.07552, val=1.00073, took 36.925 s\n"
     ]
    },
    {
     "data": {
      "application/vnd.jupyter.widget-view+json": {
       "model_id": "",
       "version_major": 2,
       "version_minor": 0
      },
      "text/plain": [
       "HBox(children=(FloatProgress(value=0.0, description='Training', layout=Layout(flex='2'), max=1125.0, style=Pro…"
      ]
     },
     "metadata": {},
     "output_type": "display_data"
    },
    {
     "name": "stdout",
     "output_type": "stream",
     "text": [
      "Epoch 599: train=1.06095, val=1.16475, took 37.062 s\n"
     ]
    },
    {
     "data": {
      "application/vnd.jupyter.widget-view+json": {
       "model_id": "",
       "version_major": 2,
       "version_minor": 0
      },
      "text/plain": [
       "HBox(children=(FloatProgress(value=0.0, description='Training', layout=Layout(flex='2'), max=1125.0, style=Pro…"
      ]
     },
     "metadata": {},
     "output_type": "display_data"
    },
    {
     "name": "stdout",
     "output_type": "stream",
     "text": [
      "Epoch 600: train=1.05718, val=1.05905, took 37.078 s\n"
     ]
    },
    {
     "data": {
      "application/vnd.jupyter.widget-view+json": {
       "model_id": "",
       "version_major": 2,
       "version_minor": 0
      },
      "text/plain": [
       "HBox(children=(FloatProgress(value=0.0, description='Training', layout=Layout(flex='2'), max=1125.0, style=Pro…"
      ]
     },
     "metadata": {},
     "output_type": "display_data"
    },
    {
     "name": "stdout",
     "output_type": "stream",
     "text": [
      "Epoch 601: train=1.05788, val=1.40812, took 36.917 s\n"
     ]
    },
    {
     "data": {
      "application/vnd.jupyter.widget-view+json": {
       "model_id": "",
       "version_major": 2,
       "version_minor": 0
      },
      "text/plain": [
       "HBox(children=(FloatProgress(value=0.0, description='Training', layout=Layout(flex='2'), max=1125.0, style=Pro…"
      ]
     },
     "metadata": {},
     "output_type": "display_data"
    },
    {
     "name": "stdout",
     "output_type": "stream",
     "text": [
      "Epoch 602: train=1.06083, val=1.03686, took 36.917 s\n"
     ]
    },
    {
     "data": {
      "application/vnd.jupyter.widget-view+json": {
       "model_id": "",
       "version_major": 2,
       "version_minor": 0
      },
      "text/plain": [
       "HBox(children=(FloatProgress(value=0.0, description='Training', layout=Layout(flex='2'), max=1125.0, style=Pro…"
      ]
     },
     "metadata": {},
     "output_type": "display_data"
    },
    {
     "name": "stdout",
     "output_type": "stream",
     "text": [
      "Epoch 603: train=1.06652, val=1.00989, took 36.88 s\n"
     ]
    },
    {
     "data": {
      "application/vnd.jupyter.widget-view+json": {
       "model_id": "",
       "version_major": 2,
       "version_minor": 0
      },
      "text/plain": [
       "HBox(children=(FloatProgress(value=0.0, description='Training', layout=Layout(flex='2'), max=1125.0, style=Pro…"
      ]
     },
     "metadata": {},
     "output_type": "display_data"
    },
    {
     "name": "stdout",
     "output_type": "stream",
     "text": [
      "Epoch 604: train=1.05389, val=0.998994, took 36.877 s\n"
     ]
    },
    {
     "data": {
      "application/vnd.jupyter.widget-view+json": {
       "model_id": "",
       "version_major": 2,
       "version_minor": 0
      },
      "text/plain": [
       "HBox(children=(FloatProgress(value=0.0, description='Training', layout=Layout(flex='2'), max=1125.0, style=Pro…"
      ]
     },
     "metadata": {},
     "output_type": "display_data"
    },
    {
     "name": "stdout",
     "output_type": "stream",
     "text": [
      "Epoch 605: train=1.06309, val=1.03157, took 37.051 s\n"
     ]
    },
    {
     "data": {
      "application/vnd.jupyter.widget-view+json": {
       "model_id": "",
       "version_major": 2,
       "version_minor": 0
      },
      "text/plain": [
       "HBox(children=(FloatProgress(value=0.0, description='Training', layout=Layout(flex='2'), max=1125.0, style=Pro…"
      ]
     },
     "metadata": {},
     "output_type": "display_data"
    },
    {
     "name": "stdout",
     "output_type": "stream",
     "text": [
      "Epoch 606: train=1.05761, val=1.06703, took 37.054 s\n"
     ]
    },
    {
     "data": {
      "application/vnd.jupyter.widget-view+json": {
       "model_id": "",
       "version_major": 2,
       "version_minor": 0
      },
      "text/plain": [
       "HBox(children=(FloatProgress(value=0.0, description='Training', layout=Layout(flex='2'), max=1125.0, style=Pro…"
      ]
     },
     "metadata": {},
     "output_type": "display_data"
    },
    {
     "name": "stdout",
     "output_type": "stream",
     "text": [
      "Epoch 607: train=1.06069, val=1.03165, took 36.954 s\n"
     ]
    },
    {
     "data": {
      "application/vnd.jupyter.widget-view+json": {
       "model_id": "",
       "version_major": 2,
       "version_minor": 0
      },
      "text/plain": [
       "HBox(children=(FloatProgress(value=0.0, description='Training', layout=Layout(flex='2'), max=1125.0, style=Pro…"
      ]
     },
     "metadata": {},
     "output_type": "display_data"
    },
    {
     "name": "stdout",
     "output_type": "stream",
     "text": [
      "Epoch 608: train=1.04484, val=0.9972, took 36.94 s\n"
     ]
    },
    {
     "data": {
      "application/vnd.jupyter.widget-view+json": {
       "model_id": "",
       "version_major": 2,
       "version_minor": 0
      },
      "text/plain": [
       "HBox(children=(FloatProgress(value=0.0, description='Training', layout=Layout(flex='2'), max=1125.0, style=Pro…"
      ]
     },
     "metadata": {},
     "output_type": "display_data"
    },
    {
     "name": "stdout",
     "output_type": "stream",
     "text": [
      "Epoch 609: train=1.05846, val=1.10898, took 37.019 s\n"
     ]
    },
    {
     "data": {
      "application/vnd.jupyter.widget-view+json": {
       "model_id": "",
       "version_major": 2,
       "version_minor": 0
      },
      "text/plain": [
       "HBox(children=(FloatProgress(value=0.0, description='Training', layout=Layout(flex='2'), max=1125.0, style=Pro…"
      ]
     },
     "metadata": {},
     "output_type": "display_data"
    },
    {
     "name": "stdout",
     "output_type": "stream",
     "text": [
      "Epoch 610: train=1.07296, val=1.00927, took 36.959 s\n"
     ]
    },
    {
     "data": {
      "application/vnd.jupyter.widget-view+json": {
       "model_id": "",
       "version_major": 2,
       "version_minor": 0
      },
      "text/plain": [
       "HBox(children=(FloatProgress(value=0.0, description='Training', layout=Layout(flex='2'), max=1125.0, style=Pro…"
      ]
     },
     "metadata": {},
     "output_type": "display_data"
    },
    {
     "name": "stdout",
     "output_type": "stream",
     "text": [
      "Epoch 611: train=1.07233, val=1.00688, took 36.97 s\n"
     ]
    },
    {
     "data": {
      "application/vnd.jupyter.widget-view+json": {
       "model_id": "",
       "version_major": 2,
       "version_minor": 0
      },
      "text/plain": [
       "HBox(children=(FloatProgress(value=0.0, description='Training', layout=Layout(flex='2'), max=1125.0, style=Pro…"
      ]
     },
     "metadata": {},
     "output_type": "display_data"
    },
    {
     "name": "stdout",
     "output_type": "stream",
     "text": [
      "Epoch 612: train=1.05143, val=1.06442, took 37.017 s\n"
     ]
    },
    {
     "data": {
      "application/vnd.jupyter.widget-view+json": {
       "model_id": "",
       "version_major": 2,
       "version_minor": 0
      },
      "text/plain": [
       "HBox(children=(FloatProgress(value=0.0, description='Training', layout=Layout(flex='2'), max=1125.0, style=Pro…"
      ]
     },
     "metadata": {},
     "output_type": "display_data"
    },
    {
     "name": "stdout",
     "output_type": "stream",
     "text": [
      "Epoch 613: train=1.06236, val=1.00571, took 37.2 s\n"
     ]
    },
    {
     "data": {
      "application/vnd.jupyter.widget-view+json": {
       "model_id": "",
       "version_major": 2,
       "version_minor": 0
      },
      "text/plain": [
       "HBox(children=(FloatProgress(value=0.0, description='Training', layout=Layout(flex='2'), max=1125.0, style=Pro…"
      ]
     },
     "metadata": {},
     "output_type": "display_data"
    },
    {
     "name": "stdout",
     "output_type": "stream",
     "text": [
      "Epoch 614: train=1.05408, val=1.00885, took 36.985 s\n"
     ]
    },
    {
     "data": {
      "application/vnd.jupyter.widget-view+json": {
       "model_id": "",
       "version_major": 2,
       "version_minor": 0
      },
      "text/plain": [
       "HBox(children=(FloatProgress(value=0.0, description='Training', layout=Layout(flex='2'), max=1125.0, style=Pro…"
      ]
     },
     "metadata": {},
     "output_type": "display_data"
    },
    {
     "name": "stdout",
     "output_type": "stream",
     "text": [
      "Epoch 615: train=1.06491, val=1.05232, took 37.367 s\n"
     ]
    },
    {
     "data": {
      "application/vnd.jupyter.widget-view+json": {
       "model_id": "",
       "version_major": 2,
       "version_minor": 0
      },
      "text/plain": [
       "HBox(children=(FloatProgress(value=0.0, description='Training', layout=Layout(flex='2'), max=1125.0, style=Pro…"
      ]
     },
     "metadata": {},
     "output_type": "display_data"
    },
    {
     "name": "stdout",
     "output_type": "stream",
     "text": [
      "Epoch 616: train=1.06232, val=1.01188, took 37.013 s\n"
     ]
    },
    {
     "data": {
      "application/vnd.jupyter.widget-view+json": {
       "model_id": "",
       "version_major": 2,
       "version_minor": 0
      },
      "text/plain": [
       "HBox(children=(FloatProgress(value=0.0, description='Training', layout=Layout(flex='2'), max=1125.0, style=Pro…"
      ]
     },
     "metadata": {},
     "output_type": "display_data"
    },
    {
     "name": "stdout",
     "output_type": "stream",
     "text": [
      "Epoch 617: train=1.05239, val=1.00038, took 36.843 s\n"
     ]
    },
    {
     "data": {
      "application/vnd.jupyter.widget-view+json": {
       "model_id": "",
       "version_major": 2,
       "version_minor": 0
      },
      "text/plain": [
       "HBox(children=(FloatProgress(value=0.0, description='Training', layout=Layout(flex='2'), max=1125.0, style=Pro…"
      ]
     },
     "metadata": {},
     "output_type": "display_data"
    },
    {
     "name": "stdout",
     "output_type": "stream",
     "text": [
      "Epoch 618: train=1.05709, val=1.05051, took 36.874 s\n"
     ]
    },
    {
     "data": {
      "application/vnd.jupyter.widget-view+json": {
       "model_id": "",
       "version_major": 2,
       "version_minor": 0
      },
      "text/plain": [
       "HBox(children=(FloatProgress(value=0.0, description='Training', layout=Layout(flex='2'), max=1125.0, style=Pro…"
      ]
     },
     "metadata": {},
     "output_type": "display_data"
    },
    {
     "name": "stdout",
     "output_type": "stream",
     "text": [
      "Epoch 619: train=1.05792, val=1.01293, took 36.833 s\n"
     ]
    },
    {
     "data": {
      "application/vnd.jupyter.widget-view+json": {
       "model_id": "",
       "version_major": 2,
       "version_minor": 0
      },
      "text/plain": [
       "HBox(children=(FloatProgress(value=0.0, description='Training', layout=Layout(flex='2'), max=1125.0, style=Pro…"
      ]
     },
     "metadata": {},
     "output_type": "display_data"
    },
    {
     "name": "stdout",
     "output_type": "stream",
     "text": [
      "Epoch 620: train=1.05324, val=1.02245, took 37.005 s\n"
     ]
    },
    {
     "data": {
      "application/vnd.jupyter.widget-view+json": {
       "model_id": "",
       "version_major": 2,
       "version_minor": 0
      },
      "text/plain": [
       "HBox(children=(FloatProgress(value=0.0, description='Training', layout=Layout(flex='2'), max=1125.0, style=Pro…"
      ]
     },
     "metadata": {},
     "output_type": "display_data"
    },
    {
     "name": "stdout",
     "output_type": "stream",
     "text": [
      "Epoch 621: train=1.06136, val=1.00486, took 36.883 s\n"
     ]
    },
    {
     "data": {
      "application/vnd.jupyter.widget-view+json": {
       "model_id": "",
       "version_major": 2,
       "version_minor": 0
      },
      "text/plain": [
       "HBox(children=(FloatProgress(value=0.0, description='Training', layout=Layout(flex='2'), max=1125.0, style=Pro…"
      ]
     },
     "metadata": {},
     "output_type": "display_data"
    },
    {
     "name": "stdout",
     "output_type": "stream",
     "text": [
      "Epoch 622: train=1.05701, val=1.09655, took 36.946 s\n"
     ]
    },
    {
     "data": {
      "application/vnd.jupyter.widget-view+json": {
       "model_id": "",
       "version_major": 2,
       "version_minor": 0
      },
      "text/plain": [
       "HBox(children=(FloatProgress(value=0.0, description='Training', layout=Layout(flex='2'), max=1125.0, style=Pro…"
      ]
     },
     "metadata": {},
     "output_type": "display_data"
    },
    {
     "name": "stdout",
     "output_type": "stream",
     "text": [
      "Epoch 623: train=1.05874, val=1.00791, took 36.883 s\n"
     ]
    },
    {
     "data": {
      "application/vnd.jupyter.widget-view+json": {
       "model_id": "",
       "version_major": 2,
       "version_minor": 0
      },
      "text/plain": [
       "HBox(children=(FloatProgress(value=0.0, description='Training', layout=Layout(flex='2'), max=1125.0, style=Pro…"
      ]
     },
     "metadata": {},
     "output_type": "display_data"
    },
    {
     "name": "stdout",
     "output_type": "stream",
     "text": [
      "Epoch 624: train=1.05598, val=0.997623, took 37.034 s\n"
     ]
    },
    {
     "data": {
      "application/vnd.jupyter.widget-view+json": {
       "model_id": "",
       "version_major": 2,
       "version_minor": 0
      },
      "text/plain": [
       "HBox(children=(FloatProgress(value=0.0, description='Training', layout=Layout(flex='2'), max=1125.0, style=Pro…"
      ]
     },
     "metadata": {},
     "output_type": "display_data"
    },
    {
     "name": "stdout",
     "output_type": "stream",
     "text": [
      "Epoch 625: train=1.07106, val=1.00669, took 36.974 s\n"
     ]
    },
    {
     "data": {
      "application/vnd.jupyter.widget-view+json": {
       "model_id": "",
       "version_major": 2,
       "version_minor": 0
      },
      "text/plain": [
       "HBox(children=(FloatProgress(value=0.0, description='Training', layout=Layout(flex='2'), max=1125.0, style=Pro…"
      ]
     },
     "metadata": {},
     "output_type": "display_data"
    },
    {
     "name": "stdout",
     "output_type": "stream",
     "text": [
      "Epoch 626: train=1.04842, val=1.05962, took 37.012 s\n"
     ]
    },
    {
     "data": {
      "application/vnd.jupyter.widget-view+json": {
       "model_id": "",
       "version_major": 2,
       "version_minor": 0
      },
      "text/plain": [
       "HBox(children=(FloatProgress(value=0.0, description='Training', layout=Layout(flex='2'), max=1125.0, style=Pro…"
      ]
     },
     "metadata": {},
     "output_type": "display_data"
    },
    {
     "name": "stdout",
     "output_type": "stream",
     "text": [
      "Epoch 627: train=1.05537, val=1.00281, took 36.956 s\n"
     ]
    },
    {
     "data": {
      "application/vnd.jupyter.widget-view+json": {
       "model_id": "",
       "version_major": 2,
       "version_minor": 0
      },
      "text/plain": [
       "HBox(children=(FloatProgress(value=0.0, description='Training', layout=Layout(flex='2'), max=1125.0, style=Pro…"
      ]
     },
     "metadata": {},
     "output_type": "display_data"
    },
    {
     "name": "stdout",
     "output_type": "stream",
     "text": [
      "Epoch 628: train=1.05903, val=1.01735, took 37.004 s\n"
     ]
    },
    {
     "data": {
      "application/vnd.jupyter.widget-view+json": {
       "model_id": "",
       "version_major": 2,
       "version_minor": 0
      },
      "text/plain": [
       "HBox(children=(FloatProgress(value=0.0, description='Training', layout=Layout(flex='2'), max=1125.0, style=Pro…"
      ]
     },
     "metadata": {},
     "output_type": "display_data"
    },
    {
     "name": "stdout",
     "output_type": "stream",
     "text": [
      "Epoch 629: train=1.05495, val=1.00092, took 36.94 s\n"
     ]
    },
    {
     "data": {
      "application/vnd.jupyter.widget-view+json": {
       "model_id": "",
       "version_major": 2,
       "version_minor": 0
      },
      "text/plain": [
       "HBox(children=(FloatProgress(value=0.0, description='Training', layout=Layout(flex='2'), max=1125.0, style=Pro…"
      ]
     },
     "metadata": {},
     "output_type": "display_data"
    },
    {
     "name": "stdout",
     "output_type": "stream",
     "text": [
      "Epoch 630: train=1.04813, val=1.06088, took 36.921 s\n"
     ]
    },
    {
     "data": {
      "application/vnd.jupyter.widget-view+json": {
       "model_id": "",
       "version_major": 2,
       "version_minor": 0
      },
      "text/plain": [
       "HBox(children=(FloatProgress(value=0.0, description='Training', layout=Layout(flex='2'), max=1125.0, style=Pro…"
      ]
     },
     "metadata": {},
     "output_type": "display_data"
    },
    {
     "name": "stdout",
     "output_type": "stream",
     "text": [
      "Epoch 631: train=1.06369, val=1.01752, took 37.005 s\n"
     ]
    },
    {
     "data": {
      "application/vnd.jupyter.widget-view+json": {
       "model_id": "",
       "version_major": 2,
       "version_minor": 0
      },
      "text/plain": [
       "HBox(children=(FloatProgress(value=0.0, description='Training', layout=Layout(flex='2'), max=1125.0, style=Pro…"
      ]
     },
     "metadata": {},
     "output_type": "display_data"
    },
    {
     "name": "stdout",
     "output_type": "stream",
     "text": [
      "Epoch 632: train=1.05775, val=1.00726, took 36.855 s\n"
     ]
    },
    {
     "data": {
      "application/vnd.jupyter.widget-view+json": {
       "model_id": "",
       "version_major": 2,
       "version_minor": 0
      },
      "text/plain": [
       "HBox(children=(FloatProgress(value=0.0, description='Training', layout=Layout(flex='2'), max=1125.0, style=Pro…"
      ]
     },
     "metadata": {},
     "output_type": "display_data"
    },
    {
     "name": "stdout",
     "output_type": "stream",
     "text": [
      "Epoch 633: train=1.04805, val=1.02192, took 36.915 s\n"
     ]
    },
    {
     "data": {
      "application/vnd.jupyter.widget-view+json": {
       "model_id": "",
       "version_major": 2,
       "version_minor": 0
      },
      "text/plain": [
       "HBox(children=(FloatProgress(value=0.0, description='Training', layout=Layout(flex='2'), max=1125.0, style=Pro…"
      ]
     },
     "metadata": {},
     "output_type": "display_data"
    },
    {
     "name": "stdout",
     "output_type": "stream",
     "text": [
      "Epoch 634: train=1.04825, val=1.05234, took 36.911 s\n"
     ]
    },
    {
     "data": {
      "application/vnd.jupyter.widget-view+json": {
       "model_id": "",
       "version_major": 2,
       "version_minor": 0
      },
      "text/plain": [
       "HBox(children=(FloatProgress(value=0.0, description='Training', layout=Layout(flex='2'), max=1125.0, style=Pro…"
      ]
     },
     "metadata": {},
     "output_type": "display_data"
    },
    {
     "name": "stdout",
     "output_type": "stream",
     "text": [
      "Epoch 635: train=1.05687, val=1.04809, took 36.867 s\n"
     ]
    },
    {
     "data": {
      "application/vnd.jupyter.widget-view+json": {
       "model_id": "",
       "version_major": 2,
       "version_minor": 0
      },
      "text/plain": [
       "HBox(children=(FloatProgress(value=0.0, description='Training', layout=Layout(flex='2'), max=1125.0, style=Pro…"
      ]
     },
     "metadata": {},
     "output_type": "display_data"
    },
    {
     "name": "stdout",
     "output_type": "stream",
     "text": [
      "Epoch 636: train=1.0444, val=1.02107, took 36.876 s\n"
     ]
    },
    {
     "data": {
      "application/vnd.jupyter.widget-view+json": {
       "model_id": "",
       "version_major": 2,
       "version_minor": 0
      },
      "text/plain": [
       "HBox(children=(FloatProgress(value=0.0, description='Training', layout=Layout(flex='2'), max=1125.0, style=Pro…"
      ]
     },
     "metadata": {},
     "output_type": "display_data"
    },
    {
     "name": "stdout",
     "output_type": "stream",
     "text": [
      "Epoch 637: train=1.05398, val=1.03136, took 36.849 s\n"
     ]
    },
    {
     "data": {
      "application/vnd.jupyter.widget-view+json": {
       "model_id": "",
       "version_major": 2,
       "version_minor": 0
      },
      "text/plain": [
       "HBox(children=(FloatProgress(value=0.0, description='Training', layout=Layout(flex='2'), max=1125.0, style=Pro…"
      ]
     },
     "metadata": {},
     "output_type": "display_data"
    },
    {
     "name": "stdout",
     "output_type": "stream",
     "text": [
      "Epoch 638: train=1.05435, val=1.00288, took 37.076 s\n"
     ]
    },
    {
     "data": {
      "application/vnd.jupyter.widget-view+json": {
       "model_id": "",
       "version_major": 2,
       "version_minor": 0
      },
      "text/plain": [
       "HBox(children=(FloatProgress(value=0.0, description='Training', layout=Layout(flex='2'), max=1125.0, style=Pro…"
      ]
     },
     "metadata": {},
     "output_type": "display_data"
    },
    {
     "name": "stdout",
     "output_type": "stream",
     "text": [
      "Epoch 639: train=1.05997, val=1.0017, took 36.873 s\n"
     ]
    },
    {
     "data": {
      "application/vnd.jupyter.widget-view+json": {
       "model_id": "",
       "version_major": 2,
       "version_minor": 0
      },
      "text/plain": [
       "HBox(children=(FloatProgress(value=0.0, description='Training', layout=Layout(flex='2'), max=1125.0, style=Pro…"
      ]
     },
     "metadata": {},
     "output_type": "display_data"
    },
    {
     "name": "stdout",
     "output_type": "stream",
     "text": [
      "Epoch 640: train=1.04572, val=1.08219, took 36.858 s\n"
     ]
    },
    {
     "data": {
      "application/vnd.jupyter.widget-view+json": {
       "model_id": "",
       "version_major": 2,
       "version_minor": 0
      },
      "text/plain": [
       "HBox(children=(FloatProgress(value=0.0, description='Training', layout=Layout(flex='2'), max=1125.0, style=Pro…"
      ]
     },
     "metadata": {},
     "output_type": "display_data"
    },
    {
     "name": "stdout",
     "output_type": "stream",
     "text": [
      "Epoch 641: train=1.05294, val=1.03799, took 36.817 s\n"
     ]
    },
    {
     "data": {
      "application/vnd.jupyter.widget-view+json": {
       "model_id": "",
       "version_major": 2,
       "version_minor": 0
      },
      "text/plain": [
       "HBox(children=(FloatProgress(value=0.0, description='Training', layout=Layout(flex='2'), max=1125.0, style=Pro…"
      ]
     },
     "metadata": {},
     "output_type": "display_data"
    },
    {
     "name": "stdout",
     "output_type": "stream",
     "text": [
      "Epoch 642: train=1.04737, val=1.00343, took 36.931 s\n"
     ]
    },
    {
     "data": {
      "application/vnd.jupyter.widget-view+json": {
       "model_id": "",
       "version_major": 2,
       "version_minor": 0
      },
      "text/plain": [
       "HBox(children=(FloatProgress(value=0.0, description='Training', layout=Layout(flex='2'), max=1125.0, style=Pro…"
      ]
     },
     "metadata": {},
     "output_type": "display_data"
    },
    {
     "name": "stdout",
     "output_type": "stream",
     "text": [
      "Epoch 643: train=1.06572, val=1.31357, took 37.06 s\n"
     ]
    },
    {
     "data": {
      "application/vnd.jupyter.widget-view+json": {
       "model_id": "",
       "version_major": 2,
       "version_minor": 0
      },
      "text/plain": [
       "HBox(children=(FloatProgress(value=0.0, description='Training', layout=Layout(flex='2'), max=1125.0, style=Pro…"
      ]
     },
     "metadata": {},
     "output_type": "display_data"
    },
    {
     "name": "stdout",
     "output_type": "stream",
     "text": [
      "Epoch 644: train=1.04945, val=1.01564, took 36.959 s\n"
     ]
    },
    {
     "data": {
      "application/vnd.jupyter.widget-view+json": {
       "model_id": "",
       "version_major": 2,
       "version_minor": 0
      },
      "text/plain": [
       "HBox(children=(FloatProgress(value=0.0, description='Training', layout=Layout(flex='2'), max=1125.0, style=Pro…"
      ]
     },
     "metadata": {},
     "output_type": "display_data"
    },
    {
     "name": "stdout",
     "output_type": "stream",
     "text": [
      "Epoch 645: train=1.05432, val=1.03047, took 37.026 s\n"
     ]
    },
    {
     "data": {
      "application/vnd.jupyter.widget-view+json": {
       "model_id": "",
       "version_major": 2,
       "version_minor": 0
      },
      "text/plain": [
       "HBox(children=(FloatProgress(value=0.0, description='Training', layout=Layout(flex='2'), max=1125.0, style=Pro…"
      ]
     },
     "metadata": {},
     "output_type": "display_data"
    },
    {
     "name": "stdout",
     "output_type": "stream",
     "text": [
      "Epoch 646: train=1.05649, val=1.10711, took 37.048 s\n"
     ]
    },
    {
     "data": {
      "application/vnd.jupyter.widget-view+json": {
       "model_id": "",
       "version_major": 2,
       "version_minor": 0
      },
      "text/plain": [
       "HBox(children=(FloatProgress(value=0.0, description='Training', layout=Layout(flex='2'), max=1125.0, style=Pro…"
      ]
     },
     "metadata": {},
     "output_type": "display_data"
    },
    {
     "name": "stdout",
     "output_type": "stream",
     "text": [
      "Epoch 647: train=1.05653, val=1.0204, took 36.895 s\n"
     ]
    },
    {
     "data": {
      "application/vnd.jupyter.widget-view+json": {
       "model_id": "",
       "version_major": 2,
       "version_minor": 0
      },
      "text/plain": [
       "HBox(children=(FloatProgress(value=0.0, description='Training', layout=Layout(flex='2'), max=1125.0, style=Pro…"
      ]
     },
     "metadata": {},
     "output_type": "display_data"
    },
    {
     "name": "stdout",
     "output_type": "stream",
     "text": [
      "Epoch 648: train=1.05357, val=1.06818, took 36.974 s\n"
     ]
    },
    {
     "data": {
      "application/vnd.jupyter.widget-view+json": {
       "model_id": "",
       "version_major": 2,
       "version_minor": 0
      },
      "text/plain": [
       "HBox(children=(FloatProgress(value=0.0, description='Training', layout=Layout(flex='2'), max=1125.0, style=Pro…"
      ]
     },
     "metadata": {},
     "output_type": "display_data"
    },
    {
     "name": "stdout",
     "output_type": "stream",
     "text": [
      "Epoch 649: train=1.06495, val=1.00276, took 37.093 s\n"
     ]
    },
    {
     "data": {
      "application/vnd.jupyter.widget-view+json": {
       "model_id": "",
       "version_major": 2,
       "version_minor": 0
      },
      "text/plain": [
       "HBox(children=(FloatProgress(value=0.0, description='Training', layout=Layout(flex='2'), max=1125.0, style=Pro…"
      ]
     },
     "metadata": {},
     "output_type": "display_data"
    },
    {
     "name": "stdout",
     "output_type": "stream",
     "text": [
      "Epoch 650: train=1.0424, val=1.00465, took 37.01 s\n"
     ]
    },
    {
     "data": {
      "application/vnd.jupyter.widget-view+json": {
       "model_id": "",
       "version_major": 2,
       "version_minor": 0
      },
      "text/plain": [
       "HBox(children=(FloatProgress(value=0.0, description='Training', layout=Layout(flex='2'), max=1125.0, style=Pro…"
      ]
     },
     "metadata": {},
     "output_type": "display_data"
    },
    {
     "name": "stdout",
     "output_type": "stream",
     "text": [
      "Epoch 651: train=1.07458, val=1.0384, took 36.923 s\n"
     ]
    },
    {
     "data": {
      "application/vnd.jupyter.widget-view+json": {
       "model_id": "",
       "version_major": 2,
       "version_minor": 0
      },
      "text/plain": [
       "HBox(children=(FloatProgress(value=0.0, description='Training', layout=Layout(flex='2'), max=1125.0, style=Pro…"
      ]
     },
     "metadata": {},
     "output_type": "display_data"
    },
    {
     "name": "stdout",
     "output_type": "stream",
     "text": [
      "Epoch 652: train=1.04131, val=1.02903, took 36.841 s\n"
     ]
    },
    {
     "data": {
      "application/vnd.jupyter.widget-view+json": {
       "model_id": "",
       "version_major": 2,
       "version_minor": 0
      },
      "text/plain": [
       "HBox(children=(FloatProgress(value=0.0, description='Training', layout=Layout(flex='2'), max=1125.0, style=Pro…"
      ]
     },
     "metadata": {},
     "output_type": "display_data"
    },
    {
     "name": "stdout",
     "output_type": "stream",
     "text": [
      "Epoch 653: train=1.05267, val=0.995933, took 36.881 s\n"
     ]
    },
    {
     "data": {
      "application/vnd.jupyter.widget-view+json": {
       "model_id": "",
       "version_major": 2,
       "version_minor": 0
      },
      "text/plain": [
       "HBox(children=(FloatProgress(value=0.0, description='Training', layout=Layout(flex='2'), max=1125.0, style=Pro…"
      ]
     },
     "metadata": {},
     "output_type": "display_data"
    },
    {
     "name": "stdout",
     "output_type": "stream",
     "text": [
      "Epoch 654: train=1.04589, val=1.01509, took 37.049 s\n"
     ]
    },
    {
     "data": {
      "application/vnd.jupyter.widget-view+json": {
       "model_id": "",
       "version_major": 2,
       "version_minor": 0
      },
      "text/plain": [
       "HBox(children=(FloatProgress(value=0.0, description='Training', layout=Layout(flex='2'), max=1125.0, style=Pro…"
      ]
     },
     "metadata": {},
     "output_type": "display_data"
    },
    {
     "name": "stdout",
     "output_type": "stream",
     "text": [
      "Epoch 655: train=1.05301, val=0.997081, took 36.959 s\n"
     ]
    },
    {
     "data": {
      "application/vnd.jupyter.widget-view+json": {
       "model_id": "",
       "version_major": 2,
       "version_minor": 0
      },
      "text/plain": [
       "HBox(children=(FloatProgress(value=0.0, description='Training', layout=Layout(flex='2'), max=1125.0, style=Pro…"
      ]
     },
     "metadata": {},
     "output_type": "display_data"
    },
    {
     "name": "stdout",
     "output_type": "stream",
     "text": [
      "Epoch 656: train=1.05119, val=1.01248, took 37.02 s\n"
     ]
    },
    {
     "data": {
      "application/vnd.jupyter.widget-view+json": {
       "model_id": "",
       "version_major": 2,
       "version_minor": 0
      },
      "text/plain": [
       "HBox(children=(FloatProgress(value=0.0, description='Training', layout=Layout(flex='2'), max=1125.0, style=Pro…"
      ]
     },
     "metadata": {},
     "output_type": "display_data"
    },
    {
     "name": "stdout",
     "output_type": "stream",
     "text": [
      "Epoch 657: train=1.05323, val=1.05771, took 37.199 s\n"
     ]
    },
    {
     "data": {
      "application/vnd.jupyter.widget-view+json": {
       "model_id": "",
       "version_major": 2,
       "version_minor": 0
      },
      "text/plain": [
       "HBox(children=(FloatProgress(value=0.0, description='Training', layout=Layout(flex='2'), max=1125.0, style=Pro…"
      ]
     },
     "metadata": {},
     "output_type": "display_data"
    },
    {
     "name": "stdout",
     "output_type": "stream",
     "text": [
      "Epoch 658: train=1.04466, val=0.995857, took 36.921 s\n"
     ]
    },
    {
     "data": {
      "application/vnd.jupyter.widget-view+json": {
       "model_id": "",
       "version_major": 2,
       "version_minor": 0
      },
      "text/plain": [
       "HBox(children=(FloatProgress(value=0.0, description='Training', layout=Layout(flex='2'), max=1125.0, style=Pro…"
      ]
     },
     "metadata": {},
     "output_type": "display_data"
    },
    {
     "name": "stdout",
     "output_type": "stream",
     "text": [
      "Epoch 659: train=1.04482, val=1.01029, took 36.978 s\n"
     ]
    },
    {
     "data": {
      "application/vnd.jupyter.widget-view+json": {
       "model_id": "",
       "version_major": 2,
       "version_minor": 0
      },
      "text/plain": [
       "HBox(children=(FloatProgress(value=0.0, description='Training', layout=Layout(flex='2'), max=1125.0, style=Pro…"
      ]
     },
     "metadata": {},
     "output_type": "display_data"
    },
    {
     "name": "stdout",
     "output_type": "stream",
     "text": [
      "Epoch 660: train=1.05106, val=1.00525, took 36.931 s\n"
     ]
    },
    {
     "data": {
      "application/vnd.jupyter.widget-view+json": {
       "model_id": "",
       "version_major": 2,
       "version_minor": 0
      },
      "text/plain": [
       "HBox(children=(FloatProgress(value=0.0, description='Training', layout=Layout(flex='2'), max=1125.0, style=Pro…"
      ]
     },
     "metadata": {},
     "output_type": "display_data"
    },
    {
     "name": "stdout",
     "output_type": "stream",
     "text": [
      "Epoch 661: train=1.05285, val=0.995806, took 37.077 s\n"
     ]
    },
    {
     "data": {
      "application/vnd.jupyter.widget-view+json": {
       "model_id": "",
       "version_major": 2,
       "version_minor": 0
      },
      "text/plain": [
       "HBox(children=(FloatProgress(value=0.0, description='Training', layout=Layout(flex='2'), max=1125.0, style=Pro…"
      ]
     },
     "metadata": {},
     "output_type": "display_data"
    },
    {
     "name": "stdout",
     "output_type": "stream",
     "text": [
      "Epoch 662: train=1.06315, val=1.00068, took 36.962 s\n"
     ]
    },
    {
     "data": {
      "application/vnd.jupyter.widget-view+json": {
       "model_id": "",
       "version_major": 2,
       "version_minor": 0
      },
      "text/plain": [
       "HBox(children=(FloatProgress(value=0.0, description='Training', layout=Layout(flex='2'), max=1125.0, style=Pro…"
      ]
     },
     "metadata": {},
     "output_type": "display_data"
    },
    {
     "name": "stdout",
     "output_type": "stream",
     "text": [
      "Epoch 663: train=1.05557, val=0.998881, took 36.914 s\n"
     ]
    },
    {
     "data": {
      "application/vnd.jupyter.widget-view+json": {
       "model_id": "",
       "version_major": 2,
       "version_minor": 0
      },
      "text/plain": [
       "HBox(children=(FloatProgress(value=0.0, description='Training', layout=Layout(flex='2'), max=1125.0, style=Pro…"
      ]
     },
     "metadata": {},
     "output_type": "display_data"
    },
    {
     "name": "stdout",
     "output_type": "stream",
     "text": [
      "Epoch 664: train=1.0467, val=1.02403, took 37.086 s\n"
     ]
    },
    {
     "data": {
      "application/vnd.jupyter.widget-view+json": {
       "model_id": "",
       "version_major": 2,
       "version_minor": 0
      },
      "text/plain": [
       "HBox(children=(FloatProgress(value=0.0, description='Training', layout=Layout(flex='2'), max=1125.0, style=Pro…"
      ]
     },
     "metadata": {},
     "output_type": "display_data"
    },
    {
     "name": "stdout",
     "output_type": "stream",
     "text": [
      "Epoch 665: train=1.05713, val=1.02053, took 37.131 s\n"
     ]
    },
    {
     "data": {
      "application/vnd.jupyter.widget-view+json": {
       "model_id": "",
       "version_major": 2,
       "version_minor": 0
      },
      "text/plain": [
       "HBox(children=(FloatProgress(value=0.0, description='Training', layout=Layout(flex='2'), max=1125.0, style=Pro…"
      ]
     },
     "metadata": {},
     "output_type": "display_data"
    },
    {
     "name": "stdout",
     "output_type": "stream",
     "text": [
      "Epoch 666: train=1.06098, val=1.01766, took 37.296 s\n"
     ]
    },
    {
     "data": {
      "application/vnd.jupyter.widget-view+json": {
       "model_id": "",
       "version_major": 2,
       "version_minor": 0
      },
      "text/plain": [
       "HBox(children=(FloatProgress(value=0.0, description='Training', layout=Layout(flex='2'), max=1125.0, style=Pro…"
      ]
     },
     "metadata": {},
     "output_type": "display_data"
    },
    {
     "name": "stdout",
     "output_type": "stream",
     "text": [
      "Epoch 667: train=1.05566, val=1.05974, took 36.974 s\n"
     ]
    },
    {
     "data": {
      "application/vnd.jupyter.widget-view+json": {
       "model_id": "",
       "version_major": 2,
       "version_minor": 0
      },
      "text/plain": [
       "HBox(children=(FloatProgress(value=0.0, description='Training', layout=Layout(flex='2'), max=1125.0, style=Pro…"
      ]
     },
     "metadata": {},
     "output_type": "display_data"
    },
    {
     "name": "stdout",
     "output_type": "stream",
     "text": [
      "Epoch 668: train=1.04531, val=1.00065, took 36.874 s\n"
     ]
    },
    {
     "data": {
      "application/vnd.jupyter.widget-view+json": {
       "model_id": "",
       "version_major": 2,
       "version_minor": 0
      },
      "text/plain": [
       "HBox(children=(FloatProgress(value=0.0, description='Training', layout=Layout(flex='2'), max=1125.0, style=Pro…"
      ]
     },
     "metadata": {},
     "output_type": "display_data"
    },
    {
     "name": "stdout",
     "output_type": "stream",
     "text": [
      "Epoch 669: train=1.04507, val=1.01644, took 36.973 s\n"
     ]
    },
    {
     "data": {
      "application/vnd.jupyter.widget-view+json": {
       "model_id": "",
       "version_major": 2,
       "version_minor": 0
      },
      "text/plain": [
       "HBox(children=(FloatProgress(value=0.0, description='Training', layout=Layout(flex='2'), max=1125.0, style=Pro…"
      ]
     },
     "metadata": {},
     "output_type": "display_data"
    },
    {
     "name": "stdout",
     "output_type": "stream",
     "text": [
      "Epoch 670: train=1.05477, val=1.05647, took 36.885 s\n"
     ]
    },
    {
     "data": {
      "application/vnd.jupyter.widget-view+json": {
       "model_id": "",
       "version_major": 2,
       "version_minor": 0
      },
      "text/plain": [
       "HBox(children=(FloatProgress(value=0.0, description='Training', layout=Layout(flex='2'), max=1125.0, style=Pro…"
      ]
     },
     "metadata": {},
     "output_type": "display_data"
    },
    {
     "name": "stdout",
     "output_type": "stream",
     "text": [
      "Epoch 671: train=1.05729, val=1.02386, took 36.913 s\n"
     ]
    },
    {
     "data": {
      "application/vnd.jupyter.widget-view+json": {
       "model_id": "",
       "version_major": 2,
       "version_minor": 0
      },
      "text/plain": [
       "HBox(children=(FloatProgress(value=0.0, description='Training', layout=Layout(flex='2'), max=1125.0, style=Pro…"
      ]
     },
     "metadata": {},
     "output_type": "display_data"
    },
    {
     "name": "stdout",
     "output_type": "stream",
     "text": [
      "Epoch 672: train=1.05707, val=1.03102, took 36.937 s\n"
     ]
    },
    {
     "data": {
      "application/vnd.jupyter.widget-view+json": {
       "model_id": "",
       "version_major": 2,
       "version_minor": 0
      },
      "text/plain": [
       "HBox(children=(FloatProgress(value=0.0, description='Training', layout=Layout(flex='2'), max=1125.0, style=Pro…"
      ]
     },
     "metadata": {},
     "output_type": "display_data"
    },
    {
     "name": "stdout",
     "output_type": "stream",
     "text": [
      "Epoch 673: train=1.04387, val=1.01569, took 36.811 s\n"
     ]
    },
    {
     "data": {
      "application/vnd.jupyter.widget-view+json": {
       "model_id": "",
       "version_major": 2,
       "version_minor": 0
      },
      "text/plain": [
       "HBox(children=(FloatProgress(value=0.0, description='Training', layout=Layout(flex='2'), max=1125.0, style=Pro…"
      ]
     },
     "metadata": {},
     "output_type": "display_data"
    },
    {
     "name": "stdout",
     "output_type": "stream",
     "text": [
      "Epoch 674: train=1.05238, val=1.23664, took 37.07 s\n"
     ]
    },
    {
     "data": {
      "application/vnd.jupyter.widget-view+json": {
       "model_id": "",
       "version_major": 2,
       "version_minor": 0
      },
      "text/plain": [
       "HBox(children=(FloatProgress(value=0.0, description='Training', layout=Layout(flex='2'), max=1125.0, style=Pro…"
      ]
     },
     "metadata": {},
     "output_type": "display_data"
    },
    {
     "name": "stdout",
     "output_type": "stream",
     "text": [
      "Epoch 675: train=1.04183, val=1.00226, took 36.958 s\n"
     ]
    },
    {
     "data": {
      "application/vnd.jupyter.widget-view+json": {
       "model_id": "",
       "version_major": 2,
       "version_minor": 0
      },
      "text/plain": [
       "HBox(children=(FloatProgress(value=0.0, description='Training', layout=Layout(flex='2'), max=1125.0, style=Pro…"
      ]
     },
     "metadata": {},
     "output_type": "display_data"
    },
    {
     "name": "stdout",
     "output_type": "stream",
     "text": [
      "Epoch 676: train=1.05, val=1.00051, took 37.018 s\n"
     ]
    },
    {
     "data": {
      "application/vnd.jupyter.widget-view+json": {
       "model_id": "",
       "version_major": 2,
       "version_minor": 0
      },
      "text/plain": [
       "HBox(children=(FloatProgress(value=0.0, description='Training', layout=Layout(flex='2'), max=1125.0, style=Pro…"
      ]
     },
     "metadata": {},
     "output_type": "display_data"
    },
    {
     "name": "stdout",
     "output_type": "stream",
     "text": [
      "Epoch 677: train=1.04213, val=1.18161, took 37.112 s\n"
     ]
    },
    {
     "data": {
      "application/vnd.jupyter.widget-view+json": {
       "model_id": "",
       "version_major": 2,
       "version_minor": 0
      },
      "text/plain": [
       "HBox(children=(FloatProgress(value=0.0, description='Training', layout=Layout(flex='2'), max=1125.0, style=Pro…"
      ]
     },
     "metadata": {},
     "output_type": "display_data"
    },
    {
     "name": "stdout",
     "output_type": "stream",
     "text": [
      "Epoch 678: train=1.05462, val=1.03942, took 36.892 s\n"
     ]
    },
    {
     "data": {
      "application/vnd.jupyter.widget-view+json": {
       "model_id": "",
       "version_major": 2,
       "version_minor": 0
      },
      "text/plain": [
       "HBox(children=(FloatProgress(value=0.0, description='Training', layout=Layout(flex='2'), max=1125.0, style=Pro…"
      ]
     },
     "metadata": {},
     "output_type": "display_data"
    },
    {
     "name": "stdout",
     "output_type": "stream",
     "text": [
      "Epoch 679: train=1.04311, val=1.04906, took 36.924 s\n"
     ]
    },
    {
     "data": {
      "application/vnd.jupyter.widget-view+json": {
       "model_id": "",
       "version_major": 2,
       "version_minor": 0
      },
      "text/plain": [
       "HBox(children=(FloatProgress(value=0.0, description='Training', layout=Layout(flex='2'), max=1125.0, style=Pro…"
      ]
     },
     "metadata": {},
     "output_type": "display_data"
    },
    {
     "name": "stdout",
     "output_type": "stream",
     "text": [
      "Epoch 680: train=1.05708, val=1.08671, took 37.072 s\n"
     ]
    },
    {
     "data": {
      "application/vnd.jupyter.widget-view+json": {
       "model_id": "",
       "version_major": 2,
       "version_minor": 0
      },
      "text/plain": [
       "HBox(children=(FloatProgress(value=0.0, description='Training', layout=Layout(flex='2'), max=1125.0, style=Pro…"
      ]
     },
     "metadata": {},
     "output_type": "display_data"
    },
    {
     "name": "stdout",
     "output_type": "stream",
     "text": [
      "Epoch 681: train=1.0463, val=1.04735, took 36.938 s\n"
     ]
    },
    {
     "data": {
      "application/vnd.jupyter.widget-view+json": {
       "model_id": "",
       "version_major": 2,
       "version_minor": 0
      },
      "text/plain": [
       "HBox(children=(FloatProgress(value=0.0, description='Training', layout=Layout(flex='2'), max=1125.0, style=Pro…"
      ]
     },
     "metadata": {},
     "output_type": "display_data"
    },
    {
     "name": "stdout",
     "output_type": "stream",
     "text": [
      "Epoch 682: train=1.06178, val=1.00109, took 37.038 s\n"
     ]
    },
    {
     "data": {
      "application/vnd.jupyter.widget-view+json": {
       "model_id": "",
       "version_major": 2,
       "version_minor": 0
      },
      "text/plain": [
       "HBox(children=(FloatProgress(value=0.0, description='Training', layout=Layout(flex='2'), max=1125.0, style=Pro…"
      ]
     },
     "metadata": {},
     "output_type": "display_data"
    },
    {
     "name": "stdout",
     "output_type": "stream",
     "text": [
      "Epoch 683: train=1.05447, val=1.011, took 36.844 s\n"
     ]
    },
    {
     "data": {
      "application/vnd.jupyter.widget-view+json": {
       "model_id": "",
       "version_major": 2,
       "version_minor": 0
      },
      "text/plain": [
       "HBox(children=(FloatProgress(value=0.0, description='Training', layout=Layout(flex='2'), max=1125.0, style=Pro…"
      ]
     },
     "metadata": {},
     "output_type": "display_data"
    },
    {
     "name": "stdout",
     "output_type": "stream",
     "text": [
      "Epoch 684: train=1.04706, val=1.07727, took 36.865 s\n"
     ]
    },
    {
     "data": {
      "application/vnd.jupyter.widget-view+json": {
       "model_id": "",
       "version_major": 2,
       "version_minor": 0
      },
      "text/plain": [
       "HBox(children=(FloatProgress(value=0.0, description='Training', layout=Layout(flex='2'), max=1125.0, style=Pro…"
      ]
     },
     "metadata": {},
     "output_type": "display_data"
    },
    {
     "name": "stdout",
     "output_type": "stream",
     "text": [
      "Epoch 685: train=1.04664, val=1.00363, took 36.914 s\n"
     ]
    },
    {
     "data": {
      "application/vnd.jupyter.widget-view+json": {
       "model_id": "",
       "version_major": 2,
       "version_minor": 0
      },
      "text/plain": [
       "HBox(children=(FloatProgress(value=0.0, description='Training', layout=Layout(flex='2'), max=1125.0, style=Pro…"
      ]
     },
     "metadata": {},
     "output_type": "display_data"
    },
    {
     "name": "stdout",
     "output_type": "stream",
     "text": [
      "Epoch 686: train=1.0551, val=1.13064, took 36.946 s\n"
     ]
    },
    {
     "data": {
      "application/vnd.jupyter.widget-view+json": {
       "model_id": "",
       "version_major": 2,
       "version_minor": 0
      },
      "text/plain": [
       "HBox(children=(FloatProgress(value=0.0, description='Training', layout=Layout(flex='2'), max=1125.0, style=Pro…"
      ]
     },
     "metadata": {},
     "output_type": "display_data"
    },
    {
     "name": "stdout",
     "output_type": "stream",
     "text": [
      "Epoch 687: train=1.0543, val=1.09146, took 36.989 s\n"
     ]
    },
    {
     "data": {
      "application/vnd.jupyter.widget-view+json": {
       "model_id": "",
       "version_major": 2,
       "version_minor": 0
      },
      "text/plain": [
       "HBox(children=(FloatProgress(value=0.0, description='Training', layout=Layout(flex='2'), max=1125.0, style=Pro…"
      ]
     },
     "metadata": {},
     "output_type": "display_data"
    },
    {
     "name": "stdout",
     "output_type": "stream",
     "text": [
      "Epoch 688: train=1.04689, val=1.03775, took 37.011 s\n"
     ]
    },
    {
     "data": {
      "application/vnd.jupyter.widget-view+json": {
       "model_id": "",
       "version_major": 2,
       "version_minor": 0
      },
      "text/plain": [
       "HBox(children=(FloatProgress(value=0.0, description='Training', layout=Layout(flex='2'), max=1125.0, style=Pro…"
      ]
     },
     "metadata": {},
     "output_type": "display_data"
    },
    {
     "name": "stdout",
     "output_type": "stream",
     "text": [
      "Epoch 689: train=1.05087, val=1.01817, took 37.087 s\n"
     ]
    },
    {
     "data": {
      "application/vnd.jupyter.widget-view+json": {
       "model_id": "",
       "version_major": 2,
       "version_minor": 0
      },
      "text/plain": [
       "HBox(children=(FloatProgress(value=0.0, description='Training', layout=Layout(flex='2'), max=1125.0, style=Pro…"
      ]
     },
     "metadata": {},
     "output_type": "display_data"
    },
    {
     "name": "stdout",
     "output_type": "stream",
     "text": [
      "Epoch 690: train=1.05444, val=1.06564, took 36.99 s\n"
     ]
    },
    {
     "data": {
      "application/vnd.jupyter.widget-view+json": {
       "model_id": "",
       "version_major": 2,
       "version_minor": 0
      },
      "text/plain": [
       "HBox(children=(FloatProgress(value=0.0, description='Training', layout=Layout(flex='2'), max=1125.0, style=Pro…"
      ]
     },
     "metadata": {},
     "output_type": "display_data"
    },
    {
     "name": "stdout",
     "output_type": "stream",
     "text": [
      "Epoch 691: train=1.06792, val=0.998854, took 36.941 s\n"
     ]
    },
    {
     "data": {
      "application/vnd.jupyter.widget-view+json": {
       "model_id": "",
       "version_major": 2,
       "version_minor": 0
      },
      "text/plain": [
       "HBox(children=(FloatProgress(value=0.0, description='Training', layout=Layout(flex='2'), max=1125.0, style=Pro…"
      ]
     },
     "metadata": {},
     "output_type": "display_data"
    },
    {
     "name": "stdout",
     "output_type": "stream",
     "text": [
      "Epoch 692: train=1.03745, val=1.03347, took 36.888 s\n"
     ]
    },
    {
     "data": {
      "application/vnd.jupyter.widget-view+json": {
       "model_id": "",
       "version_major": 2,
       "version_minor": 0
      },
      "text/plain": [
       "HBox(children=(FloatProgress(value=0.0, description='Training', layout=Layout(flex='2'), max=1125.0, style=Pro…"
      ]
     },
     "metadata": {},
     "output_type": "display_data"
    },
    {
     "name": "stdout",
     "output_type": "stream",
     "text": [
      "Epoch 693: train=1.05936, val=1.10461, took 37.008 s\n"
     ]
    },
    {
     "data": {
      "application/vnd.jupyter.widget-view+json": {
       "model_id": "",
       "version_major": 2,
       "version_minor": 0
      },
      "text/plain": [
       "HBox(children=(FloatProgress(value=0.0, description='Training', layout=Layout(flex='2'), max=1125.0, style=Pro…"
      ]
     },
     "metadata": {},
     "output_type": "display_data"
    },
    {
     "name": "stdout",
     "output_type": "stream",
     "text": [
      "Epoch 694: train=1.04124, val=0.994722, took 36.941 s\n"
     ]
    },
    {
     "data": {
      "application/vnd.jupyter.widget-view+json": {
       "model_id": "",
       "version_major": 2,
       "version_minor": 0
      },
      "text/plain": [
       "HBox(children=(FloatProgress(value=0.0, description='Training', layout=Layout(flex='2'), max=1125.0, style=Pro…"
      ]
     },
     "metadata": {},
     "output_type": "display_data"
    },
    {
     "name": "stdout",
     "output_type": "stream",
     "text": [
      "Epoch 695: train=1.0528, val=1.00794, took 37.047 s\n"
     ]
    },
    {
     "data": {
      "application/vnd.jupyter.widget-view+json": {
       "model_id": "",
       "version_major": 2,
       "version_minor": 0
      },
      "text/plain": [
       "HBox(children=(FloatProgress(value=0.0, description='Training', layout=Layout(flex='2'), max=1125.0, style=Pro…"
      ]
     },
     "metadata": {},
     "output_type": "display_data"
    },
    {
     "name": "stdout",
     "output_type": "stream",
     "text": [
      "Epoch 696: train=1.04874, val=0.995591, took 37.128 s\n"
     ]
    },
    {
     "data": {
      "application/vnd.jupyter.widget-view+json": {
       "model_id": "",
       "version_major": 2,
       "version_minor": 0
      },
      "text/plain": [
       "HBox(children=(FloatProgress(value=0.0, description='Training', layout=Layout(flex='2'), max=1125.0, style=Pro…"
      ]
     },
     "metadata": {},
     "output_type": "display_data"
    },
    {
     "name": "stdout",
     "output_type": "stream",
     "text": [
      "Epoch 697: train=1.05292, val=1.01185, took 36.906 s\n"
     ]
    },
    {
     "data": {
      "application/vnd.jupyter.widget-view+json": {
       "model_id": "",
       "version_major": 2,
       "version_minor": 0
      },
      "text/plain": [
       "HBox(children=(FloatProgress(value=0.0, description='Training', layout=Layout(flex='2'), max=1125.0, style=Pro…"
      ]
     },
     "metadata": {},
     "output_type": "display_data"
    },
    {
     "name": "stdout",
     "output_type": "stream",
     "text": [
      "Epoch 698: train=1.03715, val=1.06641, took 37.177 s\n"
     ]
    },
    {
     "data": {
      "application/vnd.jupyter.widget-view+json": {
       "model_id": "",
       "version_major": 2,
       "version_minor": 0
      },
      "text/plain": [
       "HBox(children=(FloatProgress(value=0.0, description='Training', layout=Layout(flex='2'), max=1125.0, style=Pro…"
      ]
     },
     "metadata": {},
     "output_type": "display_data"
    },
    {
     "name": "stdout",
     "output_type": "stream",
     "text": [
      "Epoch 699: train=1.04775, val=1.10996, took 37.219 s\n"
     ]
    },
    {
     "data": {
      "application/vnd.jupyter.widget-view+json": {
       "model_id": "",
       "version_major": 2,
       "version_minor": 0
      },
      "text/plain": [
       "HBox(children=(FloatProgress(value=0.0, description='Training', layout=Layout(flex='2'), max=1125.0, style=Pro…"
      ]
     },
     "metadata": {},
     "output_type": "display_data"
    },
    {
     "name": "stdout",
     "output_type": "stream",
     "text": [
      "Epoch 700: train=1.04708, val=1.01521, took 36.911 s\n"
     ]
    },
    {
     "data": {
      "application/vnd.jupyter.widget-view+json": {
       "model_id": "",
       "version_major": 2,
       "version_minor": 0
      },
      "text/plain": [
       "HBox(children=(FloatProgress(value=0.0, description='Training', layout=Layout(flex='2'), max=1125.0, style=Pro…"
      ]
     },
     "metadata": {},
     "output_type": "display_data"
    },
    {
     "name": "stdout",
     "output_type": "stream",
     "text": [
      "Epoch 701: train=1.04654, val=1.00596, took 36.951 s\n"
     ]
    },
    {
     "data": {
      "application/vnd.jupyter.widget-view+json": {
       "model_id": "",
       "version_major": 2,
       "version_minor": 0
      },
      "text/plain": [
       "HBox(children=(FloatProgress(value=0.0, description='Training', layout=Layout(flex='2'), max=1125.0, style=Pro…"
      ]
     },
     "metadata": {},
     "output_type": "display_data"
    },
    {
     "name": "stdout",
     "output_type": "stream",
     "text": [
      "Epoch 702: train=1.04878, val=1.08948, took 36.936 s\n"
     ]
    },
    {
     "data": {
      "application/vnd.jupyter.widget-view+json": {
       "model_id": "",
       "version_major": 2,
       "version_minor": 0
      },
      "text/plain": [
       "HBox(children=(FloatProgress(value=0.0, description='Training', layout=Layout(flex='2'), max=1125.0, style=Pro…"
      ]
     },
     "metadata": {},
     "output_type": "display_data"
    },
    {
     "name": "stdout",
     "output_type": "stream",
     "text": [
      "Epoch 703: train=1.05744, val=0.997581, took 37.509 s\n"
     ]
    },
    {
     "data": {
      "application/vnd.jupyter.widget-view+json": {
       "model_id": "",
       "version_major": 2,
       "version_minor": 0
      },
      "text/plain": [
       "HBox(children=(FloatProgress(value=0.0, description='Training', layout=Layout(flex='2'), max=1125.0, style=Pro…"
      ]
     },
     "metadata": {},
     "output_type": "display_data"
    },
    {
     "name": "stdout",
     "output_type": "stream",
     "text": [
      "Epoch 704: train=1.04975, val=0.998689, took 37.278 s\n"
     ]
    },
    {
     "data": {
      "application/vnd.jupyter.widget-view+json": {
       "model_id": "",
       "version_major": 2,
       "version_minor": 0
      },
      "text/plain": [
       "HBox(children=(FloatProgress(value=0.0, description='Training', layout=Layout(flex='2'), max=1125.0, style=Pro…"
      ]
     },
     "metadata": {},
     "output_type": "display_data"
    },
    {
     "name": "stdout",
     "output_type": "stream",
     "text": [
      "Epoch 705: train=1.04186, val=1.01125, took 37.048 s\n"
     ]
    },
    {
     "data": {
      "application/vnd.jupyter.widget-view+json": {
       "model_id": "",
       "version_major": 2,
       "version_minor": 0
      },
      "text/plain": [
       "HBox(children=(FloatProgress(value=0.0, description='Training', layout=Layout(flex='2'), max=1125.0, style=Pro…"
      ]
     },
     "metadata": {},
     "output_type": "display_data"
    },
    {
     "name": "stdout",
     "output_type": "stream",
     "text": [
      "Epoch 706: train=1.05207, val=1.00473, took 37.058 s\n"
     ]
    },
    {
     "data": {
      "application/vnd.jupyter.widget-view+json": {
       "model_id": "",
       "version_major": 2,
       "version_minor": 0
      },
      "text/plain": [
       "HBox(children=(FloatProgress(value=0.0, description='Training', layout=Layout(flex='2'), max=1125.0, style=Pro…"
      ]
     },
     "metadata": {},
     "output_type": "display_data"
    },
    {
     "name": "stdout",
     "output_type": "stream",
     "text": [
      "Epoch 707: train=1.04885, val=1.00867, took 36.91 s\n"
     ]
    },
    {
     "data": {
      "application/vnd.jupyter.widget-view+json": {
       "model_id": "",
       "version_major": 2,
       "version_minor": 0
      },
      "text/plain": [
       "HBox(children=(FloatProgress(value=0.0, description='Training', layout=Layout(flex='2'), max=1125.0, style=Pro…"
      ]
     },
     "metadata": {},
     "output_type": "display_data"
    },
    {
     "name": "stdout",
     "output_type": "stream",
     "text": [
      "Epoch 708: train=1.04388, val=1.00442, took 36.988 s\n"
     ]
    },
    {
     "data": {
      "application/vnd.jupyter.widget-view+json": {
       "model_id": "",
       "version_major": 2,
       "version_minor": 0
      },
      "text/plain": [
       "HBox(children=(FloatProgress(value=0.0, description='Training', layout=Layout(flex='2'), max=1125.0, style=Pro…"
      ]
     },
     "metadata": {},
     "output_type": "display_data"
    },
    {
     "name": "stdout",
     "output_type": "stream",
     "text": [
      "Epoch 709: train=1.03737, val=1.00406, took 37.012 s\n"
     ]
    },
    {
     "data": {
      "application/vnd.jupyter.widget-view+json": {
       "model_id": "",
       "version_major": 2,
       "version_minor": 0
      },
      "text/plain": [
       "HBox(children=(FloatProgress(value=0.0, description='Training', layout=Layout(flex='2'), max=1125.0, style=Pro…"
      ]
     },
     "metadata": {},
     "output_type": "display_data"
    },
    {
     "name": "stdout",
     "output_type": "stream",
     "text": [
      "Epoch 710: train=1.05631, val=1.10206, took 36.908 s\n"
     ]
    },
    {
     "data": {
      "application/vnd.jupyter.widget-view+json": {
       "model_id": "",
       "version_major": 2,
       "version_minor": 0
      },
      "text/plain": [
       "HBox(children=(FloatProgress(value=0.0, description='Training', layout=Layout(flex='2'), max=1125.0, style=Pro…"
      ]
     },
     "metadata": {},
     "output_type": "display_data"
    },
    {
     "name": "stdout",
     "output_type": "stream",
     "text": [
      "Epoch 711: train=1.0492, val=1.00077, took 36.965 s\n"
     ]
    },
    {
     "data": {
      "application/vnd.jupyter.widget-view+json": {
       "model_id": "",
       "version_major": 2,
       "version_minor": 0
      },
      "text/plain": [
       "HBox(children=(FloatProgress(value=0.0, description='Training', layout=Layout(flex='2'), max=1125.0, style=Pro…"
      ]
     },
     "metadata": {},
     "output_type": "display_data"
    },
    {
     "name": "stdout",
     "output_type": "stream",
     "text": [
      "Epoch 712: train=1.04163, val=1.08223, took 37.018 s\n"
     ]
    },
    {
     "data": {
      "application/vnd.jupyter.widget-view+json": {
       "model_id": "",
       "version_major": 2,
       "version_minor": 0
      },
      "text/plain": [
       "HBox(children=(FloatProgress(value=0.0, description='Training', layout=Layout(flex='2'), max=1125.0, style=Pro…"
      ]
     },
     "metadata": {},
     "output_type": "display_data"
    },
    {
     "name": "stdout",
     "output_type": "stream",
     "text": [
      "Epoch 713: train=1.04207, val=1.00558, took 36.992 s\n"
     ]
    },
    {
     "data": {
      "application/vnd.jupyter.widget-view+json": {
       "model_id": "",
       "version_major": 2,
       "version_minor": 0
      },
      "text/plain": [
       "HBox(children=(FloatProgress(value=0.0, description='Training', layout=Layout(flex='2'), max=1125.0, style=Pro…"
      ]
     },
     "metadata": {},
     "output_type": "display_data"
    },
    {
     "name": "stdout",
     "output_type": "stream",
     "text": [
      "Epoch 714: train=1.04744, val=1.00769, took 36.892 s\n"
     ]
    },
    {
     "data": {
      "application/vnd.jupyter.widget-view+json": {
       "model_id": "",
       "version_major": 2,
       "version_minor": 0
      },
      "text/plain": [
       "HBox(children=(FloatProgress(value=0.0, description='Training', layout=Layout(flex='2'), max=1125.0, style=Pro…"
      ]
     },
     "metadata": {},
     "output_type": "display_data"
    },
    {
     "name": "stdout",
     "output_type": "stream",
     "text": [
      "Epoch 715: train=1.04011, val=1.1486, took 36.949 s\n"
     ]
    },
    {
     "data": {
      "application/vnd.jupyter.widget-view+json": {
       "model_id": "",
       "version_major": 2,
       "version_minor": 0
      },
      "text/plain": [
       "HBox(children=(FloatProgress(value=0.0, description='Training', layout=Layout(flex='2'), max=1125.0, style=Pro…"
      ]
     },
     "metadata": {},
     "output_type": "display_data"
    },
    {
     "name": "stdout",
     "output_type": "stream",
     "text": [
      "Epoch 716: train=1.04141, val=1.06367, took 36.962 s\n"
     ]
    },
    {
     "data": {
      "application/vnd.jupyter.widget-view+json": {
       "model_id": "",
       "version_major": 2,
       "version_minor": 0
      },
      "text/plain": [
       "HBox(children=(FloatProgress(value=0.0, description='Training', layout=Layout(flex='2'), max=1125.0, style=Pro…"
      ]
     },
     "metadata": {},
     "output_type": "display_data"
    },
    {
     "name": "stdout",
     "output_type": "stream",
     "text": [
      "Epoch 717: train=1.05146, val=1.01201, took 37.058 s\n"
     ]
    },
    {
     "data": {
      "application/vnd.jupyter.widget-view+json": {
       "model_id": "",
       "version_major": 2,
       "version_minor": 0
      },
      "text/plain": [
       "HBox(children=(FloatProgress(value=0.0, description='Training', layout=Layout(flex='2'), max=1125.0, style=Pro…"
      ]
     },
     "metadata": {},
     "output_type": "display_data"
    },
    {
     "name": "stdout",
     "output_type": "stream",
     "text": [
      "Epoch 718: train=1.04563, val=1.00862, took 36.993 s\n"
     ]
    },
    {
     "data": {
      "application/vnd.jupyter.widget-view+json": {
       "model_id": "",
       "version_major": 2,
       "version_minor": 0
      },
      "text/plain": [
       "HBox(children=(FloatProgress(value=0.0, description='Training', layout=Layout(flex='2'), max=1125.0, style=Pro…"
      ]
     },
     "metadata": {},
     "output_type": "display_data"
    },
    {
     "name": "stdout",
     "output_type": "stream",
     "text": [
      "Epoch 719: train=1.04462, val=1.13475, took 36.938 s\n"
     ]
    },
    {
     "data": {
      "application/vnd.jupyter.widget-view+json": {
       "model_id": "",
       "version_major": 2,
       "version_minor": 0
      },
      "text/plain": [
       "HBox(children=(FloatProgress(value=0.0, description='Training', layout=Layout(flex='2'), max=1125.0, style=Pro…"
      ]
     },
     "metadata": {},
     "output_type": "display_data"
    },
    {
     "name": "stdout",
     "output_type": "stream",
     "text": [
      "Epoch 720: train=1.0397, val=0.997467, took 37.056 s\n"
     ]
    },
    {
     "data": {
      "application/vnd.jupyter.widget-view+json": {
       "model_id": "",
       "version_major": 2,
       "version_minor": 0
      },
      "text/plain": [
       "HBox(children=(FloatProgress(value=0.0, description='Training', layout=Layout(flex='2'), max=1125.0, style=Pro…"
      ]
     },
     "metadata": {},
     "output_type": "display_data"
    },
    {
     "name": "stdout",
     "output_type": "stream",
     "text": [
      "Epoch 721: train=1.04145, val=1.09642, took 37.053 s\n"
     ]
    },
    {
     "data": {
      "application/vnd.jupyter.widget-view+json": {
       "model_id": "",
       "version_major": 2,
       "version_minor": 0
      },
      "text/plain": [
       "HBox(children=(FloatProgress(value=0.0, description='Training', layout=Layout(flex='2'), max=1125.0, style=Pro…"
      ]
     },
     "metadata": {},
     "output_type": "display_data"
    },
    {
     "name": "stdout",
     "output_type": "stream",
     "text": [
      "Epoch 722: train=1.04218, val=1.00343, took 36.96 s\n"
     ]
    },
    {
     "data": {
      "application/vnd.jupyter.widget-view+json": {
       "model_id": "",
       "version_major": 2,
       "version_minor": 0
      },
      "text/plain": [
       "HBox(children=(FloatProgress(value=0.0, description='Training', layout=Layout(flex='2'), max=1125.0, style=Pro…"
      ]
     },
     "metadata": {},
     "output_type": "display_data"
    },
    {
     "name": "stdout",
     "output_type": "stream",
     "text": [
      "Epoch 723: train=1.03509, val=0.995146, took 37.228 s\n"
     ]
    },
    {
     "data": {
      "application/vnd.jupyter.widget-view+json": {
       "model_id": "",
       "version_major": 2,
       "version_minor": 0
      },
      "text/plain": [
       "HBox(children=(FloatProgress(value=0.0, description='Training', layout=Layout(flex='2'), max=1125.0, style=Pro…"
      ]
     },
     "metadata": {},
     "output_type": "display_data"
    },
    {
     "name": "stdout",
     "output_type": "stream",
     "text": [
      "Epoch 724: train=1.04339, val=1.02592, took 36.992 s\n"
     ]
    },
    {
     "data": {
      "application/vnd.jupyter.widget-view+json": {
       "model_id": "",
       "version_major": 2,
       "version_minor": 0
      },
      "text/plain": [
       "HBox(children=(FloatProgress(value=0.0, description='Training', layout=Layout(flex='2'), max=1125.0, style=Pro…"
      ]
     },
     "metadata": {},
     "output_type": "display_data"
    },
    {
     "name": "stdout",
     "output_type": "stream",
     "text": [
      "Epoch 725: train=1.05576, val=1.03403, took 36.92 s\n"
     ]
    },
    {
     "data": {
      "application/vnd.jupyter.widget-view+json": {
       "model_id": "",
       "version_major": 2,
       "version_minor": 0
      },
      "text/plain": [
       "HBox(children=(FloatProgress(value=0.0, description='Training', layout=Layout(flex='2'), max=1125.0, style=Pro…"
      ]
     },
     "metadata": {},
     "output_type": "display_data"
    },
    {
     "name": "stdout",
     "output_type": "stream",
     "text": [
      "Epoch 726: train=1.05052, val=1.09259, took 37.106 s\n"
     ]
    },
    {
     "data": {
      "application/vnd.jupyter.widget-view+json": {
       "model_id": "",
       "version_major": 2,
       "version_minor": 0
      },
      "text/plain": [
       "HBox(children=(FloatProgress(value=0.0, description='Training', layout=Layout(flex='2'), max=1125.0, style=Pro…"
      ]
     },
     "metadata": {},
     "output_type": "display_data"
    },
    {
     "name": "stdout",
     "output_type": "stream",
     "text": [
      "Epoch 727: train=1.0374, val=0.992734, took 36.958 s\n"
     ]
    },
    {
     "data": {
      "application/vnd.jupyter.widget-view+json": {
       "model_id": "",
       "version_major": 2,
       "version_minor": 0
      },
      "text/plain": [
       "HBox(children=(FloatProgress(value=0.0, description='Training', layout=Layout(flex='2'), max=1125.0, style=Pro…"
      ]
     },
     "metadata": {},
     "output_type": "display_data"
    },
    {
     "name": "stdout",
     "output_type": "stream",
     "text": [
      "Epoch 728: train=1.03952, val=1.00898, took 36.933 s\n"
     ]
    },
    {
     "data": {
      "application/vnd.jupyter.widget-view+json": {
       "model_id": "",
       "version_major": 2,
       "version_minor": 0
      },
      "text/plain": [
       "HBox(children=(FloatProgress(value=0.0, description='Training', layout=Layout(flex='2'), max=1125.0, style=Pro…"
      ]
     },
     "metadata": {},
     "output_type": "display_data"
    },
    {
     "name": "stdout",
     "output_type": "stream",
     "text": [
      "Epoch 729: train=1.04406, val=1.02522, took 37.055 s\n"
     ]
    },
    {
     "data": {
      "application/vnd.jupyter.widget-view+json": {
       "model_id": "",
       "version_major": 2,
       "version_minor": 0
      },
      "text/plain": [
       "HBox(children=(FloatProgress(value=0.0, description='Training', layout=Layout(flex='2'), max=1125.0, style=Pro…"
      ]
     },
     "metadata": {},
     "output_type": "display_data"
    },
    {
     "name": "stdout",
     "output_type": "stream",
     "text": [
      "Epoch 730: train=1.0467, val=1.00857, took 36.964 s\n"
     ]
    },
    {
     "data": {
      "application/vnd.jupyter.widget-view+json": {
       "model_id": "",
       "version_major": 2,
       "version_minor": 0
      },
      "text/plain": [
       "HBox(children=(FloatProgress(value=0.0, description='Training', layout=Layout(flex='2'), max=1125.0, style=Pro…"
      ]
     },
     "metadata": {},
     "output_type": "display_data"
    },
    {
     "name": "stdout",
     "output_type": "stream",
     "text": [
      "Epoch 731: train=1.04229, val=1.08143, took 36.951 s\n"
     ]
    },
    {
     "data": {
      "application/vnd.jupyter.widget-view+json": {
       "model_id": "",
       "version_major": 2,
       "version_minor": 0
      },
      "text/plain": [
       "HBox(children=(FloatProgress(value=0.0, description='Training', layout=Layout(flex='2'), max=1125.0, style=Pro…"
      ]
     },
     "metadata": {},
     "output_type": "display_data"
    },
    {
     "name": "stdout",
     "output_type": "stream",
     "text": [
      "Epoch 732: train=1.04846, val=1.05962, took 37.015 s\n"
     ]
    },
    {
     "data": {
      "application/vnd.jupyter.widget-view+json": {
       "model_id": "",
       "version_major": 2,
       "version_minor": 0
      },
      "text/plain": [
       "HBox(children=(FloatProgress(value=0.0, description='Training', layout=Layout(flex='2'), max=1125.0, style=Pro…"
      ]
     },
     "metadata": {},
     "output_type": "display_data"
    },
    {
     "name": "stdout",
     "output_type": "stream",
     "text": [
      "Epoch 733: train=1.04231, val=1.01854, took 37.057 s\n"
     ]
    },
    {
     "data": {
      "application/vnd.jupyter.widget-view+json": {
       "model_id": "",
       "version_major": 2,
       "version_minor": 0
      },
      "text/plain": [
       "HBox(children=(FloatProgress(value=0.0, description='Training', layout=Layout(flex='2'), max=1125.0, style=Pro…"
      ]
     },
     "metadata": {},
     "output_type": "display_data"
    },
    {
     "name": "stdout",
     "output_type": "stream",
     "text": [
      "Epoch 734: train=1.03337, val=1.00049, took 36.942 s\n"
     ]
    },
    {
     "data": {
      "application/vnd.jupyter.widget-view+json": {
       "model_id": "",
       "version_major": 2,
       "version_minor": 0
      },
      "text/plain": [
       "HBox(children=(FloatProgress(value=0.0, description='Training', layout=Layout(flex='2'), max=1125.0, style=Pro…"
      ]
     },
     "metadata": {},
     "output_type": "display_data"
    },
    {
     "name": "stdout",
     "output_type": "stream",
     "text": [
      "Epoch 735: train=1.04751, val=1.02422, took 37.106 s\n"
     ]
    },
    {
     "data": {
      "application/vnd.jupyter.widget-view+json": {
       "model_id": "",
       "version_major": 2,
       "version_minor": 0
      },
      "text/plain": [
       "HBox(children=(FloatProgress(value=0.0, description='Training', layout=Layout(flex='2'), max=1125.0, style=Pro…"
      ]
     },
     "metadata": {},
     "output_type": "display_data"
    },
    {
     "name": "stdout",
     "output_type": "stream",
     "text": [
      "Epoch 736: train=1.03892, val=1.00185, took 37.368 s\n"
     ]
    },
    {
     "data": {
      "application/vnd.jupyter.widget-view+json": {
       "model_id": "",
       "version_major": 2,
       "version_minor": 0
      },
      "text/plain": [
       "HBox(children=(FloatProgress(value=0.0, description='Training', layout=Layout(flex='2'), max=1125.0, style=Pro…"
      ]
     },
     "metadata": {},
     "output_type": "display_data"
    },
    {
     "name": "stdout",
     "output_type": "stream",
     "text": [
      "Epoch 737: train=1.03498, val=1.06052, took 36.994 s\n"
     ]
    },
    {
     "data": {
      "application/vnd.jupyter.widget-view+json": {
       "model_id": "",
       "version_major": 2,
       "version_minor": 0
      },
      "text/plain": [
       "HBox(children=(FloatProgress(value=0.0, description='Training', layout=Layout(flex='2'), max=1125.0, style=Pro…"
      ]
     },
     "metadata": {},
     "output_type": "display_data"
    },
    {
     "name": "stdout",
     "output_type": "stream",
     "text": [
      "Epoch 738: train=1.0403, val=1.05844, took 37.1 s\n"
     ]
    },
    {
     "data": {
      "application/vnd.jupyter.widget-view+json": {
       "model_id": "",
       "version_major": 2,
       "version_minor": 0
      },
      "text/plain": [
       "HBox(children=(FloatProgress(value=0.0, description='Training', layout=Layout(flex='2'), max=1125.0, style=Pro…"
      ]
     },
     "metadata": {},
     "output_type": "display_data"
    },
    {
     "name": "stdout",
     "output_type": "stream",
     "text": [
      "Epoch 739: train=1.04268, val=0.993284, took 36.899 s\n"
     ]
    },
    {
     "data": {
      "application/vnd.jupyter.widget-view+json": {
       "model_id": "",
       "version_major": 2,
       "version_minor": 0
      },
      "text/plain": [
       "HBox(children=(FloatProgress(value=0.0, description='Training', layout=Layout(flex='2'), max=1125.0, style=Pro…"
      ]
     },
     "metadata": {},
     "output_type": "display_data"
    },
    {
     "name": "stdout",
     "output_type": "stream",
     "text": [
      "Epoch 740: train=1.0349, val=1.01545, took 36.916 s\n"
     ]
    },
    {
     "data": {
      "application/vnd.jupyter.widget-view+json": {
       "model_id": "",
       "version_major": 2,
       "version_minor": 0
      },
      "text/plain": [
       "HBox(children=(FloatProgress(value=0.0, description='Training', layout=Layout(flex='2'), max=1125.0, style=Pro…"
      ]
     },
     "metadata": {},
     "output_type": "display_data"
    },
    {
     "name": "stdout",
     "output_type": "stream",
     "text": [
      "Epoch 741: train=1.04501, val=1.0893, took 36.905 s\n"
     ]
    },
    {
     "data": {
      "application/vnd.jupyter.widget-view+json": {
       "model_id": "",
       "version_major": 2,
       "version_minor": 0
      },
      "text/plain": [
       "HBox(children=(FloatProgress(value=0.0, description='Training', layout=Layout(flex='2'), max=1125.0, style=Pro…"
      ]
     },
     "metadata": {},
     "output_type": "display_data"
    },
    {
     "name": "stdout",
     "output_type": "stream",
     "text": [
      "Epoch 742: train=1.05138, val=1.06797, took 36.909 s\n"
     ]
    },
    {
     "data": {
      "application/vnd.jupyter.widget-view+json": {
       "model_id": "",
       "version_major": 2,
       "version_minor": 0
      },
      "text/plain": [
       "HBox(children=(FloatProgress(value=0.0, description='Training', layout=Layout(flex='2'), max=1125.0, style=Pro…"
      ]
     },
     "metadata": {},
     "output_type": "display_data"
    },
    {
     "name": "stdout",
     "output_type": "stream",
     "text": [
      "Epoch 743: train=1.0421, val=0.999157, took 37.187 s\n"
     ]
    },
    {
     "data": {
      "application/vnd.jupyter.widget-view+json": {
       "model_id": "",
       "version_major": 2,
       "version_minor": 0
      },
      "text/plain": [
       "HBox(children=(FloatProgress(value=0.0, description='Training', layout=Layout(flex='2'), max=1125.0, style=Pro…"
      ]
     },
     "metadata": {},
     "output_type": "display_data"
    },
    {
     "name": "stdout",
     "output_type": "stream",
     "text": [
      "Epoch 744: train=1.04718, val=0.993971, took 37.311 s\n"
     ]
    },
    {
     "data": {
      "application/vnd.jupyter.widget-view+json": {
       "model_id": "",
       "version_major": 2,
       "version_minor": 0
      },
      "text/plain": [
       "HBox(children=(FloatProgress(value=0.0, description='Training', layout=Layout(flex='2'), max=1125.0, style=Pro…"
      ]
     },
     "metadata": {},
     "output_type": "display_data"
    },
    {
     "name": "stdout",
     "output_type": "stream",
     "text": [
      "Epoch 745: train=1.03788, val=1.00234, took 36.953 s\n"
     ]
    },
    {
     "data": {
      "application/vnd.jupyter.widget-view+json": {
       "model_id": "",
       "version_major": 2,
       "version_minor": 0
      },
      "text/plain": [
       "HBox(children=(FloatProgress(value=0.0, description='Training', layout=Layout(flex='2'), max=1125.0, style=Pro…"
      ]
     },
     "metadata": {},
     "output_type": "display_data"
    },
    {
     "name": "stdout",
     "output_type": "stream",
     "text": [
      "Epoch 746: train=1.03715, val=0.999603, took 36.889 s\n"
     ]
    },
    {
     "data": {
      "application/vnd.jupyter.widget-view+json": {
       "model_id": "",
       "version_major": 2,
       "version_minor": 0
      },
      "text/plain": [
       "HBox(children=(FloatProgress(value=0.0, description='Training', layout=Layout(flex='2'), max=1125.0, style=Pro…"
      ]
     },
     "metadata": {},
     "output_type": "display_data"
    },
    {
     "name": "stdout",
     "output_type": "stream",
     "text": [
      "Epoch 747: train=1.0435, val=0.996331, took 37.191 s\n"
     ]
    },
    {
     "data": {
      "application/vnd.jupyter.widget-view+json": {
       "model_id": "",
       "version_major": 2,
       "version_minor": 0
      },
      "text/plain": [
       "HBox(children=(FloatProgress(value=0.0, description='Training', layout=Layout(flex='2'), max=1125.0, style=Pro…"
      ]
     },
     "metadata": {},
     "output_type": "display_data"
    },
    {
     "name": "stdout",
     "output_type": "stream",
     "text": [
      "Epoch 748: train=1.0428, val=1.0132, took 37.112 s\n"
     ]
    },
    {
     "data": {
      "application/vnd.jupyter.widget-view+json": {
       "model_id": "",
       "version_major": 2,
       "version_minor": 0
      },
      "text/plain": [
       "HBox(children=(FloatProgress(value=0.0, description='Training', layout=Layout(flex='2'), max=1125.0, style=Pro…"
      ]
     },
     "metadata": {},
     "output_type": "display_data"
    },
    {
     "name": "stdout",
     "output_type": "stream",
     "text": [
      "Epoch 749: train=1.04093, val=1.01533, took 37.024 s\n"
     ]
    },
    {
     "data": {
      "application/vnd.jupyter.widget-view+json": {
       "model_id": "",
       "version_major": 2,
       "version_minor": 0
      },
      "text/plain": [
       "HBox(children=(FloatProgress(value=0.0, description='Training', layout=Layout(flex='2'), max=1125.0, style=Pro…"
      ]
     },
     "metadata": {},
     "output_type": "display_data"
    },
    {
     "name": "stdout",
     "output_type": "stream",
     "text": [
      "Epoch 750: train=1.03694, val=1.04509, took 36.932 s\n"
     ]
    },
    {
     "data": {
      "application/vnd.jupyter.widget-view+json": {
       "model_id": "",
       "version_major": 2,
       "version_minor": 0
      },
      "text/plain": [
       "HBox(children=(FloatProgress(value=0.0, description='Training', layout=Layout(flex='2'), max=1125.0, style=Pro…"
      ]
     },
     "metadata": {},
     "output_type": "display_data"
    },
    {
     "name": "stdout",
     "output_type": "stream",
     "text": [
      "Epoch 751: train=1.03448, val=0.9924, took 36.898 s\n"
     ]
    },
    {
     "data": {
      "application/vnd.jupyter.widget-view+json": {
       "model_id": "",
       "version_major": 2,
       "version_minor": 0
      },
      "text/plain": [
       "HBox(children=(FloatProgress(value=0.0, description='Training', layout=Layout(flex='2'), max=1125.0, style=Pro…"
      ]
     },
     "metadata": {},
     "output_type": "display_data"
    },
    {
     "name": "stdout",
     "output_type": "stream",
     "text": [
      "Epoch 752: train=1.04284, val=0.995913, took 36.936 s\n"
     ]
    },
    {
     "data": {
      "application/vnd.jupyter.widget-view+json": {
       "model_id": "",
       "version_major": 2,
       "version_minor": 0
      },
      "text/plain": [
       "HBox(children=(FloatProgress(value=0.0, description='Training', layout=Layout(flex='2'), max=1125.0, style=Pro…"
      ]
     },
     "metadata": {},
     "output_type": "display_data"
    },
    {
     "name": "stdout",
     "output_type": "stream",
     "text": [
      "Epoch 753: train=1.03172, val=1.03595, took 37.206 s\n"
     ]
    },
    {
     "data": {
      "application/vnd.jupyter.widget-view+json": {
       "model_id": "",
       "version_major": 2,
       "version_minor": 0
      },
      "text/plain": [
       "HBox(children=(FloatProgress(value=0.0, description='Training', layout=Layout(flex='2'), max=1125.0, style=Pro…"
      ]
     },
     "metadata": {},
     "output_type": "display_data"
    },
    {
     "name": "stdout",
     "output_type": "stream",
     "text": [
      "Epoch 754: train=1.04154, val=1.01935, took 36.942 s\n"
     ]
    },
    {
     "data": {
      "application/vnd.jupyter.widget-view+json": {
       "model_id": "",
       "version_major": 2,
       "version_minor": 0
      },
      "text/plain": [
       "HBox(children=(FloatProgress(value=0.0, description='Training', layout=Layout(flex='2'), max=1125.0, style=Pro…"
      ]
     },
     "metadata": {},
     "output_type": "display_data"
    },
    {
     "name": "stdout",
     "output_type": "stream",
     "text": [
      "Epoch 755: train=1.03321, val=1.005, took 36.874 s\n"
     ]
    },
    {
     "data": {
      "application/vnd.jupyter.widget-view+json": {
       "model_id": "",
       "version_major": 2,
       "version_minor": 0
      },
      "text/plain": [
       "HBox(children=(FloatProgress(value=0.0, description='Training', layout=Layout(flex='2'), max=1125.0, style=Pro…"
      ]
     },
     "metadata": {},
     "output_type": "display_data"
    },
    {
     "name": "stdout",
     "output_type": "stream",
     "text": [
      "Epoch 756: train=1.03932, val=0.993542, took 36.814 s\n"
     ]
    },
    {
     "data": {
      "application/vnd.jupyter.widget-view+json": {
       "model_id": "",
       "version_major": 2,
       "version_minor": 0
      },
      "text/plain": [
       "HBox(children=(FloatProgress(value=0.0, description='Training', layout=Layout(flex='2'), max=1125.0, style=Pro…"
      ]
     },
     "metadata": {},
     "output_type": "display_data"
    },
    {
     "name": "stdout",
     "output_type": "stream",
     "text": [
      "Epoch 757: train=1.03957, val=1.02657, took 37.026 s\n"
     ]
    },
    {
     "data": {
      "application/vnd.jupyter.widget-view+json": {
       "model_id": "",
       "version_major": 2,
       "version_minor": 0
      },
      "text/plain": [
       "HBox(children=(FloatProgress(value=0.0, description='Training', layout=Layout(flex='2'), max=1125.0, style=Pro…"
      ]
     },
     "metadata": {},
     "output_type": "display_data"
    },
    {
     "name": "stdout",
     "output_type": "stream",
     "text": [
      "Epoch 758: train=1.03545, val=0.999835, took 37.253 s\n"
     ]
    },
    {
     "data": {
      "application/vnd.jupyter.widget-view+json": {
       "model_id": "",
       "version_major": 2,
       "version_minor": 0
      },
      "text/plain": [
       "HBox(children=(FloatProgress(value=0.0, description='Training', layout=Layout(flex='2'), max=1125.0, style=Pro…"
      ]
     },
     "metadata": {},
     "output_type": "display_data"
    },
    {
     "name": "stdout",
     "output_type": "stream",
     "text": [
      "Epoch 759: train=1.05169, val=1.00604, took 37.312 s\n"
     ]
    },
    {
     "data": {
      "application/vnd.jupyter.widget-view+json": {
       "model_id": "",
       "version_major": 2,
       "version_minor": 0
      },
      "text/plain": [
       "HBox(children=(FloatProgress(value=0.0, description='Training', layout=Layout(flex='2'), max=1125.0, style=Pro…"
      ]
     },
     "metadata": {},
     "output_type": "display_data"
    },
    {
     "name": "stdout",
     "output_type": "stream",
     "text": [
      "Epoch 760: train=1.03623, val=1.04089, took 37.118 s\n"
     ]
    },
    {
     "data": {
      "application/vnd.jupyter.widget-view+json": {
       "model_id": "",
       "version_major": 2,
       "version_minor": 0
      },
      "text/plain": [
       "HBox(children=(FloatProgress(value=0.0, description='Training', layout=Layout(flex='2'), max=1125.0, style=Pro…"
      ]
     },
     "metadata": {},
     "output_type": "display_data"
    },
    {
     "name": "stdout",
     "output_type": "stream",
     "text": [
      "Epoch 761: train=1.04582, val=1.01465, took 36.81 s\n"
     ]
    },
    {
     "data": {
      "application/vnd.jupyter.widget-view+json": {
       "model_id": "",
       "version_major": 2,
       "version_minor": 0
      },
      "text/plain": [
       "HBox(children=(FloatProgress(value=0.0, description='Training', layout=Layout(flex='2'), max=1125.0, style=Pro…"
      ]
     },
     "metadata": {},
     "output_type": "display_data"
    },
    {
     "name": "stdout",
     "output_type": "stream",
     "text": [
      "Epoch 762: train=1.03068, val=0.989489, took 36.923 s\n"
     ]
    },
    {
     "data": {
      "application/vnd.jupyter.widget-view+json": {
       "model_id": "",
       "version_major": 2,
       "version_minor": 0
      },
      "text/plain": [
       "HBox(children=(FloatProgress(value=0.0, description='Training', layout=Layout(flex='2'), max=1125.0, style=Pro…"
      ]
     },
     "metadata": {},
     "output_type": "display_data"
    },
    {
     "name": "stdout",
     "output_type": "stream",
     "text": [
      "Epoch 763: train=1.04491, val=1.00368, took 36.927 s\n"
     ]
    },
    {
     "data": {
      "application/vnd.jupyter.widget-view+json": {
       "model_id": "",
       "version_major": 2,
       "version_minor": 0
      },
      "text/plain": [
       "HBox(children=(FloatProgress(value=0.0, description='Training', layout=Layout(flex='2'), max=1125.0, style=Pro…"
      ]
     },
     "metadata": {},
     "output_type": "display_data"
    },
    {
     "name": "stdout",
     "output_type": "stream",
     "text": [
      "Epoch 764: train=1.03626, val=0.989912, took 37.024 s\n"
     ]
    },
    {
     "data": {
      "application/vnd.jupyter.widget-view+json": {
       "model_id": "",
       "version_major": 2,
       "version_minor": 0
      },
      "text/plain": [
       "HBox(children=(FloatProgress(value=0.0, description='Training', layout=Layout(flex='2'), max=1125.0, style=Pro…"
      ]
     },
     "metadata": {},
     "output_type": "display_data"
    },
    {
     "name": "stdout",
     "output_type": "stream",
     "text": [
      "Epoch 765: train=1.04413, val=1.03645, took 36.867 s\n"
     ]
    },
    {
     "data": {
      "application/vnd.jupyter.widget-view+json": {
       "model_id": "",
       "version_major": 2,
       "version_minor": 0
      },
      "text/plain": [
       "HBox(children=(FloatProgress(value=0.0, description='Training', layout=Layout(flex='2'), max=1125.0, style=Pro…"
      ]
     },
     "metadata": {},
     "output_type": "display_data"
    },
    {
     "name": "stdout",
     "output_type": "stream",
     "text": [
      "Epoch 766: train=1.04681, val=1.00071, took 36.891 s\n"
     ]
    },
    {
     "data": {
      "application/vnd.jupyter.widget-view+json": {
       "model_id": "",
       "version_major": 2,
       "version_minor": 0
      },
      "text/plain": [
       "HBox(children=(FloatProgress(value=0.0, description='Training', layout=Layout(flex='2'), max=1125.0, style=Pro…"
      ]
     },
     "metadata": {},
     "output_type": "display_data"
    },
    {
     "name": "stdout",
     "output_type": "stream",
     "text": [
      "Epoch 767: train=1.04925, val=1.02498, took 36.84 s\n"
     ]
    },
    {
     "data": {
      "application/vnd.jupyter.widget-view+json": {
       "model_id": "",
       "version_major": 2,
       "version_minor": 0
      },
      "text/plain": [
       "HBox(children=(FloatProgress(value=0.0, description='Training', layout=Layout(flex='2'), max=1125.0, style=Pro…"
      ]
     },
     "metadata": {},
     "output_type": "display_data"
    },
    {
     "name": "stdout",
     "output_type": "stream",
     "text": [
      "Epoch 768: train=1.03708, val=1.00012, took 36.937 s\n"
     ]
    },
    {
     "data": {
      "application/vnd.jupyter.widget-view+json": {
       "model_id": "",
       "version_major": 2,
       "version_minor": 0
      },
      "text/plain": [
       "HBox(children=(FloatProgress(value=0.0, description='Training', layout=Layout(flex='2'), max=1125.0, style=Pro…"
      ]
     },
     "metadata": {},
     "output_type": "display_data"
    },
    {
     "name": "stdout",
     "output_type": "stream",
     "text": [
      "Epoch 769: train=1.04403, val=1.02714, took 36.986 s\n"
     ]
    },
    {
     "data": {
      "application/vnd.jupyter.widget-view+json": {
       "model_id": "",
       "version_major": 2,
       "version_minor": 0
      },
      "text/plain": [
       "HBox(children=(FloatProgress(value=0.0, description='Training', layout=Layout(flex='2'), max=1125.0, style=Pro…"
      ]
     },
     "metadata": {},
     "output_type": "display_data"
    },
    {
     "name": "stdout",
     "output_type": "stream",
     "text": [
      "Epoch 770: train=1.03396, val=1.00784, took 37.02 s\n"
     ]
    },
    {
     "data": {
      "application/vnd.jupyter.widget-view+json": {
       "model_id": "",
       "version_major": 2,
       "version_minor": 0
      },
      "text/plain": [
       "HBox(children=(FloatProgress(value=0.0, description='Training', layout=Layout(flex='2'), max=1125.0, style=Pro…"
      ]
     },
     "metadata": {},
     "output_type": "display_data"
    },
    {
     "name": "stdout",
     "output_type": "stream",
     "text": [
      "Epoch 771: train=1.03201, val=1.05833, took 37.04 s\n"
     ]
    },
    {
     "data": {
      "application/vnd.jupyter.widget-view+json": {
       "model_id": "",
       "version_major": 2,
       "version_minor": 0
      },
      "text/plain": [
       "HBox(children=(FloatProgress(value=0.0, description='Training', layout=Layout(flex='2'), max=1125.0, style=Pro…"
      ]
     },
     "metadata": {},
     "output_type": "display_data"
    },
    {
     "name": "stdout",
     "output_type": "stream",
     "text": [
      "Epoch 772: train=1.04006, val=1.0649, took 37.071 s\n"
     ]
    },
    {
     "data": {
      "application/vnd.jupyter.widget-view+json": {
       "model_id": "",
       "version_major": 2,
       "version_minor": 0
      },
      "text/plain": [
       "HBox(children=(FloatProgress(value=0.0, description='Training', layout=Layout(flex='2'), max=1125.0, style=Pro…"
      ]
     },
     "metadata": {},
     "output_type": "display_data"
    },
    {
     "name": "stdout",
     "output_type": "stream",
     "text": [
      "Epoch 773: train=1.0375, val=1.08724, took 37.044 s\n"
     ]
    },
    {
     "data": {
      "application/vnd.jupyter.widget-view+json": {
       "model_id": "",
       "version_major": 2,
       "version_minor": 0
      },
      "text/plain": [
       "HBox(children=(FloatProgress(value=0.0, description='Training', layout=Layout(flex='2'), max=1125.0, style=Pro…"
      ]
     },
     "metadata": {},
     "output_type": "display_data"
    },
    {
     "name": "stdout",
     "output_type": "stream",
     "text": [
      "Epoch 774: train=1.04525, val=0.992743, took 36.922 s\n"
     ]
    },
    {
     "data": {
      "application/vnd.jupyter.widget-view+json": {
       "model_id": "",
       "version_major": 2,
       "version_minor": 0
      },
      "text/plain": [
       "HBox(children=(FloatProgress(value=0.0, description='Training', layout=Layout(flex='2'), max=1125.0, style=Pro…"
      ]
     },
     "metadata": {},
     "output_type": "display_data"
    },
    {
     "name": "stdout",
     "output_type": "stream",
     "text": [
      "Epoch 775: train=1.03327, val=1.00086, took 37.137 s\n"
     ]
    },
    {
     "data": {
      "application/vnd.jupyter.widget-view+json": {
       "model_id": "",
       "version_major": 2,
       "version_minor": 0
      },
      "text/plain": [
       "HBox(children=(FloatProgress(value=0.0, description='Training', layout=Layout(flex='2'), max=1125.0, style=Pro…"
      ]
     },
     "metadata": {},
     "output_type": "display_data"
    },
    {
     "name": "stdout",
     "output_type": "stream",
     "text": [
      "Epoch 776: train=1.03837, val=1.00705, took 36.961 s\n"
     ]
    },
    {
     "data": {
      "application/vnd.jupyter.widget-view+json": {
       "model_id": "",
       "version_major": 2,
       "version_minor": 0
      },
      "text/plain": [
       "HBox(children=(FloatProgress(value=0.0, description='Training', layout=Layout(flex='2'), max=1125.0, style=Pro…"
      ]
     },
     "metadata": {},
     "output_type": "display_data"
    },
    {
     "name": "stdout",
     "output_type": "stream",
     "text": [
      "Epoch 777: train=1.04539, val=1.04848, took 36.841 s\n"
     ]
    },
    {
     "data": {
      "application/vnd.jupyter.widget-view+json": {
       "model_id": "",
       "version_major": 2,
       "version_minor": 0
      },
      "text/plain": [
       "HBox(children=(FloatProgress(value=0.0, description='Training', layout=Layout(flex='2'), max=1125.0, style=Pro…"
      ]
     },
     "metadata": {},
     "output_type": "display_data"
    },
    {
     "name": "stdout",
     "output_type": "stream",
     "text": [
      "Epoch 778: train=1.03189, val=0.998714, took 36.943 s\n"
     ]
    },
    {
     "data": {
      "application/vnd.jupyter.widget-view+json": {
       "model_id": "",
       "version_major": 2,
       "version_minor": 0
      },
      "text/plain": [
       "HBox(children=(FloatProgress(value=0.0, description='Training', layout=Layout(flex='2'), max=1125.0, style=Pro…"
      ]
     },
     "metadata": {},
     "output_type": "display_data"
    },
    {
     "name": "stdout",
     "output_type": "stream",
     "text": [
      "Epoch 779: train=1.04778, val=1.04927, took 36.841 s\n"
     ]
    },
    {
     "data": {
      "application/vnd.jupyter.widget-view+json": {
       "model_id": "",
       "version_major": 2,
       "version_minor": 0
      },
      "text/plain": [
       "HBox(children=(FloatProgress(value=0.0, description='Training', layout=Layout(flex='2'), max=1125.0, style=Pro…"
      ]
     },
     "metadata": {},
     "output_type": "display_data"
    },
    {
     "name": "stdout",
     "output_type": "stream",
     "text": [
      "Epoch 780: train=1.04053, val=1.23601, took 36.945 s\n"
     ]
    },
    {
     "data": {
      "application/vnd.jupyter.widget-view+json": {
       "model_id": "",
       "version_major": 2,
       "version_minor": 0
      },
      "text/plain": [
       "HBox(children=(FloatProgress(value=0.0, description='Training', layout=Layout(flex='2'), max=1125.0, style=Pro…"
      ]
     },
     "metadata": {},
     "output_type": "display_data"
    },
    {
     "name": "stdout",
     "output_type": "stream",
     "text": [
      "Epoch 781: train=1.0398, val=1.05189, took 36.858 s\n"
     ]
    },
    {
     "data": {
      "application/vnd.jupyter.widget-view+json": {
       "model_id": "",
       "version_major": 2,
       "version_minor": 0
      },
      "text/plain": [
       "HBox(children=(FloatProgress(value=0.0, description='Training', layout=Layout(flex='2'), max=1125.0, style=Pro…"
      ]
     },
     "metadata": {},
     "output_type": "display_data"
    },
    {
     "name": "stdout",
     "output_type": "stream",
     "text": [
      "Epoch 782: train=1.03617, val=1.03707, took 36.937 s\n"
     ]
    },
    {
     "data": {
      "application/vnd.jupyter.widget-view+json": {
       "model_id": "",
       "version_major": 2,
       "version_minor": 0
      },
      "text/plain": [
       "HBox(children=(FloatProgress(value=0.0, description='Training', layout=Layout(flex='2'), max=1125.0, style=Pro…"
      ]
     },
     "metadata": {},
     "output_type": "display_data"
    },
    {
     "name": "stdout",
     "output_type": "stream",
     "text": [
      "Epoch 783: train=1.03975, val=1.0349, took 37.024 s\n"
     ]
    },
    {
     "data": {
      "application/vnd.jupyter.widget-view+json": {
       "model_id": "",
       "version_major": 2,
       "version_minor": 0
      },
      "text/plain": [
       "HBox(children=(FloatProgress(value=0.0, description='Training', layout=Layout(flex='2'), max=1125.0, style=Pro…"
      ]
     },
     "metadata": {},
     "output_type": "display_data"
    },
    {
     "name": "stdout",
     "output_type": "stream",
     "text": [
      "Epoch 784: train=1.03481, val=1.05687, took 36.852 s\n"
     ]
    },
    {
     "data": {
      "application/vnd.jupyter.widget-view+json": {
       "model_id": "",
       "version_major": 2,
       "version_minor": 0
      },
      "text/plain": [
       "HBox(children=(FloatProgress(value=0.0, description='Training', layout=Layout(flex='2'), max=1125.0, style=Pro…"
      ]
     },
     "metadata": {},
     "output_type": "display_data"
    },
    {
     "name": "stdout",
     "output_type": "stream",
     "text": [
      "Epoch 785: train=1.03454, val=1.04196, took 37.091 s\n"
     ]
    },
    {
     "data": {
      "application/vnd.jupyter.widget-view+json": {
       "model_id": "",
       "version_major": 2,
       "version_minor": 0
      },
      "text/plain": [
       "HBox(children=(FloatProgress(value=0.0, description='Training', layout=Layout(flex='2'), max=1125.0, style=Pro…"
      ]
     },
     "metadata": {},
     "output_type": "display_data"
    },
    {
     "name": "stdout",
     "output_type": "stream",
     "text": [
      "Epoch 786: train=1.04403, val=1.01109, took 37.075 s\n"
     ]
    },
    {
     "data": {
      "application/vnd.jupyter.widget-view+json": {
       "model_id": "",
       "version_major": 2,
       "version_minor": 0
      },
      "text/plain": [
       "HBox(children=(FloatProgress(value=0.0, description='Training', layout=Layout(flex='2'), max=1125.0, style=Pro…"
      ]
     },
     "metadata": {},
     "output_type": "display_data"
    },
    {
     "name": "stdout",
     "output_type": "stream",
     "text": [
      "Epoch 787: train=1.03918, val=1.014, took 36.983 s\n"
     ]
    },
    {
     "data": {
      "application/vnd.jupyter.widget-view+json": {
       "model_id": "",
       "version_major": 2,
       "version_minor": 0
      },
      "text/plain": [
       "HBox(children=(FloatProgress(value=0.0, description='Training', layout=Layout(flex='2'), max=1125.0, style=Pro…"
      ]
     },
     "metadata": {},
     "output_type": "display_data"
    },
    {
     "name": "stdout",
     "output_type": "stream",
     "text": [
      "Epoch 788: train=1.04814, val=1.01054, took 36.983 s\n"
     ]
    },
    {
     "data": {
      "application/vnd.jupyter.widget-view+json": {
       "model_id": "",
       "version_major": 2,
       "version_minor": 0
      },
      "text/plain": [
       "HBox(children=(FloatProgress(value=0.0, description='Training', layout=Layout(flex='2'), max=1125.0, style=Pro…"
      ]
     },
     "metadata": {},
     "output_type": "display_data"
    },
    {
     "name": "stdout",
     "output_type": "stream",
     "text": [
      "Epoch 789: train=1.03502, val=1.02617, took 36.951 s\n"
     ]
    },
    {
     "data": {
      "application/vnd.jupyter.widget-view+json": {
       "model_id": "",
       "version_major": 2,
       "version_minor": 0
      },
      "text/plain": [
       "HBox(children=(FloatProgress(value=0.0, description='Training', layout=Layout(flex='2'), max=1125.0, style=Pro…"
      ]
     },
     "metadata": {},
     "output_type": "display_data"
    },
    {
     "name": "stdout",
     "output_type": "stream",
     "text": [
      "Epoch 790: train=1.03725, val=1.01161, took 37.021 s\n"
     ]
    },
    {
     "data": {
      "application/vnd.jupyter.widget-view+json": {
       "model_id": "",
       "version_major": 2,
       "version_minor": 0
      },
      "text/plain": [
       "HBox(children=(FloatProgress(value=0.0, description='Training', layout=Layout(flex='2'), max=1125.0, style=Pro…"
      ]
     },
     "metadata": {},
     "output_type": "display_data"
    },
    {
     "name": "stdout",
     "output_type": "stream",
     "text": [
      "Epoch 791: train=1.0723, val=1.00594, took 36.922 s\n"
     ]
    },
    {
     "data": {
      "application/vnd.jupyter.widget-view+json": {
       "model_id": "",
       "version_major": 2,
       "version_minor": 0
      },
      "text/plain": [
       "HBox(children=(FloatProgress(value=0.0, description='Training', layout=Layout(flex='2'), max=1125.0, style=Pro…"
      ]
     },
     "metadata": {},
     "output_type": "display_data"
    },
    {
     "name": "stdout",
     "output_type": "stream",
     "text": [
      "Epoch 792: train=1.03458, val=1.02696, took 36.912 s\n"
     ]
    },
    {
     "data": {
      "application/vnd.jupyter.widget-view+json": {
       "model_id": "",
       "version_major": 2,
       "version_minor": 0
      },
      "text/plain": [
       "HBox(children=(FloatProgress(value=0.0, description='Training', layout=Layout(flex='2'), max=1125.0, style=Pro…"
      ]
     },
     "metadata": {},
     "output_type": "display_data"
    },
    {
     "name": "stdout",
     "output_type": "stream",
     "text": [
      "Epoch 793: train=1.04256, val=0.996896, took 36.912 s\n"
     ]
    },
    {
     "data": {
      "application/vnd.jupyter.widget-view+json": {
       "model_id": "",
       "version_major": 2,
       "version_minor": 0
      },
      "text/plain": [
       "HBox(children=(FloatProgress(value=0.0, description='Training', layout=Layout(flex='2'), max=1125.0, style=Pro…"
      ]
     },
     "metadata": {},
     "output_type": "display_data"
    },
    {
     "name": "stdout",
     "output_type": "stream",
     "text": [
      "Epoch 794: train=1.04065, val=0.990814, took 36.972 s\n"
     ]
    },
    {
     "data": {
      "application/vnd.jupyter.widget-view+json": {
       "model_id": "",
       "version_major": 2,
       "version_minor": 0
      },
      "text/plain": [
       "HBox(children=(FloatProgress(value=0.0, description='Training', layout=Layout(flex='2'), max=1125.0, style=Pro…"
      ]
     },
     "metadata": {},
     "output_type": "display_data"
    },
    {
     "name": "stdout",
     "output_type": "stream",
     "text": [
      "Epoch 795: train=1.03463, val=0.999293, took 36.95 s\n"
     ]
    },
    {
     "data": {
      "application/vnd.jupyter.widget-view+json": {
       "model_id": "",
       "version_major": 2,
       "version_minor": 0
      },
      "text/plain": [
       "HBox(children=(FloatProgress(value=0.0, description='Training', layout=Layout(flex='2'), max=1125.0, style=Pro…"
      ]
     },
     "metadata": {},
     "output_type": "display_data"
    },
    {
     "name": "stdout",
     "output_type": "stream",
     "text": [
      "Epoch 796: train=1.03258, val=1.0207, took 36.852 s\n"
     ]
    },
    {
     "data": {
      "application/vnd.jupyter.widget-view+json": {
       "model_id": "",
       "version_major": 2,
       "version_minor": 0
      },
      "text/plain": [
       "HBox(children=(FloatProgress(value=0.0, description='Training', layout=Layout(flex='2'), max=1125.0, style=Pro…"
      ]
     },
     "metadata": {},
     "output_type": "display_data"
    },
    {
     "name": "stdout",
     "output_type": "stream",
     "text": [
      "Epoch 797: train=1.03136, val=1.00593, took 36.981 s\n"
     ]
    },
    {
     "data": {
      "application/vnd.jupyter.widget-view+json": {
       "model_id": "",
       "version_major": 2,
       "version_minor": 0
      },
      "text/plain": [
       "HBox(children=(FloatProgress(value=0.0, description='Training', layout=Layout(flex='2'), max=1125.0, style=Pro…"
      ]
     },
     "metadata": {},
     "output_type": "display_data"
    },
    {
     "name": "stdout",
     "output_type": "stream",
     "text": [
      "Epoch 798: train=1.03651, val=1.00195, took 36.848 s\n"
     ]
    },
    {
     "data": {
      "application/vnd.jupyter.widget-view+json": {
       "model_id": "",
       "version_major": 2,
       "version_minor": 0
      },
      "text/plain": [
       "HBox(children=(FloatProgress(value=0.0, description='Training', layout=Layout(flex='2'), max=1125.0, style=Pro…"
      ]
     },
     "metadata": {},
     "output_type": "display_data"
    },
    {
     "name": "stdout",
     "output_type": "stream",
     "text": [
      "Epoch 799: train=1.0311, val=0.993556, took 36.973 s\n",
      "\n"
     ]
    }
   ],
   "source": [
    "for result in trainNet(model, optimizer, loss,\n",
    "                        train_loader, val_loader,\n",
    "                        n_epochs, epoch_start=len(results),\n",
    "                        notebook=True):\n",
    "    \n",
    "    results = results.append(pd.Series(result._asdict()), ignore_index=True)\n",
    "    xs = results.index\n",
    "    \n",
    "    # Update the plot above\n",
    "    lines['train'].set_data(results.index,results.cost)\n",
    "    lines['val'].set_data(results.index,results.val)\n",
    "    \n",
    "    #filter first cost epoch (can be really large)\n",
    "    max_cost = max(max(results.cost if len(results.cost)<2 else results.cost[1:]), max(results.val))\n",
    "    min_cost = min(min(results.cost), min(results.val))\n",
    "    \n",
    "    # The plot limits need updating too\n",
    "    \n",
    "    \n",
    "    \n",
    "    ax.set_ylim(min_cost*.9, max_cost*1.1)  \n",
    "    ax.set_xlim(-.5, len(results.cost) - .5)\n",
    "\n",
    "    \n",
    "    # Redraw the figure\n",
    "    fig.canvas.draw()\n",
    "\n",
    "    # Save each model state dictionary\n",
    "    torch.save(model.state_dict(), output / f'{name}_{result.epoch}.pyt')"
   ]
  },
  {
   "cell_type": "markdown",
   "metadata": {},
   "source": [
    "Go ahead and save the final model (even though it was also saved above):"
   ]
  },
  {
   "cell_type": "code",
   "execution_count": 18,
   "metadata": {},
   "outputs": [],
   "source": [
    "torch.save(model.state_dict(), output / f'{name}_final.pyt')"
   ]
  },
  {
   "cell_type": "markdown",
   "metadata": {},
   "source": [
    "Save the output results:"
   ]
  },
  {
   "cell_type": "code",
   "execution_count": 19,
   "metadata": {},
   "outputs": [],
   "source": [
    "results.to_hdf(f'{name}_stats.hdf5', 'results')"
   ]
  },
  {
   "cell_type": "markdown",
   "metadata": {},
   "source": [
    "Save the plot above:"
   ]
  },
  {
   "cell_type": "code",
   "execution_count": 20,
   "metadata": {},
   "outputs": [
    {
     "data": {
      "application/javascript": [
       "/* Put everything inside the global mpl namespace */\n",
       "window.mpl = {};\n",
       "\n",
       "\n",
       "mpl.get_websocket_type = function() {\n",
       "    if (typeof(WebSocket) !== 'undefined') {\n",
       "        return WebSocket;\n",
       "    } else if (typeof(MozWebSocket) !== 'undefined') {\n",
       "        return MozWebSocket;\n",
       "    } else {\n",
       "        alert('Your browser does not have WebSocket support. ' +\n",
       "              'Please try Chrome, Safari or Firefox ≥ 6. ' +\n",
       "              'Firefox 4 and 5 are also supported but you ' +\n",
       "              'have to enable WebSockets in about:config.');\n",
       "    };\n",
       "}\n",
       "\n",
       "mpl.figure = function(figure_id, websocket, ondownload, parent_element) {\n",
       "    this.id = figure_id;\n",
       "\n",
       "    this.ws = websocket;\n",
       "\n",
       "    this.supports_binary = (this.ws.binaryType != undefined);\n",
       "\n",
       "    if (!this.supports_binary) {\n",
       "        var warnings = document.getElementById(\"mpl-warnings\");\n",
       "        if (warnings) {\n",
       "            warnings.style.display = 'block';\n",
       "            warnings.textContent = (\n",
       "                \"This browser does not support binary websocket messages. \" +\n",
       "                    \"Performance may be slow.\");\n",
       "        }\n",
       "    }\n",
       "\n",
       "    this.imageObj = new Image();\n",
       "\n",
       "    this.context = undefined;\n",
       "    this.message = undefined;\n",
       "    this.canvas = undefined;\n",
       "    this.rubberband_canvas = undefined;\n",
       "    this.rubberband_context = undefined;\n",
       "    this.format_dropdown = undefined;\n",
       "\n",
       "    this.image_mode = 'full';\n",
       "\n",
       "    this.root = $('<div/>');\n",
       "    this._root_extra_style(this.root)\n",
       "    this.root.attr('style', 'display: inline-block');\n",
       "\n",
       "    $(parent_element).append(this.root);\n",
       "\n",
       "    this._init_header(this);\n",
       "    this._init_canvas(this);\n",
       "    this._init_toolbar(this);\n",
       "\n",
       "    var fig = this;\n",
       "\n",
       "    this.waiting = false;\n",
       "\n",
       "    this.ws.onopen =  function () {\n",
       "            fig.send_message(\"supports_binary\", {value: fig.supports_binary});\n",
       "            fig.send_message(\"send_image_mode\", {});\n",
       "            if (mpl.ratio != 1) {\n",
       "                fig.send_message(\"set_dpi_ratio\", {'dpi_ratio': mpl.ratio});\n",
       "            }\n",
       "            fig.send_message(\"refresh\", {});\n",
       "        }\n",
       "\n",
       "    this.imageObj.onload = function() {\n",
       "            if (fig.image_mode == 'full') {\n",
       "                // Full images could contain transparency (where diff images\n",
       "                // almost always do), so we need to clear the canvas so that\n",
       "                // there is no ghosting.\n",
       "                fig.context.clearRect(0, 0, fig.canvas.width, fig.canvas.height);\n",
       "            }\n",
       "            fig.context.drawImage(fig.imageObj, 0, 0);\n",
       "        };\n",
       "\n",
       "    this.imageObj.onunload = function() {\n",
       "        fig.ws.close();\n",
       "    }\n",
       "\n",
       "    this.ws.onmessage = this._make_on_message_function(this);\n",
       "\n",
       "    this.ondownload = ondownload;\n",
       "}\n",
       "\n",
       "mpl.figure.prototype._init_header = function() {\n",
       "    var titlebar = $(\n",
       "        '<div class=\"ui-dialog-titlebar ui-widget-header ui-corner-all ' +\n",
       "        'ui-helper-clearfix\"/>');\n",
       "    var titletext = $(\n",
       "        '<div class=\"ui-dialog-title\" style=\"width: 100%; ' +\n",
       "        'text-align: center; padding: 3px;\"/>');\n",
       "    titlebar.append(titletext)\n",
       "    this.root.append(titlebar);\n",
       "    this.header = titletext[0];\n",
       "}\n",
       "\n",
       "\n",
       "\n",
       "mpl.figure.prototype._canvas_extra_style = function(canvas_div) {\n",
       "\n",
       "}\n",
       "\n",
       "\n",
       "mpl.figure.prototype._root_extra_style = function(canvas_div) {\n",
       "\n",
       "}\n",
       "\n",
       "mpl.figure.prototype._init_canvas = function() {\n",
       "    var fig = this;\n",
       "\n",
       "    var canvas_div = $('<div/>');\n",
       "\n",
       "    canvas_div.attr('style', 'position: relative; clear: both; outline: 0');\n",
       "\n",
       "    function canvas_keyboard_event(event) {\n",
       "        return fig.key_event(event, event['data']);\n",
       "    }\n",
       "\n",
       "    canvas_div.keydown('key_press', canvas_keyboard_event);\n",
       "    canvas_div.keyup('key_release', canvas_keyboard_event);\n",
       "    this.canvas_div = canvas_div\n",
       "    this._canvas_extra_style(canvas_div)\n",
       "    this.root.append(canvas_div);\n",
       "\n",
       "    var canvas = $('<canvas/>');\n",
       "    canvas.addClass('mpl-canvas');\n",
       "    canvas.attr('style', \"left: 0; top: 0; z-index: 0; outline: 0\")\n",
       "\n",
       "    this.canvas = canvas[0];\n",
       "    this.context = canvas[0].getContext(\"2d\");\n",
       "\n",
       "    var backingStore = this.context.backingStorePixelRatio ||\n",
       "\tthis.context.webkitBackingStorePixelRatio ||\n",
       "\tthis.context.mozBackingStorePixelRatio ||\n",
       "\tthis.context.msBackingStorePixelRatio ||\n",
       "\tthis.context.oBackingStorePixelRatio ||\n",
       "\tthis.context.backingStorePixelRatio || 1;\n",
       "\n",
       "    mpl.ratio = (window.devicePixelRatio || 1) / backingStore;\n",
       "\n",
       "    var rubberband = $('<canvas/>');\n",
       "    rubberband.attr('style', \"position: absolute; left: 0; top: 0; z-index: 1;\")\n",
       "\n",
       "    var pass_mouse_events = true;\n",
       "\n",
       "    canvas_div.resizable({\n",
       "        start: function(event, ui) {\n",
       "            pass_mouse_events = false;\n",
       "        },\n",
       "        resize: function(event, ui) {\n",
       "            fig.request_resize(ui.size.width, ui.size.height);\n",
       "        },\n",
       "        stop: function(event, ui) {\n",
       "            pass_mouse_events = true;\n",
       "            fig.request_resize(ui.size.width, ui.size.height);\n",
       "        },\n",
       "    });\n",
       "\n",
       "    function mouse_event_fn(event) {\n",
       "        if (pass_mouse_events)\n",
       "            return fig.mouse_event(event, event['data']);\n",
       "    }\n",
       "\n",
       "    rubberband.mousedown('button_press', mouse_event_fn);\n",
       "    rubberband.mouseup('button_release', mouse_event_fn);\n",
       "    // Throttle sequential mouse events to 1 every 20ms.\n",
       "    rubberband.mousemove('motion_notify', mouse_event_fn);\n",
       "\n",
       "    rubberband.mouseenter('figure_enter', mouse_event_fn);\n",
       "    rubberband.mouseleave('figure_leave', mouse_event_fn);\n",
       "\n",
       "    canvas_div.on(\"wheel\", function (event) {\n",
       "        event = event.originalEvent;\n",
       "        event['data'] = 'scroll'\n",
       "        if (event.deltaY < 0) {\n",
       "            event.step = 1;\n",
       "        } else {\n",
       "            event.step = -1;\n",
       "        }\n",
       "        mouse_event_fn(event);\n",
       "    });\n",
       "\n",
       "    canvas_div.append(canvas);\n",
       "    canvas_div.append(rubberband);\n",
       "\n",
       "    this.rubberband = rubberband;\n",
       "    this.rubberband_canvas = rubberband[0];\n",
       "    this.rubberband_context = rubberband[0].getContext(\"2d\");\n",
       "    this.rubberband_context.strokeStyle = \"#000000\";\n",
       "\n",
       "    this._resize_canvas = function(width, height) {\n",
       "        // Keep the size of the canvas, canvas container, and rubber band\n",
       "        // canvas in synch.\n",
       "        canvas_div.css('width', width)\n",
       "        canvas_div.css('height', height)\n",
       "\n",
       "        canvas.attr('width', width * mpl.ratio);\n",
       "        canvas.attr('height', height * mpl.ratio);\n",
       "        canvas.attr('style', 'width: ' + width + 'px; height: ' + height + 'px;');\n",
       "\n",
       "        rubberband.attr('width', width);\n",
       "        rubberband.attr('height', height);\n",
       "    }\n",
       "\n",
       "    // Set the figure to an initial 600x600px, this will subsequently be updated\n",
       "    // upon first draw.\n",
       "    this._resize_canvas(600, 600);\n",
       "\n",
       "    // Disable right mouse context menu.\n",
       "    $(this.rubberband_canvas).bind(\"contextmenu\",function(e){\n",
       "        return false;\n",
       "    });\n",
       "\n",
       "    function set_focus () {\n",
       "        canvas.focus();\n",
       "        canvas_div.focus();\n",
       "    }\n",
       "\n",
       "    window.setTimeout(set_focus, 100);\n",
       "}\n",
       "\n",
       "mpl.figure.prototype._init_toolbar = function() {\n",
       "    var fig = this;\n",
       "\n",
       "    var nav_element = $('<div/>');\n",
       "    nav_element.attr('style', 'width: 100%');\n",
       "    this.root.append(nav_element);\n",
       "\n",
       "    // Define a callback function for later on.\n",
       "    function toolbar_event(event) {\n",
       "        return fig.toolbar_button_onclick(event['data']);\n",
       "    }\n",
       "    function toolbar_mouse_event(event) {\n",
       "        return fig.toolbar_button_onmouseover(event['data']);\n",
       "    }\n",
       "\n",
       "    for(var toolbar_ind in mpl.toolbar_items) {\n",
       "        var name = mpl.toolbar_items[toolbar_ind][0];\n",
       "        var tooltip = mpl.toolbar_items[toolbar_ind][1];\n",
       "        var image = mpl.toolbar_items[toolbar_ind][2];\n",
       "        var method_name = mpl.toolbar_items[toolbar_ind][3];\n",
       "\n",
       "        if (!name) {\n",
       "            // put a spacer in here.\n",
       "            continue;\n",
       "        }\n",
       "        var button = $('<button/>');\n",
       "        button.addClass('ui-button ui-widget ui-state-default ui-corner-all ' +\n",
       "                        'ui-button-icon-only');\n",
       "        button.attr('role', 'button');\n",
       "        button.attr('aria-disabled', 'false');\n",
       "        button.click(method_name, toolbar_event);\n",
       "        button.mouseover(tooltip, toolbar_mouse_event);\n",
       "\n",
       "        var icon_img = $('<span/>');\n",
       "        icon_img.addClass('ui-button-icon-primary ui-icon');\n",
       "        icon_img.addClass(image);\n",
       "        icon_img.addClass('ui-corner-all');\n",
       "\n",
       "        var tooltip_span = $('<span/>');\n",
       "        tooltip_span.addClass('ui-button-text');\n",
       "        tooltip_span.html(tooltip);\n",
       "\n",
       "        button.append(icon_img);\n",
       "        button.append(tooltip_span);\n",
       "\n",
       "        nav_element.append(button);\n",
       "    }\n",
       "\n",
       "    var fmt_picker_span = $('<span/>');\n",
       "\n",
       "    var fmt_picker = $('<select/>');\n",
       "    fmt_picker.addClass('mpl-toolbar-option ui-widget ui-widget-content');\n",
       "    fmt_picker_span.append(fmt_picker);\n",
       "    nav_element.append(fmt_picker_span);\n",
       "    this.format_dropdown = fmt_picker[0];\n",
       "\n",
       "    for (var ind in mpl.extensions) {\n",
       "        var fmt = mpl.extensions[ind];\n",
       "        var option = $(\n",
       "            '<option/>', {selected: fmt === mpl.default_extension}).html(fmt);\n",
       "        fmt_picker.append(option);\n",
       "    }\n",
       "\n",
       "    // Add hover states to the ui-buttons\n",
       "    $( \".ui-button\" ).hover(\n",
       "        function() { $(this).addClass(\"ui-state-hover\");},\n",
       "        function() { $(this).removeClass(\"ui-state-hover\");}\n",
       "    );\n",
       "\n",
       "    var status_bar = $('<span class=\"mpl-message\"/>');\n",
       "    nav_element.append(status_bar);\n",
       "    this.message = status_bar[0];\n",
       "}\n",
       "\n",
       "mpl.figure.prototype.request_resize = function(x_pixels, y_pixels) {\n",
       "    // Request matplotlib to resize the figure. Matplotlib will then trigger a resize in the client,\n",
       "    // which will in turn request a refresh of the image.\n",
       "    this.send_message('resize', {'width': x_pixels, 'height': y_pixels});\n",
       "}\n",
       "\n",
       "mpl.figure.prototype.send_message = function(type, properties) {\n",
       "    properties['type'] = type;\n",
       "    properties['figure_id'] = this.id;\n",
       "    this.ws.send(JSON.stringify(properties));\n",
       "}\n",
       "\n",
       "mpl.figure.prototype.send_draw_message = function() {\n",
       "    if (!this.waiting) {\n",
       "        this.waiting = true;\n",
       "        this.ws.send(JSON.stringify({type: \"draw\", figure_id: this.id}));\n",
       "    }\n",
       "}\n",
       "\n",
       "\n",
       "mpl.figure.prototype.handle_save = function(fig, msg) {\n",
       "    var format_dropdown = fig.format_dropdown;\n",
       "    var format = format_dropdown.options[format_dropdown.selectedIndex].value;\n",
       "    fig.ondownload(fig, format);\n",
       "}\n",
       "\n",
       "\n",
       "mpl.figure.prototype.handle_resize = function(fig, msg) {\n",
       "    var size = msg['size'];\n",
       "    if (size[0] != fig.canvas.width || size[1] != fig.canvas.height) {\n",
       "        fig._resize_canvas(size[0], size[1]);\n",
       "        fig.send_message(\"refresh\", {});\n",
       "    };\n",
       "}\n",
       "\n",
       "mpl.figure.prototype.handle_rubberband = function(fig, msg) {\n",
       "    var x0 = msg['x0'] / mpl.ratio;\n",
       "    var y0 = (fig.canvas.height - msg['y0']) / mpl.ratio;\n",
       "    var x1 = msg['x1'] / mpl.ratio;\n",
       "    var y1 = (fig.canvas.height - msg['y1']) / mpl.ratio;\n",
       "    x0 = Math.floor(x0) + 0.5;\n",
       "    y0 = Math.floor(y0) + 0.5;\n",
       "    x1 = Math.floor(x1) + 0.5;\n",
       "    y1 = Math.floor(y1) + 0.5;\n",
       "    var min_x = Math.min(x0, x1);\n",
       "    var min_y = Math.min(y0, y1);\n",
       "    var width = Math.abs(x1 - x0);\n",
       "    var height = Math.abs(y1 - y0);\n",
       "\n",
       "    fig.rubberband_context.clearRect(\n",
       "        0, 0, fig.canvas.width / mpl.ratio, fig.canvas.height / mpl.ratio);\n",
       "\n",
       "    fig.rubberband_context.strokeRect(min_x, min_y, width, height);\n",
       "}\n",
       "\n",
       "mpl.figure.prototype.handle_figure_label = function(fig, msg) {\n",
       "    // Updates the figure title.\n",
       "    fig.header.textContent = msg['label'];\n",
       "}\n",
       "\n",
       "mpl.figure.prototype.handle_cursor = function(fig, msg) {\n",
       "    var cursor = msg['cursor'];\n",
       "    switch(cursor)\n",
       "    {\n",
       "    case 0:\n",
       "        cursor = 'pointer';\n",
       "        break;\n",
       "    case 1:\n",
       "        cursor = 'default';\n",
       "        break;\n",
       "    case 2:\n",
       "        cursor = 'crosshair';\n",
       "        break;\n",
       "    case 3:\n",
       "        cursor = 'move';\n",
       "        break;\n",
       "    }\n",
       "    fig.rubberband_canvas.style.cursor = cursor;\n",
       "}\n",
       "\n",
       "mpl.figure.prototype.handle_message = function(fig, msg) {\n",
       "    fig.message.textContent = msg['message'];\n",
       "}\n",
       "\n",
       "mpl.figure.prototype.handle_draw = function(fig, msg) {\n",
       "    // Request the server to send over a new figure.\n",
       "    fig.send_draw_message();\n",
       "}\n",
       "\n",
       "mpl.figure.prototype.handle_image_mode = function(fig, msg) {\n",
       "    fig.image_mode = msg['mode'];\n",
       "}\n",
       "\n",
       "mpl.figure.prototype.updated_canvas_event = function() {\n",
       "    // Called whenever the canvas gets updated.\n",
       "    this.send_message(\"ack\", {});\n",
       "}\n",
       "\n",
       "// A function to construct a web socket function for onmessage handling.\n",
       "// Called in the figure constructor.\n",
       "mpl.figure.prototype._make_on_message_function = function(fig) {\n",
       "    return function socket_on_message(evt) {\n",
       "        if (evt.data instanceof Blob) {\n",
       "            /* FIXME: We get \"Resource interpreted as Image but\n",
       "             * transferred with MIME type text/plain:\" errors on\n",
       "             * Chrome.  But how to set the MIME type?  It doesn't seem\n",
       "             * to be part of the websocket stream */\n",
       "            evt.data.type = \"image/png\";\n",
       "\n",
       "            /* Free the memory for the previous frames */\n",
       "            if (fig.imageObj.src) {\n",
       "                (window.URL || window.webkitURL).revokeObjectURL(\n",
       "                    fig.imageObj.src);\n",
       "            }\n",
       "\n",
       "            fig.imageObj.src = (window.URL || window.webkitURL).createObjectURL(\n",
       "                evt.data);\n",
       "            fig.updated_canvas_event();\n",
       "            fig.waiting = false;\n",
       "            return;\n",
       "        }\n",
       "        else if (typeof evt.data === 'string' && evt.data.slice(0, 21) == \"data:image/png;base64\") {\n",
       "            fig.imageObj.src = evt.data;\n",
       "            fig.updated_canvas_event();\n",
       "            fig.waiting = false;\n",
       "            return;\n",
       "        }\n",
       "\n",
       "        var msg = JSON.parse(evt.data);\n",
       "        var msg_type = msg['type'];\n",
       "\n",
       "        // Call the  \"handle_{type}\" callback, which takes\n",
       "        // the figure and JSON message as its only arguments.\n",
       "        try {\n",
       "            var callback = fig[\"handle_\" + msg_type];\n",
       "        } catch (e) {\n",
       "            console.log(\"No handler for the '\" + msg_type + \"' message type: \", msg);\n",
       "            return;\n",
       "        }\n",
       "\n",
       "        if (callback) {\n",
       "            try {\n",
       "                // console.log(\"Handling '\" + msg_type + \"' message: \", msg);\n",
       "                callback(fig, msg);\n",
       "            } catch (e) {\n",
       "                console.log(\"Exception inside the 'handler_\" + msg_type + \"' callback:\", e, e.stack, msg);\n",
       "            }\n",
       "        }\n",
       "    };\n",
       "}\n",
       "\n",
       "// from http://stackoverflow.com/questions/1114465/getting-mouse-location-in-canvas\n",
       "mpl.findpos = function(e) {\n",
       "    //this section is from http://www.quirksmode.org/js/events_properties.html\n",
       "    var targ;\n",
       "    if (!e)\n",
       "        e = window.event;\n",
       "    if (e.target)\n",
       "        targ = e.target;\n",
       "    else if (e.srcElement)\n",
       "        targ = e.srcElement;\n",
       "    if (targ.nodeType == 3) // defeat Safari bug\n",
       "        targ = targ.parentNode;\n",
       "\n",
       "    // jQuery normalizes the pageX and pageY\n",
       "    // pageX,Y are the mouse positions relative to the document\n",
       "    // offset() returns the position of the element relative to the document\n",
       "    var x = e.pageX - $(targ).offset().left;\n",
       "    var y = e.pageY - $(targ).offset().top;\n",
       "\n",
       "    return {\"x\": x, \"y\": y};\n",
       "};\n",
       "\n",
       "/*\n",
       " * return a copy of an object with only non-object keys\n",
       " * we need this to avoid circular references\n",
       " * http://stackoverflow.com/a/24161582/3208463\n",
       " */\n",
       "function simpleKeys (original) {\n",
       "  return Object.keys(original).reduce(function (obj, key) {\n",
       "    if (typeof original[key] !== 'object')\n",
       "        obj[key] = original[key]\n",
       "    return obj;\n",
       "  }, {});\n",
       "}\n",
       "\n",
       "mpl.figure.prototype.mouse_event = function(event, name) {\n",
       "    var canvas_pos = mpl.findpos(event)\n",
       "\n",
       "    if (name === 'button_press')\n",
       "    {\n",
       "        this.canvas.focus();\n",
       "        this.canvas_div.focus();\n",
       "    }\n",
       "\n",
       "    var x = canvas_pos.x * mpl.ratio;\n",
       "    var y = canvas_pos.y * mpl.ratio;\n",
       "\n",
       "    this.send_message(name, {x: x, y: y, button: event.button,\n",
       "                             step: event.step,\n",
       "                             guiEvent: simpleKeys(event)});\n",
       "\n",
       "    /* This prevents the web browser from automatically changing to\n",
       "     * the text insertion cursor when the button is pressed.  We want\n",
       "     * to control all of the cursor setting manually through the\n",
       "     * 'cursor' event from matplotlib */\n",
       "    event.preventDefault();\n",
       "    return false;\n",
       "}\n",
       "\n",
       "mpl.figure.prototype._key_event_extra = function(event, name) {\n",
       "    // Handle any extra behaviour associated with a key event\n",
       "}\n",
       "\n",
       "mpl.figure.prototype.key_event = function(event, name) {\n",
       "\n",
       "    // Prevent repeat events\n",
       "    if (name == 'key_press')\n",
       "    {\n",
       "        if (event.which === this._key)\n",
       "            return;\n",
       "        else\n",
       "            this._key = event.which;\n",
       "    }\n",
       "    if (name == 'key_release')\n",
       "        this._key = null;\n",
       "\n",
       "    var value = '';\n",
       "    if (event.ctrlKey && event.which != 17)\n",
       "        value += \"ctrl+\";\n",
       "    if (event.altKey && event.which != 18)\n",
       "        value += \"alt+\";\n",
       "    if (event.shiftKey && event.which != 16)\n",
       "        value += \"shift+\";\n",
       "\n",
       "    value += 'k';\n",
       "    value += event.which.toString();\n",
       "\n",
       "    this._key_event_extra(event, name);\n",
       "\n",
       "    this.send_message(name, {key: value,\n",
       "                             guiEvent: simpleKeys(event)});\n",
       "    return false;\n",
       "}\n",
       "\n",
       "mpl.figure.prototype.toolbar_button_onclick = function(name) {\n",
       "    if (name == 'download') {\n",
       "        this.handle_save(this, null);\n",
       "    } else {\n",
       "        this.send_message(\"toolbar_button\", {name: name});\n",
       "    }\n",
       "};\n",
       "\n",
       "mpl.figure.prototype.toolbar_button_onmouseover = function(tooltip) {\n",
       "    this.message.textContent = tooltip;\n",
       "};\n",
       "mpl.toolbar_items = [[\"Home\", \"Reset original view\", \"fa fa-home icon-home\", \"home\"], [\"Back\", \"Back to previous view\", \"fa fa-arrow-left icon-arrow-left\", \"back\"], [\"Forward\", \"Forward to next view\", \"fa fa-arrow-right icon-arrow-right\", \"forward\"], [\"\", \"\", \"\", \"\"], [\"Pan\", \"Pan axes with left mouse, zoom with right\", \"fa fa-arrows icon-move\", \"pan\"], [\"Zoom\", \"Zoom to rectangle\", \"fa fa-square-o icon-check-empty\", \"zoom\"], [\"\", \"\", \"\", \"\"], [\"Download\", \"Download plot\", \"fa fa-floppy-o icon-save\", \"download\"]];\n",
       "\n",
       "mpl.extensions = [\"eps\", \"jpeg\", \"pdf\", \"png\", \"ps\", \"raw\", \"svg\", \"tif\"];\n",
       "\n",
       "mpl.default_extension = \"png\";var comm_websocket_adapter = function(comm) {\n",
       "    // Create a \"websocket\"-like object which calls the given IPython comm\n",
       "    // object with the appropriate methods. Currently this is a non binary\n",
       "    // socket, so there is still some room for performance tuning.\n",
       "    var ws = {};\n",
       "\n",
       "    ws.close = function() {\n",
       "        comm.close()\n",
       "    };\n",
       "    ws.send = function(m) {\n",
       "        //console.log('sending', m);\n",
       "        comm.send(m);\n",
       "    };\n",
       "    // Register the callback with on_msg.\n",
       "    comm.on_msg(function(msg) {\n",
       "        //console.log('receiving', msg['content']['data'], msg);\n",
       "        // Pass the mpl event to the overridden (by mpl) onmessage function.\n",
       "        ws.onmessage(msg['content']['data'])\n",
       "    });\n",
       "    return ws;\n",
       "}\n",
       "\n",
       "mpl.mpl_figure_comm = function(comm, msg) {\n",
       "    // This is the function which gets called when the mpl process\n",
       "    // starts-up an IPython Comm through the \"matplotlib\" channel.\n",
       "\n",
       "    var id = msg.content.data.id;\n",
       "    // Get hold of the div created by the display call when the Comm\n",
       "    // socket was opened in Python.\n",
       "    var element = $(\"#\" + id);\n",
       "    var ws_proxy = comm_websocket_adapter(comm)\n",
       "\n",
       "    function ondownload(figure, format) {\n",
       "        window.open(figure.imageObj.src);\n",
       "    }\n",
       "\n",
       "    var fig = new mpl.figure(id, ws_proxy,\n",
       "                           ondownload,\n",
       "                           element.get(0));\n",
       "\n",
       "    // Call onopen now - mpl needs it, as it is assuming we've passed it a real\n",
       "    // web socket which is closed, not our websocket->open comm proxy.\n",
       "    ws_proxy.onopen();\n",
       "\n",
       "    fig.parent_element = element.get(0);\n",
       "    fig.cell_info = mpl.find_output_cell(\"<div id='\" + id + \"'></div>\");\n",
       "    if (!fig.cell_info) {\n",
       "        console.error(\"Failed to find cell for figure\", id, fig);\n",
       "        return;\n",
       "    }\n",
       "\n",
       "    var output_index = fig.cell_info[2]\n",
       "    var cell = fig.cell_info[0];\n",
       "\n",
       "};\n",
       "\n",
       "mpl.figure.prototype.handle_close = function(fig, msg) {\n",
       "    var width = fig.canvas.width/mpl.ratio\n",
       "    fig.root.unbind('remove')\n",
       "\n",
       "    // Update the output cell to use the data from the current canvas.\n",
       "    fig.push_to_output();\n",
       "    var dataURL = fig.canvas.toDataURL();\n",
       "    // Re-enable the keyboard manager in IPython - without this line, in FF,\n",
       "    // the notebook keyboard shortcuts fail.\n",
       "    IPython.keyboard_manager.enable()\n",
       "    $(fig.parent_element).html('<img src=\"' + dataURL + '\" width=\"' + width + '\">');\n",
       "    fig.close_ws(fig, msg);\n",
       "}\n",
       "\n",
       "mpl.figure.prototype.close_ws = function(fig, msg){\n",
       "    fig.send_message('closing', msg);\n",
       "    // fig.ws.close()\n",
       "}\n",
       "\n",
       "mpl.figure.prototype.push_to_output = function(remove_interactive) {\n",
       "    // Turn the data on the canvas into data in the output cell.\n",
       "    var width = this.canvas.width/mpl.ratio\n",
       "    var dataURL = this.canvas.toDataURL();\n",
       "    this.cell_info[1]['text/html'] = '<img src=\"' + dataURL + '\" width=\"' + width + '\">';\n",
       "}\n",
       "\n",
       "mpl.figure.prototype.updated_canvas_event = function() {\n",
       "    // Tell IPython that the notebook contents must change.\n",
       "    IPython.notebook.set_dirty(true);\n",
       "    this.send_message(\"ack\", {});\n",
       "    var fig = this;\n",
       "    // Wait a second, then push the new image to the DOM so\n",
       "    // that it is saved nicely (might be nice to debounce this).\n",
       "    setTimeout(function () { fig.push_to_output() }, 1000);\n",
       "}\n",
       "\n",
       "mpl.figure.prototype._init_toolbar = function() {\n",
       "    var fig = this;\n",
       "\n",
       "    var nav_element = $('<div/>');\n",
       "    nav_element.attr('style', 'width: 100%');\n",
       "    this.root.append(nav_element);\n",
       "\n",
       "    // Define a callback function for later on.\n",
       "    function toolbar_event(event) {\n",
       "        return fig.toolbar_button_onclick(event['data']);\n",
       "    }\n",
       "    function toolbar_mouse_event(event) {\n",
       "        return fig.toolbar_button_onmouseover(event['data']);\n",
       "    }\n",
       "\n",
       "    for(var toolbar_ind in mpl.toolbar_items){\n",
       "        var name = mpl.toolbar_items[toolbar_ind][0];\n",
       "        var tooltip = mpl.toolbar_items[toolbar_ind][1];\n",
       "        var image = mpl.toolbar_items[toolbar_ind][2];\n",
       "        var method_name = mpl.toolbar_items[toolbar_ind][3];\n",
       "\n",
       "        if (!name) { continue; };\n",
       "\n",
       "        var button = $('<button class=\"btn btn-default\" href=\"#\" title=\"' + name + '\"><i class=\"fa ' + image + ' fa-lg\"></i></button>');\n",
       "        button.click(method_name, toolbar_event);\n",
       "        button.mouseover(tooltip, toolbar_mouse_event);\n",
       "        nav_element.append(button);\n",
       "    }\n",
       "\n",
       "    // Add the status bar.\n",
       "    var status_bar = $('<span class=\"mpl-message\" style=\"text-align:right; float: right;\"/>');\n",
       "    nav_element.append(status_bar);\n",
       "    this.message = status_bar[0];\n",
       "\n",
       "    // Add the close button to the window.\n",
       "    var buttongrp = $('<div class=\"btn-group inline pull-right\"></div>');\n",
       "    var button = $('<button class=\"btn btn-mini btn-primary\" href=\"#\" title=\"Stop Interaction\"><i class=\"fa fa-power-off icon-remove icon-large\"></i></button>');\n",
       "    button.click(function (evt) { fig.handle_close(fig, {}); } );\n",
       "    button.mouseover('Stop Interaction', toolbar_mouse_event);\n",
       "    buttongrp.append(button);\n",
       "    var titlebar = this.root.find($('.ui-dialog-titlebar'));\n",
       "    titlebar.prepend(buttongrp);\n",
       "}\n",
       "\n",
       "mpl.figure.prototype._root_extra_style = function(el){\n",
       "    var fig = this\n",
       "    el.on(\"remove\", function(){\n",
       "\tfig.close_ws(fig, {});\n",
       "    });\n",
       "}\n",
       "\n",
       "mpl.figure.prototype._canvas_extra_style = function(el){\n",
       "    // this is important to make the div 'focusable\n",
       "    el.attr('tabindex', 0)\n",
       "    // reach out to IPython and tell the keyboard manager to turn it's self\n",
       "    // off when our div gets focus\n",
       "\n",
       "    // location in version 3\n",
       "    if (IPython.notebook.keyboard_manager) {\n",
       "        IPython.notebook.keyboard_manager.register_events(el);\n",
       "    }\n",
       "    else {\n",
       "        // location in version 2\n",
       "        IPython.keyboard_manager.register_events(el);\n",
       "    }\n",
       "\n",
       "}\n",
       "\n",
       "mpl.figure.prototype._key_event_extra = function(event, name) {\n",
       "    var manager = IPython.notebook.keyboard_manager;\n",
       "    if (!manager)\n",
       "        manager = IPython.keyboard_manager;\n",
       "\n",
       "    // Check for shift+enter\n",
       "    if (event.shiftKey && event.which == 13) {\n",
       "        this.canvas_div.blur();\n",
       "        // select the cell after this one\n",
       "        var index = IPython.notebook.find_cell_index(this.cell_info[0]);\n",
       "        IPython.notebook.select(index + 1);\n",
       "    }\n",
       "}\n",
       "\n",
       "mpl.figure.prototype.handle_save = function(fig, msg) {\n",
       "    fig.ondownload(fig, null);\n",
       "}\n",
       "\n",
       "\n",
       "mpl.find_output_cell = function(html_output) {\n",
       "    // Return the cell and output element which can be found *uniquely* in the notebook.\n",
       "    // Note - this is a bit hacky, but it is done because the \"notebook_saving.Notebook\"\n",
       "    // IPython event is triggered only after the cells have been serialised, which for\n",
       "    // our purposes (turning an active figure into a static one), is too late.\n",
       "    var cells = IPython.notebook.get_cells();\n",
       "    var ncells = cells.length;\n",
       "    for (var i=0; i<ncells; i++) {\n",
       "        var cell = cells[i];\n",
       "        if (cell.cell_type === 'code'){\n",
       "            for (var j=0; j<cell.output_area.outputs.length; j++) {\n",
       "                var data = cell.output_area.outputs[j];\n",
       "                if (data.data) {\n",
       "                    // IPython >= 3 moved mimebundle to data attribute of output\n",
       "                    data = data.data;\n",
       "                }\n",
       "                if (data['text/html'] == html_output) {\n",
       "                    return [cell, data, j];\n",
       "                }\n",
       "            }\n",
       "        }\n",
       "    }\n",
       "}\n",
       "\n",
       "// Register the function which deals with the matplotlib target/channel.\n",
       "// The kernel may be null if the page has been refreshed.\n",
       "if (IPython.notebook.kernel != null) {\n",
       "    IPython.notebook.kernel.comm_manager.register_target('matplotlib', mpl.mpl_figure_comm);\n",
       "}\n"
      ],
      "text/plain": [
       "<IPython.core.display.Javascript object>"
      ]
     },
     "metadata": {},
     "output_type": "display_data"
    },
    {
     "data": {
      "text/html": [
       "<img src=\"data:image/png;base64,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\" width=\"999.75\">"
      ],
      "text/plain": [
       "<IPython.core.display.HTML object>"
      ]
     },
     "metadata": {},
     "output_type": "display_data"
    }
   ],
   "source": [
    "dual_train_plots(results.index,\n",
    "                 results.cost, results.val,\n",
    "                 results.cost, results.val)\n",
    "plt.tight_layout()\n",
    "plt.savefig(str(output / f'{name}_stats_a.png'))"
   ]
  },
  {
   "cell_type": "code",
   "execution_count": 22,
   "metadata": {},
   "outputs": [],
   "source": [
    "##quit()\n"
   ]
  },
  {
   "cell_type": "code",
   "execution_count": null,
   "metadata": {},
   "outputs": [],
   "source": []
  },
  {
   "cell_type": "code",
   "execution_count": null,
   "metadata": {},
   "outputs": [],
   "source": []
  }
 ],
 "metadata": {
  "kernelspec": {
   "display_name": "goofit-june2020",
   "language": "python",
   "name": "goofit-june2020"
  },
  "language_info": {
   "codemirror_mode": {
    "name": "ipython",
    "version": 3
   },
   "file_extension": ".py",
   "mimetype": "text/x-python",
   "name": "python",
   "nbconvert_exporter": "python",
   "pygments_lexer": "ipython3",
   "version": "3.7.6"
  }
 },
 "nbformat": 4,
 "nbformat_minor": 2
}
