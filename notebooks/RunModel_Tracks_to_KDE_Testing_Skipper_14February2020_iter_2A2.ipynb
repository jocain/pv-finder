{
 "cells": [
  {
   "cell_type": "code",
   "execution_count": 1,
   "metadata": {},
   "outputs": [],
   "source": [
    "##%matplotlib widget\n",
    "## with %matplotlib notebook: seems to require ipympl as part of environment, either\n",
    "## part of the conda environment or \"pip install ipympl\"\n",
    "## otherwise, does not show ANY plots in note\"book, plt.savefig() works\n",
    "%matplotlib notebook  \n",
    "##%matplotlib inline    ## --plt.savefig()  works, but re-sizing does NOT\n"
   ]
  },
  {
   "cell_type": "markdown",
   "metadata": {},
   "source": [
    "This notebook has been created from the last iteration of \n",
    "\n",
    "  RunModel_Tracks_to_KDE_Testing_Skipper_14November2020_iter_1A\n",
    "  \n",
    "and has modified to\n",
    "<ol>\n",
    "    <li>  use a different loss function (kde_loss_Ba)</li>\n",
    "    <li>  use much more training data (using Will's files)</li>\n",
    "</ol>\n",
    "    "
   ]
  },
  {
   "cell_type": "markdown",
   "metadata": {},
   "source": [
    "Check the current GPU usage. Please try to be nice!"
   ]
  },
  {
   "cell_type": "code",
   "execution_count": 2,
   "metadata": {},
   "outputs": [
    {
     "name": "stdout",
     "output_type": "stream",
     "text": [
      "Sun Feb 14 21:02:45 2021       \r\n",
      "+-----------------------------------------------------------------------------+\r\n",
      "| NVIDIA-SMI 440.64.00    Driver Version: 440.64.00    CUDA Version: 10.2     |\r\n",
      "|-------------------------------+----------------------+----------------------+\r\n",
      "| GPU  Name        Persistence-M| Bus-Id        Disp.A | Volatile Uncorr. ECC |\r\n",
      "| Fan  Temp  Perf  Pwr:Usage/Cap|         Memory-Usage | GPU-Util  Compute M. |\r\n",
      "|===============================+======================+======================|\r\n",
      "|   0  TITAN V             Off  | 00000000:03:00.0 Off |                  N/A |\r\n",
      "| 19%   35C    P0    32W / 250W |      0MiB / 12066MiB |      0%      Default |\r\n",
      "+-------------------------------+----------------------+----------------------+\r\n",
      "|   1  Tesla P100-PCIE...  Off  | 00000000:83:00.0 Off |                    0 |\r\n",
      "| N/A   32C    P0    29W / 250W |      0MiB / 16280MiB |      0%      Default |\r\n",
      "+-------------------------------+----------------------+----------------------+\r\n",
      "|   2  TITAN V             Off  | 00000000:84:00.0 Off |                  N/A |\r\n",
      "| 49%   67C    P2   100W / 250W |   4875MiB / 12066MiB |     91%      Default |\r\n",
      "+-------------------------------+----------------------+----------------------+\r\n",
      "                                                                               \r\n",
      "+-----------------------------------------------------------------------------+\r\n",
      "| Processes:                                                       GPU Memory |\r\n",
      "|  GPU       PID   Type   Process name                             Usage      |\r\n",
      "|=============================================================================|\r\n",
      "|    2     36599      C   ...a/conda/envs/goofit-june2020/bin/python  4863MiB |\r\n",
      "+-----------------------------------------------------------------------------+\r\n"
     ]
    }
   ],
   "source": [
    "!nvidia-smi"
   ]
  },
  {
   "cell_type": "markdown",
   "metadata": {},
   "source": [
    "> **WARNING**: The card numbers here are *not* the same as in CUDA. You have been warned."
   ]
  },
  {
   "cell_type": "markdown",
   "metadata": {},
   "source": [
    "This notebook is first attempt to read in track information and use it to predict the KDE used as input to PvFinder.\n"
   ]
  },
  {
   "cell_type": "markdown",
   "metadata": {},
   "source": [
    "## Imports"
   ]
  },
  {
   "cell_type": "code",
   "execution_count": 3,
   "metadata": {},
   "outputs": [],
   "source": [
    "import matplotlib.pyplot as plt\n",
    "import numpy as np\n",
    "import time\n",
    "import torch\n",
    "import pandas as pd\n",
    "\n",
    "# Python 3 standard library\n",
    "from pathlib import Path\n",
    "\n",
    "##from torchsummary import summary"
   ]
  },
  {
   "cell_type": "markdown",
   "metadata": {},
   "source": [
    "### Set up local parameters"
   ]
  },
  {
   "cell_type": "code",
   "execution_count": 4,
   "metadata": {},
   "outputs": [],
   "source": [
    "n_epochs = 250\n",
    "\n",
    "# Name is the output file name\n",
    "\n",
    "\n",
    "##  201027 -- about to go to bed, so try 2500 epochs with lr = 1e55\n",
    "##  previous iteration had l4 = 3e-5 and cost dropped almost linearly\n",
    "##  for 100 epochs -- final training costs ~ 2.02, validation cost ~ 2.01\n",
    "\n",
    "## Iter 2A ended with training cost = 3.94; validatin 3.7 - 3.8\n",
    "folder = '14February_Skipper_iter2A2_250epochs_1em5_4xwill'\n",
    "name   = folder\n",
    "\n",
    "# Make an output folder named \"name\" (change if you want)\n",
    "\n",
    "## Special instructions for those working on goofy at UC\n",
    "## Please be very careful to make sure that your folder\n",
    "## does not live in a subdirectory of your home directory\n",
    "## this disk has very little capacity. Instead, use \n",
    "## a subdirectory in /share/lazy with a symbolic link to\n",
    "## it in this (the notebooks) subdirectory\n",
    "folder = 'ML/' + folder\n",
    "output = Path(folder)\n",
    "\n",
    "\n",
    "# Size of batches\n",
    "batch_size = 64\n",
    "# How fast to learn\n",
    "learning_rate = 1e-5"
   ]
  },
  {
   "cell_type": "markdown",
   "metadata": {},
   "source": [
    "Make the output directory if it does not exist:"
   ]
  },
  {
   "cell_type": "code",
   "execution_count": 5,
   "metadata": {},
   "outputs": [],
   "source": [
    "output.mkdir(exist_ok=True)"
   ]
  },
  {
   "cell_type": "markdown",
   "metadata": {},
   "source": [
    "## Get the helper functions\n",
    "\n",
    "Add the directory with the model\n",
    "definitions to the path so we can import from it:\n",
    "\n",
    "> When you type `import X`,\n",
    "Python searches `sys.path` for a python\n",
    "file named `X.py` to import. So we need to add the model directory to the path."
   ]
  },
  {
   "cell_type": "code",
   "execution_count": 6,
   "metadata": {
    "scrolled": true
   },
   "outputs": [],
   "source": [
    "# From model/collectdata.py\n",
    "##from model.collectdata_kde_B import collect_t2kde_data\n",
    "## collectdata_kde_C should use the new poca KDE rather than the original kernel KDE\n",
    "from model.collectdata_kde_Ellipsoids import collect_t2kde_data\n",
    "\n",
    "\n",
    "# From model/loss.py\n",
    "##from loss import Loss\n",
    "## kde_loss_D includes botha ratio term and a chisq term, 98% ave_chisq\n",
    "## kde_loss_E adds a chi^4 term to the kde_loss_D return value\n",
    "## this is intended to emphasize the importance of values significantly different than zero\n",
    "from model.kde_loss_Ba import Loss\n",
    "\n",
    "##  TracksToKDE_Ellipsoids_Skipper has 12 hidden layers producing the 4000-bin KDE historgram\n",
    "##  It takes 9 input features (pocca centers + (A,B,C,D,E,F) . \n",
    "from model.models_kde import TracksToKDE_Ellipsoids_Skipper as Model\n",
    "\n",
    "\n",
    "from model.training_kde import trainNet, select_gpu, Results\n",
    "from model.plots import dual_train_plots, replace_in_ax"
   ]
  },
  {
   "cell_type": "code",
   "execution_count": 7,
   "metadata": {},
   "outputs": [],
   "source": [
    "# This gets built up during the run - do not rerun this cell\n",
    "results = pd.DataFrame([], columns=Results._fields)"
   ]
  },
  {
   "cell_type": "markdown",
   "metadata": {},
   "source": [
    "Set up Torch device configuration. All tensors and model parameters need to know where to be put.\n",
    "This takes a BUS ID number: The BUS ID is the same as the listing at the top of this script."
   ]
  },
  {
   "cell_type": "code",
   "execution_count": 8,
   "metadata": {},
   "outputs": [
    {
     "name": "stdout",
     "output_type": "stream",
     "text": [
      "1 available GPUs (initially using device 0):\n",
      "  0 TITAN V\n"
     ]
    }
   ],
   "source": [
    "device = select_gpu(0)\n",
    "##device = \"cpu\""
   ]
  },
  {
   "cell_type": "markdown",
   "metadata": {},
   "source": [
    "## Loading data\n",
    "\n",
    "Load the dataset, split into parts, then move to device (see `collectdata.py` in the `../model` directory)"
   ]
  },
  {
   "cell_type": "markdown",
   "metadata": {},
   "source": [
    "# Preparing the model"
   ]
  },
  {
   "cell_type": "markdown",
   "metadata": {},
   "source": [
    "Prepare a model, use multiple GPUs if they are VISIBLE, and move the model to the device."
   ]
  },
  {
   "cell_type": "code",
   "execution_count": 9,
   "metadata": {
    "scrolled": true
   },
   "outputs": [],
   "source": [
    "##print(\"Let's use\", torch.cuda.device_count(), \"GPUs!\")\n",
    "##if torch.cuda.device_count() > 1:\n",
    "##    model = torch.nn.DataParallel(model)"
   ]
  },
  {
   "cell_type": "code",
   "execution_count": 10,
   "metadata": {},
   "outputs": [
    {
     "name": "stdout",
     "output_type": "stream",
     "text": [
      "ct, child =  0    Linear(in_features=9, out_features=50, bias=True)\n",
      "ct, child =  1    Linear(in_features=50, out_features=50, bias=True)\n",
      "ct, child =  2    Linear(in_features=50, out_features=50, bias=True)\n",
      "ct, child =  3    Linear(in_features=59, out_features=50, bias=True)\n",
      "ct, child =  4    Linear(in_features=50, out_features=50, bias=True)\n",
      "ct, child =  5    Linear(in_features=50, out_features=50, bias=True)\n",
      "ct, child =  6    Linear(in_features=50, out_features=50, bias=True)\n",
      "ct, child =  7    Linear(in_features=59, out_features=50, bias=True)\n",
      "ct, child =  8    Linear(in_features=50, out_features=50, bias=True)\n",
      "ct, child =  9    Linear(in_features=50, out_features=50, bias=True)\n",
      "ct, child =  10    Linear(in_features=50, out_features=50, bias=True)\n",
      "ct, child =  11    Linear(in_features=59, out_features=4000, bias=True)\n"
     ]
    }
   ],
   "source": [
    "## a comment on the web at https://pytorch.org/docs/stable/optim.html says\n",
    "\"\"\"\n",
    "If you need to move a model to GPU via .cuda(), please do so before constructing optimizers for it. \n",
    "Parameters of a model after .cuda() will be different objects with those before the call.\n",
    "\n",
    "In general, you should make sure that optimized parameters live in consistent locations when \n",
    "optimizers are constructed and used.\n",
    "\"\"\"\n",
    "## so move this here (although we are using model.to(device) not explicitly using .cuda()\n",
    "\n",
    "nOut1 = 50\n",
    "nOut2 = 50\n",
    "nOut3 = 50\n",
    "nOut4 = 50\n",
    "nOut5 = 50\n",
    "nOut6 = 50\n",
    "nOut7 = 50\n",
    "nOut8 = 50\n",
    "nOut9 = 50\n",
    "nOut10 = 50\n",
    "nOut11 = 50\n",
    "model = Model(nOut1,nOut2,nOut3,nOut4,nOut5,nOut6,nOut7,nOut8,nOut9,nOut10,nOut11)\n",
    "\n",
    "##summary(model, input_size=(4, 4000))\n",
    "##print(model.parameters)\n",
    "\n",
    "## add the following code to allow the user to freeze the some of the weights corresponding \n",
    "## to those taken from an earlier model trained with the original target histograms\n",
    "## presumably -- this leaves either the perturbative filter \"fixed\" and lets the \n",
    "## learning focus on the non-perturbative features, so get started faster, or vice versa\n",
    "ct = 0\n",
    "for child in model.children():\n",
    "  print('ct, child = ',ct, \"  \", child)\n",
    "  if ct < 0:\n",
    "    print(\"     About to set param.requires_grad=False for ct = \", ct, \"params\")\n",
    "    for param in child.parameters():\n",
    "        param.requires_grad = False \n",
    "  ct += 1\n",
    "##  mds 200121 loss = Loss(epsilon=1e-5,coefficient=1.0)\n",
    "##  loss = Loss(epsilon=1e-5,coefficient=2.5)\n",
    "##loss = Loss(epsilon=3e-5, debug=False)\n",
    "loss = Loss(epsilon=3e-5)"
   ]
  },
  {
   "cell_type": "markdown",
   "metadata": {},
   "source": [
    "Let's move the model's weight matricies to the GPU:"
   ]
  },
  {
   "cell_type": "code",
   "execution_count": 11,
   "metadata": {
    "scrolled": true
   },
   "outputs": [],
   "source": [
    "model = model.to(device)"
   ]
  },
  {
   "cell_type": "code",
   "execution_count": 12,
   "metadata": {
    "scrolled": true
   },
   "outputs": [],
   "source": [
    "optimizer = torch.optim.Adam(model.parameters(), lr=learning_rate)\n",
    "##optimizer = torch.optim.SGD(model.parameters(), lr=learning_rate)"
   ]
  },
  {
   "cell_type": "code",
   "execution_count": 13,
   "metadata": {},
   "outputs": [
    {
     "name": "stdout",
     "output_type": "stream",
     "text": [
      "output =  ML/14February_Skipper_iter2A2_250epochs_1em5_4xwill\n",
      "for model_dict\n",
      "index, k =   0    layer1.weight\n",
      "index, k =   1    layer1.bias\n",
      "index, k =   2    layer2.weight\n",
      "index, k =   3    layer2.bias\n",
      "index, k =   4    layer3.weight\n",
      "index, k =   5    layer3.bias\n",
      "index, k =   6    layer4.weight\n",
      "index, k =   7    layer4.bias\n",
      "index, k =   8    layer5.weight\n",
      "index, k =   9    layer5.bias\n",
      "index, k =   10    layer6.weight\n",
      "index, k =   11    layer6.bias\n",
      "index, k =   12    layer7.weight\n",
      "index, k =   13    layer7.bias\n",
      "index, k =   14    layer8.weight\n",
      "index, k =   15    layer8.bias\n",
      "index, k =   16    layer9.weight\n",
      "index, k =   17    layer9.bias\n",
      "index, k =   18    layer10.weight\n",
      "index, k =   19    layer10.bias\n",
      "index, k =   20    layer11.weight\n",
      "index, k =   21    layer11.bias\n",
      "index, k =   22    layer12.weight\n",
      "index, k =   23    layer12.bias\n"
     ]
    }
   ],
   "source": [
    "print('output = ',output)\n",
    "##print('oldOutput = ',oldOutput)\n",
    "##  use the first four layers from a pre-existing model\n",
    "##  see example at https://discuss.pytorch.org/t/how-to-load-part-of-pre-trained-model/1113\n",
    "\n",
    "##   ML -> /share/lazy/sokoloff/ML\n",
    "model_dict = model.state_dict()\n",
    "## mds 190725 for debugging\n",
    "print(\"for model_dict\")\n",
    "index = 0\n",
    "for k,v in model_dict.items():\n",
    "    print(\"index, k =  \",index,\"  \",k)\n",
    "    index = index+1\n",
    "##    print(\"value = \", v)\n",
    " \n",
    "updated_dict = model_dict\n",
    "##print(\"updated_dict = \",updated_dict)\n",
    "## when starting \"ab initio\", reduce biases as the bias gets summed for each track\n",
    "## contributing to the predicted KDE\n",
    "updated_dict[\"layer1.bias\"] = 0.005*model_dict[\"layer1.bias\"]\n",
    "updated_dict[\"layer2.bias\"] = 0.005*model_dict[\"layer2.bias\"]\n",
    "updated_dict[\"layer3.bias\"] = 0.005*model_dict[\"layer3.bias\"]\n",
    "updated_dict[\"layer4.bias\"] = 0.005*model_dict[\"layer4.bias\"]\n",
    "updated_dict[\"layer5.bias\"] = 0.005*model_dict[\"layer5.bias\"]\n",
    "updated_dict[\"layer6.bias\"] = 0.005*model_dict[\"layer6.bias\"]\n",
    "updated_dict[\"layer7.bias\"] = 0.005*model_dict[\"layer7.bias\"]\n",
    "updated_dict[\"layer8.bias\"] = 0.005*model_dict[\"layer8.bias\"]\n",
    "updated_dict[\"layer9.bias\"] = 0.005*model_dict[\"layer9.bias\"]\n",
    "updated_dict[\"layer10.bias\"] = 0.005*model_dict[\"layer10.bias\"]\n",
    "updated_dict[\"layer11.bias\"] = 0.005*model_dict[\"layer11.bias\"]\n",
    "\n",
    "model.load_state_dict(updated_dict,strict=False)\n",
    "\n",
    "model_dict = model.state_dict()\n"
   ]
  },
  {
   "cell_type": "code",
   "execution_count": 14,
   "metadata": {
    "scrolled": false
   },
   "outputs": [
    {
     "name": "stdout",
     "output_type": "stream",
     "text": [
      " \n",
      "  for pretrained_dict\n",
      "index, k =   0    layer1.weight\n",
      "index, k =   1    layer1.bias\n",
      "index, k =   2    layer2.weight\n",
      "index, k =   3    layer2.bias\n",
      "index, k =   4    layer3.weight\n",
      "index, k =   5    layer3.bias\n",
      "index, k =   6    layer4.weight\n",
      "index, k =   7    layer4.bias\n",
      "index, k =   8    layer5.weight\n",
      "index, k =   9    layer5.bias\n",
      "index, k =   10    layer6.weight\n",
      "index, k =   11    layer6.bias\n",
      "index, k =   12    layer7.weight\n",
      "index, k =   13    layer7.bias\n",
      "index, k =   14    layer8.weight\n",
      "index, k =   15    layer8.bias\n",
      "index, k =   16    layer9.weight\n",
      "index, k =   17    layer9.bias\n",
      "index, k =   18    layer10.weight\n",
      "index, k =   19    layer10.bias\n",
      "index, k =   20    layer11.weight\n",
      "index, k =   21    layer11.bias\n",
      "index, k =   22    layer12.weight\n",
      "index, k =   23    layer12.bias\n",
      "pretrained_dict iterated\n"
     ]
    },
    {
     "data": {
      "text/plain": [
       "<All keys matched successfully>"
      ]
     },
     "execution_count": 14,
     "metadata": {},
     "output_type": "execute_result"
    }
   ],
   "source": [
    "##old_file = '15November_testing_Skipper_first_learning_iter_2A_1000epochs_1em5'\n",
    "##old_file = '15November_testing_Skipper_first_learning_iter_2B_1000epochs_5em6'\n",
    "##old_file = '15November_testing_Skipper_first_learning_iter_3B_1000epochs_3em6'\n",
    "old_file = '14February_Skipper_2A_20epochs_1em5_4xwill'\n",
    "old_name = old_file\n",
    "iter_name = \"final\"\n",
    "dict_name = \"ML/\" + old_file + \"/\" + old_name + \"_\" + iter_name + \".pyt\"\n",
    "pretrained_dict = torch.load(dict_name)\n",
    "\n",
    "\n",
    "print(\" \")\n",
    "print(\"  for pretrained_dict\")\n",
    "index = 0\n",
    "for k,v in pretrained_dict.items():\n",
    "    print(\"index, k =  \",index,\"  \",k)\n",
    "    index = index+1\n",
    " \n",
    "\n",
    "##print(\"model_dict instantiated\")\n",
    "# 1. filter out unnecessary keys\n",
    "pretrained_dict = {k: v for k, v in pretrained_dict.items() if k in model_dict}\n",
    "print(\"pretrained_dict iterated\")\n",
    "# 2. overwrite entries in the existing state dict\n",
    "model_dict.update(pretrained_dict) \n",
    "##\n",
    "#   when starting from a model with a fully connected last layer rather than a convolutional layer\n",
    "# 3. load the new state dict\n",
    "#   need to use strict=False as the two models state model attributes do not agree exactly\n",
    "#   see https://pytorch.org/docs/master/_modules/torch/nn/modules/module.html#Module.load_state_dict\n",
    "\n",
    "model.load_state_dict(pretrained_dict,strict=False)"
   ]
  },
  {
   "cell_type": "code",
   "execution_count": 15,
   "metadata": {},
   "outputs": [],
   "source": [
    "##print('validation.dataset.tensors = ',validation.dataset.tensors)\n",
    "fig_size = plt.rcParams[\"figure.figsize\"]\n",
    "fig_size[0] = 10\n",
    "fig_size[1] = 4\n",
    "plt.rcParams[\"figure.figsize\"] = fig_size"
   ]
  },
  {
   "cell_type": "code",
   "execution_count": 16,
   "metadata": {
    "scrolled": false
   },
   "outputs": [
    {
     "name": "stdout",
     "output_type": "stream",
     "text": [
      "Loading data...\n",
      "pocaMx.shape =  (80000,)\n",
      "nEvts =  80000\n",
      "len(pocaMx[0]) =  199\n",
      "len(pocaMx[1]) =  25\n",
      "len(pocaMx[2]) =  369\n",
      "len(pocaMx[3]) =  143\n",
      "len(pocaMx[4]) =  160\n",
      "majorAxis.shape =  (80000, 3)\n",
      "minorAxis_1.shape =  (80000, 3)\n",
      "minorAxis_2.shape =  (80000, 3)\n",
      "have entered six_ellipsoid_parameters\n",
      "  \n",
      " \n",
      "  nEvts =  80000\n",
      " iEvt, nTrks =  0 199\n",
      " iEvt, nTrks =  1 25\n",
      " iEvt, nTrks =  2 369\n",
      " iEvt, nTrks =  3 143\n",
      " iEvt, nTrks =  4 160\n",
      " iEvt, nTrks =  5 260\n",
      " iEvt, nTrks =  6 237\n",
      " iEvt, nTrks =  7 327\n",
      " iEvt, nTrks =  8 178\n",
      " iEvt, nTrks =  9 106\n",
      "A.shape =  (80000,)\n",
      "majorAxis[iTrk][0][0] =  0.00045611936\n",
      "majorAxis[iTrk][1][0] =  -4.8292455e-05\n",
      "majorAxis[iTrk][2][0] =  0.090019904\n",
      "minorAxis_1[iTrk][0][0] =  -1.8602173\n",
      "minorAxis_1[iTrk][1][0] =  -17.569641\n",
      "minorAxis_1[iTrk][2][0] =  4.7891795e-08\n",
      "minorAxis_2[iTrk][0][0] =  -17.569414\n",
      "minorAxis_2[iTrk][1][0] =  1.8601931\n",
      "minorAxis_2[iTrk][2][0] =  0.0900199\n",
      "  \n",
      "majorAxis[iTrk][0][0] =  0.002360258\n",
      "majorAxis[iTrk][1][0] =  -0.007426616\n",
      "majorAxis[iTrk][2][0] =  0.3710108\n",
      "minorAxis_1[iTrk][0][0] =  -16.837948\n",
      "minorAxis_1[iTrk][1][0] =  -5.3512807\n",
      "minorAxis_1[iTrk][2][0] =  8.157131e-09\n",
      "minorAxis_2[iTrk][0][0] =  -5.3501005\n",
      "minorAxis_2[iTrk][1][0] =  16.834236\n",
      "minorAxis_2[iTrk][2][0] =  0.3710108\n",
      "  \n",
      "majorAxis[iTrk][0][0] =  6.220712e-05\n",
      "majorAxis[iTrk][1][0] =  -4.4594188e-05\n",
      "majorAxis[iTrk][2][0] =  0.036773544\n",
      "minorAxis_1[iTrk][0][0] =  10.293747\n",
      "minorAxis_1[iTrk][1][0] =  14.359369\n",
      "minorAxis_1[iTrk][2][0] =  1.571041e-06\n",
      "minorAxis_2[iTrk][0][0] =  14.359338\n",
      "minorAxis_2[iTrk][1][0] =  -10.293725\n",
      "minorAxis_2[iTrk][2][0] =  -0.03677354\n",
      "  \n",
      "majorAxis[iTrk][0][0] =  0.0033452737\n",
      "majorAxis[iTrk][1][0] =  0.00013028442\n",
      "majorAxis[iTrk][2][0] =  0.2431933\n",
      "minorAxis_1[iTrk][0][0] =  0.6875674\n",
      "minorAxis_1[iTrk][1][0] =  -17.65446\n",
      "minorAxis_1[iTrk][2][0] =  -6.6602626e-09\n",
      "minorAxis_2[iTrk][0][0] =  -17.652788\n",
      "minorAxis_2[iTrk][1][0] =  -0.68750226\n",
      "minorAxis_2[iTrk][2][0] =  0.2431933\n",
      "  \n",
      "majorAxis[iTrk][0][0] =  -0.00068196515\n",
      "majorAxis[iTrk][1][0] =  -0.00044562915\n",
      "majorAxis[iTrk][2][0] =  0.119970225\n",
      "minorAxis_1[iTrk][0][0] =  9.664597\n",
      "minorAxis_1[iTrk][1][0] =  -14.790141\n",
      "minorAxis_1[iTrk][2][0] =  1.9819232e-08\n",
      "minorAxis_2[iTrk][0][0] =  -14.789802\n",
      "minorAxis_2[iTrk][1][0] =  -9.664374\n",
      "minorAxis_2[iTrk][2][0] =  -0.11997023\n",
      "  \n",
      "majorAxis[iTrk][0][0] =  -8.245073e-05\n",
      "majorAxis[iTrk][1][0] =  0.00015860004\n",
      "majorAxis[iTrk][2][0] =  0.05619731\n",
      "minorAxis_1[iTrk][0][0] =  -15.676071\n",
      "minorAxis_1[iTrk][1][0] =  -8.149452\n",
      "minorAxis_1[iTrk][2][0] =  4.1105773e-07\n",
      "minorAxis_2[iTrk][0][0] =  -8.14941\n",
      "minorAxis_2[iTrk][1][0] =  15.675991\n",
      "minorAxis_2[iTrk][2][0] =  -0.056197315\n",
      "  \n",
      "majorAxis[iTrk][0][0] =  -0.00015151131\n",
      "majorAxis[iTrk][1][0] =  0.00067339616\n",
      "majorAxis[iTrk][2][0] =  0.11042937\n",
      "minorAxis_1[iTrk][0][0] =  17.236937\n",
      "minorAxis_1[iTrk][1][0] =  3.8782384\n",
      "minorAxis_1[iTrk][2][0] =  2.3217373e-08\n",
      "minorAxis_2[iTrk][0][0] =  3.8781626\n",
      "minorAxis_2[iTrk][1][0] =  -17.236599\n",
      "minorAxis_2[iTrk][2][0] =  0.11042936\n",
      "  \n",
      "majorAxis[iTrk][0][0] =  -7.577422e-05\n",
      "majorAxis[iTrk][1][0] =  -0.00036802414\n",
      "majorAxis[iTrk][2][0] =  0.08147708\n",
      "minorAxis_1[iTrk][0][0] =  -17.304853\n",
      "minorAxis_1[iTrk][1][0] =  3.5629773\n",
      "minorAxis_1[iTrk][2][0] =  5.80501e-09\n",
      "minorAxis_2[iTrk][0][0] =  3.5629392\n",
      "minorAxis_2[iTrk][1][0] =  17.304668\n",
      "minorAxis_2[iTrk][2][0] =  0.081477076\n",
      "  \n",
      "majorAxis[iTrk][0][0] =  0.00013397264\n",
      "majorAxis[iTrk][1][0] =  0.00094400026\n",
      "majorAxis[iTrk][2][0] =  0.12978876\n",
      "minorAxis_1[iTrk][0][0] =  17.492561\n",
      "minorAxis_1[iTrk][1][0] =  -2.4825466\n",
      "minorAxis_1[iTrk][2][0] =  1.1329301e-08\n",
      "minorAxis_2[iTrk][0][0] =  -2.4824798\n",
      "minorAxis_2[iTrk][1][0] =  -17.492088\n",
      "minorAxis_2[iTrk][2][0] =  0.12978874\n",
      "  \n",
      "majorAxis[iTrk][0][0] =  0.00043501743\n",
      "majorAxis[iTrk][1][0] =  -0.0016521378\n",
      "majorAxis[iTrk][2][0] =  0.17373301\n",
      "minorAxis_1[iTrk][0][0] =  -17.0855\n",
      "minorAxis_1[iTrk][1][0] =  -4.4987106\n",
      "minorAxis_1[iTrk][2][0] =  -7.7275175e-08\n",
      "minorAxis_2[iTrk][0][0] =  -4.4984937\n",
      "minorAxis_2[iTrk][1][0] =  17.084677\n",
      "minorAxis_2[iTrk][2][0] =  0.17373303\n",
      "  \n",
      "len(X) =  80000\n",
      "len(Xlist) =  1\n",
      "Loaded /share/lazy/will/data/June30_2020_80k_1.h5 in 152.9 s\n",
      "pocaMx.shape =  (80000,)\n",
      "nEvts =  80000\n",
      "len(pocaMx[0]) =  222\n",
      "len(pocaMx[1]) =  133\n",
      "len(pocaMx[2]) =  259\n",
      "len(pocaMx[3]) =  114\n",
      "len(pocaMx[4]) =  143\n",
      "majorAxis.shape =  (80000, 3)\n",
      "minorAxis_1.shape =  (80000, 3)\n",
      "minorAxis_2.shape =  (80000, 3)\n",
      "have entered six_ellipsoid_parameters\n",
      "  \n",
      " \n",
      "  nEvts =  80000\n",
      " iEvt, nTrks =  0 222\n",
      " iEvt, nTrks =  1 133\n",
      " iEvt, nTrks =  2 259\n",
      " iEvt, nTrks =  3 114\n",
      " iEvt, nTrks =  4 143\n",
      " iEvt, nTrks =  5 136\n",
      " iEvt, nTrks =  6 397\n",
      " iEvt, nTrks =  7 370\n",
      " iEvt, nTrks =  8 97\n",
      " iEvt, nTrks =  9 67\n",
      "A.shape =  (80000,)\n",
      "majorAxis[iTrk][0][0] =  -0.001036478\n",
      "majorAxis[iTrk][1][0] =  0.0009833863\n",
      "majorAxis[iTrk][2][0] =  0.15887721\n",
      "minorAxis_1[iTrk][0][0] =  -12.160475\n",
      "minorAxis_1[iTrk][1][0] =  -12.817002\n",
      "minorAxis_1[iTrk][2][0] =  0.0\n",
      "minorAxis_2[iTrk][0][0] =  -12.816484\n",
      "minorAxis_2[iTrk][1][0] =  12.159985\n",
      "minorAxis_2[iTrk][2][0] =  -0.15887721\n",
      "  \n",
      "majorAxis[iTrk][0][0] =  0.0016579849\n",
      "majorAxis[iTrk][1][0] =  0.0020989499\n",
      "majorAxis[iTrk][2][0] =  0.21738033\n",
      "minorAxis_1[iTrk][0][0] =  -13.864233\n",
      "minorAxis_1[iTrk][1][0] =  10.95152\n",
      "minorAxis_1[iTrk][2][0] =  -3.3017489e-09\n",
      "minorAxis_2[iTrk][0][0] =  10.95069\n",
      "minorAxis_2[iTrk][1][0] =  13.863184\n",
      "minorAxis_2[iTrk][2][0] =  -0.21738033\n",
      "  \n",
      "majorAxis[iTrk][0][0] =  0.00012481198\n",
      "majorAxis[iTrk][1][0] =  -0.00028747538\n",
      "majorAxis[iTrk][2][0] =  0.07441149\n",
      "minorAxis_1[iTrk][0][0] =  -16.206305\n",
      "minorAxis_1[iTrk][1][0] =  -7.036224\n",
      "minorAxis_1[iTrk][2][0] =  5.3456716e-08\n",
      "minorAxis_2[iTrk][0][0] =  -7.0361605\n",
      "minorAxis_2[iTrk][1][0] =  16.20616\n",
      "minorAxis_2[iTrk][2][0] =  0.07441148\n",
      "  \n",
      "majorAxis[iTrk][0][0] =  -0.007920195\n",
      "majorAxis[iTrk][1][0] =  -0.009694931\n",
      "majorAxis[iTrk][2][0] =  0.47021532\n",
      "minorAxis_1[iTrk][0][0] =  -13.682467\n",
      "minorAxis_1[iTrk][1][0] =  11.177781\n",
      "minorAxis_1[iTrk][2][0] =  1.8638048e-10\n",
      "minorAxis_2[iTrk][0][0] =  11.173822\n",
      "minorAxis_2[iTrk][1][0] =  13.677622\n",
      "minorAxis_2[iTrk][2][0] =  0.47021535\n",
      "  \n",
      "majorAxis[iTrk][0][0] =  0.00038854493\n",
      "majorAxis[iTrk][1][0] =  0.0009230774\n",
      "majorAxis[iTrk][2][0] =  0.13301943\n",
      "minorAxis_1[iTrk][0][0] =  -16.284061\n",
      "minorAxis_1[iTrk][1][0] =  6.854344\n",
      "minorAxis_1[iTrk][2][0] =  2.2469074e-07\n",
      "minorAxis_2[iTrk][0][0] =  6.8541493\n",
      "minorAxis_2[iTrk][1][0] =  16.283602\n",
      "minorAxis_2[iTrk][2][0] =  -0.13301945\n",
      "  \n",
      "majorAxis[iTrk][0][0] =  -5.6093595e-05\n",
      "majorAxis[iTrk][1][0] =  0.000114469876\n",
      "majorAxis[iTrk][2][0] =  0.04745733\n",
      "minorAxis_1[iTrk][0][0] =  15.865369\n",
      "minorAxis_1[iTrk][1][0] =  7.774496\n",
      "minorAxis_1[iTrk][2][0] =  1.8465234e-06\n",
      "minorAxis_2[iTrk][0][0] =  7.774468\n",
      "minorAxis_2[iTrk][1][0] =  -15.865313\n",
      "minorAxis_2[iTrk][2][0] =  0.04745733\n",
      "  \n",
      "majorAxis[iTrk][0][0] =  9.375396e-05\n",
      "majorAxis[iTrk][1][0] =  0.0002926058\n",
      "majorAxis[iTrk][2][0] =  0.07367872\n",
      "minorAxis_1[iTrk][0][0] =  -16.825275\n",
      "minorAxis_1[iTrk][1][0] =  5.390994\n",
      "minorAxis_1[iTrk][2][0] =  -2.1861728e-08\n",
      "minorAxis_2[iTrk][0][0] =  5.3909473\n",
      "minorAxis_2[iTrk][1][0] =  16.825129\n",
      "minorAxis_2[iTrk][2][0] =  -0.07367872\n",
      "  \n",
      "majorAxis[iTrk][0][0] =  -1.1543522e-06\n",
      "majorAxis[iTrk][1][0] =  2.8112001e-05\n",
      "majorAxis[iTrk][2][0] =  0.022295665\n",
      "minorAxis_1[iTrk][0][0] =  -17.652967\n",
      "minorAxis_1[iTrk][1][0] =  -0.7248769\n",
      "minorAxis_1[iTrk][2][0] =  1.7815448e-07\n",
      "minorAxis_2[iTrk][0][0] =  -0.7248763\n",
      "minorAxis_2[iTrk][1][0] =  17.652954\n",
      "minorAxis_2[iTrk][2][0] =  -0.022295661\n",
      "  \n",
      "majorAxis[iTrk][0][0] =  -0.2612214\n",
      "majorAxis[iTrk][1][0] =  0.83076316\n",
      "majorAxis[iTrk][2][0] =  3.8745012\n",
      "minorAxis_1[iTrk][0][0] =  -16.85429\n",
      "minorAxis_1[iTrk][1][0] =  -5.299587\n",
      "minorAxis_1[iTrk][2][0] =  2.0865195e-11\n",
      "minorAxis_2[iTrk][0][0] =  -5.1705856\n",
      "minorAxis_2[iTrk][1][0] =  16.444027\n",
      "minorAxis_2[iTrk][2][0] =  -3.874501\n",
      "  \n",
      "majorAxis[iTrk][0][0] =  -0.057592034\n",
      "majorAxis[iTrk][1][0] =  0.06503555\n",
      "majorAxis[iTrk][2][0] =  1.2373537\n",
      "minorAxis_1[iTrk][0][0] =  13.227038\n",
      "minorAxis_1[iTrk][1][0] =  11.713163\n",
      "minorAxis_1[iTrk][2][0] =  1.7679876e-10\n",
      "minorAxis_2[iTrk][0][0] =  11.684402\n",
      "minorAxis_2[iTrk][1][0] =  -13.194561\n",
      "minorAxis_2[iTrk][2][0] =  1.2373537\n",
      "  \n",
      "len(X) =  80000\n",
      "len(Xlist) =  2\n",
      "Loaded /share/lazy/will/data/June30_2020_80k_2.h5 in 156.2 s\n",
      "pocaMx.shape =  (80000,)\n"
     ]
    },
    {
     "name": "stdout",
     "output_type": "stream",
     "text": [
      "nEvts =  80000\n",
      "len(pocaMx[0]) =  196\n",
      "len(pocaMx[1]) =  35\n",
      "len(pocaMx[2]) =  265\n",
      "len(pocaMx[3]) =  128\n",
      "len(pocaMx[4]) =  124\n",
      "majorAxis.shape =  (80000, 3)\n",
      "minorAxis_1.shape =  (80000, 3)\n",
      "minorAxis_2.shape =  (80000, 3)\n",
      "have entered six_ellipsoid_parameters\n",
      "  \n",
      " \n",
      "  nEvts =  80000\n",
      " iEvt, nTrks =  0 196\n",
      " iEvt, nTrks =  1 35\n",
      " iEvt, nTrks =  2 265\n",
      " iEvt, nTrks =  3 128\n",
      " iEvt, nTrks =  4 124\n",
      " iEvt, nTrks =  5 122\n",
      " iEvt, nTrks =  6 300\n",
      " iEvt, nTrks =  7 179\n",
      " iEvt, nTrks =  8 243\n",
      " iEvt, nTrks =  9 112\n",
      "A.shape =  (80000,)\n",
      "majorAxis[iTrk][0][0] =  -2.440992e-05\n",
      "majorAxis[iTrk][1][0] =  -0.00038087237\n",
      "majorAxis[iTrk][2][0] =  0.08211532\n",
      "minorAxis_1[iTrk][0][0] =  -17.631672\n",
      "minorAxis_1[iTrk][1][0] =  1.130005\n",
      "minorAxis_1[iTrk][2][0] =  4.7444193e-08\n",
      "minorAxis_2[iTrk][0][0] =  1.1299927\n",
      "minorAxis_2[iTrk][1][0] =  17.631481\n",
      "minorAxis_2[iTrk][2][0] =  0.08211532\n",
      "  \n",
      "majorAxis[iTrk][0][0] =  -0.02277395\n",
      "majorAxis[iTrk][1][0] =  0.0014473597\n",
      "majorAxis[iTrk][2][0] =  0.6347583\n",
      "minorAxis_1[iTrk][0][0] =  -1.1205891\n",
      "minorAxis_1[iTrk][1][0] =  -17.632273\n",
      "minorAxis_1[iTrk][2][0] =  2.1543272e-09\n",
      "minorAxis_2[iTrk][0][0] =  -17.620888\n",
      "minorAxis_2[iTrk][1][0] =  1.1198657\n",
      "minorAxis_2[iTrk][2][0] =  -0.63475823\n",
      "  \n",
      "majorAxis[iTrk][0][0] =  0.0004024825\n",
      "majorAxis[iTrk][1][0] =  -0.00023784715\n",
      "majorAxis[iTrk][2][0] =  0.090883136\n",
      "minorAxis_1[iTrk][0][0] =  -8.988615\n",
      "minorAxis_1[iTrk][1][0] =  -15.210441\n",
      "minorAxis_1[iTrk][2][0] =  -6.56547e-08\n",
      "minorAxis_2[iTrk][0][0] =  -15.21024\n",
      "minorAxis_2[iTrk][1][0] =  8.988497\n",
      "minorAxis_2[iTrk][2][0] =  0.090883136\n",
      "  \n",
      "majorAxis[iTrk][0][0] =  0.0068744724\n",
      "majorAxis[iTrk][1][0] =  0.0017050834\n",
      "majorAxis[iTrk][2][0] =  0.3537121\n",
      "minorAxis_1[iTrk][0][0] =  4.2532983\n",
      "minorAxis_1[iTrk][1][0] =  -17.148241\n",
      "minorAxis_1[iTrk][2][0] =  1.1939819e-09\n",
      "minorAxis_2[iTrk][0][0] =  -17.144806\n",
      "minorAxis_2[iTrk][1][0] =  -4.252446\n",
      "minorAxis_2[iTrk][2][0] =  0.3537121\n",
      "  \n",
      "majorAxis[iTrk][0][0] =  -0.004920899\n",
      "majorAxis[iTrk][1][0] =  0.0009170567\n",
      "majorAxis[iTrk][2][0] =  0.2973651\n",
      "minorAxis_1[iTrk][0][0] =  -3.236844\n",
      "minorAxis_1[iTrk][1][0] =  -17.36881\n",
      "minorAxis_1[iTrk][2][0] =  -4.7397712e-09\n",
      "minorAxis_2[iTrk][0][0] =  -17.36635\n",
      "minorAxis_2[iTrk][1][0] =  3.2363856\n",
      "minorAxis_2[iTrk][2][0] =  -0.29736507\n",
      "  \n",
      "majorAxis[iTrk][0][0] =  -0.0001240533\n",
      "majorAxis[iTrk][1][0] =  0.00033394952\n",
      "majorAxis[iTrk][2][0] =  0.079335004\n",
      "minorAxis_1[iTrk][0][0] =  -16.562042\n",
      "minorAxis_1[iTrk][1][0] =  -6.1523557\n",
      "minorAxis_1[iTrk][2][0] =  3.1261713e-08\n",
      "minorAxis_2[iTrk][0][0] =  -6.1522937\n",
      "minorAxis_2[iTrk][1][0] =  16.561876\n",
      "minorAxis_2[iTrk][2][0] =  -0.079335004\n",
      "  \n",
      "majorAxis[iTrk][0][0] =  0.00010132754\n",
      "majorAxis[iTrk][1][0] =  6.684385e-05\n",
      "majorAxis[iTrk][2][0] =  0.046310693\n",
      "minorAxis_1[iTrk][0][0] =  -9.728917\n",
      "minorAxis_1[iTrk][1][0] =  14.747911\n",
      "minorAxis_1[iTrk][2][0] =  -2.3591362e-07\n",
      "minorAxis_2[iTrk][0][0] =  14.74786\n",
      "minorAxis_2[iTrk][1][0] =  9.728883\n",
      "minorAxis_2[iTrk][2][0] =  -0.04631069\n",
      "  \n",
      "majorAxis[iTrk][0][0] =  0.0042806785\n",
      "majorAxis[iTrk][1][0] =  0.004939851\n",
      "majorAxis[iTrk][2][0] =  0.3398017\n",
      "minorAxis_1[iTrk][0][0] =  13.3521\n",
      "minorAxis_1[iTrk][1][0] =  -11.5704\n",
      "minorAxis_1[iTrk][2][0] =  1.21654296e-08\n",
      "minorAxis_2[iTrk][0][0] =  -11.56826\n",
      "minorAxis_2[iTrk][1][0] =  -13.349631\n",
      "minorAxis_2[iTrk][2][0] =  0.33980173\n",
      "  \n",
      "majorAxis[iTrk][0][0] =  -0.00013103899\n",
      "majorAxis[iTrk][1][0] =  -0.0006021903\n",
      "majorAxis[iTrk][2][0] =  0.10434653\n",
      "minorAxis_1[iTrk][0][0] =  -17.26384\n",
      "minorAxis_1[iTrk][1][0] =  3.7566798\n",
      "minorAxis_1[iTrk][2][0] =  -9.616703e-08\n",
      "minorAxis_2[iTrk][0][0] =  3.7566135\n",
      "minorAxis_2[iTrk][1][0] =  17.263535\n",
      "minorAxis_2[iTrk][2][0] =  0.10434652\n",
      "  \n",
      "majorAxis[iTrk][0][0] =  0.0016481678\n",
      "majorAxis[iTrk][1][0] =  -0.0019788505\n",
      "majorAxis[iTrk][2][0] =  0.21330062\n",
      "minorAxis_1[iTrk][0][0] =  -13.575765\n",
      "minorAxis_1[iTrk][1][0] =  -11.307139\n",
      "minorAxis_1[iTrk][2][0] =  8.543098e-09\n",
      "minorAxis_2[iTrk][0][0] =  -11.306314\n",
      "minorAxis_2[iTrk][1][0] =  13.574774\n",
      "minorAxis_2[iTrk][2][0] =  0.21330062\n",
      "  \n",
      "len(X) =  80000\n",
      "len(Xlist) =  3\n",
      "Loaded /share/lazy/will/data/June30_2020_80k_3.h5 in 154.9 s\n",
      "pocaMx.shape =  (80000,)\n",
      "nEvts =  80000\n",
      "len(pocaMx[0]) =  204\n",
      "len(pocaMx[1]) =  33\n",
      "len(pocaMx[2]) =  206\n",
      "len(pocaMx[3]) =  150\n",
      "len(pocaMx[4]) =  96\n",
      "majorAxis.shape =  (80000, 3)\n",
      "minorAxis_1.shape =  (80000, 3)\n",
      "minorAxis_2.shape =  (80000, 3)\n",
      "have entered six_ellipsoid_parameters\n",
      "  \n",
      " \n",
      "  nEvts =  80000\n",
      " iEvt, nTrks =  0 204\n",
      " iEvt, nTrks =  1 33\n",
      " iEvt, nTrks =  2 206\n",
      " iEvt, nTrks =  3 150\n",
      " iEvt, nTrks =  4 96\n",
      " iEvt, nTrks =  5 10\n",
      " iEvt, nTrks =  6 174\n",
      " iEvt, nTrks =  7 320\n",
      " iEvt, nTrks =  8 164\n",
      " iEvt, nTrks =  9 119\n",
      "A.shape =  (80000,)\n",
      "majorAxis[iTrk][0][0] =  0.00057876867\n",
      "majorAxis[iTrk][1][0] =  0.00037603904\n",
      "majorAxis[iTrk][2][0] =  0.110427074\n",
      "minorAxis_1[iTrk][0][0] =  9.62588\n",
      "minorAxis_1[iTrk][1][0] =  -14.81537\n",
      "minorAxis_1[iTrk][2][0] =  8.391163e-09\n",
      "minorAxis_2[iTrk][0][0] =  -14.815081\n",
      "minorAxis_2[iTrk][1][0] =  -9.625692\n",
      "minorAxis_2[iTrk][2][0] =  0.11042709\n",
      "  \n",
      "majorAxis[iTrk][0][0] =  -7.687664e-05\n",
      "majorAxis[iTrk][1][0] =  -0.0017985329\n",
      "majorAxis[iTrk][2][0] =  0.17833562\n",
      "minorAxis_1[iTrk][0][0] =  -17.651728\n",
      "minorAxis_1[iTrk][1][0] =  0.7545069\n",
      "minorAxis_1[iTrk][2][0] =  -7.932265e-09\n",
      "minorAxis_2[iTrk][0][0] =  0.75446844\n",
      "minorAxis_2[iTrk][1][0] =  17.650827\n",
      "minorAxis_2[iTrk][2][0] =  0.17833562\n",
      "  \n",
      "majorAxis[iTrk][0][0] =  4.5855802e-05\n",
      "majorAxis[iTrk][1][0] =  -0.00054240844\n",
      "majorAxis[iTrk][2][0] =  0.098067455\n",
      "minorAxis_1[iTrk][0][0] =  17.605043\n",
      "minorAxis_1[iTrk][1][0] =  1.4883496\n",
      "minorAxis_1[iTrk][2][0] =  -2.7847218e-08\n",
      "minorAxis_2[iTrk][0][0] =  1.4883265\n",
      "minorAxis_2[iTrk][1][0] =  -17.604773\n",
      "minorAxis_2[iTrk][2][0] =  -0.098067455\n",
      "  \n",
      "majorAxis[iTrk][0][0] =  -0.0013144773\n",
      "majorAxis[iTrk][1][0] =  0.0008680699\n",
      "majorAxis[iTrk][2][0] =  0.16682307\n",
      "minorAxis_1[iTrk][0][0] =  -9.736217\n",
      "minorAxis_1[iTrk][1][0] =  -14.743094\n",
      "minorAxis_1[iTrk][2][0] =  -1.7552136e-08\n",
      "minorAxis_2[iTrk][0][0] =  -14.742435\n",
      "minorAxis_2[iTrk][1][0] =  9.735782\n",
      "minorAxis_2[iTrk][2][0] =  -0.16682304\n",
      "  \n",
      "majorAxis[iTrk][0][0] =  0.032227762\n",
      "majorAxis[iTrk][1][0] =  0.007741693\n",
      "majorAxis[iTrk][2][0] =  0.76488173\n",
      "minorAxis_1[iTrk][0][0] =  -4.1267405\n",
      "minorAxis_1[iTrk][1][0] =  17.179138\n",
      "minorAxis_1[iTrk][2][0] =  -2.3529467e-10\n",
      "minorAxis_2[iTrk][0][0] =  17.16303\n",
      "minorAxis_2[iTrk][1][0] =  4.122871\n",
      "minorAxis_2[iTrk][2][0] =  -0.7648817\n",
      "  \n",
      "majorAxis[iTrk][0][0] =  1.9753945\n",
      "majorAxis[iTrk][1][0] =  2.5669005\n",
      "majorAxis[iTrk][2][0] =  7.226382\n",
      "minorAxis_1[iTrk][0][0] =  14.0017\n",
      "minorAxis_1[iTrk][1][0] =  -10.7752075\n",
      "minorAxis_1[iTrk][2][0] =  5.3286344e-11\n",
      "minorAxis_2[iTrk][0][0] =  -9.832683\n",
      "minorAxis_2[iTrk][1][0] =  -12.776951\n",
      "minorAxis_2[iTrk][2][0] =  7.226381\n",
      "  \n",
      "majorAxis[iTrk][0][0] =  -0.0026900356\n",
      "majorAxis[iTrk][1][0] =  -0.0015841618\n",
      "majorAxis[iTrk][2][0] =  0.234843\n",
      "minorAxis_1[iTrk][0][0] =  -8.965469\n",
      "minorAxis_1[iTrk][1][0] =  15.224096\n",
      "minorAxis_1[iTrk][2][0] =  2.8236277e-08\n",
      "minorAxis_2[iTrk][0][0] =  15.222751\n",
      "minorAxis_2[iTrk][1][0] =  8.964677\n",
      "minorAxis_2[iTrk][2][0] =  0.234843\n",
      "  \n",
      "majorAxis[iTrk][0][0] =  -0.0001692281\n",
      "majorAxis[iTrk][1][0] =  0.0003505444\n",
      "majorAxis[iTrk][2][0] =  0.08292902\n",
      "minorAxis_1[iTrk][0][0] =  -15.910811\n",
      "minorAxis_1[iTrk][1][0] =  -7.68107\n",
      "minorAxis_1[iTrk][2][0] =  1.587002e-08\n",
      "minorAxis_2[iTrk][0][0] =  -7.680986\n",
      "minorAxis_2[iTrk][1][0] =  15.910635\n",
      "minorAxis_2[iTrk][2][0] =  -0.08292903\n",
      "  \n",
      "majorAxis[iTrk][0][0] =  0.0017714669\n",
      "majorAxis[iTrk][1][0] =  -0.001515166\n",
      "majorAxis[iTrk][2][0] =  0.20293355\n",
      "minorAxis_1[iTrk][0][0] =  11.483943\n",
      "minorAxis_1[iTrk][1][0] =  13.426532\n",
      "minorAxis_1[iTrk][2][0] =  -2.7840934e-09\n",
      "minorAxis_2[iTrk][0][0] =  13.425648\n",
      "minorAxis_2[iTrk][1][0] =  -11.483187\n",
      "minorAxis_2[iTrk][2][0] =  -0.20293356\n",
      "  \n",
      "majorAxis[iTrk][0][0] =  0.0006359923\n",
      "majorAxis[iTrk][1][0] =  -0.0003371759\n",
      "majorAxis[iTrk][2][0] =  0.112773284\n",
      "minorAxis_1[iTrk][0][0] =  8.275655\n",
      "minorAxis_1[iTrk][1][0] =  15.609813\n",
      "minorAxis_1[iTrk][2][0] =  -5.6373224e-08\n",
      "minorAxis_2[iTrk][0][0] =  15.609494\n",
      "minorAxis_2[iTrk][1][0] =  -8.275486\n",
      "minorAxis_2[iTrk][2][0] =  -0.11277328\n",
      "  \n",
      "len(X) =  80000\n",
      "len(Xlist) =  4\n",
      "Loaded /share/lazy/will/data/June30_2020_80k_4.h5 in 155.6 s\n",
      "outer loop X.shape =  (320000, 9, 600)\n",
      "Constructing 320000 event dataset took 2.713 s\n",
      "x_t.shape =  torch.Size([320000, 9, 600])\n",
      "x_t.shape[0] =  320000\n",
      "x_t.shape[1] =  9\n",
      "x_t.shape =  torch.Size([320000, 9, 600])\n"
     ]
    },
    {
     "name": "stdout",
     "output_type": "stream",
     "text": [
      "Loading data...\n",
      "pocaMx.shape =  (20000,)\n",
      "nEvts =  20000\n",
      "len(pocaMx[0]) =  211\n",
      "len(pocaMx[1]) =  21\n",
      "len(pocaMx[2]) =  20\n",
      "len(pocaMx[3]) =  198\n",
      "len(pocaMx[4]) =  233\n",
      "majorAxis.shape =  (20000, 3)\n",
      "minorAxis_1.shape =  (20000, 3)\n",
      "minorAxis_2.shape =  (20000, 3)\n",
      "have entered six_ellipsoid_parameters\n",
      "  \n",
      " \n",
      "  nEvts =  20000\n",
      " iEvt, nTrks =  0 211\n",
      " iEvt, nTrks =  1 21\n",
      " iEvt, nTrks =  2 20\n",
      " iEvt, nTrks =  3 198\n",
      " iEvt, nTrks =  4 233\n",
      " iEvt, nTrks =  5 85\n",
      " iEvt, nTrks =  6 223\n",
      " iEvt, nTrks =  7 425\n",
      " iEvt, nTrks =  8 252\n",
      " iEvt, nTrks =  9 169\n",
      "A.shape =  (20000,)\n",
      "majorAxis[iTrk][0][0] =  -0.00023452607\n",
      "majorAxis[iTrk][1][0] =  -0.00047206535\n",
      "majorAxis[iTrk][2][0] =  0.096502915\n",
      "minorAxis_1[iTrk][0][0] =  -15.822749\n",
      "minorAxis_1[iTrk][1][0] =  7.8608756\n",
      "minorAxis_1[iTrk][2][0] =  -2.6228399e-08\n",
      "minorAxis_2[iTrk][0][0] =  7.860759\n",
      "minorAxis_2[iTrk][1][0] =  15.822513\n",
      "minorAxis_2[iTrk][2][0] =  0.096502915\n",
      "  \n",
      "majorAxis[iTrk][0][0] =  -0.37655562\n",
      "majorAxis[iTrk][1][0] =  0.2768704\n",
      "majorAxis[iTrk][2][0] =  2.8546858\n",
      "minorAxis_1[iTrk][0][0] =  -10.466048\n",
      "minorAxis_1[iTrk][1][0] =  -14.234274\n",
      "minorAxis_1[iTrk][2][0] =  2.2974699e-11\n",
      "minorAxis_2[iTrk][0][0] =  -14.04724\n",
      "minorAxis_2[iTrk][1][0] =  10.328527\n",
      "minorAxis_2[iTrk][2][0] =  -2.8546853\n",
      "  \n",
      "majorAxis[iTrk][0][0] =  -0.024279848\n",
      "majorAxis[iTrk][1][0] =  0.0019689242\n",
      "majorAxis[iTrk][2][0] =  0.65580803\n",
      "minorAxis_1[iTrk][0][0] =  -1.4280497\n",
      "minorAxis_1[iTrk][1][0] =  -17.610037\n",
      "minorAxis_1[iTrk][2][0] =  -6.123401e-10\n",
      "minorAxis_2[iTrk][0][0] =  -17.597902\n",
      "minorAxis_2[iTrk][1][0] =  1.4270656\n",
      "minorAxis_2[iTrk][2][0] =  -0.6558081\n",
      "  \n",
      "majorAxis[iTrk][0][0] =  -0.007825993\n",
      "majorAxis[iTrk][1][0] =  0.004052097\n",
      "majorAxis[iTrk][2][0] =  0.3945435\n",
      "minorAxis_1[iTrk][0][0] =  8.123606\n",
      "minorAxis_1[iTrk][1][0] =  15.689478\n",
      "minorAxis_1[iTrk][2][0] =  -2.4940747e-10\n",
      "minorAxis_2[iTrk][0][0] =  15.685566\n",
      "minorAxis_2[iTrk][1][0] =  -8.12158\n",
      "minorAxis_2[iTrk][2][0] =  0.3945435\n",
      "  \n",
      "majorAxis[iTrk][0][0] =  0.0046102717\n",
      "majorAxis[iTrk][1][0] =  -0.0016007021\n",
      "majorAxis[iTrk][2][0] =  0.29361814\n",
      "minorAxis_1[iTrk][0][0] =  -5.794979\n",
      "minorAxis_1[iTrk][1][0] =  -16.690445\n",
      "minorAxis_1[iTrk][2][0] =  2.4897104e-09\n",
      "minorAxis_2[iTrk][0][0] =  -16.688139\n",
      "minorAxis_2[iTrk][1][0] =  5.794179\n",
      "minorAxis_2[iTrk][2][0] =  0.2936181\n",
      "  \n",
      "majorAxis[iTrk][0][0] =  -0.00020041714\n",
      "majorAxis[iTrk][1][0] =  0.00010468164\n",
      "majorAxis[iTrk][2][0] =  0.06320469\n",
      "minorAxis_1[iTrk][0][0] =  8.179679\n",
      "minorAxis_1[iTrk][1][0] =  15.660318\n",
      "minorAxis_1[iTrk][2][0] =  7.40176e-08\n",
      "minorAxis_2[iTrk][0][0] =  15.660218\n",
      "minorAxis_2[iTrk][1][0] =  -8.179626\n",
      "minorAxis_2[iTrk][2][0] =  0.06320469\n",
      "  \n",
      "majorAxis[iTrk][0][0] =  -0.00020603223\n",
      "majorAxis[iTrk][1][0] =  -0.0005662605\n",
      "majorAxis[iTrk][2][0] =  0.10317981\n",
      "minorAxis_1[iTrk][0][0] =  -16.603\n",
      "minorAxis_1[iTrk][1][0] =  6.040953\n",
      "minorAxis_1[iTrk][2][0] =  4.5812504e-07\n",
      "minorAxis_2[iTrk][0][0] =  6.0408506\n",
      "minorAxis_2[iTrk][1][0] =  16.602718\n",
      "minorAxis_2[iTrk][2][0] =  0.10317982\n",
      "  \n",
      "majorAxis[iTrk][0][0] =  -0.00040561036\n",
      "majorAxis[iTrk][1][0] =  0.00014461782\n",
      "majorAxis[iTrk][2][0] =  0.0872241\n",
      "minorAxis_1[iTrk][0][0] =  -5.933496\n",
      "minorAxis_1[iTrk][1][0] =  -16.641706\n",
      "minorAxis_1[iTrk][2][0] =  1.0720762e-08\n",
      "minorAxis_2[iTrk][0][0] =  -16.641502\n",
      "minorAxis_2[iTrk][1][0] =  5.9334235\n",
      "minorAxis_2[iTrk][2][0] =  -0.0872241\n",
      "  \n",
      "majorAxis[iTrk][0][0] =  0.00038461428\n",
      "majorAxis[iTrk][1][0] =  -3.4232737e-05\n",
      "majorAxis[iTrk][2][0] =  0.08259597\n",
      "minorAxis_1[iTrk][0][0] =  -1.5663412\n",
      "minorAxis_1[iTrk][1][0] =  -17.598276\n",
      "minorAxis_1[iTrk][2][0] =  3.2106848e-07\n",
      "minorAxis_2[iTrk][0][0] =  -17.598082\n",
      "minorAxis_2[iTrk][1][0] =  1.5663238\n",
      "minorAxis_2[iTrk][2][0] =  0.08259596\n",
      "  \n",
      "majorAxis[iTrk][0][0] =  -0.022277953\n",
      "majorAxis[iTrk][1][0] =  -0.0046837274\n",
      "majorAxis[iTrk][2][0] =  0.63399464\n",
      "minorAxis_1[iTrk][0][0] =  -3.6350286\n",
      "minorAxis_1[iTrk][1][0] =  17.289862\n",
      "minorAxis_1[iTrk][2][0] =  9.566169e-10\n",
      "minorAxis_2[iTrk][0][0] =  17.278727\n",
      "minorAxis_2[iTrk][1][0] =  3.6326876\n",
      "minorAxis_2[iTrk][2][0] =  0.6339946\n",
      "  \n",
      "len(X) =  20000\n",
      "len(Xlist) =  1\n",
      "Loaded dataAA/20K_POCA_kernel_evts_200926.h5 in 37.05 s\n",
      "outer loop X.shape =  (20000, 9, 600)\n",
      "Constructing 20000 event dataset took 0.419 s\n",
      "x_t.shape =  torch.Size([20000, 9, 600])\n",
      "x_t.shape[0] =  20000\n",
      "x_t.shape[1] =  9\n",
      "x_t.shape =  torch.Size([20000, 9, 600])\n"
     ]
    }
   ],
   "source": [
    "\n",
    "## Training dataset. You can put as many files here as desired.\n",
    "\n",
    "## 210109 let's use some of Will's toy MC for training rather than the 20K sample I've been using\n",
    "\n",
    "##train_loader = collect_t2hists_data('dataAA/20K_POCA_kernel_evts_200926.h5',\n",
    "train_loader = collect_t2kde_data('/share/lazy/will/data/June30_2020_80k_1.h5', \n",
    "                                  '/share/lazy/will/data/June30_2020_80k_2.h5',\n",
    "                                  '/share/lazy/will/data/June30_2020_80k_3.h5',\n",
    "                                  '/share/lazy/will/data/June30_2020_80k_4.h5',\n",
    "                                ##  '/share/lazy/will/data/June30_2020_80k_5.h5',\n",
    "                                ##  '/share/lazy/will/data/June30_2020_80k_6.h5',\n",
    "                                ##  '/share/lazy/will/data/June30_2020_80k_7.h5',\n",
    "                             batch_size=batch_size,\n",
    "                           )\n",
    "                            \n",
    "# Validation dataset. You can slice to reduce the size.\n",
    "## mds no separate validation set yet,\n",
    "val_loader = collect_t2kde_data('dataAA/20K_POCA_kernel_evts_200926.h5',\n",
    "                            batch_size=batch_size,\n",
    "                            device=device,\n",
    "                            ##slice = slice(18000,None)\n",
    "                           )\n"
   ]
  },
  {
   "cell_type": "markdown",
   "metadata": {
    "scrolled": false
   },
   "source": [
    "with torch.no_grad():\n",
    "    counter = 0\n",
    "    event = 0\n",
    "    print(\"train_loader = \",train_loader)\n",
    "    for inputs, labels in train_loader:\n",
    "##        print(\"counter = \",counter)\n",
    "##        print(\"inputs = \",inputs)\n",
    "        print(\"inputs.shape = \",inputs.shape)\n",
    "        if inputs.device != device:\n",
    "            inputs, labels = inputs.to(device), labels.to(device)\n",
    "            \n",
    "        outputs = model(inputs)\n",
    "##        print(\"outputs.shape = \",outputs.shape)\n",
    "        nEvts = outputs.shape[0]\n",
    "        for iEvt in range(nEvts):\n",
    "            y_pred = outputs[iEvt,:]\n",
    "            y_pred = y_pred.cpu().numpy()\n",
    "            \n",
    "            event = event +1\n",
    "##            print(\"event = \",event)\n",
    "            if (event<5):\n",
    "                plt.figure()\n",
    "                plt.plot(y_pred[0:50])\n",
    "                plt.show()\n",
    "                \n",
    "##                print(\"  point AA \")\n",
    "                features = inputs[iEvt,:]\n",
    "                features = features[np.newaxis,:,:]\n",
    "                \n",
    "                \n",
    "                print(\"features.shape = \",features.shape)\n",
    "                \n",
    "                output_A = model(features)\n",
    "                y_prime = output_A[0,:]\n",
    "                y_prime = y_prime.cpu().numpy()\n",
    "                plt.figure()\n",
    "                plt.plot(y_prime[0:50], color=\"r\")\n",
    "                plt.show()\n",
    "                \n",
    "            \n",
    "\n",
    "##        print(\"nEvts = \",nEvts)\n",
    "        \n",
    "        counter = counter+1\n",
    "        \n",
    "        \n",
    "        "
   ]
  },
  {
   "cell_type": "code",
   "execution_count": 17,
   "metadata": {
    "scrolled": false
   },
   "outputs": [
    {
     "data": {
      "application/javascript": [
       "/* Put everything inside the global mpl namespace */\n",
       "window.mpl = {};\n",
       "\n",
       "\n",
       "mpl.get_websocket_type = function() {\n",
       "    if (typeof(WebSocket) !== 'undefined') {\n",
       "        return WebSocket;\n",
       "    } else if (typeof(MozWebSocket) !== 'undefined') {\n",
       "        return MozWebSocket;\n",
       "    } else {\n",
       "        alert('Your browser does not have WebSocket support. ' +\n",
       "              'Please try Chrome, Safari or Firefox ≥ 6. ' +\n",
       "              'Firefox 4 and 5 are also supported but you ' +\n",
       "              'have to enable WebSockets in about:config.');\n",
       "    };\n",
       "}\n",
       "\n",
       "mpl.figure = function(figure_id, websocket, ondownload, parent_element) {\n",
       "    this.id = figure_id;\n",
       "\n",
       "    this.ws = websocket;\n",
       "\n",
       "    this.supports_binary = (this.ws.binaryType != undefined);\n",
       "\n",
       "    if (!this.supports_binary) {\n",
       "        var warnings = document.getElementById(\"mpl-warnings\");\n",
       "        if (warnings) {\n",
       "            warnings.style.display = 'block';\n",
       "            warnings.textContent = (\n",
       "                \"This browser does not support binary websocket messages. \" +\n",
       "                    \"Performance may be slow.\");\n",
       "        }\n",
       "    }\n",
       "\n",
       "    this.imageObj = new Image();\n",
       "\n",
       "    this.context = undefined;\n",
       "    this.message = undefined;\n",
       "    this.canvas = undefined;\n",
       "    this.rubberband_canvas = undefined;\n",
       "    this.rubberband_context = undefined;\n",
       "    this.format_dropdown = undefined;\n",
       "\n",
       "    this.image_mode = 'full';\n",
       "\n",
       "    this.root = $('<div/>');\n",
       "    this._root_extra_style(this.root)\n",
       "    this.root.attr('style', 'display: inline-block');\n",
       "\n",
       "    $(parent_element).append(this.root);\n",
       "\n",
       "    this._init_header(this);\n",
       "    this._init_canvas(this);\n",
       "    this._init_toolbar(this);\n",
       "\n",
       "    var fig = this;\n",
       "\n",
       "    this.waiting = false;\n",
       "\n",
       "    this.ws.onopen =  function () {\n",
       "            fig.send_message(\"supports_binary\", {value: fig.supports_binary});\n",
       "            fig.send_message(\"send_image_mode\", {});\n",
       "            if (mpl.ratio != 1) {\n",
       "                fig.send_message(\"set_dpi_ratio\", {'dpi_ratio': mpl.ratio});\n",
       "            }\n",
       "            fig.send_message(\"refresh\", {});\n",
       "        }\n",
       "\n",
       "    this.imageObj.onload = function() {\n",
       "            if (fig.image_mode == 'full') {\n",
       "                // Full images could contain transparency (where diff images\n",
       "                // almost always do), so we need to clear the canvas so that\n",
       "                // there is no ghosting.\n",
       "                fig.context.clearRect(0, 0, fig.canvas.width, fig.canvas.height);\n",
       "            }\n",
       "            fig.context.drawImage(fig.imageObj, 0, 0);\n",
       "        };\n",
       "\n",
       "    this.imageObj.onunload = function() {\n",
       "        fig.ws.close();\n",
       "    }\n",
       "\n",
       "    this.ws.onmessage = this._make_on_message_function(this);\n",
       "\n",
       "    this.ondownload = ondownload;\n",
       "}\n",
       "\n",
       "mpl.figure.prototype._init_header = function() {\n",
       "    var titlebar = $(\n",
       "        '<div class=\"ui-dialog-titlebar ui-widget-header ui-corner-all ' +\n",
       "        'ui-helper-clearfix\"/>');\n",
       "    var titletext = $(\n",
       "        '<div class=\"ui-dialog-title\" style=\"width: 100%; ' +\n",
       "        'text-align: center; padding: 3px;\"/>');\n",
       "    titlebar.append(titletext)\n",
       "    this.root.append(titlebar);\n",
       "    this.header = titletext[0];\n",
       "}\n",
       "\n",
       "\n",
       "\n",
       "mpl.figure.prototype._canvas_extra_style = function(canvas_div) {\n",
       "\n",
       "}\n",
       "\n",
       "\n",
       "mpl.figure.prototype._root_extra_style = function(canvas_div) {\n",
       "\n",
       "}\n",
       "\n",
       "mpl.figure.prototype._init_canvas = function() {\n",
       "    var fig = this;\n",
       "\n",
       "    var canvas_div = $('<div/>');\n",
       "\n",
       "    canvas_div.attr('style', 'position: relative; clear: both; outline: 0');\n",
       "\n",
       "    function canvas_keyboard_event(event) {\n",
       "        return fig.key_event(event, event['data']);\n",
       "    }\n",
       "\n",
       "    canvas_div.keydown('key_press', canvas_keyboard_event);\n",
       "    canvas_div.keyup('key_release', canvas_keyboard_event);\n",
       "    this.canvas_div = canvas_div\n",
       "    this._canvas_extra_style(canvas_div)\n",
       "    this.root.append(canvas_div);\n",
       "\n",
       "    var canvas = $('<canvas/>');\n",
       "    canvas.addClass('mpl-canvas');\n",
       "    canvas.attr('style', \"left: 0; top: 0; z-index: 0; outline: 0\")\n",
       "\n",
       "    this.canvas = canvas[0];\n",
       "    this.context = canvas[0].getContext(\"2d\");\n",
       "\n",
       "    var backingStore = this.context.backingStorePixelRatio ||\n",
       "\tthis.context.webkitBackingStorePixelRatio ||\n",
       "\tthis.context.mozBackingStorePixelRatio ||\n",
       "\tthis.context.msBackingStorePixelRatio ||\n",
       "\tthis.context.oBackingStorePixelRatio ||\n",
       "\tthis.context.backingStorePixelRatio || 1;\n",
       "\n",
       "    mpl.ratio = (window.devicePixelRatio || 1) / backingStore;\n",
       "\n",
       "    var rubberband = $('<canvas/>');\n",
       "    rubberband.attr('style', \"position: absolute; left: 0; top: 0; z-index: 1;\")\n",
       "\n",
       "    var pass_mouse_events = true;\n",
       "\n",
       "    canvas_div.resizable({\n",
       "        start: function(event, ui) {\n",
       "            pass_mouse_events = false;\n",
       "        },\n",
       "        resize: function(event, ui) {\n",
       "            fig.request_resize(ui.size.width, ui.size.height);\n",
       "        },\n",
       "        stop: function(event, ui) {\n",
       "            pass_mouse_events = true;\n",
       "            fig.request_resize(ui.size.width, ui.size.height);\n",
       "        },\n",
       "    });\n",
       "\n",
       "    function mouse_event_fn(event) {\n",
       "        if (pass_mouse_events)\n",
       "            return fig.mouse_event(event, event['data']);\n",
       "    }\n",
       "\n",
       "    rubberband.mousedown('button_press', mouse_event_fn);\n",
       "    rubberband.mouseup('button_release', mouse_event_fn);\n",
       "    // Throttle sequential mouse events to 1 every 20ms.\n",
       "    rubberband.mousemove('motion_notify', mouse_event_fn);\n",
       "\n",
       "    rubberband.mouseenter('figure_enter', mouse_event_fn);\n",
       "    rubberband.mouseleave('figure_leave', mouse_event_fn);\n",
       "\n",
       "    canvas_div.on(\"wheel\", function (event) {\n",
       "        event = event.originalEvent;\n",
       "        event['data'] = 'scroll'\n",
       "        if (event.deltaY < 0) {\n",
       "            event.step = 1;\n",
       "        } else {\n",
       "            event.step = -1;\n",
       "        }\n",
       "        mouse_event_fn(event);\n",
       "    });\n",
       "\n",
       "    canvas_div.append(canvas);\n",
       "    canvas_div.append(rubberband);\n",
       "\n",
       "    this.rubberband = rubberband;\n",
       "    this.rubberband_canvas = rubberband[0];\n",
       "    this.rubberband_context = rubberband[0].getContext(\"2d\");\n",
       "    this.rubberband_context.strokeStyle = \"#000000\";\n",
       "\n",
       "    this._resize_canvas = function(width, height) {\n",
       "        // Keep the size of the canvas, canvas container, and rubber band\n",
       "        // canvas in synch.\n",
       "        canvas_div.css('width', width)\n",
       "        canvas_div.css('height', height)\n",
       "\n",
       "        canvas.attr('width', width * mpl.ratio);\n",
       "        canvas.attr('height', height * mpl.ratio);\n",
       "        canvas.attr('style', 'width: ' + width + 'px; height: ' + height + 'px;');\n",
       "\n",
       "        rubberband.attr('width', width);\n",
       "        rubberband.attr('height', height);\n",
       "    }\n",
       "\n",
       "    // Set the figure to an initial 600x600px, this will subsequently be updated\n",
       "    // upon first draw.\n",
       "    this._resize_canvas(600, 600);\n",
       "\n",
       "    // Disable right mouse context menu.\n",
       "    $(this.rubberband_canvas).bind(\"contextmenu\",function(e){\n",
       "        return false;\n",
       "    });\n",
       "\n",
       "    function set_focus () {\n",
       "        canvas.focus();\n",
       "        canvas_div.focus();\n",
       "    }\n",
       "\n",
       "    window.setTimeout(set_focus, 100);\n",
       "}\n",
       "\n",
       "mpl.figure.prototype._init_toolbar = function() {\n",
       "    var fig = this;\n",
       "\n",
       "    var nav_element = $('<div/>');\n",
       "    nav_element.attr('style', 'width: 100%');\n",
       "    this.root.append(nav_element);\n",
       "\n",
       "    // Define a callback function for later on.\n",
       "    function toolbar_event(event) {\n",
       "        return fig.toolbar_button_onclick(event['data']);\n",
       "    }\n",
       "    function toolbar_mouse_event(event) {\n",
       "        return fig.toolbar_button_onmouseover(event['data']);\n",
       "    }\n",
       "\n",
       "    for(var toolbar_ind in mpl.toolbar_items) {\n",
       "        var name = mpl.toolbar_items[toolbar_ind][0];\n",
       "        var tooltip = mpl.toolbar_items[toolbar_ind][1];\n",
       "        var image = mpl.toolbar_items[toolbar_ind][2];\n",
       "        var method_name = mpl.toolbar_items[toolbar_ind][3];\n",
       "\n",
       "        if (!name) {\n",
       "            // put a spacer in here.\n",
       "            continue;\n",
       "        }\n",
       "        var button = $('<button/>');\n",
       "        button.addClass('ui-button ui-widget ui-state-default ui-corner-all ' +\n",
       "                        'ui-button-icon-only');\n",
       "        button.attr('role', 'button');\n",
       "        button.attr('aria-disabled', 'false');\n",
       "        button.click(method_name, toolbar_event);\n",
       "        button.mouseover(tooltip, toolbar_mouse_event);\n",
       "\n",
       "        var icon_img = $('<span/>');\n",
       "        icon_img.addClass('ui-button-icon-primary ui-icon');\n",
       "        icon_img.addClass(image);\n",
       "        icon_img.addClass('ui-corner-all');\n",
       "\n",
       "        var tooltip_span = $('<span/>');\n",
       "        tooltip_span.addClass('ui-button-text');\n",
       "        tooltip_span.html(tooltip);\n",
       "\n",
       "        button.append(icon_img);\n",
       "        button.append(tooltip_span);\n",
       "\n",
       "        nav_element.append(button);\n",
       "    }\n",
       "\n",
       "    var fmt_picker_span = $('<span/>');\n",
       "\n",
       "    var fmt_picker = $('<select/>');\n",
       "    fmt_picker.addClass('mpl-toolbar-option ui-widget ui-widget-content');\n",
       "    fmt_picker_span.append(fmt_picker);\n",
       "    nav_element.append(fmt_picker_span);\n",
       "    this.format_dropdown = fmt_picker[0];\n",
       "\n",
       "    for (var ind in mpl.extensions) {\n",
       "        var fmt = mpl.extensions[ind];\n",
       "        var option = $(\n",
       "            '<option/>', {selected: fmt === mpl.default_extension}).html(fmt);\n",
       "        fmt_picker.append(option);\n",
       "    }\n",
       "\n",
       "    // Add hover states to the ui-buttons\n",
       "    $( \".ui-button\" ).hover(\n",
       "        function() { $(this).addClass(\"ui-state-hover\");},\n",
       "        function() { $(this).removeClass(\"ui-state-hover\");}\n",
       "    );\n",
       "\n",
       "    var status_bar = $('<span class=\"mpl-message\"/>');\n",
       "    nav_element.append(status_bar);\n",
       "    this.message = status_bar[0];\n",
       "}\n",
       "\n",
       "mpl.figure.prototype.request_resize = function(x_pixels, y_pixels) {\n",
       "    // Request matplotlib to resize the figure. Matplotlib will then trigger a resize in the client,\n",
       "    // which will in turn request a refresh of the image.\n",
       "    this.send_message('resize', {'width': x_pixels, 'height': y_pixels});\n",
       "}\n",
       "\n",
       "mpl.figure.prototype.send_message = function(type, properties) {\n",
       "    properties['type'] = type;\n",
       "    properties['figure_id'] = this.id;\n",
       "    this.ws.send(JSON.stringify(properties));\n",
       "}\n",
       "\n",
       "mpl.figure.prototype.send_draw_message = function() {\n",
       "    if (!this.waiting) {\n",
       "        this.waiting = true;\n",
       "        this.ws.send(JSON.stringify({type: \"draw\", figure_id: this.id}));\n",
       "    }\n",
       "}\n",
       "\n",
       "\n",
       "mpl.figure.prototype.handle_save = function(fig, msg) {\n",
       "    var format_dropdown = fig.format_dropdown;\n",
       "    var format = format_dropdown.options[format_dropdown.selectedIndex].value;\n",
       "    fig.ondownload(fig, format);\n",
       "}\n",
       "\n",
       "\n",
       "mpl.figure.prototype.handle_resize = function(fig, msg) {\n",
       "    var size = msg['size'];\n",
       "    if (size[0] != fig.canvas.width || size[1] != fig.canvas.height) {\n",
       "        fig._resize_canvas(size[0], size[1]);\n",
       "        fig.send_message(\"refresh\", {});\n",
       "    };\n",
       "}\n",
       "\n",
       "mpl.figure.prototype.handle_rubberband = function(fig, msg) {\n",
       "    var x0 = msg['x0'] / mpl.ratio;\n",
       "    var y0 = (fig.canvas.height - msg['y0']) / mpl.ratio;\n",
       "    var x1 = msg['x1'] / mpl.ratio;\n",
       "    var y1 = (fig.canvas.height - msg['y1']) / mpl.ratio;\n",
       "    x0 = Math.floor(x0) + 0.5;\n",
       "    y0 = Math.floor(y0) + 0.5;\n",
       "    x1 = Math.floor(x1) + 0.5;\n",
       "    y1 = Math.floor(y1) + 0.5;\n",
       "    var min_x = Math.min(x0, x1);\n",
       "    var min_y = Math.min(y0, y1);\n",
       "    var width = Math.abs(x1 - x0);\n",
       "    var height = Math.abs(y1 - y0);\n",
       "\n",
       "    fig.rubberband_context.clearRect(\n",
       "        0, 0, fig.canvas.width / mpl.ratio, fig.canvas.height / mpl.ratio);\n",
       "\n",
       "    fig.rubberband_context.strokeRect(min_x, min_y, width, height);\n",
       "}\n",
       "\n",
       "mpl.figure.prototype.handle_figure_label = function(fig, msg) {\n",
       "    // Updates the figure title.\n",
       "    fig.header.textContent = msg['label'];\n",
       "}\n",
       "\n",
       "mpl.figure.prototype.handle_cursor = function(fig, msg) {\n",
       "    var cursor = msg['cursor'];\n",
       "    switch(cursor)\n",
       "    {\n",
       "    case 0:\n",
       "        cursor = 'pointer';\n",
       "        break;\n",
       "    case 1:\n",
       "        cursor = 'default';\n",
       "        break;\n",
       "    case 2:\n",
       "        cursor = 'crosshair';\n",
       "        break;\n",
       "    case 3:\n",
       "        cursor = 'move';\n",
       "        break;\n",
       "    }\n",
       "    fig.rubberband_canvas.style.cursor = cursor;\n",
       "}\n",
       "\n",
       "mpl.figure.prototype.handle_message = function(fig, msg) {\n",
       "    fig.message.textContent = msg['message'];\n",
       "}\n",
       "\n",
       "mpl.figure.prototype.handle_draw = function(fig, msg) {\n",
       "    // Request the server to send over a new figure.\n",
       "    fig.send_draw_message();\n",
       "}\n",
       "\n",
       "mpl.figure.prototype.handle_image_mode = function(fig, msg) {\n",
       "    fig.image_mode = msg['mode'];\n",
       "}\n",
       "\n",
       "mpl.figure.prototype.updated_canvas_event = function() {\n",
       "    // Called whenever the canvas gets updated.\n",
       "    this.send_message(\"ack\", {});\n",
       "}\n",
       "\n",
       "// A function to construct a web socket function for onmessage handling.\n",
       "// Called in the figure constructor.\n",
       "mpl.figure.prototype._make_on_message_function = function(fig) {\n",
       "    return function socket_on_message(evt) {\n",
       "        if (evt.data instanceof Blob) {\n",
       "            /* FIXME: We get \"Resource interpreted as Image but\n",
       "             * transferred with MIME type text/plain:\" errors on\n",
       "             * Chrome.  But how to set the MIME type?  It doesn't seem\n",
       "             * to be part of the websocket stream */\n",
       "            evt.data.type = \"image/png\";\n",
       "\n",
       "            /* Free the memory for the previous frames */\n",
       "            if (fig.imageObj.src) {\n",
       "                (window.URL || window.webkitURL).revokeObjectURL(\n",
       "                    fig.imageObj.src);\n",
       "            }\n",
       "\n",
       "            fig.imageObj.src = (window.URL || window.webkitURL).createObjectURL(\n",
       "                evt.data);\n",
       "            fig.updated_canvas_event();\n",
       "            fig.waiting = false;\n",
       "            return;\n",
       "        }\n",
       "        else if (typeof evt.data === 'string' && evt.data.slice(0, 21) == \"data:image/png;base64\") {\n",
       "            fig.imageObj.src = evt.data;\n",
       "            fig.updated_canvas_event();\n",
       "            fig.waiting = false;\n",
       "            return;\n",
       "        }\n",
       "\n",
       "        var msg = JSON.parse(evt.data);\n",
       "        var msg_type = msg['type'];\n",
       "\n",
       "        // Call the  \"handle_{type}\" callback, which takes\n",
       "        // the figure and JSON message as its only arguments.\n",
       "        try {\n",
       "            var callback = fig[\"handle_\" + msg_type];\n",
       "        } catch (e) {\n",
       "            console.log(\"No handler for the '\" + msg_type + \"' message type: \", msg);\n",
       "            return;\n",
       "        }\n",
       "\n",
       "        if (callback) {\n",
       "            try {\n",
       "                // console.log(\"Handling '\" + msg_type + \"' message: \", msg);\n",
       "                callback(fig, msg);\n",
       "            } catch (e) {\n",
       "                console.log(\"Exception inside the 'handler_\" + msg_type + \"' callback:\", e, e.stack, msg);\n",
       "            }\n",
       "        }\n",
       "    };\n",
       "}\n",
       "\n",
       "// from http://stackoverflow.com/questions/1114465/getting-mouse-location-in-canvas\n",
       "mpl.findpos = function(e) {\n",
       "    //this section is from http://www.quirksmode.org/js/events_properties.html\n",
       "    var targ;\n",
       "    if (!e)\n",
       "        e = window.event;\n",
       "    if (e.target)\n",
       "        targ = e.target;\n",
       "    else if (e.srcElement)\n",
       "        targ = e.srcElement;\n",
       "    if (targ.nodeType == 3) // defeat Safari bug\n",
       "        targ = targ.parentNode;\n",
       "\n",
       "    // jQuery normalizes the pageX and pageY\n",
       "    // pageX,Y are the mouse positions relative to the document\n",
       "    // offset() returns the position of the element relative to the document\n",
       "    var x = e.pageX - $(targ).offset().left;\n",
       "    var y = e.pageY - $(targ).offset().top;\n",
       "\n",
       "    return {\"x\": x, \"y\": y};\n",
       "};\n",
       "\n",
       "/*\n",
       " * return a copy of an object with only non-object keys\n",
       " * we need this to avoid circular references\n",
       " * http://stackoverflow.com/a/24161582/3208463\n",
       " */\n",
       "function simpleKeys (original) {\n",
       "  return Object.keys(original).reduce(function (obj, key) {\n",
       "    if (typeof original[key] !== 'object')\n",
       "        obj[key] = original[key]\n",
       "    return obj;\n",
       "  }, {});\n",
       "}\n",
       "\n",
       "mpl.figure.prototype.mouse_event = function(event, name) {\n",
       "    var canvas_pos = mpl.findpos(event)\n",
       "\n",
       "    if (name === 'button_press')\n",
       "    {\n",
       "        this.canvas.focus();\n",
       "        this.canvas_div.focus();\n",
       "    }\n",
       "\n",
       "    var x = canvas_pos.x * mpl.ratio;\n",
       "    var y = canvas_pos.y * mpl.ratio;\n",
       "\n",
       "    this.send_message(name, {x: x, y: y, button: event.button,\n",
       "                             step: event.step,\n",
       "                             guiEvent: simpleKeys(event)});\n",
       "\n",
       "    /* This prevents the web browser from automatically changing to\n",
       "     * the text insertion cursor when the button is pressed.  We want\n",
       "     * to control all of the cursor setting manually through the\n",
       "     * 'cursor' event from matplotlib */\n",
       "    event.preventDefault();\n",
       "    return false;\n",
       "}\n",
       "\n",
       "mpl.figure.prototype._key_event_extra = function(event, name) {\n",
       "    // Handle any extra behaviour associated with a key event\n",
       "}\n",
       "\n",
       "mpl.figure.prototype.key_event = function(event, name) {\n",
       "\n",
       "    // Prevent repeat events\n",
       "    if (name == 'key_press')\n",
       "    {\n",
       "        if (event.which === this._key)\n",
       "            return;\n",
       "        else\n",
       "            this._key = event.which;\n",
       "    }\n",
       "    if (name == 'key_release')\n",
       "        this._key = null;\n",
       "\n",
       "    var value = '';\n",
       "    if (event.ctrlKey && event.which != 17)\n",
       "        value += \"ctrl+\";\n",
       "    if (event.altKey && event.which != 18)\n",
       "        value += \"alt+\";\n",
       "    if (event.shiftKey && event.which != 16)\n",
       "        value += \"shift+\";\n",
       "\n",
       "    value += 'k';\n",
       "    value += event.which.toString();\n",
       "\n",
       "    this._key_event_extra(event, name);\n",
       "\n",
       "    this.send_message(name, {key: value,\n",
       "                             guiEvent: simpleKeys(event)});\n",
       "    return false;\n",
       "}\n",
       "\n",
       "mpl.figure.prototype.toolbar_button_onclick = function(name) {\n",
       "    if (name == 'download') {\n",
       "        this.handle_save(this, null);\n",
       "    } else {\n",
       "        this.send_message(\"toolbar_button\", {name: name});\n",
       "    }\n",
       "};\n",
       "\n",
       "mpl.figure.prototype.toolbar_button_onmouseover = function(tooltip) {\n",
       "    this.message.textContent = tooltip;\n",
       "};\n",
       "mpl.toolbar_items = [[\"Home\", \"Reset original view\", \"fa fa-home icon-home\", \"home\"], [\"Back\", \"Back to previous view\", \"fa fa-arrow-left icon-arrow-left\", \"back\"], [\"Forward\", \"Forward to next view\", \"fa fa-arrow-right icon-arrow-right\", \"forward\"], [\"\", \"\", \"\", \"\"], [\"Pan\", \"Pan axes with left mouse, zoom with right\", \"fa fa-arrows icon-move\", \"pan\"], [\"Zoom\", \"Zoom to rectangle\", \"fa fa-square-o icon-check-empty\", \"zoom\"], [\"\", \"\", \"\", \"\"], [\"Download\", \"Download plot\", \"fa fa-floppy-o icon-save\", \"download\"]];\n",
       "\n",
       "mpl.extensions = [\"eps\", \"jpeg\", \"pdf\", \"png\", \"ps\", \"raw\", \"svg\", \"tif\"];\n",
       "\n",
       "mpl.default_extension = \"png\";var comm_websocket_adapter = function(comm) {\n",
       "    // Create a \"websocket\"-like object which calls the given IPython comm\n",
       "    // object with the appropriate methods. Currently this is a non binary\n",
       "    // socket, so there is still some room for performance tuning.\n",
       "    var ws = {};\n",
       "\n",
       "    ws.close = function() {\n",
       "        comm.close()\n",
       "    };\n",
       "    ws.send = function(m) {\n",
       "        //console.log('sending', m);\n",
       "        comm.send(m);\n",
       "    };\n",
       "    // Register the callback with on_msg.\n",
       "    comm.on_msg(function(msg) {\n",
       "        //console.log('receiving', msg['content']['data'], msg);\n",
       "        // Pass the mpl event to the overridden (by mpl) onmessage function.\n",
       "        ws.onmessage(msg['content']['data'])\n",
       "    });\n",
       "    return ws;\n",
       "}\n",
       "\n",
       "mpl.mpl_figure_comm = function(comm, msg) {\n",
       "    // This is the function which gets called when the mpl process\n",
       "    // starts-up an IPython Comm through the \"matplotlib\" channel.\n",
       "\n",
       "    var id = msg.content.data.id;\n",
       "    // Get hold of the div created by the display call when the Comm\n",
       "    // socket was opened in Python.\n",
       "    var element = $(\"#\" + id);\n",
       "    var ws_proxy = comm_websocket_adapter(comm)\n",
       "\n",
       "    function ondownload(figure, format) {\n",
       "        window.open(figure.imageObj.src);\n",
       "    }\n",
       "\n",
       "    var fig = new mpl.figure(id, ws_proxy,\n",
       "                           ondownload,\n",
       "                           element.get(0));\n",
       "\n",
       "    // Call onopen now - mpl needs it, as it is assuming we've passed it a real\n",
       "    // web socket which is closed, not our websocket->open comm proxy.\n",
       "    ws_proxy.onopen();\n",
       "\n",
       "    fig.parent_element = element.get(0);\n",
       "    fig.cell_info = mpl.find_output_cell(\"<div id='\" + id + \"'></div>\");\n",
       "    if (!fig.cell_info) {\n",
       "        console.error(\"Failed to find cell for figure\", id, fig);\n",
       "        return;\n",
       "    }\n",
       "\n",
       "    var output_index = fig.cell_info[2]\n",
       "    var cell = fig.cell_info[0];\n",
       "\n",
       "};\n",
       "\n",
       "mpl.figure.prototype.handle_close = function(fig, msg) {\n",
       "    var width = fig.canvas.width/mpl.ratio\n",
       "    fig.root.unbind('remove')\n",
       "\n",
       "    // Update the output cell to use the data from the current canvas.\n",
       "    fig.push_to_output();\n",
       "    var dataURL = fig.canvas.toDataURL();\n",
       "    // Re-enable the keyboard manager in IPython - without this line, in FF,\n",
       "    // the notebook keyboard shortcuts fail.\n",
       "    IPython.keyboard_manager.enable()\n",
       "    $(fig.parent_element).html('<img src=\"' + dataURL + '\" width=\"' + width + '\">');\n",
       "    fig.close_ws(fig, msg);\n",
       "}\n",
       "\n",
       "mpl.figure.prototype.close_ws = function(fig, msg){\n",
       "    fig.send_message('closing', msg);\n",
       "    // fig.ws.close()\n",
       "}\n",
       "\n",
       "mpl.figure.prototype.push_to_output = function(remove_interactive) {\n",
       "    // Turn the data on the canvas into data in the output cell.\n",
       "    var width = this.canvas.width/mpl.ratio\n",
       "    var dataURL = this.canvas.toDataURL();\n",
       "    this.cell_info[1]['text/html'] = '<img src=\"' + dataURL + '\" width=\"' + width + '\">';\n",
       "}\n",
       "\n",
       "mpl.figure.prototype.updated_canvas_event = function() {\n",
       "    // Tell IPython that the notebook contents must change.\n",
       "    IPython.notebook.set_dirty(true);\n",
       "    this.send_message(\"ack\", {});\n",
       "    var fig = this;\n",
       "    // Wait a second, then push the new image to the DOM so\n",
       "    // that it is saved nicely (might be nice to debounce this).\n",
       "    setTimeout(function () { fig.push_to_output() }, 1000);\n",
       "}\n",
       "\n",
       "mpl.figure.prototype._init_toolbar = function() {\n",
       "    var fig = this;\n",
       "\n",
       "    var nav_element = $('<div/>');\n",
       "    nav_element.attr('style', 'width: 100%');\n",
       "    this.root.append(nav_element);\n",
       "\n",
       "    // Define a callback function for later on.\n",
       "    function toolbar_event(event) {\n",
       "        return fig.toolbar_button_onclick(event['data']);\n",
       "    }\n",
       "    function toolbar_mouse_event(event) {\n",
       "        return fig.toolbar_button_onmouseover(event['data']);\n",
       "    }\n",
       "\n",
       "    for(var toolbar_ind in mpl.toolbar_items){\n",
       "        var name = mpl.toolbar_items[toolbar_ind][0];\n",
       "        var tooltip = mpl.toolbar_items[toolbar_ind][1];\n",
       "        var image = mpl.toolbar_items[toolbar_ind][2];\n",
       "        var method_name = mpl.toolbar_items[toolbar_ind][3];\n",
       "\n",
       "        if (!name) { continue; };\n",
       "\n",
       "        var button = $('<button class=\"btn btn-default\" href=\"#\" title=\"' + name + '\"><i class=\"fa ' + image + ' fa-lg\"></i></button>');\n",
       "        button.click(method_name, toolbar_event);\n",
       "        button.mouseover(tooltip, toolbar_mouse_event);\n",
       "        nav_element.append(button);\n",
       "    }\n",
       "\n",
       "    // Add the status bar.\n",
       "    var status_bar = $('<span class=\"mpl-message\" style=\"text-align:right; float: right;\"/>');\n",
       "    nav_element.append(status_bar);\n",
       "    this.message = status_bar[0];\n",
       "\n",
       "    // Add the close button to the window.\n",
       "    var buttongrp = $('<div class=\"btn-group inline pull-right\"></div>');\n",
       "    var button = $('<button class=\"btn btn-mini btn-primary\" href=\"#\" title=\"Stop Interaction\"><i class=\"fa fa-power-off icon-remove icon-large\"></i></button>');\n",
       "    button.click(function (evt) { fig.handle_close(fig, {}); } );\n",
       "    button.mouseover('Stop Interaction', toolbar_mouse_event);\n",
       "    buttongrp.append(button);\n",
       "    var titlebar = this.root.find($('.ui-dialog-titlebar'));\n",
       "    titlebar.prepend(buttongrp);\n",
       "}\n",
       "\n",
       "mpl.figure.prototype._root_extra_style = function(el){\n",
       "    var fig = this\n",
       "    el.on(\"remove\", function(){\n",
       "\tfig.close_ws(fig, {});\n",
       "    });\n",
       "}\n",
       "\n",
       "mpl.figure.prototype._canvas_extra_style = function(el){\n",
       "    // this is important to make the div 'focusable\n",
       "    el.attr('tabindex', 0)\n",
       "    // reach out to IPython and tell the keyboard manager to turn it's self\n",
       "    // off when our div gets focus\n",
       "\n",
       "    // location in version 3\n",
       "    if (IPython.notebook.keyboard_manager) {\n",
       "        IPython.notebook.keyboard_manager.register_events(el);\n",
       "    }\n",
       "    else {\n",
       "        // location in version 2\n",
       "        IPython.keyboard_manager.register_events(el);\n",
       "    }\n",
       "\n",
       "}\n",
       "\n",
       "mpl.figure.prototype._key_event_extra = function(event, name) {\n",
       "    var manager = IPython.notebook.keyboard_manager;\n",
       "    if (!manager)\n",
       "        manager = IPython.keyboard_manager;\n",
       "\n",
       "    // Check for shift+enter\n",
       "    if (event.shiftKey && event.which == 13) {\n",
       "        this.canvas_div.blur();\n",
       "        // select the cell after this one\n",
       "        var index = IPython.notebook.find_cell_index(this.cell_info[0]);\n",
       "        IPython.notebook.select(index + 1);\n",
       "    }\n",
       "}\n",
       "\n",
       "mpl.figure.prototype.handle_save = function(fig, msg) {\n",
       "    fig.ondownload(fig, null);\n",
       "}\n",
       "\n",
       "\n",
       "mpl.find_output_cell = function(html_output) {\n",
       "    // Return the cell and output element which can be found *uniquely* in the notebook.\n",
       "    // Note - this is a bit hacky, but it is done because the \"notebook_saving.Notebook\"\n",
       "    // IPython event is triggered only after the cells have been serialised, which for\n",
       "    // our purposes (turning an active figure into a static one), is too late.\n",
       "    var cells = IPython.notebook.get_cells();\n",
       "    var ncells = cells.length;\n",
       "    for (var i=0; i<ncells; i++) {\n",
       "        var cell = cells[i];\n",
       "        if (cell.cell_type === 'code'){\n",
       "            for (var j=0; j<cell.output_area.outputs.length; j++) {\n",
       "                var data = cell.output_area.outputs[j];\n",
       "                if (data.data) {\n",
       "                    // IPython >= 3 moved mimebundle to data attribute of output\n",
       "                    data = data.data;\n",
       "                }\n",
       "                if (data['text/html'] == html_output) {\n",
       "                    return [cell, data, j];\n",
       "                }\n",
       "            }\n",
       "        }\n",
       "    }\n",
       "}\n",
       "\n",
       "// Register the function which deals with the matplotlib target/channel.\n",
       "// The kernel may be null if the page has been refreshed.\n",
       "if (IPython.notebook.kernel != null) {\n",
       "    IPython.notebook.kernel.comm_manager.register_target('matplotlib', mpl.mpl_figure_comm);\n",
       "}\n"
      ],
      "text/plain": [
       "<IPython.core.display.Javascript object>"
      ]
     },
     "metadata": {},
     "output_type": "display_data"
    },
    {
     "data": {
      "text/html": [
       "<img src=\"data:image/png;base64,iVBORw0KGgoAAAANSUhEUgAABLAAAAJYCAYAAABy5h8aAAAgAElEQVR4nOzde3xV1Z3//6WJRhBFwEGoSmq4VBq8IYjQH4ZxtBZEx7EwWuvdma+3tnY0aGGUUAJWiOWmtERR2kK90EFBUTDJgMBUuYgBhUBiQiwBhIAoYiDkwvv3RzxnZ+eck5wkOzlrk9fz8VgPZZ99O8SZz6fvrL22EQAAAAAAAGAxE+sbAAAAAAAAAOpDgAUAAAAAAACrEWABAAAAAADAagRYAAAAAAAAsBoBFgAAAAAAAKxGgAUAAAAAAACrEWABAAAAAADAagRYAAAAAAAAsBoBFgAAAAAAAKxGgAUAAAAAAACrEWABAAAAAADAagRYAAAAAAAAsBoBFgAAAAAAAKxGgAUAAAAAAACrEWABAAAAAADAagRYAAAAAAAAsBoBlke++uorLV68WBs3btSWLVsYDAaDwWjzY+PGjVq8eLG++uqrWJdphFFcXKyxY8dqwYIFWrx4MYPBYDAYbXosWLBAY8eOVXFxcaxLNCIgwPLI4sWLZYxhMBgMBoNRZyxevDjWZRphjB07Nub/bTAYDAaDYdsYO3ZsrEs0IiDA8sjGjRtlTE2THuvfeDMYDAaDYcMI/HJn48aNsS7TCGPBggXBRj3Wv/VmMBgMBiPWI/CLnQULFsS6RCMCAiyPbNmyRcYYbdmyJda3AgCAFaiNdlu8eHHwl28AALR11EX7EWB5hCYdAAA3aqPdaNQBAHBQF+1HgOURmnQAANyojXajUQcAwEFdtB8Blkdo0gEAcKM22o1GHQAAB3XRfgRYHqFJBwDAjdpoNxp1AAAc1EX7EWB5hCYdgN9VVlaqtLRUO3bsUFFREYMRduzYsUO7d+/W4cOHdfz48Xr/m6I22o1GHQD8gz6teb1LaWmpKisr6/07pi7ajwDLIzTpAPzs+PHjKi4uVl5envLz82PeaDDsHZ999pny8vKUl5envXv31htiURvtRqMOAP5An9a8kZ+fr7y8PH3++ef19i3URfsRYHmEJh2Anx06dEh5eXnavXt3g7NqgGPHjunzzz9XXl6eDh8+HHE/aqPdaNQBwB/o05rn+PHj2r17t/Ly8nTo0KGI+1EX7UeA5RGadAB+VlJSory8vAanVgMBx44dCzbTkVAb7UajDgD+QJ/WfJWVlcrLy1NJSUnEfaiL9iPA8ghNOgA/27FjhwoKCmJ9G/CZzz77TDt27Ij4ObXRbjTqAOAP9GneKCgoqLdvoS7ajwDLIzTpAPysqKhIhYWFsb4N+ExhYaGKiooifk5ttBuNOgD4A32aNxrqW6iL9iPA8ghNOgA/CyxyCTRGQ//dUBvtRqMOAP5An+aNhv4eqYv2I8DyCE06AD+jMUJTEGD5G406APgDfZo3CLD8jwDLIzTpAPyMxqh57rrrLiUmJsb6NlodAZa/0agDgD/Qp9U4fPiw7rvvPp1zzjkyxuiRRx6RJO3du1c//elP1blzZxljNH369LDHE2D5HwGWR2jSAfjZidoYGWOiGitXrmzWdQiwwqM22o1GHQD84UTt0wLmzZtXb5/24YcfSpLGjh2ruLg4TZgwQfPnz9dHH30kSfrZz36mDh06KCMjQ/Pnz9e2bdvCXocAy/8IsDxCkw7Az1qqMaqoqtYHhQe07NM9+qDwgCqqqj2/Rn3mz5/vGtdee62MMSHb9+7d26zrVFRUqLy83KO79g8CLH+jUQcAf2ixPq1CWrlSWrSo5p8VFZ5fIiqBAGvixIkhPdr8+fO1f/9+SdKgQYP0ox/9KOT4c845Rz//+c8bvA4Blv8RYHmEJh2An3ndGFVUVWtmToEuT89S4hNLg2NAerZm5hS0epAV8PDDD8uYhktfWVlZK9yN/xFg+RuNOgD4g+d9WoU0caJ0zjmSMc7o1q1me2sHWYEAa8OGDfXud8EFF+j6668P2X7SSSfp4YcfbvA6BFj+R4DlEZp0AH7mZWNUUVWtu19ep8Qnlur7tcKr2n++Z976mIRY4QKslJQUJScn66OPPtLQoUPVrl274JoKixcv1ogRI9S9e3edeuqpSkpK0sSJE1VVVeU6R91HCIuLi2WMUUZGhjIzM5WUlKRTTz1VAwYM0Pr161v8e7YWAix/o1EHAH/wtE+rkEaMqAmsTjrJHWAF/nz99a0bYjUUYK1cuTLso4WRHj2MhADL/wiwPEKTDsDPvGyMZuYUuEKrSGNWToEn12uMSAFWt27d9E//9E/65S9/qczMzGDjctNNN+nf//3flZGRoT/+8Y8aPXq0jDFKTU11nSNSgHXZZZepV69emjJliqZOnaqzzz5b5513nipiNUffYwRY/kajDgD+4GWfNnGiO7SKNNLTPblcVAJBVE5Ojvbv3+8aBw4c0N69ezV//nydffbZuvTSS4OPFm7ZskXz58+XMUbXXnttcHskBFj+R4DlEZp0AH7mVWNUUVWty9OzQmZe1R3f/+5xwtaehRUpwDLGaM6cOSH7HzlyJGTb/fffr/bt27vWvIoUYHXp0kUHDx4Mbl+yZImMMXr77bc9+DaxR4DlbzTqAOAPnvVpFTWPDdadeVV3nHRSzeOErfX7tvoWcU9ISAjul5iYGPYRQmMMjxC2EQRYHqFJB+BnkQr6hLe26N/nfBD1+Mn0VVHNvgqMn0xf1ajzT3iref8/NlKAlZCQoGPHjtV77DfffKP9+/drwYIFMsZo06ZNwc8iBVgPPfSQ6xwHDx6UMUYzZ85s1vewBQGWv9GoA4A/RKq3jzwipaREPy65JLrZV4FxySWNO/93KzA0WiDAmj17trKzs11jxYoVwf0IsECA5RGadAB+Fqmg//ucDxoVSLX0+Pc5HzTre0YKsJKSksLuv2XLFt10000688wzQ34juGrVquB+kQKsZ555JuScxhhNmDChWd/DFgRY/kajDgD+EKnepqQ0LpBq6ZGS0rTvF+0i7gRYIMDyCE06AD9r6zOwkpOTQ/b96quv1KVLF11wwQWaMWOG3n77bWVnZ2vKlCkyxmjlypXBfetbxL0uY4zS0tKa9T1sQYDlbzTqAOAPbWUGFgEWGkKA5RGadAB+1tbXwAoXYL355pshM60k6YUXXiDA+g4Blr/RqAOAP7SVNbAIsNAQAiyP0KQD8LO2/hbCcAHWW2+9JWOM3n///eC2Y8eO6dJLLyXA+g4Blr/RqAOAP7SVtxASYKEhBFgeoUkH4GdeNkYVVdW6Z9764EyrujOvEp9YqnvmrW/12VdS4wKsAwcOqFOnTkpMTNTvf/97TZs2TZdddpkuueQSAqzvEGD5G406APiDp31ahXT99c5Mq7ozr4yp+by1Zl9JToA1ceJEzZ8/P2QEvjsBFgiwPEKTDsDPvGyMpJoQa1ZOgQakZ7sCrAHp2ZqVUxCT8EpqXIAlSX//+9915ZVXql27dvre976nxx9/XO+99x4B1ncIsPyNRh0A/MHzPq2iZoZVt27uAKtbt5rtrRleSU6AFWnMmzdPEgEWCLA8Q5MOwM+8bowCKqqq9UHhAS37dI8+KDwQs+AKLYMAy99o1AHAH1qsT6uQVq6UFi2q+WdrB1etjQDL/wiwPEKTDsDPWqoxwomNAMvfaNQBwB/o07xBgOV/BFgeoUkH4Gc0RmgKAix/o1EHAH+gT/MGAZb/EWB5hCYdgJ/RGKEpCLD8jUYdAPyBPs0bBFj+R4DlEZp0AH5GY4SmIMDyNxp1APAH+jRvEGD5HwGWR2jSAfgZjRGaggDL32jUAcAf6NO8QYDlfwRYHqFJB+BnNEZoCgIsf6NRBwB/KCoqUmFhYaxvw/cKCwsJsHyOAMsjNOkA/IwAC01BgOVvNOoA4A87duxQQUFBrG/D9woKCrRjx46In1MX7UeAVUdpaalGjBih9u3bq0+fPsrJyYnqOJp0AH5GgIWmIMDyNxp1APCHkpIS5eXlqbKyMta34luVlZXKy8tTSUlJxH2oi/YjwKpj9OjRuvfee1VWVqYlS5aoc+fO+vLLLxs8jiYdgJ8RYKEpCLD8jUYdAPzh0KFDysvL0+7du3X8+PFY347vHD9+XLt371ZeXp4OHToUcT/qov0IsGo5fPiwTjnlFFcqm5KSopdffrnBY2nSAfgZARaaggDL32jUAcAfjh8/rs8//1x5eXnKz88PruXEaHgUFhYqPz9feXl5+vzzz+sNAKmL9gsbYE2aNEnGGCUnJ9d78Pr16/Xwww/rhz/8odq3b6/zzz9fo0ePVn5+fovcbG2HDx/W+PHjdd1116lTp04yxmjevHkR9y8vL9fjjz+u7t2767TTTtMVV1yhrKws1z4ff/yxOnXq5Nr2i1/8Qo899liD90OTDsDPCLDQFARY/kajDgD+UVlZqdLSUu3YsSPmoZDfxo4dO1RaWtrgI5jURfuFBFglJSVq3769Tj/99AYDrJ/+9Kfq1q2bfvnLX+rFF19Uenq6zjnnHJ1++un69NNPW+ymJam4uFjGGPXo0UPDhg1rMMC69dZbFR8fr9TUVGVmZmrw4MGKj4/XmjVrgvusXr1aiYmJruPGjRun+++/v8H7oUkH4GcEWNEJ1J7a9SYtLU3GRDeh2RijtLQ0T+8pJSVFKSkpnp4zWgRY/kajDgCAg7pov5CO+5ZbbtHVV1+tlJSUBgOsv//97zp27JhrW0FBgRISEvTzn/+83mMPHjyoRYsWRfz8lVde0bfffhvx8/Lycn3xxReSpA0bNtQbYK1bt07GGGVkZAS3HT16VD179tTgwYOD25iBBaCtOlEDrBtuuEHt2rXTN998E3Gf2267TaeccooOHDjQ4PliFWBt3bpVaWlpKi4uDvmMAAtNRaMOAICDumg/V8e9atUqxcXF6ZNPPokqwIqkf//+6t+/f737TJo0SXFxcXrjjTdCPps7d66MMZo9e3ZU12sowBozZozi4uJCFmx7+umnZYzRzp07JTlrYO3atSu4z7Bhw1gDC8AJ70QNsF577TUZY/TnP/857OdlZWU6/fTTdcMNN0R1vnABVmVlpY4ePRrV8U0NsP72t7/JGKOVK1eGfHbs2LGQXya1FgIsf6NRBwDAQV20XzDAqqqq0sUXXxx8XK6pAdbx48d17rnn6sc//nG9+1VWVurGG29UQkKCcnJygtsXLVqkuLg43X777VG/YaGhAOuaa65R3759Q7bn5OTIGKO33noruG3UqFG67777dOTIEb399tu8hRBAm9BiAVZVhbRjtbR1Sc0/qyq8v0Y9jhw5ojPOOEPXXXdd2M9feeUVGWP02muvRXW+cAFWY7REgBVLBFj+RqMOAICDumi/YID1/PPPq2PHjiotLZXU9ABr/vz5MsbopZdeanDfo0ePKiUlRR06dNDatWuVk5OjhIQEjRw5ssEF1mprKMBKTk7W1VdfHbJ969atMsZozpw5wW2lpaUaPny42rVrp969eys7Ozuqe6BJB+BnngdYVRXS+1OkqT2ltDOdkdGrZnsrBll33XWX4uPjtW/fvpDPRo4cqTPOOEO7du3SY489pn79+un000/XGWecoZ/85CfatGmTa/9oHyEsLy/Xr3/9a5199tnq0KGDbrjhBpWUlIQEWJ9//rkefPBB9enTR6eddpo6d+6sUaNGuR4VnDdvnowxISMQZoV7hHDfvn2699571bVrVyUkJOjiiy/Wn/70p7DfJSMjQ5mZmUpKStKpp56qAQMGaP369VH93RJg+RuNOgAADuqi/YwkHThwQJ07d9azzz4b/KApAda2bdt05plnavDgwaqqqorqmEOHDql///7q3LmzOnTooKuuukpHjhxp1HUbCrCSkpI0fPjwkO1FRUUyxmj69OmNul5tgf/hEhg06QD8yNMAq6pCWjDqu9CqozvACvx5wehWC7GysrJkjNFzzz3n2v7ll1/qlFNO0Z133qkNGzaoZ8+e+s1vfqPMzExNnDhR5557rjp27Kjdu3cHj4k2wLr99ttljNFtt92m559/XjfffLMuvvjikADrb3/7my655BKNHz9eL7zwgsaNG6dOnTopMTFRZWVlkmp+Nr/61a9kjNG4ceM0f/58zZ8/X3v37pUUGmAdOXJEffv21SmnnKL/+q//0qxZszR06FAZYzRjxoyQ73LZZZepV69emjJliqZOnaqzzz5b5513nioqGv75EGD5G406AAAO6qL9jCQ98MAD6tWrl2sNjcYGWF988YWSkpJ0/vnnu5r9aKxYsSIYAH388ceNOlbydgZWU9GkA/AzTwOs96fUCa0ijPenenO9BlRVVal79+6ul3ZI0pw5c2SM0Xvvvafy8nJVV1e7Pi8uLlZCQoImTpzo2tZQgLVp0yYZY/TQQw+5znfbbbeFBFjhfmHz4Ycfyhijv/zlL8Ft9T1CWDfAmjFjhowxWrBgQXBbRUWFBg8erA4dOgQXtA98ly5duujgwYPBfZcsWSJjjN5+++2Qa9VFgOVvNOoAADioi/YzBQUFOvnkkzVr1iwVFxcHx6BBg9SnTx8VFxc3uAbU119/rUsvvVSdO3fW1q1bG3UDRUVF6t69uy688EIlJibqggsu0J49exp1Di/XwGoqmnQAfuZZgFVV8d1jg3VnXtUdHWseJ2ylWVj/9V//JWOM69G8q666Suecc07IjOGqqiodOHBA+/fv18UXX6ybbrop+Fk0AVbgBSHbt293nXf9+vX1roFVUVERvO5ZZ52lX//618HPGhNg/fjHP1a3bt1CArlXX33VFUwFvkvdoO3gwYMyxmjmzJlh77M2Aix/o1EHAMBBXbSfWblyZdi1NWqPRx55JOIJjh49qqFDh6p9+/b64IMPGnXxPXv2KCkpST169FBJSYkKCgrUtWtX9evXL6qF0wMaCrBSU1PDvoVw8uTJrrcQNgdNOgA/ixhEvPuE9PKI6McfhkQ3+yow/jCkced/94kmfb+PPvpIxhhNnjxZklRSUqKTTjopWN+qq6s1bdo09erVS3Fxca4a+M///M/B80QTYN1///06+eSTQ9ZyPHToUNgZWE899ZTOO+88nXTSSa7r3nPPPcH9GhNg/eAHP9DQoUND9gvMDHv++edd3+WZZ54J2dcYowkTJoT5m3QjwPI3GnUAABzURfuZ/fv368033wwZycnJ6tGjh95880198sknkmpeN75t2zbt379fUs1vqW+88UbFx8frnXfeadSFDx48qIsuukhdu3ZVQUFBcHtubq46duyoK6+8Ut9++21U52oowFq7dm1wodqA8vJy9erVS4MGDWrUfUdCkw7AzyIGES+PaFwg1dLj5RFN/o4XXnih+vXrJ0maOnWqjDHBxcrT09NljNG9996rV199Ve+9956ys7OVnJzsCoe8DrDuu+8+nXzyyXr00Uf1t7/9TVlZWcrOzlaXLl101113BfdryQCrdm0MiPZtiQRY/kajDgCAg7poPxPpg3BrYAVmawWa2kceeUTGGN1www3BRWVrj/pMmjRJZ511VsgbniRpzZo1ateunWbPnl3vOZ577jmlp6frwQcflDFGN998s9LT05Wenq6vv/7ate/o0aMVHx+vMWPGKDMzU0OGDFF8fLxWrVpV7zWiRZMOwM9O9BlYkhNSbd68WZdeeql69+4d/OySSy5xzbQKOPfccxsdYDXmEcKOHTu6ZlpJNTOb4+LiXAHW//zP/zT7EcLXXnst7COEBFhtF406AAAO6qL9mhVgpaSk1PvoYX0qKyvrbWg3b96s48eP13uOxMTEiNeuvc6JVPM/CFJTU9WtWzclJCRo4MCBWr58eb3nbwyadAB+dqKvgSVJO3bskDFG//qv/xryiFz//v01bNgw1/4LFy6UMabRAVZubm7Ui7h37txZd999t2u/wOyw2gHWsmXLZIzRm2++GfK9Ii3i/sorrwS3VVZW6kc/+lHYRdwJsNouGnUAABzURfvVnzIhajTpAPzsRH4LYW1DhgwJ/qLjs88+C24fP368jDG6++679cILL+iXv/ylOnfurKSkpEYHWJL0s5/9TMYY/fznP9fs2bN188036+KLLw4Jhu68807FxcXpkUceUWZmpu6++26dd955IY8QfvHFF4qLi9OVV16pP/3pT3r11Ve1b98+SaEB1pEjR9S3b1+deuqpeuyxx/Tcc88Ff+E0Y8aMkO9CgNV20agDAOCgLtqPAMsjNOkA/MzTAKuqQlow2plpVXfmVdqZNZ+34uyrgNmzZ8sYoyuuuMK1vby8XI899pi6d++udu3a6Uc/+pE+/PDDkHAo2gDr6NGj+tWvfqUuXbro9NNP1w033KCSkpKQYOirr77SPffco7PPPlsdOnTQddddp+3btysxMdEVYEnSiy++qKSkpOAi84HHCeveoyTt27cveN5TTz1VF110Ucg6kQRYoFEHAMBBXbQfAZZHaNIB+JmnAZZUE069P7XmMcHaAVZGr5rtMQiv4D0CLH+jUQcAwEFdtB8Blkdo0gH4mecBVkBVhbRjtbR1Sc0/Ca5OKARY/kajDgCAg7poPwIsj9CkA/CzFguwcEIjwPI3GnUAABzURfsRYHmEJh2AnxFgoSkIsPyNRh0AAAd10X4EWB6hSQfgZwRYaAoCLH+jUQcAwEFdtB8Blkdo0gH4GQEWmoIAy99o1AEAcFAX7UeA5RGadAB+RoCFpiDA8jcadQAAHNRF+xFgeYQmHYCfFRUVqbCwMNa3AZ8pLCwkwPIxGnUAABzURfsRYHmEJh2AnxUXFys/P1/Hjx+P9a3AJ44fP678/Hzt2LEj4j7URrvRqAMA4KAu2o8AyyM06QD8bM+ePcrLy9PevXsJsdCgyspK7d69W3l5eSotLY24X1upjeXl5Xr88cfVvXt3nXbaabriiiuUlZUV1bG7du3S6NGj1bFjR51xxhm68cYbG3ycd82aNTLGyBij/fv3N/m+adQBAHA0py76tRfwGwIsj7SVJh3Aiam6ulrFxcXKy8tTfn5+8NEwBqP2KCwsVEFBgfLy8pSXl6fPP/9clZWVEf+7aiu18dZbb1V8fLxSU1OVmZmpwYMHKz4+XmvWrKn3uMOHD6t3797q2rWrpkyZomnTpun888/XeeedpwMHDoQ9prq6WpdeeqlOP/10AiwAADzUnLro117AbwiwPNJWmnQAJ67q6mrt2bNHxcXFMQ9KGPaOHTt2qKSkRIcOHWpwtl5bqI3r1q2TMUYZGRnBbUePHlXPnj01ePDgeo+dMmWKjDFav359cNu2bdsUFxensWPHhj3mj3/8o7p06aJHHnmEAAsAAA81tS76uRfwGwIsj7SFJh0AgMZoC7VxzJgxiouL06FDh1zbn376aRljtHPnzojHDhw4UAMHDgzZ/uMf/1g9e/YM2f7ll1+qS5cumj17ttLS0giwAADwUFProp97Ab8hwPJIW2jSAQBojLZQG6+55hr17ds3ZHtOTo6MMXrrrbfCHlddXa2EhAQ9+OCDIZ89+eSTMsbom2++cW1/6KGHlJycrKqqKgIsAAA81tS66OdewG8IsDzSFpp0AAAaoy3UxuTkZF199dUh27du3SpjjObMmRP2uP3798sYo4kTJ4Z8Nnv2bBljtH379uC2zZs3Ky4uTu+9954kNbpp3bdvn7Zs2eIas2bNIsACAOA7gQBr1qxZITVz3759EY/zSy9wIiDA8khbaNIBAGiMtlAbk5KSNHz48JDtRUVFMsZo+vTpYY/buXOnjDGaMmVKyGcvvfSSjDHKzc0NbktJSdHIkSODf25s0xrYP9wgwAIAwAmwwo20tLSIx/mlFzgREGB5pC006QAANEZbqI2t8VvX1157Taeccory8/OD+zADCwAAb9k8A8uLXuBEQIDlkbbQpAMA0BhtoTa2xroX559/vm677TYVFxcHR+DNQx9//LF2797dpHtnDSwAABw2r4HVUr2A3xBgeaQtNOkAADRGW6iNqampYd88NHny5AbfPDRgwICwbx669tprlZSUFPxzpMcZAuOSSy5p0r0TYAEA4GhqXfRzL+A3BFgeaQtNOgAAjdEWauPatWtljFFGRkZwW3l5uXr16qVBgwYFt/3jH//Qtm3bXMc+88wzMsZow4YNwW3bt29XXFycnnjiieC2N998M2TccsstMsboL3/5i1asWNGkeyfAAgDA0dS66OdewG8IsDzSFpp0AAAao63UxtGjRys+Pl5jxoxRZmamhgwZovj4eK1atSq4T0pKioxxt13ffPONevbsqa5du2rq1KmaPn26zj//fH3ve99TaWlpvdf0Yt0LAiwAABzNqYt+7QX8hgDLI22lSQcAIFptpTYePXpUqamp6tatmxISEjRw4EAtX77ctU+4plWSSkpKNGrUKJ155pnq0KGDRo4cqc8++6zBaxJgAQDgrebURb/2An5DgOWRttKkAwAQLWqj3QiwAABwUBftR4DlEZp0AADcqI12o1EHAMBBXbQfAZZHaNIBAHCjNtqNRh0AAAd10X4EWB6hSQcAwI3aaDcadQAAHNRF+xFgeYQmHQAAN2qj3WjUAQBwUBftR4DlEZp0AADcqI12o1EHAMBBXbQfAZZHaNIBAHCjNtqNRh0AAAd10X4EWB6hSQcAwI3aaDcadQAAHNRF+xFgeYQmHQAAN2qj3WjUAQBwUBftR4DlEZp0AADcqI12o1EHAMBBXbQfAZZHaNIBAHCjNtqNRh0AAAd10X4EWB6hSQcAwI3aaDcadQAAHNRF+xFgeYQmHQAAN2qj3WjUAQBwUBftR4DlEZp0AADcqI12o1EHAMBBXbQfAZZHaNIBAHCjNtqNRh0AAAd10X4EWB6hSQcAwI3aaDcadQAAHNRF+xFgeYQmHQAAN2qj3WjUAQBwUBftR4DlEZp0AADcqI12o1EHAMBBXbQfAZZHaNIBAHCjNtqNRh0AAAd10X4EWB6hSQcAwI3aaDcadQAAHNRF+xFgeYQmHQAAN2qj3WjUAQBwUBftR4DlEZp0AADcqI12o1EHAMBBXbQfAZZHaNIBAHCjNtqNRh0AAKKFRlMAACAASURBVAd10X4EWB6hSQcAwI3aaDcadQAAHNRF+xFgeYQmHQAAN2qj3WjUAQBwUBftR4DlEZp0AADcqI12o1EHAMBBXbQfAZZHaNIBAHCjNtqNRh0AAAd10X4EWB6hSQcAwI3aaDcadQAAHNRF+xFgeYQmHQAAN2qj3WjUAQBwUBftR4DlEZp0AADcqI12o1EHAMBBXbQfAZZHaNIBAHCjNtqNRh0AAAd10X4EWB6hSQcAwI3aaDcadQAAHNRF+xFg1VFaWqoRI0aoffv26tOnj3JycqI6jiYdAAA3aqPdaNQBAHBQF+1HgFXH6NGjde+996qsrExLlixR586d9eWXXzZ4HE06AABu1Ea70agDAOCgLtqPAKuWw4cP65RTTlFJSUlwW0pKil5++eUGj6VJBwDAjdpoNxp1AAAc1EX7eR5gTZo0ScYYJScne31ql8OHD2v8+PG67rrr1KlTJxljNG/evIj7l5eX6/HHH1f37t112mmn6YorrlBWVpZrn48//lidOnVybfvFL36hxx57rMH7oUkHAMCN2mg3GnUAABzURft5GmCVlJSoffv2Ov3001s8wCouLpYxRj169NCwYcMaDLBuvfVWxcfHKzU1VZmZmRo8eLDi4+O1Zs2a4D6rV69WYmKi67hx48bp/vvvb/B+aNIBAHCjNtqNRh0AAAd10X6eBli33HKLrr76aqWkpDQYYB08eFCLFi2K+Pkrr7yib7/9NuLn5eXl+uKLLyRJGzZsqDfAWrdunYwxysjICG47evSoevbsqcGDBwe3MQMLAADvUBvtRqMOAICDumg/zwKsVatWKS4uTp988klUAdakSZMUFxenN954I+SzuXPnyhij2bNnR3XthgKsMWPGKC4uTocOHXJtf/rpp2WM0c6dOyU5a2Dt2rUruM+wYcNYAwsAgCagNtqNRh0AAAd10X6eBFhVVVW6+OKLg4/aRRNgVVZW6sYbb1RCQoJycnKC2xctWqS4uDjdfvvtOn78eFTXbyjAuuaaa9S3b9+Q7Tk5OTLG6K233gpuGzVqlO677z4dOXJEb7/9Nm8hBACgiaiNdqNRBwDAQV20nycB1vPPP6+OHTuqtLRUUnQBllTzGF9KSoo6dOigtWvXKicnRwkJCRo5cqQqKyujvn5DAVZycrKuvvrqkO1bt26VMUZz5swJbistLdXw4cPVrl079e7dW9nZ2VHdA006AABu1Ea70agDAOCgLtqv2QHWgQMH1LlzZz377LPBbdEGWJJ06NAh9e/fX507d1aHDh101VVX6ciRI426h4YCrKSkJA0fPjxke1FRkYwxmj59eqOuV1taWpqMMcFBkw4AQA0CLLvRqAMA4KAu2q/ZAdYDDzygXr166dixY8FtjQmwJGnFihXBAOjjjz9u9D14OQOrqWjSAQBwozbajUYdAAAHddF+zQqwCgoKdPLJJ2vWrFkqLi4OjkGDBqlPnz4qLi5ucP2ooqIide/eXRdeeKESExN1wQUXaM+ePY26Dy/XwGoqmnQAANyojXajUQcAwEFdtF+zAqyVK1e6Hp8LNx555JGIx+/Zs0dJSUnq0aOHSkpKVFBQoK5du6pfv35RLZwe0FCAlZqaGvYthJMnT3a9hbA5aNIBAHCjNtqNRh0AAAd10X7NCrD279+vN998M2QkJyerR48eevPNN/XJJ5+EPfbgwYO66KKL1LVrVxUUFAS35+bmqmPHjrryyiv17bffRnUfDQVYa9eulTFGGRkZwW3l5eXq1auXBg0aFP0XrgdNOgAAbtRGu9GoAwDgoC7az5O3ENYVzRpYkyZN0llnnaVNmzaFfLZmzRq1a9dOs2fPrvcczz33nNLT0/Xggw/KGKObb75Z6enpSk9P19dff+3ad/To0YqPj9eYMWOUmZmpIUOGKD4+XqtWrWr8FwyDJh0AADdqo91o1AEAcFAX7RezAKuysrLehnbz5s06fvx4vedITEyM+OhicXGxa9+jR48qNTVV3bp1U0JCggYOHKjly5dH/Z0aQpMOAIAbtdFuNOoAADioi/ZrkQCrLaJJBwDAjdpoNxp1AAAc1EX7EWB5hCYdAAA3aqPdaNQBAHBQF+1HgOURmnQAANyojXajUQcAwEFdtB8Blkdo0gEAcKM22o1GHQAAB3XRfgRYHqFJBwDAjdpoNxp1AAAc1EX7EWB5hCYdAAA3aqPdaNQBAHBQF+1HgOURmnQAANyojXajUQcAwEFdtB8Blkdo0gEAcKM22o1GHQAAB3XRfgRYHgk06XPeXKkPCg+ooqo61rcEAEBMEWDZjUYdAAAHddF+BFgeCTTp3e+drcQnlmpAerZm5hQQZAEA2iwCLLvRqAMA4KAu2o8AyyN1A6zAuOvldYRYAIA2iQDLbjTqAAA4qIv2I8DySKQAK/GJpUqZukKLc3fxaCEAoE0hwLIbjToAAA7qov0IsDxSX4BVe1z45Lu6NfNDrdy+jzALAHBCI8CyG406AAAO6qL9CLA8Em2AVXv0/u939ejruSo7Vhnr2wcAwHMEWHajUQcAwEFdtB8BlkeaEmAFRs+xSwmyAAAnHAIsu9GoAwDgoC7ajwDLI80JsAIj6TdLdcfctayXBQA4IRBg2Y1GHQAAB3XRfgRYHvEiwKo7+qUtV+rCTczMAgD4EgGW3WjUAQBwUBftR4DlkZYIsIJrZY17V9Oy8pmRBQDwFQIsu9GoAwDgoC7ajwDLIy0ZYAXGPfPWE2IBAHyDAMtuNOoAADioi/YjwPJIawRYiU8s1cMLNrI+FgDAFwiw7EajDgCAg7poPwIsj7RWgBUYA9KzNTOngCALAGAtAiy70agDAOCgLtqPAMsjgSa9x3/+sVUCrMAYMXO1Vm7fqzUFpVr26R5mZwEArEGAZTcadQAAHNRF+xFgeSTQpG/I3aTUhZvUb/yyVg2yao+LeHshAMACBFh2o1EHAMBBXbQfAZZH6jbpFVXV+qDwgJbk7tIdc9eq97h3Wj3I6jn2HT36ei5BFgAgJgiw7EajDgCAg7poPwIsjzTUpFdUVWvF9r26Zc4HuuA3BFkAgBMfAZbdaNQBAHBQF+1HgOWRxjTpZccq9ejrueo5tnVnZV3wm6W6Zc4HWrl9H+tkAQBaHAGW3WjUAQBwUBftR4DlkaY06WXHKmO2Xlavce/ojrlrtTh3Fwu/AwBaBAGW3WjUAQBwUBftR4DlkeY06YH1sh6c/1GrB1mBcXl6lmbmFBBkAQA8Q4BlNxp1AAAc1EX7EWB5xIsmvaKqWne9vC5mIVbiE0t118vrCLEAAJ4gwLIbjToAAA7qov0IsDziVZNeUVWtn73wYUxDrB/9Lkd/WPmZ3t68m8cLAQBNRoBlNxp1AAAc1EX7EWB5xMsm3YaZWLVHv7TlSl24ibcYAgAahQDLbjTqAAA4qIv2I8DyiNdNekVVtWblFGhAenbMA6zASPrNUt0xd60WbSzR3NVFzNACANSLAMtuNOoAADioi/YjwPJISzXpgQXel27erdSFm3TZb5fHPMiqO1gAHgAQTlsJsMrLy/X444+re/fuOu2003TFFVcoKysrqmN37dql0aNHq2PHjjrjjDN04403qqioyLXPzp07NWHCBA0cOFBnnXWWunTpopSUFGVnZzfrvmnUAQBwNKcu+rUX8BsCLI+0VpNeUVWt1QWlevivG/XD8ctiHl7VHvfMW0+IBQAIaisB1q233qr4+HilpqYqMzNTgwcPVnx8vNasWVPvcYcPH1bv3r3VtWtXTZkyRdOmTdP555+v8847TwcOHAju99xzz6ldu3b62c9+pueff14zZsxQ//79ZYzRyy+/3OT7JsACAMDRnLro117AbwiwPBKLJj0wO2vZp3v0QeEBfX3kmB59PVc9x74TsxDrgfkf8VghAEBS2wiw1q1bJ2OMMjIygtuOHj2qnj17avDgwfUeO2XKFBljtH79+uC2bdu2KS4uTmPHjg1u27Jli/bv3+86try8XBdeeKHOO++8Jt87ARYAAI6m1kU/9wJ+Q4DlEZua9LJjlXr09Vwl/SZ2s7GSxy/TnS+t1eLcXQRaANBG2VQbW8qYMWMUFxenQ4cOubY//fTTMsZo586dEY8dOHCgBg4cGLL9xz/+sXr27NngtR999FEZY/TNN980/sZFgAUAQG1NrYt+7gX8hgDLIzY26YEgq/e42M3ICoyL0pbroQUfKXNVIYu/A0AbYWNt9No111yjvn37hmzPycmRMUZvvfVW2OOqq6uVkJCgBx98MOSzJ598Mqpm9LbbblP79u1VVVXVpHsnwAIAwNHUuujnXsBvCLA8YnOTXlFVrRXb9+pnmR/qwiffjXmYFRgs/g4AJzaba6NXkpOTdfXVV4ds37p1q4wxmjNnTtjj9u/fL2OMJk6cGPLZ7NmzZYzR9u3bI173s88+02mnnaY77rgjqvvct2+ftmzZ4hqzZs0iwAIA4DuBAGvWrFkhNXPfvn0Rj/NLL3AiIMDyiF+a9MAi8NfPXB3zACswhs9YFTIzq+76XoRcAOA/fqmNzZGUlKThw4eHbC8qKpIxRtOnTw973M6dO2WM0ZQpU0I+e+mll2SMUW5ubthjy8rKdOmll6pTp07avXt3VPeZlpYmY0zYQYAFAIATYIUbaWlpEY/zSy9wIiDA8ojfmvSKqmpNz8pXrxgu+B5p9H1qmfo+5X7D4oD0bGZrAYDP+K02NkVr/9a1qqpKN9xwg0499VT97//+b9T3yQwsAADq55cZWE3tBU4EBFge8WuTHlgnq89/2/NoYbjx/e/+ec+89YRYAOATfq2NjdHa617cc889Oumkk/TKK680+95ZAwsAAIdf1sDyshfwGwIsj/i9SQ88WjgjO19Tl23Xz+d+qJ4Wzs5KfGKpZuUUxPqvCwAQBb/XxmikpqaGffPQ5MmTG3zz0IABA8K+eejaa69VUlJS2GsZYzRjxozm37gIsAAAqK2pddHPvYDfEGB55ERs0suOVSp14Sb1G78s5qFV3ccJmYUFAPY7EWtjXWvXrpUxRhkZGcFt5eXl6tWrlwYNGhTc9o9//EPbtm1zHfvMM8/IGKMNGzYEt23fvl1xcXF64oknXPtOnTpVxhiNGzfOs3snwAIAwNHUuujnXsBvCLA8ciI36YEF1Zfk7tI1v38/5gFW4hNL9YeVrIcFALY7kWtjbaNHj1Z8fLzGjBmjzMxMDRkyRPHx8Vq1alVwn5SUFBnjbru++eYb9ezZU127dtXUqVM1ffp0nX/++fre976n0tLS4H5vvPGGjDHq3bu35s+fHzL27t3bpPsmwAIAwNGcuujXXsBvCLA80laa9MDi773HxX7NrN7//a4efT1XXx85xhsLAcBCbaU2Hj16VKmpqerWrZsSEhI0cOBALV++3LVPuKZVkkpKSjRq1CideeaZ6tChg0aOHKnPPvvMtU99bxA0xmjlypVNum8CLAAAHM2pi37tBfyGAMsjbaVJD7D18cLAI4a8sRAAYq+t1Ua/IcACAMBBXbQfAZZH2mqTXvvxwrteWqfe4+xZ+H3EzNVaU1BKkAUAMdJWa6Nf0KgDAOCgLtqPAMsjNOk1yo5V6qbn/y/m4VXt0ffJd/XQgo2EWQDQyqiNdqNRBwDAQV20HwGWR2jSHRVV1ZqVU6AB6dmuIClpbOzDrOTxy3TnS2u1OHcX62UBQAujNtqNRh0AAAd10X4EWB6hSQ8VeLwwsLh62bFKzcop0OUTs2IeZAVGv7TlSl24SWXHKmP91wUAJxxqo91o1AEAcFAX7UeA5RGa9OgFgq2HF2yMeYAVGD3HvqOM5duZkQUAHqI22o1GHQAAB3XRfgRYHqFJb7yKqmrdM299zMOr2uPS376n/9m4k8cLAcAD1Ea70agDAOCgLtqPAMsjNOlNE2m9rJ5jY/82w8B6WYs2lmju6iK9vXk3wRYANAK10W406gAAOKiL9iPA8ghNevOEWy9rela+elkQZNUdl6dnaWZOAUEWADSA2mg3GnUAABzURfsRYHmEJr1llB2r1KOv56r3OPuCrHvmrSfEAoB6UBvtRqMOAICDumg/AiyP0KS3rIqqaq3Yvle3zPlAF/wm9uFVYDww/6OQxwrrziYj5ALQVlEb7UajDgCAg7poPwIsj9Ckt56yY5VKXbhJF6Utj3mAFRjJ45fp9rkf6sH5H+niCe+5PhuQns0jhwDaJGqj3WjUAQBwUBftR4DlEZr01heY6bR0826lLtyky35rT6AVblw/a7XWFJQSZAFoM6iNdqNRBwDAQV20HwGWR2jSY6+iqlqrC0r18F83qu9T78Y8sIo0Lp+YpdSFm3irIYATHrXRbjTqAAA4qIv2I8DyCE26XQKzs5bk7tJdL61Tv/HLYh5cRRoXp72naVn5BFkATjjURrvRqAMA4KAu2o8Aq5bS0lKNGDFC7du3V58+fZSTkxP1sTTpdgsEWm9sLNFlE7NiHlqFG8MyVqrsWGWs/6oAwDPURrvRqAMA4KAu2o8Aq5bRo0fr3nvvVVlZmZYsWaLOnTvryy+/jOrYVmvSqyqkHaulrUtq/llV0bLXOwFVVFXr2fe2q+fYd2IeWtUdA9OzWCcLwAmDAMtuNOoAADioi/YjwPrO4cOHdcopp6ikpCS4LSUlRS+//HJUx7d4k15VIb0/RZraU0o70xkZvWq2E2Q1WuBthjY+Xhh4q2HG8m2akV1AqAXAlwiw7EajDgCAg7poP7NlyxaNGjVKF1xwgdq1a6cuXbpo6NCheuutt6I6QUFBgW655Rade+65ateunX7wgx/ot7/9rcrKylr0xg8fPqzx48fruuuuU6dOnWSM0bx588LuW15erscff1zdu3fXaaedpiuuuEJZWVmufT7++GN16tTJte0Xv/iFHnvssajup0Wb9KoKacGo70Krju4AK/DnBaMJsZrIL+tl9X1qmaZl5avsWKU+KDygZZ/uYRF4AFYjwLIbjToAAA7qov3MO++8o+uuu04TJkzQCy+8oBkzZmjo0KEyxigzM7Peg3fu3KmzzjpLiYmJ+t3vfqfMzEzdfffdMsboxhtvbNEbLy4uljFGPXr00LBhw+oNsG699VbFx8crNTVVmZmZGjx4sOLj47VmzZrgPqtXr1ZiYqLruHHjxun++++P6n5atEl/f0qd0CrCeH+q99dug2oHWtf8/v2YB1d1R1KdRx8HpGdrZk4BQRYA6xBg2Y1GHQAAB3XRfmEfIayqqtIll1yiH/zgB/UePHny5LCN6Z133iljjA4ePBjx2IMHD2rRokURP3/llVf07bffRvy8vLxcX3zxhSRpw4YNEQOsdevWyRijjIyM4LajR4+qZ8+eGjx4cHCbtTOwqiq+e2yw7syruqNjzeOEzMLyVEVVtaZn5av3uHdjHlw1NEbMXK2V2/dqTUEps7MAWIEAy2406gAAOKiL9ou4BtbIkSN1zjnn1HvwE088IWOM9u/fH7L95JNPrjeAmjRpkuLi4vTGG2+EfDZ37lwZYzR79uyG7l9S/QHWmDFjFBcXp0OHDrm2P/300zLGaOfOnZKcNbB27doV3GfYsGGxXwNrx+roZl8Fxo7V3l4fkuxeL6u+0W/8Mt350lotzt1FoAWg1RFg2Y1GHQAAB3XRfsEA69tvv9X+/ftVWFioadOmKS4uTrfddlu9By9btiz4uGBubq527typ1157TWeeeaZ+/etf13tsZWWlbrzxRiUkJCgnJye4fdGiRYqLi9Ptt9+u48ePR/Ul6guwrrnmGvXt2zdke05OjowxrrW+Ro0apfvuu09HjhzR22+/bcdbCLcuaVyAtXWJt9eHS931spKfsn9mVu1xeXoWjxsCaDUEWHajUQcAwEFdtF8wwLr//vtljJExRieffLJGjRpV7yOAAenp6WrXrl3wWGOM/vu//zuqix89elQpKSnq0KGD1q5dq5ycHCUkJGjkyJGqrKyM+kvUF2AlJyfr6quvDtm+detWGWM0Z86c4LbS0lINHz5c7dq1U+/evZWdnR31PTADq22qqKrW6oJSPfzXjfqhj2Zn3fj8GpUdi/7/xgCgKQiw7EajDgCAg7pov2CAtW3bNmVnZ+vPf/6zrr/+ev3bv/2b9u7d2+AJ5s+fr+uuu04vvPCCFi1apHvvvVcnnXSSnnvuuahu4NChQ+rfv786d+6sDh066KqrrtKRI0ca9SXqC7CSkpI0fPjwkO1FRUUyxmj69OmNulZdaWlprvCONbDarsDsrKWbdyt14SZdnp4V86CqvnHBb5bqjrlrtWhjieauLtLi3F2au7pIb2/ezeOGADxBgGU3GnUAABzURftFXAPr2muv1cCBA+t9jO/VV19Vu3btVFJS4tp+9913q3379jpw4EBUN7FixYpgAPTxxx9HeesOr2ZgNQdvIURdgdlZI2etVuITS/V9C0Krxox+acv16Ou5Wrl9H4vCA2gSAiy70agDAOCgLtovYoCVmZkpY4y2b98e8eChQ4dqyJAhIdvfeOMNGWOiegSvqKhI3bt314UXXqjExERdcMEF2rNnT5S3X8OrNbCao0Wb9KoKacHoyDOv0s6s+ZzZV1aqqKrWrJwCDUjPjnko1dwxID2bNbQARI0Ay2406gAAOKiL9osYYM2YMUPGGK1bty7iwX369NGgQYNCtr/++usyxmjZsmX1XnzPnj1KSkpSjx49VFJSooKCAnXt2lX9+vWLevF0qf4AKzU1NexbCCdPnux6C2FztXiTXlVRM8Mqvas7wMroVbOd8Mp6gUcMl326R6sLSjU9O1+XT7T7McNIY/iMVcpcVcjjhgDqRYBlNxp1AAAc1EX7mX379oVsrKioUP/+/dWuXTsdPnxYklRWVqZt27Zp//79wf1GjhypU089Vfn5+a7jb7rpJp188snavXt3xAsfPHhQF110kbp27aqCgoLg9tzcXHXs2FFXXnmlvv3226i+RH0B1tq1a2WMUUZGRnBbeXm5evXqFTZ8a6pWa9IX3uWEV6syCK58ru5bDfv5aCH42uOitOWalpVPkAXAhQDLbjTqAAA4qIv2MzfddJOuvvpqTZgwQS+++KLS09N14YUXyhij3//+98EdV65cKWOM0tLSgttWrVqluLg4de3aVRMnTtTs2bM1fPhwGWP0H//xH/VeeNKkSTrrrLO0adOmkM/WrFmjdu3aafbs2fWe47nnnlN6eroefPBBGWN08803Kz09Xenp6fr666+D+40ePVrx8fEaM2aMMjMzNWTIEMXHx2vVqlVR/jU1rNWa9FdudQKsLW+07LW8UlVR83bErUtq/knoFlHtQOtfnl0Z82CqsePS376n1zf8g8XgAUgiwLIdjToAAA7qov3Mq6++qmuuuUbnnHOO4uPj1alTJ11zzTVasmSJa8dwAZYkrVu3TsOHD1e3bt10yimnqE+fPpo8ebIqKyvrvXBlZWW9De3mzZvrXUBekhITE11vAKw9iouLg/sdPXpUqamp6tatmxISEjRw4EAtX7683nM3Vqs16X++0Qmwcl9p2WtFEm0gVVVRswD91J5hHnucQpDVgMDaWX59zDAwkscv050vrdXi3F0EWkAbQ4BlNxp1AAAc1EX7RVwDC43TYJPu1Sykudc6QdCGl5p+w03RmECqqkJaMMq90DwLzzdJYFbW0s27NXd1kRbn7lLqwk267LfLYx5ONWX0ffJdPTD/I9bQAtoAAiy70agDAOCgLtqPAMsjEZt0r2ch/fFHzjk+/IN3X6AhjQ2k3p8S4a2Jdcb7U1vvO5xgKqqqtbqgVA//daN+6NO1s5ilBZzYCLDsRqMOAICDumg/AiyPhG3SW2IW0szLnHOs/n3D+3ulMYFUVcV3gV3d71x3dKwJ8piF1Wy133D4QeEBlR2r1OqCUo2YsSrm4VRTZ2k9tGCj1hSUEmYBPkaAZTcadQAAHNRF+xFgeSRsk94Ss5CevdA5bsVk779IOI0NpApXRPe9A2PH6tb5Hm1QRVW1pmfl68In3415KNXU0X/ie0pduInHDQEfIsCyG406AAAO6qL9CLA8EtKkt9QspN/1cI5dPq513u63Y3XjAqmVzzRu/61LGr4HNEtFVbVWbN+rn2V+6OswK/GJpboobbkefT1XK7fvC844qxtq1Z2RRugFxAYBlt1o1AEAcFAX7UeA5ZGQJr2lZiFN/CfnmPRzvFlXqyGfvtGyARYzsFpVuEXh564u0sINO3WZT9942O+7NbQWbSxR6sJNujzd/T0GpGdrWla+1hSUEmoBrYgAy2406gAAOKiL9iPA8oirSa+qkOYM9X4WUnVVw7O50s709u1+VRXSC1c37rsUrmANLJ+qqKrW9Ox8XTzhvZiHUq0VerFwPNByCLDsRqMOAICDumg/AiyPuJr0aNe+auwspPLD0Z/Pq7f7Neq71AqkbH0LYVVF6zx26XO1Z2mlLtyk/hNP/EDrorTl+sVfWTge8BIBlt1o1AEAcFAX7UeA5ZFgk74597vZR00IfRry9W7vz1mfqNfxChNIVVXUzASrPTOsJWeKRfNd3p8S+rNpqccuTzC1A63M9wt1//wNShob+9CppUYys7MATxBg2Y1GHQAAB3XRfgRYHgk26cv/3PjZV9HOQvpkofezuurT2MXbX/wXdxBUVVHz3aZ8P0xoNLV1w6sFo+wJ004QZccqlbpwk/qNXxbzwMnWQIvF5NHWEWDZjUYdAAAHddF+BFgeCTbpS55rXOgz56rog5MPZjfu3M19u9/WJY273qeLwp/nH2trfd+hrR8U2fo44wmi7qLwizaW6K6X1in5KX+/7bC+0ffJd/XA/I+UuapQb2/eHRJOVVRVa2ZOQdjF5GfmFBBkoc0gwLIbjToAAA7qov0IsDzS5BlYhSuiv8j6uXbPwIp0veI1zj4vXde8e2qsqB+DZEF5r1VUVWt1Qake/utG9T2Bw6zA6Je2XKkLN+nrI8d098vrlPjEUn2/3/+chgAAIABJREFUzj6BP98zbz0hFtoEAiy70agDAOCgLtqPAMsjoWtgRbFu1O/Oqwmwog1NilZGGSa19hpYDVyvINvZN3NYw9f0cpF1r0I4NEtbmqVVN7SKNMYs3ESIhRMeAZbdaNQBAHBQF+1HgOWRZr2FMNqFxAuyoj9na7+FsL7r5b3l7PeHIeH3aalF1hv7GGRzH7tEo7S1WVqRZm2VHauM9Y8CaBEEWHajUQcAwEFdtB8BlkdcTbrrDXxRzphKO7PhhcS3Lm76eZo6syma79LQfW+utfj8rMsjXKOFFllnBpZvBMKs62eujnmw1Nqj97h3NS0rXxVV1Sz8jhMKAZbdaNQBAHBQF+1HgOWRkCY98Aa+33ZuXIBS30ymTa+GD3cCY2rP0Lf7eTGzKfBdJp4der+Lf9HwOTbWWhdsWr/Qz6Od5bXid40P4VgDy3cqqqo1K6dAA9KzYx4stfa47Lfvqd/45a5tLPwOPyPAshuNOgAADuqi/QiwPBKxSZ/Sq3EzseqGKLVnTi37Tf3Hf1nsvrbXM5te+knNMRPOcs5TkN3wcWszawVnvUPvMdo1wybU2SfaEI63EPpS3ZlIXx85ptSFm3RR2vKYhEuxHtfPWq01BaUEWfAVAiy70agDAOCgLtqPAMsjwSZ9yXPO7KDjx91hT7SjcEXNWHiP9Lse0R+3d6v7prwObjKHfRcc9XGOjWbNqP+b4ez/ux7uzxr7iF9TQrh6H4Ns5iOKaHW1g63VBaVaU1CqJbm7dNdL69pEuPXDJ5fpoQUbXWEWjx3CVgRYdqNRBwDAQV20HwGWR4JN+oOnO7ODssY3LZiZfG7TjvvHh84NtcSjc88Pqjlm9mDn+I8XNPxY38pnnP0ndXN/1thF1psawgUfg+ziPi6jV+hjl/CtcOFW4M2Hb2/erQ8KD6jsWKVSF26KeRDlxUgev0wjZq5W/4lZru08dghbEGDZjUYdAAAHddF+BFgeCQmwonkkzuuR/55zQy2xePn0i2r2nXd95LAt3GN92WnO5xPOcp+zWTOwmhDC/XGoc9yKyQRXbVRFVbXumbdeiU8s1fctCKJaavzLsyu1OHdXMLhbXVCqGdn5mpFdwAwutAoCLLvRqAMA4KAu2o8AyyOhAVYMxuaFzg01dmZTNI8CTv1uPa/X76g/TEo70/1I3rtPuPepqnTO2Zg1sLwI4WZe6uyf+9fG/ZBxQom0WPzFae/pwfkbdMdLa5X81LsxD6FacvQcu1RXTVnBwvFoMQRYdqNRBwDAQV20HwGWR6wIsNa/6NxQY2c2Fa5o+EsGZlu98M/RnTPwWN9bv3JvP/at+7zRrtXlSQhX622Mtf++0GbVN/uooqpaqwtK9fBfN6rvCR5m1R6BWWn3zFtPiIVmIcCyG406AAAO6qL9CLA8YkWAtfpZ54YaO7NpwU/rf5zu+HFpQqeafSd1i+KctR7rW/Sf7s/KvnSfu95F1hsxopmBld7V2f/vs5r2w0abFAi6AmtqLdpYojvmrlXPse/EPHBqyXHLnA+UuaowuIZYfYEWjyKiLgIsu9GoAwDgoC7ajwDLI1YEWFnj3TfV2JlN9S2EXnms6aHSa7e7tx3aE3r+wCLrzyS6950QTQAX5RpYdb/D+1Ma/XMG6gosCt9v/LKYh02tMfqlLVfqwk36+sgx14L507LydXm6ezH5i77bt+xYZcN/kTghEWDZjUYdAAAHddF+BFgesSLAevvX7puqqpDm/zTK4xsIgY581bR72rpEWjDKve1gceh9Bt5kuOpZZ78/DJFWPN388C2g7Ev3MdlpTfhJA+HVnqGV+X6hpi7fpmEZK12P5LXV0XPsO3r09VyCrDaIAMtuNOoAADioi/YjwPJIdAFWC7+Z8G/3hN5Y4YrGnSPSY3jffNG0e9qx2v3WwrQzpdL8mnNWVdTMgqq9LlXt8cf/r87jhXX//sIsGF+fL3e4j3/38ab/wIEoRFoovq2OnmPf0UMLNrregIgTGwGW3WjUAQBwUBftR4DlEStmYM3/aeiNNfZthJ8uCv8Fvyxy9nn6vCjOVWtG14v/4v5sz+bvgqlRzr7hzjGpW81+gccLM3q5P5/aU3rzIenTN2qCsoZCrD2b3ccv+UXzf/BAFGqvDbW6oFTTs/N1+cSsmAdKsRz9J76n1IWbolpbC/5FgGU3GnUAABzURfsRYHmkVQOs3/UIv33utaE31ti3ET6TWDMrqm4YtHeLs8/Cu6M7V+Cxvj/8yL29ZEP063PVfjSw7KCz/bedQ2duZfQKf+8Bxf/n3v9/7qv/h1r70cZoAjKgEeouCr84d5cy3y/UiJmrYx4uxWL0G79Mt8/9UBnLt+n37+Urc1WhFufu0tzVRcGQq+xYJYvE+wwBlt1o1AEAcFAXo1RVJb36qvT//p90003SJ5/UbP/6a2nRImnv3ha7NAGWR6IOsH7XI/KMo2jHC/8cfvvzV4TeWPBthNGeP8JjeSUbnH22vys98/3oj5/V371P0fvRvyGx9rpc3+4Pf62G7j1g+zL3/q/eFv6HGenRxoYCMsADPHYYeXz/N+4/933yXd2a+aFWbt9HmGUpAiy70agDAOCgLkbhq6+kQYOkk06SzjhDOvlk6X//t+azqirp3HOlsWNb7PIEWB6JKsCa3F363/TmhVdpZ0ZemP3ZC8PfXGPfRhhu9tOOVc724jWhC7MHxpSkmuNqhzy//6F7n/+b2bj7CKzL9dXOpt17wOaF7n3+clPoPvU+2tjINbeAZqj72OGaglItyd2lO+auVc+x78Q8TLJt9H1qmaZl5RNkWYYAy2406gAAOKiLUbj/fqlDBykrS9q/vybICgRYkvTII9Ill7TY5QmwPBL1DKz5P5UWRPtmwAhj0X+G3z6pe/ibq6qQMno38jp13kqYv9z5bNdH0sK7wh/3+Qeh159ygXuf7AmNu5etS2rO88XWpt17wPoX3fu9dF3ovTbl0UaglZUdq1Tqwk3qN35ZzIMj28ZPpr8f9vFDgq3YIMCyG406AAAO6mIUzjnHmWF14EBogDV7ttSxY4tdngDLI41aAytnUk3Y1NQA67XbI39WFeE19S//pGnXCsx+2vKGs21fXs3i6eH23/Jm6LXrftcVTzftHj6a17TjAtZMc38+Z6j78+Djlg092hghIANaWUVVtVYXlOqXr2zUxRPecwU5yU+9q5SpK9Qvbblre6+x76jn2NgHTa09+j75rh6Y/xHhVisjwLIbjToAAA7qYhROO0164YWafw8XYM2YIZ1+eotdngDLI9EHWB0jL8Le5FErcCn7MvwNzri4aecOzH7K/auz7WCxtPSx8Pt/8Lz7usePSxPOcu+T+9fo18CacoETFK3KaNq9B+T81v35cwPcnzd2wfu6ARkQQ7UfOawdyoTbXnsB+ba8cHww7Bu/THe+tFaLc3cRaHmMAMtuNOoAADioi1FITpYeeKDm38MFWCNGSAMHttjlCbA80qpvIaw7pvZy/v3LHeFvsKmhWSCkqf343eF9UtZT4fdfVmfBtspjofts/Ev0j+otfdQ5V1PXzgp4J9X9+bRk9+dblzQvIAN8KrBw/OUTs2IeJtkwLkpbrozl27WmoLTeNx5GCg3hIMCyG406AAAO6mIUpk+XTj1Veu01Zw2sFSuk8nJp3LiaRd3nzm2xyxNgeSSmAVZGH+ffP5oX+mjb8ePShE5NOG+tx+T+PsvZXv6NtPJ34Y958V9qgqPAcUe/Dt1n3QvfLZY+uuF7KF7jfI+8t6K89wiP+L1xv3u/KRe4P2cGFtq4ujOzfp+1XVOXbdfP537Y5heO7zd+mW6f+6Eylm/T1GXbdcfctSGPZ170/7N35+FNVYn7wC+0DrJYKDuOgEBBFJcRRQQH4YsIw6LjQhWVccFxBJefMyPg6Iy20JZCK1sBpeyrCggMq0hLgTI6IILsRSwygqIUBBEKbWl5f3/cpic3yU3uTU6SE/p+nuc8JDd3y03qOXk959yEdRi6eBcKi02GcldCDLDUxoY6ERGRwHrRgsuXgT//WQ+uYmP1fxs3Bq66Sn/s6J0VJAywJLEdYKU2g6UhdH4FWnF6D6eKEOmsf/txnqjcucdU6SXgPxOsncOZY+6vOYYZlpbox/C2n0NZ4hz2fuzfuTt88IRxneTGxtc5BxaRKcfE8be4hDaeyu8SP0HLShx4tX5rLe+IWI4BltrYUCciIhJYL9qwZYt+x8E+fYA//AF4+WVg8+agH5YBliQiwKplLfywO5G5P2X+o3rI8vO39rddEG8MaLIS9OUj6unPt03z/T4TYoDZfd1fyx0r9nupyPjapLuMz50nhd+5wNoxXc/dwdO5lDn9wCwtAeb08z8gI6oEnIfN5R4qwJZDBVi9+we3SdEnZh8Ke5AU7vLg5C2VfsJ4BlhqY0OdiIhIYL2oPgZYktjqgbUpzWUIXZB6YiXEAHMeAL7bKp5ndvO+/sj6+vBA1wBo7XD99VFN9ec+wyQvZWOq2O/5U8bXMtobn+9cINZ1nocrIQZIamB8nh4nrq0nU+91P5fiQv210hJgQX//wj0iclNSWobnZn8R9hBJteKYMH7pjmMVwZYjCPRnLi3V5+FigKU2NtSJiIgE1osWVK0KLFxo/vpHH+nrBAkDLEkqGumje5qEUh56BzmG0KXHWQtO/C3Owc1/p+oBkqdjpjYXgY7j/L7N1Scrd4Q76W3013Yv8v98shLEMU4fcTkHl8nmt04V6zrPw+UI5xyPHb3NvJl4u/u5nD+lv2Z1Uvk5DzC8IrKIk8P7V+4YuR5DF+/y2nvL0cvtjiTjtb0zKQsTsw8pE2QxwFIbG+pEREQC60ULqlTxHmAtXAhERQXt8AywJKlopO/+ynMo5a13UHEhMO/h4IZYrueSMwrIz9HDqfmP6svT4vTzKS3RA520Vh5Crmb667lj/T++850Kf9zjfd3cd8W6rvNlvf978XjJc54/GOcQzhGOjagrtjtz1MbcVzGc+4rIDyWlZcg9VIBXP9iBWxM/dQtrhpWHNY6J48d++jXe2/gNek/MDXuYpFJp+6+1eGzq55i04RB6T/B8ba4v//e52V8oEWIxwFIbG+pEREQC60ULqlQBPvjA82tnzwJPPw00ahS0wzPAksStke4cnDjflc+VnaFr0opLb7CcFLG8uNDpfEwCnQXxQE6y/8df/Xfx/v/3ufd1s0eIdbMSja+NaycefzDA/bqahXBJjcTjgq9590GiELIz5M3Rg+vOpCxDSNN+xKfomJIV1LDoSigvL/jSaw+uUAw9ZIClNjbUiYiIBNaLJhIT9WGBVkqVKvrk7kHCAEsSvxvpVoeuBatsSgO2zxLP171lbbuFj/l/zH+/JN7/1596X3ftcLHuJ/8wvpbcRDye84BYz04oeGy7HjLaOf/9KwL7shCRLZ7CFg5PtF/avfMJBs74L16c9yVuevsTw2s3l8/N9e+vvpcaaDHAUhsb6kRERALrRRNr1wKvvKLfabBKFaBnT/25c3n1VeAf/wCWLDHeKE0yBliS+NVItzN0LSil/I6IeavFstHNLZxPbWD09f4f9+M/i2uw92Pv6y53CrtWvma+3vT7xHp2QsHpPfShlHbOnz2wiJThCLccd0J0DEUcsuBL3Pj22rCHRpFa7khaL2UuLQZYamNDnYiISGC9aMGzzwJbt4bt8AywJPGrkW536FqwypdzQnOcpIb6v4v+JK7Bl7O9b7PoabHu0r+Yrzelk76OP6FgTqrFbWpzDiyiCOIp3JqRexhLdxzDMzO3oR0DLp+lz8RcbDlUUNHrzfl6ehqa6IoBltrYUCciIhJYL6qPAZYkfjXS7Q5dC1b58EkJ+zG56+LkjmJZehv934WPi2vw2STv+53/qFh30Z/M15twm76OP6GgY1J7K+tuSpPzhTFjde40IjP8DlnmmFx+yIIv0fLN8IdFKpc2/1yLtv/yHPh5663FAEttbKgTEREJrBdtOHYMWLkSmD8fmDvXvQQJAyxJIroHloySWMc9FNqUBmwZL5ZN6qD/O/eP4hr4Co5m9hLrepvXKr21vo6/oWB+jj45vbd1HJPeB4PZpPPpcfpyhhDkC79DASksvoShi3fhloR1YQ+LIrV0TctB+ro8ZG7Or+jtNnlpDgMshbGhTkREJLBetODiReCxx4CoKH0+LMfE7Y7HjhIkDLAkCf4cWOGaJ8uPktxY/FjelCaWT++h/zurt7gGviaNf/8ese7svubrpfxWX8ffUHD/ivIAIE0MdXQuU+4ObnhleudHlztGEnnC75A0rhPGFxZfqhg2l7kpH2PXH8TYT79G5uZ8rNr9A3IPFeDpmdvCHh6pWpoMmiIlwJo4Efj6a0kfMlVgQ52IiEhgvWjB3/4GREcDo0cDmzfrwdW8eUBWFtC3L3D77cDevUE7PAMsSYJ+F8Ls5DBP+G6zlFzQ31/2CP15Yh2951VCDJDZTQxx8nW3wIm/E9dq+n3m6yXWAS4Vl/fo8uMaOU/M7hhSOfZGYMLvxI//YLH6HQj28EWKXPwOhVVJaRnGr/8ard/inFrBCrCqVgUWLjR/Tv5hQ52IiEhgvWhB06bACy/oj0+d0gOsDRvE6//3f8DgwUE7PAMsSfwOsEpLnIau+eg5YefueuEuBeX/q/yTN/XnyU3E+xxR18I+yt97Wpy4Vu919r7NvEf8O1fXidnnPaQvn9Zd7y2WEGPsNSaT5V54nEBeGarNMcXvkDLMhiHGvbkGrd9aE/YwKZIDrHr1gHHjxPMqVRhgycCGOhERkcB60YJq1YDp0/XHhYV6o2zlSvH65MlAw4ZBOzwDLEkCmqjWMXQtPc49WNmUJn5wWgm7VClbp+rnu/Bx/XnKb/Uwyur2o68XwZfDxNuDc65LBhmDCMdQx7kPius9tUvgXxJP7A55dO4pRqGl6hxT/A4px3UYousd/DI35WPIgi9x0zufhD1gipQA69FHgZgY4OmngVdf1dtKvXrpj83K//t/kj5QC4qKijB8+HA0adIEV199Ne666y6sX7/e0rbff/894uPjUbt2bVxzzTV48MEHcfjwYY/rzpgxA23btkW1atUQFxeHjIyMgM6bDXUiIiIhkHoxUtsCtjVrpg8fdKhbF0hPF89HjdIbbUHCAEsSKXdastKzw1vYtWxw+IMrR5lxv/sPfTsl4w7x+PBm/X2PvdHHdgGGeI4gYtJd+vMPnwQWP6s/nni7/5+rN3Ynnd+/IjjnQd6pPMcUv0MRyznUGrp4F+5IWm8If9q9vRb3jtmA1v+M3KGJsgKsEyeAJ54AGjcWc4M65gs1K0GcP9TNgAEDEB0djaFDhyIzMxOdOnVCdHQ0tmzZ4nW7c+fOoXXr1mjYsCHGjBmDcePGoWnTprjuuutw6tQpw7pTp06Fpml49NFHMW3aNPzpT3+CpmkY7dyItIkBFhERkRBIvRipbQHb4uOBfv3E82ee0XtcLVigz4XVoAHQs2fQDs8AS5KQ3yrcNewqLgTmWx1CV1sPlwIJmKwex99tR9RzD5c8Ta4ejPN1HGfZYGDFK+XHbx2cz5G9ZyKDynNM8Tt0xfDUc8uxPPdQASZkfV0xgbzjLn9LdxzD3aOywx5UBTvAcqXSEMJt27ZB0zSkO/3fx4sXL6JVq1bo1KmT123HjBkDTdPwxRdfVCzLy8tDVFQU3nzzzYplFy5cQL169dC3b1/D9k899RRq1qyJ06dP+3XuDLCIiIgEf+vFSG4L2LZli97NvahIf370KNCmjfg/iHFxwMGDQTs8AyxJQh5gubI7P9amtPIJz4MZCAUhXAplWTNUzOGV1Dg48x5x/iL1qf4ZqX5+FHQlpWUYn/U1bk381K0HV9e0HLQL41BFWQHW3/4G7Nwpns+ZAxw4EOCFk2TYsGGIiorC2bNnDctHjRoFTdNw9OhR0207dOiADh06uC3v2bMnWrVqVfF8zZo10DQNa9asMaz3+eefQ9M0zJ8/369zZ4BFREQk+FsvRnJbQIqyMmDXLv3ug5cuBfVQDLAkCWuAZfkHbHlZ8Ki+TX6OAsGUwuXTt4HskZ5fkznvkcq9eygyejjxO0Tw3oPLMVRxRu7hit5bq3b/gNxDBdh48Cf0nZirdIDl2uNKpbsQ9ujRAzfeeKPb8uzsbGiahpXOE5s6KSsrQ7Vq1TBkyBC31/71r39B0zT8+uuvAIDk5GRomoYTJ04Y1isuLkbVqlXx97//3a9zZ4BFREQk+FsvRnJbwJbCQuDhh/XhgmHCAEuSsAZYdn9g5+fo29mdO6eylX+/DEy6w+R1ifMeGSbnD+JxyD+RMMeUnbuZEnlQUlqGjOxDaD/iUyUDrMaNgaQk8VylIYTt2rVD9+7d3Zbv378fmqZh6tSpHrc7efIkNE3DyJEj3V6bMkW/bgfLu+C//PLLiIqK8rifBg0aYMCAAT7P88SJE9i3b5+hZGRkMMAiIiIq5wiwMjIy3OpM1+DIWaS0BaS45hpg2rTQHMsDBliShDXA8vcHtt3gq7KVqfdaW09GrxbH5PyJscZ9u96JkkIvEnpgAeI7NKYFv0PkN8d8W0MWfImWb6oTYD3/PHDVVUCXLsADD+gBVvv2+mOz8uCDki6KDy1btkTv3r3dlh8+fBiapmH8+PEetzt69Cg0TcOYMWPcXps5cyY0TcNXX30FABg0aBCqV6/ucT9NmzbFH//4R5/nmZCQAE3TPBYGWERERCLA8lQSEhJMt4uUtoAUvXsDzz0XmmN5wABLkojqgeX4gV0x9DDAoCflWoRljirX8t493l9/t629/SU3trCe5HmFxjh9Hiv/ytBBBZE2x9SxL8Q5jW0b/vOhiFVYfAlDF+/CLQnrDKHUHSPX48lp/0X7kb57a8kKsM6fB958E7j7bqBlS30IYYMGwPXXey+hECn/15U9sIiIiLxjDywLDh/WJ2r/5z+BY8dCc0wnDLAkiYw5sDz8wLY7+bvKZetU4NN/en5tUgdgTMvgHVtGr5vLl4GR9cU+NyT53oZCI5LmmDq6TZxPsO6eSZWKlbm1MjflY+z6g253SZy8NOeKvwthJM97wTmwiIiIBM6BZUGtWsDVV+v/N7FqVeA3v9GHFTqXmJigHZ4BliQRcxdC1x/YpSXAtPvCHz69e2Pg+/gsAzi+y/Nr8x8N7vnLmPeouNC4z7XDA98nyRFJc0w598hMahTus6FKTmbduG0b8PPP+uNNm4CCAvN1jxwB5s4N+JCWDB061OOdh1JSUnzeeejOO+/0eOeh+++/Hy1btqx4vnr1ao93Hvrss8+gaRrmzZvn17kzwCIiIhL8rRcjuS1g2zPPAM8+67sECQMsScIeYAXyA7u4EEhu4kdwUxtIbSYnAJrVO/B9bBwNfJPt+bWFjwc3wJLRA+vsD8Z9Lhsc+D5JHsccU6OvN35OY1oEZ46p0hL9e7V/hf6v1f1/k2U8PxVCNaq0ZNaNrnce/PlnoHp1PcxytWCBvn4obN26FZqmIT09vWJZUVER4uLi0LFjx4pl3333HfLy8gzbjh49GpqmYfv27RXLDh48iKioKLzxxhsVyy5cuIC6deuiX79+hu0HDhyIGjVq4GdHsmcTAywiIiLB33oxktsCkYYBliRhD7AA8QM7Pc74A9bKJM7+DiXMSbU4fDEEZf3bwO7Fnl9b/pL9/Y2+3sL7kjjv0U/7jPv+8MnA90nyfbvZ+Dl9vU7u/ktL9L9H1/np0uP05b6+a3lrjNsVVo7KjNQks250HTZ46pS+bMMG93VDGWABQHx8PKKjozFs2DBkZmaic+fOiI6OxubNmyvW6dq1KzTN2Oz69ddf0apVKzRs2BBpaWkYP348mjZtimuvvRYFLl3MHHNh9O/fH9OnT8fTTz8NTdOQkpLi93kzwCIiIhICqRcjtS0QaRhgSaJEgOXgT88Nrz24PIQ2CTGiR5cq82itfh347/ueX/t8iv2gzWw+Ldcia96jI/8x7ndOP9/bkBx2/mZce/ltnyX3PBb0N/k7tDhUcd8y43anj8g7PyKbKkuAdfHiRQwdOhSNGzdGtWrV0KFDB6xbZwy3PTVaAeDYsWPo378/YmJiUKtWLfTr1w/ffPONx+NMmzYNN9xwA37zm9+gVatWGD9+PC5fvuz3eTPAIiIiEgKpFyO1LRBpGGBJolSA5S+zHlyJdTz0BHHq0VVaEvw5prwVx/DH5S/pE597WmfXh/aDtvOngHkPm7wehHmP8lYbjzH1Xjn7JXP+9HY6sMq4bvaIwM/BEZ4tHxJ4aLp7kXHd47sDOz+iAFSWACtSMcAiIiISWC+qjwGWJFdEgOXg2huluNB375T8nPAFWONv0f9d/Ayw6q+e1zm41lovs4m3i8dlZUDJRc/rpTaTP+/RzgUu5/I7efuuLOz0pPK3t9OeJcZ1Z/ayN0eV8/E9hWc+i49hqzvmGdc/ssXeeRFJxABLbWyoExERCawX1ccAy0VBQQH69OmDGjVqoE2bNsjOzra03RUVYPlj/4ogBVQ+hvwlxgJTu4iw4aOBntf732f6eZr1MkuIARY+BqwZrj9ObuJ9eGQgPa/MQpbPJxuPkdZKzmdTGfjTk8rfO3dun+15PatzVDnO1zQ8s1jMbhzwxXT38PZK4e/E9hQ2sgOslBRgxw695OToy6ZOFcscJSmJAZYVbKgTEREJrBfVxwDLRXx8PAYNGoTCwkKsWLECdevWtTSjf6UPsL7NlR9eLXnOd++UlN8CM/+gP57dF5jVx/N6P7l8Lo4fwnuXinU2jgb+/XJ5eNTaKWAwKa4hlq8f18WF+hCxUdd5Dj6yEo3LRzbwfK35I97In55UpSUW50Rz6e1UWgJMvst8Xavhpox54/av8Lzvz6cY19v1kZzrHE6BTmxPYSM7wKpa1Vg8LXNeTt6xoU5ERCSwXlQfAywn586dw1VXXYVjx45VLOvatStmzfI9SXOlD7AsBwI2yrIXvcxB5RTDQVW9AAAgAElEQVTyzHtIf5zZDZjc0fN6vxwzP/eU3+rrrB2uD0NMiCm/A6GFc3QMI/T247q4EMgZBYys7z34GNfO/bVLRcZrzB/x7vzpSWU3cHX0dvK315YzWX8rZj2wtow3rrdtmrxrHQ4yJransJFZN86ZY7+Qd2yoExERCawXvcjMBNq2BapVA669FvjrX4GiIt/bSabt27cP/fv3R4sWLVC9enXUq1cPXbp0wcqVKy3vZMeOHXjggQcQGxuL6tWro127dpg4cWIQT1sPm9555x306tULsbGx0DQNs2fPNl2/qKgIw4cPR5MmTXD11Vfjrrvuwvr16w3r7Ny5E7GxsYZlr7zyCl5//XWf51PpAywgfHcjnNyh/N+O5j22in41P+/xN+vrfPxnMRn9iLrWAoYxLYH5j3j/cT2mpf/v7fxJ/Rz5I94zf3tS2R3yun+F07F8re9jjqqAeyv62L/r32Huu8G59qEiIzSksGHdqDY21ImIiATWiyaWL9e7t9eqBXToADRurHd1f/bZkJ+KtmbNGvTq1QuJiYmYNm0aJkyYgC5dukDTNGRmZvrcwaefforf/OY36NixI8aNG4dp06bhjTfewLBhw4J64keOHIGmaWjWrBm6devmM8AaMGAAoqOjMXToUGRmZqJTp06Ijo7Gli1iguPc3Fw0b97csN1bb72FF1980ef5sJEOa5OkB6MkNdT/HXezPidWQgyQ3sb4g/9Ssfl5T71XX2/+I8CMnqE7byvlVL5+jir/iA/nkEZ/e1L5s52/x3IlY744b59z9kjjuuvfkX/dQ8XfgJKUwbpRbWyoExERCawXTXTpAsTFAT/9pD+/dAkYMAC46irg7NmQnorHIYSlpaW47bbbcMMNN3jd+OzZs2jUqBEefvhhlJWV2Trw6dOnsXTpUtPXP/jgA5w/f9709aKiIvz4448AgO3bt3sNsLZt2wZN05Cenl6x7OLFi2jVqhU6depUsYw9sCTwNkl60IvTj9wRdY2veRtm5zwE8b3OYThvL+WHr9T9Ea/CkEZ/elI5zt3uNfX3WK787oFlsafdp/80brfqb/Kve6jICg0pbFg3qo0NdSIiIoH1oomGDQGnLAUAsHu33itr69aQnorpHFj9+vVDo0aNvG78/vvvQ9M0HDhwAABw/vx5y0FWcnIyoqKisGzZMrfXZsyYAU3TMGXKFEv78hVgDRs2DFFRUTjrkg6OGjUKmqbh6NGjAMQcWN9//33FOt26deMcWP4oLQHyc9wnLA9b8fLjf8kg/bXxt+iTt4f7XB1zciXEAN9uVvNHvCpDGgO5NnZ7tcn6HPydAys9Tsy55s3a4cbtPn5ezrUOB1mhIYUN60a1saFOREQksF40UaUKsHChcdmpU/rynJyQnkpFgHX+/HmcPHkS+fn5GDduHKKiovDkk0963fjRRx9FTEwMsrKy0KZNG2iahpo1a2Lw4MG4ePGi120vXbqEBx98ENWqVUN2dnbF8qVLlyIqKgoDBw7E5cuXLb0JXwFWjx49cOONN7otz87OhqZphvm++vfvj+effx4XLlzAqlWreBfCQIVrXiwrgYTDqr+bBDFhKmNvFI/zVqv5I16VIY2B9E7zOuTVQwgnaw4sO9fPUXYv0vdnZbjmyteM2y58TO41DyUVw1uyhXWj2thQJyIiElgvmqhSBfjgA+OycAdYL774IjRNg6ZpqFq1Kvr374/Tp0973fjWW29FjRo1UKNGDbz66qtYunQpXn31VWiahgEDBvg8+MWLF9G1a1fUqlULW7duRXZ2NqpVq4Z+/frh0qVLlt+ErwCrXbt26N69u9vy/fv3Q9M0TJ06tWJZQUEBevfujerVq6N169bIysqydA5spJsI17xYVsOF0hJg4u0KnJdJ2TFfvR/xqg1pDCRMcwx5dZ1of3Rzz72dZAV3hr8LD9ctIQZIbSqW/bDb+nDN5UOM68z8Q8CXOGxU+66Rbawb1caGOhERkcB60USVKkD79sADD4jyhz/oyzt1Mi5/4AHgwQeDdioVAVZeXh6ysrIwd+5c9O3bFw8//DB+ckzSZaJly5bQNA2DBw82LHeEYYcOHfJ5AmfPnkX79u1Rt25d1KpVC/feey8uXLhg6034CrBatmyJ3r17uy0/fPgwNE3D+PHjbR3PWUJCQkXwx0a6CbN5sRLDGGg5Qh4Ve4g5l8l3ARd+AZKbWFg/RD/iVQzUfIVBvoYz/nTAuN3OBebHMu2FZXPopOPvYkSsh1AqzTgf24z7jcfwdkzHkFhHea+z/WuqElV6+5FfGGCpjQ11IiIigfWiiebNgeuvt15atAjaqZjOgXX//fejQ4cOXofxtWvXDpqmYfPmzYblmzdvhqZpmDt3rqWTyMnJqQiAdu7cafHUBZk9sPzFRroFrsOfckaFLxjavwIoLrQYDIW5TGxvfd1Q/IhXcUijIwwaWd9zGOQrUDq+2/p1nN1HX2dEPf+O5aysDBjZ0GkfbcT2k+60d50d5/zRU8bl42+2fj6hZPXulTICSgob1o1qY0OdiIhIYL2oPtMAKzMzE5qm4eDBg6Yb33///R7XycvLg6ZpmDBhgs8TOHz4MJo0aYK2bduiefPmaNGiBY4fP27jLcidA8tfbKT7wcocRPMfBRY/Kz8Uys8BpnUPfzgls4TqR7xqPbCcTe8hjrshxfr1+G6r8ZxXvOL7GLP7irtdLnnO/rUvLQH2LTced4zT/60Yf4uN6+zU+27hY8bXUpvZO69g8+fulY6AMqmhh21shoYUUqwb1caGOhERkcB6UX2mAdaECROgaRq2bdtmuvE//vEPaJqGDRs2GJZv2LABmqZhoetM9S6OHz+Oli1bolmzZjh27BgOHTqEhg0b4uabb7Y0cbqDrwBr6NChHu9CmJKSYrgLYSDYSPeT2fBC5x+mdgMTKz/0w9n7KxglpYneoyxUn1kw5iWy2iPHm/fvEcffMc/6doc3Gs/9vc7m5+A4xsLHgFHl81StHW79WGYBTkIMkFgHuFSsr5fexv734NtcYO4fXZbX0e9mqULIE+jdKz8aKNb/7/tqvCfyinWj2thQJyIiElgvmnjzTWD37nCfBQBAO3HihNvCkpIStG/fHtWrV8e5c+cAAIWFhcjLy8PJkycr1tu5cyc0TXO7W+ETTzyB6Oho/PDDD6YHPn36NG655RY0bNjQMFfWV199hdq1a+Puu+/G+fPnLb0JXwHW1q1boWka0tPTK5YVFRUhLi4OHTt2tHQMX9hID5C38MJyYGKx5KRavJucSSgT7rDKW3gRqs9F5rxE/vTIMTPxd2L7rTaGBh9Y5fn8PZ1Dxh36a4ufAdJb649XvGrtOF4DnPIy/xF9vdRm9r8Dn/4LmNLJ+nuRERraEej35oMBYp1vsj2vQ0ph3ag2NtSJiIgE1osmqlQBnDsnnToFVK0KuHRkCgXtoYceQvfu3ZGYmIjp06cjKSkJbdu2haZpGDt2bMWKGzduhKZpSEhIMOxg0KBB0DQNjz32GKZMmYL4+HhomoY333zT64GTk5NRp04d7Nq1y+21LVu2oHr16pgyZYrXfUyaNAlJSUkYMmQINE3DI488gqSkJCQlJeGXX34xrBsfH4/o6GgMGzYMmZmZ6Ny5M6Kjo93m7/IXG+lBJmuy9QXx+vBBu9ultQI2prr3FFOpyJxryleoVFwoZ16iQHvkuHLutZT7rvX3+v7vrb+Xce30ZcsGi2F+S1+wdiw7AU5yY8nfEaf3UlwoLzS0SkbPvXkPi/XyVss/R5KOdaPa2FAnIiISWC+a8BRgVakSngDrww8/RI8ePdCoUSNER0cjNjYWPXr0wIoVxh/DZgFWSUkJEhMT0bx5c1x11VWIi4uzdFe/S5cueW3Q7t692+sE8gDQvHlzwx0AncuRI0cM6168eBFDhw5F48aNUa1aNXTo0AHr1q3zeZ5WsZEeZF7ny7ISQDkNSbQ7CbkjUHCcx5dzwxdSeSuyemBZDZWKC/XrkuIyEb6deYlk32Eu5bdim+yR1raxew5jWurPV/1Vv0tkQow+tM0XuwFOMHv7VdwYQEJoaJWMudNm9xWv71ki9/woKFg3qo0NdSIiIoH1ogmVAqyQH/EKxUZ6CJjNl2X2Qz+1GbBkkN7jyvnHuN0f0tPvM25f9Gvwwyi7xc5cU77YDXRW/tW4vPiC9c9T5lxaly8b9/XJP2ycg6/363QOKdeW7/9NYOq95YFPf9/HkjqXWwiK7Dtayrh75Yz7xes758s9PwoK1o1qY0OdiIhIYL1oggHWlYeN9BBynbenuFD/d+9S4PPJwN5l3ufzsTOnluvk6I6hdarNhSUrbPAnVFr0J+Nr5wqsHUv23QxLLhjX93YnwUDOITFWf5w9ApjZS388u6/vY/nT889RHPNuhazYnIDfChmftyMwTIgBtk2Td24UNKwb1caGOhERkcB60USVKkBKCrBjh15ycvRlU6eKZa4lSBhgScJGeoTxZ+iaYWidQmXK3fKCBn9Chpl/MC47kWftWDJ65Dg7f9K4/pJB8s9h7zLjd2Pug/rj6ffJv7bOJXukfrzUpqH9bsm8MYCMHndT7hbrfZYh79yCKdQT5SuGdaPa2FAnIiISWC+aqFJFn7TduXha5rw8SBhgScJGeoTxOqeWyTxAsiaSl132LZd3XfwJlTLaG5cd+Y+1Y8nugXX6f8b1Fz4u/xwOrjMGKAsf1x+/f4/vY9np+eeYZ8tRPv2Xvo9dH4b2uyXzxgBA4HOeOX/XZA9xlE3m3TUjGOtGtbGhTkREJLBeNDFnjv0SJAywJGEjPQKZzanlaRJyO+FDqMuXEv8D4U+oNMqlV5DV0EP2HFg/7TduN6efjXPw9V7Lz+GX78WybdOAxc/ojzPusPaerQY4n/zD+HzNMH37nfND+92S2QPLcb0DuXvluJvF+lmJcs9NJtl314xgrBvVxoY6ERGRwHpRfQywJGEjPYJZGeKj8gTcSwbJG5pkN1QqOuf+2vZZ1o8n8y6ER78wbjOtu/xzOH1EPN85H1g2WH88rp21YxUXuvdYcy0T2wPH9xiXOebz2jbNcxgivQRhDiwHR3A86rfGY1q5e2V6a7G+lUn6w0X23TUjGOtGtbGhTkREJLBeVB8DLEnYSL/CBTIBt+wyop4+abhreOE8NCmQeXfs/Pj+5Zj78s3p1o8VaI8cZ4c3Gref3NH6Obzb1to5nMgTr+39GFhVfgfGMS0tvlcLc6itHgr8sNO4bOkL+j7+MzGwUCohRg/IVAhXnN9LalNrn3FqM7HNyteCe37+kt2zMMKxblQbG+pEREQC60X1McCShI30K5yMHlgj6lpbL7kxkNzEfXlSA2DpX4B5D/sOKAKZd8dOqPT9Dvd11r1l79o6euQ4hxOOUMhXjxxneauN24+/2fo5fDRQ38Zxh0HDdXM6B+dgKW8N8Mmb+uOUa30fw2owOPVe4LutxmUfDdT3sXG0cXlmN+vfP8d7KS6UFxoGYnO6OG5iHaCs1Pc2zn8Xy14M7vn5S/bcbhGOdaPa2FAnIiISWC+qjwGWJGykX+ECmQMrsQ6wMRXIGWVtfUdgkp+jBxYbR+uPHZNC+xWg2QwmHKFSciPzQKe0BMgd534sf4OF7bON+zn2hb3tdy92CcBaWN924WP6Nu/dA7zXufxxZ/dr9b/Pxf7zNwDZI0Tw5Y2d78/IBsA32cZlC+L1/WQlGJdvn61/Hp72O+dBYEQD/fGip93ndNuU5juwC6YNycZj//qT722cQ+BFTwf/HP0h++6aEY51o9rYUCciIhJYL6qPAZYkbKRXAv6GRzmp+vb+3PnQmayJ5JcN1gMx1+GFnoYdLvqTcdviC+Z3V3Oc1/xH/Lu+W1zCsG+y7G2/fZZx+6RG1red84C+zYz7vd9ZMH+D2P//Pi8Pj8qfewt97PbKcQ0GHRPSrx3ust67+vKkRu77+O974m6Gq/7mfk6XLxu3m9krtMPZPv2n8XyP7/a+flmZcf2Fj1k/ViBDau1iDywD1o1qY0OdiIhIYL2oPgZYkrCRXgl4DaBci0kgZefOh66CNZF8Wis9IPE07ND5rm8JMcCZo17urlZeRlmcz8jVureM+9m9yN72n01yPxcrw9IAYHoPff25DwIf/1l/POFW9/Xy1oh9/7DTOI/TxbPm+7fbK2f928bnM+7X97PiVePytW+4BzuO8sUM8fktG+x+TudOGNef97C1ayXLmqHG4/sKLEsuuIR6D/g+hlnYamdIrV2cA8uAdaPa2FAnIiISWC+qjwGWJGykVxJmAVRiHXuBlD89QkI+kbyHH+Cr/mZt2+Uv2f9hvvQF4z7++573z8H1+nnqIVf0q7Vjv3+Pvv7Cx8V79DQEce/HYt8n8ox3BTxXYL5/u+HjhiTj8/d/7/kaLRkEFJ/3vI+d84FJHfTHrsPtSkvc72g4o6e1ayXLv182Hv+rhd7Xv/iLcf3pPbyvb5g0348ej/5wfC8XP2ftc+ZdCCnM2FAnIiISWC+qjwGWJGykVzKuAUpxYfCHKAWrB5adktrUc7DlqYy6Tg+yigutvb95D7mHOK689aiZ2dP9HKzMqwQAGXfo6y9+Blj/jv54RD19mJ2znQvEvk8fAXbME8/PfGe+fzvDPxPrAF/OMS6bdKe+n4+eMi6fcjewf6Xn/exepE8I7whqvF0/xzUMZW8gR083R9ky3ni9XP+ezhW4hHoehng6s3M3zUB5u65uJYQT5SuAdaPa2FAnIiISWC+qjwGWJGykU9DJmgMr1GVkfX0Ce18/1t//vXG7VX91f/++etS4llP51q7t2Jv09ZcPMd4dr+Sicb0vphvDsT1LxPOCr70fw2qgMqKePvzPeZnjjoqmd6D0UPYt1+e1SogBZvf1cf1iQh+quIZxCx/T52bLGeU5oHQdYppxh/m+QzmMz8p1dX0voZooXwGsG9XGhjoREZHAelF9DLAkYSOdQsLvuxAqUHyFI++2Na7/0cDA3/uPe6xd1zEt9PVX/Q3Ymim2dx0W6DzP1sVfgAOrxPPju7wfwzCHmocgxfn5qr8an6eVhyyjm1t/7wfXil5t07qHtkeSFfMfsfFZegiGxrUz33coJ1K3872ceHulCa4cWDeqjQ11IiIigfWi+hhgScJGOoWE1xAkAsqSQZ6HWF6+rPc8cl53Vh/j+/an99l3W61d1+Qm+vrr3gJ2fSi2d+3BtdnlroPfZNk7VmmJPqG663mmNNF7qpm9j1FN7Qd432QDHz6pP558t70eScEeEms3jPNUxrQ037/d+eL2r/D/fdj5Xk74nX/HiWCsG9XGhjoREZHAelF9DLAkYSOdQqa0RJ/7KNxhVCDF9S5wrhN0J8QAkzuK9+zv/F/fZPu+npcvi0n4NyQBeavF9j98ZVw3e4S+PDFWf37kP2LdwxutfX4754ttPn9P7x3l630k1rU4v5JT+TYX+Ph5/fG7N9jbNrWZ988rUDJ6EqZca77/UPXAsnuc1Kb+HSeCsW5UGxvqREREAutF9THAkoSNdAqZ0pLyydTDGEAFXFwmsj6RJ14bUd4TKS1OvGd/78B4YKXv63mpSKy/OR34drN5sPHJm8bw5NiXYt2Dn1j7/DY59eLakBy8a3x0G7DilfLgpFmA+5M48XhFr6UA358jRPS0/5xRsNYrKsA5sOx+L0fU8/+6BcKfu55KwrpRbWyoExERCawX1ccASxI20ilkVLgbocwy5wGTgKU2cKk4sPe860Pf1/PCGbH+55OBH3aK53lr9HUcAYBjTqnRLfTlP+0T6+5bbu3zW/mavn5q8+BOyv/DV8Da4fpjxxBJGSXQObJkfn9dgxjDhOoheD/+vBfHdzoUvN21U2aPOi9YN6qNDXUiIiKB9aL6GGBJwkY6hYy/vZEisWS0B3Yv1u9OZzXscZ5L64sZvq/nrz+K9bfP1Oe9cjzfucBzAJBQW+/l49xzzEpYBog5zCbcFtxrd+IAkJUgromUsEzCXftkfn8v/mLct92hiYH2KPNnbrbzp/w/nt1z83V3xKn36n9bQQyyWDeqjQ11IiIigfWi+hhgScJGOoXMldYDy2qx2otoSkfx+LMM39fz58Ni/a8+AM6dEM8n3+X9WONvFY+3z7L2+b13T3l40MXe+x/1W3vrn8o3Bjo5qfI+i0Du2ifz+/vrT2K/dsKkxDrAxlQR3AQyxM5uaPbzt/avmT/nZ+e8gtgji3Wj2thQJyIiElgvqo8BliRspFPI+HtHviu6OF2LVX8Xjzem+r6eP+0X6+9bBpRc8O8c/vuetc8upTyImn6fvf1/ONDe+meO6gGe43nhz8CCR+Vcb3/v2mf4/ko4j9NHxH79mbhdxhA7r3cG9fA3enyXvWvlz/nZ/m+ExDnOXLBuVBsb6kRERALrRfUxwJKEjXQKKRl3cYvkMqKu8fmYFuJHePYIIKmh/vjTf/m+lt87TcT+9bryuxLWtX9OuWPNj2EWRCTaCCGd73hopZw7AXwxXTxf/zYwpqWc6+/ogeVvzyXb31+T63QiT+zT7tDEvUu9DLGzGeiUluhzaTkPX02I0YOmGT1dPsct1q6R1yGAPs4vkF5ugc5x5oJ1o9rYUCciIhJYL6qPAZYkbKRTSBl6fSjUEyuxToiO5XKcg2vF4xWv6BOkJ8QAq/7m+1oe2SK2PbxJX5Zic7heQgyQPdLLZ+VjLiIr5dB68djK+V04o8/h5Sn48LuUz4FVXBhYz6WSi/aOmx4HfPiU+/Ifdop92g1tlg+xtp6dQMcxPDQhBpjdT78Oa4Ya9+e4MYAvVkM+T+fn9zxjEuY4c8G6UW1sqBMREQmsF9XHAEsSNtIp5By9PtLjjD9CU5sBi58Flv7FemCRGBtgsBGj300wZ1Tg+/GnpFzr/kM8IQaY1dt3z6BDWWK7o9v0ZWP8GOK2+FnP+5fVW273IvF4+yzg3bbe1y8u1HsZyb7WOan+9Qxy7q3lfM1dP7v0OGO4lFYeqGyf6X4u//vcuH+rw+bSWllc10eg49oDbcLvxLaz+ujr/Ptl4z53fWS+vfOcXIGcX6DzjAUyx5kL1o1qY0OdiIhIYL2oPgZYkrCRTmHjbRiX1UApOxkYWd//H7zzH9aPW1oCTLM5t1MoireeQQdWivV+3KMv8+cOgfMf9fzZ2JlY3HWZ81DJrVPF492LgWndve+vrBQ4sMree5hyt8lrTsGU1e+Uo2eQ2fBJR9kyUYRxs/vo6zv3Nht9vb6f/77vvm3+BuP1thoWLhts77q4BjqmQ0KdPsOM9vq6Hz9vXGfbNN9zW+XnBH5+gcyTF8gcZy5YN6qNDXUiIiKB9aL6GGBJwkY6KcnrUEOX3jL+9p6a84AxGCoutH7HwJAVLz2DnHs2nfxGX+Y6b5GVsqC/+/W32xNmwu0ugUZr8Xij010ED6wC5j9ivp/EWP34n02yd/wVrwEZd7ovT4/TA6niQns9g4oLfQ+fnHK3uN6zeuvnvW+ZeH1kfX3Zfya4b5u32sv33UtxG1rpozgHOlaHhCZfq6//4ZPG5ZvG+O7BNvVe/8/PIZCef+yBVWmwoU5ERCSwXlQfAyxJ2EgnZZkNNXSEEs7Dlqz8+Hcu8x/13KtJ5Unmc1KNPda+cBqa9ssx/fztXoeEGGDJIPfrYHcuouk9jM8nOYVJa4eLx99k6cczDU8a68fPHWvv+CMbuC9bEK8HUUDw5pmafJf+b8Yd+nFcA6ZLxcDmNPft9izx/H331cNq33J778M50LHz3S465x40zuwV+HfY2/k5Xwfb32POgVXZsKFOREQksF5UHwMsSdhIJ+VZuWOcWdjlOrzNNfzytB9/QqBQFNc7/zlPiF74s37+jnDI9W6H3spHT7lfB7uBz0KXazbdaTjm0hfE4yP/AVa/br6f1Kb68b+cK+eaOXqu2Q3kRl0HS8PYkhuVr19+3tumGV8v/BnYkOy+3c75nr9/22cZ18tob3z+wx6LvQRdAh27Q/NO5AGz+xqXJTWytn1ibQvrWZija1OaHmha/cx4F8JKhQ11IiIigfWi+hhgScJGOl1RXMOu4kLf4ZenfXjrJaRiufCLfu4r/l952NBEn4PJZ0gTY5wDy3H99i7VJ9W3GkR8+i/jcufeO86B4Pc7gA1JLoGH00T8aXH6eZzIk3dtNqUFPjm4lVJyEdgyzrjszFFg/dvu626b5vm7l5VoXM91wvuZNoaIOgc6tnugvWTsRReMYiVwcp1I3tP3z/Edk9j7CmDdqDo21ImIiATWi+pjgCUJG+lEHoQi8JBZNozSh4hZ6bHi6IXmmL9pdl/fE5b7CiK2jDcucw4AnYcXnjjgPr9VehvxeFw7/fqfPS7p2jjNaWV1DqzU6/w71pnv3HtbncgD1r5hDFsSYoDPMjx/71yDUzs96ZyLa6BjtwdaoMV0LiybgdPHfxbbznnA/fPz1aMyAKwb1caGOhERkcB6UX0MsCRhI53Ig4ohVyH80R9I8RV0TLsP2LvM2Att3kP6a5ndrE3u7S2I+HKO8fVVfxOPM+4Qj08fcZ8n6v3fi8cTb9fP7cIZudfn21zrc0DN8zLJvLdybDuw7i33ZY5rkdpULPfU+6i0BJjUIfD3mtJEzP3lEOpANj8HWDPMfbndwMl5IvmsRONcZ7sXBSW4cmDdqDY21ImIiATWi+pjgCUJG+lEJlSe0N2f4hqafDBAX54WZ39frkHE/n8bX1//jng8poV4/OtP+h34nNd1Hm44uaO+v0vFYtnsfu4Bnd1eUvtX+LizZXkZWd/Gfmsbh2muTwAWPmZc5/BG4N8v6Y/fbSuGS2aPEJ9DIL3fzMrnk43hjt05sDyWOha2d5rbyjU02z7TfuA072Gx/Zqhxv0d32XzD9oe1o1qY0OdiIhIYL2oPgZYkrCRTmRC5Qnd/Smuk2YvflZfnhhrPdhY/47nucS+3Wxcb2MqkNSwfP9OE+lf/EWfyN153WUvis0KRI8AACAASURBVMcTb9f3ffmyOCfXYZGpzYzbWCmOu905Jgd3DtUM52gz4Jlxv/fXD6wSw+Am3AqkXKs//uQfTt8xu73fbHzem8aIzyrgQNbi+TmC0r1LjcsPb7L/N+h858Mlzxn3d2SLuIZ257mzgHWj2thQJyIiElgvqo8BliRspBN5UVoC5KQCI+rJDRfCVfJzxHtbPsT+9l/O8Xydju82rpc7Vr8zn+v2pSXAT/uMy1wDqvQ4IGeUcXJ3T0GKpd5SJne7cw3c/Cmjm/teZ+cCYNGf9MeTOgBjWuqPV76mn0dQe/m5DPOUEchW3F3SNczyMLeV6x0ZD6y0//c3tYvYfs4DLvtb5bnnmmtw5yfWjWpjQ52IiEhgvag+BliSsJFOZEFxoXGupkgtU+8VP+xXvGZ/+68Wer4+Z74zrjf/EWPPK0fZNAY4/T9rwYus4mm+qX3LQ3O9Fz4uhmq+dw8w9ib98aw+epgY8LA+m9fA0QPNymT/nsqGZL13XVpL4/K0Vu5zW+WkGNfZOd/+353znRCndDLu7717TL4vcu5MyLpRbWyoExERCawX1ccASxI20oksKi0BFjzqPXSZ2D40wUggJSe1/I6Fjexv++1mz9em6Ffr+5jv5yTpnoqnkMy5eAoxSkuAKXdLOL6F4CnlWmDuH/XHznNghbR46IVmdwimc0mPA1a7zEdVcND9O7Hqr8Z1Pp9i/29uXDun47a2f66ewkuLWDeqjQ11IiIigfWi+hhgScJGOpENjh4s6XHuP+o3pek9tXxNFB7uYmuicudSx/3udg6XL4cpnPEWtLQRQ+ec50jKGRXa85jSWd6+Jtzq/7aOecAAvWeY3+fh4Xv9w07378RHTxnX2Zhq/+/Nea4yX3fa9HSenoaPWsS6UW1sqBMREQmsF9XHAEsSNtKJ/OBt4mizkCtR0UDLTknzMr/Q6BbhP79R1wHjb9EfT7jN8xxJof4cnO9UGGhZ+Vf9u+Wr55mnsnG0+L5WzGUlqRze6P59cJ6APSFGTFxv5+/J36GOzsU5uLOBdaPa2FAnIiISWC+qjwGWJGykEwVJuHv+BLN4Gpo3tm34z8u5d1DFxPthDg5l9kxbNli/1inXqXNOCTHAfg+NpQyX4bTLX/L8N2I2EfvG0ZLObYVff76sG9XGhjoREZHAelF9DLAkYSOdKEQMd4G7Anpjuc4vNPF34T+nkJXa1j5D2XevXPQnoKxMHFtGDyVHSWoEpHq4c6SVsmOu+/c9tZlxnY+e8vD30N/perpeX0nviz2wrkhsqBMREQmsF9XHAEsSNtKJQshseGFaK/ceK0oXp/mFHL1obM9RFMEl5Vpr66XfIPe48x8FLpxxei5xQvxxNwP5G/zb9rMM4/e86Lz7OnP6GdfZNCbInxPnwLqSsaFOREQksF5UHwMsSdhIJwoDT3P+mIVbVnujhGMS9fwcp140V2rxcP3H3+LUm85LeU/iBO4JMcDMPwCnj4jnX86xHqb5KpM7Aj/u8W/bDUnie71pjHHydUdxTKrvWC+tledrK7NYuQuhyfxbrBvVxoY6ERGRwHpRfQywJGEjnUgxrj+oiwv1f/cu1ecRSnMJuFKv05df+MXLEMXy537fgdCkLH4ueOFDugpzasV47lk2+S4ROHqbpH3qvfYnXB91HTC1i8n+ugDHd4nnB1YC07rLeZ/T/g/45Zh/264Z6mNIYHlxzJ32bW7g5zvKbLhj+bGn3QfsXeZ+kwXnvzOz+bc2jcG+3V+xblQYG+pEREQC60X1McCShAEWUYTx5w6I6XH6ctkTyac2Mw8rAinv/16fk8lwrOuAeRKHzFkp8x72vHzqveKan/7OfPuMO4CkhjaP6+F6OkKyjDuAbzeL5d9uBuY95L6+67WzUub0A4o9DP2zUpa+YH1I4KY0/bsb6GeTcae+r5ENjMtTmgDJTYzL0l3unmlh/q19o3uyblQYG+pEREQC60X1McCShAEW0RXILOQyTCQfSKntPkl30ItzL7IQTYL//Veel8/oabzWrueT8lv933fbuoRJfp73pA76v2Nv1HtdOZYf3wV8NNB9fbu9vhJigA8GAJcve+ilZ2GC9QX9LQ4JLJ+XKj8n8M/m3bb69Z/5B7EsraX3c3b0ALMQtu0bUpN1o8LYUCciIhJYL6qPAZYkDLCIKpnSEiAnNfA75C0ZFHgIEe4ys5cepuxdCnw+WR9ylpUoXt+5QDx27tUz90HjNXWd88lxR8ZR14m5yWb1dh+uZrXM6qP/m9oM2DlfLD/9P2D5EM/bjGlp7xgfP6+/l/TWLvtxeW/pccCkO43Lptxt71j5OYHPgZXyW/187R47J9XSsfcNqcW6UWFsqBMREQmsF9XHAEsSBlhElVRxoT5Uz5/wYEG8nF40/paKXkISemKluQwvc35fySZD8Rb0N15L1xBlZi/3bTamApeK/QsOFz0t3vdnk8TyC2eANcM8b2N27mZlxav6e5l8l3H56f+JO2Rm/p9+nWb3Na4z9iZ7x9q/Qs5dCMvK3AM3r8V6z0H2wFIbG+pEREQC60X1McCShAEWUSVWWgIseNRm2JMm7poYijvJmZXlL3m4Y2MAxTG87LiFO/GltzbOPTbnAePri/7kvk3uWH3d9Bvsn9vq18Xjih5itfUAJ3uk/+/Zef6oT97Uz881fCv8We9xlhADTL9PX2fqvcZ17Pb2cgxrDXQ468VfAu9JaFIYYKmNDXUiIiKB9aL6GGBJwgCLqJIzm/g9tRmw+FngPxPN7+YmoxeNI4yxu83+FWKuL1l3Q9yUZhxC6K3kpIrr8PGfja+t+rv7+p9P1tc1u8Ogt7JxtHi87EX931FN9f1tGef/NZ/UUTzfkKzv74MBxvVKLohAbtKd+joTbzeuk9zEepiZHmecky2Q4awFByV9/9wLAyy1saFOREQksF5UHwMsSRhgEREA73c39LZNRS+aAHpipcfpParsbPNtrjgHKT3Baus9iZIbW1s/sY5+V8fSEmDdW8bXUpq4r+/o4bVssP1z+2K6eDynn/7v+Jv1979tmv/v2Xmy9y3j9P25zql1+bI+vDAhRu95Bug98Vz3lZNq7ZjOwR8QWAj69acBfubmhQGW2thQJyIiElgvqo8BliQMsIgoIGY9uMxCooQYYP6j+lxTzmGZ5SCqtrEXz7e5QQsxLJUF8frwQKvrrvuXvf2PqAd8OVc8H3uj/u/79+jvf9eHct7H6qHuYVxSQ/0Yn5af88gG+nPHnRWdhyD++pO1IYHOc45VfOY2ztP5mFszg/a5MsBSGxvqREREAutF9THAkoQBFhFJ4dyDKz9Hn7TcNdRKd5pDyxOrvXE2pYlt9q8IbWDlqXw00Mb6/vQU87DN+Fv063hglbz3kR5nnM8rtXyYYu67YlnROfHYcbfFhBjgVL5+PtkjrL0Xf28EMO5m8di155vEwgBLbWyoExERCawX1ccASxIGWEQUNHaHJXodkugUfDjvJ9w9sBJqAynXhefYC+KBb7Lkvhfn5+lt9GvsPITRed6p2X3E4y9m6p/LT/utH2/JIPvnmNlNPJ7R09r78KMwwFIbG+pEREQC60X1McCShAEWESnFbEiiWe8tf4ahXUll5WvB2/eEW/VrvGeJWHbIKTBLauj+GblOaG9aaus3CrB7TiPre389ewQw+vqA3zsDLLWxoU5ERCSwXlQfAyxJGGARkZLs9N6SdjfECCwSwhrTMradft2dQ6tt071s40fPJ39CLG/lVD4wrXvA+2GApTY21ImIiATWi+pjgCUJAywiiniGoYeVvQQ+fM5Q0uOAFf9PPJ/VW+7+Fz8nd3+rX5eyHwZYamNDnYiISGC9qD4GWJIwwCKiK0JpCZCT6nuImWtJi9O3s3QHxMpYXK5JUgO5+z+0HhjTUt7+JPXoYoClNjbUiYiIBNaL6mOAJQkDLCK6ohQXAstf0u+gZwiqWunLdy8GPp8M7F1mHJp4pQ5DtBvohbqkxQHvtjU/1zDNb8YAS21sqBMREQmsF9XHAEsSBlhEdEWSegfECC4//w+Yfl/4z8O0OF3rjwYCn08xvv7ePQywyA0b6kRERALrRfUxwJKEARYRUTmzOyCmNNFL2MMeP8ro5kDOKGBjqvv7Uq1kdgNOHzEum9GTARa5YUOdiIhIYL2oPgZYkjDAIiJy4an3lvOy/Bz5c2aNqAdMvL38eRB6gC2I14dX5ucAU+8N3nECKclNgKLzxvNaMggYUZcBFhmwoU5ERCSwXlQfAyxJGGAREflB1pxZqdfpc3MVF5r3AJNVNqXp5x7s4wRS8nOAd28Qz1e8Coy/hQFWkJw5cwYvvPAC6tevjxo1aqBbt27YsWOH5e0PHDiAXr16oWbNmoiNjcXAgQNRUFBgWCcvLw/Dhg3Dbbfdhlq1aqFx48bo06cPtm/f7vd5s6FOREQkhKNejNQ2RLgwwJKEARYRkR/8mjOrfL1p97lPIu+6729zgb1Ly++qJ6OnVG09sHI+XmmJHhiNui78wZWjTL0XmNpVPJ/UQe+dJmX/1q9jZQiwysrK0LlzZ9SsWROJiYmYPHkybrrpJlxzzTU4dOiQz+2PHTuG+vXro1WrVpg4cSJSUlIQGxuL2267DcXFxRXrvf7666hTpw6ef/55ZGZmIi0tDa1atUJUVBSysrL8OncGWEREREKo68VIbkOECwMsSRhgERH5yawnU1orYM4D+h32nJenx+nr+5pQ3pnsuyN+mxv8YwRaEmPl7CepofF5alNg3kOWAq3KEGAtWrQImqZhyZIlFcsKCgpQp04dPPHEEz63HzJkCKpXr47vvvuuYllWVhY0TUNmZmbFsi+//BLnzp0zbHvq1Ck0aNAA99xzj1/nzgCLiIhICHW9GMltiHBhgCUJAywiogCZ3fHQ7p0QzfYt8+6I+1cE/xiqlLVvAAfXiOe5Y4GsRPE+XYPH9DggJxXIz8G+FZOu+LoxPj4ejRo1QllZmWH5X/7yF9SoUQNFRUVet2/YsCHi4+Pdlrdp0wb33Xefz+M/8sgjqFu3rr2TLscAi4iISAh1vRjJbYhwYYAlCQMsIiLFebs7omsvI1/FUw8sb8eI5LI5XX9vKeVDJOc9DCzorz9Oi/MaMFaGujEuLg69e/d2Wz5jxgxomoY9e/aYbvv9999D0zSMGTPG7bWBAwdaalR27twZbdq0sXfS5RhgERERCaGuFyO5DREuDLAkqQyNdCKiK4KnwKW4sHyeLF+Bjoc5sLwdQ+r8WyEsyY3F462Z+vBIT3cxTGvl9VpUhrqxZs2aGDRokNvyNWvWQNM0rFu3znTb7du3Q9M0zJs3z+21YcOGQdM0r//3NTc3F1WqVMHbb7/t8zxPnDiBffv2GUpGRgYDLCIionKOACsjI8Otzjxx4oT040VKG0IlDLBcFBQUoE+fPqhRowbatGmD7OxsS9tVhkY6EdEVzeocVo67EFrxbW74wyg7xTHRe6JTWPX+771vsyDeNMSKtLqxrKwMFy9etFQuX74MAKhatSqGDBnitq8NGzZA0zQsX77c9Hi5ubnQNA2LFi1ye+3tt9+Gpmk4c+aMx21PnDiB6667Di1btnSb18KThIQEaJrmsTDAIiIiEgGWp5KQkOB12yu5DaESBlgu4uPjMWjQIBQWFmLFihWoW7cufv75Z5/bRVojnYiIXHidw6q2z7DGo/0rwh9KWS3zHwFGNvBvW5NQL9Lqxo0bN5o2XF1LXl4egPD839Pz58+jQ4cOqF27Nvbu3WvpvbEHFhERkXeB9MC6ktsQKmGA5eTcuXO46qqrcOzYsYplXbt2xaxZs3xuG2mNdCIi8sBsDit/7nwIBNYDK/U6YPlLwIak4IdXI+sHtn1KE30YpotIqxt//PFHzJ4921L55ZdfAIR+/ori4mL07NkT1apVw6ZNmwJ4t5wDi4iIyFkg9WJla0OEi7Zv3z70798fLVq0QPXq1VGvXj106dIFK1eutL2z5ORkaJqGdu3aBeFUjc6dO4d33nkHvXr1QmxsLDRNw+zZs03XLyoqwvDhw9GkSRNcffXVuOuuu7B+/XrDOjt37kRsbKxh2SuvvILXX3/d5/lEWiOdiIi8kHHnQ8d+0lp56NHlWmrr6+XneL4LYyTc3XD6fW7XqTLUjf379/d4B6EXXnjB0h2EGjRoYHoHoe7duxuWlZWV4fHHH0dUVBSWLl0a8LkzwCIiIhJCXS9GchsiXLQ1a9agV69eSExMxLRp0zBhwgR06dIFmqYhMzPT8o6OHTuGGjVqoGbNmiEJsI4cOQJN09CsWTN069bNZ4A1YMAAREdHY+jQocjMzESnTp0QHR2NLVu2VKyTm5uL5s2bG7Z766238OKLL/o8n8rQSCciIj/ImFsrKHc3rO3U+0pSMObyHipD3fjRRx9B0zQsWbKkYtnJkydRp04dPP7444Z18/PzkZ+fb1g2ePBgVK9eHUePHq1Ylp2dDU3T8P777xvWfemll2y3z7xhgEVERCSEul6M5DZEuHgcQlhaWorbbrsNN9xwg+UdPf744+jevTu6du1qKcA6ffq01+Tvgw8+wPnz501fLyoqwo8//ghAjP80C7C2bdsGTdOQnp5esezixYto1aoVOnXqVLGMPbCIiEg6mXNrOfcMWz4ksLApPU4foiizF5bLHRorQ91YWlqKu+++G7Vq1cKIESMwZcoUtGvXDtdccw0OHjxoWLd58+Zu/6Ps6NGjqFevHlq1aoWMjAyMGjUKsbGxuOWWWwz/53X8+PHQNA2dOnXC/Pnz3Yq3NpMZBlhERERCqOvFSG5DhIvpHFj9+vVDo0aNLO1k8+bNiIqKwp49eywHWMnJyYiKisKyZcvcXnOM+ZwyZYql4/sKsIYNG4aoqCicPXvWsHzUqFHQNK0isXTMgfX9999XrNOtWzfOgUVERIGRPbeWY592hhamtdIDq73LxBDFYEwy/21uxSlWlrrx9OnTeP7551GvXj3UqFEDXbt2xfbt293W89T4BPTr1LNnT9SoUQN16tTBU089hZ9++smwzjPPPON1QtgjR47YPm8GWEREREI46sVIbUOES0WAdf78eZw8eRL5+fkYN24coqKi8OSTT/rcQWlpKW699daKYXZWA6xLly7hwQcfRLVq1ZCdnV2xfOnSpYiKisLAgQMrbi/pi68Aq0ePHrjxxhvdlju61znP99W/f388//zzuHDhAlatWsW7EBIRkTyy5tZy3p9ZMJaT6nlOLWeBTDJvVvavqNg960a1McAiIiISWC+qryLAevHFFysSuKpVq6J///44ffq0zx1MnjwZtWvXRkFBAQDrARagD+Pr2rUratWqha1btyI7OxvVqlVDv379cOnSJctvwleA1a5dO7dJzABg//790DQNU6dOrVhWUFCA3r17o3r16mjdujWysrIsnQMb6UREFDb+BmMVk8yzB1ZlxIY6ERGRwHpRfRUBVl5eHrKysjB37lz07dsXDz/8sFvXM1enTp1C3bp18e6771YssxNgAcDZs2fRvn171K1bF7Vq1cK9996LCxcu2HoTvgKsli1berw95eHDh6FpGsaPH2/reM4SEhIM3e/YSCcioohidZJ5n6V2pZwDK5KxoU5ERCSwXlSf6RxY999/Pzp06OB1GN/gwYMRFxeH4uLiimV2AywAyMnJqQiAdu7caWtbQG4PLH+xkU5ERBHJMJdWgKUS3oUwkrGhTkREJLBeVJ9pgJWZmQlN09xmv3c4dOgQqlatioyMDBw5cqSidOzYEW3atMGRI0cszR11+PBhNGnSBG3btkXz5s3RokULHD9+3NabkDkHlr/YSCcioohVWqLPmTWyvrWeVp6ee7iTIutGtbGhTkREJLBeVJ9pgDVhwgRomoZt27Z5fH3jxo1eZ7LXNA2vvfaa14MfP34cLVu2RLNmzXDs2DEcOnQIDRs2xM0332wp/HLwFWANHTrU410IU1JSDHchDAQb6UREFPGKC/U7FaY29Twp/MZUW3dSZN2oNjbUiYiIBNaL6tNOnDjhtrCkpATt27dH9erVce7cOQBAYWEh8vLycPLkSQDAyZMnsXz5crfSrl07NGvWDMuXL8eePXtMD3z69GnccsstaNiwIQ4dOlSx/KuvvkLt2rVx99134/z585behK8Aa+vWrdA0Denp6RXLioqKEBcXh44dO1o6hi9spBMR0RXD26TwNiaMZ92oNjbUiYiIBNaL6tMeeughdO/eHYmJiZg+fTqSkpLQtm1baJqGsWPHVqzo6HGVkJDgdYdW58BKTk5GnTp1sGvXLrfXtmzZgurVq2PKlCle9zFp0iQkJSVhyJAh0DQNjzzyCJKSkpCUlIRffvnFsG58fDyio6MxbNgwZGZmonPnzoiOjsbmzZt9nqsVbKQTEREZsW5UGxvqREREAutF9WkffvghevTogUaNGiE6OhqxsbHo0aMHVqxYYVhRdoB16dIlrw3a3bt3e51AHgCaN29uOnzxyJEjhnUvXryIoUOHonHjxqhWrRo6dOiAdevW+TxPq9hIJyIiMmLdqDY21ImIiATWi+oznQOL7GEjnYiIyIh1o9rYUCciIhJYL6qPAZYkbKQTEREZsW5UGxvqREREAutF9THAkoSNdCIiIiPWjWpjQ52IiEhgvag+BliSsJFORERkxLpRbWyoExERCawX1ccASxI20omIiIxYN6qNDXUiIiKB9aL6GGBJwkY6ERGREetGtbGhTkREJLBeVB8DLEnYSCciIjJi3ag2NtSJiIgE1ovqY4AlCRvpRERERqwb1caGOhERkcB6UX0MsCRhI52IiMiIdaPa2FAnIiISWC+qjwGWJGykExERGbFuVBsb6kRERALrRfUxwJKEjXQiIiIj1o1qY0OdiIhIYL2oPgZYkrCRTkREZMS6UW1sqBMREQmsF9XHAEsSNtKJiIiMWDeqjQ11IiIigfWi+hhgScJGOhERkRHrRrWxoU5ERCSwXlQfAyxJ2EgnIiIyYt2oNjbUiYiIBNaL6mOAJQkb6UREREasG9XGhjoREZHAelF9DLAkYSOdiIjIiHWj2thQJyIiElgvqo8BliRspBMRERmxblQbG+pEREQC60X1McCShI10IiIiI9aNamNDnYiISGC9qD4GWJKwkU5ERGTEulFtbKgTEREJrBfVxwBLEjbSiYiIjFg3qo0NdSIiIoH1ovoYYEnCRjoREZER60a1saFOREQksF5UHwMsSdhIJyIiMmLdqDY21ImIiATWi+pjgCUJG+lERERGrBvVxoY6ERGRwHpRfQywJGEjnYiIyIh1o9rYUCciIhJYL6qPAZYkbKQTEREZsW5UGxvqREREAutF9THAkoSNdCIiIiPWjWpjQ52IiEhgvag+BliSsJFORERkxLpRbWyoExERCawX1ccASxI20omIiIxYN6qNDXUiIiKB9aL6GGBJwkY6ERGREetGtbGhTkREJLBeVB8DLEnYSCciIjJi3ag2NtSJiIgE1ovqY4AlCRvpRERERqwb1caGOhERkcB6UX0MsCRhI52IiMiIdaPa2FAnIiISWC+qjwGWJGykExERGbFuVBsb6kRERALrRfUxwJKEjXQiIiIj1o1qY0OdiIhIYL2oPgZYkrCRTkREZMS6UW1sqBMREQmsF9XHAEsSNtKJiIiMWDeqjQ11IiIigfWi+hhgScJGOhERkRHrRrWxoU5ERCSwXlQfAyxJ2EgnIiIyYt2oNjbUiYiIBNaL6mOAJQkb6UREREasG9XGhjoREZHAelF9DLAkYSOdiIjIiHWj2thQJyIiElgvqo8BliRspBMRERmxblQbG+pEREQC60X1McCShI10IiIiI9aNamNDnYiISGC9qD4GWJKwkU5ERGTEulFtbKgTEREJrBfVxwBLEjbSiYiIjFg3qo0NdSIiIoH1ovoYYEnCRjoREZER60a1saFOREQksF5UHwMsSdhIJyIiMmLdqDY21ImIiATWi+pjgCUJG+lERERGrBvVxoY6ERGRwHpRfQywJGEjnYiIyIh1o9rYUCciIhJYL6qPAZYkbKQTEREZsW5UGxvqREREAutF9THAkoSNdCIiIiPWjWpjQ52IiEhgvag+BliSsJFORERkxLpRbWyoExERCawX1ccASxI20omIiIxYN6qNDXUiIiKB9aL6GGBJwkY6ERGREetGtbGhTkREJLBeVB8DLEnYSCciIjJi3ag2NtSJiIgE1ovqY4AlCRvpRERERqwb1caGOhERkcB6UX0MsCRhI52IiMiIdaPa2FAnIiISWC+qjwGWJGykExERGbFuVBsb6kRERALrRfUxwJKEjXQiIiIj1o1qY0OdiIhIYL2oPgZYkrCRTkREZMS6UW1sqBMREQmsF9XHAEsSNtKJiIiMWDeqjQ11IiIigfWi+hhgScJGOhERkRHrRrWxoU5ERCSwXlQfAyxJ2EgnIiIyYt2oNjbUiYiIBNaL6mOAJQkb6UREREasG9XGhjoREZHAelF9DLAkYSOdiIjIiHWj2thQJyIiElgvqo8BliRspBMRERmxblQbG+pEREQC60X1McCShI10IiIiI9aNamNDnYiISGC9qD4GWJKwkU5ERGTEulFtbKgTEREJrBfVxwBLEjbSiYiIjFg3qo0NdSIiIoH1ovoYYEnCRjoREZER60a1saFOREQksF5UHwMsSdhIJyIiMmLdqDY21ImIiATWi+pjgCUJG+lERERGlaVuPHPmDF544QXUr18fNWrUQLdu3bBjxw7L2x84cAC9evVCzZo1ERsbi4EDB6KgoMDrNgsWLICmaahZs6bf582GOhERkRCOejFS2xDhwgBLksrSSCciIrKqMtSNZWVl6Ny5M2rWrInExERMnjwZN910E6655hocOnTI5/bHjh1D/fr10apVK0ycOBEpKSmIjY3FbbfdhuLiYo/bnDt3Dtdeey1q1qzJAIuIiEiSUNeLkdyGCBcGcCMYzAAAIABJREFUWJJUhkY6ERGRHZWhbly0aBE0TcOSJUsqlhUUFKBOnTp44oknfG4/ZMgQVK9eHd99913FsqysLGiahszMTI/bvPHGG7jhhhvw1FNPMcAiIiKSJNT1YiS3IcKFAZaLgoIC9OnTBzVq1ECbNm2QnZ1tabvK0EgnIiKyozLUjfHx8WjUqBHKysoMy//yl7+gRo0aKCoq8rp9w4YNER8f77a8TZs2uO+++9yWHzp0CL/5zW+wZs0aPPPMMwywiIiIJAl1vRjJbYhwYYDlIj4+HoMGDUJhYSFWrFiBunXr4ueff/a5XWVopBMREdlRGerGuLg49O7d2235jBkzoGka9uzZY7rt999/D03TMGbMGLfXBg4ciLp167ot79OnD3r16gUADLCIiIgkCnW9GMltiHBhgOXk3LlzuOqqq3Ds2LGKZV27dsWsWbN8blsZGulERER2VIa6sWbNmhg0aJDb8jVr1kDTNKxbt8502+3bt0PTNMybN8/ttWHDhkHTNMP/fV29ejWio6Oxf/9+APYanydOnMC+ffsMJSMjgwEWERFROUeAlZGR4VZnnjhxQvrxIqUNoRIN0BuY/fv3R4sWLVC9enXUq1cPXbp0wcqVK71u/MUXX+Dll1/GTTfdhBo1aqBp06aIj4/H119/HfQTP3fuHN555x306tULsbGx0DQNs2fPNl2/qKgIw4cPR5MmTXD11Vfjrrvuwvr16w3r7Ny5E7GxsYZlr7zyCl5//XWf51MZGulERER2RFrdWFZWhosXL1oqly9fBgBUrVoVQ4YMcdvXhg0boGkali9fbnq83NxcaJqGRYsWub329ttvQ9M0nDlzBgBQXFyM1q1b45VX/n979x4dVXmvcfyFBCaZhEsIgaBAPISbclggLVVQGuQgyEVsBY4oIKsiKiIFWy6ix4JEKMipKJcFgVJawVtZgj2nrOMpKAoFoRSRKkEhkHK/RLkYBBKSPOcPzkzYTK5kZ88b8v2s9S4WO3tm3v1mMu9vnnln72eC+5Sn+Jw6daqMMUU2AiwAAAoDrKLa1KlTS7ztjVxD2MRIVxK+3r17a9q0aVqyZIlee+01devWrcSTf0nSwIEDlZiYqLFjx2rp0qVKTU1V48aNFRMToy+++KJSO56ZmSljjJo3b67u3buXGmANGTJEkZGRmjBhgtLS0tSlSxdFRkZq06ZNwX02btyopKQkx+2ef/55Pfnkk6X2p6oV6QAAVLaqNjdu2LCh2ML12rZnzx5J3n16OmvWLMXFxTlOa8AKLAAA3FORFVg3cg1hk2K/QpiXl6cOHTqoTZs2xd548+bNIZdn3Lt3r3w+n4YOHVriA58+fVrvvfdesT9/6623dP78+WJ/funSJR0/flxS4S+vuABr27ZtMsZozpw5wW0XL15UcnKyunTpEtzGCiwAANxT1ebG48ePa/ny5WVqZ8+eleTN+SvOnj2r2NhYTZo0SZmZmcE2cOBA+f1+ZWZmXtdXGzgHFgAAhSoyL1a3GiJcSjwHVv/+/dW4ceNy32mnTp3UqVOnEvd5+eWXFRERodWrV4f8LPALW7hwYZker7QAa+LEiYqIiNC5c+cc22fOnCljjA4dOiSp8BxYR44cCe7TvXt3zoEFAMB1qA5z46BBg4q8gtCoUaPKdAWhhISEYq8g1KNHD0mFq85Lag888EC5+06ABQBAIa/nxapcQ4SLI8A6f/68srKylJGRoVdffVURERF65JFHynWHBQUFuvnmm9WrV68S97t8+bIGDBggn8+n9evXB7e/9957ioiI0LBhw4LfDS1NaQFWz549deutt4ZsX79+vYwxjnN9DRo0SCNHjtSFCxf03//931yFEACA61Qd5sZ33nlHxhitWrUquC0rK0v169fXQw895Ng3IyNDGRkZjm1PPfWUoqOjgx+mSYX1yaJFiyRJ33//vdasWRPS7rnnHkVFRWnNmjXaunVruftOgAUAQCGv58WqXEOEiyPAevLJJ4MpXM2aNTVo0CCdPn26XHe4YsUKGWO0bNmyUve9ePGiUlJSFBsbq61bt2r9+vXy+Xzq37+/Ll++XObHLC3AateuXTCBvNru3btljNHixYuD206dOqU+ffooOjparVq10rp168rUh+pQpAMAUB7VYW7My8vTnXfeqdjYWL300ktauHCh2rVrpzp16uirr75y7JuUlBRyrs1Dhw4pPj5eycnJmjdvnmbOnKm4uDi1b9++1E9eK3r+CgIsAAAKeT0vVuUaIlwcAdaePXu0bt06/eEPf1C/fv3005/+VCdOnCjzne3Zs0d169ZVly5dlJeXV6bbnDt3Tp06dVKDBg0UGxurH//4x7pw4UK5DqK0AKtFixZFfrd0//79MsZo7ty55Xq8q117VZ8buUgHAKA8qkOAJV05r+fIkSMVHx8vv9+vlJQUbd++PWS/oopP6co49erVS36/X/Xr19fQoUPLVH8RYAEA4J5wzItVtYYIlxLPgXXvvfeqc+fOZfoq3/Hjx9WiRQs1a9ZMR48eLVcnPvroo2AA9Nlnn5XrtpK7K7CuV3Up0gEAKCvmRrsRYAEAUIh50X4lBlhpaWkyxoQsX7vW2bNn1bFjRzVo0EC7d+8uVwf279+vJk2aqG3btkpKStK//Mu/6NixY+W6DzfPgXW9KNIBAHBibrQbhToAAIWYF+1XYoD12muvyRijbdu2FbvPxYsX1a1bN/n9fm3ZsqVcD37s2DG1aNFCzZs31+HDh7V37141atRI//qv/1qmE6cHlBZgTZgwocirEM6YMcNxFcKKoEgHAMCJudFuFOoAABRiXrSfkaSTJ0+G/CA3N1edOnVSdHS0srOzJV05g/2ePXuUlZUl6cpJxwYMGKDIyEitXbu2XA98+vRptW/fXo0aNdLevXuD23fu3Kl69erpzjvv1Pnz58t0X6UFWFu3bpUxRnPmzAluu3Tpklq2bKk77rijXP0uDkU6AABOzI12o1AHAKAQ86L9jCT95Cc/UY8ePTRt2jQtXbpUqampatu2rYwx+s1vfhPcecOGDTLGaOrUqZKkcePGyRij+++/XytWrAhpJXn55ZdVv359ff755yE/27Rpk6Kjo7Vw4cIS72P+/PlKTU3V6NGjZYzRgw8+qNTUVKWmpurs2bOOfQcPHqzIyEhNnDhRaWlp6tq1qyIjI/XJJ5+UaaBKQ5EOAIATc6PdKNQBACjEvGg/I0lvv/22evbsqcaNGysyMlJxcXHq2bOn/vSnPzl2vjbASklJcVyB79pWksuXL5dY0O7atavUk8cnJSUV+9iZmZmOfS9evKgJEyYoMTFRPp9PnTt31gcffFDi/ZcHRToAAE7MjXajUAcAoBDzov1KTplQZhTpAAA4MTfajUIdAIBCzIv2I8ByCUU6AABOzI12o1AHAKAQ86L9CLBcQpEOAIATc6PdKNQBACjEvGg/AiyXUKQDAODE3Gg3CnUAAAoxL9qPAMslFOkAADgxN9qNQh0AgELMi/YjwHIJRToAAE7MjXajUAcAoBDzov0IsFxCkQ4AgBNzo90o1AEAKMS8aD8CLJdQpAMA4MTcaDcKdQAACjEv2o8AyyUU6QAAODE32o1CHQCAQsyL9iPAcglFOgAATsyNdqNQBwCgEPOi/QiwXEKRDgCAE3Oj3SjUAQAoxLxoPwIsl1CkAwDgxNxoNwp1AAAKMS/ajwDLJRTpAAA4MTfajUIdAIBCzIv2I8ByCUU6AABOzI12o1AHAKAQ86L9CLBcQpEOAIATc6PdKNQBACjEvGg/AiyXUKQDAODE3Gg3CnUAAAoxL9qPAMslFOkAADgxN9qtLIX65cuXderUKR04cED79++nVeF24MABHT16VNnZ2SooKPDwmQYAVQMBlv0IsFxCkQ4AgBNzo91KK9QLCgqUmZmp9PR0ff3112EPYGgVa/v27VN6errS09N14sQJQiwAuAYBlv0IsFxCkQ4AgBNzo91KK9TPnTun9PR0HT16lLDjBpGTk6N//vOfSk9PV3Z2dri7AwBWIcCyHwGWSyjSAQBwYm60W2mF+uHDh5Wenq7Lly973DNUppycnGAwCQAoRIBlPwIsl1CkAwDgxNxot9IK9QMHDmjv3r0e9wpe2Ldvnw4cOBDubgCAVQiw7EeA5RKKdAAAnJgb7VZaob5//35lZGR43Ct4ISMjQ/v37w93NwDAKgRY9iPAcglFOgAATsyNditLgEXIcWPidwsAoQiw7EeA5RKKdAAAnJgb7UaAVX3xuwWAUARY9iPAcglFOgAATsyNdiPAqr743QJAKAIs+xFguYQiHQAAJ+ZGu1XnAGv58uUyxhTZJk+eHNwvKSnJ8bOEhATdfffdWr16tSf9XLt2raZOner6/d7Iv1sAuF4EWPYjwHIJRToAAE7MjXYLW4CVmytt2CC9996Vf3Nz3X+MUgQCrOnTp2vFihWOtnPnzuB+SUlJ6tixY/Bns2fPVosWLWSM0aJFiyq9n2PGjJEx7pfrBFgAEIoAy34EWC6hSAcAwIm50W6eB1i5udL06VLjxpIxhS0x8cp2D4OsQIC1ffv2EvdLSkpSv379HNuOHz+umJgYtW7dutyPe/78+XLtT4AFAN4hwLIfAZZLKNIBAHBibrSbpwFWbq7Ut++VwKpGDWeAFfh/v36ehVgVCbAk6Yc//KFq1apV4m1HjBihmJgYZWRkqE+fPoqNjdUDDzwgSdq4caMGDRqkZs2aqXbt2mratKnGjx+vCxcuOG5f1FccA/Lz8zV37lzddttt8vl8atSokZ544gmdPn261OMnwAKAUARY9iPAcglFOgAATsyNdvM0wJo+3RlaFddSU915vFIEAqz169crKyvL0a5WVICVm5urxo0bKzExscTHGDFihHw+n5KTkzVixAgtXrxYb7zxhiRp7Nix6tu3r2bOnKm0tDSNHDlSERERGjRoUPD2W7Zs0b333itjjOMrjgGPP/64IiMjNWrUKC1evFiTJ09WTEyMOnfurNxSgkACLAAIRYBlPwIsl1CkAwDgxNxoN88CrNzcK18bvHbl1bWtRo0rXyf0YBVWSSdxv1pSUpJ69eoVDLd27dqlIUOGyBijsWPHlvgYgRVUzz33XMjPrl5pFfDrX/9aNWrU0MGDB4PbivsK4aZNm2SM0ZtvvunY/sEHHxS5/VoEWAAQigDLfgRYLqFIBwDAibnRbhUKsMaNk1JSytY6dCjb6qtA69Ch7PedknKlL+UUCLAWLlyodevWOdrVrr0KoTFGERERGj58eJEh1NUCAdbVgVRRzp8/r6ysLH3yySchv4/iAqyf//znqlevnk6dOhWygiw2NlaPP/54iY9JgAUAoQiw7EeA5RKKdAAAnJgb7VahACslpXyhVGW2lJRyH3t5zoF1xx13aN26dVq/fr22bNmiM2fOlOkxRowYocjISOXn54f87ODBgxoxYoTi4uJCArI//OEPwf2KC7D69OlT7AoyY4wGDBhQYt8IsAAgFAGW/QiwXEKRDgCAE3Oj3ViBdf0ncS+LwEncr5WXl6fWrVurYcOGmjVrlt5//32tW7dOv//972WM0fLly4P7Fhdg9e7dW40aNQpZPRZon3/+eYl9I8ACgFAEWPYjwHIJRToAAE7MjXbjHFjhCbB27twZstJKkv7yl7+EBFjPPPNMkQHW008/rYiIiFK/xlgcAiwACEWAZT8CLJdQpAMA4MTcaDeuQhieAOsf//iHjDH6/e9/H9xWUFCgfv36hQRYkydPljEm5GuLH3/8sYwxmjJlSsj9X758udSvORJgAUAoAiz7EWC5hCIdAAAn5ka7eRpg5eZK/foVrrS6duWVMVd+7sHqKym8AVZubq6Sk5PVsGFDzZgxQ/Pnz1f37t3VoUOHkADrj3/8o4wxGj58uFauXKm33347+LMnn3xSxhj16dNHc+fO1YIFCzRu3DjddNNNWrVqVYl9I8ACgFAEWPYjwHIJRToAAE7MjXbzNMCSroRTqalXviZ4dYCVmHhlu0fhlRTeAEuS0tPT1bNnT8XGxqphw4YaNWqUdu3aFRJg5eXlaezYsUpISFCNGjVCvk64ZMkS/eAHP1B0dLTq1Kmj9u3ba9KkSTp27FiJfSPAAoBQBFj2I8ByCUU6AABOzI128zzACsjNlTZskN5778q/HgZXuIIACwBCEWDZjwDLJRTpAAA4MTfaLWwBFsKO3y0AhCLAsh8Blkso0gEAcGJutBsBVvXF7xYAQhFg2Y8AyyUU6QAAODE32o0Aq/ridwsAoQiw7EeA5RKKdAAAnJgb7UaAVX3xuwWAUARY9iPAcglFOgAATsyNdiPAqr743QJAKAIs+xFguYQiHQAAJ+ZGu5UlwMrIyPC4V/BCRkYGARYAXIMAy34EWC6hSAcAwIm50W6lFeoHDhzQ3r17Pe4VvLBv3z4dOHAg3N0AAKsQYNmPAMslFOkAADgxN9qttEL98OHDSk9P1+XLlz3uGSpTTk6O0tPTdfTo0XB3BQCsQoBlPwIsl1CkAwDgxNxot9IK9XPnzgWDjoKCAo97h8qQk5Ojf/7zn0pPT1d2dna4uwMAViHAsh8Blkso0gEAcGJutFtphXpBQUEw7Pj666+D502iVb2WkZGhffv2KT09Xenp6Tpx4gShJABcgwDLfgRYLqFIBwDAibnRbmUp1C9fvqxTp07pwIEDYQ9haBVrBw4c0NGjR5WdnU14BQBFIMCyHwGWSyjSAQBwYm60G4U6AACFmBftR4DlEop0AACcmBvtRqEOAEAh5kX7EWC5hCIdAAAn5ka7UagDAFCIedF+BFguoUgHAMCJudFuFOoAABRiXrQfAZZLKNIBAHBibrQbhToAAIWYF+1HgOUSinQAAJyYG+1GoQ4AQCHmRfsRYLlkx44dwSf7l19+SaPRaDRatW+BQnDHjh3hnqZRhJUrV8oYoylTpuj999+n0Wg0Gq1atylTpsgYo5UrV4Z7ikYxCLBc8v77V4p0Go1Go9Fozvb++3ySaaNAoU6j0Wg0Gq2wTZkyJdxTNIpBgOWSM2fOaN68eTKGVVhefqrPWDPWN1JjrBnrG63t2LFD77//vs6cORPuaRpFyMzM1JQpU7Ry5cqwf+rtZQvUa/PmzQt7X6pyYxwZSxsbY8k4VqStXLlSU6ZMUWZmZrinaBSDAMtFX37JuT68wlh7h7H2DmPtHcYaqL74+3cH4+gextI9jKU7GEfYigDLRfyhe4ex9g5j7R3G2juMNVB98ffvDsbRPYylexhLdzCOsBUBlov4Q/cOY+0dxto7jLV3GGug+uLv3x2Mo3sYS/cwlu5gHGErAiwX8YfuHcbaO4y1dxhr7zDWQPXF3787GEf3MJbuYSzdwTjCVgRYLjp58qSmTp2qkydPhrsrNzzG2juMtXcYa+8w1kD1xd+/OxhH9zCW7mEs3cE4wlYEWAAAAAAAALAaARYAAAAAAACsRoAFAAAAAAAAqxFgAQAAAAAAwGoEWAAAAAAAALAaARYAAAAAAACsRoDlgkuXLmnSpElq0qSJoqKi9KMf/Uh/+ctfwt2tKm3Dhg0yxhTZPv30U8e+mzdv1l133aXo6Gg1btxYY8eOVXZ2dph6brfs7Gz96le/Uu/evRUXFydjjJYvX17kvunp6erdu7diYmIUFxenYcOG6dSpUyH75efna/bs2brlllvk8/nUvn17vfXWW5V8JPYr61iPGDGiyOd5mzZtQvZlrEP97W9/05gxY3TbbbfJ7/erWbNmGjx4sL7++uuQfXlOAze+M2fOaNSoUWrYsKH8fr+6d++uHTt2lPn2ZX2duNrKlStljFFMTExFu28VL8Zyz549mjhxojp06KDY2FglJiaqb9++2r59u9uHU+kq8n7gyJEjGjx4sOrVq6c6depowIAB2r9/f5H7/va3v1Xbtm3l8/nUsmVLzZs3z83DCLvKHsdDhw5p2rRp6ty5s+rXr6/4+HilpKRo3bp1lXE4YeXVczJg06ZNwTo2KyvLjUMAQhBguWDIkCGKjIzUhAkTlJaWpi5duigyMlKbNm0Kd9eqrECA9fOf/1wrVqxwtKtfEHfu3KmoqCjdfvvtWrRokV544QX5fD7dd999Yey9vTIzM2WMUfPmzdW9e/diQ5XDhw+rYcOGSk5O1uuvv64ZM2YoLi5OHTp0UE5OjmPf5557TsYYjRo1SkuWLFG/fv1kjNHbb7/t0VHZqaxjPWLECPl8vpDn+X/913+F7MtYhxo4cKASExM1duxYLV26VKmpqWrcuLFiYmL0xRdfBPfjOQ3c+PLz89W1a1fFxMRo2rRpWrBggW677TbVqVNHe/fuLfX25XmdCMjOztZNN92kmJiYGyrA8mosf/nLX6p+/foaOXKk0tLS9Morryg5OVkRERFVLlC43vcD2dnZatWqlRo1aqTZs2fr1VdfVbNmzdS0aVN98803jn0XL14sY4wGDhyoJUuWaPjw4TLGaNasWZV5aJ6q7HGcP3++oqOj9fDDD2vBggV67bXX1KlTJxlj9Lvf/a6yD89TXjwnA/Lz89WxY0fFxMQQYKFSEWBV0LZt22SM0Zw5c4LbLl68qOTkZHXp0iWMPavaAgHWqlWrStyvT58+atKkic6dOxfctnTpUhlj9L//+7+V3c0q59KlSzp+/Lgkafv27cWGKqNHj1Z0dLQOHjwY3LZu3ToZY5SWlhbcduTIEdWqVUtjxowJbisoKFC3bt3UtGlT5eXlVd7BWK6sYz1ixIgyvelhrIu2efPmkDeWe/fulc/n09ChQ4PbeE4DN7533303pHY4deqU6tevr4cffrjU25f1deJqkydPVps2bTR06NAbKsDyaiz//ve/h6ya/+abb5SQkKC77rrLhSPxRkXeD8yePVvGGP3tb38LbtuzZ48iIiI0ZcqU4LYLFy4oPj5e/fr1c9w+8Nw7ffq0S0cTPl6M45dffhkSrly6dElt27ZV06ZNXTqS8PNiLK+2aNEixcfHa9y4cQRYqFQEWBU0ceJERUREOAIUSZo5c6aMMTp06FCYela1XR1gfffdd7p8+XLIPufOnVNkZKQmTpzo2J6Tk6PY2FiNHDnSq+5WSSWFKo0aNdLgwYNDtrdu3Vr/9m//Fvz/woULZYzR7t27Hfu99dZbMsawCvH/lSXAysvLC3kduRpjXT6dOnVSp06dgv/nOQ3c+AYPHqzGjRsrPz/fsf2JJ56Q3+/XpUuXSrx9WV8nAvbu3avatWtr7dq1Zf4woqrweiyv9eCDD6pBgwbl63QYVeT9QOfOndW5c+eQ7b169VJycnLw/2vXrpUxRmvXrnXst2XLFhljtGLFigoeRfh5MY7F+cUvfiFjjL777rvyd9xCXo7lt99+q/j4eC1cuFBTp04lwEKlIsCqoJ49e+rWW28N2b5+/XoZY4r8GhBKFwiwYmNjZYxRRESEunfv7jgnwl//+lcZY/Tuu++G3P7uu+92vHlFqOJClSNHjsgYo9mzZ4fcZtiwYY6C8vHHH1dMTIwKCgoc+2VkZMgYc8Odl+F6lRZg1ahRQ36/X8YYxcXF6emnnw75RJqxLruCggLdfPPN6tWrlySe00B10bJlS/Xp0ydk+29/+1sZY/SPf/yj2NuW53UioG/fvurdu7eksq+mrSq8Hstrde3aVa1bty5fp8Poet8P5Ofny+fzafTo0SE/+4//+A9HoPLyyy/LGKOTJ0869svJyVHNmjX1i1/8woUjCS8vxrE4jzzyiPx+/w2z0trLsXz66afVrl075eXlEWCh0hFgVVC7du3Uo0ePkO27d++WMUaLFy8OQ6+qvs2bN2vgwIFatmyZ/vSnP+nXv/614uPjFRUVpc8++0yStGrVKhljtHHjxpDbDx48WImJiV53u0opLlQJbH/jjTdCbjNx4kQZY4KfvPbr108tWrQI2e/777+XMUbPPfdcpfS9qikpwHruuec0efJkvfvuu3r77beDJ3W/6667HCsPGeuyW7FihYwxWrZsmSSe00B1ERMTo8ceeyxke2DlygcffFDsbcvzOiFJf/7znxUZGRlcrXmjBVhejuW1Nm7cqBo1aujFF1+8vs6HwfW+H8jKypIxRtOnTw/5WWBF8FdffSVJGjNmjCIiIoq8n4SEBA0ZMqQCR2AHL8axKPv27VNUVJSGDx9+/Z23jFdjuWvXLkVERARP3UKAhcpGgFVBLVq0KPITqv3798sYo7lz54ahVzemffv2KTo6Ovhp5xtvvCFjjLZt2xay7/Dhw1WvXj2vu1ilFBeqbNy4sdiVbS+++KKMMTpz5owkqUePHkV+upOfny9jjMaNG1cpfa9qSgqwijJjxoyQk4Yz1mWzZ88e1a1bV126dAl+ispzGqh68vPzdfHixTK1wIrJmjVrFrlq4MMPP5QxRmvWrCn28crzOpGTk6NWrVrpmWeeCe5jc4Bl81he6+TJk2ratKlatGhRpa4ofb3vBw4dOlTsarVly5bJGKOdO3dKkh577DFFR0cXeT/NmjXTAw88UIEjsIMX43it77//Xh07dlRcXJyOHj1asQOwiFdjmZKSov79+wf/T4CFykaAVUGswPLWkCFDVLt2beXl5bECq4JYgeWd8gZYFy5cUM2aNR3ncWOsS3f8+HG1aNFCzZo1cxShPKeBqidwKoGytD179kjybtXQrFmzFBcXp2+//Ta4j80Bls1jebXz58+rc+fOqlevnuMqslUBK7Dc4fUKrLy8PN1///2qXbu2Pvzww4ofgEW8GMt33nlHtWrV0tdffx3chwALlY0Aq4I4B5a3AoXPuXPnOAdWBbl1Diy/38/5gkpR3gBLulKM/vSnPw3+n7Eu2dmzZ9WxY0c1aNAg5ATsPKeBquf48eNavnx5mdrZs2cleXPeprNnzyo2NlaTJk1SZmZmsA0cOFB+v1+ZmZkh5ygKN1vH8mo5OTnq1auXfD6fPv744wocbXhwDix3eH0OrJ9NCNS9AAALDklEQVT97GeqUaOG3nrrrYp33jJejGWzZs30yCOPOF4LA1ch/Oyzz26oFW2wBwFWBU2YMKHIKzwEvgLEVQjdNXDgQEVFRSk/P19nz54t8SqERX1yiEIlhSoJCQnFXj3o6k9zFixYIGNCr9j25ptvFrs6rjoqb4D13XffqUaNGnriiSeC2xjr4l28eFHdunWT3+/Xli1bityH5zRw4xs0aFCRV84bNWpUma6cV5bXiczMzFJXMd0IX+XyYiwD8vPz9dBDDykiIkLvvfdexTsfBhV5P/DDH/6wyCu+3XvvvY4VwX/+859lTOhVCDdv3lzsireqxotxvPqxjDF67bXXKt5xC3kxlqW9Fnbo0MG9AwL+HwFWBW3dulXGGM2ZMye47dKlS2rZsqXuuOOOMPasajt16lTIts8//1y1atXSgAEDgtvuu+8+NWnSxPGpSuDTwf/5n//xpK9VVUmhylNPPaXo6GjH5Bb4xGbRokXBbYcPH1atWrU0ZsyY4LaCggJ169ZNN9988w1zJZeKKm6sL168WOQngoGVhqtXrw5uY6yLlpeXpwEDBigyMjKkqL8az2ngxvfOO+/IGKNVq1YFt2VlZal+/fp66KGHHPtmZGQoIyPDsa0srxPff/+91qxZE9LuueceRUVFac2aNdq6dWslHqU3vBjLgKefflrGGKWlpVXCkXijrO8HDh48GPyaZsCsWbNkjHFcafurr75SRESEJk+eHNx24cIFNWjQwHG+IenKqja/3+/4SmtV5cU4StIrr7wiY4yef/75SjqS8PNiLIt6LXzooYeCgepHH31UiUeI6ooAywWDBw8OrgRKS0tT165dFRkZqU8++STcXauy7rnnHvXt21cvv/yylixZovHjx8vv96tevXpKT08P7rdjxw75fD7dfvvtWrRokV544QVFRUWpV69eYey93ebPn6/U1FSNHj1axhg9+OCDSk1NVWpqavCrA4cOHVJ8fLySk5M1b948zZw5U3FxcWrfvn3Ip66BsOWJJ57Q0qVL1a9fPxlj9Oabb4bj8KxS2lhnZmaqfv36Gj16tF5//XW9/vrr6tu3r4wxuu+++0I++WasQwWWqt9///1asWJFSAvgOQ3c+PLy8nTnnXcqNjZWL730khYuXKh27dqpTp06Iee/SUpKUlJSkmNbeV4nrmXzObCuh1djOXfuXBlj1KVLlyJfw8+fP+/F4bqiLO8HUlJSZIzz7dd3332n5ORkNWrUSK+88ormzp2rZs2a6aabbgr5QDdwDqJBgwZp6dKlevTRR2WM0YwZMzw5Ri9U9jiuXr1axhi1atWqyOfciRMnPDvWyubFc/JanAMLlY0AywUXL17UhAkTlJiYKJ/Pp86dO5d4ckuU7vXXX9ePfvQjNWjQQJGRkWrSpImGDRumffv2hey7adMmde3aVVFRUUpISNCYMWOKXNWCK5KSkopd6puZmRnc78svv1SvXr3k9/tVv359DR06tMhJPT8/XzNnzlRSUpJq166tdu3aaeXKlR4ekb1KG+szZ85o2LBhatmypfx+v3w+n9q1a6eZM2cqNzc35P4Y61CBwqu4djWe08CN7/Tp0xo5cqTi4+Pl9/uVkpLiWEUQUFToIpX9deJaN1qAJXkzliNGjCjxNfzqusR2ZXk/UFRYIF1Z/Tto0CDVrVtXsbGx6t+/f5E1ryQtWbJEbdq0Ue3atZWcnKy5c+eGnLexKqvscQwELMW1DRs2VObhecqr5+TVCLBQ2QiwAAAAAAAAYDUCLAAAAAAAAFiNAAsAAAAAAABWI8ACAAAAAACA1QiwAAAAAAAAYDUCLAAAAAAAAFiNAAsAAAAAAABWI8ACAAAAAACA1QiwAAAAAAAAYDUCLAAAAAAAAFiNAAtAtbd8+XIZY7R9+/ZwdwUAAKBE1C0AqisCLACeCBRbxbVPP/007H2jEAQAABJ1CwDYiAALgCcCxdb06dO1YsWKkJaVlRX2vlEIAgAAiboFAGxEgAXAEzYXWzb3DQAAeM/m2sDmvgFAZSLAAuCJshRbmZmZMsZozpw5evXVV9W8eXNFRUXpxz/+sb744ouQ/T/88EPdfffd8vv9qlevngYMGKD09PSQ/Y4cOaLHHntMTZo0Ue3atXXLLbfoqaeeUk5OjqNvf/3rX/Xss8+qYcOG8vv9+slPfqJTp0457mv79u3q1auX4uPjFRUVpVtuuUU/+9nPKjg6AADAJtQtAGAfAiwAnggUW+vXr1dWVpajffPNN5IKC8H27dvrlltu0ezZs/XSSy+pQYMGSkhI0IkTJ4L3t27dOkVGRqp169Z65ZVX9NJLL6lhw4aKi4tTZmZmcL+jR4/qpptukt/v1/jx47V48WK9+OKLuvXWW3XmzBlH326//Xb16NFD8+fP1y9/+UtFRETo3//934P3dfLkScXFxal169aaM2eOli5dqhdeeEG33nqrN4MIAAA8Qd0CAPYhwALgiZJOhurz+SQVFoLR0dE6cuRI8Lbbtm2TMUbPPvtscFvHjh3VqFEjffvtt8Ftu3btUs2aNfXoo48Gtz366KOqWbNmkZ+gFhQUOPrWs2fP4DZJevbZZxUREaGzZ89KktasWcOSfQAAqgHqFgCwDwEWAE8Eiq2FCxdq3bp1jvbRRx9JKiwEH3744ZDb33HHHWrTpo0k6dixYzLGaNKkSSH79e7dWw0bNpQk5efnq27dunrggQfK1Lc//vGPju2rV6+WMUa7du2SJG3YsEHGGE2dOlW5ubnlHwQAAFAlULcAgH0IsAB4ojznkvjVr34V8rPhw4cHP/H89NNPZYzRsmXLQvYbP368jDE6f/68Tpw4IWOMXnjhhTL1bevWrY7tgcLv448/lnTlk8+BAwfKGKO6detqwIAB+t3vfqdLly6VevwAAKDqoG4BAPsQYAHwRFUoBK/tW6AQ3LBhg2P7p59+queff14/+MEPZIxRu3btlJ2dXeJjAACAqoO6BQDsQ4AFwBPlKQQrshT/vvvuu+6l+GUtBK/25ptvyhijpUuXlvgYAACg6qBuAQD7EGAB8ER5CsHiToY6fvz44LaOHTuqcePGwSvySNIXX3xRoZOhllYInj592nGyVEnavXu3jDFasGBBGUYBAABUBdQtAGAfAiwAnggUW9OnT9eKFStC2v79+4u8HPX06dPVoEEDxcfH69ixY8H7C1yOum3btpozZ46mT5+uhIQExcXF6cCBA8H9jhw5osTExODlqNPS0jRt2jS1a9cu5HLUpRWCc+fOVatWrTRp0iSlpaXpP//zP9WmTRvVrVvX8ZgAAKBqo24BAPsQYAHwREmXozbGaPny5cFCcM6cOfrNb36jZs2ayefzqVu3bsEr6lxt/fr1uuuuuxQdHa26devq/vvvV3p6esh+Bw8e1KOPPqqEhAT5fD61aNFCY8aMUU5OjqNvpRWCn332mR5++GE1b95cPp9PjRo1Uv/+/fX3v//d/QEDAABhQ90CAPYhwAJgjasLQQAAAJtRtwCAtwiwAFiDQhAAAFQV1C0A4C0CLADWoBAEAABVBXULAHiLAAuANSgEAQBAVUHdAgDeIsACAAAAAACA1QiwAAAAAAAAYDUCLAAAAAAAAFiNAAsAAAAAAABWI8ACAAAAAACA1QiwAAAAAAAAYDUCLAAAAAAAAFiNAAsAAAAAAABWI8ACAAAAAACA1QiwAAAAAAAAYDUCLAAAAAAAAFiNAAsAAAAAAABWI8ACAAAAAACA1QiwAAAAAAAAYDUCLAAAAAAAAFiNAAsAAAAAAABW+z/oStqmQxFKbAAAAABJRU5ErkJggg==\" width=\"1000\">"
      ],
      "text/plain": [
       "<IPython.core.display.HTML object>"
      ]
     },
     "metadata": {},
     "output_type": "display_data"
    }
   ],
   "source": [
    "ax, tax, lax, lines = dual_train_plots()\n",
    "fig = ax.figure\n",
    "plt.tight_layout()"
   ]
  },
  {
   "cell_type": "code",
   "execution_count": 18,
   "metadata": {
    "scrolled": false
   },
   "outputs": [
    {
     "name": "stdout",
     "output_type": "stream",
     "text": [
      "Number of batches: train = 5000, val = 313\n"
     ]
    },
    {
     "data": {
      "application/vnd.jupyter.widget-view+json": {
       "model_id": "f5cc70d7ee4049fe82cbd907e36e87dc",
       "version_major": 2,
       "version_minor": 0
      },
      "text/plain": [
       "HBox(children=(FloatProgress(value=0.0, description='Epochs', layout=Layout(flex='2'), max=250.0, style=Progre…"
      ]
     },
     "metadata": {},
     "output_type": "display_data"
    },
    {
     "name": "stdout",
     "output_type": "stream",
     "text": [
      "Number of batches: train = 5000, val = 313\n"
     ]
    },
    {
     "data": {
      "application/vnd.jupyter.widget-view+json": {
       "model_id": "",
       "version_major": 2,
       "version_minor": 0
      },
      "text/plain": [
       "HBox(children=(FloatProgress(value=0.0, description='Training', layout=Layout(flex='2'), max=5000.0, style=Pro…"
      ]
     },
     "metadata": {},
     "output_type": "display_data"
    },
    {
     "name": "stdout",
     "output_type": "stream",
     "text": [
      "Epoch 0: train=3.94415, val=3.72464, took 171.81 s\n"
     ]
    },
    {
     "data": {
      "application/vnd.jupyter.widget-view+json": {
       "model_id": "",
       "version_major": 2,
       "version_minor": 0
      },
      "text/plain": [
       "HBox(children=(FloatProgress(value=0.0, description='Training', layout=Layout(flex='2'), max=5000.0, style=Pro…"
      ]
     },
     "metadata": {},
     "output_type": "display_data"
    },
    {
     "name": "stdout",
     "output_type": "stream",
     "text": [
      "Epoch 1: train=3.93926, val=3.71417, took 168.73 s\n"
     ]
    },
    {
     "data": {
      "application/vnd.jupyter.widget-view+json": {
       "model_id": "",
       "version_major": 2,
       "version_minor": 0
      },
      "text/plain": [
       "HBox(children=(FloatProgress(value=0.0, description='Training', layout=Layout(flex='2'), max=5000.0, style=Pro…"
      ]
     },
     "metadata": {},
     "output_type": "display_data"
    },
    {
     "name": "stdout",
     "output_type": "stream",
     "text": [
      "Epoch 2: train=3.93642, val=3.69705, took 171.03 s\n"
     ]
    },
    {
     "data": {
      "application/vnd.jupyter.widget-view+json": {
       "model_id": "",
       "version_major": 2,
       "version_minor": 0
      },
      "text/plain": [
       "HBox(children=(FloatProgress(value=0.0, description='Training', layout=Layout(flex='2'), max=5000.0, style=Pro…"
      ]
     },
     "metadata": {},
     "output_type": "display_data"
    },
    {
     "name": "stdout",
     "output_type": "stream",
     "text": [
      "Epoch 3: train=3.93529, val=3.75587, took 166.27 s\n"
     ]
    },
    {
     "data": {
      "application/vnd.jupyter.widget-view+json": {
       "model_id": "",
       "version_major": 2,
       "version_minor": 0
      },
      "text/plain": [
       "HBox(children=(FloatProgress(value=0.0, description='Training', layout=Layout(flex='2'), max=5000.0, style=Pro…"
      ]
     },
     "metadata": {},
     "output_type": "display_data"
    },
    {
     "name": "stdout",
     "output_type": "stream",
     "text": [
      "Epoch 4: train=3.93357, val=3.76667, took 170.78 s\n"
     ]
    },
    {
     "data": {
      "application/vnd.jupyter.widget-view+json": {
       "model_id": "",
       "version_major": 2,
       "version_minor": 0
      },
      "text/plain": [
       "HBox(children=(FloatProgress(value=0.0, description='Training', layout=Layout(flex='2'), max=5000.0, style=Pro…"
      ]
     },
     "metadata": {},
     "output_type": "display_data"
    },
    {
     "name": "stdout",
     "output_type": "stream",
     "text": [
      "Epoch 5: train=3.93239, val=3.7314, took 168.04 s\n"
     ]
    },
    {
     "data": {
      "application/vnd.jupyter.widget-view+json": {
       "model_id": "",
       "version_major": 2,
       "version_minor": 0
      },
      "text/plain": [
       "HBox(children=(FloatProgress(value=0.0, description='Training', layout=Layout(flex='2'), max=5000.0, style=Pro…"
      ]
     },
     "metadata": {},
     "output_type": "display_data"
    },
    {
     "name": "stdout",
     "output_type": "stream",
     "text": [
      "Epoch 6: train=3.92986, val=3.73694, took 169.16 s\n"
     ]
    },
    {
     "data": {
      "application/vnd.jupyter.widget-view+json": {
       "model_id": "",
       "version_major": 2,
       "version_minor": 0
      },
      "text/plain": [
       "HBox(children=(FloatProgress(value=0.0, description='Training', layout=Layout(flex='2'), max=5000.0, style=Pro…"
      ]
     },
     "metadata": {},
     "output_type": "display_data"
    },
    {
     "name": "stdout",
     "output_type": "stream",
     "text": [
      "Epoch 7: train=3.92878, val=3.71684, took 162.35 s\n"
     ]
    },
    {
     "data": {
      "application/vnd.jupyter.widget-view+json": {
       "model_id": "",
       "version_major": 2,
       "version_minor": 0
      },
      "text/plain": [
       "HBox(children=(FloatProgress(value=0.0, description='Training', layout=Layout(flex='2'), max=5000.0, style=Pro…"
      ]
     },
     "metadata": {},
     "output_type": "display_data"
    },
    {
     "name": "stdout",
     "output_type": "stream",
     "text": [
      "Epoch 8: train=3.92664, val=3.69945, took 166.55 s\n"
     ]
    },
    {
     "data": {
      "application/vnd.jupyter.widget-view+json": {
       "model_id": "",
       "version_major": 2,
       "version_minor": 0
      },
      "text/plain": [
       "HBox(children=(FloatProgress(value=0.0, description='Training', layout=Layout(flex='2'), max=5000.0, style=Pro…"
      ]
     },
     "metadata": {},
     "output_type": "display_data"
    },
    {
     "name": "stdout",
     "output_type": "stream",
     "text": [
      "Epoch 9: train=3.92505, val=3.67067, took 168.4 s\n"
     ]
    },
    {
     "data": {
      "application/vnd.jupyter.widget-view+json": {
       "model_id": "",
       "version_major": 2,
       "version_minor": 0
      },
      "text/plain": [
       "HBox(children=(FloatProgress(value=0.0, description='Training', layout=Layout(flex='2'), max=5000.0, style=Pro…"
      ]
     },
     "metadata": {},
     "output_type": "display_data"
    },
    {
     "name": "stdout",
     "output_type": "stream",
     "text": [
      "Epoch 10: train=3.92304, val=3.72365, took 167.61 s\n"
     ]
    },
    {
     "data": {
      "application/vnd.jupyter.widget-view+json": {
       "model_id": "",
       "version_major": 2,
       "version_minor": 0
      },
      "text/plain": [
       "HBox(children=(FloatProgress(value=0.0, description='Training', layout=Layout(flex='2'), max=5000.0, style=Pro…"
      ]
     },
     "metadata": {},
     "output_type": "display_data"
    },
    {
     "name": "stdout",
     "output_type": "stream",
     "text": [
      "Epoch 11: train=3.91802, val=3.67828, took 167.81 s\n"
     ]
    },
    {
     "data": {
      "application/vnd.jupyter.widget-view+json": {
       "model_id": "",
       "version_major": 2,
       "version_minor": 0
      },
      "text/plain": [
       "HBox(children=(FloatProgress(value=0.0, description='Training', layout=Layout(flex='2'), max=5000.0, style=Pro…"
      ]
     },
     "metadata": {},
     "output_type": "display_data"
    },
    {
     "name": "stdout",
     "output_type": "stream",
     "text": [
      "Epoch 12: train=3.91322, val=3.72603, took 168.39 s\n"
     ]
    },
    {
     "data": {
      "application/vnd.jupyter.widget-view+json": {
       "model_id": "",
       "version_major": 2,
       "version_minor": 0
      },
      "text/plain": [
       "HBox(children=(FloatProgress(value=0.0, description='Training', layout=Layout(flex='2'), max=5000.0, style=Pro…"
      ]
     },
     "metadata": {},
     "output_type": "display_data"
    },
    {
     "name": "stdout",
     "output_type": "stream",
     "text": [
      "Epoch 13: train=3.91567, val=3.68768, took 166.08 s\n"
     ]
    },
    {
     "data": {
      "application/vnd.jupyter.widget-view+json": {
       "model_id": "",
       "version_major": 2,
       "version_minor": 0
      },
      "text/plain": [
       "HBox(children=(FloatProgress(value=0.0, description='Training', layout=Layout(flex='2'), max=5000.0, style=Pro…"
      ]
     },
     "metadata": {},
     "output_type": "display_data"
    },
    {
     "name": "stdout",
     "output_type": "stream",
     "text": [
      "Epoch 14: train=3.91028, val=3.80392, took 167.66 s\n"
     ]
    },
    {
     "data": {
      "application/vnd.jupyter.widget-view+json": {
       "model_id": "",
       "version_major": 2,
       "version_minor": 0
      },
      "text/plain": [
       "HBox(children=(FloatProgress(value=0.0, description='Training', layout=Layout(flex='2'), max=5000.0, style=Pro…"
      ]
     },
     "metadata": {},
     "output_type": "display_data"
    },
    {
     "name": "stdout",
     "output_type": "stream",
     "text": [
      "Epoch 15: train=3.90986, val=3.66738, took 174.91 s\n"
     ]
    },
    {
     "data": {
      "application/vnd.jupyter.widget-view+json": {
       "model_id": "",
       "version_major": 2,
       "version_minor": 0
      },
      "text/plain": [
       "HBox(children=(FloatProgress(value=0.0, description='Training', layout=Layout(flex='2'), max=5000.0, style=Pro…"
      ]
     },
     "metadata": {},
     "output_type": "display_data"
    },
    {
     "name": "stdout",
     "output_type": "stream",
     "text": [
      "Epoch 16: train=3.90749, val=3.75594, took 165.62 s\n"
     ]
    },
    {
     "data": {
      "application/vnd.jupyter.widget-view+json": {
       "model_id": "",
       "version_major": 2,
       "version_minor": 0
      },
      "text/plain": [
       "HBox(children=(FloatProgress(value=0.0, description='Training', layout=Layout(flex='2'), max=5000.0, style=Pro…"
      ]
     },
     "metadata": {},
     "output_type": "display_data"
    },
    {
     "name": "stdout",
     "output_type": "stream",
     "text": [
      "Epoch 17: train=3.90843, val=3.67962, took 167.27 s\n"
     ]
    },
    {
     "data": {
      "application/vnd.jupyter.widget-view+json": {
       "model_id": "",
       "version_major": 2,
       "version_minor": 0
      },
      "text/plain": [
       "HBox(children=(FloatProgress(value=0.0, description='Training', layout=Layout(flex='2'), max=5000.0, style=Pro…"
      ]
     },
     "metadata": {},
     "output_type": "display_data"
    },
    {
     "name": "stdout",
     "output_type": "stream",
     "text": [
      "Epoch 18: train=3.90704, val=3.67628, took 166.63 s\n"
     ]
    },
    {
     "data": {
      "application/vnd.jupyter.widget-view+json": {
       "model_id": "",
       "version_major": 2,
       "version_minor": 0
      },
      "text/plain": [
       "HBox(children=(FloatProgress(value=0.0, description='Training', layout=Layout(flex='2'), max=5000.0, style=Pro…"
      ]
     },
     "metadata": {},
     "output_type": "display_data"
    },
    {
     "name": "stdout",
     "output_type": "stream",
     "text": [
      "Epoch 19: train=3.90316, val=3.64388, took 168.05 s\n"
     ]
    },
    {
     "data": {
      "application/vnd.jupyter.widget-view+json": {
       "model_id": "",
       "version_major": 2,
       "version_minor": 0
      },
      "text/plain": [
       "HBox(children=(FloatProgress(value=0.0, description='Training', layout=Layout(flex='2'), max=5000.0, style=Pro…"
      ]
     },
     "metadata": {},
     "output_type": "display_data"
    },
    {
     "name": "stdout",
     "output_type": "stream",
     "text": [
      "Epoch 20: train=3.90033, val=3.65937, took 167.35 s\n"
     ]
    },
    {
     "data": {
      "application/vnd.jupyter.widget-view+json": {
       "model_id": "",
       "version_major": 2,
       "version_minor": 0
      },
      "text/plain": [
       "HBox(children=(FloatProgress(value=0.0, description='Training', layout=Layout(flex='2'), max=5000.0, style=Pro…"
      ]
     },
     "metadata": {},
     "output_type": "display_data"
    },
    {
     "name": "stdout",
     "output_type": "stream",
     "text": [
      "Epoch 21: train=3.89848, val=3.67209, took 171.42 s\n"
     ]
    },
    {
     "data": {
      "application/vnd.jupyter.widget-view+json": {
       "model_id": "",
       "version_major": 2,
       "version_minor": 0
      },
      "text/plain": [
       "HBox(children=(FloatProgress(value=0.0, description='Training', layout=Layout(flex='2'), max=5000.0, style=Pro…"
      ]
     },
     "metadata": {},
     "output_type": "display_data"
    },
    {
     "name": "stdout",
     "output_type": "stream",
     "text": [
      "Epoch 22: train=3.89808, val=3.72975, took 165.25 s\n"
     ]
    },
    {
     "data": {
      "application/vnd.jupyter.widget-view+json": {
       "model_id": "",
       "version_major": 2,
       "version_minor": 0
      },
      "text/plain": [
       "HBox(children=(FloatProgress(value=0.0, description='Training', layout=Layout(flex='2'), max=5000.0, style=Pro…"
      ]
     },
     "metadata": {},
     "output_type": "display_data"
    },
    {
     "name": "stdout",
     "output_type": "stream",
     "text": [
      "Epoch 23: train=3.89615, val=3.71561, took 168.55 s\n"
     ]
    },
    {
     "data": {
      "application/vnd.jupyter.widget-view+json": {
       "model_id": "",
       "version_major": 2,
       "version_minor": 0
      },
      "text/plain": [
       "HBox(children=(FloatProgress(value=0.0, description='Training', layout=Layout(flex='2'), max=5000.0, style=Pro…"
      ]
     },
     "metadata": {},
     "output_type": "display_data"
    },
    {
     "name": "stdout",
     "output_type": "stream",
     "text": [
      "Epoch 24: train=3.89525, val=3.69925, took 166.06 s\n"
     ]
    },
    {
     "data": {
      "application/vnd.jupyter.widget-view+json": {
       "model_id": "",
       "version_major": 2,
       "version_minor": 0
      },
      "text/plain": [
       "HBox(children=(FloatProgress(value=0.0, description='Training', layout=Layout(flex='2'), max=5000.0, style=Pro…"
      ]
     },
     "metadata": {},
     "output_type": "display_data"
    },
    {
     "name": "stdout",
     "output_type": "stream",
     "text": [
      "Epoch 25: train=3.89112, val=3.7012, took 169.29 s\n"
     ]
    },
    {
     "data": {
      "application/vnd.jupyter.widget-view+json": {
       "model_id": "",
       "version_major": 2,
       "version_minor": 0
      },
      "text/plain": [
       "HBox(children=(FloatProgress(value=0.0, description='Training', layout=Layout(flex='2'), max=5000.0, style=Pro…"
      ]
     },
     "metadata": {},
     "output_type": "display_data"
    },
    {
     "name": "stdout",
     "output_type": "stream",
     "text": [
      "Epoch 26: train=3.88872, val=3.65845, took 169.36 s\n"
     ]
    },
    {
     "data": {
      "application/vnd.jupyter.widget-view+json": {
       "model_id": "",
       "version_major": 2,
       "version_minor": 0
      },
      "text/plain": [
       "HBox(children=(FloatProgress(value=0.0, description='Training', layout=Layout(flex='2'), max=5000.0, style=Pro…"
      ]
     },
     "metadata": {},
     "output_type": "display_data"
    },
    {
     "name": "stdout",
     "output_type": "stream",
     "text": [
      "Epoch 27: train=3.88704, val=3.64655, took 165.97 s\n"
     ]
    },
    {
     "data": {
      "application/vnd.jupyter.widget-view+json": {
       "model_id": "",
       "version_major": 2,
       "version_minor": 0
      },
      "text/plain": [
       "HBox(children=(FloatProgress(value=0.0, description='Training', layout=Layout(flex='2'), max=5000.0, style=Pro…"
      ]
     },
     "metadata": {},
     "output_type": "display_data"
    },
    {
     "name": "stdout",
     "output_type": "stream",
     "text": [
      "Epoch 28: train=3.88946, val=3.63816, took 165.73 s\n"
     ]
    },
    {
     "data": {
      "application/vnd.jupyter.widget-view+json": {
       "model_id": "",
       "version_major": 2,
       "version_minor": 0
      },
      "text/plain": [
       "HBox(children=(FloatProgress(value=0.0, description='Training', layout=Layout(flex='2'), max=5000.0, style=Pro…"
      ]
     },
     "metadata": {},
     "output_type": "display_data"
    },
    {
     "name": "stdout",
     "output_type": "stream",
     "text": [
      "Epoch 29: train=3.88523, val=3.67176, took 166.69 s\n"
     ]
    },
    {
     "data": {
      "application/vnd.jupyter.widget-view+json": {
       "model_id": "",
       "version_major": 2,
       "version_minor": 0
      },
      "text/plain": [
       "HBox(children=(FloatProgress(value=0.0, description='Training', layout=Layout(flex='2'), max=5000.0, style=Pro…"
      ]
     },
     "metadata": {},
     "output_type": "display_data"
    },
    {
     "name": "stdout",
     "output_type": "stream",
     "text": [
      "Epoch 30: train=3.8818, val=3.63856, took 165.02 s\n"
     ]
    },
    {
     "data": {
      "application/vnd.jupyter.widget-view+json": {
       "model_id": "",
       "version_major": 2,
       "version_minor": 0
      },
      "text/plain": [
       "HBox(children=(FloatProgress(value=0.0, description='Training', layout=Layout(flex='2'), max=5000.0, style=Pro…"
      ]
     },
     "metadata": {},
     "output_type": "display_data"
    },
    {
     "name": "stdout",
     "output_type": "stream",
     "text": [
      "Epoch 31: train=3.88319, val=3.7557, took 167.41 s\n"
     ]
    },
    {
     "data": {
      "application/vnd.jupyter.widget-view+json": {
       "model_id": "",
       "version_major": 2,
       "version_minor": 0
      },
      "text/plain": [
       "HBox(children=(FloatProgress(value=0.0, description='Training', layout=Layout(flex='2'), max=5000.0, style=Pro…"
      ]
     },
     "metadata": {},
     "output_type": "display_data"
    },
    {
     "name": "stdout",
     "output_type": "stream",
     "text": [
      "Epoch 32: train=3.88196, val=3.76918, took 167.36 s\n"
     ]
    },
    {
     "data": {
      "application/vnd.jupyter.widget-view+json": {
       "model_id": "",
       "version_major": 2,
       "version_minor": 0
      },
      "text/plain": [
       "HBox(children=(FloatProgress(value=0.0, description='Training', layout=Layout(flex='2'), max=5000.0, style=Pro…"
      ]
     },
     "metadata": {},
     "output_type": "display_data"
    },
    {
     "name": "stdout",
     "output_type": "stream",
     "text": [
      "Epoch 33: train=3.87712, val=3.65616, took 165.97 s\n"
     ]
    },
    {
     "data": {
      "application/vnd.jupyter.widget-view+json": {
       "model_id": "",
       "version_major": 2,
       "version_minor": 0
      },
      "text/plain": [
       "HBox(children=(FloatProgress(value=0.0, description='Training', layout=Layout(flex='2'), max=5000.0, style=Pro…"
      ]
     },
     "metadata": {},
     "output_type": "display_data"
    },
    {
     "name": "stdout",
     "output_type": "stream",
     "text": [
      "Epoch 34: train=3.87506, val=3.72155, took 169.2 s\n"
     ]
    },
    {
     "data": {
      "application/vnd.jupyter.widget-view+json": {
       "model_id": "",
       "version_major": 2,
       "version_minor": 0
      },
      "text/plain": [
       "HBox(children=(FloatProgress(value=0.0, description='Training', layout=Layout(flex='2'), max=5000.0, style=Pro…"
      ]
     },
     "metadata": {},
     "output_type": "display_data"
    },
    {
     "name": "stdout",
     "output_type": "stream",
     "text": [
      "Epoch 35: train=3.87504, val=3.68114, took 170.46 s\n"
     ]
    },
    {
     "data": {
      "application/vnd.jupyter.widget-view+json": {
       "model_id": "",
       "version_major": 2,
       "version_minor": 0
      },
      "text/plain": [
       "HBox(children=(FloatProgress(value=0.0, description='Training', layout=Layout(flex='2'), max=5000.0, style=Pro…"
      ]
     },
     "metadata": {},
     "output_type": "display_data"
    },
    {
     "name": "stdout",
     "output_type": "stream",
     "text": [
      "Epoch 36: train=3.8737, val=3.63601, took 172.52 s\n"
     ]
    },
    {
     "data": {
      "application/vnd.jupyter.widget-view+json": {
       "model_id": "",
       "version_major": 2,
       "version_minor": 0
      },
      "text/plain": [
       "HBox(children=(FloatProgress(value=0.0, description='Training', layout=Layout(flex='2'), max=5000.0, style=Pro…"
      ]
     },
     "metadata": {},
     "output_type": "display_data"
    },
    {
     "name": "stdout",
     "output_type": "stream",
     "text": [
      "Epoch 37: train=3.87148, val=3.62187, took 167.93 s\n"
     ]
    },
    {
     "data": {
      "application/vnd.jupyter.widget-view+json": {
       "model_id": "",
       "version_major": 2,
       "version_minor": 0
      },
      "text/plain": [
       "HBox(children=(FloatProgress(value=0.0, description='Training', layout=Layout(flex='2'), max=5000.0, style=Pro…"
      ]
     },
     "metadata": {},
     "output_type": "display_data"
    },
    {
     "name": "stdout",
     "output_type": "stream",
     "text": [
      "Epoch 38: train=3.86692, val=3.64342, took 169.73 s\n"
     ]
    },
    {
     "data": {
      "application/vnd.jupyter.widget-view+json": {
       "model_id": "",
       "version_major": 2,
       "version_minor": 0
      },
      "text/plain": [
       "HBox(children=(FloatProgress(value=0.0, description='Training', layout=Layout(flex='2'), max=5000.0, style=Pro…"
      ]
     },
     "metadata": {},
     "output_type": "display_data"
    },
    {
     "name": "stdout",
     "output_type": "stream",
     "text": [
      "Epoch 39: train=3.86906, val=3.77271, took 167.82 s\n"
     ]
    },
    {
     "data": {
      "application/vnd.jupyter.widget-view+json": {
       "model_id": "",
       "version_major": 2,
       "version_minor": 0
      },
      "text/plain": [
       "HBox(children=(FloatProgress(value=0.0, description='Training', layout=Layout(flex='2'), max=5000.0, style=Pro…"
      ]
     },
     "metadata": {},
     "output_type": "display_data"
    },
    {
     "name": "stdout",
     "output_type": "stream",
     "text": [
      "Epoch 40: train=3.86972, val=3.61234, took 172.03 s\n"
     ]
    },
    {
     "data": {
      "application/vnd.jupyter.widget-view+json": {
       "model_id": "",
       "version_major": 2,
       "version_minor": 0
      },
      "text/plain": [
       "HBox(children=(FloatProgress(value=0.0, description='Training', layout=Layout(flex='2'), max=5000.0, style=Pro…"
      ]
     },
     "metadata": {},
     "output_type": "display_data"
    },
    {
     "name": "stdout",
     "output_type": "stream",
     "text": [
      "Epoch 41: train=3.86345, val=3.64754, took 174.84 s\n"
     ]
    },
    {
     "data": {
      "application/vnd.jupyter.widget-view+json": {
       "model_id": "",
       "version_major": 2,
       "version_minor": 0
      },
      "text/plain": [
       "HBox(children=(FloatProgress(value=0.0, description='Training', layout=Layout(flex='2'), max=5000.0, style=Pro…"
      ]
     },
     "metadata": {},
     "output_type": "display_data"
    },
    {
     "name": "stdout",
     "output_type": "stream",
     "text": [
      "Epoch 42: train=3.86583, val=3.6196, took 167.95 s\n"
     ]
    },
    {
     "data": {
      "application/vnd.jupyter.widget-view+json": {
       "model_id": "",
       "version_major": 2,
       "version_minor": 0
      },
      "text/plain": [
       "HBox(children=(FloatProgress(value=0.0, description='Training', layout=Layout(flex='2'), max=5000.0, style=Pro…"
      ]
     },
     "metadata": {},
     "output_type": "display_data"
    },
    {
     "name": "stdout",
     "output_type": "stream",
     "text": [
      "Epoch 43: train=3.86387, val=3.70506, took 165.25 s\n"
     ]
    },
    {
     "data": {
      "application/vnd.jupyter.widget-view+json": {
       "model_id": "",
       "version_major": 2,
       "version_minor": 0
      },
      "text/plain": [
       "HBox(children=(FloatProgress(value=0.0, description='Training', layout=Layout(flex='2'), max=5000.0, style=Pro…"
      ]
     },
     "metadata": {},
     "output_type": "display_data"
    },
    {
     "name": "stdout",
     "output_type": "stream",
     "text": [
      "Epoch 44: train=3.85806, val=3.60374, took 167.67 s\n"
     ]
    },
    {
     "data": {
      "application/vnd.jupyter.widget-view+json": {
       "model_id": "",
       "version_major": 2,
       "version_minor": 0
      },
      "text/plain": [
       "HBox(children=(FloatProgress(value=0.0, description='Training', layout=Layout(flex='2'), max=5000.0, style=Pro…"
      ]
     },
     "metadata": {},
     "output_type": "display_data"
    },
    {
     "name": "stdout",
     "output_type": "stream",
     "text": [
      "Epoch 45: train=3.85962, val=3.7359, took 168.67 s\n"
     ]
    },
    {
     "data": {
      "application/vnd.jupyter.widget-view+json": {
       "model_id": "",
       "version_major": 2,
       "version_minor": 0
      },
      "text/plain": [
       "HBox(children=(FloatProgress(value=0.0, description='Training', layout=Layout(flex='2'), max=5000.0, style=Pro…"
      ]
     },
     "metadata": {},
     "output_type": "display_data"
    },
    {
     "name": "stdout",
     "output_type": "stream",
     "text": [
      "Epoch 46: train=3.86364, val=3.6413, took 167.87 s\n"
     ]
    },
    {
     "data": {
      "application/vnd.jupyter.widget-view+json": {
       "model_id": "",
       "version_major": 2,
       "version_minor": 0
      },
      "text/plain": [
       "HBox(children=(FloatProgress(value=0.0, description='Training', layout=Layout(flex='2'), max=5000.0, style=Pro…"
      ]
     },
     "metadata": {},
     "output_type": "display_data"
    },
    {
     "name": "stdout",
     "output_type": "stream",
     "text": [
      "Epoch 47: train=3.85512, val=3.63035, took 168.28 s\n"
     ]
    },
    {
     "data": {
      "application/vnd.jupyter.widget-view+json": {
       "model_id": "",
       "version_major": 2,
       "version_minor": 0
      },
      "text/plain": [
       "HBox(children=(FloatProgress(value=0.0, description='Training', layout=Layout(flex='2'), max=5000.0, style=Pro…"
      ]
     },
     "metadata": {},
     "output_type": "display_data"
    },
    {
     "name": "stdout",
     "output_type": "stream",
     "text": [
      "Epoch 48: train=3.85284, val=3.60659, took 168.84 s\n"
     ]
    },
    {
     "data": {
      "application/vnd.jupyter.widget-view+json": {
       "model_id": "",
       "version_major": 2,
       "version_minor": 0
      },
      "text/plain": [
       "HBox(children=(FloatProgress(value=0.0, description='Training', layout=Layout(flex='2'), max=5000.0, style=Pro…"
      ]
     },
     "metadata": {},
     "output_type": "display_data"
    },
    {
     "name": "stdout",
     "output_type": "stream",
     "text": [
      "Epoch 49: train=3.85059, val=3.72967, took 167.69 s\n"
     ]
    },
    {
     "data": {
      "application/vnd.jupyter.widget-view+json": {
       "model_id": "",
       "version_major": 2,
       "version_minor": 0
      },
      "text/plain": [
       "HBox(children=(FloatProgress(value=0.0, description='Training', layout=Layout(flex='2'), max=5000.0, style=Pro…"
      ]
     },
     "metadata": {},
     "output_type": "display_data"
    },
    {
     "name": "stdout",
     "output_type": "stream",
     "text": [
      "Epoch 50: train=3.84911, val=3.59432, took 168.29 s\n"
     ]
    },
    {
     "data": {
      "application/vnd.jupyter.widget-view+json": {
       "model_id": "",
       "version_major": 2,
       "version_minor": 0
      },
      "text/plain": [
       "HBox(children=(FloatProgress(value=0.0, description='Training', layout=Layout(flex='2'), max=5000.0, style=Pro…"
      ]
     },
     "metadata": {},
     "output_type": "display_data"
    },
    {
     "name": "stdout",
     "output_type": "stream",
     "text": [
      "Epoch 51: train=3.84714, val=3.69995, took 166.65 s\n"
     ]
    },
    {
     "data": {
      "application/vnd.jupyter.widget-view+json": {
       "model_id": "",
       "version_major": 2,
       "version_minor": 0
      },
      "text/plain": [
       "HBox(children=(FloatProgress(value=0.0, description='Training', layout=Layout(flex='2'), max=5000.0, style=Pro…"
      ]
     },
     "metadata": {},
     "output_type": "display_data"
    },
    {
     "name": "stdout",
     "output_type": "stream",
     "text": [
      "Epoch 52: train=3.84794, val=3.59341, took 165.99 s\n"
     ]
    },
    {
     "data": {
      "application/vnd.jupyter.widget-view+json": {
       "model_id": "",
       "version_major": 2,
       "version_minor": 0
      },
      "text/plain": [
       "HBox(children=(FloatProgress(value=0.0, description='Training', layout=Layout(flex='2'), max=5000.0, style=Pro…"
      ]
     },
     "metadata": {},
     "output_type": "display_data"
    },
    {
     "name": "stdout",
     "output_type": "stream",
     "text": [
      "Epoch 53: train=3.84429, val=3.59412, took 163.0 s\n"
     ]
    },
    {
     "data": {
      "application/vnd.jupyter.widget-view+json": {
       "model_id": "",
       "version_major": 2,
       "version_minor": 0
      },
      "text/plain": [
       "HBox(children=(FloatProgress(value=0.0, description='Training', layout=Layout(flex='2'), max=5000.0, style=Pro…"
      ]
     },
     "metadata": {},
     "output_type": "display_data"
    },
    {
     "name": "stdout",
     "output_type": "stream",
     "text": [
      "Epoch 54: train=3.84432, val=3.6501, took 162.03 s\n"
     ]
    },
    {
     "data": {
      "application/vnd.jupyter.widget-view+json": {
       "model_id": "",
       "version_major": 2,
       "version_minor": 0
      },
      "text/plain": [
       "HBox(children=(FloatProgress(value=0.0, description='Training', layout=Layout(flex='2'), max=5000.0, style=Pro…"
      ]
     },
     "metadata": {},
     "output_type": "display_data"
    },
    {
     "name": "stdout",
     "output_type": "stream",
     "text": [
      "Epoch 55: train=3.84218, val=3.59609, took 168.5 s\n"
     ]
    },
    {
     "data": {
      "application/vnd.jupyter.widget-view+json": {
       "model_id": "",
       "version_major": 2,
       "version_minor": 0
      },
      "text/plain": [
       "HBox(children=(FloatProgress(value=0.0, description='Training', layout=Layout(flex='2'), max=5000.0, style=Pro…"
      ]
     },
     "metadata": {},
     "output_type": "display_data"
    },
    {
     "name": "stdout",
     "output_type": "stream",
     "text": [
      "Epoch 56: train=3.84033, val=3.66776, took 162.55 s\n"
     ]
    },
    {
     "data": {
      "application/vnd.jupyter.widget-view+json": {
       "model_id": "",
       "version_major": 2,
       "version_minor": 0
      },
      "text/plain": [
       "HBox(children=(FloatProgress(value=0.0, description='Training', layout=Layout(flex='2'), max=5000.0, style=Pro…"
      ]
     },
     "metadata": {},
     "output_type": "display_data"
    },
    {
     "name": "stdout",
     "output_type": "stream",
     "text": [
      "Epoch 57: train=3.83851, val=3.66681, took 166.42 s\n"
     ]
    },
    {
     "data": {
      "application/vnd.jupyter.widget-view+json": {
       "model_id": "",
       "version_major": 2,
       "version_minor": 0
      },
      "text/plain": [
       "HBox(children=(FloatProgress(value=0.0, description='Training', layout=Layout(flex='2'), max=5000.0, style=Pro…"
      ]
     },
     "metadata": {},
     "output_type": "display_data"
    },
    {
     "name": "stdout",
     "output_type": "stream",
     "text": [
      "Epoch 58: train=3.83857, val=3.74899, took 161.18 s\n"
     ]
    },
    {
     "data": {
      "application/vnd.jupyter.widget-view+json": {
       "model_id": "",
       "version_major": 2,
       "version_minor": 0
      },
      "text/plain": [
       "HBox(children=(FloatProgress(value=0.0, description='Training', layout=Layout(flex='2'), max=5000.0, style=Pro…"
      ]
     },
     "metadata": {},
     "output_type": "display_data"
    },
    {
     "name": "stdout",
     "output_type": "stream",
     "text": [
      "Epoch 59: train=3.83686, val=3.63326, took 161.37 s\n"
     ]
    },
    {
     "data": {
      "application/vnd.jupyter.widget-view+json": {
       "model_id": "",
       "version_major": 2,
       "version_minor": 0
      },
      "text/plain": [
       "HBox(children=(FloatProgress(value=0.0, description='Training', layout=Layout(flex='2'), max=5000.0, style=Pro…"
      ]
     },
     "metadata": {},
     "output_type": "display_data"
    },
    {
     "name": "stdout",
     "output_type": "stream",
     "text": [
      "Epoch 60: train=3.83308, val=3.64345, took 165.4 s\n"
     ]
    },
    {
     "data": {
      "application/vnd.jupyter.widget-view+json": {
       "model_id": "",
       "version_major": 2,
       "version_minor": 0
      },
      "text/plain": [
       "HBox(children=(FloatProgress(value=0.0, description='Training', layout=Layout(flex='2'), max=5000.0, style=Pro…"
      ]
     },
     "metadata": {},
     "output_type": "display_data"
    },
    {
     "name": "stdout",
     "output_type": "stream",
     "text": [
      "Epoch 61: train=3.83157, val=3.58397, took 163.83 s\n"
     ]
    },
    {
     "data": {
      "application/vnd.jupyter.widget-view+json": {
       "model_id": "",
       "version_major": 2,
       "version_minor": 0
      },
      "text/plain": [
       "HBox(children=(FloatProgress(value=0.0, description='Training', layout=Layout(flex='2'), max=5000.0, style=Pro…"
      ]
     },
     "metadata": {},
     "output_type": "display_data"
    },
    {
     "name": "stdout",
     "output_type": "stream",
     "text": [
      "Epoch 62: train=3.83052, val=3.59183, took 163.81 s\n"
     ]
    },
    {
     "data": {
      "application/vnd.jupyter.widget-view+json": {
       "model_id": "",
       "version_major": 2,
       "version_minor": 0
      },
      "text/plain": [
       "HBox(children=(FloatProgress(value=0.0, description='Training', layout=Layout(flex='2'), max=5000.0, style=Pro…"
      ]
     },
     "metadata": {},
     "output_type": "display_data"
    },
    {
     "name": "stdout",
     "output_type": "stream",
     "text": [
      "Epoch 63: train=3.82888, val=3.67781, took 160.94 s\n"
     ]
    },
    {
     "data": {
      "application/vnd.jupyter.widget-view+json": {
       "model_id": "",
       "version_major": 2,
       "version_minor": 0
      },
      "text/plain": [
       "HBox(children=(FloatProgress(value=0.0, description='Training', layout=Layout(flex='2'), max=5000.0, style=Pro…"
      ]
     },
     "metadata": {},
     "output_type": "display_data"
    },
    {
     "name": "stdout",
     "output_type": "stream",
     "text": [
      "Epoch 64: train=3.82729, val=3.69815, took 162.82 s\n"
     ]
    },
    {
     "data": {
      "application/vnd.jupyter.widget-view+json": {
       "model_id": "",
       "version_major": 2,
       "version_minor": 0
      },
      "text/plain": [
       "HBox(children=(FloatProgress(value=0.0, description='Training', layout=Layout(flex='2'), max=5000.0, style=Pro…"
      ]
     },
     "metadata": {},
     "output_type": "display_data"
    },
    {
     "name": "stdout",
     "output_type": "stream",
     "text": [
      "Epoch 65: train=3.8272, val=3.60823, took 163.71 s\n"
     ]
    },
    {
     "data": {
      "application/vnd.jupyter.widget-view+json": {
       "model_id": "",
       "version_major": 2,
       "version_minor": 0
      },
      "text/plain": [
       "HBox(children=(FloatProgress(value=0.0, description='Training', layout=Layout(flex='2'), max=5000.0, style=Pro…"
      ]
     },
     "metadata": {},
     "output_type": "display_data"
    },
    {
     "name": "stdout",
     "output_type": "stream",
     "text": [
      "Epoch 66: train=3.82304, val=3.63556, took 164.04 s\n"
     ]
    },
    {
     "data": {
      "application/vnd.jupyter.widget-view+json": {
       "model_id": "",
       "version_major": 2,
       "version_minor": 0
      },
      "text/plain": [
       "HBox(children=(FloatProgress(value=0.0, description='Training', layout=Layout(flex='2'), max=5000.0, style=Pro…"
      ]
     },
     "metadata": {},
     "output_type": "display_data"
    },
    {
     "name": "stdout",
     "output_type": "stream",
     "text": [
      "Epoch 67: train=3.82158, val=3.5999, took 163.45 s\n"
     ]
    },
    {
     "data": {
      "application/vnd.jupyter.widget-view+json": {
       "model_id": "",
       "version_major": 2,
       "version_minor": 0
      },
      "text/plain": [
       "HBox(children=(FloatProgress(value=0.0, description='Training', layout=Layout(flex='2'), max=5000.0, style=Pro…"
      ]
     },
     "metadata": {},
     "output_type": "display_data"
    },
    {
     "name": "stdout",
     "output_type": "stream",
     "text": [
      "Epoch 68: train=3.81922, val=3.5673, took 162.85 s\n"
     ]
    },
    {
     "data": {
      "application/vnd.jupyter.widget-view+json": {
       "model_id": "",
       "version_major": 2,
       "version_minor": 0
      },
      "text/plain": [
       "HBox(children=(FloatProgress(value=0.0, description='Training', layout=Layout(flex='2'), max=5000.0, style=Pro…"
      ]
     },
     "metadata": {},
     "output_type": "display_data"
    },
    {
     "name": "stdout",
     "output_type": "stream",
     "text": [
      "Epoch 69: train=3.81827, val=3.59655, took 162.97 s\n"
     ]
    },
    {
     "data": {
      "application/vnd.jupyter.widget-view+json": {
       "model_id": "",
       "version_major": 2,
       "version_minor": 0
      },
      "text/plain": [
       "HBox(children=(FloatProgress(value=0.0, description='Training', layout=Layout(flex='2'), max=5000.0, style=Pro…"
      ]
     },
     "metadata": {},
     "output_type": "display_data"
    },
    {
     "name": "stdout",
     "output_type": "stream",
     "text": [
      "Epoch 70: train=3.81833, val=3.5684, took 163.46 s\n"
     ]
    },
    {
     "data": {
      "application/vnd.jupyter.widget-view+json": {
       "model_id": "",
       "version_major": 2,
       "version_minor": 0
      },
      "text/plain": [
       "HBox(children=(FloatProgress(value=0.0, description='Training', layout=Layout(flex='2'), max=5000.0, style=Pro…"
      ]
     },
     "metadata": {},
     "output_type": "display_data"
    },
    {
     "name": "stdout",
     "output_type": "stream",
     "text": [
      "Epoch 71: train=3.81614, val=3.60357, took 172.59 s\n"
     ]
    },
    {
     "data": {
      "application/vnd.jupyter.widget-view+json": {
       "model_id": "",
       "version_major": 2,
       "version_minor": 0
      },
      "text/plain": [
       "HBox(children=(FloatProgress(value=0.0, description='Training', layout=Layout(flex='2'), max=5000.0, style=Pro…"
      ]
     },
     "metadata": {},
     "output_type": "display_data"
    },
    {
     "name": "stdout",
     "output_type": "stream",
     "text": [
      "Epoch 72: train=3.8194, val=3.57593, took 165.84 s\n"
     ]
    },
    {
     "data": {
      "application/vnd.jupyter.widget-view+json": {
       "model_id": "",
       "version_major": 2,
       "version_minor": 0
      },
      "text/plain": [
       "HBox(children=(FloatProgress(value=0.0, description='Training', layout=Layout(flex='2'), max=5000.0, style=Pro…"
      ]
     },
     "metadata": {},
     "output_type": "display_data"
    },
    {
     "name": "stdout",
     "output_type": "stream",
     "text": [
      "Epoch 73: train=3.81288, val=3.58566, took 169.1 s\n"
     ]
    },
    {
     "data": {
      "application/vnd.jupyter.widget-view+json": {
       "model_id": "",
       "version_major": 2,
       "version_minor": 0
      },
      "text/plain": [
       "HBox(children=(FloatProgress(value=0.0, description='Training', layout=Layout(flex='2'), max=5000.0, style=Pro…"
      ]
     },
     "metadata": {},
     "output_type": "display_data"
    },
    {
     "name": "stdout",
     "output_type": "stream",
     "text": [
      "Epoch 74: train=3.81425, val=3.5791, took 164.4 s\n"
     ]
    },
    {
     "data": {
      "application/vnd.jupyter.widget-view+json": {
       "model_id": "",
       "version_major": 2,
       "version_minor": 0
      },
      "text/plain": [
       "HBox(children=(FloatProgress(value=0.0, description='Training', layout=Layout(flex='2'), max=5000.0, style=Pro…"
      ]
     },
     "metadata": {},
     "output_type": "display_data"
    },
    {
     "name": "stdout",
     "output_type": "stream",
     "text": [
      "Epoch 75: train=3.80884, val=3.60486, took 165.83 s\n"
     ]
    },
    {
     "data": {
      "application/vnd.jupyter.widget-view+json": {
       "model_id": "",
       "version_major": 2,
       "version_minor": 0
      },
      "text/plain": [
       "HBox(children=(FloatProgress(value=0.0, description='Training', layout=Layout(flex='2'), max=5000.0, style=Pro…"
      ]
     },
     "metadata": {},
     "output_type": "display_data"
    },
    {
     "name": "stdout",
     "output_type": "stream",
     "text": [
      "Epoch 76: train=3.81261, val=3.60598, took 168.24 s\n"
     ]
    },
    {
     "data": {
      "application/vnd.jupyter.widget-view+json": {
       "model_id": "",
       "version_major": 2,
       "version_minor": 0
      },
      "text/plain": [
       "HBox(children=(FloatProgress(value=0.0, description='Training', layout=Layout(flex='2'), max=5000.0, style=Pro…"
      ]
     },
     "metadata": {},
     "output_type": "display_data"
    },
    {
     "name": "stdout",
     "output_type": "stream",
     "text": [
      "Epoch 77: train=3.8097, val=3.57074, took 162.08 s\n"
     ]
    },
    {
     "data": {
      "application/vnd.jupyter.widget-view+json": {
       "model_id": "",
       "version_major": 2,
       "version_minor": 0
      },
      "text/plain": [
       "HBox(children=(FloatProgress(value=0.0, description='Training', layout=Layout(flex='2'), max=5000.0, style=Pro…"
      ]
     },
     "metadata": {},
     "output_type": "display_data"
    },
    {
     "name": "stdout",
     "output_type": "stream",
     "text": [
      "Epoch 78: train=3.80534, val=3.59071, took 163.11 s\n"
     ]
    },
    {
     "data": {
      "application/vnd.jupyter.widget-view+json": {
       "model_id": "",
       "version_major": 2,
       "version_minor": 0
      },
      "text/plain": [
       "HBox(children=(FloatProgress(value=0.0, description='Training', layout=Layout(flex='2'), max=5000.0, style=Pro…"
      ]
     },
     "metadata": {},
     "output_type": "display_data"
    },
    {
     "name": "stdout",
     "output_type": "stream",
     "text": [
      "Epoch 79: train=3.80507, val=3.59053, took 164.03 s\n"
     ]
    },
    {
     "data": {
      "application/vnd.jupyter.widget-view+json": {
       "model_id": "",
       "version_major": 2,
       "version_minor": 0
      },
      "text/plain": [
       "HBox(children=(FloatProgress(value=0.0, description='Training', layout=Layout(flex='2'), max=5000.0, style=Pro…"
      ]
     },
     "metadata": {},
     "output_type": "display_data"
    },
    {
     "name": "stdout",
     "output_type": "stream",
     "text": [
      "Epoch 80: train=3.80194, val=3.65689, took 161.88 s\n"
     ]
    },
    {
     "data": {
      "application/vnd.jupyter.widget-view+json": {
       "model_id": "",
       "version_major": 2,
       "version_minor": 0
      },
      "text/plain": [
       "HBox(children=(FloatProgress(value=0.0, description='Training', layout=Layout(flex='2'), max=5000.0, style=Pro…"
      ]
     },
     "metadata": {},
     "output_type": "display_data"
    },
    {
     "name": "stdout",
     "output_type": "stream",
     "text": [
      "Epoch 81: train=3.80222, val=3.5788, took 168.4 s\n"
     ]
    },
    {
     "data": {
      "application/vnd.jupyter.widget-view+json": {
       "model_id": "",
       "version_major": 2,
       "version_minor": 0
      },
      "text/plain": [
       "HBox(children=(FloatProgress(value=0.0, description='Training', layout=Layout(flex='2'), max=5000.0, style=Pro…"
      ]
     },
     "metadata": {},
     "output_type": "display_data"
    },
    {
     "name": "stdout",
     "output_type": "stream",
     "text": [
      "Epoch 82: train=3.8027, val=3.57846, took 164.75 s\n"
     ]
    },
    {
     "data": {
      "application/vnd.jupyter.widget-view+json": {
       "model_id": "",
       "version_major": 2,
       "version_minor": 0
      },
      "text/plain": [
       "HBox(children=(FloatProgress(value=0.0, description='Training', layout=Layout(flex='2'), max=5000.0, style=Pro…"
      ]
     },
     "metadata": {},
     "output_type": "display_data"
    },
    {
     "name": "stdout",
     "output_type": "stream",
     "text": [
      "Epoch 83: train=3.79802, val=3.5804, took 165.58 s\n"
     ]
    },
    {
     "data": {
      "application/vnd.jupyter.widget-view+json": {
       "model_id": "",
       "version_major": 2,
       "version_minor": 0
      },
      "text/plain": [
       "HBox(children=(FloatProgress(value=0.0, description='Training', layout=Layout(flex='2'), max=5000.0, style=Pro…"
      ]
     },
     "metadata": {},
     "output_type": "display_data"
    },
    {
     "name": "stdout",
     "output_type": "stream",
     "text": [
      "Epoch 84: train=3.79817, val=3.58825, took 167.24 s\n"
     ]
    },
    {
     "data": {
      "application/vnd.jupyter.widget-view+json": {
       "model_id": "",
       "version_major": 2,
       "version_minor": 0
      },
      "text/plain": [
       "HBox(children=(FloatProgress(value=0.0, description='Training', layout=Layout(flex='2'), max=5000.0, style=Pro…"
      ]
     },
     "metadata": {},
     "output_type": "display_data"
    },
    {
     "name": "stdout",
     "output_type": "stream",
     "text": [
      "Epoch 85: train=3.79948, val=3.60352, took 162.03 s\n"
     ]
    },
    {
     "data": {
      "application/vnd.jupyter.widget-view+json": {
       "model_id": "",
       "version_major": 2,
       "version_minor": 0
      },
      "text/plain": [
       "HBox(children=(FloatProgress(value=0.0, description='Training', layout=Layout(flex='2'), max=5000.0, style=Pro…"
      ]
     },
     "metadata": {},
     "output_type": "display_data"
    },
    {
     "name": "stdout",
     "output_type": "stream",
     "text": [
      "Epoch 86: train=3.79486, val=3.55673, took 165.07 s\n"
     ]
    },
    {
     "data": {
      "application/vnd.jupyter.widget-view+json": {
       "model_id": "",
       "version_major": 2,
       "version_minor": 0
      },
      "text/plain": [
       "HBox(children=(FloatProgress(value=0.0, description='Training', layout=Layout(flex='2'), max=5000.0, style=Pro…"
      ]
     },
     "metadata": {},
     "output_type": "display_data"
    },
    {
     "name": "stdout",
     "output_type": "stream",
     "text": [
      "Epoch 87: train=3.79355, val=3.53739, took 161.87 s\n"
     ]
    },
    {
     "data": {
      "application/vnd.jupyter.widget-view+json": {
       "model_id": "",
       "version_major": 2,
       "version_minor": 0
      },
      "text/plain": [
       "HBox(children=(FloatProgress(value=0.0, description='Training', layout=Layout(flex='2'), max=5000.0, style=Pro…"
      ]
     },
     "metadata": {},
     "output_type": "display_data"
    },
    {
     "name": "stdout",
     "output_type": "stream",
     "text": [
      "Epoch 88: train=3.79256, val=3.54305, took 165.83 s\n"
     ]
    },
    {
     "data": {
      "application/vnd.jupyter.widget-view+json": {
       "model_id": "",
       "version_major": 2,
       "version_minor": 0
      },
      "text/plain": [
       "HBox(children=(FloatProgress(value=0.0, description='Training', layout=Layout(flex='2'), max=5000.0, style=Pro…"
      ]
     },
     "metadata": {},
     "output_type": "display_data"
    },
    {
     "name": "stdout",
     "output_type": "stream",
     "text": [
      "Epoch 89: train=3.79444, val=3.53802, took 162.43 s\n"
     ]
    },
    {
     "data": {
      "application/vnd.jupyter.widget-view+json": {
       "model_id": "",
       "version_major": 2,
       "version_minor": 0
      },
      "text/plain": [
       "HBox(children=(FloatProgress(value=0.0, description='Training', layout=Layout(flex='2'), max=5000.0, style=Pro…"
      ]
     },
     "metadata": {},
     "output_type": "display_data"
    },
    {
     "name": "stdout",
     "output_type": "stream",
     "text": [
      "Epoch 90: train=3.79194, val=3.55406, took 166.08 s\n"
     ]
    },
    {
     "data": {
      "application/vnd.jupyter.widget-view+json": {
       "model_id": "",
       "version_major": 2,
       "version_minor": 0
      },
      "text/plain": [
       "HBox(children=(FloatProgress(value=0.0, description='Training', layout=Layout(flex='2'), max=5000.0, style=Pro…"
      ]
     },
     "metadata": {},
     "output_type": "display_data"
    },
    {
     "name": "stdout",
     "output_type": "stream",
     "text": [
      "Epoch 91: train=3.79132, val=3.53616, took 164.1 s\n"
     ]
    },
    {
     "data": {
      "application/vnd.jupyter.widget-view+json": {
       "model_id": "",
       "version_major": 2,
       "version_minor": 0
      },
      "text/plain": [
       "HBox(children=(FloatProgress(value=0.0, description='Training', layout=Layout(flex='2'), max=5000.0, style=Pro…"
      ]
     },
     "metadata": {},
     "output_type": "display_data"
    },
    {
     "name": "stdout",
     "output_type": "stream",
     "text": [
      "Epoch 92: train=3.78668, val=3.54681, took 164.08 s\n"
     ]
    },
    {
     "data": {
      "application/vnd.jupyter.widget-view+json": {
       "model_id": "",
       "version_major": 2,
       "version_minor": 0
      },
      "text/plain": [
       "HBox(children=(FloatProgress(value=0.0, description='Training', layout=Layout(flex='2'), max=5000.0, style=Pro…"
      ]
     },
     "metadata": {},
     "output_type": "display_data"
    },
    {
     "name": "stdout",
     "output_type": "stream",
     "text": [
      "Epoch 93: train=3.78584, val=3.53017, took 166.34 s\n"
     ]
    },
    {
     "data": {
      "application/vnd.jupyter.widget-view+json": {
       "model_id": "",
       "version_major": 2,
       "version_minor": 0
      },
      "text/plain": [
       "HBox(children=(FloatProgress(value=0.0, description='Training', layout=Layout(flex='2'), max=5000.0, style=Pro…"
      ]
     },
     "metadata": {},
     "output_type": "display_data"
    },
    {
     "name": "stdout",
     "output_type": "stream",
     "text": [
      "Epoch 94: train=3.78523, val=3.54713, took 165.87 s\n"
     ]
    },
    {
     "data": {
      "application/vnd.jupyter.widget-view+json": {
       "model_id": "",
       "version_major": 2,
       "version_minor": 0
      },
      "text/plain": [
       "HBox(children=(FloatProgress(value=0.0, description='Training', layout=Layout(flex='2'), max=5000.0, style=Pro…"
      ]
     },
     "metadata": {},
     "output_type": "display_data"
    },
    {
     "name": "stdout",
     "output_type": "stream",
     "text": [
      "Epoch 95: train=3.78544, val=3.53796, took 167.76 s\n"
     ]
    },
    {
     "data": {
      "application/vnd.jupyter.widget-view+json": {
       "model_id": "",
       "version_major": 2,
       "version_minor": 0
      },
      "text/plain": [
       "HBox(children=(FloatProgress(value=0.0, description='Training', layout=Layout(flex='2'), max=5000.0, style=Pro…"
      ]
     },
     "metadata": {},
     "output_type": "display_data"
    },
    {
     "name": "stdout",
     "output_type": "stream",
     "text": [
      "Epoch 96: train=3.78458, val=3.53933, took 163.81 s\n"
     ]
    },
    {
     "data": {
      "application/vnd.jupyter.widget-view+json": {
       "model_id": "",
       "version_major": 2,
       "version_minor": 0
      },
      "text/plain": [
       "HBox(children=(FloatProgress(value=0.0, description='Training', layout=Layout(flex='2'), max=5000.0, style=Pro…"
      ]
     },
     "metadata": {},
     "output_type": "display_data"
    },
    {
     "name": "stdout",
     "output_type": "stream",
     "text": [
      "Epoch 97: train=3.78377, val=3.54741, took 162.39 s\n"
     ]
    },
    {
     "data": {
      "application/vnd.jupyter.widget-view+json": {
       "model_id": "",
       "version_major": 2,
       "version_minor": 0
      },
      "text/plain": [
       "HBox(children=(FloatProgress(value=0.0, description='Training', layout=Layout(flex='2'), max=5000.0, style=Pro…"
      ]
     },
     "metadata": {},
     "output_type": "display_data"
    },
    {
     "name": "stdout",
     "output_type": "stream",
     "text": [
      "Epoch 98: train=3.782, val=3.53205, took 164.03 s\n"
     ]
    },
    {
     "data": {
      "application/vnd.jupyter.widget-view+json": {
       "model_id": "",
       "version_major": 2,
       "version_minor": 0
      },
      "text/plain": [
       "HBox(children=(FloatProgress(value=0.0, description='Training', layout=Layout(flex='2'), max=5000.0, style=Pro…"
      ]
     },
     "metadata": {},
     "output_type": "display_data"
    },
    {
     "name": "stdout",
     "output_type": "stream",
     "text": [
      "Epoch 99: train=3.77971, val=3.52647, took 169.22 s\n"
     ]
    },
    {
     "data": {
      "application/vnd.jupyter.widget-view+json": {
       "model_id": "",
       "version_major": 2,
       "version_minor": 0
      },
      "text/plain": [
       "HBox(children=(FloatProgress(value=0.0, description='Training', layout=Layout(flex='2'), max=5000.0, style=Pro…"
      ]
     },
     "metadata": {},
     "output_type": "display_data"
    },
    {
     "name": "stdout",
     "output_type": "stream",
     "text": [
      "Epoch 100: train=3.78137, val=3.57464, took 167.47 s\n"
     ]
    },
    {
     "data": {
      "application/vnd.jupyter.widget-view+json": {
       "model_id": "",
       "version_major": 2,
       "version_minor": 0
      },
      "text/plain": [
       "HBox(children=(FloatProgress(value=0.0, description='Training', layout=Layout(flex='2'), max=5000.0, style=Pro…"
      ]
     },
     "metadata": {},
     "output_type": "display_data"
    },
    {
     "name": "stdout",
     "output_type": "stream",
     "text": [
      "Epoch 101: train=3.77548, val=3.52774, took 169.18 s\n"
     ]
    },
    {
     "data": {
      "application/vnd.jupyter.widget-view+json": {
       "model_id": "",
       "version_major": 2,
       "version_minor": 0
      },
      "text/plain": [
       "HBox(children=(FloatProgress(value=0.0, description='Training', layout=Layout(flex='2'), max=5000.0, style=Pro…"
      ]
     },
     "metadata": {},
     "output_type": "display_data"
    },
    {
     "name": "stdout",
     "output_type": "stream",
     "text": [
      "Epoch 102: train=3.77666, val=3.53172, took 167.76 s\n"
     ]
    },
    {
     "data": {
      "application/vnd.jupyter.widget-view+json": {
       "model_id": "",
       "version_major": 2,
       "version_minor": 0
      },
      "text/plain": [
       "HBox(children=(FloatProgress(value=0.0, description='Training', layout=Layout(flex='2'), max=5000.0, style=Pro…"
      ]
     },
     "metadata": {},
     "output_type": "display_data"
    },
    {
     "name": "stdout",
     "output_type": "stream",
     "text": [
      "Epoch 103: train=3.77721, val=3.53582, took 164.47 s\n"
     ]
    },
    {
     "data": {
      "application/vnd.jupyter.widget-view+json": {
       "model_id": "",
       "version_major": 2,
       "version_minor": 0
      },
      "text/plain": [
       "HBox(children=(FloatProgress(value=0.0, description='Training', layout=Layout(flex='2'), max=5000.0, style=Pro…"
      ]
     },
     "metadata": {},
     "output_type": "display_data"
    },
    {
     "name": "stdout",
     "output_type": "stream",
     "text": [
      "Epoch 104: train=3.77461, val=3.54753, took 169.3 s\n"
     ]
    },
    {
     "data": {
      "application/vnd.jupyter.widget-view+json": {
       "model_id": "",
       "version_major": 2,
       "version_minor": 0
      },
      "text/plain": [
       "HBox(children=(FloatProgress(value=0.0, description='Training', layout=Layout(flex='2'), max=5000.0, style=Pro…"
      ]
     },
     "metadata": {},
     "output_type": "display_data"
    },
    {
     "name": "stdout",
     "output_type": "stream",
     "text": [
      "Epoch 105: train=3.77144, val=3.59703, took 161.82 s\n"
     ]
    },
    {
     "data": {
      "application/vnd.jupyter.widget-view+json": {
       "model_id": "",
       "version_major": 2,
       "version_minor": 0
      },
      "text/plain": [
       "HBox(children=(FloatProgress(value=0.0, description='Training', layout=Layout(flex='2'), max=5000.0, style=Pro…"
      ]
     },
     "metadata": {},
     "output_type": "display_data"
    },
    {
     "name": "stdout",
     "output_type": "stream",
     "text": [
      "Epoch 106: train=3.77132, val=3.54046, took 160.2 s\n"
     ]
    },
    {
     "data": {
      "application/vnd.jupyter.widget-view+json": {
       "model_id": "",
       "version_major": 2,
       "version_minor": 0
      },
      "text/plain": [
       "HBox(children=(FloatProgress(value=0.0, description='Training', layout=Layout(flex='2'), max=5000.0, style=Pro…"
      ]
     },
     "metadata": {},
     "output_type": "display_data"
    },
    {
     "name": "stdout",
     "output_type": "stream",
     "text": [
      "Epoch 107: train=3.77138, val=3.53792, took 163.32 s\n"
     ]
    },
    {
     "data": {
      "application/vnd.jupyter.widget-view+json": {
       "model_id": "",
       "version_major": 2,
       "version_minor": 0
      },
      "text/plain": [
       "HBox(children=(FloatProgress(value=0.0, description='Training', layout=Layout(flex='2'), max=5000.0, style=Pro…"
      ]
     },
     "metadata": {},
     "output_type": "display_data"
    },
    {
     "name": "stdout",
     "output_type": "stream",
     "text": [
      "Epoch 108: train=3.76912, val=3.53219, took 158.57 s\n"
     ]
    },
    {
     "data": {
      "application/vnd.jupyter.widget-view+json": {
       "model_id": "",
       "version_major": 2,
       "version_minor": 0
      },
      "text/plain": [
       "HBox(children=(FloatProgress(value=0.0, description='Training', layout=Layout(flex='2'), max=5000.0, style=Pro…"
      ]
     },
     "metadata": {},
     "output_type": "display_data"
    },
    {
     "name": "stdout",
     "output_type": "stream",
     "text": [
      "Epoch 109: train=3.7701, val=3.52367, took 157.97 s\n"
     ]
    },
    {
     "data": {
      "application/vnd.jupyter.widget-view+json": {
       "model_id": "",
       "version_major": 2,
       "version_minor": 0
      },
      "text/plain": [
       "HBox(children=(FloatProgress(value=0.0, description='Training', layout=Layout(flex='2'), max=5000.0, style=Pro…"
      ]
     },
     "metadata": {},
     "output_type": "display_data"
    },
    {
     "name": "stdout",
     "output_type": "stream",
     "text": [
      "Epoch 110: train=3.76727, val=3.53118, took 158.31 s\n"
     ]
    },
    {
     "data": {
      "application/vnd.jupyter.widget-view+json": {
       "model_id": "",
       "version_major": 2,
       "version_minor": 0
      },
      "text/plain": [
       "HBox(children=(FloatProgress(value=0.0, description='Training', layout=Layout(flex='2'), max=5000.0, style=Pro…"
      ]
     },
     "metadata": {},
     "output_type": "display_data"
    },
    {
     "name": "stdout",
     "output_type": "stream",
     "text": [
      "Epoch 111: train=3.76543, val=3.51287, took 158.3 s\n"
     ]
    },
    {
     "data": {
      "application/vnd.jupyter.widget-view+json": {
       "model_id": "",
       "version_major": 2,
       "version_minor": 0
      },
      "text/plain": [
       "HBox(children=(FloatProgress(value=0.0, description='Training', layout=Layout(flex='2'), max=5000.0, style=Pro…"
      ]
     },
     "metadata": {},
     "output_type": "display_data"
    },
    {
     "name": "stdout",
     "output_type": "stream",
     "text": [
      "Epoch 112: train=3.76657, val=3.51056, took 157.97 s\n"
     ]
    },
    {
     "data": {
      "application/vnd.jupyter.widget-view+json": {
       "model_id": "",
       "version_major": 2,
       "version_minor": 0
      },
      "text/plain": [
       "HBox(children=(FloatProgress(value=0.0, description='Training', layout=Layout(flex='2'), max=5000.0, style=Pro…"
      ]
     },
     "metadata": {},
     "output_type": "display_data"
    },
    {
     "name": "stdout",
     "output_type": "stream",
     "text": [
      "Epoch 113: train=3.76365, val=3.50675, took 159.49 s\n"
     ]
    },
    {
     "data": {
      "application/vnd.jupyter.widget-view+json": {
       "model_id": "",
       "version_major": 2,
       "version_minor": 0
      },
      "text/plain": [
       "HBox(children=(FloatProgress(value=0.0, description='Training', layout=Layout(flex='2'), max=5000.0, style=Pro…"
      ]
     },
     "metadata": {},
     "output_type": "display_data"
    },
    {
     "name": "stdout",
     "output_type": "stream",
     "text": [
      "Epoch 114: train=3.76314, val=3.52621, took 158.88 s\n"
     ]
    },
    {
     "data": {
      "application/vnd.jupyter.widget-view+json": {
       "model_id": "",
       "version_major": 2,
       "version_minor": 0
      },
      "text/plain": [
       "HBox(children=(FloatProgress(value=0.0, description='Training', layout=Layout(flex='2'), max=5000.0, style=Pro…"
      ]
     },
     "metadata": {},
     "output_type": "display_data"
    },
    {
     "name": "stdout",
     "output_type": "stream",
     "text": [
      "Epoch 115: train=3.76181, val=3.5778, took 158.85 s\n"
     ]
    },
    {
     "data": {
      "application/vnd.jupyter.widget-view+json": {
       "model_id": "",
       "version_major": 2,
       "version_minor": 0
      },
      "text/plain": [
       "HBox(children=(FloatProgress(value=0.0, description='Training', layout=Layout(flex='2'), max=5000.0, style=Pro…"
      ]
     },
     "metadata": {},
     "output_type": "display_data"
    },
    {
     "name": "stdout",
     "output_type": "stream",
     "text": [
      "Epoch 116: train=3.76025, val=3.52219, took 158.7 s\n"
     ]
    },
    {
     "data": {
      "application/vnd.jupyter.widget-view+json": {
       "model_id": "",
       "version_major": 2,
       "version_minor": 0
      },
      "text/plain": [
       "HBox(children=(FloatProgress(value=0.0, description='Training', layout=Layout(flex='2'), max=5000.0, style=Pro…"
      ]
     },
     "metadata": {},
     "output_type": "display_data"
    },
    {
     "name": "stdout",
     "output_type": "stream",
     "text": [
      "Epoch 117: train=3.75754, val=3.52127, took 158.01 s\n"
     ]
    },
    {
     "data": {
      "application/vnd.jupyter.widget-view+json": {
       "model_id": "",
       "version_major": 2,
       "version_minor": 0
      },
      "text/plain": [
       "HBox(children=(FloatProgress(value=0.0, description='Training', layout=Layout(flex='2'), max=5000.0, style=Pro…"
      ]
     },
     "metadata": {},
     "output_type": "display_data"
    },
    {
     "name": "stdout",
     "output_type": "stream",
     "text": [
      "Epoch 118: train=3.75816, val=3.5034, took 158.22 s\n"
     ]
    },
    {
     "data": {
      "application/vnd.jupyter.widget-view+json": {
       "model_id": "",
       "version_major": 2,
       "version_minor": 0
      },
      "text/plain": [
       "HBox(children=(FloatProgress(value=0.0, description='Training', layout=Layout(flex='2'), max=5000.0, style=Pro…"
      ]
     },
     "metadata": {},
     "output_type": "display_data"
    },
    {
     "name": "stdout",
     "output_type": "stream",
     "text": [
      "Epoch 119: train=3.7568, val=3.51259, took 159.77 s\n"
     ]
    },
    {
     "data": {
      "application/vnd.jupyter.widget-view+json": {
       "model_id": "",
       "version_major": 2,
       "version_minor": 0
      },
      "text/plain": [
       "HBox(children=(FloatProgress(value=0.0, description='Training', layout=Layout(flex='2'), max=5000.0, style=Pro…"
      ]
     },
     "metadata": {},
     "output_type": "display_data"
    },
    {
     "name": "stdout",
     "output_type": "stream",
     "text": [
      "Epoch 120: train=3.75419, val=3.50721, took 158.74 s\n"
     ]
    },
    {
     "data": {
      "application/vnd.jupyter.widget-view+json": {
       "model_id": "",
       "version_major": 2,
       "version_minor": 0
      },
      "text/plain": [
       "HBox(children=(FloatProgress(value=0.0, description='Training', layout=Layout(flex='2'), max=5000.0, style=Pro…"
      ]
     },
     "metadata": {},
     "output_type": "display_data"
    },
    {
     "name": "stdout",
     "output_type": "stream",
     "text": [
      "Epoch 121: train=3.75535, val=3.54161, took 160.73 s\n"
     ]
    },
    {
     "data": {
      "application/vnd.jupyter.widget-view+json": {
       "model_id": "",
       "version_major": 2,
       "version_minor": 0
      },
      "text/plain": [
       "HBox(children=(FloatProgress(value=0.0, description='Training', layout=Layout(flex='2'), max=5000.0, style=Pro…"
      ]
     },
     "metadata": {},
     "output_type": "display_data"
    },
    {
     "name": "stdout",
     "output_type": "stream",
     "text": [
      "Epoch 122: train=3.75438, val=3.49725, took 161.42 s\n"
     ]
    },
    {
     "data": {
      "application/vnd.jupyter.widget-view+json": {
       "model_id": "",
       "version_major": 2,
       "version_minor": 0
      },
      "text/plain": [
       "HBox(children=(FloatProgress(value=0.0, description='Training', layout=Layout(flex='2'), max=5000.0, style=Pro…"
      ]
     },
     "metadata": {},
     "output_type": "display_data"
    },
    {
     "name": "stdout",
     "output_type": "stream",
     "text": [
      "Epoch 123: train=3.755, val=3.51284, took 158.5 s\n"
     ]
    },
    {
     "data": {
      "application/vnd.jupyter.widget-view+json": {
       "model_id": "",
       "version_major": 2,
       "version_minor": 0
      },
      "text/plain": [
       "HBox(children=(FloatProgress(value=0.0, description='Training', layout=Layout(flex='2'), max=5000.0, style=Pro…"
      ]
     },
     "metadata": {},
     "output_type": "display_data"
    },
    {
     "name": "stdout",
     "output_type": "stream",
     "text": [
      "Epoch 124: train=3.75014, val=3.60963, took 158.81 s\n"
     ]
    },
    {
     "data": {
      "application/vnd.jupyter.widget-view+json": {
       "model_id": "",
       "version_major": 2,
       "version_minor": 0
      },
      "text/plain": [
       "HBox(children=(FloatProgress(value=0.0, description='Training', layout=Layout(flex='2'), max=5000.0, style=Pro…"
      ]
     },
     "metadata": {},
     "output_type": "display_data"
    },
    {
     "name": "stdout",
     "output_type": "stream",
     "text": [
      "Epoch 125: train=3.75517, val=3.51125, took 158.46 s\n"
     ]
    },
    {
     "data": {
      "application/vnd.jupyter.widget-view+json": {
       "model_id": "",
       "version_major": 2,
       "version_minor": 0
      },
      "text/plain": [
       "HBox(children=(FloatProgress(value=0.0, description='Training', layout=Layout(flex='2'), max=5000.0, style=Pro…"
      ]
     },
     "metadata": {},
     "output_type": "display_data"
    },
    {
     "name": "stdout",
     "output_type": "stream",
     "text": [
      "Epoch 126: train=3.75102, val=3.49374, took 158.97 s\n"
     ]
    },
    {
     "data": {
      "application/vnd.jupyter.widget-view+json": {
       "model_id": "",
       "version_major": 2,
       "version_minor": 0
      },
      "text/plain": [
       "HBox(children=(FloatProgress(value=0.0, description='Training', layout=Layout(flex='2'), max=5000.0, style=Pro…"
      ]
     },
     "metadata": {},
     "output_type": "display_data"
    },
    {
     "name": "stdout",
     "output_type": "stream",
     "text": [
      "Epoch 127: train=3.75168, val=3.49505, took 162.48 s\n"
     ]
    },
    {
     "data": {
      "application/vnd.jupyter.widget-view+json": {
       "model_id": "",
       "version_major": 2,
       "version_minor": 0
      },
      "text/plain": [
       "HBox(children=(FloatProgress(value=0.0, description='Training', layout=Layout(flex='2'), max=5000.0, style=Pro…"
      ]
     },
     "metadata": {},
     "output_type": "display_data"
    },
    {
     "name": "stdout",
     "output_type": "stream",
     "text": [
      "Epoch 128: train=3.75309, val=3.49494, took 158.25 s\n"
     ]
    },
    {
     "data": {
      "application/vnd.jupyter.widget-view+json": {
       "model_id": "",
       "version_major": 2,
       "version_minor": 0
      },
      "text/plain": [
       "HBox(children=(FloatProgress(value=0.0, description='Training', layout=Layout(flex='2'), max=5000.0, style=Pro…"
      ]
     },
     "metadata": {},
     "output_type": "display_data"
    },
    {
     "name": "stdout",
     "output_type": "stream",
     "text": [
      "Epoch 129: train=3.75143, val=3.50273, took 158.98 s\n"
     ]
    },
    {
     "data": {
      "application/vnd.jupyter.widget-view+json": {
       "model_id": "",
       "version_major": 2,
       "version_minor": 0
      },
      "text/plain": [
       "HBox(children=(FloatProgress(value=0.0, description='Training', layout=Layout(flex='2'), max=5000.0, style=Pro…"
      ]
     },
     "metadata": {},
     "output_type": "display_data"
    },
    {
     "name": "stdout",
     "output_type": "stream",
     "text": [
      "Epoch 130: train=3.75104, val=3.49151, took 160.3 s\n"
     ]
    },
    {
     "data": {
      "application/vnd.jupyter.widget-view+json": {
       "model_id": "",
       "version_major": 2,
       "version_minor": 0
      },
      "text/plain": [
       "HBox(children=(FloatProgress(value=0.0, description='Training', layout=Layout(flex='2'), max=5000.0, style=Pro…"
      ]
     },
     "metadata": {},
     "output_type": "display_data"
    },
    {
     "name": "stdout",
     "output_type": "stream",
     "text": [
      "Epoch 131: train=3.74415, val=3.49368, took 162.1 s\n"
     ]
    },
    {
     "data": {
      "application/vnd.jupyter.widget-view+json": {
       "model_id": "",
       "version_major": 2,
       "version_minor": 0
      },
      "text/plain": [
       "HBox(children=(FloatProgress(value=0.0, description='Training', layout=Layout(flex='2'), max=5000.0, style=Pro…"
      ]
     },
     "metadata": {},
     "output_type": "display_data"
    },
    {
     "name": "stdout",
     "output_type": "stream",
     "text": [
      "Epoch 132: train=3.74861, val=3.61369, took 159.47 s\n"
     ]
    },
    {
     "data": {
      "application/vnd.jupyter.widget-view+json": {
       "model_id": "",
       "version_major": 2,
       "version_minor": 0
      },
      "text/plain": [
       "HBox(children=(FloatProgress(value=0.0, description='Training', layout=Layout(flex='2'), max=5000.0, style=Pro…"
      ]
     },
     "metadata": {},
     "output_type": "display_data"
    },
    {
     "name": "stdout",
     "output_type": "stream",
     "text": [
      "Epoch 133: train=3.74553, val=3.5774, took 160.4 s\n"
     ]
    },
    {
     "data": {
      "application/vnd.jupyter.widget-view+json": {
       "model_id": "",
       "version_major": 2,
       "version_minor": 0
      },
      "text/plain": [
       "HBox(children=(FloatProgress(value=0.0, description='Training', layout=Layout(flex='2'), max=5000.0, style=Pro…"
      ]
     },
     "metadata": {},
     "output_type": "display_data"
    },
    {
     "name": "stdout",
     "output_type": "stream",
     "text": [
      "Epoch 134: train=3.74604, val=3.49856, took 159.84 s\n"
     ]
    },
    {
     "data": {
      "application/vnd.jupyter.widget-view+json": {
       "model_id": "",
       "version_major": 2,
       "version_minor": 0
      },
      "text/plain": [
       "HBox(children=(FloatProgress(value=0.0, description='Training', layout=Layout(flex='2'), max=5000.0, style=Pro…"
      ]
     },
     "metadata": {},
     "output_type": "display_data"
    },
    {
     "name": "stdout",
     "output_type": "stream",
     "text": [
      "Epoch 135: train=3.74379, val=3.4899, took 159.63 s\n"
     ]
    },
    {
     "data": {
      "application/vnd.jupyter.widget-view+json": {
       "model_id": "",
       "version_major": 2,
       "version_minor": 0
      },
      "text/plain": [
       "HBox(children=(FloatProgress(value=0.0, description='Training', layout=Layout(flex='2'), max=5000.0, style=Pro…"
      ]
     },
     "metadata": {},
     "output_type": "display_data"
    },
    {
     "name": "stdout",
     "output_type": "stream",
     "text": [
      "Epoch 136: train=3.7431, val=3.52391, took 160.69 s\n"
     ]
    },
    {
     "data": {
      "application/vnd.jupyter.widget-view+json": {
       "model_id": "",
       "version_major": 2,
       "version_minor": 0
      },
      "text/plain": [
       "HBox(children=(FloatProgress(value=0.0, description='Training', layout=Layout(flex='2'), max=5000.0, style=Pro…"
      ]
     },
     "metadata": {},
     "output_type": "display_data"
    },
    {
     "name": "stdout",
     "output_type": "stream",
     "text": [
      "Epoch 137: train=3.74139, val=3.5214, took 158.85 s\n"
     ]
    },
    {
     "data": {
      "application/vnd.jupyter.widget-view+json": {
       "model_id": "",
       "version_major": 2,
       "version_minor": 0
      },
      "text/plain": [
       "HBox(children=(FloatProgress(value=0.0, description='Training', layout=Layout(flex='2'), max=5000.0, style=Pro…"
      ]
     },
     "metadata": {},
     "output_type": "display_data"
    },
    {
     "name": "stdout",
     "output_type": "stream",
     "text": [
      "Epoch 138: train=3.7408, val=3.64553, took 159.92 s\n"
     ]
    },
    {
     "data": {
      "application/vnd.jupyter.widget-view+json": {
       "model_id": "",
       "version_major": 2,
       "version_minor": 0
      },
      "text/plain": [
       "HBox(children=(FloatProgress(value=0.0, description='Training', layout=Layout(flex='2'), max=5000.0, style=Pro…"
      ]
     },
     "metadata": {},
     "output_type": "display_data"
    },
    {
     "name": "stdout",
     "output_type": "stream",
     "text": [
      "Epoch 139: train=3.74045, val=3.60943, took 160.68 s\n"
     ]
    },
    {
     "data": {
      "application/vnd.jupyter.widget-view+json": {
       "model_id": "",
       "version_major": 2,
       "version_minor": 0
      },
      "text/plain": [
       "HBox(children=(FloatProgress(value=0.0, description='Training', layout=Layout(flex='2'), max=5000.0, style=Pro…"
      ]
     },
     "metadata": {},
     "output_type": "display_data"
    },
    {
     "name": "stdout",
     "output_type": "stream",
     "text": [
      "Epoch 140: train=3.73803, val=3.48334, took 163.84 s\n"
     ]
    },
    {
     "data": {
      "application/vnd.jupyter.widget-view+json": {
       "model_id": "",
       "version_major": 2,
       "version_minor": 0
      },
      "text/plain": [
       "HBox(children=(FloatProgress(value=0.0, description='Training', layout=Layout(flex='2'), max=5000.0, style=Pro…"
      ]
     },
     "metadata": {},
     "output_type": "display_data"
    },
    {
     "name": "stdout",
     "output_type": "stream",
     "text": [
      "Epoch 141: train=3.73507, val=3.48286, took 162.32 s\n"
     ]
    },
    {
     "data": {
      "application/vnd.jupyter.widget-view+json": {
       "model_id": "",
       "version_major": 2,
       "version_minor": 0
      },
      "text/plain": [
       "HBox(children=(FloatProgress(value=0.0, description='Training', layout=Layout(flex='2'), max=5000.0, style=Pro…"
      ]
     },
     "metadata": {},
     "output_type": "display_data"
    },
    {
     "name": "stdout",
     "output_type": "stream",
     "text": [
      "Epoch 142: train=3.73554, val=3.47757, took 165.57 s\n"
     ]
    },
    {
     "data": {
      "application/vnd.jupyter.widget-view+json": {
       "model_id": "",
       "version_major": 2,
       "version_minor": 0
      },
      "text/plain": [
       "HBox(children=(FloatProgress(value=0.0, description='Training', layout=Layout(flex='2'), max=5000.0, style=Pro…"
      ]
     },
     "metadata": {},
     "output_type": "display_data"
    },
    {
     "name": "stdout",
     "output_type": "stream",
     "text": [
      "Epoch 143: train=3.73717, val=3.49898, took 162.54 s\n"
     ]
    },
    {
     "data": {
      "application/vnd.jupyter.widget-view+json": {
       "model_id": "",
       "version_major": 2,
       "version_minor": 0
      },
      "text/plain": [
       "HBox(children=(FloatProgress(value=0.0, description='Training', layout=Layout(flex='2'), max=5000.0, style=Pro…"
      ]
     },
     "metadata": {},
     "output_type": "display_data"
    },
    {
     "name": "stdout",
     "output_type": "stream",
     "text": [
      "Epoch 144: train=3.74322, val=3.48084, took 163.35 s\n"
     ]
    },
    {
     "data": {
      "application/vnd.jupyter.widget-view+json": {
       "model_id": "",
       "version_major": 2,
       "version_minor": 0
      },
      "text/plain": [
       "HBox(children=(FloatProgress(value=0.0, description='Training', layout=Layout(flex='2'), max=5000.0, style=Pro…"
      ]
     },
     "metadata": {},
     "output_type": "display_data"
    },
    {
     "name": "stdout",
     "output_type": "stream",
     "text": [
      "Epoch 145: train=3.73119, val=3.47871, took 164.09 s\n"
     ]
    },
    {
     "data": {
      "application/vnd.jupyter.widget-view+json": {
       "model_id": "",
       "version_major": 2,
       "version_minor": 0
      },
      "text/plain": [
       "HBox(children=(FloatProgress(value=0.0, description='Training', layout=Layout(flex='2'), max=5000.0, style=Pro…"
      ]
     },
     "metadata": {},
     "output_type": "display_data"
    },
    {
     "name": "stdout",
     "output_type": "stream",
     "text": [
      "Epoch 146: train=3.73606, val=3.51848, took 169.62 s\n"
     ]
    },
    {
     "data": {
      "application/vnd.jupyter.widget-view+json": {
       "model_id": "",
       "version_major": 2,
       "version_minor": 0
      },
      "text/plain": [
       "HBox(children=(FloatProgress(value=0.0, description='Training', layout=Layout(flex='2'), max=5000.0, style=Pro…"
      ]
     },
     "metadata": {},
     "output_type": "display_data"
    },
    {
     "name": "stdout",
     "output_type": "stream",
     "text": [
      "Epoch 147: train=3.73254, val=3.55848, took 167.71 s\n"
     ]
    },
    {
     "data": {
      "application/vnd.jupyter.widget-view+json": {
       "model_id": "",
       "version_major": 2,
       "version_minor": 0
      },
      "text/plain": [
       "HBox(children=(FloatProgress(value=0.0, description='Training', layout=Layout(flex='2'), max=5000.0, style=Pro…"
      ]
     },
     "metadata": {},
     "output_type": "display_data"
    },
    {
     "name": "stdout",
     "output_type": "stream",
     "text": [
      "Epoch 148: train=3.72824, val=3.58071, took 164.52 s\n"
     ]
    },
    {
     "data": {
      "application/vnd.jupyter.widget-view+json": {
       "model_id": "",
       "version_major": 2,
       "version_minor": 0
      },
      "text/plain": [
       "HBox(children=(FloatProgress(value=0.0, description='Training', layout=Layout(flex='2'), max=5000.0, style=Pro…"
      ]
     },
     "metadata": {},
     "output_type": "display_data"
    },
    {
     "name": "stdout",
     "output_type": "stream",
     "text": [
      "Epoch 149: train=3.72773, val=3.61188, took 164.33 s\n"
     ]
    },
    {
     "data": {
      "application/vnd.jupyter.widget-view+json": {
       "model_id": "",
       "version_major": 2,
       "version_minor": 0
      },
      "text/plain": [
       "HBox(children=(FloatProgress(value=0.0, description='Training', layout=Layout(flex='2'), max=5000.0, style=Pro…"
      ]
     },
     "metadata": {},
     "output_type": "display_data"
    },
    {
     "name": "stdout",
     "output_type": "stream",
     "text": [
      "Epoch 150: train=3.72897, val=3.53528, took 159.05 s\n"
     ]
    },
    {
     "data": {
      "application/vnd.jupyter.widget-view+json": {
       "model_id": "",
       "version_major": 2,
       "version_minor": 0
      },
      "text/plain": [
       "HBox(children=(FloatProgress(value=0.0, description='Training', layout=Layout(flex='2'), max=5000.0, style=Pro…"
      ]
     },
     "metadata": {},
     "output_type": "display_data"
    },
    {
     "name": "stdout",
     "output_type": "stream",
     "text": [
      "Epoch 151: train=3.72999, val=3.47206, took 158.34 s\n"
     ]
    },
    {
     "data": {
      "application/vnd.jupyter.widget-view+json": {
       "model_id": "",
       "version_major": 2,
       "version_minor": 0
      },
      "text/plain": [
       "HBox(children=(FloatProgress(value=0.0, description='Training', layout=Layout(flex='2'), max=5000.0, style=Pro…"
      ]
     },
     "metadata": {},
     "output_type": "display_data"
    },
    {
     "name": "stdout",
     "output_type": "stream",
     "text": [
      "Epoch 152: train=3.72428, val=3.61801, took 159.21 s\n"
     ]
    },
    {
     "data": {
      "application/vnd.jupyter.widget-view+json": {
       "model_id": "",
       "version_major": 2,
       "version_minor": 0
      },
      "text/plain": [
       "HBox(children=(FloatProgress(value=0.0, description='Training', layout=Layout(flex='2'), max=5000.0, style=Pro…"
      ]
     },
     "metadata": {},
     "output_type": "display_data"
    },
    {
     "name": "stdout",
     "output_type": "stream",
     "text": [
      "Epoch 153: train=3.727, val=3.48711, took 158.34 s\n"
     ]
    },
    {
     "data": {
      "application/vnd.jupyter.widget-view+json": {
       "model_id": "",
       "version_major": 2,
       "version_minor": 0
      },
      "text/plain": [
       "HBox(children=(FloatProgress(value=0.0, description='Training', layout=Layout(flex='2'), max=5000.0, style=Pro…"
      ]
     },
     "metadata": {},
     "output_type": "display_data"
    },
    {
     "name": "stdout",
     "output_type": "stream",
     "text": [
      "Epoch 154: train=3.72428, val=3.47093, took 160.57 s\n"
     ]
    },
    {
     "data": {
      "application/vnd.jupyter.widget-view+json": {
       "model_id": "",
       "version_major": 2,
       "version_minor": 0
      },
      "text/plain": [
       "HBox(children=(FloatProgress(value=0.0, description='Training', layout=Layout(flex='2'), max=5000.0, style=Pro…"
      ]
     },
     "metadata": {},
     "output_type": "display_data"
    },
    {
     "name": "stdout",
     "output_type": "stream",
     "text": [
      "Epoch 155: train=3.72286, val=3.58914, took 165.11 s\n"
     ]
    },
    {
     "data": {
      "application/vnd.jupyter.widget-view+json": {
       "model_id": "",
       "version_major": 2,
       "version_minor": 0
      },
      "text/plain": [
       "HBox(children=(FloatProgress(value=0.0, description='Training', layout=Layout(flex='2'), max=5000.0, style=Pro…"
      ]
     },
     "metadata": {},
     "output_type": "display_data"
    },
    {
     "name": "stdout",
     "output_type": "stream",
     "text": [
      "Epoch 156: train=3.72152, val=3.53941, took 161.76 s\n"
     ]
    },
    {
     "data": {
      "application/vnd.jupyter.widget-view+json": {
       "model_id": "",
       "version_major": 2,
       "version_minor": 0
      },
      "text/plain": [
       "HBox(children=(FloatProgress(value=0.0, description='Training', layout=Layout(flex='2'), max=5000.0, style=Pro…"
      ]
     },
     "metadata": {},
     "output_type": "display_data"
    },
    {
     "name": "stdout",
     "output_type": "stream",
     "text": [
      "Epoch 157: train=3.71908, val=3.47559, took 162.56 s\n"
     ]
    },
    {
     "data": {
      "application/vnd.jupyter.widget-view+json": {
       "model_id": "",
       "version_major": 2,
       "version_minor": 0
      },
      "text/plain": [
       "HBox(children=(FloatProgress(value=0.0, description='Training', layout=Layout(flex='2'), max=5000.0, style=Pro…"
      ]
     },
     "metadata": {},
     "output_type": "display_data"
    },
    {
     "name": "stdout",
     "output_type": "stream",
     "text": [
      "Epoch 158: train=3.72229, val=3.57601, took 161.09 s\n"
     ]
    },
    {
     "data": {
      "application/vnd.jupyter.widget-view+json": {
       "model_id": "",
       "version_major": 2,
       "version_minor": 0
      },
      "text/plain": [
       "HBox(children=(FloatProgress(value=0.0, description='Training', layout=Layout(flex='2'), max=5000.0, style=Pro…"
      ]
     },
     "metadata": {},
     "output_type": "display_data"
    },
    {
     "name": "stdout",
     "output_type": "stream",
     "text": [
      "Epoch 159: train=3.71599, val=3.48961, took 162.71 s\n"
     ]
    },
    {
     "data": {
      "application/vnd.jupyter.widget-view+json": {
       "model_id": "",
       "version_major": 2,
       "version_minor": 0
      },
      "text/plain": [
       "HBox(children=(FloatProgress(value=0.0, description='Training', layout=Layout(flex='2'), max=5000.0, style=Pro…"
      ]
     },
     "metadata": {},
     "output_type": "display_data"
    },
    {
     "name": "stdout",
     "output_type": "stream",
     "text": [
      "Epoch 160: train=3.71804, val=3.65578, took 159.36 s\n"
     ]
    },
    {
     "data": {
      "application/vnd.jupyter.widget-view+json": {
       "model_id": "",
       "version_major": 2,
       "version_minor": 0
      },
      "text/plain": [
       "HBox(children=(FloatProgress(value=0.0, description='Training', layout=Layout(flex='2'), max=5000.0, style=Pro…"
      ]
     },
     "metadata": {},
     "output_type": "display_data"
    },
    {
     "name": "stdout",
     "output_type": "stream",
     "text": [
      "Epoch 161: train=3.71801, val=3.5778, took 160.98 s\n"
     ]
    },
    {
     "data": {
      "application/vnd.jupyter.widget-view+json": {
       "model_id": "",
       "version_major": 2,
       "version_minor": 0
      },
      "text/plain": [
       "HBox(children=(FloatProgress(value=0.0, description='Training', layout=Layout(flex='2'), max=5000.0, style=Pro…"
      ]
     },
     "metadata": {},
     "output_type": "display_data"
    },
    {
     "name": "stdout",
     "output_type": "stream",
     "text": [
      "Epoch 162: train=3.7162, val=3.46578, took 158.9 s\n"
     ]
    },
    {
     "data": {
      "application/vnd.jupyter.widget-view+json": {
       "model_id": "",
       "version_major": 2,
       "version_minor": 0
      },
      "text/plain": [
       "HBox(children=(FloatProgress(value=0.0, description='Training', layout=Layout(flex='2'), max=5000.0, style=Pro…"
      ]
     },
     "metadata": {},
     "output_type": "display_data"
    },
    {
     "name": "stdout",
     "output_type": "stream",
     "text": [
      "Epoch 163: train=3.71843, val=3.4917, took 159.85 s\n"
     ]
    },
    {
     "data": {
      "application/vnd.jupyter.widget-view+json": {
       "model_id": "",
       "version_major": 2,
       "version_minor": 0
      },
      "text/plain": [
       "HBox(children=(FloatProgress(value=0.0, description='Training', layout=Layout(flex='2'), max=5000.0, style=Pro…"
      ]
     },
     "metadata": {},
     "output_type": "display_data"
    },
    {
     "name": "stdout",
     "output_type": "stream",
     "text": [
      "Epoch 164: train=3.71818, val=3.51812, took 158.25 s\n"
     ]
    },
    {
     "data": {
      "application/vnd.jupyter.widget-view+json": {
       "model_id": "",
       "version_major": 2,
       "version_minor": 0
      },
      "text/plain": [
       "HBox(children=(FloatProgress(value=0.0, description='Training', layout=Layout(flex='2'), max=5000.0, style=Pro…"
      ]
     },
     "metadata": {},
     "output_type": "display_data"
    },
    {
     "name": "stdout",
     "output_type": "stream",
     "text": [
      "Epoch 165: train=3.71684, val=3.54106, took 158.6 s\n"
     ]
    },
    {
     "data": {
      "application/vnd.jupyter.widget-view+json": {
       "model_id": "",
       "version_major": 2,
       "version_minor": 0
      },
      "text/plain": [
       "HBox(children=(FloatProgress(value=0.0, description='Training', layout=Layout(flex='2'), max=5000.0, style=Pro…"
      ]
     },
     "metadata": {},
     "output_type": "display_data"
    },
    {
     "name": "stdout",
     "output_type": "stream",
     "text": [
      "Epoch 166: train=3.71553, val=3.57516, took 158.62 s\n"
     ]
    },
    {
     "data": {
      "application/vnd.jupyter.widget-view+json": {
       "model_id": "",
       "version_major": 2,
       "version_minor": 0
      },
      "text/plain": [
       "HBox(children=(FloatProgress(value=0.0, description='Training', layout=Layout(flex='2'), max=5000.0, style=Pro…"
      ]
     },
     "metadata": {},
     "output_type": "display_data"
    },
    {
     "name": "stdout",
     "output_type": "stream",
     "text": [
      "Epoch 167: train=3.7177, val=3.4786, took 162.86 s\n"
     ]
    },
    {
     "data": {
      "application/vnd.jupyter.widget-view+json": {
       "model_id": "",
       "version_major": 2,
       "version_minor": 0
      },
      "text/plain": [
       "HBox(children=(FloatProgress(value=0.0, description='Training', layout=Layout(flex='2'), max=5000.0, style=Pro…"
      ]
     },
     "metadata": {},
     "output_type": "display_data"
    },
    {
     "name": "stdout",
     "output_type": "stream",
     "text": [
      "Epoch 168: train=3.71169, val=3.50588, took 163.34 s\n"
     ]
    },
    {
     "data": {
      "application/vnd.jupyter.widget-view+json": {
       "model_id": "",
       "version_major": 2,
       "version_minor": 0
      },
      "text/plain": [
       "HBox(children=(FloatProgress(value=0.0, description='Training', layout=Layout(flex='2'), max=5000.0, style=Pro…"
      ]
     },
     "metadata": {},
     "output_type": "display_data"
    },
    {
     "name": "stdout",
     "output_type": "stream",
     "text": [
      "Epoch 169: train=3.7107, val=3.53216, took 158.61 s\n"
     ]
    },
    {
     "data": {
      "application/vnd.jupyter.widget-view+json": {
       "model_id": "",
       "version_major": 2,
       "version_minor": 0
      },
      "text/plain": [
       "HBox(children=(FloatProgress(value=0.0, description='Training', layout=Layout(flex='2'), max=5000.0, style=Pro…"
      ]
     },
     "metadata": {},
     "output_type": "display_data"
    },
    {
     "name": "stdout",
     "output_type": "stream",
     "text": [
      "Epoch 170: train=3.71083, val=3.45762, took 158.86 s\n"
     ]
    },
    {
     "data": {
      "application/vnd.jupyter.widget-view+json": {
       "model_id": "",
       "version_major": 2,
       "version_minor": 0
      },
      "text/plain": [
       "HBox(children=(FloatProgress(value=0.0, description='Training', layout=Layout(flex='2'), max=5000.0, style=Pro…"
      ]
     },
     "metadata": {},
     "output_type": "display_data"
    },
    {
     "name": "stdout",
     "output_type": "stream",
     "text": [
      "Epoch 171: train=3.71125, val=3.45656, took 158.48 s\n"
     ]
    },
    {
     "data": {
      "application/vnd.jupyter.widget-view+json": {
       "model_id": "",
       "version_major": 2,
       "version_minor": 0
      },
      "text/plain": [
       "HBox(children=(FloatProgress(value=0.0, description='Training', layout=Layout(flex='2'), max=5000.0, style=Pro…"
      ]
     },
     "metadata": {},
     "output_type": "display_data"
    },
    {
     "name": "stdout",
     "output_type": "stream",
     "text": [
      "Epoch 172: train=3.70818, val=3.47865, took 158.36 s\n"
     ]
    },
    {
     "data": {
      "application/vnd.jupyter.widget-view+json": {
       "model_id": "",
       "version_major": 2,
       "version_minor": 0
      },
      "text/plain": [
       "HBox(children=(FloatProgress(value=0.0, description='Training', layout=Layout(flex='2'), max=5000.0, style=Pro…"
      ]
     },
     "metadata": {},
     "output_type": "display_data"
    },
    {
     "name": "stdout",
     "output_type": "stream",
     "text": [
      "Epoch 173: train=3.7064, val=3.45814, took 158.1 s\n"
     ]
    },
    {
     "data": {
      "application/vnd.jupyter.widget-view+json": {
       "model_id": "",
       "version_major": 2,
       "version_minor": 0
      },
      "text/plain": [
       "HBox(children=(FloatProgress(value=0.0, description='Training', layout=Layout(flex='2'), max=5000.0, style=Pro…"
      ]
     },
     "metadata": {},
     "output_type": "display_data"
    },
    {
     "name": "stdout",
     "output_type": "stream",
     "text": [
      "Epoch 174: train=3.70787, val=3.45826, took 158.3 s\n"
     ]
    },
    {
     "data": {
      "application/vnd.jupyter.widget-view+json": {
       "model_id": "",
       "version_major": 2,
       "version_minor": 0
      },
      "text/plain": [
       "HBox(children=(FloatProgress(value=0.0, description='Training', layout=Layout(flex='2'), max=5000.0, style=Pro…"
      ]
     },
     "metadata": {},
     "output_type": "display_data"
    },
    {
     "name": "stdout",
     "output_type": "stream",
     "text": [
      "Epoch 175: train=3.70593, val=3.51452, took 157.85 s\n"
     ]
    },
    {
     "data": {
      "application/vnd.jupyter.widget-view+json": {
       "model_id": "",
       "version_major": 2,
       "version_minor": 0
      },
      "text/plain": [
       "HBox(children=(FloatProgress(value=0.0, description='Training', layout=Layout(flex='2'), max=5000.0, style=Pro…"
      ]
     },
     "metadata": {},
     "output_type": "display_data"
    },
    {
     "name": "stdout",
     "output_type": "stream",
     "text": [
      "Epoch 176: train=3.70537, val=3.48757, took 159.27 s\n"
     ]
    },
    {
     "data": {
      "application/vnd.jupyter.widget-view+json": {
       "model_id": "",
       "version_major": 2,
       "version_minor": 0
      },
      "text/plain": [
       "HBox(children=(FloatProgress(value=0.0, description='Training', layout=Layout(flex='2'), max=5000.0, style=Pro…"
      ]
     },
     "metadata": {},
     "output_type": "display_data"
    },
    {
     "name": "stdout",
     "output_type": "stream",
     "text": [
      "Epoch 177: train=3.71018, val=3.48712, took 160.39 s\n"
     ]
    },
    {
     "data": {
      "application/vnd.jupyter.widget-view+json": {
       "model_id": "",
       "version_major": 2,
       "version_minor": 0
      },
      "text/plain": [
       "HBox(children=(FloatProgress(value=0.0, description='Training', layout=Layout(flex='2'), max=5000.0, style=Pro…"
      ]
     },
     "metadata": {},
     "output_type": "display_data"
    },
    {
     "name": "stdout",
     "output_type": "stream",
     "text": [
      "Epoch 178: train=3.7073, val=3.49393, took 158.05 s\n"
     ]
    },
    {
     "data": {
      "application/vnd.jupyter.widget-view+json": {
       "model_id": "",
       "version_major": 2,
       "version_minor": 0
      },
      "text/plain": [
       "HBox(children=(FloatProgress(value=0.0, description='Training', layout=Layout(flex='2'), max=5000.0, style=Pro…"
      ]
     },
     "metadata": {},
     "output_type": "display_data"
    },
    {
     "name": "stdout",
     "output_type": "stream",
     "text": [
      "Epoch 179: train=3.70513, val=3.45094, took 158.36 s\n"
     ]
    },
    {
     "data": {
      "application/vnd.jupyter.widget-view+json": {
       "model_id": "",
       "version_major": 2,
       "version_minor": 0
      },
      "text/plain": [
       "HBox(children=(FloatProgress(value=0.0, description='Training', layout=Layout(flex='2'), max=5000.0, style=Pro…"
      ]
     },
     "metadata": {},
     "output_type": "display_data"
    },
    {
     "name": "stdout",
     "output_type": "stream",
     "text": [
      "Epoch 180: train=3.69888, val=3.45857, took 159.12 s\n"
     ]
    },
    {
     "data": {
      "application/vnd.jupyter.widget-view+json": {
       "model_id": "",
       "version_major": 2,
       "version_minor": 0
      },
      "text/plain": [
       "HBox(children=(FloatProgress(value=0.0, description='Training', layout=Layout(flex='2'), max=5000.0, style=Pro…"
      ]
     },
     "metadata": {},
     "output_type": "display_data"
    },
    {
     "name": "stdout",
     "output_type": "stream",
     "text": [
      "Epoch 181: train=3.70367, val=3.5097, took 157.99 s\n"
     ]
    },
    {
     "data": {
      "application/vnd.jupyter.widget-view+json": {
       "model_id": "",
       "version_major": 2,
       "version_minor": 0
      },
      "text/plain": [
       "HBox(children=(FloatProgress(value=0.0, description='Training', layout=Layout(flex='2'), max=5000.0, style=Pro…"
      ]
     },
     "metadata": {},
     "output_type": "display_data"
    },
    {
     "name": "stdout",
     "output_type": "stream",
     "text": [
      "Epoch 182: train=3.69674, val=3.45269, took 161.85 s\n"
     ]
    },
    {
     "data": {
      "application/vnd.jupyter.widget-view+json": {
       "model_id": "",
       "version_major": 2,
       "version_minor": 0
      },
      "text/plain": [
       "HBox(children=(FloatProgress(value=0.0, description='Training', layout=Layout(flex='2'), max=5000.0, style=Pro…"
      ]
     },
     "metadata": {},
     "output_type": "display_data"
    },
    {
     "name": "stdout",
     "output_type": "stream",
     "text": [
      "Epoch 183: train=3.70144, val=3.58309, took 161.05 s\n"
     ]
    },
    {
     "data": {
      "application/vnd.jupyter.widget-view+json": {
       "model_id": "",
       "version_major": 2,
       "version_minor": 0
      },
      "text/plain": [
       "HBox(children=(FloatProgress(value=0.0, description='Training', layout=Layout(flex='2'), max=5000.0, style=Pro…"
      ]
     },
     "metadata": {},
     "output_type": "display_data"
    },
    {
     "name": "stdout",
     "output_type": "stream",
     "text": [
      "Epoch 184: train=3.69876, val=3.53565, took 158.49 s\n"
     ]
    },
    {
     "data": {
      "application/vnd.jupyter.widget-view+json": {
       "model_id": "",
       "version_major": 2,
       "version_minor": 0
      },
      "text/plain": [
       "HBox(children=(FloatProgress(value=0.0, description='Training', layout=Layout(flex='2'), max=5000.0, style=Pro…"
      ]
     },
     "metadata": {},
     "output_type": "display_data"
    },
    {
     "name": "stdout",
     "output_type": "stream",
     "text": [
      "Epoch 185: train=3.69827, val=3.4906, took 159.45 s\n"
     ]
    },
    {
     "data": {
      "application/vnd.jupyter.widget-view+json": {
       "model_id": "",
       "version_major": 2,
       "version_minor": 0
      },
      "text/plain": [
       "HBox(children=(FloatProgress(value=0.0, description='Training', layout=Layout(flex='2'), max=5000.0, style=Pro…"
      ]
     },
     "metadata": {},
     "output_type": "display_data"
    },
    {
     "name": "stdout",
     "output_type": "stream",
     "text": [
      "Epoch 186: train=3.69879, val=3.44233, took 158.51 s\n"
     ]
    },
    {
     "data": {
      "application/vnd.jupyter.widget-view+json": {
       "model_id": "",
       "version_major": 2,
       "version_minor": 0
      },
      "text/plain": [
       "HBox(children=(FloatProgress(value=0.0, description='Training', layout=Layout(flex='2'), max=5000.0, style=Pro…"
      ]
     },
     "metadata": {},
     "output_type": "display_data"
    },
    {
     "name": "stdout",
     "output_type": "stream",
     "text": [
      "Epoch 187: train=3.69711, val=3.53926, took 158.68 s\n"
     ]
    },
    {
     "data": {
      "application/vnd.jupyter.widget-view+json": {
       "model_id": "",
       "version_major": 2,
       "version_minor": 0
      },
      "text/plain": [
       "HBox(children=(FloatProgress(value=0.0, description='Training', layout=Layout(flex='2'), max=5000.0, style=Pro…"
      ]
     },
     "metadata": {},
     "output_type": "display_data"
    },
    {
     "name": "stdout",
     "output_type": "stream",
     "text": [
      "Epoch 188: train=3.6972, val=3.45043, took 158.63 s\n"
     ]
    },
    {
     "data": {
      "application/vnd.jupyter.widget-view+json": {
       "model_id": "",
       "version_major": 2,
       "version_minor": 0
      },
      "text/plain": [
       "HBox(children=(FloatProgress(value=0.0, description='Training', layout=Layout(flex='2'), max=5000.0, style=Pro…"
      ]
     },
     "metadata": {},
     "output_type": "display_data"
    },
    {
     "name": "stdout",
     "output_type": "stream",
     "text": [
      "Epoch 189: train=3.69241, val=3.44218, took 158.84 s\n"
     ]
    },
    {
     "data": {
      "application/vnd.jupyter.widget-view+json": {
       "model_id": "",
       "version_major": 2,
       "version_minor": 0
      },
      "text/plain": [
       "HBox(children=(FloatProgress(value=0.0, description='Training', layout=Layout(flex='2'), max=5000.0, style=Pro…"
      ]
     },
     "metadata": {},
     "output_type": "display_data"
    },
    {
     "name": "stdout",
     "output_type": "stream",
     "text": [
      "Epoch 190: train=3.69784, val=3.60645, took 158.23 s\n"
     ]
    },
    {
     "data": {
      "application/vnd.jupyter.widget-view+json": {
       "model_id": "",
       "version_major": 2,
       "version_minor": 0
      },
      "text/plain": [
       "HBox(children=(FloatProgress(value=0.0, description='Training', layout=Layout(flex='2'), max=5000.0, style=Pro…"
      ]
     },
     "metadata": {},
     "output_type": "display_data"
    },
    {
     "name": "stdout",
     "output_type": "stream",
     "text": [
      "Epoch 191: train=3.69522, val=3.48423, took 159.4 s\n"
     ]
    },
    {
     "data": {
      "application/vnd.jupyter.widget-view+json": {
       "model_id": "",
       "version_major": 2,
       "version_minor": 0
      },
      "text/plain": [
       "HBox(children=(FloatProgress(value=0.0, description='Training', layout=Layout(flex='2'), max=5000.0, style=Pro…"
      ]
     },
     "metadata": {},
     "output_type": "display_data"
    },
    {
     "name": "stdout",
     "output_type": "stream",
     "text": [
      "Epoch 192: train=3.69652, val=3.4466, took 161.73 s\n"
     ]
    },
    {
     "data": {
      "application/vnd.jupyter.widget-view+json": {
       "model_id": "",
       "version_major": 2,
       "version_minor": 0
      },
      "text/plain": [
       "HBox(children=(FloatProgress(value=0.0, description='Training', layout=Layout(flex='2'), max=5000.0, style=Pro…"
      ]
     },
     "metadata": {},
     "output_type": "display_data"
    },
    {
     "name": "stdout",
     "output_type": "stream",
     "text": [
      "Epoch 193: train=3.69203, val=3.44815, took 161.8 s\n"
     ]
    },
    {
     "data": {
      "application/vnd.jupyter.widget-view+json": {
       "model_id": "",
       "version_major": 2,
       "version_minor": 0
      },
      "text/plain": [
       "HBox(children=(FloatProgress(value=0.0, description='Training', layout=Layout(flex='2'), max=5000.0, style=Pro…"
      ]
     },
     "metadata": {},
     "output_type": "display_data"
    },
    {
     "name": "stdout",
     "output_type": "stream",
     "text": [
      "Epoch 194: train=3.69046, val=3.46744, took 160.3 s\n"
     ]
    },
    {
     "data": {
      "application/vnd.jupyter.widget-view+json": {
       "model_id": "",
       "version_major": 2,
       "version_minor": 0
      },
      "text/plain": [
       "HBox(children=(FloatProgress(value=0.0, description='Training', layout=Layout(flex='2'), max=5000.0, style=Pro…"
      ]
     },
     "metadata": {},
     "output_type": "display_data"
    },
    {
     "name": "stdout",
     "output_type": "stream",
     "text": [
      "Epoch 195: train=3.68963, val=3.49488, took 160.85 s\n"
     ]
    },
    {
     "data": {
      "application/vnd.jupyter.widget-view+json": {
       "model_id": "",
       "version_major": 2,
       "version_minor": 0
      },
      "text/plain": [
       "HBox(children=(FloatProgress(value=0.0, description='Training', layout=Layout(flex='2'), max=5000.0, style=Pro…"
      ]
     },
     "metadata": {},
     "output_type": "display_data"
    },
    {
     "name": "stdout",
     "output_type": "stream",
     "text": [
      "Epoch 196: train=3.69083, val=3.52912, took 162.37 s\n"
     ]
    },
    {
     "data": {
      "application/vnd.jupyter.widget-view+json": {
       "model_id": "",
       "version_major": 2,
       "version_minor": 0
      },
      "text/plain": [
       "HBox(children=(FloatProgress(value=0.0, description='Training', layout=Layout(flex='2'), max=5000.0, style=Pro…"
      ]
     },
     "metadata": {},
     "output_type": "display_data"
    },
    {
     "name": "stdout",
     "output_type": "stream",
     "text": [
      "Epoch 197: train=3.68809, val=3.44722, took 160.31 s\n"
     ]
    },
    {
     "data": {
      "application/vnd.jupyter.widget-view+json": {
       "model_id": "",
       "version_major": 2,
       "version_minor": 0
      },
      "text/plain": [
       "HBox(children=(FloatProgress(value=0.0, description='Training', layout=Layout(flex='2'), max=5000.0, style=Pro…"
      ]
     },
     "metadata": {},
     "output_type": "display_data"
    },
    {
     "name": "stdout",
     "output_type": "stream",
     "text": [
      "Epoch 198: train=3.688, val=3.54691, took 163.62 s\n"
     ]
    },
    {
     "data": {
      "application/vnd.jupyter.widget-view+json": {
       "model_id": "",
       "version_major": 2,
       "version_minor": 0
      },
      "text/plain": [
       "HBox(children=(FloatProgress(value=0.0, description='Training', layout=Layout(flex='2'), max=5000.0, style=Pro…"
      ]
     },
     "metadata": {},
     "output_type": "display_data"
    },
    {
     "name": "stdout",
     "output_type": "stream",
     "text": [
      "Epoch 199: train=3.68821, val=3.44791, took 159.67 s\n"
     ]
    },
    {
     "data": {
      "application/vnd.jupyter.widget-view+json": {
       "model_id": "",
       "version_major": 2,
       "version_minor": 0
      },
      "text/plain": [
       "HBox(children=(FloatProgress(value=0.0, description='Training', layout=Layout(flex='2'), max=5000.0, style=Pro…"
      ]
     },
     "metadata": {},
     "output_type": "display_data"
    },
    {
     "name": "stdout",
     "output_type": "stream",
     "text": [
      "Epoch 200: train=3.68901, val=3.43677, took 159.35 s\n"
     ]
    },
    {
     "data": {
      "application/vnd.jupyter.widget-view+json": {
       "model_id": "",
       "version_major": 2,
       "version_minor": 0
      },
      "text/plain": [
       "HBox(children=(FloatProgress(value=0.0, description='Training', layout=Layout(flex='2'), max=5000.0, style=Pro…"
      ]
     },
     "metadata": {},
     "output_type": "display_data"
    },
    {
     "name": "stdout",
     "output_type": "stream",
     "text": [
      "Epoch 201: train=3.68486, val=3.50416, took 160.21 s\n"
     ]
    },
    {
     "data": {
      "application/vnd.jupyter.widget-view+json": {
       "model_id": "",
       "version_major": 2,
       "version_minor": 0
      },
      "text/plain": [
       "HBox(children=(FloatProgress(value=0.0, description='Training', layout=Layout(flex='2'), max=5000.0, style=Pro…"
      ]
     },
     "metadata": {},
     "output_type": "display_data"
    },
    {
     "name": "stdout",
     "output_type": "stream",
     "text": [
      "Epoch 202: train=3.68649, val=3.52043, took 158.29 s\n"
     ]
    },
    {
     "data": {
      "application/vnd.jupyter.widget-view+json": {
       "model_id": "",
       "version_major": 2,
       "version_minor": 0
      },
      "text/plain": [
       "HBox(children=(FloatProgress(value=0.0, description='Training', layout=Layout(flex='2'), max=5000.0, style=Pro…"
      ]
     },
     "metadata": {},
     "output_type": "display_data"
    },
    {
     "name": "stdout",
     "output_type": "stream",
     "text": [
      "Epoch 203: train=3.6838, val=3.4372, took 158.94 s\n"
     ]
    },
    {
     "data": {
      "application/vnd.jupyter.widget-view+json": {
       "model_id": "",
       "version_major": 2,
       "version_minor": 0
      },
      "text/plain": [
       "HBox(children=(FloatProgress(value=0.0, description='Training', layout=Layout(flex='2'), max=5000.0, style=Pro…"
      ]
     },
     "metadata": {},
     "output_type": "display_data"
    },
    {
     "name": "stdout",
     "output_type": "stream",
     "text": [
      "Epoch 204: train=3.68169, val=3.49215, took 159.82 s\n"
     ]
    },
    {
     "data": {
      "application/vnd.jupyter.widget-view+json": {
       "model_id": "",
       "version_major": 2,
       "version_minor": 0
      },
      "text/plain": [
       "HBox(children=(FloatProgress(value=0.0, description='Training', layout=Layout(flex='2'), max=5000.0, style=Pro…"
      ]
     },
     "metadata": {},
     "output_type": "display_data"
    },
    {
     "name": "stdout",
     "output_type": "stream",
     "text": [
      "Epoch 205: train=3.68435, val=3.42889, took 159.41 s\n"
     ]
    },
    {
     "data": {
      "application/vnd.jupyter.widget-view+json": {
       "model_id": "",
       "version_major": 2,
       "version_minor": 0
      },
      "text/plain": [
       "HBox(children=(FloatProgress(value=0.0, description='Training', layout=Layout(flex='2'), max=5000.0, style=Pro…"
      ]
     },
     "metadata": {},
     "output_type": "display_data"
    },
    {
     "name": "stdout",
     "output_type": "stream",
     "text": [
      "Epoch 206: train=3.68012, val=3.45834, took 160.75 s\n"
     ]
    },
    {
     "data": {
      "application/vnd.jupyter.widget-view+json": {
       "model_id": "",
       "version_major": 2,
       "version_minor": 0
      },
      "text/plain": [
       "HBox(children=(FloatProgress(value=0.0, description='Training', layout=Layout(flex='2'), max=5000.0, style=Pro…"
      ]
     },
     "metadata": {},
     "output_type": "display_data"
    },
    {
     "name": "stdout",
     "output_type": "stream",
     "text": [
      "Epoch 207: train=3.67963, val=3.45588, took 158.5 s\n"
     ]
    },
    {
     "data": {
      "application/vnd.jupyter.widget-view+json": {
       "model_id": "",
       "version_major": 2,
       "version_minor": 0
      },
      "text/plain": [
       "HBox(children=(FloatProgress(value=0.0, description='Training', layout=Layout(flex='2'), max=5000.0, style=Pro…"
      ]
     },
     "metadata": {},
     "output_type": "display_data"
    },
    {
     "name": "stdout",
     "output_type": "stream",
     "text": [
      "Epoch 208: train=3.68167, val=3.47628, took 159.71 s\n"
     ]
    },
    {
     "data": {
      "application/vnd.jupyter.widget-view+json": {
       "model_id": "",
       "version_major": 2,
       "version_minor": 0
      },
      "text/plain": [
       "HBox(children=(FloatProgress(value=0.0, description='Training', layout=Layout(flex='2'), max=5000.0, style=Pro…"
      ]
     },
     "metadata": {},
     "output_type": "display_data"
    },
    {
     "name": "stdout",
     "output_type": "stream",
     "text": [
      "Epoch 209: train=3.68079, val=3.45231, took 159.77 s\n"
     ]
    },
    {
     "data": {
      "application/vnd.jupyter.widget-view+json": {
       "model_id": "",
       "version_major": 2,
       "version_minor": 0
      },
      "text/plain": [
       "HBox(children=(FloatProgress(value=0.0, description='Training', layout=Layout(flex='2'), max=5000.0, style=Pro…"
      ]
     },
     "metadata": {},
     "output_type": "display_data"
    },
    {
     "name": "stdout",
     "output_type": "stream",
     "text": [
      "Epoch 210: train=3.68219, val=3.51026, took 160.39 s\n"
     ]
    },
    {
     "data": {
      "application/vnd.jupyter.widget-view+json": {
       "model_id": "",
       "version_major": 2,
       "version_minor": 0
      },
      "text/plain": [
       "HBox(children=(FloatProgress(value=0.0, description='Training', layout=Layout(flex='2'), max=5000.0, style=Pro…"
      ]
     },
     "metadata": {},
     "output_type": "display_data"
    },
    {
     "name": "stdout",
     "output_type": "stream",
     "text": [
      "Epoch 211: train=3.68202, val=3.44762, took 158.82 s\n"
     ]
    },
    {
     "data": {
      "application/vnd.jupyter.widget-view+json": {
       "model_id": "",
       "version_major": 2,
       "version_minor": 0
      },
      "text/plain": [
       "HBox(children=(FloatProgress(value=0.0, description='Training', layout=Layout(flex='2'), max=5000.0, style=Pro…"
      ]
     },
     "metadata": {},
     "output_type": "display_data"
    },
    {
     "name": "stdout",
     "output_type": "stream",
     "text": [
      "Epoch 212: train=3.67663, val=3.5416, took 158.98 s\n"
     ]
    },
    {
     "data": {
      "application/vnd.jupyter.widget-view+json": {
       "model_id": "",
       "version_major": 2,
       "version_minor": 0
      },
      "text/plain": [
       "HBox(children=(FloatProgress(value=0.0, description='Training', layout=Layout(flex='2'), max=5000.0, style=Pro…"
      ]
     },
     "metadata": {},
     "output_type": "display_data"
    },
    {
     "name": "stdout",
     "output_type": "stream",
     "text": [
      "Epoch 213: train=3.6743, val=3.4978, took 158.75 s\n"
     ]
    },
    {
     "data": {
      "application/vnd.jupyter.widget-view+json": {
       "model_id": "",
       "version_major": 2,
       "version_minor": 0
      },
      "text/plain": [
       "HBox(children=(FloatProgress(value=0.0, description='Training', layout=Layout(flex='2'), max=5000.0, style=Pro…"
      ]
     },
     "metadata": {},
     "output_type": "display_data"
    },
    {
     "name": "stdout",
     "output_type": "stream",
     "text": [
      "Epoch 214: train=3.67701, val=3.43716, took 159.89 s\n"
     ]
    },
    {
     "data": {
      "application/vnd.jupyter.widget-view+json": {
       "model_id": "",
       "version_major": 2,
       "version_minor": 0
      },
      "text/plain": [
       "HBox(children=(FloatProgress(value=0.0, description='Training', layout=Layout(flex='2'), max=5000.0, style=Pro…"
      ]
     },
     "metadata": {},
     "output_type": "display_data"
    },
    {
     "name": "stdout",
     "output_type": "stream",
     "text": [
      "Epoch 215: train=3.67472, val=3.56209, took 160.46 s\n"
     ]
    },
    {
     "data": {
      "application/vnd.jupyter.widget-view+json": {
       "model_id": "",
       "version_major": 2,
       "version_minor": 0
      },
      "text/plain": [
       "HBox(children=(FloatProgress(value=0.0, description='Training', layout=Layout(flex='2'), max=5000.0, style=Pro…"
      ]
     },
     "metadata": {},
     "output_type": "display_data"
    },
    {
     "name": "stdout",
     "output_type": "stream",
     "text": [
      "Epoch 216: train=3.67425, val=3.48544, took 159.92 s\n"
     ]
    },
    {
     "data": {
      "application/vnd.jupyter.widget-view+json": {
       "model_id": "",
       "version_major": 2,
       "version_minor": 0
      },
      "text/plain": [
       "HBox(children=(FloatProgress(value=0.0, description='Training', layout=Layout(flex='2'), max=5000.0, style=Pro…"
      ]
     },
     "metadata": {},
     "output_type": "display_data"
    },
    {
     "name": "stdout",
     "output_type": "stream",
     "text": [
      "Epoch 217: train=3.67389, val=3.4189, took 160.79 s\n"
     ]
    },
    {
     "data": {
      "application/vnd.jupyter.widget-view+json": {
       "model_id": "",
       "version_major": 2,
       "version_minor": 0
      },
      "text/plain": [
       "HBox(children=(FloatProgress(value=0.0, description='Training', layout=Layout(flex='2'), max=5000.0, style=Pro…"
      ]
     },
     "metadata": {},
     "output_type": "display_data"
    },
    {
     "name": "stdout",
     "output_type": "stream",
     "text": [
      "Epoch 218: train=3.67227, val=3.43226, took 160.98 s\n"
     ]
    },
    {
     "data": {
      "application/vnd.jupyter.widget-view+json": {
       "model_id": "",
       "version_major": 2,
       "version_minor": 0
      },
      "text/plain": [
       "HBox(children=(FloatProgress(value=0.0, description='Training', layout=Layout(flex='2'), max=5000.0, style=Pro…"
      ]
     },
     "metadata": {},
     "output_type": "display_data"
    },
    {
     "name": "stdout",
     "output_type": "stream",
     "text": [
      "Epoch 219: train=3.67106, val=3.51067, took 158.47 s\n"
     ]
    },
    {
     "data": {
      "application/vnd.jupyter.widget-view+json": {
       "model_id": "",
       "version_major": 2,
       "version_minor": 0
      },
      "text/plain": [
       "HBox(children=(FloatProgress(value=0.0, description='Training', layout=Layout(flex='2'), max=5000.0, style=Pro…"
      ]
     },
     "metadata": {},
     "output_type": "display_data"
    },
    {
     "name": "stdout",
     "output_type": "stream",
     "text": [
      "Epoch 220: train=3.67439, val=3.44248, took 158.66 s\n"
     ]
    },
    {
     "data": {
      "application/vnd.jupyter.widget-view+json": {
       "model_id": "",
       "version_major": 2,
       "version_minor": 0
      },
      "text/plain": [
       "HBox(children=(FloatProgress(value=0.0, description='Training', layout=Layout(flex='2'), max=5000.0, style=Pro…"
      ]
     },
     "metadata": {},
     "output_type": "display_data"
    },
    {
     "name": "stdout",
     "output_type": "stream",
     "text": [
      "Epoch 221: train=3.6693, val=3.42722, took 157.87 s\n"
     ]
    },
    {
     "data": {
      "application/vnd.jupyter.widget-view+json": {
       "model_id": "",
       "version_major": 2,
       "version_minor": 0
      },
      "text/plain": [
       "HBox(children=(FloatProgress(value=0.0, description='Training', layout=Layout(flex='2'), max=5000.0, style=Pro…"
      ]
     },
     "metadata": {},
     "output_type": "display_data"
    },
    {
     "name": "stdout",
     "output_type": "stream",
     "text": [
      "Epoch 222: train=3.67021, val=3.42952, took 159.34 s\n"
     ]
    },
    {
     "data": {
      "application/vnd.jupyter.widget-view+json": {
       "model_id": "",
       "version_major": 2,
       "version_minor": 0
      },
      "text/plain": [
       "HBox(children=(FloatProgress(value=0.0, description='Training', layout=Layout(flex='2'), max=5000.0, style=Pro…"
      ]
     },
     "metadata": {},
     "output_type": "display_data"
    },
    {
     "name": "stdout",
     "output_type": "stream",
     "text": [
      "Epoch 223: train=3.67063, val=3.46941, took 162.73 s\n"
     ]
    },
    {
     "data": {
      "application/vnd.jupyter.widget-view+json": {
       "model_id": "",
       "version_major": 2,
       "version_minor": 0
      },
      "text/plain": [
       "HBox(children=(FloatProgress(value=0.0, description='Training', layout=Layout(flex='2'), max=5000.0, style=Pro…"
      ]
     },
     "metadata": {},
     "output_type": "display_data"
    },
    {
     "name": "stdout",
     "output_type": "stream",
     "text": [
      "Epoch 224: train=3.66774, val=3.51985, took 160.31 s\n"
     ]
    },
    {
     "data": {
      "application/vnd.jupyter.widget-view+json": {
       "model_id": "",
       "version_major": 2,
       "version_minor": 0
      },
      "text/plain": [
       "HBox(children=(FloatProgress(value=0.0, description='Training', layout=Layout(flex='2'), max=5000.0, style=Pro…"
      ]
     },
     "metadata": {},
     "output_type": "display_data"
    },
    {
     "name": "stdout",
     "output_type": "stream",
     "text": [
      "Epoch 225: train=3.66891, val=3.44822, took 160.75 s\n"
     ]
    },
    {
     "data": {
      "application/vnd.jupyter.widget-view+json": {
       "model_id": "",
       "version_major": 2,
       "version_minor": 0
      },
      "text/plain": [
       "HBox(children=(FloatProgress(value=0.0, description='Training', layout=Layout(flex='2'), max=5000.0, style=Pro…"
      ]
     },
     "metadata": {},
     "output_type": "display_data"
    },
    {
     "name": "stdout",
     "output_type": "stream",
     "text": [
      "Epoch 226: train=3.66925, val=3.4234, took 165.12 s\n"
     ]
    },
    {
     "data": {
      "application/vnd.jupyter.widget-view+json": {
       "model_id": "",
       "version_major": 2,
       "version_minor": 0
      },
      "text/plain": [
       "HBox(children=(FloatProgress(value=0.0, description='Training', layout=Layout(flex='2'), max=5000.0, style=Pro…"
      ]
     },
     "metadata": {},
     "output_type": "display_data"
    },
    {
     "name": "stdout",
     "output_type": "stream",
     "text": [
      "Epoch 227: train=3.66825, val=3.43366, took 163.81 s\n"
     ]
    },
    {
     "data": {
      "application/vnd.jupyter.widget-view+json": {
       "model_id": "",
       "version_major": 2,
       "version_minor": 0
      },
      "text/plain": [
       "HBox(children=(FloatProgress(value=0.0, description='Training', layout=Layout(flex='2'), max=5000.0, style=Pro…"
      ]
     },
     "metadata": {},
     "output_type": "display_data"
    },
    {
     "name": "stdout",
     "output_type": "stream",
     "text": [
      "Epoch 228: train=3.67269, val=3.42276, took 162.9 s\n"
     ]
    },
    {
     "data": {
      "application/vnd.jupyter.widget-view+json": {
       "model_id": "",
       "version_major": 2,
       "version_minor": 0
      },
      "text/plain": [
       "HBox(children=(FloatProgress(value=0.0, description='Training', layout=Layout(flex='2'), max=5000.0, style=Pro…"
      ]
     },
     "metadata": {},
     "output_type": "display_data"
    },
    {
     "name": "stdout",
     "output_type": "stream",
     "text": [
      "Epoch 229: train=3.66478, val=3.41595, took 163.79 s\n"
     ]
    },
    {
     "data": {
      "application/vnd.jupyter.widget-view+json": {
       "model_id": "",
       "version_major": 2,
       "version_minor": 0
      },
      "text/plain": [
       "HBox(children=(FloatProgress(value=0.0, description='Training', layout=Layout(flex='2'), max=5000.0, style=Pro…"
      ]
     },
     "metadata": {},
     "output_type": "display_data"
    },
    {
     "name": "stdout",
     "output_type": "stream",
     "text": [
      "Epoch 230: train=3.66375, val=3.47637, took 158.78 s\n"
     ]
    },
    {
     "data": {
      "application/vnd.jupyter.widget-view+json": {
       "model_id": "",
       "version_major": 2,
       "version_minor": 0
      },
      "text/plain": [
       "HBox(children=(FloatProgress(value=0.0, description='Training', layout=Layout(flex='2'), max=5000.0, style=Pro…"
      ]
     },
     "metadata": {},
     "output_type": "display_data"
    },
    {
     "name": "stdout",
     "output_type": "stream",
     "text": [
      "Epoch 231: train=3.66514, val=3.45567, took 158.35 s\n"
     ]
    },
    {
     "data": {
      "application/vnd.jupyter.widget-view+json": {
       "model_id": "",
       "version_major": 2,
       "version_minor": 0
      },
      "text/plain": [
       "HBox(children=(FloatProgress(value=0.0, description='Training', layout=Layout(flex='2'), max=5000.0, style=Pro…"
      ]
     },
     "metadata": {},
     "output_type": "display_data"
    },
    {
     "name": "stdout",
     "output_type": "stream",
     "text": [
      "Epoch 232: train=3.6657, val=3.41941, took 159.89 s\n"
     ]
    },
    {
     "data": {
      "application/vnd.jupyter.widget-view+json": {
       "model_id": "",
       "version_major": 2,
       "version_minor": 0
      },
      "text/plain": [
       "HBox(children=(FloatProgress(value=0.0, description='Training', layout=Layout(flex='2'), max=5000.0, style=Pro…"
      ]
     },
     "metadata": {},
     "output_type": "display_data"
    },
    {
     "name": "stdout",
     "output_type": "stream",
     "text": [
      "Epoch 233: train=3.66456, val=3.52771, took 159.22 s\n"
     ]
    },
    {
     "data": {
      "application/vnd.jupyter.widget-view+json": {
       "model_id": "",
       "version_major": 2,
       "version_minor": 0
      },
      "text/plain": [
       "HBox(children=(FloatProgress(value=0.0, description='Training', layout=Layout(flex='2'), max=5000.0, style=Pro…"
      ]
     },
     "metadata": {},
     "output_type": "display_data"
    },
    {
     "name": "stdout",
     "output_type": "stream",
     "text": [
      "Epoch 234: train=3.66262, val=3.42177, took 158.57 s\n"
     ]
    },
    {
     "data": {
      "application/vnd.jupyter.widget-view+json": {
       "model_id": "",
       "version_major": 2,
       "version_minor": 0
      },
      "text/plain": [
       "HBox(children=(FloatProgress(value=0.0, description='Training', layout=Layout(flex='2'), max=5000.0, style=Pro…"
      ]
     },
     "metadata": {},
     "output_type": "display_data"
    },
    {
     "name": "stdout",
     "output_type": "stream",
     "text": [
      "Epoch 235: train=3.66257, val=3.52158, took 159.53 s\n"
     ]
    },
    {
     "data": {
      "application/vnd.jupyter.widget-view+json": {
       "model_id": "",
       "version_major": 2,
       "version_minor": 0
      },
      "text/plain": [
       "HBox(children=(FloatProgress(value=0.0, description='Training', layout=Layout(flex='2'), max=5000.0, style=Pro…"
      ]
     },
     "metadata": {},
     "output_type": "display_data"
    },
    {
     "name": "stdout",
     "output_type": "stream",
     "text": [
      "Epoch 236: train=3.66627, val=3.44216, took 159.91 s\n"
     ]
    },
    {
     "data": {
      "application/vnd.jupyter.widget-view+json": {
       "model_id": "",
       "version_major": 2,
       "version_minor": 0
      },
      "text/plain": [
       "HBox(children=(FloatProgress(value=0.0, description='Training', layout=Layout(flex='2'), max=5000.0, style=Pro…"
      ]
     },
     "metadata": {},
     "output_type": "display_data"
    },
    {
     "name": "stdout",
     "output_type": "stream",
     "text": [
      "Epoch 237: train=3.66342, val=3.43327, took 160.0 s\n"
     ]
    },
    {
     "data": {
      "application/vnd.jupyter.widget-view+json": {
       "model_id": "",
       "version_major": 2,
       "version_minor": 0
      },
      "text/plain": [
       "HBox(children=(FloatProgress(value=0.0, description='Training', layout=Layout(flex='2'), max=5000.0, style=Pro…"
      ]
     },
     "metadata": {},
     "output_type": "display_data"
    },
    {
     "name": "stdout",
     "output_type": "stream",
     "text": [
      "Epoch 238: train=3.6625, val=3.48934, took 160.3 s\n"
     ]
    },
    {
     "data": {
      "application/vnd.jupyter.widget-view+json": {
       "model_id": "",
       "version_major": 2,
       "version_minor": 0
      },
      "text/plain": [
       "HBox(children=(FloatProgress(value=0.0, description='Training', layout=Layout(flex='2'), max=5000.0, style=Pro…"
      ]
     },
     "metadata": {},
     "output_type": "display_data"
    },
    {
     "name": "stdout",
     "output_type": "stream",
     "text": [
      "Epoch 239: train=3.65863, val=3.40772, took 160.2 s\n"
     ]
    },
    {
     "data": {
      "application/vnd.jupyter.widget-view+json": {
       "model_id": "",
       "version_major": 2,
       "version_minor": 0
      },
      "text/plain": [
       "HBox(children=(FloatProgress(value=0.0, description='Training', layout=Layout(flex='2'), max=5000.0, style=Pro…"
      ]
     },
     "metadata": {},
     "output_type": "display_data"
    },
    {
     "name": "stdout",
     "output_type": "stream",
     "text": [
      "Epoch 240: train=3.65964, val=3.40588, took 162.33 s\n"
     ]
    },
    {
     "data": {
      "application/vnd.jupyter.widget-view+json": {
       "model_id": "",
       "version_major": 2,
       "version_minor": 0
      },
      "text/plain": [
       "HBox(children=(FloatProgress(value=0.0, description='Training', layout=Layout(flex='2'), max=5000.0, style=Pro…"
      ]
     },
     "metadata": {},
     "output_type": "display_data"
    },
    {
     "name": "stdout",
     "output_type": "stream",
     "text": [
      "Epoch 241: train=3.6566, val=3.46505, took 161.06 s\n"
     ]
    },
    {
     "data": {
      "application/vnd.jupyter.widget-view+json": {
       "model_id": "",
       "version_major": 2,
       "version_minor": 0
      },
      "text/plain": [
       "HBox(children=(FloatProgress(value=0.0, description='Training', layout=Layout(flex='2'), max=5000.0, style=Pro…"
      ]
     },
     "metadata": {},
     "output_type": "display_data"
    },
    {
     "name": "stdout",
     "output_type": "stream",
     "text": [
      "Epoch 242: train=3.65375, val=3.44333, took 160.97 s\n"
     ]
    },
    {
     "data": {
      "application/vnd.jupyter.widget-view+json": {
       "model_id": "",
       "version_major": 2,
       "version_minor": 0
      },
      "text/plain": [
       "HBox(children=(FloatProgress(value=0.0, description='Training', layout=Layout(flex='2'), max=5000.0, style=Pro…"
      ]
     },
     "metadata": {},
     "output_type": "display_data"
    },
    {
     "name": "stdout",
     "output_type": "stream",
     "text": [
      "Epoch 243: train=3.65752, val=3.41124, took 159.32 s\n"
     ]
    },
    {
     "data": {
      "application/vnd.jupyter.widget-view+json": {
       "model_id": "",
       "version_major": 2,
       "version_minor": 0
      },
      "text/plain": [
       "HBox(children=(FloatProgress(value=0.0, description='Training', layout=Layout(flex='2'), max=5000.0, style=Pro…"
      ]
     },
     "metadata": {},
     "output_type": "display_data"
    },
    {
     "name": "stdout",
     "output_type": "stream",
     "text": [
      "Epoch 244: train=3.659, val=3.40407, took 159.67 s\n"
     ]
    },
    {
     "data": {
      "application/vnd.jupyter.widget-view+json": {
       "model_id": "",
       "version_major": 2,
       "version_minor": 0
      },
      "text/plain": [
       "HBox(children=(FloatProgress(value=0.0, description='Training', layout=Layout(flex='2'), max=5000.0, style=Pro…"
      ]
     },
     "metadata": {},
     "output_type": "display_data"
    },
    {
     "name": "stdout",
     "output_type": "stream",
     "text": [
      "Epoch 245: train=3.65418, val=3.45523, took 158.94 s\n"
     ]
    },
    {
     "data": {
      "application/vnd.jupyter.widget-view+json": {
       "model_id": "",
       "version_major": 2,
       "version_minor": 0
      },
      "text/plain": [
       "HBox(children=(FloatProgress(value=0.0, description='Training', layout=Layout(flex='2'), max=5000.0, style=Pro…"
      ]
     },
     "metadata": {},
     "output_type": "display_data"
    },
    {
     "name": "stdout",
     "output_type": "stream",
     "text": [
      "Epoch 246: train=3.65349, val=3.43984, took 159.5 s\n"
     ]
    },
    {
     "data": {
      "application/vnd.jupyter.widget-view+json": {
       "model_id": "",
       "version_major": 2,
       "version_minor": 0
      },
      "text/plain": [
       "HBox(children=(FloatProgress(value=0.0, description='Training', layout=Layout(flex='2'), max=5000.0, style=Pro…"
      ]
     },
     "metadata": {},
     "output_type": "display_data"
    },
    {
     "name": "stdout",
     "output_type": "stream",
     "text": [
      "Epoch 247: train=3.65236, val=3.46831, took 158.65 s\n"
     ]
    },
    {
     "data": {
      "application/vnd.jupyter.widget-view+json": {
       "model_id": "",
       "version_major": 2,
       "version_minor": 0
      },
      "text/plain": [
       "HBox(children=(FloatProgress(value=0.0, description='Training', layout=Layout(flex='2'), max=5000.0, style=Pro…"
      ]
     },
     "metadata": {},
     "output_type": "display_data"
    },
    {
     "name": "stdout",
     "output_type": "stream",
     "text": [
      "Epoch 248: train=3.65363, val=3.45035, took 158.87 s\n"
     ]
    },
    {
     "data": {
      "application/vnd.jupyter.widget-view+json": {
       "model_id": "",
       "version_major": 2,
       "version_minor": 0
      },
      "text/plain": [
       "HBox(children=(FloatProgress(value=0.0, description='Training', layout=Layout(flex='2'), max=5000.0, style=Pro…"
      ]
     },
     "metadata": {},
     "output_type": "display_data"
    },
    {
     "name": "stdout",
     "output_type": "stream",
     "text": [
      "Epoch 249: train=3.65392, val=3.44238, took 159.17 s\n",
      "\n"
     ]
    }
   ],
   "source": [
    "for result in trainNet(model, optimizer, loss,\n",
    "                        train_loader, val_loader,\n",
    "                        n_epochs, epoch_start=len(results),\n",
    "                        notebook=True):\n",
    "    \n",
    "    results = results.append(pd.Series(result._asdict()), ignore_index=True)\n",
    "    xs = results.index\n",
    "    \n",
    "    # Update the plot above\n",
    "    lines['train'].set_data(results.index,results.cost)\n",
    "    lines['val'].set_data(results.index,results.val)\n",
    "    \n",
    "    #filter first cost epoch (can be really large)\n",
    "    max_cost = max(max(results.cost if len(results.cost)<2 else results.cost[1:]), max(results.val))\n",
    "    min_cost = min(min(results.cost), min(results.val))\n",
    "    \n",
    "    # The plot limits need updating too\n",
    "    \n",
    "    \n",
    "    \n",
    "    ax.set_ylim(min_cost*.9, max_cost*1.1)  \n",
    "    ax.set_xlim(-.5, len(results.cost) - .5)\n",
    "\n",
    "    \n",
    "    # Redraw the figure\n",
    "    fig.canvas.draw()\n",
    "\n",
    "    # Save each model state dictionary\n",
    "    torch.save(model.state_dict(), output / f'{name}_{result.epoch}.pyt')"
   ]
  },
  {
   "cell_type": "markdown",
   "metadata": {},
   "source": [
    "Go ahead and save the final model (even though it was also saved above):"
   ]
  },
  {
   "cell_type": "code",
   "execution_count": 19,
   "metadata": {},
   "outputs": [],
   "source": [
    "torch.save(model.state_dict(), output / f'{name}_final.pyt')"
   ]
  },
  {
   "cell_type": "markdown",
   "metadata": {},
   "source": [
    "Save the output results:"
   ]
  },
  {
   "cell_type": "code",
   "execution_count": 20,
   "metadata": {},
   "outputs": [],
   "source": [
    "results.to_hdf(str(output / f'{name}_stats_a.hdf5'),'results')"
   ]
  },
  {
   "cell_type": "markdown",
   "metadata": {},
   "source": [
    "Save the plot above:"
   ]
  },
  {
   "cell_type": "code",
   "execution_count": 21,
   "metadata": {},
   "outputs": [
    {
     "data": {
      "application/javascript": [
       "/* Put everything inside the global mpl namespace */\n",
       "window.mpl = {};\n",
       "\n",
       "\n",
       "mpl.get_websocket_type = function() {\n",
       "    if (typeof(WebSocket) !== 'undefined') {\n",
       "        return WebSocket;\n",
       "    } else if (typeof(MozWebSocket) !== 'undefined') {\n",
       "        return MozWebSocket;\n",
       "    } else {\n",
       "        alert('Your browser does not have WebSocket support. ' +\n",
       "              'Please try Chrome, Safari or Firefox ≥ 6. ' +\n",
       "              'Firefox 4 and 5 are also supported but you ' +\n",
       "              'have to enable WebSockets in about:config.');\n",
       "    };\n",
       "}\n",
       "\n",
       "mpl.figure = function(figure_id, websocket, ondownload, parent_element) {\n",
       "    this.id = figure_id;\n",
       "\n",
       "    this.ws = websocket;\n",
       "\n",
       "    this.supports_binary = (this.ws.binaryType != undefined);\n",
       "\n",
       "    if (!this.supports_binary) {\n",
       "        var warnings = document.getElementById(\"mpl-warnings\");\n",
       "        if (warnings) {\n",
       "            warnings.style.display = 'block';\n",
       "            warnings.textContent = (\n",
       "                \"This browser does not support binary websocket messages. \" +\n",
       "                    \"Performance may be slow.\");\n",
       "        }\n",
       "    }\n",
       "\n",
       "    this.imageObj = new Image();\n",
       "\n",
       "    this.context = undefined;\n",
       "    this.message = undefined;\n",
       "    this.canvas = undefined;\n",
       "    this.rubberband_canvas = undefined;\n",
       "    this.rubberband_context = undefined;\n",
       "    this.format_dropdown = undefined;\n",
       "\n",
       "    this.image_mode = 'full';\n",
       "\n",
       "    this.root = $('<div/>');\n",
       "    this._root_extra_style(this.root)\n",
       "    this.root.attr('style', 'display: inline-block');\n",
       "\n",
       "    $(parent_element).append(this.root);\n",
       "\n",
       "    this._init_header(this);\n",
       "    this._init_canvas(this);\n",
       "    this._init_toolbar(this);\n",
       "\n",
       "    var fig = this;\n",
       "\n",
       "    this.waiting = false;\n",
       "\n",
       "    this.ws.onopen =  function () {\n",
       "            fig.send_message(\"supports_binary\", {value: fig.supports_binary});\n",
       "            fig.send_message(\"send_image_mode\", {});\n",
       "            if (mpl.ratio != 1) {\n",
       "                fig.send_message(\"set_dpi_ratio\", {'dpi_ratio': mpl.ratio});\n",
       "            }\n",
       "            fig.send_message(\"refresh\", {});\n",
       "        }\n",
       "\n",
       "    this.imageObj.onload = function() {\n",
       "            if (fig.image_mode == 'full') {\n",
       "                // Full images could contain transparency (where diff images\n",
       "                // almost always do), so we need to clear the canvas so that\n",
       "                // there is no ghosting.\n",
       "                fig.context.clearRect(0, 0, fig.canvas.width, fig.canvas.height);\n",
       "            }\n",
       "            fig.context.drawImage(fig.imageObj, 0, 0);\n",
       "        };\n",
       "\n",
       "    this.imageObj.onunload = function() {\n",
       "        fig.ws.close();\n",
       "    }\n",
       "\n",
       "    this.ws.onmessage = this._make_on_message_function(this);\n",
       "\n",
       "    this.ondownload = ondownload;\n",
       "}\n",
       "\n",
       "mpl.figure.prototype._init_header = function() {\n",
       "    var titlebar = $(\n",
       "        '<div class=\"ui-dialog-titlebar ui-widget-header ui-corner-all ' +\n",
       "        'ui-helper-clearfix\"/>');\n",
       "    var titletext = $(\n",
       "        '<div class=\"ui-dialog-title\" style=\"width: 100%; ' +\n",
       "        'text-align: center; padding: 3px;\"/>');\n",
       "    titlebar.append(titletext)\n",
       "    this.root.append(titlebar);\n",
       "    this.header = titletext[0];\n",
       "}\n",
       "\n",
       "\n",
       "\n",
       "mpl.figure.prototype._canvas_extra_style = function(canvas_div) {\n",
       "\n",
       "}\n",
       "\n",
       "\n",
       "mpl.figure.prototype._root_extra_style = function(canvas_div) {\n",
       "\n",
       "}\n",
       "\n",
       "mpl.figure.prototype._init_canvas = function() {\n",
       "    var fig = this;\n",
       "\n",
       "    var canvas_div = $('<div/>');\n",
       "\n",
       "    canvas_div.attr('style', 'position: relative; clear: both; outline: 0');\n",
       "\n",
       "    function canvas_keyboard_event(event) {\n",
       "        return fig.key_event(event, event['data']);\n",
       "    }\n",
       "\n",
       "    canvas_div.keydown('key_press', canvas_keyboard_event);\n",
       "    canvas_div.keyup('key_release', canvas_keyboard_event);\n",
       "    this.canvas_div = canvas_div\n",
       "    this._canvas_extra_style(canvas_div)\n",
       "    this.root.append(canvas_div);\n",
       "\n",
       "    var canvas = $('<canvas/>');\n",
       "    canvas.addClass('mpl-canvas');\n",
       "    canvas.attr('style', \"left: 0; top: 0; z-index: 0; outline: 0\")\n",
       "\n",
       "    this.canvas = canvas[0];\n",
       "    this.context = canvas[0].getContext(\"2d\");\n",
       "\n",
       "    var backingStore = this.context.backingStorePixelRatio ||\n",
       "\tthis.context.webkitBackingStorePixelRatio ||\n",
       "\tthis.context.mozBackingStorePixelRatio ||\n",
       "\tthis.context.msBackingStorePixelRatio ||\n",
       "\tthis.context.oBackingStorePixelRatio ||\n",
       "\tthis.context.backingStorePixelRatio || 1;\n",
       "\n",
       "    mpl.ratio = (window.devicePixelRatio || 1) / backingStore;\n",
       "\n",
       "    var rubberband = $('<canvas/>');\n",
       "    rubberband.attr('style', \"position: absolute; left: 0; top: 0; z-index: 1;\")\n",
       "\n",
       "    var pass_mouse_events = true;\n",
       "\n",
       "    canvas_div.resizable({\n",
       "        start: function(event, ui) {\n",
       "            pass_mouse_events = false;\n",
       "        },\n",
       "        resize: function(event, ui) {\n",
       "            fig.request_resize(ui.size.width, ui.size.height);\n",
       "        },\n",
       "        stop: function(event, ui) {\n",
       "            pass_mouse_events = true;\n",
       "            fig.request_resize(ui.size.width, ui.size.height);\n",
       "        },\n",
       "    });\n",
       "\n",
       "    function mouse_event_fn(event) {\n",
       "        if (pass_mouse_events)\n",
       "            return fig.mouse_event(event, event['data']);\n",
       "    }\n",
       "\n",
       "    rubberband.mousedown('button_press', mouse_event_fn);\n",
       "    rubberband.mouseup('button_release', mouse_event_fn);\n",
       "    // Throttle sequential mouse events to 1 every 20ms.\n",
       "    rubberband.mousemove('motion_notify', mouse_event_fn);\n",
       "\n",
       "    rubberband.mouseenter('figure_enter', mouse_event_fn);\n",
       "    rubberband.mouseleave('figure_leave', mouse_event_fn);\n",
       "\n",
       "    canvas_div.on(\"wheel\", function (event) {\n",
       "        event = event.originalEvent;\n",
       "        event['data'] = 'scroll'\n",
       "        if (event.deltaY < 0) {\n",
       "            event.step = 1;\n",
       "        } else {\n",
       "            event.step = -1;\n",
       "        }\n",
       "        mouse_event_fn(event);\n",
       "    });\n",
       "\n",
       "    canvas_div.append(canvas);\n",
       "    canvas_div.append(rubberband);\n",
       "\n",
       "    this.rubberband = rubberband;\n",
       "    this.rubberband_canvas = rubberband[0];\n",
       "    this.rubberband_context = rubberband[0].getContext(\"2d\");\n",
       "    this.rubberband_context.strokeStyle = \"#000000\";\n",
       "\n",
       "    this._resize_canvas = function(width, height) {\n",
       "        // Keep the size of the canvas, canvas container, and rubber band\n",
       "        // canvas in synch.\n",
       "        canvas_div.css('width', width)\n",
       "        canvas_div.css('height', height)\n",
       "\n",
       "        canvas.attr('width', width * mpl.ratio);\n",
       "        canvas.attr('height', height * mpl.ratio);\n",
       "        canvas.attr('style', 'width: ' + width + 'px; height: ' + height + 'px;');\n",
       "\n",
       "        rubberband.attr('width', width);\n",
       "        rubberband.attr('height', height);\n",
       "    }\n",
       "\n",
       "    // Set the figure to an initial 600x600px, this will subsequently be updated\n",
       "    // upon first draw.\n",
       "    this._resize_canvas(600, 600);\n",
       "\n",
       "    // Disable right mouse context menu.\n",
       "    $(this.rubberband_canvas).bind(\"contextmenu\",function(e){\n",
       "        return false;\n",
       "    });\n",
       "\n",
       "    function set_focus () {\n",
       "        canvas.focus();\n",
       "        canvas_div.focus();\n",
       "    }\n",
       "\n",
       "    window.setTimeout(set_focus, 100);\n",
       "}\n",
       "\n",
       "mpl.figure.prototype._init_toolbar = function() {\n",
       "    var fig = this;\n",
       "\n",
       "    var nav_element = $('<div/>');\n",
       "    nav_element.attr('style', 'width: 100%');\n",
       "    this.root.append(nav_element);\n",
       "\n",
       "    // Define a callback function for later on.\n",
       "    function toolbar_event(event) {\n",
       "        return fig.toolbar_button_onclick(event['data']);\n",
       "    }\n",
       "    function toolbar_mouse_event(event) {\n",
       "        return fig.toolbar_button_onmouseover(event['data']);\n",
       "    }\n",
       "\n",
       "    for(var toolbar_ind in mpl.toolbar_items) {\n",
       "        var name = mpl.toolbar_items[toolbar_ind][0];\n",
       "        var tooltip = mpl.toolbar_items[toolbar_ind][1];\n",
       "        var image = mpl.toolbar_items[toolbar_ind][2];\n",
       "        var method_name = mpl.toolbar_items[toolbar_ind][3];\n",
       "\n",
       "        if (!name) {\n",
       "            // put a spacer in here.\n",
       "            continue;\n",
       "        }\n",
       "        var button = $('<button/>');\n",
       "        button.addClass('ui-button ui-widget ui-state-default ui-corner-all ' +\n",
       "                        'ui-button-icon-only');\n",
       "        button.attr('role', 'button');\n",
       "        button.attr('aria-disabled', 'false');\n",
       "        button.click(method_name, toolbar_event);\n",
       "        button.mouseover(tooltip, toolbar_mouse_event);\n",
       "\n",
       "        var icon_img = $('<span/>');\n",
       "        icon_img.addClass('ui-button-icon-primary ui-icon');\n",
       "        icon_img.addClass(image);\n",
       "        icon_img.addClass('ui-corner-all');\n",
       "\n",
       "        var tooltip_span = $('<span/>');\n",
       "        tooltip_span.addClass('ui-button-text');\n",
       "        tooltip_span.html(tooltip);\n",
       "\n",
       "        button.append(icon_img);\n",
       "        button.append(tooltip_span);\n",
       "\n",
       "        nav_element.append(button);\n",
       "    }\n",
       "\n",
       "    var fmt_picker_span = $('<span/>');\n",
       "\n",
       "    var fmt_picker = $('<select/>');\n",
       "    fmt_picker.addClass('mpl-toolbar-option ui-widget ui-widget-content');\n",
       "    fmt_picker_span.append(fmt_picker);\n",
       "    nav_element.append(fmt_picker_span);\n",
       "    this.format_dropdown = fmt_picker[0];\n",
       "\n",
       "    for (var ind in mpl.extensions) {\n",
       "        var fmt = mpl.extensions[ind];\n",
       "        var option = $(\n",
       "            '<option/>', {selected: fmt === mpl.default_extension}).html(fmt);\n",
       "        fmt_picker.append(option);\n",
       "    }\n",
       "\n",
       "    // Add hover states to the ui-buttons\n",
       "    $( \".ui-button\" ).hover(\n",
       "        function() { $(this).addClass(\"ui-state-hover\");},\n",
       "        function() { $(this).removeClass(\"ui-state-hover\");}\n",
       "    );\n",
       "\n",
       "    var status_bar = $('<span class=\"mpl-message\"/>');\n",
       "    nav_element.append(status_bar);\n",
       "    this.message = status_bar[0];\n",
       "}\n",
       "\n",
       "mpl.figure.prototype.request_resize = function(x_pixels, y_pixels) {\n",
       "    // Request matplotlib to resize the figure. Matplotlib will then trigger a resize in the client,\n",
       "    // which will in turn request a refresh of the image.\n",
       "    this.send_message('resize', {'width': x_pixels, 'height': y_pixels});\n",
       "}\n",
       "\n",
       "mpl.figure.prototype.send_message = function(type, properties) {\n",
       "    properties['type'] = type;\n",
       "    properties['figure_id'] = this.id;\n",
       "    this.ws.send(JSON.stringify(properties));\n",
       "}\n",
       "\n",
       "mpl.figure.prototype.send_draw_message = function() {\n",
       "    if (!this.waiting) {\n",
       "        this.waiting = true;\n",
       "        this.ws.send(JSON.stringify({type: \"draw\", figure_id: this.id}));\n",
       "    }\n",
       "}\n",
       "\n",
       "\n",
       "mpl.figure.prototype.handle_save = function(fig, msg) {\n",
       "    var format_dropdown = fig.format_dropdown;\n",
       "    var format = format_dropdown.options[format_dropdown.selectedIndex].value;\n",
       "    fig.ondownload(fig, format);\n",
       "}\n",
       "\n",
       "\n",
       "mpl.figure.prototype.handle_resize = function(fig, msg) {\n",
       "    var size = msg['size'];\n",
       "    if (size[0] != fig.canvas.width || size[1] != fig.canvas.height) {\n",
       "        fig._resize_canvas(size[0], size[1]);\n",
       "        fig.send_message(\"refresh\", {});\n",
       "    };\n",
       "}\n",
       "\n",
       "mpl.figure.prototype.handle_rubberband = function(fig, msg) {\n",
       "    var x0 = msg['x0'] / mpl.ratio;\n",
       "    var y0 = (fig.canvas.height - msg['y0']) / mpl.ratio;\n",
       "    var x1 = msg['x1'] / mpl.ratio;\n",
       "    var y1 = (fig.canvas.height - msg['y1']) / mpl.ratio;\n",
       "    x0 = Math.floor(x0) + 0.5;\n",
       "    y0 = Math.floor(y0) + 0.5;\n",
       "    x1 = Math.floor(x1) + 0.5;\n",
       "    y1 = Math.floor(y1) + 0.5;\n",
       "    var min_x = Math.min(x0, x1);\n",
       "    var min_y = Math.min(y0, y1);\n",
       "    var width = Math.abs(x1 - x0);\n",
       "    var height = Math.abs(y1 - y0);\n",
       "\n",
       "    fig.rubberband_context.clearRect(\n",
       "        0, 0, fig.canvas.width / mpl.ratio, fig.canvas.height / mpl.ratio);\n",
       "\n",
       "    fig.rubberband_context.strokeRect(min_x, min_y, width, height);\n",
       "}\n",
       "\n",
       "mpl.figure.prototype.handle_figure_label = function(fig, msg) {\n",
       "    // Updates the figure title.\n",
       "    fig.header.textContent = msg['label'];\n",
       "}\n",
       "\n",
       "mpl.figure.prototype.handle_cursor = function(fig, msg) {\n",
       "    var cursor = msg['cursor'];\n",
       "    switch(cursor)\n",
       "    {\n",
       "    case 0:\n",
       "        cursor = 'pointer';\n",
       "        break;\n",
       "    case 1:\n",
       "        cursor = 'default';\n",
       "        break;\n",
       "    case 2:\n",
       "        cursor = 'crosshair';\n",
       "        break;\n",
       "    case 3:\n",
       "        cursor = 'move';\n",
       "        break;\n",
       "    }\n",
       "    fig.rubberband_canvas.style.cursor = cursor;\n",
       "}\n",
       "\n",
       "mpl.figure.prototype.handle_message = function(fig, msg) {\n",
       "    fig.message.textContent = msg['message'];\n",
       "}\n",
       "\n",
       "mpl.figure.prototype.handle_draw = function(fig, msg) {\n",
       "    // Request the server to send over a new figure.\n",
       "    fig.send_draw_message();\n",
       "}\n",
       "\n",
       "mpl.figure.prototype.handle_image_mode = function(fig, msg) {\n",
       "    fig.image_mode = msg['mode'];\n",
       "}\n",
       "\n",
       "mpl.figure.prototype.updated_canvas_event = function() {\n",
       "    // Called whenever the canvas gets updated.\n",
       "    this.send_message(\"ack\", {});\n",
       "}\n",
       "\n",
       "// A function to construct a web socket function for onmessage handling.\n",
       "// Called in the figure constructor.\n",
       "mpl.figure.prototype._make_on_message_function = function(fig) {\n",
       "    return function socket_on_message(evt) {\n",
       "        if (evt.data instanceof Blob) {\n",
       "            /* FIXME: We get \"Resource interpreted as Image but\n",
       "             * transferred with MIME type text/plain:\" errors on\n",
       "             * Chrome.  But how to set the MIME type?  It doesn't seem\n",
       "             * to be part of the websocket stream */\n",
       "            evt.data.type = \"image/png\";\n",
       "\n",
       "            /* Free the memory for the previous frames */\n",
       "            if (fig.imageObj.src) {\n",
       "                (window.URL || window.webkitURL).revokeObjectURL(\n",
       "                    fig.imageObj.src);\n",
       "            }\n",
       "\n",
       "            fig.imageObj.src = (window.URL || window.webkitURL).createObjectURL(\n",
       "                evt.data);\n",
       "            fig.updated_canvas_event();\n",
       "            fig.waiting = false;\n",
       "            return;\n",
       "        }\n",
       "        else if (typeof evt.data === 'string' && evt.data.slice(0, 21) == \"data:image/png;base64\") {\n",
       "            fig.imageObj.src = evt.data;\n",
       "            fig.updated_canvas_event();\n",
       "            fig.waiting = false;\n",
       "            return;\n",
       "        }\n",
       "\n",
       "        var msg = JSON.parse(evt.data);\n",
       "        var msg_type = msg['type'];\n",
       "\n",
       "        // Call the  \"handle_{type}\" callback, which takes\n",
       "        // the figure and JSON message as its only arguments.\n",
       "        try {\n",
       "            var callback = fig[\"handle_\" + msg_type];\n",
       "        } catch (e) {\n",
       "            console.log(\"No handler for the '\" + msg_type + \"' message type: \", msg);\n",
       "            return;\n",
       "        }\n",
       "\n",
       "        if (callback) {\n",
       "            try {\n",
       "                // console.log(\"Handling '\" + msg_type + \"' message: \", msg);\n",
       "                callback(fig, msg);\n",
       "            } catch (e) {\n",
       "                console.log(\"Exception inside the 'handler_\" + msg_type + \"' callback:\", e, e.stack, msg);\n",
       "            }\n",
       "        }\n",
       "    };\n",
       "}\n",
       "\n",
       "// from http://stackoverflow.com/questions/1114465/getting-mouse-location-in-canvas\n",
       "mpl.findpos = function(e) {\n",
       "    //this section is from http://www.quirksmode.org/js/events_properties.html\n",
       "    var targ;\n",
       "    if (!e)\n",
       "        e = window.event;\n",
       "    if (e.target)\n",
       "        targ = e.target;\n",
       "    else if (e.srcElement)\n",
       "        targ = e.srcElement;\n",
       "    if (targ.nodeType == 3) // defeat Safari bug\n",
       "        targ = targ.parentNode;\n",
       "\n",
       "    // jQuery normalizes the pageX and pageY\n",
       "    // pageX,Y are the mouse positions relative to the document\n",
       "    // offset() returns the position of the element relative to the document\n",
       "    var x = e.pageX - $(targ).offset().left;\n",
       "    var y = e.pageY - $(targ).offset().top;\n",
       "\n",
       "    return {\"x\": x, \"y\": y};\n",
       "};\n",
       "\n",
       "/*\n",
       " * return a copy of an object with only non-object keys\n",
       " * we need this to avoid circular references\n",
       " * http://stackoverflow.com/a/24161582/3208463\n",
       " */\n",
       "function simpleKeys (original) {\n",
       "  return Object.keys(original).reduce(function (obj, key) {\n",
       "    if (typeof original[key] !== 'object')\n",
       "        obj[key] = original[key]\n",
       "    return obj;\n",
       "  }, {});\n",
       "}\n",
       "\n",
       "mpl.figure.prototype.mouse_event = function(event, name) {\n",
       "    var canvas_pos = mpl.findpos(event)\n",
       "\n",
       "    if (name === 'button_press')\n",
       "    {\n",
       "        this.canvas.focus();\n",
       "        this.canvas_div.focus();\n",
       "    }\n",
       "\n",
       "    var x = canvas_pos.x * mpl.ratio;\n",
       "    var y = canvas_pos.y * mpl.ratio;\n",
       "\n",
       "    this.send_message(name, {x: x, y: y, button: event.button,\n",
       "                             step: event.step,\n",
       "                             guiEvent: simpleKeys(event)});\n",
       "\n",
       "    /* This prevents the web browser from automatically changing to\n",
       "     * the text insertion cursor when the button is pressed.  We want\n",
       "     * to control all of the cursor setting manually through the\n",
       "     * 'cursor' event from matplotlib */\n",
       "    event.preventDefault();\n",
       "    return false;\n",
       "}\n",
       "\n",
       "mpl.figure.prototype._key_event_extra = function(event, name) {\n",
       "    // Handle any extra behaviour associated with a key event\n",
       "}\n",
       "\n",
       "mpl.figure.prototype.key_event = function(event, name) {\n",
       "\n",
       "    // Prevent repeat events\n",
       "    if (name == 'key_press')\n",
       "    {\n",
       "        if (event.which === this._key)\n",
       "            return;\n",
       "        else\n",
       "            this._key = event.which;\n",
       "    }\n",
       "    if (name == 'key_release')\n",
       "        this._key = null;\n",
       "\n",
       "    var value = '';\n",
       "    if (event.ctrlKey && event.which != 17)\n",
       "        value += \"ctrl+\";\n",
       "    if (event.altKey && event.which != 18)\n",
       "        value += \"alt+\";\n",
       "    if (event.shiftKey && event.which != 16)\n",
       "        value += \"shift+\";\n",
       "\n",
       "    value += 'k';\n",
       "    value += event.which.toString();\n",
       "\n",
       "    this._key_event_extra(event, name);\n",
       "\n",
       "    this.send_message(name, {key: value,\n",
       "                             guiEvent: simpleKeys(event)});\n",
       "    return false;\n",
       "}\n",
       "\n",
       "mpl.figure.prototype.toolbar_button_onclick = function(name) {\n",
       "    if (name == 'download') {\n",
       "        this.handle_save(this, null);\n",
       "    } else {\n",
       "        this.send_message(\"toolbar_button\", {name: name});\n",
       "    }\n",
       "};\n",
       "\n",
       "mpl.figure.prototype.toolbar_button_onmouseover = function(tooltip) {\n",
       "    this.message.textContent = tooltip;\n",
       "};\n",
       "mpl.toolbar_items = [[\"Home\", \"Reset original view\", \"fa fa-home icon-home\", \"home\"], [\"Back\", \"Back to previous view\", \"fa fa-arrow-left icon-arrow-left\", \"back\"], [\"Forward\", \"Forward to next view\", \"fa fa-arrow-right icon-arrow-right\", \"forward\"], [\"\", \"\", \"\", \"\"], [\"Pan\", \"Pan axes with left mouse, zoom with right\", \"fa fa-arrows icon-move\", \"pan\"], [\"Zoom\", \"Zoom to rectangle\", \"fa fa-square-o icon-check-empty\", \"zoom\"], [\"\", \"\", \"\", \"\"], [\"Download\", \"Download plot\", \"fa fa-floppy-o icon-save\", \"download\"]];\n",
       "\n",
       "mpl.extensions = [\"eps\", \"jpeg\", \"pdf\", \"png\", \"ps\", \"raw\", \"svg\", \"tif\"];\n",
       "\n",
       "mpl.default_extension = \"png\";var comm_websocket_adapter = function(comm) {\n",
       "    // Create a \"websocket\"-like object which calls the given IPython comm\n",
       "    // object with the appropriate methods. Currently this is a non binary\n",
       "    // socket, so there is still some room for performance tuning.\n",
       "    var ws = {};\n",
       "\n",
       "    ws.close = function() {\n",
       "        comm.close()\n",
       "    };\n",
       "    ws.send = function(m) {\n",
       "        //console.log('sending', m);\n",
       "        comm.send(m);\n",
       "    };\n",
       "    // Register the callback with on_msg.\n",
       "    comm.on_msg(function(msg) {\n",
       "        //console.log('receiving', msg['content']['data'], msg);\n",
       "        // Pass the mpl event to the overridden (by mpl) onmessage function.\n",
       "        ws.onmessage(msg['content']['data'])\n",
       "    });\n",
       "    return ws;\n",
       "}\n",
       "\n",
       "mpl.mpl_figure_comm = function(comm, msg) {\n",
       "    // This is the function which gets called when the mpl process\n",
       "    // starts-up an IPython Comm through the \"matplotlib\" channel.\n",
       "\n",
       "    var id = msg.content.data.id;\n",
       "    // Get hold of the div created by the display call when the Comm\n",
       "    // socket was opened in Python.\n",
       "    var element = $(\"#\" + id);\n",
       "    var ws_proxy = comm_websocket_adapter(comm)\n",
       "\n",
       "    function ondownload(figure, format) {\n",
       "        window.open(figure.imageObj.src);\n",
       "    }\n",
       "\n",
       "    var fig = new mpl.figure(id, ws_proxy,\n",
       "                           ondownload,\n",
       "                           element.get(0));\n",
       "\n",
       "    // Call onopen now - mpl needs it, as it is assuming we've passed it a real\n",
       "    // web socket which is closed, not our websocket->open comm proxy.\n",
       "    ws_proxy.onopen();\n",
       "\n",
       "    fig.parent_element = element.get(0);\n",
       "    fig.cell_info = mpl.find_output_cell(\"<div id='\" + id + \"'></div>\");\n",
       "    if (!fig.cell_info) {\n",
       "        console.error(\"Failed to find cell for figure\", id, fig);\n",
       "        return;\n",
       "    }\n",
       "\n",
       "    var output_index = fig.cell_info[2]\n",
       "    var cell = fig.cell_info[0];\n",
       "\n",
       "};\n",
       "\n",
       "mpl.figure.prototype.handle_close = function(fig, msg) {\n",
       "    var width = fig.canvas.width/mpl.ratio\n",
       "    fig.root.unbind('remove')\n",
       "\n",
       "    // Update the output cell to use the data from the current canvas.\n",
       "    fig.push_to_output();\n",
       "    var dataURL = fig.canvas.toDataURL();\n",
       "    // Re-enable the keyboard manager in IPython - without this line, in FF,\n",
       "    // the notebook keyboard shortcuts fail.\n",
       "    IPython.keyboard_manager.enable()\n",
       "    $(fig.parent_element).html('<img src=\"' + dataURL + '\" width=\"' + width + '\">');\n",
       "    fig.close_ws(fig, msg);\n",
       "}\n",
       "\n",
       "mpl.figure.prototype.close_ws = function(fig, msg){\n",
       "    fig.send_message('closing', msg);\n",
       "    // fig.ws.close()\n",
       "}\n",
       "\n",
       "mpl.figure.prototype.push_to_output = function(remove_interactive) {\n",
       "    // Turn the data on the canvas into data in the output cell.\n",
       "    var width = this.canvas.width/mpl.ratio\n",
       "    var dataURL = this.canvas.toDataURL();\n",
       "    this.cell_info[1]['text/html'] = '<img src=\"' + dataURL + '\" width=\"' + width + '\">';\n",
       "}\n",
       "\n",
       "mpl.figure.prototype.updated_canvas_event = function() {\n",
       "    // Tell IPython that the notebook contents must change.\n",
       "    IPython.notebook.set_dirty(true);\n",
       "    this.send_message(\"ack\", {});\n",
       "    var fig = this;\n",
       "    // Wait a second, then push the new image to the DOM so\n",
       "    // that it is saved nicely (might be nice to debounce this).\n",
       "    setTimeout(function () { fig.push_to_output() }, 1000);\n",
       "}\n",
       "\n",
       "mpl.figure.prototype._init_toolbar = function() {\n",
       "    var fig = this;\n",
       "\n",
       "    var nav_element = $('<div/>');\n",
       "    nav_element.attr('style', 'width: 100%');\n",
       "    this.root.append(nav_element);\n",
       "\n",
       "    // Define a callback function for later on.\n",
       "    function toolbar_event(event) {\n",
       "        return fig.toolbar_button_onclick(event['data']);\n",
       "    }\n",
       "    function toolbar_mouse_event(event) {\n",
       "        return fig.toolbar_button_onmouseover(event['data']);\n",
       "    }\n",
       "\n",
       "    for(var toolbar_ind in mpl.toolbar_items){\n",
       "        var name = mpl.toolbar_items[toolbar_ind][0];\n",
       "        var tooltip = mpl.toolbar_items[toolbar_ind][1];\n",
       "        var image = mpl.toolbar_items[toolbar_ind][2];\n",
       "        var method_name = mpl.toolbar_items[toolbar_ind][3];\n",
       "\n",
       "        if (!name) { continue; };\n",
       "\n",
       "        var button = $('<button class=\"btn btn-default\" href=\"#\" title=\"' + name + '\"><i class=\"fa ' + image + ' fa-lg\"></i></button>');\n",
       "        button.click(method_name, toolbar_event);\n",
       "        button.mouseover(tooltip, toolbar_mouse_event);\n",
       "        nav_element.append(button);\n",
       "    }\n",
       "\n",
       "    // Add the status bar.\n",
       "    var status_bar = $('<span class=\"mpl-message\" style=\"text-align:right; float: right;\"/>');\n",
       "    nav_element.append(status_bar);\n",
       "    this.message = status_bar[0];\n",
       "\n",
       "    // Add the close button to the window.\n",
       "    var buttongrp = $('<div class=\"btn-group inline pull-right\"></div>');\n",
       "    var button = $('<button class=\"btn btn-mini btn-primary\" href=\"#\" title=\"Stop Interaction\"><i class=\"fa fa-power-off icon-remove icon-large\"></i></button>');\n",
       "    button.click(function (evt) { fig.handle_close(fig, {}); } );\n",
       "    button.mouseover('Stop Interaction', toolbar_mouse_event);\n",
       "    buttongrp.append(button);\n",
       "    var titlebar = this.root.find($('.ui-dialog-titlebar'));\n",
       "    titlebar.prepend(buttongrp);\n",
       "}\n",
       "\n",
       "mpl.figure.prototype._root_extra_style = function(el){\n",
       "    var fig = this\n",
       "    el.on(\"remove\", function(){\n",
       "\tfig.close_ws(fig, {});\n",
       "    });\n",
       "}\n",
       "\n",
       "mpl.figure.prototype._canvas_extra_style = function(el){\n",
       "    // this is important to make the div 'focusable\n",
       "    el.attr('tabindex', 0)\n",
       "    // reach out to IPython and tell the keyboard manager to turn it's self\n",
       "    // off when our div gets focus\n",
       "\n",
       "    // location in version 3\n",
       "    if (IPython.notebook.keyboard_manager) {\n",
       "        IPython.notebook.keyboard_manager.register_events(el);\n",
       "    }\n",
       "    else {\n",
       "        // location in version 2\n",
       "        IPython.keyboard_manager.register_events(el);\n",
       "    }\n",
       "\n",
       "}\n",
       "\n",
       "mpl.figure.prototype._key_event_extra = function(event, name) {\n",
       "    var manager = IPython.notebook.keyboard_manager;\n",
       "    if (!manager)\n",
       "        manager = IPython.keyboard_manager;\n",
       "\n",
       "    // Check for shift+enter\n",
       "    if (event.shiftKey && event.which == 13) {\n",
       "        this.canvas_div.blur();\n",
       "        // select the cell after this one\n",
       "        var index = IPython.notebook.find_cell_index(this.cell_info[0]);\n",
       "        IPython.notebook.select(index + 1);\n",
       "    }\n",
       "}\n",
       "\n",
       "mpl.figure.prototype.handle_save = function(fig, msg) {\n",
       "    fig.ondownload(fig, null);\n",
       "}\n",
       "\n",
       "\n",
       "mpl.find_output_cell = function(html_output) {\n",
       "    // Return the cell and output element which can be found *uniquely* in the notebook.\n",
       "    // Note - this is a bit hacky, but it is done because the \"notebook_saving.Notebook\"\n",
       "    // IPython event is triggered only after the cells have been serialised, which for\n",
       "    // our purposes (turning an active figure into a static one), is too late.\n",
       "    var cells = IPython.notebook.get_cells();\n",
       "    var ncells = cells.length;\n",
       "    for (var i=0; i<ncells; i++) {\n",
       "        var cell = cells[i];\n",
       "        if (cell.cell_type === 'code'){\n",
       "            for (var j=0; j<cell.output_area.outputs.length; j++) {\n",
       "                var data = cell.output_area.outputs[j];\n",
       "                if (data.data) {\n",
       "                    // IPython >= 3 moved mimebundle to data attribute of output\n",
       "                    data = data.data;\n",
       "                }\n",
       "                if (data['text/html'] == html_output) {\n",
       "                    return [cell, data, j];\n",
       "                }\n",
       "            }\n",
       "        }\n",
       "    }\n",
       "}\n",
       "\n",
       "// Register the function which deals with the matplotlib target/channel.\n",
       "// The kernel may be null if the page has been refreshed.\n",
       "if (IPython.notebook.kernel != null) {\n",
       "    IPython.notebook.kernel.comm_manager.register_target('matplotlib', mpl.mpl_figure_comm);\n",
       "}\n"
      ],
      "text/plain": [
       "<IPython.core.display.Javascript object>"
      ]
     },
     "metadata": {},
     "output_type": "display_data"
    },
    {
     "data": {
      "text/html": [
       "<img src=\"data:image/png;base64,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\" width=\"1000\">"
      ],
      "text/plain": [
       "<IPython.core.display.HTML object>"
      ]
     },
     "metadata": {},
     "output_type": "display_data"
    }
   ],
   "source": [
    "dual_train_plots(results.index,\n",
    "                 results.cost, results.val,\n",
    "                 results.cost, results.val)\n",
    "plt.tight_layout()\n",
    "plt.savefig(str(output / f'{name}_stats_a.png'))"
   ]
  },
  {
   "cell_type": "code",
   "execution_count": 22,
   "metadata": {},
   "outputs": [],
   "source": [
    "##quit()"
   ]
  },
  {
   "cell_type": "code",
   "execution_count": null,
   "metadata": {},
   "outputs": [],
   "source": []
  },
  {
   "cell_type": "code",
   "execution_count": null,
   "metadata": {},
   "outputs": [],
   "source": []
  }
 ],
 "metadata": {
  "kernelspec": {
   "display_name": "goofit-june2020",
   "language": "python",
   "name": "goofit-june2020"
  },
  "language_info": {
   "codemirror_mode": {
    "name": "ipython",
    "version": 3
   },
   "file_extension": ".py",
   "mimetype": "text/x-python",
   "name": "python",
   "nbconvert_exporter": "python",
   "pygments_lexer": "ipython3",
   "version": "3.7.6"
  }
 },
 "nbformat": 4,
 "nbformat_minor": 2
}
