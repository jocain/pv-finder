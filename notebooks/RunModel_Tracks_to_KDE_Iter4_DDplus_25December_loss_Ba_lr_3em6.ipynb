{
 "cells": [
  {
   "cell_type": "code",
   "execution_count": 1,
   "metadata": {},
   "outputs": [],
   "source": [
    "##%matplotlib widget\n",
    "## with %matplotlib notebook: seems to require ipympl as part of environment, either\n",
    "## part of the conda environment or \"pip install ipympl\"\n",
    "## otherwise, does not show ANY plots in note\"book, plt.savefig() works\n",
    "%matplotlib notebook  \n",
    "##%matplotlib inline    ## --plt.savefig()  works, but re-sizing does NOT\n"
   ]
  },
  {
   "cell_type": "markdown",
   "metadata": {},
   "source": [
    "This notebook is the second attempt to read in track information and use it to predict the KDE used as input to PvFinder. This time, we are reading in poca KDEs rather than the original KDEs. \n",
    "\n",
    "collectdata_kde_C.py uses poca_z, poca_x, poca_y, major_axis_x, major_axis_y, and major_axis_z as the six track parameters (for the moment)\n"
   ]
  },
  {
   "cell_type": "markdown",
   "metadata": {},
   "source": [
    "Check the current GPU usage. Please try to be nice!"
   ]
  },
  {
   "cell_type": "code",
   "execution_count": 2,
   "metadata": {},
   "outputs": [
    {
     "name": "stdout",
     "output_type": "stream",
     "text": [
      "Fri Dec 25 12:08:48 2020       \r\n",
      "+-----------------------------------------------------------------------------+\r\n",
      "| NVIDIA-SMI 450.36.06    Driver Version: 450.36.06    CUDA Version: 11.0     |\r\n",
      "|-------------------------------+----------------------+----------------------+\r\n",
      "| GPU  Name        Persistence-M| Bus-Id        Disp.A | Volatile Uncorr. ECC |\r\n",
      "| Fan  Temp  Perf  Pwr:Usage/Cap|         Memory-Usage | GPU-Util  Compute M. |\r\n",
      "|                               |                      |               MIG M. |\r\n",
      "|===============================+======================+======================|\r\n",
      "|   0  GeForce RTX 208...  On   | 00000000:18:00.0 Off |                  N/A |\r\n",
      "| 51%   84C    P2   219W / 250W |   3333MiB / 11019MiB |     92%      Default |\r\n",
      "|                               |                      |                  N/A |\r\n",
      "+-------------------------------+----------------------+----------------------+\r\n",
      "|   1  GeForce RTX 208...  On   | 00000000:3B:00.0 Off |                  N/A |\r\n",
      "| 29%   44C    P8    39W / 250W |     61MiB / 11019MiB |      0%      Default |\r\n",
      "|                               |                      |                  N/A |\r\n",
      "+-------------------------------+----------------------+----------------------+\r\n",
      "                                                                               \r\n",
      "+-----------------------------------------------------------------------------+\r\n",
      "| Processes:                                                                  |\r\n",
      "|  GPU   GI   CI        PID   Type   Process name                  GPU Memory |\r\n",
      "|        ID   ID                                                   Usage      |\r\n",
      "|=============================================================================|\r\n",
      "|    0   N/A  N/A    279393      C   ...s/june2020-gpu/bin/python     3329MiB |\r\n",
      "|    1   N/A  N/A      3736      G   /usr/bin/X                         33MiB |\r\n",
      "|    1   N/A  N/A      3790      G   /usr/bin/gnome-shell               25MiB |\r\n",
      "+-----------------------------------------------------------------------------+\r\n"
     ]
    }
   ],
   "source": [
    "!nvidia-smi"
   ]
  },
  {
   "cell_type": "markdown",
   "metadata": {},
   "source": [
    "> **WARNING**: The card numbers here are *not* the same as in CUDA. You have been warned."
   ]
  },
  {
   "cell_type": "markdown",
   "metadata": {},
   "source": [
    "This notebook is first attempt to read in track information and use it to predict the KDE used as input to PvFinder.\n"
   ]
  },
  {
   "cell_type": "markdown",
   "metadata": {},
   "source": [
    "## Imports"
   ]
  },
  {
   "cell_type": "code",
   "execution_count": 3,
   "metadata": {},
   "outputs": [],
   "source": [
    "import matplotlib.pyplot as plt\n",
    "import numpy as np\n",
    "import time\n",
    "import torch\n",
    "import pandas as pd\n",
    "\n",
    "# Python 3 standard library\n",
    "from pathlib import Path\n",
    "\n",
    "##from torchsummary import summary"
   ]
  },
  {
   "cell_type": "markdown",
   "metadata": {},
   "source": [
    "### Set up local parameters"
   ]
  },
  {
   "cell_type": "code",
   "execution_count": 4,
   "metadata": {},
   "outputs": [],
   "source": [
    "n_epochs = 500\n",
    "\n",
    "# Name is the output file name\n",
    "\n",
    "\n",
    "##  201027 -- about to go to bed, so try 2500 epochs with lr = 1e55\n",
    "##  previous iteration had l4 = 3e-5 and cost dropped almost linearly\n",
    "##  for 100 epochs -- final training costs ~ 2.02, validation cost ~ 2.01\n",
    "\n",
    "## for iter 4, try 10 epochs with lr = 3e-6\n",
    "## usually have a big jump down at epoch 0; want to try a\n",
    "## small number of epochs per iteration and see what happens (iter4: 10 epochs gave\n",
    "## traiing cost dropping from 1.54 to 1.50 immediately, then dropping very slowly)\n",
    "folder = '25December__DDplus_loss_Ba_iter5_floatAll_500epochs_3em6'\n",
    "name   = folder\n",
    "\n",
    "# Make an output folder named \"name\" (change if you want)\n",
    "\n",
    "## Special instructions for those working on goofy at UC\n",
    "## Please be very careful to make sure that your folder\n",
    "## does not live in a subdirectory of your home directory\n",
    "## this disk has very little capacity. Instead, use \n",
    "## a subdirectory in /share/lazy with a symbolic link to\n",
    "## it in this (the notebooks) subdirectory\n",
    "folder = 'ML/' + folder\n",
    "output = Path(folder)\n",
    "\n",
    "\n",
    "# Size of batches\n",
    "batch_size = 16 ## was 64\n",
    "# How fast to learn\n",
    "learning_rate = 3e-6"
   ]
  },
  {
   "cell_type": "markdown",
   "metadata": {},
   "source": [
    "Make the output directory if it does not exist:"
   ]
  },
  {
   "cell_type": "code",
   "execution_count": 5,
   "metadata": {},
   "outputs": [],
   "source": [
    "output.mkdir(exist_ok=True)"
   ]
  },
  {
   "cell_type": "markdown",
   "metadata": {},
   "source": [
    "## Get the helper functions\n",
    "\n",
    "Add the directory with the model\n",
    "definitions to the path so we can import from it:\n",
    "\n",
    "> When you type `import X`,\n",
    "Python searches `sys.path` for a python\n",
    "file named `X.py` to import. So we need to add the model directory to the path."
   ]
  },
  {
   "cell_type": "code",
   "execution_count": 6,
   "metadata": {
    "scrolled": true
   },
   "outputs": [],
   "source": [
    "# From model/collectdata.py\n",
    "##from model.collectdata_kde_B import collect_t2kde_data\n",
    "## collectdata_kde_C should use the new poca KDE rather than the original kernel KDE\n",
    "from model.collectdata_kde_Ellipsoids import collect_t2kde_data\n",
    "\n",
    "\n",
    "# From model/loss.py\n",
    "##from loss import Loss\n",
    "## kde_loss_D includes botha ratio term and a chisq term, 98% ave_chisq\n",
    "## kde_loss_E adds a chi^4 term to the kde_loss_D return value\n",
    "## this is intended to emphasize the importance of values significantly different than zero\n",
    "from model.kde_loss_Ba import Loss\n",
    "\n",
    "##  TracksToKDE_Ellipsoids_SevenLayerCake has 7 hidden layers producing the 4000-bin KDE historgram\n",
    "##  It takes 9 input features (pocca centers + (A,B,C,D,E,F) . \n",
    "from model.models_kde import TracksToKDE_Ellipsoids_DDplus as Model\n",
    "\n",
    "\n",
    "from model.training_kde import trainNet, select_gpu, Results\n",
    "from model.plots import dual_train_plots, replace_in_ax"
   ]
  },
  {
   "cell_type": "code",
   "execution_count": 7,
   "metadata": {},
   "outputs": [],
   "source": [
    "# This gets built up during the run - do not rerun this cell\n",
    "results = pd.DataFrame([], columns=Results._fields)"
   ]
  },
  {
   "cell_type": "markdown",
   "metadata": {},
   "source": [
    "Set up Torch device configuration. All tensors and model parameters need to know where to be put.\n",
    "This takes a BUS ID number: The BUS ID is the same as the listing at the top of this script."
   ]
  },
  {
   "cell_type": "code",
   "execution_count": 8,
   "metadata": {},
   "outputs": [
    {
     "name": "stdout",
     "output_type": "stream",
     "text": [
      "1 available GPUs (initially using device 0):\n",
      "  0 GeForce RTX 2080 Ti\n"
     ]
    }
   ],
   "source": [
    "device = select_gpu(1)\n",
    "##device = \"cpu\""
   ]
  },
  {
   "cell_type": "markdown",
   "metadata": {},
   "source": [
    "## Loading data\n",
    "\n",
    "Load the dataset, split into parts, then move to device (see `collectdata.py` in the `../model` directory)"
   ]
  },
  {
   "cell_type": "markdown",
   "metadata": {},
   "source": [
    "# Preparing the model"
   ]
  },
  {
   "cell_type": "markdown",
   "metadata": {},
   "source": [
    "Prepare a model, use multiple GPUs if they are VISIBLE, and move the model to the device."
   ]
  },
  {
   "cell_type": "code",
   "execution_count": 9,
   "metadata": {
    "scrolled": true
   },
   "outputs": [],
   "source": [
    "##print(\"Let's use\", torch.cuda.device_count(), \"GPUs!\")\n",
    "##if torch.cuda.device_count() > 1:\n",
    "##    model = torch.nn.DataParallel(model)"
   ]
  },
  {
   "cell_type": "code",
   "execution_count": 10,
   "metadata": {},
   "outputs": [
    {
     "name": "stdout",
     "output_type": "stream",
     "text": [
      "ct, child =  0    Linear(in_features=9, out_features=50, bias=True)\n",
      "ct, child =  1    Linear(in_features=50, out_features=50, bias=True)\n",
      "ct, child =  2    Linear(in_features=50, out_features=50, bias=True)\n",
      "ct, child =  3    Linear(in_features=50, out_features=50, bias=True)\n",
      "ct, child =  4    Linear(in_features=50, out_features=50, bias=True)\n",
      "ct, child =  5    Linear(in_features=50, out_features=50, bias=True)\n",
      "ct, child =  6    Linear(in_features=50, out_features=50, bias=True)\n",
      "ct, child =  7    Linear(in_features=50, out_features=50, bias=True)\n",
      "ct, child =  8    Linear(in_features=50, out_features=50, bias=True)\n",
      "ct, child =  9    Linear(in_features=50, out_features=50, bias=True)\n",
      "ct, child =  10    Linear(in_features=50, out_features=50, bias=True)\n",
      "ct, child =  11    Linear(in_features=50, out_features=16000, bias=True)\n",
      "ct, child =  12    Conv1d(4, 25, kernel_size=(25,), stride=(1,), padding=(12,))\n",
      "ct, child =  13    Conv1d(25, 1, kernel_size=(5,), stride=(1,), padding=(2,))\n",
      "ct, child =  14    Linear(in_features=4000, out_features=4000, bias=True)\n",
      "ct, child =  15    Conv1d(25, 1, kernel_size=(15,), stride=(1,), padding=(7,))\n",
      "ct, child =  16    Dropout(p=0.15, inplace=False)\n",
      "ct, child =  17    Dropout(p=0.15, inplace=False)\n"
     ]
    }
   ],
   "source": [
    "## a comment on the web at https://pytorch.org/docs/stable/optim.html says\n",
    "\"\"\"\n",
    "If you need to move a model to GPU via .cuda(), please do so before constructing optimizers for it. \n",
    "Parameters of a model after .cuda() will be different objects with those before the call.\n",
    "\n",
    "In general, you should make sure that optimized parameters live in consistent locations when \n",
    "optimizers are constructed and used.\n",
    "\"\"\"\n",
    "## so move this here (although we are using model.to(device) not explicitly using .cuda()\n",
    "\n",
    "nOut1 = 50\n",
    "nOut2 = 50\n",
    "nOut3 = 50\n",
    "nOut4 = 50\n",
    "nOut5 = 50\n",
    "nOut6 = 50\n",
    "nOut7 = 50\n",
    "nOut8 = 50\n",
    "nOut9 = 50\n",
    "nOut10 = 50\n",
    "nOut11 = 50\n",
    "latentChannels = 4\n",
    "model = Model(nOut1,nOut2,nOut3,nOut4,nOut5,nOut6,nOut7,nOut8,nOut9,nOut10,nOut11,latentChannels)\n",
    "\n",
    "##summary(model, input_size=(4, 4000))\n",
    "##print(model.parameters)\n",
    "\n",
    "## add the following code to allow the user to freeze the some of the weights corresponding \n",
    "## to those taken from an earlier model trained with the original target histograms\n",
    "## presumably -- this leaves either the perturbative filter \"fixed\" and lets the \n",
    "## learning focus on the non-perturbative features, so get started faster, or vice versa\n",
    "ct = 0\n",
    "for child in model.children():\n",
    "  print('ct, child = ',ct, \"  \", child)\n",
    "  if ct < 0:\n",
    "    print(\"     About to set param.requires_grad=False for ct = \", ct, \"params\")\n",
    "    for param in child.parameters():\n",
    "        param.requires_grad = False \n",
    "  ct += 1\n",
    "##  mds 200121 loss = Loss(epsilon=1e-5,coefficient=1.0)\n",
    "##  loss = Loss(epsilon=1e-5,coefficient=2.5)\n",
    "##loss = Loss(epsilon=3e-5, debug=False)\n",
    "loss = Loss(epsilon=3e-5)"
   ]
  },
  {
   "cell_type": "markdown",
   "metadata": {},
   "source": [
    "Let's move the model's weight matricies to the GPU:"
   ]
  },
  {
   "cell_type": "code",
   "execution_count": 11,
   "metadata": {
    "scrolled": true
   },
   "outputs": [],
   "source": [
    "model = model.to(device)"
   ]
  },
  {
   "cell_type": "code",
   "execution_count": 12,
   "metadata": {
    "scrolled": true
   },
   "outputs": [],
   "source": [
    "optimizer = torch.optim.Adam(model.parameters(), lr=learning_rate)\n",
    "##optimizer = torch.optim.SGD(model.parameters(), lr=learning_rate)"
   ]
  },
  {
   "cell_type": "code",
   "execution_count": 13,
   "metadata": {
    "scrolled": false
   },
   "outputs": [
    {
     "name": "stdout",
     "output_type": "stream",
     "text": [
      "output =  ML/25December__DDplus_loss_Ba_iter5_floatAll_500epochs_3em6\n",
      "for model_dict\n",
      "index, k =   0    layer1.weight\n",
      "index, k =   1    layer1.bias\n",
      "index, k =   2    layer2.weight\n",
      "index, k =   3    layer2.bias\n",
      "index, k =   4    layer3.weight\n",
      "index, k =   5    layer3.bias\n",
      "index, k =   6    layer4.weight\n",
      "index, k =   7    layer4.bias\n",
      "index, k =   8    layer5.weight\n",
      "index, k =   9    layer5.bias\n",
      "index, k =   10    layer6.weight\n",
      "index, k =   11    layer6.bias\n",
      "index, k =   12    layer7.weight\n",
      "index, k =   13    layer7.bias\n",
      "index, k =   14    layer8.weight\n",
      "index, k =   15    layer8.bias\n",
      "index, k =   16    layer9.weight\n",
      "index, k =   17    layer9.bias\n",
      "index, k =   18    layer10.weight\n",
      "index, k =   19    layer10.bias\n",
      "index, k =   20    layer11.weight\n",
      "index, k =   21    layer11.bias\n",
      "index, k =   22    layer12new.weight\n",
      "index, k =   23    layer12new.bias\n",
      "index, k =   24    conv1.weight\n",
      "index, k =   25    conv1.bias\n",
      "index, k =   26    conv2.weight\n",
      "index, k =   27    conv2.bias\n",
      "index, k =   28    fc1.weight\n",
      "index, k =   29    fc1.bias\n",
      "index, k =   30    finalFilter.weight\n",
      "index, k =   31    finalFilter.bias\n",
      "dict_name =  ML/25December__DDplus_loss_Ba_iter3_floatAll_100epochs_3em6/25December__DDplus_loss_Ba_iter3_floatAll_100epochs_3em6_final.pyt\n",
      " \n",
      "  for pretrained_dict\n",
      "index, k =   0    layer1.weight\n",
      "index, k =   1    layer1.bias\n",
      "index, k =   2    layer2.weight\n",
      "index, k =   3    layer2.bias\n",
      "index, k =   4    layer3.weight\n",
      "index, k =   5    layer3.bias\n",
      "index, k =   6    layer4.weight\n",
      "index, k =   7    layer4.bias\n",
      "index, k =   8    layer5.weight\n",
      "index, k =   9    layer5.bias\n",
      "index, k =   10    layer6.weight\n",
      "index, k =   11    layer6.bias\n",
      "index, k =   12    layer7.weight\n",
      "index, k =   13    layer7.bias\n",
      "index, k =   14    layer8.weight\n",
      "index, k =   15    layer8.bias\n",
      "index, k =   16    layer9.weight\n",
      "index, k =   17    layer9.bias\n",
      "index, k =   18    layer10.weight\n",
      "index, k =   19    layer10.bias\n",
      "index, k =   20    layer11.weight\n",
      "index, k =   21    layer11.bias\n",
      "index, k =   22    layer12new.weight\n",
      "index, k =   23    layer12new.bias\n",
      "index, k =   24    conv1.weight\n",
      "index, k =   25    conv1.bias\n",
      "index, k =   26    conv2.weight\n",
      "index, k =   27    conv2.bias\n",
      "index, k =   28    fc1.weight\n",
      "index, k =   29    fc1.bias\n",
      "index, k =   30    finalFilter.weight\n",
      "index, k =   31    finalFilter.bias\n",
      "pretrained_dict iterated\n"
     ]
    },
    {
     "data": {
      "text/plain": [
       "<All keys matched successfully>"
      ]
     },
     "execution_count": 13,
     "metadata": {},
     "output_type": "execute_result"
    }
   ],
   "source": [
    "print('output = ',output)\n",
    "##print('oldOutput = ',oldOutput)\n",
    "##  use the first four layers from a pre-existing model\n",
    "##  see example at https://discuss.pytorch.org/t/how-to-load-part-of-pre-trained-model/1113\n",
    "\n",
    "##   ML -> /share/lazy/sokoloff/ML\n",
    "model_dict = model.state_dict()\n",
    "## mds 190725 for debugging\n",
    "print(\"for model_dict\")\n",
    "index = 0\n",
    "for k,v in model_dict.items():\n",
    "    print(\"index, k =  \",index,\"  \",k)\n",
    "    index = index+1\n",
    "##    print(\"value = \", v)\n",
    " \n",
    "updated_dict = model_dict\n",
    "##print(\"updated_dict = \",updated_dict)\n",
    "## when starting \"ab initio\", reduce biases as the bias gets summed for each track\n",
    "## contributing to the predicted KDE\n",
    "updated_dict[\"layer1.bias\"] = 0.005*model_dict[\"layer1.bias\"]\n",
    "updated_dict[\"layer2.bias\"] = 0.005*model_dict[\"layer2.bias\"]\n",
    "updated_dict[\"layer3.bias\"] = 0.005*model_dict[\"layer3.bias\"]\n",
    "updated_dict[\"layer4.bias\"] = 0.005*model_dict[\"layer4.bias\"]\n",
    "updated_dict[\"layer5.bias\"] = 0.005*model_dict[\"layer5.bias\"]\n",
    "updated_dict[\"layer6.bias\"] = 0.005*model_dict[\"layer6.bias\"]\n",
    "updated_dict[\"layer7.bias\"] = 0.005*model_dict[\"layer7.bias\"]\n",
    "updated_dict[\"layer8.bias\"] = 0.005*model_dict[\"layer8.bias\"]\n",
    "updated_dict[\"layer9.bias\"] = 0.005*model_dict[\"layer9.bias\"]\n",
    "updated_dict[\"layer10.bias\"] = 0.005*model_dict[\"layer10.bias\"]\n",
    "updated_dict[\"layer11.bias\"] = 0.005*model_dict[\"layer11.bias\"]\n",
    "\n",
    "model.load_state_dict(updated_dict,strict=False)\n",
    "\n",
    "model_dict = model.state_dict()\n",
    "##print(\"updated model_dict = \",model_dict)\n",
    "\n",
    "## print(\" \\n\",\"  for pretrained_dict\")\n",
    "## index = 0\n",
    "##for k,v in pretrained_dict.items():\n",
    "##    print(\"index, k =  \",index,\"  \",k)\n",
    "##    index = index+1\n",
    "## mds  \n",
    "\n",
    "##pretrained_dict = torch.load('ML/29July2020_Trks_to_KDE_C_lossB_100epochs_b64_1m3_nOut_50x50/29July2020_Trks_to_KDE_C_lossB_100epochs_b64_1m3_nOut_50x50_final.pyt')\n",
    "##print(\"model_dict instantiated\")\n",
    "# 1. filter out unnecessary keys\n",
    "##pretrained_dict = {k: v for k, v in pretrained_dict.items() if k in model_dict}\n",
    "##print(\"pretrained_dict iterated\")\n",
    "# 2. overwrite entries in the existing state dict\n",
    "##model_dict.update(pretrained_dict) \n",
    "##\n",
    "#   when starting from a model with a fully connected last layer rather than a convolutional layer\n",
    "# 3. load the new state dict\n",
    "#   need to use strict=False as the two models state model attributes do not agree exactly\n",
    "#   see https://pytorch.org/docs/master/_modules/torch/nn/modules/module.html#Module.load_state_dict\n",
    "\n",
    "##model.load_state_dict(pretrained_dict,strict=False)\n",
    "\n",
    "## print('model_dict =    ', model_dict)\n",
    "\n",
    "## finished at training cost = 1.46, validation cost = 1.50\n",
    "d_folder = '25December__DDplus_loss_Ba_iter3_floatAll_100epochs_3em6'\n",
    "d_name = d_folder\n",
    "suffix = 'final'\n",
    "dict_name = 'ML/' + d_folder + '/' + d_name + '_'+ suffix + '.pyt'\n",
    "print('dict_name = ',dict_name)\n",
    "pretrained_dict = torch.load(dict_name)\n",
    "\n",
    "print(\" \")\n",
    "print(\"  for pretrained_dict\")\n",
    "index = 0\n",
    "for k,v in pretrained_dict.items():\n",
    "    print(\"index, k =  \",index,\"  \",k)\n",
    "    index = index+1\n",
    " \n",
    "\n",
    "##print(\"model_dict instantiated\")\n",
    "# 1. filter out unnecessary keys\n",
    "pretrained_dict = {k: v for k, v in pretrained_dict.items() if k in model_dict}\n",
    "print(\"pretrained_dict iterated\")\n",
    "# 2. overwrite entries in the existing state dict\n",
    "model_dict.update(pretrained_dict) \n",
    "##\n",
    "#   when starting from a model with a fully connected last layer rather than a convolutional layer\n",
    "# 3. load the new state dict\n",
    "#   need to use strict=False as the two models state model attributes do not agree exactly\n",
    "#   see https://pytorch.org/docs/master/_modules/torch/nn/modules/module.html#Module.load_state_dict\n",
    "\n",
    "model.load_state_dict(pretrained_dict,strict=False)\n",
    "\n"
   ]
  },
  {
   "cell_type": "code",
   "execution_count": 14,
   "metadata": {},
   "outputs": [],
   "source": [
    "##print('validation.dataset.tensors = ',validation.dataset.tensors)\n",
    "fig_size = plt.rcParams[\"figure.figsize\"]\n",
    "fig_size[0] = 10\n",
    "fig_size[1] = 4\n",
    "plt.rcParams[\"figure.figsize\"] = fig_size"
   ]
  },
  {
   "cell_type": "code",
   "execution_count": 15,
   "metadata": {
    "scrolled": false
   },
   "outputs": [
    {
     "name": "stdout",
     "output_type": "stream",
     "text": [
      "Loading data...\n",
      "pocaMx.shape =  (20000,)\n",
      "nEvts =  20000\n",
      "len(pocaMx[0]) =  211\n",
      "len(pocaMx[1]) =  21\n",
      "len(pocaMx[2]) =  20\n",
      "len(pocaMx[3]) =  198\n",
      "len(pocaMx[4]) =  233\n",
      "majorAxis.shape =  (20000, 3)\n",
      "minorAxis_1.shape =  (20000, 3)\n",
      "minorAxis_2.shape =  (20000, 3)\n",
      "have entered six_ellipsoid_parameters\n",
      "  \n",
      " \n",
      "  nEvts =  20000\n",
      " iEvt, nTrks =  0 211\n",
      " iEvt, nTrks =  1 21\n",
      " iEvt, nTrks =  2 20\n",
      " iEvt, nTrks =  3 198\n",
      " iEvt, nTrks =  4 233\n",
      " iEvt, nTrks =  5 85\n",
      " iEvt, nTrks =  6 223\n",
      " iEvt, nTrks =  7 425\n",
      " iEvt, nTrks =  8 252\n",
      " iEvt, nTrks =  9 169\n",
      "A.shape =  (20000,)\n",
      "A[iTrk][0] =  312.1509\n",
      "B[iTrk][0] =  312.14526\n",
      "C[iTrk][0] =  0.018625624\n",
      "D[iTrk][0] =  -0.003707775\n",
      "E[iTrk][0] =  0.7585639\n",
      "F[iTrk][0] =  1.5268729\n",
      "A[iTrk][0] =  307.0049\n",
      "B[iTrk][0] =  309.3697\n",
      "C[iTrk][0] =  16.298458\n",
      "D[iTrk][0] =  3.7850251\n",
      "E[iTrk][0] =  39.0255\n",
      "F[iTrk][0] =  -28.694317\n",
      "A[iTrk][0] =  311.72607\n",
      "B[iTrk][0] =  312.14993\n",
      "C[iTrk][0] =  0.86016846\n",
      "D[iTrk][0] =  0.03459918\n",
      "E[iTrk][0] =  11.524924\n",
      "F[iTrk][0] =  -0.93459\n",
      "A[iTrk][0] =  312.03\n",
      "B[iTrk][0] =  312.1198\n",
      "C[iTrk][0] =  0.31132916\n",
      "D[iTrk][0] =  0.06352115\n",
      "E[iTrk][0] =  6.1855507\n",
      "F[iTrk][0] =  -3.2027178\n",
      "A[iTrk][0] =  312.0758\n",
      "B[iTrk][0] =  312.14346\n",
      "C[iTrk][0] =  0.17242321\n",
      "D[iTrk][0] =  0.02671076\n",
      "E[iTrk][0] =  -4.8985863\n",
      "F[iTrk][0] =  1.7008059\n",
      "A[iTrk][0] =  312.1496\n",
      "B[iTrk][0] =  312.15186\n",
      "C[iTrk][0] =  0.0079896655\n",
      "D[iTrk][0] =  0.0016326695\n",
      "E[iTrk][0] =  0.98978716\n",
      "F[iTrk][0] =  -0.51698303\n",
      "A[iTrk][0] =  312.15152\n",
      "B[iTrk][0] =  312.14337\n",
      "C[iTrk][0] =  0.02129215\n",
      "D[iTrk][0] =  -0.0034102227\n",
      "E[iTrk][0] =  0.62326497\n",
      "F[iTrk][0] =  1.7130098\n",
      "A[iTrk][0] =  312.146\n",
      "B[iTrk][0] =  312.1519\n",
      "C[iTrk][0] =  0.015216089\n",
      "D[iTrk][0] =  0.0024184594\n",
      "E[iTrk][0] =  1.4515046\n",
      "F[iTrk][0] =  -0.5175251\n",
      "A[iTrk][0] =  312.1459\n",
      "B[iTrk][0] =  312.15268\n",
      "C[iTrk][0] =  0.013644187\n",
      "D[iTrk][0] =  0.00061224576\n",
      "E[iTrk][0] =  -1.4534992\n",
      "F[iTrk][0] =  0.12936354\n",
      "A[iTrk][0] =  311.7683\n",
      "B[iTrk][0] =  312.13577\n",
      "C[iTrk][0] =  0.80389833\n",
      "D[iTrk][0] =  -0.08082064\n",
      "E[iTrk][0] =  10.9404955\n",
      "F[iTrk][0] =  2.3001347\n",
      "len(X) =  20000\n",
      "len(Xlist) =  1\n",
      "Loaded dataAA/20K_POCA_kernel_evts_200926.h5 in 41.41 s\n",
      "outer loop X.shape =  (20000, 9, 600)\n",
      "Constructing 18000 event dataset took 0.1116 s\n",
      "x_t.shape =  torch.Size([18000, 9, 600])\n",
      "x_t.shape[0] =  18000\n",
      "x_t.shape[1] =  9\n",
      "x_t.shape =  torch.Size([18000, 9, 600])\n",
      "Loading data...\n",
      "pocaMx.shape =  (20000,)\n",
      "nEvts =  20000\n",
      "len(pocaMx[0]) =  211\n",
      "len(pocaMx[1]) =  21\n",
      "len(pocaMx[2]) =  20\n",
      "len(pocaMx[3]) =  198\n",
      "len(pocaMx[4]) =  233\n",
      "majorAxis.shape =  (20000, 3)\n",
      "minorAxis_1.shape =  (20000, 3)\n",
      "minorAxis_2.shape =  (20000, 3)\n",
      "have entered six_ellipsoid_parameters\n",
      "  \n",
      " \n",
      "  nEvts =  20000\n",
      " iEvt, nTrks =  0 211\n",
      " iEvt, nTrks =  1 21\n",
      " iEvt, nTrks =  2 20\n",
      " iEvt, nTrks =  3 198\n",
      " iEvt, nTrks =  4 233\n",
      " iEvt, nTrks =  5 85\n",
      " iEvt, nTrks =  6 223\n",
      " iEvt, nTrks =  7 425\n",
      " iEvt, nTrks =  8 252\n",
      " iEvt, nTrks =  9 169\n",
      "A.shape =  (20000,)\n",
      "A[iTrk][0] =  312.1509\n",
      "B[iTrk][0] =  312.14526\n",
      "C[iTrk][0] =  0.018625624\n",
      "D[iTrk][0] =  -0.003707775\n",
      "E[iTrk][0] =  0.7585639\n",
      "F[iTrk][0] =  1.5268729\n",
      "A[iTrk][0] =  307.0049\n",
      "B[iTrk][0] =  309.3697\n",
      "C[iTrk][0] =  16.298458\n",
      "D[iTrk][0] =  3.7850251\n",
      "E[iTrk][0] =  39.0255\n",
      "F[iTrk][0] =  -28.694317\n",
      "A[iTrk][0] =  311.72607\n",
      "B[iTrk][0] =  312.14993\n",
      "C[iTrk][0] =  0.86016846\n",
      "D[iTrk][0] =  0.03459918\n",
      "E[iTrk][0] =  11.524924\n",
      "F[iTrk][0] =  -0.93459\n",
      "A[iTrk][0] =  312.03\n",
      "B[iTrk][0] =  312.1198\n",
      "C[iTrk][0] =  0.31132916\n",
      "D[iTrk][0] =  0.06352115\n",
      "E[iTrk][0] =  6.1855507\n",
      "F[iTrk][0] =  -3.2027178\n",
      "A[iTrk][0] =  312.0758\n",
      "B[iTrk][0] =  312.14346\n",
      "C[iTrk][0] =  0.17242321\n",
      "D[iTrk][0] =  0.02671076\n",
      "E[iTrk][0] =  -4.8985863\n",
      "F[iTrk][0] =  1.7008059\n",
      "A[iTrk][0] =  312.1496\n",
      "B[iTrk][0] =  312.15186\n",
      "C[iTrk][0] =  0.0079896655\n",
      "D[iTrk][0] =  0.0016326695\n",
      "E[iTrk][0] =  0.98978716\n",
      "F[iTrk][0] =  -0.51698303\n",
      "A[iTrk][0] =  312.15152\n",
      "B[iTrk][0] =  312.14337\n",
      "C[iTrk][0] =  0.02129215\n",
      "D[iTrk][0] =  -0.0034102227\n",
      "E[iTrk][0] =  0.62326497\n",
      "F[iTrk][0] =  1.7130098\n",
      "A[iTrk][0] =  312.146\n",
      "B[iTrk][0] =  312.1519\n",
      "C[iTrk][0] =  0.015216089\n",
      "D[iTrk][0] =  0.0024184594\n",
      "E[iTrk][0] =  1.4515046\n",
      "F[iTrk][0] =  -0.5175251\n",
      "A[iTrk][0] =  312.1459\n",
      "B[iTrk][0] =  312.15268\n",
      "C[iTrk][0] =  0.013644187\n",
      "D[iTrk][0] =  0.00061224576\n",
      "E[iTrk][0] =  -1.4534992\n",
      "F[iTrk][0] =  0.12936354\n",
      "A[iTrk][0] =  311.7683\n",
      "B[iTrk][0] =  312.13577\n",
      "C[iTrk][0] =  0.80389833\n",
      "D[iTrk][0] =  -0.08082064\n",
      "E[iTrk][0] =  10.9404955\n",
      "F[iTrk][0] =  2.3001347\n",
      "len(X) =  20000\n",
      "len(Xlist) =  1\n",
      "Loaded dataAA/20K_POCA_kernel_evts_200926.h5 in 40.11 s\n",
      "outer loop X.shape =  (20000, 9, 600)\n",
      "Constructing 2000 event dataset took 0.006658 s\n",
      "x_t.shape =  torch.Size([2000, 9, 600])\n",
      "x_t.shape[0] =  2000\n",
      "x_t.shape[1] =  9\n",
      "x_t.shape =  torch.Size([2000, 9, 600])\n"
     ]
    }
   ],
   "source": [
    "\n",
    "## Training dataset. You can put as many files here as desired.\n",
    "\n",
    "##train_loader = collect_t2kde_data('/share/lazy/pv-finder/20k_evts_for_KDE_learning_200716.h5',\n",
    "train_loader = collect_t2kde_data('dataAA/20K_POCA_kernel_evts_200926.h5',\n",
    "##train_loader = collect_t2kde_data('/share/lazy/pv-finder/test_data_for_KDE_learning_BastilleDay20.h5',\n",
    "                            batch_size=batch_size,\n",
    "## if we are using a larger dataset (240K events, with the datasets above, and 11 GB  of GPU memory),\n",
    "## the dataset will overflow the GPU memory; device=device will allow the data to move back\n",
    "## and forth between the CPU and GPU memory. While this allows use of a larger dataset, it slows\n",
    "## down performance by about 10%.  So comment out when not needed.\n",
    "##                          device=device,\n",
    "                           slice = slice(None,18000)\n",
    "                           )\n",
    "                            \n",
    "# Validation dataset. You can slice to reduce the size.\n",
    "## mds no separate validation set yet,\n",
    "val_loader = collect_t2kde_data('dataAA/20K_POCA_kernel_evts_200926.h5',\n",
    "                            batch_size=batch_size,\n",
    "##                            device=device,\n",
    "                            slice = slice(18000,None)\n",
    "                           )\n"
   ]
  },
  {
   "cell_type": "code",
   "execution_count": 16,
   "metadata": {
    "scrolled": false
   },
   "outputs": [
    {
     "data": {
      "application/javascript": [
       "/* Put everything inside the global mpl namespace */\n",
       "window.mpl = {};\n",
       "\n",
       "\n",
       "mpl.get_websocket_type = function() {\n",
       "    if (typeof(WebSocket) !== 'undefined') {\n",
       "        return WebSocket;\n",
       "    } else if (typeof(MozWebSocket) !== 'undefined') {\n",
       "        return MozWebSocket;\n",
       "    } else {\n",
       "        alert('Your browser does not have WebSocket support. ' +\n",
       "              'Please try Chrome, Safari or Firefox ≥ 6. ' +\n",
       "              'Firefox 4 and 5 are also supported but you ' +\n",
       "              'have to enable WebSockets in about:config.');\n",
       "    };\n",
       "}\n",
       "\n",
       "mpl.figure = function(figure_id, websocket, ondownload, parent_element) {\n",
       "    this.id = figure_id;\n",
       "\n",
       "    this.ws = websocket;\n",
       "\n",
       "    this.supports_binary = (this.ws.binaryType != undefined);\n",
       "\n",
       "    if (!this.supports_binary) {\n",
       "        var warnings = document.getElementById(\"mpl-warnings\");\n",
       "        if (warnings) {\n",
       "            warnings.style.display = 'block';\n",
       "            warnings.textContent = (\n",
       "                \"This browser does not support binary websocket messages. \" +\n",
       "                    \"Performance may be slow.\");\n",
       "        }\n",
       "    }\n",
       "\n",
       "    this.imageObj = new Image();\n",
       "\n",
       "    this.context = undefined;\n",
       "    this.message = undefined;\n",
       "    this.canvas = undefined;\n",
       "    this.rubberband_canvas = undefined;\n",
       "    this.rubberband_context = undefined;\n",
       "    this.format_dropdown = undefined;\n",
       "\n",
       "    this.image_mode = 'full';\n",
       "\n",
       "    this.root = $('<div/>');\n",
       "    this._root_extra_style(this.root)\n",
       "    this.root.attr('style', 'display: inline-block');\n",
       "\n",
       "    $(parent_element).append(this.root);\n",
       "\n",
       "    this._init_header(this);\n",
       "    this._init_canvas(this);\n",
       "    this._init_toolbar(this);\n",
       "\n",
       "    var fig = this;\n",
       "\n",
       "    this.waiting = false;\n",
       "\n",
       "    this.ws.onopen =  function () {\n",
       "            fig.send_message(\"supports_binary\", {value: fig.supports_binary});\n",
       "            fig.send_message(\"send_image_mode\", {});\n",
       "            if (mpl.ratio != 1) {\n",
       "                fig.send_message(\"set_dpi_ratio\", {'dpi_ratio': mpl.ratio});\n",
       "            }\n",
       "            fig.send_message(\"refresh\", {});\n",
       "        }\n",
       "\n",
       "    this.imageObj.onload = function() {\n",
       "            if (fig.image_mode == 'full') {\n",
       "                // Full images could contain transparency (where diff images\n",
       "                // almost always do), so we need to clear the canvas so that\n",
       "                // there is no ghosting.\n",
       "                fig.context.clearRect(0, 0, fig.canvas.width, fig.canvas.height);\n",
       "            }\n",
       "            fig.context.drawImage(fig.imageObj, 0, 0);\n",
       "        };\n",
       "\n",
       "    this.imageObj.onunload = function() {\n",
       "        fig.ws.close();\n",
       "    }\n",
       "\n",
       "    this.ws.onmessage = this._make_on_message_function(this);\n",
       "\n",
       "    this.ondownload = ondownload;\n",
       "}\n",
       "\n",
       "mpl.figure.prototype._init_header = function() {\n",
       "    var titlebar = $(\n",
       "        '<div class=\"ui-dialog-titlebar ui-widget-header ui-corner-all ' +\n",
       "        'ui-helper-clearfix\"/>');\n",
       "    var titletext = $(\n",
       "        '<div class=\"ui-dialog-title\" style=\"width: 100%; ' +\n",
       "        'text-align: center; padding: 3px;\"/>');\n",
       "    titlebar.append(titletext)\n",
       "    this.root.append(titlebar);\n",
       "    this.header = titletext[0];\n",
       "}\n",
       "\n",
       "\n",
       "\n",
       "mpl.figure.prototype._canvas_extra_style = function(canvas_div) {\n",
       "\n",
       "}\n",
       "\n",
       "\n",
       "mpl.figure.prototype._root_extra_style = function(canvas_div) {\n",
       "\n",
       "}\n",
       "\n",
       "mpl.figure.prototype._init_canvas = function() {\n",
       "    var fig = this;\n",
       "\n",
       "    var canvas_div = $('<div/>');\n",
       "\n",
       "    canvas_div.attr('style', 'position: relative; clear: both; outline: 0');\n",
       "\n",
       "    function canvas_keyboard_event(event) {\n",
       "        return fig.key_event(event, event['data']);\n",
       "    }\n",
       "\n",
       "    canvas_div.keydown('key_press', canvas_keyboard_event);\n",
       "    canvas_div.keyup('key_release', canvas_keyboard_event);\n",
       "    this.canvas_div = canvas_div\n",
       "    this._canvas_extra_style(canvas_div)\n",
       "    this.root.append(canvas_div);\n",
       "\n",
       "    var canvas = $('<canvas/>');\n",
       "    canvas.addClass('mpl-canvas');\n",
       "    canvas.attr('style', \"left: 0; top: 0; z-index: 0; outline: 0\")\n",
       "\n",
       "    this.canvas = canvas[0];\n",
       "    this.context = canvas[0].getContext(\"2d\");\n",
       "\n",
       "    var backingStore = this.context.backingStorePixelRatio ||\n",
       "\tthis.context.webkitBackingStorePixelRatio ||\n",
       "\tthis.context.mozBackingStorePixelRatio ||\n",
       "\tthis.context.msBackingStorePixelRatio ||\n",
       "\tthis.context.oBackingStorePixelRatio ||\n",
       "\tthis.context.backingStorePixelRatio || 1;\n",
       "\n",
       "    mpl.ratio = (window.devicePixelRatio || 1) / backingStore;\n",
       "\n",
       "    var rubberband = $('<canvas/>');\n",
       "    rubberband.attr('style', \"position: absolute; left: 0; top: 0; z-index: 1;\")\n",
       "\n",
       "    var pass_mouse_events = true;\n",
       "\n",
       "    canvas_div.resizable({\n",
       "        start: function(event, ui) {\n",
       "            pass_mouse_events = false;\n",
       "        },\n",
       "        resize: function(event, ui) {\n",
       "            fig.request_resize(ui.size.width, ui.size.height);\n",
       "        },\n",
       "        stop: function(event, ui) {\n",
       "            pass_mouse_events = true;\n",
       "            fig.request_resize(ui.size.width, ui.size.height);\n",
       "        },\n",
       "    });\n",
       "\n",
       "    function mouse_event_fn(event) {\n",
       "        if (pass_mouse_events)\n",
       "            return fig.mouse_event(event, event['data']);\n",
       "    }\n",
       "\n",
       "    rubberband.mousedown('button_press', mouse_event_fn);\n",
       "    rubberband.mouseup('button_release', mouse_event_fn);\n",
       "    // Throttle sequential mouse events to 1 every 20ms.\n",
       "    rubberband.mousemove('motion_notify', mouse_event_fn);\n",
       "\n",
       "    rubberband.mouseenter('figure_enter', mouse_event_fn);\n",
       "    rubberband.mouseleave('figure_leave', mouse_event_fn);\n",
       "\n",
       "    canvas_div.on(\"wheel\", function (event) {\n",
       "        event = event.originalEvent;\n",
       "        event['data'] = 'scroll'\n",
       "        if (event.deltaY < 0) {\n",
       "            event.step = 1;\n",
       "        } else {\n",
       "            event.step = -1;\n",
       "        }\n",
       "        mouse_event_fn(event);\n",
       "    });\n",
       "\n",
       "    canvas_div.append(canvas);\n",
       "    canvas_div.append(rubberband);\n",
       "\n",
       "    this.rubberband = rubberband;\n",
       "    this.rubberband_canvas = rubberband[0];\n",
       "    this.rubberband_context = rubberband[0].getContext(\"2d\");\n",
       "    this.rubberband_context.strokeStyle = \"#000000\";\n",
       "\n",
       "    this._resize_canvas = function(width, height) {\n",
       "        // Keep the size of the canvas, canvas container, and rubber band\n",
       "        // canvas in synch.\n",
       "        canvas_div.css('width', width)\n",
       "        canvas_div.css('height', height)\n",
       "\n",
       "        canvas.attr('width', width * mpl.ratio);\n",
       "        canvas.attr('height', height * mpl.ratio);\n",
       "        canvas.attr('style', 'width: ' + width + 'px; height: ' + height + 'px;');\n",
       "\n",
       "        rubberband.attr('width', width);\n",
       "        rubberband.attr('height', height);\n",
       "    }\n",
       "\n",
       "    // Set the figure to an initial 600x600px, this will subsequently be updated\n",
       "    // upon first draw.\n",
       "    this._resize_canvas(600, 600);\n",
       "\n",
       "    // Disable right mouse context menu.\n",
       "    $(this.rubberband_canvas).bind(\"contextmenu\",function(e){\n",
       "        return false;\n",
       "    });\n",
       "\n",
       "    function set_focus () {\n",
       "        canvas.focus();\n",
       "        canvas_div.focus();\n",
       "    }\n",
       "\n",
       "    window.setTimeout(set_focus, 100);\n",
       "}\n",
       "\n",
       "mpl.figure.prototype._init_toolbar = function() {\n",
       "    var fig = this;\n",
       "\n",
       "    var nav_element = $('<div/>');\n",
       "    nav_element.attr('style', 'width: 100%');\n",
       "    this.root.append(nav_element);\n",
       "\n",
       "    // Define a callback function for later on.\n",
       "    function toolbar_event(event) {\n",
       "        return fig.toolbar_button_onclick(event['data']);\n",
       "    }\n",
       "    function toolbar_mouse_event(event) {\n",
       "        return fig.toolbar_button_onmouseover(event['data']);\n",
       "    }\n",
       "\n",
       "    for(var toolbar_ind in mpl.toolbar_items) {\n",
       "        var name = mpl.toolbar_items[toolbar_ind][0];\n",
       "        var tooltip = mpl.toolbar_items[toolbar_ind][1];\n",
       "        var image = mpl.toolbar_items[toolbar_ind][2];\n",
       "        var method_name = mpl.toolbar_items[toolbar_ind][3];\n",
       "\n",
       "        if (!name) {\n",
       "            // put a spacer in here.\n",
       "            continue;\n",
       "        }\n",
       "        var button = $('<button/>');\n",
       "        button.addClass('ui-button ui-widget ui-state-default ui-corner-all ' +\n",
       "                        'ui-button-icon-only');\n",
       "        button.attr('role', 'button');\n",
       "        button.attr('aria-disabled', 'false');\n",
       "        button.click(method_name, toolbar_event);\n",
       "        button.mouseover(tooltip, toolbar_mouse_event);\n",
       "\n",
       "        var icon_img = $('<span/>');\n",
       "        icon_img.addClass('ui-button-icon-primary ui-icon');\n",
       "        icon_img.addClass(image);\n",
       "        icon_img.addClass('ui-corner-all');\n",
       "\n",
       "        var tooltip_span = $('<span/>');\n",
       "        tooltip_span.addClass('ui-button-text');\n",
       "        tooltip_span.html(tooltip);\n",
       "\n",
       "        button.append(icon_img);\n",
       "        button.append(tooltip_span);\n",
       "\n",
       "        nav_element.append(button);\n",
       "    }\n",
       "\n",
       "    var fmt_picker_span = $('<span/>');\n",
       "\n",
       "    var fmt_picker = $('<select/>');\n",
       "    fmt_picker.addClass('mpl-toolbar-option ui-widget ui-widget-content');\n",
       "    fmt_picker_span.append(fmt_picker);\n",
       "    nav_element.append(fmt_picker_span);\n",
       "    this.format_dropdown = fmt_picker[0];\n",
       "\n",
       "    for (var ind in mpl.extensions) {\n",
       "        var fmt = mpl.extensions[ind];\n",
       "        var option = $(\n",
       "            '<option/>', {selected: fmt === mpl.default_extension}).html(fmt);\n",
       "        fmt_picker.append(option);\n",
       "    }\n",
       "\n",
       "    // Add hover states to the ui-buttons\n",
       "    $( \".ui-button\" ).hover(\n",
       "        function() { $(this).addClass(\"ui-state-hover\");},\n",
       "        function() { $(this).removeClass(\"ui-state-hover\");}\n",
       "    );\n",
       "\n",
       "    var status_bar = $('<span class=\"mpl-message\"/>');\n",
       "    nav_element.append(status_bar);\n",
       "    this.message = status_bar[0];\n",
       "}\n",
       "\n",
       "mpl.figure.prototype.request_resize = function(x_pixels, y_pixels) {\n",
       "    // Request matplotlib to resize the figure. Matplotlib will then trigger a resize in the client,\n",
       "    // which will in turn request a refresh of the image.\n",
       "    this.send_message('resize', {'width': x_pixels, 'height': y_pixels});\n",
       "}\n",
       "\n",
       "mpl.figure.prototype.send_message = function(type, properties) {\n",
       "    properties['type'] = type;\n",
       "    properties['figure_id'] = this.id;\n",
       "    this.ws.send(JSON.stringify(properties));\n",
       "}\n",
       "\n",
       "mpl.figure.prototype.send_draw_message = function() {\n",
       "    if (!this.waiting) {\n",
       "        this.waiting = true;\n",
       "        this.ws.send(JSON.stringify({type: \"draw\", figure_id: this.id}));\n",
       "    }\n",
       "}\n",
       "\n",
       "\n",
       "mpl.figure.prototype.handle_save = function(fig, msg) {\n",
       "    var format_dropdown = fig.format_dropdown;\n",
       "    var format = format_dropdown.options[format_dropdown.selectedIndex].value;\n",
       "    fig.ondownload(fig, format);\n",
       "}\n",
       "\n",
       "\n",
       "mpl.figure.prototype.handle_resize = function(fig, msg) {\n",
       "    var size = msg['size'];\n",
       "    if (size[0] != fig.canvas.width || size[1] != fig.canvas.height) {\n",
       "        fig._resize_canvas(size[0], size[1]);\n",
       "        fig.send_message(\"refresh\", {});\n",
       "    };\n",
       "}\n",
       "\n",
       "mpl.figure.prototype.handle_rubberband = function(fig, msg) {\n",
       "    var x0 = msg['x0'] / mpl.ratio;\n",
       "    var y0 = (fig.canvas.height - msg['y0']) / mpl.ratio;\n",
       "    var x1 = msg['x1'] / mpl.ratio;\n",
       "    var y1 = (fig.canvas.height - msg['y1']) / mpl.ratio;\n",
       "    x0 = Math.floor(x0) + 0.5;\n",
       "    y0 = Math.floor(y0) + 0.5;\n",
       "    x1 = Math.floor(x1) + 0.5;\n",
       "    y1 = Math.floor(y1) + 0.5;\n",
       "    var min_x = Math.min(x0, x1);\n",
       "    var min_y = Math.min(y0, y1);\n",
       "    var width = Math.abs(x1 - x0);\n",
       "    var height = Math.abs(y1 - y0);\n",
       "\n",
       "    fig.rubberband_context.clearRect(\n",
       "        0, 0, fig.canvas.width / mpl.ratio, fig.canvas.height / mpl.ratio);\n",
       "\n",
       "    fig.rubberband_context.strokeRect(min_x, min_y, width, height);\n",
       "}\n",
       "\n",
       "mpl.figure.prototype.handle_figure_label = function(fig, msg) {\n",
       "    // Updates the figure title.\n",
       "    fig.header.textContent = msg['label'];\n",
       "}\n",
       "\n",
       "mpl.figure.prototype.handle_cursor = function(fig, msg) {\n",
       "    var cursor = msg['cursor'];\n",
       "    switch(cursor)\n",
       "    {\n",
       "    case 0:\n",
       "        cursor = 'pointer';\n",
       "        break;\n",
       "    case 1:\n",
       "        cursor = 'default';\n",
       "        break;\n",
       "    case 2:\n",
       "        cursor = 'crosshair';\n",
       "        break;\n",
       "    case 3:\n",
       "        cursor = 'move';\n",
       "        break;\n",
       "    }\n",
       "    fig.rubberband_canvas.style.cursor = cursor;\n",
       "}\n",
       "\n",
       "mpl.figure.prototype.handle_message = function(fig, msg) {\n",
       "    fig.message.textContent = msg['message'];\n",
       "}\n",
       "\n",
       "mpl.figure.prototype.handle_draw = function(fig, msg) {\n",
       "    // Request the server to send over a new figure.\n",
       "    fig.send_draw_message();\n",
       "}\n",
       "\n",
       "mpl.figure.prototype.handle_image_mode = function(fig, msg) {\n",
       "    fig.image_mode = msg['mode'];\n",
       "}\n",
       "\n",
       "mpl.figure.prototype.updated_canvas_event = function() {\n",
       "    // Called whenever the canvas gets updated.\n",
       "    this.send_message(\"ack\", {});\n",
       "}\n",
       "\n",
       "// A function to construct a web socket function for onmessage handling.\n",
       "// Called in the figure constructor.\n",
       "mpl.figure.prototype._make_on_message_function = function(fig) {\n",
       "    return function socket_on_message(evt) {\n",
       "        if (evt.data instanceof Blob) {\n",
       "            /* FIXME: We get \"Resource interpreted as Image but\n",
       "             * transferred with MIME type text/plain:\" errors on\n",
       "             * Chrome.  But how to set the MIME type?  It doesn't seem\n",
       "             * to be part of the websocket stream */\n",
       "            evt.data.type = \"image/png\";\n",
       "\n",
       "            /* Free the memory for the previous frames */\n",
       "            if (fig.imageObj.src) {\n",
       "                (window.URL || window.webkitURL).revokeObjectURL(\n",
       "                    fig.imageObj.src);\n",
       "            }\n",
       "\n",
       "            fig.imageObj.src = (window.URL || window.webkitURL).createObjectURL(\n",
       "                evt.data);\n",
       "            fig.updated_canvas_event();\n",
       "            fig.waiting = false;\n",
       "            return;\n",
       "        }\n",
       "        else if (typeof evt.data === 'string' && evt.data.slice(0, 21) == \"data:image/png;base64\") {\n",
       "            fig.imageObj.src = evt.data;\n",
       "            fig.updated_canvas_event();\n",
       "            fig.waiting = false;\n",
       "            return;\n",
       "        }\n",
       "\n",
       "        var msg = JSON.parse(evt.data);\n",
       "        var msg_type = msg['type'];\n",
       "\n",
       "        // Call the  \"handle_{type}\" callback, which takes\n",
       "        // the figure and JSON message as its only arguments.\n",
       "        try {\n",
       "            var callback = fig[\"handle_\" + msg_type];\n",
       "        } catch (e) {\n",
       "            console.log(\"No handler for the '\" + msg_type + \"' message type: \", msg);\n",
       "            return;\n",
       "        }\n",
       "\n",
       "        if (callback) {\n",
       "            try {\n",
       "                // console.log(\"Handling '\" + msg_type + \"' message: \", msg);\n",
       "                callback(fig, msg);\n",
       "            } catch (e) {\n",
       "                console.log(\"Exception inside the 'handler_\" + msg_type + \"' callback:\", e, e.stack, msg);\n",
       "            }\n",
       "        }\n",
       "    };\n",
       "}\n",
       "\n",
       "// from http://stackoverflow.com/questions/1114465/getting-mouse-location-in-canvas\n",
       "mpl.findpos = function(e) {\n",
       "    //this section is from http://www.quirksmode.org/js/events_properties.html\n",
       "    var targ;\n",
       "    if (!e)\n",
       "        e = window.event;\n",
       "    if (e.target)\n",
       "        targ = e.target;\n",
       "    else if (e.srcElement)\n",
       "        targ = e.srcElement;\n",
       "    if (targ.nodeType == 3) // defeat Safari bug\n",
       "        targ = targ.parentNode;\n",
       "\n",
       "    // jQuery normalizes the pageX and pageY\n",
       "    // pageX,Y are the mouse positions relative to the document\n",
       "    // offset() returns the position of the element relative to the document\n",
       "    var x = e.pageX - $(targ).offset().left;\n",
       "    var y = e.pageY - $(targ).offset().top;\n",
       "\n",
       "    return {\"x\": x, \"y\": y};\n",
       "};\n",
       "\n",
       "/*\n",
       " * return a copy of an object with only non-object keys\n",
       " * we need this to avoid circular references\n",
       " * http://stackoverflow.com/a/24161582/3208463\n",
       " */\n",
       "function simpleKeys (original) {\n",
       "  return Object.keys(original).reduce(function (obj, key) {\n",
       "    if (typeof original[key] !== 'object')\n",
       "        obj[key] = original[key]\n",
       "    return obj;\n",
       "  }, {});\n",
       "}\n",
       "\n",
       "mpl.figure.prototype.mouse_event = function(event, name) {\n",
       "    var canvas_pos = mpl.findpos(event)\n",
       "\n",
       "    if (name === 'button_press')\n",
       "    {\n",
       "        this.canvas.focus();\n",
       "        this.canvas_div.focus();\n",
       "    }\n",
       "\n",
       "    var x = canvas_pos.x * mpl.ratio;\n",
       "    var y = canvas_pos.y * mpl.ratio;\n",
       "\n",
       "    this.send_message(name, {x: x, y: y, button: event.button,\n",
       "                             step: event.step,\n",
       "                             guiEvent: simpleKeys(event)});\n",
       "\n",
       "    /* This prevents the web browser from automatically changing to\n",
       "     * the text insertion cursor when the button is pressed.  We want\n",
       "     * to control all of the cursor setting manually through the\n",
       "     * 'cursor' event from matplotlib */\n",
       "    event.preventDefault();\n",
       "    return false;\n",
       "}\n",
       "\n",
       "mpl.figure.prototype._key_event_extra = function(event, name) {\n",
       "    // Handle any extra behaviour associated with a key event\n",
       "}\n",
       "\n",
       "mpl.figure.prototype.key_event = function(event, name) {\n",
       "\n",
       "    // Prevent repeat events\n",
       "    if (name == 'key_press')\n",
       "    {\n",
       "        if (event.which === this._key)\n",
       "            return;\n",
       "        else\n",
       "            this._key = event.which;\n",
       "    }\n",
       "    if (name == 'key_release')\n",
       "        this._key = null;\n",
       "\n",
       "    var value = '';\n",
       "    if (event.ctrlKey && event.which != 17)\n",
       "        value += \"ctrl+\";\n",
       "    if (event.altKey && event.which != 18)\n",
       "        value += \"alt+\";\n",
       "    if (event.shiftKey && event.which != 16)\n",
       "        value += \"shift+\";\n",
       "\n",
       "    value += 'k';\n",
       "    value += event.which.toString();\n",
       "\n",
       "    this._key_event_extra(event, name);\n",
       "\n",
       "    this.send_message(name, {key: value,\n",
       "                             guiEvent: simpleKeys(event)});\n",
       "    return false;\n",
       "}\n",
       "\n",
       "mpl.figure.prototype.toolbar_button_onclick = function(name) {\n",
       "    if (name == 'download') {\n",
       "        this.handle_save(this, null);\n",
       "    } else {\n",
       "        this.send_message(\"toolbar_button\", {name: name});\n",
       "    }\n",
       "};\n",
       "\n",
       "mpl.figure.prototype.toolbar_button_onmouseover = function(tooltip) {\n",
       "    this.message.textContent = tooltip;\n",
       "};\n",
       "mpl.toolbar_items = [[\"Home\", \"Reset original view\", \"fa fa-home icon-home\", \"home\"], [\"Back\", \"Back to previous view\", \"fa fa-arrow-left icon-arrow-left\", \"back\"], [\"Forward\", \"Forward to next view\", \"fa fa-arrow-right icon-arrow-right\", \"forward\"], [\"\", \"\", \"\", \"\"], [\"Pan\", \"Pan axes with left mouse, zoom with right\", \"fa fa-arrows icon-move\", \"pan\"], [\"Zoom\", \"Zoom to rectangle\", \"fa fa-square-o icon-check-empty\", \"zoom\"], [\"\", \"\", \"\", \"\"], [\"Download\", \"Download plot\", \"fa fa-floppy-o icon-save\", \"download\"]];\n",
       "\n",
       "mpl.extensions = [\"eps\", \"jpeg\", \"pdf\", \"png\", \"ps\", \"raw\", \"svg\", \"tif\"];\n",
       "\n",
       "mpl.default_extension = \"png\";var comm_websocket_adapter = function(comm) {\n",
       "    // Create a \"websocket\"-like object which calls the given IPython comm\n",
       "    // object with the appropriate methods. Currently this is a non binary\n",
       "    // socket, so there is still some room for performance tuning.\n",
       "    var ws = {};\n",
       "\n",
       "    ws.close = function() {\n",
       "        comm.close()\n",
       "    };\n",
       "    ws.send = function(m) {\n",
       "        //console.log('sending', m);\n",
       "        comm.send(m);\n",
       "    };\n",
       "    // Register the callback with on_msg.\n",
       "    comm.on_msg(function(msg) {\n",
       "        //console.log('receiving', msg['content']['data'], msg);\n",
       "        // Pass the mpl event to the overridden (by mpl) onmessage function.\n",
       "        ws.onmessage(msg['content']['data'])\n",
       "    });\n",
       "    return ws;\n",
       "}\n",
       "\n",
       "mpl.mpl_figure_comm = function(comm, msg) {\n",
       "    // This is the function which gets called when the mpl process\n",
       "    // starts-up an IPython Comm through the \"matplotlib\" channel.\n",
       "\n",
       "    var id = msg.content.data.id;\n",
       "    // Get hold of the div created by the display call when the Comm\n",
       "    // socket was opened in Python.\n",
       "    var element = $(\"#\" + id);\n",
       "    var ws_proxy = comm_websocket_adapter(comm)\n",
       "\n",
       "    function ondownload(figure, format) {\n",
       "        window.open(figure.imageObj.src);\n",
       "    }\n",
       "\n",
       "    var fig = new mpl.figure(id, ws_proxy,\n",
       "                           ondownload,\n",
       "                           element.get(0));\n",
       "\n",
       "    // Call onopen now - mpl needs it, as it is assuming we've passed it a real\n",
       "    // web socket which is closed, not our websocket->open comm proxy.\n",
       "    ws_proxy.onopen();\n",
       "\n",
       "    fig.parent_element = element.get(0);\n",
       "    fig.cell_info = mpl.find_output_cell(\"<div id='\" + id + \"'></div>\");\n",
       "    if (!fig.cell_info) {\n",
       "        console.error(\"Failed to find cell for figure\", id, fig);\n",
       "        return;\n",
       "    }\n",
       "\n",
       "    var output_index = fig.cell_info[2]\n",
       "    var cell = fig.cell_info[0];\n",
       "\n",
       "};\n",
       "\n",
       "mpl.figure.prototype.handle_close = function(fig, msg) {\n",
       "    var width = fig.canvas.width/mpl.ratio\n",
       "    fig.root.unbind('remove')\n",
       "\n",
       "    // Update the output cell to use the data from the current canvas.\n",
       "    fig.push_to_output();\n",
       "    var dataURL = fig.canvas.toDataURL();\n",
       "    // Re-enable the keyboard manager in IPython - without this line, in FF,\n",
       "    // the notebook keyboard shortcuts fail.\n",
       "    IPython.keyboard_manager.enable()\n",
       "    $(fig.parent_element).html('<img src=\"' + dataURL + '\" width=\"' + width + '\">');\n",
       "    fig.close_ws(fig, msg);\n",
       "}\n",
       "\n",
       "mpl.figure.prototype.close_ws = function(fig, msg){\n",
       "    fig.send_message('closing', msg);\n",
       "    // fig.ws.close()\n",
       "}\n",
       "\n",
       "mpl.figure.prototype.push_to_output = function(remove_interactive) {\n",
       "    // Turn the data on the canvas into data in the output cell.\n",
       "    var width = this.canvas.width/mpl.ratio\n",
       "    var dataURL = this.canvas.toDataURL();\n",
       "    this.cell_info[1]['text/html'] = '<img src=\"' + dataURL + '\" width=\"' + width + '\">';\n",
       "}\n",
       "\n",
       "mpl.figure.prototype.updated_canvas_event = function() {\n",
       "    // Tell IPython that the notebook contents must change.\n",
       "    IPython.notebook.set_dirty(true);\n",
       "    this.send_message(\"ack\", {});\n",
       "    var fig = this;\n",
       "    // Wait a second, then push the new image to the DOM so\n",
       "    // that it is saved nicely (might be nice to debounce this).\n",
       "    setTimeout(function () { fig.push_to_output() }, 1000);\n",
       "}\n",
       "\n",
       "mpl.figure.prototype._init_toolbar = function() {\n",
       "    var fig = this;\n",
       "\n",
       "    var nav_element = $('<div/>');\n",
       "    nav_element.attr('style', 'width: 100%');\n",
       "    this.root.append(nav_element);\n",
       "\n",
       "    // Define a callback function for later on.\n",
       "    function toolbar_event(event) {\n",
       "        return fig.toolbar_button_onclick(event['data']);\n",
       "    }\n",
       "    function toolbar_mouse_event(event) {\n",
       "        return fig.toolbar_button_onmouseover(event['data']);\n",
       "    }\n",
       "\n",
       "    for(var toolbar_ind in mpl.toolbar_items){\n",
       "        var name = mpl.toolbar_items[toolbar_ind][0];\n",
       "        var tooltip = mpl.toolbar_items[toolbar_ind][1];\n",
       "        var image = mpl.toolbar_items[toolbar_ind][2];\n",
       "        var method_name = mpl.toolbar_items[toolbar_ind][3];\n",
       "\n",
       "        if (!name) { continue; };\n",
       "\n",
       "        var button = $('<button class=\"btn btn-default\" href=\"#\" title=\"' + name + '\"><i class=\"fa ' + image + ' fa-lg\"></i></button>');\n",
       "        button.click(method_name, toolbar_event);\n",
       "        button.mouseover(tooltip, toolbar_mouse_event);\n",
       "        nav_element.append(button);\n",
       "    }\n",
       "\n",
       "    // Add the status bar.\n",
       "    var status_bar = $('<span class=\"mpl-message\" style=\"text-align:right; float: right;\"/>');\n",
       "    nav_element.append(status_bar);\n",
       "    this.message = status_bar[0];\n",
       "\n",
       "    // Add the close button to the window.\n",
       "    var buttongrp = $('<div class=\"btn-group inline pull-right\"></div>');\n",
       "    var button = $('<button class=\"btn btn-mini btn-primary\" href=\"#\" title=\"Stop Interaction\"><i class=\"fa fa-power-off icon-remove icon-large\"></i></button>');\n",
       "    button.click(function (evt) { fig.handle_close(fig, {}); } );\n",
       "    button.mouseover('Stop Interaction', toolbar_mouse_event);\n",
       "    buttongrp.append(button);\n",
       "    var titlebar = this.root.find($('.ui-dialog-titlebar'));\n",
       "    titlebar.prepend(buttongrp);\n",
       "}\n",
       "\n",
       "mpl.figure.prototype._root_extra_style = function(el){\n",
       "    var fig = this\n",
       "    el.on(\"remove\", function(){\n",
       "\tfig.close_ws(fig, {});\n",
       "    });\n",
       "}\n",
       "\n",
       "mpl.figure.prototype._canvas_extra_style = function(el){\n",
       "    // this is important to make the div 'focusable\n",
       "    el.attr('tabindex', 0)\n",
       "    // reach out to IPython and tell the keyboard manager to turn it's self\n",
       "    // off when our div gets focus\n",
       "\n",
       "    // location in version 3\n",
       "    if (IPython.notebook.keyboard_manager) {\n",
       "        IPython.notebook.keyboard_manager.register_events(el);\n",
       "    }\n",
       "    else {\n",
       "        // location in version 2\n",
       "        IPython.keyboard_manager.register_events(el);\n",
       "    }\n",
       "\n",
       "}\n",
       "\n",
       "mpl.figure.prototype._key_event_extra = function(event, name) {\n",
       "    var manager = IPython.notebook.keyboard_manager;\n",
       "    if (!manager)\n",
       "        manager = IPython.keyboard_manager;\n",
       "\n",
       "    // Check for shift+enter\n",
       "    if (event.shiftKey && event.which == 13) {\n",
       "        this.canvas_div.blur();\n",
       "        // select the cell after this one\n",
       "        var index = IPython.notebook.find_cell_index(this.cell_info[0]);\n",
       "        IPython.notebook.select(index + 1);\n",
       "    }\n",
       "}\n",
       "\n",
       "mpl.figure.prototype.handle_save = function(fig, msg) {\n",
       "    fig.ondownload(fig, null);\n",
       "}\n",
       "\n",
       "\n",
       "mpl.find_output_cell = function(html_output) {\n",
       "    // Return the cell and output element which can be found *uniquely* in the notebook.\n",
       "    // Note - this is a bit hacky, but it is done because the \"notebook_saving.Notebook\"\n",
       "    // IPython event is triggered only after the cells have been serialised, which for\n",
       "    // our purposes (turning an active figure into a static one), is too late.\n",
       "    var cells = IPython.notebook.get_cells();\n",
       "    var ncells = cells.length;\n",
       "    for (var i=0; i<ncells; i++) {\n",
       "        var cell = cells[i];\n",
       "        if (cell.cell_type === 'code'){\n",
       "            for (var j=0; j<cell.output_area.outputs.length; j++) {\n",
       "                var data = cell.output_area.outputs[j];\n",
       "                if (data.data) {\n",
       "                    // IPython >= 3 moved mimebundle to data attribute of output\n",
       "                    data = data.data;\n",
       "                }\n",
       "                if (data['text/html'] == html_output) {\n",
       "                    return [cell, data, j];\n",
       "                }\n",
       "            }\n",
       "        }\n",
       "    }\n",
       "}\n",
       "\n",
       "// Register the function which deals with the matplotlib target/channel.\n",
       "// The kernel may be null if the page has been refreshed.\n",
       "if (IPython.notebook.kernel != null) {\n",
       "    IPython.notebook.kernel.comm_manager.register_target('matplotlib', mpl.mpl_figure_comm);\n",
       "}\n"
      ],
      "text/plain": [
       "<IPython.core.display.Javascript object>"
      ]
     },
     "metadata": {},
     "output_type": "display_data"
    },
    {
     "data": {
      "text/html": [
       "<img src=\"data:image/png;base64,iVBORw0KGgoAAAANSUhEUgAABLAAAAJYCAYAAABy5h8aAAAgAElEQVR4nOzdfXhU9Z3//5Mbwo1YEsUKqWzUEhFvQMWb2P5qtDYScbfKd2HV3W2pAkLVSgW5qKANQgtWqiAWDFQCWwKJxq3QQCQJJCEgQRGQ1qYkBYIXwkqgRQyJ5vb1+2OcOUwmk5mEE/KZ5Pm4rs9lOXPOzInm2vdrX5xzxhIAAAAAAABgMKuzTwAAAAAAAABoDQUWAAAAAAAAjEaBBQAAAAAAAKNRYAEAAAAAAMBoFFgAAAAAAAAwGgUWAAAAAAAAjEaBBQAAAAAAAKNRYAEAAAAAAMBoFFgAAAAAAAAwGgUWAAAAAAAAjEaBBQAAAAAAAKNRYAEAAAAAAMBoFFgAAAAAAAAwGgUWAAAAAAAAjEaBBQAAAAAAAKNRYAEAAAAAAMBoFFgOOnXqlNatW6fdu3fr448/ZrFYLBar267du3dr3bp1OnXqVGePZ/hRUVGhZ599Vunp6Vq3bh2LxWKxWN16paen69lnn1VFRUVnj2j4QYHloHXr1smyLBaLxWKxWF+vdevWdfZ4hh/PPvtsp/9+sFgsFotl2nr22Wc7e0TDDwosB+3evVuW5Qrrnf033ywWi8VideZy/6XO7t27O3s8w4/09HRPUO/sv/VmsVgsFquzl/svdtLT0zt7RMMPCiwHffzxx7IsSx9//HFnnwoAAJ2KmWi+devWef7iDQCA7o65aD4KLAcR1gEAcGEmmo+gDgCAjbloPgosBxHWAQBwYSaaj6AOAICNuWg+CiwHEdYBAHBhJpqPoA4AgI25aD4KLAcR1gEAcGEmmo+gDgCAjbloPgosBxHWAYSq+vp6VVZW6tChQzp48CCL5XcdOnRIlZWVqq+vb/V3iploPoI6AIQGclrH5xaJuRgKKLAcRFgHEIqamppUUVGh0tJSlZWVdXrQYJm9ysrKVFpaqsOHD6upqcnv7xUz0XwEdQAwHznt/OQWibkYCiiwHERYBxCKTp8+rdLSUh09ejTgYAeampp09OhRlZaW6vTp0373Yyaaj6AOAOYjp52bYHOLxFwMBRRYDiKsAwhFR44cUWlpaVCXVgOS61aG0tJSHTlyxO8+zETzEdQBwHzktHMXTG6RmIuhgALLQYR1AKHo0KFDKi8v7+zTQIgpLy/XoUOH/L7OTDQfQR0AzEdOc0ag3CIxF0MBBZaDCOsAQtHBgwd14MCBzj4NhJgDBw7o4MGDfl9nJpqPoA4A5iOnOSNQbpGYi6GAAstBhHUAocj9kEugLQL93jATzUdQBwDzkdOcEcy/R+ai+SiwHERYBxCKCEZoDwqs0EdQBwDzkdOcQYHVNVBgOYiwDiAUdVQwqmto1I4DJ/XuX45px4GTqmtodPwzWmNZVlCrsLDwnD4nJSVFltX9xikFVugjqAOA+Tosp9VJhYXS//6v6591dY5/RFBWrlwZVE77xz/+oQcffFCXXHKJLMvS/fffL0mqqKjQqFGjFBMTI8uyNGXKlBY/hwKra+h+ibsDEdYBhCKng1FdQ6Ne3VyuEXPzFDdjg2fdPDdfr24uP29FVklJidcaNWqUevfu7bM90FcqB3LkyBGVlJQ4dNahgwIr9BHUAcB8jue0OmnOHOnSSyXLsteAAa7t57vIchdYK1eu9MloZ+e0n//854qKilJ6erpKSkpUVlYmSXrggQd08cUX65133lFJSYkOHz7c4udQYHUNFFgOIqwDCEVOBqO6hkb9JO19xc3YoMvPKq/O/vMjKz8471djSdK4ceN0wQUXBNyvurr6PJxN6KPACn0EdQAwn6M5rU4aNcpVWIWFeRdY7j/fd9/5LbHcBdauXbta3e8HP/iBhg4d6rN98ODBuvfeewN+DgVW10CB5SDCOoBQ5GQwenVzuVdp5W8t3nz+vw66pQIrMTFR1157rbZu3arbb79dvXv31oMPPihJyszMVFJSkgYMGKBevXrp6quv1owZM3TmzBmv92jpFsK4uDjdd999evfdd3XjjTeqV69eGjJkiFasWNGxP+R5RIEV+gjqAGA+J3PanDnepZW/NXeuIx8XlEAFVkVFhd9bC1vaXlFR0eL7UGB1DRRYDiKsAwhFTgWjuoZGjZib53PlVfN1+de3E57vq7D8FVgXXXSRBg0apNdee02FhYXaunWrJGnu3LlauHChNm7cqKKiIqWmpuqKK67QXXfd5fUe/gqsyy67TNdcc43+8Ic/KDc3V2PHjpVlWZ73D3UUWKGPoA4A5nMsp9W5bhtsfuVV8xUW5rqd8HxdheUusHbu3Kn6+nqv1dDQoK+++kolJSW68cYbdeWVV3rdWlhSUqIBAwbou9/9rmf7V1991eLnUGB1DRRYDiKsAwhF/gb67D99rP9I3RH0Sl64Nairr9wreeHWNr3/7D+d2/9t9VdgWZalLVu2tHpsU1OT6uvrtXXrVlmWpX379nle81dg9erVS5988oln25dffqmLLrpIkyZNOqefwxQUWKGPoA4A5mtt3k6ZIiUmBreGDw/u6iv3Gj48+PdOTHSdS3u09hD3iIgIz37uq+abc1/1HggFVtdAgeUgwjqAUORvoP9H6o42FVIdvf4jdcc5/Zz+CqyYmBi//14efvhhXXrppQoLC/MKVJmZmZ79/BVYCQkJPu+ZkJCg5OTkc/o5TEGBFfoI6gBgvtbmbWJi20qpjlyJie37+dwF1h/+8Aft2rXLa3344Ydn/awUWKDA8lFZWalRo0apT58+io+PV15eXtDHEtYBhKLufgXWNddc47NvVVWVYmNjdeWVV+r3v/+9tm7dql27dumPf/yj55ty3Fp7BlZziYmJSmxvwjMMBVboI6gDgPm6yxVYgR7iToEFiQLLx9ixY/Xoo4+qurpa69evV3R0tE6ePBnUsYR1AKGouz8Dq6UwtH79elmWpaKiIq/t+fn5FFhfo8AKfQR1ADBfd3kGFgUWgkGBdZaqqir16NFDR44c8WxLTEwM+lujCOsAQhHfQugbhv70pz/JsiyVlJR4bR8zZgwF1tcosEIfQR0AzNfdv4XQjQILkmR98cUXmj59upKSktS/f39ZlqWUlJR2vdnvf/97WZbl8/8gdIS2nndVVZWmTJmigQMHqmfPnho+fLgyMjK89tmzZ4/Ps1CefPJJTZ06NahzIqwDCEVOBqO6hkY9svIDz5VWza+8ipuxQY+s/OC8X30lta3AOnnypGJiYjR8+HD98Y9/VHZ2th566CHFx8dTYH2NAiv0EdQBwHyO5rQ66b777Cutml95ZVmu18/X1VeSXWCtXLnS802CZ6/KykpJFFhwsSoqKtSvXz/dcccdmjBhQrsLrE8//VT9+vVTbGzseSmw2nreSUlJio6OVmpqqgoKCjzHrFmzxrNPcXGx4uLivI6bOXOmHnvssaDOibAOIBQ5GYwkV4m1eHO5bp6b71Vg3Tw3X4s3l3dKeSW1rcCSpB07duj2229Xnz59dMkll2jChAnas2cPBdbXKLBCH0EdAMzneE6rc11hNWCAd4E1YIBr+/ksr6TWv4XQsiz9/ve/l0SBBRerqalJTU1NkqQTJ060u8D613/9V/3bv/1bi/8PQktOnz6tnJwcv69nZ2frzJkzfl9vy3lv3LhRlmVp7dq1XtuTkpIUGxurhoYGSVyBBaB7cjoYudU1NGrHgZN69y/HtOPAyU4rrtAxKLBCH0EdAMzXYTmtTioslP73f13/PN/F1flGgdU1eP2VcXsLrNWrV+vCCy/UkSNHgi6wXn75ZYWHh2vVqlU+r6WmpiosLExLly4N6vMDnfeECRPUt29f1dfXe21fu3atLMvSe++9J6nlZ2DdeeedPAMLQJfWUcEIXRsFVugjqAOA+chpzqDA6hrOucA6fvy4Lr74Yi1ZskRSy7do+DN16lSFhYUpNTXVs23RokWyLEszZ84M+hwCnXdCQoJuueUWn+3ucL1s2TLPtjFjxmj8+PGqqalRdna2oqOjdeLEiVY/3337iHsR1gGEEoIR2oMCK/QR1AHAfOQ0Z1BgdQ3nXGD9+7//u77zne94budrS4EluZ4xZVmWFi1apBdffFGWZWnOnDlBHx/MecfHx2vkyJE+248dOybLsjRv3jzPtsrKSt17773q3bu3Bg8erNzc3KDPg7AOIBQRjNAeFFihj6AOAOYjpzmDAqtrOKcC6+2331ZUVJT++te/era1tcCSpDlz5niuXlqwYEGbjpWCK7CSk5N9trsLrPnz57f5M1tCWAcQighGaA8KrNBHUAcA85HTnEGB1TW0u8CqqqrSpZdeqmnTpunUqVOe9fDDD+uCCy7QqVOnWn0I+9mmTZumsLAwWZalWbNmtfmHcPIWwnNBWAcQighGaA8KrNBHUAcA8x08eFAHDhzo7NMIeQcOHKDA6gLaXWBVVFS0+nWXlmXp/vvvb/U9mpqa9MQTTyg8PFxpaWl6/fXXFRYWpmnTprXphwh03hMnTmzxIe4ZGRleD3E/V4R1AKGIAgvtQYEV+gjqAGC+Q4cOqby8vLNPI+SVl5fr0KFDre7DXDRfuwusL7/8UoWFhT5r5MiR6tWrlwoLC/WXv/zF7/GNjY0aP368IiMjlZGR4dm+atUqRURE6PHHH/c8VyuQQOedk5Mjy7KUmZnptT05OVmxsbFqaGgI6nMCIawDCEUUWGgPCqzQR1AHAPMdOXJEpaWlPhdjIHj19fUqLS3VkSNHWt2PuWg+S3IVPFlZWUpLS5NlWRo7dqyysrKUlZWl6upqSVJRUZEiIiL0wgsvtPqGwT4Da8GCBYqKitI777zj81pmZqYiIyP12muvtfoewZy3W1JSkmJiYrR8+XIVFBRo4sSJsixL6enpAc81WIR1AKGIAgvtQYEV+gjqAGC+06dPq7S0VEePHg36Ag/YmpqadPToUZWWlur06dOt7stcNJ8lSXFxcX5vA6yoqJAkFRYWBnV1VrAFVk1NjXbs2OH39e3bt6u2trbV9wjmvN2qqqr01FNPacCAAYqKitKwYcO8rvxyAmEdQCiiwEJ7UGCFPoI6AJivqalJhw8fVmlpqcrKyjzPcmIFXgcOHFBZWZlKS0t1+PDhgAUgc9F8VuBdECzCOoBQRIGF9qDACn0EdQAIDfX19aqsrNShQ4c6vRQKtXXo0CFVVlYGdQsmc9F8FFgOIqwDCEVdtcB64IEH1KtXL506dcrvPv/5n/+pyMhIffbZZ0G9Z/Mrkd1XJxcWFgY8dty4cYqLiwvqc5pbsmSJVq5c6bPd/YUqLb3W0SiwQh9BHQAAG3PRfBRYDiKsAwhFHVZgNdRJh4qlv653/bOhzvnPaEV2drYsy9KSJUtafP3zzz9X79699cADDwT9ns0LrNOnT6ukpCTgMxWkcyuwrr32WiUmJvps/+qrr1RSUqLKysp2ve+5oMAKfQR1AABszEXzUWA5iLAOIBQ5XmA11ElFv5Fe+raU8g17LRjs2n6eiqyGhgbFxsZqxIgRLb7++uuvy7IsZWdnB/2ewX5Tb0s6osDqTBRYoY+gDgCAjbloPgosBxHWAYQiRwushjopfczXpVU/7wLL/ef0seetxHr22WdlWZb+/Oc/+7x26623auDAgfrss8/005/+VEOHDtUFF1ygSy65RHfddZeKi4t9jgn2FsKVK1fqqquuUlRUlK6++mr9z//8T4sF1uzZs3XrrbcqJiZGF154oW688Ua98cYbXg8ZbekLS9zv4+8Wwm3btun73/+++vbtq969e+v222/Xhg0bfM7RsiwVFBRo8uTJuvjii3XRRRdp9OjROnr0aMB/txRYoY+gDgCAjbloPgosBxHWAYQiRwusot80K638rKKXnPm8AP7+978rLCxMP//5z722//Wvf5VlWfrFL36h/fv366c//akyMzNVVFSkDRs2aPz48QoPD/cppoIpsNzF0P3336/s7Gylp6dr8ODBGjRokE+B9ZOf/EQrVqxQfn6+8vPzNXfuXPXu3VsvvPCCZ589e/boyiuv1I033qiSkhKVlJRoz549klousIqKitSjRw+NGDFCb775ptatW6d77rlHYWFhyszM9DnPK6+8Uj/72c+Um5urN954QzExMbrrrrsC/rulwAp9BHUAAGzMRfNRYDmIsA4gFDlWYDXUfX3bYPMrr5qvfq7bCc/TVViJiYnq37+/6ursz5s2bZosy1J5ebnvj9HQoPr6et19990aPXq012uBCqzGxkbFxsbqpptu8rqK6vDhw+rRo0ertxA2Njaqvr5ec+bM0cUXX+x1vL9bCFsqsBISEvTNb35TVVVVXj/Tddddp8suu8zzvu4C6/HHH/d6z5deekmWZen//u///J6rRIHVFRDUAQCwMRfNR4HlIMI6gFDkt4jImSGljQp+Lf1OcFdfudfS77Tt/XNmtOvn+8Mf/iDLsvT2229Lcn0V9aWXXqrvfe97nn1ef/113XjjjerZs6fXrXpXX32113sFKrBKS0tlWZZ++9vf+pxHYmKiT4G1ZcsW3X333frGN77hc5vg2d+MGGyBdebMGYWFhfmUUpL0m9/8RpZl6W9/+5sku8DatGmT136bNm2SZVnauXOnz3ucjQIr9BHUAQCwMRfNR4HlIMI6gFDkt4hIG9W2QqqjV9qodv18NTU16tevn+677z5J0vr162VZllatWiVJevnll2VZliZPnqwNGzZo586d2rVrl5KTk30Kp0AF1rZt22RZltLT033O48EHH/R6v/fff18RERG6++679eabb+q9997Trl27NGvWLFmWpYqKCs++wRZYR44ckWVZmjt3rs++q1evlmVZ2r59uyS7wNq1a5fXfv6e69UcBVboI6gDAGBjLpqPAstBhHUAoairX4ElSZMnT1ZERISOHTum+++/XxdeeKGqq6slSTfeeKPuvPNOn2O++93vtrnAassVWE8//bR69eqlL7/80mu/cymwzpw5o/Dw8FavwNq/f78kCiwQ1AEAOBtz0XwUWA4irAMIRV39GViStGvXLlmWpaefflo9evTQxIkTPa/ddNNNGjlypNf++/btU3h4eJsLrMbGRg0cOFAjRowI+AysqVOnqm/fvl7P5qqpqdG//Mu/+BRYN910k2699Vafn6ulZ2DdfvvtGjBggGpqajzbGhsbdf3117f4DCwKrO6LoA4AgI25aD4KLAcR1gGEoq78LYRnGzZsmMLCwnye7/TLX/5SYWFh+uUvf6ktW7Zo6dKlGjBggL797W+3ucCSpDfeeMPzLYQbNmzw+y2EW7ZskWVZGjNmjPLy8pSRkaERI0YoPj7ep8AaN26cevbsqczMTH3wwQf685//LKn1byG87bbblJWVpfXr12vkyJF+v4WQAqv7IqgDAGBjLpqPAstBhHUAocjRAquhTkofa19p1fzKq5RvuF4/j1dfub366quyLEvXXHON1/ba2lo988wz+ta3vqVevXrppptu0rp16zRu3Lh2FViSq8SKj49XVFSUrrrqKqWlpbX4fmlpaRoyZIh69uypK6+8UvPnz9eKFSt8CqzDhw/rnnvu0YUXXijLsjzv01KBJbmexfX9739fF1xwgXr37q2EhARlZ2d77UOBBYI6AAA25qL5KLAcRFgHEIocLbAkVzlV9JLrNsGzC6wFg13bO6G8gvMosEIfQR0AABtz0XwUWA4irAMIRY4XWG4NddKhYumv613/pLjqUiiwQh9BHQAAG3PRfBRYDiKsAwhFHVZgoUujwAp9BHUAAGzMRfNRYDmIsA4gFFFgoT0osEIfQR0AABtz0XwUWA4irAMIRRRYaA8KrNBHUAcAwMZcNB8FloMI6wBCEQUW2oMCK/QR1AEAsDEXzUeB5SDCOoBQdPDgQR04cKCzTwMh5sCBAxRYIY6gDgCAjbloPgosBxHWAYSiiooKlZWVqampqbNPBSGiqalJZWVlqqio8LsPM9F8BHUAAGzMRfNRYDmIsA4gFB07dkylpaX67LPPKLEQUFNTkz777DOVlpbq2LFjfvdjJpqPoA4AgI25aD4KLAcR1gGEosbGRlVUVKi0tFRlZWWeW8NYrObrwIEDKisrU2lpqSoqKtTY2Oj394qZaD6COgAANuai+SiwHERYBxCqGhsbdezYMVVUVHR6ScIye1VUVOjYsWOtllcSMzEUENQBALAxF81HgeUgwjoAAC7MRPMR1AEAsDEXzUeB5SDCOgAALsxE8xHUAQCwMRfNR4HlIMI6AAAuzETzEdQBALAxF81HgeUgwjoAAC7daSZWVVVpypQpGjhwoHr27Knhw4crIyMjqGOPHz+ucePG6eKLL1bv3r2VkJCgzZs3t3pMTU2N4uPjZVmWFixY0O7zJqgDAGA7l7kYqlkg1FBgOag7hXUAAFrTnWZiUlKSoqOjlZqaqoKCAk2YMEGWZWnNmjWtHvfVV1/puuuu02WXXab09HTl5eXp/vvvV2RkpIqKivweN23aNMXGxlJgAQDgoHOZi6GaBUINBZaDulNYBwCgNd1lJm7cuFGWZWnt2rVe25OSkhQbG6uGhga/xy5ZskSWZWnHjh2ebfX19brmmmt06623tnjM+++/r6ioKGVlZVFgAQDgoPbOxVDOAqGGAstB3SWsAwAQSHeZiRMmTFDfvn1VX1/vtX3t2rWyLEvvvfee32N/8IMfaMiQIT7b582bJ8uy9Omnn3ptr62t1bXXXqunn35aFRUVFFgAADiovXMxlLNAqKHAclB3CesAAATSXWZiQkKCbrnlFp/t7p9/2bJlfo8dMGCAxo4d67N9w4YNsixLubm5XttnzZqlyy+/XGfOnKHAAgDAYe2di6GcBUINBZaDuktYBwAgkO4yE+Pj4zVy5Eif7ceOHZNlWZo3b57fY3v06KFJkyb5bN+xY4fPrQh79+5Vjx49tGnTJklqc2g9fvy4Pv74Y6+1ePFiCiwAAL7mLrAWL17sMzOPHz/u97hQyQJdAQWWg7pLWAcAIJDuMhPj4+OVnJzss90dWufPn+/32B49emjy5Mk+292h1f3tRfX19brxxhv13//935592hpaU1JSZFlWi4sCCwAAu8BqaaWkpPg9LlSyQFdAgeWg7hLWAQAIpLvMxPNx28CCBQvUr18//f3vf9epU6d06tQp7du3T5Zlae7cuTp16lSrD4iVuAILAIBA2nsFVqhkga6AAstB3SWsAwAQSHeZiRMnTmzxwa0ZGRkBH9yalJSkq6++2mf7/PnzZVmWjh49KkkaN26c378Rdq+9e/e2+dx5BhYAALb2zsVQzgKhhgLrLJWVlRo1apT69Omj+Ph45eXlten47hLWAQAIpLvMxJycHFmWpczMTK/tycnJAb86e+nSpbIsSzt37vRsq6+v17XXXqvbbrvNs+1vf/ubCgsLvZY7FE+ePFmFhYWqqqpq87lTYAEAYGvvXAzlLBBqKLDOMnbsWD366KOqrq7W+vXrFR0drZMnTwZ9fHcJ6wAABNKdZmJSUpJiYmK0fPlyFRQUaOLEibIsS+np6Z59Hn30UUVEROjw4cOebV999ZWuvfZaDRo0SGvWrFF+fr5Gjx6tyMhIFRUVtfqZfAshAADOOpe5GKpZINRQYH2tqqpKPXr00JEjRzzbEhMTtWLFiqDfozuFdQAAWtOdZmJVVZWeeuopDRgwQFFRURo2bJjnoatu7kv/KyoqvLZ/9tln+vGPf6yLLrpIvXr1UkJCgvLz8wN+JgUWAADOOpe5GKpZINT4FFh79+7VqFGjNGjQIPXq1UsxMTFKSEjQ6tWrfQ4uLCz0e/9lSUlJh574F198oenTpyspKUn9+/cP+M0AVVVVmjJligYOHKiePXtq+PDhXr9Qe/bsUUxMjNcxTz75pKZOnRr0OXWnsA4AQGuYieajwAIAwMZcNJ9PgVVYWKhJkyZp9erVKigoUHZ2th566CHP0+2b72tZlubNm6eSkhKv1dH3X1ZUVKhfv3664447NGHChIAFVlJSkqKjo5WamqqCggLPMWvWrJEkFRcXKy4uzuuYmTNn6rHHHgv6nAjrAAC4MBPNR1AHAMDGXDRf0LcQ3nbbbRo0aJDXNneBlZWV1eYPPn36tHJycvy+np2drTNnzvh9vampSU1NTZKkEydOtFpgbdy4UZZlae3atV7bk5KSPA9V4wosAACcw0w0H0EdAAAbc9F8QRdY9913n6644gqvbedSYL388ssKDw/XqlWrfF5LTU1VWFiYli5dGtR7BSqwJkyY0OLXWq5du9bztZYtPQPrzjvv5BlYAAC0AzPRfAR1AABszEXz+S2wGhsbVV9fr8rKSi1ZskSRkZFKTU312sddYH3zm99URESELrzwQt1zzz3atm1bUB8+depUhYWFeb3vokWLZFmWZs6cGfQPEajASkhI0C233OKz3R2uly1bJkkaM2aMxo8fr5qaGmVnZys6OlonTpwI+PkpKSlez/8irAMAujsKLPMR1AEAsDEXzee3wJo0aZKnkImKimrxaqg9e/ZoypQpeuedd1RcXKy0tDQNHTpUERER2rRpU1AnMHPmTFmWpUWLFunFF1+UZVmaM2dOm36IQAVWfHy8Ro4c6bP92LFjnmd4SVJlZaXuvfde9e7dW4MHD1Zubm6bzoOwDgCACzPRfAR1AABszEXz+S2wPvnkE+3atUsbN27U5MmTFR4eHtTXM546dUqXXXaZhg0bFvRJzJkzx1OWtecrIIMpsJKTk322uwus+fPnt/kzW0JYBwDAhZloPoI6AAA25qL5gn4G1uTJkxUZGanKysqg9rUsSzU1NUG997Rp0xQWFibLsjRr1qxgT8nDqVsIzxVhHQAAF2ai+QjqAADYmIvmC7rASktLk2VZ2rlzZ8B93bcffvnll63u19TUpCeeeELh4eFKS0vT66+/rrCwME2bNi3Y05IUuMCaOHFiiw9xz8jI8DzE3QmEdQAAXJiJ5iOoAwBgYy6aL+gC60c/+pHCw8MDXoH1z3/+U9/61rd0ww03tLpfY69fLawAACAASURBVGOjxo8fr8jISGVkZHi2r1q1ShEREXr88cfV1NQU1LkFKrBycnJkWZYyMzO9ticnJys2NlYNDQ1BfU4ghHUAAFyYieYjqAMAYGMums+KiIjQCy+84NkwceJETZs2TW+++aaKior09ttv68EHH5RlWZo+fbrXwQ8//LBmzJihrKwsFRYWavny5RoyZIgiIyOVn5/f6gcvWLBAUVFReuedd3xey8zMVGRkpF577bVW3yMnJ0dZWVmeq8PGjh2rrKwsZWVlqbq62mvfpKQkxcTEaPny5SooKNDEiRNlWZbS09MD/TsKGmEdAAAXZqL5COoAANiYi+azml+5lJaWpu9973vq37+/IiMjFR0drcTERK1evdrn4Pnz5+uGG25Qv379FBERoUsuuUSjR4/WBx98EPCDa2pqtGPHDr+vb9++XbW1ta2+R1xcnOfh781XRUWF175VVVV66qmnNGDAAEVFRWnYsGFeV345gbAOAIALM9F8BHUAAGzMRfMFfQshAiOsAwDgwkw0H0EdAAAbc9F8FFgOIqwDAODCTDQfQR0AABtz0XwUWA4irAMA4MJMNB9BHQAAG3PRfBRYDiKsAwDgwkw0H0EdAAAbc9F8FFgOIqwDAODCTDQfQR0AABtz0XwUWA4irAMA4MJMNB9BHQAAG3PRfBRYDiKsAwDgwkw0H0EdAAAbc9F8FFgOIqwDAODCTDQfQR0AABtz0XwUWA4irAMA4MJMNB9BHQAAG3PRfBRYDiKsAwDgwkw0H0EdAAAbc9F8FFgOIqwDAODCTDQfQR0AABtz0XwUWA4irAMA4MJMNB9BHQAAG3PRfBRYDiKsAwDgwkw0H0EdAAAbc9F8FFgOIqwDAODCTDQfQR0AABtz0XwUWA4irAMA4MJMNB9BHQAAG3PRfBRYDiKsAwDgwkw0H0EdAAAbc9F8FFgOIqwDAODCTDQfQR0AABtz0XwUWA4irAMA4MJMNB9BHQAAG3PRfBRYDiKsAwDgwkw0H0EdAAAbc9F8FFgOIqwDAODCTDQfQR0AABtz0XwUWA4irAMA4MJMNB9BHQAAG3PRfBRYDiKsAwDgwkw0H0EdAAAbc9F8FFgOIqwDAODCTDQfQR0AABtz0XwUWA4irAMA4MJMNB9BHQAAG3PRfBRYDiKsAwDgwkw0H0EdAAAbc9F8FFgOIqwDAODCTDQfQR0AABtz0XwUWA4irAMA4MJMNB9BHQAAG3PRfBRYDiKsAwDgwkw0H0EdAAAbc9F8FFgOIqwDAODCTDQfQR0AABtz0XwUWA4irAMA4MJMNB9BHQAAG3PRfBRYDiKsAwDgwkw0H0EdAAAbc9F8FFgOIqwDAODCTDQfQR0AABtz0XwUWA4irAMA4MJMNB9BHQAAG3PRfBRYDiKsAwDgwkw0H0EdAAAbc9F8FFgOIqwDAODCTDQfQR0AABtz0XwUWA4irAMA4MJMNB9BHQAAG3PRfBRYDiKsAwDgwkw0H0EdAAAbc9F8FFgOIqwDAODCTDQfQR0AABtz0XwUWA4irAMA4MJMNB9BHQAAG3PRfBRYzVRWVmrUqFHq06eP4uPjlZeXF/SxhHUAAFyYieYjqAMAYGMumo8Cq5mxY8fq0UcfVXV1tdavX6/o6GidPHkyqGMJ6wAAuDATzUdQBwDAxlw0HwXWWaqqqtSjRw8dOXLEsy0xMVErVqwI6nh3WN+778/aceCk3v3LMe04cFJ1DY0ddcoAABiJAst8BHUAAGzMRfNZX3zxhaZPn66kpCT1799flmUpJSUlqIP37t2rUaNGadCgQerVq5diYmKUkJCg1atXd+xZS2rreVdVVWnKlCkaOHCgevbsqeHDhysjI8Nrnz179igmJsZr25NPPqmpU6cGdU7usH7Nk8sVN2ODZ908N1+v5JVpW3klpRYAoFugwDIfQR0AABtz0XxWRUWF+vXrpzvuuEMTJkxoU4FVWFioSZMmafXq1SooKFB2drYeeughWZaluXPnduiJt/W8k5KSFB0drdTUVBUUFHiOWbNmjWef4uJixcXFeR03c+ZMPfbYY0GdkzusD3x0iVeB1dK6eW6+Xt1cTpEFAOiSKLDMR1AHAMDGXDSf1dTUpKamJknSiRMn2lRg+XPbbbdp0KBBre5z+vRp5eTk+H09OztbZ86c8ft6W85748aNsixLa9eu9dqelJSk2NhYNTQ0SHLuCqxgCiz3+uHvtqm6tj6o9wcAIFRQYJmPoA4AgI25aD6vZ2A5VWDdd999uuKKK1rd5+WXX1Z4eLhWrVrl81pqaqrCwsK0dOnSoD4v0HlPmDBBffv2VX29d1G0du1aWZal9957T1LLz8C688472/wMrLYUWHEzNmjwzI16Ja+Mq7EAAF0GBZb5COoAANiYi+ZzpMBqbGxUfX29KisrtWTJEkVGRio1NTXgcVOnTlVYWJjXvosWLZJlWZo5c2bQnx/ovBMSEnTLLbf4bHeH62XLlnm2jRkzRuPHj1dNTY2ys7MVHR2tEydOtPr5KSkpsizLs9paYLnXuLT3z6nEqmto9Dw8vri8kmduAQA6DQWW+QjqAADYmIvmc6TAmjRpkqe8iYqKCvrKKcn1jCnLsrRo0SK9+OKLsixLc+bMadPnBzrv+Ph4jRw50mf7sWPHZFmW5s2b59lWWVmpe++9V71799bgwYOVm5sb9Hm09wqss9fir5+LVVxeqUX5ZVqUX67C/Z+1WkbVNTTq1c3lGjE3j2duAQCMQIFlPoI6AAA25qL5HCmwPvnkE+3atUsbN27U5MmTFR4ergULFgR9/Jw5czwFWFuOcwumwEpOTvbZ7i6w5s+f3+bPbIkTBdbgmRt11aycVvcZ+lyOHlpWosL9x/V5Ta3u/932gO97+df/fGTlB5RYAIAOR4FlPoI6AAA25qL5OuQZWJMnT1ZkZKQqKyuD2n/atGkKCwuTZVmaNWtWmz/PyVsIz4UTBdb5WIs3lzvy8wIA4A8FlvkI6gAA2JiL5uuQAistLU2WZWnnzp2t7tfU1KQnnnhC4eHhSktL0+uvv66wsDBNmzatTZ8X6LwnTpzY4kPcMzIyvB7ifq5CpcC6+rmcFr/5sKVnaG3Yd1RvFB/Uur2f6o3ig8red5RnagEAAqLAMh9BHQAAG3PRfB1SYP3oRz9SeHh4q1dgNTY2avz48YqMjFRGRoZn+6pVqxQREaHHH39cTU1NQX1eoPPOycmRZVnKzMz02p6cnKzY2Fg1NDQE9TmBhEqBFTdjg277Vb6nxArmGVrN14i5eW1+ptbZBRklGAB0bRRY5iOoAwBgYy6az5JcBU9WVpbnyqmxY8cqKytLWVlZqq6uliQVFRUpIiJCL7zwgufgiRMnatq0aXrzzTdVVFSkt99+Ww8++KAsy9L06dNb/eAFCxYoKipK77zzjs9rmZmZioyM1GuvvdbqewRz3m5JSUmKiYnR8uXLVVBQoIkTJ8qyLKWnpwf3byoIoVRgxc3YoOGzN+lE1ZdBPUPL33rgd9sDXpXlryDjwfIA0HVRYJmPoA4AgI25aD5LkuLi4jwPUW++KioqJEmFhYU+VzmlpaXpe9/7nvr376/IyEhFR0crMTFRq1evDvjBNTU12rFjh9/Xt2/frtra2lbfI5jzdquqqtJTTz2lAQMGKCoqSsOGDfO68ssJoVZgOb2GpeTqyTW7ta280lNK1TU06idp7ytuhv0geffiwfIA0HVRYJmPoA4AgI25aD4r8C4IVncvsM5e7lsMX8krC2r/n63ZrR0HTqq6tp7bDAGgC6DAMh9BHQAAG3PRfBRYDqLA8l3xMzf6XHnV2mq+L7cZAkBoosAyH0EdAAAbc9F8FFgOosByfgW6zTDYB8PzAHkAOL8osMxHUAcAwMZcNB8FloMosDp2/eiNnZ4HxlfX1rf4YPhhKbl6Ja9MdQ2NqmtoVHF5pZ5cs1vDZud67ceVXQDQsSiwzEdQBwDAxlw0HwWWg9xh/Yafv9HpZU9XX1f8ovXXh7+QqxtfyPX7emtXdvm7WouruAAgeBRY5iOoAwBgYy6ajwLLQe6wvmvvRxr6/LudXvKwglsPLyvRtvJKv1d1jZiTp4eXl/hs5youAPCPAst8BHUAAGzMRfNRYDno7LD+6ubyTi9mWG1b7qu62vLQ+bgZ/p/PBQDdGQWW+QjqAADYmIvmo8By0Nlhva6hUY+s/KBdhQgr9NbCvDKf3wceMA+gO6PAMh9BHQAAG3PRfBRYDmoe1usaGrV4c7lunpvvVXYMff5dn1sMr0/ZpOlvfaTPa2q9yozPa2r1zFsf6bpfckuiySt+Zo6qa+s9/91buhWx+S2Hwe4HAKGIAst8BHUAAGzMRfNRYDnIX1hv6Qqbtl51495/w76jeuB32zu9sGH5rqlv7lVdQ6N+vOL9Fl8/+8Hx1bX1+kna+17bm6/7FhdrW3klD5EHEJIosMxHUAcAwMZcNB8FloPOV1iva2jUwrwyxc/M6fTShuVdUI1cuDWofUe9Whz0+/p7iPz1KZv0zFsfea78AgCTUGCZj6AOAICNuWg+CiwHne+wXl1br2fe+kjXp2zq9PKG1Xnr289u1IJN+7kiC4BRKLDMR1AHAMDGXDQfBZaDOius1zU0qri8Uv+6uPWren60YqfGpbV8exsr9NedCwp9rsbitkMAnYUCy3wEdQAAbMxF81FgOaizw7q/h8bfPDdfi79+KLh7nxFz8vwWIe5nMiUuKNCw2bmdXsyw2lBivVSgbeWV2rDvqKa+uVfXz/a+Om/EnDw989ZHyt53lEILQIfq7JmIwAjqAADYmIvmo8BykClhPZirbtxXbf1s7W6fkqp54eV+ePwzb33k8xymq5/L0RW/6PzihtW+xTceAugopsxE+EdQBwDAxlw0HwWWg0I1rLflNrOW9uVZXKG7zv5mxPaWWM1/J6pr69t82yK3OgJdT6jOxPaoqqrSlClTNHDgQPXs2VPDhw9XRkZGUMceP35c48aN08UXX6zevXsrISFBmzdv9trn9OnT+tWvfqXExERdeumluuCCC3TdddfpxRdf1Jdfftnu8yaoAwBgO5e5GKpZINRQYDmoO4X1lpx9tdbUN/dq8MyNAQuUoc+/q6uf49sUTVgL88o8//3eKD7ouc3QXyFV19CoVzeX+1yVd3mzK/Jau8rL33twZRgQ+rrTTExKSlJ0dLRSU1NVUFCgCRMmyLIsrVmzptXjvvrqK1133XW67LLLlJ6erry8PN1///2KjIxUUVGRZ7+//OUv6t+/v55++mmtX79eW7Zs0ezZs9WrVy/dfffdampqatd5U2ABAGA7l7kYqlkg1FBgOag7hfVg+Lsya1hKrn62Zre2lVd63aa4fu+n+sHLRZ1e5LBaXzfPzdeCTfv1w9e2BbW/v6u86hoa9ZOvv1Tg8iCPARA6ustM3LhxoyzL0tq1a722JyUlKTY2Vg0NDX6PXbJkiSzL0o4dOzzb6uvrdc011+jWW2/1bDtz5ozOnDnjc/yCBQtkWZa2bdvWrnOnwAIAwNbeuRjKWSDUUGA5qLuE9bZq6y2KgR4yzwrdtXhzuee/9auby9t8THt+pwB0ju4yEydMmKC+ffuqvt77W2DXrl0ry7L03nvv+T32Bz/4gYYMGeKzfd68ebIsS59++mmrn71169YWA3OwKLAAALC1dy6GchYINRRYDuouYf18aO0h86zQXVc/l6PC/ce1Yd9RDZud63PlVfN1+QzXFV+BblvklkPAPN1lJiYkJOiWW27x2e7++ZctW+b32AEDBmjs2LE+2zds2CDLspSbm9vqZ6ekpMiyLO3bt6/tJy4KLAAAztbeuRjKWSDUUGA5qLuE9fPt7GdrPfC77Z5io7PLGNb5W+6rrNpyyyFXaQGdq7vMxPj4eI0cOdJn+7Fjx2RZlubNm+f32B49emjSpEk+23fs2BHwb1P37dun3r17a/To0UGd5/Hjx/Xxxx97rcWLF1NgAQDwNXeBtXjxYp+Zefz4cb/HhUoW6AoosBzUXcJ6Z3LfYnjz3PxOL1VY529t2HdUr+SVBbXvwryyFq/SGpaSq1fyyiiygPOku8zE+Ph4JScn+2x3h9b58+f7PbZHjx6aPHmyz3Z3aPX37UUVFRUaNGiQrrrqKv3jH/8I6jzdf0Pb0qLAAgDALrBaWikpKX6PC5Us0BVQYDmou4R1E5x9VdYzb33kU1aMmJOnuxYUdnrxwnJmffsXwe8bP7P1b7W84zdbVF1bH/iXDMA56S4z8XzfNnD48GFdfvnluuKKK3TkyJGgz5MrsAAAaF17r8AKlSzQFVBgOai7hHUTtXS7WF1DoxbmlQUsNM7HuvlXPJTepDXkuRx9XlPr2O8aAF/dZSZOnDixxQe3ZmRkBHxwa1JSkq6++mqf7fPnz5dlWTp69KjXdndgjYuL0+HDh8/53HkGFgAAtvbOxVDOAqGGAstB3SWsh5rq2no989ZHuj5lk3epNDdfC/PKNO7r5yp1SHE1N1+LN5erurZej6z8oNOLG5a9vv3sBi3Y9DdtK68MqoSqa2jUK3llPl8q0NID5Cm5gO4zE3NycmRZljIzM722JycnB/zq7KVLl8qyLO3cudOzrb6+Xtdee61uu+02r30/+eQTXX755Ro0aJAOHjzoyLlTYAEAYGvvXAzlLBBqKLAc1F3CeqjyVyq057lag5/dqIeWlbR46+L0tz5S9r6jPsWF+3NGzOFqLNPW0Off1YJN+7WtvLLF0qm6tl53BrgldVza+6qurW/x+Vsj5uTpGT+/F0BX1Z1mYlJSkmJiYrR8+XIVFBRo4sSJsixL6enpnn0effRRRUREeP1t6VdffaVrr71WgwYN0po1a5Sfn6/Ro0crMjJSRUVFnv2OHz+uK6+8Uj179lR6erpKSkq8VntvH6DAAgDAdi5zMVSzQKihwHJQdwrrXdHZBVdxeaUW5pf5lFrXp2zS9Lc+8jxDqT1X2pz9/K43ig9q3d5PtazogH6a/qGuaMOznlgdu9xXVlXX1ivxpYKgjhn+guvqrEDfktm80KqureeKLXQ53WkmVlVV6amnntKAAQMUFRWlYcOG+Tx0ddy4cbIsSxUVFV7bP/vsM/34xz/WRRddpF69eikhIUH5+fle+xQWFvp9qGygB8u2hgILAADbuczFUM0CoYYCy0HdKax3F+f7VrDPa2qVMG9zp5c3LHtd/VzHP0Pt8mbFZUu3JQKhhploPgosAABszEXzUWA5iLAOJ9Q1NOq3ufv17Wc3OlzEvNvpZRCrbeuB323nGxMRspiJ5iOoAwBgYy6ajwLLQYR1OMnfw+ev/+Um3RnkLW1xM1y3PS7MK1N1bb0Wby7XTS/kOlqysDp2XTUrR6/klflcjXUuVwfykHmcD8xE8xHUAQCwMRfNR4HlIMI6OkJLZYO/B89f89y7+unqD7Vs6wG/Dwyva2hUcXmlkl4p6vRyhhX8unNBoapr61XX0Njig+KHpeTqla+LSn/lVGvHPrlmt9c3Mrp/Txbll2lRfnnQ39YIuDETzUdQBwDAxlw0HwWWgwjrON/O9SqccWnvd3oxwwp+DX1uo+74TetX3zX/IoCzH0b/k6//e7f2kPkhszZq5MIiXTXL99lfQ59/t8WrwYCWMBPNR1AHAMDGXDQfBZaDCOsINf6u5Lp5br4W5pWpcP9n+tna3brulzw/K9TXHW247TTQGpf2fqeUWNz6GFqYieYjqAMAYGMumo8Cy0GEdYSqQMWA+3ayJ9bs1tDnO/5b+Vjmr8Wby4P+3WrtVsRgSil/tz7ybY1mYyaaj6AOAICNuWg+CiwHEdbRHbgLhw37jmpZ0QG9nLdfL727X9c837artJIXbtXLuft9rv5ihca6+rmcVr8hsa6hUa/klWloC78XQ59/Vws27dcreWUBS6m6hsaAtz7ybY1mYiaaj6AOAICNuWg+CiwHEdbRnb26uTzo8uPsW9DOvgKnuLxShfs/032vFnd6QcMKvG79VZ4K9x/3fLHA2cXmvYu2BvUezUsp958fWfmB58qrYN5n6PPvcjWWYZiJ5iOoAwBgYy6ajwLLQYR1dGd1DY16ZOUHrZYM8TNztDA/8EPA/T2ba8ScvKCLEdb5W4NnbtTVzzl/a+nCr6/Qau2h882Xu/hC52Mmmo+gDgCAjbloPgosBxHW0d35K56uT9mk6W991ObbvFp6PlIwRdnlMzZo7Ovv6cWcUt32a25RDNV1fcqmdh0X7PO52vq7h7ZhJpqPoA4AgI25aD4KLAcR1gGXjv5//ttSlNU1NGphfpmGzc7t9EKGdX7WsJRcZe87quLySm0rr/Tcnur+3639TvLAeOcwE81HUAcAwMZcNB8FloMI68D51ZaizL3v/1uyvdMLFlbnr2EpuXolz/t21tYeGN/82VwIjJloPoI6AAA25qL5KLAcRFgHzLetvLLTyxOWOeuWX+V7HkQf7APjnbhFsTtgJpqPoA4AgI25aD4KrGYqKys1atQo9enTR/Hx8crLywv6WMI6YL66hkaf28P8rWEpufq8plY7DpzUk2t2d3rZwuq4ddOcXA19/t2gHhg/LCW3zc9zC+b3sqs9c4uZaD6COgAANuai+Siwmhk7dqweffRRVVdXa/369YqOjtbJkyeDOpawDoSG9lxpc/bD41srOS7/ReeXMayOX0Off1fPtOGLCc4uqNzP49qw76iWFvxdDy7boaHPv+v1/oGeuRUKhRcz0XwEdQAAbMxF81FgnaWqqko9evTQkSNHPNsSExO1YsWKoI4nrAOhobUyqrVnHfl7ePywlFz9bM1ubSuvVHVtvVdRMfXNvZ1etrA6bn372Y16MedvPg+IdxdMG/Yd1TNvfRT0VX/u1fz3sLq2Xm8UH9Tc7I/14xU7ddMc8x8yz0w0H0EdAAAbc9F8LRZYW7Zs0SOPPKIhQ4aoT58+io2N1Q9/+EN9+OGHXvsVFhbKsqwWV0lJSYee+BdffKHp06crKSlJ/fv3l2VZSklJ8bt/VVWVpkyZooEDB6pnz54aPny4MjIyvPbZs2ePYmJivLY9+eSTmjp1alDnRFgHQoe/MurmuflaHKAIaOvD48d9/WBwVvdYQ59/1+eKqnNZ/9+LWwJe2WfiQ+aZieYjqAMAYGMumq/FAmvMmDG66667tHTpUhUVFSkrK0sJCQmKjIzUli1bPPu5C6x58+appKTEa1VVVXXoiVdUVKhfv3664447NGHChIAFVlJSkqKjo5WamqqCggLPMWvWrPHsU1xcrLi4OK/jZs6cqcceeyyocyKsA6HnfNyKVdfQqIV5ZW0uNdylROJLBRo8c2ObjmF139X81tfOutWQmWg+gjoAADbmovlaLLCOHz/us62qqkqXXnqp7r77bs82d4GVlZXV5g8+ffq0cnJy/L6enZ2tM2fO+H29qalJTU1NkqQTJ060WmBt3LhRlmVp7dq1XtuTkpIUGxurhoYGSVyBBaBj1TU0qri8Ui/n7tfDy0o0bHauV/HQ/Cqbs68Gq66t1zNvfaTrUzZ57TNiTp6mv/WRsvcd1Y4DJ/VKXlmnFyiszluXz3D93lTX1uvVzeU+ty6ez1sNmYnmI6gDAGBjLpqvTc/Auuuuu3TVVVd5/nwuBdbLL7+s8PBwrVq1yue11NRUhYWFaenSpUG9V6ACa8KECerbt6/q670ftrt27VpZlqX33ntPUsvPwLrzzjsDPgMrJSXF6/ZJwjqAYDS/Oubs52f5u1om0BU1wTxs/t9eK9YTa3b7FGisrrPu/932Vn8Hfvi7bVq391O9UXzQU346XWpRYJmPoA4AgI25aL6gC6zPP/9c/fr10+jRoz3b3AXWN7/5TUVEROjCCy/UPffco23btgX1nlOnTlVYWJhSU1M92xYtWiTLsjRz5sygf4hABVZCQoJuueUWn+3ucL1s2TLPtjFjxmj8+PGqqalRdna2oqOjdeLEiaDOg7AOwATBPt/rXB80zupaa8TcPK+rs1r65sS23IrITDQfQR0AABtz0XxBF1j/9V//pcjISK8Hue/Zs0dTpkzRO++8o+LiYqWlpWno0KGKiIjQpk2bgnrfmTNnyrIsLVq0SC+++KIsy9KcOXPa9EMEKrDi4+M1cuRIn+3Hjh3zPMPLrbKyUvfee6969+6twYMHKzc3N+jzIKwDMElbn39EocWKm7FB49Le1yt5Za3+93ffitjaVYPMRPMR1AEAsDEXzRdUgfXcc8/Jsiy99tprAfc9deqULrvsMg0bNizok5gzZ47n9rsFCxYEfZxbMAVWcnKyz3Z3gTV//vw2f2ZLCOsAupLWrsD5vKZWP8/c0+LD5QfP3Ojot/CxzF3xzf77n11spedsZyYajqAOAICNuWi+gAXW7NmzZVmWfv3rXwf9ppMnT5ZlWaqpqQlq/2nTpiksLEyWZWnWrFlBf46bk7cQngsKLADdjfvB9Ivyy7Qov1zbyitV19Do2X71czmdXrKwOqfYGvjoEmai4QjqAADYmIvma7XAcpdXs2fPbtObTpo0SZZl6csvv2x1v6amJj3xxBMKDw9XWlqaXn/9dYWFhWnatGlt+rxABdbEiRNbfIh7RkaG10PczxUFFgB4a+u3Ig5+tvPLF5YziwLLfAR1AABszEXz+S2w3Lf1Pffcc216w3/+85/61re+pRtuuKHV/RobGzV+/HhFRkYqIyPDs33VqlWKiIjQ448/rqampqA+M1CBlZOTI8uylJmZ6bU9OTlZsbGxamhoCOpzAqHAAgBvdQ2NunNBYVCFx38uL/E8U+mJ9N2dXsCwKLC6OoI6AAA25qL5rKKiIkVEROiFF17wbPztb38ry7KUnJyskpISn+X28MMPa8aMGcrKylJhYaGWL1+uIUOGKDIyUvn5+a1+8IIFCxQVFaV33nnH57XMzExFRkYGfOZWTk6OsrKylJaWJsuyNHbsWGVlZSkrK0vV1dVe+yYlJSkmk28i8wAAIABJREFUJkbLly9XQUGBJk6cKMuylJ6eHsy/p6BQYAGAr+raet0VoMQal/a+1wPA6xoa9cjKDxQ3Y4Mub0Np8t0XN2tKxp5OL29YFFihgKAOAICNuWg+q7Cw0OfqpcTERM9D1VtabvPnz9cNN9ygfv36KSIiQpdccolGjx6tDz74IOAH19TUaMeOHX5f3759u2pra1t9j7i4OL/nWFFR4bVvVVWVnnrqKQ0YMEBRUVEaNmyY15VfTqDAAoCW1TU0amF+mYbNzvUqOW6em6/Fm8tb/IbEuoZGLd5crpvn5rd4zOc1tXqj+KDmbfyr3ig+qOraes9xI+bmtan4YlFgdUcEdQAAbMxF8wX1LYQIDgUWALTu7G823HHgZIvFlRPHvLq5vNMLnO6+KLDMR1AHAMDGXDQfBZaDKLAAwAyt3YLo/vONL+Se10Knuy0KLPMR1AEAsDEXzUeB5SAKLAAwR6BbEKtr67Uwr0xDn3/Xp3y58tmNumpWjte261M2afpbH+m3ufvbVegM72aFGQWW+QjqAADYmIvmo8ByEAUWAJgn0C2IdQ2NKi6v1KL8Mi3KL9e28krVNTT6Pe7sq7uCWdenbNLCvDJV19brvsXFnV4sUWDBjaAOAICNuWg+CiwHUWABQPfgvrprxJw8v6XVz9bs9pRhbtvKKzu9WKLAghtBHQAAG3PRfBRYDqLAAoDuxX2V1oZ9R/VG8UFl7zva6oPmz+UbEq/8xQb91+9L9L+7j+iB323v9IKKAiv0EdQBALAxF81HgeUgCiwAQCDBfkPitDf3+tzW6BboCjATFgWW+QjqAADYmIvmo8ByEAUWACCQYL4h8ZGVH/i9iqv5e+04cFLr936qH72xU/EzN7ZYJjV/ID0FFiSCOgAAZ2Mumo8Cy0EUWACAYAT6hsRgyit/71tcXqmXc/dr2psf6ZW8/dpWXqnq2vp237pIgdV1EdQBALAxF81HgeUgCiwAQFsE+oZEJwV76+IT6bspsLoJgjoAADbmovkosBxEgQUAMFWwty469U2JFFjmI6gDAGBjLpqPAstBFFgAAJMFc+tiW74p8fJfUGCFMoI6AAA25qL5KLAcRIEFAAgFgW5dDPZ2w4eXl1BghTCCOgAANuai+SiwHESBBQDoCoK93bC6tt7vfhRY5iOoAwBgYy6ajwLLQRRYAICuIthvSvS337VP/p6ZaDiCOgAANuai+SiwHESBBQDoaoL9psTm++3d92dmouEI6gAA2JiL5qPAchAFFgAALsxE8xHUAQCwMRfNR4HlIMI6AAAuzETzEdQBALAxF81HgeUgwjoAAC7MRPMR1AEAsDEXzUeB5SDCOgAALsxE8xHUAQCwMRfNR4HlIMI6AAAuzETzEdQBALAxF81HgeUgwjoAAC7MRPMR1AEAsDEXzUeB5SDCOgAALsxE8xHUAQCwMRfNR4HlIMI6AAAuzETzEdQBALAxF81HgeUgwjoAAC7MRPMR1AEAsDEXzUeB5SDCOgAALsxE8xHUAQCwMRfNR4HlIMI6AAAuzETzEdQBALAxF81HgeUgwjoAAC7MRPMR1AEAsDEXzUeB5SDCOgAALsxE8xHUAQCwMRfNR4HlIMI6AAAuzETzEdQBALAxF81HgeUgwjoAAC7MRPMR1AEAsDEXg/C3v0kPPSQNGCD16CHt3u3aPnu2VFDQ4R9PgeUgwjoAAC7MRPMR1AEAsDEXA9i7V+rbVxo40FVihYfbBdYzz0j/8R8dfgoUWA4irAMA4MJMNB9BHQAAG3MxgJEjpe98R6qulurrpbAwu8B66y3piis6/BQosBxEWAcAwIWZaD6COgAANuZiAH37Su5/Nw0N3gXW1q1S794dfgoUWA4irAMA4MJMNB9BHQAAG3MxgAsukHJyXP+7eYG1bp0UHd3hp0CB5SDCOgAALsxE8xHUAQCwMRcDuP12aeJE1/9uXmBNnizdfXeHnwIFloMI6wAAuDATzUdQBwDAxlwMIDPT9eD2n//cVVyFhUnvvCMtWCBFRUl/+lOHnwIFloMI6wAAuDATzUdQBwDAxlwMwq9/LfXo4SqywsJc/4yKkubPPy8fT4HlIMI6AAAuzETzEdQBALAxF4N05Ij0xhuuMmvZMunw4fP20RRYDiKsAwDgwkw0H0EdAAAbczGArVulqqqWX6uqcr3ewSiwHERYBwDAhZloPoI6AAA25mIA4eHS+++3/NqHH7pe72AUWA4irAMA4MJMNB9BHQAAG3MxgLAw/wVWSYkUGdnhp0CBdZbKykqNGjVKffr0UXx8vPLy8tp0PGEdIaOhTjpULP11veufDXWdfUYAuhhmovkI6gAA2JiLLTh9WvrkE9cKC5PWr7f/7F7790uTJ0uXXdbhp0OBdZaxY8fq0UcfVXV1tdavX6/o6GidPHky6OMJ6zBeQ51U9BvppW9LKd+w14LBru0UWQAcwkw0H0EdAAAbc7EFs2e7bg0MtMLCpFmzOvx0KLC+VlVVpR49eujIkSOebYmJiVqxYkXQ70FYh9Ea6qT0MV+XVv28Cyz3n9PHUmIBcAQz0XwEdQAAbMzFFuzYIf32t9KCBa6S6qmnXH8+e732mlRUdF5Ox/riiy80ffp0JSUlqX///rIsSykpKUEdvGXLFj3yyCMaMmSI+vTpo9jYWP3whz/Uhx9+2LFnLakt511VVaUpU6Zo4MCB6tmzp4YPH66MjAyvffbs2aOYmBivbU8++aSmTp0a9DkR1mG0ot80K638rKKXOvtMAXQBzETzEdQBALAxFwOYPVs6erRTT8GqqKhQv379dMcdd2jChAltKrDGjBmju+66S0uXLlVRUZGysrKUkJCgyMhIbdmypUNPvC3nnZSUpOjoaKWmpqqgoMCz/5o1azz7FBcXKy4uzuu4mTNn6rHHHgv6nAjrMFZD3de3DTa/8qr56ue6nZCrsACcI2ai+QjqAADYmIvms5qamtTU1CRJOnHiRJsKrOPHj/tsq6qq0qWXXqq7777b73GnT59WTk6O39ezs7N15syZVj872PPeuHGjLMvS2rVrvbYnJSUpNjZWDQ0NkrgCC13coeLgrr5yr/+fvXuPj6q+8z9+QgKIWgGvgCC2glhhwXZXpdtWbGsUtdZlK71su9JyEatWW6jb3w/720CEBIlYRIEIFREDQaNSirICmiByEytWUVoVDRZlBayIMQhJyPv3x2Fy5sz1nJkzme8kr+fj8X3InJlzm0zy/czb7/med9dn+4gB5Dj6RPNRqAMA4KBf9KCpSVq5UpoxQ5oyxd2KizO+e9ccWH4DrHi+9a1v6dxzz437/MyZM9WhQwctWrQo6rny8nLl5eVp7ty5nveX6LjHjh2rE088UY2Nja7lS5culWVZ2rhxo6TYc2BdeumlzIGFtuGNFf4CrDdWZPuIAeQ4+kTzUagDAOCgX0zio4+kL3/ZngsrNHF76N+hlmGBB1iffPKJunbtqhEjRiR83YQJE5SXl6fy8vKWZbNmzZJlWZo0aZKvfSY67qFDh+rCCy+MWh4qrB944IGWZdddd53GjBmjQ4cOaeXKlerWrZv279+fdP9FRUWyLKulUazDOIzAAtDKMhVg/frX0t//bv/7vfekBq54ThmFOgAADvrFJMaPl77yFbsQy8uTtm6Vdu6UfvMb6bzzpPffz/ghBB5g/eQnP1FBQYGnidwnTZoky7I0a9YsTZ8+XZZlqTiFYWeJjrt///664ooropbv2bNHlmWppKSkZdm+fft05ZVXqkuXLurXr59Wr17t6zj4v80wFnNgAWhlmeoT8/KkF1+0/92hg/Nv+EehDgCAg34xiX79pEcesS8jzMuTwjOfW26RfvSjjB9CoAHW7373O1mWpfvuu8/zOsXFxS0jl8rKylLab7IAa/jw4VHLQwFWaWlpSvuMhQALRuMuhABaUab6xJNPlv70J/vfof/5h9RQqAMA4KBfTOK446QXXrD/nZ8vPf+889zq1dIpp2T8EAILsCZPnizLsjRt2jRf602cOFF5eXmyLEt33HGH7/1KwV1CmC4CLBipqcG+JHD7E9KC78QfeVV0klQxktFXAAKRqT7xqquk006Trr7aDrC++U3pmmtit+99L9Bdx1VXV6fbbrtNPXv2VOfOnTVkyBBVVlZ6Wnfv3r0aNWqUTjnlFHXp0kVDhw7Vs88+G/O1a9eu1dChQ9WlSxedcsopGjVqVMwb6nhFoQ4AgCOdfjFXawFfeveWnnrK/nefPtKcOc5zlZVS164ZP4RAAqxQeDV58mTP6zQ3N+vmm29Whw4dtHDhQs2bN095eXmaOHGir31LiY973LhxMSdxr6ysdE3iHgQCLBilqcEedTXjHHdYNa1ndIBV1s8eeUV4BSAgmeoTd+2S/u3fpP797UsIe/aUzj47dvviFwPddVyFhYXq1q2bysvLVV1drbFjx8qyLC1ZsiTheocPH9agQYPUu3dvVVRUaM2aNbr22mtVUFCgdevWuV67bt06FRQU6Nprr9WaNWtUUVGhM888U4MGDdLhw4dTOm4CLAAAHOn0i7laC/hy7bXSXXfZ/x4/XjrjDPuSwkcftYuuGFM3BS3tACt0CeDvfvc7z+scPXpUY8aMUUFBgSuVXLRokfLz83XTTTepubnZ8/YSHfeqVatkWZaWLVvmWj58+HD16tVLTU1NnveTDAEWjNHUIFVc5x5dFTnaKnzCdoIrAAFrjT4xfD6sbHn66adlWZaWLl3qWl5YWJi0zpgzZ44sy9KmTZtaljU2Nur888/XRRdd5HrthRdeqPPPP9/1P+Q2btwoy7J83bk5HAEWAACOVPvFXK4FfFm7VgrdhG/fPmnIEOdOhP36SX/7W8YPwZLskKeqqkoLFy6UZVkaOXKkqqqqVFVVpfr6ekl22pefn68pU6a0rHz33XfLsiwNHz5cmzdvjmrxlJWVqVOnTlq+fHnUc8uWLVNBQYGnebS8HLdkf3C6d++u+fPnq7q6WuPGjZNlWaqoqPD+TnlAgAVjeJ3vquikbB8pgDYqU33iiBHS22/b/163TqqrC3Tzvo0dOzbmSO+lS5cmHel92WWXacCAAVHLS0pKZFmW3j92N5/3338/7ryd5557rgoLC1M6dgIsAAAcqfaLuVwLpKW5WXrtNWn7dini3DPFkqS+ffu2TKQe2WprayVJNTU1UaOchg0bFnc9y7Ji7U+SdOjQIVfCGGnDhg06cuRI0oP3ctySfT3qrbfeqh49eqhTp04aPHiw5+tR/SDAghE833HwWGP0FYAMaC93IUxnrs0ePXpo5MiRUcufeuopWZbVcjfkZ555RpZl6emnn4567XXXXaeePXumdOwEWAAAOFLtF3O5FvDs0CHpX//VHoWVRfFTJvhGgAUjvLve++ir0CWEABCwTPWJp59uzxMqmXEXwv79++uKGHM+hO52XFJSEnfdjh07avz48VHLN23a5LoUYcmSJbIsK+bo9htuuEGdOnVKepx79+7V66+/7mqzZ88mwAIA4JhQgDV79uyoPjPRROm5Uguk7QtfkGpqMr+fBAiwAkSABSO8scJfgPXGimwfMYA2KFN94g9/aN/FeeBAZ8qFf/qn2G3w4EB3HVP//v01fPjwqOWhojXWUP+Qjh076sYbb4xaHipaQ6PFQ0Xrli1bol57ww03qHPnzkmPs6ioKO6odQIsAACcACtWSzRPeK7UAmm7/HJnEvcsIcAKEAEWjMAILAAGyFSf+PHH0q9+JRUW2pcQfvWr0qWXxm+ZliuXDTACCwCAxFIdgZUrtUDatm+XvvQl6eGHszYJKQFWgAiwYATmwAJggPZyF8Jx48bFnLi1srIy6cSthYWFOu+886KWl5aWyrIsffDBB5KciVunT58e9doBAwYwiTsAAAFItV/M5VrAlxNPlDp1sv8PYocO9uMvfMFpJ2X+BmEEWAEyJsBqarBH1byxwv4vAUX7w10IAWRZpvrE5593/qffrl1SQ5wubv9+6cEHA911TKtWrZJlWVq2bJlr+fDhw5PeOnvu3LlRlwM0NjZq4MCBuvjii12vveiiizRo0CDX9jZv3izLsjRv3ryUjp0ACwAAR6r9Yi7XAr6MGiX97GeJW4YRYAUo6wFWU4MdXMw4xx1QlPWzlxNktR9NDVLFyDihVVcCLAAZl6k+MfLOg0ePSh07Stu2uV+3ZYv92tZQWFio7t27a/78+aqurta4ceNkWZYqKipaXjN69Gjl5+dr165dLcsOHz6sgQMHqk+fPlqyZInWrl2rESNGqKCgQOvWrXPto6amRgUFBRoxYoTWrl2rJUuWqE+fPho0aJAOHz6c0nETYAEA4EinX8zVWiDXEGAFKKsBVlODVHFd7IAi9LhiJCFWe9LUIK2bIU3rFR1ohj9ubs72kQJogzLVJ0ZeNtjUZC97+WX361ozwKqrq9Ott96qHj16qFOnTho8eHDLpKsho0aNkmVZqq2tdS3/8MMPdf311+vkk0/Wcccdp6FDh2ptnFtUr1mzRkOHDtVxxx2nk08+Wddff33COTmSIcACAMCRTr+Yq7VAriHAClBWAyyvl4ytm9H6x4ZgpHpp6Mb7nZ9/5U/s9VxzYDUm3wYA+NSeAqxcRYAFAICDftF8BFgBylqA5XnS7q726BtGYeWWdC8N3VLurPPURHtZ+HYa28dwUwCtiwDLfBTqAAA46BfNR4AVoKwFWO+u9z5hd9FJ9uuRG4K4NHTLA2EB1gR7Wfh2jtS3zrkAaFcIsMxHoQ4AgIN+0XwEWAHKWoD1xgp/AdYbK1r3+JC6IC4NfXG+87qVv7aXha97+NPWORcA7UomA6zFi+3A6uWXpa1b7WVLljjLXn5ZWrSIACsZCnUAABz0i+YjwAoQI7AQqKAuDd26wHntn26zl4Wvf+jj1jsnAO1GJgOsDh3cLdEyxEehDgCAg37RfARYAWIOLAQqqGBy6x/CAqxb7WXh6332UeudExJLdaJ+wECZ6hMXLfLXEB+FOgAADvrFOMrLpXPPlTp3lnr3lv7P/5Eas3MjMAKsAHEXQgQqqEtDX1rovGbFLfay8PXq2s9tV42V7kT9gIGy2ifCEwp1AAAc9IsxLF5sD2vv2lW66CLpjDPsIe6/+lVWDocAK0BZLdabGuzJvNOZ7BtmCWoE1ksPOq/54832svD1Du5pvXNCtCAm6gcMRIBlPgp1AAAc9IsxXHyx9LWvSZ98Yj9ubJRGjZJOOCEro7AIsAKU9WK9qcEeYVXWL8Yojhl8Ac6mVC4NC+rS0PBJ3P94k70sfP1Pdgd3nvCP0ZNoo7LeJyIpCnUAABz0izGceKL0xBPuZbW19qisv/2t1Q+HACtAxhTrDZ+7v/gSXGVPupeGBRFubCl3Xrf8F/ay8HU/rg3sdOET89ehDTOmT0RcFOoAADjoF2PIy5NefNG9rKnJXr5tW6sfDgFWgIwp1iMDLGRHEJeGBXFp6KY5zjpP3mgvC9/ORzuDPW94xx1E0YYZ0yciLgp1AAAc9Isx5OVJW7e6lxFgtQ3GFOuHPyXAMkFQl4ale2nohnvDAqzx9rLw7ex/K5jzba/SuXNgUBP1AwYypk9EXBTqAAA46BdjyMuTvvlN6ZprnPbd79rLL7nEvfx738v44RBgBciYYr3+HwRY2ZaJS8OaGlK7NPSFe5x1nhgnHT3q3s7ev6Z3rpmWTkCUSUHcOZARWGjDjOkTEReFOgAADvrFGPr2lc4+21v74hczfjgEWAEypliv2xsdYJkaArRVmQgmmptTCyafL3PWeXxMdBD2YQCf10x8voIIiDIlqDsHZmsOLP4eoBUY0yciLgp1AAAc9IvmI8AKkDHF+ifvR1yiZmgI0JZl4tKwo02pBVjhlzJWjY6eI23Pq6mfZ6ZCpqACokwJ8s6BrXkXQpNDQbQ5xvSJiItCHQAAB/2i+QiwAmRMsf5xbewRHKaFAG1ZJkZgpTo5f/U0Z53HfiYdqXdv5/2XUzvHTIZMrRnq+BX0qCnXRP1xfm+D+D01PRREm2NMn4i4KNQBAHDQL8Zw++3S7t3uZUePZudYRIAVKGOK9f1v+wtPshECtHWZuDQs1cn5ny121ln20+jt7H4ptXPMVMiUrcvqvMpEOBmaqH/62TFGRnmYqN8Lk0NBtEnG9ImIi0IdAAAH/WIMHTpIL77oPG5qspe9nOIgiDQRYAXImGJ97w4fX7CzFAK0B0EHBqlOzr+2yFln6Y+kQwfc23lvi/9zy2TIZPrE5pm8c+CuTc569/1LsHNemRwKok0ypk9EXBTqAAA46BdjyMuLDrDy8giw2gJjivU9r/r7gp2NEKA9CPrSsLp9qQVYq3/nrPPI96ODsF0b/Z9bJkOmTAZEQcjkub+3xVlvwXdy45iBOIzpExEXhToAAA76xRgIsNouY4r19//sP8AKDwG4Q1lwWi4N6+t+v1O5NOzgB6kFWP/zf511Hr42OghLJazIZMhketiSydFMuzaGBViXBXfMpoeCaJOM6RMRF4U6AAAO+sUYCLDaLmOK9fBRHH5CAO5Qljnv1Djv5+yvpvZefrwrtQBr1X856zx0tfTph+7t7Kz2fyyZDJly4XK3TM0n9e7zzrp/KAzueE0PBdEmGdMnIi4KdQAAHPSLMeTlSYsX24HVyy9LW7fay5YscZaFtwwjwAqQMcV67QYfX1aPhQBH6rlDWSbtfM55Px8Ylto2PtqZWoD11MSwUOTy6JFcb6/1fyyZDplMn3A8U3cODP+c/OHy4EZD5kIoiDbHmD4RcVGoAwDgoF+MIS/PnrQ9vCValmEEWAEKtFhP54vrOzX+Rlusm2F+YBBLLl3q+OYz6QdY+/6WWoC18lfOOvO/LR34u3s7b65O7Xgy+ZnJVEAUpNDloSV93MeXzp0D31ztbOeegcGOhszG73gu/Y4icARY5qNQBwDAQb8Yw6JF/lqGEWAFKJBiPYjL+N5a623kVSgEOFKfW6MzcvFSxx1/CguwLk1tG/+7PbUAa8Utzjrl35Q+rnVv52+rUjseV8iUgVF7Qc4flkmvPuoc28Ir0zuuvz4d+30M4n3N9M8rcl+59juKwBFgmY9CHQAAB/2i+QiwApR2sd7UEMxlfH9bFT2iovjU+CFALs2PE9R71Nq2P55+gPXBttQCrOU3OevM+Vr0pYg7VqZ2PJITMpX1y1zIFH5J7H0XGfizfcI5vkevT29bb/zR++9hqiPbMv3zytXfUQSOAMt8FOoAADjoF81HgBWgtIv1oC7xibzjWHOz9OBw5/Gzxe4vj7l0h7JcvNRRkv5SmX6A9fetqQVYT44PC4AulPa/HfHzDOAPdFODe5tBhhO7NjnbDfLOfEEJDycfG5Xetl5d5vH3MM3RkJn8eeXq7ygCR4BlPgp1AAAc9IvmI8AKUFrFepCTLId/oQ59OZ33defxyw+7X58rI7ByeSLqlx92jm/+t1LbRniQ4yfAenyss869F0TPpbX98dSOJ1Iqx+ZF+OfTxADrtaqwAOtn6W3r2eLW+13MxM8rl39HETgCLPNRqAMA4KBfNB8BVoDSKtZ3Vgf3xfUvEaM4Gg5Jv/8n5/GL892vz5UvnbkStMWydUH6Ada7z6cWOjz2M2edewZJH77h3s6rj6V2PJEyFWCF/278oTDYbQchyAAr/I6RXlo6oyEz8fPK5d9ReOdxcn4CLPNRqAMA4KBfNB8BVoBSLtabGuzJtYP64rrtEfdr6/8hTe3pPN5wb/Q6rXnZT6p3JsulSx0jbZ6bfoD19rOphQ6P/qezzt3nSf/7mns7f6lM7XgiZSrACr8pQSoBVqbvhBdkgPXMHa0XAGXi55XLv6NIzufk/ARY5qNQBwDAQb9oPgKsAKVcrHsNj7x+cX1pofu1d33J/Xhaz+gvG647lEW2gCZeTvfOZLk8umPDrPQDrDefcZ/f0aP28mQBTeV/OOvMOEf64BX3drZVpHdukj3PWqYCrPCbEvgJsFrrTnjh85tV/Ty9bW0p9/j5DmA0ZCZ+Xrn8O4rEUpicnwDLfBTqAAA46BfNR4AVoJSK9ZbL97x+6etqv35ndfzA4sX5sb9cRLbIQCp0h7LJ3WJ84U/zDmVB3JksqEsdMz0iJ5bnZ4QFWN/2t27oeNf8t/s8D3/mLaBZ+iPnudKzpPdfdr8+ck60VBxtigjXmoJ7n3f8yX+A1Zp3wgsf8Vg1Or1teQ6wTkp/NGQmAqxcuRwZ/qUwSpcAy3wU6gAAOOgXzUeAFaCUinW/IxaKTnJfDhgrsNg0J70vwTPPd55/YVZ0yJVKKOH1y0/V6MTb9bqdh75rh3xRAV0aI3LSCWSqpzn783oXwnjHG2oP/5u3gKYlyDlJmnamtPsl9+tfetD7ecTT8Ll7m8/dGdzIp9efDAuwLve2TqYuiY31GfjzQ8EFWBvvSx78BBW+ZSLAkrgLYVuUYjBJgGU+CnUAABz0i+YjwApQSsW63zljvAQW62d6306sURD3DHRe89en7GXphD+ev/x42K7rUkcP25vWU6oukY7Upz4iJ4hL0dYWOevN+3ry1yccQeSjrZshLR7hPL7zdOm9Le7XRE7qn4rDn/r/nHoVPsfUg1ckfm1Tgx1clvRO/fMfb7vxPgNLfuA8TjfAeuH3zrbuvSD6PQxiNGRIpgKs1rgcGa0rxUtDCbDMR6EOAICDftF8BFgBarURWMkCiz/e7G+dTfe7R5TcM8h5bvvj6V+OldI5Jthu6FLHsn7et3fvV7y/f5H7CuJStGcmOevdf3Hi1zY1SMt/EcDn4VhAs+i7zrLJ3aVdG92v21Ke+Hi8OPSx/8+pV+FzTMULsJKNVvPwZTsuL5+BUHt8jPfzCm07fERXzXRnW498Xyrp4zx+pTLY0Cf8uIMW+h0tPs29nyADuGzIxuXHJkhxcn4CLPNRqAMA4KBfNB8BVoBaivVnHvb+xSaV0UnJAotHr099G2X9Ir40L0n/kqCURpl52G7NR/GFAAAgAElEQVTjkQDesxjvX/jPLqjLoZ7+jfPae78S/7Ow7q7oSffTbXO/7n4cGShumpP8c5pM3b703udEXl7srBsrwEp3tFqyO+H5ucmC1wArXuA2Lezy4Irr7DnLQo/37vC2ba/C95spy37i7OO5abkb+AR9Q4BcC8IYgdVmUagDAOCgXzQfAVaAWor1X5zg/dK6d9dLj/082MBi0ffSWD8iANjyQPqTMqc1yizBdusPBPu+RXz58hUuRh5j5BfUFbc4r71nUOzPQvhcVUG2+y50P357rfvxxtn+PuixHNyT+vucTPhdNWMFWKncxdPrcfgNmL1cQug1cFs8Qpre13n8v695e7+8iLxrZHNzcNsO9+h/OvvY/kRm9pFpQd4QoLXujBk05sBqsyjUAQBw0C+ajwArQK4AK+klcCle7uSlLf1hcNt6amL6YUAQo8xibffxsZl5/0IjcvwGb6FJ42P9bO883fn33QOizyXdECZRu/9i9+O/Pu1+/MLv0//wH3gv9fc5mfC7akYGWGl9tjzcrXLT/f62+fC1yc/H68961hD3CKwPtgU3cqep0b2vTAUn4aNBtz+emX1kWlCjMFvzzpiZwF0I2yQKdQAAHPSL5iPACpA7wAor6EN31jtSb4cc876RubCi6CRpWRqXEEa2Kp+jw+KFEukGNJHbbWqw76iXifcvFJb5vfRx3jelR/49zhfUsDb97OhzCewy0vB2LKB54FL38u1PuB8/X5b+h/+jnam/z8lsnues8+Bw93PpziEXK3RIJ2BeeGXic/Hzsy4+xX0574pbgxu5E3nXyIZD/tb36rFRzj5eq4p+3vRL6VIceRST17+B1aVmvicpTM5PgGU+CnUAABz0i+YjwApQ3ACr1dqxL1ErJwS3zcX/5u/1NdNjf+nye/fAyBZ+WV/kZNdBthnnOMce9AT7oVZ8mvu9ydR+ik6yA5oHhrmXrZ0c8Zq70v/w73vT/+fU6xfzjfc560YGWOncxTPe6Mh05tNadE3ic/H7s57aM/axezmXRA7Xubdz+FPn/IMMTx77mbOPvyxzlufKpXQpzv0UxU9wOTnWnScNeU9Ck/OHjyhtOcboyfkJsMxHoQ4AgIN+0XwEWGH27dunq666Sscff7z69++vNWvW+Fo/+wHWscBixS+D2969X01tdFCsL12hLz93fdHHto6FHUfqM3vZZahN6+kcd8uXzgzsJ/x9SXeS+1jvWdFJdqhxpD753RqrS9L/5fnwdf+fU69euMdZL4gRWInuhJfuSMFH/zPxufj9WU/tkZn39PNP3OvW7c1MoBQ+gnPbI/ayXLqULsW770VJdx5Ak94TyX359pqiuMdFgGU+CnUAABz0i+YjwAozcuRIjR49WvX19VqxYoW6deumjz76yPP6WQ+wik+VDn0izTwv2O3e+9VgvnSFRndsmO1vW9Wl6Y2KCbXZXs4j4rgzNTdV+EiNVL/cPni5VFNq/9zDl4cCmiP13iaGXzs5/V+ePX9J7TPhxfMzws45IsBK5fLLRHNepXsp57KfJj4Xvz/rO70GWD5HtdX/w73+w99z/4zS/ZmFhAdYLy20lwU1p1RrCGoEVlAhtQnviSQ9cYNzTK8sifsyAizzUagDAOCgXzQfAdYxdXV16tixo3bv3t2ybNiwYXrwwQc9byPrAVbRSdLyX2RmuzO/nPq6T9xgj/LxNZop7ItzdUn6x//Ivx8bxTXDvoTP65fFpgap/JLg38/Xw/4ophqc7H7ZXj/8Ms/w0RBeg4LIUCgVu//s3mbVz6VpvdzLEo18SqSmNPGx+g0Z40kpSIz4mS39ceJz8fOznnJyjEsIkzSv84rV7fN/rqmEJ1WjnfVfnB/snFKtIajjDeQyYUPeEykiwFoa92UEWOajUAcAwEG/aL6oAOvTTz/V7bffrsLCQp166qmyLEtFRUUxV66pqZFlWTHb5s2bM3rgfo5TsgOq2267TT179lTnzp01ZMgQVVZWtjy/bds2de/e3bXOLbfcogkTJng+JiMCrJLemdv21J7SlFOC325Zf2ly94hlYaOI0h0V89B33aPAIoOVZF8Wd1YHf85vP+f+8KQy0uv9YwHWkh84y7YucM7T6/s2tUf6X4rf2+ze5quPShvudR4v+2nq+3juTmc7f7g8+nkvk0uHt3hSGSVT1k+a/23nccXI5Ofj9Wdddq6/SwiLTvJ+Z8eDe5K/T/F+H/x4fIyzjc1zgxvR1JqCGDEW5I0aTHhPGIHVZlCoAwDgoF80X1SAVVtbq65du+qSSy7R2LFjPQVYJSUl2rx5s6vV1dVl9MD9HKckFRYWqlu3biovL1d1dXXLOkuW2MX3+vXr1bdvX9c6kyZN0g033OD5mIwIsNpCWzs5uInUH/m++0t3Kl+gMzEXVv0/3B+ehCFMnPb3rfa6lf/hLNtwb+rnmY7aF9zbe3mxO8B6+jfx1002cfia/3a2M//b8bexbkb8UV/hy+Lx+56tK7P3u/JXYZ+3f0/+Xnn9Wc/518yNwDrw99Q+t34/J+FzJW24N7g5pVpTCnffiymoy5FNeE8IsNoMCnUAABz0i+aLCrCam5vV3NwsSdq/f7+nAKuqKsbt0ZM4ePCgVq1aFff5lStX6rPPPov7vJ/jfPrpp2VZlpYudV/qUFhYqF69eqmpqaltjMC60+Olcaa3F+c7b2o6c8f84fLoL5Xbn0zty2LQc2FFBliSE8J4HXWza5O93rKfOstqSlN739L9Uhw5Sm3rAun5Mufxyl/FOV8PE4c/M8l5rvySxMfx/N3Oax+93t7G0Sb39uPxO0rmf/6vvc4fb3aWPfw9b+9X6Gcduc3wy1vvv1gq6ePxZ+hzhNTHtal9bv1+Tp4Y56y7/u7cHIElxf95+bksNpWQ2tT3hEsI2wwKdQAAHPSL5ks4B1YmA6yZM2eqQ4cOWrRoUdRz5eXlysvL09y5cz1tK9lxjh07VieeeKIaGxtdy5cuXSrLsrRx48aYc2BdeumluTcHVlto4aNY0hmBdc/A6Lsghl/u5efLYlNDsOf46YexP0RNDdKsIf6ObemPnGWrf5fa+5bul+K31ri399QE6dmwS//+eHP0eXq9E92q3zrPzf164uN44ffOax8bZQcubz/r3n4ifoPKipHuL/MPXe3vfQvf1jvPu3+W9/2LVHqW92PxM0fVRztT+9zurPZ3fuHvTc303JsDK1L4Mf5tlf/jCwVhk7vF/sznyntCgNVmUKgDAOCgXzRfIAHW6aefrvz8fH3hC1/Q5ZdfrhdeeMHTzidMmKC8vDyVl5e3LJs1a5Ysy9KkSZM8n0Sy4xw6dKguvPDCqOWh4vqBBx6QJF133XUaM2aMDh06pJUrV6pbt27av39/0v0XFRW55v8iwEqzTevpfEk7Uu/vS3xkC/9S7yuciPFlMZ1zipzj68DfY3+Y/BzjOzX2OotHOMuemmgv8zOaqPj09L4UNzW45zoKtfCRZI+PSe08182wzyn0+P6Lo/cdfvlhzfTk2zzalPhc/I6Smfuvzr/9Togfvp3Gw+593/uVGJ/9FO4SGOsSzX1vJtlunPbICH+flfARWM9NtZfl0l0II4UfX92+1Lczc6CznZIzvX/WTHlPwgOsbRVxX0aAZT4KdQAAHPSL5ksrwNq2bZtuu+02LV++XOvXr9fChQv15S9/Wfn5+XrmmWc8HcCkSZNkWZZmzZql6dOny7IsFRcX+zqJZMfZv39/XXHFFVHL9+zZ0zKHlyTt27dPV155pbp06aJ+/fpp9erVvo6DEVgBtp3VsS8v89tmHAuhUplEubrU/QOODKG8tmU/le76knvZRzujP0B+w7o3/8de76GrnWXLf+Fsz2tQUNI79QDLNZIqQVv6I/c6fkbhrPils2z2PzvbiPX58PIz+vzT5OdUXerxs9LVfenugsv8vX/h2zpc5w4jZw2WSsMuIaz8sTT9bPc6iS5hS3SJZngo6Lctusb75yX8LoRri5zjCmJOqWwIP9aDH6S+nZnn+3jPDXxPwoPJlx+O+zICLPNRqAMA4KBfNF9aAVYsBw4cUO/evTV48GDP6xQXF7eMXiorK/O8ntfj7N+/v4YPjx4ZEQqwSktLY6zlHwFWgO33g91f3tJp765P7VLEyNEmKd+BMcY5PH27+86I6+5yhxVe2vqZ9voLLnOWPXq9c7xNDdK9X/W2rXgjO5JNsO41JJs1xNnOpvt9/hz+3b2dhJcfemjP3Zn8lznVS1cfuNT7HwzJve6hj6VF33Ue3zPQ/Zl46UHpnXXO4xnnJB51lewSzfAW/hny0iq+7y1MefR6Z51nwkbVtky6HzH6yM+cUtkQfqwf16a+HT93izXxPQkPsF5aGPdlBFjmo1AHAMBBv2i+wAMsSbrxxhtlWZYOHTrk6fUTJ05UXl6eLMvSHXfc4WtfXo7T6yWE6SLAMrS9sSL1yeAXXWOPjHp3vTT55GCP65Hv29v2MoIpVlvz3/YHr/ybzrKKkfaypgZ7FJvXL8qRl0t6mWA9lVFtqbSFVzn/vmdQ+hPqJwp+QlL9vMz7hr8/GuHr1u2TFl7pPL77PPeIvBfnS28+4zwuPSv+dv2+R5vm+D9XL5ezhd8hc9V/RT//wizn+WU/NSukiSX8/Pe/ldo2mhpizIEVp005xf4bYZrwACv8phsRCLDMR6EOAICDftF8GQmwxo8fL8uy9Pnnnyd8XXNzs26++WZ16NBBCxcu1Lx585SXl6eJEyf62l+y4xw3blzMSdwrKytbJnEPAgGWoS3VEVihVnxq5o6t7NzU133oavvL8P0XO8sWXpn6pZfhE9Z7mWA98s6DmWqLrgl7vwYEE5olm7Q+1c/L3H/190cjfN1P3pf+UBh2rv3dI7A2zZFeq3IeTzlZOnYnVpcj9dLUnv6Oe52HucOiPrseJhRf8kPn9St/Hf18+KT74SO0TBV+/h+mGMrk6p0Yw4UHWFvK476MAMt8FOoAADjoF80XeID18ccf68wzz9QFF1yQ8HVHjx7VmDFjVFBQoMrKypblixYtUn5+vm666SY1x/pylsJxrlq1SpZladmyZa7lw4cPV69evdTUlGBSZx8IsAxs6cyBlQutYqT7roV3nnHs3ymc5/Yn7A9ydYm314fPb5SpVtLbPSopnQn9w9sbKxL/Mjc12DcTSLqtru6A8/6L/P3RCN/Wx7X2JYihx3d9yR1gbbhX+vND7nUaD0cft987bRadJG2cndr7mCxceeT7zmtX3BL9fPik+2v+n7/3LhvCz/2Dbaltw+/ovmSf1WwIn8R90/1xX0aAZT4KdQAAHPSL5rPy8/M1ZcoU18JVq1apqqpKCxculGVZGjlypKqqqlRVVaX6eudyhh//+Mf67W9/q6qqKtXU1Gj+/PkaMGCACgoKtHbt2oQ7LisrU6dOnbR8+fKo55YtW6aCggLdd999Cbfh9TglqbCwUN27d9f8+fNVXV2tcePGybIsVVTEv4OSXwRYBraU70KYQy3lubki2tyvS8/eKc+TlwcVJvlpfkcWxWteRrU89F1v2/r9Pzn/nv1Vf380wrez/237EsTQ49Kz3O/x+pnSxvvc63z2kXt7qX7G3/yf1EbtJQtXHr7WeW34DQZC1vy38/xq/5ePt7rwc//7i6ltw+8IrJ3VwZ5DEMJHYG24N+7LCLDMR6EOAICDftF8VqyRS3379m2ZVD2y1dbWtryutLRUF1xwgbp27ar8/HyddtppGjFihLZu3Zp0x4cOHdKmTZviPr9hwwYdOXIk4Ta8Hqck1dXV6dZbb1WPHj3UqVMnDR482DXyKwgEWIa14lOl7U86k483NdiTT2f7uNpSKz1LrTqqzevcQYnaXV9MfOlbaOL6pT9Ovq2KkdKDVziPZw3x90cjfFt7d0hzhjqPS3q7R2BVl0pP3uheJ3wi8ZZRhim8J28+k1r4lSwIDL9D5uNjo59f9V/O87HmyDJN+LnXvpDaNvzMgVV0klQTzE1GAhUeYIVuJhEDAZb5KNQBAHDQL5ov4SWE8IcAy+BW0scOB0p83umPlrg99vPW3+fk7umt/1ScOfbiTVwfry39sb1O+B387hnk749G+Pb2vCrd9y/O46k93Z/XqT1in0sojEtnnre/PmVvp6y/93W8zIH14PCwz8qo6OdX/NJ5fuWv/L132RB+/jufS307kXdfTPd9bm3hAdbz8SfzJ8AyH4U6AAAO+kXzEWAFyFeAddc50r1faf0v/zRakG1nde6NatsdY4Rowonr47Q5Q+31wuetuvs8738wjjZFHNefpXsvcB7febp0Z4zQKrI98n37OFK9c2LRSdIbxzrpx37mfZ1F1yQPVsLDvcr/iH7+8bHO83+8yft7ly3h5//mM6lvZ/qX/P18TJvIPfznlmCEGAGW+SjUAQBw0C+ajwArQC3F+oQ4o3xKz7Invt5Z7VzSVl3qcbJoGs2k1tUeqVRdYk82nvXj8dFizV2U6txR62a4560q6+/9D0bD5+5tvbfZHsEVejzlZO+jzRZdk95dIbc/bh+T34n5K0YmDrHCw70lP4h+ftlPnOefuMH7e5ct4ee+40+pb2f6F/29z6ZN5B7+OXnuzrgvI8AyH4U6AAAO+kXzEWAFqKVYf/UV+/+Yb3/CvkNT+DxMsTQ12F8+a6bb7W+rGJ1FM7/d+9Vj/zb8zo6LrnE/rt0Q/fuX6h0qy/pJ94fNW3XXF73/wTj8qXtb7663R3Clep6PjPB+Hnee5n78l2N3aE3lzpLr4l9C5gr3Fo+Ifj78LoWP/cz7e5ct4ecdCv1S4Tf0NW0E1mOjnGNbOznuywiwzEehDgCAg37RfARYAQq0WG9qsC/NmN7X/UWm9Czp/ouzHwrQ2ndrCa9yoLVcGnisRd7VLZ25o4pOkmYOdP5d2sf773j9P9zbeWu1e9L2VFpkWBevRV4quO3Y3Vj9XEJYdJJU1DXxHE1zvuY+tkgLr3Kej3WJoWnCz/0vadwExE9QaeIcWOEj51b/Lu7LCLDMR6EOAICDftF8BFgBykixHroj2hsrIu6mNzL1L7nFp2Y/VKDlZpvcTXpuauojlrLR/lDofvzWGvfvWDpzRxWd5J74fFov77/bn/6vezvphldFJ9k/l2RzklWMlF5d5l7250X2MYUHE35aaIRQ5N+r2WGT0i+8Mvo9mP8t93GZLHLOspcXp76tmV/2/t4mGuGWLeF36HxmUtyXEWCZj0IdAAAH/aL5CLAC1KrFelOD/cWmrJ//L5vVpfa6Xu+2RmsbbVqv9Lfx3NT0Ryy1drv/Ivfj0B33QkHLpvvT2/6MsN/BO8/w/jt84O+ZOd+d1fbvd+lZ0c/N+4Z97q8+6l6+9Q/2MS35QWr73P5E7Ds4hs/hteCy6PcgfITW4n8L5m9jpkTOWRZ6z1LhNcCafrZ5o68k9/9AWfVfcV9GgGU+CnUAABz0i+YjwApQVor18C/iO6ulR/49zpehY6NlwiddDs29VfXz2JcqZjt4oGWgpTlqame1Padb1s/DR7t7gPvxYz+LEbSk+L6U9XNfDjblFO+/ux/tzMz5hib8/ktl9HOPjbKfe2Wpe/mWB+zli/8ttX3O/3byz1f5JdHvwawhzvMPXZ38b1yiuQTTlWw/kXOWbZ6X+r68Bljzv53eOWXK4hHOMT41Me7LCLDMR6EOAICDftF8BFgBMqJYjzcyq6yfvTzRRPLhX96O1OfWZWK01mnL/lO671+yfxx+WvHpmdv2uhnuSwiLunr/Xd2zPTPHFLqc78+Lop9b8kP7uZcXu5dvmmMvf+hqn/vr6v0uqjMi7tDY1GCPMAo9v+A77ud2VkuP/Tw6TC/rZ4/2CirIamqIPXoscj+Rc5ZtuDf1fXoNsGKFfiZ4+HvOMf7ptrgvM6JPREIU6gAAOOgXzUeAFSCjivUgRi2su8v7F9lpvaV7Bkl3RoQF03pKxadkLkCg0bLV7j4vOoQpOkk6etTb71esgCmtFjGheqxLI0MTqb+00L08FMZEzhfmpU3tKU9B9+Tuzhx+sQKjKSdL1SV2S3iXvhijSVPV1BA2yX/kOUTs59MP3c8/X5b6fr1O4j7na+mdX6aEB50rbon7MqP6RMREoQ4AgIN+0XwEWAFqc8W6a7L4OF9Qyy+xR0qEX5YYGZwdqbdHV2QqSFg8gtFitNZvCy6zP+PTeruXew1VXrgn+GMKn/A7VgD9h0L7ua0L3MvX320vf2CYx30d+12b7/P3emd1gsAozfNNhdeQft0M6ZPd7mXVJanvd4bHuQtn/3N655cpD17hHOPyX8R9WZvrE9sgCnUAABz0i+YjwApQmyzWU70k0et20mnFp0o1pc6IjqDDABrNU4sIYhoOJf49CAW8T9/ubz9TeyTef+SIpNW/i37tvK/bz20pdy9fd5e9fO6/ejuW0O+/3/nQHvt5sO/9jHNSH4XV1OAx+D42sm3fm+7layentl8pes7BeO33/5T6PoIQbyTvgsucY3zihrirt8k+sY2hUAcAwEG/aD4CrAC16WI9qImUQ9vZ/oS0/KbokQilZ0lVo6W31tgt5gTzve11j9S7txt+ZywaLVvtcF3078zOanvETjp3/rxnUOzl8cLklb+Ofu3sr9rPbZrjXl49zV5+34XejiW0L793pCw9S4GPlFz+i9T+Hvk99siJ75+Z5H+fIdPO9LbPu89LfR/pSDYvWPkwZ1nV6LibadN9YhtBoQ4AgIN+0XwEWAGiWE+Bl2DMa3iWiVFeNJrfVrcv9pf/dFv4ZOaTu9n/nTU4/u/DE+OitzHzfPu5Dfe6lz87xV4eflfARC38d87z5bsZvMQ3lfmw3ljhbx9PTXA/fuT7qYf5kXMFxmt3fcn/ttPlZV6wkrAALnRnyxjoE81HoQ4AgIN+0XwEWAGiWDdE6A5m5Zck/uJcfGpmv1TT2mf7/eBj/87gZ2vm+cf2FecSs6YG6Q+XR683/Wz7+fUz3cvX/D97eWi7yVr4fhZ919s6U07O7Pvudz4svyOw4rXQqKQj9d5HqU7u7m3bJX38nVMQ/F6OvewncTdFn2g+CnUAABz0i+YjwAoQxbphks3fVV2S2S/UNFqm2vxv2/+964sxPvMJRn/deYb9uudnuJc/ev2x0VQeRy+G9tUyUsdDy2iAFXEHRq9/H4K8+UPxqe7HoWAr8piam71vM/Tzai2pvCdLfxR3c/SJ5qNQBwDAQb9oPgKsAFGsGyreJYgJ77J47PEj37cnio8Mwe76kjTvm1Lxaa0TWNBo4a3yP+z/Fp9mjzasmS49N02a/61jr0kQQLy5Rlp4VfTysn7eL22TzLxxwrvr/f0NyOg5hP0N2Vnt7PtIvfdtTO7m73zSlcqotIqRcTdHn2g+CnUAABz0i+YjwAoQxXoO8nqXxXhfGI/USwu+k/gLXln/7H+xp7Wt9qcYE7Sn3XyMujlSL03tmf33IbK9sSLG73ecycirS6Rn74weOZXp5ndutKNNyc+n9Cz7hhc7q9MLs/zOC1Z0krR4RNzN0Seaj0IdAAAH/aL5CLACRLGew9IZ0ZAsBDtSn/07JE7vK+1YKT03NfNzEdEy3+4ekN39hy5hNK2Fj8BKOBl5NpvPY2k45O98ZsS5dNGLVEZgPfy9uJujTzQfhToAAA76RfMRYAWIYr2dSxSCxQu5WsKkOF9I531TevJG6S6vozYitlN6llRd6j6WVx8z4Es8jRZkC5sDK/R7+NjPDTiuANrnn9i/t34vd0zlzoypzIH10NVxN0efaD4KdQAAHPSL5iPAChDFOpKKDLmO1Hu/hHFntX2Z0PS+7tdO7SE99F3prbXe7oQW1N3XaDSTWnWpfVlg6VnZP5Yg22f7U59w3u+dGSX/QdmDw+Nuij7RfBTqAAA46BfNR4AVIIp1pMzPJYzpTuAc9N3XaLRst8XXSvd+JfvHkYn2+nI7vPa9bgp3Zgz9fbj3q973s+CyuJuiTzQfhToAAA76RfMRYAWIYh05IxN3X2vtybBptFCLHJXY1trUM1JfN96dGeNpCbg9br98WNxN0Seaj0IdAAAH/aL5CLACRLGOnNHUEDaxfORIrBRGZlWXZiYUo9Fo6bXIOzMm4/cS46k94o7yok80H4U6AAAO+kXzEWAFiGIdOSXR3ROrS6WK73v7AhuaLNpLKPbI971vl0ajpd/8jsB6Y4X/fcSZa4s+0XwU6gAAOOgXzUeAFSCKdeSkeHNqhQKueJcTzYiYaD58nUST0ifbLo1GC6aV9rbnz/I6D1ZTg7ThXv/7mRF7ri36RPNRqAMA4KBfNB8BVoAo1tEmhQKu7U9Im+6Xtj8ZzETzie6sSKPRgmtl/exLfOP9zjY12M+nEyrHGOlFn2g+CnUAABz0i+YjwAoQxTqQovDAa2e1VFPq/cv0jMhLHrm7Io3mbsd+J0KX+0b+7lVcl/4+Ysy11Z76xLq6Ot12223q2bOnOnfurCFDhqiystLz+nv37tWoUaN0yimnqEuXLho6dKieffZZ12sOHjyoqVOnatiwYTrjjDN0wgknaNCgQZo+fbo+//zzlI6bQh0AAEdr94u5Wj9kEwFWgNpTsQ5kXKIRWqVnSVWj3ZdHJZvTa2e1PYpswXcMCBRotCy1yPmqgrr5QjsfgVVYWKhu3bqpvLxc1dXVGjt2rCzL0pIlS5Kue/jwYQ0aNEi9e/dWRUWF1qxZo2uvvVYFBQVat25dy+u2b9+uU089Vb/+9a+1YsUKPffcc5o8ebKOO+44fec731Fzc7Pv4ybAAgDA0dr9Yq7WD9lEgBWg9lSsA63KyyWJXl/b1GAHWsWnxvkyfmy0yuyvSlN7Zj9woNGCbOHzYjU1BDMXXTufA+vpp5+WZVlaunSpa3lhYaF69eqlpqamhOvPmTNHlmVp06ZNLcsaGxt1/vnn66KLLmpZ9tlnn+mzzz6LWr+srEyWZemFF17wfewEWAAAOFqzX8zl+k1xr/UAACAASURBVCGbCLAC1F6KdaBNOFIvLb9JKu3j/jIePuH8kXpGbNHaZptxjjTvG8Fsq53fhXDs2LE68cQT1djY6Fq+dOlSWZaljRs3Jlz/sssu04ABA6KWl5SUyLIsvf/++wnXf/7552MWwF4QYAEA4GjNfjGX64dsIsAKUHsp1oE2xcuIrViXJnptd/aQik/JfmBBo2WiTTnFGc0V8XvUXvrEoUOH6sILL4xaHjr/Bx54IOH6PXr00MiRI6OWP/XUU7IsS6tXr064flFRkSzL0quvvurvwEWABQBAuNbsF3O5fsgmAqwAtZdiHWiXwu/GuPwm+7Kp8C/yJX2kh74rPVssbbjXfbfG0HxeNdPt9uT47AcPNFoQraRP7DsYlvXT6w/9ul30if3799cVV1wRtXzPnj2yLEslJSUJ1+/YsaPGjx8ftXzTpk1J/8/oq6++qi5dumjEiBFJj3Pv3r16/fXXXW327NkEWAAAHBMKsGbPnh3VZ+7duzfQfeVK/WAaAqwAEWAB7YifeblirVsx8tiXfY93TSztKz17p/TWGvsujYlGhIUmuX9rTdjdGWm0DLQpJx/7d+TnuKte/8UJOdcn1tTUyLIsT+2VV16RZBegw4cPj9pWqAAtLS1NuM+OHTvqxhtvjFoeKkDj3Y2otrZWffr00bnnnqt//OMfSc8t9H9aYzUCLAAAnAArVisqKoq7XluuH0xDgBUgAiwAnsW7NHFyN/fj0rPsSedjXdoYCtB2VtstVpiW7iWQNFqo3dnD1+tzMcDas2ePFixY4KmFir5sXAKwa9cunX322friF7+o3bt3ezo3RmABAJBYqiOw2nL9YBoCrAARYAHwLXIk15H61Ed2ednPYz/PfhBCy6127z/bl71O6+VrvVwMsFIxbty4mJOwVlZWepqEtbCwUOedd17U8tLSUlmWpQ8++MC1PFR89u3bV7t27Urr2JkDCwAAR2v2i7lcP2QTAVaACLAAGC+Vyxdp7btNSe0mBO0lwFq1apUsy9KyZctcy4cPH+7pNthz586VZVnasmVLy7LGxkYNHDhQF198seu17733ns4++2z16dNH77zzTtrHToAFAICjNfvFXK4fsokAK0AEWAByQrzLCsv62Zcrhl+OeOgTacF3sh+iELblXGsvAZZk/1/Q7t27a/78+aqurta4ceNkWZYqKipcrxs9erTy8/Nd/+fz8OHDGjhwoPr06aMlS5Zo7dq1GjFihAoKCrRu3bqW1+3du1df+tKX1LlzZ1VUVGjz5s2ulsqlAARYAAA4WrtfzNX6IZsIsAJEgAUgp3idiD5e4DXjHGnRNdF3ZJzW025elnkNRBZdk/VAhuavtacAq66uTrfeeqt69OihTp06afDgwTEnTx01apQsy1Jtba1r+Ycffqjrr79eJ598so477jgNHTpUa9eudb0m2QSxiSaXjYcACwAAR2v3i7laP2QTAVaACLAAtGnxAq9Yy70sO1IvPeLhLokV37df23LpIy0XWnsKsHIVARYAAA76RfMRYAWIAAsAfGpqsC9bjDUaa1pPqabUHZRVl0rFp2YvmGEkGAFWG0KhDgCAg37RfARYASLAAoAUNTXYc2/VTLfbzur4lzQeqZeW3ySV9G6lMObY/FsVI72PGqMRYOUACnUAABz0i+YjwAoQARYAtKLQJYnbn5A23S9tf9IOvipCAVOcid/nfkNaPEIq6eNeXtJHmvM1qfQs9/KyfvYcYOEjwZ6dKk3uHlxANuMc+9hffVQqPi3r4RMBVvtAoQ4AgIN+0XwEWAEiwAIAAyS6y2JkEOV1Tq9YjtRLT9wQPyjz09bNcLa77q6sh08EWO0DhToAAA76RfMRYAWIAAsADOI1iErXoU+kmV9OIeQJuzQx/NiaGtrEZYoEWOajUAcAwEG/aD4CrAARYAFAO9XUYE84P72vO8gp7S09eaP03NTkI8Iit1ddKk3tkfUgigCr7aJQBwDAQb9oPgKsABFgAUA7l2jUVyojwkKT2z83TXryF1L1NOmtNXZYFhmIGdYIsMxHoQ4AgIN+0XwEWAEiwAIAtJpQuDXvm1kPqwiwchOFOgAADvpF8xFgRdi3b5+uuuoqHX/88erfv7/WrFnjeV0CLABAqwtdbjitZ+JQaXK31AOpGedIvx9MgNXGUKgDAOCgXzQfAVaEkSNHavTo0aqvr9eKFSvUrVs3ffTRR57WJcACAGRNaERWzXS7vbXGfhy6ZPFIvf3f7U9Iy2+SZiS4BHHGOfZrtj/pXO7Y1CBVeJ9cngDLfBTqAAA46BfNR4AVpq6uTh07dtTu3btblg0bNkwPPvigp/UJsAAAOSN8Tq6d1e6wK978XE0N9sTzHiaXJ8AyH4U6AAAO+kXzWZ9++qluv/12FRYW6tRTT5VlWSoqKvK0cjrrpsvvvuvq6nTbbbepZ8+e6ty5s4YMGaLKykrXa7Zt26bu3bu7lt1yyy2aMGGCp2MiwAIAtAtH6qUF30kcYP33P9MnGo5CHQAAB/2i+aza2lp17dpVl1xyicaOHesrhEpn3XT53XdhYaG6deum8vJyVVdXt6yzZMmSltesX79effv2da03adIk3XDDDZ6OiQALANBuhEZjRd4NsayftG6GXn/1FfpEw1GoAwDgoF80n9Xc3Kzm5mZJ0v79+32FUOmse/DgQa1atSru8ytXrtRnn30WyL6ffvppWZalpUuXupYXFhaqV69eampqksQILAAAfAu/FDHs8kP6RPNRqAMA4KBfNJ9rDiy/IVQ6686cOVMdOnTQokWLop4rLy9XXl6e5s6dG8i+x44dqxNPPFGNjY2u5UuXLpVlWdq4caOk2HNgXXrppcyBBQCAT/SJ5qNQBwDAQb9ovqwFWJI0YcIE5eXlqby8vGXZrFmzZFmWJk2aFNi+hw4dqgsvvDBqeai4fuCBB1qWXXfddRozZowOHTqklStXqlu3btq/f3/C/RcVFcmyrJZGsQ4AaO8IsMxHoQ4AgIN+0XxZDbAke44py7I0a9YsTZ8+XZZlqbi4ONB99+/fX1dccUXU8j179siyLJWUlLQs27dvn6688kp16dJF/fr10+rVqz0fB8U6AAA2+kTzUagDAOCgXzRf1gMsSSouLm4ZvVRWVhb4vvv376/hw4dHLQ8FWKWlpb73GQvFOgAANvpE81GoAwDgoF80nxEB1sSJE5WXlyfLsnTHHXcEvm8/lxCmg2IdAAAbfaL5KNQBAHDQL5ovqwFWc3Ozbr75ZnXo0EELFy7UvHnzlJeXp4kTJwa673HjxsWcxL2ystI1iXu6KNYBALDRJ5qPQh0AAAf9ovmyFmAdPXpUY8aMUUFBgSorK1uWL1q0SPn5+brpppvU3NwcyL5XrVoly7K0bNky1/Lhw4erV69eampq8rSfZCjWAQCw0Seaj0IdAAAH/aL5LMkOeKqqqrRw4UJZlqWRI0eqqqpKVVVVqq+vlyStW7dO+fn5mjJlimsDXtaNpaysTJ06ddLy5cujnlu2bJkKCgp03333JTx4P/suLCxU9+7dNX/+fFVXV2vcuHGyLEsVFRXe3ikPKNYBALDRJ5qPQh0AAAf9ovksSerbt2/LJOqRrba2VpJUU1MTc5STl3VjOXTokDZt2hT3+Q0bNujIkSMJD97Pvuvq6nTrrbeqR48e6tSpkwYPHuwa+RUEinUAAGz0ieajUAcAwEG/aD4r+UvgFcU6AAA2+kTzUagDAOCgXzQfAVaAKNYBALDRJ5qPQh0AAAf9ovkIsAJEsQ4AgI0+0XwU6gAAOOgXzUeAFSCKdQAAbPSJ5qNQBwDAQb9oPgKsAFGsAwBgo080H4U6AAAO+kXzEWAFiGIdAAAbfaL5KNQBAHDQL5qPACtAFOsAANjoE81HoQ4AgIN+0XwEWAGiWAcAwEafaD4KdQAAHPSL5iPAChDFOgAANvpE81GoAwDgoF80HwFWgCjWAQCw0Seaj0IdAAAH/aL5CLACRLEOAICNPtF8FOoAADjoF81HgBUginUAAGz0ieajUAcAwEG/aD4CrABRrAMAYKNPNB+FOgAADvpF8xFgBYhiHQAAG32i+SjUAQBw0C+ajwArQBTrAADY6BPNR6EOAICDftF8BFgBolgHAMBGn2g+CnUAABz0i+YjwAoQxToAADb6RPNRqAMA4KBfNB8BVoAo1gEAsNEnmo9CHQAAB/2i+QiwAkSxDgCAjT7RfBTqAAA46BfNR4AVIIp1AABs9Inmo1AHAMBBv2g+AqwAUawDAGCjTzQfhToAAA76RfMRYAWIYh0AABt9ovko1AEAcNAvmo8AK0AU6wAA2OgTzUehDgCAg37RfARYAaJYBwDARp9oPgp1AAAc9IvmI8AKEMU6AAA2+kTzUagDAOCgXzQfAVaAKNYBALDRJ5qPQh0AAAf9ovkIsAJEsQ4AgI0+0XwU6gAAOOgXzUeAFSCKdQAAbPSJ5qNQBwDAQb9oPgKsAFGsAwBgo080H4U6AAAO+kXzEWAFiGIdAAAbfaL5KNQBAHDQL5qPACtAFOsAANjoE81HoQ4AgIN+0XwEWAGiWAcAwEafaD4KdQAAHPSL5iPAChDFOgAANvpE81GoAwDgoF80HwFWgCjWAQCw0Seaj0IdAAAH/aL5CLACRLEOAICNPtF8FOoAADjoF81HgBUginUAAGz0ieajUAcAwEG/aD4CrABRrAMAYKNPNB+FOgAADvpF8xFgBYhiHQAAG32i+SjUAQBw0C+ajwArQBTrAADY6BPNR6EOAICDftF8BFgBolgHAMBGn2g+CnUAABz0i+YjwAoQxToAADb6RPNRqAMA4KBfNB8BVoAo1gEAsNEnmo9CHQAAB/2i+QiwAkSxDgCAjT7RfBTqAAA46BfNR4AVIIp1AABs9Inmo1AHAMBBv2g+AqwAUawDAGCjTzQfhToAAA76RfMRYAWIYh0AABt9ovko1AEAcNAvmo8AK0AU6wAA2OgTzUehDgCAg37RfARYAaJYBwDARp9oPgp1AAAc9IvmI8AKEMU6AAA2+kTzUagDAOCgXzQfAVaAKNYBALDRJ5qPQh0AAAf9ovkIsAJEsQ4AgI0+0XwU6gAAOOgXzUeAFWbfvn266qqrdPzxx6t///5as2aNr/Up1gEAsNEnmo9CHQAAB/2i+QiwwowcOVKjR49WfX29VqxYoW7duumjjz7yvD7FOgAANvpE81GoAwDgoF80HwHWMXV1derYsaN2797dsmzYsGF68MEHPW+DYh0AABt9ovko1AEAcNAvmi9mgFVXV6fbbrtNPXv2VOfOnTVkyBBVVlZGva6mpkaWZcVsmzdvzuiBf/rpp7r99ttVWFioU089VZZlqaioKO7rk53Ttm3b1L17d9c6t9xyiyZMmOD5mCjWAQCw0Seaj0IdAAAH/aL5YgZYhYWF6tatm8rLy1VdXa2xY8fKsiwtWbLE9bpQgFVSUqLNmze7Wl1dXUYPvLa2Vl27dtUll1zScnyJAqxk57R+/Xr17dvXtc6kSZN0ww03eD4minUAAGz0ieajUAcAwEG/aL6oAOvpp5+WZVlaunSpa3lhYaF69eqlpqamlmWhAKuqqsr3jg8ePKhVq1bFfX7lypX67LPP4j7f3Nys5uZmSdL+/fsTBlhezokRWAAABIc+0XwU6gAAOOgXzRcVYI0dO1YnnniiGhsbXcuXLl0qy7K0cePGlmXpBFgzZ85Uhw4dtGjRoqjnysvLlZeXp7lz53raVrIAy8s5xZoD69JLL2UOLAAAUtCe+kSvUy/Es3fvXo0aNUqnnHKKunTpoqFDh+rZZ59NuM6hQ4fUv39/WZalsrKylI6bQh0AAEdr94u5Wj9kU1SANXToUF144YVRLwwVog888EDLslCAdfrppys/P19f+MIXdPnll+uFF17wtPMJEyYoLy9P5eXlLctmzZoly7I0adIkzyeRLMDyek7XXXedxowZo0OHDmnlypXq1q2b9u/fn3T/RUVFrvm/2kOxDgBAIu0pwPI69UIshw8f1qBBg9S7d29VVFRozZo1uvbaa1VQUKB169bFXW/ixInq1asXARYAAAFp7X4xV+uHbIoKsPr3768rrrgi6oV79uxpme8qZNu2bbrtttu0fPlyrV+/XgsXLtSXv/xl5efn65lnnvF0AJMmTZJlWZo1a5amT58uy7JUXFzs6ySSBVhez2nfvn268sor1aVLF/Xr10+rV6/2dRztqVgHACCR9tIn+pl6IZY5c+bIsixt2rSpZVljY6POP/98XXTRRTHXefHFF9WpUydVVVURYAEAEJDW7BdzuX7IppgB1vDhw6NeGAp7SktLE27wwIED6t27twYPHuz5IIqLi1tGL6XyJnoJsNI5J6/aS7EOAEAy7aVP9DP1QiyXXXaZBgwYELW8pKRElmXp/fffdy0/cuSIBg4cqF//+teqra0lwAIAICCt2S/mcv2QTWldQhjPjTfeKMuydOjQIU8HMXHiROXl5cmyLN1xxx2e1gkX1CWE6WovxToAAMm0lz4x3RqjR48eGjlyZNTyp556SpZlRY0Gv+OOO3T22Wfrs88+I8ACACBArdkv5nL9kE1RAda4ceNiJoGVlZWekkBJGj9+vCzL0ueff57wdc3Nzbr55pvVoUMHLVy4UPPmzVNeXp4mTpzo6ySSBVhBnJMX7aVYBwAgmfbSJ/qZeiGWjh07avz48VHLN23aFHVpwSuvvKKOHTu2TNPgpwDdu3evXn/9dVebPXs2ARYAAMeEAqzZs2dH9Zl79+4NdF+5Uj+YJirAWrVqlSzL0rJly1zLhw8f7ulazI8//lhnnnmmLrjggoSvO3r0qMaMGaOCggLXTPuLFi1Sfn6+brrpJjU3N3s6iWQBVrrn5FV7KdYBAEgmF/vE0M1pvLRXXnlFUvrTFHTs2FE33nhj1PJQARqqkRobG/WVr3xFP/3pT1te46cAjbzhTHgjwAIAwAmwYrV4WYPUtusH01j5+fmaMmWKa2FhYaG6d++u+fPnq7q6WuPGjZNlWaqoqHC97sc//rF++9vfqqqqSjU1NZo/f74GDBiggoICrV27NuGOy8rK1KlTJy1fvjzquWXLlqmgoED33Xdfwm2sWrVKVVVVWrhwoSzL0siRI1VVVaWqqirV19endE7pyMViHQCATMjFPnHPnj1asGCBp/aPf/xDUutdAlBWVqauXbvq7bff1oEDB3TgwAG9+uqrsixLd955pw4cOJDwf8gxAgsAgMRSHYHVlusH01ix0sS6ujrdeuut6tGjhzp16qTBgwe7RkmFlJaW6oILLlDXrl2Vn5+v0047TSNGjNDWrVuT7vjQoUOuGfMjbdiwQUeOHEm4jb59+8ZNNmtra1M6p3TkYrEOAEAmtJc+Md1pCgoLC3XeeedFLS8tLZVlWfrggw8kSaNGjfL8f3W9Yg4sAAAcrdkv5nL9kE1RlxAide2lWAcAIJn20iemO03B3LlzZVmWtmzZ0rKssbFRAwcO1MUXX9yy7K9//atqampcLVTk3njjjaqpqVFdXZ2vYyfAAgDA0Zr9Yi7XD9lEgBWg9lKsAwCQTHvqE71OUzB69Gjl5+dr165dLcsOHz6sgQMHqk+fPlqyZInWrl2rESNGqKCgQOvWrUu4X+5CCABAcFq7X8zV+iGbCLAC1J6KdQAAEmlPfaLXaQpCw/gjpzn48MMPdf311+vkk0/Wcccdp6FDhyadS1QiwAIAIEit3S/mav2QTQRYAWpPxToAAInQJ5qPAAsAAAf9ovkIsAJEsQ4AgI0+0XwU6gAAOOgXzUeAFSCKdQAAbPSJ5qNQBwDAQb9oPgKsAFGsAwBgo080H4U6AAAO+kXzEWAFiGIdAAAbfaL5KNQBAHDQL5qPACtAFOsAANjoE81HoQ4AgIN+0XwEWAGiWAcAwEafaD4KdQAAHPSL5iPAChDFOgAANvpE81GoAwDgoF80HwFWgCjWAQCw0Seaj0IdAAAH/aL5CLACRLEOAICNPtF8FOoAADjoF81HgBUginUAAGz0ieajUAcAwEG/aD4CrABRrAMAYKNPNB+FOgAADvpF8xFgBYhiHQAAG32i+SjUAQBw0C+ajwArQBTrAADY6BPNR6EOAICDftF8BFgBolgHAMBGn2g+CnUAABz0i+YjwAoQxToAADb6RPNRqAMA4KBfNB8BVoAo1gEAsNEnmo9CHQAAB/2i+QiwAkSxDgCAjT7RfBTqAAA46BfNR4AVIIp1AABs9Inmo1AHAMBBv2g+AqwAUawDAGCjTzQfhToAAA76RfMRYAWIYh0AABt9ovko1AEAcNAvmo8AK0AU6wAA2OgTzUehDgCAg37RfARYAaJYBwDARp9oPgp1AAAc9IvmI8AKEMU6AAA2+kTzUagDAOCgXzQfAVaAKNYBALDRJ5qPQh0AAAf9ovkIsAJEsQ4AgI0+0XwU6gAAOOgXzUeAFSCKdQAAbPSJ5vNSqDc2Nmrfvn1699139c4779ByvL377rvat2+fGhsbW/GTBgC5gQDLfARYAaJYBwDARp9ovmSFenNzs2pra7Vjxw69+eabWQ9faOm3N998Uzt27NCuXbvU3Nzcyp84ADAbAZb5CLACRLEOAICNPtF8yQr1gwcPaseOHfrggw8IO9qI5uZmffDBB9qxY4cOHjyY7cMBAKMQYJmPACtAFOsAANjoE82XrFDfvXu3duzYweVmbUxjY6N27Nih3bt3Z/tQAMAoBFjmI8AKEMU6AAA2+kTzJSvU3333Xb311lutfFRoDW+99ZbefffdbB8GABiFAMt8BFgBolgHAMBGn2i+ZIX6O++8o507d7byUaE17Ny5U++88062DwMAjEKAZT4CrABRrAMAYKNPNJ+XAIuQo23iZwsA0QiwzEeAFSCKdQAAbPSJ5iPAar/42QJANAIs8xFgBYhiHQAAG32i+bIWYDU0SDU10hNP2P9taAh+H0k89NBDsiwrZps4cWLL6/r27et67oQTTtBFF12khx9+uFWOc+PGjSoqKtKBAwcC3S4BFgBEI8AyHwFWgCjWAQCw0Sear9UDrIYGqbhYOuMMybKc1qOHvbwVg6xQgPXQQw9p8+bNrvbee++1vK5v3776+te/3vJcVVWVLr74YlmWpblz52b8OMvKymRZlmprawPdLgEWAEQjwDIfAVaAKNYBALDRJ5qvVQOshgbpqqvswCovzx1ghR5ffXWrhVihAOull15K+Lq+ffvq6quvdi07cOCATjrpJPXr18/3fuvr6329ngALAFoPAZb5CLACRLEOAICNPtF8rRpgFRe7Q6t47c47g9lfEukEWJJ04YUXqmPHjgnXHTVqlE444QS99tprKiws1IknnqihQ4dKktasWaPvfe97OvPMM9W5c2edc845uuGGG7R///6W9YuKimJe4lhTU9PymmXLlmno0KE6/vjjdcIJJ+jyyy/Xtm3bkp4/ARYARCPAMh8BVoAo1gEAsNEnmq/VAqyGBvuywciRV5EtL8++nLAVRmGFAqwtW7aosbHR1cLFCrAaGhp0+umnq1evXgn3MWrUKHXs2FFnn322SktL9dxzz2n16tWSpHnz5qm0tFR/+tOf9Pzzz+vhhx/WkCFDNGDAADUcO//du3frl7/8pSzL0pNPPtlyGePBgwclSdOmTVNeXp5Gjx6tp556Sk8++aS+9rWv6YQTTtAbb7yR8NgIsAAgGgGW+QiwAkSxDgCAjT7RfGkFWLfdJg0b5q0NGeJt9FWoDRnifdvDhtnH4lOiSdzDQ6y+ffvqqquuagm3amtrNWrUKFmWpdtvvz3hPkKvW7hwYcLXNTc3q7GxUe+9954sy9KKFStanot3CeHf//53FRQU6Je//KVreV1dnXr06KEf/OAHCfdJgAUA0QiwzEeAFSCKdQAAbPSJ5ksrwBo2zF8olck2bJjvcw8FWIsXL9ZLL73kauEi70JoWZa6dOmiX/7ylzpy5EjCfYQCrNCIqXB79+7V+PHj1bt3b3Xo0MG1/enTp7e8Ll6AtWDBgpZLICNHkP3whz/U6aefnvDYCLAAIBoBlvkIsAJEsQ4AgI0+0XyMwPI2B9Y3vvENvfTSS/rzn/+sHTt2JA2uQkaNGqXjjz8+avnRo0c1ZMgQnXbaaZo9e7Zqamq0detWbdmyRZZlqaioqOW18QKsqVOnxh1BZlmWOnTokPDYCLAAIBoBlvkIsAJEsQ4AgI0+0XzMgZX6JO5ehCZxj/Tqq6/KsiwtWrTItfztt9/2HGCVl5fLsiw9/vjjUSPIYo0ki0SABQDRCLDMR4AVIIp1AABs9Inm4y6E2QmwXnvtNVmWpcrKStfy3/zmN1EB1uzZs2VZlnbs2OF6bW1trQoKCnTXXXeldGwEWAAQjQDLfARYAaJYB/D/27v/4Cjq+4/jHyC5JARMAik/YmNCIYFChPYPNO0MUKQnAVTKlFQZW2mREGZoZYTSGnQaBhD4Sp22dECUKThyIdBIG2oT+SFJrAOxBaQMNIAFEuWHJuBEElBKMK/vH5k7DJeE4N3t7V2ej5nPOC6fu9t9s+y+73V7ewBacE60P0sDrOvXpSlTbl5pdeuVV8a0/LkFV19JwQ2wrl+/rsGDByslJUVbtmzRzp07NW/ePKWnp3sFWOXl5TLGKDc3V/v379eBAwfU0NAgSVqxYoUiIiKUm5urv/71r6qoqNC2bdu0cOFC/eY3v+lw3QiwAMAbAZb9EWD5Ec06AAAtOCfan6UBltQSTi1b1vI1wS8HWAMGtCy3KLySghtgSVJVVZWcTqd69+6thIQEZWdn68MPP/QKsCQpLy9PSUlJnpu9l5eXe/6suLhY48eP11133aWoqCilpKRo+vTpeuuttzpcNwIsAPBGgGV/BFh+RLMOAEALzon2Z3mA5Xb9ulReLm3f3vJfC4MrtCDAAgBvBFj2R4DlRzTrAAC04Jxof0ELsBB0/N0CgDcCLPsjwPIjjV5vMwAAFq5JREFUmnUAAFpwTrQ/Aqyui79bAPBGgGV/BFh+RLMOAEALzon2R4DVdfF3CwDeCLDsjwDLj2jWAQBowTnR/giwui7+bgHAGwGW/RFgSaqrq9PkyZPVs2dPpaWlaffu3V/peWjWAQBowTnR/joTYJ06dcritYIVTp06RYAFALcgwLI/AixJ2dnZmjVrlq5evaodO3YoPj5ely5duuPnoVkHAKAF50T7u12jfubMGb3//vsWrxWs8P777+vMmTPBXg0AsBUCLPvr8gFWY2OjIiMjdfbsWc+ycePG6U9/+tMdPxfNOgAALTgn2t/tGvWzZ8+qqqpKTU1NFq8ZAqmpqUlVVVWtel8AAAFWKAi5AKuhoUGLFi2S0+lUYmKijDHKz89vc25jY6Pmz5+vgQMHKioqSqNGjVJhYWGrOe+9954SEhJaLfv5z3+uBQsW3PG60awDANCCc6L93a5Rv3z5sqqqqnT+/Hk1NzdbvHYIhObmZp0/f15VVVW6fPlysFcHAGyFAMv+Qi7Aqq6uVlxcnMaOHavZs2d3GGA5nU7Fx8dr/fr1Kisr88wvKCjwzPnHP/6hlJSUVo9bvHix5syZc8frRrMOAEALzon2d7tGvbm5WTU1NaqqqtLJkyc9901ihOY4deqUTp48qaqqKtXU1BBKAsAtCLDsL+QCrObmZs8J9+LFi+0GWCUlJTLGaMuWLa2WO51OJSUl6caNG5K4AgsAgEDgnGh/nWnUm5qaVFdXpzNnzgQ9gGH4Ps6cOaO6ujq+FgoAbSDAsr+QC7C+rKMAa/bs2erVq5fXCXrLli0yxmjfvn2S2r4H1ve+973b3gOrtrZWx44dazXcOzzNOgCgqyPAsj8adQAAbuK8aH9hG2BlZmZq9OjRXsvdDfXLL7/sWTZ9+nQ9+eST+uyzz/TGG28oPj5eFy9e7PC18/PzZYxpc9CsAwC6OgIs+6NRBwDgJs6L9he2AVZaWpomTpzotfzChQsyxmjFihWeZXV1dZo0aZJiYmI0ZMgQ7dq167avzRVYAAC0jwDL/mjUAQC4ifOi/YV1gJWVleW13B1grVy50u/rQ7MOAEALzon2R6MOAMBNnBftL2wDrDv5CqG/0KwDANCCc6L90agDAHAT50X7C9sAKycnp82buBcWFra6ibs/0awDANCCc6L90agDAHAT50X7C9sAq7S0VMYYbd26tdXyrKwsJSUl6caNG35fn0OHDnl2+Fvvj8VgMBgMRlca7ibw0KFDfj/fwj9cLpeMMcrLy1NxcTGDwWAwGF165OXlyRgjl8sV7FM02hGSAVZpaamKioq0ceNGGWOUnZ2toqIiFRUV6erVq555TqdTCQkJeuWVV1RWVqacnJyA7pCvvvpqu79MyGAwGAxGVxzFxXyKaVfuRp3BYDAYDMbNkZeXF+xTNNoRkgFWSkpKuztbdXW1Z15jY6OeeuopDRgwQA6HQyNHjlRhYWHA1mv//v0yxujPf/5z0D/5DvdRXHzz8s5gr0u4D2pNncNtUGtrxqFDh1RcXKz6+vqAnXfhm+rqauXl5cnlcgX9U28rx5o1a2SM0Zo1a4K+LqE8qCO1tNugjtTS1+FyuZSXl9cqU4C9hGSAZVfHjnG/D6tQa+tQa2tQZ+tQa6Br4xjgH9TRf6ilf1BH/6GWsCsCLD/iH7p1qLV1qLU1qLN1qDXQtXEM8A/q6D/U0j+oo/9QS9gVAZYf8Q/dOtTaOtTaGtTZOtQa6No4BvgHdfQfaukf1NF/qCXsigDLj/iHbh1qbR1qbQ3qbB1qDXRtHAP8gzr6D7X0D+roP9QSdkWA5Ue1tbXKz89XbW1tsFcl7FFr61Bra1Bn61BroGvjGOAf1NF/qKV/UEf/oZawKwIsAAAAAAAA2BoBFgAAAAAAAGyNAAsAAAAAAAC2RoAFAAAAAAAAWyPAAgAAAAAAgK0RYPlBY2Oj5s+fr4EDByoqKkqjRo1SYWFhsFcrZDQ0NGjRokVyOp1KTEyUMUb5+fltzj106JAmTJig2NhYxcXFadq0aTp9+nSbc9esWaOhQ4fK4XAoNTVVS5Ys0fXr1wO4Jfa2d+9e/exnP9PQoUPVs2dPJSUl6ZFHHtHBgwe95lJn3xw+fFiTJ09WcnKyoqOjlZCQoMzMTG3evNlrLrX2rw0bNsgYo9jYWK8/o9ZA+PO1J6utrdXMmTPVt29fxcTEKDMzU2+99VaHj/nss8+UlpYmY4xWr17t6ybYghV1vHz5spYvX65x48apf//+io2NVUZGhlatWqXPP//c35sUUL7U6072uT179igzM1MxMTHq27evZs6cGXa/EhfoWobTftcRq/ZJt3A8DsKeCLD8wOl0Kj4+XuvXr1dZWZlmz54tY4wKCgqCvWohobq6WnFxcRo7dqyndm0FWMePH1fv3r01ZswYlZSUaPv27RoxYoSSkpJUV1fXau7y5cvVrVs35eXlqby8XC+88IIcDodycnIs2ir7mT59usaPH69169apoqJCRUVFyszMVEREhPbu3euZR519V15ertzcXG3evFllZWV644039Nhjj8kYo2XLlnnmUWv/OnfunOLi4pSUlOQVYFFroGvwpSe7du2aMjIy9PWvf10ul0u7d+/W1KlTFRERoYqKinYft3DhQiUlJYXVGzcr6nj06FElJibq6aef1o4dO7R3714tWbJE0dHRmjBhgpqbmwO5iX71Vet1J/tcRUWFIiIiNHXqVO3evVsul0t33323MjIydO3atUBunqUCXctw2u86YsU++WXheByEPRFg+aikpETGGG3ZsqXVcqfTqaSkJN24cSNIaxY6mpubPSeLixcvthtgZWdnKzExUZcvX/Ysq6mpUWRkpH71q195ll26dEnR0dGaM2dOq8c///zz6tatm/7zn/8EZkNsrq1P6BobG9W/f39NmDDBs4w6B87999+v5ORkz/9Ta/966KGH9PDDD2vmzJleARa1BsKfrz3Z2rVrZYzR/v37Pcuampo0fPhw3XfffW0+5p///KccDoeKiorC5o2bVXW8cuWKrly54vX41atXyxijd955x8ctsYYv9bqTfW706NEaPny4mpqaPMv27dsnY4zWrVvnp60JLitqGS77XUes2ifdwvE4CPsiwPLR7Nmz1atXr1YnE0nasmWLjDHat29fkNYsNLUXYDU1NSkmJka5ublej3nwwQeVlpbm+X+XyyVjjCorK1vNu3Dhgowxev755wOy7qFq/PjxSk9Pl0SdA23KlCkaNGiQJGrtb5s3b1bv3r119uxZrwCLWgNdg6892fe//30NHTrUa/mKFStkjNG5c+daLf/f//6nESNG6Omnn1Z1dXXYvHGzuo63evvtt9t8821XvtSrs7U6d+6cjDFauXKl19z09HQ5nU4ft8IerKhle0Jtv+uIlXUM1+Mg7IsAy0eZmZkaPXq01/Jjx47JGKOXX345CGsVutoLsE6cOCFjjNauXev1mF/+8pfq1q2b53vrzzzzjIwxbX66kpiYqBkzZgRk3UPRp59+6rkXkESd/e2LL75QU1OT6urqtHbtWkVERGj9+vWSqLU/1dbWqm/fvp5a3hpgUWuga/C1JxswYICys7O9lv/973+XMUa7du1qtfzZZ59Vamqqrly5ElZv3Kyu463y8/NljNGRI0fubMWDxJd6dbZWO3fulDFGJSUlXnOnT5+ugQMH+rAF9mFFLdsTavtdR6ysY7geB2FfBFg+SktL08SJE72Wuz+tX7FiRRDWKnS1F2C5L5Fu6+aD7k8ELly4IEnKyclRVFRUm8+fnp6uBx980O/rHaoef/xxRUREeG7kTp39Kzc3V8YYGWPkcDhaXeJPrf3nhz/8ob773e96vop8a4BFrYGuwdeeLDIyss0rNffv3+91Zcbhw4cVGRmpnTt3SlJYvXGzso63OnLkiGJiYjwfrIUCX+rV2VoVFBS0eXWwJM2ZM0cOh8OHLbAPK2rZllDc7zpiVR3D+TgI+yLA8lFaWpqysrK8lrsPEG1d6ov23S7A2rp1q9dj3G9AP/roI0ktb0Cjo6PbfP709PQ2D+hd0XPPPSdjjP74xz96llFn//rggw904MABlZSUaO7cuerevbvnpE6t/eP111+Xw+FodW+q9gIsag2EjvLycs8HALcbhw8fluR7TxYZGam5c+d6LXe/cXOH4E1NTfr2t7+tH//4x545dn3jZuc63qq6ulrJyclKT0/XJ5988hW2Njh8qVdna+UOsN59912vuXPmzGn3g5dQY0UtbxWq+11HrKhjKB0HEV4IsHzEVwj9y59fIbx69arXXL4C1GLJkiVt3s+HOgfW3LlzFRERobq6OmrtB+4fIVi4cKHq6+s9Y8aMGYqNjVV9fb2uXLlCrYEQdOHCBW3YsKFTw/2m06qvvq1evVpxcXH673//6znuHDlyRMa0/NJsfX29bX7Ex851/LKamhqlpqZq0KBBOnv27Ffc2uDgK4T+Y/VXCEN5v+uIFXUMpeMgwgsBlo9ycnLavEleYWHhbW+SB2+3u4l7W58ITJw4sdVNmNv7lOqjjz5qM7Tpatzh1ZIlS7z+jDoH1saNGz01o9a+c3/S19GYOnUqtQa6CF97MqfTqWHDhnktX7lypYwxOn/+vKSWqzw7ezVTKLKqjm7uECElJUU1NTW+b4DFfKlXZ2vlvon7qlWrvOYOHTo0bG7ibkUt3UJ9v+uIFXUM9+Mg7IsAy0elpaVtfjUlKyurUz81jNbaC7Ak6Uc/+pH69eunhoYGz7IPPvhADodDv/71rz3LPvnkE0VHR3u9WV25cqW6devW6qtGXc3SpUtljNFzzz3X7hzqHDg/+clP1L17d9XV1Umi1r76/PPPVV5e7jUmTpyo6OholZeX6+jRo5KoNdAV+NqTrVu3zivAbmpq0ogRI3T//fd7lh0/ftzruON+Yzh37lyVl5ersbHRvxtnIavqKLUch1NTU5WcnKzTp0/7byMs5Eu97qRW9913nzIyMlo9X2VlpYwxeumll/y0NcFlVS3DYb/riBV1DPfjIOyLAMsPnE6nEhIS9Morr6isrEw5OTkyxsjlcgV71UJGaWmpioqKPFeoZGdnq6ioSEVFRZ6v8hw/fly9evXS2LFjVVpaqr/85S/KyMhQUlKSJxBwW758ubp166bFixeroqJCq1evVlRUlHJycoKxebbw29/+VsYYZWVlqbKy0mu4UWff5eTkaOHChdq2bZsqKir0+uuv69FHH5UxRosWLfLMo9aBces9sCRqDXQVne3JZs2apR49erS68uLatWsaMWKEkpOTVVBQoD179mjatGmKiIhQRUVFh68bbvd+saKOtbW1+sY3vqGoqCi5XC6vviSUvtLVmXr5us+Vl5crIiJC06ZN0549e1RQUKDk5GRlZGTo2rVrlm1roAW6luG033XEin3yVuF2HIQ9EWD5QWNjo5566ikNGDBADodDI0eObPdGgWhbSkpKu5efVldXe+YdPHhQEyZMUM+ePXXXXXfpBz/4gU6dOtXmc/7hD39Qenq6HA6H7rnnHuXn5+v69esWbZH9jBs3rsPLfL+MOvtm48aNGjNmjBITExUREaH4+HiNGzdOmzdv9ppLrf2vrQBLotZAV9DZnsz99Zcv9xiS9PHHH+uJJ55Qnz59FB0drczMTO3Zs+e2rxtub9ysqOPtbjDf1tX4dtWZevljn9u9e7cyMzMVHR2tPn366IknnlBtbW2gNisoAl3LcNrvOmLVPvll4XYchD0RYAEAAAAAAMDWCLAAAAAAAABgawRYAAAAAAAAsDUCLAAAAAAAANgaARYAAAAAAABsjQALAAAAAAAAtkaABQAAAAAAAFsjwAIAAAAAAICtEWABAAAAAADA1giwAATcpk2bZIxpd5SXlwdt3aqrq2WM0erVq4O2DgAAwF7oXQDAfgiwAAScuwnctGmTKisrvcbly5eDtm40gQAA4Fb0LgBgPwRYAALO3QQeOHAg2KvihSYQAADcit4FAOyHAAtAwHW2CTTGaN68eVq/fr3S0tLkcDj0zW9+U4WFhV5zjx49qkceeUTx8fGKiorSqFGj9Oqrr3rNq6+v14IFCzRo0CA5HA597Wtf06RJk3T8+HFJrZvAF198UampqYqNjVVmZqYqKytbPdfp06f16KOPauDAgXI4HOrXr58eeOABHT582IfqAAAAu6F3AQD7IcACEHDuJvDdd99VU1NTq3Hjxg3PPGOMkpOTNXz4cBUWFupvf/ubsrKyZIxRUVGRZ96JEyfUu3dvDR48WK+99ppKSko0Y8YMGWP0f//3f555DQ0NGjFihGJjY7V06VLt2rVL27dv1/z581VWVibpZhOYmpqqrKwsFRcXq7i4WPfee68SEhL06aefep5v6NChGjJkiDZv3qy3335b27dv18KFC4N6HwwAAOB/9C4AYD8EWAACrqMbofbo0cMzzxijmJgYffzxx55lN27c0LBhwzRkyBDPsscee0xRUVH68MMPW73OpEmT1LNnT0/jtnTpUhljtGfPnnbXzd0E3nvvva0a0n/9618yxng+Qb106ZKMMfr973/vWzEAAIDt0bsAgP0QYAEIOHcT+Nprr+nAgQOtxsGDBz3zjDF66KGHvB6fn58vY4zOnj0rSerXr58mT57sNW/btm0yxujNN9+UJH3nO99Renp6h+vmbgKfeeaZVsuvXbsmY4xWrVolSWpubtbgwYN1991368UXX9R7772nL7744s4KAQAAQgK9CwDYDwEWgIC7k/tIzJ4922v5Sy+9JGOM/v3vf0uSevTooSeffNJr3jvvvCNjjFwulyRpyJAheuCBBzp8zY5uhGqMUX5+vuf/a2pqNGvWLPXv31/GGPXp00e/+MUv1NDQ0OFrAACA0ELvAgD2Q4AFIODupAn0x6eYO3fulHRnn2J2pgn8spMnT2rZsmXq0aOHcnNzO3wNAAAQWuhdAMB+CLAABNydNIHt3Udi8ODBnmUzZsxQdHS0zp8/3+rxU6ZMafM+Env37m33Nb9qE+j2rW99S6NHj+5wDgAACC30LgBgPwRYAALO3QRu2rRJlZWVXqOurk5Sx7/ks3XrVs/zuX/JJz09XS6XS6WlpXr88cdljNELL7zgmef+JZ9evXpp+fLl2r17t3bs2KEFCxZ4/ZLP7ZrAI0eOaMyYMVqzZo3efPNN7d27V88++6y6d++uxYsXB7B6AADAavQuAGA/BFgAAq6jX/IxxmjDhg2SWpquefPmad26dRo8eLAiIyM1bNgwFRQUeD3n0aNH9fDDDysuLk4Oh0OjRo3Spk2bvObV19dr/vz5uueeexQZGal+/fppypQpOnHihKTON4G1tbX66U9/qmHDhik2Nla9evXSyJEj9bvf/a7VLwABAIDQR+8CAPZDgAXANtxNIAAAQCigdwEA6xBgAbANmkAAABBK6F0AwDoEWABsgyYQAACEEnoXALAOARYAAAAAAABsjQALAAAAAAAAtkaABQAAAAAAAFsjwAIAAAAAAICtEWABAAAAAADA1giwAAAAAAAAYGsEWAAAAAAAALA1AiwAAAAAAADYGgEWAAAAAAAAbI0ACwAAAAAAALZGgAUAAAAAAABbI8ACAAAAAACArRFgAQAAAAAAwNYIsAAAAAAAAGBrBFgAAAAAAACwNQIsAAAAAAAA2BoBFgAAAAAAAGyNAAsAAAAAAAC2RoAFAAAAAAAAWyPAAgAAAAAAgK0RYAEAAAAAAMDWCLAAAAAAAABga/8PWs4ngkux8Y8AAAAASUVORK5CYII=\" width=\"1000\">"
      ],
      "text/plain": [
       "<IPython.core.display.HTML object>"
      ]
     },
     "metadata": {},
     "output_type": "display_data"
    }
   ],
   "source": [
    "ax, tax, lax, lines = dual_train_plots()\n",
    "fig = ax.figure\n",
    "plt.tight_layout()"
   ]
  },
  {
   "cell_type": "code",
   "execution_count": 17,
   "metadata": {
    "scrolled": false
   },
   "outputs": [
    {
     "name": "stdout",
     "output_type": "stream",
     "text": [
      "Number of batches: train = 1125, val = 125\n"
     ]
    },
    {
     "data": {
      "application/vnd.jupyter.widget-view+json": {
       "model_id": "0dca18959c9142b8be8bec64edfad4ce",
       "version_major": 2,
       "version_minor": 0
      },
      "text/plain": [
       "HBox(children=(FloatProgress(value=0.0, description='Epochs', layout=Layout(flex='2'), max=500.0, style=Progre…"
      ]
     },
     "metadata": {},
     "output_type": "display_data"
    },
    {
     "name": "stdout",
     "output_type": "stream",
     "text": [
      "Number of batches: train = 1125, val = 125\n"
     ]
    },
    {
     "data": {
      "application/vnd.jupyter.widget-view+json": {
       "model_id": "",
       "version_major": 2,
       "version_minor": 0
      },
      "text/plain": [
       "HBox(children=(FloatProgress(value=0.0, description='Training', layout=Layout(flex='2'), max=1125.0, style=Pro…"
      ]
     },
     "metadata": {},
     "output_type": "display_data"
    },
    {
     "name": "stdout",
     "output_type": "stream",
     "text": [
      "Epoch 0: train=1.2945, val=1.15476, took 38.165 s\n"
     ]
    },
    {
     "data": {
      "application/vnd.jupyter.widget-view+json": {
       "model_id": "",
       "version_major": 2,
       "version_minor": 0
      },
      "text/plain": [
       "HBox(children=(FloatProgress(value=0.0, description='Training', layout=Layout(flex='2'), max=1125.0, style=Pro…"
      ]
     },
     "metadata": {},
     "output_type": "display_data"
    },
    {
     "name": "stdout",
     "output_type": "stream",
     "text": [
      "Epoch 1: train=1.29676, val=1.14979, took 38.639 s\n"
     ]
    },
    {
     "data": {
      "application/vnd.jupyter.widget-view+json": {
       "model_id": "",
       "version_major": 2,
       "version_minor": 0
      },
      "text/plain": [
       "HBox(children=(FloatProgress(value=0.0, description='Training', layout=Layout(flex='2'), max=1125.0, style=Pro…"
      ]
     },
     "metadata": {},
     "output_type": "display_data"
    },
    {
     "name": "stdout",
     "output_type": "stream",
     "text": [
      "Epoch 2: train=1.29433, val=1.15149, took 38.776 s\n"
     ]
    },
    {
     "data": {
      "application/vnd.jupyter.widget-view+json": {
       "model_id": "",
       "version_major": 2,
       "version_minor": 0
      },
      "text/plain": [
       "HBox(children=(FloatProgress(value=0.0, description='Training', layout=Layout(flex='2'), max=1125.0, style=Pro…"
      ]
     },
     "metadata": {},
     "output_type": "display_data"
    },
    {
     "name": "stdout",
     "output_type": "stream",
     "text": [
      "Epoch 3: train=1.29877, val=1.14611, took 38.834 s\n"
     ]
    },
    {
     "data": {
      "application/vnd.jupyter.widget-view+json": {
       "model_id": "",
       "version_major": 2,
       "version_minor": 0
      },
      "text/plain": [
       "HBox(children=(FloatProgress(value=0.0, description='Training', layout=Layout(flex='2'), max=1125.0, style=Pro…"
      ]
     },
     "metadata": {},
     "output_type": "display_data"
    },
    {
     "name": "stdout",
     "output_type": "stream",
     "text": [
      "Epoch 4: train=1.29616, val=1.14855, took 38.823 s\n"
     ]
    },
    {
     "data": {
      "application/vnd.jupyter.widget-view+json": {
       "model_id": "",
       "version_major": 2,
       "version_minor": 0
      },
      "text/plain": [
       "HBox(children=(FloatProgress(value=0.0, description='Training', layout=Layout(flex='2'), max=1125.0, style=Pro…"
      ]
     },
     "metadata": {},
     "output_type": "display_data"
    },
    {
     "name": "stdout",
     "output_type": "stream",
     "text": [
      "Epoch 5: train=1.29211, val=1.15196, took 38.7 s\n"
     ]
    },
    {
     "data": {
      "application/vnd.jupyter.widget-view+json": {
       "model_id": "",
       "version_major": 2,
       "version_minor": 0
      },
      "text/plain": [
       "HBox(children=(FloatProgress(value=0.0, description='Training', layout=Layout(flex='2'), max=1125.0, style=Pro…"
      ]
     },
     "metadata": {},
     "output_type": "display_data"
    },
    {
     "name": "stdout",
     "output_type": "stream",
     "text": [
      "Epoch 6: train=1.29534, val=1.14564, took 39.472 s\n"
     ]
    },
    {
     "data": {
      "application/vnd.jupyter.widget-view+json": {
       "model_id": "",
       "version_major": 2,
       "version_minor": 0
      },
      "text/plain": [
       "HBox(children=(FloatProgress(value=0.0, description='Training', layout=Layout(flex='2'), max=1125.0, style=Pro…"
      ]
     },
     "metadata": {},
     "output_type": "display_data"
    },
    {
     "name": "stdout",
     "output_type": "stream",
     "text": [
      "Epoch 7: train=1.29601, val=1.14973, took 39.173 s\n"
     ]
    },
    {
     "data": {
      "application/vnd.jupyter.widget-view+json": {
       "model_id": "",
       "version_major": 2,
       "version_minor": 0
      },
      "text/plain": [
       "HBox(children=(FloatProgress(value=0.0, description='Training', layout=Layout(flex='2'), max=1125.0, style=Pro…"
      ]
     },
     "metadata": {},
     "output_type": "display_data"
    },
    {
     "name": "stdout",
     "output_type": "stream",
     "text": [
      "Epoch 8: train=1.29026, val=1.1504, took 39.317 s\n"
     ]
    },
    {
     "data": {
      "application/vnd.jupyter.widget-view+json": {
       "model_id": "",
       "version_major": 2,
       "version_minor": 0
      },
      "text/plain": [
       "HBox(children=(FloatProgress(value=0.0, description='Training', layout=Layout(flex='2'), max=1125.0, style=Pro…"
      ]
     },
     "metadata": {},
     "output_type": "display_data"
    },
    {
     "name": "stdout",
     "output_type": "stream",
     "text": [
      "Epoch 9: train=1.29806, val=1.14623, took 39.501 s\n"
     ]
    },
    {
     "data": {
      "application/vnd.jupyter.widget-view+json": {
       "model_id": "",
       "version_major": 2,
       "version_minor": 0
      },
      "text/plain": [
       "HBox(children=(FloatProgress(value=0.0, description='Training', layout=Layout(flex='2'), max=1125.0, style=Pro…"
      ]
     },
     "metadata": {},
     "output_type": "display_data"
    },
    {
     "name": "stdout",
     "output_type": "stream",
     "text": [
      "Epoch 10: train=1.29375, val=1.15182, took 38.992 s\n"
     ]
    },
    {
     "data": {
      "application/vnd.jupyter.widget-view+json": {
       "model_id": "",
       "version_major": 2,
       "version_minor": 0
      },
      "text/plain": [
       "HBox(children=(FloatProgress(value=0.0, description='Training', layout=Layout(flex='2'), max=1125.0, style=Pro…"
      ]
     },
     "metadata": {},
     "output_type": "display_data"
    },
    {
     "name": "stdout",
     "output_type": "stream",
     "text": [
      "Epoch 11: train=1.29609, val=1.14798, took 39.406 s\n"
     ]
    },
    {
     "data": {
      "application/vnd.jupyter.widget-view+json": {
       "model_id": "",
       "version_major": 2,
       "version_minor": 0
      },
      "text/plain": [
       "HBox(children=(FloatProgress(value=0.0, description='Training', layout=Layout(flex='2'), max=1125.0, style=Pro…"
      ]
     },
     "metadata": {},
     "output_type": "display_data"
    },
    {
     "name": "stdout",
     "output_type": "stream",
     "text": [
      "Epoch 12: train=1.29644, val=1.15207, took 39.234 s\n"
     ]
    },
    {
     "data": {
      "application/vnd.jupyter.widget-view+json": {
       "model_id": "",
       "version_major": 2,
       "version_minor": 0
      },
      "text/plain": [
       "HBox(children=(FloatProgress(value=0.0, description='Training', layout=Layout(flex='2'), max=1125.0, style=Pro…"
      ]
     },
     "metadata": {},
     "output_type": "display_data"
    },
    {
     "name": "stdout",
     "output_type": "stream",
     "text": [
      "Epoch 13: train=1.28981, val=1.15033, took 39.2 s\n"
     ]
    },
    {
     "data": {
      "application/vnd.jupyter.widget-view+json": {
       "model_id": "",
       "version_major": 2,
       "version_minor": 0
      },
      "text/plain": [
       "HBox(children=(FloatProgress(value=0.0, description='Training', layout=Layout(flex='2'), max=1125.0, style=Pro…"
      ]
     },
     "metadata": {},
     "output_type": "display_data"
    },
    {
     "name": "stdout",
     "output_type": "stream",
     "text": [
      "Epoch 14: train=1.29249, val=1.15402, took 39.021 s\n"
     ]
    },
    {
     "data": {
      "application/vnd.jupyter.widget-view+json": {
       "model_id": "",
       "version_major": 2,
       "version_minor": 0
      },
      "text/plain": [
       "HBox(children=(FloatProgress(value=0.0, description='Training', layout=Layout(flex='2'), max=1125.0, style=Pro…"
      ]
     },
     "metadata": {},
     "output_type": "display_data"
    },
    {
     "name": "stdout",
     "output_type": "stream",
     "text": [
      "Epoch 15: train=1.29105, val=1.14856, took 39.111 s\n"
     ]
    },
    {
     "data": {
      "application/vnd.jupyter.widget-view+json": {
       "model_id": "",
       "version_major": 2,
       "version_minor": 0
      },
      "text/plain": [
       "HBox(children=(FloatProgress(value=0.0, description='Training', layout=Layout(flex='2'), max=1125.0, style=Pro…"
      ]
     },
     "metadata": {},
     "output_type": "display_data"
    },
    {
     "name": "stdout",
     "output_type": "stream",
     "text": [
      "Epoch 16: train=1.29158, val=1.15205, took 39.53 s\n"
     ]
    },
    {
     "data": {
      "application/vnd.jupyter.widget-view+json": {
       "model_id": "",
       "version_major": 2,
       "version_minor": 0
      },
      "text/plain": [
       "HBox(children=(FloatProgress(value=0.0, description='Training', layout=Layout(flex='2'), max=1125.0, style=Pro…"
      ]
     },
     "metadata": {},
     "output_type": "display_data"
    },
    {
     "name": "stdout",
     "output_type": "stream",
     "text": [
      "Epoch 17: train=1.29192, val=1.14567, took 39.327 s\n"
     ]
    },
    {
     "data": {
      "application/vnd.jupyter.widget-view+json": {
       "model_id": "",
       "version_major": 2,
       "version_minor": 0
      },
      "text/plain": [
       "HBox(children=(FloatProgress(value=0.0, description='Training', layout=Layout(flex='2'), max=1125.0, style=Pro…"
      ]
     },
     "metadata": {},
     "output_type": "display_data"
    },
    {
     "name": "stdout",
     "output_type": "stream",
     "text": [
      "Epoch 18: train=1.29213, val=1.14603, took 38.511 s\n"
     ]
    },
    {
     "data": {
      "application/vnd.jupyter.widget-view+json": {
       "model_id": "",
       "version_major": 2,
       "version_minor": 0
      },
      "text/plain": [
       "HBox(children=(FloatProgress(value=0.0, description='Training', layout=Layout(flex='2'), max=1125.0, style=Pro…"
      ]
     },
     "metadata": {},
     "output_type": "display_data"
    },
    {
     "name": "stdout",
     "output_type": "stream",
     "text": [
      "Epoch 19: train=1.2914, val=1.14895, took 39.966 s\n"
     ]
    },
    {
     "data": {
      "application/vnd.jupyter.widget-view+json": {
       "model_id": "",
       "version_major": 2,
       "version_minor": 0
      },
      "text/plain": [
       "HBox(children=(FloatProgress(value=0.0, description='Training', layout=Layout(flex='2'), max=1125.0, style=Pro…"
      ]
     },
     "metadata": {},
     "output_type": "display_data"
    },
    {
     "name": "stdout",
     "output_type": "stream",
     "text": [
      "Epoch 20: train=1.29049, val=1.16115, took 39.314 s\n"
     ]
    },
    {
     "data": {
      "application/vnd.jupyter.widget-view+json": {
       "model_id": "",
       "version_major": 2,
       "version_minor": 0
      },
      "text/plain": [
       "HBox(children=(FloatProgress(value=0.0, description='Training', layout=Layout(flex='2'), max=1125.0, style=Pro…"
      ]
     },
     "metadata": {},
     "output_type": "display_data"
    },
    {
     "name": "stdout",
     "output_type": "stream",
     "text": [
      "Epoch 21: train=1.29314, val=1.15552, took 38.773 s\n"
     ]
    },
    {
     "data": {
      "application/vnd.jupyter.widget-view+json": {
       "model_id": "",
       "version_major": 2,
       "version_minor": 0
      },
      "text/plain": [
       "HBox(children=(FloatProgress(value=0.0, description='Training', layout=Layout(flex='2'), max=1125.0, style=Pro…"
      ]
     },
     "metadata": {},
     "output_type": "display_data"
    },
    {
     "name": "stdout",
     "output_type": "stream",
     "text": [
      "Epoch 22: train=1.29345, val=1.16445, took 38.633 s\n"
     ]
    },
    {
     "data": {
      "application/vnd.jupyter.widget-view+json": {
       "model_id": "",
       "version_major": 2,
       "version_minor": 0
      },
      "text/plain": [
       "HBox(children=(FloatProgress(value=0.0, description='Training', layout=Layout(flex='2'), max=1125.0, style=Pro…"
      ]
     },
     "metadata": {},
     "output_type": "display_data"
    },
    {
     "name": "stdout",
     "output_type": "stream",
     "text": [
      "Epoch 23: train=1.29281, val=1.1453, took 39.674 s\n"
     ]
    },
    {
     "data": {
      "application/vnd.jupyter.widget-view+json": {
       "model_id": "",
       "version_major": 2,
       "version_minor": 0
      },
      "text/plain": [
       "HBox(children=(FloatProgress(value=0.0, description='Training', layout=Layout(flex='2'), max=1125.0, style=Pro…"
      ]
     },
     "metadata": {},
     "output_type": "display_data"
    },
    {
     "name": "stdout",
     "output_type": "stream",
     "text": [
      "Epoch 24: train=1.29108, val=1.14411, took 40.053 s\n"
     ]
    },
    {
     "data": {
      "application/vnd.jupyter.widget-view+json": {
       "model_id": "",
       "version_major": 2,
       "version_minor": 0
      },
      "text/plain": [
       "HBox(children=(FloatProgress(value=0.0, description='Training', layout=Layout(flex='2'), max=1125.0, style=Pro…"
      ]
     },
     "metadata": {},
     "output_type": "display_data"
    },
    {
     "name": "stdout",
     "output_type": "stream",
     "text": [
      "Epoch 25: train=1.29305, val=1.15092, took 38.328 s\n"
     ]
    },
    {
     "data": {
      "application/vnd.jupyter.widget-view+json": {
       "model_id": "",
       "version_major": 2,
       "version_minor": 0
      },
      "text/plain": [
       "HBox(children=(FloatProgress(value=0.0, description='Training', layout=Layout(flex='2'), max=1125.0, style=Pro…"
      ]
     },
     "metadata": {},
     "output_type": "display_data"
    },
    {
     "name": "stdout",
     "output_type": "stream",
     "text": [
      "Epoch 26: train=1.28965, val=1.14639, took 38.433 s\n"
     ]
    },
    {
     "data": {
      "application/vnd.jupyter.widget-view+json": {
       "model_id": "",
       "version_major": 2,
       "version_minor": 0
      },
      "text/plain": [
       "HBox(children=(FloatProgress(value=0.0, description='Training', layout=Layout(flex='2'), max=1125.0, style=Pro…"
      ]
     },
     "metadata": {},
     "output_type": "display_data"
    },
    {
     "name": "stdout",
     "output_type": "stream",
     "text": [
      "Epoch 27: train=1.29063, val=1.14698, took 38.43 s\n"
     ]
    },
    {
     "data": {
      "application/vnd.jupyter.widget-view+json": {
       "model_id": "",
       "version_major": 2,
       "version_minor": 0
      },
      "text/plain": [
       "HBox(children=(FloatProgress(value=0.0, description='Training', layout=Layout(flex='2'), max=1125.0, style=Pro…"
      ]
     },
     "metadata": {},
     "output_type": "display_data"
    },
    {
     "name": "stdout",
     "output_type": "stream",
     "text": [
      "Epoch 28: train=1.29253, val=1.1447, took 38.456 s\n"
     ]
    },
    {
     "data": {
      "application/vnd.jupyter.widget-view+json": {
       "model_id": "",
       "version_major": 2,
       "version_minor": 0
      },
      "text/plain": [
       "HBox(children=(FloatProgress(value=0.0, description='Training', layout=Layout(flex='2'), max=1125.0, style=Pro…"
      ]
     },
     "metadata": {},
     "output_type": "display_data"
    },
    {
     "name": "stdout",
     "output_type": "stream",
     "text": [
      "Epoch 29: train=1.2929, val=1.15313, took 38.925 s\n"
     ]
    },
    {
     "data": {
      "application/vnd.jupyter.widget-view+json": {
       "model_id": "",
       "version_major": 2,
       "version_minor": 0
      },
      "text/plain": [
       "HBox(children=(FloatProgress(value=0.0, description='Training', layout=Layout(flex='2'), max=1125.0, style=Pro…"
      ]
     },
     "metadata": {},
     "output_type": "display_data"
    },
    {
     "name": "stdout",
     "output_type": "stream",
     "text": [
      "Epoch 30: train=1.29089, val=1.15808, took 38.885 s\n"
     ]
    },
    {
     "data": {
      "application/vnd.jupyter.widget-view+json": {
       "model_id": "",
       "version_major": 2,
       "version_minor": 0
      },
      "text/plain": [
       "HBox(children=(FloatProgress(value=0.0, description='Training', layout=Layout(flex='2'), max=1125.0, style=Pro…"
      ]
     },
     "metadata": {},
     "output_type": "display_data"
    },
    {
     "name": "stdout",
     "output_type": "stream",
     "text": [
      "Epoch 31: train=1.29178, val=1.14739, took 38.96 s\n"
     ]
    },
    {
     "data": {
      "application/vnd.jupyter.widget-view+json": {
       "model_id": "",
       "version_major": 2,
       "version_minor": 0
      },
      "text/plain": [
       "HBox(children=(FloatProgress(value=0.0, description='Training', layout=Layout(flex='2'), max=1125.0, style=Pro…"
      ]
     },
     "metadata": {},
     "output_type": "display_data"
    },
    {
     "name": "stdout",
     "output_type": "stream",
     "text": [
      "Epoch 32: train=1.28816, val=1.1445, took 39.161 s\n"
     ]
    },
    {
     "data": {
      "application/vnd.jupyter.widget-view+json": {
       "model_id": "",
       "version_major": 2,
       "version_minor": 0
      },
      "text/plain": [
       "HBox(children=(FloatProgress(value=0.0, description='Training', layout=Layout(flex='2'), max=1125.0, style=Pro…"
      ]
     },
     "metadata": {},
     "output_type": "display_data"
    },
    {
     "name": "stdout",
     "output_type": "stream",
     "text": [
      "Epoch 33: train=1.29268, val=1.14282, took 39.05 s\n"
     ]
    },
    {
     "data": {
      "application/vnd.jupyter.widget-view+json": {
       "model_id": "",
       "version_major": 2,
       "version_minor": 0
      },
      "text/plain": [
       "HBox(children=(FloatProgress(value=0.0, description='Training', layout=Layout(flex='2'), max=1125.0, style=Pro…"
      ]
     },
     "metadata": {},
     "output_type": "display_data"
    },
    {
     "name": "stdout",
     "output_type": "stream",
     "text": [
      "Epoch 34: train=1.28744, val=1.14583, took 39.244 s\n"
     ]
    },
    {
     "data": {
      "application/vnd.jupyter.widget-view+json": {
       "model_id": "",
       "version_major": 2,
       "version_minor": 0
      },
      "text/plain": [
       "HBox(children=(FloatProgress(value=0.0, description='Training', layout=Layout(flex='2'), max=1125.0, style=Pro…"
      ]
     },
     "metadata": {},
     "output_type": "display_data"
    },
    {
     "name": "stdout",
     "output_type": "stream",
     "text": [
      "Epoch 35: train=1.28883, val=1.1443, took 45.273 s\n"
     ]
    },
    {
     "data": {
      "application/vnd.jupyter.widget-view+json": {
       "model_id": "",
       "version_major": 2,
       "version_minor": 0
      },
      "text/plain": [
       "HBox(children=(FloatProgress(value=0.0, description='Training', layout=Layout(flex='2'), max=1125.0, style=Pro…"
      ]
     },
     "metadata": {},
     "output_type": "display_data"
    },
    {
     "name": "stdout",
     "output_type": "stream",
     "text": [
      "Epoch 36: train=1.29392, val=1.14343, took 40.761 s\n"
     ]
    },
    {
     "data": {
      "application/vnd.jupyter.widget-view+json": {
       "model_id": "",
       "version_major": 2,
       "version_minor": 0
      },
      "text/plain": [
       "HBox(children=(FloatProgress(value=0.0, description='Training', layout=Layout(flex='2'), max=1125.0, style=Pro…"
      ]
     },
     "metadata": {},
     "output_type": "display_data"
    },
    {
     "name": "stdout",
     "output_type": "stream",
     "text": [
      "Epoch 37: train=1.28669, val=1.14218, took 40.028 s\n"
     ]
    },
    {
     "data": {
      "application/vnd.jupyter.widget-view+json": {
       "model_id": "",
       "version_major": 2,
       "version_minor": 0
      },
      "text/plain": [
       "HBox(children=(FloatProgress(value=0.0, description='Training', layout=Layout(flex='2'), max=1125.0, style=Pro…"
      ]
     },
     "metadata": {},
     "output_type": "display_data"
    },
    {
     "name": "stdout",
     "output_type": "stream",
     "text": [
      "Epoch 38: train=1.29193, val=1.14681, took 38.927 s\n"
     ]
    },
    {
     "data": {
      "application/vnd.jupyter.widget-view+json": {
       "model_id": "",
       "version_major": 2,
       "version_minor": 0
      },
      "text/plain": [
       "HBox(children=(FloatProgress(value=0.0, description='Training', layout=Layout(flex='2'), max=1125.0, style=Pro…"
      ]
     },
     "metadata": {},
     "output_type": "display_data"
    },
    {
     "name": "stdout",
     "output_type": "stream",
     "text": [
      "Epoch 39: train=1.28544, val=1.18524, took 38.543 s\n"
     ]
    },
    {
     "data": {
      "application/vnd.jupyter.widget-view+json": {
       "model_id": "",
       "version_major": 2,
       "version_minor": 0
      },
      "text/plain": [
       "HBox(children=(FloatProgress(value=0.0, description='Training', layout=Layout(flex='2'), max=1125.0, style=Pro…"
      ]
     },
     "metadata": {},
     "output_type": "display_data"
    },
    {
     "name": "stdout",
     "output_type": "stream",
     "text": [
      "Epoch 40: train=1.29435, val=1.14107, took 38.857 s\n"
     ]
    },
    {
     "data": {
      "application/vnd.jupyter.widget-view+json": {
       "model_id": "",
       "version_major": 2,
       "version_minor": 0
      },
      "text/plain": [
       "HBox(children=(FloatProgress(value=0.0, description='Training', layout=Layout(flex='2'), max=1125.0, style=Pro…"
      ]
     },
     "metadata": {},
     "output_type": "display_data"
    },
    {
     "name": "stdout",
     "output_type": "stream",
     "text": [
      "Epoch 41: train=1.28736, val=1.15136, took 38.518 s\n"
     ]
    },
    {
     "data": {
      "application/vnd.jupyter.widget-view+json": {
       "model_id": "",
       "version_major": 2,
       "version_minor": 0
      },
      "text/plain": [
       "HBox(children=(FloatProgress(value=0.0, description='Training', layout=Layout(flex='2'), max=1125.0, style=Pro…"
      ]
     },
     "metadata": {},
     "output_type": "display_data"
    },
    {
     "name": "stdout",
     "output_type": "stream",
     "text": [
      "Epoch 42: train=1.29136, val=1.14715, took 38.86 s\n"
     ]
    },
    {
     "data": {
      "application/vnd.jupyter.widget-view+json": {
       "model_id": "",
       "version_major": 2,
       "version_minor": 0
      },
      "text/plain": [
       "HBox(children=(FloatProgress(value=0.0, description='Training', layout=Layout(flex='2'), max=1125.0, style=Pro…"
      ]
     },
     "metadata": {},
     "output_type": "display_data"
    },
    {
     "name": "stdout",
     "output_type": "stream",
     "text": [
      "Epoch 43: train=1.29037, val=1.15973, took 38.628 s\n"
     ]
    },
    {
     "data": {
      "application/vnd.jupyter.widget-view+json": {
       "model_id": "",
       "version_major": 2,
       "version_minor": 0
      },
      "text/plain": [
       "HBox(children=(FloatProgress(value=0.0, description='Training', layout=Layout(flex='2'), max=1125.0, style=Pro…"
      ]
     },
     "metadata": {},
     "output_type": "display_data"
    },
    {
     "name": "stdout",
     "output_type": "stream",
     "text": [
      "Epoch 44: train=1.29025, val=1.17215, took 38.784 s\n"
     ]
    },
    {
     "data": {
      "application/vnd.jupyter.widget-view+json": {
       "model_id": "",
       "version_major": 2,
       "version_minor": 0
      },
      "text/plain": [
       "HBox(children=(FloatProgress(value=0.0, description='Training', layout=Layout(flex='2'), max=1125.0, style=Pro…"
      ]
     },
     "metadata": {},
     "output_type": "display_data"
    },
    {
     "name": "stdout",
     "output_type": "stream",
     "text": [
      "Epoch 45: train=1.28899, val=1.1462, took 38.909 s\n"
     ]
    },
    {
     "data": {
      "application/vnd.jupyter.widget-view+json": {
       "model_id": "",
       "version_major": 2,
       "version_minor": 0
      },
      "text/plain": [
       "HBox(children=(FloatProgress(value=0.0, description='Training', layout=Layout(flex='2'), max=1125.0, style=Pro…"
      ]
     },
     "metadata": {},
     "output_type": "display_data"
    },
    {
     "name": "stdout",
     "output_type": "stream",
     "text": [
      "Epoch 46: train=1.28781, val=1.14791, took 38.499 s\n"
     ]
    },
    {
     "data": {
      "application/vnd.jupyter.widget-view+json": {
       "model_id": "",
       "version_major": 2,
       "version_minor": 0
      },
      "text/plain": [
       "HBox(children=(FloatProgress(value=0.0, description='Training', layout=Layout(flex='2'), max=1125.0, style=Pro…"
      ]
     },
     "metadata": {},
     "output_type": "display_data"
    },
    {
     "name": "stdout",
     "output_type": "stream",
     "text": [
      "Epoch 47: train=1.28699, val=1.14936, took 38.55 s\n"
     ]
    },
    {
     "data": {
      "application/vnd.jupyter.widget-view+json": {
       "model_id": "",
       "version_major": 2,
       "version_minor": 0
      },
      "text/plain": [
       "HBox(children=(FloatProgress(value=0.0, description='Training', layout=Layout(flex='2'), max=1125.0, style=Pro…"
      ]
     },
     "metadata": {},
     "output_type": "display_data"
    },
    {
     "name": "stdout",
     "output_type": "stream",
     "text": [
      "Epoch 48: train=1.28744, val=1.14462, took 38.838 s\n"
     ]
    },
    {
     "data": {
      "application/vnd.jupyter.widget-view+json": {
       "model_id": "",
       "version_major": 2,
       "version_minor": 0
      },
      "text/plain": [
       "HBox(children=(FloatProgress(value=0.0, description='Training', layout=Layout(flex='2'), max=1125.0, style=Pro…"
      ]
     },
     "metadata": {},
     "output_type": "display_data"
    },
    {
     "name": "stdout",
     "output_type": "stream",
     "text": [
      "Epoch 49: train=1.28499, val=1.14377, took 38.977 s\n"
     ]
    },
    {
     "data": {
      "application/vnd.jupyter.widget-view+json": {
       "model_id": "",
       "version_major": 2,
       "version_minor": 0
      },
      "text/plain": [
       "HBox(children=(FloatProgress(value=0.0, description='Training', layout=Layout(flex='2'), max=1125.0, style=Pro…"
      ]
     },
     "metadata": {},
     "output_type": "display_data"
    },
    {
     "name": "stdout",
     "output_type": "stream",
     "text": [
      "Epoch 50: train=1.28649, val=1.14259, took 38.776 s\n"
     ]
    },
    {
     "data": {
      "application/vnd.jupyter.widget-view+json": {
       "model_id": "",
       "version_major": 2,
       "version_minor": 0
      },
      "text/plain": [
       "HBox(children=(FloatProgress(value=0.0, description='Training', layout=Layout(flex='2'), max=1125.0, style=Pro…"
      ]
     },
     "metadata": {},
     "output_type": "display_data"
    },
    {
     "name": "stdout",
     "output_type": "stream",
     "text": [
      "Epoch 51: train=1.2885, val=1.15586, took 38.624 s\n"
     ]
    },
    {
     "data": {
      "application/vnd.jupyter.widget-view+json": {
       "model_id": "",
       "version_major": 2,
       "version_minor": 0
      },
      "text/plain": [
       "HBox(children=(FloatProgress(value=0.0, description='Training', layout=Layout(flex='2'), max=1125.0, style=Pro…"
      ]
     },
     "metadata": {},
     "output_type": "display_data"
    },
    {
     "name": "stdout",
     "output_type": "stream",
     "text": [
      "Epoch 52: train=1.28456, val=1.14363, took 38.758 s\n"
     ]
    },
    {
     "data": {
      "application/vnd.jupyter.widget-view+json": {
       "model_id": "",
       "version_major": 2,
       "version_minor": 0
      },
      "text/plain": [
       "HBox(children=(FloatProgress(value=0.0, description='Training', layout=Layout(flex='2'), max=1125.0, style=Pro…"
      ]
     },
     "metadata": {},
     "output_type": "display_data"
    },
    {
     "name": "stdout",
     "output_type": "stream",
     "text": [
      "Epoch 53: train=1.28842, val=1.14149, took 38.951 s\n"
     ]
    },
    {
     "data": {
      "application/vnd.jupyter.widget-view+json": {
       "model_id": "",
       "version_major": 2,
       "version_minor": 0
      },
      "text/plain": [
       "HBox(children=(FloatProgress(value=0.0, description='Training', layout=Layout(flex='2'), max=1125.0, style=Pro…"
      ]
     },
     "metadata": {},
     "output_type": "display_data"
    },
    {
     "name": "stdout",
     "output_type": "stream",
     "text": [
      "Epoch 54: train=1.29032, val=1.15167, took 38.721 s\n"
     ]
    },
    {
     "data": {
      "application/vnd.jupyter.widget-view+json": {
       "model_id": "",
       "version_major": 2,
       "version_minor": 0
      },
      "text/plain": [
       "HBox(children=(FloatProgress(value=0.0, description='Training', layout=Layout(flex='2'), max=1125.0, style=Pro…"
      ]
     },
     "metadata": {},
     "output_type": "display_data"
    },
    {
     "name": "stdout",
     "output_type": "stream",
     "text": [
      "Epoch 55: train=1.28699, val=1.14329, took 38.45 s\n"
     ]
    },
    {
     "data": {
      "application/vnd.jupyter.widget-view+json": {
       "model_id": "",
       "version_major": 2,
       "version_minor": 0
      },
      "text/plain": [
       "HBox(children=(FloatProgress(value=0.0, description='Training', layout=Layout(flex='2'), max=1125.0, style=Pro…"
      ]
     },
     "metadata": {},
     "output_type": "display_data"
    },
    {
     "name": "stdout",
     "output_type": "stream",
     "text": [
      "Epoch 56: train=1.28907, val=1.16705, took 38.352 s\n"
     ]
    },
    {
     "data": {
      "application/vnd.jupyter.widget-view+json": {
       "model_id": "",
       "version_major": 2,
       "version_minor": 0
      },
      "text/plain": [
       "HBox(children=(FloatProgress(value=0.0, description='Training', layout=Layout(flex='2'), max=1125.0, style=Pro…"
      ]
     },
     "metadata": {},
     "output_type": "display_data"
    },
    {
     "name": "stdout",
     "output_type": "stream",
     "text": [
      "Epoch 57: train=1.29115, val=1.14453, took 38.594 s\n"
     ]
    },
    {
     "data": {
      "application/vnd.jupyter.widget-view+json": {
       "model_id": "",
       "version_major": 2,
       "version_minor": 0
      },
      "text/plain": [
       "HBox(children=(FloatProgress(value=0.0, description='Training', layout=Layout(flex='2'), max=1125.0, style=Pro…"
      ]
     },
     "metadata": {},
     "output_type": "display_data"
    },
    {
     "name": "stdout",
     "output_type": "stream",
     "text": [
      "Epoch 58: train=1.28576, val=1.14893, took 38.39 s\n"
     ]
    },
    {
     "data": {
      "application/vnd.jupyter.widget-view+json": {
       "model_id": "",
       "version_major": 2,
       "version_minor": 0
      },
      "text/plain": [
       "HBox(children=(FloatProgress(value=0.0, description='Training', layout=Layout(flex='2'), max=1125.0, style=Pro…"
      ]
     },
     "metadata": {},
     "output_type": "display_data"
    },
    {
     "name": "stdout",
     "output_type": "stream",
     "text": [
      "Epoch 59: train=1.28526, val=1.14268, took 38.433 s\n"
     ]
    },
    {
     "data": {
      "application/vnd.jupyter.widget-view+json": {
       "model_id": "",
       "version_major": 2,
       "version_minor": 0
      },
      "text/plain": [
       "HBox(children=(FloatProgress(value=0.0, description='Training', layout=Layout(flex='2'), max=1125.0, style=Pro…"
      ]
     },
     "metadata": {},
     "output_type": "display_data"
    },
    {
     "name": "stdout",
     "output_type": "stream",
     "text": [
      "Epoch 60: train=1.29068, val=1.14416, took 38.553 s\n"
     ]
    },
    {
     "data": {
      "application/vnd.jupyter.widget-view+json": {
       "model_id": "",
       "version_major": 2,
       "version_minor": 0
      },
      "text/plain": [
       "HBox(children=(FloatProgress(value=0.0, description='Training', layout=Layout(flex='2'), max=1125.0, style=Pro…"
      ]
     },
     "metadata": {},
     "output_type": "display_data"
    },
    {
     "name": "stdout",
     "output_type": "stream",
     "text": [
      "Epoch 61: train=1.28639, val=1.14222, took 38.594 s\n"
     ]
    },
    {
     "data": {
      "application/vnd.jupyter.widget-view+json": {
       "model_id": "",
       "version_major": 2,
       "version_minor": 0
      },
      "text/plain": [
       "HBox(children=(FloatProgress(value=0.0, description='Training', layout=Layout(flex='2'), max=1125.0, style=Pro…"
      ]
     },
     "metadata": {},
     "output_type": "display_data"
    },
    {
     "name": "stdout",
     "output_type": "stream",
     "text": [
      "Epoch 62: train=1.29069, val=1.13878, took 39.103 s\n"
     ]
    },
    {
     "data": {
      "application/vnd.jupyter.widget-view+json": {
       "model_id": "",
       "version_major": 2,
       "version_minor": 0
      },
      "text/plain": [
       "HBox(children=(FloatProgress(value=0.0, description='Training', layout=Layout(flex='2'), max=1125.0, style=Pro…"
      ]
     },
     "metadata": {},
     "output_type": "display_data"
    },
    {
     "name": "stdout",
     "output_type": "stream",
     "text": [
      "Epoch 63: train=1.28861, val=1.14456, took 39.022 s\n"
     ]
    },
    {
     "data": {
      "application/vnd.jupyter.widget-view+json": {
       "model_id": "",
       "version_major": 2,
       "version_minor": 0
      },
      "text/plain": [
       "HBox(children=(FloatProgress(value=0.0, description='Training', layout=Layout(flex='2'), max=1125.0, style=Pro…"
      ]
     },
     "metadata": {},
     "output_type": "display_data"
    },
    {
     "name": "stdout",
     "output_type": "stream",
     "text": [
      "Epoch 64: train=1.28446, val=1.15727, took 38.513 s\n"
     ]
    },
    {
     "data": {
      "application/vnd.jupyter.widget-view+json": {
       "model_id": "",
       "version_major": 2,
       "version_minor": 0
      },
      "text/plain": [
       "HBox(children=(FloatProgress(value=0.0, description='Training', layout=Layout(flex='2'), max=1125.0, style=Pro…"
      ]
     },
     "metadata": {},
     "output_type": "display_data"
    },
    {
     "name": "stdout",
     "output_type": "stream",
     "text": [
      "Epoch 65: train=1.28826, val=1.14114, took 39.162 s\n"
     ]
    },
    {
     "data": {
      "application/vnd.jupyter.widget-view+json": {
       "model_id": "",
       "version_major": 2,
       "version_minor": 0
      },
      "text/plain": [
       "HBox(children=(FloatProgress(value=0.0, description='Training', layout=Layout(flex='2'), max=1125.0, style=Pro…"
      ]
     },
     "metadata": {},
     "output_type": "display_data"
    },
    {
     "name": "stdout",
     "output_type": "stream",
     "text": [
      "Epoch 66: train=1.2873, val=1.14049, took 39.081 s\n"
     ]
    },
    {
     "data": {
      "application/vnd.jupyter.widget-view+json": {
       "model_id": "",
       "version_major": 2,
       "version_minor": 0
      },
      "text/plain": [
       "HBox(children=(FloatProgress(value=0.0, description='Training', layout=Layout(flex='2'), max=1125.0, style=Pro…"
      ]
     },
     "metadata": {},
     "output_type": "display_data"
    },
    {
     "name": "stdout",
     "output_type": "stream",
     "text": [
      "Epoch 67: train=1.28905, val=1.14608, took 38.673 s\n"
     ]
    },
    {
     "data": {
      "application/vnd.jupyter.widget-view+json": {
       "model_id": "",
       "version_major": 2,
       "version_minor": 0
      },
      "text/plain": [
       "HBox(children=(FloatProgress(value=0.0, description='Training', layout=Layout(flex='2'), max=1125.0, style=Pro…"
      ]
     },
     "metadata": {},
     "output_type": "display_data"
    },
    {
     "name": "stdout",
     "output_type": "stream",
     "text": [
      "Epoch 68: train=1.28576, val=1.14305, took 38.443 s\n"
     ]
    },
    {
     "data": {
      "application/vnd.jupyter.widget-view+json": {
       "model_id": "",
       "version_major": 2,
       "version_minor": 0
      },
      "text/plain": [
       "HBox(children=(FloatProgress(value=0.0, description='Training', layout=Layout(flex='2'), max=1125.0, style=Pro…"
      ]
     },
     "metadata": {},
     "output_type": "display_data"
    },
    {
     "name": "stdout",
     "output_type": "stream",
     "text": [
      "Epoch 69: train=1.28448, val=1.1406, took 39.018 s\n"
     ]
    },
    {
     "data": {
      "application/vnd.jupyter.widget-view+json": {
       "model_id": "",
       "version_major": 2,
       "version_minor": 0
      },
      "text/plain": [
       "HBox(children=(FloatProgress(value=0.0, description='Training', layout=Layout(flex='2'), max=1125.0, style=Pro…"
      ]
     },
     "metadata": {},
     "output_type": "display_data"
    },
    {
     "name": "stdout",
     "output_type": "stream",
     "text": [
      "Epoch 70: train=1.28789, val=1.15148, took 39.003 s\n"
     ]
    },
    {
     "data": {
      "application/vnd.jupyter.widget-view+json": {
       "model_id": "",
       "version_major": 2,
       "version_minor": 0
      },
      "text/plain": [
       "HBox(children=(FloatProgress(value=0.0, description='Training', layout=Layout(flex='2'), max=1125.0, style=Pro…"
      ]
     },
     "metadata": {},
     "output_type": "display_data"
    },
    {
     "name": "stdout",
     "output_type": "stream",
     "text": [
      "Epoch 71: train=1.28582, val=1.14111, took 38.891 s\n"
     ]
    },
    {
     "data": {
      "application/vnd.jupyter.widget-view+json": {
       "model_id": "",
       "version_major": 2,
       "version_minor": 0
      },
      "text/plain": [
       "HBox(children=(FloatProgress(value=0.0, description='Training', layout=Layout(flex='2'), max=1125.0, style=Pro…"
      ]
     },
     "metadata": {},
     "output_type": "display_data"
    },
    {
     "name": "stdout",
     "output_type": "stream",
     "text": [
      "Epoch 72: train=1.28368, val=1.14076, took 38.413 s\n"
     ]
    },
    {
     "data": {
      "application/vnd.jupyter.widget-view+json": {
       "model_id": "",
       "version_major": 2,
       "version_minor": 0
      },
      "text/plain": [
       "HBox(children=(FloatProgress(value=0.0, description='Training', layout=Layout(flex='2'), max=1125.0, style=Pro…"
      ]
     },
     "metadata": {},
     "output_type": "display_data"
    },
    {
     "name": "stdout",
     "output_type": "stream",
     "text": [
      "Epoch 73: train=1.28532, val=1.1399, took 38.742 s\n"
     ]
    },
    {
     "data": {
      "application/vnd.jupyter.widget-view+json": {
       "model_id": "",
       "version_major": 2,
       "version_minor": 0
      },
      "text/plain": [
       "HBox(children=(FloatProgress(value=0.0, description='Training', layout=Layout(flex='2'), max=1125.0, style=Pro…"
      ]
     },
     "metadata": {},
     "output_type": "display_data"
    },
    {
     "name": "stdout",
     "output_type": "stream",
     "text": [
      "Epoch 74: train=1.28453, val=1.14862, took 38.568 s\n"
     ]
    },
    {
     "data": {
      "application/vnd.jupyter.widget-view+json": {
       "model_id": "",
       "version_major": 2,
       "version_minor": 0
      },
      "text/plain": [
       "HBox(children=(FloatProgress(value=0.0, description='Training', layout=Layout(flex='2'), max=1125.0, style=Pro…"
      ]
     },
     "metadata": {},
     "output_type": "display_data"
    },
    {
     "name": "stdout",
     "output_type": "stream",
     "text": [
      "Epoch 75: train=1.28548, val=1.14864, took 38.703 s\n"
     ]
    },
    {
     "data": {
      "application/vnd.jupyter.widget-view+json": {
       "model_id": "",
       "version_major": 2,
       "version_minor": 0
      },
      "text/plain": [
       "HBox(children=(FloatProgress(value=0.0, description='Training', layout=Layout(flex='2'), max=1125.0, style=Pro…"
      ]
     },
     "metadata": {},
     "output_type": "display_data"
    },
    {
     "name": "stdout",
     "output_type": "stream",
     "text": [
      "Epoch 76: train=1.28247, val=1.14364, took 38.498 s\n"
     ]
    },
    {
     "data": {
      "application/vnd.jupyter.widget-view+json": {
       "model_id": "",
       "version_major": 2,
       "version_minor": 0
      },
      "text/plain": [
       "HBox(children=(FloatProgress(value=0.0, description='Training', layout=Layout(flex='2'), max=1125.0, style=Pro…"
      ]
     },
     "metadata": {},
     "output_type": "display_data"
    },
    {
     "name": "stdout",
     "output_type": "stream",
     "text": [
      "Epoch 77: train=1.28529, val=1.14246, took 38.735 s\n"
     ]
    },
    {
     "data": {
      "application/vnd.jupyter.widget-view+json": {
       "model_id": "",
       "version_major": 2,
       "version_minor": 0
      },
      "text/plain": [
       "HBox(children=(FloatProgress(value=0.0, description='Training', layout=Layout(flex='2'), max=1125.0, style=Pro…"
      ]
     },
     "metadata": {},
     "output_type": "display_data"
    },
    {
     "name": "stdout",
     "output_type": "stream",
     "text": [
      "Epoch 78: train=1.28195, val=1.13988, took 38.464 s\n"
     ]
    },
    {
     "data": {
      "application/vnd.jupyter.widget-view+json": {
       "model_id": "",
       "version_major": 2,
       "version_minor": 0
      },
      "text/plain": [
       "HBox(children=(FloatProgress(value=0.0, description='Training', layout=Layout(flex='2'), max=1125.0, style=Pro…"
      ]
     },
     "metadata": {},
     "output_type": "display_data"
    },
    {
     "name": "stdout",
     "output_type": "stream",
     "text": [
      "Epoch 79: train=1.28487, val=1.14174, took 39.702 s\n"
     ]
    },
    {
     "data": {
      "application/vnd.jupyter.widget-view+json": {
       "model_id": "",
       "version_major": 2,
       "version_minor": 0
      },
      "text/plain": [
       "HBox(children=(FloatProgress(value=0.0, description='Training', layout=Layout(flex='2'), max=1125.0, style=Pro…"
      ]
     },
     "metadata": {},
     "output_type": "display_data"
    },
    {
     "name": "stdout",
     "output_type": "stream",
     "text": [
      "Epoch 80: train=1.28986, val=1.15005, took 39.594 s\n"
     ]
    },
    {
     "data": {
      "application/vnd.jupyter.widget-view+json": {
       "model_id": "",
       "version_major": 2,
       "version_minor": 0
      },
      "text/plain": [
       "HBox(children=(FloatProgress(value=0.0, description='Training', layout=Layout(flex='2'), max=1125.0, style=Pro…"
      ]
     },
     "metadata": {},
     "output_type": "display_data"
    },
    {
     "name": "stdout",
     "output_type": "stream",
     "text": [
      "Epoch 81: train=1.28222, val=1.14268, took 38.754 s\n"
     ]
    },
    {
     "data": {
      "application/vnd.jupyter.widget-view+json": {
       "model_id": "",
       "version_major": 2,
       "version_minor": 0
      },
      "text/plain": [
       "HBox(children=(FloatProgress(value=0.0, description='Training', layout=Layout(flex='2'), max=1125.0, style=Pro…"
      ]
     },
     "metadata": {},
     "output_type": "display_data"
    },
    {
     "name": "stdout",
     "output_type": "stream",
     "text": [
      "Epoch 82: train=1.28527, val=1.13831, took 39.164 s\n"
     ]
    },
    {
     "data": {
      "application/vnd.jupyter.widget-view+json": {
       "model_id": "",
       "version_major": 2,
       "version_minor": 0
      },
      "text/plain": [
       "HBox(children=(FloatProgress(value=0.0, description='Training', layout=Layout(flex='2'), max=1125.0, style=Pro…"
      ]
     },
     "metadata": {},
     "output_type": "display_data"
    },
    {
     "name": "stdout",
     "output_type": "stream",
     "text": [
      "Epoch 83: train=1.28523, val=1.15988, took 38.973 s\n"
     ]
    },
    {
     "data": {
      "application/vnd.jupyter.widget-view+json": {
       "model_id": "",
       "version_major": 2,
       "version_minor": 0
      },
      "text/plain": [
       "HBox(children=(FloatProgress(value=0.0, description='Training', layout=Layout(flex='2'), max=1125.0, style=Pro…"
      ]
     },
     "metadata": {},
     "output_type": "display_data"
    },
    {
     "name": "stdout",
     "output_type": "stream",
     "text": [
      "Epoch 84: train=1.28461, val=1.1479, took 38.709 s\n"
     ]
    },
    {
     "data": {
      "application/vnd.jupyter.widget-view+json": {
       "model_id": "",
       "version_major": 2,
       "version_minor": 0
      },
      "text/plain": [
       "HBox(children=(FloatProgress(value=0.0, description='Training', layout=Layout(flex='2'), max=1125.0, style=Pro…"
      ]
     },
     "metadata": {},
     "output_type": "display_data"
    },
    {
     "name": "stdout",
     "output_type": "stream",
     "text": [
      "Epoch 85: train=1.28598, val=1.14115, took 38.705 s\n"
     ]
    },
    {
     "data": {
      "application/vnd.jupyter.widget-view+json": {
       "model_id": "",
       "version_major": 2,
       "version_minor": 0
      },
      "text/plain": [
       "HBox(children=(FloatProgress(value=0.0, description='Training', layout=Layout(flex='2'), max=1125.0, style=Pro…"
      ]
     },
     "metadata": {},
     "output_type": "display_data"
    },
    {
     "name": "stdout",
     "output_type": "stream",
     "text": [
      "Epoch 86: train=1.28688, val=1.13781, took 38.726 s\n"
     ]
    },
    {
     "data": {
      "application/vnd.jupyter.widget-view+json": {
       "model_id": "",
       "version_major": 2,
       "version_minor": 0
      },
      "text/plain": [
       "HBox(children=(FloatProgress(value=0.0, description='Training', layout=Layout(flex='2'), max=1125.0, style=Pro…"
      ]
     },
     "metadata": {},
     "output_type": "display_data"
    },
    {
     "name": "stdout",
     "output_type": "stream",
     "text": [
      "Epoch 87: train=1.28232, val=1.14089, took 38.463 s\n"
     ]
    },
    {
     "data": {
      "application/vnd.jupyter.widget-view+json": {
       "model_id": "",
       "version_major": 2,
       "version_minor": 0
      },
      "text/plain": [
       "HBox(children=(FloatProgress(value=0.0, description='Training', layout=Layout(flex='2'), max=1125.0, style=Pro…"
      ]
     },
     "metadata": {},
     "output_type": "display_data"
    },
    {
     "name": "stdout",
     "output_type": "stream",
     "text": [
      "Epoch 88: train=1.28656, val=1.157, took 38.858 s\n"
     ]
    },
    {
     "data": {
      "application/vnd.jupyter.widget-view+json": {
       "model_id": "",
       "version_major": 2,
       "version_minor": 0
      },
      "text/plain": [
       "HBox(children=(FloatProgress(value=0.0, description='Training', layout=Layout(flex='2'), max=1125.0, style=Pro…"
      ]
     },
     "metadata": {},
     "output_type": "display_data"
    },
    {
     "name": "stdout",
     "output_type": "stream",
     "text": [
      "Epoch 89: train=1.28291, val=1.13845, took 39.365 s\n"
     ]
    },
    {
     "data": {
      "application/vnd.jupyter.widget-view+json": {
       "model_id": "",
       "version_major": 2,
       "version_minor": 0
      },
      "text/plain": [
       "HBox(children=(FloatProgress(value=0.0, description='Training', layout=Layout(flex='2'), max=1125.0, style=Pro…"
      ]
     },
     "metadata": {},
     "output_type": "display_data"
    },
    {
     "name": "stdout",
     "output_type": "stream",
     "text": [
      "Epoch 90: train=1.2875, val=1.14297, took 38.613 s\n"
     ]
    },
    {
     "data": {
      "application/vnd.jupyter.widget-view+json": {
       "model_id": "",
       "version_major": 2,
       "version_minor": 0
      },
      "text/plain": [
       "HBox(children=(FloatProgress(value=0.0, description='Training', layout=Layout(flex='2'), max=1125.0, style=Pro…"
      ]
     },
     "metadata": {},
     "output_type": "display_data"
    },
    {
     "name": "stdout",
     "output_type": "stream",
     "text": [
      "Epoch 91: train=1.28309, val=1.13896, took 38.626 s\n"
     ]
    },
    {
     "data": {
      "application/vnd.jupyter.widget-view+json": {
       "model_id": "",
       "version_major": 2,
       "version_minor": 0
      },
      "text/plain": [
       "HBox(children=(FloatProgress(value=0.0, description='Training', layout=Layout(flex='2'), max=1125.0, style=Pro…"
      ]
     },
     "metadata": {},
     "output_type": "display_data"
    },
    {
     "name": "stdout",
     "output_type": "stream",
     "text": [
      "Epoch 92: train=1.2833, val=1.14247, took 38.95 s\n"
     ]
    },
    {
     "data": {
      "application/vnd.jupyter.widget-view+json": {
       "model_id": "",
       "version_major": 2,
       "version_minor": 0
      },
      "text/plain": [
       "HBox(children=(FloatProgress(value=0.0, description='Training', layout=Layout(flex='2'), max=1125.0, style=Pro…"
      ]
     },
     "metadata": {},
     "output_type": "display_data"
    },
    {
     "name": "stdout",
     "output_type": "stream",
     "text": [
      "Epoch 93: train=1.28045, val=1.13842, took 39.054 s\n"
     ]
    },
    {
     "data": {
      "application/vnd.jupyter.widget-view+json": {
       "model_id": "",
       "version_major": 2,
       "version_minor": 0
      },
      "text/plain": [
       "HBox(children=(FloatProgress(value=0.0, description='Training', layout=Layout(flex='2'), max=1125.0, style=Pro…"
      ]
     },
     "metadata": {},
     "output_type": "display_data"
    },
    {
     "name": "stdout",
     "output_type": "stream",
     "text": [
      "Epoch 94: train=1.28473, val=1.13985, took 38.737 s\n"
     ]
    },
    {
     "data": {
      "application/vnd.jupyter.widget-view+json": {
       "model_id": "",
       "version_major": 2,
       "version_minor": 0
      },
      "text/plain": [
       "HBox(children=(FloatProgress(value=0.0, description='Training', layout=Layout(flex='2'), max=1125.0, style=Pro…"
      ]
     },
     "metadata": {},
     "output_type": "display_data"
    },
    {
     "name": "stdout",
     "output_type": "stream",
     "text": [
      "Epoch 95: train=1.28457, val=1.14526, took 39.094 s\n"
     ]
    },
    {
     "data": {
      "application/vnd.jupyter.widget-view+json": {
       "model_id": "",
       "version_major": 2,
       "version_minor": 0
      },
      "text/plain": [
       "HBox(children=(FloatProgress(value=0.0, description='Training', layout=Layout(flex='2'), max=1125.0, style=Pro…"
      ]
     },
     "metadata": {},
     "output_type": "display_data"
    },
    {
     "name": "stdout",
     "output_type": "stream",
     "text": [
      "Epoch 96: train=1.28019, val=1.13779, took 38.614 s\n"
     ]
    },
    {
     "data": {
      "application/vnd.jupyter.widget-view+json": {
       "model_id": "",
       "version_major": 2,
       "version_minor": 0
      },
      "text/plain": [
       "HBox(children=(FloatProgress(value=0.0, description='Training', layout=Layout(flex='2'), max=1125.0, style=Pro…"
      ]
     },
     "metadata": {},
     "output_type": "display_data"
    },
    {
     "name": "stdout",
     "output_type": "stream",
     "text": [
      "Epoch 97: train=1.28418, val=1.14078, took 38.749 s\n"
     ]
    },
    {
     "data": {
      "application/vnd.jupyter.widget-view+json": {
       "model_id": "",
       "version_major": 2,
       "version_minor": 0
      },
      "text/plain": [
       "HBox(children=(FloatProgress(value=0.0, description='Training', layout=Layout(flex='2'), max=1125.0, style=Pro…"
      ]
     },
     "metadata": {},
     "output_type": "display_data"
    },
    {
     "name": "stdout",
     "output_type": "stream",
     "text": [
      "Epoch 98: train=1.28048, val=1.13889, took 38.823 s\n"
     ]
    },
    {
     "data": {
      "application/vnd.jupyter.widget-view+json": {
       "model_id": "",
       "version_major": 2,
       "version_minor": 0
      },
      "text/plain": [
       "HBox(children=(FloatProgress(value=0.0, description='Training', layout=Layout(flex='2'), max=1125.0, style=Pro…"
      ]
     },
     "metadata": {},
     "output_type": "display_data"
    },
    {
     "name": "stdout",
     "output_type": "stream",
     "text": [
      "Epoch 99: train=1.28356, val=1.15137, took 39.092 s\n"
     ]
    },
    {
     "data": {
      "application/vnd.jupyter.widget-view+json": {
       "model_id": "",
       "version_major": 2,
       "version_minor": 0
      },
      "text/plain": [
       "HBox(children=(FloatProgress(value=0.0, description='Training', layout=Layout(flex='2'), max=1125.0, style=Pro…"
      ]
     },
     "metadata": {},
     "output_type": "display_data"
    },
    {
     "name": "stdout",
     "output_type": "stream",
     "text": [
      "Epoch 100: train=1.2834, val=1.13985, took 38.946 s\n"
     ]
    },
    {
     "data": {
      "application/vnd.jupyter.widget-view+json": {
       "model_id": "",
       "version_major": 2,
       "version_minor": 0
      },
      "text/plain": [
       "HBox(children=(FloatProgress(value=0.0, description='Training', layout=Layout(flex='2'), max=1125.0, style=Pro…"
      ]
     },
     "metadata": {},
     "output_type": "display_data"
    },
    {
     "name": "stdout",
     "output_type": "stream",
     "text": [
      "Epoch 101: train=1.2778, val=1.14107, took 38.946 s\n"
     ]
    },
    {
     "data": {
      "application/vnd.jupyter.widget-view+json": {
       "model_id": "",
       "version_major": 2,
       "version_minor": 0
      },
      "text/plain": [
       "HBox(children=(FloatProgress(value=0.0, description='Training', layout=Layout(flex='2'), max=1125.0, style=Pro…"
      ]
     },
     "metadata": {},
     "output_type": "display_data"
    },
    {
     "name": "stdout",
     "output_type": "stream",
     "text": [
      "Epoch 102: train=1.28058, val=1.1421, took 38.913 s\n"
     ]
    },
    {
     "data": {
      "application/vnd.jupyter.widget-view+json": {
       "model_id": "",
       "version_major": 2,
       "version_minor": 0
      },
      "text/plain": [
       "HBox(children=(FloatProgress(value=0.0, description='Training', layout=Layout(flex='2'), max=1125.0, style=Pro…"
      ]
     },
     "metadata": {},
     "output_type": "display_data"
    },
    {
     "name": "stdout",
     "output_type": "stream",
     "text": [
      "Epoch 103: train=1.2814, val=1.16449, took 39.039 s\n"
     ]
    },
    {
     "data": {
      "application/vnd.jupyter.widget-view+json": {
       "model_id": "",
       "version_major": 2,
       "version_minor": 0
      },
      "text/plain": [
       "HBox(children=(FloatProgress(value=0.0, description='Training', layout=Layout(flex='2'), max=1125.0, style=Pro…"
      ]
     },
     "metadata": {},
     "output_type": "display_data"
    },
    {
     "name": "stdout",
     "output_type": "stream",
     "text": [
      "Epoch 104: train=1.28485, val=1.14742, took 38.825 s\n"
     ]
    },
    {
     "data": {
      "application/vnd.jupyter.widget-view+json": {
       "model_id": "",
       "version_major": 2,
       "version_minor": 0
      },
      "text/plain": [
       "HBox(children=(FloatProgress(value=0.0, description='Training', layout=Layout(flex='2'), max=1125.0, style=Pro…"
      ]
     },
     "metadata": {},
     "output_type": "display_data"
    },
    {
     "name": "stdout",
     "output_type": "stream",
     "text": [
      "Epoch 105: train=1.28414, val=1.14706, took 38.424 s\n"
     ]
    },
    {
     "data": {
      "application/vnd.jupyter.widget-view+json": {
       "model_id": "",
       "version_major": 2,
       "version_minor": 0
      },
      "text/plain": [
       "HBox(children=(FloatProgress(value=0.0, description='Training', layout=Layout(flex='2'), max=1125.0, style=Pro…"
      ]
     },
     "metadata": {},
     "output_type": "display_data"
    },
    {
     "name": "stdout",
     "output_type": "stream",
     "text": [
      "Epoch 106: train=1.27705, val=1.15511, took 38.661 s\n"
     ]
    },
    {
     "data": {
      "application/vnd.jupyter.widget-view+json": {
       "model_id": "",
       "version_major": 2,
       "version_minor": 0
      },
      "text/plain": [
       "HBox(children=(FloatProgress(value=0.0, description='Training', layout=Layout(flex='2'), max=1125.0, style=Pro…"
      ]
     },
     "metadata": {},
     "output_type": "display_data"
    },
    {
     "name": "stdout",
     "output_type": "stream",
     "text": [
      "Epoch 107: train=1.28038, val=1.15685, took 38.346 s\n"
     ]
    },
    {
     "data": {
      "application/vnd.jupyter.widget-view+json": {
       "model_id": "",
       "version_major": 2,
       "version_minor": 0
      },
      "text/plain": [
       "HBox(children=(FloatProgress(value=0.0, description='Training', layout=Layout(flex='2'), max=1125.0, style=Pro…"
      ]
     },
     "metadata": {},
     "output_type": "display_data"
    },
    {
     "name": "stdout",
     "output_type": "stream",
     "text": [
      "Epoch 108: train=1.28217, val=1.15679, took 38.52 s\n"
     ]
    },
    {
     "data": {
      "application/vnd.jupyter.widget-view+json": {
       "model_id": "",
       "version_major": 2,
       "version_minor": 0
      },
      "text/plain": [
       "HBox(children=(FloatProgress(value=0.0, description='Training', layout=Layout(flex='2'), max=1125.0, style=Pro…"
      ]
     },
     "metadata": {},
     "output_type": "display_data"
    },
    {
     "name": "stdout",
     "output_type": "stream",
     "text": [
      "Epoch 109: train=1.28179, val=1.13664, took 38.572 s\n"
     ]
    },
    {
     "data": {
      "application/vnd.jupyter.widget-view+json": {
       "model_id": "",
       "version_major": 2,
       "version_minor": 0
      },
      "text/plain": [
       "HBox(children=(FloatProgress(value=0.0, description='Training', layout=Layout(flex='2'), max=1125.0, style=Pro…"
      ]
     },
     "metadata": {},
     "output_type": "display_data"
    },
    {
     "name": "stdout",
     "output_type": "stream",
     "text": [
      "Epoch 110: train=1.281, val=1.13965, took 38.324 s\n"
     ]
    },
    {
     "data": {
      "application/vnd.jupyter.widget-view+json": {
       "model_id": "",
       "version_major": 2,
       "version_minor": 0
      },
      "text/plain": [
       "HBox(children=(FloatProgress(value=0.0, description='Training', layout=Layout(flex='2'), max=1125.0, style=Pro…"
      ]
     },
     "metadata": {},
     "output_type": "display_data"
    },
    {
     "name": "stdout",
     "output_type": "stream",
     "text": [
      "Epoch 111: train=1.28415, val=1.13734, took 38.405 s\n"
     ]
    },
    {
     "data": {
      "application/vnd.jupyter.widget-view+json": {
       "model_id": "",
       "version_major": 2,
       "version_minor": 0
      },
      "text/plain": [
       "HBox(children=(FloatProgress(value=0.0, description='Training', layout=Layout(flex='2'), max=1125.0, style=Pro…"
      ]
     },
     "metadata": {},
     "output_type": "display_data"
    },
    {
     "name": "stdout",
     "output_type": "stream",
     "text": [
      "Epoch 112: train=1.28034, val=1.13787, took 38.468 s\n"
     ]
    },
    {
     "data": {
      "application/vnd.jupyter.widget-view+json": {
       "model_id": "",
       "version_major": 2,
       "version_minor": 0
      },
      "text/plain": [
       "HBox(children=(FloatProgress(value=0.0, description='Training', layout=Layout(flex='2'), max=1125.0, style=Pro…"
      ]
     },
     "metadata": {},
     "output_type": "display_data"
    },
    {
     "name": "stdout",
     "output_type": "stream",
     "text": [
      "Epoch 113: train=1.27668, val=1.13505, took 38.431 s\n"
     ]
    },
    {
     "data": {
      "application/vnd.jupyter.widget-view+json": {
       "model_id": "",
       "version_major": 2,
       "version_minor": 0
      },
      "text/plain": [
       "HBox(children=(FloatProgress(value=0.0, description='Training', layout=Layout(flex='2'), max=1125.0, style=Pro…"
      ]
     },
     "metadata": {},
     "output_type": "display_data"
    },
    {
     "name": "stdout",
     "output_type": "stream",
     "text": [
      "Epoch 114: train=1.28358, val=1.13875, took 39.443 s\n"
     ]
    },
    {
     "data": {
      "application/vnd.jupyter.widget-view+json": {
       "model_id": "",
       "version_major": 2,
       "version_minor": 0
      },
      "text/plain": [
       "HBox(children=(FloatProgress(value=0.0, description='Training', layout=Layout(flex='2'), max=1125.0, style=Pro…"
      ]
     },
     "metadata": {},
     "output_type": "display_data"
    },
    {
     "name": "stdout",
     "output_type": "stream",
     "text": [
      "Epoch 115: train=1.28533, val=1.1366, took 40.474 s\n"
     ]
    },
    {
     "data": {
      "application/vnd.jupyter.widget-view+json": {
       "model_id": "",
       "version_major": 2,
       "version_minor": 0
      },
      "text/plain": [
       "HBox(children=(FloatProgress(value=0.0, description='Training', layout=Layout(flex='2'), max=1125.0, style=Pro…"
      ]
     },
     "metadata": {},
     "output_type": "display_data"
    },
    {
     "name": "stdout",
     "output_type": "stream",
     "text": [
      "Epoch 116: train=1.27559, val=1.13797, took 38.388 s\n"
     ]
    },
    {
     "data": {
      "application/vnd.jupyter.widget-view+json": {
       "model_id": "",
       "version_major": 2,
       "version_minor": 0
      },
      "text/plain": [
       "HBox(children=(FloatProgress(value=0.0, description='Training', layout=Layout(flex='2'), max=1125.0, style=Pro…"
      ]
     },
     "metadata": {},
     "output_type": "display_data"
    },
    {
     "name": "stdout",
     "output_type": "stream",
     "text": [
      "Epoch 117: train=1.27742, val=1.13918, took 39.753 s\n"
     ]
    },
    {
     "data": {
      "application/vnd.jupyter.widget-view+json": {
       "model_id": "",
       "version_major": 2,
       "version_minor": 0
      },
      "text/plain": [
       "HBox(children=(FloatProgress(value=0.0, description='Training', layout=Layout(flex='2'), max=1125.0, style=Pro…"
      ]
     },
     "metadata": {},
     "output_type": "display_data"
    },
    {
     "name": "stdout",
     "output_type": "stream",
     "text": [
      "Epoch 118: train=1.27949, val=1.15821, took 39.655 s\n"
     ]
    },
    {
     "data": {
      "application/vnd.jupyter.widget-view+json": {
       "model_id": "",
       "version_major": 2,
       "version_minor": 0
      },
      "text/plain": [
       "HBox(children=(FloatProgress(value=0.0, description='Training', layout=Layout(flex='2'), max=1125.0, style=Pro…"
      ]
     },
     "metadata": {},
     "output_type": "display_data"
    },
    {
     "name": "stdout",
     "output_type": "stream",
     "text": [
      "Epoch 119: train=1.28272, val=1.14755, took 38.5 s\n"
     ]
    },
    {
     "data": {
      "application/vnd.jupyter.widget-view+json": {
       "model_id": "",
       "version_major": 2,
       "version_minor": 0
      },
      "text/plain": [
       "HBox(children=(FloatProgress(value=0.0, description='Training', layout=Layout(flex='2'), max=1125.0, style=Pro…"
      ]
     },
     "metadata": {},
     "output_type": "display_data"
    },
    {
     "name": "stdout",
     "output_type": "stream",
     "text": [
      "Epoch 120: train=1.28247, val=1.13827, took 38.544 s\n"
     ]
    },
    {
     "data": {
      "application/vnd.jupyter.widget-view+json": {
       "model_id": "",
       "version_major": 2,
       "version_minor": 0
      },
      "text/plain": [
       "HBox(children=(FloatProgress(value=0.0, description='Training', layout=Layout(flex='2'), max=1125.0, style=Pro…"
      ]
     },
     "metadata": {},
     "output_type": "display_data"
    },
    {
     "name": "stdout",
     "output_type": "stream",
     "text": [
      "Epoch 121: train=1.27886, val=1.15115, took 38.625 s\n"
     ]
    },
    {
     "data": {
      "application/vnd.jupyter.widget-view+json": {
       "model_id": "",
       "version_major": 2,
       "version_minor": 0
      },
      "text/plain": [
       "HBox(children=(FloatProgress(value=0.0, description='Training', layout=Layout(flex='2'), max=1125.0, style=Pro…"
      ]
     },
     "metadata": {},
     "output_type": "display_data"
    },
    {
     "name": "stdout",
     "output_type": "stream",
     "text": [
      "Epoch 122: train=1.28068, val=1.1447, took 38.808 s\n"
     ]
    },
    {
     "data": {
      "application/vnd.jupyter.widget-view+json": {
       "model_id": "",
       "version_major": 2,
       "version_minor": 0
      },
      "text/plain": [
       "HBox(children=(FloatProgress(value=0.0, description='Training', layout=Layout(flex='2'), max=1125.0, style=Pro…"
      ]
     },
     "metadata": {},
     "output_type": "display_data"
    },
    {
     "name": "stdout",
     "output_type": "stream",
     "text": [
      "Epoch 123: train=1.27827, val=1.13397, took 39.024 s\n"
     ]
    },
    {
     "data": {
      "application/vnd.jupyter.widget-view+json": {
       "model_id": "",
       "version_major": 2,
       "version_minor": 0
      },
      "text/plain": [
       "HBox(children=(FloatProgress(value=0.0, description='Training', layout=Layout(flex='2'), max=1125.0, style=Pro…"
      ]
     },
     "metadata": {},
     "output_type": "display_data"
    },
    {
     "name": "stdout",
     "output_type": "stream",
     "text": [
      "Epoch 124: train=1.28073, val=1.13806, took 38.396 s\n"
     ]
    },
    {
     "data": {
      "application/vnd.jupyter.widget-view+json": {
       "model_id": "",
       "version_major": 2,
       "version_minor": 0
      },
      "text/plain": [
       "HBox(children=(FloatProgress(value=0.0, description='Training', layout=Layout(flex='2'), max=1125.0, style=Pro…"
      ]
     },
     "metadata": {},
     "output_type": "display_data"
    },
    {
     "name": "stdout",
     "output_type": "stream",
     "text": [
      "Epoch 125: train=1.27469, val=1.14328, took 39.053 s\n"
     ]
    },
    {
     "data": {
      "application/vnd.jupyter.widget-view+json": {
       "model_id": "",
       "version_major": 2,
       "version_minor": 0
      },
      "text/plain": [
       "HBox(children=(FloatProgress(value=0.0, description='Training', layout=Layout(flex='2'), max=1125.0, style=Pro…"
      ]
     },
     "metadata": {},
     "output_type": "display_data"
    },
    {
     "name": "stdout",
     "output_type": "stream",
     "text": [
      "Epoch 126: train=1.27565, val=1.1364, took 38.339 s\n"
     ]
    },
    {
     "data": {
      "application/vnd.jupyter.widget-view+json": {
       "model_id": "",
       "version_major": 2,
       "version_minor": 0
      },
      "text/plain": [
       "HBox(children=(FloatProgress(value=0.0, description='Training', layout=Layout(flex='2'), max=1125.0, style=Pro…"
      ]
     },
     "metadata": {},
     "output_type": "display_data"
    },
    {
     "name": "stdout",
     "output_type": "stream",
     "text": [
      "Epoch 127: train=1.28307, val=1.13893, took 38.429 s\n"
     ]
    },
    {
     "data": {
      "application/vnd.jupyter.widget-view+json": {
       "model_id": "",
       "version_major": 2,
       "version_minor": 0
      },
      "text/plain": [
       "HBox(children=(FloatProgress(value=0.0, description='Training', layout=Layout(flex='2'), max=1125.0, style=Pro…"
      ]
     },
     "metadata": {},
     "output_type": "display_data"
    },
    {
     "name": "stdout",
     "output_type": "stream",
     "text": [
      "Epoch 128: train=1.2761, val=1.13835, took 38.796 s\n"
     ]
    },
    {
     "data": {
      "application/vnd.jupyter.widget-view+json": {
       "model_id": "",
       "version_major": 2,
       "version_minor": 0
      },
      "text/plain": [
       "HBox(children=(FloatProgress(value=0.0, description='Training', layout=Layout(flex='2'), max=1125.0, style=Pro…"
      ]
     },
     "metadata": {},
     "output_type": "display_data"
    },
    {
     "name": "stdout",
     "output_type": "stream",
     "text": [
      "Epoch 129: train=1.2769, val=1.1366, took 38.526 s\n"
     ]
    },
    {
     "data": {
      "application/vnd.jupyter.widget-view+json": {
       "model_id": "",
       "version_major": 2,
       "version_minor": 0
      },
      "text/plain": [
       "HBox(children=(FloatProgress(value=0.0, description='Training', layout=Layout(flex='2'), max=1125.0, style=Pro…"
      ]
     },
     "metadata": {},
     "output_type": "display_data"
    },
    {
     "name": "stdout",
     "output_type": "stream",
     "text": [
      "Epoch 130: train=1.27366, val=1.13599, took 39.096 s\n"
     ]
    },
    {
     "data": {
      "application/vnd.jupyter.widget-view+json": {
       "model_id": "",
       "version_major": 2,
       "version_minor": 0
      },
      "text/plain": [
       "HBox(children=(FloatProgress(value=0.0, description='Training', layout=Layout(flex='2'), max=1125.0, style=Pro…"
      ]
     },
     "metadata": {},
     "output_type": "display_data"
    },
    {
     "name": "stdout",
     "output_type": "stream",
     "text": [
      "Epoch 131: train=1.28161, val=1.14266, took 39.8 s\n"
     ]
    },
    {
     "data": {
      "application/vnd.jupyter.widget-view+json": {
       "model_id": "",
       "version_major": 2,
       "version_minor": 0
      },
      "text/plain": [
       "HBox(children=(FloatProgress(value=0.0, description='Training', layout=Layout(flex='2'), max=1125.0, style=Pro…"
      ]
     },
     "metadata": {},
     "output_type": "display_data"
    },
    {
     "name": "stdout",
     "output_type": "stream",
     "text": [
      "Epoch 132: train=1.27419, val=1.13429, took 38.658 s\n"
     ]
    },
    {
     "data": {
      "application/vnd.jupyter.widget-view+json": {
       "model_id": "",
       "version_major": 2,
       "version_minor": 0
      },
      "text/plain": [
       "HBox(children=(FloatProgress(value=0.0, description='Training', layout=Layout(flex='2'), max=1125.0, style=Pro…"
      ]
     },
     "metadata": {},
     "output_type": "display_data"
    },
    {
     "name": "stdout",
     "output_type": "stream",
     "text": [
      "Epoch 133: train=1.28306, val=1.15748, took 38.51 s\n"
     ]
    },
    {
     "data": {
      "application/vnd.jupyter.widget-view+json": {
       "model_id": "",
       "version_major": 2,
       "version_minor": 0
      },
      "text/plain": [
       "HBox(children=(FloatProgress(value=0.0, description='Training', layout=Layout(flex='2'), max=1125.0, style=Pro…"
      ]
     },
     "metadata": {},
     "output_type": "display_data"
    },
    {
     "name": "stdout",
     "output_type": "stream",
     "text": [
      "Epoch 134: train=1.28153, val=1.13899, took 38.375 s\n"
     ]
    },
    {
     "data": {
      "application/vnd.jupyter.widget-view+json": {
       "model_id": "",
       "version_major": 2,
       "version_minor": 0
      },
      "text/plain": [
       "HBox(children=(FloatProgress(value=0.0, description='Training', layout=Layout(flex='2'), max=1125.0, style=Pro…"
      ]
     },
     "metadata": {},
     "output_type": "display_data"
    },
    {
     "name": "stdout",
     "output_type": "stream",
     "text": [
      "Epoch 135: train=1.27745, val=1.15355, took 38.547 s\n"
     ]
    },
    {
     "data": {
      "application/vnd.jupyter.widget-view+json": {
       "model_id": "",
       "version_major": 2,
       "version_minor": 0
      },
      "text/plain": [
       "HBox(children=(FloatProgress(value=0.0, description='Training', layout=Layout(flex='2'), max=1125.0, style=Pro…"
      ]
     },
     "metadata": {},
     "output_type": "display_data"
    },
    {
     "name": "stdout",
     "output_type": "stream",
     "text": [
      "Epoch 136: train=1.27974, val=1.14308, took 38.467 s\n"
     ]
    },
    {
     "data": {
      "application/vnd.jupyter.widget-view+json": {
       "model_id": "",
       "version_major": 2,
       "version_minor": 0
      },
      "text/plain": [
       "HBox(children=(FloatProgress(value=0.0, description='Training', layout=Layout(flex='2'), max=1125.0, style=Pro…"
      ]
     },
     "metadata": {},
     "output_type": "display_data"
    },
    {
     "name": "stdout",
     "output_type": "stream",
     "text": [
      "Epoch 137: train=1.27704, val=1.13519, took 38.837 s\n"
     ]
    },
    {
     "data": {
      "application/vnd.jupyter.widget-view+json": {
       "model_id": "",
       "version_major": 2,
       "version_minor": 0
      },
      "text/plain": [
       "HBox(children=(FloatProgress(value=0.0, description='Training', layout=Layout(flex='2'), max=1125.0, style=Pro…"
      ]
     },
     "metadata": {},
     "output_type": "display_data"
    },
    {
     "name": "stdout",
     "output_type": "stream",
     "text": [
      "Epoch 138: train=1.27614, val=1.13721, took 38.29 s\n"
     ]
    },
    {
     "data": {
      "application/vnd.jupyter.widget-view+json": {
       "model_id": "",
       "version_major": 2,
       "version_minor": 0
      },
      "text/plain": [
       "HBox(children=(FloatProgress(value=0.0, description='Training', layout=Layout(flex='2'), max=1125.0, style=Pro…"
      ]
     },
     "metadata": {},
     "output_type": "display_data"
    },
    {
     "name": "stdout",
     "output_type": "stream",
     "text": [
      "Epoch 139: train=1.27433, val=1.13473, took 38.587 s\n"
     ]
    },
    {
     "data": {
      "application/vnd.jupyter.widget-view+json": {
       "model_id": "",
       "version_major": 2,
       "version_minor": 0
      },
      "text/plain": [
       "HBox(children=(FloatProgress(value=0.0, description='Training', layout=Layout(flex='2'), max=1125.0, style=Pro…"
      ]
     },
     "metadata": {},
     "output_type": "display_data"
    },
    {
     "name": "stdout",
     "output_type": "stream",
     "text": [
      "Epoch 140: train=1.27831, val=1.13645, took 38.482 s\n"
     ]
    },
    {
     "data": {
      "application/vnd.jupyter.widget-view+json": {
       "model_id": "",
       "version_major": 2,
       "version_minor": 0
      },
      "text/plain": [
       "HBox(children=(FloatProgress(value=0.0, description='Training', layout=Layout(flex='2'), max=1125.0, style=Pro…"
      ]
     },
     "metadata": {},
     "output_type": "display_data"
    },
    {
     "name": "stdout",
     "output_type": "stream",
     "text": [
      "Epoch 141: train=1.27624, val=1.14648, took 38.98 s\n"
     ]
    },
    {
     "data": {
      "application/vnd.jupyter.widget-view+json": {
       "model_id": "",
       "version_major": 2,
       "version_minor": 0
      },
      "text/plain": [
       "HBox(children=(FloatProgress(value=0.0, description='Training', layout=Layout(flex='2'), max=1125.0, style=Pro…"
      ]
     },
     "metadata": {},
     "output_type": "display_data"
    },
    {
     "name": "stdout",
     "output_type": "stream",
     "text": [
      "Epoch 142: train=1.27668, val=1.13262, took 38.657 s\n"
     ]
    },
    {
     "data": {
      "application/vnd.jupyter.widget-view+json": {
       "model_id": "",
       "version_major": 2,
       "version_minor": 0
      },
      "text/plain": [
       "HBox(children=(FloatProgress(value=0.0, description='Training', layout=Layout(flex='2'), max=1125.0, style=Pro…"
      ]
     },
     "metadata": {},
     "output_type": "display_data"
    },
    {
     "name": "stdout",
     "output_type": "stream",
     "text": [
      "Epoch 143: train=1.27559, val=1.13518, took 38.842 s\n"
     ]
    },
    {
     "data": {
      "application/vnd.jupyter.widget-view+json": {
       "model_id": "",
       "version_major": 2,
       "version_minor": 0
      },
      "text/plain": [
       "HBox(children=(FloatProgress(value=0.0, description='Training', layout=Layout(flex='2'), max=1125.0, style=Pro…"
      ]
     },
     "metadata": {},
     "output_type": "display_data"
    },
    {
     "name": "stdout",
     "output_type": "stream",
     "text": [
      "Epoch 144: train=1.27915, val=1.13438, took 38.563 s\n"
     ]
    },
    {
     "data": {
      "application/vnd.jupyter.widget-view+json": {
       "model_id": "",
       "version_major": 2,
       "version_minor": 0
      },
      "text/plain": [
       "HBox(children=(FloatProgress(value=0.0, description='Training', layout=Layout(flex='2'), max=1125.0, style=Pro…"
      ]
     },
     "metadata": {},
     "output_type": "display_data"
    },
    {
     "name": "stdout",
     "output_type": "stream",
     "text": [
      "Epoch 145: train=1.27865, val=1.15414, took 38.544 s\n"
     ]
    },
    {
     "data": {
      "application/vnd.jupyter.widget-view+json": {
       "model_id": "",
       "version_major": 2,
       "version_minor": 0
      },
      "text/plain": [
       "HBox(children=(FloatProgress(value=0.0, description='Training', layout=Layout(flex='2'), max=1125.0, style=Pro…"
      ]
     },
     "metadata": {},
     "output_type": "display_data"
    },
    {
     "name": "stdout",
     "output_type": "stream",
     "text": [
      "Epoch 146: train=1.27796, val=1.13481, took 38.463 s\n"
     ]
    },
    {
     "data": {
      "application/vnd.jupyter.widget-view+json": {
       "model_id": "",
       "version_major": 2,
       "version_minor": 0
      },
      "text/plain": [
       "HBox(children=(FloatProgress(value=0.0, description='Training', layout=Layout(flex='2'), max=1125.0, style=Pro…"
      ]
     },
     "metadata": {},
     "output_type": "display_data"
    },
    {
     "name": "stdout",
     "output_type": "stream",
     "text": [
      "Epoch 147: train=1.28057, val=1.13798, took 38.513 s\n"
     ]
    },
    {
     "data": {
      "application/vnd.jupyter.widget-view+json": {
       "model_id": "",
       "version_major": 2,
       "version_minor": 0
      },
      "text/plain": [
       "HBox(children=(FloatProgress(value=0.0, description='Training', layout=Layout(flex='2'), max=1125.0, style=Pro…"
      ]
     },
     "metadata": {},
     "output_type": "display_data"
    },
    {
     "name": "stdout",
     "output_type": "stream",
     "text": [
      "Epoch 148: train=1.27759, val=1.14284, took 38.363 s\n"
     ]
    },
    {
     "data": {
      "application/vnd.jupyter.widget-view+json": {
       "model_id": "",
       "version_major": 2,
       "version_minor": 0
      },
      "text/plain": [
       "HBox(children=(FloatProgress(value=0.0, description='Training', layout=Layout(flex='2'), max=1125.0, style=Pro…"
      ]
     },
     "metadata": {},
     "output_type": "display_data"
    },
    {
     "name": "stdout",
     "output_type": "stream",
     "text": [
      "Epoch 149: train=1.27833, val=1.14406, took 38.605 s\n"
     ]
    },
    {
     "data": {
      "application/vnd.jupyter.widget-view+json": {
       "model_id": "",
       "version_major": 2,
       "version_minor": 0
      },
      "text/plain": [
       "HBox(children=(FloatProgress(value=0.0, description='Training', layout=Layout(flex='2'), max=1125.0, style=Pro…"
      ]
     },
     "metadata": {},
     "output_type": "display_data"
    },
    {
     "name": "stdout",
     "output_type": "stream",
     "text": [
      "Epoch 150: train=1.27692, val=1.17582, took 38.828 s\n"
     ]
    },
    {
     "data": {
      "application/vnd.jupyter.widget-view+json": {
       "model_id": "",
       "version_major": 2,
       "version_minor": 0
      },
      "text/plain": [
       "HBox(children=(FloatProgress(value=0.0, description='Training', layout=Layout(flex='2'), max=1125.0, style=Pro…"
      ]
     },
     "metadata": {},
     "output_type": "display_data"
    },
    {
     "name": "stdout",
     "output_type": "stream",
     "text": [
      "Epoch 151: train=1.27842, val=1.14242, took 38.605 s\n"
     ]
    },
    {
     "data": {
      "application/vnd.jupyter.widget-view+json": {
       "model_id": "",
       "version_major": 2,
       "version_minor": 0
      },
      "text/plain": [
       "HBox(children=(FloatProgress(value=0.0, description='Training', layout=Layout(flex='2'), max=1125.0, style=Pro…"
      ]
     },
     "metadata": {},
     "output_type": "display_data"
    },
    {
     "name": "stdout",
     "output_type": "stream",
     "text": [
      "Epoch 152: train=1.27687, val=1.13245, took 38.504 s\n"
     ]
    },
    {
     "data": {
      "application/vnd.jupyter.widget-view+json": {
       "model_id": "",
       "version_major": 2,
       "version_minor": 0
      },
      "text/plain": [
       "HBox(children=(FloatProgress(value=0.0, description='Training', layout=Layout(flex='2'), max=1125.0, style=Pro…"
      ]
     },
     "metadata": {},
     "output_type": "display_data"
    },
    {
     "name": "stdout",
     "output_type": "stream",
     "text": [
      "Epoch 153: train=1.274, val=1.1326, took 38.526 s\n"
     ]
    },
    {
     "data": {
      "application/vnd.jupyter.widget-view+json": {
       "model_id": "",
       "version_major": 2,
       "version_minor": 0
      },
      "text/plain": [
       "HBox(children=(FloatProgress(value=0.0, description='Training', layout=Layout(flex='2'), max=1125.0, style=Pro…"
      ]
     },
     "metadata": {},
     "output_type": "display_data"
    },
    {
     "name": "stdout",
     "output_type": "stream",
     "text": [
      "Epoch 154: train=1.27616, val=1.1338, took 38.215 s\n"
     ]
    },
    {
     "data": {
      "application/vnd.jupyter.widget-view+json": {
       "model_id": "",
       "version_major": 2,
       "version_minor": 0
      },
      "text/plain": [
       "HBox(children=(FloatProgress(value=0.0, description='Training', layout=Layout(flex='2'), max=1125.0, style=Pro…"
      ]
     },
     "metadata": {},
     "output_type": "display_data"
    },
    {
     "name": "stdout",
     "output_type": "stream",
     "text": [
      "Epoch 155: train=1.27427, val=1.14137, took 39.344 s\n"
     ]
    },
    {
     "data": {
      "application/vnd.jupyter.widget-view+json": {
       "model_id": "",
       "version_major": 2,
       "version_minor": 0
      },
      "text/plain": [
       "HBox(children=(FloatProgress(value=0.0, description='Training', layout=Layout(flex='2'), max=1125.0, style=Pro…"
      ]
     },
     "metadata": {},
     "output_type": "display_data"
    },
    {
     "name": "stdout",
     "output_type": "stream",
     "text": [
      "Epoch 156: train=1.27702, val=1.13519, took 38.697 s\n"
     ]
    },
    {
     "data": {
      "application/vnd.jupyter.widget-view+json": {
       "model_id": "",
       "version_major": 2,
       "version_minor": 0
      },
      "text/plain": [
       "HBox(children=(FloatProgress(value=0.0, description='Training', layout=Layout(flex='2'), max=1125.0, style=Pro…"
      ]
     },
     "metadata": {},
     "output_type": "display_data"
    },
    {
     "name": "stdout",
     "output_type": "stream",
     "text": [
      "Epoch 157: train=1.27453, val=1.13387, took 38.28 s\n"
     ]
    },
    {
     "data": {
      "application/vnd.jupyter.widget-view+json": {
       "model_id": "",
       "version_major": 2,
       "version_minor": 0
      },
      "text/plain": [
       "HBox(children=(FloatProgress(value=0.0, description='Training', layout=Layout(flex='2'), max=1125.0, style=Pro…"
      ]
     },
     "metadata": {},
     "output_type": "display_data"
    },
    {
     "name": "stdout",
     "output_type": "stream",
     "text": [
      "Epoch 158: train=1.28074, val=1.13572, took 38.24 s\n"
     ]
    },
    {
     "data": {
      "application/vnd.jupyter.widget-view+json": {
       "model_id": "",
       "version_major": 2,
       "version_minor": 0
      },
      "text/plain": [
       "HBox(children=(FloatProgress(value=0.0, description='Training', layout=Layout(flex='2'), max=1125.0, style=Pro…"
      ]
     },
     "metadata": {},
     "output_type": "display_data"
    },
    {
     "name": "stdout",
     "output_type": "stream",
     "text": [
      "Epoch 159: train=1.27766, val=1.13162, took 38.458 s\n"
     ]
    },
    {
     "data": {
      "application/vnd.jupyter.widget-view+json": {
       "model_id": "",
       "version_major": 2,
       "version_minor": 0
      },
      "text/plain": [
       "HBox(children=(FloatProgress(value=0.0, description='Training', layout=Layout(flex='2'), max=1125.0, style=Pro…"
      ]
     },
     "metadata": {},
     "output_type": "display_data"
    },
    {
     "name": "stdout",
     "output_type": "stream",
     "text": [
      "Epoch 160: train=1.27726, val=1.14391, took 38.776 s\n"
     ]
    },
    {
     "data": {
      "application/vnd.jupyter.widget-view+json": {
       "model_id": "",
       "version_major": 2,
       "version_minor": 0
      },
      "text/plain": [
       "HBox(children=(FloatProgress(value=0.0, description='Training', layout=Layout(flex='2'), max=1125.0, style=Pro…"
      ]
     },
     "metadata": {},
     "output_type": "display_data"
    },
    {
     "name": "stdout",
     "output_type": "stream",
     "text": [
      "Epoch 161: train=1.27331, val=1.13936, took 38.715 s\n"
     ]
    },
    {
     "data": {
      "application/vnd.jupyter.widget-view+json": {
       "model_id": "",
       "version_major": 2,
       "version_minor": 0
      },
      "text/plain": [
       "HBox(children=(FloatProgress(value=0.0, description='Training', layout=Layout(flex='2'), max=1125.0, style=Pro…"
      ]
     },
     "metadata": {},
     "output_type": "display_data"
    },
    {
     "name": "stdout",
     "output_type": "stream",
     "text": [
      "Epoch 162: train=1.27911, val=1.15557, took 38.517 s\n"
     ]
    },
    {
     "data": {
      "application/vnd.jupyter.widget-view+json": {
       "model_id": "",
       "version_major": 2,
       "version_minor": 0
      },
      "text/plain": [
       "HBox(children=(FloatProgress(value=0.0, description='Training', layout=Layout(flex='2'), max=1125.0, style=Pro…"
      ]
     },
     "metadata": {},
     "output_type": "display_data"
    },
    {
     "name": "stdout",
     "output_type": "stream",
     "text": [
      "Epoch 163: train=1.27289, val=1.13283, took 38.972 s\n"
     ]
    },
    {
     "data": {
      "application/vnd.jupyter.widget-view+json": {
       "model_id": "",
       "version_major": 2,
       "version_minor": 0
      },
      "text/plain": [
       "HBox(children=(FloatProgress(value=0.0, description='Training', layout=Layout(flex='2'), max=1125.0, style=Pro…"
      ]
     },
     "metadata": {},
     "output_type": "display_data"
    },
    {
     "name": "stdout",
     "output_type": "stream",
     "text": [
      "Epoch 164: train=1.27162, val=1.14738, took 38.662 s\n"
     ]
    },
    {
     "data": {
      "application/vnd.jupyter.widget-view+json": {
       "model_id": "",
       "version_major": 2,
       "version_minor": 0
      },
      "text/plain": [
       "HBox(children=(FloatProgress(value=0.0, description='Training', layout=Layout(flex='2'), max=1125.0, style=Pro…"
      ]
     },
     "metadata": {},
     "output_type": "display_data"
    },
    {
     "name": "stdout",
     "output_type": "stream",
     "text": [
      "Epoch 165: train=1.27604, val=1.13778, took 38.671 s\n"
     ]
    },
    {
     "data": {
      "application/vnd.jupyter.widget-view+json": {
       "model_id": "",
       "version_major": 2,
       "version_minor": 0
      },
      "text/plain": [
       "HBox(children=(FloatProgress(value=0.0, description='Training', layout=Layout(flex='2'), max=1125.0, style=Pro…"
      ]
     },
     "metadata": {},
     "output_type": "display_data"
    },
    {
     "name": "stdout",
     "output_type": "stream",
     "text": [
      "Epoch 166: train=1.27098, val=1.15824, took 38.77 s\n"
     ]
    },
    {
     "data": {
      "application/vnd.jupyter.widget-view+json": {
       "model_id": "",
       "version_major": 2,
       "version_minor": 0
      },
      "text/plain": [
       "HBox(children=(FloatProgress(value=0.0, description='Training', layout=Layout(flex='2'), max=1125.0, style=Pro…"
      ]
     },
     "metadata": {},
     "output_type": "display_data"
    },
    {
     "name": "stdout",
     "output_type": "stream",
     "text": [
      "Epoch 167: train=1.27682, val=1.132, took 38.307 s\n"
     ]
    },
    {
     "data": {
      "application/vnd.jupyter.widget-view+json": {
       "model_id": "",
       "version_major": 2,
       "version_minor": 0
      },
      "text/plain": [
       "HBox(children=(FloatProgress(value=0.0, description='Training', layout=Layout(flex='2'), max=1125.0, style=Pro…"
      ]
     },
     "metadata": {},
     "output_type": "display_data"
    },
    {
     "name": "stdout",
     "output_type": "stream",
     "text": [
      "Epoch 168: train=1.27213, val=1.14277, took 38.481 s\n"
     ]
    },
    {
     "data": {
      "application/vnd.jupyter.widget-view+json": {
       "model_id": "",
       "version_major": 2,
       "version_minor": 0
      },
      "text/plain": [
       "HBox(children=(FloatProgress(value=0.0, description='Training', layout=Layout(flex='2'), max=1125.0, style=Pro…"
      ]
     },
     "metadata": {},
     "output_type": "display_data"
    },
    {
     "name": "stdout",
     "output_type": "stream",
     "text": [
      "Epoch 169: train=1.27867, val=1.18286, took 38.829 s\n"
     ]
    },
    {
     "data": {
      "application/vnd.jupyter.widget-view+json": {
       "model_id": "",
       "version_major": 2,
       "version_minor": 0
      },
      "text/plain": [
       "HBox(children=(FloatProgress(value=0.0, description='Training', layout=Layout(flex='2'), max=1125.0, style=Pro…"
      ]
     },
     "metadata": {},
     "output_type": "display_data"
    },
    {
     "name": "stdout",
     "output_type": "stream",
     "text": [
      "Epoch 170: train=1.277, val=1.13348, took 38.891 s\n"
     ]
    },
    {
     "data": {
      "application/vnd.jupyter.widget-view+json": {
       "model_id": "",
       "version_major": 2,
       "version_minor": 0
      },
      "text/plain": [
       "HBox(children=(FloatProgress(value=0.0, description='Training', layout=Layout(flex='2'), max=1125.0, style=Pro…"
      ]
     },
     "metadata": {},
     "output_type": "display_data"
    },
    {
     "name": "stdout",
     "output_type": "stream",
     "text": [
      "Epoch 171: train=1.27842, val=1.13102, took 38.572 s\n"
     ]
    },
    {
     "data": {
      "application/vnd.jupyter.widget-view+json": {
       "model_id": "",
       "version_major": 2,
       "version_minor": 0
      },
      "text/plain": [
       "HBox(children=(FloatProgress(value=0.0, description='Training', layout=Layout(flex='2'), max=1125.0, style=Pro…"
      ]
     },
     "metadata": {},
     "output_type": "display_data"
    },
    {
     "name": "stdout",
     "output_type": "stream",
     "text": [
      "Epoch 172: train=1.27757, val=1.14003, took 38.702 s\n"
     ]
    },
    {
     "data": {
      "application/vnd.jupyter.widget-view+json": {
       "model_id": "",
       "version_major": 2,
       "version_minor": 0
      },
      "text/plain": [
       "HBox(children=(FloatProgress(value=0.0, description='Training', layout=Layout(flex='2'), max=1125.0, style=Pro…"
      ]
     },
     "metadata": {},
     "output_type": "display_data"
    },
    {
     "name": "stdout",
     "output_type": "stream",
     "text": [
      "Epoch 173: train=1.27319, val=1.13247, took 38.888 s\n"
     ]
    },
    {
     "data": {
      "application/vnd.jupyter.widget-view+json": {
       "model_id": "",
       "version_major": 2,
       "version_minor": 0
      },
      "text/plain": [
       "HBox(children=(FloatProgress(value=0.0, description='Training', layout=Layout(flex='2'), max=1125.0, style=Pro…"
      ]
     },
     "metadata": {},
     "output_type": "display_data"
    },
    {
     "name": "stdout",
     "output_type": "stream",
     "text": [
      "Epoch 174: train=1.27021, val=1.1319, took 39.059 s\n"
     ]
    },
    {
     "data": {
      "application/vnd.jupyter.widget-view+json": {
       "model_id": "",
       "version_major": 2,
       "version_minor": 0
      },
      "text/plain": [
       "HBox(children=(FloatProgress(value=0.0, description='Training', layout=Layout(flex='2'), max=1125.0, style=Pro…"
      ]
     },
     "metadata": {},
     "output_type": "display_data"
    },
    {
     "name": "stdout",
     "output_type": "stream",
     "text": [
      "Epoch 175: train=1.27071, val=1.15869, took 39.007 s\n"
     ]
    },
    {
     "data": {
      "application/vnd.jupyter.widget-view+json": {
       "model_id": "",
       "version_major": 2,
       "version_minor": 0
      },
      "text/plain": [
       "HBox(children=(FloatProgress(value=0.0, description='Training', layout=Layout(flex='2'), max=1125.0, style=Pro…"
      ]
     },
     "metadata": {},
     "output_type": "display_data"
    },
    {
     "name": "stdout",
     "output_type": "stream",
     "text": [
      "Epoch 176: train=1.27433, val=1.14109, took 38.38 s\n"
     ]
    },
    {
     "data": {
      "application/vnd.jupyter.widget-view+json": {
       "model_id": "",
       "version_major": 2,
       "version_minor": 0
      },
      "text/plain": [
       "HBox(children=(FloatProgress(value=0.0, description='Training', layout=Layout(flex='2'), max=1125.0, style=Pro…"
      ]
     },
     "metadata": {},
     "output_type": "display_data"
    },
    {
     "name": "stdout",
     "output_type": "stream",
     "text": [
      "Epoch 177: train=1.27079, val=1.13658, took 38.535 s\n"
     ]
    },
    {
     "data": {
      "application/vnd.jupyter.widget-view+json": {
       "model_id": "",
       "version_major": 2,
       "version_minor": 0
      },
      "text/plain": [
       "HBox(children=(FloatProgress(value=0.0, description='Training', layout=Layout(flex='2'), max=1125.0, style=Pro…"
      ]
     },
     "metadata": {},
     "output_type": "display_data"
    },
    {
     "name": "stdout",
     "output_type": "stream",
     "text": [
      "Epoch 178: train=1.27532, val=1.13234, took 38.687 s\n"
     ]
    },
    {
     "data": {
      "application/vnd.jupyter.widget-view+json": {
       "model_id": "",
       "version_major": 2,
       "version_minor": 0
      },
      "text/plain": [
       "HBox(children=(FloatProgress(value=0.0, description='Training', layout=Layout(flex='2'), max=1125.0, style=Pro…"
      ]
     },
     "metadata": {},
     "output_type": "display_data"
    },
    {
     "name": "stdout",
     "output_type": "stream",
     "text": [
      "Epoch 179: train=1.27316, val=1.13403, took 38.934 s\n"
     ]
    },
    {
     "data": {
      "application/vnd.jupyter.widget-view+json": {
       "model_id": "",
       "version_major": 2,
       "version_minor": 0
      },
      "text/plain": [
       "HBox(children=(FloatProgress(value=0.0, description='Training', layout=Layout(flex='2'), max=1125.0, style=Pro…"
      ]
     },
     "metadata": {},
     "output_type": "display_data"
    },
    {
     "name": "stdout",
     "output_type": "stream",
     "text": [
      "Epoch 180: train=1.27093, val=1.13311, took 38.338 s\n"
     ]
    },
    {
     "data": {
      "application/vnd.jupyter.widget-view+json": {
       "model_id": "",
       "version_major": 2,
       "version_minor": 0
      },
      "text/plain": [
       "HBox(children=(FloatProgress(value=0.0, description='Training', layout=Layout(flex='2'), max=1125.0, style=Pro…"
      ]
     },
     "metadata": {},
     "output_type": "display_data"
    },
    {
     "name": "stdout",
     "output_type": "stream",
     "text": [
      "Epoch 181: train=1.27172, val=1.14258, took 38.291 s\n"
     ]
    },
    {
     "data": {
      "application/vnd.jupyter.widget-view+json": {
       "model_id": "",
       "version_major": 2,
       "version_minor": 0
      },
      "text/plain": [
       "HBox(children=(FloatProgress(value=0.0, description='Training', layout=Layout(flex='2'), max=1125.0, style=Pro…"
      ]
     },
     "metadata": {},
     "output_type": "display_data"
    },
    {
     "name": "stdout",
     "output_type": "stream",
     "text": [
      "Epoch 182: train=1.27515, val=1.13344, took 40.08 s\n"
     ]
    },
    {
     "data": {
      "application/vnd.jupyter.widget-view+json": {
       "model_id": "",
       "version_major": 2,
       "version_minor": 0
      },
      "text/plain": [
       "HBox(children=(FloatProgress(value=0.0, description='Training', layout=Layout(flex='2'), max=1125.0, style=Pro…"
      ]
     },
     "metadata": {},
     "output_type": "display_data"
    },
    {
     "name": "stdout",
     "output_type": "stream",
     "text": [
      "Epoch 183: train=1.27644, val=1.13384, took 38.758 s\n"
     ]
    },
    {
     "data": {
      "application/vnd.jupyter.widget-view+json": {
       "model_id": "",
       "version_major": 2,
       "version_minor": 0
      },
      "text/plain": [
       "HBox(children=(FloatProgress(value=0.0, description='Training', layout=Layout(flex='2'), max=1125.0, style=Pro…"
      ]
     },
     "metadata": {},
     "output_type": "display_data"
    },
    {
     "name": "stdout",
     "output_type": "stream",
     "text": [
      "Epoch 184: train=1.27346, val=1.19246, took 39.343 s\n"
     ]
    },
    {
     "data": {
      "application/vnd.jupyter.widget-view+json": {
       "model_id": "",
       "version_major": 2,
       "version_minor": 0
      },
      "text/plain": [
       "HBox(children=(FloatProgress(value=0.0, description='Training', layout=Layout(flex='2'), max=1125.0, style=Pro…"
      ]
     },
     "metadata": {},
     "output_type": "display_data"
    },
    {
     "name": "stdout",
     "output_type": "stream",
     "text": [
      "Epoch 185: train=1.27341, val=1.15128, took 38.854 s\n"
     ]
    },
    {
     "data": {
      "application/vnd.jupyter.widget-view+json": {
       "model_id": "",
       "version_major": 2,
       "version_minor": 0
      },
      "text/plain": [
       "HBox(children=(FloatProgress(value=0.0, description='Training', layout=Layout(flex='2'), max=1125.0, style=Pro…"
      ]
     },
     "metadata": {},
     "output_type": "display_data"
    },
    {
     "name": "stdout",
     "output_type": "stream",
     "text": [
      "Epoch 186: train=1.27385, val=1.14564, took 40.009 s\n"
     ]
    },
    {
     "data": {
      "application/vnd.jupyter.widget-view+json": {
       "model_id": "",
       "version_major": 2,
       "version_minor": 0
      },
      "text/plain": [
       "HBox(children=(FloatProgress(value=0.0, description='Training', layout=Layout(flex='2'), max=1125.0, style=Pro…"
      ]
     },
     "metadata": {},
     "output_type": "display_data"
    },
    {
     "name": "stdout",
     "output_type": "stream",
     "text": [
      "Epoch 187: train=1.27526, val=1.14242, took 38.809 s\n"
     ]
    },
    {
     "data": {
      "application/vnd.jupyter.widget-view+json": {
       "model_id": "",
       "version_major": 2,
       "version_minor": 0
      },
      "text/plain": [
       "HBox(children=(FloatProgress(value=0.0, description='Training', layout=Layout(flex='2'), max=1125.0, style=Pro…"
      ]
     },
     "metadata": {},
     "output_type": "display_data"
    },
    {
     "name": "stdout",
     "output_type": "stream",
     "text": [
      "Epoch 188: train=1.27052, val=1.13307, took 38.73 s\n"
     ]
    },
    {
     "data": {
      "application/vnd.jupyter.widget-view+json": {
       "model_id": "",
       "version_major": 2,
       "version_minor": 0
      },
      "text/plain": [
       "HBox(children=(FloatProgress(value=0.0, description='Training', layout=Layout(flex='2'), max=1125.0, style=Pro…"
      ]
     },
     "metadata": {},
     "output_type": "display_data"
    },
    {
     "name": "stdout",
     "output_type": "stream",
     "text": [
      "Epoch 189: train=1.27259, val=1.20126, took 38.968 s\n"
     ]
    },
    {
     "data": {
      "application/vnd.jupyter.widget-view+json": {
       "model_id": "",
       "version_major": 2,
       "version_minor": 0
      },
      "text/plain": [
       "HBox(children=(FloatProgress(value=0.0, description='Training', layout=Layout(flex='2'), max=1125.0, style=Pro…"
      ]
     },
     "metadata": {},
     "output_type": "display_data"
    },
    {
     "name": "stdout",
     "output_type": "stream",
     "text": [
      "Epoch 190: train=1.27233, val=1.1408, took 39.078 s\n"
     ]
    },
    {
     "data": {
      "application/vnd.jupyter.widget-view+json": {
       "model_id": "",
       "version_major": 2,
       "version_minor": 0
      },
      "text/plain": [
       "HBox(children=(FloatProgress(value=0.0, description='Training', layout=Layout(flex='2'), max=1125.0, style=Pro…"
      ]
     },
     "metadata": {},
     "output_type": "display_data"
    },
    {
     "name": "stdout",
     "output_type": "stream",
     "text": [
      "Epoch 191: train=1.27072, val=1.13197, took 38.826 s\n"
     ]
    },
    {
     "data": {
      "application/vnd.jupyter.widget-view+json": {
       "model_id": "",
       "version_major": 2,
       "version_minor": 0
      },
      "text/plain": [
       "HBox(children=(FloatProgress(value=0.0, description='Training', layout=Layout(flex='2'), max=1125.0, style=Pro…"
      ]
     },
     "metadata": {},
     "output_type": "display_data"
    },
    {
     "name": "stdout",
     "output_type": "stream",
     "text": [
      "Epoch 192: train=1.26951, val=1.1366, took 39.08 s\n"
     ]
    },
    {
     "data": {
      "application/vnd.jupyter.widget-view+json": {
       "model_id": "",
       "version_major": 2,
       "version_minor": 0
      },
      "text/plain": [
       "HBox(children=(FloatProgress(value=0.0, description='Training', layout=Layout(flex='2'), max=1125.0, style=Pro…"
      ]
     },
     "metadata": {},
     "output_type": "display_data"
    },
    {
     "name": "stdout",
     "output_type": "stream",
     "text": [
      "Epoch 193: train=1.27195, val=1.12799, took 38.339 s\n"
     ]
    },
    {
     "data": {
      "application/vnd.jupyter.widget-view+json": {
       "model_id": "",
       "version_major": 2,
       "version_minor": 0
      },
      "text/plain": [
       "HBox(children=(FloatProgress(value=0.0, description='Training', layout=Layout(flex='2'), max=1125.0, style=Pro…"
      ]
     },
     "metadata": {},
     "output_type": "display_data"
    },
    {
     "name": "stdout",
     "output_type": "stream",
     "text": [
      "Epoch 194: train=1.26846, val=1.13079, took 38.365 s\n"
     ]
    },
    {
     "data": {
      "application/vnd.jupyter.widget-view+json": {
       "model_id": "",
       "version_major": 2,
       "version_minor": 0
      },
      "text/plain": [
       "HBox(children=(FloatProgress(value=0.0, description='Training', layout=Layout(flex='2'), max=1125.0, style=Pro…"
      ]
     },
     "metadata": {},
     "output_type": "display_data"
    },
    {
     "name": "stdout",
     "output_type": "stream",
     "text": [
      "Epoch 195: train=1.27236, val=1.132, took 38.399 s\n"
     ]
    },
    {
     "data": {
      "application/vnd.jupyter.widget-view+json": {
       "model_id": "",
       "version_major": 2,
       "version_minor": 0
      },
      "text/plain": [
       "HBox(children=(FloatProgress(value=0.0, description='Training', layout=Layout(flex='2'), max=1125.0, style=Pro…"
      ]
     },
     "metadata": {},
     "output_type": "display_data"
    },
    {
     "name": "stdout",
     "output_type": "stream",
     "text": [
      "Epoch 196: train=1.27215, val=1.13678, took 38.357 s\n"
     ]
    },
    {
     "data": {
      "application/vnd.jupyter.widget-view+json": {
       "model_id": "",
       "version_major": 2,
       "version_minor": 0
      },
      "text/plain": [
       "HBox(children=(FloatProgress(value=0.0, description='Training', layout=Layout(flex='2'), max=1125.0, style=Pro…"
      ]
     },
     "metadata": {},
     "output_type": "display_data"
    },
    {
     "name": "stdout",
     "output_type": "stream",
     "text": [
      "Epoch 197: train=1.2728, val=1.14109, took 38.404 s\n"
     ]
    },
    {
     "data": {
      "application/vnd.jupyter.widget-view+json": {
       "model_id": "",
       "version_major": 2,
       "version_minor": 0
      },
      "text/plain": [
       "HBox(children=(FloatProgress(value=0.0, description='Training', layout=Layout(flex='2'), max=1125.0, style=Pro…"
      ]
     },
     "metadata": {},
     "output_type": "display_data"
    },
    {
     "name": "stdout",
     "output_type": "stream",
     "text": [
      "Epoch 198: train=1.27158, val=1.1296, took 38.489 s\n"
     ]
    },
    {
     "data": {
      "application/vnd.jupyter.widget-view+json": {
       "model_id": "",
       "version_major": 2,
       "version_minor": 0
      },
      "text/plain": [
       "HBox(children=(FloatProgress(value=0.0, description='Training', layout=Layout(flex='2'), max=1125.0, style=Pro…"
      ]
     },
     "metadata": {},
     "output_type": "display_data"
    },
    {
     "name": "stdout",
     "output_type": "stream",
     "text": [
      "Epoch 199: train=1.26907, val=1.13325, took 38.442 s\n"
     ]
    },
    {
     "data": {
      "application/vnd.jupyter.widget-view+json": {
       "model_id": "",
       "version_major": 2,
       "version_minor": 0
      },
      "text/plain": [
       "HBox(children=(FloatProgress(value=0.0, description='Training', layout=Layout(flex='2'), max=1125.0, style=Pro…"
      ]
     },
     "metadata": {},
     "output_type": "display_data"
    },
    {
     "name": "stdout",
     "output_type": "stream",
     "text": [
      "Epoch 200: train=1.27117, val=1.14337, took 38.806 s\n"
     ]
    },
    {
     "data": {
      "application/vnd.jupyter.widget-view+json": {
       "model_id": "",
       "version_major": 2,
       "version_minor": 0
      },
      "text/plain": [
       "HBox(children=(FloatProgress(value=0.0, description='Training', layout=Layout(flex='2'), max=1125.0, style=Pro…"
      ]
     },
     "metadata": {},
     "output_type": "display_data"
    },
    {
     "name": "stdout",
     "output_type": "stream",
     "text": [
      "Epoch 201: train=1.27173, val=1.13055, took 38.807 s\n"
     ]
    },
    {
     "data": {
      "application/vnd.jupyter.widget-view+json": {
       "model_id": "",
       "version_major": 2,
       "version_minor": 0
      },
      "text/plain": [
       "HBox(children=(FloatProgress(value=0.0, description='Training', layout=Layout(flex='2'), max=1125.0, style=Pro…"
      ]
     },
     "metadata": {},
     "output_type": "display_data"
    },
    {
     "name": "stdout",
     "output_type": "stream",
     "text": [
      "Epoch 202: train=1.2728, val=1.12699, took 38.285 s\n"
     ]
    },
    {
     "data": {
      "application/vnd.jupyter.widget-view+json": {
       "model_id": "",
       "version_major": 2,
       "version_minor": 0
      },
      "text/plain": [
       "HBox(children=(FloatProgress(value=0.0, description='Training', layout=Layout(flex='2'), max=1125.0, style=Pro…"
      ]
     },
     "metadata": {},
     "output_type": "display_data"
    },
    {
     "name": "stdout",
     "output_type": "stream",
     "text": [
      "Epoch 203: train=1.26817, val=1.1283, took 38.65 s\n"
     ]
    },
    {
     "data": {
      "application/vnd.jupyter.widget-view+json": {
       "model_id": "",
       "version_major": 2,
       "version_minor": 0
      },
      "text/plain": [
       "HBox(children=(FloatProgress(value=0.0, description='Training', layout=Layout(flex='2'), max=1125.0, style=Pro…"
      ]
     },
     "metadata": {},
     "output_type": "display_data"
    },
    {
     "name": "stdout",
     "output_type": "stream",
     "text": [
      "Epoch 204: train=1.27058, val=1.12693, took 38.466 s\n"
     ]
    },
    {
     "data": {
      "application/vnd.jupyter.widget-view+json": {
       "model_id": "",
       "version_major": 2,
       "version_minor": 0
      },
      "text/plain": [
       "HBox(children=(FloatProgress(value=0.0, description='Training', layout=Layout(flex='2'), max=1125.0, style=Pro…"
      ]
     },
     "metadata": {},
     "output_type": "display_data"
    },
    {
     "name": "stdout",
     "output_type": "stream",
     "text": [
      "Epoch 205: train=1.26812, val=1.13193, took 38.728 s\n"
     ]
    },
    {
     "data": {
      "application/vnd.jupyter.widget-view+json": {
       "model_id": "",
       "version_major": 2,
       "version_minor": 0
      },
      "text/plain": [
       "HBox(children=(FloatProgress(value=0.0, description='Training', layout=Layout(flex='2'), max=1125.0, style=Pro…"
      ]
     },
     "metadata": {},
     "output_type": "display_data"
    },
    {
     "name": "stdout",
     "output_type": "stream",
     "text": [
      "Epoch 206: train=1.26764, val=1.1304, took 38.525 s\n"
     ]
    },
    {
     "data": {
      "application/vnd.jupyter.widget-view+json": {
       "model_id": "",
       "version_major": 2,
       "version_minor": 0
      },
      "text/plain": [
       "HBox(children=(FloatProgress(value=0.0, description='Training', layout=Layout(flex='2'), max=1125.0, style=Pro…"
      ]
     },
     "metadata": {},
     "output_type": "display_data"
    },
    {
     "name": "stdout",
     "output_type": "stream",
     "text": [
      "Epoch 207: train=1.27198, val=1.12958, took 38.281 s\n"
     ]
    },
    {
     "data": {
      "application/vnd.jupyter.widget-view+json": {
       "model_id": "",
       "version_major": 2,
       "version_minor": 0
      },
      "text/plain": [
       "HBox(children=(FloatProgress(value=0.0, description='Training', layout=Layout(flex='2'), max=1125.0, style=Pro…"
      ]
     },
     "metadata": {},
     "output_type": "display_data"
    },
    {
     "name": "stdout",
     "output_type": "stream",
     "text": [
      "Epoch 208: train=1.26722, val=1.13352, took 38.441 s\n"
     ]
    },
    {
     "data": {
      "application/vnd.jupyter.widget-view+json": {
       "model_id": "",
       "version_major": 2,
       "version_minor": 0
      },
      "text/plain": [
       "HBox(children=(FloatProgress(value=0.0, description='Training', layout=Layout(flex='2'), max=1125.0, style=Pro…"
      ]
     },
     "metadata": {},
     "output_type": "display_data"
    },
    {
     "name": "stdout",
     "output_type": "stream",
     "text": [
      "Epoch 209: train=1.26722, val=1.13014, took 38.415 s\n"
     ]
    },
    {
     "data": {
      "application/vnd.jupyter.widget-view+json": {
       "model_id": "",
       "version_major": 2,
       "version_minor": 0
      },
      "text/plain": [
       "HBox(children=(FloatProgress(value=0.0, description='Training', layout=Layout(flex='2'), max=1125.0, style=Pro…"
      ]
     },
     "metadata": {},
     "output_type": "display_data"
    },
    {
     "name": "stdout",
     "output_type": "stream",
     "text": [
      "Epoch 210: train=1.27339, val=1.13784, took 38.448 s\n"
     ]
    },
    {
     "data": {
      "application/vnd.jupyter.widget-view+json": {
       "model_id": "",
       "version_major": 2,
       "version_minor": 0
      },
      "text/plain": [
       "HBox(children=(FloatProgress(value=0.0, description='Training', layout=Layout(flex='2'), max=1125.0, style=Pro…"
      ]
     },
     "metadata": {},
     "output_type": "display_data"
    },
    {
     "name": "stdout",
     "output_type": "stream",
     "text": [
      "Epoch 211: train=1.26821, val=1.13079, took 38.457 s\n"
     ]
    },
    {
     "data": {
      "application/vnd.jupyter.widget-view+json": {
       "model_id": "",
       "version_major": 2,
       "version_minor": 0
      },
      "text/plain": [
       "HBox(children=(FloatProgress(value=0.0, description='Training', layout=Layout(flex='2'), max=1125.0, style=Pro…"
      ]
     },
     "metadata": {},
     "output_type": "display_data"
    },
    {
     "name": "stdout",
     "output_type": "stream",
     "text": [
      "Epoch 212: train=1.26717, val=1.17158, took 38.94 s\n"
     ]
    },
    {
     "data": {
      "application/vnd.jupyter.widget-view+json": {
       "model_id": "",
       "version_major": 2,
       "version_minor": 0
      },
      "text/plain": [
       "HBox(children=(FloatProgress(value=0.0, description='Training', layout=Layout(flex='2'), max=1125.0, style=Pro…"
      ]
     },
     "metadata": {},
     "output_type": "display_data"
    },
    {
     "name": "stdout",
     "output_type": "stream",
     "text": [
      "Epoch 213: train=1.26919, val=1.1456, took 38.633 s\n"
     ]
    },
    {
     "data": {
      "application/vnd.jupyter.widget-view+json": {
       "model_id": "",
       "version_major": 2,
       "version_minor": 0
      },
      "text/plain": [
       "HBox(children=(FloatProgress(value=0.0, description='Training', layout=Layout(flex='2'), max=1125.0, style=Pro…"
      ]
     },
     "metadata": {},
     "output_type": "display_data"
    },
    {
     "name": "stdout",
     "output_type": "stream",
     "text": [
      "Epoch 214: train=1.26917, val=1.13166, took 38.745 s\n"
     ]
    },
    {
     "data": {
      "application/vnd.jupyter.widget-view+json": {
       "model_id": "",
       "version_major": 2,
       "version_minor": 0
      },
      "text/plain": [
       "HBox(children=(FloatProgress(value=0.0, description='Training', layout=Layout(flex='2'), max=1125.0, style=Pro…"
      ]
     },
     "metadata": {},
     "output_type": "display_data"
    },
    {
     "name": "stdout",
     "output_type": "stream",
     "text": [
      "Epoch 215: train=1.27329, val=1.13041, took 38.661 s\n"
     ]
    },
    {
     "data": {
      "application/vnd.jupyter.widget-view+json": {
       "model_id": "",
       "version_major": 2,
       "version_minor": 0
      },
      "text/plain": [
       "HBox(children=(FloatProgress(value=0.0, description='Training', layout=Layout(flex='2'), max=1125.0, style=Pro…"
      ]
     },
     "metadata": {},
     "output_type": "display_data"
    },
    {
     "name": "stdout",
     "output_type": "stream",
     "text": [
      "Epoch 216: train=1.26351, val=1.12717, took 38.637 s\n"
     ]
    },
    {
     "data": {
      "application/vnd.jupyter.widget-view+json": {
       "model_id": "",
       "version_major": 2,
       "version_minor": 0
      },
      "text/plain": [
       "HBox(children=(FloatProgress(value=0.0, description='Training', layout=Layout(flex='2'), max=1125.0, style=Pro…"
      ]
     },
     "metadata": {},
     "output_type": "display_data"
    },
    {
     "name": "stdout",
     "output_type": "stream",
     "text": [
      "Epoch 217: train=1.27119, val=1.15816, took 39.046 s\n"
     ]
    },
    {
     "data": {
      "application/vnd.jupyter.widget-view+json": {
       "model_id": "",
       "version_major": 2,
       "version_minor": 0
      },
      "text/plain": [
       "HBox(children=(FloatProgress(value=0.0, description='Training', layout=Layout(flex='2'), max=1125.0, style=Pro…"
      ]
     },
     "metadata": {},
     "output_type": "display_data"
    },
    {
     "name": "stdout",
     "output_type": "stream",
     "text": [
      "Epoch 218: train=1.2646, val=1.13895, took 38.747 s\n"
     ]
    },
    {
     "data": {
      "application/vnd.jupyter.widget-view+json": {
       "model_id": "",
       "version_major": 2,
       "version_minor": 0
      },
      "text/plain": [
       "HBox(children=(FloatProgress(value=0.0, description='Training', layout=Layout(flex='2'), max=1125.0, style=Pro…"
      ]
     },
     "metadata": {},
     "output_type": "display_data"
    },
    {
     "name": "stdout",
     "output_type": "stream",
     "text": [
      "Epoch 219: train=1.26648, val=1.13777, took 38.584 s\n"
     ]
    },
    {
     "data": {
      "application/vnd.jupyter.widget-view+json": {
       "model_id": "",
       "version_major": 2,
       "version_minor": 0
      },
      "text/plain": [
       "HBox(children=(FloatProgress(value=0.0, description='Training', layout=Layout(flex='2'), max=1125.0, style=Pro…"
      ]
     },
     "metadata": {},
     "output_type": "display_data"
    },
    {
     "name": "stdout",
     "output_type": "stream",
     "text": [
      "Epoch 220: train=1.26673, val=1.1435, took 38.84 s\n"
     ]
    },
    {
     "data": {
      "application/vnd.jupyter.widget-view+json": {
       "model_id": "",
       "version_major": 2,
       "version_minor": 0
      },
      "text/plain": [
       "HBox(children=(FloatProgress(value=0.0, description='Training', layout=Layout(flex='2'), max=1125.0, style=Pro…"
      ]
     },
     "metadata": {},
     "output_type": "display_data"
    },
    {
     "name": "stdout",
     "output_type": "stream",
     "text": [
      "Epoch 221: train=1.26937, val=1.12978, took 38.913 s\n"
     ]
    },
    {
     "data": {
      "application/vnd.jupyter.widget-view+json": {
       "model_id": "",
       "version_major": 2,
       "version_minor": 0
      },
      "text/plain": [
       "HBox(children=(FloatProgress(value=0.0, description='Training', layout=Layout(flex='2'), max=1125.0, style=Pro…"
      ]
     },
     "metadata": {},
     "output_type": "display_data"
    },
    {
     "name": "stdout",
     "output_type": "stream",
     "text": [
      "Epoch 222: train=1.26952, val=1.12932, took 38.519 s\n"
     ]
    },
    {
     "data": {
      "application/vnd.jupyter.widget-view+json": {
       "model_id": "",
       "version_major": 2,
       "version_minor": 0
      },
      "text/plain": [
       "HBox(children=(FloatProgress(value=0.0, description='Training', layout=Layout(flex='2'), max=1125.0, style=Pro…"
      ]
     },
     "metadata": {},
     "output_type": "display_data"
    },
    {
     "name": "stdout",
     "output_type": "stream",
     "text": [
      "Epoch 223: train=1.26748, val=1.13535, took 38.316 s\n"
     ]
    },
    {
     "data": {
      "application/vnd.jupyter.widget-view+json": {
       "model_id": "",
       "version_major": 2,
       "version_minor": 0
      },
      "text/plain": [
       "HBox(children=(FloatProgress(value=0.0, description='Training', layout=Layout(flex='2'), max=1125.0, style=Pro…"
      ]
     },
     "metadata": {},
     "output_type": "display_data"
    },
    {
     "name": "stdout",
     "output_type": "stream",
     "text": [
      "Epoch 224: train=1.26808, val=1.13103, took 38.76 s\n"
     ]
    },
    {
     "data": {
      "application/vnd.jupyter.widget-view+json": {
       "model_id": "",
       "version_major": 2,
       "version_minor": 0
      },
      "text/plain": [
       "HBox(children=(FloatProgress(value=0.0, description='Training', layout=Layout(flex='2'), max=1125.0, style=Pro…"
      ]
     },
     "metadata": {},
     "output_type": "display_data"
    },
    {
     "name": "stdout",
     "output_type": "stream",
     "text": [
      "Epoch 225: train=1.26774, val=1.14115, took 38.878 s\n"
     ]
    },
    {
     "data": {
      "application/vnd.jupyter.widget-view+json": {
       "model_id": "",
       "version_major": 2,
       "version_minor": 0
      },
      "text/plain": [
       "HBox(children=(FloatProgress(value=0.0, description='Training', layout=Layout(flex='2'), max=1125.0, style=Pro…"
      ]
     },
     "metadata": {},
     "output_type": "display_data"
    },
    {
     "name": "stdout",
     "output_type": "stream",
     "text": [
      "Epoch 226: train=1.26923, val=1.12693, took 38.761 s\n"
     ]
    },
    {
     "data": {
      "application/vnd.jupyter.widget-view+json": {
       "model_id": "",
       "version_major": 2,
       "version_minor": 0
      },
      "text/plain": [
       "HBox(children=(FloatProgress(value=0.0, description='Training', layout=Layout(flex='2'), max=1125.0, style=Pro…"
      ]
     },
     "metadata": {},
     "output_type": "display_data"
    },
    {
     "name": "stdout",
     "output_type": "stream",
     "text": [
      "Epoch 227: train=1.26946, val=1.1444, took 38.498 s\n"
     ]
    },
    {
     "data": {
      "application/vnd.jupyter.widget-view+json": {
       "model_id": "",
       "version_major": 2,
       "version_minor": 0
      },
      "text/plain": [
       "HBox(children=(FloatProgress(value=0.0, description='Training', layout=Layout(flex='2'), max=1125.0, style=Pro…"
      ]
     },
     "metadata": {},
     "output_type": "display_data"
    },
    {
     "name": "stdout",
     "output_type": "stream",
     "text": [
      "Epoch 228: train=1.26653, val=1.14723, took 38.629 s\n"
     ]
    },
    {
     "data": {
      "application/vnd.jupyter.widget-view+json": {
       "model_id": "",
       "version_major": 2,
       "version_minor": 0
      },
      "text/plain": [
       "HBox(children=(FloatProgress(value=0.0, description='Training', layout=Layout(flex='2'), max=1125.0, style=Pro…"
      ]
     },
     "metadata": {},
     "output_type": "display_data"
    },
    {
     "name": "stdout",
     "output_type": "stream",
     "text": [
      "Epoch 229: train=1.27322, val=1.12673, took 38.382 s\n"
     ]
    },
    {
     "data": {
      "application/vnd.jupyter.widget-view+json": {
       "model_id": "",
       "version_major": 2,
       "version_minor": 0
      },
      "text/plain": [
       "HBox(children=(FloatProgress(value=0.0, description='Training', layout=Layout(flex='2'), max=1125.0, style=Pro…"
      ]
     },
     "metadata": {},
     "output_type": "display_data"
    },
    {
     "name": "stdout",
     "output_type": "stream",
     "text": [
      "Epoch 230: train=1.26783, val=1.12713, took 38.56 s\n"
     ]
    },
    {
     "data": {
      "application/vnd.jupyter.widget-view+json": {
       "model_id": "",
       "version_major": 2,
       "version_minor": 0
      },
      "text/plain": [
       "HBox(children=(FloatProgress(value=0.0, description='Training', layout=Layout(flex='2'), max=1125.0, style=Pro…"
      ]
     },
     "metadata": {},
     "output_type": "display_data"
    },
    {
     "name": "stdout",
     "output_type": "stream",
     "text": [
      "Epoch 231: train=1.26628, val=1.12911, took 38.802 s\n"
     ]
    },
    {
     "data": {
      "application/vnd.jupyter.widget-view+json": {
       "model_id": "",
       "version_major": 2,
       "version_minor": 0
      },
      "text/plain": [
       "HBox(children=(FloatProgress(value=0.0, description='Training', layout=Layout(flex='2'), max=1125.0, style=Pro…"
      ]
     },
     "metadata": {},
     "output_type": "display_data"
    },
    {
     "name": "stdout",
     "output_type": "stream",
     "text": [
      "Epoch 232: train=1.26741, val=1.12741, took 38.633 s\n"
     ]
    },
    {
     "data": {
      "application/vnd.jupyter.widget-view+json": {
       "model_id": "",
       "version_major": 2,
       "version_minor": 0
      },
      "text/plain": [
       "HBox(children=(FloatProgress(value=0.0, description='Training', layout=Layout(flex='2'), max=1125.0, style=Pro…"
      ]
     },
     "metadata": {},
     "output_type": "display_data"
    },
    {
     "name": "stdout",
     "output_type": "stream",
     "text": [
      "Epoch 233: train=1.26804, val=1.13517, took 38.744 s\n"
     ]
    },
    {
     "data": {
      "application/vnd.jupyter.widget-view+json": {
       "model_id": "",
       "version_major": 2,
       "version_minor": 0
      },
      "text/plain": [
       "HBox(children=(FloatProgress(value=0.0, description='Training', layout=Layout(flex='2'), max=1125.0, style=Pro…"
      ]
     },
     "metadata": {},
     "output_type": "display_data"
    },
    {
     "name": "stdout",
     "output_type": "stream",
     "text": [
      "Epoch 234: train=1.26649, val=1.1406, took 38.81 s\n"
     ]
    },
    {
     "data": {
      "application/vnd.jupyter.widget-view+json": {
       "model_id": "",
       "version_major": 2,
       "version_minor": 0
      },
      "text/plain": [
       "HBox(children=(FloatProgress(value=0.0, description='Training', layout=Layout(flex='2'), max=1125.0, style=Pro…"
      ]
     },
     "metadata": {},
     "output_type": "display_data"
    },
    {
     "name": "stdout",
     "output_type": "stream",
     "text": [
      "Epoch 235: train=1.2677, val=1.12552, took 38.327 s\n"
     ]
    },
    {
     "data": {
      "application/vnd.jupyter.widget-view+json": {
       "model_id": "",
       "version_major": 2,
       "version_minor": 0
      },
      "text/plain": [
       "HBox(children=(FloatProgress(value=0.0, description='Training', layout=Layout(flex='2'), max=1125.0, style=Pro…"
      ]
     },
     "metadata": {},
     "output_type": "display_data"
    },
    {
     "name": "stdout",
     "output_type": "stream",
     "text": [
      "Epoch 236: train=1.26465, val=1.12782, took 38.3 s\n"
     ]
    },
    {
     "data": {
      "application/vnd.jupyter.widget-view+json": {
       "model_id": "",
       "version_major": 2,
       "version_minor": 0
      },
      "text/plain": [
       "HBox(children=(FloatProgress(value=0.0, description='Training', layout=Layout(flex='2'), max=1125.0, style=Pro…"
      ]
     },
     "metadata": {},
     "output_type": "display_data"
    },
    {
     "name": "stdout",
     "output_type": "stream",
     "text": [
      "Epoch 237: train=1.26666, val=1.17257, took 38.573 s\n"
     ]
    },
    {
     "data": {
      "application/vnd.jupyter.widget-view+json": {
       "model_id": "",
       "version_major": 2,
       "version_minor": 0
      },
      "text/plain": [
       "HBox(children=(FloatProgress(value=0.0, description='Training', layout=Layout(flex='2'), max=1125.0, style=Pro…"
      ]
     },
     "metadata": {},
     "output_type": "display_data"
    },
    {
     "name": "stdout",
     "output_type": "stream",
     "text": [
      "Epoch 238: train=1.26708, val=1.12522, took 38.605 s\n"
     ]
    },
    {
     "data": {
      "application/vnd.jupyter.widget-view+json": {
       "model_id": "",
       "version_major": 2,
       "version_minor": 0
      },
      "text/plain": [
       "HBox(children=(FloatProgress(value=0.0, description='Training', layout=Layout(flex='2'), max=1125.0, style=Pro…"
      ]
     },
     "metadata": {},
     "output_type": "display_data"
    },
    {
     "name": "stdout",
     "output_type": "stream",
     "text": [
      "Epoch 239: train=1.26803, val=1.12776, took 38.782 s\n"
     ]
    },
    {
     "data": {
      "application/vnd.jupyter.widget-view+json": {
       "model_id": "",
       "version_major": 2,
       "version_minor": 0
      },
      "text/plain": [
       "HBox(children=(FloatProgress(value=0.0, description='Training', layout=Layout(flex='2'), max=1125.0, style=Pro…"
      ]
     },
     "metadata": {},
     "output_type": "display_data"
    },
    {
     "name": "stdout",
     "output_type": "stream",
     "text": [
      "Epoch 240: train=1.26519, val=1.13085, took 38.564 s\n"
     ]
    },
    {
     "data": {
      "application/vnd.jupyter.widget-view+json": {
       "model_id": "",
       "version_major": 2,
       "version_minor": 0
      },
      "text/plain": [
       "HBox(children=(FloatProgress(value=0.0, description='Training', layout=Layout(flex='2'), max=1125.0, style=Pro…"
      ]
     },
     "metadata": {},
     "output_type": "display_data"
    },
    {
     "name": "stdout",
     "output_type": "stream",
     "text": [
      "Epoch 241: train=1.267, val=1.1261, took 38.45 s\n"
     ]
    },
    {
     "data": {
      "application/vnd.jupyter.widget-view+json": {
       "model_id": "",
       "version_major": 2,
       "version_minor": 0
      },
      "text/plain": [
       "HBox(children=(FloatProgress(value=0.0, description='Training', layout=Layout(flex='2'), max=1125.0, style=Pro…"
      ]
     },
     "metadata": {},
     "output_type": "display_data"
    },
    {
     "name": "stdout",
     "output_type": "stream",
     "text": [
      "Epoch 242: train=1.27043, val=1.1339, took 38.438 s\n"
     ]
    },
    {
     "data": {
      "application/vnd.jupyter.widget-view+json": {
       "model_id": "",
       "version_major": 2,
       "version_minor": 0
      },
      "text/plain": [
       "HBox(children=(FloatProgress(value=0.0, description='Training', layout=Layout(flex='2'), max=1125.0, style=Pro…"
      ]
     },
     "metadata": {},
     "output_type": "display_data"
    },
    {
     "name": "stdout",
     "output_type": "stream",
     "text": [
      "Epoch 243: train=1.26479, val=1.13284, took 38.517 s\n"
     ]
    },
    {
     "data": {
      "application/vnd.jupyter.widget-view+json": {
       "model_id": "",
       "version_major": 2,
       "version_minor": 0
      },
      "text/plain": [
       "HBox(children=(FloatProgress(value=0.0, description='Training', layout=Layout(flex='2'), max=1125.0, style=Pro…"
      ]
     },
     "metadata": {},
     "output_type": "display_data"
    },
    {
     "name": "stdout",
     "output_type": "stream",
     "text": [
      "Epoch 244: train=1.26509, val=1.14038, took 38.51 s\n"
     ]
    },
    {
     "data": {
      "application/vnd.jupyter.widget-view+json": {
       "model_id": "",
       "version_major": 2,
       "version_minor": 0
      },
      "text/plain": [
       "HBox(children=(FloatProgress(value=0.0, description='Training', layout=Layout(flex='2'), max=1125.0, style=Pro…"
      ]
     },
     "metadata": {},
     "output_type": "display_data"
    },
    {
     "name": "stdout",
     "output_type": "stream",
     "text": [
      "Epoch 245: train=1.26275, val=1.14458, took 38.762 s\n"
     ]
    },
    {
     "data": {
      "application/vnd.jupyter.widget-view+json": {
       "model_id": "",
       "version_major": 2,
       "version_minor": 0
      },
      "text/plain": [
       "HBox(children=(FloatProgress(value=0.0, description='Training', layout=Layout(flex='2'), max=1125.0, style=Pro…"
      ]
     },
     "metadata": {},
     "output_type": "display_data"
    },
    {
     "name": "stdout",
     "output_type": "stream",
     "text": [
      "Epoch 246: train=1.26519, val=1.13074, took 38.283 s\n"
     ]
    },
    {
     "data": {
      "application/vnd.jupyter.widget-view+json": {
       "model_id": "",
       "version_major": 2,
       "version_minor": 0
      },
      "text/plain": [
       "HBox(children=(FloatProgress(value=0.0, description='Training', layout=Layout(flex='2'), max=1125.0, style=Pro…"
      ]
     },
     "metadata": {},
     "output_type": "display_data"
    },
    {
     "name": "stdout",
     "output_type": "stream",
     "text": [
      "Epoch 247: train=1.2638, val=1.12847, took 38.089 s\n"
     ]
    },
    {
     "data": {
      "application/vnd.jupyter.widget-view+json": {
       "model_id": "",
       "version_major": 2,
       "version_minor": 0
      },
      "text/plain": [
       "HBox(children=(FloatProgress(value=0.0, description='Training', layout=Layout(flex='2'), max=1125.0, style=Pro…"
      ]
     },
     "metadata": {},
     "output_type": "display_data"
    },
    {
     "name": "stdout",
     "output_type": "stream",
     "text": [
      "Epoch 248: train=1.26454, val=1.12871, took 38.862 s\n"
     ]
    },
    {
     "data": {
      "application/vnd.jupyter.widget-view+json": {
       "model_id": "",
       "version_major": 2,
       "version_minor": 0
      },
      "text/plain": [
       "HBox(children=(FloatProgress(value=0.0, description='Training', layout=Layout(flex='2'), max=1125.0, style=Pro…"
      ]
     },
     "metadata": {},
     "output_type": "display_data"
    },
    {
     "name": "stdout",
     "output_type": "stream",
     "text": [
      "Epoch 249: train=1.26584, val=1.15664, took 38.831 s\n"
     ]
    },
    {
     "data": {
      "application/vnd.jupyter.widget-view+json": {
       "model_id": "",
       "version_major": 2,
       "version_minor": 0
      },
      "text/plain": [
       "HBox(children=(FloatProgress(value=0.0, description='Training', layout=Layout(flex='2'), max=1125.0, style=Pro…"
      ]
     },
     "metadata": {},
     "output_type": "display_data"
    },
    {
     "name": "stdout",
     "output_type": "stream",
     "text": [
      "Epoch 250: train=1.26449, val=1.12454, took 40.651 s\n"
     ]
    },
    {
     "data": {
      "application/vnd.jupyter.widget-view+json": {
       "model_id": "",
       "version_major": 2,
       "version_minor": 0
      },
      "text/plain": [
       "HBox(children=(FloatProgress(value=0.0, description='Training', layout=Layout(flex='2'), max=1125.0, style=Pro…"
      ]
     },
     "metadata": {},
     "output_type": "display_data"
    },
    {
     "name": "stdout",
     "output_type": "stream",
     "text": [
      "Epoch 251: train=1.2643, val=1.14564, took 39.115 s\n"
     ]
    },
    {
     "data": {
      "application/vnd.jupyter.widget-view+json": {
       "model_id": "",
       "version_major": 2,
       "version_minor": 0
      },
      "text/plain": [
       "HBox(children=(FloatProgress(value=0.0, description='Training', layout=Layout(flex='2'), max=1125.0, style=Pro…"
      ]
     },
     "metadata": {},
     "output_type": "display_data"
    },
    {
     "name": "stdout",
     "output_type": "stream",
     "text": [
      "Epoch 252: train=1.26883, val=1.1272, took 38.708 s\n"
     ]
    },
    {
     "data": {
      "application/vnd.jupyter.widget-view+json": {
       "model_id": "",
       "version_major": 2,
       "version_minor": 0
      },
      "text/plain": [
       "HBox(children=(FloatProgress(value=0.0, description='Training', layout=Layout(flex='2'), max=1125.0, style=Pro…"
      ]
     },
     "metadata": {},
     "output_type": "display_data"
    },
    {
     "name": "stdout",
     "output_type": "stream",
     "text": [
      "Epoch 253: train=1.26794, val=1.13169, took 38.587 s\n"
     ]
    },
    {
     "data": {
      "application/vnd.jupyter.widget-view+json": {
       "model_id": "",
       "version_major": 2,
       "version_minor": 0
      },
      "text/plain": [
       "HBox(children=(FloatProgress(value=0.0, description='Training', layout=Layout(flex='2'), max=1125.0, style=Pro…"
      ]
     },
     "metadata": {},
     "output_type": "display_data"
    },
    {
     "name": "stdout",
     "output_type": "stream",
     "text": [
      "Epoch 254: train=1.2676, val=1.12647, took 38.828 s\n"
     ]
    },
    {
     "data": {
      "application/vnd.jupyter.widget-view+json": {
       "model_id": "",
       "version_major": 2,
       "version_minor": 0
      },
      "text/plain": [
       "HBox(children=(FloatProgress(value=0.0, description='Training', layout=Layout(flex='2'), max=1125.0, style=Pro…"
      ]
     },
     "metadata": {},
     "output_type": "display_data"
    },
    {
     "name": "stdout",
     "output_type": "stream",
     "text": [
      "Epoch 255: train=1.26686, val=1.15983, took 38.797 s\n"
     ]
    },
    {
     "data": {
      "application/vnd.jupyter.widget-view+json": {
       "model_id": "",
       "version_major": 2,
       "version_minor": 0
      },
      "text/plain": [
       "HBox(children=(FloatProgress(value=0.0, description='Training', layout=Layout(flex='2'), max=1125.0, style=Pro…"
      ]
     },
     "metadata": {},
     "output_type": "display_data"
    },
    {
     "name": "stdout",
     "output_type": "stream",
     "text": [
      "Epoch 256: train=1.26332, val=1.12568, took 38.399 s\n"
     ]
    },
    {
     "data": {
      "application/vnd.jupyter.widget-view+json": {
       "model_id": "",
       "version_major": 2,
       "version_minor": 0
      },
      "text/plain": [
       "HBox(children=(FloatProgress(value=0.0, description='Training', layout=Layout(flex='2'), max=1125.0, style=Pro…"
      ]
     },
     "metadata": {},
     "output_type": "display_data"
    },
    {
     "name": "stdout",
     "output_type": "stream",
     "text": [
      "Epoch 257: train=1.26307, val=1.12747, took 38.64 s\n"
     ]
    },
    {
     "data": {
      "application/vnd.jupyter.widget-view+json": {
       "model_id": "",
       "version_major": 2,
       "version_minor": 0
      },
      "text/plain": [
       "HBox(children=(FloatProgress(value=0.0, description='Training', layout=Layout(flex='2'), max=1125.0, style=Pro…"
      ]
     },
     "metadata": {},
     "output_type": "display_data"
    },
    {
     "name": "stdout",
     "output_type": "stream",
     "text": [
      "Epoch 258: train=1.26472, val=1.12992, took 38.457 s\n"
     ]
    },
    {
     "data": {
      "application/vnd.jupyter.widget-view+json": {
       "model_id": "",
       "version_major": 2,
       "version_minor": 0
      },
      "text/plain": [
       "HBox(children=(FloatProgress(value=0.0, description='Training', layout=Layout(flex='2'), max=1125.0, style=Pro…"
      ]
     },
     "metadata": {},
     "output_type": "display_data"
    },
    {
     "name": "stdout",
     "output_type": "stream",
     "text": [
      "Epoch 259: train=1.26525, val=1.13185, took 40.658 s\n"
     ]
    },
    {
     "data": {
      "application/vnd.jupyter.widget-view+json": {
       "model_id": "",
       "version_major": 2,
       "version_minor": 0
      },
      "text/plain": [
       "HBox(children=(FloatProgress(value=0.0, description='Training', layout=Layout(flex='2'), max=1125.0, style=Pro…"
      ]
     },
     "metadata": {},
     "output_type": "display_data"
    },
    {
     "name": "stdout",
     "output_type": "stream",
     "text": [
      "Epoch 260: train=1.26532, val=1.13406, took 39.162 s\n"
     ]
    },
    {
     "data": {
      "application/vnd.jupyter.widget-view+json": {
       "model_id": "",
       "version_major": 2,
       "version_minor": 0
      },
      "text/plain": [
       "HBox(children=(FloatProgress(value=0.0, description='Training', layout=Layout(flex='2'), max=1125.0, style=Pro…"
      ]
     },
     "metadata": {},
     "output_type": "display_data"
    },
    {
     "name": "stdout",
     "output_type": "stream",
     "text": [
      "Epoch 261: train=1.26178, val=1.1241, took 39.158 s\n"
     ]
    },
    {
     "data": {
      "application/vnd.jupyter.widget-view+json": {
       "model_id": "",
       "version_major": 2,
       "version_minor": 0
      },
      "text/plain": [
       "HBox(children=(FloatProgress(value=0.0, description='Training', layout=Layout(flex='2'), max=1125.0, style=Pro…"
      ]
     },
     "metadata": {},
     "output_type": "display_data"
    },
    {
     "name": "stdout",
     "output_type": "stream",
     "text": [
      "Epoch 262: train=1.26008, val=1.12534, took 38.45 s\n"
     ]
    },
    {
     "data": {
      "application/vnd.jupyter.widget-view+json": {
       "model_id": "",
       "version_major": 2,
       "version_minor": 0
      },
      "text/plain": [
       "HBox(children=(FloatProgress(value=0.0, description='Training', layout=Layout(flex='2'), max=1125.0, style=Pro…"
      ]
     },
     "metadata": {},
     "output_type": "display_data"
    },
    {
     "name": "stdout",
     "output_type": "stream",
     "text": [
      "Epoch 263: train=1.2577, val=1.123, took 38.834 s\n"
     ]
    },
    {
     "data": {
      "application/vnd.jupyter.widget-view+json": {
       "model_id": "",
       "version_major": 2,
       "version_minor": 0
      },
      "text/plain": [
       "HBox(children=(FloatProgress(value=0.0, description='Training', layout=Layout(flex='2'), max=1125.0, style=Pro…"
      ]
     },
     "metadata": {},
     "output_type": "display_data"
    },
    {
     "name": "stdout",
     "output_type": "stream",
     "text": [
      "Epoch 264: train=1.2641, val=1.13049, took 39.354 s\n"
     ]
    },
    {
     "data": {
      "application/vnd.jupyter.widget-view+json": {
       "model_id": "",
       "version_major": 2,
       "version_minor": 0
      },
      "text/plain": [
       "HBox(children=(FloatProgress(value=0.0, description='Training', layout=Layout(flex='2'), max=1125.0, style=Pro…"
      ]
     },
     "metadata": {},
     "output_type": "display_data"
    },
    {
     "name": "stdout",
     "output_type": "stream",
     "text": [
      "Epoch 265: train=1.26474, val=1.12583, took 38.729 s\n"
     ]
    },
    {
     "data": {
      "application/vnd.jupyter.widget-view+json": {
       "model_id": "",
       "version_major": 2,
       "version_minor": 0
      },
      "text/plain": [
       "HBox(children=(FloatProgress(value=0.0, description='Training', layout=Layout(flex='2'), max=1125.0, style=Pro…"
      ]
     },
     "metadata": {},
     "output_type": "display_data"
    },
    {
     "name": "stdout",
     "output_type": "stream",
     "text": [
      "Epoch 266: train=1.2621, val=1.12982, took 38.656 s\n"
     ]
    },
    {
     "data": {
      "application/vnd.jupyter.widget-view+json": {
       "model_id": "",
       "version_major": 2,
       "version_minor": 0
      },
      "text/plain": [
       "HBox(children=(FloatProgress(value=0.0, description='Training', layout=Layout(flex='2'), max=1125.0, style=Pro…"
      ]
     },
     "metadata": {},
     "output_type": "display_data"
    },
    {
     "name": "stdout",
     "output_type": "stream",
     "text": [
      "Epoch 267: train=1.26158, val=1.12996, took 40.253 s\n"
     ]
    },
    {
     "data": {
      "application/vnd.jupyter.widget-view+json": {
       "model_id": "",
       "version_major": 2,
       "version_minor": 0
      },
      "text/plain": [
       "HBox(children=(FloatProgress(value=0.0, description='Training', layout=Layout(flex='2'), max=1125.0, style=Pro…"
      ]
     },
     "metadata": {},
     "output_type": "display_data"
    },
    {
     "name": "stdout",
     "output_type": "stream",
     "text": [
      "Epoch 268: train=1.26085, val=1.1396, took 38.481 s\n"
     ]
    },
    {
     "data": {
      "application/vnd.jupyter.widget-view+json": {
       "model_id": "",
       "version_major": 2,
       "version_minor": 0
      },
      "text/plain": [
       "HBox(children=(FloatProgress(value=0.0, description='Training', layout=Layout(flex='2'), max=1125.0, style=Pro…"
      ]
     },
     "metadata": {},
     "output_type": "display_data"
    },
    {
     "name": "stdout",
     "output_type": "stream",
     "text": [
      "Epoch 269: train=1.26166, val=1.1307, took 39.898 s\n"
     ]
    },
    {
     "data": {
      "application/vnd.jupyter.widget-view+json": {
       "model_id": "",
       "version_major": 2,
       "version_minor": 0
      },
      "text/plain": [
       "HBox(children=(FloatProgress(value=0.0, description='Training', layout=Layout(flex='2'), max=1125.0, style=Pro…"
      ]
     },
     "metadata": {},
     "output_type": "display_data"
    },
    {
     "name": "stdout",
     "output_type": "stream",
     "text": [
      "Epoch 270: train=1.26321, val=1.15289, took 39.151 s\n"
     ]
    },
    {
     "data": {
      "application/vnd.jupyter.widget-view+json": {
       "model_id": "",
       "version_major": 2,
       "version_minor": 0
      },
      "text/plain": [
       "HBox(children=(FloatProgress(value=0.0, description='Training', layout=Layout(flex='2'), max=1125.0, style=Pro…"
      ]
     },
     "metadata": {},
     "output_type": "display_data"
    },
    {
     "name": "stdout",
     "output_type": "stream",
     "text": [
      "Epoch 271: train=1.26155, val=1.12408, took 38.806 s\n"
     ]
    },
    {
     "data": {
      "application/vnd.jupyter.widget-view+json": {
       "model_id": "",
       "version_major": 2,
       "version_minor": 0
      },
      "text/plain": [
       "HBox(children=(FloatProgress(value=0.0, description='Training', layout=Layout(flex='2'), max=1125.0, style=Pro…"
      ]
     },
     "metadata": {},
     "output_type": "display_data"
    },
    {
     "name": "stdout",
     "output_type": "stream",
     "text": [
      "Epoch 272: train=1.26096, val=1.13917, took 38.952 s\n"
     ]
    },
    {
     "data": {
      "application/vnd.jupyter.widget-view+json": {
       "model_id": "",
       "version_major": 2,
       "version_minor": 0
      },
      "text/plain": [
       "HBox(children=(FloatProgress(value=0.0, description='Training', layout=Layout(flex='2'), max=1125.0, style=Pro…"
      ]
     },
     "metadata": {},
     "output_type": "display_data"
    },
    {
     "name": "stdout",
     "output_type": "stream",
     "text": [
      "Epoch 273: train=1.26403, val=1.1474, took 40.064 s\n"
     ]
    },
    {
     "data": {
      "application/vnd.jupyter.widget-view+json": {
       "model_id": "",
       "version_major": 2,
       "version_minor": 0
      },
      "text/plain": [
       "HBox(children=(FloatProgress(value=0.0, description='Training', layout=Layout(flex='2'), max=1125.0, style=Pro…"
      ]
     },
     "metadata": {},
     "output_type": "display_data"
    },
    {
     "name": "stdout",
     "output_type": "stream",
     "text": [
      "Epoch 274: train=1.26415, val=1.12236, took 44.397 s\n"
     ]
    },
    {
     "data": {
      "application/vnd.jupyter.widget-view+json": {
       "model_id": "",
       "version_major": 2,
       "version_minor": 0
      },
      "text/plain": [
       "HBox(children=(FloatProgress(value=0.0, description='Training', layout=Layout(flex='2'), max=1125.0, style=Pro…"
      ]
     },
     "metadata": {},
     "output_type": "display_data"
    },
    {
     "name": "stdout",
     "output_type": "stream",
     "text": [
      "Epoch 275: train=1.26514, val=1.15715, took 40.616 s\n"
     ]
    },
    {
     "data": {
      "application/vnd.jupyter.widget-view+json": {
       "model_id": "",
       "version_major": 2,
       "version_minor": 0
      },
      "text/plain": [
       "HBox(children=(FloatProgress(value=0.0, description='Training', layout=Layout(flex='2'), max=1125.0, style=Pro…"
      ]
     },
     "metadata": {},
     "output_type": "display_data"
    },
    {
     "name": "stdout",
     "output_type": "stream",
     "text": [
      "Epoch 276: train=1.26614, val=1.13073, took 38.422 s\n"
     ]
    },
    {
     "data": {
      "application/vnd.jupyter.widget-view+json": {
       "model_id": "",
       "version_major": 2,
       "version_minor": 0
      },
      "text/plain": [
       "HBox(children=(FloatProgress(value=0.0, description='Training', layout=Layout(flex='2'), max=1125.0, style=Pro…"
      ]
     },
     "metadata": {},
     "output_type": "display_data"
    },
    {
     "name": "stdout",
     "output_type": "stream",
     "text": [
      "Epoch 277: train=1.26328, val=1.12662, took 38.135 s\n"
     ]
    },
    {
     "data": {
      "application/vnd.jupyter.widget-view+json": {
       "model_id": "",
       "version_major": 2,
       "version_minor": 0
      },
      "text/plain": [
       "HBox(children=(FloatProgress(value=0.0, description='Training', layout=Layout(flex='2'), max=1125.0, style=Pro…"
      ]
     },
     "metadata": {},
     "output_type": "display_data"
    },
    {
     "name": "stdout",
     "output_type": "stream",
     "text": [
      "Epoch 278: train=1.25851, val=1.12562, took 39.026 s\n"
     ]
    },
    {
     "data": {
      "application/vnd.jupyter.widget-view+json": {
       "model_id": "",
       "version_major": 2,
       "version_minor": 0
      },
      "text/plain": [
       "HBox(children=(FloatProgress(value=0.0, description='Training', layout=Layout(flex='2'), max=1125.0, style=Pro…"
      ]
     },
     "metadata": {},
     "output_type": "display_data"
    },
    {
     "name": "stdout",
     "output_type": "stream",
     "text": [
      "Epoch 279: train=1.26491, val=1.12184, took 38.37 s\n"
     ]
    },
    {
     "data": {
      "application/vnd.jupyter.widget-view+json": {
       "model_id": "",
       "version_major": 2,
       "version_minor": 0
      },
      "text/plain": [
       "HBox(children=(FloatProgress(value=0.0, description='Training', layout=Layout(flex='2'), max=1125.0, style=Pro…"
      ]
     },
     "metadata": {},
     "output_type": "display_data"
    },
    {
     "name": "stdout",
     "output_type": "stream",
     "text": [
      "Epoch 280: train=1.26154, val=1.12839, took 38.6 s\n"
     ]
    },
    {
     "data": {
      "application/vnd.jupyter.widget-view+json": {
       "model_id": "",
       "version_major": 2,
       "version_minor": 0
      },
      "text/plain": [
       "HBox(children=(FloatProgress(value=0.0, description='Training', layout=Layout(flex='2'), max=1125.0, style=Pro…"
      ]
     },
     "metadata": {},
     "output_type": "display_data"
    },
    {
     "name": "stdout",
     "output_type": "stream",
     "text": [
      "Epoch 281: train=1.25957, val=1.17319, took 41.4 s\n"
     ]
    },
    {
     "data": {
      "application/vnd.jupyter.widget-view+json": {
       "model_id": "",
       "version_major": 2,
       "version_minor": 0
      },
      "text/plain": [
       "HBox(children=(FloatProgress(value=0.0, description='Training', layout=Layout(flex='2'), max=1125.0, style=Pro…"
      ]
     },
     "metadata": {},
     "output_type": "display_data"
    },
    {
     "name": "stdout",
     "output_type": "stream",
     "text": [
      "Epoch 282: train=1.26131, val=1.1225, took 39.365 s\n"
     ]
    },
    {
     "data": {
      "application/vnd.jupyter.widget-view+json": {
       "model_id": "",
       "version_major": 2,
       "version_minor": 0
      },
      "text/plain": [
       "HBox(children=(FloatProgress(value=0.0, description='Training', layout=Layout(flex='2'), max=1125.0, style=Pro…"
      ]
     },
     "metadata": {},
     "output_type": "display_data"
    },
    {
     "name": "stdout",
     "output_type": "stream",
     "text": [
      "Epoch 283: train=1.26142, val=1.12239, took 38.582 s\n"
     ]
    },
    {
     "data": {
      "application/vnd.jupyter.widget-view+json": {
       "model_id": "",
       "version_major": 2,
       "version_minor": 0
      },
      "text/plain": [
       "HBox(children=(FloatProgress(value=0.0, description='Training', layout=Layout(flex='2'), max=1125.0, style=Pro…"
      ]
     },
     "metadata": {},
     "output_type": "display_data"
    },
    {
     "name": "stdout",
     "output_type": "stream",
     "text": [
      "Epoch 284: train=1.2624, val=1.12451, took 38.188 s\n"
     ]
    },
    {
     "data": {
      "application/vnd.jupyter.widget-view+json": {
       "model_id": "",
       "version_major": 2,
       "version_minor": 0
      },
      "text/plain": [
       "HBox(children=(FloatProgress(value=0.0, description='Training', layout=Layout(flex='2'), max=1125.0, style=Pro…"
      ]
     },
     "metadata": {},
     "output_type": "display_data"
    },
    {
     "name": "stdout",
     "output_type": "stream",
     "text": [
      "Epoch 285: train=1.25911, val=1.12248, took 38.587 s\n"
     ]
    },
    {
     "data": {
      "application/vnd.jupyter.widget-view+json": {
       "model_id": "",
       "version_major": 2,
       "version_minor": 0
      },
      "text/plain": [
       "HBox(children=(FloatProgress(value=0.0, description='Training', layout=Layout(flex='2'), max=1125.0, style=Pro…"
      ]
     },
     "metadata": {},
     "output_type": "display_data"
    },
    {
     "name": "stdout",
     "output_type": "stream",
     "text": [
      "Epoch 286: train=1.26552, val=1.12669, took 38.53 s\n"
     ]
    },
    {
     "data": {
      "application/vnd.jupyter.widget-view+json": {
       "model_id": "",
       "version_major": 2,
       "version_minor": 0
      },
      "text/plain": [
       "HBox(children=(FloatProgress(value=0.0, description='Training', layout=Layout(flex='2'), max=1125.0, style=Pro…"
      ]
     },
     "metadata": {},
     "output_type": "display_data"
    },
    {
     "name": "stdout",
     "output_type": "stream",
     "text": [
      "Epoch 287: train=1.26343, val=1.12577, took 38.525 s\n"
     ]
    },
    {
     "data": {
      "application/vnd.jupyter.widget-view+json": {
       "model_id": "",
       "version_major": 2,
       "version_minor": 0
      },
      "text/plain": [
       "HBox(children=(FloatProgress(value=0.0, description='Training', layout=Layout(flex='2'), max=1125.0, style=Pro…"
      ]
     },
     "metadata": {},
     "output_type": "display_data"
    },
    {
     "name": "stdout",
     "output_type": "stream",
     "text": [
      "Epoch 288: train=1.26315, val=1.12927, took 39.286 s\n"
     ]
    },
    {
     "data": {
      "application/vnd.jupyter.widget-view+json": {
       "model_id": "",
       "version_major": 2,
       "version_minor": 0
      },
      "text/plain": [
       "HBox(children=(FloatProgress(value=0.0, description='Training', layout=Layout(flex='2'), max=1125.0, style=Pro…"
      ]
     },
     "metadata": {},
     "output_type": "display_data"
    },
    {
     "name": "stdout",
     "output_type": "stream",
     "text": [
      "Epoch 289: train=1.25969, val=1.12379, took 39.233 s\n"
     ]
    },
    {
     "data": {
      "application/vnd.jupyter.widget-view+json": {
       "model_id": "",
       "version_major": 2,
       "version_minor": 0
      },
      "text/plain": [
       "HBox(children=(FloatProgress(value=0.0, description='Training', layout=Layout(flex='2'), max=1125.0, style=Pro…"
      ]
     },
     "metadata": {},
     "output_type": "display_data"
    },
    {
     "name": "stdout",
     "output_type": "stream",
     "text": [
      "Epoch 290: train=1.2606, val=1.12642, took 38.211 s\n"
     ]
    },
    {
     "data": {
      "application/vnd.jupyter.widget-view+json": {
       "model_id": "",
       "version_major": 2,
       "version_minor": 0
      },
      "text/plain": [
       "HBox(children=(FloatProgress(value=0.0, description='Training', layout=Layout(flex='2'), max=1125.0, style=Pro…"
      ]
     },
     "metadata": {},
     "output_type": "display_data"
    },
    {
     "name": "stdout",
     "output_type": "stream",
     "text": [
      "Epoch 291: train=1.26489, val=1.1228, took 38.075 s\n"
     ]
    },
    {
     "data": {
      "application/vnd.jupyter.widget-view+json": {
       "model_id": "",
       "version_major": 2,
       "version_minor": 0
      },
      "text/plain": [
       "HBox(children=(FloatProgress(value=0.0, description='Training', layout=Layout(flex='2'), max=1125.0, style=Pro…"
      ]
     },
     "metadata": {},
     "output_type": "display_data"
    },
    {
     "name": "stdout",
     "output_type": "stream",
     "text": [
      "Epoch 292: train=1.25911, val=1.12221, took 38.341 s\n"
     ]
    },
    {
     "data": {
      "application/vnd.jupyter.widget-view+json": {
       "model_id": "",
       "version_major": 2,
       "version_minor": 0
      },
      "text/plain": [
       "HBox(children=(FloatProgress(value=0.0, description='Training', layout=Layout(flex='2'), max=1125.0, style=Pro…"
      ]
     },
     "metadata": {},
     "output_type": "display_data"
    },
    {
     "name": "stdout",
     "output_type": "stream",
     "text": [
      "Epoch 293: train=1.2568, val=1.12967, took 39.22 s\n"
     ]
    },
    {
     "data": {
      "application/vnd.jupyter.widget-view+json": {
       "model_id": "",
       "version_major": 2,
       "version_minor": 0
      },
      "text/plain": [
       "HBox(children=(FloatProgress(value=0.0, description='Training', layout=Layout(flex='2'), max=1125.0, style=Pro…"
      ]
     },
     "metadata": {},
     "output_type": "display_data"
    },
    {
     "name": "stdout",
     "output_type": "stream",
     "text": [
      "Epoch 294: train=1.25634, val=1.12528, took 38.425 s\n"
     ]
    },
    {
     "data": {
      "application/vnd.jupyter.widget-view+json": {
       "model_id": "",
       "version_major": 2,
       "version_minor": 0
      },
      "text/plain": [
       "HBox(children=(FloatProgress(value=0.0, description='Training', layout=Layout(flex='2'), max=1125.0, style=Pro…"
      ]
     },
     "metadata": {},
     "output_type": "display_data"
    },
    {
     "name": "stdout",
     "output_type": "stream",
     "text": [
      "Epoch 295: train=1.26347, val=1.12673, took 38.795 s\n"
     ]
    },
    {
     "data": {
      "application/vnd.jupyter.widget-view+json": {
       "model_id": "",
       "version_major": 2,
       "version_minor": 0
      },
      "text/plain": [
       "HBox(children=(FloatProgress(value=0.0, description='Training', layout=Layout(flex='2'), max=1125.0, style=Pro…"
      ]
     },
     "metadata": {},
     "output_type": "display_data"
    },
    {
     "name": "stdout",
     "output_type": "stream",
     "text": [
      "Epoch 296: train=1.26124, val=1.12272, took 38.989 s\n"
     ]
    },
    {
     "data": {
      "application/vnd.jupyter.widget-view+json": {
       "model_id": "",
       "version_major": 2,
       "version_minor": 0
      },
      "text/plain": [
       "HBox(children=(FloatProgress(value=0.0, description='Training', layout=Layout(flex='2'), max=1125.0, style=Pro…"
      ]
     },
     "metadata": {},
     "output_type": "display_data"
    },
    {
     "name": "stdout",
     "output_type": "stream",
     "text": [
      "Epoch 297: train=1.25539, val=1.15572, took 38.759 s\n"
     ]
    },
    {
     "data": {
      "application/vnd.jupyter.widget-view+json": {
       "model_id": "",
       "version_major": 2,
       "version_minor": 0
      },
      "text/plain": [
       "HBox(children=(FloatProgress(value=0.0, description='Training', layout=Layout(flex='2'), max=1125.0, style=Pro…"
      ]
     },
     "metadata": {},
     "output_type": "display_data"
    },
    {
     "name": "stdout",
     "output_type": "stream",
     "text": [
      "Epoch 298: train=1.26088, val=1.12001, took 38.077 s\n"
     ]
    },
    {
     "data": {
      "application/vnd.jupyter.widget-view+json": {
       "model_id": "",
       "version_major": 2,
       "version_minor": 0
      },
      "text/plain": [
       "HBox(children=(FloatProgress(value=0.0, description='Training', layout=Layout(flex='2'), max=1125.0, style=Pro…"
      ]
     },
     "metadata": {},
     "output_type": "display_data"
    },
    {
     "name": "stdout",
     "output_type": "stream",
     "text": [
      "Epoch 299: train=1.25794, val=1.12258, took 38.336 s\n"
     ]
    },
    {
     "data": {
      "application/vnd.jupyter.widget-view+json": {
       "model_id": "",
       "version_major": 2,
       "version_minor": 0
      },
      "text/plain": [
       "HBox(children=(FloatProgress(value=0.0, description='Training', layout=Layout(flex='2'), max=1125.0, style=Pro…"
      ]
     },
     "metadata": {},
     "output_type": "display_data"
    },
    {
     "name": "stdout",
     "output_type": "stream",
     "text": [
      "Epoch 300: train=1.26362, val=1.12432, took 38.362 s\n"
     ]
    },
    {
     "data": {
      "application/vnd.jupyter.widget-view+json": {
       "model_id": "",
       "version_major": 2,
       "version_minor": 0
      },
      "text/plain": [
       "HBox(children=(FloatProgress(value=0.0, description='Training', layout=Layout(flex='2'), max=1125.0, style=Pro…"
      ]
     },
     "metadata": {},
     "output_type": "display_data"
    },
    {
     "name": "stdout",
     "output_type": "stream",
     "text": [
      "Epoch 301: train=1.25997, val=1.13528, took 38.749 s\n"
     ]
    },
    {
     "data": {
      "application/vnd.jupyter.widget-view+json": {
       "model_id": "",
       "version_major": 2,
       "version_minor": 0
      },
      "text/plain": [
       "HBox(children=(FloatProgress(value=0.0, description='Training', layout=Layout(flex='2'), max=1125.0, style=Pro…"
      ]
     },
     "metadata": {},
     "output_type": "display_data"
    },
    {
     "name": "stdout",
     "output_type": "stream",
     "text": [
      "Epoch 302: train=1.25586, val=1.17818, took 39.559 s\n"
     ]
    },
    {
     "data": {
      "application/vnd.jupyter.widget-view+json": {
       "model_id": "",
       "version_major": 2,
       "version_minor": 0
      },
      "text/plain": [
       "HBox(children=(FloatProgress(value=0.0, description='Training', layout=Layout(flex='2'), max=1125.0, style=Pro…"
      ]
     },
     "metadata": {},
     "output_type": "display_data"
    },
    {
     "name": "stdout",
     "output_type": "stream",
     "text": [
      "Epoch 303: train=1.26201, val=1.12035, took 40.354 s\n"
     ]
    },
    {
     "data": {
      "application/vnd.jupyter.widget-view+json": {
       "model_id": "",
       "version_major": 2,
       "version_minor": 0
      },
      "text/plain": [
       "HBox(children=(FloatProgress(value=0.0, description='Training', layout=Layout(flex='2'), max=1125.0, style=Pro…"
      ]
     },
     "metadata": {},
     "output_type": "display_data"
    },
    {
     "name": "stdout",
     "output_type": "stream",
     "text": [
      "Epoch 304: train=1.26092, val=1.12125, took 41.191 s\n"
     ]
    },
    {
     "data": {
      "application/vnd.jupyter.widget-view+json": {
       "model_id": "",
       "version_major": 2,
       "version_minor": 0
      },
      "text/plain": [
       "HBox(children=(FloatProgress(value=0.0, description='Training', layout=Layout(flex='2'), max=1125.0, style=Pro…"
      ]
     },
     "metadata": {},
     "output_type": "display_data"
    },
    {
     "name": "stdout",
     "output_type": "stream",
     "text": [
      "Epoch 305: train=1.25948, val=1.12233, took 41.102 s\n"
     ]
    },
    {
     "data": {
      "application/vnd.jupyter.widget-view+json": {
       "model_id": "",
       "version_major": 2,
       "version_minor": 0
      },
      "text/plain": [
       "HBox(children=(FloatProgress(value=0.0, description='Training', layout=Layout(flex='2'), max=1125.0, style=Pro…"
      ]
     },
     "metadata": {},
     "output_type": "display_data"
    },
    {
     "name": "stdout",
     "output_type": "stream",
     "text": [
      "Epoch 306: train=1.25883, val=1.16542, took 39.505 s\n"
     ]
    },
    {
     "data": {
      "application/vnd.jupyter.widget-view+json": {
       "model_id": "",
       "version_major": 2,
       "version_minor": 0
      },
      "text/plain": [
       "HBox(children=(FloatProgress(value=0.0, description='Training', layout=Layout(flex='2'), max=1125.0, style=Pro…"
      ]
     },
     "metadata": {},
     "output_type": "display_data"
    },
    {
     "name": "stdout",
     "output_type": "stream",
     "text": [
      "Epoch 307: train=1.25942, val=1.12195, took 41.375 s\n"
     ]
    },
    {
     "data": {
      "application/vnd.jupyter.widget-view+json": {
       "model_id": "",
       "version_major": 2,
       "version_minor": 0
      },
      "text/plain": [
       "HBox(children=(FloatProgress(value=0.0, description='Training', layout=Layout(flex='2'), max=1125.0, style=Pro…"
      ]
     },
     "metadata": {},
     "output_type": "display_data"
    },
    {
     "name": "stdout",
     "output_type": "stream",
     "text": [
      "Epoch 308: train=1.25913, val=1.12172, took 39.525 s\n"
     ]
    },
    {
     "data": {
      "application/vnd.jupyter.widget-view+json": {
       "model_id": "",
       "version_major": 2,
       "version_minor": 0
      },
      "text/plain": [
       "HBox(children=(FloatProgress(value=0.0, description='Training', layout=Layout(flex='2'), max=1125.0, style=Pro…"
      ]
     },
     "metadata": {},
     "output_type": "display_data"
    },
    {
     "name": "stdout",
     "output_type": "stream",
     "text": [
      "Epoch 309: train=1.25641, val=1.12411, took 39.773 s\n"
     ]
    },
    {
     "data": {
      "application/vnd.jupyter.widget-view+json": {
       "model_id": "",
       "version_major": 2,
       "version_minor": 0
      },
      "text/plain": [
       "HBox(children=(FloatProgress(value=0.0, description='Training', layout=Layout(flex='2'), max=1125.0, style=Pro…"
      ]
     },
     "metadata": {},
     "output_type": "display_data"
    },
    {
     "name": "stdout",
     "output_type": "stream",
     "text": [
      "Epoch 310: train=1.25957, val=1.13904, took 38.751 s\n"
     ]
    },
    {
     "data": {
      "application/vnd.jupyter.widget-view+json": {
       "model_id": "",
       "version_major": 2,
       "version_minor": 0
      },
      "text/plain": [
       "HBox(children=(FloatProgress(value=0.0, description='Training', layout=Layout(flex='2'), max=1125.0, style=Pro…"
      ]
     },
     "metadata": {},
     "output_type": "display_data"
    },
    {
     "name": "stdout",
     "output_type": "stream",
     "text": [
      "Epoch 311: train=1.25837, val=1.15275, took 38.629 s\n"
     ]
    },
    {
     "data": {
      "application/vnd.jupyter.widget-view+json": {
       "model_id": "",
       "version_major": 2,
       "version_minor": 0
      },
      "text/plain": [
       "HBox(children=(FloatProgress(value=0.0, description='Training', layout=Layout(flex='2'), max=1125.0, style=Pro…"
      ]
     },
     "metadata": {},
     "output_type": "display_data"
    },
    {
     "name": "stdout",
     "output_type": "stream",
     "text": [
      "Epoch 312: train=1.25547, val=1.13762, took 40.204 s\n"
     ]
    },
    {
     "data": {
      "application/vnd.jupyter.widget-view+json": {
       "model_id": "",
       "version_major": 2,
       "version_minor": 0
      },
      "text/plain": [
       "HBox(children=(FloatProgress(value=0.0, description='Training', layout=Layout(flex='2'), max=1125.0, style=Pro…"
      ]
     },
     "metadata": {},
     "output_type": "display_data"
    },
    {
     "name": "stdout",
     "output_type": "stream",
     "text": [
      "Epoch 313: train=1.25714, val=1.12322, took 38.237 s\n"
     ]
    },
    {
     "data": {
      "application/vnd.jupyter.widget-view+json": {
       "model_id": "",
       "version_major": 2,
       "version_minor": 0
      },
      "text/plain": [
       "HBox(children=(FloatProgress(value=0.0, description='Training', layout=Layout(flex='2'), max=1125.0, style=Pro…"
      ]
     },
     "metadata": {},
     "output_type": "display_data"
    },
    {
     "name": "stdout",
     "output_type": "stream",
     "text": [
      "Epoch 314: train=1.2606, val=1.1208, took 38.655 s\n"
     ]
    },
    {
     "data": {
      "application/vnd.jupyter.widget-view+json": {
       "model_id": "",
       "version_major": 2,
       "version_minor": 0
      },
      "text/plain": [
       "HBox(children=(FloatProgress(value=0.0, description='Training', layout=Layout(flex='2'), max=1125.0, style=Pro…"
      ]
     },
     "metadata": {},
     "output_type": "display_data"
    },
    {
     "name": "stdout",
     "output_type": "stream",
     "text": [
      "Epoch 315: train=1.2605, val=1.12538, took 39.402 s\n"
     ]
    },
    {
     "data": {
      "application/vnd.jupyter.widget-view+json": {
       "model_id": "",
       "version_major": 2,
       "version_minor": 0
      },
      "text/plain": [
       "HBox(children=(FloatProgress(value=0.0, description='Training', layout=Layout(flex='2'), max=1125.0, style=Pro…"
      ]
     },
     "metadata": {},
     "output_type": "display_data"
    },
    {
     "name": "stdout",
     "output_type": "stream",
     "text": [
      "Epoch 316: train=1.2566, val=1.12556, took 38.664 s\n"
     ]
    },
    {
     "data": {
      "application/vnd.jupyter.widget-view+json": {
       "model_id": "",
       "version_major": 2,
       "version_minor": 0
      },
      "text/plain": [
       "HBox(children=(FloatProgress(value=0.0, description='Training', layout=Layout(flex='2'), max=1125.0, style=Pro…"
      ]
     },
     "metadata": {},
     "output_type": "display_data"
    },
    {
     "name": "stdout",
     "output_type": "stream",
     "text": [
      "Epoch 317: train=1.25778, val=1.12125, took 38.626 s\n"
     ]
    },
    {
     "data": {
      "application/vnd.jupyter.widget-view+json": {
       "model_id": "",
       "version_major": 2,
       "version_minor": 0
      },
      "text/plain": [
       "HBox(children=(FloatProgress(value=0.0, description='Training', layout=Layout(flex='2'), max=1125.0, style=Pro…"
      ]
     },
     "metadata": {},
     "output_type": "display_data"
    },
    {
     "name": "stdout",
     "output_type": "stream",
     "text": [
      "Epoch 318: train=1.25804, val=1.124, took 38.356 s\n"
     ]
    },
    {
     "data": {
      "application/vnd.jupyter.widget-view+json": {
       "model_id": "",
       "version_major": 2,
       "version_minor": 0
      },
      "text/plain": [
       "HBox(children=(FloatProgress(value=0.0, description='Training', layout=Layout(flex='2'), max=1125.0, style=Pro…"
      ]
     },
     "metadata": {},
     "output_type": "display_data"
    },
    {
     "name": "stdout",
     "output_type": "stream",
     "text": [
      "Epoch 319: train=1.2582, val=1.1227, took 38.704 s\n"
     ]
    },
    {
     "data": {
      "application/vnd.jupyter.widget-view+json": {
       "model_id": "",
       "version_major": 2,
       "version_minor": 0
      },
      "text/plain": [
       "HBox(children=(FloatProgress(value=0.0, description='Training', layout=Layout(flex='2'), max=1125.0, style=Pro…"
      ]
     },
     "metadata": {},
     "output_type": "display_data"
    },
    {
     "name": "stdout",
     "output_type": "stream",
     "text": [
      "Epoch 320: train=1.25916, val=1.12472, took 38.445 s\n"
     ]
    },
    {
     "data": {
      "application/vnd.jupyter.widget-view+json": {
       "model_id": "",
       "version_major": 2,
       "version_minor": 0
      },
      "text/plain": [
       "HBox(children=(FloatProgress(value=0.0, description='Training', layout=Layout(flex='2'), max=1125.0, style=Pro…"
      ]
     },
     "metadata": {},
     "output_type": "display_data"
    },
    {
     "name": "stdout",
     "output_type": "stream",
     "text": [
      "Epoch 321: train=1.25978, val=1.12211, took 38.658 s\n"
     ]
    },
    {
     "data": {
      "application/vnd.jupyter.widget-view+json": {
       "model_id": "",
       "version_major": 2,
       "version_minor": 0
      },
      "text/plain": [
       "HBox(children=(FloatProgress(value=0.0, description='Training', layout=Layout(flex='2'), max=1125.0, style=Pro…"
      ]
     },
     "metadata": {},
     "output_type": "display_data"
    },
    {
     "name": "stdout",
     "output_type": "stream",
     "text": [
      "Epoch 322: train=1.25749, val=1.12759, took 39.272 s\n"
     ]
    },
    {
     "data": {
      "application/vnd.jupyter.widget-view+json": {
       "model_id": "",
       "version_major": 2,
       "version_minor": 0
      },
      "text/plain": [
       "HBox(children=(FloatProgress(value=0.0, description='Training', layout=Layout(flex='2'), max=1125.0, style=Pro…"
      ]
     },
     "metadata": {},
     "output_type": "display_data"
    },
    {
     "name": "stdout",
     "output_type": "stream",
     "text": [
      "Epoch 323: train=1.25802, val=1.14233, took 39.474 s\n"
     ]
    },
    {
     "data": {
      "application/vnd.jupyter.widget-view+json": {
       "model_id": "",
       "version_major": 2,
       "version_minor": 0
      },
      "text/plain": [
       "HBox(children=(FloatProgress(value=0.0, description='Training', layout=Layout(flex='2'), max=1125.0, style=Pro…"
      ]
     },
     "metadata": {},
     "output_type": "display_data"
    },
    {
     "name": "stdout",
     "output_type": "stream",
     "text": [
      "Epoch 324: train=1.25392, val=1.12545, took 39.837 s\n"
     ]
    },
    {
     "data": {
      "application/vnd.jupyter.widget-view+json": {
       "model_id": "",
       "version_major": 2,
       "version_minor": 0
      },
      "text/plain": [
       "HBox(children=(FloatProgress(value=0.0, description='Training', layout=Layout(flex='2'), max=1125.0, style=Pro…"
      ]
     },
     "metadata": {},
     "output_type": "display_data"
    },
    {
     "name": "stdout",
     "output_type": "stream",
     "text": [
      "Epoch 325: train=1.2573, val=1.1452, took 38.838 s\n"
     ]
    },
    {
     "data": {
      "application/vnd.jupyter.widget-view+json": {
       "model_id": "",
       "version_major": 2,
       "version_minor": 0
      },
      "text/plain": [
       "HBox(children=(FloatProgress(value=0.0, description='Training', layout=Layout(flex='2'), max=1125.0, style=Pro…"
      ]
     },
     "metadata": {},
     "output_type": "display_data"
    },
    {
     "name": "stdout",
     "output_type": "stream",
     "text": [
      "Epoch 326: train=1.25585, val=1.1259, took 38.395 s\n"
     ]
    },
    {
     "data": {
      "application/vnd.jupyter.widget-view+json": {
       "model_id": "",
       "version_major": 2,
       "version_minor": 0
      },
      "text/plain": [
       "HBox(children=(FloatProgress(value=0.0, description='Training', layout=Layout(flex='2'), max=1125.0, style=Pro…"
      ]
     },
     "metadata": {},
     "output_type": "display_data"
    },
    {
     "name": "stdout",
     "output_type": "stream",
     "text": [
      "Epoch 327: train=1.25829, val=1.1199, took 38.045 s\n"
     ]
    },
    {
     "data": {
      "application/vnd.jupyter.widget-view+json": {
       "model_id": "",
       "version_major": 2,
       "version_minor": 0
      },
      "text/plain": [
       "HBox(children=(FloatProgress(value=0.0, description='Training', layout=Layout(flex='2'), max=1125.0, style=Pro…"
      ]
     },
     "metadata": {},
     "output_type": "display_data"
    },
    {
     "name": "stdout",
     "output_type": "stream",
     "text": [
      "Epoch 328: train=1.2572, val=1.12187, took 38.218 s\n"
     ]
    },
    {
     "data": {
      "application/vnd.jupyter.widget-view+json": {
       "model_id": "",
       "version_major": 2,
       "version_minor": 0
      },
      "text/plain": [
       "HBox(children=(FloatProgress(value=0.0, description='Training', layout=Layout(flex='2'), max=1125.0, style=Pro…"
      ]
     },
     "metadata": {},
     "output_type": "display_data"
    },
    {
     "name": "stdout",
     "output_type": "stream",
     "text": [
      "Epoch 329: train=1.25614, val=1.12106, took 38.082 s\n"
     ]
    },
    {
     "data": {
      "application/vnd.jupyter.widget-view+json": {
       "model_id": "",
       "version_major": 2,
       "version_minor": 0
      },
      "text/plain": [
       "HBox(children=(FloatProgress(value=0.0, description='Training', layout=Layout(flex='2'), max=1125.0, style=Pro…"
      ]
     },
     "metadata": {},
     "output_type": "display_data"
    },
    {
     "name": "stdout",
     "output_type": "stream",
     "text": [
      "Epoch 330: train=1.26062, val=1.11995, took 38.367 s\n"
     ]
    },
    {
     "data": {
      "application/vnd.jupyter.widget-view+json": {
       "model_id": "",
       "version_major": 2,
       "version_minor": 0
      },
      "text/plain": [
       "HBox(children=(FloatProgress(value=0.0, description='Training', layout=Layout(flex='2'), max=1125.0, style=Pro…"
      ]
     },
     "metadata": {},
     "output_type": "display_data"
    },
    {
     "name": "stdout",
     "output_type": "stream",
     "text": [
      "Epoch 331: train=1.25812, val=1.17201, took 38.63 s\n"
     ]
    },
    {
     "data": {
      "application/vnd.jupyter.widget-view+json": {
       "model_id": "",
       "version_major": 2,
       "version_minor": 0
      },
      "text/plain": [
       "HBox(children=(FloatProgress(value=0.0, description='Training', layout=Layout(flex='2'), max=1125.0, style=Pro…"
      ]
     },
     "metadata": {},
     "output_type": "display_data"
    },
    {
     "name": "stdout",
     "output_type": "stream",
     "text": [
      "Epoch 332: train=1.25798, val=1.12635, took 43.117 s\n"
     ]
    },
    {
     "data": {
      "application/vnd.jupyter.widget-view+json": {
       "model_id": "",
       "version_major": 2,
       "version_minor": 0
      },
      "text/plain": [
       "HBox(children=(FloatProgress(value=0.0, description='Training', layout=Layout(flex='2'), max=1125.0, style=Pro…"
      ]
     },
     "metadata": {},
     "output_type": "display_data"
    },
    {
     "name": "stdout",
     "output_type": "stream",
     "text": [
      "Epoch 333: train=1.25504, val=1.11784, took 43.709 s\n"
     ]
    },
    {
     "data": {
      "application/vnd.jupyter.widget-view+json": {
       "model_id": "",
       "version_major": 2,
       "version_minor": 0
      },
      "text/plain": [
       "HBox(children=(FloatProgress(value=0.0, description='Training', layout=Layout(flex='2'), max=1125.0, style=Pro…"
      ]
     },
     "metadata": {},
     "output_type": "display_data"
    },
    {
     "name": "stdout",
     "output_type": "stream",
     "text": [
      "Epoch 334: train=1.25976, val=1.11979, took 40.559 s\n"
     ]
    },
    {
     "data": {
      "application/vnd.jupyter.widget-view+json": {
       "model_id": "",
       "version_major": 2,
       "version_minor": 0
      },
      "text/plain": [
       "HBox(children=(FloatProgress(value=0.0, description='Training', layout=Layout(flex='2'), max=1125.0, style=Pro…"
      ]
     },
     "metadata": {},
     "output_type": "display_data"
    },
    {
     "name": "stdout",
     "output_type": "stream",
     "text": [
      "Epoch 335: train=1.25923, val=1.12033, took 42.693 s\n"
     ]
    },
    {
     "data": {
      "application/vnd.jupyter.widget-view+json": {
       "model_id": "",
       "version_major": 2,
       "version_minor": 0
      },
      "text/plain": [
       "HBox(children=(FloatProgress(value=0.0, description='Training', layout=Layout(flex='2'), max=1125.0, style=Pro…"
      ]
     },
     "metadata": {},
     "output_type": "display_data"
    },
    {
     "name": "stdout",
     "output_type": "stream",
     "text": [
      "Epoch 336: train=1.25918, val=1.11992, took 38.574 s\n"
     ]
    },
    {
     "data": {
      "application/vnd.jupyter.widget-view+json": {
       "model_id": "",
       "version_major": 2,
       "version_minor": 0
      },
      "text/plain": [
       "HBox(children=(FloatProgress(value=0.0, description='Training', layout=Layout(flex='2'), max=1125.0, style=Pro…"
      ]
     },
     "metadata": {},
     "output_type": "display_data"
    },
    {
     "name": "stdout",
     "output_type": "stream",
     "text": [
      "Epoch 337: train=1.25378, val=1.1514, took 39.112 s\n"
     ]
    },
    {
     "data": {
      "application/vnd.jupyter.widget-view+json": {
       "model_id": "",
       "version_major": 2,
       "version_minor": 0
      },
      "text/plain": [
       "HBox(children=(FloatProgress(value=0.0, description='Training', layout=Layout(flex='2'), max=1125.0, style=Pro…"
      ]
     },
     "metadata": {},
     "output_type": "display_data"
    },
    {
     "name": "stdout",
     "output_type": "stream",
     "text": [
      "Epoch 338: train=1.25636, val=1.11879, took 40.089 s\n"
     ]
    },
    {
     "data": {
      "application/vnd.jupyter.widget-view+json": {
       "model_id": "",
       "version_major": 2,
       "version_minor": 0
      },
      "text/plain": [
       "HBox(children=(FloatProgress(value=0.0, description='Training', layout=Layout(flex='2'), max=1125.0, style=Pro…"
      ]
     },
     "metadata": {},
     "output_type": "display_data"
    },
    {
     "name": "stdout",
     "output_type": "stream",
     "text": [
      "Epoch 339: train=1.25923, val=1.14673, took 38.775 s\n"
     ]
    },
    {
     "data": {
      "application/vnd.jupyter.widget-view+json": {
       "model_id": "",
       "version_major": 2,
       "version_minor": 0
      },
      "text/plain": [
       "HBox(children=(FloatProgress(value=0.0, description='Training', layout=Layout(flex='2'), max=1125.0, style=Pro…"
      ]
     },
     "metadata": {},
     "output_type": "display_data"
    },
    {
     "name": "stdout",
     "output_type": "stream",
     "text": [
      "Epoch 340: train=1.26054, val=1.11913, took 39.333 s\n"
     ]
    },
    {
     "data": {
      "application/vnd.jupyter.widget-view+json": {
       "model_id": "",
       "version_major": 2,
       "version_minor": 0
      },
      "text/plain": [
       "HBox(children=(FloatProgress(value=0.0, description='Training', layout=Layout(flex='2'), max=1125.0, style=Pro…"
      ]
     },
     "metadata": {},
     "output_type": "display_data"
    },
    {
     "name": "stdout",
     "output_type": "stream",
     "text": [
      "Epoch 341: train=1.26054, val=1.14475, took 38.05 s\n"
     ]
    },
    {
     "data": {
      "application/vnd.jupyter.widget-view+json": {
       "model_id": "",
       "version_major": 2,
       "version_minor": 0
      },
      "text/plain": [
       "HBox(children=(FloatProgress(value=0.0, description='Training', layout=Layout(flex='2'), max=1125.0, style=Pro…"
      ]
     },
     "metadata": {},
     "output_type": "display_data"
    },
    {
     "name": "stdout",
     "output_type": "stream",
     "text": [
      "Epoch 342: train=1.25314, val=1.12149, took 38.527 s\n"
     ]
    },
    {
     "data": {
      "application/vnd.jupyter.widget-view+json": {
       "model_id": "",
       "version_major": 2,
       "version_minor": 0
      },
      "text/plain": [
       "HBox(children=(FloatProgress(value=0.0, description='Training', layout=Layout(flex='2'), max=1125.0, style=Pro…"
      ]
     },
     "metadata": {},
     "output_type": "display_data"
    },
    {
     "name": "stdout",
     "output_type": "stream",
     "text": [
      "Epoch 343: train=1.25707, val=1.11857, took 38.93 s\n"
     ]
    },
    {
     "data": {
      "application/vnd.jupyter.widget-view+json": {
       "model_id": "",
       "version_major": 2,
       "version_minor": 0
      },
      "text/plain": [
       "HBox(children=(FloatProgress(value=0.0, description='Training', layout=Layout(flex='2'), max=1125.0, style=Pro…"
      ]
     },
     "metadata": {},
     "output_type": "display_data"
    },
    {
     "name": "stdout",
     "output_type": "stream",
     "text": [
      "Epoch 344: train=1.25784, val=1.13809, took 38.177 s\n"
     ]
    },
    {
     "data": {
      "application/vnd.jupyter.widget-view+json": {
       "model_id": "",
       "version_major": 2,
       "version_minor": 0
      },
      "text/plain": [
       "HBox(children=(FloatProgress(value=0.0, description='Training', layout=Layout(flex='2'), max=1125.0, style=Pro…"
      ]
     },
     "metadata": {},
     "output_type": "display_data"
    },
    {
     "name": "stdout",
     "output_type": "stream",
     "text": [
      "Epoch 345: train=1.25272, val=1.11861, took 38.295 s\n"
     ]
    },
    {
     "data": {
      "application/vnd.jupyter.widget-view+json": {
       "model_id": "",
       "version_major": 2,
       "version_minor": 0
      },
      "text/plain": [
       "HBox(children=(FloatProgress(value=0.0, description='Training', layout=Layout(flex='2'), max=1125.0, style=Pro…"
      ]
     },
     "metadata": {},
     "output_type": "display_data"
    },
    {
     "name": "stdout",
     "output_type": "stream",
     "text": [
      "Epoch 346: train=1.25527, val=1.117, took 38.738 s\n"
     ]
    },
    {
     "data": {
      "application/vnd.jupyter.widget-view+json": {
       "model_id": "",
       "version_major": 2,
       "version_minor": 0
      },
      "text/plain": [
       "HBox(children=(FloatProgress(value=0.0, description='Training', layout=Layout(flex='2'), max=1125.0, style=Pro…"
      ]
     },
     "metadata": {},
     "output_type": "display_data"
    },
    {
     "name": "stdout",
     "output_type": "stream",
     "text": [
      "Epoch 347: train=1.25567, val=1.11902, took 38.674 s\n"
     ]
    },
    {
     "data": {
      "application/vnd.jupyter.widget-view+json": {
       "model_id": "",
       "version_major": 2,
       "version_minor": 0
      },
      "text/plain": [
       "HBox(children=(FloatProgress(value=0.0, description='Training', layout=Layout(flex='2'), max=1125.0, style=Pro…"
      ]
     },
     "metadata": {},
     "output_type": "display_data"
    },
    {
     "name": "stdout",
     "output_type": "stream",
     "text": [
      "Epoch 348: train=1.2559, val=1.11843, took 38.73 s\n"
     ]
    },
    {
     "data": {
      "application/vnd.jupyter.widget-view+json": {
       "model_id": "",
       "version_major": 2,
       "version_minor": 0
      },
      "text/plain": [
       "HBox(children=(FloatProgress(value=0.0, description='Training', layout=Layout(flex='2'), max=1125.0, style=Pro…"
      ]
     },
     "metadata": {},
     "output_type": "display_data"
    },
    {
     "name": "stdout",
     "output_type": "stream",
     "text": [
      "Epoch 349: train=1.25293, val=1.1217, took 38.261 s\n"
     ]
    },
    {
     "data": {
      "application/vnd.jupyter.widget-view+json": {
       "model_id": "",
       "version_major": 2,
       "version_minor": 0
      },
      "text/plain": [
       "HBox(children=(FloatProgress(value=0.0, description='Training', layout=Layout(flex='2'), max=1125.0, style=Pro…"
      ]
     },
     "metadata": {},
     "output_type": "display_data"
    },
    {
     "name": "stdout",
     "output_type": "stream",
     "text": [
      "Epoch 350: train=1.25336, val=1.12582, took 38.15 s\n"
     ]
    },
    {
     "data": {
      "application/vnd.jupyter.widget-view+json": {
       "model_id": "",
       "version_major": 2,
       "version_minor": 0
      },
      "text/plain": [
       "HBox(children=(FloatProgress(value=0.0, description='Training', layout=Layout(flex='2'), max=1125.0, style=Pro…"
      ]
     },
     "metadata": {},
     "output_type": "display_data"
    },
    {
     "name": "stdout",
     "output_type": "stream",
     "text": [
      "Epoch 351: train=1.2524, val=1.11873, took 38.556 s\n"
     ]
    },
    {
     "data": {
      "application/vnd.jupyter.widget-view+json": {
       "model_id": "",
       "version_major": 2,
       "version_minor": 0
      },
      "text/plain": [
       "HBox(children=(FloatProgress(value=0.0, description='Training', layout=Layout(flex='2'), max=1125.0, style=Pro…"
      ]
     },
     "metadata": {},
     "output_type": "display_data"
    },
    {
     "name": "stdout",
     "output_type": "stream",
     "text": [
      "Epoch 352: train=1.2533, val=1.1174, took 38.662 s\n"
     ]
    },
    {
     "data": {
      "application/vnd.jupyter.widget-view+json": {
       "model_id": "",
       "version_major": 2,
       "version_minor": 0
      },
      "text/plain": [
       "HBox(children=(FloatProgress(value=0.0, description='Training', layout=Layout(flex='2'), max=1125.0, style=Pro…"
      ]
     },
     "metadata": {},
     "output_type": "display_data"
    },
    {
     "name": "stdout",
     "output_type": "stream",
     "text": [
      "Epoch 353: train=1.25198, val=1.1278, took 39.065 s\n"
     ]
    },
    {
     "data": {
      "application/vnd.jupyter.widget-view+json": {
       "model_id": "",
       "version_major": 2,
       "version_minor": 0
      },
      "text/plain": [
       "HBox(children=(FloatProgress(value=0.0, description='Training', layout=Layout(flex='2'), max=1125.0, style=Pro…"
      ]
     },
     "metadata": {},
     "output_type": "display_data"
    },
    {
     "name": "stdout",
     "output_type": "stream",
     "text": [
      "Epoch 354: train=1.25589, val=1.12755, took 38.624 s\n"
     ]
    },
    {
     "data": {
      "application/vnd.jupyter.widget-view+json": {
       "model_id": "",
       "version_major": 2,
       "version_minor": 0
      },
      "text/plain": [
       "HBox(children=(FloatProgress(value=0.0, description='Training', layout=Layout(flex='2'), max=1125.0, style=Pro…"
      ]
     },
     "metadata": {},
     "output_type": "display_data"
    },
    {
     "name": "stdout",
     "output_type": "stream",
     "text": [
      "Epoch 355: train=1.25382, val=1.13439, took 38.429 s\n"
     ]
    },
    {
     "data": {
      "application/vnd.jupyter.widget-view+json": {
       "model_id": "",
       "version_major": 2,
       "version_minor": 0
      },
      "text/plain": [
       "HBox(children=(FloatProgress(value=0.0, description='Training', layout=Layout(flex='2'), max=1125.0, style=Pro…"
      ]
     },
     "metadata": {},
     "output_type": "display_data"
    },
    {
     "name": "stdout",
     "output_type": "stream",
     "text": [
      "Epoch 356: train=1.25543, val=1.12499, took 38.923 s\n"
     ]
    },
    {
     "data": {
      "application/vnd.jupyter.widget-view+json": {
       "model_id": "",
       "version_major": 2,
       "version_minor": 0
      },
      "text/plain": [
       "HBox(children=(FloatProgress(value=0.0, description='Training', layout=Layout(flex='2'), max=1125.0, style=Pro…"
      ]
     },
     "metadata": {},
     "output_type": "display_data"
    },
    {
     "name": "stdout",
     "output_type": "stream",
     "text": [
      "Epoch 357: train=1.25437, val=1.11926, took 38.957 s\n"
     ]
    },
    {
     "data": {
      "application/vnd.jupyter.widget-view+json": {
       "model_id": "",
       "version_major": 2,
       "version_minor": 0
      },
      "text/plain": [
       "HBox(children=(FloatProgress(value=0.0, description='Training', layout=Layout(flex='2'), max=1125.0, style=Pro…"
      ]
     },
     "metadata": {},
     "output_type": "display_data"
    },
    {
     "name": "stdout",
     "output_type": "stream",
     "text": [
      "Epoch 358: train=1.25197, val=1.1173, took 38.346 s\n"
     ]
    },
    {
     "data": {
      "application/vnd.jupyter.widget-view+json": {
       "model_id": "",
       "version_major": 2,
       "version_minor": 0
      },
      "text/plain": [
       "HBox(children=(FloatProgress(value=0.0, description='Training', layout=Layout(flex='2'), max=1125.0, style=Pro…"
      ]
     },
     "metadata": {},
     "output_type": "display_data"
    },
    {
     "name": "stdout",
     "output_type": "stream",
     "text": [
      "Epoch 359: train=1.25526, val=1.16467, took 39.611 s\n"
     ]
    },
    {
     "data": {
      "application/vnd.jupyter.widget-view+json": {
       "model_id": "",
       "version_major": 2,
       "version_minor": 0
      },
      "text/plain": [
       "HBox(children=(FloatProgress(value=0.0, description='Training', layout=Layout(flex='2'), max=1125.0, style=Pro…"
      ]
     },
     "metadata": {},
     "output_type": "display_data"
    },
    {
     "name": "stdout",
     "output_type": "stream",
     "text": [
      "Epoch 360: train=1.25715, val=1.12566, took 38.404 s\n"
     ]
    },
    {
     "data": {
      "application/vnd.jupyter.widget-view+json": {
       "model_id": "",
       "version_major": 2,
       "version_minor": 0
      },
      "text/plain": [
       "HBox(children=(FloatProgress(value=0.0, description='Training', layout=Layout(flex='2'), max=1125.0, style=Pro…"
      ]
     },
     "metadata": {},
     "output_type": "display_data"
    },
    {
     "name": "stdout",
     "output_type": "stream",
     "text": [
      "Epoch 361: train=1.25738, val=1.12516, took 39.007 s\n"
     ]
    },
    {
     "data": {
      "application/vnd.jupyter.widget-view+json": {
       "model_id": "",
       "version_major": 2,
       "version_minor": 0
      },
      "text/plain": [
       "HBox(children=(FloatProgress(value=0.0, description='Training', layout=Layout(flex='2'), max=1125.0, style=Pro…"
      ]
     },
     "metadata": {},
     "output_type": "display_data"
    },
    {
     "name": "stdout",
     "output_type": "stream",
     "text": [
      "Epoch 362: train=1.25579, val=1.11912, took 38.924 s\n"
     ]
    },
    {
     "data": {
      "application/vnd.jupyter.widget-view+json": {
       "model_id": "",
       "version_major": 2,
       "version_minor": 0
      },
      "text/plain": [
       "HBox(children=(FloatProgress(value=0.0, description='Training', layout=Layout(flex='2'), max=1125.0, style=Pro…"
      ]
     },
     "metadata": {},
     "output_type": "display_data"
    },
    {
     "name": "stdout",
     "output_type": "stream",
     "text": [
      "Epoch 363: train=1.25463, val=1.11689, took 38.942 s\n"
     ]
    },
    {
     "data": {
      "application/vnd.jupyter.widget-view+json": {
       "model_id": "",
       "version_major": 2,
       "version_minor": 0
      },
      "text/plain": [
       "HBox(children=(FloatProgress(value=0.0, description='Training', layout=Layout(flex='2'), max=1125.0, style=Pro…"
      ]
     },
     "metadata": {},
     "output_type": "display_data"
    },
    {
     "name": "stdout",
     "output_type": "stream",
     "text": [
      "Epoch 364: train=1.24892, val=1.12076, took 38.611 s\n"
     ]
    },
    {
     "data": {
      "application/vnd.jupyter.widget-view+json": {
       "model_id": "",
       "version_major": 2,
       "version_minor": 0
      },
      "text/plain": [
       "HBox(children=(FloatProgress(value=0.0, description='Training', layout=Layout(flex='2'), max=1125.0, style=Pro…"
      ]
     },
     "metadata": {},
     "output_type": "display_data"
    },
    {
     "name": "stdout",
     "output_type": "stream",
     "text": [
      "Epoch 365: train=1.2481, val=1.11931, took 38.579 s\n"
     ]
    },
    {
     "data": {
      "application/vnd.jupyter.widget-view+json": {
       "model_id": "",
       "version_major": 2,
       "version_minor": 0
      },
      "text/plain": [
       "HBox(children=(FloatProgress(value=0.0, description='Training', layout=Layout(flex='2'), max=1125.0, style=Pro…"
      ]
     },
     "metadata": {},
     "output_type": "display_data"
    },
    {
     "name": "stdout",
     "output_type": "stream",
     "text": [
      "Epoch 366: train=1.25397, val=1.12861, took 39.661 s\n"
     ]
    },
    {
     "data": {
      "application/vnd.jupyter.widget-view+json": {
       "model_id": "",
       "version_major": 2,
       "version_minor": 0
      },
      "text/plain": [
       "HBox(children=(FloatProgress(value=0.0, description='Training', layout=Layout(flex='2'), max=1125.0, style=Pro…"
      ]
     },
     "metadata": {},
     "output_type": "display_data"
    },
    {
     "name": "stdout",
     "output_type": "stream",
     "text": [
      "Epoch 367: train=1.24969, val=1.13238, took 39.914 s\n"
     ]
    },
    {
     "data": {
      "application/vnd.jupyter.widget-view+json": {
       "model_id": "",
       "version_major": 2,
       "version_minor": 0
      },
      "text/plain": [
       "HBox(children=(FloatProgress(value=0.0, description='Training', layout=Layout(flex='2'), max=1125.0, style=Pro…"
      ]
     },
     "metadata": {},
     "output_type": "display_data"
    },
    {
     "name": "stdout",
     "output_type": "stream",
     "text": [
      "Epoch 368: train=1.25184, val=1.15232, took 38.65 s\n"
     ]
    },
    {
     "data": {
      "application/vnd.jupyter.widget-view+json": {
       "model_id": "",
       "version_major": 2,
       "version_minor": 0
      },
      "text/plain": [
       "HBox(children=(FloatProgress(value=0.0, description='Training', layout=Layout(flex='2'), max=1125.0, style=Pro…"
      ]
     },
     "metadata": {},
     "output_type": "display_data"
    },
    {
     "name": "stdout",
     "output_type": "stream",
     "text": [
      "Epoch 369: train=1.25772, val=1.11991, took 39.045 s\n"
     ]
    },
    {
     "data": {
      "application/vnd.jupyter.widget-view+json": {
       "model_id": "",
       "version_major": 2,
       "version_minor": 0
      },
      "text/plain": [
       "HBox(children=(FloatProgress(value=0.0, description='Training', layout=Layout(flex='2'), max=1125.0, style=Pro…"
      ]
     },
     "metadata": {},
     "output_type": "display_data"
    },
    {
     "name": "stdout",
     "output_type": "stream",
     "text": [
      "Epoch 370: train=1.25417, val=1.11935, took 38.83 s\n"
     ]
    },
    {
     "data": {
      "application/vnd.jupyter.widget-view+json": {
       "model_id": "",
       "version_major": 2,
       "version_minor": 0
      },
      "text/plain": [
       "HBox(children=(FloatProgress(value=0.0, description='Training', layout=Layout(flex='2'), max=1125.0, style=Pro…"
      ]
     },
     "metadata": {},
     "output_type": "display_data"
    },
    {
     "name": "stdout",
     "output_type": "stream",
     "text": [
      "Epoch 371: train=1.2519, val=1.1158, took 39.242 s\n"
     ]
    },
    {
     "data": {
      "application/vnd.jupyter.widget-view+json": {
       "model_id": "",
       "version_major": 2,
       "version_minor": 0
      },
      "text/plain": [
       "HBox(children=(FloatProgress(value=0.0, description='Training', layout=Layout(flex='2'), max=1125.0, style=Pro…"
      ]
     },
     "metadata": {},
     "output_type": "display_data"
    },
    {
     "name": "stdout",
     "output_type": "stream",
     "text": [
      "Epoch 372: train=1.25397, val=1.1152, took 38.932 s\n"
     ]
    },
    {
     "data": {
      "application/vnd.jupyter.widget-view+json": {
       "model_id": "",
       "version_major": 2,
       "version_minor": 0
      },
      "text/plain": [
       "HBox(children=(FloatProgress(value=0.0, description='Training', layout=Layout(flex='2'), max=1125.0, style=Pro…"
      ]
     },
     "metadata": {},
     "output_type": "display_data"
    },
    {
     "name": "stdout",
     "output_type": "stream",
     "text": [
      "Epoch 373: train=1.25057, val=1.11989, took 38.546 s\n"
     ]
    },
    {
     "data": {
      "application/vnd.jupyter.widget-view+json": {
       "model_id": "",
       "version_major": 2,
       "version_minor": 0
      },
      "text/plain": [
       "HBox(children=(FloatProgress(value=0.0, description='Training', layout=Layout(flex='2'), max=1125.0, style=Pro…"
      ]
     },
     "metadata": {},
     "output_type": "display_data"
    },
    {
     "name": "stdout",
     "output_type": "stream",
     "text": [
      "Epoch 374: train=1.25291, val=1.1272, took 38.587 s\n"
     ]
    },
    {
     "data": {
      "application/vnd.jupyter.widget-view+json": {
       "model_id": "",
       "version_major": 2,
       "version_minor": 0
      },
      "text/plain": [
       "HBox(children=(FloatProgress(value=0.0, description='Training', layout=Layout(flex='2'), max=1125.0, style=Pro…"
      ]
     },
     "metadata": {},
     "output_type": "display_data"
    },
    {
     "name": "stdout",
     "output_type": "stream",
     "text": [
      "Epoch 375: train=1.25141, val=1.13201, took 38.422 s\n"
     ]
    },
    {
     "data": {
      "application/vnd.jupyter.widget-view+json": {
       "model_id": "",
       "version_major": 2,
       "version_minor": 0
      },
      "text/plain": [
       "HBox(children=(FloatProgress(value=0.0, description='Training', layout=Layout(flex='2'), max=1125.0, style=Pro…"
      ]
     },
     "metadata": {},
     "output_type": "display_data"
    },
    {
     "name": "stdout",
     "output_type": "stream",
     "text": [
      "Epoch 376: train=1.25021, val=1.11988, took 38.596 s\n"
     ]
    },
    {
     "data": {
      "application/vnd.jupyter.widget-view+json": {
       "model_id": "",
       "version_major": 2,
       "version_minor": 0
      },
      "text/plain": [
       "HBox(children=(FloatProgress(value=0.0, description='Training', layout=Layout(flex='2'), max=1125.0, style=Pro…"
      ]
     },
     "metadata": {},
     "output_type": "display_data"
    },
    {
     "name": "stdout",
     "output_type": "stream",
     "text": [
      "Epoch 377: train=1.25227, val=1.1283, took 38.533 s\n"
     ]
    },
    {
     "data": {
      "application/vnd.jupyter.widget-view+json": {
       "model_id": "",
       "version_major": 2,
       "version_minor": 0
      },
      "text/plain": [
       "HBox(children=(FloatProgress(value=0.0, description='Training', layout=Layout(flex='2'), max=1125.0, style=Pro…"
      ]
     },
     "metadata": {},
     "output_type": "display_data"
    },
    {
     "name": "stdout",
     "output_type": "stream",
     "text": [
      "Epoch 378: train=1.25406, val=1.13278, took 39.594 s\n"
     ]
    },
    {
     "data": {
      "application/vnd.jupyter.widget-view+json": {
       "model_id": "",
       "version_major": 2,
       "version_minor": 0
      },
      "text/plain": [
       "HBox(children=(FloatProgress(value=0.0, description='Training', layout=Layout(flex='2'), max=1125.0, style=Pro…"
      ]
     },
     "metadata": {},
     "output_type": "display_data"
    },
    {
     "name": "stdout",
     "output_type": "stream",
     "text": [
      "Epoch 379: train=1.24812, val=1.11908, took 38.642 s\n"
     ]
    },
    {
     "data": {
      "application/vnd.jupyter.widget-view+json": {
       "model_id": "",
       "version_major": 2,
       "version_minor": 0
      },
      "text/plain": [
       "HBox(children=(FloatProgress(value=0.0, description='Training', layout=Layout(flex='2'), max=1125.0, style=Pro…"
      ]
     },
     "metadata": {},
     "output_type": "display_data"
    },
    {
     "name": "stdout",
     "output_type": "stream",
     "text": [
      "Epoch 380: train=1.2494, val=1.12324, took 38.56 s\n"
     ]
    },
    {
     "data": {
      "application/vnd.jupyter.widget-view+json": {
       "model_id": "",
       "version_major": 2,
       "version_minor": 0
      },
      "text/plain": [
       "HBox(children=(FloatProgress(value=0.0, description='Training', layout=Layout(flex='2'), max=1125.0, style=Pro…"
      ]
     },
     "metadata": {},
     "output_type": "display_data"
    },
    {
     "name": "stdout",
     "output_type": "stream",
     "text": [
      "Epoch 381: train=1.25829, val=1.12958, took 38.623 s\n"
     ]
    },
    {
     "data": {
      "application/vnd.jupyter.widget-view+json": {
       "model_id": "",
       "version_major": 2,
       "version_minor": 0
      },
      "text/plain": [
       "HBox(children=(FloatProgress(value=0.0, description='Training', layout=Layout(flex='2'), max=1125.0, style=Pro…"
      ]
     },
     "metadata": {},
     "output_type": "display_data"
    },
    {
     "name": "stdout",
     "output_type": "stream",
     "text": [
      "Epoch 382: train=1.25248, val=1.11744, took 38.417 s\n"
     ]
    },
    {
     "data": {
      "application/vnd.jupyter.widget-view+json": {
       "model_id": "",
       "version_major": 2,
       "version_minor": 0
      },
      "text/plain": [
       "HBox(children=(FloatProgress(value=0.0, description='Training', layout=Layout(flex='2'), max=1125.0, style=Pro…"
      ]
     },
     "metadata": {},
     "output_type": "display_data"
    },
    {
     "name": "stdout",
     "output_type": "stream",
     "text": [
      "Epoch 383: train=1.25075, val=1.11542, took 38.819 s\n"
     ]
    },
    {
     "data": {
      "application/vnd.jupyter.widget-view+json": {
       "model_id": "",
       "version_major": 2,
       "version_minor": 0
      },
      "text/plain": [
       "HBox(children=(FloatProgress(value=0.0, description='Training', layout=Layout(flex='2'), max=1125.0, style=Pro…"
      ]
     },
     "metadata": {},
     "output_type": "display_data"
    },
    {
     "name": "stdout",
     "output_type": "stream",
     "text": [
      "Epoch 384: train=1.25681, val=1.11739, took 38.413 s\n"
     ]
    },
    {
     "data": {
      "application/vnd.jupyter.widget-view+json": {
       "model_id": "",
       "version_major": 2,
       "version_minor": 0
      },
      "text/plain": [
       "HBox(children=(FloatProgress(value=0.0, description='Training', layout=Layout(flex='2'), max=1125.0, style=Pro…"
      ]
     },
     "metadata": {},
     "output_type": "display_data"
    },
    {
     "name": "stdout",
     "output_type": "stream",
     "text": [
      "Epoch 385: train=1.24864, val=1.12046, took 38.397 s\n"
     ]
    },
    {
     "data": {
      "application/vnd.jupyter.widget-view+json": {
       "model_id": "",
       "version_major": 2,
       "version_minor": 0
      },
      "text/plain": [
       "HBox(children=(FloatProgress(value=0.0, description='Training', layout=Layout(flex='2'), max=1125.0, style=Pro…"
      ]
     },
     "metadata": {},
     "output_type": "display_data"
    },
    {
     "name": "stdout",
     "output_type": "stream",
     "text": [
      "Epoch 386: train=1.2486, val=1.11455, took 38.236 s\n"
     ]
    },
    {
     "data": {
      "application/vnd.jupyter.widget-view+json": {
       "model_id": "",
       "version_major": 2,
       "version_minor": 0
      },
      "text/plain": [
       "HBox(children=(FloatProgress(value=0.0, description='Training', layout=Layout(flex='2'), max=1125.0, style=Pro…"
      ]
     },
     "metadata": {},
     "output_type": "display_data"
    },
    {
     "name": "stdout",
     "output_type": "stream",
     "text": [
      "Epoch 387: train=1.24985, val=1.11749, took 38.47 s\n"
     ]
    },
    {
     "data": {
      "application/vnd.jupyter.widget-view+json": {
       "model_id": "",
       "version_major": 2,
       "version_minor": 0
      },
      "text/plain": [
       "HBox(children=(FloatProgress(value=0.0, description='Training', layout=Layout(flex='2'), max=1125.0, style=Pro…"
      ]
     },
     "metadata": {},
     "output_type": "display_data"
    },
    {
     "name": "stdout",
     "output_type": "stream",
     "text": [
      "Epoch 388: train=1.25098, val=1.11451, took 38.765 s\n"
     ]
    },
    {
     "data": {
      "application/vnd.jupyter.widget-view+json": {
       "model_id": "",
       "version_major": 2,
       "version_minor": 0
      },
      "text/plain": [
       "HBox(children=(FloatProgress(value=0.0, description='Training', layout=Layout(flex='2'), max=1125.0, style=Pro…"
      ]
     },
     "metadata": {},
     "output_type": "display_data"
    },
    {
     "name": "stdout",
     "output_type": "stream",
     "text": [
      "Epoch 389: train=1.24968, val=1.11698, took 40.567 s\n"
     ]
    },
    {
     "data": {
      "application/vnd.jupyter.widget-view+json": {
       "model_id": "",
       "version_major": 2,
       "version_minor": 0
      },
      "text/plain": [
       "HBox(children=(FloatProgress(value=0.0, description='Training', layout=Layout(flex='2'), max=1125.0, style=Pro…"
      ]
     },
     "metadata": {},
     "output_type": "display_data"
    },
    {
     "name": "stdout",
     "output_type": "stream",
     "text": [
      "Epoch 390: train=1.24986, val=1.12292, took 38.587 s\n"
     ]
    },
    {
     "data": {
      "application/vnd.jupyter.widget-view+json": {
       "model_id": "",
       "version_major": 2,
       "version_minor": 0
      },
      "text/plain": [
       "HBox(children=(FloatProgress(value=0.0, description='Training', layout=Layout(flex='2'), max=1125.0, style=Pro…"
      ]
     },
     "metadata": {},
     "output_type": "display_data"
    },
    {
     "name": "stdout",
     "output_type": "stream",
     "text": [
      "Epoch 391: train=1.25343, val=1.12339, took 38.891 s\n"
     ]
    },
    {
     "data": {
      "application/vnd.jupyter.widget-view+json": {
       "model_id": "",
       "version_major": 2,
       "version_minor": 0
      },
      "text/plain": [
       "HBox(children=(FloatProgress(value=0.0, description='Training', layout=Layout(flex='2'), max=1125.0, style=Pro…"
      ]
     },
     "metadata": {},
     "output_type": "display_data"
    },
    {
     "name": "stdout",
     "output_type": "stream",
     "text": [
      "Epoch 392: train=1.25059, val=1.1154, took 38.735 s\n"
     ]
    },
    {
     "data": {
      "application/vnd.jupyter.widget-view+json": {
       "model_id": "",
       "version_major": 2,
       "version_minor": 0
      },
      "text/plain": [
       "HBox(children=(FloatProgress(value=0.0, description='Training', layout=Layout(flex='2'), max=1125.0, style=Pro…"
      ]
     },
     "metadata": {},
     "output_type": "display_data"
    },
    {
     "name": "stdout",
     "output_type": "stream",
     "text": [
      "Epoch 393: train=1.25117, val=1.11782, took 38.771 s\n"
     ]
    },
    {
     "data": {
      "application/vnd.jupyter.widget-view+json": {
       "model_id": "",
       "version_major": 2,
       "version_minor": 0
      },
      "text/plain": [
       "HBox(children=(FloatProgress(value=0.0, description='Training', layout=Layout(flex='2'), max=1125.0, style=Pro…"
      ]
     },
     "metadata": {},
     "output_type": "display_data"
    },
    {
     "name": "stdout",
     "output_type": "stream",
     "text": [
      "Epoch 394: train=1.2527, val=1.11321, took 38.454 s\n"
     ]
    },
    {
     "data": {
      "application/vnd.jupyter.widget-view+json": {
       "model_id": "",
       "version_major": 2,
       "version_minor": 0
      },
      "text/plain": [
       "HBox(children=(FloatProgress(value=0.0, description='Training', layout=Layout(flex='2'), max=1125.0, style=Pro…"
      ]
     },
     "metadata": {},
     "output_type": "display_data"
    },
    {
     "name": "stdout",
     "output_type": "stream",
     "text": [
      "Epoch 395: train=1.25126, val=1.12028, took 40.914 s\n"
     ]
    },
    {
     "data": {
      "application/vnd.jupyter.widget-view+json": {
       "model_id": "",
       "version_major": 2,
       "version_minor": 0
      },
      "text/plain": [
       "HBox(children=(FloatProgress(value=0.0, description='Training', layout=Layout(flex='2'), max=1125.0, style=Pro…"
      ]
     },
     "metadata": {},
     "output_type": "display_data"
    },
    {
     "name": "stdout",
     "output_type": "stream",
     "text": [
      "Epoch 396: train=1.24534, val=1.1254, took 38.24 s\n"
     ]
    },
    {
     "data": {
      "application/vnd.jupyter.widget-view+json": {
       "model_id": "",
       "version_major": 2,
       "version_minor": 0
      },
      "text/plain": [
       "HBox(children=(FloatProgress(value=0.0, description='Training', layout=Layout(flex='2'), max=1125.0, style=Pro…"
      ]
     },
     "metadata": {},
     "output_type": "display_data"
    },
    {
     "name": "stdout",
     "output_type": "stream",
     "text": [
      "Epoch 397: train=1.24976, val=1.11825, took 38.473 s\n"
     ]
    },
    {
     "data": {
      "application/vnd.jupyter.widget-view+json": {
       "model_id": "",
       "version_major": 2,
       "version_minor": 0
      },
      "text/plain": [
       "HBox(children=(FloatProgress(value=0.0, description='Training', layout=Layout(flex='2'), max=1125.0, style=Pro…"
      ]
     },
     "metadata": {},
     "output_type": "display_data"
    },
    {
     "name": "stdout",
     "output_type": "stream",
     "text": [
      "Epoch 398: train=1.25299, val=1.11578, took 41.411 s\n"
     ]
    },
    {
     "data": {
      "application/vnd.jupyter.widget-view+json": {
       "model_id": "",
       "version_major": 2,
       "version_minor": 0
      },
      "text/plain": [
       "HBox(children=(FloatProgress(value=0.0, description='Training', layout=Layout(flex='2'), max=1125.0, style=Pro…"
      ]
     },
     "metadata": {},
     "output_type": "display_data"
    },
    {
     "name": "stdout",
     "output_type": "stream",
     "text": [
      "Epoch 399: train=1.25224, val=1.11451, took 38.782 s\n"
     ]
    },
    {
     "data": {
      "application/vnd.jupyter.widget-view+json": {
       "model_id": "",
       "version_major": 2,
       "version_minor": 0
      },
      "text/plain": [
       "HBox(children=(FloatProgress(value=0.0, description='Training', layout=Layout(flex='2'), max=1125.0, style=Pro…"
      ]
     },
     "metadata": {},
     "output_type": "display_data"
    },
    {
     "name": "stdout",
     "output_type": "stream",
     "text": [
      "Epoch 400: train=1.25056, val=1.11763, took 40.542 s\n"
     ]
    },
    {
     "data": {
      "application/vnd.jupyter.widget-view+json": {
       "model_id": "",
       "version_major": 2,
       "version_minor": 0
      },
      "text/plain": [
       "HBox(children=(FloatProgress(value=0.0, description='Training', layout=Layout(flex='2'), max=1125.0, style=Pro…"
      ]
     },
     "metadata": {},
     "output_type": "display_data"
    },
    {
     "name": "stdout",
     "output_type": "stream",
     "text": [
      "Epoch 401: train=1.24765, val=1.11498, took 38.242 s\n"
     ]
    },
    {
     "data": {
      "application/vnd.jupyter.widget-view+json": {
       "model_id": "",
       "version_major": 2,
       "version_minor": 0
      },
      "text/plain": [
       "HBox(children=(FloatProgress(value=0.0, description='Training', layout=Layout(flex='2'), max=1125.0, style=Pro…"
      ]
     },
     "metadata": {},
     "output_type": "display_data"
    },
    {
     "name": "stdout",
     "output_type": "stream",
     "text": [
      "Epoch 402: train=1.2517, val=1.11869, took 38.486 s\n"
     ]
    },
    {
     "data": {
      "application/vnd.jupyter.widget-view+json": {
       "model_id": "",
       "version_major": 2,
       "version_minor": 0
      },
      "text/plain": [
       "HBox(children=(FloatProgress(value=0.0, description='Training', layout=Layout(flex='2'), max=1125.0, style=Pro…"
      ]
     },
     "metadata": {},
     "output_type": "display_data"
    },
    {
     "name": "stdout",
     "output_type": "stream",
     "text": [
      "Epoch 403: train=1.24937, val=1.11385, took 38.538 s\n"
     ]
    },
    {
     "data": {
      "application/vnd.jupyter.widget-view+json": {
       "model_id": "",
       "version_major": 2,
       "version_minor": 0
      },
      "text/plain": [
       "HBox(children=(FloatProgress(value=0.0, description='Training', layout=Layout(flex='2'), max=1125.0, style=Pro…"
      ]
     },
     "metadata": {},
     "output_type": "display_data"
    },
    {
     "name": "stdout",
     "output_type": "stream",
     "text": [
      "Epoch 404: train=1.24722, val=1.1261, took 38.763 s\n"
     ]
    },
    {
     "data": {
      "application/vnd.jupyter.widget-view+json": {
       "model_id": "",
       "version_major": 2,
       "version_minor": 0
      },
      "text/plain": [
       "HBox(children=(FloatProgress(value=0.0, description='Training', layout=Layout(flex='2'), max=1125.0, style=Pro…"
      ]
     },
     "metadata": {},
     "output_type": "display_data"
    },
    {
     "name": "stdout",
     "output_type": "stream",
     "text": [
      "Epoch 405: train=1.24496, val=1.11634, took 38.47 s\n"
     ]
    },
    {
     "data": {
      "application/vnd.jupyter.widget-view+json": {
       "model_id": "",
       "version_major": 2,
       "version_minor": 0
      },
      "text/plain": [
       "HBox(children=(FloatProgress(value=0.0, description='Training', layout=Layout(flex='2'), max=1125.0, style=Pro…"
      ]
     },
     "metadata": {},
     "output_type": "display_data"
    },
    {
     "name": "stdout",
     "output_type": "stream",
     "text": [
      "Epoch 406: train=1.2487, val=1.11475, took 38.627 s\n"
     ]
    },
    {
     "data": {
      "application/vnd.jupyter.widget-view+json": {
       "model_id": "",
       "version_major": 2,
       "version_minor": 0
      },
      "text/plain": [
       "HBox(children=(FloatProgress(value=0.0, description='Training', layout=Layout(flex='2'), max=1125.0, style=Pro…"
      ]
     },
     "metadata": {},
     "output_type": "display_data"
    },
    {
     "name": "stdout",
     "output_type": "stream",
     "text": [
      "Epoch 407: train=1.24551, val=1.13316, took 40.718 s\n"
     ]
    },
    {
     "data": {
      "application/vnd.jupyter.widget-view+json": {
       "model_id": "",
       "version_major": 2,
       "version_minor": 0
      },
      "text/plain": [
       "HBox(children=(FloatProgress(value=0.0, description='Training', layout=Layout(flex='2'), max=1125.0, style=Pro…"
      ]
     },
     "metadata": {},
     "output_type": "display_data"
    },
    {
     "name": "stdout",
     "output_type": "stream",
     "text": [
      "Epoch 408: train=1.24955, val=1.11777, took 38.52 s\n"
     ]
    },
    {
     "data": {
      "application/vnd.jupyter.widget-view+json": {
       "model_id": "",
       "version_major": 2,
       "version_minor": 0
      },
      "text/plain": [
       "HBox(children=(FloatProgress(value=0.0, description='Training', layout=Layout(flex='2'), max=1125.0, style=Pro…"
      ]
     },
     "metadata": {},
     "output_type": "display_data"
    },
    {
     "name": "stdout",
     "output_type": "stream",
     "text": [
      "Epoch 409: train=1.24589, val=1.1263, took 38.995 s\n"
     ]
    },
    {
     "data": {
      "application/vnd.jupyter.widget-view+json": {
       "model_id": "",
       "version_major": 2,
       "version_minor": 0
      },
      "text/plain": [
       "HBox(children=(FloatProgress(value=0.0, description='Training', layout=Layout(flex='2'), max=1125.0, style=Pro…"
      ]
     },
     "metadata": {},
     "output_type": "display_data"
    },
    {
     "name": "stdout",
     "output_type": "stream",
     "text": [
      "Epoch 410: train=1.24727, val=1.11425, took 38.798 s\n"
     ]
    },
    {
     "data": {
      "application/vnd.jupyter.widget-view+json": {
       "model_id": "",
       "version_major": 2,
       "version_minor": 0
      },
      "text/plain": [
       "HBox(children=(FloatProgress(value=0.0, description='Training', layout=Layout(flex='2'), max=1125.0, style=Pro…"
      ]
     },
     "metadata": {},
     "output_type": "display_data"
    },
    {
     "name": "stdout",
     "output_type": "stream",
     "text": [
      "Epoch 411: train=1.25417, val=1.11942, took 38.63 s\n"
     ]
    },
    {
     "data": {
      "application/vnd.jupyter.widget-view+json": {
       "model_id": "",
       "version_major": 2,
       "version_minor": 0
      },
      "text/plain": [
       "HBox(children=(FloatProgress(value=0.0, description='Training', layout=Layout(flex='2'), max=1125.0, style=Pro…"
      ]
     },
     "metadata": {},
     "output_type": "display_data"
    },
    {
     "name": "stdout",
     "output_type": "stream",
     "text": [
      "Epoch 412: train=1.24486, val=1.12324, took 38.938 s\n"
     ]
    },
    {
     "data": {
      "application/vnd.jupyter.widget-view+json": {
       "model_id": "",
       "version_major": 2,
       "version_minor": 0
      },
      "text/plain": [
       "HBox(children=(FloatProgress(value=0.0, description='Training', layout=Layout(flex='2'), max=1125.0, style=Pro…"
      ]
     },
     "metadata": {},
     "output_type": "display_data"
    },
    {
     "name": "stdout",
     "output_type": "stream",
     "text": [
      "Epoch 413: train=1.24899, val=1.11764, took 39.476 s\n"
     ]
    },
    {
     "data": {
      "application/vnd.jupyter.widget-view+json": {
       "model_id": "",
       "version_major": 2,
       "version_minor": 0
      },
      "text/plain": [
       "HBox(children=(FloatProgress(value=0.0, description='Training', layout=Layout(flex='2'), max=1125.0, style=Pro…"
      ]
     },
     "metadata": {},
     "output_type": "display_data"
    },
    {
     "name": "stdout",
     "output_type": "stream",
     "text": [
      "Epoch 414: train=1.2459, val=1.12819, took 38.263 s\n"
     ]
    },
    {
     "data": {
      "application/vnd.jupyter.widget-view+json": {
       "model_id": "",
       "version_major": 2,
       "version_minor": 0
      },
      "text/plain": [
       "HBox(children=(FloatProgress(value=0.0, description='Training', layout=Layout(flex='2'), max=1125.0, style=Pro…"
      ]
     },
     "metadata": {},
     "output_type": "display_data"
    },
    {
     "name": "stdout",
     "output_type": "stream",
     "text": [
      "Epoch 415: train=1.25035, val=1.11956, took 38.428 s\n"
     ]
    },
    {
     "data": {
      "application/vnd.jupyter.widget-view+json": {
       "model_id": "",
       "version_major": 2,
       "version_minor": 0
      },
      "text/plain": [
       "HBox(children=(FloatProgress(value=0.0, description='Training', layout=Layout(flex='2'), max=1125.0, style=Pro…"
      ]
     },
     "metadata": {},
     "output_type": "display_data"
    },
    {
     "name": "stdout",
     "output_type": "stream",
     "text": [
      "Epoch 416: train=1.24882, val=1.15553, took 38.977 s\n"
     ]
    },
    {
     "data": {
      "application/vnd.jupyter.widget-view+json": {
       "model_id": "",
       "version_major": 2,
       "version_minor": 0
      },
      "text/plain": [
       "HBox(children=(FloatProgress(value=0.0, description='Training', layout=Layout(flex='2'), max=1125.0, style=Pro…"
      ]
     },
     "metadata": {},
     "output_type": "display_data"
    },
    {
     "name": "stdout",
     "output_type": "stream",
     "text": [
      "Epoch 417: train=1.24965, val=1.12403, took 38.576 s\n"
     ]
    },
    {
     "data": {
      "application/vnd.jupyter.widget-view+json": {
       "model_id": "",
       "version_major": 2,
       "version_minor": 0
      },
      "text/plain": [
       "HBox(children=(FloatProgress(value=0.0, description='Training', layout=Layout(flex='2'), max=1125.0, style=Pro…"
      ]
     },
     "metadata": {},
     "output_type": "display_data"
    },
    {
     "name": "stdout",
     "output_type": "stream",
     "text": [
      "Epoch 418: train=1.24767, val=1.12796, took 40.364 s\n"
     ]
    },
    {
     "data": {
      "application/vnd.jupyter.widget-view+json": {
       "model_id": "",
       "version_major": 2,
       "version_minor": 0
      },
      "text/plain": [
       "HBox(children=(FloatProgress(value=0.0, description='Training', layout=Layout(flex='2'), max=1125.0, style=Pro…"
      ]
     },
     "metadata": {},
     "output_type": "display_data"
    },
    {
     "name": "stdout",
     "output_type": "stream",
     "text": [
      "Epoch 419: train=1.24866, val=1.11819, took 38.387 s\n"
     ]
    },
    {
     "data": {
      "application/vnd.jupyter.widget-view+json": {
       "model_id": "",
       "version_major": 2,
       "version_minor": 0
      },
      "text/plain": [
       "HBox(children=(FloatProgress(value=0.0, description='Training', layout=Layout(flex='2'), max=1125.0, style=Pro…"
      ]
     },
     "metadata": {},
     "output_type": "display_data"
    },
    {
     "name": "stdout",
     "output_type": "stream",
     "text": [
      "Epoch 420: train=1.2461, val=1.12533, took 38.719 s\n"
     ]
    },
    {
     "data": {
      "application/vnd.jupyter.widget-view+json": {
       "model_id": "",
       "version_major": 2,
       "version_minor": 0
      },
      "text/plain": [
       "HBox(children=(FloatProgress(value=0.0, description='Training', layout=Layout(flex='2'), max=1125.0, style=Pro…"
      ]
     },
     "metadata": {},
     "output_type": "display_data"
    },
    {
     "name": "stdout",
     "output_type": "stream",
     "text": [
      "Epoch 421: train=1.24702, val=1.11371, took 39.16 s\n"
     ]
    },
    {
     "data": {
      "application/vnd.jupyter.widget-view+json": {
       "model_id": "",
       "version_major": 2,
       "version_minor": 0
      },
      "text/plain": [
       "HBox(children=(FloatProgress(value=0.0, description='Training', layout=Layout(flex='2'), max=1125.0, style=Pro…"
      ]
     },
     "metadata": {},
     "output_type": "display_data"
    },
    {
     "name": "stdout",
     "output_type": "stream",
     "text": [
      "Epoch 422: train=1.24332, val=1.11414, took 39.48 s\n"
     ]
    },
    {
     "data": {
      "application/vnd.jupyter.widget-view+json": {
       "model_id": "",
       "version_major": 2,
       "version_minor": 0
      },
      "text/plain": [
       "HBox(children=(FloatProgress(value=0.0, description='Training', layout=Layout(flex='2'), max=1125.0, style=Pro…"
      ]
     },
     "metadata": {},
     "output_type": "display_data"
    },
    {
     "name": "stdout",
     "output_type": "stream",
     "text": [
      "Epoch 423: train=1.24846, val=1.11325, took 38.43 s\n"
     ]
    },
    {
     "data": {
      "application/vnd.jupyter.widget-view+json": {
       "model_id": "",
       "version_major": 2,
       "version_minor": 0
      },
      "text/plain": [
       "HBox(children=(FloatProgress(value=0.0, description='Training', layout=Layout(flex='2'), max=1125.0, style=Pro…"
      ]
     },
     "metadata": {},
     "output_type": "display_data"
    },
    {
     "name": "stdout",
     "output_type": "stream",
     "text": [
      "Epoch 424: train=1.24296, val=1.1271, took 38.377 s\n"
     ]
    },
    {
     "data": {
      "application/vnd.jupyter.widget-view+json": {
       "model_id": "",
       "version_major": 2,
       "version_minor": 0
      },
      "text/plain": [
       "HBox(children=(FloatProgress(value=0.0, description='Training', layout=Layout(flex='2'), max=1125.0, style=Pro…"
      ]
     },
     "metadata": {},
     "output_type": "display_data"
    },
    {
     "name": "stdout",
     "output_type": "stream",
     "text": [
      "Epoch 425: train=1.24715, val=1.11266, took 38.722 s\n"
     ]
    },
    {
     "data": {
      "application/vnd.jupyter.widget-view+json": {
       "model_id": "",
       "version_major": 2,
       "version_minor": 0
      },
      "text/plain": [
       "HBox(children=(FloatProgress(value=0.0, description='Training', layout=Layout(flex='2'), max=1125.0, style=Pro…"
      ]
     },
     "metadata": {},
     "output_type": "display_data"
    },
    {
     "name": "stdout",
     "output_type": "stream",
     "text": [
      "Epoch 426: train=1.24664, val=1.11169, took 38.668 s\n"
     ]
    },
    {
     "data": {
      "application/vnd.jupyter.widget-view+json": {
       "model_id": "",
       "version_major": 2,
       "version_minor": 0
      },
      "text/plain": [
       "HBox(children=(FloatProgress(value=0.0, description='Training', layout=Layout(flex='2'), max=1125.0, style=Pro…"
      ]
     },
     "metadata": {},
     "output_type": "display_data"
    },
    {
     "name": "stdout",
     "output_type": "stream",
     "text": [
      "Epoch 427: train=1.2442, val=1.12119, took 43.263 s\n"
     ]
    },
    {
     "data": {
      "application/vnd.jupyter.widget-view+json": {
       "model_id": "",
       "version_major": 2,
       "version_minor": 0
      },
      "text/plain": [
       "HBox(children=(FloatProgress(value=0.0, description='Training', layout=Layout(flex='2'), max=1125.0, style=Pro…"
      ]
     },
     "metadata": {},
     "output_type": "display_data"
    },
    {
     "name": "stdout",
     "output_type": "stream",
     "text": [
      "Epoch 428: train=1.24854, val=1.11444, took 39.845 s\n"
     ]
    },
    {
     "data": {
      "application/vnd.jupyter.widget-view+json": {
       "model_id": "",
       "version_major": 2,
       "version_minor": 0
      },
      "text/plain": [
       "HBox(children=(FloatProgress(value=0.0, description='Training', layout=Layout(flex='2'), max=1125.0, style=Pro…"
      ]
     },
     "metadata": {},
     "output_type": "display_data"
    },
    {
     "name": "stdout",
     "output_type": "stream",
     "text": [
      "Epoch 429: train=1.24519, val=1.11243, took 38.417 s\n"
     ]
    },
    {
     "data": {
      "application/vnd.jupyter.widget-view+json": {
       "model_id": "",
       "version_major": 2,
       "version_minor": 0
      },
      "text/plain": [
       "HBox(children=(FloatProgress(value=0.0, description='Training', layout=Layout(flex='2'), max=1125.0, style=Pro…"
      ]
     },
     "metadata": {},
     "output_type": "display_data"
    },
    {
     "name": "stdout",
     "output_type": "stream",
     "text": [
      "Epoch 430: train=1.24751, val=1.11464, took 38.594 s\n"
     ]
    },
    {
     "data": {
      "application/vnd.jupyter.widget-view+json": {
       "model_id": "",
       "version_major": 2,
       "version_minor": 0
      },
      "text/plain": [
       "HBox(children=(FloatProgress(value=0.0, description='Training', layout=Layout(flex='2'), max=1125.0, style=Pro…"
      ]
     },
     "metadata": {},
     "output_type": "display_data"
    },
    {
     "name": "stdout",
     "output_type": "stream",
     "text": [
      "Epoch 431: train=1.24773, val=1.12548, took 38.451 s\n"
     ]
    },
    {
     "data": {
      "application/vnd.jupyter.widget-view+json": {
       "model_id": "",
       "version_major": 2,
       "version_minor": 0
      },
      "text/plain": [
       "HBox(children=(FloatProgress(value=0.0, description='Training', layout=Layout(flex='2'), max=1125.0, style=Pro…"
      ]
     },
     "metadata": {},
     "output_type": "display_data"
    },
    {
     "name": "stdout",
     "output_type": "stream",
     "text": [
      "Epoch 432: train=1.24704, val=1.11994, took 38.396 s\n"
     ]
    },
    {
     "data": {
      "application/vnd.jupyter.widget-view+json": {
       "model_id": "",
       "version_major": 2,
       "version_minor": 0
      },
      "text/plain": [
       "HBox(children=(FloatProgress(value=0.0, description='Training', layout=Layout(flex='2'), max=1125.0, style=Pro…"
      ]
     },
     "metadata": {},
     "output_type": "display_data"
    },
    {
     "name": "stdout",
     "output_type": "stream",
     "text": [
      "Epoch 433: train=1.2493, val=1.12283, took 38.173 s\n"
     ]
    },
    {
     "data": {
      "application/vnd.jupyter.widget-view+json": {
       "model_id": "",
       "version_major": 2,
       "version_minor": 0
      },
      "text/plain": [
       "HBox(children=(FloatProgress(value=0.0, description='Training', layout=Layout(flex='2'), max=1125.0, style=Pro…"
      ]
     },
     "metadata": {},
     "output_type": "display_data"
    },
    {
     "name": "stdout",
     "output_type": "stream",
     "text": [
      "Epoch 434: train=1.24901, val=1.11131, took 38.86 s\n"
     ]
    },
    {
     "data": {
      "application/vnd.jupyter.widget-view+json": {
       "model_id": "",
       "version_major": 2,
       "version_minor": 0
      },
      "text/plain": [
       "HBox(children=(FloatProgress(value=0.0, description='Training', layout=Layout(flex='2'), max=1125.0, style=Pro…"
      ]
     },
     "metadata": {},
     "output_type": "display_data"
    },
    {
     "name": "stdout",
     "output_type": "stream",
     "text": [
      "Epoch 435: train=1.24684, val=1.11665, took 38.344 s\n"
     ]
    },
    {
     "data": {
      "application/vnd.jupyter.widget-view+json": {
       "model_id": "",
       "version_major": 2,
       "version_minor": 0
      },
      "text/plain": [
       "HBox(children=(FloatProgress(value=0.0, description='Training', layout=Layout(flex='2'), max=1125.0, style=Pro…"
      ]
     },
     "metadata": {},
     "output_type": "display_data"
    },
    {
     "name": "stdout",
     "output_type": "stream",
     "text": [
      "Epoch 436: train=1.24932, val=1.15471, took 38.82 s\n"
     ]
    },
    {
     "data": {
      "application/vnd.jupyter.widget-view+json": {
       "model_id": "",
       "version_major": 2,
       "version_minor": 0
      },
      "text/plain": [
       "HBox(children=(FloatProgress(value=0.0, description='Training', layout=Layout(flex='2'), max=1125.0, style=Pro…"
      ]
     },
     "metadata": {},
     "output_type": "display_data"
    },
    {
     "name": "stdout",
     "output_type": "stream",
     "text": [
      "Epoch 437: train=1.24322, val=1.11512, took 40.792 s\n"
     ]
    },
    {
     "data": {
      "application/vnd.jupyter.widget-view+json": {
       "model_id": "",
       "version_major": 2,
       "version_minor": 0
      },
      "text/plain": [
       "HBox(children=(FloatProgress(value=0.0, description='Training', layout=Layout(flex='2'), max=1125.0, style=Pro…"
      ]
     },
     "metadata": {},
     "output_type": "display_data"
    },
    {
     "name": "stdout",
     "output_type": "stream",
     "text": [
      "Epoch 438: train=1.24979, val=1.11809, took 38.975 s\n"
     ]
    },
    {
     "data": {
      "application/vnd.jupyter.widget-view+json": {
       "model_id": "",
       "version_major": 2,
       "version_minor": 0
      },
      "text/plain": [
       "HBox(children=(FloatProgress(value=0.0, description='Training', layout=Layout(flex='2'), max=1125.0, style=Pro…"
      ]
     },
     "metadata": {},
     "output_type": "display_data"
    },
    {
     "name": "stdout",
     "output_type": "stream",
     "text": [
      "Epoch 439: train=1.2494, val=1.14557, took 38.463 s\n"
     ]
    },
    {
     "data": {
      "application/vnd.jupyter.widget-view+json": {
       "model_id": "",
       "version_major": 2,
       "version_minor": 0
      },
      "text/plain": [
       "HBox(children=(FloatProgress(value=0.0, description='Training', layout=Layout(flex='2'), max=1125.0, style=Pro…"
      ]
     },
     "metadata": {},
     "output_type": "display_data"
    },
    {
     "name": "stdout",
     "output_type": "stream",
     "text": [
      "Epoch 440: train=1.23955, val=1.12323, took 38.164 s\n"
     ]
    },
    {
     "data": {
      "application/vnd.jupyter.widget-view+json": {
       "model_id": "",
       "version_major": 2,
       "version_minor": 0
      },
      "text/plain": [
       "HBox(children=(FloatProgress(value=0.0, description='Training', layout=Layout(flex='2'), max=1125.0, style=Pro…"
      ]
     },
     "metadata": {},
     "output_type": "display_data"
    },
    {
     "name": "stdout",
     "output_type": "stream",
     "text": [
      "Epoch 441: train=1.24352, val=1.14136, took 38.232 s\n"
     ]
    },
    {
     "data": {
      "application/vnd.jupyter.widget-view+json": {
       "model_id": "",
       "version_major": 2,
       "version_minor": 0
      },
      "text/plain": [
       "HBox(children=(FloatProgress(value=0.0, description='Training', layout=Layout(flex='2'), max=1125.0, style=Pro…"
      ]
     },
     "metadata": {},
     "output_type": "display_data"
    },
    {
     "name": "stdout",
     "output_type": "stream",
     "text": [
      "Epoch 442: train=1.25029, val=1.11455, took 38.263 s\n"
     ]
    },
    {
     "data": {
      "application/vnd.jupyter.widget-view+json": {
       "model_id": "",
       "version_major": 2,
       "version_minor": 0
      },
      "text/plain": [
       "HBox(children=(FloatProgress(value=0.0, description='Training', layout=Layout(flex='2'), max=1125.0, style=Pro…"
      ]
     },
     "metadata": {},
     "output_type": "display_data"
    },
    {
     "name": "stdout",
     "output_type": "stream",
     "text": [
      "Epoch 443: train=1.24379, val=1.11916, took 38.181 s\n"
     ]
    },
    {
     "data": {
      "application/vnd.jupyter.widget-view+json": {
       "model_id": "",
       "version_major": 2,
       "version_minor": 0
      },
      "text/plain": [
       "HBox(children=(FloatProgress(value=0.0, description='Training', layout=Layout(flex='2'), max=1125.0, style=Pro…"
      ]
     },
     "metadata": {},
     "output_type": "display_data"
    },
    {
     "name": "stdout",
     "output_type": "stream",
     "text": [
      "Epoch 444: train=1.24436, val=1.15219, took 38.094 s\n"
     ]
    },
    {
     "data": {
      "application/vnd.jupyter.widget-view+json": {
       "model_id": "",
       "version_major": 2,
       "version_minor": 0
      },
      "text/plain": [
       "HBox(children=(FloatProgress(value=0.0, description='Training', layout=Layout(flex='2'), max=1125.0, style=Pro…"
      ]
     },
     "metadata": {},
     "output_type": "display_data"
    },
    {
     "name": "stdout",
     "output_type": "stream",
     "text": [
      "Epoch 445: train=1.24505, val=1.12171, took 38.279 s\n"
     ]
    },
    {
     "data": {
      "application/vnd.jupyter.widget-view+json": {
       "model_id": "",
       "version_major": 2,
       "version_minor": 0
      },
      "text/plain": [
       "HBox(children=(FloatProgress(value=0.0, description='Training', layout=Layout(flex='2'), max=1125.0, style=Pro…"
      ]
     },
     "metadata": {},
     "output_type": "display_data"
    },
    {
     "name": "stdout",
     "output_type": "stream",
     "text": [
      "Epoch 446: train=1.24252, val=1.11378, took 38.544 s\n"
     ]
    },
    {
     "data": {
      "application/vnd.jupyter.widget-view+json": {
       "model_id": "",
       "version_major": 2,
       "version_minor": 0
      },
      "text/plain": [
       "HBox(children=(FloatProgress(value=0.0, description='Training', layout=Layout(flex='2'), max=1125.0, style=Pro…"
      ]
     },
     "metadata": {},
     "output_type": "display_data"
    },
    {
     "name": "stdout",
     "output_type": "stream",
     "text": [
      "Epoch 447: train=1.2426, val=1.121, took 38.349 s\n"
     ]
    },
    {
     "data": {
      "application/vnd.jupyter.widget-view+json": {
       "model_id": "",
       "version_major": 2,
       "version_minor": 0
      },
      "text/plain": [
       "HBox(children=(FloatProgress(value=0.0, description='Training', layout=Layout(flex='2'), max=1125.0, style=Pro…"
      ]
     },
     "metadata": {},
     "output_type": "display_data"
    },
    {
     "name": "stdout",
     "output_type": "stream",
     "text": [
      "Epoch 448: train=1.24315, val=1.11137, took 38.889 s\n"
     ]
    },
    {
     "data": {
      "application/vnd.jupyter.widget-view+json": {
       "model_id": "",
       "version_major": 2,
       "version_minor": 0
      },
      "text/plain": [
       "HBox(children=(FloatProgress(value=0.0, description='Training', layout=Layout(flex='2'), max=1125.0, style=Pro…"
      ]
     },
     "metadata": {},
     "output_type": "display_data"
    },
    {
     "name": "stdout",
     "output_type": "stream",
     "text": [
      "Epoch 449: train=1.2432, val=1.11188, took 38.578 s\n"
     ]
    },
    {
     "data": {
      "application/vnd.jupyter.widget-view+json": {
       "model_id": "",
       "version_major": 2,
       "version_minor": 0
      },
      "text/plain": [
       "HBox(children=(FloatProgress(value=0.0, description='Training', layout=Layout(flex='2'), max=1125.0, style=Pro…"
      ]
     },
     "metadata": {},
     "output_type": "display_data"
    },
    {
     "name": "stdout",
     "output_type": "stream",
     "text": [
      "Epoch 450: train=1.24826, val=1.11199, took 38.164 s\n"
     ]
    },
    {
     "data": {
      "application/vnd.jupyter.widget-view+json": {
       "model_id": "",
       "version_major": 2,
       "version_minor": 0
      },
      "text/plain": [
       "HBox(children=(FloatProgress(value=0.0, description='Training', layout=Layout(flex='2'), max=1125.0, style=Pro…"
      ]
     },
     "metadata": {},
     "output_type": "display_data"
    },
    {
     "name": "stdout",
     "output_type": "stream",
     "text": [
      "Epoch 451: train=1.24868, val=1.11176, took 38.559 s\n"
     ]
    },
    {
     "data": {
      "application/vnd.jupyter.widget-view+json": {
       "model_id": "",
       "version_major": 2,
       "version_minor": 0
      },
      "text/plain": [
       "HBox(children=(FloatProgress(value=0.0, description='Training', layout=Layout(flex='2'), max=1125.0, style=Pro…"
      ]
     },
     "metadata": {},
     "output_type": "display_data"
    },
    {
     "name": "stdout",
     "output_type": "stream",
     "text": [
      "Epoch 452: train=1.2432, val=1.12087, took 38.773 s\n"
     ]
    },
    {
     "data": {
      "application/vnd.jupyter.widget-view+json": {
       "model_id": "",
       "version_major": 2,
       "version_minor": 0
      },
      "text/plain": [
       "HBox(children=(FloatProgress(value=0.0, description='Training', layout=Layout(flex='2'), max=1125.0, style=Pro…"
      ]
     },
     "metadata": {},
     "output_type": "display_data"
    },
    {
     "name": "stdout",
     "output_type": "stream",
     "text": [
      "Epoch 453: train=1.24636, val=1.11303, took 38.796 s\n"
     ]
    },
    {
     "data": {
      "application/vnd.jupyter.widget-view+json": {
       "model_id": "",
       "version_major": 2,
       "version_minor": 0
      },
      "text/plain": [
       "HBox(children=(FloatProgress(value=0.0, description='Training', layout=Layout(flex='2'), max=1125.0, style=Pro…"
      ]
     },
     "metadata": {},
     "output_type": "display_data"
    },
    {
     "name": "stdout",
     "output_type": "stream",
     "text": [
      "Epoch 454: train=1.24623, val=1.12568, took 38.827 s\n"
     ]
    },
    {
     "data": {
      "application/vnd.jupyter.widget-view+json": {
       "model_id": "",
       "version_major": 2,
       "version_minor": 0
      },
      "text/plain": [
       "HBox(children=(FloatProgress(value=0.0, description='Training', layout=Layout(flex='2'), max=1125.0, style=Pro…"
      ]
     },
     "metadata": {},
     "output_type": "display_data"
    },
    {
     "name": "stdout",
     "output_type": "stream",
     "text": [
      "Epoch 455: train=1.24966, val=1.11744, took 38.709 s\n"
     ]
    },
    {
     "data": {
      "application/vnd.jupyter.widget-view+json": {
       "model_id": "",
       "version_major": 2,
       "version_minor": 0
      },
      "text/plain": [
       "HBox(children=(FloatProgress(value=0.0, description='Training', layout=Layout(flex='2'), max=1125.0, style=Pro…"
      ]
     },
     "metadata": {},
     "output_type": "display_data"
    },
    {
     "name": "stdout",
     "output_type": "stream",
     "text": [
      "Epoch 456: train=1.24456, val=1.11063, took 38.445 s\n"
     ]
    },
    {
     "data": {
      "application/vnd.jupyter.widget-view+json": {
       "model_id": "",
       "version_major": 2,
       "version_minor": 0
      },
      "text/plain": [
       "HBox(children=(FloatProgress(value=0.0, description='Training', layout=Layout(flex='2'), max=1125.0, style=Pro…"
      ]
     },
     "metadata": {},
     "output_type": "display_data"
    },
    {
     "name": "stdout",
     "output_type": "stream",
     "text": [
      "Epoch 457: train=1.24183, val=1.12501, took 38.192 s\n"
     ]
    },
    {
     "data": {
      "application/vnd.jupyter.widget-view+json": {
       "model_id": "",
       "version_major": 2,
       "version_minor": 0
      },
      "text/plain": [
       "HBox(children=(FloatProgress(value=0.0, description='Training', layout=Layout(flex='2'), max=1125.0, style=Pro…"
      ]
     },
     "metadata": {},
     "output_type": "display_data"
    },
    {
     "name": "stdout",
     "output_type": "stream",
     "text": [
      "Epoch 458: train=1.24424, val=1.11724, took 38.03 s\n"
     ]
    },
    {
     "data": {
      "application/vnd.jupyter.widget-view+json": {
       "model_id": "",
       "version_major": 2,
       "version_minor": 0
      },
      "text/plain": [
       "HBox(children=(FloatProgress(value=0.0, description='Training', layout=Layout(flex='2'), max=1125.0, style=Pro…"
      ]
     },
     "metadata": {},
     "output_type": "display_data"
    },
    {
     "name": "stdout",
     "output_type": "stream",
     "text": [
      "Epoch 459: train=1.24201, val=1.11152, took 38.366 s\n"
     ]
    },
    {
     "data": {
      "application/vnd.jupyter.widget-view+json": {
       "model_id": "",
       "version_major": 2,
       "version_minor": 0
      },
      "text/plain": [
       "HBox(children=(FloatProgress(value=0.0, description='Training', layout=Layout(flex='2'), max=1125.0, style=Pro…"
      ]
     },
     "metadata": {},
     "output_type": "display_data"
    },
    {
     "name": "stdout",
     "output_type": "stream",
     "text": [
      "Epoch 460: train=1.2434, val=1.10949, took 38.301 s\n"
     ]
    },
    {
     "data": {
      "application/vnd.jupyter.widget-view+json": {
       "model_id": "",
       "version_major": 2,
       "version_minor": 0
      },
      "text/plain": [
       "HBox(children=(FloatProgress(value=0.0, description='Training', layout=Layout(flex='2'), max=1125.0, style=Pro…"
      ]
     },
     "metadata": {},
     "output_type": "display_data"
    },
    {
     "name": "stdout",
     "output_type": "stream",
     "text": [
      "Epoch 461: train=1.24091, val=1.10945, took 38.542 s\n"
     ]
    },
    {
     "data": {
      "application/vnd.jupyter.widget-view+json": {
       "model_id": "",
       "version_major": 2,
       "version_minor": 0
      },
      "text/plain": [
       "HBox(children=(FloatProgress(value=0.0, description='Training', layout=Layout(flex='2'), max=1125.0, style=Pro…"
      ]
     },
     "metadata": {},
     "output_type": "display_data"
    },
    {
     "name": "stdout",
     "output_type": "stream",
     "text": [
      "Epoch 462: train=1.24275, val=1.11577, took 38.569 s\n"
     ]
    },
    {
     "data": {
      "application/vnd.jupyter.widget-view+json": {
       "model_id": "",
       "version_major": 2,
       "version_minor": 0
      },
      "text/plain": [
       "HBox(children=(FloatProgress(value=0.0, description='Training', layout=Layout(flex='2'), max=1125.0, style=Pro…"
      ]
     },
     "metadata": {},
     "output_type": "display_data"
    },
    {
     "name": "stdout",
     "output_type": "stream",
     "text": [
      "Epoch 463: train=1.24044, val=1.11822, took 39.574 s\n"
     ]
    },
    {
     "data": {
      "application/vnd.jupyter.widget-view+json": {
       "model_id": "",
       "version_major": 2,
       "version_minor": 0
      },
      "text/plain": [
       "HBox(children=(FloatProgress(value=0.0, description='Training', layout=Layout(flex='2'), max=1125.0, style=Pro…"
      ]
     },
     "metadata": {},
     "output_type": "display_data"
    },
    {
     "name": "stdout",
     "output_type": "stream",
     "text": [
      "Epoch 464: train=1.24082, val=1.11036, took 38.878 s\n"
     ]
    },
    {
     "data": {
      "application/vnd.jupyter.widget-view+json": {
       "model_id": "",
       "version_major": 2,
       "version_minor": 0
      },
      "text/plain": [
       "HBox(children=(FloatProgress(value=0.0, description='Training', layout=Layout(flex='2'), max=1125.0, style=Pro…"
      ]
     },
     "metadata": {},
     "output_type": "display_data"
    },
    {
     "name": "stdout",
     "output_type": "stream",
     "text": [
      "Epoch 465: train=1.2443, val=1.10899, took 38.607 s\n"
     ]
    },
    {
     "data": {
      "application/vnd.jupyter.widget-view+json": {
       "model_id": "",
       "version_major": 2,
       "version_minor": 0
      },
      "text/plain": [
       "HBox(children=(FloatProgress(value=0.0, description='Training', layout=Layout(flex='2'), max=1125.0, style=Pro…"
      ]
     },
     "metadata": {},
     "output_type": "display_data"
    },
    {
     "name": "stdout",
     "output_type": "stream",
     "text": [
      "Epoch 466: train=1.24648, val=1.11121, took 38.578 s\n"
     ]
    },
    {
     "data": {
      "application/vnd.jupyter.widget-view+json": {
       "model_id": "",
       "version_major": 2,
       "version_minor": 0
      },
      "text/plain": [
       "HBox(children=(FloatProgress(value=0.0, description='Training', layout=Layout(flex='2'), max=1125.0, style=Pro…"
      ]
     },
     "metadata": {},
     "output_type": "display_data"
    },
    {
     "name": "stdout",
     "output_type": "stream",
     "text": [
      "Epoch 467: train=1.24229, val=1.11326, took 38.502 s\n"
     ]
    },
    {
     "data": {
      "application/vnd.jupyter.widget-view+json": {
       "model_id": "",
       "version_major": 2,
       "version_minor": 0
      },
      "text/plain": [
       "HBox(children=(FloatProgress(value=0.0, description='Training', layout=Layout(flex='2'), max=1125.0, style=Pro…"
      ]
     },
     "metadata": {},
     "output_type": "display_data"
    },
    {
     "name": "stdout",
     "output_type": "stream",
     "text": [
      "Epoch 468: train=1.24497, val=1.11514, took 38.913 s\n"
     ]
    },
    {
     "data": {
      "application/vnd.jupyter.widget-view+json": {
       "model_id": "",
       "version_major": 2,
       "version_minor": 0
      },
      "text/plain": [
       "HBox(children=(FloatProgress(value=0.0, description='Training', layout=Layout(flex='2'), max=1125.0, style=Pro…"
      ]
     },
     "metadata": {},
     "output_type": "display_data"
    },
    {
     "name": "stdout",
     "output_type": "stream",
     "text": [
      "Epoch 469: train=1.24227, val=1.10895, took 38.593 s\n"
     ]
    },
    {
     "data": {
      "application/vnd.jupyter.widget-view+json": {
       "model_id": "",
       "version_major": 2,
       "version_minor": 0
      },
      "text/plain": [
       "HBox(children=(FloatProgress(value=0.0, description='Training', layout=Layout(flex='2'), max=1125.0, style=Pro…"
      ]
     },
     "metadata": {},
     "output_type": "display_data"
    },
    {
     "name": "stdout",
     "output_type": "stream",
     "text": [
      "Epoch 470: train=1.24247, val=1.10975, took 38.49 s\n"
     ]
    },
    {
     "data": {
      "application/vnd.jupyter.widget-view+json": {
       "model_id": "",
       "version_major": 2,
       "version_minor": 0
      },
      "text/plain": [
       "HBox(children=(FloatProgress(value=0.0, description='Training', layout=Layout(flex='2'), max=1125.0, style=Pro…"
      ]
     },
     "metadata": {},
     "output_type": "display_data"
    },
    {
     "name": "stdout",
     "output_type": "stream",
     "text": [
      "Epoch 471: train=1.24534, val=1.11105, took 38.12 s\n"
     ]
    },
    {
     "data": {
      "application/vnd.jupyter.widget-view+json": {
       "model_id": "",
       "version_major": 2,
       "version_minor": 0
      },
      "text/plain": [
       "HBox(children=(FloatProgress(value=0.0, description='Training', layout=Layout(flex='2'), max=1125.0, style=Pro…"
      ]
     },
     "metadata": {},
     "output_type": "display_data"
    },
    {
     "name": "stdout",
     "output_type": "stream",
     "text": [
      "Epoch 472: train=1.23718, val=1.11025, took 38.497 s\n"
     ]
    },
    {
     "data": {
      "application/vnd.jupyter.widget-view+json": {
       "model_id": "",
       "version_major": 2,
       "version_minor": 0
      },
      "text/plain": [
       "HBox(children=(FloatProgress(value=0.0, description='Training', layout=Layout(flex='2'), max=1125.0, style=Pro…"
      ]
     },
     "metadata": {},
     "output_type": "display_data"
    },
    {
     "name": "stdout",
     "output_type": "stream",
     "text": [
      "Epoch 473: train=1.24467, val=1.11288, took 38.372 s\n"
     ]
    },
    {
     "data": {
      "application/vnd.jupyter.widget-view+json": {
       "model_id": "",
       "version_major": 2,
       "version_minor": 0
      },
      "text/plain": [
       "HBox(children=(FloatProgress(value=0.0, description='Training', layout=Layout(flex='2'), max=1125.0, style=Pro…"
      ]
     },
     "metadata": {},
     "output_type": "display_data"
    },
    {
     "name": "stdout",
     "output_type": "stream",
     "text": [
      "Epoch 474: train=1.24545, val=1.10864, took 38.253 s\n"
     ]
    },
    {
     "data": {
      "application/vnd.jupyter.widget-view+json": {
       "model_id": "",
       "version_major": 2,
       "version_minor": 0
      },
      "text/plain": [
       "HBox(children=(FloatProgress(value=0.0, description='Training', layout=Layout(flex='2'), max=1125.0, style=Pro…"
      ]
     },
     "metadata": {},
     "output_type": "display_data"
    },
    {
     "name": "stdout",
     "output_type": "stream",
     "text": [
      "Epoch 475: train=1.24326, val=1.11583, took 38.727 s\n"
     ]
    },
    {
     "data": {
      "application/vnd.jupyter.widget-view+json": {
       "model_id": "",
       "version_major": 2,
       "version_minor": 0
      },
      "text/plain": [
       "HBox(children=(FloatProgress(value=0.0, description='Training', layout=Layout(flex='2'), max=1125.0, style=Pro…"
      ]
     },
     "metadata": {},
     "output_type": "display_data"
    },
    {
     "name": "stdout",
     "output_type": "stream",
     "text": [
      "Epoch 476: train=1.24194, val=1.11022, took 38.81 s\n"
     ]
    },
    {
     "data": {
      "application/vnd.jupyter.widget-view+json": {
       "model_id": "",
       "version_major": 2,
       "version_minor": 0
      },
      "text/plain": [
       "HBox(children=(FloatProgress(value=0.0, description='Training', layout=Layout(flex='2'), max=1125.0, style=Pro…"
      ]
     },
     "metadata": {},
     "output_type": "display_data"
    },
    {
     "name": "stdout",
     "output_type": "stream",
     "text": [
      "Epoch 477: train=1.24253, val=1.10825, took 38.658 s\n"
     ]
    },
    {
     "data": {
      "application/vnd.jupyter.widget-view+json": {
       "model_id": "",
       "version_major": 2,
       "version_minor": 0
      },
      "text/plain": [
       "HBox(children=(FloatProgress(value=0.0, description='Training', layout=Layout(flex='2'), max=1125.0, style=Pro…"
      ]
     },
     "metadata": {},
     "output_type": "display_data"
    },
    {
     "name": "stdout",
     "output_type": "stream",
     "text": [
      "Epoch 478: train=1.24141, val=1.11833, took 38.337 s\n"
     ]
    },
    {
     "data": {
      "application/vnd.jupyter.widget-view+json": {
       "model_id": "",
       "version_major": 2,
       "version_minor": 0
      },
      "text/plain": [
       "HBox(children=(FloatProgress(value=0.0, description='Training', layout=Layout(flex='2'), max=1125.0, style=Pro…"
      ]
     },
     "metadata": {},
     "output_type": "display_data"
    },
    {
     "name": "stdout",
     "output_type": "stream",
     "text": [
      "Epoch 479: train=1.24064, val=1.11032, took 38.197 s\n"
     ]
    },
    {
     "data": {
      "application/vnd.jupyter.widget-view+json": {
       "model_id": "",
       "version_major": 2,
       "version_minor": 0
      },
      "text/plain": [
       "HBox(children=(FloatProgress(value=0.0, description='Training', layout=Layout(flex='2'), max=1125.0, style=Pro…"
      ]
     },
     "metadata": {},
     "output_type": "display_data"
    },
    {
     "name": "stdout",
     "output_type": "stream",
     "text": [
      "Epoch 480: train=1.24027, val=1.1104, took 38.276 s\n"
     ]
    },
    {
     "data": {
      "application/vnd.jupyter.widget-view+json": {
       "model_id": "",
       "version_major": 2,
       "version_minor": 0
      },
      "text/plain": [
       "HBox(children=(FloatProgress(value=0.0, description='Training', layout=Layout(flex='2'), max=1125.0, style=Pro…"
      ]
     },
     "metadata": {},
     "output_type": "display_data"
    },
    {
     "name": "stdout",
     "output_type": "stream",
     "text": [
      "Epoch 481: train=1.24284, val=1.1093, took 38.438 s\n"
     ]
    },
    {
     "data": {
      "application/vnd.jupyter.widget-view+json": {
       "model_id": "",
       "version_major": 2,
       "version_minor": 0
      },
      "text/plain": [
       "HBox(children=(FloatProgress(value=0.0, description='Training', layout=Layout(flex='2'), max=1125.0, style=Pro…"
      ]
     },
     "metadata": {},
     "output_type": "display_data"
    },
    {
     "name": "stdout",
     "output_type": "stream",
     "text": [
      "Epoch 482: train=1.24465, val=1.12986, took 38.44 s\n"
     ]
    },
    {
     "data": {
      "application/vnd.jupyter.widget-view+json": {
       "model_id": "",
       "version_major": 2,
       "version_minor": 0
      },
      "text/plain": [
       "HBox(children=(FloatProgress(value=0.0, description='Training', layout=Layout(flex='2'), max=1125.0, style=Pro…"
      ]
     },
     "metadata": {},
     "output_type": "display_data"
    },
    {
     "name": "stdout",
     "output_type": "stream",
     "text": [
      "Epoch 483: train=1.24237, val=1.11991, took 39.43 s\n"
     ]
    },
    {
     "data": {
      "application/vnd.jupyter.widget-view+json": {
       "model_id": "",
       "version_major": 2,
       "version_minor": 0
      },
      "text/plain": [
       "HBox(children=(FloatProgress(value=0.0, description='Training', layout=Layout(flex='2'), max=1125.0, style=Pro…"
      ]
     },
     "metadata": {},
     "output_type": "display_data"
    },
    {
     "name": "stdout",
     "output_type": "stream",
     "text": [
      "Epoch 484: train=1.24053, val=1.12422, took 38.793 s\n"
     ]
    },
    {
     "data": {
      "application/vnd.jupyter.widget-view+json": {
       "model_id": "",
       "version_major": 2,
       "version_minor": 0
      },
      "text/plain": [
       "HBox(children=(FloatProgress(value=0.0, description='Training', layout=Layout(flex='2'), max=1125.0, style=Pro…"
      ]
     },
     "metadata": {},
     "output_type": "display_data"
    },
    {
     "name": "stdout",
     "output_type": "stream",
     "text": [
      "Epoch 485: train=1.23434, val=1.12139, took 38.576 s\n"
     ]
    },
    {
     "data": {
      "application/vnd.jupyter.widget-view+json": {
       "model_id": "",
       "version_major": 2,
       "version_minor": 0
      },
      "text/plain": [
       "HBox(children=(FloatProgress(value=0.0, description='Training', layout=Layout(flex='2'), max=1125.0, style=Pro…"
      ]
     },
     "metadata": {},
     "output_type": "display_data"
    },
    {
     "name": "stdout",
     "output_type": "stream",
     "text": [
      "Epoch 486: train=1.24391, val=1.12187, took 39.18 s\n"
     ]
    },
    {
     "data": {
      "application/vnd.jupyter.widget-view+json": {
       "model_id": "",
       "version_major": 2,
       "version_minor": 0
      },
      "text/plain": [
       "HBox(children=(FloatProgress(value=0.0, description='Training', layout=Layout(flex='2'), max=1125.0, style=Pro…"
      ]
     },
     "metadata": {},
     "output_type": "display_data"
    },
    {
     "name": "stdout",
     "output_type": "stream",
     "text": [
      "Epoch 487: train=1.23954, val=1.11162, took 38.943 s\n"
     ]
    },
    {
     "data": {
      "application/vnd.jupyter.widget-view+json": {
       "model_id": "",
       "version_major": 2,
       "version_minor": 0
      },
      "text/plain": [
       "HBox(children=(FloatProgress(value=0.0, description='Training', layout=Layout(flex='2'), max=1125.0, style=Pro…"
      ]
     },
     "metadata": {},
     "output_type": "display_data"
    },
    {
     "name": "stdout",
     "output_type": "stream",
     "text": [
      "Epoch 488: train=1.23984, val=1.10914, took 38.472 s\n"
     ]
    },
    {
     "data": {
      "application/vnd.jupyter.widget-view+json": {
       "model_id": "",
       "version_major": 2,
       "version_minor": 0
      },
      "text/plain": [
       "HBox(children=(FloatProgress(value=0.0, description='Training', layout=Layout(flex='2'), max=1125.0, style=Pro…"
      ]
     },
     "metadata": {},
     "output_type": "display_data"
    },
    {
     "name": "stdout",
     "output_type": "stream",
     "text": [
      "Epoch 489: train=1.24103, val=1.16026, took 38.77 s\n"
     ]
    },
    {
     "data": {
      "application/vnd.jupyter.widget-view+json": {
       "model_id": "",
       "version_major": 2,
       "version_minor": 0
      },
      "text/plain": [
       "HBox(children=(FloatProgress(value=0.0, description='Training', layout=Layout(flex='2'), max=1125.0, style=Pro…"
      ]
     },
     "metadata": {},
     "output_type": "display_data"
    },
    {
     "name": "stdout",
     "output_type": "stream",
     "text": [
      "Epoch 490: train=1.24028, val=1.10787, took 37.507 s\n"
     ]
    },
    {
     "data": {
      "application/vnd.jupyter.widget-view+json": {
       "model_id": "",
       "version_major": 2,
       "version_minor": 0
      },
      "text/plain": [
       "HBox(children=(FloatProgress(value=0.0, description='Training', layout=Layout(flex='2'), max=1125.0, style=Pro…"
      ]
     },
     "metadata": {},
     "output_type": "display_data"
    },
    {
     "name": "stdout",
     "output_type": "stream",
     "text": [
      "Epoch 491: train=1.23978, val=1.11024, took 36.891 s\n"
     ]
    },
    {
     "data": {
      "application/vnd.jupyter.widget-view+json": {
       "model_id": "",
       "version_major": 2,
       "version_minor": 0
      },
      "text/plain": [
       "HBox(children=(FloatProgress(value=0.0, description='Training', layout=Layout(flex='2'), max=1125.0, style=Pro…"
      ]
     },
     "metadata": {},
     "output_type": "display_data"
    },
    {
     "name": "stdout",
     "output_type": "stream",
     "text": [
      "Epoch 492: train=1.24327, val=1.10752, took 37.469 s\n"
     ]
    },
    {
     "data": {
      "application/vnd.jupyter.widget-view+json": {
       "model_id": "",
       "version_major": 2,
       "version_minor": 0
      },
      "text/plain": [
       "HBox(children=(FloatProgress(value=0.0, description='Training', layout=Layout(flex='2'), max=1125.0, style=Pro…"
      ]
     },
     "metadata": {},
     "output_type": "display_data"
    },
    {
     "name": "stdout",
     "output_type": "stream",
     "text": [
      "Epoch 493: train=1.23854, val=1.10633, took 36.808 s\n"
     ]
    },
    {
     "data": {
      "application/vnd.jupyter.widget-view+json": {
       "model_id": "",
       "version_major": 2,
       "version_minor": 0
      },
      "text/plain": [
       "HBox(children=(FloatProgress(value=0.0, description='Training', layout=Layout(flex='2'), max=1125.0, style=Pro…"
      ]
     },
     "metadata": {},
     "output_type": "display_data"
    },
    {
     "name": "stdout",
     "output_type": "stream",
     "text": [
      "Epoch 494: train=1.23925, val=1.1082, took 36.894 s\n"
     ]
    },
    {
     "data": {
      "application/vnd.jupyter.widget-view+json": {
       "model_id": "",
       "version_major": 2,
       "version_minor": 0
      },
      "text/plain": [
       "HBox(children=(FloatProgress(value=0.0, description='Training', layout=Layout(flex='2'), max=1125.0, style=Pro…"
      ]
     },
     "metadata": {},
     "output_type": "display_data"
    },
    {
     "name": "stdout",
     "output_type": "stream",
     "text": [
      "Epoch 495: train=1.23928, val=1.11389, took 36.794 s\n"
     ]
    },
    {
     "data": {
      "application/vnd.jupyter.widget-view+json": {
       "model_id": "",
       "version_major": 2,
       "version_minor": 0
      },
      "text/plain": [
       "HBox(children=(FloatProgress(value=0.0, description='Training', layout=Layout(flex='2'), max=1125.0, style=Pro…"
      ]
     },
     "metadata": {},
     "output_type": "display_data"
    },
    {
     "name": "stdout",
     "output_type": "stream",
     "text": [
      "Epoch 496: train=1.23476, val=1.10889, took 36.676 s\n"
     ]
    },
    {
     "data": {
      "application/vnd.jupyter.widget-view+json": {
       "model_id": "",
       "version_major": 2,
       "version_minor": 0
      },
      "text/plain": [
       "HBox(children=(FloatProgress(value=0.0, description='Training', layout=Layout(flex='2'), max=1125.0, style=Pro…"
      ]
     },
     "metadata": {},
     "output_type": "display_data"
    },
    {
     "name": "stdout",
     "output_type": "stream",
     "text": [
      "Epoch 497: train=1.23677, val=1.11052, took 36.985 s\n"
     ]
    },
    {
     "data": {
      "application/vnd.jupyter.widget-view+json": {
       "model_id": "",
       "version_major": 2,
       "version_minor": 0
      },
      "text/plain": [
       "HBox(children=(FloatProgress(value=0.0, description='Training', layout=Layout(flex='2'), max=1125.0, style=Pro…"
      ]
     },
     "metadata": {},
     "output_type": "display_data"
    },
    {
     "name": "stdout",
     "output_type": "stream",
     "text": [
      "Epoch 498: train=1.23867, val=1.10735, took 36.831 s\n"
     ]
    },
    {
     "data": {
      "application/vnd.jupyter.widget-view+json": {
       "model_id": "",
       "version_major": 2,
       "version_minor": 0
      },
      "text/plain": [
       "HBox(children=(FloatProgress(value=0.0, description='Training', layout=Layout(flex='2'), max=1125.0, style=Pro…"
      ]
     },
     "metadata": {},
     "output_type": "display_data"
    },
    {
     "name": "stdout",
     "output_type": "stream",
     "text": [
      "Epoch 499: train=1.24273, val=1.10802, took 36.674 s\n",
      "\n"
     ]
    }
   ],
   "source": [
    "for result in trainNet(model, optimizer, loss,\n",
    "                        train_loader, val_loader,\n",
    "                        n_epochs, epoch_start=len(results),\n",
    "                        notebook=True):\n",
    "    \n",
    "    results = results.append(pd.Series(result._asdict()), ignore_index=True)\n",
    "    xs = results.index\n",
    "    \n",
    "    # Update the plot above\n",
    "    lines['train'].set_data(results.index,results.cost)\n",
    "    lines['val'].set_data(results.index,results.val)\n",
    "    \n",
    "    #filter first cost epoch (can be really large)\n",
    "    max_cost = max(max(results.cost if len(results.cost)<2 else results.cost[1:]), max(results.val))\n",
    "    min_cost = min(min(results.cost), min(results.val))\n",
    "    \n",
    "    # The plot limits need updating too\n",
    "    \n",
    "    \n",
    "    \n",
    "    ax.set_ylim(min_cost*.9, max_cost*1.1)  \n",
    "    ax.set_xlim(-.5, len(results.cost) - .5)\n",
    "\n",
    "    \n",
    "    # Redraw the figure\n",
    "    fig.canvas.draw()\n",
    "\n",
    "    # Save each model state dictionary\n",
    "    torch.save(model.state_dict(), output / f'{name}_{result.epoch}.pyt')"
   ]
  },
  {
   "cell_type": "markdown",
   "metadata": {},
   "source": [
    "Go ahead and save the final model (even though it was also saved above):"
   ]
  },
  {
   "cell_type": "code",
   "execution_count": 18,
   "metadata": {},
   "outputs": [],
   "source": [
    "torch.save(model.state_dict(), output / f'{name}_final.pyt')"
   ]
  },
  {
   "cell_type": "markdown",
   "metadata": {},
   "source": [
    "Save the output results:"
   ]
  },
  {
   "cell_type": "code",
   "execution_count": 19,
   "metadata": {},
   "outputs": [],
   "source": [
    "results.to_hdf(f'{name}_stats.hdf5', 'results')"
   ]
  },
  {
   "cell_type": "markdown",
   "metadata": {},
   "source": [
    "Save the plot above:"
   ]
  },
  {
   "cell_type": "code",
   "execution_count": 20,
   "metadata": {},
   "outputs": [
    {
     "data": {
      "application/javascript": [
       "/* Put everything inside the global mpl namespace */\n",
       "window.mpl = {};\n",
       "\n",
       "\n",
       "mpl.get_websocket_type = function() {\n",
       "    if (typeof(WebSocket) !== 'undefined') {\n",
       "        return WebSocket;\n",
       "    } else if (typeof(MozWebSocket) !== 'undefined') {\n",
       "        return MozWebSocket;\n",
       "    } else {\n",
       "        alert('Your browser does not have WebSocket support. ' +\n",
       "              'Please try Chrome, Safari or Firefox ≥ 6. ' +\n",
       "              'Firefox 4 and 5 are also supported but you ' +\n",
       "              'have to enable WebSockets in about:config.');\n",
       "    };\n",
       "}\n",
       "\n",
       "mpl.figure = function(figure_id, websocket, ondownload, parent_element) {\n",
       "    this.id = figure_id;\n",
       "\n",
       "    this.ws = websocket;\n",
       "\n",
       "    this.supports_binary = (this.ws.binaryType != undefined);\n",
       "\n",
       "    if (!this.supports_binary) {\n",
       "        var warnings = document.getElementById(\"mpl-warnings\");\n",
       "        if (warnings) {\n",
       "            warnings.style.display = 'block';\n",
       "            warnings.textContent = (\n",
       "                \"This browser does not support binary websocket messages. \" +\n",
       "                    \"Performance may be slow.\");\n",
       "        }\n",
       "    }\n",
       "\n",
       "    this.imageObj = new Image();\n",
       "\n",
       "    this.context = undefined;\n",
       "    this.message = undefined;\n",
       "    this.canvas = undefined;\n",
       "    this.rubberband_canvas = undefined;\n",
       "    this.rubberband_context = undefined;\n",
       "    this.format_dropdown = undefined;\n",
       "\n",
       "    this.image_mode = 'full';\n",
       "\n",
       "    this.root = $('<div/>');\n",
       "    this._root_extra_style(this.root)\n",
       "    this.root.attr('style', 'display: inline-block');\n",
       "\n",
       "    $(parent_element).append(this.root);\n",
       "\n",
       "    this._init_header(this);\n",
       "    this._init_canvas(this);\n",
       "    this._init_toolbar(this);\n",
       "\n",
       "    var fig = this;\n",
       "\n",
       "    this.waiting = false;\n",
       "\n",
       "    this.ws.onopen =  function () {\n",
       "            fig.send_message(\"supports_binary\", {value: fig.supports_binary});\n",
       "            fig.send_message(\"send_image_mode\", {});\n",
       "            if (mpl.ratio != 1) {\n",
       "                fig.send_message(\"set_dpi_ratio\", {'dpi_ratio': mpl.ratio});\n",
       "            }\n",
       "            fig.send_message(\"refresh\", {});\n",
       "        }\n",
       "\n",
       "    this.imageObj.onload = function() {\n",
       "            if (fig.image_mode == 'full') {\n",
       "                // Full images could contain transparency (where diff images\n",
       "                // almost always do), so we need to clear the canvas so that\n",
       "                // there is no ghosting.\n",
       "                fig.context.clearRect(0, 0, fig.canvas.width, fig.canvas.height);\n",
       "            }\n",
       "            fig.context.drawImage(fig.imageObj, 0, 0);\n",
       "        };\n",
       "\n",
       "    this.imageObj.onunload = function() {\n",
       "        fig.ws.close();\n",
       "    }\n",
       "\n",
       "    this.ws.onmessage = this._make_on_message_function(this);\n",
       "\n",
       "    this.ondownload = ondownload;\n",
       "}\n",
       "\n",
       "mpl.figure.prototype._init_header = function() {\n",
       "    var titlebar = $(\n",
       "        '<div class=\"ui-dialog-titlebar ui-widget-header ui-corner-all ' +\n",
       "        'ui-helper-clearfix\"/>');\n",
       "    var titletext = $(\n",
       "        '<div class=\"ui-dialog-title\" style=\"width: 100%; ' +\n",
       "        'text-align: center; padding: 3px;\"/>');\n",
       "    titlebar.append(titletext)\n",
       "    this.root.append(titlebar);\n",
       "    this.header = titletext[0];\n",
       "}\n",
       "\n",
       "\n",
       "\n",
       "mpl.figure.prototype._canvas_extra_style = function(canvas_div) {\n",
       "\n",
       "}\n",
       "\n",
       "\n",
       "mpl.figure.prototype._root_extra_style = function(canvas_div) {\n",
       "\n",
       "}\n",
       "\n",
       "mpl.figure.prototype._init_canvas = function() {\n",
       "    var fig = this;\n",
       "\n",
       "    var canvas_div = $('<div/>');\n",
       "\n",
       "    canvas_div.attr('style', 'position: relative; clear: both; outline: 0');\n",
       "\n",
       "    function canvas_keyboard_event(event) {\n",
       "        return fig.key_event(event, event['data']);\n",
       "    }\n",
       "\n",
       "    canvas_div.keydown('key_press', canvas_keyboard_event);\n",
       "    canvas_div.keyup('key_release', canvas_keyboard_event);\n",
       "    this.canvas_div = canvas_div\n",
       "    this._canvas_extra_style(canvas_div)\n",
       "    this.root.append(canvas_div);\n",
       "\n",
       "    var canvas = $('<canvas/>');\n",
       "    canvas.addClass('mpl-canvas');\n",
       "    canvas.attr('style', \"left: 0; top: 0; z-index: 0; outline: 0\")\n",
       "\n",
       "    this.canvas = canvas[0];\n",
       "    this.context = canvas[0].getContext(\"2d\");\n",
       "\n",
       "    var backingStore = this.context.backingStorePixelRatio ||\n",
       "\tthis.context.webkitBackingStorePixelRatio ||\n",
       "\tthis.context.mozBackingStorePixelRatio ||\n",
       "\tthis.context.msBackingStorePixelRatio ||\n",
       "\tthis.context.oBackingStorePixelRatio ||\n",
       "\tthis.context.backingStorePixelRatio || 1;\n",
       "\n",
       "    mpl.ratio = (window.devicePixelRatio || 1) / backingStore;\n",
       "\n",
       "    var rubberband = $('<canvas/>');\n",
       "    rubberband.attr('style', \"position: absolute; left: 0; top: 0; z-index: 1;\")\n",
       "\n",
       "    var pass_mouse_events = true;\n",
       "\n",
       "    canvas_div.resizable({\n",
       "        start: function(event, ui) {\n",
       "            pass_mouse_events = false;\n",
       "        },\n",
       "        resize: function(event, ui) {\n",
       "            fig.request_resize(ui.size.width, ui.size.height);\n",
       "        },\n",
       "        stop: function(event, ui) {\n",
       "            pass_mouse_events = true;\n",
       "            fig.request_resize(ui.size.width, ui.size.height);\n",
       "        },\n",
       "    });\n",
       "\n",
       "    function mouse_event_fn(event) {\n",
       "        if (pass_mouse_events)\n",
       "            return fig.mouse_event(event, event['data']);\n",
       "    }\n",
       "\n",
       "    rubberband.mousedown('button_press', mouse_event_fn);\n",
       "    rubberband.mouseup('button_release', mouse_event_fn);\n",
       "    // Throttle sequential mouse events to 1 every 20ms.\n",
       "    rubberband.mousemove('motion_notify', mouse_event_fn);\n",
       "\n",
       "    rubberband.mouseenter('figure_enter', mouse_event_fn);\n",
       "    rubberband.mouseleave('figure_leave', mouse_event_fn);\n",
       "\n",
       "    canvas_div.on(\"wheel\", function (event) {\n",
       "        event = event.originalEvent;\n",
       "        event['data'] = 'scroll'\n",
       "        if (event.deltaY < 0) {\n",
       "            event.step = 1;\n",
       "        } else {\n",
       "            event.step = -1;\n",
       "        }\n",
       "        mouse_event_fn(event);\n",
       "    });\n",
       "\n",
       "    canvas_div.append(canvas);\n",
       "    canvas_div.append(rubberband);\n",
       "\n",
       "    this.rubberband = rubberband;\n",
       "    this.rubberband_canvas = rubberband[0];\n",
       "    this.rubberband_context = rubberband[0].getContext(\"2d\");\n",
       "    this.rubberband_context.strokeStyle = \"#000000\";\n",
       "\n",
       "    this._resize_canvas = function(width, height) {\n",
       "        // Keep the size of the canvas, canvas container, and rubber band\n",
       "        // canvas in synch.\n",
       "        canvas_div.css('width', width)\n",
       "        canvas_div.css('height', height)\n",
       "\n",
       "        canvas.attr('width', width * mpl.ratio);\n",
       "        canvas.attr('height', height * mpl.ratio);\n",
       "        canvas.attr('style', 'width: ' + width + 'px; height: ' + height + 'px;');\n",
       "\n",
       "        rubberband.attr('width', width);\n",
       "        rubberband.attr('height', height);\n",
       "    }\n",
       "\n",
       "    // Set the figure to an initial 600x600px, this will subsequently be updated\n",
       "    // upon first draw.\n",
       "    this._resize_canvas(600, 600);\n",
       "\n",
       "    // Disable right mouse context menu.\n",
       "    $(this.rubberband_canvas).bind(\"contextmenu\",function(e){\n",
       "        return false;\n",
       "    });\n",
       "\n",
       "    function set_focus () {\n",
       "        canvas.focus();\n",
       "        canvas_div.focus();\n",
       "    }\n",
       "\n",
       "    window.setTimeout(set_focus, 100);\n",
       "}\n",
       "\n",
       "mpl.figure.prototype._init_toolbar = function() {\n",
       "    var fig = this;\n",
       "\n",
       "    var nav_element = $('<div/>');\n",
       "    nav_element.attr('style', 'width: 100%');\n",
       "    this.root.append(nav_element);\n",
       "\n",
       "    // Define a callback function for later on.\n",
       "    function toolbar_event(event) {\n",
       "        return fig.toolbar_button_onclick(event['data']);\n",
       "    }\n",
       "    function toolbar_mouse_event(event) {\n",
       "        return fig.toolbar_button_onmouseover(event['data']);\n",
       "    }\n",
       "\n",
       "    for(var toolbar_ind in mpl.toolbar_items) {\n",
       "        var name = mpl.toolbar_items[toolbar_ind][0];\n",
       "        var tooltip = mpl.toolbar_items[toolbar_ind][1];\n",
       "        var image = mpl.toolbar_items[toolbar_ind][2];\n",
       "        var method_name = mpl.toolbar_items[toolbar_ind][3];\n",
       "\n",
       "        if (!name) {\n",
       "            // put a spacer in here.\n",
       "            continue;\n",
       "        }\n",
       "        var button = $('<button/>');\n",
       "        button.addClass('ui-button ui-widget ui-state-default ui-corner-all ' +\n",
       "                        'ui-button-icon-only');\n",
       "        button.attr('role', 'button');\n",
       "        button.attr('aria-disabled', 'false');\n",
       "        button.click(method_name, toolbar_event);\n",
       "        button.mouseover(tooltip, toolbar_mouse_event);\n",
       "\n",
       "        var icon_img = $('<span/>');\n",
       "        icon_img.addClass('ui-button-icon-primary ui-icon');\n",
       "        icon_img.addClass(image);\n",
       "        icon_img.addClass('ui-corner-all');\n",
       "\n",
       "        var tooltip_span = $('<span/>');\n",
       "        tooltip_span.addClass('ui-button-text');\n",
       "        tooltip_span.html(tooltip);\n",
       "\n",
       "        button.append(icon_img);\n",
       "        button.append(tooltip_span);\n",
       "\n",
       "        nav_element.append(button);\n",
       "    }\n",
       "\n",
       "    var fmt_picker_span = $('<span/>');\n",
       "\n",
       "    var fmt_picker = $('<select/>');\n",
       "    fmt_picker.addClass('mpl-toolbar-option ui-widget ui-widget-content');\n",
       "    fmt_picker_span.append(fmt_picker);\n",
       "    nav_element.append(fmt_picker_span);\n",
       "    this.format_dropdown = fmt_picker[0];\n",
       "\n",
       "    for (var ind in mpl.extensions) {\n",
       "        var fmt = mpl.extensions[ind];\n",
       "        var option = $(\n",
       "            '<option/>', {selected: fmt === mpl.default_extension}).html(fmt);\n",
       "        fmt_picker.append(option);\n",
       "    }\n",
       "\n",
       "    // Add hover states to the ui-buttons\n",
       "    $( \".ui-button\" ).hover(\n",
       "        function() { $(this).addClass(\"ui-state-hover\");},\n",
       "        function() { $(this).removeClass(\"ui-state-hover\");}\n",
       "    );\n",
       "\n",
       "    var status_bar = $('<span class=\"mpl-message\"/>');\n",
       "    nav_element.append(status_bar);\n",
       "    this.message = status_bar[0];\n",
       "}\n",
       "\n",
       "mpl.figure.prototype.request_resize = function(x_pixels, y_pixels) {\n",
       "    // Request matplotlib to resize the figure. Matplotlib will then trigger a resize in the client,\n",
       "    // which will in turn request a refresh of the image.\n",
       "    this.send_message('resize', {'width': x_pixels, 'height': y_pixels});\n",
       "}\n",
       "\n",
       "mpl.figure.prototype.send_message = function(type, properties) {\n",
       "    properties['type'] = type;\n",
       "    properties['figure_id'] = this.id;\n",
       "    this.ws.send(JSON.stringify(properties));\n",
       "}\n",
       "\n",
       "mpl.figure.prototype.send_draw_message = function() {\n",
       "    if (!this.waiting) {\n",
       "        this.waiting = true;\n",
       "        this.ws.send(JSON.stringify({type: \"draw\", figure_id: this.id}));\n",
       "    }\n",
       "}\n",
       "\n",
       "\n",
       "mpl.figure.prototype.handle_save = function(fig, msg) {\n",
       "    var format_dropdown = fig.format_dropdown;\n",
       "    var format = format_dropdown.options[format_dropdown.selectedIndex].value;\n",
       "    fig.ondownload(fig, format);\n",
       "}\n",
       "\n",
       "\n",
       "mpl.figure.prototype.handle_resize = function(fig, msg) {\n",
       "    var size = msg['size'];\n",
       "    if (size[0] != fig.canvas.width || size[1] != fig.canvas.height) {\n",
       "        fig._resize_canvas(size[0], size[1]);\n",
       "        fig.send_message(\"refresh\", {});\n",
       "    };\n",
       "}\n",
       "\n",
       "mpl.figure.prototype.handle_rubberband = function(fig, msg) {\n",
       "    var x0 = msg['x0'] / mpl.ratio;\n",
       "    var y0 = (fig.canvas.height - msg['y0']) / mpl.ratio;\n",
       "    var x1 = msg['x1'] / mpl.ratio;\n",
       "    var y1 = (fig.canvas.height - msg['y1']) / mpl.ratio;\n",
       "    x0 = Math.floor(x0) + 0.5;\n",
       "    y0 = Math.floor(y0) + 0.5;\n",
       "    x1 = Math.floor(x1) + 0.5;\n",
       "    y1 = Math.floor(y1) + 0.5;\n",
       "    var min_x = Math.min(x0, x1);\n",
       "    var min_y = Math.min(y0, y1);\n",
       "    var width = Math.abs(x1 - x0);\n",
       "    var height = Math.abs(y1 - y0);\n",
       "\n",
       "    fig.rubberband_context.clearRect(\n",
       "        0, 0, fig.canvas.width / mpl.ratio, fig.canvas.height / mpl.ratio);\n",
       "\n",
       "    fig.rubberband_context.strokeRect(min_x, min_y, width, height);\n",
       "}\n",
       "\n",
       "mpl.figure.prototype.handle_figure_label = function(fig, msg) {\n",
       "    // Updates the figure title.\n",
       "    fig.header.textContent = msg['label'];\n",
       "}\n",
       "\n",
       "mpl.figure.prototype.handle_cursor = function(fig, msg) {\n",
       "    var cursor = msg['cursor'];\n",
       "    switch(cursor)\n",
       "    {\n",
       "    case 0:\n",
       "        cursor = 'pointer';\n",
       "        break;\n",
       "    case 1:\n",
       "        cursor = 'default';\n",
       "        break;\n",
       "    case 2:\n",
       "        cursor = 'crosshair';\n",
       "        break;\n",
       "    case 3:\n",
       "        cursor = 'move';\n",
       "        break;\n",
       "    }\n",
       "    fig.rubberband_canvas.style.cursor = cursor;\n",
       "}\n",
       "\n",
       "mpl.figure.prototype.handle_message = function(fig, msg) {\n",
       "    fig.message.textContent = msg['message'];\n",
       "}\n",
       "\n",
       "mpl.figure.prototype.handle_draw = function(fig, msg) {\n",
       "    // Request the server to send over a new figure.\n",
       "    fig.send_draw_message();\n",
       "}\n",
       "\n",
       "mpl.figure.prototype.handle_image_mode = function(fig, msg) {\n",
       "    fig.image_mode = msg['mode'];\n",
       "}\n",
       "\n",
       "mpl.figure.prototype.updated_canvas_event = function() {\n",
       "    // Called whenever the canvas gets updated.\n",
       "    this.send_message(\"ack\", {});\n",
       "}\n",
       "\n",
       "// A function to construct a web socket function for onmessage handling.\n",
       "// Called in the figure constructor.\n",
       "mpl.figure.prototype._make_on_message_function = function(fig) {\n",
       "    return function socket_on_message(evt) {\n",
       "        if (evt.data instanceof Blob) {\n",
       "            /* FIXME: We get \"Resource interpreted as Image but\n",
       "             * transferred with MIME type text/plain:\" errors on\n",
       "             * Chrome.  But how to set the MIME type?  It doesn't seem\n",
       "             * to be part of the websocket stream */\n",
       "            evt.data.type = \"image/png\";\n",
       "\n",
       "            /* Free the memory for the previous frames */\n",
       "            if (fig.imageObj.src) {\n",
       "                (window.URL || window.webkitURL).revokeObjectURL(\n",
       "                    fig.imageObj.src);\n",
       "            }\n",
       "\n",
       "            fig.imageObj.src = (window.URL || window.webkitURL).createObjectURL(\n",
       "                evt.data);\n",
       "            fig.updated_canvas_event();\n",
       "            fig.waiting = false;\n",
       "            return;\n",
       "        }\n",
       "        else if (typeof evt.data === 'string' && evt.data.slice(0, 21) == \"data:image/png;base64\") {\n",
       "            fig.imageObj.src = evt.data;\n",
       "            fig.updated_canvas_event();\n",
       "            fig.waiting = false;\n",
       "            return;\n",
       "        }\n",
       "\n",
       "        var msg = JSON.parse(evt.data);\n",
       "        var msg_type = msg['type'];\n",
       "\n",
       "        // Call the  \"handle_{type}\" callback, which takes\n",
       "        // the figure and JSON message as its only arguments.\n",
       "        try {\n",
       "            var callback = fig[\"handle_\" + msg_type];\n",
       "        } catch (e) {\n",
       "            console.log(\"No handler for the '\" + msg_type + \"' message type: \", msg);\n",
       "            return;\n",
       "        }\n",
       "\n",
       "        if (callback) {\n",
       "            try {\n",
       "                // console.log(\"Handling '\" + msg_type + \"' message: \", msg);\n",
       "                callback(fig, msg);\n",
       "            } catch (e) {\n",
       "                console.log(\"Exception inside the 'handler_\" + msg_type + \"' callback:\", e, e.stack, msg);\n",
       "            }\n",
       "        }\n",
       "    };\n",
       "}\n",
       "\n",
       "// from http://stackoverflow.com/questions/1114465/getting-mouse-location-in-canvas\n",
       "mpl.findpos = function(e) {\n",
       "    //this section is from http://www.quirksmode.org/js/events_properties.html\n",
       "    var targ;\n",
       "    if (!e)\n",
       "        e = window.event;\n",
       "    if (e.target)\n",
       "        targ = e.target;\n",
       "    else if (e.srcElement)\n",
       "        targ = e.srcElement;\n",
       "    if (targ.nodeType == 3) // defeat Safari bug\n",
       "        targ = targ.parentNode;\n",
       "\n",
       "    // jQuery normalizes the pageX and pageY\n",
       "    // pageX,Y are the mouse positions relative to the document\n",
       "    // offset() returns the position of the element relative to the document\n",
       "    var x = e.pageX - $(targ).offset().left;\n",
       "    var y = e.pageY - $(targ).offset().top;\n",
       "\n",
       "    return {\"x\": x, \"y\": y};\n",
       "};\n",
       "\n",
       "/*\n",
       " * return a copy of an object with only non-object keys\n",
       " * we need this to avoid circular references\n",
       " * http://stackoverflow.com/a/24161582/3208463\n",
       " */\n",
       "function simpleKeys (original) {\n",
       "  return Object.keys(original).reduce(function (obj, key) {\n",
       "    if (typeof original[key] !== 'object')\n",
       "        obj[key] = original[key]\n",
       "    return obj;\n",
       "  }, {});\n",
       "}\n",
       "\n",
       "mpl.figure.prototype.mouse_event = function(event, name) {\n",
       "    var canvas_pos = mpl.findpos(event)\n",
       "\n",
       "    if (name === 'button_press')\n",
       "    {\n",
       "        this.canvas.focus();\n",
       "        this.canvas_div.focus();\n",
       "    }\n",
       "\n",
       "    var x = canvas_pos.x * mpl.ratio;\n",
       "    var y = canvas_pos.y * mpl.ratio;\n",
       "\n",
       "    this.send_message(name, {x: x, y: y, button: event.button,\n",
       "                             step: event.step,\n",
       "                             guiEvent: simpleKeys(event)});\n",
       "\n",
       "    /* This prevents the web browser from automatically changing to\n",
       "     * the text insertion cursor when the button is pressed.  We want\n",
       "     * to control all of the cursor setting manually through the\n",
       "     * 'cursor' event from matplotlib */\n",
       "    event.preventDefault();\n",
       "    return false;\n",
       "}\n",
       "\n",
       "mpl.figure.prototype._key_event_extra = function(event, name) {\n",
       "    // Handle any extra behaviour associated with a key event\n",
       "}\n",
       "\n",
       "mpl.figure.prototype.key_event = function(event, name) {\n",
       "\n",
       "    // Prevent repeat events\n",
       "    if (name == 'key_press')\n",
       "    {\n",
       "        if (event.which === this._key)\n",
       "            return;\n",
       "        else\n",
       "            this._key = event.which;\n",
       "    }\n",
       "    if (name == 'key_release')\n",
       "        this._key = null;\n",
       "\n",
       "    var value = '';\n",
       "    if (event.ctrlKey && event.which != 17)\n",
       "        value += \"ctrl+\";\n",
       "    if (event.altKey && event.which != 18)\n",
       "        value += \"alt+\";\n",
       "    if (event.shiftKey && event.which != 16)\n",
       "        value += \"shift+\";\n",
       "\n",
       "    value += 'k';\n",
       "    value += event.which.toString();\n",
       "\n",
       "    this._key_event_extra(event, name);\n",
       "\n",
       "    this.send_message(name, {key: value,\n",
       "                             guiEvent: simpleKeys(event)});\n",
       "    return false;\n",
       "}\n",
       "\n",
       "mpl.figure.prototype.toolbar_button_onclick = function(name) {\n",
       "    if (name == 'download') {\n",
       "        this.handle_save(this, null);\n",
       "    } else {\n",
       "        this.send_message(\"toolbar_button\", {name: name});\n",
       "    }\n",
       "};\n",
       "\n",
       "mpl.figure.prototype.toolbar_button_onmouseover = function(tooltip) {\n",
       "    this.message.textContent = tooltip;\n",
       "};\n",
       "mpl.toolbar_items = [[\"Home\", \"Reset original view\", \"fa fa-home icon-home\", \"home\"], [\"Back\", \"Back to previous view\", \"fa fa-arrow-left icon-arrow-left\", \"back\"], [\"Forward\", \"Forward to next view\", \"fa fa-arrow-right icon-arrow-right\", \"forward\"], [\"\", \"\", \"\", \"\"], [\"Pan\", \"Pan axes with left mouse, zoom with right\", \"fa fa-arrows icon-move\", \"pan\"], [\"Zoom\", \"Zoom to rectangle\", \"fa fa-square-o icon-check-empty\", \"zoom\"], [\"\", \"\", \"\", \"\"], [\"Download\", \"Download plot\", \"fa fa-floppy-o icon-save\", \"download\"]];\n",
       "\n",
       "mpl.extensions = [\"eps\", \"jpeg\", \"pdf\", \"png\", \"ps\", \"raw\", \"svg\", \"tif\"];\n",
       "\n",
       "mpl.default_extension = \"png\";var comm_websocket_adapter = function(comm) {\n",
       "    // Create a \"websocket\"-like object which calls the given IPython comm\n",
       "    // object with the appropriate methods. Currently this is a non binary\n",
       "    // socket, so there is still some room for performance tuning.\n",
       "    var ws = {};\n",
       "\n",
       "    ws.close = function() {\n",
       "        comm.close()\n",
       "    };\n",
       "    ws.send = function(m) {\n",
       "        //console.log('sending', m);\n",
       "        comm.send(m);\n",
       "    };\n",
       "    // Register the callback with on_msg.\n",
       "    comm.on_msg(function(msg) {\n",
       "        //console.log('receiving', msg['content']['data'], msg);\n",
       "        // Pass the mpl event to the overridden (by mpl) onmessage function.\n",
       "        ws.onmessage(msg['content']['data'])\n",
       "    });\n",
       "    return ws;\n",
       "}\n",
       "\n",
       "mpl.mpl_figure_comm = function(comm, msg) {\n",
       "    // This is the function which gets called when the mpl process\n",
       "    // starts-up an IPython Comm through the \"matplotlib\" channel.\n",
       "\n",
       "    var id = msg.content.data.id;\n",
       "    // Get hold of the div created by the display call when the Comm\n",
       "    // socket was opened in Python.\n",
       "    var element = $(\"#\" + id);\n",
       "    var ws_proxy = comm_websocket_adapter(comm)\n",
       "\n",
       "    function ondownload(figure, format) {\n",
       "        window.open(figure.imageObj.src);\n",
       "    }\n",
       "\n",
       "    var fig = new mpl.figure(id, ws_proxy,\n",
       "                           ondownload,\n",
       "                           element.get(0));\n",
       "\n",
       "    // Call onopen now - mpl needs it, as it is assuming we've passed it a real\n",
       "    // web socket which is closed, not our websocket->open comm proxy.\n",
       "    ws_proxy.onopen();\n",
       "\n",
       "    fig.parent_element = element.get(0);\n",
       "    fig.cell_info = mpl.find_output_cell(\"<div id='\" + id + \"'></div>\");\n",
       "    if (!fig.cell_info) {\n",
       "        console.error(\"Failed to find cell for figure\", id, fig);\n",
       "        return;\n",
       "    }\n",
       "\n",
       "    var output_index = fig.cell_info[2]\n",
       "    var cell = fig.cell_info[0];\n",
       "\n",
       "};\n",
       "\n",
       "mpl.figure.prototype.handle_close = function(fig, msg) {\n",
       "    var width = fig.canvas.width/mpl.ratio\n",
       "    fig.root.unbind('remove')\n",
       "\n",
       "    // Update the output cell to use the data from the current canvas.\n",
       "    fig.push_to_output();\n",
       "    var dataURL = fig.canvas.toDataURL();\n",
       "    // Re-enable the keyboard manager in IPython - without this line, in FF,\n",
       "    // the notebook keyboard shortcuts fail.\n",
       "    IPython.keyboard_manager.enable()\n",
       "    $(fig.parent_element).html('<img src=\"' + dataURL + '\" width=\"' + width + '\">');\n",
       "    fig.close_ws(fig, msg);\n",
       "}\n",
       "\n",
       "mpl.figure.prototype.close_ws = function(fig, msg){\n",
       "    fig.send_message('closing', msg);\n",
       "    // fig.ws.close()\n",
       "}\n",
       "\n",
       "mpl.figure.prototype.push_to_output = function(remove_interactive) {\n",
       "    // Turn the data on the canvas into data in the output cell.\n",
       "    var width = this.canvas.width/mpl.ratio\n",
       "    var dataURL = this.canvas.toDataURL();\n",
       "    this.cell_info[1]['text/html'] = '<img src=\"' + dataURL + '\" width=\"' + width + '\">';\n",
       "}\n",
       "\n",
       "mpl.figure.prototype.updated_canvas_event = function() {\n",
       "    // Tell IPython that the notebook contents must change.\n",
       "    IPython.notebook.set_dirty(true);\n",
       "    this.send_message(\"ack\", {});\n",
       "    var fig = this;\n",
       "    // Wait a second, then push the new image to the DOM so\n",
       "    // that it is saved nicely (might be nice to debounce this).\n",
       "    setTimeout(function () { fig.push_to_output() }, 1000);\n",
       "}\n",
       "\n",
       "mpl.figure.prototype._init_toolbar = function() {\n",
       "    var fig = this;\n",
       "\n",
       "    var nav_element = $('<div/>');\n",
       "    nav_element.attr('style', 'width: 100%');\n",
       "    this.root.append(nav_element);\n",
       "\n",
       "    // Define a callback function for later on.\n",
       "    function toolbar_event(event) {\n",
       "        return fig.toolbar_button_onclick(event['data']);\n",
       "    }\n",
       "    function toolbar_mouse_event(event) {\n",
       "        return fig.toolbar_button_onmouseover(event['data']);\n",
       "    }\n",
       "\n",
       "    for(var toolbar_ind in mpl.toolbar_items){\n",
       "        var name = mpl.toolbar_items[toolbar_ind][0];\n",
       "        var tooltip = mpl.toolbar_items[toolbar_ind][1];\n",
       "        var image = mpl.toolbar_items[toolbar_ind][2];\n",
       "        var method_name = mpl.toolbar_items[toolbar_ind][3];\n",
       "\n",
       "        if (!name) { continue; };\n",
       "\n",
       "        var button = $('<button class=\"btn btn-default\" href=\"#\" title=\"' + name + '\"><i class=\"fa ' + image + ' fa-lg\"></i></button>');\n",
       "        button.click(method_name, toolbar_event);\n",
       "        button.mouseover(tooltip, toolbar_mouse_event);\n",
       "        nav_element.append(button);\n",
       "    }\n",
       "\n",
       "    // Add the status bar.\n",
       "    var status_bar = $('<span class=\"mpl-message\" style=\"text-align:right; float: right;\"/>');\n",
       "    nav_element.append(status_bar);\n",
       "    this.message = status_bar[0];\n",
       "\n",
       "    // Add the close button to the window.\n",
       "    var buttongrp = $('<div class=\"btn-group inline pull-right\"></div>');\n",
       "    var button = $('<button class=\"btn btn-mini btn-primary\" href=\"#\" title=\"Stop Interaction\"><i class=\"fa fa-power-off icon-remove icon-large\"></i></button>');\n",
       "    button.click(function (evt) { fig.handle_close(fig, {}); } );\n",
       "    button.mouseover('Stop Interaction', toolbar_mouse_event);\n",
       "    buttongrp.append(button);\n",
       "    var titlebar = this.root.find($('.ui-dialog-titlebar'));\n",
       "    titlebar.prepend(buttongrp);\n",
       "}\n",
       "\n",
       "mpl.figure.prototype._root_extra_style = function(el){\n",
       "    var fig = this\n",
       "    el.on(\"remove\", function(){\n",
       "\tfig.close_ws(fig, {});\n",
       "    });\n",
       "}\n",
       "\n",
       "mpl.figure.prototype._canvas_extra_style = function(el){\n",
       "    // this is important to make the div 'focusable\n",
       "    el.attr('tabindex', 0)\n",
       "    // reach out to IPython and tell the keyboard manager to turn it's self\n",
       "    // off when our div gets focus\n",
       "\n",
       "    // location in version 3\n",
       "    if (IPython.notebook.keyboard_manager) {\n",
       "        IPython.notebook.keyboard_manager.register_events(el);\n",
       "    }\n",
       "    else {\n",
       "        // location in version 2\n",
       "        IPython.keyboard_manager.register_events(el);\n",
       "    }\n",
       "\n",
       "}\n",
       "\n",
       "mpl.figure.prototype._key_event_extra = function(event, name) {\n",
       "    var manager = IPython.notebook.keyboard_manager;\n",
       "    if (!manager)\n",
       "        manager = IPython.keyboard_manager;\n",
       "\n",
       "    // Check for shift+enter\n",
       "    if (event.shiftKey && event.which == 13) {\n",
       "        this.canvas_div.blur();\n",
       "        // select the cell after this one\n",
       "        var index = IPython.notebook.find_cell_index(this.cell_info[0]);\n",
       "        IPython.notebook.select(index + 1);\n",
       "    }\n",
       "}\n",
       "\n",
       "mpl.figure.prototype.handle_save = function(fig, msg) {\n",
       "    fig.ondownload(fig, null);\n",
       "}\n",
       "\n",
       "\n",
       "mpl.find_output_cell = function(html_output) {\n",
       "    // Return the cell and output element which can be found *uniquely* in the notebook.\n",
       "    // Note - this is a bit hacky, but it is done because the \"notebook_saving.Notebook\"\n",
       "    // IPython event is triggered only after the cells have been serialised, which for\n",
       "    // our purposes (turning an active figure into a static one), is too late.\n",
       "    var cells = IPython.notebook.get_cells();\n",
       "    var ncells = cells.length;\n",
       "    for (var i=0; i<ncells; i++) {\n",
       "        var cell = cells[i];\n",
       "        if (cell.cell_type === 'code'){\n",
       "            for (var j=0; j<cell.output_area.outputs.length; j++) {\n",
       "                var data = cell.output_area.outputs[j];\n",
       "                if (data.data) {\n",
       "                    // IPython >= 3 moved mimebundle to data attribute of output\n",
       "                    data = data.data;\n",
       "                }\n",
       "                if (data['text/html'] == html_output) {\n",
       "                    return [cell, data, j];\n",
       "                }\n",
       "            }\n",
       "        }\n",
       "    }\n",
       "}\n",
       "\n",
       "// Register the function which deals with the matplotlib target/channel.\n",
       "// The kernel may be null if the page has been refreshed.\n",
       "if (IPython.notebook.kernel != null) {\n",
       "    IPython.notebook.kernel.comm_manager.register_target('matplotlib', mpl.mpl_figure_comm);\n",
       "}\n"
      ],
      "text/plain": [
       "<IPython.core.display.Javascript object>"
      ]
     },
     "metadata": {},
     "output_type": "display_data"
    },
    {
     "data": {
      "text/html": [
       "<img src=\"data:image/png;base64,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\" width=\"1000\">"
      ],
      "text/plain": [
       "<IPython.core.display.HTML object>"
      ]
     },
     "metadata": {},
     "output_type": "display_data"
    }
   ],
   "source": [
    "dual_train_plots(results.index,\n",
    "                 results.cost, results.val,\n",
    "                 results.cost, results.val)\n",
    "plt.tight_layout()\n",
    "plt.savefig(str(output / f'{name}_stats_a.png'))"
   ]
  },
  {
   "cell_type": "code",
   "execution_count": 21,
   "metadata": {},
   "outputs": [],
   "source": [
    "##quit()\n"
   ]
  },
  {
   "cell_type": "code",
   "execution_count": null,
   "metadata": {},
   "outputs": [],
   "source": []
  },
  {
   "cell_type": "code",
   "execution_count": null,
   "metadata": {},
   "outputs": [],
   "source": []
  }
 ],
 "metadata": {
  "kernelspec": {
   "display_name": "june2020-gpu",
   "language": "python",
   "name": "june2020-gpu"
  },
  "language_info": {
   "codemirror_mode": {
    "name": "ipython",
    "version": 3
   },
   "file_extension": ".py",
   "mimetype": "text/x-python",
   "name": "python",
   "nbconvert_exporter": "python",
   "pygments_lexer": "ipython3",
   "version": "3.7.6"
  }
 },
 "nbformat": 4,
 "nbformat_minor": 2
}
