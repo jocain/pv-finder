{
 "cells": [
  {
   "cell_type": "code",
   "execution_count": 1,
   "metadata": {},
   "outputs": [],
   "source": [
    "##%matplotlib widget\n",
    "## with %matplotlib notebook: seems to require ipympl as part of environment, either\n",
    "## part of the conda environment or \"pip install ipympl\"\n",
    "## otherwise, does not show ANY plots in note\"book, plt.savefig() works\n",
    "%matplotlib notebook  \n",
    "##%matplotlib inline    ## --plt.savefig()  works, but re-sizing does NOT\n"
   ]
  },
  {
   "cell_type": "markdown",
   "metadata": {},
   "source": [
    "This notebook is the second attempt to read in track information and use it to predict the KDE used as input to PvFinder. This time, we are reading in poca KDEs rather than the original KDEs. \n",
    "\n",
    "collectdata_kde_C.py uses poca_z, poca_x, poca_y, major_axis_x, major_axis_y, and major_axis_z as the six track parameters (for the moment)\n"
   ]
  },
  {
   "cell_type": "markdown",
   "metadata": {},
   "source": [
    "Check the current GPU usage. Please try to be nice!"
   ]
  },
  {
   "cell_type": "code",
   "execution_count": 2,
   "metadata": {},
   "outputs": [
    {
     "name": "stdout",
     "output_type": "stream",
     "text": [
      "Wed Jan 20 08:33:33 2021       \n",
      "+-----------------------------------------------------------------------------+\n",
      "| NVIDIA-SMI 440.64.00    Driver Version: 440.64.00    CUDA Version: 10.2     |\n",
      "|-------------------------------+----------------------+----------------------+\n",
      "| GPU  Name        Persistence-M| Bus-Id        Disp.A | Volatile Uncorr. ECC |\n",
      "| Fan  Temp  Perf  Pwr:Usage/Cap|         Memory-Usage | GPU-Util  Compute M. |\n",
      "|===============================+======================+======================|\n",
      "|   0  TITAN V             Off  | 00000000:03:00.0 Off |                  N/A |\n",
      "| 48%   66C    P2   162W / 250W |   3530MiB / 12066MiB |     95%      Default |\n",
      "+-------------------------------+----------------------+----------------------+\n",
      "|   1  Tesla P100-PCIE...  Off  | 00000000:83:00.0 Off |                    0 |\n",
      "| N/A   32C    P0    27W / 250W |     10MiB / 16280MiB |      0%      Default |\n",
      "+-------------------------------+----------------------+----------------------+\n",
      "|   2  TITAN V             Off  | 00000000:84:00.0 Off |                  N/A |\n",
      "| 28%   36C    P8    25W / 250W |     12MiB / 12066MiB |      0%      Default |\n",
      "+-------------------------------+----------------------+----------------------+\n",
      "                                                                               \n",
      "+-----------------------------------------------------------------------------+\n",
      "| Processes:                                                       GPU Memory |\n",
      "|  GPU       PID   Type   Process name                             Usage      |\n",
      "|=============================================================================|\n",
      "|    0      4892      C   ...a/conda/envs/goofit-june2020/bin/python  2423MiB |\n",
      "|    0     30329      C   ...a/conda/envs/goofit-june2020/bin/python  1095MiB |\n",
      "+-----------------------------------------------------------------------------+\n"
     ]
    }
   ],
   "source": [
    "!nvidia-smi"
   ]
  },
  {
   "cell_type": "markdown",
   "metadata": {},
   "source": [
    "> **WARNING**: The card numbers here are *not* the same as in CUDA. You have been warned."
   ]
  },
  {
   "cell_type": "markdown",
   "metadata": {},
   "source": [
    "This notebook is first attempt to read in track information and use it to predict the KDE used as input to PvFinder.\n"
   ]
  },
  {
   "cell_type": "markdown",
   "metadata": {},
   "source": [
    "## Imports"
   ]
  },
  {
   "cell_type": "code",
   "execution_count": 3,
   "metadata": {},
   "outputs": [],
   "source": [
    "import matplotlib.pyplot as plt\n",
    "import numpy as np\n",
    "import time\n",
    "import torch\n",
    "import pandas as pd\n",
    "\n",
    "# Python 3 standard library\n",
    "from pathlib import Path\n",
    "\n",
    "##from torchsummary import summary"
   ]
  },
  {
   "cell_type": "markdown",
   "metadata": {},
   "source": [
    "### Set up local parameters"
   ]
  },
  {
   "cell_type": "code",
   "execution_count": 4,
   "metadata": {},
   "outputs": [],
   "source": [
    "n_epochs = 75\n",
    "\n",
    "# Name is the output file name\n",
    "\n",
    "\n",
    "##  201027 -- about to go to bed, so try 2500 epochs with lr = 1e55\n",
    "##  previous iteration had l4 = 3e-5 and cost dropped almost linearly\n",
    "##  for 100 epochs -- final training costs ~ 2.02, validation cost ~ 2.01\n",
    "\n",
    "## for iter 4, try 10 epochs with lr = 3e-6\n",
    "## usually have a big jump down at epoch 0; want to try a\n",
    "## small number of epochs per iteration and see what happens (iter4: 10 epochs gave\n",
    "## traiing cost dropping from 1.54 to 1.50 immediately, then dropping very slowly)\n",
    "folder = '20Jan_DDplus_loss_Ba_iter10_floatAll_75epochs_1em5_4xwill'\n",
    "name   = folder\n",
    "\n",
    "# Make an output folder named \"name\" (change if you want)\n",
    "\n",
    "## Special instructions for those working on goofy at UC\n",
    "## Please be very careful to make sure that your folder\n",
    "## does not live in a subdirectory of your home directory\n",
    "## this disk has very little capacity. Instead, use \n",
    "## a subdirectory in /share/lazy with a symbolic link to\n",
    "## it in this (the notebooks) subdirectory\n",
    "folder = 'ML/' + folder\n",
    "output = Path(folder)\n",
    "\n",
    "\n",
    "# Size of batches\n",
    "batch_size = 48 ## batch_size = 24 ---> 4763MiB / 12066MiB on Titan V\n",
    "# How fast to learn\n",
    "learning_rate = 1e-5"
   ]
  },
  {
   "cell_type": "markdown",
   "metadata": {},
   "source": [
    "Make the output directory if it does not exist:"
   ]
  },
  {
   "cell_type": "code",
   "execution_count": 5,
   "metadata": {},
   "outputs": [],
   "source": [
    "output.mkdir(exist_ok=True)"
   ]
  },
  {
   "cell_type": "markdown",
   "metadata": {},
   "source": [
    "## Get the helper functions\n",
    "\n",
    "Add the directory with the model\n",
    "definitions to the path so we can import from it:\n",
    "\n",
    "> When you type `import X`,\n",
    "Python searches `sys.path` for a python\n",
    "file named `X.py` to import. So we need to add the model directory to the path."
   ]
  },
  {
   "cell_type": "code",
   "execution_count": 6,
   "metadata": {
    "scrolled": true
   },
   "outputs": [],
   "source": [
    "# From model/collectdata.py\n",
    "##from model.collectdata_kde_B import collect_t2kde_data\n",
    "## collectdata_kde_C should use the new poca KDE rather than the original kernel KDE\n",
    "from model.collectdata_kde_Ellipsoids import collect_t2kde_data\n",
    "\n",
    "\n",
    "# From model/loss.py\n",
    "##from loss import Loss\n",
    "## kde_loss_D includes botha ratio term and a chisq term, 98% ave_chisq\n",
    "## kde_loss_E adds a chi^4 term to the kde_loss_D return value\n",
    "## this is intended to emphasize the importance of values significantly different than zero\n",
    "from model.kde_loss_Ba import Loss\n",
    "\n",
    "##  TracksToKDE_Ellipsoids_SevenLayerCake has 7 hidden layers producing the 4000-bin KDE historgram\n",
    "##  It takes 9 input features (pocca centers + (A,B,C,D,E,F) . \n",
    "from model.models_kde import TracksToKDE_Ellipsoids_DDplus as Model\n",
    "\n",
    "\n",
    "from model.training_kde import trainNet, select_gpu, Results\n",
    "from model.plots import dual_train_plots, replace_in_ax"
   ]
  },
  {
   "cell_type": "code",
   "execution_count": 7,
   "metadata": {},
   "outputs": [],
   "source": [
    "# This gets built up during the run - do not rerun this cell\n",
    "results = pd.DataFrame([], columns=Results._fields)"
   ]
  },
  {
   "cell_type": "markdown",
   "metadata": {},
   "source": [
    "Set up Torch device configuration. All tensors and model parameters need to know where to be put.\n",
    "This takes a BUS ID number: The BUS ID is the same as the listing at the top of this script."
   ]
  },
  {
   "cell_type": "code",
   "execution_count": 8,
   "metadata": {},
   "outputs": [
    {
     "name": "stdout",
     "output_type": "stream",
     "text": [
      "1 available GPUs (initially using device 0):\n",
      "  0 TITAN V\n"
     ]
    }
   ],
   "source": [
    "device = select_gpu(2)\n",
    "##device = \"cpu\""
   ]
  },
  {
   "cell_type": "markdown",
   "metadata": {},
   "source": [
    "## Loading data\n",
    "\n",
    "Load the dataset, split into parts, then move to device (see `collectdata.py` in the `../model` directory)"
   ]
  },
  {
   "cell_type": "markdown",
   "metadata": {},
   "source": [
    "# Preparing the model"
   ]
  },
  {
   "cell_type": "markdown",
   "metadata": {},
   "source": [
    "Prepare a model, use multiple GPUs if they are VISIBLE, and move the model to the device."
   ]
  },
  {
   "cell_type": "code",
   "execution_count": 9,
   "metadata": {
    "scrolled": true
   },
   "outputs": [],
   "source": [
    "##print(\"Let's use\", torch.cuda.device_count(), \"GPUs!\")\n",
    "##if torch.cuda.device_count() > 1:\n",
    "##    model = torch.nn.DataParallel(model)"
   ]
  },
  {
   "cell_type": "code",
   "execution_count": 10,
   "metadata": {},
   "outputs": [
    {
     "name": "stdout",
     "output_type": "stream",
     "text": [
      "ct, child =  0    Linear(in_features=9, out_features=50, bias=True)\n",
      "ct, child =  1    Linear(in_features=50, out_features=50, bias=True)\n",
      "ct, child =  2    Linear(in_features=50, out_features=50, bias=True)\n",
      "ct, child =  3    Linear(in_features=50, out_features=50, bias=True)\n",
      "ct, child =  4    Linear(in_features=50, out_features=50, bias=True)\n",
      "ct, child =  5    Linear(in_features=50, out_features=50, bias=True)\n",
      "ct, child =  6    Linear(in_features=50, out_features=50, bias=True)\n",
      "ct, child =  7    Linear(in_features=50, out_features=50, bias=True)\n",
      "ct, child =  8    Linear(in_features=50, out_features=50, bias=True)\n",
      "ct, child =  9    Linear(in_features=50, out_features=50, bias=True)\n",
      "ct, child =  10    Linear(in_features=50, out_features=50, bias=True)\n",
      "ct, child =  11    Linear(in_features=50, out_features=16000, bias=True)\n",
      "ct, child =  12    Conv1d(4, 25, kernel_size=(25,), stride=(1,), padding=(12,))\n",
      "ct, child =  13    Conv1d(25, 1, kernel_size=(5,), stride=(1,), padding=(2,))\n",
      "ct, child =  14    Linear(in_features=4000, out_features=4000, bias=True)\n",
      "ct, child =  15    Conv1d(25, 1, kernel_size=(15,), stride=(1,), padding=(7,))\n",
      "ct, child =  16    Dropout(p=0.15, inplace=False)\n",
      "ct, child =  17    Dropout(p=0.15, inplace=False)\n"
     ]
    }
   ],
   "source": [
    "## a comment on the web at https://pytorch.org/docs/stable/optim.html says\n",
    "\"\"\"\n",
    "If you need to move a model to GPU via .cuda(), please do so before constructing optimizers for it. \n",
    "Parameters of a model after .cuda() will be different objects with those before the call.\n",
    "\n",
    "In general, you should make sure that optimized parameters live in consistent locations when \n",
    "optimizers are constructed and used.\n",
    "\"\"\"\n",
    "## so move this here (although we are using model.to(device) not explicitly using .cuda()\n",
    "\n",
    "nOut1 = 50\n",
    "nOut2 = 50\n",
    "nOut3 = 50\n",
    "nOut4 = 50\n",
    "nOut5 = 50\n",
    "nOut6 = 50\n",
    "nOut7 = 50\n",
    "nOut8 = 50\n",
    "nOut9 = 50\n",
    "nOut10 = 50\n",
    "nOut11 = 50\n",
    "latentChannels = 4\n",
    "model = Model(nOut1,nOut2,nOut3,nOut4,nOut5,nOut6,nOut7,nOut8,nOut9,nOut10,nOut11,latentChannels)\n",
    "\n",
    "##summary(model, input_size=(4, 4000))\n",
    "##print(model.parameters)\n",
    "\n",
    "## add the following code to allow the user to freeze the some of the weights corresponding \n",
    "## to those taken from an earlier model trained with the original target histograms\n",
    "## presumably -- this leaves either the perturbative filter \"fixed\" and lets the \n",
    "## learning focus on the non-perturbative features, so get started faster, or vice versa\n",
    "ct = 0\n",
    "for child in model.children():\n",
    "  print('ct, child = ',ct, \"  \", child)\n",
    "  if ct < 0:\n",
    "    print(\"     About to set param.requires_grad=False for ct = \", ct, \"params\")\n",
    "    for param in child.parameters():\n",
    "        param.requires_grad = False \n",
    "  ct += 1\n",
    "##  mds 200121 loss = Loss(epsilon=1e-5,coefficient=1.0)\n",
    "##  loss = Loss(epsilon=1e-5,coefficient=2.5)\n",
    "##loss = Loss(epsilon=3e-5, debug=False)\n",
    "loss = Loss(epsilon=3e-5)"
   ]
  },
  {
   "cell_type": "markdown",
   "metadata": {},
   "source": [
    "Let's move the model's weight matricies to the GPU:"
   ]
  },
  {
   "cell_type": "code",
   "execution_count": 11,
   "metadata": {
    "scrolled": true
   },
   "outputs": [],
   "source": [
    "model = model.to(device)"
   ]
  },
  {
   "cell_type": "code",
   "execution_count": 12,
   "metadata": {
    "scrolled": true
   },
   "outputs": [],
   "source": [
    "optimizer = torch.optim.Adam(model.parameters(), lr=learning_rate)\n",
    "##optimizer = torch.optim.SGD(model.parameters(), lr=learning_rate)"
   ]
  },
  {
   "cell_type": "code",
   "execution_count": 13,
   "metadata": {
    "scrolled": false
   },
   "outputs": [
    {
     "name": "stdout",
     "output_type": "stream",
     "text": [
      "output =  ML/20Jan_DDplus_loss_Ba_iter10_floatAll_75epochs_1em5_4xwill\n",
      "for model_dict\n",
      "index, k =   0    layer1.weight\n",
      "index, k =   1    layer1.bias\n",
      "index, k =   2    layer2.weight\n",
      "index, k =   3    layer2.bias\n",
      "index, k =   4    layer3.weight\n",
      "index, k =   5    layer3.bias\n",
      "index, k =   6    layer4.weight\n",
      "index, k =   7    layer4.bias\n",
      "index, k =   8    layer5.weight\n",
      "index, k =   9    layer5.bias\n",
      "index, k =   10    layer6.weight\n",
      "index, k =   11    layer6.bias\n",
      "index, k =   12    layer7.weight\n",
      "index, k =   13    layer7.bias\n",
      "index, k =   14    layer8.weight\n",
      "index, k =   15    layer8.bias\n",
      "index, k =   16    layer9.weight\n",
      "index, k =   17    layer9.bias\n",
      "index, k =   18    layer10.weight\n",
      "index, k =   19    layer10.bias\n",
      "index, k =   20    layer11.weight\n",
      "index, k =   21    layer11.bias\n",
      "index, k =   22    layer12new.weight\n",
      "index, k =   23    layer12new.bias\n",
      "index, k =   24    conv1.weight\n",
      "index, k =   25    conv1.bias\n",
      "index, k =   26    conv2.weight\n",
      "index, k =   27    conv2.bias\n",
      "index, k =   28    fc1.weight\n",
      "index, k =   29    fc1.bias\n",
      "index, k =   30    finalFilter.weight\n",
      "index, k =   31    finalFilter.bias\n",
      "dict_name =  ML/19Jan_DDplus_loss_Ba_iter9_floatAll_75epochs_1em5_4xwill/19Jan_DDplus_loss_Ba_iter9_floatAll_75epochs_1em5_4xwill_final.pyt\n",
      " \n",
      "  for pretrained_dict\n",
      "index, k =   0    layer1.weight\n",
      "index, k =   1    layer1.bias\n",
      "index, k =   2    layer2.weight\n",
      "index, k =   3    layer2.bias\n",
      "index, k =   4    layer3.weight\n",
      "index, k =   5    layer3.bias\n",
      "index, k =   6    layer4.weight\n",
      "index, k =   7    layer4.bias\n",
      "index, k =   8    layer5.weight\n",
      "index, k =   9    layer5.bias\n",
      "index, k =   10    layer6.weight\n",
      "index, k =   11    layer6.bias\n",
      "index, k =   12    layer7.weight\n",
      "index, k =   13    layer7.bias\n",
      "index, k =   14    layer8.weight\n",
      "index, k =   15    layer8.bias\n",
      "index, k =   16    layer9.weight\n",
      "index, k =   17    layer9.bias\n",
      "index, k =   18    layer10.weight\n",
      "index, k =   19    layer10.bias\n",
      "index, k =   20    layer11.weight\n",
      "index, k =   21    layer11.bias\n",
      "index, k =   22    layer12new.weight\n",
      "index, k =   23    layer12new.bias\n",
      "index, k =   24    conv1.weight\n",
      "index, k =   25    conv1.bias\n",
      "index, k =   26    conv2.weight\n",
      "index, k =   27    conv2.bias\n",
      "index, k =   28    fc1.weight\n",
      "index, k =   29    fc1.bias\n",
      "index, k =   30    finalFilter.weight\n",
      "index, k =   31    finalFilter.bias\n",
      "pretrained_dict iterated\n"
     ]
    },
    {
     "data": {
      "text/plain": [
       "<All keys matched successfully>"
      ]
     },
     "execution_count": 13,
     "metadata": {},
     "output_type": "execute_result"
    }
   ],
   "source": [
    "print('output = ',output)\n",
    "##print('oldOutput = ',oldOutput)\n",
    "##  use the first four layers from a pre-existing model\n",
    "##  see example at https://discuss.pytorch.org/t/how-to-load-part-of-pre-trained-model/1113\n",
    "\n",
    "##   ML -> /share/lazy/sokoloff/ML\n",
    "model_dict = model.state_dict()\n",
    "## mds 190725 for debugging\n",
    "print(\"for model_dict\")\n",
    "index = 0\n",
    "for k,v in model_dict.items():\n",
    "    print(\"index, k =  \",index,\"  \",k)\n",
    "    index = index+1\n",
    "##    print(\"value = \", v)\n",
    " \n",
    "updated_dict = model_dict\n",
    "##print(\"updated_dict = \",updated_dict)\n",
    "## when starting \"ab initio\", reduce biases as the bias gets summed for each track\n",
    "## contributing to the predicted KDE\n",
    "updated_dict[\"layer1.bias\"] = 0.005*model_dict[\"layer1.bias\"]\n",
    "updated_dict[\"layer2.bias\"] = 0.005*model_dict[\"layer2.bias\"]\n",
    "updated_dict[\"layer3.bias\"] = 0.005*model_dict[\"layer3.bias\"]\n",
    "updated_dict[\"layer4.bias\"] = 0.005*model_dict[\"layer4.bias\"]\n",
    "updated_dict[\"layer5.bias\"] = 0.005*model_dict[\"layer5.bias\"]\n",
    "updated_dict[\"layer6.bias\"] = 0.005*model_dict[\"layer6.bias\"]\n",
    "updated_dict[\"layer7.bias\"] = 0.005*model_dict[\"layer7.bias\"]\n",
    "updated_dict[\"layer8.bias\"] = 0.005*model_dict[\"layer8.bias\"]\n",
    "updated_dict[\"layer9.bias\"] = 0.005*model_dict[\"layer9.bias\"]\n",
    "updated_dict[\"layer10.bias\"] = 0.005*model_dict[\"layer10.bias\"]\n",
    "updated_dict[\"layer11.bias\"] = 0.005*model_dict[\"layer11.bias\"]\n",
    "\n",
    "model.load_state_dict(updated_dict,strict=False)\n",
    "\n",
    "model_dict = model.state_dict()\n",
    "##print(\"updated model_dict = \",model_dict)\n",
    "\n",
    "## print(\" \\n\",\"  for pretrained_dict\")\n",
    "## index = 0\n",
    "##for k,v in pretrained_dict.items():\n",
    "##    print(\"index, k =  \",index,\"  \",k)\n",
    "##    index = index+1\n",
    "## mds  \n",
    "\n",
    "##pretrained_dict = torch.load('ML/29July2020_Trks_to_KDE_C_lossB_100epochs_b64_1m3_nOut_50x50/29July2020_Trks_to_KDE_C_lossB_100epochs_b64_1m3_nOut_50x50_final.pyt')\n",
    "##print(\"model_dict instantiated\")\n",
    "# 1. filter out unnecessary keys\n",
    "##pretrained_dict = {k: v for k, v in pretrained_dict.items() if k in model_dict}\n",
    "##print(\"pretrained_dict iterated\")\n",
    "# 2. overwrite entries in the existing state dict\n",
    "##model_dict.update(pretrained_dict) \n",
    "##\n",
    "#   when starting from a model with a fully connected last layer rather than a convolutional layer\n",
    "# 3. load the new state dict\n",
    "#   need to use strict=False as the two models state model attributes do not agree exactly\n",
    "#   see https://pytorch.org/docs/master/_modules/torch/nn/modules/module.html#Module.load_state_dict\n",
    "\n",
    "##model.load_state_dict(pretrained_dict,strict=False)\n",
    "\n",
    "## print('model_dict =    ', model_dict)\n",
    "\n",
    "## finished at training cost = 1.46, validation cost = 1.50\n",
    "##d_folder = '25December__DDplus_loss_Ba_iter7_floatAll_800epochs_4em6'\n",
    "d_folder = '19Jan_DDplus_loss_Ba_iter9_floatAll_75epochs_1em5_4xwill'\n",
    "d_name = d_folder\n",
    "suffix = 'final'\n",
    "dict_name = 'ML/' + d_folder + '/' + d_name + '_'+ suffix + '.pyt'\n",
    "print('dict_name = ',dict_name)\n",
    "pretrained_dict = torch.load(dict_name)\n",
    "\n",
    "print(\" \")\n",
    "print(\"  for pretrained_dict\")\n",
    "index = 0\n",
    "for k,v in pretrained_dict.items():\n",
    "    print(\"index, k =  \",index,\"  \",k)\n",
    "    index = index+1\n",
    " \n",
    "\n",
    "##print(\"model_dict instantiated\")\n",
    "# 1. filter out unnecessary keys\n",
    "pretrained_dict = {k: v for k, v in pretrained_dict.items() if k in model_dict}\n",
    "print(\"pretrained_dict iterated\")\n",
    "# 2. overwrite entries in the existing state dict\n",
    "model_dict.update(pretrained_dict) \n",
    "##\n",
    "#   when starting from a model with a fully connected last layer rather than a convolutional layer\n",
    "# 3. load the new state dict\n",
    "#   need to use strict=False as the two models state model attributes do not agree exactly\n",
    "#   see https://pytorch.org/docs/master/_modules/torch/nn/modules/module.html#Module.load_state_dict\n",
    "\n",
    "model.load_state_dict(pretrained_dict,strict=False)\n",
    "\n"
   ]
  },
  {
   "cell_type": "code",
   "execution_count": 14,
   "metadata": {},
   "outputs": [],
   "source": [
    "##print('validation.dataset.tensors = ',validation.dataset.tensors)\n",
    "fig_size = plt.rcParams[\"figure.figsize\"]\n",
    "fig_size[0] = 10\n",
    "fig_size[1] = 4\n",
    "plt.rcParams[\"figure.figsize\"] = fig_size"
   ]
  },
  {
   "cell_type": "code",
   "execution_count": 15,
   "metadata": {
    "scrolled": false
   },
   "outputs": [
    {
     "name": "stdout",
     "output_type": "stream",
     "text": [
      "Loading data...\n",
      "pocaMx.shape =  (80000,)\n",
      "nEvts =  80000\n",
      "len(pocaMx[0]) =  199\n",
      "len(pocaMx[1]) =  25\n",
      "len(pocaMx[2]) =  369\n",
      "len(pocaMx[3]) =  143\n",
      "len(pocaMx[4]) =  160\n",
      "majorAxis.shape =  (80000, 3)\n",
      "minorAxis_1.shape =  (80000, 3)\n",
      "minorAxis_2.shape =  (80000, 3)\n",
      "have entered six_ellipsoid_parameters\n",
      "  \n",
      " \n",
      "  nEvts =  80000\n",
      " iEvt, nTrks =  0 199\n",
      " iEvt, nTrks =  1 25\n",
      " iEvt, nTrks =  2 369\n",
      " iEvt, nTrks =  3 143\n",
      " iEvt, nTrks =  4 160\n",
      " iEvt, nTrks =  5 260\n",
      " iEvt, nTrks =  6 237\n",
      " iEvt, nTrks =  7 327\n",
      " iEvt, nTrks =  8 178\n",
      " iEvt, nTrks =  9 106\n",
      "A.shape =  (80000,)\n",
      "majorAxis[iTrk][0][0] =  0.00045611936\n",
      "majorAxis[iTrk][1][0] =  -4.8292455e-05\n",
      "majorAxis[iTrk][2][0] =  0.090019904\n",
      "minorAxis_1[iTrk][0][0] =  -1.8602173\n",
      "minorAxis_1[iTrk][1][0] =  -17.569641\n",
      "minorAxis_1[iTrk][2][0] =  4.7891795e-08\n",
      "minorAxis_2[iTrk][0][0] =  -17.569414\n",
      "minorAxis_2[iTrk][1][0] =  1.8601931\n",
      "minorAxis_2[iTrk][2][0] =  0.0900199\n",
      "  \n",
      "majorAxis[iTrk][0][0] =  0.002360258\n",
      "majorAxis[iTrk][1][0] =  -0.007426616\n",
      "majorAxis[iTrk][2][0] =  0.3710108\n",
      "minorAxis_1[iTrk][0][0] =  -16.837948\n",
      "minorAxis_1[iTrk][1][0] =  -5.3512807\n",
      "minorAxis_1[iTrk][2][0] =  8.157131e-09\n",
      "minorAxis_2[iTrk][0][0] =  -5.3501005\n",
      "minorAxis_2[iTrk][1][0] =  16.834236\n",
      "minorAxis_2[iTrk][2][0] =  0.3710108\n",
      "  \n",
      "majorAxis[iTrk][0][0] =  6.220712e-05\n",
      "majorAxis[iTrk][1][0] =  -4.4594188e-05\n",
      "majorAxis[iTrk][2][0] =  0.036773544\n",
      "minorAxis_1[iTrk][0][0] =  10.293747\n",
      "minorAxis_1[iTrk][1][0] =  14.359369\n",
      "minorAxis_1[iTrk][2][0] =  1.571041e-06\n",
      "minorAxis_2[iTrk][0][0] =  14.359338\n",
      "minorAxis_2[iTrk][1][0] =  -10.293725\n",
      "minorAxis_2[iTrk][2][0] =  -0.03677354\n",
      "  \n",
      "majorAxis[iTrk][0][0] =  0.0033452737\n",
      "majorAxis[iTrk][1][0] =  0.00013028442\n",
      "majorAxis[iTrk][2][0] =  0.2431933\n",
      "minorAxis_1[iTrk][0][0] =  0.6875674\n",
      "minorAxis_1[iTrk][1][0] =  -17.65446\n",
      "minorAxis_1[iTrk][2][0] =  -6.6602626e-09\n",
      "minorAxis_2[iTrk][0][0] =  -17.652788\n",
      "minorAxis_2[iTrk][1][0] =  -0.68750226\n",
      "minorAxis_2[iTrk][2][0] =  0.2431933\n",
      "  \n",
      "majorAxis[iTrk][0][0] =  -0.00068196515\n",
      "majorAxis[iTrk][1][0] =  -0.00044562915\n",
      "majorAxis[iTrk][2][0] =  0.119970225\n",
      "minorAxis_1[iTrk][0][0] =  9.664597\n",
      "minorAxis_1[iTrk][1][0] =  -14.790141\n",
      "minorAxis_1[iTrk][2][0] =  1.9819232e-08\n",
      "minorAxis_2[iTrk][0][0] =  -14.789802\n",
      "minorAxis_2[iTrk][1][0] =  -9.664374\n",
      "minorAxis_2[iTrk][2][0] =  -0.11997023\n",
      "  \n",
      "majorAxis[iTrk][0][0] =  -8.245073e-05\n",
      "majorAxis[iTrk][1][0] =  0.00015860004\n",
      "majorAxis[iTrk][2][0] =  0.05619731\n",
      "minorAxis_1[iTrk][0][0] =  -15.676071\n",
      "minorAxis_1[iTrk][1][0] =  -8.149452\n",
      "minorAxis_1[iTrk][2][0] =  4.1105773e-07\n",
      "minorAxis_2[iTrk][0][0] =  -8.14941\n",
      "minorAxis_2[iTrk][1][0] =  15.675991\n",
      "minorAxis_2[iTrk][2][0] =  -0.056197315\n",
      "  \n",
      "majorAxis[iTrk][0][0] =  -0.00015151131\n",
      "majorAxis[iTrk][1][0] =  0.00067339616\n",
      "majorAxis[iTrk][2][0] =  0.11042937\n",
      "minorAxis_1[iTrk][0][0] =  17.236937\n",
      "minorAxis_1[iTrk][1][0] =  3.8782384\n",
      "minorAxis_1[iTrk][2][0] =  2.3217373e-08\n",
      "minorAxis_2[iTrk][0][0] =  3.8781626\n",
      "minorAxis_2[iTrk][1][0] =  -17.236599\n",
      "minorAxis_2[iTrk][2][0] =  0.11042936\n",
      "  \n",
      "majorAxis[iTrk][0][0] =  -7.577422e-05\n",
      "majorAxis[iTrk][1][0] =  -0.00036802414\n",
      "majorAxis[iTrk][2][0] =  0.08147708\n",
      "minorAxis_1[iTrk][0][0] =  -17.304853\n",
      "minorAxis_1[iTrk][1][0] =  3.5629773\n",
      "minorAxis_1[iTrk][2][0] =  5.80501e-09\n",
      "minorAxis_2[iTrk][0][0] =  3.5629392\n",
      "minorAxis_2[iTrk][1][0] =  17.304668\n",
      "minorAxis_2[iTrk][2][0] =  0.081477076\n",
      "  \n",
      "majorAxis[iTrk][0][0] =  0.00013397264\n",
      "majorAxis[iTrk][1][0] =  0.00094400026\n",
      "majorAxis[iTrk][2][0] =  0.12978876\n",
      "minorAxis_1[iTrk][0][0] =  17.492561\n",
      "minorAxis_1[iTrk][1][0] =  -2.4825466\n",
      "minorAxis_1[iTrk][2][0] =  1.1329301e-08\n",
      "minorAxis_2[iTrk][0][0] =  -2.4824798\n",
      "minorAxis_2[iTrk][1][0] =  -17.492088\n",
      "minorAxis_2[iTrk][2][0] =  0.12978874\n",
      "  \n",
      "majorAxis[iTrk][0][0] =  0.00043501743\n",
      "majorAxis[iTrk][1][0] =  -0.0016521378\n",
      "majorAxis[iTrk][2][0] =  0.17373301\n",
      "minorAxis_1[iTrk][0][0] =  -17.0855\n",
      "minorAxis_1[iTrk][1][0] =  -4.4987106\n",
      "minorAxis_1[iTrk][2][0] =  -7.7275175e-08\n",
      "minorAxis_2[iTrk][0][0] =  -4.4984937\n",
      "minorAxis_2[iTrk][1][0] =  17.084677\n",
      "minorAxis_2[iTrk][2][0] =  0.17373303\n",
      "  \n",
      "len(X) =  80000\n",
      "len(Xlist) =  1\n",
      "Loaded /share/lazy/will/data/June30_2020_80k_1.h5 in 150.3 s\n",
      "pocaMx.shape =  (80000,)\n",
      "nEvts =  80000\n",
      "len(pocaMx[0]) =  222\n",
      "len(pocaMx[1]) =  133\n",
      "len(pocaMx[2]) =  259\n",
      "len(pocaMx[3]) =  114\n",
      "len(pocaMx[4]) =  143\n",
      "majorAxis.shape =  (80000, 3)\n",
      "minorAxis_1.shape =  (80000, 3)\n",
      "minorAxis_2.shape =  (80000, 3)\n",
      "have entered six_ellipsoid_parameters\n",
      "  \n",
      " \n",
      "  nEvts =  80000\n",
      " iEvt, nTrks =  0 222\n",
      " iEvt, nTrks =  1 133\n",
      " iEvt, nTrks =  2 259\n",
      " iEvt, nTrks =  3 114\n",
      " iEvt, nTrks =  4 143\n",
      " iEvt, nTrks =  5 136\n",
      " iEvt, nTrks =  6 397\n",
      " iEvt, nTrks =  7 370\n",
      " iEvt, nTrks =  8 97\n",
      " iEvt, nTrks =  9 67\n",
      "A.shape =  (80000,)\n",
      "majorAxis[iTrk][0][0] =  -0.001036478\n",
      "majorAxis[iTrk][1][0] =  0.0009833863\n",
      "majorAxis[iTrk][2][0] =  0.15887721\n",
      "minorAxis_1[iTrk][0][0] =  -12.160475\n",
      "minorAxis_1[iTrk][1][0] =  -12.817002\n",
      "minorAxis_1[iTrk][2][0] =  0.0\n",
      "minorAxis_2[iTrk][0][0] =  -12.816484\n",
      "minorAxis_2[iTrk][1][0] =  12.159985\n",
      "minorAxis_2[iTrk][2][0] =  -0.15887721\n",
      "  \n",
      "majorAxis[iTrk][0][0] =  0.0016579849\n",
      "majorAxis[iTrk][1][0] =  0.0020989499\n",
      "majorAxis[iTrk][2][0] =  0.21738033\n",
      "minorAxis_1[iTrk][0][0] =  -13.864233\n",
      "minorAxis_1[iTrk][1][0] =  10.95152\n",
      "minorAxis_1[iTrk][2][0] =  -3.3017489e-09\n",
      "minorAxis_2[iTrk][0][0] =  10.95069\n",
      "minorAxis_2[iTrk][1][0] =  13.863184\n",
      "minorAxis_2[iTrk][2][0] =  -0.21738033\n",
      "  \n",
      "majorAxis[iTrk][0][0] =  0.00012481198\n",
      "majorAxis[iTrk][1][0] =  -0.00028747538\n",
      "majorAxis[iTrk][2][0] =  0.07441149\n",
      "minorAxis_1[iTrk][0][0] =  -16.206305\n",
      "minorAxis_1[iTrk][1][0] =  -7.036224\n",
      "minorAxis_1[iTrk][2][0] =  5.3456716e-08\n",
      "minorAxis_2[iTrk][0][0] =  -7.0361605\n",
      "minorAxis_2[iTrk][1][0] =  16.20616\n",
      "minorAxis_2[iTrk][2][0] =  0.07441148\n",
      "  \n",
      "majorAxis[iTrk][0][0] =  -0.007920195\n",
      "majorAxis[iTrk][1][0] =  -0.009694931\n",
      "majorAxis[iTrk][2][0] =  0.47021532\n",
      "minorAxis_1[iTrk][0][0] =  -13.682467\n",
      "minorAxis_1[iTrk][1][0] =  11.177781\n",
      "minorAxis_1[iTrk][2][0] =  1.8638048e-10\n",
      "minorAxis_2[iTrk][0][0] =  11.173822\n",
      "minorAxis_2[iTrk][1][0] =  13.677622\n",
      "minorAxis_2[iTrk][2][0] =  0.47021535\n",
      "  \n",
      "majorAxis[iTrk][0][0] =  0.00038854493\n",
      "majorAxis[iTrk][1][0] =  0.0009230774\n",
      "majorAxis[iTrk][2][0] =  0.13301943\n",
      "minorAxis_1[iTrk][0][0] =  -16.284061\n",
      "minorAxis_1[iTrk][1][0] =  6.854344\n",
      "minorAxis_1[iTrk][2][0] =  2.2469074e-07\n",
      "minorAxis_2[iTrk][0][0] =  6.8541493\n",
      "minorAxis_2[iTrk][1][0] =  16.283602\n",
      "minorAxis_2[iTrk][2][0] =  -0.13301945\n",
      "  \n",
      "majorAxis[iTrk][0][0] =  -5.6093595e-05\n",
      "majorAxis[iTrk][1][0] =  0.000114469876\n",
      "majorAxis[iTrk][2][0] =  0.04745733\n",
      "minorAxis_1[iTrk][0][0] =  15.865369\n",
      "minorAxis_1[iTrk][1][0] =  7.774496\n",
      "minorAxis_1[iTrk][2][0] =  1.8465234e-06\n",
      "minorAxis_2[iTrk][0][0] =  7.774468\n",
      "minorAxis_2[iTrk][1][0] =  -15.865313\n",
      "minorAxis_2[iTrk][2][0] =  0.04745733\n",
      "  \n",
      "majorAxis[iTrk][0][0] =  9.375396e-05\n",
      "majorAxis[iTrk][1][0] =  0.0002926058\n",
      "majorAxis[iTrk][2][0] =  0.07367872\n",
      "minorAxis_1[iTrk][0][0] =  -16.825275\n",
      "minorAxis_1[iTrk][1][0] =  5.390994\n",
      "minorAxis_1[iTrk][2][0] =  -2.1861728e-08\n",
      "minorAxis_2[iTrk][0][0] =  5.3909473\n",
      "minorAxis_2[iTrk][1][0] =  16.825129\n",
      "minorAxis_2[iTrk][2][0] =  -0.07367872\n",
      "  \n",
      "majorAxis[iTrk][0][0] =  -1.1543522e-06\n",
      "majorAxis[iTrk][1][0] =  2.8112001e-05\n",
      "majorAxis[iTrk][2][0] =  0.022295665\n",
      "minorAxis_1[iTrk][0][0] =  -17.652967\n",
      "minorAxis_1[iTrk][1][0] =  -0.7248769\n",
      "minorAxis_1[iTrk][2][0] =  1.7815448e-07\n",
      "minorAxis_2[iTrk][0][0] =  -0.7248763\n",
      "minorAxis_2[iTrk][1][0] =  17.652954\n",
      "minorAxis_2[iTrk][2][0] =  -0.022295661\n",
      "  \n",
      "majorAxis[iTrk][0][0] =  -0.2612214\n",
      "majorAxis[iTrk][1][0] =  0.83076316\n",
      "majorAxis[iTrk][2][0] =  3.8745012\n",
      "minorAxis_1[iTrk][0][0] =  -16.85429\n",
      "minorAxis_1[iTrk][1][0] =  -5.299587\n",
      "minorAxis_1[iTrk][2][0] =  2.0865195e-11\n",
      "minorAxis_2[iTrk][0][0] =  -5.1705856\n",
      "minorAxis_2[iTrk][1][0] =  16.444027\n",
      "minorAxis_2[iTrk][2][0] =  -3.874501\n",
      "  \n",
      "majorAxis[iTrk][0][0] =  -0.057592034\n",
      "majorAxis[iTrk][1][0] =  0.06503555\n",
      "majorAxis[iTrk][2][0] =  1.2373537\n",
      "minorAxis_1[iTrk][0][0] =  13.227038\n",
      "minorAxis_1[iTrk][1][0] =  11.713163\n",
      "minorAxis_1[iTrk][2][0] =  1.7679876e-10\n",
      "minorAxis_2[iTrk][0][0] =  11.684402\n",
      "minorAxis_2[iTrk][1][0] =  -13.194561\n",
      "minorAxis_2[iTrk][2][0] =  1.2373537\n",
      "  \n",
      "len(X) =  80000\n",
      "len(Xlist) =  2\n",
      "Loaded /share/lazy/will/data/June30_2020_80k_2.h5 in 148.9 s\n",
      "pocaMx.shape =  (80000,)\n"
     ]
    },
    {
     "name": "stdout",
     "output_type": "stream",
     "text": [
      "nEvts =  80000\n",
      "len(pocaMx[0]) =  196\n",
      "len(pocaMx[1]) =  35\n",
      "len(pocaMx[2]) =  265\n",
      "len(pocaMx[3]) =  128\n",
      "len(pocaMx[4]) =  124\n",
      "majorAxis.shape =  (80000, 3)\n",
      "minorAxis_1.shape =  (80000, 3)\n",
      "minorAxis_2.shape =  (80000, 3)\n",
      "have entered six_ellipsoid_parameters\n",
      "  \n",
      " \n",
      "  nEvts =  80000\n",
      " iEvt, nTrks =  0 196\n",
      " iEvt, nTrks =  1 35\n",
      " iEvt, nTrks =  2 265\n",
      " iEvt, nTrks =  3 128\n",
      " iEvt, nTrks =  4 124\n",
      " iEvt, nTrks =  5 122\n",
      " iEvt, nTrks =  6 300\n",
      " iEvt, nTrks =  7 179\n",
      " iEvt, nTrks =  8 243\n",
      " iEvt, nTrks =  9 112\n",
      "A.shape =  (80000,)\n",
      "majorAxis[iTrk][0][0] =  -2.440992e-05\n",
      "majorAxis[iTrk][1][0] =  -0.00038087237\n",
      "majorAxis[iTrk][2][0] =  0.08211532\n",
      "minorAxis_1[iTrk][0][0] =  -17.631672\n",
      "minorAxis_1[iTrk][1][0] =  1.130005\n",
      "minorAxis_1[iTrk][2][0] =  4.7444193e-08\n",
      "minorAxis_2[iTrk][0][0] =  1.1299927\n",
      "minorAxis_2[iTrk][1][0] =  17.631481\n",
      "minorAxis_2[iTrk][2][0] =  0.08211532\n",
      "  \n",
      "majorAxis[iTrk][0][0] =  -0.02277395\n",
      "majorAxis[iTrk][1][0] =  0.0014473597\n",
      "majorAxis[iTrk][2][0] =  0.6347583\n",
      "minorAxis_1[iTrk][0][0] =  -1.1205891\n",
      "minorAxis_1[iTrk][1][0] =  -17.632273\n",
      "minorAxis_1[iTrk][2][0] =  2.1543272e-09\n",
      "minorAxis_2[iTrk][0][0] =  -17.620888\n",
      "minorAxis_2[iTrk][1][0] =  1.1198657\n",
      "minorAxis_2[iTrk][2][0] =  -0.63475823\n",
      "  \n",
      "majorAxis[iTrk][0][0] =  0.0004024825\n",
      "majorAxis[iTrk][1][0] =  -0.00023784715\n",
      "majorAxis[iTrk][2][0] =  0.090883136\n",
      "minorAxis_1[iTrk][0][0] =  -8.988615\n",
      "minorAxis_1[iTrk][1][0] =  -15.210441\n",
      "minorAxis_1[iTrk][2][0] =  -6.56547e-08\n",
      "minorAxis_2[iTrk][0][0] =  -15.21024\n",
      "minorAxis_2[iTrk][1][0] =  8.988497\n",
      "minorAxis_2[iTrk][2][0] =  0.090883136\n",
      "  \n",
      "majorAxis[iTrk][0][0] =  0.0068744724\n",
      "majorAxis[iTrk][1][0] =  0.0017050834\n",
      "majorAxis[iTrk][2][0] =  0.3537121\n",
      "minorAxis_1[iTrk][0][0] =  4.2532983\n",
      "minorAxis_1[iTrk][1][0] =  -17.148241\n",
      "minorAxis_1[iTrk][2][0] =  1.1939819e-09\n",
      "minorAxis_2[iTrk][0][0] =  -17.144806\n",
      "minorAxis_2[iTrk][1][0] =  -4.252446\n",
      "minorAxis_2[iTrk][2][0] =  0.3537121\n",
      "  \n",
      "majorAxis[iTrk][0][0] =  -0.004920899\n",
      "majorAxis[iTrk][1][0] =  0.0009170567\n",
      "majorAxis[iTrk][2][0] =  0.2973651\n",
      "minorAxis_1[iTrk][0][0] =  -3.236844\n",
      "minorAxis_1[iTrk][1][0] =  -17.36881\n",
      "minorAxis_1[iTrk][2][0] =  -4.7397712e-09\n",
      "minorAxis_2[iTrk][0][0] =  -17.36635\n",
      "minorAxis_2[iTrk][1][0] =  3.2363856\n",
      "minorAxis_2[iTrk][2][0] =  -0.29736507\n",
      "  \n",
      "majorAxis[iTrk][0][0] =  -0.0001240533\n",
      "majorAxis[iTrk][1][0] =  0.00033394952\n",
      "majorAxis[iTrk][2][0] =  0.079335004\n",
      "minorAxis_1[iTrk][0][0] =  -16.562042\n",
      "minorAxis_1[iTrk][1][0] =  -6.1523557\n",
      "minorAxis_1[iTrk][2][0] =  3.1261713e-08\n",
      "minorAxis_2[iTrk][0][0] =  -6.1522937\n",
      "minorAxis_2[iTrk][1][0] =  16.561876\n",
      "minorAxis_2[iTrk][2][0] =  -0.079335004\n",
      "  \n",
      "majorAxis[iTrk][0][0] =  0.00010132754\n",
      "majorAxis[iTrk][1][0] =  6.684385e-05\n",
      "majorAxis[iTrk][2][0] =  0.046310693\n",
      "minorAxis_1[iTrk][0][0] =  -9.728917\n",
      "minorAxis_1[iTrk][1][0] =  14.747911\n",
      "minorAxis_1[iTrk][2][0] =  -2.3591362e-07\n",
      "minorAxis_2[iTrk][0][0] =  14.74786\n",
      "minorAxis_2[iTrk][1][0] =  9.728883\n",
      "minorAxis_2[iTrk][2][0] =  -0.04631069\n",
      "  \n",
      "majorAxis[iTrk][0][0] =  0.0042806785\n",
      "majorAxis[iTrk][1][0] =  0.004939851\n",
      "majorAxis[iTrk][2][0] =  0.3398017\n",
      "minorAxis_1[iTrk][0][0] =  13.3521\n",
      "minorAxis_1[iTrk][1][0] =  -11.5704\n",
      "minorAxis_1[iTrk][2][0] =  1.21654296e-08\n",
      "minorAxis_2[iTrk][0][0] =  -11.56826\n",
      "minorAxis_2[iTrk][1][0] =  -13.349631\n",
      "minorAxis_2[iTrk][2][0] =  0.33980173\n",
      "  \n",
      "majorAxis[iTrk][0][0] =  -0.00013103899\n",
      "majorAxis[iTrk][1][0] =  -0.0006021903\n",
      "majorAxis[iTrk][2][0] =  0.10434653\n",
      "minorAxis_1[iTrk][0][0] =  -17.26384\n",
      "minorAxis_1[iTrk][1][0] =  3.7566798\n",
      "minorAxis_1[iTrk][2][0] =  -9.616703e-08\n",
      "minorAxis_2[iTrk][0][0] =  3.7566135\n",
      "minorAxis_2[iTrk][1][0] =  17.263535\n",
      "minorAxis_2[iTrk][2][0] =  0.10434652\n",
      "  \n",
      "majorAxis[iTrk][0][0] =  0.0016481678\n",
      "majorAxis[iTrk][1][0] =  -0.0019788505\n",
      "majorAxis[iTrk][2][0] =  0.21330062\n",
      "minorAxis_1[iTrk][0][0] =  -13.575765\n",
      "minorAxis_1[iTrk][1][0] =  -11.307139\n",
      "minorAxis_1[iTrk][2][0] =  8.543098e-09\n",
      "minorAxis_2[iTrk][0][0] =  -11.306314\n",
      "minorAxis_2[iTrk][1][0] =  13.574774\n",
      "minorAxis_2[iTrk][2][0] =  0.21330062\n",
      "  \n",
      "len(X) =  80000\n",
      "len(Xlist) =  3\n",
      "Loaded /share/lazy/will/data/June30_2020_80k_3.h5 in 154.1 s\n",
      "pocaMx.shape =  (80000,)\n",
      "nEvts =  80000\n",
      "len(pocaMx[0]) =  204\n",
      "len(pocaMx[1]) =  33\n",
      "len(pocaMx[2]) =  206\n",
      "len(pocaMx[3]) =  150\n",
      "len(pocaMx[4]) =  96\n",
      "majorAxis.shape =  (80000, 3)\n",
      "minorAxis_1.shape =  (80000, 3)\n",
      "minorAxis_2.shape =  (80000, 3)\n",
      "have entered six_ellipsoid_parameters\n",
      "  \n",
      " \n",
      "  nEvts =  80000\n",
      " iEvt, nTrks =  0 204\n",
      " iEvt, nTrks =  1 33\n",
      " iEvt, nTrks =  2 206\n",
      " iEvt, nTrks =  3 150\n",
      " iEvt, nTrks =  4 96\n",
      " iEvt, nTrks =  5 10\n",
      " iEvt, nTrks =  6 174\n",
      " iEvt, nTrks =  7 320\n",
      " iEvt, nTrks =  8 164\n",
      " iEvt, nTrks =  9 119\n",
      "A.shape =  (80000,)\n",
      "majorAxis[iTrk][0][0] =  0.00057876867\n",
      "majorAxis[iTrk][1][0] =  0.00037603904\n",
      "majorAxis[iTrk][2][0] =  0.110427074\n",
      "minorAxis_1[iTrk][0][0] =  9.62588\n",
      "minorAxis_1[iTrk][1][0] =  -14.81537\n",
      "minorAxis_1[iTrk][2][0] =  8.391163e-09\n",
      "minorAxis_2[iTrk][0][0] =  -14.815081\n",
      "minorAxis_2[iTrk][1][0] =  -9.625692\n",
      "minorAxis_2[iTrk][2][0] =  0.11042709\n",
      "  \n",
      "majorAxis[iTrk][0][0] =  -7.687664e-05\n",
      "majorAxis[iTrk][1][0] =  -0.0017985329\n",
      "majorAxis[iTrk][2][0] =  0.17833562\n",
      "minorAxis_1[iTrk][0][0] =  -17.651728\n",
      "minorAxis_1[iTrk][1][0] =  0.7545069\n",
      "minorAxis_1[iTrk][2][0] =  -7.932265e-09\n",
      "minorAxis_2[iTrk][0][0] =  0.75446844\n",
      "minorAxis_2[iTrk][1][0] =  17.650827\n",
      "minorAxis_2[iTrk][2][0] =  0.17833562\n",
      "  \n",
      "majorAxis[iTrk][0][0] =  4.5855802e-05\n",
      "majorAxis[iTrk][1][0] =  -0.00054240844\n",
      "majorAxis[iTrk][2][0] =  0.098067455\n",
      "minorAxis_1[iTrk][0][0] =  17.605043\n",
      "minorAxis_1[iTrk][1][0] =  1.4883496\n",
      "minorAxis_1[iTrk][2][0] =  -2.7847218e-08\n",
      "minorAxis_2[iTrk][0][0] =  1.4883265\n",
      "minorAxis_2[iTrk][1][0] =  -17.604773\n",
      "minorAxis_2[iTrk][2][0] =  -0.098067455\n",
      "  \n",
      "majorAxis[iTrk][0][0] =  -0.0013144773\n",
      "majorAxis[iTrk][1][0] =  0.0008680699\n",
      "majorAxis[iTrk][2][0] =  0.16682307\n",
      "minorAxis_1[iTrk][0][0] =  -9.736217\n",
      "minorAxis_1[iTrk][1][0] =  -14.743094\n",
      "minorAxis_1[iTrk][2][0] =  -1.7552136e-08\n",
      "minorAxis_2[iTrk][0][0] =  -14.742435\n",
      "minorAxis_2[iTrk][1][0] =  9.735782\n",
      "minorAxis_2[iTrk][2][0] =  -0.16682304\n",
      "  \n",
      "majorAxis[iTrk][0][0] =  0.032227762\n",
      "majorAxis[iTrk][1][0] =  0.007741693\n",
      "majorAxis[iTrk][2][0] =  0.76488173\n",
      "minorAxis_1[iTrk][0][0] =  -4.1267405\n",
      "minorAxis_1[iTrk][1][0] =  17.179138\n",
      "minorAxis_1[iTrk][2][0] =  -2.3529467e-10\n",
      "minorAxis_2[iTrk][0][0] =  17.16303\n",
      "minorAxis_2[iTrk][1][0] =  4.122871\n",
      "minorAxis_2[iTrk][2][0] =  -0.7648817\n",
      "  \n",
      "majorAxis[iTrk][0][0] =  1.9753945\n",
      "majorAxis[iTrk][1][0] =  2.5669005\n",
      "majorAxis[iTrk][2][0] =  7.226382\n",
      "minorAxis_1[iTrk][0][0] =  14.0017\n",
      "minorAxis_1[iTrk][1][0] =  -10.7752075\n",
      "minorAxis_1[iTrk][2][0] =  5.3286344e-11\n",
      "minorAxis_2[iTrk][0][0] =  -9.832683\n",
      "minorAxis_2[iTrk][1][0] =  -12.776951\n",
      "minorAxis_2[iTrk][2][0] =  7.226381\n",
      "  \n",
      "majorAxis[iTrk][0][0] =  -0.0026900356\n",
      "majorAxis[iTrk][1][0] =  -0.0015841618\n",
      "majorAxis[iTrk][2][0] =  0.234843\n",
      "minorAxis_1[iTrk][0][0] =  -8.965469\n",
      "minorAxis_1[iTrk][1][0] =  15.224096\n",
      "minorAxis_1[iTrk][2][0] =  2.8236277e-08\n",
      "minorAxis_2[iTrk][0][0] =  15.222751\n",
      "minorAxis_2[iTrk][1][0] =  8.964677\n",
      "minorAxis_2[iTrk][2][0] =  0.234843\n",
      "  \n",
      "majorAxis[iTrk][0][0] =  -0.0001692281\n",
      "majorAxis[iTrk][1][0] =  0.0003505444\n",
      "majorAxis[iTrk][2][0] =  0.08292902\n",
      "minorAxis_1[iTrk][0][0] =  -15.910811\n",
      "minorAxis_1[iTrk][1][0] =  -7.68107\n",
      "minorAxis_1[iTrk][2][0] =  1.587002e-08\n",
      "minorAxis_2[iTrk][0][0] =  -7.680986\n",
      "minorAxis_2[iTrk][1][0] =  15.910635\n",
      "minorAxis_2[iTrk][2][0] =  -0.08292903\n",
      "  \n",
      "majorAxis[iTrk][0][0] =  0.0017714669\n",
      "majorAxis[iTrk][1][0] =  -0.001515166\n",
      "majorAxis[iTrk][2][0] =  0.20293355\n",
      "minorAxis_1[iTrk][0][0] =  11.483943\n",
      "minorAxis_1[iTrk][1][0] =  13.426532\n",
      "minorAxis_1[iTrk][2][0] =  -2.7840934e-09\n",
      "minorAxis_2[iTrk][0][0] =  13.425648\n",
      "minorAxis_2[iTrk][1][0] =  -11.483187\n",
      "minorAxis_2[iTrk][2][0] =  -0.20293356\n",
      "  \n",
      "majorAxis[iTrk][0][0] =  0.0006359923\n",
      "majorAxis[iTrk][1][0] =  -0.0003371759\n",
      "majorAxis[iTrk][2][0] =  0.112773284\n",
      "minorAxis_1[iTrk][0][0] =  8.275655\n",
      "minorAxis_1[iTrk][1][0] =  15.609813\n",
      "minorAxis_1[iTrk][2][0] =  -5.6373224e-08\n",
      "minorAxis_2[iTrk][0][0] =  15.609494\n",
      "minorAxis_2[iTrk][1][0] =  -8.275486\n",
      "minorAxis_2[iTrk][2][0] =  -0.11277328\n",
      "  \n",
      "len(X) =  80000\n",
      "len(Xlist) =  4\n",
      "Loaded /share/lazy/will/data/June30_2020_80k_4.h5 in 153.4 s\n",
      "outer loop X.shape =  (320000, 9, 600)\n",
      "Constructing 320000 event dataset took 1.638 s\n",
      "x_t.shape =  torch.Size([320000, 9, 600])\n",
      "x_t.shape[0] =  320000\n",
      "x_t.shape[1] =  9\n",
      "x_t.shape =  torch.Size([320000, 9, 600])\n",
      "Loading data...\n"
     ]
    },
    {
     "name": "stdout",
     "output_type": "stream",
     "text": [
      "pocaMx.shape =  (20000,)\n",
      "nEvts =  20000\n",
      "len(pocaMx[0]) =  211\n",
      "len(pocaMx[1]) =  21\n",
      "len(pocaMx[2]) =  20\n",
      "len(pocaMx[3]) =  198\n",
      "len(pocaMx[4]) =  233\n",
      "majorAxis.shape =  (20000, 3)\n",
      "minorAxis_1.shape =  (20000, 3)\n",
      "minorAxis_2.shape =  (20000, 3)\n",
      "have entered six_ellipsoid_parameters\n",
      "  \n",
      " \n",
      "  nEvts =  20000\n",
      " iEvt, nTrks =  0 211\n",
      " iEvt, nTrks =  1 21\n",
      " iEvt, nTrks =  2 20\n",
      " iEvt, nTrks =  3 198\n",
      " iEvt, nTrks =  4 233\n",
      " iEvt, nTrks =  5 85\n",
      " iEvt, nTrks =  6 223\n",
      " iEvt, nTrks =  7 425\n",
      " iEvt, nTrks =  8 252\n",
      " iEvt, nTrks =  9 169\n",
      "A.shape =  (20000,)\n",
      "majorAxis[iTrk][0][0] =  -0.00023452607\n",
      "majorAxis[iTrk][1][0] =  -0.00047206535\n",
      "majorAxis[iTrk][2][0] =  0.096502915\n",
      "minorAxis_1[iTrk][0][0] =  -15.822749\n",
      "minorAxis_1[iTrk][1][0] =  7.8608756\n",
      "minorAxis_1[iTrk][2][0] =  -2.6228399e-08\n",
      "minorAxis_2[iTrk][0][0] =  7.860759\n",
      "minorAxis_2[iTrk][1][0] =  15.822513\n",
      "minorAxis_2[iTrk][2][0] =  0.096502915\n",
      "  \n",
      "majorAxis[iTrk][0][0] =  -0.37655562\n",
      "majorAxis[iTrk][1][0] =  0.2768704\n",
      "majorAxis[iTrk][2][0] =  2.8546858\n",
      "minorAxis_1[iTrk][0][0] =  -10.466048\n",
      "minorAxis_1[iTrk][1][0] =  -14.234274\n",
      "minorAxis_1[iTrk][2][0] =  2.2974699e-11\n",
      "minorAxis_2[iTrk][0][0] =  -14.04724\n",
      "minorAxis_2[iTrk][1][0] =  10.328527\n",
      "minorAxis_2[iTrk][2][0] =  -2.8546853\n",
      "  \n",
      "majorAxis[iTrk][0][0] =  -0.024279848\n",
      "majorAxis[iTrk][1][0] =  0.0019689242\n",
      "majorAxis[iTrk][2][0] =  0.65580803\n",
      "minorAxis_1[iTrk][0][0] =  -1.4280497\n",
      "minorAxis_1[iTrk][1][0] =  -17.610037\n",
      "minorAxis_1[iTrk][2][0] =  -6.123401e-10\n",
      "minorAxis_2[iTrk][0][0] =  -17.597902\n",
      "minorAxis_2[iTrk][1][0] =  1.4270656\n",
      "minorAxis_2[iTrk][2][0] =  -0.6558081\n",
      "  \n",
      "majorAxis[iTrk][0][0] =  -0.007825993\n",
      "majorAxis[iTrk][1][0] =  0.004052097\n",
      "majorAxis[iTrk][2][0] =  0.3945435\n",
      "minorAxis_1[iTrk][0][0] =  8.123606\n",
      "minorAxis_1[iTrk][1][0] =  15.689478\n",
      "minorAxis_1[iTrk][2][0] =  -2.4940747e-10\n",
      "minorAxis_2[iTrk][0][0] =  15.685566\n",
      "minorAxis_2[iTrk][1][0] =  -8.12158\n",
      "minorAxis_2[iTrk][2][0] =  0.3945435\n",
      "  \n",
      "majorAxis[iTrk][0][0] =  0.0046102717\n",
      "majorAxis[iTrk][1][0] =  -0.0016007021\n",
      "majorAxis[iTrk][2][0] =  0.29361814\n",
      "minorAxis_1[iTrk][0][0] =  -5.794979\n",
      "minorAxis_1[iTrk][1][0] =  -16.690445\n",
      "minorAxis_1[iTrk][2][0] =  2.4897104e-09\n",
      "minorAxis_2[iTrk][0][0] =  -16.688139\n",
      "minorAxis_2[iTrk][1][0] =  5.794179\n",
      "minorAxis_2[iTrk][2][0] =  0.2936181\n",
      "  \n",
      "majorAxis[iTrk][0][0] =  -0.00020041714\n",
      "majorAxis[iTrk][1][0] =  0.00010468164\n",
      "majorAxis[iTrk][2][0] =  0.06320469\n",
      "minorAxis_1[iTrk][0][0] =  8.179679\n",
      "minorAxis_1[iTrk][1][0] =  15.660318\n",
      "minorAxis_1[iTrk][2][0] =  7.40176e-08\n",
      "minorAxis_2[iTrk][0][0] =  15.660218\n",
      "minorAxis_2[iTrk][1][0] =  -8.179626\n",
      "minorAxis_2[iTrk][2][0] =  0.06320469\n",
      "  \n",
      "majorAxis[iTrk][0][0] =  -0.00020603223\n",
      "majorAxis[iTrk][1][0] =  -0.0005662605\n",
      "majorAxis[iTrk][2][0] =  0.10317981\n",
      "minorAxis_1[iTrk][0][0] =  -16.603\n",
      "minorAxis_1[iTrk][1][0] =  6.040953\n",
      "minorAxis_1[iTrk][2][0] =  4.5812504e-07\n",
      "minorAxis_2[iTrk][0][0] =  6.0408506\n",
      "minorAxis_2[iTrk][1][0] =  16.602718\n",
      "minorAxis_2[iTrk][2][0] =  0.10317982\n",
      "  \n",
      "majorAxis[iTrk][0][0] =  -0.00040561036\n",
      "majorAxis[iTrk][1][0] =  0.00014461782\n",
      "majorAxis[iTrk][2][0] =  0.0872241\n",
      "minorAxis_1[iTrk][0][0] =  -5.933496\n",
      "minorAxis_1[iTrk][1][0] =  -16.641706\n",
      "minorAxis_1[iTrk][2][0] =  1.0720762e-08\n",
      "minorAxis_2[iTrk][0][0] =  -16.641502\n",
      "minorAxis_2[iTrk][1][0] =  5.9334235\n",
      "minorAxis_2[iTrk][2][0] =  -0.0872241\n",
      "  \n",
      "majorAxis[iTrk][0][0] =  0.00038461428\n",
      "majorAxis[iTrk][1][0] =  -3.4232737e-05\n",
      "majorAxis[iTrk][2][0] =  0.08259597\n",
      "minorAxis_1[iTrk][0][0] =  -1.5663412\n",
      "minorAxis_1[iTrk][1][0] =  -17.598276\n",
      "minorAxis_1[iTrk][2][0] =  3.2106848e-07\n",
      "minorAxis_2[iTrk][0][0] =  -17.598082\n",
      "minorAxis_2[iTrk][1][0] =  1.5663238\n",
      "minorAxis_2[iTrk][2][0] =  0.08259596\n",
      "  \n",
      "majorAxis[iTrk][0][0] =  -0.022277953\n",
      "majorAxis[iTrk][1][0] =  -0.0046837274\n",
      "majorAxis[iTrk][2][0] =  0.63399464\n",
      "minorAxis_1[iTrk][0][0] =  -3.6350286\n",
      "minorAxis_1[iTrk][1][0] =  17.289862\n",
      "minorAxis_1[iTrk][2][0] =  9.566169e-10\n",
      "minorAxis_2[iTrk][0][0] =  17.278727\n",
      "minorAxis_2[iTrk][1][0] =  3.6326876\n",
      "minorAxis_2[iTrk][2][0] =  0.6339946\n",
      "  \n",
      "len(X) =  20000\n",
      "len(Xlist) =  1\n",
      "Loaded dataAA/20K_POCA_kernel_evts_200926.h5 in 36.5 s\n",
      "outer loop X.shape =  (20000, 9, 600)\n",
      "Constructing 2000 event dataset took 0.01398 s\n",
      "x_t.shape =  torch.Size([2000, 9, 600])\n",
      "x_t.shape[0] =  2000\n",
      "x_t.shape[1] =  9\n",
      "x_t.shape =  torch.Size([2000, 9, 600])\n"
     ]
    }
   ],
   "source": [
    "\n",
    "## Training dataset. You can put as many files here as desired.\n",
    "\n",
    "##train_loader = collect_t2kde_data('/share/lazy/pv-finder/20k_evts_for_KDE_learning_200716.h5',\n",
    "train_loader = collect_t2kde_data('/share/lazy/will/data/June30_2020_80k_1.h5', \n",
    "                                    '/share/lazy/will/data/June30_2020_80k_2.h5',\n",
    "                                    '/share/lazy/will/data/June30_2020_80k_3.h5',\n",
    "                                    '/share/lazy/will/data/June30_2020_80k_4.h5',\n",
    "                             batch_size=batch_size,\n",
    "## if we are using a larger dataset (240K events, with the datasets above, and 11 GB  of GPU memory),\n",
    "## the dataset will overflow the GPU memory; device=device will allow the data to move back\n",
    "## and forth between the CPU and GPU memory. While this allows use of a larger dataset, it slows\n",
    "## down performance by about 10%.  So comment out when not needed.\n",
    "##                          device=device,\n",
    "##                           slice = slice(None,18000)\n",
    "                           )\n",
    "                            \n",
    "# Validation dataset. You can slice to reduce the size.\n",
    "## mds no separate validation set yet,\n",
    "val_loader = collect_t2kde_data('dataAA/20K_POCA_kernel_evts_200926.h5',\n",
    "                            batch_size=batch_size,\n",
    "##                            device=device,\n",
    "                            slice = slice(18000,None)\n",
    "                           )\n"
   ]
  },
  {
   "cell_type": "code",
   "execution_count": 16,
   "metadata": {
    "scrolled": false
   },
   "outputs": [
    {
     "data": {
      "application/javascript": [
       "/* Put everything inside the global mpl namespace */\n",
       "window.mpl = {};\n",
       "\n",
       "\n",
       "mpl.get_websocket_type = function() {\n",
       "    if (typeof(WebSocket) !== 'undefined') {\n",
       "        return WebSocket;\n",
       "    } else if (typeof(MozWebSocket) !== 'undefined') {\n",
       "        return MozWebSocket;\n",
       "    } else {\n",
       "        alert('Your browser does not have WebSocket support. ' +\n",
       "              'Please try Chrome, Safari or Firefox ≥ 6. ' +\n",
       "              'Firefox 4 and 5 are also supported but you ' +\n",
       "              'have to enable WebSockets in about:config.');\n",
       "    };\n",
       "}\n",
       "\n",
       "mpl.figure = function(figure_id, websocket, ondownload, parent_element) {\n",
       "    this.id = figure_id;\n",
       "\n",
       "    this.ws = websocket;\n",
       "\n",
       "    this.supports_binary = (this.ws.binaryType != undefined);\n",
       "\n",
       "    if (!this.supports_binary) {\n",
       "        var warnings = document.getElementById(\"mpl-warnings\");\n",
       "        if (warnings) {\n",
       "            warnings.style.display = 'block';\n",
       "            warnings.textContent = (\n",
       "                \"This browser does not support binary websocket messages. \" +\n",
       "                    \"Performance may be slow.\");\n",
       "        }\n",
       "    }\n",
       "\n",
       "    this.imageObj = new Image();\n",
       "\n",
       "    this.context = undefined;\n",
       "    this.message = undefined;\n",
       "    this.canvas = undefined;\n",
       "    this.rubberband_canvas = undefined;\n",
       "    this.rubberband_context = undefined;\n",
       "    this.format_dropdown = undefined;\n",
       "\n",
       "    this.image_mode = 'full';\n",
       "\n",
       "    this.root = $('<div/>');\n",
       "    this._root_extra_style(this.root)\n",
       "    this.root.attr('style', 'display: inline-block');\n",
       "\n",
       "    $(parent_element).append(this.root);\n",
       "\n",
       "    this._init_header(this);\n",
       "    this._init_canvas(this);\n",
       "    this._init_toolbar(this);\n",
       "\n",
       "    var fig = this;\n",
       "\n",
       "    this.waiting = false;\n",
       "\n",
       "    this.ws.onopen =  function () {\n",
       "            fig.send_message(\"supports_binary\", {value: fig.supports_binary});\n",
       "            fig.send_message(\"send_image_mode\", {});\n",
       "            if (mpl.ratio != 1) {\n",
       "                fig.send_message(\"set_dpi_ratio\", {'dpi_ratio': mpl.ratio});\n",
       "            }\n",
       "            fig.send_message(\"refresh\", {});\n",
       "        }\n",
       "\n",
       "    this.imageObj.onload = function() {\n",
       "            if (fig.image_mode == 'full') {\n",
       "                // Full images could contain transparency (where diff images\n",
       "                // almost always do), so we need to clear the canvas so that\n",
       "                // there is no ghosting.\n",
       "                fig.context.clearRect(0, 0, fig.canvas.width, fig.canvas.height);\n",
       "            }\n",
       "            fig.context.drawImage(fig.imageObj, 0, 0);\n",
       "        };\n",
       "\n",
       "    this.imageObj.onunload = function() {\n",
       "        fig.ws.close();\n",
       "    }\n",
       "\n",
       "    this.ws.onmessage = this._make_on_message_function(this);\n",
       "\n",
       "    this.ondownload = ondownload;\n",
       "}\n",
       "\n",
       "mpl.figure.prototype._init_header = function() {\n",
       "    var titlebar = $(\n",
       "        '<div class=\"ui-dialog-titlebar ui-widget-header ui-corner-all ' +\n",
       "        'ui-helper-clearfix\"/>');\n",
       "    var titletext = $(\n",
       "        '<div class=\"ui-dialog-title\" style=\"width: 100%; ' +\n",
       "        'text-align: center; padding: 3px;\"/>');\n",
       "    titlebar.append(titletext)\n",
       "    this.root.append(titlebar);\n",
       "    this.header = titletext[0];\n",
       "}\n",
       "\n",
       "\n",
       "\n",
       "mpl.figure.prototype._canvas_extra_style = function(canvas_div) {\n",
       "\n",
       "}\n",
       "\n",
       "\n",
       "mpl.figure.prototype._root_extra_style = function(canvas_div) {\n",
       "\n",
       "}\n",
       "\n",
       "mpl.figure.prototype._init_canvas = function() {\n",
       "    var fig = this;\n",
       "\n",
       "    var canvas_div = $('<div/>');\n",
       "\n",
       "    canvas_div.attr('style', 'position: relative; clear: both; outline: 0');\n",
       "\n",
       "    function canvas_keyboard_event(event) {\n",
       "        return fig.key_event(event, event['data']);\n",
       "    }\n",
       "\n",
       "    canvas_div.keydown('key_press', canvas_keyboard_event);\n",
       "    canvas_div.keyup('key_release', canvas_keyboard_event);\n",
       "    this.canvas_div = canvas_div\n",
       "    this._canvas_extra_style(canvas_div)\n",
       "    this.root.append(canvas_div);\n",
       "\n",
       "    var canvas = $('<canvas/>');\n",
       "    canvas.addClass('mpl-canvas');\n",
       "    canvas.attr('style', \"left: 0; top: 0; z-index: 0; outline: 0\")\n",
       "\n",
       "    this.canvas = canvas[0];\n",
       "    this.context = canvas[0].getContext(\"2d\");\n",
       "\n",
       "    var backingStore = this.context.backingStorePixelRatio ||\n",
       "\tthis.context.webkitBackingStorePixelRatio ||\n",
       "\tthis.context.mozBackingStorePixelRatio ||\n",
       "\tthis.context.msBackingStorePixelRatio ||\n",
       "\tthis.context.oBackingStorePixelRatio ||\n",
       "\tthis.context.backingStorePixelRatio || 1;\n",
       "\n",
       "    mpl.ratio = (window.devicePixelRatio || 1) / backingStore;\n",
       "\n",
       "    var rubberband = $('<canvas/>');\n",
       "    rubberband.attr('style', \"position: absolute; left: 0; top: 0; z-index: 1;\")\n",
       "\n",
       "    var pass_mouse_events = true;\n",
       "\n",
       "    canvas_div.resizable({\n",
       "        start: function(event, ui) {\n",
       "            pass_mouse_events = false;\n",
       "        },\n",
       "        resize: function(event, ui) {\n",
       "            fig.request_resize(ui.size.width, ui.size.height);\n",
       "        },\n",
       "        stop: function(event, ui) {\n",
       "            pass_mouse_events = true;\n",
       "            fig.request_resize(ui.size.width, ui.size.height);\n",
       "        },\n",
       "    });\n",
       "\n",
       "    function mouse_event_fn(event) {\n",
       "        if (pass_mouse_events)\n",
       "            return fig.mouse_event(event, event['data']);\n",
       "    }\n",
       "\n",
       "    rubberband.mousedown('button_press', mouse_event_fn);\n",
       "    rubberband.mouseup('button_release', mouse_event_fn);\n",
       "    // Throttle sequential mouse events to 1 every 20ms.\n",
       "    rubberband.mousemove('motion_notify', mouse_event_fn);\n",
       "\n",
       "    rubberband.mouseenter('figure_enter', mouse_event_fn);\n",
       "    rubberband.mouseleave('figure_leave', mouse_event_fn);\n",
       "\n",
       "    canvas_div.on(\"wheel\", function (event) {\n",
       "        event = event.originalEvent;\n",
       "        event['data'] = 'scroll'\n",
       "        if (event.deltaY < 0) {\n",
       "            event.step = 1;\n",
       "        } else {\n",
       "            event.step = -1;\n",
       "        }\n",
       "        mouse_event_fn(event);\n",
       "    });\n",
       "\n",
       "    canvas_div.append(canvas);\n",
       "    canvas_div.append(rubberband);\n",
       "\n",
       "    this.rubberband = rubberband;\n",
       "    this.rubberband_canvas = rubberband[0];\n",
       "    this.rubberband_context = rubberband[0].getContext(\"2d\");\n",
       "    this.rubberband_context.strokeStyle = \"#000000\";\n",
       "\n",
       "    this._resize_canvas = function(width, height) {\n",
       "        // Keep the size of the canvas, canvas container, and rubber band\n",
       "        // canvas in synch.\n",
       "        canvas_div.css('width', width)\n",
       "        canvas_div.css('height', height)\n",
       "\n",
       "        canvas.attr('width', width * mpl.ratio);\n",
       "        canvas.attr('height', height * mpl.ratio);\n",
       "        canvas.attr('style', 'width: ' + width + 'px; height: ' + height + 'px;');\n",
       "\n",
       "        rubberband.attr('width', width);\n",
       "        rubberband.attr('height', height);\n",
       "    }\n",
       "\n",
       "    // Set the figure to an initial 600x600px, this will subsequently be updated\n",
       "    // upon first draw.\n",
       "    this._resize_canvas(600, 600);\n",
       "\n",
       "    // Disable right mouse context menu.\n",
       "    $(this.rubberband_canvas).bind(\"contextmenu\",function(e){\n",
       "        return false;\n",
       "    });\n",
       "\n",
       "    function set_focus () {\n",
       "        canvas.focus();\n",
       "        canvas_div.focus();\n",
       "    }\n",
       "\n",
       "    window.setTimeout(set_focus, 100);\n",
       "}\n",
       "\n",
       "mpl.figure.prototype._init_toolbar = function() {\n",
       "    var fig = this;\n",
       "\n",
       "    var nav_element = $('<div/>');\n",
       "    nav_element.attr('style', 'width: 100%');\n",
       "    this.root.append(nav_element);\n",
       "\n",
       "    // Define a callback function for later on.\n",
       "    function toolbar_event(event) {\n",
       "        return fig.toolbar_button_onclick(event['data']);\n",
       "    }\n",
       "    function toolbar_mouse_event(event) {\n",
       "        return fig.toolbar_button_onmouseover(event['data']);\n",
       "    }\n",
       "\n",
       "    for(var toolbar_ind in mpl.toolbar_items) {\n",
       "        var name = mpl.toolbar_items[toolbar_ind][0];\n",
       "        var tooltip = mpl.toolbar_items[toolbar_ind][1];\n",
       "        var image = mpl.toolbar_items[toolbar_ind][2];\n",
       "        var method_name = mpl.toolbar_items[toolbar_ind][3];\n",
       "\n",
       "        if (!name) {\n",
       "            // put a spacer in here.\n",
       "            continue;\n",
       "        }\n",
       "        var button = $('<button/>');\n",
       "        button.addClass('ui-button ui-widget ui-state-default ui-corner-all ' +\n",
       "                        'ui-button-icon-only');\n",
       "        button.attr('role', 'button');\n",
       "        button.attr('aria-disabled', 'false');\n",
       "        button.click(method_name, toolbar_event);\n",
       "        button.mouseover(tooltip, toolbar_mouse_event);\n",
       "\n",
       "        var icon_img = $('<span/>');\n",
       "        icon_img.addClass('ui-button-icon-primary ui-icon');\n",
       "        icon_img.addClass(image);\n",
       "        icon_img.addClass('ui-corner-all');\n",
       "\n",
       "        var tooltip_span = $('<span/>');\n",
       "        tooltip_span.addClass('ui-button-text');\n",
       "        tooltip_span.html(tooltip);\n",
       "\n",
       "        button.append(icon_img);\n",
       "        button.append(tooltip_span);\n",
       "\n",
       "        nav_element.append(button);\n",
       "    }\n",
       "\n",
       "    var fmt_picker_span = $('<span/>');\n",
       "\n",
       "    var fmt_picker = $('<select/>');\n",
       "    fmt_picker.addClass('mpl-toolbar-option ui-widget ui-widget-content');\n",
       "    fmt_picker_span.append(fmt_picker);\n",
       "    nav_element.append(fmt_picker_span);\n",
       "    this.format_dropdown = fmt_picker[0];\n",
       "\n",
       "    for (var ind in mpl.extensions) {\n",
       "        var fmt = mpl.extensions[ind];\n",
       "        var option = $(\n",
       "            '<option/>', {selected: fmt === mpl.default_extension}).html(fmt);\n",
       "        fmt_picker.append(option);\n",
       "    }\n",
       "\n",
       "    // Add hover states to the ui-buttons\n",
       "    $( \".ui-button\" ).hover(\n",
       "        function() { $(this).addClass(\"ui-state-hover\");},\n",
       "        function() { $(this).removeClass(\"ui-state-hover\");}\n",
       "    );\n",
       "\n",
       "    var status_bar = $('<span class=\"mpl-message\"/>');\n",
       "    nav_element.append(status_bar);\n",
       "    this.message = status_bar[0];\n",
       "}\n",
       "\n",
       "mpl.figure.prototype.request_resize = function(x_pixels, y_pixels) {\n",
       "    // Request matplotlib to resize the figure. Matplotlib will then trigger a resize in the client,\n",
       "    // which will in turn request a refresh of the image.\n",
       "    this.send_message('resize', {'width': x_pixels, 'height': y_pixels});\n",
       "}\n",
       "\n",
       "mpl.figure.prototype.send_message = function(type, properties) {\n",
       "    properties['type'] = type;\n",
       "    properties['figure_id'] = this.id;\n",
       "    this.ws.send(JSON.stringify(properties));\n",
       "}\n",
       "\n",
       "mpl.figure.prototype.send_draw_message = function() {\n",
       "    if (!this.waiting) {\n",
       "        this.waiting = true;\n",
       "        this.ws.send(JSON.stringify({type: \"draw\", figure_id: this.id}));\n",
       "    }\n",
       "}\n",
       "\n",
       "\n",
       "mpl.figure.prototype.handle_save = function(fig, msg) {\n",
       "    var format_dropdown = fig.format_dropdown;\n",
       "    var format = format_dropdown.options[format_dropdown.selectedIndex].value;\n",
       "    fig.ondownload(fig, format);\n",
       "}\n",
       "\n",
       "\n",
       "mpl.figure.prototype.handle_resize = function(fig, msg) {\n",
       "    var size = msg['size'];\n",
       "    if (size[0] != fig.canvas.width || size[1] != fig.canvas.height) {\n",
       "        fig._resize_canvas(size[0], size[1]);\n",
       "        fig.send_message(\"refresh\", {});\n",
       "    };\n",
       "}\n",
       "\n",
       "mpl.figure.prototype.handle_rubberband = function(fig, msg) {\n",
       "    var x0 = msg['x0'] / mpl.ratio;\n",
       "    var y0 = (fig.canvas.height - msg['y0']) / mpl.ratio;\n",
       "    var x1 = msg['x1'] / mpl.ratio;\n",
       "    var y1 = (fig.canvas.height - msg['y1']) / mpl.ratio;\n",
       "    x0 = Math.floor(x0) + 0.5;\n",
       "    y0 = Math.floor(y0) + 0.5;\n",
       "    x1 = Math.floor(x1) + 0.5;\n",
       "    y1 = Math.floor(y1) + 0.5;\n",
       "    var min_x = Math.min(x0, x1);\n",
       "    var min_y = Math.min(y0, y1);\n",
       "    var width = Math.abs(x1 - x0);\n",
       "    var height = Math.abs(y1 - y0);\n",
       "\n",
       "    fig.rubberband_context.clearRect(\n",
       "        0, 0, fig.canvas.width / mpl.ratio, fig.canvas.height / mpl.ratio);\n",
       "\n",
       "    fig.rubberband_context.strokeRect(min_x, min_y, width, height);\n",
       "}\n",
       "\n",
       "mpl.figure.prototype.handle_figure_label = function(fig, msg) {\n",
       "    // Updates the figure title.\n",
       "    fig.header.textContent = msg['label'];\n",
       "}\n",
       "\n",
       "mpl.figure.prototype.handle_cursor = function(fig, msg) {\n",
       "    var cursor = msg['cursor'];\n",
       "    switch(cursor)\n",
       "    {\n",
       "    case 0:\n",
       "        cursor = 'pointer';\n",
       "        break;\n",
       "    case 1:\n",
       "        cursor = 'default';\n",
       "        break;\n",
       "    case 2:\n",
       "        cursor = 'crosshair';\n",
       "        break;\n",
       "    case 3:\n",
       "        cursor = 'move';\n",
       "        break;\n",
       "    }\n",
       "    fig.rubberband_canvas.style.cursor = cursor;\n",
       "}\n",
       "\n",
       "mpl.figure.prototype.handle_message = function(fig, msg) {\n",
       "    fig.message.textContent = msg['message'];\n",
       "}\n",
       "\n",
       "mpl.figure.prototype.handle_draw = function(fig, msg) {\n",
       "    // Request the server to send over a new figure.\n",
       "    fig.send_draw_message();\n",
       "}\n",
       "\n",
       "mpl.figure.prototype.handle_image_mode = function(fig, msg) {\n",
       "    fig.image_mode = msg['mode'];\n",
       "}\n",
       "\n",
       "mpl.figure.prototype.updated_canvas_event = function() {\n",
       "    // Called whenever the canvas gets updated.\n",
       "    this.send_message(\"ack\", {});\n",
       "}\n",
       "\n",
       "// A function to construct a web socket function for onmessage handling.\n",
       "// Called in the figure constructor.\n",
       "mpl.figure.prototype._make_on_message_function = function(fig) {\n",
       "    return function socket_on_message(evt) {\n",
       "        if (evt.data instanceof Blob) {\n",
       "            /* FIXME: We get \"Resource interpreted as Image but\n",
       "             * transferred with MIME type text/plain:\" errors on\n",
       "             * Chrome.  But how to set the MIME type?  It doesn't seem\n",
       "             * to be part of the websocket stream */\n",
       "            evt.data.type = \"image/png\";\n",
       "\n",
       "            /* Free the memory for the previous frames */\n",
       "            if (fig.imageObj.src) {\n",
       "                (window.URL || window.webkitURL).revokeObjectURL(\n",
       "                    fig.imageObj.src);\n",
       "            }\n",
       "\n",
       "            fig.imageObj.src = (window.URL || window.webkitURL).createObjectURL(\n",
       "                evt.data);\n",
       "            fig.updated_canvas_event();\n",
       "            fig.waiting = false;\n",
       "            return;\n",
       "        }\n",
       "        else if (typeof evt.data === 'string' && evt.data.slice(0, 21) == \"data:image/png;base64\") {\n",
       "            fig.imageObj.src = evt.data;\n",
       "            fig.updated_canvas_event();\n",
       "            fig.waiting = false;\n",
       "            return;\n",
       "        }\n",
       "\n",
       "        var msg = JSON.parse(evt.data);\n",
       "        var msg_type = msg['type'];\n",
       "\n",
       "        // Call the  \"handle_{type}\" callback, which takes\n",
       "        // the figure and JSON message as its only arguments.\n",
       "        try {\n",
       "            var callback = fig[\"handle_\" + msg_type];\n",
       "        } catch (e) {\n",
       "            console.log(\"No handler for the '\" + msg_type + \"' message type: \", msg);\n",
       "            return;\n",
       "        }\n",
       "\n",
       "        if (callback) {\n",
       "            try {\n",
       "                // console.log(\"Handling '\" + msg_type + \"' message: \", msg);\n",
       "                callback(fig, msg);\n",
       "            } catch (e) {\n",
       "                console.log(\"Exception inside the 'handler_\" + msg_type + \"' callback:\", e, e.stack, msg);\n",
       "            }\n",
       "        }\n",
       "    };\n",
       "}\n",
       "\n",
       "// from http://stackoverflow.com/questions/1114465/getting-mouse-location-in-canvas\n",
       "mpl.findpos = function(e) {\n",
       "    //this section is from http://www.quirksmode.org/js/events_properties.html\n",
       "    var targ;\n",
       "    if (!e)\n",
       "        e = window.event;\n",
       "    if (e.target)\n",
       "        targ = e.target;\n",
       "    else if (e.srcElement)\n",
       "        targ = e.srcElement;\n",
       "    if (targ.nodeType == 3) // defeat Safari bug\n",
       "        targ = targ.parentNode;\n",
       "\n",
       "    // jQuery normalizes the pageX and pageY\n",
       "    // pageX,Y are the mouse positions relative to the document\n",
       "    // offset() returns the position of the element relative to the document\n",
       "    var x = e.pageX - $(targ).offset().left;\n",
       "    var y = e.pageY - $(targ).offset().top;\n",
       "\n",
       "    return {\"x\": x, \"y\": y};\n",
       "};\n",
       "\n",
       "/*\n",
       " * return a copy of an object with only non-object keys\n",
       " * we need this to avoid circular references\n",
       " * http://stackoverflow.com/a/24161582/3208463\n",
       " */\n",
       "function simpleKeys (original) {\n",
       "  return Object.keys(original).reduce(function (obj, key) {\n",
       "    if (typeof original[key] !== 'object')\n",
       "        obj[key] = original[key]\n",
       "    return obj;\n",
       "  }, {});\n",
       "}\n",
       "\n",
       "mpl.figure.prototype.mouse_event = function(event, name) {\n",
       "    var canvas_pos = mpl.findpos(event)\n",
       "\n",
       "    if (name === 'button_press')\n",
       "    {\n",
       "        this.canvas.focus();\n",
       "        this.canvas_div.focus();\n",
       "    }\n",
       "\n",
       "    var x = canvas_pos.x * mpl.ratio;\n",
       "    var y = canvas_pos.y * mpl.ratio;\n",
       "\n",
       "    this.send_message(name, {x: x, y: y, button: event.button,\n",
       "                             step: event.step,\n",
       "                             guiEvent: simpleKeys(event)});\n",
       "\n",
       "    /* This prevents the web browser from automatically changing to\n",
       "     * the text insertion cursor when the button is pressed.  We want\n",
       "     * to control all of the cursor setting manually through the\n",
       "     * 'cursor' event from matplotlib */\n",
       "    event.preventDefault();\n",
       "    return false;\n",
       "}\n",
       "\n",
       "mpl.figure.prototype._key_event_extra = function(event, name) {\n",
       "    // Handle any extra behaviour associated with a key event\n",
       "}\n",
       "\n",
       "mpl.figure.prototype.key_event = function(event, name) {\n",
       "\n",
       "    // Prevent repeat events\n",
       "    if (name == 'key_press')\n",
       "    {\n",
       "        if (event.which === this._key)\n",
       "            return;\n",
       "        else\n",
       "            this._key = event.which;\n",
       "    }\n",
       "    if (name == 'key_release')\n",
       "        this._key = null;\n",
       "\n",
       "    var value = '';\n",
       "    if (event.ctrlKey && event.which != 17)\n",
       "        value += \"ctrl+\";\n",
       "    if (event.altKey && event.which != 18)\n",
       "        value += \"alt+\";\n",
       "    if (event.shiftKey && event.which != 16)\n",
       "        value += \"shift+\";\n",
       "\n",
       "    value += 'k';\n",
       "    value += event.which.toString();\n",
       "\n",
       "    this._key_event_extra(event, name);\n",
       "\n",
       "    this.send_message(name, {key: value,\n",
       "                             guiEvent: simpleKeys(event)});\n",
       "    return false;\n",
       "}\n",
       "\n",
       "mpl.figure.prototype.toolbar_button_onclick = function(name) {\n",
       "    if (name == 'download') {\n",
       "        this.handle_save(this, null);\n",
       "    } else {\n",
       "        this.send_message(\"toolbar_button\", {name: name});\n",
       "    }\n",
       "};\n",
       "\n",
       "mpl.figure.prototype.toolbar_button_onmouseover = function(tooltip) {\n",
       "    this.message.textContent = tooltip;\n",
       "};\n",
       "mpl.toolbar_items = [[\"Home\", \"Reset original view\", \"fa fa-home icon-home\", \"home\"], [\"Back\", \"Back to previous view\", \"fa fa-arrow-left icon-arrow-left\", \"back\"], [\"Forward\", \"Forward to next view\", \"fa fa-arrow-right icon-arrow-right\", \"forward\"], [\"\", \"\", \"\", \"\"], [\"Pan\", \"Pan axes with left mouse, zoom with right\", \"fa fa-arrows icon-move\", \"pan\"], [\"Zoom\", \"Zoom to rectangle\", \"fa fa-square-o icon-check-empty\", \"zoom\"], [\"\", \"\", \"\", \"\"], [\"Download\", \"Download plot\", \"fa fa-floppy-o icon-save\", \"download\"]];\n",
       "\n",
       "mpl.extensions = [\"eps\", \"jpeg\", \"pdf\", \"png\", \"ps\", \"raw\", \"svg\", \"tif\"];\n",
       "\n",
       "mpl.default_extension = \"png\";var comm_websocket_adapter = function(comm) {\n",
       "    // Create a \"websocket\"-like object which calls the given IPython comm\n",
       "    // object with the appropriate methods. Currently this is a non binary\n",
       "    // socket, so there is still some room for performance tuning.\n",
       "    var ws = {};\n",
       "\n",
       "    ws.close = function() {\n",
       "        comm.close()\n",
       "    };\n",
       "    ws.send = function(m) {\n",
       "        //console.log('sending', m);\n",
       "        comm.send(m);\n",
       "    };\n",
       "    // Register the callback with on_msg.\n",
       "    comm.on_msg(function(msg) {\n",
       "        //console.log('receiving', msg['content']['data'], msg);\n",
       "        // Pass the mpl event to the overridden (by mpl) onmessage function.\n",
       "        ws.onmessage(msg['content']['data'])\n",
       "    });\n",
       "    return ws;\n",
       "}\n",
       "\n",
       "mpl.mpl_figure_comm = function(comm, msg) {\n",
       "    // This is the function which gets called when the mpl process\n",
       "    // starts-up an IPython Comm through the \"matplotlib\" channel.\n",
       "\n",
       "    var id = msg.content.data.id;\n",
       "    // Get hold of the div created by the display call when the Comm\n",
       "    // socket was opened in Python.\n",
       "    var element = $(\"#\" + id);\n",
       "    var ws_proxy = comm_websocket_adapter(comm)\n",
       "\n",
       "    function ondownload(figure, format) {\n",
       "        window.open(figure.imageObj.src);\n",
       "    }\n",
       "\n",
       "    var fig = new mpl.figure(id, ws_proxy,\n",
       "                           ondownload,\n",
       "                           element.get(0));\n",
       "\n",
       "    // Call onopen now - mpl needs it, as it is assuming we've passed it a real\n",
       "    // web socket which is closed, not our websocket->open comm proxy.\n",
       "    ws_proxy.onopen();\n",
       "\n",
       "    fig.parent_element = element.get(0);\n",
       "    fig.cell_info = mpl.find_output_cell(\"<div id='\" + id + \"'></div>\");\n",
       "    if (!fig.cell_info) {\n",
       "        console.error(\"Failed to find cell for figure\", id, fig);\n",
       "        return;\n",
       "    }\n",
       "\n",
       "    var output_index = fig.cell_info[2]\n",
       "    var cell = fig.cell_info[0];\n",
       "\n",
       "};\n",
       "\n",
       "mpl.figure.prototype.handle_close = function(fig, msg) {\n",
       "    var width = fig.canvas.width/mpl.ratio\n",
       "    fig.root.unbind('remove')\n",
       "\n",
       "    // Update the output cell to use the data from the current canvas.\n",
       "    fig.push_to_output();\n",
       "    var dataURL = fig.canvas.toDataURL();\n",
       "    // Re-enable the keyboard manager in IPython - without this line, in FF,\n",
       "    // the notebook keyboard shortcuts fail.\n",
       "    IPython.keyboard_manager.enable()\n",
       "    $(fig.parent_element).html('<img src=\"' + dataURL + '\" width=\"' + width + '\">');\n",
       "    fig.close_ws(fig, msg);\n",
       "}\n",
       "\n",
       "mpl.figure.prototype.close_ws = function(fig, msg){\n",
       "    fig.send_message('closing', msg);\n",
       "    // fig.ws.close()\n",
       "}\n",
       "\n",
       "mpl.figure.prototype.push_to_output = function(remove_interactive) {\n",
       "    // Turn the data on the canvas into data in the output cell.\n",
       "    var width = this.canvas.width/mpl.ratio\n",
       "    var dataURL = this.canvas.toDataURL();\n",
       "    this.cell_info[1]['text/html'] = '<img src=\"' + dataURL + '\" width=\"' + width + '\">';\n",
       "}\n",
       "\n",
       "mpl.figure.prototype.updated_canvas_event = function() {\n",
       "    // Tell IPython that the notebook contents must change.\n",
       "    IPython.notebook.set_dirty(true);\n",
       "    this.send_message(\"ack\", {});\n",
       "    var fig = this;\n",
       "    // Wait a second, then push the new image to the DOM so\n",
       "    // that it is saved nicely (might be nice to debounce this).\n",
       "    setTimeout(function () { fig.push_to_output() }, 1000);\n",
       "}\n",
       "\n",
       "mpl.figure.prototype._init_toolbar = function() {\n",
       "    var fig = this;\n",
       "\n",
       "    var nav_element = $('<div/>');\n",
       "    nav_element.attr('style', 'width: 100%');\n",
       "    this.root.append(nav_element);\n",
       "\n",
       "    // Define a callback function for later on.\n",
       "    function toolbar_event(event) {\n",
       "        return fig.toolbar_button_onclick(event['data']);\n",
       "    }\n",
       "    function toolbar_mouse_event(event) {\n",
       "        return fig.toolbar_button_onmouseover(event['data']);\n",
       "    }\n",
       "\n",
       "    for(var toolbar_ind in mpl.toolbar_items){\n",
       "        var name = mpl.toolbar_items[toolbar_ind][0];\n",
       "        var tooltip = mpl.toolbar_items[toolbar_ind][1];\n",
       "        var image = mpl.toolbar_items[toolbar_ind][2];\n",
       "        var method_name = mpl.toolbar_items[toolbar_ind][3];\n",
       "\n",
       "        if (!name) { continue; };\n",
       "\n",
       "        var button = $('<button class=\"btn btn-default\" href=\"#\" title=\"' + name + '\"><i class=\"fa ' + image + ' fa-lg\"></i></button>');\n",
       "        button.click(method_name, toolbar_event);\n",
       "        button.mouseover(tooltip, toolbar_mouse_event);\n",
       "        nav_element.append(button);\n",
       "    }\n",
       "\n",
       "    // Add the status bar.\n",
       "    var status_bar = $('<span class=\"mpl-message\" style=\"text-align:right; float: right;\"/>');\n",
       "    nav_element.append(status_bar);\n",
       "    this.message = status_bar[0];\n",
       "\n",
       "    // Add the close button to the window.\n",
       "    var buttongrp = $('<div class=\"btn-group inline pull-right\"></div>');\n",
       "    var button = $('<button class=\"btn btn-mini btn-primary\" href=\"#\" title=\"Stop Interaction\"><i class=\"fa fa-power-off icon-remove icon-large\"></i></button>');\n",
       "    button.click(function (evt) { fig.handle_close(fig, {}); } );\n",
       "    button.mouseover('Stop Interaction', toolbar_mouse_event);\n",
       "    buttongrp.append(button);\n",
       "    var titlebar = this.root.find($('.ui-dialog-titlebar'));\n",
       "    titlebar.prepend(buttongrp);\n",
       "}\n",
       "\n",
       "mpl.figure.prototype._root_extra_style = function(el){\n",
       "    var fig = this\n",
       "    el.on(\"remove\", function(){\n",
       "\tfig.close_ws(fig, {});\n",
       "    });\n",
       "}\n",
       "\n",
       "mpl.figure.prototype._canvas_extra_style = function(el){\n",
       "    // this is important to make the div 'focusable\n",
       "    el.attr('tabindex', 0)\n",
       "    // reach out to IPython and tell the keyboard manager to turn it's self\n",
       "    // off when our div gets focus\n",
       "\n",
       "    // location in version 3\n",
       "    if (IPython.notebook.keyboard_manager) {\n",
       "        IPython.notebook.keyboard_manager.register_events(el);\n",
       "    }\n",
       "    else {\n",
       "        // location in version 2\n",
       "        IPython.keyboard_manager.register_events(el);\n",
       "    }\n",
       "\n",
       "}\n",
       "\n",
       "mpl.figure.prototype._key_event_extra = function(event, name) {\n",
       "    var manager = IPython.notebook.keyboard_manager;\n",
       "    if (!manager)\n",
       "        manager = IPython.keyboard_manager;\n",
       "\n",
       "    // Check for shift+enter\n",
       "    if (event.shiftKey && event.which == 13) {\n",
       "        this.canvas_div.blur();\n",
       "        // select the cell after this one\n",
       "        var index = IPython.notebook.find_cell_index(this.cell_info[0]);\n",
       "        IPython.notebook.select(index + 1);\n",
       "    }\n",
       "}\n",
       "\n",
       "mpl.figure.prototype.handle_save = function(fig, msg) {\n",
       "    fig.ondownload(fig, null);\n",
       "}\n",
       "\n",
       "\n",
       "mpl.find_output_cell = function(html_output) {\n",
       "    // Return the cell and output element which can be found *uniquely* in the notebook.\n",
       "    // Note - this is a bit hacky, but it is done because the \"notebook_saving.Notebook\"\n",
       "    // IPython event is triggered only after the cells have been serialised, which for\n",
       "    // our purposes (turning an active figure into a static one), is too late.\n",
       "    var cells = IPython.notebook.get_cells();\n",
       "    var ncells = cells.length;\n",
       "    for (var i=0; i<ncells; i++) {\n",
       "        var cell = cells[i];\n",
       "        if (cell.cell_type === 'code'){\n",
       "            for (var j=0; j<cell.output_area.outputs.length; j++) {\n",
       "                var data = cell.output_area.outputs[j];\n",
       "                if (data.data) {\n",
       "                    // IPython >= 3 moved mimebundle to data attribute of output\n",
       "                    data = data.data;\n",
       "                }\n",
       "                if (data['text/html'] == html_output) {\n",
       "                    return [cell, data, j];\n",
       "                }\n",
       "            }\n",
       "        }\n",
       "    }\n",
       "}\n",
       "\n",
       "// Register the function which deals with the matplotlib target/channel.\n",
       "// The kernel may be null if the page has been refreshed.\n",
       "if (IPython.notebook.kernel != null) {\n",
       "    IPython.notebook.kernel.comm_manager.register_target('matplotlib', mpl.mpl_figure_comm);\n",
       "}\n"
      ],
      "text/plain": [
       "<IPython.core.display.Javascript object>"
      ]
     },
     "metadata": {},
     "output_type": "display_data"
    },
    {
     "data": {
      "text/html": [
       "<img src=\"data:image/png;base64,iVBORw0KGgoAAAANSUhEUgAABLAAAAJYCAYAAABy5h8aAAAgAElEQVR4nOzde3hU5bn//4FgAkIhoqJyVFTQQqUeGg89sN3a1ioC1ordthJ7QLvVre3XH+JWahQFVBRU8LwFrYoICqKACliKCgK1hoIJCAiihDPKMSQkk8/vj0UmGTIJM8k8eZ555v26rnXBzKxZs0hy35P7w1prQgIAAAAAANaFANTOdoECAAAAAAACLKBOtgsUAAAAAAAQYAF1sl2gAAAAAACAAAuok+0CBQAAAAAABFhAnWwXKAAAAAAAIMAC6mS7QAEAAAAAAAEWUCfbBQoAAAAAAAiwgDrZLlAAAAAAAECABdTJdoECAAAAAAACLKBOtgsUAAAAAAAQYAF1sl2gAAAAAACAAAuok+0CBQAAAAAABFhAnWwXKAAAAAAAIMAC6mS7QF0UDof19ddfa+fOndq1axcLCwsLi2fLzp079fXXXyscDtt+y/FOWVmZlixZovXr1+vrr79mYWFhYfFsWb9+vZYsWaKysjLbbzlesp0PAE6zXaAu+vrrrxUKhVhYWFhYPF++/vpr22853lmyZIn17ysLCwsLi/llyZIltt9yvBQCUDvbBeqinTt3KhQKBhvbRwmwsLCwsCR/qfyPip07d9p+y/HO+vXrI4ON7aMEWFhYWFiSv1T+R8X69ettv+V4yW46ADjOdoG6aNeuXQqFQtq1a5ftXQEAGECfN+frr7+O/CcQAMA/9Hmz7KYDgONsF6iLGGwAwG/0eXMYbADAb/R5s+ymA4DjbBeoixhsAMBv9HlzGGwAwG/0ebPspgOA42wXqIsYbADAb/R5cxhsAMBv9Hmz7KYDgONsF6iLGGyA9FReXq79+/ezeLKEw+Fav9f0eXMYbACkOn4f2K/y8vJavz70ebPspgOA42wXqIsYbID0UlFRoY0bN6qwsJDFo2XlypUqLS2N+T2nz5vDYAMgVfH7QPSyceNGVVRU1Pg60efNspsOAI6zXaAuYrAB0kvlL6vbt29XcXGx9f/1ZGn4sm/fPq1evVpffvllzF++6fPmMNgASFX8PhAsxcXF2r59eyTEOhR93iy76QDgONsF6iIGGyB9lJeXR35ZhV927typwsJCHThwoMZj9HlzGGwApCJ+H6ipMsQ69HRC+rxZdtMBwHG2C9RFDDZA+ti/f78KCwtVXFxse1eQZMXFxSosLNT+/ftrPEafN4fBBkAq4veBmmp7H6XPm2U3HQAcZ7tAXcRgA6SPyl9YY4UcSG11fW/p8+Yw2ABIRfw+UFNtXxP6vFl20wHAcbYL1EUMNkD64BfWaF26dNGYMWNs70ZSEGDZwWADIBX5/PvApk2bdPHFF+vII49UmzZtar3vUARYdthNBwDH2S5QFzHYAOkjVX9hDYVCdS55eXn12u7WrVu1b9++5O6sJQRYdjDYAEhFqfr7gCTl5ubG/F3g5z//uSTp9ttvV48ePbRq1Spt2bKl1vsORYBlR6MHAkAqsV2gLmKwAdJHMn9hLQ9XaOGa7Xozf4MWrtmu8nDNT79Llk2bNkWWRx99VK1bt466b8+ePZF1KyoqVFZWZmxfXEWAZQeDDYBUlKzfB8rLpXnzpIkTgz8Puf65Ebm5ubrkkkuifg/YtGmTvvnmG0nSlVdeqYEDB0Y9J9Z9hyLAssNuOgA4znaBuojBBkgfyfqF9Z3lG3XeiLnqMmRGZDlvxFy9s7zmx08n24QJE6IO/583b55CoZBmzZqls846S0cccYTmzZunNWvWqG/fvmrXrp1atmypc845R3PmzIna1qGnEIZCIT333HPq37+/WrRooVNOOUXTp083/m9KBgIsOxhsAKSiZPw+8MYbUseOUihUtXTsGNxvUm5urvr16xfzsS5dukQdlZWbmxvzvlgIsOywkwoAKcJ2gbqIwQZIH8n4hfWd5Rt1YrXgqnI58eBiOsSqLcA644wzNHv2bK1Zs0Y7duzQ0qVL9fTTT2v58uVatWqVhg4dqubNm2v9+vWR58YKsDp27KiJEydq9erVuuWWW9SqVSvt2LHD6L8pGQiw7GCwAZCKGvr7wBtvSE2aRIdXoVBwX5MmZkOsugKsrVu36pJLLtGAAQO0adMm7dy5M+Z9sRBg2WEzGwCcZ7tAXcRgA6SPWL+cVVRUaF9pWVzL7v0HlDN8To3wqnqIde7wudq9/0Bc26uoSPy0w9oCrDfffPOwz+3Ro4fGjh0buR0rwBo6dGjk9t69exUKhfTOO+8kvJ+NjQDLDgYbAKno0PeMigpp7974ll27pA4daoZX1UOsjh2D9eLZXqK/CuTm5iojI0MtW7aMWoYPHy5J6tevX42jrGLdd7ivSSX6vFkWowHAfbYL1EUMNkD6iPXL2b7SsloDKdPLvtLEr1VVW4C1YcOGqPX27Nmj2267TaeddpratGmjli1bqmnTpho8eHBknVgB1uTJk6O207p1a7344osJ72djI8Cyg8EGQCo69D1j797aAynTy969ie17bm6uLr74Yq1evTpqqTxamgArtdjMBgDn2S5QFzHYAOnD5wDr22+/jVrvhhtuUNeuXTV16lQtW7ZMq1evVq9evXTrrbdG1okVYE2bNi1qO23atNGECRMS3s/GRoBlB4MNgFSU6gFWbacQSgRYqcZmNgA4z3aBuojBBkgfDT2FcN7KLXEFU/NWbmn0UwgPDbB69uypYcOGRW7v2bNHbdq0IcBCUjHYAEhFDTmFcNas+IKpWbPMnUJIgOUPm9kA4DzbBeoiBhsgfTT0oq3l4QqdN2JuzIu4V14D67wRc1UeTjyYile8AdYVV1yh73//+8rPz9fSpUt1+eWX6zvf+Q4BFpKKwQZAKmrI7wPl5cE1rmJdxL3yGlidOgXrmZCbm6tLLrlEmzZtilq2bdsmiQAr1djMBgDn2S5QFzHYAOkjmZ9CeGiIZftTCA8NsNatW6cLL7xQLVq0UKdOnTRu3Dj17t2bAAtJxWADIBUl61MIDw2xGutTCEOhUI2le/fukgiwUo2lWABIDbYL1EUMNkD6SEaAJQUh1nkj5kYFWOeNmGs8vELtCLDsYLABkIqS8fvAG28ER2JVD7A6dTIbXplEgGWH3XQAcJztAnURgw2QPpIVYEnB6YQL12zXm/kbtHDNdqOnDeLwCLDsYLABkIqS9ftAebk0b540cWLwp6nTBhsDAZYddtMBwHG2C9RFDDZA+khmgAW3EGDZwWADIBXx+0BNBFh22E0HAMfZLlAXMdgA6YNfWP1FgGUHgw2AVMTvAzURYNlhNx0AHGe7QF3EYAOkD35h9RcBlh0MNgBSEb8P1ESAZYfddABwnO0CdRGDDZA++IXVXwRYdjDYAEhF/D5QEwGWHXbTAcBxtgvURQw2QPrgF1Z/EWDZwWADIBVVvmcUFxfb3hVnFBcXE2BZYDcdABxnu0BdxGADpA8CLH8RYNnBYAMgFZWXl6uwsFDbt2+3vSvO2L59uwoLC1V+yEcp0ufNspsOAI6zXaAuYrAB0gcBlr8IsOxgsAGQqjZu3BgJsYqLi7V///60XIqLiyPh1caNG2t8nejzZtlNBwDH2S5QFzHYAOmDAMtfBFh2MNgASFUVFRWREIslCK8qKipqfJ3o82bZTQcAx9kuUFPefvttdevWTaeccoqee+65hJ7LYAOkj3QOsHr37q1bb701crtLly4aM2ZMnc8JhUKaNm1ag187WdupCwGWHQw2AFJdeXm59aOgbC+HnjZYHX3eLJvZAOA82wVqQllZmU499VRt2LBBe/bsUbdu3RI6n53BBkgfqRpg9enTRz//+c9jPvbBBx8oFArp3//+d53bODTA2rp1q/bt21fnc0IJBk95eXnq1atXjfs3bdqkkpKSuLdTHwRYdjDYAIDf6PNm2cwGAOfZLlATFixYoP79+0du33rrrZo4cWLcz2ewAdJHUgOscLm09gNp2ZTgz3Dt/3vZUNOmTVPTpk1j/vL4u9/9Tuecc85ht3FogBWPUJICrMZAgGUHgw0A+I0+b5bVcABwne0CjWX+/Pnq06ePTjjhhFqHpXHjxqlLly7KyspSTk6OFi9eHHlsypQpuummmyK3H3roIY0aNSru12ewAdJH0gKsgunSI6dJea2rlkdOC+43oKysTMcdd5zuu+++qPv37NmjVq1a6f7779evf/1rtW/fXi1atFDPnj1rBPmHO4Vw1apV+vGPf6ysrCydfvrpmj17do2efPvtt+vUU09VixYtdNJJJ2no0KE6cOCAJGnChAkKhUJRy4QJEyTVDMKWLVumCy+8UM2bN1fbtm01aNAg7dmzJ/J4bm6u+vXrp1GjRun4449X27ZtdeONN0ZeKxYCLDsYbADAb/R5syzFAkBqsF2gscyaNUt33XWXpk6dGjPAmjRpkjIzMzV+/HgVFBRo0KBBys7O1pYtWyQRYAGIX1ICrILpUl6b6PAqr/XB+9oYC7EGDx6sk08+OeoCq+PHj1eLFi305ZdfatSoUcrPz9cXX3yhxx9/XBkZGVFhf10BVjgcVs+ePXXRRRdp6dKlmj9/vs4888waPfm+++7TggULtG7dOr311ls67rjj9OCDD0qSiouLddttt6lHjx7atGmTNm3apOLiYknRAdbevXt1wgkn6Je//KWWL1+u999/XyeddJJyc3Mjr5Obm6vWrVvrT3/6k1asWKG3335bRx55pJ599tlavz4EWHYw2ACA3+jzZlmMBgD32S7QwwnFCLBycnKiAqpwOKz27dtr5MiRkmKfQvjKK6/U+holJSXatWtXZKlsygw2gP9ihhwVFVLp3viW/bukh7vHCK+qhViPnBasF8/2YnzaT21WrFihUCikefPmRe778Y9/rN/+9rcx17/ssst02223RW7XFWC99957atasmYqKiiKPv/POO4c9hXDUqFE6++yzI7drO4Ww+naeffZZHXXUUdq7d2/k8ZkzZ6pp06bavHmzpCDA6tKlS9RFZa+66ipdffXVte4LAZYdDDYA4Df6vFn2kgEgBdgu0MMJHTIslZaWKiMjo8YANXDgQPXt21dScGrNKaecEvdF3PPy8mqc5hJisAHSQsyQo3RvHYGU4aV0b+07G8MFF1yga6+9VpK0evXqSKBVXl6uYcOGqWfPnjrqqKPUsmVLNWvWTFdddVXkuXUFWI8++qhOOumkqNfauXNnjZ48adIkXXDBBTruuOPUsmVLZWVl6dhjj408Hk+A9Ze//EX/8R//EfO15s+fLykIsC699NKodW655RZdeOGFtX5tCLDsYLABAL/R582yEgoAqcJ2gR5O6JBhqaioSKFQSAsXLoxab/DgwcrJyYncnj59uk499VSdfPLJeuaZZ+p8DY7AAtJXqgdYzz//vI488kjt3r1bd955Z+SUwpEjR+roo4/WSy+9pKVLl2r16tW67LLL1K9fv8hzGxpgLVy4UBkZGbr//vv1z3/+U6tWrdKwYcPUpk2byHOSGWBV33cpOLq2d+/etX5tCLDsYLABAL/R582yFgwAqcB2gR5OqJ4BVkMw2ADpo8GnEK6aHV8wtWp20k8hlKou2v7000+rY8eOGj58uCSpT58++v3vfx9ZLxwO69RTT407wKo8hXDjxo2Rx999992onvzwww+ra9euUfvzhz/8ISrAGj58uHr27Fljv6tvJ95TCAmwUgODDQD4jT5vlr1kAEgBtgv0cEL1OIWwoRhsgPTR4Iu4h8sPfvpgrIu4V14D6/RgPUP+8Ic/6KijjlJGRkbkmlV/+ctf1KlTJy1YsECFhYX64x//qNatW8cdYIXDYX33u9/VT3/6Uy1dulQffPCBzj777KiePH36dDVr1kyvvvqq1qxZo8cee0xt27aNCrBeeeUVtWzZUvn5+dq2bZtKSkokRff2ffv26YQTTtCVV16p5cuX6+9//7u6du1a4yLuBFipgcEGAPxGnzfLYjQAuM92gR5OqJaLuN98882R2+FwWB06dIhcxL2hGGyA9JHcTyE8NMQy+ymElRYuXKhQKBR1jagdO3aoX79+atWqldq1a6ehQ4dq4MCBcQdYkvT555/rRz/6kTIzM9WtW7caR2BJwdGvRx99tFq1aqWrr75aY8aMiQqwSkpKdOWVVyo7O1uhUEgTJkyQVLO3L1u2TBdeeKGaN2+utm3batCgQdqzZ0/kcQKs1MFgAwB+o8+bZS0YAFKB7QKNZc+ePcrPz1d+fr5CoZBGjx6t/Px8rV+/XlJw0eCsrCy98MILKiws1PXXX6/s7OzIqSYNxWADpI+kBFhSEFI9clp0gPXI6cbDK9SOAMsOBhsA8Bt93iyr4QDgOtsFGsu8efNifipg9dNJxo4dq86dOyszM1M5OTlatGhR0l6fwQZIH0kLsKTgNMG1H0jLpgR/GjxtEIdHgGUHgw0A+I0+b5a1YABIBbYL1EUMNkD6SGqABacQYNnBYAMAfqPPm2U3HQAcZ7tAXcRgA6QPAix/EWDZwWADAH6jz5tlNx0AHGe7QF3EYAOkDwIsfxFg2cFgAwB+o8+bZTcdABxnu0BdxGADpA8CLH8RYNnBYAMAfqPPm2U3HQAcZ7tAXcRgA6SPypCjuLjY9q4gyYqLiwmwLGCwAQC/0efNspsOAI6zXaAuYrAB0kd5ebkKCwu1fft227uCJNu5c6cKCwt14MCBGo/R581hsAEAv9HnzbKbDgCOs12gLmKwAdLLxo0bIyFWcXGx9u/fz5Liy759+7R69Wp9+eWXqqioqPE9p8+bw2ADAH6jz5tlNx0AHGe7QF3EYAOkl4qKikiIxeLPsnLlSpWWlsb8ntPnzWGwAQC/0efNspsOAI6zXaAuYrAB0lN5ebn1I4dYkreEw+Fav9e+9Plx48apS5cuysrKUk5OjhYvXlzn+pMnT1b37t2VlZWlnj17aubMmbWue8MNNygUCmnMmDEJ7RODDQD4rb593sX3LBfZzAYA59kuUBf5MtgAAGLzoc9PmjRJmZmZGj9+vAoKCjRo0CBlZ2dry5YtMddfsGCBMjIy9NBDD6mwsFBDhw7VEUccoeXLl9dYd+rUqerVq5fat29PgAUAiFKfPu/qe5aL7KYDgONsF6iLfBhsAAC186HP5+Tk6KabborcDofDat++vUaOHBlz/QEDBuiyyy6Luu/cc8/VDTfcEHXfhg0b1KFDB3322Wfq0qULARYAIEp9+ryr71kuspsOAI6zXaAu8mGwAQDULtX7fGlpqTIyMjRt2rSo+wcOHKi+ffvGfE6nTp1q/GJ/991364wzzojcDofDuvDCC/Xoo49KUlzDQElJiXbt2hVZCgsLCbAAwGOVAVZhYWFU/y8pKYm5vkvvWanAbjoAOM52gboo1QcbAEDdUr3PFxUVKRQKaeHChVH3Dx48WDk5OTGfc8QRR2jixIlR9z3xxBNq165d5PaIESP005/+NPLJjfEMA3l5eQqFQjUWAiwA8FNlgHXokpeXF3N9l96zUoGNTABIGbYL1EWpPtgAAOqW6n3exDDwySef6LjjjlNRUVHkcY7AAgAcKtEjsFx6z0oFNrMBwHm2C9RFqT7YAADqlup93sTpGGPGjFGTJk2UkZERWUKhkJo2baouXbrEvW9cAwsA/JZon3f5PctFNrMBwHm2C9RFqT7YAADq5kOfz8nJ0c033xy5HQ6H1aFDhzoviNunT5+o+84///zIBXG3b9+u5cuXRy3t27fXkCFDtHLlyrj3iwALAPxW34u4u/ie5SK76QDgONsF6iIfBhsAQO186POTJk1SVlaWXnjhBRUWFur6669Xdna2Nm/eLEm69tprdccdd0TWX7BggZo1a6aHH35YK1asUF5eXq0fSV6JTyEEAByqPn3e1fcsF9lNBwDH2S5QF/kw2AAAaudLnx87dqw6d+6szMxM5eTkaNGiRZHHevfurdzc3Kj1J0+erG7duikzM1M9evTQzJkz69w+ARYA4FD17fMuvme5yG46ADjOdoG6yJfBBgAQG33eHAIsAPAbfd4su+kA4DjbBeoiBhsA8Bt93hwGGwDwG33eLLvpAOA42wXqIgYbAPAbfd4cBhsA8Bt93iy76QDgONsF6qJDB5vycIUWrtmuN/M3aOGa7SoPV1jeQwBAQxBgmcNgAwB+o8+bZTcdABxnu0BdVH2weWf5Rp03Yq66DJkRWc4bMVfvLN9Y6/MJvADAbQRY5jDYAIDf6PNm2U0HAMfZLlAXVQ42r3/8uU6sFlxVLiceXGKFWIkGXomGXYRjANBwBFjmMNgAgN/o82bZTQcAx9kuUBdVDjbn3D29RnhVPcQ6b8TcqADpneUbEwq8Eg276nM0GACgJgIscxhsAMBv9Hmz7KYDgONsF6iLKgebTn+eXGuAVbn85bV8vf7J11r0xXb94P45cQde9Qm7Ej0ajKO7ACA2AixzGGwAwG/0ebPspgOA42wXqIsSCbASXV5Z9KXW79innOGHD7u27ynRVzv2aelX3+rMYbMTPhrM5NFdhF0AUhkBljkMNgDgN/q8WXbTAcBxtgvURYkEWL+bsET/9ezH+v697yU97Ep0mZ6/QRUVFcaP7jJ9YXvCMQCmEWCZw2ADAH6jz5tlNx0AHGe7QF1U/RpYsYKdWEc9LVyzPa6Q6fv3vqeud8yMO5Q6beg7+t4978a9/g/un63uQ2fFfbRWebiiRhhV1/r1OZUxkcCLT30E0BgIsMxhsAEAv9HnzbKbDgCOs12gLjr0UwgPDWxihTWVQVA8gdfCNdviCqM+XLVVUvzhWNf/jf9orZ+O/oeueOIjXfzIvLjWH/L6vzVhwVqdcU/tR5o19ML2psOxyu8TYRcAAixzGGwAwG/0ebPspgOA42wXqIuqDzaJHj0UT+CVSNiVyPp79pfp4fdWxh1imVr+32v5mvzPr/TRqm06J84L2yd6JFj1r3e8gZdLpz4SpAF2EWCZw2ADAH6jz5tlNx0AHGe7QF106GCTSNgQb0gSb9iV6PrxHq312NxVeu+zTXp87qq41h/4/CL1HfuhkcDriicW6JdPLohr3Zsn/ksPv7dSY+Z8rp55tZ9a6fKpj/UJ0gAkFwGWOQw2AOA3+rxZdtMBwHG2C9RFDR1s4g28THxSoKmjuyr/TfGETL+bsFi//b9FdR591VjL2cNmq8/jH6jbXfFfF6zya23i1Mf6BGmJ/Ewlum591gd8QIBlDoMNAPiNPm+W3XQAcJztAnVRYw42JsIGU0d3JRqOxRt43T+jQPe9XRDXuv/90ie6+83l+vWzC5MedvUd96GGTluup/6xWr0O86mSZ983Wx+v2a65BZvVq47rgnUZMkPn3DdHG78tVnFpecKnSVZ+f0wd3cU1xJCuCLDMYbABAL/R582ymw4AjrNdoC7yYbAxFWQkEo4lEniZCsf+9vGXGj4jvnDMlWXhmu01vt6xvh4NPbrLtWuIAY3Jhz7vKgYbAPAbfd4su+kA4DjbBeoiXwYbU6eSmbiwfaLrmjj18f4ZBXro3RW64omP4lr/nPvn6IcPvJ/0AOsH98/RoBf/qRGzCuP+1Md4LoKfM3yO1m3bq9VbdmvpV9/qrGGz49p29e9NvGFXoj8nJn9e67Nt+M+XPu8iBhsA8Bt93iy76QDgONsF6iIGm8MzcWH7+qxr89THhWu2x73uR6u3afZnm5IednUZEpzOeNawuk9jrO9y6WMf6M+TPtV3734n7rCr+vcm3sDL5KmPXDQfsdDnzWGwAQC/0efNspsOAI6zXaAuYrBJPlNHy6TSqY/xrPuD++foHyu3aMJHa3XNcx8nPZA6+X9n6ox73qvzyK76Llc8sUCDpyzV/TMLjH5CpGsXzUdqos+bw2ADAH6jz5tlNx0AHGe7QF3EYJNaUunUx0TWjfs6XwvX6eWPv4xr3crra8W77YfeXaGbX/k06WFXlyEzdPnYD/XnVz/Vd/9a+9FdXYYEpz7u2FOq4tJylZaF474QfjynVTb0ovmJ/PzVd32YQZ83h8EGAPxGnzfLbjoAOM52gbqIwcZfrpz6GM+6Ji+Cb+IaYve9XaBxf1+t3PGLjQReiSw/G/0P/eLRDxIK9Sq/N66c+mhaugdp9HlzGGwAwG/0ebPspgOA42wXqIsYbFDJ1KmPiRw1ZuLorkTWN3UNsZEzC/U/E80c3ZXI8h+j5umON5bp/z78QmcavLB9fU5ndOGDGOojFcIx+rw5DDYA4Df6vFl20wHAcbYL1EUMNnCJyQuW276GWLxh14ertmpvSVncF8J/dM7nevi9lUYCr6f/sUafrv9G59w/J+6wqz6nM5r+XiYSpCXCpaPM6kKfN4fBBgD8Rp83y246ADjOdoG6iMEGrjF1JFgi67vwCZHJPq3ynPvmaOq/vtaod1fqssfjO+UwkeV7ee+q173v6bShs+Jav/J0RlNHd9X3umDx/pyk0kXz6fPmMNgAgN/o82bZTQcAx9kuUBcx2ACx2f6EyETXN3HR/B898L6RT3HsMmSGvnfPu7pu/GL1uLv2C9ufOGSGzh0xV5t27tcXW/fo0/Xf1HnqY5chM3TqnTN1yZj5Ovu+uterXBas3pbw9zLVLppPnzeHwQYA/EafN8tuOgA4znaBuojBBkgOU9dksn3R/HjDrteWfKXVW3brjX99bSTwMrWcNnSWfjdhiZ6Yt1pj319V51FVExas1byVW3TPW5/Fte35n2+J+t7Yumg+fd4cBhsA8Bt93iy76QDgONsF6iIGG6DxmTr1MZF1bZ76eO7wuVq8drtum7w07qCp593vqlecR4ONnFWoFxeusx6Odb1jhi597APdNjlf38t7t9b1TF80//WPP6fPG8JgAwB+o8+bZTcdABxnu0BdRIAFpC/bpz7Ge3RX5Wl+8a5fGdzFE7x9uv4b/d+Ha3XVUwvi2vaPHnhfv3wyvnUTXe6aukwTF3+pXvfWHdTlDJ+j7XtKtLP4gL7dV6qc4XVfZP+cu6fT5w1hsAEAv9HnzbKbDgCOs12gLiLAAtKbzaq+beMAACAASURBVFMfTV7YvnIf4g3e3szfEFfI9Gb+hrj348vte/XO8k26/sV/Ggm84l06/Xkyfd4QBhsA8Bt93iy76QDgONsF6iICLADxMnHqo8kL21euH0/wlsjRXYnuR7zbvubZj3XpY8n/hEgCLHMYbADAb/R5s+ymA4DjbBeoiwiwANhm8sL2UnxBWqJHdyWyHyYumv/hqq0qLQvrH59vIcCyiMEGAPxGnzfLbjoAOM52gbqIAAuAC0xe2D5eiR7dlch+2LxoPtfAMofBBgD8Rp83y246ADjOdoG6iAALAKokenSXiW0n+7RKPoXQHAYbAPAbfd4su+kA4DjbBeoiAiwAiGbi6K5Et53M0yrp8+Yw2ACA3+jzZtlNBwDH2S5QFzHYAICbknVaJX3eHAYbAPAbfd4su+kA4DjbBeoiBhsA8Bt93hwGGwDwG33eLLvpAOA42wXqIgYbAPAbfd4cBhsA8Bt93iy76QDgONsF6iIGGwDwG33eHAYbAPAbfd4su+kA4DjbBeoiBhsA8Bt93hwGGwDwG33eLLvpAOA42wXqIgYbAPAbfd4cBhsA8Bt93iy76QDgONsF6iIGGwDwG33eHAYbAPAbfd4su+kA4DjbBeoiBhsA8Bt93hwGGwDwG33eLLvpAOA42wXqIgYbAPAbfd4cBhsA8Bt93iy76QDgONsF6iIGGwDwG33eHAYbAPAbfd4su+kA4DjbBeoiBhsA8Bt93hwGGwDwG33eLLvpAOA42wXqIgYbAPAbfd4cBhsA8Bt93iy76QDgONsF6iIGGwDwG33eHAYbAPAbfd4su+kA4DjbBeoiBhsA8Bt93hwGGwDwG33eLLvpAOA42wXqIgYbAPAbfd4cBhsA8Bt93iy76QDgONsFalr//v2VnZ2tK6+8Mu7nMNgAgN/o8+Yw2ACA3+jzZtlNBwDH2S5Q0+bNm6e33nqLAAsAEEGfN4fBBgD8Rp83y246ADjOdoE2hnnz5hFgAQAi6PPmMNgAgN/o82bZTQcAx8Uqmt27d+vWW29V586d1bx5c51//vlasmRJUgtz/vz56tOnj0444QSFQiFNmzYt5nrjxo1Tly5dlJWVpZycHC1evDjh1yLAAgBUR583h8EGAPxGnzfLajgAuC5W0QwYMEDf/e53NX/+fK1evVp5eXlq3bq1NmzYELPIPvroIx04cKDG/QUFBdq8eXPM58yaNUt33XWXpk6dWmuANWnSJGVmZmr8+PEqKCjQoEGDlJ2drS1btkTW6dWrl3r06FFjKSoqiqxDgAUAqI4+bw6DDQD4jT5vltVwAHDdoQVTXFysjIwMzZgxI+r+s846S3fddVeNAguHw+rVq5d+9atfqby8PHL/ypUrddxxx+nBBx+Mp0hjBlg5OTm66aabol6rffv2Gjly5GG3WR0BFgCgOvq8OQw2AOA3+rxZVsMBwHWHFszu3bsVCoU0d+7cqPt/+MMfqnfv3jGLrKioSCeffLKuueYahcNhrVmzRu3bt9cNN9wQb5HWCLBKS0uVkZFR4/6BAweqb9++cW23EgEWAKA6+rw5DDYA4Df6vFk2swHAebGK5vzzz1fv3r1VVFSk8vJyvfTSS2ratKm6detWa6GtX79enTt31tVXX63OnTtr4MCBqqioiLdIawRVRUVFCoVCWrhwYdT9gwcPVk5OTlzblaSLLrpIxxxzjFq0aKEOHTrU2F5148aN0+mnn65u3box2ACAxwiwzGGwAQC/0efNspkNAM6LVTRr1qzRT37yE4VCIWVkZOgHP/iBfvOb3+i0006rs9jmz5+vUCikrl27qqysLJEiNRZg1QeDDQD4jT5vDoMNAPiNPm+WvWQASAF1Fc/evXu1ceNGScGF3S+99NJa1928ebO6d++uyy+/XMcff7xuvvnmRIrU6CmEiWKwAQC/0efNYbABAL/R582yGg4ArouniL755hu1adNGzzzzTMzHt23bph49eqh///4qKytTQUGBjj32WN12223xFmmtF3GvHoSFw2F16NAh4Yu4J4rBBgD8Rp83h8EGAPxGnzfLajgAuC5W0bz77rt65513tHbtWs2ePVu9evXSueeeqwMHDtRYNxwO65xzztGll16q0tLSyP1Lly5V27ZtNXr06JiFuWfPHuXn5ys/P1+hUEijR49Wfn6+1q9fH1ln0qRJysrK0gsvvKDCwkJdf/31ys7O1ubNmxvaF+rEYAMAfqPPm8NgAwB+o8+bZTUcAFwXq2hee+01de3aVZmZmTr++ON10003aefOnbUW2ezZs7V///4a93/66ae1NrZ58+YpFArVWHJzc6PWGzt2rDp37qzMzEzl5ORo0aJFCZR//TDYAIDf6PPmMNgAgN/o82ZZCwaAVGC7QF3EYAMAfqPPm8NgAwB+o8+bZTcdABxnu0BdxGADAH6jz5vDYAMAfqPPm2U3HQAcZ7tAXcRgAwB+o8+bw2ADAH6jz5tlNx0AHGe7QF3EYAMAfqPPm8NgAwB+o8+bZTcdABxnu0BdxGADAH7zpc+PGzdOXbp0UVZWlnJycrR48eI61588ebK6d++urKws9ezZUzNnzow8duDAAd1+++3q2bOnjjzySJ1wwgm69tprVVRUlNA+MdgAgN/q2+ddfM9ykd10AHCc7QJ1kS+DDQAgNh/6/KRJk5SZmanx48eroKBAgwYNUnZ2trZs2RJz/QULFigjI0MPPfSQCgsLNXToUB1xxBFavny5JGnnzp26+OKL9dprr2nlypX6+OOPlZOTo7PPPjuh/SLAAgC/1afPu/qe5SK76QDgONsF6iIfBhsAQO186PM5OTm66aabIrfD4bDat2+vkSNHxlx/wIABuuyyy6LuO/fcc3XDDTfU+hpLlixRKBTS+vXr494vAiwA8Ft9+ryr71kuspkNAM6zXaAu8mGwAQDULtX7fGlpqTIyMjRt2rSo+wcOHKi+ffvGfE6nTp00ZsyYqPvuvvtunXHGGbW+zpw5c9SkSZOEvk4EWADgt0T7vMvvWS6ymw4AjrNdoC5K9cEGAFC3VO/zRUVFCoVCWrhwYdT9gwcPVk5OTsznHHHEEZo4cWLUfU888YTatWsXc/39+/frrLPO0jXXXFPnvpSUlGjXrl2RpbCwkAALADxWGWAVFhZG9f+SkpKY67v0npUKbGYDgPNsF6iLUn2wAQDULdX7vOlh4MCBA7r88st15plnHvZrlJeXp1AoVGMhwAIAP1UGWIcueXl5Mdd36T0rFdjIBICUYbtAXZTqgw0AoG6p3udNno5x4MAB9e/fX2eccYa2b99+2H3hCCwASC+JHoHl0ntWKrCbDgCOs12gLkr1wQYAUDcf+nxOTo5uvvnmyO1wOKwOHTrUeUHcPn36RN13/vnnR10Qt3IQ6NGjh7Zu3Vqv/eIaWADgt/pexN3F9ywX2U0HAMfZLlAX+TDYAABq50OfnzRpkrKysvTCCy+osLBQ119/vbKzs7V582ZJ0rXXXqs77rgjsv6CBQvUrFkzPfzww1qxYoXy8vKiPpL8wIED6tu3rzp27KilS5dq06ZNkaW0tDTu/SLAAgC/1afPu/qe5SK76QDgONsF6iIfBhsAQO186fNjx45V586dlZmZqZycHC1atCjyWO/evZWbmxu1/uTJk9WtWzdlZmaqR48emjlzZuSxdevWxbymSSgU0rx58+LeJwIsAPBbffu8i+9ZLmr8RABIIbYL1EW+DDYAgNjo8+YQYAGA3+jzZtlNBwDH2S5QFzHYAIDf6PPmMNgAgN/o82bZTQcAx9kuUBcx2ACA3+jz5jDYAIDf6PNm2U0HAMfZLlAXMdgAgN/o8+Yw2ACA3+jzZtlNBwDH2S5QFzHYAIDf6PPmMNgAgN/o82bZTQcAx9kuUBcx2ACA3+jz5jDYAIDf6PNm2U0HAMfZLlAXMdgAgN/o8+Yw2ACA3+jzZtlNBwDH2S5QFzHYAIDf6PPmMNgAgN/o82bZTQcAx9kuUBcx2ACA3+jz5jDYAIDf6PNm2U0HAMfZLlAXMdgAgN/o8+Yw2ACA3+jzZtlNBwDH2S5QFzHYAIDf6PPmMNgAgN/o82bZTQcAx9kuUBcx2ACA3+jz5jDYAIDf6PNm2U0HAMfZLlAXMdgAgN/o8+Yw2ACA3+jzZtlNBwDH2S5QFzHYAIDf6PPmMNgAgN/o82bZTQcAx9kuUBcx2ACA3+jz5jDYAIDf6PNm2U0HAMfZLlAXMdgAgN/o8+Yw2ACA3+jzZtlNBwDH2S5QFzHYAIDf6PPmMNgAgN/o82bZTQcAx9kuUBcx2ACA3+jz5jDYAIDf6PNm2U0HAMfZLlAXMdgAgN/o8+Yw2ACA3+jzZtlNBwDH2S5QFzHYAIDf6PPmMNgAgN/o82bZTQcAx9kuUBcx2ACA3+jz5jDYAIDf6PNm2U0HAMfZLlAXMdgAgN/o8+Yw2ACA3+jzZtlNBwDH2S5QFzHYAIDf6PPmMNgAgN/o82bZTQcAx9kuUBcx2ACA3+jz5jDYAIDf6PNm2U0HAMfZLlAXMdgAgN/o8+Yw2ACA3+jzZtlNBwDH2S5QFzHYAIDf6PPmMNgAgN/o82bZTQcAx9kuUBcx2ACA3+jz5jDYAIDf6PNm2U0HAMfZLlAXMdgAgN/o8+Yw2ACA3+jzZtlNBwDH2S5QFzHYAIDf6PPmMNgAgN/o82bZTQcAx9kuUBcx2ACA3+jz5jDYAIDf6PNm2U0HAMfZLlAXMdgAgN/o8+Yw2ACA3+jzZtlNBwDH2S5QFzHYAIDf6PPmMNgAgN/o82bZTQcAx9kuUBcx2ACA3+jz5jDYAIDf6PNm2U0HAMfZLlAXMdgAgN/o8+Yw2ACA3+jzZtlNBwDH2S5QFzHYAIDf6PPmMNgAgN/o82bZTQcAx9kuUBcx2ACA3+jz5jDYAIDf6PNm2U0HAMfZLlAXMdgAgN/o8+Yw2ACA3+jzZtlNBwDH2S5QFzHYAIDf6PPmMNgAgN/o82bZTQcAx9kuUBcx2ACA3+jz5jDYAIDf6PNm2U0HAMfZLlAXMdgAgN/o8+Yw2ACA3+jzZtlNBwDH2S5QFzHYAIDf6PPmMNgAgN/o82bZTQcAx9kuUBcx2ACA3+jz5jDYAIDf6PNm2U0HAMfZLlAXMdgAgN/o8+Yw2ACA3+jzZtlNBwDH2S5QFzHYAIDf6PPmMNgAgN/o82bZTQcAx9kuUBcx2ACA3+jz5jDYAIDf6PNm2U0HAMfZLlAXMdgAgN/o8+Yw2ACA3+jzZtlNBwDH2S5QFzHYAIDf6PPmMNgAgN/o82bZTQcAx9kuUBcx2ACA3+jz5jDYAIDf6PNm2U0HAMfZLlAXMdgAgN/o8+Yw2ACA3+jzZtlNBwDH2S5QFzHYAIDf6PPmMNgAgN/Sts+XlUlz5khPPy3t3h3cV1Qk7dmT1Jexmw4AjktqtXmCwQYA/EafNydtBxsASBNp2ee//FI67TTpyCOljAzpiy+C+2+5RbrhhqS+lN10AHBcUqvNEww2AOA3+rw5aTnYAEAaScs+36+f9NvfSqWlUqtWVQHWvHnSKack9aXspgOA45JabZ5gsAEAv9HnzUnLwQYA0kha9vm2baWVK4O/Vw+w1q2TWrRI6kvZTQcAxyW12jzBYAMAfqPPm5OWgw0ApJG07PPZ2VJBQfD36gHWhx9K7dol9aXspgOA45JabZ5gsAEAv9HnzUnLwQYA0kha9vkBA6RBg4K/t2olrV0bXLz9P/9Tuu66pL6U3XQAcFxSq80TDDYA4Df6vDlpOdgAQBpJyz7/9dfSd78rnX661KyZdN550tFHS927S1u2JPWl7KYDgOOSWm2eYLABAL/R581Jy8EGANJI2vb5sjLp5ZelwYOl//5v6bnnpOLipL+M3XQAcFzSK84DDDYA4Df6vDlpO9gAQJpIyz4/f34QYB2qrCx4LInspgOA45JabZ5gsAEAv9HnzUnLwQYA0kha9vmmTWOfKrh9e/BYEtlNBwDHJbXaPMFgAwB+o8+bk5aDDQCkkbTs802aSFu31rz/88+l73wnqS9lNx0AHJfUavMEgw0A+I0+b05aDjYAkEbSqs9fcUWwNG0qXXpp1e0rrpD69pVOPFH6+c+T+pJ20wHAcUmtNk8w2ACA3+jz5qTVYAMAaSit+vx11wVLkybS1VdX3b7uOun666URI6Rt25L6knbTAcBxSa02TzDYAIDf6PPmpNVgAwBpKC37/D33SHv3NspL2U0HAMc1ShWmGAYbAPAbfd6ctBxsACCN0OfNspsOAI6zXaCm9e/fX9nZ2bryyivjfg6DDQD4jT5vDoMNAPgtbfv8lCnSVVdJ554rnXlm9JJEdtMBwHFJrTYHzZs3T2+99RYBFgAggj5vTtoONgCQJtKyzz/2mNSqlXTzzVJmpnTDDdLFF0tt2kh33pnUl7KbDgCOS2q1OWrevHkEWACAiGT0+aOOqrpu6+9+J+3enaSdS3FpOdgAQBpJyz7fvbs0cWLw91atpC++CP7+179KN92U1Jeymw4AjotVNOXl5Ro6dKhOPPFENW/eXF27dtWwYcNUUVGRtMKcP3+++vTpoxNOOEGhUEjTpk2Lud64cePUpUsXZWVlKScnR4sXL074tQiwAADVJaPPt2xZ9ftr06bS1q1J2rkUl5aDDQCkkbTs8y1aSF9+Gfz92GOlpUuDv69aJbVtm9SXshoOAK6LVTTDhw/X0UcfrRkzZmjdunWaMmWKWrVqpcceeyxmkX300Uc6cOBAjfsLCgq0efPmmM+ZNWuW7rrrLk2dOrXWAGvSpEnKzMzU+PHjVVBQoEGDBik7O1tbtmyJrNOrVy/16NGjxlJUVBRZhwALAFBdMvr8xRdL3/te1adr//rXwZFYsRZTEv1PnsmTJ6t79+7KyspSz549NXPmzKjHKyoq9Ne//lXHH3+8mjdvrosuukirVq1KaJ/ScrABgDRS3z7v4ntW3E46Sfr00+DvZ58tPf108Pf33gsOyU4iq+EA4LpYRXPZZZfp97//fdR9v/zlL/Wb3/ymxrrhcFi9evXSr371K5WXl0fuX7lypY477jg9+OCD8RRpzAArJydHN1U7JDMcDqt9+/YaOXLkYbdZHQEWAKC6ZPT5zZulIUOkX/0qCLB+8Qupf//Yiwnx/CdPdQsWLFBGRoYeeughFRYWaujQoTriiCO0fPnyyDoPPPCA2rRpozfffFP//ve/1bdvX5100knav39/3PtFgAUAfqtPn3f1PStuf/iDdM89wd/HjQuOyLr4Yik7Wzpkbm4oq+EA4LpYRTN8+HB16dJFn3/+uSRp6dKlateunV5++eWYRVZUVKSTTz5Z11xzjcLhsNasWaP27dvrhhtuiLdIawRYpaWlysjIqHH/wIED1bdv37i2WyneAGvcuHE6/fTT1a1bNwIsAPBYsv+j4sQTpe3bk7KpuCX6nzwDBgzQZZddFnXfueeeG3mvrqio0PHHH69Ro0ZFHt+5c6eysrL06quvxr1fBFgA4Lf69HlX37PiFg5LZWVVt199Vfqf/5Eef1wqLU3qS1kNBwDXxa7PsIYMGaImTZqoWbNmatKkiUaMGFFnoa1fv16dO3fW1Vdfrc6dO2vgwIFxXzMrFCPAKioqUigU0sKFC6PuHzx4sHJycuLariRddNFFOuaYY9SiRQt16NChxvZi4QgsAPBbql/EvT7/ydOpUyeNGTMm6r67775bZ5xxhiTpiy++UCgUUn5+ftQ6P/nJT3TLLbfUui8lJSXatWtXZCksLCTAAgCPVQZYhYWFUf2/pKQk5vouvWfVS1mZdO+9UiO9r9lLBoAUEKtoXn31VXXs2FGvvvqqli1bpr/97W9q27atXnjhhTqLbf78+QqFQuratavKqifUhy9SYwFWfRBgAYDfUv0i7vV5jzziiCM0sfITlA564okn1K5dO0nB6RqhUEgbN26MWueqq67SgAEDat2XvLw8hUKhGgsBFgD4qTLAOnTJy8uLub5L71n11rKltG5d8rcbQyPHAUBqiVU0HTt21Lhx46Luu++++9S9e/daC23z5s3q3r27Lr/8ch1//PG6+eabEylSo6cQJooACwD8luoXcXdpGOAILABIL4kegeXSe1a99e0rHeZgjmSxFgwAqSBW0bRt21ZPPvlk1H0jRozQqaeeGrPItm3bph49eqh///4qKytTQUGBjj32WN12223xFmmtF3GvHoSFw2F16NAh4Yu4J4oACwD8luyLuDdt2rgXcXf5dAyugQUAfku0z7v8nhW3p56Sjj9euu02aeJEafr06CWJLEYDgPtiFU1ubq46dOigGTNmaN26dZo6daqOOeYY3X777TXWDYfDOuecc3TppZeqtNoF7JYuXaq2bdtq9OjRMQtzz549ys/PV35+vkKhkEaPHq38/HytX78+ss6kSZOUlZWlF154QYWFhbr++uuVnZ2tzZs3N7Qv1IkACwD85stF3BP5T54BAwaoT58+Ufedf/75NS6I+/DDD0ce37VrFxdxBwBEqe9F3F18z4pbkya1L02bJvWlrIYDgOtiFc3u3bt16623qnPnzmrevLm6du2qu+66Kyqgqm727NkxP670008/rbWxzZs3L+a507m5uVHrjR07Vp07d1ZmZqZycnK0aNGiBFtA4giwAMBvyerzv/iFtHNn1e2RI6Vvv626vX27dPrpDXqJWh3uP3muvfZa3XHHHZH1FyxYoGbNmunhhx/WihUrlJeXF/MjybOzszV9+nQtW7ZM/fr1S/gjyQmwAMBv9enzrr5nuchaMACkAtsF6iICLADwW7L6fJMm0pYtVbe/852qC7tLwWmGSf6P2Sh1/SdP7969a/yn0OTJk9WtWzdlZmaqR48emjlzZtTjFRUV+utf/6rjjjtOWVlZuuiii/T5558ntE8EWADgt/r2eRffs1xkNx0AHGe7QF1EgAUAfjMVYLVq1bgBlosIsADAb/R5s+ymA4DjbBeoiwiwAMBvBFjmMNgAgN/o82bZTQcAx9kuUBcRYAGA35LV55s2lbZurbrdqpW0dm3VbQIsAIBv6PNm2U0HAMfZLlAXEWABgN+SeQTWpZdKV1wRLM2aST/7WdXtSy8lwAIA+IU+b5bddABwnO0CdREBFgD4LVl9/rrr4lvSCYMNAPgtrfp8OCw98IB0wQXSOedIQ4ZIxcVGX9JuOgA4zmj1pSgCLADwG33enLQabAAgDaVVnx82LDiU+mc/k/r1k5o3l373O6MvaTcdABxntPpSFIMNAPiNPm9OWg02AJCG0qrPn3KK9PTTVbfnzJEyM4Mjswyxmw4AjjNWeSmMwQYA/EafNyetBhsASENp1eczM6Wvvoq+LytLMvhvt5sOAI4zVnkpjMEGAPxGnzcnrQYbAEhDadXnD/24YanmRw4nmd10AHCcscpLYQw2AOA3+rw5aTXYAEAaSqs+f+jHDcf6yOErrkjqS9pNBwDHJbXaPMFgAwB+o8+bk1aDDQCkobTq87m5jf5xw3bTAcBxSa02TzDYAIDf6PPmpNVgAwBpiD5vlt10AHCc7QJ1EYMNAPiNPm8Ogw0A+C2t+vwXX0gVFY36knbTAcBxjVqNKYLBBgD8Rp83J60GGwBIQ2nV55s2lbZsqbo9YIC0ebPRl7SbDgCOM1p9KYrBBgD8Rp83J60GGwBIQ2nV55s0iQ6wWrUKjsoyyG46ADjOaPWlKAYbAPAbfd6ctBpsACANpVWfJ8AC3GK0+lIUgw0A+I0+b05aDTYAkIbSqs83bSpt3Vp1u1Urae1aoy9pNx0AHGe0+lIUgw0A+I0+b05aDTYAkIbSqs83aSJdeql0xRXB0qyZ9LOfVd2uXJLIbjoAOC6p1eYJBhsA8Bt93py0GmwAIA2lVZ+/7rr4liSymw4AjktqtXmCwQYA/EafNyetBhsASEP0ebPspgOA42wXqIsYbADAb/R5cxhsAMBv9Hmz7KYDgONsF6iLGGwAwG/0eXMYbADAb/R5s+ymA4DjbBeoixhsAMBv9HlzGGwAwG/0ebPspgOA42wXqIsYbADAb/R5cxhsAMBv9Hmz7KYDgONsF6iLGGwAwG/0eXMYbADAb/R5s+ymA4DjbBeoixhsABgTLpfWfiAtmxL8GS63vUdpiT5vDoMNAPiNPm+W3XQAcJztAnURgw0AIwqmS4+cJuW1rloeOS24H42KPm8Ogw0A+I0+b5bddABwnO0CdRGDDYCkK5gu5bWJDq/yWh+8rw0hViOjz5vDYAMAfqPPm2U3HQAcZ7tAXcRgAyCpwuU1j7w6NMR65HROJ2xE9HlzGGwAwG/0ebPspgOA42wXqIsYbDzG9Ydgw9oP6givqi1rP7C9p2mDPm8Ogw0A+I0+b5bddABwnO0CdRGDjae4/hBsWTYlvgBr2RTbe5o26PPmMNgAgN/o82bZTQcAx9kuUBcx2HiI6w/BJo7Acg593hwGGwDwG33eLLvpAOA42wXqIgYbz3D9Idg+dTTyMxgrROVn0Ab6vDkMNgDgN/q8WXbTAcBxtgvURQw2nuHol/TmyqmjHAXoFPq8OQw2AOA3+rxZdtMBwHG2C9RFDDae4fpD6cu10GjusJr78sjphFcW0OfNYbABAL/R582ymw4AjrNdoC5isPEMR2ClJxdPHZ3/UPQ+vHI1pw1aQp83h8EGAPxGnzfLbjoAOM52gbqIwcYzXH8oPbkYXL56TfCaT5wf/Pli38Z7bUShz5vDYAMAfqPPm2U3HQAcZ7tAXcRg4yHXTiWDeS6eOjq6Z/CalUdije7ZeK+NKPR5cxhsAMBv9Hmz7KYDgONsF6iLGGw8VTBduic7OrwYdSrhla9cOwJr346q19y2uipALStpnNdHFPq8OQw2AOA3+rxZdtMBwHG2C9RFDDae2lVU7ZTB7wZ///Rl23sFU1y7Btaa94PXfbSXVFEhDe8Q3N66snFeH1Ho8+Yw2ACA3+jzZtlNBwDH2S5QFzHYnqZ4XQAAIABJREFUWBYuD46KWTYl+DNZAUPhW0Fg8OQF0nt3BX+f/j/J2Tbc9Nm02sOrxj519MPRwWtPzg1uP/Wj4PbKWY23D4igz5vDYAMAfqPPm2U3HQAcZ7tAXcRgY1HB9JpHzTxyWnKChjl5B0Orm6UVM4O/jz2n4duFuxY/Wy2wqv4zdXrjnzr62sDgtT8cHdyenBvcXjiucfcDkujzJjHYAIDf6PNm2U0HAMfZLlAXMdhYYvpC6y/0Cbb3yQvR1yPauy05+w+37N4sjegYfI8XPS2tfr/q52tnUePvz6O9gtde835we+69we23/9L4+wL6vEEMNgDgN/q8WXbTAcBxtgvURQw2Fpi+XlE4XHXNoU3Lg/vG5QS3V8xI3r8D7nj9j8H395neVT83j54R3Lfuo8bdl+Jvq36W9+0I7vv05eD2i/0ad18giT5vEoMNAPiNPm+W3XQAcJztAnURg40Fpj8xbuvK4Pn3Hy+VlwX3vXVLcN+7dybv3wE3fPGPquBzw7+q7v/bFVVH4TWmtfOD1x3ds+q+LxcG943pWfvzYAx93hwGGwDwG33eLLvpAOA42wXqIgYbC5ZNiS/AWjalftvPfyV4/vOXVN23dFJw37P/mZx/A9xQVio9fnbwvZ1xW/RjMwcH98/+a+Pu04LHg9d99Zqq+3ZvDu67J1sqK2nc/QF93iAGGwDwG33eLLvpAOA42wXqIgYbC0wfgfX2X2oebfXNl8F997aVSvcm598B++aPCr6vD50SnLpX3aJnagZJjeH1PwSvO/+hqvsqKqTh7YP7t61q3P0Bfd4gBhsA8Bt93iy76QDgONsF6iIGGwsi18CKdRH3JFwD6+mfBNtZ/kbVfRUVwTbzWgeneCH1fbNOuq9d8D3992s1H189N3hsXE7j7lflEWGrZkff/9QPg/tXvtO4+wP6vEEMNgDgN/q8WXbTAcBxtgvURQw2lpj6FMID+4OjrPJaB0ddVTfld8H98x5o+P7DrooK6eWrgu/nhMuC24eqPOpu2DH1D0MTVbK76ud6z5box14bGNy/8InG2RdE0OfNYbABAL/R582ymw4AjrNdoC5isLGoYHoQLlQPsB44sf7hlSR9tSTYzoNda4Yai5/lk+B8Ufj2wVNCj5a2fh57nXC5NOzYg2HmusbZr8qLtT98Ws3H5txz8Fpd/69x9gUR9HlzGGwAwG/0ebPspgOA42wXqIsYbCwKh6X7D14XaOw5wZ9v/7lh2/z4qWA7L19V87FNy4PHhrev+nRCpJ6SPdIj3w2+l3PvrXvdcecG662e0zj79vGTweu9cnXNx/71t+Cxv/VvnH1BBH3eHAYbAPAbfd4su+kA4DjbBeoiBhuLdnxx8BSvY6XPpgZ/f/zshm3z9T/WfppgOCyN6BQ8XvRpw14HjStcHlzUf9mUqlNBx/SUSvfV/bxXrwnWXfR04+zn1BsO/vyNrPnYlwuCxx49o3H2BRH0eXMYbADAb/R5s+ymA4DjbBeoixhsLPpsWjDQP/2T4BPk7skObu9swBvkY2cevIB2LUfcvPwrrkOUagqmH7zo/yHXS5tzz+GfO/uvwbozB5vfT0l64ryDF2qfVfOx3ZuCx+7JlspKG2d/IIk+bxKDDQD4jT5vlt10AHCc7QJ1EYONRXOHBQP99JuD28/+Z3D705frt719O6rCjX07Yq/zwSPB45N+W7/XQOOq9WL/reO72P+/Xjx42t4V5ve1dF9VCLurqObjFRXS/ScEj29bbX5/EEGfN4fBBgD8Rp83y246ADjOdoG6iMHGosqjoRY/G9yuDLRe/2P9trd6bvD8x75f+zqVF9l+6OTYn1wHd4TLYx95VT3AeuT0uj9hsPK0vTHfM7+/lR8g8NAptf9sPfnDYJ3P3zW/P4igz5vDYAMAfqPPm2U3HQAcZ7tAXcRgY9GobsEwv35RcHvt/OD2qFPrFy7946GDAdgfal+nrKTqk+m2r6nffqNxrP2gjvCq2rL2g9q3sWdLVdhVVmJ2fys/5fKlK2tfZ9Jvg3U+ftLsviAKfd4cBhsA8Bt93iy76QDgONsF6iIGG0uqBwsle4L7DuyX7jsuuH9LYeLbfOXq+MKB538erPevvyX+Gmg8y6bEF2Atm1L7NioqpBEdD/5MrTC7v2/eePCTEYfVvs6cvIPX5Pr/zO4LotDnzWGwAQC/0efNspsOAI6zXaAuYrCxZPWcg586eFb0/X/rX78jVCoqglO38lpLXy2ue9059wTrTbsxsddA40rGEViS9EzvYL3Ct83u71MHTw8sfKv2dRrzmlzpqPqnVa79IHJ6KX3eHAYbAPAbfd4su+kA4DjbBeoiBhtLPhwdDPKTr4u+/6NHg/tfGZDY9r79KnjevW2lA8V1r/v5e4e/Vhbsi1wDq46LuB/uGliSNOX3wfofjjG3r2Ulwc9eXmvp2/W1r7fuo2CdR3uZ25d0FevTKh85TSqYTp83iMEGAPxGnzfLbjoAOM52gbqIwcaSydcFA+YHj0TfX5Qf3D+8vVR+IP7tfTYteN7TPz78usXfVoUiuzcntt9oXAXTaw+v4vkUQkn6+4joT7s0YcO/gtd44MS6r9+2a2Ow3j1HJfbzjbrV+mmVwc/JrsWv0ucNYbABAL/R582ymw4AjrNdoC5qcIBVyykrOIzHzwoGzNVzou8Ph6UHukRf3D0e7w0NnvP2n+Nb/8kLgvU/mxb/a8CON66vGUw8cnp84ZUk/Xty8JzxvzC3j/8cH7zGi/3qXq+iQrr/eD5EIJni+LTKXcO7EWAZwmADAH6jz5tlNx0AHGe7QF3UoACrjlNWUIeSPVVHS+zZUvPx1wYGj817IP5tjv9F8JxPX4pv/Rm3BevPGhL/a8COF/sF36sZt9UvKK48OmrUqeb28a1bgteYfffh160MT1fNNrc/6SSOa6XtuuM7BFiGMNgAgN/o82bZTQcAx9kuUBfVO8A6zCkrhFh1WL/oYKDQLfbjlUezPH9JfNsrL6s6qiXeTy+s/IS7eE45hD0HiqVhxwbfq60r67eN/Tur6nO/oQDjmd4Hj+ibevh1J/3m4AcVPGVmX9JNHJ9WSYBlDoMNAPiNPm+W3XQAcJztAnVRvQKsOE5Zievi0ulq8bPB1+nlX8V+fMcXVRdkL9lz+O1t/qzqulnxfs13bjh4LaJsqWR3/PuOxlX5aZWPnF73taUOp/ITKos+Td6+VSo/IA07Jtj+ji8Ov/7su4N1Zw5O/r6kI47AsorBBgD8Rp83y246ADjOdoG6qF4BVhwDk/JaB+uhpuk3B1+fuffGfryiQhrTM/7TrP71YrDuhMsS24/K11g9N7HnofG8e2fwPXrzpoZt5/mfB9tZNiU5+1Xdxn8H2x7RKb6Q7ZMXgvVf+mXy9yUdcQ0sqxhsAMBv9Hmz7KYDgONsF6iL6hVgxXHKirFh2QdP/+TwF1CvDLnevfPw24tcf+ivie3HG4OC571/f2LPQ+MZd27wPVr+RsO28+aNiV9XLV7/+ltiAWplAP7Y95O/L+nqMJ9WyacQmsNgAwB+o8+bZTcdABxnu0BdxBFYjaz8QNU1jeo63Wr568E6T15w+G0+9cNg3USvO1Z5ra1Ej9xC49hVVBVC7NvRsG19ODrY1ut/TM6+VVf5gQDxhK1S1b/r3rZBPaDhir8Nvp6H9uCDn1bZ4E+bRa0YbADAb/R5s+ymA4DjbBeoi8xcA6s118CqTeR6VR2kcLj29fZuq/pa7tla+3ql+6R7jgrW27khsX3ZsiJ43n3HSWWliT0X5n36UvD9efbChm+r8K1gW8/8R8O3dajnLgq2/e/J8a0fDgc/c3mtpe1rkr8/6Sh/YvD1HPuD4D8ODvm0ylQPsHbs2KFrrrlG3/nOd9SmTRv9/ve/1549dV8fcP/+/brxxhvVtm1btWzZUr/85S+1efPmyONLly7Vr3/9a3Xs2FHNmzfXaaedpkcffTThfWOwAQC/me7zLr/HNQa76QDgONsF6qKGfQphHQHWhMsadtFpXy19VXF/wuCTPzz8qZjrPw7WGdUt8a93RYX0wInB879akthzYd6U3x08xfO+hm9rS2Fi16mKV3lZVRi1bVX8z3vi/IPXeJuTvH1JZ68MCL6efx8R8+FUD7AuueQS9erVS4sWLdKHH36oU045Rf/1X/9V53P+9Kc/qVOnTnr//ff1ySef6LzzztMFF1Qd0fr888/rlltu0T/+8Q998cUXeumll9SiRQuNHTs2oX0jwAIAv5nu8y6/xzUGu+kA4DjbBeqiBg02j59TM7h68KSD111J0uDtm3f+N/jazLr98OvGcwHvheOCdSbW/UZXq4m/Dp7/0WP1ez7MCIerwsUvFzZ8ewf2V9VlXUf0JaoyGBvevu4jCg/16jXB8xY9nbx9SVfF31Z9CuSWwpirpHKAVVhYqFAopH/+85+R+9555x01adJERUVFMZ+zc+dOHXHEEZoypSr8X7FihUKhkD7++ONaX+vGG2/UhRcmdsQjARYA+M1kn3f9Pa4x2EsGgBRgu0BdVO/BZu926Z7sg0cIvR59ysonE6oCrSX/Z2S/U9aEy4Kvy6cvHX7dVXOCdUf3qP2omcqjdOaPqt/+fPRYwwIwmLHhX1WnmibrOlGVnzqZjECsUuWpa8//PLHnvTc0/iAXdav8HozLqXWVVA6wnn/+eWVnZ0fdV1ZWpoyMDE2dOjXmc95//32FQiF9++23Ufd37txZo0ePrvW1fvOb3+jKK69MaP8IsADAbyb7vOvvcY3BZjYAOM92gbqo3oNN5dD05A9jP/73EcHj92RLK2Y0fEd9UFEhjewUfF02/vvw65fule49uu5rBT16RvD4mr/Xb5++WhI8/4ETEzuCBmbNH5X8YPHFfsE2//W35G1z1pCDQdSQxJ5XGXK//Kvk7Uu6Oszpg1JqB1jDhw9Xt27datx/7LHH6sknn4z5nFdeeUWZmZk17v/BD36g22+PHZouWLBAzZo103vvvVfn/pSUlGjXrl2RpfJ/zwmwAMBPlQFWYWFhVP8vKSlp8LZde4+zwW46ADjOdoG6qN6DzWvX1n2aYEWFNP3mgxcJbyd9tbjhO5vqvvny4KevHR3/RdPH/yJ4zj+fr/nY3u1VR7oVf1vz8XiUlVZdw2jryvptI9nC5TEvRJ1WKr/vS55L3jYrPy1wTl7ytvn8JcE28ycm9ry184PnPXZm8vYlHRV/WxVy13L6oORmgDVkyBCFQqE6lxUrVjTKL/fLly/XMccco/vuO/xp73l5eTH3lQALAPxUGWAduuTl5dX6nFR9j7OhcVIAIEXZLlAX1WuwKSsNTm3Kay19/Unt65WXSS9fdfAIny7Bp96lczBR+HbwtXiqlqPWYvnHg8FzXru25mOrZgePPX52w/ar8rTGf45v2HaSoWB6zU+4fOS04P50UbJburdt8G/f8UXytvvxU8E2J/0mOdsLh4NrXx0mPIlp54aDYW7boE+gfuI4fVByM8DaunWrVqxYUedSWlpq/PSKgoICtWvXTnfeeWdc+80RWACQXupzBFaqvsfZYDMbAJxnu0BdVK/BZs3fD37y3amHP+2sdK/07IUHTyc8Kr2Dib8PD/7d026M/zlfLa4KAA8N/OaNDB574/qG7df79ydnOw1VML3qQuNRS5tgSZeflZWzgn/3o72Su93Ka6o9cV5ytrdt1cEjLI9LPIQKh4MjM5Md0qWbOE4flNwMsOJVGRB98knVf5a89957cV3g9vXXX4/ct3LlyhoXuP3ss8/Url07DR48uN77xzWwAMBvjXERd1ff4xqDvWQASAG2C9RF9RpsZt1++E/Hq+7Tl2OEEmkYTLxydfDv/vip+J9TXlZ1tFvRp9GPvfyrg5/k9kzD9mv13GA7Y3o2bDsNES6veeTVoT8rj5yeHkftVZ7q9/ZfkrvdHWuD7Q47NjnXO1s2JdjecxfV7/njzg2ev3pOw/clHcV5+qCU2gGWFHzE+JlnnqnFixfro48+0qmnnhr1EeMbNmxQ9/+/vTuPj6q+9z9+IGVRNCyCshlcoRavXK2m0t6f1uJCWwW3SkFrqveiCNbW60bdUrW4F7UitSqIVdlUEG9FUCGiuLAoawIIghFZRMBggJD1/fvjMDMkmSQzk/nO9zsnr+fjcR4tkzNnvufMfL8zn7fnfE+vXlqwIHKp+rBhw5SVlaW5c+dq8eLF6tu3r/r27Rv++4oVK9SpUyddccUV2rJlS3jZti2+u3QSYAFAsJke513+jksFu+kA4DjbHdRFcRc2VVXSY//hF02xTM6eqmAiHeZN+tuP9t8F7sP4nhcKvj444LTgqip/4vWGLuOMxb7vI3eULPq6cdtK1Pr36/mMHLCsf99O+1LpiZP9fS34v+Rut7IiEnh8V9j47c263d/Wv29K7PmThvjPX/BM49vSFMV4+aCU/gHWjh07NHjwYB1yyCHKzMzUVVddpeLi4vDfN2zYIM/zlJeXF36spKREw4cPV/v27XXwwQfroosu0pYtW8J/r2suqx49esTVNgIsAAg20+O8y99xqZD6RABII7Y7qIviLmy+KYicxVG6u+H1UxFMpMO8SXt2RNpWEmcRGZq76IWBkcfCZ9N0lMobfxcUPf3//O0tf6Xx20pE6GyehhZb7UuVnRsil9vG+zmJxZOn+dtfN6fx2wrNnZboXQ1n36GE7mAIX2h+wbwHGlw13QMslxFgAUCwMc6bZTcdABxnu4O6KO7C5v2/+UXTS5fGtr7pYCJd5k0KzRuWyLxG36zaP9fQ4VJZif9Y6Lg+c1Zy2jfzNn97EwfbOYuNM7B8i8b5+znuPDPbn/jb5Jz1VFUl3X+kv63NyxLbxqLx+8eS3zSuLU1RtcsHVzW4OgGWORQ2ABBsjPNm2U0HAMfZ7qAuiruwee4cv2ha+Gxs65sMJhpzeWKqLzmc/4Tfpmh3E2xIVZX0SE//+V+85z/21p/9f795c3LaN+uO2scvlWexMQeWb/Ll/v6+97CZ7SfrrKcdX0TOAKwoS2wbX7znb6Oxd9FsiuK4fFAiwDKJwgYAgo1x3iy76QDgONsd1EVxFTa7v42c7VQU4yAeDiainSXVyGAi0XDMxiWHr/63/zrzEgwmXhvqP/+dv/j/fu5c/99LJzW+ba6cxRY6+6iuz4krZ9OZUlEeOaupsfOa1WXx8/72X7ykcdtZOc3fzj/PTHwb333lb+Oew+K/i2FTF8flgxIBlkkUNgAQbIzzZtlNBwDH2e6gLoqrsFnysl80/eNn8b1IOCCpI8RKNJiI9fLEiYOkjYv8O6/ZCmvGZPuvs2Z2Ys8PHftnzvLPeLnvCP/f337euHa5dObTK1dHzuo5sA33dgp+eCVJhZ/4+/tgD3PHe8MHSvhS1gO9fbe/nTduSHwblZX+e5ub6c/9hdjEefmgRIBlEoUNAAQb47xZdtMBwHG2O6iL4ipsJl/hF01z/hr/C0U76yk3U3rk+MTPvoj1DKzQ8vDx0l87pz6sKd0Tucvf91saXj+aoq/95/+lnbR+nv//7z/SDwEaw5W5p75aEHkPvv7Uf72Px0ZevykEHHNH+fs6Ncfca3y/JfI5Ki9NfDsvDPS3s2h849oTCnbXvtu47TQloTB7zE9ifgoBljkUNgAQbIzzZtlNBwDH2e6gLoq5sCnfJ43q6hdOXyd4edOB806tmS090MPf3rIpiW+vobOHHjxKmpIjjeoWe9CV7LBm46L9Adqx/nxWiXry1P2Xf13s/+8LAxrfNhfu/ldZKT3zC/91Xh9e/W+hoCSR0DTdPNvP39dPXzD3GlVVkX68bU38z6+s8APUv3bxt/HVwsa1Z+JgfzuNnVS+KYnz8kGJAMskChsACDbGebPspgOA42x3UBfFXNismxM5Y6qxZ/2EvP+ov80nT038rKfFE+oOrw68JLB8X+Syp1SHNaG5nf51UeO28++bqrfz1f9p/NliLpyBtWyK/xqjutY+Q23Fq/7fgj6B+96dkbP0Yp1fLlH/+C//dVa9Gd/zop1F+Wivxl3eOet2fztv/TnxbTQlCVw+KBFgmURhAwDBxjhvlt10AHCc7Q7qopgLmzdv8YumGdcn78VLdkkPZPnbXfFaYtuYNsx//r2HVS+s/3ZC7cLaVljzxh/97b59d+O2Ey2Aa+zk8yYn2Y9F6R5/+7mZ0rxHav+9fJ8/J1RupvT522ba4IKV0/eHuaeZf62pv/df68O/x/4cU3PHLXzO387LlyX2/KYmgcsHJQIskyhsACDYGOfNspsOAI6z3UFdFFNhU1UlPXZiYmdtNCTvQX+7T50e/5ldXy+OFNKFCyKXJ65/P3rgYiusCV0et+LVxLdhcvL5OifZT8FdCEPv/+gTpbK90deZeZu/zuTLzbXDthl/8Pdx5m3mX2vOX/3XinUCdpMT/X+RFzkLEw1L4PJBiQDLJAobAAg2xnmz7KYDgONsd1AXxVTYbM3ff5ZTJ6l0d3IbsPc76f7u/vbjCUqqqqTnzvGf99o1sT+v3jsiGghrKisOuGPg2sS3YfpOgdEuD3v4WLPh1a5NkUn16zsDb+tKf517OkjF28y1x5aqKml079SdZbZ0sv9az/86tvVNnrn4XeH+saVj/J/fA+fUqyu0DpIELx+UCLBMorABgGBjnDfLbjoAOM52B3VRTIVNaK6qly4104g59/nb/8fPYp/kPDT5+F87+0FIPOq6I+K/Lo6/7Q35ZtX+dnZJfO6wVF36GAoExvX3t/d/NzZuew2Zdq3/Os+d2/D7/sxZ8V/2li6+/TwS4iQ7II5m4/4zFx/tFdv6Jif6r6z0g/HcTGnnl7E/L1ofbuzltK5L8PJBiQDLJAobAAg2xnmz7KYDgONsd1DTLrzwQrVr106XXHJJzM+JqbB59my/cFr4XBJaGcWeHZE7o62e2fD6B86b9N7Dib3mgWdvzH8iUgRvmJ/Y9uqybOr+kOacxLeR6jsFfv5O5AysivLkbLOmAy//jOWulovGRy41a8ydHF308T/8fZtwQWpeb+/OyLHfV9zw+qYD1CdP85+/bm5s65u8nNZlCV4+KBFgmURhAwDBxjhvlt10AHCc7Q5qWl5ent54443kBljF2yLFYtHXSWppFKEJyv95ZsMBRd4DDc+bFK/QHESP9/EDsmSZfYe/3X//b+LbSPXk8xVl0oNHxRcqxKOqyj/rKp7LP0t2RS43LPwk+W2yKRRMfPBY6l7zoWP819y8tOF1Tc8d9/Kg/QH5s3G0xeDltC5qxOWDEgGWSRQ2ABBsjPNm2U0HAMfZ7qCpkJeXl9wA67OX9l/e919JamEdirdFAorP36l7vaKNkTmlEr1zYTQlRZGzut76c/K2+8IAf5uLJyS+DRuTz4funPj6iORtM2TFa5HLP+MJRadf5z9v+vDkt8mW8n2Rz/3mZal73dD8cbHeWCB/Rt2fvcae9TTrdn9bs25veF1bdxK1rRGXD0oEWCZR2ABAsDHOm2U3HQAcF63T9OjRQ57n1VqGD09ekTxv3jydf/756tKlizzP0/Tp06OuN2bMGPXo0UOtWrVSdna2FixYEPdrJT3Amny5XzjNHRV3W+IWKmSf7Vf3WViv/re/zrj+yb+U7PO3I0X5V/Ef+1qqqiJnMm36rHHbSvWdAkNBwQNHSuWljdvWgZdrrn1X+tv+CcvzHoxvO4UfR4KvkoAU4uvn7b9c87jE50hLRCgMjOcS3L+fXDso+tsJjf/sLXzW39bLgxpeN9WX09oW6jv/+Nn+cfj+hDZDgGUOhQ0ABBvjvFm2cgEgLUTrNNu2bdOWLVvCyzvvvCPP85SXlxe1k82fP19lZWW1Hs/Pz9fWrVujPmfmzJm64447NG3atDoDrMmTJ6tly5YaP3688vPzNXToULVr107ffPNNeJ0+ffqod+/etZZNmyKTmCc1wCrfF5mb6utPY95mwr7fKt13eN2Xrn21IBLabFpipg3Thik811JZSeO2VbTR39Zf2jd+W1IdE1cnIUCIprJCeqSn/xqr30p8O3VNmP/gUfFfqllVJf39x/vPaHs+8Ta5IBRMTNx/+dyr/53a1w/dmCHWSzi//nT/Z7mD/54m885/6+bu73OnNbxuUzoDK+qdQY9LqL8TYJlDYQMAwcY4b5bNbABwXiyd6I9//KOOPfZYVUU5u6eyslJ9+vTRpZdeqoqKSOG2evVqHXHEEXrooYdi6aRRA6zs7GyNGBG5XKuyslJdu3bVAw/EN2FvUgOste/6RdMjPVN3dsjMW/3XHP/L6o9XVkr//Pn+y9oMXkK2d2ckuHn77sZta/VMfztP9U1O26TqZzMlK0Coy8zb9ocr/5PY8+ucbHv/kkjwNv9x/7nP/CKxNrkgWjDxQI/UTj6e/3p8xzF0x8hEPwv12fmlv+17Ozb8ea6s8O+eGPQ5sJI8UT0BljkUNgAQbIzzZlkNBwDXNdSBSktLddhhh2nUqLovl9u0aZOOPfZYDRkyRJWVlVq3bp26du2qa6+9NtZOWivAKi0tVUZGRq3Hr7zySg0YMCCm7YbEGmCNGTNGJ5xwgnr27Fl3YfPmzX7RNOP6uNrQKLs2+YVsbqa04YPI40sm+o+N6uafqWXSqjf3n23SLrY75NUl70F/O9Ni+2w456uF+4951/jPljI12XbxN9I9HfxtbM2P77kucOUOeltXRi4RbehS3OJtkT65cVHy21JZEdn+d4UNrz/lyro/U0G4C6GBvkOAZQ6FDQAEG+O8WVbDAcB1DXWgKVOmKCMjo9oledEUFhYqKytLgwYNUlZWlq688sqoZ2zV0UlrBVWbNm2S53n66KOPqj1+yy23KDs7O6btSlK/fv3UsWNHHXTQQerWrVut7UVTZ2FTVeXf5S830w90Uun/bvRf9/lf+2cZffqif4ZKbqb0wejUtOGVq/efPXW6fyllIiYN8bfx0Zjkti1VDvwMrIw+b1udTF7wQvGoAAAgAElEQVTqFTqub42M/7k2uXQHvbK9kdfdvb3+dec97K/3z5+ba8+Tp/qv8UVe/ettzY8EmA/2qH78Hjk+/cMryUjfIcAyh8IGAIKNcd4sm9kA4LyGOtC5556r888/P6bONm/ePHmep2OOOUbl5eXxdFJjAVYi6ixsQmdo3Hd4/GffNNZ3X/nzRtUs2P7SPva7pjXW7u3Sw8f6r/vuvYldtvfYiek/H8/bd/v7MPmK+J5ncrLtNbP3BxhHJR4u2uDa/E2j90+mX/hJ3etUlEuP7g/dlk4y15aXL/NfY+Fzda9TWeFf8pibKU0c7Ldt/fvSmGz/sff/Zq59qWSg7xBgmUNhAwDBxjhvlsVoAHBffZ3nyy+/VPPmzfX666832NG2bt2qXr166YILLlDnzp11/fWxX2LnGb6EMF61CpvQHEtTcvwi6cVLjb5+VPkz6j9LJVVnWaycHr0Nf/thw23YuzOy/t6dqWmvCZuXRYLMeO78ZzKsqayIhCorXov/+ba4dge9CRf4r7fk5brXCfWBh44xGxa+9Wf/dWbdXvc6nzztrzOqm3+pcciicf7jT/8/c+1LJc7ASisUNgAQbIzzZlkNBwDX1dd5cnNz1blz5wbPpvr222/Vu3dvXXjhhSovL1d+fr46deqkm266KdZOWuck7gcGYZWVlerWrVvck7jHq1phE3Vy6SNTe1mOS5dZ1RmkxTDXTqgIfexE8+006cA7/y2dHPvzwu9jXZO4N/J9nHOfv51/XZjY821w7Qys0KW6795T9zrjfxk5C9GkBc9EzqyK5ruvIndEXfhs9b/t/jZyxub2dWbbmQrMgZVWKGwAINgY582yGg4Arqur41RWViorK0u33XZbvR2ssrJSp556qn71q1+ptLQ0/PjSpUvVoUMHjR49OurziouLtWTJEi1ZskSe52n06NFasmSJCgsjExZPnjxZrVq10oQJE1RQUKBrrrlG7dq109atZicsDxc2CybVETakeGJkV4r8xhaRH43x15s0xGw7U2Hu/f6+vPSb+J7XmACwITvWR7YVy8TfLqgol/7axY1wVpI+esp/3Sm/i/73LSv8v/+lvVT0tdm2hO54OibKJdNVVf5nLzdTeu7c6HdEfWGg//f3HzXbzlRJct8hwDKHwgYAgo1x3iyr4QDguro6zuzZs+V5ntasWdNgJ3v77bdVUlJS6/HPPvuszoEtLy9PnufVWnJycqqt9+STTyorK0stW7ZUdna2PvmknrlpkiRc2Iw63o3C2pXLrBoTpFVWRArqadelLpAwZdtqf1/u6SDt2RH780J3May5/O2E5ASioUvg5t7f+G2ZVlUlzb6z/j6W6jvoheYSG/vT6H+fcf3+gOtK823ZucF/rXs71Q6oVry6/28dpW9WRX/+4gn+Ov/4mfGmpkSozyWp7xBgmUNhAwDBxjhvlq1cAEgLtjuoi8KFzchD7Z/1JLlzBlasQdprQ6WiA77Qol2GGcucWa4b+zN/XxZPiG39inI/TMjNlKYNS2wS/IaE3qOHjpGWTUnutqXIfHDJaHfeA5HPw//9KcpnJEmhXjy2r/Nf+74jaodGe3b4j+dmSl9+aL4tFeXSPYf5r/fdV9XbEbqZQl49l1Pv2RG5O+G3a82317Q3b/H35eVBSfkMEmCZQ2EDAMHGOG+W3XQAcJztDuqiuAKsVEwubXrupFjFGqSFlmf7SdOuraPdFs6uSbb3/+bvy4QLYlv/43/46z+Q5c9RZMLyV2sf72SFhckMIuc/HtnGx2P9x5IZjiWqojwS+hTV+FEWavPYn/lnj6VCaK61L96LPDZ9uP/YmOyGJ5F/8WJ/3fceNttO0/YVS/d39/dl7btJ2SQBljkUNgAQbIzzZtlNBwDH2e6gLnLuDCxp//wvbaOEQSkMgmIJ0h44UnruvHrWsRC8mRK6xOsv7aTvG5iXbddm/05xuZnSovFm2hP+jBgIC5O57dDk5LmZbs7P9PdT9odGeZHHKiv8mw/kZkqfvpC6toTmuQp9Zr7Iixz3whgup/7sRX/9p/qabKV5C5/z9+OJk6PP95UAAixzKGwAINgY582ymw4AjrPdQV1UfQ4sy2c9HSjqGTApvswq1iDt+y3SzFtjO1MrVSGgCc/8wt+HT/5Z/3qvXOWv98wvklaAV2PyTpWN2XbNs6o+fSHyPNN38UvUy5f57Vv4XOSxVW/6jz3YQyrbm7q2hC6be+k30ufvSI+d5P/737Hd4VV7d0YuQ9y22mxbTamqkp463d+Hj55K2mYJsMyhsAGAYGOcN8tuOgA4znYHdVHtuxBaPOupJhcus4o1SHNl8nmTQnete+7cutdZNzdyptbmpWbaYXKetES3He1zElreGpm6y/DiNev2/W38c+SxFwb4j719V+rakT/DP6Ox5rF7oIdUEkfo8tKl/vPqmy/LZRvm++3/a2dp73dJ2ywBljkUNgAQbIzzZtlNBwDH2e6gLqpW2Lhw1pOLYgnSXJl83qRdmyIB54ETbYeU74tckjbzVnPtMBkWxrrtp34ivfeQHzhEm4vrwCX/9eQfg2RZNC5y1pMUufvdX9pJO79MTRvqvGQzdPziGH+WTPSfMybbXHtNmprjt3/GH5K6WQIscyhsACDYGOfNspsOAI6z3UFdVKuwceGsp3TkyuTzpo3/lb8/85+o/bd5D/t/e+R4qaTIXBtiDQtn3RHfJYxVVdK8R2LbdsyL4+/7+nl+O5842f/3v//X//fEwal5/WRfDrr3O+nejv5zvykw2/Zk+35LZFL9zcuSumkCLHMobAAg2BjnzbKbDgCOs91BXURhk0QuTD5vWmiC6afPqP74jvXSfYcnfuZTPBoMCw9YnjlL+vrT6s+NFtBuzZdeGBhbIPXIcdInT0tTf+9f4pbOZ97t2rT/jKv20u7t0l+7+P/+Ii81r2/izMWXB/nPmTvKXLtNyHvQb/dz5yR904zz5lDYAECwMc6bZTcdABxnu4O6iMImyYJ+Gebub/2wIzdT2r7Of6yqKjL30IQLUjPfU0Nh4fTrIndCzG0rvfFHacnLtd+bR3pK/7rIv2QuN9M/e2fSkNiDyGVTYwtgXJ37rKpKuu8Iv42hAO/J01I3Z5eJy0GXTvaf8/cfuzv3WE0VZdKjvfx2L5ua9M0zzptDYQMAwcY4b5bddABwnO0O6iIKGwOCfhnmvy7yC+3pw/19fO8h/9/3HCZ9+3nq2tFQWPj9FunV/4n9cr/Jl/tnksWy7ZB0n/ssf0bkzn2h5YEjUxe4mjh+Jbukezv5z9uywlzbk2nldL+9Dx/rzyWXZIzz5lDYAECwMc6bZTcdABxnu4O6iMIGcfv3TXUEQFekvi2xhIVfvBeZW6iu5aFjaj83lm2n89xndU6ensJLXk0dv0lD/Oe/e6+Zdifb87822l7GeXMobAAg2BjnzbKbDgCOs91BXURhg7jUe8c4R+f5Mn2WVDrOfZbsydMbw8TxC12a+MTJ7l9G+E2B39a/tJOKzPw4Zpw3h8IGAIKNcd4su+kA4DjbHdRFFDaImUuhRzxMzLNUU7rNfebapY/JPn77vo/cVGDz0uS2NdlCd36cNMTYSzDOm0NhAwDBxjhvlt10AHCc7Q7qIgobxMy10CNWqWp3Os19lopQL17JPn6TL/f34Z3cZLTOjH3fS6O6+u1cN9fYyzDOm0NhAwDBxjhvlt10AHCc7Q7qIgobxMzF0CMW6TxPlSnpGkbGY8Vr/j48fpK7lxEueMZvo+E7JjLOm0NhAwDBxjhvlt10AHCc7Q7qIgobxCydQ490nKfKpKYQ6pXulu47wt+fTZ/Zbk1tVVXSmGy/fR//w+hLMc6bQ2EDAMHGOG+W3XQAcJztDuoiChvELN1Dj3Sbp8q0phDqTbnS36e377LdktpCgfBfu0glRUZfinHeHAobAAg2xnmz7KYDgONsd1AXUdggLukeeqTTPFWpEPRQb+V0f58eOzG+S/RMfk5C237mLL9tM/6QvG3XgXHeHAobAAg2xnmz7KYDgONsd1AXUdggbkEPPZqaIId6pXv8M5xyM6WNi2N7TtTP9w+T8/mOtu2HjzXedxjnzaGwAYBgY5w3y246ADjOdgd1EYUNEhLk0APB8spVflA06/aG1w2fYRjl8tjGnmFoctsNYJw3h8IGAIKNcd4su+kA4DjbHdRFFDYAAq3gDT8oeugYadnUugPX8Bxvdd2goI453mIJcxPddpIwzptDYQMAwcY4b5bddABwnO0O6iIKGwCBtvyV2mc+1bwksKJcWjwh/rtsxnK5YVWVtGyK1Tt4Ms6bQ2EDAMHGOG+W3XQAcJztDuoiChsAgVXvZXuZ0uQrpAnnR+bJimV54mT/csTZd9a/7Vf/W5r4W3+Oq1i3vfwVI4eBcd4cChsACDbGebPspgOA42x3UBdR2AAIpAYv26ux3HdE7OvGu/ylPWdgBRSFDQAEG+O8WXbTAcBxtjuoiyhsAATS+vdjC43e+rO0daVUXro/8Ip2VtX+M6seOV5a8rL08qDYtv3v/5W+WiDt293wtpkDKy1R2ABAsDHOm2U3HQAcZ7uDuojCBkAgLX8l/sv2wpcc1gyaatwp0OS2DWCcN4fCBgCCjXHeLLvpAOA42x3URRQ2AAIp1jOwal62F3Vi9hOqB0wmt20A47w5FDYAEGyM82bZTQcAx9nuoC6isAEQSOE5sBK4bK+ywg+flr/i/2/NdUxu2wDGeXMobAAg2BjnzbKbDgCOs91BXURhAyCwTF62Z/GSwHgxzptDYQMAwcY4b5bddABwnO0O6iIKGwCBZvKyPUuXBMaLcd4cChsACDbGebPspgOA42x3UBdR2AAIPJOX7Vm4JDBejPPmUNgAQLAxzptlNx0AHGe7g7qIwgYAgo1x3hwKGwAINsZ5s+ymA4DjbHdQF1HYAECwMc6bQ2EDAMHGOG+W3XQAcJztDuoiChsACDbGeXMobAAg2BjnzbKbDgCOs91BXURhAwDBxjhvDoUNAAQb47xZdtMBwHG2O6iLKGwAINgY582hsAGAYGOcN8tuOgA4znYHdRGFDQAEG+O8ORQ2ABBsjPNm2U0HAMfZ7qAuorABgGBjnDeHwgYAgo1x3iy76QDgONsd1EUUNgAQbIzz5lDYAECwMc6bZTcdABxnu4O6iMIGAIKNcd4cChsACDbGebPspgOA42x3UBdR2ABAsDHOm0NhAwDBxjhvlt10AHCc7Q7qIgobAAg2xnlzKGwAINgY582ymw4AjrPdQV1EYQMAwcY4bw6FDQAEG+O8WXbTAcBxtjuoiyhsACDY0n2c37Fjh4YMGaJDDz1Ubdu21dVXX63i4uJ6n1NSUqLhw4erQ4cOatOmjS6++GJt3bo16rrbt29Xt27d5Hmevvvuu7jaRmEDAMFmepx3+TsuFWxmA4DzbHdQF6V7YQMAqF+6j/P9+/dXnz599Mknn+iDDz7Qcccdp8GDB9f7nGHDhunII4/UnDlztHjxYp1++un66U9/GnXdgQMH6pe//CUBFgCgFtPjvMvfcalgMxsAnGe7g7oo3QsbAED90nmcLygokOd5WrRoUfixt956S82aNdOmTZuiPqeoqEgtWrTQK6+8En5s1apV8jxPH3/8cbV1x44dqzPPPFNz5swhwAIA1GJynHf9Oy4VbOUCQFqw3UFdlM6FDQCgYek8zo8bN07t2rWr9lh5ebkyMjI0bdq0qM+p64d6VlaWRo8eHf53fn6+OnfurMLCQuXl5RFgAQBqMTnOu/4dlwr2kgEgDdjuoC5K58IGANCwdB7nR40apZ49e9Z6vFOnTho7dmzU57z88stq2bJlrcdPO+003XrrrZKkffv26aSTTtKLL74oSTH/uN+3b5927doVXkL/9ZwACwCCKRRgFRQUVBv/9+3b1+htu/YdZ4PNbABwnu0O6qJ0LmwAAA1zcZy/7bbb5HlevcuqVauM/bi/8cYbNWjQoPDfYv1xn5ubG7WtBFgAEEyhAKvmkpubW+dz0vU7zoZUZABA2rLdQV3kYmEDAEgeF8f5bdu2adWqVfUupaWlxi6v6NOnj5o3b66MjAxlZGSoefPm8jxPGRkZuvvuu+tsN2dgAUDTksgZWOn6HWeDvWQASAO2O6iLXCxsAADJk87jfCggWrx4cfix2bNnxzTB7auvvhp+bPXq1dUmuF23bp1WrFgRXsaPHy/P8/TRRx/pm2++ibl9zIEFAMGWikncXf2OSwVbuQCQFmx3UBelc2EDAGhYuo/z/fv318knn6wFCxZo/vz5Ov7446vdYvzrr79Wr169tGDBgvBjw4YNU1ZWlubOnavFixerb9++6tu3b52vwSTuAIBoTI/zLn/HpYLNbABwnu0O6qJ0L2wAAPVL93F+x44dGjx4sA455BBlZmbqqquuUnFxcfjvGzZskOd5ysvLCz9WUlKi4cOHq3379jr44IN10UUXacuWLXW+BgEWACAa0+O8y99xqWAvGQDSgO0O6qJ0L2wAAPVjnDeHAAsAgo1x3iy76QDgONsd1EUUNgAQbIzz5lDYAECwMc6bZTcdABxnu4O6iMIGAIKNcd4cChsACDbGebPspgOA42x3UBdR2ABAsDHOm0NhAwDBxjhvlt10AHCc7Q7qIgobAAg2xnlzKGwAINgY582ymw4AjrPdQV1EYQMAwcY4bw6FDQAEG+O8WXbTAcBxtjuoiyhsACDYGOfNobABgGBjnDfLbjoAOM52B3URhQ0ABBvjvDkUNgAQbIzzZtlNBwDH2e6gLqKwAYBgY5w3h8IGAIKNcd4su+kA4DjbHdRFFDYAEGyM8+ZQ2ABAsDHOm2U3HQAcZ7uDuojCBgCCjXHeHAobAAg2xnmz7KYDgONsd1AXUdgAQLAxzptDYQMAwcY4b5bddABwnO0O6iIKGwAINsZ5cyhsACDYGOfNspsOAI6z3UFdRGEDAMHGOG8OhQ0ABBvjvFl20wHAcbY7qIsobAAg2BjnzaGwAYBgY5w3y246ADjOdgd1EYUNAAQb47w5FDYAEGyM82bZTQcAx9nuoC6isAGAYGOcN4fCBgCCjXHeLLvpAOA42x3URRQ2ABBsjPPmUNgAQLAxzptlNx0AHGe7g7qIwgYAgo1x3hwKGwAINsZ5s+ymA4DjbHdQF1HYAECwMc6bQ2EDAMHGOG+W3XQAcJztDuoiChsACDbGeXNiKWyqqqpUVlamkpISFgtLWVmZqqqqUvipABAkBFhm2U0HAMfZ7qAuorABgGBjnDenocKmtLRUX375pQoKClgsLl9++aVKS0tT/OkAEAQEWGbZTQcAx9nuoC6isAGAYGOcN6e+wqayslKrV6/W2rVrVVRUpL1791o/G6mpLXv37lVRUZHWrl2r1atXq7Ky0sKnBEA6I8Ayy246ADjOdgd1EYUNAAQb47w59RU2JSUlKigo0J49eyy0DAfas2ePCgoKVFJSYrspANIMAZZZdtMBwHG2O6iLKGwAINgY582JJcAiNLGP9wJAogiwzLKbDgCOs91BXURhAwDBxjhvDgFWeuC9AJAoAiyz7KYDgONsd1AXUdgAQLAxzptDgJUeeC8AJIoAyyy76QDgONsd1EUUNgAQbIzz5qQkwKqokPLypIkT/f+tqGjc9hqQk5Mjz/NqLWvXrq319xYtWujYY4/VPffco/LyciNtGThwYKO3Q4AFIFEEWGZZigWA9GC7g7qIwgYAgo1x3hzjAdZrr0ndu0ueF1m6d/cfNyQnJ0f9+/fXli1bqi0V+4OzA//+5ZdfauzYsWrWrJnuv//+mF+jrKws5rYQYAGwiQDLLLvpAOA42x3URRQ2ABBsjPPmGA2wXntNatasenjlef5jzZoZC7EaCo2i/f2cc87R6aefXudzPM/T2LFjdcEFF+jggw9Wbm6uKioqdPXVV+uoo45S69at1bNnTz3++OPh5+Tm5tY6CywvL0+S9NVXX+k3v/mN2rZtq/bt22vAgAHasGFDna9PgAUgUQRYZlkLBoB0YLuDuojCBgCCjXHenLgCrKoqaffu2JZdu6Ru3WqHVweGWN27++vFsr2qqpj3KZEAa8CAATrllFPqfI7neTr88MM1fvx4ffHFFyosLFRZWZnuvvtuLVq0SOvXr9dLL72kgw8+WFOmTJEkFRcX67LLLqt2NlhpaanKysp0wgkn6Oqrr9by5ctVUFCgIUOGqFevXiotLY36+gRYABJFgGWW1XAAcJ3tDuoiChsACDbGeXPiCrB27647kDK97N4d8z7l5OQoIyNDbdq0CS+XXnpptb+HAqyqqiq98847atWqlW6++eY6t+l5nv70pz81+NojRozQJZdcEvW1Ql588UX16tVLVQeEcqWlpTrooIM0e/bsqNslwAKQKAIss6yGA4DrbHdQF1HYAECwMc6bE9QA6+yzz9batWvDy+bNm6v9PRRwtWzZUj/4wQ905ZVXanc9r+F5nl566aVaj48ZM0annHKKOnbsqDZt2qhFixY67bTTqr1WzQDr5ptvrhWwtWnTRs2aNdPYsWOjvj4BFoBEEWCZZTUcAFxnu4O6iMIGAIKNcd4cY5cQzpwZWzA1c6aVSwhDAVdhYWFMdx/0PE/Tp0+v9tikSZPUunVrPfXUU/rss8+0du1aXXPNNerTp0+9bRk2bJiys7OrBWyhpaioKOrrE2ABSBQBlllWwwHAdbY7qIsobAAg2BjnzTE2iXtFhT/HVbRJ3ENzYB15pL9ekiUyB1ZDvCgB1vXXX69f/OIX1R7r169ftQBr6NChOv/886ut88wzz6h9+/ZxfZ4JsAAkigDLLKvhAOA62x3URRQ2ABBsjPPmpOQuhDVDLAfvQtgQL0qA9cQTTygzM1OzZs3SmjVrdOeddyozM7NagDVq1ChlZWVp9erV+vbbb1VWVqY9e/bo+OOP189//nO9//77Wr9+vfLy8vSHP/yhzgKTAAtAogiwzLIaDgCus91BXURhAwDBxjhvjtEAS/JDqu7dqwdYRx5pLLySUhdg7du3T7///e/Vtm1btWvXTtddd51GjhxZLcDatm2bzjnnHB1yyCHyPE95eXmSpC1btujKK69Ux44d1apVKx1zzDEaOnRonZ9xAiwAiSLAMstmNgA4z3YHdRGFDQAEG+O8OcYDLMm/TDAvT5o40f9fA5cNBh0BFoBEEWCZZTcdABxnu4O6iMIGAIKNcd6clARYaDTeCwCJIsAyy246ADjOdgd1EYUNAAQb47w5BFjpgfcCQKIIsMyymw4AjrPdQV1EYQMAwcY4bw4BVnrgvQCQKAIss+ymA4DjbHdQF1HYAECwMc6bQ4CVHngvACSKAMssu+kA4DjbHdRFFDYAEGyM8+YQYKUH3gsAiSLAMstuOgA4znYHdRGFDQAEG+O8ObEEWHv37rXQMhxo7969BFgAEkKAZZbddABwnO0O6iIKGwAINsZ5c+orbCoqKlRQUKDt27dbaBkOtH37dhUUFKiiosJ2UwCkGQIss+ymA4DjbHdQF1HYAECwMc6b01Bhs3nz5nCItXfvXpWUlLCkcNm7d284vNq8eXOKPx0AgoAAyyy76QDgONsd1EUUNgAQbIzz5jRU2FRVVYVDLBZ7y+bNm1VVVZXiTweAICDAMstuOgA4znYHdRGFDQAEG+O8ObEWNhUVFdbPRmqqC5cNAmgMAiyz7KYDgONsd1AXUdgAQLAxzptDYQMAwcY4b5bddABwnO0O6iIKGwAINsZ5cyhsACDYGOfNspsOAI6z3UFdRGEDAMHGOG8OhQ0ABBvjvFl20wHAcbY7qIsobAAg2BjnzaGwAYBgY5w3y246ADjOdgd1UVFRUXhQ3rVrFwsLCwtLwJbQj++ioiLbXzmBU1hYKM/ztHDhQm3cuJGFhYWFJWDLwoUL5XmeCgsLbX/lBJLddABwnO0O6qKNG/3ChoWFhYUl2MvGjfzX42QLFTYsLCwsLMFeFi5caPsrJ5A8AHWz3UFdVFlZqY0bN6qoqKjWf63fuDHYZ2U1hf1kH4OzNIX9bAr7aGM/i4qKtHHjRlVWVtr+ygmc8vJyLVy4UIWFhdbPEmjsUlBQIM/zVFBQYL0triwcE44Jx4RjUlhYqIULF6q8vNz2V04g2UkFgDRhu4Omi127msZ8KU1hP9nH4GgK+9kU9lFqOvuJ9MLnsjaOSW0ck9o4JrVxTBArO6kAkCZsd9B00VS+dJrCfrKPwdEU9rMp7KPUdPYT6YXPZW0ck9o4JrVxTGrjmCBWdlIBIE3Y7qDpoql86TSF/WQfg6Mp7GdT2Eep6ewn0gufy9o4JrVxTGrjmNTGMUGs7KQCQJqw3UHTxb59+5Sbm6t9+/bZbopRTWE/2cfgaAr72RT2UWo6+4n0wueyNo5JbRyT2jgmtXFMECvb+QDgNNsdFAAAAAAAEGAB9bLdQQEAAAAAAAEWUC/bHRQAAAAAABBgAfWy3UEBAAAAAAABFlAv2x00XYwZM0Y9evRQq1atlJ2drQULFthuUtLk5ubK87xqS69evWw3q9HmzZun888/X126dJHneZo+fXq1v1dVVemuu+5S586d1bp1a/Xr10+ff/65pdYmpqF9zMnJqfXennfeeZZam5j7779fp556qg455BB16tRJAwcO1OrVq6utU1JSouHDh6tDhw5q06aNLr74Ym3dutVSi+MXyz6eeeaZtd7La6+91lKLEzN27Fj9x3/8hw499FAdeuihOv300zVz5szw39P9fUR62rFjh4YMGaJDDz1Ubdu21dVXX63i4uJ6nxPPZ3X79u3q1q2bPM/Td999Z2IXks7EMVm6dKl++9vfqnv37mrdurV++MMf6vHHHze9KwmL93ff1KlT1atXL7Vq1Uonnnii3nzzzWp/D8JvjmQek7KyMt1666068cQTdfDBB6tLly763e9+p02bNpnejaRJ9mfkQNdee608z9Njjz2W7GYjDaQ+EQDSiO0OmjYBFoYAABKjSURBVA4mT56sli1bavz48crPz9fQoUPVrl07ffPNN7ablhS5ubnq3bu3tmzZEl6+/fZb281qtJkzZ+qOO+7QtGnTooY7Dz74oNq2bavXX39dy5Yt04ABA3T00UerpKTEUovj19A+5uTkqH///tXe2507d1pqbWLOO+88Pf/881q5cqWWLl2qX/3qV8rKytLu3bvD6wwbNkxHHnmk5syZo8WLF+v000/XT3/6U4utjk8s+3jmmWdq6NCh1d7LdLsV9xtvvKE333xTn3/+udasWaPbb79dLVq00MqVKyWl//uI9NS/f3/16dNHn3zyiT744AMdd9xxGjx4cL3PieezOnDgQP3yl79MqwDLxDEZN26cbrjhBr333nv64osv9OKLL+qggw7Sk08+aXp34hbv774PP/xQGRkZevjhh1VQUKA777xTLVq00IoVK8LrpPtvjmQfk6KiIp199tmaMmWKVq9erY8//ljZ2dn68Y9/nMrdSpiJz0jItGnT1KdPH3Xt2pUAq4myHA8AbrPdQdNBdna2RowYEf53ZWWlunbtqgceeMBiq5InNzdXffr0sd0Mo7wa4U5VVZU6d+6sRx55JPxYUVGRWrVqpUmTJtloYqPV3EfJD7AGDhxoqUVmbNu2TZ7nad68eZL8961FixZ65ZVXwuusWrVKnufp448/ttXMRqm5j5IfYP3xj3+02Coz2rdvr+eeey6Q7yPcV1BQIM/ztGjRovBjb731lpo1a1bnmSDxfFbHjh2rM888U3PmzEmbAMv0MTnQ8OHDddZZZyWv8UkS7+++yy67TL/+9a+rPfaTn/wkfJZsEH5zJPuYRLNw4UJ5nqfCwsLkNNogU8fj66+/Vrdu3bRy5Ur16NGDAKuJspMKAGnCdgd1XWlpqTIyMmoFA1deeaUGDBhgqVXJlZubGz59++ijj9aQIUPS4sdDPLwa4c4XX3whz/O0ZMmSauudccYZuuGGG1LdvKSouY+SH2C1bdtWnTp1Us+ePTVs2DBt377dUguTY+3atfI8L/xfLesqDLOysjR69GgbTWy0mvso+QFWx44dddhhh6l3794aOXKk9uzZY7GVjVNRUaFJkyapZcuWys/PD+T7CPeNGzdO7dq1q/ZYeXm5MjIyNG3atKjPifWzmp+fr86dO6uwsFB5eXlpE2CZPCY1XX755brkkksa3+gkSuR335FHHlkraLj77rt10kknSUr/3xwmjkk077zzjpo1a+b82cWmjkdlZaXOOuus8KW1BFhNl6VYAEgPtjuo6zZt2iTP8/TRRx9Ve/yWW25Rdna2pVYl18yZMzV16lQtW7ZMs2bNUt++fZWVlaXvv//edtOSxqsR7nz44YfyPE+bN2+utt5vfvMbXXbZZaluXlLU3EdJmjRpkmbMmKHly5dr+vTpOuGEE3TaaaepoqLCUisbp7KyUr/+9a/1s5/9LPzYyy+/rJYtW9Za97TTTtOtt96ayuYlRbR9lKR//vOfmjVrlpYvX66XXnpJ3bp100UXXWSplYlbvny52rRpo4yMDLVt2zY8B0jQ3kekh1GjRqlnz561Hu/UqZPGjh0b9TmxfFb37dunk046SS+++KIkpVWAZeqY1PThhx/qBz/4gWbPnt24BidZIr/7WrRooYkTJ1Z77KmnntLhhx8uKf1/c5g4JjWVlJTolFNO0ZAhQ5LTaINMHY/7779f55xzjqqqqiQRYDVl1oIBIB3Y7qCuawoBVk3fffedMjMz9dxzz9luStJ4TTTAqin0X4HffffdFLUquYYNG6YePXpo48aN4ceCFnxE28doQmc8rFu3LkUtS47S0lKtXbtWixcv1siRI9WxY0fl5+cH7n2EXbfddlutmx7UXFatWmUsrLnxxhs1aNCg8N9cCLBsH5MDrVixQh07dtR9993X+B1LMgKs2kwHWGVlZbrgggt08sknO3/2lWTmeCxevFhHHHFEtct0CbCarhTFAEB6st1BXdcULiGM5tRTT9XIkSNtNyNpvCZ6CWE0HTt21NNPP52CFiXXiBEj1L17d61fv77a40G69KyufYxm9+7d8jxPs2bNSkHLzOnXr5+uueaaQL2PsG/btm1atWpVvUtpaamxy+X69Omj5s2bKyMjQxkZGWrevLk8z1NGRobuvvtuMzvdANvHJCQ/P1+HH364br/99uTuYJJwCWFtJi8hLCsr04UXXqiTTjopbaY4MHE8HnvsMTVr1iw8ZmRkZMjzPDVv3lw9evQwsh9wl6VYAEgPtjtoOsjOztb1118f/ndlZaW6desWmEncayouLlb79u31xBNP2G5K0nh1TOL+6KOPhh/btWtXWk2oWlPNfYxm48aNatasmWbMmJGiVjVeVVWVRowYoa5du0a95Xho8uBXX301/Njq1avTavLvhvYxmvnz58vzPC1btsxw68w666yzlJOTE4j3EeknNGH54sWLw4/Nnj07pgnL6/usrlu3TitWrAgv48ePD5+x4fodjE0dE0lauXKlDj/8cN1yyy3mdiAJ4v3dd9lll+n888+v9ljfvn1rTeKezr85kn1MpEh41bt3b23bts1Mww1J9vHYvn17tTFjxYoV6tq1q2677TatXr3a3I7ASbZyASAt2O6g6WDy5Mlq1aqVJkyYoIKCAl1zzTVq166dtm7dartpSXHTTTfpvffe04YNG/Thhx/q7LPPVseOHdPux0RNxcXFWrJkiZYsWSLP8zR69GgtWbIkPEH9gw8+qHbt2oXniBo4cGBa3dJaqn8fi4uLdfPNN+vjjz/Whg0b9O677+qUU07R8ccfr3379tluesyuu+46tW3bVu+99562bNkSXvbu3RteZ9iwYcrKytLcuXO1ePFi9e3bV3379rXY6vg0tI/r1q3Tvffeq8WLF2vDhg2aMWOGjjnmGJ1xxhmWWx6fkSNHat68edqwYYOWL1+ukSNHqlmzZnr77bclpf/7iPTUv39/nXzyyVqwYIHmz5+v448/XoMHDw7//euvv1avXr20YMGC8GPxflZduIQwHiaOyYoVK9SpUyddccUV1cY5F39rNPS773e/+121s9RD83k9+uijWrVqlXJzc9WiRYtqN+JI998cyT4mZWVlGjBggLp3766lS5dW+0yUlpZa2cd4mPiM1MQlhE2X5XgAcJvtDpounnzySWVlZally5bKzs7WJ598YrtJSTNo0CB16dJFLVu2VLdu3TRo0KC0m1cnmlDBUHPJycmR5P8X0bvuuktHHHGEWrVqpX79+mnNmjV2Gx2n+vZx7969Ovfcc9WpUye1aNFCPXr00NChQ9MueI22f57n6fnnnw+vU1JSouHDh6t9+/Y6+OCDddFFF2nLli32Gh2nhvbxq6++0hlnnKEOHTqoVatWOu6443TLLbekxVwhB7r66qvVo0cPtWzZUp06dVK/fv3C4ZWU/u8j0tOOHTs0ePBgHXLIIcrMzNRVV12l4uLi8N83bNggz/OUl5cXfizez2q6BVgmjklubm7Ucc7Vy6Pq+9135plnhn9LhEydOlU9e/ZUy5Yt1bt37/ANKkKC8Jsjmcck9BmKthz4uXJZsj8jNRFgNV1mq38gzdnuoAAAAAAAgAALqJftDgoAAAAAAAiwgHrZ7qAAAAAAAIAAC6iX7Q4KAAAAAAAIsIB62e6gAAAAAACAAAuol+0OCgAAAAAACLCAetnuoAAAAAAAgAALqJftDgoAAAAAAAiwgHrZ7qAAAAAAAIAAC6iX7Q4KIH14nqfp06fbbgYAAGmJ71EADbGdDwBOs91BAcQmJydHnufVWs4777yUtcHjhzcAIE3xPQogHdhJBYA0YbuDAohNTk6O+vfvry1btlRbdu7cmbI2ePzwBgCkKb5HAaQD2/kA4DTbHRRAbHJycjRw4MA6/+55nsaOHav+/furdevWOvroo/XKK69UW2f58uU666yz1Lp1a3Xo0EFDhw5VcXFxtXXGjRunH/3oR2rZsqU6d+6sESNGVHuNZ599VhdeeKEOOuggHXfccZoxY0b47zt37tSQIUPUsWNHtW7dWscdd5zGjx+fpCMAAEDi+B4FkA7spgOA42x3UACxieWH92GHHaZnn31Wa9as0Z133qmMjAwVFBRIknbv3q0uXbro4osv1ooVKzRnzhwdffTRysnJCW9j7Nixat26tR5//HGtWbNGCxcu1GOPPVbtNbp3766JEydq7dq1uuGGG3TIIYdox44dkqQRI0boP//zP7Vo0SJt2LBB77zzjt544w0zBwQAgDjwPQogHdhNBwDH2e6gAGKTk5OjjIwMtWnTptoyatQoSf6P4mHDhlV7zk9+8hNdd911kqRnnnlG7du31+7du8N/f/PNN9W8eXNt3bpVktS1a1fdcccddbbB8zzdeeed4X/v3r1bnufprbfekiRdcMEFuuqqq5KzwwAAJBHfowDSgc1sAHCe7Q4KIDY5OTk6++yztXbt2mpL6L/aep6nF154odpz/vSnP+nnP/+5JOnGG28M//+QoqIieZ6nefPm6ZtvvpHneZo7d26dbfA8T1OnTq32WGZmZvh1Z86cqYMOOkh9+vTRLbfcog8//LDR+w0AQDLwPQogHdhLBoA0YLuDAohNLJc+NOaH9/fffx/TD++ak8+2bdtWzz//fPjf27Zt04QJE3T55ZerdevWuummm2LdRQAAjOF7FEA6sJcMAGnAdgcFEJtYfniHLnMIOf300+O69OGoo45q8NKHhn54H+jpp5/WoYceWu9+AQCQCnyPAkgHdtMBwHG2OyiA2NR1++9vv/1Wkv+juGPHjho3bpzWrFmju+++W82bN1d+fr4kac+ePerSpYsuueQSrVixQnPnztUxxxxTbfLZCRMmqHXr1nriiSf0+eef69NPP9Xf//738N+9Bn5433XXXXr99de1du1arVy5Uueff76ys7PNHhgAAGLA9yiAdGA3HQAcZ7uDAohNTk6OPM+rtfTq1UuS/6P4qaee0jnnnKNWrVrpqKOO0pQpU6ptI5bbfz/99NPq1auXWrRooS5duugPf/hD+G9eAz+877vvPp1wwgk66KCD1KFDBw0cOFDr1683cDQAAIgP36MA0oGNTABIG7Y7KIDk8KL8KAYAALHhexSAC2znA4DTbHdQAMnh8cMbAICE8T0KwAW28wHAabY7KIDk8PjhDQBAwvgeBeAC2/kA4DTbHRQAAAAAABBgAfWy3UEBAAAAAAABFlAv2x0UAAAAAAAQYAH1st1BAQAAAAAAARZQL9sdFAAAAAAAEGAB9bLdQQEAAAAAAAEWUC/bHRQAAAAAABBgAfWy3UEBAAAAAAABFlAv2x0UAAAAAAAQYAH1st1BAQAAAAAAARZQL9sdFAAAAAAAEGAB9bLdQQEAAAAAAAEWUC/bHRQAAAAAABBgAfWy3UEBAAAAAAABFlAv2x0UAAAAAAAQYAEAAAAAAAAAAAAAAAAAAAAAAAAAAAAAAAAAAAAAAAAAAAAAAAAAAAAAAAAAAAAAAAAAAAAAAAAAAAAAAAAAAAAAAAAAAAAAAAAAAAAAAAAAAAAAAAAAAAAAAAAAAAAAAAAAAAAAAAAAAAAAAAAAAAAAAAAAAAAAAAAAAAAAAAAAAAAAAAAAAAAAAAAAAAAAAAAAAAAAAAAAAAAAAAAAAAAAAAAAAAAAAAAAAAAAAAAAAAAAAAAAAAAAAAAAAAAAAAAAAAAAAAAAAAAAAAAAAAAAAAAAAAAAAAAAAAAAAAAAAAAAAAAAAAAAAAAAAAAAAAAAAAAAAAAAAAAAAAAAAAAAAAAAAAAAAAAAAAAAAAAAAAAAAAAAAAAAAAAAAAAAAAAAAAAAAAAAAAAAAAAAAAAAAAAAAAAAAAAAAAAAAAAAAAAAAAAAAAAAAAAAAAAAAAAAAAAAAAAAAAAAAAAAAAAAAAAAAAAAAAAAAAAAAAAAAAAAAAAAAAAAAAAAAAAAAAAAAAAAAAAAAAAAAAAAAAAAAAAAAAAAAAAAAAAAAAAAAAAAAAAAAAAAAAAAAAAAAAAAAAAAAAAAAAAAAAAAAAAAAAAAAAAAAAAAAAAAAAAAAAAAAAAAAAAAAAAAAAAAAAAAAAAAAAAAAAAAAAAAAAAAAAAAAAAAAAAAAAAAAAAAAAAAAAAAAAAAAAAAAAAAAAAAAAAAAAAAAAAAAAAAAAAAAAAAAAAAAAAAAAAAAAAAAAAAAAAAAAAAAAAAAAAAAAAAAAAAAAAAAAAAAAAAAAAAAAAAAAAAAAAAAAAAAAAAAAAAAAAAAAAAAAAAAAAAAAAAAAAAAAAAAAAAAAAAAAAAAAAAAAAAAAAAAAAAAAAAAAAAAAAAAAAAAAAAAAAAAAAAAAAAAAAAAAAAAAAAAAAAAAAAAAAAAAAA0FT9f4D5EcmL5j+0AAAAAElFTkSuQmCC\" width=\"1000\">"
      ],
      "text/plain": [
       "<IPython.core.display.HTML object>"
      ]
     },
     "metadata": {},
     "output_type": "display_data"
    }
   ],
   "source": [
    "ax, tax, lax, lines = dual_train_plots()\n",
    "fig = ax.figure\n",
    "plt.tight_layout()"
   ]
  },
  {
   "cell_type": "code",
   "execution_count": null,
   "metadata": {
    "scrolled": false
   },
   "outputs": [
    {
     "name": "stdout",
     "output_type": "stream",
     "text": [
      "Number of batches: train = 6667, val = 42\n"
     ]
    },
    {
     "data": {
      "application/vnd.jupyter.widget-view+json": {
       "model_id": "37b52bf1b12e42a8b4927b9d41b36bda",
       "version_major": 2,
       "version_minor": 0
      },
      "text/plain": [
       "HBox(children=(FloatProgress(value=0.0, description='Epochs', layout=Layout(flex='2'), max=75.0, style=Progres…"
      ]
     },
     "metadata": {},
     "output_type": "display_data"
    },
    {
     "name": "stdout",
     "output_type": "stream",
     "text": [
      "Number of batches: train = 6667, val = 42\n"
     ]
    },
    {
     "data": {
      "application/vnd.jupyter.widget-view+json": {
       "model_id": "",
       "version_major": 2,
       "version_minor": 0
      },
      "text/plain": [
       "HBox(children=(FloatProgress(value=0.0, description='Training', layout=Layout(flex='2'), max=6667.0, style=Pro…"
      ]
     },
     "metadata": {},
     "output_type": "display_data"
    },
    {
     "name": "stdout",
     "output_type": "stream",
     "text": [
      "Epoch 0: train=0.958775, val=0.69303, took 599.43 s\n"
     ]
    },
    {
     "data": {
      "application/vnd.jupyter.widget-view+json": {
       "model_id": "",
       "version_major": 2,
       "version_minor": 0
      },
      "text/plain": [
       "HBox(children=(FloatProgress(value=0.0, description='Training', layout=Layout(flex='2'), max=6667.0, style=Pro…"
      ]
     },
     "metadata": {},
     "output_type": "display_data"
    },
    {
     "name": "stdout",
     "output_type": "stream",
     "text": [
      "Epoch 1: train=0.956809, val=0.728272, took 597.49 s\n"
     ]
    },
    {
     "data": {
      "application/vnd.jupyter.widget-view+json": {
       "model_id": "",
       "version_major": 2,
       "version_minor": 0
      },
      "text/plain": [
       "HBox(children=(FloatProgress(value=0.0, description='Training', layout=Layout(flex='2'), max=6667.0, style=Pro…"
      ]
     },
     "metadata": {},
     "output_type": "display_data"
    },
    {
     "name": "stdout",
     "output_type": "stream",
     "text": [
      "Epoch 2: train=0.955718, val=0.716196, took 605.82 s\n"
     ]
    },
    {
     "data": {
      "application/vnd.jupyter.widget-view+json": {
       "model_id": "",
       "version_major": 2,
       "version_minor": 0
      },
      "text/plain": [
       "HBox(children=(FloatProgress(value=0.0, description='Training', layout=Layout(flex='2'), max=6667.0, style=Pro…"
      ]
     },
     "metadata": {},
     "output_type": "display_data"
    },
    {
     "name": "stdout",
     "output_type": "stream",
     "text": [
      "Epoch 3: train=0.956581, val=0.694786, took 597.1 s\n"
     ]
    },
    {
     "data": {
      "application/vnd.jupyter.widget-view+json": {
       "model_id": "",
       "version_major": 2,
       "version_minor": 0
      },
      "text/plain": [
       "HBox(children=(FloatProgress(value=0.0, description='Training', layout=Layout(flex='2'), max=6667.0, style=Pro…"
      ]
     },
     "metadata": {},
     "output_type": "display_data"
    },
    {
     "name": "stdout",
     "output_type": "stream",
     "text": [
      "Epoch 4: train=0.953256, val=0.713041, took 602.17 s\n"
     ]
    },
    {
     "data": {
      "application/vnd.jupyter.widget-view+json": {
       "model_id": "",
       "version_major": 2,
       "version_minor": 0
      },
      "text/plain": [
       "HBox(children=(FloatProgress(value=0.0, description='Training', layout=Layout(flex='2'), max=6667.0, style=Pro…"
      ]
     },
     "metadata": {},
     "output_type": "display_data"
    },
    {
     "name": "stdout",
     "output_type": "stream",
     "text": [
      "Epoch 5: train=0.953274, val=0.709742, took 599.88 s\n"
     ]
    },
    {
     "data": {
      "application/vnd.jupyter.widget-view+json": {
       "model_id": "",
       "version_major": 2,
       "version_minor": 0
      },
      "text/plain": [
       "HBox(children=(FloatProgress(value=0.0, description='Training', layout=Layout(flex='2'), max=6667.0, style=Pro…"
      ]
     },
     "metadata": {},
     "output_type": "display_data"
    },
    {
     "name": "stdout",
     "output_type": "stream",
     "text": [
      "Epoch 6: train=0.952514, val=0.69388, took 597.54 s\n"
     ]
    },
    {
     "data": {
      "application/vnd.jupyter.widget-view+json": {
       "model_id": "",
       "version_major": 2,
       "version_minor": 0
      },
      "text/plain": [
       "HBox(children=(FloatProgress(value=0.0, description='Training', layout=Layout(flex='2'), max=6667.0, style=Pro…"
      ]
     },
     "metadata": {},
     "output_type": "display_data"
    },
    {
     "name": "stdout",
     "output_type": "stream",
     "text": [
      "Epoch 7: train=0.950727, val=0.69048, took 595.54 s\n"
     ]
    },
    {
     "data": {
      "application/vnd.jupyter.widget-view+json": {
       "model_id": "",
       "version_major": 2,
       "version_minor": 0
      },
      "text/plain": [
       "HBox(children=(FloatProgress(value=0.0, description='Training', layout=Layout(flex='2'), max=6667.0, style=Pro…"
      ]
     },
     "metadata": {},
     "output_type": "display_data"
    },
    {
     "name": "stdout",
     "output_type": "stream",
     "text": [
      "Epoch 8: train=0.950661, val=0.746839, took 598.69 s\n"
     ]
    },
    {
     "data": {
      "application/vnd.jupyter.widget-view+json": {
       "model_id": "",
       "version_major": 2,
       "version_minor": 0
      },
      "text/plain": [
       "HBox(children=(FloatProgress(value=0.0, description='Training', layout=Layout(flex='2'), max=6667.0, style=Pro…"
      ]
     },
     "metadata": {},
     "output_type": "display_data"
    },
    {
     "name": "stdout",
     "output_type": "stream",
     "text": [
      "Epoch 9: train=0.950318, val=0.705966, took 595.92 s\n"
     ]
    },
    {
     "data": {
      "application/vnd.jupyter.widget-view+json": {
       "model_id": "",
       "version_major": 2,
       "version_minor": 0
      },
      "text/plain": [
       "HBox(children=(FloatProgress(value=0.0, description='Training', layout=Layout(flex='2'), max=6667.0, style=Pro…"
      ]
     },
     "metadata": {},
     "output_type": "display_data"
    },
    {
     "name": "stdout",
     "output_type": "stream",
     "text": [
      "Epoch 10: train=0.949094, val=0.757544, took 596.91 s\n"
     ]
    },
    {
     "data": {
      "application/vnd.jupyter.widget-view+json": {
       "model_id": "",
       "version_major": 2,
       "version_minor": 0
      },
      "text/plain": [
       "HBox(children=(FloatProgress(value=0.0, description='Training', layout=Layout(flex='2'), max=6667.0, style=Pro…"
      ]
     },
     "metadata": {},
     "output_type": "display_data"
    },
    {
     "name": "stdout",
     "output_type": "stream",
     "text": [
      "Epoch 11: train=0.947291, val=0.711242, took 597.78 s\n"
     ]
    },
    {
     "data": {
      "application/vnd.jupyter.widget-view+json": {
       "model_id": "",
       "version_major": 2,
       "version_minor": 0
      },
      "text/plain": [
       "HBox(children=(FloatProgress(value=0.0, description='Training', layout=Layout(flex='2'), max=6667.0, style=Pro…"
      ]
     },
     "metadata": {},
     "output_type": "display_data"
    },
    {
     "name": "stdout",
     "output_type": "stream",
     "text": [
      "Epoch 12: train=0.948016, val=0.681081, took 597.79 s\n"
     ]
    },
    {
     "data": {
      "application/vnd.jupyter.widget-view+json": {
       "model_id": "",
       "version_major": 2,
       "version_minor": 0
      },
      "text/plain": [
       "HBox(children=(FloatProgress(value=0.0, description='Training', layout=Layout(flex='2'), max=6667.0, style=Pro…"
      ]
     },
     "metadata": {},
     "output_type": "display_data"
    },
    {
     "name": "stdout",
     "output_type": "stream",
     "text": [
      "Epoch 13: train=0.946918, val=0.697916, took 601.56 s\n"
     ]
    },
    {
     "data": {
      "application/vnd.jupyter.widget-view+json": {
       "model_id": "",
       "version_major": 2,
       "version_minor": 0
      },
      "text/plain": [
       "HBox(children=(FloatProgress(value=0.0, description='Training', layout=Layout(flex='2'), max=6667.0, style=Pro…"
      ]
     },
     "metadata": {},
     "output_type": "display_data"
    },
    {
     "name": "stdout",
     "output_type": "stream",
     "text": [
      "Epoch 14: train=0.944678, val=0.71644, took 597.43 s\n"
     ]
    },
    {
     "data": {
      "application/vnd.jupyter.widget-view+json": {
       "model_id": "",
       "version_major": 2,
       "version_minor": 0
      },
      "text/plain": [
       "HBox(children=(FloatProgress(value=0.0, description='Training', layout=Layout(flex='2'), max=6667.0, style=Pro…"
      ]
     },
     "metadata": {},
     "output_type": "display_data"
    },
    {
     "name": "stdout",
     "output_type": "stream",
     "text": [
      "Epoch 15: train=0.944852, val=0.68949, took 593.99 s\n"
     ]
    },
    {
     "data": {
      "application/vnd.jupyter.widget-view+json": {
       "model_id": "",
       "version_major": 2,
       "version_minor": 0
      },
      "text/plain": [
       "HBox(children=(FloatProgress(value=0.0, description='Training', layout=Layout(flex='2'), max=6667.0, style=Pro…"
      ]
     },
     "metadata": {},
     "output_type": "display_data"
    },
    {
     "name": "stdout",
     "output_type": "stream",
     "text": [
      "Epoch 16: train=0.945347, val=0.683357, took 594.34 s\n"
     ]
    },
    {
     "data": {
      "application/vnd.jupyter.widget-view+json": {
       "model_id": "",
       "version_major": 2,
       "version_minor": 0
      },
      "text/plain": [
       "HBox(children=(FloatProgress(value=0.0, description='Training', layout=Layout(flex='2'), max=6667.0, style=Pro…"
      ]
     },
     "metadata": {},
     "output_type": "display_data"
    },
    {
     "name": "stdout",
     "output_type": "stream",
     "text": [
      "Epoch 17: train=0.943797, val=0.68921, took 593.56 s\n"
     ]
    },
    {
     "data": {
      "application/vnd.jupyter.widget-view+json": {
       "model_id": "",
       "version_major": 2,
       "version_minor": 0
      },
      "text/plain": [
       "HBox(children=(FloatProgress(value=0.0, description='Training', layout=Layout(flex='2'), max=6667.0, style=Pro…"
      ]
     },
     "metadata": {},
     "output_type": "display_data"
    },
    {
     "name": "stdout",
     "output_type": "stream",
     "text": [
      "Epoch 18: train=0.942705, val=0.68672, took 597.85 s\n"
     ]
    },
    {
     "data": {
      "application/vnd.jupyter.widget-view+json": {
       "model_id": "",
       "version_major": 2,
       "version_minor": 0
      },
      "text/plain": [
       "HBox(children=(FloatProgress(value=0.0, description='Training', layout=Layout(flex='2'), max=6667.0, style=Pro…"
      ]
     },
     "metadata": {},
     "output_type": "display_data"
    },
    {
     "name": "stdout",
     "output_type": "stream",
     "text": [
      "Epoch 19: train=0.941516, val=0.697482, took 594.63 s\n"
     ]
    },
    {
     "data": {
      "application/vnd.jupyter.widget-view+json": {
       "model_id": "",
       "version_major": 2,
       "version_minor": 0
      },
      "text/plain": [
       "HBox(children=(FloatProgress(value=0.0, description='Training', layout=Layout(flex='2'), max=6667.0, style=Pro…"
      ]
     },
     "metadata": {},
     "output_type": "display_data"
    },
    {
     "name": "stdout",
     "output_type": "stream",
     "text": [
      "Epoch 20: train=0.941104, val=0.736304, took 596.46 s\n"
     ]
    },
    {
     "data": {
      "application/vnd.jupyter.widget-view+json": {
       "model_id": "",
       "version_major": 2,
       "version_minor": 0
      },
      "text/plain": [
       "HBox(children=(FloatProgress(value=0.0, description='Training', layout=Layout(flex='2'), max=6667.0, style=Pro…"
      ]
     },
     "metadata": {},
     "output_type": "display_data"
    },
    {
     "name": "stdout",
     "output_type": "stream",
     "text": [
      "Epoch 21: train=0.940807, val=0.754451, took 594.08 s\n"
     ]
    },
    {
     "data": {
      "application/vnd.jupyter.widget-view+json": {
       "model_id": "",
       "version_major": 2,
       "version_minor": 0
      },
      "text/plain": [
       "HBox(children=(FloatProgress(value=0.0, description='Training', layout=Layout(flex='2'), max=6667.0, style=Pro…"
      ]
     },
     "metadata": {},
     "output_type": "display_data"
    },
    {
     "name": "stdout",
     "output_type": "stream",
     "text": [
      "Epoch 22: train=0.938428, val=0.682137, took 594.09 s\n"
     ]
    },
    {
     "data": {
      "application/vnd.jupyter.widget-view+json": {
       "model_id": "",
       "version_major": 2,
       "version_minor": 0
      },
      "text/plain": [
       "HBox(children=(FloatProgress(value=0.0, description='Training', layout=Layout(flex='2'), max=6667.0, style=Pro…"
      ]
     },
     "metadata": {},
     "output_type": "display_data"
    },
    {
     "name": "stdout",
     "output_type": "stream",
     "text": [
      "Epoch 23: train=0.937408, val=0.706455, took 593.13 s\n"
     ]
    },
    {
     "data": {
      "application/vnd.jupyter.widget-view+json": {
       "model_id": "",
       "version_major": 2,
       "version_minor": 0
      },
      "text/plain": [
       "HBox(children=(FloatProgress(value=0.0, description='Training', layout=Layout(flex='2'), max=6667.0, style=Pro…"
      ]
     },
     "metadata": {},
     "output_type": "display_data"
    },
    {
     "name": "stdout",
     "output_type": "stream",
     "text": [
      "Epoch 24: train=0.937569, val=0.762041, took 595.92 s\n"
     ]
    },
    {
     "data": {
      "application/vnd.jupyter.widget-view+json": {
       "model_id": "",
       "version_major": 2,
       "version_minor": 0
      },
      "text/plain": [
       "HBox(children=(FloatProgress(value=0.0, description='Training', layout=Layout(flex='2'), max=6667.0, style=Pro…"
      ]
     },
     "metadata": {},
     "output_type": "display_data"
    },
    {
     "name": "stdout",
     "output_type": "stream",
     "text": [
      "Epoch 25: train=0.934898, val=0.686234, took 594.92 s\n"
     ]
    },
    {
     "data": {
      "application/vnd.jupyter.widget-view+json": {
       "model_id": "",
       "version_major": 2,
       "version_minor": 0
      },
      "text/plain": [
       "HBox(children=(FloatProgress(value=0.0, description='Training', layout=Layout(flex='2'), max=6667.0, style=Pro…"
      ]
     },
     "metadata": {},
     "output_type": "display_data"
    },
    {
     "name": "stdout",
     "output_type": "stream",
     "text": [
      "Epoch 26: train=0.935687, val=0.702434, took 594.58 s\n"
     ]
    },
    {
     "data": {
      "application/vnd.jupyter.widget-view+json": {
       "model_id": "",
       "version_major": 2,
       "version_minor": 0
      },
      "text/plain": [
       "HBox(children=(FloatProgress(value=0.0, description='Training', layout=Layout(flex='2'), max=6667.0, style=Pro…"
      ]
     },
     "metadata": {},
     "output_type": "display_data"
    },
    {
     "name": "stdout",
     "output_type": "stream",
     "text": [
      "Epoch 27: train=0.936574, val=0.672044, took 594.09 s\n"
     ]
    },
    {
     "data": {
      "application/vnd.jupyter.widget-view+json": {
       "model_id": "",
       "version_major": 2,
       "version_minor": 0
      },
      "text/plain": [
       "HBox(children=(FloatProgress(value=0.0, description='Training', layout=Layout(flex='2'), max=6667.0, style=Pro…"
      ]
     },
     "metadata": {},
     "output_type": "display_data"
    },
    {
     "name": "stdout",
     "output_type": "stream",
     "text": [
      "Epoch 28: train=0.933309, val=0.674289, took 594.83 s\n"
     ]
    },
    {
     "data": {
      "application/vnd.jupyter.widget-view+json": {
       "model_id": "",
       "version_major": 2,
       "version_minor": 0
      },
      "text/plain": [
       "HBox(children=(FloatProgress(value=0.0, description='Training', layout=Layout(flex='2'), max=6667.0, style=Pro…"
      ]
     },
     "metadata": {},
     "output_type": "display_data"
    },
    {
     "name": "stdout",
     "output_type": "stream",
     "text": [
      "Epoch 29: train=0.935197, val=0.672012, took 594.15 s\n"
     ]
    },
    {
     "data": {
      "application/vnd.jupyter.widget-view+json": {
       "model_id": "",
       "version_major": 2,
       "version_minor": 0
      },
      "text/plain": [
       "HBox(children=(FloatProgress(value=0.0, description='Training', layout=Layout(flex='2'), max=6667.0, style=Pro…"
      ]
     },
     "metadata": {},
     "output_type": "display_data"
    },
    {
     "name": "stdout",
     "output_type": "stream",
     "text": [
      "Epoch 30: train=0.932491, val=0.674218, took 593.77 s\n"
     ]
    },
    {
     "data": {
      "application/vnd.jupyter.widget-view+json": {
       "model_id": "",
       "version_major": 2,
       "version_minor": 0
      },
      "text/plain": [
       "HBox(children=(FloatProgress(value=0.0, description='Training', layout=Layout(flex='2'), max=6667.0, style=Pro…"
      ]
     },
     "metadata": {},
     "output_type": "display_data"
    },
    {
     "name": "stdout",
     "output_type": "stream",
     "text": [
      "Epoch 31: train=0.931657, val=0.698723, took 593.04 s\n"
     ]
    },
    {
     "data": {
      "application/vnd.jupyter.widget-view+json": {
       "model_id": "",
       "version_major": 2,
       "version_minor": 0
      },
      "text/plain": [
       "HBox(children=(FloatProgress(value=0.0, description='Training', layout=Layout(flex='2'), max=6667.0, style=Pro…"
      ]
     },
     "metadata": {},
     "output_type": "display_data"
    },
    {
     "name": "stdout",
     "output_type": "stream",
     "text": [
      "Epoch 32: train=0.931548, val=0.730634, took 594.21 s\n"
     ]
    },
    {
     "data": {
      "application/vnd.jupyter.widget-view+json": {
       "model_id": "4bb0c75738dc464f844ebbe2a5c127b2",
       "version_major": 2,
       "version_minor": 0
      },
      "text/plain": [
       "HBox(children=(FloatProgress(value=0.0, description='Training', layout=Layout(flex='2'), max=6667.0, style=Pro…"
      ]
     },
     "metadata": {},
     "output_type": "display_data"
    }
   ],
   "source": [
    "for result in trainNet(model, optimizer, loss,\n",
    "                        train_loader, val_loader,\n",
    "                        n_epochs, epoch_start=len(results),\n",
    "                        notebook=True):\n",
    "    \n",
    "    results = results.append(pd.Series(result._asdict()), ignore_index=True)\n",
    "    xs = results.index\n",
    "    \n",
    "    # Update the plot above\n",
    "    lines['train'].set_data(results.index,results.cost)\n",
    "    lines['val'].set_data(results.index,results.val)\n",
    "    \n",
    "    #filter first cost epoch (can be really large)\n",
    "    max_cost = max(max(results.cost if len(results.cost)<2 else results.cost[1:]), max(results.val))\n",
    "    min_cost = min(min(results.cost), min(results.val))\n",
    "    \n",
    "    # The plot limits need updating too\n",
    "    \n",
    "    \n",
    "    \n",
    "    ax.set_ylim(min_cost*.9, max_cost*1.1)  \n",
    "    ax.set_xlim(-.5, len(results.cost) - .5)\n",
    "\n",
    "    \n",
    "    # Redraw the figure\n",
    "    fig.canvas.draw()\n",
    "\n",
    "    # Save each model state dictionary\n",
    "    torch.save(model.state_dict(), output / f'{name}_{result.epoch}.pyt')"
   ]
  },
  {
   "cell_type": "markdown",
   "metadata": {},
   "source": [
    "Go ahead and save the final model (even though it was also saved above):"
   ]
  },
  {
   "cell_type": "code",
   "execution_count": null,
   "metadata": {},
   "outputs": [],
   "source": [
    "torch.save(model.state_dict(), output / f'{name}_final.pyt')"
   ]
  },
  {
   "cell_type": "markdown",
   "metadata": {},
   "source": [
    "Save the output results:"
   ]
  },
  {
   "cell_type": "code",
   "execution_count": null,
   "metadata": {},
   "outputs": [],
   "source": [
    "results.to_hdf(f'{name}_stats.hdf5', 'results')"
   ]
  },
  {
   "cell_type": "markdown",
   "metadata": {},
   "source": [
    "Save the plot above:"
   ]
  },
  {
   "cell_type": "code",
   "execution_count": null,
   "metadata": {},
   "outputs": [],
   "source": [
    "dual_train_plots(results.index,\n",
    "                 results.cost, results.val,\n",
    "                 results.cost, results.val)\n",
    "plt.tight_layout()\n",
    "plt.savefig(str(output / f'{name}_stats_a.png'))"
   ]
  },
  {
   "cell_type": "code",
   "execution_count": null,
   "metadata": {},
   "outputs": [],
   "source": [
    "##quit()"
   ]
  },
  {
   "cell_type": "code",
   "execution_count": null,
   "metadata": {},
   "outputs": [],
   "source": []
  },
  {
   "cell_type": "code",
   "execution_count": null,
   "metadata": {},
   "outputs": [],
   "source": []
  }
 ],
 "metadata": {
  "kernelspec": {
   "display_name": "goofit-june2020",
   "language": "python",
   "name": "goofit-june2020"
  },
  "language_info": {
   "codemirror_mode": {
    "name": "ipython",
    "version": 3
   },
   "file_extension": ".py",
   "mimetype": "text/x-python",
   "name": "python",
   "nbconvert_exporter": "python",
   "pygments_lexer": "ipython3",
   "version": "3.7.6"
  }
 },
 "nbformat": 4,
 "nbformat_minor": 2
}
