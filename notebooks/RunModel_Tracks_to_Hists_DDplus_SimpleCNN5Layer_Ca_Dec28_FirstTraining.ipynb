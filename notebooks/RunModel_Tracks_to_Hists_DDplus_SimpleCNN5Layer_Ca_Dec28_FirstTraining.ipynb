{
 "cells": [
  {
   "cell_type": "code",
   "execution_count": 1,
   "metadata": {},
   "outputs": [],
   "source": [
    "##%matplotlib widget\n",
    "## with %matplotlib notebook: seems to require ipympl as part of environment, either\n",
    "## part of the conda environment or \"pip install ipympl\"\n",
    "## otherwise, does not show ANY plots in notebook, plt.savefig() works\n",
    "%matplotlib notebook  \n",
    "##%matplotlib inline    ## --plt.savefig()  works, but re-sizing does NOT\n"
   ]
  },
  {
   "cell_type": "markdown",
   "metadata": {},
   "source": [
    "This notebook is a first attempt to read in track information and use it to predict the the full target histrograms.\n",
    "\n",
    "It will read in the TracksToDKE__Ellipsoids_DDPlus model to predict the KDE, and then feed it into a SimpleCNN model to predict the target histograms.  Initially, it will use previously trained weights.\n"
   ]
  },
  {
   "cell_type": "markdown",
   "metadata": {},
   "source": [
    "Check the current GPU usage. Please try to be nice!"
   ]
  },
  {
   "cell_type": "code",
   "execution_count": 2,
   "metadata": {},
   "outputs": [
    {
     "name": "stdout",
     "output_type": "stream",
     "text": [
      "Mon Dec 28 23:54:12 2020       \r\n",
      "+-----------------------------------------------------------------------------+\r\n",
      "| NVIDIA-SMI 450.36.06    Driver Version: 450.36.06    CUDA Version: 11.0     |\r\n",
      "|-------------------------------+----------------------+----------------------+\r\n",
      "| GPU  Name        Persistence-M| Bus-Id        Disp.A | Volatile Uncorr. ECC |\r\n",
      "| Fan  Temp  Perf  Pwr:Usage/Cap|         Memory-Usage | GPU-Util  Compute M. |\r\n",
      "|                               |                      |               MIG M. |\r\n",
      "|===============================+======================+======================|\r\n",
      "|   0  GeForce RTX 208...  On   | 00000000:18:00.0 Off |                  N/A |\r\n",
      "| 33%   48C    P2    72W / 250W |    891MiB / 11019MiB |      9%      Default |\r\n",
      "|                               |                      |                  N/A |\r\n",
      "+-------------------------------+----------------------+----------------------+\r\n",
      "|   1  GeForce RTX 208...  On   | 00000000:3B:00.0 Off |                  N/A |\r\n",
      "| 29%   47C    P8    39W / 250W |     64MiB / 11019MiB |      0%      Default |\r\n",
      "|                               |                      |                  N/A |\r\n",
      "+-------------------------------+----------------------+----------------------+\r\n",
      "                                                                               \r\n",
      "+-----------------------------------------------------------------------------+\r\n",
      "| Processes:                                                                  |\r\n",
      "|  GPU   GI   CI        PID   Type   Process name                  GPU Memory |\r\n",
      "|        ID   ID                                                   Usage      |\r\n",
      "|=============================================================================|\r\n",
      "|    0   N/A  N/A     50808      C   ...s/june2020-gpu/bin/python      887MiB |\r\n",
      "|    1   N/A  N/A      3736      G   /usr/bin/X                         33MiB |\r\n",
      "|    1   N/A  N/A      3790      G   /usr/bin/gnome-shell               25MiB |\r\n",
      "+-----------------------------------------------------------------------------+\r\n"
     ]
    }
   ],
   "source": [
    "!nvidia-smi"
   ]
  },
  {
   "cell_type": "markdown",
   "metadata": {},
   "source": [
    "> **WARNING**: The card numbers here are *not* the same as in CUDA. You have been warned."
   ]
  },
  {
   "cell_type": "markdown",
   "metadata": {},
   "source": [
    "## Imports"
   ]
  },
  {
   "cell_type": "code",
   "execution_count": 3,
   "metadata": {},
   "outputs": [],
   "source": [
    "import matplotlib.pyplot as plt\n",
    "import numpy as np\n",
    "import time\n",
    "import torch\n",
    "import pandas as pd\n",
    "\n",
    "# Python 3 standard library\n",
    "from pathlib import Path\n",
    "\n",
    "from model.efficiency import pv_locations, efficiency\n",
    "\n",
    "##from torchsummary import summary"
   ]
  },
  {
   "cell_type": "markdown",
   "metadata": {},
   "source": [
    "### Set up local parameters"
   ]
  },
  {
   "cell_type": "code",
   "execution_count": 4,
   "metadata": {},
   "outputs": [],
   "source": [
    "n_epochs = 700\n",
    "\n",
    "# Name is the output file name\n",
    "\n",
    "\n",
    "##  200719  mds\n",
    "##folder = '20December_Tracks_to_KDE_TestTrainedModel'\n",
    "##folder = '22December_testing_DDplus_loss_Bb_iter2_floatAll_100epochs_3em6'\n",
    "folder = '28December_Tracks_to_Hists_FirstTraining_700epochs_lr_1em7_2p5_kde2hists_frozen'\n",
    "name = folder\n",
    "\n",
    "# Make an output folder named \"name\" (change if you want)\n",
    "\n",
    "## Special instructions for those working on goofy at UC\n",
    "## Please be very careful to make sure that your folder\n",
    "## does not live in a subdirectory of your home directory\n",
    "## this disk has very little capacity. Instead, use \n",
    "## a subdirectory in /share/lazy with a symbolic link to\n",
    "## it in this (the notebooks) subdirectory\n",
    "folder = 'ML/' + folder\n",
    "output = Path(folder)\n",
    "\n",
    "\n",
    "# Size of batches\n",
    "batch_size = 16\n",
    "# How fast to learn\n",
    "learning_rate = 1e-7"
   ]
  },
  {
   "cell_type": "markdown",
   "metadata": {},
   "source": [
    "Make the output directory if it does not exist:"
   ]
  },
  {
   "cell_type": "code",
   "execution_count": 5,
   "metadata": {},
   "outputs": [],
   "source": [
    "output.mkdir(exist_ok=True)"
   ]
  },
  {
   "cell_type": "markdown",
   "metadata": {},
   "source": [
    "## Get the helper functions\n",
    "\n",
    "Add the directory with the model\n",
    "definitions to the path so we can import from it:\n",
    "\n",
    "> When you type `import X`,\n",
    "Python searches `sys.path` for a python\n",
    "file named `X.py` to import. So we need to add the model directory to the path."
   ]
  },
  {
   "cell_type": "code",
   "execution_count": 6,
   "metadata": {
    "scrolled": true
   },
   "outputs": [],
   "source": [
    "# From model/collectdata.py\n",
    "##from model.collectdata_kde_Ellipsoids import collect_t2kde_data\n",
    "from model.collectdata_t2hists import collect_t2hists_data\n",
    "from model.collectdata_mdsA  import collect_truth\n",
    "\n",
    "# From model/loss.py\n",
    "##from loss import Loss\n",
    "##from model.kde_loss_D import Loss\n",
    "## from model.kde_loss_B import Loss  ## Tracks_to_KDE loss, not for target hists\n",
    "\n",
    "##  \"standard\" ratios loss for hists training\n",
    "from model.alt_loss_A import Loss  ## loss used to train RunModel_Demo_28November2020-SimpleCNNLayer_Ca-Restart_5\n",
    "\n",
    "\n",
    "##from model.models_kde import TracksToKDE_Ellipsoids_DirtyDozen as Model\n",
    "from model.models_kde import TracksToKDE_Ellipsoids_DDplus as t2kde_model\n",
    "##from model.models_mds_G import SimpleCNN5Layer_Ca as kde2hists_model\n",
    "from model.models_mds_28Dec20 import SimpleCNN5Layer_Ca as kde2hists_model  ## copy of models_mds_01June20 for debugging\n",
    "from model.models_t2hists import TracksToHists_A as t2hists_model\n",
    "\n",
    "\n",
    "##from model.training_kde import trainNet, select_gpu, Results\n",
    "from model.training import trainNet, select_gpu, Results\n",
    "from model.plots import dual_train_plots, replace_in_ax"
   ]
  },
  {
   "cell_type": "code",
   "execution_count": 7,
   "metadata": {},
   "outputs": [],
   "source": [
    "# This gets built up during the run - do not rerun this cell\n",
    "results = pd.DataFrame([], columns=Results._fields)"
   ]
  },
  {
   "cell_type": "markdown",
   "metadata": {},
   "source": [
    "Set up Torch device configuration. All tensors and model parameters need to know where to be put.\n",
    "This takes a BUS ID number: The BUS ID is the same as the listing at the top of this script."
   ]
  },
  {
   "cell_type": "code",
   "execution_count": 8,
   "metadata": {},
   "outputs": [
    {
     "name": "stdout",
     "output_type": "stream",
     "text": [
      "1 available GPUs (initially using device 0):\n",
      "  0 GeForce RTX 2080 Ti\n"
     ]
    }
   ],
   "source": [
    "device = select_gpu(0)\n",
    "##device = \"cpu\""
   ]
  },
  {
   "cell_type": "markdown",
   "metadata": {},
   "source": [
    "## Loading data\n",
    "\n",
    "Load the dataset, split into parts, then move to device (see `collectdata.py` in the `../model` directory)"
   ]
  },
  {
   "cell_type": "code",
   "execution_count": 9,
   "metadata": {
    "scrolled": false
   },
   "outputs": [
    {
     "name": "stdout",
     "output_type": "stream",
     "text": [
      "Loading data...\n",
      "pocaMx.shape =  (20000,)\n",
      "nEvts =  20000\n",
      "len(pocaMx[0]) =  211\n",
      "len(pocaMx[1]) =  21\n",
      "len(pocaMx[2]) =  20\n",
      "len(pocaMx[3]) =  198\n",
      "len(pocaMx[4]) =  233\n",
      "have entered six_ellipsoid_parameters\n",
      "  \n",
      " \n",
      "  nEvts =  20000\n",
      " iEvt, nTrks =  0 211\n",
      " iEvt, nTrks =  1 21\n",
      " iEvt, nTrks =  2 20\n",
      " iEvt, nTrks =  3 198\n",
      " iEvt, nTrks =  4 233\n",
      " iEvt, nTrks =  5 85\n",
      " iEvt, nTrks =  6 223\n",
      " iEvt, nTrks =  7 425\n",
      " iEvt, nTrks =  8 252\n",
      " iEvt, nTrks =  9 169\n",
      "len(X) =  20000\n",
      "len(Xlist) =  1\n",
      "Loaded dataAA/20K_POCA_kernel_evts_200926.h5 in 24.77 s\n",
      "outer loop X.shape =  (20000, 9, 600)\n",
      "Constructing 18000 event dataset took 0.0367 s\n",
      "x_t.shape =  torch.Size([18000, 9, 600])\n",
      "x_t.shape[0] =  18000\n",
      "x_t.shape[1] =  9\n",
      "x_t.shape =  torch.Size([18000, 9, 600])\n",
      "Loading data...\n",
      "pocaMx.shape =  (20000,)\n",
      "nEvts =  20000\n",
      "len(pocaMx[0]) =  211\n",
      "len(pocaMx[1]) =  21\n",
      "len(pocaMx[2]) =  20\n",
      "len(pocaMx[3]) =  198\n",
      "len(pocaMx[4]) =  233\n",
      "have entered six_ellipsoid_parameters\n",
      "  \n",
      " \n",
      "  nEvts =  20000\n",
      " iEvt, nTrks =  0 211\n",
      " iEvt, nTrks =  1 21\n",
      " iEvt, nTrks =  2 20\n",
      " iEvt, nTrks =  3 198\n",
      " iEvt, nTrks =  4 233\n",
      " iEvt, nTrks =  5 85\n",
      " iEvt, nTrks =  6 223\n",
      " iEvt, nTrks =  7 425\n",
      " iEvt, nTrks =  8 252\n",
      " iEvt, nTrks =  9 169\n",
      "len(X) =  20000\n",
      "len(Xlist) =  1\n",
      "Loaded dataAA/20K_POCA_kernel_evts_200926.h5 in 24.14 s\n",
      "outer loop X.shape =  (20000, 9, 600)\n",
      "Constructing 2000 event dataset took 2.006 s\n",
      "x_t.shape =  torch.Size([2000, 9, 600])\n",
      "x_t.shape[0] =  2000\n",
      "x_t.shape[1] =  9\n",
      "x_t.shape =  torch.Size([2000, 9, 600])\n",
      "Loaded dataAA/20K_POCA_kernel_evts_200926.h5 in 0.01319 s\n",
      "PV.n.shape =     (20000,)\n",
      "PV.n[0].shape =  6\n",
      "PV.x[0] =        -0.06039733 0.034324445 0.032115813 0.0021888595 -0.035334907 -0.013019809\n",
      "PV.y[0] =        -0.09381338 -0.013181885 -0.030898828 -0.08940365 -0.0058297813 0.062288247\n",
      "PV.z[0] =        97.82085 61.021088 -0.15807877 134.26784 -29.881668 79.19783\n",
      "PV.n[0] =        24 26 10 7 24 19\n",
      "PV.cat[0] =      1 1 1 1 1 1\n",
      "Loaded dataAA/20K_POCA_kernel_evts_200926.h5 in 0.008787 s\n",
      "SV.n.shape =     (20000,)\n",
      "SV.n[0].shape =  2\n",
      "SV.x[0] =        -0.014751727 0.03923173\n",
      "SV.y[0] =        0.050640453 0.08648109\n",
      "SV.z[0] =        78.924194 79.170876\n",
      "SV.n[0] =        2 0\n",
      "SV.cat[0] =      1 -1\n"
     ]
    }
   ],
   "source": [
    "train_loader = collect_t2hists_data('dataAA/20K_POCA_kernel_evts_200926.h5',\n",
    "                             batch_size=batch_size,\n",
    "## if we are using a larger dataset (240K events, with the datasets above, and 11 GB  of GPU memory),\n",
    "## not the dataset will overflow the GPU memory; device=device will allow the data to move back\n",
    "## and forth between the CPU and GPU memory. While this allows use of a larger dataset, it slows\n",
    "## down performance by about 10%.  So comment out when not needed.\n",
    "##                           device=device,\n",
    "                             slice = slice(0,18000)\n",
    "                           )\n",
    "\n",
    "\n",
    "\n",
    "                            \n",
    "# Validation dataset. You can slice to reduce the size.\n",
    "## mds no separate validation set yet,\n",
    "val_loader = collect_t2hists_data('dataAA/20K_POCA_kernel_evts_200926.h5',\n",
    "                            batch_size=batch_size,\n",
    "                            device=device,\n",
    "                            slice = slice(18000,None)\n",
    "                           )\n",
    "\n",
    "PV = collect_truth('dataAA/20K_POCA_kernel_evts_200926.h5', pvs=True)\n",
    "print('PV.n.shape =    ',  PV.n.shape)\n",
    "print('PV.n[0].shape = ', *PV.n[0].shape)\n",
    "print('PV.x[0] =       ', *PV.x[0])\n",
    "print('PV.y[0] =       ', *PV.y[0])\n",
    "print('PV.z[0] =       ', *PV.z[0])\n",
    "print('PV.n[0] =       ', *PV.n[0])\n",
    "print('PV.cat[0] =     ', *PV.cat[0])\n",
    "\n",
    "SV = collect_truth('dataAA/20K_POCA_kernel_evts_200926.h5', pvs=False)\n",
    "print('SV.n.shape =    ', SV.n.shape)\n",
    "print('SV.n[0].shape = ', *SV.n[0].shape)\n",
    "print('SV.x[0] =       ', *SV.x[0])\n",
    "print('SV.y[0] =       ', *SV.y[0])\n",
    "print('SV.z[0] =       ', *SV.z[0])\n",
    "print('SV.n[0] =       ', *SV.n[0])\n",
    "print('SV.cat[0] =     ', *SV.cat[0])\n"
   ]
  },
  {
   "cell_type": "markdown",
   "metadata": {},
   "source": [
    "# Preparing the model"
   ]
  },
  {
   "cell_type": "markdown",
   "metadata": {},
   "source": [
    "Prepare a model, use multiple GPUs if they are VISIBLE, and move the model to the device."
   ]
  },
  {
   "cell_type": "code",
   "execution_count": 10,
   "metadata": {
    "scrolled": false
   },
   "outputs": [
    {
     "name": "stdout",
     "output_type": "stream",
     "text": [
      "ct, child =  0    Linear(in_features=9, out_features=50, bias=True)\n",
      "ct, child =  1    Linear(in_features=50, out_features=50, bias=True)\n",
      "ct, child =  2    Linear(in_features=50, out_features=50, bias=True)\n",
      "ct, child =  3    Linear(in_features=50, out_features=50, bias=True)\n",
      "ct, child =  4    Linear(in_features=50, out_features=50, bias=True)\n",
      "ct, child =  5    Linear(in_features=50, out_features=50, bias=True)\n",
      "ct, child =  6    Linear(in_features=50, out_features=50, bias=True)\n",
      "ct, child =  7    Linear(in_features=50, out_features=50, bias=True)\n",
      "ct, child =  8    Linear(in_features=50, out_features=50, bias=True)\n",
      "ct, child =  9    Linear(in_features=50, out_features=50, bias=True)\n",
      "ct, child =  10    Linear(in_features=50, out_features=50, bias=True)\n",
      "ct, child =  11    Linear(in_features=50, out_features=16000, bias=True)\n",
      "ct, child =  12    Conv1d(4, 25, kernel_size=(25,), stride=(1,), padding=(12,))\n",
      "ct, child =  13    Conv1d(25, 1, kernel_size=(5,), stride=(1,), padding=(2,))\n",
      "ct, child =  14    Linear(in_features=4000, out_features=4000, bias=True)\n",
      "ct, child =  15    Dropout(p=0.15, inplace=False)\n",
      "ct, child =  16    Dropout(p=0.15, inplace=False)\n",
      "ct, child =  17    Conv1d(1, 20, kernel_size=(25,), stride=(1,), padding=(12,))\n",
      "     About to set param.requires_grad=False for ct =  17 params\n",
      "ct, child =  18    Conv1d(20, 10, kernel_size=(15,), stride=(1,), padding=(7,))\n",
      "     About to set param.requires_grad=False for ct =  18 params\n",
      "ct, child =  19    Conv1d(10, 10, kernel_size=(15,), stride=(1,), padding=(7,))\n",
      "     About to set param.requires_grad=False for ct =  19 params\n",
      "ct, child =  20    Conv1d(10, 10, kernel_size=(15,), stride=(1,), padding=(7,))\n",
      "     About to set param.requires_grad=False for ct =  20 params\n",
      "ct, child =  21    Conv1d(10, 1, kernel_size=(5,), stride=(1,), padding=(2,))\n",
      "     About to set param.requires_grad=False for ct =  21 params\n",
      "ct, child =  22    Dropout(p=0.15, inplace=False)\n",
      "     About to set param.requires_grad=False for ct =  22 params\n",
      "ct, child =  23    Dropout(p=0.15, inplace=False)\n",
      "     About to set param.requires_grad=False for ct =  23 params\n",
      "ct, child =  24    Dropout(p=0.15, inplace=False)\n",
      "     About to set param.requires_grad=False for ct =  24 params\n",
      "ct, child =  25    Dropout(p=0.15, inplace=False)\n",
      "     About to set param.requires_grad=False for ct =  25 params\n",
      "ct, child =  26    Dropout(p=0.35, inplace=False)\n",
      "     About to set param.requires_grad=False for ct =  26 params\n",
      "ct, child =  27    Linear(in_features=4000, out_features=4000, bias=True)\n",
      "     About to set param.requires_grad=False for ct =  27 params\n"
     ]
    }
   ],
   "source": [
    "nOut1 = 50\n",
    "nOut2 = 50\n",
    "nOut3 = 50\n",
    "nOut4 = 50\n",
    "nOut5 = 50\n",
    "nOut6 = 50\n",
    "nOut7 = 50\n",
    "nOut8 = 50\n",
    "nOut9 = 50\n",
    "nOut10 = 50\n",
    "nOut11 = 50\n",
    "latentChannels = 4\n",
    "model_t2kde = t2kde_model(nOut1,nOut2,nOut3,nOut4,nOut5,nOut6,nOut7,nOut8,nOut9,nOut10,nOut11,latentChannels)\n",
    "model_kde2hists = kde2hists_model()\n",
    "model_t2hists = t2hists_model(nOut1,nOut2,nOut3,nOut4,nOut5,nOut6,nOut7,nOut8,nOut9,nOut10,nOut11,latentChannels)\n",
    "\n",
    "##summary(model, input_size=(4, 4000))\n",
    "##print(model.parameters)\n",
    "\n",
    "## add the following code to allow the user to freeze the some of the weights corresponding \n",
    "## to those taken from an earlier model trained with the original target histograms\n",
    "## presumably -- this leaves either the perturbative filter \"fixed\" and lets the \n",
    "## learning focus on the non-perturbative features, so get started faster, or vice versa\n",
    "ct = 0\n",
    "for child in model_t2hists.children():\n",
    "  print('ct, child = ',ct, \"  \", child)\n",
    "  if ct > 16:\n",
    "    print(\"     About to set param.requires_grad=False for ct = \", ct, \"params\")\n",
    "    for param in child.parameters():\n",
    "        param.requires_grad = False \n",
    "  ct += 1\n",
    "\n",
    "loss = Loss(epsilon=1e-5,coefficient=2.5)\n",
    "optimizer = torch.optim.Adam(model_t2hists.parameters(), lr=learning_rate)"
   ]
  },
  {
   "cell_type": "markdown",
   "metadata": {},
   "source": [
    "Let's move the model's weight matricies to the GPU:"
   ]
  },
  {
   "cell_type": "code",
   "execution_count": 11,
   "metadata": {
    "scrolled": false
   },
   "outputs": [
    {
     "name": "stdout",
     "output_type": "stream",
     "text": [
      "for model_t2kde_dict\n",
      "index, k =   0    layer1.weight\n",
      "index, k =   1    layer1.bias\n",
      "index, k =   2    layer2.weight\n",
      "index, k =   3    layer2.bias\n",
      "index, k =   4    layer3.weight\n",
      "index, k =   5    layer3.bias\n",
      "index, k =   6    layer4.weight\n",
      "index, k =   7    layer4.bias\n",
      "index, k =   8    layer5.weight\n",
      "index, k =   9    layer5.bias\n",
      "index, k =   10    layer6.weight\n",
      "index, k =   11    layer6.bias\n",
      "index, k =   12    layer7.weight\n",
      "index, k =   13    layer7.bias\n",
      "index, k =   14    layer8.weight\n",
      "index, k =   15    layer8.bias\n",
      "index, k =   16    layer9.weight\n",
      "index, k =   17    layer9.bias\n",
      "index, k =   18    layer10.weight\n",
      "index, k =   19    layer10.bias\n",
      "index, k =   20    layer11.weight\n",
      "index, k =   21    layer11.bias\n",
      "index, k =   22    layer12new.weight\n",
      "index, k =   23    layer12new.bias\n",
      "index, k =   24    conv1.weight\n",
      "index, k =   25    conv1.bias\n",
      "index, k =   26    conv2.weight\n",
      "index, k =   27    conv2.bias\n",
      "index, k =   28    fc1.weight\n",
      "index, k =   29    fc1.bias\n",
      "index, k =   30    finalFilter.weight\n",
      "index, k =   31    finalFilter.bias\n",
      "for model_hists_2kde_dict\n",
      "index, k =   0    conv1.weight\n",
      "index, k =   1    conv1.bias\n",
      "index, k =   2    conv2.weight\n",
      "index, k =   3    conv2.bias\n",
      "index, k =   4    conv3.weight\n",
      "index, k =   5    conv3.bias\n",
      "index, k =   6    conv4.weight\n",
      "index, k =   7    conv4.bias\n",
      "index, k =   8    conv5.weight\n",
      "index, k =   9    conv5.bias\n",
      "index, k =   10    fc1.weight\n",
      "index, k =   11    fc1.bias\n",
      "for model_hists_2kde_dict\n",
      "index, k =   0    layer1.weight\n",
      "index, k =   1    layer1.bias\n",
      "index, k =   2    layer2.weight\n",
      "index, k =   3    layer2.bias\n",
      "index, k =   4    layer3.weight\n",
      "index, k =   5    layer3.bias\n",
      "index, k =   6    layer4.weight\n",
      "index, k =   7    layer4.bias\n",
      "index, k =   8    layer5.weight\n",
      "index, k =   9    layer5.bias\n",
      "index, k =   10    layer6.weight\n",
      "index, k =   11    layer6.bias\n",
      "index, k =   12    layer7.weight\n",
      "index, k =   13    layer7.bias\n",
      "index, k =   14    layer8.weight\n",
      "index, k =   15    layer8.bias\n",
      "index, k =   16    layer9.weight\n",
      "index, k =   17    layer9.bias\n",
      "index, k =   18    layer10.weight\n",
      "index, k =   19    layer10.bias\n",
      "index, k =   20    layer11.weight\n",
      "index, k =   21    layer11.bias\n",
      "index, k =   22    layer12new.weight\n",
      "index, k =   23    layer12new.bias\n",
      "index, k =   24    conv1.weight\n",
      "index, k =   25    conv1.bias\n",
      "index, k =   26    conv2.weight\n",
      "index, k =   27    conv2.bias\n",
      "index, k =   28    fc1.weight\n",
      "index, k =   29    fc1.bias\n",
      "index, k =   30    hist_conv1.weight\n",
      "index, k =   31    hist_conv1.bias\n",
      "index, k =   32    hist_conv2.weight\n",
      "index, k =   33    hist_conv2.bias\n",
      "index, k =   34    hist_conv3.weight\n",
      "index, k =   35    hist_conv3.bias\n",
      "index, k =   36    hist_conv4.weight\n",
      "index, k =   37    hist_conv4.bias\n",
      "index, k =   38    hist_conv5.weight\n",
      "index, k =   39    hist_conv5.bias\n",
      "index, k =   40    hist_fc1.weight\n",
      "index, k =   41    hist_fc1.bias\n",
      "t2kde_dict_name =  ML/25December__DDplus_loss_Ba_iter7_floatAll_800epochs_4em6/25December__DDplus_loss_Ba_iter7_floatAll_800epochs_4em6_final.pyt\n",
      " \n",
      "   for t2kde_pretrained_dict\n",
      "index, k =   0    layer1.weight\n",
      "index, k =   1    layer1.bias\n",
      "index, k =   2    layer2.weight\n",
      "index, k =   3    layer2.bias\n",
      "index, k =   4    layer3.weight\n",
      "index, k =   5    layer3.bias\n",
      "index, k =   6    layer4.weight\n",
      "index, k =   7    layer4.bias\n",
      "index, k =   8    layer5.weight\n",
      "index, k =   9    layer5.bias\n",
      "index, k =   10    layer6.weight\n",
      "index, k =   11    layer6.bias\n",
      "index, k =   12    layer7.weight\n",
      "index, k =   13    layer7.bias\n",
      "index, k =   14    layer8.weight\n",
      "index, k =   15    layer8.bias\n",
      "index, k =   16    layer9.weight\n",
      "index, k =   17    layer9.bias\n",
      "index, k =   18    layer10.weight\n",
      "index, k =   19    layer10.bias\n",
      "index, k =   20    layer11.weight\n",
      "index, k =   21    layer11.bias\n",
      "index, k =   22    layer12new.weight\n",
      "index, k =   23    layer12new.bias\n",
      "index, k =   24    conv1.weight\n",
      "index, k =   25    conv1.bias\n",
      "index, k =   26    conv2.weight\n",
      "index, k =   27    conv2.bias\n",
      "index, k =   28    fc1.weight\n",
      "index, k =   29    fc1.bias\n",
      "index, k =   30    finalFilter.weight\n",
      "index, k =   31    finalFilter.bias\n",
      " \n",
      "   for kde2hists_pretrained_dict\n",
      "index, k =   0    conv1.weight\n",
      "index, k =   1    conv1.bias\n",
      "index, k =   2    conv2.weight\n",
      "index, k =   3    conv2.bias\n",
      "index, k =   4    conv3.weight\n",
      "index, k =   5    conv3.bias\n",
      "index, k =   6    conv4.weight\n",
      "index, k =   7    conv4.bias\n",
      "index, k =   8    conv5.weight\n",
      "index, k =   9    conv5.bias\n",
      "index, k =   10    fc1.weight\n",
      "index, k =   11    fc1.bias\n"
     ]
    }
   ],
   "source": [
    "## want to look at all three dictionaries to start:\n",
    "##  t2kde\n",
    "##  kde2hists\n",
    "##  t2hists\n",
    "## the plan is to (initially) copy weights from separate dictionaries into th t2hists dictionary\n",
    "\n",
    "##   ML -> /share/lazy/sokoloff/ML\n",
    "model_t2kde_dict = model_t2kde.state_dict()\n",
    "## mds 190725 for debugging\n",
    "print(\"for model_t2kde_dict\")\n",
    "index = 0\n",
    "for k,v in model_t2kde_dict.items():\n",
    "    print(\"index, k =  \",index,\"  \",k)\n",
    "    index = index+1\n",
    "#\n",
    "model_kde2hists_dict = model_kde2hists.state_dict()\n",
    "## mds 190725 for debugging\n",
    "print(\"for model_hists_2kde_dict\")\n",
    "index = 0\n",
    "for k,v in model_kde2hists_dict.items():\n",
    "    print(\"index, k =  \",index,\"  \",k)\n",
    "    index = index+1\n",
    "#\n",
    "model_t2hists_dict = model_t2hists.state_dict()\n",
    "## mds 190725 for debugging\n",
    "print(\"for model_hists_2kde_dict\")\n",
    "index = 0\n",
    "for k,v in model_t2hists_dict.items():\n",
    "    print(\"index, k =  \",index,\"  \",k)\n",
    "    index = index+1\n",
    "#\n",
    "\n",
    "##  build the \"updated_dict\" to become the t2hists_dictionary from the\n",
    "##  t2kde and kde2hist dictionaries\n",
    "update_dict = model_t2hists_dict\n",
    "##print(\"updated_dict = \",updated_dict)\n",
    "## when starting \"ab initio\", reduce biases as the bias gets summed for each track\n",
    "## contributing to the predicted KDE\n",
    "'''\n",
    "updated_dict[\"layer1.bias\"] = 0.005*model_dict[\"layer1.bias\"]\n",
    "updated_dict[\"layer2.bias\"] = 0.005*model_dict[\"layer2.bias\"]\n",
    "updated_dict[\"layer3.bias\"] = 0.005*model_dict[\"layer3.bias\"]\n",
    "updated_dict[\"layer4.bias\"] = 0.005*model_dict[\"layer4.bias\"]\n",
    "updated_dict[\"layer5.bias\"] = 0.005*model_dict[\"layer5.bias\"]\n",
    "updated_dict[\"layer6.bias\"] = 0.005*model_dict[\"layer6.bias\"]\n",
    "updated_dict[\"layer7.bias\"] = 0.005*model_dict[\"layer7.bias\"]\n",
    "updated_dict[\"layer8.bias\"] = 0.005*model_dict[\"layer8.bias\"]\n",
    "updated_dict[\"layer9.bias\"] = 0.005*model_dict[\"layer9.bias\"]\n",
    "updated_dict[\"layer10.bias\"] = 0.005*model_dict[\"layer10.bias\"]\n",
    "updated_dict[\"layer11.bias\"] = 0.005*model_dict[\"layer11.bias\"]\n",
    "'''\n",
    "##model_t2hists.load_state_dict(updated_dict,strict=False)\n",
    "\n",
    "##model__t2hists_dict = model_t2hists.state_dict()\n",
    "\n",
    "## let's get the tracks-to-kde model here\n",
    "t2kde_folder = '25December__DDplus_loss_Ba_iter5_floatAll_800epochs_5em6'  ## really iter6, really Dec. 27\n",
    "t2kde_folder = '25December__DDplus_loss_Ba_iter7_floatAll_800epochs_4em6'\n",
    "t2kde_name = t2kde_folder\n",
    "suffix = 'final'\n",
    "t2kde_dict_name = 'ML/' + t2kde_folder + '/' + t2kde_name + '_'+ suffix + '.pyt'\n",
    "print('t2kde_dict_name = ',t2kde_dict_name)\n",
    "pretrained_t2kde_dict = torch.load(t2kde_dict_name)\n",
    "\n",
    "print(\" \\n\",\"  for t2kde_pretrained_dict\")\n",
    "index = 0\n",
    "for k,v in pretrained_t2kde_dict.items():\n",
    "    print(\"index, k =  \",index,\"  \",k)\n",
    "    index = index+1\n",
    "    \n",
    "    \n",
    "## let's get the hists-to-kde model here   \n",
    "kde2hists_folder = '02June2020_CNN5Layer_Ca_another200epochs_K'\n",
    "kde2hists_name = kde2hists_folder\n",
    "suffix = 'final'\n",
    "kde2hists_dict_name = 'ML/' + kde2hists_folder + '/' + kde2hists_name + '_'+ suffix + '.pyt'\n",
    "## mds dec28 print('kde2hists_dict_name = ',kde2hists_dict_name)\n",
    "pretrained_kde2hists_dict = torch.load(kde2hists_dict_name)\n",
    "\n",
    "print(\" \\n\",\"  for kde2hists_pretrained_dict\")\n",
    "index = 0\n",
    "for k,v in pretrained_kde2hists_dict.items():\n",
    "    print(\"index, k =  \",index,\"  \",k)\n",
    "    index = index+1\n",
    " \n",
    "\n",
    "\n",
    "##print(\"model_dict instantiated\")\n",
    "# 1. filter out unnecessary keys\n",
    "pretrained_dict = {k: v for k, v in pretrained_t2kde_dict.items() if k in model_t2hists_dict}\n",
    "## mds dec28 print(\"pretrained_dict iterated\")\n",
    "# 2. overwrite entries in the existing state dict\n",
    "model_t2hists_dict.update(pretrained_dict) \n",
    "\n",
    "update_dict[\"hist_conv1.weight\"] = pretrained_kde2hists_dict[\"conv1.weight\"]\n",
    "update_dict[\"hist_conv1.bias\"]   = pretrained_kde2hists_dict[\"conv1.bias\"]\n",
    "update_dict[\"hist_conv2.weight\"] = pretrained_kde2hists_dict[\"conv2.weight\"]\n",
    "update_dict[\"hist_conv2.bias\"]   = pretrained_kde2hists_dict[\"conv2.bias\"]\n",
    "update_dict[\"hist_conv3.weight\"] = pretrained_kde2hists_dict[\"conv3.weight\"]\n",
    "update_dict[\"hist_conv3.bias\"]   = pretrained_kde2hists_dict[\"conv3.bias\"]\n",
    "update_dict[\"hist_conv4.weight\"] = pretrained_kde2hists_dict[\"conv4.weight\"]\n",
    "update_dict[\"hist_conv4.bias\"]   = pretrained_kde2hists_dict[\"conv4.bias\"]\n",
    "update_dict[\"hist_conv5.weight\"] = pretrained_kde2hists_dict[\"conv5.weight\"]\n",
    "update_dict[\"hist_conv5.bias\"]   = pretrained_kde2hists_dict[\"conv5.bias\"]\n",
    "update_dict[\"hist_fc1.weight\"]   = pretrained_kde2hists_dict[\"fc1.weight\"]\n",
    "update_dict[\"hist_fc1.bias\"]     = pretrained_kde2hists_dict[\"fc1.bias\"]\n",
    "\n",
    "##model_t2hists.update(update_dict,strict=False)\n",
    "model_t2hists.load_state_dict(update_dict,strict=False)\n",
    "model_t2hists_dict = model_t2hists.state_dict()\n",
    "\n",
    "##\n",
    "#   when starting from a model with a fully connected last layer rather than a convolutional layer\n",
    "# 3. load the new state dict\n",
    "#   need to use strict=False as the two models state model attributes do not agree exactly\n",
    "#   see https://pytorch.org/docs/master/_modules/torch/nn/modules/module.html#Module.load_state_dict\n",
    "\n",
    "## model.load_state_dict(pretrained_dict,strict=False)\n",
    "\n",
    "## print('model_dict =    ', model_dict)\n"
   ]
  },
  {
   "cell_type": "code",
   "execution_count": 12,
   "metadata": {},
   "outputs": [],
   "source": [
    "##print('validation.dataset.tensors = ',validation.dataset.tensors)\n",
    "fig_size = plt.rcParams[\"figure.figsize\"]\n",
    "fig_size[0] = 10\n",
    "fig_size[1] = 4\n",
    "plt.rcParams[\"figure.figsize\"] = fig_size"
   ]
  },
  {
   "cell_type": "code",
   "execution_count": 13,
   "metadata": {
    "scrolled": true
   },
   "outputs": [],
   "source": [
    "model = model_t2hists.to(device)"
   ]
  },
  {
   "cell_type": "code",
   "execution_count": 14,
   "metadata": {},
   "outputs": [
    {
     "data": {
      "application/javascript": [
       "/* Put everything inside the global mpl namespace */\n",
       "window.mpl = {};\n",
       "\n",
       "\n",
       "mpl.get_websocket_type = function() {\n",
       "    if (typeof(WebSocket) !== 'undefined') {\n",
       "        return WebSocket;\n",
       "    } else if (typeof(MozWebSocket) !== 'undefined') {\n",
       "        return MozWebSocket;\n",
       "    } else {\n",
       "        alert('Your browser does not have WebSocket support. ' +\n",
       "              'Please try Chrome, Safari or Firefox ≥ 6. ' +\n",
       "              'Firefox 4 and 5 are also supported but you ' +\n",
       "              'have to enable WebSockets in about:config.');\n",
       "    };\n",
       "}\n",
       "\n",
       "mpl.figure = function(figure_id, websocket, ondownload, parent_element) {\n",
       "    this.id = figure_id;\n",
       "\n",
       "    this.ws = websocket;\n",
       "\n",
       "    this.supports_binary = (this.ws.binaryType != undefined);\n",
       "\n",
       "    if (!this.supports_binary) {\n",
       "        var warnings = document.getElementById(\"mpl-warnings\");\n",
       "        if (warnings) {\n",
       "            warnings.style.display = 'block';\n",
       "            warnings.textContent = (\n",
       "                \"This browser does not support binary websocket messages. \" +\n",
       "                    \"Performance may be slow.\");\n",
       "        }\n",
       "    }\n",
       "\n",
       "    this.imageObj = new Image();\n",
       "\n",
       "    this.context = undefined;\n",
       "    this.message = undefined;\n",
       "    this.canvas = undefined;\n",
       "    this.rubberband_canvas = undefined;\n",
       "    this.rubberband_context = undefined;\n",
       "    this.format_dropdown = undefined;\n",
       "\n",
       "    this.image_mode = 'full';\n",
       "\n",
       "    this.root = $('<div/>');\n",
       "    this._root_extra_style(this.root)\n",
       "    this.root.attr('style', 'display: inline-block');\n",
       "\n",
       "    $(parent_element).append(this.root);\n",
       "\n",
       "    this._init_header(this);\n",
       "    this._init_canvas(this);\n",
       "    this._init_toolbar(this);\n",
       "\n",
       "    var fig = this;\n",
       "\n",
       "    this.waiting = false;\n",
       "\n",
       "    this.ws.onopen =  function () {\n",
       "            fig.send_message(\"supports_binary\", {value: fig.supports_binary});\n",
       "            fig.send_message(\"send_image_mode\", {});\n",
       "            if (mpl.ratio != 1) {\n",
       "                fig.send_message(\"set_dpi_ratio\", {'dpi_ratio': mpl.ratio});\n",
       "            }\n",
       "            fig.send_message(\"refresh\", {});\n",
       "        }\n",
       "\n",
       "    this.imageObj.onload = function() {\n",
       "            if (fig.image_mode == 'full') {\n",
       "                // Full images could contain transparency (where diff images\n",
       "                // almost always do), so we need to clear the canvas so that\n",
       "                // there is no ghosting.\n",
       "                fig.context.clearRect(0, 0, fig.canvas.width, fig.canvas.height);\n",
       "            }\n",
       "            fig.context.drawImage(fig.imageObj, 0, 0);\n",
       "        };\n",
       "\n",
       "    this.imageObj.onunload = function() {\n",
       "        fig.ws.close();\n",
       "    }\n",
       "\n",
       "    this.ws.onmessage = this._make_on_message_function(this);\n",
       "\n",
       "    this.ondownload = ondownload;\n",
       "}\n",
       "\n",
       "mpl.figure.prototype._init_header = function() {\n",
       "    var titlebar = $(\n",
       "        '<div class=\"ui-dialog-titlebar ui-widget-header ui-corner-all ' +\n",
       "        'ui-helper-clearfix\"/>');\n",
       "    var titletext = $(\n",
       "        '<div class=\"ui-dialog-title\" style=\"width: 100%; ' +\n",
       "        'text-align: center; padding: 3px;\"/>');\n",
       "    titlebar.append(titletext)\n",
       "    this.root.append(titlebar);\n",
       "    this.header = titletext[0];\n",
       "}\n",
       "\n",
       "\n",
       "\n",
       "mpl.figure.prototype._canvas_extra_style = function(canvas_div) {\n",
       "\n",
       "}\n",
       "\n",
       "\n",
       "mpl.figure.prototype._root_extra_style = function(canvas_div) {\n",
       "\n",
       "}\n",
       "\n",
       "mpl.figure.prototype._init_canvas = function() {\n",
       "    var fig = this;\n",
       "\n",
       "    var canvas_div = $('<div/>');\n",
       "\n",
       "    canvas_div.attr('style', 'position: relative; clear: both; outline: 0');\n",
       "\n",
       "    function canvas_keyboard_event(event) {\n",
       "        return fig.key_event(event, event['data']);\n",
       "    }\n",
       "\n",
       "    canvas_div.keydown('key_press', canvas_keyboard_event);\n",
       "    canvas_div.keyup('key_release', canvas_keyboard_event);\n",
       "    this.canvas_div = canvas_div\n",
       "    this._canvas_extra_style(canvas_div)\n",
       "    this.root.append(canvas_div);\n",
       "\n",
       "    var canvas = $('<canvas/>');\n",
       "    canvas.addClass('mpl-canvas');\n",
       "    canvas.attr('style', \"left: 0; top: 0; z-index: 0; outline: 0\")\n",
       "\n",
       "    this.canvas = canvas[0];\n",
       "    this.context = canvas[0].getContext(\"2d\");\n",
       "\n",
       "    var backingStore = this.context.backingStorePixelRatio ||\n",
       "\tthis.context.webkitBackingStorePixelRatio ||\n",
       "\tthis.context.mozBackingStorePixelRatio ||\n",
       "\tthis.context.msBackingStorePixelRatio ||\n",
       "\tthis.context.oBackingStorePixelRatio ||\n",
       "\tthis.context.backingStorePixelRatio || 1;\n",
       "\n",
       "    mpl.ratio = (window.devicePixelRatio || 1) / backingStore;\n",
       "\n",
       "    var rubberband = $('<canvas/>');\n",
       "    rubberband.attr('style', \"position: absolute; left: 0; top: 0; z-index: 1;\")\n",
       "\n",
       "    var pass_mouse_events = true;\n",
       "\n",
       "    canvas_div.resizable({\n",
       "        start: function(event, ui) {\n",
       "            pass_mouse_events = false;\n",
       "        },\n",
       "        resize: function(event, ui) {\n",
       "            fig.request_resize(ui.size.width, ui.size.height);\n",
       "        },\n",
       "        stop: function(event, ui) {\n",
       "            pass_mouse_events = true;\n",
       "            fig.request_resize(ui.size.width, ui.size.height);\n",
       "        },\n",
       "    });\n",
       "\n",
       "    function mouse_event_fn(event) {\n",
       "        if (pass_mouse_events)\n",
       "            return fig.mouse_event(event, event['data']);\n",
       "    }\n",
       "\n",
       "    rubberband.mousedown('button_press', mouse_event_fn);\n",
       "    rubberband.mouseup('button_release', mouse_event_fn);\n",
       "    // Throttle sequential mouse events to 1 every 20ms.\n",
       "    rubberband.mousemove('motion_notify', mouse_event_fn);\n",
       "\n",
       "    rubberband.mouseenter('figure_enter', mouse_event_fn);\n",
       "    rubberband.mouseleave('figure_leave', mouse_event_fn);\n",
       "\n",
       "    canvas_div.on(\"wheel\", function (event) {\n",
       "        event = event.originalEvent;\n",
       "        event['data'] = 'scroll'\n",
       "        if (event.deltaY < 0) {\n",
       "            event.step = 1;\n",
       "        } else {\n",
       "            event.step = -1;\n",
       "        }\n",
       "        mouse_event_fn(event);\n",
       "    });\n",
       "\n",
       "    canvas_div.append(canvas);\n",
       "    canvas_div.append(rubberband);\n",
       "\n",
       "    this.rubberband = rubberband;\n",
       "    this.rubberband_canvas = rubberband[0];\n",
       "    this.rubberband_context = rubberband[0].getContext(\"2d\");\n",
       "    this.rubberband_context.strokeStyle = \"#000000\";\n",
       "\n",
       "    this._resize_canvas = function(width, height) {\n",
       "        // Keep the size of the canvas, canvas container, and rubber band\n",
       "        // canvas in synch.\n",
       "        canvas_div.css('width', width)\n",
       "        canvas_div.css('height', height)\n",
       "\n",
       "        canvas.attr('width', width * mpl.ratio);\n",
       "        canvas.attr('height', height * mpl.ratio);\n",
       "        canvas.attr('style', 'width: ' + width + 'px; height: ' + height + 'px;');\n",
       "\n",
       "        rubberband.attr('width', width);\n",
       "        rubberband.attr('height', height);\n",
       "    }\n",
       "\n",
       "    // Set the figure to an initial 600x600px, this will subsequently be updated\n",
       "    // upon first draw.\n",
       "    this._resize_canvas(600, 600);\n",
       "\n",
       "    // Disable right mouse context menu.\n",
       "    $(this.rubberband_canvas).bind(\"contextmenu\",function(e){\n",
       "        return false;\n",
       "    });\n",
       "\n",
       "    function set_focus () {\n",
       "        canvas.focus();\n",
       "        canvas_div.focus();\n",
       "    }\n",
       "\n",
       "    window.setTimeout(set_focus, 100);\n",
       "}\n",
       "\n",
       "mpl.figure.prototype._init_toolbar = function() {\n",
       "    var fig = this;\n",
       "\n",
       "    var nav_element = $('<div/>');\n",
       "    nav_element.attr('style', 'width: 100%');\n",
       "    this.root.append(nav_element);\n",
       "\n",
       "    // Define a callback function for later on.\n",
       "    function toolbar_event(event) {\n",
       "        return fig.toolbar_button_onclick(event['data']);\n",
       "    }\n",
       "    function toolbar_mouse_event(event) {\n",
       "        return fig.toolbar_button_onmouseover(event['data']);\n",
       "    }\n",
       "\n",
       "    for(var toolbar_ind in mpl.toolbar_items) {\n",
       "        var name = mpl.toolbar_items[toolbar_ind][0];\n",
       "        var tooltip = mpl.toolbar_items[toolbar_ind][1];\n",
       "        var image = mpl.toolbar_items[toolbar_ind][2];\n",
       "        var method_name = mpl.toolbar_items[toolbar_ind][3];\n",
       "\n",
       "        if (!name) {\n",
       "            // put a spacer in here.\n",
       "            continue;\n",
       "        }\n",
       "        var button = $('<button/>');\n",
       "        button.addClass('ui-button ui-widget ui-state-default ui-corner-all ' +\n",
       "                        'ui-button-icon-only');\n",
       "        button.attr('role', 'button');\n",
       "        button.attr('aria-disabled', 'false');\n",
       "        button.click(method_name, toolbar_event);\n",
       "        button.mouseover(tooltip, toolbar_mouse_event);\n",
       "\n",
       "        var icon_img = $('<span/>');\n",
       "        icon_img.addClass('ui-button-icon-primary ui-icon');\n",
       "        icon_img.addClass(image);\n",
       "        icon_img.addClass('ui-corner-all');\n",
       "\n",
       "        var tooltip_span = $('<span/>');\n",
       "        tooltip_span.addClass('ui-button-text');\n",
       "        tooltip_span.html(tooltip);\n",
       "\n",
       "        button.append(icon_img);\n",
       "        button.append(tooltip_span);\n",
       "\n",
       "        nav_element.append(button);\n",
       "    }\n",
       "\n",
       "    var fmt_picker_span = $('<span/>');\n",
       "\n",
       "    var fmt_picker = $('<select/>');\n",
       "    fmt_picker.addClass('mpl-toolbar-option ui-widget ui-widget-content');\n",
       "    fmt_picker_span.append(fmt_picker);\n",
       "    nav_element.append(fmt_picker_span);\n",
       "    this.format_dropdown = fmt_picker[0];\n",
       "\n",
       "    for (var ind in mpl.extensions) {\n",
       "        var fmt = mpl.extensions[ind];\n",
       "        var option = $(\n",
       "            '<option/>', {selected: fmt === mpl.default_extension}).html(fmt);\n",
       "        fmt_picker.append(option);\n",
       "    }\n",
       "\n",
       "    // Add hover states to the ui-buttons\n",
       "    $( \".ui-button\" ).hover(\n",
       "        function() { $(this).addClass(\"ui-state-hover\");},\n",
       "        function() { $(this).removeClass(\"ui-state-hover\");}\n",
       "    );\n",
       "\n",
       "    var status_bar = $('<span class=\"mpl-message\"/>');\n",
       "    nav_element.append(status_bar);\n",
       "    this.message = status_bar[0];\n",
       "}\n",
       "\n",
       "mpl.figure.prototype.request_resize = function(x_pixels, y_pixels) {\n",
       "    // Request matplotlib to resize the figure. Matplotlib will then trigger a resize in the client,\n",
       "    // which will in turn request a refresh of the image.\n",
       "    this.send_message('resize', {'width': x_pixels, 'height': y_pixels});\n",
       "}\n",
       "\n",
       "mpl.figure.prototype.send_message = function(type, properties) {\n",
       "    properties['type'] = type;\n",
       "    properties['figure_id'] = this.id;\n",
       "    this.ws.send(JSON.stringify(properties));\n",
       "}\n",
       "\n",
       "mpl.figure.prototype.send_draw_message = function() {\n",
       "    if (!this.waiting) {\n",
       "        this.waiting = true;\n",
       "        this.ws.send(JSON.stringify({type: \"draw\", figure_id: this.id}));\n",
       "    }\n",
       "}\n",
       "\n",
       "\n",
       "mpl.figure.prototype.handle_save = function(fig, msg) {\n",
       "    var format_dropdown = fig.format_dropdown;\n",
       "    var format = format_dropdown.options[format_dropdown.selectedIndex].value;\n",
       "    fig.ondownload(fig, format);\n",
       "}\n",
       "\n",
       "\n",
       "mpl.figure.prototype.handle_resize = function(fig, msg) {\n",
       "    var size = msg['size'];\n",
       "    if (size[0] != fig.canvas.width || size[1] != fig.canvas.height) {\n",
       "        fig._resize_canvas(size[0], size[1]);\n",
       "        fig.send_message(\"refresh\", {});\n",
       "    };\n",
       "}\n",
       "\n",
       "mpl.figure.prototype.handle_rubberband = function(fig, msg) {\n",
       "    var x0 = msg['x0'] / mpl.ratio;\n",
       "    var y0 = (fig.canvas.height - msg['y0']) / mpl.ratio;\n",
       "    var x1 = msg['x1'] / mpl.ratio;\n",
       "    var y1 = (fig.canvas.height - msg['y1']) / mpl.ratio;\n",
       "    x0 = Math.floor(x0) + 0.5;\n",
       "    y0 = Math.floor(y0) + 0.5;\n",
       "    x1 = Math.floor(x1) + 0.5;\n",
       "    y1 = Math.floor(y1) + 0.5;\n",
       "    var min_x = Math.min(x0, x1);\n",
       "    var min_y = Math.min(y0, y1);\n",
       "    var width = Math.abs(x1 - x0);\n",
       "    var height = Math.abs(y1 - y0);\n",
       "\n",
       "    fig.rubberband_context.clearRect(\n",
       "        0, 0, fig.canvas.width / mpl.ratio, fig.canvas.height / mpl.ratio);\n",
       "\n",
       "    fig.rubberband_context.strokeRect(min_x, min_y, width, height);\n",
       "}\n",
       "\n",
       "mpl.figure.prototype.handle_figure_label = function(fig, msg) {\n",
       "    // Updates the figure title.\n",
       "    fig.header.textContent = msg['label'];\n",
       "}\n",
       "\n",
       "mpl.figure.prototype.handle_cursor = function(fig, msg) {\n",
       "    var cursor = msg['cursor'];\n",
       "    switch(cursor)\n",
       "    {\n",
       "    case 0:\n",
       "        cursor = 'pointer';\n",
       "        break;\n",
       "    case 1:\n",
       "        cursor = 'default';\n",
       "        break;\n",
       "    case 2:\n",
       "        cursor = 'crosshair';\n",
       "        break;\n",
       "    case 3:\n",
       "        cursor = 'move';\n",
       "        break;\n",
       "    }\n",
       "    fig.rubberband_canvas.style.cursor = cursor;\n",
       "}\n",
       "\n",
       "mpl.figure.prototype.handle_message = function(fig, msg) {\n",
       "    fig.message.textContent = msg['message'];\n",
       "}\n",
       "\n",
       "mpl.figure.prototype.handle_draw = function(fig, msg) {\n",
       "    // Request the server to send over a new figure.\n",
       "    fig.send_draw_message();\n",
       "}\n",
       "\n",
       "mpl.figure.prototype.handle_image_mode = function(fig, msg) {\n",
       "    fig.image_mode = msg['mode'];\n",
       "}\n",
       "\n",
       "mpl.figure.prototype.updated_canvas_event = function() {\n",
       "    // Called whenever the canvas gets updated.\n",
       "    this.send_message(\"ack\", {});\n",
       "}\n",
       "\n",
       "// A function to construct a web socket function for onmessage handling.\n",
       "// Called in the figure constructor.\n",
       "mpl.figure.prototype._make_on_message_function = function(fig) {\n",
       "    return function socket_on_message(evt) {\n",
       "        if (evt.data instanceof Blob) {\n",
       "            /* FIXME: We get \"Resource interpreted as Image but\n",
       "             * transferred with MIME type text/plain:\" errors on\n",
       "             * Chrome.  But how to set the MIME type?  It doesn't seem\n",
       "             * to be part of the websocket stream */\n",
       "            evt.data.type = \"image/png\";\n",
       "\n",
       "            /* Free the memory for the previous frames */\n",
       "            if (fig.imageObj.src) {\n",
       "                (window.URL || window.webkitURL).revokeObjectURL(\n",
       "                    fig.imageObj.src);\n",
       "            }\n",
       "\n",
       "            fig.imageObj.src = (window.URL || window.webkitURL).createObjectURL(\n",
       "                evt.data);\n",
       "            fig.updated_canvas_event();\n",
       "            fig.waiting = false;\n",
       "            return;\n",
       "        }\n",
       "        else if (typeof evt.data === 'string' && evt.data.slice(0, 21) == \"data:image/png;base64\") {\n",
       "            fig.imageObj.src = evt.data;\n",
       "            fig.updated_canvas_event();\n",
       "            fig.waiting = false;\n",
       "            return;\n",
       "        }\n",
       "\n",
       "        var msg = JSON.parse(evt.data);\n",
       "        var msg_type = msg['type'];\n",
       "\n",
       "        // Call the  \"handle_{type}\" callback, which takes\n",
       "        // the figure and JSON message as its only arguments.\n",
       "        try {\n",
       "            var callback = fig[\"handle_\" + msg_type];\n",
       "        } catch (e) {\n",
       "            console.log(\"No handler for the '\" + msg_type + \"' message type: \", msg);\n",
       "            return;\n",
       "        }\n",
       "\n",
       "        if (callback) {\n",
       "            try {\n",
       "                // console.log(\"Handling '\" + msg_type + \"' message: \", msg);\n",
       "                callback(fig, msg);\n",
       "            } catch (e) {\n",
       "                console.log(\"Exception inside the 'handler_\" + msg_type + \"' callback:\", e, e.stack, msg);\n",
       "            }\n",
       "        }\n",
       "    };\n",
       "}\n",
       "\n",
       "// from http://stackoverflow.com/questions/1114465/getting-mouse-location-in-canvas\n",
       "mpl.findpos = function(e) {\n",
       "    //this section is from http://www.quirksmode.org/js/events_properties.html\n",
       "    var targ;\n",
       "    if (!e)\n",
       "        e = window.event;\n",
       "    if (e.target)\n",
       "        targ = e.target;\n",
       "    else if (e.srcElement)\n",
       "        targ = e.srcElement;\n",
       "    if (targ.nodeType == 3) // defeat Safari bug\n",
       "        targ = targ.parentNode;\n",
       "\n",
       "    // jQuery normalizes the pageX and pageY\n",
       "    // pageX,Y are the mouse positions relative to the document\n",
       "    // offset() returns the position of the element relative to the document\n",
       "    var x = e.pageX - $(targ).offset().left;\n",
       "    var y = e.pageY - $(targ).offset().top;\n",
       "\n",
       "    return {\"x\": x, \"y\": y};\n",
       "};\n",
       "\n",
       "/*\n",
       " * return a copy of an object with only non-object keys\n",
       " * we need this to avoid circular references\n",
       " * http://stackoverflow.com/a/24161582/3208463\n",
       " */\n",
       "function simpleKeys (original) {\n",
       "  return Object.keys(original).reduce(function (obj, key) {\n",
       "    if (typeof original[key] !== 'object')\n",
       "        obj[key] = original[key]\n",
       "    return obj;\n",
       "  }, {});\n",
       "}\n",
       "\n",
       "mpl.figure.prototype.mouse_event = function(event, name) {\n",
       "    var canvas_pos = mpl.findpos(event)\n",
       "\n",
       "    if (name === 'button_press')\n",
       "    {\n",
       "        this.canvas.focus();\n",
       "        this.canvas_div.focus();\n",
       "    }\n",
       "\n",
       "    var x = canvas_pos.x * mpl.ratio;\n",
       "    var y = canvas_pos.y * mpl.ratio;\n",
       "\n",
       "    this.send_message(name, {x: x, y: y, button: event.button,\n",
       "                             step: event.step,\n",
       "                             guiEvent: simpleKeys(event)});\n",
       "\n",
       "    /* This prevents the web browser from automatically changing to\n",
       "     * the text insertion cursor when the button is pressed.  We want\n",
       "     * to control all of the cursor setting manually through the\n",
       "     * 'cursor' event from matplotlib */\n",
       "    event.preventDefault();\n",
       "    return false;\n",
       "}\n",
       "\n",
       "mpl.figure.prototype._key_event_extra = function(event, name) {\n",
       "    // Handle any extra behaviour associated with a key event\n",
       "}\n",
       "\n",
       "mpl.figure.prototype.key_event = function(event, name) {\n",
       "\n",
       "    // Prevent repeat events\n",
       "    if (name == 'key_press')\n",
       "    {\n",
       "        if (event.which === this._key)\n",
       "            return;\n",
       "        else\n",
       "            this._key = event.which;\n",
       "    }\n",
       "    if (name == 'key_release')\n",
       "        this._key = null;\n",
       "\n",
       "    var value = '';\n",
       "    if (event.ctrlKey && event.which != 17)\n",
       "        value += \"ctrl+\";\n",
       "    if (event.altKey && event.which != 18)\n",
       "        value += \"alt+\";\n",
       "    if (event.shiftKey && event.which != 16)\n",
       "        value += \"shift+\";\n",
       "\n",
       "    value += 'k';\n",
       "    value += event.which.toString();\n",
       "\n",
       "    this._key_event_extra(event, name);\n",
       "\n",
       "    this.send_message(name, {key: value,\n",
       "                             guiEvent: simpleKeys(event)});\n",
       "    return false;\n",
       "}\n",
       "\n",
       "mpl.figure.prototype.toolbar_button_onclick = function(name) {\n",
       "    if (name == 'download') {\n",
       "        this.handle_save(this, null);\n",
       "    } else {\n",
       "        this.send_message(\"toolbar_button\", {name: name});\n",
       "    }\n",
       "};\n",
       "\n",
       "mpl.figure.prototype.toolbar_button_onmouseover = function(tooltip) {\n",
       "    this.message.textContent = tooltip;\n",
       "};\n",
       "mpl.toolbar_items = [[\"Home\", \"Reset original view\", \"fa fa-home icon-home\", \"home\"], [\"Back\", \"Back to previous view\", \"fa fa-arrow-left icon-arrow-left\", \"back\"], [\"Forward\", \"Forward to next view\", \"fa fa-arrow-right icon-arrow-right\", \"forward\"], [\"\", \"\", \"\", \"\"], [\"Pan\", \"Pan axes with left mouse, zoom with right\", \"fa fa-arrows icon-move\", \"pan\"], [\"Zoom\", \"Zoom to rectangle\", \"fa fa-square-o icon-check-empty\", \"zoom\"], [\"\", \"\", \"\", \"\"], [\"Download\", \"Download plot\", \"fa fa-floppy-o icon-save\", \"download\"]];\n",
       "\n",
       "mpl.extensions = [\"eps\", \"jpeg\", \"pdf\", \"png\", \"ps\", \"raw\", \"svg\", \"tif\"];\n",
       "\n",
       "mpl.default_extension = \"png\";var comm_websocket_adapter = function(comm) {\n",
       "    // Create a \"websocket\"-like object which calls the given IPython comm\n",
       "    // object with the appropriate methods. Currently this is a non binary\n",
       "    // socket, so there is still some room for performance tuning.\n",
       "    var ws = {};\n",
       "\n",
       "    ws.close = function() {\n",
       "        comm.close()\n",
       "    };\n",
       "    ws.send = function(m) {\n",
       "        //console.log('sending', m);\n",
       "        comm.send(m);\n",
       "    };\n",
       "    // Register the callback with on_msg.\n",
       "    comm.on_msg(function(msg) {\n",
       "        //console.log('receiving', msg['content']['data'], msg);\n",
       "        // Pass the mpl event to the overridden (by mpl) onmessage function.\n",
       "        ws.onmessage(msg['content']['data'])\n",
       "    });\n",
       "    return ws;\n",
       "}\n",
       "\n",
       "mpl.mpl_figure_comm = function(comm, msg) {\n",
       "    // This is the function which gets called when the mpl process\n",
       "    // starts-up an IPython Comm through the \"matplotlib\" channel.\n",
       "\n",
       "    var id = msg.content.data.id;\n",
       "    // Get hold of the div created by the display call when the Comm\n",
       "    // socket was opened in Python.\n",
       "    var element = $(\"#\" + id);\n",
       "    var ws_proxy = comm_websocket_adapter(comm)\n",
       "\n",
       "    function ondownload(figure, format) {\n",
       "        window.open(figure.imageObj.src);\n",
       "    }\n",
       "\n",
       "    var fig = new mpl.figure(id, ws_proxy,\n",
       "                           ondownload,\n",
       "                           element.get(0));\n",
       "\n",
       "    // Call onopen now - mpl needs it, as it is assuming we've passed it a real\n",
       "    // web socket which is closed, not our websocket->open comm proxy.\n",
       "    ws_proxy.onopen();\n",
       "\n",
       "    fig.parent_element = element.get(0);\n",
       "    fig.cell_info = mpl.find_output_cell(\"<div id='\" + id + \"'></div>\");\n",
       "    if (!fig.cell_info) {\n",
       "        console.error(\"Failed to find cell for figure\", id, fig);\n",
       "        return;\n",
       "    }\n",
       "\n",
       "    var output_index = fig.cell_info[2]\n",
       "    var cell = fig.cell_info[0];\n",
       "\n",
       "};\n",
       "\n",
       "mpl.figure.prototype.handle_close = function(fig, msg) {\n",
       "    var width = fig.canvas.width/mpl.ratio\n",
       "    fig.root.unbind('remove')\n",
       "\n",
       "    // Update the output cell to use the data from the current canvas.\n",
       "    fig.push_to_output();\n",
       "    var dataURL = fig.canvas.toDataURL();\n",
       "    // Re-enable the keyboard manager in IPython - without this line, in FF,\n",
       "    // the notebook keyboard shortcuts fail.\n",
       "    IPython.keyboard_manager.enable()\n",
       "    $(fig.parent_element).html('<img src=\"' + dataURL + '\" width=\"' + width + '\">');\n",
       "    fig.close_ws(fig, msg);\n",
       "}\n",
       "\n",
       "mpl.figure.prototype.close_ws = function(fig, msg){\n",
       "    fig.send_message('closing', msg);\n",
       "    // fig.ws.close()\n",
       "}\n",
       "\n",
       "mpl.figure.prototype.push_to_output = function(remove_interactive) {\n",
       "    // Turn the data on the canvas into data in the output cell.\n",
       "    var width = this.canvas.width/mpl.ratio\n",
       "    var dataURL = this.canvas.toDataURL();\n",
       "    this.cell_info[1]['text/html'] = '<img src=\"' + dataURL + '\" width=\"' + width + '\">';\n",
       "}\n",
       "\n",
       "mpl.figure.prototype.updated_canvas_event = function() {\n",
       "    // Tell IPython that the notebook contents must change.\n",
       "    IPython.notebook.set_dirty(true);\n",
       "    this.send_message(\"ack\", {});\n",
       "    var fig = this;\n",
       "    // Wait a second, then push the new image to the DOM so\n",
       "    // that it is saved nicely (might be nice to debounce this).\n",
       "    setTimeout(function () { fig.push_to_output() }, 1000);\n",
       "}\n",
       "\n",
       "mpl.figure.prototype._init_toolbar = function() {\n",
       "    var fig = this;\n",
       "\n",
       "    var nav_element = $('<div/>');\n",
       "    nav_element.attr('style', 'width: 100%');\n",
       "    this.root.append(nav_element);\n",
       "\n",
       "    // Define a callback function for later on.\n",
       "    function toolbar_event(event) {\n",
       "        return fig.toolbar_button_onclick(event['data']);\n",
       "    }\n",
       "    function toolbar_mouse_event(event) {\n",
       "        return fig.toolbar_button_onmouseover(event['data']);\n",
       "    }\n",
       "\n",
       "    for(var toolbar_ind in mpl.toolbar_items){\n",
       "        var name = mpl.toolbar_items[toolbar_ind][0];\n",
       "        var tooltip = mpl.toolbar_items[toolbar_ind][1];\n",
       "        var image = mpl.toolbar_items[toolbar_ind][2];\n",
       "        var method_name = mpl.toolbar_items[toolbar_ind][3];\n",
       "\n",
       "        if (!name) { continue; };\n",
       "\n",
       "        var button = $('<button class=\"btn btn-default\" href=\"#\" title=\"' + name + '\"><i class=\"fa ' + image + ' fa-lg\"></i></button>');\n",
       "        button.click(method_name, toolbar_event);\n",
       "        button.mouseover(tooltip, toolbar_mouse_event);\n",
       "        nav_element.append(button);\n",
       "    }\n",
       "\n",
       "    // Add the status bar.\n",
       "    var status_bar = $('<span class=\"mpl-message\" style=\"text-align:right; float: right;\"/>');\n",
       "    nav_element.append(status_bar);\n",
       "    this.message = status_bar[0];\n",
       "\n",
       "    // Add the close button to the window.\n",
       "    var buttongrp = $('<div class=\"btn-group inline pull-right\"></div>');\n",
       "    var button = $('<button class=\"btn btn-mini btn-primary\" href=\"#\" title=\"Stop Interaction\"><i class=\"fa fa-power-off icon-remove icon-large\"></i></button>');\n",
       "    button.click(function (evt) { fig.handle_close(fig, {}); } );\n",
       "    button.mouseover('Stop Interaction', toolbar_mouse_event);\n",
       "    buttongrp.append(button);\n",
       "    var titlebar = this.root.find($('.ui-dialog-titlebar'));\n",
       "    titlebar.prepend(buttongrp);\n",
       "}\n",
       "\n",
       "mpl.figure.prototype._root_extra_style = function(el){\n",
       "    var fig = this\n",
       "    el.on(\"remove\", function(){\n",
       "\tfig.close_ws(fig, {});\n",
       "    });\n",
       "}\n",
       "\n",
       "mpl.figure.prototype._canvas_extra_style = function(el){\n",
       "    // this is important to make the div 'focusable\n",
       "    el.attr('tabindex', 0)\n",
       "    // reach out to IPython and tell the keyboard manager to turn it's self\n",
       "    // off when our div gets focus\n",
       "\n",
       "    // location in version 3\n",
       "    if (IPython.notebook.keyboard_manager) {\n",
       "        IPython.notebook.keyboard_manager.register_events(el);\n",
       "    }\n",
       "    else {\n",
       "        // location in version 2\n",
       "        IPython.keyboard_manager.register_events(el);\n",
       "    }\n",
       "\n",
       "}\n",
       "\n",
       "mpl.figure.prototype._key_event_extra = function(event, name) {\n",
       "    var manager = IPython.notebook.keyboard_manager;\n",
       "    if (!manager)\n",
       "        manager = IPython.keyboard_manager;\n",
       "\n",
       "    // Check for shift+enter\n",
       "    if (event.shiftKey && event.which == 13) {\n",
       "        this.canvas_div.blur();\n",
       "        // select the cell after this one\n",
       "        var index = IPython.notebook.find_cell_index(this.cell_info[0]);\n",
       "        IPython.notebook.select(index + 1);\n",
       "    }\n",
       "}\n",
       "\n",
       "mpl.figure.prototype.handle_save = function(fig, msg) {\n",
       "    fig.ondownload(fig, null);\n",
       "}\n",
       "\n",
       "\n",
       "mpl.find_output_cell = function(html_output) {\n",
       "    // Return the cell and output element which can be found *uniquely* in the notebook.\n",
       "    // Note - this is a bit hacky, but it is done because the \"notebook_saving.Notebook\"\n",
       "    // IPython event is triggered only after the cells have been serialised, which for\n",
       "    // our purposes (turning an active figure into a static one), is too late.\n",
       "    var cells = IPython.notebook.get_cells();\n",
       "    var ncells = cells.length;\n",
       "    for (var i=0; i<ncells; i++) {\n",
       "        var cell = cells[i];\n",
       "        if (cell.cell_type === 'code'){\n",
       "            for (var j=0; j<cell.output_area.outputs.length; j++) {\n",
       "                var data = cell.output_area.outputs[j];\n",
       "                if (data.data) {\n",
       "                    // IPython >= 3 moved mimebundle to data attribute of output\n",
       "                    data = data.data;\n",
       "                }\n",
       "                if (data['text/html'] == html_output) {\n",
       "                    return [cell, data, j];\n",
       "                }\n",
       "            }\n",
       "        }\n",
       "    }\n",
       "}\n",
       "\n",
       "// Register the function which deals with the matplotlib target/channel.\n",
       "// The kernel may be null if the page has been refreshed.\n",
       "if (IPython.notebook.kernel != null) {\n",
       "    IPython.notebook.kernel.comm_manager.register_target('matplotlib', mpl.mpl_figure_comm);\n",
       "}\n"
      ],
      "text/plain": [
       "<IPython.core.display.Javascript object>"
      ]
     },
     "metadata": {},
     "output_type": "display_data"
    },
    {
     "data": {
      "text/html": [
       "<img src=\"data:image/png;base64,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\" width=\"999.75\">"
      ],
      "text/plain": [
       "<IPython.core.display.HTML object>"
      ]
     },
     "metadata": {},
     "output_type": "display_data"
    }
   ],
   "source": [
    "ax, tax, lax, lines = dual_train_plots()\n",
    "fig = ax.figure\n",
    "plt.tight_layout()"
   ]
  },
  {
   "cell_type": "code",
   "execution_count": 15,
   "metadata": {
    "scrolled": false
   },
   "outputs": [
    {
     "name": "stdout",
     "output_type": "stream",
     "text": [
      "Number of batches: train = 1125, val = 125\n"
     ]
    },
    {
     "data": {
      "application/vnd.jupyter.widget-view+json": {
       "model_id": "ca5fdaf1b0924550a8a2faef57adc4fe",
       "version_major": 2,
       "version_minor": 0
      },
      "text/plain": [
       "HBox(children=(FloatProgress(value=0.0, description='Epochs', layout=Layout(flex='2'), max=700.0, style=Progre…"
      ]
     },
     "metadata": {},
     "output_type": "display_data"
    },
    {
     "data": {
      "application/vnd.jupyter.widget-view+json": {
       "model_id": "",
       "version_major": 2,
       "version_minor": 0
      },
      "text/plain": [
       "HBox(children=(FloatProgress(value=0.0, description='Training', layout=Layout(flex='2'), max=1125.0, style=Pro…"
      ]
     },
     "metadata": {},
     "output_type": "display_data"
    },
    {
     "name": "stdout",
     "output_type": "stream",
     "text": [
      "Epoch 0: train=2.49614, val=2.44126, took 38.93 s\n",
      "  Validation Found 7775 of 10819, added 1030 (eff 71.86%) (0.515 FP/event)\n"
     ]
    },
    {
     "data": {
      "application/vnd.jupyter.widget-view+json": {
       "model_id": "",
       "version_major": 2,
       "version_minor": 0
      },
      "text/plain": [
       "HBox(children=(FloatProgress(value=0.0, description='Training', layout=Layout(flex='2'), max=1125.0, style=Pro…"
      ]
     },
     "metadata": {},
     "output_type": "display_data"
    },
    {
     "name": "stdout",
     "output_type": "stream",
     "text": [
      "Epoch 1: train=2.48474, val=2.43351, took 38.476 s\n",
      "  Validation Found 7806 of 10819, added 1069 (eff 72.15%) (0.534 FP/event)\n"
     ]
    },
    {
     "data": {
      "application/vnd.jupyter.widget-view+json": {
       "model_id": "",
       "version_major": 2,
       "version_minor": 0
      },
      "text/plain": [
       "HBox(children=(FloatProgress(value=0.0, description='Training', layout=Layout(flex='2'), max=1125.0, style=Pro…"
      ]
     },
     "metadata": {},
     "output_type": "display_data"
    },
    {
     "name": "stdout",
     "output_type": "stream",
     "text": [
      "Epoch 2: train=2.47836, val=2.4263, took 38.497 s\n",
      "  Validation Found 7839 of 10819, added 1088 (eff 72.46%) (0.544 FP/event)\n"
     ]
    },
    {
     "data": {
      "application/vnd.jupyter.widget-view+json": {
       "model_id": "",
       "version_major": 2,
       "version_minor": 0
      },
      "text/plain": [
       "HBox(children=(FloatProgress(value=0.0, description='Training', layout=Layout(flex='2'), max=1125.0, style=Pro…"
      ]
     },
     "metadata": {},
     "output_type": "display_data"
    },
    {
     "name": "stdout",
     "output_type": "stream",
     "text": [
      "Epoch 3: train=2.47386, val=2.41983, took 38.932 s\n",
      "  Validation Found 7887 of 10819, added 1087 (eff 72.90%) (0.543 FP/event)\n"
     ]
    },
    {
     "data": {
      "application/vnd.jupyter.widget-view+json": {
       "model_id": "",
       "version_major": 2,
       "version_minor": 0
      },
      "text/plain": [
       "HBox(children=(FloatProgress(value=0.0, description='Training', layout=Layout(flex='2'), max=1125.0, style=Pro…"
      ]
     },
     "metadata": {},
     "output_type": "display_data"
    },
    {
     "name": "stdout",
     "output_type": "stream",
     "text": [
      "Epoch 4: train=2.46862, val=2.4139, took 38.989 s\n",
      "  Validation Found 7902 of 10819, added 1102 (eff 73.04%) (0.551 FP/event)\n"
     ]
    },
    {
     "data": {
      "application/vnd.jupyter.widget-view+json": {
       "model_id": "",
       "version_major": 2,
       "version_minor": 0
      },
      "text/plain": [
       "HBox(children=(FloatProgress(value=0.0, description='Training', layout=Layout(flex='2'), max=1125.0, style=Pro…"
      ]
     },
     "metadata": {},
     "output_type": "display_data"
    },
    {
     "name": "stdout",
     "output_type": "stream",
     "text": [
      "Epoch 5: train=2.4678, val=2.40965, took 39.166 s\n",
      "  Validation Found 7929 of 10819, added 1124 (eff 73.29%) (0.562 FP/event)\n"
     ]
    },
    {
     "data": {
      "application/vnd.jupyter.widget-view+json": {
       "model_id": "",
       "version_major": 2,
       "version_minor": 0
      },
      "text/plain": [
       "HBox(children=(FloatProgress(value=0.0, description='Training', layout=Layout(flex='2'), max=1125.0, style=Pro…"
      ]
     },
     "metadata": {},
     "output_type": "display_data"
    },
    {
     "name": "stdout",
     "output_type": "stream",
     "text": [
      "Epoch 6: train=2.46575, val=2.40572, took 39.011 s\n",
      "  Validation Found 7949 of 10819, added 1133 (eff 73.47%) (0.566 FP/event)\n"
     ]
    },
    {
     "data": {
      "application/vnd.jupyter.widget-view+json": {
       "model_id": "",
       "version_major": 2,
       "version_minor": 0
      },
      "text/plain": [
       "HBox(children=(FloatProgress(value=0.0, description='Training', layout=Layout(flex='2'), max=1125.0, style=Pro…"
      ]
     },
     "metadata": {},
     "output_type": "display_data"
    },
    {
     "name": "stdout",
     "output_type": "stream",
     "text": [
      "Epoch 7: train=2.46073, val=2.40172, took 39.169 s\n",
      "  Validation Found 7962 of 10819, added 1158 (eff 73.59%) (0.579 FP/event)\n"
     ]
    },
    {
     "data": {
      "application/vnd.jupyter.widget-view+json": {
       "model_id": "",
       "version_major": 2,
       "version_minor": 0
      },
      "text/plain": [
       "HBox(children=(FloatProgress(value=0.0, description='Training', layout=Layout(flex='2'), max=1125.0, style=Pro…"
      ]
     },
     "metadata": {},
     "output_type": "display_data"
    },
    {
     "name": "stdout",
     "output_type": "stream",
     "text": [
      "Epoch 8: train=2.46501, val=2.39906, took 39.147 s\n",
      "  Validation Found 7982 of 10819, added 1158 (eff 73.78%) (0.579 FP/event)\n"
     ]
    },
    {
     "data": {
      "application/vnd.jupyter.widget-view+json": {
       "model_id": "",
       "version_major": 2,
       "version_minor": 0
      },
      "text/plain": [
       "HBox(children=(FloatProgress(value=0.0, description='Training', layout=Layout(flex='2'), max=1125.0, style=Pro…"
      ]
     },
     "metadata": {},
     "output_type": "display_data"
    },
    {
     "name": "stdout",
     "output_type": "stream",
     "text": [
      "Epoch 9: train=2.46192, val=2.39648, took 39.087 s\n",
      "  Validation Found 7995 of 10819, added 1162 (eff 73.90%) (0.581 FP/event)\n"
     ]
    },
    {
     "data": {
      "application/vnd.jupyter.widget-view+json": {
       "model_id": "",
       "version_major": 2,
       "version_minor": 0
      },
      "text/plain": [
       "HBox(children=(FloatProgress(value=0.0, description='Training', layout=Layout(flex='2'), max=1125.0, style=Pro…"
      ]
     },
     "metadata": {},
     "output_type": "display_data"
    },
    {
     "name": "stdout",
     "output_type": "stream",
     "text": [
      "Epoch 10: train=2.45598, val=2.39376, took 38.935 s\n",
      "  Validation Found 7995 of 10819, added 1176 (eff 73.90%) (0.588 FP/event)\n"
     ]
    },
    {
     "data": {
      "application/vnd.jupyter.widget-view+json": {
       "model_id": "",
       "version_major": 2,
       "version_minor": 0
      },
      "text/plain": [
       "HBox(children=(FloatProgress(value=0.0, description='Training', layout=Layout(flex='2'), max=1125.0, style=Pro…"
      ]
     },
     "metadata": {},
     "output_type": "display_data"
    },
    {
     "name": "stdout",
     "output_type": "stream",
     "text": [
      "Epoch 11: train=2.45205, val=2.39159, took 38.957 s\n",
      "  Validation Found 8009 of 10819, added 1191 (eff 74.03%) (0.595 FP/event)\n"
     ]
    },
    {
     "data": {
      "application/vnd.jupyter.widget-view+json": {
       "model_id": "",
       "version_major": 2,
       "version_minor": 0
      },
      "text/plain": [
       "HBox(children=(FloatProgress(value=0.0, description='Training', layout=Layout(flex='2'), max=1125.0, style=Pro…"
      ]
     },
     "metadata": {},
     "output_type": "display_data"
    },
    {
     "name": "stdout",
     "output_type": "stream",
     "text": [
      "Epoch 12: train=2.44996, val=2.39046, took 38.955 s\n",
      "  Validation Found 8018 of 10819, added 1193 (eff 74.11%) (0.596 FP/event)\n"
     ]
    },
    {
     "data": {
      "application/vnd.jupyter.widget-view+json": {
       "model_id": "",
       "version_major": 2,
       "version_minor": 0
      },
      "text/plain": [
       "HBox(children=(FloatProgress(value=0.0, description='Training', layout=Layout(flex='2'), max=1125.0, style=Pro…"
      ]
     },
     "metadata": {},
     "output_type": "display_data"
    },
    {
     "name": "stdout",
     "output_type": "stream",
     "text": [
      "Epoch 13: train=2.45238, val=2.38607, took 38.936 s\n",
      "  Validation Found 8016 of 10819, added 1197 (eff 74.09%) (0.598 FP/event)\n"
     ]
    },
    {
     "data": {
      "application/vnd.jupyter.widget-view+json": {
       "model_id": "",
       "version_major": 2,
       "version_minor": 0
      },
      "text/plain": [
       "HBox(children=(FloatProgress(value=0.0, description='Training', layout=Layout(flex='2'), max=1125.0, style=Pro…"
      ]
     },
     "metadata": {},
     "output_type": "display_data"
    },
    {
     "name": "stdout",
     "output_type": "stream",
     "text": [
      "Epoch 14: train=2.44221, val=2.38595, took 38.963 s\n",
      "  Validation Found 8025 of 10819, added 1203 (eff 74.18%) (0.601 FP/event)\n"
     ]
    },
    {
     "data": {
      "application/vnd.jupyter.widget-view+json": {
       "model_id": "",
       "version_major": 2,
       "version_minor": 0
      },
      "text/plain": [
       "HBox(children=(FloatProgress(value=0.0, description='Training', layout=Layout(flex='2'), max=1125.0, style=Pro…"
      ]
     },
     "metadata": {},
     "output_type": "display_data"
    },
    {
     "name": "stdout",
     "output_type": "stream",
     "text": [
      "Epoch 15: train=2.44271, val=2.3855, took 39.068 s\n",
      "  Validation Found 8035 of 10819, added 1212 (eff 74.27%) (0.606 FP/event)\n"
     ]
    },
    {
     "data": {
      "application/vnd.jupyter.widget-view+json": {
       "model_id": "",
       "version_major": 2,
       "version_minor": 0
      },
      "text/plain": [
       "HBox(children=(FloatProgress(value=0.0, description='Training', layout=Layout(flex='2'), max=1125.0, style=Pro…"
      ]
     },
     "metadata": {},
     "output_type": "display_data"
    },
    {
     "name": "stdout",
     "output_type": "stream",
     "text": [
      "Epoch 16: train=2.44759, val=2.38178, took 39.244 s\n",
      "  Validation Found 8030 of 10819, added 1224 (eff 74.22%) (0.612 FP/event)\n"
     ]
    },
    {
     "data": {
      "application/vnd.jupyter.widget-view+json": {
       "model_id": "",
       "version_major": 2,
       "version_minor": 0
      },
      "text/plain": [
       "HBox(children=(FloatProgress(value=0.0, description='Training', layout=Layout(flex='2'), max=1125.0, style=Pro…"
      ]
     },
     "metadata": {},
     "output_type": "display_data"
    },
    {
     "name": "stdout",
     "output_type": "stream",
     "text": [
      "Epoch 17: train=2.44496, val=2.3807, took 39.183 s\n",
      "  Validation Found 8056 of 10819, added 1216 (eff 74.46%) (0.608 FP/event)\n"
     ]
    },
    {
     "data": {
      "application/vnd.jupyter.widget-view+json": {
       "model_id": "",
       "version_major": 2,
       "version_minor": 0
      },
      "text/plain": [
       "HBox(children=(FloatProgress(value=0.0, description='Training', layout=Layout(flex='2'), max=1125.0, style=Pro…"
      ]
     },
     "metadata": {},
     "output_type": "display_data"
    },
    {
     "name": "stdout",
     "output_type": "stream",
     "text": [
      "Epoch 18: train=2.44856, val=2.37727, took 38.877 s\n",
      "  Validation Found 8058 of 10819, added 1219 (eff 74.48%) (0.609 FP/event)\n"
     ]
    },
    {
     "data": {
      "application/vnd.jupyter.widget-view+json": {
       "model_id": "",
       "version_major": 2,
       "version_minor": 0
      },
      "text/plain": [
       "HBox(children=(FloatProgress(value=0.0, description='Training', layout=Layout(flex='2'), max=1125.0, style=Pro…"
      ]
     },
     "metadata": {},
     "output_type": "display_data"
    },
    {
     "name": "stdout",
     "output_type": "stream",
     "text": [
      "Epoch 19: train=2.44082, val=2.3758, took 39.013 s\n",
      "  Validation Found 8055 of 10819, added 1225 (eff 74.45%) (0.612 FP/event)\n"
     ]
    },
    {
     "data": {
      "application/vnd.jupyter.widget-view+json": {
       "model_id": "",
       "version_major": 2,
       "version_minor": 0
      },
      "text/plain": [
       "HBox(children=(FloatProgress(value=0.0, description='Training', layout=Layout(flex='2'), max=1125.0, style=Pro…"
      ]
     },
     "metadata": {},
     "output_type": "display_data"
    },
    {
     "name": "stdout",
     "output_type": "stream",
     "text": [
      "Epoch 20: train=2.43916, val=2.37556, took 39.066 s\n",
      "  Validation Found 8054 of 10819, added 1229 (eff 74.44%) (0.614 FP/event)\n"
     ]
    },
    {
     "data": {
      "application/vnd.jupyter.widget-view+json": {
       "model_id": "",
       "version_major": 2,
       "version_minor": 0
      },
      "text/plain": [
       "HBox(children=(FloatProgress(value=0.0, description='Training', layout=Layout(flex='2'), max=1125.0, style=Pro…"
      ]
     },
     "metadata": {},
     "output_type": "display_data"
    },
    {
     "name": "stdout",
     "output_type": "stream",
     "text": [
      "Epoch 21: train=2.44142, val=2.37309, took 38.96 s\n",
      "  Validation Found 8057 of 10819, added 1239 (eff 74.47%) (0.619 FP/event)\n"
     ]
    },
    {
     "data": {
      "application/vnd.jupyter.widget-view+json": {
       "model_id": "",
       "version_major": 2,
       "version_minor": 0
      },
      "text/plain": [
       "HBox(children=(FloatProgress(value=0.0, description='Training', layout=Layout(flex='2'), max=1125.0, style=Pro…"
      ]
     },
     "metadata": {},
     "output_type": "display_data"
    },
    {
     "name": "stdout",
     "output_type": "stream",
     "text": [
      "Epoch 22: train=2.43897, val=2.37168, took 39.114 s\n",
      "  Validation Found 8062 of 10819, added 1233 (eff 74.52%) (0.616 FP/event)\n"
     ]
    },
    {
     "data": {
      "application/vnd.jupyter.widget-view+json": {
       "model_id": "",
       "version_major": 2,
       "version_minor": 0
      },
      "text/plain": [
       "HBox(children=(FloatProgress(value=0.0, description='Training', layout=Layout(flex='2'), max=1125.0, style=Pro…"
      ]
     },
     "metadata": {},
     "output_type": "display_data"
    },
    {
     "name": "stdout",
     "output_type": "stream",
     "text": [
      "Epoch 23: train=2.43953, val=2.37119, took 38.946 s\n",
      "  Validation Found 8065 of 10819, added 1234 (eff 74.54%) (0.617 FP/event)\n"
     ]
    },
    {
     "data": {
      "application/vnd.jupyter.widget-view+json": {
       "model_id": "",
       "version_major": 2,
       "version_minor": 0
      },
      "text/plain": [
       "HBox(children=(FloatProgress(value=0.0, description='Training', layout=Layout(flex='2'), max=1125.0, style=Pro…"
      ]
     },
     "metadata": {},
     "output_type": "display_data"
    },
    {
     "name": "stdout",
     "output_type": "stream",
     "text": [
      "Epoch 24: train=2.43941, val=2.3694, took 39.028 s\n",
      "  Validation Found 8063 of 10819, added 1237 (eff 74.53%) (0.618 FP/event)\n"
     ]
    },
    {
     "data": {
      "application/vnd.jupyter.widget-view+json": {
       "model_id": "",
       "version_major": 2,
       "version_minor": 0
      },
      "text/plain": [
       "HBox(children=(FloatProgress(value=0.0, description='Training', layout=Layout(flex='2'), max=1125.0, style=Pro…"
      ]
     },
     "metadata": {},
     "output_type": "display_data"
    },
    {
     "name": "stdout",
     "output_type": "stream",
     "text": [
      "Epoch 25: train=2.43646, val=2.37356, took 38.875 s\n",
      "  Validation Found 8079 of 10819, added 1224 (eff 74.67%) (0.612 FP/event)\n"
     ]
    },
    {
     "data": {
      "application/vnd.jupyter.widget-view+json": {
       "model_id": "",
       "version_major": 2,
       "version_minor": 0
      },
      "text/plain": [
       "HBox(children=(FloatProgress(value=0.0, description='Training', layout=Layout(flex='2'), max=1125.0, style=Pro…"
      ]
     },
     "metadata": {},
     "output_type": "display_data"
    },
    {
     "name": "stdout",
     "output_type": "stream",
     "text": [
      "Epoch 26: train=2.44085, val=2.36826, took 38.908 s\n",
      "  Validation Found 8064 of 10819, added 1238 (eff 74.54%) (0.619 FP/event)\n"
     ]
    },
    {
     "data": {
      "application/vnd.jupyter.widget-view+json": {
       "model_id": "",
       "version_major": 2,
       "version_minor": 0
      },
      "text/plain": [
       "HBox(children=(FloatProgress(value=0.0, description='Training', layout=Layout(flex='2'), max=1125.0, style=Pro…"
      ]
     },
     "metadata": {},
     "output_type": "display_data"
    },
    {
     "name": "stdout",
     "output_type": "stream",
     "text": [
      "Epoch 27: train=2.43685, val=2.37036, took 39.104 s\n",
      "  Validation Found 8084 of 10819, added 1218 (eff 74.72%) (0.609 FP/event)\n"
     ]
    },
    {
     "data": {
      "application/vnd.jupyter.widget-view+json": {
       "model_id": "",
       "version_major": 2,
       "version_minor": 0
      },
      "text/plain": [
       "HBox(children=(FloatProgress(value=0.0, description='Training', layout=Layout(flex='2'), max=1125.0, style=Pro…"
      ]
     },
     "metadata": {},
     "output_type": "display_data"
    },
    {
     "name": "stdout",
     "output_type": "stream",
     "text": [
      "Epoch 28: train=2.43604, val=2.36677, took 39.078 s\n",
      "  Validation Found 8077 of 10819, added 1235 (eff 74.66%) (0.617 FP/event)\n"
     ]
    },
    {
     "data": {
      "application/vnd.jupyter.widget-view+json": {
       "model_id": "",
       "version_major": 2,
       "version_minor": 0
      },
      "text/plain": [
       "HBox(children=(FloatProgress(value=0.0, description='Training', layout=Layout(flex='2'), max=1125.0, style=Pro…"
      ]
     },
     "metadata": {},
     "output_type": "display_data"
    },
    {
     "name": "stdout",
     "output_type": "stream",
     "text": [
      "Epoch 29: train=2.43118, val=2.36464, took 39.134 s\n",
      "  Validation Found 8083 of 10819, added 1240 (eff 74.71%) (0.62 FP/event)\n"
     ]
    },
    {
     "data": {
      "application/vnd.jupyter.widget-view+json": {
       "model_id": "",
       "version_major": 2,
       "version_minor": 0
      },
      "text/plain": [
       "HBox(children=(FloatProgress(value=0.0, description='Training', layout=Layout(flex='2'), max=1125.0, style=Pro…"
      ]
     },
     "metadata": {},
     "output_type": "display_data"
    },
    {
     "name": "stdout",
     "output_type": "stream",
     "text": [
      "Epoch 30: train=2.44068, val=2.364, took 38.943 s\n",
      "  Validation Found 8076 of 10819, added 1242 (eff 74.65%) (0.621 FP/event)\n"
     ]
    },
    {
     "data": {
      "application/vnd.jupyter.widget-view+json": {
       "model_id": "",
       "version_major": 2,
       "version_minor": 0
      },
      "text/plain": [
       "HBox(children=(FloatProgress(value=0.0, description='Training', layout=Layout(flex='2'), max=1125.0, style=Pro…"
      ]
     },
     "metadata": {},
     "output_type": "display_data"
    },
    {
     "name": "stdout",
     "output_type": "stream",
     "text": [
      "Epoch 31: train=2.43499, val=2.3631, took 38.884 s\n",
      "  Validation Found 8080 of 10819, added 1248 (eff 74.68%) (0.624 FP/event)\n"
     ]
    },
    {
     "data": {
      "application/vnd.jupyter.widget-view+json": {
       "model_id": "",
       "version_major": 2,
       "version_minor": 0
      },
      "text/plain": [
       "HBox(children=(FloatProgress(value=0.0, description='Training', layout=Layout(flex='2'), max=1125.0, style=Pro…"
      ]
     },
     "metadata": {},
     "output_type": "display_data"
    },
    {
     "name": "stdout",
     "output_type": "stream",
     "text": [
      "Epoch 32: train=2.4284, val=2.36686, took 38.808 s\n",
      "  Validation Found 8092 of 10819, added 1230 (eff 74.79%) (0.615 FP/event)\n"
     ]
    },
    {
     "data": {
      "application/vnd.jupyter.widget-view+json": {
       "model_id": "",
       "version_major": 2,
       "version_minor": 0
      },
      "text/plain": [
       "HBox(children=(FloatProgress(value=0.0, description='Training', layout=Layout(flex='2'), max=1125.0, style=Pro…"
      ]
     },
     "metadata": {},
     "output_type": "display_data"
    },
    {
     "name": "stdout",
     "output_type": "stream",
     "text": [
      "Epoch 33: train=2.4322, val=2.36239, took 38.992 s\n",
      "  Validation Found 8087 of 10819, added 1241 (eff 74.75%) (0.62 FP/event)\n"
     ]
    },
    {
     "data": {
      "application/vnd.jupyter.widget-view+json": {
       "model_id": "",
       "version_major": 2,
       "version_minor": 0
      },
      "text/plain": [
       "HBox(children=(FloatProgress(value=0.0, description='Training', layout=Layout(flex='2'), max=1125.0, style=Pro…"
      ]
     },
     "metadata": {},
     "output_type": "display_data"
    },
    {
     "name": "stdout",
     "output_type": "stream",
     "text": [
      "Epoch 34: train=2.4293, val=2.3611, took 38.891 s\n",
      "  Validation Found 8088 of 10819, added 1241 (eff 74.76%) (0.62 FP/event)\n"
     ]
    },
    {
     "data": {
      "application/vnd.jupyter.widget-view+json": {
       "model_id": "",
       "version_major": 2,
       "version_minor": 0
      },
      "text/plain": [
       "HBox(children=(FloatProgress(value=0.0, description='Training', layout=Layout(flex='2'), max=1125.0, style=Pro…"
      ]
     },
     "metadata": {},
     "output_type": "display_data"
    },
    {
     "name": "stdout",
     "output_type": "stream",
     "text": [
      "Epoch 35: train=2.43049, val=2.36088, took 39.028 s\n",
      "  Validation Found 8098 of 10819, added 1240 (eff 74.85%) (0.62 FP/event)\n"
     ]
    },
    {
     "data": {
      "application/vnd.jupyter.widget-view+json": {
       "model_id": "",
       "version_major": 2,
       "version_minor": 0
      },
      "text/plain": [
       "HBox(children=(FloatProgress(value=0.0, description='Training', layout=Layout(flex='2'), max=1125.0, style=Pro…"
      ]
     },
     "metadata": {},
     "output_type": "display_data"
    },
    {
     "name": "stdout",
     "output_type": "stream",
     "text": [
      "Epoch 36: train=2.42582, val=2.36052, took 39.143 s\n",
      "  Validation Found 8097 of 10819, added 1238 (eff 74.84%) (0.619 FP/event)\n"
     ]
    },
    {
     "data": {
      "application/vnd.jupyter.widget-view+json": {
       "model_id": "",
       "version_major": 2,
       "version_minor": 0
      },
      "text/plain": [
       "HBox(children=(FloatProgress(value=0.0, description='Training', layout=Layout(flex='2'), max=1125.0, style=Pro…"
      ]
     },
     "metadata": {},
     "output_type": "display_data"
    },
    {
     "name": "stdout",
     "output_type": "stream",
     "text": [
      "Epoch 37: train=2.42744, val=2.35738, took 38.856 s\n",
      "  Validation Found 8095 of 10819, added 1248 (eff 74.82%) (0.624 FP/event)\n"
     ]
    },
    {
     "data": {
      "application/vnd.jupyter.widget-view+json": {
       "model_id": "",
       "version_major": 2,
       "version_minor": 0
      },
      "text/plain": [
       "HBox(children=(FloatProgress(value=0.0, description='Training', layout=Layout(flex='2'), max=1125.0, style=Pro…"
      ]
     },
     "metadata": {},
     "output_type": "display_data"
    },
    {
     "name": "stdout",
     "output_type": "stream",
     "text": [
      "Epoch 38: train=2.42779, val=2.35762, took 39.046 s\n",
      "  Validation Found 8085 of 10819, added 1262 (eff 74.73%) (0.631 FP/event)\n"
     ]
    },
    {
     "data": {
      "application/vnd.jupyter.widget-view+json": {
       "model_id": "",
       "version_major": 2,
       "version_minor": 0
      },
      "text/plain": [
       "HBox(children=(FloatProgress(value=0.0, description='Training', layout=Layout(flex='2'), max=1125.0, style=Pro…"
      ]
     },
     "metadata": {},
     "output_type": "display_data"
    },
    {
     "name": "stdout",
     "output_type": "stream",
     "text": [
      "Epoch 39: train=2.42501, val=2.35696, took 39.014 s\n",
      "  Validation Found 8091 of 10819, added 1250 (eff 74.79%) (0.625 FP/event)\n"
     ]
    },
    {
     "data": {
      "application/vnd.jupyter.widget-view+json": {
       "model_id": "",
       "version_major": 2,
       "version_minor": 0
      },
      "text/plain": [
       "HBox(children=(FloatProgress(value=0.0, description='Training', layout=Layout(flex='2'), max=1125.0, style=Pro…"
      ]
     },
     "metadata": {},
     "output_type": "display_data"
    },
    {
     "name": "stdout",
     "output_type": "stream",
     "text": [
      "Epoch 40: train=2.42576, val=2.35634, took 39.144 s\n",
      "  Validation Found 8094 of 10819, added 1253 (eff 74.81%) (0.626 FP/event)\n"
     ]
    },
    {
     "data": {
      "application/vnd.jupyter.widget-view+json": {
       "model_id": "",
       "version_major": 2,
       "version_minor": 0
      },
      "text/plain": [
       "HBox(children=(FloatProgress(value=0.0, description='Training', layout=Layout(flex='2'), max=1125.0, style=Pro…"
      ]
     },
     "metadata": {},
     "output_type": "display_data"
    },
    {
     "name": "stdout",
     "output_type": "stream",
     "text": [
      "Epoch 41: train=2.42566, val=2.35644, took 39.078 s\n",
      "  Validation Found 8097 of 10819, added 1247 (eff 74.84%) (0.623 FP/event)\n"
     ]
    },
    {
     "data": {
      "application/vnd.jupyter.widget-view+json": {
       "model_id": "",
       "version_major": 2,
       "version_minor": 0
      },
      "text/plain": [
       "HBox(children=(FloatProgress(value=0.0, description='Training', layout=Layout(flex='2'), max=1125.0, style=Pro…"
      ]
     },
     "metadata": {},
     "output_type": "display_data"
    },
    {
     "name": "stdout",
     "output_type": "stream",
     "text": [
      "Epoch 42: train=2.42877, val=2.35695, took 39.006 s\n",
      "  Validation Found 8105 of 10819, added 1244 (eff 74.91%) (0.622 FP/event)\n"
     ]
    },
    {
     "data": {
      "application/vnd.jupyter.widget-view+json": {
       "model_id": "",
       "version_major": 2,
       "version_minor": 0
      },
      "text/plain": [
       "HBox(children=(FloatProgress(value=0.0, description='Training', layout=Layout(flex='2'), max=1125.0, style=Pro…"
      ]
     },
     "metadata": {},
     "output_type": "display_data"
    },
    {
     "name": "stdout",
     "output_type": "stream",
     "text": [
      "Epoch 43: train=2.42387, val=2.35449, took 38.912 s\n",
      "  Validation Found 8096 of 10819, added 1257 (eff 74.83%) (0.628 FP/event)\n"
     ]
    },
    {
     "data": {
      "application/vnd.jupyter.widget-view+json": {
       "model_id": "",
       "version_major": 2,
       "version_minor": 0
      },
      "text/plain": [
       "HBox(children=(FloatProgress(value=0.0, description='Training', layout=Layout(flex='2'), max=1125.0, style=Pro…"
      ]
     },
     "metadata": {},
     "output_type": "display_data"
    },
    {
     "name": "stdout",
     "output_type": "stream",
     "text": [
      "Epoch 44: train=2.42516, val=2.35439, took 39.105 s\n",
      "  Validation Found 8103 of 10819, added 1250 (eff 74.90%) (0.625 FP/event)\n"
     ]
    },
    {
     "data": {
      "application/vnd.jupyter.widget-view+json": {
       "model_id": "",
       "version_major": 2,
       "version_minor": 0
      },
      "text/plain": [
       "HBox(children=(FloatProgress(value=0.0, description='Training', layout=Layout(flex='2'), max=1125.0, style=Pro…"
      ]
     },
     "metadata": {},
     "output_type": "display_data"
    },
    {
     "name": "stdout",
     "output_type": "stream",
     "text": [
      "Epoch 45: train=2.43109, val=2.35231, took 38.964 s\n",
      "  Validation Found 8106 of 10819, added 1250 (eff 74.92%) (0.625 FP/event)\n"
     ]
    },
    {
     "data": {
      "application/vnd.jupyter.widget-view+json": {
       "model_id": "",
       "version_major": 2,
       "version_minor": 0
      },
      "text/plain": [
       "HBox(children=(FloatProgress(value=0.0, description='Training', layout=Layout(flex='2'), max=1125.0, style=Pro…"
      ]
     },
     "metadata": {},
     "output_type": "display_data"
    },
    {
     "name": "stdout",
     "output_type": "stream",
     "text": [
      "Epoch 46: train=2.42362, val=2.35278, took 39.079 s\n",
      "  Validation Found 8111 of 10819, added 1254 (eff 74.97%) (0.627 FP/event)\n"
     ]
    },
    {
     "data": {
      "application/vnd.jupyter.widget-view+json": {
       "model_id": "",
       "version_major": 2,
       "version_minor": 0
      },
      "text/plain": [
       "HBox(children=(FloatProgress(value=0.0, description='Training', layout=Layout(flex='2'), max=1125.0, style=Pro…"
      ]
     },
     "metadata": {},
     "output_type": "display_data"
    },
    {
     "name": "stdout",
     "output_type": "stream",
     "text": [
      "Epoch 47: train=2.42523, val=2.3514, took 38.878 s\n",
      "  Validation Found 8106 of 10819, added 1256 (eff 74.92%) (0.628 FP/event)\n"
     ]
    },
    {
     "data": {
      "application/vnd.jupyter.widget-view+json": {
       "model_id": "",
       "version_major": 2,
       "version_minor": 0
      },
      "text/plain": [
       "HBox(children=(FloatProgress(value=0.0, description='Training', layout=Layout(flex='2'), max=1125.0, style=Pro…"
      ]
     },
     "metadata": {},
     "output_type": "display_data"
    },
    {
     "name": "stdout",
     "output_type": "stream",
     "text": [
      "Epoch 48: train=2.42389, val=2.35123, took 39.022 s\n",
      "  Validation Found 8105 of 10819, added 1259 (eff 74.91%) (0.629 FP/event)\n"
     ]
    },
    {
     "data": {
      "application/vnd.jupyter.widget-view+json": {
       "model_id": "",
       "version_major": 2,
       "version_minor": 0
      },
      "text/plain": [
       "HBox(children=(FloatProgress(value=0.0, description='Training', layout=Layout(flex='2'), max=1125.0, style=Pro…"
      ]
     },
     "metadata": {},
     "output_type": "display_data"
    },
    {
     "name": "stdout",
     "output_type": "stream",
     "text": [
      "Epoch 49: train=2.41998, val=2.351, took 38.873 s\n",
      "  Validation Found 8097 of 10819, added 1262 (eff 74.84%) (0.631 FP/event)\n"
     ]
    },
    {
     "data": {
      "application/vnd.jupyter.widget-view+json": {
       "model_id": "",
       "version_major": 2,
       "version_minor": 0
      },
      "text/plain": [
       "HBox(children=(FloatProgress(value=0.0, description='Training', layout=Layout(flex='2'), max=1125.0, style=Pro…"
      ]
     },
     "metadata": {},
     "output_type": "display_data"
    },
    {
     "name": "stdout",
     "output_type": "stream",
     "text": [
      "Epoch 50: train=2.41919, val=2.34982, took 38.945 s\n",
      "  Validation Found 8111 of 10819, added 1257 (eff 74.97%) (0.628 FP/event)\n"
     ]
    },
    {
     "data": {
      "application/vnd.jupyter.widget-view+json": {
       "model_id": "",
       "version_major": 2,
       "version_minor": 0
      },
      "text/plain": [
       "HBox(children=(FloatProgress(value=0.0, description='Training', layout=Layout(flex='2'), max=1125.0, style=Pro…"
      ]
     },
     "metadata": {},
     "output_type": "display_data"
    },
    {
     "name": "stdout",
     "output_type": "stream",
     "text": [
      "Epoch 51: train=2.42201, val=2.35246, took 38.832 s\n",
      "  Validation Found 8112 of 10819, added 1265 (eff 74.98%) (0.632 FP/event)\n"
     ]
    },
    {
     "data": {
      "application/vnd.jupyter.widget-view+json": {
       "model_id": "",
       "version_major": 2,
       "version_minor": 0
      },
      "text/plain": [
       "HBox(children=(FloatProgress(value=0.0, description='Training', layout=Layout(flex='2'), max=1125.0, style=Pro…"
      ]
     },
     "metadata": {},
     "output_type": "display_data"
    },
    {
     "name": "stdout",
     "output_type": "stream",
     "text": [
      "Epoch 52: train=2.41693, val=2.35013, took 38.866 s\n",
      "  Validation Found 8106 of 10819, added 1258 (eff 74.92%) (0.629 FP/event)\n"
     ]
    },
    {
     "data": {
      "application/vnd.jupyter.widget-view+json": {
       "model_id": "",
       "version_major": 2,
       "version_minor": 0
      },
      "text/plain": [
       "HBox(children=(FloatProgress(value=0.0, description='Training', layout=Layout(flex='2'), max=1125.0, style=Pro…"
      ]
     },
     "metadata": {},
     "output_type": "display_data"
    },
    {
     "name": "stdout",
     "output_type": "stream",
     "text": [
      "Epoch 53: train=2.42626, val=2.34883, took 38.854 s\n",
      "  Validation Found 8112 of 10819, added 1260 (eff 74.98%) (0.63 FP/event)\n"
     ]
    },
    {
     "data": {
      "application/vnd.jupyter.widget-view+json": {
       "model_id": "",
       "version_major": 2,
       "version_minor": 0
      },
      "text/plain": [
       "HBox(children=(FloatProgress(value=0.0, description='Training', layout=Layout(flex='2'), max=1125.0, style=Pro…"
      ]
     },
     "metadata": {},
     "output_type": "display_data"
    },
    {
     "name": "stdout",
     "output_type": "stream",
     "text": [
      "Epoch 54: train=2.42241, val=2.34777, took 38.864 s\n",
      "  Validation Found 8115 of 10819, added 1262 (eff 75.01%) (0.631 FP/event)\n"
     ]
    },
    {
     "data": {
      "application/vnd.jupyter.widget-view+json": {
       "model_id": "",
       "version_major": 2,
       "version_minor": 0
      },
      "text/plain": [
       "HBox(children=(FloatProgress(value=0.0, description='Training', layout=Layout(flex='2'), max=1125.0, style=Pro…"
      ]
     },
     "metadata": {},
     "output_type": "display_data"
    },
    {
     "name": "stdout",
     "output_type": "stream",
     "text": [
      "Epoch 55: train=2.42046, val=2.34787, took 39.032 s\n",
      "  Validation Found 8117 of 10819, added 1254 (eff 75.03%) (0.627 FP/event)\n"
     ]
    },
    {
     "data": {
      "application/vnd.jupyter.widget-view+json": {
       "model_id": "",
       "version_major": 2,
       "version_minor": 0
      },
      "text/plain": [
       "HBox(children=(FloatProgress(value=0.0, description='Training', layout=Layout(flex='2'), max=1125.0, style=Pro…"
      ]
     },
     "metadata": {},
     "output_type": "display_data"
    },
    {
     "name": "stdout",
     "output_type": "stream",
     "text": [
      "Epoch 56: train=2.41974, val=2.34777, took 38.917 s\n",
      "  Validation Found 8115 of 10819, added 1267 (eff 75.01%) (0.633 FP/event)\n"
     ]
    },
    {
     "data": {
      "application/vnd.jupyter.widget-view+json": {
       "model_id": "",
       "version_major": 2,
       "version_minor": 0
      },
      "text/plain": [
       "HBox(children=(FloatProgress(value=0.0, description='Training', layout=Layout(flex='2'), max=1125.0, style=Pro…"
      ]
     },
     "metadata": {},
     "output_type": "display_data"
    },
    {
     "name": "stdout",
     "output_type": "stream",
     "text": [
      "Epoch 57: train=2.42068, val=2.34704, took 38.856 s\n",
      "  Validation Found 8125 of 10819, added 1258 (eff 75.10%) (0.629 FP/event)\n"
     ]
    },
    {
     "data": {
      "application/vnd.jupyter.widget-view+json": {
       "model_id": "",
       "version_major": 2,
       "version_minor": 0
      },
      "text/plain": [
       "HBox(children=(FloatProgress(value=0.0, description='Training', layout=Layout(flex='2'), max=1125.0, style=Pro…"
      ]
     },
     "metadata": {},
     "output_type": "display_data"
    },
    {
     "name": "stdout",
     "output_type": "stream",
     "text": [
      "Epoch 58: train=2.41612, val=2.34776, took 38.848 s\n",
      "  Validation Found 8129 of 10819, added 1259 (eff 75.14%) (0.629 FP/event)\n"
     ]
    },
    {
     "data": {
      "application/vnd.jupyter.widget-view+json": {
       "model_id": "",
       "version_major": 2,
       "version_minor": 0
      },
      "text/plain": [
       "HBox(children=(FloatProgress(value=0.0, description='Training', layout=Layout(flex='2'), max=1125.0, style=Pro…"
      ]
     },
     "metadata": {},
     "output_type": "display_data"
    },
    {
     "name": "stdout",
     "output_type": "stream",
     "text": [
      "Epoch 59: train=2.42037, val=2.34656, took 39.069 s\n",
      "  Validation Found 8125 of 10819, added 1260 (eff 75.10%) (0.63 FP/event)\n"
     ]
    },
    {
     "data": {
      "application/vnd.jupyter.widget-view+json": {
       "model_id": "",
       "version_major": 2,
       "version_minor": 0
      },
      "text/plain": [
       "HBox(children=(FloatProgress(value=0.0, description='Training', layout=Layout(flex='2'), max=1125.0, style=Pro…"
      ]
     },
     "metadata": {},
     "output_type": "display_data"
    },
    {
     "name": "stdout",
     "output_type": "stream",
     "text": [
      "Epoch 60: train=2.42002, val=2.34732, took 38.864 s\n",
      "  Validation Found 8125 of 10819, added 1264 (eff 75.10%) (0.632 FP/event)\n"
     ]
    },
    {
     "data": {
      "application/vnd.jupyter.widget-view+json": {
       "model_id": "",
       "version_major": 2,
       "version_minor": 0
      },
      "text/plain": [
       "HBox(children=(FloatProgress(value=0.0, description='Training', layout=Layout(flex='2'), max=1125.0, style=Pro…"
      ]
     },
     "metadata": {},
     "output_type": "display_data"
    },
    {
     "name": "stdout",
     "output_type": "stream",
     "text": [
      "Epoch 61: train=2.41933, val=2.34542, took 39.042 s\n",
      "  Validation Found 8126 of 10819, added 1262 (eff 75.11%) (0.631 FP/event)\n"
     ]
    },
    {
     "data": {
      "application/vnd.jupyter.widget-view+json": {
       "model_id": "",
       "version_major": 2,
       "version_minor": 0
      },
      "text/plain": [
       "HBox(children=(FloatProgress(value=0.0, description='Training', layout=Layout(flex='2'), max=1125.0, style=Pro…"
      ]
     },
     "metadata": {},
     "output_type": "display_data"
    },
    {
     "name": "stdout",
     "output_type": "stream",
     "text": [
      "Epoch 62: train=2.41916, val=2.34462, took 38.95 s\n",
      "  Validation Found 8124 of 10819, added 1269 (eff 75.09%) (0.634 FP/event)\n"
     ]
    },
    {
     "data": {
      "application/vnd.jupyter.widget-view+json": {
       "model_id": "",
       "version_major": 2,
       "version_minor": 0
      },
      "text/plain": [
       "HBox(children=(FloatProgress(value=0.0, description='Training', layout=Layout(flex='2'), max=1125.0, style=Pro…"
      ]
     },
     "metadata": {},
     "output_type": "display_data"
    },
    {
     "name": "stdout",
     "output_type": "stream",
     "text": [
      "Epoch 63: train=2.41444, val=2.34766, took 38.945 s\n",
      "  Validation Found 8138 of 10819, added 1262 (eff 75.22%) (0.631 FP/event)\n"
     ]
    },
    {
     "data": {
      "application/vnd.jupyter.widget-view+json": {
       "model_id": "",
       "version_major": 2,
       "version_minor": 0
      },
      "text/plain": [
       "HBox(children=(FloatProgress(value=0.0, description='Training', layout=Layout(flex='2'), max=1125.0, style=Pro…"
      ]
     },
     "metadata": {},
     "output_type": "display_data"
    },
    {
     "name": "stdout",
     "output_type": "stream",
     "text": [
      "Epoch 64: train=2.41381, val=2.34449, took 39.034 s\n",
      "  Validation Found 8133 of 10819, added 1262 (eff 75.17%) (0.631 FP/event)\n"
     ]
    },
    {
     "data": {
      "application/vnd.jupyter.widget-view+json": {
       "model_id": "",
       "version_major": 2,
       "version_minor": 0
      },
      "text/plain": [
       "HBox(children=(FloatProgress(value=0.0, description='Training', layout=Layout(flex='2'), max=1125.0, style=Pro…"
      ]
     },
     "metadata": {},
     "output_type": "display_data"
    },
    {
     "name": "stdout",
     "output_type": "stream",
     "text": [
      "Epoch 65: train=2.41735, val=2.34409, took 38.842 s\n",
      "  Validation Found 8126 of 10819, added 1280 (eff 75.11%) (0.64 FP/event)\n"
     ]
    },
    {
     "data": {
      "application/vnd.jupyter.widget-view+json": {
       "model_id": "",
       "version_major": 2,
       "version_minor": 0
      },
      "text/plain": [
       "HBox(children=(FloatProgress(value=0.0, description='Training', layout=Layout(flex='2'), max=1125.0, style=Pro…"
      ]
     },
     "metadata": {},
     "output_type": "display_data"
    },
    {
     "name": "stdout",
     "output_type": "stream",
     "text": [
      "Epoch 66: train=2.41715, val=2.34358, took 38.918 s\n",
      "  Validation Found 8133 of 10819, added 1273 (eff 75.17%) (0.636 FP/event)\n"
     ]
    },
    {
     "data": {
      "application/vnd.jupyter.widget-view+json": {
       "model_id": "",
       "version_major": 2,
       "version_minor": 0
      },
      "text/plain": [
       "HBox(children=(FloatProgress(value=0.0, description='Training', layout=Layout(flex='2'), max=1125.0, style=Pro…"
      ]
     },
     "metadata": {},
     "output_type": "display_data"
    },
    {
     "name": "stdout",
     "output_type": "stream",
     "text": [
      "Epoch 67: train=2.4136, val=2.34435, took 39.006 s\n",
      "  Validation Found 8141 of 10819, added 1271 (eff 75.25%) (0.635 FP/event)\n"
     ]
    },
    {
     "data": {
      "application/vnd.jupyter.widget-view+json": {
       "model_id": "",
       "version_major": 2,
       "version_minor": 0
      },
      "text/plain": [
       "HBox(children=(FloatProgress(value=0.0, description='Training', layout=Layout(flex='2'), max=1125.0, style=Pro…"
      ]
     },
     "metadata": {},
     "output_type": "display_data"
    },
    {
     "name": "stdout",
     "output_type": "stream",
     "text": [
      "Epoch 68: train=2.41467, val=2.34243, took 38.82 s\n",
      "  Validation Found 8137 of 10819, added 1275 (eff 75.21%) (0.637 FP/event)\n"
     ]
    },
    {
     "data": {
      "application/vnd.jupyter.widget-view+json": {
       "model_id": "",
       "version_major": 2,
       "version_minor": 0
      },
      "text/plain": [
       "HBox(children=(FloatProgress(value=0.0, description='Training', layout=Layout(flex='2'), max=1125.0, style=Pro…"
      ]
     },
     "metadata": {},
     "output_type": "display_data"
    },
    {
     "name": "stdout",
     "output_type": "stream",
     "text": [
      "Epoch 69: train=2.41269, val=2.34275, took 38.923 s\n",
      "  Validation Found 8133 of 10819, added 1275 (eff 75.17%) (0.637 FP/event)\n"
     ]
    },
    {
     "data": {
      "application/vnd.jupyter.widget-view+json": {
       "model_id": "",
       "version_major": 2,
       "version_minor": 0
      },
      "text/plain": [
       "HBox(children=(FloatProgress(value=0.0, description='Training', layout=Layout(flex='2'), max=1125.0, style=Pro…"
      ]
     },
     "metadata": {},
     "output_type": "display_data"
    },
    {
     "name": "stdout",
     "output_type": "stream",
     "text": [
      "Epoch 70: train=2.41134, val=2.34251, took 38.949 s\n",
      "  Validation Found 8143 of 10819, added 1270 (eff 75.27%) (0.635 FP/event)\n"
     ]
    },
    {
     "data": {
      "application/vnd.jupyter.widget-view+json": {
       "model_id": "",
       "version_major": 2,
       "version_minor": 0
      },
      "text/plain": [
       "HBox(children=(FloatProgress(value=0.0, description='Training', layout=Layout(flex='2'), max=1125.0, style=Pro…"
      ]
     },
     "metadata": {},
     "output_type": "display_data"
    },
    {
     "name": "stdout",
     "output_type": "stream",
     "text": [
      "Epoch 71: train=2.41163, val=2.34158, took 38.821 s\n",
      "  Validation Found 8124 of 10819, added 1277 (eff 75.09%) (0.638 FP/event)\n"
     ]
    },
    {
     "data": {
      "application/vnd.jupyter.widget-view+json": {
       "model_id": "",
       "version_major": 2,
       "version_minor": 0
      },
      "text/plain": [
       "HBox(children=(FloatProgress(value=0.0, description='Training', layout=Layout(flex='2'), max=1125.0, style=Pro…"
      ]
     },
     "metadata": {},
     "output_type": "display_data"
    },
    {
     "name": "stdout",
     "output_type": "stream",
     "text": [
      "Epoch 72: train=2.41748, val=2.34417, took 38.985 s\n",
      "  Validation Found 8138 of 10819, added 1277 (eff 75.22%) (0.638 FP/event)\n"
     ]
    },
    {
     "data": {
      "application/vnd.jupyter.widget-view+json": {
       "model_id": "",
       "version_major": 2,
       "version_minor": 0
      },
      "text/plain": [
       "HBox(children=(FloatProgress(value=0.0, description='Training', layout=Layout(flex='2'), max=1125.0, style=Pro…"
      ]
     },
     "metadata": {},
     "output_type": "display_data"
    },
    {
     "name": "stdout",
     "output_type": "stream",
     "text": [
      "Epoch 73: train=2.41113, val=2.34137, took 38.88 s\n",
      "  Validation Found 8139 of 10819, added 1275 (eff 75.23%) (0.637 FP/event)\n"
     ]
    },
    {
     "data": {
      "application/vnd.jupyter.widget-view+json": {
       "model_id": "",
       "version_major": 2,
       "version_minor": 0
      },
      "text/plain": [
       "HBox(children=(FloatProgress(value=0.0, description='Training', layout=Layout(flex='2'), max=1125.0, style=Pro…"
      ]
     },
     "metadata": {},
     "output_type": "display_data"
    },
    {
     "name": "stdout",
     "output_type": "stream",
     "text": [
      "Epoch 74: train=2.41089, val=2.34006, took 38.935 s\n",
      "  Validation Found 8133 of 10819, added 1283 (eff 75.17%) (0.641 FP/event)\n"
     ]
    },
    {
     "data": {
      "application/vnd.jupyter.widget-view+json": {
       "model_id": "",
       "version_major": 2,
       "version_minor": 0
      },
      "text/plain": [
       "HBox(children=(FloatProgress(value=0.0, description='Training', layout=Layout(flex='2'), max=1125.0, style=Pro…"
      ]
     },
     "metadata": {},
     "output_type": "display_data"
    },
    {
     "name": "stdout",
     "output_type": "stream",
     "text": [
      "Epoch 75: train=2.4136, val=2.34017, took 39.045 s\n",
      "  Validation Found 8137 of 10819, added 1282 (eff 75.21%) (0.641 FP/event)\n"
     ]
    },
    {
     "data": {
      "application/vnd.jupyter.widget-view+json": {
       "model_id": "",
       "version_major": 2,
       "version_minor": 0
      },
      "text/plain": [
       "HBox(children=(FloatProgress(value=0.0, description='Training', layout=Layout(flex='2'), max=1125.0, style=Pro…"
      ]
     },
     "metadata": {},
     "output_type": "display_data"
    },
    {
     "name": "stdout",
     "output_type": "stream",
     "text": [
      "Epoch 76: train=2.41298, val=2.33994, took 39.058 s\n",
      "  Validation Found 8137 of 10819, added 1281 (eff 75.21%) (0.64 FP/event)\n"
     ]
    },
    {
     "data": {
      "application/vnd.jupyter.widget-view+json": {
       "model_id": "",
       "version_major": 2,
       "version_minor": 0
      },
      "text/plain": [
       "HBox(children=(FloatProgress(value=0.0, description='Training', layout=Layout(flex='2'), max=1125.0, style=Pro…"
      ]
     },
     "metadata": {},
     "output_type": "display_data"
    },
    {
     "name": "stdout",
     "output_type": "stream",
     "text": [
      "Epoch 77: train=2.41162, val=2.33978, took 38.832 s\n",
      "  Validation Found 8140 of 10819, added 1289 (eff 75.24%) (0.644 FP/event)\n"
     ]
    },
    {
     "data": {
      "application/vnd.jupyter.widget-view+json": {
       "model_id": "",
       "version_major": 2,
       "version_minor": 0
      },
      "text/plain": [
       "HBox(children=(FloatProgress(value=0.0, description='Training', layout=Layout(flex='2'), max=1125.0, style=Pro…"
      ]
     },
     "metadata": {},
     "output_type": "display_data"
    },
    {
     "name": "stdout",
     "output_type": "stream",
     "text": [
      "Epoch 78: train=2.41135, val=2.34095, took 38.898 s\n",
      "  Validation Found 8128 of 10819, added 1288 (eff 75.13%) (0.644 FP/event)\n"
     ]
    },
    {
     "data": {
      "application/vnd.jupyter.widget-view+json": {
       "model_id": "",
       "version_major": 2,
       "version_minor": 0
      },
      "text/plain": [
       "HBox(children=(FloatProgress(value=0.0, description='Training', layout=Layout(flex='2'), max=1125.0, style=Pro…"
      ]
     },
     "metadata": {},
     "output_type": "display_data"
    },
    {
     "name": "stdout",
     "output_type": "stream",
     "text": [
      "Epoch 79: train=2.42022, val=2.33916, took 39.03 s\n",
      "  Validation Found 8133 of 10819, added 1280 (eff 75.17%) (0.64 FP/event)\n"
     ]
    },
    {
     "data": {
      "application/vnd.jupyter.widget-view+json": {
       "model_id": "",
       "version_major": 2,
       "version_minor": 0
      },
      "text/plain": [
       "HBox(children=(FloatProgress(value=0.0, description='Training', layout=Layout(flex='2'), max=1125.0, style=Pro…"
      ]
     },
     "metadata": {},
     "output_type": "display_data"
    },
    {
     "name": "stdout",
     "output_type": "stream",
     "text": [
      "Epoch 80: train=2.41611, val=2.34073, took 38.966 s\n",
      "  Validation Found 8162 of 10819, added 1268 (eff 75.44%) (0.634 FP/event)\n"
     ]
    },
    {
     "data": {
      "application/vnd.jupyter.widget-view+json": {
       "model_id": "",
       "version_major": 2,
       "version_minor": 0
      },
      "text/plain": [
       "HBox(children=(FloatProgress(value=0.0, description='Training', layout=Layout(flex='2'), max=1125.0, style=Pro…"
      ]
     },
     "metadata": {},
     "output_type": "display_data"
    },
    {
     "name": "stdout",
     "output_type": "stream",
     "text": [
      "Epoch 81: train=2.40859, val=2.33835, took 38.953 s\n",
      "  Validation Found 8148 of 10819, added 1276 (eff 75.31%) (0.638 FP/event)\n"
     ]
    },
    {
     "data": {
      "application/vnd.jupyter.widget-view+json": {
       "model_id": "",
       "version_major": 2,
       "version_minor": 0
      },
      "text/plain": [
       "HBox(children=(FloatProgress(value=0.0, description='Training', layout=Layout(flex='2'), max=1125.0, style=Pro…"
      ]
     },
     "metadata": {},
     "output_type": "display_data"
    },
    {
     "name": "stdout",
     "output_type": "stream",
     "text": [
      "Epoch 82: train=2.40661, val=2.33889, took 38.934 s\n",
      "  Validation Found 8140 of 10819, added 1285 (eff 75.24%) (0.642 FP/event)\n"
     ]
    },
    {
     "data": {
      "application/vnd.jupyter.widget-view+json": {
       "model_id": "",
       "version_major": 2,
       "version_minor": 0
      },
      "text/plain": [
       "HBox(children=(FloatProgress(value=0.0, description='Training', layout=Layout(flex='2'), max=1125.0, style=Pro…"
      ]
     },
     "metadata": {},
     "output_type": "display_data"
    },
    {
     "name": "stdout",
     "output_type": "stream",
     "text": [
      "Epoch 83: train=2.407, val=2.33942, took 39.029 s\n",
      "  Validation Found 8135 of 10819, added 1298 (eff 75.19%) (0.649 FP/event)\n"
     ]
    },
    {
     "data": {
      "application/vnd.jupyter.widget-view+json": {
       "model_id": "",
       "version_major": 2,
       "version_minor": 0
      },
      "text/plain": [
       "HBox(children=(FloatProgress(value=0.0, description='Training', layout=Layout(flex='2'), max=1125.0, style=Pro…"
      ]
     },
     "metadata": {},
     "output_type": "display_data"
    },
    {
     "name": "stdout",
     "output_type": "stream",
     "text": [
      "Epoch 84: train=2.40762, val=2.34293, took 38.971 s\n",
      "  Validation Found 8169 of 10819, added 1262 (eff 75.51%) (0.631 FP/event)\n"
     ]
    },
    {
     "data": {
      "application/vnd.jupyter.widget-view+json": {
       "model_id": "",
       "version_major": 2,
       "version_minor": 0
      },
      "text/plain": [
       "HBox(children=(FloatProgress(value=0.0, description='Training', layout=Layout(flex='2'), max=1125.0, style=Pro…"
      ]
     },
     "metadata": {},
     "output_type": "display_data"
    },
    {
     "name": "stdout",
     "output_type": "stream",
     "text": [
      "Epoch 85: train=2.40384, val=2.33697, took 39.079 s\n",
      "  Validation Found 8146 of 10819, added 1282 (eff 75.29%) (0.641 FP/event)\n"
     ]
    },
    {
     "data": {
      "application/vnd.jupyter.widget-view+json": {
       "model_id": "",
       "version_major": 2,
       "version_minor": 0
      },
      "text/plain": [
       "HBox(children=(FloatProgress(value=0.0, description='Training', layout=Layout(flex='2'), max=1125.0, style=Pro…"
      ]
     },
     "metadata": {},
     "output_type": "display_data"
    },
    {
     "name": "stdout",
     "output_type": "stream",
     "text": [
      "Epoch 86: train=2.41002, val=2.33701, took 38.875 s\n",
      "  Validation Found 8151 of 10819, added 1287 (eff 75.34%) (0.643 FP/event)\n"
     ]
    },
    {
     "data": {
      "application/vnd.jupyter.widget-view+json": {
       "model_id": "",
       "version_major": 2,
       "version_minor": 0
      },
      "text/plain": [
       "HBox(children=(FloatProgress(value=0.0, description='Training', layout=Layout(flex='2'), max=1125.0, style=Pro…"
      ]
     },
     "metadata": {},
     "output_type": "display_data"
    },
    {
     "name": "stdout",
     "output_type": "stream",
     "text": [
      "Epoch 87: train=2.40872, val=2.33632, took 38.885 s\n",
      "  Validation Found 8145 of 10819, added 1290 (eff 75.28%) (0.645 FP/event)\n"
     ]
    },
    {
     "data": {
      "application/vnd.jupyter.widget-view+json": {
       "model_id": "",
       "version_major": 2,
       "version_minor": 0
      },
      "text/plain": [
       "HBox(children=(FloatProgress(value=0.0, description='Training', layout=Layout(flex='2'), max=1125.0, style=Pro…"
      ]
     },
     "metadata": {},
     "output_type": "display_data"
    },
    {
     "name": "stdout",
     "output_type": "stream",
     "text": [
      "Epoch 88: train=2.40876, val=2.33589, took 39.013 s\n",
      "  Validation Found 8144 of 10819, added 1290 (eff 75.27%) (0.645 FP/event)\n"
     ]
    },
    {
     "data": {
      "application/vnd.jupyter.widget-view+json": {
       "model_id": "",
       "version_major": 2,
       "version_minor": 0
      },
      "text/plain": [
       "HBox(children=(FloatProgress(value=0.0, description='Training', layout=Layout(flex='2'), max=1125.0, style=Pro…"
      ]
     },
     "metadata": {},
     "output_type": "display_data"
    },
    {
     "name": "stdout",
     "output_type": "stream",
     "text": [
      "Epoch 89: train=2.40907, val=2.33623, took 38.929 s\n",
      "  Validation Found 8157 of 10819, added 1284 (eff 75.40%) (0.642 FP/event)\n"
     ]
    },
    {
     "data": {
      "application/vnd.jupyter.widget-view+json": {
       "model_id": "",
       "version_major": 2,
       "version_minor": 0
      },
      "text/plain": [
       "HBox(children=(FloatProgress(value=0.0, description='Training', layout=Layout(flex='2'), max=1125.0, style=Pro…"
      ]
     },
     "metadata": {},
     "output_type": "display_data"
    },
    {
     "name": "stdout",
     "output_type": "stream",
     "text": [
      "Epoch 90: train=2.40566, val=2.33552, took 38.979 s\n",
      "  Validation Found 8162 of 10819, added 1283 (eff 75.44%) (0.641 FP/event)\n"
     ]
    },
    {
     "data": {
      "application/vnd.jupyter.widget-view+json": {
       "model_id": "",
       "version_major": 2,
       "version_minor": 0
      },
      "text/plain": [
       "HBox(children=(FloatProgress(value=0.0, description='Training', layout=Layout(flex='2'), max=1125.0, style=Pro…"
      ]
     },
     "metadata": {},
     "output_type": "display_data"
    },
    {
     "name": "stdout",
     "output_type": "stream",
     "text": [
      "Epoch 91: train=2.40569, val=2.33532, took 38.856 s\n",
      "  Validation Found 8150 of 10819, added 1296 (eff 75.33%) (0.648 FP/event)\n"
     ]
    },
    {
     "data": {
      "application/vnd.jupyter.widget-view+json": {
       "model_id": "",
       "version_major": 2,
       "version_minor": 0
      },
      "text/plain": [
       "HBox(children=(FloatProgress(value=0.0, description='Training', layout=Layout(flex='2'), max=1125.0, style=Pro…"
      ]
     },
     "metadata": {},
     "output_type": "display_data"
    },
    {
     "name": "stdout",
     "output_type": "stream",
     "text": [
      "Epoch 92: train=2.40659, val=2.33695, took 39.012 s\n",
      "  Validation Found 8171 of 10819, added 1281 (eff 75.52%) (0.64 FP/event)\n"
     ]
    },
    {
     "data": {
      "application/vnd.jupyter.widget-view+json": {
       "model_id": "",
       "version_major": 2,
       "version_minor": 0
      },
      "text/plain": [
       "HBox(children=(FloatProgress(value=0.0, description='Training', layout=Layout(flex='2'), max=1125.0, style=Pro…"
      ]
     },
     "metadata": {},
     "output_type": "display_data"
    },
    {
     "name": "stdout",
     "output_type": "stream",
     "text": [
      "Epoch 93: train=2.40515, val=2.33481, took 38.954 s\n",
      "  Validation Found 8164 of 10819, added 1289 (eff 75.46%) (0.644 FP/event)\n"
     ]
    },
    {
     "data": {
      "application/vnd.jupyter.widget-view+json": {
       "model_id": "",
       "version_major": 2,
       "version_minor": 0
      },
      "text/plain": [
       "HBox(children=(FloatProgress(value=0.0, description='Training', layout=Layout(flex='2'), max=1125.0, style=Pro…"
      ]
     },
     "metadata": {},
     "output_type": "display_data"
    },
    {
     "name": "stdout",
     "output_type": "stream",
     "text": [
      "Epoch 94: train=2.40871, val=2.3344, took 38.856 s\n",
      "  Validation Found 8144 of 10819, added 1291 (eff 75.27%) (0.645 FP/event)\n"
     ]
    },
    {
     "data": {
      "application/vnd.jupyter.widget-view+json": {
       "model_id": "",
       "version_major": 2,
       "version_minor": 0
      },
      "text/plain": [
       "HBox(children=(FloatProgress(value=0.0, description='Training', layout=Layout(flex='2'), max=1125.0, style=Pro…"
      ]
     },
     "metadata": {},
     "output_type": "display_data"
    },
    {
     "name": "stdout",
     "output_type": "stream",
     "text": [
      "Epoch 95: train=2.40717, val=2.33609, took 38.958 s\n",
      "  Validation Found 8173 of 10819, added 1272 (eff 75.54%) (0.636 FP/event)\n"
     ]
    },
    {
     "data": {
      "application/vnd.jupyter.widget-view+json": {
       "model_id": "",
       "version_major": 2,
       "version_minor": 0
      },
      "text/plain": [
       "HBox(children=(FloatProgress(value=0.0, description='Training', layout=Layout(flex='2'), max=1125.0, style=Pro…"
      ]
     },
     "metadata": {},
     "output_type": "display_data"
    },
    {
     "name": "stdout",
     "output_type": "stream",
     "text": [
      "Epoch 96: train=2.40766, val=2.33397, took 38.983 s\n",
      "  Validation Found 8169 of 10819, added 1287 (eff 75.51%) (0.643 FP/event)\n"
     ]
    },
    {
     "data": {
      "application/vnd.jupyter.widget-view+json": {
       "model_id": "",
       "version_major": 2,
       "version_minor": 0
      },
      "text/plain": [
       "HBox(children=(FloatProgress(value=0.0, description='Training', layout=Layout(flex='2'), max=1125.0, style=Pro…"
      ]
     },
     "metadata": {},
     "output_type": "display_data"
    },
    {
     "name": "stdout",
     "output_type": "stream",
     "text": [
      "Epoch 97: train=2.41169, val=2.33348, took 38.875 s\n",
      "  Validation Found 8152 of 10819, added 1296 (eff 75.35%) (0.648 FP/event)\n"
     ]
    },
    {
     "data": {
      "application/vnd.jupyter.widget-view+json": {
       "model_id": "",
       "version_major": 2,
       "version_minor": 0
      },
      "text/plain": [
       "HBox(children=(FloatProgress(value=0.0, description='Training', layout=Layout(flex='2'), max=1125.0, style=Pro…"
      ]
     },
     "metadata": {},
     "output_type": "display_data"
    },
    {
     "name": "stdout",
     "output_type": "stream",
     "text": [
      "Epoch 98: train=2.40858, val=2.33352, took 38.923 s\n",
      "  Validation Found 8153 of 10819, added 1295 (eff 75.36%) (0.647 FP/event)\n"
     ]
    },
    {
     "data": {
      "application/vnd.jupyter.widget-view+json": {
       "model_id": "",
       "version_major": 2,
       "version_minor": 0
      },
      "text/plain": [
       "HBox(children=(FloatProgress(value=0.0, description='Training', layout=Layout(flex='2'), max=1125.0, style=Pro…"
      ]
     },
     "metadata": {},
     "output_type": "display_data"
    },
    {
     "name": "stdout",
     "output_type": "stream",
     "text": [
      "Epoch 99: train=2.40268, val=2.33349, took 38.92 s\n",
      "  Validation Found 8154 of 10819, added 1297 (eff 75.37%) (0.648 FP/event)\n"
     ]
    },
    {
     "data": {
      "application/vnd.jupyter.widget-view+json": {
       "model_id": "",
       "version_major": 2,
       "version_minor": 0
      },
      "text/plain": [
       "HBox(children=(FloatProgress(value=0.0, description='Training', layout=Layout(flex='2'), max=1125.0, style=Pro…"
      ]
     },
     "metadata": {},
     "output_type": "display_data"
    },
    {
     "name": "stdout",
     "output_type": "stream",
     "text": [
      "Epoch 100: train=2.40863, val=2.33339, took 38.988 s\n",
      "  Validation Found 8181 of 10819, added 1289 (eff 75.62%) (0.644 FP/event)\n"
     ]
    },
    {
     "data": {
      "application/vnd.jupyter.widget-view+json": {
       "model_id": "",
       "version_major": 2,
       "version_minor": 0
      },
      "text/plain": [
       "HBox(children=(FloatProgress(value=0.0, description='Training', layout=Layout(flex='2'), max=1125.0, style=Pro…"
      ]
     },
     "metadata": {},
     "output_type": "display_data"
    },
    {
     "name": "stdout",
     "output_type": "stream",
     "text": [
      "Epoch 101: train=2.40494, val=2.33297, took 38.918 s\n",
      "  Validation Found 8162 of 10819, added 1298 (eff 75.44%) (0.649 FP/event)\n"
     ]
    },
    {
     "data": {
      "application/vnd.jupyter.widget-view+json": {
       "model_id": "",
       "version_major": 2,
       "version_minor": 0
      },
      "text/plain": [
       "HBox(children=(FloatProgress(value=0.0, description='Training', layout=Layout(flex='2'), max=1125.0, style=Pro…"
      ]
     },
     "metadata": {},
     "output_type": "display_data"
    },
    {
     "name": "stdout",
     "output_type": "stream",
     "text": [
      "Epoch 102: train=2.40166, val=2.33441, took 39.003 s\n",
      "  Validation Found 8188 of 10819, added 1278 (eff 75.68%) (0.639 FP/event)\n"
     ]
    },
    {
     "data": {
      "application/vnd.jupyter.widget-view+json": {
       "model_id": "",
       "version_major": 2,
       "version_minor": 0
      },
      "text/plain": [
       "HBox(children=(FloatProgress(value=0.0, description='Training', layout=Layout(flex='2'), max=1125.0, style=Pro…"
      ]
     },
     "metadata": {},
     "output_type": "display_data"
    },
    {
     "name": "stdout",
     "output_type": "stream",
     "text": [
      "Epoch 103: train=2.40355, val=2.33287, took 39.089 s\n",
      "  Validation Found 8165 of 10819, added 1303 (eff 75.47%) (0.651 FP/event)\n"
     ]
    },
    {
     "data": {
      "application/vnd.jupyter.widget-view+json": {
       "model_id": "",
       "version_major": 2,
       "version_minor": 0
      },
      "text/plain": [
       "HBox(children=(FloatProgress(value=0.0, description='Training', layout=Layout(flex='2'), max=1125.0, style=Pro…"
      ]
     },
     "metadata": {},
     "output_type": "display_data"
    },
    {
     "name": "stdout",
     "output_type": "stream",
     "text": [
      "Epoch 104: train=2.39811, val=2.33257, took 38.898 s\n",
      "  Validation Found 8164 of 10819, added 1301 (eff 75.46%) (0.65 FP/event)\n"
     ]
    },
    {
     "data": {
      "application/vnd.jupyter.widget-view+json": {
       "model_id": "",
       "version_major": 2,
       "version_minor": 0
      },
      "text/plain": [
       "HBox(children=(FloatProgress(value=0.0, description='Training', layout=Layout(flex='2'), max=1125.0, style=Pro…"
      ]
     },
     "metadata": {},
     "output_type": "display_data"
    },
    {
     "name": "stdout",
     "output_type": "stream",
     "text": [
      "Epoch 105: train=2.40492, val=2.3327, took 38.869 s\n",
      "  Validation Found 8165 of 10819, added 1301 (eff 75.47%) (0.65 FP/event)\n"
     ]
    },
    {
     "data": {
      "application/vnd.jupyter.widget-view+json": {
       "model_id": "",
       "version_major": 2,
       "version_minor": 0
      },
      "text/plain": [
       "HBox(children=(FloatProgress(value=0.0, description='Training', layout=Layout(flex='2'), max=1125.0, style=Pro…"
      ]
     },
     "metadata": {},
     "output_type": "display_data"
    },
    {
     "name": "stdout",
     "output_type": "stream",
     "text": [
      "Epoch 106: train=2.4068, val=2.33255, took 39.0 s\n",
      "  Validation Found 8180 of 10819, added 1290 (eff 75.61%) (0.645 FP/event)\n"
     ]
    },
    {
     "data": {
      "application/vnd.jupyter.widget-view+json": {
       "model_id": "",
       "version_major": 2,
       "version_minor": 0
      },
      "text/plain": [
       "HBox(children=(FloatProgress(value=0.0, description='Training', layout=Layout(flex='2'), max=1125.0, style=Pro…"
      ]
     },
     "metadata": {},
     "output_type": "display_data"
    },
    {
     "name": "stdout",
     "output_type": "stream",
     "text": [
      "Epoch 107: train=2.40067, val=2.33312, took 38.996 s\n",
      "  Validation Found 8185 of 10819, added 1293 (eff 75.65%) (0.646 FP/event)\n"
     ]
    },
    {
     "data": {
      "application/vnd.jupyter.widget-view+json": {
       "model_id": "",
       "version_major": 2,
       "version_minor": 0
      },
      "text/plain": [
       "HBox(children=(FloatProgress(value=0.0, description='Training', layout=Layout(flex='2'), max=1125.0, style=Pro…"
      ]
     },
     "metadata": {},
     "output_type": "display_data"
    },
    {
     "name": "stdout",
     "output_type": "stream",
     "text": [
      "Epoch 108: train=2.40262, val=2.33126, took 39.072 s\n",
      "  Validation Found 8173 of 10819, added 1305 (eff 75.54%) (0.652 FP/event)\n"
     ]
    },
    {
     "data": {
      "application/vnd.jupyter.widget-view+json": {
       "model_id": "",
       "version_major": 2,
       "version_minor": 0
      },
      "text/plain": [
       "HBox(children=(FloatProgress(value=0.0, description='Training', layout=Layout(flex='2'), max=1125.0, style=Pro…"
      ]
     },
     "metadata": {},
     "output_type": "display_data"
    },
    {
     "name": "stdout",
     "output_type": "stream",
     "text": [
      "Epoch 109: train=2.40331, val=2.33365, took 38.9 s\n",
      "  Validation Found 8186 of 10819, added 1291 (eff 75.66%) (0.645 FP/event)\n"
     ]
    },
    {
     "data": {
      "application/vnd.jupyter.widget-view+json": {
       "model_id": "",
       "version_major": 2,
       "version_minor": 0
      },
      "text/plain": [
       "HBox(children=(FloatProgress(value=0.0, description='Training', layout=Layout(flex='2'), max=1125.0, style=Pro…"
      ]
     },
     "metadata": {},
     "output_type": "display_data"
    },
    {
     "name": "stdout",
     "output_type": "stream",
     "text": [
      "Epoch 110: train=2.401, val=2.33242, took 38.95 s\n",
      "  Validation Found 8192 of 10819, added 1291 (eff 75.72%) (0.645 FP/event)\n"
     ]
    },
    {
     "data": {
      "application/vnd.jupyter.widget-view+json": {
       "model_id": "",
       "version_major": 2,
       "version_minor": 0
      },
      "text/plain": [
       "HBox(children=(FloatProgress(value=0.0, description='Training', layout=Layout(flex='2'), max=1125.0, style=Pro…"
      ]
     },
     "metadata": {},
     "output_type": "display_data"
    },
    {
     "name": "stdout",
     "output_type": "stream",
     "text": [
      "Epoch 111: train=2.4022, val=2.33059, took 38.932 s\n",
      "  Validation Found 8185 of 10819, added 1301 (eff 75.65%) (0.65 FP/event)\n"
     ]
    },
    {
     "data": {
      "application/vnd.jupyter.widget-view+json": {
       "model_id": "",
       "version_major": 2,
       "version_minor": 0
      },
      "text/plain": [
       "HBox(children=(FloatProgress(value=0.0, description='Training', layout=Layout(flex='2'), max=1125.0, style=Pro…"
      ]
     },
     "metadata": {},
     "output_type": "display_data"
    },
    {
     "name": "stdout",
     "output_type": "stream",
     "text": [
      "Epoch 112: train=2.40234, val=2.33104, took 38.893 s\n",
      "  Validation Found 8192 of 10819, added 1291 (eff 75.72%) (0.645 FP/event)\n"
     ]
    },
    {
     "data": {
      "application/vnd.jupyter.widget-view+json": {
       "model_id": "",
       "version_major": 2,
       "version_minor": 0
      },
      "text/plain": [
       "HBox(children=(FloatProgress(value=0.0, description='Training', layout=Layout(flex='2'), max=1125.0, style=Pro…"
      ]
     },
     "metadata": {},
     "output_type": "display_data"
    },
    {
     "name": "stdout",
     "output_type": "stream",
     "text": [
      "Epoch 113: train=2.40153, val=2.33147, took 38.885 s\n",
      "  Validation Found 8186 of 10819, added 1295 (eff 75.66%) (0.647 FP/event)\n"
     ]
    },
    {
     "data": {
      "application/vnd.jupyter.widget-view+json": {
       "model_id": "",
       "version_major": 2,
       "version_minor": 0
      },
      "text/plain": [
       "HBox(children=(FloatProgress(value=0.0, description='Training', layout=Layout(flex='2'), max=1125.0, style=Pro…"
      ]
     },
     "metadata": {},
     "output_type": "display_data"
    },
    {
     "name": "stdout",
     "output_type": "stream",
     "text": [
      "Epoch 114: train=2.40274, val=2.33065, took 39.06 s\n",
      "  Validation Found 8165 of 10819, added 1303 (eff 75.47%) (0.651 FP/event)\n"
     ]
    },
    {
     "data": {
      "application/vnd.jupyter.widget-view+json": {
       "model_id": "",
       "version_major": 2,
       "version_minor": 0
      },
      "text/plain": [
       "HBox(children=(FloatProgress(value=0.0, description='Training', layout=Layout(flex='2'), max=1125.0, style=Pro…"
      ]
     },
     "metadata": {},
     "output_type": "display_data"
    },
    {
     "name": "stdout",
     "output_type": "stream",
     "text": [
      "Epoch 115: train=2.40018, val=2.33025, took 39.042 s\n",
      "  Validation Found 8184 of 10819, added 1305 (eff 75.64%) (0.652 FP/event)\n"
     ]
    },
    {
     "data": {
      "application/vnd.jupyter.widget-view+json": {
       "model_id": "",
       "version_major": 2,
       "version_minor": 0
      },
      "text/plain": [
       "HBox(children=(FloatProgress(value=0.0, description='Training', layout=Layout(flex='2'), max=1125.0, style=Pro…"
      ]
     },
     "metadata": {},
     "output_type": "display_data"
    },
    {
     "name": "stdout",
     "output_type": "stream",
     "text": [
      "Epoch 116: train=2.39994, val=2.32966, took 39.024 s\n",
      "  Validation Found 8172 of 10819, added 1304 (eff 75.53%) (0.652 FP/event)\n"
     ]
    },
    {
     "data": {
      "application/vnd.jupyter.widget-view+json": {
       "model_id": "",
       "version_major": 2,
       "version_minor": 0
      },
      "text/plain": [
       "HBox(children=(FloatProgress(value=0.0, description='Training', layout=Layout(flex='2'), max=1125.0, style=Pro…"
      ]
     },
     "metadata": {},
     "output_type": "display_data"
    },
    {
     "name": "stdout",
     "output_type": "stream",
     "text": [
      "Epoch 117: train=2.4025, val=2.33004, took 38.901 s\n",
      "  Validation Found 8177 of 10819, added 1313 (eff 75.58%) (0.656 FP/event)\n"
     ]
    },
    {
     "data": {
      "application/vnd.jupyter.widget-view+json": {
       "model_id": "",
       "version_major": 2,
       "version_minor": 0
      },
      "text/plain": [
       "HBox(children=(FloatProgress(value=0.0, description='Training', layout=Layout(flex='2'), max=1125.0, style=Pro…"
      ]
     },
     "metadata": {},
     "output_type": "display_data"
    },
    {
     "name": "stdout",
     "output_type": "stream",
     "text": [
      "Epoch 118: train=2.39978, val=2.32913, took 38.867 s\n",
      "  Validation Found 8170 of 10819, added 1307 (eff 75.52%) (0.653 FP/event)\n"
     ]
    },
    {
     "data": {
      "application/vnd.jupyter.widget-view+json": {
       "model_id": "",
       "version_major": 2,
       "version_minor": 0
      },
      "text/plain": [
       "HBox(children=(FloatProgress(value=0.0, description='Training', layout=Layout(flex='2'), max=1125.0, style=Pro…"
      ]
     },
     "metadata": {},
     "output_type": "display_data"
    },
    {
     "name": "stdout",
     "output_type": "stream",
     "text": [
      "Epoch 119: train=2.39797, val=2.32909, took 38.927 s\n",
      "  Validation Found 8176 of 10819, added 1310 (eff 75.57%) (0.655 FP/event)\n"
     ]
    },
    {
     "data": {
      "application/vnd.jupyter.widget-view+json": {
       "model_id": "",
       "version_major": 2,
       "version_minor": 0
      },
      "text/plain": [
       "HBox(children=(FloatProgress(value=0.0, description='Training', layout=Layout(flex='2'), max=1125.0, style=Pro…"
      ]
     },
     "metadata": {},
     "output_type": "display_data"
    },
    {
     "name": "stdout",
     "output_type": "stream",
     "text": [
      "Epoch 120: train=2.39798, val=2.32942, took 39.055 s\n",
      "  Validation Found 8167 of 10819, added 1323 (eff 75.49%) (0.661 FP/event)\n"
     ]
    },
    {
     "data": {
      "application/vnd.jupyter.widget-view+json": {
       "model_id": "",
       "version_major": 2,
       "version_minor": 0
      },
      "text/plain": [
       "HBox(children=(FloatProgress(value=0.0, description='Training', layout=Layout(flex='2'), max=1125.0, style=Pro…"
      ]
     },
     "metadata": {},
     "output_type": "display_data"
    },
    {
     "name": "stdout",
     "output_type": "stream",
     "text": [
      "Epoch 121: train=2.40084, val=2.32929, took 38.928 s\n",
      "  Validation Found 8174 of 10819, added 1314 (eff 75.55%) (0.657 FP/event)\n"
     ]
    },
    {
     "data": {
      "application/vnd.jupyter.widget-view+json": {
       "model_id": "",
       "version_major": 2,
       "version_minor": 0
      },
      "text/plain": [
       "HBox(children=(FloatProgress(value=0.0, description='Training', layout=Layout(flex='2'), max=1125.0, style=Pro…"
      ]
     },
     "metadata": {},
     "output_type": "display_data"
    },
    {
     "name": "stdout",
     "output_type": "stream",
     "text": [
      "Epoch 122: train=2.4005, val=2.32873, took 39.025 s\n",
      "  Validation Found 8190 of 10819, added 1307 (eff 75.70%) (0.653 FP/event)\n"
     ]
    },
    {
     "data": {
      "application/vnd.jupyter.widget-view+json": {
       "model_id": "",
       "version_major": 2,
       "version_minor": 0
      },
      "text/plain": [
       "HBox(children=(FloatProgress(value=0.0, description='Training', layout=Layout(flex='2'), max=1125.0, style=Pro…"
      ]
     },
     "metadata": {},
     "output_type": "display_data"
    },
    {
     "name": "stdout",
     "output_type": "stream",
     "text": [
      "Epoch 123: train=2.39707, val=2.33057, took 38.984 s\n",
      "  Validation Found 8204 of 10819, added 1294 (eff 75.83%) (0.647 FP/event)\n"
     ]
    },
    {
     "data": {
      "application/vnd.jupyter.widget-view+json": {
       "model_id": "",
       "version_major": 2,
       "version_minor": 0
      },
      "text/plain": [
       "HBox(children=(FloatProgress(value=0.0, description='Training', layout=Layout(flex='2'), max=1125.0, style=Pro…"
      ]
     },
     "metadata": {},
     "output_type": "display_data"
    },
    {
     "name": "stdout",
     "output_type": "stream",
     "text": [
      "Epoch 124: train=2.39444, val=2.32714, took 39.004 s\n",
      "  Validation Found 8184 of 10819, added 1316 (eff 75.64%) (0.658 FP/event)\n"
     ]
    },
    {
     "data": {
      "application/vnd.jupyter.widget-view+json": {
       "model_id": "",
       "version_major": 2,
       "version_minor": 0
      },
      "text/plain": [
       "HBox(children=(FloatProgress(value=0.0, description='Training', layout=Layout(flex='2'), max=1125.0, style=Pro…"
      ]
     },
     "metadata": {},
     "output_type": "display_data"
    },
    {
     "name": "stdout",
     "output_type": "stream",
     "text": [
      "Epoch 125: train=2.39899, val=2.32708, took 38.829 s\n",
      "  Validation Found 8193 of 10819, added 1310 (eff 75.73%) (0.655 FP/event)\n"
     ]
    },
    {
     "data": {
      "application/vnd.jupyter.widget-view+json": {
       "model_id": "",
       "version_major": 2,
       "version_minor": 0
      },
      "text/plain": [
       "HBox(children=(FloatProgress(value=0.0, description='Training', layout=Layout(flex='2'), max=1125.0, style=Pro…"
      ]
     },
     "metadata": {},
     "output_type": "display_data"
    },
    {
     "name": "stdout",
     "output_type": "stream",
     "text": [
      "Epoch 126: train=2.39367, val=2.33063, took 38.923 s\n",
      "  Validation Found 8200 of 10819, added 1294 (eff 75.79%) (0.647 FP/event)\n"
     ]
    },
    {
     "data": {
      "application/vnd.jupyter.widget-view+json": {
       "model_id": "",
       "version_major": 2,
       "version_minor": 0
      },
      "text/plain": [
       "HBox(children=(FloatProgress(value=0.0, description='Training', layout=Layout(flex='2'), max=1125.0, style=Pro…"
      ]
     },
     "metadata": {},
     "output_type": "display_data"
    },
    {
     "name": "stdout",
     "output_type": "stream",
     "text": [
      "Epoch 127: train=2.39738, val=2.32884, took 38.875 s\n",
      "  Validation Found 8185 of 10819, added 1320 (eff 75.65%) (0.66 FP/event)\n"
     ]
    },
    {
     "data": {
      "application/vnd.jupyter.widget-view+json": {
       "model_id": "",
       "version_major": 2,
       "version_minor": 0
      },
      "text/plain": [
       "HBox(children=(FloatProgress(value=0.0, description='Training', layout=Layout(flex='2'), max=1125.0, style=Pro…"
      ]
     },
     "metadata": {},
     "output_type": "display_data"
    },
    {
     "name": "stdout",
     "output_type": "stream",
     "text": [
      "Epoch 128: train=2.40025, val=2.32773, took 38.864 s\n",
      "  Validation Found 8192 of 10819, added 1306 (eff 75.72%) (0.653 FP/event)\n"
     ]
    },
    {
     "data": {
      "application/vnd.jupyter.widget-view+json": {
       "model_id": "",
       "version_major": 2,
       "version_minor": 0
      },
      "text/plain": [
       "HBox(children=(FloatProgress(value=0.0, description='Training', layout=Layout(flex='2'), max=1125.0, style=Pro…"
      ]
     },
     "metadata": {},
     "output_type": "display_data"
    },
    {
     "name": "stdout",
     "output_type": "stream",
     "text": [
      "Epoch 129: train=2.39778, val=2.32717, took 38.89 s\n",
      "  Validation Found 8189 of 10819, added 1318 (eff 75.69%) (0.659 FP/event)\n"
     ]
    },
    {
     "data": {
      "application/vnd.jupyter.widget-view+json": {
       "model_id": "",
       "version_major": 2,
       "version_minor": 0
      },
      "text/plain": [
       "HBox(children=(FloatProgress(value=0.0, description='Training', layout=Layout(flex='2'), max=1125.0, style=Pro…"
      ]
     },
     "metadata": {},
     "output_type": "display_data"
    },
    {
     "name": "stdout",
     "output_type": "stream",
     "text": [
      "Epoch 130: train=2.39858, val=2.32787, took 38.952 s\n",
      "  Validation Found 8187 of 10819, added 1317 (eff 75.67%) (0.658 FP/event)\n"
     ]
    },
    {
     "data": {
      "application/vnd.jupyter.widget-view+json": {
       "model_id": "",
       "version_major": 2,
       "version_minor": 0
      },
      "text/plain": [
       "HBox(children=(FloatProgress(value=0.0, description='Training', layout=Layout(flex='2'), max=1125.0, style=Pro…"
      ]
     },
     "metadata": {},
     "output_type": "display_data"
    },
    {
     "name": "stdout",
     "output_type": "stream",
     "text": [
      "Epoch 131: train=2.3974, val=2.32742, took 38.852 s\n",
      "  Validation Found 8198 of 10819, added 1315 (eff 75.77%) (0.657 FP/event)\n"
     ]
    },
    {
     "data": {
      "application/vnd.jupyter.widget-view+json": {
       "model_id": "",
       "version_major": 2,
       "version_minor": 0
      },
      "text/plain": [
       "HBox(children=(FloatProgress(value=0.0, description='Training', layout=Layout(flex='2'), max=1125.0, style=Pro…"
      ]
     },
     "metadata": {},
     "output_type": "display_data"
    },
    {
     "name": "stdout",
     "output_type": "stream",
     "text": [
      "Epoch 132: train=2.39943, val=2.32636, took 38.952 s\n",
      "  Validation Found 8197 of 10819, added 1315 (eff 75.76%) (0.657 FP/event)\n"
     ]
    },
    {
     "data": {
      "application/vnd.jupyter.widget-view+json": {
       "model_id": "",
       "version_major": 2,
       "version_minor": 0
      },
      "text/plain": [
       "HBox(children=(FloatProgress(value=0.0, description='Training', layout=Layout(flex='2'), max=1125.0, style=Pro…"
      ]
     },
     "metadata": {},
     "output_type": "display_data"
    },
    {
     "name": "stdout",
     "output_type": "stream",
     "text": [
      "Epoch 133: train=2.39864, val=2.32957, took 38.812 s\n",
      "  Validation Found 8218 of 10819, added 1291 (eff 75.96%) (0.645 FP/event)\n"
     ]
    },
    {
     "data": {
      "application/vnd.jupyter.widget-view+json": {
       "model_id": "",
       "version_major": 2,
       "version_minor": 0
      },
      "text/plain": [
       "HBox(children=(FloatProgress(value=0.0, description='Training', layout=Layout(flex='2'), max=1125.0, style=Pro…"
      ]
     },
     "metadata": {},
     "output_type": "display_data"
    },
    {
     "name": "stdout",
     "output_type": "stream",
     "text": [
      "Epoch 134: train=2.39604, val=2.32606, took 38.913 s\n",
      "  Validation Found 8201 of 10819, added 1310 (eff 75.80%) (0.655 FP/event)\n"
     ]
    },
    {
     "data": {
      "application/vnd.jupyter.widget-view+json": {
       "model_id": "",
       "version_major": 2,
       "version_minor": 0
      },
      "text/plain": [
       "HBox(children=(FloatProgress(value=0.0, description='Training', layout=Layout(flex='2'), max=1125.0, style=Pro…"
      ]
     },
     "metadata": {},
     "output_type": "display_data"
    },
    {
     "name": "stdout",
     "output_type": "stream",
     "text": [
      "Epoch 135: train=2.39939, val=2.32632, took 38.958 s\n",
      "  Validation Found 8199 of 10819, added 1306 (eff 75.78%) (0.653 FP/event)\n"
     ]
    },
    {
     "data": {
      "application/vnd.jupyter.widget-view+json": {
       "model_id": "",
       "version_major": 2,
       "version_minor": 0
      },
      "text/plain": [
       "HBox(children=(FloatProgress(value=0.0, description='Training', layout=Layout(flex='2'), max=1125.0, style=Pro…"
      ]
     },
     "metadata": {},
     "output_type": "display_data"
    },
    {
     "name": "stdout",
     "output_type": "stream",
     "text": [
      "Epoch 136: train=2.40316, val=2.32597, took 38.89 s\n",
      "  Validation Found 8201 of 10819, added 1311 (eff 75.80%) (0.655 FP/event)\n"
     ]
    },
    {
     "data": {
      "application/vnd.jupyter.widget-view+json": {
       "model_id": "",
       "version_major": 2,
       "version_minor": 0
      },
      "text/plain": [
       "HBox(children=(FloatProgress(value=0.0, description='Training', layout=Layout(flex='2'), max=1125.0, style=Pro…"
      ]
     },
     "metadata": {},
     "output_type": "display_data"
    },
    {
     "name": "stdout",
     "output_type": "stream",
     "text": [
      "Epoch 137: train=2.39587, val=2.32587, took 38.818 s\n",
      "  Validation Found 8200 of 10819, added 1308 (eff 75.79%) (0.654 FP/event)\n"
     ]
    },
    {
     "data": {
      "application/vnd.jupyter.widget-view+json": {
       "model_id": "",
       "version_major": 2,
       "version_minor": 0
      },
      "text/plain": [
       "HBox(children=(FloatProgress(value=0.0, description='Training', layout=Layout(flex='2'), max=1125.0, style=Pro…"
      ]
     },
     "metadata": {},
     "output_type": "display_data"
    },
    {
     "name": "stdout",
     "output_type": "stream",
     "text": [
      "Epoch 138: train=2.39539, val=2.32565, took 38.83 s\n",
      "  Validation Found 8195 of 10819, added 1305 (eff 75.75%) (0.652 FP/event)\n"
     ]
    },
    {
     "data": {
      "application/vnd.jupyter.widget-view+json": {
       "model_id": "",
       "version_major": 2,
       "version_minor": 0
      },
      "text/plain": [
       "HBox(children=(FloatProgress(value=0.0, description='Training', layout=Layout(flex='2'), max=1125.0, style=Pro…"
      ]
     },
     "metadata": {},
     "output_type": "display_data"
    },
    {
     "name": "stdout",
     "output_type": "stream",
     "text": [
      "Epoch 139: train=2.39564, val=2.32545, took 38.831 s\n",
      "  Validation Found 8188 of 10819, added 1313 (eff 75.68%) (0.656 FP/event)\n"
     ]
    },
    {
     "data": {
      "application/vnd.jupyter.widget-view+json": {
       "model_id": "",
       "version_major": 2,
       "version_minor": 0
      },
      "text/plain": [
       "HBox(children=(FloatProgress(value=0.0, description='Training', layout=Layout(flex='2'), max=1125.0, style=Pro…"
      ]
     },
     "metadata": {},
     "output_type": "display_data"
    },
    {
     "name": "stdout",
     "output_type": "stream",
     "text": [
      "Epoch 140: train=2.39241, val=2.32534, took 38.909 s\n",
      "  Validation Found 8199 of 10819, added 1312 (eff 75.78%) (0.656 FP/event)\n"
     ]
    },
    {
     "data": {
      "application/vnd.jupyter.widget-view+json": {
       "model_id": "",
       "version_major": 2,
       "version_minor": 0
      },
      "text/plain": [
       "HBox(children=(FloatProgress(value=0.0, description='Training', layout=Layout(flex='2'), max=1125.0, style=Pro…"
      ]
     },
     "metadata": {},
     "output_type": "display_data"
    },
    {
     "name": "stdout",
     "output_type": "stream",
     "text": [
      "Epoch 141: train=2.39551, val=2.32561, took 38.98 s\n",
      "  Validation Found 8197 of 10819, added 1313 (eff 75.76%) (0.656 FP/event)\n"
     ]
    },
    {
     "data": {
      "application/vnd.jupyter.widget-view+json": {
       "model_id": "",
       "version_major": 2,
       "version_minor": 0
      },
      "text/plain": [
       "HBox(children=(FloatProgress(value=0.0, description='Training', layout=Layout(flex='2'), max=1125.0, style=Pro…"
      ]
     },
     "metadata": {},
     "output_type": "display_data"
    },
    {
     "name": "stdout",
     "output_type": "stream",
     "text": [
      "Epoch 142: train=2.39647, val=2.32509, took 38.923 s\n",
      "  Validation Found 8194 of 10819, added 1313 (eff 75.74%) (0.656 FP/event)\n"
     ]
    },
    {
     "data": {
      "application/vnd.jupyter.widget-view+json": {
       "model_id": "",
       "version_major": 2,
       "version_minor": 0
      },
      "text/plain": [
       "HBox(children=(FloatProgress(value=0.0, description='Training', layout=Layout(flex='2'), max=1125.0, style=Pro…"
      ]
     },
     "metadata": {},
     "output_type": "display_data"
    },
    {
     "name": "stdout",
     "output_type": "stream",
     "text": [
      "Epoch 143: train=2.39386, val=2.3245, took 38.851 s\n",
      "  Validation Found 8200 of 10819, added 1315 (eff 75.79%) (0.657 FP/event)\n"
     ]
    },
    {
     "data": {
      "application/vnd.jupyter.widget-view+json": {
       "model_id": "",
       "version_major": 2,
       "version_minor": 0
      },
      "text/plain": [
       "HBox(children=(FloatProgress(value=0.0, description='Training', layout=Layout(flex='2'), max=1125.0, style=Pro…"
      ]
     },
     "metadata": {},
     "output_type": "display_data"
    },
    {
     "name": "stdout",
     "output_type": "stream",
     "text": [
      "Epoch 144: train=2.39399, val=2.32457, took 38.946 s\n",
      "  Validation Found 8197 of 10819, added 1317 (eff 75.76%) (0.658 FP/event)\n"
     ]
    },
    {
     "data": {
      "application/vnd.jupyter.widget-view+json": {
       "model_id": "",
       "version_major": 2,
       "version_minor": 0
      },
      "text/plain": [
       "HBox(children=(FloatProgress(value=0.0, description='Training', layout=Layout(flex='2'), max=1125.0, style=Pro…"
      ]
     },
     "metadata": {},
     "output_type": "display_data"
    },
    {
     "name": "stdout",
     "output_type": "stream",
     "text": [
      "Epoch 145: train=2.40083, val=2.32405, took 38.878 s\n",
      "  Validation Found 8203 of 10819, added 1313 (eff 75.82%) (0.656 FP/event)\n"
     ]
    },
    {
     "data": {
      "application/vnd.jupyter.widget-view+json": {
       "model_id": "",
       "version_major": 2,
       "version_minor": 0
      },
      "text/plain": [
       "HBox(children=(FloatProgress(value=0.0, description='Training', layout=Layout(flex='2'), max=1125.0, style=Pro…"
      ]
     },
     "metadata": {},
     "output_type": "display_data"
    },
    {
     "name": "stdout",
     "output_type": "stream",
     "text": [
      "Epoch 146: train=2.39732, val=2.32345, took 38.898 s\n",
      "  Validation Found 8204 of 10819, added 1313 (eff 75.83%) (0.656 FP/event)\n"
     ]
    },
    {
     "data": {
      "application/vnd.jupyter.widget-view+json": {
       "model_id": "",
       "version_major": 2,
       "version_minor": 0
      },
      "text/plain": [
       "HBox(children=(FloatProgress(value=0.0, description='Training', layout=Layout(flex='2'), max=1125.0, style=Pro…"
      ]
     },
     "metadata": {},
     "output_type": "display_data"
    },
    {
     "name": "stdout",
     "output_type": "stream",
     "text": [
      "Epoch 147: train=2.4002, val=2.32596, took 38.915 s\n",
      "  Validation Found 8226 of 10819, added 1291 (eff 76.03%) (0.645 FP/event)\n"
     ]
    },
    {
     "data": {
      "application/vnd.jupyter.widget-view+json": {
       "model_id": "",
       "version_major": 2,
       "version_minor": 0
      },
      "text/plain": [
       "HBox(children=(FloatProgress(value=0.0, description='Training', layout=Layout(flex='2'), max=1125.0, style=Pro…"
      ]
     },
     "metadata": {},
     "output_type": "display_data"
    },
    {
     "name": "stdout",
     "output_type": "stream",
     "text": [
      "Epoch 148: train=2.39925, val=2.32349, took 38.944 s\n",
      "  Validation Found 8209 of 10819, added 1309 (eff 75.88%) (0.654 FP/event)\n"
     ]
    },
    {
     "data": {
      "application/vnd.jupyter.widget-view+json": {
       "model_id": "",
       "version_major": 2,
       "version_minor": 0
      },
      "text/plain": [
       "HBox(children=(FloatProgress(value=0.0, description='Training', layout=Layout(flex='2'), max=1125.0, style=Pro…"
      ]
     },
     "metadata": {},
     "output_type": "display_data"
    },
    {
     "name": "stdout",
     "output_type": "stream",
     "text": [
      "Epoch 149: train=2.39374, val=2.32281, took 38.894 s\n",
      "  Validation Found 8204 of 10819, added 1313 (eff 75.83%) (0.656 FP/event)\n"
     ]
    },
    {
     "data": {
      "application/vnd.jupyter.widget-view+json": {
       "model_id": "",
       "version_major": 2,
       "version_minor": 0
      },
      "text/plain": [
       "HBox(children=(FloatProgress(value=0.0, description='Training', layout=Layout(flex='2'), max=1125.0, style=Pro…"
      ]
     },
     "metadata": {},
     "output_type": "display_data"
    },
    {
     "name": "stdout",
     "output_type": "stream",
     "text": [
      "Epoch 150: train=2.39426, val=2.32528, took 39.081 s\n",
      "  Validation Found 8195 of 10819, added 1328 (eff 75.75%) (0.664 FP/event)\n"
     ]
    },
    {
     "data": {
      "application/vnd.jupyter.widget-view+json": {
       "model_id": "",
       "version_major": 2,
       "version_minor": 0
      },
      "text/plain": [
       "HBox(children=(FloatProgress(value=0.0, description='Training', layout=Layout(flex='2'), max=1125.0, style=Pro…"
      ]
     },
     "metadata": {},
     "output_type": "display_data"
    },
    {
     "name": "stdout",
     "output_type": "stream",
     "text": [
      "Epoch 151: train=2.3926, val=2.32364, took 38.996 s\n",
      "  Validation Found 8209 of 10819, added 1316 (eff 75.88%) (0.658 FP/event)\n"
     ]
    },
    {
     "data": {
      "application/vnd.jupyter.widget-view+json": {
       "model_id": "",
       "version_major": 2,
       "version_minor": 0
      },
      "text/plain": [
       "HBox(children=(FloatProgress(value=0.0, description='Training', layout=Layout(flex='2'), max=1125.0, style=Pro…"
      ]
     },
     "metadata": {},
     "output_type": "display_data"
    },
    {
     "name": "stdout",
     "output_type": "stream",
     "text": [
      "Epoch 152: train=2.39341, val=2.32249, took 38.917 s\n",
      "  Validation Found 8215 of 10819, added 1303 (eff 75.93%) (0.651 FP/event)\n"
     ]
    },
    {
     "data": {
      "application/vnd.jupyter.widget-view+json": {
       "model_id": "",
       "version_major": 2,
       "version_minor": 0
      },
      "text/plain": [
       "HBox(children=(FloatProgress(value=0.0, description='Training', layout=Layout(flex='2'), max=1125.0, style=Pro…"
      ]
     },
     "metadata": {},
     "output_type": "display_data"
    },
    {
     "name": "stdout",
     "output_type": "stream",
     "text": [
      "Epoch 153: train=2.39345, val=2.32197, took 38.976 s\n",
      "  Validation Found 8212 of 10819, added 1309 (eff 75.90%) (0.654 FP/event)\n"
     ]
    },
    {
     "data": {
      "application/vnd.jupyter.widget-view+json": {
       "model_id": "",
       "version_major": 2,
       "version_minor": 0
      },
      "text/plain": [
       "HBox(children=(FloatProgress(value=0.0, description='Training', layout=Layout(flex='2'), max=1125.0, style=Pro…"
      ]
     },
     "metadata": {},
     "output_type": "display_data"
    },
    {
     "name": "stdout",
     "output_type": "stream",
     "text": [
      "Epoch 154: train=2.38876, val=2.3227, took 38.892 s\n",
      "  Validation Found 8210 of 10819, added 1309 (eff 75.89%) (0.654 FP/event)\n"
     ]
    },
    {
     "data": {
      "application/vnd.jupyter.widget-view+json": {
       "model_id": "",
       "version_major": 2,
       "version_minor": 0
      },
      "text/plain": [
       "HBox(children=(FloatProgress(value=0.0, description='Training', layout=Layout(flex='2'), max=1125.0, style=Pro…"
      ]
     },
     "metadata": {},
     "output_type": "display_data"
    },
    {
     "name": "stdout",
     "output_type": "stream",
     "text": [
      "Epoch 155: train=2.39258, val=2.32165, took 38.825 s\n",
      "  Validation Found 8205 of 10819, added 1313 (eff 75.84%) (0.656 FP/event)\n"
     ]
    },
    {
     "data": {
      "application/vnd.jupyter.widget-view+json": {
       "model_id": "",
       "version_major": 2,
       "version_minor": 0
      },
      "text/plain": [
       "HBox(children=(FloatProgress(value=0.0, description='Training', layout=Layout(flex='2'), max=1125.0, style=Pro…"
      ]
     },
     "metadata": {},
     "output_type": "display_data"
    },
    {
     "name": "stdout",
     "output_type": "stream",
     "text": [
      "Epoch 156: train=2.39721, val=2.32126, took 38.93 s\n",
      "  Validation Found 8202 of 10819, added 1320 (eff 75.81%) (0.66 FP/event)\n"
     ]
    },
    {
     "data": {
      "application/vnd.jupyter.widget-view+json": {
       "model_id": "",
       "version_major": 2,
       "version_minor": 0
      },
      "text/plain": [
       "HBox(children=(FloatProgress(value=0.0, description='Training', layout=Layout(flex='2'), max=1125.0, style=Pro…"
      ]
     },
     "metadata": {},
     "output_type": "display_data"
    },
    {
     "name": "stdout",
     "output_type": "stream",
     "text": [
      "Epoch 157: train=2.3925, val=2.32188, took 38.933 s\n",
      "  Validation Found 8198 of 10819, added 1323 (eff 75.77%) (0.661 FP/event)\n"
     ]
    },
    {
     "data": {
      "application/vnd.jupyter.widget-view+json": {
       "model_id": "",
       "version_major": 2,
       "version_minor": 0
      },
      "text/plain": [
       "HBox(children=(FloatProgress(value=0.0, description='Training', layout=Layout(flex='2'), max=1125.0, style=Pro…"
      ]
     },
     "metadata": {},
     "output_type": "display_data"
    },
    {
     "name": "stdout",
     "output_type": "stream",
     "text": [
      "Epoch 158: train=2.38987, val=2.32171, took 39.077 s\n",
      "  Validation Found 8220 of 10819, added 1294 (eff 75.98%) (0.647 FP/event)\n"
     ]
    },
    {
     "data": {
      "application/vnd.jupyter.widget-view+json": {
       "model_id": "",
       "version_major": 2,
       "version_minor": 0
      },
      "text/plain": [
       "HBox(children=(FloatProgress(value=0.0, description='Training', layout=Layout(flex='2'), max=1125.0, style=Pro…"
      ]
     },
     "metadata": {},
     "output_type": "display_data"
    },
    {
     "name": "stdout",
     "output_type": "stream",
     "text": [
      "Epoch 159: train=2.38312, val=2.32194, took 38.97 s\n",
      "  Validation Found 8204 of 10819, added 1316 (eff 75.83%) (0.658 FP/event)\n"
     ]
    },
    {
     "data": {
      "application/vnd.jupyter.widget-view+json": {
       "model_id": "",
       "version_major": 2,
       "version_minor": 0
      },
      "text/plain": [
       "HBox(children=(FloatProgress(value=0.0, description='Training', layout=Layout(flex='2'), max=1125.0, style=Pro…"
      ]
     },
     "metadata": {},
     "output_type": "display_data"
    },
    {
     "name": "stdout",
     "output_type": "stream",
     "text": [
      "Epoch 160: train=2.38849, val=2.32203, took 38.841 s\n",
      "  Validation Found 8211 of 10819, added 1307 (eff 75.89%) (0.653 FP/event)\n"
     ]
    },
    {
     "data": {
      "application/vnd.jupyter.widget-view+json": {
       "model_id": "",
       "version_major": 2,
       "version_minor": 0
      },
      "text/plain": [
       "HBox(children=(FloatProgress(value=0.0, description='Training', layout=Layout(flex='2'), max=1125.0, style=Pro…"
      ]
     },
     "metadata": {},
     "output_type": "display_data"
    },
    {
     "name": "stdout",
     "output_type": "stream",
     "text": [
      "Epoch 161: train=2.39325, val=2.32132, took 39.206 s\n",
      "  Validation Found 8217 of 10819, added 1302 (eff 75.95%) (0.651 FP/event)\n"
     ]
    },
    {
     "data": {
      "application/vnd.jupyter.widget-view+json": {
       "model_id": "",
       "version_major": 2,
       "version_minor": 0
      },
      "text/plain": [
       "HBox(children=(FloatProgress(value=0.0, description='Training', layout=Layout(flex='2'), max=1125.0, style=Pro…"
      ]
     },
     "metadata": {},
     "output_type": "display_data"
    },
    {
     "name": "stdout",
     "output_type": "stream",
     "text": [
      "Epoch 162: train=2.39401, val=2.32084, took 38.954 s\n",
      "  Validation Found 8211 of 10819, added 1310 (eff 75.89%) (0.655 FP/event)\n"
     ]
    },
    {
     "data": {
      "application/vnd.jupyter.widget-view+json": {
       "model_id": "",
       "version_major": 2,
       "version_minor": 0
      },
      "text/plain": [
       "HBox(children=(FloatProgress(value=0.0, description='Training', layout=Layout(flex='2'), max=1125.0, style=Pro…"
      ]
     },
     "metadata": {},
     "output_type": "display_data"
    },
    {
     "name": "stdout",
     "output_type": "stream",
     "text": [
      "Epoch 163: train=2.39271, val=2.32248, took 38.882 s\n",
      "  Validation Found 8198 of 10819, added 1326 (eff 75.77%) (0.663 FP/event)\n"
     ]
    },
    {
     "data": {
      "application/vnd.jupyter.widget-view+json": {
       "model_id": "",
       "version_major": 2,
       "version_minor": 0
      },
      "text/plain": [
       "HBox(children=(FloatProgress(value=0.0, description='Training', layout=Layout(flex='2'), max=1125.0, style=Pro…"
      ]
     },
     "metadata": {},
     "output_type": "display_data"
    },
    {
     "name": "stdout",
     "output_type": "stream",
     "text": [
      "Epoch 164: train=2.38811, val=2.32062, took 38.923 s\n",
      "  Validation Found 8211 of 10819, added 1323 (eff 75.89%) (0.661 FP/event)\n"
     ]
    },
    {
     "data": {
      "application/vnd.jupyter.widget-view+json": {
       "model_id": "",
       "version_major": 2,
       "version_minor": 0
      },
      "text/plain": [
       "HBox(children=(FloatProgress(value=0.0, description='Training', layout=Layout(flex='2'), max=1125.0, style=Pro…"
      ]
     },
     "metadata": {},
     "output_type": "display_data"
    },
    {
     "name": "stdout",
     "output_type": "stream",
     "text": [
      "Epoch 165: train=2.38805, val=2.32021, took 38.918 s\n",
      "  Validation Found 8221 of 10819, added 1307 (eff 75.99%) (0.653 FP/event)\n"
     ]
    },
    {
     "data": {
      "application/vnd.jupyter.widget-view+json": {
       "model_id": "",
       "version_major": 2,
       "version_minor": 0
      },
      "text/plain": [
       "HBox(children=(FloatProgress(value=0.0, description='Training', layout=Layout(flex='2'), max=1125.0, style=Pro…"
      ]
     },
     "metadata": {},
     "output_type": "display_data"
    },
    {
     "name": "stdout",
     "output_type": "stream",
     "text": [
      "Epoch 166: train=2.39419, val=2.3217, took 38.984 s\n",
      "  Validation Found 8230 of 10819, added 1298 (eff 76.07%) (0.649 FP/event)\n"
     ]
    },
    {
     "data": {
      "application/vnd.jupyter.widget-view+json": {
       "model_id": "",
       "version_major": 2,
       "version_minor": 0
      },
      "text/plain": [
       "HBox(children=(FloatProgress(value=0.0, description='Training', layout=Layout(flex='2'), max=1125.0, style=Pro…"
      ]
     },
     "metadata": {},
     "output_type": "display_data"
    },
    {
     "name": "stdout",
     "output_type": "stream",
     "text": [
      "Epoch 167: train=2.39295, val=2.32194, took 38.945 s\n",
      "  Validation Found 8239 of 10819, added 1291 (eff 76.15%) (0.645 FP/event)\n"
     ]
    },
    {
     "data": {
      "application/vnd.jupyter.widget-view+json": {
       "model_id": "",
       "version_major": 2,
       "version_minor": 0
      },
      "text/plain": [
       "HBox(children=(FloatProgress(value=0.0, description='Training', layout=Layout(flex='2'), max=1125.0, style=Pro…"
      ]
     },
     "metadata": {},
     "output_type": "display_data"
    },
    {
     "name": "stdout",
     "output_type": "stream",
     "text": [
      "Epoch 168: train=2.39197, val=2.32034, took 39.005 s\n",
      "  Validation Found 8227 of 10819, added 1305 (eff 76.04%) (0.652 FP/event)\n"
     ]
    },
    {
     "data": {
      "application/vnd.jupyter.widget-view+json": {
       "model_id": "",
       "version_major": 2,
       "version_minor": 0
      },
      "text/plain": [
       "HBox(children=(FloatProgress(value=0.0, description='Training', layout=Layout(flex='2'), max=1125.0, style=Pro…"
      ]
     },
     "metadata": {},
     "output_type": "display_data"
    },
    {
     "name": "stdout",
     "output_type": "stream",
     "text": [
      "Epoch 169: train=2.39402, val=2.32252, took 38.923 s\n",
      "  Validation Found 8232 of 10819, added 1295 (eff 76.09%) (0.647 FP/event)\n"
     ]
    },
    {
     "data": {
      "application/vnd.jupyter.widget-view+json": {
       "model_id": "",
       "version_major": 2,
       "version_minor": 0
      },
      "text/plain": [
       "HBox(children=(FloatProgress(value=0.0, description='Training', layout=Layout(flex='2'), max=1125.0, style=Pro…"
      ]
     },
     "metadata": {},
     "output_type": "display_data"
    },
    {
     "name": "stdout",
     "output_type": "stream",
     "text": [
      "Epoch 170: train=2.39045, val=2.32021, took 38.914 s\n",
      "  Validation Found 8226 of 10819, added 1300 (eff 76.03%) (0.65 FP/event)\n"
     ]
    },
    {
     "data": {
      "application/vnd.jupyter.widget-view+json": {
       "model_id": "",
       "version_major": 2,
       "version_minor": 0
      },
      "text/plain": [
       "HBox(children=(FloatProgress(value=0.0, description='Training', layout=Layout(flex='2'), max=1125.0, style=Pro…"
      ]
     },
     "metadata": {},
     "output_type": "display_data"
    },
    {
     "name": "stdout",
     "output_type": "stream",
     "text": [
      "Epoch 171: train=2.39006, val=2.3203, took 38.965 s\n",
      "  Validation Found 8215 of 10819, added 1327 (eff 75.93%) (0.663 FP/event)\n"
     ]
    },
    {
     "data": {
      "application/vnd.jupyter.widget-view+json": {
       "model_id": "",
       "version_major": 2,
       "version_minor": 0
      },
      "text/plain": [
       "HBox(children=(FloatProgress(value=0.0, description='Training', layout=Layout(flex='2'), max=1125.0, style=Pro…"
      ]
     },
     "metadata": {},
     "output_type": "display_data"
    },
    {
     "name": "stdout",
     "output_type": "stream",
     "text": [
      "Epoch 172: train=2.38894, val=2.3189, took 38.968 s\n",
      "  Validation Found 8220 of 10819, added 1309 (eff 75.98%) (0.654 FP/event)\n"
     ]
    },
    {
     "data": {
      "application/vnd.jupyter.widget-view+json": {
       "model_id": "",
       "version_major": 2,
       "version_minor": 0
      },
      "text/plain": [
       "HBox(children=(FloatProgress(value=0.0, description='Training', layout=Layout(flex='2'), max=1125.0, style=Pro…"
      ]
     },
     "metadata": {},
     "output_type": "display_data"
    },
    {
     "name": "stdout",
     "output_type": "stream",
     "text": [
      "Epoch 173: train=2.38618, val=2.32048, took 38.894 s\n",
      "  Validation Found 8212 of 10819, added 1328 (eff 75.90%) (0.664 FP/event)\n"
     ]
    },
    {
     "data": {
      "application/vnd.jupyter.widget-view+json": {
       "model_id": "",
       "version_major": 2,
       "version_minor": 0
      },
      "text/plain": [
       "HBox(children=(FloatProgress(value=0.0, description='Training', layout=Layout(flex='2'), max=1125.0, style=Pro…"
      ]
     },
     "metadata": {},
     "output_type": "display_data"
    },
    {
     "name": "stdout",
     "output_type": "stream",
     "text": [
      "Epoch 174: train=2.38543, val=2.31893, took 38.844 s\n",
      "  Validation Found 8217 of 10819, added 1319 (eff 75.95%) (0.659 FP/event)\n"
     ]
    },
    {
     "data": {
      "application/vnd.jupyter.widget-view+json": {
       "model_id": "",
       "version_major": 2,
       "version_minor": 0
      },
      "text/plain": [
       "HBox(children=(FloatProgress(value=0.0, description='Training', layout=Layout(flex='2'), max=1125.0, style=Pro…"
      ]
     },
     "metadata": {},
     "output_type": "display_data"
    },
    {
     "name": "stdout",
     "output_type": "stream",
     "text": [
      "Epoch 175: train=2.38752, val=2.3196, took 38.943 s\n",
      "  Validation Found 8231 of 10819, added 1307 (eff 76.08%) (0.653 FP/event)\n"
     ]
    },
    {
     "data": {
      "application/vnd.jupyter.widget-view+json": {
       "model_id": "",
       "version_major": 2,
       "version_minor": 0
      },
      "text/plain": [
       "HBox(children=(FloatProgress(value=0.0, description='Training', layout=Layout(flex='2'), max=1125.0, style=Pro…"
      ]
     },
     "metadata": {},
     "output_type": "display_data"
    },
    {
     "name": "stdout",
     "output_type": "stream",
     "text": [
      "Epoch 176: train=2.39097, val=2.31907, took 38.897 s\n",
      "  Validation Found 8218 of 10819, added 1315 (eff 75.96%) (0.657 FP/event)\n"
     ]
    },
    {
     "data": {
      "application/vnd.jupyter.widget-view+json": {
       "model_id": "",
       "version_major": 2,
       "version_minor": 0
      },
      "text/plain": [
       "HBox(children=(FloatProgress(value=0.0, description='Training', layout=Layout(flex='2'), max=1125.0, style=Pro…"
      ]
     },
     "metadata": {},
     "output_type": "display_data"
    },
    {
     "name": "stdout",
     "output_type": "stream",
     "text": [
      "Epoch 177: train=2.3919, val=2.31893, took 38.844 s\n",
      "  Validation Found 8228 of 10819, added 1314 (eff 76.05%) (0.657 FP/event)\n"
     ]
    },
    {
     "data": {
      "application/vnd.jupyter.widget-view+json": {
       "model_id": "",
       "version_major": 2,
       "version_minor": 0
      },
      "text/plain": [
       "HBox(children=(FloatProgress(value=0.0, description='Training', layout=Layout(flex='2'), max=1125.0, style=Pro…"
      ]
     },
     "metadata": {},
     "output_type": "display_data"
    },
    {
     "name": "stdout",
     "output_type": "stream",
     "text": [
      "Epoch 178: train=2.39225, val=2.32021, took 38.961 s\n",
      "  Validation Found 8234 of 10819, added 1296 (eff 76.11%) (0.648 FP/event)\n"
     ]
    },
    {
     "data": {
      "application/vnd.jupyter.widget-view+json": {
       "model_id": "",
       "version_major": 2,
       "version_minor": 0
      },
      "text/plain": [
       "HBox(children=(FloatProgress(value=0.0, description='Training', layout=Layout(flex='2'), max=1125.0, style=Pro…"
      ]
     },
     "metadata": {},
     "output_type": "display_data"
    },
    {
     "name": "stdout",
     "output_type": "stream",
     "text": [
      "Epoch 179: train=2.39121, val=2.3204, took 38.909 s\n",
      "  Validation Found 8213 of 10819, added 1329 (eff 75.91%) (0.664 FP/event)\n"
     ]
    },
    {
     "data": {
      "application/vnd.jupyter.widget-view+json": {
       "model_id": "",
       "version_major": 2,
       "version_minor": 0
      },
      "text/plain": [
       "HBox(children=(FloatProgress(value=0.0, description='Training', layout=Layout(flex='2'), max=1125.0, style=Pro…"
      ]
     },
     "metadata": {},
     "output_type": "display_data"
    },
    {
     "name": "stdout",
     "output_type": "stream",
     "text": [
      "Epoch 180: train=2.38744, val=2.3185, took 38.835 s\n",
      "  Validation Found 8212 of 10819, added 1323 (eff 75.90%) (0.661 FP/event)\n"
     ]
    },
    {
     "data": {
      "application/vnd.jupyter.widget-view+json": {
       "model_id": "",
       "version_major": 2,
       "version_minor": 0
      },
      "text/plain": [
       "HBox(children=(FloatProgress(value=0.0, description='Training', layout=Layout(flex='2'), max=1125.0, style=Pro…"
      ]
     },
     "metadata": {},
     "output_type": "display_data"
    },
    {
     "name": "stdout",
     "output_type": "stream",
     "text": [
      "Epoch 181: train=2.38935, val=2.31884, took 39.08 s\n",
      "  Validation Found 8214 of 10819, added 1321 (eff 75.92%) (0.66 FP/event)\n"
     ]
    },
    {
     "data": {
      "application/vnd.jupyter.widget-view+json": {
       "model_id": "",
       "version_major": 2,
       "version_minor": 0
      },
      "text/plain": [
       "HBox(children=(FloatProgress(value=0.0, description='Training', layout=Layout(flex='2'), max=1125.0, style=Pro…"
      ]
     },
     "metadata": {},
     "output_type": "display_data"
    },
    {
     "name": "stdout",
     "output_type": "stream",
     "text": [
      "Epoch 182: train=2.38771, val=2.31854, took 39.006 s\n",
      "  Validation Found 8213 of 10819, added 1320 (eff 75.91%) (0.66 FP/event)\n"
     ]
    },
    {
     "data": {
      "application/vnd.jupyter.widget-view+json": {
       "model_id": "",
       "version_major": 2,
       "version_minor": 0
      },
      "text/plain": [
       "HBox(children=(FloatProgress(value=0.0, description='Training', layout=Layout(flex='2'), max=1125.0, style=Pro…"
      ]
     },
     "metadata": {},
     "output_type": "display_data"
    },
    {
     "name": "stdout",
     "output_type": "stream",
     "text": [
      "Epoch 183: train=2.38784, val=2.31958, took 39.048 s\n",
      "  Validation Found 8235 of 10819, added 1300 (eff 76.12%) (0.65 FP/event)\n"
     ]
    },
    {
     "data": {
      "application/vnd.jupyter.widget-view+json": {
       "model_id": "",
       "version_major": 2,
       "version_minor": 0
      },
      "text/plain": [
       "HBox(children=(FloatProgress(value=0.0, description='Training', layout=Layout(flex='2'), max=1125.0, style=Pro…"
      ]
     },
     "metadata": {},
     "output_type": "display_data"
    },
    {
     "name": "stdout",
     "output_type": "stream",
     "text": [
      "Epoch 184: train=2.38911, val=2.31862, took 38.863 s\n",
      "  Validation Found 8234 of 10819, added 1301 (eff 76.11%) (0.65 FP/event)\n"
     ]
    },
    {
     "data": {
      "application/vnd.jupyter.widget-view+json": {
       "model_id": "",
       "version_major": 2,
       "version_minor": 0
      },
      "text/plain": [
       "HBox(children=(FloatProgress(value=0.0, description='Training', layout=Layout(flex='2'), max=1125.0, style=Pro…"
      ]
     },
     "metadata": {},
     "output_type": "display_data"
    },
    {
     "name": "stdout",
     "output_type": "stream",
     "text": [
      "Epoch 185: train=2.38742, val=2.31905, took 38.981 s\n",
      "  Validation Found 8236 of 10819, added 1288 (eff 76.13%) (0.644 FP/event)\n"
     ]
    },
    {
     "data": {
      "application/vnd.jupyter.widget-view+json": {
       "model_id": "",
       "version_major": 2,
       "version_minor": 0
      },
      "text/plain": [
       "HBox(children=(FloatProgress(value=0.0, description='Training', layout=Layout(flex='2'), max=1125.0, style=Pro…"
      ]
     },
     "metadata": {},
     "output_type": "display_data"
    },
    {
     "name": "stdout",
     "output_type": "stream",
     "text": [
      "Epoch 186: train=2.38479, val=2.31827, took 38.875 s\n",
      "  Validation Found 8211 of 10819, added 1326 (eff 75.89%) (0.663 FP/event)\n"
     ]
    },
    {
     "data": {
      "application/vnd.jupyter.widget-view+json": {
       "model_id": "",
       "version_major": 2,
       "version_minor": 0
      },
      "text/plain": [
       "HBox(children=(FloatProgress(value=0.0, description='Training', layout=Layout(flex='2'), max=1125.0, style=Pro…"
      ]
     },
     "metadata": {},
     "output_type": "display_data"
    },
    {
     "name": "stdout",
     "output_type": "stream",
     "text": [
      "Epoch 187: train=2.38398, val=2.31789, took 39.092 s\n",
      "  Validation Found 8236 of 10819, added 1296 (eff 76.13%) (0.648 FP/event)\n"
     ]
    },
    {
     "data": {
      "application/vnd.jupyter.widget-view+json": {
       "model_id": "",
       "version_major": 2,
       "version_minor": 0
      },
      "text/plain": [
       "HBox(children=(FloatProgress(value=0.0, description='Training', layout=Layout(flex='2'), max=1125.0, style=Pro…"
      ]
     },
     "metadata": {},
     "output_type": "display_data"
    },
    {
     "name": "stdout",
     "output_type": "stream",
     "text": [
      "Epoch 188: train=2.38745, val=2.31885, took 38.929 s\n",
      "  Validation Found 8241 of 10819, added 1289 (eff 76.17%) (0.644 FP/event)\n"
     ]
    },
    {
     "data": {
      "application/vnd.jupyter.widget-view+json": {
       "model_id": "",
       "version_major": 2,
       "version_minor": 0
      },
      "text/plain": [
       "HBox(children=(FloatProgress(value=0.0, description='Training', layout=Layout(flex='2'), max=1125.0, style=Pro…"
      ]
     },
     "metadata": {},
     "output_type": "display_data"
    },
    {
     "name": "stdout",
     "output_type": "stream",
     "text": [
      "Epoch 189: train=2.38498, val=2.31884, took 38.928 s\n",
      "  Validation Found 8245 of 10819, added 1291 (eff 76.21%) (0.645 FP/event)\n"
     ]
    },
    {
     "data": {
      "application/vnd.jupyter.widget-view+json": {
       "model_id": "",
       "version_major": 2,
       "version_minor": 0
      },
      "text/plain": [
       "HBox(children=(FloatProgress(value=0.0, description='Training', layout=Layout(flex='2'), max=1125.0, style=Pro…"
      ]
     },
     "metadata": {},
     "output_type": "display_data"
    },
    {
     "name": "stdout",
     "output_type": "stream",
     "text": [
      "Epoch 190: train=2.38427, val=2.31831, took 39.094 s\n",
      "  Validation Found 8234 of 10819, added 1300 (eff 76.11%) (0.65 FP/event)\n"
     ]
    },
    {
     "data": {
      "application/vnd.jupyter.widget-view+json": {
       "model_id": "",
       "version_major": 2,
       "version_minor": 0
      },
      "text/plain": [
       "HBox(children=(FloatProgress(value=0.0, description='Training', layout=Layout(flex='2'), max=1125.0, style=Pro…"
      ]
     },
     "metadata": {},
     "output_type": "display_data"
    },
    {
     "name": "stdout",
     "output_type": "stream",
     "text": [
      "Epoch 191: train=2.38906, val=2.31697, took 38.94 s\n",
      "  Validation Found 8227 of 10819, added 1307 (eff 76.04%) (0.653 FP/event)\n"
     ]
    },
    {
     "data": {
      "application/vnd.jupyter.widget-view+json": {
       "model_id": "",
       "version_major": 2,
       "version_minor": 0
      },
      "text/plain": [
       "HBox(children=(FloatProgress(value=0.0, description='Training', layout=Layout(flex='2'), max=1125.0, style=Pro…"
      ]
     },
     "metadata": {},
     "output_type": "display_data"
    },
    {
     "name": "stdout",
     "output_type": "stream",
     "text": [
      "Epoch 192: train=2.39033, val=2.31847, took 38.945 s\n",
      "  Validation Found 8212 of 10819, added 1333 (eff 75.90%) (0.666 FP/event)\n"
     ]
    },
    {
     "data": {
      "application/vnd.jupyter.widget-view+json": {
       "model_id": "",
       "version_major": 2,
       "version_minor": 0
      },
      "text/plain": [
       "HBox(children=(FloatProgress(value=0.0, description='Training', layout=Layout(flex='2'), max=1125.0, style=Pro…"
      ]
     },
     "metadata": {},
     "output_type": "display_data"
    },
    {
     "name": "stdout",
     "output_type": "stream",
     "text": [
      "Epoch 193: train=2.38509, val=2.31668, took 39.082 s\n",
      "  Validation Found 8217 of 10819, added 1329 (eff 75.95%) (0.664 FP/event)\n"
     ]
    },
    {
     "data": {
      "application/vnd.jupyter.widget-view+json": {
       "model_id": "",
       "version_major": 2,
       "version_minor": 0
      },
      "text/plain": [
       "HBox(children=(FloatProgress(value=0.0, description='Training', layout=Layout(flex='2'), max=1125.0, style=Pro…"
      ]
     },
     "metadata": {},
     "output_type": "display_data"
    },
    {
     "name": "stdout",
     "output_type": "stream",
     "text": [
      "Epoch 194: train=2.38276, val=2.31662, took 38.87 s\n",
      "  Validation Found 8218 of 10819, added 1327 (eff 75.96%) (0.663 FP/event)\n"
     ]
    },
    {
     "data": {
      "application/vnd.jupyter.widget-view+json": {
       "model_id": "",
       "version_major": 2,
       "version_minor": 0
      },
      "text/plain": [
       "HBox(children=(FloatProgress(value=0.0, description='Training', layout=Layout(flex='2'), max=1125.0, style=Pro…"
      ]
     },
     "metadata": {},
     "output_type": "display_data"
    },
    {
     "name": "stdout",
     "output_type": "stream",
     "text": [
      "Epoch 195: train=2.3869, val=2.31594, took 39.041 s\n",
      "  Validation Found 8230 of 10819, added 1314 (eff 76.07%) (0.657 FP/event)\n"
     ]
    },
    {
     "data": {
      "application/vnd.jupyter.widget-view+json": {
       "model_id": "",
       "version_major": 2,
       "version_minor": 0
      },
      "text/plain": [
       "HBox(children=(FloatProgress(value=0.0, description='Training', layout=Layout(flex='2'), max=1125.0, style=Pro…"
      ]
     },
     "metadata": {},
     "output_type": "display_data"
    },
    {
     "name": "stdout",
     "output_type": "stream",
     "text": [
      "Epoch 196: train=2.38632, val=2.31708, took 38.877 s\n",
      "  Validation Found 8208 of 10819, added 1335 (eff 75.87%) (0.667 FP/event)\n"
     ]
    },
    {
     "data": {
      "application/vnd.jupyter.widget-view+json": {
       "model_id": "",
       "version_major": 2,
       "version_minor": 0
      },
      "text/plain": [
       "HBox(children=(FloatProgress(value=0.0, description='Training', layout=Layout(flex='2'), max=1125.0, style=Pro…"
      ]
     },
     "metadata": {},
     "output_type": "display_data"
    },
    {
     "name": "stdout",
     "output_type": "stream",
     "text": [
      "Epoch 197: train=2.38777, val=2.31592, took 39.067 s\n",
      "  Validation Found 8224 of 10819, added 1319 (eff 76.01%) (0.659 FP/event)\n"
     ]
    },
    {
     "data": {
      "application/vnd.jupyter.widget-view+json": {
       "model_id": "",
       "version_major": 2,
       "version_minor": 0
      },
      "text/plain": [
       "HBox(children=(FloatProgress(value=0.0, description='Training', layout=Layout(flex='2'), max=1125.0, style=Pro…"
      ]
     },
     "metadata": {},
     "output_type": "display_data"
    },
    {
     "name": "stdout",
     "output_type": "stream",
     "text": [
      "Epoch 198: train=2.3858, val=2.31606, took 38.82 s\n",
      "  Validation Found 8220 of 10819, added 1324 (eff 75.98%) (0.662 FP/event)\n"
     ]
    },
    {
     "data": {
      "application/vnd.jupyter.widget-view+json": {
       "model_id": "",
       "version_major": 2,
       "version_minor": 0
      },
      "text/plain": [
       "HBox(children=(FloatProgress(value=0.0, description='Training', layout=Layout(flex='2'), max=1125.0, style=Pro…"
      ]
     },
     "metadata": {},
     "output_type": "display_data"
    },
    {
     "name": "stdout",
     "output_type": "stream",
     "text": [
      "Epoch 199: train=2.38534, val=2.31667, took 39.027 s\n",
      "  Validation Found 8242 of 10819, added 1295 (eff 76.18%) (0.647 FP/event)\n"
     ]
    },
    {
     "data": {
      "application/vnd.jupyter.widget-view+json": {
       "model_id": "",
       "version_major": 2,
       "version_minor": 0
      },
      "text/plain": [
       "HBox(children=(FloatProgress(value=0.0, description='Training', layout=Layout(flex='2'), max=1125.0, style=Pro…"
      ]
     },
     "metadata": {},
     "output_type": "display_data"
    },
    {
     "name": "stdout",
     "output_type": "stream",
     "text": [
      "Epoch 200: train=2.38743, val=2.31621, took 38.969 s\n",
      "  Validation Found 8225 of 10819, added 1328 (eff 76.02%) (0.664 FP/event)\n"
     ]
    },
    {
     "data": {
      "application/vnd.jupyter.widget-view+json": {
       "model_id": "",
       "version_major": 2,
       "version_minor": 0
      },
      "text/plain": [
       "HBox(children=(FloatProgress(value=0.0, description='Training', layout=Layout(flex='2'), max=1125.0, style=Pro…"
      ]
     },
     "metadata": {},
     "output_type": "display_data"
    },
    {
     "name": "stdout",
     "output_type": "stream",
     "text": [
      "Epoch 201: train=2.37839, val=2.31586, took 38.933 s\n",
      "  Validation Found 8223 of 10819, added 1326 (eff 76.01%) (0.663 FP/event)\n"
     ]
    },
    {
     "data": {
      "application/vnd.jupyter.widget-view+json": {
       "model_id": "",
       "version_major": 2,
       "version_minor": 0
      },
      "text/plain": [
       "HBox(children=(FloatProgress(value=0.0, description='Training', layout=Layout(flex='2'), max=1125.0, style=Pro…"
      ]
     },
     "metadata": {},
     "output_type": "display_data"
    },
    {
     "name": "stdout",
     "output_type": "stream",
     "text": [
      "Epoch 202: train=2.3823, val=2.31602, took 38.871 s\n",
      "  Validation Found 8233 of 10819, added 1313 (eff 76.10%) (0.656 FP/event)\n"
     ]
    },
    {
     "data": {
      "application/vnd.jupyter.widget-view+json": {
       "model_id": "",
       "version_major": 2,
       "version_minor": 0
      },
      "text/plain": [
       "HBox(children=(FloatProgress(value=0.0, description='Training', layout=Layout(flex='2'), max=1125.0, style=Pro…"
      ]
     },
     "metadata": {},
     "output_type": "display_data"
    },
    {
     "name": "stdout",
     "output_type": "stream",
     "text": [
      "Epoch 203: train=2.38847, val=2.31568, took 39.011 s\n",
      "  Validation Found 8230 of 10819, added 1322 (eff 76.07%) (0.661 FP/event)\n"
     ]
    },
    {
     "data": {
      "application/vnd.jupyter.widget-view+json": {
       "model_id": "",
       "version_major": 2,
       "version_minor": 0
      },
      "text/plain": [
       "HBox(children=(FloatProgress(value=0.0, description='Training', layout=Layout(flex='2'), max=1125.0, style=Pro…"
      ]
     },
     "metadata": {},
     "output_type": "display_data"
    },
    {
     "name": "stdout",
     "output_type": "stream",
     "text": [
      "Epoch 204: train=2.38194, val=2.3157, took 38.883 s\n",
      "  Validation Found 8228 of 10819, added 1321 (eff 76.05%) (0.66 FP/event)\n"
     ]
    },
    {
     "data": {
      "application/vnd.jupyter.widget-view+json": {
       "model_id": "",
       "version_major": 2,
       "version_minor": 0
      },
      "text/plain": [
       "HBox(children=(FloatProgress(value=0.0, description='Training', layout=Layout(flex='2'), max=1125.0, style=Pro…"
      ]
     },
     "metadata": {},
     "output_type": "display_data"
    },
    {
     "name": "stdout",
     "output_type": "stream",
     "text": [
      "Epoch 205: train=2.3841, val=2.31614, took 39.024 s\n",
      "  Validation Found 8241 of 10819, added 1304 (eff 76.17%) (0.652 FP/event)\n"
     ]
    },
    {
     "data": {
      "application/vnd.jupyter.widget-view+json": {
       "model_id": "",
       "version_major": 2,
       "version_minor": 0
      },
      "text/plain": [
       "HBox(children=(FloatProgress(value=0.0, description='Training', layout=Layout(flex='2'), max=1125.0, style=Pro…"
      ]
     },
     "metadata": {},
     "output_type": "display_data"
    },
    {
     "name": "stdout",
     "output_type": "stream",
     "text": [
      "Epoch 206: train=2.38465, val=2.3157, took 38.816 s\n",
      "  Validation Found 8219 of 10819, added 1324 (eff 75.97%) (0.662 FP/event)\n"
     ]
    },
    {
     "data": {
      "application/vnd.jupyter.widget-view+json": {
       "model_id": "",
       "version_major": 2,
       "version_minor": 0
      },
      "text/plain": [
       "HBox(children=(FloatProgress(value=0.0, description='Training', layout=Layout(flex='2'), max=1125.0, style=Pro…"
      ]
     },
     "metadata": {},
     "output_type": "display_data"
    },
    {
     "name": "stdout",
     "output_type": "stream",
     "text": [
      "Epoch 207: train=2.38196, val=2.31537, took 39.008 s\n",
      "  Validation Found 8230 of 10819, added 1315 (eff 76.07%) (0.657 FP/event)\n"
     ]
    },
    {
     "data": {
      "application/vnd.jupyter.widget-view+json": {
       "model_id": "",
       "version_major": 2,
       "version_minor": 0
      },
      "text/plain": [
       "HBox(children=(FloatProgress(value=0.0, description='Training', layout=Layout(flex='2'), max=1125.0, style=Pro…"
      ]
     },
     "metadata": {},
     "output_type": "display_data"
    },
    {
     "name": "stdout",
     "output_type": "stream",
     "text": [
      "Epoch 208: train=2.38048, val=2.31569, took 39.063 s\n",
      "  Validation Found 8237 of 10819, added 1303 (eff 76.13%) (0.651 FP/event)\n"
     ]
    },
    {
     "data": {
      "application/vnd.jupyter.widget-view+json": {
       "model_id": "",
       "version_major": 2,
       "version_minor": 0
      },
      "text/plain": [
       "HBox(children=(FloatProgress(value=0.0, description='Training', layout=Layout(flex='2'), max=1125.0, style=Pro…"
      ]
     },
     "metadata": {},
     "output_type": "display_data"
    },
    {
     "name": "stdout",
     "output_type": "stream",
     "text": [
      "Epoch 209: train=2.38668, val=2.31479, took 39.031 s\n",
      "  Validation Found 8230 of 10819, added 1319 (eff 76.07%) (0.659 FP/event)\n"
     ]
    },
    {
     "data": {
      "application/vnd.jupyter.widget-view+json": {
       "model_id": "",
       "version_major": 2,
       "version_minor": 0
      },
      "text/plain": [
       "HBox(children=(FloatProgress(value=0.0, description='Training', layout=Layout(flex='2'), max=1125.0, style=Pro…"
      ]
     },
     "metadata": {},
     "output_type": "display_data"
    },
    {
     "name": "stdout",
     "output_type": "stream",
     "text": [
      "Epoch 210: train=2.38311, val=2.31499, took 38.95 s\n",
      "  Validation Found 8227 of 10819, added 1320 (eff 76.04%) (0.66 FP/event)\n"
     ]
    },
    {
     "data": {
      "application/vnd.jupyter.widget-view+json": {
       "model_id": "",
       "version_major": 2,
       "version_minor": 0
      },
      "text/plain": [
       "HBox(children=(FloatProgress(value=0.0, description='Training', layout=Layout(flex='2'), max=1125.0, style=Pro…"
      ]
     },
     "metadata": {},
     "output_type": "display_data"
    },
    {
     "name": "stdout",
     "output_type": "stream",
     "text": [
      "Epoch 211: train=2.37977, val=2.31618, took 38.916 s\n",
      "  Validation Found 8250 of 10819, added 1299 (eff 76.25%) (0.649 FP/event)\n"
     ]
    },
    {
     "data": {
      "application/vnd.jupyter.widget-view+json": {
       "model_id": "",
       "version_major": 2,
       "version_minor": 0
      },
      "text/plain": [
       "HBox(children=(FloatProgress(value=0.0, description='Training', layout=Layout(flex='2'), max=1125.0, style=Pro…"
      ]
     },
     "metadata": {},
     "output_type": "display_data"
    },
    {
     "name": "stdout",
     "output_type": "stream",
     "text": [
      "Epoch 212: train=2.38234, val=2.31541, took 38.899 s\n",
      "  Validation Found 8216 of 10819, added 1332 (eff 75.94%) (0.666 FP/event)\n"
     ]
    },
    {
     "data": {
      "application/vnd.jupyter.widget-view+json": {
       "model_id": "",
       "version_major": 2,
       "version_minor": 0
      },
      "text/plain": [
       "HBox(children=(FloatProgress(value=0.0, description='Training', layout=Layout(flex='2'), max=1125.0, style=Pro…"
      ]
     },
     "metadata": {},
     "output_type": "display_data"
    },
    {
     "name": "stdout",
     "output_type": "stream",
     "text": [
      "Epoch 213: train=2.38103, val=2.31448, took 39.028 s\n",
      "  Validation Found 8221 of 10819, added 1332 (eff 75.99%) (0.666 FP/event)\n"
     ]
    },
    {
     "data": {
      "application/vnd.jupyter.widget-view+json": {
       "model_id": "",
       "version_major": 2,
       "version_minor": 0
      },
      "text/plain": [
       "HBox(children=(FloatProgress(value=0.0, description='Training', layout=Layout(flex='2'), max=1125.0, style=Pro…"
      ]
     },
     "metadata": {},
     "output_type": "display_data"
    },
    {
     "name": "stdout",
     "output_type": "stream",
     "text": [
      "Epoch 214: train=2.38328, val=2.31318, took 39.067 s\n",
      "  Validation Found 8238 of 10819, added 1320 (eff 76.14%) (0.66 FP/event)\n"
     ]
    },
    {
     "data": {
      "application/vnd.jupyter.widget-view+json": {
       "model_id": "",
       "version_major": 2,
       "version_minor": 0
      },
      "text/plain": [
       "HBox(children=(FloatProgress(value=0.0, description='Training', layout=Layout(flex='2'), max=1125.0, style=Pro…"
      ]
     },
     "metadata": {},
     "output_type": "display_data"
    },
    {
     "name": "stdout",
     "output_type": "stream",
     "text": [
      "Epoch 215: train=2.37887, val=2.31353, took 38.958 s\n",
      "  Validation Found 8246 of 10819, added 1310 (eff 76.22%) (0.655 FP/event)\n"
     ]
    },
    {
     "data": {
      "application/vnd.jupyter.widget-view+json": {
       "model_id": "",
       "version_major": 2,
       "version_minor": 0
      },
      "text/plain": [
       "HBox(children=(FloatProgress(value=0.0, description='Training', layout=Layout(flex='2'), max=1125.0, style=Pro…"
      ]
     },
     "metadata": {},
     "output_type": "display_data"
    },
    {
     "name": "stdout",
     "output_type": "stream",
     "text": [
      "Epoch 216: train=2.37622, val=2.31549, took 38.919 s\n",
      "  Validation Found 8219 of 10819, added 1337 (eff 75.97%) (0.668 FP/event)\n"
     ]
    },
    {
     "data": {
      "application/vnd.jupyter.widget-view+json": {
       "model_id": "",
       "version_major": 2,
       "version_minor": 0
      },
      "text/plain": [
       "HBox(children=(FloatProgress(value=0.0, description='Training', layout=Layout(flex='2'), max=1125.0, style=Pro…"
      ]
     },
     "metadata": {},
     "output_type": "display_data"
    },
    {
     "name": "stdout",
     "output_type": "stream",
     "text": [
      "Epoch 217: train=2.38285, val=2.31349, took 38.909 s\n",
      "  Validation Found 8238 of 10819, added 1318 (eff 76.14%) (0.659 FP/event)\n"
     ]
    },
    {
     "data": {
      "application/vnd.jupyter.widget-view+json": {
       "model_id": "",
       "version_major": 2,
       "version_minor": 0
      },
      "text/plain": [
       "HBox(children=(FloatProgress(value=0.0, description='Training', layout=Layout(flex='2'), max=1125.0, style=Pro…"
      ]
     },
     "metadata": {},
     "output_type": "display_data"
    },
    {
     "name": "stdout",
     "output_type": "stream",
     "text": [
      "Epoch 218: train=2.37649, val=2.31377, took 38.86 s\n",
      "  Validation Found 8247 of 10819, added 1306 (eff 76.23%) (0.653 FP/event)\n"
     ]
    },
    {
     "data": {
      "application/vnd.jupyter.widget-view+json": {
       "model_id": "",
       "version_major": 2,
       "version_minor": 0
      },
      "text/plain": [
       "HBox(children=(FloatProgress(value=0.0, description='Training', layout=Layout(flex='2'), max=1125.0, style=Pro…"
      ]
     },
     "metadata": {},
     "output_type": "display_data"
    },
    {
     "name": "stdout",
     "output_type": "stream",
     "text": [
      "Epoch 219: train=2.38177, val=2.31301, took 39.045 s\n",
      "  Validation Found 8234 of 10819, added 1314 (eff 76.11%) (0.657 FP/event)\n"
     ]
    },
    {
     "data": {
      "application/vnd.jupyter.widget-view+json": {
       "model_id": "",
       "version_major": 2,
       "version_minor": 0
      },
      "text/plain": [
       "HBox(children=(FloatProgress(value=0.0, description='Training', layout=Layout(flex='2'), max=1125.0, style=Pro…"
      ]
     },
     "metadata": {},
     "output_type": "display_data"
    },
    {
     "name": "stdout",
     "output_type": "stream",
     "text": [
      "Epoch 220: train=2.38671, val=2.31246, took 38.976 s\n",
      "  Validation Found 8232 of 10819, added 1326 (eff 76.09%) (0.663 FP/event)\n"
     ]
    },
    {
     "data": {
      "application/vnd.jupyter.widget-view+json": {
       "model_id": "",
       "version_major": 2,
       "version_minor": 0
      },
      "text/plain": [
       "HBox(children=(FloatProgress(value=0.0, description='Training', layout=Layout(flex='2'), max=1125.0, style=Pro…"
      ]
     },
     "metadata": {},
     "output_type": "display_data"
    },
    {
     "name": "stdout",
     "output_type": "stream",
     "text": [
      "Epoch 221: train=2.37614, val=2.31264, took 38.839 s\n",
      "  Validation Found 8237 of 10819, added 1323 (eff 76.13%) (0.661 FP/event)\n"
     ]
    },
    {
     "data": {
      "application/vnd.jupyter.widget-view+json": {
       "model_id": "",
       "version_major": 2,
       "version_minor": 0
      },
      "text/plain": [
       "HBox(children=(FloatProgress(value=0.0, description='Training', layout=Layout(flex='2'), max=1125.0, style=Pro…"
      ]
     },
     "metadata": {},
     "output_type": "display_data"
    },
    {
     "name": "stdout",
     "output_type": "stream",
     "text": [
      "Epoch 222: train=2.37959, val=2.31536, took 39.04 s\n",
      "  Validation Found 8221 of 10819, added 1327 (eff 75.99%) (0.663 FP/event)\n"
     ]
    },
    {
     "data": {
      "application/vnd.jupyter.widget-view+json": {
       "model_id": "",
       "version_major": 2,
       "version_minor": 0
      },
      "text/plain": [
       "HBox(children=(FloatProgress(value=0.0, description='Training', layout=Layout(flex='2'), max=1125.0, style=Pro…"
      ]
     },
     "metadata": {},
     "output_type": "display_data"
    },
    {
     "name": "stdout",
     "output_type": "stream",
     "text": [
      "Epoch 223: train=2.37555, val=2.3148, took 38.962 s\n",
      "  Validation Found 8230 of 10819, added 1335 (eff 76.07%) (0.667 FP/event)\n"
     ]
    },
    {
     "data": {
      "application/vnd.jupyter.widget-view+json": {
       "model_id": "",
       "version_major": 2,
       "version_minor": 0
      },
      "text/plain": [
       "HBox(children=(FloatProgress(value=0.0, description='Training', layout=Layout(flex='2'), max=1125.0, style=Pro…"
      ]
     },
     "metadata": {},
     "output_type": "display_data"
    },
    {
     "name": "stdout",
     "output_type": "stream",
     "text": [
      "Epoch 224: train=2.38114, val=2.31333, took 39.001 s\n",
      "  Validation Found 8243 of 10819, added 1314 (eff 76.19%) (0.657 FP/event)\n"
     ]
    },
    {
     "data": {
      "application/vnd.jupyter.widget-view+json": {
       "model_id": "",
       "version_major": 2,
       "version_minor": 0
      },
      "text/plain": [
       "HBox(children=(FloatProgress(value=0.0, description='Training', layout=Layout(flex='2'), max=1125.0, style=Pro…"
      ]
     },
     "metadata": {},
     "output_type": "display_data"
    },
    {
     "name": "stdout",
     "output_type": "stream",
     "text": [
      "Epoch 225: train=2.38072, val=2.31311, took 38.954 s\n",
      "  Validation Found 8236 of 10819, added 1327 (eff 76.13%) (0.663 FP/event)\n"
     ]
    },
    {
     "data": {
      "application/vnd.jupyter.widget-view+json": {
       "model_id": "",
       "version_major": 2,
       "version_minor": 0
      },
      "text/plain": [
       "HBox(children=(FloatProgress(value=0.0, description='Training', layout=Layout(flex='2'), max=1125.0, style=Pro…"
      ]
     },
     "metadata": {},
     "output_type": "display_data"
    },
    {
     "name": "stdout",
     "output_type": "stream",
     "text": [
      "Epoch 226: train=2.38262, val=2.31244, took 38.906 s\n",
      "  Validation Found 8240 of 10819, added 1313 (eff 76.16%) (0.656 FP/event)\n"
     ]
    },
    {
     "data": {
      "application/vnd.jupyter.widget-view+json": {
       "model_id": "",
       "version_major": 2,
       "version_minor": 0
      },
      "text/plain": [
       "HBox(children=(FloatProgress(value=0.0, description='Training', layout=Layout(flex='2'), max=1125.0, style=Pro…"
      ]
     },
     "metadata": {},
     "output_type": "display_data"
    },
    {
     "name": "stdout",
     "output_type": "stream",
     "text": [
      "Epoch 227: train=2.38475, val=2.31388, took 38.944 s\n",
      "  Validation Found 8257 of 10819, added 1301 (eff 76.32%) (0.65 FP/event)\n"
     ]
    },
    {
     "data": {
      "application/vnd.jupyter.widget-view+json": {
       "model_id": "",
       "version_major": 2,
       "version_minor": 0
      },
      "text/plain": [
       "HBox(children=(FloatProgress(value=0.0, description='Training', layout=Layout(flex='2'), max=1125.0, style=Pro…"
      ]
     },
     "metadata": {},
     "output_type": "display_data"
    },
    {
     "name": "stdout",
     "output_type": "stream",
     "text": [
      "Epoch 228: train=2.37934, val=2.31226, took 39.044 s\n",
      "  Validation Found 8241 of 10819, added 1318 (eff 76.17%) (0.659 FP/event)\n"
     ]
    },
    {
     "data": {
      "application/vnd.jupyter.widget-view+json": {
       "model_id": "",
       "version_major": 2,
       "version_minor": 0
      },
      "text/plain": [
       "HBox(children=(FloatProgress(value=0.0, description='Training', layout=Layout(flex='2'), max=1125.0, style=Pro…"
      ]
     },
     "metadata": {},
     "output_type": "display_data"
    },
    {
     "name": "stdout",
     "output_type": "stream",
     "text": [
      "Epoch 229: train=2.38285, val=2.31242, took 38.974 s\n",
      "  Validation Found 8231 of 10819, added 1330 (eff 76.08%) (0.665 FP/event)\n"
     ]
    },
    {
     "data": {
      "application/vnd.jupyter.widget-view+json": {
       "model_id": "",
       "version_major": 2,
       "version_minor": 0
      },
      "text/plain": [
       "HBox(children=(FloatProgress(value=0.0, description='Training', layout=Layout(flex='2'), max=1125.0, style=Pro…"
      ]
     },
     "metadata": {},
     "output_type": "display_data"
    },
    {
     "name": "stdout",
     "output_type": "stream",
     "text": [
      "Epoch 230: train=2.3769, val=2.31292, took 38.899 s\n",
      "  Validation Found 8254 of 10819, added 1304 (eff 76.29%) (0.652 FP/event)\n"
     ]
    },
    {
     "data": {
      "application/vnd.jupyter.widget-view+json": {
       "model_id": "",
       "version_major": 2,
       "version_minor": 0
      },
      "text/plain": [
       "HBox(children=(FloatProgress(value=0.0, description='Training', layout=Layout(flex='2'), max=1125.0, style=Pro…"
      ]
     },
     "metadata": {},
     "output_type": "display_data"
    },
    {
     "name": "stdout",
     "output_type": "stream",
     "text": [
      "Epoch 231: train=2.37764, val=2.31254, took 38.962 s\n",
      "  Validation Found 8226 of 10819, added 1333 (eff 76.03%) (0.666 FP/event)\n"
     ]
    },
    {
     "data": {
      "application/vnd.jupyter.widget-view+json": {
       "model_id": "",
       "version_major": 2,
       "version_minor": 0
      },
      "text/plain": [
       "HBox(children=(FloatProgress(value=0.0, description='Training', layout=Layout(flex='2'), max=1125.0, style=Pro…"
      ]
     },
     "metadata": {},
     "output_type": "display_data"
    },
    {
     "name": "stdout",
     "output_type": "stream",
     "text": [
      "Epoch 232: train=2.37812, val=2.31165, took 38.943 s\n",
      "  Validation Found 8230 of 10819, added 1330 (eff 76.07%) (0.665 FP/event)\n"
     ]
    },
    {
     "data": {
      "application/vnd.jupyter.widget-view+json": {
       "model_id": "",
       "version_major": 2,
       "version_minor": 0
      },
      "text/plain": [
       "HBox(children=(FloatProgress(value=0.0, description='Training', layout=Layout(flex='2'), max=1125.0, style=Pro…"
      ]
     },
     "metadata": {},
     "output_type": "display_data"
    },
    {
     "name": "stdout",
     "output_type": "stream",
     "text": [
      "Epoch 233: train=2.37763, val=2.31142, took 39.086 s\n",
      "  Validation Found 8224 of 10819, added 1338 (eff 76.01%) (0.669 FP/event)\n"
     ]
    },
    {
     "data": {
      "application/vnd.jupyter.widget-view+json": {
       "model_id": "",
       "version_major": 2,
       "version_minor": 0
      },
      "text/plain": [
       "HBox(children=(FloatProgress(value=0.0, description='Training', layout=Layout(flex='2'), max=1125.0, style=Pro…"
      ]
     },
     "metadata": {},
     "output_type": "display_data"
    },
    {
     "name": "stdout",
     "output_type": "stream",
     "text": [
      "Epoch 234: train=2.37405, val=2.31157, took 39.075 s\n",
      "  Validation Found 8231 of 10819, added 1334 (eff 76.08%) (0.667 FP/event)\n"
     ]
    },
    {
     "data": {
      "application/vnd.jupyter.widget-view+json": {
       "model_id": "",
       "version_major": 2,
       "version_minor": 0
      },
      "text/plain": [
       "HBox(children=(FloatProgress(value=0.0, description='Training', layout=Layout(flex='2'), max=1125.0, style=Pro…"
      ]
     },
     "metadata": {},
     "output_type": "display_data"
    },
    {
     "name": "stdout",
     "output_type": "stream",
     "text": [
      "Epoch 235: train=2.38015, val=2.31091, took 38.864 s\n",
      "  Validation Found 8235 of 10819, added 1329 (eff 76.12%) (0.664 FP/event)\n"
     ]
    },
    {
     "data": {
      "application/vnd.jupyter.widget-view+json": {
       "model_id": "",
       "version_major": 2,
       "version_minor": 0
      },
      "text/plain": [
       "HBox(children=(FloatProgress(value=0.0, description='Training', layout=Layout(flex='2'), max=1125.0, style=Pro…"
      ]
     },
     "metadata": {},
     "output_type": "display_data"
    },
    {
     "name": "stdout",
     "output_type": "stream",
     "text": [
      "Epoch 236: train=2.3753, val=2.31125, took 38.967 s\n",
      "  Validation Found 8251 of 10819, added 1314 (eff 76.26%) (0.657 FP/event)\n"
     ]
    },
    {
     "data": {
      "application/vnd.jupyter.widget-view+json": {
       "model_id": "",
       "version_major": 2,
       "version_minor": 0
      },
      "text/plain": [
       "HBox(children=(FloatProgress(value=0.0, description='Training', layout=Layout(flex='2'), max=1125.0, style=Pro…"
      ]
     },
     "metadata": {},
     "output_type": "display_data"
    },
    {
     "name": "stdout",
     "output_type": "stream",
     "text": [
      "Epoch 237: train=2.37442, val=2.31405, took 38.941 s\n",
      "  Validation Found 8221 of 10819, added 1341 (eff 75.99%) (0.67 FP/event)\n"
     ]
    },
    {
     "data": {
      "application/vnd.jupyter.widget-view+json": {
       "model_id": "",
       "version_major": 2,
       "version_minor": 0
      },
      "text/plain": [
       "HBox(children=(FloatProgress(value=0.0, description='Training', layout=Layout(flex='2'), max=1125.0, style=Pro…"
      ]
     },
     "metadata": {},
     "output_type": "display_data"
    },
    {
     "name": "stdout",
     "output_type": "stream",
     "text": [
      "Epoch 238: train=2.37506, val=2.31197, took 38.88 s\n",
      "  Validation Found 8249 of 10819, added 1307 (eff 76.25%) (0.653 FP/event)\n"
     ]
    },
    {
     "data": {
      "application/vnd.jupyter.widget-view+json": {
       "model_id": "",
       "version_major": 2,
       "version_minor": 0
      },
      "text/plain": [
       "HBox(children=(FloatProgress(value=0.0, description='Training', layout=Layout(flex='2'), max=1125.0, style=Pro…"
      ]
     },
     "metadata": {},
     "output_type": "display_data"
    },
    {
     "name": "stdout",
     "output_type": "stream",
     "text": [
      "Epoch 239: train=2.38469, val=2.31101, took 38.879 s\n",
      "  Validation Found 8229 of 10819, added 1335 (eff 76.06%) (0.667 FP/event)\n"
     ]
    },
    {
     "data": {
      "application/vnd.jupyter.widget-view+json": {
       "model_id": "",
       "version_major": 2,
       "version_minor": 0
      },
      "text/plain": [
       "HBox(children=(FloatProgress(value=0.0, description='Training', layout=Layout(flex='2'), max=1125.0, style=Pro…"
      ]
     },
     "metadata": {},
     "output_type": "display_data"
    },
    {
     "name": "stdout",
     "output_type": "stream",
     "text": [
      "Epoch 240: train=2.38051, val=2.31055, took 38.909 s\n",
      "  Validation Found 8236 of 10819, added 1327 (eff 76.13%) (0.663 FP/event)\n"
     ]
    },
    {
     "data": {
      "application/vnd.jupyter.widget-view+json": {
       "model_id": "",
       "version_major": 2,
       "version_minor": 0
      },
      "text/plain": [
       "HBox(children=(FloatProgress(value=0.0, description='Training', layout=Layout(flex='2'), max=1125.0, style=Pro…"
      ]
     },
     "metadata": {},
     "output_type": "display_data"
    },
    {
     "name": "stdout",
     "output_type": "stream",
     "text": [
      "Epoch 241: train=2.37954, val=2.31003, took 39.054 s\n",
      "  Validation Found 8230 of 10819, added 1330 (eff 76.07%) (0.665 FP/event)\n"
     ]
    },
    {
     "data": {
      "application/vnd.jupyter.widget-view+json": {
       "model_id": "",
       "version_major": 2,
       "version_minor": 0
      },
      "text/plain": [
       "HBox(children=(FloatProgress(value=0.0, description='Training', layout=Layout(flex='2'), max=1125.0, style=Pro…"
      ]
     },
     "metadata": {},
     "output_type": "display_data"
    },
    {
     "name": "stdout",
     "output_type": "stream",
     "text": [
      "Epoch 242: train=2.37884, val=2.30992, took 38.848 s\n",
      "  Validation Found 8242 of 10819, added 1323 (eff 76.18%) (0.661 FP/event)\n"
     ]
    },
    {
     "data": {
      "application/vnd.jupyter.widget-view+json": {
       "model_id": "",
       "version_major": 2,
       "version_minor": 0
      },
      "text/plain": [
       "HBox(children=(FloatProgress(value=0.0, description='Training', layout=Layout(flex='2'), max=1125.0, style=Pro…"
      ]
     },
     "metadata": {},
     "output_type": "display_data"
    },
    {
     "name": "stdout",
     "output_type": "stream",
     "text": [
      "Epoch 243: train=2.37243, val=2.30993, took 39.024 s\n",
      "  Validation Found 8232 of 10819, added 1338 (eff 76.09%) (0.669 FP/event)\n"
     ]
    },
    {
     "data": {
      "application/vnd.jupyter.widget-view+json": {
       "model_id": "",
       "version_major": 2,
       "version_minor": 0
      },
      "text/plain": [
       "HBox(children=(FloatProgress(value=0.0, description='Training', layout=Layout(flex='2'), max=1125.0, style=Pro…"
      ]
     },
     "metadata": {},
     "output_type": "display_data"
    },
    {
     "name": "stdout",
     "output_type": "stream",
     "text": [
      "Epoch 244: train=2.37518, val=2.30952, took 38.909 s\n",
      "  Validation Found 8238 of 10819, added 1331 (eff 76.14%) (0.665 FP/event)\n"
     ]
    },
    {
     "data": {
      "application/vnd.jupyter.widget-view+json": {
       "model_id": "",
       "version_major": 2,
       "version_minor": 0
      },
      "text/plain": [
       "HBox(children=(FloatProgress(value=0.0, description='Training', layout=Layout(flex='2'), max=1125.0, style=Pro…"
      ]
     },
     "metadata": {},
     "output_type": "display_data"
    },
    {
     "name": "stdout",
     "output_type": "stream",
     "text": [
      "Epoch 245: train=2.37564, val=2.31187, took 38.9 s\n",
      "  Validation Found 8255 of 10819, added 1307 (eff 76.30%) (0.653 FP/event)\n"
     ]
    },
    {
     "data": {
      "application/vnd.jupyter.widget-view+json": {
       "model_id": "",
       "version_major": 2,
       "version_minor": 0
      },
      "text/plain": [
       "HBox(children=(FloatProgress(value=0.0, description='Training', layout=Layout(flex='2'), max=1125.0, style=Pro…"
      ]
     },
     "metadata": {},
     "output_type": "display_data"
    },
    {
     "name": "stdout",
     "output_type": "stream",
     "text": [
      "Epoch 246: train=2.37276, val=2.31352, took 38.9 s\n",
      "  Validation Found 8238 of 10819, added 1335 (eff 76.14%) (0.667 FP/event)\n"
     ]
    },
    {
     "data": {
      "application/vnd.jupyter.widget-view+json": {
       "model_id": "",
       "version_major": 2,
       "version_minor": 0
      },
      "text/plain": [
       "HBox(children=(FloatProgress(value=0.0, description='Training', layout=Layout(flex='2'), max=1125.0, style=Pro…"
      ]
     },
     "metadata": {},
     "output_type": "display_data"
    },
    {
     "name": "stdout",
     "output_type": "stream",
     "text": [
      "Epoch 247: train=2.37593, val=2.3107, took 39.12 s\n",
      "  Validation Found 8238 of 10819, added 1333 (eff 76.14%) (0.666 FP/event)\n"
     ]
    },
    {
     "data": {
      "application/vnd.jupyter.widget-view+json": {
       "model_id": "",
       "version_major": 2,
       "version_minor": 0
      },
      "text/plain": [
       "HBox(children=(FloatProgress(value=0.0, description='Training', layout=Layout(flex='2'), max=1125.0, style=Pro…"
      ]
     },
     "metadata": {},
     "output_type": "display_data"
    },
    {
     "name": "stdout",
     "output_type": "stream",
     "text": [
      "Epoch 248: train=2.36975, val=2.311, took 39.047 s\n",
      "  Validation Found 8236 of 10819, added 1333 (eff 76.13%) (0.666 FP/event)\n"
     ]
    },
    {
     "data": {
      "application/vnd.jupyter.widget-view+json": {
       "model_id": "",
       "version_major": 2,
       "version_minor": 0
      },
      "text/plain": [
       "HBox(children=(FloatProgress(value=0.0, description='Training', layout=Layout(flex='2'), max=1125.0, style=Pro…"
      ]
     },
     "metadata": {},
     "output_type": "display_data"
    },
    {
     "name": "stdout",
     "output_type": "stream",
     "text": [
      "Epoch 249: train=2.37821, val=2.30913, took 39.027 s\n",
      "  Validation Found 8243 of 10819, added 1325 (eff 76.19%) (0.662 FP/event)\n"
     ]
    },
    {
     "data": {
      "application/vnd.jupyter.widget-view+json": {
       "model_id": "",
       "version_major": 2,
       "version_minor": 0
      },
      "text/plain": [
       "HBox(children=(FloatProgress(value=0.0, description='Training', layout=Layout(flex='2'), max=1125.0, style=Pro…"
      ]
     },
     "metadata": {},
     "output_type": "display_data"
    },
    {
     "name": "stdout",
     "output_type": "stream",
     "text": [
      "Epoch 250: train=2.37578, val=2.30904, took 38.906 s\n",
      "  Validation Found 8248 of 10819, added 1322 (eff 76.24%) (0.661 FP/event)\n"
     ]
    },
    {
     "data": {
      "application/vnd.jupyter.widget-view+json": {
       "model_id": "",
       "version_major": 2,
       "version_minor": 0
      },
      "text/plain": [
       "HBox(children=(FloatProgress(value=0.0, description='Training', layout=Layout(flex='2'), max=1125.0, style=Pro…"
      ]
     },
     "metadata": {},
     "output_type": "display_data"
    },
    {
     "name": "stdout",
     "output_type": "stream",
     "text": [
      "Epoch 251: train=2.37401, val=2.31035, took 39.075 s\n",
      "  Validation Found 8263 of 10819, added 1315 (eff 76.37%) (0.657 FP/event)\n"
     ]
    },
    {
     "data": {
      "application/vnd.jupyter.widget-view+json": {
       "model_id": "",
       "version_major": 2,
       "version_minor": 0
      },
      "text/plain": [
       "HBox(children=(FloatProgress(value=0.0, description='Training', layout=Layout(flex='2'), max=1125.0, style=Pro…"
      ]
     },
     "metadata": {},
     "output_type": "display_data"
    },
    {
     "name": "stdout",
     "output_type": "stream",
     "text": [
      "Epoch 252: train=2.37336, val=2.31066, took 39.1 s\n",
      "  Validation Found 8269 of 10819, added 1307 (eff 76.43%) (0.653 FP/event)\n"
     ]
    },
    {
     "data": {
      "application/vnd.jupyter.widget-view+json": {
       "model_id": "",
       "version_major": 2,
       "version_minor": 0
      },
      "text/plain": [
       "HBox(children=(FloatProgress(value=0.0, description='Training', layout=Layout(flex='2'), max=1125.0, style=Pro…"
      ]
     },
     "metadata": {},
     "output_type": "display_data"
    },
    {
     "name": "stdout",
     "output_type": "stream",
     "text": [
      "Epoch 253: train=2.3754, val=2.30799, took 39.061 s\n",
      "  Validation Found 8243 of 10819, added 1333 (eff 76.19%) (0.666 FP/event)\n"
     ]
    },
    {
     "data": {
      "application/vnd.jupyter.widget-view+json": {
       "model_id": "",
       "version_major": 2,
       "version_minor": 0
      },
      "text/plain": [
       "HBox(children=(FloatProgress(value=0.0, description='Training', layout=Layout(flex='2'), max=1125.0, style=Pro…"
      ]
     },
     "metadata": {},
     "output_type": "display_data"
    },
    {
     "name": "stdout",
     "output_type": "stream",
     "text": [
      "Epoch 254: train=2.37347, val=2.30815, took 38.941 s\n",
      "  Validation Found 8235 of 10819, added 1336 (eff 76.12%) (0.668 FP/event)\n"
     ]
    },
    {
     "data": {
      "application/vnd.jupyter.widget-view+json": {
       "model_id": "",
       "version_major": 2,
       "version_minor": 0
      },
      "text/plain": [
       "HBox(children=(FloatProgress(value=0.0, description='Training', layout=Layout(flex='2'), max=1125.0, style=Pro…"
      ]
     },
     "metadata": {},
     "output_type": "display_data"
    },
    {
     "name": "stdout",
     "output_type": "stream",
     "text": [
      "Epoch 255: train=2.37571, val=2.31068, took 38.936 s\n",
      "  Validation Found 8253 of 10819, added 1325 (eff 76.28%) (0.662 FP/event)\n"
     ]
    },
    {
     "data": {
      "application/vnd.jupyter.widget-view+json": {
       "model_id": "",
       "version_major": 2,
       "version_minor": 0
      },
      "text/plain": [
       "HBox(children=(FloatProgress(value=0.0, description='Training', layout=Layout(flex='2'), max=1125.0, style=Pro…"
      ]
     },
     "metadata": {},
     "output_type": "display_data"
    },
    {
     "name": "stdout",
     "output_type": "stream",
     "text": [
      "Epoch 256: train=2.37477, val=2.3079, took 38.888 s\n",
      "  Validation Found 8238 of 10819, added 1330 (eff 76.14%) (0.665 FP/event)\n"
     ]
    },
    {
     "data": {
      "application/vnd.jupyter.widget-view+json": {
       "model_id": "",
       "version_major": 2,
       "version_minor": 0
      },
      "text/plain": [
       "HBox(children=(FloatProgress(value=0.0, description='Training', layout=Layout(flex='2'), max=1125.0, style=Pro…"
      ]
     },
     "metadata": {},
     "output_type": "display_data"
    },
    {
     "name": "stdout",
     "output_type": "stream",
     "text": [
      "Epoch 257: train=2.37914, val=2.3074, took 38.924 s\n",
      "  Validation Found 8237 of 10819, added 1335 (eff 76.13%) (0.667 FP/event)\n"
     ]
    },
    {
     "data": {
      "application/vnd.jupyter.widget-view+json": {
       "model_id": "",
       "version_major": 2,
       "version_minor": 0
      },
      "text/plain": [
       "HBox(children=(FloatProgress(value=0.0, description='Training', layout=Layout(flex='2'), max=1125.0, style=Pro…"
      ]
     },
     "metadata": {},
     "output_type": "display_data"
    },
    {
     "name": "stdout",
     "output_type": "stream",
     "text": [
      "Epoch 258: train=2.37683, val=2.30781, took 38.865 s\n",
      "  Validation Found 8242 of 10819, added 1330 (eff 76.18%) (0.665 FP/event)\n"
     ]
    },
    {
     "data": {
      "application/vnd.jupyter.widget-view+json": {
       "model_id": "",
       "version_major": 2,
       "version_minor": 0
      },
      "text/plain": [
       "HBox(children=(FloatProgress(value=0.0, description='Training', layout=Layout(flex='2'), max=1125.0, style=Pro…"
      ]
     },
     "metadata": {},
     "output_type": "display_data"
    },
    {
     "name": "stdout",
     "output_type": "stream",
     "text": [
      "Epoch 259: train=2.36843, val=2.30786, took 38.83 s\n",
      "  Validation Found 8237 of 10819, added 1324 (eff 76.13%) (0.662 FP/event)\n"
     ]
    },
    {
     "data": {
      "application/vnd.jupyter.widget-view+json": {
       "model_id": "",
       "version_major": 2,
       "version_minor": 0
      },
      "text/plain": [
       "HBox(children=(FloatProgress(value=0.0, description='Training', layout=Layout(flex='2'), max=1125.0, style=Pro…"
      ]
     },
     "metadata": {},
     "output_type": "display_data"
    },
    {
     "name": "stdout",
     "output_type": "stream",
     "text": [
      "Epoch 260: train=2.37411, val=2.30752, took 39.022 s\n",
      "  Validation Found 8233 of 10819, added 1330 (eff 76.10%) (0.665 FP/event)\n"
     ]
    },
    {
     "data": {
      "application/vnd.jupyter.widget-view+json": {
       "model_id": "",
       "version_major": 2,
       "version_minor": 0
      },
      "text/plain": [
       "HBox(children=(FloatProgress(value=0.0, description='Training', layout=Layout(flex='2'), max=1125.0, style=Pro…"
      ]
     },
     "metadata": {},
     "output_type": "display_data"
    },
    {
     "name": "stdout",
     "output_type": "stream",
     "text": [
      "Epoch 261: train=2.37223, val=2.30689, took 38.93 s\n",
      "  Validation Found 8237 of 10819, added 1330 (eff 76.13%) (0.665 FP/event)\n"
     ]
    },
    {
     "data": {
      "application/vnd.jupyter.widget-view+json": {
       "model_id": "",
       "version_major": 2,
       "version_minor": 0
      },
      "text/plain": [
       "HBox(children=(FloatProgress(value=0.0, description='Training', layout=Layout(flex='2'), max=1125.0, style=Pro…"
      ]
     },
     "metadata": {},
     "output_type": "display_data"
    },
    {
     "name": "stdout",
     "output_type": "stream",
     "text": [
      "Epoch 262: train=2.37771, val=2.30728, took 38.946 s\n",
      "  Validation Found 8250 of 10819, added 1326 (eff 76.25%) (0.663 FP/event)\n"
     ]
    },
    {
     "data": {
      "application/vnd.jupyter.widget-view+json": {
       "model_id": "",
       "version_major": 2,
       "version_minor": 0
      },
      "text/plain": [
       "HBox(children=(FloatProgress(value=0.0, description='Training', layout=Layout(flex='2'), max=1125.0, style=Pro…"
      ]
     },
     "metadata": {},
     "output_type": "display_data"
    },
    {
     "name": "stdout",
     "output_type": "stream",
     "text": [
      "Epoch 263: train=2.37494, val=2.30676, took 38.891 s\n",
      "  Validation Found 8250 of 10819, added 1326 (eff 76.25%) (0.663 FP/event)\n"
     ]
    },
    {
     "data": {
      "application/vnd.jupyter.widget-view+json": {
       "model_id": "",
       "version_major": 2,
       "version_minor": 0
      },
      "text/plain": [
       "HBox(children=(FloatProgress(value=0.0, description='Training', layout=Layout(flex='2'), max=1125.0, style=Pro…"
      ]
     },
     "metadata": {},
     "output_type": "display_data"
    },
    {
     "name": "stdout",
     "output_type": "stream",
     "text": [
      "Epoch 264: train=2.37724, val=2.30712, took 38.97 s\n",
      "  Validation Found 8256 of 10819, added 1316 (eff 76.31%) (0.658 FP/event)\n"
     ]
    },
    {
     "data": {
      "application/vnd.jupyter.widget-view+json": {
       "model_id": "",
       "version_major": 2,
       "version_minor": 0
      },
      "text/plain": [
       "HBox(children=(FloatProgress(value=0.0, description='Training', layout=Layout(flex='2'), max=1125.0, style=Pro…"
      ]
     },
     "metadata": {},
     "output_type": "display_data"
    },
    {
     "name": "stdout",
     "output_type": "stream",
     "text": [
      "Epoch 265: train=2.3757, val=2.30758, took 38.935 s\n",
      "  Validation Found 8245 of 10819, added 1330 (eff 76.21%) (0.665 FP/event)\n"
     ]
    },
    {
     "data": {
      "application/vnd.jupyter.widget-view+json": {
       "model_id": "",
       "version_major": 2,
       "version_minor": 0
      },
      "text/plain": [
       "HBox(children=(FloatProgress(value=0.0, description='Training', layout=Layout(flex='2'), max=1125.0, style=Pro…"
      ]
     },
     "metadata": {},
     "output_type": "display_data"
    },
    {
     "name": "stdout",
     "output_type": "stream",
     "text": [
      "Epoch 266: train=2.37196, val=2.30694, took 39.143 s\n",
      "  Validation Found 8243 of 10819, added 1332 (eff 76.19%) (0.666 FP/event)\n"
     ]
    },
    {
     "data": {
      "application/vnd.jupyter.widget-view+json": {
       "model_id": "",
       "version_major": 2,
       "version_minor": 0
      },
      "text/plain": [
       "HBox(children=(FloatProgress(value=0.0, description='Training', layout=Layout(flex='2'), max=1125.0, style=Pro…"
      ]
     },
     "metadata": {},
     "output_type": "display_data"
    },
    {
     "name": "stdout",
     "output_type": "stream",
     "text": [
      "Epoch 267: train=2.37407, val=2.30795, took 39.0 s\n",
      "  Validation Found 8244 of 10819, added 1323 (eff 76.20%) (0.661 FP/event)\n"
     ]
    },
    {
     "data": {
      "application/vnd.jupyter.widget-view+json": {
       "model_id": "",
       "version_major": 2,
       "version_minor": 0
      },
      "text/plain": [
       "HBox(children=(FloatProgress(value=0.0, description='Training', layout=Layout(flex='2'), max=1125.0, style=Pro…"
      ]
     },
     "metadata": {},
     "output_type": "display_data"
    },
    {
     "name": "stdout",
     "output_type": "stream",
     "text": [
      "Epoch 268: train=2.37117, val=2.30689, took 38.967 s\n",
      "  Validation Found 8242 of 10819, added 1325 (eff 76.18%) (0.662 FP/event)\n"
     ]
    },
    {
     "data": {
      "application/vnd.jupyter.widget-view+json": {
       "model_id": "",
       "version_major": 2,
       "version_minor": 0
      },
      "text/plain": [
       "HBox(children=(FloatProgress(value=0.0, description='Training', layout=Layout(flex='2'), max=1125.0, style=Pro…"
      ]
     },
     "metadata": {},
     "output_type": "display_data"
    },
    {
     "name": "stdout",
     "output_type": "stream",
     "text": [
      "Epoch 269: train=2.37259, val=2.30714, took 38.991 s\n",
      "  Validation Found 8254 of 10819, added 1313 (eff 76.29%) (0.656 FP/event)\n"
     ]
    },
    {
     "data": {
      "application/vnd.jupyter.widget-view+json": {
       "model_id": "",
       "version_major": 2,
       "version_minor": 0
      },
      "text/plain": [
       "HBox(children=(FloatProgress(value=0.0, description='Training', layout=Layout(flex='2'), max=1125.0, style=Pro…"
      ]
     },
     "metadata": {},
     "output_type": "display_data"
    },
    {
     "name": "stdout",
     "output_type": "stream",
     "text": [
      "Epoch 270: train=2.37003, val=2.3066, took 38.974 s\n",
      "  Validation Found 8235 of 10819, added 1331 (eff 76.12%) (0.665 FP/event)\n"
     ]
    },
    {
     "data": {
      "application/vnd.jupyter.widget-view+json": {
       "model_id": "",
       "version_major": 2,
       "version_minor": 0
      },
      "text/plain": [
       "HBox(children=(FloatProgress(value=0.0, description='Training', layout=Layout(flex='2'), max=1125.0, style=Pro…"
      ]
     },
     "metadata": {},
     "output_type": "display_data"
    },
    {
     "name": "stdout",
     "output_type": "stream",
     "text": [
      "Epoch 271: train=2.37209, val=2.30743, took 38.988 s\n",
      "  Validation Found 8241 of 10819, added 1325 (eff 76.17%) (0.662 FP/event)\n"
     ]
    },
    {
     "data": {
      "application/vnd.jupyter.widget-view+json": {
       "model_id": "",
       "version_major": 2,
       "version_minor": 0
      },
      "text/plain": [
       "HBox(children=(FloatProgress(value=0.0, description='Training', layout=Layout(flex='2'), max=1125.0, style=Pro…"
      ]
     },
     "metadata": {},
     "output_type": "display_data"
    },
    {
     "name": "stdout",
     "output_type": "stream",
     "text": [
      "Epoch 272: train=2.37082, val=2.30721, took 38.838 s\n",
      "  Validation Found 8248 of 10819, added 1323 (eff 76.24%) (0.661 FP/event)\n"
     ]
    },
    {
     "data": {
      "application/vnd.jupyter.widget-view+json": {
       "model_id": "",
       "version_major": 2,
       "version_minor": 0
      },
      "text/plain": [
       "HBox(children=(FloatProgress(value=0.0, description='Training', layout=Layout(flex='2'), max=1125.0, style=Pro…"
      ]
     },
     "metadata": {},
     "output_type": "display_data"
    },
    {
     "name": "stdout",
     "output_type": "stream",
     "text": [
      "Epoch 273: train=2.3718, val=2.30832, took 38.835 s\n",
      "  Validation Found 8243 of 10819, added 1326 (eff 76.19%) (0.663 FP/event)\n"
     ]
    },
    {
     "data": {
      "application/vnd.jupyter.widget-view+json": {
       "model_id": "",
       "version_major": 2,
       "version_minor": 0
      },
      "text/plain": [
       "HBox(children=(FloatProgress(value=0.0, description='Training', layout=Layout(flex='2'), max=1125.0, style=Pro…"
      ]
     },
     "metadata": {},
     "output_type": "display_data"
    },
    {
     "name": "stdout",
     "output_type": "stream",
     "text": [
      "Epoch 274: train=2.37174, val=2.30638, took 39.02 s\n",
      "  Validation Found 8247 of 10819, added 1327 (eff 76.23%) (0.663 FP/event)\n"
     ]
    },
    {
     "data": {
      "application/vnd.jupyter.widget-view+json": {
       "model_id": "",
       "version_major": 2,
       "version_minor": 0
      },
      "text/plain": [
       "HBox(children=(FloatProgress(value=0.0, description='Training', layout=Layout(flex='2'), max=1125.0, style=Pro…"
      ]
     },
     "metadata": {},
     "output_type": "display_data"
    },
    {
     "name": "stdout",
     "output_type": "stream",
     "text": [
      "Epoch 275: train=2.36951, val=2.30786, took 39.048 s\n",
      "  Validation Found 8243 of 10819, added 1327 (eff 76.19%) (0.663 FP/event)\n"
     ]
    },
    {
     "data": {
      "application/vnd.jupyter.widget-view+json": {
       "model_id": "",
       "version_major": 2,
       "version_minor": 0
      },
      "text/plain": [
       "HBox(children=(FloatProgress(value=0.0, description='Training', layout=Layout(flex='2'), max=1125.0, style=Pro…"
      ]
     },
     "metadata": {},
     "output_type": "display_data"
    },
    {
     "name": "stdout",
     "output_type": "stream",
     "text": [
      "Epoch 276: train=2.36846, val=2.30654, took 38.959 s\n",
      "  Validation Found 8245 of 10819, added 1332 (eff 76.21%) (0.666 FP/event)\n"
     ]
    },
    {
     "data": {
      "application/vnd.jupyter.widget-view+json": {
       "model_id": "",
       "version_major": 2,
       "version_minor": 0
      },
      "text/plain": [
       "HBox(children=(FloatProgress(value=0.0, description='Training', layout=Layout(flex='2'), max=1125.0, style=Pro…"
      ]
     },
     "metadata": {},
     "output_type": "display_data"
    },
    {
     "name": "stdout",
     "output_type": "stream",
     "text": [
      "Epoch 277: train=2.37016, val=2.3062, took 38.861 s\n",
      "  Validation Found 8244 of 10819, added 1331 (eff 76.20%) (0.665 FP/event)\n"
     ]
    },
    {
     "data": {
      "application/vnd.jupyter.widget-view+json": {
       "model_id": "",
       "version_major": 2,
       "version_minor": 0
      },
      "text/plain": [
       "HBox(children=(FloatProgress(value=0.0, description='Training', layout=Layout(flex='2'), max=1125.0, style=Pro…"
      ]
     },
     "metadata": {},
     "output_type": "display_data"
    },
    {
     "name": "stdout",
     "output_type": "stream",
     "text": [
      "Epoch 278: train=2.37123, val=2.30614, took 39.036 s\n",
      "  Validation Found 8258 of 10819, added 1318 (eff 76.33%) (0.659 FP/event)\n"
     ]
    },
    {
     "data": {
      "application/vnd.jupyter.widget-view+json": {
       "model_id": "",
       "version_major": 2,
       "version_minor": 0
      },
      "text/plain": [
       "HBox(children=(FloatProgress(value=0.0, description='Training', layout=Layout(flex='2'), max=1125.0, style=Pro…"
      ]
     },
     "metadata": {},
     "output_type": "display_data"
    },
    {
     "name": "stdout",
     "output_type": "stream",
     "text": [
      "Epoch 279: train=2.3678, val=2.30806, took 39.022 s\n",
      "  Validation Found 8268 of 10819, added 1307 (eff 76.42%) (0.653 FP/event)\n"
     ]
    },
    {
     "data": {
      "application/vnd.jupyter.widget-view+json": {
       "model_id": "",
       "version_major": 2,
       "version_minor": 0
      },
      "text/plain": [
       "HBox(children=(FloatProgress(value=0.0, description='Training', layout=Layout(flex='2'), max=1125.0, style=Pro…"
      ]
     },
     "metadata": {},
     "output_type": "display_data"
    },
    {
     "name": "stdout",
     "output_type": "stream",
     "text": [
      "Epoch 280: train=2.3758, val=2.30541, took 39.124 s\n",
      "  Validation Found 8247 of 10819, added 1327 (eff 76.23%) (0.663 FP/event)\n"
     ]
    },
    {
     "data": {
      "application/vnd.jupyter.widget-view+json": {
       "model_id": "",
       "version_major": 2,
       "version_minor": 0
      },
      "text/plain": [
       "HBox(children=(FloatProgress(value=0.0, description='Training', layout=Layout(flex='2'), max=1125.0, style=Pro…"
      ]
     },
     "metadata": {},
     "output_type": "display_data"
    },
    {
     "name": "stdout",
     "output_type": "stream",
     "text": [
      "Epoch 281: train=2.37494, val=2.30538, took 38.866 s\n",
      "  Validation Found 8245 of 10819, added 1320 (eff 76.21%) (0.66 FP/event)\n"
     ]
    },
    {
     "data": {
      "application/vnd.jupyter.widget-view+json": {
       "model_id": "",
       "version_major": 2,
       "version_minor": 0
      },
      "text/plain": [
       "HBox(children=(FloatProgress(value=0.0, description='Training', layout=Layout(flex='2'), max=1125.0, style=Pro…"
      ]
     },
     "metadata": {},
     "output_type": "display_data"
    },
    {
     "name": "stdout",
     "output_type": "stream",
     "text": [
      "Epoch 282: train=2.37075, val=2.3054, took 38.874 s\n",
      "  Validation Found 8252 of 10819, added 1330 (eff 76.27%) (0.665 FP/event)\n"
     ]
    },
    {
     "data": {
      "application/vnd.jupyter.widget-view+json": {
       "model_id": "",
       "version_major": 2,
       "version_minor": 0
      },
      "text/plain": [
       "HBox(children=(FloatProgress(value=0.0, description='Training', layout=Layout(flex='2'), max=1125.0, style=Pro…"
      ]
     },
     "metadata": {},
     "output_type": "display_data"
    },
    {
     "name": "stdout",
     "output_type": "stream",
     "text": [
      "Epoch 283: train=2.36817, val=2.30532, took 39.008 s\n",
      "  Validation Found 8252 of 10819, added 1322 (eff 76.27%) (0.661 FP/event)\n"
     ]
    },
    {
     "data": {
      "application/vnd.jupyter.widget-view+json": {
       "model_id": "",
       "version_major": 2,
       "version_minor": 0
      },
      "text/plain": [
       "HBox(children=(FloatProgress(value=0.0, description='Training', layout=Layout(flex='2'), max=1125.0, style=Pro…"
      ]
     },
     "metadata": {},
     "output_type": "display_data"
    },
    {
     "name": "stdout",
     "output_type": "stream",
     "text": [
      "Epoch 284: train=2.37457, val=2.30755, took 38.904 s\n",
      "  Validation Found 8266 of 10819, added 1307 (eff 76.40%) (0.653 FP/event)\n"
     ]
    },
    {
     "data": {
      "application/vnd.jupyter.widget-view+json": {
       "model_id": "",
       "version_major": 2,
       "version_minor": 0
      },
      "text/plain": [
       "HBox(children=(FloatProgress(value=0.0, description='Training', layout=Layout(flex='2'), max=1125.0, style=Pro…"
      ]
     },
     "metadata": {},
     "output_type": "display_data"
    },
    {
     "name": "stdout",
     "output_type": "stream",
     "text": [
      "Epoch 285: train=2.3722, val=2.30519, took 39.013 s\n",
      "  Validation Found 8261 of 10819, added 1321 (eff 76.36%) (0.66 FP/event)\n"
     ]
    },
    {
     "data": {
      "application/vnd.jupyter.widget-view+json": {
       "model_id": "",
       "version_major": 2,
       "version_minor": 0
      },
      "text/plain": [
       "HBox(children=(FloatProgress(value=0.0, description='Training', layout=Layout(flex='2'), max=1125.0, style=Pro…"
      ]
     },
     "metadata": {},
     "output_type": "display_data"
    },
    {
     "name": "stdout",
     "output_type": "stream",
     "text": [
      "Epoch 286: train=2.36661, val=2.30451, took 39.053 s\n",
      "  Validation Found 8248 of 10819, added 1324 (eff 76.24%) (0.662 FP/event)\n"
     ]
    },
    {
     "data": {
      "application/vnd.jupyter.widget-view+json": {
       "model_id": "",
       "version_major": 2,
       "version_minor": 0
      },
      "text/plain": [
       "HBox(children=(FloatProgress(value=0.0, description='Training', layout=Layout(flex='2'), max=1125.0, style=Pro…"
      ]
     },
     "metadata": {},
     "output_type": "display_data"
    },
    {
     "name": "stdout",
     "output_type": "stream",
     "text": [
      "Epoch 287: train=2.37013, val=2.30558, took 39.041 s\n",
      "  Validation Found 8252 of 10819, added 1325 (eff 76.27%) (0.662 FP/event)\n"
     ]
    },
    {
     "data": {
      "application/vnd.jupyter.widget-view+json": {
       "model_id": "",
       "version_major": 2,
       "version_minor": 0
      },
      "text/plain": [
       "HBox(children=(FloatProgress(value=0.0, description='Training', layout=Layout(flex='2'), max=1125.0, style=Pro…"
      ]
     },
     "metadata": {},
     "output_type": "display_data"
    },
    {
     "name": "stdout",
     "output_type": "stream",
     "text": [
      "Epoch 288: train=2.37035, val=2.30525, took 38.918 s\n",
      "  Validation Found 8243 of 10819, added 1326 (eff 76.19%) (0.663 FP/event)\n"
     ]
    },
    {
     "data": {
      "application/vnd.jupyter.widget-view+json": {
       "model_id": "",
       "version_major": 2,
       "version_minor": 0
      },
      "text/plain": [
       "HBox(children=(FloatProgress(value=0.0, description='Training', layout=Layout(flex='2'), max=1125.0, style=Pro…"
      ]
     },
     "metadata": {},
     "output_type": "display_data"
    },
    {
     "name": "stdout",
     "output_type": "stream",
     "text": [
      "Epoch 289: train=2.36802, val=2.30855, took 39.088 s\n",
      "  Validation Found 8244 of 10819, added 1324 (eff 76.20%) (0.662 FP/event)\n"
     ]
    },
    {
     "data": {
      "application/vnd.jupyter.widget-view+json": {
       "model_id": "",
       "version_major": 2,
       "version_minor": 0
      },
      "text/plain": [
       "HBox(children=(FloatProgress(value=0.0, description='Training', layout=Layout(flex='2'), max=1125.0, style=Pro…"
      ]
     },
     "metadata": {},
     "output_type": "display_data"
    },
    {
     "name": "stdout",
     "output_type": "stream",
     "text": [
      "Epoch 290: train=2.36802, val=2.30445, took 38.875 s\n",
      "  Validation Found 8250 of 10819, added 1324 (eff 76.25%) (0.662 FP/event)\n"
     ]
    },
    {
     "data": {
      "application/vnd.jupyter.widget-view+json": {
       "model_id": "",
       "version_major": 2,
       "version_minor": 0
      },
      "text/plain": [
       "HBox(children=(FloatProgress(value=0.0, description='Training', layout=Layout(flex='2'), max=1125.0, style=Pro…"
      ]
     },
     "metadata": {},
     "output_type": "display_data"
    },
    {
     "name": "stdout",
     "output_type": "stream",
     "text": [
      "Epoch 291: train=2.36801, val=2.30584, took 39.046 s\n",
      "  Validation Found 8250 of 10819, added 1330 (eff 76.25%) (0.665 FP/event)\n"
     ]
    },
    {
     "data": {
      "application/vnd.jupyter.widget-view+json": {
       "model_id": "",
       "version_major": 2,
       "version_minor": 0
      },
      "text/plain": [
       "HBox(children=(FloatProgress(value=0.0, description='Training', layout=Layout(flex='2'), max=1125.0, style=Pro…"
      ]
     },
     "metadata": {},
     "output_type": "display_data"
    },
    {
     "name": "stdout",
     "output_type": "stream",
     "text": [
      "Epoch 292: train=2.36829, val=2.30401, took 39.055 s\n",
      "  Validation Found 8256 of 10819, added 1321 (eff 76.31%) (0.66 FP/event)\n"
     ]
    },
    {
     "data": {
      "application/vnd.jupyter.widget-view+json": {
       "model_id": "",
       "version_major": 2,
       "version_minor": 0
      },
      "text/plain": [
       "HBox(children=(FloatProgress(value=0.0, description='Training', layout=Layout(flex='2'), max=1125.0, style=Pro…"
      ]
     },
     "metadata": {},
     "output_type": "display_data"
    },
    {
     "name": "stdout",
     "output_type": "stream",
     "text": [
      "Epoch 293: train=2.36812, val=2.30452, took 38.894 s\n",
      "  Validation Found 8259 of 10819, added 1315 (eff 76.34%) (0.657 FP/event)\n"
     ]
    },
    {
     "data": {
      "application/vnd.jupyter.widget-view+json": {
       "model_id": "",
       "version_major": 2,
       "version_minor": 0
      },
      "text/plain": [
       "HBox(children=(FloatProgress(value=0.0, description='Training', layout=Layout(flex='2'), max=1125.0, style=Pro…"
      ]
     },
     "metadata": {},
     "output_type": "display_data"
    },
    {
     "name": "stdout",
     "output_type": "stream",
     "text": [
      "Epoch 294: train=2.37362, val=2.30386, took 39.067 s\n",
      "  Validation Found 8256 of 10819, added 1309 (eff 76.31%) (0.654 FP/event)\n"
     ]
    },
    {
     "data": {
      "application/vnd.jupyter.widget-view+json": {
       "model_id": "",
       "version_major": 2,
       "version_minor": 0
      },
      "text/plain": [
       "HBox(children=(FloatProgress(value=0.0, description='Training', layout=Layout(flex='2'), max=1125.0, style=Pro…"
      ]
     },
     "metadata": {},
     "output_type": "display_data"
    },
    {
     "name": "stdout",
     "output_type": "stream",
     "text": [
      "Epoch 295: train=2.36838, val=2.3037, took 38.884 s\n",
      "  Validation Found 8256 of 10819, added 1323 (eff 76.31%) (0.661 FP/event)\n"
     ]
    },
    {
     "data": {
      "application/vnd.jupyter.widget-view+json": {
       "model_id": "",
       "version_major": 2,
       "version_minor": 0
      },
      "text/plain": [
       "HBox(children=(FloatProgress(value=0.0, description='Training', layout=Layout(flex='2'), max=1125.0, style=Pro…"
      ]
     },
     "metadata": {},
     "output_type": "display_data"
    },
    {
     "name": "stdout",
     "output_type": "stream",
     "text": [
      "Epoch 296: train=2.36722, val=2.30398, took 38.871 s\n",
      "  Validation Found 8243 of 10819, added 1332 (eff 76.19%) (0.666 FP/event)\n"
     ]
    },
    {
     "data": {
      "application/vnd.jupyter.widget-view+json": {
       "model_id": "",
       "version_major": 2,
       "version_minor": 0
      },
      "text/plain": [
       "HBox(children=(FloatProgress(value=0.0, description='Training', layout=Layout(flex='2'), max=1125.0, style=Pro…"
      ]
     },
     "metadata": {},
     "output_type": "display_data"
    },
    {
     "name": "stdout",
     "output_type": "stream",
     "text": [
      "Epoch 297: train=2.36689, val=2.3044, took 38.935 s\n",
      "  Validation Found 8254 of 10819, added 1323 (eff 76.29%) (0.661 FP/event)\n"
     ]
    },
    {
     "data": {
      "application/vnd.jupyter.widget-view+json": {
       "model_id": "",
       "version_major": 2,
       "version_minor": 0
      },
      "text/plain": [
       "HBox(children=(FloatProgress(value=0.0, description='Training', layout=Layout(flex='2'), max=1125.0, style=Pro…"
      ]
     },
     "metadata": {},
     "output_type": "display_data"
    },
    {
     "name": "stdout",
     "output_type": "stream",
     "text": [
      "Epoch 298: train=2.36622, val=2.30329, took 38.952 s\n",
      "  Validation Found 8257 of 10819, added 1319 (eff 76.32%) (0.659 FP/event)\n"
     ]
    },
    {
     "data": {
      "application/vnd.jupyter.widget-view+json": {
       "model_id": "",
       "version_major": 2,
       "version_minor": 0
      },
      "text/plain": [
       "HBox(children=(FloatProgress(value=0.0, description='Training', layout=Layout(flex='2'), max=1125.0, style=Pro…"
      ]
     },
     "metadata": {},
     "output_type": "display_data"
    },
    {
     "name": "stdout",
     "output_type": "stream",
     "text": [
      "Epoch 299: train=2.36899, val=2.3036, took 38.984 s\n",
      "  Validation Found 8255 of 10819, added 1323 (eff 76.30%) (0.661 FP/event)\n"
     ]
    },
    {
     "data": {
      "application/vnd.jupyter.widget-view+json": {
       "model_id": "",
       "version_major": 2,
       "version_minor": 0
      },
      "text/plain": [
       "HBox(children=(FloatProgress(value=0.0, description='Training', layout=Layout(flex='2'), max=1125.0, style=Pro…"
      ]
     },
     "metadata": {},
     "output_type": "display_data"
    },
    {
     "name": "stdout",
     "output_type": "stream",
     "text": [
      "Epoch 300: train=2.36659, val=2.30488, took 38.859 s\n",
      "  Validation Found 8262 of 10819, added 1309 (eff 76.37%) (0.654 FP/event)\n"
     ]
    },
    {
     "data": {
      "application/vnd.jupyter.widget-view+json": {
       "model_id": "",
       "version_major": 2,
       "version_minor": 0
      },
      "text/plain": [
       "HBox(children=(FloatProgress(value=0.0, description='Training', layout=Layout(flex='2'), max=1125.0, style=Pro…"
      ]
     },
     "metadata": {},
     "output_type": "display_data"
    },
    {
     "name": "stdout",
     "output_type": "stream",
     "text": [
      "Epoch 301: train=2.36874, val=2.30405, took 38.849 s\n",
      "  Validation Found 8245 of 10819, added 1323 (eff 76.21%) (0.661 FP/event)\n"
     ]
    },
    {
     "data": {
      "application/vnd.jupyter.widget-view+json": {
       "model_id": "",
       "version_major": 2,
       "version_minor": 0
      },
      "text/plain": [
       "HBox(children=(FloatProgress(value=0.0, description='Training', layout=Layout(flex='2'), max=1125.0, style=Pro…"
      ]
     },
     "metadata": {},
     "output_type": "display_data"
    },
    {
     "name": "stdout",
     "output_type": "stream",
     "text": [
      "Epoch 302: train=2.36647, val=2.30253, took 38.887 s\n",
      "  Validation Found 8248 of 10819, added 1316 (eff 76.24%) (0.658 FP/event)\n"
     ]
    },
    {
     "data": {
      "application/vnd.jupyter.widget-view+json": {
       "model_id": "",
       "version_major": 2,
       "version_minor": 0
      },
      "text/plain": [
       "HBox(children=(FloatProgress(value=0.0, description='Training', layout=Layout(flex='2'), max=1125.0, style=Pro…"
      ]
     },
     "metadata": {},
     "output_type": "display_data"
    },
    {
     "name": "stdout",
     "output_type": "stream",
     "text": [
      "Epoch 303: train=2.37043, val=2.30362, took 38.986 s\n",
      "  Validation Found 8244 of 10819, added 1322 (eff 76.20%) (0.661 FP/event)\n"
     ]
    },
    {
     "data": {
      "application/vnd.jupyter.widget-view+json": {
       "model_id": "",
       "version_major": 2,
       "version_minor": 0
      },
      "text/plain": [
       "HBox(children=(FloatProgress(value=0.0, description='Training', layout=Layout(flex='2'), max=1125.0, style=Pro…"
      ]
     },
     "metadata": {},
     "output_type": "display_data"
    },
    {
     "name": "stdout",
     "output_type": "stream",
     "text": [
      "Epoch 304: train=2.36604, val=2.30233, took 39.025 s\n",
      "  Validation Found 8262 of 10819, added 1310 (eff 76.37%) (0.655 FP/event)\n"
     ]
    },
    {
     "data": {
      "application/vnd.jupyter.widget-view+json": {
       "model_id": "",
       "version_major": 2,
       "version_minor": 0
      },
      "text/plain": [
       "HBox(children=(FloatProgress(value=0.0, description='Training', layout=Layout(flex='2'), max=1125.0, style=Pro…"
      ]
     },
     "metadata": {},
     "output_type": "display_data"
    },
    {
     "name": "stdout",
     "output_type": "stream",
     "text": [
      "Epoch 305: train=2.3664, val=2.30179, took 38.912 s\n",
      "  Validation Found 8263 of 10819, added 1312 (eff 76.37%) (0.656 FP/event)\n"
     ]
    },
    {
     "data": {
      "application/vnd.jupyter.widget-view+json": {
       "model_id": "",
       "version_major": 2,
       "version_minor": 0
      },
      "text/plain": [
       "HBox(children=(FloatProgress(value=0.0, description='Training', layout=Layout(flex='2'), max=1125.0, style=Pro…"
      ]
     },
     "metadata": {},
     "output_type": "display_data"
    },
    {
     "name": "stdout",
     "output_type": "stream",
     "text": [
      "Epoch 306: train=2.36287, val=2.30364, took 38.925 s\n",
      "  Validation Found 8260 of 10819, added 1311 (eff 76.35%) (0.655 FP/event)\n"
     ]
    },
    {
     "data": {
      "application/vnd.jupyter.widget-view+json": {
       "model_id": "",
       "version_major": 2,
       "version_minor": 0
      },
      "text/plain": [
       "HBox(children=(FloatProgress(value=0.0, description='Training', layout=Layout(flex='2'), max=1125.0, style=Pro…"
      ]
     },
     "metadata": {},
     "output_type": "display_data"
    },
    {
     "name": "stdout",
     "output_type": "stream",
     "text": [
      "Epoch 307: train=2.35919, val=2.30242, took 39.034 s\n",
      "  Validation Found 8248 of 10819, added 1320 (eff 76.24%) (0.66 FP/event)\n"
     ]
    },
    {
     "data": {
      "application/vnd.jupyter.widget-view+json": {
       "model_id": "",
       "version_major": 2,
       "version_minor": 0
      },
      "text/plain": [
       "HBox(children=(FloatProgress(value=0.0, description='Training', layout=Layout(flex='2'), max=1125.0, style=Pro…"
      ]
     },
     "metadata": {},
     "output_type": "display_data"
    },
    {
     "name": "stdout",
     "output_type": "stream",
     "text": [
      "Epoch 308: train=2.36595, val=2.303, took 38.999 s\n",
      "  Validation Found 8260 of 10819, added 1321 (eff 76.35%) (0.66 FP/event)\n"
     ]
    },
    {
     "data": {
      "application/vnd.jupyter.widget-view+json": {
       "model_id": "",
       "version_major": 2,
       "version_minor": 0
      },
      "text/plain": [
       "HBox(children=(FloatProgress(value=0.0, description='Training', layout=Layout(flex='2'), max=1125.0, style=Pro…"
      ]
     },
     "metadata": {},
     "output_type": "display_data"
    },
    {
     "name": "stdout",
     "output_type": "stream",
     "text": [
      "Epoch 309: train=2.36371, val=2.3024, took 38.963 s\n",
      "  Validation Found 8249 of 10819, added 1324 (eff 76.25%) (0.662 FP/event)\n"
     ]
    },
    {
     "data": {
      "application/vnd.jupyter.widget-view+json": {
       "model_id": "",
       "version_major": 2,
       "version_minor": 0
      },
      "text/plain": [
       "HBox(children=(FloatProgress(value=0.0, description='Training', layout=Layout(flex='2'), max=1125.0, style=Pro…"
      ]
     },
     "metadata": {},
     "output_type": "display_data"
    },
    {
     "name": "stdout",
     "output_type": "stream",
     "text": [
      "Epoch 310: train=2.36644, val=2.30309, took 38.788 s\n",
      "  Validation Found 8245 of 10819, added 1319 (eff 76.21%) (0.659 FP/event)\n"
     ]
    },
    {
     "data": {
      "application/vnd.jupyter.widget-view+json": {
       "model_id": "",
       "version_major": 2,
       "version_minor": 0
      },
      "text/plain": [
       "HBox(children=(FloatProgress(value=0.0, description='Training', layout=Layout(flex='2'), max=1125.0, style=Pro…"
      ]
     },
     "metadata": {},
     "output_type": "display_data"
    },
    {
     "name": "stdout",
     "output_type": "stream",
     "text": [
      "Epoch 311: train=2.36299, val=2.31024, took 38.899 s\n",
      "  Validation Found 8245 of 10819, added 1333 (eff 76.21%) (0.666 FP/event)\n"
     ]
    },
    {
     "data": {
      "application/vnd.jupyter.widget-view+json": {
       "model_id": "",
       "version_major": 2,
       "version_minor": 0
      },
      "text/plain": [
       "HBox(children=(FloatProgress(value=0.0, description='Training', layout=Layout(flex='2'), max=1125.0, style=Pro…"
      ]
     },
     "metadata": {},
     "output_type": "display_data"
    },
    {
     "name": "stdout",
     "output_type": "stream",
     "text": [
      "Epoch 312: train=2.36995, val=2.30207, took 38.976 s\n",
      "  Validation Found 8267 of 10819, added 1308 (eff 76.41%) (0.654 FP/event)\n"
     ]
    },
    {
     "data": {
      "application/vnd.jupyter.widget-view+json": {
       "model_id": "",
       "version_major": 2,
       "version_minor": 0
      },
      "text/plain": [
       "HBox(children=(FloatProgress(value=0.0, description='Training', layout=Layout(flex='2'), max=1125.0, style=Pro…"
      ]
     },
     "metadata": {},
     "output_type": "display_data"
    },
    {
     "name": "stdout",
     "output_type": "stream",
     "text": [
      "Epoch 313: train=2.36389, val=2.30552, took 38.989 s\n",
      "  Validation Found 8255 of 10819, added 1317 (eff 76.30%) (0.658 FP/event)\n"
     ]
    },
    {
     "data": {
      "application/vnd.jupyter.widget-view+json": {
       "model_id": "",
       "version_major": 2,
       "version_minor": 0
      },
      "text/plain": [
       "HBox(children=(FloatProgress(value=0.0, description='Training', layout=Layout(flex='2'), max=1125.0, style=Pro…"
      ]
     },
     "metadata": {},
     "output_type": "display_data"
    },
    {
     "name": "stdout",
     "output_type": "stream",
     "text": [
      "Epoch 314: train=2.36317, val=2.30218, took 38.992 s\n",
      "  Validation Found 8248 of 10819, added 1313 (eff 76.24%) (0.656 FP/event)\n"
     ]
    },
    {
     "data": {
      "application/vnd.jupyter.widget-view+json": {
       "model_id": "",
       "version_major": 2,
       "version_minor": 0
      },
      "text/plain": [
       "HBox(children=(FloatProgress(value=0.0, description='Training', layout=Layout(flex='2'), max=1125.0, style=Pro…"
      ]
     },
     "metadata": {},
     "output_type": "display_data"
    },
    {
     "name": "stdout",
     "output_type": "stream",
     "text": [
      "Epoch 315: train=2.36587, val=2.30413, took 39.075 s\n",
      "  Validation Found 8256 of 10819, added 1309 (eff 76.31%) (0.654 FP/event)\n"
     ]
    },
    {
     "data": {
      "application/vnd.jupyter.widget-view+json": {
       "model_id": "",
       "version_major": 2,
       "version_minor": 0
      },
      "text/plain": [
       "HBox(children=(FloatProgress(value=0.0, description='Training', layout=Layout(flex='2'), max=1125.0, style=Pro…"
      ]
     },
     "metadata": {},
     "output_type": "display_data"
    },
    {
     "name": "stdout",
     "output_type": "stream",
     "text": [
      "Epoch 316: train=2.3613, val=2.3028, took 39.081 s\n",
      "  Validation Found 8258 of 10819, added 1310 (eff 76.33%) (0.655 FP/event)\n"
     ]
    },
    {
     "data": {
      "application/vnd.jupyter.widget-view+json": {
       "model_id": "",
       "version_major": 2,
       "version_minor": 0
      },
      "text/plain": [
       "HBox(children=(FloatProgress(value=0.0, description='Training', layout=Layout(flex='2'), max=1125.0, style=Pro…"
      ]
     },
     "metadata": {},
     "output_type": "display_data"
    },
    {
     "name": "stdout",
     "output_type": "stream",
     "text": [
      "Epoch 317: train=2.36995, val=2.30289, took 39.081 s\n",
      "  Validation Found 8263 of 10819, added 1309 (eff 76.37%) (0.654 FP/event)\n"
     ]
    },
    {
     "data": {
      "application/vnd.jupyter.widget-view+json": {
       "model_id": "",
       "version_major": 2,
       "version_minor": 0
      },
      "text/plain": [
       "HBox(children=(FloatProgress(value=0.0, description='Training', layout=Layout(flex='2'), max=1125.0, style=Pro…"
      ]
     },
     "metadata": {},
     "output_type": "display_data"
    },
    {
     "name": "stdout",
     "output_type": "stream",
     "text": [
      "Epoch 318: train=2.36567, val=2.30105, took 39.113 s\n",
      "  Validation Found 8260 of 10819, added 1314 (eff 76.35%) (0.657 FP/event)\n"
     ]
    },
    {
     "data": {
      "application/vnd.jupyter.widget-view+json": {
       "model_id": "",
       "version_major": 2,
       "version_minor": 0
      },
      "text/plain": [
       "HBox(children=(FloatProgress(value=0.0, description='Training', layout=Layout(flex='2'), max=1125.0, style=Pro…"
      ]
     },
     "metadata": {},
     "output_type": "display_data"
    },
    {
     "name": "stdout",
     "output_type": "stream",
     "text": [
      "Epoch 319: train=2.36594, val=2.30258, took 39.03 s\n",
      "  Validation Found 8251 of 10819, added 1325 (eff 76.26%) (0.662 FP/event)\n"
     ]
    },
    {
     "data": {
      "application/vnd.jupyter.widget-view+json": {
       "model_id": "",
       "version_major": 2,
       "version_minor": 0
      },
      "text/plain": [
       "HBox(children=(FloatProgress(value=0.0, description='Training', layout=Layout(flex='2'), max=1125.0, style=Pro…"
      ]
     },
     "metadata": {},
     "output_type": "display_data"
    },
    {
     "name": "stdout",
     "output_type": "stream",
     "text": [
      "Epoch 320: train=2.36199, val=2.30303, took 38.954 s\n",
      "  Validation Found 8247 of 10819, added 1306 (eff 76.23%) (0.653 FP/event)\n"
     ]
    },
    {
     "data": {
      "application/vnd.jupyter.widget-view+json": {
       "model_id": "",
       "version_major": 2,
       "version_minor": 0
      },
      "text/plain": [
       "HBox(children=(FloatProgress(value=0.0, description='Training', layout=Layout(flex='2'), max=1125.0, style=Pro…"
      ]
     },
     "metadata": {},
     "output_type": "display_data"
    },
    {
     "name": "stdout",
     "output_type": "stream",
     "text": [
      "Epoch 321: train=2.37143, val=2.30231, took 38.954 s\n",
      "  Validation Found 8265 of 10819, added 1318 (eff 76.39%) (0.659 FP/event)\n"
     ]
    },
    {
     "data": {
      "application/vnd.jupyter.widget-view+json": {
       "model_id": "",
       "version_major": 2,
       "version_minor": 0
      },
      "text/plain": [
       "HBox(children=(FloatProgress(value=0.0, description='Training', layout=Layout(flex='2'), max=1125.0, style=Pro…"
      ]
     },
     "metadata": {},
     "output_type": "display_data"
    },
    {
     "name": "stdout",
     "output_type": "stream",
     "text": [
      "Epoch 322: train=2.36039, val=2.30162, took 38.936 s\n",
      "  Validation Found 8254 of 10819, added 1307 (eff 76.29%) (0.653 FP/event)\n"
     ]
    },
    {
     "data": {
      "application/vnd.jupyter.widget-view+json": {
       "model_id": "",
       "version_major": 2,
       "version_minor": 0
      },
      "text/plain": [
       "HBox(children=(FloatProgress(value=0.0, description='Training', layout=Layout(flex='2'), max=1125.0, style=Pro…"
      ]
     },
     "metadata": {},
     "output_type": "display_data"
    },
    {
     "name": "stdout",
     "output_type": "stream",
     "text": [
      "Epoch 323: train=2.36718, val=2.30245, took 38.911 s\n",
      "  Validation Found 8262 of 10819, added 1317 (eff 76.37%) (0.658 FP/event)\n"
     ]
    },
    {
     "data": {
      "application/vnd.jupyter.widget-view+json": {
       "model_id": "",
       "version_major": 2,
       "version_minor": 0
      },
      "text/plain": [
       "HBox(children=(FloatProgress(value=0.0, description='Training', layout=Layout(flex='2'), max=1125.0, style=Pro…"
      ]
     },
     "metadata": {},
     "output_type": "display_data"
    },
    {
     "name": "stdout",
     "output_type": "stream",
     "text": [
      "Epoch 324: train=2.36352, val=2.30064, took 38.938 s\n",
      "  Validation Found 8245 of 10819, added 1309 (eff 76.21%) (0.654 FP/event)\n"
     ]
    },
    {
     "data": {
      "application/vnd.jupyter.widget-view+json": {
       "model_id": "",
       "version_major": 2,
       "version_minor": 0
      },
      "text/plain": [
       "HBox(children=(FloatProgress(value=0.0, description='Training', layout=Layout(flex='2'), max=1125.0, style=Pro…"
      ]
     },
     "metadata": {},
     "output_type": "display_data"
    },
    {
     "name": "stdout",
     "output_type": "stream",
     "text": [
      "Epoch 325: train=2.36042, val=2.29987, took 38.823 s\n",
      "  Validation Found 8261 of 10819, added 1308 (eff 76.36%) (0.654 FP/event)\n"
     ]
    },
    {
     "data": {
      "application/vnd.jupyter.widget-view+json": {
       "model_id": "",
       "version_major": 2,
       "version_minor": 0
      },
      "text/plain": [
       "HBox(children=(FloatProgress(value=0.0, description='Training', layout=Layout(flex='2'), max=1125.0, style=Pro…"
      ]
     },
     "metadata": {},
     "output_type": "display_data"
    },
    {
     "name": "stdout",
     "output_type": "stream",
     "text": [
      "Epoch 326: train=2.36624, val=2.30019, took 38.975 s\n",
      "  Validation Found 8252 of 10819, added 1314 (eff 76.27%) (0.657 FP/event)\n"
     ]
    },
    {
     "data": {
      "application/vnd.jupyter.widget-view+json": {
       "model_id": "",
       "version_major": 2,
       "version_minor": 0
      },
      "text/plain": [
       "HBox(children=(FloatProgress(value=0.0, description='Training', layout=Layout(flex='2'), max=1125.0, style=Pro…"
      ]
     },
     "metadata": {},
     "output_type": "display_data"
    },
    {
     "name": "stdout",
     "output_type": "stream",
     "text": [
      "Epoch 327: train=2.36576, val=2.30097, took 38.991 s\n",
      "  Validation Found 8241 of 10819, added 1317 (eff 76.17%) (0.658 FP/event)\n"
     ]
    },
    {
     "data": {
      "application/vnd.jupyter.widget-view+json": {
       "model_id": "",
       "version_major": 2,
       "version_minor": 0
      },
      "text/plain": [
       "HBox(children=(FloatProgress(value=0.0, description='Training', layout=Layout(flex='2'), max=1125.0, style=Pro…"
      ]
     },
     "metadata": {},
     "output_type": "display_data"
    },
    {
     "name": "stdout",
     "output_type": "stream",
     "text": [
      "Epoch 328: train=2.36314, val=2.30051, took 38.961 s\n",
      "  Validation Found 8245 of 10819, added 1306 (eff 76.21%) (0.653 FP/event)\n"
     ]
    },
    {
     "data": {
      "application/vnd.jupyter.widget-view+json": {
       "model_id": "",
       "version_major": 2,
       "version_minor": 0
      },
      "text/plain": [
       "HBox(children=(FloatProgress(value=0.0, description='Training', layout=Layout(flex='2'), max=1125.0, style=Pro…"
      ]
     },
     "metadata": {},
     "output_type": "display_data"
    },
    {
     "name": "stdout",
     "output_type": "stream",
     "text": [
      "Epoch 329: train=2.3597, val=2.3009, took 39.025 s\n",
      "  Validation Found 8267 of 10819, added 1314 (eff 76.41%) (0.657 FP/event)\n"
     ]
    },
    {
     "data": {
      "application/vnd.jupyter.widget-view+json": {
       "model_id": "",
       "version_major": 2,
       "version_minor": 0
      },
      "text/plain": [
       "HBox(children=(FloatProgress(value=0.0, description='Training', layout=Layout(flex='2'), max=1125.0, style=Pro…"
      ]
     },
     "metadata": {},
     "output_type": "display_data"
    },
    {
     "name": "stdout",
     "output_type": "stream",
     "text": [
      "Epoch 330: train=2.36058, val=2.30044, took 38.959 s\n",
      "  Validation Found 8251 of 10819, added 1310 (eff 76.26%) (0.655 FP/event)\n"
     ]
    },
    {
     "data": {
      "application/vnd.jupyter.widget-view+json": {
       "model_id": "",
       "version_major": 2,
       "version_minor": 0
      },
      "text/plain": [
       "HBox(children=(FloatProgress(value=0.0, description='Training', layout=Layout(flex='2'), max=1125.0, style=Pro…"
      ]
     },
     "metadata": {},
     "output_type": "display_data"
    },
    {
     "name": "stdout",
     "output_type": "stream",
     "text": [
      "Epoch 331: train=2.36161, val=2.29992, took 39.054 s\n",
      "  Validation Found 8258 of 10819, added 1306 (eff 76.33%) (0.653 FP/event)\n"
     ]
    },
    {
     "data": {
      "application/vnd.jupyter.widget-view+json": {
       "model_id": "",
       "version_major": 2,
       "version_minor": 0
      },
      "text/plain": [
       "HBox(children=(FloatProgress(value=0.0, description='Training', layout=Layout(flex='2'), max=1125.0, style=Pro…"
      ]
     },
     "metadata": {},
     "output_type": "display_data"
    },
    {
     "name": "stdout",
     "output_type": "stream",
     "text": [
      "Epoch 332: train=2.3573, val=2.29977, took 38.912 s\n",
      "  Validation Found 8263 of 10819, added 1309 (eff 76.37%) (0.654 FP/event)\n"
     ]
    },
    {
     "data": {
      "application/vnd.jupyter.widget-view+json": {
       "model_id": "",
       "version_major": 2,
       "version_minor": 0
      },
      "text/plain": [
       "HBox(children=(FloatProgress(value=0.0, description='Training', layout=Layout(flex='2'), max=1125.0, style=Pro…"
      ]
     },
     "metadata": {},
     "output_type": "display_data"
    },
    {
     "name": "stdout",
     "output_type": "stream",
     "text": [
      "Epoch 333: train=2.36099, val=2.29997, took 38.932 s\n",
      "  Validation Found 8259 of 10819, added 1312 (eff 76.34%) (0.656 FP/event)\n"
     ]
    },
    {
     "data": {
      "application/vnd.jupyter.widget-view+json": {
       "model_id": "",
       "version_major": 2,
       "version_minor": 0
      },
      "text/plain": [
       "HBox(children=(FloatProgress(value=0.0, description='Training', layout=Layout(flex='2'), max=1125.0, style=Pro…"
      ]
     },
     "metadata": {},
     "output_type": "display_data"
    },
    {
     "name": "stdout",
     "output_type": "stream",
     "text": [
      "Epoch 334: train=2.36518, val=2.29941, took 39.049 s\n",
      "  Validation Found 8254 of 10819, added 1310 (eff 76.29%) (0.655 FP/event)\n"
     ]
    },
    {
     "data": {
      "application/vnd.jupyter.widget-view+json": {
       "model_id": "",
       "version_major": 2,
       "version_minor": 0
      },
      "text/plain": [
       "HBox(children=(FloatProgress(value=0.0, description='Training', layout=Layout(flex='2'), max=1125.0, style=Pro…"
      ]
     },
     "metadata": {},
     "output_type": "display_data"
    },
    {
     "name": "stdout",
     "output_type": "stream",
     "text": [
      "Epoch 335: train=2.36297, val=2.30136, took 38.867 s\n",
      "  Validation Found 8244 of 10819, added 1307 (eff 76.20%) (0.653 FP/event)\n"
     ]
    },
    {
     "data": {
      "application/vnd.jupyter.widget-view+json": {
       "model_id": "",
       "version_major": 2,
       "version_minor": 0
      },
      "text/plain": [
       "HBox(children=(FloatProgress(value=0.0, description='Training', layout=Layout(flex='2'), max=1125.0, style=Pro…"
      ]
     },
     "metadata": {},
     "output_type": "display_data"
    },
    {
     "name": "stdout",
     "output_type": "stream",
     "text": [
      "Epoch 336: train=2.35914, val=2.30062, took 39.017 s\n",
      "  Validation Found 8265 of 10819, added 1309 (eff 76.39%) (0.654 FP/event)\n"
     ]
    },
    {
     "data": {
      "application/vnd.jupyter.widget-view+json": {
       "model_id": "",
       "version_major": 2,
       "version_minor": 0
      },
      "text/plain": [
       "HBox(children=(FloatProgress(value=0.0, description='Training', layout=Layout(flex='2'), max=1125.0, style=Pro…"
      ]
     },
     "metadata": {},
     "output_type": "display_data"
    },
    {
     "name": "stdout",
     "output_type": "stream",
     "text": [
      "Epoch 337: train=2.36035, val=2.2994, took 38.905 s\n",
      "  Validation Found 8253 of 10819, added 1302 (eff 76.28%) (0.651 FP/event)\n"
     ]
    },
    {
     "data": {
      "application/vnd.jupyter.widget-view+json": {
       "model_id": "",
       "version_major": 2,
       "version_minor": 0
      },
      "text/plain": [
       "HBox(children=(FloatProgress(value=0.0, description='Training', layout=Layout(flex='2'), max=1125.0, style=Pro…"
      ]
     },
     "metadata": {},
     "output_type": "display_data"
    },
    {
     "name": "stdout",
     "output_type": "stream",
     "text": [
      "Epoch 338: train=2.36255, val=2.30072, took 38.878 s\n",
      "  Validation Found 8247 of 10819, added 1319 (eff 76.23%) (0.659 FP/event)\n"
     ]
    },
    {
     "data": {
      "application/vnd.jupyter.widget-view+json": {
       "model_id": "",
       "version_major": 2,
       "version_minor": 0
      },
      "text/plain": [
       "HBox(children=(FloatProgress(value=0.0, description='Training', layout=Layout(flex='2'), max=1125.0, style=Pro…"
      ]
     },
     "metadata": {},
     "output_type": "display_data"
    },
    {
     "name": "stdout",
     "output_type": "stream",
     "text": [
      "Epoch 339: train=2.36204, val=2.29942, took 38.954 s\n",
      "  Validation Found 8258 of 10819, added 1310 (eff 76.33%) (0.655 FP/event)\n"
     ]
    },
    {
     "data": {
      "application/vnd.jupyter.widget-view+json": {
       "model_id": "",
       "version_major": 2,
       "version_minor": 0
      },
      "text/plain": [
       "HBox(children=(FloatProgress(value=0.0, description='Training', layout=Layout(flex='2'), max=1125.0, style=Pro…"
      ]
     },
     "metadata": {},
     "output_type": "display_data"
    },
    {
     "name": "stdout",
     "output_type": "stream",
     "text": [
      "Epoch 340: train=2.36294, val=2.29938, took 39.022 s\n",
      "  Validation Found 8265 of 10819, added 1308 (eff 76.39%) (0.654 FP/event)\n"
     ]
    },
    {
     "data": {
      "application/vnd.jupyter.widget-view+json": {
       "model_id": "",
       "version_major": 2,
       "version_minor": 0
      },
      "text/plain": [
       "HBox(children=(FloatProgress(value=0.0, description='Training', layout=Layout(flex='2'), max=1125.0, style=Pro…"
      ]
     },
     "metadata": {},
     "output_type": "display_data"
    },
    {
     "name": "stdout",
     "output_type": "stream",
     "text": [
      "Epoch 341: train=2.35943, val=2.30005, took 38.86 s\n",
      "  Validation Found 8260 of 10819, added 1318 (eff 76.35%) (0.659 FP/event)\n"
     ]
    },
    {
     "data": {
      "application/vnd.jupyter.widget-view+json": {
       "model_id": "",
       "version_major": 2,
       "version_minor": 0
      },
      "text/plain": [
       "HBox(children=(FloatProgress(value=0.0, description='Training', layout=Layout(flex='2'), max=1125.0, style=Pro…"
      ]
     },
     "metadata": {},
     "output_type": "display_data"
    },
    {
     "name": "stdout",
     "output_type": "stream",
     "text": [
      "Epoch 342: train=2.36096, val=2.29917, took 38.981 s\n",
      "  Validation Found 8259 of 10819, added 1308 (eff 76.34%) (0.654 FP/event)\n"
     ]
    },
    {
     "data": {
      "application/vnd.jupyter.widget-view+json": {
       "model_id": "",
       "version_major": 2,
       "version_minor": 0
      },
      "text/plain": [
       "HBox(children=(FloatProgress(value=0.0, description='Training', layout=Layout(flex='2'), max=1125.0, style=Pro…"
      ]
     },
     "metadata": {},
     "output_type": "display_data"
    },
    {
     "name": "stdout",
     "output_type": "stream",
     "text": [
      "Epoch 343: train=2.36136, val=2.29908, took 38.826 s\n",
      "  Validation Found 8263 of 10819, added 1300 (eff 76.37%) (0.65 FP/event)\n"
     ]
    },
    {
     "data": {
      "application/vnd.jupyter.widget-view+json": {
       "model_id": "",
       "version_major": 2,
       "version_minor": 0
      },
      "text/plain": [
       "HBox(children=(FloatProgress(value=0.0, description='Training', layout=Layout(flex='2'), max=1125.0, style=Pro…"
      ]
     },
     "metadata": {},
     "output_type": "display_data"
    },
    {
     "name": "stdout",
     "output_type": "stream",
     "text": [
      "Epoch 344: train=2.36157, val=2.29918, took 39.01 s\n",
      "  Validation Found 8254 of 10819, added 1310 (eff 76.29%) (0.655 FP/event)\n"
     ]
    },
    {
     "data": {
      "application/vnd.jupyter.widget-view+json": {
       "model_id": "",
       "version_major": 2,
       "version_minor": 0
      },
      "text/plain": [
       "HBox(children=(FloatProgress(value=0.0, description='Training', layout=Layout(flex='2'), max=1125.0, style=Pro…"
      ]
     },
     "metadata": {},
     "output_type": "display_data"
    },
    {
     "name": "stdout",
     "output_type": "stream",
     "text": [
      "Epoch 345: train=2.36139, val=2.3029, took 38.825 s\n",
      "  Validation Found 8266 of 10819, added 1311 (eff 76.40%) (0.655 FP/event)\n"
     ]
    },
    {
     "data": {
      "application/vnd.jupyter.widget-view+json": {
       "model_id": "",
       "version_major": 2,
       "version_minor": 0
      },
      "text/plain": [
       "HBox(children=(FloatProgress(value=0.0, description='Training', layout=Layout(flex='2'), max=1125.0, style=Pro…"
      ]
     },
     "metadata": {},
     "output_type": "display_data"
    },
    {
     "name": "stdout",
     "output_type": "stream",
     "text": [
      "Epoch 346: train=2.36254, val=2.29959, took 38.93 s\n",
      "  Validation Found 8260 of 10819, added 1310 (eff 76.35%) (0.655 FP/event)\n"
     ]
    },
    {
     "data": {
      "application/vnd.jupyter.widget-view+json": {
       "model_id": "",
       "version_major": 2,
       "version_minor": 0
      },
      "text/plain": [
       "HBox(children=(FloatProgress(value=0.0, description='Training', layout=Layout(flex='2'), max=1125.0, style=Pro…"
      ]
     },
     "metadata": {},
     "output_type": "display_data"
    },
    {
     "name": "stdout",
     "output_type": "stream",
     "text": [
      "Epoch 347: train=2.3616, val=2.2993, took 39.053 s\n",
      "  Validation Found 8268 of 10819, added 1310 (eff 76.42%) (0.655 FP/event)\n"
     ]
    },
    {
     "data": {
      "application/vnd.jupyter.widget-view+json": {
       "model_id": "",
       "version_major": 2,
       "version_minor": 0
      },
      "text/plain": [
       "HBox(children=(FloatProgress(value=0.0, description='Training', layout=Layout(flex='2'), max=1125.0, style=Pro…"
      ]
     },
     "metadata": {},
     "output_type": "display_data"
    },
    {
     "name": "stdout",
     "output_type": "stream",
     "text": [
      "Epoch 348: train=2.3612, val=2.29955, took 38.97 s\n",
      "  Validation Found 8247 of 10819, added 1310 (eff 76.23%) (0.655 FP/event)\n"
     ]
    },
    {
     "data": {
      "application/vnd.jupyter.widget-view+json": {
       "model_id": "",
       "version_major": 2,
       "version_minor": 0
      },
      "text/plain": [
       "HBox(children=(FloatProgress(value=0.0, description='Training', layout=Layout(flex='2'), max=1125.0, style=Pro…"
      ]
     },
     "metadata": {},
     "output_type": "display_data"
    },
    {
     "name": "stdout",
     "output_type": "stream",
     "text": [
      "Epoch 349: train=2.36227, val=2.29876, took 38.833 s\n",
      "  Validation Found 8252 of 10819, added 1310 (eff 76.27%) (0.655 FP/event)\n"
     ]
    },
    {
     "data": {
      "application/vnd.jupyter.widget-view+json": {
       "model_id": "",
       "version_major": 2,
       "version_minor": 0
      },
      "text/plain": [
       "HBox(children=(FloatProgress(value=0.0, description='Training', layout=Layout(flex='2'), max=1125.0, style=Pro…"
      ]
     },
     "metadata": {},
     "output_type": "display_data"
    },
    {
     "name": "stdout",
     "output_type": "stream",
     "text": [
      "Epoch 350: train=2.36387, val=2.29744, took 38.947 s\n",
      "  Validation Found 8259 of 10819, added 1309 (eff 76.34%) (0.654 FP/event)\n"
     ]
    },
    {
     "data": {
      "application/vnd.jupyter.widget-view+json": {
       "model_id": "",
       "version_major": 2,
       "version_minor": 0
      },
      "text/plain": [
       "HBox(children=(FloatProgress(value=0.0, description='Training', layout=Layout(flex='2'), max=1125.0, style=Pro…"
      ]
     },
     "metadata": {},
     "output_type": "display_data"
    },
    {
     "name": "stdout",
     "output_type": "stream",
     "text": [
      "Epoch 351: train=2.36554, val=2.29875, took 38.974 s\n",
      "  Validation Found 8252 of 10819, added 1313 (eff 76.27%) (0.656 FP/event)\n"
     ]
    },
    {
     "data": {
      "application/vnd.jupyter.widget-view+json": {
       "model_id": "",
       "version_major": 2,
       "version_minor": 0
      },
      "text/plain": [
       "HBox(children=(FloatProgress(value=0.0, description='Training', layout=Layout(flex='2'), max=1125.0, style=Pro…"
      ]
     },
     "metadata": {},
     "output_type": "display_data"
    },
    {
     "name": "stdout",
     "output_type": "stream",
     "text": [
      "Epoch 352: train=2.35975, val=2.29786, took 38.842 s\n",
      "  Validation Found 8267 of 10819, added 1306 (eff 76.41%) (0.653 FP/event)\n"
     ]
    },
    {
     "data": {
      "application/vnd.jupyter.widget-view+json": {
       "model_id": "",
       "version_major": 2,
       "version_minor": 0
      },
      "text/plain": [
       "HBox(children=(FloatProgress(value=0.0, description='Training', layout=Layout(flex='2'), max=1125.0, style=Pro…"
      ]
     },
     "metadata": {},
     "output_type": "display_data"
    },
    {
     "name": "stdout",
     "output_type": "stream",
     "text": [
      "Epoch 353: train=2.35742, val=2.30187, took 39.095 s\n",
      "  Validation Found 8252 of 10819, added 1310 (eff 76.27%) (0.655 FP/event)\n"
     ]
    },
    {
     "data": {
      "application/vnd.jupyter.widget-view+json": {
       "model_id": "",
       "version_major": 2,
       "version_minor": 0
      },
      "text/plain": [
       "HBox(children=(FloatProgress(value=0.0, description='Training', layout=Layout(flex='2'), max=1125.0, style=Pro…"
      ]
     },
     "metadata": {},
     "output_type": "display_data"
    },
    {
     "name": "stdout",
     "output_type": "stream",
     "text": [
      "Epoch 354: train=2.35831, val=2.29795, took 39.152 s\n",
      "  Validation Found 8254 of 10819, added 1304 (eff 76.29%) (0.652 FP/event)\n"
     ]
    },
    {
     "data": {
      "application/vnd.jupyter.widget-view+json": {
       "model_id": "",
       "version_major": 2,
       "version_minor": 0
      },
      "text/plain": [
       "HBox(children=(FloatProgress(value=0.0, description='Training', layout=Layout(flex='2'), max=1125.0, style=Pro…"
      ]
     },
     "metadata": {},
     "output_type": "display_data"
    },
    {
     "name": "stdout",
     "output_type": "stream",
     "text": [
      "Epoch 355: train=2.36109, val=2.29748, took 39.24 s\n",
      "  Validation Found 8260 of 10819, added 1309 (eff 76.35%) (0.654 FP/event)\n"
     ]
    },
    {
     "data": {
      "application/vnd.jupyter.widget-view+json": {
       "model_id": "",
       "version_major": 2,
       "version_minor": 0
      },
      "text/plain": [
       "HBox(children=(FloatProgress(value=0.0, description='Training', layout=Layout(flex='2'), max=1125.0, style=Pro…"
      ]
     },
     "metadata": {},
     "output_type": "display_data"
    },
    {
     "name": "stdout",
     "output_type": "stream",
     "text": [
      "Epoch 356: train=2.35864, val=2.29757, took 39.031 s\n",
      "  Validation Found 8255 of 10819, added 1311 (eff 76.30%) (0.655 FP/event)\n"
     ]
    },
    {
     "data": {
      "application/vnd.jupyter.widget-view+json": {
       "model_id": "",
       "version_major": 2,
       "version_minor": 0
      },
      "text/plain": [
       "HBox(children=(FloatProgress(value=0.0, description='Training', layout=Layout(flex='2'), max=1125.0, style=Pro…"
      ]
     },
     "metadata": {},
     "output_type": "display_data"
    },
    {
     "name": "stdout",
     "output_type": "stream",
     "text": [
      "Epoch 357: train=2.35603, val=2.29702, took 38.922 s\n",
      "  Validation Found 8254 of 10819, added 1310 (eff 76.29%) (0.655 FP/event)\n"
     ]
    },
    {
     "data": {
      "application/vnd.jupyter.widget-view+json": {
       "model_id": "",
       "version_major": 2,
       "version_minor": 0
      },
      "text/plain": [
       "HBox(children=(FloatProgress(value=0.0, description='Training', layout=Layout(flex='2'), max=1125.0, style=Pro…"
      ]
     },
     "metadata": {},
     "output_type": "display_data"
    },
    {
     "name": "stdout",
     "output_type": "stream",
     "text": [
      "Epoch 358: train=2.35909, val=2.29827, took 38.975 s\n",
      "  Validation Found 8249 of 10819, added 1312 (eff 76.25%) (0.656 FP/event)\n"
     ]
    },
    {
     "data": {
      "application/vnd.jupyter.widget-view+json": {
       "model_id": "",
       "version_major": 2,
       "version_minor": 0
      },
      "text/plain": [
       "HBox(children=(FloatProgress(value=0.0, description='Training', layout=Layout(flex='2'), max=1125.0, style=Pro…"
      ]
     },
     "metadata": {},
     "output_type": "display_data"
    },
    {
     "name": "stdout",
     "output_type": "stream",
     "text": [
      "Epoch 359: train=2.35772, val=2.2989, took 38.859 s\n",
      "  Validation Found 8256 of 10819, added 1306 (eff 76.31%) (0.653 FP/event)\n"
     ]
    },
    {
     "data": {
      "application/vnd.jupyter.widget-view+json": {
       "model_id": "",
       "version_major": 2,
       "version_minor": 0
      },
      "text/plain": [
       "HBox(children=(FloatProgress(value=0.0, description='Training', layout=Layout(flex='2'), max=1125.0, style=Pro…"
      ]
     },
     "metadata": {},
     "output_type": "display_data"
    },
    {
     "name": "stdout",
     "output_type": "stream",
     "text": [
      "Epoch 360: train=2.36255, val=2.29848, took 39.134 s\n",
      "  Validation Found 8260 of 10819, added 1316 (eff 76.35%) (0.658 FP/event)\n"
     ]
    },
    {
     "data": {
      "application/vnd.jupyter.widget-view+json": {
       "model_id": "",
       "version_major": 2,
       "version_minor": 0
      },
      "text/plain": [
       "HBox(children=(FloatProgress(value=0.0, description='Training', layout=Layout(flex='2'), max=1125.0, style=Pro…"
      ]
     },
     "metadata": {},
     "output_type": "display_data"
    },
    {
     "name": "stdout",
     "output_type": "stream",
     "text": [
      "Epoch 361: train=2.35523, val=2.29717, took 39.215 s\n",
      "  Validation Found 8252 of 10819, added 1312 (eff 76.27%) (0.656 FP/event)\n"
     ]
    },
    {
     "data": {
      "application/vnd.jupyter.widget-view+json": {
       "model_id": "",
       "version_major": 2,
       "version_minor": 0
      },
      "text/plain": [
       "HBox(children=(FloatProgress(value=0.0, description='Training', layout=Layout(flex='2'), max=1125.0, style=Pro…"
      ]
     },
     "metadata": {},
     "output_type": "display_data"
    },
    {
     "name": "stdout",
     "output_type": "stream",
     "text": [
      "Epoch 362: train=2.35434, val=2.2968, took 39.392 s\n",
      "  Validation Found 8261 of 10819, added 1317 (eff 76.36%) (0.658 FP/event)\n"
     ]
    },
    {
     "data": {
      "application/vnd.jupyter.widget-view+json": {
       "model_id": "",
       "version_major": 2,
       "version_minor": 0
      },
      "text/plain": [
       "HBox(children=(FloatProgress(value=0.0, description='Training', layout=Layout(flex='2'), max=1125.0, style=Pro…"
      ]
     },
     "metadata": {},
     "output_type": "display_data"
    },
    {
     "name": "stdout",
     "output_type": "stream",
     "text": [
      "Epoch 363: train=2.3619, val=2.29851, took 39.445 s\n",
      "  Validation Found 8254 of 10819, added 1310 (eff 76.29%) (0.655 FP/event)\n"
     ]
    },
    {
     "data": {
      "application/vnd.jupyter.widget-view+json": {
       "model_id": "",
       "version_major": 2,
       "version_minor": 0
      },
      "text/plain": [
       "HBox(children=(FloatProgress(value=0.0, description='Training', layout=Layout(flex='2'), max=1125.0, style=Pro…"
      ]
     },
     "metadata": {},
     "output_type": "display_data"
    },
    {
     "name": "stdout",
     "output_type": "stream",
     "text": [
      "Epoch 364: train=2.35724, val=2.29965, took 39.416 s\n",
      "  Validation Found 8254 of 10819, added 1317 (eff 76.29%) (0.658 FP/event)\n"
     ]
    },
    {
     "data": {
      "application/vnd.jupyter.widget-view+json": {
       "model_id": "",
       "version_major": 2,
       "version_minor": 0
      },
      "text/plain": [
       "HBox(children=(FloatProgress(value=0.0, description='Training', layout=Layout(flex='2'), max=1125.0, style=Pro…"
      ]
     },
     "metadata": {},
     "output_type": "display_data"
    },
    {
     "name": "stdout",
     "output_type": "stream",
     "text": [
      "Epoch 365: train=2.35897, val=2.30071, took 39.341 s\n",
      "  Validation Found 8267 of 10819, added 1309 (eff 76.41%) (0.654 FP/event)\n"
     ]
    },
    {
     "data": {
      "application/vnd.jupyter.widget-view+json": {
       "model_id": "",
       "version_major": 2,
       "version_minor": 0
      },
      "text/plain": [
       "HBox(children=(FloatProgress(value=0.0, description='Training', layout=Layout(flex='2'), max=1125.0, style=Pro…"
      ]
     },
     "metadata": {},
     "output_type": "display_data"
    },
    {
     "name": "stdout",
     "output_type": "stream",
     "text": [
      "Epoch 366: train=2.35249, val=2.29696, took 39.315 s\n",
      "  Validation Found 8264 of 10819, added 1306 (eff 76.38%) (0.653 FP/event)\n"
     ]
    },
    {
     "data": {
      "application/vnd.jupyter.widget-view+json": {
       "model_id": "",
       "version_major": 2,
       "version_minor": 0
      },
      "text/plain": [
       "HBox(children=(FloatProgress(value=0.0, description='Training', layout=Layout(flex='2'), max=1125.0, style=Pro…"
      ]
     },
     "metadata": {},
     "output_type": "display_data"
    },
    {
     "name": "stdout",
     "output_type": "stream",
     "text": [
      "Epoch 367: train=2.35794, val=2.30397, took 39.281 s\n",
      "  Validation Found 8261 of 10819, added 1316 (eff 76.36%) (0.658 FP/event)\n"
     ]
    },
    {
     "data": {
      "application/vnd.jupyter.widget-view+json": {
       "model_id": "",
       "version_major": 2,
       "version_minor": 0
      },
      "text/plain": [
       "HBox(children=(FloatProgress(value=0.0, description='Training', layout=Layout(flex='2'), max=1125.0, style=Pro…"
      ]
     },
     "metadata": {},
     "output_type": "display_data"
    },
    {
     "name": "stdout",
     "output_type": "stream",
     "text": [
      "Epoch 368: train=2.36102, val=2.29739, took 39.825 s\n",
      "  Validation Found 8269 of 10819, added 1320 (eff 76.43%) (0.66 FP/event)\n"
     ]
    },
    {
     "data": {
      "application/vnd.jupyter.widget-view+json": {
       "model_id": "",
       "version_major": 2,
       "version_minor": 0
      },
      "text/plain": [
       "HBox(children=(FloatProgress(value=0.0, description='Training', layout=Layout(flex='2'), max=1125.0, style=Pro…"
      ]
     },
     "metadata": {},
     "output_type": "display_data"
    },
    {
     "name": "stdout",
     "output_type": "stream",
     "text": [
      "Epoch 369: train=2.35709, val=2.297, took 39.36 s\n",
      "  Validation Found 8258 of 10819, added 1315 (eff 76.33%) (0.657 FP/event)\n"
     ]
    },
    {
     "data": {
      "application/vnd.jupyter.widget-view+json": {
       "model_id": "",
       "version_major": 2,
       "version_minor": 0
      },
      "text/plain": [
       "HBox(children=(FloatProgress(value=0.0, description='Training', layout=Layout(flex='2'), max=1125.0, style=Pro…"
      ]
     },
     "metadata": {},
     "output_type": "display_data"
    },
    {
     "name": "stdout",
     "output_type": "stream",
     "text": [
      "Epoch 370: train=2.3613, val=2.29669, took 39.323 s\n",
      "  Validation Found 8269 of 10819, added 1314 (eff 76.43%) (0.657 FP/event)\n"
     ]
    },
    {
     "data": {
      "application/vnd.jupyter.widget-view+json": {
       "model_id": "",
       "version_major": 2,
       "version_minor": 0
      },
      "text/plain": [
       "HBox(children=(FloatProgress(value=0.0, description='Training', layout=Layout(flex='2'), max=1125.0, style=Pro…"
      ]
     },
     "metadata": {},
     "output_type": "display_data"
    },
    {
     "name": "stdout",
     "output_type": "stream",
     "text": [
      "Epoch 371: train=2.35878, val=2.29639, took 39.303 s\n",
      "  Validation Found 8262 of 10819, added 1315 (eff 76.37%) (0.657 FP/event)\n"
     ]
    },
    {
     "data": {
      "application/vnd.jupyter.widget-view+json": {
       "model_id": "",
       "version_major": 2,
       "version_minor": 0
      },
      "text/plain": [
       "HBox(children=(FloatProgress(value=0.0, description='Training', layout=Layout(flex='2'), max=1125.0, style=Pro…"
      ]
     },
     "metadata": {},
     "output_type": "display_data"
    },
    {
     "name": "stdout",
     "output_type": "stream",
     "text": [
      "Epoch 372: train=2.35654, val=2.2965, took 39.406 s\n",
      "  Validation Found 8259 of 10819, added 1316 (eff 76.34%) (0.658 FP/event)\n"
     ]
    },
    {
     "data": {
      "application/vnd.jupyter.widget-view+json": {
       "model_id": "",
       "version_major": 2,
       "version_minor": 0
      },
      "text/plain": [
       "HBox(children=(FloatProgress(value=0.0, description='Training', layout=Layout(flex='2'), max=1125.0, style=Pro…"
      ]
     },
     "metadata": {},
     "output_type": "display_data"
    },
    {
     "name": "stdout",
     "output_type": "stream",
     "text": [
      "Epoch 373: train=2.36128, val=2.29966, took 39.308 s\n",
      "  Validation Found 8255 of 10819, added 1310 (eff 76.30%) (0.655 FP/event)\n"
     ]
    },
    {
     "data": {
      "application/vnd.jupyter.widget-view+json": {
       "model_id": "",
       "version_major": 2,
       "version_minor": 0
      },
      "text/plain": [
       "HBox(children=(FloatProgress(value=0.0, description='Training', layout=Layout(flex='2'), max=1125.0, style=Pro…"
      ]
     },
     "metadata": {},
     "output_type": "display_data"
    },
    {
     "name": "stdout",
     "output_type": "stream",
     "text": [
      "Epoch 374: train=2.35733, val=2.29808, took 39.977 s\n",
      "  Validation Found 8257 of 10819, added 1309 (eff 76.32%) (0.654 FP/event)\n"
     ]
    },
    {
     "data": {
      "application/vnd.jupyter.widget-view+json": {
       "model_id": "",
       "version_major": 2,
       "version_minor": 0
      },
      "text/plain": [
       "HBox(children=(FloatProgress(value=0.0, description='Training', layout=Layout(flex='2'), max=1125.0, style=Pro…"
      ]
     },
     "metadata": {},
     "output_type": "display_data"
    },
    {
     "name": "stdout",
     "output_type": "stream",
     "text": [
      "Epoch 375: train=2.35083, val=2.29712, took 39.369 s\n",
      "  Validation Found 8272 of 10819, added 1312 (eff 76.46%) (0.656 FP/event)\n"
     ]
    },
    {
     "data": {
      "application/vnd.jupyter.widget-view+json": {
       "model_id": "",
       "version_major": 2,
       "version_minor": 0
      },
      "text/plain": [
       "HBox(children=(FloatProgress(value=0.0, description='Training', layout=Layout(flex='2'), max=1125.0, style=Pro…"
      ]
     },
     "metadata": {},
     "output_type": "display_data"
    },
    {
     "name": "stdout",
     "output_type": "stream",
     "text": [
      "Epoch 376: train=2.35651, val=2.29551, took 39.467 s\n",
      "  Validation Found 8271 of 10819, added 1315 (eff 76.45%) (0.657 FP/event)\n"
     ]
    },
    {
     "data": {
      "application/vnd.jupyter.widget-view+json": {
       "model_id": "",
       "version_major": 2,
       "version_minor": 0
      },
      "text/plain": [
       "HBox(children=(FloatProgress(value=0.0, description='Training', layout=Layout(flex='2'), max=1125.0, style=Pro…"
      ]
     },
     "metadata": {},
     "output_type": "display_data"
    },
    {
     "name": "stdout",
     "output_type": "stream",
     "text": [
      "Epoch 377: train=2.35486, val=2.29601, took 39.579 s\n",
      "  Validation Found 8278 of 10819, added 1314 (eff 76.51%) (0.657 FP/event)\n"
     ]
    },
    {
     "data": {
      "application/vnd.jupyter.widget-view+json": {
       "model_id": "",
       "version_major": 2,
       "version_minor": 0
      },
      "text/plain": [
       "HBox(children=(FloatProgress(value=0.0, description='Training', layout=Layout(flex='2'), max=1125.0, style=Pro…"
      ]
     },
     "metadata": {},
     "output_type": "display_data"
    },
    {
     "name": "stdout",
     "output_type": "stream",
     "text": [
      "Epoch 378: train=2.35589, val=2.29526, took 39.575 s\n",
      "  Validation Found 8263 of 10819, added 1314 (eff 76.37%) (0.657 FP/event)\n"
     ]
    },
    {
     "data": {
      "application/vnd.jupyter.widget-view+json": {
       "model_id": "",
       "version_major": 2,
       "version_minor": 0
      },
      "text/plain": [
       "HBox(children=(FloatProgress(value=0.0, description='Training', layout=Layout(flex='2'), max=1125.0, style=Pro…"
      ]
     },
     "metadata": {},
     "output_type": "display_data"
    },
    {
     "name": "stdout",
     "output_type": "stream",
     "text": [
      "Epoch 379: train=2.35859, val=2.29791, took 39.759 s\n",
      "  Validation Found 8251 of 10819, added 1315 (eff 76.26%) (0.657 FP/event)\n"
     ]
    },
    {
     "data": {
      "application/vnd.jupyter.widget-view+json": {
       "model_id": "",
       "version_major": 2,
       "version_minor": 0
      },
      "text/plain": [
       "HBox(children=(FloatProgress(value=0.0, description='Training', layout=Layout(flex='2'), max=1125.0, style=Pro…"
      ]
     },
     "metadata": {},
     "output_type": "display_data"
    },
    {
     "name": "stdout",
     "output_type": "stream",
     "text": [
      "Epoch 380: train=2.35356, val=2.29604, took 39.643 s\n",
      "  Validation Found 8254 of 10819, added 1314 (eff 76.29%) (0.657 FP/event)\n"
     ]
    },
    {
     "data": {
      "application/vnd.jupyter.widget-view+json": {
       "model_id": "",
       "version_major": 2,
       "version_minor": 0
      },
      "text/plain": [
       "HBox(children=(FloatProgress(value=0.0, description='Training', layout=Layout(flex='2'), max=1125.0, style=Pro…"
      ]
     },
     "metadata": {},
     "output_type": "display_data"
    },
    {
     "name": "stdout",
     "output_type": "stream",
     "text": [
      "Epoch 381: train=2.35498, val=2.29748, took 39.319 s\n",
      "  Validation Found 8273 of 10819, added 1313 (eff 76.47%) (0.656 FP/event)\n"
     ]
    },
    {
     "data": {
      "application/vnd.jupyter.widget-view+json": {
       "model_id": "",
       "version_major": 2,
       "version_minor": 0
      },
      "text/plain": [
       "HBox(children=(FloatProgress(value=0.0, description='Training', layout=Layout(flex='2'), max=1125.0, style=Pro…"
      ]
     },
     "metadata": {},
     "output_type": "display_data"
    },
    {
     "name": "stdout",
     "output_type": "stream",
     "text": [
      "Epoch 382: train=2.35218, val=2.29587, took 39.307 s\n",
      "  Validation Found 8257 of 10819, added 1308 (eff 76.32%) (0.654 FP/event)\n"
     ]
    },
    {
     "data": {
      "application/vnd.jupyter.widget-view+json": {
       "model_id": "",
       "version_major": 2,
       "version_minor": 0
      },
      "text/plain": [
       "HBox(children=(FloatProgress(value=0.0, description='Training', layout=Layout(flex='2'), max=1125.0, style=Pro…"
      ]
     },
     "metadata": {},
     "output_type": "display_data"
    },
    {
     "name": "stdout",
     "output_type": "stream",
     "text": [
      "Epoch 383: train=2.35951, val=2.29521, took 39.347 s\n",
      "  Validation Found 8266 of 10819, added 1317 (eff 76.40%) (0.658 FP/event)\n"
     ]
    },
    {
     "data": {
      "application/vnd.jupyter.widget-view+json": {
       "model_id": "",
       "version_major": 2,
       "version_minor": 0
      },
      "text/plain": [
       "HBox(children=(FloatProgress(value=0.0, description='Training', layout=Layout(flex='2'), max=1125.0, style=Pro…"
      ]
     },
     "metadata": {},
     "output_type": "display_data"
    },
    {
     "name": "stdout",
     "output_type": "stream",
     "text": [
      "Epoch 384: train=2.35211, val=2.29551, took 39.473 s\n",
      "  Validation Found 8264 of 10819, added 1303 (eff 76.38%) (0.651 FP/event)\n"
     ]
    },
    {
     "data": {
      "application/vnd.jupyter.widget-view+json": {
       "model_id": "",
       "version_major": 2,
       "version_minor": 0
      },
      "text/plain": [
       "HBox(children=(FloatProgress(value=0.0, description='Training', layout=Layout(flex='2'), max=1125.0, style=Pro…"
      ]
     },
     "metadata": {},
     "output_type": "display_data"
    },
    {
     "name": "stdout",
     "output_type": "stream",
     "text": [
      "Epoch 385: train=2.35752, val=2.29572, took 39.377 s\n",
      "  Validation Found 8258 of 10819, added 1317 (eff 76.33%) (0.658 FP/event)\n"
     ]
    },
    {
     "data": {
      "application/vnd.jupyter.widget-view+json": {
       "model_id": "",
       "version_major": 2,
       "version_minor": 0
      },
      "text/plain": [
       "HBox(children=(FloatProgress(value=0.0, description='Training', layout=Layout(flex='2'), max=1125.0, style=Pro…"
      ]
     },
     "metadata": {},
     "output_type": "display_data"
    },
    {
     "name": "stdout",
     "output_type": "stream",
     "text": [
      "Epoch 386: train=2.35558, val=2.29611, took 39.363 s\n",
      "  Validation Found 8259 of 10819, added 1311 (eff 76.34%) (0.655 FP/event)\n"
     ]
    },
    {
     "data": {
      "application/vnd.jupyter.widget-view+json": {
       "model_id": "",
       "version_major": 2,
       "version_minor": 0
      },
      "text/plain": [
       "HBox(children=(FloatProgress(value=0.0, description='Training', layout=Layout(flex='2'), max=1125.0, style=Pro…"
      ]
     },
     "metadata": {},
     "output_type": "display_data"
    },
    {
     "name": "stdout",
     "output_type": "stream",
     "text": [
      "Epoch 387: train=2.35635, val=2.29807, took 39.426 s\n",
      "  Validation Found 8280 of 10819, added 1309 (eff 76.53%) (0.654 FP/event)\n"
     ]
    },
    {
     "data": {
      "application/vnd.jupyter.widget-view+json": {
       "model_id": "",
       "version_major": 2,
       "version_minor": 0
      },
      "text/plain": [
       "HBox(children=(FloatProgress(value=0.0, description='Training', layout=Layout(flex='2'), max=1125.0, style=Pro…"
      ]
     },
     "metadata": {},
     "output_type": "display_data"
    },
    {
     "name": "stdout",
     "output_type": "stream",
     "text": [
      "Epoch 388: train=2.35219, val=2.29507, took 39.375 s\n",
      "  Validation Found 8273 of 10819, added 1310 (eff 76.47%) (0.655 FP/event)\n"
     ]
    },
    {
     "data": {
      "application/vnd.jupyter.widget-view+json": {
       "model_id": "",
       "version_major": 2,
       "version_minor": 0
      },
      "text/plain": [
       "HBox(children=(FloatProgress(value=0.0, description='Training', layout=Layout(flex='2'), max=1125.0, style=Pro…"
      ]
     },
     "metadata": {},
     "output_type": "display_data"
    },
    {
     "name": "stdout",
     "output_type": "stream",
     "text": [
      "Epoch 389: train=2.35832, val=2.29554, took 39.325 s\n",
      "  Validation Found 8268 of 10819, added 1308 (eff 76.42%) (0.654 FP/event)\n"
     ]
    },
    {
     "data": {
      "application/vnd.jupyter.widget-view+json": {
       "model_id": "",
       "version_major": 2,
       "version_minor": 0
      },
      "text/plain": [
       "HBox(children=(FloatProgress(value=0.0, description='Training', layout=Layout(flex='2'), max=1125.0, style=Pro…"
      ]
     },
     "metadata": {},
     "output_type": "display_data"
    },
    {
     "name": "stdout",
     "output_type": "stream",
     "text": [
      "Epoch 390: train=2.35395, val=2.29543, took 39.509 s\n",
      "  Validation Found 8265 of 10819, added 1310 (eff 76.39%) (0.655 FP/event)\n"
     ]
    },
    {
     "data": {
      "application/vnd.jupyter.widget-view+json": {
       "model_id": "",
       "version_major": 2,
       "version_minor": 0
      },
      "text/plain": [
       "HBox(children=(FloatProgress(value=0.0, description='Training', layout=Layout(flex='2'), max=1125.0, style=Pro…"
      ]
     },
     "metadata": {},
     "output_type": "display_data"
    },
    {
     "name": "stdout",
     "output_type": "stream",
     "text": [
      "Epoch 391: train=2.35375, val=2.29426, took 39.345 s\n",
      "  Validation Found 8271 of 10819, added 1308 (eff 76.45%) (0.654 FP/event)\n"
     ]
    },
    {
     "data": {
      "application/vnd.jupyter.widget-view+json": {
       "model_id": "",
       "version_major": 2,
       "version_minor": 0
      },
      "text/plain": [
       "HBox(children=(FloatProgress(value=0.0, description='Training', layout=Layout(flex='2'), max=1125.0, style=Pro…"
      ]
     },
     "metadata": {},
     "output_type": "display_data"
    },
    {
     "name": "stdout",
     "output_type": "stream",
     "text": [
      "Epoch 392: train=2.35331, val=2.29597, took 39.332 s\n",
      "  Validation Found 8272 of 10819, added 1305 (eff 76.46%) (0.652 FP/event)\n"
     ]
    },
    {
     "data": {
      "application/vnd.jupyter.widget-view+json": {
       "model_id": "",
       "version_major": 2,
       "version_minor": 0
      },
      "text/plain": [
       "HBox(children=(FloatProgress(value=0.0, description='Training', layout=Layout(flex='2'), max=1125.0, style=Pro…"
      ]
     },
     "metadata": {},
     "output_type": "display_data"
    },
    {
     "name": "stdout",
     "output_type": "stream",
     "text": [
      "Epoch 393: train=2.35894, val=2.29541, took 39.324 s\n",
      "  Validation Found 8267 of 10819, added 1314 (eff 76.41%) (0.657 FP/event)\n"
     ]
    },
    {
     "data": {
      "application/vnd.jupyter.widget-view+json": {
       "model_id": "",
       "version_major": 2,
       "version_minor": 0
      },
      "text/plain": [
       "HBox(children=(FloatProgress(value=0.0, description='Training', layout=Layout(flex='2'), max=1125.0, style=Pro…"
      ]
     },
     "metadata": {},
     "output_type": "display_data"
    },
    {
     "name": "stdout",
     "output_type": "stream",
     "text": [
      "Epoch 394: train=2.35215, val=2.2948, took 39.289 s\n",
      "  Validation Found 8269 of 10819, added 1310 (eff 76.43%) (0.655 FP/event)\n"
     ]
    },
    {
     "data": {
      "application/vnd.jupyter.widget-view+json": {
       "model_id": "",
       "version_major": 2,
       "version_minor": 0
      },
      "text/plain": [
       "HBox(children=(FloatProgress(value=0.0, description='Training', layout=Layout(flex='2'), max=1125.0, style=Pro…"
      ]
     },
     "metadata": {},
     "output_type": "display_data"
    },
    {
     "name": "stdout",
     "output_type": "stream",
     "text": [
      "Epoch 395: train=2.35501, val=2.29436, took 39.275 s\n",
      "  Validation Found 8270 of 10819, added 1311 (eff 76.44%) (0.655 FP/event)\n"
     ]
    },
    {
     "data": {
      "application/vnd.jupyter.widget-view+json": {
       "model_id": "",
       "version_major": 2,
       "version_minor": 0
      },
      "text/plain": [
       "HBox(children=(FloatProgress(value=0.0, description='Training', layout=Layout(flex='2'), max=1125.0, style=Pro…"
      ]
     },
     "metadata": {},
     "output_type": "display_data"
    },
    {
     "name": "stdout",
     "output_type": "stream",
     "text": [
      "Epoch 396: train=2.35595, val=2.29513, took 39.631 s\n",
      "  Validation Found 8267 of 10819, added 1312 (eff 76.41%) (0.656 FP/event)\n"
     ]
    },
    {
     "data": {
      "application/vnd.jupyter.widget-view+json": {
       "model_id": "",
       "version_major": 2,
       "version_minor": 0
      },
      "text/plain": [
       "HBox(children=(FloatProgress(value=0.0, description='Training', layout=Layout(flex='2'), max=1125.0, style=Pro…"
      ]
     },
     "metadata": {},
     "output_type": "display_data"
    },
    {
     "name": "stdout",
     "output_type": "stream",
     "text": [
      "Epoch 397: train=2.35031, val=2.29529, took 39.442 s\n",
      "  Validation Found 8260 of 10819, added 1308 (eff 76.35%) (0.654 FP/event)\n"
     ]
    },
    {
     "data": {
      "application/vnd.jupyter.widget-view+json": {
       "model_id": "",
       "version_major": 2,
       "version_minor": 0
      },
      "text/plain": [
       "HBox(children=(FloatProgress(value=0.0, description='Training', layout=Layout(flex='2'), max=1125.0, style=Pro…"
      ]
     },
     "metadata": {},
     "output_type": "display_data"
    },
    {
     "name": "stdout",
     "output_type": "stream",
     "text": [
      "Epoch 398: train=2.35356, val=2.29461, took 39.394 s\n",
      "  Validation Found 8270 of 10819, added 1308 (eff 76.44%) (0.654 FP/event)\n"
     ]
    },
    {
     "data": {
      "application/vnd.jupyter.widget-view+json": {
       "model_id": "",
       "version_major": 2,
       "version_minor": 0
      },
      "text/plain": [
       "HBox(children=(FloatProgress(value=0.0, description='Training', layout=Layout(flex='2'), max=1125.0, style=Pro…"
      ]
     },
     "metadata": {},
     "output_type": "display_data"
    },
    {
     "name": "stdout",
     "output_type": "stream",
     "text": [
      "Epoch 399: train=2.35442, val=2.29472, took 39.46 s\n",
      "  Validation Found 8269 of 10819, added 1307 (eff 76.43%) (0.653 FP/event)\n"
     ]
    },
    {
     "data": {
      "application/vnd.jupyter.widget-view+json": {
       "model_id": "",
       "version_major": 2,
       "version_minor": 0
      },
      "text/plain": [
       "HBox(children=(FloatProgress(value=0.0, description='Training', layout=Layout(flex='2'), max=1125.0, style=Pro…"
      ]
     },
     "metadata": {},
     "output_type": "display_data"
    },
    {
     "name": "stdout",
     "output_type": "stream",
     "text": [
      "Epoch 400: train=2.35344, val=2.29482, took 39.371 s\n",
      "  Validation Found 8270 of 10819, added 1311 (eff 76.44%) (0.655 FP/event)\n"
     ]
    },
    {
     "data": {
      "application/vnd.jupyter.widget-view+json": {
       "model_id": "",
       "version_major": 2,
       "version_minor": 0
      },
      "text/plain": [
       "HBox(children=(FloatProgress(value=0.0, description='Training', layout=Layout(flex='2'), max=1125.0, style=Pro…"
      ]
     },
     "metadata": {},
     "output_type": "display_data"
    },
    {
     "name": "stdout",
     "output_type": "stream",
     "text": [
      "Epoch 401: train=2.35369, val=2.29463, took 39.754 s\n",
      "  Validation Found 8273 of 10819, added 1305 (eff 76.47%) (0.652 FP/event)\n"
     ]
    },
    {
     "data": {
      "application/vnd.jupyter.widget-view+json": {
       "model_id": "",
       "version_major": 2,
       "version_minor": 0
      },
      "text/plain": [
       "HBox(children=(FloatProgress(value=0.0, description='Training', layout=Layout(flex='2'), max=1125.0, style=Pro…"
      ]
     },
     "metadata": {},
     "output_type": "display_data"
    },
    {
     "name": "stdout",
     "output_type": "stream",
     "text": [
      "Epoch 402: train=2.35735, val=2.29663, took 39.398 s\n",
      "  Validation Found 8257 of 10819, added 1305 (eff 76.32%) (0.652 FP/event)\n"
     ]
    },
    {
     "data": {
      "application/vnd.jupyter.widget-view+json": {
       "model_id": "",
       "version_major": 2,
       "version_minor": 0
      },
      "text/plain": [
       "HBox(children=(FloatProgress(value=0.0, description='Training', layout=Layout(flex='2'), max=1125.0, style=Pro…"
      ]
     },
     "metadata": {},
     "output_type": "display_data"
    },
    {
     "name": "stdout",
     "output_type": "stream",
     "text": [
      "Epoch 403: train=2.35442, val=2.29476, took 39.655 s\n",
      "  Validation Found 8266 of 10819, added 1309 (eff 76.40%) (0.654 FP/event)\n"
     ]
    },
    {
     "data": {
      "application/vnd.jupyter.widget-view+json": {
       "model_id": "",
       "version_major": 2,
       "version_minor": 0
      },
      "text/plain": [
       "HBox(children=(FloatProgress(value=0.0, description='Training', layout=Layout(flex='2'), max=1125.0, style=Pro…"
      ]
     },
     "metadata": {},
     "output_type": "display_data"
    },
    {
     "name": "stdout",
     "output_type": "stream",
     "text": [
      "Epoch 404: train=2.35182, val=2.29429, took 39.349 s\n",
      "  Validation Found 8271 of 10819, added 1301 (eff 76.45%) (0.65 FP/event)\n"
     ]
    },
    {
     "data": {
      "application/vnd.jupyter.widget-view+json": {
       "model_id": "",
       "version_major": 2,
       "version_minor": 0
      },
      "text/plain": [
       "HBox(children=(FloatProgress(value=0.0, description='Training', layout=Layout(flex='2'), max=1125.0, style=Pro…"
      ]
     },
     "metadata": {},
     "output_type": "display_data"
    },
    {
     "name": "stdout",
     "output_type": "stream",
     "text": [
      "Epoch 405: train=2.35276, val=2.29453, took 39.793 s\n",
      "  Validation Found 8277 of 10819, added 1305 (eff 76.50%) (0.652 FP/event)\n"
     ]
    },
    {
     "data": {
      "application/vnd.jupyter.widget-view+json": {
       "model_id": "",
       "version_major": 2,
       "version_minor": 0
      },
      "text/plain": [
       "HBox(children=(FloatProgress(value=0.0, description='Training', layout=Layout(flex='2'), max=1125.0, style=Pro…"
      ]
     },
     "metadata": {},
     "output_type": "display_data"
    },
    {
     "name": "stdout",
     "output_type": "stream",
     "text": [
      "Epoch 406: train=2.35397, val=2.29445, took 39.741 s\n",
      "  Validation Found 8270 of 10819, added 1297 (eff 76.44%) (0.648 FP/event)\n"
     ]
    },
    {
     "data": {
      "application/vnd.jupyter.widget-view+json": {
       "model_id": "",
       "version_major": 2,
       "version_minor": 0
      },
      "text/plain": [
       "HBox(children=(FloatProgress(value=0.0, description='Training', layout=Layout(flex='2'), max=1125.0, style=Pro…"
      ]
     },
     "metadata": {},
     "output_type": "display_data"
    },
    {
     "name": "stdout",
     "output_type": "stream",
     "text": [
      "Epoch 407: train=2.35454, val=2.29473, took 39.3 s\n",
      "  Validation Found 8281 of 10819, added 1299 (eff 76.54%) (0.649 FP/event)\n"
     ]
    },
    {
     "data": {
      "application/vnd.jupyter.widget-view+json": {
       "model_id": "",
       "version_major": 2,
       "version_minor": 0
      },
      "text/plain": [
       "HBox(children=(FloatProgress(value=0.0, description='Training', layout=Layout(flex='2'), max=1125.0, style=Pro…"
      ]
     },
     "metadata": {},
     "output_type": "display_data"
    },
    {
     "name": "stdout",
     "output_type": "stream",
     "text": [
      "Epoch 408: train=2.35339, val=2.29525, took 39.562 s\n",
      "  Validation Found 8276 of 10819, added 1307 (eff 76.50%) (0.653 FP/event)\n"
     ]
    },
    {
     "data": {
      "application/vnd.jupyter.widget-view+json": {
       "model_id": "",
       "version_major": 2,
       "version_minor": 0
      },
      "text/plain": [
       "HBox(children=(FloatProgress(value=0.0, description='Training', layout=Layout(flex='2'), max=1125.0, style=Pro…"
      ]
     },
     "metadata": {},
     "output_type": "display_data"
    },
    {
     "name": "stdout",
     "output_type": "stream",
     "text": [
      "Epoch 409: train=2.34871, val=2.29442, took 39.773 s\n",
      "  Validation Found 8279 of 10819, added 1304 (eff 76.52%) (0.652 FP/event)\n"
     ]
    },
    {
     "data": {
      "application/vnd.jupyter.widget-view+json": {
       "model_id": "",
       "version_major": 2,
       "version_minor": 0
      },
      "text/plain": [
       "HBox(children=(FloatProgress(value=0.0, description='Training', layout=Layout(flex='2'), max=1125.0, style=Pro…"
      ]
     },
     "metadata": {},
     "output_type": "display_data"
    },
    {
     "name": "stdout",
     "output_type": "stream",
     "text": [
      "Epoch 410: train=2.35302, val=2.29479, took 39.755 s\n",
      "  Validation Found 8268 of 10819, added 1305 (eff 76.42%) (0.652 FP/event)\n"
     ]
    },
    {
     "data": {
      "application/vnd.jupyter.widget-view+json": {
       "model_id": "",
       "version_major": 2,
       "version_minor": 0
      },
      "text/plain": [
       "HBox(children=(FloatProgress(value=0.0, description='Training', layout=Layout(flex='2'), max=1125.0, style=Pro…"
      ]
     },
     "metadata": {},
     "output_type": "display_data"
    },
    {
     "name": "stdout",
     "output_type": "stream",
     "text": [
      "Epoch 411: train=2.35668, val=2.29464, took 39.752 s\n",
      "  Validation Found 8271 of 10819, added 1308 (eff 76.45%) (0.654 FP/event)\n"
     ]
    },
    {
     "data": {
      "application/vnd.jupyter.widget-view+json": {
       "model_id": "",
       "version_major": 2,
       "version_minor": 0
      },
      "text/plain": [
       "HBox(children=(FloatProgress(value=0.0, description='Training', layout=Layout(flex='2'), max=1125.0, style=Pro…"
      ]
     },
     "metadata": {},
     "output_type": "display_data"
    },
    {
     "name": "stdout",
     "output_type": "stream",
     "text": [
      "Epoch 412: train=2.34992, val=2.29432, took 39.354 s\n",
      "  Validation Found 8278 of 10819, added 1304 (eff 76.51%) (0.652 FP/event)\n"
     ]
    },
    {
     "data": {
      "application/vnd.jupyter.widget-view+json": {
       "model_id": "",
       "version_major": 2,
       "version_minor": 0
      },
      "text/plain": [
       "HBox(children=(FloatProgress(value=0.0, description='Training', layout=Layout(flex='2'), max=1125.0, style=Pro…"
      ]
     },
     "metadata": {},
     "output_type": "display_data"
    },
    {
     "name": "stdout",
     "output_type": "stream",
     "text": [
      "Epoch 413: train=2.34891, val=2.29891, took 39.372 s\n",
      "  Validation Found 8270 of 10819, added 1311 (eff 76.44%) (0.655 FP/event)\n"
     ]
    },
    {
     "data": {
      "application/vnd.jupyter.widget-view+json": {
       "model_id": "",
       "version_major": 2,
       "version_minor": 0
      },
      "text/plain": [
       "HBox(children=(FloatProgress(value=0.0, description='Training', layout=Layout(flex='2'), max=1125.0, style=Pro…"
      ]
     },
     "metadata": {},
     "output_type": "display_data"
    },
    {
     "name": "stdout",
     "output_type": "stream",
     "text": [
      "Epoch 414: train=2.35454, val=2.2939, took 39.871 s\n",
      "  Validation Found 8277 of 10819, added 1314 (eff 76.50%) (0.657 FP/event)\n"
     ]
    },
    {
     "data": {
      "application/vnd.jupyter.widget-view+json": {
       "model_id": "",
       "version_major": 2,
       "version_minor": 0
      },
      "text/plain": [
       "HBox(children=(FloatProgress(value=0.0, description='Training', layout=Layout(flex='2'), max=1125.0, style=Pro…"
      ]
     },
     "metadata": {},
     "output_type": "display_data"
    },
    {
     "name": "stdout",
     "output_type": "stream",
     "text": [
      "Epoch 415: train=2.35505, val=2.29424, took 39.577 s\n",
      "  Validation Found 8274 of 10819, added 1309 (eff 76.48%) (0.654 FP/event)\n"
     ]
    },
    {
     "data": {
      "application/vnd.jupyter.widget-view+json": {
       "model_id": "",
       "version_major": 2,
       "version_minor": 0
      },
      "text/plain": [
       "HBox(children=(FloatProgress(value=0.0, description='Training', layout=Layout(flex='2'), max=1125.0, style=Pro…"
      ]
     },
     "metadata": {},
     "output_type": "display_data"
    },
    {
     "name": "stdout",
     "output_type": "stream",
     "text": [
      "Epoch 416: train=2.35393, val=2.29429, took 39.197 s\n",
      "  Validation Found 8281 of 10819, added 1308 (eff 76.54%) (0.654 FP/event)\n"
     ]
    },
    {
     "data": {
      "application/vnd.jupyter.widget-view+json": {
       "model_id": "",
       "version_major": 2,
       "version_minor": 0
      },
      "text/plain": [
       "HBox(children=(FloatProgress(value=0.0, description='Training', layout=Layout(flex='2'), max=1125.0, style=Pro…"
      ]
     },
     "metadata": {},
     "output_type": "display_data"
    },
    {
     "name": "stdout",
     "output_type": "stream",
     "text": [
      "Epoch 417: train=2.34935, val=2.29339, took 39.187 s\n",
      "  Validation Found 8281 of 10819, added 1304 (eff 76.54%) (0.652 FP/event)\n"
     ]
    },
    {
     "data": {
      "application/vnd.jupyter.widget-view+json": {
       "model_id": "",
       "version_major": 2,
       "version_minor": 0
      },
      "text/plain": [
       "HBox(children=(FloatProgress(value=0.0, description='Training', layout=Layout(flex='2'), max=1125.0, style=Pro…"
      ]
     },
     "metadata": {},
     "output_type": "display_data"
    },
    {
     "name": "stdout",
     "output_type": "stream",
     "text": [
      "Epoch 418: train=2.35026, val=2.29394, took 39.609 s\n",
      "  Validation Found 8271 of 10819, added 1311 (eff 76.45%) (0.655 FP/event)\n"
     ]
    },
    {
     "data": {
      "application/vnd.jupyter.widget-view+json": {
       "model_id": "",
       "version_major": 2,
       "version_minor": 0
      },
      "text/plain": [
       "HBox(children=(FloatProgress(value=0.0, description='Training', layout=Layout(flex='2'), max=1125.0, style=Pro…"
      ]
     },
     "metadata": {},
     "output_type": "display_data"
    },
    {
     "name": "stdout",
     "output_type": "stream",
     "text": [
      "Epoch 419: train=2.34662, val=2.2942, took 39.628 s\n",
      "  Validation Found 8270 of 10819, added 1305 (eff 76.44%) (0.652 FP/event)\n"
     ]
    },
    {
     "data": {
      "application/vnd.jupyter.widget-view+json": {
       "model_id": "",
       "version_major": 2,
       "version_minor": 0
      },
      "text/plain": [
       "HBox(children=(FloatProgress(value=0.0, description='Training', layout=Layout(flex='2'), max=1125.0, style=Pro…"
      ]
     },
     "metadata": {},
     "output_type": "display_data"
    },
    {
     "name": "stdout",
     "output_type": "stream",
     "text": [
      "Epoch 420: train=2.35522, val=2.29427, took 40.259 s\n",
      "  Validation Found 8273 of 10819, added 1315 (eff 76.47%) (0.657 FP/event)\n"
     ]
    },
    {
     "data": {
      "application/vnd.jupyter.widget-view+json": {
       "model_id": "",
       "version_major": 2,
       "version_minor": 0
      },
      "text/plain": [
       "HBox(children=(FloatProgress(value=0.0, description='Training', layout=Layout(flex='2'), max=1125.0, style=Pro…"
      ]
     },
     "metadata": {},
     "output_type": "display_data"
    },
    {
     "name": "stdout",
     "output_type": "stream",
     "text": [
      "Epoch 421: train=2.35292, val=2.29307, took 39.21 s\n",
      "  Validation Found 8275 of 10819, added 1311 (eff 76.49%) (0.655 FP/event)\n"
     ]
    },
    {
     "data": {
      "application/vnd.jupyter.widget-view+json": {
       "model_id": "",
       "version_major": 2,
       "version_minor": 0
      },
      "text/plain": [
       "HBox(children=(FloatProgress(value=0.0, description='Training', layout=Layout(flex='2'), max=1125.0, style=Pro…"
      ]
     },
     "metadata": {},
     "output_type": "display_data"
    },
    {
     "name": "stdout",
     "output_type": "stream",
     "text": [
      "Epoch 422: train=2.35701, val=2.29347, took 39.179 s\n",
      "  Validation Found 8278 of 10819, added 1322 (eff 76.51%) (0.661 FP/event)\n"
     ]
    },
    {
     "data": {
      "application/vnd.jupyter.widget-view+json": {
       "model_id": "",
       "version_major": 2,
       "version_minor": 0
      },
      "text/plain": [
       "HBox(children=(FloatProgress(value=0.0, description='Training', layout=Layout(flex='2'), max=1125.0, style=Pro…"
      ]
     },
     "metadata": {},
     "output_type": "display_data"
    },
    {
     "name": "stdout",
     "output_type": "stream",
     "text": [
      "Epoch 423: train=2.35279, val=2.29228, took 39.368 s\n",
      "  Validation Found 8279 of 10819, added 1313 (eff 76.52%) (0.656 FP/event)\n"
     ]
    },
    {
     "data": {
      "application/vnd.jupyter.widget-view+json": {
       "model_id": "",
       "version_major": 2,
       "version_minor": 0
      },
      "text/plain": [
       "HBox(children=(FloatProgress(value=0.0, description='Training', layout=Layout(flex='2'), max=1125.0, style=Pro…"
      ]
     },
     "metadata": {},
     "output_type": "display_data"
    },
    {
     "name": "stdout",
     "output_type": "stream",
     "text": [
      "Epoch 424: train=2.35178, val=2.29371, took 39.401 s\n",
      "  Validation Found 8271 of 10819, added 1313 (eff 76.45%) (0.656 FP/event)\n"
     ]
    },
    {
     "data": {
      "application/vnd.jupyter.widget-view+json": {
       "model_id": "",
       "version_major": 2,
       "version_minor": 0
      },
      "text/plain": [
       "HBox(children=(FloatProgress(value=0.0, description='Training', layout=Layout(flex='2'), max=1125.0, style=Pro…"
      ]
     },
     "metadata": {},
     "output_type": "display_data"
    },
    {
     "name": "stdout",
     "output_type": "stream",
     "text": [
      "Epoch 425: train=2.3519, val=2.29589, took 39.627 s\n",
      "  Validation Found 8276 of 10819, added 1308 (eff 76.50%) (0.654 FP/event)\n"
     ]
    },
    {
     "data": {
      "application/vnd.jupyter.widget-view+json": {
       "model_id": "",
       "version_major": 2,
       "version_minor": 0
      },
      "text/plain": [
       "HBox(children=(FloatProgress(value=0.0, description='Training', layout=Layout(flex='2'), max=1125.0, style=Pro…"
      ]
     },
     "metadata": {},
     "output_type": "display_data"
    },
    {
     "name": "stdout",
     "output_type": "stream",
     "text": [
      "Epoch 426: train=2.35708, val=2.29848, took 39.596 s\n",
      "  Validation Found 8278 of 10819, added 1314 (eff 76.51%) (0.657 FP/event)\n"
     ]
    },
    {
     "data": {
      "application/vnd.jupyter.widget-view+json": {
       "model_id": "",
       "version_major": 2,
       "version_minor": 0
      },
      "text/plain": [
       "HBox(children=(FloatProgress(value=0.0, description='Training', layout=Layout(flex='2'), max=1125.0, style=Pro…"
      ]
     },
     "metadata": {},
     "output_type": "display_data"
    },
    {
     "name": "stdout",
     "output_type": "stream",
     "text": [
      "Epoch 427: train=2.34636, val=2.29321, took 39.409 s\n",
      "  Validation Found 8275 of 10819, added 1306 (eff 76.49%) (0.653 FP/event)\n"
     ]
    },
    {
     "data": {
      "application/vnd.jupyter.widget-view+json": {
       "model_id": "",
       "version_major": 2,
       "version_minor": 0
      },
      "text/plain": [
       "HBox(children=(FloatProgress(value=0.0, description='Training', layout=Layout(flex='2'), max=1125.0, style=Pro…"
      ]
     },
     "metadata": {},
     "output_type": "display_data"
    },
    {
     "name": "stdout",
     "output_type": "stream",
     "text": [
      "Epoch 428: train=2.35161, val=2.29235, took 39.443 s\n",
      "  Validation Found 8281 of 10819, added 1310 (eff 76.54%) (0.655 FP/event)\n"
     ]
    },
    {
     "data": {
      "application/vnd.jupyter.widget-view+json": {
       "model_id": "",
       "version_major": 2,
       "version_minor": 0
      },
      "text/plain": [
       "HBox(children=(FloatProgress(value=0.0, description='Training', layout=Layout(flex='2'), max=1125.0, style=Pro…"
      ]
     },
     "metadata": {},
     "output_type": "display_data"
    },
    {
     "name": "stdout",
     "output_type": "stream",
     "text": [
      "Epoch 429: train=2.34885, val=2.29202, took 39.827 s\n",
      "  Validation Found 8284 of 10819, added 1310 (eff 76.57%) (0.655 FP/event)\n"
     ]
    },
    {
     "data": {
      "application/vnd.jupyter.widget-view+json": {
       "model_id": "",
       "version_major": 2,
       "version_minor": 0
      },
      "text/plain": [
       "HBox(children=(FloatProgress(value=0.0, description='Training', layout=Layout(flex='2'), max=1125.0, style=Pro…"
      ]
     },
     "metadata": {},
     "output_type": "display_data"
    },
    {
     "name": "stdout",
     "output_type": "stream",
     "text": [
      "Epoch 430: train=2.35048, val=2.29343, took 39.912 s\n",
      "  Validation Found 8272 of 10819, added 1307 (eff 76.46%) (0.653 FP/event)\n"
     ]
    },
    {
     "data": {
      "application/vnd.jupyter.widget-view+json": {
       "model_id": "",
       "version_major": 2,
       "version_minor": 0
      },
      "text/plain": [
       "HBox(children=(FloatProgress(value=0.0, description='Training', layout=Layout(flex='2'), max=1125.0, style=Pro…"
      ]
     },
     "metadata": {},
     "output_type": "display_data"
    },
    {
     "name": "stdout",
     "output_type": "stream",
     "text": [
      "Epoch 431: train=2.35858, val=2.293, took 39.342 s\n",
      "  Validation Found 8270 of 10819, added 1313 (eff 76.44%) (0.656 FP/event)\n"
     ]
    },
    {
     "data": {
      "application/vnd.jupyter.widget-view+json": {
       "model_id": "",
       "version_major": 2,
       "version_minor": 0
      },
      "text/plain": [
       "HBox(children=(FloatProgress(value=0.0, description='Training', layout=Layout(flex='2'), max=1125.0, style=Pro…"
      ]
     },
     "metadata": {},
     "output_type": "display_data"
    },
    {
     "name": "stdout",
     "output_type": "stream",
     "text": [
      "Epoch 432: train=2.35389, val=2.2915, took 39.62 s\n",
      "  Validation Found 8284 of 10819, added 1308 (eff 76.57%) (0.654 FP/event)\n"
     ]
    },
    {
     "data": {
      "application/vnd.jupyter.widget-view+json": {
       "model_id": "",
       "version_major": 2,
       "version_minor": 0
      },
      "text/plain": [
       "HBox(children=(FloatProgress(value=0.0, description='Training', layout=Layout(flex='2'), max=1125.0, style=Pro…"
      ]
     },
     "metadata": {},
     "output_type": "display_data"
    },
    {
     "name": "stdout",
     "output_type": "stream",
     "text": [
      "Epoch 433: train=2.35031, val=2.29196, took 39.232 s\n",
      "  Validation Found 8279 of 10819, added 1307 (eff 76.52%) (0.653 FP/event)\n"
     ]
    },
    {
     "data": {
      "application/vnd.jupyter.widget-view+json": {
       "model_id": "",
       "version_major": 2,
       "version_minor": 0
      },
      "text/plain": [
       "HBox(children=(FloatProgress(value=0.0, description='Training', layout=Layout(flex='2'), max=1125.0, style=Pro…"
      ]
     },
     "metadata": {},
     "output_type": "display_data"
    },
    {
     "name": "stdout",
     "output_type": "stream",
     "text": [
      "Epoch 434: train=2.34618, val=2.29219, took 39.427 s\n",
      "  Validation Found 8277 of 10819, added 1310 (eff 76.50%) (0.655 FP/event)\n"
     ]
    },
    {
     "data": {
      "application/vnd.jupyter.widget-view+json": {
       "model_id": "",
       "version_major": 2,
       "version_minor": 0
      },
      "text/plain": [
       "HBox(children=(FloatProgress(value=0.0, description='Training', layout=Layout(flex='2'), max=1125.0, style=Pro…"
      ]
     },
     "metadata": {},
     "output_type": "display_data"
    },
    {
     "name": "stdout",
     "output_type": "stream",
     "text": [
      "Epoch 435: train=2.3531, val=2.29307, took 39.449 s\n",
      "  Validation Found 8280 of 10819, added 1313 (eff 76.53%) (0.656 FP/event)\n"
     ]
    },
    {
     "data": {
      "application/vnd.jupyter.widget-view+json": {
       "model_id": "",
       "version_major": 2,
       "version_minor": 0
      },
      "text/plain": [
       "HBox(children=(FloatProgress(value=0.0, description='Training', layout=Layout(flex='2'), max=1125.0, style=Pro…"
      ]
     },
     "metadata": {},
     "output_type": "display_data"
    },
    {
     "name": "stdout",
     "output_type": "stream",
     "text": [
      "Epoch 436: train=2.34704, val=2.29267, took 39.483 s\n",
      "  Validation Found 8278 of 10819, added 1315 (eff 76.51%) (0.657 FP/event)\n"
     ]
    },
    {
     "data": {
      "application/vnd.jupyter.widget-view+json": {
       "model_id": "",
       "version_major": 2,
       "version_minor": 0
      },
      "text/plain": [
       "HBox(children=(FloatProgress(value=0.0, description='Training', layout=Layout(flex='2'), max=1125.0, style=Pro…"
      ]
     },
     "metadata": {},
     "output_type": "display_data"
    },
    {
     "name": "stdout",
     "output_type": "stream",
     "text": [
      "Epoch 437: train=2.34959, val=2.29198, took 39.27 s\n",
      "  Validation Found 8281 of 10819, added 1312 (eff 76.54%) (0.656 FP/event)\n"
     ]
    },
    {
     "data": {
      "application/vnd.jupyter.widget-view+json": {
       "model_id": "",
       "version_major": 2,
       "version_minor": 0
      },
      "text/plain": [
       "HBox(children=(FloatProgress(value=0.0, description='Training', layout=Layout(flex='2'), max=1125.0, style=Pro…"
      ]
     },
     "metadata": {},
     "output_type": "display_data"
    },
    {
     "name": "stdout",
     "output_type": "stream",
     "text": [
      "Epoch 438: train=2.34826, val=2.29324, took 40.038 s\n",
      "  Validation Found 8271 of 10819, added 1308 (eff 76.45%) (0.654 FP/event)\n"
     ]
    },
    {
     "data": {
      "application/vnd.jupyter.widget-view+json": {
       "model_id": "",
       "version_major": 2,
       "version_minor": 0
      },
      "text/plain": [
       "HBox(children=(FloatProgress(value=0.0, description='Training', layout=Layout(flex='2'), max=1125.0, style=Pro…"
      ]
     },
     "metadata": {},
     "output_type": "display_data"
    },
    {
     "name": "stdout",
     "output_type": "stream",
     "text": [
      "Epoch 439: train=2.35071, val=2.29175, took 39.732 s\n",
      "  Validation Found 8278 of 10819, added 1306 (eff 76.51%) (0.653 FP/event)\n"
     ]
    },
    {
     "data": {
      "application/vnd.jupyter.widget-view+json": {
       "model_id": "",
       "version_major": 2,
       "version_minor": 0
      },
      "text/plain": [
       "HBox(children=(FloatProgress(value=0.0, description='Training', layout=Layout(flex='2'), max=1125.0, style=Pro…"
      ]
     },
     "metadata": {},
     "output_type": "display_data"
    },
    {
     "name": "stdout",
     "output_type": "stream",
     "text": [
      "Epoch 440: train=2.34788, val=2.29188, took 39.35 s\n",
      "  Validation Found 8282 of 10819, added 1304 (eff 76.55%) (0.652 FP/event)\n"
     ]
    },
    {
     "data": {
      "application/vnd.jupyter.widget-view+json": {
       "model_id": "",
       "version_major": 2,
       "version_minor": 0
      },
      "text/plain": [
       "HBox(children=(FloatProgress(value=0.0, description='Training', layout=Layout(flex='2'), max=1125.0, style=Pro…"
      ]
     },
     "metadata": {},
     "output_type": "display_data"
    },
    {
     "name": "stdout",
     "output_type": "stream",
     "text": [
      "Epoch 441: train=2.35283, val=2.29383, took 39.354 s\n",
      "  Validation Found 8266 of 10819, added 1318 (eff 76.40%) (0.659 FP/event)\n"
     ]
    },
    {
     "data": {
      "application/vnd.jupyter.widget-view+json": {
       "model_id": "",
       "version_major": 2,
       "version_minor": 0
      },
      "text/plain": [
       "HBox(children=(FloatProgress(value=0.0, description='Training', layout=Layout(flex='2'), max=1125.0, style=Pro…"
      ]
     },
     "metadata": {},
     "output_type": "display_data"
    },
    {
     "name": "stdout",
     "output_type": "stream",
     "text": [
      "Epoch 442: train=2.34798, val=2.29139, took 39.328 s\n",
      "  Validation Found 8292 of 10819, added 1309 (eff 76.64%) (0.654 FP/event)\n"
     ]
    },
    {
     "data": {
      "application/vnd.jupyter.widget-view+json": {
       "model_id": "",
       "version_major": 2,
       "version_minor": 0
      },
      "text/plain": [
       "HBox(children=(FloatProgress(value=0.0, description='Training', layout=Layout(flex='2'), max=1125.0, style=Pro…"
      ]
     },
     "metadata": {},
     "output_type": "display_data"
    },
    {
     "name": "stdout",
     "output_type": "stream",
     "text": [
      "Epoch 443: train=2.3457, val=2.29355, took 39.976 s\n",
      "  Validation Found 8274 of 10819, added 1317 (eff 76.48%) (0.658 FP/event)\n"
     ]
    },
    {
     "data": {
      "application/vnd.jupyter.widget-view+json": {
       "model_id": "",
       "version_major": 2,
       "version_minor": 0
      },
      "text/plain": [
       "HBox(children=(FloatProgress(value=0.0, description='Training', layout=Layout(flex='2'), max=1125.0, style=Pro…"
      ]
     },
     "metadata": {},
     "output_type": "display_data"
    },
    {
     "name": "stdout",
     "output_type": "stream",
     "text": [
      "Epoch 444: train=2.34669, val=2.29198, took 39.327 s\n",
      "  Validation Found 8281 of 10819, added 1305 (eff 76.54%) (0.652 FP/event)\n"
     ]
    },
    {
     "data": {
      "application/vnd.jupyter.widget-view+json": {
       "model_id": "",
       "version_major": 2,
       "version_minor": 0
      },
      "text/plain": [
       "HBox(children=(FloatProgress(value=0.0, description='Training', layout=Layout(flex='2'), max=1125.0, style=Pro…"
      ]
     },
     "metadata": {},
     "output_type": "display_data"
    },
    {
     "name": "stdout",
     "output_type": "stream",
     "text": [
      "Epoch 445: train=2.34694, val=2.29249, took 39.418 s\n",
      "  Validation Found 8269 of 10819, added 1310 (eff 76.43%) (0.655 FP/event)\n"
     ]
    },
    {
     "data": {
      "application/vnd.jupyter.widget-view+json": {
       "model_id": "",
       "version_major": 2,
       "version_minor": 0
      },
      "text/plain": [
       "HBox(children=(FloatProgress(value=0.0, description='Training', layout=Layout(flex='2'), max=1125.0, style=Pro…"
      ]
     },
     "metadata": {},
     "output_type": "display_data"
    },
    {
     "name": "stdout",
     "output_type": "stream",
     "text": [
      "Epoch 446: train=2.34481, val=2.29167, took 39.345 s\n",
      "  Validation Found 8284 of 10819, added 1302 (eff 76.57%) (0.651 FP/event)\n"
     ]
    },
    {
     "data": {
      "application/vnd.jupyter.widget-view+json": {
       "model_id": "",
       "version_major": 2,
       "version_minor": 0
      },
      "text/plain": [
       "HBox(children=(FloatProgress(value=0.0, description='Training', layout=Layout(flex='2'), max=1125.0, style=Pro…"
      ]
     },
     "metadata": {},
     "output_type": "display_data"
    },
    {
     "name": "stdout",
     "output_type": "stream",
     "text": [
      "Epoch 447: train=2.35136, val=2.29134, took 39.306 s\n",
      "  Validation Found 8283 of 10819, added 1307 (eff 76.56%) (0.653 FP/event)\n"
     ]
    },
    {
     "data": {
      "application/vnd.jupyter.widget-view+json": {
       "model_id": "",
       "version_major": 2,
       "version_minor": 0
      },
      "text/plain": [
       "HBox(children=(FloatProgress(value=0.0, description='Training', layout=Layout(flex='2'), max=1125.0, style=Pro…"
      ]
     },
     "metadata": {},
     "output_type": "display_data"
    },
    {
     "name": "stdout",
     "output_type": "stream",
     "text": [
      "Epoch 448: train=2.34583, val=2.29231, took 39.348 s\n",
      "  Validation Found 8286 of 10819, added 1305 (eff 76.59%) (0.652 FP/event)\n"
     ]
    },
    {
     "data": {
      "application/vnd.jupyter.widget-view+json": {
       "model_id": "",
       "version_major": 2,
       "version_minor": 0
      },
      "text/plain": [
       "HBox(children=(FloatProgress(value=0.0, description='Training', layout=Layout(flex='2'), max=1125.0, style=Pro…"
      ]
     },
     "metadata": {},
     "output_type": "display_data"
    },
    {
     "name": "stdout",
     "output_type": "stream",
     "text": [
      "Epoch 449: train=2.34614, val=2.29142, took 39.439 s\n",
      "  Validation Found 8289 of 10819, added 1307 (eff 76.62%) (0.653 FP/event)\n"
     ]
    },
    {
     "data": {
      "application/vnd.jupyter.widget-view+json": {
       "model_id": "",
       "version_major": 2,
       "version_minor": 0
      },
      "text/plain": [
       "HBox(children=(FloatProgress(value=0.0, description='Training', layout=Layout(flex='2'), max=1125.0, style=Pro…"
      ]
     },
     "metadata": {},
     "output_type": "display_data"
    },
    {
     "name": "stdout",
     "output_type": "stream",
     "text": [
      "Epoch 450: train=2.34757, val=2.29168, took 39.722 s\n",
      "  Validation Found 8270 of 10819, added 1313 (eff 76.44%) (0.656 FP/event)\n"
     ]
    },
    {
     "data": {
      "application/vnd.jupyter.widget-view+json": {
       "model_id": "",
       "version_major": 2,
       "version_minor": 0
      },
      "text/plain": [
       "HBox(children=(FloatProgress(value=0.0, description='Training', layout=Layout(flex='2'), max=1125.0, style=Pro…"
      ]
     },
     "metadata": {},
     "output_type": "display_data"
    },
    {
     "name": "stdout",
     "output_type": "stream",
     "text": [
      "Epoch 451: train=2.3497, val=2.29097, took 39.467 s\n",
      "  Validation Found 8292 of 10819, added 1302 (eff 76.64%) (0.651 FP/event)\n"
     ]
    },
    {
     "data": {
      "application/vnd.jupyter.widget-view+json": {
       "model_id": "",
       "version_major": 2,
       "version_minor": 0
      },
      "text/plain": [
       "HBox(children=(FloatProgress(value=0.0, description='Training', layout=Layout(flex='2'), max=1125.0, style=Pro…"
      ]
     },
     "metadata": {},
     "output_type": "display_data"
    },
    {
     "name": "stdout",
     "output_type": "stream",
     "text": [
      "Epoch 452: train=2.34865, val=2.29229, took 39.22 s\n",
      "  Validation Found 8289 of 10819, added 1313 (eff 76.62%) (0.656 FP/event)\n"
     ]
    },
    {
     "data": {
      "application/vnd.jupyter.widget-view+json": {
       "model_id": "",
       "version_major": 2,
       "version_minor": 0
      },
      "text/plain": [
       "HBox(children=(FloatProgress(value=0.0, description='Training', layout=Layout(flex='2'), max=1125.0, style=Pro…"
      ]
     },
     "metadata": {},
     "output_type": "display_data"
    },
    {
     "name": "stdout",
     "output_type": "stream",
     "text": [
      "Epoch 453: train=2.34948, val=2.29042, took 39.338 s\n",
      "  Validation Found 8291 of 10819, added 1306 (eff 76.63%) (0.653 FP/event)\n"
     ]
    },
    {
     "data": {
      "application/vnd.jupyter.widget-view+json": {
       "model_id": "",
       "version_major": 2,
       "version_minor": 0
      },
      "text/plain": [
       "HBox(children=(FloatProgress(value=0.0, description='Training', layout=Layout(flex='2'), max=1125.0, style=Pro…"
      ]
     },
     "metadata": {},
     "output_type": "display_data"
    },
    {
     "name": "stdout",
     "output_type": "stream",
     "text": [
      "Epoch 454: train=2.3499, val=2.29053, took 39.665 s\n",
      "  Validation Found 8291 of 10819, added 1311 (eff 76.63%) (0.655 FP/event)\n"
     ]
    },
    {
     "data": {
      "application/vnd.jupyter.widget-view+json": {
       "model_id": "",
       "version_major": 2,
       "version_minor": 0
      },
      "text/plain": [
       "HBox(children=(FloatProgress(value=0.0, description='Training', layout=Layout(flex='2'), max=1125.0, style=Pro…"
      ]
     },
     "metadata": {},
     "output_type": "display_data"
    },
    {
     "name": "stdout",
     "output_type": "stream",
     "text": [
      "Epoch 455: train=2.3432, val=2.29049, took 39.217 s\n",
      "  Validation Found 8286 of 10819, added 1311 (eff 76.59%) (0.655 FP/event)\n"
     ]
    },
    {
     "data": {
      "application/vnd.jupyter.widget-view+json": {
       "model_id": "",
       "version_major": 2,
       "version_minor": 0
      },
      "text/plain": [
       "HBox(children=(FloatProgress(value=0.0, description='Training', layout=Layout(flex='2'), max=1125.0, style=Pro…"
      ]
     },
     "metadata": {},
     "output_type": "display_data"
    },
    {
     "name": "stdout",
     "output_type": "stream",
     "text": [
      "Epoch 456: train=2.3475, val=2.29055, took 39.282 s\n",
      "  Validation Found 8292 of 10819, added 1309 (eff 76.64%) (0.654 FP/event)\n"
     ]
    },
    {
     "data": {
      "application/vnd.jupyter.widget-view+json": {
       "model_id": "",
       "version_major": 2,
       "version_minor": 0
      },
      "text/plain": [
       "HBox(children=(FloatProgress(value=0.0, description='Training', layout=Layout(flex='2'), max=1125.0, style=Pro…"
      ]
     },
     "metadata": {},
     "output_type": "display_data"
    },
    {
     "name": "stdout",
     "output_type": "stream",
     "text": [
      "Epoch 457: train=2.34852, val=2.29082, took 39.475 s\n",
      "  Validation Found 8288 of 10819, added 1310 (eff 76.61%) (0.655 FP/event)\n"
     ]
    },
    {
     "data": {
      "application/vnd.jupyter.widget-view+json": {
       "model_id": "",
       "version_major": 2,
       "version_minor": 0
      },
      "text/plain": [
       "HBox(children=(FloatProgress(value=0.0, description='Training', layout=Layout(flex='2'), max=1125.0, style=Pro…"
      ]
     },
     "metadata": {},
     "output_type": "display_data"
    },
    {
     "name": "stdout",
     "output_type": "stream",
     "text": [
      "Epoch 458: train=2.34731, val=2.29094, took 39.643 s\n",
      "  Validation Found 8292 of 10819, added 1299 (eff 76.64%) (0.649 FP/event)\n"
     ]
    },
    {
     "data": {
      "application/vnd.jupyter.widget-view+json": {
       "model_id": "",
       "version_major": 2,
       "version_minor": 0
      },
      "text/plain": [
       "HBox(children=(FloatProgress(value=0.0, description='Training', layout=Layout(flex='2'), max=1125.0, style=Pro…"
      ]
     },
     "metadata": {},
     "output_type": "display_data"
    },
    {
     "name": "stdout",
     "output_type": "stream",
     "text": [
      "Epoch 459: train=2.34498, val=2.29157, took 39.693 s\n",
      "  Validation Found 8280 of 10819, added 1301 (eff 76.53%) (0.65 FP/event)\n"
     ]
    },
    {
     "data": {
      "application/vnd.jupyter.widget-view+json": {
       "model_id": "",
       "version_major": 2,
       "version_minor": 0
      },
      "text/plain": [
       "HBox(children=(FloatProgress(value=0.0, description='Training', layout=Layout(flex='2'), max=1125.0, style=Pro…"
      ]
     },
     "metadata": {},
     "output_type": "display_data"
    },
    {
     "name": "stdout",
     "output_type": "stream",
     "text": [
      "Epoch 460: train=2.34783, val=2.29102, took 39.623 s\n",
      "  Validation Found 8281 of 10819, added 1308 (eff 76.54%) (0.654 FP/event)\n"
     ]
    },
    {
     "data": {
      "application/vnd.jupyter.widget-view+json": {
       "model_id": "",
       "version_major": 2,
       "version_minor": 0
      },
      "text/plain": [
       "HBox(children=(FloatProgress(value=0.0, description='Training', layout=Layout(flex='2'), max=1125.0, style=Pro…"
      ]
     },
     "metadata": {},
     "output_type": "display_data"
    },
    {
     "name": "stdout",
     "output_type": "stream",
     "text": [
      "Epoch 461: train=2.34571, val=2.29145, took 39.424 s\n",
      "  Validation Found 8279 of 10819, added 1306 (eff 76.52%) (0.653 FP/event)\n"
     ]
    },
    {
     "data": {
      "application/vnd.jupyter.widget-view+json": {
       "model_id": "",
       "version_major": 2,
       "version_minor": 0
      },
      "text/plain": [
       "HBox(children=(FloatProgress(value=0.0, description='Training', layout=Layout(flex='2'), max=1125.0, style=Pro…"
      ]
     },
     "metadata": {},
     "output_type": "display_data"
    },
    {
     "name": "stdout",
     "output_type": "stream",
     "text": [
      "Epoch 462: train=2.34645, val=2.29178, took 39.273 s\n",
      "  Validation Found 8277 of 10819, added 1308 (eff 76.50%) (0.654 FP/event)\n"
     ]
    },
    {
     "data": {
      "application/vnd.jupyter.widget-view+json": {
       "model_id": "",
       "version_major": 2,
       "version_minor": 0
      },
      "text/plain": [
       "HBox(children=(FloatProgress(value=0.0, description='Training', layout=Layout(flex='2'), max=1125.0, style=Pro…"
      ]
     },
     "metadata": {},
     "output_type": "display_data"
    },
    {
     "name": "stdout",
     "output_type": "stream",
     "text": [
      "Epoch 463: train=2.35135, val=2.29028, took 39.535 s\n",
      "  Validation Found 8289 of 10819, added 1307 (eff 76.62%) (0.653 FP/event)\n"
     ]
    },
    {
     "data": {
      "application/vnd.jupyter.widget-view+json": {
       "model_id": "",
       "version_major": 2,
       "version_minor": 0
      },
      "text/plain": [
       "HBox(children=(FloatProgress(value=0.0, description='Training', layout=Layout(flex='2'), max=1125.0, style=Pro…"
      ]
     },
     "metadata": {},
     "output_type": "display_data"
    },
    {
     "name": "stdout",
     "output_type": "stream",
     "text": [
      "Epoch 464: train=2.34106, val=2.2911, took 39.423 s\n",
      "  Validation Found 8289 of 10819, added 1306 (eff 76.62%) (0.653 FP/event)\n"
     ]
    },
    {
     "data": {
      "application/vnd.jupyter.widget-view+json": {
       "model_id": "",
       "version_major": 2,
       "version_minor": 0
      },
      "text/plain": [
       "HBox(children=(FloatProgress(value=0.0, description='Training', layout=Layout(flex='2'), max=1125.0, style=Pro…"
      ]
     },
     "metadata": {},
     "output_type": "display_data"
    },
    {
     "name": "stdout",
     "output_type": "stream",
     "text": [
      "Epoch 465: train=2.34449, val=2.29251, took 39.669 s\n",
      "  Validation Found 8292 of 10819, added 1314 (eff 76.64%) (0.657 FP/event)\n"
     ]
    },
    {
     "data": {
      "application/vnd.jupyter.widget-view+json": {
       "model_id": "",
       "version_major": 2,
       "version_minor": 0
      },
      "text/plain": [
       "HBox(children=(FloatProgress(value=0.0, description='Training', layout=Layout(flex='2'), max=1125.0, style=Pro…"
      ]
     },
     "metadata": {},
     "output_type": "display_data"
    },
    {
     "name": "stdout",
     "output_type": "stream",
     "text": [
      "Epoch 466: train=2.34742, val=2.29066, took 39.357 s\n",
      "  Validation Found 8286 of 10819, added 1305 (eff 76.59%) (0.652 FP/event)\n"
     ]
    },
    {
     "data": {
      "application/vnd.jupyter.widget-view+json": {
       "model_id": "",
       "version_major": 2,
       "version_minor": 0
      },
      "text/plain": [
       "HBox(children=(FloatProgress(value=0.0, description='Training', layout=Layout(flex='2'), max=1125.0, style=Pro…"
      ]
     },
     "metadata": {},
     "output_type": "display_data"
    },
    {
     "name": "stdout",
     "output_type": "stream",
     "text": [
      "Epoch 467: train=2.34098, val=2.29089, took 39.784 s\n",
      "  Validation Found 8285 of 10819, added 1305 (eff 76.58%) (0.652 FP/event)\n"
     ]
    },
    {
     "data": {
      "application/vnd.jupyter.widget-view+json": {
       "model_id": "",
       "version_major": 2,
       "version_minor": 0
      },
      "text/plain": [
       "HBox(children=(FloatProgress(value=0.0, description='Training', layout=Layout(flex='2'), max=1125.0, style=Pro…"
      ]
     },
     "metadata": {},
     "output_type": "display_data"
    },
    {
     "name": "stdout",
     "output_type": "stream",
     "text": [
      "Epoch 468: train=2.3446, val=2.29066, took 39.334 s\n",
      "  Validation Found 8294 of 10819, added 1305 (eff 76.66%) (0.652 FP/event)\n"
     ]
    },
    {
     "data": {
      "application/vnd.jupyter.widget-view+json": {
       "model_id": "",
       "version_major": 2,
       "version_minor": 0
      },
      "text/plain": [
       "HBox(children=(FloatProgress(value=0.0, description='Training', layout=Layout(flex='2'), max=1125.0, style=Pro…"
      ]
     },
     "metadata": {},
     "output_type": "display_data"
    },
    {
     "name": "stdout",
     "output_type": "stream",
     "text": [
      "Epoch 469: train=2.3449, val=2.29045, took 39.51 s\n",
      "  Validation Found 8283 of 10819, added 1313 (eff 76.56%) (0.656 FP/event)\n"
     ]
    },
    {
     "data": {
      "application/vnd.jupyter.widget-view+json": {
       "model_id": "",
       "version_major": 2,
       "version_minor": 0
      },
      "text/plain": [
       "HBox(children=(FloatProgress(value=0.0, description='Training', layout=Layout(flex='2'), max=1125.0, style=Pro…"
      ]
     },
     "metadata": {},
     "output_type": "display_data"
    },
    {
     "name": "stdout",
     "output_type": "stream",
     "text": [
      "Epoch 470: train=2.34567, val=2.29099, took 39.098 s\n",
      "  Validation Found 8280 of 10819, added 1305 (eff 76.53%) (0.652 FP/event)\n"
     ]
    },
    {
     "data": {
      "application/vnd.jupyter.widget-view+json": {
       "model_id": "",
       "version_major": 2,
       "version_minor": 0
      },
      "text/plain": [
       "HBox(children=(FloatProgress(value=0.0, description='Training', layout=Layout(flex='2'), max=1125.0, style=Pro…"
      ]
     },
     "metadata": {},
     "output_type": "display_data"
    },
    {
     "name": "stdout",
     "output_type": "stream",
     "text": [
      "Epoch 471: train=2.34182, val=2.28958, took 39.625 s\n",
      "  Validation Found 8302 of 10819, added 1306 (eff 76.74%) (0.653 FP/event)\n"
     ]
    },
    {
     "data": {
      "application/vnd.jupyter.widget-view+json": {
       "model_id": "",
       "version_major": 2,
       "version_minor": 0
      },
      "text/plain": [
       "HBox(children=(FloatProgress(value=0.0, description='Training', layout=Layout(flex='2'), max=1125.0, style=Pro…"
      ]
     },
     "metadata": {},
     "output_type": "display_data"
    },
    {
     "name": "stdout",
     "output_type": "stream",
     "text": [
      "Epoch 472: train=2.34381, val=2.28996, took 39.42 s\n",
      "  Validation Found 8298 of 10819, added 1308 (eff 76.70%) (0.654 FP/event)\n"
     ]
    },
    {
     "data": {
      "application/vnd.jupyter.widget-view+json": {
       "model_id": "",
       "version_major": 2,
       "version_minor": 0
      },
      "text/plain": [
       "HBox(children=(FloatProgress(value=0.0, description='Training', layout=Layout(flex='2'), max=1125.0, style=Pro…"
      ]
     },
     "metadata": {},
     "output_type": "display_data"
    },
    {
     "name": "stdout",
     "output_type": "stream",
     "text": [
      "Epoch 473: train=2.3463, val=2.28953, took 39.37 s\n",
      "  Validation Found 8307 of 10819, added 1307 (eff 76.78%) (0.653 FP/event)\n"
     ]
    },
    {
     "data": {
      "application/vnd.jupyter.widget-view+json": {
       "model_id": "",
       "version_major": 2,
       "version_minor": 0
      },
      "text/plain": [
       "HBox(children=(FloatProgress(value=0.0, description='Training', layout=Layout(flex='2'), max=1125.0, style=Pro…"
      ]
     },
     "metadata": {},
     "output_type": "display_data"
    },
    {
     "name": "stdout",
     "output_type": "stream",
     "text": [
      "Epoch 474: train=2.34085, val=2.28966, took 40.061 s\n",
      "  Validation Found 8287 of 10819, added 1310 (eff 76.60%) (0.655 FP/event)\n"
     ]
    },
    {
     "data": {
      "application/vnd.jupyter.widget-view+json": {
       "model_id": "",
       "version_major": 2,
       "version_minor": 0
      },
      "text/plain": [
       "HBox(children=(FloatProgress(value=0.0, description='Training', layout=Layout(flex='2'), max=1125.0, style=Pro…"
      ]
     },
     "metadata": {},
     "output_type": "display_data"
    },
    {
     "name": "stdout",
     "output_type": "stream",
     "text": [
      "Epoch 475: train=2.34995, val=2.29, took 39.584 s\n",
      "  Validation Found 8302 of 10819, added 1307 (eff 76.74%) (0.653 FP/event)\n"
     ]
    },
    {
     "data": {
      "application/vnd.jupyter.widget-view+json": {
       "model_id": "",
       "version_major": 2,
       "version_minor": 0
      },
      "text/plain": [
       "HBox(children=(FloatProgress(value=0.0, description='Training', layout=Layout(flex='2'), max=1125.0, style=Pro…"
      ]
     },
     "metadata": {},
     "output_type": "display_data"
    },
    {
     "name": "stdout",
     "output_type": "stream",
     "text": [
      "Epoch 476: train=2.35151, val=2.29139, took 39.615 s\n",
      "  Validation Found 8281 of 10819, added 1315 (eff 76.54%) (0.657 FP/event)\n"
     ]
    },
    {
     "data": {
      "application/vnd.jupyter.widget-view+json": {
       "model_id": "",
       "version_major": 2,
       "version_minor": 0
      },
      "text/plain": [
       "HBox(children=(FloatProgress(value=0.0, description='Training', layout=Layout(flex='2'), max=1125.0, style=Pro…"
      ]
     },
     "metadata": {},
     "output_type": "display_data"
    },
    {
     "name": "stdout",
     "output_type": "stream",
     "text": [
      "Epoch 477: train=2.3456, val=2.29001, took 39.757 s\n",
      "  Validation Found 8284 of 10819, added 1317 (eff 76.57%) (0.658 FP/event)\n"
     ]
    },
    {
     "data": {
      "application/vnd.jupyter.widget-view+json": {
       "model_id": "",
       "version_major": 2,
       "version_minor": 0
      },
      "text/plain": [
       "HBox(children=(FloatProgress(value=0.0, description='Training', layout=Layout(flex='2'), max=1125.0, style=Pro…"
      ]
     },
     "metadata": {},
     "output_type": "display_data"
    },
    {
     "name": "stdout",
     "output_type": "stream",
     "text": [
      "Epoch 478: train=2.34304, val=2.28975, took 39.617 s\n",
      "  Validation Found 8301 of 10819, added 1311 (eff 76.73%) (0.655 FP/event)\n"
     ]
    },
    {
     "data": {
      "application/vnd.jupyter.widget-view+json": {
       "model_id": "",
       "version_major": 2,
       "version_minor": 0
      },
      "text/plain": [
       "HBox(children=(FloatProgress(value=0.0, description='Training', layout=Layout(flex='2'), max=1125.0, style=Pro…"
      ]
     },
     "metadata": {},
     "output_type": "display_data"
    },
    {
     "name": "stdout",
     "output_type": "stream",
     "text": [
      "Epoch 479: train=2.34756, val=2.28908, took 39.376 s\n",
      "  Validation Found 8298 of 10819, added 1312 (eff 76.70%) (0.656 FP/event)\n"
     ]
    },
    {
     "data": {
      "application/vnd.jupyter.widget-view+json": {
       "model_id": "",
       "version_major": 2,
       "version_minor": 0
      },
      "text/plain": [
       "HBox(children=(FloatProgress(value=0.0, description='Training', layout=Layout(flex='2'), max=1125.0, style=Pro…"
      ]
     },
     "metadata": {},
     "output_type": "display_data"
    },
    {
     "name": "stdout",
     "output_type": "stream",
     "text": [
      "Epoch 480: train=2.34589, val=2.29199, took 39.605 s\n",
      "  Validation Found 8292 of 10819, added 1315 (eff 76.64%) (0.657 FP/event)\n"
     ]
    },
    {
     "data": {
      "application/vnd.jupyter.widget-view+json": {
       "model_id": "",
       "version_major": 2,
       "version_minor": 0
      },
      "text/plain": [
       "HBox(children=(FloatProgress(value=0.0, description='Training', layout=Layout(flex='2'), max=1125.0, style=Pro…"
      ]
     },
     "metadata": {},
     "output_type": "display_data"
    },
    {
     "name": "stdout",
     "output_type": "stream",
     "text": [
      "Epoch 481: train=2.34842, val=2.28933, took 39.407 s\n",
      "  Validation Found 8291 of 10819, added 1307 (eff 76.63%) (0.653 FP/event)\n"
     ]
    },
    {
     "data": {
      "application/vnd.jupyter.widget-view+json": {
       "model_id": "",
       "version_major": 2,
       "version_minor": 0
      },
      "text/plain": [
       "HBox(children=(FloatProgress(value=0.0, description='Training', layout=Layout(flex='2'), max=1125.0, style=Pro…"
      ]
     },
     "metadata": {},
     "output_type": "display_data"
    },
    {
     "name": "stdout",
     "output_type": "stream",
     "text": [
      "Epoch 482: train=2.34131, val=2.29017, took 39.602 s\n",
      "  Validation Found 8279 of 10819, added 1316 (eff 76.52%) (0.658 FP/event)\n"
     ]
    },
    {
     "data": {
      "application/vnd.jupyter.widget-view+json": {
       "model_id": "",
       "version_major": 2,
       "version_minor": 0
      },
      "text/plain": [
       "HBox(children=(FloatProgress(value=0.0, description='Training', layout=Layout(flex='2'), max=1125.0, style=Pro…"
      ]
     },
     "metadata": {},
     "output_type": "display_data"
    },
    {
     "name": "stdout",
     "output_type": "stream",
     "text": [
      "Epoch 483: train=2.344, val=2.29114, took 39.925 s\n",
      "  Validation Found 8298 of 10819, added 1312 (eff 76.70%) (0.656 FP/event)\n"
     ]
    },
    {
     "data": {
      "application/vnd.jupyter.widget-view+json": {
       "model_id": "",
       "version_major": 2,
       "version_minor": 0
      },
      "text/plain": [
       "HBox(children=(FloatProgress(value=0.0, description='Training', layout=Layout(flex='2'), max=1125.0, style=Pro…"
      ]
     },
     "metadata": {},
     "output_type": "display_data"
    },
    {
     "name": "stdout",
     "output_type": "stream",
     "text": [
      "Epoch 484: train=2.34707, val=2.28979, took 39.385 s\n",
      "  Validation Found 8299 of 10819, added 1308 (eff 76.71%) (0.654 FP/event)\n"
     ]
    },
    {
     "data": {
      "application/vnd.jupyter.widget-view+json": {
       "model_id": "",
       "version_major": 2,
       "version_minor": 0
      },
      "text/plain": [
       "HBox(children=(FloatProgress(value=0.0, description='Training', layout=Layout(flex='2'), max=1125.0, style=Pro…"
      ]
     },
     "metadata": {},
     "output_type": "display_data"
    },
    {
     "name": "stdout",
     "output_type": "stream",
     "text": [
      "Epoch 485: train=2.3394, val=2.28951, took 39.377 s\n",
      "  Validation Found 8291 of 10819, added 1306 (eff 76.63%) (0.653 FP/event)\n"
     ]
    },
    {
     "data": {
      "application/vnd.jupyter.widget-view+json": {
       "model_id": "",
       "version_major": 2,
       "version_minor": 0
      },
      "text/plain": [
       "HBox(children=(FloatProgress(value=0.0, description='Training', layout=Layout(flex='2'), max=1125.0, style=Pro…"
      ]
     },
     "metadata": {},
     "output_type": "display_data"
    },
    {
     "name": "stdout",
     "output_type": "stream",
     "text": [
      "Epoch 486: train=2.34469, val=2.29047, took 39.887 s\n",
      "  Validation Found 8283 of 10819, added 1316 (eff 76.56%) (0.658 FP/event)\n"
     ]
    },
    {
     "data": {
      "application/vnd.jupyter.widget-view+json": {
       "model_id": "",
       "version_major": 2,
       "version_minor": 0
      },
      "text/plain": [
       "HBox(children=(FloatProgress(value=0.0, description='Training', layout=Layout(flex='2'), max=1125.0, style=Pro…"
      ]
     },
     "metadata": {},
     "output_type": "display_data"
    },
    {
     "name": "stdout",
     "output_type": "stream",
     "text": [
      "Epoch 487: train=2.34445, val=2.29008, took 39.404 s\n",
      "  Validation Found 8300 of 10819, added 1307 (eff 76.72%) (0.653 FP/event)\n"
     ]
    },
    {
     "data": {
      "application/vnd.jupyter.widget-view+json": {
       "model_id": "",
       "version_major": 2,
       "version_minor": 0
      },
      "text/plain": [
       "HBox(children=(FloatProgress(value=0.0, description='Training', layout=Layout(flex='2'), max=1125.0, style=Pro…"
      ]
     },
     "metadata": {},
     "output_type": "display_data"
    },
    {
     "name": "stdout",
     "output_type": "stream",
     "text": [
      "Epoch 488: train=2.34106, val=2.28996, took 39.719 s\n",
      "  Validation Found 8284 of 10819, added 1309 (eff 76.57%) (0.654 FP/event)\n"
     ]
    },
    {
     "data": {
      "application/vnd.jupyter.widget-view+json": {
       "model_id": "",
       "version_major": 2,
       "version_minor": 0
      },
      "text/plain": [
       "HBox(children=(FloatProgress(value=0.0, description='Training', layout=Layout(flex='2'), max=1125.0, style=Pro…"
      ]
     },
     "metadata": {},
     "output_type": "display_data"
    },
    {
     "name": "stdout",
     "output_type": "stream",
     "text": [
      "Epoch 489: train=2.34398, val=2.28917, took 39.626 s\n",
      "  Validation Found 8293 of 10819, added 1309 (eff 76.65%) (0.654 FP/event)\n"
     ]
    },
    {
     "data": {
      "application/vnd.jupyter.widget-view+json": {
       "model_id": "",
       "version_major": 2,
       "version_minor": 0
      },
      "text/plain": [
       "HBox(children=(FloatProgress(value=0.0, description='Training', layout=Layout(flex='2'), max=1125.0, style=Pro…"
      ]
     },
     "metadata": {},
     "output_type": "display_data"
    },
    {
     "name": "stdout",
     "output_type": "stream",
     "text": [
      "Epoch 490: train=2.34639, val=2.2901, took 39.512 s\n",
      "  Validation Found 8279 of 10819, added 1318 (eff 76.52%) (0.659 FP/event)\n"
     ]
    },
    {
     "data": {
      "application/vnd.jupyter.widget-view+json": {
       "model_id": "",
       "version_major": 2,
       "version_minor": 0
      },
      "text/plain": [
       "HBox(children=(FloatProgress(value=0.0, description='Training', layout=Layout(flex='2'), max=1125.0, style=Pro…"
      ]
     },
     "metadata": {},
     "output_type": "display_data"
    },
    {
     "name": "stdout",
     "output_type": "stream",
     "text": [
      "Epoch 491: train=2.34083, val=2.29008, took 39.667 s\n",
      "  Validation Found 8300 of 10819, added 1305 (eff 76.72%) (0.652 FP/event)\n"
     ]
    },
    {
     "data": {
      "application/vnd.jupyter.widget-view+json": {
       "model_id": "",
       "version_major": 2,
       "version_minor": 0
      },
      "text/plain": [
       "HBox(children=(FloatProgress(value=0.0, description='Training', layout=Layout(flex='2'), max=1125.0, style=Pro…"
      ]
     },
     "metadata": {},
     "output_type": "display_data"
    },
    {
     "name": "stdout",
     "output_type": "stream",
     "text": [
      "Epoch 492: train=2.34271, val=2.28948, took 39.593 s\n",
      "  Validation Found 8286 of 10819, added 1314 (eff 76.59%) (0.657 FP/event)\n"
     ]
    },
    {
     "data": {
      "application/vnd.jupyter.widget-view+json": {
       "model_id": "",
       "version_major": 2,
       "version_minor": 0
      },
      "text/plain": [
       "HBox(children=(FloatProgress(value=0.0, description='Training', layout=Layout(flex='2'), max=1125.0, style=Pro…"
      ]
     },
     "metadata": {},
     "output_type": "display_data"
    },
    {
     "name": "stdout",
     "output_type": "stream",
     "text": [
      "Epoch 493: train=2.34623, val=2.28881, took 39.389 s\n",
      "  Validation Found 8302 of 10819, added 1298 (eff 76.74%) (0.649 FP/event)\n"
     ]
    },
    {
     "data": {
      "application/vnd.jupyter.widget-view+json": {
       "model_id": "",
       "version_major": 2,
       "version_minor": 0
      },
      "text/plain": [
       "HBox(children=(FloatProgress(value=0.0, description='Training', layout=Layout(flex='2'), max=1125.0, style=Pro…"
      ]
     },
     "metadata": {},
     "output_type": "display_data"
    },
    {
     "name": "stdout",
     "output_type": "stream",
     "text": [
      "Epoch 494: train=2.34637, val=2.28899, took 39.324 s\n",
      "  Validation Found 8297 of 10819, added 1302 (eff 76.69%) (0.651 FP/event)\n"
     ]
    },
    {
     "data": {
      "application/vnd.jupyter.widget-view+json": {
       "model_id": "",
       "version_major": 2,
       "version_minor": 0
      },
      "text/plain": [
       "HBox(children=(FloatProgress(value=0.0, description='Training', layout=Layout(flex='2'), max=1125.0, style=Pro…"
      ]
     },
     "metadata": {},
     "output_type": "display_data"
    },
    {
     "name": "stdout",
     "output_type": "stream",
     "text": [
      "Epoch 495: train=2.34064, val=2.28923, took 39.303 s\n",
      "  Validation Found 8291 of 10819, added 1307 (eff 76.63%) (0.653 FP/event)\n"
     ]
    },
    {
     "data": {
      "application/vnd.jupyter.widget-view+json": {
       "model_id": "",
       "version_major": 2,
       "version_minor": 0
      },
      "text/plain": [
       "HBox(children=(FloatProgress(value=0.0, description='Training', layout=Layout(flex='2'), max=1125.0, style=Pro…"
      ]
     },
     "metadata": {},
     "output_type": "display_data"
    },
    {
     "name": "stdout",
     "output_type": "stream",
     "text": [
      "Epoch 496: train=2.34628, val=2.28872, took 39.34 s\n",
      "  Validation Found 8297 of 10819, added 1300 (eff 76.69%) (0.65 FP/event)\n"
     ]
    },
    {
     "data": {
      "application/vnd.jupyter.widget-view+json": {
       "model_id": "",
       "version_major": 2,
       "version_minor": 0
      },
      "text/plain": [
       "HBox(children=(FloatProgress(value=0.0, description='Training', layout=Layout(flex='2'), max=1125.0, style=Pro…"
      ]
     },
     "metadata": {},
     "output_type": "display_data"
    },
    {
     "name": "stdout",
     "output_type": "stream",
     "text": [
      "Epoch 497: train=2.34313, val=2.28799, took 39.312 s\n",
      "  Validation Found 8304 of 10819, added 1301 (eff 76.75%) (0.65 FP/event)\n"
     ]
    },
    {
     "data": {
      "application/vnd.jupyter.widget-view+json": {
       "model_id": "",
       "version_major": 2,
       "version_minor": 0
      },
      "text/plain": [
       "HBox(children=(FloatProgress(value=0.0, description='Training', layout=Layout(flex='2'), max=1125.0, style=Pro…"
      ]
     },
     "metadata": {},
     "output_type": "display_data"
    },
    {
     "name": "stdout",
     "output_type": "stream",
     "text": [
      "Epoch 498: train=2.34067, val=2.2878, took 39.97 s\n",
      "  Validation Found 8301 of 10819, added 1302 (eff 76.73%) (0.651 FP/event)\n"
     ]
    },
    {
     "data": {
      "application/vnd.jupyter.widget-view+json": {
       "model_id": "",
       "version_major": 2,
       "version_minor": 0
      },
      "text/plain": [
       "HBox(children=(FloatProgress(value=0.0, description='Training', layout=Layout(flex='2'), max=1125.0, style=Pro…"
      ]
     },
     "metadata": {},
     "output_type": "display_data"
    },
    {
     "name": "stdout",
     "output_type": "stream",
     "text": [
      "Epoch 499: train=2.34073, val=2.28816, took 39.375 s\n",
      "  Validation Found 8294 of 10819, added 1308 (eff 76.66%) (0.654 FP/event)\n"
     ]
    },
    {
     "data": {
      "application/vnd.jupyter.widget-view+json": {
       "model_id": "",
       "version_major": 2,
       "version_minor": 0
      },
      "text/plain": [
       "HBox(children=(FloatProgress(value=0.0, description='Training', layout=Layout(flex='2'), max=1125.0, style=Pro…"
      ]
     },
     "metadata": {},
     "output_type": "display_data"
    },
    {
     "name": "stdout",
     "output_type": "stream",
     "text": [
      "Epoch 500: train=2.34318, val=2.28868, took 39.397 s\n",
      "  Validation Found 8301 of 10819, added 1307 (eff 76.73%) (0.653 FP/event)\n"
     ]
    },
    {
     "data": {
      "application/vnd.jupyter.widget-view+json": {
       "model_id": "",
       "version_major": 2,
       "version_minor": 0
      },
      "text/plain": [
       "HBox(children=(FloatProgress(value=0.0, description='Training', layout=Layout(flex='2'), max=1125.0, style=Pro…"
      ]
     },
     "metadata": {},
     "output_type": "display_data"
    },
    {
     "name": "stdout",
     "output_type": "stream",
     "text": [
      "Epoch 501: train=2.33803, val=2.28854, took 39.342 s\n",
      "  Validation Found 8302 of 10819, added 1307 (eff 76.74%) (0.653 FP/event)\n"
     ]
    },
    {
     "data": {
      "application/vnd.jupyter.widget-view+json": {
       "model_id": "",
       "version_major": 2,
       "version_minor": 0
      },
      "text/plain": [
       "HBox(children=(FloatProgress(value=0.0, description='Training', layout=Layout(flex='2'), max=1125.0, style=Pro…"
      ]
     },
     "metadata": {},
     "output_type": "display_data"
    },
    {
     "name": "stdout",
     "output_type": "stream",
     "text": [
      "Epoch 502: train=2.34157, val=2.2879, took 39.336 s\n",
      "  Validation Found 8309 of 10819, added 1304 (eff 76.80%) (0.652 FP/event)\n"
     ]
    },
    {
     "data": {
      "application/vnd.jupyter.widget-view+json": {
       "model_id": "",
       "version_major": 2,
       "version_minor": 0
      },
      "text/plain": [
       "HBox(children=(FloatProgress(value=0.0, description='Training', layout=Layout(flex='2'), max=1125.0, style=Pro…"
      ]
     },
     "metadata": {},
     "output_type": "display_data"
    },
    {
     "name": "stdout",
     "output_type": "stream",
     "text": [
      "Epoch 503: train=2.3426, val=2.28795, took 39.342 s\n",
      "  Validation Found 8301 of 10819, added 1304 (eff 76.73%) (0.652 FP/event)\n"
     ]
    },
    {
     "data": {
      "application/vnd.jupyter.widget-view+json": {
       "model_id": "",
       "version_major": 2,
       "version_minor": 0
      },
      "text/plain": [
       "HBox(children=(FloatProgress(value=0.0, description='Training', layout=Layout(flex='2'), max=1125.0, style=Pro…"
      ]
     },
     "metadata": {},
     "output_type": "display_data"
    },
    {
     "name": "stdout",
     "output_type": "stream",
     "text": [
      "Epoch 504: train=2.33781, val=2.28809, took 39.174 s\n",
      "  Validation Found 8302 of 10819, added 1311 (eff 76.74%) (0.655 FP/event)\n"
     ]
    },
    {
     "data": {
      "application/vnd.jupyter.widget-view+json": {
       "model_id": "",
       "version_major": 2,
       "version_minor": 0
      },
      "text/plain": [
       "HBox(children=(FloatProgress(value=0.0, description='Training', layout=Layout(flex='2'), max=1125.0, style=Pro…"
      ]
     },
     "metadata": {},
     "output_type": "display_data"
    },
    {
     "name": "stdout",
     "output_type": "stream",
     "text": [
      "Epoch 505: train=2.3326, val=2.28916, took 39.211 s\n",
      "  Validation Found 8291 of 10819, added 1311 (eff 76.63%) (0.655 FP/event)\n"
     ]
    },
    {
     "data": {
      "application/vnd.jupyter.widget-view+json": {
       "model_id": "",
       "version_major": 2,
       "version_minor": 0
      },
      "text/plain": [
       "HBox(children=(FloatProgress(value=0.0, description='Training', layout=Layout(flex='2'), max=1125.0, style=Pro…"
      ]
     },
     "metadata": {},
     "output_type": "display_data"
    },
    {
     "name": "stdout",
     "output_type": "stream",
     "text": [
      "Epoch 506: train=2.34165, val=2.28831, took 39.338 s\n",
      "  Validation Found 8302 of 10819, added 1306 (eff 76.74%) (0.653 FP/event)\n"
     ]
    },
    {
     "data": {
      "application/vnd.jupyter.widget-view+json": {
       "model_id": "",
       "version_major": 2,
       "version_minor": 0
      },
      "text/plain": [
       "HBox(children=(FloatProgress(value=0.0, description='Training', layout=Layout(flex='2'), max=1125.0, style=Pro…"
      ]
     },
     "metadata": {},
     "output_type": "display_data"
    },
    {
     "name": "stdout",
     "output_type": "stream",
     "text": [
      "Epoch 507: train=2.34243, val=2.28787, took 39.34 s\n",
      "  Validation Found 8299 of 10819, added 1307 (eff 76.71%) (0.653 FP/event)\n"
     ]
    },
    {
     "data": {
      "application/vnd.jupyter.widget-view+json": {
       "model_id": "",
       "version_major": 2,
       "version_minor": 0
      },
      "text/plain": [
       "HBox(children=(FloatProgress(value=0.0, description='Training', layout=Layout(flex='2'), max=1125.0, style=Pro…"
      ]
     },
     "metadata": {},
     "output_type": "display_data"
    },
    {
     "name": "stdout",
     "output_type": "stream",
     "text": [
      "Epoch 508: train=2.34472, val=2.28753, took 39.41 s\n",
      "  Validation Found 8302 of 10819, added 1305 (eff 76.74%) (0.652 FP/event)\n"
     ]
    },
    {
     "data": {
      "application/vnd.jupyter.widget-view+json": {
       "model_id": "",
       "version_major": 2,
       "version_minor": 0
      },
      "text/plain": [
       "HBox(children=(FloatProgress(value=0.0, description='Training', layout=Layout(flex='2'), max=1125.0, style=Pro…"
      ]
     },
     "metadata": {},
     "output_type": "display_data"
    },
    {
     "name": "stdout",
     "output_type": "stream",
     "text": [
      "Epoch 509: train=2.34167, val=2.28709, took 39.331 s\n",
      "  Validation Found 8299 of 10819, added 1310 (eff 76.71%) (0.655 FP/event)\n"
     ]
    },
    {
     "data": {
      "application/vnd.jupyter.widget-view+json": {
       "model_id": "",
       "version_major": 2,
       "version_minor": 0
      },
      "text/plain": [
       "HBox(children=(FloatProgress(value=0.0, description='Training', layout=Layout(flex='2'), max=1125.0, style=Pro…"
      ]
     },
     "metadata": {},
     "output_type": "display_data"
    },
    {
     "name": "stdout",
     "output_type": "stream",
     "text": [
      "Epoch 510: train=2.33833, val=2.28698, took 39.396 s\n",
      "  Validation Found 8294 of 10819, added 1311 (eff 76.66%) (0.655 FP/event)\n"
     ]
    },
    {
     "data": {
      "application/vnd.jupyter.widget-view+json": {
       "model_id": "",
       "version_major": 2,
       "version_minor": 0
      },
      "text/plain": [
       "HBox(children=(FloatProgress(value=0.0, description='Training', layout=Layout(flex='2'), max=1125.0, style=Pro…"
      ]
     },
     "metadata": {},
     "output_type": "display_data"
    },
    {
     "name": "stdout",
     "output_type": "stream",
     "text": [
      "Epoch 511: train=2.33982, val=2.28679, took 39.327 s\n",
      "  Validation Found 8300 of 10819, added 1309 (eff 76.72%) (0.654 FP/event)\n"
     ]
    },
    {
     "data": {
      "application/vnd.jupyter.widget-view+json": {
       "model_id": "",
       "version_major": 2,
       "version_minor": 0
      },
      "text/plain": [
       "HBox(children=(FloatProgress(value=0.0, description='Training', layout=Layout(flex='2'), max=1125.0, style=Pro…"
      ]
     },
     "metadata": {},
     "output_type": "display_data"
    },
    {
     "name": "stdout",
     "output_type": "stream",
     "text": [
      "Epoch 512: train=2.33966, val=2.28738, took 39.296 s\n",
      "  Validation Found 8303 of 10819, added 1311 (eff 76.74%) (0.655 FP/event)\n"
     ]
    },
    {
     "data": {
      "application/vnd.jupyter.widget-view+json": {
       "model_id": "",
       "version_major": 2,
       "version_minor": 0
      },
      "text/plain": [
       "HBox(children=(FloatProgress(value=0.0, description='Training', layout=Layout(flex='2'), max=1125.0, style=Pro…"
      ]
     },
     "metadata": {},
     "output_type": "display_data"
    },
    {
     "name": "stdout",
     "output_type": "stream",
     "text": [
      "Epoch 513: train=2.34292, val=2.28712, took 39.407 s\n",
      "  Validation Found 8298 of 10819, added 1310 (eff 76.70%) (0.655 FP/event)\n"
     ]
    },
    {
     "data": {
      "application/vnd.jupyter.widget-view+json": {
       "model_id": "",
       "version_major": 2,
       "version_minor": 0
      },
      "text/plain": [
       "HBox(children=(FloatProgress(value=0.0, description='Training', layout=Layout(flex='2'), max=1125.0, style=Pro…"
      ]
     },
     "metadata": {},
     "output_type": "display_data"
    },
    {
     "name": "stdout",
     "output_type": "stream",
     "text": [
      "Epoch 514: train=2.33895, val=2.28797, took 39.353 s\n",
      "  Validation Found 8302 of 10819, added 1312 (eff 76.74%) (0.656 FP/event)\n"
     ]
    },
    {
     "data": {
      "application/vnd.jupyter.widget-view+json": {
       "model_id": "",
       "version_major": 2,
       "version_minor": 0
      },
      "text/plain": [
       "HBox(children=(FloatProgress(value=0.0, description='Training', layout=Layout(flex='2'), max=1125.0, style=Pro…"
      ]
     },
     "metadata": {},
     "output_type": "display_data"
    },
    {
     "name": "stdout",
     "output_type": "stream",
     "text": [
      "Epoch 515: train=2.34196, val=2.28754, took 39.331 s\n",
      "  Validation Found 8309 of 10819, added 1305 (eff 76.80%) (0.652 FP/event)\n"
     ]
    },
    {
     "data": {
      "application/vnd.jupyter.widget-view+json": {
       "model_id": "",
       "version_major": 2,
       "version_minor": 0
      },
      "text/plain": [
       "HBox(children=(FloatProgress(value=0.0, description='Training', layout=Layout(flex='2'), max=1125.0, style=Pro…"
      ]
     },
     "metadata": {},
     "output_type": "display_data"
    },
    {
     "name": "stdout",
     "output_type": "stream",
     "text": [
      "Epoch 516: train=2.34013, val=2.28698, took 39.585 s\n",
      "  Validation Found 8304 of 10819, added 1301 (eff 76.75%) (0.65 FP/event)\n"
     ]
    },
    {
     "data": {
      "application/vnd.jupyter.widget-view+json": {
       "model_id": "",
       "version_major": 2,
       "version_minor": 0
      },
      "text/plain": [
       "HBox(children=(FloatProgress(value=0.0, description='Training', layout=Layout(flex='2'), max=1125.0, style=Pro…"
      ]
     },
     "metadata": {},
     "output_type": "display_data"
    },
    {
     "name": "stdout",
     "output_type": "stream",
     "text": [
      "Epoch 517: train=2.3387, val=2.28711, took 39.307 s\n",
      "  Validation Found 8306 of 10819, added 1304 (eff 76.77%) (0.652 FP/event)\n"
     ]
    },
    {
     "data": {
      "application/vnd.jupyter.widget-view+json": {
       "model_id": "",
       "version_major": 2,
       "version_minor": 0
      },
      "text/plain": [
       "HBox(children=(FloatProgress(value=0.0, description='Training', layout=Layout(flex='2'), max=1125.0, style=Pro…"
      ]
     },
     "metadata": {},
     "output_type": "display_data"
    },
    {
     "name": "stdout",
     "output_type": "stream",
     "text": [
      "Epoch 518: train=2.3398, val=2.28708, took 39.639 s\n",
      "  Validation Found 8306 of 10819, added 1304 (eff 76.77%) (0.652 FP/event)\n"
     ]
    },
    {
     "data": {
      "application/vnd.jupyter.widget-view+json": {
       "model_id": "",
       "version_major": 2,
       "version_minor": 0
      },
      "text/plain": [
       "HBox(children=(FloatProgress(value=0.0, description='Training', layout=Layout(flex='2'), max=1125.0, style=Pro…"
      ]
     },
     "metadata": {},
     "output_type": "display_data"
    },
    {
     "name": "stdout",
     "output_type": "stream",
     "text": [
      "Epoch 519: train=2.33732, val=2.28783, took 39.404 s\n",
      "  Validation Found 8292 of 10819, added 1312 (eff 76.64%) (0.656 FP/event)\n"
     ]
    },
    {
     "data": {
      "application/vnd.jupyter.widget-view+json": {
       "model_id": "",
       "version_major": 2,
       "version_minor": 0
      },
      "text/plain": [
       "HBox(children=(FloatProgress(value=0.0, description='Training', layout=Layout(flex='2'), max=1125.0, style=Pro…"
      ]
     },
     "metadata": {},
     "output_type": "display_data"
    },
    {
     "name": "stdout",
     "output_type": "stream",
     "text": [
      "Epoch 520: train=2.34415, val=2.28982, took 39.344 s\n",
      "  Validation Found 8299 of 10819, added 1312 (eff 76.71%) (0.656 FP/event)\n"
     ]
    },
    {
     "data": {
      "application/vnd.jupyter.widget-view+json": {
       "model_id": "",
       "version_major": 2,
       "version_minor": 0
      },
      "text/plain": [
       "HBox(children=(FloatProgress(value=0.0, description='Training', layout=Layout(flex='2'), max=1125.0, style=Pro…"
      ]
     },
     "metadata": {},
     "output_type": "display_data"
    },
    {
     "name": "stdout",
     "output_type": "stream",
     "text": [
      "Epoch 521: train=2.34235, val=2.28646, took 39.364 s\n",
      "  Validation Found 8301 of 10819, added 1306 (eff 76.73%) (0.653 FP/event)\n"
     ]
    },
    {
     "data": {
      "application/vnd.jupyter.widget-view+json": {
       "model_id": "",
       "version_major": 2,
       "version_minor": 0
      },
      "text/plain": [
       "HBox(children=(FloatProgress(value=0.0, description='Training', layout=Layout(flex='2'), max=1125.0, style=Pro…"
      ]
     },
     "metadata": {},
     "output_type": "display_data"
    },
    {
     "name": "stdout",
     "output_type": "stream",
     "text": [
      "Epoch 522: train=2.34227, val=2.28638, took 39.359 s\n",
      "  Validation Found 8306 of 10819, added 1301 (eff 76.77%) (0.65 FP/event)\n"
     ]
    },
    {
     "data": {
      "application/vnd.jupyter.widget-view+json": {
       "model_id": "",
       "version_major": 2,
       "version_minor": 0
      },
      "text/plain": [
       "HBox(children=(FloatProgress(value=0.0, description='Training', layout=Layout(flex='2'), max=1125.0, style=Pro…"
      ]
     },
     "metadata": {},
     "output_type": "display_data"
    },
    {
     "name": "stdout",
     "output_type": "stream",
     "text": [
      "Epoch 523: train=2.3406, val=2.28641, took 39.327 s\n",
      "  Validation Found 8300 of 10819, added 1309 (eff 76.72%) (0.654 FP/event)\n"
     ]
    },
    {
     "data": {
      "application/vnd.jupyter.widget-view+json": {
       "model_id": "",
       "version_major": 2,
       "version_minor": 0
      },
      "text/plain": [
       "HBox(children=(FloatProgress(value=0.0, description='Training', layout=Layout(flex='2'), max=1125.0, style=Pro…"
      ]
     },
     "metadata": {},
     "output_type": "display_data"
    },
    {
     "name": "stdout",
     "output_type": "stream",
     "text": [
      "Epoch 524: train=2.34554, val=2.28863, took 39.301 s\n",
      "  Validation Found 8309 of 10819, added 1306 (eff 76.80%) (0.653 FP/event)\n"
     ]
    },
    {
     "data": {
      "application/vnd.jupyter.widget-view+json": {
       "model_id": "",
       "version_major": 2,
       "version_minor": 0
      },
      "text/plain": [
       "HBox(children=(FloatProgress(value=0.0, description='Training', layout=Layout(flex='2'), max=1125.0, style=Pro…"
      ]
     },
     "metadata": {},
     "output_type": "display_data"
    },
    {
     "name": "stdout",
     "output_type": "stream",
     "text": [
      "Epoch 525: train=2.33966, val=2.28655, took 39.692 s\n",
      "  Validation Found 8311 of 10819, added 1306 (eff 76.82%) (0.653 FP/event)\n"
     ]
    },
    {
     "data": {
      "application/vnd.jupyter.widget-view+json": {
       "model_id": "",
       "version_major": 2,
       "version_minor": 0
      },
      "text/plain": [
       "HBox(children=(FloatProgress(value=0.0, description='Training', layout=Layout(flex='2'), max=1125.0, style=Pro…"
      ]
     },
     "metadata": {},
     "output_type": "display_data"
    },
    {
     "name": "stdout",
     "output_type": "stream",
     "text": [
      "Epoch 526: train=2.34276, val=2.28648, took 39.365 s\n",
      "  Validation Found 8305 of 10819, added 1301 (eff 76.76%) (0.65 FP/event)\n"
     ]
    },
    {
     "data": {
      "application/vnd.jupyter.widget-view+json": {
       "model_id": "",
       "version_major": 2,
       "version_minor": 0
      },
      "text/plain": [
       "HBox(children=(FloatProgress(value=0.0, description='Training', layout=Layout(flex='2'), max=1125.0, style=Pro…"
      ]
     },
     "metadata": {},
     "output_type": "display_data"
    },
    {
     "name": "stdout",
     "output_type": "stream",
     "text": [
      "Epoch 527: train=2.33818, val=2.28764, took 39.4 s\n",
      "  Validation Found 8299 of 10819, added 1307 (eff 76.71%) (0.653 FP/event)\n"
     ]
    },
    {
     "data": {
      "application/vnd.jupyter.widget-view+json": {
       "model_id": "",
       "version_major": 2,
       "version_minor": 0
      },
      "text/plain": [
       "HBox(children=(FloatProgress(value=0.0, description='Training', layout=Layout(flex='2'), max=1125.0, style=Pro…"
      ]
     },
     "metadata": {},
     "output_type": "display_data"
    },
    {
     "name": "stdout",
     "output_type": "stream",
     "text": [
      "Epoch 528: train=2.34213, val=2.28686, took 39.341 s\n",
      "  Validation Found 8309 of 10819, added 1312 (eff 76.80%) (0.656 FP/event)\n"
     ]
    },
    {
     "data": {
      "application/vnd.jupyter.widget-view+json": {
       "model_id": "",
       "version_major": 2,
       "version_minor": 0
      },
      "text/plain": [
       "HBox(children=(FloatProgress(value=0.0, description='Training', layout=Layout(flex='2'), max=1125.0, style=Pro…"
      ]
     },
     "metadata": {},
     "output_type": "display_data"
    },
    {
     "name": "stdout",
     "output_type": "stream",
     "text": [
      "Epoch 529: train=2.33883, val=2.28912, took 39.318 s\n",
      "  Validation Found 8292 of 10819, added 1317 (eff 76.64%) (0.658 FP/event)\n"
     ]
    },
    {
     "data": {
      "application/vnd.jupyter.widget-view+json": {
       "model_id": "",
       "version_major": 2,
       "version_minor": 0
      },
      "text/plain": [
       "HBox(children=(FloatProgress(value=0.0, description='Training', layout=Layout(flex='2'), max=1125.0, style=Pro…"
      ]
     },
     "metadata": {},
     "output_type": "display_data"
    },
    {
     "name": "stdout",
     "output_type": "stream",
     "text": [
      "Epoch 530: train=2.3361, val=2.28627, took 39.902 s\n",
      "  Validation Found 8310 of 10819, added 1309 (eff 76.81%) (0.654 FP/event)\n"
     ]
    },
    {
     "data": {
      "application/vnd.jupyter.widget-view+json": {
       "model_id": "",
       "version_major": 2,
       "version_minor": 0
      },
      "text/plain": [
       "HBox(children=(FloatProgress(value=0.0, description='Training', layout=Layout(flex='2'), max=1125.0, style=Pro…"
      ]
     },
     "metadata": {},
     "output_type": "display_data"
    },
    {
     "name": "stdout",
     "output_type": "stream",
     "text": [
      "Epoch 531: train=2.33817, val=2.28913, took 39.564 s\n",
      "  Validation Found 8308 of 10819, added 1310 (eff 76.79%) (0.655 FP/event)\n"
     ]
    },
    {
     "data": {
      "application/vnd.jupyter.widget-view+json": {
       "model_id": "",
       "version_major": 2,
       "version_minor": 0
      },
      "text/plain": [
       "HBox(children=(FloatProgress(value=0.0, description='Training', layout=Layout(flex='2'), max=1125.0, style=Pro…"
      ]
     },
     "metadata": {},
     "output_type": "display_data"
    },
    {
     "name": "stdout",
     "output_type": "stream",
     "text": [
      "Epoch 532: train=2.34034, val=2.29015, took 39.34 s\n",
      "  Validation Found 8288 of 10819, added 1327 (eff 76.61%) (0.663 FP/event)\n"
     ]
    },
    {
     "data": {
      "application/vnd.jupyter.widget-view+json": {
       "model_id": "",
       "version_major": 2,
       "version_minor": 0
      },
      "text/plain": [
       "HBox(children=(FloatProgress(value=0.0, description='Training', layout=Layout(flex='2'), max=1125.0, style=Pro…"
      ]
     },
     "metadata": {},
     "output_type": "display_data"
    },
    {
     "name": "stdout",
     "output_type": "stream",
     "text": [
      "Epoch 533: train=2.3338, val=2.28629, took 39.335 s\n",
      "  Validation Found 8312 of 10819, added 1304 (eff 76.83%) (0.652 FP/event)\n"
     ]
    },
    {
     "data": {
      "application/vnd.jupyter.widget-view+json": {
       "model_id": "",
       "version_major": 2,
       "version_minor": 0
      },
      "text/plain": [
       "HBox(children=(FloatProgress(value=0.0, description='Training', layout=Layout(flex='2'), max=1125.0, style=Pro…"
      ]
     },
     "metadata": {},
     "output_type": "display_data"
    },
    {
     "name": "stdout",
     "output_type": "stream",
     "text": [
      "Epoch 534: train=2.33451, val=2.28626, took 39.35 s\n",
      "  Validation Found 8314 of 10819, added 1312 (eff 76.85%) (0.656 FP/event)\n"
     ]
    },
    {
     "data": {
      "application/vnd.jupyter.widget-view+json": {
       "model_id": "",
       "version_major": 2,
       "version_minor": 0
      },
      "text/plain": [
       "HBox(children=(FloatProgress(value=0.0, description='Training', layout=Layout(flex='2'), max=1125.0, style=Pro…"
      ]
     },
     "metadata": {},
     "output_type": "display_data"
    },
    {
     "name": "stdout",
     "output_type": "stream",
     "text": [
      "Epoch 535: train=2.34431, val=2.28607, took 39.391 s\n",
      "  Validation Found 8309 of 10819, added 1304 (eff 76.80%) (0.652 FP/event)\n"
     ]
    },
    {
     "data": {
      "application/vnd.jupyter.widget-view+json": {
       "model_id": "",
       "version_major": 2,
       "version_minor": 0
      },
      "text/plain": [
       "HBox(children=(FloatProgress(value=0.0, description='Training', layout=Layout(flex='2'), max=1125.0, style=Pro…"
      ]
     },
     "metadata": {},
     "output_type": "display_data"
    },
    {
     "name": "stdout",
     "output_type": "stream",
     "text": [
      "Epoch 536: train=2.34322, val=2.2879, took 39.477 s\n",
      "  Validation Found 8294 of 10819, added 1326 (eff 76.66%) (0.663 FP/event)\n"
     ]
    },
    {
     "data": {
      "application/vnd.jupyter.widget-view+json": {
       "model_id": "",
       "version_major": 2,
       "version_minor": 0
      },
      "text/plain": [
       "HBox(children=(FloatProgress(value=0.0, description='Training', layout=Layout(flex='2'), max=1125.0, style=Pro…"
      ]
     },
     "metadata": {},
     "output_type": "display_data"
    },
    {
     "name": "stdout",
     "output_type": "stream",
     "text": [
      "Epoch 537: train=2.34159, val=2.28553, took 39.425 s\n",
      "  Validation Found 8306 of 10819, added 1305 (eff 76.77%) (0.652 FP/event)\n"
     ]
    },
    {
     "data": {
      "application/vnd.jupyter.widget-view+json": {
       "model_id": "",
       "version_major": 2,
       "version_minor": 0
      },
      "text/plain": [
       "HBox(children=(FloatProgress(value=0.0, description='Training', layout=Layout(flex='2'), max=1125.0, style=Pro…"
      ]
     },
     "metadata": {},
     "output_type": "display_data"
    },
    {
     "name": "stdout",
     "output_type": "stream",
     "text": [
      "Epoch 538: train=2.33543, val=2.28607, took 39.371 s\n",
      "  Validation Found 8306 of 10819, added 1307 (eff 76.77%) (0.653 FP/event)\n"
     ]
    },
    {
     "data": {
      "application/vnd.jupyter.widget-view+json": {
       "model_id": "",
       "version_major": 2,
       "version_minor": 0
      },
      "text/plain": [
       "HBox(children=(FloatProgress(value=0.0, description='Training', layout=Layout(flex='2'), max=1125.0, style=Pro…"
      ]
     },
     "metadata": {},
     "output_type": "display_data"
    },
    {
     "name": "stdout",
     "output_type": "stream",
     "text": [
      "Epoch 539: train=2.33749, val=2.28551, took 39.346 s\n",
      "  Validation Found 8302 of 10819, added 1315 (eff 76.74%) (0.657 FP/event)\n"
     ]
    },
    {
     "data": {
      "application/vnd.jupyter.widget-view+json": {
       "model_id": "",
       "version_major": 2,
       "version_minor": 0
      },
      "text/plain": [
       "HBox(children=(FloatProgress(value=0.0, description='Training', layout=Layout(flex='2'), max=1125.0, style=Pro…"
      ]
     },
     "metadata": {},
     "output_type": "display_data"
    },
    {
     "name": "stdout",
     "output_type": "stream",
     "text": [
      "Epoch 540: train=2.33878, val=2.28562, took 39.361 s\n",
      "  Validation Found 8313 of 10819, added 1306 (eff 76.84%) (0.653 FP/event)\n"
     ]
    },
    {
     "data": {
      "application/vnd.jupyter.widget-view+json": {
       "model_id": "",
       "version_major": 2,
       "version_minor": 0
      },
      "text/plain": [
       "HBox(children=(FloatProgress(value=0.0, description='Training', layout=Layout(flex='2'), max=1125.0, style=Pro…"
      ]
     },
     "metadata": {},
     "output_type": "display_data"
    },
    {
     "name": "stdout",
     "output_type": "stream",
     "text": [
      "Epoch 541: train=2.3327, val=2.2864, took 39.424 s\n",
      "  Validation Found 8312 of 10819, added 1305 (eff 76.83%) (0.652 FP/event)\n"
     ]
    },
    {
     "data": {
      "application/vnd.jupyter.widget-view+json": {
       "model_id": "",
       "version_major": 2,
       "version_minor": 0
      },
      "text/plain": [
       "HBox(children=(FloatProgress(value=0.0, description='Training', layout=Layout(flex='2'), max=1125.0, style=Pro…"
      ]
     },
     "metadata": {},
     "output_type": "display_data"
    },
    {
     "name": "stdout",
     "output_type": "stream",
     "text": [
      "Epoch 542: train=2.33926, val=2.28602, took 39.396 s\n",
      "  Validation Found 8297 of 10819, added 1310 (eff 76.69%) (0.655 FP/event)\n"
     ]
    },
    {
     "data": {
      "application/vnd.jupyter.widget-view+json": {
       "model_id": "",
       "version_major": 2,
       "version_minor": 0
      },
      "text/plain": [
       "HBox(children=(FloatProgress(value=0.0, description='Training', layout=Layout(flex='2'), max=1125.0, style=Pro…"
      ]
     },
     "metadata": {},
     "output_type": "display_data"
    },
    {
     "name": "stdout",
     "output_type": "stream",
     "text": [
      "Epoch 543: train=2.33863, val=2.28571, took 39.326 s\n",
      "  Validation Found 8311 of 10819, added 1304 (eff 76.82%) (0.652 FP/event)\n"
     ]
    },
    {
     "data": {
      "application/vnd.jupyter.widget-view+json": {
       "model_id": "",
       "version_major": 2,
       "version_minor": 0
      },
      "text/plain": [
       "HBox(children=(FloatProgress(value=0.0, description='Training', layout=Layout(flex='2'), max=1125.0, style=Pro…"
      ]
     },
     "metadata": {},
     "output_type": "display_data"
    },
    {
     "name": "stdout",
     "output_type": "stream",
     "text": [
      "Epoch 544: train=2.34006, val=2.28587, took 39.314 s\n",
      "  Validation Found 8312 of 10819, added 1302 (eff 76.83%) (0.651 FP/event)\n"
     ]
    },
    {
     "data": {
      "application/vnd.jupyter.widget-view+json": {
       "model_id": "",
       "version_major": 2,
       "version_minor": 0
      },
      "text/plain": [
       "HBox(children=(FloatProgress(value=0.0, description='Training', layout=Layout(flex='2'), max=1125.0, style=Pro…"
      ]
     },
     "metadata": {},
     "output_type": "display_data"
    },
    {
     "name": "stdout",
     "output_type": "stream",
     "text": [
      "Epoch 545: train=2.33603, val=2.28491, took 39.355 s\n",
      "  Validation Found 8310 of 10819, added 1306 (eff 76.81%) (0.653 FP/event)\n"
     ]
    },
    {
     "data": {
      "application/vnd.jupyter.widget-view+json": {
       "model_id": "",
       "version_major": 2,
       "version_minor": 0
      },
      "text/plain": [
       "HBox(children=(FloatProgress(value=0.0, description='Training', layout=Layout(flex='2'), max=1125.0, style=Pro…"
      ]
     },
     "metadata": {},
     "output_type": "display_data"
    },
    {
     "name": "stdout",
     "output_type": "stream",
     "text": [
      "Epoch 546: train=2.33156, val=2.28471, took 39.391 s\n",
      "  Validation Found 8314 of 10819, added 1305 (eff 76.85%) (0.652 FP/event)\n"
     ]
    },
    {
     "data": {
      "application/vnd.jupyter.widget-view+json": {
       "model_id": "",
       "version_major": 2,
       "version_minor": 0
      },
      "text/plain": [
       "HBox(children=(FloatProgress(value=0.0, description='Training', layout=Layout(flex='2'), max=1125.0, style=Pro…"
      ]
     },
     "metadata": {},
     "output_type": "display_data"
    },
    {
     "name": "stdout",
     "output_type": "stream",
     "text": [
      "Epoch 547: train=2.33836, val=2.28926, took 39.32 s\n",
      "  Validation Found 8293 of 10819, added 1321 (eff 76.65%) (0.66 FP/event)\n"
     ]
    },
    {
     "data": {
      "application/vnd.jupyter.widget-view+json": {
       "model_id": "",
       "version_major": 2,
       "version_minor": 0
      },
      "text/plain": [
       "HBox(children=(FloatProgress(value=0.0, description='Training', layout=Layout(flex='2'), max=1125.0, style=Pro…"
      ]
     },
     "metadata": {},
     "output_type": "display_data"
    },
    {
     "name": "stdout",
     "output_type": "stream",
     "text": [
      "Epoch 548: train=2.33675, val=2.28523, took 39.411 s\n",
      "  Validation Found 8308 of 10819, added 1318 (eff 76.79%) (0.659 FP/event)\n"
     ]
    },
    {
     "data": {
      "application/vnd.jupyter.widget-view+json": {
       "model_id": "",
       "version_major": 2,
       "version_minor": 0
      },
      "text/plain": [
       "HBox(children=(FloatProgress(value=0.0, description='Training', layout=Layout(flex='2'), max=1125.0, style=Pro…"
      ]
     },
     "metadata": {},
     "output_type": "display_data"
    },
    {
     "name": "stdout",
     "output_type": "stream",
     "text": [
      "Epoch 549: train=2.3366, val=2.28529, took 39.358 s\n",
      "  Validation Found 8306 of 10819, added 1314 (eff 76.77%) (0.657 FP/event)\n"
     ]
    },
    {
     "data": {
      "application/vnd.jupyter.widget-view+json": {
       "model_id": "",
       "version_major": 2,
       "version_minor": 0
      },
      "text/plain": [
       "HBox(children=(FloatProgress(value=0.0, description='Training', layout=Layout(flex='2'), max=1125.0, style=Pro…"
      ]
     },
     "metadata": {},
     "output_type": "display_data"
    },
    {
     "name": "stdout",
     "output_type": "stream",
     "text": [
      "Epoch 550: train=2.33744, val=2.28497, took 39.631 s\n",
      "  Validation Found 8309 of 10819, added 1305 (eff 76.80%) (0.652 FP/event)\n"
     ]
    },
    {
     "data": {
      "application/vnd.jupyter.widget-view+json": {
       "model_id": "",
       "version_major": 2,
       "version_minor": 0
      },
      "text/plain": [
       "HBox(children=(FloatProgress(value=0.0, description='Training', layout=Layout(flex='2'), max=1125.0, style=Pro…"
      ]
     },
     "metadata": {},
     "output_type": "display_data"
    },
    {
     "name": "stdout",
     "output_type": "stream",
     "text": [
      "Epoch 551: train=2.33338, val=2.28421, took 39.388 s\n",
      "  Validation Found 8312 of 10819, added 1304 (eff 76.83%) (0.652 FP/event)\n"
     ]
    },
    {
     "data": {
      "application/vnd.jupyter.widget-view+json": {
       "model_id": "",
       "version_major": 2,
       "version_minor": 0
      },
      "text/plain": [
       "HBox(children=(FloatProgress(value=0.0, description='Training', layout=Layout(flex='2'), max=1125.0, style=Pro…"
      ]
     },
     "metadata": {},
     "output_type": "display_data"
    },
    {
     "name": "stdout",
     "output_type": "stream",
     "text": [
      "Epoch 552: train=2.33426, val=2.28464, took 39.377 s\n",
      "  Validation Found 8311 of 10819, added 1305 (eff 76.82%) (0.652 FP/event)\n"
     ]
    },
    {
     "data": {
      "application/vnd.jupyter.widget-view+json": {
       "model_id": "",
       "version_major": 2,
       "version_minor": 0
      },
      "text/plain": [
       "HBox(children=(FloatProgress(value=0.0, description='Training', layout=Layout(flex='2'), max=1125.0, style=Pro…"
      ]
     },
     "metadata": {},
     "output_type": "display_data"
    },
    {
     "name": "stdout",
     "output_type": "stream",
     "text": [
      "Epoch 553: train=2.33754, val=2.28465, took 39.495 s\n",
      "  Validation Found 8315 of 10819, added 1305 (eff 76.86%) (0.652 FP/event)\n"
     ]
    },
    {
     "data": {
      "application/vnd.jupyter.widget-view+json": {
       "model_id": "",
       "version_major": 2,
       "version_minor": 0
      },
      "text/plain": [
       "HBox(children=(FloatProgress(value=0.0, description='Training', layout=Layout(flex='2'), max=1125.0, style=Pro…"
      ]
     },
     "metadata": {},
     "output_type": "display_data"
    },
    {
     "name": "stdout",
     "output_type": "stream",
     "text": [
      "Epoch 554: train=2.33765, val=2.28481, took 39.388 s\n",
      "  Validation Found 8310 of 10819, added 1305 (eff 76.81%) (0.652 FP/event)\n"
     ]
    },
    {
     "data": {
      "application/vnd.jupyter.widget-view+json": {
       "model_id": "",
       "version_major": 2,
       "version_minor": 0
      },
      "text/plain": [
       "HBox(children=(FloatProgress(value=0.0, description='Training', layout=Layout(flex='2'), max=1125.0, style=Pro…"
      ]
     },
     "metadata": {},
     "output_type": "display_data"
    },
    {
     "name": "stdout",
     "output_type": "stream",
     "text": [
      "Epoch 555: train=2.33509, val=2.28798, took 39.979 s\n",
      "  Validation Found 8294 of 10819, added 1323 (eff 76.66%) (0.661 FP/event)\n"
     ]
    },
    {
     "data": {
      "application/vnd.jupyter.widget-view+json": {
       "model_id": "",
       "version_major": 2,
       "version_minor": 0
      },
      "text/plain": [
       "HBox(children=(FloatProgress(value=0.0, description='Training', layout=Layout(flex='2'), max=1125.0, style=Pro…"
      ]
     },
     "metadata": {},
     "output_type": "display_data"
    },
    {
     "name": "stdout",
     "output_type": "stream",
     "text": [
      "Epoch 556: train=2.33658, val=2.28436, took 39.283 s\n",
      "  Validation Found 8306 of 10819, added 1313 (eff 76.77%) (0.656 FP/event)\n"
     ]
    },
    {
     "data": {
      "application/vnd.jupyter.widget-view+json": {
       "model_id": "",
       "version_major": 2,
       "version_minor": 0
      },
      "text/plain": [
       "HBox(children=(FloatProgress(value=0.0, description='Training', layout=Layout(flex='2'), max=1125.0, style=Pro…"
      ]
     },
     "metadata": {},
     "output_type": "display_data"
    },
    {
     "name": "stdout",
     "output_type": "stream",
     "text": [
      "Epoch 557: train=2.33103, val=2.28461, took 39.763 s\n",
      "  Validation Found 8316 of 10819, added 1309 (eff 76.86%) (0.654 FP/event)\n"
     ]
    },
    {
     "data": {
      "application/vnd.jupyter.widget-view+json": {
       "model_id": "",
       "version_major": 2,
       "version_minor": 0
      },
      "text/plain": [
       "HBox(children=(FloatProgress(value=0.0, description='Training', layout=Layout(flex='2'), max=1125.0, style=Pro…"
      ]
     },
     "metadata": {},
     "output_type": "display_data"
    },
    {
     "name": "stdout",
     "output_type": "stream",
     "text": [
      "Epoch 558: train=2.33273, val=2.28563, took 39.554 s\n",
      "  Validation Found 8302 of 10819, added 1311 (eff 76.74%) (0.655 FP/event)\n"
     ]
    },
    {
     "data": {
      "application/vnd.jupyter.widget-view+json": {
       "model_id": "",
       "version_major": 2,
       "version_minor": 0
      },
      "text/plain": [
       "HBox(children=(FloatProgress(value=0.0, description='Training', layout=Layout(flex='2'), max=1125.0, style=Pro…"
      ]
     },
     "metadata": {},
     "output_type": "display_data"
    },
    {
     "name": "stdout",
     "output_type": "stream",
     "text": [
      "Epoch 559: train=2.33631, val=2.28812, took 39.499 s\n",
      "  Validation Found 8314 of 10819, added 1313 (eff 76.85%) (0.656 FP/event)\n"
     ]
    },
    {
     "data": {
      "application/vnd.jupyter.widget-view+json": {
       "model_id": "",
       "version_major": 2,
       "version_minor": 0
      },
      "text/plain": [
       "HBox(children=(FloatProgress(value=0.0, description='Training', layout=Layout(flex='2'), max=1125.0, style=Pro…"
      ]
     },
     "metadata": {},
     "output_type": "display_data"
    },
    {
     "name": "stdout",
     "output_type": "stream",
     "text": [
      "Epoch 560: train=2.33523, val=2.28441, took 39.548 s\n",
      "  Validation Found 8312 of 10819, added 1305 (eff 76.83%) (0.652 FP/event)\n"
     ]
    },
    {
     "data": {
      "application/vnd.jupyter.widget-view+json": {
       "model_id": "",
       "version_major": 2,
       "version_minor": 0
      },
      "text/plain": [
       "HBox(children=(FloatProgress(value=0.0, description='Training', layout=Layout(flex='2'), max=1125.0, style=Pro…"
      ]
     },
     "metadata": {},
     "output_type": "display_data"
    },
    {
     "name": "stdout",
     "output_type": "stream",
     "text": [
      "Epoch 561: train=2.33284, val=2.28413, took 39.685 s\n",
      "  Validation Found 8310 of 10819, added 1306 (eff 76.81%) (0.653 FP/event)\n"
     ]
    },
    {
     "data": {
      "application/vnd.jupyter.widget-view+json": {
       "model_id": "",
       "version_major": 2,
       "version_minor": 0
      },
      "text/plain": [
       "HBox(children=(FloatProgress(value=0.0, description='Training', layout=Layout(flex='2'), max=1125.0, style=Pro…"
      ]
     },
     "metadata": {},
     "output_type": "display_data"
    },
    {
     "name": "stdout",
     "output_type": "stream",
     "text": [
      "Epoch 562: train=2.33516, val=2.28461, took 39.112 s\n",
      "  Validation Found 8314 of 10819, added 1308 (eff 76.85%) (0.654 FP/event)\n"
     ]
    },
    {
     "data": {
      "application/vnd.jupyter.widget-view+json": {
       "model_id": "",
       "version_major": 2,
       "version_minor": 0
      },
      "text/plain": [
       "HBox(children=(FloatProgress(value=0.0, description='Training', layout=Layout(flex='2'), max=1125.0, style=Pro…"
      ]
     },
     "metadata": {},
     "output_type": "display_data"
    },
    {
     "name": "stdout",
     "output_type": "stream",
     "text": [
      "Epoch 563: train=2.33729, val=2.28396, took 39.567 s\n",
      "  Validation Found 8319 of 10819, added 1302 (eff 76.89%) (0.651 FP/event)\n"
     ]
    },
    {
     "data": {
      "application/vnd.jupyter.widget-view+json": {
       "model_id": "",
       "version_major": 2,
       "version_minor": 0
      },
      "text/plain": [
       "HBox(children=(FloatProgress(value=0.0, description='Training', layout=Layout(flex='2'), max=1125.0, style=Pro…"
      ]
     },
     "metadata": {},
     "output_type": "display_data"
    },
    {
     "name": "stdout",
     "output_type": "stream",
     "text": [
      "Epoch 564: train=2.3382, val=2.2853, took 39.56 s\n",
      "  Validation Found 8305 of 10819, added 1319 (eff 76.76%) (0.659 FP/event)\n"
     ]
    },
    {
     "data": {
      "application/vnd.jupyter.widget-view+json": {
       "model_id": "",
       "version_major": 2,
       "version_minor": 0
      },
      "text/plain": [
       "HBox(children=(FloatProgress(value=0.0, description='Training', layout=Layout(flex='2'), max=1125.0, style=Pro…"
      ]
     },
     "metadata": {},
     "output_type": "display_data"
    },
    {
     "name": "stdout",
     "output_type": "stream",
     "text": [
      "Epoch 565: train=2.33929, val=2.28475, took 39.626 s\n",
      "  Validation Found 8317 of 10819, added 1310 (eff 76.87%) (0.655 FP/event)\n"
     ]
    },
    {
     "data": {
      "application/vnd.jupyter.widget-view+json": {
       "model_id": "",
       "version_major": 2,
       "version_minor": 0
      },
      "text/plain": [
       "HBox(children=(FloatProgress(value=0.0, description='Training', layout=Layout(flex='2'), max=1125.0, style=Pro…"
      ]
     },
     "metadata": {},
     "output_type": "display_data"
    },
    {
     "name": "stdout",
     "output_type": "stream",
     "text": [
      "Epoch 566: train=2.33512, val=2.28507, took 39.443 s\n",
      "  Validation Found 8303 of 10819, added 1317 (eff 76.74%) (0.658 FP/event)\n"
     ]
    },
    {
     "data": {
      "application/vnd.jupyter.widget-view+json": {
       "model_id": "",
       "version_major": 2,
       "version_minor": 0
      },
      "text/plain": [
       "HBox(children=(FloatProgress(value=0.0, description='Training', layout=Layout(flex='2'), max=1125.0, style=Pro…"
      ]
     },
     "metadata": {},
     "output_type": "display_data"
    },
    {
     "name": "stdout",
     "output_type": "stream",
     "text": [
      "Epoch 567: train=2.33615, val=2.28409, took 39.774 s\n",
      "  Validation Found 8307 of 10819, added 1312 (eff 76.78%) (0.656 FP/event)\n"
     ]
    },
    {
     "data": {
      "application/vnd.jupyter.widget-view+json": {
       "model_id": "",
       "version_major": 2,
       "version_minor": 0
      },
      "text/plain": [
       "HBox(children=(FloatProgress(value=0.0, description='Training', layout=Layout(flex='2'), max=1125.0, style=Pro…"
      ]
     },
     "metadata": {},
     "output_type": "display_data"
    },
    {
     "name": "stdout",
     "output_type": "stream",
     "text": [
      "Epoch 568: train=2.33219, val=2.29007, took 39.603 s\n",
      "  Validation Found 8301 of 10819, added 1309 (eff 76.73%) (0.654 FP/event)\n"
     ]
    },
    {
     "data": {
      "application/vnd.jupyter.widget-view+json": {
       "model_id": "",
       "version_major": 2,
       "version_minor": 0
      },
      "text/plain": [
       "HBox(children=(FloatProgress(value=0.0, description='Training', layout=Layout(flex='2'), max=1125.0, style=Pro…"
      ]
     },
     "metadata": {},
     "output_type": "display_data"
    },
    {
     "name": "stdout",
     "output_type": "stream",
     "text": [
      "Epoch 569: train=2.33643, val=2.28348, took 39.415 s\n",
      "  Validation Found 8318 of 10819, added 1304 (eff 76.88%) (0.652 FP/event)\n"
     ]
    },
    {
     "data": {
      "application/vnd.jupyter.widget-view+json": {
       "model_id": "",
       "version_major": 2,
       "version_minor": 0
      },
      "text/plain": [
       "HBox(children=(FloatProgress(value=0.0, description='Training', layout=Layout(flex='2'), max=1125.0, style=Pro…"
      ]
     },
     "metadata": {},
     "output_type": "display_data"
    },
    {
     "name": "stdout",
     "output_type": "stream",
     "text": [
      "Epoch 570: train=2.33441, val=2.28428, took 39.437 s\n",
      "  Validation Found 8318 of 10819, added 1316 (eff 76.88%) (0.658 FP/event)\n"
     ]
    },
    {
     "data": {
      "application/vnd.jupyter.widget-view+json": {
       "model_id": "",
       "version_major": 2,
       "version_minor": 0
      },
      "text/plain": [
       "HBox(children=(FloatProgress(value=0.0, description='Training', layout=Layout(flex='2'), max=1125.0, style=Pro…"
      ]
     },
     "metadata": {},
     "output_type": "display_data"
    },
    {
     "name": "stdout",
     "output_type": "stream",
     "text": [
      "Epoch 571: train=2.33278, val=2.28647, took 39.458 s\n",
      "  Validation Found 8313 of 10819, added 1317 (eff 76.84%) (0.658 FP/event)\n"
     ]
    },
    {
     "data": {
      "application/vnd.jupyter.widget-view+json": {
       "model_id": "",
       "version_major": 2,
       "version_minor": 0
      },
      "text/plain": [
       "HBox(children=(FloatProgress(value=0.0, description='Training', layout=Layout(flex='2'), max=1125.0, style=Pro…"
      ]
     },
     "metadata": {},
     "output_type": "display_data"
    },
    {
     "name": "stdout",
     "output_type": "stream",
     "text": [
      "Epoch 572: train=2.33003, val=2.28417, took 39.268 s\n",
      "  Validation Found 8326 of 10819, added 1308 (eff 76.96%) (0.654 FP/event)\n"
     ]
    },
    {
     "data": {
      "application/vnd.jupyter.widget-view+json": {
       "model_id": "",
       "version_major": 2,
       "version_minor": 0
      },
      "text/plain": [
       "HBox(children=(FloatProgress(value=0.0, description='Training', layout=Layout(flex='2'), max=1125.0, style=Pro…"
      ]
     },
     "metadata": {},
     "output_type": "display_data"
    },
    {
     "name": "stdout",
     "output_type": "stream",
     "text": [
      "Epoch 573: train=2.33496, val=2.28381, took 39.538 s\n",
      "  Validation Found 8321 of 10819, added 1312 (eff 76.91%) (0.656 FP/event)\n"
     ]
    },
    {
     "data": {
      "application/vnd.jupyter.widget-view+json": {
       "model_id": "",
       "version_major": 2,
       "version_minor": 0
      },
      "text/plain": [
       "HBox(children=(FloatProgress(value=0.0, description='Training', layout=Layout(flex='2'), max=1125.0, style=Pro…"
      ]
     },
     "metadata": {},
     "output_type": "display_data"
    },
    {
     "name": "stdout",
     "output_type": "stream",
     "text": [
      "Epoch 574: train=2.33386, val=2.28288, took 39.377 s\n",
      "  Validation Found 8320 of 10819, added 1311 (eff 76.90%) (0.655 FP/event)\n"
     ]
    },
    {
     "data": {
      "application/vnd.jupyter.widget-view+json": {
       "model_id": "",
       "version_major": 2,
       "version_minor": 0
      },
      "text/plain": [
       "HBox(children=(FloatProgress(value=0.0, description='Training', layout=Layout(flex='2'), max=1125.0, style=Pro…"
      ]
     },
     "metadata": {},
     "output_type": "display_data"
    },
    {
     "name": "stdout",
     "output_type": "stream",
     "text": [
      "Epoch 575: train=2.33663, val=2.28293, took 39.535 s\n",
      "  Validation Found 8324 of 10819, added 1307 (eff 76.94%) (0.653 FP/event)\n"
     ]
    },
    {
     "data": {
      "application/vnd.jupyter.widget-view+json": {
       "model_id": "",
       "version_major": 2,
       "version_minor": 0
      },
      "text/plain": [
       "HBox(children=(FloatProgress(value=0.0, description='Training', layout=Layout(flex='2'), max=1125.0, style=Pro…"
      ]
     },
     "metadata": {},
     "output_type": "display_data"
    },
    {
     "name": "stdout",
     "output_type": "stream",
     "text": [
      "Epoch 576: train=2.32628, val=2.28346, took 39.381 s\n",
      "  Validation Found 8309 of 10819, added 1310 (eff 76.80%) (0.655 FP/event)\n"
     ]
    },
    {
     "data": {
      "application/vnd.jupyter.widget-view+json": {
       "model_id": "",
       "version_major": 2,
       "version_minor": 0
      },
      "text/plain": [
       "HBox(children=(FloatProgress(value=0.0, description='Training', layout=Layout(flex='2'), max=1125.0, style=Pro…"
      ]
     },
     "metadata": {},
     "output_type": "display_data"
    },
    {
     "name": "stdout",
     "output_type": "stream",
     "text": [
      "Epoch 577: train=2.33693, val=2.28377, took 39.673 s\n",
      "  Validation Found 8314 of 10819, added 1309 (eff 76.85%) (0.654 FP/event)\n"
     ]
    },
    {
     "data": {
      "application/vnd.jupyter.widget-view+json": {
       "model_id": "",
       "version_major": 2,
       "version_minor": 0
      },
      "text/plain": [
       "HBox(children=(FloatProgress(value=0.0, description='Training', layout=Layout(flex='2'), max=1125.0, style=Pro…"
      ]
     },
     "metadata": {},
     "output_type": "display_data"
    },
    {
     "name": "stdout",
     "output_type": "stream",
     "text": [
      "Epoch 578: train=2.33571, val=2.28429, took 39.616 s\n",
      "  Validation Found 8316 of 10819, added 1307 (eff 76.86%) (0.653 FP/event)\n"
     ]
    },
    {
     "data": {
      "application/vnd.jupyter.widget-view+json": {
       "model_id": "",
       "version_major": 2,
       "version_minor": 0
      },
      "text/plain": [
       "HBox(children=(FloatProgress(value=0.0, description='Training', layout=Layout(flex='2'), max=1125.0, style=Pro…"
      ]
     },
     "metadata": {},
     "output_type": "display_data"
    },
    {
     "name": "stdout",
     "output_type": "stream",
     "text": [
      "Epoch 579: train=2.33301, val=2.28384, took 39.558 s\n",
      "  Validation Found 8313 of 10819, added 1305 (eff 76.84%) (0.652 FP/event)\n"
     ]
    },
    {
     "data": {
      "application/vnd.jupyter.widget-view+json": {
       "model_id": "",
       "version_major": 2,
       "version_minor": 0
      },
      "text/plain": [
       "HBox(children=(FloatProgress(value=0.0, description='Training', layout=Layout(flex='2'), max=1125.0, style=Pro…"
      ]
     },
     "metadata": {},
     "output_type": "display_data"
    },
    {
     "name": "stdout",
     "output_type": "stream",
     "text": [
      "Epoch 580: train=2.3322, val=2.28319, took 39.53 s\n",
      "  Validation Found 8315 of 10819, added 1306 (eff 76.86%) (0.653 FP/event)\n"
     ]
    },
    {
     "data": {
      "application/vnd.jupyter.widget-view+json": {
       "model_id": "",
       "version_major": 2,
       "version_minor": 0
      },
      "text/plain": [
       "HBox(children=(FloatProgress(value=0.0, description='Training', layout=Layout(flex='2'), max=1125.0, style=Pro…"
      ]
     },
     "metadata": {},
     "output_type": "display_data"
    },
    {
     "name": "stdout",
     "output_type": "stream",
     "text": [
      "Epoch 581: train=2.33869, val=2.28452, took 39.65 s\n",
      "  Validation Found 8301 of 10819, added 1322 (eff 76.73%) (0.661 FP/event)\n"
     ]
    },
    {
     "data": {
      "application/vnd.jupyter.widget-view+json": {
       "model_id": "",
       "version_major": 2,
       "version_minor": 0
      },
      "text/plain": [
       "HBox(children=(FloatProgress(value=0.0, description='Training', layout=Layout(flex='2'), max=1125.0, style=Pro…"
      ]
     },
     "metadata": {},
     "output_type": "display_data"
    },
    {
     "name": "stdout",
     "output_type": "stream",
     "text": [
      "Epoch 582: train=2.33061, val=2.28539, took 39.392 s\n",
      "  Validation Found 8301 of 10819, added 1329 (eff 76.73%) (0.664 FP/event)\n"
     ]
    },
    {
     "data": {
      "application/vnd.jupyter.widget-view+json": {
       "model_id": "",
       "version_major": 2,
       "version_minor": 0
      },
      "text/plain": [
       "HBox(children=(FloatProgress(value=0.0, description='Training', layout=Layout(flex='2'), max=1125.0, style=Pro…"
      ]
     },
     "metadata": {},
     "output_type": "display_data"
    },
    {
     "name": "stdout",
     "output_type": "stream",
     "text": [
      "Epoch 583: train=2.33607, val=2.28308, took 39.43 s\n",
      "  Validation Found 8318 of 10819, added 1313 (eff 76.88%) (0.656 FP/event)\n"
     ]
    },
    {
     "data": {
      "application/vnd.jupyter.widget-view+json": {
       "model_id": "",
       "version_major": 2,
       "version_minor": 0
      },
      "text/plain": [
       "HBox(children=(FloatProgress(value=0.0, description='Training', layout=Layout(flex='2'), max=1125.0, style=Pro…"
      ]
     },
     "metadata": {},
     "output_type": "display_data"
    },
    {
     "name": "stdout",
     "output_type": "stream",
     "text": [
      "Epoch 584: train=2.33003, val=2.28298, took 39.478 s\n",
      "  Validation Found 8319 of 10819, added 1304 (eff 76.89%) (0.652 FP/event)\n"
     ]
    },
    {
     "data": {
      "application/vnd.jupyter.widget-view+json": {
       "model_id": "",
       "version_major": 2,
       "version_minor": 0
      },
      "text/plain": [
       "HBox(children=(FloatProgress(value=0.0, description='Training', layout=Layout(flex='2'), max=1125.0, style=Pro…"
      ]
     },
     "metadata": {},
     "output_type": "display_data"
    },
    {
     "name": "stdout",
     "output_type": "stream",
     "text": [
      "Epoch 585: train=2.32653, val=2.28335, took 39.35 s\n",
      "  Validation Found 8321 of 10819, added 1307 (eff 76.91%) (0.653 FP/event)\n"
     ]
    },
    {
     "data": {
      "application/vnd.jupyter.widget-view+json": {
       "model_id": "",
       "version_major": 2,
       "version_minor": 0
      },
      "text/plain": [
       "HBox(children=(FloatProgress(value=0.0, description='Training', layout=Layout(flex='2'), max=1125.0, style=Pro…"
      ]
     },
     "metadata": {},
     "output_type": "display_data"
    },
    {
     "name": "stdout",
     "output_type": "stream",
     "text": [
      "Epoch 586: train=2.33421, val=2.28298, took 39.696 s\n",
      "  Validation Found 8317 of 10819, added 1307 (eff 76.87%) (0.653 FP/event)\n"
     ]
    },
    {
     "data": {
      "application/vnd.jupyter.widget-view+json": {
       "model_id": "",
       "version_major": 2,
       "version_minor": 0
      },
      "text/plain": [
       "HBox(children=(FloatProgress(value=0.0, description='Training', layout=Layout(flex='2'), max=1125.0, style=Pro…"
      ]
     },
     "metadata": {},
     "output_type": "display_data"
    },
    {
     "name": "stdout",
     "output_type": "stream",
     "text": [
      "Epoch 587: train=2.33534, val=2.28362, took 39.349 s\n",
      "  Validation Found 8311 of 10819, added 1321 (eff 76.82%) (0.66 FP/event)\n"
     ]
    },
    {
     "data": {
      "application/vnd.jupyter.widget-view+json": {
       "model_id": "",
       "version_major": 2,
       "version_minor": 0
      },
      "text/plain": [
       "HBox(children=(FloatProgress(value=0.0, description='Training', layout=Layout(flex='2'), max=1125.0, style=Pro…"
      ]
     },
     "metadata": {},
     "output_type": "display_data"
    },
    {
     "name": "stdout",
     "output_type": "stream",
     "text": [
      "Epoch 588: train=2.33153, val=2.28646, took 39.397 s\n",
      "  Validation Found 8314 of 10819, added 1311 (eff 76.85%) (0.655 FP/event)\n"
     ]
    },
    {
     "data": {
      "application/vnd.jupyter.widget-view+json": {
       "model_id": "",
       "version_major": 2,
       "version_minor": 0
      },
      "text/plain": [
       "HBox(children=(FloatProgress(value=0.0, description='Training', layout=Layout(flex='2'), max=1125.0, style=Pro…"
      ]
     },
     "metadata": {},
     "output_type": "display_data"
    },
    {
     "name": "stdout",
     "output_type": "stream",
     "text": [
      "Epoch 589: train=2.33165, val=2.28286, took 39.153 s\n",
      "  Validation Found 8308 of 10819, added 1315 (eff 76.79%) (0.657 FP/event)\n"
     ]
    },
    {
     "data": {
      "application/vnd.jupyter.widget-view+json": {
       "model_id": "",
       "version_major": 2,
       "version_minor": 0
      },
      "text/plain": [
       "HBox(children=(FloatProgress(value=0.0, description='Training', layout=Layout(flex='2'), max=1125.0, style=Pro…"
      ]
     },
     "metadata": {},
     "output_type": "display_data"
    },
    {
     "name": "stdout",
     "output_type": "stream",
     "text": [
      "Epoch 590: train=2.33553, val=2.28392, took 39.223 s\n",
      "  Validation Found 8318 of 10819, added 1309 (eff 76.88%) (0.654 FP/event)\n"
     ]
    },
    {
     "data": {
      "application/vnd.jupyter.widget-view+json": {
       "model_id": "",
       "version_major": 2,
       "version_minor": 0
      },
      "text/plain": [
       "HBox(children=(FloatProgress(value=0.0, description='Training', layout=Layout(flex='2'), max=1125.0, style=Pro…"
      ]
     },
     "metadata": {},
     "output_type": "display_data"
    },
    {
     "name": "stdout",
     "output_type": "stream",
     "text": [
      "Epoch 591: train=2.33412, val=2.28825, took 39.131 s\n",
      "  Validation Found 8307 of 10819, added 1312 (eff 76.78%) (0.656 FP/event)\n"
     ]
    },
    {
     "data": {
      "application/vnd.jupyter.widget-view+json": {
       "model_id": "",
       "version_major": 2,
       "version_minor": 0
      },
      "text/plain": [
       "HBox(children=(FloatProgress(value=0.0, description='Training', layout=Layout(flex='2'), max=1125.0, style=Pro…"
      ]
     },
     "metadata": {},
     "output_type": "display_data"
    },
    {
     "name": "stdout",
     "output_type": "stream",
     "text": [
      "Epoch 592: train=2.32959, val=2.28463, took 39.78 s\n",
      "  Validation Found 8303 of 10819, added 1324 (eff 76.74%) (0.662 FP/event)\n"
     ]
    },
    {
     "data": {
      "application/vnd.jupyter.widget-view+json": {
       "model_id": "",
       "version_major": 2,
       "version_minor": 0
      },
      "text/plain": [
       "HBox(children=(FloatProgress(value=0.0, description='Training', layout=Layout(flex='2'), max=1125.0, style=Pro…"
      ]
     },
     "metadata": {},
     "output_type": "display_data"
    },
    {
     "name": "stdout",
     "output_type": "stream",
     "text": [
      "Epoch 593: train=2.33531, val=2.28305, took 40.062 s\n",
      "  Validation Found 8311 of 10819, added 1314 (eff 76.82%) (0.657 FP/event)\n"
     ]
    },
    {
     "data": {
      "application/vnd.jupyter.widget-view+json": {
       "model_id": "",
       "version_major": 2,
       "version_minor": 0
      },
      "text/plain": [
       "HBox(children=(FloatProgress(value=0.0, description='Training', layout=Layout(flex='2'), max=1125.0, style=Pro…"
      ]
     },
     "metadata": {},
     "output_type": "display_data"
    },
    {
     "name": "stdout",
     "output_type": "stream",
     "text": [
      "Epoch 594: train=2.3331, val=2.28267, took 39.348 s\n",
      "  Validation Found 8319 of 10819, added 1310 (eff 76.89%) (0.655 FP/event)\n"
     ]
    },
    {
     "data": {
      "application/vnd.jupyter.widget-view+json": {
       "model_id": "",
       "version_major": 2,
       "version_minor": 0
      },
      "text/plain": [
       "HBox(children=(FloatProgress(value=0.0, description='Training', layout=Layout(flex='2'), max=1125.0, style=Pro…"
      ]
     },
     "metadata": {},
     "output_type": "display_data"
    },
    {
     "name": "stdout",
     "output_type": "stream",
     "text": [
      "Epoch 595: train=2.33373, val=2.28341, took 39.647 s\n",
      "  Validation Found 8318 of 10819, added 1311 (eff 76.88%) (0.655 FP/event)\n"
     ]
    },
    {
     "data": {
      "application/vnd.jupyter.widget-view+json": {
       "model_id": "",
       "version_major": 2,
       "version_minor": 0
      },
      "text/plain": [
       "HBox(children=(FloatProgress(value=0.0, description='Training', layout=Layout(flex='2'), max=1125.0, style=Pro…"
      ]
     },
     "metadata": {},
     "output_type": "display_data"
    },
    {
     "name": "stdout",
     "output_type": "stream",
     "text": [
      "Epoch 596: train=2.33486, val=2.28284, took 39.346 s\n",
      "  Validation Found 8313 of 10819, added 1316 (eff 76.84%) (0.658 FP/event)\n"
     ]
    },
    {
     "data": {
      "application/vnd.jupyter.widget-view+json": {
       "model_id": "",
       "version_major": 2,
       "version_minor": 0
      },
      "text/plain": [
       "HBox(children=(FloatProgress(value=0.0, description='Training', layout=Layout(flex='2'), max=1125.0, style=Pro…"
      ]
     },
     "metadata": {},
     "output_type": "display_data"
    },
    {
     "name": "stdout",
     "output_type": "stream",
     "text": [
      "Epoch 597: train=2.3356, val=2.28226, took 39.331 s\n",
      "  Validation Found 8315 of 10819, added 1312 (eff 76.86%) (0.656 FP/event)\n"
     ]
    },
    {
     "data": {
      "application/vnd.jupyter.widget-view+json": {
       "model_id": "",
       "version_major": 2,
       "version_minor": 0
      },
      "text/plain": [
       "HBox(children=(FloatProgress(value=0.0, description='Training', layout=Layout(flex='2'), max=1125.0, style=Pro…"
      ]
     },
     "metadata": {},
     "output_type": "display_data"
    },
    {
     "name": "stdout",
     "output_type": "stream",
     "text": [
      "Epoch 598: train=2.3284, val=2.28379, took 39.333 s\n",
      "  Validation Found 8311 of 10819, added 1320 (eff 76.82%) (0.66 FP/event)\n"
     ]
    },
    {
     "data": {
      "application/vnd.jupyter.widget-view+json": {
       "model_id": "",
       "version_major": 2,
       "version_minor": 0
      },
      "text/plain": [
       "HBox(children=(FloatProgress(value=0.0, description='Training', layout=Layout(flex='2'), max=1125.0, style=Pro…"
      ]
     },
     "metadata": {},
     "output_type": "display_data"
    },
    {
     "name": "stdout",
     "output_type": "stream",
     "text": [
      "Epoch 599: train=2.33004, val=2.28192, took 39.383 s\n",
      "  Validation Found 8319 of 10819, added 1306 (eff 76.89%) (0.653 FP/event)\n"
     ]
    },
    {
     "data": {
      "application/vnd.jupyter.widget-view+json": {
       "model_id": "",
       "version_major": 2,
       "version_minor": 0
      },
      "text/plain": [
       "HBox(children=(FloatProgress(value=0.0, description='Training', layout=Layout(flex='2'), max=1125.0, style=Pro…"
      ]
     },
     "metadata": {},
     "output_type": "display_data"
    },
    {
     "name": "stdout",
     "output_type": "stream",
     "text": [
      "Epoch 600: train=2.3335, val=2.28222, took 39.376 s\n",
      "  Validation Found 8320 of 10819, added 1311 (eff 76.90%) (0.655 FP/event)\n"
     ]
    },
    {
     "data": {
      "application/vnd.jupyter.widget-view+json": {
       "model_id": "",
       "version_major": 2,
       "version_minor": 0
      },
      "text/plain": [
       "HBox(children=(FloatProgress(value=0.0, description='Training', layout=Layout(flex='2'), max=1125.0, style=Pro…"
      ]
     },
     "metadata": {},
     "output_type": "display_data"
    },
    {
     "name": "stdout",
     "output_type": "stream",
     "text": [
      "Epoch 601: train=2.3293, val=2.28385, took 39.386 s\n",
      "  Validation Found 8329 of 10819, added 1299 (eff 76.98%) (0.649 FP/event)\n"
     ]
    },
    {
     "data": {
      "application/vnd.jupyter.widget-view+json": {
       "model_id": "",
       "version_major": 2,
       "version_minor": 0
      },
      "text/plain": [
       "HBox(children=(FloatProgress(value=0.0, description='Training', layout=Layout(flex='2'), max=1125.0, style=Pro…"
      ]
     },
     "metadata": {},
     "output_type": "display_data"
    },
    {
     "name": "stdout",
     "output_type": "stream",
     "text": [
      "Epoch 602: train=2.33224, val=2.28312, took 39.545 s\n",
      "  Validation Found 8307 of 10819, added 1324 (eff 76.78%) (0.662 FP/event)\n"
     ]
    },
    {
     "data": {
      "application/vnd.jupyter.widget-view+json": {
       "model_id": "",
       "version_major": 2,
       "version_minor": 0
      },
      "text/plain": [
       "HBox(children=(FloatProgress(value=0.0, description='Training', layout=Layout(flex='2'), max=1125.0, style=Pro…"
      ]
     },
     "metadata": {},
     "output_type": "display_data"
    },
    {
     "name": "stdout",
     "output_type": "stream",
     "text": [
      "Epoch 603: train=2.33541, val=2.28242, took 39.376 s\n",
      "  Validation Found 8313 of 10819, added 1317 (eff 76.84%) (0.658 FP/event)\n"
     ]
    },
    {
     "data": {
      "application/vnd.jupyter.widget-view+json": {
       "model_id": "",
       "version_major": 2,
       "version_minor": 0
      },
      "text/plain": [
       "HBox(children=(FloatProgress(value=0.0, description='Training', layout=Layout(flex='2'), max=1125.0, style=Pro…"
      ]
     },
     "metadata": {},
     "output_type": "display_data"
    },
    {
     "name": "stdout",
     "output_type": "stream",
     "text": [
      "Epoch 604: train=2.33275, val=2.28239, took 39.343 s\n",
      "  Validation Found 8324 of 10819, added 1310 (eff 76.94%) (0.655 FP/event)\n"
     ]
    },
    {
     "data": {
      "application/vnd.jupyter.widget-view+json": {
       "model_id": "",
       "version_major": 2,
       "version_minor": 0
      },
      "text/plain": [
       "HBox(children=(FloatProgress(value=0.0, description='Training', layout=Layout(flex='2'), max=1125.0, style=Pro…"
      ]
     },
     "metadata": {},
     "output_type": "display_data"
    },
    {
     "name": "stdout",
     "output_type": "stream",
     "text": [
      "Epoch 605: train=2.33055, val=2.28244, took 39.365 s\n",
      "  Validation Found 8306 of 10819, added 1328 (eff 76.77%) (0.664 FP/event)\n"
     ]
    },
    {
     "data": {
      "application/vnd.jupyter.widget-view+json": {
       "model_id": "",
       "version_major": 2,
       "version_minor": 0
      },
      "text/plain": [
       "HBox(children=(FloatProgress(value=0.0, description='Training', layout=Layout(flex='2'), max=1125.0, style=Pro…"
      ]
     },
     "metadata": {},
     "output_type": "display_data"
    },
    {
     "name": "stdout",
     "output_type": "stream",
     "text": [
      "Epoch 606: train=2.32731, val=2.28199, took 39.412 s\n",
      "  Validation Found 8316 of 10819, added 1319 (eff 76.86%) (0.659 FP/event)\n"
     ]
    },
    {
     "data": {
      "application/vnd.jupyter.widget-view+json": {
       "model_id": "",
       "version_major": 2,
       "version_minor": 0
      },
      "text/plain": [
       "HBox(children=(FloatProgress(value=0.0, description='Training', layout=Layout(flex='2'), max=1125.0, style=Pro…"
      ]
     },
     "metadata": {},
     "output_type": "display_data"
    },
    {
     "name": "stdout",
     "output_type": "stream",
     "text": [
      "Epoch 607: train=2.33341, val=2.28255, took 39.323 s\n",
      "  Validation Found 8307 of 10819, added 1325 (eff 76.78%) (0.662 FP/event)\n"
     ]
    },
    {
     "data": {
      "application/vnd.jupyter.widget-view+json": {
       "model_id": "",
       "version_major": 2,
       "version_minor": 0
      },
      "text/plain": [
       "HBox(children=(FloatProgress(value=0.0, description='Training', layout=Layout(flex='2'), max=1125.0, style=Pro…"
      ]
     },
     "metadata": {},
     "output_type": "display_data"
    },
    {
     "name": "stdout",
     "output_type": "stream",
     "text": [
      "Epoch 608: train=2.33771, val=2.28323, took 39.393 s\n",
      "  Validation Found 8314 of 10819, added 1323 (eff 76.85%) (0.661 FP/event)\n"
     ]
    },
    {
     "data": {
      "application/vnd.jupyter.widget-view+json": {
       "model_id": "",
       "version_major": 2,
       "version_minor": 0
      },
      "text/plain": [
       "HBox(children=(FloatProgress(value=0.0, description='Training', layout=Layout(flex='2'), max=1125.0, style=Pro…"
      ]
     },
     "metadata": {},
     "output_type": "display_data"
    },
    {
     "name": "stdout",
     "output_type": "stream",
     "text": [
      "Epoch 609: train=2.33021, val=2.28214, took 39.582 s\n",
      "  Validation Found 8319 of 10819, added 1311 (eff 76.89%) (0.655 FP/event)\n"
     ]
    },
    {
     "data": {
      "application/vnd.jupyter.widget-view+json": {
       "model_id": "",
       "version_major": 2,
       "version_minor": 0
      },
      "text/plain": [
       "HBox(children=(FloatProgress(value=0.0, description='Training', layout=Layout(flex='2'), max=1125.0, style=Pro…"
      ]
     },
     "metadata": {},
     "output_type": "display_data"
    },
    {
     "name": "stdout",
     "output_type": "stream",
     "text": [
      "Epoch 610: train=2.33068, val=2.28192, took 39.495 s\n",
      "  Validation Found 8324 of 10819, added 1309 (eff 76.94%) (0.654 FP/event)\n"
     ]
    },
    {
     "data": {
      "application/vnd.jupyter.widget-view+json": {
       "model_id": "",
       "version_major": 2,
       "version_minor": 0
      },
      "text/plain": [
       "HBox(children=(FloatProgress(value=0.0, description='Training', layout=Layout(flex='2'), max=1125.0, style=Pro…"
      ]
     },
     "metadata": {},
     "output_type": "display_data"
    },
    {
     "name": "stdout",
     "output_type": "stream",
     "text": [
      "Epoch 611: train=2.3265, val=2.28174, took 39.714 s\n",
      "  Validation Found 8321 of 10819, added 1318 (eff 76.91%) (0.659 FP/event)\n"
     ]
    },
    {
     "data": {
      "application/vnd.jupyter.widget-view+json": {
       "model_id": "",
       "version_major": 2,
       "version_minor": 0
      },
      "text/plain": [
       "HBox(children=(FloatProgress(value=0.0, description='Training', layout=Layout(flex='2'), max=1125.0, style=Pro…"
      ]
     },
     "metadata": {},
     "output_type": "display_data"
    },
    {
     "name": "stdout",
     "output_type": "stream",
     "text": [
      "Epoch 612: train=2.33356, val=2.28174, took 39.946 s\n",
      "  Validation Found 8316 of 10819, added 1317 (eff 76.86%) (0.658 FP/event)\n"
     ]
    },
    {
     "data": {
      "application/vnd.jupyter.widget-view+json": {
       "model_id": "",
       "version_major": 2,
       "version_minor": 0
      },
      "text/plain": [
       "HBox(children=(FloatProgress(value=0.0, description='Training', layout=Layout(flex='2'), max=1125.0, style=Pro…"
      ]
     },
     "metadata": {},
     "output_type": "display_data"
    },
    {
     "name": "stdout",
     "output_type": "stream",
     "text": [
      "Epoch 613: train=2.32933, val=2.28119, took 39.601 s\n",
      "  Validation Found 8319 of 10819, added 1309 (eff 76.89%) (0.654 FP/event)\n"
     ]
    },
    {
     "data": {
      "application/vnd.jupyter.widget-view+json": {
       "model_id": "",
       "version_major": 2,
       "version_minor": 0
      },
      "text/plain": [
       "HBox(children=(FloatProgress(value=0.0, description='Training', layout=Layout(flex='2'), max=1125.0, style=Pro…"
      ]
     },
     "metadata": {},
     "output_type": "display_data"
    },
    {
     "name": "stdout",
     "output_type": "stream",
     "text": [
      "Epoch 614: train=2.32796, val=2.28097, took 39.401 s\n",
      "  Validation Found 8317 of 10819, added 1320 (eff 76.87%) (0.66 FP/event)\n"
     ]
    },
    {
     "data": {
      "application/vnd.jupyter.widget-view+json": {
       "model_id": "",
       "version_major": 2,
       "version_minor": 0
      },
      "text/plain": [
       "HBox(children=(FloatProgress(value=0.0, description='Training', layout=Layout(flex='2'), max=1125.0, style=Pro…"
      ]
     },
     "metadata": {},
     "output_type": "display_data"
    },
    {
     "name": "stdout",
     "output_type": "stream",
     "text": [
      "Epoch 615: train=2.33329, val=2.28184, took 39.355 s\n",
      "  Validation Found 8320 of 10819, added 1304 (eff 76.90%) (0.652 FP/event)\n"
     ]
    },
    {
     "data": {
      "application/vnd.jupyter.widget-view+json": {
       "model_id": "",
       "version_major": 2,
       "version_minor": 0
      },
      "text/plain": [
       "HBox(children=(FloatProgress(value=0.0, description='Training', layout=Layout(flex='2'), max=1125.0, style=Pro…"
      ]
     },
     "metadata": {},
     "output_type": "display_data"
    },
    {
     "name": "stdout",
     "output_type": "stream",
     "text": [
      "Epoch 616: train=2.32991, val=2.28133, took 39.513 s\n",
      "  Validation Found 8320 of 10819, added 1314 (eff 76.90%) (0.657 FP/event)\n"
     ]
    },
    {
     "data": {
      "application/vnd.jupyter.widget-view+json": {
       "model_id": "",
       "version_major": 2,
       "version_minor": 0
      },
      "text/plain": [
       "HBox(children=(FloatProgress(value=0.0, description='Training', layout=Layout(flex='2'), max=1125.0, style=Pro…"
      ]
     },
     "metadata": {},
     "output_type": "display_data"
    },
    {
     "name": "stdout",
     "output_type": "stream",
     "text": [
      "Epoch 617: train=2.33214, val=2.28314, took 39.828 s\n",
      "  Validation Found 8304 of 10819, added 1329 (eff 76.75%) (0.664 FP/event)\n"
     ]
    },
    {
     "data": {
      "application/vnd.jupyter.widget-view+json": {
       "model_id": "",
       "version_major": 2,
       "version_minor": 0
      },
      "text/plain": [
       "HBox(children=(FloatProgress(value=0.0, description='Training', layout=Layout(flex='2'), max=1125.0, style=Pro…"
      ]
     },
     "metadata": {},
     "output_type": "display_data"
    },
    {
     "name": "stdout",
     "output_type": "stream",
     "text": [
      "Epoch 618: train=2.32851, val=2.28171, took 39.402 s\n",
      "  Validation Found 8321 of 10819, added 1307 (eff 76.91%) (0.653 FP/event)\n"
     ]
    },
    {
     "data": {
      "application/vnd.jupyter.widget-view+json": {
       "model_id": "",
       "version_major": 2,
       "version_minor": 0
      },
      "text/plain": [
       "HBox(children=(FloatProgress(value=0.0, description='Training', layout=Layout(flex='2'), max=1125.0, style=Pro…"
      ]
     },
     "metadata": {},
     "output_type": "display_data"
    },
    {
     "name": "stdout",
     "output_type": "stream",
     "text": [
      "Epoch 619: train=2.32987, val=2.28177, took 39.215 s\n",
      "  Validation Found 8323 of 10819, added 1311 (eff 76.93%) (0.655 FP/event)\n"
     ]
    },
    {
     "data": {
      "application/vnd.jupyter.widget-view+json": {
       "model_id": "",
       "version_major": 2,
       "version_minor": 0
      },
      "text/plain": [
       "HBox(children=(FloatProgress(value=0.0, description='Training', layout=Layout(flex='2'), max=1125.0, style=Pro…"
      ]
     },
     "metadata": {},
     "output_type": "display_data"
    },
    {
     "name": "stdout",
     "output_type": "stream",
     "text": [
      "Epoch 620: train=2.33004, val=2.2819, took 39.305 s\n",
      "  Validation Found 8310 of 10819, added 1318 (eff 76.81%) (0.659 FP/event)\n"
     ]
    },
    {
     "data": {
      "application/vnd.jupyter.widget-view+json": {
       "model_id": "",
       "version_major": 2,
       "version_minor": 0
      },
      "text/plain": [
       "HBox(children=(FloatProgress(value=0.0, description='Training', layout=Layout(flex='2'), max=1125.0, style=Pro…"
      ]
     },
     "metadata": {},
     "output_type": "display_data"
    },
    {
     "name": "stdout",
     "output_type": "stream",
     "text": [
      "Epoch 621: train=2.33091, val=2.28175, took 39.392 s\n",
      "  Validation Found 8312 of 10819, added 1321 (eff 76.83%) (0.66 FP/event)\n"
     ]
    },
    {
     "data": {
      "application/vnd.jupyter.widget-view+json": {
       "model_id": "",
       "version_major": 2,
       "version_minor": 0
      },
      "text/plain": [
       "HBox(children=(FloatProgress(value=0.0, description='Training', layout=Layout(flex='2'), max=1125.0, style=Pro…"
      ]
     },
     "metadata": {},
     "output_type": "display_data"
    },
    {
     "name": "stdout",
     "output_type": "stream",
     "text": [
      "Epoch 622: train=2.32702, val=2.28147, took 39.648 s\n",
      "  Validation Found 8317 of 10819, added 1317 (eff 76.87%) (0.658 FP/event)\n"
     ]
    },
    {
     "data": {
      "application/vnd.jupyter.widget-view+json": {
       "model_id": "",
       "version_major": 2,
       "version_minor": 0
      },
      "text/plain": [
       "HBox(children=(FloatProgress(value=0.0, description='Training', layout=Layout(flex='2'), max=1125.0, style=Pro…"
      ]
     },
     "metadata": {},
     "output_type": "display_data"
    },
    {
     "name": "stdout",
     "output_type": "stream",
     "text": [
      "Epoch 623: train=2.33153, val=2.28195, took 39.774 s\n",
      "  Validation Found 8320 of 10819, added 1314 (eff 76.90%) (0.657 FP/event)\n"
     ]
    },
    {
     "data": {
      "application/vnd.jupyter.widget-view+json": {
       "model_id": "",
       "version_major": 2,
       "version_minor": 0
      },
      "text/plain": [
       "HBox(children=(FloatProgress(value=0.0, description='Training', layout=Layout(flex='2'), max=1125.0, style=Pro…"
      ]
     },
     "metadata": {},
     "output_type": "display_data"
    },
    {
     "name": "stdout",
     "output_type": "stream",
     "text": [
      "Epoch 624: train=2.32753, val=2.28163, took 39.669 s\n",
      "  Validation Found 8309 of 10819, added 1325 (eff 76.80%) (0.662 FP/event)\n"
     ]
    },
    {
     "data": {
      "application/vnd.jupyter.widget-view+json": {
       "model_id": "",
       "version_major": 2,
       "version_minor": 0
      },
      "text/plain": [
       "HBox(children=(FloatProgress(value=0.0, description='Training', layout=Layout(flex='2'), max=1125.0, style=Pro…"
      ]
     },
     "metadata": {},
     "output_type": "display_data"
    },
    {
     "name": "stdout",
     "output_type": "stream",
     "text": [
      "Epoch 625: train=2.33037, val=2.28322, took 39.572 s\n",
      "  Validation Found 8303 of 10819, added 1326 (eff 76.74%) (0.663 FP/event)\n"
     ]
    },
    {
     "data": {
      "application/vnd.jupyter.widget-view+json": {
       "model_id": "",
       "version_major": 2,
       "version_minor": 0
      },
      "text/plain": [
       "HBox(children=(FloatProgress(value=0.0, description='Training', layout=Layout(flex='2'), max=1125.0, style=Pro…"
      ]
     },
     "metadata": {},
     "output_type": "display_data"
    },
    {
     "name": "stdout",
     "output_type": "stream",
     "text": [
      "Epoch 626: train=2.33216, val=2.28117, took 39.225 s\n",
      "  Validation Found 8313 of 10819, added 1316 (eff 76.84%) (0.658 FP/event)\n"
     ]
    },
    {
     "data": {
      "application/vnd.jupyter.widget-view+json": {
       "model_id": "",
       "version_major": 2,
       "version_minor": 0
      },
      "text/plain": [
       "HBox(children=(FloatProgress(value=0.0, description='Training', layout=Layout(flex='2'), max=1125.0, style=Pro…"
      ]
     },
     "metadata": {},
     "output_type": "display_data"
    },
    {
     "name": "stdout",
     "output_type": "stream",
     "text": [
      "Epoch 627: train=2.32931, val=2.28106, took 39.387 s\n",
      "  Validation Found 8322 of 10819, added 1302 (eff 76.92%) (0.651 FP/event)\n"
     ]
    },
    {
     "data": {
      "application/vnd.jupyter.widget-view+json": {
       "model_id": "",
       "version_major": 2,
       "version_minor": 0
      },
      "text/plain": [
       "HBox(children=(FloatProgress(value=0.0, description='Training', layout=Layout(flex='2'), max=1125.0, style=Pro…"
      ]
     },
     "metadata": {},
     "output_type": "display_data"
    },
    {
     "name": "stdout",
     "output_type": "stream",
     "text": [
      "Epoch 628: train=2.32286, val=2.28292, took 39.287 s\n",
      "  Validation Found 8321 of 10819, added 1312 (eff 76.91%) (0.656 FP/event)\n"
     ]
    },
    {
     "data": {
      "application/vnd.jupyter.widget-view+json": {
       "model_id": "",
       "version_major": 2,
       "version_minor": 0
      },
      "text/plain": [
       "HBox(children=(FloatProgress(value=0.0, description='Training', layout=Layout(flex='2'), max=1125.0, style=Pro…"
      ]
     },
     "metadata": {},
     "output_type": "display_data"
    },
    {
     "name": "stdout",
     "output_type": "stream",
     "text": [
      "Epoch 629: train=2.32671, val=2.28166, took 39.371 s\n",
      "  Validation Found 8322 of 10819, added 1303 (eff 76.92%) (0.651 FP/event)\n"
     ]
    },
    {
     "data": {
      "application/vnd.jupyter.widget-view+json": {
       "model_id": "",
       "version_major": 2,
       "version_minor": 0
      },
      "text/plain": [
       "HBox(children=(FloatProgress(value=0.0, description='Training', layout=Layout(flex='2'), max=1125.0, style=Pro…"
      ]
     },
     "metadata": {},
     "output_type": "display_data"
    },
    {
     "name": "stdout",
     "output_type": "stream",
     "text": [
      "Epoch 630: train=2.33071, val=2.28243, took 39.503 s\n",
      "  Validation Found 8312 of 10819, added 1321 (eff 76.83%) (0.66 FP/event)\n"
     ]
    },
    {
     "data": {
      "application/vnd.jupyter.widget-view+json": {
       "model_id": "",
       "version_major": 2,
       "version_minor": 0
      },
      "text/plain": [
       "HBox(children=(FloatProgress(value=0.0, description='Training', layout=Layout(flex='2'), max=1125.0, style=Pro…"
      ]
     },
     "metadata": {},
     "output_type": "display_data"
    },
    {
     "name": "stdout",
     "output_type": "stream",
     "text": [
      "Epoch 631: train=2.33523, val=2.28081, took 39.316 s\n",
      "  Validation Found 8330 of 10819, added 1307 (eff 76.99%) (0.653 FP/event)\n"
     ]
    },
    {
     "data": {
      "application/vnd.jupyter.widget-view+json": {
       "model_id": "",
       "version_major": 2,
       "version_minor": 0
      },
      "text/plain": [
       "HBox(children=(FloatProgress(value=0.0, description='Training', layout=Layout(flex='2'), max=1125.0, style=Pro…"
      ]
     },
     "metadata": {},
     "output_type": "display_data"
    },
    {
     "name": "stdout",
     "output_type": "stream",
     "text": [
      "Epoch 632: train=2.32704, val=2.28068, took 39.716 s\n",
      "  Validation Found 8314 of 10819, added 1318 (eff 76.85%) (0.659 FP/event)\n"
     ]
    },
    {
     "data": {
      "application/vnd.jupyter.widget-view+json": {
       "model_id": "",
       "version_major": 2,
       "version_minor": 0
      },
      "text/plain": [
       "HBox(children=(FloatProgress(value=0.0, description='Training', layout=Layout(flex='2'), max=1125.0, style=Pro…"
      ]
     },
     "metadata": {},
     "output_type": "display_data"
    },
    {
     "name": "stdout",
     "output_type": "stream",
     "text": [
      "Epoch 633: train=2.32718, val=2.28112, took 39.34 s\n",
      "  Validation Found 8323 of 10819, added 1316 (eff 76.93%) (0.658 FP/event)\n"
     ]
    },
    {
     "data": {
      "application/vnd.jupyter.widget-view+json": {
       "model_id": "",
       "version_major": 2,
       "version_minor": 0
      },
      "text/plain": [
       "HBox(children=(FloatProgress(value=0.0, description='Training', layout=Layout(flex='2'), max=1125.0, style=Pro…"
      ]
     },
     "metadata": {},
     "output_type": "display_data"
    },
    {
     "name": "stdout",
     "output_type": "stream",
     "text": [
      "Epoch 634: train=2.32598, val=2.2813, took 39.206 s\n",
      "  Validation Found 8332 of 10819, added 1305 (eff 77.01%) (0.652 FP/event)\n"
     ]
    },
    {
     "data": {
      "application/vnd.jupyter.widget-view+json": {
       "model_id": "",
       "version_major": 2,
       "version_minor": 0
      },
      "text/plain": [
       "HBox(children=(FloatProgress(value=0.0, description='Training', layout=Layout(flex='2'), max=1125.0, style=Pro…"
      ]
     },
     "metadata": {},
     "output_type": "display_data"
    },
    {
     "name": "stdout",
     "output_type": "stream",
     "text": [
      "Epoch 635: train=2.32724, val=2.28027, took 39.879 s\n",
      "  Validation Found 8319 of 10819, added 1310 (eff 76.89%) (0.655 FP/event)\n"
     ]
    },
    {
     "data": {
      "application/vnd.jupyter.widget-view+json": {
       "model_id": "",
       "version_major": 2,
       "version_minor": 0
      },
      "text/plain": [
       "HBox(children=(FloatProgress(value=0.0, description='Training', layout=Layout(flex='2'), max=1125.0, style=Pro…"
      ]
     },
     "metadata": {},
     "output_type": "display_data"
    },
    {
     "name": "stdout",
     "output_type": "stream",
     "text": [
      "Epoch 636: train=2.32384, val=2.28029, took 39.848 s\n",
      "  Validation Found 8321 of 10819, added 1312 (eff 76.91%) (0.656 FP/event)\n"
     ]
    },
    {
     "data": {
      "application/vnd.jupyter.widget-view+json": {
       "model_id": "",
       "version_major": 2,
       "version_minor": 0
      },
      "text/plain": [
       "HBox(children=(FloatProgress(value=0.0, description='Training', layout=Layout(flex='2'), max=1125.0, style=Pro…"
      ]
     },
     "metadata": {},
     "output_type": "display_data"
    },
    {
     "name": "stdout",
     "output_type": "stream",
     "text": [
      "Epoch 637: train=2.32832, val=2.28025, took 39.535 s\n",
      "  Validation Found 8325 of 10819, added 1313 (eff 76.95%) (0.656 FP/event)\n"
     ]
    },
    {
     "data": {
      "application/vnd.jupyter.widget-view+json": {
       "model_id": "",
       "version_major": 2,
       "version_minor": 0
      },
      "text/plain": [
       "HBox(children=(FloatProgress(value=0.0, description='Training', layout=Layout(flex='2'), max=1125.0, style=Pro…"
      ]
     },
     "metadata": {},
     "output_type": "display_data"
    },
    {
     "name": "stdout",
     "output_type": "stream",
     "text": [
      "Epoch 638: train=2.32594, val=2.28166, took 39.536 s\n",
      "  Validation Found 8322 of 10819, added 1313 (eff 76.92%) (0.656 FP/event)\n"
     ]
    },
    {
     "data": {
      "application/vnd.jupyter.widget-view+json": {
       "model_id": "",
       "version_major": 2,
       "version_minor": 0
      },
      "text/plain": [
       "HBox(children=(FloatProgress(value=0.0, description='Training', layout=Layout(flex='2'), max=1125.0, style=Pro…"
      ]
     },
     "metadata": {},
     "output_type": "display_data"
    },
    {
     "name": "stdout",
     "output_type": "stream",
     "text": [
      "Epoch 639: train=2.32526, val=2.28081, took 39.445 s\n",
      "  Validation Found 8323 of 10819, added 1314 (eff 76.93%) (0.657 FP/event)\n"
     ]
    },
    {
     "data": {
      "application/vnd.jupyter.widget-view+json": {
       "model_id": "",
       "version_major": 2,
       "version_minor": 0
      },
      "text/plain": [
       "HBox(children=(FloatProgress(value=0.0, description='Training', layout=Layout(flex='2'), max=1125.0, style=Pro…"
      ]
     },
     "metadata": {},
     "output_type": "display_data"
    },
    {
     "name": "stdout",
     "output_type": "stream",
     "text": [
      "Epoch 640: train=2.32865, val=2.28338, took 39.477 s\n",
      "  Validation Found 8311 of 10819, added 1338 (eff 76.82%) (0.669 FP/event)\n"
     ]
    },
    {
     "data": {
      "application/vnd.jupyter.widget-view+json": {
       "model_id": "",
       "version_major": 2,
       "version_minor": 0
      },
      "text/plain": [
       "HBox(children=(FloatProgress(value=0.0, description='Training', layout=Layout(flex='2'), max=1125.0, style=Pro…"
      ]
     },
     "metadata": {},
     "output_type": "display_data"
    },
    {
     "name": "stdout",
     "output_type": "stream",
     "text": [
      "Epoch 641: train=2.32473, val=2.28204, took 39.782 s\n",
      "  Validation Found 8314 of 10819, added 1327 (eff 76.85%) (0.663 FP/event)\n"
     ]
    },
    {
     "data": {
      "application/vnd.jupyter.widget-view+json": {
       "model_id": "",
       "version_major": 2,
       "version_minor": 0
      },
      "text/plain": [
       "HBox(children=(FloatProgress(value=0.0, description='Training', layout=Layout(flex='2'), max=1125.0, style=Pro…"
      ]
     },
     "metadata": {},
     "output_type": "display_data"
    },
    {
     "name": "stdout",
     "output_type": "stream",
     "text": [
      "Epoch 642: train=2.33075, val=2.28025, took 39.645 s\n",
      "  Validation Found 8318 of 10819, added 1315 (eff 76.88%) (0.657 FP/event)\n"
     ]
    },
    {
     "data": {
      "application/vnd.jupyter.widget-view+json": {
       "model_id": "",
       "version_major": 2,
       "version_minor": 0
      },
      "text/plain": [
       "HBox(children=(FloatProgress(value=0.0, description='Training', layout=Layout(flex='2'), max=1125.0, style=Pro…"
      ]
     },
     "metadata": {},
     "output_type": "display_data"
    },
    {
     "name": "stdout",
     "output_type": "stream",
     "text": [
      "Epoch 643: train=2.3318, val=2.2826, took 39.664 s\n",
      "  Validation Found 8301 of 10819, added 1336 (eff 76.73%) (0.668 FP/event)\n"
     ]
    },
    {
     "data": {
      "application/vnd.jupyter.widget-view+json": {
       "model_id": "",
       "version_major": 2,
       "version_minor": 0
      },
      "text/plain": [
       "HBox(children=(FloatProgress(value=0.0, description='Training', layout=Layout(flex='2'), max=1125.0, style=Pro…"
      ]
     },
     "metadata": {},
     "output_type": "display_data"
    },
    {
     "name": "stdout",
     "output_type": "stream",
     "text": [
      "Epoch 644: train=2.32639, val=2.28029, took 39.345 s\n",
      "  Validation Found 8318 of 10819, added 1318 (eff 76.88%) (0.659 FP/event)\n"
     ]
    },
    {
     "data": {
      "application/vnd.jupyter.widget-view+json": {
       "model_id": "",
       "version_major": 2,
       "version_minor": 0
      },
      "text/plain": [
       "HBox(children=(FloatProgress(value=0.0, description='Training', layout=Layout(flex='2'), max=1125.0, style=Pro…"
      ]
     },
     "metadata": {},
     "output_type": "display_data"
    },
    {
     "name": "stdout",
     "output_type": "stream",
     "text": [
      "Epoch 645: train=2.33033, val=2.28014, took 39.401 s\n",
      "  Validation Found 8320 of 10819, added 1314 (eff 76.90%) (0.657 FP/event)\n"
     ]
    },
    {
     "data": {
      "application/vnd.jupyter.widget-view+json": {
       "model_id": "",
       "version_major": 2,
       "version_minor": 0
      },
      "text/plain": [
       "HBox(children=(FloatProgress(value=0.0, description='Training', layout=Layout(flex='2'), max=1125.0, style=Pro…"
      ]
     },
     "metadata": {},
     "output_type": "display_data"
    },
    {
     "name": "stdout",
     "output_type": "stream",
     "text": [
      "Epoch 646: train=2.33141, val=2.28325, took 39.354 s\n",
      "  Validation Found 8310 of 10819, added 1325 (eff 76.81%) (0.662 FP/event)\n"
     ]
    },
    {
     "data": {
      "application/vnd.jupyter.widget-view+json": {
       "model_id": "",
       "version_major": 2,
       "version_minor": 0
      },
      "text/plain": [
       "HBox(children=(FloatProgress(value=0.0, description='Training', layout=Layout(flex='2'), max=1125.0, style=Pro…"
      ]
     },
     "metadata": {},
     "output_type": "display_data"
    },
    {
     "name": "stdout",
     "output_type": "stream",
     "text": [
      "Epoch 647: train=2.32554, val=2.28061, took 39.351 s\n",
      "  Validation Found 8312 of 10819, added 1325 (eff 76.83%) (0.662 FP/event)\n"
     ]
    },
    {
     "data": {
      "application/vnd.jupyter.widget-view+json": {
       "model_id": "",
       "version_major": 2,
       "version_minor": 0
      },
      "text/plain": [
       "HBox(children=(FloatProgress(value=0.0, description='Training', layout=Layout(flex='2'), max=1125.0, style=Pro…"
      ]
     },
     "metadata": {},
     "output_type": "display_data"
    },
    {
     "name": "stdout",
     "output_type": "stream",
     "text": [
      "Epoch 648: train=2.32782, val=2.2808, took 39.527 s\n",
      "  Validation Found 8326 of 10819, added 1312 (eff 76.96%) (0.656 FP/event)\n"
     ]
    },
    {
     "data": {
      "application/vnd.jupyter.widget-view+json": {
       "model_id": "",
       "version_major": 2,
       "version_minor": 0
      },
      "text/plain": [
       "HBox(children=(FloatProgress(value=0.0, description='Training', layout=Layout(flex='2'), max=1125.0, style=Pro…"
      ]
     },
     "metadata": {},
     "output_type": "display_data"
    },
    {
     "name": "stdout",
     "output_type": "stream",
     "text": [
      "Epoch 649: train=2.33327, val=2.28038, took 39.517 s\n",
      "  Validation Found 8330 of 10819, added 1305 (eff 76.99%) (0.652 FP/event)\n"
     ]
    },
    {
     "data": {
      "application/vnd.jupyter.widget-view+json": {
       "model_id": "",
       "version_major": 2,
       "version_minor": 0
      },
      "text/plain": [
       "HBox(children=(FloatProgress(value=0.0, description='Training', layout=Layout(flex='2'), max=1125.0, style=Pro…"
      ]
     },
     "metadata": {},
     "output_type": "display_data"
    },
    {
     "name": "stdout",
     "output_type": "stream",
     "text": [
      "Epoch 650: train=2.32696, val=2.27966, took 39.899 s\n",
      "  Validation Found 8326 of 10819, added 1310 (eff 76.96%) (0.655 FP/event)\n"
     ]
    },
    {
     "data": {
      "application/vnd.jupyter.widget-view+json": {
       "model_id": "",
       "version_major": 2,
       "version_minor": 0
      },
      "text/plain": [
       "HBox(children=(FloatProgress(value=0.0, description='Training', layout=Layout(flex='2'), max=1125.0, style=Pro…"
      ]
     },
     "metadata": {},
     "output_type": "display_data"
    },
    {
     "name": "stdout",
     "output_type": "stream",
     "text": [
      "Epoch 651: train=2.32427, val=2.28093, took 39.72 s\n",
      "  Validation Found 8330 of 10819, added 1310 (eff 76.99%) (0.655 FP/event)\n"
     ]
    },
    {
     "data": {
      "application/vnd.jupyter.widget-view+json": {
       "model_id": "",
       "version_major": 2,
       "version_minor": 0
      },
      "text/plain": [
       "HBox(children=(FloatProgress(value=0.0, description='Training', layout=Layout(flex='2'), max=1125.0, style=Pro…"
      ]
     },
     "metadata": {},
     "output_type": "display_data"
    },
    {
     "name": "stdout",
     "output_type": "stream",
     "text": [
      "Epoch 652: train=2.32834, val=2.27954, took 39.743 s\n",
      "  Validation Found 8320 of 10819, added 1319 (eff 76.90%) (0.659 FP/event)\n"
     ]
    },
    {
     "data": {
      "application/vnd.jupyter.widget-view+json": {
       "model_id": "",
       "version_major": 2,
       "version_minor": 0
      },
      "text/plain": [
       "HBox(children=(FloatProgress(value=0.0, description='Training', layout=Layout(flex='2'), max=1125.0, style=Pro…"
      ]
     },
     "metadata": {},
     "output_type": "display_data"
    },
    {
     "name": "stdout",
     "output_type": "stream",
     "text": [
      "Epoch 653: train=2.32578, val=2.28016, took 39.611 s\n",
      "  Validation Found 8326 of 10819, added 1310 (eff 76.96%) (0.655 FP/event)\n"
     ]
    },
    {
     "data": {
      "application/vnd.jupyter.widget-view+json": {
       "model_id": "",
       "version_major": 2,
       "version_minor": 0
      },
      "text/plain": [
       "HBox(children=(FloatProgress(value=0.0, description='Training', layout=Layout(flex='2'), max=1125.0, style=Pro…"
      ]
     },
     "metadata": {},
     "output_type": "display_data"
    },
    {
     "name": "stdout",
     "output_type": "stream",
     "text": [
      "Epoch 654: train=2.32605, val=2.28097, took 39.823 s\n",
      "  Validation Found 8315 of 10819, added 1324 (eff 76.86%) (0.662 FP/event)\n"
     ]
    },
    {
     "data": {
      "application/vnd.jupyter.widget-view+json": {
       "model_id": "",
       "version_major": 2,
       "version_minor": 0
      },
      "text/plain": [
       "HBox(children=(FloatProgress(value=0.0, description='Training', layout=Layout(flex='2'), max=1125.0, style=Pro…"
      ]
     },
     "metadata": {},
     "output_type": "display_data"
    },
    {
     "name": "stdout",
     "output_type": "stream",
     "text": [
      "Epoch 655: train=2.32333, val=2.28047, took 39.33 s\n",
      "  Validation Found 8323 of 10819, added 1309 (eff 76.93%) (0.654 FP/event)\n"
     ]
    },
    {
     "data": {
      "application/vnd.jupyter.widget-view+json": {
       "model_id": "",
       "version_major": 2,
       "version_minor": 0
      },
      "text/plain": [
       "HBox(children=(FloatProgress(value=0.0, description='Training', layout=Layout(flex='2'), max=1125.0, style=Pro…"
      ]
     },
     "metadata": {},
     "output_type": "display_data"
    },
    {
     "name": "stdout",
     "output_type": "stream",
     "text": [
      "Epoch 656: train=2.3231, val=2.28068, took 39.466 s\n",
      "  Validation Found 8314 of 10819, added 1327 (eff 76.85%) (0.663 FP/event)\n"
     ]
    },
    {
     "data": {
      "application/vnd.jupyter.widget-view+json": {
       "model_id": "",
       "version_major": 2,
       "version_minor": 0
      },
      "text/plain": [
       "HBox(children=(FloatProgress(value=0.0, description='Training', layout=Layout(flex='2'), max=1125.0, style=Pro…"
      ]
     },
     "metadata": {},
     "output_type": "display_data"
    },
    {
     "name": "stdout",
     "output_type": "stream",
     "text": [
      "Epoch 657: train=2.32233, val=2.27914, took 39.438 s\n",
      "  Validation Found 8326 of 10819, added 1307 (eff 76.96%) (0.653 FP/event)\n"
     ]
    },
    {
     "data": {
      "application/vnd.jupyter.widget-view+json": {
       "model_id": "",
       "version_major": 2,
       "version_minor": 0
      },
      "text/plain": [
       "HBox(children=(FloatProgress(value=0.0, description='Training', layout=Layout(flex='2'), max=1125.0, style=Pro…"
      ]
     },
     "metadata": {},
     "output_type": "display_data"
    },
    {
     "name": "stdout",
     "output_type": "stream",
     "text": [
      "Epoch 658: train=2.32543, val=2.27993, took 39.848 s\n",
      "  Validation Found 8326 of 10819, added 1314 (eff 76.96%) (0.657 FP/event)\n"
     ]
    },
    {
     "data": {
      "application/vnd.jupyter.widget-view+json": {
       "model_id": "",
       "version_major": 2,
       "version_minor": 0
      },
      "text/plain": [
       "HBox(children=(FloatProgress(value=0.0, description='Training', layout=Layout(flex='2'), max=1125.0, style=Pro…"
      ]
     },
     "metadata": {},
     "output_type": "display_data"
    },
    {
     "name": "stdout",
     "output_type": "stream",
     "text": [
      "Epoch 659: train=2.32934, val=2.27925, took 39.665 s\n",
      "  Validation Found 8321 of 10819, added 1320 (eff 76.91%) (0.66 FP/event)\n"
     ]
    },
    {
     "data": {
      "application/vnd.jupyter.widget-view+json": {
       "model_id": "",
       "version_major": 2,
       "version_minor": 0
      },
      "text/plain": [
       "HBox(children=(FloatProgress(value=0.0, description='Training', layout=Layout(flex='2'), max=1125.0, style=Pro…"
      ]
     },
     "metadata": {},
     "output_type": "display_data"
    },
    {
     "name": "stdout",
     "output_type": "stream",
     "text": [
      "Epoch 660: train=2.32822, val=2.28156, took 39.675 s\n",
      "  Validation Found 8307 of 10819, added 1338 (eff 76.78%) (0.669 FP/event)\n"
     ]
    },
    {
     "data": {
      "application/vnd.jupyter.widget-view+json": {
       "model_id": "",
       "version_major": 2,
       "version_minor": 0
      },
      "text/plain": [
       "HBox(children=(FloatProgress(value=0.0, description='Training', layout=Layout(flex='2'), max=1125.0, style=Pro…"
      ]
     },
     "metadata": {},
     "output_type": "display_data"
    },
    {
     "name": "stdout",
     "output_type": "stream",
     "text": [
      "Epoch 661: train=2.32765, val=2.27968, took 39.306 s\n",
      "  Validation Found 8321 of 10819, added 1323 (eff 76.91%) (0.661 FP/event)\n"
     ]
    },
    {
     "data": {
      "application/vnd.jupyter.widget-view+json": {
       "model_id": "",
       "version_major": 2,
       "version_minor": 0
      },
      "text/plain": [
       "HBox(children=(FloatProgress(value=0.0, description='Training', layout=Layout(flex='2'), max=1125.0, style=Pro…"
      ]
     },
     "metadata": {},
     "output_type": "display_data"
    },
    {
     "name": "stdout",
     "output_type": "stream",
     "text": [
      "Epoch 662: train=2.32712, val=2.27896, took 39.544 s\n",
      "  Validation Found 8321 of 10819, added 1312 (eff 76.91%) (0.656 FP/event)\n"
     ]
    },
    {
     "data": {
      "application/vnd.jupyter.widget-view+json": {
       "model_id": "",
       "version_major": 2,
       "version_minor": 0
      },
      "text/plain": [
       "HBox(children=(FloatProgress(value=0.0, description='Training', layout=Layout(flex='2'), max=1125.0, style=Pro…"
      ]
     },
     "metadata": {},
     "output_type": "display_data"
    },
    {
     "name": "stdout",
     "output_type": "stream",
     "text": [
      "Epoch 663: train=2.32372, val=2.2804, took 39.214 s\n",
      "  Validation Found 8318 of 10819, added 1323 (eff 76.88%) (0.661 FP/event)\n"
     ]
    },
    {
     "data": {
      "application/vnd.jupyter.widget-view+json": {
       "model_id": "",
       "version_major": 2,
       "version_minor": 0
      },
      "text/plain": [
       "HBox(children=(FloatProgress(value=0.0, description='Training', layout=Layout(flex='2'), max=1125.0, style=Pro…"
      ]
     },
     "metadata": {},
     "output_type": "display_data"
    },
    {
     "name": "stdout",
     "output_type": "stream",
     "text": [
      "Epoch 664: train=2.32492, val=2.27844, took 39.431 s\n",
      "  Validation Found 8316 of 10819, added 1317 (eff 76.86%) (0.658 FP/event)\n"
     ]
    },
    {
     "data": {
      "application/vnd.jupyter.widget-view+json": {
       "model_id": "",
       "version_major": 2,
       "version_minor": 0
      },
      "text/plain": [
       "HBox(children=(FloatProgress(value=0.0, description='Training', layout=Layout(flex='2'), max=1125.0, style=Pro…"
      ]
     },
     "metadata": {},
     "output_type": "display_data"
    },
    {
     "name": "stdout",
     "output_type": "stream",
     "text": [
      "Epoch 665: train=2.32006, val=2.2795, took 39.548 s\n",
      "  Validation Found 8325 of 10819, added 1308 (eff 76.95%) (0.654 FP/event)\n"
     ]
    },
    {
     "data": {
      "application/vnd.jupyter.widget-view+json": {
       "model_id": "",
       "version_major": 2,
       "version_minor": 0
      },
      "text/plain": [
       "HBox(children=(FloatProgress(value=0.0, description='Training', layout=Layout(flex='2'), max=1125.0, style=Pro…"
      ]
     },
     "metadata": {},
     "output_type": "display_data"
    },
    {
     "name": "stdout",
     "output_type": "stream",
     "text": [
      "Epoch 666: train=2.32264, val=2.27918, took 39.42 s\n",
      "  Validation Found 8323 of 10819, added 1311 (eff 76.93%) (0.655 FP/event)\n"
     ]
    },
    {
     "data": {
      "application/vnd.jupyter.widget-view+json": {
       "model_id": "",
       "version_major": 2,
       "version_minor": 0
      },
      "text/plain": [
       "HBox(children=(FloatProgress(value=0.0, description='Training', layout=Layout(flex='2'), max=1125.0, style=Pro…"
      ]
     },
     "metadata": {},
     "output_type": "display_data"
    },
    {
     "name": "stdout",
     "output_type": "stream",
     "text": [
      "Epoch 667: train=2.32518, val=2.27868, took 39.46 s\n",
      "  Validation Found 8329 of 10819, added 1312 (eff 76.98%) (0.656 FP/event)\n"
     ]
    },
    {
     "data": {
      "application/vnd.jupyter.widget-view+json": {
       "model_id": "",
       "version_major": 2,
       "version_minor": 0
      },
      "text/plain": [
       "HBox(children=(FloatProgress(value=0.0, description='Training', layout=Layout(flex='2'), max=1125.0, style=Pro…"
      ]
     },
     "metadata": {},
     "output_type": "display_data"
    },
    {
     "name": "stdout",
     "output_type": "stream",
     "text": [
      "Epoch 668: train=2.32303, val=2.27985, took 39.16 s\n",
      "  Validation Found 8311 of 10819, added 1324 (eff 76.82%) (0.662 FP/event)\n"
     ]
    },
    {
     "data": {
      "application/vnd.jupyter.widget-view+json": {
       "model_id": "",
       "version_major": 2,
       "version_minor": 0
      },
      "text/plain": [
       "HBox(children=(FloatProgress(value=0.0, description='Training', layout=Layout(flex='2'), max=1125.0, style=Pro…"
      ]
     },
     "metadata": {},
     "output_type": "display_data"
    },
    {
     "name": "stdout",
     "output_type": "stream",
     "text": [
      "Epoch 669: train=2.32677, val=2.28102, took 39.328 s\n",
      "  Validation Found 8304 of 10819, added 1335 (eff 76.75%) (0.667 FP/event)\n"
     ]
    },
    {
     "data": {
      "application/vnd.jupyter.widget-view+json": {
       "model_id": "",
       "version_major": 2,
       "version_minor": 0
      },
      "text/plain": [
       "HBox(children=(FloatProgress(value=0.0, description='Training', layout=Layout(flex='2'), max=1125.0, style=Pro…"
      ]
     },
     "metadata": {},
     "output_type": "display_data"
    },
    {
     "name": "stdout",
     "output_type": "stream",
     "text": [
      "Epoch 670: train=2.3254, val=2.28143, took 39.326 s\n",
      "  Validation Found 8300 of 10819, added 1349 (eff 76.72%) (0.674 FP/event)\n"
     ]
    },
    {
     "data": {
      "application/vnd.jupyter.widget-view+json": {
       "model_id": "",
       "version_major": 2,
       "version_minor": 0
      },
      "text/plain": [
       "HBox(children=(FloatProgress(value=0.0, description='Training', layout=Layout(flex='2'), max=1125.0, style=Pro…"
      ]
     },
     "metadata": {},
     "output_type": "display_data"
    },
    {
     "name": "stdout",
     "output_type": "stream",
     "text": [
      "Epoch 671: train=2.32031, val=2.28052, took 39.163 s\n",
      "  Validation Found 8324 of 10819, added 1311 (eff 76.94%) (0.655 FP/event)\n"
     ]
    },
    {
     "data": {
      "application/vnd.jupyter.widget-view+json": {
       "model_id": "",
       "version_major": 2,
       "version_minor": 0
      },
      "text/plain": [
       "HBox(children=(FloatProgress(value=0.0, description='Training', layout=Layout(flex='2'), max=1125.0, style=Pro…"
      ]
     },
     "metadata": {},
     "output_type": "display_data"
    },
    {
     "name": "stdout",
     "output_type": "stream",
     "text": [
      "Epoch 672: train=2.32382, val=2.28096, took 39.569 s\n",
      "  Validation Found 8314 of 10819, added 1328 (eff 76.85%) (0.664 FP/event)\n"
     ]
    },
    {
     "data": {
      "application/vnd.jupyter.widget-view+json": {
       "model_id": "",
       "version_major": 2,
       "version_minor": 0
      },
      "text/plain": [
       "HBox(children=(FloatProgress(value=0.0, description='Training', layout=Layout(flex='2'), max=1125.0, style=Pro…"
      ]
     },
     "metadata": {},
     "output_type": "display_data"
    },
    {
     "name": "stdout",
     "output_type": "stream",
     "text": [
      "Epoch 673: train=2.32681, val=2.27865, took 39.554 s\n",
      "  Validation Found 8317 of 10819, added 1319 (eff 76.87%) (0.659 FP/event)\n"
     ]
    },
    {
     "data": {
      "application/vnd.jupyter.widget-view+json": {
       "model_id": "",
       "version_major": 2,
       "version_minor": 0
      },
      "text/plain": [
       "HBox(children=(FloatProgress(value=0.0, description='Training', layout=Layout(flex='2'), max=1125.0, style=Pro…"
      ]
     },
     "metadata": {},
     "output_type": "display_data"
    },
    {
     "name": "stdout",
     "output_type": "stream",
     "text": [
      "Epoch 674: train=2.3304, val=2.27804, took 39.366 s\n",
      "  Validation Found 8322 of 10819, added 1315 (eff 76.92%) (0.657 FP/event)\n"
     ]
    },
    {
     "data": {
      "application/vnd.jupyter.widget-view+json": {
       "model_id": "",
       "version_major": 2,
       "version_minor": 0
      },
      "text/plain": [
       "HBox(children=(FloatProgress(value=0.0, description='Training', layout=Layout(flex='2'), max=1125.0, style=Pro…"
      ]
     },
     "metadata": {},
     "output_type": "display_data"
    },
    {
     "name": "stdout",
     "output_type": "stream",
     "text": [
      "Epoch 675: train=2.32398, val=2.27796, took 40.268 s\n",
      "  Validation Found 8323 of 10819, added 1316 (eff 76.93%) (0.658 FP/event)\n"
     ]
    },
    {
     "data": {
      "application/vnd.jupyter.widget-view+json": {
       "model_id": "",
       "version_major": 2,
       "version_minor": 0
      },
      "text/plain": [
       "HBox(children=(FloatProgress(value=0.0, description='Training', layout=Layout(flex='2'), max=1125.0, style=Pro…"
      ]
     },
     "metadata": {},
     "output_type": "display_data"
    },
    {
     "name": "stdout",
     "output_type": "stream",
     "text": [
      "Epoch 676: train=2.32507, val=2.27819, took 39.407 s\n",
      "  Validation Found 8315 of 10819, added 1313 (eff 76.86%) (0.656 FP/event)\n"
     ]
    },
    {
     "data": {
      "application/vnd.jupyter.widget-view+json": {
       "model_id": "",
       "version_major": 2,
       "version_minor": 0
      },
      "text/plain": [
       "HBox(children=(FloatProgress(value=0.0, description='Training', layout=Layout(flex='2'), max=1125.0, style=Pro…"
      ]
     },
     "metadata": {},
     "output_type": "display_data"
    },
    {
     "name": "stdout",
     "output_type": "stream",
     "text": [
      "Epoch 677: train=2.32433, val=2.27918, took 39.467 s\n",
      "  Validation Found 8316 of 10819, added 1325 (eff 76.86%) (0.662 FP/event)\n"
     ]
    },
    {
     "data": {
      "application/vnd.jupyter.widget-view+json": {
       "model_id": "",
       "version_major": 2,
       "version_minor": 0
      },
      "text/plain": [
       "HBox(children=(FloatProgress(value=0.0, description='Training', layout=Layout(flex='2'), max=1125.0, style=Pro…"
      ]
     },
     "metadata": {},
     "output_type": "display_data"
    },
    {
     "name": "stdout",
     "output_type": "stream",
     "text": [
      "Epoch 678: train=2.32424, val=2.27827, took 39.599 s\n",
      "  Validation Found 8322 of 10819, added 1317 (eff 76.92%) (0.658 FP/event)\n"
     ]
    },
    {
     "data": {
      "application/vnd.jupyter.widget-view+json": {
       "model_id": "",
       "version_major": 2,
       "version_minor": 0
      },
      "text/plain": [
       "HBox(children=(FloatProgress(value=0.0, description='Training', layout=Layout(flex='2'), max=1125.0, style=Pro…"
      ]
     },
     "metadata": {},
     "output_type": "display_data"
    },
    {
     "name": "stdout",
     "output_type": "stream",
     "text": [
      "Epoch 679: train=2.33022, val=2.2789, took 39.36 s\n",
      "  Validation Found 8323 of 10819, added 1315 (eff 76.93%) (0.657 FP/event)\n"
     ]
    },
    {
     "data": {
      "application/vnd.jupyter.widget-view+json": {
       "model_id": "",
       "version_major": 2,
       "version_minor": 0
      },
      "text/plain": [
       "HBox(children=(FloatProgress(value=0.0, description='Training', layout=Layout(flex='2'), max=1125.0, style=Pro…"
      ]
     },
     "metadata": {},
     "output_type": "display_data"
    },
    {
     "name": "stdout",
     "output_type": "stream",
     "text": [
      "Epoch 680: train=2.3209, val=2.27964, took 39.296 s\n",
      "  Validation Found 8324 of 10819, added 1308 (eff 76.94%) (0.654 FP/event)\n"
     ]
    },
    {
     "data": {
      "application/vnd.jupyter.widget-view+json": {
       "model_id": "",
       "version_major": 2,
       "version_minor": 0
      },
      "text/plain": [
       "HBox(children=(FloatProgress(value=0.0, description='Training', layout=Layout(flex='2'), max=1125.0, style=Pro…"
      ]
     },
     "metadata": {},
     "output_type": "display_data"
    },
    {
     "name": "stdout",
     "output_type": "stream",
     "text": [
      "Epoch 681: train=2.32155, val=2.27983, took 39.43 s\n",
      "  Validation Found 8325 of 10819, added 1298 (eff 76.95%) (0.649 FP/event)\n"
     ]
    },
    {
     "data": {
      "application/vnd.jupyter.widget-view+json": {
       "model_id": "",
       "version_major": 2,
       "version_minor": 0
      },
      "text/plain": [
       "HBox(children=(FloatProgress(value=0.0, description='Training', layout=Layout(flex='2'), max=1125.0, style=Pro…"
      ]
     },
     "metadata": {},
     "output_type": "display_data"
    },
    {
     "name": "stdout",
     "output_type": "stream",
     "text": [
      "Epoch 682: train=2.32425, val=2.2791, took 39.135 s\n",
      "  Validation Found 8317 of 10819, added 1315 (eff 76.87%) (0.657 FP/event)\n"
     ]
    },
    {
     "data": {
      "application/vnd.jupyter.widget-view+json": {
       "model_id": "",
       "version_major": 2,
       "version_minor": 0
      },
      "text/plain": [
       "HBox(children=(FloatProgress(value=0.0, description='Training', layout=Layout(flex='2'), max=1125.0, style=Pro…"
      ]
     },
     "metadata": {},
     "output_type": "display_data"
    },
    {
     "name": "stdout",
     "output_type": "stream",
     "text": [
      "Epoch 683: train=2.3257, val=2.27854, took 39.411 s\n",
      "  Validation Found 8323 of 10819, added 1314 (eff 76.93%) (0.657 FP/event)\n"
     ]
    },
    {
     "data": {
      "application/vnd.jupyter.widget-view+json": {
       "model_id": "",
       "version_major": 2,
       "version_minor": 0
      },
      "text/plain": [
       "HBox(children=(FloatProgress(value=0.0, description='Training', layout=Layout(flex='2'), max=1125.0, style=Pro…"
      ]
     },
     "metadata": {},
     "output_type": "display_data"
    },
    {
     "name": "stdout",
     "output_type": "stream",
     "text": [
      "Epoch 684: train=2.32307, val=2.27873, took 39.396 s\n",
      "  Validation Found 8325 of 10819, added 1303 (eff 76.95%) (0.651 FP/event)\n"
     ]
    },
    {
     "data": {
      "application/vnd.jupyter.widget-view+json": {
       "model_id": "",
       "version_major": 2,
       "version_minor": 0
      },
      "text/plain": [
       "HBox(children=(FloatProgress(value=0.0, description='Training', layout=Layout(flex='2'), max=1125.0, style=Pro…"
      ]
     },
     "metadata": {},
     "output_type": "display_data"
    },
    {
     "name": "stdout",
     "output_type": "stream",
     "text": [
      "Epoch 685: train=2.32486, val=2.27802, took 39.411 s\n",
      "  Validation Found 8321 of 10819, added 1311 (eff 76.91%) (0.655 FP/event)\n"
     ]
    },
    {
     "data": {
      "application/vnd.jupyter.widget-view+json": {
       "model_id": "",
       "version_major": 2,
       "version_minor": 0
      },
      "text/plain": [
       "HBox(children=(FloatProgress(value=0.0, description='Training', layout=Layout(flex='2'), max=1125.0, style=Pro…"
      ]
     },
     "metadata": {},
     "output_type": "display_data"
    },
    {
     "name": "stdout",
     "output_type": "stream",
     "text": [
      "Epoch 686: train=2.32218, val=2.27959, took 40.044 s\n",
      "  Validation Found 8322 of 10819, added 1300 (eff 76.92%) (0.65 FP/event)\n"
     ]
    },
    {
     "data": {
      "application/vnd.jupyter.widget-view+json": {
       "model_id": "",
       "version_major": 2,
       "version_minor": 0
      },
      "text/plain": [
       "HBox(children=(FloatProgress(value=0.0, description='Training', layout=Layout(flex='2'), max=1125.0, style=Pro…"
      ]
     },
     "metadata": {},
     "output_type": "display_data"
    },
    {
     "name": "stdout",
     "output_type": "stream",
     "text": [
      "Epoch 687: train=2.32563, val=2.27881, took 39.369 s\n",
      "  Validation Found 8326 of 10819, added 1304 (eff 76.96%) (0.652 FP/event)\n"
     ]
    },
    {
     "data": {
      "application/vnd.jupyter.widget-view+json": {
       "model_id": "",
       "version_major": 2,
       "version_minor": 0
      },
      "text/plain": [
       "HBox(children=(FloatProgress(value=0.0, description='Training', layout=Layout(flex='2'), max=1125.0, style=Pro…"
      ]
     },
     "metadata": {},
     "output_type": "display_data"
    },
    {
     "name": "stdout",
     "output_type": "stream",
     "text": [
      "Epoch 688: train=2.3286, val=2.27854, took 39.585 s\n",
      "  Validation Found 8329 of 10819, added 1302 (eff 76.98%) (0.651 FP/event)\n"
     ]
    },
    {
     "data": {
      "application/vnd.jupyter.widget-view+json": {
       "model_id": "",
       "version_major": 2,
       "version_minor": 0
      },
      "text/plain": [
       "HBox(children=(FloatProgress(value=0.0, description='Training', layout=Layout(flex='2'), max=1125.0, style=Pro…"
      ]
     },
     "metadata": {},
     "output_type": "display_data"
    },
    {
     "name": "stdout",
     "output_type": "stream",
     "text": [
      "Epoch 689: train=2.32761, val=2.27817, took 39.416 s\n",
      "  Validation Found 8312 of 10819, added 1316 (eff 76.83%) (0.658 FP/event)\n"
     ]
    },
    {
     "data": {
      "application/vnd.jupyter.widget-view+json": {
       "model_id": "",
       "version_major": 2,
       "version_minor": 0
      },
      "text/plain": [
       "HBox(children=(FloatProgress(value=0.0, description='Training', layout=Layout(flex='2'), max=1125.0, style=Pro…"
      ]
     },
     "metadata": {},
     "output_type": "display_data"
    },
    {
     "name": "stdout",
     "output_type": "stream",
     "text": [
      "Epoch 690: train=2.31667, val=2.27844, took 39.785 s\n",
      "  Validation Found 8319 of 10819, added 1316 (eff 76.89%) (0.658 FP/event)\n"
     ]
    },
    {
     "data": {
      "application/vnd.jupyter.widget-view+json": {
       "model_id": "",
       "version_major": 2,
       "version_minor": 0
      },
      "text/plain": [
       "HBox(children=(FloatProgress(value=0.0, description='Training', layout=Layout(flex='2'), max=1125.0, style=Pro…"
      ]
     },
     "metadata": {},
     "output_type": "display_data"
    },
    {
     "name": "stdout",
     "output_type": "stream",
     "text": [
      "Epoch 691: train=2.32463, val=2.28165, took 39.451 s\n",
      "  Validation Found 8300 of 10819, added 1340 (eff 76.72%) (0.67 FP/event)\n"
     ]
    },
    {
     "data": {
      "application/vnd.jupyter.widget-view+json": {
       "model_id": "",
       "version_major": 2,
       "version_minor": 0
      },
      "text/plain": [
       "HBox(children=(FloatProgress(value=0.0, description='Training', layout=Layout(flex='2'), max=1125.0, style=Pro…"
      ]
     },
     "metadata": {},
     "output_type": "display_data"
    },
    {
     "name": "stdout",
     "output_type": "stream",
     "text": [
      "Epoch 692: train=2.32514, val=2.2783, took 39.538 s\n",
      "  Validation Found 8318 of 10819, added 1320 (eff 76.88%) (0.66 FP/event)\n"
     ]
    },
    {
     "data": {
      "application/vnd.jupyter.widget-view+json": {
       "model_id": "",
       "version_major": 2,
       "version_minor": 0
      },
      "text/plain": [
       "HBox(children=(FloatProgress(value=0.0, description='Training', layout=Layout(flex='2'), max=1125.0, style=Pro…"
      ]
     },
     "metadata": {},
     "output_type": "display_data"
    },
    {
     "name": "stdout",
     "output_type": "stream",
     "text": [
      "Epoch 693: train=2.31999, val=2.27838, took 39.496 s\n",
      "  Validation Found 8318 of 10819, added 1318 (eff 76.88%) (0.659 FP/event)\n"
     ]
    },
    {
     "data": {
      "application/vnd.jupyter.widget-view+json": {
       "model_id": "",
       "version_major": 2,
       "version_minor": 0
      },
      "text/plain": [
       "HBox(children=(FloatProgress(value=0.0, description='Training', layout=Layout(flex='2'), max=1125.0, style=Pro…"
      ]
     },
     "metadata": {},
     "output_type": "display_data"
    },
    {
     "name": "stdout",
     "output_type": "stream",
     "text": [
      "Epoch 694: train=2.32568, val=2.278, took 39.383 s\n",
      "  Validation Found 8320 of 10819, added 1317 (eff 76.90%) (0.658 FP/event)\n"
     ]
    },
    {
     "data": {
      "application/vnd.jupyter.widget-view+json": {
       "model_id": "",
       "version_major": 2,
       "version_minor": 0
      },
      "text/plain": [
       "HBox(children=(FloatProgress(value=0.0, description='Training', layout=Layout(flex='2'), max=1125.0, style=Pro…"
      ]
     },
     "metadata": {},
     "output_type": "display_data"
    },
    {
     "name": "stdout",
     "output_type": "stream",
     "text": [
      "Epoch 695: train=2.31982, val=2.2777, took 39.452 s\n",
      "  Validation Found 8316 of 10819, added 1317 (eff 76.86%) (0.658 FP/event)\n"
     ]
    },
    {
     "data": {
      "application/vnd.jupyter.widget-view+json": {
       "model_id": "",
       "version_major": 2,
       "version_minor": 0
      },
      "text/plain": [
       "HBox(children=(FloatProgress(value=0.0, description='Training', layout=Layout(flex='2'), max=1125.0, style=Pro…"
      ]
     },
     "metadata": {},
     "output_type": "display_data"
    },
    {
     "name": "stdout",
     "output_type": "stream",
     "text": [
      "Epoch 696: train=2.32314, val=2.27798, took 39.246 s\n",
      "  Validation Found 8328 of 10819, added 1316 (eff 76.98%) (0.658 FP/event)\n"
     ]
    },
    {
     "data": {
      "application/vnd.jupyter.widget-view+json": {
       "model_id": "",
       "version_major": 2,
       "version_minor": 0
      },
      "text/plain": [
       "HBox(children=(FloatProgress(value=0.0, description='Training', layout=Layout(flex='2'), max=1125.0, style=Pro…"
      ]
     },
     "metadata": {},
     "output_type": "display_data"
    },
    {
     "name": "stdout",
     "output_type": "stream",
     "text": [
      "Epoch 697: train=2.32782, val=2.27817, took 39.394 s\n",
      "  Validation Found 8324 of 10819, added 1317 (eff 76.94%) (0.658 FP/event)\n"
     ]
    },
    {
     "data": {
      "application/vnd.jupyter.widget-view+json": {
       "model_id": "",
       "version_major": 2,
       "version_minor": 0
      },
      "text/plain": [
       "HBox(children=(FloatProgress(value=0.0, description='Training', layout=Layout(flex='2'), max=1125.0, style=Pro…"
      ]
     },
     "metadata": {},
     "output_type": "display_data"
    },
    {
     "name": "stdout",
     "output_type": "stream",
     "text": [
      "Epoch 698: train=2.32079, val=2.27801, took 39.36 s\n",
      "  Validation Found 8318 of 10819, added 1318 (eff 76.88%) (0.659 FP/event)\n"
     ]
    },
    {
     "data": {
      "application/vnd.jupyter.widget-view+json": {
       "model_id": "",
       "version_major": 2,
       "version_minor": 0
      },
      "text/plain": [
       "HBox(children=(FloatProgress(value=0.0, description='Training', layout=Layout(flex='2'), max=1125.0, style=Pro…"
      ]
     },
     "metadata": {},
     "output_type": "display_data"
    },
    {
     "name": "stdout",
     "output_type": "stream",
     "text": [
      "Epoch 699: train=2.32061, val=2.27865, took 40.515 s\n",
      "  Validation Found 8317 of 10819, added 1326 (eff 76.87%) (0.663 FP/event)\n",
      "\n"
     ]
    }
   ],
   "source": [
    "for result in trainNet(model, optimizer, loss,\n",
    "                        train_loader, val_loader,\n",
    "                        n_epochs, epoch_start=len(results),\n",
    "                        notebook=True):\n",
    "    \n",
    "    results = results.append(pd.Series(result._asdict()), ignore_index=True)\n",
    "    \n",
    "    xs = results.index\n",
    "##    print(\"xs = \",xs)\n",
    "    \n",
    "    # Update the plot above\n",
    "##    print(\"results.index = \",results.index,\"  results.cost\", results.cost)\n",
    "##    print(\"results.index = \",results.index,\"  results.val\", results.val)\n",
    "    lines['train'].set_data(results.index,results.cost)\n",
    "    lines['val'].set_data(results.index,results.val)\n",
    "    \n",
    "    #filter first cost epoch (can be really large)\n",
    "    max_cost = max(max(results.cost if len(results.cost)<2 else results.cost[1:]), max(results.val))\n",
    "    min_cost = min(min(results.cost), min(results.val))\n",
    "    \n",
    "    # The plot limits need updating too\n",
    "    \n",
    "    \n",
    "    \n",
    "    ax.set_ylim(min_cost*.9, max_cost*1.1)  \n",
    "    ax.set_xlim(-.5, len(results.cost) - .5)\n",
    "    \n",
    "    replace_in_ax(lax, lines['eff'], xs, results['eff_val'].apply(lambda x: x.eff_rate))\n",
    "    replace_in_ax(tax, lines['fp'], xs, results['eff_val'].apply(lambda x: x.fp_rate))\n",
    "    \n",
    "    # Redraw the figure\n",
    "    fig.canvas.draw()\n",
    "\n",
    "    # Save each model state dictionary\n",
    "    torch.save(model.state_dict(), output / f'{name}_{result.epoch}.pyt')"
   ]
  },
  {
   "cell_type": "code",
   "execution_count": 16,
   "metadata": {},
   "outputs": [],
   "source": [
    "torch.save(model.state_dict(), output / f'{name}_final.pyt')"
   ]
  },
  {
   "cell_type": "code",
   "execution_count": 17,
   "metadata": {},
   "outputs": [
    {
     "name": "stderr",
     "output_type": "stream",
     "text": [
      "/apps/miniconda3/envs/june2020-gpu/lib/python3.7/site-packages/pandas/core/generic.py:2505: PerformanceWarning: \n",
      "your performance may suffer as PyTables will pickle object types that it cannot\n",
      "map directly to c-types [inferred_type->mixed-integer,key->block1_values] [items->Index(['epoch', 'eff_val'], dtype='object')]\n",
      "\n",
      "  encoding=encoding,\n"
     ]
    }
   ],
   "source": [
    "results.to_hdf(f'{name}_stats.hdf5', 'results')"
   ]
  },
  {
   "cell_type": "code",
   "execution_count": 18,
   "metadata": {},
   "outputs": [
    {
     "data": {
      "application/javascript": [
       "/* Put everything inside the global mpl namespace */\n",
       "window.mpl = {};\n",
       "\n",
       "\n",
       "mpl.get_websocket_type = function() {\n",
       "    if (typeof(WebSocket) !== 'undefined') {\n",
       "        return WebSocket;\n",
       "    } else if (typeof(MozWebSocket) !== 'undefined') {\n",
       "        return MozWebSocket;\n",
       "    } else {\n",
       "        alert('Your browser does not have WebSocket support. ' +\n",
       "              'Please try Chrome, Safari or Firefox ≥ 6. ' +\n",
       "              'Firefox 4 and 5 are also supported but you ' +\n",
       "              'have to enable WebSockets in about:config.');\n",
       "    };\n",
       "}\n",
       "\n",
       "mpl.figure = function(figure_id, websocket, ondownload, parent_element) {\n",
       "    this.id = figure_id;\n",
       "\n",
       "    this.ws = websocket;\n",
       "\n",
       "    this.supports_binary = (this.ws.binaryType != undefined);\n",
       "\n",
       "    if (!this.supports_binary) {\n",
       "        var warnings = document.getElementById(\"mpl-warnings\");\n",
       "        if (warnings) {\n",
       "            warnings.style.display = 'block';\n",
       "            warnings.textContent = (\n",
       "                \"This browser does not support binary websocket messages. \" +\n",
       "                    \"Performance may be slow.\");\n",
       "        }\n",
       "    }\n",
       "\n",
       "    this.imageObj = new Image();\n",
       "\n",
       "    this.context = undefined;\n",
       "    this.message = undefined;\n",
       "    this.canvas = undefined;\n",
       "    this.rubberband_canvas = undefined;\n",
       "    this.rubberband_context = undefined;\n",
       "    this.format_dropdown = undefined;\n",
       "\n",
       "    this.image_mode = 'full';\n",
       "\n",
       "    this.root = $('<div/>');\n",
       "    this._root_extra_style(this.root)\n",
       "    this.root.attr('style', 'display: inline-block');\n",
       "\n",
       "    $(parent_element).append(this.root);\n",
       "\n",
       "    this._init_header(this);\n",
       "    this._init_canvas(this);\n",
       "    this._init_toolbar(this);\n",
       "\n",
       "    var fig = this;\n",
       "\n",
       "    this.waiting = false;\n",
       "\n",
       "    this.ws.onopen =  function () {\n",
       "            fig.send_message(\"supports_binary\", {value: fig.supports_binary});\n",
       "            fig.send_message(\"send_image_mode\", {});\n",
       "            if (mpl.ratio != 1) {\n",
       "                fig.send_message(\"set_dpi_ratio\", {'dpi_ratio': mpl.ratio});\n",
       "            }\n",
       "            fig.send_message(\"refresh\", {});\n",
       "        }\n",
       "\n",
       "    this.imageObj.onload = function() {\n",
       "            if (fig.image_mode == 'full') {\n",
       "                // Full images could contain transparency (where diff images\n",
       "                // almost always do), so we need to clear the canvas so that\n",
       "                // there is no ghosting.\n",
       "                fig.context.clearRect(0, 0, fig.canvas.width, fig.canvas.height);\n",
       "            }\n",
       "            fig.context.drawImage(fig.imageObj, 0, 0);\n",
       "        };\n",
       "\n",
       "    this.imageObj.onunload = function() {\n",
       "        fig.ws.close();\n",
       "    }\n",
       "\n",
       "    this.ws.onmessage = this._make_on_message_function(this);\n",
       "\n",
       "    this.ondownload = ondownload;\n",
       "}\n",
       "\n",
       "mpl.figure.prototype._init_header = function() {\n",
       "    var titlebar = $(\n",
       "        '<div class=\"ui-dialog-titlebar ui-widget-header ui-corner-all ' +\n",
       "        'ui-helper-clearfix\"/>');\n",
       "    var titletext = $(\n",
       "        '<div class=\"ui-dialog-title\" style=\"width: 100%; ' +\n",
       "        'text-align: center; padding: 3px;\"/>');\n",
       "    titlebar.append(titletext)\n",
       "    this.root.append(titlebar);\n",
       "    this.header = titletext[0];\n",
       "}\n",
       "\n",
       "\n",
       "\n",
       "mpl.figure.prototype._canvas_extra_style = function(canvas_div) {\n",
       "\n",
       "}\n",
       "\n",
       "\n",
       "mpl.figure.prototype._root_extra_style = function(canvas_div) {\n",
       "\n",
       "}\n",
       "\n",
       "mpl.figure.prototype._init_canvas = function() {\n",
       "    var fig = this;\n",
       "\n",
       "    var canvas_div = $('<div/>');\n",
       "\n",
       "    canvas_div.attr('style', 'position: relative; clear: both; outline: 0');\n",
       "\n",
       "    function canvas_keyboard_event(event) {\n",
       "        return fig.key_event(event, event['data']);\n",
       "    }\n",
       "\n",
       "    canvas_div.keydown('key_press', canvas_keyboard_event);\n",
       "    canvas_div.keyup('key_release', canvas_keyboard_event);\n",
       "    this.canvas_div = canvas_div\n",
       "    this._canvas_extra_style(canvas_div)\n",
       "    this.root.append(canvas_div);\n",
       "\n",
       "    var canvas = $('<canvas/>');\n",
       "    canvas.addClass('mpl-canvas');\n",
       "    canvas.attr('style', \"left: 0; top: 0; z-index: 0; outline: 0\")\n",
       "\n",
       "    this.canvas = canvas[0];\n",
       "    this.context = canvas[0].getContext(\"2d\");\n",
       "\n",
       "    var backingStore = this.context.backingStorePixelRatio ||\n",
       "\tthis.context.webkitBackingStorePixelRatio ||\n",
       "\tthis.context.mozBackingStorePixelRatio ||\n",
       "\tthis.context.msBackingStorePixelRatio ||\n",
       "\tthis.context.oBackingStorePixelRatio ||\n",
       "\tthis.context.backingStorePixelRatio || 1;\n",
       "\n",
       "    mpl.ratio = (window.devicePixelRatio || 1) / backingStore;\n",
       "\n",
       "    var rubberband = $('<canvas/>');\n",
       "    rubberband.attr('style', \"position: absolute; left: 0; top: 0; z-index: 1;\")\n",
       "\n",
       "    var pass_mouse_events = true;\n",
       "\n",
       "    canvas_div.resizable({\n",
       "        start: function(event, ui) {\n",
       "            pass_mouse_events = false;\n",
       "        },\n",
       "        resize: function(event, ui) {\n",
       "            fig.request_resize(ui.size.width, ui.size.height);\n",
       "        },\n",
       "        stop: function(event, ui) {\n",
       "            pass_mouse_events = true;\n",
       "            fig.request_resize(ui.size.width, ui.size.height);\n",
       "        },\n",
       "    });\n",
       "\n",
       "    function mouse_event_fn(event) {\n",
       "        if (pass_mouse_events)\n",
       "            return fig.mouse_event(event, event['data']);\n",
       "    }\n",
       "\n",
       "    rubberband.mousedown('button_press', mouse_event_fn);\n",
       "    rubberband.mouseup('button_release', mouse_event_fn);\n",
       "    // Throttle sequential mouse events to 1 every 20ms.\n",
       "    rubberband.mousemove('motion_notify', mouse_event_fn);\n",
       "\n",
       "    rubberband.mouseenter('figure_enter', mouse_event_fn);\n",
       "    rubberband.mouseleave('figure_leave', mouse_event_fn);\n",
       "\n",
       "    canvas_div.on(\"wheel\", function (event) {\n",
       "        event = event.originalEvent;\n",
       "        event['data'] = 'scroll'\n",
       "        if (event.deltaY < 0) {\n",
       "            event.step = 1;\n",
       "        } else {\n",
       "            event.step = -1;\n",
       "        }\n",
       "        mouse_event_fn(event);\n",
       "    });\n",
       "\n",
       "    canvas_div.append(canvas);\n",
       "    canvas_div.append(rubberband);\n",
       "\n",
       "    this.rubberband = rubberband;\n",
       "    this.rubberband_canvas = rubberband[0];\n",
       "    this.rubberband_context = rubberband[0].getContext(\"2d\");\n",
       "    this.rubberband_context.strokeStyle = \"#000000\";\n",
       "\n",
       "    this._resize_canvas = function(width, height) {\n",
       "        // Keep the size of the canvas, canvas container, and rubber band\n",
       "        // canvas in synch.\n",
       "        canvas_div.css('width', width)\n",
       "        canvas_div.css('height', height)\n",
       "\n",
       "        canvas.attr('width', width * mpl.ratio);\n",
       "        canvas.attr('height', height * mpl.ratio);\n",
       "        canvas.attr('style', 'width: ' + width + 'px; height: ' + height + 'px;');\n",
       "\n",
       "        rubberband.attr('width', width);\n",
       "        rubberband.attr('height', height);\n",
       "    }\n",
       "\n",
       "    // Set the figure to an initial 600x600px, this will subsequently be updated\n",
       "    // upon first draw.\n",
       "    this._resize_canvas(600, 600);\n",
       "\n",
       "    // Disable right mouse context menu.\n",
       "    $(this.rubberband_canvas).bind(\"contextmenu\",function(e){\n",
       "        return false;\n",
       "    });\n",
       "\n",
       "    function set_focus () {\n",
       "        canvas.focus();\n",
       "        canvas_div.focus();\n",
       "    }\n",
       "\n",
       "    window.setTimeout(set_focus, 100);\n",
       "}\n",
       "\n",
       "mpl.figure.prototype._init_toolbar = function() {\n",
       "    var fig = this;\n",
       "\n",
       "    var nav_element = $('<div/>');\n",
       "    nav_element.attr('style', 'width: 100%');\n",
       "    this.root.append(nav_element);\n",
       "\n",
       "    // Define a callback function for later on.\n",
       "    function toolbar_event(event) {\n",
       "        return fig.toolbar_button_onclick(event['data']);\n",
       "    }\n",
       "    function toolbar_mouse_event(event) {\n",
       "        return fig.toolbar_button_onmouseover(event['data']);\n",
       "    }\n",
       "\n",
       "    for(var toolbar_ind in mpl.toolbar_items) {\n",
       "        var name = mpl.toolbar_items[toolbar_ind][0];\n",
       "        var tooltip = mpl.toolbar_items[toolbar_ind][1];\n",
       "        var image = mpl.toolbar_items[toolbar_ind][2];\n",
       "        var method_name = mpl.toolbar_items[toolbar_ind][3];\n",
       "\n",
       "        if (!name) {\n",
       "            // put a spacer in here.\n",
       "            continue;\n",
       "        }\n",
       "        var button = $('<button/>');\n",
       "        button.addClass('ui-button ui-widget ui-state-default ui-corner-all ' +\n",
       "                        'ui-button-icon-only');\n",
       "        button.attr('role', 'button');\n",
       "        button.attr('aria-disabled', 'false');\n",
       "        button.click(method_name, toolbar_event);\n",
       "        button.mouseover(tooltip, toolbar_mouse_event);\n",
       "\n",
       "        var icon_img = $('<span/>');\n",
       "        icon_img.addClass('ui-button-icon-primary ui-icon');\n",
       "        icon_img.addClass(image);\n",
       "        icon_img.addClass('ui-corner-all');\n",
       "\n",
       "        var tooltip_span = $('<span/>');\n",
       "        tooltip_span.addClass('ui-button-text');\n",
       "        tooltip_span.html(tooltip);\n",
       "\n",
       "        button.append(icon_img);\n",
       "        button.append(tooltip_span);\n",
       "\n",
       "        nav_element.append(button);\n",
       "    }\n",
       "\n",
       "    var fmt_picker_span = $('<span/>');\n",
       "\n",
       "    var fmt_picker = $('<select/>');\n",
       "    fmt_picker.addClass('mpl-toolbar-option ui-widget ui-widget-content');\n",
       "    fmt_picker_span.append(fmt_picker);\n",
       "    nav_element.append(fmt_picker_span);\n",
       "    this.format_dropdown = fmt_picker[0];\n",
       "\n",
       "    for (var ind in mpl.extensions) {\n",
       "        var fmt = mpl.extensions[ind];\n",
       "        var option = $(\n",
       "            '<option/>', {selected: fmt === mpl.default_extension}).html(fmt);\n",
       "        fmt_picker.append(option);\n",
       "    }\n",
       "\n",
       "    // Add hover states to the ui-buttons\n",
       "    $( \".ui-button\" ).hover(\n",
       "        function() { $(this).addClass(\"ui-state-hover\");},\n",
       "        function() { $(this).removeClass(\"ui-state-hover\");}\n",
       "    );\n",
       "\n",
       "    var status_bar = $('<span class=\"mpl-message\"/>');\n",
       "    nav_element.append(status_bar);\n",
       "    this.message = status_bar[0];\n",
       "}\n",
       "\n",
       "mpl.figure.prototype.request_resize = function(x_pixels, y_pixels) {\n",
       "    // Request matplotlib to resize the figure. Matplotlib will then trigger a resize in the client,\n",
       "    // which will in turn request a refresh of the image.\n",
       "    this.send_message('resize', {'width': x_pixels, 'height': y_pixels});\n",
       "}\n",
       "\n",
       "mpl.figure.prototype.send_message = function(type, properties) {\n",
       "    properties['type'] = type;\n",
       "    properties['figure_id'] = this.id;\n",
       "    this.ws.send(JSON.stringify(properties));\n",
       "}\n",
       "\n",
       "mpl.figure.prototype.send_draw_message = function() {\n",
       "    if (!this.waiting) {\n",
       "        this.waiting = true;\n",
       "        this.ws.send(JSON.stringify({type: \"draw\", figure_id: this.id}));\n",
       "    }\n",
       "}\n",
       "\n",
       "\n",
       "mpl.figure.prototype.handle_save = function(fig, msg) {\n",
       "    var format_dropdown = fig.format_dropdown;\n",
       "    var format = format_dropdown.options[format_dropdown.selectedIndex].value;\n",
       "    fig.ondownload(fig, format);\n",
       "}\n",
       "\n",
       "\n",
       "mpl.figure.prototype.handle_resize = function(fig, msg) {\n",
       "    var size = msg['size'];\n",
       "    if (size[0] != fig.canvas.width || size[1] != fig.canvas.height) {\n",
       "        fig._resize_canvas(size[0], size[1]);\n",
       "        fig.send_message(\"refresh\", {});\n",
       "    };\n",
       "}\n",
       "\n",
       "mpl.figure.prototype.handle_rubberband = function(fig, msg) {\n",
       "    var x0 = msg['x0'] / mpl.ratio;\n",
       "    var y0 = (fig.canvas.height - msg['y0']) / mpl.ratio;\n",
       "    var x1 = msg['x1'] / mpl.ratio;\n",
       "    var y1 = (fig.canvas.height - msg['y1']) / mpl.ratio;\n",
       "    x0 = Math.floor(x0) + 0.5;\n",
       "    y0 = Math.floor(y0) + 0.5;\n",
       "    x1 = Math.floor(x1) + 0.5;\n",
       "    y1 = Math.floor(y1) + 0.5;\n",
       "    var min_x = Math.min(x0, x1);\n",
       "    var min_y = Math.min(y0, y1);\n",
       "    var width = Math.abs(x1 - x0);\n",
       "    var height = Math.abs(y1 - y0);\n",
       "\n",
       "    fig.rubberband_context.clearRect(\n",
       "        0, 0, fig.canvas.width / mpl.ratio, fig.canvas.height / mpl.ratio);\n",
       "\n",
       "    fig.rubberband_context.strokeRect(min_x, min_y, width, height);\n",
       "}\n",
       "\n",
       "mpl.figure.prototype.handle_figure_label = function(fig, msg) {\n",
       "    // Updates the figure title.\n",
       "    fig.header.textContent = msg['label'];\n",
       "}\n",
       "\n",
       "mpl.figure.prototype.handle_cursor = function(fig, msg) {\n",
       "    var cursor = msg['cursor'];\n",
       "    switch(cursor)\n",
       "    {\n",
       "    case 0:\n",
       "        cursor = 'pointer';\n",
       "        break;\n",
       "    case 1:\n",
       "        cursor = 'default';\n",
       "        break;\n",
       "    case 2:\n",
       "        cursor = 'crosshair';\n",
       "        break;\n",
       "    case 3:\n",
       "        cursor = 'move';\n",
       "        break;\n",
       "    }\n",
       "    fig.rubberband_canvas.style.cursor = cursor;\n",
       "}\n",
       "\n",
       "mpl.figure.prototype.handle_message = function(fig, msg) {\n",
       "    fig.message.textContent = msg['message'];\n",
       "}\n",
       "\n",
       "mpl.figure.prototype.handle_draw = function(fig, msg) {\n",
       "    // Request the server to send over a new figure.\n",
       "    fig.send_draw_message();\n",
       "}\n",
       "\n",
       "mpl.figure.prototype.handle_image_mode = function(fig, msg) {\n",
       "    fig.image_mode = msg['mode'];\n",
       "}\n",
       "\n",
       "mpl.figure.prototype.updated_canvas_event = function() {\n",
       "    // Called whenever the canvas gets updated.\n",
       "    this.send_message(\"ack\", {});\n",
       "}\n",
       "\n",
       "// A function to construct a web socket function for onmessage handling.\n",
       "// Called in the figure constructor.\n",
       "mpl.figure.prototype._make_on_message_function = function(fig) {\n",
       "    return function socket_on_message(evt) {\n",
       "        if (evt.data instanceof Blob) {\n",
       "            /* FIXME: We get \"Resource interpreted as Image but\n",
       "             * transferred with MIME type text/plain:\" errors on\n",
       "             * Chrome.  But how to set the MIME type?  It doesn't seem\n",
       "             * to be part of the websocket stream */\n",
       "            evt.data.type = \"image/png\";\n",
       "\n",
       "            /* Free the memory for the previous frames */\n",
       "            if (fig.imageObj.src) {\n",
       "                (window.URL || window.webkitURL).revokeObjectURL(\n",
       "                    fig.imageObj.src);\n",
       "            }\n",
       "\n",
       "            fig.imageObj.src = (window.URL || window.webkitURL).createObjectURL(\n",
       "                evt.data);\n",
       "            fig.updated_canvas_event();\n",
       "            fig.waiting = false;\n",
       "            return;\n",
       "        }\n",
       "        else if (typeof evt.data === 'string' && evt.data.slice(0, 21) == \"data:image/png;base64\") {\n",
       "            fig.imageObj.src = evt.data;\n",
       "            fig.updated_canvas_event();\n",
       "            fig.waiting = false;\n",
       "            return;\n",
       "        }\n",
       "\n",
       "        var msg = JSON.parse(evt.data);\n",
       "        var msg_type = msg['type'];\n",
       "\n",
       "        // Call the  \"handle_{type}\" callback, which takes\n",
       "        // the figure and JSON message as its only arguments.\n",
       "        try {\n",
       "            var callback = fig[\"handle_\" + msg_type];\n",
       "        } catch (e) {\n",
       "            console.log(\"No handler for the '\" + msg_type + \"' message type: \", msg);\n",
       "            return;\n",
       "        }\n",
       "\n",
       "        if (callback) {\n",
       "            try {\n",
       "                // console.log(\"Handling '\" + msg_type + \"' message: \", msg);\n",
       "                callback(fig, msg);\n",
       "            } catch (e) {\n",
       "                console.log(\"Exception inside the 'handler_\" + msg_type + \"' callback:\", e, e.stack, msg);\n",
       "            }\n",
       "        }\n",
       "    };\n",
       "}\n",
       "\n",
       "// from http://stackoverflow.com/questions/1114465/getting-mouse-location-in-canvas\n",
       "mpl.findpos = function(e) {\n",
       "    //this section is from http://www.quirksmode.org/js/events_properties.html\n",
       "    var targ;\n",
       "    if (!e)\n",
       "        e = window.event;\n",
       "    if (e.target)\n",
       "        targ = e.target;\n",
       "    else if (e.srcElement)\n",
       "        targ = e.srcElement;\n",
       "    if (targ.nodeType == 3) // defeat Safari bug\n",
       "        targ = targ.parentNode;\n",
       "\n",
       "    // jQuery normalizes the pageX and pageY\n",
       "    // pageX,Y are the mouse positions relative to the document\n",
       "    // offset() returns the position of the element relative to the document\n",
       "    var x = e.pageX - $(targ).offset().left;\n",
       "    var y = e.pageY - $(targ).offset().top;\n",
       "\n",
       "    return {\"x\": x, \"y\": y};\n",
       "};\n",
       "\n",
       "/*\n",
       " * return a copy of an object with only non-object keys\n",
       " * we need this to avoid circular references\n",
       " * http://stackoverflow.com/a/24161582/3208463\n",
       " */\n",
       "function simpleKeys (original) {\n",
       "  return Object.keys(original).reduce(function (obj, key) {\n",
       "    if (typeof original[key] !== 'object')\n",
       "        obj[key] = original[key]\n",
       "    return obj;\n",
       "  }, {});\n",
       "}\n",
       "\n",
       "mpl.figure.prototype.mouse_event = function(event, name) {\n",
       "    var canvas_pos = mpl.findpos(event)\n",
       "\n",
       "    if (name === 'button_press')\n",
       "    {\n",
       "        this.canvas.focus();\n",
       "        this.canvas_div.focus();\n",
       "    }\n",
       "\n",
       "    var x = canvas_pos.x * mpl.ratio;\n",
       "    var y = canvas_pos.y * mpl.ratio;\n",
       "\n",
       "    this.send_message(name, {x: x, y: y, button: event.button,\n",
       "                             step: event.step,\n",
       "                             guiEvent: simpleKeys(event)});\n",
       "\n",
       "    /* This prevents the web browser from automatically changing to\n",
       "     * the text insertion cursor when the button is pressed.  We want\n",
       "     * to control all of the cursor setting manually through the\n",
       "     * 'cursor' event from matplotlib */\n",
       "    event.preventDefault();\n",
       "    return false;\n",
       "}\n",
       "\n",
       "mpl.figure.prototype._key_event_extra = function(event, name) {\n",
       "    // Handle any extra behaviour associated with a key event\n",
       "}\n",
       "\n",
       "mpl.figure.prototype.key_event = function(event, name) {\n",
       "\n",
       "    // Prevent repeat events\n",
       "    if (name == 'key_press')\n",
       "    {\n",
       "        if (event.which === this._key)\n",
       "            return;\n",
       "        else\n",
       "            this._key = event.which;\n",
       "    }\n",
       "    if (name == 'key_release')\n",
       "        this._key = null;\n",
       "\n",
       "    var value = '';\n",
       "    if (event.ctrlKey && event.which != 17)\n",
       "        value += \"ctrl+\";\n",
       "    if (event.altKey && event.which != 18)\n",
       "        value += \"alt+\";\n",
       "    if (event.shiftKey && event.which != 16)\n",
       "        value += \"shift+\";\n",
       "\n",
       "    value += 'k';\n",
       "    value += event.which.toString();\n",
       "\n",
       "    this._key_event_extra(event, name);\n",
       "\n",
       "    this.send_message(name, {key: value,\n",
       "                             guiEvent: simpleKeys(event)});\n",
       "    return false;\n",
       "}\n",
       "\n",
       "mpl.figure.prototype.toolbar_button_onclick = function(name) {\n",
       "    if (name == 'download') {\n",
       "        this.handle_save(this, null);\n",
       "    } else {\n",
       "        this.send_message(\"toolbar_button\", {name: name});\n",
       "    }\n",
       "};\n",
       "\n",
       "mpl.figure.prototype.toolbar_button_onmouseover = function(tooltip) {\n",
       "    this.message.textContent = tooltip;\n",
       "};\n",
       "mpl.toolbar_items = [[\"Home\", \"Reset original view\", \"fa fa-home icon-home\", \"home\"], [\"Back\", \"Back to previous view\", \"fa fa-arrow-left icon-arrow-left\", \"back\"], [\"Forward\", \"Forward to next view\", \"fa fa-arrow-right icon-arrow-right\", \"forward\"], [\"\", \"\", \"\", \"\"], [\"Pan\", \"Pan axes with left mouse, zoom with right\", \"fa fa-arrows icon-move\", \"pan\"], [\"Zoom\", \"Zoom to rectangle\", \"fa fa-square-o icon-check-empty\", \"zoom\"], [\"\", \"\", \"\", \"\"], [\"Download\", \"Download plot\", \"fa fa-floppy-o icon-save\", \"download\"]];\n",
       "\n",
       "mpl.extensions = [\"eps\", \"jpeg\", \"pdf\", \"png\", \"ps\", \"raw\", \"svg\", \"tif\"];\n",
       "\n",
       "mpl.default_extension = \"png\";var comm_websocket_adapter = function(comm) {\n",
       "    // Create a \"websocket\"-like object which calls the given IPython comm\n",
       "    // object with the appropriate methods. Currently this is a non binary\n",
       "    // socket, so there is still some room for performance tuning.\n",
       "    var ws = {};\n",
       "\n",
       "    ws.close = function() {\n",
       "        comm.close()\n",
       "    };\n",
       "    ws.send = function(m) {\n",
       "        //console.log('sending', m);\n",
       "        comm.send(m);\n",
       "    };\n",
       "    // Register the callback with on_msg.\n",
       "    comm.on_msg(function(msg) {\n",
       "        //console.log('receiving', msg['content']['data'], msg);\n",
       "        // Pass the mpl event to the overridden (by mpl) onmessage function.\n",
       "        ws.onmessage(msg['content']['data'])\n",
       "    });\n",
       "    return ws;\n",
       "}\n",
       "\n",
       "mpl.mpl_figure_comm = function(comm, msg) {\n",
       "    // This is the function which gets called when the mpl process\n",
       "    // starts-up an IPython Comm through the \"matplotlib\" channel.\n",
       "\n",
       "    var id = msg.content.data.id;\n",
       "    // Get hold of the div created by the display call when the Comm\n",
       "    // socket was opened in Python.\n",
       "    var element = $(\"#\" + id);\n",
       "    var ws_proxy = comm_websocket_adapter(comm)\n",
       "\n",
       "    function ondownload(figure, format) {\n",
       "        window.open(figure.imageObj.src);\n",
       "    }\n",
       "\n",
       "    var fig = new mpl.figure(id, ws_proxy,\n",
       "                           ondownload,\n",
       "                           element.get(0));\n",
       "\n",
       "    // Call onopen now - mpl needs it, as it is assuming we've passed it a real\n",
       "    // web socket which is closed, not our websocket->open comm proxy.\n",
       "    ws_proxy.onopen();\n",
       "\n",
       "    fig.parent_element = element.get(0);\n",
       "    fig.cell_info = mpl.find_output_cell(\"<div id='\" + id + \"'></div>\");\n",
       "    if (!fig.cell_info) {\n",
       "        console.error(\"Failed to find cell for figure\", id, fig);\n",
       "        return;\n",
       "    }\n",
       "\n",
       "    var output_index = fig.cell_info[2]\n",
       "    var cell = fig.cell_info[0];\n",
       "\n",
       "};\n",
       "\n",
       "mpl.figure.prototype.handle_close = function(fig, msg) {\n",
       "    var width = fig.canvas.width/mpl.ratio\n",
       "    fig.root.unbind('remove')\n",
       "\n",
       "    // Update the output cell to use the data from the current canvas.\n",
       "    fig.push_to_output();\n",
       "    var dataURL = fig.canvas.toDataURL();\n",
       "    // Re-enable the keyboard manager in IPython - without this line, in FF,\n",
       "    // the notebook keyboard shortcuts fail.\n",
       "    IPython.keyboard_manager.enable()\n",
       "    $(fig.parent_element).html('<img src=\"' + dataURL + '\" width=\"' + width + '\">');\n",
       "    fig.close_ws(fig, msg);\n",
       "}\n",
       "\n",
       "mpl.figure.prototype.close_ws = function(fig, msg){\n",
       "    fig.send_message('closing', msg);\n",
       "    // fig.ws.close()\n",
       "}\n",
       "\n",
       "mpl.figure.prototype.push_to_output = function(remove_interactive) {\n",
       "    // Turn the data on the canvas into data in the output cell.\n",
       "    var width = this.canvas.width/mpl.ratio\n",
       "    var dataURL = this.canvas.toDataURL();\n",
       "    this.cell_info[1]['text/html'] = '<img src=\"' + dataURL + '\" width=\"' + width + '\">';\n",
       "}\n",
       "\n",
       "mpl.figure.prototype.updated_canvas_event = function() {\n",
       "    // Tell IPython that the notebook contents must change.\n",
       "    IPython.notebook.set_dirty(true);\n",
       "    this.send_message(\"ack\", {});\n",
       "    var fig = this;\n",
       "    // Wait a second, then push the new image to the DOM so\n",
       "    // that it is saved nicely (might be nice to debounce this).\n",
       "    setTimeout(function () { fig.push_to_output() }, 1000);\n",
       "}\n",
       "\n",
       "mpl.figure.prototype._init_toolbar = function() {\n",
       "    var fig = this;\n",
       "\n",
       "    var nav_element = $('<div/>');\n",
       "    nav_element.attr('style', 'width: 100%');\n",
       "    this.root.append(nav_element);\n",
       "\n",
       "    // Define a callback function for later on.\n",
       "    function toolbar_event(event) {\n",
       "        return fig.toolbar_button_onclick(event['data']);\n",
       "    }\n",
       "    function toolbar_mouse_event(event) {\n",
       "        return fig.toolbar_button_onmouseover(event['data']);\n",
       "    }\n",
       "\n",
       "    for(var toolbar_ind in mpl.toolbar_items){\n",
       "        var name = mpl.toolbar_items[toolbar_ind][0];\n",
       "        var tooltip = mpl.toolbar_items[toolbar_ind][1];\n",
       "        var image = mpl.toolbar_items[toolbar_ind][2];\n",
       "        var method_name = mpl.toolbar_items[toolbar_ind][3];\n",
       "\n",
       "        if (!name) { continue; };\n",
       "\n",
       "        var button = $('<button class=\"btn btn-default\" href=\"#\" title=\"' + name + '\"><i class=\"fa ' + image + ' fa-lg\"></i></button>');\n",
       "        button.click(method_name, toolbar_event);\n",
       "        button.mouseover(tooltip, toolbar_mouse_event);\n",
       "        nav_element.append(button);\n",
       "    }\n",
       "\n",
       "    // Add the status bar.\n",
       "    var status_bar = $('<span class=\"mpl-message\" style=\"text-align:right; float: right;\"/>');\n",
       "    nav_element.append(status_bar);\n",
       "    this.message = status_bar[0];\n",
       "\n",
       "    // Add the close button to the window.\n",
       "    var buttongrp = $('<div class=\"btn-group inline pull-right\"></div>');\n",
       "    var button = $('<button class=\"btn btn-mini btn-primary\" href=\"#\" title=\"Stop Interaction\"><i class=\"fa fa-power-off icon-remove icon-large\"></i></button>');\n",
       "    button.click(function (evt) { fig.handle_close(fig, {}); } );\n",
       "    button.mouseover('Stop Interaction', toolbar_mouse_event);\n",
       "    buttongrp.append(button);\n",
       "    var titlebar = this.root.find($('.ui-dialog-titlebar'));\n",
       "    titlebar.prepend(buttongrp);\n",
       "}\n",
       "\n",
       "mpl.figure.prototype._root_extra_style = function(el){\n",
       "    var fig = this\n",
       "    el.on(\"remove\", function(){\n",
       "\tfig.close_ws(fig, {});\n",
       "    });\n",
       "}\n",
       "\n",
       "mpl.figure.prototype._canvas_extra_style = function(el){\n",
       "    // this is important to make the div 'focusable\n",
       "    el.attr('tabindex', 0)\n",
       "    // reach out to IPython and tell the keyboard manager to turn it's self\n",
       "    // off when our div gets focus\n",
       "\n",
       "    // location in version 3\n",
       "    if (IPython.notebook.keyboard_manager) {\n",
       "        IPython.notebook.keyboard_manager.register_events(el);\n",
       "    }\n",
       "    else {\n",
       "        // location in version 2\n",
       "        IPython.keyboard_manager.register_events(el);\n",
       "    }\n",
       "\n",
       "}\n",
       "\n",
       "mpl.figure.prototype._key_event_extra = function(event, name) {\n",
       "    var manager = IPython.notebook.keyboard_manager;\n",
       "    if (!manager)\n",
       "        manager = IPython.keyboard_manager;\n",
       "\n",
       "    // Check for shift+enter\n",
       "    if (event.shiftKey && event.which == 13) {\n",
       "        this.canvas_div.blur();\n",
       "        // select the cell after this one\n",
       "        var index = IPython.notebook.find_cell_index(this.cell_info[0]);\n",
       "        IPython.notebook.select(index + 1);\n",
       "    }\n",
       "}\n",
       "\n",
       "mpl.figure.prototype.handle_save = function(fig, msg) {\n",
       "    fig.ondownload(fig, null);\n",
       "}\n",
       "\n",
       "\n",
       "mpl.find_output_cell = function(html_output) {\n",
       "    // Return the cell and output element which can be found *uniquely* in the notebook.\n",
       "    // Note - this is a bit hacky, but it is done because the \"notebook_saving.Notebook\"\n",
       "    // IPython event is triggered only after the cells have been serialised, which for\n",
       "    // our purposes (turning an active figure into a static one), is too late.\n",
       "    var cells = IPython.notebook.get_cells();\n",
       "    var ncells = cells.length;\n",
       "    for (var i=0; i<ncells; i++) {\n",
       "        var cell = cells[i];\n",
       "        if (cell.cell_type === 'code'){\n",
       "            for (var j=0; j<cell.output_area.outputs.length; j++) {\n",
       "                var data = cell.output_area.outputs[j];\n",
       "                if (data.data) {\n",
       "                    // IPython >= 3 moved mimebundle to data attribute of output\n",
       "                    data = data.data;\n",
       "                }\n",
       "                if (data['text/html'] == html_output) {\n",
       "                    return [cell, data, j];\n",
       "                }\n",
       "            }\n",
       "        }\n",
       "    }\n",
       "}\n",
       "\n",
       "// Register the function which deals with the matplotlib target/channel.\n",
       "// The kernel may be null if the page has been refreshed.\n",
       "if (IPython.notebook.kernel != null) {\n",
       "    IPython.notebook.kernel.comm_manager.register_target('matplotlib', mpl.mpl_figure_comm);\n",
       "}\n"
      ],
      "text/plain": [
       "<IPython.core.display.Javascript object>"
      ]
     },
     "metadata": {},
     "output_type": "display_data"
    },
    {
     "data": {
      "text/html": [
       "<img src=\"data:image/png;base64,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\" width=\"999.75\">"
      ],
      "text/plain": [
       "<IPython.core.display.HTML object>"
      ]
     },
     "metadata": {},
     "output_type": "display_data"
    }
   ],
   "source": [
    "dual_train_plots(results.index,\n",
    "                 results.cost, results.val, \n",
    "                 results['eff_val'].apply(lambda x: x.eff_rate),\n",
    "                 results['eff_val'].apply(lambda x: x.fp_rate))\n",
    "plt.tight_layout()\n",
    "plt.savefig(str(output / f'{name}_stats_a.png'))"
   ]
  },
  {
   "cell_type": "markdown",
   "metadata": {},
   "source": [
    "Go ahead and save the final model (even though it was also saved above):"
   ]
  },
  {
   "cell_type": "markdown",
   "metadata": {},
   "source": [
    "Save the output results:"
   ]
  },
  {
   "cell_type": "code",
   "execution_count": 20,
   "metadata": {},
   "outputs": [],
   "source": [
    "##quit()\n",
    "\n"
   ]
  },
  {
   "cell_type": "code",
   "execution_count": null,
   "metadata": {},
   "outputs": [],
   "source": []
  }
 ],
 "metadata": {
  "kernelspec": {
   "display_name": "june2020-gpu",
   "language": "python",
   "name": "june2020-gpu"
  },
  "language_info": {
   "codemirror_mode": {
    "name": "ipython",
    "version": 3
   },
   "file_extension": ".py",
   "mimetype": "text/x-python",
   "name": "python",
   "nbconvert_exporter": "python",
   "pygments_lexer": "ipython3",
   "version": "3.7.6"
  }
 },
 "nbformat": 4,
 "nbformat_minor": 2
}
