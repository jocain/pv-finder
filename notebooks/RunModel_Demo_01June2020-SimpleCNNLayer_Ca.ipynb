{
 "cells": [
  {
   "cell_type": "code",
   "execution_count": 1,
   "metadata": {},
   "outputs": [],
   "source": [
    "##%matplotlib widget\n",
    "## with %matplotlib notebook: seems to require ipympl as part of environment, either\n",
    "## part of the conda environment or \"pip install ipympl\"\n",
    "## otherwise, does not show ANY plots in notebook, plt.savefig() works\n",
    "%matplotlib notebook  \n",
    "##%matplotlib inline    ## --plt.savefig()  works, but re-sizing does NOT\n"
   ]
  },
  {
   "cell_type": "markdown",
   "metadata": {},
   "source": [
    "This notebook is a short demo to illustrate execution.   For odd historical reasons, it uses \"toy Monte Carlo\" (simulated data)for \"training\" and \"full LHCB MC\" for validation.\n",
    "\n",
    "The network architecture is a FourFeature model that has the same basic structure as the TwoFeature 6 convolutional layer  model. The differences/similarlities are:\n",
    "\n",
    "  [1]  the FourFeature model has four channels of input rather than two.\n",
    "  [2]  the extra two channels are added by using load_xy=True in collect_data (x2)\n",
    "  [3]  the pretrained_dict is used with strict=False\n",
    "  \n",
    "In the first iterations, the weights from a trained TwoFeature_CNN6Layer_A model should be reused for the (X,Xsq) part of the algorithm, and the algorithm should only learn the filter for the (perturbative) (x,y) features.\n",
    "  \n",
    "Once the perturbative filters are beng generated, the algorithm can start with weights from a previous iteration of this algorithm and all weights free to float."
   ]
  },
  {
   "cell_type": "markdown",
   "metadata": {},
   "source": [
    "Check the current GPU usage. Please try to be nice!"
   ]
  },
  {
   "cell_type": "code",
   "execution_count": 2,
   "metadata": {},
   "outputs": [
    {
     "name": "stdout",
     "output_type": "stream",
     "text": [
      "Wed Jun  3 10:38:44 2020       \n",
      "+-----------------------------------------------------------------------------+\n",
      "| NVIDIA-SMI 440.64.00    Driver Version: 440.64.00    CUDA Version: 10.2     |\n",
      "|-------------------------------+----------------------+----------------------+\n",
      "| GPU  Name        Persistence-M| Bus-Id        Disp.A | Volatile Uncorr. ECC |\n",
      "| Fan  Temp  Perf  Pwr:Usage/Cap|         Memory-Usage | GPU-Util  Compute M. |\n",
      "|===============================+======================+======================|\n",
      "|   0  TITAN V             Off  | 00000000:03:00.0 Off |                  N/A |\n",
      "| 37%   47C    P8    25W / 250W |   5835MiB / 12066MiB |      0%      Default |\n",
      "+-------------------------------+----------------------+----------------------+\n",
      "|   1  Tesla P100-PCIE...  Off  | 00000000:83:00.0 Off |                    0 |\n",
      "| N/A   30C    P0    27W / 250W |      0MiB / 16280MiB |      0%      Default |\n",
      "+-------------------------------+----------------------+----------------------+\n",
      "|   2  TITAN V             Off  | 00000000:84:00.0 Off |                  N/A |\n",
      "| 28%   34C    P8    25W / 250W |   1765MiB / 12066MiB |      0%      Default |\n",
      "+-------------------------------+----------------------+----------------------+\n",
      "                                                                               \n",
      "+-----------------------------------------------------------------------------+\n",
      "| Processes:                                                       GPU Memory |\n",
      "|  GPU       PID   Type   Process name                             Usage      |\n",
      "|=============================================================================|\n",
      "|    0     24525      C   /data/conda/envs/goofit/bin/python          1497MiB |\n",
      "|    0     38644      C   /data/conda/envs/goofit/bin/python          2163MiB |\n",
      "|    0     47685      C   /data/conda/envs/goofit/bin/python          2163MiB |\n",
      "|    2     10624      C   /data/conda/envs/goofit/bin/python          1753MiB |\n",
      "+-----------------------------------------------------------------------------+\n"
     ]
    }
   ],
   "source": [
    "!nvidia-smi"
   ]
  },
  {
   "cell_type": "markdown",
   "metadata": {},
   "source": [
    "> **WARNING**: The card numbers here are *not* the same as in CUDA. You have been warned."
   ]
  },
  {
   "cell_type": "markdown",
   "metadata": {},
   "source": [
    "## Imports"
   ]
  },
  {
   "cell_type": "code",
   "execution_count": 3,
   "metadata": {},
   "outputs": [],
   "source": [
    "import matplotlib.pyplot as plt\n",
    "import numpy as np\n",
    "import time\n",
    "import torch\n",
    "import pandas as pd\n",
    "\n",
    "# Python 3 standard library\n",
    "from pathlib import Path\n",
    "\n",
    "from torchsummary import summary"
   ]
  },
  {
   "cell_type": "markdown",
   "metadata": {},
   "source": [
    "### Set up local parameters"
   ]
  },
  {
   "cell_type": "code",
   "execution_count": 4,
   "metadata": {},
   "outputs": [],
   "source": [
    "n_epochs = 40\n",
    "\n",
    "# Name is the output file name\n",
    "\n",
    "\n",
    "##  190810  mds\n",
    "folder = '01June2020_CNN5Layer_Ca_40epochs_K'\n",
    "name = '01June2020_CNN5Layer_Ca_40epochs_K'\n",
    "\n",
    "# Make an output folder named \"name\" (change if you want)\n",
    "\n",
    "## Special instructions for those working on goofy at UC\n",
    "## Please be very careful to make sure that your folder\n",
    "## does not live in a subdirectory of your home directory\n",
    "## this disk has very little capacity. Instead, use \n",
    "## a subdirectory in /share/lazy with a symbolic link to\n",
    "## it in this (the notebooks) subdirectory\n",
    "folder = 'ML/' + folder\n",
    "output = Path(folder)\n",
    "\n",
    "\n",
    "# Size of batches\n",
    "batch_size = 128\n",
    "\n",
    "# How fast to learn\n",
    "learning_rate = 1e-4"
   ]
  },
  {
   "cell_type": "markdown",
   "metadata": {},
   "source": [
    "Make the output directory if it does not exist:"
   ]
  },
  {
   "cell_type": "code",
   "execution_count": 5,
   "metadata": {},
   "outputs": [],
   "source": [
    "output.mkdir(exist_ok=True)"
   ]
  },
  {
   "cell_type": "markdown",
   "metadata": {},
   "source": [
    "## Get the helper functions\n",
    "\n",
    "Add the directory with the model\n",
    "definitions to the path so we can import from it:\n",
    "\n",
    "> When you type `import X`,\n",
    "Python searches `sys.path` for a python\n",
    "file named `X.py` to import. So we need to add the model directory to the path."
   ]
  },
  {
   "cell_type": "code",
   "execution_count": 6,
   "metadata": {
    "scrolled": true
   },
   "outputs": [],
   "source": [
    "# From model/collectdata.py\n",
    "from model.collectdata_mdsA import collect_data\n",
    "\n",
    "# From model/loss.py\n",
    "##from loss import Loss\n",
    "from model.alt_loss_A import Loss\n",
    "\n",
    "# From model/training.py\n",
    "from model.training import trainNet, select_gpu\n",
    "\n",
    "# From model/models.py\n",
    "##  will start with model from TwoFeatures_CNN6Layer_A in the first instance\n",
    "##  see relevant cell below\n",
    "\n",
    "\n",
    "from model.models_mds_01June20 import SimpleCNN5Layer_Ca as Model\n",
    "\n",
    "from model.training import trainNet, select_gpu, Results\n",
    "from model.plots import dual_train_plots, replace_in_ax"
   ]
  },
  {
   "cell_type": "code",
   "execution_count": 7,
   "metadata": {},
   "outputs": [],
   "source": [
    "# This gets built up during the run - do not rerun this cell\n",
    "results = pd.DataFrame([], columns=Results._fields)"
   ]
  },
  {
   "cell_type": "markdown",
   "metadata": {},
   "source": [
    "Set up Torch device configuration. All tensors and model parameters need to know where to be put.\n",
    "This takes a BUS ID number: The BUS ID is the same as the listing at the top of this script."
   ]
  },
  {
   "cell_type": "code",
   "execution_count": 8,
   "metadata": {},
   "outputs": [
    {
     "name": "stdout",
     "output_type": "stream",
     "text": [
      "1 available GPUs (initially using device 0):\n",
      "  0 TITAN V\n"
     ]
    }
   ],
   "source": [
    "device = select_gpu(0)"
   ]
  },
  {
   "cell_type": "markdown",
   "metadata": {},
   "source": [
    "## Loading data\n",
    "\n",
    "Load the dataset, split into parts, then move to device (see `collectdata.py` in the `../model` directory)"
   ]
  },
  {
   "cell_type": "code",
   "execution_count": 9,
   "metadata": {
    "scrolled": true
   },
   "outputs": [
    {
     "name": "stdout",
     "output_type": "stream",
     "text": [
      "Loading data...\n",
      "Loaded dataAA/Aug14_80K_train.h5 in 14.12 s\n",
      "Loaded dataAA/Oct03_80K_train.h5 in 14.47 s\n",
      "Constructing 160000 event dataset took 0.5949 s\n",
      "Loading data...\n",
      "Loaded dataAA/Oct03_20K_val.h5 in 3.118 s\n",
      "Constructing 9984 event dataset took 3.343 s\n"
     ]
    }
   ],
   "source": [
    "## newer vernacular\n",
    "## Training dataset. You can put as many files here as desired.\n",
    "\n",
    "## in this DEMO example we use only one 80K training set -- the model starts with well-trained weights,\n",
    "## and using a smaller training set reduces both the time to load the data and the time to train an epoch\n",
    "##  set the option load_XandXsq = True to use both DKE and KDE^2 as input features\n",
    "train_loader = collect_data('dataAA/Aug14_80K_train.h5',\n",
    "                            'dataAA/Oct03_80K_train.h5',\n",
    "##                            'dataAA/Oct03_80K2_train.h5',\n",
    "                             batch_size=batch_size,\n",
    "## if we are using a larger dataset (240K events, with the datasets above, and 11 GB  of GPU memory),\n",
    "## not the dataset will overflow the GPU memory; device=device will allow the data to move back\n",
    "## and forth between the CPU and GPU memory. While this allows use of a larger dataset, it slows\n",
    "## down performance by about 10%.  So comment out when not needed.\n",
    "##                           device=device,\n",
    "                            masking=True, shuffle=True,\n",
    "                            load_XandXsq=False,\n",
    "                            load_xy=False)\n",
    "\n",
    "# Validation dataset. You can slice to reduce the size.\n",
    "## dataAA -> /share/lazy/sokoloff/ML-data_AA/\n",
    "val_loader = collect_data('dataAA/Oct03_20K_val.h5',\n",
    "## mds val_loader = collect_data('dataAA/HLT1CPU_1kevts_val.h5',\n",
    "\n",
    "                          batch_size=batch_size,\n",
    "                          slice=slice(256 * 39),\n",
    "                          device=device,\n",
    "                          masking=True, shuffle=False,\n",
    "                          load_XandXsq=False,\n",
    "                          load_xy=False)"
   ]
  },
  {
   "cell_type": "markdown",
   "metadata": {},
   "source": [
    "# Preparing the model"
   ]
  },
  {
   "cell_type": "markdown",
   "metadata": {},
   "source": [
    "Prepare a model, use multiple GPUs if they are VISIBLE, and move the model to the device."
   ]
  },
  {
   "cell_type": "code",
   "execution_count": 10,
   "metadata": {
    "scrolled": true
   },
   "outputs": [
    {
     "name": "stdout",
     "output_type": "stream",
     "text": [
      "ct, child =  0    Conv1d(1, 20, kernel_size=(25,), stride=(1,), padding=(12,))\n",
      "ct, child =  1    Conv1d(20, 10, kernel_size=(15,), stride=(1,), padding=(7,))\n",
      "ct, child =  2    Conv1d(10, 10, kernel_size=(15,), stride=(1,), padding=(7,))\n",
      "ct, child =  3    Conv1d(10, 10, kernel_size=(15,), stride=(1,), padding=(7,))\n",
      "ct, child =  4    Conv1d(10, 1, kernel_size=(5,), stride=(1,), padding=(2,))\n",
      "ct, child =  5    Dropout(p=0.15, inplace=False)\n",
      "ct, child =  6    Dropout(p=0.15, inplace=False)\n",
      "ct, child =  7    Dropout(p=0.15, inplace=False)\n",
      "ct, child =  8    Dropout(p=0.15, inplace=False)\n",
      "ct, child =  9    Dropout(p=0.35, inplace=False)\n",
      "ct, child =  10    Linear(in_features=4000, out_features=4000, bias=True)\n"
     ]
    }
   ],
   "source": [
    "model = Model()\n",
    "\n",
    "##summary(model, input_size=(4, 4000))\n",
    "##print(model.parameters)\n",
    "\n",
    "## add the following code to allow the user to freeze the some of the weights corresponding \n",
    "## to those taken from an earlier model trained with the original target histograms\n",
    "## presumably -- this leaves either the perturbative filter \"fixed\" and lets the \n",
    "## learning focus on the non-perturbative features, so get started faster, or vice versa\n",
    "ct = 0\n",
    "for child in model.children():\n",
    "  print('ct, child = ',ct, \"  \", child)\n",
    "  if ct < 0:\n",
    "    print(\"     About to set param.requires_grad=False for ct = \", ct, \"params\")\n",
    "    for param in child.parameters():\n",
    "        param.requires_grad = False \n",
    "  ct += 1\n",
    "##  mds 200121 loss = Loss(epsilon=1e-5,coefficient=1.0)\n",
    "loss = Loss(epsilon=1e-5,coefficient=2.5)\n",
    "optimizer = torch.optim.Adam(model.parameters(), lr=learning_rate)"
   ]
  },
  {
   "cell_type": "code",
   "execution_count": 11,
   "metadata": {
    "scrolled": true
   },
   "outputs": [
    {
     "name": "stdout",
     "output_type": "stream",
     "text": [
      "Let's use 1 GPUs!\n"
     ]
    }
   ],
   "source": [
    "print(\"Let's use\", torch.cuda.device_count(), \"GPUs!\")\n",
    "if torch.cuda.device_count() > 1:\n",
    "    model = torch.nn.DataParallel(model)"
   ]
  },
  {
   "cell_type": "markdown",
   "metadata": {},
   "source": [
    "Let's move the model's weight matricies to the GPU:"
   ]
  },
  {
   "cell_type": "markdown",
   "metadata": {
    "scrolled": true
   },
   "source": [
    "print('output = ',output)\n",
    "##print('oldOutput = ',oldOutput)\n",
    "##  use the first four layers from a pre-existing model\n",
    "##  see example at https://discuss.pytorch.org/t/how-to-load-part-of-pre-trained-model/1113\n",
    "\n",
    "##   ML -> /share/lazy/sokoloff/ML\n",
    "pretrained_dict = torch.load('ML/Aug17_FourFeature_CNN6LayerPlus_TargetsAA_Loss_A_1p0_final.pyt')\n",
    "model_dict = model.state_dict()\n",
    "## mds 190725 for debugging\n",
    "print(\"for model_dict\")\n",
    "index = 0\n",
    "for k,v in model_dict.items():\n",
    "    print(\"index, k =  \",index,\"  \",k)\n",
    "    index = index+1\n",
    "    \n",
    "print(\" \\n\",\"  for pretrained_dict\")\n",
    "index = 0\n",
    "for k,v in pretrained_dict.items():\n",
    "    print(\"index, k =  \",index,\"  \",k)\n",
    "    index = index+1\n",
    "## mds  \n",
    "\n",
    "print(\"model_dict instantiated\")\n",
    "# 1. filter out unnecessary keys\n",
    "pretrained_dict = {k: v for k, v in pretrained_dict.items() if k in model_dict}\n",
    "## print(\"pretrained_dict iterated\")\n",
    "# 2. overwrite entries in the existing state dict\n",
    "model_dict.update(pretrained_dict) \n",
    "##\n",
    "#   when starting from a model with a fully connected last layer rather than a convolutional layer\n",
    "# 3. load the new state dict\n",
    "#   need to use strict=False as the two models state model attributes do not agree exactly\n",
    "#   see https://pytorch.org/docs/master/_modules/torch/nn/modules/module.html#Module.load_state_dict\n",
    "\n",
    "model.load_state_dict(pretrained_dict,strict=False)\n",
    "\n",
    "## print('model_dict =    ', model_dict)\n"
   ]
  },
  {
   "cell_type": "code",
   "execution_count": 12,
   "metadata": {
    "scrolled": true
   },
   "outputs": [],
   "source": [
    "model = model.to(device)"
   ]
  },
  {
   "cell_type": "markdown",
   "metadata": {},
   "source": [
    "## Train \n",
    "\n",
    "\n",
    "\n",
    "The body of this loop runs once per epoch. Results is a named tuple of values (loss per epoch for training and validation, time each). Start by setting up a plot first:"
   ]
  },
  {
   "cell_type": "code",
   "execution_count": 13,
   "metadata": {
    "scrolled": false
   },
   "outputs": [
    {
     "data": {
      "application/javascript": [
       "/* Put everything inside the global mpl namespace */\n",
       "window.mpl = {};\n",
       "\n",
       "\n",
       "mpl.get_websocket_type = function() {\n",
       "    if (typeof(WebSocket) !== 'undefined') {\n",
       "        return WebSocket;\n",
       "    } else if (typeof(MozWebSocket) !== 'undefined') {\n",
       "        return MozWebSocket;\n",
       "    } else {\n",
       "        alert('Your browser does not have WebSocket support. ' +\n",
       "              'Please try Chrome, Safari or Firefox ≥ 6. ' +\n",
       "              'Firefox 4 and 5 are also supported but you ' +\n",
       "              'have to enable WebSockets in about:config.');\n",
       "    };\n",
       "}\n",
       "\n",
       "mpl.figure = function(figure_id, websocket, ondownload, parent_element) {\n",
       "    this.id = figure_id;\n",
       "\n",
       "    this.ws = websocket;\n",
       "\n",
       "    this.supports_binary = (this.ws.binaryType != undefined);\n",
       "\n",
       "    if (!this.supports_binary) {\n",
       "        var warnings = document.getElementById(\"mpl-warnings\");\n",
       "        if (warnings) {\n",
       "            warnings.style.display = 'block';\n",
       "            warnings.textContent = (\n",
       "                \"This browser does not support binary websocket messages. \" +\n",
       "                    \"Performance may be slow.\");\n",
       "        }\n",
       "    }\n",
       "\n",
       "    this.imageObj = new Image();\n",
       "\n",
       "    this.context = undefined;\n",
       "    this.message = undefined;\n",
       "    this.canvas = undefined;\n",
       "    this.rubberband_canvas = undefined;\n",
       "    this.rubberband_context = undefined;\n",
       "    this.format_dropdown = undefined;\n",
       "\n",
       "    this.image_mode = 'full';\n",
       "\n",
       "    this.root = $('<div/>');\n",
       "    this._root_extra_style(this.root)\n",
       "    this.root.attr('style', 'display: inline-block');\n",
       "\n",
       "    $(parent_element).append(this.root);\n",
       "\n",
       "    this._init_header(this);\n",
       "    this._init_canvas(this);\n",
       "    this._init_toolbar(this);\n",
       "\n",
       "    var fig = this;\n",
       "\n",
       "    this.waiting = false;\n",
       "\n",
       "    this.ws.onopen =  function () {\n",
       "            fig.send_message(\"supports_binary\", {value: fig.supports_binary});\n",
       "            fig.send_message(\"send_image_mode\", {});\n",
       "            if (mpl.ratio != 1) {\n",
       "                fig.send_message(\"set_dpi_ratio\", {'dpi_ratio': mpl.ratio});\n",
       "            }\n",
       "            fig.send_message(\"refresh\", {});\n",
       "        }\n",
       "\n",
       "    this.imageObj.onload = function() {\n",
       "            if (fig.image_mode == 'full') {\n",
       "                // Full images could contain transparency (where diff images\n",
       "                // almost always do), so we need to clear the canvas so that\n",
       "                // there is no ghosting.\n",
       "                fig.context.clearRect(0, 0, fig.canvas.width, fig.canvas.height);\n",
       "            }\n",
       "            fig.context.drawImage(fig.imageObj, 0, 0);\n",
       "        };\n",
       "\n",
       "    this.imageObj.onunload = function() {\n",
       "        fig.ws.close();\n",
       "    }\n",
       "\n",
       "    this.ws.onmessage = this._make_on_message_function(this);\n",
       "\n",
       "    this.ondownload = ondownload;\n",
       "}\n",
       "\n",
       "mpl.figure.prototype._init_header = function() {\n",
       "    var titlebar = $(\n",
       "        '<div class=\"ui-dialog-titlebar ui-widget-header ui-corner-all ' +\n",
       "        'ui-helper-clearfix\"/>');\n",
       "    var titletext = $(\n",
       "        '<div class=\"ui-dialog-title\" style=\"width: 100%; ' +\n",
       "        'text-align: center; padding: 3px;\"/>');\n",
       "    titlebar.append(titletext)\n",
       "    this.root.append(titlebar);\n",
       "    this.header = titletext[0];\n",
       "}\n",
       "\n",
       "\n",
       "\n",
       "mpl.figure.prototype._canvas_extra_style = function(canvas_div) {\n",
       "\n",
       "}\n",
       "\n",
       "\n",
       "mpl.figure.prototype._root_extra_style = function(canvas_div) {\n",
       "\n",
       "}\n",
       "\n",
       "mpl.figure.prototype._init_canvas = function() {\n",
       "    var fig = this;\n",
       "\n",
       "    var canvas_div = $('<div/>');\n",
       "\n",
       "    canvas_div.attr('style', 'position: relative; clear: both; outline: 0');\n",
       "\n",
       "    function canvas_keyboard_event(event) {\n",
       "        return fig.key_event(event, event['data']);\n",
       "    }\n",
       "\n",
       "    canvas_div.keydown('key_press', canvas_keyboard_event);\n",
       "    canvas_div.keyup('key_release', canvas_keyboard_event);\n",
       "    this.canvas_div = canvas_div\n",
       "    this._canvas_extra_style(canvas_div)\n",
       "    this.root.append(canvas_div);\n",
       "\n",
       "    var canvas = $('<canvas/>');\n",
       "    canvas.addClass('mpl-canvas');\n",
       "    canvas.attr('style', \"left: 0; top: 0; z-index: 0; outline: 0\")\n",
       "\n",
       "    this.canvas = canvas[0];\n",
       "    this.context = canvas[0].getContext(\"2d\");\n",
       "\n",
       "    var backingStore = this.context.backingStorePixelRatio ||\n",
       "\tthis.context.webkitBackingStorePixelRatio ||\n",
       "\tthis.context.mozBackingStorePixelRatio ||\n",
       "\tthis.context.msBackingStorePixelRatio ||\n",
       "\tthis.context.oBackingStorePixelRatio ||\n",
       "\tthis.context.backingStorePixelRatio || 1;\n",
       "\n",
       "    mpl.ratio = (window.devicePixelRatio || 1) / backingStore;\n",
       "\n",
       "    var rubberband = $('<canvas/>');\n",
       "    rubberband.attr('style', \"position: absolute; left: 0; top: 0; z-index: 1;\")\n",
       "\n",
       "    var pass_mouse_events = true;\n",
       "\n",
       "    canvas_div.resizable({\n",
       "        start: function(event, ui) {\n",
       "            pass_mouse_events = false;\n",
       "        },\n",
       "        resize: function(event, ui) {\n",
       "            fig.request_resize(ui.size.width, ui.size.height);\n",
       "        },\n",
       "        stop: function(event, ui) {\n",
       "            pass_mouse_events = true;\n",
       "            fig.request_resize(ui.size.width, ui.size.height);\n",
       "        },\n",
       "    });\n",
       "\n",
       "    function mouse_event_fn(event) {\n",
       "        if (pass_mouse_events)\n",
       "            return fig.mouse_event(event, event['data']);\n",
       "    }\n",
       "\n",
       "    rubberband.mousedown('button_press', mouse_event_fn);\n",
       "    rubberband.mouseup('button_release', mouse_event_fn);\n",
       "    // Throttle sequential mouse events to 1 every 20ms.\n",
       "    rubberband.mousemove('motion_notify', mouse_event_fn);\n",
       "\n",
       "    rubberband.mouseenter('figure_enter', mouse_event_fn);\n",
       "    rubberband.mouseleave('figure_leave', mouse_event_fn);\n",
       "\n",
       "    canvas_div.on(\"wheel\", function (event) {\n",
       "        event = event.originalEvent;\n",
       "        event['data'] = 'scroll'\n",
       "        if (event.deltaY < 0) {\n",
       "            event.step = 1;\n",
       "        } else {\n",
       "            event.step = -1;\n",
       "        }\n",
       "        mouse_event_fn(event);\n",
       "    });\n",
       "\n",
       "    canvas_div.append(canvas);\n",
       "    canvas_div.append(rubberband);\n",
       "\n",
       "    this.rubberband = rubberband;\n",
       "    this.rubberband_canvas = rubberband[0];\n",
       "    this.rubberband_context = rubberband[0].getContext(\"2d\");\n",
       "    this.rubberband_context.strokeStyle = \"#000000\";\n",
       "\n",
       "    this._resize_canvas = function(width, height) {\n",
       "        // Keep the size of the canvas, canvas container, and rubber band\n",
       "        // canvas in synch.\n",
       "        canvas_div.css('width', width)\n",
       "        canvas_div.css('height', height)\n",
       "\n",
       "        canvas.attr('width', width * mpl.ratio);\n",
       "        canvas.attr('height', height * mpl.ratio);\n",
       "        canvas.attr('style', 'width: ' + width + 'px; height: ' + height + 'px;');\n",
       "\n",
       "        rubberband.attr('width', width);\n",
       "        rubberband.attr('height', height);\n",
       "    }\n",
       "\n",
       "    // Set the figure to an initial 600x600px, this will subsequently be updated\n",
       "    // upon first draw.\n",
       "    this._resize_canvas(600, 600);\n",
       "\n",
       "    // Disable right mouse context menu.\n",
       "    $(this.rubberband_canvas).bind(\"contextmenu\",function(e){\n",
       "        return false;\n",
       "    });\n",
       "\n",
       "    function set_focus () {\n",
       "        canvas.focus();\n",
       "        canvas_div.focus();\n",
       "    }\n",
       "\n",
       "    window.setTimeout(set_focus, 100);\n",
       "}\n",
       "\n",
       "mpl.figure.prototype._init_toolbar = function() {\n",
       "    var fig = this;\n",
       "\n",
       "    var nav_element = $('<div/>');\n",
       "    nav_element.attr('style', 'width: 100%');\n",
       "    this.root.append(nav_element);\n",
       "\n",
       "    // Define a callback function for later on.\n",
       "    function toolbar_event(event) {\n",
       "        return fig.toolbar_button_onclick(event['data']);\n",
       "    }\n",
       "    function toolbar_mouse_event(event) {\n",
       "        return fig.toolbar_button_onmouseover(event['data']);\n",
       "    }\n",
       "\n",
       "    for(var toolbar_ind in mpl.toolbar_items) {\n",
       "        var name = mpl.toolbar_items[toolbar_ind][0];\n",
       "        var tooltip = mpl.toolbar_items[toolbar_ind][1];\n",
       "        var image = mpl.toolbar_items[toolbar_ind][2];\n",
       "        var method_name = mpl.toolbar_items[toolbar_ind][3];\n",
       "\n",
       "        if (!name) {\n",
       "            // put a spacer in here.\n",
       "            continue;\n",
       "        }\n",
       "        var button = $('<button/>');\n",
       "        button.addClass('ui-button ui-widget ui-state-default ui-corner-all ' +\n",
       "                        'ui-button-icon-only');\n",
       "        button.attr('role', 'button');\n",
       "        button.attr('aria-disabled', 'false');\n",
       "        button.click(method_name, toolbar_event);\n",
       "        button.mouseover(tooltip, toolbar_mouse_event);\n",
       "\n",
       "        var icon_img = $('<span/>');\n",
       "        icon_img.addClass('ui-button-icon-primary ui-icon');\n",
       "        icon_img.addClass(image);\n",
       "        icon_img.addClass('ui-corner-all');\n",
       "\n",
       "        var tooltip_span = $('<span/>');\n",
       "        tooltip_span.addClass('ui-button-text');\n",
       "        tooltip_span.html(tooltip);\n",
       "\n",
       "        button.append(icon_img);\n",
       "        button.append(tooltip_span);\n",
       "\n",
       "        nav_element.append(button);\n",
       "    }\n",
       "\n",
       "    var fmt_picker_span = $('<span/>');\n",
       "\n",
       "    var fmt_picker = $('<select/>');\n",
       "    fmt_picker.addClass('mpl-toolbar-option ui-widget ui-widget-content');\n",
       "    fmt_picker_span.append(fmt_picker);\n",
       "    nav_element.append(fmt_picker_span);\n",
       "    this.format_dropdown = fmt_picker[0];\n",
       "\n",
       "    for (var ind in mpl.extensions) {\n",
       "        var fmt = mpl.extensions[ind];\n",
       "        var option = $(\n",
       "            '<option/>', {selected: fmt === mpl.default_extension}).html(fmt);\n",
       "        fmt_picker.append(option);\n",
       "    }\n",
       "\n",
       "    // Add hover states to the ui-buttons\n",
       "    $( \".ui-button\" ).hover(\n",
       "        function() { $(this).addClass(\"ui-state-hover\");},\n",
       "        function() { $(this).removeClass(\"ui-state-hover\");}\n",
       "    );\n",
       "\n",
       "    var status_bar = $('<span class=\"mpl-message\"/>');\n",
       "    nav_element.append(status_bar);\n",
       "    this.message = status_bar[0];\n",
       "}\n",
       "\n",
       "mpl.figure.prototype.request_resize = function(x_pixels, y_pixels) {\n",
       "    // Request matplotlib to resize the figure. Matplotlib will then trigger a resize in the client,\n",
       "    // which will in turn request a refresh of the image.\n",
       "    this.send_message('resize', {'width': x_pixels, 'height': y_pixels});\n",
       "}\n",
       "\n",
       "mpl.figure.prototype.send_message = function(type, properties) {\n",
       "    properties['type'] = type;\n",
       "    properties['figure_id'] = this.id;\n",
       "    this.ws.send(JSON.stringify(properties));\n",
       "}\n",
       "\n",
       "mpl.figure.prototype.send_draw_message = function() {\n",
       "    if (!this.waiting) {\n",
       "        this.waiting = true;\n",
       "        this.ws.send(JSON.stringify({type: \"draw\", figure_id: this.id}));\n",
       "    }\n",
       "}\n",
       "\n",
       "\n",
       "mpl.figure.prototype.handle_save = function(fig, msg) {\n",
       "    var format_dropdown = fig.format_dropdown;\n",
       "    var format = format_dropdown.options[format_dropdown.selectedIndex].value;\n",
       "    fig.ondownload(fig, format);\n",
       "}\n",
       "\n",
       "\n",
       "mpl.figure.prototype.handle_resize = function(fig, msg) {\n",
       "    var size = msg['size'];\n",
       "    if (size[0] != fig.canvas.width || size[1] != fig.canvas.height) {\n",
       "        fig._resize_canvas(size[0], size[1]);\n",
       "        fig.send_message(\"refresh\", {});\n",
       "    };\n",
       "}\n",
       "\n",
       "mpl.figure.prototype.handle_rubberband = function(fig, msg) {\n",
       "    var x0 = msg['x0'] / mpl.ratio;\n",
       "    var y0 = (fig.canvas.height - msg['y0']) / mpl.ratio;\n",
       "    var x1 = msg['x1'] / mpl.ratio;\n",
       "    var y1 = (fig.canvas.height - msg['y1']) / mpl.ratio;\n",
       "    x0 = Math.floor(x0) + 0.5;\n",
       "    y0 = Math.floor(y0) + 0.5;\n",
       "    x1 = Math.floor(x1) + 0.5;\n",
       "    y1 = Math.floor(y1) + 0.5;\n",
       "    var min_x = Math.min(x0, x1);\n",
       "    var min_y = Math.min(y0, y1);\n",
       "    var width = Math.abs(x1 - x0);\n",
       "    var height = Math.abs(y1 - y0);\n",
       "\n",
       "    fig.rubberband_context.clearRect(\n",
       "        0, 0, fig.canvas.width / mpl.ratio, fig.canvas.height / mpl.ratio);\n",
       "\n",
       "    fig.rubberband_context.strokeRect(min_x, min_y, width, height);\n",
       "}\n",
       "\n",
       "mpl.figure.prototype.handle_figure_label = function(fig, msg) {\n",
       "    // Updates the figure title.\n",
       "    fig.header.textContent = msg['label'];\n",
       "}\n",
       "\n",
       "mpl.figure.prototype.handle_cursor = function(fig, msg) {\n",
       "    var cursor = msg['cursor'];\n",
       "    switch(cursor)\n",
       "    {\n",
       "    case 0:\n",
       "        cursor = 'pointer';\n",
       "        break;\n",
       "    case 1:\n",
       "        cursor = 'default';\n",
       "        break;\n",
       "    case 2:\n",
       "        cursor = 'crosshair';\n",
       "        break;\n",
       "    case 3:\n",
       "        cursor = 'move';\n",
       "        break;\n",
       "    }\n",
       "    fig.rubberband_canvas.style.cursor = cursor;\n",
       "}\n",
       "\n",
       "mpl.figure.prototype.handle_message = function(fig, msg) {\n",
       "    fig.message.textContent = msg['message'];\n",
       "}\n",
       "\n",
       "mpl.figure.prototype.handle_draw = function(fig, msg) {\n",
       "    // Request the server to send over a new figure.\n",
       "    fig.send_draw_message();\n",
       "}\n",
       "\n",
       "mpl.figure.prototype.handle_image_mode = function(fig, msg) {\n",
       "    fig.image_mode = msg['mode'];\n",
       "}\n",
       "\n",
       "mpl.figure.prototype.updated_canvas_event = function() {\n",
       "    // Called whenever the canvas gets updated.\n",
       "    this.send_message(\"ack\", {});\n",
       "}\n",
       "\n",
       "// A function to construct a web socket function for onmessage handling.\n",
       "// Called in the figure constructor.\n",
       "mpl.figure.prototype._make_on_message_function = function(fig) {\n",
       "    return function socket_on_message(evt) {\n",
       "        if (evt.data instanceof Blob) {\n",
       "            /* FIXME: We get \"Resource interpreted as Image but\n",
       "             * transferred with MIME type text/plain:\" errors on\n",
       "             * Chrome.  But how to set the MIME type?  It doesn't seem\n",
       "             * to be part of the websocket stream */\n",
       "            evt.data.type = \"image/png\";\n",
       "\n",
       "            /* Free the memory for the previous frames */\n",
       "            if (fig.imageObj.src) {\n",
       "                (window.URL || window.webkitURL).revokeObjectURL(\n",
       "                    fig.imageObj.src);\n",
       "            }\n",
       "\n",
       "            fig.imageObj.src = (window.URL || window.webkitURL).createObjectURL(\n",
       "                evt.data);\n",
       "            fig.updated_canvas_event();\n",
       "            fig.waiting = false;\n",
       "            return;\n",
       "        }\n",
       "        else if (typeof evt.data === 'string' && evt.data.slice(0, 21) == \"data:image/png;base64\") {\n",
       "            fig.imageObj.src = evt.data;\n",
       "            fig.updated_canvas_event();\n",
       "            fig.waiting = false;\n",
       "            return;\n",
       "        }\n",
       "\n",
       "        var msg = JSON.parse(evt.data);\n",
       "        var msg_type = msg['type'];\n",
       "\n",
       "        // Call the  \"handle_{type}\" callback, which takes\n",
       "        // the figure and JSON message as its only arguments.\n",
       "        try {\n",
       "            var callback = fig[\"handle_\" + msg_type];\n",
       "        } catch (e) {\n",
       "            console.log(\"No handler for the '\" + msg_type + \"' message type: \", msg);\n",
       "            return;\n",
       "        }\n",
       "\n",
       "        if (callback) {\n",
       "            try {\n",
       "                // console.log(\"Handling '\" + msg_type + \"' message: \", msg);\n",
       "                callback(fig, msg);\n",
       "            } catch (e) {\n",
       "                console.log(\"Exception inside the 'handler_\" + msg_type + \"' callback:\", e, e.stack, msg);\n",
       "            }\n",
       "        }\n",
       "    };\n",
       "}\n",
       "\n",
       "// from http://stackoverflow.com/questions/1114465/getting-mouse-location-in-canvas\n",
       "mpl.findpos = function(e) {\n",
       "    //this section is from http://www.quirksmode.org/js/events_properties.html\n",
       "    var targ;\n",
       "    if (!e)\n",
       "        e = window.event;\n",
       "    if (e.target)\n",
       "        targ = e.target;\n",
       "    else if (e.srcElement)\n",
       "        targ = e.srcElement;\n",
       "    if (targ.nodeType == 3) // defeat Safari bug\n",
       "        targ = targ.parentNode;\n",
       "\n",
       "    // jQuery normalizes the pageX and pageY\n",
       "    // pageX,Y are the mouse positions relative to the document\n",
       "    // offset() returns the position of the element relative to the document\n",
       "    var x = e.pageX - $(targ).offset().left;\n",
       "    var y = e.pageY - $(targ).offset().top;\n",
       "\n",
       "    return {\"x\": x, \"y\": y};\n",
       "};\n",
       "\n",
       "/*\n",
       " * return a copy of an object with only non-object keys\n",
       " * we need this to avoid circular references\n",
       " * http://stackoverflow.com/a/24161582/3208463\n",
       " */\n",
       "function simpleKeys (original) {\n",
       "  return Object.keys(original).reduce(function (obj, key) {\n",
       "    if (typeof original[key] !== 'object')\n",
       "        obj[key] = original[key]\n",
       "    return obj;\n",
       "  }, {});\n",
       "}\n",
       "\n",
       "mpl.figure.prototype.mouse_event = function(event, name) {\n",
       "    var canvas_pos = mpl.findpos(event)\n",
       "\n",
       "    if (name === 'button_press')\n",
       "    {\n",
       "        this.canvas.focus();\n",
       "        this.canvas_div.focus();\n",
       "    }\n",
       "\n",
       "    var x = canvas_pos.x * mpl.ratio;\n",
       "    var y = canvas_pos.y * mpl.ratio;\n",
       "\n",
       "    this.send_message(name, {x: x, y: y, button: event.button,\n",
       "                             step: event.step,\n",
       "                             guiEvent: simpleKeys(event)});\n",
       "\n",
       "    /* This prevents the web browser from automatically changing to\n",
       "     * the text insertion cursor when the button is pressed.  We want\n",
       "     * to control all of the cursor setting manually through the\n",
       "     * 'cursor' event from matplotlib */\n",
       "    event.preventDefault();\n",
       "    return false;\n",
       "}\n",
       "\n",
       "mpl.figure.prototype._key_event_extra = function(event, name) {\n",
       "    // Handle any extra behaviour associated with a key event\n",
       "}\n",
       "\n",
       "mpl.figure.prototype.key_event = function(event, name) {\n",
       "\n",
       "    // Prevent repeat events\n",
       "    if (name == 'key_press')\n",
       "    {\n",
       "        if (event.which === this._key)\n",
       "            return;\n",
       "        else\n",
       "            this._key = event.which;\n",
       "    }\n",
       "    if (name == 'key_release')\n",
       "        this._key = null;\n",
       "\n",
       "    var value = '';\n",
       "    if (event.ctrlKey && event.which != 17)\n",
       "        value += \"ctrl+\";\n",
       "    if (event.altKey && event.which != 18)\n",
       "        value += \"alt+\";\n",
       "    if (event.shiftKey && event.which != 16)\n",
       "        value += \"shift+\";\n",
       "\n",
       "    value += 'k';\n",
       "    value += event.which.toString();\n",
       "\n",
       "    this._key_event_extra(event, name);\n",
       "\n",
       "    this.send_message(name, {key: value,\n",
       "                             guiEvent: simpleKeys(event)});\n",
       "    return false;\n",
       "}\n",
       "\n",
       "mpl.figure.prototype.toolbar_button_onclick = function(name) {\n",
       "    if (name == 'download') {\n",
       "        this.handle_save(this, null);\n",
       "    } else {\n",
       "        this.send_message(\"toolbar_button\", {name: name});\n",
       "    }\n",
       "};\n",
       "\n",
       "mpl.figure.prototype.toolbar_button_onmouseover = function(tooltip) {\n",
       "    this.message.textContent = tooltip;\n",
       "};\n",
       "mpl.toolbar_items = [[\"Home\", \"Reset original view\", \"fa fa-home icon-home\", \"home\"], [\"Back\", \"Back to previous view\", \"fa fa-arrow-left icon-arrow-left\", \"back\"], [\"Forward\", \"Forward to next view\", \"fa fa-arrow-right icon-arrow-right\", \"forward\"], [\"\", \"\", \"\", \"\"], [\"Pan\", \"Pan axes with left mouse, zoom with right\", \"fa fa-arrows icon-move\", \"pan\"], [\"Zoom\", \"Zoom to rectangle\", \"fa fa-square-o icon-check-empty\", \"zoom\"], [\"\", \"\", \"\", \"\"], [\"Download\", \"Download plot\", \"fa fa-floppy-o icon-save\", \"download\"]];\n",
       "\n",
       "mpl.extensions = [\"eps\", \"jpeg\", \"pdf\", \"png\", \"ps\", \"raw\", \"svg\", \"tif\"];\n",
       "\n",
       "mpl.default_extension = \"png\";var comm_websocket_adapter = function(comm) {\n",
       "    // Create a \"websocket\"-like object which calls the given IPython comm\n",
       "    // object with the appropriate methods. Currently this is a non binary\n",
       "    // socket, so there is still some room for performance tuning.\n",
       "    var ws = {};\n",
       "\n",
       "    ws.close = function() {\n",
       "        comm.close()\n",
       "    };\n",
       "    ws.send = function(m) {\n",
       "        //console.log('sending', m);\n",
       "        comm.send(m);\n",
       "    };\n",
       "    // Register the callback with on_msg.\n",
       "    comm.on_msg(function(msg) {\n",
       "        //console.log('receiving', msg['content']['data'], msg);\n",
       "        // Pass the mpl event to the overridden (by mpl) onmessage function.\n",
       "        ws.onmessage(msg['content']['data'])\n",
       "    });\n",
       "    return ws;\n",
       "}\n",
       "\n",
       "mpl.mpl_figure_comm = function(comm, msg) {\n",
       "    // This is the function which gets called when the mpl process\n",
       "    // starts-up an IPython Comm through the \"matplotlib\" channel.\n",
       "\n",
       "    var id = msg.content.data.id;\n",
       "    // Get hold of the div created by the display call when the Comm\n",
       "    // socket was opened in Python.\n",
       "    var element = $(\"#\" + id);\n",
       "    var ws_proxy = comm_websocket_adapter(comm)\n",
       "\n",
       "    function ondownload(figure, format) {\n",
       "        window.open(figure.imageObj.src);\n",
       "    }\n",
       "\n",
       "    var fig = new mpl.figure(id, ws_proxy,\n",
       "                           ondownload,\n",
       "                           element.get(0));\n",
       "\n",
       "    // Call onopen now - mpl needs it, as it is assuming we've passed it a real\n",
       "    // web socket which is closed, not our websocket->open comm proxy.\n",
       "    ws_proxy.onopen();\n",
       "\n",
       "    fig.parent_element = element.get(0);\n",
       "    fig.cell_info = mpl.find_output_cell(\"<div id='\" + id + \"'></div>\");\n",
       "    if (!fig.cell_info) {\n",
       "        console.error(\"Failed to find cell for figure\", id, fig);\n",
       "        return;\n",
       "    }\n",
       "\n",
       "    var output_index = fig.cell_info[2]\n",
       "    var cell = fig.cell_info[0];\n",
       "\n",
       "};\n",
       "\n",
       "mpl.figure.prototype.handle_close = function(fig, msg) {\n",
       "    var width = fig.canvas.width/mpl.ratio\n",
       "    fig.root.unbind('remove')\n",
       "\n",
       "    // Update the output cell to use the data from the current canvas.\n",
       "    fig.push_to_output();\n",
       "    var dataURL = fig.canvas.toDataURL();\n",
       "    // Re-enable the keyboard manager in IPython - without this line, in FF,\n",
       "    // the notebook keyboard shortcuts fail.\n",
       "    IPython.keyboard_manager.enable()\n",
       "    $(fig.parent_element).html('<img src=\"' + dataURL + '\" width=\"' + width + '\">');\n",
       "    fig.close_ws(fig, msg);\n",
       "}\n",
       "\n",
       "mpl.figure.prototype.close_ws = function(fig, msg){\n",
       "    fig.send_message('closing', msg);\n",
       "    // fig.ws.close()\n",
       "}\n",
       "\n",
       "mpl.figure.prototype.push_to_output = function(remove_interactive) {\n",
       "    // Turn the data on the canvas into data in the output cell.\n",
       "    var width = this.canvas.width/mpl.ratio\n",
       "    var dataURL = this.canvas.toDataURL();\n",
       "    this.cell_info[1]['text/html'] = '<img src=\"' + dataURL + '\" width=\"' + width + '\">';\n",
       "}\n",
       "\n",
       "mpl.figure.prototype.updated_canvas_event = function() {\n",
       "    // Tell IPython that the notebook contents must change.\n",
       "    IPython.notebook.set_dirty(true);\n",
       "    this.send_message(\"ack\", {});\n",
       "    var fig = this;\n",
       "    // Wait a second, then push the new image to the DOM so\n",
       "    // that it is saved nicely (might be nice to debounce this).\n",
       "    setTimeout(function () { fig.push_to_output() }, 1000);\n",
       "}\n",
       "\n",
       "mpl.figure.prototype._init_toolbar = function() {\n",
       "    var fig = this;\n",
       "\n",
       "    var nav_element = $('<div/>');\n",
       "    nav_element.attr('style', 'width: 100%');\n",
       "    this.root.append(nav_element);\n",
       "\n",
       "    // Define a callback function for later on.\n",
       "    function toolbar_event(event) {\n",
       "        return fig.toolbar_button_onclick(event['data']);\n",
       "    }\n",
       "    function toolbar_mouse_event(event) {\n",
       "        return fig.toolbar_button_onmouseover(event['data']);\n",
       "    }\n",
       "\n",
       "    for(var toolbar_ind in mpl.toolbar_items){\n",
       "        var name = mpl.toolbar_items[toolbar_ind][0];\n",
       "        var tooltip = mpl.toolbar_items[toolbar_ind][1];\n",
       "        var image = mpl.toolbar_items[toolbar_ind][2];\n",
       "        var method_name = mpl.toolbar_items[toolbar_ind][3];\n",
       "\n",
       "        if (!name) { continue; };\n",
       "\n",
       "        var button = $('<button class=\"btn btn-default\" href=\"#\" title=\"' + name + '\"><i class=\"fa ' + image + ' fa-lg\"></i></button>');\n",
       "        button.click(method_name, toolbar_event);\n",
       "        button.mouseover(tooltip, toolbar_mouse_event);\n",
       "        nav_element.append(button);\n",
       "    }\n",
       "\n",
       "    // Add the status bar.\n",
       "    var status_bar = $('<span class=\"mpl-message\" style=\"text-align:right; float: right;\"/>');\n",
       "    nav_element.append(status_bar);\n",
       "    this.message = status_bar[0];\n",
       "\n",
       "    // Add the close button to the window.\n",
       "    var buttongrp = $('<div class=\"btn-group inline pull-right\"></div>');\n",
       "    var button = $('<button class=\"btn btn-mini btn-primary\" href=\"#\" title=\"Stop Interaction\"><i class=\"fa fa-power-off icon-remove icon-large\"></i></button>');\n",
       "    button.click(function (evt) { fig.handle_close(fig, {}); } );\n",
       "    button.mouseover('Stop Interaction', toolbar_mouse_event);\n",
       "    buttongrp.append(button);\n",
       "    var titlebar = this.root.find($('.ui-dialog-titlebar'));\n",
       "    titlebar.prepend(buttongrp);\n",
       "}\n",
       "\n",
       "mpl.figure.prototype._root_extra_style = function(el){\n",
       "    var fig = this\n",
       "    el.on(\"remove\", function(){\n",
       "\tfig.close_ws(fig, {});\n",
       "    });\n",
       "}\n",
       "\n",
       "mpl.figure.prototype._canvas_extra_style = function(el){\n",
       "    // this is important to make the div 'focusable\n",
       "    el.attr('tabindex', 0)\n",
       "    // reach out to IPython and tell the keyboard manager to turn it's self\n",
       "    // off when our div gets focus\n",
       "\n",
       "    // location in version 3\n",
       "    if (IPython.notebook.keyboard_manager) {\n",
       "        IPython.notebook.keyboard_manager.register_events(el);\n",
       "    }\n",
       "    else {\n",
       "        // location in version 2\n",
       "        IPython.keyboard_manager.register_events(el);\n",
       "    }\n",
       "\n",
       "}\n",
       "\n",
       "mpl.figure.prototype._key_event_extra = function(event, name) {\n",
       "    var manager = IPython.notebook.keyboard_manager;\n",
       "    if (!manager)\n",
       "        manager = IPython.keyboard_manager;\n",
       "\n",
       "    // Check for shift+enter\n",
       "    if (event.shiftKey && event.which == 13) {\n",
       "        this.canvas_div.blur();\n",
       "        // select the cell after this one\n",
       "        var index = IPython.notebook.find_cell_index(this.cell_info[0]);\n",
       "        IPython.notebook.select(index + 1);\n",
       "    }\n",
       "}\n",
       "\n",
       "mpl.figure.prototype.handle_save = function(fig, msg) {\n",
       "    fig.ondownload(fig, null);\n",
       "}\n",
       "\n",
       "\n",
       "mpl.find_output_cell = function(html_output) {\n",
       "    // Return the cell and output element which can be found *uniquely* in the notebook.\n",
       "    // Note - this is a bit hacky, but it is done because the \"notebook_saving.Notebook\"\n",
       "    // IPython event is triggered only after the cells have been serialised, which for\n",
       "    // our purposes (turning an active figure into a static one), is too late.\n",
       "    var cells = IPython.notebook.get_cells();\n",
       "    var ncells = cells.length;\n",
       "    for (var i=0; i<ncells; i++) {\n",
       "        var cell = cells[i];\n",
       "        if (cell.cell_type === 'code'){\n",
       "            for (var j=0; j<cell.output_area.outputs.length; j++) {\n",
       "                var data = cell.output_area.outputs[j];\n",
       "                if (data.data) {\n",
       "                    // IPython >= 3 moved mimebundle to data attribute of output\n",
       "                    data = data.data;\n",
       "                }\n",
       "                if (data['text/html'] == html_output) {\n",
       "                    return [cell, data, j];\n",
       "                }\n",
       "            }\n",
       "        }\n",
       "    }\n",
       "}\n",
       "\n",
       "// Register the function which deals with the matplotlib target/channel.\n",
       "// The kernel may be null if the page has been refreshed.\n",
       "if (IPython.notebook.kernel != null) {\n",
       "    IPython.notebook.kernel.comm_manager.register_target('matplotlib', mpl.mpl_figure_comm);\n",
       "}\n"
      ],
      "text/plain": [
       "<IPython.core.display.Javascript object>"
      ]
     },
     "metadata": {},
     "output_type": "display_data"
    },
    {
     "data": {
      "text/html": [
       "<img src=\"data:image/png;base64,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\" width=\"999.75\">"
      ],
      "text/plain": [
       "<IPython.core.display.HTML object>"
      ]
     },
     "metadata": {},
     "output_type": "display_data"
    }
   ],
   "source": [
    "ax, tax, lax, lines = dual_train_plots()\n",
    "fig = ax.figure\n",
    "plt.tight_layout()"
   ]
  },
  {
   "cell_type": "code",
   "execution_count": 14,
   "metadata": {
    "scrolled": false
   },
   "outputs": [
    {
     "name": "stdout",
     "output_type": "stream",
     "text": [
      "Number of batches: train = 1250, val = 78\n"
     ]
    },
    {
     "data": {
      "application/vnd.jupyter.widget-view+json": {
       "model_id": "ad512e965a994a309ebca786c013ccbd",
       "version_major": 2,
       "version_minor": 0
      },
      "text/plain": [
       "HBox(children=(FloatProgress(value=0.0, description='Epochs', layout=Layout(flex='2'), max=40.0, style=Progres…"
      ]
     },
     "metadata": {},
     "output_type": "display_data"
    },
    {
     "data": {
      "application/vnd.jupyter.widget-view+json": {
       "model_id": "",
       "version_major": 2,
       "version_minor": 0
      },
      "text/plain": [
       "HBox(children=(FloatProgress(value=0.0, description='Training', layout=Layout(flex='2'), max=1250.0, style=Pro…"
      ]
     },
     "metadata": {},
     "output_type": "display_data"
    },
    {
     "name": "stdout",
     "output_type": "stream",
     "text": [
      "Epoch 0: train=169.788, val=42.6957, took 29.071 s\n",
      "  Validation Found 0 of 54504, added 0 (eff 0.00%) (0.0 FP/event)\n"
     ]
    },
    {
     "data": {
      "application/vnd.jupyter.widget-view+json": {
       "model_id": "",
       "version_major": 2,
       "version_minor": 0
      },
      "text/plain": [
       "HBox(children=(FloatProgress(value=0.0, description='Training', layout=Layout(flex='2'), max=1250.0, style=Pro…"
      ]
     },
     "metadata": {},
     "output_type": "display_data"
    },
    {
     "name": "stdout",
     "output_type": "stream",
     "text": [
      "Epoch 1: train=42.6389, val=42.6656, took 27.696 s\n",
      "  Validation Found 0 of 54504, added 0 (eff 0.00%) (0.0 FP/event)\n"
     ]
    },
    {
     "data": {
      "application/vnd.jupyter.widget-view+json": {
       "model_id": "",
       "version_major": 2,
       "version_minor": 0
      },
      "text/plain": [
       "HBox(children=(FloatProgress(value=0.0, description='Training', layout=Layout(flex='2'), max=1250.0, style=Pro…"
      ]
     },
     "metadata": {},
     "output_type": "display_data"
    },
    {
     "name": "stdout",
     "output_type": "stream",
     "text": [
      "Epoch 2: train=42.6106, val=42.6462, took 26.222 s\n",
      "  Validation Found 0 of 54504, added 0 (eff 0.00%) (0.0 FP/event)\n"
     ]
    },
    {
     "data": {
      "application/vnd.jupyter.widget-view+json": {
       "model_id": "",
       "version_major": 2,
       "version_minor": 0
      },
      "text/plain": [
       "HBox(children=(FloatProgress(value=0.0, description='Training', layout=Layout(flex='2'), max=1250.0, style=Pro…"
      ]
     },
     "metadata": {},
     "output_type": "display_data"
    },
    {
     "name": "stdout",
     "output_type": "stream",
     "text": [
      "Epoch 3: train=42.5927, val=42.623, took 26.172 s\n",
      "  Validation Found 0 of 54504, added 0 (eff 0.00%) (0.0 FP/event)\n"
     ]
    },
    {
     "data": {
      "application/vnd.jupyter.widget-view+json": {
       "model_id": "",
       "version_major": 2,
       "version_minor": 0
      },
      "text/plain": [
       "HBox(children=(FloatProgress(value=0.0, description='Training', layout=Layout(flex='2'), max=1250.0, style=Pro…"
      ]
     },
     "metadata": {},
     "output_type": "display_data"
    },
    {
     "name": "stdout",
     "output_type": "stream",
     "text": [
      "Epoch 4: train=42.5668, val=42.5956, took 26.053 s\n",
      "  Validation Found 0 of 54504, added 0 (eff 0.00%) (0.0 FP/event)\n"
     ]
    },
    {
     "data": {
      "application/vnd.jupyter.widget-view+json": {
       "model_id": "",
       "version_major": 2,
       "version_minor": 0
      },
      "text/plain": [
       "HBox(children=(FloatProgress(value=0.0, description='Training', layout=Layout(flex='2'), max=1250.0, style=Pro…"
      ]
     },
     "metadata": {},
     "output_type": "display_data"
    },
    {
     "name": "stdout",
     "output_type": "stream",
     "text": [
      "Epoch 5: train=42.5435, val=42.5731, took 25.941 s\n",
      "  Validation Found 0 of 54504, added 0 (eff 0.00%) (0.0 FP/event)\n"
     ]
    },
    {
     "data": {
      "application/vnd.jupyter.widget-view+json": {
       "model_id": "",
       "version_major": 2,
       "version_minor": 0
      },
      "text/plain": [
       "HBox(children=(FloatProgress(value=0.0, description='Training', layout=Layout(flex='2'), max=1250.0, style=Pro…"
      ]
     },
     "metadata": {},
     "output_type": "display_data"
    },
    {
     "name": "stdout",
     "output_type": "stream",
     "text": [
      "Epoch 6: train=42.4859, val=42.4231, took 25.761 s\n",
      "  Validation Found 0 of 54504, added 0 (eff 0.00%) (0.0 FP/event)\n"
     ]
    },
    {
     "data": {
      "application/vnd.jupyter.widget-view+json": {
       "model_id": "",
       "version_major": 2,
       "version_minor": 0
      },
      "text/plain": [
       "HBox(children=(FloatProgress(value=0.0, description='Training', layout=Layout(flex='2'), max=1250.0, style=Pro…"
      ]
     },
     "metadata": {},
     "output_type": "display_data"
    },
    {
     "name": "stdout",
     "output_type": "stream",
     "text": [
      "Epoch 7: train=42.3075, val=42.2352, took 25.841 s\n",
      "  Validation Found 6 of 54504, added 2 (eff 0.01%) (0.0002 FP/event)\n"
     ]
    },
    {
     "data": {
      "application/vnd.jupyter.widget-view+json": {
       "model_id": "",
       "version_major": 2,
       "version_minor": 0
      },
      "text/plain": [
       "HBox(children=(FloatProgress(value=0.0, description='Training', layout=Layout(flex='2'), max=1250.0, style=Pro…"
      ]
     },
     "metadata": {},
     "output_type": "display_data"
    },
    {
     "name": "stdout",
     "output_type": "stream",
     "text": [
      "Epoch 8: train=41.9053, val=40.3442, took 25.682 s\n",
      "  Validation Found 1 of 54504, added 0 (eff 0.00%) (0.0 FP/event)\n"
     ]
    },
    {
     "data": {
      "application/vnd.jupyter.widget-view+json": {
       "model_id": "",
       "version_major": 2,
       "version_minor": 0
      },
      "text/plain": [
       "HBox(children=(FloatProgress(value=0.0, description='Training', layout=Layout(flex='2'), max=1250.0, style=Pro…"
      ]
     },
     "metadata": {},
     "output_type": "display_data"
    },
    {
     "name": "stdout",
     "output_type": "stream",
     "text": [
      "Epoch 9: train=32.1548, val=24.928, took 25.655 s\n",
      "  Validation Found 25601 of 54504, added 240 (eff 46.97%) (0.024 FP/event)\n"
     ]
    },
    {
     "data": {
      "application/vnd.jupyter.widget-view+json": {
       "model_id": "",
       "version_major": 2,
       "version_minor": 0
      },
      "text/plain": [
       "HBox(children=(FloatProgress(value=0.0, description='Training', layout=Layout(flex='2'), max=1250.0, style=Pro…"
      ]
     },
     "metadata": {},
     "output_type": "display_data"
    },
    {
     "name": "stdout",
     "output_type": "stream",
     "text": [
      "Epoch 10: train=25.902, val=22.934, took 25.622 s\n",
      "  Validation Found 30458 of 54504, added 373 (eff 55.88%) (0.0374 FP/event)\n"
     ]
    },
    {
     "data": {
      "application/vnd.jupyter.widget-view+json": {
       "model_id": "",
       "version_major": 2,
       "version_minor": 0
      },
      "text/plain": [
       "HBox(children=(FloatProgress(value=0.0, description='Training', layout=Layout(flex='2'), max=1250.0, style=Pro…"
      ]
     },
     "metadata": {},
     "output_type": "display_data"
    },
    {
     "name": "stdout",
     "output_type": "stream",
     "text": [
      "Epoch 11: train=23.9779, val=21.2196, took 25.798 s\n",
      "  Validation Found 32240 of 54504, added 418 (eff 59.15%) (0.0419 FP/event)\n"
     ]
    },
    {
     "data": {
      "application/vnd.jupyter.widget-view+json": {
       "model_id": "",
       "version_major": 2,
       "version_minor": 0
      },
      "text/plain": [
       "HBox(children=(FloatProgress(value=0.0, description='Training', layout=Layout(flex='2'), max=1250.0, style=Pro…"
      ]
     },
     "metadata": {},
     "output_type": "display_data"
    },
    {
     "name": "stdout",
     "output_type": "stream",
     "text": [
      "Epoch 12: train=22.3637, val=19.9859, took 26.775 s\n",
      "  Validation Found 35987 of 54504, added 700 (eff 66.03%) (0.0701 FP/event)\n"
     ]
    },
    {
     "data": {
      "application/vnd.jupyter.widget-view+json": {
       "model_id": "",
       "version_major": 2,
       "version_minor": 0
      },
      "text/plain": [
       "HBox(children=(FloatProgress(value=0.0, description='Training', layout=Layout(flex='2'), max=1250.0, style=Pro…"
      ]
     },
     "metadata": {},
     "output_type": "display_data"
    },
    {
     "name": "stdout",
     "output_type": "stream",
     "text": [
      "Epoch 13: train=21.4709, val=19.3098, took 26.705 s\n",
      "  Validation Found 36813 of 54504, added 722 (eff 67.54%) (0.0723 FP/event)\n"
     ]
    },
    {
     "data": {
      "application/vnd.jupyter.widget-view+json": {
       "model_id": "",
       "version_major": 2,
       "version_minor": 0
      },
      "text/plain": [
       "HBox(children=(FloatProgress(value=0.0, description='Training', layout=Layout(flex='2'), max=1250.0, style=Pro…"
      ]
     },
     "metadata": {},
     "output_type": "display_data"
    },
    {
     "name": "stdout",
     "output_type": "stream",
     "text": [
      "Epoch 14: train=20.8803, val=18.7558, took 25.383 s\n",
      "  Validation Found 37413 of 54504, added 796 (eff 68.64%) (0.0797 FP/event)\n"
     ]
    },
    {
     "data": {
      "application/vnd.jupyter.widget-view+json": {
       "model_id": "",
       "version_major": 2,
       "version_minor": 0
      },
      "text/plain": [
       "HBox(children=(FloatProgress(value=0.0, description='Training', layout=Layout(flex='2'), max=1250.0, style=Pro…"
      ]
     },
     "metadata": {},
     "output_type": "display_data"
    },
    {
     "name": "stdout",
     "output_type": "stream",
     "text": [
      "Epoch 15: train=20.4458, val=18.4092, took 26.246 s\n",
      "  Validation Found 37999 of 54504, added 902 (eff 69.72%) (0.0903 FP/event)\n"
     ]
    },
    {
     "data": {
      "application/vnd.jupyter.widget-view+json": {
       "model_id": "",
       "version_major": 2,
       "version_minor": 0
      },
      "text/plain": [
       "HBox(children=(FloatProgress(value=0.0, description='Training', layout=Layout(flex='2'), max=1250.0, style=Pro…"
      ]
     },
     "metadata": {},
     "output_type": "display_data"
    },
    {
     "name": "stdout",
     "output_type": "stream",
     "text": [
      "Epoch 16: train=20.0921, val=18.0858, took 25.684 s\n",
      "  Validation Found 38327 of 54504, added 974 (eff 70.32%) (0.0975 FP/event)\n"
     ]
    },
    {
     "data": {
      "application/vnd.jupyter.widget-view+json": {
       "model_id": "",
       "version_major": 2,
       "version_minor": 0
      },
      "text/plain": [
       "HBox(children=(FloatProgress(value=0.0, description='Training', layout=Layout(flex='2'), max=1250.0, style=Pro…"
      ]
     },
     "metadata": {},
     "output_type": "display_data"
    },
    {
     "name": "stdout",
     "output_type": "stream",
     "text": [
      "Epoch 17: train=19.7924, val=17.81, took 25.772 s\n",
      "  Validation Found 38475 of 54504, added 1025 (eff 70.59%) (0.103 FP/event)\n"
     ]
    },
    {
     "data": {
      "application/vnd.jupyter.widget-view+json": {
       "model_id": "",
       "version_major": 2,
       "version_minor": 0
      },
      "text/plain": [
       "HBox(children=(FloatProgress(value=0.0, description='Training', layout=Layout(flex='2'), max=1250.0, style=Pro…"
      ]
     },
     "metadata": {},
     "output_type": "display_data"
    },
    {
     "name": "stdout",
     "output_type": "stream",
     "text": [
      "Epoch 18: train=19.5345, val=17.6359, took 25.844 s\n",
      "  Validation Found 38862 of 54504, added 1076 (eff 71.30%) (0.108 FP/event)\n"
     ]
    },
    {
     "data": {
      "application/vnd.jupyter.widget-view+json": {
       "model_id": "",
       "version_major": 2,
       "version_minor": 0
      },
      "text/plain": [
       "HBox(children=(FloatProgress(value=0.0, description='Training', layout=Layout(flex='2'), max=1250.0, style=Pro…"
      ]
     },
     "metadata": {},
     "output_type": "display_data"
    },
    {
     "name": "stdout",
     "output_type": "stream",
     "text": [
      "Epoch 19: train=19.3253, val=17.4142, took 25.447 s\n",
      "  Validation Found 38941 of 54504, added 1094 (eff 71.45%) (0.11 FP/event)\n"
     ]
    },
    {
     "data": {
      "application/vnd.jupyter.widget-view+json": {
       "model_id": "",
       "version_major": 2,
       "version_minor": 0
      },
      "text/plain": [
       "HBox(children=(FloatProgress(value=0.0, description='Training', layout=Layout(flex='2'), max=1250.0, style=Pro…"
      ]
     },
     "metadata": {},
     "output_type": "display_data"
    },
    {
     "name": "stdout",
     "output_type": "stream",
     "text": [
      "Epoch 20: train=19.1597, val=17.2901, took 25.653 s\n",
      "  Validation Found 39125 of 54504, added 1117 (eff 71.78%) (0.112 FP/event)\n"
     ]
    },
    {
     "data": {
      "application/vnd.jupyter.widget-view+json": {
       "model_id": "",
       "version_major": 2,
       "version_minor": 0
      },
      "text/plain": [
       "HBox(children=(FloatProgress(value=0.0, description='Training', layout=Layout(flex='2'), max=1250.0, style=Pro…"
      ]
     },
     "metadata": {},
     "output_type": "display_data"
    },
    {
     "name": "stdout",
     "output_type": "stream",
     "text": [
      "Epoch 21: train=19.0094, val=17.1783, took 25.472 s\n",
      "  Validation Found 39321 of 54504, added 1180 (eff 72.14%) (0.118 FP/event)\n"
     ]
    },
    {
     "data": {
      "application/vnd.jupyter.widget-view+json": {
       "model_id": "",
       "version_major": 2,
       "version_minor": 0
      },
      "text/plain": [
       "HBox(children=(FloatProgress(value=0.0, description='Training', layout=Layout(flex='2'), max=1250.0, style=Pro…"
      ]
     },
     "metadata": {},
     "output_type": "display_data"
    },
    {
     "name": "stdout",
     "output_type": "stream",
     "text": [
      "Epoch 22: train=18.8706, val=17.089, took 25.341 s\n",
      "  Validation Found 39500 of 54504, added 1211 (eff 72.47%) (0.121 FP/event)\n"
     ]
    },
    {
     "data": {
      "application/vnd.jupyter.widget-view+json": {
       "model_id": "",
       "version_major": 2,
       "version_minor": 0
      },
      "text/plain": [
       "HBox(children=(FloatProgress(value=0.0, description='Training', layout=Layout(flex='2'), max=1250.0, style=Pro…"
      ]
     },
     "metadata": {},
     "output_type": "display_data"
    },
    {
     "name": "stdout",
     "output_type": "stream",
     "text": [
      "Epoch 23: train=18.7626, val=16.9803, took 25.549 s\n",
      "  Validation Found 39500 of 54504, added 1193 (eff 72.47%) (0.119 FP/event)\n"
     ]
    },
    {
     "data": {
      "application/vnd.jupyter.widget-view+json": {
       "model_id": "",
       "version_major": 2,
       "version_minor": 0
      },
      "text/plain": [
       "HBox(children=(FloatProgress(value=0.0, description='Training', layout=Layout(flex='2'), max=1250.0, style=Pro…"
      ]
     },
     "metadata": {},
     "output_type": "display_data"
    },
    {
     "name": "stdout",
     "output_type": "stream",
     "text": [
      "Epoch 24: train=18.661, val=16.933, took 25.737 s\n",
      "  Validation Found 39706 of 54504, added 1275 (eff 72.85%) (0.128 FP/event)\n"
     ]
    },
    {
     "data": {
      "application/vnd.jupyter.widget-view+json": {
       "model_id": "",
       "version_major": 2,
       "version_minor": 0
      },
      "text/plain": [
       "HBox(children=(FloatProgress(value=0.0, description='Training', layout=Layout(flex='2'), max=1250.0, style=Pro…"
      ]
     },
     "metadata": {},
     "output_type": "display_data"
    },
    {
     "name": "stdout",
     "output_type": "stream",
     "text": [
      "Epoch 25: train=18.5727, val=16.8846, took 27.067 s\n",
      "  Validation Found 39710 of 54504, added 1224 (eff 72.86%) (0.123 FP/event)\n"
     ]
    },
    {
     "data": {
      "application/vnd.jupyter.widget-view+json": {
       "model_id": "",
       "version_major": 2,
       "version_minor": 0
      },
      "text/plain": [
       "HBox(children=(FloatProgress(value=0.0, description='Training', layout=Layout(flex='2'), max=1250.0, style=Pro…"
      ]
     },
     "metadata": {},
     "output_type": "display_data"
    },
    {
     "name": "stdout",
     "output_type": "stream",
     "text": [
      "Epoch 26: train=18.4879, val=16.8212, took 25.824 s\n",
      "  Validation Found 39860 of 54504, added 1276 (eff 73.13%) (0.128 FP/event)\n"
     ]
    },
    {
     "data": {
      "application/vnd.jupyter.widget-view+json": {
       "model_id": "",
       "version_major": 2,
       "version_minor": 0
      },
      "text/plain": [
       "HBox(children=(FloatProgress(value=0.0, description='Training', layout=Layout(flex='2'), max=1250.0, style=Pro…"
      ]
     },
     "metadata": {},
     "output_type": "display_data"
    },
    {
     "name": "stdout",
     "output_type": "stream",
     "text": [
      "Epoch 27: train=18.4052, val=16.7563, took 25.665 s\n",
      "  Validation Found 39854 of 54504, added 1198 (eff 73.12%) (0.12 FP/event)\n"
     ]
    },
    {
     "data": {
      "application/vnd.jupyter.widget-view+json": {
       "model_id": "",
       "version_major": 2,
       "version_minor": 0
      },
      "text/plain": [
       "HBox(children=(FloatProgress(value=0.0, description='Training', layout=Layout(flex='2'), max=1250.0, style=Pro…"
      ]
     },
     "metadata": {},
     "output_type": "display_data"
    },
    {
     "name": "stdout",
     "output_type": "stream",
     "text": [
      "Epoch 28: train=18.339, val=16.6993, took 25.802 s\n",
      "  Validation Found 39914 of 54504, added 1279 (eff 73.23%) (0.128 FP/event)\n"
     ]
    },
    {
     "data": {
      "application/vnd.jupyter.widget-view+json": {
       "model_id": "",
       "version_major": 2,
       "version_minor": 0
      },
      "text/plain": [
       "HBox(children=(FloatProgress(value=0.0, description='Training', layout=Layout(flex='2'), max=1250.0, style=Pro…"
      ]
     },
     "metadata": {},
     "output_type": "display_data"
    },
    {
     "name": "stdout",
     "output_type": "stream",
     "text": [
      "Epoch 29: train=18.27, val=16.684, took 25.532 s\n",
      "  Validation Found 39912 of 54504, added 1256 (eff 73.23%) (0.126 FP/event)\n"
     ]
    },
    {
     "data": {
      "application/vnd.jupyter.widget-view+json": {
       "model_id": "",
       "version_major": 2,
       "version_minor": 0
      },
      "text/plain": [
       "HBox(children=(FloatProgress(value=0.0, description='Training', layout=Layout(flex='2'), max=1250.0, style=Pro…"
      ]
     },
     "metadata": {},
     "output_type": "display_data"
    },
    {
     "name": "stdout",
     "output_type": "stream",
     "text": [
      "Epoch 30: train=18.2118, val=16.7278, took 25.8 s\n",
      "  Validation Found 40100 of 54504, added 1303 (eff 73.57%) (0.13 FP/event)\n"
     ]
    },
    {
     "data": {
      "application/vnd.jupyter.widget-view+json": {
       "model_id": "",
       "version_major": 2,
       "version_minor": 0
      },
      "text/plain": [
       "HBox(children=(FloatProgress(value=0.0, description='Training', layout=Layout(flex='2'), max=1250.0, style=Pro…"
      ]
     },
     "metadata": {},
     "output_type": "display_data"
    },
    {
     "name": "stdout",
     "output_type": "stream",
     "text": [
      "Epoch 31: train=18.1555, val=16.5795, took 25.822 s\n",
      "  Validation Found 39921 of 54504, added 1187 (eff 73.24%) (0.119 FP/event)\n"
     ]
    },
    {
     "data": {
      "application/vnd.jupyter.widget-view+json": {
       "model_id": "",
       "version_major": 2,
       "version_minor": 0
      },
      "text/plain": [
       "HBox(children=(FloatProgress(value=0.0, description='Training', layout=Layout(flex='2'), max=1250.0, style=Pro…"
      ]
     },
     "metadata": {},
     "output_type": "display_data"
    },
    {
     "name": "stdout",
     "output_type": "stream",
     "text": [
      "Epoch 32: train=18.1028, val=16.5384, took 26.4 s\n",
      "  Validation Found 40034 of 54504, added 1243 (eff 73.45%) (0.124 FP/event)\n"
     ]
    },
    {
     "data": {
      "application/vnd.jupyter.widget-view+json": {
       "model_id": "",
       "version_major": 2,
       "version_minor": 0
      },
      "text/plain": [
       "HBox(children=(FloatProgress(value=0.0, description='Training', layout=Layout(flex='2'), max=1250.0, style=Pro…"
      ]
     },
     "metadata": {},
     "output_type": "display_data"
    },
    {
     "name": "stdout",
     "output_type": "stream",
     "text": [
      "Epoch 33: train=18.0367, val=16.4683, took 25.713 s\n",
      "  Validation Found 39997 of 54504, added 1192 (eff 73.38%) (0.119 FP/event)\n"
     ]
    },
    {
     "data": {
      "application/vnd.jupyter.widget-view+json": {
       "model_id": "",
       "version_major": 2,
       "version_minor": 0
      },
      "text/plain": [
       "HBox(children=(FloatProgress(value=0.0, description='Training', layout=Layout(flex='2'), max=1250.0, style=Pro…"
      ]
     },
     "metadata": {},
     "output_type": "display_data"
    },
    {
     "name": "stdout",
     "output_type": "stream",
     "text": [
      "Epoch 34: train=17.9962, val=16.4767, took 26.217 s\n",
      "  Validation Found 40102 of 54504, added 1232 (eff 73.58%) (0.123 FP/event)\n"
     ]
    },
    {
     "data": {
      "application/vnd.jupyter.widget-view+json": {
       "model_id": "",
       "version_major": 2,
       "version_minor": 0
      },
      "text/plain": [
       "HBox(children=(FloatProgress(value=0.0, description='Training', layout=Layout(flex='2'), max=1250.0, style=Pro…"
      ]
     },
     "metadata": {},
     "output_type": "display_data"
    },
    {
     "name": "stdout",
     "output_type": "stream",
     "text": [
      "Epoch 35: train=17.9311, val=16.4581, took 26.015 s\n",
      "  Validation Found 40123 of 54504, added 1232 (eff 73.61%) (0.123 FP/event)\n"
     ]
    },
    {
     "data": {
      "application/vnd.jupyter.widget-view+json": {
       "model_id": "",
       "version_major": 2,
       "version_minor": 0
      },
      "text/plain": [
       "HBox(children=(FloatProgress(value=0.0, description='Training', layout=Layout(flex='2'), max=1250.0, style=Pro…"
      ]
     },
     "metadata": {},
     "output_type": "display_data"
    },
    {
     "name": "stdout",
     "output_type": "stream",
     "text": [
      "Epoch 36: train=17.891, val=16.3221, took 26.158 s\n",
      "  Validation Found 39970 of 54504, added 1174 (eff 73.33%) (0.118 FP/event)\n"
     ]
    },
    {
     "data": {
      "application/vnd.jupyter.widget-view+json": {
       "model_id": "",
       "version_major": 2,
       "version_minor": 0
      },
      "text/plain": [
       "HBox(children=(FloatProgress(value=0.0, description='Training', layout=Layout(flex='2'), max=1250.0, style=Pro…"
      ]
     },
     "metadata": {},
     "output_type": "display_data"
    },
    {
     "name": "stdout",
     "output_type": "stream",
     "text": [
      "Epoch 37: train=17.8487, val=16.3216, took 26.491 s\n",
      "  Validation Found 39864 of 54504, added 1032 (eff 73.14%) (0.103 FP/event)\n"
     ]
    },
    {
     "data": {
      "application/vnd.jupyter.widget-view+json": {
       "model_id": "",
       "version_major": 2,
       "version_minor": 0
      },
      "text/plain": [
       "HBox(children=(FloatProgress(value=0.0, description='Training', layout=Layout(flex='2'), max=1250.0, style=Pro…"
      ]
     },
     "metadata": {},
     "output_type": "display_data"
    },
    {
     "name": "stdout",
     "output_type": "stream",
     "text": [
      "Epoch 38: train=17.8101, val=16.267, took 25.419 s\n",
      "  Validation Found 39833 of 54504, added 1049 (eff 73.08%) (0.105 FP/event)\n"
     ]
    },
    {
     "data": {
      "application/vnd.jupyter.widget-view+json": {
       "model_id": "",
       "version_major": 2,
       "version_minor": 0
      },
      "text/plain": [
       "HBox(children=(FloatProgress(value=0.0, description='Training', layout=Layout(flex='2'), max=1250.0, style=Pro…"
      ]
     },
     "metadata": {},
     "output_type": "display_data"
    },
    {
     "name": "stdout",
     "output_type": "stream",
     "text": [
      "Epoch 39: train=17.7723, val=16.2423, took 25.527 s\n",
      "  Validation Found 40057 of 54504, added 1209 (eff 73.49%) (0.121 FP/event)\n",
      "\n"
     ]
    }
   ],
   "source": [
    "for result in trainNet(model, optimizer, loss,\n",
    "                        train_loader, val_loader,\n",
    "                        n_epochs, epoch_start=len(results),\n",
    "                        notebook=True):\n",
    "    \n",
    "    results = results.append(pd.Series(result._asdict()), ignore_index=True)\n",
    "    \n",
    "    xs = results.index\n",
    "    \n",
    "    # Update the plot above\n",
    "    lines['train'].set_data(results.index,results.cost)\n",
    "    lines['val'].set_data(results.index,results.val)\n",
    "    \n",
    "    #filter first cost epoch (can be really large)\n",
    "    max_cost = max(max(results.cost if len(results.cost)<2 else results.cost[1:]), max(results.val))\n",
    "    min_cost = min(min(results.cost), min(results.val))\n",
    "    \n",
    "    # The plot limits need updating too\n",
    "    \n",
    "    \n",
    "    \n",
    "    ax.set_ylim(min_cost*.9, max_cost*1.1)  \n",
    "    ax.set_xlim(-.5, len(results.cost) - .5)\n",
    "    \n",
    "    replace_in_ax(lax, lines['eff'], xs, results['eff_val'].apply(lambda x: x.eff_rate))\n",
    "    replace_in_ax(tax, lines['fp'], xs, results['eff_val'].apply(lambda x: x.fp_rate))\n",
    "    \n",
    "    # Redraw the figure\n",
    "    fig.canvas.draw()\n",
    "\n",
    "    # Save each model state dictionary\n",
    "    torch.save(model.state_dict(), output / f'{name}_{result.epoch}.pyt')"
   ]
  },
  {
   "cell_type": "markdown",
   "metadata": {},
   "source": [
    "# Results\n",
    "\n",
    "Let's save some results: (even though if you have not changed the code above, it saves the model every epoch)"
   ]
  },
  {
   "cell_type": "markdown",
   "metadata": {},
   "source": [
    "Go ahead and save the final model (even though it was also saved above):"
   ]
  },
  {
   "cell_type": "code",
   "execution_count": null,
   "metadata": {},
   "outputs": [],
   "source": [
    "torch.save(model.state_dict(), output / f'{name}_final.pyt')"
   ]
  },
  {
   "cell_type": "markdown",
   "metadata": {},
   "source": [
    "Save the output results:"
   ]
  },
  {
   "cell_type": "code",
   "execution_count": null,
   "metadata": {},
   "outputs": [],
   "source": [
    "results.to_hdf(f'{name}_stats.hdf5', 'results')"
   ]
  },
  {
   "cell_type": "markdown",
   "metadata": {},
   "source": [
    "Save the plot above:"
   ]
  },
  {
   "cell_type": "code",
   "execution_count": null,
   "metadata": {
    "scrolled": false
   },
   "outputs": [],
   "source": [
    "dual_train_plots(results.index,\n",
    "                 results.cost, results.val, \n",
    "                 results['eff_val'].apply(lambda x: x.eff_rate),\n",
    "                 results['eff_val'].apply(lambda x: x.fp_rate))\n",
    "plt.tight_layout()\n",
    "plt.savefig(str(output / f'{name}_stats_a.png'))"
   ]
  },
  {
   "cell_type": "code",
   "execution_count": null,
   "metadata": {},
   "outputs": [],
   "source": [
    "##quit()"
   ]
  }
 ],
 "metadata": {
  "kernelspec": {
   "display_name": "goofit",
   "language": "python",
   "name": "goofit"
  },
  "language_info": {
   "codemirror_mode": {
    "name": "ipython",
    "version": 3
   },
   "file_extension": ".py",
   "mimetype": "text/x-python",
   "name": "python",
   "nbconvert_exporter": "python",
   "pygments_lexer": "ipython3",
   "version": "3.7.6"
  }
 },
 "nbformat": 4,
 "nbformat_minor": 2
}
