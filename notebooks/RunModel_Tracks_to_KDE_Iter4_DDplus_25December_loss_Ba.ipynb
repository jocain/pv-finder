{
 "cells": [
  {
   "cell_type": "code",
   "execution_count": 1,
   "metadata": {},
   "outputs": [],
   "source": [
    "##%matplotlib widget\n",
    "## with %matplotlib notebook: seems to require ipympl as part of environment, either\n",
    "## part of the conda environment or \"pip install ipympl\"\n",
    "## otherwise, does not show ANY plots in note\"book, plt.savefig() works\n",
    "%matplotlib notebook  \n",
    "##%matplotlib inline    ## --plt.savefig()  works, but re-sizing does NOT\n"
   ]
  },
  {
   "cell_type": "markdown",
   "metadata": {},
   "source": [
    "This notebook is the second attempt to read in track information and use it to predict the KDE used as input to PvFinder. This time, we are reading in poca KDEs rather than the original KDEs. \n",
    "\n",
    "collectdata_kde_C.py uses poca_z, poca_x, poca_y, major_axis_x, major_axis_y, and major_axis_z as the six track parameters (for the moment)\n"
   ]
  },
  {
   "cell_type": "markdown",
   "metadata": {},
   "source": [
    "Check the current GPU usage. Please try to be nice!"
   ]
  },
  {
   "cell_type": "code",
   "execution_count": 2,
   "metadata": {},
   "outputs": [
    {
     "name": "stdout",
     "output_type": "stream",
     "text": [
      "Fri Dec 25 12:04:44 2020       \r\n",
      "+-----------------------------------------------------------------------------+\r\n",
      "| NVIDIA-SMI 450.36.06    Driver Version: 450.36.06    CUDA Version: 11.0     |\r\n",
      "|-------------------------------+----------------------+----------------------+\r\n",
      "| GPU  Name        Persistence-M| Bus-Id        Disp.A | Volatile Uncorr. ECC |\r\n",
      "| Fan  Temp  Perf  Pwr:Usage/Cap|         Memory-Usage | GPU-Util  Compute M. |\r\n",
      "|                               |                      |               MIG M. |\r\n",
      "|===============================+======================+======================|\r\n",
      "|   0  GeForce RTX 208...  On   | 00000000:18:00.0 Off |                  N/A |\r\n",
      "| 29%   39C    P8    40W / 250W |      1MiB / 11019MiB |      0%      Default |\r\n",
      "|                               |                      |                  N/A |\r\n",
      "+-------------------------------+----------------------+----------------------+\r\n",
      "|   1  GeForce RTX 208...  On   | 00000000:3B:00.0 Off |                  N/A |\r\n",
      "| 29%   40C    P8    39W / 250W |   3393MiB / 11019MiB |      0%      Default |\r\n",
      "|                               |                      |                  N/A |\r\n",
      "+-------------------------------+----------------------+----------------------+\r\n",
      "                                                                               \r\n",
      "+-----------------------------------------------------------------------------+\r\n",
      "| Processes:                                                                  |\r\n",
      "|  GPU   GI   CI        PID   Type   Process name                  GPU Memory |\r\n",
      "|        ID   ID                                                   Usage      |\r\n",
      "|=============================================================================|\r\n",
      "|    1   N/A  N/A      3736      G   /usr/bin/X                         33MiB |\r\n",
      "|    1   N/A  N/A      3790      G   /usr/bin/gnome-shell               25MiB |\r\n",
      "|    1   N/A  N/A    210988      C   ...s/june2020-gpu/bin/python     3329MiB |\r\n",
      "+-----------------------------------------------------------------------------+\r\n"
     ]
    }
   ],
   "source": [
    "!nvidia-smi"
   ]
  },
  {
   "cell_type": "markdown",
   "metadata": {},
   "source": [
    "> **WARNING**: The card numbers here are *not* the same as in CUDA. You have been warned."
   ]
  },
  {
   "cell_type": "markdown",
   "metadata": {},
   "source": [
    "This notebook is first attempt to read in track information and use it to predict the KDE used as input to PvFinder.\n"
   ]
  },
  {
   "cell_type": "markdown",
   "metadata": {},
   "source": [
    "## Imports"
   ]
  },
  {
   "cell_type": "code",
   "execution_count": 3,
   "metadata": {},
   "outputs": [],
   "source": [
    "import matplotlib.pyplot as plt\n",
    "import numpy as np\n",
    "import time\n",
    "import torch\n",
    "import pandas as pd\n",
    "\n",
    "# Python 3 standard library\n",
    "from pathlib import Path\n",
    "\n",
    "##from torchsummary import summary"
   ]
  },
  {
   "cell_type": "markdown",
   "metadata": {},
   "source": [
    "### Set up local parameters"
   ]
  },
  {
   "cell_type": "code",
   "execution_count": 4,
   "metadata": {},
   "outputs": [],
   "source": [
    "n_epochs = 500\n",
    "\n",
    "# Name is the output file name\n",
    "\n",
    "\n",
    "##  201027 -- about to go to bed, so try 2500 epochs with lr = 1e55\n",
    "##  previous iteration had l4 = 3e-5 and cost dropped almost linearly\n",
    "##  for 100 epochs -- final training costs ~ 2.02, validation cost ~ 2.01\n",
    "\n",
    "## for iter 4, try 10 epochs with lr = 3e-6\n",
    "## usually have a big jump down at epoch 0; want to try a\n",
    "## small number of epochs per iteration and see what happens (iter4: 10 epochs gave\n",
    "## traiing cost dropping from 1.54 to 1.50 immediately, then dropping very slowly)\n",
    "folder = '25December__DDplus_loss_Ba_iter4_floatAll_500epochs_1em5'\n",
    "name   = folder\n",
    "\n",
    "# Make an output folder named \"name\" (change if you want)\n",
    "\n",
    "## Special instructions for those working on goofy at UC\n",
    "## Please be very careful to make sure that your folder\n",
    "## does not live in a subdirectory of your home directory\n",
    "## this disk has very little capacity. Instead, use \n",
    "## a subdirectory in /share/lazy with a symbolic link to\n",
    "## it in this (the notebooks) subdirectory\n",
    "folder = 'ML/' + folder\n",
    "output = Path(folder)\n",
    "\n",
    "\n",
    "# Size of batches\n",
    "batch_size = 16 ## was 64\n",
    "# How fast to learn\n",
    "learning_rate = 1e-5"
   ]
  },
  {
   "cell_type": "markdown",
   "metadata": {},
   "source": [
    "Make the output directory if it does not exist:"
   ]
  },
  {
   "cell_type": "code",
   "execution_count": 5,
   "metadata": {},
   "outputs": [],
   "source": [
    "output.mkdir(exist_ok=True)"
   ]
  },
  {
   "cell_type": "markdown",
   "metadata": {},
   "source": [
    "## Get the helper functions\n",
    "\n",
    "Add the directory with the model\n",
    "definitions to the path so we can import from it:\n",
    "\n",
    "> When you type `import X`,\n",
    "Python searches `sys.path` for a python\n",
    "file named `X.py` to import. So we need to add the model directory to the path."
   ]
  },
  {
   "cell_type": "code",
   "execution_count": 6,
   "metadata": {
    "scrolled": true
   },
   "outputs": [],
   "source": [
    "# From model/collectdata.py\n",
    "##from model.collectdata_kde_B import collect_t2kde_data\n",
    "## collectdata_kde_C should use the new poca KDE rather than the original kernel KDE\n",
    "from model.collectdata_kde_Ellipsoids import collect_t2kde_data\n",
    "\n",
    "\n",
    "# From model/loss.py\n",
    "##from loss import Loss\n",
    "## kde_loss_D includes botha ratio term and a chisq term, 98% ave_chisq\n",
    "## kde_loss_E adds a chi^4 term to the kde_loss_D return value\n",
    "## this is intended to emphasize the importance of values significantly different than zero\n",
    "from model.kde_loss_Ba import Loss\n",
    "\n",
    "##  TracksToKDE_Ellipsoids_SevenLayerCake has 7 hidden layers producing the 4000-bin KDE historgram\n",
    "##  It takes 9 input features (pocca centers + (A,B,C,D,E,F) . \n",
    "from model.models_kde import TracksToKDE_Ellipsoids_DDplus as Model\n",
    "\n",
    "\n",
    "from model.training_kde import trainNet, select_gpu, Results\n",
    "from model.plots import dual_train_plots, replace_in_ax"
   ]
  },
  {
   "cell_type": "code",
   "execution_count": 7,
   "metadata": {},
   "outputs": [],
   "source": [
    "# This gets built up during the run - do not rerun this cell\n",
    "results = pd.DataFrame([], columns=Results._fields)"
   ]
  },
  {
   "cell_type": "markdown",
   "metadata": {},
   "source": [
    "Set up Torch device configuration. All tensors and model parameters need to know where to be put.\n",
    "This takes a BUS ID number: The BUS ID is the same as the listing at the top of this script."
   ]
  },
  {
   "cell_type": "code",
   "execution_count": 8,
   "metadata": {},
   "outputs": [
    {
     "name": "stdout",
     "output_type": "stream",
     "text": [
      "1 available GPUs (initially using device 0):\n",
      "  0 GeForce RTX 2080 Ti\n"
     ]
    }
   ],
   "source": [
    "device = select_gpu(0)\n",
    "##device = \"cpu\""
   ]
  },
  {
   "cell_type": "markdown",
   "metadata": {},
   "source": [
    "## Loading data\n",
    "\n",
    "Load the dataset, split into parts, then move to device (see `collectdata.py` in the `../model` directory)"
   ]
  },
  {
   "cell_type": "markdown",
   "metadata": {},
   "source": [
    "# Preparing the model"
   ]
  },
  {
   "cell_type": "markdown",
   "metadata": {},
   "source": [
    "Prepare a model, use multiple GPUs if they are VISIBLE, and move the model to the device."
   ]
  },
  {
   "cell_type": "code",
   "execution_count": 9,
   "metadata": {
    "scrolled": true
   },
   "outputs": [],
   "source": [
    "##print(\"Let's use\", torch.cuda.device_count(), \"GPUs!\")\n",
    "##if torch.cuda.device_count() > 1:\n",
    "##    model = torch.nn.DataParallel(model)"
   ]
  },
  {
   "cell_type": "code",
   "execution_count": 10,
   "metadata": {},
   "outputs": [
    {
     "name": "stdout",
     "output_type": "stream",
     "text": [
      "ct, child =  0    Linear(in_features=9, out_features=50, bias=True)\n",
      "ct, child =  1    Linear(in_features=50, out_features=50, bias=True)\n",
      "ct, child =  2    Linear(in_features=50, out_features=50, bias=True)\n",
      "ct, child =  3    Linear(in_features=50, out_features=50, bias=True)\n",
      "ct, child =  4    Linear(in_features=50, out_features=50, bias=True)\n",
      "ct, child =  5    Linear(in_features=50, out_features=50, bias=True)\n",
      "ct, child =  6    Linear(in_features=50, out_features=50, bias=True)\n",
      "ct, child =  7    Linear(in_features=50, out_features=50, bias=True)\n",
      "ct, child =  8    Linear(in_features=50, out_features=50, bias=True)\n",
      "ct, child =  9    Linear(in_features=50, out_features=50, bias=True)\n",
      "ct, child =  10    Linear(in_features=50, out_features=50, bias=True)\n",
      "ct, child =  11    Linear(in_features=50, out_features=16000, bias=True)\n",
      "ct, child =  12    Conv1d(4, 25, kernel_size=(25,), stride=(1,), padding=(12,))\n",
      "ct, child =  13    Conv1d(25, 1, kernel_size=(5,), stride=(1,), padding=(2,))\n",
      "ct, child =  14    Linear(in_features=4000, out_features=4000, bias=True)\n",
      "ct, child =  15    Conv1d(25, 1, kernel_size=(15,), stride=(1,), padding=(7,))\n",
      "ct, child =  16    Dropout(p=0.15, inplace=False)\n",
      "ct, child =  17    Dropout(p=0.15, inplace=False)\n"
     ]
    }
   ],
   "source": [
    "## a comment on the web at https://pytorch.org/docs/stable/optim.html says\n",
    "\"\"\"\n",
    "If you need to move a model to GPU via .cuda(), please do so before constructing optimizers for it. \n",
    "Parameters of a model after .cuda() will be different objects with those before the call.\n",
    "\n",
    "In general, you should make sure that optimized parameters live in consistent locations when \n",
    "optimizers are constructed and used.\n",
    "\"\"\"\n",
    "## so move this here (although we are using model.to(device) not explicitly using .cuda()\n",
    "\n",
    "nOut1 = 50\n",
    "nOut2 = 50\n",
    "nOut3 = 50\n",
    "nOut4 = 50\n",
    "nOut5 = 50\n",
    "nOut6 = 50\n",
    "nOut7 = 50\n",
    "nOut8 = 50\n",
    "nOut9 = 50\n",
    "nOut10 = 50\n",
    "nOut11 = 50\n",
    "latentChannels = 4\n",
    "model = Model(nOut1,nOut2,nOut3,nOut4,nOut5,nOut6,nOut7,nOut8,nOut9,nOut10,nOut11,latentChannels)\n",
    "\n",
    "##summary(model, input_size=(4, 4000))\n",
    "##print(model.parameters)\n",
    "\n",
    "## add the following code to allow the user to freeze the some of the weights corresponding \n",
    "## to those taken from an earlier model trained with the original target histograms\n",
    "## presumably -- this leaves either the perturbative filter \"fixed\" and lets the \n",
    "## learning focus on the non-perturbative features, so get started faster, or vice versa\n",
    "ct = 0\n",
    "for child in model.children():\n",
    "  print('ct, child = ',ct, \"  \", child)\n",
    "  if ct < 0:\n",
    "    print(\"     About to set param.requires_grad=False for ct = \", ct, \"params\")\n",
    "    for param in child.parameters():\n",
    "        param.requires_grad = False \n",
    "  ct += 1\n",
    "##  mds 200121 loss = Loss(epsilon=1e-5,coefficient=1.0)\n",
    "##  loss = Loss(epsilon=1e-5,coefficient=2.5)\n",
    "##loss = Loss(epsilon=3e-5, debug=False)\n",
    "loss = Loss(epsilon=3e-5)"
   ]
  },
  {
   "cell_type": "markdown",
   "metadata": {},
   "source": [
    "Let's move the model's weight matricies to the GPU:"
   ]
  },
  {
   "cell_type": "code",
   "execution_count": 11,
   "metadata": {
    "scrolled": true
   },
   "outputs": [],
   "source": [
    "model = model.to(device)"
   ]
  },
  {
   "cell_type": "code",
   "execution_count": 12,
   "metadata": {
    "scrolled": true
   },
   "outputs": [],
   "source": [
    "optimizer = torch.optim.Adam(model.parameters(), lr=learning_rate)\n",
    "##optimizer = torch.optim.SGD(model.parameters(), lr=learning_rate)"
   ]
  },
  {
   "cell_type": "code",
   "execution_count": 13,
   "metadata": {
    "scrolled": false
   },
   "outputs": [
    {
     "name": "stdout",
     "output_type": "stream",
     "text": [
      "output =  ML/25December__DDplus_loss_Ba_iter4_floatAll_500epochs_1em5\n",
      "for model_dict\n",
      "index, k =   0    layer1.weight\n",
      "index, k =   1    layer1.bias\n",
      "index, k =   2    layer2.weight\n",
      "index, k =   3    layer2.bias\n",
      "index, k =   4    layer3.weight\n",
      "index, k =   5    layer3.bias\n",
      "index, k =   6    layer4.weight\n",
      "index, k =   7    layer4.bias\n",
      "index, k =   8    layer5.weight\n",
      "index, k =   9    layer5.bias\n",
      "index, k =   10    layer6.weight\n",
      "index, k =   11    layer6.bias\n",
      "index, k =   12    layer7.weight\n",
      "index, k =   13    layer7.bias\n",
      "index, k =   14    layer8.weight\n",
      "index, k =   15    layer8.bias\n",
      "index, k =   16    layer9.weight\n",
      "index, k =   17    layer9.bias\n",
      "index, k =   18    layer10.weight\n",
      "index, k =   19    layer10.bias\n",
      "index, k =   20    layer11.weight\n",
      "index, k =   21    layer11.bias\n",
      "index, k =   22    layer12new.weight\n",
      "index, k =   23    layer12new.bias\n",
      "index, k =   24    conv1.weight\n",
      "index, k =   25    conv1.bias\n",
      "index, k =   26    conv2.weight\n",
      "index, k =   27    conv2.bias\n",
      "index, k =   28    fc1.weight\n",
      "index, k =   29    fc1.bias\n",
      "index, k =   30    finalFilter.weight\n",
      "index, k =   31    finalFilter.bias\n",
      "dict_name =  ML/25December__DDplus_loss_Ba_iter3_floatAll_100epochs_1em5/25December__DDplus_loss_Ba_iter3_floatAll_100epochs_1em5_final.pyt\n",
      " \n",
      "  for pretrained_dict\n",
      "index, k =   0    layer1.weight\n",
      "index, k =   1    layer1.bias\n",
      "index, k =   2    layer2.weight\n",
      "index, k =   3    layer2.bias\n",
      "index, k =   4    layer3.weight\n",
      "index, k =   5    layer3.bias\n",
      "index, k =   6    layer4.weight\n",
      "index, k =   7    layer4.bias\n",
      "index, k =   8    layer5.weight\n",
      "index, k =   9    layer5.bias\n",
      "index, k =   10    layer6.weight\n",
      "index, k =   11    layer6.bias\n",
      "index, k =   12    layer7.weight\n",
      "index, k =   13    layer7.bias\n",
      "index, k =   14    layer8.weight\n",
      "index, k =   15    layer8.bias\n",
      "index, k =   16    layer9.weight\n",
      "index, k =   17    layer9.bias\n",
      "index, k =   18    layer10.weight\n",
      "index, k =   19    layer10.bias\n",
      "index, k =   20    layer11.weight\n",
      "index, k =   21    layer11.bias\n",
      "index, k =   22    layer12new.weight\n",
      "index, k =   23    layer12new.bias\n",
      "index, k =   24    conv1.weight\n",
      "index, k =   25    conv1.bias\n",
      "index, k =   26    conv2.weight\n",
      "index, k =   27    conv2.bias\n",
      "index, k =   28    fc1.weight\n",
      "index, k =   29    fc1.bias\n",
      "index, k =   30    finalFilter.weight\n",
      "index, k =   31    finalFilter.bias\n",
      "pretrained_dict iterated\n"
     ]
    },
    {
     "data": {
      "text/plain": [
       "<All keys matched successfully>"
      ]
     },
     "execution_count": 13,
     "metadata": {},
     "output_type": "execute_result"
    }
   ],
   "source": [
    "print('output = ',output)\n",
    "##print('oldOutput = ',oldOutput)\n",
    "##  use the first four layers from a pre-existing model\n",
    "##  see example at https://discuss.pytorch.org/t/how-to-load-part-of-pre-trained-model/1113\n",
    "\n",
    "##   ML -> /share/lazy/sokoloff/ML\n",
    "model_dict = model.state_dict()\n",
    "## mds 190725 for debugging\n",
    "print(\"for model_dict\")\n",
    "index = 0\n",
    "for k,v in model_dict.items():\n",
    "    print(\"index, k =  \",index,\"  \",k)\n",
    "    index = index+1\n",
    "##    print(\"value = \", v)\n",
    " \n",
    "updated_dict = model_dict\n",
    "##print(\"updated_dict = \",updated_dict)\n",
    "## when starting \"ab initio\", reduce biases as the bias gets summed for each track\n",
    "## contributing to the predicted KDE\n",
    "updated_dict[\"layer1.bias\"] = 0.005*model_dict[\"layer1.bias\"]\n",
    "updated_dict[\"layer2.bias\"] = 0.005*model_dict[\"layer2.bias\"]\n",
    "updated_dict[\"layer3.bias\"] = 0.005*model_dict[\"layer3.bias\"]\n",
    "updated_dict[\"layer4.bias\"] = 0.005*model_dict[\"layer4.bias\"]\n",
    "updated_dict[\"layer5.bias\"] = 0.005*model_dict[\"layer5.bias\"]\n",
    "updated_dict[\"layer6.bias\"] = 0.005*model_dict[\"layer6.bias\"]\n",
    "updated_dict[\"layer7.bias\"] = 0.005*model_dict[\"layer7.bias\"]\n",
    "updated_dict[\"layer8.bias\"] = 0.005*model_dict[\"layer8.bias\"]\n",
    "updated_dict[\"layer9.bias\"] = 0.005*model_dict[\"layer9.bias\"]\n",
    "updated_dict[\"layer10.bias\"] = 0.005*model_dict[\"layer10.bias\"]\n",
    "updated_dict[\"layer11.bias\"] = 0.005*model_dict[\"layer11.bias\"]\n",
    "\n",
    "model.load_state_dict(updated_dict,strict=False)\n",
    "\n",
    "model_dict = model.state_dict()\n",
    "##print(\"updated model_dict = \",model_dict)\n",
    "\n",
    "## print(\" \\n\",\"  for pretrained_dict\")\n",
    "## index = 0\n",
    "##for k,v in pretrained_dict.items():\n",
    "##    print(\"index, k =  \",index,\"  \",k)\n",
    "##    index = index+1\n",
    "## mds  \n",
    "\n",
    "##pretrained_dict = torch.load('ML/29July2020_Trks_to_KDE_C_lossB_100epochs_b64_1m3_nOut_50x50/29July2020_Trks_to_KDE_C_lossB_100epochs_b64_1m3_nOut_50x50_final.pyt')\n",
    "##print(\"model_dict instantiated\")\n",
    "# 1. filter out unnecessary keys\n",
    "##pretrained_dict = {k: v for k, v in pretrained_dict.items() if k in model_dict}\n",
    "##print(\"pretrained_dict iterated\")\n",
    "# 2. overwrite entries in the existing state dict\n",
    "##model_dict.update(pretrained_dict) \n",
    "##\n",
    "#   when starting from a model with a fully connected last layer rather than a convolutional layer\n",
    "# 3. load the new state dict\n",
    "#   need to use strict=False as the two models state model attributes do not agree exactly\n",
    "#   see https://pytorch.org/docs/master/_modules/torch/nn/modules/module.html#Module.load_state_dict\n",
    "\n",
    "##model.load_state_dict(pretrained_dict,strict=False)\n",
    "\n",
    "## print('model_dict =    ', model_dict)\n",
    "\n",
    "## finished at training cost = 1.46, validation cost = 1.50\n",
    "d_folder = '25December__DDplus_loss_Ba_iter3_floatAll_100epochs_1em5'\n",
    "d_name = d_folder\n",
    "suffix = 'final'\n",
    "dict_name = 'ML/' + d_folder + '/' + d_name + '_'+ suffix + '.pyt'\n",
    "print('dict_name = ',dict_name)\n",
    "pretrained_dict = torch.load(dict_name)\n",
    "\n",
    "print(\" \")\n",
    "print(\"  for pretrained_dict\")\n",
    "index = 0\n",
    "for k,v in pretrained_dict.items():\n",
    "    print(\"index, k =  \",index,\"  \",k)\n",
    "    index = index+1\n",
    " \n",
    "\n",
    "##print(\"model_dict instantiated\")\n",
    "# 1. filter out unnecessary keys\n",
    "pretrained_dict = {k: v for k, v in pretrained_dict.items() if k in model_dict}\n",
    "print(\"pretrained_dict iterated\")\n",
    "# 2. overwrite entries in the existing state dict\n",
    "model_dict.update(pretrained_dict) \n",
    "##\n",
    "#   when starting from a model with a fully connected last layer rather than a convolutional layer\n",
    "# 3. load the new state dict\n",
    "#   need to use strict=False as the two models state model attributes do not agree exactly\n",
    "#   see https://pytorch.org/docs/master/_modules/torch/nn/modules/module.html#Module.load_state_dict\n",
    "\n",
    "model.load_state_dict(pretrained_dict,strict=False)\n",
    "\n"
   ]
  },
  {
   "cell_type": "code",
   "execution_count": 14,
   "metadata": {},
   "outputs": [],
   "source": [
    "##print('validation.dataset.tensors = ',validation.dataset.tensors)\n",
    "fig_size = plt.rcParams[\"figure.figsize\"]\n",
    "fig_size[0] = 10\n",
    "fig_size[1] = 4\n",
    "plt.rcParams[\"figure.figsize\"] = fig_size"
   ]
  },
  {
   "cell_type": "code",
   "execution_count": 15,
   "metadata": {
    "scrolled": false
   },
   "outputs": [
    {
     "name": "stdout",
     "output_type": "stream",
     "text": [
      "Loading data...\n",
      "pocaMx.shape =  (20000,)\n",
      "nEvts =  20000\n",
      "len(pocaMx[0]) =  211\n",
      "len(pocaMx[1]) =  21\n",
      "len(pocaMx[2]) =  20\n",
      "len(pocaMx[3]) =  198\n",
      "len(pocaMx[4]) =  233\n",
      "majorAxis.shape =  (20000, 3)\n",
      "minorAxis_1.shape =  (20000, 3)\n",
      "minorAxis_2.shape =  (20000, 3)\n",
      "have entered six_ellipsoid_parameters\n",
      "  \n",
      " \n",
      "  nEvts =  20000\n",
      " iEvt, nTrks =  0 211\n",
      " iEvt, nTrks =  1 21\n",
      " iEvt, nTrks =  2 20\n",
      " iEvt, nTrks =  3 198\n",
      " iEvt, nTrks =  4 233\n",
      " iEvt, nTrks =  5 85\n",
      " iEvt, nTrks =  6 223\n",
      " iEvt, nTrks =  7 425\n",
      " iEvt, nTrks =  8 252\n",
      " iEvt, nTrks =  9 169\n",
      "A.shape =  (20000,)\n",
      "A[iTrk][0] =  312.1509\n",
      "B[iTrk][0] =  312.14526\n",
      "C[iTrk][0] =  0.018625624\n",
      "D[iTrk][0] =  -0.003707775\n",
      "E[iTrk][0] =  0.7585639\n",
      "F[iTrk][0] =  1.5268729\n",
      "A[iTrk][0] =  307.0049\n",
      "B[iTrk][0] =  309.3697\n",
      "C[iTrk][0] =  16.298458\n",
      "D[iTrk][0] =  3.7850251\n",
      "E[iTrk][0] =  39.0255\n",
      "F[iTrk][0] =  -28.694317\n",
      "A[iTrk][0] =  311.72607\n",
      "B[iTrk][0] =  312.14993\n",
      "C[iTrk][0] =  0.86016846\n",
      "D[iTrk][0] =  0.03459918\n",
      "E[iTrk][0] =  11.524924\n",
      "F[iTrk][0] =  -0.93459\n",
      "A[iTrk][0] =  312.03\n",
      "B[iTrk][0] =  312.1198\n",
      "C[iTrk][0] =  0.31132916\n",
      "D[iTrk][0] =  0.06352115\n",
      "E[iTrk][0] =  6.1855507\n",
      "F[iTrk][0] =  -3.2027178\n",
      "A[iTrk][0] =  312.0758\n",
      "B[iTrk][0] =  312.14346\n",
      "C[iTrk][0] =  0.17242321\n",
      "D[iTrk][0] =  0.02671076\n",
      "E[iTrk][0] =  -4.8985863\n",
      "F[iTrk][0] =  1.7008059\n",
      "A[iTrk][0] =  312.1496\n",
      "B[iTrk][0] =  312.15186\n",
      "C[iTrk][0] =  0.0079896655\n",
      "D[iTrk][0] =  0.0016326695\n",
      "E[iTrk][0] =  0.98978716\n",
      "F[iTrk][0] =  -0.51698303\n",
      "A[iTrk][0] =  312.15152\n",
      "B[iTrk][0] =  312.14337\n",
      "C[iTrk][0] =  0.02129215\n",
      "D[iTrk][0] =  -0.0034102227\n",
      "E[iTrk][0] =  0.62326497\n",
      "F[iTrk][0] =  1.7130098\n",
      "A[iTrk][0] =  312.146\n",
      "B[iTrk][0] =  312.1519\n",
      "C[iTrk][0] =  0.015216089\n",
      "D[iTrk][0] =  0.0024184594\n",
      "E[iTrk][0] =  1.4515046\n",
      "F[iTrk][0] =  -0.5175251\n",
      "A[iTrk][0] =  312.1459\n",
      "B[iTrk][0] =  312.15268\n",
      "C[iTrk][0] =  0.013644187\n",
      "D[iTrk][0] =  0.00061224576\n",
      "E[iTrk][0] =  -1.4534992\n",
      "F[iTrk][0] =  0.12936354\n",
      "A[iTrk][0] =  311.7683\n",
      "B[iTrk][0] =  312.13577\n",
      "C[iTrk][0] =  0.80389833\n",
      "D[iTrk][0] =  -0.08082064\n",
      "E[iTrk][0] =  10.9404955\n",
      "F[iTrk][0] =  2.3001347\n",
      "len(X) =  20000\n",
      "len(Xlist) =  1\n",
      "Loaded dataAA/20K_POCA_kernel_evts_200926.h5 in 28.27 s\n",
      "outer loop X.shape =  (20000, 9, 600)\n",
      "Constructing 18000 event dataset took 0.06389 s\n",
      "x_t.shape =  torch.Size([18000, 9, 600])\n",
      "x_t.shape[0] =  18000\n",
      "x_t.shape[1] =  9\n",
      "x_t.shape =  torch.Size([18000, 9, 600])\n",
      "Loading data...\n",
      "pocaMx.shape =  (20000,)\n",
      "nEvts =  20000\n",
      "len(pocaMx[0]) =  211\n",
      "len(pocaMx[1]) =  21\n",
      "len(pocaMx[2]) =  20\n",
      "len(pocaMx[3]) =  198\n",
      "len(pocaMx[4]) =  233\n",
      "majorAxis.shape =  (20000, 3)\n",
      "minorAxis_1.shape =  (20000, 3)\n",
      "minorAxis_2.shape =  (20000, 3)\n",
      "have entered six_ellipsoid_parameters\n",
      "  \n",
      " \n",
      "  nEvts =  20000\n",
      " iEvt, nTrks =  0 211\n",
      " iEvt, nTrks =  1 21\n",
      " iEvt, nTrks =  2 20\n",
      " iEvt, nTrks =  3 198\n",
      " iEvt, nTrks =  4 233\n",
      " iEvt, nTrks =  5 85\n",
      " iEvt, nTrks =  6 223\n",
      " iEvt, nTrks =  7 425\n",
      " iEvt, nTrks =  8 252\n",
      " iEvt, nTrks =  9 169\n",
      "A.shape =  (20000,)\n",
      "A[iTrk][0] =  312.1509\n",
      "B[iTrk][0] =  312.14526\n",
      "C[iTrk][0] =  0.018625624\n",
      "D[iTrk][0] =  -0.003707775\n",
      "E[iTrk][0] =  0.7585639\n",
      "F[iTrk][0] =  1.5268729\n",
      "A[iTrk][0] =  307.0049\n",
      "B[iTrk][0] =  309.3697\n",
      "C[iTrk][0] =  16.298458\n",
      "D[iTrk][0] =  3.7850251\n",
      "E[iTrk][0] =  39.0255\n",
      "F[iTrk][0] =  -28.694317\n",
      "A[iTrk][0] =  311.72607\n",
      "B[iTrk][0] =  312.14993\n",
      "C[iTrk][0] =  0.86016846\n",
      "D[iTrk][0] =  0.03459918\n",
      "E[iTrk][0] =  11.524924\n",
      "F[iTrk][0] =  -0.93459\n",
      "A[iTrk][0] =  312.03\n",
      "B[iTrk][0] =  312.1198\n",
      "C[iTrk][0] =  0.31132916\n",
      "D[iTrk][0] =  0.06352115\n",
      "E[iTrk][0] =  6.1855507\n",
      "F[iTrk][0] =  -3.2027178\n",
      "A[iTrk][0] =  312.0758\n",
      "B[iTrk][0] =  312.14346\n",
      "C[iTrk][0] =  0.17242321\n",
      "D[iTrk][0] =  0.02671076\n",
      "E[iTrk][0] =  -4.8985863\n",
      "F[iTrk][0] =  1.7008059\n",
      "A[iTrk][0] =  312.1496\n",
      "B[iTrk][0] =  312.15186\n",
      "C[iTrk][0] =  0.0079896655\n",
      "D[iTrk][0] =  0.0016326695\n",
      "E[iTrk][0] =  0.98978716\n",
      "F[iTrk][0] =  -0.51698303\n",
      "A[iTrk][0] =  312.15152\n",
      "B[iTrk][0] =  312.14337\n",
      "C[iTrk][0] =  0.02129215\n",
      "D[iTrk][0] =  -0.0034102227\n",
      "E[iTrk][0] =  0.62326497\n",
      "F[iTrk][0] =  1.7130098\n",
      "A[iTrk][0] =  312.146\n",
      "B[iTrk][0] =  312.1519\n",
      "C[iTrk][0] =  0.015216089\n",
      "D[iTrk][0] =  0.0024184594\n",
      "E[iTrk][0] =  1.4515046\n",
      "F[iTrk][0] =  -0.5175251\n",
      "A[iTrk][0] =  312.1459\n",
      "B[iTrk][0] =  312.15268\n",
      "C[iTrk][0] =  0.013644187\n",
      "D[iTrk][0] =  0.00061224576\n",
      "E[iTrk][0] =  -1.4534992\n",
      "F[iTrk][0] =  0.12936354\n",
      "A[iTrk][0] =  311.7683\n",
      "B[iTrk][0] =  312.13577\n",
      "C[iTrk][0] =  0.80389833\n",
      "D[iTrk][0] =  -0.08082064\n",
      "E[iTrk][0] =  10.9404955\n",
      "F[iTrk][0] =  2.3001347\n",
      "len(X) =  20000\n",
      "len(Xlist) =  1\n",
      "Loaded dataAA/20K_POCA_kernel_evts_200926.h5 in 28.16 s\n",
      "outer loop X.shape =  (20000, 9, 600)\n",
      "Constructing 2000 event dataset took 0.01271 s\n",
      "x_t.shape =  torch.Size([2000, 9, 600])\n",
      "x_t.shape[0] =  2000\n",
      "x_t.shape[1] =  9\n",
      "x_t.shape =  torch.Size([2000, 9, 600])\n"
     ]
    }
   ],
   "source": [
    "\n",
    "## Training dataset. You can put as many files here as desired.\n",
    "\n",
    "##train_loader = collect_t2kde_data('/share/lazy/pv-finder/20k_evts_for_KDE_learning_200716.h5',\n",
    "train_loader = collect_t2kde_data('dataAA/20K_POCA_kernel_evts_200926.h5',\n",
    "##train_loader = collect_t2kde_data('/share/lazy/pv-finder/test_data_for_KDE_learning_BastilleDay20.h5',\n",
    "                            batch_size=batch_size,\n",
    "## if we are using a larger dataset (240K events, with the datasets above, and 11 GB  of GPU memory),\n",
    "## the dataset will overflow the GPU memory; device=device will allow the data to move back\n",
    "## and forth between the CPU and GPU memory. While this allows use of a larger dataset, it slows\n",
    "## down performance by about 10%.  So comment out when not needed.\n",
    "##                          device=device,\n",
    "                           slice = slice(None,18000)\n",
    "                           )\n",
    "                            \n",
    "# Validation dataset. You can slice to reduce the size.\n",
    "## mds no separate validation set yet,\n",
    "val_loader = collect_t2kde_data('dataAA/20K_POCA_kernel_evts_200926.h5',\n",
    "                            batch_size=batch_size,\n",
    "##                            device=device,\n",
    "                            slice = slice(18000,None)\n",
    "                           )\n"
   ]
  },
  {
   "cell_type": "code",
   "execution_count": 16,
   "metadata": {
    "scrolled": false
   },
   "outputs": [
    {
     "data": {
      "application/javascript": [
       "/* Put everything inside the global mpl namespace */\n",
       "window.mpl = {};\n",
       "\n",
       "\n",
       "mpl.get_websocket_type = function() {\n",
       "    if (typeof(WebSocket) !== 'undefined') {\n",
       "        return WebSocket;\n",
       "    } else if (typeof(MozWebSocket) !== 'undefined') {\n",
       "        return MozWebSocket;\n",
       "    } else {\n",
       "        alert('Your browser does not have WebSocket support. ' +\n",
       "              'Please try Chrome, Safari or Firefox ≥ 6. ' +\n",
       "              'Firefox 4 and 5 are also supported but you ' +\n",
       "              'have to enable WebSockets in about:config.');\n",
       "    };\n",
       "}\n",
       "\n",
       "mpl.figure = function(figure_id, websocket, ondownload, parent_element) {\n",
       "    this.id = figure_id;\n",
       "\n",
       "    this.ws = websocket;\n",
       "\n",
       "    this.supports_binary = (this.ws.binaryType != undefined);\n",
       "\n",
       "    if (!this.supports_binary) {\n",
       "        var warnings = document.getElementById(\"mpl-warnings\");\n",
       "        if (warnings) {\n",
       "            warnings.style.display = 'block';\n",
       "            warnings.textContent = (\n",
       "                \"This browser does not support binary websocket messages. \" +\n",
       "                    \"Performance may be slow.\");\n",
       "        }\n",
       "    }\n",
       "\n",
       "    this.imageObj = new Image();\n",
       "\n",
       "    this.context = undefined;\n",
       "    this.message = undefined;\n",
       "    this.canvas = undefined;\n",
       "    this.rubberband_canvas = undefined;\n",
       "    this.rubberband_context = undefined;\n",
       "    this.format_dropdown = undefined;\n",
       "\n",
       "    this.image_mode = 'full';\n",
       "\n",
       "    this.root = $('<div/>');\n",
       "    this._root_extra_style(this.root)\n",
       "    this.root.attr('style', 'display: inline-block');\n",
       "\n",
       "    $(parent_element).append(this.root);\n",
       "\n",
       "    this._init_header(this);\n",
       "    this._init_canvas(this);\n",
       "    this._init_toolbar(this);\n",
       "\n",
       "    var fig = this;\n",
       "\n",
       "    this.waiting = false;\n",
       "\n",
       "    this.ws.onopen =  function () {\n",
       "            fig.send_message(\"supports_binary\", {value: fig.supports_binary});\n",
       "            fig.send_message(\"send_image_mode\", {});\n",
       "            if (mpl.ratio != 1) {\n",
       "                fig.send_message(\"set_dpi_ratio\", {'dpi_ratio': mpl.ratio});\n",
       "            }\n",
       "            fig.send_message(\"refresh\", {});\n",
       "        }\n",
       "\n",
       "    this.imageObj.onload = function() {\n",
       "            if (fig.image_mode == 'full') {\n",
       "                // Full images could contain transparency (where diff images\n",
       "                // almost always do), so we need to clear the canvas so that\n",
       "                // there is no ghosting.\n",
       "                fig.context.clearRect(0, 0, fig.canvas.width, fig.canvas.height);\n",
       "            }\n",
       "            fig.context.drawImage(fig.imageObj, 0, 0);\n",
       "        };\n",
       "\n",
       "    this.imageObj.onunload = function() {\n",
       "        fig.ws.close();\n",
       "    }\n",
       "\n",
       "    this.ws.onmessage = this._make_on_message_function(this);\n",
       "\n",
       "    this.ondownload = ondownload;\n",
       "}\n",
       "\n",
       "mpl.figure.prototype._init_header = function() {\n",
       "    var titlebar = $(\n",
       "        '<div class=\"ui-dialog-titlebar ui-widget-header ui-corner-all ' +\n",
       "        'ui-helper-clearfix\"/>');\n",
       "    var titletext = $(\n",
       "        '<div class=\"ui-dialog-title\" style=\"width: 100%; ' +\n",
       "        'text-align: center; padding: 3px;\"/>');\n",
       "    titlebar.append(titletext)\n",
       "    this.root.append(titlebar);\n",
       "    this.header = titletext[0];\n",
       "}\n",
       "\n",
       "\n",
       "\n",
       "mpl.figure.prototype._canvas_extra_style = function(canvas_div) {\n",
       "\n",
       "}\n",
       "\n",
       "\n",
       "mpl.figure.prototype._root_extra_style = function(canvas_div) {\n",
       "\n",
       "}\n",
       "\n",
       "mpl.figure.prototype._init_canvas = function() {\n",
       "    var fig = this;\n",
       "\n",
       "    var canvas_div = $('<div/>');\n",
       "\n",
       "    canvas_div.attr('style', 'position: relative; clear: both; outline: 0');\n",
       "\n",
       "    function canvas_keyboard_event(event) {\n",
       "        return fig.key_event(event, event['data']);\n",
       "    }\n",
       "\n",
       "    canvas_div.keydown('key_press', canvas_keyboard_event);\n",
       "    canvas_div.keyup('key_release', canvas_keyboard_event);\n",
       "    this.canvas_div = canvas_div\n",
       "    this._canvas_extra_style(canvas_div)\n",
       "    this.root.append(canvas_div);\n",
       "\n",
       "    var canvas = $('<canvas/>');\n",
       "    canvas.addClass('mpl-canvas');\n",
       "    canvas.attr('style', \"left: 0; top: 0; z-index: 0; outline: 0\")\n",
       "\n",
       "    this.canvas = canvas[0];\n",
       "    this.context = canvas[0].getContext(\"2d\");\n",
       "\n",
       "    var backingStore = this.context.backingStorePixelRatio ||\n",
       "\tthis.context.webkitBackingStorePixelRatio ||\n",
       "\tthis.context.mozBackingStorePixelRatio ||\n",
       "\tthis.context.msBackingStorePixelRatio ||\n",
       "\tthis.context.oBackingStorePixelRatio ||\n",
       "\tthis.context.backingStorePixelRatio || 1;\n",
       "\n",
       "    mpl.ratio = (window.devicePixelRatio || 1) / backingStore;\n",
       "\n",
       "    var rubberband = $('<canvas/>');\n",
       "    rubberband.attr('style', \"position: absolute; left: 0; top: 0; z-index: 1;\")\n",
       "\n",
       "    var pass_mouse_events = true;\n",
       "\n",
       "    canvas_div.resizable({\n",
       "        start: function(event, ui) {\n",
       "            pass_mouse_events = false;\n",
       "        },\n",
       "        resize: function(event, ui) {\n",
       "            fig.request_resize(ui.size.width, ui.size.height);\n",
       "        },\n",
       "        stop: function(event, ui) {\n",
       "            pass_mouse_events = true;\n",
       "            fig.request_resize(ui.size.width, ui.size.height);\n",
       "        },\n",
       "    });\n",
       "\n",
       "    function mouse_event_fn(event) {\n",
       "        if (pass_mouse_events)\n",
       "            return fig.mouse_event(event, event['data']);\n",
       "    }\n",
       "\n",
       "    rubberband.mousedown('button_press', mouse_event_fn);\n",
       "    rubberband.mouseup('button_release', mouse_event_fn);\n",
       "    // Throttle sequential mouse events to 1 every 20ms.\n",
       "    rubberband.mousemove('motion_notify', mouse_event_fn);\n",
       "\n",
       "    rubberband.mouseenter('figure_enter', mouse_event_fn);\n",
       "    rubberband.mouseleave('figure_leave', mouse_event_fn);\n",
       "\n",
       "    canvas_div.on(\"wheel\", function (event) {\n",
       "        event = event.originalEvent;\n",
       "        event['data'] = 'scroll'\n",
       "        if (event.deltaY < 0) {\n",
       "            event.step = 1;\n",
       "        } else {\n",
       "            event.step = -1;\n",
       "        }\n",
       "        mouse_event_fn(event);\n",
       "    });\n",
       "\n",
       "    canvas_div.append(canvas);\n",
       "    canvas_div.append(rubberband);\n",
       "\n",
       "    this.rubberband = rubberband;\n",
       "    this.rubberband_canvas = rubberband[0];\n",
       "    this.rubberband_context = rubberband[0].getContext(\"2d\");\n",
       "    this.rubberband_context.strokeStyle = \"#000000\";\n",
       "\n",
       "    this._resize_canvas = function(width, height) {\n",
       "        // Keep the size of the canvas, canvas container, and rubber band\n",
       "        // canvas in synch.\n",
       "        canvas_div.css('width', width)\n",
       "        canvas_div.css('height', height)\n",
       "\n",
       "        canvas.attr('width', width * mpl.ratio);\n",
       "        canvas.attr('height', height * mpl.ratio);\n",
       "        canvas.attr('style', 'width: ' + width + 'px; height: ' + height + 'px;');\n",
       "\n",
       "        rubberband.attr('width', width);\n",
       "        rubberband.attr('height', height);\n",
       "    }\n",
       "\n",
       "    // Set the figure to an initial 600x600px, this will subsequently be updated\n",
       "    // upon first draw.\n",
       "    this._resize_canvas(600, 600);\n",
       "\n",
       "    // Disable right mouse context menu.\n",
       "    $(this.rubberband_canvas).bind(\"contextmenu\",function(e){\n",
       "        return false;\n",
       "    });\n",
       "\n",
       "    function set_focus () {\n",
       "        canvas.focus();\n",
       "        canvas_div.focus();\n",
       "    }\n",
       "\n",
       "    window.setTimeout(set_focus, 100);\n",
       "}\n",
       "\n",
       "mpl.figure.prototype._init_toolbar = function() {\n",
       "    var fig = this;\n",
       "\n",
       "    var nav_element = $('<div/>');\n",
       "    nav_element.attr('style', 'width: 100%');\n",
       "    this.root.append(nav_element);\n",
       "\n",
       "    // Define a callback function for later on.\n",
       "    function toolbar_event(event) {\n",
       "        return fig.toolbar_button_onclick(event['data']);\n",
       "    }\n",
       "    function toolbar_mouse_event(event) {\n",
       "        return fig.toolbar_button_onmouseover(event['data']);\n",
       "    }\n",
       "\n",
       "    for(var toolbar_ind in mpl.toolbar_items) {\n",
       "        var name = mpl.toolbar_items[toolbar_ind][0];\n",
       "        var tooltip = mpl.toolbar_items[toolbar_ind][1];\n",
       "        var image = mpl.toolbar_items[toolbar_ind][2];\n",
       "        var method_name = mpl.toolbar_items[toolbar_ind][3];\n",
       "\n",
       "        if (!name) {\n",
       "            // put a spacer in here.\n",
       "            continue;\n",
       "        }\n",
       "        var button = $('<button/>');\n",
       "        button.addClass('ui-button ui-widget ui-state-default ui-corner-all ' +\n",
       "                        'ui-button-icon-only');\n",
       "        button.attr('role', 'button');\n",
       "        button.attr('aria-disabled', 'false');\n",
       "        button.click(method_name, toolbar_event);\n",
       "        button.mouseover(tooltip, toolbar_mouse_event);\n",
       "\n",
       "        var icon_img = $('<span/>');\n",
       "        icon_img.addClass('ui-button-icon-primary ui-icon');\n",
       "        icon_img.addClass(image);\n",
       "        icon_img.addClass('ui-corner-all');\n",
       "\n",
       "        var tooltip_span = $('<span/>');\n",
       "        tooltip_span.addClass('ui-button-text');\n",
       "        tooltip_span.html(tooltip);\n",
       "\n",
       "        button.append(icon_img);\n",
       "        button.append(tooltip_span);\n",
       "\n",
       "        nav_element.append(button);\n",
       "    }\n",
       "\n",
       "    var fmt_picker_span = $('<span/>');\n",
       "\n",
       "    var fmt_picker = $('<select/>');\n",
       "    fmt_picker.addClass('mpl-toolbar-option ui-widget ui-widget-content');\n",
       "    fmt_picker_span.append(fmt_picker);\n",
       "    nav_element.append(fmt_picker_span);\n",
       "    this.format_dropdown = fmt_picker[0];\n",
       "\n",
       "    for (var ind in mpl.extensions) {\n",
       "        var fmt = mpl.extensions[ind];\n",
       "        var option = $(\n",
       "            '<option/>', {selected: fmt === mpl.default_extension}).html(fmt);\n",
       "        fmt_picker.append(option);\n",
       "    }\n",
       "\n",
       "    // Add hover states to the ui-buttons\n",
       "    $( \".ui-button\" ).hover(\n",
       "        function() { $(this).addClass(\"ui-state-hover\");},\n",
       "        function() { $(this).removeClass(\"ui-state-hover\");}\n",
       "    );\n",
       "\n",
       "    var status_bar = $('<span class=\"mpl-message\"/>');\n",
       "    nav_element.append(status_bar);\n",
       "    this.message = status_bar[0];\n",
       "}\n",
       "\n",
       "mpl.figure.prototype.request_resize = function(x_pixels, y_pixels) {\n",
       "    // Request matplotlib to resize the figure. Matplotlib will then trigger a resize in the client,\n",
       "    // which will in turn request a refresh of the image.\n",
       "    this.send_message('resize', {'width': x_pixels, 'height': y_pixels});\n",
       "}\n",
       "\n",
       "mpl.figure.prototype.send_message = function(type, properties) {\n",
       "    properties['type'] = type;\n",
       "    properties['figure_id'] = this.id;\n",
       "    this.ws.send(JSON.stringify(properties));\n",
       "}\n",
       "\n",
       "mpl.figure.prototype.send_draw_message = function() {\n",
       "    if (!this.waiting) {\n",
       "        this.waiting = true;\n",
       "        this.ws.send(JSON.stringify({type: \"draw\", figure_id: this.id}));\n",
       "    }\n",
       "}\n",
       "\n",
       "\n",
       "mpl.figure.prototype.handle_save = function(fig, msg) {\n",
       "    var format_dropdown = fig.format_dropdown;\n",
       "    var format = format_dropdown.options[format_dropdown.selectedIndex].value;\n",
       "    fig.ondownload(fig, format);\n",
       "}\n",
       "\n",
       "\n",
       "mpl.figure.prototype.handle_resize = function(fig, msg) {\n",
       "    var size = msg['size'];\n",
       "    if (size[0] != fig.canvas.width || size[1] != fig.canvas.height) {\n",
       "        fig._resize_canvas(size[0], size[1]);\n",
       "        fig.send_message(\"refresh\", {});\n",
       "    };\n",
       "}\n",
       "\n",
       "mpl.figure.prototype.handle_rubberband = function(fig, msg) {\n",
       "    var x0 = msg['x0'] / mpl.ratio;\n",
       "    var y0 = (fig.canvas.height - msg['y0']) / mpl.ratio;\n",
       "    var x1 = msg['x1'] / mpl.ratio;\n",
       "    var y1 = (fig.canvas.height - msg['y1']) / mpl.ratio;\n",
       "    x0 = Math.floor(x0) + 0.5;\n",
       "    y0 = Math.floor(y0) + 0.5;\n",
       "    x1 = Math.floor(x1) + 0.5;\n",
       "    y1 = Math.floor(y1) + 0.5;\n",
       "    var min_x = Math.min(x0, x1);\n",
       "    var min_y = Math.min(y0, y1);\n",
       "    var width = Math.abs(x1 - x0);\n",
       "    var height = Math.abs(y1 - y0);\n",
       "\n",
       "    fig.rubberband_context.clearRect(\n",
       "        0, 0, fig.canvas.width / mpl.ratio, fig.canvas.height / mpl.ratio);\n",
       "\n",
       "    fig.rubberband_context.strokeRect(min_x, min_y, width, height);\n",
       "}\n",
       "\n",
       "mpl.figure.prototype.handle_figure_label = function(fig, msg) {\n",
       "    // Updates the figure title.\n",
       "    fig.header.textContent = msg['label'];\n",
       "}\n",
       "\n",
       "mpl.figure.prototype.handle_cursor = function(fig, msg) {\n",
       "    var cursor = msg['cursor'];\n",
       "    switch(cursor)\n",
       "    {\n",
       "    case 0:\n",
       "        cursor = 'pointer';\n",
       "        break;\n",
       "    case 1:\n",
       "        cursor = 'default';\n",
       "        break;\n",
       "    case 2:\n",
       "        cursor = 'crosshair';\n",
       "        break;\n",
       "    case 3:\n",
       "        cursor = 'move';\n",
       "        break;\n",
       "    }\n",
       "    fig.rubberband_canvas.style.cursor = cursor;\n",
       "}\n",
       "\n",
       "mpl.figure.prototype.handle_message = function(fig, msg) {\n",
       "    fig.message.textContent = msg['message'];\n",
       "}\n",
       "\n",
       "mpl.figure.prototype.handle_draw = function(fig, msg) {\n",
       "    // Request the server to send over a new figure.\n",
       "    fig.send_draw_message();\n",
       "}\n",
       "\n",
       "mpl.figure.prototype.handle_image_mode = function(fig, msg) {\n",
       "    fig.image_mode = msg['mode'];\n",
       "}\n",
       "\n",
       "mpl.figure.prototype.updated_canvas_event = function() {\n",
       "    // Called whenever the canvas gets updated.\n",
       "    this.send_message(\"ack\", {});\n",
       "}\n",
       "\n",
       "// A function to construct a web socket function for onmessage handling.\n",
       "// Called in the figure constructor.\n",
       "mpl.figure.prototype._make_on_message_function = function(fig) {\n",
       "    return function socket_on_message(evt) {\n",
       "        if (evt.data instanceof Blob) {\n",
       "            /* FIXME: We get \"Resource interpreted as Image but\n",
       "             * transferred with MIME type text/plain:\" errors on\n",
       "             * Chrome.  But how to set the MIME type?  It doesn't seem\n",
       "             * to be part of the websocket stream */\n",
       "            evt.data.type = \"image/png\";\n",
       "\n",
       "            /* Free the memory for the previous frames */\n",
       "            if (fig.imageObj.src) {\n",
       "                (window.URL || window.webkitURL).revokeObjectURL(\n",
       "                    fig.imageObj.src);\n",
       "            }\n",
       "\n",
       "            fig.imageObj.src = (window.URL || window.webkitURL).createObjectURL(\n",
       "                evt.data);\n",
       "            fig.updated_canvas_event();\n",
       "            fig.waiting = false;\n",
       "            return;\n",
       "        }\n",
       "        else if (typeof evt.data === 'string' && evt.data.slice(0, 21) == \"data:image/png;base64\") {\n",
       "            fig.imageObj.src = evt.data;\n",
       "            fig.updated_canvas_event();\n",
       "            fig.waiting = false;\n",
       "            return;\n",
       "        }\n",
       "\n",
       "        var msg = JSON.parse(evt.data);\n",
       "        var msg_type = msg['type'];\n",
       "\n",
       "        // Call the  \"handle_{type}\" callback, which takes\n",
       "        // the figure and JSON message as its only arguments.\n",
       "        try {\n",
       "            var callback = fig[\"handle_\" + msg_type];\n",
       "        } catch (e) {\n",
       "            console.log(\"No handler for the '\" + msg_type + \"' message type: \", msg);\n",
       "            return;\n",
       "        }\n",
       "\n",
       "        if (callback) {\n",
       "            try {\n",
       "                // console.log(\"Handling '\" + msg_type + \"' message: \", msg);\n",
       "                callback(fig, msg);\n",
       "            } catch (e) {\n",
       "                console.log(\"Exception inside the 'handler_\" + msg_type + \"' callback:\", e, e.stack, msg);\n",
       "            }\n",
       "        }\n",
       "    };\n",
       "}\n",
       "\n",
       "// from http://stackoverflow.com/questions/1114465/getting-mouse-location-in-canvas\n",
       "mpl.findpos = function(e) {\n",
       "    //this section is from http://www.quirksmode.org/js/events_properties.html\n",
       "    var targ;\n",
       "    if (!e)\n",
       "        e = window.event;\n",
       "    if (e.target)\n",
       "        targ = e.target;\n",
       "    else if (e.srcElement)\n",
       "        targ = e.srcElement;\n",
       "    if (targ.nodeType == 3) // defeat Safari bug\n",
       "        targ = targ.parentNode;\n",
       "\n",
       "    // jQuery normalizes the pageX and pageY\n",
       "    // pageX,Y are the mouse positions relative to the document\n",
       "    // offset() returns the position of the element relative to the document\n",
       "    var x = e.pageX - $(targ).offset().left;\n",
       "    var y = e.pageY - $(targ).offset().top;\n",
       "\n",
       "    return {\"x\": x, \"y\": y};\n",
       "};\n",
       "\n",
       "/*\n",
       " * return a copy of an object with only non-object keys\n",
       " * we need this to avoid circular references\n",
       " * http://stackoverflow.com/a/24161582/3208463\n",
       " */\n",
       "function simpleKeys (original) {\n",
       "  return Object.keys(original).reduce(function (obj, key) {\n",
       "    if (typeof original[key] !== 'object')\n",
       "        obj[key] = original[key]\n",
       "    return obj;\n",
       "  }, {});\n",
       "}\n",
       "\n",
       "mpl.figure.prototype.mouse_event = function(event, name) {\n",
       "    var canvas_pos = mpl.findpos(event)\n",
       "\n",
       "    if (name === 'button_press')\n",
       "    {\n",
       "        this.canvas.focus();\n",
       "        this.canvas_div.focus();\n",
       "    }\n",
       "\n",
       "    var x = canvas_pos.x * mpl.ratio;\n",
       "    var y = canvas_pos.y * mpl.ratio;\n",
       "\n",
       "    this.send_message(name, {x: x, y: y, button: event.button,\n",
       "                             step: event.step,\n",
       "                             guiEvent: simpleKeys(event)});\n",
       "\n",
       "    /* This prevents the web browser from automatically changing to\n",
       "     * the text insertion cursor when the button is pressed.  We want\n",
       "     * to control all of the cursor setting manually through the\n",
       "     * 'cursor' event from matplotlib */\n",
       "    event.preventDefault();\n",
       "    return false;\n",
       "}\n",
       "\n",
       "mpl.figure.prototype._key_event_extra = function(event, name) {\n",
       "    // Handle any extra behaviour associated with a key event\n",
       "}\n",
       "\n",
       "mpl.figure.prototype.key_event = function(event, name) {\n",
       "\n",
       "    // Prevent repeat events\n",
       "    if (name == 'key_press')\n",
       "    {\n",
       "        if (event.which === this._key)\n",
       "            return;\n",
       "        else\n",
       "            this._key = event.which;\n",
       "    }\n",
       "    if (name == 'key_release')\n",
       "        this._key = null;\n",
       "\n",
       "    var value = '';\n",
       "    if (event.ctrlKey && event.which != 17)\n",
       "        value += \"ctrl+\";\n",
       "    if (event.altKey && event.which != 18)\n",
       "        value += \"alt+\";\n",
       "    if (event.shiftKey && event.which != 16)\n",
       "        value += \"shift+\";\n",
       "\n",
       "    value += 'k';\n",
       "    value += event.which.toString();\n",
       "\n",
       "    this._key_event_extra(event, name);\n",
       "\n",
       "    this.send_message(name, {key: value,\n",
       "                             guiEvent: simpleKeys(event)});\n",
       "    return false;\n",
       "}\n",
       "\n",
       "mpl.figure.prototype.toolbar_button_onclick = function(name) {\n",
       "    if (name == 'download') {\n",
       "        this.handle_save(this, null);\n",
       "    } else {\n",
       "        this.send_message(\"toolbar_button\", {name: name});\n",
       "    }\n",
       "};\n",
       "\n",
       "mpl.figure.prototype.toolbar_button_onmouseover = function(tooltip) {\n",
       "    this.message.textContent = tooltip;\n",
       "};\n",
       "mpl.toolbar_items = [[\"Home\", \"Reset original view\", \"fa fa-home icon-home\", \"home\"], [\"Back\", \"Back to previous view\", \"fa fa-arrow-left icon-arrow-left\", \"back\"], [\"Forward\", \"Forward to next view\", \"fa fa-arrow-right icon-arrow-right\", \"forward\"], [\"\", \"\", \"\", \"\"], [\"Pan\", \"Pan axes with left mouse, zoom with right\", \"fa fa-arrows icon-move\", \"pan\"], [\"Zoom\", \"Zoom to rectangle\", \"fa fa-square-o icon-check-empty\", \"zoom\"], [\"\", \"\", \"\", \"\"], [\"Download\", \"Download plot\", \"fa fa-floppy-o icon-save\", \"download\"]];\n",
       "\n",
       "mpl.extensions = [\"eps\", \"jpeg\", \"pdf\", \"png\", \"ps\", \"raw\", \"svg\", \"tif\"];\n",
       "\n",
       "mpl.default_extension = \"png\";var comm_websocket_adapter = function(comm) {\n",
       "    // Create a \"websocket\"-like object which calls the given IPython comm\n",
       "    // object with the appropriate methods. Currently this is a non binary\n",
       "    // socket, so there is still some room for performance tuning.\n",
       "    var ws = {};\n",
       "\n",
       "    ws.close = function() {\n",
       "        comm.close()\n",
       "    };\n",
       "    ws.send = function(m) {\n",
       "        //console.log('sending', m);\n",
       "        comm.send(m);\n",
       "    };\n",
       "    // Register the callback with on_msg.\n",
       "    comm.on_msg(function(msg) {\n",
       "        //console.log('receiving', msg['content']['data'], msg);\n",
       "        // Pass the mpl event to the overridden (by mpl) onmessage function.\n",
       "        ws.onmessage(msg['content']['data'])\n",
       "    });\n",
       "    return ws;\n",
       "}\n",
       "\n",
       "mpl.mpl_figure_comm = function(comm, msg) {\n",
       "    // This is the function which gets called when the mpl process\n",
       "    // starts-up an IPython Comm through the \"matplotlib\" channel.\n",
       "\n",
       "    var id = msg.content.data.id;\n",
       "    // Get hold of the div created by the display call when the Comm\n",
       "    // socket was opened in Python.\n",
       "    var element = $(\"#\" + id);\n",
       "    var ws_proxy = comm_websocket_adapter(comm)\n",
       "\n",
       "    function ondownload(figure, format) {\n",
       "        window.open(figure.imageObj.src);\n",
       "    }\n",
       "\n",
       "    var fig = new mpl.figure(id, ws_proxy,\n",
       "                           ondownload,\n",
       "                           element.get(0));\n",
       "\n",
       "    // Call onopen now - mpl needs it, as it is assuming we've passed it a real\n",
       "    // web socket which is closed, not our websocket->open comm proxy.\n",
       "    ws_proxy.onopen();\n",
       "\n",
       "    fig.parent_element = element.get(0);\n",
       "    fig.cell_info = mpl.find_output_cell(\"<div id='\" + id + \"'></div>\");\n",
       "    if (!fig.cell_info) {\n",
       "        console.error(\"Failed to find cell for figure\", id, fig);\n",
       "        return;\n",
       "    }\n",
       "\n",
       "    var output_index = fig.cell_info[2]\n",
       "    var cell = fig.cell_info[0];\n",
       "\n",
       "};\n",
       "\n",
       "mpl.figure.prototype.handle_close = function(fig, msg) {\n",
       "    var width = fig.canvas.width/mpl.ratio\n",
       "    fig.root.unbind('remove')\n",
       "\n",
       "    // Update the output cell to use the data from the current canvas.\n",
       "    fig.push_to_output();\n",
       "    var dataURL = fig.canvas.toDataURL();\n",
       "    // Re-enable the keyboard manager in IPython - without this line, in FF,\n",
       "    // the notebook keyboard shortcuts fail.\n",
       "    IPython.keyboard_manager.enable()\n",
       "    $(fig.parent_element).html('<img src=\"' + dataURL + '\" width=\"' + width + '\">');\n",
       "    fig.close_ws(fig, msg);\n",
       "}\n",
       "\n",
       "mpl.figure.prototype.close_ws = function(fig, msg){\n",
       "    fig.send_message('closing', msg);\n",
       "    // fig.ws.close()\n",
       "}\n",
       "\n",
       "mpl.figure.prototype.push_to_output = function(remove_interactive) {\n",
       "    // Turn the data on the canvas into data in the output cell.\n",
       "    var width = this.canvas.width/mpl.ratio\n",
       "    var dataURL = this.canvas.toDataURL();\n",
       "    this.cell_info[1]['text/html'] = '<img src=\"' + dataURL + '\" width=\"' + width + '\">';\n",
       "}\n",
       "\n",
       "mpl.figure.prototype.updated_canvas_event = function() {\n",
       "    // Tell IPython that the notebook contents must change.\n",
       "    IPython.notebook.set_dirty(true);\n",
       "    this.send_message(\"ack\", {});\n",
       "    var fig = this;\n",
       "    // Wait a second, then push the new image to the DOM so\n",
       "    // that it is saved nicely (might be nice to debounce this).\n",
       "    setTimeout(function () { fig.push_to_output() }, 1000);\n",
       "}\n",
       "\n",
       "mpl.figure.prototype._init_toolbar = function() {\n",
       "    var fig = this;\n",
       "\n",
       "    var nav_element = $('<div/>');\n",
       "    nav_element.attr('style', 'width: 100%');\n",
       "    this.root.append(nav_element);\n",
       "\n",
       "    // Define a callback function for later on.\n",
       "    function toolbar_event(event) {\n",
       "        return fig.toolbar_button_onclick(event['data']);\n",
       "    }\n",
       "    function toolbar_mouse_event(event) {\n",
       "        return fig.toolbar_button_onmouseover(event['data']);\n",
       "    }\n",
       "\n",
       "    for(var toolbar_ind in mpl.toolbar_items){\n",
       "        var name = mpl.toolbar_items[toolbar_ind][0];\n",
       "        var tooltip = mpl.toolbar_items[toolbar_ind][1];\n",
       "        var image = mpl.toolbar_items[toolbar_ind][2];\n",
       "        var method_name = mpl.toolbar_items[toolbar_ind][3];\n",
       "\n",
       "        if (!name) { continue; };\n",
       "\n",
       "        var button = $('<button class=\"btn btn-default\" href=\"#\" title=\"' + name + '\"><i class=\"fa ' + image + ' fa-lg\"></i></button>');\n",
       "        button.click(method_name, toolbar_event);\n",
       "        button.mouseover(tooltip, toolbar_mouse_event);\n",
       "        nav_element.append(button);\n",
       "    }\n",
       "\n",
       "    // Add the status bar.\n",
       "    var status_bar = $('<span class=\"mpl-message\" style=\"text-align:right; float: right;\"/>');\n",
       "    nav_element.append(status_bar);\n",
       "    this.message = status_bar[0];\n",
       "\n",
       "    // Add the close button to the window.\n",
       "    var buttongrp = $('<div class=\"btn-group inline pull-right\"></div>');\n",
       "    var button = $('<button class=\"btn btn-mini btn-primary\" href=\"#\" title=\"Stop Interaction\"><i class=\"fa fa-power-off icon-remove icon-large\"></i></button>');\n",
       "    button.click(function (evt) { fig.handle_close(fig, {}); } );\n",
       "    button.mouseover('Stop Interaction', toolbar_mouse_event);\n",
       "    buttongrp.append(button);\n",
       "    var titlebar = this.root.find($('.ui-dialog-titlebar'));\n",
       "    titlebar.prepend(buttongrp);\n",
       "}\n",
       "\n",
       "mpl.figure.prototype._root_extra_style = function(el){\n",
       "    var fig = this\n",
       "    el.on(\"remove\", function(){\n",
       "\tfig.close_ws(fig, {});\n",
       "    });\n",
       "}\n",
       "\n",
       "mpl.figure.prototype._canvas_extra_style = function(el){\n",
       "    // this is important to make the div 'focusable\n",
       "    el.attr('tabindex', 0)\n",
       "    // reach out to IPython and tell the keyboard manager to turn it's self\n",
       "    // off when our div gets focus\n",
       "\n",
       "    // location in version 3\n",
       "    if (IPython.notebook.keyboard_manager) {\n",
       "        IPython.notebook.keyboard_manager.register_events(el);\n",
       "    }\n",
       "    else {\n",
       "        // location in version 2\n",
       "        IPython.keyboard_manager.register_events(el);\n",
       "    }\n",
       "\n",
       "}\n",
       "\n",
       "mpl.figure.prototype._key_event_extra = function(event, name) {\n",
       "    var manager = IPython.notebook.keyboard_manager;\n",
       "    if (!manager)\n",
       "        manager = IPython.keyboard_manager;\n",
       "\n",
       "    // Check for shift+enter\n",
       "    if (event.shiftKey && event.which == 13) {\n",
       "        this.canvas_div.blur();\n",
       "        // select the cell after this one\n",
       "        var index = IPython.notebook.find_cell_index(this.cell_info[0]);\n",
       "        IPython.notebook.select(index + 1);\n",
       "    }\n",
       "}\n",
       "\n",
       "mpl.figure.prototype.handle_save = function(fig, msg) {\n",
       "    fig.ondownload(fig, null);\n",
       "}\n",
       "\n",
       "\n",
       "mpl.find_output_cell = function(html_output) {\n",
       "    // Return the cell and output element which can be found *uniquely* in the notebook.\n",
       "    // Note - this is a bit hacky, but it is done because the \"notebook_saving.Notebook\"\n",
       "    // IPython event is triggered only after the cells have been serialised, which for\n",
       "    // our purposes (turning an active figure into a static one), is too late.\n",
       "    var cells = IPython.notebook.get_cells();\n",
       "    var ncells = cells.length;\n",
       "    for (var i=0; i<ncells; i++) {\n",
       "        var cell = cells[i];\n",
       "        if (cell.cell_type === 'code'){\n",
       "            for (var j=0; j<cell.output_area.outputs.length; j++) {\n",
       "                var data = cell.output_area.outputs[j];\n",
       "                if (data.data) {\n",
       "                    // IPython >= 3 moved mimebundle to data attribute of output\n",
       "                    data = data.data;\n",
       "                }\n",
       "                if (data['text/html'] == html_output) {\n",
       "                    return [cell, data, j];\n",
       "                }\n",
       "            }\n",
       "        }\n",
       "    }\n",
       "}\n",
       "\n",
       "// Register the function which deals with the matplotlib target/channel.\n",
       "// The kernel may be null if the page has been refreshed.\n",
       "if (IPython.notebook.kernel != null) {\n",
       "    IPython.notebook.kernel.comm_manager.register_target('matplotlib', mpl.mpl_figure_comm);\n",
       "}\n"
      ],
      "text/plain": [
       "<IPython.core.display.Javascript object>"
      ]
     },
     "metadata": {},
     "output_type": "display_data"
    },
    {
     "data": {
      "text/html": [
       "<img src=\"data:image/png;base64,iVBORw0KGgoAAAANSUhEUgAABLAAAAJYCAYAAABy5h8aAAAgAElEQVR4nOzdeXxUVZ7//xs2wYVF7REZmaCAe+MgtmL3rxs3WsSesZ2Rxp7fTNOCKL3aik4AlSjpBiUugK3iBo6GRbFbkE2SAAE1gIiKSDQxEGwEIaKIISyVSt7fP4rKrVuVqrpVuVV1b/J6Ph7nodxby6mqpM7nvnPuuYYAAAAAAAAAFzMy3QEAAAAAAAAgFgIsAAAAAAAAuBoBFgAAAAAAAFyNAAsAAAAAAACuRoAFAAAAAAAAVyPAAgAAAAAAgKsRYAEAAAAAAMDVCLAAAAAAAADgagRYAAAAAAAAcDUCLAAAAAAAALgaARYAAAAAAABcjQALAAAAAAAArkaABQAAAAAAAFcjwAIAAAAAAICrEWABAAAAAADA1QiwAAAAAAAA4GoEWA7av3+/Fi5cqE2bNunjjz+m0Wg0Gq3Vtk2bNmnhwoXav39/podnRFFVVaXx48eroKBACxcupNFoNBqtVbeCggKNHz9eVVVVmR6iEQUBloMWLlwowzBoNBqNRqMdawsXLsz08Iwoxo8fn/GfDxqNRqPR3NbGjx+f6SEaURBgOWjTpk0yjECxnum/fNNoNBqNlskW/KPOpk2bMj08I4qCgoLGQj3Tf/Wm0Wg0Gi3TLfiHnYKCgkwP0YiCAMtBH3/8sQzD0Mcff5zprgAAkFGMie63cOHCxj+8AQDQ2jEuuh8BloMo1gEACGBMdD8KdQAATIyL7keA5SCKdQAAAhgT3Y9CHQAAE+Oi+xFgOYhiHQCAAMZE96NQBwDAxLjofgRYDqJYBwAggDHR/SjUAQAwMS66HwGWgyjWAXhVXV2dqqurtX37dm3bto1Gi9q2b9+u6upq1dXVxfyZYkx0Pwp1APAG6rTU1y0S46IXEGA5iGIdgBc1NDSoqqpKZWVlKi8vz3ihQXN3Ky8vV1lZmXbs2KGGhoaoP1eMie5HoQ4A7kedlp66RWJc9AICLAdRrAPwogMHDqisrEy7du2KO7ADDQ0N2rVrl8rKynTgwIGot2NMdD8KdQBwP+q05rFbt0iMi15AgOUginUAXrRz506VlZXZmloNSIFTGcrKyrRz586ot2FMdD8KdQBwP+q05rNTt0iMi15AgOUginUAXrR9+3ZVVFRkuhvwmIqKCm3fvj3qfsZE96NQBwD3o05zRry6RWJc9AICLAdRrAPwom3btqmysjLT3YDHVFZWatu2bVH3Mya6H4U6ALgfdZoz4tUtEuOiFxBgOYhiHYAXBRe5BBIR7+eGMdH9KNQBwP2o05xh531kXHQ/AiwHUawD8CIKIySDAMv7KNQBwP2o05xBgNUyEGA5iGIdgBelqjDy+etVWrlPy7fsVmnlPvn89Y4/RyyGYdhqq1evbtbz5ObmyjBa33BKgOV9FOoA4H4pq9N80urV0t/+Fvivz+f4U9gye/ZsW3Xa119/reHDh+t73/ueDMPQDTfcIEmqqqrS0KFD1a1bNxmGoTvuuKPJ5yHAahlaX8WdQhTrALzI6cLI56/X9OIKDcgrVHbOksZ2SV6RphdXpC3IWrdunaUNHTpUnTp1itge75LK8ezcuVPr1q1zqNfeQYDlfRTqAOB+jtdpPmnSJOm00yTDMFv37oHt6Q6yggHW7NmzI2q00DrtT3/6kzp06KCCggKtW7dO5eXlkqSf//znOuWUU/T6669r3bp12rFjR5PPQ4DVMhBgOYhiHYAXOVkY+fz1+vWsDcrOWaJeIeFV6L9vmf1u2mdjSdKIESN0wgknxL1dbW1tGnrjfQRY3kehDgDu52id5pOGDg0EVllZ1gAr+O/rr09viBUMsDZu3Bjzdtdcc43OO++8iO19+vTRddddF/d5CLBaBgIsB1GsA/AiJwuj6cUVltAqWptRnP7LQTcVYA0aNEgXXHCB1qxZo8svv1ydOnXS8OHDJUnz58/X4MGD1b17d3Xs2FHnnnuucnJydPDgQctjNHUKYXZ2tq6//notX75c/fv3V8eOHXXOOefohRdeSO2LTCMCLO+jUAcA93OyTps0yRpaRWt5eY48nS3xAqyqqqqopxY2tb2qqqrJxyHAahkIsBxEsQ7Ai5wqjHz+eg3IK4yYeRXeeh07nTDds7CiBVgnn3yyevbsqSeeeEKrV6/WmjVrJEl5eXl6/PHHtXTpUpWUlGjmzJk688wzdeWVV1oeI1qAdcYZZ+j888/XSy+9pBUrVmjYsGEyDKPx8b2OAMv7KNQBwP0cq9N8gdMGw2dehbesrMDphOmahRUMsNavX6+6ujpL8/v9OnLkiNatW6f+/fvrrLPOspxauG7dOnXv3l0/+tGPGrcfOXKkyechwGoZCLAcRLEOwIuiDegPvPGxfjGz1HYb8vgaW7Ovgm3I42sSevwH3mjed2u0AMswDK1cuTLmfRsaGlRXV6c1a9bIMAxt3ry5cV+0AKtjx476/PPPG7cdPnxYJ598sm6//fZmvQ63IMDyPgp1AHC/WOPtHXdIgwbZaxddZG/2VbBddJH9xx40KNCXZMRaxL1t27aNtwvOmg8XnPUeDwFWy0CA5SCKdQBeFG1A/8XM0oQCqVS3X8wsbdbrjBZgdevWLer78stf/lKnnXaasrKyLAXV/PnzG28XLcAaOHBgxGMOHDhQQ4YMadbrcAsCLO+jUAcA94s13g4alFgolco2aFByry8YYL300kvauHGjpb333nshr5UACwRYjqJYB+BFrX0G1vnnnx9x25qaGvXo0UNnnXWWnnvuOa1Zs0YbN27U3//+98Yr5QTFWgMr3KBBgzQo2QrPZQiwvI9CHQDcr7XMwIq3iDsBFiQCLEdRrAPwota+BlZTxdCiRYtkGIZKSkos24uKigiwjiHA8j4KdQBwv9ayBhYBFuwgwHIQxToAL+IqhJHF0BtvvCHDMLRu3TrL9ptuuokA6xgCLO+jUAcA92vtVyEMIsCCRIDlKIp1AF7kZGHk89frltnvNs60Cp95lZ2zRLfMfjfts6+kxAKsffv2qVu3brrooov097//XYsXL9bNN9+svn37EmAdQ4DlfRTqAOB+jtZpPun6682ZVuEzrwwjsD9ds68kM8CaPXt245UEQ1t1dbUkAiwEEGA5iGIdgBc5WRhJgRBrRnGFLskrsgRYl+QVaUZxRUbCKymxAEuSSktLdfnll+v444/X9773Pd166616//33CbCOIcDyPgp1AHA/x+s0X2CGVffu1gCre/fA9nSGV1LsqxAahqHnnntOEgEWAgiwHESxDsCLnC6Mgnz+epVW7tPyLbtVWrkvY8EVUoMAy/so1AHA/VJWp/mk1aulv/0t8N90B1fpRoDVMhBgOYhiHYAXpaowQstGgOV9FOoA4H7Uac4gwGoZCLAcRLEOwIsojJAMAizvo1AHAPejTnMGAVbLQIDlIIp1AF5EYYRkEGB5H4U6ALgfdZozCLBaBgIsB1GsA/AiCiMkgwDL+yjUAcD9qNOcQYDVMhBgOYhiHYAXURghGQRY3kehDgDut23bNlVWVma6G55XWVlJgNUCEGA5iGIdgBcRYCEZBFjeR6EOAO63fft2VVRUZLobnldRUaHt27fHvA3jovsRYDmIYh2AFxFgIRkEWN5HoQ4A7rdz506VlZWprq4u013xrLq6OpWVlWnnzp0xb8e46H4EWA6iWAfgRQRYSAYBlvdRqAOA+x04cEBlZWXatWuXGhoaMt0dz2loaNCuXbtUVlamAwcOxLwt46L7EWA5iGIdgBcRYCEZBFjeR6EOAO7X0NCgHTt2qKysTOXl5Y1rOdHit8rKSpWXl6usrEw7duyIGwAyLrofAZaDKNYBeBEBFpJBgOV9FOoA4A11dXWqrq7W9u3bMx4Kea1t375d1dXVtk7BZFx0PwIsB1GsA/Cilhpg/fznP1fHjh21f//+qLf5r//6L7Vr10579uyx9ZiGYSg3N7fx36tXr5ZhGFq9enXc+44YMULZ2dm2nifck08+qdmzZ0dsr6qqkmEYTe5LNQIs76NQBwDAxLjofgRYDqJYB+BFKQuw/D5p+1pp66LAf/0+558jhsWLF8swDD355JNN7v/222/VqVMn/fznP7f9mOEB1oEDB7Ru3bq4aypIzQuwLrjgAg0aNChi+5EjR7Ru3TpVV1cn9bjNQYDlfRTqAACYGBfdjwDLQRTrALzI8QDL75NKHpam9pZyO5stv09ge5qCLL/frx49emjAgAFN7n/66adlGIYWL15s+zHDA6xEpCLAyiQCLO+jUAcAwMS46H4EWA6iWAfgRY4GWH6fVHDTsdCqizXACv67YFjaQqzx48fLMAx99NFHEfsuvfRSnX766dqzZ49+85vf6LzzztMJJ5yg733ve7ryyiu1du3aiPvYPYVw9uzZOvvss9WhQwede+65+r//+78mA6wHHnhAl156qbp166aTTjpJ/fv31/PPP29ZZDQ7O1uGYVha8HGinUL41ltv6aqrrtKJJ56oTp066fLLL9eSJUsi+mgYhlatWqUxY8bolFNO0cknn6wbb7xRu3btivveEmB5H4U6AAAmxkX3I8ByEMU6AC9yNMAqeTgstIrSSqY683xxfPbZZ8rKytKf/vQny/atW7fKMAyNGzdOn376qX7zm99o/vz5Kikp0ZIlSzRq1Ci1adMmIpiyE2AFg6EbbrhBixcvVkFBgfr06aOePXtGBFi//vWv9cILL6ioqEhFRUXKy8tTp06d9OCDDzbe5v3339dZZ52l/v37a926dVq3bp3ef/99SU0HWCUlJWrfvr0GDBigV155RQsXLtRPf/pTZWVlaf78+RH9POuss/SHP/xBK1as0PPPP69u3brpyiuvjPveEmB5H4U6AAAmxkX3I8ByEMU6AC9yLMDy+46dNhg+8yq8dQmcTpimWViDBg3SqaeeKp/PfL6xY8fKMAxVVFREvgy/X3V1dbr66qt14403WvbFC7Dq6+vVo0cPXXzxxZZZVDt27FD79u1jnkJYX1+vuro6TZo0Saeccorl/tFOIWwqwBo4cKD+6Z/+STU1NZbXdOGFF+qMM85ofNxggPXb3/7W8phTp06VYRj68ssvo/ZVIsBqCSjUAQAwMS66HwGWgyjWAXhR1CBiWY40a6j99tQP7c2+CranfpjY4y/LSer1vfTSSzIMQ6+99pqkwKWoTzvtNP34xz9uvM3TTz+t/v3767jjjrOcqnfuuedaHitegFVWVibDMPTII49E9GPQoEERAdbKlSt19dVXq3PnzhGnCYZeGdFugHXw4EFlZWVFhFKS9PDDD8swDH3yySeSzADrzTfftNzuzTfflGEYWr9+fcRjhCLA8j4KdQAATIyL7keA5SCKdQBeFDWImDU0sUAq1W3W0KRe36FDh9SlSxddf/31kqRFixbJMAy9+OKLkqRHH31UhmFozJgxWrJkidavX6+NGzdqyJAhEYFTvADrrbfekmEYKigoiOjH8OHDLY+3YcMGtW3bVldffbVeeeUVvfPOO9q4caPuvfdeGYahqqqqxtvaDbB27twpwzCUl5cXcduXX35ZhmHo7bfflmQGWBs3brTcLtq6XuEIsLyPQh0AABPjovsRYDmIYh2AF7X0GViSNGbMGLVt21a7d+/WDTfcoJNOOkm1tbWSpP79++uKK66IuM+PfvSjhAOsRGZg3XnnnerYsaMOHz5suV1zAqyDBw+qTZs2MWdgffrpp5IIsEChDgBAKMZF9yPAchDFOgAvaulrYEnSxo0bZRiG7rzzTrVv316jR49u3HfxxRfr2muvtdx+8+bNatOmTcIBVn19vU4//XQNGDAg7hpYd911l0488UTL2lyHDh3Sv/zLv0QEWBdffLEuvfTSiNfV1BpYl19+ubp3765Dhw41bquvr9f3v//9JtfAIsBqvSjUAQAwMS66HwGWgyjWAXhRS74KYah+/fopKysrYn2niRMnKisrSxMnTtTKlSv11FNPqXv37urdu3fCAZYkPf/8841XIVyyZEnUqxCuXLlShmHopptuUmFhoebNm6cBAwaob9++EQHWiBEjdNxxx2n+/Pl699139dFHH0mKfRXCyy67TAsWLNCiRYt07bXXRr0KIQFW60WhDgCAiXHR/QiwHESxDsCLHA2w/D6pYJg50yp85lVu58D+NM6+Cpo+fboMw9D5559v2X706FHdfffd+ud//md17NhRF198sRYuXKgRI0YkFWBJgRCrb9++6tChg84++2zNmjWrycebNWuWzjnnHB133HE666yzNGXKFL3wwgsRAdaOHTv005/+VCeddJIMw2h8nKYCLCmwFtdVV12lE044QZ06ddLAgQO1ePFiy20IsEChDgCAiXHR/QiwHESxDsCLHA2wpEA4VTI1cJpgaICV3yewPQPhFZxHgOV9FOoAAJgYF92PAMtBFOsAvMjxACvI75O2r5W2Lgr8l+CqRSHA8j4KdQAATIyL7keA5SCKdQBelLIACy0aAZb3UagDAGBiXHQ/AiwHUawD8CICLCSDAMv7KNQBADAxLrofAZaDKNYBeBEBFpJBgOV9FOoAAJgYF92PAMtBFOsAvIgAC8kgwPI+CnUAAEyMi+5HgOUginUAXrRt2zZVVlZmuhvwmMrKSgIsj6NQBwDAxLjofgRYDqJYB+BFVVVVKi8vV0NDQ6a7Ao9oaGhQeXm5qqqqot6GMdH9KNQBADAxLrofAZaDKNYBeNHu3btVVlamPXv2EGIhroaGBu3Zs0dlZWXavXt31NsxJrofhToAACbGRfcjwHIQxToAL6qvr1dVVZXKyspUXl7eeGoYjRbeKisrVV5errKyMlVVVam+vj7qzxVjovtRqAMAYGJcdD8CLAdRrAPwqvr6eu3evVtVVVUZD0lo7m5VVVXavXt3zPBKYkz0Agp1AABMjIvuR4DlIIp1AAACGBPdj0IdAAAT46L7EWA5iGIdAIAAxkT3o1AHAMDEuOh+BFgOolgHACCAMdH9KNQBADAxLrofAVaY6upqDR06VMcff7z69u2rwsJC2/elWAcAIKA1jYk1NTW64447dPrpp+u4447TRRddpHnz5tm67969ezVixAidcsop6tSpkwYOHKji4uKY9zl06JD69u0rwzCUn5+fdL8p1AEAMDVnXPRqLeA1BFhhhg0bppEjR6q2tlaLFi1S165dtW/fPlv3bU3FOgAAsbSmMXHw4MHq2rWrZs6cqVWrVunWW2+VYRiaM2dOzPsdOXJEF154oc444wwVFBSosLBQN9xwg9q1a6eSkpKo9xs7dqx69OhBgAUAgIOaMy56tRbwGgKsEDU1NWrfvr127tzZuG3QoEF64YUXbN2/NRXrAADE0lrGxKVLl8owDM2dO9eyffDgwerRo4f8fn/U+z755JMyDEOlpaWN2+rq6nT++efr0ksvbfI+GzZsUIcOHbRgwQICLAAAHJTsuOjlWsBrjO+++0733HOPBg8erFNPPVWGYSg3NzepB3vuuedkGIZOOOEEZ3vZhET7bWdK3/vvv69u3bpZtv3+97/XXXfdZatPraVYBwAgntYyJt5666068cQTVVdXZ9k+d+5cGYahd955J+p9r7nmGp1zzjkR2ydPnizDMPTFF19Yth89elQXXHCB7rzzTlVVVRFgAQDgoGTHRS/XAl5jVFVVqUuXLvrJT37SOM0tmQDriy++UJcuXdSjR4+0BFiJ9tvOlL61a9cqOzvbcr8JEybotttus9Wn1lKsAwAQT2sZEwcOHKgf/OAHEduDr/+ZZ56Jet/u3btr2LBhEduXLFkiwzC0YsUKy/Z7771XvXr10sGDBwmwAABwWLLjopdrAa8xGhoa1NDQIEn66quvkg6wfvazn+nf/u3fNGLECFsB1oEDB7Rs2bKo+xcvXqyDBw9G3Z9Iv+1O6WMGFgAAzmgtY2Lfvn117bXXRmzfvXu3DMPQ5MmTo963ffv2uv322yO2l5aWRtQtH3zwgdq3b68333xTkhIuWvfu3auPP/7Y0mbMmEGABQDAMcEAa8aMGRFj5t69e6Pezyu1QEtgWQMr2QDr5Zdf1kknnaSdO3faDrAeffRRtWnTRi+++GLEvpkzZyorK0tPPfWUreeP12+7U/qaWgPriiuuYA0sAAAS1FrGxL59+2rIkCER24NF65QpU6Let3379hozZkzE9mDRGlzqoK6uTv3799d///d/N94m0aI1NzdXhmE02QiwAAAwA6ymWqyMxCu1QEvQ7ABr7969OuWUU/Tkk09Kku0AS5LuuusuZWVlaebMmY3bpk2bJsMwNGHCBNt9iNfvRKb03XTTTRo1apQOHTqkxYsXq2vXrvrqq69iPn94UdjSi3UAAOJpLQFWOk4byM/PV5cuXfTZZ59p//792r9/vzZv3izDMJSXl6f9+/fHXCBWYgYWAADxJDsDyyu1QEvQ7ADrP//zP/XDH/6w8XS+RAIsKbDGlGEYmjZtmh566CEZhqFJkybZvr+dficypa+6ulrXXXedOnXqpD59+kSccxpLaynWAQCIp7WMiaNHj25ylve8efPiLtw6ePBgnXvuuRHbp0yZIsMwtGvXLkmB2iraX4SD7YMPPki476yBBQCAKdlx0cu1gNc0K8B67bXX1KFDB23durVxW6IBliRNmjSp8U1PZvqbnQAr2Sl9iWgtxToAAPG0ljFx2bJlMgxD8+fPt2wfMmRI3EtnP/XUUzIMQ+vXr2/cVldXpwsuuECXXXZZ47ZPPvlEq1evtrRgUTxmzBitXr1aNTU1CfedAAsAAFOy46KXawGvSTrAqqmp0WmnnaaxY8c2TmHbv3+/fvnLX+qEE07Q/v37Yy7CHmrs2LHKysqSYRi69957E34RTp5C2BytpVgHACCe1jQmDh48WN26ddOzzz6rVatWafTo0TIMQwUFBY23GTlypNq2basdO3Y0bjty5IguuOAC9ezZU3PmzFFRUZFuvPFGtWvXTiUlJTGfk6sQAgDgrOaMi16tBbwm6QAr+GbFajfccEPMx2hoaNDvfvc7tWnTRrNmzdLTTz+trKwsjR07NqEXEa/fzZnSl4jWVKwDABBLaxoTa2pq9Mc//lHdu3dXhw4d1K9fv8ZFV4OCU/+rqqos2/fs2aNf/epXOvnkk9WxY0cNHDhQRUVFcZ+TAAsAAGc1Z1z0ai3gNUkHWIcPH46YwrZ69Wpde+216tixo1avXq0tW7ZEvX99fb1GjRqldu3aWT7YF198UW3bttVvf/vbxnW14onX7+ZM6UtEayrWAQCIhTHR/QiwAAAwMS66nyEFAp4FCxZo1qxZMgxDw4YN04IFC7RgwQLV1tZKkkpKStS2bVs9+OCDMR/Q7hpY+fn56tChg15//fWIffPnz1e7du30xBNPxHwMO/0OsjOlr7ko1gEACGBMdD8KdQAATIyL7mdIUnZ2dtTTAIPT21avXm1rdpbdAOvQoUMqLS2Nuv/tt9/W0aNHYz6GnX4H2ZnS11wU6wAABDAmuh+FOgAAJsZF9zPi3wR2UawDABDAmOh+FOoAAJgYF92PAMtBFOsAAAQwJrofhToAACbGRfcjwHIQxToAAAGMie5HoQ4AgIlx0f0IsBxEsQ4AQABjovtRqAMAYGJcdD8CLAdRrAMAEMCY6H4U6gAAmBgX3Y8Ay0EU6wAABDAmuh+FOgAAJsZF9yPAchDFOgAAAYyJ7kehDgCAiXHR/QiwHESxDgBAAGOi+1GoAwBgYlx0PwIsB1GsAwAQwJjofhTqAACYGBfdjwDLQRTrAAAEMCa6H4U6AAAmxkX3I8ByEMU6AAABjInuR6EOAICJcdH9CLAcRLEOAEAAY6L7UagDAGBiXHQ/AiwHUawDABDAmOh+FOoAAJgYF92PAMtBFOsAAAQwJrofhToAACbGRfcjwHIQxToAAAGMie5HoQ4AgIlx0f0IsBxEsQ4AQABjovtRqAMAYGJcdD8CLAdRrAMAEMCY6H4U6gAAmBgX3Y8Ay0EU6wAABDAmuh+FOgAAJsZF9yPAchDFOgAAAYyJ7kehDgCAiXHR/QiwHESxDgBAAGOi+1GoAwBgYlx0PwIsB1GsAwAQwJjofhTqAACYGBfdjwDLQRTrAAAEMCa6H4U6AAAmxkX3I8ByEMU6ACAj/D5p+1pp66LAf/2+TPeIMdEDKNQBADAxLrofAZaDKNYBAGnl90klD0tTe0u5nc2W3yewPYNBFmOi+1GoAwBgYlx0PwIsB1GsAwDSxu+TCm46Flp1sQZYwX8XDMtYiMWY6H4U6gAAmBgX3Y8Ay0EU6wCAtCl5OCy0itJKpmake4yJ7kehDgCAiXHR/QiwHESxDgBIC7/v2GmD4TOvwluXwOmEGZiFxZjofhTqAACYGBfdjwDLQRTrAIC02L7W3uyrYNu+Nu1dZEx0Pwp1AABMjIvuR4DlIIp1AEBabF2UWIC1dVHau8iY6H4U6gAAmBgX3Y8Ay0EU6wCAtGAGFhxAoQ4AgIlx0f0IsBxEsQ4ASAvWwIIDKNQBADAxLrofAZaDKNYBAGnDVQjRTBTqAACYGBfdjwDLQRTrAIC08fukgmHRZ17ldg7sz8DsK4kx0Qso1AEAMDEuuh8BloMo1gEAaeX3BWZYhQdY+X0C2zMUXkmMiV5AoQ4AgIlx0f0IsBxEsQ4AyIjwBdszGFwFMSa6H4U6AAAmxkX3I8ByEMU6ACAjQgMsl2BMdD8KdQAATIyL7keA5SCKdQBARhBgIQkU6gAAmBgX3Y8Ay0EU6wCAjCDAQhIo1AEAMDEuuh8BloMo1gEAGUGAhSRQqAMAYGJcdD8CLAdRrAMAMoIAC0mgUAcAwMS46H4EWA6iWAcAZAQBFpJAoQ4AgIlx0f0IsBxEsQ4AyAgCLCSBQh0AABPjovsRYDmIYh0AkBEEWEgChToAACbGRfcjwHIQxToAICMIsJAECnUAAEyMi+5HgOUginUAQEaEBlgNDZnujSTGRC+gUAcAwMS46H4EWA6iWAcAZERogEEBL04AACAASURBVFVfn+neSGJM9AIKdQAATIyL7keA5SCKdQBARhBgIQkU6gAAmBgX3Y8Ay0EU6wCAjLAEWP5M90YSY6IXUKgDAGBiXHQ/AiwHUawDADIiNMDy12W6N5IYE72AQh0AABPjovsRYDmIYh0AkBGWAMuX6d5IYkz0Agp1AABMjIvuR4DlIIp1AC2S3ydtXyttXRT4r0sCEoQIDbDqjma6N5IYE72AQh0AABPjovsRYDmIYh1Ai+L3SSUPS1N7WwOS/D6B7QRZ7mEJsI5kujeSGBO9gEIdAAAT46L7EWA5iGIdQIvh90kFNx0LRbpYA5LgvwuGEWK5BQEWkkChDgCAiXHR/QiwHESxDqDFKHk4LLSK0kqmZrqnkKyfie9wpnsjiTHRCyjUAQAwMS66HwGWgyjWAbQIft+x0wbDZ16Fty6B0wmZhZV5lgDrUKZ7I4kx0Qso1AEAMDEuuh8BloMo1gG0CNvX2pt9FWzb12a6xwj9PI7WZro3khgTvYBCHQAAE+Oi+xFgOYhiHUCLsHVRYgHW1kWZ7jEsAdbBTPdGEmOiF1CoAwBgYlx0PwIsB1GsA2gRmIHlPaGfx5GaTPdGEmOiF1CoAwBgYlx0PwIsB1GsA2gRWAPLewiwkAQKdQAATIyL7keA5SCKdQAtBlch9BZLgPVdpnsjiTHRCyjUAQAwMS66HwGWgyjWAbQYfp9UMMycaRU+8yq3c2A/s6/cIfTzOXwg072RxJjoBRTqAACYGBfdjwDLQRTrAFoUvy8wwyq/jzUgye8T2E545R6WAOvbTPdGEmOiF1CoAwBgYlx0PwIsB1GsA2iR/D5rQEJw5T6hn8+h/ZnujSTGRC+gUAcAwMS46H4EWA6iWAfQYoUGJHAfS4D1TaZ7I4kx0Qso1AEAMDEuuh8BloMo1gG0WARY7kaAhSRQqAMAYGJcdD8CLAdRrANokRoaCLDcLvTzqf06072RxJjoBRTqAACYGBfdjwDLQRTrAFqkej8BltsRYCEJFOoAAJgYF92PAMtBFOsAWiR/HQGW24V+Pgf3Zbo3khgTvYBCHQAAE+Oi+xFghamurtbQoUN1/PHHq2/fviosLLR9X4p1AC1S+FUI4T6WAOurTPdGEmOiF1CoAwBgYlx0PwKsMMOGDdPIkSNVW1urRYsWqWvXrtq3z95fs4PFesGyt7V8y26VVu6Tz1+f4h4DQIrVHSXAcrvQz6emOtO9kUSA5QUU6gAAmBgX3Y8AK0RNTY3at2+vnTt3Nm4bNGiQXnjhBVv3Dxbrp498Utk5S5Sds0SX5BVpenEFQRYA76o7QoDldgRYSAKFOgAAJsZF9zO+++473XPPPRo8eLBOPfVUGYah3NxcW3f+4IMPNHToUPXs2VMdO3ZUt27dNHDgQL388sup7bWkRPtdU1OjO+64Q6effrqOO+44XXTRRZo3b57lNu+//766detm2fb73/9ed911l60+NRVg9Tr231tmv0uIBcCbfIcJsNzOEmDtzXRvJBFgeQGFOgAAJsZF9zOqqqrUpUsX/eQnP9Gtt96aUIC1evVq3X777Xr55Ze1atUqLV68WDfffLMMw1BeXl5KO55ovwcPHqyuXbtq5syZWrVqVeN95syZ03ibtWvXKjs723K/CRMm6LbbbrPVp6YCrNA2o7gimZdqi89fr9LKfZy6CMB5vkMEWG4X+vl8tyfTvZFEgOUFFOoAAJgYF93PaGhoUENDgyTpq6++SijAiuayyy5Tz549Y97mwIEDWrZsWdT9ixcv1sGDB6PuT6TfS5culWEYmjt3rmX74MGD1aNHD/n9fkmpmYEVOhPrkrwix4Mln79e04srNCCv0PJ8nLoIwDFHawmw3M4SYH2Z6d5IIsDyAgp1AABMjIvuZ1kDy6kA6/rrr9eZZ54Z8zaPPvqo2rRpoxdffDFi38yZM5WVlaWnnnrK1vPF6/ett96qE088UXV1dZbtc+fOlWEYeueddyQ1vQbWFVdc0aw1sMJbaWXYgvB+n7R9rbR1UeC/fl/E40abXeXz1+vXszZYTlXk1EUAjjtSQ4DldqGfz4Hdme6NJAIsL6BQBwDAxLjofo4EWPX19aqrq1N1dbWefPJJtWvXTjNnzox7v7vuuktZWVmW206bNk2GYWjChAm2nz9evwcOHKgf/OAHEduDxfUzzzzTuO2mm27SqFGjdOjQIS1evFhdu3bVV1/FviR5bm6uDMNobLECrCWbd6m0cp/e3Py5Pv97rhqm9rYeeOT3kUoelvy+qLOrvp/7pu5+9UM9suLTqM+TrlMXAbQCR74jwHI7S4C1K9O9kUSA5QUU6gAAmBgX3c+RAOv2229vDG86dOhge+aUFFhjyjAMTZs2TQ899JAMw9CkSZMSev54/e7bt6+uvfbaiO27d++WYRiaPHly47bq6mpdd9116tSpk/r06aMVK1bY7oedGVhnjlui3jkLtfK+n0i5nVUfetCR21nK7RLYXnCTRr3wjq2AKlZL1amLAFqRwwcIsNwu9PP59otM90YSAZYXUKgDAGBiXHQ/RwKszz//XBs3btTSpUs1ZswYtWnTRvn5+bbvP2nSpMYALJH7BdkJsIYMGRKxPRhgTZkyJeHnbIqdACs7Z4kemTAyLLRquuVPGNXsACvqqYsAYNfhbwmw3I4AC0mgUAcAwMS46H4pWQNrzJgxateunaqrq23dfuzYscrKypJhGLr33nsTfj4nTyFsDjsBVu+chaqe2FP1E2OHV/UTO2vvxJ7qnbPQkQBr+RZ3rIkCwIMO7SfAcjtLgLUz/u3ToDUFWDU1Nbrjjjt0+umn67jjjtNFF12kefPm2brv3r17NWLECJ1yyinq1KmTBg4cqOLiYsttDhw4oD//+c8aNGiQTjvtNJ1wwgm68MIL9dBDD+nw4cNJ95tCHQAAU3PGRa/WAl6TkgBr1qxZMgxD69evj3m7hoYG/e53v1ObNm00a9YsPf3008rKytLYsWMTer54/R49enSTi7jPmzfPsoh7c9kJsIaPn2pr9lWwDR8/lRlYADLr0DcEWG4X+vns/0emeyOpdQVYgwcPVteuXTVz5kytWrVKt956qwzD0Jw5c2Le78iRI7rwwgt1xhlnqKCgQIWFhbrhhhvUrl07lZSUNN5uy5YtOvXUU3XnnXdq0aJFWrlypR544AF17NhRV199deNVmRNFgAUAgKk546JXawGvSUmA9T//8z9q06ZNzBlY9fX1GjVqlNq1a2dJJl988UW1bdtWv/3tb21/CPH6vWzZMhmGofnz51u2DxkyRD169JDf77f1PPHYCbBuGz8xoQDrtvETWQMLQGbVfk2A5XaWAOvzTPdGUusJsJYuXSrDMDR37lzL9sGDB8etMZ588kkZhqHS0tLGbXV1dTr//PN16aWXNm47ePCgDh48GHH//Px8GYaht956K6m+E2ABAGBKdlz0ci3gNYYUCHgWLFjQOHNq2LBhWrBggRYsWKDa2lpJUklJidq2basHH3yw8c6jR4/W2LFj9corr6ikpESvvfaahg8fLsMwdM8998R84vz8fHXo0EGvv/56xL758+erXbt2euKJJ2I+hp1+Bw0ePFjdunXTs88+q1WrVmn06NEyDEMFBQX23ikb3DoDi6sQAmgWAiz3C/18vtmR6d5Iaj0B1q233trkLO+5c+fGneV9zTXX6JxzzonYPnnyZBmGoS++iL2e2Zo1a5osmO0iwAIAwJTsuOjlWsBrDEnKzs5uXEQ9vFVVVUmSVq9eHTHLadasWfrxj3+sU089Ve3atVPXrl01aNAgvfzyy3Gf+NChQ5aUMdzbb7+to0ePxnwMO/0Oqqmp0R//+Ed1795dHTp0UL9+/Wyfk2qXG9fAGjFrg96qqNbyLbtVWrmPmVgAEndwHwGW21kCrKpM90ZS6wmwmrPOZvfu3TVs2LCI7UuWLJFhGHGvhJybmyvDMLR58+bEOy4CLAAAQiU7Lnq5FvAaI/5NYJfbrkLYK2eJzr1vuWXbJXlFml5cETXI8vnrVVq5j8ALgKmmmgDL7QiwMqZv37669tprI7YHr3Q8efLkqPdt3769br/99ojtpaWlcf+aunnzZnXq1Ek33nijrX7u3btXH3/8saXNmDGDAAsAgGOCAdaMGTMixsy9e/dGvZ9XaoGWgADLQXYDrN45C1V836CoM6+U21nF9w1y7AqETbXrZ6zVWxXVjQGVz1+v6cUVGpBXmFDgBaAVqNlLgOV2oZ/P19sz3RtJrSvAGjJkSMT2YNE6ZcqUqPdt3769xowZE7E9WLRGmyleVVWlnj176uyzz9bXX39tq5/Bv9A21QiwAAAwA6ymWqx1wr1SC7QEBFgOihVg9c5ZqOHjp+q28RM1fPxUnZPzmvInjIoIsPZO7Kn8CaNSGl6FB1SPFZbrVy9saJy1FT6LKztniW6Z/S4hFtBafbeHAMvtLAHWtkz3RlLrCbDSfdrAjh071KtXL5155pnauXOn7X4yAwsAgNiSnYHllVqgJSDAclBTAVbvnIV6ZMJIVU/sGRFUhZ9KOHz81LQFV+EBlZ0WazF4Tj0EWrDvviTAcrvQz2dfZaZ7I6n1BFijR49ucuHWefPmxV24dfDgwTr33HMjtk+ZMkWGYWjXrl2W7cGCNTs7Wzt2NH+xftbAAgDAlOy46OVawGsIsBwUHmD1zlmolff9xHJqYPipgqEtncFVMq1f7grVHrX+UrbYUw/9Pmn7WmnrosB//b5M9wjInAO7CbDcjgArY5YtWybDMDR//nzL9iFDhsS9dPZTTz0lwzC0fv36xm11dXW64IILdNlll1lu+/nnn6tXr17q2bOntm1zZpYdARYAAKZkx0Uv1wJeQ4DloPAAy+5i7V4JsLJzlqjfAysagymfv16/ntXCTj30+6SSh6Wpva2fT36fwHaCLLRGB3YRYLld6Ofz1WeZ7o2k1hNgSYG/nnbr1k3PPvusVq1apdGjR8swDBUUFDTeZuTIkWrbtq3lr6VHjhzRBRdcoJ49e2rOnDkqKirSjTfeqHbt2qmkpKTxdnv37tVZZ52l4447TgUFBVq3bp2lJXv6AAEWAACm5oyLXq0FvIYAy0HBYv1/n1ui/rlLVD2xZ5MzrbwcYAXbiFkb9Fhhua3bxjr10FX8PqngpmOfR5ewz+fYvwuGEWKh9fn2CwIstyPAyqiamhr98Y9/VPfu3dWhQwf169cvYtHVESNGyDAMVVVVWbbv2bNHv/rVr3TyySerY8eOGjhwoIqKiiy3Wb16ddRFZeMtLBsLARYAAKbmjIterQW8hgDLQaHFel3lmoRmX3ktwMrOWaIzx8W/Ta+cwOmETs7CStl6WyUP2/usSqY683yAV3y7kwDL7SwBljv+aNCaAiyvIsACAMDEuOh+BFgOshTrWxe1+AArkVZaua/Z729K19vy+46dNhg+8yq8dQmcTsgsLLQm+z8nwHK70M+nujzTvZFEgOUFFOoAAJgYF92PAMtBlmJ9+1oCrJA2rag8ImBKZCZVytfbSvTz2r42uecBvOibHQRYmRbvwhKWAOvTzPQxDAGW+1GoAwBgYlx0PwIsB1mK9WMzehrizuhpHQFWdk7gKoa/n7NJqz/do8cKyxOaSTW9uMLWcyS93laiM+a2LmrmTwvgId9UEWBlit0LS4Tu2/tJZvt8DAGW+1GoAwBgYlx0PwIsB0UU63bXVGolAVa8FpxJNWLWBr1VUd04M6v2aJ0G5BVGzLxqqp13/3LVHq1L/MNjBhYQ3dfbCbAyIeaFJY614IUlLAFWWaZ7LokAywso1AEAMDEuuh8BloMiinW/L3BwkdtZDWEHHU1dnTDTAZJb2/n3LU/o9j//69uJn0rIGlhAdF9vI8DKBLt/BFk1hQALSaFQBwDAxLjofgRYDmqyWPf7AleteyjbcoBRnfsvyp8wyrLtyvzVlplItORbUqcSchVCoGn7Kgmw0q0xVLfxnTTpVOu/92zNdO8lEWB5AYU6AAAmxkX3I8ByUMxiffsa8+Dir5fJd/RI4Mp8IQcdPn+9ZhRX6JK8IksYc0lekR4vLNdbFdWavHRrxsMhL7QBkwqTm4V1bMZc5EysLtbTdYDWhAAr/ZK4EIgZYLkjMCLAcj8KdQAATIyL7keA5aCYxfqOd8yDi+d/am5v4qAw1tX5Siv3ZTwc8kpbW1Gd+IcYnDH38JnWzya/T2A74RVao68+I8BKt0QvLBHavtyS6d5LIsDyAgp1AABMjIvuR4DloNgBVqntACsWn7/e9oLmrb39Ye6mxvcsWiAY1Z4y83N55ByCK7Ru1eUEWOnWnBlYX36U6d5LIsDyAgp1AABMjIvuR4DloHQEWJI0vbgi4+GQF9r3c9/UY4XlGpBXaNl+SV6RphdXxA6yQk+Zmv6vCfwUAC1Q9acEWOnm90mTz0guwNq9OdO9l0SA5QUU6gAAmBgX3Y8Ay0H2A6zB5vbQg46GBlvP4/PX65bZ7yo7J/aC78zSiv2+3DL73eghVmiANe2iJH4agBZk7ycEWJnw+m8JsJBSFOoAAJgYF92PAMtBzQ6w6u0vOh5vwffHi8oj9l14/3Kdf//yZgdAvXMWavj4qbpt/EQNHz9VvXMWZjyUSrY9Xlje9BtMgAWY9pYRYGXC0drIKww22cIuOrH7w0z3XBIBlhdQqAMAYGJcdD8CLAc1+xRCf13Czxlrfaem9vn89Xq8qFz9HliRVHD1yISRqp7Y09LvvRN76pEJIz0bZP1p/vtavHmXSiv3qfZonUor92lNaWlSAVZS620BbrdnKwFWpqyanPgMrF0fZLrXkgiwvIBCHQAAE+Oi+xFgOajZM7Dqjqatr8Gg5XcFm2yHVyvv+4mU21n1E60HS8F/F983yLMhVrD1Ghf476BxzzW+vv1TzrcVDE4vrkhuvS3A7fZ8TICVKX6fVDAs9syr8P273s90ryURYHkBhToAACbGRfcjwHJQzGL983XxAyzf4fR19pjQ9bRitUcmjLT1l//8CaMyHkI50a4c92zja6q6v69GzNqg2qN1TYZUAyYV6or81YEALDwQO/bfmOttAW735RYCrEzy+6SSqdID3ayfQ36fwHa/z7r9i02Z7rEkAiwvoFAHAMDEuOh+BFgOanaAdbQ2fZ0NEW09rdDZV9UTe0bMvApv9RMDpxN6fRZWds4SXTXuGUuAlZ2zRBc9uKLJkMpum1FckZHPF2i2Lz8iwHKDx/uZn8FL/xEIroIsAdZ7metjCAIs96NQBwDAxLjofgRYDmp2gHWkJn2dbULoqXFrK6r1eFG5Bkwq1PDxUxNaf2X4+KkZD6Ca264eN7Px9ey4v0+zH69XTuB0QmZhwZN2f0iA5QaPf9/8DP5+u3Vf6OezkwAL9lCoAwBgYlx0PwIsBzV7DazDB9LXWZt8/nptLX45oQDrtvETMx5ANbdd43CAFWyllfsy/ZECidv1AQGWGzx+ofkZ/O026z4CLCSBQh0AABPjovsRYDkodoD1TvwA69D+9HU2EdvXtroZWD8d91RKAqzfz9nU7FlYXOkQabfrfQIsN3gsNMAabd1nCbA2ZqZ/YQiw3I9CHQAAE+Oi+xFgOShmsV71lnlw8dw15vbQg47ar9PX2UT4fdLU3mq84pWNNbD6Tlim7Jzk14vKdLs2RQFWds4SXT9jrd6qqFbt0bqEgiiudIiM+WITAZYbPHaB+Rm8dqt1X+jn8493M9O/MARY7kehDgCAiXHR/QiwHBSzWN++Jn6AddDFp5eVPGxr9lX5q/ertHKfao/WNbkw/Hn3L9d59y/PeEAVr1037q+Nr+nz+3un5Dl6jbP+O1YQ5fPX69ezNgTuF/44x/7LlQ6RMl+8l1yA5fcFZnBuXRT4b+ii40jco+eFBFijrPssAdaGzPQvDAGW+1GoAwBgYlx0PwIsB8Us1reVxA+waqrT19lE+X1SwbAowdWxmVkFwyIOUJs63c3nr9faimpdP31NxoOqaG1oGgKsiEArRhA1vbjC1mNwpUOkxM4EAyy/LxB6T+1tvV9+n8B2gqzkPHKu+V4uGGndF/o+f74+M/0LQ4DlfhTqAACYGBfdjwDLQTGL9cpV8QOs7/akr7PJ8PukkqnSn7s3cVA6NeGDUp+/Xo8XlrtyRtb142akPcCKFkT5/PUakFcY93TMaFc6jBYiso4WbNu50X6A5fdJBTdZw20bYTdseOSckADrFus+S4C1LjP9C0OA5X4U6gAAmBgX3Y8Ay0Exi/XPiuMHWAd2p6+zzbF8nNnnRX9s9oFocEbWtKJyTSuq0DNrKjMeYP0sgwFWeBBVWrkvofsHr3QYbc2spk7jZB0txPSPd+0HWDZPN1bJ1PT0vSXJ72u+f6/+2rqPAAtJoFAHAMDEuOh+BFgOih1gFcUPsL79wpmOpHrdmRX3mX1+63FnH1v2Zxylsv37uGmNr/EfGZiBlZ2zRGsrqlVauU+Tl25N6H7Lt+yOuWZWtNAsO4d1tBDFPzbYC7BsXvBBuV0CMzeZhZWYqX1CAqwR1n2h7++O0ox0LxwBlvtRqAMAYGJcdD8CLAfFLNYrCuMHWPv/0bwOpGvdmRQHWJL9NZ9S1W5wQYB1Ye6bSd2vtHJfs96/xwvLOb0QVp+vsxdgbV9rb/ZVsG1fm77X0BKEfre/8j/WfZYA653M9C8MAZb7UagDAGBiXHQ/AiwHxSzWy98MCbCuNreHHnR8syP5J0/nujNpCLB8/nrdMvtd2zOInG43jnss4wFWoi146mHt0bpmzWBL5OqIaCV2lNoLsLYuSizA2roofa+hJXj4LPO9m//f1n2h72vV25npXxgCLPejUAcAwMS46H4EWA6KWax/ujx+gPX19uSfPJ3rzlgCrMea/3hR+Pz1mlFcoUvyiiIClV8+uy5tAdbOiWdlPJyy22YUVyS8ZpadYCw7h9MLW7Ud7zADyw0e6hUSYP3/1n2WAOutzPQvDAGW+1GoAwBgYlx0PwIsB8Us1j9ZGv8Uwn2VyT1xutedKbw/doDl8Bpc0a6iF5yhlYr2H+Me9VyAdWX+avn89Vq+ZXdKAzK0QlVv2wuwnPouSvU6fl71ULb5Hs77L+s+FwaDBFjuR6EOAICJcdH9CLAcFLNYL1scfwbWV58l98TpnvUQLcBK1xpcxwRnaA2YVOh4UHPTuEeaHWD1zlmo4eOn6rbxEzV8/FT1zlmY0gDr4gdXNIZ9qXj88KsjohWpestegCU1bzZomr9DPGfKvxBgwVEU6gAAmBgX3Y8Ay0GxA6w34gdY1eXJPXG6151pKsBK5xpcYYKhzZLNu/T82m36zcvvNTusGTYuP+kAq3fOQj0yYaSqJ/a0vA97J/bUIxNGpjTIuvvVD/VVzWGdfe+ylD3HtKIKFndvbcJD8lj8vsDverSZV9G+CzL4HeIZk0O+U+b+0rrPEmCtyUz/whBguR+FOgAAJsZF9yPAclDMYn3rwvgB1t5PknviTM7AWvtoYFs61+CKw84C8IOmrooZ0gwfPzWpAKt3zkKtvO8nUm5n1U+0vvbgv4vvG5TSECtdi96zuHsrsn2N/QBLOjaTaqo06dQmZlJNbTqEctF3iGtNPiMkwLrZui/0PdpWkpn+hSHAcj8KdQAATIyL7keA5aCYxfrHf48fYO3ZmtwTp30NrInWACvdz29DrAXgZxRXqPZonUbM2hA1nLl5vHkwnUiA9ciEkbYOwvMnjEpLyJTKxuLurci2ksQCrKA5v7AGT7HWvHLZd4gr/eWfzfdiznDrPkuAtToTvYtAgOV+FOoAAJgYF92PAMtBMYv1La/FD7C+3JL8k6dz9kJ4gOXiK481tQB86L7HC8t13v3LI8KZW+5PfAZW75yFqp7YM2LmVXirnxg4nTDVa2Kls/1hziZOK2zJKlclF2DNvdm8zydLot/Oxd8hrvKXHuZ7UDDMui/0/alclZn+hSHAcj8KdQAATIyL7keA5aCYxfpHCyIDrIYG60HH7s3JP7ll3ZkUrx8THmClew0uh/n89VpbUa1pReWaVlShtyqqVVexsrG/u3PtBVihpx3aacPHT8148OR0Cz+tMFaACA+pXGn9+bXLboDl8e+QtPlz95AA6ybrPkuAtTIz/QtDgOV+FOoAAJgYF92PAMtBMYv1za9GBlj19daDjl0fNK8DwXVn8vtYHzfWujPJsARYj7hr9oTfF3j8rYsC/032NX9W3Njf7yb3tRXe3DZ+YkLvw23jJ2Y8cHK6BU8rHDFrgx4rLNeAPOsVIlk3y6NCfh+YgZVBeaeZ78HL/2ndl+oAK4nvVgIs96NQBwDAxLjofgRYDopZrH843zy4ePaqwDZ/nfWg44tNznTE77M+rtPrxRTlmo+9Jt8d69f4fYHTKKf2biK8ezjx5/ysqPExGh49r3FReGZgORNw3TL7XdUerWN2lleE/D6kJMByw3eIF+T9U0iA9R/WfaHv02fFzj1nM75bCbDcj0IdAAAT46L7EWA5KHaANS8ywKo7aj0g2Pmec51J5mDTrqJca4AlZfYKYn5f4HSa4AFu+AFvbufET5+sKDQf49HzGxeFHzCpMGo407gGVpz3oCWugZVMO/veZZZ/fz/3Td396of69tBRgi23qUhxgCVxFUI7Qq/q+NKN1n2WAKvImedr5ncrAZb7UagDAGBiXHQ/AiwHxSzWP5gTGWD5DlsPCP7xrnOdSWmA9UBkgGVZg6uJWRPJhEh2peLAt3yFJcAKCq6X9Ye5m9TvgRWWAKZf7gq988I9tvrSEq5CmK42YFKh7n71Qy3evItAK1NCA91UBViZ/A7xigdPCQmwfm7dF/p+VTgUYDXzu5UAy/0o1AEAMDEuuh8BloNiFuvvvxwZYB2ttR4EfL7euc6kLcAKOXAJrsH1UC/r8zu9BleoVJ169OnyJgOsUE0uUG7jILws/9pWP/uqOa1f7go9VlhOkJVOoYFuIt8pc4bbD7Akn900bgAAIABJREFU8zsk/Hcnld8hXvLgyeZ78n83WPdZAqzC5j+XA9+tBFjuR6EOAICJcdH9CLAcFLNY3/RSZIB1pMZ6ILCj1LnOpDLAKn6w6QAr6PP15v4ZA1J70JmqxZ8/XRY3wIoqzkG47+iRiMXNaYm3K/JXq/ZoXeI/M0hc+ZvpCbCCwn9nW3twFfRAt5AA69+t+0Lfs/IVzX8uB75bCbDcj0IdAAAT46L7EWA5KGax/t6LkQHW4QPWA4Cqt53rTCYDrJ3vmfufucL55w+1dVFiB1lbF9l73E+WhARY5yXXtxgH4dOLKzIeALWENvAvxZxamA6hgW5uZ6mhwd79EjmFMFQqv7+8LHQ21Is/C9vncIDlwHcrAZb7UagDAGBiXHQ/AiwHxSzWN84KCbCuDGw7/G1ys4PsaC0BVqpmYJUtdjbACuPz1zde2bBXWCgT/PfFxxaMD99Pa7pdklek6cUVCV3dsMnTQBHpk6XWn+d6v737EWA5K/R9mX199H3lbzb/uZiB1SpQqAMAYGJcdD8CLAfFDrBeiAywDn1jPQDYVuJcZ9IVYDW1eG9zAiy/L3AgtHWRvVOHUrUGVujsgxQEWJIar2x4SV5RRBAz41gQ09T+7+e+mfGwyM2t74SlTQZboeGUz1+v6cUVEadyNnVbyDojMbez5Ld56iYBlnMaGuwHWJ8ub/7zsQZWq0ChDgCAiXHR/QiwHBSzWH/3uZAA69gphLVfWw8EKlc515mUBliT4gRYGxMPsPy+wBWvpva29j2/T2B7rOApFVch3Low5QFWULxZQOH736qoznhI5MU2YtYG+fz18vnr9etZG5SdE3322y2z37UVYrWaGVyhMxJzO0t1R+3dz4k1sBBQX299X2YNte63BFjLnHlOrkLY4lGoAwBgYlx0PwIsB8Us1jc8GzkD6+BX1oOAz4qd6Uj4X+qd5nSA5fdJBTeZf80P/+t+bufAlf2ihVg2rvwX8/5N+fjv5mM8cq79+4VK0Wfg89drQF4hpxYm0X757Do9Vlhu67YziitifgaZmsGVkdCs7I2wAOuIvfsRYDmn3h8WYF1n3R+675Olzjyn5bs18e9mAiz3o1AHAMDEuOh+BFgOilmsr58ZGWDV7LUeEFQUOdOR8AMdpyUSYAVfayxOzKAKXvnvLz2amME1NfGrmG35m2sDLMn+IvBnjst8aOS21mfC0rjhX69jYVRT4ZCTM7gSkdHTHsMX9PYdsnc/TiF0jr/O+r68MMS63xJgJfBex33eY9+tTc6Ojf3dSoDlfhTqAACYGBfdjwDLQTGL9XVPR4Y6331pPSBw4spRUuCAIm0B1sPW592+Vlr7qP0Ay+k1rEKf+9URiQdXQR8tcHWAZWcR+Ftmv6tvDx3V3a9+yLpZSbbSyn0R773d8DDWDK5kPu9MhGaNQk+pze0sHa21dz8CLOeEf6+/cK11f+i+ssXOP/+BkPHqL/9s67uVAMv9KNQBADAxLrofAZaDYhbrpU9GhjoHdlkPOpxYeFcKnN6TygPAlXnWACva+lXB8CfWgY7TVxF8e5p52xX3Jv8aLQHWOck9RooPwuMtAh++aPnaimr9bMbajIdCXmrLt+yOeM/tnL4ZawZXMjIRmll8/Lr15/lIjb37EWA5J/x7/fmfWvenOsAKPeX9oV627kKA5X4U6gAAmBgX3Y8Ay0Exi/V3nogMsL79Iuy0D4fWLfEdSl+AtWpyjPWrjrVY60+Fn5oUr21dFLtvTgVYm19xfYAVlMiaSD5/vR4vLNdZ45Y2O9xpDS18BlaiC+g/v3Zbs0OsRNY8GzCpMDWzsEJPqc3tLB35zt790rEGVqJXLvUq32Hr+/LcNdb9lgDrDeefP/SUdwKsFoNCHQAAE+Oi+xFgOSh2gDUjMsDa/4/U/NX86MH0BVizr7cXPEVbvyqVM7DenJD8a/xwvmcCrGR8e+ioBk4uznhA5NYWOoMqOHvt93M26bz7lyf8WM1do6q0cl9Cz3f3qx86H2Jtec3683z4W+v+aCFSKgOs5ly51IvC/zDx3NXW/YkE/cn4bg8BVgtEoQ4AgIlx0f0IsBwUs1gPDVaCAdY3O1Jz0HHku/QFWH/uHn3mVWOLsX6V02tgORZgzWvRAZZ0bDZWUbn6PbAiInB5vLBcjxeVa8CkwoQDm5bSfvPye7r71Q918aQVzXqc5q5RtXzL7oSf0/H1sEJPqc3tLB36JrA9Xog05xepCbCae+VSLwr/w8SzV1n3W8aSFBRdB3YTYLVAFOoAAJgYF92PAMtBMYv1tx4zi/9nrghs+3q79aDj49ed6cjhb1MbnoQu4u7E7CknrkIY9PZ0ZwKsD+aEHIyfndxjuDzACop1CqLPX6/n127LeJjUUtrjheUJfw6JzsAKNkfXwwoPsGq/thcihQZbTgZYTn5neMWRmrAAK+wCGakYS0KFrtlIgNViUKgDAGBiXHQ/AiwHxSzWQ6+OFwyw9lVaDzq2/M2Zjhz6JrXhSdEDyQVY0WaY+X2B2RLRZl4lMpvCqQDr/YJWE2DFk8wMIFrTrde4JXqssDwiJJxeXKEBedbZbsFTD2uP1tleA6vxeXKcXURem1+1/jwf3Gc/RHI6wHJ61qZXhM+sDY4jQZYA6+/OP3/omo0EWC0GhToAACbGRfcjwHJQY7G+6InIxYTX5EceeHz1mfWg46MFznSk9uvUhieFE5MLsGKtX+X3BWZLhN8nv09gu92DUKcCrE0vEWAdk+wMIFr0FjzFz+ev169nbWgMncJDqOBtHyssT+p5whehT1roRQ1yOwdOJ7MVIoW0RNb4i/W74/S6eV5x+EBYgDXIuj/VAVbomo0EWC0GhToAACbGRfcjwHJQY7H+mxNCwpeHI8OZYIBVXW496Nj8qjMdCb3ceSrCkxX3mY/d3DWwwoXeb8vfEp894ViA9X8EWMckchU8mv32eGG57n71Q1u3HfvKBxpxLOhKpC3fstuZH4LQixrkdpa2vpF4gJ3IlfFi/e44feVSrzi03/q6Zv7Euj/8u9Np+z8nwGqBKNQBADAxLrofAZaDIgKs0NPfVk1uIsD61HrQ8eF8ZzoSernzlARY95qP/fxgeweRdteiCQ3D9lUm3rfQqz02J8B6b3ZIgNU3ucdoIQGWJE0vrsh44NPa2zn3LtUleYktqu/YDKzQixrkdrYGvLaDpAQKgVi/OwnOwNqw8vWItd08KfzU8Jk/tu63BFivOf/831QRYLVAFOoAAJgYF92PAMtBkQFWSJv9s8gAa2+Z9TYfzHWmI999mdrw5M0J5mMvywlZvyrKTKxErgY26VTzfnuSOOhxKsDaOIsAK4TPX69bZr+r7JzIU92Cre+EZZZ/98tdod8VvKexr3wQsb5Tv9wVeuTNTzVo6qqMB0MtsTm+BtYHc60/zx+/nniAlcjC4rF+d2yugVWf21l7J/ZU75yFys4x1xTzbJAVfmr40z+y7g/d59Tp6KFCLzpCgNViUKgDAGBiXHQ/AiwHRQ+wukh/Pj0kwBoUuMOej623e7/AmY6EXi0qFeHJ8nHmYy8fZ54imd8n8kDykXMTOw3wLz3M+37xXuJ9Cw2wlo9P/P5B7z5PgBXG56/XjOIKXZJXZAlLLskr0oxji43HupphU/tqj9bpyvzVGQ98WmJ7vLC8yfc81lUnowq9qEFuZ+mbHYmvgZXIukzxfndsLiCfP2GUJdTLzjHXH/Ocg/usr++pNAdYoRcdIcBqMSjUAQAwMS7a8Mkn0s03S927S+3bS5s2BbY/8IC0alXKn54Ay0ExZ2CFtuCpH19+ZN2+6SVnOvLtztSGJ8v+N2QG1v+a231HIl/rs1dZ7+v3BU4B2roocqF7SZryL+Z9d7yTeN8sAda4xO8f9O5zBFhRJBWAxHm8x4vK1e+BFdZZROMyHwJ5rQVDmivyV0fMertw4nINnb5WF09q+mqHMT/H91+2/jx/uzPxqxAmclpbvN8dy5VLrSFa/cTAf4vvG9Q4+yq8zSiuSOyH1A3C1zZ86ofW/aH7nFpPMRQBVotEoQ4AgIlxMY4PPpBOPFE6/fRAiNWmjRlg3X239ItfpLwLBFgOsh1gPf3/Be6w+0Pr9vdedKYjoYvtpiI8WXqP+dhL7za3+33RAyy/L3DAO7W3dX/oQveSNDVkFlflysT75lSAteFZAqw0Cw/GQmd0ra2ojgheaJFtwKRCXZHgjDZbM5NCr8qZ2znwHRMjRGr8d+jveyKzguz87kSZ+bl3Yk/lTxgVNbxy/PTKdKmptr4vT15u3Z/qAOurCvPxHz7T1l0IsNyPQh0AABPjYhzXXiv98IdSba1UVydlZZkB1quvSmfaqxGbgwDLQbYDrOCpH7vet27fOMuZjoQutpuK8GTJWPOxl9xlbvcdbjrA8vukgptiH+gG18l69Hxz36fLEu/b29OcCbDWP0OA5TIsJB+73fXKB7rrlQ+a9RjhM5OCoeLmRdMtP8++fVWBG0Q7fTi/T2D7nF8kF6ok8rsTFpxHC67Cm2ML3KdL+MU5nhxo3W8JsF5x/vlDr5pLgNViUKgDAGBiXIzjxBOl4Hvj91sDrDVrpE6dUt4FAiwHxV4Dq3vkX86/eM96u3efd6YjX29LbXiy+E7zsRf/ydx+9GBkgPXc1fZPNSqZKk27yPx3Ios+B6191JkAa93T5uNM7ZPcYxBgOcrnr9eIWRsyHhS5tZ1979Jm3T90ZpLPX6/pxRW6eFLgtM7/nTDW8vP875Netp526PdJj14Q2D/tX80ZlXOGJxeqJPq7E3J7u693+Zbdif0AZlr4xTn+epl1f+g+p65oG2rvJwRYLRCFOgAAJsbFOE44QVp2bJJJeIC1cKHUtWvKu0CA5aCYM7BeuDbywGNnWIC14VlnOhK6VkkqwpM37jAfe84wcz2r8EWGcztLz15pc7HnLoFZGzMuad5B2Jp88/7LcpJ/jeueIsByIZ+/Xr98dl3Gw6KW3NZWVOvXYUFhzoS7LD/PPx73grJzwk47nDHAGtBL1gArkd/nNARYnpuBdWB3WIB1qXW/JcCa5/zzh141lwCrxaBQBwDAxLgYx+WXS6NHB/4/PMAaM0a6+uqUd4EAy0GRAVbI6XGhV+574geBO/zjXetBx/pnnOlI6FolqQhPFv2+6RAqfH2r4Gu1M/sq2EJnYCWzJljobK/mBFilf3U2wGpoSL4v4eIthN/C2ZmJ1Xv8Uo15+b2Mh0FebL+fsyli27gJd1p+ngeNe65xX+Nph9P7W7/fJGuA9cFc+x9yMwKsXnFen2fXwAq/umzo+yxZ9yXyXtsVetVcAqwWg0IdAAAT42Ic8+cHFm7/058CwVVWlvT661J+vtShg/TGGynvAgGWgyICrOA6MH6f9OYEs/ifMSBwh8/XWw861j0d+wnsBhfVn6YuwPL7pEfPiz6LKnzbjP7JB1jJBHqrJocEWP8b//bRvPOEswFWvQMHy3YXwm8FfP56zSiu0CV5RZZw4vu5b+qeVz9sXAA+02GQF9v59y+P2DY+LMC6IiTA6pe7QrVH66Tp/3rsd/5i84OyBFhz7H/AKZ6B5cmrEIZfXTY4jgRZAqwY73WyAfiXWwiwWiAKdQAATIyLNvzlL1L79oEgKysr8N8OHaQpU9Ly9ARYDrIEWG9Ptx4YLB8fcuBx7ABvR6n1oKP0yaYfONHgIvRUD6cDLLvrWSU7A+uvl5n///b0xPu3Ms+8f+gVEhP1dsii1VN7J/cYoa/LX5d8X6TEFsJvRcKvXBg6q8bnr9eAvMK4M3Jo8du9E+6w/MxdNe4Zy/5+D6zQt1OOBdvT+pkfUGiA9X6B/Q+2GQHWLbPfbfI12Lraopvt/0dYgHWxdX+8AKu5AfjuzQRYLRCFOgAAJsZFm3bulJ5/PhBmPfOMtGNH2p6aACtEdXW1hg4dquOPP159+/ZVYWFhQve3BFifFVt3Lssxi//p/xrYVvW29UDinSciHzSZ4CL0VA8nAyy/r+nTBGO1Z69KbA2sWdeZ20qmJt7H4gfN+y++M/nXGno1Q0cCrGYGS4kshI9Gdq9cePPM0maHPL1zFmr4+Km6bfxEDR8/1fbV8DL1uM0JsK4eNzPiNv+4P/Dd0PDYBeYHEBpgbXrJ/gcX8ly+On/UkLLJ2x+bnddrnLV/l+QVaUbowvNes/9z6+/69P7W/aH7wsNCJwLw3R8SYLVAFOoAAJgYF+NYs0aqqWl6X01NYH+KEWCFGDZsmEaOHKna2lotWrRIXbt21b599hf6tQZYRdadS+8xi//gDIXta60HEk3NOEomuPjyo9QEWOH9tdOeuyax1/Diz8x/F09KvI+FE837v/HH5F/rW485G2DVHUm+L43Boc0QsJXNworF5/9/7J13fBTV+v8XL9dbfvcbwAoqggJWhGsBUVRsKHZRsV5FpKio2N1kxWwKISGh19BbSIDQCS0JSei9Fymh19A7ZLPh+f0xmZwyZ2bOzM4mG3zer9fzInv6nJndmfnwnOcUl3rk8J5YtEfOoh3HAhKYunu+gGORNZnzURBZE7p7vrAtOAWrXTvW2dOJGcOLAgHrQOTdAN4wOBdXt1RwOjm0JSVgjRaeH6E4RfXVKIZd0vhYbBa7A+LVq8Lfu8ZdyPLS3lkVWLhSObWXE7D+y+YzAtZYNs8JAfzQWkrAultqyChghT74oI4gCIIgBLwvmnDddQArVojzVq9W8oMMClglnD9/Hv7+97/DgQMHStOaNWsGw4cPl26DEbC2z2UzZ/1CHv571VfSduWxLw+LerF17AoX9P+UOylgbZluT8Dy+5T/3Zf53/+Rr5G8uR7rY5z3O6k/7Rv7x7qwh7MClu+S/bFYFQ53L7TfV3kRxMD0evGyaI8cu8sN67inwfzOzwB4w6A4kj0P6ufszs0si03Bateu/eH5jhnDS+EDNWUORt5VIrDdWZqW2fnZ0jrrpvaCYQt3wcwNh2DhjmPQM3M7PBqbKRSn6L7quKfrCo8+fzFAsV/4e/dk/PzSOlPWHjC4QioIJ3ezx9m7IZtP59Hebk4J4AfXoIB1DYIP6giCIAhCwPuiCZUq6QtYy5YBVK4c9CG4zp07B7/++is0b94cbrrpJnC5XOD1eqUqz58/H9q0aQP33nsv/Pvf/4bbbrsN3nzzTVi9enVwRw0AVsZ9/vx5+P7776FGjRrwj3/8Axo2bAhpaew242vXroVq1aoxad9++y389NNP0mNiBKytM9nMDGobenWJza5c9gViYQ+2jl3hgv6fcj0By45gYNcDS+0vL1F5QaLz6UD3AOwSwoyfZaadhY41NvVr6/VVFiRpX9aszhl9nIUX7I/FqnC4abL9vsqaMgxMbxQvC0B+uSFt3T1fSJ2TJE/bkGjXrkVyAtbLAgHrcGRtAG8YnIi8XShghXt+NO1HFafovuoaiHR9s3co14jg965pAhGwUpaX3br8oHFyFydgNWDzGQGL8nZzSgA/sBoFrGsQfFBHEARBEALeFwWcPQuwb59ilSoBTJ9OPqu2bRvAV18B3HFH0Ifj2rNnD1SpUgWeeeYZaNeunSUB67333oPnnnsOBg4cCHl5eZCeng5NmjSBypUrw/z584M6cCvjbt68OVStWhWSk5MhJyentPy4cSTQ7cKFC6FWrVpMPY/HAx06dJAeEyNgbZ7CZs78gTz893hAScufz744LEhi61gVLrZMV+odXM2m0wQiGNiJgaUKWHQbdD7f37CXSN70b+Umnmb2b6T+ZPlzp2FBImkn4S57c0aXvXLO/lisvoAm1KoYuxKGWGB6meWGzybllnoN1XFPg2ORNTUeUrwVRyrL/mS9pYLVbiDm9XzL9P1KeH9NmaORdwJ4w+BMZHWhgBUhIWCpRvd1j3uKrtj1WGwW+AovC3/vnknMKS07dOGuMrmGgsqJfPY4ez3E5tN5q0eRdLv3EZ4Dq1DAugbBB3UEQRAEIeB9UUBUlLI00MwqVQL4/fegD8d19epVuHr1KgAAHD9+3JKAVVBQoEk7f/483HrrrfDCCy/o1jt79izMnj1bN3/mzJlw4YKxx4rsuGfNmgUulwtSU1OZ9ObNm8Ntt90Gfr8fAILggbVhIps5oxN5+O9+n5K2M4t9ceDjj9j9n3P6RYMWsJwQDKzuQsgLWADisakMfZESoNqbTzoPvVRzUlvr9VXyKAEr+kbrc8bH5bl8xv5YpJcAlZ/4Y4sQDEwvu9xw2MJd8EFEouT5UOyDiEQp8SZY7QZiUZ5vmD5fFQhYBSUC1rnIW4UC1u+e720JWPe6JxuW7Tdvk/A35dmk3NIyfbJ3lNk1FDSO72SPU12KrsIIWCNJulMeWPtXkDIoYF0z4IM6giAIghDwvihg6VKA7t0BkpIUkapTJ+Uzbf36AeTllclwmBhYVgUsPZ577jm45557dPN79OgB1113HYwaNUqTl5ycDJUqVYKBAwdK92c07nbt2sF//vMfKCoqYtJTU1PB5XLBkiVLAEAcA+vZZ5+1HwNrHSuYwXRqCU58LeV/uelA4d4wgNwEto7d2CX0iwYtEjkhGPh9AEn1jIUT2oY117ZhJGANeZ7kDX3BejykmT+S+hM/l6/Hk5tg7aWPn7PiYjb/0in7YwGwLhyWg/hjiRAPTG+23HDOpsPQISLS0rnoEBEpJd4Eq91ALJoTsF4L76spcyzyDgBvGFyKvMlRAes+9yTDsve4pzDl1XNFLyHsOntrmV4/QeE4GxsM6N0eAdg8WsBy6ru2bzkpiwLWNQM+qCMIgiAIAe+LJkRFARw6VK5DcFzAOnPmDFSpUgVatmxpWO6nn36CSpUqQXJycmla7969weVygcdjLXi30bibNGkCjRo10qSrD9aDBw8uTXvvvfegbdu2cOnSJZg5cyZUrVoVjh8/btq/1+sFl8tVapu//n/aHbemfm3+MprTVdu4HdFp3zKtSOSkYDD+E3HdhNraNCsClt8H0P1ebRtW4iHRnm4TPjUvr0duvAURQTBn/iK2zMWT9scCwAXCD2BcoUIFD0y/NP/EX8oDK8bD/n69LhCwTkTeDuANgyuRNwgFrD8839kSsB5wpxuWvc89iSmvBnd/lPKi+2PapjK/Rnz+Yli44xj0ztoOvbN2wKIdxwLbCfHYdvbcq0vRVei8VSPYPCf+82LvUlIOBaxrBnxQRxAEQRAC3hdDH8cFrE8++QQqV64sFcjd4/GAy+WC3r17Q0JCArhcLoiJibHcp9G469WrBy+//LIm/fDhw+ByuaBrVyIaHTt2DF555RX417/+BXXr1oV58+ZZGgfjgbVyGMnw+wB63Gf+8pAVrW3Uyg5+KnuXaEUiJwUDkYC1YYLW88srELB0trxnlzcKhBjRcYqYRnmKpH1sXNaInDiLYhE3Z3ysrwvmQqgpaiD8+DsqtPgDAM7F5SknfP5iaBwzWy5WlTcMihPrwm8TVsODf8w2FW9CMQZWLCdgvRneW1PmZORtAN4w8EdWEQpYkTYFrPruiYZlH3CnM+VruTPgpwnr4MHIOaVlfp64Xvc8Ls0/ARkbDpXukKh63Jl54RldGz0zt8P9f8zRjPX+P+ZAz8zt9oSsY9vYa6DH/Ww+I2BxnsOGArjk7yt9X0EB65oBH9QRBEEQhID3RQn8foCZMwESEwGio1mzoeVYxVEBq3PnzuByuaBfv37SdWJiYko9l5KSkswrCDATsFq0aKFJVwWs+Ph4W32KYASs5cSzTPp/v0e8Im5Ydgc/lT2L2HJXrzorGKR9rC1/fIc29pZIwOI9k6zOkXq8ersBTu1IyqZ+KHfiRMzvYl3Aoues6Aqbd14bL842q4ZXaPEHACq8BxaAsmuh7G6BqmeLz18Mv0xcbyrghNouhF08XzH9vh3eS1PmdGQNSkSaqRGwvJ5vbQlYD7knGJZ90D2RKS8q0zFlDXPufP5i6JO9Ax6JmScsf/8fczQC1GOxWdCnJA6aHj5/MXw2fLnp8bUescK6iFWwlT3/aixFAO1/DND/gaKi3kf460jvPsJD31cS60gNGQWs0Acf1BEEQRCEgPdFE06cALj/fiUWlhq4Xf1btSDjmIAVFRUFLpcL4uLiLNX7+eefoVKlSuByueD33+1FrXdqCWGgMALWkhIRz8rOfV2qG79E+DhRRK/srjy2XHGxs4JB6kfa8gVb2RgpegKWT7BjmJUg5XE1jHcDnPIlSU9pJX/yeLJjrM0XP2e+S2zeuSP2x8KzaUqFF39CPQaWDD5/MbQbsRSyOzcD8IbBVc5jSvWgKk55jxk/vduhnt0bMR02Jb4knJOrJf9md25WJt5XtdwZEOf5khlDy/CemjJnI6uX5t/tnq4RsKI939gSsBq4xxuWfcg9wVTAeqX3Asaz6vMRKyzPgboTpbpEUUSf7B3S7fW1Glj+6BZOwLqX5PEx91YO1W+H/22Q/W7R95ByFrB+/BFg/37l7337AHyh9/NQYcAHdQRBEAQh4H3RhC+/BHj4YeVBrFIlgJUrAfLzAX75BeC++wAOHgz6EBwRsFTxKioqSrrO1atX4ZtvvoHrrrsORowYAYMGDYJKlSrBzz//bKlvAONxt2/fXhjEPS0tjQni7gSMgLWol5LopHDEe/XokZ/DCV1FzgoG4z7Q1juyUbt00RsGMOwltm7hBe0xWJ0j0ZhVwSqd8lwZ+47ciRORHW2tf37O+OM862CwuxO77I8rlAjBXQit4vMXQ//MrTAw+ku4HHkjM+4LXe4Cf644dpvebocPeefCrxPXw8XCIl2PmauJdWFC9+/KTLyq5c6ArpyA9U54D02Zc5G3lubf456iEbBiPB1tCVj/daeaCFjjTQUs1R6LzYKPhiwLeD5E4pPPX6zr0SWyR2MzrXlhHd3MXgtJ1EYpxX42b8UQ/XZk7iEi6P8YKWcBq1IlgBUrlL+vu478jVgHH9QRBEEQhID3RRPq1gUYO1ZZRlipEgAdNurbbwE+DGASBbTlAAAgAElEQVQFlCQBC1jqEsDOnTtL1ykuLoa2bdtC5cqVIS0trTR91KhR8Le//Q06duwIV69elW7PaNyzZ88Gl8sF48ePZ9JbtGgBt912G/j9ful+zGAErAUlL91OLt27ck7u5WNnNluuqFBJd0owEMVSObQWYPcCgYDFeWBdPqM9BqtzZGQDmpC/R79lfBxGZHmt9cvPGX+uzhwQ9WKPU3vsjyuUcCIuT4jg8xfD8eFE2PVnxWjHLVj6KhVniZ6XzVNL67W24UVk1+I9HZhxvBveXVPmfOQtpfnqzoGsgPW1ZH8zmb4ecY8zLN/QnaYrYNVxT4MPIhKhQ0QkfBCR6Jjo95B3LhMvC0AJ7G+1naX5J+QvsiObOAGrHnVtcUuzgyJg5YaMgHXDDQAzZih/q//5h9gDH9QRBEEQhID3RRP++U+ARYuUv//2N4AFC0jevHkAN94Y9CG4ABSRJz09HUaMGAEulwtatWoF6enpkJ6eDhcvXgQAgLy8PPjb3/4G0dEk0Hj37t3B5XJBixYtYNmyZRrTIykpCa6//nqYOnWqJm/8+PFQuXJlqThaMuMGAGjevDlUq1YNhgwZAjk5OdC+fXtwuVyQkpIiP1MSMAKWuqOgkx5YF0/KvXzsyGLL+S4r6U4JBqJg6wdWaT2/RAKW6BgC9sCijiH2ZvJ51OvGx2FEZiRpJ6qa9Tm7fJYte3qf/bHwnDTzwKpA4o/qZRR7C3sMsnF5Qon0NmT8G9NJut+niMdGS1+NoOuc2lOarOfFFQxL4ASsVuFJmjIXI8l3Tw28TgtYXTxfSfVV2z2D6etREwHrv+5UjYBVxz0Nunu+gGORNZm8gsia0N3zhaPea2psrJkbDlmuO2fTYfnr6/AG9lpIrEtdYzYFLO4/igwF1fz5ISNgvfoqwM03A7z2miJgPf00wBtviO3NNx3tWpfz58/D999/DzVq1IB//OMf0LBhQ+Y/6IwoKCiA1q1bw4033gj/+te/oEmTJpCdnS0sm5WVBU2aNIF//etfcOONN0Lr1q2hoMB+jEV8UEcQBEEQQiD3xYr6LGCJO+4AyMhQ/q5ZE2DAAJKXlgZQpUrQh+ACAKhVq1ZpIHXe9uzZAwAAubm5Gi+nZs2a6dZzuVyi/gAA4NKlS7B06VLd/MWLF0NhYaHp4GXGDaBcTJ06dYLq1avD9ddfDw0aNJC+mKzACFiT2imeFvk5zsXAOndUTsDaPo8tV0jEPMuBfEUB08e+o62/dynAzixt+tAX2fbOF2iPwUoMLCs24lVrJ5BmXmdWwOpSXdt+XA2A3HjxObt0Wld4CJjjO9m2eYGtIoo/9O6RcyIq1thV6OWrGyYoaczumpK7iPLQ5/e4eOnasIW7gipgdfO0Z8b+vkDAopdQNnSnaQSsOM+XUn3dxQlYj7nHGpZ/xD2OKV/HPQ3md34GwBum2clR/RyM+GFv9l9kuY4lD6zD69nrh94JkN/1dLlBbEe6XHFx6TXUJ3sHPBqbKRTnfP5i1rO3nAWsvXsB3n4boF49ZQlhjRoAtWuL7a67HO1al+bNm0PVqlUhOTkZcnJyoF27duByuWDcuHGG9a5cuQL169eHO+64A1JSUiAzMxPeeustqFy5MuTl5TFl8/LyoHLlyvDWW29BZmYmpKSkwO233w7169eHK1eu2Bo3ClgIgiAIQgjkvlhRnwUs8dZbAN26KX9/+SXArbcqSwonTFAeul5+OehD0FeZEMswAhYvdMgILrzYo6KKSKtGyAlY2+aw5a6c05ah80WBfI28Rno31I5990KtcOYNAxjyPNvu2UPiY5Bd3mjFhgfwBZr3u1hs4E1PfOA9zU7usj8WnmPb2Lb7PEz+XjeuYoo/GT/LvXyHMpPakmNYX7Jk2YlluzGUV+HRLcIiPn8xPBqbWRpoXN+7KQMejcmEZok5FgWsdsx4P4zopilzhRKw1GV/tIAV7+kg1Vcd9zSmr8buMYblH3OnMOXLcwfHOhHyZa3EwPL5i2HDCm5zjm6UMlNUyAlYyfqN0eX8RUxQe/76oQPXF22jft9DaBdCOh5WeTFr1ixwuVyQmprKpDdv3tw0VMGAAQPA5XIx/6lXVFQEDzzwADRu3Jgp26hRI3jggQeYmJ5LliwBl8sFAwcOtDV2FLAQBEEQhGD3vliRnwUskZUFkFzynHnsGEDDhmQnwrp1AbZtC/oQUMByEF0BS9Zm/sQ2qCcilb586AgVf85iy10+oy1jJITJeI3wlp8DsG22Nn3ws2zbp/eL+zZc3mjT9ARBGeZ65PsRiQ8XTrBlTuTbHwtPwVZ9Aatgq3P9lCVzwskxLDFfPhySTKJEnvVpzm2c0IUSwA+t0+1edge8vtk74GJhETyXlCsttiR52jJj/igiQVOmMJJ4ijUq8ZqiBawESQGrLidgNXGPNhGwxjLlj0XW1Hhe8VYcqSwnLMtA+KLzYAbtGfV6eF/mGC7F1iQCGL/Bx7JB+o3S5YoKpa+b6RNHhoyA1bIlwM6dyt95eQDnzzvavGXatWsn3CwmNTXVdLOYF198Ee69915NeteuXcHlcsHBkt18Dh48CC6XC+Lj4zVl77nnHmjevLkmXQYUsBAEQRCEYPe+WJGfBQLi6lWAjRsBNm0C4I49WKCA5SABC1gZ1A6MhiJSiel5/2xlgyDDpVPaMnR+MecFYMcbakeWtl9vGEDyM2zbJ3eLBSz1mLvW1LaRWKfkJV5CCIi5iXwe8py9EwkAMOs3yWPXER/OH2PLCZZ+2YYP5kx7xB0NnqdDUMn8gxzDop7lPRp7TKbiRK1LdS7+Xdc7SJn9+tGqff5iaDNypaknjSp6+PzF0CtrOzzknWsqXvBeTR9HxGvKFEVW1YhOtIDVzdNeSii5xz2F6esJ9yjD8o3dY+z93nrD4IOIxHIRr1qPWGHqfcV7Rr0R3ocZ+6nI28j59F1mj22Zwf/AUeV8Vy5Ke+59H53A/iZL8FfZhbBJkybQqFEjTbp6/IMH63uVVq9eHVq1aqVJz8jIAJfLBfPmzQMAgLlz54LL5YJZs2Zpyr733ntQo0YNW2NHAQtBEARBCHbvixX5WUCaS5cAnnxS8cIqR1DAchDLAtbAJ9nPM38kjQWy9Ijf1e/iSW0ZOr+IWi9rNx7VtjkAW6Zp0wc9xfbLx2/i6fEAm79hAvFEkxlHn/+Sv3nxzArj/xeY+MDHKzvmoDslH8y510Pk78MbnOunLJkfS13T3cp7NPaY8iU5htWj2aDuMqa3A2lCLVJmz2LDIegFdn8sNgv6qrGMBHUW7jgG36WugXqeWUIBowcnYP0voqumjD+S/GY0DR+hEbASPe1sCVhNw0caln/cPdraPFPWISKyTIWrep7Z0H3eNt3zsDT/BGRsOATDFu6Cr8euZuq+Gd6bGfvpyBpQy13iyeW7xB6bpIC1fNsB6bG3iYghdctZwLrlFiVOKEBo7EJYr149eFkQ8+Hw4cPgcrmga9euunX//ve/w5dffqlJX7p0KbMUYdy4ceByuYQb5HTo0AGuv/5603EWFBTA5s2bGevbty8KWAiCIAhSgipg9e3bV3PPNAqUXlGeBQLm//4PIDc3+P0YgAKWg1gWsIa3YD/P+F5pKNClR5unsuUuHNcOls6nY2TZ3RFw60yATZO06QObsv0W/Mnm83S/j80/sonMicwOiqPeIOmDmmrbl0W006IV8eHcETbfyaV9h9aybfeqT/42WGIW0tAC5fzY8h6NPaZ+TV33T1j/Dul5YNFLiPNzpIZiuJucARcLi6BJXLZGvOjpYcW4TyPiNGXo/GfCh2kELNmYU/e52d+Rp8KHG5Z/wj3K3m+Wt3w8sB6NzSSB0YEsE3wkZp5hvbc4AetMZHWo7VbESd/lC0ze7pmJ+uecKpe5bqf0uNtGRJO69A6IBgRLwPrgA2UX5wcfJCEXHnpIbA0aONq1kHr16kGLFi006epDq8jVX+Xvf/87fPXVV5p09aFV3XBGfWhdvny5pmyHDh3gH//4h+k4vV6v7sY3KGAhCIIgCBGwREZvZsdTUZ4FAuall0gQ93ICBSwHsS5gvcx+nv6d0lCgS482TWbzzwvUYjqf9tDivbdkbfNUgA0TtekDnmD7PbqZzedJuofN30+tDZHZQXHU6/p9WyHt48DOAR+s3smlfQdWs233fJD8fXC1c/2UJQuo85r5R3mPxh5TO9oUUkxiYHW/l5TdPi/oh3GxsAie5YK89/r9c2bMrSO6cAIHu3z4+fDBGgGrh+cLKaHkfk7AUsUwPWsaPpIpX1FiYLUZuRIuFhaVLhM0s5bhPZljOBtZvTQvYvxyJi/G0xEei82CnpnbYdGOY6yQSZUbMGet9HjbRUSRuuUsYJ06BfDDDwDNmytLCB95BODZZ/Ut2FSUZQPogYUgCIIgxtj1wKoozwIBs2kTwN13A4weXW5BSFHAchDLAtawl9jP075RGrIqIvHePxvT2fxzR0ie3wewa4F+vl0PrI3pSuBqPr3/4+zY+K3gefiA9fnztWXo/E1T2Bf/Ea9SfTfW1pVlxo+BiQ9nDrDljmy0Pxae/SvZtulllwdWOddPWUILk3PCy3s09pj2jU0BK8x4F0JaoNw6s0wOxecvhu7ztsE9v8+GWu4M6M0JWIOS+8IHEYnQISISPohIhHrcsr/m4YM0AlZPTxspoeRBNyuENwsfaiJgsbuzlucuhFbt1T4LpctqBaxbS/N4r7UYz9fCNh6NyWTK1XdPlOq7tjsDfonuEjICFk0o7ELYvn17YeDWtLQ008CtzZs3h/vuu0+THh8fDy6XCw4dOgQAJHBrQkKCpuy9996LQdwRBEEQxAHs3hcr8rOAJf7zH4Drr1f+B/G665TP//d/xMIE7/cOgwKWg1gWsIa+yH6e2lFpKFAPLN4T6uwh4x0N50YQAcZuDKz14wHWpmjT+3FK9EHOe4in211svuiFnc4/tZfNo5dl9n3E3okEUOKRBSI+nN7Hljm83v5YePYtY9uml13uL+c3ObvkUgGiM34yLx+KTP/WnniltxmDCh3jbNPksjseIPGxlg9jvw9FXe5gPhdEspsvtAgfoBGwev3+uZRYUp8TsJ4LH2JY/unw4Uz5Ou5pkN25mXCuVc+s7M7NytX7yo69E96DOZbzkbeU5vFea7E6AlYtN7vU8yH3eOn+Z41PDhkBa8EC8p9+e/cC+HS+PsePAwwf7mjXQmbPng0ulwvGjx/PpLdo0cJ06+yBAwdqlgMUFRXBgw8+CI8/zv4HUOPGjaF+/fpMe8uWLQOXywWDBhnsPGkAClgIgiAIQrB7X6zIzwKWaN0a4PPPjS3IoIDlIJYFrMHN2M9TSta+BhoDa/14ttzJ3dZ2NLSzC+HaFIA1gmDKfR9lx7Z/hbGARQes9pYIYzTF7BIYOJHP5g9rTvJ6N9Q/WX6fIvxtma78y8/hzB/M595IfDi1hy1/aK3+WKyyZzEnYFFLzPYuda6fsiQnjhyD6olY0bAjYKW3MRavAAD6PKz/fSgr6CD73jC4qiMMqfZaeF+o5c6ALEpI6v17aymh5CE3+/ulLkfUs2fChzHla7kzoI57GiR52mrmuyCyJiR52lY48aqWOwPeC+/OHMuFyJtL8x5ws163XTxfSQlYDd1phn3Su1cWbZwSMgIWv/NgcTHA3/8OsJb7mV2+XClbFjRv3hyqVasGQ4YMgZycHGjfvj24XC5ISUkpLfPFF1/A3/72N9i7l/zHy5UrV+DBBx+EmjVrwrhx4yArKwtatmwJlStXhry8PKaP3NxcqFy5MrRs2RKysrJg3LhxULNmTahfvz5cuXIF7IACFoIgCIIQArkvVtRngYoGClgOYlnAGsDtQji5A2kskF0I16WyZeZGWGuLCZjOC146AtjqUQCrRmjT+zzMjm3vUjb/6lU2P5715IBV3H+fXzjB5h/hXoyGPE/yetXXzo2eJ1pSXSVdFRNmdGLzu1RnP3e7i8TdEnFyN1veydhUvIceHTfMZJe6kIUWSCa3NxcYQxH+mpExvcDtNP0akfJrxgT/OERkR1s6rjfDe0MtdwbM7/xMadqBSR44c6kQfpm4Hh7yzmWEksdis+CHNCUeUwNOwHohPNlQZHk2fKhGwBKJNR9EJNoSruq4pzHLJctL/GoVnsQcz0VKwOKXXcoKWA+7Uw37ZHav3Bw6Aha/bNDvV9LWrGHLlaWAdf78eejUqRNUr14drr/+emjQoEFp0FWV1q1bg8vlgj179jDpR48ehc8++wxuuOEG+Oc//wlNmjSBLJ0tqjMzM6FJkybwz3/+E2644Qb47LPPDGNymIECFoIgCIIQArkvVtRngYoGClgOYlnA6vEg+3lSO9KY4a57Jabn/cMv5et2l77wRAtTtDeXGjA9sa5W6KE9flRbOQxg5VBtOu8FxYsvfnadMHRllybBzB+VsajCE7/EMKE2KzwNbkbN7wNs236fgSca51E1/Ts2f9av7OdDG4wvhhP5bHknY1PtymXbps/R7gXO9VOW0AJJ/8bmAmMoMuN7a+KVUeB2mgHUjoYrhwX/OETM+8PSsbUKT4Ja7gzYkEAtk86OKW1OtEuiz18Mj8Zmwn/drACvxtPSs+fDB0sJWLXcMy0LV909X8AxbnlkQWRN6O75osyFrPc5AetS5E26Alac50spAetR9zjdcr+mr4eLhUWwcMcx6J21HWal9kcB6xoEBSwEQRAEIeB9MfRBActBLAtYvDiU/gXboN6ue6oVFYoHsmaMtRdp2niPEN7jye8DSH5GW2/5YIDlydr0Xg+x7eXncMdAuTr6fQAxNwnmqQ61jMpEeEp+muR1v5ft24pXG78cLONn9rNZUPbjO9nyTsamyp+vnR/171255vVD0bspyys+r3rnORjw81J40do8WYmbpl5nMgx6itRZVgZr20WkywVGVy0p+nvom70Dise0JOlZUabXXp/sHfCIexzT1svhAx0RsGq7Z1gSr1TvMX55ZHnF0foggr0XXI68sTSPjxvWVVLAesydolvu3YGL4f4/5pR+/jbCU1rvQpfaileWCShghT74oI4gCIIgBLwvhj4oYDmIZQGr293s54k6Qc/06hfrBINbPcraizRt/I6G5wvYfAD2hVq1pQMU49N7csv4dmSx+YUXlXTGO8qm5SUCDGxKCTuUl4DVuGJTv2LT+eVhh9YZXwzHtrPl9y0zLm8Ffg5przTRro30HMgsnywPMi14+MgKP7LozUtUFWvzlPETKdv3EXI9iY4h+kb5+R7cjNRb3Mepo7ZG2seWvov+nK5KvTFvk/ThL5teez5/MXw/bB5T5pXw/obCzovhrHDeY942aBA1TyPW3O2eLi0WheJOhh9GsAL8FUrAesg9gcmL93SQErAaucdK9/9dBFmKXhB5J7QesaJUxBJ51AGggFURwAd1BEEQBCHgfTH0QQHLQawLWNzL3ITPxA3r1S/SCdQmikUla7wH1qm9bD4AKxLRL9ZL+mrT+WV82+aw+VfOKel2AsczViI89X+cmt+7SL9Wd3Yc8w77eVpH9rNZTKuCP9nye/W3TrXM9rls23Tg+x3itdKWlk+WB3PCrZ1np8ZpOC+Cvo3mifbSm99FEdqS6orb6lJDfoxDXyD1FiQ5c9xWSW9j7fujCm2j3xLPocGc+k4fYsq8aiJgNQ8fpPmNUgUVOr2upLdUHfc0OBZZU+N5xVtxpLKcsKy8sD6KSGD6vxJ5AyVgsXHDEiQFrMfdo6X77xRBvqMFkXdCLXcG9MrcDn2yd8CjsZlM2cdis6Bn5nYYM2th0ASsMWMUwWrNGoCVK5W0ceNI2po1AKNGoYBlBj6oIwiCIAgB74uhDwpYDmJZwIq/k/08/n/ihvXqF14Ql1/J7soFCbXlXs55YcDv0waEBwAY+KS2/sIeAIt6adO738eO7U/2BQounbLgHSVhdFyx+DtJv1umW2tnxGvs58kd2M/7VxpfDAVb2fJ7FhmXt8K22frX0fZ54jqBbApQFkz4zNr5kQl+LoNd4VQ0T7QH1vxYJc3vE9ePvkF+jMNeIvVUz6ayZo7kRhCqbZuj1Bv1hvU5PXuYSVd3NBRZbXcGfBjDxd6jodKXbT8EczYdhmELdxkKNfxSPTP7ICKxTASsjyPimX4LI6uV5vGB77t52ksJWE+4R0n3/0OEu7SeKmDV9cwyrFPjiwFBE7Cuu441ozREH3xQRxAEQRAC3hdDHxSwHMSygBV3G/s57WNxw3r1LxwXx5NZMYQtx8dvMnuB1FtS5Q1T0mkvJzp9YXdtetI97LFsmcYdwwnr3lFGlkQFmO96B+nXsgfW2+xn3gNl71Lji+HoZrb80v7OxZzaOpNtuysVZHrbbG15q8sny8MLy2zDAt74pa52sC2c6szTzB9Imawokq7XjizDmovbLUvm/W5tjlQBa+Sr1uf0zEEm743wPoYiSeq0DP15pdNLBH81WLxeex0iIi0da4eIyDIRsP4X0ZXptyiyamleQ3cakycrYDUNHynd/48Rv5XWOxZZU6pOsASsUaOsGaIPPqgjCIIgCAHvizokJwPccw/AP/4BcMcdAOHhAEVF5vWCAApYDmJZwOIDlo97XyxI6dXnY2ip8WSWDmTTD66T39FQZklVXA1tWk6cOOA8v1vVpkls/vkC695RRkbvkEgv07Iq4kxqy6aP/x/72cyj6shG/T4CjTnFzxe9c+OfGdryVsU73rupLIK+p30S2BjtEKhwyo+B3rlyXmeSrldfFnoJ4VxP4Mdth7kek/ngvld53ZTrpXdD63N65gCT9lZ4b6jNCSPq5zYjV4LvwDr9eaXT1eXKoASLr2geWJ9GxDH9+iOrGAhY7aQErKfCh0v3/7OH7MRa3gIW4hz4oI4gCIIgBLwvChgzRnFrr1IFoHFjgFtvVVzcf/ihXIaDApaDGApY/RqZvwxF3yAWOmRfGtXP/Ruz6Yc3UDsaCgSc8Z8SUcLukqrsaIDceG16t7uVdlURZLabzT972CEPrBLhqWd9khZ7C3uCrCyjm9SOTUv9iP28K8/4Yjiw2vy82Y05tXkK2x7tybd1hra8VYFQ9W7S88SLv1NZyuZkHKrBz1o7z070HahwynuBTfuG5M2JIOl69enjz88ByE1QLD+HPT56bmb9Gvhx28FsCaHIW9PunJ7ex6RNmDIZHovNYoSRx2KzoG/2DiVY+KG14nkFYNMvnylN9vmL4e3+i4WiS6jGwPqME7CKKQHrv252qXfa729Ch4hI+CAiUTM+utzTFgSsXzy/lNZTlxCigFXxwQd1BEEQBCHgfVHA448DPPEEwJmSZ+miIoDWrQH+3/8rFy8sFLAcxFDAGiQIfC7zsu7ESyG9Yx7vteUNA1gzRskLJBZV5h9K3B8+Pb6W/nJEbxjAiV3OxcDKSwToScXAir6RPUF+n4EnGicqpXO7kPE7JBrt9gfALiczG7NVNqazbXShPOI2T9WWt+OBJbMrZJ9HyC6SImQ8t+zsPulUnC6nPbCmfk3yaKFJr77fpwiBXapr8+JqEJEw+RmSPuN7Z47dKkZB9ud3ATi5J7C5pOeU3zhi33LdXe4AAODgGrY8DZ1+6RSTdbGwCO7/Y45QeAnFXQhbR3TR9K/mPcwJWLQVRNaE7p4vSoUsOq9Z+FDp/n/1/Ey1iQLWtQI+qCMIgiAIAe+LAv7zH4DJk9m0PXsUr6xt28p8OChgOYihgNXnYWde8OzYQWpv8R73a/NXDlPyAnmhn+tR4vPw6aVeZTri1MjXiKdPIMeoCk/08UVV1Z4k1RONXnbnDSvxdkskIgsf84rfTU1vtz+1D3pnQF2z6U20YSLbDi2AbJqsLW8nBpbs+ej7iHb8ep5boqWTVs+7kzslOh0Da8qXpMzMH5W0q1f12xn7jsTxvsvu+jm1ozPHbhXec5K2TZOUJZOBfH/pOT25m80zizfHezvS0OkXT2qq6i0lrOOeBtmdmwF4w+Aq54mlemZld25WZt5XtdwZ8HmE9j8I1LzG7jG6c8uPl857LnyIdP+/oYB1TYIP6giCIAhCwPuigEqVAFasYNP8fiV97doyHw4KWA5iKGDRsZnK2g6sJoPs3UCbv2yQkhfIkqrZvyleWHbqqsLR2Hf1X269YYpY0oWLv9X1DlZ4SrqHzb96VXyy1lMxY4Y114oRE1uz7YzkdiXcPlf/Qgg05pQZ69l4NxB7C/l7Y7q4jpXlk6XCjuT4c+NJP4Yx1DgvNysCUlRVpR+n4285uQshvex0+ndKWnGx/e+Uaon1yN+T2jl7/LLM/k1/fBvGA3S7K/DjVOf05C42fc9i47EdWMWWp6HTzx/TVPX5i6HNyJVQy52hibNV1z0NkjxtoTCKjVVYEFkTkjxty1S8quXOgDYRMZo5q+WeCbXcGTDQIxdDLsnDxvZ7PnywdP9uz0/UHKCAda2AD+oIgiAIQsD7ooBKlQBWrmTTUMC6NjAUsOid4sra9lMXXL/HtPmL+yh5gXhgZfwkEehZZJTnxeWz4jK0d1Q254WwNoU9CbzwUuwXn6wNE0iZMS21+RM+Y9sZ/jL7+U9BsHQVuzGnZFk3jq0fczP5e8MEcR0ryyetXgcJtazHUMtLDL7QJwMzLxIeavQ88dDLTqeVeEr5i+x/p1SLqkb+nvCZ83Mgw6xf9cc3X7u0zdL3n5/TE/lsGbMNE/avYMvT0Onnjgqr+/zF0Dd7h26crWJKmMzo0aHMhSvVvoiI1sxfbfcMqOOeBicibzedazVmF532YniydP8Rnh9L66GAde2AD+oIgiAIQsD7ooBKlQCefhrgjTeIvf66kv7MM2z6m28GfTgoYDmIoYBFv4SWte1bTgY58Elt/oIkJS+QWFQzOhnHyTGz3QuVbe4181UVoKiQjD+b80LgBayE2mw+XZeGFoFGvqbN53cdHPI8+9lIdAq2MLOGWy5EX1vr0/TrlQby5/rnl0/a8SVzzJEAACAASURBVMRTY1xZWaq4aYq1PqwKfbKo85JUVztOo3niob32pnyppBVdce577A1TNhMoD2b9oj+muSYB3o1MNKfHd3DX1gLjse1bxpanodPPHjZsRjfOFrU0tGjNOKHYVRbWLkK7RPsu9wzLuybS9lL4QOn+PR4S1w8FrGsHfFBHEARBEALeFwXUqgVQu7ac3XVX0IeDApaDGApY5Wl7l5BBDm6mzc/pSvLtLqma1tHYS8PMtkxnPbDoGFJFV8j4MiPZeqtHsSch/k4233dJfLJoEWjoi9r88dySnOSnuTmL0w9O7vdpxyE0mzGwVo/Ub5MX9Phx8eKaaPx2PPHUubBSZ2l/a+WD4YHFzw/d30Yq1tiwl8zPEy16TmqrpPkuOftdHvtucOdAj4yf9cck2rxB1kRzemw7W2ZXrnhM6vXMi7I0dPqZg/aOnY5tti4VAIjYlbHhEDSImqdZfhgMax/h1cxfHfc06BARaXv+X7YgYP3u+b60HgpY1w74oI4gCIIgBLwvhj4oYDlIyApY9BKcoS9q87OiSL7hUrMSi71ZmzblS2UZod0x7l4IcOk0+dyrPvmbDr7ML1NcOZQ9CXxw9ivnxSdr1QhSJvlpbX7ax2w7Is811UTByad9I3fcdnbUWzVcvz11R0kavaDq3jDtuNXy8RaXvKq7DVqps2myvMefHaHPDnSfW2eQv9M+Nq9LXzMTWytp9DXthA18Qn9Hx2Bi9N1enyYfA4v3chNR8CdbJj+HzTe6nr1h7NzQ6af32zv2KV+RNkoELBq9QPBOWweBgFXXPS0gD6xXwvtL99/Z06m0HgpY1w74oI4gCIIgBLwvhj4oYDlIyAhY3e9jP9NLcIY8py0/18MeiLqkKkogLMzvqg2U7g1TPE5mdLI3XlWcuHiSelGnBCP6xZPfDW15Mjt2Psj75TPik7VyKCnT/3FtfupHbDt9BbHDSk0Qx2dXrrXyVlgxRL/t1SO151I3qHqY/jhyulo/f3aWTlqJmVUW0H3SgpyMgJX6ISk//hMlbftcB77TgvMmEk2Dycwf9Me3aRLAHINdCvnzSH8WUbCVLbMzm+RZvZ7p9FN77B27iYBlFAjeWQFL62lVzz01oBhYr4b3k+4/0vNdab2jKGBdM+CDOoIgCIIQ8L4o4NdfAQ4cYNOKi8tnLIAClqOEjIA1/lP2865cMshBT2nLp30s9sKhl/GpllgXIK6GNn1ia3mvI9FLLQDAhRMkjQ6afmwbGRe/lGlpf3bc9I583jDWe4tmeTIp0+e/2vxxH7DtiObC6Fh2L9AvYxZLyYzlg/XbXjWcLWtXIPL7APo8Yq2u1RhY6k6EZh5/vRsAFF60N1dWofvdMo39jpgx7n1SPvVDJW1dapC+5wGKoFaZ8b3+WDama72mRNbjfu0yTRFHN7NldmSRPKvXM512cpe9YzcRsAD0A8Hf/8ccxwSsryK0u7ze454CtdwZkOz5SGpe+F0IXw/vK92/1/NtaT0UsK4d8EEdQRAEQQh4XxRw3XUAK1aQz36/krZmTbkMBwUsB3FcwOpWR15EoG1yB/Zz/nwyyP6Pi+vQHh2Ml4POizNv4z8BmPq19bEOa05ewM8fI+lj3yV/H1xNxs+/SC/qxZ6E6BvZ/AvHxSdr6QDqxfoBbT4tRnjDAKKqShwPJczsytUvE6jgsGyg/hjoJZV2BCWawosAfU2uP15AsSOY+X0AA3SuS9H1GUzoPjdPZa9vM+hrNqWVkvbnLOvfCasWbO80v08cO0+19WkAx3eaj3Pq10p7dJqII5vYMtvnkXFYvZ7p9BP59o5fEANLDz4Q/MXCIl3vLPVzPc8sKc+tbzxaAatpTAZ8Omw5POkeoTsfxZHKv9mdm0Ed9zQm783w3tICVrSH/AcFCljXDvigjiAIgiAEvC8KqFRJK2BVqoQC1rWAowJW3B3WlnHRL26ZXjZ9Z4kHQ+FFrcDDW0orG/2GKR4nvHBW+oJtIGrsyiMTeO4oSZ/4Ofk7P4fEWKJFAm8Y2UFRhd/t8dxR8cla3IeUSayjzdcV8CRs90JFNBTlRVUN/EJb0k+/7+WDSTkndkP0+wBy47Vl9bzICi8CDH1B//pUrzG+3oRPTcZXRh5HdJ+MgPU/87pjWpLyY1oqaWeP2LuGulRXzK746BSGYrZ6LdQDOLjB/JimddTOsYjDXFvb5yrpdq5n+vPxHfbmwIKAJULPO+ux2Czom70DemZulxKDZqcN0Byj7/J5uFhYBE+Ej9adh4LImpDkaQt13NOgljuDyXs7vJe0gBXj6VhaDwWsawd8UEcQBEEQAt4XBaCAde3iqIDVpbp8gGvapnYEmMf9T/2OzJIlYQ/LtREjCNJuZinvKXGwRHnFfoOXzJL4XH4fKxjQyxGNAornJrAngc/fPFX8cr+oJynTtaY2nxfKrFhuAsD8LuI8WQFLjSkl2umQFt94W9Kf1MtNsDbuLdPFY7l6lS3Xu4F4yalRYG1vmPHSST5ovpEF0+OIuXamkL9lBKzRb5Lyo95Q0mivQlkb9pIi2lqpE6wdGmU96nrWNy8j64F1eD1bZttsJd3qJgF8eXopshUCFLBUeO8sn7+4NN3MS6vNyJVQtH6i9hgLLwAAwLcDxXPzQURiqXClGp3fMryntIAV6yEetihgXTvggzqCIAiCEPC+KAAFrGsXZ5cQWhSuaOtSnf28fa49ryorNuZt1muKNn4pD207MsXCR+ytcv1mRZMT4LsiLiNafraACiYdfaNWJKK9aZw0MwFLTwiij4EW33iLu83+2PREEH8RW653Q+2YzQJr93rIOI4VH3NM14LscUT3RQtYEz7Vr6OKjQOakPIjXlXyzpl5YJXMV8xNJC31I3tijdOULtlz6Nqf8pV2jkUcWsuW+TNDSbfqgcWLgEe32JsHhwQsI8y8tHz+YiXWGH+MJbusXjq2WzgHIlGJzn8nvIe0gNXFQ2KBoYB17YAP6giCIAhCwPuigEqVAMaMUQSrNWsAVq5U0saNI2m0BRkUsBwkZIK487Z1hrEXkxM26nX9ZWBFOsKSNwxg8LMlf9sU7Ia3UCbf7wMY+45OOW75md8HMPJ1bTlaJBrztriNQM1IwDIUgqhjsOpZZWomohB//pLqkfHuXggwsY1cP0aeU0NftDZmWmwz8lazCt3Hpsnkb5GAZeR11uMBJf/sIePjUL3S4muRtJRWziz/DAS/T/HmdPI6m9xBO8ciDq5hy2ydQcZkxSs1sS77+cgme3NRBgKWip6XFgAAbBB4YF0+q+Sd2iucAzMB673w7tICVlcPmQcUsK4d8EEdQRAEQQh4XxRQqZIStJ02o7QggwKWg4SsgMVvXR8MG95CfxmY71Lw+u1SnQgJMuVz4s0D1Ke0UgQ5Oi/6BmfGayRgyR7DqDeCc43oUXiBm/PbzJcLisxIJEt+xlpbW6bLeatZhW6H9njhBSwZr7OUVgAnxZ4x4A0DmPkjGSMtMI99J/AA/IEgE/fKjk1ur51jEQdWa8+1iux3RHReDm+wNx+8gOWkYGqFDRO0x3j5jJJ3ao9wDoYt3AVnLhUySxTp/PfDkzQeXx8NWSYUo+I9JMahrIB115eDUMAKcfBBHUEQBEEIeF8UMGqUNQsyKGA5iOMCVvydEi+wEjbX4/zLKG9DX9RfBsYLIE5bfo78y35cDbk2ezXg0mR2IZSxKuKLx4pgIXsMsmYWGP3yGf2xWO1Lz1No8HPWz7mMt5pVcYFuhxYMJnzGlpMVUoy+e7RoGHc7SR/9lrU+nI4JZkkksmCT2mnnWMSBVWyZzVNJnt+nnFc7/R9aZ28+aAEr7RP7gmmgwtf6NO0xXTqt5OkIWCr0EkU6v0N0T/h14nqYueFQqccXHZOLtm6e9qX1jkTWkhKwIobNQgErxMEHdQRBEAQh4H0x9EEBy0EcFbCiqjoXt4p+AQuWDX5W32vjyrng9h2MJXUxJrs1BtK2CKtLxpyyeX+Yv0hfPOlcf6rnFP8iP/ot+flLqiv/3bAq7tB116WSv2kBy4rY2O0u/fysKNImHbdu5GukHzOxZuy7zntf2dk8QsbSv9DOsYj9K9gymyZrx2jHq3T/CnF/Zmh+Py0Kpk55CtLXo2qXTil5ep5+HD5/MZNftDNH2JUqeN3/xxxKwGpXWs9IwKIDz6/bsBEFrBAHH9QRBEEQhID3xdAHBSwHcVTAirtdebFxYrnY7N8cDMas82I76Cn9wOe6HjwOmeMCVpBNhNWg3U7ZmQPmF/b5Auf6m/q1+EW+d0P5NnLi5UWWuBrGweNp+N0W14whf09sTco5JTbOCSdt0jt/jniFpPt9xruCJgawXFJEMIXU9DbaORaxbxlbZtMkcTmr/a8Yam9OrPwHAC+Yysa1kzl/68Zp+7t4Usk7uUs8HrN5yxcLWCoXC4vg7f6LoZY7A5I8ZJdZIwGLDjxfek9EAStkwQd1BEEQBCHgfTH0QQHLQRwVsBLuUho9kR94W/NjnVsWlFAbIKqaNn3AEwCj3xTXuXQqOC/E3jCA2Fu0u42FuokoLw+sU3vNL+yzh53pq3SnPZ0XeUOjXvatnu+hL8gJBPxui6tHkr8nfk7KOSU2zuhE2qRjrA1rzo6ri9GS0QCWS4oIppA68XOAYj+bJmLvUrbMxnRxOav9L+xub04mt5fsQxCPzMlloGvHauupApbefcJs3nZmm3aremMNiiYxsI5E1oKHvHPh14nr4cylQt3A8yhghT74oI4gCIIgBLwvhj4oYDlIyApYa8aW7NL3buBtHVgFEC1YXtevkbL0SVTHySVovA16KrjLnmTMat8irCxLo5ebBWond5lf2Kf3l8+80qbu1uf32RNZZAQCfrfFlcPI3+ltSDmnxMZJbUmb9Hkf8jw7LtH3ze4xmhFMIXXCZwBFhWyaiD2L2TIbJojLWe1/ebK9OdHsSGpiapw3pwPx0x6Bql04oeTZFbB2ZElPg38+WbZbmFCP3SFRBxSwQh98UEcQBEEQAt4XQx8UsBzEUQErvpbS6JEtgbc1sKnycnTpdOBtHVgt9sDq/V+AgU+K61w47uyLMG3pbUqWWr4uV75LDbkXSlnRwBtmfWc0PWTbGdbcufk7vtP8wjbaSU/WoqpJzLuODXySfbm3I7LICASFF9k6K4aw15mKU4KpOqZiNi4RDG7G9iXbXmKdwL2wgikGT/hUuyOpiD2L2DLr08TlrPa/e4G9ORnxqrV+1F0TrV6nehscqKwZra1z4biSd3ynuE2zeds+T34e6Lhz3e+VqoICVuiDD+oIgiAIQsD7YuiDApaDOCpgda2pvEwOb+HMy2NeYgACFvUyu3ywzsutwQuvkzGUeJvwqX7weN5SWskH/+7xgPwYLO2MZiBgGbZDLRWb9Ztz83dsm/mFfXRr8M6fjPFL6kpFFovtmAkEl8+y5ZcNIn+rAchVnFqSq3qV0WmDmpJ+rIogJjGNpAjWLoRpHwFcOc+midi9gC2zLlVczmr/exbZmw+7HlhWPQVV4UuP1aO0dc4XKHl2Baxtc+TnYX4XUi/pHqkqKGCFPvigjiAIgiAEvC+GPihgOYijAlaX6s6+SCbVtR/LqOdDgfV9QifAsBPWr5FcuVFvKEKBrEg05Hn5MQBY2BnNQMCi24m9VXv+VLFjtoMC1uK+ZCdAvfE4JaLaNX5JHYC974aZQMDHalvan/zNC1iWREsDS6oLcJnbpXPAE6QfqyII7SlmF+bYHPTEGvaSViQUsSuPLbM2RVzOtE9u7Lvy7M2H3RhYdj2wRLt0AgCsGqGtc+6oknd8h7hNs3n7c5b8PMyPJfUS60pVQQEr9MEHdQRBEAQh4H0x9EEBy0EcFbCiqjm4c2CJbZ5qr163uwN/cXXyOGiLuUn7oioy+sXS71OWVYrKqCKRVQFLRWYsMkz/lpSf42bHPuQ55+cxSWc3O6vLI4Nxjgc3086P3wcw5AVr7Zh5YF04wZZf3If8PfFzraigio1d7wjs+HZksp/7NSJjsiqCJNRyJpi7emxJddn2o6raP84hz2lFQhF8kP41Y8TlZK5p+rNd77QpX8kfIx2HzGoMrMKLyvdNtEtnXjd2Satq544ofR3bLm7bbN7+zJCfh+xoUi+xjlQVFLBCH3xQRxAEQRAC3hdDHxSwHMRRASsYtmp4OfVdTsHVeaMFjElt2bxML/vib0UkorFaXo8Z35PyK4cqaX6f/HJJu+eI3s3OajykxLoAs38V58XJxB7TsUFPieeo8KLJDn3UscnEwOKXui7qSf6OvZnNowW/tSmBzf368eznvo+QMfFBz61e54HCL2/s8aD94xzWXCsSiryN8uezZVaPEo/NqK++j2jHLrHjnhCNgKWzi6ZoJ0hZATgnnvpu67Q/oIm23tnDSj/HtonbNZu3rTPk5yEritTrdrdUFRSwQh98UEcQBEEQAt4XQx8UsBzEtoClF/zcaeNflP9qRi8hm9iazVs1gj2Zg5vJt1tM7cYlU14GkYAVrNhEvKleJHbiLx3ZJM4b9Yb98dBL6nhk50Rmhz5+ia1hvDRKtBDtDmfFts1iP/duQMZU7LfentlSSavwY7N7nCmttCKhyNtocgc2bfVI83HxlvyMtoyFHfcYaAFr3Ptazy7ac5NHdsmybGw+3s4eUvop+FOcbzZvWyw8nGVGknoJtaWqoIAV+uCDOoIgCIIQ8L4Y+qCA5SAh7YGVVBfgyObyH0d5Gu2ZMv5/bN7yZPZkJj8j327RFVJPpjyPyAuFFrCWDw7u7nCMUd5KdoJQH1wjzsvpav4ir2f9G+t/6fw+gDEtjdsVecaIOHOArT/iFbnjTvvY3nF5w0pi0x1h03rWZ48vkOvcCei2+z5i/9pKaaUseTOcI8GcrRpuPi7eRAKWlR33aGgBS/0u0u2aXVvqcsz4mtpzn5eoeBLa/W6fOaj0UaCz0YLZvG2eIj8PmX+Qegm1pKqggBX64IM6giAIghDwvhj6oIDlIPYFrDJYYpeXyHrHBBq3pywsTmJ5WPSNEvMnWEKW+hFbZnFv9mQOekp+nFfOk3oy5VX8Pv2YN4Obkc9L+ln3hgrUdi+0F4R6/wpxXk6ccry58coGBfzxJtbTb7fvo8ZfPL1dLo08Y0Sc2svW58epd211vV2cLjNnUzsqIgSd1uN+MqaiKxbOgeRSSavQffRvrO2336Ny40t5T3usMqZ6IBqNizeRgLVttr3jpwWsZYO07cqydQapM/QF+8HeaTtzQGnDroC1aZL8+Of9TurF15SqggJW6IMP6giCIAhCwPti6IMCloOErAdW/8bKy9KhtSQtvW35jUfWZOI99bhfri1+Cdm497n8bmz+IEGQdz27eJLUkykPwMWzMvFCWdjDujdUoLZlOuX1JVE+obZSfs9icX6mVyzWRVVTvLP6C+L7qNbnv8ZfvAvHtXWGPG9dyDkZxN0yjYzfJCGpHhmT75K1tmSWSlqFbl8Uhyk3AWDKl+ZjG/suwIl86/OzYoj5uHhLflpbxkrAchpawFo6QNuuLNtmkzrj3ifpgXy3T+9X2ji6RZx/9arxvG1Mlx//XA+p1xUFrGsFfFBHEARBEALeF0MfFLAcJGQFrCX9lAHuX0nSts22ttNeWdvQFwBWjTQvl/yMwdK0EhMtIRv7DlsmO5rNtxKX7HwBqSdTHsBazJvchPLxwAKQjzE1/Tul/K5ccX7vhiV/63gmxd2m33av+mCIZllaGCsQyHJ8Z9nOcalxc0IHyC68IF9fdqmkVei+BjyhiI50Wl6iEl/KbJxjWgJsmGB9fpYPNh8XbyIBy0rAcnpZL71EVf0tpduVZdscUielFUkP5Lt9aq/SxlGd5eF0fD7RvG2YKD/+ORGkXtc7pKqggBX64IM6giAIghDwvhj6oIDlICErYI19R3kh27uEpOXnAOxZpF8n9pbyHfPuhQCbJpuXG9RUP8aMN0zx+hC91I9+ky0318PmD3hCfqwnd5MXXpnyOV3B0rJRdYfEso6BBaD8O1hiR8ZduUr5HZnOj6nHA8ZfPNGytNQPrX+B9QJhl7XF30nGdPmseXmrSyWtQvc18EmAmJvYtNwEJb6U2TjHvK2IUVbnQ122ZzQu3tSdK+k0mYDlest6VctL0n7PZdk+l9RJeY/t0+53+9QepQ29zRNE1wSdv368/PjnhJN6cbdJVUEBK/TBB3UEQRAEIeB9MfRBActBQlbA8oYp/+O/M5t83rMI4NA6tszmaST2U/QN5TvefcvZFz4963E/CXy+Zqw2n49tpTLyNbZcxk9sfv/H5cfa5VaALhLxuuzaxM+VMZX1LoQqW2eKy0VVJX/vylXK/jnL+fF0v9f4i8fHrvKGKTHOAMQB8vXgvVjKS8SNu52M6dJp47L9GilBwJ2EnzO6v0FNtfOS05X1LtKz0W8BrEu1Ph/qsj0eozoiAcssYLnhsl71mq+mTcvrJice6glYAPa/2yd3K/WPbBTn0xtMiOZtXar5uFVm/0bqdakhVQUFrNAHH9QRBEEQhID3xdAHBSwHKRcBixYRzIyOU7NvudbjBMB8OV5Z2d6lANM6ypePv1McM2tBkvhkDW/BlpvWkeT5fdq4ROVp6suu3xfE82OwDE0kYKV+BJB0D/m8M0spu2Wa82NLrGv8xRPFVUr9UD9Avp7gcHgDW1YU76ksLOYWMqZzRyWuD4eWDpp5H3nDFGGIF2vnx7LxnfRs1BsAh3U8hYxsaX/xeI3qDHpKif9Ep5nFewpEIJY5B7SANfZd7dyb7dLZr5E27+Qupb6egCUSN+n8tSnGY6aZ9SupF3urVBUUsEIffFBHEARBEALeF0MfFLAcpEwFrLgayjLA88clPUWqKCKP+vngamX5CV0GAGDCp8Efu4wNa+5MO7nx4pPFtz+prZLOeGGEiI37gIy78KLYCyRQM1qGJhKlZnRSPKPUz9vmKGU3pjs/toTaxl+84zu0dRLrlvytEyBfJDjQmxx4wwDSPjIYV0k7yc84f7zRN5AxZXrl6gQavF3G+8gbpghD/A6m2dFKgHSzMY56XT9Wk5Et6Sses1GdQU0B/EVsmlG8JyeW6JqdA0bAekc8hrxE7fyq382FPbV9nshX6vLiq2r0DqmieVszxnjMNBk/k3qxt5iXBxSwKgL4oI4gCIIgBLwvhj4oYDlImXtg5efYD8S+ehTAid1smt8HMLlD2Yy9rCw7RnyyhnBxncZ/oqSX1TI9Kzb1KzLuYAVzN/Ie2TRJMKavWQFr60ylrJ0lYmYWb7LjWcFWe+3ygsOB1Ww+v1MlbaqokJ/j/PFGVVXGI+0JyMUts4PsdZ90DyuEe8MAsrxKgHSzuiNf0/cUoo+FT9NbBmzUzqCmAEWFbJpRvKeAv1cS54D2UhMJWCrr09g5U9tc3Fvbb6mAtV48rstnjOdt9Sj9cfBk/ETqxdwsVQUFrNAHH9QRBEEQhID3xdAHBSwHKXMBa2KbwF+6mJfTugCDm5XN2MvK+ODsKrznjOqRUyaB0i3a5PZk3FumB6cPI0Q7x01qxwpYm6cqZdeMdn5sdEwoEaaiiMgEgsP+FWyZMW+L664exQa5D0asLADrooq6c6RVrFz30TcoHnF02rzOctfliFe1cffiuOWISXUBJrZm0xb1FI/bqK+BTQF8l9k0o3hPTn2vjM4BvRR3TEv9crQXoxr/DgBgUS9tf8d3Knn8vKp28aTxvK0aoT8Onpk/UNfBjVJVUMAKffBBHUEQBEEIeF8MfVDAcpAyF7B4Twg0rQ1tLj5ZA5uy5Ua9ETzvpkBtYmsy7mCN0Yh140i5mJuVfyd8xsbAUuMLrRzm/NjM4u3ovbzLGC047F3K5vGB/lU7tJbtf1BT+/3rWXGxdVFly3TjedLD6jXF7/Y516MImGb1RryiLF2m0zIjyd8TPlPENH4Z6sIe4nEb9TWwKUDhBTbNKN6TU98ro3NAn88xb+uXo48/vQ1JX9hD29/xHUoev/xVtQsnjOdt1XD9cfDM+J7Uo5e5GoACVuiDD+oIgiAIQsD7YuiDApaDhPQuhH9V63KreFkPH6B72EvB826yalFVld0V1c9pH5Nx+30AMTc53+fVq/oXNu1VpYqmaR+zAtb6NKXs8mRx+93vK/lbx8tHFcaEeTcZf/H4pX9WjBYc9izirgmdOGz7V7L98x5DTpi6E6CVOnY9sKxe97xwPicCYNNk83rDX1bmjk6b6yF/Z0Yq4+EFLL2NGIz6GtgU4Mo5Nm3NaP05cMr70ugcbJ5CytkSsLpr+zu2Tck7uEY8nvMFxvO2cqj+OHimf0fqRVWTqoICVuiDD+oIgiAIQsD7YuiDApaDoIAVopaboLxY0kJWv8fYMsnPhI4HVk48wOBnyWd+x7LeDZzv0yh2z6oRpJy6bDDlPVbAWjtWKbukr7j9iZ8DTO2oDVDtraLEkioNui4ws5flfcvtHzctOOzKY/Poc0Db3qVs/2kf67fPeyt5w7Q7hybU0pbxXSqJgXWXxHEEGAPL6nXPx+Wa7ZYL3j/sJe25one2U+PV8UtW9YKjG/U18Ekl/hOdtnqk8TwEFP9O4hzQc2QkYG2YSMrRAtaCJG2/BX8qeXoC1rkjbNv8zowrhhjPCc30b9njlQAFrNAHH9QRBEEQhID3xdAHBSwHKX1Y7/NhAC9CaEGzpLrKS6rfB9DnYTavX2OAnK5Q7vGvhr2kjI9e4jjqDfZCG9HC+X5Fu5WprBhCyvVuqPw7+k1WwFLFAdEyJ2+YvodVbA2lnlmwciMPsb1LbByzQHDIn8+W4ZeZqsZ72aS0EpdbNRxg40Rteq8GSgwhb5gi7O1eoH8+5oTLHU8guxBa8T6KqgbQ40E2bdYvcgLW0Be152pGJ/J3TldlPOvHs2VyE8TjNupr4JNK/Cf+fBjNQX4OFRvPxu/A1I6KNxsvlqvQwtzot/THoitgJWr7LNiq5PFLM1U7c5Btu9jP5i9Pskz0AAAAIABJREFU1h8Hz7SObF0JUMAKffBBHUEQBEEIeF8MfVDAcpDSh/UN60peCK2+VFcwG/c+wJSvyn8c0lbyUprSCqBnfTYv9tayG4eRKJEdo7wA96U8xIa3IBeZ3yf22AnURMGeVZYNIuXUpZcjXgVIqkfS1aVIVr1YoqqWHFNt43LFfv3xiQQgGeNFnx2ZbH6/RuJ6+fPZeqPfFJfbv1Is7PR5mPw+zOgk9oC6dFppu+BP8+NQNyAIBNnzFn8nQK+H2LSMn8SB/nkb+oL2WKd+rT0f/E6WufHiMRv1NeAJJf4TnSZaLuf3Kceu+b22KGDxy3ppsVyF3l1w9Jv650JvCaHoHB3douTpLaM9vV97vHT+soHm14bKVE7AMhKVS0ABK/TBB3UEQRAEIeB9MfRBActBmIf1gJajVBAb+CTApinlPw47plnKVoYmI0pEVSN/D3meXGTBuq7OHtK/sJf0o8bynPLv0BdZAWvZIKXs/C7W+85LNN+QoKhQf3y855Q3jN0hkTFKxORFn21z2LJ6SzV3ZLL1RrwiLrdnMetNo1rfRwH6/Ff5O70NwK5cbRlVUDy+Uzt2vq1AxSsApQ09TzLaej5Ixq7azB9YcUbPhjyvPdZ0aifVBaqANY4tkxMnHrNRXwOeADh/jE3jl8v5fcpSWL25tWR8fcF1tjaF5BsJWHoeWLkJ2n6PlghDB1aJx3VqD9t2USGbv7S/5AUC2v+sKC42rYICVuiDD+oIgiAIQsD7YuiDApaDMA/rzAuhycuRLTGliuI1kPJugC9eARr/v/IVwqqYn5Ng2pFN1soPbKpcYKVLvYIwphVD9Zc+LepFyqk78w1uxgpYS/opZbO81vtOqgsQZ/Id8F3S/+LtyNKWn/CpIozx8abi71RijImO888MtiwdSJ+2bbPZekOeF5fLz9Euh/OGKZ5dg55W/h70FMCi3toy548pbR/bTtK6Cc49Hx8tEPw+Zc5ib9E/Dz0eUEQzOm1GJ63XlMgGP6sVG8d/Qv5WlwquHcuWmR8rHq9RXwOeUOI/0WmqyKpSVv/JoHqW0Zsh8MuCaRgB6wuSnhuvbfvIJiWPD46v2sldbNu+y2y++r2VYcqXbF0jr8gSUMAKffBBHUEQBEEIeF8MfVDAchDNw7r6QpjEBahOrKMIP5umKKKBXS+mvESAwosAXWqUzYuYyBLrBGdJ27Vselve61m3Osr1VBZB5kVLn+jdz8aWCKYDn2QFrEW9lLL0rnJWzGwJJx2jS92hT403tHWmtvz4/+kvTRQdI4B2Nz49sZDeuRAAYJBOrKwdmWJhp9vdADE3Gh/v2cNK27S3Hr/s1RtmHEtJBD93IiGP3m1ucge2v+73AvRvzKZN+4b1LtKzwc20YmOpB1SY4r0HwAo93jAS3J3HqK8BTRSvQjpt6QB2HpzYddDUqFhrq0eS9FGv658jPQErJ07b/pGNSt7+FeL+j+9k2y68yOYv7mNywVBMbs/WlfD8QwEr9MEHdQRBEAQh4H0x9EEBy0F0H9bNXhrtCBPq0pRQ2Dkv7ZMgtV3OAdWDZXrLffQsqppyrnmBJZhzTi99oj1VVI+Zfo3YnQMXJCllZ/5kr1+9IO+qXTqtH69ItNPfuA9YccTsGAEANk8xb9cbBrBpMvv95QUd1f7MkBN2RHbmgNL20S0kjd850xtmLITwv0GiuROJeXSMNnqXQG+YUn/AE2za1I4Aa8aYH1PyMwDb57JpqkefNwwgO1rpf/UotkxWlPiYjPoa0ESJ/0Sn0d5GZf27uXshwMphcueNjidGC1ii5bmHNyh5egLWse1s24UX2HxVeJZhUju2rtGy3hJQwAp98EEdQRAEQQh4Xwx9UMByENsP65Z2AauqLCVRXzjLRNQwsXHvB6ddfsnKtWJ2Xp53Lyz7l2516RPt+TGprfJv74asgKVekz0fsNdX9E3G+eeOWotX1PcRa8cIoA243qW6uM6Giez3V92ZkbfNU7TeRLKmxi46spGkDXpKW27EK3K/L7pzJxDz5v1O8nkPrITa2t0Zp3wld5yDngL4cxabpsZU84YBZP6h9L9qBFsmM1J7TFevGvfV/3GAU3vZNNrbqKx/N7dMZ3fzHPma/vmivfYYAStW2+6hdUrevuXiftVdClWunGPzF/Ywv35U0r9g6/oum1ZBASv0wQd1BEEQBCHgfTH0QQHLQQJ6WJeNx5LD7cgViKgxqZ0Sp2fTZPZFMhQsvqay3EU2jlhFsqX9rdfZMj24MbA0Ri19yo5W0qJvILvG9XwQoNtdpPz8WPsxhRLvBog2WVKXGWmtzZibJK4Z6hgBtDvp6Y1p3Tj2O9hDR7TbMJFdNmbFCv5U2j68nqQNa64tN+wl535bVDFvTgRJS/2QLRNfEyD5aTZtcge54xzUVLvcU93V0humLD8FAFg1nC0zr7P2mPxFxn31fxzg5G42jfY2Kg8PLHo3TyMBi/baowWs7Bhtu4fWKnn7lon7Pcrdiy6fYfNVz0kZ6ID73jDjuHQloIAV+uCDOoIgCIIQ8L4Y+qCA5SABPawbBn032DnNbiyXbnezbeXnlO0LnZmlfUyOTxRHrDx3EQzURC+iZrZ7oTIfZb275e6FimeMN0wJ7q3GR0qqxy6xmxNhvpOgns3rrIhjRmW63QVBEzHzc5Tj5JfL6dma0ex3UE9UXJuiFWNkbV2q0jYdL23UG9py9A6Ver8rUr8PlJhHzwO/w2Lc7UowdjptUlu54xz4JMCWaWxar4eoayhcGfPKodz18bv2uPjd9Hjr/zjAiXw2bWF3dl663R2c60lvXpcOIOlGAhbtzUYLWFlR2vYPrlHy9i4V968uMVS5dJrNpz0QzZjYmq1beNG0CgpYoQ8+qCMIgiAIAe+LoQ8KWA4S8MO6nliTVFdJ1wuaa0fU4F9cQmEpIm2bp2rnhs7fOqP8x2jX+F3cZEw9934fQFwZBu2fH6fEk/KGKZsFZPys/J1Qm908IMZkCaCRHd+p3S2wLM2qGDongsSzM9pEYfVIrRgja2rA8YOrSZpoqe7gZtrvCR1vz6owvXshwMwfyWd+uWCX6gBDX2DT0tvIHeeAJxRvTzqNXoY66xflGOildt4w4plF47tk3Ff/xgDHd7BpC7jfvLLaQVX9rV3Sl5rXJ/VjItJLKCe1JelZXm3bB1creXuXiPtWPbRULp7kxtZNO7d6TPiMrUtvrKADClihDz6oIwiCIAgB74uhDwpYDuLYw7rMTmF8+VLvLSMz8OQKhWDwtJ07qj3OWComER38+Zq3Kux1oApgsSaBz4MxjqEvKn/H3W4et0rWeE+ZimRRBp5NK4YALB9sr93VJV5edMB/XkDwhilxpdTfAGGAe4vi3Jbp7C6E9DJRb5gSbH/YS2zaxNZa0UlkA5po44zF3U7+nvmjciz8nKmeWTR8MHLe+jcGOLaNTePFGru7v0qZ4Ld2QXdxWT6QPi0G0gKWaBntgRIBa89icduqwKVy4QSbn8stSTdi/P/YulfOmVZBASv0wQd1BEEQBCHgfTH0QQHLQcr1YV3Pe0vzoqTjyVVm28pLWnpbskRFfTkvTy+dULD4OxSvkV4lQcMntiZC55Dny3YsMTc7d60UbHV+fNE3ODc+u7a4Dxv3yIodWKVc+/TucqJNDQY8YRKk3aLl5wAkC4LFqxZVDWB4CzZtwqdyQl3/xgDrx2vbU/+e/p1yzMuT2TKzf9P+Xl0+a94XvYOjN0wr1jgl2s/1AMTdxqbxv7V+n4HnJSd20XNJC1jzOutfJ3oC1v6V7DFfOM7m58TJ32PGc7vNXj5rWgUFrNAHH9QRBEEQhID3xdAHBSwHCYmHddp7Kz9HMVlPrrKOr2RmMTcBZMcCjH2n/McSikbHx1GX+VVEo+M86VlCbbAkznS/r/yPa/TbbNwjK1a6NIyKbTTje225/o0Bcro6MN4qioAt813j42KlfSwn1PVrxO6wx9u0jsoxLxvIps/6VftbdemUeV9HNrFpvFjjlGh/cpcSDF39nN5G+1trJZA+ffyT2pE26N0hVVMFqj2LxO3tW86O43wBmz8/1vieQJP2MVv30mnTKiFxT0QMwQd1BEEQBCHgfTH0QQHLQSr8w7phIPlr1MyCh4eydb+PvCinflT+47Fr+5abl7HqYTboaXHQ87K0uBoAi3rbq1sqTFCeNXPCteXia4Fj31XZ+erVgP2c+pFWdBJZ30cB1o7Vz5/ylXLMvOiX8bP2t4qP5cRbv0ZKAHM6LTtG244Tov3xnQCLepLP/K6J0ruHlgR8X9yHpNEeWHM9gutkhZKn5022dwk7lnNHuDmJlr8/8L8xl06ZVqnw98S/APigjiAIgiAEvC+GPihgOcg18bAusxQRLXRMDRDNe0dUJJv6tfNtDmoKcHCD8+1aNZHXVK+H2B0cRbZ3qXJeaWFCtAtdwFYifo19V94biQ/YP+4DgKX9zev1fQRg9Sj9fNXbaEk/Nl2NjUVz/phxX/0e03r2ZUWJf++k4gcaWMGfxgKW1aWKM36g5sREwNq3rGSHQ53537OIHcvZw9yceOXvDakfsnUvnjStck3cE69x8EEdQRAEQQh4Xwx9UMBykGvqYZ1fipjyLvvCixYa1u1u5VxN+LT8xxJKNqBJaIh6k9tp00a/CbBtNvX5LW0ZVXjYlUfSgrHEV43VZHW3QtpSWrE77OlZn4cBVg3Xz09voxwz39aM77W/T7wnEW/9HmN3cPSGKUHQ9X7rut1t//iPbgZY1It85gUsqzu80tcMvYRQ5IE37Rtj765deexYzhyUmxMR/C6YF06YVrmm7onXKPigjiAIgiAEvC+GPihgOcg1/bAeiGdW15oA87ugV1ewbHJ7JRZSeY8jlKzvY8oSvvIex/RvtWlj3gbYvYB85oNje8MAduUq3ztaWKKXltm1LlSw8UW9le+136eIR3bbHPuO3Nh6N2R32ONt/P+UY17MLbuc0Un7e3T2kHFf/R5jd3D0hmmFJZo+/yXlYm+1Flfs8AZOwPqdbduqB9a0b8jftIA1261Tx+A/FbJj2PiHp/fLzwkP76l24bhplWv6nniNgA/qCIIgCELA+2LogwKWg/wlHtZpzyzZpV/qMje1bm5C4C/iaGhGFgpB3Lvcqux8x6ePfYeN+zWmpbbMzmzlO7Mzi6StGBLAeEriK9GeRltncjsY2rQxb7MCjp71bmC8W2HMzYqXGR0Q3RumiIA8vBDDW99HtbHV5nr0f9d6PEDKxd4KsDFd/vgPrmGPn+/HagwsWjxjBKzf7J+jpLrK3J7Il58TnrHvsnXPF5hW+UvcEys4+KCOIAiCIAS8L4Y+KGA5yF/uYd0w6Du3NTxfT+qFDg3NpoXC9TW4mVisTXmPjc80/GVtmR2ZyndlRyZJWzMmsPHkJQIk1SOfN6bbW5YYczP7efSbAAt7mNfr9ZA2vpXI+j7KflZ3J6Q5tde4jT4Pszs4esOUJXh6JFLeodE3AmyYID8fB1axXmMiUcjKLoR6AtasXwI4/yW/xyNf4+YkQv73nt+h8txR0yp/uXtiBQQf1BEEQRCEgPfF0AcFLAf5Sz6s6y0tVGPr8OKVSjDi+aChqRYKAtaUr8RL0ca9D3B0C/mc/LS2zLbZyvdk+1ySZsUriLeYm5SxJN1L0laNkA/cThu/XHXU6wALu5vX61lf7G1mZlMFAtbJXcZ1ejdgd3D0hikeTHrwQfWtiEX7lrNLKEUClt+nCHjCNjixf34syaODuGf87Pw1Otst/1s/5m227tnDplX+kvfECgY+qCMIgiAIAe+LoQ8KWA7yl35Yp5cW0jFXjMpb3v1L4kU7qprzL3loxBIrSByzLjWgbDYcMOhjcnsl9hufnvoRu5Sr32PaMltnKt8TOtj71pmBjzP2FpI261d7bfEbBox4FWBBonm9Hg/Yi0s25Svt78fxncZ1etZn44x5wxRRSo/YW+3P7Z7F5h5YAPoCFC/2Z0eTvImfU/V/cv56nfWr/O83v9nA2UPGv/HwF78nVhDwQR1BEARBCHhfDH1QwHIQfFi3iN8HkBOveIcYvWyNfVeJJcR7eSXWUV5u58cpS7WmfOnACx6aoXWtWf5jCBXbOhNg40T9/P6PA2R6tempHwGcOUA+0/GXVNs8VfmO/JlB0uh4WE7Y5Pb26qV/wX4e3kLOo9LuTn+TO2h/O45tN67T434lED6dlvGT/u9QIPO4ewHAop7ksxUBKy+BiEWqiETvnjnhU1J/5o/OX8Mzf1LOHe+xqMbMooWsUW+wZc4cNP2Jx3ti6IMP6giCIAhCwPti6IMCloPgw7pNCi8qy4T4ZTy8Z4KRl0BpXK2y8LpBQwsDOLkbYNBTxmV6N9SmpX4IcP4Y+ZxQW1tm0yTlut4ynaTxS+ICNbuCLy98DXtJHKyet/ha9vqj40CpFGw1rpN0D0D+fDZt5g/i3x+ZsRtZfg7rgaYnYIkEqE2TS5ZhC0QkbxhAv0bkd27G986ef28YQM8HS/6WiGE46nW2zOn9pj/teE8MffBBHUEQBEEIeF8MfVDAchB8WA8Qq8sQaaxuVY+GFqjNdturN+4DgMtnyGfR8rUNE5XrevNUknZwtbZcVFX7y2bnRNgTfad8xX4e+oI41hdvIqFOxka9of0tOLLJuE5iHYAdnMfa9O/EvzmBxkvbkcWKYHqB0Wd00tZdm0LtAqlzHlQRSVS/LEzdRZYPAH96n+nPMt4TQx98UEcQBEEQAt4XQx8UsBwEH9bLEdpTBQ1NxqZ2ZGNCWTW7gsy49wGKrhiXWZeqXNebJpM0OvB7qVVRvI3sjGPI83LCE2/TOnLtPCeO9cVbYl2ALtXtjZVf0nZ4g/m52T6PG/c32t8NJ4Tv7XPZwOt6gdGnfaOtm/qRXB95ieL6ls2qh2oVZe79PiXWGZ13aq/pzzLeE0MffFBHEARBEALeF0MfFLAcBB/Wy5Fy8cCqonhv5OcAjHy9HPpHC8i2TAcY/0nZ95vSCuDqVeMya8cq1zW98+ARkYAVBhB9g/2xjH0XIOVda3Wmf8t+HtwMIDvGvF5iXa0IIm3ckrZDa43Lx9cE2DaHTRPtZuiE8P3nLIAsL/mc8bP4N2pqR23duNvAXFQqEZHGvBO8a9LMchMABjzBpp3cbfqzjPfE0Acf1BEEQRCEgPfF0AcFLI5jx47Bq6++Cv/+97+hXr16kJmZKV0XH9bLkYBiYFHB4vNzFK+XsZIvi+rymsKLBsHoy8BEO9mVu4V4PLLdC6nlW2VoY99VrlejpX8rhynX1QYqSLxdjy8zy4lXruO42+TK87GYkp9md87Ts253A2RGBj7evETxckra4m5nA+B7w8S7GTohfG+ZDjCvMzU/ncS/UYFuMmEWb83QSr6Lw1s4d92c3GW67BvviaEPPqgjCIIgCAHvi6EPClgcrVq1gi+++AIuXrwI06dPh6pVq8KJ/9/e3cdHVd37Hl9AEkBQHqQIKAbl8QiVtvei6elRam0Epa3lKlVPW2kRhFOrXKWeU7TnBHkKkNraeECUI6AEgkYRqlAESaJWoKJSBKMoEJSHGtCLEEBIMN/7x2ZmZzIPmcnszKxJPu/Xa7109uw9e89ikvWbb/Ze+7PPotqWYj3JorkTWs550ozugY/rThYvOf9fMCrwy1/dL4O1JziWGnY5lhdtTm/phVrzEsVzRo6XLa+PtPD65B9HuHb6RPC8PoloT/+4/uBsbpbz2XqnoNbyxggEa10iVjIrum1eui/w8bzvBJ6BFK7NvsSDAOvs8e7dGHm96d2ksj8HLgt1N8MzVdLsOIPBHSucea98j1eGONNLciajj2c/8+IIsHy/4/a97d1nZ/Vv6r17IWOi/SjUAQBwMS7ajwCrlsrKSqWnp2vfvn3+ZUOHDtWTTz4Z1fYU60kWbeh0+kR0k8WfqXK+9OX1Cf1lsO52AftPYMv/lrQ0CfuN1HIvdgK9V6Yl/1jCtZNHnPmbEr3fUHcmDNVemS49OSwxx7TntcA76UVqL9YJsOZ+W1r3n/VvN6tX4JlK8bTN8yM/P/Vr0nsrA5c9d0fon/PV98d3LO8WBb7GivGh91P0y/j289SPG76t73fVga0ef3bC/J49ezbrjlWPMiZajkIdAAAX46L9zLFjx3T//fcrOztbXbp0kTFGOTk5UW0cz7bxinXflZWVmjhxorp3767WrVtr8ODBKiwsDFjnnXfeUadOnQKW/frXv9Z9990X1TERYFkg1tAp2teM9u6I4fbf6C2Os3Omd/foGEIcT/63EtwPMbT/97FzplOi9zu1S3z/Xo3R3lsVfYBVdyL2/74yumAq92Jp7QPeHG9pPcf6UOfACfBzznMCpFDiPSvp78ulF+91H4cLyp4dHaYvo5wD6/lxDT9Gn/0enoEVRdvxb+0YEy1HoQ4AgItx0X6mvLxcHTp00NVXX62xY8fGFELFs228Yt13dna2OnbsqPnz56u4uNi/zdKlS/3rvPbaa8rMzAzY7oEHHtCdd4a49CQEAiyLxBI6Nfb+45r7xrKgoym1RTdIf/x64+5jzqXJf5/RtBf+reGXwD46JLpgKrenc4c+L45343/Xs06HwAnwc85zAqRQ9tUzn1Z9betSadXd9e9n+c+Ct10Y5ZxUpXOcSyAbeow+decOm9KxUT9XBFj2o1AHAMDFuGg/U1NTo5qaGknS4cOHYwqh4tn26NGjWrNmTdjnX3zxRR0/ftyTfa9evVrGGC1btixgeXZ2tnr06KEzZ85I4gwsNJKGXlpYd64hmvdtWrfkH4Mt7U/faNh2+d8KnAMqXJvZ05k3KdzzUzoq6rORPlpf//62PRP4+Jmfh/753PtGfP329tOBdxgs/NfQ+yn81+Bt//Lb+n83+Oba8+IMrH1bEvqZIsCyH4U6AAAuxkX7BcyBFWsIFc+2Dz/8sFq2bKnFixcHPTd//ny1aNFC8+bN82TfY8eOVfv27VVdXR2wfNmyZTLG6I033pAUeg6s7373u8yBhfidqXLu9jYlmjOqzn5J374ioV82abQGtUcGR3dm1YwLI4eyMy+Kbn+lc6RdG+pfL2AC/POc+cRCnZG5uyS+979lYeDZUUtvCf07YNmtwdu+NMmZJ25a19Cv/fv+7rE+d0fDj9Hnk78l9LNBgGU/CnUAAFyMi/ZLWoAlSffdd59atGih+fPn+5c98sgjMsbogQce8GzfWVlZGjJkSNByX+D0+OOP+5fdfPPNuuOOO3Ty5Em9+OKL6tixow4fPhxx/zk5OTLG+BvFOsKK9jKt0jnOF+0EftmkJap1UJO6NDSvr7Tm3+tfb0YP6c8TI7xO/whnI9W58+eHUZyBtWVhhH3Vulvezpfje/9vLggMl5bcFPpnP9R7qy+0m3mRG2AVjWn4Mfp8vDmhnw0CLPtRqAMA4GJctF9SAyzJmWPKGKNHHnlEs2bNkjFGU6dO9XTfffv21bBhw4KWHzx4UMYYzZw507/s0KFDuv7669W2bVv16dNHL7/8ctTHwRlYqFe0d0o8U+W0Ob1DrEejWdRmXxr50kBfm95NWvXr8M/n9XU+8wuuDfFcnZsw7Fxb//42PRbh+Vo/azteiO/9b348cIL2p24M/bO/5P807PVL5zjbx3MXQ5+9GwOXT/2aGvP3S3MKsKK5UUwkFRUVGj16tM4//3y1bdtWWVlZeuWVVwLWOXr0qKZPn66hQ4fqggsuULt27TRo0CDNmjVLX375ZYOOm0IdAABXosfFVK0fkinpAZYkTZ061X/2Ul5enuf77tu3r4YPHx603Bdg5ebmxrzPUAiwEJVY7pRYOrvRvlzSktimdkn+MXjVZl8a3Xxt0y4InCsq6HUucT7zq+8PXD69e/BNGD5YU//+og2Mnvl5fO9/41xp+U/dx4tGhP65f+rGhr1+Xh/n/T/7i4Yfo0/5XwOXPzqkUT8bzSnAiuZGMeGcOnVKgwYN0kUXXaSCggKtW7dON954o9LS0lRaWupfb/v27erSpYvuvfderVq1Shs2bNCUKVPUpk0bXXvttf55QWNBgAUAgCvR42Kq1g/JZEWANWnSJLVo0ULGGD344IOe7zuWSwjjQYCFmERzp8SIZ2zRaBa0vP7Si/fWv960rtKKCeGfz73Y+cy/NCl4u7rKXqx/fzO6R/ke4vy5eiM/cH6rJ4PP9pUkLf5hw/ex5zXpmdsbvr1P+euBy5fd2rAbTETZmkuAFe2NYsKZO3eujDHauHGjf1l1dbUuu+wyXXHFFf5lx48fD3lzm7y8PBlj9Prrr8d87ARYAAC4EjkupnL9kExJDbBqamp01113qWXLllq4cKEee+wxtWjRQpMmTfJ03+PGjQs5iXthYWHAJO7xIsBCowh3xlbUX9Bpzb5N6dh4r53XL/LcVr42tUvkO+nNuND5vIc6m+urrwJ/Jt5blfw+9bXX/yAV3Ow+XnBt6J/jRSMavo/3VsV3ppjPnlcDly+71fn98tzYEP+ufZwbT4R7zShCy+YSYEV7o5hwvv/976t///5By2fOnCljjPbv3x9x+1dffTVkARwNAiwAAFyJHBdTuX5IpqQFWF999ZXuuOMOpaWlBVznuXjxYrVq1Uq/+tWvoj6drb59r1mzRsYYLV++PGD58OHDo0o3o0WAhUZV94yt0yc4OytSm3ZB8o+hObQ5faRVdzv/P6VT+PUeOj/yROTTuzmf8xf/b/Bzp08E/izsWJH89+1rr+ZJT//Yffz40NA/v08Ob/g+9rwmLf9Zw7f32V0SuHzpT5zldc9oW/5T94zQcK+5/+3Ax38vlApuCljWXAKseM/y7tatm0aNGhW0/KWXXpIxpt65OH03ktm2bVtsBy4CLAAAakvkuJjK9UMyGckJeIqKirRw4UIZYzRq1CgVFRWpqKhIJ044XxxKS0vVqlUrPfTQQwEvEM22oeTl5SkjI0MvvPBC0HPLly9XWlqaHn300YgHH8vWyBABAAAgAElEQVS+s7Oz1alTJz3xxBMqLi7WuHHjZIxRQUFBdD0VBQIsJFyk+bSKc6WS3ODnmkv70/+KPOcSzZs2+xJ3cvZpXcOvN6VT5LOIpn7N+UyHOpvr+GeBn/t3i5L/vn2tdLa0+Afu48e+E/pn9X+ua9jrz8p0fs4L//VsPzbgbDqfXcWBywvOFj11J7JfeZe7TbjX3P9W4OPPdrm/j3IvlnKaT4AVy41iQklPT9f48eODlm/cuLHev4xu27ZNbdu21ciRI+s9zoqKCu3YsSOg5efnE2ABAHCWL8DKz88PGjMrKio83Veq1A+2MZKUmZnpn0S9bisvL5cklZSUhDzLKZptQzl58mTA9Zp1/fWvf9Xp06cjHnws+66srNQ999yjbt26KSMjQ5dffnlMM/xHgwALSRNpPq0zVdLG/07+F/1EN99d7eb0Tv6xNOU2K1NaeTYonN4jwrodzt71LszzUzo5n9eVdwU/98W+wM/7tmeT/759rXiGtPB69/F/Xxn6ZzTU3RWjaSVnbzLiC7AeOj/G1+jgHsNHrwQ+t+QmZ3ndQLDol+424V5335bAxxXvu9vs/IuUk5oBlq/WiaZt3bpVUvw3iklPT9eECROClvsK0HC1Snl5uXr27Kl+/frp888/r/e9+f7SGqoRYAEA4AZYoVqkK82acv1gG1P/KogWARas5Q9ymtGlhg91dt538czkH0tTbrk9pRXjzz6O8/NVMiv0WVxr/j0wlP17YfLft6+9MjXw7Kr8/xX6Z/Dx78b+2r7PsCQtu81ZFikEDNV8waAkfbg+8Lmnz/7V7e/LA5cvvcXdJtzrfvJm4ON/vFtrP+uknNQMsA4ePKgFCxZE1XxFXzIuAdi7d6969eqlSy65RPv27Qt6PhTOwAIAILKGnoHVlOsH2xBgeYgAC1YrnR37F+ipXZIfEMTT9rwWfNkUrYHtbDj1p28ELp9xofT7AY2//4JRbpjzToEF/XG2rc+Rnvie+/iRwaF//uZfFftr59WamNN3p8NY53ab2sV9jbPBkr89dWPo/lz8Q3ebcK/7yd8CH+9/293m/dVSTmoGWA0R741isrOzNWDAgKDlubm5MsbowIEDAct9xWdmZqb27t0b17EzBxYAAK5EjoupXD8kEwGWhwiwYLUzVdFP+p7Xx5nL5vQJJwR69pfRf2G26e6I25+36451qdTqnunj+0ysnxK4POZL2uJopXOcz/LbTye/f3zt5Qel+Ve7j/8wyP15q31Z77x/Dt52Tp/Ic9T9vlaA5bvTYaR5xkK1aV3d19i5NvA5X1D11uLA5bXvpBjudT/eFPj4k7+525z9mWsuAVa8N4qZN2+ejDHavHmzf1l1dbUGDhyoK68MvCT1448/Vq9evdSzZ0/t3r077mMnwAIAwJXIcTGV64dkIsDyEAEWrBdu0vc5vZ0Jz7evCJ5Dy7ddfeHX/Kuds50C7o6Y5DYrs2lN5H52cuyEtBcmBD72fSY2TEvS++/gfE53FYe+U2Gy2l8mS/O+4z7O6+ec7Vh37rWHOgdv++j/dvo1XAg4p8/Zn9nZDT8bctoF7s/xB2sCn1s0wln+5v8ELp/7bWf5V2fCv+7ejYGPy//q7mf7c1JO8wmwpOhvFDNmzBi1atUq4C+fp06d0sCBA9WzZ08tXbpU69ev18iRI5WWlqbS0lL/ehUVFbr00kvVunVrFRQUaNOmTQGtIZcCEGABAOBK9LiYqvVDMhFgeYgACykj0qTvkbYJd8fD0jnBE8eHWjcZoUe48KCx2h8GRn5+5oUNf+2nRyZuUvqXfxf42CdpAZbHrfZZU/G05T+VHr3CfewPmqKYD+yRy6WamvDPz7rEPfOqoa32JYRnL+3zN1+AtXl+neM6exlk1ZfhX3d3aZ3HJe5+tj0j5TSvACvaG8WMHj065I1mPv30U91+++3q3Lmz2rRpo6ysLK1fvz5gnfomiI00uWw4BFgAALgSPS6mav2QTARYHiLAQrMQS/hVe91dxU4rmZX88KIxW2le5Of/ONi5s1xDg6hZvRLzPl7/Q+Bjnw3Tk9/HXrRdxU7IGuuk6KHalE4N2+73A6Tq0+Gfj/VywZDH1tH9tyt7MfC5hdc7y+vepTSvr7P8VGX41617NteHtYqls3NqNacAK1URYAEA4GJctB8BlocIsIAoJOuOiA0NGWINC76M8KXfHxD0ce6OuKvYmafrtT8k9iyxaNpbiwIf+8LK4hnJP7Z424zu0skvnPc09+zcVA9flvjjmNLBuYth2HU6yJOfk6++cn726s4H9+QwZ/lfH6nTPxc6y0/+v/Cv+W5R4OMP1rg/42fn1CLAsh+FOgAALsZF+xFgeYgAC4hSQ+6I6EV7+J8a9/V9k2LXu+7ZUMJ3Zz0b5+la/rPgZXl9pEU3JP/YvGh155RK5GT0YY/Jg7PBQjXfWZLvrQxc/j/ZzvLXfl9nmw7SnlelLw6Ef826E7+/t8r9+X5zgZRDgJUKKNQBAHAxLtqPAMtDBFhAlGK5I6KXbfvzzuV7szK9f+3ZvZ0J7KXYtivOlWZelNzgJOqW4LPmmlvLbYTPZc557udyx4rA5b67DRbPDL3d7EvDv+amxwIfb3/O/fk+O6cWAZb9KNQBAHAxLtqPAMtDBFhADMJN9B7LJNixtj2vufveVVxrIu849jWlo3PmlS8kOFMVw/YdEntnQZrdzYs5r0K1L486n82zdwf0tyeucT6vf/pGmG0j/FzUPYvynVp3y3njUSmHACsVUKgDAOBiXLQfAZaHCLCABqg7KfzpE6GDrTm9pfxv1f/FOtwX8bw+wRPOx3u3xBX/5gZXkvP/f/pm8oMQWhNqHgS5Jz53Pp915616/LsNv5x3erfAxzMvcl7rTJX0+h+lHAKsVEChDgCAi3HRfgRYHiLAAjwU6m6H8QROpXPq31esd0j0ndHlew3CK5qnzaOzENf9p/P53PZs4PLHrmr43TDDtYJRzmW6OQRYqYBCHQAAF+Oi/QiwPESABSRI7XBrV7FUcFOYL/x1JkuP5nWjukNiiDO6ws0jFE3jMsIm2DwKn/xzxXnwOu8UBC6b07dx3vuiEVIOAVYqoFAHAMDFuGg/AiwPEWABSRLuzKy8Ps7yaMIrn2gvqap9RteZKim3Z8NCjrw+8YVfNPta0RhpxoXevFbVKeez5sVrFf5rAt5/B2l6dymHACsVUKgDAOBiXLQfAZaHCLCAJAt12WFDXiPsHRLDnNG157WGf+H3BWzJuCsjzf52pko6U+0+fnpkw1/roc4JPXYCLPtRqAMA4GJctB8BlocIsIAmItYzut5b1bAv+bWDsEj7LM6N8tJGWpNrVV9KX37hPl73n8k/pigbAZb9KNQBAHAxLtqPAMtDBFhAExPtGV0xn4HVwZnoOtTrhdtnQ+8WR0vtdvqEdPSg+9irywkT0Aiw7EehDgCAi3HRfgRYHiLAApop/+TvUX653zC9YfvgMsPm104dkw5/5D7eODf5xxRlI8CyH4U6AAAuxkX7EWB5iAALaMaiPUMq/1sNm5tLCn+ZIa3ptpNHpIN/dx8vuzX5xxRlI8CyH4U6AAAuxkX7EWB5iAALaMYCzpAK0/K/5VwS5sW+fJcZ7ipmfqym3N5fnVKXDdZuBFj2o1AHAMDFuGg/AiwPEWABzVy4M6RyL3YmYm/omVf1YX4smoWNAMt+FOoAALgYF+1HgOUhAiwAkqKf/N3L/TE/Vug2+5LkH0MzbQRY9qNQBwDAxbhoPwIsDxFgAUiacGd/zektvfArafsK53LDktzgdR7qHCaEOBuGLblJKrgp6YEILbUaAZb9KNQBAHAxLtqPAMtDBFgAki6as7/qrnP6ROjwK6+Ps/xMFRPI02JuBFj2o1AHAMDFuGg/AiwPEWABSGmxhl+7ip3m+3//WVp1L2M8+3h27zDP05piI8CyH4U6AAAuxkX7EWB5iAALQLMW7iwt35lcvjO95vROSqBCi7XFFzQSYNmPQh0AABfjov0IsDxEgAUAqv9Mrl3FFoQztMZuBFj2o1AHAMDFuGg/AiwPEWABQBTeW5X0cIVGgAUKdQAAamNctB8BlocIsAAgCnteiy0MWTFBmpWZ9ECGRoDV1FCoAwDgYly0HwGWhwiwACAKZ6rOzoNV3xxLHZz5s3x3Qaw9eXxU29MIsBAJhToAAC7GRfsRYHmIAAsAolQ6O7ogpHROfNvH0nIvTnro05QaAZb9KNQBAHAxLtqPAMtDBFgAEKUzVVLBqLNhR90zqc4+LhgVPAF8yO09aC/8Stq+IumhT1NqBFj2o1AHAMDFuGg/AiwPEWABQAzOVDlnWOX1CQw/8vo4y8OFV/VtH3WrE5TFOjcXjQArxVGoAwDgYly0HwGWhwiwAKABas9vtee1+oOrUNvvKpbmXx0YTNVtD3WOHJRFPTfX2fbo/056SGRzI8CyH4U6AAAuxkX7EWB5iAALAJKovjO6Tp+oPyiLdm6txT90Xm9O79jDndyLow/JUrgRYNmPQh0AABfjov0IsDxEgAUAFojnjK6Ic3OdbUtucl8zpsnkz95VsXhm0sMlAixIFOoAANTGuGg/AiwPEWABQBMQy9xcsU4m79u+vpCsCTQCLPtRqAMA4GJctB8BlocIsACgCYn2TK4zVVJxrjS1S5gwJ8RdFeOegN7+RoBlPwp1AABcjIv2I8DyEAEWADRjp09IL/xKyu0ZGOZEuquibwL6mRclPXAiwGp+KNQBAHAxLtqPAMtDBFgAgAbNwRXTXFqp0Qiw7EehDgCAi3HRfgRYHiLAAgA0SBOcF4sAy34U6gAAuBgX7UeA5SECLABAg4WbFyv3YunZX0grJkize8cWJM39tjQrkwALIVGoAwDgYly0HwGWhwiwAABxi3QJom/OrGdHSw+dHyY8qjNpfO3XK5lFgAU/CnUAAFyMi/YjwPIQARYAIGEaMmn8ntcIsOBHoQ4AgItx0X4EWB4iwAIAJFwsk8afqZLm9FYi5tkiwLIfhToAAC7GRfsRYHmIAAsAYL2G3PFwSsfAyxMJsJoECnUAAFyMi/YjwPIQARYAwHoR73h49vGSm5y5tnxndZ0+EXqC+Tm9pendCLBSFIU6AAAuxkX7EWB5iAALAJASwt3xMNL8Wb7t6l6uGOaMLgIs+1GoAwDgYly0HwGWhwiwAAApJZb5syK9Rogzugiw7EehDgCAi3HRfgRYHiLAAgA0SyHO6CLAsh+FOgAALsZF+xFgeYgACwDQrNU6o2vH2qcYEy1HoQ4AgItx0X4EWB4iwAIAwMGYaD8KdQAAXIyL9iPA8hDFOgAADsZE+1GoAwDgYly0HwGWhyjWAQBwMCbaj0IdAAAX46L9CLA8RLEOAICDMdF+FOoAALgYF+1HgOUhinUAAByMifajUAcAwMW4aD8CLA9RrAMA4GBMtB+FOgAALsZF+xFgeYhiHQAAB2Oi/SjUAQBwMS7ajwDLQxTrAAA4GBPtR6EOAICLcdF+BFgeolgHAMDBmGg/CnUAAFyMi/YjwPIQxToAAA7GRPtRqAMA4GJctB8Bloco1gEAcDAm2o9CHQAAF+Oi/QiwPESxDgCAgzHRfhTqAAC4GBftR4DlIYp1AAAcjIn2o1AHAMDFuGg/AiwPUawDAOBgTLQfhToAAC7GRfsRYHmIYh0AAAdjov0o1AEAcDEu2o8Ay0MU6wAAOBgT7UehDgCAi3HRfgRYHqJYBwDAwZhoPwp1AABcjIv2I8DyEMU6AAAOxkT7UagDAOBiXLQfAZaHKNYBAHAwJtqPQh0AABfjov0IsDxEsQ4AgIMx0X4U6gAAuBgX7UeA5SGKdQAAHIyJ9qNQBwDAxbhoPwIsD1GsAwDgYEy0H4U6AAAuxkX7EWB5iGIdAAAHY6L9KNQBAHAxLtqPAMtDFOsAADgYE+1HoQ4AgItx0X4EWB6iWAcAwMGYaD8KdQAAXIyL9iPA8hDFOgAADsZE+1GoAwDgYly0HwGWhyjWAQBwMCbaj0IdAAAX46L9CLA8RLEOAICDMdF+FOoAALgYF+1HgOUhinUAAByMifajUAcAwMW4aD8CLA9RrAMA4GBMtB+FOgAALsZF+xFgeYhiHQAAB2Oi/SjUAQBwMS7ajwDLQxTrAAA4GBPtR6EOAICLcdF+BFgeolgHAMDBmGg/CnUAAFyMi/YjwPIQxToAAA7GRPtRqAMA4GJctB8Bloco1gEAcDAm2o9CHQAAF+Oi/QiwPESxDgCAozmNiZWVlZo4caK6d++u1q1ba/DgwSosLIx6+4qKCo0ePVrnn3++2rZtq6ysLL3yyisRtzl58qT69u0rY4zy8vIadNwU6gAAuBI9LqZq/ZBMBFgeak7FOgAAkTSnMTE7O1sdO3bU/PnzVVxcrLFjx8oYo6VLl9a77alTpzRo0CBddNFFKigo0Lp163TjjTcqLS1NpaWlYbebNGmSevToQYAFAIBHEj0upmr9kEwEWB5qTsU6AACRNJcxcfXq1TLGaNmyZQHLs7Oz1aNHD505cybi9nPnzpUxRhs3bvQvq66u1mWXXaYrrrgi5DZ/+9vflJGRoaKiIgIsAAA8kshxMZXrh2QiwPJQcynWAQCoT3MZE8eOHav27dururo6YPmyZctkjNEbb7wRcfvvf//76t+/f9DymTNnyhij/fv3Byw/ffq0Bg4cqHvvvVfl5eUEWAAAeCSR42Iq1w/JRIDloeZSrAMAUJ/mMiZmZWVpyJAhQct97//xxx+PuH23bt00atSooOUvvfSSjDF6+eWXA5Y/+OCD6tWrl44fP06ABQCAhxI5LqZy/ZBMBFgeai7FOgAA9WkuY2Lfvn01bNiwoOUHDx6UMUYzZ86MuH16errGjx8ftHzjxo1BlxZs3bpV6enpWrt2rSTFVIBWVFRox44dAS0/P58ACwCAs3wBVn5+ftCYWVFR4em+UqV+sA0BlqRDhw7phhtu0DnnnKO+fftq3bp1DXqd5lKsAwBQn1QcE0tKSmSMiapt3bpVklOADh8+POi1fAVobm5uxH2mp6drwoQJQct9BajvbkTV1dX65je/qZ/97Gf+dWIpQHNycsK+FwIsAADcACtUy8nJCbtdU64fbEOAJWnUqFEaM2aMTpw4oVWrVqljx4767LPPYn6dVCzWAQBoDKk4Jh48eFALFiyIqn3++eeSEncJQF5enjp06KCPPvpIR44c0ZEjR7Rt2zYZYzRt2jQdOXIk4oSvnIEFAEBkDT0DqynXD7Zp9gFWZWWl0tPTtW/fPv+yoUOH6sknn4z5tVKxWAcAoDE0lzFx3LhxISdhLSwsjGoS1uzsbA0YMCBoeW5urowxOnDggCRp9OjRUf9VN1rMgQUAgCuR42Iq1w/JlHIB1rFjx3T//fcrOztbXbp0iXg6X2VlpSZOnKju3burdevWGjx4sP9UOp933nlHnTp1Clj261//Wvfdd1/Mx9ZcinUAAOrTXMbENWvWyBij5cuXBywfPnx4VLfBnjdvnowx2rx5s39ZdXW1Bg4cqCuvvNK/7P3331dJSUlA8xW5EyZMUElJiSorK2M6dgIsAABciRwXU7l+SKaUC7DKy8vVoUMHXX311Ro7dmzEACs7O1sdO3bU/PnzVVxc7F9/6dKl/nVee+01ZWZmBmz3wAMP6M4774z52JpLsQ4AQH2a05iYnZ2tTp066YknnlBxcbHGjRsnY4wKCgoC1hszZoxatWqlvXv3+pedOnVKAwcOVM+ePbV06VKtX79eI0eOVFpamkpLSyPul7sQAgDgnUSPi6laPyRTygVYNTU1qqmpkSQdPnw4bIC1evXqoNn3JedDUjvR5AwsAAC815zGxMrKSt1zzz3q1q2bMjIydPnllwed8S25p/GXl5cHLP/00091++23q3PnzmrTpo2ysrK0fv36evdLgAUAgHcSPS6mav2QTCkXYNUWKcAaO3ZsyGtKly1bFnBNaag5sL773e/WOwdWqMlQfR/45lCsAwAQSXMKsFIVARYAAC7GRfs12QArlln9b775Zt1xxx06efKkXnzxRXXs2FGHDx+OuO9It6OmWAcANHcEWPajUAcAwMW4aL8mG2D17dtXw4YNC1p+8OBBGWM0c+ZM/7JDhw7p+uuvV9u2bdWnTx//LScj4QwsAADCI8CyH4U6AAAuxkX7NekAa/jw4UHLfQFWbm6u58dDsQ4AgIMx0X4U6gAAuBgX7ddkA6xYLiH0CsU6AAAOxkT7UagDAOBiXLRfkw2wxo0bF3IS98LCwoBJ3L1EsQ4AgIMx0X4U6gAAuBgX7ddkA6w1a9bIGKPly5cHLB8+fLh69OihM2fOeH48FOsAADgYE+1HoQ4AgItx0X4pGWCtWbNGRUVFWrhwoYwxGjVqlIqKilRUVKQTJ07418vOzlanTp30xBNPqLi4WOPGjZMxRgUFBY1yXBTrAAA4GBPtR6EOAICLcdF+KRlgZWZmyhgTspWXl/vXq6ys1D333KNu3bopIyNDl19+uQoLCxvtuCjWAQBwMCbaj0IdAAAX46L9UjLAshXFOgAADsZE+1GoAwDgYly0HwGWhyjWAQBwMCbaj0IdAAAX46L9CLA8RLEOAICDMdF+FOoAALgYF+1HgOUhinUAAByMifajUAcAwMW4aD8CLA9RrAMA4GBMtB+FOgAALsZF+xFgeYhiHQAAB2Oi/SjUAQBwMS7ajwDLQxTrAAA4GBPtR6EOAICLcdF+BFgeolgHAMDBmGg/CnUAAFyMi/YjwPIQxToAAA7GRPtRqAMA4GJctB8Bloco1gEAcDAm2o9CHQAAF+Oi/QiwPESxDgCAgzHRfhTqAAC4GBftR4DlIYp1AAAcjIn2o1AHAMDFuGg/AiwPUawDAOBgTLQfhToAAC7GRfsRYHmIYh0AAAdjov0o1AEAcDEu2o8Ay0MU6wAAOBgT7UehDgCAi3HRfgRYHqJYBwDAwZhoPwp1AABcjIv2I8DyEMU6AAAOxkT7UagDAOBiXLQfAZaHKNYBAHAwJtovmkK9urpahw4d0p49e7R7925airc9e/bo0KFDqq6uTuAnDQBSAwGW/QiwPESxDgCAgzHRfvUV6jU1NSovL1dZWZl27tyZ9PCFFn/buXOnysrKtHfvXtXU1CT4EwcAdiPAsh8Bloco1gEAcDAm2q++Qv3o0aMqKyvTgQMHCDuaiJqaGh04cEBlZWU6evRosg8HAKxCgGU/AiwPUawDAOBgTLRffYX6vn37VFZWxuVmTUx1dbXKysq0b9++ZB8KAFiFAMt+BFgeolgHAMDBmGi/+gr1PXv26MMPP0zwUSERPvzwQ+3ZsyfZhwEAViHAsh8Bloco1gEAcDAm2q++Qn337t3atWtXgo8KibBr1y7t3r072YcBAFYhwLIfAZaHKNYBAHAwJtovmgCLkKNp4t8WAIIRYNmPAMtDFOsAADgYE+1HgNV88W8LAMEIsOxHgOUhinUAAByMifZLWoBVVSWVlEjPP+/8t6rK+33UY9GiRTLGhGyTJk3yr5eZmRnwXLt27XTFFVfoqaeeSshxvvHGG8rJydGRI0c8fV0CLAAIRoBlPwIsD1GsAwDgYEy0X8IDrKoqaepU6YILJGPc1q2bszyBQZYvwFq0aJE2bdoU0D7++GP/epmZmfrOd77jf66oqEhXXnmljDGaN29eox9nXl6ejDEqLy/39HUJsAAgGAGW/QiwPESxDgCAgzHRfgkNsKqqpBtucAKrFi0CAyzf4xEjEhZi+QKsLVu2RFwvMzNTI0aMCFh25MgRnXfeeerTp0/M+z1x4kRM6xNgAUDiEGDZjwDLQxTrAAA4GBPtl9AAa+rUwNAqXJs2zZv91SOeAEuShgwZovT09Ijbjh49Wu3atdO7776r7OxstW/fXllZWZKkdevW6Uc/+pEuvPBCtW7dWr1799add96pw4cP+7fPyckJeYljSUmJf53ly5crKytL55xzjtq1a6frrrtO77zzTr3vnwALAIIRYNmPAMtDFOsAADgYE+2XsACrqsq5bLDumVd1W4sWzuWECTgLyxdgbd68WdXV1QGttlABVlVVlbp27aoePXpE3Mfo0aOVnp6uXr16KTc3Vxs2bNDLL78sSXrssceUm5urP//5z3r11Vf11FNPafDgwerfv7+qzr7/ffv26e6775YxRitWrPBfxnj06FFJ0owZM9SiRQuNGTNGL730klasWKFvf/vbateund57772Ix0aABQDBCLDsR4DlIYp1AAAcjIn2iyvAmjhRGjo0ujZ4cHRnX/na4MHRv/bQoc6xxCjSJO61Q6zMzEzdcMMN/nCrvLxco0ePljFG999/f8R9+NZbuHBhxPVqampUXV2tjz/+WMYYrVq1yv9cuEsIP/nkE6Wlpenuu+8OWF5ZWalu3brpJz/5ScR9EmABQDACLPsRYHmIYh0AAAdjov3iCrCGDo0tlGrMNnRozO/dF2A9/fTT2rJlS0Crre5dCI0xatu2re6++26dPn064j58AZbvjKnaKioqNH78eF100UVq2bJlwOvPmjXLv164AGvBggX+SyDrnkF2yy23qGvXrhGPjQALAIIRYNmPAMtDFOsAADgYE+3HGVjRzYH1L//yL9qyZYveeustlZWV1Rtc+YwePVrnnHNO0PKvvvpKgwcP1te+9jXl5+erpKREb775pjZv3ixjjHJycvzrhguwpk+fHvYMMmOMWrZsGfHYCLAAIBgBlv0IsDxEsQ4AgIMx0X7MgdXwSdyj4ZvEva5t27bJGKPFixcHLP/oo4+iDrDmz58vY4yee+65oDPIQp1JVhcBFgAEI8CyHwGWhyjWAQBwMCbaj7sQJifAevfdd2WMUWFhYcDy3/zmN0EBVn5+vowxKisrC1i3vLxcaWlpmj17doOOjQALAIIRYNmPAMtDFOsAADgYE+2X0ACrqkoaMcI906rumVfGOM8n4OwrKbkBVlVVlXr37oECpDAAABYYSURBVK3MzEwtW7ZMa9eu1V133aV+/foFBVglJSUyxmj8+PHauHGjtmzZomPHjkmSZs6cqbS0NI0fP14vvPCCSktL9cwzz2jSpEn6r//6r4jHRoAFAMEIsOxHgOUhinUAAByMifZLaIAlOeHUtGnOZYK1A6xu3ZzlCQqvpOQGWJJUVlam7OxsnXvuuerUqZNGjRqlTz75JCjAkqTJkyerR48e/sneS0pK/M+tXLlS11xzjc477zy1bt1amZmZuvnmm/XKK69EPDYCLAAIRoBlPwIsD1GsAwDgYEy0X8IDLJ+qKqmkRHr+eee/CQyu4CDAAoBgBFj2I8DyEMU6AAAOxkT7JS3AQtLxbwsAwQiw7EeA5SGKdQAAHIyJ9iPAar74twWAYARY9iPA8hDFOgAADsZE+xFgNV/82wJAMAIs+xFgeYhiHQAAB2Oi/Qiwmi/+bQEgGAGW/QiwPESxDgCAgzHRftEEWLt27UrwUSERdu3aRYAFAHUQYNmPAMtDFOsAADgYE+1XX6G+Z88effjhhwk+KiTChx9+qD179iT7MADAKgRY9iPA8hDFOgAADsZE+9VXqO/bt09lZWWqrq5O8JGhMVVXV6usrEz79u1L9qEAgFUIsOxHgOUhinUAAByMifarr1A/evSoysrKdODAAdXU1CT46NAYampqdODAAZWVleno0aPJPhwAsAoBlv0IsDxEsQ4AgIMx0X71Feo1NTXau3evysrKtHPnTv+8SbTUbLt27dLOnTtVVlamvXv3EkoCQB0EWPYjwPIQxToAAA7GRPtFU6hXV1fr0KFD2rNnT9IDGFr8bc+ePTp06BCXhQJACARY9iPA8hDFOgAADsZE+1GoAwDgYly0HwGWhyjWAQBwMCbaj0IdAAAX46L9CLA8RLEOAICDMdF+FOoAALgYF+1HgOUhinUAAByMifajUAcAwMW4aD8CLA9RrAMA4GBMtB+FOgAALsZF+xFgeYhiHQAAB2Oi/SjUAQBwMS7ajwDLQ2+//bb/A79jxw4ajUaj0Zpt8xWBb7/9drKHZ4RRUFAgY4wmT56slStX0mg0Go3WrNvkyZNljFFBQUGyh2iEQYDlocWLF8sYQ6PRaDQa7WxbuZK/YtrKV6jTaDQajUZz2+TJk5M9RCMMAiwPbdy4UcYYPfvss0n/y3dTbytXuqd3JvtYmnqjr+nnptbo68S0t99+WytXrtSRI0eSPTwjjPLyck2ePFkFBQVJ/6t3Ilt+fr6MMcrPz0/6saRyox/pS9sa/UhfxtsKCgo0efJklZeXJ3uIRhgEWB7asYP5PhKFvk4c+jox6OfEoa+B5o3fAd6gH71DX3qDfvQOfQlbEWB5iB/0xKGvE4e+Tgz6OXHoa6B543eAN+hH79CX3qAfvUNfwlYEWB7iBz1x6OvEoa8Tg35OHPoaaN74HeAN+tE79KU36Efv0JewFQGWh/hBTxz6OnHo68SgnxOHvgaaN34HeIN+9A596Q360Tv0JWxFgOWhiooK5eTkqKKiItmH0uTR14lDXycG/Zw49DXQvPE7wBv0o3foS2/Qj96hL2ErAiwAAAAAAABYjQALAAAAAAAAViPAAgAAAAAAgNUIsAAAAAAAAGA1AiwAAAAAAABYjQDLA5WVlZo4caK6d++u1q1ba/DgwSosLEz2YaWMY8eO6f7771d2dra6dOkiY4xycnJCrvv222/r2muvVbt27dShQweNHDlSu3fvDrlufn6++vfvr4yMDPXq1UtTpkxRVVVVI74Tu23YsEG//OUv1b9/f51zzjnq0aOHfvSjH+mtt94KWpd+js/WrVt1ww03qGfPnmrTpo06deqkrKwsLVmyJGhd+tpbCxYskDFG7dq1C3qOvgaavnhrsoqKCo0ePVrnn3++2rZtq6ysLL3yyisRtzl58qT69u0rY4zy8vLifQtWSEQ/Hj16VNOnT9fQoUN1wQUXqF27dho0aJBmzZqlL7/80uu31Kji6a9YPnPr169XVlaW2rZtq/PPP1+jR49ucneJa+y+bEqfu0gS9Zn0aYq/B2EnAiwPZGdnq2PHjpo/f76Ki4s1duxYGWO0dOnSZB9aSigvL1eHDh109dVX+/suVID1/vvv69xzz9VVV12l1atX6/nnn9fAgQPVo0cPHTp0KGDd6dOnq0WLFpo8ebJKSko0Z84cZWRkaNy4cQl6V/a5+eabdc0112jevHkqLS1VUVGRsrKylJaWpg0bNvjXo5/jV1JSovHjx2vJkiUqLi7Wiy++qFtvvVXGGE2bNs2/Hn3trf3796tDhw7q0aNHUIBFXwPNQzw12alTpzRo0CBddNFFKigo0Lp163TjjTcqLS1NpaWlYbebNGmSevTo0aS+uCWiH7dv364uXbro3nvv1apVq7RhwwZNmTJFbdq00bXXXquamprGfIueamh/xfKZKy0tVVpamm688UatW7dOBQUFuvDCCzVo0CCdOnWqMd9eQjV2Xzalz10kifhM1tYUfw/CTgRYcVq9erWMMVq2bFnA8uzsbPXo0UNnzpxJ0pGljpqaGv9gcfjw4bAB1qhRo9SlSxcdPXrUv2zv3r1KT0/Xv//7v/uXffbZZ2rTpo3uvPPOgO1nzJihFi1a6L333mucN2K5UH+hq6ys1AUXXKBrr73Wv4x+bjxXXnmlevbs6X9MX3vrBz/4gX74wx9q9OjRQQEWfQ00ffHWZHPnzpUxRhs3bvQvq66u1mWXXaYrrrgi5DZ/+9vflJGRoaKioibzxS1R/Xj8+HEdP348aPu8vDwZY/T666/H+U4SI57+iuUzN2TIEF122WWqrq72L3vjjTdkjNG8efM8ejfJlYi+bCqfu0gS9Zn0aYq/B2EvAqw4jR07Vu3btw8YTCRp2bJlMsbojTfeSNKRpaZwAVZ1dbXatm2r8ePHB21z3XXXqW/fvv7HBQUFMsZo06ZNAesdPHhQxhjNmDGjUY49VV1zzTXq16+fJPq5sY0YMUKXXHKJJPraa0uWLNG5556rffv2BQVY9DXQPMRbk33/+99X//79g5bPnDlTxhjt378/YPnp06c1cOBA3XvvvSovL28yX9wS3Y91vfrqqyG/fNsqnv6Ktq/2798vY4xyc3OD1u3Xr5+ys7PjfBd2SERfhpNqn7tIEtmPTfX3IOxFgBWnrKwsDRkyJGj5jh07ZIzR448/noSjSl3hAqwPPvhAxhjNnTs3aJvf/OY3atGihf+69d/+9rcyxoT860qXLl102223Ncqxp6IvvvjCPxeQRD977auvvlJ1dbUOHTqkuXPnKi0tTfPnz5dEX3upoqJC559/vr8v6wZY9DXQPMRbk3Xr1k2jRo0KWv7SSy/JGKOXX345YPmDDz6oXr166fjx403qi1ui+7GunJwcGWO0bdu22A48SeLpr2j7au3atTLGaPXq1UHr3nzzzerevXsc78AeiejLcFLtcxdJIvuxqf4ehL0IsOLUt29fDRs2LGi576/1M2fOTMJRpa5wAZbvFOlQkw/6/iJw8OBBSdK4cePUunXrkK/fr18/XXfddZ4fd6r66U9/qrS0NP9E7vSzt8aPHy9jjIwxysjICDjFn772zk033aR//ud/9l+KXDfAoq+B5iHemiw9PT3kmZobN24MOjNj69atSk9P19q1ayWpSX1xS2Q/1rVt2za1bdvW/4e1VBBPf0XbV0uXLg15drAk3XnnncrIyIjjHdgjEX0ZSip+7iJJVD825d+DsBcBVpz69u2r4cOHBy33/YIIdaovwqsvwFq+fHnQNr4voP/4xz8kOV9A27RpE/L1+/XrF/IXenP0u9/9TsYYPfroo/5l9LO3Pv74Y23ZskWrV6/WhAkT1LJlS/+gTl9747nnnlNGRkbA3FThAiz6GkgdJSUl/j8A1Ne2bt0qKf6aLD09XRMmTAha7vvi5gvBq6ur9c1vflM/+9nP/OvY+sXN5n6sq7y8XD179lS/fv30+eefN+DdJkc8/RVtX/kCrM2bNwete+edd4b9w0uqSURf1pWqn7tIEtGPqfR7EE0LAVacuITQW15eQnjixImgdbkEyDFlypSQ8/nQz41rwoQJSktL06FDh+hrD/huQjBp0iQdOXLE32677Ta1a9dOR44c0fHjx+lrIAUdPHhQCxYsiKr5vnQm6tK3vLw8dejQQR999JH/9862bdtkjHOn2SNHjlhzEx+b+7G2vXv3qlevXrrkkku0b9++Br7b5OASQu8k+hLCVP7cRZKIfkyl34NoWgiw4jRu3LiQk+QVFhbWO0kegtU3iXuovwgMGzYsYBLmcH+l+sc//hEytGlufOHVlClTgp6jnxvXwoUL/X1GX8fP95e+SO3GG2+kr4FmIt6aLDs7WwMGDAhanpubK2OMDhw4IMk5yzPas5lSUaL60ccXImRmZmrv3r3xv4EEi6e/ou0r3yTus2bNClq3f//+TWYS90T0pU+qf+4iSUQ/NvXfg7AXAVac1qxZE/LSlOHDh0d1q2EEChdgSdJPfvITde3aVceOHfMv+/jjj5WRkaH/+I//8C/7/PPP1aZNm6Avq7m5uWrRokXApUbNzdSpU2WM0e9+97uw69DPjefnP/+5WrZsqUOHDkmir+P15ZdfqqSkJKgNGzZMbdq0UUlJibZv3y6Jvgaag3hrsnnz5gUF2NXV1Ro4cKCuvPJK/7L3338/6PeO74vhhAkTVFJSosrKSm/fXAIlqh8l5/dwr1691LNnT+3evdu7N5FA8fRXLH11xRVXaNCgQQGvt2nTJhlj9Nhjj3n0bpIrUX3ZFD53kSSiH5v670HYiwDLA9nZ2erUqZOeeOIJFRcXa9y4cTLGqKCgINmHljLWrFmjoqIi/xkqo0aNUlFRkYqKivyX8rz//vtq3769rr76aq1Zs0YrVqzQoEGD1KNHD38g4DN9+nS1aNFCDzzwgEpLS5WXl6fWrVtr3LhxyXh7Vvj9738vY4yGDx+uTZs2BTUf+jl+48aN06RJk/TMM8+otLRUzz33nG655RYZY3T//ff716OvG0fdObAk+hpoLqKtycaMGaNWrVoFnHlx6tQpDRw4UD179tTSpUu1fv16jRw5UmlpaSotLY2436Y290si+rGiokKXXnqpWrdurYKCgqC6JJUu6Yqmv+L9zJWUlCgtLU0jR47U+vXrtXTpUvXs2VODBg3SqVOnEvZeG1tj92VT+txFkojPZF1N7fcg7ESA5YHKykrdc8896tatmzIyMnT55ZeHnSgQoWVmZoY9/bS8vNy/3ltvvaVrr71W55xzjs477zz9+Mc/1q5du0K+5p/+9Cf169dPGRkZuvjii5WTk6OqqqoEvSP7DB06NOJpvrXRz/FZuHChrrrqKnXp0kVpaWnq2LGjhg4dqiVLlgStS197L1SAJdHXQHMQbU3mu/yldo0hSZ9++qluv/12de7cWW3atFFWVpbWr19f736b2he3RPRjfRPMhzob31bR9JcXn7l169YpKytLbdq0UefOnXX77beroqKisd5WUjR2Xzalz10kifpM1tbUfg/CTgRYAAAAAAAAsBoBFgAAAAAAAKxGgAUAAAAAAACrEWABAAAAAADAagRYAAAAAAAAsBoBFgAAAAAAAKxGgAUAAAAAAACrEWABAAAAAADAagRYAAAAAAAAsBoBFoBGt2jRIhljwraSkpKkHVt5ebmMMcrLy0vaMQAAALtQuwCAfQiwADQ6XxG4aNEibdq0KagdPXo0acdGEQgAAOqidgEA+xBgAWh0viJwy5YtyT6UIBSBAACgLmoXALAPARaARhdtEWiM0V133aX58+erb9++ysjI0D/90z+psLAwaN3t27frRz/6kTp27KjWrVtr8ODBWrx4cdB6R44c0X333adLLrlEGRkZ+trXvqbrr79e77//vqTAIvDhhx9Wr1691K5dO2VlZWnTpk0Br7V7927dcsst6t69uzIyMtS1a1d973vf09atW+PoHQAAYBtqFwCwDwEWgEbnKwI3b96s6urqgHbmzBn/esYY9ezZU5dddpkKCwv15z//WcOHD5cxRkVFRf71PvjgA5177rnq3bu3nn76aa1evVq33XabjDGaPXu2f71jx45p4MCBateunaZOnaqXX35Zzz//vCZOnKji4mJJbhHYq1cvDR8+XCtXrtTKlSv19a9/XZ06ddIXX3zhf73+/furT58+WrJkiV599VU9//zzmjRpUlLnwQAAAN6jdgEA+xBgAWh0kSZCbdWqlX89Y4zatm2rTz/91L/szJkzGjBggPr06eNfduutt6p169b65JNPAvZz/fXX65xzzvEXblOnTpUxRuvXrw97bL4i8Otf/3pAQfrmm2/KGOP/C+pnn30mY4weeeSR+DoDAABYj9oFAOxDgAWg0fmKwKefflpbtmwJaG+99ZZ/PWOMfvCDHwRtn5OTI2OM9u3bJ0nq2rWrbrjhhqD1nnnmGRlj9Je//EWS9O1vf1v9+vWLeGy+IvC3v/1twPJTp07JGKNZs2ZJkmpqatS7d29deOGFevjhh/XOO+/oq6++iq0jAABASqB2AQD7EGABaHSxzCMxduzYoOWPPfaYjDH6+9//Lklq1aqV7rjjjqD1Xn/9dRljVFBQIEnq06ePvve970XcZ6SJUI0xysnJ8T/eu3evxowZowsuuEDGGHXu3Fl33323jh07FnEfAAAgtVC7AIB9CLAANLpYikAv/oq5du1aSbH9FTOaIrC2nTt3atq0aWrVqpXGjx8fcR8AACC1ULsAgH0IsAA0uliKwHDzSPTu3du/7LbbblObNm104MCBgO1HjBgRch6JDRs2hN1nQ4tAn2984xsaMmRIxHUAAEBqoXYBAPsQYAFodL4icNGiRdq0aVNQO3TokKTId/JZvny5//V8d/Lp16+fCgoKtGbNGv30pz+VMUZz5szxr+e7k0/79u01ffp0rVu3TqtWrdJ9990XdCef+orAbdu26aqrrlJ+fr7+8pe/aMOGDXrwwQfVsmVLPfDAA43YewAAINGoXQDAPgRYABpdpDv5GGO0YMECSU7Rddddd2nevHnq3bu30tPTNWDAAC1dujToNbdv364f/vCH6tChgzIyMjR48GAtWrQoaL0jR45o4sSJuvjii5Wenq6uXbtqxIgR+uCDDyRFXwRWVFToF7/4hQYMGKB27dqpffv2uvzyy/XHP/4x4A5AAAAg9VG7AIB9CLAAWMNXBAIAAKQCahcASBwCLADWoAgEAACphNoFABKHAAuANSgCAQBAKqF2AYDEIcACAAAAAACA1QiwAAAAAAAAYDUCLAAAAAAAAFiNAAsAAAAAAABWI8ACAAAAAACA1QiwAAAAAAAAYDUCLAAAAAAAAFiNAAsAAAAAAABWI8ACAAAAAACA1QiwAAAAAAAAYDUCLAAAAAAAAFiNAAsAAAAAAABWI8ACAAAAAACA1QiwAAAAAAAAYDUCLAAAAAAAAFiNAAsAAAAAAABWI8ACAAAAAACA1QiwAAAAAAAAYDUCLAAAAAAAAFiNAAsAAAAAAABWI8ACAAAAAACA1QiwAAAAAAAAYLX/D0Bc3VQ+HwLvAAAAAElFTkSuQmCC\" width=\"1000\">"
      ],
      "text/plain": [
       "<IPython.core.display.HTML object>"
      ]
     },
     "metadata": {},
     "output_type": "display_data"
    }
   ],
   "source": [
    "ax, tax, lax, lines = dual_train_plots()\n",
    "fig = ax.figure\n",
    "plt.tight_layout()"
   ]
  },
  {
   "cell_type": "code",
   "execution_count": 17,
   "metadata": {
    "scrolled": false
   },
   "outputs": [
    {
     "name": "stdout",
     "output_type": "stream",
     "text": [
      "Number of batches: train = 1125, val = 125\n"
     ]
    },
    {
     "data": {
      "application/vnd.jupyter.widget-view+json": {
       "model_id": "0b0c88ca582f4a8897829fe89f2cb2cd",
       "version_major": 2,
       "version_minor": 0
      },
      "text/plain": [
       "HBox(children=(FloatProgress(value=0.0, description='Epochs', layout=Layout(flex='2'), max=500.0, style=Progre…"
      ]
     },
     "metadata": {},
     "output_type": "display_data"
    },
    {
     "name": "stdout",
     "output_type": "stream",
     "text": [
      "Number of batches: train = 1125, val = 125\n"
     ]
    },
    {
     "data": {
      "application/vnd.jupyter.widget-view+json": {
       "model_id": "",
       "version_major": 2,
       "version_minor": 0
      },
      "text/plain": [
       "HBox(children=(FloatProgress(value=0.0, description='Training', layout=Layout(flex='2'), max=1125.0, style=Pro…"
      ]
     },
     "metadata": {},
     "output_type": "display_data"
    },
    {
     "name": "stdout",
     "output_type": "stream",
     "text": [
      "Epoch 0: train=1.29672, val=1.14666, took 36.943 s\n"
     ]
    },
    {
     "data": {
      "application/vnd.jupyter.widget-view+json": {
       "model_id": "",
       "version_major": 2,
       "version_minor": 0
      },
      "text/plain": [
       "HBox(children=(FloatProgress(value=0.0, description='Training', layout=Layout(flex='2'), max=1125.0, style=Pro…"
      ]
     },
     "metadata": {},
     "output_type": "display_data"
    },
    {
     "name": "stdout",
     "output_type": "stream",
     "text": [
      "Epoch 1: train=1.29694, val=1.2149, took 36.69 s\n"
     ]
    },
    {
     "data": {
      "application/vnd.jupyter.widget-view+json": {
       "model_id": "",
       "version_major": 2,
       "version_minor": 0
      },
      "text/plain": [
       "HBox(children=(FloatProgress(value=0.0, description='Training', layout=Layout(flex='2'), max=1125.0, style=Pro…"
      ]
     },
     "metadata": {},
     "output_type": "display_data"
    },
    {
     "name": "stdout",
     "output_type": "stream",
     "text": [
      "Epoch 2: train=1.30008, val=1.16388, took 36.524 s\n"
     ]
    },
    {
     "data": {
      "application/vnd.jupyter.widget-view+json": {
       "model_id": "",
       "version_major": 2,
       "version_minor": 0
      },
      "text/plain": [
       "HBox(children=(FloatProgress(value=0.0, description='Training', layout=Layout(flex='2'), max=1125.0, style=Pro…"
      ]
     },
     "metadata": {},
     "output_type": "display_data"
    },
    {
     "name": "stdout",
     "output_type": "stream",
     "text": [
      "Epoch 3: train=1.29152, val=1.18615, took 36.646 s\n"
     ]
    },
    {
     "data": {
      "application/vnd.jupyter.widget-view+json": {
       "model_id": "",
       "version_major": 2,
       "version_minor": 0
      },
      "text/plain": [
       "HBox(children=(FloatProgress(value=0.0, description='Training', layout=Layout(flex='2'), max=1125.0, style=Pro…"
      ]
     },
     "metadata": {},
     "output_type": "display_data"
    },
    {
     "name": "stdout",
     "output_type": "stream",
     "text": [
      "Epoch 4: train=1.29042, val=1.13743, took 36.863 s\n"
     ]
    },
    {
     "data": {
      "application/vnd.jupyter.widget-view+json": {
       "model_id": "",
       "version_major": 2,
       "version_minor": 0
      },
      "text/plain": [
       "HBox(children=(FloatProgress(value=0.0, description='Training', layout=Layout(flex='2'), max=1125.0, style=Pro…"
      ]
     },
     "metadata": {},
     "output_type": "display_data"
    },
    {
     "name": "stdout",
     "output_type": "stream",
     "text": [
      "Epoch 5: train=1.29394, val=1.18023, took 37.162 s\n"
     ]
    },
    {
     "data": {
      "application/vnd.jupyter.widget-view+json": {
       "model_id": "",
       "version_major": 2,
       "version_minor": 0
      },
      "text/plain": [
       "HBox(children=(FloatProgress(value=0.0, description='Training', layout=Layout(flex='2'), max=1125.0, style=Pro…"
      ]
     },
     "metadata": {},
     "output_type": "display_data"
    },
    {
     "name": "stdout",
     "output_type": "stream",
     "text": [
      "Epoch 6: train=1.29378, val=1.15422, took 37.325 s\n"
     ]
    },
    {
     "data": {
      "application/vnd.jupyter.widget-view+json": {
       "model_id": "",
       "version_major": 2,
       "version_minor": 0
      },
      "text/plain": [
       "HBox(children=(FloatProgress(value=0.0, description='Training', layout=Layout(flex='2'), max=1125.0, style=Pro…"
      ]
     },
     "metadata": {},
     "output_type": "display_data"
    },
    {
     "name": "stdout",
     "output_type": "stream",
     "text": [
      "Epoch 7: train=1.29106, val=1.14178, took 38.106 s\n"
     ]
    },
    {
     "data": {
      "application/vnd.jupyter.widget-view+json": {
       "model_id": "",
       "version_major": 2,
       "version_minor": 0
      },
      "text/plain": [
       "HBox(children=(FloatProgress(value=0.0, description='Training', layout=Layout(flex='2'), max=1125.0, style=Pro…"
      ]
     },
     "metadata": {},
     "output_type": "display_data"
    },
    {
     "name": "stdout",
     "output_type": "stream",
     "text": [
      "Epoch 8: train=1.28829, val=1.13418, took 38.6 s\n"
     ]
    },
    {
     "data": {
      "application/vnd.jupyter.widget-view+json": {
       "model_id": "",
       "version_major": 2,
       "version_minor": 0
      },
      "text/plain": [
       "HBox(children=(FloatProgress(value=0.0, description='Training', layout=Layout(flex='2'), max=1125.0, style=Pro…"
      ]
     },
     "metadata": {},
     "output_type": "display_data"
    },
    {
     "name": "stdout",
     "output_type": "stream",
     "text": [
      "Epoch 9: train=1.29245, val=1.28136, took 38.384 s\n"
     ]
    },
    {
     "data": {
      "application/vnd.jupyter.widget-view+json": {
       "model_id": "",
       "version_major": 2,
       "version_minor": 0
      },
      "text/plain": [
       "HBox(children=(FloatProgress(value=0.0, description='Training', layout=Layout(flex='2'), max=1125.0, style=Pro…"
      ]
     },
     "metadata": {},
     "output_type": "display_data"
    },
    {
     "name": "stdout",
     "output_type": "stream",
     "text": [
      "Epoch 10: train=1.28343, val=1.14298, took 38.884 s\n"
     ]
    },
    {
     "data": {
      "application/vnd.jupyter.widget-view+json": {
       "model_id": "",
       "version_major": 2,
       "version_minor": 0
      },
      "text/plain": [
       "HBox(children=(FloatProgress(value=0.0, description='Training', layout=Layout(flex='2'), max=1125.0, style=Pro…"
      ]
     },
     "metadata": {},
     "output_type": "display_data"
    },
    {
     "name": "stdout",
     "output_type": "stream",
     "text": [
      "Epoch 11: train=1.29342, val=1.19529, took 38.813 s\n"
     ]
    },
    {
     "data": {
      "application/vnd.jupyter.widget-view+json": {
       "model_id": "",
       "version_major": 2,
       "version_minor": 0
      },
      "text/plain": [
       "HBox(children=(FloatProgress(value=0.0, description='Training', layout=Layout(flex='2'), max=1125.0, style=Pro…"
      ]
     },
     "metadata": {},
     "output_type": "display_data"
    },
    {
     "name": "stdout",
     "output_type": "stream",
     "text": [
      "Epoch 12: train=1.29178, val=1.13499, took 38.556 s\n"
     ]
    },
    {
     "data": {
      "application/vnd.jupyter.widget-view+json": {
       "model_id": "",
       "version_major": 2,
       "version_minor": 0
      },
      "text/plain": [
       "HBox(children=(FloatProgress(value=0.0, description='Training', layout=Layout(flex='2'), max=1125.0, style=Pro…"
      ]
     },
     "metadata": {},
     "output_type": "display_data"
    },
    {
     "name": "stdout",
     "output_type": "stream",
     "text": [
      "Epoch 13: train=1.28189, val=1.15275, took 38.5 s\n"
     ]
    },
    {
     "data": {
      "application/vnd.jupyter.widget-view+json": {
       "model_id": "",
       "version_major": 2,
       "version_minor": 0
      },
      "text/plain": [
       "HBox(children=(FloatProgress(value=0.0, description='Training', layout=Layout(flex='2'), max=1125.0, style=Pro…"
      ]
     },
     "metadata": {},
     "output_type": "display_data"
    },
    {
     "name": "stdout",
     "output_type": "stream",
     "text": [
      "Epoch 14: train=1.29055, val=1.15845, took 38.307 s\n"
     ]
    },
    {
     "data": {
      "application/vnd.jupyter.widget-view+json": {
       "model_id": "",
       "version_major": 2,
       "version_minor": 0
      },
      "text/plain": [
       "HBox(children=(FloatProgress(value=0.0, description='Training', layout=Layout(flex='2'), max=1125.0, style=Pro…"
      ]
     },
     "metadata": {},
     "output_type": "display_data"
    },
    {
     "name": "stdout",
     "output_type": "stream",
     "text": [
      "Epoch 15: train=1.28646, val=1.29488, took 38.402 s\n"
     ]
    },
    {
     "data": {
      "application/vnd.jupyter.widget-view+json": {
       "model_id": "",
       "version_major": 2,
       "version_minor": 0
      },
      "text/plain": [
       "HBox(children=(FloatProgress(value=0.0, description='Training', layout=Layout(flex='2'), max=1125.0, style=Pro…"
      ]
     },
     "metadata": {},
     "output_type": "display_data"
    },
    {
     "name": "stdout",
     "output_type": "stream",
     "text": [
      "Epoch 16: train=1.28779, val=1.16808, took 38.22 s\n"
     ]
    },
    {
     "data": {
      "application/vnd.jupyter.widget-view+json": {
       "model_id": "",
       "version_major": 2,
       "version_minor": 0
      },
      "text/plain": [
       "HBox(children=(FloatProgress(value=0.0, description='Training', layout=Layout(flex='2'), max=1125.0, style=Pro…"
      ]
     },
     "metadata": {},
     "output_type": "display_data"
    },
    {
     "name": "stdout",
     "output_type": "stream",
     "text": [
      "Epoch 17: train=1.29071, val=1.1353, took 38.514 s\n"
     ]
    },
    {
     "data": {
      "application/vnd.jupyter.widget-view+json": {
       "model_id": "",
       "version_major": 2,
       "version_minor": 0
      },
      "text/plain": [
       "HBox(children=(FloatProgress(value=0.0, description='Training', layout=Layout(flex='2'), max=1125.0, style=Pro…"
      ]
     },
     "metadata": {},
     "output_type": "display_data"
    },
    {
     "name": "stdout",
     "output_type": "stream",
     "text": [
      "Epoch 18: train=1.28759, val=1.13682, took 38.35 s\n"
     ]
    },
    {
     "data": {
      "application/vnd.jupyter.widget-view+json": {
       "model_id": "",
       "version_major": 2,
       "version_minor": 0
      },
      "text/plain": [
       "HBox(children=(FloatProgress(value=0.0, description='Training', layout=Layout(flex='2'), max=1125.0, style=Pro…"
      ]
     },
     "metadata": {},
     "output_type": "display_data"
    },
    {
     "name": "stdout",
     "output_type": "stream",
     "text": [
      "Epoch 19: train=1.29163, val=1.16884, took 38.358 s\n"
     ]
    },
    {
     "data": {
      "application/vnd.jupyter.widget-view+json": {
       "model_id": "",
       "version_major": 2,
       "version_minor": 0
      },
      "text/plain": [
       "HBox(children=(FloatProgress(value=0.0, description='Training', layout=Layout(flex='2'), max=1125.0, style=Pro…"
      ]
     },
     "metadata": {},
     "output_type": "display_data"
    },
    {
     "name": "stdout",
     "output_type": "stream",
     "text": [
      "Epoch 20: train=1.28664, val=1.1336, took 38.424 s\n"
     ]
    },
    {
     "data": {
      "application/vnd.jupyter.widget-view+json": {
       "model_id": "",
       "version_major": 2,
       "version_minor": 0
      },
      "text/plain": [
       "HBox(children=(FloatProgress(value=0.0, description='Training', layout=Layout(flex='2'), max=1125.0, style=Pro…"
      ]
     },
     "metadata": {},
     "output_type": "display_data"
    },
    {
     "name": "stdout",
     "output_type": "stream",
     "text": [
      "Epoch 21: train=1.28074, val=1.12842, took 38.452 s\n"
     ]
    },
    {
     "data": {
      "application/vnd.jupyter.widget-view+json": {
       "model_id": "",
       "version_major": 2,
       "version_minor": 0
      },
      "text/plain": [
       "HBox(children=(FloatProgress(value=0.0, description='Training', layout=Layout(flex='2'), max=1125.0, style=Pro…"
      ]
     },
     "metadata": {},
     "output_type": "display_data"
    },
    {
     "name": "stdout",
     "output_type": "stream",
     "text": [
      "Epoch 22: train=1.28714, val=1.14031, took 38.372 s\n"
     ]
    },
    {
     "data": {
      "application/vnd.jupyter.widget-view+json": {
       "model_id": "",
       "version_major": 2,
       "version_minor": 0
      },
      "text/plain": [
       "HBox(children=(FloatProgress(value=0.0, description='Training', layout=Layout(flex='2'), max=1125.0, style=Pro…"
      ]
     },
     "metadata": {},
     "output_type": "display_data"
    },
    {
     "name": "stdout",
     "output_type": "stream",
     "text": [
      "Epoch 23: train=1.28524, val=1.13664, took 38.388 s\n"
     ]
    },
    {
     "data": {
      "application/vnd.jupyter.widget-view+json": {
       "model_id": "",
       "version_major": 2,
       "version_minor": 0
      },
      "text/plain": [
       "HBox(children=(FloatProgress(value=0.0, description='Training', layout=Layout(flex='2'), max=1125.0, style=Pro…"
      ]
     },
     "metadata": {},
     "output_type": "display_data"
    },
    {
     "name": "stdout",
     "output_type": "stream",
     "text": [
      "Epoch 24: train=1.28848, val=1.13135, took 38.652 s\n"
     ]
    },
    {
     "data": {
      "application/vnd.jupyter.widget-view+json": {
       "model_id": "",
       "version_major": 2,
       "version_minor": 0
      },
      "text/plain": [
       "HBox(children=(FloatProgress(value=0.0, description='Training', layout=Layout(flex='2'), max=1125.0, style=Pro…"
      ]
     },
     "metadata": {},
     "output_type": "display_data"
    },
    {
     "name": "stdout",
     "output_type": "stream",
     "text": [
      "Epoch 25: train=1.29495, val=1.1856, took 38.497 s\n"
     ]
    },
    {
     "data": {
      "application/vnd.jupyter.widget-view+json": {
       "model_id": "",
       "version_major": 2,
       "version_minor": 0
      },
      "text/plain": [
       "HBox(children=(FloatProgress(value=0.0, description='Training', layout=Layout(flex='2'), max=1125.0, style=Pro…"
      ]
     },
     "metadata": {},
     "output_type": "display_data"
    },
    {
     "name": "stdout",
     "output_type": "stream",
     "text": [
      "Epoch 26: train=1.28166, val=1.14688, took 39.055 s\n"
     ]
    },
    {
     "data": {
      "application/vnd.jupyter.widget-view+json": {
       "model_id": "",
       "version_major": 2,
       "version_minor": 0
      },
      "text/plain": [
       "HBox(children=(FloatProgress(value=0.0, description='Training', layout=Layout(flex='2'), max=1125.0, style=Pro…"
      ]
     },
     "metadata": {},
     "output_type": "display_data"
    },
    {
     "name": "stdout",
     "output_type": "stream",
     "text": [
      "Epoch 27: train=1.28563, val=1.15895, took 38.779 s\n"
     ]
    },
    {
     "data": {
      "application/vnd.jupyter.widget-view+json": {
       "model_id": "",
       "version_major": 2,
       "version_minor": 0
      },
      "text/plain": [
       "HBox(children=(FloatProgress(value=0.0, description='Training', layout=Layout(flex='2'), max=1125.0, style=Pro…"
      ]
     },
     "metadata": {},
     "output_type": "display_data"
    },
    {
     "name": "stdout",
     "output_type": "stream",
     "text": [
      "Epoch 28: train=1.29304, val=1.20348, took 38.33 s\n"
     ]
    },
    {
     "data": {
      "application/vnd.jupyter.widget-view+json": {
       "model_id": "",
       "version_major": 2,
       "version_minor": 0
      },
      "text/plain": [
       "HBox(children=(FloatProgress(value=0.0, description='Training', layout=Layout(flex='2'), max=1125.0, style=Pro…"
      ]
     },
     "metadata": {},
     "output_type": "display_data"
    },
    {
     "name": "stdout",
     "output_type": "stream",
     "text": [
      "Epoch 29: train=1.2922, val=1.14451, took 38.209 s\n"
     ]
    },
    {
     "data": {
      "application/vnd.jupyter.widget-view+json": {
       "model_id": "",
       "version_major": 2,
       "version_minor": 0
      },
      "text/plain": [
       "HBox(children=(FloatProgress(value=0.0, description='Training', layout=Layout(flex='2'), max=1125.0, style=Pro…"
      ]
     },
     "metadata": {},
     "output_type": "display_data"
    },
    {
     "name": "stdout",
     "output_type": "stream",
     "text": [
      "Epoch 30: train=1.28352, val=1.16469, took 40.278 s\n"
     ]
    },
    {
     "data": {
      "application/vnd.jupyter.widget-view+json": {
       "model_id": "",
       "version_major": 2,
       "version_minor": 0
      },
      "text/plain": [
       "HBox(children=(FloatProgress(value=0.0, description='Training', layout=Layout(flex='2'), max=1125.0, style=Pro…"
      ]
     },
     "metadata": {},
     "output_type": "display_data"
    },
    {
     "name": "stdout",
     "output_type": "stream",
     "text": [
      "Epoch 31: train=1.2824, val=1.14996, took 39.487 s\n"
     ]
    },
    {
     "data": {
      "application/vnd.jupyter.widget-view+json": {
       "model_id": "",
       "version_major": 2,
       "version_minor": 0
      },
      "text/plain": [
       "HBox(children=(FloatProgress(value=0.0, description='Training', layout=Layout(flex='2'), max=1125.0, style=Pro…"
      ]
     },
     "metadata": {},
     "output_type": "display_data"
    },
    {
     "name": "stdout",
     "output_type": "stream",
     "text": [
      "Epoch 32: train=1.28239, val=1.16984, took 40.053 s\n"
     ]
    },
    {
     "data": {
      "application/vnd.jupyter.widget-view+json": {
       "model_id": "",
       "version_major": 2,
       "version_minor": 0
      },
      "text/plain": [
       "HBox(children=(FloatProgress(value=0.0, description='Training', layout=Layout(flex='2'), max=1125.0, style=Pro…"
      ]
     },
     "metadata": {},
     "output_type": "display_data"
    },
    {
     "name": "stdout",
     "output_type": "stream",
     "text": [
      "Epoch 33: train=1.27472, val=1.14466, took 38.95 s\n"
     ]
    },
    {
     "data": {
      "application/vnd.jupyter.widget-view+json": {
       "model_id": "",
       "version_major": 2,
       "version_minor": 0
      },
      "text/plain": [
       "HBox(children=(FloatProgress(value=0.0, description='Training', layout=Layout(flex='2'), max=1125.0, style=Pro…"
      ]
     },
     "metadata": {},
     "output_type": "display_data"
    },
    {
     "name": "stdout",
     "output_type": "stream",
     "text": [
      "Epoch 34: train=1.28702, val=1.15527, took 38.506 s\n"
     ]
    },
    {
     "data": {
      "application/vnd.jupyter.widget-view+json": {
       "model_id": "",
       "version_major": 2,
       "version_minor": 0
      },
      "text/plain": [
       "HBox(children=(FloatProgress(value=0.0, description='Training', layout=Layout(flex='2'), max=1125.0, style=Pro…"
      ]
     },
     "metadata": {},
     "output_type": "display_data"
    },
    {
     "name": "stdout",
     "output_type": "stream",
     "text": [
      "Epoch 35: train=1.29687, val=1.13424, took 38.617 s\n"
     ]
    },
    {
     "data": {
      "application/vnd.jupyter.widget-view+json": {
       "model_id": "",
       "version_major": 2,
       "version_minor": 0
      },
      "text/plain": [
       "HBox(children=(FloatProgress(value=0.0, description='Training', layout=Layout(flex='2'), max=1125.0, style=Pro…"
      ]
     },
     "metadata": {},
     "output_type": "display_data"
    },
    {
     "name": "stdout",
     "output_type": "stream",
     "text": [
      "Epoch 36: train=1.28539, val=1.14817, took 38.361 s\n"
     ]
    },
    {
     "data": {
      "application/vnd.jupyter.widget-view+json": {
       "model_id": "",
       "version_major": 2,
       "version_minor": 0
      },
      "text/plain": [
       "HBox(children=(FloatProgress(value=0.0, description='Training', layout=Layout(flex='2'), max=1125.0, style=Pro…"
      ]
     },
     "metadata": {},
     "output_type": "display_data"
    },
    {
     "name": "stdout",
     "output_type": "stream",
     "text": [
      "Epoch 37: train=1.27966, val=1.13646, took 38.933 s\n"
     ]
    },
    {
     "data": {
      "application/vnd.jupyter.widget-view+json": {
       "model_id": "",
       "version_major": 2,
       "version_minor": 0
      },
      "text/plain": [
       "HBox(children=(FloatProgress(value=0.0, description='Training', layout=Layout(flex='2'), max=1125.0, style=Pro…"
      ]
     },
     "metadata": {},
     "output_type": "display_data"
    },
    {
     "name": "stdout",
     "output_type": "stream",
     "text": [
      "Epoch 38: train=1.28437, val=1.12677, took 38.495 s\n"
     ]
    },
    {
     "data": {
      "application/vnd.jupyter.widget-view+json": {
       "model_id": "",
       "version_major": 2,
       "version_minor": 0
      },
      "text/plain": [
       "HBox(children=(FloatProgress(value=0.0, description='Training', layout=Layout(flex='2'), max=1125.0, style=Pro…"
      ]
     },
     "metadata": {},
     "output_type": "display_data"
    },
    {
     "name": "stdout",
     "output_type": "stream",
     "text": [
      "Epoch 39: train=1.27988, val=1.24827, took 39.091 s\n"
     ]
    },
    {
     "data": {
      "application/vnd.jupyter.widget-view+json": {
       "model_id": "",
       "version_major": 2,
       "version_minor": 0
      },
      "text/plain": [
       "HBox(children=(FloatProgress(value=0.0, description='Training', layout=Layout(flex='2'), max=1125.0, style=Pro…"
      ]
     },
     "metadata": {},
     "output_type": "display_data"
    },
    {
     "name": "stdout",
     "output_type": "stream",
     "text": [
      "Epoch 40: train=1.2809, val=1.13069, took 38.609 s\n"
     ]
    },
    {
     "data": {
      "application/vnd.jupyter.widget-view+json": {
       "model_id": "",
       "version_major": 2,
       "version_minor": 0
      },
      "text/plain": [
       "HBox(children=(FloatProgress(value=0.0, description='Training', layout=Layout(flex='2'), max=1125.0, style=Pro…"
      ]
     },
     "metadata": {},
     "output_type": "display_data"
    },
    {
     "name": "stdout",
     "output_type": "stream",
     "text": [
      "Epoch 41: train=1.2752, val=1.12716, took 38.386 s\n"
     ]
    },
    {
     "data": {
      "application/vnd.jupyter.widget-view+json": {
       "model_id": "",
       "version_major": 2,
       "version_minor": 0
      },
      "text/plain": [
       "HBox(children=(FloatProgress(value=0.0, description='Training', layout=Layout(flex='2'), max=1125.0, style=Pro…"
      ]
     },
     "metadata": {},
     "output_type": "display_data"
    },
    {
     "name": "stdout",
     "output_type": "stream",
     "text": [
      "Epoch 42: train=1.28482, val=1.12953, took 40.755 s\n"
     ]
    },
    {
     "data": {
      "application/vnd.jupyter.widget-view+json": {
       "model_id": "",
       "version_major": 2,
       "version_minor": 0
      },
      "text/plain": [
       "HBox(children=(FloatProgress(value=0.0, description='Training', layout=Layout(flex='2'), max=1125.0, style=Pro…"
      ]
     },
     "metadata": {},
     "output_type": "display_data"
    },
    {
     "name": "stdout",
     "output_type": "stream",
     "text": [
      "Epoch 43: train=1.27838, val=1.13143, took 41.913 s\n"
     ]
    },
    {
     "data": {
      "application/vnd.jupyter.widget-view+json": {
       "model_id": "",
       "version_major": 2,
       "version_minor": 0
      },
      "text/plain": [
       "HBox(children=(FloatProgress(value=0.0, description='Training', layout=Layout(flex='2'), max=1125.0, style=Pro…"
      ]
     },
     "metadata": {},
     "output_type": "display_data"
    },
    {
     "name": "stdout",
     "output_type": "stream",
     "text": [
      "Epoch 44: train=1.27602, val=1.13035, took 42.102 s\n"
     ]
    },
    {
     "data": {
      "application/vnd.jupyter.widget-view+json": {
       "model_id": "",
       "version_major": 2,
       "version_minor": 0
      },
      "text/plain": [
       "HBox(children=(FloatProgress(value=0.0, description='Training', layout=Layout(flex='2'), max=1125.0, style=Pro…"
      ]
     },
     "metadata": {},
     "output_type": "display_data"
    },
    {
     "name": "stdout",
     "output_type": "stream",
     "text": [
      "Epoch 45: train=1.27937, val=1.13134, took 42.2 s\n"
     ]
    },
    {
     "data": {
      "application/vnd.jupyter.widget-view+json": {
       "model_id": "",
       "version_major": 2,
       "version_minor": 0
      },
      "text/plain": [
       "HBox(children=(FloatProgress(value=0.0, description='Training', layout=Layout(flex='2'), max=1125.0, style=Pro…"
      ]
     },
     "metadata": {},
     "output_type": "display_data"
    },
    {
     "name": "stdout",
     "output_type": "stream",
     "text": [
      "Epoch 46: train=1.2829, val=1.17867, took 39.071 s\n"
     ]
    },
    {
     "data": {
      "application/vnd.jupyter.widget-view+json": {
       "model_id": "",
       "version_major": 2,
       "version_minor": 0
      },
      "text/plain": [
       "HBox(children=(FloatProgress(value=0.0, description='Training', layout=Layout(flex='2'), max=1125.0, style=Pro…"
      ]
     },
     "metadata": {},
     "output_type": "display_data"
    },
    {
     "name": "stdout",
     "output_type": "stream",
     "text": [
      "Epoch 47: train=1.27531, val=1.15674, took 39.42 s\n"
     ]
    },
    {
     "data": {
      "application/vnd.jupyter.widget-view+json": {
       "model_id": "",
       "version_major": 2,
       "version_minor": 0
      },
      "text/plain": [
       "HBox(children=(FloatProgress(value=0.0, description='Training', layout=Layout(flex='2'), max=1125.0, style=Pro…"
      ]
     },
     "metadata": {},
     "output_type": "display_data"
    },
    {
     "name": "stdout",
     "output_type": "stream",
     "text": [
      "Epoch 48: train=1.27548, val=1.19862, took 38.519 s\n"
     ]
    },
    {
     "data": {
      "application/vnd.jupyter.widget-view+json": {
       "model_id": "",
       "version_major": 2,
       "version_minor": 0
      },
      "text/plain": [
       "HBox(children=(FloatProgress(value=0.0, description='Training', layout=Layout(flex='2'), max=1125.0, style=Pro…"
      ]
     },
     "metadata": {},
     "output_type": "display_data"
    },
    {
     "name": "stdout",
     "output_type": "stream",
     "text": [
      "Epoch 49: train=1.27398, val=1.15845, took 38.357 s\n"
     ]
    },
    {
     "data": {
      "application/vnd.jupyter.widget-view+json": {
       "model_id": "",
       "version_major": 2,
       "version_minor": 0
      },
      "text/plain": [
       "HBox(children=(FloatProgress(value=0.0, description='Training', layout=Layout(flex='2'), max=1125.0, style=Pro…"
      ]
     },
     "metadata": {},
     "output_type": "display_data"
    },
    {
     "name": "stdout",
     "output_type": "stream",
     "text": [
      "Epoch 50: train=1.27867, val=1.13143, took 38.578 s\n"
     ]
    },
    {
     "data": {
      "application/vnd.jupyter.widget-view+json": {
       "model_id": "",
       "version_major": 2,
       "version_minor": 0
      },
      "text/plain": [
       "HBox(children=(FloatProgress(value=0.0, description='Training', layout=Layout(flex='2'), max=1125.0, style=Pro…"
      ]
     },
     "metadata": {},
     "output_type": "display_data"
    },
    {
     "name": "stdout",
     "output_type": "stream",
     "text": [
      "Epoch 51: train=1.27549, val=1.15228, took 38.864 s\n"
     ]
    },
    {
     "data": {
      "application/vnd.jupyter.widget-view+json": {
       "model_id": "",
       "version_major": 2,
       "version_minor": 0
      },
      "text/plain": [
       "HBox(children=(FloatProgress(value=0.0, description='Training', layout=Layout(flex='2'), max=1125.0, style=Pro…"
      ]
     },
     "metadata": {},
     "output_type": "display_data"
    },
    {
     "name": "stdout",
     "output_type": "stream",
     "text": [
      "Epoch 52: train=1.2813, val=1.14679, took 38.432 s\n"
     ]
    },
    {
     "data": {
      "application/vnd.jupyter.widget-view+json": {
       "model_id": "",
       "version_major": 2,
       "version_minor": 0
      },
      "text/plain": [
       "HBox(children=(FloatProgress(value=0.0, description='Training', layout=Layout(flex='2'), max=1125.0, style=Pro…"
      ]
     },
     "metadata": {},
     "output_type": "display_data"
    },
    {
     "name": "stdout",
     "output_type": "stream",
     "text": [
      "Epoch 53: train=1.27321, val=1.15265, took 38.441 s\n"
     ]
    },
    {
     "data": {
      "application/vnd.jupyter.widget-view+json": {
       "model_id": "",
       "version_major": 2,
       "version_minor": 0
      },
      "text/plain": [
       "HBox(children=(FloatProgress(value=0.0, description='Training', layout=Layout(flex='2'), max=1125.0, style=Pro…"
      ]
     },
     "metadata": {},
     "output_type": "display_data"
    },
    {
     "name": "stdout",
     "output_type": "stream",
     "text": [
      "Epoch 54: train=1.27005, val=1.15554, took 38.183 s\n"
     ]
    },
    {
     "data": {
      "application/vnd.jupyter.widget-view+json": {
       "model_id": "",
       "version_major": 2,
       "version_minor": 0
      },
      "text/plain": [
       "HBox(children=(FloatProgress(value=0.0, description='Training', layout=Layout(flex='2'), max=1125.0, style=Pro…"
      ]
     },
     "metadata": {},
     "output_type": "display_data"
    },
    {
     "name": "stdout",
     "output_type": "stream",
     "text": [
      "Epoch 55: train=1.28474, val=1.12951, took 38.757 s\n"
     ]
    },
    {
     "data": {
      "application/vnd.jupyter.widget-view+json": {
       "model_id": "",
       "version_major": 2,
       "version_minor": 0
      },
      "text/plain": [
       "HBox(children=(FloatProgress(value=0.0, description='Training', layout=Layout(flex='2'), max=1125.0, style=Pro…"
      ]
     },
     "metadata": {},
     "output_type": "display_data"
    },
    {
     "name": "stdout",
     "output_type": "stream",
     "text": [
      "Epoch 56: train=1.27124, val=1.13054, took 38.328 s\n"
     ]
    },
    {
     "data": {
      "application/vnd.jupyter.widget-view+json": {
       "model_id": "",
       "version_major": 2,
       "version_minor": 0
      },
      "text/plain": [
       "HBox(children=(FloatProgress(value=0.0, description='Training', layout=Layout(flex='2'), max=1125.0, style=Pro…"
      ]
     },
     "metadata": {},
     "output_type": "display_data"
    },
    {
     "name": "stdout",
     "output_type": "stream",
     "text": [
      "Epoch 57: train=1.27483, val=1.12362, took 38.535 s\n"
     ]
    },
    {
     "data": {
      "application/vnd.jupyter.widget-view+json": {
       "model_id": "",
       "version_major": 2,
       "version_minor": 0
      },
      "text/plain": [
       "HBox(children=(FloatProgress(value=0.0, description='Training', layout=Layout(flex='2'), max=1125.0, style=Pro…"
      ]
     },
     "metadata": {},
     "output_type": "display_data"
    },
    {
     "name": "stdout",
     "output_type": "stream",
     "text": [
      "Epoch 58: train=1.27622, val=1.17077, took 38.53 s\n"
     ]
    },
    {
     "data": {
      "application/vnd.jupyter.widget-view+json": {
       "model_id": "",
       "version_major": 2,
       "version_minor": 0
      },
      "text/plain": [
       "HBox(children=(FloatProgress(value=0.0, description='Training', layout=Layout(flex='2'), max=1125.0, style=Pro…"
      ]
     },
     "metadata": {},
     "output_type": "display_data"
    },
    {
     "name": "stdout",
     "output_type": "stream",
     "text": [
      "Epoch 59: train=1.26953, val=1.15943, took 38.707 s\n"
     ]
    },
    {
     "data": {
      "application/vnd.jupyter.widget-view+json": {
       "model_id": "",
       "version_major": 2,
       "version_minor": 0
      },
      "text/plain": [
       "HBox(children=(FloatProgress(value=0.0, description='Training', layout=Layout(flex='2'), max=1125.0, style=Pro…"
      ]
     },
     "metadata": {},
     "output_type": "display_data"
    },
    {
     "name": "stdout",
     "output_type": "stream",
     "text": [
      "Epoch 60: train=1.27966, val=1.18677, took 38.278 s\n"
     ]
    },
    {
     "data": {
      "application/vnd.jupyter.widget-view+json": {
       "model_id": "",
       "version_major": 2,
       "version_minor": 0
      },
      "text/plain": [
       "HBox(children=(FloatProgress(value=0.0, description='Training', layout=Layout(flex='2'), max=1125.0, style=Pro…"
      ]
     },
     "metadata": {},
     "output_type": "display_data"
    },
    {
     "name": "stdout",
     "output_type": "stream",
     "text": [
      "Epoch 61: train=1.27738, val=1.12634, took 41.398 s\n"
     ]
    },
    {
     "data": {
      "application/vnd.jupyter.widget-view+json": {
       "model_id": "",
       "version_major": 2,
       "version_minor": 0
      },
      "text/plain": [
       "HBox(children=(FloatProgress(value=0.0, description='Training', layout=Layout(flex='2'), max=1125.0, style=Pro…"
      ]
     },
     "metadata": {},
     "output_type": "display_data"
    },
    {
     "name": "stdout",
     "output_type": "stream",
     "text": [
      "Epoch 62: train=1.27733, val=1.13649, took 38.436 s\n"
     ]
    },
    {
     "data": {
      "application/vnd.jupyter.widget-view+json": {
       "model_id": "",
       "version_major": 2,
       "version_minor": 0
      },
      "text/plain": [
       "HBox(children=(FloatProgress(value=0.0, description='Training', layout=Layout(flex='2'), max=1125.0, style=Pro…"
      ]
     },
     "metadata": {},
     "output_type": "display_data"
    },
    {
     "name": "stdout",
     "output_type": "stream",
     "text": [
      "Epoch 63: train=1.26821, val=1.14448, took 38.555 s\n"
     ]
    },
    {
     "data": {
      "application/vnd.jupyter.widget-view+json": {
       "model_id": "",
       "version_major": 2,
       "version_minor": 0
      },
      "text/plain": [
       "HBox(children=(FloatProgress(value=0.0, description='Training', layout=Layout(flex='2'), max=1125.0, style=Pro…"
      ]
     },
     "metadata": {},
     "output_type": "display_data"
    },
    {
     "name": "stdout",
     "output_type": "stream",
     "text": [
      "Epoch 64: train=1.27552, val=1.12205, took 38.669 s\n"
     ]
    },
    {
     "data": {
      "application/vnd.jupyter.widget-view+json": {
       "model_id": "",
       "version_major": 2,
       "version_minor": 0
      },
      "text/plain": [
       "HBox(children=(FloatProgress(value=0.0, description='Training', layout=Layout(flex='2'), max=1125.0, style=Pro…"
      ]
     },
     "metadata": {},
     "output_type": "display_data"
    },
    {
     "name": "stdout",
     "output_type": "stream",
     "text": [
      "Epoch 65: train=1.27417, val=1.26243, took 38.637 s\n"
     ]
    },
    {
     "data": {
      "application/vnd.jupyter.widget-view+json": {
       "model_id": "",
       "version_major": 2,
       "version_minor": 0
      },
      "text/plain": [
       "HBox(children=(FloatProgress(value=0.0, description='Training', layout=Layout(flex='2'), max=1125.0, style=Pro…"
      ]
     },
     "metadata": {},
     "output_type": "display_data"
    },
    {
     "name": "stdout",
     "output_type": "stream",
     "text": [
      "Epoch 66: train=1.26785, val=1.14219, took 38.404 s\n"
     ]
    },
    {
     "data": {
      "application/vnd.jupyter.widget-view+json": {
       "model_id": "",
       "version_major": 2,
       "version_minor": 0
      },
      "text/plain": [
       "HBox(children=(FloatProgress(value=0.0, description='Training', layout=Layout(flex='2'), max=1125.0, style=Pro…"
      ]
     },
     "metadata": {},
     "output_type": "display_data"
    },
    {
     "name": "stdout",
     "output_type": "stream",
     "text": [
      "Epoch 67: train=1.27092, val=1.20509, took 38.285 s\n"
     ]
    },
    {
     "data": {
      "application/vnd.jupyter.widget-view+json": {
       "model_id": "",
       "version_major": 2,
       "version_minor": 0
      },
      "text/plain": [
       "HBox(children=(FloatProgress(value=0.0, description='Training', layout=Layout(flex='2'), max=1125.0, style=Pro…"
      ]
     },
     "metadata": {},
     "output_type": "display_data"
    },
    {
     "name": "stdout",
     "output_type": "stream",
     "text": [
      "Epoch 68: train=1.27791, val=1.14529, took 38.023 s\n"
     ]
    },
    {
     "data": {
      "application/vnd.jupyter.widget-view+json": {
       "model_id": "",
       "version_major": 2,
       "version_minor": 0
      },
      "text/plain": [
       "HBox(children=(FloatProgress(value=0.0, description='Training', layout=Layout(flex='2'), max=1125.0, style=Pro…"
      ]
     },
     "metadata": {},
     "output_type": "display_data"
    },
    {
     "name": "stdout",
     "output_type": "stream",
     "text": [
      "Epoch 69: train=1.26857, val=1.13701, took 38.458 s\n"
     ]
    },
    {
     "data": {
      "application/vnd.jupyter.widget-view+json": {
       "model_id": "",
       "version_major": 2,
       "version_minor": 0
      },
      "text/plain": [
       "HBox(children=(FloatProgress(value=0.0, description='Training', layout=Layout(flex='2'), max=1125.0, style=Pro…"
      ]
     },
     "metadata": {},
     "output_type": "display_data"
    },
    {
     "name": "stdout",
     "output_type": "stream",
     "text": [
      "Epoch 70: train=1.28118, val=1.11906, took 38.031 s\n"
     ]
    },
    {
     "data": {
      "application/vnd.jupyter.widget-view+json": {
       "model_id": "",
       "version_major": 2,
       "version_minor": 0
      },
      "text/plain": [
       "HBox(children=(FloatProgress(value=0.0, description='Training', layout=Layout(flex='2'), max=1125.0, style=Pro…"
      ]
     },
     "metadata": {},
     "output_type": "display_data"
    },
    {
     "name": "stdout",
     "output_type": "stream",
     "text": [
      "Epoch 71: train=1.26649, val=1.14553, took 38.118 s\n"
     ]
    },
    {
     "data": {
      "application/vnd.jupyter.widget-view+json": {
       "model_id": "",
       "version_major": 2,
       "version_minor": 0
      },
      "text/plain": [
       "HBox(children=(FloatProgress(value=0.0, description='Training', layout=Layout(flex='2'), max=1125.0, style=Pro…"
      ]
     },
     "metadata": {},
     "output_type": "display_data"
    },
    {
     "name": "stdout",
     "output_type": "stream",
     "text": [
      "Epoch 72: train=1.26928, val=1.22331, took 38.008 s\n"
     ]
    },
    {
     "data": {
      "application/vnd.jupyter.widget-view+json": {
       "model_id": "",
       "version_major": 2,
       "version_minor": 0
      },
      "text/plain": [
       "HBox(children=(FloatProgress(value=0.0, description='Training', layout=Layout(flex='2'), max=1125.0, style=Pro…"
      ]
     },
     "metadata": {},
     "output_type": "display_data"
    },
    {
     "name": "stdout",
     "output_type": "stream",
     "text": [
      "Epoch 73: train=1.268, val=1.13109, took 38.152 s\n"
     ]
    },
    {
     "data": {
      "application/vnd.jupyter.widget-view+json": {
       "model_id": "",
       "version_major": 2,
       "version_minor": 0
      },
      "text/plain": [
       "HBox(children=(FloatProgress(value=0.0, description='Training', layout=Layout(flex='2'), max=1125.0, style=Pro…"
      ]
     },
     "metadata": {},
     "output_type": "display_data"
    },
    {
     "name": "stdout",
     "output_type": "stream",
     "text": [
      "Epoch 74: train=1.27153, val=1.24318, took 37.971 s\n"
     ]
    },
    {
     "data": {
      "application/vnd.jupyter.widget-view+json": {
       "model_id": "",
       "version_major": 2,
       "version_minor": 0
      },
      "text/plain": [
       "HBox(children=(FloatProgress(value=0.0, description='Training', layout=Layout(flex='2'), max=1125.0, style=Pro…"
      ]
     },
     "metadata": {},
     "output_type": "display_data"
    },
    {
     "name": "stdout",
     "output_type": "stream",
     "text": [
      "Epoch 75: train=1.2693, val=1.12323, took 38.382 s\n"
     ]
    },
    {
     "data": {
      "application/vnd.jupyter.widget-view+json": {
       "model_id": "",
       "version_major": 2,
       "version_minor": 0
      },
      "text/plain": [
       "HBox(children=(FloatProgress(value=0.0, description='Training', layout=Layout(flex='2'), max=1125.0, style=Pro…"
      ]
     },
     "metadata": {},
     "output_type": "display_data"
    },
    {
     "name": "stdout",
     "output_type": "stream",
     "text": [
      "Epoch 76: train=1.27364, val=1.13968, took 38.415 s\n"
     ]
    },
    {
     "data": {
      "application/vnd.jupyter.widget-view+json": {
       "model_id": "",
       "version_major": 2,
       "version_minor": 0
      },
      "text/plain": [
       "HBox(children=(FloatProgress(value=0.0, description='Training', layout=Layout(flex='2'), max=1125.0, style=Pro…"
      ]
     },
     "metadata": {},
     "output_type": "display_data"
    },
    {
     "name": "stdout",
     "output_type": "stream",
     "text": [
      "Epoch 77: train=1.26484, val=1.1414, took 38.414 s\n"
     ]
    },
    {
     "data": {
      "application/vnd.jupyter.widget-view+json": {
       "model_id": "",
       "version_major": 2,
       "version_minor": 0
      },
      "text/plain": [
       "HBox(children=(FloatProgress(value=0.0, description='Training', layout=Layout(flex='2'), max=1125.0, style=Pro…"
      ]
     },
     "metadata": {},
     "output_type": "display_data"
    },
    {
     "name": "stdout",
     "output_type": "stream",
     "text": [
      "Epoch 78: train=1.27174, val=1.12348, took 38.013 s\n"
     ]
    },
    {
     "data": {
      "application/vnd.jupyter.widget-view+json": {
       "model_id": "",
       "version_major": 2,
       "version_minor": 0
      },
      "text/plain": [
       "HBox(children=(FloatProgress(value=0.0, description='Training', layout=Layout(flex='2'), max=1125.0, style=Pro…"
      ]
     },
     "metadata": {},
     "output_type": "display_data"
    },
    {
     "name": "stdout",
     "output_type": "stream",
     "text": [
      "Epoch 79: train=1.27284, val=1.16717, took 37.971 s\n"
     ]
    },
    {
     "data": {
      "application/vnd.jupyter.widget-view+json": {
       "model_id": "",
       "version_major": 2,
       "version_minor": 0
      },
      "text/plain": [
       "HBox(children=(FloatProgress(value=0.0, description='Training', layout=Layout(flex='2'), max=1125.0, style=Pro…"
      ]
     },
     "metadata": {},
     "output_type": "display_data"
    },
    {
     "name": "stdout",
     "output_type": "stream",
     "text": [
      "Epoch 80: train=1.269, val=1.12169, took 38.173 s\n"
     ]
    },
    {
     "data": {
      "application/vnd.jupyter.widget-view+json": {
       "model_id": "",
       "version_major": 2,
       "version_minor": 0
      },
      "text/plain": [
       "HBox(children=(FloatProgress(value=0.0, description='Training', layout=Layout(flex='2'), max=1125.0, style=Pro…"
      ]
     },
     "metadata": {},
     "output_type": "display_data"
    },
    {
     "name": "stdout",
     "output_type": "stream",
     "text": [
      "Epoch 81: train=1.26773, val=1.14562, took 37.951 s\n"
     ]
    },
    {
     "data": {
      "application/vnd.jupyter.widget-view+json": {
       "model_id": "",
       "version_major": 2,
       "version_minor": 0
      },
      "text/plain": [
       "HBox(children=(FloatProgress(value=0.0, description='Training', layout=Layout(flex='2'), max=1125.0, style=Pro…"
      ]
     },
     "metadata": {},
     "output_type": "display_data"
    },
    {
     "name": "stdout",
     "output_type": "stream",
     "text": [
      "Epoch 82: train=1.26692, val=1.21041, took 38.128 s\n"
     ]
    },
    {
     "data": {
      "application/vnd.jupyter.widget-view+json": {
       "model_id": "",
       "version_major": 2,
       "version_minor": 0
      },
      "text/plain": [
       "HBox(children=(FloatProgress(value=0.0, description='Training', layout=Layout(flex='2'), max=1125.0, style=Pro…"
      ]
     },
     "metadata": {},
     "output_type": "display_data"
    },
    {
     "name": "stdout",
     "output_type": "stream",
     "text": [
      "Epoch 83: train=1.26512, val=1.13499, took 38.04 s\n"
     ]
    },
    {
     "data": {
      "application/vnd.jupyter.widget-view+json": {
       "model_id": "",
       "version_major": 2,
       "version_minor": 0
      },
      "text/plain": [
       "HBox(children=(FloatProgress(value=0.0, description='Training', layout=Layout(flex='2'), max=1125.0, style=Pro…"
      ]
     },
     "metadata": {},
     "output_type": "display_data"
    },
    {
     "name": "stdout",
     "output_type": "stream",
     "text": [
      "Epoch 84: train=1.27074, val=1.12478, took 38.078 s\n"
     ]
    },
    {
     "data": {
      "application/vnd.jupyter.widget-view+json": {
       "model_id": "",
       "version_major": 2,
       "version_minor": 0
      },
      "text/plain": [
       "HBox(children=(FloatProgress(value=0.0, description='Training', layout=Layout(flex='2'), max=1125.0, style=Pro…"
      ]
     },
     "metadata": {},
     "output_type": "display_data"
    },
    {
     "name": "stdout",
     "output_type": "stream",
     "text": [
      "Epoch 85: train=1.27357, val=1.12821, took 37.882 s\n"
     ]
    },
    {
     "data": {
      "application/vnd.jupyter.widget-view+json": {
       "model_id": "",
       "version_major": 2,
       "version_minor": 0
      },
      "text/plain": [
       "HBox(children=(FloatProgress(value=0.0, description='Training', layout=Layout(flex='2'), max=1125.0, style=Pro…"
      ]
     },
     "metadata": {},
     "output_type": "display_data"
    },
    {
     "name": "stdout",
     "output_type": "stream",
     "text": [
      "Epoch 86: train=1.26883, val=1.14672, took 38.564 s\n"
     ]
    },
    {
     "data": {
      "application/vnd.jupyter.widget-view+json": {
       "model_id": "",
       "version_major": 2,
       "version_minor": 0
      },
      "text/plain": [
       "HBox(children=(FloatProgress(value=0.0, description='Training', layout=Layout(flex='2'), max=1125.0, style=Pro…"
      ]
     },
     "metadata": {},
     "output_type": "display_data"
    },
    {
     "name": "stdout",
     "output_type": "stream",
     "text": [
      "Epoch 87: train=1.26279, val=1.11638, took 39.278 s\n"
     ]
    },
    {
     "data": {
      "application/vnd.jupyter.widget-view+json": {
       "model_id": "",
       "version_major": 2,
       "version_minor": 0
      },
      "text/plain": [
       "HBox(children=(FloatProgress(value=0.0, description='Training', layout=Layout(flex='2'), max=1125.0, style=Pro…"
      ]
     },
     "metadata": {},
     "output_type": "display_data"
    },
    {
     "name": "stdout",
     "output_type": "stream",
     "text": [
      "Epoch 88: train=1.26307, val=1.15534, took 38.452 s\n"
     ]
    },
    {
     "data": {
      "application/vnd.jupyter.widget-view+json": {
       "model_id": "",
       "version_major": 2,
       "version_minor": 0
      },
      "text/plain": [
       "HBox(children=(FloatProgress(value=0.0, description='Training', layout=Layout(flex='2'), max=1125.0, style=Pro…"
      ]
     },
     "metadata": {},
     "output_type": "display_data"
    },
    {
     "name": "stdout",
     "output_type": "stream",
     "text": [
      "Epoch 89: train=1.26864, val=1.1156, took 38.723 s\n"
     ]
    },
    {
     "data": {
      "application/vnd.jupyter.widget-view+json": {
       "model_id": "",
       "version_major": 2,
       "version_minor": 0
      },
      "text/plain": [
       "HBox(children=(FloatProgress(value=0.0, description='Training', layout=Layout(flex='2'), max=1125.0, style=Pro…"
      ]
     },
     "metadata": {},
     "output_type": "display_data"
    },
    {
     "name": "stdout",
     "output_type": "stream",
     "text": [
      "Epoch 90: train=1.26541, val=1.2268, took 38.615 s\n"
     ]
    },
    {
     "data": {
      "application/vnd.jupyter.widget-view+json": {
       "model_id": "",
       "version_major": 2,
       "version_minor": 0
      },
      "text/plain": [
       "HBox(children=(FloatProgress(value=0.0, description='Training', layout=Layout(flex='2'), max=1125.0, style=Pro…"
      ]
     },
     "metadata": {},
     "output_type": "display_data"
    },
    {
     "name": "stdout",
     "output_type": "stream",
     "text": [
      "Epoch 91: train=1.26391, val=1.19514, took 38.186 s\n"
     ]
    },
    {
     "data": {
      "application/vnd.jupyter.widget-view+json": {
       "model_id": "",
       "version_major": 2,
       "version_minor": 0
      },
      "text/plain": [
       "HBox(children=(FloatProgress(value=0.0, description='Training', layout=Layout(flex='2'), max=1125.0, style=Pro…"
      ]
     },
     "metadata": {},
     "output_type": "display_data"
    },
    {
     "name": "stdout",
     "output_type": "stream",
     "text": [
      "Epoch 92: train=1.27162, val=1.17493, took 38.509 s\n"
     ]
    },
    {
     "data": {
      "application/vnd.jupyter.widget-view+json": {
       "model_id": "",
       "version_major": 2,
       "version_minor": 0
      },
      "text/plain": [
       "HBox(children=(FloatProgress(value=0.0, description='Training', layout=Layout(flex='2'), max=1125.0, style=Pro…"
      ]
     },
     "metadata": {},
     "output_type": "display_data"
    },
    {
     "name": "stdout",
     "output_type": "stream",
     "text": [
      "Epoch 93: train=1.26229, val=1.15268, took 38.489 s\n"
     ]
    },
    {
     "data": {
      "application/vnd.jupyter.widget-view+json": {
       "model_id": "",
       "version_major": 2,
       "version_minor": 0
      },
      "text/plain": [
       "HBox(children=(FloatProgress(value=0.0, description='Training', layout=Layout(flex='2'), max=1125.0, style=Pro…"
      ]
     },
     "metadata": {},
     "output_type": "display_data"
    },
    {
     "name": "stdout",
     "output_type": "stream",
     "text": [
      "Epoch 94: train=1.26423, val=1.13285, took 38.409 s\n"
     ]
    },
    {
     "data": {
      "application/vnd.jupyter.widget-view+json": {
       "model_id": "",
       "version_major": 2,
       "version_minor": 0
      },
      "text/plain": [
       "HBox(children=(FloatProgress(value=0.0, description='Training', layout=Layout(flex='2'), max=1125.0, style=Pro…"
      ]
     },
     "metadata": {},
     "output_type": "display_data"
    },
    {
     "name": "stdout",
     "output_type": "stream",
     "text": [
      "Epoch 95: train=1.27087, val=1.13433, took 38.85 s\n"
     ]
    },
    {
     "data": {
      "application/vnd.jupyter.widget-view+json": {
       "model_id": "",
       "version_major": 2,
       "version_minor": 0
      },
      "text/plain": [
       "HBox(children=(FloatProgress(value=0.0, description='Training', layout=Layout(flex='2'), max=1125.0, style=Pro…"
      ]
     },
     "metadata": {},
     "output_type": "display_data"
    },
    {
     "name": "stdout",
     "output_type": "stream",
     "text": [
      "Epoch 96: train=1.25741, val=1.1559, took 38.119 s\n"
     ]
    },
    {
     "data": {
      "application/vnd.jupyter.widget-view+json": {
       "model_id": "",
       "version_major": 2,
       "version_minor": 0
      },
      "text/plain": [
       "HBox(children=(FloatProgress(value=0.0, description='Training', layout=Layout(flex='2'), max=1125.0, style=Pro…"
      ]
     },
     "metadata": {},
     "output_type": "display_data"
    },
    {
     "name": "stdout",
     "output_type": "stream",
     "text": [
      "Epoch 97: train=1.26142, val=1.12938, took 38.364 s\n"
     ]
    },
    {
     "data": {
      "application/vnd.jupyter.widget-view+json": {
       "model_id": "",
       "version_major": 2,
       "version_minor": 0
      },
      "text/plain": [
       "HBox(children=(FloatProgress(value=0.0, description='Training', layout=Layout(flex='2'), max=1125.0, style=Pro…"
      ]
     },
     "metadata": {},
     "output_type": "display_data"
    },
    {
     "name": "stdout",
     "output_type": "stream",
     "text": [
      "Epoch 98: train=1.2687, val=1.11629, took 38.547 s\n"
     ]
    },
    {
     "data": {
      "application/vnd.jupyter.widget-view+json": {
       "model_id": "",
       "version_major": 2,
       "version_minor": 0
      },
      "text/plain": [
       "HBox(children=(FloatProgress(value=0.0, description='Training', layout=Layout(flex='2'), max=1125.0, style=Pro…"
      ]
     },
     "metadata": {},
     "output_type": "display_data"
    },
    {
     "name": "stdout",
     "output_type": "stream",
     "text": [
      "Epoch 99: train=1.26412, val=1.17539, took 38.906 s\n"
     ]
    },
    {
     "data": {
      "application/vnd.jupyter.widget-view+json": {
       "model_id": "",
       "version_major": 2,
       "version_minor": 0
      },
      "text/plain": [
       "HBox(children=(FloatProgress(value=0.0, description='Training', layout=Layout(flex='2'), max=1125.0, style=Pro…"
      ]
     },
     "metadata": {},
     "output_type": "display_data"
    },
    {
     "name": "stdout",
     "output_type": "stream",
     "text": [
      "Epoch 100: train=1.27618, val=1.19152, took 39.191 s\n"
     ]
    },
    {
     "data": {
      "application/vnd.jupyter.widget-view+json": {
       "model_id": "",
       "version_major": 2,
       "version_minor": 0
      },
      "text/plain": [
       "HBox(children=(FloatProgress(value=0.0, description='Training', layout=Layout(flex='2'), max=1125.0, style=Pro…"
      ]
     },
     "metadata": {},
     "output_type": "display_data"
    },
    {
     "name": "stdout",
     "output_type": "stream",
     "text": [
      "Epoch 101: train=1.2631, val=1.13512, took 39.497 s\n"
     ]
    },
    {
     "data": {
      "application/vnd.jupyter.widget-view+json": {
       "model_id": "",
       "version_major": 2,
       "version_minor": 0
      },
      "text/plain": [
       "HBox(children=(FloatProgress(value=0.0, description='Training', layout=Layout(flex='2'), max=1125.0, style=Pro…"
      ]
     },
     "metadata": {},
     "output_type": "display_data"
    },
    {
     "name": "stdout",
     "output_type": "stream",
     "text": [
      "Epoch 102: train=1.26531, val=1.11754, took 39.499 s\n"
     ]
    },
    {
     "data": {
      "application/vnd.jupyter.widget-view+json": {
       "model_id": "",
       "version_major": 2,
       "version_minor": 0
      },
      "text/plain": [
       "HBox(children=(FloatProgress(value=0.0, description='Training', layout=Layout(flex='2'), max=1125.0, style=Pro…"
      ]
     },
     "metadata": {},
     "output_type": "display_data"
    },
    {
     "name": "stdout",
     "output_type": "stream",
     "text": [
      "Epoch 103: train=1.27268, val=1.13414, took 38.068 s\n"
     ]
    },
    {
     "data": {
      "application/vnd.jupyter.widget-view+json": {
       "model_id": "",
       "version_major": 2,
       "version_minor": 0
      },
      "text/plain": [
       "HBox(children=(FloatProgress(value=0.0, description='Training', layout=Layout(flex='2'), max=1125.0, style=Pro…"
      ]
     },
     "metadata": {},
     "output_type": "display_data"
    },
    {
     "name": "stdout",
     "output_type": "stream",
     "text": [
      "Epoch 104: train=1.26936, val=1.11796, took 38.14 s\n"
     ]
    },
    {
     "data": {
      "application/vnd.jupyter.widget-view+json": {
       "model_id": "",
       "version_major": 2,
       "version_minor": 0
      },
      "text/plain": [
       "HBox(children=(FloatProgress(value=0.0, description='Training', layout=Layout(flex='2'), max=1125.0, style=Pro…"
      ]
     },
     "metadata": {},
     "output_type": "display_data"
    },
    {
     "name": "stdout",
     "output_type": "stream",
     "text": [
      "Epoch 105: train=1.25498, val=1.1325, took 38.349 s\n"
     ]
    },
    {
     "data": {
      "application/vnd.jupyter.widget-view+json": {
       "model_id": "",
       "version_major": 2,
       "version_minor": 0
      },
      "text/plain": [
       "HBox(children=(FloatProgress(value=0.0, description='Training', layout=Layout(flex='2'), max=1125.0, style=Pro…"
      ]
     },
     "metadata": {},
     "output_type": "display_data"
    },
    {
     "name": "stdout",
     "output_type": "stream",
     "text": [
      "Epoch 106: train=1.26246, val=1.12109, took 38.647 s\n"
     ]
    },
    {
     "data": {
      "application/vnd.jupyter.widget-view+json": {
       "model_id": "",
       "version_major": 2,
       "version_minor": 0
      },
      "text/plain": [
       "HBox(children=(FloatProgress(value=0.0, description='Training', layout=Layout(flex='2'), max=1125.0, style=Pro…"
      ]
     },
     "metadata": {},
     "output_type": "display_data"
    },
    {
     "name": "stdout",
     "output_type": "stream",
     "text": [
      "Epoch 107: train=1.25461, val=1.14674, took 39.144 s\n"
     ]
    },
    {
     "data": {
      "application/vnd.jupyter.widget-view+json": {
       "model_id": "",
       "version_major": 2,
       "version_minor": 0
      },
      "text/plain": [
       "HBox(children=(FloatProgress(value=0.0, description='Training', layout=Layout(flex='2'), max=1125.0, style=Pro…"
      ]
     },
     "metadata": {},
     "output_type": "display_data"
    },
    {
     "name": "stdout",
     "output_type": "stream",
     "text": [
      "Epoch 108: train=1.25641, val=1.23613, took 39.275 s\n"
     ]
    },
    {
     "data": {
      "application/vnd.jupyter.widget-view+json": {
       "model_id": "",
       "version_major": 2,
       "version_minor": 0
      },
      "text/plain": [
       "HBox(children=(FloatProgress(value=0.0, description='Training', layout=Layout(flex='2'), max=1125.0, style=Pro…"
      ]
     },
     "metadata": {},
     "output_type": "display_data"
    },
    {
     "name": "stdout",
     "output_type": "stream",
     "text": [
      "Epoch 109: train=1.25483, val=1.15479, took 38.354 s\n"
     ]
    },
    {
     "data": {
      "application/vnd.jupyter.widget-view+json": {
       "model_id": "",
       "version_major": 2,
       "version_minor": 0
      },
      "text/plain": [
       "HBox(children=(FloatProgress(value=0.0, description='Training', layout=Layout(flex='2'), max=1125.0, style=Pro…"
      ]
     },
     "metadata": {},
     "output_type": "display_data"
    },
    {
     "name": "stdout",
     "output_type": "stream",
     "text": [
      "Epoch 110: train=1.26229, val=1.10872, took 38.535 s\n"
     ]
    },
    {
     "data": {
      "application/vnd.jupyter.widget-view+json": {
       "model_id": "",
       "version_major": 2,
       "version_minor": 0
      },
      "text/plain": [
       "HBox(children=(FloatProgress(value=0.0, description='Training', layout=Layout(flex='2'), max=1125.0, style=Pro…"
      ]
     },
     "metadata": {},
     "output_type": "display_data"
    },
    {
     "name": "stdout",
     "output_type": "stream",
     "text": [
      "Epoch 111: train=1.26359, val=1.12806, took 38.821 s\n"
     ]
    },
    {
     "data": {
      "application/vnd.jupyter.widget-view+json": {
       "model_id": "",
       "version_major": 2,
       "version_minor": 0
      },
      "text/plain": [
       "HBox(children=(FloatProgress(value=0.0, description='Training', layout=Layout(flex='2'), max=1125.0, style=Pro…"
      ]
     },
     "metadata": {},
     "output_type": "display_data"
    },
    {
     "name": "stdout",
     "output_type": "stream",
     "text": [
      "Epoch 112: train=1.25147, val=1.11708, took 38.669 s\n"
     ]
    },
    {
     "data": {
      "application/vnd.jupyter.widget-view+json": {
       "model_id": "",
       "version_major": 2,
       "version_minor": 0
      },
      "text/plain": [
       "HBox(children=(FloatProgress(value=0.0, description='Training', layout=Layout(flex='2'), max=1125.0, style=Pro…"
      ]
     },
     "metadata": {},
     "output_type": "display_data"
    },
    {
     "name": "stdout",
     "output_type": "stream",
     "text": [
      "Epoch 113: train=1.26074, val=1.1136, took 38.216 s\n"
     ]
    },
    {
     "data": {
      "application/vnd.jupyter.widget-view+json": {
       "model_id": "",
       "version_major": 2,
       "version_minor": 0
      },
      "text/plain": [
       "HBox(children=(FloatProgress(value=0.0, description='Training', layout=Layout(flex='2'), max=1125.0, style=Pro…"
      ]
     },
     "metadata": {},
     "output_type": "display_data"
    },
    {
     "name": "stdout",
     "output_type": "stream",
     "text": [
      "Epoch 114: train=1.26605, val=1.12251, took 38.515 s\n"
     ]
    },
    {
     "data": {
      "application/vnd.jupyter.widget-view+json": {
       "model_id": "",
       "version_major": 2,
       "version_minor": 0
      },
      "text/plain": [
       "HBox(children=(FloatProgress(value=0.0, description='Training', layout=Layout(flex='2'), max=1125.0, style=Pro…"
      ]
     },
     "metadata": {},
     "output_type": "display_data"
    },
    {
     "name": "stdout",
     "output_type": "stream",
     "text": [
      "Epoch 115: train=1.25392, val=1.11277, took 38.205 s\n"
     ]
    },
    {
     "data": {
      "application/vnd.jupyter.widget-view+json": {
       "model_id": "",
       "version_major": 2,
       "version_minor": 0
      },
      "text/plain": [
       "HBox(children=(FloatProgress(value=0.0, description='Training', layout=Layout(flex='2'), max=1125.0, style=Pro…"
      ]
     },
     "metadata": {},
     "output_type": "display_data"
    },
    {
     "name": "stdout",
     "output_type": "stream",
     "text": [
      "Epoch 116: train=1.26312, val=1.11239, took 38.188 s\n"
     ]
    },
    {
     "data": {
      "application/vnd.jupyter.widget-view+json": {
       "model_id": "",
       "version_major": 2,
       "version_minor": 0
      },
      "text/plain": [
       "HBox(children=(FloatProgress(value=0.0, description='Training', layout=Layout(flex='2'), max=1125.0, style=Pro…"
      ]
     },
     "metadata": {},
     "output_type": "display_data"
    },
    {
     "name": "stdout",
     "output_type": "stream",
     "text": [
      "Epoch 117: train=1.26247, val=1.11396, took 38.207 s\n"
     ]
    },
    {
     "data": {
      "application/vnd.jupyter.widget-view+json": {
       "model_id": "",
       "version_major": 2,
       "version_minor": 0
      },
      "text/plain": [
       "HBox(children=(FloatProgress(value=0.0, description='Training', layout=Layout(flex='2'), max=1125.0, style=Pro…"
      ]
     },
     "metadata": {},
     "output_type": "display_data"
    },
    {
     "name": "stdout",
     "output_type": "stream",
     "text": [
      "Epoch 118: train=1.25469, val=1.11041, took 38.341 s\n"
     ]
    },
    {
     "data": {
      "application/vnd.jupyter.widget-view+json": {
       "model_id": "",
       "version_major": 2,
       "version_minor": 0
      },
      "text/plain": [
       "HBox(children=(FloatProgress(value=0.0, description='Training', layout=Layout(flex='2'), max=1125.0, style=Pro…"
      ]
     },
     "metadata": {},
     "output_type": "display_data"
    },
    {
     "name": "stdout",
     "output_type": "stream",
     "text": [
      "Epoch 119: train=1.25786, val=1.17719, took 38.345 s\n"
     ]
    },
    {
     "data": {
      "application/vnd.jupyter.widget-view+json": {
       "model_id": "",
       "version_major": 2,
       "version_minor": 0
      },
      "text/plain": [
       "HBox(children=(FloatProgress(value=0.0, description='Training', layout=Layout(flex='2'), max=1125.0, style=Pro…"
      ]
     },
     "metadata": {},
     "output_type": "display_data"
    },
    {
     "name": "stdout",
     "output_type": "stream",
     "text": [
      "Epoch 120: train=1.25631, val=1.15422, took 38.145 s\n"
     ]
    },
    {
     "data": {
      "application/vnd.jupyter.widget-view+json": {
       "model_id": "",
       "version_major": 2,
       "version_minor": 0
      },
      "text/plain": [
       "HBox(children=(FloatProgress(value=0.0, description='Training', layout=Layout(flex='2'), max=1125.0, style=Pro…"
      ]
     },
     "metadata": {},
     "output_type": "display_data"
    },
    {
     "name": "stdout",
     "output_type": "stream",
     "text": [
      "Epoch 121: train=1.26161, val=1.12434, took 38.254 s\n"
     ]
    },
    {
     "data": {
      "application/vnd.jupyter.widget-view+json": {
       "model_id": "",
       "version_major": 2,
       "version_minor": 0
      },
      "text/plain": [
       "HBox(children=(FloatProgress(value=0.0, description='Training', layout=Layout(flex='2'), max=1125.0, style=Pro…"
      ]
     },
     "metadata": {},
     "output_type": "display_data"
    },
    {
     "name": "stdout",
     "output_type": "stream",
     "text": [
      "Epoch 122: train=1.25087, val=1.11342, took 38.98 s\n"
     ]
    },
    {
     "data": {
      "application/vnd.jupyter.widget-view+json": {
       "model_id": "",
       "version_major": 2,
       "version_minor": 0
      },
      "text/plain": [
       "HBox(children=(FloatProgress(value=0.0, description='Training', layout=Layout(flex='2'), max=1125.0, style=Pro…"
      ]
     },
     "metadata": {},
     "output_type": "display_data"
    },
    {
     "name": "stdout",
     "output_type": "stream",
     "text": [
      "Epoch 123: train=1.25087, val=1.1152, took 40.172 s\n"
     ]
    },
    {
     "data": {
      "application/vnd.jupyter.widget-view+json": {
       "model_id": "",
       "version_major": 2,
       "version_minor": 0
      },
      "text/plain": [
       "HBox(children=(FloatProgress(value=0.0, description='Training', layout=Layout(flex='2'), max=1125.0, style=Pro…"
      ]
     },
     "metadata": {},
     "output_type": "display_data"
    },
    {
     "name": "stdout",
     "output_type": "stream",
     "text": [
      "Epoch 124: train=1.25371, val=1.11264, took 38.352 s\n"
     ]
    },
    {
     "data": {
      "application/vnd.jupyter.widget-view+json": {
       "model_id": "",
       "version_major": 2,
       "version_minor": 0
      },
      "text/plain": [
       "HBox(children=(FloatProgress(value=0.0, description='Training', layout=Layout(flex='2'), max=1125.0, style=Pro…"
      ]
     },
     "metadata": {},
     "output_type": "display_data"
    },
    {
     "name": "stdout",
     "output_type": "stream",
     "text": [
      "Epoch 125: train=1.2529, val=1.1149, took 38.2 s\n"
     ]
    },
    {
     "data": {
      "application/vnd.jupyter.widget-view+json": {
       "model_id": "",
       "version_major": 2,
       "version_minor": 0
      },
      "text/plain": [
       "HBox(children=(FloatProgress(value=0.0, description='Training', layout=Layout(flex='2'), max=1125.0, style=Pro…"
      ]
     },
     "metadata": {},
     "output_type": "display_data"
    },
    {
     "name": "stdout",
     "output_type": "stream",
     "text": [
      "Epoch 126: train=1.26118, val=1.12727, took 38.283 s\n"
     ]
    },
    {
     "data": {
      "application/vnd.jupyter.widget-view+json": {
       "model_id": "",
       "version_major": 2,
       "version_minor": 0
      },
      "text/plain": [
       "HBox(children=(FloatProgress(value=0.0, description='Training', layout=Layout(flex='2'), max=1125.0, style=Pro…"
      ]
     },
     "metadata": {},
     "output_type": "display_data"
    },
    {
     "name": "stdout",
     "output_type": "stream",
     "text": [
      "Epoch 127: train=1.25253, val=1.11311, took 38.331 s\n"
     ]
    },
    {
     "data": {
      "application/vnd.jupyter.widget-view+json": {
       "model_id": "",
       "version_major": 2,
       "version_minor": 0
      },
      "text/plain": [
       "HBox(children=(FloatProgress(value=0.0, description='Training', layout=Layout(flex='2'), max=1125.0, style=Pro…"
      ]
     },
     "metadata": {},
     "output_type": "display_data"
    },
    {
     "name": "stdout",
     "output_type": "stream",
     "text": [
      "Epoch 128: train=1.25916, val=1.28008, took 38.27 s\n"
     ]
    },
    {
     "data": {
      "application/vnd.jupyter.widget-view+json": {
       "model_id": "",
       "version_major": 2,
       "version_minor": 0
      },
      "text/plain": [
       "HBox(children=(FloatProgress(value=0.0, description='Training', layout=Layout(flex='2'), max=1125.0, style=Pro…"
      ]
     },
     "metadata": {},
     "output_type": "display_data"
    },
    {
     "name": "stdout",
     "output_type": "stream",
     "text": [
      "Epoch 129: train=1.25366, val=1.13434, took 38.489 s\n"
     ]
    },
    {
     "data": {
      "application/vnd.jupyter.widget-view+json": {
       "model_id": "",
       "version_major": 2,
       "version_minor": 0
      },
      "text/plain": [
       "HBox(children=(FloatProgress(value=0.0, description='Training', layout=Layout(flex='2'), max=1125.0, style=Pro…"
      ]
     },
     "metadata": {},
     "output_type": "display_data"
    },
    {
     "name": "stdout",
     "output_type": "stream",
     "text": [
      "Epoch 130: train=1.2537, val=1.11757, took 38.468 s\n"
     ]
    },
    {
     "data": {
      "application/vnd.jupyter.widget-view+json": {
       "model_id": "",
       "version_major": 2,
       "version_minor": 0
      },
      "text/plain": [
       "HBox(children=(FloatProgress(value=0.0, description='Training', layout=Layout(flex='2'), max=1125.0, style=Pro…"
      ]
     },
     "metadata": {},
     "output_type": "display_data"
    },
    {
     "name": "stdout",
     "output_type": "stream",
     "text": [
      "Epoch 131: train=1.24992, val=1.10937, took 40.813 s\n"
     ]
    },
    {
     "data": {
      "application/vnd.jupyter.widget-view+json": {
       "model_id": "",
       "version_major": 2,
       "version_minor": 0
      },
      "text/plain": [
       "HBox(children=(FloatProgress(value=0.0, description='Training', layout=Layout(flex='2'), max=1125.0, style=Pro…"
      ]
     },
     "metadata": {},
     "output_type": "display_data"
    },
    {
     "name": "stdout",
     "output_type": "stream",
     "text": [
      "Epoch 132: train=1.25383, val=1.18775, took 38.44 s\n"
     ]
    },
    {
     "data": {
      "application/vnd.jupyter.widget-view+json": {
       "model_id": "",
       "version_major": 2,
       "version_minor": 0
      },
      "text/plain": [
       "HBox(children=(FloatProgress(value=0.0, description='Training', layout=Layout(flex='2'), max=1125.0, style=Pro…"
      ]
     },
     "metadata": {},
     "output_type": "display_data"
    },
    {
     "name": "stdout",
     "output_type": "stream",
     "text": [
      "Epoch 133: train=1.25, val=1.19834, took 39.062 s\n"
     ]
    },
    {
     "data": {
      "application/vnd.jupyter.widget-view+json": {
       "model_id": "",
       "version_major": 2,
       "version_minor": 0
      },
      "text/plain": [
       "HBox(children=(FloatProgress(value=0.0, description='Training', layout=Layout(flex='2'), max=1125.0, style=Pro…"
      ]
     },
     "metadata": {},
     "output_type": "display_data"
    },
    {
     "name": "stdout",
     "output_type": "stream",
     "text": [
      "Epoch 134: train=1.24593, val=1.12223, took 38.606 s\n"
     ]
    },
    {
     "data": {
      "application/vnd.jupyter.widget-view+json": {
       "model_id": "",
       "version_major": 2,
       "version_minor": 0
      },
      "text/plain": [
       "HBox(children=(FloatProgress(value=0.0, description='Training', layout=Layout(flex='2'), max=1125.0, style=Pro…"
      ]
     },
     "metadata": {},
     "output_type": "display_data"
    },
    {
     "name": "stdout",
     "output_type": "stream",
     "text": [
      "Epoch 135: train=1.26044, val=1.13567, took 38.363 s\n"
     ]
    },
    {
     "data": {
      "application/vnd.jupyter.widget-view+json": {
       "model_id": "",
       "version_major": 2,
       "version_minor": 0
      },
      "text/plain": [
       "HBox(children=(FloatProgress(value=0.0, description='Training', layout=Layout(flex='2'), max=1125.0, style=Pro…"
      ]
     },
     "metadata": {},
     "output_type": "display_data"
    },
    {
     "name": "stdout",
     "output_type": "stream",
     "text": [
      "Epoch 136: train=1.25406, val=1.16163, took 40.941 s\n"
     ]
    },
    {
     "data": {
      "application/vnd.jupyter.widget-view+json": {
       "model_id": "",
       "version_major": 2,
       "version_minor": 0
      },
      "text/plain": [
       "HBox(children=(FloatProgress(value=0.0, description='Training', layout=Layout(flex='2'), max=1125.0, style=Pro…"
      ]
     },
     "metadata": {},
     "output_type": "display_data"
    },
    {
     "name": "stdout",
     "output_type": "stream",
     "text": [
      "Epoch 137: train=1.25418, val=1.1184, took 40.072 s\n"
     ]
    },
    {
     "data": {
      "application/vnd.jupyter.widget-view+json": {
       "model_id": "",
       "version_major": 2,
       "version_minor": 0
      },
      "text/plain": [
       "HBox(children=(FloatProgress(value=0.0, description='Training', layout=Layout(flex='2'), max=1125.0, style=Pro…"
      ]
     },
     "metadata": {},
     "output_type": "display_data"
    },
    {
     "name": "stdout",
     "output_type": "stream",
     "text": [
      "Epoch 138: train=1.24495, val=1.12238, took 38.626 s\n"
     ]
    },
    {
     "data": {
      "application/vnd.jupyter.widget-view+json": {
       "model_id": "",
       "version_major": 2,
       "version_minor": 0
      },
      "text/plain": [
       "HBox(children=(FloatProgress(value=0.0, description='Training', layout=Layout(flex='2'), max=1125.0, style=Pro…"
      ]
     },
     "metadata": {},
     "output_type": "display_data"
    },
    {
     "name": "stdout",
     "output_type": "stream",
     "text": [
      "Epoch 139: train=1.24572, val=1.11364, took 38.953 s\n"
     ]
    },
    {
     "data": {
      "application/vnd.jupyter.widget-view+json": {
       "model_id": "",
       "version_major": 2,
       "version_minor": 0
      },
      "text/plain": [
       "HBox(children=(FloatProgress(value=0.0, description='Training', layout=Layout(flex='2'), max=1125.0, style=Pro…"
      ]
     },
     "metadata": {},
     "output_type": "display_data"
    },
    {
     "name": "stdout",
     "output_type": "stream",
     "text": [
      "Epoch 140: train=1.24801, val=1.13358, took 38.34 s\n"
     ]
    },
    {
     "data": {
      "application/vnd.jupyter.widget-view+json": {
       "model_id": "",
       "version_major": 2,
       "version_minor": 0
      },
      "text/plain": [
       "HBox(children=(FloatProgress(value=0.0, description='Training', layout=Layout(flex='2'), max=1125.0, style=Pro…"
      ]
     },
     "metadata": {},
     "output_type": "display_data"
    },
    {
     "name": "stdout",
     "output_type": "stream",
     "text": [
      "Epoch 141: train=1.25377, val=1.13566, took 38.28 s\n"
     ]
    },
    {
     "data": {
      "application/vnd.jupyter.widget-view+json": {
       "model_id": "",
       "version_major": 2,
       "version_minor": 0
      },
      "text/plain": [
       "HBox(children=(FloatProgress(value=0.0, description='Training', layout=Layout(flex='2'), max=1125.0, style=Pro…"
      ]
     },
     "metadata": {},
     "output_type": "display_data"
    },
    {
     "name": "stdout",
     "output_type": "stream",
     "text": [
      "Epoch 142: train=1.24986, val=1.12634, took 38.375 s\n"
     ]
    },
    {
     "data": {
      "application/vnd.jupyter.widget-view+json": {
       "model_id": "",
       "version_major": 2,
       "version_minor": 0
      },
      "text/plain": [
       "HBox(children=(FloatProgress(value=0.0, description='Training', layout=Layout(flex='2'), max=1125.0, style=Pro…"
      ]
     },
     "metadata": {},
     "output_type": "display_data"
    },
    {
     "name": "stdout",
     "output_type": "stream",
     "text": [
      "Epoch 143: train=1.26136, val=1.15565, took 38.492 s\n"
     ]
    },
    {
     "data": {
      "application/vnd.jupyter.widget-view+json": {
       "model_id": "",
       "version_major": 2,
       "version_minor": 0
      },
      "text/plain": [
       "HBox(children=(FloatProgress(value=0.0, description='Training', layout=Layout(flex='2'), max=1125.0, style=Pro…"
      ]
     },
     "metadata": {},
     "output_type": "display_data"
    },
    {
     "name": "stdout",
     "output_type": "stream",
     "text": [
      "Epoch 144: train=1.25065, val=1.1113, took 38.439 s\n"
     ]
    },
    {
     "data": {
      "application/vnd.jupyter.widget-view+json": {
       "model_id": "",
       "version_major": 2,
       "version_minor": 0
      },
      "text/plain": [
       "HBox(children=(FloatProgress(value=0.0, description='Training', layout=Layout(flex='2'), max=1125.0, style=Pro…"
      ]
     },
     "metadata": {},
     "output_type": "display_data"
    },
    {
     "name": "stdout",
     "output_type": "stream",
     "text": [
      "Epoch 145: train=1.24691, val=1.10876, took 38.724 s\n"
     ]
    },
    {
     "data": {
      "application/vnd.jupyter.widget-view+json": {
       "model_id": "",
       "version_major": 2,
       "version_minor": 0
      },
      "text/plain": [
       "HBox(children=(FloatProgress(value=0.0, description='Training', layout=Layout(flex='2'), max=1125.0, style=Pro…"
      ]
     },
     "metadata": {},
     "output_type": "display_data"
    },
    {
     "name": "stdout",
     "output_type": "stream",
     "text": [
      "Epoch 146: train=1.25635, val=1.24303, took 38.197 s\n"
     ]
    },
    {
     "data": {
      "application/vnd.jupyter.widget-view+json": {
       "model_id": "",
       "version_major": 2,
       "version_minor": 0
      },
      "text/plain": [
       "HBox(children=(FloatProgress(value=0.0, description='Training', layout=Layout(flex='2'), max=1125.0, style=Pro…"
      ]
     },
     "metadata": {},
     "output_type": "display_data"
    },
    {
     "name": "stdout",
     "output_type": "stream",
     "text": [
      "Epoch 147: train=1.25347, val=1.11956, took 38.113 s\n"
     ]
    },
    {
     "data": {
      "application/vnd.jupyter.widget-view+json": {
       "model_id": "",
       "version_major": 2,
       "version_minor": 0
      },
      "text/plain": [
       "HBox(children=(FloatProgress(value=0.0, description='Training', layout=Layout(flex='2'), max=1125.0, style=Pro…"
      ]
     },
     "metadata": {},
     "output_type": "display_data"
    },
    {
     "name": "stdout",
     "output_type": "stream",
     "text": [
      "Epoch 148: train=1.2513, val=1.11508, took 39.552 s\n"
     ]
    },
    {
     "data": {
      "application/vnd.jupyter.widget-view+json": {
       "model_id": "",
       "version_major": 2,
       "version_minor": 0
      },
      "text/plain": [
       "HBox(children=(FloatProgress(value=0.0, description='Training', layout=Layout(flex='2'), max=1125.0, style=Pro…"
      ]
     },
     "metadata": {},
     "output_type": "display_data"
    },
    {
     "name": "stdout",
     "output_type": "stream",
     "text": [
      "Epoch 149: train=1.24801, val=1.16931, took 39.52 s\n"
     ]
    },
    {
     "data": {
      "application/vnd.jupyter.widget-view+json": {
       "model_id": "",
       "version_major": 2,
       "version_minor": 0
      },
      "text/plain": [
       "HBox(children=(FloatProgress(value=0.0, description='Training', layout=Layout(flex='2'), max=1125.0, style=Pro…"
      ]
     },
     "metadata": {},
     "output_type": "display_data"
    },
    {
     "name": "stdout",
     "output_type": "stream",
     "text": [
      "Epoch 150: train=1.2458, val=1.11682, took 39.46 s\n"
     ]
    },
    {
     "data": {
      "application/vnd.jupyter.widget-view+json": {
       "model_id": "",
       "version_major": 2,
       "version_minor": 0
      },
      "text/plain": [
       "HBox(children=(FloatProgress(value=0.0, description='Training', layout=Layout(flex='2'), max=1125.0, style=Pro…"
      ]
     },
     "metadata": {},
     "output_type": "display_data"
    },
    {
     "name": "stdout",
     "output_type": "stream",
     "text": [
      "Epoch 151: train=1.25414, val=1.10805, took 37.97 s\n"
     ]
    },
    {
     "data": {
      "application/vnd.jupyter.widget-view+json": {
       "model_id": "",
       "version_major": 2,
       "version_minor": 0
      },
      "text/plain": [
       "HBox(children=(FloatProgress(value=0.0, description='Training', layout=Layout(flex='2'), max=1125.0, style=Pro…"
      ]
     },
     "metadata": {},
     "output_type": "display_data"
    },
    {
     "name": "stdout",
     "output_type": "stream",
     "text": [
      "Epoch 152: train=1.24628, val=1.1062, took 38.374 s\n"
     ]
    },
    {
     "data": {
      "application/vnd.jupyter.widget-view+json": {
       "model_id": "",
       "version_major": 2,
       "version_minor": 0
      },
      "text/plain": [
       "HBox(children=(FloatProgress(value=0.0, description='Training', layout=Layout(flex='2'), max=1125.0, style=Pro…"
      ]
     },
     "metadata": {},
     "output_type": "display_data"
    },
    {
     "name": "stdout",
     "output_type": "stream",
     "text": [
      "Epoch 153: train=1.25145, val=1.1115, took 38.235 s\n"
     ]
    },
    {
     "data": {
      "application/vnd.jupyter.widget-view+json": {
       "model_id": "",
       "version_major": 2,
       "version_minor": 0
      },
      "text/plain": [
       "HBox(children=(FloatProgress(value=0.0, description='Training', layout=Layout(flex='2'), max=1125.0, style=Pro…"
      ]
     },
     "metadata": {},
     "output_type": "display_data"
    },
    {
     "name": "stdout",
     "output_type": "stream",
     "text": [
      "Epoch 154: train=1.24358, val=1.13727, took 38.116 s\n"
     ]
    },
    {
     "data": {
      "application/vnd.jupyter.widget-view+json": {
       "model_id": "",
       "version_major": 2,
       "version_minor": 0
      },
      "text/plain": [
       "HBox(children=(FloatProgress(value=0.0, description='Training', layout=Layout(flex='2'), max=1125.0, style=Pro…"
      ]
     },
     "metadata": {},
     "output_type": "display_data"
    },
    {
     "name": "stdout",
     "output_type": "stream",
     "text": [
      "Epoch 155: train=1.25404, val=1.10308, took 38.268 s\n"
     ]
    },
    {
     "data": {
      "application/vnd.jupyter.widget-view+json": {
       "model_id": "",
       "version_major": 2,
       "version_minor": 0
      },
      "text/plain": [
       "HBox(children=(FloatProgress(value=0.0, description='Training', layout=Layout(flex='2'), max=1125.0, style=Pro…"
      ]
     },
     "metadata": {},
     "output_type": "display_data"
    },
    {
     "name": "stdout",
     "output_type": "stream",
     "text": [
      "Epoch 156: train=1.24471, val=1.10841, took 38.454 s\n"
     ]
    },
    {
     "data": {
      "application/vnd.jupyter.widget-view+json": {
       "model_id": "",
       "version_major": 2,
       "version_minor": 0
      },
      "text/plain": [
       "HBox(children=(FloatProgress(value=0.0, description='Training', layout=Layout(flex='2'), max=1125.0, style=Pro…"
      ]
     },
     "metadata": {},
     "output_type": "display_data"
    },
    {
     "name": "stdout",
     "output_type": "stream",
     "text": [
      "Epoch 157: train=1.24504, val=1.13975, took 38.186 s\n"
     ]
    },
    {
     "data": {
      "application/vnd.jupyter.widget-view+json": {
       "model_id": "",
       "version_major": 2,
       "version_minor": 0
      },
      "text/plain": [
       "HBox(children=(FloatProgress(value=0.0, description='Training', layout=Layout(flex='2'), max=1125.0, style=Pro…"
      ]
     },
     "metadata": {},
     "output_type": "display_data"
    },
    {
     "name": "stdout",
     "output_type": "stream",
     "text": [
      "Epoch 158: train=1.23905, val=1.12474, took 38.124 s\n"
     ]
    },
    {
     "data": {
      "application/vnd.jupyter.widget-view+json": {
       "model_id": "",
       "version_major": 2,
       "version_minor": 0
      },
      "text/plain": [
       "HBox(children=(FloatProgress(value=0.0, description='Training', layout=Layout(flex='2'), max=1125.0, style=Pro…"
      ]
     },
     "metadata": {},
     "output_type": "display_data"
    },
    {
     "name": "stdout",
     "output_type": "stream",
     "text": [
      "Epoch 159: train=1.24708, val=1.12561, took 38.066 s\n"
     ]
    },
    {
     "data": {
      "application/vnd.jupyter.widget-view+json": {
       "model_id": "",
       "version_major": 2,
       "version_minor": 0
      },
      "text/plain": [
       "HBox(children=(FloatProgress(value=0.0, description='Training', layout=Layout(flex='2'), max=1125.0, style=Pro…"
      ]
     },
     "metadata": {},
     "output_type": "display_data"
    },
    {
     "name": "stdout",
     "output_type": "stream",
     "text": [
      "Epoch 160: train=1.24213, val=1.11672, took 38.092 s\n"
     ]
    },
    {
     "data": {
      "application/vnd.jupyter.widget-view+json": {
       "model_id": "",
       "version_major": 2,
       "version_minor": 0
      },
      "text/plain": [
       "HBox(children=(FloatProgress(value=0.0, description='Training', layout=Layout(flex='2'), max=1125.0, style=Pro…"
      ]
     },
     "metadata": {},
     "output_type": "display_data"
    },
    {
     "name": "stdout",
     "output_type": "stream",
     "text": [
      "Epoch 161: train=1.24455, val=1.10752, took 38.45 s\n"
     ]
    },
    {
     "data": {
      "application/vnd.jupyter.widget-view+json": {
       "model_id": "",
       "version_major": 2,
       "version_minor": 0
      },
      "text/plain": [
       "HBox(children=(FloatProgress(value=0.0, description='Training', layout=Layout(flex='2'), max=1125.0, style=Pro…"
      ]
     },
     "metadata": {},
     "output_type": "display_data"
    },
    {
     "name": "stdout",
     "output_type": "stream",
     "text": [
      "Epoch 162: train=1.24309, val=1.11541, took 38.638 s\n"
     ]
    },
    {
     "data": {
      "application/vnd.jupyter.widget-view+json": {
       "model_id": "",
       "version_major": 2,
       "version_minor": 0
      },
      "text/plain": [
       "HBox(children=(FloatProgress(value=0.0, description='Training', layout=Layout(flex='2'), max=1125.0, style=Pro…"
      ]
     },
     "metadata": {},
     "output_type": "display_data"
    },
    {
     "name": "stdout",
     "output_type": "stream",
     "text": [
      "Epoch 163: train=1.24481, val=1.15469, took 40.657 s\n"
     ]
    },
    {
     "data": {
      "application/vnd.jupyter.widget-view+json": {
       "model_id": "",
       "version_major": 2,
       "version_minor": 0
      },
      "text/plain": [
       "HBox(children=(FloatProgress(value=0.0, description='Training', layout=Layout(flex='2'), max=1125.0, style=Pro…"
      ]
     },
     "metadata": {},
     "output_type": "display_data"
    },
    {
     "name": "stdout",
     "output_type": "stream",
     "text": [
      "Epoch 164: train=1.24849, val=1.11662, took 38.34 s\n"
     ]
    },
    {
     "data": {
      "application/vnd.jupyter.widget-view+json": {
       "model_id": "",
       "version_major": 2,
       "version_minor": 0
      },
      "text/plain": [
       "HBox(children=(FloatProgress(value=0.0, description='Training', layout=Layout(flex='2'), max=1125.0, style=Pro…"
      ]
     },
     "metadata": {},
     "output_type": "display_data"
    },
    {
     "name": "stdout",
     "output_type": "stream",
     "text": [
      "Epoch 165: train=1.24487, val=1.10852, took 38.397 s\n"
     ]
    },
    {
     "data": {
      "application/vnd.jupyter.widget-view+json": {
       "model_id": "",
       "version_major": 2,
       "version_minor": 0
      },
      "text/plain": [
       "HBox(children=(FloatProgress(value=0.0, description='Training', layout=Layout(flex='2'), max=1125.0, style=Pro…"
      ]
     },
     "metadata": {},
     "output_type": "display_data"
    },
    {
     "name": "stdout",
     "output_type": "stream",
     "text": [
      "Epoch 166: train=1.23951, val=1.11544, took 38.275 s\n"
     ]
    },
    {
     "data": {
      "application/vnd.jupyter.widget-view+json": {
       "model_id": "",
       "version_major": 2,
       "version_minor": 0
      },
      "text/plain": [
       "HBox(children=(FloatProgress(value=0.0, description='Training', layout=Layout(flex='2'), max=1125.0, style=Pro…"
      ]
     },
     "metadata": {},
     "output_type": "display_data"
    },
    {
     "name": "stdout",
     "output_type": "stream",
     "text": [
      "Epoch 167: train=1.24181, val=1.10749, took 38.547 s\n"
     ]
    },
    {
     "data": {
      "application/vnd.jupyter.widget-view+json": {
       "model_id": "",
       "version_major": 2,
       "version_minor": 0
      },
      "text/plain": [
       "HBox(children=(FloatProgress(value=0.0, description='Training', layout=Layout(flex='2'), max=1125.0, style=Pro…"
      ]
     },
     "metadata": {},
     "output_type": "display_data"
    },
    {
     "name": "stdout",
     "output_type": "stream",
     "text": [
      "Epoch 168: train=1.24261, val=1.11234, took 38.947 s\n"
     ]
    },
    {
     "data": {
      "application/vnd.jupyter.widget-view+json": {
       "model_id": "",
       "version_major": 2,
       "version_minor": 0
      },
      "text/plain": [
       "HBox(children=(FloatProgress(value=0.0, description='Training', layout=Layout(flex='2'), max=1125.0, style=Pro…"
      ]
     },
     "metadata": {},
     "output_type": "display_data"
    },
    {
     "name": "stdout",
     "output_type": "stream",
     "text": [
      "Epoch 169: train=1.24277, val=1.10088, took 38.586 s\n"
     ]
    },
    {
     "data": {
      "application/vnd.jupyter.widget-view+json": {
       "model_id": "",
       "version_major": 2,
       "version_minor": 0
      },
      "text/plain": [
       "HBox(children=(FloatProgress(value=0.0, description='Training', layout=Layout(flex='2'), max=1125.0, style=Pro…"
      ]
     },
     "metadata": {},
     "output_type": "display_data"
    },
    {
     "name": "stdout",
     "output_type": "stream",
     "text": [
      "Epoch 170: train=1.24737, val=1.11215, took 38.49 s\n"
     ]
    },
    {
     "data": {
      "application/vnd.jupyter.widget-view+json": {
       "model_id": "",
       "version_major": 2,
       "version_minor": 0
      },
      "text/plain": [
       "HBox(children=(FloatProgress(value=0.0, description='Training', layout=Layout(flex='2'), max=1125.0, style=Pro…"
      ]
     },
     "metadata": {},
     "output_type": "display_data"
    },
    {
     "name": "stdout",
     "output_type": "stream",
     "text": [
      "Epoch 171: train=1.25454, val=1.20418, took 38.386 s\n"
     ]
    },
    {
     "data": {
      "application/vnd.jupyter.widget-view+json": {
       "model_id": "",
       "version_major": 2,
       "version_minor": 0
      },
      "text/plain": [
       "HBox(children=(FloatProgress(value=0.0, description='Training', layout=Layout(flex='2'), max=1125.0, style=Pro…"
      ]
     },
     "metadata": {},
     "output_type": "display_data"
    },
    {
     "name": "stdout",
     "output_type": "stream",
     "text": [
      "Epoch 172: train=1.24098, val=1.14402, took 40.283 s\n"
     ]
    },
    {
     "data": {
      "application/vnd.jupyter.widget-view+json": {
       "model_id": "",
       "version_major": 2,
       "version_minor": 0
      },
      "text/plain": [
       "HBox(children=(FloatProgress(value=0.0, description='Training', layout=Layout(flex='2'), max=1125.0, style=Pro…"
      ]
     },
     "metadata": {},
     "output_type": "display_data"
    },
    {
     "name": "stdout",
     "output_type": "stream",
     "text": [
      "Epoch 173: train=1.24298, val=1.12787, took 38.269 s\n"
     ]
    },
    {
     "data": {
      "application/vnd.jupyter.widget-view+json": {
       "model_id": "",
       "version_major": 2,
       "version_minor": 0
      },
      "text/plain": [
       "HBox(children=(FloatProgress(value=0.0, description='Training', layout=Layout(flex='2'), max=1125.0, style=Pro…"
      ]
     },
     "metadata": {},
     "output_type": "display_data"
    },
    {
     "name": "stdout",
     "output_type": "stream",
     "text": [
      "Epoch 174: train=1.24, val=1.13638, took 42.463 s\n"
     ]
    },
    {
     "data": {
      "application/vnd.jupyter.widget-view+json": {
       "model_id": "",
       "version_major": 2,
       "version_minor": 0
      },
      "text/plain": [
       "HBox(children=(FloatProgress(value=0.0, description='Training', layout=Layout(flex='2'), max=1125.0, style=Pro…"
      ]
     },
     "metadata": {},
     "output_type": "display_data"
    },
    {
     "name": "stdout",
     "output_type": "stream",
     "text": [
      "Epoch 175: train=1.23403, val=1.1982, took 38.235 s\n"
     ]
    },
    {
     "data": {
      "application/vnd.jupyter.widget-view+json": {
       "model_id": "",
       "version_major": 2,
       "version_minor": 0
      },
      "text/plain": [
       "HBox(children=(FloatProgress(value=0.0, description='Training', layout=Layout(flex='2'), max=1125.0, style=Pro…"
      ]
     },
     "metadata": {},
     "output_type": "display_data"
    },
    {
     "name": "stdout",
     "output_type": "stream",
     "text": [
      "Epoch 176: train=1.2367, val=1.09902, took 39.032 s\n"
     ]
    },
    {
     "data": {
      "application/vnd.jupyter.widget-view+json": {
       "model_id": "",
       "version_major": 2,
       "version_minor": 0
      },
      "text/plain": [
       "HBox(children=(FloatProgress(value=0.0, description='Training', layout=Layout(flex='2'), max=1125.0, style=Pro…"
      ]
     },
     "metadata": {},
     "output_type": "display_data"
    },
    {
     "name": "stdout",
     "output_type": "stream",
     "text": [
      "Epoch 177: train=1.23689, val=1.11229, took 38.363 s\n"
     ]
    },
    {
     "data": {
      "application/vnd.jupyter.widget-view+json": {
       "model_id": "",
       "version_major": 2,
       "version_minor": 0
      },
      "text/plain": [
       "HBox(children=(FloatProgress(value=0.0, description='Training', layout=Layout(flex='2'), max=1125.0, style=Pro…"
      ]
     },
     "metadata": {},
     "output_type": "display_data"
    },
    {
     "name": "stdout",
     "output_type": "stream",
     "text": [
      "Epoch 178: train=1.23964, val=1.15067, took 38.478 s\n"
     ]
    },
    {
     "data": {
      "application/vnd.jupyter.widget-view+json": {
       "model_id": "",
       "version_major": 2,
       "version_minor": 0
      },
      "text/plain": [
       "HBox(children=(FloatProgress(value=0.0, description='Training', layout=Layout(flex='2'), max=1125.0, style=Pro…"
      ]
     },
     "metadata": {},
     "output_type": "display_data"
    },
    {
     "name": "stdout",
     "output_type": "stream",
     "text": [
      "Epoch 179: train=1.23818, val=1.15467, took 38.197 s\n"
     ]
    },
    {
     "data": {
      "application/vnd.jupyter.widget-view+json": {
       "model_id": "",
       "version_major": 2,
       "version_minor": 0
      },
      "text/plain": [
       "HBox(children=(FloatProgress(value=0.0, description='Training', layout=Layout(flex='2'), max=1125.0, style=Pro…"
      ]
     },
     "metadata": {},
     "output_type": "display_data"
    },
    {
     "name": "stdout",
     "output_type": "stream",
     "text": [
      "Epoch 180: train=1.24131, val=1.10064, took 38.101 s\n"
     ]
    },
    {
     "data": {
      "application/vnd.jupyter.widget-view+json": {
       "model_id": "",
       "version_major": 2,
       "version_minor": 0
      },
      "text/plain": [
       "HBox(children=(FloatProgress(value=0.0, description='Training', layout=Layout(flex='2'), max=1125.0, style=Pro…"
      ]
     },
     "metadata": {},
     "output_type": "display_data"
    },
    {
     "name": "stdout",
     "output_type": "stream",
     "text": [
      "Epoch 181: train=1.23693, val=1.15169, took 38.294 s\n"
     ]
    },
    {
     "data": {
      "application/vnd.jupyter.widget-view+json": {
       "model_id": "",
       "version_major": 2,
       "version_minor": 0
      },
      "text/plain": [
       "HBox(children=(FloatProgress(value=0.0, description='Training', layout=Layout(flex='2'), max=1125.0, style=Pro…"
      ]
     },
     "metadata": {},
     "output_type": "display_data"
    },
    {
     "name": "stdout",
     "output_type": "stream",
     "text": [
      "Epoch 182: train=1.24244, val=1.13589, took 38.361 s\n"
     ]
    },
    {
     "data": {
      "application/vnd.jupyter.widget-view+json": {
       "model_id": "",
       "version_major": 2,
       "version_minor": 0
      },
      "text/plain": [
       "HBox(children=(FloatProgress(value=0.0, description='Training', layout=Layout(flex='2'), max=1125.0, style=Pro…"
      ]
     },
     "metadata": {},
     "output_type": "display_data"
    },
    {
     "name": "stdout",
     "output_type": "stream",
     "text": [
      "Epoch 183: train=1.23605, val=1.10282, took 38.846 s\n"
     ]
    },
    {
     "data": {
      "application/vnd.jupyter.widget-view+json": {
       "model_id": "",
       "version_major": 2,
       "version_minor": 0
      },
      "text/plain": [
       "HBox(children=(FloatProgress(value=0.0, description='Training', layout=Layout(flex='2'), max=1125.0, style=Pro…"
      ]
     },
     "metadata": {},
     "output_type": "display_data"
    },
    {
     "name": "stdout",
     "output_type": "stream",
     "text": [
      "Epoch 184: train=1.24994, val=1.09889, took 38.173 s\n"
     ]
    },
    {
     "data": {
      "application/vnd.jupyter.widget-view+json": {
       "model_id": "",
       "version_major": 2,
       "version_minor": 0
      },
      "text/plain": [
       "HBox(children=(FloatProgress(value=0.0, description='Training', layout=Layout(flex='2'), max=1125.0, style=Pro…"
      ]
     },
     "metadata": {},
     "output_type": "display_data"
    },
    {
     "name": "stdout",
     "output_type": "stream",
     "text": [
      "Epoch 185: train=1.23515, val=1.14534, took 39.705 s\n"
     ]
    },
    {
     "data": {
      "application/vnd.jupyter.widget-view+json": {
       "model_id": "",
       "version_major": 2,
       "version_minor": 0
      },
      "text/plain": [
       "HBox(children=(FloatProgress(value=0.0, description='Training', layout=Layout(flex='2'), max=1125.0, style=Pro…"
      ]
     },
     "metadata": {},
     "output_type": "display_data"
    },
    {
     "name": "stdout",
     "output_type": "stream",
     "text": [
      "Epoch 186: train=1.23755, val=1.16159, took 38.777 s\n"
     ]
    },
    {
     "data": {
      "application/vnd.jupyter.widget-view+json": {
       "model_id": "",
       "version_major": 2,
       "version_minor": 0
      },
      "text/plain": [
       "HBox(children=(FloatProgress(value=0.0, description='Training', layout=Layout(flex='2'), max=1125.0, style=Pro…"
      ]
     },
     "metadata": {},
     "output_type": "display_data"
    },
    {
     "name": "stdout",
     "output_type": "stream",
     "text": [
      "Epoch 187: train=1.24524, val=1.09898, took 38.357 s\n"
     ]
    },
    {
     "data": {
      "application/vnd.jupyter.widget-view+json": {
       "model_id": "",
       "version_major": 2,
       "version_minor": 0
      },
      "text/plain": [
       "HBox(children=(FloatProgress(value=0.0, description='Training', layout=Layout(flex='2'), max=1125.0, style=Pro…"
      ]
     },
     "metadata": {},
     "output_type": "display_data"
    },
    {
     "name": "stdout",
     "output_type": "stream",
     "text": [
      "Epoch 188: train=1.23486, val=1.17384, took 39.542 s\n"
     ]
    },
    {
     "data": {
      "application/vnd.jupyter.widget-view+json": {
       "model_id": "",
       "version_major": 2,
       "version_minor": 0
      },
      "text/plain": [
       "HBox(children=(FloatProgress(value=0.0, description='Training', layout=Layout(flex='2'), max=1125.0, style=Pro…"
      ]
     },
     "metadata": {},
     "output_type": "display_data"
    },
    {
     "name": "stdout",
     "output_type": "stream",
     "text": [
      "Epoch 189: train=1.23284, val=1.09413, took 39.342 s\n"
     ]
    },
    {
     "data": {
      "application/vnd.jupyter.widget-view+json": {
       "model_id": "",
       "version_major": 2,
       "version_minor": 0
      },
      "text/plain": [
       "HBox(children=(FloatProgress(value=0.0, description='Training', layout=Layout(flex='2'), max=1125.0, style=Pro…"
      ]
     },
     "metadata": {},
     "output_type": "display_data"
    },
    {
     "name": "stdout",
     "output_type": "stream",
     "text": [
      "Epoch 190: train=1.24997, val=1.14396, took 39.404 s\n"
     ]
    },
    {
     "data": {
      "application/vnd.jupyter.widget-view+json": {
       "model_id": "",
       "version_major": 2,
       "version_minor": 0
      },
      "text/plain": [
       "HBox(children=(FloatProgress(value=0.0, description='Training', layout=Layout(flex='2'), max=1125.0, style=Pro…"
      ]
     },
     "metadata": {},
     "output_type": "display_data"
    },
    {
     "name": "stdout",
     "output_type": "stream",
     "text": [
      "Epoch 191: train=1.23981, val=1.11194, took 41.348 s\n"
     ]
    },
    {
     "data": {
      "application/vnd.jupyter.widget-view+json": {
       "model_id": "",
       "version_major": 2,
       "version_minor": 0
      },
      "text/plain": [
       "HBox(children=(FloatProgress(value=0.0, description='Training', layout=Layout(flex='2'), max=1125.0, style=Pro…"
      ]
     },
     "metadata": {},
     "output_type": "display_data"
    },
    {
     "name": "stdout",
     "output_type": "stream",
     "text": [
      "Epoch 192: train=1.23177, val=1.12337, took 39.645 s\n"
     ]
    },
    {
     "data": {
      "application/vnd.jupyter.widget-view+json": {
       "model_id": "",
       "version_major": 2,
       "version_minor": 0
      },
      "text/plain": [
       "HBox(children=(FloatProgress(value=0.0, description='Training', layout=Layout(flex='2'), max=1125.0, style=Pro…"
      ]
     },
     "metadata": {},
     "output_type": "display_data"
    },
    {
     "name": "stdout",
     "output_type": "stream",
     "text": [
      "Epoch 193: train=1.23105, val=1.11949, took 38.799 s\n"
     ]
    },
    {
     "data": {
      "application/vnd.jupyter.widget-view+json": {
       "model_id": "",
       "version_major": 2,
       "version_minor": 0
      },
      "text/plain": [
       "HBox(children=(FloatProgress(value=0.0, description='Training', layout=Layout(flex='2'), max=1125.0, style=Pro…"
      ]
     },
     "metadata": {},
     "output_type": "display_data"
    },
    {
     "name": "stdout",
     "output_type": "stream",
     "text": [
      "Epoch 194: train=1.23315, val=1.09544, took 39.345 s\n"
     ]
    },
    {
     "data": {
      "application/vnd.jupyter.widget-view+json": {
       "model_id": "",
       "version_major": 2,
       "version_minor": 0
      },
      "text/plain": [
       "HBox(children=(FloatProgress(value=0.0, description='Training', layout=Layout(flex='2'), max=1125.0, style=Pro…"
      ]
     },
     "metadata": {},
     "output_type": "display_data"
    },
    {
     "name": "stdout",
     "output_type": "stream",
     "text": [
      "Epoch 195: train=1.23368, val=1.09696, took 39.269 s\n"
     ]
    },
    {
     "data": {
      "application/vnd.jupyter.widget-view+json": {
       "model_id": "",
       "version_major": 2,
       "version_minor": 0
      },
      "text/plain": [
       "HBox(children=(FloatProgress(value=0.0, description='Training', layout=Layout(flex='2'), max=1125.0, style=Pro…"
      ]
     },
     "metadata": {},
     "output_type": "display_data"
    },
    {
     "name": "stdout",
     "output_type": "stream",
     "text": [
      "Epoch 196: train=1.23598, val=1.10544, took 38.169 s\n"
     ]
    },
    {
     "data": {
      "application/vnd.jupyter.widget-view+json": {
       "model_id": "",
       "version_major": 2,
       "version_minor": 0
      },
      "text/plain": [
       "HBox(children=(FloatProgress(value=0.0, description='Training', layout=Layout(flex='2'), max=1125.0, style=Pro…"
      ]
     },
     "metadata": {},
     "output_type": "display_data"
    },
    {
     "name": "stdout",
     "output_type": "stream",
     "text": [
      "Epoch 197: train=1.24729, val=1.10698, took 38.513 s\n"
     ]
    },
    {
     "data": {
      "application/vnd.jupyter.widget-view+json": {
       "model_id": "",
       "version_major": 2,
       "version_minor": 0
      },
      "text/plain": [
       "HBox(children=(FloatProgress(value=0.0, description='Training', layout=Layout(flex='2'), max=1125.0, style=Pro…"
      ]
     },
     "metadata": {},
     "output_type": "display_data"
    },
    {
     "name": "stdout",
     "output_type": "stream",
     "text": [
      "Epoch 198: train=1.23538, val=1.11699, took 41.773 s\n"
     ]
    },
    {
     "data": {
      "application/vnd.jupyter.widget-view+json": {
       "model_id": "",
       "version_major": 2,
       "version_minor": 0
      },
      "text/plain": [
       "HBox(children=(FloatProgress(value=0.0, description='Training', layout=Layout(flex='2'), max=1125.0, style=Pro…"
      ]
     },
     "metadata": {},
     "output_type": "display_data"
    },
    {
     "name": "stdout",
     "output_type": "stream",
     "text": [
      "Epoch 199: train=1.23832, val=1.11778, took 40.994 s\n"
     ]
    },
    {
     "data": {
      "application/vnd.jupyter.widget-view+json": {
       "model_id": "",
       "version_major": 2,
       "version_minor": 0
      },
      "text/plain": [
       "HBox(children=(FloatProgress(value=0.0, description='Training', layout=Layout(flex='2'), max=1125.0, style=Pro…"
      ]
     },
     "metadata": {},
     "output_type": "display_data"
    },
    {
     "name": "stdout",
     "output_type": "stream",
     "text": [
      "Epoch 200: train=1.23101, val=1.09562, took 38.443 s\n"
     ]
    },
    {
     "data": {
      "application/vnd.jupyter.widget-view+json": {
       "model_id": "",
       "version_major": 2,
       "version_minor": 0
      },
      "text/plain": [
       "HBox(children=(FloatProgress(value=0.0, description='Training', layout=Layout(flex='2'), max=1125.0, style=Pro…"
      ]
     },
     "metadata": {},
     "output_type": "display_data"
    },
    {
     "name": "stdout",
     "output_type": "stream",
     "text": [
      "Epoch 201: train=1.23211, val=1.10668, took 38.546 s\n"
     ]
    },
    {
     "data": {
      "application/vnd.jupyter.widget-view+json": {
       "model_id": "",
       "version_major": 2,
       "version_minor": 0
      },
      "text/plain": [
       "HBox(children=(FloatProgress(value=0.0, description='Training', layout=Layout(flex='2'), max=1125.0, style=Pro…"
      ]
     },
     "metadata": {},
     "output_type": "display_data"
    },
    {
     "name": "stdout",
     "output_type": "stream",
     "text": [
      "Epoch 202: train=1.23597, val=1.16854, took 38.341 s\n"
     ]
    },
    {
     "data": {
      "application/vnd.jupyter.widget-view+json": {
       "model_id": "",
       "version_major": 2,
       "version_minor": 0
      },
      "text/plain": [
       "HBox(children=(FloatProgress(value=0.0, description='Training', layout=Layout(flex='2'), max=1125.0, style=Pro…"
      ]
     },
     "metadata": {},
     "output_type": "display_data"
    },
    {
     "name": "stdout",
     "output_type": "stream",
     "text": [
      "Epoch 203: train=1.23316, val=1.16787, took 38.248 s\n"
     ]
    },
    {
     "data": {
      "application/vnd.jupyter.widget-view+json": {
       "model_id": "",
       "version_major": 2,
       "version_minor": 0
      },
      "text/plain": [
       "HBox(children=(FloatProgress(value=0.0, description='Training', layout=Layout(flex='2'), max=1125.0, style=Pro…"
      ]
     },
     "metadata": {},
     "output_type": "display_data"
    },
    {
     "name": "stdout",
     "output_type": "stream",
     "text": [
      "Epoch 204: train=1.24168, val=1.14629, took 38.65 s\n"
     ]
    },
    {
     "data": {
      "application/vnd.jupyter.widget-view+json": {
       "model_id": "",
       "version_major": 2,
       "version_minor": 0
      },
      "text/plain": [
       "HBox(children=(FloatProgress(value=0.0, description='Training', layout=Layout(flex='2'), max=1125.0, style=Pro…"
      ]
     },
     "metadata": {},
     "output_type": "display_data"
    },
    {
     "name": "stdout",
     "output_type": "stream",
     "text": [
      "Epoch 205: train=1.22926, val=1.1043, took 39.444 s\n"
     ]
    },
    {
     "data": {
      "application/vnd.jupyter.widget-view+json": {
       "model_id": "",
       "version_major": 2,
       "version_minor": 0
      },
      "text/plain": [
       "HBox(children=(FloatProgress(value=0.0, description='Training', layout=Layout(flex='2'), max=1125.0, style=Pro…"
      ]
     },
     "metadata": {},
     "output_type": "display_data"
    },
    {
     "name": "stdout",
     "output_type": "stream",
     "text": [
      "Epoch 206: train=1.22232, val=1.09356, took 39.107 s\n"
     ]
    },
    {
     "data": {
      "application/vnd.jupyter.widget-view+json": {
       "model_id": "",
       "version_major": 2,
       "version_minor": 0
      },
      "text/plain": [
       "HBox(children=(FloatProgress(value=0.0, description='Training', layout=Layout(flex='2'), max=1125.0, style=Pro…"
      ]
     },
     "metadata": {},
     "output_type": "display_data"
    },
    {
     "name": "stdout",
     "output_type": "stream",
     "text": [
      "Epoch 207: train=1.22893, val=1.10089, took 38.474 s\n"
     ]
    },
    {
     "data": {
      "application/vnd.jupyter.widget-view+json": {
       "model_id": "",
       "version_major": 2,
       "version_minor": 0
      },
      "text/plain": [
       "HBox(children=(FloatProgress(value=0.0, description='Training', layout=Layout(flex='2'), max=1125.0, style=Pro…"
      ]
     },
     "metadata": {},
     "output_type": "display_data"
    },
    {
     "name": "stdout",
     "output_type": "stream",
     "text": [
      "Epoch 208: train=1.22823, val=1.15271, took 38.153 s\n"
     ]
    },
    {
     "data": {
      "application/vnd.jupyter.widget-view+json": {
       "model_id": "",
       "version_major": 2,
       "version_minor": 0
      },
      "text/plain": [
       "HBox(children=(FloatProgress(value=0.0, description='Training', layout=Layout(flex='2'), max=1125.0, style=Pro…"
      ]
     },
     "metadata": {},
     "output_type": "display_data"
    },
    {
     "name": "stdout",
     "output_type": "stream",
     "text": [
      "Epoch 209: train=1.23874, val=1.09805, took 40.32 s\n"
     ]
    },
    {
     "data": {
      "application/vnd.jupyter.widget-view+json": {
       "model_id": "",
       "version_major": 2,
       "version_minor": 0
      },
      "text/plain": [
       "HBox(children=(FloatProgress(value=0.0, description='Training', layout=Layout(flex='2'), max=1125.0, style=Pro…"
      ]
     },
     "metadata": {},
     "output_type": "display_data"
    },
    {
     "name": "stdout",
     "output_type": "stream",
     "text": [
      "Epoch 210: train=1.23513, val=1.09556, took 38.086 s\n"
     ]
    },
    {
     "data": {
      "application/vnd.jupyter.widget-view+json": {
       "model_id": "",
       "version_major": 2,
       "version_minor": 0
      },
      "text/plain": [
       "HBox(children=(FloatProgress(value=0.0, description='Training', layout=Layout(flex='2'), max=1125.0, style=Pro…"
      ]
     },
     "metadata": {},
     "output_type": "display_data"
    },
    {
     "name": "stdout",
     "output_type": "stream",
     "text": [
      "Epoch 211: train=1.2345, val=1.10039, took 38.194 s\n"
     ]
    },
    {
     "data": {
      "application/vnd.jupyter.widget-view+json": {
       "model_id": "",
       "version_major": 2,
       "version_minor": 0
      },
      "text/plain": [
       "HBox(children=(FloatProgress(value=0.0, description='Training', layout=Layout(flex='2'), max=1125.0, style=Pro…"
      ]
     },
     "metadata": {},
     "output_type": "display_data"
    },
    {
     "name": "stdout",
     "output_type": "stream",
     "text": [
      "Epoch 212: train=1.23302, val=1.11839, took 38.116 s\n"
     ]
    },
    {
     "data": {
      "application/vnd.jupyter.widget-view+json": {
       "model_id": "",
       "version_major": 2,
       "version_minor": 0
      },
      "text/plain": [
       "HBox(children=(FloatProgress(value=0.0, description='Training', layout=Layout(flex='2'), max=1125.0, style=Pro…"
      ]
     },
     "metadata": {},
     "output_type": "display_data"
    },
    {
     "name": "stdout",
     "output_type": "stream",
     "text": [
      "Epoch 213: train=1.22446, val=1.11109, took 40.969 s\n"
     ]
    },
    {
     "data": {
      "application/vnd.jupyter.widget-view+json": {
       "model_id": "",
       "version_major": 2,
       "version_minor": 0
      },
      "text/plain": [
       "HBox(children=(FloatProgress(value=0.0, description='Training', layout=Layout(flex='2'), max=1125.0, style=Pro…"
      ]
     },
     "metadata": {},
     "output_type": "display_data"
    },
    {
     "name": "stdout",
     "output_type": "stream",
     "text": [
      "Epoch 214: train=1.2319, val=1.15572, took 38.433 s\n"
     ]
    },
    {
     "data": {
      "application/vnd.jupyter.widget-view+json": {
       "model_id": "",
       "version_major": 2,
       "version_minor": 0
      },
      "text/plain": [
       "HBox(children=(FloatProgress(value=0.0, description='Training', layout=Layout(flex='2'), max=1125.0, style=Pro…"
      ]
     },
     "metadata": {},
     "output_type": "display_data"
    },
    {
     "name": "stdout",
     "output_type": "stream",
     "text": [
      "Epoch 215: train=1.22846, val=1.11921, took 38.242 s\n"
     ]
    },
    {
     "data": {
      "application/vnd.jupyter.widget-view+json": {
       "model_id": "",
       "version_major": 2,
       "version_minor": 0
      },
      "text/plain": [
       "HBox(children=(FloatProgress(value=0.0, description='Training', layout=Layout(flex='2'), max=1125.0, style=Pro…"
      ]
     },
     "metadata": {},
     "output_type": "display_data"
    },
    {
     "name": "stdout",
     "output_type": "stream",
     "text": [
      "Epoch 216: train=1.22529, val=1.12264, took 39.042 s\n"
     ]
    },
    {
     "data": {
      "application/vnd.jupyter.widget-view+json": {
       "model_id": "",
       "version_major": 2,
       "version_minor": 0
      },
      "text/plain": [
       "HBox(children=(FloatProgress(value=0.0, description='Training', layout=Layout(flex='2'), max=1125.0, style=Pro…"
      ]
     },
     "metadata": {},
     "output_type": "display_data"
    },
    {
     "name": "stdout",
     "output_type": "stream",
     "text": [
      "Epoch 217: train=1.23515, val=1.1668, took 38.493 s\n"
     ]
    },
    {
     "data": {
      "application/vnd.jupyter.widget-view+json": {
       "model_id": "",
       "version_major": 2,
       "version_minor": 0
      },
      "text/plain": [
       "HBox(children=(FloatProgress(value=0.0, description='Training', layout=Layout(flex='2'), max=1125.0, style=Pro…"
      ]
     },
     "metadata": {},
     "output_type": "display_data"
    },
    {
     "name": "stdout",
     "output_type": "stream",
     "text": [
      "Epoch 218: train=1.23698, val=1.09355, took 38.676 s\n"
     ]
    },
    {
     "data": {
      "application/vnd.jupyter.widget-view+json": {
       "model_id": "",
       "version_major": 2,
       "version_minor": 0
      },
      "text/plain": [
       "HBox(children=(FloatProgress(value=0.0, description='Training', layout=Layout(flex='2'), max=1125.0, style=Pro…"
      ]
     },
     "metadata": {},
     "output_type": "display_data"
    },
    {
     "name": "stdout",
     "output_type": "stream",
     "text": [
      "Epoch 219: train=1.23189, val=1.11371, took 38.963 s\n"
     ]
    },
    {
     "data": {
      "application/vnd.jupyter.widget-view+json": {
       "model_id": "",
       "version_major": 2,
       "version_minor": 0
      },
      "text/plain": [
       "HBox(children=(FloatProgress(value=0.0, description='Training', layout=Layout(flex='2'), max=1125.0, style=Pro…"
      ]
     },
     "metadata": {},
     "output_type": "display_data"
    },
    {
     "name": "stdout",
     "output_type": "stream",
     "text": [
      "Epoch 220: train=1.22371, val=1.12731, took 38.881 s\n"
     ]
    },
    {
     "data": {
      "application/vnd.jupyter.widget-view+json": {
       "model_id": "",
       "version_major": 2,
       "version_minor": 0
      },
      "text/plain": [
       "HBox(children=(FloatProgress(value=0.0, description='Training', layout=Layout(flex='2'), max=1125.0, style=Pro…"
      ]
     },
     "metadata": {},
     "output_type": "display_data"
    },
    {
     "name": "stdout",
     "output_type": "stream",
     "text": [
      "Epoch 221: train=1.22521, val=1.09305, took 38.562 s\n"
     ]
    },
    {
     "data": {
      "application/vnd.jupyter.widget-view+json": {
       "model_id": "",
       "version_major": 2,
       "version_minor": 0
      },
      "text/plain": [
       "HBox(children=(FloatProgress(value=0.0, description='Training', layout=Layout(flex='2'), max=1125.0, style=Pro…"
      ]
     },
     "metadata": {},
     "output_type": "display_data"
    },
    {
     "name": "stdout",
     "output_type": "stream",
     "text": [
      "Epoch 222: train=1.23265, val=1.11389, took 38.785 s\n"
     ]
    },
    {
     "data": {
      "application/vnd.jupyter.widget-view+json": {
       "model_id": "",
       "version_major": 2,
       "version_minor": 0
      },
      "text/plain": [
       "HBox(children=(FloatProgress(value=0.0, description='Training', layout=Layout(flex='2'), max=1125.0, style=Pro…"
      ]
     },
     "metadata": {},
     "output_type": "display_data"
    },
    {
     "name": "stdout",
     "output_type": "stream",
     "text": [
      "Epoch 223: train=1.23381, val=1.1393, took 39.036 s\n"
     ]
    },
    {
     "data": {
      "application/vnd.jupyter.widget-view+json": {
       "model_id": "",
       "version_major": 2,
       "version_minor": 0
      },
      "text/plain": [
       "HBox(children=(FloatProgress(value=0.0, description='Training', layout=Layout(flex='2'), max=1125.0, style=Pro…"
      ]
     },
     "metadata": {},
     "output_type": "display_data"
    },
    {
     "name": "stdout",
     "output_type": "stream",
     "text": [
      "Epoch 224: train=1.23258, val=1.15027, took 38.242 s\n"
     ]
    },
    {
     "data": {
      "application/vnd.jupyter.widget-view+json": {
       "model_id": "",
       "version_major": 2,
       "version_minor": 0
      },
      "text/plain": [
       "HBox(children=(FloatProgress(value=0.0, description='Training', layout=Layout(flex='2'), max=1125.0, style=Pro…"
      ]
     },
     "metadata": {},
     "output_type": "display_data"
    },
    {
     "name": "stdout",
     "output_type": "stream",
     "text": [
      "Epoch 225: train=1.23122, val=1.10502, took 38.342 s\n"
     ]
    },
    {
     "data": {
      "application/vnd.jupyter.widget-view+json": {
       "model_id": "",
       "version_major": 2,
       "version_minor": 0
      },
      "text/plain": [
       "HBox(children=(FloatProgress(value=0.0, description='Training', layout=Layout(flex='2'), max=1125.0, style=Pro…"
      ]
     },
     "metadata": {},
     "output_type": "display_data"
    },
    {
     "name": "stdout",
     "output_type": "stream",
     "text": [
      "Epoch 226: train=1.2346, val=1.10365, took 38.747 s\n"
     ]
    },
    {
     "data": {
      "application/vnd.jupyter.widget-view+json": {
       "model_id": "",
       "version_major": 2,
       "version_minor": 0
      },
      "text/plain": [
       "HBox(children=(FloatProgress(value=0.0, description='Training', layout=Layout(flex='2'), max=1125.0, style=Pro…"
      ]
     },
     "metadata": {},
     "output_type": "display_data"
    },
    {
     "name": "stdout",
     "output_type": "stream",
     "text": [
      "Epoch 227: train=1.23, val=1.09922, took 38.5 s\n"
     ]
    },
    {
     "data": {
      "application/vnd.jupyter.widget-view+json": {
       "model_id": "",
       "version_major": 2,
       "version_minor": 0
      },
      "text/plain": [
       "HBox(children=(FloatProgress(value=0.0, description='Training', layout=Layout(flex='2'), max=1125.0, style=Pro…"
      ]
     },
     "metadata": {},
     "output_type": "display_data"
    },
    {
     "name": "stdout",
     "output_type": "stream",
     "text": [
      "Epoch 228: train=1.23367, val=1.08849, took 38.246 s\n"
     ]
    },
    {
     "data": {
      "application/vnd.jupyter.widget-view+json": {
       "model_id": "",
       "version_major": 2,
       "version_minor": 0
      },
      "text/plain": [
       "HBox(children=(FloatProgress(value=0.0, description='Training', layout=Layout(flex='2'), max=1125.0, style=Pro…"
      ]
     },
     "metadata": {},
     "output_type": "display_data"
    },
    {
     "name": "stdout",
     "output_type": "stream",
     "text": [
      "Epoch 229: train=1.22312, val=1.19903, took 38.429 s\n"
     ]
    },
    {
     "data": {
      "application/vnd.jupyter.widget-view+json": {
       "model_id": "",
       "version_major": 2,
       "version_minor": 0
      },
      "text/plain": [
       "HBox(children=(FloatProgress(value=0.0, description='Training', layout=Layout(flex='2'), max=1125.0, style=Pro…"
      ]
     },
     "metadata": {},
     "output_type": "display_data"
    },
    {
     "name": "stdout",
     "output_type": "stream",
     "text": [
      "Epoch 230: train=1.22163, val=1.16839, took 38.245 s\n"
     ]
    },
    {
     "data": {
      "application/vnd.jupyter.widget-view+json": {
       "model_id": "",
       "version_major": 2,
       "version_minor": 0
      },
      "text/plain": [
       "HBox(children=(FloatProgress(value=0.0, description='Training', layout=Layout(flex='2'), max=1125.0, style=Pro…"
      ]
     },
     "metadata": {},
     "output_type": "display_data"
    },
    {
     "name": "stdout",
     "output_type": "stream",
     "text": [
      "Epoch 231: train=1.22858, val=1.10577, took 38.47 s\n"
     ]
    },
    {
     "data": {
      "application/vnd.jupyter.widget-view+json": {
       "model_id": "",
       "version_major": 2,
       "version_minor": 0
      },
      "text/plain": [
       "HBox(children=(FloatProgress(value=0.0, description='Training', layout=Layout(flex='2'), max=1125.0, style=Pro…"
      ]
     },
     "metadata": {},
     "output_type": "display_data"
    },
    {
     "name": "stdout",
     "output_type": "stream",
     "text": [
      "Epoch 232: train=1.23379, val=1.09639, took 39.702 s\n"
     ]
    },
    {
     "data": {
      "application/vnd.jupyter.widget-view+json": {
       "model_id": "",
       "version_major": 2,
       "version_minor": 0
      },
      "text/plain": [
       "HBox(children=(FloatProgress(value=0.0, description='Training', layout=Layout(flex='2'), max=1125.0, style=Pro…"
      ]
     },
     "metadata": {},
     "output_type": "display_data"
    },
    {
     "name": "stdout",
     "output_type": "stream",
     "text": [
      "Epoch 233: train=1.22531, val=1.17584, took 38.519 s\n"
     ]
    },
    {
     "data": {
      "application/vnd.jupyter.widget-view+json": {
       "model_id": "",
       "version_major": 2,
       "version_minor": 0
      },
      "text/plain": [
       "HBox(children=(FloatProgress(value=0.0, description='Training', layout=Layout(flex='2'), max=1125.0, style=Pro…"
      ]
     },
     "metadata": {},
     "output_type": "display_data"
    },
    {
     "name": "stdout",
     "output_type": "stream",
     "text": [
      "Epoch 234: train=1.22578, val=1.1586, took 38.438 s\n"
     ]
    },
    {
     "data": {
      "application/vnd.jupyter.widget-view+json": {
       "model_id": "",
       "version_major": 2,
       "version_minor": 0
      },
      "text/plain": [
       "HBox(children=(FloatProgress(value=0.0, description='Training', layout=Layout(flex='2'), max=1125.0, style=Pro…"
      ]
     },
     "metadata": {},
     "output_type": "display_data"
    },
    {
     "name": "stdout",
     "output_type": "stream",
     "text": [
      "Epoch 235: train=1.22167, val=1.08763, took 38.265 s\n"
     ]
    },
    {
     "data": {
      "application/vnd.jupyter.widget-view+json": {
       "model_id": "",
       "version_major": 2,
       "version_minor": 0
      },
      "text/plain": [
       "HBox(children=(FloatProgress(value=0.0, description='Training', layout=Layout(flex='2'), max=1125.0, style=Pro…"
      ]
     },
     "metadata": {},
     "output_type": "display_data"
    },
    {
     "name": "stdout",
     "output_type": "stream",
     "text": [
      "Epoch 236: train=1.23206, val=1.10886, took 38.209 s\n"
     ]
    },
    {
     "data": {
      "application/vnd.jupyter.widget-view+json": {
       "model_id": "",
       "version_major": 2,
       "version_minor": 0
      },
      "text/plain": [
       "HBox(children=(FloatProgress(value=0.0, description='Training', layout=Layout(flex='2'), max=1125.0, style=Pro…"
      ]
     },
     "metadata": {},
     "output_type": "display_data"
    },
    {
     "name": "stdout",
     "output_type": "stream",
     "text": [
      "Epoch 237: train=1.23225, val=1.10271, took 38.568 s\n"
     ]
    },
    {
     "data": {
      "application/vnd.jupyter.widget-view+json": {
       "model_id": "",
       "version_major": 2,
       "version_minor": 0
      },
      "text/plain": [
       "HBox(children=(FloatProgress(value=0.0, description='Training', layout=Layout(flex='2'), max=1125.0, style=Pro…"
      ]
     },
     "metadata": {},
     "output_type": "display_data"
    },
    {
     "name": "stdout",
     "output_type": "stream",
     "text": [
      "Epoch 238: train=1.23133, val=1.09102, took 38.312 s\n"
     ]
    },
    {
     "data": {
      "application/vnd.jupyter.widget-view+json": {
       "model_id": "",
       "version_major": 2,
       "version_minor": 0
      },
      "text/plain": [
       "HBox(children=(FloatProgress(value=0.0, description='Training', layout=Layout(flex='2'), max=1125.0, style=Pro…"
      ]
     },
     "metadata": {},
     "output_type": "display_data"
    },
    {
     "name": "stdout",
     "output_type": "stream",
     "text": [
      "Epoch 239: train=1.22189, val=1.11506, took 38.616 s\n"
     ]
    },
    {
     "data": {
      "application/vnd.jupyter.widget-view+json": {
       "model_id": "",
       "version_major": 2,
       "version_minor": 0
      },
      "text/plain": [
       "HBox(children=(FloatProgress(value=0.0, description='Training', layout=Layout(flex='2'), max=1125.0, style=Pro…"
      ]
     },
     "metadata": {},
     "output_type": "display_data"
    },
    {
     "name": "stdout",
     "output_type": "stream",
     "text": [
      "Epoch 240: train=1.22246, val=1.09284, took 38.209 s\n"
     ]
    },
    {
     "data": {
      "application/vnd.jupyter.widget-view+json": {
       "model_id": "",
       "version_major": 2,
       "version_minor": 0
      },
      "text/plain": [
       "HBox(children=(FloatProgress(value=0.0, description='Training', layout=Layout(flex='2'), max=1125.0, style=Pro…"
      ]
     },
     "metadata": {},
     "output_type": "display_data"
    },
    {
     "name": "stdout",
     "output_type": "stream",
     "text": [
      "Epoch 241: train=1.22121, val=1.12269, took 38.339 s\n"
     ]
    },
    {
     "data": {
      "application/vnd.jupyter.widget-view+json": {
       "model_id": "",
       "version_major": 2,
       "version_minor": 0
      },
      "text/plain": [
       "HBox(children=(FloatProgress(value=0.0, description='Training', layout=Layout(flex='2'), max=1125.0, style=Pro…"
      ]
     },
     "metadata": {},
     "output_type": "display_data"
    },
    {
     "name": "stdout",
     "output_type": "stream",
     "text": [
      "Epoch 242: train=1.21707, val=1.08602, took 38.289 s\n"
     ]
    },
    {
     "data": {
      "application/vnd.jupyter.widget-view+json": {
       "model_id": "",
       "version_major": 2,
       "version_minor": 0
      },
      "text/plain": [
       "HBox(children=(FloatProgress(value=0.0, description='Training', layout=Layout(flex='2'), max=1125.0, style=Pro…"
      ]
     },
     "metadata": {},
     "output_type": "display_data"
    },
    {
     "name": "stdout",
     "output_type": "stream",
     "text": [
      "Epoch 243: train=1.2247, val=1.09711, took 38.879 s\n"
     ]
    },
    {
     "data": {
      "application/vnd.jupyter.widget-view+json": {
       "model_id": "",
       "version_major": 2,
       "version_minor": 0
      },
      "text/plain": [
       "HBox(children=(FloatProgress(value=0.0, description='Training', layout=Layout(flex='2'), max=1125.0, style=Pro…"
      ]
     },
     "metadata": {},
     "output_type": "display_data"
    },
    {
     "name": "stdout",
     "output_type": "stream",
     "text": [
      "Epoch 244: train=1.22949, val=1.10543, took 38.606 s\n"
     ]
    },
    {
     "data": {
      "application/vnd.jupyter.widget-view+json": {
       "model_id": "",
       "version_major": 2,
       "version_minor": 0
      },
      "text/plain": [
       "HBox(children=(FloatProgress(value=0.0, description='Training', layout=Layout(flex='2'), max=1125.0, style=Pro…"
      ]
     },
     "metadata": {},
     "output_type": "display_data"
    },
    {
     "name": "stdout",
     "output_type": "stream",
     "text": [
      "Epoch 245: train=1.2152, val=1.0904, took 38.76 s\n"
     ]
    },
    {
     "data": {
      "application/vnd.jupyter.widget-view+json": {
       "model_id": "",
       "version_major": 2,
       "version_minor": 0
      },
      "text/plain": [
       "HBox(children=(FloatProgress(value=0.0, description='Training', layout=Layout(flex='2'), max=1125.0, style=Pro…"
      ]
     },
     "metadata": {},
     "output_type": "display_data"
    },
    {
     "name": "stdout",
     "output_type": "stream",
     "text": [
      "Epoch 246: train=1.22375, val=1.15348, took 38.284 s\n"
     ]
    },
    {
     "data": {
      "application/vnd.jupyter.widget-view+json": {
       "model_id": "",
       "version_major": 2,
       "version_minor": 0
      },
      "text/plain": [
       "HBox(children=(FloatProgress(value=0.0, description='Training', layout=Layout(flex='2'), max=1125.0, style=Pro…"
      ]
     },
     "metadata": {},
     "output_type": "display_data"
    },
    {
     "name": "stdout",
     "output_type": "stream",
     "text": [
      "Epoch 247: train=1.21626, val=1.10651, took 38.721 s\n"
     ]
    },
    {
     "data": {
      "application/vnd.jupyter.widget-view+json": {
       "model_id": "",
       "version_major": 2,
       "version_minor": 0
      },
      "text/plain": [
       "HBox(children=(FloatProgress(value=0.0, description='Training', layout=Layout(flex='2'), max=1125.0, style=Pro…"
      ]
     },
     "metadata": {},
     "output_type": "display_data"
    },
    {
     "name": "stdout",
     "output_type": "stream",
     "text": [
      "Epoch 248: train=1.21784, val=1.15013, took 37.939 s\n"
     ]
    },
    {
     "data": {
      "application/vnd.jupyter.widget-view+json": {
       "model_id": "",
       "version_major": 2,
       "version_minor": 0
      },
      "text/plain": [
       "HBox(children=(FloatProgress(value=0.0, description='Training', layout=Layout(flex='2'), max=1125.0, style=Pro…"
      ]
     },
     "metadata": {},
     "output_type": "display_data"
    },
    {
     "name": "stdout",
     "output_type": "stream",
     "text": [
      "Epoch 249: train=1.22029, val=1.08428, took 38.559 s\n"
     ]
    },
    {
     "data": {
      "application/vnd.jupyter.widget-view+json": {
       "model_id": "",
       "version_major": 2,
       "version_minor": 0
      },
      "text/plain": [
       "HBox(children=(FloatProgress(value=0.0, description='Training', layout=Layout(flex='2'), max=1125.0, style=Pro…"
      ]
     },
     "metadata": {},
     "output_type": "display_data"
    },
    {
     "name": "stdout",
     "output_type": "stream",
     "text": [
      "Epoch 250: train=1.22807, val=1.10568, took 38.552 s\n"
     ]
    },
    {
     "data": {
      "application/vnd.jupyter.widget-view+json": {
       "model_id": "",
       "version_major": 2,
       "version_minor": 0
      },
      "text/plain": [
       "HBox(children=(FloatProgress(value=0.0, description='Training', layout=Layout(flex='2'), max=1125.0, style=Pro…"
      ]
     },
     "metadata": {},
     "output_type": "display_data"
    },
    {
     "name": "stdout",
     "output_type": "stream",
     "text": [
      "Epoch 251: train=1.21889, val=1.10544, took 38.258 s\n"
     ]
    },
    {
     "data": {
      "application/vnd.jupyter.widget-view+json": {
       "model_id": "",
       "version_major": 2,
       "version_minor": 0
      },
      "text/plain": [
       "HBox(children=(FloatProgress(value=0.0, description='Training', layout=Layout(flex='2'), max=1125.0, style=Pro…"
      ]
     },
     "metadata": {},
     "output_type": "display_data"
    },
    {
     "name": "stdout",
     "output_type": "stream",
     "text": [
      "Epoch 252: train=1.22661, val=1.10741, took 38.069 s\n"
     ]
    },
    {
     "data": {
      "application/vnd.jupyter.widget-view+json": {
       "model_id": "",
       "version_major": 2,
       "version_minor": 0
      },
      "text/plain": [
       "HBox(children=(FloatProgress(value=0.0, description='Training', layout=Layout(flex='2'), max=1125.0, style=Pro…"
      ]
     },
     "metadata": {},
     "output_type": "display_data"
    },
    {
     "name": "stdout",
     "output_type": "stream",
     "text": [
      "Epoch 253: train=1.22114, val=1.13493, took 38.056 s\n"
     ]
    },
    {
     "data": {
      "application/vnd.jupyter.widget-view+json": {
       "model_id": "",
       "version_major": 2,
       "version_minor": 0
      },
      "text/plain": [
       "HBox(children=(FloatProgress(value=0.0, description='Training', layout=Layout(flex='2'), max=1125.0, style=Pro…"
      ]
     },
     "metadata": {},
     "output_type": "display_data"
    },
    {
     "name": "stdout",
     "output_type": "stream",
     "text": [
      "Epoch 254: train=1.21868, val=1.12398, took 38.605 s\n"
     ]
    },
    {
     "data": {
      "application/vnd.jupyter.widget-view+json": {
       "model_id": "",
       "version_major": 2,
       "version_minor": 0
      },
      "text/plain": [
       "HBox(children=(FloatProgress(value=0.0, description='Training', layout=Layout(flex='2'), max=1125.0, style=Pro…"
      ]
     },
     "metadata": {},
     "output_type": "display_data"
    },
    {
     "name": "stdout",
     "output_type": "stream",
     "text": [
      "Epoch 255: train=1.21706, val=1.09904, took 38.335 s\n"
     ]
    },
    {
     "data": {
      "application/vnd.jupyter.widget-view+json": {
       "model_id": "",
       "version_major": 2,
       "version_minor": 0
      },
      "text/plain": [
       "HBox(children=(FloatProgress(value=0.0, description='Training', layout=Layout(flex='2'), max=1125.0, style=Pro…"
      ]
     },
     "metadata": {},
     "output_type": "display_data"
    },
    {
     "name": "stdout",
     "output_type": "stream",
     "text": [
      "Epoch 256: train=1.22079, val=1.11499, took 38.974 s\n"
     ]
    },
    {
     "data": {
      "application/vnd.jupyter.widget-view+json": {
       "model_id": "",
       "version_major": 2,
       "version_minor": 0
      },
      "text/plain": [
       "HBox(children=(FloatProgress(value=0.0, description='Training', layout=Layout(flex='2'), max=1125.0, style=Pro…"
      ]
     },
     "metadata": {},
     "output_type": "display_data"
    },
    {
     "name": "stdout",
     "output_type": "stream",
     "text": [
      "Epoch 257: train=1.21088, val=1.11716, took 38.739 s\n"
     ]
    },
    {
     "data": {
      "application/vnd.jupyter.widget-view+json": {
       "model_id": "",
       "version_major": 2,
       "version_minor": 0
      },
      "text/plain": [
       "HBox(children=(FloatProgress(value=0.0, description='Training', layout=Layout(flex='2'), max=1125.0, style=Pro…"
      ]
     },
     "metadata": {},
     "output_type": "display_data"
    },
    {
     "name": "stdout",
     "output_type": "stream",
     "text": [
      "Epoch 258: train=1.22306, val=1.09467, took 38.1 s\n"
     ]
    },
    {
     "data": {
      "application/vnd.jupyter.widget-view+json": {
       "model_id": "",
       "version_major": 2,
       "version_minor": 0
      },
      "text/plain": [
       "HBox(children=(FloatProgress(value=0.0, description='Training', layout=Layout(flex='2'), max=1125.0, style=Pro…"
      ]
     },
     "metadata": {},
     "output_type": "display_data"
    },
    {
     "name": "stdout",
     "output_type": "stream",
     "text": [
      "Epoch 259: train=1.22101, val=1.08982, took 38.224 s\n"
     ]
    },
    {
     "data": {
      "application/vnd.jupyter.widget-view+json": {
       "model_id": "",
       "version_major": 2,
       "version_minor": 0
      },
      "text/plain": [
       "HBox(children=(FloatProgress(value=0.0, description='Training', layout=Layout(flex='2'), max=1125.0, style=Pro…"
      ]
     },
     "metadata": {},
     "output_type": "display_data"
    },
    {
     "name": "stdout",
     "output_type": "stream",
     "text": [
      "Epoch 260: train=1.21847, val=1.08919, took 39.048 s\n"
     ]
    },
    {
     "data": {
      "application/vnd.jupyter.widget-view+json": {
       "model_id": "",
       "version_major": 2,
       "version_minor": 0
      },
      "text/plain": [
       "HBox(children=(FloatProgress(value=0.0, description='Training', layout=Layout(flex='2'), max=1125.0, style=Pro…"
      ]
     },
     "metadata": {},
     "output_type": "display_data"
    },
    {
     "name": "stdout",
     "output_type": "stream",
     "text": [
      "Epoch 261: train=1.21434, val=1.09102, took 38.265 s\n"
     ]
    },
    {
     "data": {
      "application/vnd.jupyter.widget-view+json": {
       "model_id": "",
       "version_major": 2,
       "version_minor": 0
      },
      "text/plain": [
       "HBox(children=(FloatProgress(value=0.0, description='Training', layout=Layout(flex='2'), max=1125.0, style=Pro…"
      ]
     },
     "metadata": {},
     "output_type": "display_data"
    },
    {
     "name": "stdout",
     "output_type": "stream",
     "text": [
      "Epoch 262: train=1.22886, val=1.11383, took 38.783 s\n"
     ]
    },
    {
     "data": {
      "application/vnd.jupyter.widget-view+json": {
       "model_id": "",
       "version_major": 2,
       "version_minor": 0
      },
      "text/plain": [
       "HBox(children=(FloatProgress(value=0.0, description='Training', layout=Layout(flex='2'), max=1125.0, style=Pro…"
      ]
     },
     "metadata": {},
     "output_type": "display_data"
    },
    {
     "name": "stdout",
     "output_type": "stream",
     "text": [
      "Epoch 263: train=1.21907, val=1.11836, took 38.469 s\n"
     ]
    },
    {
     "data": {
      "application/vnd.jupyter.widget-view+json": {
       "model_id": "",
       "version_major": 2,
       "version_minor": 0
      },
      "text/plain": [
       "HBox(children=(FloatProgress(value=0.0, description='Training', layout=Layout(flex='2'), max=1125.0, style=Pro…"
      ]
     },
     "metadata": {},
     "output_type": "display_data"
    },
    {
     "name": "stdout",
     "output_type": "stream",
     "text": [
      "Epoch 264: train=1.21591, val=1.08695, took 38.7 s\n"
     ]
    },
    {
     "data": {
      "application/vnd.jupyter.widget-view+json": {
       "model_id": "",
       "version_major": 2,
       "version_minor": 0
      },
      "text/plain": [
       "HBox(children=(FloatProgress(value=0.0, description='Training', layout=Layout(flex='2'), max=1125.0, style=Pro…"
      ]
     },
     "metadata": {},
     "output_type": "display_data"
    },
    {
     "name": "stdout",
     "output_type": "stream",
     "text": [
      "Epoch 265: train=1.21739, val=1.09787, took 38.287 s\n"
     ]
    },
    {
     "data": {
      "application/vnd.jupyter.widget-view+json": {
       "model_id": "",
       "version_major": 2,
       "version_minor": 0
      },
      "text/plain": [
       "HBox(children=(FloatProgress(value=0.0, description='Training', layout=Layout(flex='2'), max=1125.0, style=Pro…"
      ]
     },
     "metadata": {},
     "output_type": "display_data"
    },
    {
     "name": "stdout",
     "output_type": "stream",
     "text": [
      "Epoch 266: train=1.21712, val=1.17338, took 38.511 s\n"
     ]
    },
    {
     "data": {
      "application/vnd.jupyter.widget-view+json": {
       "model_id": "",
       "version_major": 2,
       "version_minor": 0
      },
      "text/plain": [
       "HBox(children=(FloatProgress(value=0.0, description='Training', layout=Layout(flex='2'), max=1125.0, style=Pro…"
      ]
     },
     "metadata": {},
     "output_type": "display_data"
    },
    {
     "name": "stdout",
     "output_type": "stream",
     "text": [
      "Epoch 267: train=1.21257, val=1.09169, took 38.557 s\n"
     ]
    },
    {
     "data": {
      "application/vnd.jupyter.widget-view+json": {
       "model_id": "",
       "version_major": 2,
       "version_minor": 0
      },
      "text/plain": [
       "HBox(children=(FloatProgress(value=0.0, description='Training', layout=Layout(flex='2'), max=1125.0, style=Pro…"
      ]
     },
     "metadata": {},
     "output_type": "display_data"
    },
    {
     "name": "stdout",
     "output_type": "stream",
     "text": [
      "Epoch 268: train=1.21851, val=1.10569, took 38.452 s\n"
     ]
    },
    {
     "data": {
      "application/vnd.jupyter.widget-view+json": {
       "model_id": "",
       "version_major": 2,
       "version_minor": 0
      },
      "text/plain": [
       "HBox(children=(FloatProgress(value=0.0, description='Training', layout=Layout(flex='2'), max=1125.0, style=Pro…"
      ]
     },
     "metadata": {},
     "output_type": "display_data"
    },
    {
     "name": "stdout",
     "output_type": "stream",
     "text": [
      "Epoch 269: train=1.20744, val=1.09891, took 39.24 s\n"
     ]
    },
    {
     "data": {
      "application/vnd.jupyter.widget-view+json": {
       "model_id": "",
       "version_major": 2,
       "version_minor": 0
      },
      "text/plain": [
       "HBox(children=(FloatProgress(value=0.0, description='Training', layout=Layout(flex='2'), max=1125.0, style=Pro…"
      ]
     },
     "metadata": {},
     "output_type": "display_data"
    },
    {
     "name": "stdout",
     "output_type": "stream",
     "text": [
      "Epoch 270: train=1.21776, val=1.1741, took 38.419 s\n"
     ]
    },
    {
     "data": {
      "application/vnd.jupyter.widget-view+json": {
       "model_id": "",
       "version_major": 2,
       "version_minor": 0
      },
      "text/plain": [
       "HBox(children=(FloatProgress(value=0.0, description='Training', layout=Layout(flex='2'), max=1125.0, style=Pro…"
      ]
     },
     "metadata": {},
     "output_type": "display_data"
    },
    {
     "name": "stdout",
     "output_type": "stream",
     "text": [
      "Epoch 271: train=1.21459, val=1.08269, took 39.209 s\n"
     ]
    },
    {
     "data": {
      "application/vnd.jupyter.widget-view+json": {
       "model_id": "",
       "version_major": 2,
       "version_minor": 0
      },
      "text/plain": [
       "HBox(children=(FloatProgress(value=0.0, description='Training', layout=Layout(flex='2'), max=1125.0, style=Pro…"
      ]
     },
     "metadata": {},
     "output_type": "display_data"
    },
    {
     "name": "stdout",
     "output_type": "stream",
     "text": [
      "Epoch 272: train=1.21946, val=1.09338, took 39.037 s\n"
     ]
    },
    {
     "data": {
      "application/vnd.jupyter.widget-view+json": {
       "model_id": "",
       "version_major": 2,
       "version_minor": 0
      },
      "text/plain": [
       "HBox(children=(FloatProgress(value=0.0, description='Training', layout=Layout(flex='2'), max=1125.0, style=Pro…"
      ]
     },
     "metadata": {},
     "output_type": "display_data"
    },
    {
     "name": "stdout",
     "output_type": "stream",
     "text": [
      "Epoch 273: train=1.21753, val=1.14295, took 38.461 s\n"
     ]
    },
    {
     "data": {
      "application/vnd.jupyter.widget-view+json": {
       "model_id": "",
       "version_major": 2,
       "version_minor": 0
      },
      "text/plain": [
       "HBox(children=(FloatProgress(value=0.0, description='Training', layout=Layout(flex='2'), max=1125.0, style=Pro…"
      ]
     },
     "metadata": {},
     "output_type": "display_data"
    },
    {
     "name": "stdout",
     "output_type": "stream",
     "text": [
      "Epoch 274: train=1.21739, val=1.08948, took 38.522 s\n"
     ]
    },
    {
     "data": {
      "application/vnd.jupyter.widget-view+json": {
       "model_id": "",
       "version_major": 2,
       "version_minor": 0
      },
      "text/plain": [
       "HBox(children=(FloatProgress(value=0.0, description='Training', layout=Layout(flex='2'), max=1125.0, style=Pro…"
      ]
     },
     "metadata": {},
     "output_type": "display_data"
    },
    {
     "name": "stdout",
     "output_type": "stream",
     "text": [
      "Epoch 275: train=1.22019, val=1.11767, took 38.421 s\n"
     ]
    },
    {
     "data": {
      "application/vnd.jupyter.widget-view+json": {
       "model_id": "",
       "version_major": 2,
       "version_minor": 0
      },
      "text/plain": [
       "HBox(children=(FloatProgress(value=0.0, description='Training', layout=Layout(flex='2'), max=1125.0, style=Pro…"
      ]
     },
     "metadata": {},
     "output_type": "display_data"
    },
    {
     "name": "stdout",
     "output_type": "stream",
     "text": [
      "Epoch 276: train=1.20855, val=1.08796, took 38.346 s\n"
     ]
    },
    {
     "data": {
      "application/vnd.jupyter.widget-view+json": {
       "model_id": "",
       "version_major": 2,
       "version_minor": 0
      },
      "text/plain": [
       "HBox(children=(FloatProgress(value=0.0, description='Training', layout=Layout(flex='2'), max=1125.0, style=Pro…"
      ]
     },
     "metadata": {},
     "output_type": "display_data"
    },
    {
     "name": "stdout",
     "output_type": "stream",
     "text": [
      "Epoch 277: train=1.21299, val=1.08872, took 38.55 s\n"
     ]
    },
    {
     "data": {
      "application/vnd.jupyter.widget-view+json": {
       "model_id": "",
       "version_major": 2,
       "version_minor": 0
      },
      "text/plain": [
       "HBox(children=(FloatProgress(value=0.0, description='Training', layout=Layout(flex='2'), max=1125.0, style=Pro…"
      ]
     },
     "metadata": {},
     "output_type": "display_data"
    },
    {
     "name": "stdout",
     "output_type": "stream",
     "text": [
      "Epoch 278: train=1.21278, val=1.09981, took 38.369 s\n"
     ]
    },
    {
     "data": {
      "application/vnd.jupyter.widget-view+json": {
       "model_id": "",
       "version_major": 2,
       "version_minor": 0
      },
      "text/plain": [
       "HBox(children=(FloatProgress(value=0.0, description='Training', layout=Layout(flex='2'), max=1125.0, style=Pro…"
      ]
     },
     "metadata": {},
     "output_type": "display_data"
    },
    {
     "name": "stdout",
     "output_type": "stream",
     "text": [
      "Epoch 279: train=1.21772, val=1.0922, took 38.653 s\n"
     ]
    },
    {
     "data": {
      "application/vnd.jupyter.widget-view+json": {
       "model_id": "",
       "version_major": 2,
       "version_minor": 0
      },
      "text/plain": [
       "HBox(children=(FloatProgress(value=0.0, description='Training', layout=Layout(flex='2'), max=1125.0, style=Pro…"
      ]
     },
     "metadata": {},
     "output_type": "display_data"
    },
    {
     "name": "stdout",
     "output_type": "stream",
     "text": [
      "Epoch 280: train=1.22607, val=1.11788, took 38.928 s\n"
     ]
    },
    {
     "data": {
      "application/vnd.jupyter.widget-view+json": {
       "model_id": "",
       "version_major": 2,
       "version_minor": 0
      },
      "text/plain": [
       "HBox(children=(FloatProgress(value=0.0, description='Training', layout=Layout(flex='2'), max=1125.0, style=Pro…"
      ]
     },
     "metadata": {},
     "output_type": "display_data"
    },
    {
     "name": "stdout",
     "output_type": "stream",
     "text": [
      "Epoch 281: train=1.21836, val=1.15392, took 38.33 s\n"
     ]
    },
    {
     "data": {
      "application/vnd.jupyter.widget-view+json": {
       "model_id": "",
       "version_major": 2,
       "version_minor": 0
      },
      "text/plain": [
       "HBox(children=(FloatProgress(value=0.0, description='Training', layout=Layout(flex='2'), max=1125.0, style=Pro…"
      ]
     },
     "metadata": {},
     "output_type": "display_data"
    },
    {
     "name": "stdout",
     "output_type": "stream",
     "text": [
      "Epoch 282: train=1.20177, val=1.10701, took 38.218 s\n"
     ]
    },
    {
     "data": {
      "application/vnd.jupyter.widget-view+json": {
       "model_id": "",
       "version_major": 2,
       "version_minor": 0
      },
      "text/plain": [
       "HBox(children=(FloatProgress(value=0.0, description='Training', layout=Layout(flex='2'), max=1125.0, style=Pro…"
      ]
     },
     "metadata": {},
     "output_type": "display_data"
    },
    {
     "name": "stdout",
     "output_type": "stream",
     "text": [
      "Epoch 283: train=1.21544, val=1.20148, took 38.632 s\n"
     ]
    },
    {
     "data": {
      "application/vnd.jupyter.widget-view+json": {
       "model_id": "",
       "version_major": 2,
       "version_minor": 0
      },
      "text/plain": [
       "HBox(children=(FloatProgress(value=0.0, description='Training', layout=Layout(flex='2'), max=1125.0, style=Pro…"
      ]
     },
     "metadata": {},
     "output_type": "display_data"
    },
    {
     "name": "stdout",
     "output_type": "stream",
     "text": [
      "Epoch 284: train=1.21727, val=1.13856, took 37.848 s\n"
     ]
    },
    {
     "data": {
      "application/vnd.jupyter.widget-view+json": {
       "model_id": "",
       "version_major": 2,
       "version_minor": 0
      },
      "text/plain": [
       "HBox(children=(FloatProgress(value=0.0, description='Training', layout=Layout(flex='2'), max=1125.0, style=Pro…"
      ]
     },
     "metadata": {},
     "output_type": "display_data"
    },
    {
     "name": "stdout",
     "output_type": "stream",
     "text": [
      "Epoch 285: train=1.22061, val=1.09747, took 38.69 s\n"
     ]
    },
    {
     "data": {
      "application/vnd.jupyter.widget-view+json": {
       "model_id": "",
       "version_major": 2,
       "version_minor": 0
      },
      "text/plain": [
       "HBox(children=(FloatProgress(value=0.0, description='Training', layout=Layout(flex='2'), max=1125.0, style=Pro…"
      ]
     },
     "metadata": {},
     "output_type": "display_data"
    },
    {
     "name": "stdout",
     "output_type": "stream",
     "text": [
      "Epoch 286: train=1.20903, val=1.07772, took 38.048 s\n"
     ]
    },
    {
     "data": {
      "application/vnd.jupyter.widget-view+json": {
       "model_id": "",
       "version_major": 2,
       "version_minor": 0
      },
      "text/plain": [
       "HBox(children=(FloatProgress(value=0.0, description='Training', layout=Layout(flex='2'), max=1125.0, style=Pro…"
      ]
     },
     "metadata": {},
     "output_type": "display_data"
    },
    {
     "name": "stdout",
     "output_type": "stream",
     "text": [
      "Epoch 287: train=1.21314, val=1.09583, took 38.503 s\n"
     ]
    },
    {
     "data": {
      "application/vnd.jupyter.widget-view+json": {
       "model_id": "",
       "version_major": 2,
       "version_minor": 0
      },
      "text/plain": [
       "HBox(children=(FloatProgress(value=0.0, description='Training', layout=Layout(flex='2'), max=1125.0, style=Pro…"
      ]
     },
     "metadata": {},
     "output_type": "display_data"
    },
    {
     "name": "stdout",
     "output_type": "stream",
     "text": [
      "Epoch 288: train=1.20896, val=1.07912, took 38.245 s\n"
     ]
    },
    {
     "data": {
      "application/vnd.jupyter.widget-view+json": {
       "model_id": "",
       "version_major": 2,
       "version_minor": 0
      },
      "text/plain": [
       "HBox(children=(FloatProgress(value=0.0, description='Training', layout=Layout(flex='2'), max=1125.0, style=Pro…"
      ]
     },
     "metadata": {},
     "output_type": "display_data"
    },
    {
     "name": "stdout",
     "output_type": "stream",
     "text": [
      "Epoch 289: train=1.21786, val=1.18297, took 38.212 s\n"
     ]
    },
    {
     "data": {
      "application/vnd.jupyter.widget-view+json": {
       "model_id": "",
       "version_major": 2,
       "version_minor": 0
      },
      "text/plain": [
       "HBox(children=(FloatProgress(value=0.0, description='Training', layout=Layout(flex='2'), max=1125.0, style=Pro…"
      ]
     },
     "metadata": {},
     "output_type": "display_data"
    },
    {
     "name": "stdout",
     "output_type": "stream",
     "text": [
      "Epoch 290: train=1.21087, val=1.14834, took 38.351 s\n"
     ]
    },
    {
     "data": {
      "application/vnd.jupyter.widget-view+json": {
       "model_id": "",
       "version_major": 2,
       "version_minor": 0
      },
      "text/plain": [
       "HBox(children=(FloatProgress(value=0.0, description='Training', layout=Layout(flex='2'), max=1125.0, style=Pro…"
      ]
     },
     "metadata": {},
     "output_type": "display_data"
    },
    {
     "name": "stdout",
     "output_type": "stream",
     "text": [
      "Epoch 291: train=1.20518, val=1.08139, took 38.242 s\n"
     ]
    },
    {
     "data": {
      "application/vnd.jupyter.widget-view+json": {
       "model_id": "",
       "version_major": 2,
       "version_minor": 0
      },
      "text/plain": [
       "HBox(children=(FloatProgress(value=0.0, description='Training', layout=Layout(flex='2'), max=1125.0, style=Pro…"
      ]
     },
     "metadata": {},
     "output_type": "display_data"
    },
    {
     "name": "stdout",
     "output_type": "stream",
     "text": [
      "Epoch 292: train=1.20766, val=1.18807, took 38.382 s\n"
     ]
    },
    {
     "data": {
      "application/vnd.jupyter.widget-view+json": {
       "model_id": "",
       "version_major": 2,
       "version_minor": 0
      },
      "text/plain": [
       "HBox(children=(FloatProgress(value=0.0, description='Training', layout=Layout(flex='2'), max=1125.0, style=Pro…"
      ]
     },
     "metadata": {},
     "output_type": "display_data"
    },
    {
     "name": "stdout",
     "output_type": "stream",
     "text": [
      "Epoch 293: train=1.20442, val=1.16481, took 38.421 s\n"
     ]
    },
    {
     "data": {
      "application/vnd.jupyter.widget-view+json": {
       "model_id": "",
       "version_major": 2,
       "version_minor": 0
      },
      "text/plain": [
       "HBox(children=(FloatProgress(value=0.0, description='Training', layout=Layout(flex='2'), max=1125.0, style=Pro…"
      ]
     },
     "metadata": {},
     "output_type": "display_data"
    },
    {
     "name": "stdout",
     "output_type": "stream",
     "text": [
      "Epoch 294: train=1.20747, val=1.13927, took 38.231 s\n"
     ]
    },
    {
     "data": {
      "application/vnd.jupyter.widget-view+json": {
       "model_id": "",
       "version_major": 2,
       "version_minor": 0
      },
      "text/plain": [
       "HBox(children=(FloatProgress(value=0.0, description='Training', layout=Layout(flex='2'), max=1125.0, style=Pro…"
      ]
     },
     "metadata": {},
     "output_type": "display_data"
    },
    {
     "name": "stdout",
     "output_type": "stream",
     "text": [
      "Epoch 295: train=1.20398, val=1.12324, took 38.27 s\n"
     ]
    },
    {
     "data": {
      "application/vnd.jupyter.widget-view+json": {
       "model_id": "",
       "version_major": 2,
       "version_minor": 0
      },
      "text/plain": [
       "HBox(children=(FloatProgress(value=0.0, description='Training', layout=Layout(flex='2'), max=1125.0, style=Pro…"
      ]
     },
     "metadata": {},
     "output_type": "display_data"
    },
    {
     "name": "stdout",
     "output_type": "stream",
     "text": [
      "Epoch 296: train=1.21445, val=1.09174, took 38.539 s\n"
     ]
    },
    {
     "data": {
      "application/vnd.jupyter.widget-view+json": {
       "model_id": "",
       "version_major": 2,
       "version_minor": 0
      },
      "text/plain": [
       "HBox(children=(FloatProgress(value=0.0, description='Training', layout=Layout(flex='2'), max=1125.0, style=Pro…"
      ]
     },
     "metadata": {},
     "output_type": "display_data"
    },
    {
     "name": "stdout",
     "output_type": "stream",
     "text": [
      "Epoch 297: train=1.20167, val=1.10231, took 38.84 s\n"
     ]
    },
    {
     "data": {
      "application/vnd.jupyter.widget-view+json": {
       "model_id": "",
       "version_major": 2,
       "version_minor": 0
      },
      "text/plain": [
       "HBox(children=(FloatProgress(value=0.0, description='Training', layout=Layout(flex='2'), max=1125.0, style=Pro…"
      ]
     },
     "metadata": {},
     "output_type": "display_data"
    },
    {
     "name": "stdout",
     "output_type": "stream",
     "text": [
      "Epoch 298: train=1.20888, val=1.09196, took 38.446 s\n"
     ]
    },
    {
     "data": {
      "application/vnd.jupyter.widget-view+json": {
       "model_id": "",
       "version_major": 2,
       "version_minor": 0
      },
      "text/plain": [
       "HBox(children=(FloatProgress(value=0.0, description='Training', layout=Layout(flex='2'), max=1125.0, style=Pro…"
      ]
     },
     "metadata": {},
     "output_type": "display_data"
    },
    {
     "name": "stdout",
     "output_type": "stream",
     "text": [
      "Epoch 299: train=1.21017, val=1.1674, took 38.338 s\n"
     ]
    },
    {
     "data": {
      "application/vnd.jupyter.widget-view+json": {
       "model_id": "",
       "version_major": 2,
       "version_minor": 0
      },
      "text/plain": [
       "HBox(children=(FloatProgress(value=0.0, description='Training', layout=Layout(flex='2'), max=1125.0, style=Pro…"
      ]
     },
     "metadata": {},
     "output_type": "display_data"
    },
    {
     "name": "stdout",
     "output_type": "stream",
     "text": [
      "Epoch 300: train=1.20278, val=1.16753, took 38.721 s\n"
     ]
    },
    {
     "data": {
      "application/vnd.jupyter.widget-view+json": {
       "model_id": "",
       "version_major": 2,
       "version_minor": 0
      },
      "text/plain": [
       "HBox(children=(FloatProgress(value=0.0, description='Training', layout=Layout(flex='2'), max=1125.0, style=Pro…"
      ]
     },
     "metadata": {},
     "output_type": "display_data"
    },
    {
     "name": "stdout",
     "output_type": "stream",
     "text": [
      "Epoch 301: train=1.21693, val=1.09875, took 38.621 s\n"
     ]
    },
    {
     "data": {
      "application/vnd.jupyter.widget-view+json": {
       "model_id": "",
       "version_major": 2,
       "version_minor": 0
      },
      "text/plain": [
       "HBox(children=(FloatProgress(value=0.0, description='Training', layout=Layout(flex='2'), max=1125.0, style=Pro…"
      ]
     },
     "metadata": {},
     "output_type": "display_data"
    },
    {
     "name": "stdout",
     "output_type": "stream",
     "text": [
      "Epoch 302: train=1.21186, val=1.09176, took 38.274 s\n"
     ]
    },
    {
     "data": {
      "application/vnd.jupyter.widget-view+json": {
       "model_id": "",
       "version_major": 2,
       "version_minor": 0
      },
      "text/plain": [
       "HBox(children=(FloatProgress(value=0.0, description='Training', layout=Layout(flex='2'), max=1125.0, style=Pro…"
      ]
     },
     "metadata": {},
     "output_type": "display_data"
    },
    {
     "name": "stdout",
     "output_type": "stream",
     "text": [
      "Epoch 303: train=1.20307, val=1.08204, took 38.426 s\n"
     ]
    },
    {
     "data": {
      "application/vnd.jupyter.widget-view+json": {
       "model_id": "",
       "version_major": 2,
       "version_minor": 0
      },
      "text/plain": [
       "HBox(children=(FloatProgress(value=0.0, description='Training', layout=Layout(flex='2'), max=1125.0, style=Pro…"
      ]
     },
     "metadata": {},
     "output_type": "display_data"
    },
    {
     "name": "stdout",
     "output_type": "stream",
     "text": [
      "Epoch 304: train=1.21275, val=1.08439, took 38.206 s\n"
     ]
    },
    {
     "data": {
      "application/vnd.jupyter.widget-view+json": {
       "model_id": "",
       "version_major": 2,
       "version_minor": 0
      },
      "text/plain": [
       "HBox(children=(FloatProgress(value=0.0, description='Training', layout=Layout(flex='2'), max=1125.0, style=Pro…"
      ]
     },
     "metadata": {},
     "output_type": "display_data"
    },
    {
     "name": "stdout",
     "output_type": "stream",
     "text": [
      "Epoch 305: train=1.21366, val=1.0989, took 38.058 s\n"
     ]
    },
    {
     "data": {
      "application/vnd.jupyter.widget-view+json": {
       "model_id": "",
       "version_major": 2,
       "version_minor": 0
      },
      "text/plain": [
       "HBox(children=(FloatProgress(value=0.0, description='Training', layout=Layout(flex='2'), max=1125.0, style=Pro…"
      ]
     },
     "metadata": {},
     "output_type": "display_data"
    },
    {
     "name": "stdout",
     "output_type": "stream",
     "text": [
      "Epoch 306: train=1.20369, val=1.09378, took 38.081 s\n"
     ]
    },
    {
     "data": {
      "application/vnd.jupyter.widget-view+json": {
       "model_id": "",
       "version_major": 2,
       "version_minor": 0
      },
      "text/plain": [
       "HBox(children=(FloatProgress(value=0.0, description='Training', layout=Layout(flex='2'), max=1125.0, style=Pro…"
      ]
     },
     "metadata": {},
     "output_type": "display_data"
    },
    {
     "name": "stdout",
     "output_type": "stream",
     "text": [
      "Epoch 307: train=1.21299, val=1.20169, took 38.363 s\n"
     ]
    },
    {
     "data": {
      "application/vnd.jupyter.widget-view+json": {
       "model_id": "",
       "version_major": 2,
       "version_minor": 0
      },
      "text/plain": [
       "HBox(children=(FloatProgress(value=0.0, description='Training', layout=Layout(flex='2'), max=1125.0, style=Pro…"
      ]
     },
     "metadata": {},
     "output_type": "display_data"
    },
    {
     "name": "stdout",
     "output_type": "stream",
     "text": [
      "Epoch 308: train=1.21323, val=1.16076, took 38.357 s\n"
     ]
    },
    {
     "data": {
      "application/vnd.jupyter.widget-view+json": {
       "model_id": "",
       "version_major": 2,
       "version_minor": 0
      },
      "text/plain": [
       "HBox(children=(FloatProgress(value=0.0, description='Training', layout=Layout(flex='2'), max=1125.0, style=Pro…"
      ]
     },
     "metadata": {},
     "output_type": "display_data"
    },
    {
     "name": "stdout",
     "output_type": "stream",
     "text": [
      "Epoch 309: train=1.21138, val=1.13604, took 38.759 s\n"
     ]
    },
    {
     "data": {
      "application/vnd.jupyter.widget-view+json": {
       "model_id": "",
       "version_major": 2,
       "version_minor": 0
      },
      "text/plain": [
       "HBox(children=(FloatProgress(value=0.0, description='Training', layout=Layout(flex='2'), max=1125.0, style=Pro…"
      ]
     },
     "metadata": {},
     "output_type": "display_data"
    },
    {
     "name": "stdout",
     "output_type": "stream",
     "text": [
      "Epoch 310: train=1.2045, val=1.10199, took 39.391 s\n"
     ]
    },
    {
     "data": {
      "application/vnd.jupyter.widget-view+json": {
       "model_id": "",
       "version_major": 2,
       "version_minor": 0
      },
      "text/plain": [
       "HBox(children=(FloatProgress(value=0.0, description='Training', layout=Layout(flex='2'), max=1125.0, style=Pro…"
      ]
     },
     "metadata": {},
     "output_type": "display_data"
    },
    {
     "name": "stdout",
     "output_type": "stream",
     "text": [
      "Epoch 311: train=1.20836, val=1.14992, took 39.774 s\n"
     ]
    },
    {
     "data": {
      "application/vnd.jupyter.widget-view+json": {
       "model_id": "",
       "version_major": 2,
       "version_minor": 0
      },
      "text/plain": [
       "HBox(children=(FloatProgress(value=0.0, description='Training', layout=Layout(flex='2'), max=1125.0, style=Pro…"
      ]
     },
     "metadata": {},
     "output_type": "display_data"
    },
    {
     "name": "stdout",
     "output_type": "stream",
     "text": [
      "Epoch 312: train=1.22504, val=1.14657, took 38.495 s\n"
     ]
    },
    {
     "data": {
      "application/vnd.jupyter.widget-view+json": {
       "model_id": "",
       "version_major": 2,
       "version_minor": 0
      },
      "text/plain": [
       "HBox(children=(FloatProgress(value=0.0, description='Training', layout=Layout(flex='2'), max=1125.0, style=Pro…"
      ]
     },
     "metadata": {},
     "output_type": "display_data"
    },
    {
     "name": "stdout",
     "output_type": "stream",
     "text": [
      "Epoch 313: train=1.20323, val=1.0792, took 39.207 s\n"
     ]
    },
    {
     "data": {
      "application/vnd.jupyter.widget-view+json": {
       "model_id": "",
       "version_major": 2,
       "version_minor": 0
      },
      "text/plain": [
       "HBox(children=(FloatProgress(value=0.0, description='Training', layout=Layout(flex='2'), max=1125.0, style=Pro…"
      ]
     },
     "metadata": {},
     "output_type": "display_data"
    },
    {
     "name": "stdout",
     "output_type": "stream",
     "text": [
      "Epoch 314: train=1.20157, val=1.08361, took 38.87 s\n"
     ]
    },
    {
     "data": {
      "application/vnd.jupyter.widget-view+json": {
       "model_id": "",
       "version_major": 2,
       "version_minor": 0
      },
      "text/plain": [
       "HBox(children=(FloatProgress(value=0.0, description='Training', layout=Layout(flex='2'), max=1125.0, style=Pro…"
      ]
     },
     "metadata": {},
     "output_type": "display_data"
    },
    {
     "name": "stdout",
     "output_type": "stream",
     "text": [
      "Epoch 315: train=1.22023, val=1.08991, took 39.594 s\n"
     ]
    },
    {
     "data": {
      "application/vnd.jupyter.widget-view+json": {
       "model_id": "",
       "version_major": 2,
       "version_minor": 0
      },
      "text/plain": [
       "HBox(children=(FloatProgress(value=0.0, description='Training', layout=Layout(flex='2'), max=1125.0, style=Pro…"
      ]
     },
     "metadata": {},
     "output_type": "display_data"
    },
    {
     "name": "stdout",
     "output_type": "stream",
     "text": [
      "Epoch 316: train=1.19895, val=1.11507, took 38.287 s\n"
     ]
    },
    {
     "data": {
      "application/vnd.jupyter.widget-view+json": {
       "model_id": "",
       "version_major": 2,
       "version_minor": 0
      },
      "text/plain": [
       "HBox(children=(FloatProgress(value=0.0, description='Training', layout=Layout(flex='2'), max=1125.0, style=Pro…"
      ]
     },
     "metadata": {},
     "output_type": "display_data"
    },
    {
     "name": "stdout",
     "output_type": "stream",
     "text": [
      "Epoch 317: train=1.20023, val=1.08722, took 38.221 s\n"
     ]
    },
    {
     "data": {
      "application/vnd.jupyter.widget-view+json": {
       "model_id": "",
       "version_major": 2,
       "version_minor": 0
      },
      "text/plain": [
       "HBox(children=(FloatProgress(value=0.0, description='Training', layout=Layout(flex='2'), max=1125.0, style=Pro…"
      ]
     },
     "metadata": {},
     "output_type": "display_data"
    },
    {
     "name": "stdout",
     "output_type": "stream",
     "text": [
      "Epoch 318: train=1.2072, val=1.08989, took 38.001 s\n"
     ]
    },
    {
     "data": {
      "application/vnd.jupyter.widget-view+json": {
       "model_id": "",
       "version_major": 2,
       "version_minor": 0
      },
      "text/plain": [
       "HBox(children=(FloatProgress(value=0.0, description='Training', layout=Layout(flex='2'), max=1125.0, style=Pro…"
      ]
     },
     "metadata": {},
     "output_type": "display_data"
    },
    {
     "name": "stdout",
     "output_type": "stream",
     "text": [
      "Epoch 319: train=1.20149, val=1.10629, took 38.239 s\n"
     ]
    },
    {
     "data": {
      "application/vnd.jupyter.widget-view+json": {
       "model_id": "",
       "version_major": 2,
       "version_minor": 0
      },
      "text/plain": [
       "HBox(children=(FloatProgress(value=0.0, description='Training', layout=Layout(flex='2'), max=1125.0, style=Pro…"
      ]
     },
     "metadata": {},
     "output_type": "display_data"
    },
    {
     "name": "stdout",
     "output_type": "stream",
     "text": [
      "Epoch 320: train=1.20439, val=1.11785, took 38.421 s\n"
     ]
    },
    {
     "data": {
      "application/vnd.jupyter.widget-view+json": {
       "model_id": "",
       "version_major": 2,
       "version_minor": 0
      },
      "text/plain": [
       "HBox(children=(FloatProgress(value=0.0, description='Training', layout=Layout(flex='2'), max=1125.0, style=Pro…"
      ]
     },
     "metadata": {},
     "output_type": "display_data"
    },
    {
     "name": "stdout",
     "output_type": "stream",
     "text": [
      "Epoch 321: train=1.20571, val=1.07611, took 39.302 s\n"
     ]
    },
    {
     "data": {
      "application/vnd.jupyter.widget-view+json": {
       "model_id": "",
       "version_major": 2,
       "version_minor": 0
      },
      "text/plain": [
       "HBox(children=(FloatProgress(value=0.0, description='Training', layout=Layout(flex='2'), max=1125.0, style=Pro…"
      ]
     },
     "metadata": {},
     "output_type": "display_data"
    },
    {
     "name": "stdout",
     "output_type": "stream",
     "text": [
      "Epoch 322: train=1.19426, val=1.10898, took 38.246 s\n"
     ]
    },
    {
     "data": {
      "application/vnd.jupyter.widget-view+json": {
       "model_id": "",
       "version_major": 2,
       "version_minor": 0
      },
      "text/plain": [
       "HBox(children=(FloatProgress(value=0.0, description='Training', layout=Layout(flex='2'), max=1125.0, style=Pro…"
      ]
     },
     "metadata": {},
     "output_type": "display_data"
    },
    {
     "name": "stdout",
     "output_type": "stream",
     "text": [
      "Epoch 323: train=1.21145, val=1.08866, took 38.416 s\n"
     ]
    },
    {
     "data": {
      "application/vnd.jupyter.widget-view+json": {
       "model_id": "",
       "version_major": 2,
       "version_minor": 0
      },
      "text/plain": [
       "HBox(children=(FloatProgress(value=0.0, description='Training', layout=Layout(flex='2'), max=1125.0, style=Pro…"
      ]
     },
     "metadata": {},
     "output_type": "display_data"
    },
    {
     "name": "stdout",
     "output_type": "stream",
     "text": [
      "Epoch 324: train=1.20186, val=1.07978, took 39.674 s\n"
     ]
    },
    {
     "data": {
      "application/vnd.jupyter.widget-view+json": {
       "model_id": "",
       "version_major": 2,
       "version_minor": 0
      },
      "text/plain": [
       "HBox(children=(FloatProgress(value=0.0, description='Training', layout=Layout(flex='2'), max=1125.0, style=Pro…"
      ]
     },
     "metadata": {},
     "output_type": "display_data"
    },
    {
     "name": "stdout",
     "output_type": "stream",
     "text": [
      "Epoch 325: train=1.21016, val=1.07668, took 38.075 s\n"
     ]
    },
    {
     "data": {
      "application/vnd.jupyter.widget-view+json": {
       "model_id": "",
       "version_major": 2,
       "version_minor": 0
      },
      "text/plain": [
       "HBox(children=(FloatProgress(value=0.0, description='Training', layout=Layout(flex='2'), max=1125.0, style=Pro…"
      ]
     },
     "metadata": {},
     "output_type": "display_data"
    },
    {
     "name": "stdout",
     "output_type": "stream",
     "text": [
      "Epoch 326: train=1.19952, val=1.10437, took 38.279 s\n"
     ]
    },
    {
     "data": {
      "application/vnd.jupyter.widget-view+json": {
       "model_id": "",
       "version_major": 2,
       "version_minor": 0
      },
      "text/plain": [
       "HBox(children=(FloatProgress(value=0.0, description='Training', layout=Layout(flex='2'), max=1125.0, style=Pro…"
      ]
     },
     "metadata": {},
     "output_type": "display_data"
    },
    {
     "name": "stdout",
     "output_type": "stream",
     "text": [
      "Epoch 327: train=1.20183, val=1.09168, took 38.217 s\n"
     ]
    },
    {
     "data": {
      "application/vnd.jupyter.widget-view+json": {
       "model_id": "",
       "version_major": 2,
       "version_minor": 0
      },
      "text/plain": [
       "HBox(children=(FloatProgress(value=0.0, description='Training', layout=Layout(flex='2'), max=1125.0, style=Pro…"
      ]
     },
     "metadata": {},
     "output_type": "display_data"
    },
    {
     "name": "stdout",
     "output_type": "stream",
     "text": [
      "Epoch 328: train=1.20788, val=1.12319, took 38.348 s\n"
     ]
    },
    {
     "data": {
      "application/vnd.jupyter.widget-view+json": {
       "model_id": "",
       "version_major": 2,
       "version_minor": 0
      },
      "text/plain": [
       "HBox(children=(FloatProgress(value=0.0, description='Training', layout=Layout(flex='2'), max=1125.0, style=Pro…"
      ]
     },
     "metadata": {},
     "output_type": "display_data"
    },
    {
     "name": "stdout",
     "output_type": "stream",
     "text": [
      "Epoch 329: train=1.21109, val=1.09782, took 38.398 s\n"
     ]
    },
    {
     "data": {
      "application/vnd.jupyter.widget-view+json": {
       "model_id": "",
       "version_major": 2,
       "version_minor": 0
      },
      "text/plain": [
       "HBox(children=(FloatProgress(value=0.0, description='Training', layout=Layout(flex='2'), max=1125.0, style=Pro…"
      ]
     },
     "metadata": {},
     "output_type": "display_data"
    },
    {
     "name": "stdout",
     "output_type": "stream",
     "text": [
      "Epoch 330: train=1.20179, val=1.07596, took 38.446 s\n"
     ]
    },
    {
     "data": {
      "application/vnd.jupyter.widget-view+json": {
       "model_id": "",
       "version_major": 2,
       "version_minor": 0
      },
      "text/plain": [
       "HBox(children=(FloatProgress(value=0.0, description='Training', layout=Layout(flex='2'), max=1125.0, style=Pro…"
      ]
     },
     "metadata": {},
     "output_type": "display_data"
    },
    {
     "name": "stdout",
     "output_type": "stream",
     "text": [
      "Epoch 331: train=1.20277, val=1.0917, took 38.709 s\n"
     ]
    },
    {
     "data": {
      "application/vnd.jupyter.widget-view+json": {
       "model_id": "",
       "version_major": 2,
       "version_minor": 0
      },
      "text/plain": [
       "HBox(children=(FloatProgress(value=0.0, description='Training', layout=Layout(flex='2'), max=1125.0, style=Pro…"
      ]
     },
     "metadata": {},
     "output_type": "display_data"
    },
    {
     "name": "stdout",
     "output_type": "stream",
     "text": [
      "Epoch 332: train=1.20001, val=1.08247, took 38.964 s\n"
     ]
    },
    {
     "data": {
      "application/vnd.jupyter.widget-view+json": {
       "model_id": "",
       "version_major": 2,
       "version_minor": 0
      },
      "text/plain": [
       "HBox(children=(FloatProgress(value=0.0, description='Training', layout=Layout(flex='2'), max=1125.0, style=Pro…"
      ]
     },
     "metadata": {},
     "output_type": "display_data"
    },
    {
     "name": "stdout",
     "output_type": "stream",
     "text": [
      "Epoch 333: train=1.19574, val=1.08158, took 38.139 s\n"
     ]
    },
    {
     "data": {
      "application/vnd.jupyter.widget-view+json": {
       "model_id": "",
       "version_major": 2,
       "version_minor": 0
      },
      "text/plain": [
       "HBox(children=(FloatProgress(value=0.0, description='Training', layout=Layout(flex='2'), max=1125.0, style=Pro…"
      ]
     },
     "metadata": {},
     "output_type": "display_data"
    },
    {
     "name": "stdout",
     "output_type": "stream",
     "text": [
      "Epoch 334: train=1.19541, val=1.07632, took 38.098 s\n"
     ]
    },
    {
     "data": {
      "application/vnd.jupyter.widget-view+json": {
       "model_id": "",
       "version_major": 2,
       "version_minor": 0
      },
      "text/plain": [
       "HBox(children=(FloatProgress(value=0.0, description='Training', layout=Layout(flex='2'), max=1125.0, style=Pro…"
      ]
     },
     "metadata": {},
     "output_type": "display_data"
    },
    {
     "name": "stdout",
     "output_type": "stream",
     "text": [
      "Epoch 335: train=1.20299, val=1.079, took 38.198 s\n"
     ]
    },
    {
     "data": {
      "application/vnd.jupyter.widget-view+json": {
       "model_id": "",
       "version_major": 2,
       "version_minor": 0
      },
      "text/plain": [
       "HBox(children=(FloatProgress(value=0.0, description='Training', layout=Layout(flex='2'), max=1125.0, style=Pro…"
      ]
     },
     "metadata": {},
     "output_type": "display_data"
    },
    {
     "name": "stdout",
     "output_type": "stream",
     "text": [
      "Epoch 336: train=1.19952, val=1.11207, took 38.528 s\n"
     ]
    },
    {
     "data": {
      "application/vnd.jupyter.widget-view+json": {
       "model_id": "",
       "version_major": 2,
       "version_minor": 0
      },
      "text/plain": [
       "HBox(children=(FloatProgress(value=0.0, description='Training', layout=Layout(flex='2'), max=1125.0, style=Pro…"
      ]
     },
     "metadata": {},
     "output_type": "display_data"
    },
    {
     "name": "stdout",
     "output_type": "stream",
     "text": [
      "Epoch 337: train=1.19413, val=1.0744, took 38.668 s\n"
     ]
    },
    {
     "data": {
      "application/vnd.jupyter.widget-view+json": {
       "model_id": "",
       "version_major": 2,
       "version_minor": 0
      },
      "text/plain": [
       "HBox(children=(FloatProgress(value=0.0, description='Training', layout=Layout(flex='2'), max=1125.0, style=Pro…"
      ]
     },
     "metadata": {},
     "output_type": "display_data"
    },
    {
     "name": "stdout",
     "output_type": "stream",
     "text": [
      "Epoch 338: train=1.19592, val=1.135, took 38.667 s\n"
     ]
    },
    {
     "data": {
      "application/vnd.jupyter.widget-view+json": {
       "model_id": "",
       "version_major": 2,
       "version_minor": 0
      },
      "text/plain": [
       "HBox(children=(FloatProgress(value=0.0, description='Training', layout=Layout(flex='2'), max=1125.0, style=Pro…"
      ]
     },
     "metadata": {},
     "output_type": "display_data"
    },
    {
     "name": "stdout",
     "output_type": "stream",
     "text": [
      "Epoch 339: train=1.20184, val=1.11654, took 38.588 s\n"
     ]
    },
    {
     "data": {
      "application/vnd.jupyter.widget-view+json": {
       "model_id": "",
       "version_major": 2,
       "version_minor": 0
      },
      "text/plain": [
       "HBox(children=(FloatProgress(value=0.0, description='Training', layout=Layout(flex='2'), max=1125.0, style=Pro…"
      ]
     },
     "metadata": {},
     "output_type": "display_data"
    },
    {
     "name": "stdout",
     "output_type": "stream",
     "text": [
      "Epoch 340: train=1.19177, val=1.0953, took 37.934 s\n"
     ]
    },
    {
     "data": {
      "application/vnd.jupyter.widget-view+json": {
       "model_id": "",
       "version_major": 2,
       "version_minor": 0
      },
      "text/plain": [
       "HBox(children=(FloatProgress(value=0.0, description='Training', layout=Layout(flex='2'), max=1125.0, style=Pro…"
      ]
     },
     "metadata": {},
     "output_type": "display_data"
    },
    {
     "name": "stdout",
     "output_type": "stream",
     "text": [
      "Epoch 341: train=1.2074, val=1.08012, took 38.819 s\n"
     ]
    },
    {
     "data": {
      "application/vnd.jupyter.widget-view+json": {
       "model_id": "",
       "version_major": 2,
       "version_minor": 0
      },
      "text/plain": [
       "HBox(children=(FloatProgress(value=0.0, description='Training', layout=Layout(flex='2'), max=1125.0, style=Pro…"
      ]
     },
     "metadata": {},
     "output_type": "display_data"
    },
    {
     "name": "stdout",
     "output_type": "stream",
     "text": [
      "Epoch 342: train=1.19117, val=1.1538, took 38.141 s\n"
     ]
    },
    {
     "data": {
      "application/vnd.jupyter.widget-view+json": {
       "model_id": "",
       "version_major": 2,
       "version_minor": 0
      },
      "text/plain": [
       "HBox(children=(FloatProgress(value=0.0, description='Training', layout=Layout(flex='2'), max=1125.0, style=Pro…"
      ]
     },
     "metadata": {},
     "output_type": "display_data"
    },
    {
     "name": "stdout",
     "output_type": "stream",
     "text": [
      "Epoch 343: train=1.19084, val=1.09902, took 38.359 s\n"
     ]
    },
    {
     "data": {
      "application/vnd.jupyter.widget-view+json": {
       "model_id": "",
       "version_major": 2,
       "version_minor": 0
      },
      "text/plain": [
       "HBox(children=(FloatProgress(value=0.0, description='Training', layout=Layout(flex='2'), max=1125.0, style=Pro…"
      ]
     },
     "metadata": {},
     "output_type": "display_data"
    },
    {
     "name": "stdout",
     "output_type": "stream",
     "text": [
      "Epoch 344: train=1.20819, val=1.3223, took 38.312 s\n"
     ]
    },
    {
     "data": {
      "application/vnd.jupyter.widget-view+json": {
       "model_id": "",
       "version_major": 2,
       "version_minor": 0
      },
      "text/plain": [
       "HBox(children=(FloatProgress(value=0.0, description='Training', layout=Layout(flex='2'), max=1125.0, style=Pro…"
      ]
     },
     "metadata": {},
     "output_type": "display_data"
    },
    {
     "name": "stdout",
     "output_type": "stream",
     "text": [
      "Epoch 345: train=1.1973, val=1.15852, took 40.061 s\n"
     ]
    },
    {
     "data": {
      "application/vnd.jupyter.widget-view+json": {
       "model_id": "",
       "version_major": 2,
       "version_minor": 0
      },
      "text/plain": [
       "HBox(children=(FloatProgress(value=0.0, description='Training', layout=Layout(flex='2'), max=1125.0, style=Pro…"
      ]
     },
     "metadata": {},
     "output_type": "display_data"
    },
    {
     "name": "stdout",
     "output_type": "stream",
     "text": [
      "Epoch 346: train=1.19878, val=1.15772, took 39.846 s\n"
     ]
    },
    {
     "data": {
      "application/vnd.jupyter.widget-view+json": {
       "model_id": "",
       "version_major": 2,
       "version_minor": 0
      },
      "text/plain": [
       "HBox(children=(FloatProgress(value=0.0, description='Training', layout=Layout(flex='2'), max=1125.0, style=Pro…"
      ]
     },
     "metadata": {},
     "output_type": "display_data"
    },
    {
     "name": "stdout",
     "output_type": "stream",
     "text": [
      "Epoch 347: train=1.1929, val=1.07506, took 39.85 s\n"
     ]
    },
    {
     "data": {
      "application/vnd.jupyter.widget-view+json": {
       "model_id": "",
       "version_major": 2,
       "version_minor": 0
      },
      "text/plain": [
       "HBox(children=(FloatProgress(value=0.0, description='Training', layout=Layout(flex='2'), max=1125.0, style=Pro…"
      ]
     },
     "metadata": {},
     "output_type": "display_data"
    },
    {
     "name": "stdout",
     "output_type": "stream",
     "text": [
      "Epoch 348: train=1.2034, val=1.17909, took 40.333 s\n"
     ]
    },
    {
     "data": {
      "application/vnd.jupyter.widget-view+json": {
       "model_id": "",
       "version_major": 2,
       "version_minor": 0
      },
      "text/plain": [
       "HBox(children=(FloatProgress(value=0.0, description='Training', layout=Layout(flex='2'), max=1125.0, style=Pro…"
      ]
     },
     "metadata": {},
     "output_type": "display_data"
    },
    {
     "name": "stdout",
     "output_type": "stream",
     "text": [
      "Epoch 349: train=1.20174, val=1.07621, took 38.216 s\n"
     ]
    },
    {
     "data": {
      "application/vnd.jupyter.widget-view+json": {
       "model_id": "",
       "version_major": 2,
       "version_minor": 0
      },
      "text/plain": [
       "HBox(children=(FloatProgress(value=0.0, description='Training', layout=Layout(flex='2'), max=1125.0, style=Pro…"
      ]
     },
     "metadata": {},
     "output_type": "display_data"
    },
    {
     "name": "stdout",
     "output_type": "stream",
     "text": [
      "Epoch 350: train=1.19477, val=1.07493, took 38.52 s\n"
     ]
    },
    {
     "data": {
      "application/vnd.jupyter.widget-view+json": {
       "model_id": "",
       "version_major": 2,
       "version_minor": 0
      },
      "text/plain": [
       "HBox(children=(FloatProgress(value=0.0, description='Training', layout=Layout(flex='2'), max=1125.0, style=Pro…"
      ]
     },
     "metadata": {},
     "output_type": "display_data"
    },
    {
     "name": "stdout",
     "output_type": "stream",
     "text": [
      "Epoch 351: train=1.1949, val=1.07835, took 38.271 s\n"
     ]
    },
    {
     "data": {
      "application/vnd.jupyter.widget-view+json": {
       "model_id": "",
       "version_major": 2,
       "version_minor": 0
      },
      "text/plain": [
       "HBox(children=(FloatProgress(value=0.0, description='Training', layout=Layout(flex='2'), max=1125.0, style=Pro…"
      ]
     },
     "metadata": {},
     "output_type": "display_data"
    },
    {
     "name": "stdout",
     "output_type": "stream",
     "text": [
      "Epoch 352: train=1.19533, val=1.0802, took 38.713 s\n"
     ]
    },
    {
     "data": {
      "application/vnd.jupyter.widget-view+json": {
       "model_id": "",
       "version_major": 2,
       "version_minor": 0
      },
      "text/plain": [
       "HBox(children=(FloatProgress(value=0.0, description='Training', layout=Layout(flex='2'), max=1125.0, style=Pro…"
      ]
     },
     "metadata": {},
     "output_type": "display_data"
    },
    {
     "name": "stdout",
     "output_type": "stream",
     "text": [
      "Epoch 353: train=1.18577, val=1.22, took 38.628 s\n"
     ]
    },
    {
     "data": {
      "application/vnd.jupyter.widget-view+json": {
       "model_id": "",
       "version_major": 2,
       "version_minor": 0
      },
      "text/plain": [
       "HBox(children=(FloatProgress(value=0.0, description='Training', layout=Layout(flex='2'), max=1125.0, style=Pro…"
      ]
     },
     "metadata": {},
     "output_type": "display_data"
    },
    {
     "name": "stdout",
     "output_type": "stream",
     "text": [
      "Epoch 354: train=1.19553, val=1.14865, took 39.136 s\n"
     ]
    },
    {
     "data": {
      "application/vnd.jupyter.widget-view+json": {
       "model_id": "",
       "version_major": 2,
       "version_minor": 0
      },
      "text/plain": [
       "HBox(children=(FloatProgress(value=0.0, description='Training', layout=Layout(flex='2'), max=1125.0, style=Pro…"
      ]
     },
     "metadata": {},
     "output_type": "display_data"
    },
    {
     "name": "stdout",
     "output_type": "stream",
     "text": [
      "Epoch 355: train=1.19845, val=1.08708, took 38.999 s\n"
     ]
    },
    {
     "data": {
      "application/vnd.jupyter.widget-view+json": {
       "model_id": "",
       "version_major": 2,
       "version_minor": 0
      },
      "text/plain": [
       "HBox(children=(FloatProgress(value=0.0, description='Training', layout=Layout(flex='2'), max=1125.0, style=Pro…"
      ]
     },
     "metadata": {},
     "output_type": "display_data"
    },
    {
     "name": "stdout",
     "output_type": "stream",
     "text": [
      "Epoch 356: train=1.20033, val=1.1681, took 38.726 s\n"
     ]
    },
    {
     "data": {
      "application/vnd.jupyter.widget-view+json": {
       "model_id": "",
       "version_major": 2,
       "version_minor": 0
      },
      "text/plain": [
       "HBox(children=(FloatProgress(value=0.0, description='Training', layout=Layout(flex='2'), max=1125.0, style=Pro…"
      ]
     },
     "metadata": {},
     "output_type": "display_data"
    },
    {
     "name": "stdout",
     "output_type": "stream",
     "text": [
      "Epoch 357: train=1.19755, val=1.07297, took 38.557 s\n"
     ]
    },
    {
     "data": {
      "application/vnd.jupyter.widget-view+json": {
       "model_id": "",
       "version_major": 2,
       "version_minor": 0
      },
      "text/plain": [
       "HBox(children=(FloatProgress(value=0.0, description='Training', layout=Layout(flex='2'), max=1125.0, style=Pro…"
      ]
     },
     "metadata": {},
     "output_type": "display_data"
    },
    {
     "name": "stdout",
     "output_type": "stream",
     "text": [
      "Epoch 358: train=1.19619, val=1.08085, took 38.732 s\n"
     ]
    },
    {
     "data": {
      "application/vnd.jupyter.widget-view+json": {
       "model_id": "",
       "version_major": 2,
       "version_minor": 0
      },
      "text/plain": [
       "HBox(children=(FloatProgress(value=0.0, description='Training', layout=Layout(flex='2'), max=1125.0, style=Pro…"
      ]
     },
     "metadata": {},
     "output_type": "display_data"
    },
    {
     "name": "stdout",
     "output_type": "stream",
     "text": [
      "Epoch 359: train=1.18893, val=1.25305, took 38.305 s\n"
     ]
    },
    {
     "data": {
      "application/vnd.jupyter.widget-view+json": {
       "model_id": "",
       "version_major": 2,
       "version_minor": 0
      },
      "text/plain": [
       "HBox(children=(FloatProgress(value=0.0, description='Training', layout=Layout(flex='2'), max=1125.0, style=Pro…"
      ]
     },
     "metadata": {},
     "output_type": "display_data"
    },
    {
     "name": "stdout",
     "output_type": "stream",
     "text": [
      "Epoch 360: train=1.19896, val=1.07878, took 38.274 s\n"
     ]
    },
    {
     "data": {
      "application/vnd.jupyter.widget-view+json": {
       "model_id": "",
       "version_major": 2,
       "version_minor": 0
      },
      "text/plain": [
       "HBox(children=(FloatProgress(value=0.0, description='Training', layout=Layout(flex='2'), max=1125.0, style=Pro…"
      ]
     },
     "metadata": {},
     "output_type": "display_data"
    },
    {
     "name": "stdout",
     "output_type": "stream",
     "text": [
      "Epoch 361: train=1.19352, val=1.08647, took 38.368 s\n"
     ]
    },
    {
     "data": {
      "application/vnd.jupyter.widget-view+json": {
       "model_id": "",
       "version_major": 2,
       "version_minor": 0
      },
      "text/plain": [
       "HBox(children=(FloatProgress(value=0.0, description='Training', layout=Layout(flex='2'), max=1125.0, style=Pro…"
      ]
     },
     "metadata": {},
     "output_type": "display_data"
    },
    {
     "name": "stdout",
     "output_type": "stream",
     "text": [
      "Epoch 362: train=1.19931, val=1.0773, took 38.307 s\n"
     ]
    },
    {
     "data": {
      "application/vnd.jupyter.widget-view+json": {
       "model_id": "",
       "version_major": 2,
       "version_minor": 0
      },
      "text/plain": [
       "HBox(children=(FloatProgress(value=0.0, description='Training', layout=Layout(flex='2'), max=1125.0, style=Pro…"
      ]
     },
     "metadata": {},
     "output_type": "display_data"
    },
    {
     "name": "stdout",
     "output_type": "stream",
     "text": [
      "Epoch 363: train=1.19791, val=1.08857, took 38.403 s\n"
     ]
    },
    {
     "data": {
      "application/vnd.jupyter.widget-view+json": {
       "model_id": "",
       "version_major": 2,
       "version_minor": 0
      },
      "text/plain": [
       "HBox(children=(FloatProgress(value=0.0, description='Training', layout=Layout(flex='2'), max=1125.0, style=Pro…"
      ]
     },
     "metadata": {},
     "output_type": "display_data"
    },
    {
     "name": "stdout",
     "output_type": "stream",
     "text": [
      "Epoch 364: train=1.18884, val=1.17373, took 38.473 s\n"
     ]
    },
    {
     "data": {
      "application/vnd.jupyter.widget-view+json": {
       "model_id": "",
       "version_major": 2,
       "version_minor": 0
      },
      "text/plain": [
       "HBox(children=(FloatProgress(value=0.0, description='Training', layout=Layout(flex='2'), max=1125.0, style=Pro…"
      ]
     },
     "metadata": {},
     "output_type": "display_data"
    },
    {
     "name": "stdout",
     "output_type": "stream",
     "text": [
      "Epoch 365: train=1.19218, val=1.08152, took 38.316 s\n"
     ]
    },
    {
     "data": {
      "application/vnd.jupyter.widget-view+json": {
       "model_id": "",
       "version_major": 2,
       "version_minor": 0
      },
      "text/plain": [
       "HBox(children=(FloatProgress(value=0.0, description='Training', layout=Layout(flex='2'), max=1125.0, style=Pro…"
      ]
     },
     "metadata": {},
     "output_type": "display_data"
    },
    {
     "name": "stdout",
     "output_type": "stream",
     "text": [
      "Epoch 366: train=1.18769, val=1.0726, took 38.473 s\n"
     ]
    },
    {
     "data": {
      "application/vnd.jupyter.widget-view+json": {
       "model_id": "",
       "version_major": 2,
       "version_minor": 0
      },
      "text/plain": [
       "HBox(children=(FloatProgress(value=0.0, description='Training', layout=Layout(flex='2'), max=1125.0, style=Pro…"
      ]
     },
     "metadata": {},
     "output_type": "display_data"
    },
    {
     "name": "stdout",
     "output_type": "stream",
     "text": [
      "Epoch 367: train=1.19683, val=1.11105, took 38.159 s\n"
     ]
    },
    {
     "data": {
      "application/vnd.jupyter.widget-view+json": {
       "model_id": "",
       "version_major": 2,
       "version_minor": 0
      },
      "text/plain": [
       "HBox(children=(FloatProgress(value=0.0, description='Training', layout=Layout(flex='2'), max=1125.0, style=Pro…"
      ]
     },
     "metadata": {},
     "output_type": "display_data"
    },
    {
     "name": "stdout",
     "output_type": "stream",
     "text": [
      "Epoch 368: train=1.20021, val=1.14194, took 38.953 s\n"
     ]
    },
    {
     "data": {
      "application/vnd.jupyter.widget-view+json": {
       "model_id": "",
       "version_major": 2,
       "version_minor": 0
      },
      "text/plain": [
       "HBox(children=(FloatProgress(value=0.0, description='Training', layout=Layout(flex='2'), max=1125.0, style=Pro…"
      ]
     },
     "metadata": {},
     "output_type": "display_data"
    },
    {
     "name": "stdout",
     "output_type": "stream",
     "text": [
      "Epoch 369: train=1.19035, val=1.07437, took 38.216 s\n"
     ]
    },
    {
     "data": {
      "application/vnd.jupyter.widget-view+json": {
       "model_id": "",
       "version_major": 2,
       "version_minor": 0
      },
      "text/plain": [
       "HBox(children=(FloatProgress(value=0.0, description='Training', layout=Layout(flex='2'), max=1125.0, style=Pro…"
      ]
     },
     "metadata": {},
     "output_type": "display_data"
    },
    {
     "name": "stdout",
     "output_type": "stream",
     "text": [
      "Epoch 370: train=1.18946, val=1.06636, took 38.553 s\n"
     ]
    },
    {
     "data": {
      "application/vnd.jupyter.widget-view+json": {
       "model_id": "",
       "version_major": 2,
       "version_minor": 0
      },
      "text/plain": [
       "HBox(children=(FloatProgress(value=0.0, description='Training', layout=Layout(flex='2'), max=1125.0, style=Pro…"
      ]
     },
     "metadata": {},
     "output_type": "display_data"
    },
    {
     "name": "stdout",
     "output_type": "stream",
     "text": [
      "Epoch 371: train=1.18871, val=1.07322, took 38.341 s\n"
     ]
    },
    {
     "data": {
      "application/vnd.jupyter.widget-view+json": {
       "model_id": "",
       "version_major": 2,
       "version_minor": 0
      },
      "text/plain": [
       "HBox(children=(FloatProgress(value=0.0, description='Training', layout=Layout(flex='2'), max=1125.0, style=Pro…"
      ]
     },
     "metadata": {},
     "output_type": "display_data"
    },
    {
     "name": "stdout",
     "output_type": "stream",
     "text": [
      "Epoch 372: train=1.1931, val=1.0752, took 39.122 s\n"
     ]
    },
    {
     "data": {
      "application/vnd.jupyter.widget-view+json": {
       "model_id": "",
       "version_major": 2,
       "version_minor": 0
      },
      "text/plain": [
       "HBox(children=(FloatProgress(value=0.0, description='Training', layout=Layout(flex='2'), max=1125.0, style=Pro…"
      ]
     },
     "metadata": {},
     "output_type": "display_data"
    },
    {
     "name": "stdout",
     "output_type": "stream",
     "text": [
      "Epoch 373: train=1.19544, val=1.08708, took 38.526 s\n"
     ]
    },
    {
     "data": {
      "application/vnd.jupyter.widget-view+json": {
       "model_id": "",
       "version_major": 2,
       "version_minor": 0
      },
      "text/plain": [
       "HBox(children=(FloatProgress(value=0.0, description='Training', layout=Layout(flex='2'), max=1125.0, style=Pro…"
      ]
     },
     "metadata": {},
     "output_type": "display_data"
    },
    {
     "name": "stdout",
     "output_type": "stream",
     "text": [
      "Epoch 374: train=1.18626, val=1.2439, took 38.398 s\n"
     ]
    },
    {
     "data": {
      "application/vnd.jupyter.widget-view+json": {
       "model_id": "",
       "version_major": 2,
       "version_minor": 0
      },
      "text/plain": [
       "HBox(children=(FloatProgress(value=0.0, description='Training', layout=Layout(flex='2'), max=1125.0, style=Pro…"
      ]
     },
     "metadata": {},
     "output_type": "display_data"
    },
    {
     "name": "stdout",
     "output_type": "stream",
     "text": [
      "Epoch 375: train=1.19556, val=1.10402, took 38.791 s\n"
     ]
    },
    {
     "data": {
      "application/vnd.jupyter.widget-view+json": {
       "model_id": "",
       "version_major": 2,
       "version_minor": 0
      },
      "text/plain": [
       "HBox(children=(FloatProgress(value=0.0, description='Training', layout=Layout(flex='2'), max=1125.0, style=Pro…"
      ]
     },
     "metadata": {},
     "output_type": "display_data"
    },
    {
     "name": "stdout",
     "output_type": "stream",
     "text": [
      "Epoch 376: train=1.18294, val=1.08029, took 41.288 s\n"
     ]
    },
    {
     "data": {
      "application/vnd.jupyter.widget-view+json": {
       "model_id": "",
       "version_major": 2,
       "version_minor": 0
      },
      "text/plain": [
       "HBox(children=(FloatProgress(value=0.0, description='Training', layout=Layout(flex='2'), max=1125.0, style=Pro…"
      ]
     },
     "metadata": {},
     "output_type": "display_data"
    },
    {
     "name": "stdout",
     "output_type": "stream",
     "text": [
      "Epoch 377: train=1.19348, val=1.08131, took 38.873 s\n"
     ]
    },
    {
     "data": {
      "application/vnd.jupyter.widget-view+json": {
       "model_id": "",
       "version_major": 2,
       "version_minor": 0
      },
      "text/plain": [
       "HBox(children=(FloatProgress(value=0.0, description='Training', layout=Layout(flex='2'), max=1125.0, style=Pro…"
      ]
     },
     "metadata": {},
     "output_type": "display_data"
    },
    {
     "name": "stdout",
     "output_type": "stream",
     "text": [
      "Epoch 378: train=1.20167, val=1.08069, took 38.534 s\n"
     ]
    },
    {
     "data": {
      "application/vnd.jupyter.widget-view+json": {
       "model_id": "",
       "version_major": 2,
       "version_minor": 0
      },
      "text/plain": [
       "HBox(children=(FloatProgress(value=0.0, description='Training', layout=Layout(flex='2'), max=1125.0, style=Pro…"
      ]
     },
     "metadata": {},
     "output_type": "display_data"
    },
    {
     "name": "stdout",
     "output_type": "stream",
     "text": [
      "Epoch 379: train=1.17884, val=1.07145, took 38.624 s\n"
     ]
    },
    {
     "data": {
      "application/vnd.jupyter.widget-view+json": {
       "model_id": "",
       "version_major": 2,
       "version_minor": 0
      },
      "text/plain": [
       "HBox(children=(FloatProgress(value=0.0, description='Training', layout=Layout(flex='2'), max=1125.0, style=Pro…"
      ]
     },
     "metadata": {},
     "output_type": "display_data"
    },
    {
     "name": "stdout",
     "output_type": "stream",
     "text": [
      "Epoch 380: train=1.18885, val=1.07039, took 38.857 s\n"
     ]
    },
    {
     "data": {
      "application/vnd.jupyter.widget-view+json": {
       "model_id": "",
       "version_major": 2,
       "version_minor": 0
      },
      "text/plain": [
       "HBox(children=(FloatProgress(value=0.0, description='Training', layout=Layout(flex='2'), max=1125.0, style=Pro…"
      ]
     },
     "metadata": {},
     "output_type": "display_data"
    },
    {
     "name": "stdout",
     "output_type": "stream",
     "text": [
      "Epoch 381: train=1.19417, val=1.08335, took 38.589 s\n"
     ]
    },
    {
     "data": {
      "application/vnd.jupyter.widget-view+json": {
       "model_id": "",
       "version_major": 2,
       "version_minor": 0
      },
      "text/plain": [
       "HBox(children=(FloatProgress(value=0.0, description='Training', layout=Layout(flex='2'), max=1125.0, style=Pro…"
      ]
     },
     "metadata": {},
     "output_type": "display_data"
    },
    {
     "name": "stdout",
     "output_type": "stream",
     "text": [
      "Epoch 382: train=1.19005, val=1.07428, took 39.06 s\n"
     ]
    },
    {
     "data": {
      "application/vnd.jupyter.widget-view+json": {
       "model_id": "",
       "version_major": 2,
       "version_minor": 0
      },
      "text/plain": [
       "HBox(children=(FloatProgress(value=0.0, description='Training', layout=Layout(flex='2'), max=1125.0, style=Pro…"
      ]
     },
     "metadata": {},
     "output_type": "display_data"
    },
    {
     "name": "stdout",
     "output_type": "stream",
     "text": [
      "Epoch 383: train=1.18791, val=1.07376, took 38.325 s\n"
     ]
    },
    {
     "data": {
      "application/vnd.jupyter.widget-view+json": {
       "model_id": "",
       "version_major": 2,
       "version_minor": 0
      },
      "text/plain": [
       "HBox(children=(FloatProgress(value=0.0, description='Training', layout=Layout(flex='2'), max=1125.0, style=Pro…"
      ]
     },
     "metadata": {},
     "output_type": "display_data"
    },
    {
     "name": "stdout",
     "output_type": "stream",
     "text": [
      "Epoch 384: train=1.19607, val=1.16153, took 38.246 s\n"
     ]
    },
    {
     "data": {
      "application/vnd.jupyter.widget-view+json": {
       "model_id": "",
       "version_major": 2,
       "version_minor": 0
      },
      "text/plain": [
       "HBox(children=(FloatProgress(value=0.0, description='Training', layout=Layout(flex='2'), max=1125.0, style=Pro…"
      ]
     },
     "metadata": {},
     "output_type": "display_data"
    },
    {
     "name": "stdout",
     "output_type": "stream",
     "text": [
      "Epoch 385: train=1.18816, val=1.08192, took 38.345 s\n"
     ]
    },
    {
     "data": {
      "application/vnd.jupyter.widget-view+json": {
       "model_id": "",
       "version_major": 2,
       "version_minor": 0
      },
      "text/plain": [
       "HBox(children=(FloatProgress(value=0.0, description='Training', layout=Layout(flex='2'), max=1125.0, style=Pro…"
      ]
     },
     "metadata": {},
     "output_type": "display_data"
    },
    {
     "name": "stdout",
     "output_type": "stream",
     "text": [
      "Epoch 386: train=1.19422, val=1.0714, took 38.139 s\n"
     ]
    },
    {
     "data": {
      "application/vnd.jupyter.widget-view+json": {
       "model_id": "",
       "version_major": 2,
       "version_minor": 0
      },
      "text/plain": [
       "HBox(children=(FloatProgress(value=0.0, description='Training', layout=Layout(flex='2'), max=1125.0, style=Pro…"
      ]
     },
     "metadata": {},
     "output_type": "display_data"
    },
    {
     "name": "stdout",
     "output_type": "stream",
     "text": [
      "Epoch 387: train=1.18523, val=1.22019, took 40.499 s\n"
     ]
    },
    {
     "data": {
      "application/vnd.jupyter.widget-view+json": {
       "model_id": "",
       "version_major": 2,
       "version_minor": 0
      },
      "text/plain": [
       "HBox(children=(FloatProgress(value=0.0, description='Training', layout=Layout(flex='2'), max=1125.0, style=Pro…"
      ]
     },
     "metadata": {},
     "output_type": "display_data"
    },
    {
     "name": "stdout",
     "output_type": "stream",
     "text": [
      "Epoch 388: train=1.19105, val=1.06591, took 40.851 s\n"
     ]
    },
    {
     "data": {
      "application/vnd.jupyter.widget-view+json": {
       "model_id": "",
       "version_major": 2,
       "version_minor": 0
      },
      "text/plain": [
       "HBox(children=(FloatProgress(value=0.0, description='Training', layout=Layout(flex='2'), max=1125.0, style=Pro…"
      ]
     },
     "metadata": {},
     "output_type": "display_data"
    },
    {
     "name": "stdout",
     "output_type": "stream",
     "text": [
      "Epoch 389: train=1.1924, val=1.15375, took 39.051 s\n"
     ]
    },
    {
     "data": {
      "application/vnd.jupyter.widget-view+json": {
       "model_id": "",
       "version_major": 2,
       "version_minor": 0
      },
      "text/plain": [
       "HBox(children=(FloatProgress(value=0.0, description='Training', layout=Layout(flex='2'), max=1125.0, style=Pro…"
      ]
     },
     "metadata": {},
     "output_type": "display_data"
    },
    {
     "name": "stdout",
     "output_type": "stream",
     "text": [
      "Epoch 390: train=1.18906, val=1.07671, took 38.399 s\n"
     ]
    },
    {
     "data": {
      "application/vnd.jupyter.widget-view+json": {
       "model_id": "",
       "version_major": 2,
       "version_minor": 0
      },
      "text/plain": [
       "HBox(children=(FloatProgress(value=0.0, description='Training', layout=Layout(flex='2'), max=1125.0, style=Pro…"
      ]
     },
     "metadata": {},
     "output_type": "display_data"
    },
    {
     "name": "stdout",
     "output_type": "stream",
     "text": [
      "Epoch 391: train=1.18545, val=1.081, took 38.39 s\n"
     ]
    },
    {
     "data": {
      "application/vnd.jupyter.widget-view+json": {
       "model_id": "",
       "version_major": 2,
       "version_minor": 0
      },
      "text/plain": [
       "HBox(children=(FloatProgress(value=0.0, description='Training', layout=Layout(flex='2'), max=1125.0, style=Pro…"
      ]
     },
     "metadata": {},
     "output_type": "display_data"
    },
    {
     "name": "stdout",
     "output_type": "stream",
     "text": [
      "Epoch 392: train=1.1848, val=1.06444, took 38.743 s\n"
     ]
    },
    {
     "data": {
      "application/vnd.jupyter.widget-view+json": {
       "model_id": "",
       "version_major": 2,
       "version_minor": 0
      },
      "text/plain": [
       "HBox(children=(FloatProgress(value=0.0, description='Training', layout=Layout(flex='2'), max=1125.0, style=Pro…"
      ]
     },
     "metadata": {},
     "output_type": "display_data"
    },
    {
     "name": "stdout",
     "output_type": "stream",
     "text": [
      "Epoch 393: train=1.21314, val=1.08839, took 39.212 s\n"
     ]
    },
    {
     "data": {
      "application/vnd.jupyter.widget-view+json": {
       "model_id": "",
       "version_major": 2,
       "version_minor": 0
      },
      "text/plain": [
       "HBox(children=(FloatProgress(value=0.0, description='Training', layout=Layout(flex='2'), max=1125.0, style=Pro…"
      ]
     },
     "metadata": {},
     "output_type": "display_data"
    },
    {
     "name": "stdout",
     "output_type": "stream",
     "text": [
      "Epoch 394: train=1.191, val=1.18879, took 38.256 s\n"
     ]
    },
    {
     "data": {
      "application/vnd.jupyter.widget-view+json": {
       "model_id": "",
       "version_major": 2,
       "version_minor": 0
      },
      "text/plain": [
       "HBox(children=(FloatProgress(value=0.0, description='Training', layout=Layout(flex='2'), max=1125.0, style=Pro…"
      ]
     },
     "metadata": {},
     "output_type": "display_data"
    },
    {
     "name": "stdout",
     "output_type": "stream",
     "text": [
      "Epoch 395: train=1.18557, val=1.08178, took 38.224 s\n"
     ]
    },
    {
     "data": {
      "application/vnd.jupyter.widget-view+json": {
       "model_id": "",
       "version_major": 2,
       "version_minor": 0
      },
      "text/plain": [
       "HBox(children=(FloatProgress(value=0.0, description='Training', layout=Layout(flex='2'), max=1125.0, style=Pro…"
      ]
     },
     "metadata": {},
     "output_type": "display_data"
    },
    {
     "name": "stdout",
     "output_type": "stream",
     "text": [
      "Epoch 396: train=1.18674, val=1.06627, took 40.204 s\n"
     ]
    },
    {
     "data": {
      "application/vnd.jupyter.widget-view+json": {
       "model_id": "",
       "version_major": 2,
       "version_minor": 0
      },
      "text/plain": [
       "HBox(children=(FloatProgress(value=0.0, description='Training', layout=Layout(flex='2'), max=1125.0, style=Pro…"
      ]
     },
     "metadata": {},
     "output_type": "display_data"
    },
    {
     "name": "stdout",
     "output_type": "stream",
     "text": [
      "Epoch 397: train=1.18299, val=1.09547, took 40.849 s\n"
     ]
    },
    {
     "data": {
      "application/vnd.jupyter.widget-view+json": {
       "model_id": "",
       "version_major": 2,
       "version_minor": 0
      },
      "text/plain": [
       "HBox(children=(FloatProgress(value=0.0, description='Training', layout=Layout(flex='2'), max=1125.0, style=Pro…"
      ]
     },
     "metadata": {},
     "output_type": "display_data"
    },
    {
     "name": "stdout",
     "output_type": "stream",
     "text": [
      "Epoch 398: train=1.18542, val=1.06801, took 41.177 s\n"
     ]
    },
    {
     "data": {
      "application/vnd.jupyter.widget-view+json": {
       "model_id": "",
       "version_major": 2,
       "version_minor": 0
      },
      "text/plain": [
       "HBox(children=(FloatProgress(value=0.0, description='Training', layout=Layout(flex='2'), max=1125.0, style=Pro…"
      ]
     },
     "metadata": {},
     "output_type": "display_data"
    },
    {
     "name": "stdout",
     "output_type": "stream",
     "text": [
      "Epoch 399: train=1.18702, val=1.06554, took 39.447 s\n"
     ]
    },
    {
     "data": {
      "application/vnd.jupyter.widget-view+json": {
       "model_id": "",
       "version_major": 2,
       "version_minor": 0
      },
      "text/plain": [
       "HBox(children=(FloatProgress(value=0.0, description='Training', layout=Layout(flex='2'), max=1125.0, style=Pro…"
      ]
     },
     "metadata": {},
     "output_type": "display_data"
    },
    {
     "name": "stdout",
     "output_type": "stream",
     "text": [
      "Epoch 400: train=1.18656, val=1.07625, took 39.499 s\n"
     ]
    },
    {
     "data": {
      "application/vnd.jupyter.widget-view+json": {
       "model_id": "",
       "version_major": 2,
       "version_minor": 0
      },
      "text/plain": [
       "HBox(children=(FloatProgress(value=0.0, description='Training', layout=Layout(flex='2'), max=1125.0, style=Pro…"
      ]
     },
     "metadata": {},
     "output_type": "display_data"
    },
    {
     "name": "stdout",
     "output_type": "stream",
     "text": [
      "Epoch 401: train=1.18806, val=1.07174, took 39.12 s\n"
     ]
    },
    {
     "data": {
      "application/vnd.jupyter.widget-view+json": {
       "model_id": "",
       "version_major": 2,
       "version_minor": 0
      },
      "text/plain": [
       "HBox(children=(FloatProgress(value=0.0, description='Training', layout=Layout(flex='2'), max=1125.0, style=Pro…"
      ]
     },
     "metadata": {},
     "output_type": "display_data"
    },
    {
     "name": "stdout",
     "output_type": "stream",
     "text": [
      "Epoch 402: train=1.18321, val=1.08086, took 38.579 s\n"
     ]
    },
    {
     "data": {
      "application/vnd.jupyter.widget-view+json": {
       "model_id": "",
       "version_major": 2,
       "version_minor": 0
      },
      "text/plain": [
       "HBox(children=(FloatProgress(value=0.0, description='Training', layout=Layout(flex='2'), max=1125.0, style=Pro…"
      ]
     },
     "metadata": {},
     "output_type": "display_data"
    },
    {
     "name": "stdout",
     "output_type": "stream",
     "text": [
      "Epoch 403: train=1.19318, val=1.06825, took 39.594 s\n"
     ]
    },
    {
     "data": {
      "application/vnd.jupyter.widget-view+json": {
       "model_id": "",
       "version_major": 2,
       "version_minor": 0
      },
      "text/plain": [
       "HBox(children=(FloatProgress(value=0.0, description='Training', layout=Layout(flex='2'), max=1125.0, style=Pro…"
      ]
     },
     "metadata": {},
     "output_type": "display_data"
    },
    {
     "name": "stdout",
     "output_type": "stream",
     "text": [
      "Epoch 404: train=1.17842, val=1.09187, took 39.216 s\n"
     ]
    },
    {
     "data": {
      "application/vnd.jupyter.widget-view+json": {
       "model_id": "",
       "version_major": 2,
       "version_minor": 0
      },
      "text/plain": [
       "HBox(children=(FloatProgress(value=0.0, description='Training', layout=Layout(flex='2'), max=1125.0, style=Pro…"
      ]
     },
     "metadata": {},
     "output_type": "display_data"
    },
    {
     "name": "stdout",
     "output_type": "stream",
     "text": [
      "Epoch 405: train=1.1924, val=1.127, took 38.581 s\n"
     ]
    },
    {
     "data": {
      "application/vnd.jupyter.widget-view+json": {
       "model_id": "",
       "version_major": 2,
       "version_minor": 0
      },
      "text/plain": [
       "HBox(children=(FloatProgress(value=0.0, description='Training', layout=Layout(flex='2'), max=1125.0, style=Pro…"
      ]
     },
     "metadata": {},
     "output_type": "display_data"
    },
    {
     "name": "stdout",
     "output_type": "stream",
     "text": [
      "Epoch 406: train=1.17495, val=1.12305, took 38.267 s\n"
     ]
    },
    {
     "data": {
      "application/vnd.jupyter.widget-view+json": {
       "model_id": "",
       "version_major": 2,
       "version_minor": 0
      },
      "text/plain": [
       "HBox(children=(FloatProgress(value=0.0, description='Training', layout=Layout(flex='2'), max=1125.0, style=Pro…"
      ]
     },
     "metadata": {},
     "output_type": "display_data"
    },
    {
     "name": "stdout",
     "output_type": "stream",
     "text": [
      "Epoch 407: train=1.18798, val=1.07047, took 40.553 s\n"
     ]
    },
    {
     "data": {
      "application/vnd.jupyter.widget-view+json": {
       "model_id": "",
       "version_major": 2,
       "version_minor": 0
      },
      "text/plain": [
       "HBox(children=(FloatProgress(value=0.0, description='Training', layout=Layout(flex='2'), max=1125.0, style=Pro…"
      ]
     },
     "metadata": {},
     "output_type": "display_data"
    },
    {
     "name": "stdout",
     "output_type": "stream",
     "text": [
      "Epoch 408: train=1.18109, val=1.1081, took 40.399 s\n"
     ]
    },
    {
     "data": {
      "application/vnd.jupyter.widget-view+json": {
       "model_id": "",
       "version_major": 2,
       "version_minor": 0
      },
      "text/plain": [
       "HBox(children=(FloatProgress(value=0.0, description='Training', layout=Layout(flex='2'), max=1125.0, style=Pro…"
      ]
     },
     "metadata": {},
     "output_type": "display_data"
    },
    {
     "name": "stdout",
     "output_type": "stream",
     "text": [
      "Epoch 409: train=1.1796, val=1.07228, took 39.882 s\n"
     ]
    },
    {
     "data": {
      "application/vnd.jupyter.widget-view+json": {
       "model_id": "",
       "version_major": 2,
       "version_minor": 0
      },
      "text/plain": [
       "HBox(children=(FloatProgress(value=0.0, description='Training', layout=Layout(flex='2'), max=1125.0, style=Pro…"
      ]
     },
     "metadata": {},
     "output_type": "display_data"
    },
    {
     "name": "stdout",
     "output_type": "stream",
     "text": [
      "Epoch 410: train=1.18271, val=1.13731, took 39.045 s\n"
     ]
    },
    {
     "data": {
      "application/vnd.jupyter.widget-view+json": {
       "model_id": "",
       "version_major": 2,
       "version_minor": 0
      },
      "text/plain": [
       "HBox(children=(FloatProgress(value=0.0, description='Training', layout=Layout(flex='2'), max=1125.0, style=Pro…"
      ]
     },
     "metadata": {},
     "output_type": "display_data"
    },
    {
     "name": "stdout",
     "output_type": "stream",
     "text": [
      "Epoch 411: train=1.19238, val=1.09987, took 38.715 s\n"
     ]
    },
    {
     "data": {
      "application/vnd.jupyter.widget-view+json": {
       "model_id": "",
       "version_major": 2,
       "version_minor": 0
      },
      "text/plain": [
       "HBox(children=(FloatProgress(value=0.0, description='Training', layout=Layout(flex='2'), max=1125.0, style=Pro…"
      ]
     },
     "metadata": {},
     "output_type": "display_data"
    },
    {
     "name": "stdout",
     "output_type": "stream",
     "text": [
      "Epoch 412: train=1.18965, val=1.06223, took 38.696 s\n"
     ]
    },
    {
     "data": {
      "application/vnd.jupyter.widget-view+json": {
       "model_id": "",
       "version_major": 2,
       "version_minor": 0
      },
      "text/plain": [
       "HBox(children=(FloatProgress(value=0.0, description='Training', layout=Layout(flex='2'), max=1125.0, style=Pro…"
      ]
     },
     "metadata": {},
     "output_type": "display_data"
    },
    {
     "name": "stdout",
     "output_type": "stream",
     "text": [
      "Epoch 413: train=1.17799, val=1.17619, took 40.363 s\n"
     ]
    },
    {
     "data": {
      "application/vnd.jupyter.widget-view+json": {
       "model_id": "",
       "version_major": 2,
       "version_minor": 0
      },
      "text/plain": [
       "HBox(children=(FloatProgress(value=0.0, description='Training', layout=Layout(flex='2'), max=1125.0, style=Pro…"
      ]
     },
     "metadata": {},
     "output_type": "display_data"
    },
    {
     "name": "stdout",
     "output_type": "stream",
     "text": [
      "Epoch 414: train=1.1872, val=1.06394, took 40.958 s\n"
     ]
    },
    {
     "data": {
      "application/vnd.jupyter.widget-view+json": {
       "model_id": "",
       "version_major": 2,
       "version_minor": 0
      },
      "text/plain": [
       "HBox(children=(FloatProgress(value=0.0, description='Training', layout=Layout(flex='2'), max=1125.0, style=Pro…"
      ]
     },
     "metadata": {},
     "output_type": "display_data"
    },
    {
     "name": "stdout",
     "output_type": "stream",
     "text": [
      "Epoch 415: train=1.1875, val=1.07925, took 39.954 s\n"
     ]
    },
    {
     "data": {
      "application/vnd.jupyter.widget-view+json": {
       "model_id": "",
       "version_major": 2,
       "version_minor": 0
      },
      "text/plain": [
       "HBox(children=(FloatProgress(value=0.0, description='Training', layout=Layout(flex='2'), max=1125.0, style=Pro…"
      ]
     },
     "metadata": {},
     "output_type": "display_data"
    },
    {
     "name": "stdout",
     "output_type": "stream",
     "text": [
      "Epoch 416: train=1.18501, val=1.13557, took 38.64 s\n"
     ]
    },
    {
     "data": {
      "application/vnd.jupyter.widget-view+json": {
       "model_id": "",
       "version_major": 2,
       "version_minor": 0
      },
      "text/plain": [
       "HBox(children=(FloatProgress(value=0.0, description='Training', layout=Layout(flex='2'), max=1125.0, style=Pro…"
      ]
     },
     "metadata": {},
     "output_type": "display_data"
    },
    {
     "name": "stdout",
     "output_type": "stream",
     "text": [
      "Epoch 417: train=1.17818, val=1.06642, took 38.606 s\n"
     ]
    },
    {
     "data": {
      "application/vnd.jupyter.widget-view+json": {
       "model_id": "",
       "version_major": 2,
       "version_minor": 0
      },
      "text/plain": [
       "HBox(children=(FloatProgress(value=0.0, description='Training', layout=Layout(flex='2'), max=1125.0, style=Pro…"
      ]
     },
     "metadata": {},
     "output_type": "display_data"
    },
    {
     "name": "stdout",
     "output_type": "stream",
     "text": [
      "Epoch 418: train=1.18878, val=1.15195, took 39.259 s\n"
     ]
    },
    {
     "data": {
      "application/vnd.jupyter.widget-view+json": {
       "model_id": "",
       "version_major": 2,
       "version_minor": 0
      },
      "text/plain": [
       "HBox(children=(FloatProgress(value=0.0, description='Training', layout=Layout(flex='2'), max=1125.0, style=Pro…"
      ]
     },
     "metadata": {},
     "output_type": "display_data"
    },
    {
     "name": "stdout",
     "output_type": "stream",
     "text": [
      "Epoch 419: train=1.17333, val=1.08296, took 38.388 s\n"
     ]
    },
    {
     "data": {
      "application/vnd.jupyter.widget-view+json": {
       "model_id": "",
       "version_major": 2,
       "version_minor": 0
      },
      "text/plain": [
       "HBox(children=(FloatProgress(value=0.0, description='Training', layout=Layout(flex='2'), max=1125.0, style=Pro…"
      ]
     },
     "metadata": {},
     "output_type": "display_data"
    },
    {
     "name": "stdout",
     "output_type": "stream",
     "text": [
      "Epoch 420: train=1.18619, val=1.07588, took 38.401 s\n"
     ]
    },
    {
     "data": {
      "application/vnd.jupyter.widget-view+json": {
       "model_id": "",
       "version_major": 2,
       "version_minor": 0
      },
      "text/plain": [
       "HBox(children=(FloatProgress(value=0.0, description='Training', layout=Layout(flex='2'), max=1125.0, style=Pro…"
      ]
     },
     "metadata": {},
     "output_type": "display_data"
    },
    {
     "name": "stdout",
     "output_type": "stream",
     "text": [
      "Epoch 421: train=1.17525, val=1.06797, took 38.218 s\n"
     ]
    },
    {
     "data": {
      "application/vnd.jupyter.widget-view+json": {
       "model_id": "",
       "version_major": 2,
       "version_minor": 0
      },
      "text/plain": [
       "HBox(children=(FloatProgress(value=0.0, description='Training', layout=Layout(flex='2'), max=1125.0, style=Pro…"
      ]
     },
     "metadata": {},
     "output_type": "display_data"
    },
    {
     "name": "stdout",
     "output_type": "stream",
     "text": [
      "Epoch 422: train=1.17954, val=1.06757, took 38.266 s\n"
     ]
    },
    {
     "data": {
      "application/vnd.jupyter.widget-view+json": {
       "model_id": "",
       "version_major": 2,
       "version_minor": 0
      },
      "text/plain": [
       "HBox(children=(FloatProgress(value=0.0, description='Training', layout=Layout(flex='2'), max=1125.0, style=Pro…"
      ]
     },
     "metadata": {},
     "output_type": "display_data"
    },
    {
     "name": "stdout",
     "output_type": "stream",
     "text": [
      "Epoch 423: train=1.18455, val=1.12634, took 38.729 s\n"
     ]
    },
    {
     "data": {
      "application/vnd.jupyter.widget-view+json": {
       "model_id": "",
       "version_major": 2,
       "version_minor": 0
      },
      "text/plain": [
       "HBox(children=(FloatProgress(value=0.0, description='Training', layout=Layout(flex='2'), max=1125.0, style=Pro…"
      ]
     },
     "metadata": {},
     "output_type": "display_data"
    },
    {
     "name": "stdout",
     "output_type": "stream",
     "text": [
      "Epoch 424: train=1.18236, val=1.07257, took 38.222 s\n"
     ]
    },
    {
     "data": {
      "application/vnd.jupyter.widget-view+json": {
       "model_id": "",
       "version_major": 2,
       "version_minor": 0
      },
      "text/plain": [
       "HBox(children=(FloatProgress(value=0.0, description='Training', layout=Layout(flex='2'), max=1125.0, style=Pro…"
      ]
     },
     "metadata": {},
     "output_type": "display_data"
    },
    {
     "name": "stdout",
     "output_type": "stream",
     "text": [
      "Epoch 425: train=1.1695, val=1.0616, took 38.456 s\n"
     ]
    },
    {
     "data": {
      "application/vnd.jupyter.widget-view+json": {
       "model_id": "",
       "version_major": 2,
       "version_minor": 0
      },
      "text/plain": [
       "HBox(children=(FloatProgress(value=0.0, description='Training', layout=Layout(flex='2'), max=1125.0, style=Pro…"
      ]
     },
     "metadata": {},
     "output_type": "display_data"
    },
    {
     "name": "stdout",
     "output_type": "stream",
     "text": [
      "Epoch 426: train=1.17975, val=1.07388, took 38.539 s\n"
     ]
    },
    {
     "data": {
      "application/vnd.jupyter.widget-view+json": {
       "model_id": "",
       "version_major": 2,
       "version_minor": 0
      },
      "text/plain": [
       "HBox(children=(FloatProgress(value=0.0, description='Training', layout=Layout(flex='2'), max=1125.0, style=Pro…"
      ]
     },
     "metadata": {},
     "output_type": "display_data"
    },
    {
     "name": "stdout",
     "output_type": "stream",
     "text": [
      "Epoch 427: train=1.18372, val=1.06085, took 38.428 s\n"
     ]
    },
    {
     "data": {
      "application/vnd.jupyter.widget-view+json": {
       "model_id": "",
       "version_major": 2,
       "version_minor": 0
      },
      "text/plain": [
       "HBox(children=(FloatProgress(value=0.0, description='Training', layout=Layout(flex='2'), max=1125.0, style=Pro…"
      ]
     },
     "metadata": {},
     "output_type": "display_data"
    },
    {
     "name": "stdout",
     "output_type": "stream",
     "text": [
      "Epoch 428: train=1.17655, val=1.07095, took 38.427 s\n"
     ]
    },
    {
     "data": {
      "application/vnd.jupyter.widget-view+json": {
       "model_id": "",
       "version_major": 2,
       "version_minor": 0
      },
      "text/plain": [
       "HBox(children=(FloatProgress(value=0.0, description='Training', layout=Layout(flex='2'), max=1125.0, style=Pro…"
      ]
     },
     "metadata": {},
     "output_type": "display_data"
    },
    {
     "name": "stdout",
     "output_type": "stream",
     "text": [
      "Epoch 429: train=1.19333, val=1.08414, took 38.415 s\n"
     ]
    },
    {
     "data": {
      "application/vnd.jupyter.widget-view+json": {
       "model_id": "",
       "version_major": 2,
       "version_minor": 0
      },
      "text/plain": [
       "HBox(children=(FloatProgress(value=0.0, description='Training', layout=Layout(flex='2'), max=1125.0, style=Pro…"
      ]
     },
     "metadata": {},
     "output_type": "display_data"
    },
    {
     "name": "stdout",
     "output_type": "stream",
     "text": [
      "Epoch 430: train=1.19379, val=1.07258, took 40.462 s\n"
     ]
    },
    {
     "data": {
      "application/vnd.jupyter.widget-view+json": {
       "model_id": "",
       "version_major": 2,
       "version_minor": 0
      },
      "text/plain": [
       "HBox(children=(FloatProgress(value=0.0, description='Training', layout=Layout(flex='2'), max=1125.0, style=Pro…"
      ]
     },
     "metadata": {},
     "output_type": "display_data"
    },
    {
     "name": "stdout",
     "output_type": "stream",
     "text": [
      "Epoch 431: train=1.1823, val=1.06868, took 39.364 s\n"
     ]
    },
    {
     "data": {
      "application/vnd.jupyter.widget-view+json": {
       "model_id": "",
       "version_major": 2,
       "version_minor": 0
      },
      "text/plain": [
       "HBox(children=(FloatProgress(value=0.0, description='Training', layout=Layout(flex='2'), max=1125.0, style=Pro…"
      ]
     },
     "metadata": {},
     "output_type": "display_data"
    },
    {
     "name": "stdout",
     "output_type": "stream",
     "text": [
      "Epoch 432: train=1.17586, val=1.06661, took 38.343 s\n"
     ]
    },
    {
     "data": {
      "application/vnd.jupyter.widget-view+json": {
       "model_id": "",
       "version_major": 2,
       "version_minor": 0
      },
      "text/plain": [
       "HBox(children=(FloatProgress(value=0.0, description='Training', layout=Layout(flex='2'), max=1125.0, style=Pro…"
      ]
     },
     "metadata": {},
     "output_type": "display_data"
    },
    {
     "name": "stdout",
     "output_type": "stream",
     "text": [
      "Epoch 433: train=1.1676, val=1.15084, took 38.352 s\n"
     ]
    },
    {
     "data": {
      "application/vnd.jupyter.widget-view+json": {
       "model_id": "",
       "version_major": 2,
       "version_minor": 0
      },
      "text/plain": [
       "HBox(children=(FloatProgress(value=0.0, description='Training', layout=Layout(flex='2'), max=1125.0, style=Pro…"
      ]
     },
     "metadata": {},
     "output_type": "display_data"
    },
    {
     "name": "stdout",
     "output_type": "stream",
     "text": [
      "Epoch 434: train=1.17757, val=1.08134, took 38.087 s\n"
     ]
    },
    {
     "data": {
      "application/vnd.jupyter.widget-view+json": {
       "model_id": "",
       "version_major": 2,
       "version_minor": 0
      },
      "text/plain": [
       "HBox(children=(FloatProgress(value=0.0, description='Training', layout=Layout(flex='2'), max=1125.0, style=Pro…"
      ]
     },
     "metadata": {},
     "output_type": "display_data"
    },
    {
     "name": "stdout",
     "output_type": "stream",
     "text": [
      "Epoch 435: train=1.17914, val=1.11793, took 38.424 s\n"
     ]
    },
    {
     "data": {
      "application/vnd.jupyter.widget-view+json": {
       "model_id": "",
       "version_major": 2,
       "version_minor": 0
      },
      "text/plain": [
       "HBox(children=(FloatProgress(value=0.0, description='Training', layout=Layout(flex='2'), max=1125.0, style=Pro…"
      ]
     },
     "metadata": {},
     "output_type": "display_data"
    },
    {
     "name": "stdout",
     "output_type": "stream",
     "text": [
      "Epoch 436: train=1.17182, val=1.07934, took 38.713 s\n"
     ]
    },
    {
     "data": {
      "application/vnd.jupyter.widget-view+json": {
       "model_id": "",
       "version_major": 2,
       "version_minor": 0
      },
      "text/plain": [
       "HBox(children=(FloatProgress(value=0.0, description='Training', layout=Layout(flex='2'), max=1125.0, style=Pro…"
      ]
     },
     "metadata": {},
     "output_type": "display_data"
    },
    {
     "name": "stdout",
     "output_type": "stream",
     "text": [
      "Epoch 437: train=1.17672, val=1.07325, took 38.512 s\n"
     ]
    },
    {
     "data": {
      "application/vnd.jupyter.widget-view+json": {
       "model_id": "",
       "version_major": 2,
       "version_minor": 0
      },
      "text/plain": [
       "HBox(children=(FloatProgress(value=0.0, description='Training', layout=Layout(flex='2'), max=1125.0, style=Pro…"
      ]
     },
     "metadata": {},
     "output_type": "display_data"
    },
    {
     "name": "stdout",
     "output_type": "stream",
     "text": [
      "Epoch 438: train=1.17625, val=1.07317, took 38.456 s\n"
     ]
    },
    {
     "data": {
      "application/vnd.jupyter.widget-view+json": {
       "model_id": "",
       "version_major": 2,
       "version_minor": 0
      },
      "text/plain": [
       "HBox(children=(FloatProgress(value=0.0, description='Training', layout=Layout(flex='2'), max=1125.0, style=Pro…"
      ]
     },
     "metadata": {},
     "output_type": "display_data"
    },
    {
     "name": "stdout",
     "output_type": "stream",
     "text": [
      "Epoch 439: train=1.17942, val=1.0614, took 38.396 s\n"
     ]
    },
    {
     "data": {
      "application/vnd.jupyter.widget-view+json": {
       "model_id": "",
       "version_major": 2,
       "version_minor": 0
      },
      "text/plain": [
       "HBox(children=(FloatProgress(value=0.0, description='Training', layout=Layout(flex='2'), max=1125.0, style=Pro…"
      ]
     },
     "metadata": {},
     "output_type": "display_data"
    },
    {
     "name": "stdout",
     "output_type": "stream",
     "text": [
      "Epoch 440: train=1.17728, val=1.09502, took 38.594 s\n"
     ]
    },
    {
     "data": {
      "application/vnd.jupyter.widget-view+json": {
       "model_id": "",
       "version_major": 2,
       "version_minor": 0
      },
      "text/plain": [
       "HBox(children=(FloatProgress(value=0.0, description='Training', layout=Layout(flex='2'), max=1125.0, style=Pro…"
      ]
     },
     "metadata": {},
     "output_type": "display_data"
    },
    {
     "name": "stdout",
     "output_type": "stream",
     "text": [
      "Epoch 441: train=1.17186, val=1.09642, took 38.14 s\n"
     ]
    },
    {
     "data": {
      "application/vnd.jupyter.widget-view+json": {
       "model_id": "",
       "version_major": 2,
       "version_minor": 0
      },
      "text/plain": [
       "HBox(children=(FloatProgress(value=0.0, description='Training', layout=Layout(flex='2'), max=1125.0, style=Pro…"
      ]
     },
     "metadata": {},
     "output_type": "display_data"
    },
    {
     "name": "stdout",
     "output_type": "stream",
     "text": [
      "Epoch 442: train=1.18212, val=1.10628, took 38.275 s\n"
     ]
    },
    {
     "data": {
      "application/vnd.jupyter.widget-view+json": {
       "model_id": "",
       "version_major": 2,
       "version_minor": 0
      },
      "text/plain": [
       "HBox(children=(FloatProgress(value=0.0, description='Training', layout=Layout(flex='2'), max=1125.0, style=Pro…"
      ]
     },
     "metadata": {},
     "output_type": "display_data"
    },
    {
     "name": "stdout",
     "output_type": "stream",
     "text": [
      "Epoch 443: train=1.16576, val=1.06355, took 38.166 s\n"
     ]
    },
    {
     "data": {
      "application/vnd.jupyter.widget-view+json": {
       "model_id": "",
       "version_major": 2,
       "version_minor": 0
      },
      "text/plain": [
       "HBox(children=(FloatProgress(value=0.0, description='Training', layout=Layout(flex='2'), max=1125.0, style=Pro…"
      ]
     },
     "metadata": {},
     "output_type": "display_data"
    },
    {
     "name": "stdout",
     "output_type": "stream",
     "text": [
      "Epoch 444: train=1.18199, val=1.1438, took 38.598 s\n"
     ]
    },
    {
     "data": {
      "application/vnd.jupyter.widget-view+json": {
       "model_id": "",
       "version_major": 2,
       "version_minor": 0
      },
      "text/plain": [
       "HBox(children=(FloatProgress(value=0.0, description='Training', layout=Layout(flex='2'), max=1125.0, style=Pro…"
      ]
     },
     "metadata": {},
     "output_type": "display_data"
    },
    {
     "name": "stdout",
     "output_type": "stream",
     "text": [
      "Epoch 445: train=1.16827, val=1.05819, took 38.344 s\n"
     ]
    },
    {
     "data": {
      "application/vnd.jupyter.widget-view+json": {
       "model_id": "",
       "version_major": 2,
       "version_minor": 0
      },
      "text/plain": [
       "HBox(children=(FloatProgress(value=0.0, description='Training', layout=Layout(flex='2'), max=1125.0, style=Pro…"
      ]
     },
     "metadata": {},
     "output_type": "display_data"
    },
    {
     "name": "stdout",
     "output_type": "stream",
     "text": [
      "Epoch 446: train=1.1822, val=1.0629, took 39.201 s\n"
     ]
    },
    {
     "data": {
      "application/vnd.jupyter.widget-view+json": {
       "model_id": "",
       "version_major": 2,
       "version_minor": 0
      },
      "text/plain": [
       "HBox(children=(FloatProgress(value=0.0, description='Training', layout=Layout(flex='2'), max=1125.0, style=Pro…"
      ]
     },
     "metadata": {},
     "output_type": "display_data"
    },
    {
     "name": "stdout",
     "output_type": "stream",
     "text": [
      "Epoch 447: train=1.1718, val=1.06794, took 38.101 s\n"
     ]
    },
    {
     "data": {
      "application/vnd.jupyter.widget-view+json": {
       "model_id": "",
       "version_major": 2,
       "version_minor": 0
      },
      "text/plain": [
       "HBox(children=(FloatProgress(value=0.0, description='Training', layout=Layout(flex='2'), max=1125.0, style=Pro…"
      ]
     },
     "metadata": {},
     "output_type": "display_data"
    },
    {
     "name": "stdout",
     "output_type": "stream",
     "text": [
      "Epoch 448: train=1.17008, val=1.05856, took 38.245 s\n"
     ]
    },
    {
     "data": {
      "application/vnd.jupyter.widget-view+json": {
       "model_id": "",
       "version_major": 2,
       "version_minor": 0
      },
      "text/plain": [
       "HBox(children=(FloatProgress(value=0.0, description='Training', layout=Layout(flex='2'), max=1125.0, style=Pro…"
      ]
     },
     "metadata": {},
     "output_type": "display_data"
    },
    {
     "name": "stdout",
     "output_type": "stream",
     "text": [
      "Epoch 449: train=1.18585, val=1.06498, took 38.528 s\n"
     ]
    },
    {
     "data": {
      "application/vnd.jupyter.widget-view+json": {
       "model_id": "",
       "version_major": 2,
       "version_minor": 0
      },
      "text/plain": [
       "HBox(children=(FloatProgress(value=0.0, description='Training', layout=Layout(flex='2'), max=1125.0, style=Pro…"
      ]
     },
     "metadata": {},
     "output_type": "display_data"
    },
    {
     "name": "stdout",
     "output_type": "stream",
     "text": [
      "Epoch 450: train=1.17314, val=1.08432, took 38.576 s\n"
     ]
    },
    {
     "data": {
      "application/vnd.jupyter.widget-view+json": {
       "model_id": "",
       "version_major": 2,
       "version_minor": 0
      },
      "text/plain": [
       "HBox(children=(FloatProgress(value=0.0, description='Training', layout=Layout(flex='2'), max=1125.0, style=Pro…"
      ]
     },
     "metadata": {},
     "output_type": "display_data"
    },
    {
     "name": "stdout",
     "output_type": "stream",
     "text": [
      "Epoch 451: train=1.17908, val=1.27446, took 38.877 s\n"
     ]
    },
    {
     "data": {
      "application/vnd.jupyter.widget-view+json": {
       "model_id": "",
       "version_major": 2,
       "version_minor": 0
      },
      "text/plain": [
       "HBox(children=(FloatProgress(value=0.0, description='Training', layout=Layout(flex='2'), max=1125.0, style=Pro…"
      ]
     },
     "metadata": {},
     "output_type": "display_data"
    },
    {
     "name": "stdout",
     "output_type": "stream",
     "text": [
      "Epoch 452: train=1.16899, val=1.27181, took 38.583 s\n"
     ]
    },
    {
     "data": {
      "application/vnd.jupyter.widget-view+json": {
       "model_id": "",
       "version_major": 2,
       "version_minor": 0
      },
      "text/plain": [
       "HBox(children=(FloatProgress(value=0.0, description='Training', layout=Layout(flex='2'), max=1125.0, style=Pro…"
      ]
     },
     "metadata": {},
     "output_type": "display_data"
    },
    {
     "name": "stdout",
     "output_type": "stream",
     "text": [
      "Epoch 453: train=1.17511, val=1.0577, took 38.651 s\n"
     ]
    },
    {
     "data": {
      "application/vnd.jupyter.widget-view+json": {
       "model_id": "",
       "version_major": 2,
       "version_minor": 0
      },
      "text/plain": [
       "HBox(children=(FloatProgress(value=0.0, description='Training', layout=Layout(flex='2'), max=1125.0, style=Pro…"
      ]
     },
     "metadata": {},
     "output_type": "display_data"
    },
    {
     "name": "stdout",
     "output_type": "stream",
     "text": [
      "Epoch 454: train=1.17877, val=1.07049, took 38.253 s\n"
     ]
    },
    {
     "data": {
      "application/vnd.jupyter.widget-view+json": {
       "model_id": "",
       "version_major": 2,
       "version_minor": 0
      },
      "text/plain": [
       "HBox(children=(FloatProgress(value=0.0, description='Training', layout=Layout(flex='2'), max=1125.0, style=Pro…"
      ]
     },
     "metadata": {},
     "output_type": "display_data"
    },
    {
     "name": "stdout",
     "output_type": "stream",
     "text": [
      "Epoch 455: train=1.17432, val=1.10689, took 38.507 s\n"
     ]
    },
    {
     "data": {
      "application/vnd.jupyter.widget-view+json": {
       "model_id": "",
       "version_major": 2,
       "version_minor": 0
      },
      "text/plain": [
       "HBox(children=(FloatProgress(value=0.0, description='Training', layout=Layout(flex='2'), max=1125.0, style=Pro…"
      ]
     },
     "metadata": {},
     "output_type": "display_data"
    },
    {
     "name": "stdout",
     "output_type": "stream",
     "text": [
      "Epoch 456: train=1.17074, val=1.05706, took 37.954 s\n"
     ]
    },
    {
     "data": {
      "application/vnd.jupyter.widget-view+json": {
       "model_id": "",
       "version_major": 2,
       "version_minor": 0
      },
      "text/plain": [
       "HBox(children=(FloatProgress(value=0.0, description='Training', layout=Layout(flex='2'), max=1125.0, style=Pro…"
      ]
     },
     "metadata": {},
     "output_type": "display_data"
    },
    {
     "name": "stdout",
     "output_type": "stream",
     "text": [
      "Epoch 457: train=1.17031, val=1.11303, took 38.086 s\n"
     ]
    },
    {
     "data": {
      "application/vnd.jupyter.widget-view+json": {
       "model_id": "",
       "version_major": 2,
       "version_minor": 0
      },
      "text/plain": [
       "HBox(children=(FloatProgress(value=0.0, description='Training', layout=Layout(flex='2'), max=1125.0, style=Pro…"
      ]
     },
     "metadata": {},
     "output_type": "display_data"
    },
    {
     "name": "stdout",
     "output_type": "stream",
     "text": [
      "Epoch 458: train=1.1739, val=1.05619, took 37.871 s\n"
     ]
    },
    {
     "data": {
      "application/vnd.jupyter.widget-view+json": {
       "model_id": "",
       "version_major": 2,
       "version_minor": 0
      },
      "text/plain": [
       "HBox(children=(FloatProgress(value=0.0, description='Training', layout=Layout(flex='2'), max=1125.0, style=Pro…"
      ]
     },
     "metadata": {},
     "output_type": "display_data"
    },
    {
     "name": "stdout",
     "output_type": "stream",
     "text": [
      "Epoch 459: train=1.18079, val=1.3557, took 38.357 s\n"
     ]
    },
    {
     "data": {
      "application/vnd.jupyter.widget-view+json": {
       "model_id": "",
       "version_major": 2,
       "version_minor": 0
      },
      "text/plain": [
       "HBox(children=(FloatProgress(value=0.0, description='Training', layout=Layout(flex='2'), max=1125.0, style=Pro…"
      ]
     },
     "metadata": {},
     "output_type": "display_data"
    },
    {
     "name": "stdout",
     "output_type": "stream",
     "text": [
      "Epoch 460: train=1.16764, val=1.05883, took 38.29 s\n"
     ]
    },
    {
     "data": {
      "application/vnd.jupyter.widget-view+json": {
       "model_id": "",
       "version_major": 2,
       "version_minor": 0
      },
      "text/plain": [
       "HBox(children=(FloatProgress(value=0.0, description='Training', layout=Layout(flex='2'), max=1125.0, style=Pro…"
      ]
     },
     "metadata": {},
     "output_type": "display_data"
    },
    {
     "name": "stdout",
     "output_type": "stream",
     "text": [
      "Epoch 461: train=1.16458, val=1.16764, took 38.166 s\n"
     ]
    },
    {
     "data": {
      "application/vnd.jupyter.widget-view+json": {
       "model_id": "",
       "version_major": 2,
       "version_minor": 0
      },
      "text/plain": [
       "HBox(children=(FloatProgress(value=0.0, description='Training', layout=Layout(flex='2'), max=1125.0, style=Pro…"
      ]
     },
     "metadata": {},
     "output_type": "display_data"
    },
    {
     "name": "stdout",
     "output_type": "stream",
     "text": [
      "Epoch 462: train=1.16462, val=1.07657, took 38.329 s\n"
     ]
    },
    {
     "data": {
      "application/vnd.jupyter.widget-view+json": {
       "model_id": "",
       "version_major": 2,
       "version_minor": 0
      },
      "text/plain": [
       "HBox(children=(FloatProgress(value=0.0, description='Training', layout=Layout(flex='2'), max=1125.0, style=Pro…"
      ]
     },
     "metadata": {},
     "output_type": "display_data"
    },
    {
     "name": "stdout",
     "output_type": "stream",
     "text": [
      "Epoch 463: train=1.17492, val=1.11061, took 38.152 s\n"
     ]
    },
    {
     "data": {
      "application/vnd.jupyter.widget-view+json": {
       "model_id": "",
       "version_major": 2,
       "version_minor": 0
      },
      "text/plain": [
       "HBox(children=(FloatProgress(value=0.0, description='Training', layout=Layout(flex='2'), max=1125.0, style=Pro…"
      ]
     },
     "metadata": {},
     "output_type": "display_data"
    },
    {
     "name": "stdout",
     "output_type": "stream",
     "text": [
      "Epoch 464: train=1.16868, val=1.05837, took 37.928 s\n"
     ]
    },
    {
     "data": {
      "application/vnd.jupyter.widget-view+json": {
       "model_id": "",
       "version_major": 2,
       "version_minor": 0
      },
      "text/plain": [
       "HBox(children=(FloatProgress(value=0.0, description='Training', layout=Layout(flex='2'), max=1125.0, style=Pro…"
      ]
     },
     "metadata": {},
     "output_type": "display_data"
    },
    {
     "name": "stdout",
     "output_type": "stream",
     "text": [
      "Epoch 465: train=1.17978, val=1.06705, took 37.888 s\n"
     ]
    },
    {
     "data": {
      "application/vnd.jupyter.widget-view+json": {
       "model_id": "",
       "version_major": 2,
       "version_minor": 0
      },
      "text/plain": [
       "HBox(children=(FloatProgress(value=0.0, description='Training', layout=Layout(flex='2'), max=1125.0, style=Pro…"
      ]
     },
     "metadata": {},
     "output_type": "display_data"
    },
    {
     "name": "stdout",
     "output_type": "stream",
     "text": [
      "Epoch 466: train=1.17034, val=1.06006, took 38.38 s\n"
     ]
    },
    {
     "data": {
      "application/vnd.jupyter.widget-view+json": {
       "model_id": "",
       "version_major": 2,
       "version_minor": 0
      },
      "text/plain": [
       "HBox(children=(FloatProgress(value=0.0, description='Training', layout=Layout(flex='2'), max=1125.0, style=Pro…"
      ]
     },
     "metadata": {},
     "output_type": "display_data"
    },
    {
     "name": "stdout",
     "output_type": "stream",
     "text": [
      "Epoch 467: train=1.17332, val=1.0581, took 38.802 s\n"
     ]
    },
    {
     "data": {
      "application/vnd.jupyter.widget-view+json": {
       "model_id": "",
       "version_major": 2,
       "version_minor": 0
      },
      "text/plain": [
       "HBox(children=(FloatProgress(value=0.0, description='Training', layout=Layout(flex='2'), max=1125.0, style=Pro…"
      ]
     },
     "metadata": {},
     "output_type": "display_data"
    },
    {
     "name": "stdout",
     "output_type": "stream",
     "text": [
      "Epoch 468: train=1.17129, val=1.06974, took 38.327 s\n"
     ]
    },
    {
     "data": {
      "application/vnd.jupyter.widget-view+json": {
       "model_id": "",
       "version_major": 2,
       "version_minor": 0
      },
      "text/plain": [
       "HBox(children=(FloatProgress(value=0.0, description='Training', layout=Layout(flex='2'), max=1125.0, style=Pro…"
      ]
     },
     "metadata": {},
     "output_type": "display_data"
    },
    {
     "name": "stdout",
     "output_type": "stream",
     "text": [
      "Epoch 469: train=1.16246, val=1.06367, took 38.286 s\n"
     ]
    },
    {
     "data": {
      "application/vnd.jupyter.widget-view+json": {
       "model_id": "",
       "version_major": 2,
       "version_minor": 0
      },
      "text/plain": [
       "HBox(children=(FloatProgress(value=0.0, description='Training', layout=Layout(flex='2'), max=1125.0, style=Pro…"
      ]
     },
     "metadata": {},
     "output_type": "display_data"
    },
    {
     "name": "stdout",
     "output_type": "stream",
     "text": [
      "Epoch 470: train=1.17243, val=1.20315, took 38.646 s\n"
     ]
    },
    {
     "data": {
      "application/vnd.jupyter.widget-view+json": {
       "model_id": "",
       "version_major": 2,
       "version_minor": 0
      },
      "text/plain": [
       "HBox(children=(FloatProgress(value=0.0, description='Training', layout=Layout(flex='2'), max=1125.0, style=Pro…"
      ]
     },
     "metadata": {},
     "output_type": "display_data"
    },
    {
     "name": "stdout",
     "output_type": "stream",
     "text": [
      "Epoch 471: train=1.18008, val=1.07508, took 38.142 s\n"
     ]
    },
    {
     "data": {
      "application/vnd.jupyter.widget-view+json": {
       "model_id": "",
       "version_major": 2,
       "version_minor": 0
      },
      "text/plain": [
       "HBox(children=(FloatProgress(value=0.0, description='Training', layout=Layout(flex='2'), max=1125.0, style=Pro…"
      ]
     },
     "metadata": {},
     "output_type": "display_data"
    },
    {
     "name": "stdout",
     "output_type": "stream",
     "text": [
      "Epoch 472: train=1.16655, val=1.0693, took 38.072 s\n"
     ]
    },
    {
     "data": {
      "application/vnd.jupyter.widget-view+json": {
       "model_id": "",
       "version_major": 2,
       "version_minor": 0
      },
      "text/plain": [
       "HBox(children=(FloatProgress(value=0.0, description='Training', layout=Layout(flex='2'), max=1125.0, style=Pro…"
      ]
     },
     "metadata": {},
     "output_type": "display_data"
    },
    {
     "name": "stdout",
     "output_type": "stream",
     "text": [
      "Epoch 473: train=1.17251, val=1.07425, took 38.696 s\n"
     ]
    },
    {
     "data": {
      "application/vnd.jupyter.widget-view+json": {
       "model_id": "",
       "version_major": 2,
       "version_minor": 0
      },
      "text/plain": [
       "HBox(children=(FloatProgress(value=0.0, description='Training', layout=Layout(flex='2'), max=1125.0, style=Pro…"
      ]
     },
     "metadata": {},
     "output_type": "display_data"
    },
    {
     "name": "stdout",
     "output_type": "stream",
     "text": [
      "Epoch 474: train=1.16375, val=1.06134, took 38.628 s\n"
     ]
    },
    {
     "data": {
      "application/vnd.jupyter.widget-view+json": {
       "model_id": "",
       "version_major": 2,
       "version_minor": 0
      },
      "text/plain": [
       "HBox(children=(FloatProgress(value=0.0, description='Training', layout=Layout(flex='2'), max=1125.0, style=Pro…"
      ]
     },
     "metadata": {},
     "output_type": "display_data"
    },
    {
     "name": "stdout",
     "output_type": "stream",
     "text": [
      "Epoch 475: train=1.17194, val=1.0523, took 38.162 s\n"
     ]
    },
    {
     "data": {
      "application/vnd.jupyter.widget-view+json": {
       "model_id": "",
       "version_major": 2,
       "version_minor": 0
      },
      "text/plain": [
       "HBox(children=(FloatProgress(value=0.0, description='Training', layout=Layout(flex='2'), max=1125.0, style=Pro…"
      ]
     },
     "metadata": {},
     "output_type": "display_data"
    },
    {
     "name": "stdout",
     "output_type": "stream",
     "text": [
      "Epoch 476: train=1.17047, val=1.1065, took 38.005 s\n"
     ]
    },
    {
     "data": {
      "application/vnd.jupyter.widget-view+json": {
       "model_id": "",
       "version_major": 2,
       "version_minor": 0
      },
      "text/plain": [
       "HBox(children=(FloatProgress(value=0.0, description='Training', layout=Layout(flex='2'), max=1125.0, style=Pro…"
      ]
     },
     "metadata": {},
     "output_type": "display_data"
    },
    {
     "name": "stdout",
     "output_type": "stream",
     "text": [
      "Epoch 477: train=1.16541, val=1.10099, took 38.278 s\n"
     ]
    },
    {
     "data": {
      "application/vnd.jupyter.widget-view+json": {
       "model_id": "",
       "version_major": 2,
       "version_minor": 0
      },
      "text/plain": [
       "HBox(children=(FloatProgress(value=0.0, description='Training', layout=Layout(flex='2'), max=1125.0, style=Pro…"
      ]
     },
     "metadata": {},
     "output_type": "display_data"
    },
    {
     "name": "stdout",
     "output_type": "stream",
     "text": [
      "Epoch 478: train=1.18731, val=1.08004, took 38.13 s\n"
     ]
    },
    {
     "data": {
      "application/vnd.jupyter.widget-view+json": {
       "model_id": "",
       "version_major": 2,
       "version_minor": 0
      },
      "text/plain": [
       "HBox(children=(FloatProgress(value=0.0, description='Training', layout=Layout(flex='2'), max=1125.0, style=Pro…"
      ]
     },
     "metadata": {},
     "output_type": "display_data"
    },
    {
     "name": "stdout",
     "output_type": "stream",
     "text": [
      "Epoch 479: train=1.16581, val=1.07343, took 38.093 s\n"
     ]
    },
    {
     "data": {
      "application/vnd.jupyter.widget-view+json": {
       "model_id": "",
       "version_major": 2,
       "version_minor": 0
      },
      "text/plain": [
       "HBox(children=(FloatProgress(value=0.0, description='Training', layout=Layout(flex='2'), max=1125.0, style=Pro…"
      ]
     },
     "metadata": {},
     "output_type": "display_data"
    },
    {
     "name": "stdout",
     "output_type": "stream",
     "text": [
      "Epoch 480: train=1.17043, val=1.06202, took 38.148 s\n"
     ]
    },
    {
     "data": {
      "application/vnd.jupyter.widget-view+json": {
       "model_id": "",
       "version_major": 2,
       "version_minor": 0
      },
      "text/plain": [
       "HBox(children=(FloatProgress(value=0.0, description='Training', layout=Layout(flex='2'), max=1125.0, style=Pro…"
      ]
     },
     "metadata": {},
     "output_type": "display_data"
    },
    {
     "name": "stdout",
     "output_type": "stream",
     "text": [
      "Epoch 481: train=1.16419, val=1.05436, took 38.486 s\n"
     ]
    },
    {
     "data": {
      "application/vnd.jupyter.widget-view+json": {
       "model_id": "",
       "version_major": 2,
       "version_minor": 0
      },
      "text/plain": [
       "HBox(children=(FloatProgress(value=0.0, description='Training', layout=Layout(flex='2'), max=1125.0, style=Pro…"
      ]
     },
     "metadata": {},
     "output_type": "display_data"
    },
    {
     "name": "stdout",
     "output_type": "stream",
     "text": [
      "Epoch 482: train=1.17443, val=1.05454, took 38.09 s\n"
     ]
    },
    {
     "data": {
      "application/vnd.jupyter.widget-view+json": {
       "model_id": "",
       "version_major": 2,
       "version_minor": 0
      },
      "text/plain": [
       "HBox(children=(FloatProgress(value=0.0, description='Training', layout=Layout(flex='2'), max=1125.0, style=Pro…"
      ]
     },
     "metadata": {},
     "output_type": "display_data"
    },
    {
     "name": "stdout",
     "output_type": "stream",
     "text": [
      "Epoch 483: train=1.16161, val=1.10204, took 38.949 s\n"
     ]
    },
    {
     "data": {
      "application/vnd.jupyter.widget-view+json": {
       "model_id": "",
       "version_major": 2,
       "version_minor": 0
      },
      "text/plain": [
       "HBox(children=(FloatProgress(value=0.0, description='Training', layout=Layout(flex='2'), max=1125.0, style=Pro…"
      ]
     },
     "metadata": {},
     "output_type": "display_data"
    },
    {
     "name": "stdout",
     "output_type": "stream",
     "text": [
      "Epoch 484: train=1.17524, val=1.05476, took 38.371 s\n"
     ]
    },
    {
     "data": {
      "application/vnd.jupyter.widget-view+json": {
       "model_id": "",
       "version_major": 2,
       "version_minor": 0
      },
      "text/plain": [
       "HBox(children=(FloatProgress(value=0.0, description='Training', layout=Layout(flex='2'), max=1125.0, style=Pro…"
      ]
     },
     "metadata": {},
     "output_type": "display_data"
    },
    {
     "name": "stdout",
     "output_type": "stream",
     "text": [
      "Epoch 485: train=1.16735, val=1.07546, took 37.947 s\n"
     ]
    },
    {
     "data": {
      "application/vnd.jupyter.widget-view+json": {
       "model_id": "",
       "version_major": 2,
       "version_minor": 0
      },
      "text/plain": [
       "HBox(children=(FloatProgress(value=0.0, description='Training', layout=Layout(flex='2'), max=1125.0, style=Pro…"
      ]
     },
     "metadata": {},
     "output_type": "display_data"
    },
    {
     "name": "stdout",
     "output_type": "stream",
     "text": [
      "Epoch 486: train=1.1589, val=1.23607, took 38.107 s\n"
     ]
    },
    {
     "data": {
      "application/vnd.jupyter.widget-view+json": {
       "model_id": "",
       "version_major": 2,
       "version_minor": 0
      },
      "text/plain": [
       "HBox(children=(FloatProgress(value=0.0, description='Training', layout=Layout(flex='2'), max=1125.0, style=Pro…"
      ]
     },
     "metadata": {},
     "output_type": "display_data"
    },
    {
     "name": "stdout",
     "output_type": "stream",
     "text": [
      "Epoch 487: train=1.1643, val=1.06475, took 37.966 s\n"
     ]
    },
    {
     "data": {
      "application/vnd.jupyter.widget-view+json": {
       "model_id": "",
       "version_major": 2,
       "version_minor": 0
      },
      "text/plain": [
       "HBox(children=(FloatProgress(value=0.0, description='Training', layout=Layout(flex='2'), max=1125.0, style=Pro…"
      ]
     },
     "metadata": {},
     "output_type": "display_data"
    },
    {
     "name": "stdout",
     "output_type": "stream",
     "text": [
      "Epoch 488: train=1.15998, val=1.05335, took 38.219 s\n"
     ]
    },
    {
     "data": {
      "application/vnd.jupyter.widget-view+json": {
       "model_id": "",
       "version_major": 2,
       "version_minor": 0
      },
      "text/plain": [
       "HBox(children=(FloatProgress(value=0.0, description='Training', layout=Layout(flex='2'), max=1125.0, style=Pro…"
      ]
     },
     "metadata": {},
     "output_type": "display_data"
    },
    {
     "name": "stdout",
     "output_type": "stream",
     "text": [
      "Epoch 489: train=1.16497, val=1.06516, took 38.746 s\n"
     ]
    },
    {
     "data": {
      "application/vnd.jupyter.widget-view+json": {
       "model_id": "",
       "version_major": 2,
       "version_minor": 0
      },
      "text/plain": [
       "HBox(children=(FloatProgress(value=0.0, description='Training', layout=Layout(flex='2'), max=1125.0, style=Pro…"
      ]
     },
     "metadata": {},
     "output_type": "display_data"
    },
    {
     "name": "stdout",
     "output_type": "stream",
     "text": [
      "Epoch 490: train=1.16845, val=1.0781, took 38.24 s\n"
     ]
    },
    {
     "data": {
      "application/vnd.jupyter.widget-view+json": {
       "model_id": "",
       "version_major": 2,
       "version_minor": 0
      },
      "text/plain": [
       "HBox(children=(FloatProgress(value=0.0, description='Training', layout=Layout(flex='2'), max=1125.0, style=Pro…"
      ]
     },
     "metadata": {},
     "output_type": "display_data"
    },
    {
     "name": "stdout",
     "output_type": "stream",
     "text": [
      "Epoch 491: train=1.1712, val=1.10069, took 38.205 s\n"
     ]
    },
    {
     "data": {
      "application/vnd.jupyter.widget-view+json": {
       "model_id": "",
       "version_major": 2,
       "version_minor": 0
      },
      "text/plain": [
       "HBox(children=(FloatProgress(value=0.0, description='Training', layout=Layout(flex='2'), max=1125.0, style=Pro…"
      ]
     },
     "metadata": {},
     "output_type": "display_data"
    },
    {
     "name": "stdout",
     "output_type": "stream",
     "text": [
      "Epoch 492: train=1.15995, val=1.05575, took 38.304 s\n"
     ]
    },
    {
     "data": {
      "application/vnd.jupyter.widget-view+json": {
       "model_id": "",
       "version_major": 2,
       "version_minor": 0
      },
      "text/plain": [
       "HBox(children=(FloatProgress(value=0.0, description='Training', layout=Layout(flex='2'), max=1125.0, style=Pro…"
      ]
     },
     "metadata": {},
     "output_type": "display_data"
    },
    {
     "name": "stdout",
     "output_type": "stream",
     "text": [
      "Epoch 493: train=1.16758, val=1.0543, took 37.934 s\n"
     ]
    },
    {
     "data": {
      "application/vnd.jupyter.widget-view+json": {
       "model_id": "",
       "version_major": 2,
       "version_minor": 0
      },
      "text/plain": [
       "HBox(children=(FloatProgress(value=0.0, description='Training', layout=Layout(flex='2'), max=1125.0, style=Pro…"
      ]
     },
     "metadata": {},
     "output_type": "display_data"
    },
    {
     "name": "stdout",
     "output_type": "stream",
     "text": [
      "Epoch 494: train=1.17251, val=1.06464, took 38.014 s\n"
     ]
    },
    {
     "data": {
      "application/vnd.jupyter.widget-view+json": {
       "model_id": "",
       "version_major": 2,
       "version_minor": 0
      },
      "text/plain": [
       "HBox(children=(FloatProgress(value=0.0, description='Training', layout=Layout(flex='2'), max=1125.0, style=Pro…"
      ]
     },
     "metadata": {},
     "output_type": "display_data"
    },
    {
     "name": "stdout",
     "output_type": "stream",
     "text": [
      "Epoch 495: train=1.16308, val=1.05632, took 38.174 s\n"
     ]
    },
    {
     "data": {
      "application/vnd.jupyter.widget-view+json": {
       "model_id": "",
       "version_major": 2,
       "version_minor": 0
      },
      "text/plain": [
       "HBox(children=(FloatProgress(value=0.0, description='Training', layout=Layout(flex='2'), max=1125.0, style=Pro…"
      ]
     },
     "metadata": {},
     "output_type": "display_data"
    },
    {
     "name": "stdout",
     "output_type": "stream",
     "text": [
      "Epoch 496: train=1.16434, val=1.07242, took 38.176 s\n"
     ]
    },
    {
     "data": {
      "application/vnd.jupyter.widget-view+json": {
       "model_id": "",
       "version_major": 2,
       "version_minor": 0
      },
      "text/plain": [
       "HBox(children=(FloatProgress(value=0.0, description='Training', layout=Layout(flex='2'), max=1125.0, style=Pro…"
      ]
     },
     "metadata": {},
     "output_type": "display_data"
    },
    {
     "name": "stdout",
     "output_type": "stream",
     "text": [
      "Epoch 497: train=1.1657, val=1.05057, took 37.896 s\n"
     ]
    },
    {
     "data": {
      "application/vnd.jupyter.widget-view+json": {
       "model_id": "",
       "version_major": 2,
       "version_minor": 0
      },
      "text/plain": [
       "HBox(children=(FloatProgress(value=0.0, description='Training', layout=Layout(flex='2'), max=1125.0, style=Pro…"
      ]
     },
     "metadata": {},
     "output_type": "display_data"
    },
    {
     "name": "stdout",
     "output_type": "stream",
     "text": [
      "Epoch 498: train=1.16541, val=1.0995, took 38.136 s\n"
     ]
    },
    {
     "data": {
      "application/vnd.jupyter.widget-view+json": {
       "model_id": "",
       "version_major": 2,
       "version_minor": 0
      },
      "text/plain": [
       "HBox(children=(FloatProgress(value=0.0, description='Training', layout=Layout(flex='2'), max=1125.0, style=Pro…"
      ]
     },
     "metadata": {},
     "output_type": "display_data"
    },
    {
     "name": "stdout",
     "output_type": "stream",
     "text": [
      "Epoch 499: train=1.17195, val=1.05375, took 38.268 s\n",
      "\n"
     ]
    }
   ],
   "source": [
    "for result in trainNet(model, optimizer, loss,\n",
    "                        train_loader, val_loader,\n",
    "                        n_epochs, epoch_start=len(results),\n",
    "                        notebook=True):\n",
    "    \n",
    "    results = results.append(pd.Series(result._asdict()), ignore_index=True)\n",
    "    xs = results.index\n",
    "    \n",
    "    # Update the plot above\n",
    "    lines['train'].set_data(results.index,results.cost)\n",
    "    lines['val'].set_data(results.index,results.val)\n",
    "    \n",
    "    #filter first cost epoch (can be really large)\n",
    "    max_cost = max(max(results.cost if len(results.cost)<2 else results.cost[1:]), max(results.val))\n",
    "    min_cost = min(min(results.cost), min(results.val))\n",
    "    \n",
    "    # The plot limits need updating too\n",
    "    \n",
    "    \n",
    "    \n",
    "    ax.set_ylim(min_cost*.9, max_cost*1.1)  \n",
    "    ax.set_xlim(-.5, len(results.cost) - .5)\n",
    "\n",
    "    \n",
    "    # Redraw the figure\n",
    "    fig.canvas.draw()\n",
    "\n",
    "    # Save each model state dictionary\n",
    "    torch.save(model.state_dict(), output / f'{name}_{result.epoch}.pyt')"
   ]
  },
  {
   "cell_type": "markdown",
   "metadata": {},
   "source": [
    "Go ahead and save the final model (even though it was also saved above):"
   ]
  },
  {
   "cell_type": "code",
   "execution_count": 18,
   "metadata": {},
   "outputs": [],
   "source": [
    "torch.save(model.state_dict(), output / f'{name}_final.pyt')"
   ]
  },
  {
   "cell_type": "markdown",
   "metadata": {},
   "source": [
    "Save the output results:"
   ]
  },
  {
   "cell_type": "code",
   "execution_count": 19,
   "metadata": {},
   "outputs": [],
   "source": [
    "results.to_hdf(f'{name}_stats.hdf5', 'results')"
   ]
  },
  {
   "cell_type": "markdown",
   "metadata": {},
   "source": [
    "Save the plot above:"
   ]
  },
  {
   "cell_type": "code",
   "execution_count": 20,
   "metadata": {},
   "outputs": [
    {
     "data": {
      "application/javascript": [
       "/* Put everything inside the global mpl namespace */\n",
       "window.mpl = {};\n",
       "\n",
       "\n",
       "mpl.get_websocket_type = function() {\n",
       "    if (typeof(WebSocket) !== 'undefined') {\n",
       "        return WebSocket;\n",
       "    } else if (typeof(MozWebSocket) !== 'undefined') {\n",
       "        return MozWebSocket;\n",
       "    } else {\n",
       "        alert('Your browser does not have WebSocket support. ' +\n",
       "              'Please try Chrome, Safari or Firefox ≥ 6. ' +\n",
       "              'Firefox 4 and 5 are also supported but you ' +\n",
       "              'have to enable WebSockets in about:config.');\n",
       "    };\n",
       "}\n",
       "\n",
       "mpl.figure = function(figure_id, websocket, ondownload, parent_element) {\n",
       "    this.id = figure_id;\n",
       "\n",
       "    this.ws = websocket;\n",
       "\n",
       "    this.supports_binary = (this.ws.binaryType != undefined);\n",
       "\n",
       "    if (!this.supports_binary) {\n",
       "        var warnings = document.getElementById(\"mpl-warnings\");\n",
       "        if (warnings) {\n",
       "            warnings.style.display = 'block';\n",
       "            warnings.textContent = (\n",
       "                \"This browser does not support binary websocket messages. \" +\n",
       "                    \"Performance may be slow.\");\n",
       "        }\n",
       "    }\n",
       "\n",
       "    this.imageObj = new Image();\n",
       "\n",
       "    this.context = undefined;\n",
       "    this.message = undefined;\n",
       "    this.canvas = undefined;\n",
       "    this.rubberband_canvas = undefined;\n",
       "    this.rubberband_context = undefined;\n",
       "    this.format_dropdown = undefined;\n",
       "\n",
       "    this.image_mode = 'full';\n",
       "\n",
       "    this.root = $('<div/>');\n",
       "    this._root_extra_style(this.root)\n",
       "    this.root.attr('style', 'display: inline-block');\n",
       "\n",
       "    $(parent_element).append(this.root);\n",
       "\n",
       "    this._init_header(this);\n",
       "    this._init_canvas(this);\n",
       "    this._init_toolbar(this);\n",
       "\n",
       "    var fig = this;\n",
       "\n",
       "    this.waiting = false;\n",
       "\n",
       "    this.ws.onopen =  function () {\n",
       "            fig.send_message(\"supports_binary\", {value: fig.supports_binary});\n",
       "            fig.send_message(\"send_image_mode\", {});\n",
       "            if (mpl.ratio != 1) {\n",
       "                fig.send_message(\"set_dpi_ratio\", {'dpi_ratio': mpl.ratio});\n",
       "            }\n",
       "            fig.send_message(\"refresh\", {});\n",
       "        }\n",
       "\n",
       "    this.imageObj.onload = function() {\n",
       "            if (fig.image_mode == 'full') {\n",
       "                // Full images could contain transparency (where diff images\n",
       "                // almost always do), so we need to clear the canvas so that\n",
       "                // there is no ghosting.\n",
       "                fig.context.clearRect(0, 0, fig.canvas.width, fig.canvas.height);\n",
       "            }\n",
       "            fig.context.drawImage(fig.imageObj, 0, 0);\n",
       "        };\n",
       "\n",
       "    this.imageObj.onunload = function() {\n",
       "        fig.ws.close();\n",
       "    }\n",
       "\n",
       "    this.ws.onmessage = this._make_on_message_function(this);\n",
       "\n",
       "    this.ondownload = ondownload;\n",
       "}\n",
       "\n",
       "mpl.figure.prototype._init_header = function() {\n",
       "    var titlebar = $(\n",
       "        '<div class=\"ui-dialog-titlebar ui-widget-header ui-corner-all ' +\n",
       "        'ui-helper-clearfix\"/>');\n",
       "    var titletext = $(\n",
       "        '<div class=\"ui-dialog-title\" style=\"width: 100%; ' +\n",
       "        'text-align: center; padding: 3px;\"/>');\n",
       "    titlebar.append(titletext)\n",
       "    this.root.append(titlebar);\n",
       "    this.header = titletext[0];\n",
       "}\n",
       "\n",
       "\n",
       "\n",
       "mpl.figure.prototype._canvas_extra_style = function(canvas_div) {\n",
       "\n",
       "}\n",
       "\n",
       "\n",
       "mpl.figure.prototype._root_extra_style = function(canvas_div) {\n",
       "\n",
       "}\n",
       "\n",
       "mpl.figure.prototype._init_canvas = function() {\n",
       "    var fig = this;\n",
       "\n",
       "    var canvas_div = $('<div/>');\n",
       "\n",
       "    canvas_div.attr('style', 'position: relative; clear: both; outline: 0');\n",
       "\n",
       "    function canvas_keyboard_event(event) {\n",
       "        return fig.key_event(event, event['data']);\n",
       "    }\n",
       "\n",
       "    canvas_div.keydown('key_press', canvas_keyboard_event);\n",
       "    canvas_div.keyup('key_release', canvas_keyboard_event);\n",
       "    this.canvas_div = canvas_div\n",
       "    this._canvas_extra_style(canvas_div)\n",
       "    this.root.append(canvas_div);\n",
       "\n",
       "    var canvas = $('<canvas/>');\n",
       "    canvas.addClass('mpl-canvas');\n",
       "    canvas.attr('style', \"left: 0; top: 0; z-index: 0; outline: 0\")\n",
       "\n",
       "    this.canvas = canvas[0];\n",
       "    this.context = canvas[0].getContext(\"2d\");\n",
       "\n",
       "    var backingStore = this.context.backingStorePixelRatio ||\n",
       "\tthis.context.webkitBackingStorePixelRatio ||\n",
       "\tthis.context.mozBackingStorePixelRatio ||\n",
       "\tthis.context.msBackingStorePixelRatio ||\n",
       "\tthis.context.oBackingStorePixelRatio ||\n",
       "\tthis.context.backingStorePixelRatio || 1;\n",
       "\n",
       "    mpl.ratio = (window.devicePixelRatio || 1) / backingStore;\n",
       "\n",
       "    var rubberband = $('<canvas/>');\n",
       "    rubberband.attr('style', \"position: absolute; left: 0; top: 0; z-index: 1;\")\n",
       "\n",
       "    var pass_mouse_events = true;\n",
       "\n",
       "    canvas_div.resizable({\n",
       "        start: function(event, ui) {\n",
       "            pass_mouse_events = false;\n",
       "        },\n",
       "        resize: function(event, ui) {\n",
       "            fig.request_resize(ui.size.width, ui.size.height);\n",
       "        },\n",
       "        stop: function(event, ui) {\n",
       "            pass_mouse_events = true;\n",
       "            fig.request_resize(ui.size.width, ui.size.height);\n",
       "        },\n",
       "    });\n",
       "\n",
       "    function mouse_event_fn(event) {\n",
       "        if (pass_mouse_events)\n",
       "            return fig.mouse_event(event, event['data']);\n",
       "    }\n",
       "\n",
       "    rubberband.mousedown('button_press', mouse_event_fn);\n",
       "    rubberband.mouseup('button_release', mouse_event_fn);\n",
       "    // Throttle sequential mouse events to 1 every 20ms.\n",
       "    rubberband.mousemove('motion_notify', mouse_event_fn);\n",
       "\n",
       "    rubberband.mouseenter('figure_enter', mouse_event_fn);\n",
       "    rubberband.mouseleave('figure_leave', mouse_event_fn);\n",
       "\n",
       "    canvas_div.on(\"wheel\", function (event) {\n",
       "        event = event.originalEvent;\n",
       "        event['data'] = 'scroll'\n",
       "        if (event.deltaY < 0) {\n",
       "            event.step = 1;\n",
       "        } else {\n",
       "            event.step = -1;\n",
       "        }\n",
       "        mouse_event_fn(event);\n",
       "    });\n",
       "\n",
       "    canvas_div.append(canvas);\n",
       "    canvas_div.append(rubberband);\n",
       "\n",
       "    this.rubberband = rubberband;\n",
       "    this.rubberband_canvas = rubberband[0];\n",
       "    this.rubberband_context = rubberband[0].getContext(\"2d\");\n",
       "    this.rubberband_context.strokeStyle = \"#000000\";\n",
       "\n",
       "    this._resize_canvas = function(width, height) {\n",
       "        // Keep the size of the canvas, canvas container, and rubber band\n",
       "        // canvas in synch.\n",
       "        canvas_div.css('width', width)\n",
       "        canvas_div.css('height', height)\n",
       "\n",
       "        canvas.attr('width', width * mpl.ratio);\n",
       "        canvas.attr('height', height * mpl.ratio);\n",
       "        canvas.attr('style', 'width: ' + width + 'px; height: ' + height + 'px;');\n",
       "\n",
       "        rubberband.attr('width', width);\n",
       "        rubberband.attr('height', height);\n",
       "    }\n",
       "\n",
       "    // Set the figure to an initial 600x600px, this will subsequently be updated\n",
       "    // upon first draw.\n",
       "    this._resize_canvas(600, 600);\n",
       "\n",
       "    // Disable right mouse context menu.\n",
       "    $(this.rubberband_canvas).bind(\"contextmenu\",function(e){\n",
       "        return false;\n",
       "    });\n",
       "\n",
       "    function set_focus () {\n",
       "        canvas.focus();\n",
       "        canvas_div.focus();\n",
       "    }\n",
       "\n",
       "    window.setTimeout(set_focus, 100);\n",
       "}\n",
       "\n",
       "mpl.figure.prototype._init_toolbar = function() {\n",
       "    var fig = this;\n",
       "\n",
       "    var nav_element = $('<div/>');\n",
       "    nav_element.attr('style', 'width: 100%');\n",
       "    this.root.append(nav_element);\n",
       "\n",
       "    // Define a callback function for later on.\n",
       "    function toolbar_event(event) {\n",
       "        return fig.toolbar_button_onclick(event['data']);\n",
       "    }\n",
       "    function toolbar_mouse_event(event) {\n",
       "        return fig.toolbar_button_onmouseover(event['data']);\n",
       "    }\n",
       "\n",
       "    for(var toolbar_ind in mpl.toolbar_items) {\n",
       "        var name = mpl.toolbar_items[toolbar_ind][0];\n",
       "        var tooltip = mpl.toolbar_items[toolbar_ind][1];\n",
       "        var image = mpl.toolbar_items[toolbar_ind][2];\n",
       "        var method_name = mpl.toolbar_items[toolbar_ind][3];\n",
       "\n",
       "        if (!name) {\n",
       "            // put a spacer in here.\n",
       "            continue;\n",
       "        }\n",
       "        var button = $('<button/>');\n",
       "        button.addClass('ui-button ui-widget ui-state-default ui-corner-all ' +\n",
       "                        'ui-button-icon-only');\n",
       "        button.attr('role', 'button');\n",
       "        button.attr('aria-disabled', 'false');\n",
       "        button.click(method_name, toolbar_event);\n",
       "        button.mouseover(tooltip, toolbar_mouse_event);\n",
       "\n",
       "        var icon_img = $('<span/>');\n",
       "        icon_img.addClass('ui-button-icon-primary ui-icon');\n",
       "        icon_img.addClass(image);\n",
       "        icon_img.addClass('ui-corner-all');\n",
       "\n",
       "        var tooltip_span = $('<span/>');\n",
       "        tooltip_span.addClass('ui-button-text');\n",
       "        tooltip_span.html(tooltip);\n",
       "\n",
       "        button.append(icon_img);\n",
       "        button.append(tooltip_span);\n",
       "\n",
       "        nav_element.append(button);\n",
       "    }\n",
       "\n",
       "    var fmt_picker_span = $('<span/>');\n",
       "\n",
       "    var fmt_picker = $('<select/>');\n",
       "    fmt_picker.addClass('mpl-toolbar-option ui-widget ui-widget-content');\n",
       "    fmt_picker_span.append(fmt_picker);\n",
       "    nav_element.append(fmt_picker_span);\n",
       "    this.format_dropdown = fmt_picker[0];\n",
       "\n",
       "    for (var ind in mpl.extensions) {\n",
       "        var fmt = mpl.extensions[ind];\n",
       "        var option = $(\n",
       "            '<option/>', {selected: fmt === mpl.default_extension}).html(fmt);\n",
       "        fmt_picker.append(option);\n",
       "    }\n",
       "\n",
       "    // Add hover states to the ui-buttons\n",
       "    $( \".ui-button\" ).hover(\n",
       "        function() { $(this).addClass(\"ui-state-hover\");},\n",
       "        function() { $(this).removeClass(\"ui-state-hover\");}\n",
       "    );\n",
       "\n",
       "    var status_bar = $('<span class=\"mpl-message\"/>');\n",
       "    nav_element.append(status_bar);\n",
       "    this.message = status_bar[0];\n",
       "}\n",
       "\n",
       "mpl.figure.prototype.request_resize = function(x_pixels, y_pixels) {\n",
       "    // Request matplotlib to resize the figure. Matplotlib will then trigger a resize in the client,\n",
       "    // which will in turn request a refresh of the image.\n",
       "    this.send_message('resize', {'width': x_pixels, 'height': y_pixels});\n",
       "}\n",
       "\n",
       "mpl.figure.prototype.send_message = function(type, properties) {\n",
       "    properties['type'] = type;\n",
       "    properties['figure_id'] = this.id;\n",
       "    this.ws.send(JSON.stringify(properties));\n",
       "}\n",
       "\n",
       "mpl.figure.prototype.send_draw_message = function() {\n",
       "    if (!this.waiting) {\n",
       "        this.waiting = true;\n",
       "        this.ws.send(JSON.stringify({type: \"draw\", figure_id: this.id}));\n",
       "    }\n",
       "}\n",
       "\n",
       "\n",
       "mpl.figure.prototype.handle_save = function(fig, msg) {\n",
       "    var format_dropdown = fig.format_dropdown;\n",
       "    var format = format_dropdown.options[format_dropdown.selectedIndex].value;\n",
       "    fig.ondownload(fig, format);\n",
       "}\n",
       "\n",
       "\n",
       "mpl.figure.prototype.handle_resize = function(fig, msg) {\n",
       "    var size = msg['size'];\n",
       "    if (size[0] != fig.canvas.width || size[1] != fig.canvas.height) {\n",
       "        fig._resize_canvas(size[0], size[1]);\n",
       "        fig.send_message(\"refresh\", {});\n",
       "    };\n",
       "}\n",
       "\n",
       "mpl.figure.prototype.handle_rubberband = function(fig, msg) {\n",
       "    var x0 = msg['x0'] / mpl.ratio;\n",
       "    var y0 = (fig.canvas.height - msg['y0']) / mpl.ratio;\n",
       "    var x1 = msg['x1'] / mpl.ratio;\n",
       "    var y1 = (fig.canvas.height - msg['y1']) / mpl.ratio;\n",
       "    x0 = Math.floor(x0) + 0.5;\n",
       "    y0 = Math.floor(y0) + 0.5;\n",
       "    x1 = Math.floor(x1) + 0.5;\n",
       "    y1 = Math.floor(y1) + 0.5;\n",
       "    var min_x = Math.min(x0, x1);\n",
       "    var min_y = Math.min(y0, y1);\n",
       "    var width = Math.abs(x1 - x0);\n",
       "    var height = Math.abs(y1 - y0);\n",
       "\n",
       "    fig.rubberband_context.clearRect(\n",
       "        0, 0, fig.canvas.width / mpl.ratio, fig.canvas.height / mpl.ratio);\n",
       "\n",
       "    fig.rubberband_context.strokeRect(min_x, min_y, width, height);\n",
       "}\n",
       "\n",
       "mpl.figure.prototype.handle_figure_label = function(fig, msg) {\n",
       "    // Updates the figure title.\n",
       "    fig.header.textContent = msg['label'];\n",
       "}\n",
       "\n",
       "mpl.figure.prototype.handle_cursor = function(fig, msg) {\n",
       "    var cursor = msg['cursor'];\n",
       "    switch(cursor)\n",
       "    {\n",
       "    case 0:\n",
       "        cursor = 'pointer';\n",
       "        break;\n",
       "    case 1:\n",
       "        cursor = 'default';\n",
       "        break;\n",
       "    case 2:\n",
       "        cursor = 'crosshair';\n",
       "        break;\n",
       "    case 3:\n",
       "        cursor = 'move';\n",
       "        break;\n",
       "    }\n",
       "    fig.rubberband_canvas.style.cursor = cursor;\n",
       "}\n",
       "\n",
       "mpl.figure.prototype.handle_message = function(fig, msg) {\n",
       "    fig.message.textContent = msg['message'];\n",
       "}\n",
       "\n",
       "mpl.figure.prototype.handle_draw = function(fig, msg) {\n",
       "    // Request the server to send over a new figure.\n",
       "    fig.send_draw_message();\n",
       "}\n",
       "\n",
       "mpl.figure.prototype.handle_image_mode = function(fig, msg) {\n",
       "    fig.image_mode = msg['mode'];\n",
       "}\n",
       "\n",
       "mpl.figure.prototype.updated_canvas_event = function() {\n",
       "    // Called whenever the canvas gets updated.\n",
       "    this.send_message(\"ack\", {});\n",
       "}\n",
       "\n",
       "// A function to construct a web socket function for onmessage handling.\n",
       "// Called in the figure constructor.\n",
       "mpl.figure.prototype._make_on_message_function = function(fig) {\n",
       "    return function socket_on_message(evt) {\n",
       "        if (evt.data instanceof Blob) {\n",
       "            /* FIXME: We get \"Resource interpreted as Image but\n",
       "             * transferred with MIME type text/plain:\" errors on\n",
       "             * Chrome.  But how to set the MIME type?  It doesn't seem\n",
       "             * to be part of the websocket stream */\n",
       "            evt.data.type = \"image/png\";\n",
       "\n",
       "            /* Free the memory for the previous frames */\n",
       "            if (fig.imageObj.src) {\n",
       "                (window.URL || window.webkitURL).revokeObjectURL(\n",
       "                    fig.imageObj.src);\n",
       "            }\n",
       "\n",
       "            fig.imageObj.src = (window.URL || window.webkitURL).createObjectURL(\n",
       "                evt.data);\n",
       "            fig.updated_canvas_event();\n",
       "            fig.waiting = false;\n",
       "            return;\n",
       "        }\n",
       "        else if (typeof evt.data === 'string' && evt.data.slice(0, 21) == \"data:image/png;base64\") {\n",
       "            fig.imageObj.src = evt.data;\n",
       "            fig.updated_canvas_event();\n",
       "            fig.waiting = false;\n",
       "            return;\n",
       "        }\n",
       "\n",
       "        var msg = JSON.parse(evt.data);\n",
       "        var msg_type = msg['type'];\n",
       "\n",
       "        // Call the  \"handle_{type}\" callback, which takes\n",
       "        // the figure and JSON message as its only arguments.\n",
       "        try {\n",
       "            var callback = fig[\"handle_\" + msg_type];\n",
       "        } catch (e) {\n",
       "            console.log(\"No handler for the '\" + msg_type + \"' message type: \", msg);\n",
       "            return;\n",
       "        }\n",
       "\n",
       "        if (callback) {\n",
       "            try {\n",
       "                // console.log(\"Handling '\" + msg_type + \"' message: \", msg);\n",
       "                callback(fig, msg);\n",
       "            } catch (e) {\n",
       "                console.log(\"Exception inside the 'handler_\" + msg_type + \"' callback:\", e, e.stack, msg);\n",
       "            }\n",
       "        }\n",
       "    };\n",
       "}\n",
       "\n",
       "// from http://stackoverflow.com/questions/1114465/getting-mouse-location-in-canvas\n",
       "mpl.findpos = function(e) {\n",
       "    //this section is from http://www.quirksmode.org/js/events_properties.html\n",
       "    var targ;\n",
       "    if (!e)\n",
       "        e = window.event;\n",
       "    if (e.target)\n",
       "        targ = e.target;\n",
       "    else if (e.srcElement)\n",
       "        targ = e.srcElement;\n",
       "    if (targ.nodeType == 3) // defeat Safari bug\n",
       "        targ = targ.parentNode;\n",
       "\n",
       "    // jQuery normalizes the pageX and pageY\n",
       "    // pageX,Y are the mouse positions relative to the document\n",
       "    // offset() returns the position of the element relative to the document\n",
       "    var x = e.pageX - $(targ).offset().left;\n",
       "    var y = e.pageY - $(targ).offset().top;\n",
       "\n",
       "    return {\"x\": x, \"y\": y};\n",
       "};\n",
       "\n",
       "/*\n",
       " * return a copy of an object with only non-object keys\n",
       " * we need this to avoid circular references\n",
       " * http://stackoverflow.com/a/24161582/3208463\n",
       " */\n",
       "function simpleKeys (original) {\n",
       "  return Object.keys(original).reduce(function (obj, key) {\n",
       "    if (typeof original[key] !== 'object')\n",
       "        obj[key] = original[key]\n",
       "    return obj;\n",
       "  }, {});\n",
       "}\n",
       "\n",
       "mpl.figure.prototype.mouse_event = function(event, name) {\n",
       "    var canvas_pos = mpl.findpos(event)\n",
       "\n",
       "    if (name === 'button_press')\n",
       "    {\n",
       "        this.canvas.focus();\n",
       "        this.canvas_div.focus();\n",
       "    }\n",
       "\n",
       "    var x = canvas_pos.x * mpl.ratio;\n",
       "    var y = canvas_pos.y * mpl.ratio;\n",
       "\n",
       "    this.send_message(name, {x: x, y: y, button: event.button,\n",
       "                             step: event.step,\n",
       "                             guiEvent: simpleKeys(event)});\n",
       "\n",
       "    /* This prevents the web browser from automatically changing to\n",
       "     * the text insertion cursor when the button is pressed.  We want\n",
       "     * to control all of the cursor setting manually through the\n",
       "     * 'cursor' event from matplotlib */\n",
       "    event.preventDefault();\n",
       "    return false;\n",
       "}\n",
       "\n",
       "mpl.figure.prototype._key_event_extra = function(event, name) {\n",
       "    // Handle any extra behaviour associated with a key event\n",
       "}\n",
       "\n",
       "mpl.figure.prototype.key_event = function(event, name) {\n",
       "\n",
       "    // Prevent repeat events\n",
       "    if (name == 'key_press')\n",
       "    {\n",
       "        if (event.which === this._key)\n",
       "            return;\n",
       "        else\n",
       "            this._key = event.which;\n",
       "    }\n",
       "    if (name == 'key_release')\n",
       "        this._key = null;\n",
       "\n",
       "    var value = '';\n",
       "    if (event.ctrlKey && event.which != 17)\n",
       "        value += \"ctrl+\";\n",
       "    if (event.altKey && event.which != 18)\n",
       "        value += \"alt+\";\n",
       "    if (event.shiftKey && event.which != 16)\n",
       "        value += \"shift+\";\n",
       "\n",
       "    value += 'k';\n",
       "    value += event.which.toString();\n",
       "\n",
       "    this._key_event_extra(event, name);\n",
       "\n",
       "    this.send_message(name, {key: value,\n",
       "                             guiEvent: simpleKeys(event)});\n",
       "    return false;\n",
       "}\n",
       "\n",
       "mpl.figure.prototype.toolbar_button_onclick = function(name) {\n",
       "    if (name == 'download') {\n",
       "        this.handle_save(this, null);\n",
       "    } else {\n",
       "        this.send_message(\"toolbar_button\", {name: name});\n",
       "    }\n",
       "};\n",
       "\n",
       "mpl.figure.prototype.toolbar_button_onmouseover = function(tooltip) {\n",
       "    this.message.textContent = tooltip;\n",
       "};\n",
       "mpl.toolbar_items = [[\"Home\", \"Reset original view\", \"fa fa-home icon-home\", \"home\"], [\"Back\", \"Back to previous view\", \"fa fa-arrow-left icon-arrow-left\", \"back\"], [\"Forward\", \"Forward to next view\", \"fa fa-arrow-right icon-arrow-right\", \"forward\"], [\"\", \"\", \"\", \"\"], [\"Pan\", \"Pan axes with left mouse, zoom with right\", \"fa fa-arrows icon-move\", \"pan\"], [\"Zoom\", \"Zoom to rectangle\", \"fa fa-square-o icon-check-empty\", \"zoom\"], [\"\", \"\", \"\", \"\"], [\"Download\", \"Download plot\", \"fa fa-floppy-o icon-save\", \"download\"]];\n",
       "\n",
       "mpl.extensions = [\"eps\", \"jpeg\", \"pdf\", \"png\", \"ps\", \"raw\", \"svg\", \"tif\"];\n",
       "\n",
       "mpl.default_extension = \"png\";var comm_websocket_adapter = function(comm) {\n",
       "    // Create a \"websocket\"-like object which calls the given IPython comm\n",
       "    // object with the appropriate methods. Currently this is a non binary\n",
       "    // socket, so there is still some room for performance tuning.\n",
       "    var ws = {};\n",
       "\n",
       "    ws.close = function() {\n",
       "        comm.close()\n",
       "    };\n",
       "    ws.send = function(m) {\n",
       "        //console.log('sending', m);\n",
       "        comm.send(m);\n",
       "    };\n",
       "    // Register the callback with on_msg.\n",
       "    comm.on_msg(function(msg) {\n",
       "        //console.log('receiving', msg['content']['data'], msg);\n",
       "        // Pass the mpl event to the overridden (by mpl) onmessage function.\n",
       "        ws.onmessage(msg['content']['data'])\n",
       "    });\n",
       "    return ws;\n",
       "}\n",
       "\n",
       "mpl.mpl_figure_comm = function(comm, msg) {\n",
       "    // This is the function which gets called when the mpl process\n",
       "    // starts-up an IPython Comm through the \"matplotlib\" channel.\n",
       "\n",
       "    var id = msg.content.data.id;\n",
       "    // Get hold of the div created by the display call when the Comm\n",
       "    // socket was opened in Python.\n",
       "    var element = $(\"#\" + id);\n",
       "    var ws_proxy = comm_websocket_adapter(comm)\n",
       "\n",
       "    function ondownload(figure, format) {\n",
       "        window.open(figure.imageObj.src);\n",
       "    }\n",
       "\n",
       "    var fig = new mpl.figure(id, ws_proxy,\n",
       "                           ondownload,\n",
       "                           element.get(0));\n",
       "\n",
       "    // Call onopen now - mpl needs it, as it is assuming we've passed it a real\n",
       "    // web socket which is closed, not our websocket->open comm proxy.\n",
       "    ws_proxy.onopen();\n",
       "\n",
       "    fig.parent_element = element.get(0);\n",
       "    fig.cell_info = mpl.find_output_cell(\"<div id='\" + id + \"'></div>\");\n",
       "    if (!fig.cell_info) {\n",
       "        console.error(\"Failed to find cell for figure\", id, fig);\n",
       "        return;\n",
       "    }\n",
       "\n",
       "    var output_index = fig.cell_info[2]\n",
       "    var cell = fig.cell_info[0];\n",
       "\n",
       "};\n",
       "\n",
       "mpl.figure.prototype.handle_close = function(fig, msg) {\n",
       "    var width = fig.canvas.width/mpl.ratio\n",
       "    fig.root.unbind('remove')\n",
       "\n",
       "    // Update the output cell to use the data from the current canvas.\n",
       "    fig.push_to_output();\n",
       "    var dataURL = fig.canvas.toDataURL();\n",
       "    // Re-enable the keyboard manager in IPython - without this line, in FF,\n",
       "    // the notebook keyboard shortcuts fail.\n",
       "    IPython.keyboard_manager.enable()\n",
       "    $(fig.parent_element).html('<img src=\"' + dataURL + '\" width=\"' + width + '\">');\n",
       "    fig.close_ws(fig, msg);\n",
       "}\n",
       "\n",
       "mpl.figure.prototype.close_ws = function(fig, msg){\n",
       "    fig.send_message('closing', msg);\n",
       "    // fig.ws.close()\n",
       "}\n",
       "\n",
       "mpl.figure.prototype.push_to_output = function(remove_interactive) {\n",
       "    // Turn the data on the canvas into data in the output cell.\n",
       "    var width = this.canvas.width/mpl.ratio\n",
       "    var dataURL = this.canvas.toDataURL();\n",
       "    this.cell_info[1]['text/html'] = '<img src=\"' + dataURL + '\" width=\"' + width + '\">';\n",
       "}\n",
       "\n",
       "mpl.figure.prototype.updated_canvas_event = function() {\n",
       "    // Tell IPython that the notebook contents must change.\n",
       "    IPython.notebook.set_dirty(true);\n",
       "    this.send_message(\"ack\", {});\n",
       "    var fig = this;\n",
       "    // Wait a second, then push the new image to the DOM so\n",
       "    // that it is saved nicely (might be nice to debounce this).\n",
       "    setTimeout(function () { fig.push_to_output() }, 1000);\n",
       "}\n",
       "\n",
       "mpl.figure.prototype._init_toolbar = function() {\n",
       "    var fig = this;\n",
       "\n",
       "    var nav_element = $('<div/>');\n",
       "    nav_element.attr('style', 'width: 100%');\n",
       "    this.root.append(nav_element);\n",
       "\n",
       "    // Define a callback function for later on.\n",
       "    function toolbar_event(event) {\n",
       "        return fig.toolbar_button_onclick(event['data']);\n",
       "    }\n",
       "    function toolbar_mouse_event(event) {\n",
       "        return fig.toolbar_button_onmouseover(event['data']);\n",
       "    }\n",
       "\n",
       "    for(var toolbar_ind in mpl.toolbar_items){\n",
       "        var name = mpl.toolbar_items[toolbar_ind][0];\n",
       "        var tooltip = mpl.toolbar_items[toolbar_ind][1];\n",
       "        var image = mpl.toolbar_items[toolbar_ind][2];\n",
       "        var method_name = mpl.toolbar_items[toolbar_ind][3];\n",
       "\n",
       "        if (!name) { continue; };\n",
       "\n",
       "        var button = $('<button class=\"btn btn-default\" href=\"#\" title=\"' + name + '\"><i class=\"fa ' + image + ' fa-lg\"></i></button>');\n",
       "        button.click(method_name, toolbar_event);\n",
       "        button.mouseover(tooltip, toolbar_mouse_event);\n",
       "        nav_element.append(button);\n",
       "    }\n",
       "\n",
       "    // Add the status bar.\n",
       "    var status_bar = $('<span class=\"mpl-message\" style=\"text-align:right; float: right;\"/>');\n",
       "    nav_element.append(status_bar);\n",
       "    this.message = status_bar[0];\n",
       "\n",
       "    // Add the close button to the window.\n",
       "    var buttongrp = $('<div class=\"btn-group inline pull-right\"></div>');\n",
       "    var button = $('<button class=\"btn btn-mini btn-primary\" href=\"#\" title=\"Stop Interaction\"><i class=\"fa fa-power-off icon-remove icon-large\"></i></button>');\n",
       "    button.click(function (evt) { fig.handle_close(fig, {}); } );\n",
       "    button.mouseover('Stop Interaction', toolbar_mouse_event);\n",
       "    buttongrp.append(button);\n",
       "    var titlebar = this.root.find($('.ui-dialog-titlebar'));\n",
       "    titlebar.prepend(buttongrp);\n",
       "}\n",
       "\n",
       "mpl.figure.prototype._root_extra_style = function(el){\n",
       "    var fig = this\n",
       "    el.on(\"remove\", function(){\n",
       "\tfig.close_ws(fig, {});\n",
       "    });\n",
       "}\n",
       "\n",
       "mpl.figure.prototype._canvas_extra_style = function(el){\n",
       "    // this is important to make the div 'focusable\n",
       "    el.attr('tabindex', 0)\n",
       "    // reach out to IPython and tell the keyboard manager to turn it's self\n",
       "    // off when our div gets focus\n",
       "\n",
       "    // location in version 3\n",
       "    if (IPython.notebook.keyboard_manager) {\n",
       "        IPython.notebook.keyboard_manager.register_events(el);\n",
       "    }\n",
       "    else {\n",
       "        // location in version 2\n",
       "        IPython.keyboard_manager.register_events(el);\n",
       "    }\n",
       "\n",
       "}\n",
       "\n",
       "mpl.figure.prototype._key_event_extra = function(event, name) {\n",
       "    var manager = IPython.notebook.keyboard_manager;\n",
       "    if (!manager)\n",
       "        manager = IPython.keyboard_manager;\n",
       "\n",
       "    // Check for shift+enter\n",
       "    if (event.shiftKey && event.which == 13) {\n",
       "        this.canvas_div.blur();\n",
       "        // select the cell after this one\n",
       "        var index = IPython.notebook.find_cell_index(this.cell_info[0]);\n",
       "        IPython.notebook.select(index + 1);\n",
       "    }\n",
       "}\n",
       "\n",
       "mpl.figure.prototype.handle_save = function(fig, msg) {\n",
       "    fig.ondownload(fig, null);\n",
       "}\n",
       "\n",
       "\n",
       "mpl.find_output_cell = function(html_output) {\n",
       "    // Return the cell and output element which can be found *uniquely* in the notebook.\n",
       "    // Note - this is a bit hacky, but it is done because the \"notebook_saving.Notebook\"\n",
       "    // IPython event is triggered only after the cells have been serialised, which for\n",
       "    // our purposes (turning an active figure into a static one), is too late.\n",
       "    var cells = IPython.notebook.get_cells();\n",
       "    var ncells = cells.length;\n",
       "    for (var i=0; i<ncells; i++) {\n",
       "        var cell = cells[i];\n",
       "        if (cell.cell_type === 'code'){\n",
       "            for (var j=0; j<cell.output_area.outputs.length; j++) {\n",
       "                var data = cell.output_area.outputs[j];\n",
       "                if (data.data) {\n",
       "                    // IPython >= 3 moved mimebundle to data attribute of output\n",
       "                    data = data.data;\n",
       "                }\n",
       "                if (data['text/html'] == html_output) {\n",
       "                    return [cell, data, j];\n",
       "                }\n",
       "            }\n",
       "        }\n",
       "    }\n",
       "}\n",
       "\n",
       "// Register the function which deals with the matplotlib target/channel.\n",
       "// The kernel may be null if the page has been refreshed.\n",
       "if (IPython.notebook.kernel != null) {\n",
       "    IPython.notebook.kernel.comm_manager.register_target('matplotlib', mpl.mpl_figure_comm);\n",
       "}\n"
      ],
      "text/plain": [
       "<IPython.core.display.Javascript object>"
      ]
     },
     "metadata": {},
     "output_type": "display_data"
    },
    {
     "data": {
      "text/html": [
       "<img src=\"data:image/png;base64,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\" width=\"1000\">"
      ],
      "text/plain": [
       "<IPython.core.display.HTML object>"
      ]
     },
     "metadata": {},
     "output_type": "display_data"
    }
   ],
   "source": [
    "dual_train_plots(results.index,\n",
    "                 results.cost, results.val,\n",
    "                 results.cost, results.val)\n",
    "plt.tight_layout()\n",
    "plt.savefig(str(output / f'{name}_stats_a.png'))"
   ]
  },
  {
   "cell_type": "code",
   "execution_count": 22,
   "metadata": {},
   "outputs": [],
   "source": [
    "##quit()\n"
   ]
  },
  {
   "cell_type": "code",
   "execution_count": null,
   "metadata": {},
   "outputs": [],
   "source": []
  },
  {
   "cell_type": "code",
   "execution_count": null,
   "metadata": {},
   "outputs": [],
   "source": []
  }
 ],
 "metadata": {
  "kernelspec": {
   "display_name": "june2020-gpu",
   "language": "python",
   "name": "june2020-gpu"
  },
  "language_info": {
   "codemirror_mode": {
    "name": "ipython",
    "version": 3
   },
   "file_extension": ".py",
   "mimetype": "text/x-python",
   "name": "python",
   "nbconvert_exporter": "python",
   "pygments_lexer": "ipython3",
   "version": "3.7.6"
  }
 },
 "nbformat": 4,
 "nbformat_minor": 2
}
