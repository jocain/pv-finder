{
 "cells": [
  {
   "cell_type": "code",
   "execution_count": 1,
   "metadata": {},
   "outputs": [],
   "source": [
    "##%matplotlib widget\n",
    "## with %matplotlib notebook: seems to require ipympl as part of environment, either\n",
    "## part of the conda environment or \"pip install ipympl\"\n",
    "## otherwise, does not show ANY plots in note\"book, plt.savefig() works\n",
    "%matplotlib notebook  \n",
    "##%matplotlib inline    ## --plt.savefig()  works, but re-sizing does NOT\n"
   ]
  },
  {
   "cell_type": "markdown",
   "metadata": {},
   "source": [
    "This notebook is the second attempt to read in track information and use it to predict the KDE used as input to PvFinder. This time, we are reading in poca KDEs rather than the original KDEs. \n",
    "\n",
    "collectdata_kde_C.py uses poca_z, poca_x, poca_y, major_axis_x, major_axis_y, and major_axis_z as the six track parameters (for the moment)\n"
   ]
  },
  {
   "cell_type": "markdown",
   "metadata": {},
   "source": [
    "Check the current GPU usage. Please try to be nice!"
   ]
  },
  {
   "cell_type": "code",
   "execution_count": 2,
   "metadata": {},
   "outputs": [
    {
     "name": "stdout",
     "output_type": "stream",
     "text": [
      "Tue Jan 19 18:25:44 2021       \r\n",
      "+-----------------------------------------------------------------------------+\r\n",
      "| NVIDIA-SMI 440.64.00    Driver Version: 440.64.00    CUDA Version: 10.2     |\r\n",
      "|-------------------------------+----------------------+----------------------+\r\n",
      "| GPU  Name        Persistence-M| Bus-Id        Disp.A | Volatile Uncorr. ECC |\r\n",
      "| Fan  Temp  Perf  Pwr:Usage/Cap|         Memory-Usage | GPU-Util  Compute M. |\r\n",
      "|===============================+======================+======================|\r\n",
      "|   0  TITAN V             Off  | 00000000:03:00.0 Off |                  N/A |\r\n",
      "| 48%   67C    P2   138W / 250W |   3530MiB / 12066MiB |     96%      Default |\r\n",
      "+-------------------------------+----------------------+----------------------+\r\n",
      "|   1  Tesla P100-PCIE...  Off  | 00000000:83:00.0 Off |                    0 |\r\n",
      "| N/A   32C    P0    27W / 250W |     10MiB / 16280MiB |      0%      Default |\r\n",
      "+-------------------------------+----------------------+----------------------+\r\n",
      "|   2  TITAN V             Off  | 00000000:84:00.0 Off |                  N/A |\r\n",
      "| 28%   36C    P8    25W / 250W |     12MiB / 12066MiB |      0%      Default |\r\n",
      "+-------------------------------+----------------------+----------------------+\r\n",
      "                                                                               \r\n",
      "+-----------------------------------------------------------------------------+\r\n",
      "| Processes:                                                       GPU Memory |\r\n",
      "|  GPU       PID   Type   Process name                             Usage      |\r\n",
      "|=============================================================================|\r\n",
      "|    0      4892      C   ...a/conda/envs/goofit-june2020/bin/python  2423MiB |\r\n",
      "|    0     30329      C   ...a/conda/envs/goofit-june2020/bin/python  1095MiB |\r\n",
      "+-----------------------------------------------------------------------------+\r\n"
     ]
    }
   ],
   "source": [
    "!nvidia-smi"
   ]
  },
  {
   "cell_type": "markdown",
   "metadata": {},
   "source": [
    "> **WARNING**: The card numbers here are *not* the same as in CUDA. You have been warned."
   ]
  },
  {
   "cell_type": "markdown",
   "metadata": {},
   "source": [
    "This notebook is first attempt to read in track information and use it to predict the KDE used as input to PvFinder.\n"
   ]
  },
  {
   "cell_type": "markdown",
   "metadata": {},
   "source": [
    "## Imports"
   ]
  },
  {
   "cell_type": "code",
   "execution_count": 3,
   "metadata": {},
   "outputs": [],
   "source": [
    "import matplotlib.pyplot as plt\n",
    "import numpy as np\n",
    "import time\n",
    "import torch\n",
    "import pandas as pd\n",
    "\n",
    "# Python 3 standard library\n",
    "from pathlib import Path\n",
    "\n",
    "##from torchsummary import summary"
   ]
  },
  {
   "cell_type": "markdown",
   "metadata": {},
   "source": [
    "### Set up local parameters"
   ]
  },
  {
   "cell_type": "code",
   "execution_count": 4,
   "metadata": {},
   "outputs": [],
   "source": [
    "n_epochs = 75\n",
    "\n",
    "# Name is the output file name\n",
    "\n",
    "\n",
    "##  201027 -- about to go to bed, so try 2500 epochs with lr = 1e55\n",
    "##  previous iteration had l4 = 3e-5 and cost dropped almost linearly\n",
    "##  for 100 epochs -- final training costs ~ 2.02, validation cost ~ 2.01\n",
    "\n",
    "## for iter 4, try 10 epochs with lr = 3e-6\n",
    "## usually have a big jump down at epoch 0; want to try a\n",
    "## small number of epochs per iteration and see what happens (iter4: 10 epochs gave\n",
    "## traiing cost dropping from 1.54 to 1.50 immediately, then dropping very slowly)\n",
    "folder = '19Jan_DDplus_loss_Ba_iter9_floatAll_75epochs_1em5_4xwill'\n",
    "name   = folder\n",
    "\n",
    "# Make an output folder named \"name\" (change if you want)\n",
    "\n",
    "## Special instructions for those working on goofy at UC\n",
    "## Please be very careful to make sure that your folder\n",
    "## does not live in a subdirectory of your home directory\n",
    "## this disk has very little capacity. Instead, use \n",
    "## a subdirectory in /share/lazy with a symbolic link to\n",
    "## it in this (the notebooks) subdirectory\n",
    "folder = 'ML/' + folder\n",
    "output = Path(folder)\n",
    "\n",
    "\n",
    "# Size of batches\n",
    "batch_size = 48 ## batch_size = 24 ---> 4763MiB / 12066MiB on Titan V\n",
    "# How fast to learn\n",
    "learning_rate = 1e-5"
   ]
  },
  {
   "cell_type": "markdown",
   "metadata": {},
   "source": [
    "Make the output directory if it does not exist:"
   ]
  },
  {
   "cell_type": "code",
   "execution_count": 5,
   "metadata": {},
   "outputs": [],
   "source": [
    "output.mkdir(exist_ok=True)"
   ]
  },
  {
   "cell_type": "markdown",
   "metadata": {},
   "source": [
    "## Get the helper functions\n",
    "\n",
    "Add the directory with the model\n",
    "definitions to the path so we can import from it:\n",
    "\n",
    "> When you type `import X`,\n",
    "Python searches `sys.path` for a python\n",
    "file named `X.py` to import. So we need to add the model directory to the path."
   ]
  },
  {
   "cell_type": "code",
   "execution_count": 6,
   "metadata": {
    "scrolled": true
   },
   "outputs": [],
   "source": [
    "# From model/collectdata.py\n",
    "##from model.collectdata_kde_B import collect_t2kde_data\n",
    "## collectdata_kde_C should use the new poca KDE rather than the original kernel KDE\n",
    "from model.collectdata_kde_Ellipsoids import collect_t2kde_data\n",
    "\n",
    "\n",
    "# From model/loss.py\n",
    "##from loss import Loss\n",
    "## kde_loss_D includes botha ratio term and a chisq term, 98% ave_chisq\n",
    "## kde_loss_E adds a chi^4 term to the kde_loss_D return value\n",
    "## this is intended to emphasize the importance of values significantly different than zero\n",
    "from model.kde_loss_Ba import Loss\n",
    "\n",
    "##  TracksToKDE_Ellipsoids_SevenLayerCake has 7 hidden layers producing the 4000-bin KDE historgram\n",
    "##  It takes 9 input features (pocca centers + (A,B,C,D,E,F) . \n",
    "from model.models_kde import TracksToKDE_Ellipsoids_DDplus as Model\n",
    "\n",
    "\n",
    "from model.training_kde import trainNet, select_gpu, Results\n",
    "from model.plots import dual_train_plots, replace_in_ax"
   ]
  },
  {
   "cell_type": "code",
   "execution_count": 7,
   "metadata": {},
   "outputs": [],
   "source": [
    "# This gets built up during the run - do not rerun this cell\n",
    "results = pd.DataFrame([], columns=Results._fields)"
   ]
  },
  {
   "cell_type": "markdown",
   "metadata": {},
   "source": [
    "Set up Torch device configuration. All tensors and model parameters need to know where to be put.\n",
    "This takes a BUS ID number: The BUS ID is the same as the listing at the top of this script."
   ]
  },
  {
   "cell_type": "code",
   "execution_count": 8,
   "metadata": {},
   "outputs": [
    {
     "name": "stdout",
     "output_type": "stream",
     "text": [
      "1 available GPUs (initially using device 0):\n",
      "  0 TITAN V\n"
     ]
    }
   ],
   "source": [
    "device = select_gpu(2)\n",
    "##device = \"cpu\""
   ]
  },
  {
   "cell_type": "markdown",
   "metadata": {},
   "source": [
    "## Loading data\n",
    "\n",
    "Load the dataset, split into parts, then move to device (see `collectdata.py` in the `../model` directory)"
   ]
  },
  {
   "cell_type": "markdown",
   "metadata": {},
   "source": [
    "# Preparing the model"
   ]
  },
  {
   "cell_type": "markdown",
   "metadata": {},
   "source": [
    "Prepare a model, use multiple GPUs if they are VISIBLE, and move the model to the device."
   ]
  },
  {
   "cell_type": "code",
   "execution_count": 9,
   "metadata": {
    "scrolled": true
   },
   "outputs": [],
   "source": [
    "##print(\"Let's use\", torch.cuda.device_count(), \"GPUs!\")\n",
    "##if torch.cuda.device_count() > 1:\n",
    "##    model = torch.nn.DataParallel(model)"
   ]
  },
  {
   "cell_type": "code",
   "execution_count": 10,
   "metadata": {},
   "outputs": [
    {
     "name": "stdout",
     "output_type": "stream",
     "text": [
      "ct, child =  0    Linear(in_features=9, out_features=50, bias=True)\n",
      "ct, child =  1    Linear(in_features=50, out_features=50, bias=True)\n",
      "ct, child =  2    Linear(in_features=50, out_features=50, bias=True)\n",
      "ct, child =  3    Linear(in_features=50, out_features=50, bias=True)\n",
      "ct, child =  4    Linear(in_features=50, out_features=50, bias=True)\n",
      "ct, child =  5    Linear(in_features=50, out_features=50, bias=True)\n",
      "ct, child =  6    Linear(in_features=50, out_features=50, bias=True)\n",
      "ct, child =  7    Linear(in_features=50, out_features=50, bias=True)\n",
      "ct, child =  8    Linear(in_features=50, out_features=50, bias=True)\n",
      "ct, child =  9    Linear(in_features=50, out_features=50, bias=True)\n",
      "ct, child =  10    Linear(in_features=50, out_features=50, bias=True)\n",
      "ct, child =  11    Linear(in_features=50, out_features=16000, bias=True)\n",
      "ct, child =  12    Conv1d(4, 25, kernel_size=(25,), stride=(1,), padding=(12,))\n",
      "ct, child =  13    Conv1d(25, 1, kernel_size=(5,), stride=(1,), padding=(2,))\n",
      "ct, child =  14    Linear(in_features=4000, out_features=4000, bias=True)\n",
      "ct, child =  15    Conv1d(25, 1, kernel_size=(15,), stride=(1,), padding=(7,))\n",
      "ct, child =  16    Dropout(p=0.15, inplace=False)\n",
      "ct, child =  17    Dropout(p=0.15, inplace=False)\n"
     ]
    }
   ],
   "source": [
    "## a comment on the web at https://pytorch.org/docs/stable/optim.html says\n",
    "\"\"\"\n",
    "If you need to move a model to GPU via .cuda(), please do so before constructing optimizers for it. \n",
    "Parameters of a model after .cuda() will be different objects with those before the call.\n",
    "\n",
    "In general, you should make sure that optimized parameters live in consistent locations when \n",
    "optimizers are constructed and used.\n",
    "\"\"\"\n",
    "## so move this here (although we are using model.to(device) not explicitly using .cuda()\n",
    "\n",
    "nOut1 = 50\n",
    "nOut2 = 50\n",
    "nOut3 = 50\n",
    "nOut4 = 50\n",
    "nOut5 = 50\n",
    "nOut6 = 50\n",
    "nOut7 = 50\n",
    "nOut8 = 50\n",
    "nOut9 = 50\n",
    "nOut10 = 50\n",
    "nOut11 = 50\n",
    "latentChannels = 4\n",
    "model = Model(nOut1,nOut2,nOut3,nOut4,nOut5,nOut6,nOut7,nOut8,nOut9,nOut10,nOut11,latentChannels)\n",
    "\n",
    "##summary(model, input_size=(4, 4000))\n",
    "##print(model.parameters)\n",
    "\n",
    "## add the following code to allow the user to freeze the some of the weights corresponding \n",
    "## to those taken from an earlier model trained with the original target histograms\n",
    "## presumably -- this leaves either the perturbative filter \"fixed\" and lets the \n",
    "## learning focus on the non-perturbative features, so get started faster, or vice versa\n",
    "ct = 0\n",
    "for child in model.children():\n",
    "  print('ct, child = ',ct, \"  \", child)\n",
    "  if ct < 0:\n",
    "    print(\"     About to set param.requires_grad=False for ct = \", ct, \"params\")\n",
    "    for param in child.parameters():\n",
    "        param.requires_grad = False \n",
    "  ct += 1\n",
    "##  mds 200121 loss = Loss(epsilon=1e-5,coefficient=1.0)\n",
    "##  loss = Loss(epsilon=1e-5,coefficient=2.5)\n",
    "##loss = Loss(epsilon=3e-5, debug=False)\n",
    "loss = Loss(epsilon=3e-5)"
   ]
  },
  {
   "cell_type": "markdown",
   "metadata": {},
   "source": [
    "Let's move the model's weight matricies to the GPU:"
   ]
  },
  {
   "cell_type": "code",
   "execution_count": 11,
   "metadata": {
    "scrolled": true
   },
   "outputs": [],
   "source": [
    "model = model.to(device)"
   ]
  },
  {
   "cell_type": "code",
   "execution_count": 12,
   "metadata": {
    "scrolled": true
   },
   "outputs": [],
   "source": [
    "optimizer = torch.optim.Adam(model.parameters(), lr=learning_rate)\n",
    "##optimizer = torch.optim.SGD(model.parameters(), lr=learning_rate)"
   ]
  },
  {
   "cell_type": "code",
   "execution_count": 13,
   "metadata": {
    "scrolled": false
   },
   "outputs": [
    {
     "name": "stdout",
     "output_type": "stream",
     "text": [
      "output =  ML/19Jan_DDplus_loss_Ba_iter9_floatAll_75epochs_1em5_4xwill\n",
      "for model_dict\n",
      "index, k =   0    layer1.weight\n",
      "index, k =   1    layer1.bias\n",
      "index, k =   2    layer2.weight\n",
      "index, k =   3    layer2.bias\n",
      "index, k =   4    layer3.weight\n",
      "index, k =   5    layer3.bias\n",
      "index, k =   6    layer4.weight\n",
      "index, k =   7    layer4.bias\n",
      "index, k =   8    layer5.weight\n",
      "index, k =   9    layer5.bias\n",
      "index, k =   10    layer6.weight\n",
      "index, k =   11    layer6.bias\n",
      "index, k =   12    layer7.weight\n",
      "index, k =   13    layer7.bias\n",
      "index, k =   14    layer8.weight\n",
      "index, k =   15    layer8.bias\n",
      "index, k =   16    layer9.weight\n",
      "index, k =   17    layer9.bias\n",
      "index, k =   18    layer10.weight\n",
      "index, k =   19    layer10.bias\n",
      "index, k =   20    layer11.weight\n",
      "index, k =   21    layer11.bias\n",
      "index, k =   22    layer12new.weight\n",
      "index, k =   23    layer12new.bias\n",
      "index, k =   24    conv1.weight\n",
      "index, k =   25    conv1.bias\n",
      "index, k =   26    conv2.weight\n",
      "index, k =   27    conv2.bias\n",
      "index, k =   28    fc1.weight\n",
      "index, k =   29    fc1.bias\n",
      "index, k =   30    finalFilter.weight\n",
      "index, k =   31    finalFilter.bias\n",
      "dict_name =  ML/18Jan_DDplus_loss_Ba_iter8_floatAll_100epochs_1em5_4xwill/18Jan_DDplus_loss_Ba_iter8_floatAll_100epochs_1em5_4xwill_final.pyt\n",
      " \n",
      "  for pretrained_dict\n",
      "index, k =   0    layer1.weight\n",
      "index, k =   1    layer1.bias\n",
      "index, k =   2    layer2.weight\n",
      "index, k =   3    layer2.bias\n",
      "index, k =   4    layer3.weight\n",
      "index, k =   5    layer3.bias\n",
      "index, k =   6    layer4.weight\n",
      "index, k =   7    layer4.bias\n",
      "index, k =   8    layer5.weight\n",
      "index, k =   9    layer5.bias\n",
      "index, k =   10    layer6.weight\n",
      "index, k =   11    layer6.bias\n",
      "index, k =   12    layer7.weight\n",
      "index, k =   13    layer7.bias\n",
      "index, k =   14    layer8.weight\n",
      "index, k =   15    layer8.bias\n",
      "index, k =   16    layer9.weight\n",
      "index, k =   17    layer9.bias\n",
      "index, k =   18    layer10.weight\n",
      "index, k =   19    layer10.bias\n",
      "index, k =   20    layer11.weight\n",
      "index, k =   21    layer11.bias\n",
      "index, k =   22    layer12new.weight\n",
      "index, k =   23    layer12new.bias\n",
      "index, k =   24    conv1.weight\n",
      "index, k =   25    conv1.bias\n",
      "index, k =   26    conv2.weight\n",
      "index, k =   27    conv2.bias\n",
      "index, k =   28    fc1.weight\n",
      "index, k =   29    fc1.bias\n",
      "index, k =   30    finalFilter.weight\n",
      "index, k =   31    finalFilter.bias\n",
      "pretrained_dict iterated\n"
     ]
    },
    {
     "data": {
      "text/plain": [
       "<All keys matched successfully>"
      ]
     },
     "execution_count": 13,
     "metadata": {},
     "output_type": "execute_result"
    }
   ],
   "source": [
    "print('output = ',output)\n",
    "##print('oldOutput = ',oldOutput)\n",
    "##  use the first four layers from a pre-existing model\n",
    "##  see example at https://discuss.pytorch.org/t/how-to-load-part-of-pre-trained-model/1113\n",
    "\n",
    "##   ML -> /share/lazy/sokoloff/ML\n",
    "model_dict = model.state_dict()\n",
    "## mds 190725 for debugging\n",
    "print(\"for model_dict\")\n",
    "index = 0\n",
    "for k,v in model_dict.items():\n",
    "    print(\"index, k =  \",index,\"  \",k)\n",
    "    index = index+1\n",
    "##    print(\"value = \", v)\n",
    " \n",
    "updated_dict = model_dict\n",
    "##print(\"updated_dict = \",updated_dict)\n",
    "## when starting \"ab initio\", reduce biases as the bias gets summed for each track\n",
    "## contributing to the predicted KDE\n",
    "updated_dict[\"layer1.bias\"] = 0.005*model_dict[\"layer1.bias\"]\n",
    "updated_dict[\"layer2.bias\"] = 0.005*model_dict[\"layer2.bias\"]\n",
    "updated_dict[\"layer3.bias\"] = 0.005*model_dict[\"layer3.bias\"]\n",
    "updated_dict[\"layer4.bias\"] = 0.005*model_dict[\"layer4.bias\"]\n",
    "updated_dict[\"layer5.bias\"] = 0.005*model_dict[\"layer5.bias\"]\n",
    "updated_dict[\"layer6.bias\"] = 0.005*model_dict[\"layer6.bias\"]\n",
    "updated_dict[\"layer7.bias\"] = 0.005*model_dict[\"layer7.bias\"]\n",
    "updated_dict[\"layer8.bias\"] = 0.005*model_dict[\"layer8.bias\"]\n",
    "updated_dict[\"layer9.bias\"] = 0.005*model_dict[\"layer9.bias\"]\n",
    "updated_dict[\"layer10.bias\"] = 0.005*model_dict[\"layer10.bias\"]\n",
    "updated_dict[\"layer11.bias\"] = 0.005*model_dict[\"layer11.bias\"]\n",
    "\n",
    "model.load_state_dict(updated_dict,strict=False)\n",
    "\n",
    "model_dict = model.state_dict()\n",
    "##print(\"updated model_dict = \",model_dict)\n",
    "\n",
    "## print(\" \\n\",\"  for pretrained_dict\")\n",
    "## index = 0\n",
    "##for k,v in pretrained_dict.items():\n",
    "##    print(\"index, k =  \",index,\"  \",k)\n",
    "##    index = index+1\n",
    "## mds  \n",
    "\n",
    "##pretrained_dict = torch.load('ML/29July2020_Trks_to_KDE_C_lossB_100epochs_b64_1m3_nOut_50x50/29July2020_Trks_to_KDE_C_lossB_100epochs_b64_1m3_nOut_50x50_final.pyt')\n",
    "##print(\"model_dict instantiated\")\n",
    "# 1. filter out unnecessary keys\n",
    "##pretrained_dict = {k: v for k, v in pretrained_dict.items() if k in model_dict}\n",
    "##print(\"pretrained_dict iterated\")\n",
    "# 2. overwrite entries in the existing state dict\n",
    "##model_dict.update(pretrained_dict) \n",
    "##\n",
    "#   when starting from a model with a fully connected last layer rather than a convolutional layer\n",
    "# 3. load the new state dict\n",
    "#   need to use strict=False as the two models state model attributes do not agree exactly\n",
    "#   see https://pytorch.org/docs/master/_modules/torch/nn/modules/module.html#Module.load_state_dict\n",
    "\n",
    "##model.load_state_dict(pretrained_dict,strict=False)\n",
    "\n",
    "## print('model_dict =    ', model_dict)\n",
    "\n",
    "## finished at training cost = 1.46, validation cost = 1.50\n",
    "##d_folder = '25December__DDplus_loss_Ba_iter7_floatAll_800epochs_4em6'\n",
    "d_folder = '18Jan_DDplus_loss_Ba_iter8_floatAll_100epochs_1em5_4xwill'\n",
    "d_name = d_folder\n",
    "suffix = 'final'\n",
    "dict_name = 'ML/' + d_folder + '/' + d_name + '_'+ suffix + '.pyt'\n",
    "print('dict_name = ',dict_name)\n",
    "pretrained_dict = torch.load(dict_name)\n",
    "\n",
    "print(\" \")\n",
    "print(\"  for pretrained_dict\")\n",
    "index = 0\n",
    "for k,v in pretrained_dict.items():\n",
    "    print(\"index, k =  \",index,\"  \",k)\n",
    "    index = index+1\n",
    " \n",
    "\n",
    "##print(\"model_dict instantiated\")\n",
    "# 1. filter out unnecessary keys\n",
    "pretrained_dict = {k: v for k, v in pretrained_dict.items() if k in model_dict}\n",
    "print(\"pretrained_dict iterated\")\n",
    "# 2. overwrite entries in the existing state dict\n",
    "model_dict.update(pretrained_dict) \n",
    "##\n",
    "#   when starting from a model with a fully connected last layer rather than a convolutional layer\n",
    "# 3. load the new state dict\n",
    "#   need to use strict=False as the two models state model attributes do not agree exactly\n",
    "#   see https://pytorch.org/docs/master/_modules/torch/nn/modules/module.html#Module.load_state_dict\n",
    "\n",
    "model.load_state_dict(pretrained_dict,strict=False)\n",
    "\n"
   ]
  },
  {
   "cell_type": "code",
   "execution_count": 14,
   "metadata": {},
   "outputs": [],
   "source": [
    "##print('validation.dataset.tensors = ',validation.dataset.tensors)\n",
    "fig_size = plt.rcParams[\"figure.figsize\"]\n",
    "fig_size[0] = 10\n",
    "fig_size[1] = 4\n",
    "plt.rcParams[\"figure.figsize\"] = fig_size"
   ]
  },
  {
   "cell_type": "code",
   "execution_count": 15,
   "metadata": {
    "scrolled": false
   },
   "outputs": [
    {
     "name": "stdout",
     "output_type": "stream",
     "text": [
      "Loading data...\n",
      "pocaMx.shape =  (80000,)\n",
      "nEvts =  80000\n",
      "len(pocaMx[0]) =  199\n",
      "len(pocaMx[1]) =  25\n",
      "len(pocaMx[2]) =  369\n",
      "len(pocaMx[3]) =  143\n",
      "len(pocaMx[4]) =  160\n",
      "majorAxis.shape =  (80000, 3)\n",
      "minorAxis_1.shape =  (80000, 3)\n",
      "minorAxis_2.shape =  (80000, 3)\n",
      "have entered six_ellipsoid_parameters\n",
      "  \n",
      " \n",
      "  nEvts =  80000\n",
      " iEvt, nTrks =  0 199\n",
      " iEvt, nTrks =  1 25\n",
      " iEvt, nTrks =  2 369\n",
      " iEvt, nTrks =  3 143\n",
      " iEvt, nTrks =  4 160\n",
      " iEvt, nTrks =  5 260\n",
      " iEvt, nTrks =  6 237\n",
      " iEvt, nTrks =  7 327\n",
      " iEvt, nTrks =  8 178\n",
      " iEvt, nTrks =  9 106\n",
      "A.shape =  (80000,)\n",
      "majorAxis[iTrk][0][0] =  0.00045611936\n",
      "majorAxis[iTrk][1][0] =  -4.8292455e-05\n",
      "majorAxis[iTrk][2][0] =  0.090019904\n",
      "minorAxis_1[iTrk][0][0] =  -1.8602173\n",
      "minorAxis_1[iTrk][1][0] =  -17.569641\n",
      "minorAxis_1[iTrk][2][0] =  4.7891795e-08\n",
      "minorAxis_2[iTrk][0][0] =  -17.569414\n",
      "minorAxis_2[iTrk][1][0] =  1.8601931\n",
      "minorAxis_2[iTrk][2][0] =  0.0900199\n",
      "  \n",
      "majorAxis[iTrk][0][0] =  0.002360258\n",
      "majorAxis[iTrk][1][0] =  -0.007426616\n",
      "majorAxis[iTrk][2][0] =  0.3710108\n",
      "minorAxis_1[iTrk][0][0] =  -16.837948\n",
      "minorAxis_1[iTrk][1][0] =  -5.3512807\n",
      "minorAxis_1[iTrk][2][0] =  8.157131e-09\n",
      "minorAxis_2[iTrk][0][0] =  -5.3501005\n",
      "minorAxis_2[iTrk][1][0] =  16.834236\n",
      "minorAxis_2[iTrk][2][0] =  0.3710108\n",
      "  \n",
      "majorAxis[iTrk][0][0] =  6.220712e-05\n",
      "majorAxis[iTrk][1][0] =  -4.4594188e-05\n",
      "majorAxis[iTrk][2][0] =  0.036773544\n",
      "minorAxis_1[iTrk][0][0] =  10.293747\n",
      "minorAxis_1[iTrk][1][0] =  14.359369\n",
      "minorAxis_1[iTrk][2][0] =  1.571041e-06\n",
      "minorAxis_2[iTrk][0][0] =  14.359338\n",
      "minorAxis_2[iTrk][1][0] =  -10.293725\n",
      "minorAxis_2[iTrk][2][0] =  -0.03677354\n",
      "  \n",
      "majorAxis[iTrk][0][0] =  0.0033452737\n",
      "majorAxis[iTrk][1][0] =  0.00013028442\n",
      "majorAxis[iTrk][2][0] =  0.2431933\n",
      "minorAxis_1[iTrk][0][0] =  0.6875674\n",
      "minorAxis_1[iTrk][1][0] =  -17.65446\n",
      "minorAxis_1[iTrk][2][0] =  -6.6602626e-09\n",
      "minorAxis_2[iTrk][0][0] =  -17.652788\n",
      "minorAxis_2[iTrk][1][0] =  -0.68750226\n",
      "minorAxis_2[iTrk][2][0] =  0.2431933\n",
      "  \n",
      "majorAxis[iTrk][0][0] =  -0.00068196515\n",
      "majorAxis[iTrk][1][0] =  -0.00044562915\n",
      "majorAxis[iTrk][2][0] =  0.119970225\n",
      "minorAxis_1[iTrk][0][0] =  9.664597\n",
      "minorAxis_1[iTrk][1][0] =  -14.790141\n",
      "minorAxis_1[iTrk][2][0] =  1.9819232e-08\n",
      "minorAxis_2[iTrk][0][0] =  -14.789802\n",
      "minorAxis_2[iTrk][1][0] =  -9.664374\n",
      "minorAxis_2[iTrk][2][0] =  -0.11997023\n",
      "  \n",
      "majorAxis[iTrk][0][0] =  -8.245073e-05\n",
      "majorAxis[iTrk][1][0] =  0.00015860004\n",
      "majorAxis[iTrk][2][0] =  0.05619731\n",
      "minorAxis_1[iTrk][0][0] =  -15.676071\n",
      "minorAxis_1[iTrk][1][0] =  -8.149452\n",
      "minorAxis_1[iTrk][2][0] =  4.1105773e-07\n",
      "minorAxis_2[iTrk][0][0] =  -8.14941\n",
      "minorAxis_2[iTrk][1][0] =  15.675991\n",
      "minorAxis_2[iTrk][2][0] =  -0.056197315\n",
      "  \n",
      "majorAxis[iTrk][0][0] =  -0.00015151131\n",
      "majorAxis[iTrk][1][0] =  0.00067339616\n",
      "majorAxis[iTrk][2][0] =  0.11042937\n",
      "minorAxis_1[iTrk][0][0] =  17.236937\n",
      "minorAxis_1[iTrk][1][0] =  3.8782384\n",
      "minorAxis_1[iTrk][2][0] =  2.3217373e-08\n",
      "minorAxis_2[iTrk][0][0] =  3.8781626\n",
      "minorAxis_2[iTrk][1][0] =  -17.236599\n",
      "minorAxis_2[iTrk][2][0] =  0.11042936\n",
      "  \n",
      "majorAxis[iTrk][0][0] =  -7.577422e-05\n",
      "majorAxis[iTrk][1][0] =  -0.00036802414\n",
      "majorAxis[iTrk][2][0] =  0.08147708\n",
      "minorAxis_1[iTrk][0][0] =  -17.304853\n",
      "minorAxis_1[iTrk][1][0] =  3.5629773\n",
      "minorAxis_1[iTrk][2][0] =  5.80501e-09\n",
      "minorAxis_2[iTrk][0][0] =  3.5629392\n",
      "minorAxis_2[iTrk][1][0] =  17.304668\n",
      "minorAxis_2[iTrk][2][0] =  0.081477076\n",
      "  \n",
      "majorAxis[iTrk][0][0] =  0.00013397264\n",
      "majorAxis[iTrk][1][0] =  0.00094400026\n",
      "majorAxis[iTrk][2][0] =  0.12978876\n",
      "minorAxis_1[iTrk][0][0] =  17.492561\n",
      "minorAxis_1[iTrk][1][0] =  -2.4825466\n",
      "minorAxis_1[iTrk][2][0] =  1.1329301e-08\n",
      "minorAxis_2[iTrk][0][0] =  -2.4824798\n",
      "minorAxis_2[iTrk][1][0] =  -17.492088\n",
      "minorAxis_2[iTrk][2][0] =  0.12978874\n",
      "  \n",
      "majorAxis[iTrk][0][0] =  0.00043501743\n",
      "majorAxis[iTrk][1][0] =  -0.0016521378\n",
      "majorAxis[iTrk][2][0] =  0.17373301\n",
      "minorAxis_1[iTrk][0][0] =  -17.0855\n",
      "minorAxis_1[iTrk][1][0] =  -4.4987106\n",
      "minorAxis_1[iTrk][2][0] =  -7.7275175e-08\n",
      "minorAxis_2[iTrk][0][0] =  -4.4984937\n",
      "minorAxis_2[iTrk][1][0] =  17.084677\n",
      "minorAxis_2[iTrk][2][0] =  0.17373303\n",
      "  \n",
      "len(X) =  80000\n",
      "len(Xlist) =  1\n",
      "Loaded /share/lazy/will/data/June30_2020_80k_1.h5 in 149.3 s\n",
      "pocaMx.shape =  (80000,)\n",
      "nEvts =  80000\n",
      "len(pocaMx[0]) =  222\n",
      "len(pocaMx[1]) =  133\n",
      "len(pocaMx[2]) =  259\n",
      "len(pocaMx[3]) =  114\n",
      "len(pocaMx[4]) =  143\n",
      "majorAxis.shape =  (80000, 3)\n",
      "minorAxis_1.shape =  (80000, 3)\n",
      "minorAxis_2.shape =  (80000, 3)\n",
      "have entered six_ellipsoid_parameters\n",
      "  \n",
      " \n",
      "  nEvts =  80000\n",
      " iEvt, nTrks =  0 222\n",
      " iEvt, nTrks =  1 133\n",
      " iEvt, nTrks =  2 259\n",
      " iEvt, nTrks =  3 114\n",
      " iEvt, nTrks =  4 143\n",
      " iEvt, nTrks =  5 136\n",
      " iEvt, nTrks =  6 397\n",
      " iEvt, nTrks =  7 370\n",
      " iEvt, nTrks =  8 97\n",
      " iEvt, nTrks =  9 67\n",
      "A.shape =  (80000,)\n",
      "majorAxis[iTrk][0][0] =  -0.001036478\n",
      "majorAxis[iTrk][1][0] =  0.0009833863\n",
      "majorAxis[iTrk][2][0] =  0.15887721\n",
      "minorAxis_1[iTrk][0][0] =  -12.160475\n",
      "minorAxis_1[iTrk][1][0] =  -12.817002\n",
      "minorAxis_1[iTrk][2][0] =  0.0\n",
      "minorAxis_2[iTrk][0][0] =  -12.816484\n",
      "minorAxis_2[iTrk][1][0] =  12.159985\n",
      "minorAxis_2[iTrk][2][0] =  -0.15887721\n",
      "  \n",
      "majorAxis[iTrk][0][0] =  0.0016579849\n",
      "majorAxis[iTrk][1][0] =  0.0020989499\n",
      "majorAxis[iTrk][2][0] =  0.21738033\n",
      "minorAxis_1[iTrk][0][0] =  -13.864233\n",
      "minorAxis_1[iTrk][1][0] =  10.95152\n",
      "minorAxis_1[iTrk][2][0] =  -3.3017489e-09\n",
      "minorAxis_2[iTrk][0][0] =  10.95069\n",
      "minorAxis_2[iTrk][1][0] =  13.863184\n",
      "minorAxis_2[iTrk][2][0] =  -0.21738033\n",
      "  \n",
      "majorAxis[iTrk][0][0] =  0.00012481198\n",
      "majorAxis[iTrk][1][0] =  -0.00028747538\n",
      "majorAxis[iTrk][2][0] =  0.07441149\n",
      "minorAxis_1[iTrk][0][0] =  -16.206305\n",
      "minorAxis_1[iTrk][1][0] =  -7.036224\n",
      "minorAxis_1[iTrk][2][0] =  5.3456716e-08\n",
      "minorAxis_2[iTrk][0][0] =  -7.0361605\n",
      "minorAxis_2[iTrk][1][0] =  16.20616\n",
      "minorAxis_2[iTrk][2][0] =  0.07441148\n",
      "  \n",
      "majorAxis[iTrk][0][0] =  -0.007920195\n",
      "majorAxis[iTrk][1][0] =  -0.009694931\n",
      "majorAxis[iTrk][2][0] =  0.47021532\n",
      "minorAxis_1[iTrk][0][0] =  -13.682467\n",
      "minorAxis_1[iTrk][1][0] =  11.177781\n",
      "minorAxis_1[iTrk][2][0] =  1.8638048e-10\n",
      "minorAxis_2[iTrk][0][0] =  11.173822\n",
      "minorAxis_2[iTrk][1][0] =  13.677622\n",
      "minorAxis_2[iTrk][2][0] =  0.47021535\n",
      "  \n",
      "majorAxis[iTrk][0][0] =  0.00038854493\n",
      "majorAxis[iTrk][1][0] =  0.0009230774\n",
      "majorAxis[iTrk][2][0] =  0.13301943\n",
      "minorAxis_1[iTrk][0][0] =  -16.284061\n",
      "minorAxis_1[iTrk][1][0] =  6.854344\n",
      "minorAxis_1[iTrk][2][0] =  2.2469074e-07\n",
      "minorAxis_2[iTrk][0][0] =  6.8541493\n",
      "minorAxis_2[iTrk][1][0] =  16.283602\n",
      "minorAxis_2[iTrk][2][0] =  -0.13301945\n",
      "  \n",
      "majorAxis[iTrk][0][0] =  -5.6093595e-05\n",
      "majorAxis[iTrk][1][0] =  0.000114469876\n",
      "majorAxis[iTrk][2][0] =  0.04745733\n",
      "minorAxis_1[iTrk][0][0] =  15.865369\n",
      "minorAxis_1[iTrk][1][0] =  7.774496\n",
      "minorAxis_1[iTrk][2][0] =  1.8465234e-06\n",
      "minorAxis_2[iTrk][0][0] =  7.774468\n",
      "minorAxis_2[iTrk][1][0] =  -15.865313\n",
      "minorAxis_2[iTrk][2][0] =  0.04745733\n",
      "  \n",
      "majorAxis[iTrk][0][0] =  9.375396e-05\n",
      "majorAxis[iTrk][1][0] =  0.0002926058\n",
      "majorAxis[iTrk][2][0] =  0.07367872\n",
      "minorAxis_1[iTrk][0][0] =  -16.825275\n",
      "minorAxis_1[iTrk][1][0] =  5.390994\n",
      "minorAxis_1[iTrk][2][0] =  -2.1861728e-08\n",
      "minorAxis_2[iTrk][0][0] =  5.3909473\n",
      "minorAxis_2[iTrk][1][0] =  16.825129\n",
      "minorAxis_2[iTrk][2][0] =  -0.07367872\n",
      "  \n",
      "majorAxis[iTrk][0][0] =  -1.1543522e-06\n",
      "majorAxis[iTrk][1][0] =  2.8112001e-05\n",
      "majorAxis[iTrk][2][0] =  0.022295665\n",
      "minorAxis_1[iTrk][0][0] =  -17.652967\n",
      "minorAxis_1[iTrk][1][0] =  -0.7248769\n",
      "minorAxis_1[iTrk][2][0] =  1.7815448e-07\n",
      "minorAxis_2[iTrk][0][0] =  -0.7248763\n",
      "minorAxis_2[iTrk][1][0] =  17.652954\n",
      "minorAxis_2[iTrk][2][0] =  -0.022295661\n",
      "  \n",
      "majorAxis[iTrk][0][0] =  -0.2612214\n",
      "majorAxis[iTrk][1][0] =  0.83076316\n",
      "majorAxis[iTrk][2][0] =  3.8745012\n",
      "minorAxis_1[iTrk][0][0] =  -16.85429\n",
      "minorAxis_1[iTrk][1][0] =  -5.299587\n",
      "minorAxis_1[iTrk][2][0] =  2.0865195e-11\n",
      "minorAxis_2[iTrk][0][0] =  -5.1705856\n",
      "minorAxis_2[iTrk][1][0] =  16.444027\n",
      "minorAxis_2[iTrk][2][0] =  -3.874501\n",
      "  \n",
      "majorAxis[iTrk][0][0] =  -0.057592034\n",
      "majorAxis[iTrk][1][0] =  0.06503555\n",
      "majorAxis[iTrk][2][0] =  1.2373537\n",
      "minorAxis_1[iTrk][0][0] =  13.227038\n",
      "minorAxis_1[iTrk][1][0] =  11.713163\n",
      "minorAxis_1[iTrk][2][0] =  1.7679876e-10\n",
      "minorAxis_2[iTrk][0][0] =  11.684402\n",
      "minorAxis_2[iTrk][1][0] =  -13.194561\n",
      "minorAxis_2[iTrk][2][0] =  1.2373537\n",
      "  \n",
      "len(X) =  80000\n",
      "len(Xlist) =  2\n",
      "Loaded /share/lazy/will/data/June30_2020_80k_2.h5 in 147.7 s\n",
      "pocaMx.shape =  (80000,)\n"
     ]
    },
    {
     "name": "stdout",
     "output_type": "stream",
     "text": [
      "nEvts =  80000\n",
      "len(pocaMx[0]) =  196\n",
      "len(pocaMx[1]) =  35\n",
      "len(pocaMx[2]) =  265\n",
      "len(pocaMx[3]) =  128\n",
      "len(pocaMx[4]) =  124\n",
      "majorAxis.shape =  (80000, 3)\n",
      "minorAxis_1.shape =  (80000, 3)\n",
      "minorAxis_2.shape =  (80000, 3)\n",
      "have entered six_ellipsoid_parameters\n",
      "  \n",
      " \n",
      "  nEvts =  80000\n",
      " iEvt, nTrks =  0 196\n",
      " iEvt, nTrks =  1 35\n",
      " iEvt, nTrks =  2 265\n",
      " iEvt, nTrks =  3 128\n",
      " iEvt, nTrks =  4 124\n",
      " iEvt, nTrks =  5 122\n",
      " iEvt, nTrks =  6 300\n",
      " iEvt, nTrks =  7 179\n",
      " iEvt, nTrks =  8 243\n",
      " iEvt, nTrks =  9 112\n",
      "A.shape =  (80000,)\n",
      "majorAxis[iTrk][0][0] =  -2.440992e-05\n",
      "majorAxis[iTrk][1][0] =  -0.00038087237\n",
      "majorAxis[iTrk][2][0] =  0.08211532\n",
      "minorAxis_1[iTrk][0][0] =  -17.631672\n",
      "minorAxis_1[iTrk][1][0] =  1.130005\n",
      "minorAxis_1[iTrk][2][0] =  4.7444193e-08\n",
      "minorAxis_2[iTrk][0][0] =  1.1299927\n",
      "minorAxis_2[iTrk][1][0] =  17.631481\n",
      "minorAxis_2[iTrk][2][0] =  0.08211532\n",
      "  \n",
      "majorAxis[iTrk][0][0] =  -0.02277395\n",
      "majorAxis[iTrk][1][0] =  0.0014473597\n",
      "majorAxis[iTrk][2][0] =  0.6347583\n",
      "minorAxis_1[iTrk][0][0] =  -1.1205891\n",
      "minorAxis_1[iTrk][1][0] =  -17.632273\n",
      "minorAxis_1[iTrk][2][0] =  2.1543272e-09\n",
      "minorAxis_2[iTrk][0][0] =  -17.620888\n",
      "minorAxis_2[iTrk][1][0] =  1.1198657\n",
      "minorAxis_2[iTrk][2][0] =  -0.63475823\n",
      "  \n",
      "majorAxis[iTrk][0][0] =  0.0004024825\n",
      "majorAxis[iTrk][1][0] =  -0.00023784715\n",
      "majorAxis[iTrk][2][0] =  0.090883136\n",
      "minorAxis_1[iTrk][0][0] =  -8.988615\n",
      "minorAxis_1[iTrk][1][0] =  -15.210441\n",
      "minorAxis_1[iTrk][2][0] =  -6.56547e-08\n",
      "minorAxis_2[iTrk][0][0] =  -15.21024\n",
      "minorAxis_2[iTrk][1][0] =  8.988497\n",
      "minorAxis_2[iTrk][2][0] =  0.090883136\n",
      "  \n",
      "majorAxis[iTrk][0][0] =  0.0068744724\n",
      "majorAxis[iTrk][1][0] =  0.0017050834\n",
      "majorAxis[iTrk][2][0] =  0.3537121\n",
      "minorAxis_1[iTrk][0][0] =  4.2532983\n",
      "minorAxis_1[iTrk][1][0] =  -17.148241\n",
      "minorAxis_1[iTrk][2][0] =  1.1939819e-09\n",
      "minorAxis_2[iTrk][0][0] =  -17.144806\n",
      "minorAxis_2[iTrk][1][0] =  -4.252446\n",
      "minorAxis_2[iTrk][2][0] =  0.3537121\n",
      "  \n",
      "majorAxis[iTrk][0][0] =  -0.004920899\n",
      "majorAxis[iTrk][1][0] =  0.0009170567\n",
      "majorAxis[iTrk][2][0] =  0.2973651\n",
      "minorAxis_1[iTrk][0][0] =  -3.236844\n",
      "minorAxis_1[iTrk][1][0] =  -17.36881\n",
      "minorAxis_1[iTrk][2][0] =  -4.7397712e-09\n",
      "minorAxis_2[iTrk][0][0] =  -17.36635\n",
      "minorAxis_2[iTrk][1][0] =  3.2363856\n",
      "minorAxis_2[iTrk][2][0] =  -0.29736507\n",
      "  \n",
      "majorAxis[iTrk][0][0] =  -0.0001240533\n",
      "majorAxis[iTrk][1][0] =  0.00033394952\n",
      "majorAxis[iTrk][2][0] =  0.079335004\n",
      "minorAxis_1[iTrk][0][0] =  -16.562042\n",
      "minorAxis_1[iTrk][1][0] =  -6.1523557\n",
      "minorAxis_1[iTrk][2][0] =  3.1261713e-08\n",
      "minorAxis_2[iTrk][0][0] =  -6.1522937\n",
      "minorAxis_2[iTrk][1][0] =  16.561876\n",
      "minorAxis_2[iTrk][2][0] =  -0.079335004\n",
      "  \n",
      "majorAxis[iTrk][0][0] =  0.00010132754\n",
      "majorAxis[iTrk][1][0] =  6.684385e-05\n",
      "majorAxis[iTrk][2][0] =  0.046310693\n",
      "minorAxis_1[iTrk][0][0] =  -9.728917\n",
      "minorAxis_1[iTrk][1][0] =  14.747911\n",
      "minorAxis_1[iTrk][2][0] =  -2.3591362e-07\n",
      "minorAxis_2[iTrk][0][0] =  14.74786\n",
      "minorAxis_2[iTrk][1][0] =  9.728883\n",
      "minorAxis_2[iTrk][2][0] =  -0.04631069\n",
      "  \n",
      "majorAxis[iTrk][0][0] =  0.0042806785\n",
      "majorAxis[iTrk][1][0] =  0.004939851\n",
      "majorAxis[iTrk][2][0] =  0.3398017\n",
      "minorAxis_1[iTrk][0][0] =  13.3521\n",
      "minorAxis_1[iTrk][1][0] =  -11.5704\n",
      "minorAxis_1[iTrk][2][0] =  1.21654296e-08\n",
      "minorAxis_2[iTrk][0][0] =  -11.56826\n",
      "minorAxis_2[iTrk][1][0] =  -13.349631\n",
      "minorAxis_2[iTrk][2][0] =  0.33980173\n",
      "  \n",
      "majorAxis[iTrk][0][0] =  -0.00013103899\n",
      "majorAxis[iTrk][1][0] =  -0.0006021903\n",
      "majorAxis[iTrk][2][0] =  0.10434653\n",
      "minorAxis_1[iTrk][0][0] =  -17.26384\n",
      "minorAxis_1[iTrk][1][0] =  3.7566798\n",
      "minorAxis_1[iTrk][2][0] =  -9.616703e-08\n",
      "minorAxis_2[iTrk][0][0] =  3.7566135\n",
      "minorAxis_2[iTrk][1][0] =  17.263535\n",
      "minorAxis_2[iTrk][2][0] =  0.10434652\n",
      "  \n",
      "majorAxis[iTrk][0][0] =  0.0016481678\n",
      "majorAxis[iTrk][1][0] =  -0.0019788505\n",
      "majorAxis[iTrk][2][0] =  0.21330062\n",
      "minorAxis_1[iTrk][0][0] =  -13.575765\n",
      "minorAxis_1[iTrk][1][0] =  -11.307139\n",
      "minorAxis_1[iTrk][2][0] =  8.543098e-09\n",
      "minorAxis_2[iTrk][0][0] =  -11.306314\n",
      "minorAxis_2[iTrk][1][0] =  13.574774\n",
      "minorAxis_2[iTrk][2][0] =  0.21330062\n",
      "  \n",
      "len(X) =  80000\n",
      "len(Xlist) =  3\n",
      "Loaded /share/lazy/will/data/June30_2020_80k_3.h5 in 149.1 s\n",
      "pocaMx.shape =  (80000,)\n",
      "nEvts =  80000\n",
      "len(pocaMx[0]) =  204\n",
      "len(pocaMx[1]) =  33\n",
      "len(pocaMx[2]) =  206\n",
      "len(pocaMx[3]) =  150\n",
      "len(pocaMx[4]) =  96\n",
      "majorAxis.shape =  (80000, 3)\n",
      "minorAxis_1.shape =  (80000, 3)\n",
      "minorAxis_2.shape =  (80000, 3)\n",
      "have entered six_ellipsoid_parameters\n",
      "  \n",
      " \n",
      "  nEvts =  80000\n",
      " iEvt, nTrks =  0 204\n",
      " iEvt, nTrks =  1 33\n",
      " iEvt, nTrks =  2 206\n",
      " iEvt, nTrks =  3 150\n",
      " iEvt, nTrks =  4 96\n",
      " iEvt, nTrks =  5 10\n",
      " iEvt, nTrks =  6 174\n",
      " iEvt, nTrks =  7 320\n",
      " iEvt, nTrks =  8 164\n",
      " iEvt, nTrks =  9 119\n",
      "A.shape =  (80000,)\n",
      "majorAxis[iTrk][0][0] =  0.00057876867\n",
      "majorAxis[iTrk][1][0] =  0.00037603904\n",
      "majorAxis[iTrk][2][0] =  0.110427074\n",
      "minorAxis_1[iTrk][0][0] =  9.62588\n",
      "minorAxis_1[iTrk][1][0] =  -14.81537\n",
      "minorAxis_1[iTrk][2][0] =  8.391163e-09\n",
      "minorAxis_2[iTrk][0][0] =  -14.815081\n",
      "minorAxis_2[iTrk][1][0] =  -9.625692\n",
      "minorAxis_2[iTrk][2][0] =  0.11042709\n",
      "  \n",
      "majorAxis[iTrk][0][0] =  -7.687664e-05\n",
      "majorAxis[iTrk][1][0] =  -0.0017985329\n",
      "majorAxis[iTrk][2][0] =  0.17833562\n",
      "minorAxis_1[iTrk][0][0] =  -17.651728\n",
      "minorAxis_1[iTrk][1][0] =  0.7545069\n",
      "minorAxis_1[iTrk][2][0] =  -7.932265e-09\n",
      "minorAxis_2[iTrk][0][0] =  0.75446844\n",
      "minorAxis_2[iTrk][1][0] =  17.650827\n",
      "minorAxis_2[iTrk][2][0] =  0.17833562\n",
      "  \n",
      "majorAxis[iTrk][0][0] =  4.5855802e-05\n",
      "majorAxis[iTrk][1][0] =  -0.00054240844\n",
      "majorAxis[iTrk][2][0] =  0.098067455\n",
      "minorAxis_1[iTrk][0][0] =  17.605043\n",
      "minorAxis_1[iTrk][1][0] =  1.4883496\n",
      "minorAxis_1[iTrk][2][0] =  -2.7847218e-08\n",
      "minorAxis_2[iTrk][0][0] =  1.4883265\n",
      "minorAxis_2[iTrk][1][0] =  -17.604773\n",
      "minorAxis_2[iTrk][2][0] =  -0.098067455\n",
      "  \n",
      "majorAxis[iTrk][0][0] =  -0.0013144773\n",
      "majorAxis[iTrk][1][0] =  0.0008680699\n",
      "majorAxis[iTrk][2][0] =  0.16682307\n",
      "minorAxis_1[iTrk][0][0] =  -9.736217\n",
      "minorAxis_1[iTrk][1][0] =  -14.743094\n",
      "minorAxis_1[iTrk][2][0] =  -1.7552136e-08\n",
      "minorAxis_2[iTrk][0][0] =  -14.742435\n",
      "minorAxis_2[iTrk][1][0] =  9.735782\n",
      "minorAxis_2[iTrk][2][0] =  -0.16682304\n",
      "  \n",
      "majorAxis[iTrk][0][0] =  0.032227762\n",
      "majorAxis[iTrk][1][0] =  0.007741693\n",
      "majorAxis[iTrk][2][0] =  0.76488173\n",
      "minorAxis_1[iTrk][0][0] =  -4.1267405\n",
      "minorAxis_1[iTrk][1][0] =  17.179138\n",
      "minorAxis_1[iTrk][2][0] =  -2.3529467e-10\n",
      "minorAxis_2[iTrk][0][0] =  17.16303\n",
      "minorAxis_2[iTrk][1][0] =  4.122871\n",
      "minorAxis_2[iTrk][2][0] =  -0.7648817\n",
      "  \n",
      "majorAxis[iTrk][0][0] =  1.9753945\n",
      "majorAxis[iTrk][1][0] =  2.5669005\n",
      "majorAxis[iTrk][2][0] =  7.226382\n",
      "minorAxis_1[iTrk][0][0] =  14.0017\n",
      "minorAxis_1[iTrk][1][0] =  -10.7752075\n",
      "minorAxis_1[iTrk][2][0] =  5.3286344e-11\n",
      "minorAxis_2[iTrk][0][0] =  -9.832683\n",
      "minorAxis_2[iTrk][1][0] =  -12.776951\n",
      "minorAxis_2[iTrk][2][0] =  7.226381\n",
      "  \n",
      "majorAxis[iTrk][0][0] =  -0.0026900356\n",
      "majorAxis[iTrk][1][0] =  -0.0015841618\n",
      "majorAxis[iTrk][2][0] =  0.234843\n",
      "minorAxis_1[iTrk][0][0] =  -8.965469\n",
      "minorAxis_1[iTrk][1][0] =  15.224096\n",
      "minorAxis_1[iTrk][2][0] =  2.8236277e-08\n",
      "minorAxis_2[iTrk][0][0] =  15.222751\n",
      "minorAxis_2[iTrk][1][0] =  8.964677\n",
      "minorAxis_2[iTrk][2][0] =  0.234843\n",
      "  \n",
      "majorAxis[iTrk][0][0] =  -0.0001692281\n",
      "majorAxis[iTrk][1][0] =  0.0003505444\n",
      "majorAxis[iTrk][2][0] =  0.08292902\n",
      "minorAxis_1[iTrk][0][0] =  -15.910811\n",
      "minorAxis_1[iTrk][1][0] =  -7.68107\n",
      "minorAxis_1[iTrk][2][0] =  1.587002e-08\n",
      "minorAxis_2[iTrk][0][0] =  -7.680986\n",
      "minorAxis_2[iTrk][1][0] =  15.910635\n",
      "minorAxis_2[iTrk][2][0] =  -0.08292903\n",
      "  \n",
      "majorAxis[iTrk][0][0] =  0.0017714669\n",
      "majorAxis[iTrk][1][0] =  -0.001515166\n",
      "majorAxis[iTrk][2][0] =  0.20293355\n",
      "minorAxis_1[iTrk][0][0] =  11.483943\n",
      "minorAxis_1[iTrk][1][0] =  13.426532\n",
      "minorAxis_1[iTrk][2][0] =  -2.7840934e-09\n",
      "minorAxis_2[iTrk][0][0] =  13.425648\n",
      "minorAxis_2[iTrk][1][0] =  -11.483187\n",
      "minorAxis_2[iTrk][2][0] =  -0.20293356\n",
      "  \n",
      "majorAxis[iTrk][0][0] =  0.0006359923\n",
      "majorAxis[iTrk][1][0] =  -0.0003371759\n",
      "majorAxis[iTrk][2][0] =  0.112773284\n",
      "minorAxis_1[iTrk][0][0] =  8.275655\n",
      "minorAxis_1[iTrk][1][0] =  15.609813\n",
      "minorAxis_1[iTrk][2][0] =  -5.6373224e-08\n",
      "minorAxis_2[iTrk][0][0] =  15.609494\n",
      "minorAxis_2[iTrk][1][0] =  -8.275486\n",
      "minorAxis_2[iTrk][2][0] =  -0.11277328\n",
      "  \n",
      "len(X) =  80000\n",
      "len(Xlist) =  4\n",
      "Loaded /share/lazy/will/data/June30_2020_80k_4.h5 in 148.1 s\n",
      "outer loop X.shape =  (320000, 9, 600)\n",
      "Constructing 320000 event dataset took 1.927 s\n",
      "x_t.shape =  torch.Size([320000, 9, 600])\n",
      "x_t.shape[0] =  320000\n",
      "x_t.shape[1] =  9\n",
      "x_t.shape =  torch.Size([320000, 9, 600])\n"
     ]
    },
    {
     "name": "stdout",
     "output_type": "stream",
     "text": [
      "Loading data...\n",
      "pocaMx.shape =  (20000,)\n",
      "nEvts =  20000\n",
      "len(pocaMx[0]) =  211\n",
      "len(pocaMx[1]) =  21\n",
      "len(pocaMx[2]) =  20\n",
      "len(pocaMx[3]) =  198\n",
      "len(pocaMx[4]) =  233\n",
      "majorAxis.shape =  (20000, 3)\n",
      "minorAxis_1.shape =  (20000, 3)\n",
      "minorAxis_2.shape =  (20000, 3)\n",
      "have entered six_ellipsoid_parameters\n",
      "  \n",
      " \n",
      "  nEvts =  20000\n",
      " iEvt, nTrks =  0 211\n",
      " iEvt, nTrks =  1 21\n",
      " iEvt, nTrks =  2 20\n",
      " iEvt, nTrks =  3 198\n",
      " iEvt, nTrks =  4 233\n",
      " iEvt, nTrks =  5 85\n",
      " iEvt, nTrks =  6 223\n",
      " iEvt, nTrks =  7 425\n",
      " iEvt, nTrks =  8 252\n",
      " iEvt, nTrks =  9 169\n",
      "A.shape =  (20000,)\n",
      "majorAxis[iTrk][0][0] =  -0.00023452607\n",
      "majorAxis[iTrk][1][0] =  -0.00047206535\n",
      "majorAxis[iTrk][2][0] =  0.096502915\n",
      "minorAxis_1[iTrk][0][0] =  -15.822749\n",
      "minorAxis_1[iTrk][1][0] =  7.8608756\n",
      "minorAxis_1[iTrk][2][0] =  -2.6228399e-08\n",
      "minorAxis_2[iTrk][0][0] =  7.860759\n",
      "minorAxis_2[iTrk][1][0] =  15.822513\n",
      "minorAxis_2[iTrk][2][0] =  0.096502915\n",
      "  \n",
      "majorAxis[iTrk][0][0] =  -0.37655562\n",
      "majorAxis[iTrk][1][0] =  0.2768704\n",
      "majorAxis[iTrk][2][0] =  2.8546858\n",
      "minorAxis_1[iTrk][0][0] =  -10.466048\n",
      "minorAxis_1[iTrk][1][0] =  -14.234274\n",
      "minorAxis_1[iTrk][2][0] =  2.2974699e-11\n",
      "minorAxis_2[iTrk][0][0] =  -14.04724\n",
      "minorAxis_2[iTrk][1][0] =  10.328527\n",
      "minorAxis_2[iTrk][2][0] =  -2.8546853\n",
      "  \n",
      "majorAxis[iTrk][0][0] =  -0.024279848\n",
      "majorAxis[iTrk][1][0] =  0.0019689242\n",
      "majorAxis[iTrk][2][0] =  0.65580803\n",
      "minorAxis_1[iTrk][0][0] =  -1.4280497\n",
      "minorAxis_1[iTrk][1][0] =  -17.610037\n",
      "minorAxis_1[iTrk][2][0] =  -6.123401e-10\n",
      "minorAxis_2[iTrk][0][0] =  -17.597902\n",
      "minorAxis_2[iTrk][1][0] =  1.4270656\n",
      "minorAxis_2[iTrk][2][0] =  -0.6558081\n",
      "  \n",
      "majorAxis[iTrk][0][0] =  -0.007825993\n",
      "majorAxis[iTrk][1][0] =  0.004052097\n",
      "majorAxis[iTrk][2][0] =  0.3945435\n",
      "minorAxis_1[iTrk][0][0] =  8.123606\n",
      "minorAxis_1[iTrk][1][0] =  15.689478\n",
      "minorAxis_1[iTrk][2][0] =  -2.4940747e-10\n",
      "minorAxis_2[iTrk][0][0] =  15.685566\n",
      "minorAxis_2[iTrk][1][0] =  -8.12158\n",
      "minorAxis_2[iTrk][2][0] =  0.3945435\n",
      "  \n",
      "majorAxis[iTrk][0][0] =  0.0046102717\n",
      "majorAxis[iTrk][1][0] =  -0.0016007021\n",
      "majorAxis[iTrk][2][0] =  0.29361814\n",
      "minorAxis_1[iTrk][0][0] =  -5.794979\n",
      "minorAxis_1[iTrk][1][0] =  -16.690445\n",
      "minorAxis_1[iTrk][2][0] =  2.4897104e-09\n",
      "minorAxis_2[iTrk][0][0] =  -16.688139\n",
      "minorAxis_2[iTrk][1][0] =  5.794179\n",
      "minorAxis_2[iTrk][2][0] =  0.2936181\n",
      "  \n",
      "majorAxis[iTrk][0][0] =  -0.00020041714\n",
      "majorAxis[iTrk][1][0] =  0.00010468164\n",
      "majorAxis[iTrk][2][0] =  0.06320469\n",
      "minorAxis_1[iTrk][0][0] =  8.179679\n",
      "minorAxis_1[iTrk][1][0] =  15.660318\n",
      "minorAxis_1[iTrk][2][0] =  7.40176e-08\n",
      "minorAxis_2[iTrk][0][0] =  15.660218\n",
      "minorAxis_2[iTrk][1][0] =  -8.179626\n",
      "minorAxis_2[iTrk][2][0] =  0.06320469\n",
      "  \n",
      "majorAxis[iTrk][0][0] =  -0.00020603223\n",
      "majorAxis[iTrk][1][0] =  -0.0005662605\n",
      "majorAxis[iTrk][2][0] =  0.10317981\n",
      "minorAxis_1[iTrk][0][0] =  -16.603\n",
      "minorAxis_1[iTrk][1][0] =  6.040953\n",
      "minorAxis_1[iTrk][2][0] =  4.5812504e-07\n",
      "minorAxis_2[iTrk][0][0] =  6.0408506\n",
      "minorAxis_2[iTrk][1][0] =  16.602718\n",
      "minorAxis_2[iTrk][2][0] =  0.10317982\n",
      "  \n",
      "majorAxis[iTrk][0][0] =  -0.00040561036\n",
      "majorAxis[iTrk][1][0] =  0.00014461782\n",
      "majorAxis[iTrk][2][0] =  0.0872241\n",
      "minorAxis_1[iTrk][0][0] =  -5.933496\n",
      "minorAxis_1[iTrk][1][0] =  -16.641706\n",
      "minorAxis_1[iTrk][2][0] =  1.0720762e-08\n",
      "minorAxis_2[iTrk][0][0] =  -16.641502\n",
      "minorAxis_2[iTrk][1][0] =  5.9334235\n",
      "minorAxis_2[iTrk][2][0] =  -0.0872241\n",
      "  \n",
      "majorAxis[iTrk][0][0] =  0.00038461428\n",
      "majorAxis[iTrk][1][0] =  -3.4232737e-05\n",
      "majorAxis[iTrk][2][0] =  0.08259597\n",
      "minorAxis_1[iTrk][0][0] =  -1.5663412\n",
      "minorAxis_1[iTrk][1][0] =  -17.598276\n",
      "minorAxis_1[iTrk][2][0] =  3.2106848e-07\n",
      "minorAxis_2[iTrk][0][0] =  -17.598082\n",
      "minorAxis_2[iTrk][1][0] =  1.5663238\n",
      "minorAxis_2[iTrk][2][0] =  0.08259596\n",
      "  \n",
      "majorAxis[iTrk][0][0] =  -0.022277953\n",
      "majorAxis[iTrk][1][0] =  -0.0046837274\n",
      "majorAxis[iTrk][2][0] =  0.63399464\n",
      "minorAxis_1[iTrk][0][0] =  -3.6350286\n",
      "minorAxis_1[iTrk][1][0] =  17.289862\n",
      "minorAxis_1[iTrk][2][0] =  9.566169e-10\n",
      "minorAxis_2[iTrk][0][0] =  17.278727\n",
      "minorAxis_2[iTrk][1][0] =  3.6326876\n",
      "minorAxis_2[iTrk][2][0] =  0.6339946\n",
      "  \n",
      "len(X) =  20000\n",
      "len(Xlist) =  1\n",
      "Loaded dataAA/20K_POCA_kernel_evts_200926.h5 in 36.77 s\n",
      "outer loop X.shape =  (20000, 9, 600)\n",
      "Constructing 2000 event dataset took 0.01569 s\n",
      "x_t.shape =  torch.Size([2000, 9, 600])\n",
      "x_t.shape[0] =  2000\n",
      "x_t.shape[1] =  9\n",
      "x_t.shape =  torch.Size([2000, 9, 600])\n"
     ]
    }
   ],
   "source": [
    "\n",
    "## Training dataset. You can put as many files here as desired.\n",
    "\n",
    "##train_loader = collect_t2kde_data('/share/lazy/pv-finder/20k_evts_for_KDE_learning_200716.h5',\n",
    "train_loader = collect_t2kde_data('/share/lazy/will/data/June30_2020_80k_1.h5', \n",
    "                                    '/share/lazy/will/data/June30_2020_80k_2.h5',\n",
    "                                    '/share/lazy/will/data/June30_2020_80k_3.h5',\n",
    "                                    '/share/lazy/will/data/June30_2020_80k_4.h5',\n",
    "                             batch_size=batch_size,\n",
    "## if we are using a larger dataset (240K events, with the datasets above, and 11 GB  of GPU memory),\n",
    "## the dataset will overflow the GPU memory; device=device will allow the data to move back\n",
    "## and forth between the CPU and GPU memory. While this allows use of a larger dataset, it slows\n",
    "## down performance by about 10%.  So comment out when not needed.\n",
    "##                          device=device,\n",
    "##                           slice = slice(None,18000)\n",
    "                           )\n",
    "                            \n",
    "# Validation dataset. You can slice to reduce the size.\n",
    "## mds no separate validation set yet,\n",
    "val_loader = collect_t2kde_data('dataAA/20K_POCA_kernel_evts_200926.h5',\n",
    "                            batch_size=batch_size,\n",
    "##                            device=device,\n",
    "                            slice = slice(18000,None)\n",
    "                           )\n"
   ]
  },
  {
   "cell_type": "code",
   "execution_count": 16,
   "metadata": {
    "scrolled": false
   },
   "outputs": [
    {
     "data": {
      "application/javascript": [
       "/* Put everything inside the global mpl namespace */\n",
       "window.mpl = {};\n",
       "\n",
       "\n",
       "mpl.get_websocket_type = function() {\n",
       "    if (typeof(WebSocket) !== 'undefined') {\n",
       "        return WebSocket;\n",
       "    } else if (typeof(MozWebSocket) !== 'undefined') {\n",
       "        return MozWebSocket;\n",
       "    } else {\n",
       "        alert('Your browser does not have WebSocket support. ' +\n",
       "              'Please try Chrome, Safari or Firefox ≥ 6. ' +\n",
       "              'Firefox 4 and 5 are also supported but you ' +\n",
       "              'have to enable WebSockets in about:config.');\n",
       "    };\n",
       "}\n",
       "\n",
       "mpl.figure = function(figure_id, websocket, ondownload, parent_element) {\n",
       "    this.id = figure_id;\n",
       "\n",
       "    this.ws = websocket;\n",
       "\n",
       "    this.supports_binary = (this.ws.binaryType != undefined);\n",
       "\n",
       "    if (!this.supports_binary) {\n",
       "        var warnings = document.getElementById(\"mpl-warnings\");\n",
       "        if (warnings) {\n",
       "            warnings.style.display = 'block';\n",
       "            warnings.textContent = (\n",
       "                \"This browser does not support binary websocket messages. \" +\n",
       "                    \"Performance may be slow.\");\n",
       "        }\n",
       "    }\n",
       "\n",
       "    this.imageObj = new Image();\n",
       "\n",
       "    this.context = undefined;\n",
       "    this.message = undefined;\n",
       "    this.canvas = undefined;\n",
       "    this.rubberband_canvas = undefined;\n",
       "    this.rubberband_context = undefined;\n",
       "    this.format_dropdown = undefined;\n",
       "\n",
       "    this.image_mode = 'full';\n",
       "\n",
       "    this.root = $('<div/>');\n",
       "    this._root_extra_style(this.root)\n",
       "    this.root.attr('style', 'display: inline-block');\n",
       "\n",
       "    $(parent_element).append(this.root);\n",
       "\n",
       "    this._init_header(this);\n",
       "    this._init_canvas(this);\n",
       "    this._init_toolbar(this);\n",
       "\n",
       "    var fig = this;\n",
       "\n",
       "    this.waiting = false;\n",
       "\n",
       "    this.ws.onopen =  function () {\n",
       "            fig.send_message(\"supports_binary\", {value: fig.supports_binary});\n",
       "            fig.send_message(\"send_image_mode\", {});\n",
       "            if (mpl.ratio != 1) {\n",
       "                fig.send_message(\"set_dpi_ratio\", {'dpi_ratio': mpl.ratio});\n",
       "            }\n",
       "            fig.send_message(\"refresh\", {});\n",
       "        }\n",
       "\n",
       "    this.imageObj.onload = function() {\n",
       "            if (fig.image_mode == 'full') {\n",
       "                // Full images could contain transparency (where diff images\n",
       "                // almost always do), so we need to clear the canvas so that\n",
       "                // there is no ghosting.\n",
       "                fig.context.clearRect(0, 0, fig.canvas.width, fig.canvas.height);\n",
       "            }\n",
       "            fig.context.drawImage(fig.imageObj, 0, 0);\n",
       "        };\n",
       "\n",
       "    this.imageObj.onunload = function() {\n",
       "        fig.ws.close();\n",
       "    }\n",
       "\n",
       "    this.ws.onmessage = this._make_on_message_function(this);\n",
       "\n",
       "    this.ondownload = ondownload;\n",
       "}\n",
       "\n",
       "mpl.figure.prototype._init_header = function() {\n",
       "    var titlebar = $(\n",
       "        '<div class=\"ui-dialog-titlebar ui-widget-header ui-corner-all ' +\n",
       "        'ui-helper-clearfix\"/>');\n",
       "    var titletext = $(\n",
       "        '<div class=\"ui-dialog-title\" style=\"width: 100%; ' +\n",
       "        'text-align: center; padding: 3px;\"/>');\n",
       "    titlebar.append(titletext)\n",
       "    this.root.append(titlebar);\n",
       "    this.header = titletext[0];\n",
       "}\n",
       "\n",
       "\n",
       "\n",
       "mpl.figure.prototype._canvas_extra_style = function(canvas_div) {\n",
       "\n",
       "}\n",
       "\n",
       "\n",
       "mpl.figure.prototype._root_extra_style = function(canvas_div) {\n",
       "\n",
       "}\n",
       "\n",
       "mpl.figure.prototype._init_canvas = function() {\n",
       "    var fig = this;\n",
       "\n",
       "    var canvas_div = $('<div/>');\n",
       "\n",
       "    canvas_div.attr('style', 'position: relative; clear: both; outline: 0');\n",
       "\n",
       "    function canvas_keyboard_event(event) {\n",
       "        return fig.key_event(event, event['data']);\n",
       "    }\n",
       "\n",
       "    canvas_div.keydown('key_press', canvas_keyboard_event);\n",
       "    canvas_div.keyup('key_release', canvas_keyboard_event);\n",
       "    this.canvas_div = canvas_div\n",
       "    this._canvas_extra_style(canvas_div)\n",
       "    this.root.append(canvas_div);\n",
       "\n",
       "    var canvas = $('<canvas/>');\n",
       "    canvas.addClass('mpl-canvas');\n",
       "    canvas.attr('style', \"left: 0; top: 0; z-index: 0; outline: 0\")\n",
       "\n",
       "    this.canvas = canvas[0];\n",
       "    this.context = canvas[0].getContext(\"2d\");\n",
       "\n",
       "    var backingStore = this.context.backingStorePixelRatio ||\n",
       "\tthis.context.webkitBackingStorePixelRatio ||\n",
       "\tthis.context.mozBackingStorePixelRatio ||\n",
       "\tthis.context.msBackingStorePixelRatio ||\n",
       "\tthis.context.oBackingStorePixelRatio ||\n",
       "\tthis.context.backingStorePixelRatio || 1;\n",
       "\n",
       "    mpl.ratio = (window.devicePixelRatio || 1) / backingStore;\n",
       "\n",
       "    var rubberband = $('<canvas/>');\n",
       "    rubberband.attr('style', \"position: absolute; left: 0; top: 0; z-index: 1;\")\n",
       "\n",
       "    var pass_mouse_events = true;\n",
       "\n",
       "    canvas_div.resizable({\n",
       "        start: function(event, ui) {\n",
       "            pass_mouse_events = false;\n",
       "        },\n",
       "        resize: function(event, ui) {\n",
       "            fig.request_resize(ui.size.width, ui.size.height);\n",
       "        },\n",
       "        stop: function(event, ui) {\n",
       "            pass_mouse_events = true;\n",
       "            fig.request_resize(ui.size.width, ui.size.height);\n",
       "        },\n",
       "    });\n",
       "\n",
       "    function mouse_event_fn(event) {\n",
       "        if (pass_mouse_events)\n",
       "            return fig.mouse_event(event, event['data']);\n",
       "    }\n",
       "\n",
       "    rubberband.mousedown('button_press', mouse_event_fn);\n",
       "    rubberband.mouseup('button_release', mouse_event_fn);\n",
       "    // Throttle sequential mouse events to 1 every 20ms.\n",
       "    rubberband.mousemove('motion_notify', mouse_event_fn);\n",
       "\n",
       "    rubberband.mouseenter('figure_enter', mouse_event_fn);\n",
       "    rubberband.mouseleave('figure_leave', mouse_event_fn);\n",
       "\n",
       "    canvas_div.on(\"wheel\", function (event) {\n",
       "        event = event.originalEvent;\n",
       "        event['data'] = 'scroll'\n",
       "        if (event.deltaY < 0) {\n",
       "            event.step = 1;\n",
       "        } else {\n",
       "            event.step = -1;\n",
       "        }\n",
       "        mouse_event_fn(event);\n",
       "    });\n",
       "\n",
       "    canvas_div.append(canvas);\n",
       "    canvas_div.append(rubberband);\n",
       "\n",
       "    this.rubberband = rubberband;\n",
       "    this.rubberband_canvas = rubberband[0];\n",
       "    this.rubberband_context = rubberband[0].getContext(\"2d\");\n",
       "    this.rubberband_context.strokeStyle = \"#000000\";\n",
       "\n",
       "    this._resize_canvas = function(width, height) {\n",
       "        // Keep the size of the canvas, canvas container, and rubber band\n",
       "        // canvas in synch.\n",
       "        canvas_div.css('width', width)\n",
       "        canvas_div.css('height', height)\n",
       "\n",
       "        canvas.attr('width', width * mpl.ratio);\n",
       "        canvas.attr('height', height * mpl.ratio);\n",
       "        canvas.attr('style', 'width: ' + width + 'px; height: ' + height + 'px;');\n",
       "\n",
       "        rubberband.attr('width', width);\n",
       "        rubberband.attr('height', height);\n",
       "    }\n",
       "\n",
       "    // Set the figure to an initial 600x600px, this will subsequently be updated\n",
       "    // upon first draw.\n",
       "    this._resize_canvas(600, 600);\n",
       "\n",
       "    // Disable right mouse context menu.\n",
       "    $(this.rubberband_canvas).bind(\"contextmenu\",function(e){\n",
       "        return false;\n",
       "    });\n",
       "\n",
       "    function set_focus () {\n",
       "        canvas.focus();\n",
       "        canvas_div.focus();\n",
       "    }\n",
       "\n",
       "    window.setTimeout(set_focus, 100);\n",
       "}\n",
       "\n",
       "mpl.figure.prototype._init_toolbar = function() {\n",
       "    var fig = this;\n",
       "\n",
       "    var nav_element = $('<div/>');\n",
       "    nav_element.attr('style', 'width: 100%');\n",
       "    this.root.append(nav_element);\n",
       "\n",
       "    // Define a callback function for later on.\n",
       "    function toolbar_event(event) {\n",
       "        return fig.toolbar_button_onclick(event['data']);\n",
       "    }\n",
       "    function toolbar_mouse_event(event) {\n",
       "        return fig.toolbar_button_onmouseover(event['data']);\n",
       "    }\n",
       "\n",
       "    for(var toolbar_ind in mpl.toolbar_items) {\n",
       "        var name = mpl.toolbar_items[toolbar_ind][0];\n",
       "        var tooltip = mpl.toolbar_items[toolbar_ind][1];\n",
       "        var image = mpl.toolbar_items[toolbar_ind][2];\n",
       "        var method_name = mpl.toolbar_items[toolbar_ind][3];\n",
       "\n",
       "        if (!name) {\n",
       "            // put a spacer in here.\n",
       "            continue;\n",
       "        }\n",
       "        var button = $('<button/>');\n",
       "        button.addClass('ui-button ui-widget ui-state-default ui-corner-all ' +\n",
       "                        'ui-button-icon-only');\n",
       "        button.attr('role', 'button');\n",
       "        button.attr('aria-disabled', 'false');\n",
       "        button.click(method_name, toolbar_event);\n",
       "        button.mouseover(tooltip, toolbar_mouse_event);\n",
       "\n",
       "        var icon_img = $('<span/>');\n",
       "        icon_img.addClass('ui-button-icon-primary ui-icon');\n",
       "        icon_img.addClass(image);\n",
       "        icon_img.addClass('ui-corner-all');\n",
       "\n",
       "        var tooltip_span = $('<span/>');\n",
       "        tooltip_span.addClass('ui-button-text');\n",
       "        tooltip_span.html(tooltip);\n",
       "\n",
       "        button.append(icon_img);\n",
       "        button.append(tooltip_span);\n",
       "\n",
       "        nav_element.append(button);\n",
       "    }\n",
       "\n",
       "    var fmt_picker_span = $('<span/>');\n",
       "\n",
       "    var fmt_picker = $('<select/>');\n",
       "    fmt_picker.addClass('mpl-toolbar-option ui-widget ui-widget-content');\n",
       "    fmt_picker_span.append(fmt_picker);\n",
       "    nav_element.append(fmt_picker_span);\n",
       "    this.format_dropdown = fmt_picker[0];\n",
       "\n",
       "    for (var ind in mpl.extensions) {\n",
       "        var fmt = mpl.extensions[ind];\n",
       "        var option = $(\n",
       "            '<option/>', {selected: fmt === mpl.default_extension}).html(fmt);\n",
       "        fmt_picker.append(option);\n",
       "    }\n",
       "\n",
       "    // Add hover states to the ui-buttons\n",
       "    $( \".ui-button\" ).hover(\n",
       "        function() { $(this).addClass(\"ui-state-hover\");},\n",
       "        function() { $(this).removeClass(\"ui-state-hover\");}\n",
       "    );\n",
       "\n",
       "    var status_bar = $('<span class=\"mpl-message\"/>');\n",
       "    nav_element.append(status_bar);\n",
       "    this.message = status_bar[0];\n",
       "}\n",
       "\n",
       "mpl.figure.prototype.request_resize = function(x_pixels, y_pixels) {\n",
       "    // Request matplotlib to resize the figure. Matplotlib will then trigger a resize in the client,\n",
       "    // which will in turn request a refresh of the image.\n",
       "    this.send_message('resize', {'width': x_pixels, 'height': y_pixels});\n",
       "}\n",
       "\n",
       "mpl.figure.prototype.send_message = function(type, properties) {\n",
       "    properties['type'] = type;\n",
       "    properties['figure_id'] = this.id;\n",
       "    this.ws.send(JSON.stringify(properties));\n",
       "}\n",
       "\n",
       "mpl.figure.prototype.send_draw_message = function() {\n",
       "    if (!this.waiting) {\n",
       "        this.waiting = true;\n",
       "        this.ws.send(JSON.stringify({type: \"draw\", figure_id: this.id}));\n",
       "    }\n",
       "}\n",
       "\n",
       "\n",
       "mpl.figure.prototype.handle_save = function(fig, msg) {\n",
       "    var format_dropdown = fig.format_dropdown;\n",
       "    var format = format_dropdown.options[format_dropdown.selectedIndex].value;\n",
       "    fig.ondownload(fig, format);\n",
       "}\n",
       "\n",
       "\n",
       "mpl.figure.prototype.handle_resize = function(fig, msg) {\n",
       "    var size = msg['size'];\n",
       "    if (size[0] != fig.canvas.width || size[1] != fig.canvas.height) {\n",
       "        fig._resize_canvas(size[0], size[1]);\n",
       "        fig.send_message(\"refresh\", {});\n",
       "    };\n",
       "}\n",
       "\n",
       "mpl.figure.prototype.handle_rubberband = function(fig, msg) {\n",
       "    var x0 = msg['x0'] / mpl.ratio;\n",
       "    var y0 = (fig.canvas.height - msg['y0']) / mpl.ratio;\n",
       "    var x1 = msg['x1'] / mpl.ratio;\n",
       "    var y1 = (fig.canvas.height - msg['y1']) / mpl.ratio;\n",
       "    x0 = Math.floor(x0) + 0.5;\n",
       "    y0 = Math.floor(y0) + 0.5;\n",
       "    x1 = Math.floor(x1) + 0.5;\n",
       "    y1 = Math.floor(y1) + 0.5;\n",
       "    var min_x = Math.min(x0, x1);\n",
       "    var min_y = Math.min(y0, y1);\n",
       "    var width = Math.abs(x1 - x0);\n",
       "    var height = Math.abs(y1 - y0);\n",
       "\n",
       "    fig.rubberband_context.clearRect(\n",
       "        0, 0, fig.canvas.width / mpl.ratio, fig.canvas.height / mpl.ratio);\n",
       "\n",
       "    fig.rubberband_context.strokeRect(min_x, min_y, width, height);\n",
       "}\n",
       "\n",
       "mpl.figure.prototype.handle_figure_label = function(fig, msg) {\n",
       "    // Updates the figure title.\n",
       "    fig.header.textContent = msg['label'];\n",
       "}\n",
       "\n",
       "mpl.figure.prototype.handle_cursor = function(fig, msg) {\n",
       "    var cursor = msg['cursor'];\n",
       "    switch(cursor)\n",
       "    {\n",
       "    case 0:\n",
       "        cursor = 'pointer';\n",
       "        break;\n",
       "    case 1:\n",
       "        cursor = 'default';\n",
       "        break;\n",
       "    case 2:\n",
       "        cursor = 'crosshair';\n",
       "        break;\n",
       "    case 3:\n",
       "        cursor = 'move';\n",
       "        break;\n",
       "    }\n",
       "    fig.rubberband_canvas.style.cursor = cursor;\n",
       "}\n",
       "\n",
       "mpl.figure.prototype.handle_message = function(fig, msg) {\n",
       "    fig.message.textContent = msg['message'];\n",
       "}\n",
       "\n",
       "mpl.figure.prototype.handle_draw = function(fig, msg) {\n",
       "    // Request the server to send over a new figure.\n",
       "    fig.send_draw_message();\n",
       "}\n",
       "\n",
       "mpl.figure.prototype.handle_image_mode = function(fig, msg) {\n",
       "    fig.image_mode = msg['mode'];\n",
       "}\n",
       "\n",
       "mpl.figure.prototype.updated_canvas_event = function() {\n",
       "    // Called whenever the canvas gets updated.\n",
       "    this.send_message(\"ack\", {});\n",
       "}\n",
       "\n",
       "// A function to construct a web socket function for onmessage handling.\n",
       "// Called in the figure constructor.\n",
       "mpl.figure.prototype._make_on_message_function = function(fig) {\n",
       "    return function socket_on_message(evt) {\n",
       "        if (evt.data instanceof Blob) {\n",
       "            /* FIXME: We get \"Resource interpreted as Image but\n",
       "             * transferred with MIME type text/plain:\" errors on\n",
       "             * Chrome.  But how to set the MIME type?  It doesn't seem\n",
       "             * to be part of the websocket stream */\n",
       "            evt.data.type = \"image/png\";\n",
       "\n",
       "            /* Free the memory for the previous frames */\n",
       "            if (fig.imageObj.src) {\n",
       "                (window.URL || window.webkitURL).revokeObjectURL(\n",
       "                    fig.imageObj.src);\n",
       "            }\n",
       "\n",
       "            fig.imageObj.src = (window.URL || window.webkitURL).createObjectURL(\n",
       "                evt.data);\n",
       "            fig.updated_canvas_event();\n",
       "            fig.waiting = false;\n",
       "            return;\n",
       "        }\n",
       "        else if (typeof evt.data === 'string' && evt.data.slice(0, 21) == \"data:image/png;base64\") {\n",
       "            fig.imageObj.src = evt.data;\n",
       "            fig.updated_canvas_event();\n",
       "            fig.waiting = false;\n",
       "            return;\n",
       "        }\n",
       "\n",
       "        var msg = JSON.parse(evt.data);\n",
       "        var msg_type = msg['type'];\n",
       "\n",
       "        // Call the  \"handle_{type}\" callback, which takes\n",
       "        // the figure and JSON message as its only arguments.\n",
       "        try {\n",
       "            var callback = fig[\"handle_\" + msg_type];\n",
       "        } catch (e) {\n",
       "            console.log(\"No handler for the '\" + msg_type + \"' message type: \", msg);\n",
       "            return;\n",
       "        }\n",
       "\n",
       "        if (callback) {\n",
       "            try {\n",
       "                // console.log(\"Handling '\" + msg_type + \"' message: \", msg);\n",
       "                callback(fig, msg);\n",
       "            } catch (e) {\n",
       "                console.log(\"Exception inside the 'handler_\" + msg_type + \"' callback:\", e, e.stack, msg);\n",
       "            }\n",
       "        }\n",
       "    };\n",
       "}\n",
       "\n",
       "// from http://stackoverflow.com/questions/1114465/getting-mouse-location-in-canvas\n",
       "mpl.findpos = function(e) {\n",
       "    //this section is from http://www.quirksmode.org/js/events_properties.html\n",
       "    var targ;\n",
       "    if (!e)\n",
       "        e = window.event;\n",
       "    if (e.target)\n",
       "        targ = e.target;\n",
       "    else if (e.srcElement)\n",
       "        targ = e.srcElement;\n",
       "    if (targ.nodeType == 3) // defeat Safari bug\n",
       "        targ = targ.parentNode;\n",
       "\n",
       "    // jQuery normalizes the pageX and pageY\n",
       "    // pageX,Y are the mouse positions relative to the document\n",
       "    // offset() returns the position of the element relative to the document\n",
       "    var x = e.pageX - $(targ).offset().left;\n",
       "    var y = e.pageY - $(targ).offset().top;\n",
       "\n",
       "    return {\"x\": x, \"y\": y};\n",
       "};\n",
       "\n",
       "/*\n",
       " * return a copy of an object with only non-object keys\n",
       " * we need this to avoid circular references\n",
       " * http://stackoverflow.com/a/24161582/3208463\n",
       " */\n",
       "function simpleKeys (original) {\n",
       "  return Object.keys(original).reduce(function (obj, key) {\n",
       "    if (typeof original[key] !== 'object')\n",
       "        obj[key] = original[key]\n",
       "    return obj;\n",
       "  }, {});\n",
       "}\n",
       "\n",
       "mpl.figure.prototype.mouse_event = function(event, name) {\n",
       "    var canvas_pos = mpl.findpos(event)\n",
       "\n",
       "    if (name === 'button_press')\n",
       "    {\n",
       "        this.canvas.focus();\n",
       "        this.canvas_div.focus();\n",
       "    }\n",
       "\n",
       "    var x = canvas_pos.x * mpl.ratio;\n",
       "    var y = canvas_pos.y * mpl.ratio;\n",
       "\n",
       "    this.send_message(name, {x: x, y: y, button: event.button,\n",
       "                             step: event.step,\n",
       "                             guiEvent: simpleKeys(event)});\n",
       "\n",
       "    /* This prevents the web browser from automatically changing to\n",
       "     * the text insertion cursor when the button is pressed.  We want\n",
       "     * to control all of the cursor setting manually through the\n",
       "     * 'cursor' event from matplotlib */\n",
       "    event.preventDefault();\n",
       "    return false;\n",
       "}\n",
       "\n",
       "mpl.figure.prototype._key_event_extra = function(event, name) {\n",
       "    // Handle any extra behaviour associated with a key event\n",
       "}\n",
       "\n",
       "mpl.figure.prototype.key_event = function(event, name) {\n",
       "\n",
       "    // Prevent repeat events\n",
       "    if (name == 'key_press')\n",
       "    {\n",
       "        if (event.which === this._key)\n",
       "            return;\n",
       "        else\n",
       "            this._key = event.which;\n",
       "    }\n",
       "    if (name == 'key_release')\n",
       "        this._key = null;\n",
       "\n",
       "    var value = '';\n",
       "    if (event.ctrlKey && event.which != 17)\n",
       "        value += \"ctrl+\";\n",
       "    if (event.altKey && event.which != 18)\n",
       "        value += \"alt+\";\n",
       "    if (event.shiftKey && event.which != 16)\n",
       "        value += \"shift+\";\n",
       "\n",
       "    value += 'k';\n",
       "    value += event.which.toString();\n",
       "\n",
       "    this._key_event_extra(event, name);\n",
       "\n",
       "    this.send_message(name, {key: value,\n",
       "                             guiEvent: simpleKeys(event)});\n",
       "    return false;\n",
       "}\n",
       "\n",
       "mpl.figure.prototype.toolbar_button_onclick = function(name) {\n",
       "    if (name == 'download') {\n",
       "        this.handle_save(this, null);\n",
       "    } else {\n",
       "        this.send_message(\"toolbar_button\", {name: name});\n",
       "    }\n",
       "};\n",
       "\n",
       "mpl.figure.prototype.toolbar_button_onmouseover = function(tooltip) {\n",
       "    this.message.textContent = tooltip;\n",
       "};\n",
       "mpl.toolbar_items = [[\"Home\", \"Reset original view\", \"fa fa-home icon-home\", \"home\"], [\"Back\", \"Back to previous view\", \"fa fa-arrow-left icon-arrow-left\", \"back\"], [\"Forward\", \"Forward to next view\", \"fa fa-arrow-right icon-arrow-right\", \"forward\"], [\"\", \"\", \"\", \"\"], [\"Pan\", \"Pan axes with left mouse, zoom with right\", \"fa fa-arrows icon-move\", \"pan\"], [\"Zoom\", \"Zoom to rectangle\", \"fa fa-square-o icon-check-empty\", \"zoom\"], [\"\", \"\", \"\", \"\"], [\"Download\", \"Download plot\", \"fa fa-floppy-o icon-save\", \"download\"]];\n",
       "\n",
       "mpl.extensions = [\"eps\", \"jpeg\", \"pdf\", \"png\", \"ps\", \"raw\", \"svg\", \"tif\"];\n",
       "\n",
       "mpl.default_extension = \"png\";var comm_websocket_adapter = function(comm) {\n",
       "    // Create a \"websocket\"-like object which calls the given IPython comm\n",
       "    // object with the appropriate methods. Currently this is a non binary\n",
       "    // socket, so there is still some room for performance tuning.\n",
       "    var ws = {};\n",
       "\n",
       "    ws.close = function() {\n",
       "        comm.close()\n",
       "    };\n",
       "    ws.send = function(m) {\n",
       "        //console.log('sending', m);\n",
       "        comm.send(m);\n",
       "    };\n",
       "    // Register the callback with on_msg.\n",
       "    comm.on_msg(function(msg) {\n",
       "        //console.log('receiving', msg['content']['data'], msg);\n",
       "        // Pass the mpl event to the overridden (by mpl) onmessage function.\n",
       "        ws.onmessage(msg['content']['data'])\n",
       "    });\n",
       "    return ws;\n",
       "}\n",
       "\n",
       "mpl.mpl_figure_comm = function(comm, msg) {\n",
       "    // This is the function which gets called when the mpl process\n",
       "    // starts-up an IPython Comm through the \"matplotlib\" channel.\n",
       "\n",
       "    var id = msg.content.data.id;\n",
       "    // Get hold of the div created by the display call when the Comm\n",
       "    // socket was opened in Python.\n",
       "    var element = $(\"#\" + id);\n",
       "    var ws_proxy = comm_websocket_adapter(comm)\n",
       "\n",
       "    function ondownload(figure, format) {\n",
       "        window.open(figure.imageObj.src);\n",
       "    }\n",
       "\n",
       "    var fig = new mpl.figure(id, ws_proxy,\n",
       "                           ondownload,\n",
       "                           element.get(0));\n",
       "\n",
       "    // Call onopen now - mpl needs it, as it is assuming we've passed it a real\n",
       "    // web socket which is closed, not our websocket->open comm proxy.\n",
       "    ws_proxy.onopen();\n",
       "\n",
       "    fig.parent_element = element.get(0);\n",
       "    fig.cell_info = mpl.find_output_cell(\"<div id='\" + id + \"'></div>\");\n",
       "    if (!fig.cell_info) {\n",
       "        console.error(\"Failed to find cell for figure\", id, fig);\n",
       "        return;\n",
       "    }\n",
       "\n",
       "    var output_index = fig.cell_info[2]\n",
       "    var cell = fig.cell_info[0];\n",
       "\n",
       "};\n",
       "\n",
       "mpl.figure.prototype.handle_close = function(fig, msg) {\n",
       "    var width = fig.canvas.width/mpl.ratio\n",
       "    fig.root.unbind('remove')\n",
       "\n",
       "    // Update the output cell to use the data from the current canvas.\n",
       "    fig.push_to_output();\n",
       "    var dataURL = fig.canvas.toDataURL();\n",
       "    // Re-enable the keyboard manager in IPython - without this line, in FF,\n",
       "    // the notebook keyboard shortcuts fail.\n",
       "    IPython.keyboard_manager.enable()\n",
       "    $(fig.parent_element).html('<img src=\"' + dataURL + '\" width=\"' + width + '\">');\n",
       "    fig.close_ws(fig, msg);\n",
       "}\n",
       "\n",
       "mpl.figure.prototype.close_ws = function(fig, msg){\n",
       "    fig.send_message('closing', msg);\n",
       "    // fig.ws.close()\n",
       "}\n",
       "\n",
       "mpl.figure.prototype.push_to_output = function(remove_interactive) {\n",
       "    // Turn the data on the canvas into data in the output cell.\n",
       "    var width = this.canvas.width/mpl.ratio\n",
       "    var dataURL = this.canvas.toDataURL();\n",
       "    this.cell_info[1]['text/html'] = '<img src=\"' + dataURL + '\" width=\"' + width + '\">';\n",
       "}\n",
       "\n",
       "mpl.figure.prototype.updated_canvas_event = function() {\n",
       "    // Tell IPython that the notebook contents must change.\n",
       "    IPython.notebook.set_dirty(true);\n",
       "    this.send_message(\"ack\", {});\n",
       "    var fig = this;\n",
       "    // Wait a second, then push the new image to the DOM so\n",
       "    // that it is saved nicely (might be nice to debounce this).\n",
       "    setTimeout(function () { fig.push_to_output() }, 1000);\n",
       "}\n",
       "\n",
       "mpl.figure.prototype._init_toolbar = function() {\n",
       "    var fig = this;\n",
       "\n",
       "    var nav_element = $('<div/>');\n",
       "    nav_element.attr('style', 'width: 100%');\n",
       "    this.root.append(nav_element);\n",
       "\n",
       "    // Define a callback function for later on.\n",
       "    function toolbar_event(event) {\n",
       "        return fig.toolbar_button_onclick(event['data']);\n",
       "    }\n",
       "    function toolbar_mouse_event(event) {\n",
       "        return fig.toolbar_button_onmouseover(event['data']);\n",
       "    }\n",
       "\n",
       "    for(var toolbar_ind in mpl.toolbar_items){\n",
       "        var name = mpl.toolbar_items[toolbar_ind][0];\n",
       "        var tooltip = mpl.toolbar_items[toolbar_ind][1];\n",
       "        var image = mpl.toolbar_items[toolbar_ind][2];\n",
       "        var method_name = mpl.toolbar_items[toolbar_ind][3];\n",
       "\n",
       "        if (!name) { continue; };\n",
       "\n",
       "        var button = $('<button class=\"btn btn-default\" href=\"#\" title=\"' + name + '\"><i class=\"fa ' + image + ' fa-lg\"></i></button>');\n",
       "        button.click(method_name, toolbar_event);\n",
       "        button.mouseover(tooltip, toolbar_mouse_event);\n",
       "        nav_element.append(button);\n",
       "    }\n",
       "\n",
       "    // Add the status bar.\n",
       "    var status_bar = $('<span class=\"mpl-message\" style=\"text-align:right; float: right;\"/>');\n",
       "    nav_element.append(status_bar);\n",
       "    this.message = status_bar[0];\n",
       "\n",
       "    // Add the close button to the window.\n",
       "    var buttongrp = $('<div class=\"btn-group inline pull-right\"></div>');\n",
       "    var button = $('<button class=\"btn btn-mini btn-primary\" href=\"#\" title=\"Stop Interaction\"><i class=\"fa fa-power-off icon-remove icon-large\"></i></button>');\n",
       "    button.click(function (evt) { fig.handle_close(fig, {}); } );\n",
       "    button.mouseover('Stop Interaction', toolbar_mouse_event);\n",
       "    buttongrp.append(button);\n",
       "    var titlebar = this.root.find($('.ui-dialog-titlebar'));\n",
       "    titlebar.prepend(buttongrp);\n",
       "}\n",
       "\n",
       "mpl.figure.prototype._root_extra_style = function(el){\n",
       "    var fig = this\n",
       "    el.on(\"remove\", function(){\n",
       "\tfig.close_ws(fig, {});\n",
       "    });\n",
       "}\n",
       "\n",
       "mpl.figure.prototype._canvas_extra_style = function(el){\n",
       "    // this is important to make the div 'focusable\n",
       "    el.attr('tabindex', 0)\n",
       "    // reach out to IPython and tell the keyboard manager to turn it's self\n",
       "    // off when our div gets focus\n",
       "\n",
       "    // location in version 3\n",
       "    if (IPython.notebook.keyboard_manager) {\n",
       "        IPython.notebook.keyboard_manager.register_events(el);\n",
       "    }\n",
       "    else {\n",
       "        // location in version 2\n",
       "        IPython.keyboard_manager.register_events(el);\n",
       "    }\n",
       "\n",
       "}\n",
       "\n",
       "mpl.figure.prototype._key_event_extra = function(event, name) {\n",
       "    var manager = IPython.notebook.keyboard_manager;\n",
       "    if (!manager)\n",
       "        manager = IPython.keyboard_manager;\n",
       "\n",
       "    // Check for shift+enter\n",
       "    if (event.shiftKey && event.which == 13) {\n",
       "        this.canvas_div.blur();\n",
       "        // select the cell after this one\n",
       "        var index = IPython.notebook.find_cell_index(this.cell_info[0]);\n",
       "        IPython.notebook.select(index + 1);\n",
       "    }\n",
       "}\n",
       "\n",
       "mpl.figure.prototype.handle_save = function(fig, msg) {\n",
       "    fig.ondownload(fig, null);\n",
       "}\n",
       "\n",
       "\n",
       "mpl.find_output_cell = function(html_output) {\n",
       "    // Return the cell and output element which can be found *uniquely* in the notebook.\n",
       "    // Note - this is a bit hacky, but it is done because the \"notebook_saving.Notebook\"\n",
       "    // IPython event is triggered only after the cells have been serialised, which for\n",
       "    // our purposes (turning an active figure into a static one), is too late.\n",
       "    var cells = IPython.notebook.get_cells();\n",
       "    var ncells = cells.length;\n",
       "    for (var i=0; i<ncells; i++) {\n",
       "        var cell = cells[i];\n",
       "        if (cell.cell_type === 'code'){\n",
       "            for (var j=0; j<cell.output_area.outputs.length; j++) {\n",
       "                var data = cell.output_area.outputs[j];\n",
       "                if (data.data) {\n",
       "                    // IPython >= 3 moved mimebundle to data attribute of output\n",
       "                    data = data.data;\n",
       "                }\n",
       "                if (data['text/html'] == html_output) {\n",
       "                    return [cell, data, j];\n",
       "                }\n",
       "            }\n",
       "        }\n",
       "    }\n",
       "}\n",
       "\n",
       "// Register the function which deals with the matplotlib target/channel.\n",
       "// The kernel may be null if the page has been refreshed.\n",
       "if (IPython.notebook.kernel != null) {\n",
       "    IPython.notebook.kernel.comm_manager.register_target('matplotlib', mpl.mpl_figure_comm);\n",
       "}\n"
      ],
      "text/plain": [
       "<IPython.core.display.Javascript object>"
      ]
     },
     "metadata": {},
     "output_type": "display_data"
    },
    {
     "data": {
      "text/html": [
       "<img src=\"data:image/png;base64,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\" width=\"1000\">"
      ],
      "text/plain": [
       "<IPython.core.display.HTML object>"
      ]
     },
     "metadata": {},
     "output_type": "display_data"
    }
   ],
   "source": [
    "ax, tax, lax, lines = dual_train_plots()\n",
    "fig = ax.figure\n",
    "plt.tight_layout()"
   ]
  },
  {
   "cell_type": "code",
   "execution_count": 17,
   "metadata": {
    "scrolled": false
   },
   "outputs": [
    {
     "name": "stdout",
     "output_type": "stream",
     "text": [
      "Number of batches: train = 6667, val = 42\n"
     ]
    },
    {
     "data": {
      "application/vnd.jupyter.widget-view+json": {
       "model_id": "48d408d66e0146f6b2264e062acbb63c",
       "version_major": 2,
       "version_minor": 0
      },
      "text/plain": [
       "HBox(children=(FloatProgress(value=0.0, description='Epochs', layout=Layout(flex='2'), max=75.0, style=Progres…"
      ]
     },
     "metadata": {},
     "output_type": "display_data"
    },
    {
     "name": "stdout",
     "output_type": "stream",
     "text": [
      "Number of batches: train = 6667, val = 42\n"
     ]
    },
    {
     "data": {
      "application/vnd.jupyter.widget-view+json": {
       "model_id": "",
       "version_major": 2,
       "version_minor": 0
      },
      "text/plain": [
       "HBox(children=(FloatProgress(value=0.0, description='Training', layout=Layout(flex='2'), max=6667.0, style=Pro…"
      ]
     },
     "metadata": {},
     "output_type": "display_data"
    },
    {
     "name": "stdout",
     "output_type": "stream",
     "text": [
      "Epoch 0: train=1.02875, val=0.760364, took 600.18 s\n"
     ]
    },
    {
     "data": {
      "application/vnd.jupyter.widget-view+json": {
       "model_id": "",
       "version_major": 2,
       "version_minor": 0
      },
      "text/plain": [
       "HBox(children=(FloatProgress(value=0.0, description='Training', layout=Layout(flex='2'), max=6667.0, style=Pro…"
      ]
     },
     "metadata": {},
     "output_type": "display_data"
    },
    {
     "name": "stdout",
     "output_type": "stream",
     "text": [
      "Epoch 1: train=1.02626, val=0.756663, took 604.43 s\n"
     ]
    },
    {
     "data": {
      "application/vnd.jupyter.widget-view+json": {
       "model_id": "",
       "version_major": 2,
       "version_minor": 0
      },
      "text/plain": [
       "HBox(children=(FloatProgress(value=0.0, description='Training', layout=Layout(flex='2'), max=6667.0, style=Pro…"
      ]
     },
     "metadata": {},
     "output_type": "display_data"
    },
    {
     "name": "stdout",
     "output_type": "stream",
     "text": [
      "Epoch 2: train=1.02409, val=0.751602, took 600.51 s\n"
     ]
    },
    {
     "data": {
      "application/vnd.jupyter.widget-view+json": {
       "model_id": "",
       "version_major": 2,
       "version_minor": 0
      },
      "text/plain": [
       "HBox(children=(FloatProgress(value=0.0, description='Training', layout=Layout(flex='2'), max=6667.0, style=Pro…"
      ]
     },
     "metadata": {},
     "output_type": "display_data"
    },
    {
     "name": "stdout",
     "output_type": "stream",
     "text": [
      "Epoch 3: train=1.02367, val=0.751805, took 598.69 s\n"
     ]
    },
    {
     "data": {
      "application/vnd.jupyter.widget-view+json": {
       "model_id": "",
       "version_major": 2,
       "version_minor": 0
      },
      "text/plain": [
       "HBox(children=(FloatProgress(value=0.0, description='Training', layout=Layout(flex='2'), max=6667.0, style=Pro…"
      ]
     },
     "metadata": {},
     "output_type": "display_data"
    },
    {
     "name": "stdout",
     "output_type": "stream",
     "text": [
      "Epoch 4: train=1.02423, val=0.779558, took 596.43 s\n"
     ]
    },
    {
     "data": {
      "application/vnd.jupyter.widget-view+json": {
       "model_id": "",
       "version_major": 2,
       "version_minor": 0
      },
      "text/plain": [
       "HBox(children=(FloatProgress(value=0.0, description='Training', layout=Layout(flex='2'), max=6667.0, style=Pro…"
      ]
     },
     "metadata": {},
     "output_type": "display_data"
    },
    {
     "name": "stdout",
     "output_type": "stream",
     "text": [
      "Epoch 5: train=1.02143, val=0.774947, took 596.47 s\n"
     ]
    },
    {
     "data": {
      "application/vnd.jupyter.widget-view+json": {
       "model_id": "",
       "version_major": 2,
       "version_minor": 0
      },
      "text/plain": [
       "HBox(children=(FloatProgress(value=0.0, description='Training', layout=Layout(flex='2'), max=6667.0, style=Pro…"
      ]
     },
     "metadata": {},
     "output_type": "display_data"
    },
    {
     "name": "stdout",
     "output_type": "stream",
     "text": [
      "Epoch 6: train=1.02029, val=0.749857, took 595.68 s\n"
     ]
    },
    {
     "data": {
      "application/vnd.jupyter.widget-view+json": {
       "model_id": "",
       "version_major": 2,
       "version_minor": 0
      },
      "text/plain": [
       "HBox(children=(FloatProgress(value=0.0, description='Training', layout=Layout(flex='2'), max=6667.0, style=Pro…"
      ]
     },
     "metadata": {},
     "output_type": "display_data"
    },
    {
     "name": "stdout",
     "output_type": "stream",
     "text": [
      "Epoch 7: train=1.02086, val=0.756503, took 594.29 s\n"
     ]
    },
    {
     "data": {
      "application/vnd.jupyter.widget-view+json": {
       "model_id": "",
       "version_major": 2,
       "version_minor": 0
      },
      "text/plain": [
       "HBox(children=(FloatProgress(value=0.0, description='Training', layout=Layout(flex='2'), max=6667.0, style=Pro…"
      ]
     },
     "metadata": {},
     "output_type": "display_data"
    },
    {
     "name": "stdout",
     "output_type": "stream",
     "text": [
      "Epoch 8: train=1.01912, val=0.81803, took 592.66 s\n"
     ]
    },
    {
     "data": {
      "application/vnd.jupyter.widget-view+json": {
       "model_id": "",
       "version_major": 2,
       "version_minor": 0
      },
      "text/plain": [
       "HBox(children=(FloatProgress(value=0.0, description='Training', layout=Layout(flex='2'), max=6667.0, style=Pro…"
      ]
     },
     "metadata": {},
     "output_type": "display_data"
    },
    {
     "name": "stdout",
     "output_type": "stream",
     "text": [
      "Epoch 9: train=1.01589, val=0.763761, took 592.88 s\n"
     ]
    },
    {
     "data": {
      "application/vnd.jupyter.widget-view+json": {
       "model_id": "",
       "version_major": 2,
       "version_minor": 0
      },
      "text/plain": [
       "HBox(children=(FloatProgress(value=0.0, description='Training', layout=Layout(flex='2'), max=6667.0, style=Pro…"
      ]
     },
     "metadata": {},
     "output_type": "display_data"
    },
    {
     "name": "stdout",
     "output_type": "stream",
     "text": [
      "Epoch 10: train=1.01651, val=0.750855, took 592.96 s\n"
     ]
    },
    {
     "data": {
      "application/vnd.jupyter.widget-view+json": {
       "model_id": "",
       "version_major": 2,
       "version_minor": 0
      },
      "text/plain": [
       "HBox(children=(FloatProgress(value=0.0, description='Training', layout=Layout(flex='2'), max=6667.0, style=Pro…"
      ]
     },
     "metadata": {},
     "output_type": "display_data"
    },
    {
     "name": "stdout",
     "output_type": "stream",
     "text": [
      "Epoch 11: train=1.016, val=0.789546, took 592.57 s\n"
     ]
    },
    {
     "data": {
      "application/vnd.jupyter.widget-view+json": {
       "model_id": "",
       "version_major": 2,
       "version_minor": 0
      },
      "text/plain": [
       "HBox(children=(FloatProgress(value=0.0, description='Training', layout=Layout(flex='2'), max=6667.0, style=Pro…"
      ]
     },
     "metadata": {},
     "output_type": "display_data"
    },
    {
     "name": "stdout",
     "output_type": "stream",
     "text": [
      "Epoch 12: train=1.01458, val=0.764531, took 592.29 s\n"
     ]
    },
    {
     "data": {
      "application/vnd.jupyter.widget-view+json": {
       "model_id": "",
       "version_major": 2,
       "version_minor": 0
      },
      "text/plain": [
       "HBox(children=(FloatProgress(value=0.0, description='Training', layout=Layout(flex='2'), max=6667.0, style=Pro…"
      ]
     },
     "metadata": {},
     "output_type": "display_data"
    },
    {
     "name": "stdout",
     "output_type": "stream",
     "text": [
      "Epoch 13: train=1.01406, val=0.784265, took 592.29 s\n"
     ]
    },
    {
     "data": {
      "application/vnd.jupyter.widget-view+json": {
       "model_id": "",
       "version_major": 2,
       "version_minor": 0
      },
      "text/plain": [
       "HBox(children=(FloatProgress(value=0.0, description='Training', layout=Layout(flex='2'), max=6667.0, style=Pro…"
      ]
     },
     "metadata": {},
     "output_type": "display_data"
    },
    {
     "name": "stdout",
     "output_type": "stream",
     "text": [
      "Epoch 14: train=1.01323, val=0.742582, took 591.84 s\n"
     ]
    },
    {
     "data": {
      "application/vnd.jupyter.widget-view+json": {
       "model_id": "",
       "version_major": 2,
       "version_minor": 0
      },
      "text/plain": [
       "HBox(children=(FloatProgress(value=0.0, description='Training', layout=Layout(flex='2'), max=6667.0, style=Pro…"
      ]
     },
     "metadata": {},
     "output_type": "display_data"
    },
    {
     "name": "stdout",
     "output_type": "stream",
     "text": [
      "Epoch 15: train=1.01314, val=0.747993, took 591.29 s\n"
     ]
    },
    {
     "data": {
      "application/vnd.jupyter.widget-view+json": {
       "model_id": "",
       "version_major": 2,
       "version_minor": 0
      },
      "text/plain": [
       "HBox(children=(FloatProgress(value=0.0, description='Training', layout=Layout(flex='2'), max=6667.0, style=Pro…"
      ]
     },
     "metadata": {},
     "output_type": "display_data"
    },
    {
     "name": "stdout",
     "output_type": "stream",
     "text": [
      "Epoch 16: train=1.01308, val=0.750186, took 591.17 s\n"
     ]
    },
    {
     "data": {
      "application/vnd.jupyter.widget-view+json": {
       "model_id": "",
       "version_major": 2,
       "version_minor": 0
      },
      "text/plain": [
       "HBox(children=(FloatProgress(value=0.0, description='Training', layout=Layout(flex='2'), max=6667.0, style=Pro…"
      ]
     },
     "metadata": {},
     "output_type": "display_data"
    },
    {
     "name": "stdout",
     "output_type": "stream",
     "text": [
      "Epoch 17: train=1.01095, val=0.769774, took 591.05 s\n"
     ]
    },
    {
     "data": {
      "application/vnd.jupyter.widget-view+json": {
       "model_id": "",
       "version_major": 2,
       "version_minor": 0
      },
      "text/plain": [
       "HBox(children=(FloatProgress(value=0.0, description='Training', layout=Layout(flex='2'), max=6667.0, style=Pro…"
      ]
     },
     "metadata": {},
     "output_type": "display_data"
    },
    {
     "name": "stdout",
     "output_type": "stream",
     "text": [
      "Epoch 18: train=1.00947, val=0.745553, took 590.94 s\n"
     ]
    },
    {
     "data": {
      "application/vnd.jupyter.widget-view+json": {
       "model_id": "",
       "version_major": 2,
       "version_minor": 0
      },
      "text/plain": [
       "HBox(children=(FloatProgress(value=0.0, description='Training', layout=Layout(flex='2'), max=6667.0, style=Pro…"
      ]
     },
     "metadata": {},
     "output_type": "display_data"
    },
    {
     "name": "stdout",
     "output_type": "stream",
     "text": [
      "Epoch 19: train=1.00967, val=0.739908, took 590.83 s\n"
     ]
    },
    {
     "data": {
      "application/vnd.jupyter.widget-view+json": {
       "model_id": "",
       "version_major": 2,
       "version_minor": 0
      },
      "text/plain": [
       "HBox(children=(FloatProgress(value=0.0, description='Training', layout=Layout(flex='2'), max=6667.0, style=Pro…"
      ]
     },
     "metadata": {},
     "output_type": "display_data"
    },
    {
     "name": "stdout",
     "output_type": "stream",
     "text": [
      "Epoch 20: train=1.00703, val=0.740905, took 590.85 s\n"
     ]
    },
    {
     "data": {
      "application/vnd.jupyter.widget-view+json": {
       "model_id": "",
       "version_major": 2,
       "version_minor": 0
      },
      "text/plain": [
       "HBox(children=(FloatProgress(value=0.0, description='Training', layout=Layout(flex='2'), max=6667.0, style=Pro…"
      ]
     },
     "metadata": {},
     "output_type": "display_data"
    },
    {
     "name": "stdout",
     "output_type": "stream",
     "text": [
      "Epoch 21: train=1.0059, val=0.739286, took 590.77 s\n"
     ]
    },
    {
     "data": {
      "application/vnd.jupyter.widget-view+json": {
       "model_id": "",
       "version_major": 2,
       "version_minor": 0
      },
      "text/plain": [
       "HBox(children=(FloatProgress(value=0.0, description='Training', layout=Layout(flex='2'), max=6667.0, style=Pro…"
      ]
     },
     "metadata": {},
     "output_type": "display_data"
    },
    {
     "name": "stdout",
     "output_type": "stream",
     "text": [
      "Epoch 22: train=1.00573, val=0.738712, took 590.77 s\n"
     ]
    },
    {
     "data": {
      "application/vnd.jupyter.widget-view+json": {
       "model_id": "",
       "version_major": 2,
       "version_minor": 0
      },
      "text/plain": [
       "HBox(children=(FloatProgress(value=0.0, description='Training', layout=Layout(flex='2'), max=6667.0, style=Pro…"
      ]
     },
     "metadata": {},
     "output_type": "display_data"
    },
    {
     "name": "stdout",
     "output_type": "stream",
     "text": [
      "Epoch 23: train=1.00412, val=0.73587, took 590.23 s\n"
     ]
    },
    {
     "data": {
      "application/vnd.jupyter.widget-view+json": {
       "model_id": "",
       "version_major": 2,
       "version_minor": 0
      },
      "text/plain": [
       "HBox(children=(FloatProgress(value=0.0, description='Training', layout=Layout(flex='2'), max=6667.0, style=Pro…"
      ]
     },
     "metadata": {},
     "output_type": "display_data"
    },
    {
     "name": "stdout",
     "output_type": "stream",
     "text": [
      "Epoch 24: train=1.003, val=0.802723, took 590.6 s\n"
     ]
    },
    {
     "data": {
      "application/vnd.jupyter.widget-view+json": {
       "model_id": "",
       "version_major": 2,
       "version_minor": 0
      },
      "text/plain": [
       "HBox(children=(FloatProgress(value=0.0, description='Training', layout=Layout(flex='2'), max=6667.0, style=Pro…"
      ]
     },
     "metadata": {},
     "output_type": "display_data"
    },
    {
     "name": "stdout",
     "output_type": "stream",
     "text": [
      "Epoch 25: train=1.00242, val=0.733684, took 590.97 s\n"
     ]
    },
    {
     "data": {
      "application/vnd.jupyter.widget-view+json": {
       "model_id": "",
       "version_major": 2,
       "version_minor": 0
      },
      "text/plain": [
       "HBox(children=(FloatProgress(value=0.0, description='Training', layout=Layout(flex='2'), max=6667.0, style=Pro…"
      ]
     },
     "metadata": {},
     "output_type": "display_data"
    },
    {
     "name": "stdout",
     "output_type": "stream",
     "text": [
      "Epoch 26: train=1.00201, val=0.735946, took 592.21 s\n"
     ]
    },
    {
     "data": {
      "application/vnd.jupyter.widget-view+json": {
       "model_id": "",
       "version_major": 2,
       "version_minor": 0
      },
      "text/plain": [
       "HBox(children=(FloatProgress(value=0.0, description='Training', layout=Layout(flex='2'), max=6667.0, style=Pro…"
      ]
     },
     "metadata": {},
     "output_type": "display_data"
    },
    {
     "name": "stdout",
     "output_type": "stream",
     "text": [
      "Epoch 27: train=1.0002, val=0.753911, took 594.89 s\n"
     ]
    },
    {
     "data": {
      "application/vnd.jupyter.widget-view+json": {
       "model_id": "",
       "version_major": 2,
       "version_minor": 0
      },
      "text/plain": [
       "HBox(children=(FloatProgress(value=0.0, description='Training', layout=Layout(flex='2'), max=6667.0, style=Pro…"
      ]
     },
     "metadata": {},
     "output_type": "display_data"
    },
    {
     "name": "stdout",
     "output_type": "stream",
     "text": [
      "Epoch 28: train=1.00076, val=0.733554, took 592.39 s\n"
     ]
    },
    {
     "data": {
      "application/vnd.jupyter.widget-view+json": {
       "model_id": "",
       "version_major": 2,
       "version_minor": 0
      },
      "text/plain": [
       "HBox(children=(FloatProgress(value=0.0, description='Training', layout=Layout(flex='2'), max=6667.0, style=Pro…"
      ]
     },
     "metadata": {},
     "output_type": "display_data"
    },
    {
     "name": "stdout",
     "output_type": "stream",
     "text": [
      "Epoch 29: train=0.997489, val=0.731442, took 594.63 s\n"
     ]
    },
    {
     "data": {
      "application/vnd.jupyter.widget-view+json": {
       "model_id": "",
       "version_major": 2,
       "version_minor": 0
      },
      "text/plain": [
       "HBox(children=(FloatProgress(value=0.0, description='Training', layout=Layout(flex='2'), max=6667.0, style=Pro…"
      ]
     },
     "metadata": {},
     "output_type": "display_data"
    },
    {
     "name": "stdout",
     "output_type": "stream",
     "text": [
      "Epoch 30: train=0.99814, val=0.760618, took 592.26 s\n"
     ]
    },
    {
     "data": {
      "application/vnd.jupyter.widget-view+json": {
       "model_id": "",
       "version_major": 2,
       "version_minor": 0
      },
      "text/plain": [
       "HBox(children=(FloatProgress(value=0.0, description='Training', layout=Layout(flex='2'), max=6667.0, style=Pro…"
      ]
     },
     "metadata": {},
     "output_type": "display_data"
    },
    {
     "name": "stdout",
     "output_type": "stream",
     "text": [
      "Epoch 31: train=0.997526, val=0.731068, took 591.9 s\n"
     ]
    },
    {
     "data": {
      "application/vnd.jupyter.widget-view+json": {
       "model_id": "",
       "version_major": 2,
       "version_minor": 0
      },
      "text/plain": [
       "HBox(children=(FloatProgress(value=0.0, description='Training', layout=Layout(flex='2'), max=6667.0, style=Pro…"
      ]
     },
     "metadata": {},
     "output_type": "display_data"
    },
    {
     "name": "stdout",
     "output_type": "stream",
     "text": [
      "Epoch 32: train=0.995511, val=0.738224, took 592.31 s\n"
     ]
    },
    {
     "data": {
      "application/vnd.jupyter.widget-view+json": {
       "model_id": "",
       "version_major": 2,
       "version_minor": 0
      },
      "text/plain": [
       "HBox(children=(FloatProgress(value=0.0, description='Training', layout=Layout(flex='2'), max=6667.0, style=Pro…"
      ]
     },
     "metadata": {},
     "output_type": "display_data"
    },
    {
     "name": "stdout",
     "output_type": "stream",
     "text": [
      "Epoch 33: train=0.994508, val=0.732113, took 593.1 s\n"
     ]
    },
    {
     "data": {
      "application/vnd.jupyter.widget-view+json": {
       "model_id": "",
       "version_major": 2,
       "version_minor": 0
      },
      "text/plain": [
       "HBox(children=(FloatProgress(value=0.0, description='Training', layout=Layout(flex='2'), max=6667.0, style=Pro…"
      ]
     },
     "metadata": {},
     "output_type": "display_data"
    },
    {
     "name": "stdout",
     "output_type": "stream",
     "text": [
      "Epoch 34: train=0.993686, val=0.729621, took 592.77 s\n"
     ]
    },
    {
     "data": {
      "application/vnd.jupyter.widget-view+json": {
       "model_id": "",
       "version_major": 2,
       "version_minor": 0
      },
      "text/plain": [
       "HBox(children=(FloatProgress(value=0.0, description='Training', layout=Layout(flex='2'), max=6667.0, style=Pro…"
      ]
     },
     "metadata": {},
     "output_type": "display_data"
    },
    {
     "name": "stdout",
     "output_type": "stream",
     "text": [
      "Epoch 35: train=0.993712, val=0.830537, took 591.94 s\n"
     ]
    },
    {
     "data": {
      "application/vnd.jupyter.widget-view+json": {
       "model_id": "",
       "version_major": 2,
       "version_minor": 0
      },
      "text/plain": [
       "HBox(children=(FloatProgress(value=0.0, description='Training', layout=Layout(flex='2'), max=6667.0, style=Pro…"
      ]
     },
     "metadata": {},
     "output_type": "display_data"
    },
    {
     "name": "stdout",
     "output_type": "stream",
     "text": [
      "Epoch 36: train=0.992969, val=0.739791, took 593.13 s\n"
     ]
    },
    {
     "data": {
      "application/vnd.jupyter.widget-view+json": {
       "model_id": "",
       "version_major": 2,
       "version_minor": 0
      },
      "text/plain": [
       "HBox(children=(FloatProgress(value=0.0, description='Training', layout=Layout(flex='2'), max=6667.0, style=Pro…"
      ]
     },
     "metadata": {},
     "output_type": "display_data"
    },
    {
     "name": "stdout",
     "output_type": "stream",
     "text": [
      "Epoch 37: train=0.991198, val=0.745068, took 592.82 s\n"
     ]
    },
    {
     "data": {
      "application/vnd.jupyter.widget-view+json": {
       "model_id": "",
       "version_major": 2,
       "version_minor": 0
      },
      "text/plain": [
       "HBox(children=(FloatProgress(value=0.0, description='Training', layout=Layout(flex='2'), max=6667.0, style=Pro…"
      ]
     },
     "metadata": {},
     "output_type": "display_data"
    },
    {
     "name": "stdout",
     "output_type": "stream",
     "text": [
      "Epoch 38: train=0.990021, val=0.723779, took 592.83 s\n"
     ]
    },
    {
     "data": {
      "application/vnd.jupyter.widget-view+json": {
       "model_id": "",
       "version_major": 2,
       "version_minor": 0
      },
      "text/plain": [
       "HBox(children=(FloatProgress(value=0.0, description='Training', layout=Layout(flex='2'), max=6667.0, style=Pro…"
      ]
     },
     "metadata": {},
     "output_type": "display_data"
    },
    {
     "name": "stdout",
     "output_type": "stream",
     "text": [
      "Epoch 39: train=0.989957, val=0.729063, took 592.75 s\n"
     ]
    },
    {
     "data": {
      "application/vnd.jupyter.widget-view+json": {
       "model_id": "",
       "version_major": 2,
       "version_minor": 0
      },
      "text/plain": [
       "HBox(children=(FloatProgress(value=0.0, description='Training', layout=Layout(flex='2'), max=6667.0, style=Pro…"
      ]
     },
     "metadata": {},
     "output_type": "display_data"
    },
    {
     "name": "stdout",
     "output_type": "stream",
     "text": [
      "Epoch 40: train=0.988441, val=0.737224, took 592.55 s\n"
     ]
    },
    {
     "data": {
      "application/vnd.jupyter.widget-view+json": {
       "model_id": "",
       "version_major": 2,
       "version_minor": 0
      },
      "text/plain": [
       "HBox(children=(FloatProgress(value=0.0, description='Training', layout=Layout(flex='2'), max=6667.0, style=Pro…"
      ]
     },
     "metadata": {},
     "output_type": "display_data"
    },
    {
     "name": "stdout",
     "output_type": "stream",
     "text": [
      "Epoch 41: train=0.987242, val=0.746152, took 593.08 s\n"
     ]
    },
    {
     "data": {
      "application/vnd.jupyter.widget-view+json": {
       "model_id": "",
       "version_major": 2,
       "version_minor": 0
      },
      "text/plain": [
       "HBox(children=(FloatProgress(value=0.0, description='Training', layout=Layout(flex='2'), max=6667.0, style=Pro…"
      ]
     },
     "metadata": {},
     "output_type": "display_data"
    },
    {
     "name": "stdout",
     "output_type": "stream",
     "text": [
      "Epoch 42: train=0.987871, val=0.718421, took 592.98 s\n"
     ]
    },
    {
     "data": {
      "application/vnd.jupyter.widget-view+json": {
       "model_id": "",
       "version_major": 2,
       "version_minor": 0
      },
      "text/plain": [
       "HBox(children=(FloatProgress(value=0.0, description='Training', layout=Layout(flex='2'), max=6667.0, style=Pro…"
      ]
     },
     "metadata": {},
     "output_type": "display_data"
    },
    {
     "name": "stdout",
     "output_type": "stream",
     "text": [
      "Epoch 43: train=0.98606, val=0.814459, took 592.7 s\n"
     ]
    },
    {
     "data": {
      "application/vnd.jupyter.widget-view+json": {
       "model_id": "",
       "version_major": 2,
       "version_minor": 0
      },
      "text/plain": [
       "HBox(children=(FloatProgress(value=0.0, description='Training', layout=Layout(flex='2'), max=6667.0, style=Pro…"
      ]
     },
     "metadata": {},
     "output_type": "display_data"
    },
    {
     "name": "stdout",
     "output_type": "stream",
     "text": [
      "Epoch 44: train=0.985399, val=0.762596, took 591.53 s\n"
     ]
    },
    {
     "data": {
      "application/vnd.jupyter.widget-view+json": {
       "model_id": "",
       "version_major": 2,
       "version_minor": 0
      },
      "text/plain": [
       "HBox(children=(FloatProgress(value=0.0, description='Training', layout=Layout(flex='2'), max=6667.0, style=Pro…"
      ]
     },
     "metadata": {},
     "output_type": "display_data"
    },
    {
     "name": "stdout",
     "output_type": "stream",
     "text": [
      "Epoch 45: train=0.984256, val=0.759854, took 592.77 s\n"
     ]
    },
    {
     "data": {
      "application/vnd.jupyter.widget-view+json": {
       "model_id": "",
       "version_major": 2,
       "version_minor": 0
      },
      "text/plain": [
       "HBox(children=(FloatProgress(value=0.0, description='Training', layout=Layout(flex='2'), max=6667.0, style=Pro…"
      ]
     },
     "metadata": {},
     "output_type": "display_data"
    },
    {
     "name": "stdout",
     "output_type": "stream",
     "text": [
      "Epoch 46: train=0.982745, val=0.721654, took 593.0 s\n"
     ]
    },
    {
     "data": {
      "application/vnd.jupyter.widget-view+json": {
       "model_id": "",
       "version_major": 2,
       "version_minor": 0
      },
      "text/plain": [
       "HBox(children=(FloatProgress(value=0.0, description='Training', layout=Layout(flex='2'), max=6667.0, style=Pro…"
      ]
     },
     "metadata": {},
     "output_type": "display_data"
    },
    {
     "name": "stdout",
     "output_type": "stream",
     "text": [
      "Epoch 47: train=0.982413, val=0.727037, took 591.92 s\n"
     ]
    },
    {
     "data": {
      "application/vnd.jupyter.widget-view+json": {
       "model_id": "",
       "version_major": 2,
       "version_minor": 0
      },
      "text/plain": [
       "HBox(children=(FloatProgress(value=0.0, description='Training', layout=Layout(flex='2'), max=6667.0, style=Pro…"
      ]
     },
     "metadata": {},
     "output_type": "display_data"
    },
    {
     "name": "stdout",
     "output_type": "stream",
     "text": [
      "Epoch 48: train=0.983162, val=0.749112, took 592.92 s\n"
     ]
    },
    {
     "data": {
      "application/vnd.jupyter.widget-view+json": {
       "model_id": "",
       "version_major": 2,
       "version_minor": 0
      },
      "text/plain": [
       "HBox(children=(FloatProgress(value=0.0, description='Training', layout=Layout(flex='2'), max=6667.0, style=Pro…"
      ]
     },
     "metadata": {},
     "output_type": "display_data"
    },
    {
     "name": "stdout",
     "output_type": "stream",
     "text": [
      "Epoch 49: train=0.980843, val=0.733917, took 593.06 s\n"
     ]
    },
    {
     "data": {
      "application/vnd.jupyter.widget-view+json": {
       "model_id": "",
       "version_major": 2,
       "version_minor": 0
      },
      "text/plain": [
       "HBox(children=(FloatProgress(value=0.0, description='Training', layout=Layout(flex='2'), max=6667.0, style=Pro…"
      ]
     },
     "metadata": {},
     "output_type": "display_data"
    },
    {
     "name": "stdout",
     "output_type": "stream",
     "text": [
      "Epoch 50: train=0.979783, val=0.721345, took 592.31 s\n"
     ]
    },
    {
     "data": {
      "application/vnd.jupyter.widget-view+json": {
       "model_id": "",
       "version_major": 2,
       "version_minor": 0
      },
      "text/plain": [
       "HBox(children=(FloatProgress(value=0.0, description='Training', layout=Layout(flex='2'), max=6667.0, style=Pro…"
      ]
     },
     "metadata": {},
     "output_type": "display_data"
    },
    {
     "name": "stdout",
     "output_type": "stream",
     "text": [
      "Epoch 51: train=0.97924, val=0.726166, took 592.16 s\n"
     ]
    },
    {
     "data": {
      "application/vnd.jupyter.widget-view+json": {
       "model_id": "",
       "version_major": 2,
       "version_minor": 0
      },
      "text/plain": [
       "HBox(children=(FloatProgress(value=0.0, description='Training', layout=Layout(flex='2'), max=6667.0, style=Pro…"
      ]
     },
     "metadata": {},
     "output_type": "display_data"
    },
    {
     "name": "stdout",
     "output_type": "stream",
     "text": [
      "Epoch 52: train=0.977559, val=0.727281, took 592.54 s\n"
     ]
    },
    {
     "data": {
      "application/vnd.jupyter.widget-view+json": {
       "model_id": "",
       "version_major": 2,
       "version_minor": 0
      },
      "text/plain": [
       "HBox(children=(FloatProgress(value=0.0, description='Training', layout=Layout(flex='2'), max=6667.0, style=Pro…"
      ]
     },
     "metadata": {},
     "output_type": "display_data"
    },
    {
     "name": "stdout",
     "output_type": "stream",
     "text": [
      "Epoch 53: train=0.976893, val=0.761371, took 592.85 s\n"
     ]
    },
    {
     "data": {
      "application/vnd.jupyter.widget-view+json": {
       "model_id": "",
       "version_major": 2,
       "version_minor": 0
      },
      "text/plain": [
       "HBox(children=(FloatProgress(value=0.0, description='Training', layout=Layout(flex='2'), max=6667.0, style=Pro…"
      ]
     },
     "metadata": {},
     "output_type": "display_data"
    },
    {
     "name": "stdout",
     "output_type": "stream",
     "text": [
      "Epoch 54: train=0.976532, val=0.718261, took 592.44 s\n"
     ]
    },
    {
     "data": {
      "application/vnd.jupyter.widget-view+json": {
       "model_id": "",
       "version_major": 2,
       "version_minor": 0
      },
      "text/plain": [
       "HBox(children=(FloatProgress(value=0.0, description='Training', layout=Layout(flex='2'), max=6667.0, style=Pro…"
      ]
     },
     "metadata": {},
     "output_type": "display_data"
    },
    {
     "name": "stdout",
     "output_type": "stream",
     "text": [
      "Epoch 55: train=0.975697, val=0.725656, took 592.25 s\n"
     ]
    },
    {
     "data": {
      "application/vnd.jupyter.widget-view+json": {
       "model_id": "",
       "version_major": 2,
       "version_minor": 0
      },
      "text/plain": [
       "HBox(children=(FloatProgress(value=0.0, description='Training', layout=Layout(flex='2'), max=6667.0, style=Pro…"
      ]
     },
     "metadata": {},
     "output_type": "display_data"
    },
    {
     "name": "stdout",
     "output_type": "stream",
     "text": [
      "Epoch 56: train=0.975619, val=0.715864, took 592.22 s\n"
     ]
    },
    {
     "data": {
      "application/vnd.jupyter.widget-view+json": {
       "model_id": "",
       "version_major": 2,
       "version_minor": 0
      },
      "text/plain": [
       "HBox(children=(FloatProgress(value=0.0, description='Training', layout=Layout(flex='2'), max=6667.0, style=Pro…"
      ]
     },
     "metadata": {},
     "output_type": "display_data"
    },
    {
     "name": "stdout",
     "output_type": "stream",
     "text": [
      "Epoch 57: train=0.973416, val=0.717959, took 592.62 s\n"
     ]
    },
    {
     "data": {
      "application/vnd.jupyter.widget-view+json": {
       "model_id": "",
       "version_major": 2,
       "version_minor": 0
      },
      "text/plain": [
       "HBox(children=(FloatProgress(value=0.0, description='Training', layout=Layout(flex='2'), max=6667.0, style=Pro…"
      ]
     },
     "metadata": {},
     "output_type": "display_data"
    },
    {
     "name": "stdout",
     "output_type": "stream",
     "text": [
      "Epoch 58: train=0.973136, val=0.713732, took 591.43 s\n"
     ]
    },
    {
     "data": {
      "application/vnd.jupyter.widget-view+json": {
       "model_id": "",
       "version_major": 2,
       "version_minor": 0
      },
      "text/plain": [
       "HBox(children=(FloatProgress(value=0.0, description='Training', layout=Layout(flex='2'), max=6667.0, style=Pro…"
      ]
     },
     "metadata": {},
     "output_type": "display_data"
    },
    {
     "name": "stdout",
     "output_type": "stream",
     "text": [
      "Epoch 59: train=0.972702, val=0.711946, took 592.17 s\n"
     ]
    },
    {
     "data": {
      "application/vnd.jupyter.widget-view+json": {
       "model_id": "",
       "version_major": 2,
       "version_minor": 0
      },
      "text/plain": [
       "HBox(children=(FloatProgress(value=0.0, description='Training', layout=Layout(flex='2'), max=6667.0, style=Pro…"
      ]
     },
     "metadata": {},
     "output_type": "display_data"
    },
    {
     "name": "stdout",
     "output_type": "stream",
     "text": [
      "Epoch 60: train=0.97128, val=0.712273, took 592.29 s\n"
     ]
    },
    {
     "data": {
      "application/vnd.jupyter.widget-view+json": {
       "model_id": "",
       "version_major": 2,
       "version_minor": 0
      },
      "text/plain": [
       "HBox(children=(FloatProgress(value=0.0, description='Training', layout=Layout(flex='2'), max=6667.0, style=Pro…"
      ]
     },
     "metadata": {},
     "output_type": "display_data"
    },
    {
     "name": "stdout",
     "output_type": "stream",
     "text": [
      "Epoch 61: train=0.971499, val=0.719117, took 592.1 s\n"
     ]
    },
    {
     "data": {
      "application/vnd.jupyter.widget-view+json": {
       "model_id": "",
       "version_major": 2,
       "version_minor": 0
      },
      "text/plain": [
       "HBox(children=(FloatProgress(value=0.0, description='Training', layout=Layout(flex='2'), max=6667.0, style=Pro…"
      ]
     },
     "metadata": {},
     "output_type": "display_data"
    },
    {
     "name": "stdout",
     "output_type": "stream",
     "text": [
      "Epoch 62: train=0.970118, val=0.805249, took 592.67 s\n"
     ]
    },
    {
     "data": {
      "application/vnd.jupyter.widget-view+json": {
       "model_id": "",
       "version_major": 2,
       "version_minor": 0
      },
      "text/plain": [
       "HBox(children=(FloatProgress(value=0.0, description='Training', layout=Layout(flex='2'), max=6667.0, style=Pro…"
      ]
     },
     "metadata": {},
     "output_type": "display_data"
    },
    {
     "name": "stdout",
     "output_type": "stream",
     "text": [
      "Epoch 63: train=0.969874, val=0.702661, took 592.48 s\n"
     ]
    },
    {
     "data": {
      "application/vnd.jupyter.widget-view+json": {
       "model_id": "",
       "version_major": 2,
       "version_minor": 0
      },
      "text/plain": [
       "HBox(children=(FloatProgress(value=0.0, description='Training', layout=Layout(flex='2'), max=6667.0, style=Pro…"
      ]
     },
     "metadata": {},
     "output_type": "display_data"
    },
    {
     "name": "stdout",
     "output_type": "stream",
     "text": [
      "Epoch 64: train=0.96808, val=0.711812, took 591.69 s\n"
     ]
    },
    {
     "data": {
      "application/vnd.jupyter.widget-view+json": {
       "model_id": "",
       "version_major": 2,
       "version_minor": 0
      },
      "text/plain": [
       "HBox(children=(FloatProgress(value=0.0, description='Training', layout=Layout(flex='2'), max=6667.0, style=Pro…"
      ]
     },
     "metadata": {},
     "output_type": "display_data"
    },
    {
     "name": "stdout",
     "output_type": "stream",
     "text": [
      "Epoch 65: train=0.968067, val=0.704559, took 592.64 s\n"
     ]
    },
    {
     "data": {
      "application/vnd.jupyter.widget-view+json": {
       "model_id": "",
       "version_major": 2,
       "version_minor": 0
      },
      "text/plain": [
       "HBox(children=(FloatProgress(value=0.0, description='Training', layout=Layout(flex='2'), max=6667.0, style=Pro…"
      ]
     },
     "metadata": {},
     "output_type": "display_data"
    },
    {
     "name": "stdout",
     "output_type": "stream",
     "text": [
      "Epoch 66: train=0.96624, val=0.723859, took 590.99 s\n"
     ]
    },
    {
     "data": {
      "application/vnd.jupyter.widget-view+json": {
       "model_id": "",
       "version_major": 2,
       "version_minor": 0
      },
      "text/plain": [
       "HBox(children=(FloatProgress(value=0.0, description='Training', layout=Layout(flex='2'), max=6667.0, style=Pro…"
      ]
     },
     "metadata": {},
     "output_type": "display_data"
    },
    {
     "name": "stdout",
     "output_type": "stream",
     "text": [
      "Epoch 67: train=0.966342, val=0.713906, took 592.73 s\n"
     ]
    },
    {
     "data": {
      "application/vnd.jupyter.widget-view+json": {
       "model_id": "",
       "version_major": 2,
       "version_minor": 0
      },
      "text/plain": [
       "HBox(children=(FloatProgress(value=0.0, description='Training', layout=Layout(flex='2'), max=6667.0, style=Pro…"
      ]
     },
     "metadata": {},
     "output_type": "display_data"
    },
    {
     "name": "stdout",
     "output_type": "stream",
     "text": [
      "Epoch 68: train=0.964213, val=0.742229, took 592.22 s\n"
     ]
    },
    {
     "data": {
      "application/vnd.jupyter.widget-view+json": {
       "model_id": "",
       "version_major": 2,
       "version_minor": 0
      },
      "text/plain": [
       "HBox(children=(FloatProgress(value=0.0, description='Training', layout=Layout(flex='2'), max=6667.0, style=Pro…"
      ]
     },
     "metadata": {},
     "output_type": "display_data"
    },
    {
     "name": "stdout",
     "output_type": "stream",
     "text": [
      "Epoch 69: train=0.963275, val=0.72238, took 591.89 s\n"
     ]
    },
    {
     "data": {
      "application/vnd.jupyter.widget-view+json": {
       "model_id": "",
       "version_major": 2,
       "version_minor": 0
      },
      "text/plain": [
       "HBox(children=(FloatProgress(value=0.0, description='Training', layout=Layout(flex='2'), max=6667.0, style=Pro…"
      ]
     },
     "metadata": {},
     "output_type": "display_data"
    },
    {
     "name": "stdout",
     "output_type": "stream",
     "text": [
      "Epoch 70: train=0.960697, val=0.72446, took 592.38 s\n"
     ]
    },
    {
     "data": {
      "application/vnd.jupyter.widget-view+json": {
       "model_id": "",
       "version_major": 2,
       "version_minor": 0
      },
      "text/plain": [
       "HBox(children=(FloatProgress(value=0.0, description='Training', layout=Layout(flex='2'), max=6667.0, style=Pro…"
      ]
     },
     "metadata": {},
     "output_type": "display_data"
    },
    {
     "name": "stdout",
     "output_type": "stream",
     "text": [
      "Epoch 71: train=0.962223, val=0.699651, took 592.9 s\n"
     ]
    },
    {
     "data": {
      "application/vnd.jupyter.widget-view+json": {
       "model_id": "",
       "version_major": 2,
       "version_minor": 0
      },
      "text/plain": [
       "HBox(children=(FloatProgress(value=0.0, description='Training', layout=Layout(flex='2'), max=6667.0, style=Pro…"
      ]
     },
     "metadata": {},
     "output_type": "display_data"
    },
    {
     "name": "stdout",
     "output_type": "stream",
     "text": [
      "Epoch 72: train=0.961041, val=0.698535, took 591.48 s\n"
     ]
    },
    {
     "data": {
      "application/vnd.jupyter.widget-view+json": {
       "model_id": "",
       "version_major": 2,
       "version_minor": 0
      },
      "text/plain": [
       "HBox(children=(FloatProgress(value=0.0, description='Training', layout=Layout(flex='2'), max=6667.0, style=Pro…"
      ]
     },
     "metadata": {},
     "output_type": "display_data"
    },
    {
     "name": "stdout",
     "output_type": "stream",
     "text": [
      "Epoch 73: train=0.958533, val=0.697732, took 591.73 s\n"
     ]
    },
    {
     "data": {
      "application/vnd.jupyter.widget-view+json": {
       "model_id": "",
       "version_major": 2,
       "version_minor": 0
      },
      "text/plain": [
       "HBox(children=(FloatProgress(value=0.0, description='Training', layout=Layout(flex='2'), max=6667.0, style=Pro…"
      ]
     },
     "metadata": {},
     "output_type": "display_data"
    },
    {
     "name": "stdout",
     "output_type": "stream",
     "text": [
      "Epoch 74: train=0.958198, val=0.750095, took 590.95 s\n",
      "\n"
     ]
    }
   ],
   "source": [
    "for result in trainNet(model, optimizer, loss,\n",
    "                        train_loader, val_loader,\n",
    "                        n_epochs, epoch_start=len(results),\n",
    "                        notebook=True):\n",
    "    \n",
    "    results = results.append(pd.Series(result._asdict()), ignore_index=True)\n",
    "    xs = results.index\n",
    "    \n",
    "    # Update the plot above\n",
    "    lines['train'].set_data(results.index,results.cost)\n",
    "    lines['val'].set_data(results.index,results.val)\n",
    "    \n",
    "    #filter first cost epoch (can be really large)\n",
    "    max_cost = max(max(results.cost if len(results.cost)<2 else results.cost[1:]), max(results.val))\n",
    "    min_cost = min(min(results.cost), min(results.val))\n",
    "    \n",
    "    # The plot limits need updating too\n",
    "    \n",
    "    \n",
    "    \n",
    "    ax.set_ylim(min_cost*.9, max_cost*1.1)  \n",
    "    ax.set_xlim(-.5, len(results.cost) - .5)\n",
    "\n",
    "    \n",
    "    # Redraw the figure\n",
    "    fig.canvas.draw()\n",
    "\n",
    "    # Save each model state dictionary\n",
    "    torch.save(model.state_dict(), output / f'{name}_{result.epoch}.pyt')"
   ]
  },
  {
   "cell_type": "markdown",
   "metadata": {},
   "source": [
    "Go ahead and save the final model (even though it was also saved above):"
   ]
  },
  {
   "cell_type": "code",
   "execution_count": 18,
   "metadata": {},
   "outputs": [],
   "source": [
    "torch.save(model.state_dict(), output / f'{name}_final.pyt')"
   ]
  },
  {
   "cell_type": "markdown",
   "metadata": {},
   "source": [
    "Save the output results:"
   ]
  },
  {
   "cell_type": "code",
   "execution_count": 19,
   "metadata": {},
   "outputs": [],
   "source": [
    "results.to_hdf(f'{name}_stats.hdf5', 'results')"
   ]
  },
  {
   "cell_type": "markdown",
   "metadata": {},
   "source": [
    "Save the plot above:"
   ]
  },
  {
   "cell_type": "code",
   "execution_count": 20,
   "metadata": {},
   "outputs": [
    {
     "data": {
      "application/javascript": [
       "/* Put everything inside the global mpl namespace */\n",
       "window.mpl = {};\n",
       "\n",
       "\n",
       "mpl.get_websocket_type = function() {\n",
       "    if (typeof(WebSocket) !== 'undefined') {\n",
       "        return WebSocket;\n",
       "    } else if (typeof(MozWebSocket) !== 'undefined') {\n",
       "        return MozWebSocket;\n",
       "    } else {\n",
       "        alert('Your browser does not have WebSocket support. ' +\n",
       "              'Please try Chrome, Safari or Firefox ≥ 6. ' +\n",
       "              'Firefox 4 and 5 are also supported but you ' +\n",
       "              'have to enable WebSockets in about:config.');\n",
       "    };\n",
       "}\n",
       "\n",
       "mpl.figure = function(figure_id, websocket, ondownload, parent_element) {\n",
       "    this.id = figure_id;\n",
       "\n",
       "    this.ws = websocket;\n",
       "\n",
       "    this.supports_binary = (this.ws.binaryType != undefined);\n",
       "\n",
       "    if (!this.supports_binary) {\n",
       "        var warnings = document.getElementById(\"mpl-warnings\");\n",
       "        if (warnings) {\n",
       "            warnings.style.display = 'block';\n",
       "            warnings.textContent = (\n",
       "                \"This browser does not support binary websocket messages. \" +\n",
       "                    \"Performance may be slow.\");\n",
       "        }\n",
       "    }\n",
       "\n",
       "    this.imageObj = new Image();\n",
       "\n",
       "    this.context = undefined;\n",
       "    this.message = undefined;\n",
       "    this.canvas = undefined;\n",
       "    this.rubberband_canvas = undefined;\n",
       "    this.rubberband_context = undefined;\n",
       "    this.format_dropdown = undefined;\n",
       "\n",
       "    this.image_mode = 'full';\n",
       "\n",
       "    this.root = $('<div/>');\n",
       "    this._root_extra_style(this.root)\n",
       "    this.root.attr('style', 'display: inline-block');\n",
       "\n",
       "    $(parent_element).append(this.root);\n",
       "\n",
       "    this._init_header(this);\n",
       "    this._init_canvas(this);\n",
       "    this._init_toolbar(this);\n",
       "\n",
       "    var fig = this;\n",
       "\n",
       "    this.waiting = false;\n",
       "\n",
       "    this.ws.onopen =  function () {\n",
       "            fig.send_message(\"supports_binary\", {value: fig.supports_binary});\n",
       "            fig.send_message(\"send_image_mode\", {});\n",
       "            if (mpl.ratio != 1) {\n",
       "                fig.send_message(\"set_dpi_ratio\", {'dpi_ratio': mpl.ratio});\n",
       "            }\n",
       "            fig.send_message(\"refresh\", {});\n",
       "        }\n",
       "\n",
       "    this.imageObj.onload = function() {\n",
       "            if (fig.image_mode == 'full') {\n",
       "                // Full images could contain transparency (where diff images\n",
       "                // almost always do), so we need to clear the canvas so that\n",
       "                // there is no ghosting.\n",
       "                fig.context.clearRect(0, 0, fig.canvas.width, fig.canvas.height);\n",
       "            }\n",
       "            fig.context.drawImage(fig.imageObj, 0, 0);\n",
       "        };\n",
       "\n",
       "    this.imageObj.onunload = function() {\n",
       "        fig.ws.close();\n",
       "    }\n",
       "\n",
       "    this.ws.onmessage = this._make_on_message_function(this);\n",
       "\n",
       "    this.ondownload = ondownload;\n",
       "}\n",
       "\n",
       "mpl.figure.prototype._init_header = function() {\n",
       "    var titlebar = $(\n",
       "        '<div class=\"ui-dialog-titlebar ui-widget-header ui-corner-all ' +\n",
       "        'ui-helper-clearfix\"/>');\n",
       "    var titletext = $(\n",
       "        '<div class=\"ui-dialog-title\" style=\"width: 100%; ' +\n",
       "        'text-align: center; padding: 3px;\"/>');\n",
       "    titlebar.append(titletext)\n",
       "    this.root.append(titlebar);\n",
       "    this.header = titletext[0];\n",
       "}\n",
       "\n",
       "\n",
       "\n",
       "mpl.figure.prototype._canvas_extra_style = function(canvas_div) {\n",
       "\n",
       "}\n",
       "\n",
       "\n",
       "mpl.figure.prototype._root_extra_style = function(canvas_div) {\n",
       "\n",
       "}\n",
       "\n",
       "mpl.figure.prototype._init_canvas = function() {\n",
       "    var fig = this;\n",
       "\n",
       "    var canvas_div = $('<div/>');\n",
       "\n",
       "    canvas_div.attr('style', 'position: relative; clear: both; outline: 0');\n",
       "\n",
       "    function canvas_keyboard_event(event) {\n",
       "        return fig.key_event(event, event['data']);\n",
       "    }\n",
       "\n",
       "    canvas_div.keydown('key_press', canvas_keyboard_event);\n",
       "    canvas_div.keyup('key_release', canvas_keyboard_event);\n",
       "    this.canvas_div = canvas_div\n",
       "    this._canvas_extra_style(canvas_div)\n",
       "    this.root.append(canvas_div);\n",
       "\n",
       "    var canvas = $('<canvas/>');\n",
       "    canvas.addClass('mpl-canvas');\n",
       "    canvas.attr('style', \"left: 0; top: 0; z-index: 0; outline: 0\")\n",
       "\n",
       "    this.canvas = canvas[0];\n",
       "    this.context = canvas[0].getContext(\"2d\");\n",
       "\n",
       "    var backingStore = this.context.backingStorePixelRatio ||\n",
       "\tthis.context.webkitBackingStorePixelRatio ||\n",
       "\tthis.context.mozBackingStorePixelRatio ||\n",
       "\tthis.context.msBackingStorePixelRatio ||\n",
       "\tthis.context.oBackingStorePixelRatio ||\n",
       "\tthis.context.backingStorePixelRatio || 1;\n",
       "\n",
       "    mpl.ratio = (window.devicePixelRatio || 1) / backingStore;\n",
       "\n",
       "    var rubberband = $('<canvas/>');\n",
       "    rubberband.attr('style', \"position: absolute; left: 0; top: 0; z-index: 1;\")\n",
       "\n",
       "    var pass_mouse_events = true;\n",
       "\n",
       "    canvas_div.resizable({\n",
       "        start: function(event, ui) {\n",
       "            pass_mouse_events = false;\n",
       "        },\n",
       "        resize: function(event, ui) {\n",
       "            fig.request_resize(ui.size.width, ui.size.height);\n",
       "        },\n",
       "        stop: function(event, ui) {\n",
       "            pass_mouse_events = true;\n",
       "            fig.request_resize(ui.size.width, ui.size.height);\n",
       "        },\n",
       "    });\n",
       "\n",
       "    function mouse_event_fn(event) {\n",
       "        if (pass_mouse_events)\n",
       "            return fig.mouse_event(event, event['data']);\n",
       "    }\n",
       "\n",
       "    rubberband.mousedown('button_press', mouse_event_fn);\n",
       "    rubberband.mouseup('button_release', mouse_event_fn);\n",
       "    // Throttle sequential mouse events to 1 every 20ms.\n",
       "    rubberband.mousemove('motion_notify', mouse_event_fn);\n",
       "\n",
       "    rubberband.mouseenter('figure_enter', mouse_event_fn);\n",
       "    rubberband.mouseleave('figure_leave', mouse_event_fn);\n",
       "\n",
       "    canvas_div.on(\"wheel\", function (event) {\n",
       "        event = event.originalEvent;\n",
       "        event['data'] = 'scroll'\n",
       "        if (event.deltaY < 0) {\n",
       "            event.step = 1;\n",
       "        } else {\n",
       "            event.step = -1;\n",
       "        }\n",
       "        mouse_event_fn(event);\n",
       "    });\n",
       "\n",
       "    canvas_div.append(canvas);\n",
       "    canvas_div.append(rubberband);\n",
       "\n",
       "    this.rubberband = rubberband;\n",
       "    this.rubberband_canvas = rubberband[0];\n",
       "    this.rubberband_context = rubberband[0].getContext(\"2d\");\n",
       "    this.rubberband_context.strokeStyle = \"#000000\";\n",
       "\n",
       "    this._resize_canvas = function(width, height) {\n",
       "        // Keep the size of the canvas, canvas container, and rubber band\n",
       "        // canvas in synch.\n",
       "        canvas_div.css('width', width)\n",
       "        canvas_div.css('height', height)\n",
       "\n",
       "        canvas.attr('width', width * mpl.ratio);\n",
       "        canvas.attr('height', height * mpl.ratio);\n",
       "        canvas.attr('style', 'width: ' + width + 'px; height: ' + height + 'px;');\n",
       "\n",
       "        rubberband.attr('width', width);\n",
       "        rubberband.attr('height', height);\n",
       "    }\n",
       "\n",
       "    // Set the figure to an initial 600x600px, this will subsequently be updated\n",
       "    // upon first draw.\n",
       "    this._resize_canvas(600, 600);\n",
       "\n",
       "    // Disable right mouse context menu.\n",
       "    $(this.rubberband_canvas).bind(\"contextmenu\",function(e){\n",
       "        return false;\n",
       "    });\n",
       "\n",
       "    function set_focus () {\n",
       "        canvas.focus();\n",
       "        canvas_div.focus();\n",
       "    }\n",
       "\n",
       "    window.setTimeout(set_focus, 100);\n",
       "}\n",
       "\n",
       "mpl.figure.prototype._init_toolbar = function() {\n",
       "    var fig = this;\n",
       "\n",
       "    var nav_element = $('<div/>');\n",
       "    nav_element.attr('style', 'width: 100%');\n",
       "    this.root.append(nav_element);\n",
       "\n",
       "    // Define a callback function for later on.\n",
       "    function toolbar_event(event) {\n",
       "        return fig.toolbar_button_onclick(event['data']);\n",
       "    }\n",
       "    function toolbar_mouse_event(event) {\n",
       "        return fig.toolbar_button_onmouseover(event['data']);\n",
       "    }\n",
       "\n",
       "    for(var toolbar_ind in mpl.toolbar_items) {\n",
       "        var name = mpl.toolbar_items[toolbar_ind][0];\n",
       "        var tooltip = mpl.toolbar_items[toolbar_ind][1];\n",
       "        var image = mpl.toolbar_items[toolbar_ind][2];\n",
       "        var method_name = mpl.toolbar_items[toolbar_ind][3];\n",
       "\n",
       "        if (!name) {\n",
       "            // put a spacer in here.\n",
       "            continue;\n",
       "        }\n",
       "        var button = $('<button/>');\n",
       "        button.addClass('ui-button ui-widget ui-state-default ui-corner-all ' +\n",
       "                        'ui-button-icon-only');\n",
       "        button.attr('role', 'button');\n",
       "        button.attr('aria-disabled', 'false');\n",
       "        button.click(method_name, toolbar_event);\n",
       "        button.mouseover(tooltip, toolbar_mouse_event);\n",
       "\n",
       "        var icon_img = $('<span/>');\n",
       "        icon_img.addClass('ui-button-icon-primary ui-icon');\n",
       "        icon_img.addClass(image);\n",
       "        icon_img.addClass('ui-corner-all');\n",
       "\n",
       "        var tooltip_span = $('<span/>');\n",
       "        tooltip_span.addClass('ui-button-text');\n",
       "        tooltip_span.html(tooltip);\n",
       "\n",
       "        button.append(icon_img);\n",
       "        button.append(tooltip_span);\n",
       "\n",
       "        nav_element.append(button);\n",
       "    }\n",
       "\n",
       "    var fmt_picker_span = $('<span/>');\n",
       "\n",
       "    var fmt_picker = $('<select/>');\n",
       "    fmt_picker.addClass('mpl-toolbar-option ui-widget ui-widget-content');\n",
       "    fmt_picker_span.append(fmt_picker);\n",
       "    nav_element.append(fmt_picker_span);\n",
       "    this.format_dropdown = fmt_picker[0];\n",
       "\n",
       "    for (var ind in mpl.extensions) {\n",
       "        var fmt = mpl.extensions[ind];\n",
       "        var option = $(\n",
       "            '<option/>', {selected: fmt === mpl.default_extension}).html(fmt);\n",
       "        fmt_picker.append(option);\n",
       "    }\n",
       "\n",
       "    // Add hover states to the ui-buttons\n",
       "    $( \".ui-button\" ).hover(\n",
       "        function() { $(this).addClass(\"ui-state-hover\");},\n",
       "        function() { $(this).removeClass(\"ui-state-hover\");}\n",
       "    );\n",
       "\n",
       "    var status_bar = $('<span class=\"mpl-message\"/>');\n",
       "    nav_element.append(status_bar);\n",
       "    this.message = status_bar[0];\n",
       "}\n",
       "\n",
       "mpl.figure.prototype.request_resize = function(x_pixels, y_pixels) {\n",
       "    // Request matplotlib to resize the figure. Matplotlib will then trigger a resize in the client,\n",
       "    // which will in turn request a refresh of the image.\n",
       "    this.send_message('resize', {'width': x_pixels, 'height': y_pixels});\n",
       "}\n",
       "\n",
       "mpl.figure.prototype.send_message = function(type, properties) {\n",
       "    properties['type'] = type;\n",
       "    properties['figure_id'] = this.id;\n",
       "    this.ws.send(JSON.stringify(properties));\n",
       "}\n",
       "\n",
       "mpl.figure.prototype.send_draw_message = function() {\n",
       "    if (!this.waiting) {\n",
       "        this.waiting = true;\n",
       "        this.ws.send(JSON.stringify({type: \"draw\", figure_id: this.id}));\n",
       "    }\n",
       "}\n",
       "\n",
       "\n",
       "mpl.figure.prototype.handle_save = function(fig, msg) {\n",
       "    var format_dropdown = fig.format_dropdown;\n",
       "    var format = format_dropdown.options[format_dropdown.selectedIndex].value;\n",
       "    fig.ondownload(fig, format);\n",
       "}\n",
       "\n",
       "\n",
       "mpl.figure.prototype.handle_resize = function(fig, msg) {\n",
       "    var size = msg['size'];\n",
       "    if (size[0] != fig.canvas.width || size[1] != fig.canvas.height) {\n",
       "        fig._resize_canvas(size[0], size[1]);\n",
       "        fig.send_message(\"refresh\", {});\n",
       "    };\n",
       "}\n",
       "\n",
       "mpl.figure.prototype.handle_rubberband = function(fig, msg) {\n",
       "    var x0 = msg['x0'] / mpl.ratio;\n",
       "    var y0 = (fig.canvas.height - msg['y0']) / mpl.ratio;\n",
       "    var x1 = msg['x1'] / mpl.ratio;\n",
       "    var y1 = (fig.canvas.height - msg['y1']) / mpl.ratio;\n",
       "    x0 = Math.floor(x0) + 0.5;\n",
       "    y0 = Math.floor(y0) + 0.5;\n",
       "    x1 = Math.floor(x1) + 0.5;\n",
       "    y1 = Math.floor(y1) + 0.5;\n",
       "    var min_x = Math.min(x0, x1);\n",
       "    var min_y = Math.min(y0, y1);\n",
       "    var width = Math.abs(x1 - x0);\n",
       "    var height = Math.abs(y1 - y0);\n",
       "\n",
       "    fig.rubberband_context.clearRect(\n",
       "        0, 0, fig.canvas.width / mpl.ratio, fig.canvas.height / mpl.ratio);\n",
       "\n",
       "    fig.rubberband_context.strokeRect(min_x, min_y, width, height);\n",
       "}\n",
       "\n",
       "mpl.figure.prototype.handle_figure_label = function(fig, msg) {\n",
       "    // Updates the figure title.\n",
       "    fig.header.textContent = msg['label'];\n",
       "}\n",
       "\n",
       "mpl.figure.prototype.handle_cursor = function(fig, msg) {\n",
       "    var cursor = msg['cursor'];\n",
       "    switch(cursor)\n",
       "    {\n",
       "    case 0:\n",
       "        cursor = 'pointer';\n",
       "        break;\n",
       "    case 1:\n",
       "        cursor = 'default';\n",
       "        break;\n",
       "    case 2:\n",
       "        cursor = 'crosshair';\n",
       "        break;\n",
       "    case 3:\n",
       "        cursor = 'move';\n",
       "        break;\n",
       "    }\n",
       "    fig.rubberband_canvas.style.cursor = cursor;\n",
       "}\n",
       "\n",
       "mpl.figure.prototype.handle_message = function(fig, msg) {\n",
       "    fig.message.textContent = msg['message'];\n",
       "}\n",
       "\n",
       "mpl.figure.prototype.handle_draw = function(fig, msg) {\n",
       "    // Request the server to send over a new figure.\n",
       "    fig.send_draw_message();\n",
       "}\n",
       "\n",
       "mpl.figure.prototype.handle_image_mode = function(fig, msg) {\n",
       "    fig.image_mode = msg['mode'];\n",
       "}\n",
       "\n",
       "mpl.figure.prototype.updated_canvas_event = function() {\n",
       "    // Called whenever the canvas gets updated.\n",
       "    this.send_message(\"ack\", {});\n",
       "}\n",
       "\n",
       "// A function to construct a web socket function for onmessage handling.\n",
       "// Called in the figure constructor.\n",
       "mpl.figure.prototype._make_on_message_function = function(fig) {\n",
       "    return function socket_on_message(evt) {\n",
       "        if (evt.data instanceof Blob) {\n",
       "            /* FIXME: We get \"Resource interpreted as Image but\n",
       "             * transferred with MIME type text/plain:\" errors on\n",
       "             * Chrome.  But how to set the MIME type?  It doesn't seem\n",
       "             * to be part of the websocket stream */\n",
       "            evt.data.type = \"image/png\";\n",
       "\n",
       "            /* Free the memory for the previous frames */\n",
       "            if (fig.imageObj.src) {\n",
       "                (window.URL || window.webkitURL).revokeObjectURL(\n",
       "                    fig.imageObj.src);\n",
       "            }\n",
       "\n",
       "            fig.imageObj.src = (window.URL || window.webkitURL).createObjectURL(\n",
       "                evt.data);\n",
       "            fig.updated_canvas_event();\n",
       "            fig.waiting = false;\n",
       "            return;\n",
       "        }\n",
       "        else if (typeof evt.data === 'string' && evt.data.slice(0, 21) == \"data:image/png;base64\") {\n",
       "            fig.imageObj.src = evt.data;\n",
       "            fig.updated_canvas_event();\n",
       "            fig.waiting = false;\n",
       "            return;\n",
       "        }\n",
       "\n",
       "        var msg = JSON.parse(evt.data);\n",
       "        var msg_type = msg['type'];\n",
       "\n",
       "        // Call the  \"handle_{type}\" callback, which takes\n",
       "        // the figure and JSON message as its only arguments.\n",
       "        try {\n",
       "            var callback = fig[\"handle_\" + msg_type];\n",
       "        } catch (e) {\n",
       "            console.log(\"No handler for the '\" + msg_type + \"' message type: \", msg);\n",
       "            return;\n",
       "        }\n",
       "\n",
       "        if (callback) {\n",
       "            try {\n",
       "                // console.log(\"Handling '\" + msg_type + \"' message: \", msg);\n",
       "                callback(fig, msg);\n",
       "            } catch (e) {\n",
       "                console.log(\"Exception inside the 'handler_\" + msg_type + \"' callback:\", e, e.stack, msg);\n",
       "            }\n",
       "        }\n",
       "    };\n",
       "}\n",
       "\n",
       "// from http://stackoverflow.com/questions/1114465/getting-mouse-location-in-canvas\n",
       "mpl.findpos = function(e) {\n",
       "    //this section is from http://www.quirksmode.org/js/events_properties.html\n",
       "    var targ;\n",
       "    if (!e)\n",
       "        e = window.event;\n",
       "    if (e.target)\n",
       "        targ = e.target;\n",
       "    else if (e.srcElement)\n",
       "        targ = e.srcElement;\n",
       "    if (targ.nodeType == 3) // defeat Safari bug\n",
       "        targ = targ.parentNode;\n",
       "\n",
       "    // jQuery normalizes the pageX and pageY\n",
       "    // pageX,Y are the mouse positions relative to the document\n",
       "    // offset() returns the position of the element relative to the document\n",
       "    var x = e.pageX - $(targ).offset().left;\n",
       "    var y = e.pageY - $(targ).offset().top;\n",
       "\n",
       "    return {\"x\": x, \"y\": y};\n",
       "};\n",
       "\n",
       "/*\n",
       " * return a copy of an object with only non-object keys\n",
       " * we need this to avoid circular references\n",
       " * http://stackoverflow.com/a/24161582/3208463\n",
       " */\n",
       "function simpleKeys (original) {\n",
       "  return Object.keys(original).reduce(function (obj, key) {\n",
       "    if (typeof original[key] !== 'object')\n",
       "        obj[key] = original[key]\n",
       "    return obj;\n",
       "  }, {});\n",
       "}\n",
       "\n",
       "mpl.figure.prototype.mouse_event = function(event, name) {\n",
       "    var canvas_pos = mpl.findpos(event)\n",
       "\n",
       "    if (name === 'button_press')\n",
       "    {\n",
       "        this.canvas.focus();\n",
       "        this.canvas_div.focus();\n",
       "    }\n",
       "\n",
       "    var x = canvas_pos.x * mpl.ratio;\n",
       "    var y = canvas_pos.y * mpl.ratio;\n",
       "\n",
       "    this.send_message(name, {x: x, y: y, button: event.button,\n",
       "                             step: event.step,\n",
       "                             guiEvent: simpleKeys(event)});\n",
       "\n",
       "    /* This prevents the web browser from automatically changing to\n",
       "     * the text insertion cursor when the button is pressed.  We want\n",
       "     * to control all of the cursor setting manually through the\n",
       "     * 'cursor' event from matplotlib */\n",
       "    event.preventDefault();\n",
       "    return false;\n",
       "}\n",
       "\n",
       "mpl.figure.prototype._key_event_extra = function(event, name) {\n",
       "    // Handle any extra behaviour associated with a key event\n",
       "}\n",
       "\n",
       "mpl.figure.prototype.key_event = function(event, name) {\n",
       "\n",
       "    // Prevent repeat events\n",
       "    if (name == 'key_press')\n",
       "    {\n",
       "        if (event.which === this._key)\n",
       "            return;\n",
       "        else\n",
       "            this._key = event.which;\n",
       "    }\n",
       "    if (name == 'key_release')\n",
       "        this._key = null;\n",
       "\n",
       "    var value = '';\n",
       "    if (event.ctrlKey && event.which != 17)\n",
       "        value += \"ctrl+\";\n",
       "    if (event.altKey && event.which != 18)\n",
       "        value += \"alt+\";\n",
       "    if (event.shiftKey && event.which != 16)\n",
       "        value += \"shift+\";\n",
       "\n",
       "    value += 'k';\n",
       "    value += event.which.toString();\n",
       "\n",
       "    this._key_event_extra(event, name);\n",
       "\n",
       "    this.send_message(name, {key: value,\n",
       "                             guiEvent: simpleKeys(event)});\n",
       "    return false;\n",
       "}\n",
       "\n",
       "mpl.figure.prototype.toolbar_button_onclick = function(name) {\n",
       "    if (name == 'download') {\n",
       "        this.handle_save(this, null);\n",
       "    } else {\n",
       "        this.send_message(\"toolbar_button\", {name: name});\n",
       "    }\n",
       "};\n",
       "\n",
       "mpl.figure.prototype.toolbar_button_onmouseover = function(tooltip) {\n",
       "    this.message.textContent = tooltip;\n",
       "};\n",
       "mpl.toolbar_items = [[\"Home\", \"Reset original view\", \"fa fa-home icon-home\", \"home\"], [\"Back\", \"Back to previous view\", \"fa fa-arrow-left icon-arrow-left\", \"back\"], [\"Forward\", \"Forward to next view\", \"fa fa-arrow-right icon-arrow-right\", \"forward\"], [\"\", \"\", \"\", \"\"], [\"Pan\", \"Pan axes with left mouse, zoom with right\", \"fa fa-arrows icon-move\", \"pan\"], [\"Zoom\", \"Zoom to rectangle\", \"fa fa-square-o icon-check-empty\", \"zoom\"], [\"\", \"\", \"\", \"\"], [\"Download\", \"Download plot\", \"fa fa-floppy-o icon-save\", \"download\"]];\n",
       "\n",
       "mpl.extensions = [\"eps\", \"jpeg\", \"pdf\", \"png\", \"ps\", \"raw\", \"svg\", \"tif\"];\n",
       "\n",
       "mpl.default_extension = \"png\";var comm_websocket_adapter = function(comm) {\n",
       "    // Create a \"websocket\"-like object which calls the given IPython comm\n",
       "    // object with the appropriate methods. Currently this is a non binary\n",
       "    // socket, so there is still some room for performance tuning.\n",
       "    var ws = {};\n",
       "\n",
       "    ws.close = function() {\n",
       "        comm.close()\n",
       "    };\n",
       "    ws.send = function(m) {\n",
       "        //console.log('sending', m);\n",
       "        comm.send(m);\n",
       "    };\n",
       "    // Register the callback with on_msg.\n",
       "    comm.on_msg(function(msg) {\n",
       "        //console.log('receiving', msg['content']['data'], msg);\n",
       "        // Pass the mpl event to the overridden (by mpl) onmessage function.\n",
       "        ws.onmessage(msg['content']['data'])\n",
       "    });\n",
       "    return ws;\n",
       "}\n",
       "\n",
       "mpl.mpl_figure_comm = function(comm, msg) {\n",
       "    // This is the function which gets called when the mpl process\n",
       "    // starts-up an IPython Comm through the \"matplotlib\" channel.\n",
       "\n",
       "    var id = msg.content.data.id;\n",
       "    // Get hold of the div created by the display call when the Comm\n",
       "    // socket was opened in Python.\n",
       "    var element = $(\"#\" + id);\n",
       "    var ws_proxy = comm_websocket_adapter(comm)\n",
       "\n",
       "    function ondownload(figure, format) {\n",
       "        window.open(figure.imageObj.src);\n",
       "    }\n",
       "\n",
       "    var fig = new mpl.figure(id, ws_proxy,\n",
       "                           ondownload,\n",
       "                           element.get(0));\n",
       "\n",
       "    // Call onopen now - mpl needs it, as it is assuming we've passed it a real\n",
       "    // web socket which is closed, not our websocket->open comm proxy.\n",
       "    ws_proxy.onopen();\n",
       "\n",
       "    fig.parent_element = element.get(0);\n",
       "    fig.cell_info = mpl.find_output_cell(\"<div id='\" + id + \"'></div>\");\n",
       "    if (!fig.cell_info) {\n",
       "        console.error(\"Failed to find cell for figure\", id, fig);\n",
       "        return;\n",
       "    }\n",
       "\n",
       "    var output_index = fig.cell_info[2]\n",
       "    var cell = fig.cell_info[0];\n",
       "\n",
       "};\n",
       "\n",
       "mpl.figure.prototype.handle_close = function(fig, msg) {\n",
       "    var width = fig.canvas.width/mpl.ratio\n",
       "    fig.root.unbind('remove')\n",
       "\n",
       "    // Update the output cell to use the data from the current canvas.\n",
       "    fig.push_to_output();\n",
       "    var dataURL = fig.canvas.toDataURL();\n",
       "    // Re-enable the keyboard manager in IPython - without this line, in FF,\n",
       "    // the notebook keyboard shortcuts fail.\n",
       "    IPython.keyboard_manager.enable()\n",
       "    $(fig.parent_element).html('<img src=\"' + dataURL + '\" width=\"' + width + '\">');\n",
       "    fig.close_ws(fig, msg);\n",
       "}\n",
       "\n",
       "mpl.figure.prototype.close_ws = function(fig, msg){\n",
       "    fig.send_message('closing', msg);\n",
       "    // fig.ws.close()\n",
       "}\n",
       "\n",
       "mpl.figure.prototype.push_to_output = function(remove_interactive) {\n",
       "    // Turn the data on the canvas into data in the output cell.\n",
       "    var width = this.canvas.width/mpl.ratio\n",
       "    var dataURL = this.canvas.toDataURL();\n",
       "    this.cell_info[1]['text/html'] = '<img src=\"' + dataURL + '\" width=\"' + width + '\">';\n",
       "}\n",
       "\n",
       "mpl.figure.prototype.updated_canvas_event = function() {\n",
       "    // Tell IPython that the notebook contents must change.\n",
       "    IPython.notebook.set_dirty(true);\n",
       "    this.send_message(\"ack\", {});\n",
       "    var fig = this;\n",
       "    // Wait a second, then push the new image to the DOM so\n",
       "    // that it is saved nicely (might be nice to debounce this).\n",
       "    setTimeout(function () { fig.push_to_output() }, 1000);\n",
       "}\n",
       "\n",
       "mpl.figure.prototype._init_toolbar = function() {\n",
       "    var fig = this;\n",
       "\n",
       "    var nav_element = $('<div/>');\n",
       "    nav_element.attr('style', 'width: 100%');\n",
       "    this.root.append(nav_element);\n",
       "\n",
       "    // Define a callback function for later on.\n",
       "    function toolbar_event(event) {\n",
       "        return fig.toolbar_button_onclick(event['data']);\n",
       "    }\n",
       "    function toolbar_mouse_event(event) {\n",
       "        return fig.toolbar_button_onmouseover(event['data']);\n",
       "    }\n",
       "\n",
       "    for(var toolbar_ind in mpl.toolbar_items){\n",
       "        var name = mpl.toolbar_items[toolbar_ind][0];\n",
       "        var tooltip = mpl.toolbar_items[toolbar_ind][1];\n",
       "        var image = mpl.toolbar_items[toolbar_ind][2];\n",
       "        var method_name = mpl.toolbar_items[toolbar_ind][3];\n",
       "\n",
       "        if (!name) { continue; };\n",
       "\n",
       "        var button = $('<button class=\"btn btn-default\" href=\"#\" title=\"' + name + '\"><i class=\"fa ' + image + ' fa-lg\"></i></button>');\n",
       "        button.click(method_name, toolbar_event);\n",
       "        button.mouseover(tooltip, toolbar_mouse_event);\n",
       "        nav_element.append(button);\n",
       "    }\n",
       "\n",
       "    // Add the status bar.\n",
       "    var status_bar = $('<span class=\"mpl-message\" style=\"text-align:right; float: right;\"/>');\n",
       "    nav_element.append(status_bar);\n",
       "    this.message = status_bar[0];\n",
       "\n",
       "    // Add the close button to the window.\n",
       "    var buttongrp = $('<div class=\"btn-group inline pull-right\"></div>');\n",
       "    var button = $('<button class=\"btn btn-mini btn-primary\" href=\"#\" title=\"Stop Interaction\"><i class=\"fa fa-power-off icon-remove icon-large\"></i></button>');\n",
       "    button.click(function (evt) { fig.handle_close(fig, {}); } );\n",
       "    button.mouseover('Stop Interaction', toolbar_mouse_event);\n",
       "    buttongrp.append(button);\n",
       "    var titlebar = this.root.find($('.ui-dialog-titlebar'));\n",
       "    titlebar.prepend(buttongrp);\n",
       "}\n",
       "\n",
       "mpl.figure.prototype._root_extra_style = function(el){\n",
       "    var fig = this\n",
       "    el.on(\"remove\", function(){\n",
       "\tfig.close_ws(fig, {});\n",
       "    });\n",
       "}\n",
       "\n",
       "mpl.figure.prototype._canvas_extra_style = function(el){\n",
       "    // this is important to make the div 'focusable\n",
       "    el.attr('tabindex', 0)\n",
       "    // reach out to IPython and tell the keyboard manager to turn it's self\n",
       "    // off when our div gets focus\n",
       "\n",
       "    // location in version 3\n",
       "    if (IPython.notebook.keyboard_manager) {\n",
       "        IPython.notebook.keyboard_manager.register_events(el);\n",
       "    }\n",
       "    else {\n",
       "        // location in version 2\n",
       "        IPython.keyboard_manager.register_events(el);\n",
       "    }\n",
       "\n",
       "}\n",
       "\n",
       "mpl.figure.prototype._key_event_extra = function(event, name) {\n",
       "    var manager = IPython.notebook.keyboard_manager;\n",
       "    if (!manager)\n",
       "        manager = IPython.keyboard_manager;\n",
       "\n",
       "    // Check for shift+enter\n",
       "    if (event.shiftKey && event.which == 13) {\n",
       "        this.canvas_div.blur();\n",
       "        // select the cell after this one\n",
       "        var index = IPython.notebook.find_cell_index(this.cell_info[0]);\n",
       "        IPython.notebook.select(index + 1);\n",
       "    }\n",
       "}\n",
       "\n",
       "mpl.figure.prototype.handle_save = function(fig, msg) {\n",
       "    fig.ondownload(fig, null);\n",
       "}\n",
       "\n",
       "\n",
       "mpl.find_output_cell = function(html_output) {\n",
       "    // Return the cell and output element which can be found *uniquely* in the notebook.\n",
       "    // Note - this is a bit hacky, but it is done because the \"notebook_saving.Notebook\"\n",
       "    // IPython event is triggered only after the cells have been serialised, which for\n",
       "    // our purposes (turning an active figure into a static one), is too late.\n",
       "    var cells = IPython.notebook.get_cells();\n",
       "    var ncells = cells.length;\n",
       "    for (var i=0; i<ncells; i++) {\n",
       "        var cell = cells[i];\n",
       "        if (cell.cell_type === 'code'){\n",
       "            for (var j=0; j<cell.output_area.outputs.length; j++) {\n",
       "                var data = cell.output_area.outputs[j];\n",
       "                if (data.data) {\n",
       "                    // IPython >= 3 moved mimebundle to data attribute of output\n",
       "                    data = data.data;\n",
       "                }\n",
       "                if (data['text/html'] == html_output) {\n",
       "                    return [cell, data, j];\n",
       "                }\n",
       "            }\n",
       "        }\n",
       "    }\n",
       "}\n",
       "\n",
       "// Register the function which deals with the matplotlib target/channel.\n",
       "// The kernel may be null if the page has been refreshed.\n",
       "if (IPython.notebook.kernel != null) {\n",
       "    IPython.notebook.kernel.comm_manager.register_target('matplotlib', mpl.mpl_figure_comm);\n",
       "}\n"
      ],
      "text/plain": [
       "<IPython.core.display.Javascript object>"
      ]
     },
     "metadata": {},
     "output_type": "display_data"
    },
    {
     "data": {
      "text/html": [
       "<img src=\"data:image/png;base64,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\" width=\"1000\">"
      ],
      "text/plain": [
       "<IPython.core.display.HTML object>"
      ]
     },
     "metadata": {},
     "output_type": "display_data"
    }
   ],
   "source": [
    "dual_train_plots(results.index,\n",
    "                 results.cost, results.val,\n",
    "                 results.cost, results.val)\n",
    "plt.tight_layout()\n",
    "plt.savefig(str(output / f'{name}_stats_a.png'))"
   ]
  },
  {
   "cell_type": "code",
   "execution_count": 22,
   "metadata": {},
   "outputs": [],
   "source": [
    "##quit()"
   ]
  },
  {
   "cell_type": "code",
   "execution_count": null,
   "metadata": {},
   "outputs": [],
   "source": []
  },
  {
   "cell_type": "code",
   "execution_count": null,
   "metadata": {},
   "outputs": [],
   "source": []
  }
 ],
 "metadata": {
  "kernelspec": {
   "display_name": "goofit-june2020",
   "language": "python",
   "name": "goofit-june2020"
  },
  "language_info": {
   "codemirror_mode": {
    "name": "ipython",
    "version": 3
   },
   "file_extension": ".py",
   "mimetype": "text/x-python",
   "name": "python",
   "nbconvert_exporter": "python",
   "pygments_lexer": "ipython3",
   "version": "3.7.6"
  }
 },
 "nbformat": 4,
 "nbformat_minor": 2
}
