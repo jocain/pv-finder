{
 "cells": [
  {
   "cell_type": "code",
   "execution_count": 1,
   "metadata": {},
   "outputs": [],
   "source": [
    "##%matplotlib widget\n",
    "## with %matplotlib notebook: seems to require ipympl as part of environment, either\n",
    "## part of the conda environment or \"pip install ipympl\"\n",
    "## otherwise, does not show ANY plots in notebook, plt.savefig() works\n",
    "%matplotlib notebook  \n",
    "##%matplotlib inline    ## --plt.savefig()  works, but re-sizing does NOT\n"
   ]
  },
  {
   "cell_type": "markdown",
   "metadata": {},
   "source": [
    "This notebook is first attempt to read in track information and use it to predict the KDE used as input to PvFinder.\n"
   ]
  },
  {
   "cell_type": "markdown",
   "metadata": {},
   "source": [
    "Check the current GPU usage. Please try to be nice!"
   ]
  },
  {
   "cell_type": "code",
   "execution_count": 2,
   "metadata": {},
   "outputs": [
    {
     "name": "stdout",
     "output_type": "stream",
     "text": [
      "Wed Jul 29 20:32:05 2020       \r\n",
      "+-----------------------------------------------------------------------------+\r\n",
      "| NVIDIA-SMI 450.36.06    Driver Version: 450.36.06    CUDA Version: 11.0     |\r\n",
      "|-------------------------------+----------------------+----------------------+\r\n",
      "| GPU  Name        Persistence-M| Bus-Id        Disp.A | Volatile Uncorr. ECC |\r\n",
      "| Fan  Temp  Perf  Pwr:Usage/Cap|         Memory-Usage | GPU-Util  Compute M. |\r\n",
      "|                               |                      |               MIG M. |\r\n",
      "|===============================+======================+======================|\r\n",
      "|   0  GeForce RTX 208...  On   | 00000000:18:00.0 Off |                  N/A |\r\n",
      "| 29%   32C    P8    22W / 250W |   1395MiB / 11019MiB |      0%      Default |\r\n",
      "|                               |                      |                  N/A |\r\n",
      "+-------------------------------+----------------------+----------------------+\r\n",
      "|   1  GeForce RTX 208...  On   | 00000000:3B:00.0 Off |                  N/A |\r\n",
      "| 29%   30C    P8    21W / 250W |   2229MiB / 11019MiB |      0%      Default |\r\n",
      "|                               |                      |                  N/A |\r\n",
      "+-------------------------------+----------------------+----------------------+\r\n",
      "                                                                               \r\n",
      "+-----------------------------------------------------------------------------+\r\n",
      "| Processes:                                                                  |\r\n",
      "|  GPU   GI   CI        PID   Type   Process name                  GPU Memory |\r\n",
      "|        ID   ID                                                   Usage      |\r\n",
      "|=============================================================================|\r\n",
      "|    0   N/A  N/A    288163      C   ...s/june2020-gpu/bin/python     1391MiB |\r\n",
      "|    1   N/A  N/A      3787      G   /usr/bin/X                         33MiB |\r\n",
      "|    1   N/A  N/A      3843      G   /usr/bin/gnome-shell               25MiB |\r\n",
      "|    1   N/A  N/A    173546      C   ...s/june2020-gpu/bin/python      979MiB |\r\n",
      "|    1   N/A  N/A    285602      C   ...s/june2020-gpu/bin/python     1187MiB |\r\n",
      "+-----------------------------------------------------------------------------+\r\n"
     ]
    }
   ],
   "source": [
    "!nvidia-smi"
   ]
  },
  {
   "cell_type": "markdown",
   "metadata": {},
   "source": [
    "> **WARNING**: The card numbers here are *not* the same as in CUDA. You have been warned."
   ]
  },
  {
   "cell_type": "markdown",
   "metadata": {},
   "source": [
    "## Imports"
   ]
  },
  {
   "cell_type": "code",
   "execution_count": 3,
   "metadata": {},
   "outputs": [],
   "source": [
    "import matplotlib.pyplot as plt\n",
    "import numpy as np\n",
    "import time\n",
    "import torch\n",
    "import pandas as pd\n",
    "\n",
    "# Python 3 standard library\n",
    "from pathlib import Path\n",
    "\n",
    "##from torchsummary import summary"
   ]
  },
  {
   "cell_type": "markdown",
   "metadata": {},
   "source": [
    "### Set up local parameters"
   ]
  },
  {
   "cell_type": "code",
   "execution_count": 4,
   "metadata": {},
   "outputs": [],
   "source": [
    "n_epochs = 400\n",
    "\n",
    "# Name is the output file name\n",
    "\n",
    "\n",
    "##  200719  mds\n",
    "folder = '29July2020_Trks_to_KDE_C_lossB_another_400_epochs_b64_3m4_nOut_50x50'\n",
    "name = '29July2020_Trks_to_KDE_C_lossB_another_400_epochs_b64_3m4_nOut_50x50'\n",
    "\n",
    "# Make an output folder named \"name\" (change if you want)\n",
    "\n",
    "## Special instructions for those working on goofy at UC\n",
    "## Please be very careful to make sure that your folder\n",
    "## does not live in a subdirectory of your home directory\n",
    "## this disk has very little capacity. Instead, use \n",
    "## a subdirectory in /share/lazy with a symbolic link to\n",
    "## it in this (the notebooks) subdirectory\n",
    "folder = 'ML/' + folder\n",
    "output = Path(folder)\n",
    "\n",
    "\n",
    "# Size of batches\n",
    "batch_size = 64\n",
    "# How fast to learn\n",
    "learning_rate = 3e-4"
   ]
  },
  {
   "cell_type": "markdown",
   "metadata": {},
   "source": [
    "Make the output directory if it does not exist:"
   ]
  },
  {
   "cell_type": "code",
   "execution_count": 5,
   "metadata": {},
   "outputs": [],
   "source": [
    "output.mkdir(exist_ok=True)"
   ]
  },
  {
   "cell_type": "markdown",
   "metadata": {},
   "source": [
    "## Get the helper functions\n",
    "\n",
    "Add the directory with the model\n",
    "definitions to the path so we can import from it:\n",
    "\n",
    "> When you type `import X`,\n",
    "Python searches `sys.path` for a python\n",
    "file named `X.py` to import. So we need to add the model directory to the path."
   ]
  },
  {
   "cell_type": "code",
   "execution_count": 6,
   "metadata": {
    "scrolled": true
   },
   "outputs": [],
   "source": [
    "# From model/collectdata.py\n",
    "from model.collectdata_kde import collect_t2kde_data\n",
    "\n",
    "# From model/loss.py\n",
    "##from loss import Loss\n",
    "from model.kde_loss_B import Loss\n",
    "\n",
    "\n",
    "from model.models_kde import TracksToKDE_C as Model\n",
    "\n",
    "\n",
    "from model.training_kde import trainNet, select_gpu, Results\n",
    "from model.plots import dual_train_plots, replace_in_ax"
   ]
  },
  {
   "cell_type": "code",
   "execution_count": 7,
   "metadata": {},
   "outputs": [],
   "source": [
    "# This gets built up during the run - do not rerun this cell\n",
    "results = pd.DataFrame([], columns=Results._fields)"
   ]
  },
  {
   "cell_type": "markdown",
   "metadata": {},
   "source": [
    "Set up Torch device configuration. All tensors and model parameters need to know where to be put.\n",
    "This takes a BUS ID number: The BUS ID is the same as the listing at the top of this script."
   ]
  },
  {
   "cell_type": "code",
   "execution_count": 8,
   "metadata": {},
   "outputs": [
    {
     "name": "stdout",
     "output_type": "stream",
     "text": [
      "1 available GPUs (initially using device 0):\n",
      "  0 GeForce RTX 2080 Ti\n"
     ]
    }
   ],
   "source": [
    "device = select_gpu(1)\n",
    "##device = \"cpu\""
   ]
  },
  {
   "cell_type": "markdown",
   "metadata": {},
   "source": [
    "## Loading data\n",
    "\n",
    "Load the dataset, split into parts, then move to device (see `collectdata.py` in the `../model` directory)"
   ]
  },
  {
   "cell_type": "code",
   "execution_count": 9,
   "metadata": {
    "scrolled": false
   },
   "outputs": [
    {
     "name": "stdout",
     "output_type": "stream",
     "text": [
      "Loading data...\n",
      "len(X) =  20000\n",
      "len(Xlist) =  1\n",
      "Loaded /share/lazy/pv-finder/20k_evts_for_KDE_learning_200716.h5 in 4.536 s\n",
      "outer loop X.shape =  (20000, 6, 600)\n",
      "Constructing 18000 event dataset took 2.425 s\n",
      "x_t.shape =  torch.Size([18000, 6, 600])\n",
      "x_t.shape[0] =  18000\n",
      "x_t.shape[1] =  6\n",
      "x_t.shape =  torch.Size([18000, 6, 600])\n",
      "Loading data...\n",
      "len(X) =  20000\n",
      "len(Xlist) =  1\n",
      "Loaded /share/lazy/pv-finder/20k_evts_for_KDE_learning_200716.h5 in 4.658 s\n",
      "outer loop X.shape =  (20000, 6, 600)\n",
      "Constructing 2000 event dataset took 0.04014 s\n",
      "x_t.shape =  torch.Size([2000, 6, 600])\n",
      "x_t.shape[0] =  2000\n",
      "x_t.shape[1] =  6\n",
      "x_t.shape =  torch.Size([2000, 6, 600])\n"
     ]
    }
   ],
   "source": [
    "\n",
    "## Training dataset. You can put as many files here as desired.\n",
    "\n",
    "## in this DEMO example we use only one 80K training set -- the model starts with well-trained weights,\n",
    "## and using a smaller training set reduces both the time to load the data and the time to train an epoch\n",
    "\n",
    "train_loader = collect_t2kde_data('/share/lazy/pv-finder/20k_evts_for_KDE_learning_200716.h5',\n",
    "##train_loader = collect_t2kde_data('/share/lazy/pv-finder/test_data_for_KDE_learning_BastilleDay20.h5',\n",
    "                            batch_size=batch_size,\n",
    "## if we are using a larger dataset (240K events, with the datasets above, and 11 GB  of GPU memory),\n",
    "## the dataset will overflow the GPU memory; device=device will allow the data to move back\n",
    "## and forth between the CPU and GPU memory. While this allows use of a larger dataset, it slows\n",
    "## down performance by about 10%.  So comment out when not needed.\n",
    "                           device=device,\n",
    "                           slice = slice(None,18000)\n",
    "                           )\n",
    "                            \n",
    "# Validation dataset. You can slice to reduce the size.\n",
    "## mds no separate validation set yet,\n",
    "val_loader = collect_t2kde_data('/share/lazy/pv-finder/20k_evts_for_KDE_learning_200716.h5',\n",
    "                            batch_size=batch_size,\n",
    "                            device=device,\n",
    "                            slice = slice(18000,None)\n",
    "                           )"
   ]
  },
  {
   "cell_type": "markdown",
   "metadata": {},
   "source": [
    "# Preparing the model"
   ]
  },
  {
   "cell_type": "markdown",
   "metadata": {},
   "source": [
    "Prepare a model, use multiple GPUs if they are VISIBLE, and move the model to the device."
   ]
  },
  {
   "cell_type": "code",
   "execution_count": 10,
   "metadata": {
    "scrolled": true
   },
   "outputs": [
    {
     "name": "stdout",
     "output_type": "stream",
     "text": [
      "ct, child =  0    Linear(in_features=6, out_features=50, bias=True)\n",
      "ct, child =  1    Linear(in_features=50, out_features=50, bias=True)\n",
      "ct, child =  2    Linear(in_features=50, out_features=4000, bias=True)\n"
     ]
    }
   ],
   "source": [
    "nOut1 = 50\n",
    "nOut2 = 50\n",
    "model = Model(nOut1,nOut2)\n",
    "\n",
    "##summary(model, input_size=(4, 4000))\n",
    "##print(model.parameters)\n",
    "\n",
    "## add the following code to allow the user to freeze the some of the weights corresponding \n",
    "## to those taken from an earlier model trained with the original target histograms\n",
    "## presumably -- this leaves either the perturbative filter \"fixed\" and lets the \n",
    "## learning focus on the non-perturbative features, so get started faster, or vice versa\n",
    "ct = 0\n",
    "for child in model.children():\n",
    "  print('ct, child = ',ct, \"  \", child)\n",
    "  if ct < 0:\n",
    "    print(\"     About to set param.requires_grad=False for ct = \", ct, \"params\")\n",
    "    for param in child.parameters():\n",
    "        param.requires_grad = False \n",
    "  ct += 1\n",
    "##  mds 200121 loss = Loss(epsilon=1e-5,coefficient=1.0)\n",
    "##  loss = Loss(epsilon=1e-5,coefficient=2.5)\n",
    "loss = Loss(epsilon=1e-5)\n",
    "optimizer = torch.optim.Adam(model.parameters(), lr=learning_rate)"
   ]
  },
  {
   "cell_type": "code",
   "execution_count": 11,
   "metadata": {
    "scrolled": true
   },
   "outputs": [],
   "source": [
    "##print(\"Let's use\", torch.cuda.device_count(), \"GPUs!\")\n",
    "##if torch.cuda.device_count() > 1:\n",
    "##    model = torch.nn.DataParallel(model)"
   ]
  },
  {
   "cell_type": "markdown",
   "metadata": {},
   "source": [
    "Let's move the model's weight matricies to the GPU:"
   ]
  },
  {
   "cell_type": "code",
   "execution_count": 12,
   "metadata": {
    "scrolled": false
   },
   "outputs": [
    {
     "name": "stdout",
     "output_type": "stream",
     "text": [
      "output =  ML/29July2020_Trks_to_KDE_C_lossB_another_400_epochs_b64_3m4_nOut_50x50\n",
      "for model_dict\n",
      "index, k =   0    layer1.weight\n",
      "index, k =   1    layer1.bias\n",
      "index, k =   2    layer2.weight\n",
      "index, k =   3    layer2.bias\n",
      "index, k =   4    layer3.weight\n",
      "index, k =   5    layer3.bias\n",
      " \n",
      "   for pretrained_dict\n",
      "pretrained_dict iterated\n"
     ]
    },
    {
     "data": {
      "text/plain": [
       "<All keys matched successfully>"
      ]
     },
     "execution_count": 12,
     "metadata": {},
     "output_type": "execute_result"
    }
   ],
   "source": [
    "print('output = ',output)\n",
    "##print('oldOutput = ',oldOutput)\n",
    "##  use the first four layers from a pre-existing model\n",
    "##  see example at https://discuss.pytorch.org/t/how-to-load-part-of-pre-trained-model/1113\n",
    "\n",
    "##   ML -> /share/lazy/sokoloff/ML\n",
    "model_dict = model.state_dict()\n",
    "## mds 190725 for debugging\n",
    "print(\"for model_dict\")\n",
    "index = 0\n",
    "for k,v in model_dict.items():\n",
    "    print(\"index, k =  \",index,\"  \",k)\n",
    "    index = index+1\n",
    "##    print(\"value = \", v)\n",
    " \n",
    "updated_dict = model_dict\n",
    "##print(\"updated_dict = \",updated_dict)\n",
    "## when starting \"ab initio\", reduce biases as the bias gets summed for each track\n",
    "## contributing to the predicted KDE\n",
    "updated_dict[\"layer1.bias\"] = 0.005*model_dict[\"layer1.bias\"]\n",
    "updated_dict[\"layer2.bias\"] = 0.005*model_dict[\"layer2.bias\"]\n",
    "updated_dict[\"layer2.bias\"] = 0.005*model_dict[\"layer2.bias\"]\n",
    "\n",
    "model.load_state_dict(updated_dict,strict=False)\n",
    "\n",
    "model_dict = model.state_dict()\n",
    "##print(\"updated model_dict = \",model_dict)\n",
    "\n",
    "print(\" \\n\",\"  for pretrained_dict\")\n",
    "index = 0\n",
    "##for k,v in pretrained_dict.items():\n",
    "##    print(\"index, k =  \",index,\"  \",k)\n",
    "##    index = index+1\n",
    "## mds  \n",
    "\n",
    "pretrained_dict = torch.load('ML/29July2020_Trks_to_KDE_C_lossB_100epochs_b64_1m3_nOut_50x50/29July2020_Trks_to_KDE_C_lossB_100epochs_b64_1m3_nOut_50x50_final.pyt')\n",
    "##print(\"model_dict instantiated\")\n",
    "# 1. filter out unnecessary keys\n",
    "pretrained_dict = {k: v for k, v in pretrained_dict.items() if k in model_dict}\n",
    "print(\"pretrained_dict iterated\")\n",
    "# 2. overwrite entries in the existing state dict\n",
    "model_dict.update(pretrained_dict) \n",
    "##\n",
    "#   when starting from a model with a fully connected last layer rather than a convolutional layer\n",
    "# 3. load the new state dict\n",
    "#   need to use strict=False as the two models state model attributes do not agree exactly\n",
    "#   see https://pytorch.org/docs/master/_modules/torch/nn/modules/module.html#Module.load_state_dict\n",
    "\n",
    "model.load_state_dict(pretrained_dict,strict=False)\n",
    "\n",
    "## print('model_dict =    ', model_dict)\n"
   ]
  },
  {
   "cell_type": "code",
   "execution_count": 13,
   "metadata": {},
   "outputs": [],
   "source": [
    "##print('validation.dataset.tensors = ',validation.dataset.tensors)\n",
    "fig_size = plt.rcParams[\"figure.figsize\"]\n",
    "fig_size[0] = 10\n",
    "fig_size[1] = 4\n",
    "plt.rcParams[\"figure.figsize\"] = fig_size"
   ]
  },
  {
   "cell_type": "code",
   "execution_count": 14,
   "metadata": {
    "scrolled": true
   },
   "outputs": [],
   "source": [
    "model = model.to(device)"
   ]
  },
  {
   "cell_type": "markdown",
   "metadata": {
    "scrolled": false
   },
   "source": [
    "with torch.no_grad():\n",
    "    counter = 0\n",
    "    event = 0\n",
    "    print(\"train_loader = \",train_loader)\n",
    "    for inputs, labels in train_loader:\n",
    "##        print(\"counter = \",counter)\n",
    "##        print(\"inputs = \",inputs)\n",
    "        print(\"inputs.shape = \",inputs.shape)\n",
    "        if inputs.device != device:\n",
    "            inputs, labels = inputs.to(device), labels.to(device)\n",
    "            \n",
    "        outputs = model(inputs)\n",
    "##        print(\"outputs.shape = \",outputs.shape)\n",
    "        nEvts = outputs.shape[0]\n",
    "        for iEvt in range(nEvts):\n",
    "            y_pred = outputs[iEvt,:]\n",
    "            y_pred = y_pred.cpu().numpy()\n",
    "            \n",
    "            event = event +1\n",
    "##            print(\"event = \",event)\n",
    "            if (event<5):\n",
    "                plt.figure()\n",
    "                plt.plot(y_pred[0:50])\n",
    "                plt.show()\n",
    "                \n",
    "##                print(\"  point AA \")\n",
    "                features = inputs[iEvt,:]\n",
    "                features = features[np.newaxis,:,:]\n",
    "                \n",
    "                \n",
    "                print(\"features.shape = \",features.shape)\n",
    "                \n",
    "                output_A = model(features)\n",
    "                y_prime = output_A[0,:]\n",
    "                y_prime = y_prime.cpu().numpy()\n",
    "                plt.figure()\n",
    "                plt.plot(y_prime[0:50], color=\"r\")\n",
    "                plt.show()\n",
    "                \n",
    "            \n",
    "\n",
    "##        print(\"nEvts = \",nEvts)\n",
    "        \n",
    "        counter = counter+1\n",
    "        \n",
    "        \n",
    "        "
   ]
  },
  {
   "cell_type": "code",
   "execution_count": 15,
   "metadata": {
    "scrolled": false
   },
   "outputs": [
    {
     "data": {
      "application/javascript": [
       "/* Put everything inside the global mpl namespace */\n",
       "window.mpl = {};\n",
       "\n",
       "\n",
       "mpl.get_websocket_type = function() {\n",
       "    if (typeof(WebSocket) !== 'undefined') {\n",
       "        return WebSocket;\n",
       "    } else if (typeof(MozWebSocket) !== 'undefined') {\n",
       "        return MozWebSocket;\n",
       "    } else {\n",
       "        alert('Your browser does not have WebSocket support. ' +\n",
       "              'Please try Chrome, Safari or Firefox ≥ 6. ' +\n",
       "              'Firefox 4 and 5 are also supported but you ' +\n",
       "              'have to enable WebSockets in about:config.');\n",
       "    };\n",
       "}\n",
       "\n",
       "mpl.figure = function(figure_id, websocket, ondownload, parent_element) {\n",
       "    this.id = figure_id;\n",
       "\n",
       "    this.ws = websocket;\n",
       "\n",
       "    this.supports_binary = (this.ws.binaryType != undefined);\n",
       "\n",
       "    if (!this.supports_binary) {\n",
       "        var warnings = document.getElementById(\"mpl-warnings\");\n",
       "        if (warnings) {\n",
       "            warnings.style.display = 'block';\n",
       "            warnings.textContent = (\n",
       "                \"This browser does not support binary websocket messages. \" +\n",
       "                    \"Performance may be slow.\");\n",
       "        }\n",
       "    }\n",
       "\n",
       "    this.imageObj = new Image();\n",
       "\n",
       "    this.context = undefined;\n",
       "    this.message = undefined;\n",
       "    this.canvas = undefined;\n",
       "    this.rubberband_canvas = undefined;\n",
       "    this.rubberband_context = undefined;\n",
       "    this.format_dropdown = undefined;\n",
       "\n",
       "    this.image_mode = 'full';\n",
       "\n",
       "    this.root = $('<div/>');\n",
       "    this._root_extra_style(this.root)\n",
       "    this.root.attr('style', 'display: inline-block');\n",
       "\n",
       "    $(parent_element).append(this.root);\n",
       "\n",
       "    this._init_header(this);\n",
       "    this._init_canvas(this);\n",
       "    this._init_toolbar(this);\n",
       "\n",
       "    var fig = this;\n",
       "\n",
       "    this.waiting = false;\n",
       "\n",
       "    this.ws.onopen =  function () {\n",
       "            fig.send_message(\"supports_binary\", {value: fig.supports_binary});\n",
       "            fig.send_message(\"send_image_mode\", {});\n",
       "            if (mpl.ratio != 1) {\n",
       "                fig.send_message(\"set_dpi_ratio\", {'dpi_ratio': mpl.ratio});\n",
       "            }\n",
       "            fig.send_message(\"refresh\", {});\n",
       "        }\n",
       "\n",
       "    this.imageObj.onload = function() {\n",
       "            if (fig.image_mode == 'full') {\n",
       "                // Full images could contain transparency (where diff images\n",
       "                // almost always do), so we need to clear the canvas so that\n",
       "                // there is no ghosting.\n",
       "                fig.context.clearRect(0, 0, fig.canvas.width, fig.canvas.height);\n",
       "            }\n",
       "            fig.context.drawImage(fig.imageObj, 0, 0);\n",
       "        };\n",
       "\n",
       "    this.imageObj.onunload = function() {\n",
       "        fig.ws.close();\n",
       "    }\n",
       "\n",
       "    this.ws.onmessage = this._make_on_message_function(this);\n",
       "\n",
       "    this.ondownload = ondownload;\n",
       "}\n",
       "\n",
       "mpl.figure.prototype._init_header = function() {\n",
       "    var titlebar = $(\n",
       "        '<div class=\"ui-dialog-titlebar ui-widget-header ui-corner-all ' +\n",
       "        'ui-helper-clearfix\"/>');\n",
       "    var titletext = $(\n",
       "        '<div class=\"ui-dialog-title\" style=\"width: 100%; ' +\n",
       "        'text-align: center; padding: 3px;\"/>');\n",
       "    titlebar.append(titletext)\n",
       "    this.root.append(titlebar);\n",
       "    this.header = titletext[0];\n",
       "}\n",
       "\n",
       "\n",
       "\n",
       "mpl.figure.prototype._canvas_extra_style = function(canvas_div) {\n",
       "\n",
       "}\n",
       "\n",
       "\n",
       "mpl.figure.prototype._root_extra_style = function(canvas_div) {\n",
       "\n",
       "}\n",
       "\n",
       "mpl.figure.prototype._init_canvas = function() {\n",
       "    var fig = this;\n",
       "\n",
       "    var canvas_div = $('<div/>');\n",
       "\n",
       "    canvas_div.attr('style', 'position: relative; clear: both; outline: 0');\n",
       "\n",
       "    function canvas_keyboard_event(event) {\n",
       "        return fig.key_event(event, event['data']);\n",
       "    }\n",
       "\n",
       "    canvas_div.keydown('key_press', canvas_keyboard_event);\n",
       "    canvas_div.keyup('key_release', canvas_keyboard_event);\n",
       "    this.canvas_div = canvas_div\n",
       "    this._canvas_extra_style(canvas_div)\n",
       "    this.root.append(canvas_div);\n",
       "\n",
       "    var canvas = $('<canvas/>');\n",
       "    canvas.addClass('mpl-canvas');\n",
       "    canvas.attr('style', \"left: 0; top: 0; z-index: 0; outline: 0\")\n",
       "\n",
       "    this.canvas = canvas[0];\n",
       "    this.context = canvas[0].getContext(\"2d\");\n",
       "\n",
       "    var backingStore = this.context.backingStorePixelRatio ||\n",
       "\tthis.context.webkitBackingStorePixelRatio ||\n",
       "\tthis.context.mozBackingStorePixelRatio ||\n",
       "\tthis.context.msBackingStorePixelRatio ||\n",
       "\tthis.context.oBackingStorePixelRatio ||\n",
       "\tthis.context.backingStorePixelRatio || 1;\n",
       "\n",
       "    mpl.ratio = (window.devicePixelRatio || 1) / backingStore;\n",
       "\n",
       "    var rubberband = $('<canvas/>');\n",
       "    rubberband.attr('style', \"position: absolute; left: 0; top: 0; z-index: 1;\")\n",
       "\n",
       "    var pass_mouse_events = true;\n",
       "\n",
       "    canvas_div.resizable({\n",
       "        start: function(event, ui) {\n",
       "            pass_mouse_events = false;\n",
       "        },\n",
       "        resize: function(event, ui) {\n",
       "            fig.request_resize(ui.size.width, ui.size.height);\n",
       "        },\n",
       "        stop: function(event, ui) {\n",
       "            pass_mouse_events = true;\n",
       "            fig.request_resize(ui.size.width, ui.size.height);\n",
       "        },\n",
       "    });\n",
       "\n",
       "    function mouse_event_fn(event) {\n",
       "        if (pass_mouse_events)\n",
       "            return fig.mouse_event(event, event['data']);\n",
       "    }\n",
       "\n",
       "    rubberband.mousedown('button_press', mouse_event_fn);\n",
       "    rubberband.mouseup('button_release', mouse_event_fn);\n",
       "    // Throttle sequential mouse events to 1 every 20ms.\n",
       "    rubberband.mousemove('motion_notify', mouse_event_fn);\n",
       "\n",
       "    rubberband.mouseenter('figure_enter', mouse_event_fn);\n",
       "    rubberband.mouseleave('figure_leave', mouse_event_fn);\n",
       "\n",
       "    canvas_div.on(\"wheel\", function (event) {\n",
       "        event = event.originalEvent;\n",
       "        event['data'] = 'scroll'\n",
       "        if (event.deltaY < 0) {\n",
       "            event.step = 1;\n",
       "        } else {\n",
       "            event.step = -1;\n",
       "        }\n",
       "        mouse_event_fn(event);\n",
       "    });\n",
       "\n",
       "    canvas_div.append(canvas);\n",
       "    canvas_div.append(rubberband);\n",
       "\n",
       "    this.rubberband = rubberband;\n",
       "    this.rubberband_canvas = rubberband[0];\n",
       "    this.rubberband_context = rubberband[0].getContext(\"2d\");\n",
       "    this.rubberband_context.strokeStyle = \"#000000\";\n",
       "\n",
       "    this._resize_canvas = function(width, height) {\n",
       "        // Keep the size of the canvas, canvas container, and rubber band\n",
       "        // canvas in synch.\n",
       "        canvas_div.css('width', width)\n",
       "        canvas_div.css('height', height)\n",
       "\n",
       "        canvas.attr('width', width * mpl.ratio);\n",
       "        canvas.attr('height', height * mpl.ratio);\n",
       "        canvas.attr('style', 'width: ' + width + 'px; height: ' + height + 'px;');\n",
       "\n",
       "        rubberband.attr('width', width);\n",
       "        rubberband.attr('height', height);\n",
       "    }\n",
       "\n",
       "    // Set the figure to an initial 600x600px, this will subsequently be updated\n",
       "    // upon first draw.\n",
       "    this._resize_canvas(600, 600);\n",
       "\n",
       "    // Disable right mouse context menu.\n",
       "    $(this.rubberband_canvas).bind(\"contextmenu\",function(e){\n",
       "        return false;\n",
       "    });\n",
       "\n",
       "    function set_focus () {\n",
       "        canvas.focus();\n",
       "        canvas_div.focus();\n",
       "    }\n",
       "\n",
       "    window.setTimeout(set_focus, 100);\n",
       "}\n",
       "\n",
       "mpl.figure.prototype._init_toolbar = function() {\n",
       "    var fig = this;\n",
       "\n",
       "    var nav_element = $('<div/>');\n",
       "    nav_element.attr('style', 'width: 100%');\n",
       "    this.root.append(nav_element);\n",
       "\n",
       "    // Define a callback function for later on.\n",
       "    function toolbar_event(event) {\n",
       "        return fig.toolbar_button_onclick(event['data']);\n",
       "    }\n",
       "    function toolbar_mouse_event(event) {\n",
       "        return fig.toolbar_button_onmouseover(event['data']);\n",
       "    }\n",
       "\n",
       "    for(var toolbar_ind in mpl.toolbar_items) {\n",
       "        var name = mpl.toolbar_items[toolbar_ind][0];\n",
       "        var tooltip = mpl.toolbar_items[toolbar_ind][1];\n",
       "        var image = mpl.toolbar_items[toolbar_ind][2];\n",
       "        var method_name = mpl.toolbar_items[toolbar_ind][3];\n",
       "\n",
       "        if (!name) {\n",
       "            // put a spacer in here.\n",
       "            continue;\n",
       "        }\n",
       "        var button = $('<button/>');\n",
       "        button.addClass('ui-button ui-widget ui-state-default ui-corner-all ' +\n",
       "                        'ui-button-icon-only');\n",
       "        button.attr('role', 'button');\n",
       "        button.attr('aria-disabled', 'false');\n",
       "        button.click(method_name, toolbar_event);\n",
       "        button.mouseover(tooltip, toolbar_mouse_event);\n",
       "\n",
       "        var icon_img = $('<span/>');\n",
       "        icon_img.addClass('ui-button-icon-primary ui-icon');\n",
       "        icon_img.addClass(image);\n",
       "        icon_img.addClass('ui-corner-all');\n",
       "\n",
       "        var tooltip_span = $('<span/>');\n",
       "        tooltip_span.addClass('ui-button-text');\n",
       "        tooltip_span.html(tooltip);\n",
       "\n",
       "        button.append(icon_img);\n",
       "        button.append(tooltip_span);\n",
       "\n",
       "        nav_element.append(button);\n",
       "    }\n",
       "\n",
       "    var fmt_picker_span = $('<span/>');\n",
       "\n",
       "    var fmt_picker = $('<select/>');\n",
       "    fmt_picker.addClass('mpl-toolbar-option ui-widget ui-widget-content');\n",
       "    fmt_picker_span.append(fmt_picker);\n",
       "    nav_element.append(fmt_picker_span);\n",
       "    this.format_dropdown = fmt_picker[0];\n",
       "\n",
       "    for (var ind in mpl.extensions) {\n",
       "        var fmt = mpl.extensions[ind];\n",
       "        var option = $(\n",
       "            '<option/>', {selected: fmt === mpl.default_extension}).html(fmt);\n",
       "        fmt_picker.append(option);\n",
       "    }\n",
       "\n",
       "    // Add hover states to the ui-buttons\n",
       "    $( \".ui-button\" ).hover(\n",
       "        function() { $(this).addClass(\"ui-state-hover\");},\n",
       "        function() { $(this).removeClass(\"ui-state-hover\");}\n",
       "    );\n",
       "\n",
       "    var status_bar = $('<span class=\"mpl-message\"/>');\n",
       "    nav_element.append(status_bar);\n",
       "    this.message = status_bar[0];\n",
       "}\n",
       "\n",
       "mpl.figure.prototype.request_resize = function(x_pixels, y_pixels) {\n",
       "    // Request matplotlib to resize the figure. Matplotlib will then trigger a resize in the client,\n",
       "    // which will in turn request a refresh of the image.\n",
       "    this.send_message('resize', {'width': x_pixels, 'height': y_pixels});\n",
       "}\n",
       "\n",
       "mpl.figure.prototype.send_message = function(type, properties) {\n",
       "    properties['type'] = type;\n",
       "    properties['figure_id'] = this.id;\n",
       "    this.ws.send(JSON.stringify(properties));\n",
       "}\n",
       "\n",
       "mpl.figure.prototype.send_draw_message = function() {\n",
       "    if (!this.waiting) {\n",
       "        this.waiting = true;\n",
       "        this.ws.send(JSON.stringify({type: \"draw\", figure_id: this.id}));\n",
       "    }\n",
       "}\n",
       "\n",
       "\n",
       "mpl.figure.prototype.handle_save = function(fig, msg) {\n",
       "    var format_dropdown = fig.format_dropdown;\n",
       "    var format = format_dropdown.options[format_dropdown.selectedIndex].value;\n",
       "    fig.ondownload(fig, format);\n",
       "}\n",
       "\n",
       "\n",
       "mpl.figure.prototype.handle_resize = function(fig, msg) {\n",
       "    var size = msg['size'];\n",
       "    if (size[0] != fig.canvas.width || size[1] != fig.canvas.height) {\n",
       "        fig._resize_canvas(size[0], size[1]);\n",
       "        fig.send_message(\"refresh\", {});\n",
       "    };\n",
       "}\n",
       "\n",
       "mpl.figure.prototype.handle_rubberband = function(fig, msg) {\n",
       "    var x0 = msg['x0'] / mpl.ratio;\n",
       "    var y0 = (fig.canvas.height - msg['y0']) / mpl.ratio;\n",
       "    var x1 = msg['x1'] / mpl.ratio;\n",
       "    var y1 = (fig.canvas.height - msg['y1']) / mpl.ratio;\n",
       "    x0 = Math.floor(x0) + 0.5;\n",
       "    y0 = Math.floor(y0) + 0.5;\n",
       "    x1 = Math.floor(x1) + 0.5;\n",
       "    y1 = Math.floor(y1) + 0.5;\n",
       "    var min_x = Math.min(x0, x1);\n",
       "    var min_y = Math.min(y0, y1);\n",
       "    var width = Math.abs(x1 - x0);\n",
       "    var height = Math.abs(y1 - y0);\n",
       "\n",
       "    fig.rubberband_context.clearRect(\n",
       "        0, 0, fig.canvas.width / mpl.ratio, fig.canvas.height / mpl.ratio);\n",
       "\n",
       "    fig.rubberband_context.strokeRect(min_x, min_y, width, height);\n",
       "}\n",
       "\n",
       "mpl.figure.prototype.handle_figure_label = function(fig, msg) {\n",
       "    // Updates the figure title.\n",
       "    fig.header.textContent = msg['label'];\n",
       "}\n",
       "\n",
       "mpl.figure.prototype.handle_cursor = function(fig, msg) {\n",
       "    var cursor = msg['cursor'];\n",
       "    switch(cursor)\n",
       "    {\n",
       "    case 0:\n",
       "        cursor = 'pointer';\n",
       "        break;\n",
       "    case 1:\n",
       "        cursor = 'default';\n",
       "        break;\n",
       "    case 2:\n",
       "        cursor = 'crosshair';\n",
       "        break;\n",
       "    case 3:\n",
       "        cursor = 'move';\n",
       "        break;\n",
       "    }\n",
       "    fig.rubberband_canvas.style.cursor = cursor;\n",
       "}\n",
       "\n",
       "mpl.figure.prototype.handle_message = function(fig, msg) {\n",
       "    fig.message.textContent = msg['message'];\n",
       "}\n",
       "\n",
       "mpl.figure.prototype.handle_draw = function(fig, msg) {\n",
       "    // Request the server to send over a new figure.\n",
       "    fig.send_draw_message();\n",
       "}\n",
       "\n",
       "mpl.figure.prototype.handle_image_mode = function(fig, msg) {\n",
       "    fig.image_mode = msg['mode'];\n",
       "}\n",
       "\n",
       "mpl.figure.prototype.updated_canvas_event = function() {\n",
       "    // Called whenever the canvas gets updated.\n",
       "    this.send_message(\"ack\", {});\n",
       "}\n",
       "\n",
       "// A function to construct a web socket function for onmessage handling.\n",
       "// Called in the figure constructor.\n",
       "mpl.figure.prototype._make_on_message_function = function(fig) {\n",
       "    return function socket_on_message(evt) {\n",
       "        if (evt.data instanceof Blob) {\n",
       "            /* FIXME: We get \"Resource interpreted as Image but\n",
       "             * transferred with MIME type text/plain:\" errors on\n",
       "             * Chrome.  But how to set the MIME type?  It doesn't seem\n",
       "             * to be part of the websocket stream */\n",
       "            evt.data.type = \"image/png\";\n",
       "\n",
       "            /* Free the memory for the previous frames */\n",
       "            if (fig.imageObj.src) {\n",
       "                (window.URL || window.webkitURL).revokeObjectURL(\n",
       "                    fig.imageObj.src);\n",
       "            }\n",
       "\n",
       "            fig.imageObj.src = (window.URL || window.webkitURL).createObjectURL(\n",
       "                evt.data);\n",
       "            fig.updated_canvas_event();\n",
       "            fig.waiting = false;\n",
       "            return;\n",
       "        }\n",
       "        else if (typeof evt.data === 'string' && evt.data.slice(0, 21) == \"data:image/png;base64\") {\n",
       "            fig.imageObj.src = evt.data;\n",
       "            fig.updated_canvas_event();\n",
       "            fig.waiting = false;\n",
       "            return;\n",
       "        }\n",
       "\n",
       "        var msg = JSON.parse(evt.data);\n",
       "        var msg_type = msg['type'];\n",
       "\n",
       "        // Call the  \"handle_{type}\" callback, which takes\n",
       "        // the figure and JSON message as its only arguments.\n",
       "        try {\n",
       "            var callback = fig[\"handle_\" + msg_type];\n",
       "        } catch (e) {\n",
       "            console.log(\"No handler for the '\" + msg_type + \"' message type: \", msg);\n",
       "            return;\n",
       "        }\n",
       "\n",
       "        if (callback) {\n",
       "            try {\n",
       "                // console.log(\"Handling '\" + msg_type + \"' message: \", msg);\n",
       "                callback(fig, msg);\n",
       "            } catch (e) {\n",
       "                console.log(\"Exception inside the 'handler_\" + msg_type + \"' callback:\", e, e.stack, msg);\n",
       "            }\n",
       "        }\n",
       "    };\n",
       "}\n",
       "\n",
       "// from http://stackoverflow.com/questions/1114465/getting-mouse-location-in-canvas\n",
       "mpl.findpos = function(e) {\n",
       "    //this section is from http://www.quirksmode.org/js/events_properties.html\n",
       "    var targ;\n",
       "    if (!e)\n",
       "        e = window.event;\n",
       "    if (e.target)\n",
       "        targ = e.target;\n",
       "    else if (e.srcElement)\n",
       "        targ = e.srcElement;\n",
       "    if (targ.nodeType == 3) // defeat Safari bug\n",
       "        targ = targ.parentNode;\n",
       "\n",
       "    // jQuery normalizes the pageX and pageY\n",
       "    // pageX,Y are the mouse positions relative to the document\n",
       "    // offset() returns the position of the element relative to the document\n",
       "    var x = e.pageX - $(targ).offset().left;\n",
       "    var y = e.pageY - $(targ).offset().top;\n",
       "\n",
       "    return {\"x\": x, \"y\": y};\n",
       "};\n",
       "\n",
       "/*\n",
       " * return a copy of an object with only non-object keys\n",
       " * we need this to avoid circular references\n",
       " * http://stackoverflow.com/a/24161582/3208463\n",
       " */\n",
       "function simpleKeys (original) {\n",
       "  return Object.keys(original).reduce(function (obj, key) {\n",
       "    if (typeof original[key] !== 'object')\n",
       "        obj[key] = original[key]\n",
       "    return obj;\n",
       "  }, {});\n",
       "}\n",
       "\n",
       "mpl.figure.prototype.mouse_event = function(event, name) {\n",
       "    var canvas_pos = mpl.findpos(event)\n",
       "\n",
       "    if (name === 'button_press')\n",
       "    {\n",
       "        this.canvas.focus();\n",
       "        this.canvas_div.focus();\n",
       "    }\n",
       "\n",
       "    var x = canvas_pos.x * mpl.ratio;\n",
       "    var y = canvas_pos.y * mpl.ratio;\n",
       "\n",
       "    this.send_message(name, {x: x, y: y, button: event.button,\n",
       "                             step: event.step,\n",
       "                             guiEvent: simpleKeys(event)});\n",
       "\n",
       "    /* This prevents the web browser from automatically changing to\n",
       "     * the text insertion cursor when the button is pressed.  We want\n",
       "     * to control all of the cursor setting manually through the\n",
       "     * 'cursor' event from matplotlib */\n",
       "    event.preventDefault();\n",
       "    return false;\n",
       "}\n",
       "\n",
       "mpl.figure.prototype._key_event_extra = function(event, name) {\n",
       "    // Handle any extra behaviour associated with a key event\n",
       "}\n",
       "\n",
       "mpl.figure.prototype.key_event = function(event, name) {\n",
       "\n",
       "    // Prevent repeat events\n",
       "    if (name == 'key_press')\n",
       "    {\n",
       "        if (event.which === this._key)\n",
       "            return;\n",
       "        else\n",
       "            this._key = event.which;\n",
       "    }\n",
       "    if (name == 'key_release')\n",
       "        this._key = null;\n",
       "\n",
       "    var value = '';\n",
       "    if (event.ctrlKey && event.which != 17)\n",
       "        value += \"ctrl+\";\n",
       "    if (event.altKey && event.which != 18)\n",
       "        value += \"alt+\";\n",
       "    if (event.shiftKey && event.which != 16)\n",
       "        value += \"shift+\";\n",
       "\n",
       "    value += 'k';\n",
       "    value += event.which.toString();\n",
       "\n",
       "    this._key_event_extra(event, name);\n",
       "\n",
       "    this.send_message(name, {key: value,\n",
       "                             guiEvent: simpleKeys(event)});\n",
       "    return false;\n",
       "}\n",
       "\n",
       "mpl.figure.prototype.toolbar_button_onclick = function(name) {\n",
       "    if (name == 'download') {\n",
       "        this.handle_save(this, null);\n",
       "    } else {\n",
       "        this.send_message(\"toolbar_button\", {name: name});\n",
       "    }\n",
       "};\n",
       "\n",
       "mpl.figure.prototype.toolbar_button_onmouseover = function(tooltip) {\n",
       "    this.message.textContent = tooltip;\n",
       "};\n",
       "mpl.toolbar_items = [[\"Home\", \"Reset original view\", \"fa fa-home icon-home\", \"home\"], [\"Back\", \"Back to previous view\", \"fa fa-arrow-left icon-arrow-left\", \"back\"], [\"Forward\", \"Forward to next view\", \"fa fa-arrow-right icon-arrow-right\", \"forward\"], [\"\", \"\", \"\", \"\"], [\"Pan\", \"Pan axes with left mouse, zoom with right\", \"fa fa-arrows icon-move\", \"pan\"], [\"Zoom\", \"Zoom to rectangle\", \"fa fa-square-o icon-check-empty\", \"zoom\"], [\"\", \"\", \"\", \"\"], [\"Download\", \"Download plot\", \"fa fa-floppy-o icon-save\", \"download\"]];\n",
       "\n",
       "mpl.extensions = [\"eps\", \"jpeg\", \"pdf\", \"png\", \"ps\", \"raw\", \"svg\", \"tif\"];\n",
       "\n",
       "mpl.default_extension = \"png\";var comm_websocket_adapter = function(comm) {\n",
       "    // Create a \"websocket\"-like object which calls the given IPython comm\n",
       "    // object with the appropriate methods. Currently this is a non binary\n",
       "    // socket, so there is still some room for performance tuning.\n",
       "    var ws = {};\n",
       "\n",
       "    ws.close = function() {\n",
       "        comm.close()\n",
       "    };\n",
       "    ws.send = function(m) {\n",
       "        //console.log('sending', m);\n",
       "        comm.send(m);\n",
       "    };\n",
       "    // Register the callback with on_msg.\n",
       "    comm.on_msg(function(msg) {\n",
       "        //console.log('receiving', msg['content']['data'], msg);\n",
       "        // Pass the mpl event to the overridden (by mpl) onmessage function.\n",
       "        ws.onmessage(msg['content']['data'])\n",
       "    });\n",
       "    return ws;\n",
       "}\n",
       "\n",
       "mpl.mpl_figure_comm = function(comm, msg) {\n",
       "    // This is the function which gets called when the mpl process\n",
       "    // starts-up an IPython Comm through the \"matplotlib\" channel.\n",
       "\n",
       "    var id = msg.content.data.id;\n",
       "    // Get hold of the div created by the display call when the Comm\n",
       "    // socket was opened in Python.\n",
       "    var element = $(\"#\" + id);\n",
       "    var ws_proxy = comm_websocket_adapter(comm)\n",
       "\n",
       "    function ondownload(figure, format) {\n",
       "        window.open(figure.imageObj.src);\n",
       "    }\n",
       "\n",
       "    var fig = new mpl.figure(id, ws_proxy,\n",
       "                           ondownload,\n",
       "                           element.get(0));\n",
       "\n",
       "    // Call onopen now - mpl needs it, as it is assuming we've passed it a real\n",
       "    // web socket which is closed, not our websocket->open comm proxy.\n",
       "    ws_proxy.onopen();\n",
       "\n",
       "    fig.parent_element = element.get(0);\n",
       "    fig.cell_info = mpl.find_output_cell(\"<div id='\" + id + \"'></div>\");\n",
       "    if (!fig.cell_info) {\n",
       "        console.error(\"Failed to find cell for figure\", id, fig);\n",
       "        return;\n",
       "    }\n",
       "\n",
       "    var output_index = fig.cell_info[2]\n",
       "    var cell = fig.cell_info[0];\n",
       "\n",
       "};\n",
       "\n",
       "mpl.figure.prototype.handle_close = function(fig, msg) {\n",
       "    var width = fig.canvas.width/mpl.ratio\n",
       "    fig.root.unbind('remove')\n",
       "\n",
       "    // Update the output cell to use the data from the current canvas.\n",
       "    fig.push_to_output();\n",
       "    var dataURL = fig.canvas.toDataURL();\n",
       "    // Re-enable the keyboard manager in IPython - without this line, in FF,\n",
       "    // the notebook keyboard shortcuts fail.\n",
       "    IPython.keyboard_manager.enable()\n",
       "    $(fig.parent_element).html('<img src=\"' + dataURL + '\" width=\"' + width + '\">');\n",
       "    fig.close_ws(fig, msg);\n",
       "}\n",
       "\n",
       "mpl.figure.prototype.close_ws = function(fig, msg){\n",
       "    fig.send_message('closing', msg);\n",
       "    // fig.ws.close()\n",
       "}\n",
       "\n",
       "mpl.figure.prototype.push_to_output = function(remove_interactive) {\n",
       "    // Turn the data on the canvas into data in the output cell.\n",
       "    var width = this.canvas.width/mpl.ratio\n",
       "    var dataURL = this.canvas.toDataURL();\n",
       "    this.cell_info[1]['text/html'] = '<img src=\"' + dataURL + '\" width=\"' + width + '\">';\n",
       "}\n",
       "\n",
       "mpl.figure.prototype.updated_canvas_event = function() {\n",
       "    // Tell IPython that the notebook contents must change.\n",
       "    IPython.notebook.set_dirty(true);\n",
       "    this.send_message(\"ack\", {});\n",
       "    var fig = this;\n",
       "    // Wait a second, then push the new image to the DOM so\n",
       "    // that it is saved nicely (might be nice to debounce this).\n",
       "    setTimeout(function () { fig.push_to_output() }, 1000);\n",
       "}\n",
       "\n",
       "mpl.figure.prototype._init_toolbar = function() {\n",
       "    var fig = this;\n",
       "\n",
       "    var nav_element = $('<div/>');\n",
       "    nav_element.attr('style', 'width: 100%');\n",
       "    this.root.append(nav_element);\n",
       "\n",
       "    // Define a callback function for later on.\n",
       "    function toolbar_event(event) {\n",
       "        return fig.toolbar_button_onclick(event['data']);\n",
       "    }\n",
       "    function toolbar_mouse_event(event) {\n",
       "        return fig.toolbar_button_onmouseover(event['data']);\n",
       "    }\n",
       "\n",
       "    for(var toolbar_ind in mpl.toolbar_items){\n",
       "        var name = mpl.toolbar_items[toolbar_ind][0];\n",
       "        var tooltip = mpl.toolbar_items[toolbar_ind][1];\n",
       "        var image = mpl.toolbar_items[toolbar_ind][2];\n",
       "        var method_name = mpl.toolbar_items[toolbar_ind][3];\n",
       "\n",
       "        if (!name) { continue; };\n",
       "\n",
       "        var button = $('<button class=\"btn btn-default\" href=\"#\" title=\"' + name + '\"><i class=\"fa ' + image + ' fa-lg\"></i></button>');\n",
       "        button.click(method_name, toolbar_event);\n",
       "        button.mouseover(tooltip, toolbar_mouse_event);\n",
       "        nav_element.append(button);\n",
       "    }\n",
       "\n",
       "    // Add the status bar.\n",
       "    var status_bar = $('<span class=\"mpl-message\" style=\"text-align:right; float: right;\"/>');\n",
       "    nav_element.append(status_bar);\n",
       "    this.message = status_bar[0];\n",
       "\n",
       "    // Add the close button to the window.\n",
       "    var buttongrp = $('<div class=\"btn-group inline pull-right\"></div>');\n",
       "    var button = $('<button class=\"btn btn-mini btn-primary\" href=\"#\" title=\"Stop Interaction\"><i class=\"fa fa-power-off icon-remove icon-large\"></i></button>');\n",
       "    button.click(function (evt) { fig.handle_close(fig, {}); } );\n",
       "    button.mouseover('Stop Interaction', toolbar_mouse_event);\n",
       "    buttongrp.append(button);\n",
       "    var titlebar = this.root.find($('.ui-dialog-titlebar'));\n",
       "    titlebar.prepend(buttongrp);\n",
       "}\n",
       "\n",
       "mpl.figure.prototype._root_extra_style = function(el){\n",
       "    var fig = this\n",
       "    el.on(\"remove\", function(){\n",
       "\tfig.close_ws(fig, {});\n",
       "    });\n",
       "}\n",
       "\n",
       "mpl.figure.prototype._canvas_extra_style = function(el){\n",
       "    // this is important to make the div 'focusable\n",
       "    el.attr('tabindex', 0)\n",
       "    // reach out to IPython and tell the keyboard manager to turn it's self\n",
       "    // off when our div gets focus\n",
       "\n",
       "    // location in version 3\n",
       "    if (IPython.notebook.keyboard_manager) {\n",
       "        IPython.notebook.keyboard_manager.register_events(el);\n",
       "    }\n",
       "    else {\n",
       "        // location in version 2\n",
       "        IPython.keyboard_manager.register_events(el);\n",
       "    }\n",
       "\n",
       "}\n",
       "\n",
       "mpl.figure.prototype._key_event_extra = function(event, name) {\n",
       "    var manager = IPython.notebook.keyboard_manager;\n",
       "    if (!manager)\n",
       "        manager = IPython.keyboard_manager;\n",
       "\n",
       "    // Check for shift+enter\n",
       "    if (event.shiftKey && event.which == 13) {\n",
       "        this.canvas_div.blur();\n",
       "        // select the cell after this one\n",
       "        var index = IPython.notebook.find_cell_index(this.cell_info[0]);\n",
       "        IPython.notebook.select(index + 1);\n",
       "    }\n",
       "}\n",
       "\n",
       "mpl.figure.prototype.handle_save = function(fig, msg) {\n",
       "    fig.ondownload(fig, null);\n",
       "}\n",
       "\n",
       "\n",
       "mpl.find_output_cell = function(html_output) {\n",
       "    // Return the cell and output element which can be found *uniquely* in the notebook.\n",
       "    // Note - this is a bit hacky, but it is done because the \"notebook_saving.Notebook\"\n",
       "    // IPython event is triggered only after the cells have been serialised, which for\n",
       "    // our purposes (turning an active figure into a static one), is too late.\n",
       "    var cells = IPython.notebook.get_cells();\n",
       "    var ncells = cells.length;\n",
       "    for (var i=0; i<ncells; i++) {\n",
       "        var cell = cells[i];\n",
       "        if (cell.cell_type === 'code'){\n",
       "            for (var j=0; j<cell.output_area.outputs.length; j++) {\n",
       "                var data = cell.output_area.outputs[j];\n",
       "                if (data.data) {\n",
       "                    // IPython >= 3 moved mimebundle to data attribute of output\n",
       "                    data = data.data;\n",
       "                }\n",
       "                if (data['text/html'] == html_output) {\n",
       "                    return [cell, data, j];\n",
       "                }\n",
       "            }\n",
       "        }\n",
       "    }\n",
       "}\n",
       "\n",
       "// Register the function which deals with the matplotlib target/channel.\n",
       "// The kernel may be null if the page has been refreshed.\n",
       "if (IPython.notebook.kernel != null) {\n",
       "    IPython.notebook.kernel.comm_manager.register_target('matplotlib', mpl.mpl_figure_comm);\n",
       "}\n"
      ],
      "text/plain": [
       "<IPython.core.display.Javascript object>"
      ]
     },
     "metadata": {},
     "output_type": "display_data"
    },
    {
     "data": {
      "text/html": [
       "<img src=\"data:image/png;base64,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\" width=\"1000\">"
      ],
      "text/plain": [
       "<IPython.core.display.HTML object>"
      ]
     },
     "metadata": {},
     "output_type": "display_data"
    }
   ],
   "source": [
    "ax, tax, lax, lines = dual_train_plots()\n",
    "fig = ax.figure\n",
    "plt.tight_layout()"
   ]
  },
  {
   "cell_type": "code",
   "execution_count": 16,
   "metadata": {},
   "outputs": [
    {
     "name": "stdout",
     "output_type": "stream",
     "text": [
      "Number of batches: train = 282, val = 32\n"
     ]
    },
    {
     "data": {
      "application/vnd.jupyter.widget-view+json": {
       "model_id": "c1b192c72d494cb191d3c342e1fcfbcd",
       "version_major": 2,
       "version_minor": 0
      },
      "text/plain": [
       "HBox(children=(FloatProgress(value=0.0, description='Epochs', layout=Layout(flex='2'), max=400.0, style=Progre…"
      ]
     },
     "metadata": {},
     "output_type": "display_data"
    },
    {
     "name": "stdout",
     "output_type": "stream",
     "text": [
      "Number of batches: train = 282, val = 32\n"
     ]
    },
    {
     "data": {
      "application/vnd.jupyter.widget-view+json": {
       "model_id": "",
       "version_major": 2,
       "version_minor": 0
      },
      "text/plain": [
       "HBox(children=(FloatProgress(value=0.0, description='Training', layout=Layout(flex='2'), max=282.0, style=Prog…"
      ]
     },
     "metadata": {},
     "output_type": "display_data"
    },
    {
     "name": "stdout",
     "output_type": "stream",
     "text": [
      "Epoch 0: train=47.4788, val=46.444, took 7.5553 s\n"
     ]
    },
    {
     "data": {
      "application/vnd.jupyter.widget-view+json": {
       "model_id": "",
       "version_major": 2,
       "version_minor": 0
      },
      "text/plain": [
       "HBox(children=(FloatProgress(value=0.0, description='Training', layout=Layout(flex='2'), max=282.0, style=Prog…"
      ]
     },
     "metadata": {},
     "output_type": "display_data"
    },
    {
     "name": "stdout",
     "output_type": "stream",
     "text": [
      "Epoch 1: train=47.458, val=46.4375, took 7.1957 s\n"
     ]
    },
    {
     "data": {
      "application/vnd.jupyter.widget-view+json": {
       "model_id": "",
       "version_major": 2,
       "version_minor": 0
      },
      "text/plain": [
       "HBox(children=(FloatProgress(value=0.0, description='Training', layout=Layout(flex='2'), max=282.0, style=Prog…"
      ]
     },
     "metadata": {},
     "output_type": "display_data"
    },
    {
     "name": "stdout",
     "output_type": "stream",
     "text": [
      "Epoch 2: train=47.4521, val=46.4313, took 7.1955 s\n"
     ]
    },
    {
     "data": {
      "application/vnd.jupyter.widget-view+json": {
       "model_id": "",
       "version_major": 2,
       "version_minor": 0
      },
      "text/plain": [
       "HBox(children=(FloatProgress(value=0.0, description='Training', layout=Layout(flex='2'), max=282.0, style=Prog…"
      ]
     },
     "metadata": {},
     "output_type": "display_data"
    },
    {
     "name": "stdout",
     "output_type": "stream",
     "text": [
      "Epoch 3: train=47.4463, val=46.4258, took 7.207 s\n"
     ]
    },
    {
     "data": {
      "application/vnd.jupyter.widget-view+json": {
       "model_id": "",
       "version_major": 2,
       "version_minor": 0
      },
      "text/plain": [
       "HBox(children=(FloatProgress(value=0.0, description='Training', layout=Layout(flex='2'), max=282.0, style=Prog…"
      ]
     },
     "metadata": {},
     "output_type": "display_data"
    },
    {
     "name": "stdout",
     "output_type": "stream",
     "text": [
      "Epoch 4: train=47.4407, val=46.4195, took 7.2096 s\n"
     ]
    },
    {
     "data": {
      "application/vnd.jupyter.widget-view+json": {
       "model_id": "",
       "version_major": 2,
       "version_minor": 0
      },
      "text/plain": [
       "HBox(children=(FloatProgress(value=0.0, description='Training', layout=Layout(flex='2'), max=282.0, style=Prog…"
      ]
     },
     "metadata": {},
     "output_type": "display_data"
    },
    {
     "name": "stdout",
     "output_type": "stream",
     "text": [
      "Epoch 5: train=47.435, val=46.4148, took 7.2138 s\n"
     ]
    },
    {
     "data": {
      "application/vnd.jupyter.widget-view+json": {
       "model_id": "",
       "version_major": 2,
       "version_minor": 0
      },
      "text/plain": [
       "HBox(children=(FloatProgress(value=0.0, description='Training', layout=Layout(flex='2'), max=282.0, style=Prog…"
      ]
     },
     "metadata": {},
     "output_type": "display_data"
    },
    {
     "name": "stdout",
     "output_type": "stream",
     "text": [
      "Epoch 6: train=47.4296, val=46.4087, took 7.2258 s\n"
     ]
    },
    {
     "data": {
      "application/vnd.jupyter.widget-view+json": {
       "model_id": "",
       "version_major": 2,
       "version_minor": 0
      },
      "text/plain": [
       "HBox(children=(FloatProgress(value=0.0, description='Training', layout=Layout(flex='2'), max=282.0, style=Prog…"
      ]
     },
     "metadata": {},
     "output_type": "display_data"
    },
    {
     "name": "stdout",
     "output_type": "stream",
     "text": [
      "Epoch 7: train=47.4244, val=46.4044, took 7.2166 s\n"
     ]
    },
    {
     "data": {
      "application/vnd.jupyter.widget-view+json": {
       "model_id": "",
       "version_major": 2,
       "version_minor": 0
      },
      "text/plain": [
       "HBox(children=(FloatProgress(value=0.0, description='Training', layout=Layout(flex='2'), max=282.0, style=Prog…"
      ]
     },
     "metadata": {},
     "output_type": "display_data"
    },
    {
     "name": "stdout",
     "output_type": "stream",
     "text": [
      "Epoch 8: train=47.4195, val=46.3996, took 7.3065 s\n"
     ]
    },
    {
     "data": {
      "application/vnd.jupyter.widget-view+json": {
       "model_id": "",
       "version_major": 2,
       "version_minor": 0
      },
      "text/plain": [
       "HBox(children=(FloatProgress(value=0.0, description='Training', layout=Layout(flex='2'), max=282.0, style=Prog…"
      ]
     },
     "metadata": {},
     "output_type": "display_data"
    },
    {
     "name": "stdout",
     "output_type": "stream",
     "text": [
      "Epoch 9: train=47.4145, val=46.3934, took 7.378 s\n"
     ]
    },
    {
     "data": {
      "application/vnd.jupyter.widget-view+json": {
       "model_id": "",
       "version_major": 2,
       "version_minor": 0
      },
      "text/plain": [
       "HBox(children=(FloatProgress(value=0.0, description='Training', layout=Layout(flex='2'), max=282.0, style=Prog…"
      ]
     },
     "metadata": {},
     "output_type": "display_data"
    },
    {
     "name": "stdout",
     "output_type": "stream",
     "text": [
      "Epoch 10: train=47.4095, val=46.3901, took 7.3298 s\n"
     ]
    },
    {
     "data": {
      "application/vnd.jupyter.widget-view+json": {
       "model_id": "",
       "version_major": 2,
       "version_minor": 0
      },
      "text/plain": [
       "HBox(children=(FloatProgress(value=0.0, description='Training', layout=Layout(flex='2'), max=282.0, style=Prog…"
      ]
     },
     "metadata": {},
     "output_type": "display_data"
    },
    {
     "name": "stdout",
     "output_type": "stream",
     "text": [
      "Epoch 11: train=47.4045, val=46.3859, took 7.3018 s\n"
     ]
    },
    {
     "data": {
      "application/vnd.jupyter.widget-view+json": {
       "model_id": "",
       "version_major": 2,
       "version_minor": 0
      },
      "text/plain": [
       "HBox(children=(FloatProgress(value=0.0, description='Training', layout=Layout(flex='2'), max=282.0, style=Prog…"
      ]
     },
     "metadata": {},
     "output_type": "display_data"
    },
    {
     "name": "stdout",
     "output_type": "stream",
     "text": [
      "Epoch 12: train=47.3998, val=46.3809, took 7.315 s\n"
     ]
    },
    {
     "data": {
      "application/vnd.jupyter.widget-view+json": {
       "model_id": "",
       "version_major": 2,
       "version_minor": 0
      },
      "text/plain": [
       "HBox(children=(FloatProgress(value=0.0, description='Training', layout=Layout(flex='2'), max=282.0, style=Prog…"
      ]
     },
     "metadata": {},
     "output_type": "display_data"
    },
    {
     "name": "stdout",
     "output_type": "stream",
     "text": [
      "Epoch 13: train=47.3952, val=46.3769, took 7.3717 s\n"
     ]
    },
    {
     "data": {
      "application/vnd.jupyter.widget-view+json": {
       "model_id": "",
       "version_major": 2,
       "version_minor": 0
      },
      "text/plain": [
       "HBox(children=(FloatProgress(value=0.0, description='Training', layout=Layout(flex='2'), max=282.0, style=Prog…"
      ]
     },
     "metadata": {},
     "output_type": "display_data"
    },
    {
     "name": "stdout",
     "output_type": "stream",
     "text": [
      "Epoch 14: train=47.3906, val=46.372, took 7.4166 s\n"
     ]
    },
    {
     "data": {
      "application/vnd.jupyter.widget-view+json": {
       "model_id": "",
       "version_major": 2,
       "version_minor": 0
      },
      "text/plain": [
       "HBox(children=(FloatProgress(value=0.0, description='Training', layout=Layout(flex='2'), max=282.0, style=Prog…"
      ]
     },
     "metadata": {},
     "output_type": "display_data"
    },
    {
     "name": "stdout",
     "output_type": "stream",
     "text": [
      "Epoch 15: train=47.386, val=46.3675, took 7.4266 s\n"
     ]
    },
    {
     "data": {
      "application/vnd.jupyter.widget-view+json": {
       "model_id": "",
       "version_major": 2,
       "version_minor": 0
      },
      "text/plain": [
       "HBox(children=(FloatProgress(value=0.0, description='Training', layout=Layout(flex='2'), max=282.0, style=Prog…"
      ]
     },
     "metadata": {},
     "output_type": "display_data"
    },
    {
     "name": "stdout",
     "output_type": "stream",
     "text": [
      "Epoch 16: train=47.3815, val=46.3646, took 7.4239 s\n"
     ]
    },
    {
     "data": {
      "application/vnd.jupyter.widget-view+json": {
       "model_id": "",
       "version_major": 2,
       "version_minor": 0
      },
      "text/plain": [
       "HBox(children=(FloatProgress(value=0.0, description='Training', layout=Layout(flex='2'), max=282.0, style=Prog…"
      ]
     },
     "metadata": {},
     "output_type": "display_data"
    },
    {
     "name": "stdout",
     "output_type": "stream",
     "text": [
      "Epoch 17: train=47.3772, val=46.3605, took 7.4284 s\n"
     ]
    },
    {
     "data": {
      "application/vnd.jupyter.widget-view+json": {
       "model_id": "",
       "version_major": 2,
       "version_minor": 0
      },
      "text/plain": [
       "HBox(children=(FloatProgress(value=0.0, description='Training', layout=Layout(flex='2'), max=282.0, style=Prog…"
      ]
     },
     "metadata": {},
     "output_type": "display_data"
    },
    {
     "name": "stdout",
     "output_type": "stream",
     "text": [
      "Epoch 18: train=47.373, val=46.3558, took 7.4272 s\n"
     ]
    },
    {
     "data": {
      "application/vnd.jupyter.widget-view+json": {
       "model_id": "",
       "version_major": 2,
       "version_minor": 0
      },
      "text/plain": [
       "HBox(children=(FloatProgress(value=0.0, description='Training', layout=Layout(flex='2'), max=282.0, style=Prog…"
      ]
     },
     "metadata": {},
     "output_type": "display_data"
    },
    {
     "name": "stdout",
     "output_type": "stream",
     "text": [
      "Epoch 19: train=47.3687, val=46.352, took 7.4283 s\n"
     ]
    },
    {
     "data": {
      "application/vnd.jupyter.widget-view+json": {
       "model_id": "",
       "version_major": 2,
       "version_minor": 0
      },
      "text/plain": [
       "HBox(children=(FloatProgress(value=0.0, description='Training', layout=Layout(flex='2'), max=282.0, style=Prog…"
      ]
     },
     "metadata": {},
     "output_type": "display_data"
    },
    {
     "name": "stdout",
     "output_type": "stream",
     "text": [
      "Epoch 20: train=47.3642, val=46.3488, took 7.4287 s\n"
     ]
    },
    {
     "data": {
      "application/vnd.jupyter.widget-view+json": {
       "model_id": "",
       "version_major": 2,
       "version_minor": 0
      },
      "text/plain": [
       "HBox(children=(FloatProgress(value=0.0, description='Training', layout=Layout(flex='2'), max=282.0, style=Prog…"
      ]
     },
     "metadata": {},
     "output_type": "display_data"
    },
    {
     "name": "stdout",
     "output_type": "stream",
     "text": [
      "Epoch 21: train=47.3597, val=46.3431, took 7.4198 s\n"
     ]
    },
    {
     "data": {
      "application/vnd.jupyter.widget-view+json": {
       "model_id": "",
       "version_major": 2,
       "version_minor": 0
      },
      "text/plain": [
       "HBox(children=(FloatProgress(value=0.0, description='Training', layout=Layout(flex='2'), max=282.0, style=Prog…"
      ]
     },
     "metadata": {},
     "output_type": "display_data"
    },
    {
     "name": "stdout",
     "output_type": "stream",
     "text": [
      "Epoch 22: train=47.3552, val=46.3386, took 7.4444 s\n"
     ]
    },
    {
     "data": {
      "application/vnd.jupyter.widget-view+json": {
       "model_id": "",
       "version_major": 2,
       "version_minor": 0
      },
      "text/plain": [
       "HBox(children=(FloatProgress(value=0.0, description='Training', layout=Layout(flex='2'), max=282.0, style=Prog…"
      ]
     },
     "metadata": {},
     "output_type": "display_data"
    },
    {
     "name": "stdout",
     "output_type": "stream",
     "text": [
      "Epoch 23: train=47.3511, val=46.3344, took 7.3749 s\n"
     ]
    },
    {
     "data": {
      "application/vnd.jupyter.widget-view+json": {
       "model_id": "",
       "version_major": 2,
       "version_minor": 0
      },
      "text/plain": [
       "HBox(children=(FloatProgress(value=0.0, description='Training', layout=Layout(flex='2'), max=282.0, style=Prog…"
      ]
     },
     "metadata": {},
     "output_type": "display_data"
    },
    {
     "name": "stdout",
     "output_type": "stream",
     "text": [
      "Epoch 24: train=47.3471, val=46.3294, took 7.3252 s\n"
     ]
    },
    {
     "data": {
      "application/vnd.jupyter.widget-view+json": {
       "model_id": "",
       "version_major": 2,
       "version_minor": 0
      },
      "text/plain": [
       "HBox(children=(FloatProgress(value=0.0, description='Training', layout=Layout(flex='2'), max=282.0, style=Prog…"
      ]
     },
     "metadata": {},
     "output_type": "display_data"
    },
    {
     "name": "stdout",
     "output_type": "stream",
     "text": [
      "Epoch 25: train=47.343, val=46.3262, took 7.321 s\n"
     ]
    },
    {
     "data": {
      "application/vnd.jupyter.widget-view+json": {
       "model_id": "",
       "version_major": 2,
       "version_minor": 0
      },
      "text/plain": [
       "HBox(children=(FloatProgress(value=0.0, description='Training', layout=Layout(flex='2'), max=282.0, style=Prog…"
      ]
     },
     "metadata": {},
     "output_type": "display_data"
    },
    {
     "name": "stdout",
     "output_type": "stream",
     "text": [
      "Epoch 26: train=47.3391, val=46.3227, took 7.3238 s\n"
     ]
    },
    {
     "data": {
      "application/vnd.jupyter.widget-view+json": {
       "model_id": "",
       "version_major": 2,
       "version_minor": 0
      },
      "text/plain": [
       "HBox(children=(FloatProgress(value=0.0, description='Training', layout=Layout(flex='2'), max=282.0, style=Prog…"
      ]
     },
     "metadata": {},
     "output_type": "display_data"
    },
    {
     "name": "stdout",
     "output_type": "stream",
     "text": [
      "Epoch 27: train=47.3352, val=46.3189, took 7.3327 s\n"
     ]
    },
    {
     "data": {
      "application/vnd.jupyter.widget-view+json": {
       "model_id": "",
       "version_major": 2,
       "version_minor": 0
      },
      "text/plain": [
       "HBox(children=(FloatProgress(value=0.0, description='Training', layout=Layout(flex='2'), max=282.0, style=Prog…"
      ]
     },
     "metadata": {},
     "output_type": "display_data"
    },
    {
     "name": "stdout",
     "output_type": "stream",
     "text": [
      "Epoch 28: train=47.3314, val=46.3165, took 7.3325 s\n"
     ]
    },
    {
     "data": {
      "application/vnd.jupyter.widget-view+json": {
       "model_id": "",
       "version_major": 2,
       "version_minor": 0
      },
      "text/plain": [
       "HBox(children=(FloatProgress(value=0.0, description='Training', layout=Layout(flex='2'), max=282.0, style=Prog…"
      ]
     },
     "metadata": {},
     "output_type": "display_data"
    },
    {
     "name": "stdout",
     "output_type": "stream",
     "text": [
      "Epoch 29: train=47.3274, val=46.3118, took 7.3894 s\n"
     ]
    },
    {
     "data": {
      "application/vnd.jupyter.widget-view+json": {
       "model_id": "",
       "version_major": 2,
       "version_minor": 0
      },
      "text/plain": [
       "HBox(children=(FloatProgress(value=0.0, description='Training', layout=Layout(flex='2'), max=282.0, style=Prog…"
      ]
     },
     "metadata": {},
     "output_type": "display_data"
    },
    {
     "name": "stdout",
     "output_type": "stream",
     "text": [
      "Epoch 30: train=47.3238, val=46.3079, took 7.4521 s\n"
     ]
    },
    {
     "data": {
      "application/vnd.jupyter.widget-view+json": {
       "model_id": "",
       "version_major": 2,
       "version_minor": 0
      },
      "text/plain": [
       "HBox(children=(FloatProgress(value=0.0, description='Training', layout=Layout(flex='2'), max=282.0, style=Prog…"
      ]
     },
     "metadata": {},
     "output_type": "display_data"
    },
    {
     "name": "stdout",
     "output_type": "stream",
     "text": [
      "Epoch 31: train=47.32, val=46.3052, took 7.4103 s\n"
     ]
    },
    {
     "data": {
      "application/vnd.jupyter.widget-view+json": {
       "model_id": "",
       "version_major": 2,
       "version_minor": 0
      },
      "text/plain": [
       "HBox(children=(FloatProgress(value=0.0, description='Training', layout=Layout(flex='2'), max=282.0, style=Prog…"
      ]
     },
     "metadata": {},
     "output_type": "display_data"
    },
    {
     "name": "stdout",
     "output_type": "stream",
     "text": [
      "Epoch 32: train=47.3164, val=46.2999, took 7.33 s\n"
     ]
    },
    {
     "data": {
      "application/vnd.jupyter.widget-view+json": {
       "model_id": "",
       "version_major": 2,
       "version_minor": 0
      },
      "text/plain": [
       "HBox(children=(FloatProgress(value=0.0, description='Training', layout=Layout(flex='2'), max=282.0, style=Prog…"
      ]
     },
     "metadata": {},
     "output_type": "display_data"
    },
    {
     "name": "stdout",
     "output_type": "stream",
     "text": [
      "Epoch 33: train=47.3127, val=46.2964, took 7.3361 s\n"
     ]
    },
    {
     "data": {
      "application/vnd.jupyter.widget-view+json": {
       "model_id": "",
       "version_major": 2,
       "version_minor": 0
      },
      "text/plain": [
       "HBox(children=(FloatProgress(value=0.0, description='Training', layout=Layout(flex='2'), max=282.0, style=Prog…"
      ]
     },
     "metadata": {},
     "output_type": "display_data"
    },
    {
     "name": "stdout",
     "output_type": "stream",
     "text": [
      "Epoch 34: train=47.3092, val=46.2937, took 7.3533 s\n"
     ]
    },
    {
     "data": {
      "application/vnd.jupyter.widget-view+json": {
       "model_id": "",
       "version_major": 2,
       "version_minor": 0
      },
      "text/plain": [
       "HBox(children=(FloatProgress(value=0.0, description='Training', layout=Layout(flex='2'), max=282.0, style=Prog…"
      ]
     },
     "metadata": {},
     "output_type": "display_data"
    },
    {
     "name": "stdout",
     "output_type": "stream",
     "text": [
      "Epoch 35: train=47.3055, val=46.2889, took 7.3519 s\n"
     ]
    },
    {
     "data": {
      "application/vnd.jupyter.widget-view+json": {
       "model_id": "",
       "version_major": 2,
       "version_minor": 0
      },
      "text/plain": [
       "HBox(children=(FloatProgress(value=0.0, description='Training', layout=Layout(flex='2'), max=282.0, style=Prog…"
      ]
     },
     "metadata": {},
     "output_type": "display_data"
    },
    {
     "name": "stdout",
     "output_type": "stream",
     "text": [
      "Epoch 36: train=47.3021, val=46.2857, took 7.3428 s\n"
     ]
    },
    {
     "data": {
      "application/vnd.jupyter.widget-view+json": {
       "model_id": "",
       "version_major": 2,
       "version_minor": 0
      },
      "text/plain": [
       "HBox(children=(FloatProgress(value=0.0, description='Training', layout=Layout(flex='2'), max=282.0, style=Prog…"
      ]
     },
     "metadata": {},
     "output_type": "display_data"
    },
    {
     "name": "stdout",
     "output_type": "stream",
     "text": [
      "Epoch 37: train=47.2983, val=46.2831, took 7.3867 s\n"
     ]
    },
    {
     "data": {
      "application/vnd.jupyter.widget-view+json": {
       "model_id": "",
       "version_major": 2,
       "version_minor": 0
      },
      "text/plain": [
       "HBox(children=(FloatProgress(value=0.0, description='Training', layout=Layout(flex='2'), max=282.0, style=Prog…"
      ]
     },
     "metadata": {},
     "output_type": "display_data"
    },
    {
     "name": "stdout",
     "output_type": "stream",
     "text": [
      "Epoch 38: train=47.2948, val=46.2793, took 7.4067 s\n"
     ]
    },
    {
     "data": {
      "application/vnd.jupyter.widget-view+json": {
       "model_id": "",
       "version_major": 2,
       "version_minor": 0
      },
      "text/plain": [
       "HBox(children=(FloatProgress(value=0.0, description='Training', layout=Layout(flex='2'), max=282.0, style=Prog…"
      ]
     },
     "metadata": {},
     "output_type": "display_data"
    },
    {
     "name": "stdout",
     "output_type": "stream",
     "text": [
      "Epoch 39: train=47.2915, val=46.2764, took 7.4436 s\n"
     ]
    },
    {
     "data": {
      "application/vnd.jupyter.widget-view+json": {
       "model_id": "",
       "version_major": 2,
       "version_minor": 0
      },
      "text/plain": [
       "HBox(children=(FloatProgress(value=0.0, description='Training', layout=Layout(flex='2'), max=282.0, style=Prog…"
      ]
     },
     "metadata": {},
     "output_type": "display_data"
    },
    {
     "name": "stdout",
     "output_type": "stream",
     "text": [
      "Epoch 40: train=47.2881, val=46.2725, took 7.3988 s\n"
     ]
    },
    {
     "data": {
      "application/vnd.jupyter.widget-view+json": {
       "model_id": "",
       "version_major": 2,
       "version_minor": 0
      },
      "text/plain": [
       "HBox(children=(FloatProgress(value=0.0, description='Training', layout=Layout(flex='2'), max=282.0, style=Prog…"
      ]
     },
     "metadata": {},
     "output_type": "display_data"
    },
    {
     "name": "stdout",
     "output_type": "stream",
     "text": [
      "Epoch 41: train=47.285, val=46.2699, took 7.4496 s\n"
     ]
    },
    {
     "data": {
      "application/vnd.jupyter.widget-view+json": {
       "model_id": "",
       "version_major": 2,
       "version_minor": 0
      },
      "text/plain": [
       "HBox(children=(FloatProgress(value=0.0, description='Training', layout=Layout(flex='2'), max=282.0, style=Prog…"
      ]
     },
     "metadata": {},
     "output_type": "display_data"
    },
    {
     "name": "stdout",
     "output_type": "stream",
     "text": [
      "Epoch 42: train=47.2817, val=46.2665, took 7.4328 s\n"
     ]
    },
    {
     "data": {
      "application/vnd.jupyter.widget-view+json": {
       "model_id": "",
       "version_major": 2,
       "version_minor": 0
      },
      "text/plain": [
       "HBox(children=(FloatProgress(value=0.0, description='Training', layout=Layout(flex='2'), max=282.0, style=Prog…"
      ]
     },
     "metadata": {},
     "output_type": "display_data"
    },
    {
     "name": "stdout",
     "output_type": "stream",
     "text": [
      "Epoch 43: train=47.2783, val=46.2625, took 7.494 s\n"
     ]
    },
    {
     "data": {
      "application/vnd.jupyter.widget-view+json": {
       "model_id": "",
       "version_major": 2,
       "version_minor": 0
      },
      "text/plain": [
       "HBox(children=(FloatProgress(value=0.0, description='Training', layout=Layout(flex='2'), max=282.0, style=Prog…"
      ]
     },
     "metadata": {},
     "output_type": "display_data"
    },
    {
     "name": "stdout",
     "output_type": "stream",
     "text": [
      "Epoch 44: train=47.2752, val=46.2571, took 7.3879 s\n"
     ]
    },
    {
     "data": {
      "application/vnd.jupyter.widget-view+json": {
       "model_id": "",
       "version_major": 2,
       "version_minor": 0
      },
      "text/plain": [
       "HBox(children=(FloatProgress(value=0.0, description='Training', layout=Layout(flex='2'), max=282.0, style=Prog…"
      ]
     },
     "metadata": {},
     "output_type": "display_data"
    },
    {
     "name": "stdout",
     "output_type": "stream",
     "text": [
      "Epoch 45: train=47.2719, val=46.2544, took 7.3984 s\n"
     ]
    },
    {
     "data": {
      "application/vnd.jupyter.widget-view+json": {
       "model_id": "",
       "version_major": 2,
       "version_minor": 0
      },
      "text/plain": [
       "HBox(children=(FloatProgress(value=0.0, description='Training', layout=Layout(flex='2'), max=282.0, style=Prog…"
      ]
     },
     "metadata": {},
     "output_type": "display_data"
    },
    {
     "name": "stdout",
     "output_type": "stream",
     "text": [
      "Epoch 46: train=47.2688, val=46.2491, took 7.4294 s\n"
     ]
    },
    {
     "data": {
      "application/vnd.jupyter.widget-view+json": {
       "model_id": "",
       "version_major": 2,
       "version_minor": 0
      },
      "text/plain": [
       "HBox(children=(FloatProgress(value=0.0, description='Training', layout=Layout(flex='2'), max=282.0, style=Prog…"
      ]
     },
     "metadata": {},
     "output_type": "display_data"
    },
    {
     "name": "stdout",
     "output_type": "stream",
     "text": [
      "Epoch 47: train=47.2657, val=46.2477, took 7.4004 s\n"
     ]
    },
    {
     "data": {
      "application/vnd.jupyter.widget-view+json": {
       "model_id": "",
       "version_major": 2,
       "version_minor": 0
      },
      "text/plain": [
       "HBox(children=(FloatProgress(value=0.0, description='Training', layout=Layout(flex='2'), max=282.0, style=Prog…"
      ]
     },
     "metadata": {},
     "output_type": "display_data"
    },
    {
     "name": "stdout",
     "output_type": "stream",
     "text": [
      "Epoch 48: train=47.2626, val=46.2451, took 7.4347 s\n"
     ]
    },
    {
     "data": {
      "application/vnd.jupyter.widget-view+json": {
       "model_id": "",
       "version_major": 2,
       "version_minor": 0
      },
      "text/plain": [
       "HBox(children=(FloatProgress(value=0.0, description='Training', layout=Layout(flex='2'), max=282.0, style=Prog…"
      ]
     },
     "metadata": {},
     "output_type": "display_data"
    },
    {
     "name": "stdout",
     "output_type": "stream",
     "text": [
      "Epoch 49: train=47.2596, val=46.2423, took 7.3387 s\n"
     ]
    },
    {
     "data": {
      "application/vnd.jupyter.widget-view+json": {
       "model_id": "",
       "version_major": 2,
       "version_minor": 0
      },
      "text/plain": [
       "HBox(children=(FloatProgress(value=0.0, description='Training', layout=Layout(flex='2'), max=282.0, style=Prog…"
      ]
     },
     "metadata": {},
     "output_type": "display_data"
    },
    {
     "name": "stdout",
     "output_type": "stream",
     "text": [
      "Epoch 50: train=47.2564, val=46.2386, took 7.4036 s\n"
     ]
    },
    {
     "data": {
      "application/vnd.jupyter.widget-view+json": {
       "model_id": "",
       "version_major": 2,
       "version_minor": 0
      },
      "text/plain": [
       "HBox(children=(FloatProgress(value=0.0, description='Training', layout=Layout(flex='2'), max=282.0, style=Prog…"
      ]
     },
     "metadata": {},
     "output_type": "display_data"
    },
    {
     "name": "stdout",
     "output_type": "stream",
     "text": [
      "Epoch 51: train=47.2533, val=46.2357, took 7.4307 s\n"
     ]
    },
    {
     "data": {
      "application/vnd.jupyter.widget-view+json": {
       "model_id": "",
       "version_major": 2,
       "version_minor": 0
      },
      "text/plain": [
       "HBox(children=(FloatProgress(value=0.0, description='Training', layout=Layout(flex='2'), max=282.0, style=Prog…"
      ]
     },
     "metadata": {},
     "output_type": "display_data"
    },
    {
     "name": "stdout",
     "output_type": "stream",
     "text": [
      "Epoch 52: train=47.2504, val=46.2327, took 7.4309 s\n"
     ]
    },
    {
     "data": {
      "application/vnd.jupyter.widget-view+json": {
       "model_id": "",
       "version_major": 2,
       "version_minor": 0
      },
      "text/plain": [
       "HBox(children=(FloatProgress(value=0.0, description='Training', layout=Layout(flex='2'), max=282.0, style=Prog…"
      ]
     },
     "metadata": {},
     "output_type": "display_data"
    },
    {
     "name": "stdout",
     "output_type": "stream",
     "text": [
      "Epoch 53: train=47.2474, val=46.23, took 7.429 s\n"
     ]
    },
    {
     "data": {
      "application/vnd.jupyter.widget-view+json": {
       "model_id": "",
       "version_major": 2,
       "version_minor": 0
      },
      "text/plain": [
       "HBox(children=(FloatProgress(value=0.0, description='Training', layout=Layout(flex='2'), max=282.0, style=Prog…"
      ]
     },
     "metadata": {},
     "output_type": "display_data"
    },
    {
     "name": "stdout",
     "output_type": "stream",
     "text": [
      "Epoch 54: train=47.2444, val=46.2268, took 7.3924 s\n"
     ]
    },
    {
     "data": {
      "application/vnd.jupyter.widget-view+json": {
       "model_id": "",
       "version_major": 2,
       "version_minor": 0
      },
      "text/plain": [
       "HBox(children=(FloatProgress(value=0.0, description='Training', layout=Layout(flex='2'), max=282.0, style=Prog…"
      ]
     },
     "metadata": {},
     "output_type": "display_data"
    },
    {
     "name": "stdout",
     "output_type": "stream",
     "text": [
      "Epoch 55: train=47.2416, val=46.2226, took 7.3268 s\n"
     ]
    },
    {
     "data": {
      "application/vnd.jupyter.widget-view+json": {
       "model_id": "",
       "version_major": 2,
       "version_minor": 0
      },
      "text/plain": [
       "HBox(children=(FloatProgress(value=0.0, description='Training', layout=Layout(flex='2'), max=282.0, style=Prog…"
      ]
     },
     "metadata": {},
     "output_type": "display_data"
    },
    {
     "name": "stdout",
     "output_type": "stream",
     "text": [
      "Epoch 56: train=47.2388, val=46.2221, took 7.3252 s\n"
     ]
    },
    {
     "data": {
      "application/vnd.jupyter.widget-view+json": {
       "model_id": "",
       "version_major": 2,
       "version_minor": 0
      },
      "text/plain": [
       "HBox(children=(FloatProgress(value=0.0, description='Training', layout=Layout(flex='2'), max=282.0, style=Prog…"
      ]
     },
     "metadata": {},
     "output_type": "display_data"
    },
    {
     "name": "stdout",
     "output_type": "stream",
     "text": [
      "Epoch 57: train=47.2364, val=46.2188, took 7.3192 s\n"
     ]
    },
    {
     "data": {
      "application/vnd.jupyter.widget-view+json": {
       "model_id": "",
       "version_major": 2,
       "version_minor": 0
      },
      "text/plain": [
       "HBox(children=(FloatProgress(value=0.0, description='Training', layout=Layout(flex='2'), max=282.0, style=Prog…"
      ]
     },
     "metadata": {},
     "output_type": "display_data"
    },
    {
     "name": "stdout",
     "output_type": "stream",
     "text": [
      "Epoch 58: train=47.2332, val=46.2179, took 7.3331 s\n"
     ]
    },
    {
     "data": {
      "application/vnd.jupyter.widget-view+json": {
       "model_id": "",
       "version_major": 2,
       "version_minor": 0
      },
      "text/plain": [
       "HBox(children=(FloatProgress(value=0.0, description='Training', layout=Layout(flex='2'), max=282.0, style=Prog…"
      ]
     },
     "metadata": {},
     "output_type": "display_data"
    },
    {
     "name": "stdout",
     "output_type": "stream",
     "text": [
      "Epoch 59: train=47.2306, val=46.2161, took 7.3296 s\n"
     ]
    },
    {
     "data": {
      "application/vnd.jupyter.widget-view+json": {
       "model_id": "",
       "version_major": 2,
       "version_minor": 0
      },
      "text/plain": [
       "HBox(children=(FloatProgress(value=0.0, description='Training', layout=Layout(flex='2'), max=282.0, style=Prog…"
      ]
     },
     "metadata": {},
     "output_type": "display_data"
    },
    {
     "name": "stdout",
     "output_type": "stream",
     "text": [
      "Epoch 60: train=47.2278, val=46.2096, took 7.3404 s\n"
     ]
    },
    {
     "data": {
      "application/vnd.jupyter.widget-view+json": {
       "model_id": "",
       "version_major": 2,
       "version_minor": 0
      },
      "text/plain": [
       "HBox(children=(FloatProgress(value=0.0, description='Training', layout=Layout(flex='2'), max=282.0, style=Prog…"
      ]
     },
     "metadata": {},
     "output_type": "display_data"
    },
    {
     "name": "stdout",
     "output_type": "stream",
     "text": [
      "Epoch 61: train=47.2249, val=46.2081, took 7.5055 s\n"
     ]
    },
    {
     "data": {
      "application/vnd.jupyter.widget-view+json": {
       "model_id": "",
       "version_major": 2,
       "version_minor": 0
      },
      "text/plain": [
       "HBox(children=(FloatProgress(value=0.0, description='Training', layout=Layout(flex='2'), max=282.0, style=Prog…"
      ]
     },
     "metadata": {},
     "output_type": "display_data"
    },
    {
     "name": "stdout",
     "output_type": "stream",
     "text": [
      "Epoch 62: train=47.2222, val=46.2038, took 7.4183 s\n"
     ]
    },
    {
     "data": {
      "application/vnd.jupyter.widget-view+json": {
       "model_id": "",
       "version_major": 2,
       "version_minor": 0
      },
      "text/plain": [
       "HBox(children=(FloatProgress(value=0.0, description='Training', layout=Layout(flex='2'), max=282.0, style=Prog…"
      ]
     },
     "metadata": {},
     "output_type": "display_data"
    },
    {
     "name": "stdout",
     "output_type": "stream",
     "text": [
      "Epoch 63: train=47.2193, val=46.201, took 7.4446 s\n"
     ]
    },
    {
     "data": {
      "application/vnd.jupyter.widget-view+json": {
       "model_id": "",
       "version_major": 2,
       "version_minor": 0
      },
      "text/plain": [
       "HBox(children=(FloatProgress(value=0.0, description='Training', layout=Layout(flex='2'), max=282.0, style=Prog…"
      ]
     },
     "metadata": {},
     "output_type": "display_data"
    },
    {
     "name": "stdout",
     "output_type": "stream",
     "text": [
      "Epoch 64: train=47.2165, val=46.1974, took 7.4415 s\n"
     ]
    },
    {
     "data": {
      "application/vnd.jupyter.widget-view+json": {
       "model_id": "",
       "version_major": 2,
       "version_minor": 0
      },
      "text/plain": [
       "HBox(children=(FloatProgress(value=0.0, description='Training', layout=Layout(flex='2'), max=282.0, style=Prog…"
      ]
     },
     "metadata": {},
     "output_type": "display_data"
    },
    {
     "name": "stdout",
     "output_type": "stream",
     "text": [
      "Epoch 65: train=47.2137, val=46.1956, took 7.3711 s\n"
     ]
    },
    {
     "data": {
      "application/vnd.jupyter.widget-view+json": {
       "model_id": "",
       "version_major": 2,
       "version_minor": 0
      },
      "text/plain": [
       "HBox(children=(FloatProgress(value=0.0, description='Training', layout=Layout(flex='2'), max=282.0, style=Prog…"
      ]
     },
     "metadata": {},
     "output_type": "display_data"
    },
    {
     "name": "stdout",
     "output_type": "stream",
     "text": [
      "Epoch 66: train=47.2111, val=46.1937, took 7.4426 s\n"
     ]
    },
    {
     "data": {
      "application/vnd.jupyter.widget-view+json": {
       "model_id": "",
       "version_major": 2,
       "version_minor": 0
      },
      "text/plain": [
       "HBox(children=(FloatProgress(value=0.0, description='Training', layout=Layout(flex='2'), max=282.0, style=Prog…"
      ]
     },
     "metadata": {},
     "output_type": "display_data"
    },
    {
     "name": "stdout",
     "output_type": "stream",
     "text": [
      "Epoch 67: train=47.2085, val=46.1908, took 7.446 s\n"
     ]
    },
    {
     "data": {
      "application/vnd.jupyter.widget-view+json": {
       "model_id": "",
       "version_major": 2,
       "version_minor": 0
      },
      "text/plain": [
       "HBox(children=(FloatProgress(value=0.0, description='Training', layout=Layout(flex='2'), max=282.0, style=Prog…"
      ]
     },
     "metadata": {},
     "output_type": "display_data"
    },
    {
     "name": "stdout",
     "output_type": "stream",
     "text": [
      "Epoch 68: train=47.2059, val=46.1877, took 7.435 s\n"
     ]
    },
    {
     "data": {
      "application/vnd.jupyter.widget-view+json": {
       "model_id": "",
       "version_major": 2,
       "version_minor": 0
      },
      "text/plain": [
       "HBox(children=(FloatProgress(value=0.0, description='Training', layout=Layout(flex='2'), max=282.0, style=Prog…"
      ]
     },
     "metadata": {},
     "output_type": "display_data"
    },
    {
     "name": "stdout",
     "output_type": "stream",
     "text": [
      "Epoch 69: train=47.2034, val=46.1851, took 7.4435 s\n"
     ]
    },
    {
     "data": {
      "application/vnd.jupyter.widget-view+json": {
       "model_id": "",
       "version_major": 2,
       "version_minor": 0
      },
      "text/plain": [
       "HBox(children=(FloatProgress(value=0.0, description='Training', layout=Layout(flex='2'), max=282.0, style=Prog…"
      ]
     },
     "metadata": {},
     "output_type": "display_data"
    },
    {
     "name": "stdout",
     "output_type": "stream",
     "text": [
      "Epoch 70: train=47.201, val=46.1839, took 7.4426 s\n"
     ]
    },
    {
     "data": {
      "application/vnd.jupyter.widget-view+json": {
       "model_id": "",
       "version_major": 2,
       "version_minor": 0
      },
      "text/plain": [
       "HBox(children=(FloatProgress(value=0.0, description='Training', layout=Layout(flex='2'), max=282.0, style=Prog…"
      ]
     },
     "metadata": {},
     "output_type": "display_data"
    },
    {
     "name": "stdout",
     "output_type": "stream",
     "text": [
      "Epoch 71: train=47.1985, val=46.1809, took 7.4078 s\n"
     ]
    },
    {
     "data": {
      "application/vnd.jupyter.widget-view+json": {
       "model_id": "",
       "version_major": 2,
       "version_minor": 0
      },
      "text/plain": [
       "HBox(children=(FloatProgress(value=0.0, description='Training', layout=Layout(flex='2'), max=282.0, style=Prog…"
      ]
     },
     "metadata": {},
     "output_type": "display_data"
    },
    {
     "name": "stdout",
     "output_type": "stream",
     "text": [
      "Epoch 72: train=47.1961, val=46.1778, took 7.357 s\n"
     ]
    },
    {
     "data": {
      "application/vnd.jupyter.widget-view+json": {
       "model_id": "",
       "version_major": 2,
       "version_minor": 0
      },
      "text/plain": [
       "HBox(children=(FloatProgress(value=0.0, description='Training', layout=Layout(flex='2'), max=282.0, style=Prog…"
      ]
     },
     "metadata": {},
     "output_type": "display_data"
    },
    {
     "name": "stdout",
     "output_type": "stream",
     "text": [
      "Epoch 73: train=47.1937, val=46.1754, took 7.3867 s\n"
     ]
    },
    {
     "data": {
      "application/vnd.jupyter.widget-view+json": {
       "model_id": "",
       "version_major": 2,
       "version_minor": 0
      },
      "text/plain": [
       "HBox(children=(FloatProgress(value=0.0, description='Training', layout=Layout(flex='2'), max=282.0, style=Prog…"
      ]
     },
     "metadata": {},
     "output_type": "display_data"
    },
    {
     "name": "stdout",
     "output_type": "stream",
     "text": [
      "Epoch 74: train=47.1912, val=46.1723, took 7.4211 s\n"
     ]
    },
    {
     "data": {
      "application/vnd.jupyter.widget-view+json": {
       "model_id": "",
       "version_major": 2,
       "version_minor": 0
      },
      "text/plain": [
       "HBox(children=(FloatProgress(value=0.0, description='Training', layout=Layout(flex='2'), max=282.0, style=Prog…"
      ]
     },
     "metadata": {},
     "output_type": "display_data"
    },
    {
     "name": "stdout",
     "output_type": "stream",
     "text": [
      "Epoch 75: train=47.1887, val=46.1686, took 7.3994 s\n"
     ]
    },
    {
     "data": {
      "application/vnd.jupyter.widget-view+json": {
       "model_id": "",
       "version_major": 2,
       "version_minor": 0
      },
      "text/plain": [
       "HBox(children=(FloatProgress(value=0.0, description='Training', layout=Layout(flex='2'), max=282.0, style=Prog…"
      ]
     },
     "metadata": {},
     "output_type": "display_data"
    },
    {
     "name": "stdout",
     "output_type": "stream",
     "text": [
      "Epoch 76: train=47.1862, val=46.1667, took 7.4537 s\n"
     ]
    },
    {
     "data": {
      "application/vnd.jupyter.widget-view+json": {
       "model_id": "",
       "version_major": 2,
       "version_minor": 0
      },
      "text/plain": [
       "HBox(children=(FloatProgress(value=0.0, description='Training', layout=Layout(flex='2'), max=282.0, style=Prog…"
      ]
     },
     "metadata": {},
     "output_type": "display_data"
    },
    {
     "name": "stdout",
     "output_type": "stream",
     "text": [
      "Epoch 77: train=47.1837, val=46.1633, took 7.3858 s\n"
     ]
    },
    {
     "data": {
      "application/vnd.jupyter.widget-view+json": {
       "model_id": "",
       "version_major": 2,
       "version_minor": 0
      },
      "text/plain": [
       "HBox(children=(FloatProgress(value=0.0, description='Training', layout=Layout(flex='2'), max=282.0, style=Prog…"
      ]
     },
     "metadata": {},
     "output_type": "display_data"
    },
    {
     "name": "stdout",
     "output_type": "stream",
     "text": [
      "Epoch 78: train=47.1814, val=46.1618, took 7.4175 s\n"
     ]
    },
    {
     "data": {
      "application/vnd.jupyter.widget-view+json": {
       "model_id": "",
       "version_major": 2,
       "version_minor": 0
      },
      "text/plain": [
       "HBox(children=(FloatProgress(value=0.0, description='Training', layout=Layout(flex='2'), max=282.0, style=Prog…"
      ]
     },
     "metadata": {},
     "output_type": "display_data"
    },
    {
     "name": "stdout",
     "output_type": "stream",
     "text": [
      "Epoch 79: train=47.1792, val=46.1572, took 7.4481 s\n"
     ]
    },
    {
     "data": {
      "application/vnd.jupyter.widget-view+json": {
       "model_id": "",
       "version_major": 2,
       "version_minor": 0
      },
      "text/plain": [
       "HBox(children=(FloatProgress(value=0.0, description='Training', layout=Layout(flex='2'), max=282.0, style=Prog…"
      ]
     },
     "metadata": {},
     "output_type": "display_data"
    },
    {
     "name": "stdout",
     "output_type": "stream",
     "text": [
      "Epoch 80: train=47.1769, val=46.155, took 7.3358 s\n"
     ]
    },
    {
     "data": {
      "application/vnd.jupyter.widget-view+json": {
       "model_id": "",
       "version_major": 2,
       "version_minor": 0
      },
      "text/plain": [
       "HBox(children=(FloatProgress(value=0.0, description='Training', layout=Layout(flex='2'), max=282.0, style=Prog…"
      ]
     },
     "metadata": {},
     "output_type": "display_data"
    },
    {
     "name": "stdout",
     "output_type": "stream",
     "text": [
      "Epoch 81: train=47.1745, val=46.1538, took 7.3505 s\n"
     ]
    },
    {
     "data": {
      "application/vnd.jupyter.widget-view+json": {
       "model_id": "",
       "version_major": 2,
       "version_minor": 0
      },
      "text/plain": [
       "HBox(children=(FloatProgress(value=0.0, description='Training', layout=Layout(flex='2'), max=282.0, style=Prog…"
      ]
     },
     "metadata": {},
     "output_type": "display_data"
    },
    {
     "name": "stdout",
     "output_type": "stream",
     "text": [
      "Epoch 82: train=47.1721, val=46.151, took 7.4297 s\n"
     ]
    },
    {
     "data": {
      "application/vnd.jupyter.widget-view+json": {
       "model_id": "",
       "version_major": 2,
       "version_minor": 0
      },
      "text/plain": [
       "HBox(children=(FloatProgress(value=0.0, description='Training', layout=Layout(flex='2'), max=282.0, style=Prog…"
      ]
     },
     "metadata": {},
     "output_type": "display_data"
    },
    {
     "name": "stdout",
     "output_type": "stream",
     "text": [
      "Epoch 83: train=47.1698, val=46.1494, took 7.4389 s\n"
     ]
    },
    {
     "data": {
      "application/vnd.jupyter.widget-view+json": {
       "model_id": "",
       "version_major": 2,
       "version_minor": 0
      },
      "text/plain": [
       "HBox(children=(FloatProgress(value=0.0, description='Training', layout=Layout(flex='2'), max=282.0, style=Prog…"
      ]
     },
     "metadata": {},
     "output_type": "display_data"
    },
    {
     "name": "stdout",
     "output_type": "stream",
     "text": [
      "Epoch 84: train=47.1673, val=46.1473, took 7.314 s\n"
     ]
    },
    {
     "data": {
      "application/vnd.jupyter.widget-view+json": {
       "model_id": "",
       "version_major": 2,
       "version_minor": 0
      },
      "text/plain": [
       "HBox(children=(FloatProgress(value=0.0, description='Training', layout=Layout(flex='2'), max=282.0, style=Prog…"
      ]
     },
     "metadata": {},
     "output_type": "display_data"
    },
    {
     "name": "stdout",
     "output_type": "stream",
     "text": [
      "Epoch 85: train=47.1651, val=46.1458, took 7.4344 s\n"
     ]
    },
    {
     "data": {
      "application/vnd.jupyter.widget-view+json": {
       "model_id": "",
       "version_major": 2,
       "version_minor": 0
      },
      "text/plain": [
       "HBox(children=(FloatProgress(value=0.0, description='Training', layout=Layout(flex='2'), max=282.0, style=Prog…"
      ]
     },
     "metadata": {},
     "output_type": "display_data"
    },
    {
     "name": "stdout",
     "output_type": "stream",
     "text": [
      "Epoch 86: train=47.1626, val=46.1417, took 7.4486 s\n"
     ]
    },
    {
     "data": {
      "application/vnd.jupyter.widget-view+json": {
       "model_id": "",
       "version_major": 2,
       "version_minor": 0
      },
      "text/plain": [
       "HBox(children=(FloatProgress(value=0.0, description='Training', layout=Layout(flex='2'), max=282.0, style=Prog…"
      ]
     },
     "metadata": {},
     "output_type": "display_data"
    },
    {
     "name": "stdout",
     "output_type": "stream",
     "text": [
      "Epoch 87: train=47.1605, val=46.1399, took 7.425 s\n"
     ]
    },
    {
     "data": {
      "application/vnd.jupyter.widget-view+json": {
       "model_id": "",
       "version_major": 2,
       "version_minor": 0
      },
      "text/plain": [
       "HBox(children=(FloatProgress(value=0.0, description='Training', layout=Layout(flex='2'), max=282.0, style=Prog…"
      ]
     },
     "metadata": {},
     "output_type": "display_data"
    },
    {
     "name": "stdout",
     "output_type": "stream",
     "text": [
      "Epoch 88: train=47.1583, val=46.1365, took 7.3837 s\n"
     ]
    },
    {
     "data": {
      "application/vnd.jupyter.widget-view+json": {
       "model_id": "",
       "version_major": 2,
       "version_minor": 0
      },
      "text/plain": [
       "HBox(children=(FloatProgress(value=0.0, description='Training', layout=Layout(flex='2'), max=282.0, style=Prog…"
      ]
     },
     "metadata": {},
     "output_type": "display_data"
    },
    {
     "name": "stdout",
     "output_type": "stream",
     "text": [
      "Epoch 89: train=47.1561, val=46.1338, took 7.4258 s\n"
     ]
    },
    {
     "data": {
      "application/vnd.jupyter.widget-view+json": {
       "model_id": "",
       "version_major": 2,
       "version_minor": 0
      },
      "text/plain": [
       "HBox(children=(FloatProgress(value=0.0, description='Training', layout=Layout(flex='2'), max=282.0, style=Prog…"
      ]
     },
     "metadata": {},
     "output_type": "display_data"
    },
    {
     "name": "stdout",
     "output_type": "stream",
     "text": [
      "Epoch 90: train=47.154, val=46.1307, took 7.4277 s\n"
     ]
    },
    {
     "data": {
      "application/vnd.jupyter.widget-view+json": {
       "model_id": "",
       "version_major": 2,
       "version_minor": 0
      },
      "text/plain": [
       "HBox(children=(FloatProgress(value=0.0, description='Training', layout=Layout(flex='2'), max=282.0, style=Prog…"
      ]
     },
     "metadata": {},
     "output_type": "display_data"
    },
    {
     "name": "stdout",
     "output_type": "stream",
     "text": [
      "Epoch 91: train=47.1517, val=46.128, took 7.4122 s\n"
     ]
    },
    {
     "data": {
      "application/vnd.jupyter.widget-view+json": {
       "model_id": "",
       "version_major": 2,
       "version_minor": 0
      },
      "text/plain": [
       "HBox(children=(FloatProgress(value=0.0, description='Training', layout=Layout(flex='2'), max=282.0, style=Prog…"
      ]
     },
     "metadata": {},
     "output_type": "display_data"
    },
    {
     "name": "stdout",
     "output_type": "stream",
     "text": [
      "Epoch 92: train=47.1496, val=46.1264, took 7.4107 s\n"
     ]
    },
    {
     "data": {
      "application/vnd.jupyter.widget-view+json": {
       "model_id": "",
       "version_major": 2,
       "version_minor": 0
      },
      "text/plain": [
       "HBox(children=(FloatProgress(value=0.0, description='Training', layout=Layout(flex='2'), max=282.0, style=Prog…"
      ]
     },
     "metadata": {},
     "output_type": "display_data"
    },
    {
     "name": "stdout",
     "output_type": "stream",
     "text": [
      "Epoch 93: train=47.1477, val=46.1245, took 7.4208 s\n"
     ]
    },
    {
     "data": {
      "application/vnd.jupyter.widget-view+json": {
       "model_id": "",
       "version_major": 2,
       "version_minor": 0
      },
      "text/plain": [
       "HBox(children=(FloatProgress(value=0.0, description='Training', layout=Layout(flex='2'), max=282.0, style=Prog…"
      ]
     },
     "metadata": {},
     "output_type": "display_data"
    },
    {
     "name": "stdout",
     "output_type": "stream",
     "text": [
      "Epoch 94: train=47.1456, val=46.122, took 7.3685 s\n"
     ]
    },
    {
     "data": {
      "application/vnd.jupyter.widget-view+json": {
       "model_id": "",
       "version_major": 2,
       "version_minor": 0
      },
      "text/plain": [
       "HBox(children=(FloatProgress(value=0.0, description='Training', layout=Layout(flex='2'), max=282.0, style=Prog…"
      ]
     },
     "metadata": {},
     "output_type": "display_data"
    },
    {
     "name": "stdout",
     "output_type": "stream",
     "text": [
      "Epoch 95: train=47.1435, val=46.1206, took 7.4049 s\n"
     ]
    },
    {
     "data": {
      "application/vnd.jupyter.widget-view+json": {
       "model_id": "",
       "version_major": 2,
       "version_minor": 0
      },
      "text/plain": [
       "HBox(children=(FloatProgress(value=0.0, description='Training', layout=Layout(flex='2'), max=282.0, style=Prog…"
      ]
     },
     "metadata": {},
     "output_type": "display_data"
    },
    {
     "name": "stdout",
     "output_type": "stream",
     "text": [
      "Epoch 96: train=47.1416, val=46.1188, took 7.4399 s\n"
     ]
    },
    {
     "data": {
      "application/vnd.jupyter.widget-view+json": {
       "model_id": "",
       "version_major": 2,
       "version_minor": 0
      },
      "text/plain": [
       "HBox(children=(FloatProgress(value=0.0, description='Training', layout=Layout(flex='2'), max=282.0, style=Prog…"
      ]
     },
     "metadata": {},
     "output_type": "display_data"
    },
    {
     "name": "stdout",
     "output_type": "stream",
     "text": [
      "Epoch 97: train=47.1395, val=46.1168, took 7.4096 s\n"
     ]
    },
    {
     "data": {
      "application/vnd.jupyter.widget-view+json": {
       "model_id": "",
       "version_major": 2,
       "version_minor": 0
      },
      "text/plain": [
       "HBox(children=(FloatProgress(value=0.0, description='Training', layout=Layout(flex='2'), max=282.0, style=Prog…"
      ]
     },
     "metadata": {},
     "output_type": "display_data"
    },
    {
     "name": "stdout",
     "output_type": "stream",
     "text": [
      "Epoch 98: train=47.1372, val=46.1147, took 7.4451 s\n"
     ]
    },
    {
     "data": {
      "application/vnd.jupyter.widget-view+json": {
       "model_id": "",
       "version_major": 2,
       "version_minor": 0
      },
      "text/plain": [
       "HBox(children=(FloatProgress(value=0.0, description='Training', layout=Layout(flex='2'), max=282.0, style=Prog…"
      ]
     },
     "metadata": {},
     "output_type": "display_data"
    },
    {
     "name": "stdout",
     "output_type": "stream",
     "text": [
      "Epoch 99: train=47.1354, val=46.1116, took 7.4684 s\n"
     ]
    },
    {
     "data": {
      "application/vnd.jupyter.widget-view+json": {
       "model_id": "",
       "version_major": 2,
       "version_minor": 0
      },
      "text/plain": [
       "HBox(children=(FloatProgress(value=0.0, description='Training', layout=Layout(flex='2'), max=282.0, style=Prog…"
      ]
     },
     "metadata": {},
     "output_type": "display_data"
    },
    {
     "name": "stdout",
     "output_type": "stream",
     "text": [
      "Epoch 100: train=47.1336, val=46.1105, took 7.3597 s\n"
     ]
    },
    {
     "data": {
      "application/vnd.jupyter.widget-view+json": {
       "model_id": "",
       "version_major": 2,
       "version_minor": 0
      },
      "text/plain": [
       "HBox(children=(FloatProgress(value=0.0, description='Training', layout=Layout(flex='2'), max=282.0, style=Prog…"
      ]
     },
     "metadata": {},
     "output_type": "display_data"
    },
    {
     "name": "stdout",
     "output_type": "stream",
     "text": [
      "Epoch 101: train=47.1314, val=46.1088, took 7.3645 s\n"
     ]
    },
    {
     "data": {
      "application/vnd.jupyter.widget-view+json": {
       "model_id": "",
       "version_major": 2,
       "version_minor": 0
      },
      "text/plain": [
       "HBox(children=(FloatProgress(value=0.0, description='Training', layout=Layout(flex='2'), max=282.0, style=Prog…"
      ]
     },
     "metadata": {},
     "output_type": "display_data"
    },
    {
     "name": "stdout",
     "output_type": "stream",
     "text": [
      "Epoch 102: train=47.1293, val=46.1061, took 7.4609 s\n"
     ]
    },
    {
     "data": {
      "application/vnd.jupyter.widget-view+json": {
       "model_id": "",
       "version_major": 2,
       "version_minor": 0
      },
      "text/plain": [
       "HBox(children=(FloatProgress(value=0.0, description='Training', layout=Layout(flex='2'), max=282.0, style=Prog…"
      ]
     },
     "metadata": {},
     "output_type": "display_data"
    },
    {
     "name": "stdout",
     "output_type": "stream",
     "text": [
      "Epoch 103: train=47.1272, val=46.1037, took 7.4534 s\n"
     ]
    },
    {
     "data": {
      "application/vnd.jupyter.widget-view+json": {
       "model_id": "",
       "version_major": 2,
       "version_minor": 0
      },
      "text/plain": [
       "HBox(children=(FloatProgress(value=0.0, description='Training', layout=Layout(flex='2'), max=282.0, style=Prog…"
      ]
     },
     "metadata": {},
     "output_type": "display_data"
    },
    {
     "name": "stdout",
     "output_type": "stream",
     "text": [
      "Epoch 104: train=47.1254, val=46.1039, took 7.3833 s\n"
     ]
    },
    {
     "data": {
      "application/vnd.jupyter.widget-view+json": {
       "model_id": "",
       "version_major": 2,
       "version_minor": 0
      },
      "text/plain": [
       "HBox(children=(FloatProgress(value=0.0, description='Training', layout=Layout(flex='2'), max=282.0, style=Prog…"
      ]
     },
     "metadata": {},
     "output_type": "display_data"
    },
    {
     "name": "stdout",
     "output_type": "stream",
     "text": [
      "Epoch 105: train=47.1236, val=46.1023, took 7.4694 s\n"
     ]
    },
    {
     "data": {
      "application/vnd.jupyter.widget-view+json": {
       "model_id": "",
       "version_major": 2,
       "version_minor": 0
      },
      "text/plain": [
       "HBox(children=(FloatProgress(value=0.0, description='Training', layout=Layout(flex='2'), max=282.0, style=Prog…"
      ]
     },
     "metadata": {},
     "output_type": "display_data"
    },
    {
     "name": "stdout",
     "output_type": "stream",
     "text": [
      "Epoch 106: train=47.1217, val=46.1005, took 7.437 s\n"
     ]
    },
    {
     "data": {
      "application/vnd.jupyter.widget-view+json": {
       "model_id": "",
       "version_major": 2,
       "version_minor": 0
      },
      "text/plain": [
       "HBox(children=(FloatProgress(value=0.0, description='Training', layout=Layout(flex='2'), max=282.0, style=Prog…"
      ]
     },
     "metadata": {},
     "output_type": "display_data"
    },
    {
     "name": "stdout",
     "output_type": "stream",
     "text": [
      "Epoch 107: train=47.12, val=46.0986, took 7.4545 s\n"
     ]
    },
    {
     "data": {
      "application/vnd.jupyter.widget-view+json": {
       "model_id": "",
       "version_major": 2,
       "version_minor": 0
      },
      "text/plain": [
       "HBox(children=(FloatProgress(value=0.0, description='Training', layout=Layout(flex='2'), max=282.0, style=Prog…"
      ]
     },
     "metadata": {},
     "output_type": "display_data"
    },
    {
     "name": "stdout",
     "output_type": "stream",
     "text": [
      "Epoch 108: train=47.1179, val=46.0975, took 7.4624 s\n"
     ]
    },
    {
     "data": {
      "application/vnd.jupyter.widget-view+json": {
       "model_id": "",
       "version_major": 2,
       "version_minor": 0
      },
      "text/plain": [
       "HBox(children=(FloatProgress(value=0.0, description='Training', layout=Layout(flex='2'), max=282.0, style=Prog…"
      ]
     },
     "metadata": {},
     "output_type": "display_data"
    },
    {
     "name": "stdout",
     "output_type": "stream",
     "text": [
      "Epoch 109: train=47.1159, val=46.0948, took 7.4209 s\n"
     ]
    },
    {
     "data": {
      "application/vnd.jupyter.widget-view+json": {
       "model_id": "",
       "version_major": 2,
       "version_minor": 0
      },
      "text/plain": [
       "HBox(children=(FloatProgress(value=0.0, description='Training', layout=Layout(flex='2'), max=282.0, style=Prog…"
      ]
     },
     "metadata": {},
     "output_type": "display_data"
    },
    {
     "name": "stdout",
     "output_type": "stream",
     "text": [
      "Epoch 110: train=47.1141, val=46.0928, took 7.4666 s\n"
     ]
    },
    {
     "data": {
      "application/vnd.jupyter.widget-view+json": {
       "model_id": "",
       "version_major": 2,
       "version_minor": 0
      },
      "text/plain": [
       "HBox(children=(FloatProgress(value=0.0, description='Training', layout=Layout(flex='2'), max=282.0, style=Prog…"
      ]
     },
     "metadata": {},
     "output_type": "display_data"
    },
    {
     "name": "stdout",
     "output_type": "stream",
     "text": [
      "Epoch 111: train=47.1121, val=46.092, took 7.4269 s\n"
     ]
    },
    {
     "data": {
      "application/vnd.jupyter.widget-view+json": {
       "model_id": "",
       "version_major": 2,
       "version_minor": 0
      },
      "text/plain": [
       "HBox(children=(FloatProgress(value=0.0, description='Training', layout=Layout(flex='2'), max=282.0, style=Prog…"
      ]
     },
     "metadata": {},
     "output_type": "display_data"
    },
    {
     "name": "stdout",
     "output_type": "stream",
     "text": [
      "Epoch 112: train=47.1103, val=46.0896, took 7.4344 s\n"
     ]
    },
    {
     "data": {
      "application/vnd.jupyter.widget-view+json": {
       "model_id": "",
       "version_major": 2,
       "version_minor": 0
      },
      "text/plain": [
       "HBox(children=(FloatProgress(value=0.0, description='Training', layout=Layout(flex='2'), max=282.0, style=Prog…"
      ]
     },
     "metadata": {},
     "output_type": "display_data"
    },
    {
     "name": "stdout",
     "output_type": "stream",
     "text": [
      "Epoch 113: train=47.1085, val=46.0888, took 7.4356 s\n"
     ]
    },
    {
     "data": {
      "application/vnd.jupyter.widget-view+json": {
       "model_id": "",
       "version_major": 2,
       "version_minor": 0
      },
      "text/plain": [
       "HBox(children=(FloatProgress(value=0.0, description='Training', layout=Layout(flex='2'), max=282.0, style=Prog…"
      ]
     },
     "metadata": {},
     "output_type": "display_data"
    },
    {
     "name": "stdout",
     "output_type": "stream",
     "text": [
      "Epoch 114: train=47.1067, val=46.0867, took 7.4373 s\n"
     ]
    },
    {
     "data": {
      "application/vnd.jupyter.widget-view+json": {
       "model_id": "",
       "version_major": 2,
       "version_minor": 0
      },
      "text/plain": [
       "HBox(children=(FloatProgress(value=0.0, description='Training', layout=Layout(flex='2'), max=282.0, style=Prog…"
      ]
     },
     "metadata": {},
     "output_type": "display_data"
    },
    {
     "name": "stdout",
     "output_type": "stream",
     "text": [
      "Epoch 115: train=47.1047, val=46.0832, took 7.4663 s\n"
     ]
    },
    {
     "data": {
      "application/vnd.jupyter.widget-view+json": {
       "model_id": "",
       "version_major": 2,
       "version_minor": 0
      },
      "text/plain": [
       "HBox(children=(FloatProgress(value=0.0, description='Training', layout=Layout(flex='2'), max=282.0, style=Prog…"
      ]
     },
     "metadata": {},
     "output_type": "display_data"
    },
    {
     "name": "stdout",
     "output_type": "stream",
     "text": [
      "Epoch 116: train=47.1026, val=46.0817, took 7.4644 s\n"
     ]
    },
    {
     "data": {
      "application/vnd.jupyter.widget-view+json": {
       "model_id": "",
       "version_major": 2,
       "version_minor": 0
      },
      "text/plain": [
       "HBox(children=(FloatProgress(value=0.0, description='Training', layout=Layout(flex='2'), max=282.0, style=Prog…"
      ]
     },
     "metadata": {},
     "output_type": "display_data"
    },
    {
     "name": "stdout",
     "output_type": "stream",
     "text": [
      "Epoch 117: train=47.1009, val=46.081, took 7.4781 s\n"
     ]
    },
    {
     "data": {
      "application/vnd.jupyter.widget-view+json": {
       "model_id": "",
       "version_major": 2,
       "version_minor": 0
      },
      "text/plain": [
       "HBox(children=(FloatProgress(value=0.0, description='Training', layout=Layout(flex='2'), max=282.0, style=Prog…"
      ]
     },
     "metadata": {},
     "output_type": "display_data"
    },
    {
     "name": "stdout",
     "output_type": "stream",
     "text": [
      "Epoch 118: train=47.0988, val=46.0779, took 7.4427 s\n"
     ]
    },
    {
     "data": {
      "application/vnd.jupyter.widget-view+json": {
       "model_id": "",
       "version_major": 2,
       "version_minor": 0
      },
      "text/plain": [
       "HBox(children=(FloatProgress(value=0.0, description='Training', layout=Layout(flex='2'), max=282.0, style=Prog…"
      ]
     },
     "metadata": {},
     "output_type": "display_data"
    },
    {
     "name": "stdout",
     "output_type": "stream",
     "text": [
      "Epoch 119: train=47.0972, val=46.0761, took 7.4416 s\n"
     ]
    },
    {
     "data": {
      "application/vnd.jupyter.widget-view+json": {
       "model_id": "",
       "version_major": 2,
       "version_minor": 0
      },
      "text/plain": [
       "HBox(children=(FloatProgress(value=0.0, description='Training', layout=Layout(flex='2'), max=282.0, style=Prog…"
      ]
     },
     "metadata": {},
     "output_type": "display_data"
    },
    {
     "name": "stdout",
     "output_type": "stream",
     "text": [
      "Epoch 120: train=47.0952, val=46.0736, took 7.4506 s\n"
     ]
    },
    {
     "data": {
      "application/vnd.jupyter.widget-view+json": {
       "model_id": "",
       "version_major": 2,
       "version_minor": 0
      },
      "text/plain": [
       "HBox(children=(FloatProgress(value=0.0, description='Training', layout=Layout(flex='2'), max=282.0, style=Prog…"
      ]
     },
     "metadata": {},
     "output_type": "display_data"
    },
    {
     "name": "stdout",
     "output_type": "stream",
     "text": [
      "Epoch 121: train=47.0934, val=46.0715, took 7.4214 s\n"
     ]
    },
    {
     "data": {
      "application/vnd.jupyter.widget-view+json": {
       "model_id": "",
       "version_major": 2,
       "version_minor": 0
      },
      "text/plain": [
       "HBox(children=(FloatProgress(value=0.0, description='Training', layout=Layout(flex='2'), max=282.0, style=Prog…"
      ]
     },
     "metadata": {},
     "output_type": "display_data"
    },
    {
     "name": "stdout",
     "output_type": "stream",
     "text": [
      "Epoch 122: train=47.0916, val=46.07, took 7.3774 s\n"
     ]
    },
    {
     "data": {
      "application/vnd.jupyter.widget-view+json": {
       "model_id": "",
       "version_major": 2,
       "version_minor": 0
      },
      "text/plain": [
       "HBox(children=(FloatProgress(value=0.0, description='Training', layout=Layout(flex='2'), max=282.0, style=Prog…"
      ]
     },
     "metadata": {},
     "output_type": "display_data"
    },
    {
     "name": "stdout",
     "output_type": "stream",
     "text": [
      "Epoch 123: train=47.09, val=46.0682, took 7.4548 s\n"
     ]
    },
    {
     "data": {
      "application/vnd.jupyter.widget-view+json": {
       "model_id": "",
       "version_major": 2,
       "version_minor": 0
      },
      "text/plain": [
       "HBox(children=(FloatProgress(value=0.0, description='Training', layout=Layout(flex='2'), max=282.0, style=Prog…"
      ]
     },
     "metadata": {},
     "output_type": "display_data"
    },
    {
     "name": "stdout",
     "output_type": "stream",
     "text": [
      "Epoch 124: train=47.0881, val=46.0653, took 7.4437 s\n"
     ]
    },
    {
     "data": {
      "application/vnd.jupyter.widget-view+json": {
       "model_id": "",
       "version_major": 2,
       "version_minor": 0
      },
      "text/plain": [
       "HBox(children=(FloatProgress(value=0.0, description='Training', layout=Layout(flex='2'), max=282.0, style=Prog…"
      ]
     },
     "metadata": {},
     "output_type": "display_data"
    },
    {
     "name": "stdout",
     "output_type": "stream",
     "text": [
      "Epoch 125: train=47.0862, val=46.0645, took 7.4537 s\n"
     ]
    },
    {
     "data": {
      "application/vnd.jupyter.widget-view+json": {
       "model_id": "",
       "version_major": 2,
       "version_minor": 0
      },
      "text/plain": [
       "HBox(children=(FloatProgress(value=0.0, description='Training', layout=Layout(flex='2'), max=282.0, style=Prog…"
      ]
     },
     "metadata": {},
     "output_type": "display_data"
    },
    {
     "name": "stdout",
     "output_type": "stream",
     "text": [
      "Epoch 126: train=47.0845, val=46.0618, took 7.4577 s\n"
     ]
    },
    {
     "data": {
      "application/vnd.jupyter.widget-view+json": {
       "model_id": "",
       "version_major": 2,
       "version_minor": 0
      },
      "text/plain": [
       "HBox(children=(FloatProgress(value=0.0, description='Training', layout=Layout(flex='2'), max=282.0, style=Prog…"
      ]
     },
     "metadata": {},
     "output_type": "display_data"
    },
    {
     "name": "stdout",
     "output_type": "stream",
     "text": [
      "Epoch 127: train=47.0828, val=46.0606, took 7.4196 s\n"
     ]
    },
    {
     "data": {
      "application/vnd.jupyter.widget-view+json": {
       "model_id": "",
       "version_major": 2,
       "version_minor": 0
      },
      "text/plain": [
       "HBox(children=(FloatProgress(value=0.0, description='Training', layout=Layout(flex='2'), max=282.0, style=Prog…"
      ]
     },
     "metadata": {},
     "output_type": "display_data"
    },
    {
     "name": "stdout",
     "output_type": "stream",
     "text": [
      "Epoch 128: train=47.081, val=46.0593, took 7.4681 s\n"
     ]
    },
    {
     "data": {
      "application/vnd.jupyter.widget-view+json": {
       "model_id": "",
       "version_major": 2,
       "version_minor": 0
      },
      "text/plain": [
       "HBox(children=(FloatProgress(value=0.0, description='Training', layout=Layout(flex='2'), max=282.0, style=Prog…"
      ]
     },
     "metadata": {},
     "output_type": "display_data"
    },
    {
     "name": "stdout",
     "output_type": "stream",
     "text": [
      "Epoch 129: train=47.0794, val=46.0577, took 7.4412 s\n"
     ]
    },
    {
     "data": {
      "application/vnd.jupyter.widget-view+json": {
       "model_id": "",
       "version_major": 2,
       "version_minor": 0
      },
      "text/plain": [
       "HBox(children=(FloatProgress(value=0.0, description='Training', layout=Layout(flex='2'), max=282.0, style=Prog…"
      ]
     },
     "metadata": {},
     "output_type": "display_data"
    },
    {
     "name": "stdout",
     "output_type": "stream",
     "text": [
      "Epoch 130: train=47.0777, val=46.0559, took 7.4421 s\n"
     ]
    },
    {
     "data": {
      "application/vnd.jupyter.widget-view+json": {
       "model_id": "",
       "version_major": 2,
       "version_minor": 0
      },
      "text/plain": [
       "HBox(children=(FloatProgress(value=0.0, description='Training', layout=Layout(flex='2'), max=282.0, style=Prog…"
      ]
     },
     "metadata": {},
     "output_type": "display_data"
    },
    {
     "name": "stdout",
     "output_type": "stream",
     "text": [
      "Epoch 131: train=47.0759, val=46.0542, took 7.4169 s\n"
     ]
    },
    {
     "data": {
      "application/vnd.jupyter.widget-view+json": {
       "model_id": "",
       "version_major": 2,
       "version_minor": 0
      },
      "text/plain": [
       "HBox(children=(FloatProgress(value=0.0, description='Training', layout=Layout(flex='2'), max=282.0, style=Prog…"
      ]
     },
     "metadata": {},
     "output_type": "display_data"
    },
    {
     "name": "stdout",
     "output_type": "stream",
     "text": [
      "Epoch 132: train=47.074, val=46.0526, took 7.4075 s\n"
     ]
    },
    {
     "data": {
      "application/vnd.jupyter.widget-view+json": {
       "model_id": "",
       "version_major": 2,
       "version_minor": 0
      },
      "text/plain": [
       "HBox(children=(FloatProgress(value=0.0, description='Training', layout=Layout(flex='2'), max=282.0, style=Prog…"
      ]
     },
     "metadata": {},
     "output_type": "display_data"
    },
    {
     "name": "stdout",
     "output_type": "stream",
     "text": [
      "Epoch 133: train=47.0723, val=46.0506, took 7.4099 s\n"
     ]
    },
    {
     "data": {
      "application/vnd.jupyter.widget-view+json": {
       "model_id": "",
       "version_major": 2,
       "version_minor": 0
      },
      "text/plain": [
       "HBox(children=(FloatProgress(value=0.0, description='Training', layout=Layout(flex='2'), max=282.0, style=Prog…"
      ]
     },
     "metadata": {},
     "output_type": "display_data"
    },
    {
     "name": "stdout",
     "output_type": "stream",
     "text": [
      "Epoch 134: train=47.0705, val=46.048, took 7.3874 s\n"
     ]
    },
    {
     "data": {
      "application/vnd.jupyter.widget-view+json": {
       "model_id": "",
       "version_major": 2,
       "version_minor": 0
      },
      "text/plain": [
       "HBox(children=(FloatProgress(value=0.0, description='Training', layout=Layout(flex='2'), max=282.0, style=Prog…"
      ]
     },
     "metadata": {},
     "output_type": "display_data"
    },
    {
     "name": "stdout",
     "output_type": "stream",
     "text": [
      "Epoch 135: train=47.0687, val=46.0474, took 7.3952 s\n"
     ]
    },
    {
     "data": {
      "application/vnd.jupyter.widget-view+json": {
       "model_id": "",
       "version_major": 2,
       "version_minor": 0
      },
      "text/plain": [
       "HBox(children=(FloatProgress(value=0.0, description='Training', layout=Layout(flex='2'), max=282.0, style=Prog…"
      ]
     },
     "metadata": {},
     "output_type": "display_data"
    },
    {
     "name": "stdout",
     "output_type": "stream",
     "text": [
      "Epoch 136: train=47.0671, val=46.0457, took 7.4369 s\n"
     ]
    },
    {
     "data": {
      "application/vnd.jupyter.widget-view+json": {
       "model_id": "",
       "version_major": 2,
       "version_minor": 0
      },
      "text/plain": [
       "HBox(children=(FloatProgress(value=0.0, description='Training', layout=Layout(flex='2'), max=282.0, style=Prog…"
      ]
     },
     "metadata": {},
     "output_type": "display_data"
    },
    {
     "name": "stdout",
     "output_type": "stream",
     "text": [
      "Epoch 137: train=47.0653, val=46.0446, took 7.4206 s\n"
     ]
    },
    {
     "data": {
      "application/vnd.jupyter.widget-view+json": {
       "model_id": "",
       "version_major": 2,
       "version_minor": 0
      },
      "text/plain": [
       "HBox(children=(FloatProgress(value=0.0, description='Training', layout=Layout(flex='2'), max=282.0, style=Prog…"
      ]
     },
     "metadata": {},
     "output_type": "display_data"
    },
    {
     "name": "stdout",
     "output_type": "stream",
     "text": [
      "Epoch 138: train=47.0635, val=46.0431, took 7.4089 s\n"
     ]
    },
    {
     "data": {
      "application/vnd.jupyter.widget-view+json": {
       "model_id": "",
       "version_major": 2,
       "version_minor": 0
      },
      "text/plain": [
       "HBox(children=(FloatProgress(value=0.0, description='Training', layout=Layout(flex='2'), max=282.0, style=Prog…"
      ]
     },
     "metadata": {},
     "output_type": "display_data"
    },
    {
     "name": "stdout",
     "output_type": "stream",
     "text": [
      "Epoch 139: train=47.0617, val=46.0418, took 7.4279 s\n"
     ]
    },
    {
     "data": {
      "application/vnd.jupyter.widget-view+json": {
       "model_id": "",
       "version_major": 2,
       "version_minor": 0
      },
      "text/plain": [
       "HBox(children=(FloatProgress(value=0.0, description='Training', layout=Layout(flex='2'), max=282.0, style=Prog…"
      ]
     },
     "metadata": {},
     "output_type": "display_data"
    },
    {
     "name": "stdout",
     "output_type": "stream",
     "text": [
      "Epoch 140: train=47.0599, val=46.0415, took 7.3403 s\n"
     ]
    },
    {
     "data": {
      "application/vnd.jupyter.widget-view+json": {
       "model_id": "",
       "version_major": 2,
       "version_minor": 0
      },
      "text/plain": [
       "HBox(children=(FloatProgress(value=0.0, description='Training', layout=Layout(flex='2'), max=282.0, style=Prog…"
      ]
     },
     "metadata": {},
     "output_type": "display_data"
    },
    {
     "name": "stdout",
     "output_type": "stream",
     "text": [
      "Epoch 141: train=47.0582, val=46.0395, took 7.4306 s\n"
     ]
    },
    {
     "data": {
      "application/vnd.jupyter.widget-view+json": {
       "model_id": "",
       "version_major": 2,
       "version_minor": 0
      },
      "text/plain": [
       "HBox(children=(FloatProgress(value=0.0, description='Training', layout=Layout(flex='2'), max=282.0, style=Prog…"
      ]
     },
     "metadata": {},
     "output_type": "display_data"
    },
    {
     "name": "stdout",
     "output_type": "stream",
     "text": [
      "Epoch 142: train=47.0566, val=46.039, took 7.3837 s\n"
     ]
    },
    {
     "data": {
      "application/vnd.jupyter.widget-view+json": {
       "model_id": "",
       "version_major": 2,
       "version_minor": 0
      },
      "text/plain": [
       "HBox(children=(FloatProgress(value=0.0, description='Training', layout=Layout(flex='2'), max=282.0, style=Prog…"
      ]
     },
     "metadata": {},
     "output_type": "display_data"
    },
    {
     "name": "stdout",
     "output_type": "stream",
     "text": [
      "Epoch 143: train=47.0547, val=46.039, took 7.3635 s\n"
     ]
    },
    {
     "data": {
      "application/vnd.jupyter.widget-view+json": {
       "model_id": "",
       "version_major": 2,
       "version_minor": 0
      },
      "text/plain": [
       "HBox(children=(FloatProgress(value=0.0, description='Training', layout=Layout(flex='2'), max=282.0, style=Prog…"
      ]
     },
     "metadata": {},
     "output_type": "display_data"
    },
    {
     "name": "stdout",
     "output_type": "stream",
     "text": [
      "Epoch 144: train=47.0529, val=46.0369, took 7.4129 s\n"
     ]
    },
    {
     "data": {
      "application/vnd.jupyter.widget-view+json": {
       "model_id": "",
       "version_major": 2,
       "version_minor": 0
      },
      "text/plain": [
       "HBox(children=(FloatProgress(value=0.0, description='Training', layout=Layout(flex='2'), max=282.0, style=Prog…"
      ]
     },
     "metadata": {},
     "output_type": "display_data"
    },
    {
     "name": "stdout",
     "output_type": "stream",
     "text": [
      "Epoch 145: train=47.0513, val=46.0366, took 7.4523 s\n"
     ]
    },
    {
     "data": {
      "application/vnd.jupyter.widget-view+json": {
       "model_id": "",
       "version_major": 2,
       "version_minor": 0
      },
      "text/plain": [
       "HBox(children=(FloatProgress(value=0.0, description='Training', layout=Layout(flex='2'), max=282.0, style=Prog…"
      ]
     },
     "metadata": {},
     "output_type": "display_data"
    },
    {
     "name": "stdout",
     "output_type": "stream",
     "text": [
      "Epoch 146: train=47.0497, val=46.0361, took 7.4339 s\n"
     ]
    },
    {
     "data": {
      "application/vnd.jupyter.widget-view+json": {
       "model_id": "",
       "version_major": 2,
       "version_minor": 0
      },
      "text/plain": [
       "HBox(children=(FloatProgress(value=0.0, description='Training', layout=Layout(flex='2'), max=282.0, style=Prog…"
      ]
     },
     "metadata": {},
     "output_type": "display_data"
    },
    {
     "name": "stdout",
     "output_type": "stream",
     "text": [
      "Epoch 147: train=47.0483, val=46.034, took 7.4212 s\n"
     ]
    },
    {
     "data": {
      "application/vnd.jupyter.widget-view+json": {
       "model_id": "",
       "version_major": 2,
       "version_minor": 0
      },
      "text/plain": [
       "HBox(children=(FloatProgress(value=0.0, description='Training', layout=Layout(flex='2'), max=282.0, style=Prog…"
      ]
     },
     "metadata": {},
     "output_type": "display_data"
    },
    {
     "name": "stdout",
     "output_type": "stream",
     "text": [
      "Epoch 148: train=47.0464, val=46.0327, took 7.4552 s\n"
     ]
    },
    {
     "data": {
      "application/vnd.jupyter.widget-view+json": {
       "model_id": "",
       "version_major": 2,
       "version_minor": 0
      },
      "text/plain": [
       "HBox(children=(FloatProgress(value=0.0, description='Training', layout=Layout(flex='2'), max=282.0, style=Prog…"
      ]
     },
     "metadata": {},
     "output_type": "display_data"
    },
    {
     "name": "stdout",
     "output_type": "stream",
     "text": [
      "Epoch 149: train=47.0451, val=46.0305, took 7.4599 s\n"
     ]
    },
    {
     "data": {
      "application/vnd.jupyter.widget-view+json": {
       "model_id": "",
       "version_major": 2,
       "version_minor": 0
      },
      "text/plain": [
       "HBox(children=(FloatProgress(value=0.0, description='Training', layout=Layout(flex='2'), max=282.0, style=Prog…"
      ]
     },
     "metadata": {},
     "output_type": "display_data"
    },
    {
     "name": "stdout",
     "output_type": "stream",
     "text": [
      "Epoch 150: train=47.0431, val=46.0297, took 7.4091 s\n"
     ]
    },
    {
     "data": {
      "application/vnd.jupyter.widget-view+json": {
       "model_id": "",
       "version_major": 2,
       "version_minor": 0
      },
      "text/plain": [
       "HBox(children=(FloatProgress(value=0.0, description='Training', layout=Layout(flex='2'), max=282.0, style=Prog…"
      ]
     },
     "metadata": {},
     "output_type": "display_data"
    },
    {
     "name": "stdout",
     "output_type": "stream",
     "text": [
      "Epoch 151: train=47.0418, val=46.0269, took 7.4223 s\n"
     ]
    },
    {
     "data": {
      "application/vnd.jupyter.widget-view+json": {
       "model_id": "",
       "version_major": 2,
       "version_minor": 0
      },
      "text/plain": [
       "HBox(children=(FloatProgress(value=0.0, description='Training', layout=Layout(flex='2'), max=282.0, style=Prog…"
      ]
     },
     "metadata": {},
     "output_type": "display_data"
    },
    {
     "name": "stdout",
     "output_type": "stream",
     "text": [
      "Epoch 152: train=47.04, val=46.0258, took 7.4196 s\n"
     ]
    },
    {
     "data": {
      "application/vnd.jupyter.widget-view+json": {
       "model_id": "",
       "version_major": 2,
       "version_minor": 0
      },
      "text/plain": [
       "HBox(children=(FloatProgress(value=0.0, description='Training', layout=Layout(flex='2'), max=282.0, style=Prog…"
      ]
     },
     "metadata": {},
     "output_type": "display_data"
    },
    {
     "name": "stdout",
     "output_type": "stream",
     "text": [
      "Epoch 153: train=47.0385, val=46.0254, took 7.4325 s\n"
     ]
    },
    {
     "data": {
      "application/vnd.jupyter.widget-view+json": {
       "model_id": "",
       "version_major": 2,
       "version_minor": 0
      },
      "text/plain": [
       "HBox(children=(FloatProgress(value=0.0, description='Training', layout=Layout(flex='2'), max=282.0, style=Prog…"
      ]
     },
     "metadata": {},
     "output_type": "display_data"
    },
    {
     "name": "stdout",
     "output_type": "stream",
     "text": [
      "Epoch 154: train=47.0371, val=46.0241, took 7.4067 s\n"
     ]
    },
    {
     "data": {
      "application/vnd.jupyter.widget-view+json": {
       "model_id": "",
       "version_major": 2,
       "version_minor": 0
      },
      "text/plain": [
       "HBox(children=(FloatProgress(value=0.0, description='Training', layout=Layout(flex='2'), max=282.0, style=Prog…"
      ]
     },
     "metadata": {},
     "output_type": "display_data"
    },
    {
     "name": "stdout",
     "output_type": "stream",
     "text": [
      "Epoch 155: train=47.0355, val=46.0217, took 7.3705 s\n"
     ]
    },
    {
     "data": {
      "application/vnd.jupyter.widget-view+json": {
       "model_id": "",
       "version_major": 2,
       "version_minor": 0
      },
      "text/plain": [
       "HBox(children=(FloatProgress(value=0.0, description='Training', layout=Layout(flex='2'), max=282.0, style=Prog…"
      ]
     },
     "metadata": {},
     "output_type": "display_data"
    },
    {
     "name": "stdout",
     "output_type": "stream",
     "text": [
      "Epoch 156: train=47.0341, val=46.0201, took 7.3926 s\n"
     ]
    },
    {
     "data": {
      "application/vnd.jupyter.widget-view+json": {
       "model_id": "",
       "version_major": 2,
       "version_minor": 0
      },
      "text/plain": [
       "HBox(children=(FloatProgress(value=0.0, description='Training', layout=Layout(flex='2'), max=282.0, style=Prog…"
      ]
     },
     "metadata": {},
     "output_type": "display_data"
    },
    {
     "name": "stdout",
     "output_type": "stream",
     "text": [
      "Epoch 157: train=47.0324, val=46.0185, took 7.3911 s\n"
     ]
    },
    {
     "data": {
      "application/vnd.jupyter.widget-view+json": {
       "model_id": "",
       "version_major": 2,
       "version_minor": 0
      },
      "text/plain": [
       "HBox(children=(FloatProgress(value=0.0, description='Training', layout=Layout(flex='2'), max=282.0, style=Prog…"
      ]
     },
     "metadata": {},
     "output_type": "display_data"
    },
    {
     "name": "stdout",
     "output_type": "stream",
     "text": [
      "Epoch 158: train=47.0312, val=46.0166, took 7.4421 s\n"
     ]
    },
    {
     "data": {
      "application/vnd.jupyter.widget-view+json": {
       "model_id": "",
       "version_major": 2,
       "version_minor": 0
      },
      "text/plain": [
       "HBox(children=(FloatProgress(value=0.0, description='Training', layout=Layout(flex='2'), max=282.0, style=Prog…"
      ]
     },
     "metadata": {},
     "output_type": "display_data"
    },
    {
     "name": "stdout",
     "output_type": "stream",
     "text": [
      "Epoch 159: train=47.0295, val=46.0157, took 7.448 s\n"
     ]
    },
    {
     "data": {
      "application/vnd.jupyter.widget-view+json": {
       "model_id": "",
       "version_major": 2,
       "version_minor": 0
      },
      "text/plain": [
       "HBox(children=(FloatProgress(value=0.0, description='Training', layout=Layout(flex='2'), max=282.0, style=Prog…"
      ]
     },
     "metadata": {},
     "output_type": "display_data"
    },
    {
     "name": "stdout",
     "output_type": "stream",
     "text": [
      "Epoch 160: train=47.0282, val=46.0139, took 7.4121 s\n"
     ]
    },
    {
     "data": {
      "application/vnd.jupyter.widget-view+json": {
       "model_id": "",
       "version_major": 2,
       "version_minor": 0
      },
      "text/plain": [
       "HBox(children=(FloatProgress(value=0.0, description='Training', layout=Layout(flex='2'), max=282.0, style=Prog…"
      ]
     },
     "metadata": {},
     "output_type": "display_data"
    },
    {
     "name": "stdout",
     "output_type": "stream",
     "text": [
      "Epoch 161: train=47.0267, val=46.0125, took 7.4566 s\n"
     ]
    },
    {
     "data": {
      "application/vnd.jupyter.widget-view+json": {
       "model_id": "",
       "version_major": 2,
       "version_minor": 0
      },
      "text/plain": [
       "HBox(children=(FloatProgress(value=0.0, description='Training', layout=Layout(flex='2'), max=282.0, style=Prog…"
      ]
     },
     "metadata": {},
     "output_type": "display_data"
    },
    {
     "name": "stdout",
     "output_type": "stream",
     "text": [
      "Epoch 162: train=47.0253, val=46.0125, took 7.4049 s\n"
     ]
    },
    {
     "data": {
      "application/vnd.jupyter.widget-view+json": {
       "model_id": "",
       "version_major": 2,
       "version_minor": 0
      },
      "text/plain": [
       "HBox(children=(FloatProgress(value=0.0, description='Training', layout=Layout(flex='2'), max=282.0, style=Prog…"
      ]
     },
     "metadata": {},
     "output_type": "display_data"
    },
    {
     "name": "stdout",
     "output_type": "stream",
     "text": [
      "Epoch 163: train=47.0238, val=46.0123, took 7.4474 s\n"
     ]
    },
    {
     "data": {
      "application/vnd.jupyter.widget-view+json": {
       "model_id": "",
       "version_major": 2,
       "version_minor": 0
      },
      "text/plain": [
       "HBox(children=(FloatProgress(value=0.0, description='Training', layout=Layout(flex='2'), max=282.0, style=Prog…"
      ]
     },
     "metadata": {},
     "output_type": "display_data"
    },
    {
     "name": "stdout",
     "output_type": "stream",
     "text": [
      "Epoch 164: train=47.0224, val=46.0091, took 7.4406 s\n"
     ]
    },
    {
     "data": {
      "application/vnd.jupyter.widget-view+json": {
       "model_id": "",
       "version_major": 2,
       "version_minor": 0
      },
      "text/plain": [
       "HBox(children=(FloatProgress(value=0.0, description='Training', layout=Layout(flex='2'), max=282.0, style=Prog…"
      ]
     },
     "metadata": {},
     "output_type": "display_data"
    },
    {
     "name": "stdout",
     "output_type": "stream",
     "text": [
      "Epoch 165: train=47.021, val=46.0076, took 7.4213 s\n"
     ]
    },
    {
     "data": {
      "application/vnd.jupyter.widget-view+json": {
       "model_id": "",
       "version_major": 2,
       "version_minor": 0
      },
      "text/plain": [
       "HBox(children=(FloatProgress(value=0.0, description='Training', layout=Layout(flex='2'), max=282.0, style=Prog…"
      ]
     },
     "metadata": {},
     "output_type": "display_data"
    },
    {
     "name": "stdout",
     "output_type": "stream",
     "text": [
      "Epoch 166: train=47.0198, val=46.0063, took 7.3341 s\n"
     ]
    },
    {
     "data": {
      "application/vnd.jupyter.widget-view+json": {
       "model_id": "",
       "version_major": 2,
       "version_minor": 0
      },
      "text/plain": [
       "HBox(children=(FloatProgress(value=0.0, description='Training', layout=Layout(flex='2'), max=282.0, style=Prog…"
      ]
     },
     "metadata": {},
     "output_type": "display_data"
    },
    {
     "name": "stdout",
     "output_type": "stream",
     "text": [
      "Epoch 167: train=47.0183, val=46.0054, took 7.4102 s\n"
     ]
    },
    {
     "data": {
      "application/vnd.jupyter.widget-view+json": {
       "model_id": "",
       "version_major": 2,
       "version_minor": 0
      },
      "text/plain": [
       "HBox(children=(FloatProgress(value=0.0, description='Training', layout=Layout(flex='2'), max=282.0, style=Prog…"
      ]
     },
     "metadata": {},
     "output_type": "display_data"
    },
    {
     "name": "stdout",
     "output_type": "stream",
     "text": [
      "Epoch 168: train=47.017, val=46.0044, took 7.4447 s\n"
     ]
    },
    {
     "data": {
      "application/vnd.jupyter.widget-view+json": {
       "model_id": "",
       "version_major": 2,
       "version_minor": 0
      },
      "text/plain": [
       "HBox(children=(FloatProgress(value=0.0, description='Training', layout=Layout(flex='2'), max=282.0, style=Prog…"
      ]
     },
     "metadata": {},
     "output_type": "display_data"
    },
    {
     "name": "stdout",
     "output_type": "stream",
     "text": [
      "Epoch 169: train=47.0156, val=46.0032, took 7.4091 s\n"
     ]
    },
    {
     "data": {
      "application/vnd.jupyter.widget-view+json": {
       "model_id": "",
       "version_major": 2,
       "version_minor": 0
      },
      "text/plain": [
       "HBox(children=(FloatProgress(value=0.0, description='Training', layout=Layout(flex='2'), max=282.0, style=Prog…"
      ]
     },
     "metadata": {},
     "output_type": "display_data"
    },
    {
     "name": "stdout",
     "output_type": "stream",
     "text": [
      "Epoch 170: train=47.0139, val=46.002, took 7.4321 s\n"
     ]
    },
    {
     "data": {
      "application/vnd.jupyter.widget-view+json": {
       "model_id": "",
       "version_major": 2,
       "version_minor": 0
      },
      "text/plain": [
       "HBox(children=(FloatProgress(value=0.0, description='Training', layout=Layout(flex='2'), max=282.0, style=Prog…"
      ]
     },
     "metadata": {},
     "output_type": "display_data"
    },
    {
     "name": "stdout",
     "output_type": "stream",
     "text": [
      "Epoch 171: train=47.0126, val=46.0002, took 7.4554 s\n"
     ]
    },
    {
     "data": {
      "application/vnd.jupyter.widget-view+json": {
       "model_id": "",
       "version_major": 2,
       "version_minor": 0
      },
      "text/plain": [
       "HBox(children=(FloatProgress(value=0.0, description='Training', layout=Layout(flex='2'), max=282.0, style=Prog…"
      ]
     },
     "metadata": {},
     "output_type": "display_data"
    },
    {
     "name": "stdout",
     "output_type": "stream",
     "text": [
      "Epoch 172: train=47.0112, val=45.9988, took 7.4546 s\n"
     ]
    },
    {
     "data": {
      "application/vnd.jupyter.widget-view+json": {
       "model_id": "",
       "version_major": 2,
       "version_minor": 0
      },
      "text/plain": [
       "HBox(children=(FloatProgress(value=0.0, description='Training', layout=Layout(flex='2'), max=282.0, style=Prog…"
      ]
     },
     "metadata": {},
     "output_type": "display_data"
    },
    {
     "name": "stdout",
     "output_type": "stream",
     "text": [
      "Epoch 173: train=47.0097, val=45.9983, took 7.422 s\n"
     ]
    },
    {
     "data": {
      "application/vnd.jupyter.widget-view+json": {
       "model_id": "",
       "version_major": 2,
       "version_minor": 0
      },
      "text/plain": [
       "HBox(children=(FloatProgress(value=0.0, description='Training', layout=Layout(flex='2'), max=282.0, style=Prog…"
      ]
     },
     "metadata": {},
     "output_type": "display_data"
    },
    {
     "name": "stdout",
     "output_type": "stream",
     "text": [
      "Epoch 174: train=47.0086, val=45.9953, took 7.3426 s\n"
     ]
    },
    {
     "data": {
      "application/vnd.jupyter.widget-view+json": {
       "model_id": "",
       "version_major": 2,
       "version_minor": 0
      },
      "text/plain": [
       "HBox(children=(FloatProgress(value=0.0, description='Training', layout=Layout(flex='2'), max=282.0, style=Prog…"
      ]
     },
     "metadata": {},
     "output_type": "display_data"
    },
    {
     "name": "stdout",
     "output_type": "stream",
     "text": [
      "Epoch 175: train=47.0073, val=45.9952, took 7.3344 s\n"
     ]
    },
    {
     "data": {
      "application/vnd.jupyter.widget-view+json": {
       "model_id": "",
       "version_major": 2,
       "version_minor": 0
      },
      "text/plain": [
       "HBox(children=(FloatProgress(value=0.0, description='Training', layout=Layout(flex='2'), max=282.0, style=Prog…"
      ]
     },
     "metadata": {},
     "output_type": "display_data"
    },
    {
     "name": "stdout",
     "output_type": "stream",
     "text": [
      "Epoch 176: train=47.0059, val=45.9941, took 7.4604 s\n"
     ]
    },
    {
     "data": {
      "application/vnd.jupyter.widget-view+json": {
       "model_id": "",
       "version_major": 2,
       "version_minor": 0
      },
      "text/plain": [
       "HBox(children=(FloatProgress(value=0.0, description='Training', layout=Layout(flex='2'), max=282.0, style=Prog…"
      ]
     },
     "metadata": {},
     "output_type": "display_data"
    },
    {
     "name": "stdout",
     "output_type": "stream",
     "text": [
      "Epoch 177: train=47.0044, val=45.9928, took 7.4545 s\n"
     ]
    },
    {
     "data": {
      "application/vnd.jupyter.widget-view+json": {
       "model_id": "",
       "version_major": 2,
       "version_minor": 0
      },
      "text/plain": [
       "HBox(children=(FloatProgress(value=0.0, description='Training', layout=Layout(flex='2'), max=282.0, style=Prog…"
      ]
     },
     "metadata": {},
     "output_type": "display_data"
    },
    {
     "name": "stdout",
     "output_type": "stream",
     "text": [
      "Epoch 178: train=47.0032, val=45.9908, took 7.4629 s\n"
     ]
    },
    {
     "data": {
      "application/vnd.jupyter.widget-view+json": {
       "model_id": "",
       "version_major": 2,
       "version_minor": 0
      },
      "text/plain": [
       "HBox(children=(FloatProgress(value=0.0, description='Training', layout=Layout(flex='2'), max=282.0, style=Prog…"
      ]
     },
     "metadata": {},
     "output_type": "display_data"
    },
    {
     "name": "stdout",
     "output_type": "stream",
     "text": [
      "Epoch 179: train=47.0019, val=45.9899, took 7.4335 s\n"
     ]
    },
    {
     "data": {
      "application/vnd.jupyter.widget-view+json": {
       "model_id": "",
       "version_major": 2,
       "version_minor": 0
      },
      "text/plain": [
       "HBox(children=(FloatProgress(value=0.0, description='Training', layout=Layout(flex='2'), max=282.0, style=Prog…"
      ]
     },
     "metadata": {},
     "output_type": "display_data"
    },
    {
     "name": "stdout",
     "output_type": "stream",
     "text": [
      "Epoch 180: train=47.0003, val=45.9894, took 7.4436 s\n"
     ]
    },
    {
     "data": {
      "application/vnd.jupyter.widget-view+json": {
       "model_id": "",
       "version_major": 2,
       "version_minor": 0
      },
      "text/plain": [
       "HBox(children=(FloatProgress(value=0.0, description='Training', layout=Layout(flex='2'), max=282.0, style=Prog…"
      ]
     },
     "metadata": {},
     "output_type": "display_data"
    },
    {
     "name": "stdout",
     "output_type": "stream",
     "text": [
      "Epoch 181: train=46.9991, val=45.9885, took 7.4603 s\n"
     ]
    },
    {
     "data": {
      "application/vnd.jupyter.widget-view+json": {
       "model_id": "",
       "version_major": 2,
       "version_minor": 0
      },
      "text/plain": [
       "HBox(children=(FloatProgress(value=0.0, description='Training', layout=Layout(flex='2'), max=282.0, style=Prog…"
      ]
     },
     "metadata": {},
     "output_type": "display_data"
    },
    {
     "name": "stdout",
     "output_type": "stream",
     "text": [
      "Epoch 182: train=46.9978, val=45.9879, took 7.4455 s\n"
     ]
    },
    {
     "data": {
      "application/vnd.jupyter.widget-view+json": {
       "model_id": "",
       "version_major": 2,
       "version_minor": 0
      },
      "text/plain": [
       "HBox(children=(FloatProgress(value=0.0, description='Training', layout=Layout(flex='2'), max=282.0, style=Prog…"
      ]
     },
     "metadata": {},
     "output_type": "display_data"
    },
    {
     "name": "stdout",
     "output_type": "stream",
     "text": [
      "Epoch 183: train=46.9965, val=45.9847, took 7.4367 s\n"
     ]
    },
    {
     "data": {
      "application/vnd.jupyter.widget-view+json": {
       "model_id": "",
       "version_major": 2,
       "version_minor": 0
      },
      "text/plain": [
       "HBox(children=(FloatProgress(value=0.0, description='Training', layout=Layout(flex='2'), max=282.0, style=Prog…"
      ]
     },
     "metadata": {},
     "output_type": "display_data"
    },
    {
     "name": "stdout",
     "output_type": "stream",
     "text": [
      "Epoch 184: train=46.9949, val=45.982, took 7.4691 s\n"
     ]
    },
    {
     "data": {
      "application/vnd.jupyter.widget-view+json": {
       "model_id": "",
       "version_major": 2,
       "version_minor": 0
      },
      "text/plain": [
       "HBox(children=(FloatProgress(value=0.0, description='Training', layout=Layout(flex='2'), max=282.0, style=Prog…"
      ]
     },
     "metadata": {},
     "output_type": "display_data"
    },
    {
     "name": "stdout",
     "output_type": "stream",
     "text": [
      "Epoch 185: train=46.9937, val=45.9818, took 7.4227 s\n"
     ]
    },
    {
     "data": {
      "application/vnd.jupyter.widget-view+json": {
       "model_id": "",
       "version_major": 2,
       "version_minor": 0
      },
      "text/plain": [
       "HBox(children=(FloatProgress(value=0.0, description='Training', layout=Layout(flex='2'), max=282.0, style=Prog…"
      ]
     },
     "metadata": {},
     "output_type": "display_data"
    },
    {
     "name": "stdout",
     "output_type": "stream",
     "text": [
      "Epoch 186: train=46.9923, val=45.9803, took 7.4404 s\n"
     ]
    },
    {
     "data": {
      "application/vnd.jupyter.widget-view+json": {
       "model_id": "",
       "version_major": 2,
       "version_minor": 0
      },
      "text/plain": [
       "HBox(children=(FloatProgress(value=0.0, description='Training', layout=Layout(flex='2'), max=282.0, style=Prog…"
      ]
     },
     "metadata": {},
     "output_type": "display_data"
    },
    {
     "name": "stdout",
     "output_type": "stream",
     "text": [
      "Epoch 187: train=46.9908, val=45.9786, took 7.3841 s\n"
     ]
    },
    {
     "data": {
      "application/vnd.jupyter.widget-view+json": {
       "model_id": "",
       "version_major": 2,
       "version_minor": 0
      },
      "text/plain": [
       "HBox(children=(FloatProgress(value=0.0, description='Training', layout=Layout(flex='2'), max=282.0, style=Prog…"
      ]
     },
     "metadata": {},
     "output_type": "display_data"
    },
    {
     "name": "stdout",
     "output_type": "stream",
     "text": [
      "Epoch 188: train=46.9895, val=45.9775, took 7.3391 s\n"
     ]
    },
    {
     "data": {
      "application/vnd.jupyter.widget-view+json": {
       "model_id": "",
       "version_major": 2,
       "version_minor": 0
      },
      "text/plain": [
       "HBox(children=(FloatProgress(value=0.0, description='Training', layout=Layout(flex='2'), max=282.0, style=Prog…"
      ]
     },
     "metadata": {},
     "output_type": "display_data"
    },
    {
     "name": "stdout",
     "output_type": "stream",
     "text": [
      "Epoch 189: train=46.988, val=45.975, took 7.4645 s\n"
     ]
    },
    {
     "data": {
      "application/vnd.jupyter.widget-view+json": {
       "model_id": "",
       "version_major": 2,
       "version_minor": 0
      },
      "text/plain": [
       "HBox(children=(FloatProgress(value=0.0, description='Training', layout=Layout(flex='2'), max=282.0, style=Prog…"
      ]
     },
     "metadata": {},
     "output_type": "display_data"
    },
    {
     "name": "stdout",
     "output_type": "stream",
     "text": [
      "Epoch 190: train=46.9868, val=45.9747, took 7.4367 s\n"
     ]
    },
    {
     "data": {
      "application/vnd.jupyter.widget-view+json": {
       "model_id": "",
       "version_major": 2,
       "version_minor": 0
      },
      "text/plain": [
       "HBox(children=(FloatProgress(value=0.0, description='Training', layout=Layout(flex='2'), max=282.0, style=Prog…"
      ]
     },
     "metadata": {},
     "output_type": "display_data"
    },
    {
     "name": "stdout",
     "output_type": "stream",
     "text": [
      "Epoch 191: train=46.9854, val=45.9733, took 7.4221 s\n"
     ]
    },
    {
     "data": {
      "application/vnd.jupyter.widget-view+json": {
       "model_id": "",
       "version_major": 2,
       "version_minor": 0
      },
      "text/plain": [
       "HBox(children=(FloatProgress(value=0.0, description='Training', layout=Layout(flex='2'), max=282.0, style=Prog…"
      ]
     },
     "metadata": {},
     "output_type": "display_data"
    },
    {
     "name": "stdout",
     "output_type": "stream",
     "text": [
      "Epoch 192: train=46.984, val=45.9721, took 7.4754 s\n"
     ]
    },
    {
     "data": {
      "application/vnd.jupyter.widget-view+json": {
       "model_id": "",
       "version_major": 2,
       "version_minor": 0
      },
      "text/plain": [
       "HBox(children=(FloatProgress(value=0.0, description='Training', layout=Layout(flex='2'), max=282.0, style=Prog…"
      ]
     },
     "metadata": {},
     "output_type": "display_data"
    },
    {
     "name": "stdout",
     "output_type": "stream",
     "text": [
      "Epoch 193: train=46.9827, val=45.971, took 7.4184 s\n"
     ]
    },
    {
     "data": {
      "application/vnd.jupyter.widget-view+json": {
       "model_id": "",
       "version_major": 2,
       "version_minor": 0
      },
      "text/plain": [
       "HBox(children=(FloatProgress(value=0.0, description='Training', layout=Layout(flex='2'), max=282.0, style=Prog…"
      ]
     },
     "metadata": {},
     "output_type": "display_data"
    },
    {
     "name": "stdout",
     "output_type": "stream",
     "text": [
      "Epoch 194: train=46.9812, val=45.9709, took 7.3546 s\n"
     ]
    },
    {
     "data": {
      "application/vnd.jupyter.widget-view+json": {
       "model_id": "",
       "version_major": 2,
       "version_minor": 0
      },
      "text/plain": [
       "HBox(children=(FloatProgress(value=0.0, description='Training', layout=Layout(flex='2'), max=282.0, style=Prog…"
      ]
     },
     "metadata": {},
     "output_type": "display_data"
    },
    {
     "name": "stdout",
     "output_type": "stream",
     "text": [
      "Epoch 195: train=46.98, val=45.9703, took 7.4162 s\n"
     ]
    },
    {
     "data": {
      "application/vnd.jupyter.widget-view+json": {
       "model_id": "",
       "version_major": 2,
       "version_minor": 0
      },
      "text/plain": [
       "HBox(children=(FloatProgress(value=0.0, description='Training', layout=Layout(flex='2'), max=282.0, style=Prog…"
      ]
     },
     "metadata": {},
     "output_type": "display_data"
    },
    {
     "name": "stdout",
     "output_type": "stream",
     "text": [
      "Epoch 196: train=46.9785, val=45.9695, took 7.3945 s\n"
     ]
    },
    {
     "data": {
      "application/vnd.jupyter.widget-view+json": {
       "model_id": "",
       "version_major": 2,
       "version_minor": 0
      },
      "text/plain": [
       "HBox(children=(FloatProgress(value=0.0, description='Training', layout=Layout(flex='2'), max=282.0, style=Prog…"
      ]
     },
     "metadata": {},
     "output_type": "display_data"
    },
    {
     "name": "stdout",
     "output_type": "stream",
     "text": [
      "Epoch 197: train=46.9772, val=45.9677, took 7.4421 s\n"
     ]
    },
    {
     "data": {
      "application/vnd.jupyter.widget-view+json": {
       "model_id": "",
       "version_major": 2,
       "version_minor": 0
      },
      "text/plain": [
       "HBox(children=(FloatProgress(value=0.0, description='Training', layout=Layout(flex='2'), max=282.0, style=Prog…"
      ]
     },
     "metadata": {},
     "output_type": "display_data"
    },
    {
     "name": "stdout",
     "output_type": "stream",
     "text": [
      "Epoch 198: train=46.9759, val=45.9674, took 7.4468 s\n"
     ]
    },
    {
     "data": {
      "application/vnd.jupyter.widget-view+json": {
       "model_id": "",
       "version_major": 2,
       "version_minor": 0
      },
      "text/plain": [
       "HBox(children=(FloatProgress(value=0.0, description='Training', layout=Layout(flex='2'), max=282.0, style=Prog…"
      ]
     },
     "metadata": {},
     "output_type": "display_data"
    },
    {
     "name": "stdout",
     "output_type": "stream",
     "text": [
      "Epoch 199: train=46.9746, val=45.9664, took 7.4496 s\n"
     ]
    },
    {
     "data": {
      "application/vnd.jupyter.widget-view+json": {
       "model_id": "",
       "version_major": 2,
       "version_minor": 0
      },
      "text/plain": [
       "HBox(children=(FloatProgress(value=0.0, description='Training', layout=Layout(flex='2'), max=282.0, style=Prog…"
      ]
     },
     "metadata": {},
     "output_type": "display_data"
    },
    {
     "name": "stdout",
     "output_type": "stream",
     "text": [
      "Epoch 200: train=46.9734, val=45.966, took 7.4064 s\n"
     ]
    },
    {
     "data": {
      "application/vnd.jupyter.widget-view+json": {
       "model_id": "",
       "version_major": 2,
       "version_minor": 0
      },
      "text/plain": [
       "HBox(children=(FloatProgress(value=0.0, description='Training', layout=Layout(flex='2'), max=282.0, style=Prog…"
      ]
     },
     "metadata": {},
     "output_type": "display_data"
    },
    {
     "name": "stdout",
     "output_type": "stream",
     "text": [
      "Epoch 201: train=46.9722, val=45.9638, took 7.3924 s\n"
     ]
    },
    {
     "data": {
      "application/vnd.jupyter.widget-view+json": {
       "model_id": "",
       "version_major": 2,
       "version_minor": 0
      },
      "text/plain": [
       "HBox(children=(FloatProgress(value=0.0, description='Training', layout=Layout(flex='2'), max=282.0, style=Prog…"
      ]
     },
     "metadata": {},
     "output_type": "display_data"
    },
    {
     "name": "stdout",
     "output_type": "stream",
     "text": [
      "Epoch 202: train=46.9708, val=45.9634, took 7.4132 s\n"
     ]
    },
    {
     "data": {
      "application/vnd.jupyter.widget-view+json": {
       "model_id": "",
       "version_major": 2,
       "version_minor": 0
      },
      "text/plain": [
       "HBox(children=(FloatProgress(value=0.0, description='Training', layout=Layout(flex='2'), max=282.0, style=Prog…"
      ]
     },
     "metadata": {},
     "output_type": "display_data"
    },
    {
     "name": "stdout",
     "output_type": "stream",
     "text": [
      "Epoch 203: train=46.9695, val=45.9637, took 7.4152 s\n"
     ]
    },
    {
     "data": {
      "application/vnd.jupyter.widget-view+json": {
       "model_id": "",
       "version_major": 2,
       "version_minor": 0
      },
      "text/plain": [
       "HBox(children=(FloatProgress(value=0.0, description='Training', layout=Layout(flex='2'), max=282.0, style=Prog…"
      ]
     },
     "metadata": {},
     "output_type": "display_data"
    },
    {
     "name": "stdout",
     "output_type": "stream",
     "text": [
      "Epoch 204: train=46.9683, val=45.9621, took 7.3664 s\n"
     ]
    },
    {
     "data": {
      "application/vnd.jupyter.widget-view+json": {
       "model_id": "",
       "version_major": 2,
       "version_minor": 0
      },
      "text/plain": [
       "HBox(children=(FloatProgress(value=0.0, description='Training', layout=Layout(flex='2'), max=282.0, style=Prog…"
      ]
     },
     "metadata": {},
     "output_type": "display_data"
    },
    {
     "name": "stdout",
     "output_type": "stream",
     "text": [
      "Epoch 205: train=46.967, val=45.9599, took 7.363 s\n"
     ]
    },
    {
     "data": {
      "application/vnd.jupyter.widget-view+json": {
       "model_id": "",
       "version_major": 2,
       "version_minor": 0
      },
      "text/plain": [
       "HBox(children=(FloatProgress(value=0.0, description='Training', layout=Layout(flex='2'), max=282.0, style=Prog…"
      ]
     },
     "metadata": {},
     "output_type": "display_data"
    },
    {
     "name": "stdout",
     "output_type": "stream",
     "text": [
      "Epoch 206: train=46.9657, val=45.9586, took 7.4612 s\n"
     ]
    },
    {
     "data": {
      "application/vnd.jupyter.widget-view+json": {
       "model_id": "",
       "version_major": 2,
       "version_minor": 0
      },
      "text/plain": [
       "HBox(children=(FloatProgress(value=0.0, description='Training', layout=Layout(flex='2'), max=282.0, style=Prog…"
      ]
     },
     "metadata": {},
     "output_type": "display_data"
    },
    {
     "name": "stdout",
     "output_type": "stream",
     "text": [
      "Epoch 207: train=46.9644, val=45.9573, took 7.4032 s\n"
     ]
    },
    {
     "data": {
      "application/vnd.jupyter.widget-view+json": {
       "model_id": "",
       "version_major": 2,
       "version_minor": 0
      },
      "text/plain": [
       "HBox(children=(FloatProgress(value=0.0, description='Training', layout=Layout(flex='2'), max=282.0, style=Prog…"
      ]
     },
     "metadata": {},
     "output_type": "display_data"
    },
    {
     "name": "stdout",
     "output_type": "stream",
     "text": [
      "Epoch 208: train=46.9631, val=45.9576, took 7.4443 s\n"
     ]
    },
    {
     "data": {
      "application/vnd.jupyter.widget-view+json": {
       "model_id": "",
       "version_major": 2,
       "version_minor": 0
      },
      "text/plain": [
       "HBox(children=(FloatProgress(value=0.0, description='Training', layout=Layout(flex='2'), max=282.0, style=Prog…"
      ]
     },
     "metadata": {},
     "output_type": "display_data"
    },
    {
     "name": "stdout",
     "output_type": "stream",
     "text": [
      "Epoch 209: train=46.9619, val=45.9544, took 7.4468 s\n"
     ]
    },
    {
     "data": {
      "application/vnd.jupyter.widget-view+json": {
       "model_id": "",
       "version_major": 2,
       "version_minor": 0
      },
      "text/plain": [
       "HBox(children=(FloatProgress(value=0.0, description='Training', layout=Layout(flex='2'), max=282.0, style=Prog…"
      ]
     },
     "metadata": {},
     "output_type": "display_data"
    },
    {
     "name": "stdout",
     "output_type": "stream",
     "text": [
      "Epoch 210: train=46.9606, val=45.9545, took 7.4193 s\n"
     ]
    },
    {
     "data": {
      "application/vnd.jupyter.widget-view+json": {
       "model_id": "",
       "version_major": 2,
       "version_minor": 0
      },
      "text/plain": [
       "HBox(children=(FloatProgress(value=0.0, description='Training', layout=Layout(flex='2'), max=282.0, style=Prog…"
      ]
     },
     "metadata": {},
     "output_type": "display_data"
    },
    {
     "name": "stdout",
     "output_type": "stream",
     "text": [
      "Epoch 211: train=46.9595, val=45.9539, took 7.3659 s\n"
     ]
    },
    {
     "data": {
      "application/vnd.jupyter.widget-view+json": {
       "model_id": "",
       "version_major": 2,
       "version_minor": 0
      },
      "text/plain": [
       "HBox(children=(FloatProgress(value=0.0, description='Training', layout=Layout(flex='2'), max=282.0, style=Prog…"
      ]
     },
     "metadata": {},
     "output_type": "display_data"
    },
    {
     "name": "stdout",
     "output_type": "stream",
     "text": [
      "Epoch 212: train=46.9582, val=45.9537, took 7.3772 s\n"
     ]
    },
    {
     "data": {
      "application/vnd.jupyter.widget-view+json": {
       "model_id": "",
       "version_major": 2,
       "version_minor": 0
      },
      "text/plain": [
       "HBox(children=(FloatProgress(value=0.0, description='Training', layout=Layout(flex='2'), max=282.0, style=Prog…"
      ]
     },
     "metadata": {},
     "output_type": "display_data"
    },
    {
     "name": "stdout",
     "output_type": "stream",
     "text": [
      "Epoch 213: train=46.9569, val=45.9526, took 7.4295 s\n"
     ]
    },
    {
     "data": {
      "application/vnd.jupyter.widget-view+json": {
       "model_id": "",
       "version_major": 2,
       "version_minor": 0
      },
      "text/plain": [
       "HBox(children=(FloatProgress(value=0.0, description='Training', layout=Layout(flex='2'), max=282.0, style=Prog…"
      ]
     },
     "metadata": {},
     "output_type": "display_data"
    },
    {
     "name": "stdout",
     "output_type": "stream",
     "text": [
      "Epoch 214: train=46.9557, val=45.9519, took 7.3804 s\n"
     ]
    },
    {
     "data": {
      "application/vnd.jupyter.widget-view+json": {
       "model_id": "",
       "version_major": 2,
       "version_minor": 0
      },
      "text/plain": [
       "HBox(children=(FloatProgress(value=0.0, description='Training', layout=Layout(flex='2'), max=282.0, style=Prog…"
      ]
     },
     "metadata": {},
     "output_type": "display_data"
    },
    {
     "name": "stdout",
     "output_type": "stream",
     "text": [
      "Epoch 215: train=46.9544, val=45.9509, took 7.4458 s\n"
     ]
    },
    {
     "data": {
      "application/vnd.jupyter.widget-view+json": {
       "model_id": "",
       "version_major": 2,
       "version_minor": 0
      },
      "text/plain": [
       "HBox(children=(FloatProgress(value=0.0, description='Training', layout=Layout(flex='2'), max=282.0, style=Prog…"
      ]
     },
     "metadata": {},
     "output_type": "display_data"
    },
    {
     "name": "stdout",
     "output_type": "stream",
     "text": [
      "Epoch 216: train=46.9531, val=45.9505, took 7.4369 s\n"
     ]
    },
    {
     "data": {
      "application/vnd.jupyter.widget-view+json": {
       "model_id": "",
       "version_major": 2,
       "version_minor": 0
      },
      "text/plain": [
       "HBox(children=(FloatProgress(value=0.0, description='Training', layout=Layout(flex='2'), max=282.0, style=Prog…"
      ]
     },
     "metadata": {},
     "output_type": "display_data"
    },
    {
     "name": "stdout",
     "output_type": "stream",
     "text": [
      "Epoch 217: train=46.9518, val=45.9489, took 7.3176 s\n"
     ]
    },
    {
     "data": {
      "application/vnd.jupyter.widget-view+json": {
       "model_id": "",
       "version_major": 2,
       "version_minor": 0
      },
      "text/plain": [
       "HBox(children=(FloatProgress(value=0.0, description='Training', layout=Layout(flex='2'), max=282.0, style=Prog…"
      ]
     },
     "metadata": {},
     "output_type": "display_data"
    },
    {
     "name": "stdout",
     "output_type": "stream",
     "text": [
      "Epoch 218: train=46.9502, val=45.9475, took 7.4191 s\n"
     ]
    },
    {
     "data": {
      "application/vnd.jupyter.widget-view+json": {
       "model_id": "",
       "version_major": 2,
       "version_minor": 0
      },
      "text/plain": [
       "HBox(children=(FloatProgress(value=0.0, description='Training', layout=Layout(flex='2'), max=282.0, style=Prog…"
      ]
     },
     "metadata": {},
     "output_type": "display_data"
    },
    {
     "name": "stdout",
     "output_type": "stream",
     "text": [
      "Epoch 219: train=46.9492, val=45.9439, took 7.4258 s\n"
     ]
    },
    {
     "data": {
      "application/vnd.jupyter.widget-view+json": {
       "model_id": "",
       "version_major": 2,
       "version_minor": 0
      },
      "text/plain": [
       "HBox(children=(FloatProgress(value=0.0, description='Training', layout=Layout(flex='2'), max=282.0, style=Prog…"
      ]
     },
     "metadata": {},
     "output_type": "display_data"
    },
    {
     "name": "stdout",
     "output_type": "stream",
     "text": [
      "Epoch 220: train=46.9477, val=45.941, took 7.4147 s\n"
     ]
    },
    {
     "data": {
      "application/vnd.jupyter.widget-view+json": {
       "model_id": "",
       "version_major": 2,
       "version_minor": 0
      },
      "text/plain": [
       "HBox(children=(FloatProgress(value=0.0, description='Training', layout=Layout(flex='2'), max=282.0, style=Prog…"
      ]
     },
     "metadata": {},
     "output_type": "display_data"
    },
    {
     "name": "stdout",
     "output_type": "stream",
     "text": [
      "Epoch 221: train=46.9463, val=45.9401, took 7.4008 s\n"
     ]
    },
    {
     "data": {
      "application/vnd.jupyter.widget-view+json": {
       "model_id": "",
       "version_major": 2,
       "version_minor": 0
      },
      "text/plain": [
       "HBox(children=(FloatProgress(value=0.0, description='Training', layout=Layout(flex='2'), max=282.0, style=Prog…"
      ]
     },
     "metadata": {},
     "output_type": "display_data"
    },
    {
     "name": "stdout",
     "output_type": "stream",
     "text": [
      "Epoch 222: train=46.9448, val=45.9391, took 7.416 s\n"
     ]
    },
    {
     "data": {
      "application/vnd.jupyter.widget-view+json": {
       "model_id": "",
       "version_major": 2,
       "version_minor": 0
      },
      "text/plain": [
       "HBox(children=(FloatProgress(value=0.0, description='Training', layout=Layout(flex='2'), max=282.0, style=Prog…"
      ]
     },
     "metadata": {},
     "output_type": "display_data"
    },
    {
     "name": "stdout",
     "output_type": "stream",
     "text": [
      "Epoch 223: train=46.9436, val=45.9366, took 7.4615 s\n"
     ]
    },
    {
     "data": {
      "application/vnd.jupyter.widget-view+json": {
       "model_id": "",
       "version_major": 2,
       "version_minor": 0
      },
      "text/plain": [
       "HBox(children=(FloatProgress(value=0.0, description='Training', layout=Layout(flex='2'), max=282.0, style=Prog…"
      ]
     },
     "metadata": {},
     "output_type": "display_data"
    },
    {
     "name": "stdout",
     "output_type": "stream",
     "text": [
      "Epoch 224: train=46.9424, val=45.9349, took 7.4223 s\n"
     ]
    },
    {
     "data": {
      "application/vnd.jupyter.widget-view+json": {
       "model_id": "",
       "version_major": 2,
       "version_minor": 0
      },
      "text/plain": [
       "HBox(children=(FloatProgress(value=0.0, description='Training', layout=Layout(flex='2'), max=282.0, style=Prog…"
      ]
     },
     "metadata": {},
     "output_type": "display_data"
    },
    {
     "name": "stdout",
     "output_type": "stream",
     "text": [
      "Epoch 225: train=46.9412, val=45.9337, took 7.4268 s\n"
     ]
    },
    {
     "data": {
      "application/vnd.jupyter.widget-view+json": {
       "model_id": "",
       "version_major": 2,
       "version_minor": 0
      },
      "text/plain": [
       "HBox(children=(FloatProgress(value=0.0, description='Training', layout=Layout(flex='2'), max=282.0, style=Prog…"
      ]
     },
     "metadata": {},
     "output_type": "display_data"
    },
    {
     "name": "stdout",
     "output_type": "stream",
     "text": [
      "Epoch 226: train=46.94, val=45.9352, took 7.4677 s\n"
     ]
    },
    {
     "data": {
      "application/vnd.jupyter.widget-view+json": {
       "model_id": "",
       "version_major": 2,
       "version_minor": 0
      },
      "text/plain": [
       "HBox(children=(FloatProgress(value=0.0, description='Training', layout=Layout(flex='2'), max=282.0, style=Prog…"
      ]
     },
     "metadata": {},
     "output_type": "display_data"
    },
    {
     "name": "stdout",
     "output_type": "stream",
     "text": [
      "Epoch 227: train=46.9386, val=45.9333, took 7.4038 s\n"
     ]
    },
    {
     "data": {
      "application/vnd.jupyter.widget-view+json": {
       "model_id": "",
       "version_major": 2,
       "version_minor": 0
      },
      "text/plain": [
       "HBox(children=(FloatProgress(value=0.0, description='Training', layout=Layout(flex='2'), max=282.0, style=Prog…"
      ]
     },
     "metadata": {},
     "output_type": "display_data"
    },
    {
     "name": "stdout",
     "output_type": "stream",
     "text": [
      "Epoch 228: train=46.9372, val=45.9322, took 7.4361 s\n"
     ]
    },
    {
     "data": {
      "application/vnd.jupyter.widget-view+json": {
       "model_id": "",
       "version_major": 2,
       "version_minor": 0
      },
      "text/plain": [
       "HBox(children=(FloatProgress(value=0.0, description='Training', layout=Layout(flex='2'), max=282.0, style=Prog…"
      ]
     },
     "metadata": {},
     "output_type": "display_data"
    },
    {
     "name": "stdout",
     "output_type": "stream",
     "text": [
      "Epoch 229: train=46.9361, val=45.9341, took 7.4125 s\n"
     ]
    },
    {
     "data": {
      "application/vnd.jupyter.widget-view+json": {
       "model_id": "",
       "version_major": 2,
       "version_minor": 0
      },
      "text/plain": [
       "HBox(children=(FloatProgress(value=0.0, description='Training', layout=Layout(flex='2'), max=282.0, style=Prog…"
      ]
     },
     "metadata": {},
     "output_type": "display_data"
    },
    {
     "name": "stdout",
     "output_type": "stream",
     "text": [
      "Epoch 230: train=46.9347, val=45.9322, took 7.4312 s\n"
     ]
    },
    {
     "data": {
      "application/vnd.jupyter.widget-view+json": {
       "model_id": "",
       "version_major": 2,
       "version_minor": 0
      },
      "text/plain": [
       "HBox(children=(FloatProgress(value=0.0, description='Training', layout=Layout(flex='2'), max=282.0, style=Prog…"
      ]
     },
     "metadata": {},
     "output_type": "display_data"
    },
    {
     "name": "stdout",
     "output_type": "stream",
     "text": [
      "Epoch 231: train=46.9337, val=45.931, took 7.4156 s\n"
     ]
    },
    {
     "data": {
      "application/vnd.jupyter.widget-view+json": {
       "model_id": "",
       "version_major": 2,
       "version_minor": 0
      },
      "text/plain": [
       "HBox(children=(FloatProgress(value=0.0, description='Training', layout=Layout(flex='2'), max=282.0, style=Prog…"
      ]
     },
     "metadata": {},
     "output_type": "display_data"
    },
    {
     "name": "stdout",
     "output_type": "stream",
     "text": [
      "Epoch 232: train=46.9325, val=45.9298, took 7.4164 s\n"
     ]
    },
    {
     "data": {
      "application/vnd.jupyter.widget-view+json": {
       "model_id": "",
       "version_major": 2,
       "version_minor": 0
      },
      "text/plain": [
       "HBox(children=(FloatProgress(value=0.0, description='Training', layout=Layout(flex='2'), max=282.0, style=Prog…"
      ]
     },
     "metadata": {},
     "output_type": "display_data"
    },
    {
     "name": "stdout",
     "output_type": "stream",
     "text": [
      "Epoch 233: train=46.9312, val=45.9299, took 7.5522 s\n"
     ]
    },
    {
     "data": {
      "application/vnd.jupyter.widget-view+json": {
       "model_id": "",
       "version_major": 2,
       "version_minor": 0
      },
      "text/plain": [
       "HBox(children=(FloatProgress(value=0.0, description='Training', layout=Layout(flex='2'), max=282.0, style=Prog…"
      ]
     },
     "metadata": {},
     "output_type": "display_data"
    },
    {
     "name": "stdout",
     "output_type": "stream",
     "text": [
      "Epoch 234: train=46.9299, val=45.9287, took 7.4641 s\n"
     ]
    },
    {
     "data": {
      "application/vnd.jupyter.widget-view+json": {
       "model_id": "",
       "version_major": 2,
       "version_minor": 0
      },
      "text/plain": [
       "HBox(children=(FloatProgress(value=0.0, description='Training', layout=Layout(flex='2'), max=282.0, style=Prog…"
      ]
     },
     "metadata": {},
     "output_type": "display_data"
    },
    {
     "name": "stdout",
     "output_type": "stream",
     "text": [
      "Epoch 235: train=46.9288, val=45.9279, took 7.5282 s\n"
     ]
    },
    {
     "data": {
      "application/vnd.jupyter.widget-view+json": {
       "model_id": "",
       "version_major": 2,
       "version_minor": 0
      },
      "text/plain": [
       "HBox(children=(FloatProgress(value=0.0, description='Training', layout=Layout(flex='2'), max=282.0, style=Prog…"
      ]
     },
     "metadata": {},
     "output_type": "display_data"
    },
    {
     "name": "stdout",
     "output_type": "stream",
     "text": [
      "Epoch 236: train=46.9274, val=45.9271, took 7.613 s\n"
     ]
    },
    {
     "data": {
      "application/vnd.jupyter.widget-view+json": {
       "model_id": "",
       "version_major": 2,
       "version_minor": 0
      },
      "text/plain": [
       "HBox(children=(FloatProgress(value=0.0, description='Training', layout=Layout(flex='2'), max=282.0, style=Prog…"
      ]
     },
     "metadata": {},
     "output_type": "display_data"
    },
    {
     "name": "stdout",
     "output_type": "stream",
     "text": [
      "Epoch 237: train=46.9261, val=45.9249, took 8.2293 s\n"
     ]
    },
    {
     "data": {
      "application/vnd.jupyter.widget-view+json": {
       "model_id": "",
       "version_major": 2,
       "version_minor": 0
      },
      "text/plain": [
       "HBox(children=(FloatProgress(value=0.0, description='Training', layout=Layout(flex='2'), max=282.0, style=Prog…"
      ]
     },
     "metadata": {},
     "output_type": "display_data"
    },
    {
     "name": "stdout",
     "output_type": "stream",
     "text": [
      "Epoch 238: train=46.925, val=45.9252, took 7.856 s\n"
     ]
    },
    {
     "data": {
      "application/vnd.jupyter.widget-view+json": {
       "model_id": "",
       "version_major": 2,
       "version_minor": 0
      },
      "text/plain": [
       "HBox(children=(FloatProgress(value=0.0, description='Training', layout=Layout(flex='2'), max=282.0, style=Prog…"
      ]
     },
     "metadata": {},
     "output_type": "display_data"
    },
    {
     "name": "stdout",
     "output_type": "stream",
     "text": [
      "Epoch 239: train=46.9238, val=45.9235, took 8.4021 s\n"
     ]
    },
    {
     "data": {
      "application/vnd.jupyter.widget-view+json": {
       "model_id": "",
       "version_major": 2,
       "version_minor": 0
      },
      "text/plain": [
       "HBox(children=(FloatProgress(value=0.0, description='Training', layout=Layout(flex='2'), max=282.0, style=Prog…"
      ]
     },
     "metadata": {},
     "output_type": "display_data"
    },
    {
     "name": "stdout",
     "output_type": "stream",
     "text": [
      "Epoch 240: train=46.9225, val=45.9227, took 8.1756 s\n"
     ]
    },
    {
     "data": {
      "application/vnd.jupyter.widget-view+json": {
       "model_id": "",
       "version_major": 2,
       "version_minor": 0
      },
      "text/plain": [
       "HBox(children=(FloatProgress(value=0.0, description='Training', layout=Layout(flex='2'), max=282.0, style=Prog…"
      ]
     },
     "metadata": {},
     "output_type": "display_data"
    },
    {
     "name": "stdout",
     "output_type": "stream",
     "text": [
      "Epoch 241: train=46.9212, val=45.9237, took 7.8925 s\n"
     ]
    },
    {
     "data": {
      "application/vnd.jupyter.widget-view+json": {
       "model_id": "",
       "version_major": 2,
       "version_minor": 0
      },
      "text/plain": [
       "HBox(children=(FloatProgress(value=0.0, description='Training', layout=Layout(flex='2'), max=282.0, style=Prog…"
      ]
     },
     "metadata": {},
     "output_type": "display_data"
    },
    {
     "name": "stdout",
     "output_type": "stream",
     "text": [
      "Epoch 242: train=46.9201, val=45.9216, took 8.0564 s\n"
     ]
    },
    {
     "data": {
      "application/vnd.jupyter.widget-view+json": {
       "model_id": "",
       "version_major": 2,
       "version_minor": 0
      },
      "text/plain": [
       "HBox(children=(FloatProgress(value=0.0, description='Training', layout=Layout(flex='2'), max=282.0, style=Prog…"
      ]
     },
     "metadata": {},
     "output_type": "display_data"
    },
    {
     "name": "stdout",
     "output_type": "stream",
     "text": [
      "Epoch 243: train=46.9189, val=45.9231, took 8.6083 s\n"
     ]
    },
    {
     "data": {
      "application/vnd.jupyter.widget-view+json": {
       "model_id": "",
       "version_major": 2,
       "version_minor": 0
      },
      "text/plain": [
       "HBox(children=(FloatProgress(value=0.0, description='Training', layout=Layout(flex='2'), max=282.0, style=Prog…"
      ]
     },
     "metadata": {},
     "output_type": "display_data"
    },
    {
     "name": "stdout",
     "output_type": "stream",
     "text": [
      "Epoch 244: train=46.9177, val=45.9228, took 8.2199 s\n"
     ]
    },
    {
     "data": {
      "application/vnd.jupyter.widget-view+json": {
       "model_id": "",
       "version_major": 2,
       "version_minor": 0
      },
      "text/plain": [
       "HBox(children=(FloatProgress(value=0.0, description='Training', layout=Layout(flex='2'), max=282.0, style=Prog…"
      ]
     },
     "metadata": {},
     "output_type": "display_data"
    },
    {
     "name": "stdout",
     "output_type": "stream",
     "text": [
      "Epoch 245: train=46.9165, val=45.9238, took 8.265 s\n"
     ]
    },
    {
     "data": {
      "application/vnd.jupyter.widget-view+json": {
       "model_id": "",
       "version_major": 2,
       "version_minor": 0
      },
      "text/plain": [
       "HBox(children=(FloatProgress(value=0.0, description='Training', layout=Layout(flex='2'), max=282.0, style=Prog…"
      ]
     },
     "metadata": {},
     "output_type": "display_data"
    },
    {
     "name": "stdout",
     "output_type": "stream",
     "text": [
      "Epoch 246: train=46.9154, val=45.9211, took 8.0952 s\n"
     ]
    },
    {
     "data": {
      "application/vnd.jupyter.widget-view+json": {
       "model_id": "",
       "version_major": 2,
       "version_minor": 0
      },
      "text/plain": [
       "HBox(children=(FloatProgress(value=0.0, description='Training', layout=Layout(flex='2'), max=282.0, style=Prog…"
      ]
     },
     "metadata": {},
     "output_type": "display_data"
    },
    {
     "name": "stdout",
     "output_type": "stream",
     "text": [
      "Epoch 247: train=46.914, val=45.9222, took 8.1064 s\n"
     ]
    },
    {
     "data": {
      "application/vnd.jupyter.widget-view+json": {
       "model_id": "",
       "version_major": 2,
       "version_minor": 0
      },
      "text/plain": [
       "HBox(children=(FloatProgress(value=0.0, description='Training', layout=Layout(flex='2'), max=282.0, style=Prog…"
      ]
     },
     "metadata": {},
     "output_type": "display_data"
    },
    {
     "name": "stdout",
     "output_type": "stream",
     "text": [
      "Epoch 248: train=46.913, val=45.9222, took 8.2145 s\n"
     ]
    },
    {
     "data": {
      "application/vnd.jupyter.widget-view+json": {
       "model_id": "",
       "version_major": 2,
       "version_minor": 0
      },
      "text/plain": [
       "HBox(children=(FloatProgress(value=0.0, description='Training', layout=Layout(flex='2'), max=282.0, style=Prog…"
      ]
     },
     "metadata": {},
     "output_type": "display_data"
    },
    {
     "name": "stdout",
     "output_type": "stream",
     "text": [
      "Epoch 249: train=46.9117, val=45.9217, took 7.8727 s\n"
     ]
    },
    {
     "data": {
      "application/vnd.jupyter.widget-view+json": {
       "model_id": "",
       "version_major": 2,
       "version_minor": 0
      },
      "text/plain": [
       "HBox(children=(FloatProgress(value=0.0, description='Training', layout=Layout(flex='2'), max=282.0, style=Prog…"
      ]
     },
     "metadata": {},
     "output_type": "display_data"
    },
    {
     "name": "stdout",
     "output_type": "stream",
     "text": [
      "Epoch 250: train=46.9104, val=45.9205, took 8.0416 s\n"
     ]
    },
    {
     "data": {
      "application/vnd.jupyter.widget-view+json": {
       "model_id": "",
       "version_major": 2,
       "version_minor": 0
      },
      "text/plain": [
       "HBox(children=(FloatProgress(value=0.0, description='Training', layout=Layout(flex='2'), max=282.0, style=Prog…"
      ]
     },
     "metadata": {},
     "output_type": "display_data"
    },
    {
     "name": "stdout",
     "output_type": "stream",
     "text": [
      "Epoch 251: train=46.9091, val=45.9196, took 8.3058 s\n"
     ]
    },
    {
     "data": {
      "application/vnd.jupyter.widget-view+json": {
       "model_id": "",
       "version_major": 2,
       "version_minor": 0
      },
      "text/plain": [
       "HBox(children=(FloatProgress(value=0.0, description='Training', layout=Layout(flex='2'), max=282.0, style=Prog…"
      ]
     },
     "metadata": {},
     "output_type": "display_data"
    },
    {
     "name": "stdout",
     "output_type": "stream",
     "text": [
      "Epoch 252: train=46.9081, val=45.9194, took 8.4133 s\n"
     ]
    },
    {
     "data": {
      "application/vnd.jupyter.widget-view+json": {
       "model_id": "",
       "version_major": 2,
       "version_minor": 0
      },
      "text/plain": [
       "HBox(children=(FloatProgress(value=0.0, description='Training', layout=Layout(flex='2'), max=282.0, style=Prog…"
      ]
     },
     "metadata": {},
     "output_type": "display_data"
    },
    {
     "name": "stdout",
     "output_type": "stream",
     "text": [
      "Epoch 253: train=46.9068, val=45.9179, took 8.0774 s\n"
     ]
    },
    {
     "data": {
      "application/vnd.jupyter.widget-view+json": {
       "model_id": "",
       "version_major": 2,
       "version_minor": 0
      },
      "text/plain": [
       "HBox(children=(FloatProgress(value=0.0, description='Training', layout=Layout(flex='2'), max=282.0, style=Prog…"
      ]
     },
     "metadata": {},
     "output_type": "display_data"
    },
    {
     "name": "stdout",
     "output_type": "stream",
     "text": [
      "Epoch 254: train=46.9054, val=45.9161, took 7.9187 s\n"
     ]
    },
    {
     "data": {
      "application/vnd.jupyter.widget-view+json": {
       "model_id": "",
       "version_major": 2,
       "version_minor": 0
      },
      "text/plain": [
       "HBox(children=(FloatProgress(value=0.0, description='Training', layout=Layout(flex='2'), max=282.0, style=Prog…"
      ]
     },
     "metadata": {},
     "output_type": "display_data"
    },
    {
     "name": "stdout",
     "output_type": "stream",
     "text": [
      "Epoch 255: train=46.9042, val=45.9148, took 8.9438 s\n"
     ]
    },
    {
     "data": {
      "application/vnd.jupyter.widget-view+json": {
       "model_id": "",
       "version_major": 2,
       "version_minor": 0
      },
      "text/plain": [
       "HBox(children=(FloatProgress(value=0.0, description='Training', layout=Layout(flex='2'), max=282.0, style=Prog…"
      ]
     },
     "metadata": {},
     "output_type": "display_data"
    },
    {
     "name": "stdout",
     "output_type": "stream",
     "text": [
      "Epoch 256: train=46.9028, val=45.9142, took 7.6294 s\n"
     ]
    },
    {
     "data": {
      "application/vnd.jupyter.widget-view+json": {
       "model_id": "",
       "version_major": 2,
       "version_minor": 0
      },
      "text/plain": [
       "HBox(children=(FloatProgress(value=0.0, description='Training', layout=Layout(flex='2'), max=282.0, style=Prog…"
      ]
     },
     "metadata": {},
     "output_type": "display_data"
    },
    {
     "name": "stdout",
     "output_type": "stream",
     "text": [
      "Epoch 257: train=46.9015, val=45.9123, took 7.7895 s\n"
     ]
    },
    {
     "data": {
      "application/vnd.jupyter.widget-view+json": {
       "model_id": "",
       "version_major": 2,
       "version_minor": 0
      },
      "text/plain": [
       "HBox(children=(FloatProgress(value=0.0, description='Training', layout=Layout(flex='2'), max=282.0, style=Prog…"
      ]
     },
     "metadata": {},
     "output_type": "display_data"
    },
    {
     "name": "stdout",
     "output_type": "stream",
     "text": [
      "Epoch 258: train=46.9003, val=45.9116, took 7.9164 s\n"
     ]
    },
    {
     "data": {
      "application/vnd.jupyter.widget-view+json": {
       "model_id": "",
       "version_major": 2,
       "version_minor": 0
      },
      "text/plain": [
       "HBox(children=(FloatProgress(value=0.0, description='Training', layout=Layout(flex='2'), max=282.0, style=Prog…"
      ]
     },
     "metadata": {},
     "output_type": "display_data"
    },
    {
     "name": "stdout",
     "output_type": "stream",
     "text": [
      "Epoch 259: train=46.899, val=45.9096, took 8.9728 s\n"
     ]
    },
    {
     "data": {
      "application/vnd.jupyter.widget-view+json": {
       "model_id": "",
       "version_major": 2,
       "version_minor": 0
      },
      "text/plain": [
       "HBox(children=(FloatProgress(value=0.0, description='Training', layout=Layout(flex='2'), max=282.0, style=Prog…"
      ]
     },
     "metadata": {},
     "output_type": "display_data"
    },
    {
     "name": "stdout",
     "output_type": "stream",
     "text": [
      "Epoch 260: train=46.8976, val=45.9087, took 9.5257 s\n"
     ]
    },
    {
     "data": {
      "application/vnd.jupyter.widget-view+json": {
       "model_id": "",
       "version_major": 2,
       "version_minor": 0
      },
      "text/plain": [
       "HBox(children=(FloatProgress(value=0.0, description='Training', layout=Layout(flex='2'), max=282.0, style=Prog…"
      ]
     },
     "metadata": {},
     "output_type": "display_data"
    },
    {
     "name": "stdout",
     "output_type": "stream",
     "text": [
      "Epoch 261: train=46.8961, val=45.9076, took 9.3955 s\n"
     ]
    },
    {
     "data": {
      "application/vnd.jupyter.widget-view+json": {
       "model_id": "",
       "version_major": 2,
       "version_minor": 0
      },
      "text/plain": [
       "HBox(children=(FloatProgress(value=0.0, description='Training', layout=Layout(flex='2'), max=282.0, style=Prog…"
      ]
     },
     "metadata": {},
     "output_type": "display_data"
    },
    {
     "name": "stdout",
     "output_type": "stream",
     "text": [
      "Epoch 262: train=46.8949, val=45.9063, took 9.7472 s\n"
     ]
    },
    {
     "data": {
      "application/vnd.jupyter.widget-view+json": {
       "model_id": "",
       "version_major": 2,
       "version_minor": 0
      },
      "text/plain": [
       "HBox(children=(FloatProgress(value=0.0, description='Training', layout=Layout(flex='2'), max=282.0, style=Prog…"
      ]
     },
     "metadata": {},
     "output_type": "display_data"
    },
    {
     "name": "stdout",
     "output_type": "stream",
     "text": [
      "Epoch 263: train=46.8938, val=45.9056, took 7.9994 s\n"
     ]
    },
    {
     "data": {
      "application/vnd.jupyter.widget-view+json": {
       "model_id": "",
       "version_major": 2,
       "version_minor": 0
      },
      "text/plain": [
       "HBox(children=(FloatProgress(value=0.0, description='Training', layout=Layout(flex='2'), max=282.0, style=Prog…"
      ]
     },
     "metadata": {},
     "output_type": "display_data"
    },
    {
     "name": "stdout",
     "output_type": "stream",
     "text": [
      "Epoch 264: train=46.8923, val=45.904, took 8.8231 s\n"
     ]
    },
    {
     "data": {
      "application/vnd.jupyter.widget-view+json": {
       "model_id": "",
       "version_major": 2,
       "version_minor": 0
      },
      "text/plain": [
       "HBox(children=(FloatProgress(value=0.0, description='Training', layout=Layout(flex='2'), max=282.0, style=Prog…"
      ]
     },
     "metadata": {},
     "output_type": "display_data"
    },
    {
     "name": "stdout",
     "output_type": "stream",
     "text": [
      "Epoch 265: train=46.8912, val=45.902, took 7.8319 s\n"
     ]
    },
    {
     "data": {
      "application/vnd.jupyter.widget-view+json": {
       "model_id": "",
       "version_major": 2,
       "version_minor": 0
      },
      "text/plain": [
       "HBox(children=(FloatProgress(value=0.0, description='Training', layout=Layout(flex='2'), max=282.0, style=Prog…"
      ]
     },
     "metadata": {},
     "output_type": "display_data"
    },
    {
     "name": "stdout",
     "output_type": "stream",
     "text": [
      "Epoch 266: train=46.8898, val=45.9016, took 7.7859 s\n"
     ]
    },
    {
     "data": {
      "application/vnd.jupyter.widget-view+json": {
       "model_id": "",
       "version_major": 2,
       "version_minor": 0
      },
      "text/plain": [
       "HBox(children=(FloatProgress(value=0.0, description='Training', layout=Layout(flex='2'), max=282.0, style=Prog…"
      ]
     },
     "metadata": {},
     "output_type": "display_data"
    },
    {
     "name": "stdout",
     "output_type": "stream",
     "text": [
      "Epoch 267: train=46.8887, val=45.9016, took 9.366 s\n"
     ]
    },
    {
     "data": {
      "application/vnd.jupyter.widget-view+json": {
       "model_id": "",
       "version_major": 2,
       "version_minor": 0
      },
      "text/plain": [
       "HBox(children=(FloatProgress(value=0.0, description='Training', layout=Layout(flex='2'), max=282.0, style=Prog…"
      ]
     },
     "metadata": {},
     "output_type": "display_data"
    },
    {
     "name": "stdout",
     "output_type": "stream",
     "text": [
      "Epoch 268: train=46.8874, val=45.8986, took 9.7319 s\n"
     ]
    },
    {
     "data": {
      "application/vnd.jupyter.widget-view+json": {
       "model_id": "",
       "version_major": 2,
       "version_minor": 0
      },
      "text/plain": [
       "HBox(children=(FloatProgress(value=0.0, description='Training', layout=Layout(flex='2'), max=282.0, style=Prog…"
      ]
     },
     "metadata": {},
     "output_type": "display_data"
    },
    {
     "name": "stdout",
     "output_type": "stream",
     "text": [
      "Epoch 269: train=46.8861, val=45.8976, took 9.6423 s\n"
     ]
    },
    {
     "data": {
      "application/vnd.jupyter.widget-view+json": {
       "model_id": "",
       "version_major": 2,
       "version_minor": 0
      },
      "text/plain": [
       "HBox(children=(FloatProgress(value=0.0, description='Training', layout=Layout(flex='2'), max=282.0, style=Prog…"
      ]
     },
     "metadata": {},
     "output_type": "display_data"
    },
    {
     "name": "stdout",
     "output_type": "stream",
     "text": [
      "Epoch 270: train=46.8848, val=45.896, took 9.7074 s\n"
     ]
    },
    {
     "data": {
      "application/vnd.jupyter.widget-view+json": {
       "model_id": "",
       "version_major": 2,
       "version_minor": 0
      },
      "text/plain": [
       "HBox(children=(FloatProgress(value=0.0, description='Training', layout=Layout(flex='2'), max=282.0, style=Prog…"
      ]
     },
     "metadata": {},
     "output_type": "display_data"
    },
    {
     "name": "stdout",
     "output_type": "stream",
     "text": [
      "Epoch 271: train=46.8834, val=45.8946, took 7.8371 s\n"
     ]
    },
    {
     "data": {
      "application/vnd.jupyter.widget-view+json": {
       "model_id": "",
       "version_major": 2,
       "version_minor": 0
      },
      "text/plain": [
       "HBox(children=(FloatProgress(value=0.0, description='Training', layout=Layout(flex='2'), max=282.0, style=Prog…"
      ]
     },
     "metadata": {},
     "output_type": "display_data"
    },
    {
     "name": "stdout",
     "output_type": "stream",
     "text": [
      "Epoch 272: train=46.8823, val=45.8943, took 9.4103 s\n"
     ]
    },
    {
     "data": {
      "application/vnd.jupyter.widget-view+json": {
       "model_id": "",
       "version_major": 2,
       "version_minor": 0
      },
      "text/plain": [
       "HBox(children=(FloatProgress(value=0.0, description='Training', layout=Layout(flex='2'), max=282.0, style=Prog…"
      ]
     },
     "metadata": {},
     "output_type": "display_data"
    },
    {
     "name": "stdout",
     "output_type": "stream",
     "text": [
      "Epoch 273: train=46.8807, val=45.892, took 7.7253 s\n"
     ]
    },
    {
     "data": {
      "application/vnd.jupyter.widget-view+json": {
       "model_id": "",
       "version_major": 2,
       "version_minor": 0
      },
      "text/plain": [
       "HBox(children=(FloatProgress(value=0.0, description='Training', layout=Layout(flex='2'), max=282.0, style=Prog…"
      ]
     },
     "metadata": {},
     "output_type": "display_data"
    },
    {
     "name": "stdout",
     "output_type": "stream",
     "text": [
      "Epoch 274: train=46.8794, val=45.893, took 7.7036 s\n"
     ]
    },
    {
     "data": {
      "application/vnd.jupyter.widget-view+json": {
       "model_id": "",
       "version_major": 2,
       "version_minor": 0
      },
      "text/plain": [
       "HBox(children=(FloatProgress(value=0.0, description='Training', layout=Layout(flex='2'), max=282.0, style=Prog…"
      ]
     },
     "metadata": {},
     "output_type": "display_data"
    },
    {
     "name": "stdout",
     "output_type": "stream",
     "text": [
      "Epoch 275: train=46.878, val=45.8921, took 7.832 s\n"
     ]
    },
    {
     "data": {
      "application/vnd.jupyter.widget-view+json": {
       "model_id": "",
       "version_major": 2,
       "version_minor": 0
      },
      "text/plain": [
       "HBox(children=(FloatProgress(value=0.0, description='Training', layout=Layout(flex='2'), max=282.0, style=Prog…"
      ]
     },
     "metadata": {},
     "output_type": "display_data"
    },
    {
     "name": "stdout",
     "output_type": "stream",
     "text": [
      "Epoch 276: train=46.8768, val=45.891, took 7.9035 s\n"
     ]
    },
    {
     "data": {
      "application/vnd.jupyter.widget-view+json": {
       "model_id": "",
       "version_major": 2,
       "version_minor": 0
      },
      "text/plain": [
       "HBox(children=(FloatProgress(value=0.0, description='Training', layout=Layout(flex='2'), max=282.0, style=Prog…"
      ]
     },
     "metadata": {},
     "output_type": "display_data"
    },
    {
     "name": "stdout",
     "output_type": "stream",
     "text": [
      "Epoch 277: train=46.8756, val=45.8898, took 7.9469 s\n"
     ]
    },
    {
     "data": {
      "application/vnd.jupyter.widget-view+json": {
       "model_id": "",
       "version_major": 2,
       "version_minor": 0
      },
      "text/plain": [
       "HBox(children=(FloatProgress(value=0.0, description='Training', layout=Layout(flex='2'), max=282.0, style=Prog…"
      ]
     },
     "metadata": {},
     "output_type": "display_data"
    },
    {
     "name": "stdout",
     "output_type": "stream",
     "text": [
      "Epoch 278: train=46.8746, val=45.8885, took 8.0186 s\n"
     ]
    },
    {
     "data": {
      "application/vnd.jupyter.widget-view+json": {
       "model_id": "",
       "version_major": 2,
       "version_minor": 0
      },
      "text/plain": [
       "HBox(children=(FloatProgress(value=0.0, description='Training', layout=Layout(flex='2'), max=282.0, style=Prog…"
      ]
     },
     "metadata": {},
     "output_type": "display_data"
    },
    {
     "name": "stdout",
     "output_type": "stream",
     "text": [
      "Epoch 279: train=46.8733, val=45.8887, took 7.7646 s\n"
     ]
    },
    {
     "data": {
      "application/vnd.jupyter.widget-view+json": {
       "model_id": "",
       "version_major": 2,
       "version_minor": 0
      },
      "text/plain": [
       "HBox(children=(FloatProgress(value=0.0, description='Training', layout=Layout(flex='2'), max=282.0, style=Prog…"
      ]
     },
     "metadata": {},
     "output_type": "display_data"
    },
    {
     "name": "stdout",
     "output_type": "stream",
     "text": [
      "Epoch 280: train=46.8722, val=45.8882, took 8.5771 s\n"
     ]
    },
    {
     "data": {
      "application/vnd.jupyter.widget-view+json": {
       "model_id": "",
       "version_major": 2,
       "version_minor": 0
      },
      "text/plain": [
       "HBox(children=(FloatProgress(value=0.0, description='Training', layout=Layout(flex='2'), max=282.0, style=Prog…"
      ]
     },
     "metadata": {},
     "output_type": "display_data"
    },
    {
     "name": "stdout",
     "output_type": "stream",
     "text": [
      "Epoch 281: train=46.8708, val=45.8875, took 8.5563 s\n"
     ]
    },
    {
     "data": {
      "application/vnd.jupyter.widget-view+json": {
       "model_id": "",
       "version_major": 2,
       "version_minor": 0
      },
      "text/plain": [
       "HBox(children=(FloatProgress(value=0.0, description='Training', layout=Layout(flex='2'), max=282.0, style=Prog…"
      ]
     },
     "metadata": {},
     "output_type": "display_data"
    },
    {
     "name": "stdout",
     "output_type": "stream",
     "text": [
      "Epoch 282: train=46.8697, val=45.8871, took 7.9065 s\n"
     ]
    },
    {
     "data": {
      "application/vnd.jupyter.widget-view+json": {
       "model_id": "",
       "version_major": 2,
       "version_minor": 0
      },
      "text/plain": [
       "HBox(children=(FloatProgress(value=0.0, description='Training', layout=Layout(flex='2'), max=282.0, style=Prog…"
      ]
     },
     "metadata": {},
     "output_type": "display_data"
    },
    {
     "name": "stdout",
     "output_type": "stream",
     "text": [
      "Epoch 283: train=46.8685, val=45.8858, took 7.8452 s\n"
     ]
    },
    {
     "data": {
      "application/vnd.jupyter.widget-view+json": {
       "model_id": "",
       "version_major": 2,
       "version_minor": 0
      },
      "text/plain": [
       "HBox(children=(FloatProgress(value=0.0, description='Training', layout=Layout(flex='2'), max=282.0, style=Prog…"
      ]
     },
     "metadata": {},
     "output_type": "display_data"
    },
    {
     "name": "stdout",
     "output_type": "stream",
     "text": [
      "Epoch 284: train=46.8672, val=45.8845, took 7.9737 s\n"
     ]
    },
    {
     "data": {
      "application/vnd.jupyter.widget-view+json": {
       "model_id": "",
       "version_major": 2,
       "version_minor": 0
      },
      "text/plain": [
       "HBox(children=(FloatProgress(value=0.0, description='Training', layout=Layout(flex='2'), max=282.0, style=Prog…"
      ]
     },
     "metadata": {},
     "output_type": "display_data"
    },
    {
     "name": "stdout",
     "output_type": "stream",
     "text": [
      "Epoch 285: train=46.8661, val=45.8826, took 7.9164 s\n"
     ]
    },
    {
     "data": {
      "application/vnd.jupyter.widget-view+json": {
       "model_id": "",
       "version_major": 2,
       "version_minor": 0
      },
      "text/plain": [
       "HBox(children=(FloatProgress(value=0.0, description='Training', layout=Layout(flex='2'), max=282.0, style=Prog…"
      ]
     },
     "metadata": {},
     "output_type": "display_data"
    },
    {
     "name": "stdout",
     "output_type": "stream",
     "text": [
      "Epoch 286: train=46.8649, val=45.8828, took 7.7515 s\n"
     ]
    },
    {
     "data": {
      "application/vnd.jupyter.widget-view+json": {
       "model_id": "",
       "version_major": 2,
       "version_minor": 0
      },
      "text/plain": [
       "HBox(children=(FloatProgress(value=0.0, description='Training', layout=Layout(flex='2'), max=282.0, style=Prog…"
      ]
     },
     "metadata": {},
     "output_type": "display_data"
    },
    {
     "name": "stdout",
     "output_type": "stream",
     "text": [
      "Epoch 287: train=46.8636, val=45.8815, took 7.8064 s\n"
     ]
    },
    {
     "data": {
      "application/vnd.jupyter.widget-view+json": {
       "model_id": "",
       "version_major": 2,
       "version_minor": 0
      },
      "text/plain": [
       "HBox(children=(FloatProgress(value=0.0, description='Training', layout=Layout(flex='2'), max=282.0, style=Prog…"
      ]
     },
     "metadata": {},
     "output_type": "display_data"
    },
    {
     "name": "stdout",
     "output_type": "stream",
     "text": [
      "Epoch 288: train=46.8624, val=45.8806, took 7.931 s\n"
     ]
    },
    {
     "data": {
      "application/vnd.jupyter.widget-view+json": {
       "model_id": "",
       "version_major": 2,
       "version_minor": 0
      },
      "text/plain": [
       "HBox(children=(FloatProgress(value=0.0, description='Training', layout=Layout(flex='2'), max=282.0, style=Prog…"
      ]
     },
     "metadata": {},
     "output_type": "display_data"
    },
    {
     "name": "stdout",
     "output_type": "stream",
     "text": [
      "Epoch 289: train=46.8613, val=45.8793, took 8.0793 s\n"
     ]
    },
    {
     "data": {
      "application/vnd.jupyter.widget-view+json": {
       "model_id": "",
       "version_major": 2,
       "version_minor": 0
      },
      "text/plain": [
       "HBox(children=(FloatProgress(value=0.0, description='Training', layout=Layout(flex='2'), max=282.0, style=Prog…"
      ]
     },
     "metadata": {},
     "output_type": "display_data"
    },
    {
     "name": "stdout",
     "output_type": "stream",
     "text": [
      "Epoch 290: train=46.8597, val=45.8793, took 8.5948 s\n"
     ]
    },
    {
     "data": {
      "application/vnd.jupyter.widget-view+json": {
       "model_id": "",
       "version_major": 2,
       "version_minor": 0
      },
      "text/plain": [
       "HBox(children=(FloatProgress(value=0.0, description='Training', layout=Layout(flex='2'), max=282.0, style=Prog…"
      ]
     },
     "metadata": {},
     "output_type": "display_data"
    },
    {
     "name": "stdout",
     "output_type": "stream",
     "text": [
      "Epoch 291: train=46.8588, val=45.8772, took 7.7604 s\n"
     ]
    },
    {
     "data": {
      "application/vnd.jupyter.widget-view+json": {
       "model_id": "",
       "version_major": 2,
       "version_minor": 0
      },
      "text/plain": [
       "HBox(children=(FloatProgress(value=0.0, description='Training', layout=Layout(flex='2'), max=282.0, style=Prog…"
      ]
     },
     "metadata": {},
     "output_type": "display_data"
    },
    {
     "name": "stdout",
     "output_type": "stream",
     "text": [
      "Epoch 292: train=46.8576, val=45.8771, took 7.8346 s\n"
     ]
    },
    {
     "data": {
      "application/vnd.jupyter.widget-view+json": {
       "model_id": "",
       "version_major": 2,
       "version_minor": 0
      },
      "text/plain": [
       "HBox(children=(FloatProgress(value=0.0, description='Training', layout=Layout(flex='2'), max=282.0, style=Prog…"
      ]
     },
     "metadata": {},
     "output_type": "display_data"
    },
    {
     "name": "stdout",
     "output_type": "stream",
     "text": [
      "Epoch 293: train=46.8563, val=45.8761, took 7.8462 s\n"
     ]
    },
    {
     "data": {
      "application/vnd.jupyter.widget-view+json": {
       "model_id": "",
       "version_major": 2,
       "version_minor": 0
      },
      "text/plain": [
       "HBox(children=(FloatProgress(value=0.0, description='Training', layout=Layout(flex='2'), max=282.0, style=Prog…"
      ]
     },
     "metadata": {},
     "output_type": "display_data"
    },
    {
     "name": "stdout",
     "output_type": "stream",
     "text": [
      "Epoch 294: train=46.8552, val=45.8761, took 8.8253 s\n"
     ]
    },
    {
     "data": {
      "application/vnd.jupyter.widget-view+json": {
       "model_id": "",
       "version_major": 2,
       "version_minor": 0
      },
      "text/plain": [
       "HBox(children=(FloatProgress(value=0.0, description='Training', layout=Layout(flex='2'), max=282.0, style=Prog…"
      ]
     },
     "metadata": {},
     "output_type": "display_data"
    },
    {
     "name": "stdout",
     "output_type": "stream",
     "text": [
      "Epoch 295: train=46.854, val=45.8756, took 8.7015 s\n"
     ]
    },
    {
     "data": {
      "application/vnd.jupyter.widget-view+json": {
       "model_id": "",
       "version_major": 2,
       "version_minor": 0
      },
      "text/plain": [
       "HBox(children=(FloatProgress(value=0.0, description='Training', layout=Layout(flex='2'), max=282.0, style=Prog…"
      ]
     },
     "metadata": {},
     "output_type": "display_data"
    },
    {
     "name": "stdout",
     "output_type": "stream",
     "text": [
      "Epoch 296: train=46.8529, val=45.8745, took 7.798 s\n"
     ]
    },
    {
     "data": {
      "application/vnd.jupyter.widget-view+json": {
       "model_id": "",
       "version_major": 2,
       "version_minor": 0
      },
      "text/plain": [
       "HBox(children=(FloatProgress(value=0.0, description='Training', layout=Layout(flex='2'), max=282.0, style=Prog…"
      ]
     },
     "metadata": {},
     "output_type": "display_data"
    },
    {
     "name": "stdout",
     "output_type": "stream",
     "text": [
      "Epoch 297: train=46.8516, val=45.8732, took 8.1514 s\n"
     ]
    },
    {
     "data": {
      "application/vnd.jupyter.widget-view+json": {
       "model_id": "",
       "version_major": 2,
       "version_minor": 0
      },
      "text/plain": [
       "HBox(children=(FloatProgress(value=0.0, description='Training', layout=Layout(flex='2'), max=282.0, style=Prog…"
      ]
     },
     "metadata": {},
     "output_type": "display_data"
    },
    {
     "name": "stdout",
     "output_type": "stream",
     "text": [
      "Epoch 298: train=46.8508, val=45.8738, took 7.7844 s\n"
     ]
    },
    {
     "data": {
      "application/vnd.jupyter.widget-view+json": {
       "model_id": "",
       "version_major": 2,
       "version_minor": 0
      },
      "text/plain": [
       "HBox(children=(FloatProgress(value=0.0, description='Training', layout=Layout(flex='2'), max=282.0, style=Prog…"
      ]
     },
     "metadata": {},
     "output_type": "display_data"
    },
    {
     "name": "stdout",
     "output_type": "stream",
     "text": [
      "Epoch 299: train=46.8495, val=45.8733, took 7.8281 s\n"
     ]
    },
    {
     "data": {
      "application/vnd.jupyter.widget-view+json": {
       "model_id": "",
       "version_major": 2,
       "version_minor": 0
      },
      "text/plain": [
       "HBox(children=(FloatProgress(value=0.0, description='Training', layout=Layout(flex='2'), max=282.0, style=Prog…"
      ]
     },
     "metadata": {},
     "output_type": "display_data"
    },
    {
     "name": "stdout",
     "output_type": "stream",
     "text": [
      "Epoch 300: train=46.8481, val=45.8713, took 8.2989 s\n"
     ]
    },
    {
     "data": {
      "application/vnd.jupyter.widget-view+json": {
       "model_id": "",
       "version_major": 2,
       "version_minor": 0
      },
      "text/plain": [
       "HBox(children=(FloatProgress(value=0.0, description='Training', layout=Layout(flex='2'), max=282.0, style=Prog…"
      ]
     },
     "metadata": {},
     "output_type": "display_data"
    },
    {
     "name": "stdout",
     "output_type": "stream",
     "text": [
      "Epoch 301: train=46.8469, val=45.8701, took 8.0313 s\n"
     ]
    },
    {
     "data": {
      "application/vnd.jupyter.widget-view+json": {
       "model_id": "",
       "version_major": 2,
       "version_minor": 0
      },
      "text/plain": [
       "HBox(children=(FloatProgress(value=0.0, description='Training', layout=Layout(flex='2'), max=282.0, style=Prog…"
      ]
     },
     "metadata": {},
     "output_type": "display_data"
    },
    {
     "name": "stdout",
     "output_type": "stream",
     "text": [
      "Epoch 302: train=46.8459, val=45.8697, took 8.0692 s\n"
     ]
    },
    {
     "data": {
      "application/vnd.jupyter.widget-view+json": {
       "model_id": "",
       "version_major": 2,
       "version_minor": 0
      },
      "text/plain": [
       "HBox(children=(FloatProgress(value=0.0, description='Training', layout=Layout(flex='2'), max=282.0, style=Prog…"
      ]
     },
     "metadata": {},
     "output_type": "display_data"
    },
    {
     "name": "stdout",
     "output_type": "stream",
     "text": [
      "Epoch 303: train=46.845, val=45.8693, took 7.9868 s\n"
     ]
    },
    {
     "data": {
      "application/vnd.jupyter.widget-view+json": {
       "model_id": "",
       "version_major": 2,
       "version_minor": 0
      },
      "text/plain": [
       "HBox(children=(FloatProgress(value=0.0, description='Training', layout=Layout(flex='2'), max=282.0, style=Prog…"
      ]
     },
     "metadata": {},
     "output_type": "display_data"
    },
    {
     "name": "stdout",
     "output_type": "stream",
     "text": [
      "Epoch 304: train=46.8439, val=45.8694, took 8.5556 s\n"
     ]
    },
    {
     "data": {
      "application/vnd.jupyter.widget-view+json": {
       "model_id": "",
       "version_major": 2,
       "version_minor": 0
      },
      "text/plain": [
       "HBox(children=(FloatProgress(value=0.0, description='Training', layout=Layout(flex='2'), max=282.0, style=Prog…"
      ]
     },
     "metadata": {},
     "output_type": "display_data"
    },
    {
     "name": "stdout",
     "output_type": "stream",
     "text": [
      "Epoch 305: train=46.8427, val=45.8667, took 7.9191 s\n"
     ]
    },
    {
     "data": {
      "application/vnd.jupyter.widget-view+json": {
       "model_id": "",
       "version_major": 2,
       "version_minor": 0
      },
      "text/plain": [
       "HBox(children=(FloatProgress(value=0.0, description='Training', layout=Layout(flex='2'), max=282.0, style=Prog…"
      ]
     },
     "metadata": {},
     "output_type": "display_data"
    },
    {
     "name": "stdout",
     "output_type": "stream",
     "text": [
      "Epoch 306: train=46.8417, val=45.865, took 8.2055 s\n"
     ]
    },
    {
     "data": {
      "application/vnd.jupyter.widget-view+json": {
       "model_id": "",
       "version_major": 2,
       "version_minor": 0
      },
      "text/plain": [
       "HBox(children=(FloatProgress(value=0.0, description='Training', layout=Layout(flex='2'), max=282.0, style=Prog…"
      ]
     },
     "metadata": {},
     "output_type": "display_data"
    },
    {
     "name": "stdout",
     "output_type": "stream",
     "text": [
      "Epoch 307: train=46.8403, val=45.863, took 8.1533 s\n"
     ]
    },
    {
     "data": {
      "application/vnd.jupyter.widget-view+json": {
       "model_id": "",
       "version_major": 2,
       "version_minor": 0
      },
      "text/plain": [
       "HBox(children=(FloatProgress(value=0.0, description='Training', layout=Layout(flex='2'), max=282.0, style=Prog…"
      ]
     },
     "metadata": {},
     "output_type": "display_data"
    },
    {
     "name": "stdout",
     "output_type": "stream",
     "text": [
      "Epoch 308: train=46.8392, val=45.8628, took 7.9555 s\n"
     ]
    },
    {
     "data": {
      "application/vnd.jupyter.widget-view+json": {
       "model_id": "",
       "version_major": 2,
       "version_minor": 0
      },
      "text/plain": [
       "HBox(children=(FloatProgress(value=0.0, description='Training', layout=Layout(flex='2'), max=282.0, style=Prog…"
      ]
     },
     "metadata": {},
     "output_type": "display_data"
    },
    {
     "name": "stdout",
     "output_type": "stream",
     "text": [
      "Epoch 309: train=46.838, val=45.8621, took 8.058 s\n"
     ]
    },
    {
     "data": {
      "application/vnd.jupyter.widget-view+json": {
       "model_id": "",
       "version_major": 2,
       "version_minor": 0
      },
      "text/plain": [
       "HBox(children=(FloatProgress(value=0.0, description='Training', layout=Layout(flex='2'), max=282.0, style=Prog…"
      ]
     },
     "metadata": {},
     "output_type": "display_data"
    },
    {
     "name": "stdout",
     "output_type": "stream",
     "text": [
      "Epoch 310: train=46.8369, val=45.8619, took 8.0157 s\n"
     ]
    },
    {
     "data": {
      "application/vnd.jupyter.widget-view+json": {
       "model_id": "",
       "version_major": 2,
       "version_minor": 0
      },
      "text/plain": [
       "HBox(children=(FloatProgress(value=0.0, description='Training', layout=Layout(flex='2'), max=282.0, style=Prog…"
      ]
     },
     "metadata": {},
     "output_type": "display_data"
    },
    {
     "name": "stdout",
     "output_type": "stream",
     "text": [
      "Epoch 311: train=46.8357, val=45.8608, took 8.0179 s\n"
     ]
    },
    {
     "data": {
      "application/vnd.jupyter.widget-view+json": {
       "model_id": "",
       "version_major": 2,
       "version_minor": 0
      },
      "text/plain": [
       "HBox(children=(FloatProgress(value=0.0, description='Training', layout=Layout(flex='2'), max=282.0, style=Prog…"
      ]
     },
     "metadata": {},
     "output_type": "display_data"
    },
    {
     "name": "stdout",
     "output_type": "stream",
     "text": [
      "Epoch 312: train=46.8347, val=45.8582, took 7.7196 s\n"
     ]
    },
    {
     "data": {
      "application/vnd.jupyter.widget-view+json": {
       "model_id": "",
       "version_major": 2,
       "version_minor": 0
      },
      "text/plain": [
       "HBox(children=(FloatProgress(value=0.0, description='Training', layout=Layout(flex='2'), max=282.0, style=Prog…"
      ]
     },
     "metadata": {},
     "output_type": "display_data"
    },
    {
     "name": "stdout",
     "output_type": "stream",
     "text": [
      "Epoch 313: train=46.8331, val=45.8586, took 7.8145 s\n"
     ]
    },
    {
     "data": {
      "application/vnd.jupyter.widget-view+json": {
       "model_id": "",
       "version_major": 2,
       "version_minor": 0
      },
      "text/plain": [
       "HBox(children=(FloatProgress(value=0.0, description='Training', layout=Layout(flex='2'), max=282.0, style=Prog…"
      ]
     },
     "metadata": {},
     "output_type": "display_data"
    },
    {
     "name": "stdout",
     "output_type": "stream",
     "text": [
      "Epoch 314: train=46.8323, val=45.8573, took 7.7733 s\n"
     ]
    },
    {
     "data": {
      "application/vnd.jupyter.widget-view+json": {
       "model_id": "",
       "version_major": 2,
       "version_minor": 0
      },
      "text/plain": [
       "HBox(children=(FloatProgress(value=0.0, description='Training', layout=Layout(flex='2'), max=282.0, style=Prog…"
      ]
     },
     "metadata": {},
     "output_type": "display_data"
    },
    {
     "name": "stdout",
     "output_type": "stream",
     "text": [
      "Epoch 315: train=46.8309, val=45.8567, took 7.7962 s\n"
     ]
    },
    {
     "data": {
      "application/vnd.jupyter.widget-view+json": {
       "model_id": "",
       "version_major": 2,
       "version_minor": 0
      },
      "text/plain": [
       "HBox(children=(FloatProgress(value=0.0, description='Training', layout=Layout(flex='2'), max=282.0, style=Prog…"
      ]
     },
     "metadata": {},
     "output_type": "display_data"
    },
    {
     "name": "stdout",
     "output_type": "stream",
     "text": [
      "Epoch 316: train=46.83, val=45.8545, took 7.8514 s\n"
     ]
    },
    {
     "data": {
      "application/vnd.jupyter.widget-view+json": {
       "model_id": "",
       "version_major": 2,
       "version_minor": 0
      },
      "text/plain": [
       "HBox(children=(FloatProgress(value=0.0, description='Training', layout=Layout(flex='2'), max=282.0, style=Prog…"
      ]
     },
     "metadata": {},
     "output_type": "display_data"
    },
    {
     "name": "stdout",
     "output_type": "stream",
     "text": [
      "Epoch 317: train=46.8286, val=45.8561, took 7.6732 s\n"
     ]
    },
    {
     "data": {
      "application/vnd.jupyter.widget-view+json": {
       "model_id": "",
       "version_major": 2,
       "version_minor": 0
      },
      "text/plain": [
       "HBox(children=(FloatProgress(value=0.0, description='Training', layout=Layout(flex='2'), max=282.0, style=Prog…"
      ]
     },
     "metadata": {},
     "output_type": "display_data"
    },
    {
     "name": "stdout",
     "output_type": "stream",
     "text": [
      "Epoch 318: train=46.8276, val=45.8527, took 7.72 s\n"
     ]
    },
    {
     "data": {
      "application/vnd.jupyter.widget-view+json": {
       "model_id": "",
       "version_major": 2,
       "version_minor": 0
      },
      "text/plain": [
       "HBox(children=(FloatProgress(value=0.0, description='Training', layout=Layout(flex='2'), max=282.0, style=Prog…"
      ]
     },
     "metadata": {},
     "output_type": "display_data"
    },
    {
     "name": "stdout",
     "output_type": "stream",
     "text": [
      "Epoch 319: train=46.8263, val=45.8516, took 7.6676 s\n"
     ]
    },
    {
     "data": {
      "application/vnd.jupyter.widget-view+json": {
       "model_id": "",
       "version_major": 2,
       "version_minor": 0
      },
      "text/plain": [
       "HBox(children=(FloatProgress(value=0.0, description='Training', layout=Layout(flex='2'), max=282.0, style=Prog…"
      ]
     },
     "metadata": {},
     "output_type": "display_data"
    },
    {
     "name": "stdout",
     "output_type": "stream",
     "text": [
      "Epoch 320: train=46.825, val=45.8508, took 8.7191 s\n"
     ]
    },
    {
     "data": {
      "application/vnd.jupyter.widget-view+json": {
       "model_id": "",
       "version_major": 2,
       "version_minor": 0
      },
      "text/plain": [
       "HBox(children=(FloatProgress(value=0.0, description='Training', layout=Layout(flex='2'), max=282.0, style=Prog…"
      ]
     },
     "metadata": {},
     "output_type": "display_data"
    },
    {
     "name": "stdout",
     "output_type": "stream",
     "text": [
      "Epoch 321: train=46.8238, val=45.8511, took 8.1438 s\n"
     ]
    },
    {
     "data": {
      "application/vnd.jupyter.widget-view+json": {
       "model_id": "",
       "version_major": 2,
       "version_minor": 0
      },
      "text/plain": [
       "HBox(children=(FloatProgress(value=0.0, description='Training', layout=Layout(flex='2'), max=282.0, style=Prog…"
      ]
     },
     "metadata": {},
     "output_type": "display_data"
    },
    {
     "name": "stdout",
     "output_type": "stream",
     "text": [
      "Epoch 322: train=46.8228, val=45.8499, took 7.7455 s\n"
     ]
    },
    {
     "data": {
      "application/vnd.jupyter.widget-view+json": {
       "model_id": "",
       "version_major": 2,
       "version_minor": 0
      },
      "text/plain": [
       "HBox(children=(FloatProgress(value=0.0, description='Training', layout=Layout(flex='2'), max=282.0, style=Prog…"
      ]
     },
     "metadata": {},
     "output_type": "display_data"
    },
    {
     "name": "stdout",
     "output_type": "stream",
     "text": [
      "Epoch 323: train=46.8216, val=45.8499, took 7.7453 s\n"
     ]
    },
    {
     "data": {
      "application/vnd.jupyter.widget-view+json": {
       "model_id": "",
       "version_major": 2,
       "version_minor": 0
      },
      "text/plain": [
       "HBox(children=(FloatProgress(value=0.0, description='Training', layout=Layout(flex='2'), max=282.0, style=Prog…"
      ]
     },
     "metadata": {},
     "output_type": "display_data"
    },
    {
     "name": "stdout",
     "output_type": "stream",
     "text": [
      "Epoch 324: train=46.8205, val=45.8509, took 7.6828 s\n"
     ]
    },
    {
     "data": {
      "application/vnd.jupyter.widget-view+json": {
       "model_id": "",
       "version_major": 2,
       "version_minor": 0
      },
      "text/plain": [
       "HBox(children=(FloatProgress(value=0.0, description='Training', layout=Layout(flex='2'), max=282.0, style=Prog…"
      ]
     },
     "metadata": {},
     "output_type": "display_data"
    },
    {
     "name": "stdout",
     "output_type": "stream",
     "text": [
      "Epoch 325: train=46.8191, val=45.8485, took 7.6803 s\n"
     ]
    },
    {
     "data": {
      "application/vnd.jupyter.widget-view+json": {
       "model_id": "",
       "version_major": 2,
       "version_minor": 0
      },
      "text/plain": [
       "HBox(children=(FloatProgress(value=0.0, description='Training', layout=Layout(flex='2'), max=282.0, style=Prog…"
      ]
     },
     "metadata": {},
     "output_type": "display_data"
    },
    {
     "name": "stdout",
     "output_type": "stream",
     "text": [
      "Epoch 326: train=46.8178, val=45.8483, took 7.7706 s\n"
     ]
    },
    {
     "data": {
      "application/vnd.jupyter.widget-view+json": {
       "model_id": "",
       "version_major": 2,
       "version_minor": 0
      },
      "text/plain": [
       "HBox(children=(FloatProgress(value=0.0, description='Training', layout=Layout(flex='2'), max=282.0, style=Prog…"
      ]
     },
     "metadata": {},
     "output_type": "display_data"
    },
    {
     "name": "stdout",
     "output_type": "stream",
     "text": [
      "Epoch 327: train=46.8167, val=45.8487, took 7.7586 s\n"
     ]
    },
    {
     "data": {
      "application/vnd.jupyter.widget-view+json": {
       "model_id": "",
       "version_major": 2,
       "version_minor": 0
      },
      "text/plain": [
       "HBox(children=(FloatProgress(value=0.0, description='Training', layout=Layout(flex='2'), max=282.0, style=Prog…"
      ]
     },
     "metadata": {},
     "output_type": "display_data"
    },
    {
     "name": "stdout",
     "output_type": "stream",
     "text": [
      "Epoch 328: train=46.8155, val=45.8481, took 7.6727 s\n"
     ]
    },
    {
     "data": {
      "application/vnd.jupyter.widget-view+json": {
       "model_id": "",
       "version_major": 2,
       "version_minor": 0
      },
      "text/plain": [
       "HBox(children=(FloatProgress(value=0.0, description='Training', layout=Layout(flex='2'), max=282.0, style=Prog…"
      ]
     },
     "metadata": {},
     "output_type": "display_data"
    },
    {
     "name": "stdout",
     "output_type": "stream",
     "text": [
      "Epoch 329: train=46.8142, val=45.8474, took 7.6829 s\n"
     ]
    },
    {
     "data": {
      "application/vnd.jupyter.widget-view+json": {
       "model_id": "",
       "version_major": 2,
       "version_minor": 0
      },
      "text/plain": [
       "HBox(children=(FloatProgress(value=0.0, description='Training', layout=Layout(flex='2'), max=282.0, style=Prog…"
      ]
     },
     "metadata": {},
     "output_type": "display_data"
    },
    {
     "name": "stdout",
     "output_type": "stream",
     "text": [
      "Epoch 330: train=46.813, val=45.8473, took 7.7004 s\n"
     ]
    },
    {
     "data": {
      "application/vnd.jupyter.widget-view+json": {
       "model_id": "",
       "version_major": 2,
       "version_minor": 0
      },
      "text/plain": [
       "HBox(children=(FloatProgress(value=0.0, description='Training', layout=Layout(flex='2'), max=282.0, style=Prog…"
      ]
     },
     "metadata": {},
     "output_type": "display_data"
    },
    {
     "name": "stdout",
     "output_type": "stream",
     "text": [
      "Epoch 331: train=46.8116, val=45.8467, took 7.7045 s\n"
     ]
    },
    {
     "data": {
      "application/vnd.jupyter.widget-view+json": {
       "model_id": "",
       "version_major": 2,
       "version_minor": 0
      },
      "text/plain": [
       "HBox(children=(FloatProgress(value=0.0, description='Training', layout=Layout(flex='2'), max=282.0, style=Prog…"
      ]
     },
     "metadata": {},
     "output_type": "display_data"
    },
    {
     "name": "stdout",
     "output_type": "stream",
     "text": [
      "Epoch 332: train=46.8103, val=45.845, took 7.6684 s\n"
     ]
    },
    {
     "data": {
      "application/vnd.jupyter.widget-view+json": {
       "model_id": "",
       "version_major": 2,
       "version_minor": 0
      },
      "text/plain": [
       "HBox(children=(FloatProgress(value=0.0, description='Training', layout=Layout(flex='2'), max=282.0, style=Prog…"
      ]
     },
     "metadata": {},
     "output_type": "display_data"
    },
    {
     "name": "stdout",
     "output_type": "stream",
     "text": [
      "Epoch 333: train=46.8091, val=45.8447, took 7.6101 s\n"
     ]
    },
    {
     "data": {
      "application/vnd.jupyter.widget-view+json": {
       "model_id": "",
       "version_major": 2,
       "version_minor": 0
      },
      "text/plain": [
       "HBox(children=(FloatProgress(value=0.0, description='Training', layout=Layout(flex='2'), max=282.0, style=Prog…"
      ]
     },
     "metadata": {},
     "output_type": "display_data"
    },
    {
     "name": "stdout",
     "output_type": "stream",
     "text": [
      "Epoch 334: train=46.8079, val=45.8426, took 7.6844 s\n"
     ]
    },
    {
     "data": {
      "application/vnd.jupyter.widget-view+json": {
       "model_id": "",
       "version_major": 2,
       "version_minor": 0
      },
      "text/plain": [
       "HBox(children=(FloatProgress(value=0.0, description='Training', layout=Layout(flex='2'), max=282.0, style=Prog…"
      ]
     },
     "metadata": {},
     "output_type": "display_data"
    },
    {
     "name": "stdout",
     "output_type": "stream",
     "text": [
      "Epoch 335: train=46.8067, val=45.8424, took 7.6288 s\n"
     ]
    },
    {
     "data": {
      "application/vnd.jupyter.widget-view+json": {
       "model_id": "",
       "version_major": 2,
       "version_minor": 0
      },
      "text/plain": [
       "HBox(children=(FloatProgress(value=0.0, description='Training', layout=Layout(flex='2'), max=282.0, style=Prog…"
      ]
     },
     "metadata": {},
     "output_type": "display_data"
    },
    {
     "name": "stdout",
     "output_type": "stream",
     "text": [
      "Epoch 336: train=46.8055, val=45.8408, took 7.7271 s\n"
     ]
    },
    {
     "data": {
      "application/vnd.jupyter.widget-view+json": {
       "model_id": "",
       "version_major": 2,
       "version_minor": 0
      },
      "text/plain": [
       "HBox(children=(FloatProgress(value=0.0, description='Training', layout=Layout(flex='2'), max=282.0, style=Prog…"
      ]
     },
     "metadata": {},
     "output_type": "display_data"
    },
    {
     "name": "stdout",
     "output_type": "stream",
     "text": [
      "Epoch 337: train=46.8045, val=45.8395, took 7.7204 s\n"
     ]
    },
    {
     "data": {
      "application/vnd.jupyter.widget-view+json": {
       "model_id": "",
       "version_major": 2,
       "version_minor": 0
      },
      "text/plain": [
       "HBox(children=(FloatProgress(value=0.0, description='Training', layout=Layout(flex='2'), max=282.0, style=Prog…"
      ]
     },
     "metadata": {},
     "output_type": "display_data"
    },
    {
     "name": "stdout",
     "output_type": "stream",
     "text": [
      "Epoch 338: train=46.8035, val=45.8393, took 7.7496 s\n"
     ]
    },
    {
     "data": {
      "application/vnd.jupyter.widget-view+json": {
       "model_id": "",
       "version_major": 2,
       "version_minor": 0
      },
      "text/plain": [
       "HBox(children=(FloatProgress(value=0.0, description='Training', layout=Layout(flex='2'), max=282.0, style=Prog…"
      ]
     },
     "metadata": {},
     "output_type": "display_data"
    },
    {
     "name": "stdout",
     "output_type": "stream",
     "text": [
      "Epoch 339: train=46.8022, val=45.8382, took 7.6589 s\n"
     ]
    },
    {
     "data": {
      "application/vnd.jupyter.widget-view+json": {
       "model_id": "",
       "version_major": 2,
       "version_minor": 0
      },
      "text/plain": [
       "HBox(children=(FloatProgress(value=0.0, description='Training', layout=Layout(flex='2'), max=282.0, style=Prog…"
      ]
     },
     "metadata": {},
     "output_type": "display_data"
    },
    {
     "name": "stdout",
     "output_type": "stream",
     "text": [
      "Epoch 340: train=46.801, val=45.8375, took 7.9988 s\n"
     ]
    },
    {
     "data": {
      "application/vnd.jupyter.widget-view+json": {
       "model_id": "",
       "version_major": 2,
       "version_minor": 0
      },
      "text/plain": [
       "HBox(children=(FloatProgress(value=0.0, description='Training', layout=Layout(flex='2'), max=282.0, style=Prog…"
      ]
     },
     "metadata": {},
     "output_type": "display_data"
    },
    {
     "name": "stdout",
     "output_type": "stream",
     "text": [
      "Epoch 341: train=46.7999, val=45.836, took 7.6979 s\n"
     ]
    },
    {
     "data": {
      "application/vnd.jupyter.widget-view+json": {
       "model_id": "",
       "version_major": 2,
       "version_minor": 0
      },
      "text/plain": [
       "HBox(children=(FloatProgress(value=0.0, description='Training', layout=Layout(flex='2'), max=282.0, style=Prog…"
      ]
     },
     "metadata": {},
     "output_type": "display_data"
    },
    {
     "name": "stdout",
     "output_type": "stream",
     "text": [
      "Epoch 342: train=46.7983, val=45.8351, took 7.7015 s\n"
     ]
    },
    {
     "data": {
      "application/vnd.jupyter.widget-view+json": {
       "model_id": "",
       "version_major": 2,
       "version_minor": 0
      },
      "text/plain": [
       "HBox(children=(FloatProgress(value=0.0, description='Training', layout=Layout(flex='2'), max=282.0, style=Prog…"
      ]
     },
     "metadata": {},
     "output_type": "display_data"
    },
    {
     "name": "stdout",
     "output_type": "stream",
     "text": [
      "Epoch 343: train=46.7972, val=45.8336, took 7.707 s\n"
     ]
    },
    {
     "data": {
      "application/vnd.jupyter.widget-view+json": {
       "model_id": "",
       "version_major": 2,
       "version_minor": 0
      },
      "text/plain": [
       "HBox(children=(FloatProgress(value=0.0, description='Training', layout=Layout(flex='2'), max=282.0, style=Prog…"
      ]
     },
     "metadata": {},
     "output_type": "display_data"
    },
    {
     "name": "stdout",
     "output_type": "stream",
     "text": [
      "Epoch 344: train=46.796, val=45.8325, took 8.0744 s\n"
     ]
    },
    {
     "data": {
      "application/vnd.jupyter.widget-view+json": {
       "model_id": "",
       "version_major": 2,
       "version_minor": 0
      },
      "text/plain": [
       "HBox(children=(FloatProgress(value=0.0, description='Training', layout=Layout(flex='2'), max=282.0, style=Prog…"
      ]
     },
     "metadata": {},
     "output_type": "display_data"
    },
    {
     "name": "stdout",
     "output_type": "stream",
     "text": [
      "Epoch 345: train=46.7949, val=45.8319, took 7.8805 s\n"
     ]
    },
    {
     "data": {
      "application/vnd.jupyter.widget-view+json": {
       "model_id": "",
       "version_major": 2,
       "version_minor": 0
      },
      "text/plain": [
       "HBox(children=(FloatProgress(value=0.0, description='Training', layout=Layout(flex='2'), max=282.0, style=Prog…"
      ]
     },
     "metadata": {},
     "output_type": "display_data"
    },
    {
     "name": "stdout",
     "output_type": "stream",
     "text": [
      "Epoch 346: train=46.7937, val=45.8295, took 7.7589 s\n"
     ]
    },
    {
     "data": {
      "application/vnd.jupyter.widget-view+json": {
       "model_id": "",
       "version_major": 2,
       "version_minor": 0
      },
      "text/plain": [
       "HBox(children=(FloatProgress(value=0.0, description='Training', layout=Layout(flex='2'), max=282.0, style=Prog…"
      ]
     },
     "metadata": {},
     "output_type": "display_data"
    },
    {
     "name": "stdout",
     "output_type": "stream",
     "text": [
      "Epoch 347: train=46.7927, val=45.8279, took 8.0147 s\n"
     ]
    },
    {
     "data": {
      "application/vnd.jupyter.widget-view+json": {
       "model_id": "",
       "version_major": 2,
       "version_minor": 0
      },
      "text/plain": [
       "HBox(children=(FloatProgress(value=0.0, description='Training', layout=Layout(flex='2'), max=282.0, style=Prog…"
      ]
     },
     "metadata": {},
     "output_type": "display_data"
    },
    {
     "name": "stdout",
     "output_type": "stream",
     "text": [
      "Epoch 348: train=46.7914, val=45.8286, took 7.7292 s\n"
     ]
    },
    {
     "data": {
      "application/vnd.jupyter.widget-view+json": {
       "model_id": "",
       "version_major": 2,
       "version_minor": 0
      },
      "text/plain": [
       "HBox(children=(FloatProgress(value=0.0, description='Training', layout=Layout(flex='2'), max=282.0, style=Prog…"
      ]
     },
     "metadata": {},
     "output_type": "display_data"
    },
    {
     "name": "stdout",
     "output_type": "stream",
     "text": [
      "Epoch 349: train=46.7898, val=45.8278, took 7.6394 s\n"
     ]
    },
    {
     "data": {
      "application/vnd.jupyter.widget-view+json": {
       "model_id": "",
       "version_major": 2,
       "version_minor": 0
      },
      "text/plain": [
       "HBox(children=(FloatProgress(value=0.0, description='Training', layout=Layout(flex='2'), max=282.0, style=Prog…"
      ]
     },
     "metadata": {},
     "output_type": "display_data"
    },
    {
     "name": "stdout",
     "output_type": "stream",
     "text": [
      "Epoch 350: train=46.7888, val=45.827, took 7.6399 s\n"
     ]
    },
    {
     "data": {
      "application/vnd.jupyter.widget-view+json": {
       "model_id": "",
       "version_major": 2,
       "version_minor": 0
      },
      "text/plain": [
       "HBox(children=(FloatProgress(value=0.0, description='Training', layout=Layout(flex='2'), max=282.0, style=Prog…"
      ]
     },
     "metadata": {},
     "output_type": "display_data"
    },
    {
     "name": "stdout",
     "output_type": "stream",
     "text": [
      "Epoch 351: train=46.7875, val=45.8252, took 7.5561 s\n"
     ]
    },
    {
     "data": {
      "application/vnd.jupyter.widget-view+json": {
       "model_id": "",
       "version_major": 2,
       "version_minor": 0
      },
      "text/plain": [
       "HBox(children=(FloatProgress(value=0.0, description='Training', layout=Layout(flex='2'), max=282.0, style=Prog…"
      ]
     },
     "metadata": {},
     "output_type": "display_data"
    },
    {
     "name": "stdout",
     "output_type": "stream",
     "text": [
      "Epoch 352: train=46.7863, val=45.8248, took 7.5661 s\n"
     ]
    },
    {
     "data": {
      "application/vnd.jupyter.widget-view+json": {
       "model_id": "",
       "version_major": 2,
       "version_minor": 0
      },
      "text/plain": [
       "HBox(children=(FloatProgress(value=0.0, description='Training', layout=Layout(flex='2'), max=282.0, style=Prog…"
      ]
     },
     "metadata": {},
     "output_type": "display_data"
    },
    {
     "name": "stdout",
     "output_type": "stream",
     "text": [
      "Epoch 353: train=46.785, val=45.8238, took 7.4152 s\n"
     ]
    },
    {
     "data": {
      "application/vnd.jupyter.widget-view+json": {
       "model_id": "",
       "version_major": 2,
       "version_minor": 0
      },
      "text/plain": [
       "HBox(children=(FloatProgress(value=0.0, description='Training', layout=Layout(flex='2'), max=282.0, style=Prog…"
      ]
     },
     "metadata": {},
     "output_type": "display_data"
    },
    {
     "name": "stdout",
     "output_type": "stream",
     "text": [
      "Epoch 354: train=46.7837, val=45.8229, took 7.3846 s\n"
     ]
    },
    {
     "data": {
      "application/vnd.jupyter.widget-view+json": {
       "model_id": "",
       "version_major": 2,
       "version_minor": 0
      },
      "text/plain": [
       "HBox(children=(FloatProgress(value=0.0, description='Training', layout=Layout(flex='2'), max=282.0, style=Prog…"
      ]
     },
     "metadata": {},
     "output_type": "display_data"
    },
    {
     "name": "stdout",
     "output_type": "stream",
     "text": [
      "Epoch 355: train=46.7826, val=45.8221, took 7.3906 s\n"
     ]
    },
    {
     "data": {
      "application/vnd.jupyter.widget-view+json": {
       "model_id": "",
       "version_major": 2,
       "version_minor": 0
      },
      "text/plain": [
       "HBox(children=(FloatProgress(value=0.0, description='Training', layout=Layout(flex='2'), max=282.0, style=Prog…"
      ]
     },
     "metadata": {},
     "output_type": "display_data"
    },
    {
     "name": "stdout",
     "output_type": "stream",
     "text": [
      "Epoch 356: train=46.7812, val=45.8211, took 7.3801 s\n"
     ]
    },
    {
     "data": {
      "application/vnd.jupyter.widget-view+json": {
       "model_id": "",
       "version_major": 2,
       "version_minor": 0
      },
      "text/plain": [
       "HBox(children=(FloatProgress(value=0.0, description='Training', layout=Layout(flex='2'), max=282.0, style=Prog…"
      ]
     },
     "metadata": {},
     "output_type": "display_data"
    },
    {
     "name": "stdout",
     "output_type": "stream",
     "text": [
      "Epoch 357: train=46.78, val=45.8194, took 7.3726 s\n"
     ]
    },
    {
     "data": {
      "application/vnd.jupyter.widget-view+json": {
       "model_id": "",
       "version_major": 2,
       "version_minor": 0
      },
      "text/plain": [
       "HBox(children=(FloatProgress(value=0.0, description='Training', layout=Layout(flex='2'), max=282.0, style=Prog…"
      ]
     },
     "metadata": {},
     "output_type": "display_data"
    },
    {
     "name": "stdout",
     "output_type": "stream",
     "text": [
      "Epoch 358: train=46.7786, val=45.8203, took 7.3755 s\n"
     ]
    },
    {
     "data": {
      "application/vnd.jupyter.widget-view+json": {
       "model_id": "",
       "version_major": 2,
       "version_minor": 0
      },
      "text/plain": [
       "HBox(children=(FloatProgress(value=0.0, description='Training', layout=Layout(flex='2'), max=282.0, style=Prog…"
      ]
     },
     "metadata": {},
     "output_type": "display_data"
    },
    {
     "name": "stdout",
     "output_type": "stream",
     "text": [
      "Epoch 359: train=46.7776, val=45.8171, took 7.3694 s\n"
     ]
    },
    {
     "data": {
      "application/vnd.jupyter.widget-view+json": {
       "model_id": "",
       "version_major": 2,
       "version_minor": 0
      },
      "text/plain": [
       "HBox(children=(FloatProgress(value=0.0, description='Training', layout=Layout(flex='2'), max=282.0, style=Prog…"
      ]
     },
     "metadata": {},
     "output_type": "display_data"
    },
    {
     "name": "stdout",
     "output_type": "stream",
     "text": [
      "Epoch 360: train=46.7761, val=45.8179, took 7.3698 s\n"
     ]
    },
    {
     "data": {
      "application/vnd.jupyter.widget-view+json": {
       "model_id": "",
       "version_major": 2,
       "version_minor": 0
      },
      "text/plain": [
       "HBox(children=(FloatProgress(value=0.0, description='Training', layout=Layout(flex='2'), max=282.0, style=Prog…"
      ]
     },
     "metadata": {},
     "output_type": "display_data"
    },
    {
     "name": "stdout",
     "output_type": "stream",
     "text": [
      "Epoch 361: train=46.7749, val=45.8168, took 7.3928 s\n"
     ]
    },
    {
     "data": {
      "application/vnd.jupyter.widget-view+json": {
       "model_id": "",
       "version_major": 2,
       "version_minor": 0
      },
      "text/plain": [
       "HBox(children=(FloatProgress(value=0.0, description='Training', layout=Layout(flex='2'), max=282.0, style=Prog…"
      ]
     },
     "metadata": {},
     "output_type": "display_data"
    },
    {
     "name": "stdout",
     "output_type": "stream",
     "text": [
      "Epoch 362: train=46.7737, val=45.8149, took 7.3749 s\n"
     ]
    },
    {
     "data": {
      "application/vnd.jupyter.widget-view+json": {
       "model_id": "",
       "version_major": 2,
       "version_minor": 0
      },
      "text/plain": [
       "HBox(children=(FloatProgress(value=0.0, description='Training', layout=Layout(flex='2'), max=282.0, style=Prog…"
      ]
     },
     "metadata": {},
     "output_type": "display_data"
    },
    {
     "name": "stdout",
     "output_type": "stream",
     "text": [
      "Epoch 363: train=46.7724, val=45.8144, took 7.3753 s\n"
     ]
    },
    {
     "data": {
      "application/vnd.jupyter.widget-view+json": {
       "model_id": "",
       "version_major": 2,
       "version_minor": 0
      },
      "text/plain": [
       "HBox(children=(FloatProgress(value=0.0, description='Training', layout=Layout(flex='2'), max=282.0, style=Prog…"
      ]
     },
     "metadata": {},
     "output_type": "display_data"
    },
    {
     "name": "stdout",
     "output_type": "stream",
     "text": [
      "Epoch 364: train=46.7713, val=45.813, took 7.385 s\n"
     ]
    },
    {
     "data": {
      "application/vnd.jupyter.widget-view+json": {
       "model_id": "",
       "version_major": 2,
       "version_minor": 0
      },
      "text/plain": [
       "HBox(children=(FloatProgress(value=0.0, description='Training', layout=Layout(flex='2'), max=282.0, style=Prog…"
      ]
     },
     "metadata": {},
     "output_type": "display_data"
    },
    {
     "name": "stdout",
     "output_type": "stream",
     "text": [
      "Epoch 365: train=46.77, val=45.8125, took 7.379 s\n"
     ]
    },
    {
     "data": {
      "application/vnd.jupyter.widget-view+json": {
       "model_id": "",
       "version_major": 2,
       "version_minor": 0
      },
      "text/plain": [
       "HBox(children=(FloatProgress(value=0.0, description='Training', layout=Layout(flex='2'), max=282.0, style=Prog…"
      ]
     },
     "metadata": {},
     "output_type": "display_data"
    },
    {
     "name": "stdout",
     "output_type": "stream",
     "text": [
      "Epoch 366: train=46.7687, val=45.8105, took 7.3962 s\n"
     ]
    },
    {
     "data": {
      "application/vnd.jupyter.widget-view+json": {
       "model_id": "",
       "version_major": 2,
       "version_minor": 0
      },
      "text/plain": [
       "HBox(children=(FloatProgress(value=0.0, description='Training', layout=Layout(flex='2'), max=282.0, style=Prog…"
      ]
     },
     "metadata": {},
     "output_type": "display_data"
    },
    {
     "name": "stdout",
     "output_type": "stream",
     "text": [
      "Epoch 367: train=46.7674, val=45.8106, took 7.3969 s\n"
     ]
    },
    {
     "data": {
      "application/vnd.jupyter.widget-view+json": {
       "model_id": "",
       "version_major": 2,
       "version_minor": 0
      },
      "text/plain": [
       "HBox(children=(FloatProgress(value=0.0, description='Training', layout=Layout(flex='2'), max=282.0, style=Prog…"
      ]
     },
     "metadata": {},
     "output_type": "display_data"
    },
    {
     "name": "stdout",
     "output_type": "stream",
     "text": [
      "Epoch 368: train=46.7666, val=45.8092, took 7.3963 s\n"
     ]
    },
    {
     "data": {
      "application/vnd.jupyter.widget-view+json": {
       "model_id": "",
       "version_major": 2,
       "version_minor": 0
      },
      "text/plain": [
       "HBox(children=(FloatProgress(value=0.0, description='Training', layout=Layout(flex='2'), max=282.0, style=Prog…"
      ]
     },
     "metadata": {},
     "output_type": "display_data"
    },
    {
     "name": "stdout",
     "output_type": "stream",
     "text": [
      "Epoch 369: train=46.765, val=45.8078, took 7.3631 s\n"
     ]
    },
    {
     "data": {
      "application/vnd.jupyter.widget-view+json": {
       "model_id": "",
       "version_major": 2,
       "version_minor": 0
      },
      "text/plain": [
       "HBox(children=(FloatProgress(value=0.0, description='Training', layout=Layout(flex='2'), max=282.0, style=Prog…"
      ]
     },
     "metadata": {},
     "output_type": "display_data"
    },
    {
     "name": "stdout",
     "output_type": "stream",
     "text": [
      "Epoch 370: train=46.7637, val=45.8075, took 7.3529 s\n"
     ]
    },
    {
     "data": {
      "application/vnd.jupyter.widget-view+json": {
       "model_id": "",
       "version_major": 2,
       "version_minor": 0
      },
      "text/plain": [
       "HBox(children=(FloatProgress(value=0.0, description='Training', layout=Layout(flex='2'), max=282.0, style=Prog…"
      ]
     },
     "metadata": {},
     "output_type": "display_data"
    },
    {
     "name": "stdout",
     "output_type": "stream",
     "text": [
      "Epoch 371: train=46.7627, val=45.8062, took 7.341 s\n"
     ]
    },
    {
     "data": {
      "application/vnd.jupyter.widget-view+json": {
       "model_id": "",
       "version_major": 2,
       "version_minor": 0
      },
      "text/plain": [
       "HBox(children=(FloatProgress(value=0.0, description='Training', layout=Layout(flex='2'), max=282.0, style=Prog…"
      ]
     },
     "metadata": {},
     "output_type": "display_data"
    },
    {
     "name": "stdout",
     "output_type": "stream",
     "text": [
      "Epoch 372: train=46.7616, val=45.8042, took 7.3446 s\n"
     ]
    },
    {
     "data": {
      "application/vnd.jupyter.widget-view+json": {
       "model_id": "",
       "version_major": 2,
       "version_minor": 0
      },
      "text/plain": [
       "HBox(children=(FloatProgress(value=0.0, description='Training', layout=Layout(flex='2'), max=282.0, style=Prog…"
      ]
     },
     "metadata": {},
     "output_type": "display_data"
    },
    {
     "name": "stdout",
     "output_type": "stream",
     "text": [
      "Epoch 373: train=46.7603, val=45.8038, took 7.3748 s\n"
     ]
    },
    {
     "data": {
      "application/vnd.jupyter.widget-view+json": {
       "model_id": "",
       "version_major": 2,
       "version_minor": 0
      },
      "text/plain": [
       "HBox(children=(FloatProgress(value=0.0, description='Training', layout=Layout(flex='2'), max=282.0, style=Prog…"
      ]
     },
     "metadata": {},
     "output_type": "display_data"
    },
    {
     "name": "stdout",
     "output_type": "stream",
     "text": [
      "Epoch 374: train=46.7589, val=45.8011, took 7.3363 s\n"
     ]
    },
    {
     "data": {
      "application/vnd.jupyter.widget-view+json": {
       "model_id": "",
       "version_major": 2,
       "version_minor": 0
      },
      "text/plain": [
       "HBox(children=(FloatProgress(value=0.0, description='Training', layout=Layout(flex='2'), max=282.0, style=Prog…"
      ]
     },
     "metadata": {},
     "output_type": "display_data"
    },
    {
     "name": "stdout",
     "output_type": "stream",
     "text": [
      "Epoch 375: train=46.7577, val=45.7996, took 7.3266 s\n"
     ]
    },
    {
     "data": {
      "application/vnd.jupyter.widget-view+json": {
       "model_id": "",
       "version_major": 2,
       "version_minor": 0
      },
      "text/plain": [
       "HBox(children=(FloatProgress(value=0.0, description='Training', layout=Layout(flex='2'), max=282.0, style=Prog…"
      ]
     },
     "metadata": {},
     "output_type": "display_data"
    },
    {
     "name": "stdout",
     "output_type": "stream",
     "text": [
      "Epoch 376: train=46.7565, val=45.8002, took 7.33 s\n"
     ]
    },
    {
     "data": {
      "application/vnd.jupyter.widget-view+json": {
       "model_id": "",
       "version_major": 2,
       "version_minor": 0
      },
      "text/plain": [
       "HBox(children=(FloatProgress(value=0.0, description='Training', layout=Layout(flex='2'), max=282.0, style=Prog…"
      ]
     },
     "metadata": {},
     "output_type": "display_data"
    },
    {
     "name": "stdout",
     "output_type": "stream",
     "text": [
      "Epoch 377: train=46.755, val=45.7993, took 7.3895 s\n"
     ]
    },
    {
     "data": {
      "application/vnd.jupyter.widget-view+json": {
       "model_id": "",
       "version_major": 2,
       "version_minor": 0
      },
      "text/plain": [
       "HBox(children=(FloatProgress(value=0.0, description='Training', layout=Layout(flex='2'), max=282.0, style=Prog…"
      ]
     },
     "metadata": {},
     "output_type": "display_data"
    },
    {
     "name": "stdout",
     "output_type": "stream",
     "text": [
      "Epoch 378: train=46.7537, val=45.7973, took 7.3743 s\n"
     ]
    },
    {
     "data": {
      "application/vnd.jupyter.widget-view+json": {
       "model_id": "",
       "version_major": 2,
       "version_minor": 0
      },
      "text/plain": [
       "HBox(children=(FloatProgress(value=0.0, description='Training', layout=Layout(flex='2'), max=282.0, style=Prog…"
      ]
     },
     "metadata": {},
     "output_type": "display_data"
    },
    {
     "name": "stdout",
     "output_type": "stream",
     "text": [
      "Epoch 379: train=46.7525, val=45.7955, took 7.3572 s\n"
     ]
    },
    {
     "data": {
      "application/vnd.jupyter.widget-view+json": {
       "model_id": "",
       "version_major": 2,
       "version_minor": 0
      },
      "text/plain": [
       "HBox(children=(FloatProgress(value=0.0, description='Training', layout=Layout(flex='2'), max=282.0, style=Prog…"
      ]
     },
     "metadata": {},
     "output_type": "display_data"
    },
    {
     "name": "stdout",
     "output_type": "stream",
     "text": [
      "Epoch 380: train=46.7512, val=45.7953, took 7.3652 s\n"
     ]
    },
    {
     "data": {
      "application/vnd.jupyter.widget-view+json": {
       "model_id": "",
       "version_major": 2,
       "version_minor": 0
      },
      "text/plain": [
       "HBox(children=(FloatProgress(value=0.0, description='Training', layout=Layout(flex='2'), max=282.0, style=Prog…"
      ]
     },
     "metadata": {},
     "output_type": "display_data"
    },
    {
     "name": "stdout",
     "output_type": "stream",
     "text": [
      "Epoch 381: train=46.7498, val=45.7949, took 7.3597 s\n"
     ]
    },
    {
     "data": {
      "application/vnd.jupyter.widget-view+json": {
       "model_id": "",
       "version_major": 2,
       "version_minor": 0
      },
      "text/plain": [
       "HBox(children=(FloatProgress(value=0.0, description='Training', layout=Layout(flex='2'), max=282.0, style=Prog…"
      ]
     },
     "metadata": {},
     "output_type": "display_data"
    },
    {
     "name": "stdout",
     "output_type": "stream",
     "text": [
      "Epoch 382: train=46.7486, val=45.793, took 7.3545 s\n"
     ]
    },
    {
     "data": {
      "application/vnd.jupyter.widget-view+json": {
       "model_id": "",
       "version_major": 2,
       "version_minor": 0
      },
      "text/plain": [
       "HBox(children=(FloatProgress(value=0.0, description='Training', layout=Layout(flex='2'), max=282.0, style=Prog…"
      ]
     },
     "metadata": {},
     "output_type": "display_data"
    },
    {
     "name": "stdout",
     "output_type": "stream",
     "text": [
      "Epoch 383: train=46.7474, val=45.7917, took 7.3573 s\n"
     ]
    },
    {
     "data": {
      "application/vnd.jupyter.widget-view+json": {
       "model_id": "",
       "version_major": 2,
       "version_minor": 0
      },
      "text/plain": [
       "HBox(children=(FloatProgress(value=0.0, description='Training', layout=Layout(flex='2'), max=282.0, style=Prog…"
      ]
     },
     "metadata": {},
     "output_type": "display_data"
    },
    {
     "name": "stdout",
     "output_type": "stream",
     "text": [
      "Epoch 384: train=46.7462, val=45.79, took 7.3454 s\n"
     ]
    },
    {
     "data": {
      "application/vnd.jupyter.widget-view+json": {
       "model_id": "",
       "version_major": 2,
       "version_minor": 0
      },
      "text/plain": [
       "HBox(children=(FloatProgress(value=0.0, description='Training', layout=Layout(flex='2'), max=282.0, style=Prog…"
      ]
     },
     "metadata": {},
     "output_type": "display_data"
    },
    {
     "name": "stdout",
     "output_type": "stream",
     "text": [
      "Epoch 385: train=46.745, val=45.7901, took 7.4273 s\n"
     ]
    },
    {
     "data": {
      "application/vnd.jupyter.widget-view+json": {
       "model_id": "",
       "version_major": 2,
       "version_minor": 0
      },
      "text/plain": [
       "HBox(children=(FloatProgress(value=0.0, description='Training', layout=Layout(flex='2'), max=282.0, style=Prog…"
      ]
     },
     "metadata": {},
     "output_type": "display_data"
    },
    {
     "name": "stdout",
     "output_type": "stream",
     "text": [
      "Epoch 386: train=46.7435, val=45.7874, took 7.392 s\n"
     ]
    },
    {
     "data": {
      "application/vnd.jupyter.widget-view+json": {
       "model_id": "",
       "version_major": 2,
       "version_minor": 0
      },
      "text/plain": [
       "HBox(children=(FloatProgress(value=0.0, description='Training', layout=Layout(flex='2'), max=282.0, style=Prog…"
      ]
     },
     "metadata": {},
     "output_type": "display_data"
    },
    {
     "name": "stdout",
     "output_type": "stream",
     "text": [
      "Epoch 387: train=46.7423, val=45.7859, took 7.3133 s\n"
     ]
    },
    {
     "data": {
      "application/vnd.jupyter.widget-view+json": {
       "model_id": "",
       "version_major": 2,
       "version_minor": 0
      },
      "text/plain": [
       "HBox(children=(FloatProgress(value=0.0, description='Training', layout=Layout(flex='2'), max=282.0, style=Prog…"
      ]
     },
     "metadata": {},
     "output_type": "display_data"
    },
    {
     "name": "stdout",
     "output_type": "stream",
     "text": [
      "Epoch 388: train=46.7412, val=45.7855, took 7.3251 s\n"
     ]
    },
    {
     "data": {
      "application/vnd.jupyter.widget-view+json": {
       "model_id": "",
       "version_major": 2,
       "version_minor": 0
      },
      "text/plain": [
       "HBox(children=(FloatProgress(value=0.0, description='Training', layout=Layout(flex='2'), max=282.0, style=Prog…"
      ]
     },
     "metadata": {},
     "output_type": "display_data"
    },
    {
     "name": "stdout",
     "output_type": "stream",
     "text": [
      "Epoch 389: train=46.7399, val=45.785, took 7.3368 s\n"
     ]
    },
    {
     "data": {
      "application/vnd.jupyter.widget-view+json": {
       "model_id": "",
       "version_major": 2,
       "version_minor": 0
      },
      "text/plain": [
       "HBox(children=(FloatProgress(value=0.0, description='Training', layout=Layout(flex='2'), max=282.0, style=Prog…"
      ]
     },
     "metadata": {},
     "output_type": "display_data"
    },
    {
     "name": "stdout",
     "output_type": "stream",
     "text": [
      "Epoch 390: train=46.7388, val=45.784, took 7.3077 s\n"
     ]
    },
    {
     "data": {
      "application/vnd.jupyter.widget-view+json": {
       "model_id": "",
       "version_major": 2,
       "version_minor": 0
      },
      "text/plain": [
       "HBox(children=(FloatProgress(value=0.0, description='Training', layout=Layout(flex='2'), max=282.0, style=Prog…"
      ]
     },
     "metadata": {},
     "output_type": "display_data"
    },
    {
     "name": "stdout",
     "output_type": "stream",
     "text": [
      "Epoch 391: train=46.7375, val=45.7843, took 7.3081 s\n"
     ]
    },
    {
     "data": {
      "application/vnd.jupyter.widget-view+json": {
       "model_id": "",
       "version_major": 2,
       "version_minor": 0
      },
      "text/plain": [
       "HBox(children=(FloatProgress(value=0.0, description='Training', layout=Layout(flex='2'), max=282.0, style=Prog…"
      ]
     },
     "metadata": {},
     "output_type": "display_data"
    },
    {
     "name": "stdout",
     "output_type": "stream",
     "text": [
      "Epoch 392: train=46.7364, val=45.782, took 7.3259 s\n"
     ]
    },
    {
     "data": {
      "application/vnd.jupyter.widget-view+json": {
       "model_id": "",
       "version_major": 2,
       "version_minor": 0
      },
      "text/plain": [
       "HBox(children=(FloatProgress(value=0.0, description='Training', layout=Layout(flex='2'), max=282.0, style=Prog…"
      ]
     },
     "metadata": {},
     "output_type": "display_data"
    },
    {
     "name": "stdout",
     "output_type": "stream",
     "text": [
      "Epoch 393: train=46.7349, val=45.7811, took 7.377 s\n"
     ]
    },
    {
     "data": {
      "application/vnd.jupyter.widget-view+json": {
       "model_id": "",
       "version_major": 2,
       "version_minor": 0
      },
      "text/plain": [
       "HBox(children=(FloatProgress(value=0.0, description='Training', layout=Layout(flex='2'), max=282.0, style=Prog…"
      ]
     },
     "metadata": {},
     "output_type": "display_data"
    },
    {
     "name": "stdout",
     "output_type": "stream",
     "text": [
      "Epoch 394: train=46.7339, val=45.7798, took 7.3441 s\n"
     ]
    },
    {
     "data": {
      "application/vnd.jupyter.widget-view+json": {
       "model_id": "",
       "version_major": 2,
       "version_minor": 0
      },
      "text/plain": [
       "HBox(children=(FloatProgress(value=0.0, description='Training', layout=Layout(flex='2'), max=282.0, style=Prog…"
      ]
     },
     "metadata": {},
     "output_type": "display_data"
    },
    {
     "name": "stdout",
     "output_type": "stream",
     "text": [
      "Epoch 395: train=46.7324, val=45.7791, took 7.3859 s\n"
     ]
    },
    {
     "data": {
      "application/vnd.jupyter.widget-view+json": {
       "model_id": "",
       "version_major": 2,
       "version_minor": 0
      },
      "text/plain": [
       "HBox(children=(FloatProgress(value=0.0, description='Training', layout=Layout(flex='2'), max=282.0, style=Prog…"
      ]
     },
     "metadata": {},
     "output_type": "display_data"
    },
    {
     "name": "stdout",
     "output_type": "stream",
     "text": [
      "Epoch 396: train=46.7312, val=45.7781, took 7.4588 s\n"
     ]
    },
    {
     "data": {
      "application/vnd.jupyter.widget-view+json": {
       "model_id": "",
       "version_major": 2,
       "version_minor": 0
      },
      "text/plain": [
       "HBox(children=(FloatProgress(value=0.0, description='Training', layout=Layout(flex='2'), max=282.0, style=Prog…"
      ]
     },
     "metadata": {},
     "output_type": "display_data"
    },
    {
     "name": "stdout",
     "output_type": "stream",
     "text": [
      "Epoch 397: train=46.73, val=45.778, took 7.4214 s\n"
     ]
    },
    {
     "data": {
      "application/vnd.jupyter.widget-view+json": {
       "model_id": "",
       "version_major": 2,
       "version_minor": 0
      },
      "text/plain": [
       "HBox(children=(FloatProgress(value=0.0, description='Training', layout=Layout(flex='2'), max=282.0, style=Prog…"
      ]
     },
     "metadata": {},
     "output_type": "display_data"
    },
    {
     "name": "stdout",
     "output_type": "stream",
     "text": [
      "Epoch 398: train=46.7286, val=45.7759, took 7.3293 s\n"
     ]
    },
    {
     "data": {
      "application/vnd.jupyter.widget-view+json": {
       "model_id": "",
       "version_major": 2,
       "version_minor": 0
      },
      "text/plain": [
       "HBox(children=(FloatProgress(value=0.0, description='Training', layout=Layout(flex='2'), max=282.0, style=Prog…"
      ]
     },
     "metadata": {},
     "output_type": "display_data"
    },
    {
     "name": "stdout",
     "output_type": "stream",
     "text": [
      "Epoch 399: train=46.727, val=45.7752, took 7.3442 s\n",
      "\n"
     ]
    }
   ],
   "source": [
    "for result in trainNet(model, optimizer, loss,\n",
    "                        train_loader, val_loader,\n",
    "                        n_epochs, epoch_start=len(results),\n",
    "                        notebook=True):\n",
    "    \n",
    "    results = results.append(pd.Series(result._asdict()), ignore_index=True)\n",
    "    xs = results.index\n",
    "    \n",
    "    # Update the plot above\n",
    "    lines['train'].set_data(results.index,results.cost)\n",
    "    lines['val'].set_data(results.index,results.val)\n",
    "    \n",
    "    #filter first cost epoch (can be really large)\n",
    "    max_cost = max(max(results.cost if len(results.cost)<2 else results.cost[1:]), max(results.val))\n",
    "    min_cost = min(min(results.cost), min(results.val))\n",
    "    \n",
    "    # The plot limits need updating too\n",
    "    \n",
    "    \n",
    "    \n",
    "    ax.set_ylim(min_cost*.9, max_cost*1.1)  \n",
    "    ax.set_xlim(-.5, len(results.cost) - .5)\n",
    "\n",
    "    \n",
    "    # Redraw the figure\n",
    "    fig.canvas.draw()\n",
    "\n",
    "    # Save each model state dictionary\n",
    "    torch.save(model.state_dict(), output / f'{name}_{result.epoch}.pyt')"
   ]
  },
  {
   "cell_type": "markdown",
   "metadata": {},
   "source": [
    "Go ahead and save the final model (even though it was also saved above):"
   ]
  },
  {
   "cell_type": "code",
   "execution_count": 17,
   "metadata": {},
   "outputs": [],
   "source": [
    "torch.save(model.state_dict(), output / f'{name}_final.pyt')"
   ]
  },
  {
   "cell_type": "markdown",
   "metadata": {},
   "source": [
    "Save the output results:"
   ]
  },
  {
   "cell_type": "code",
   "execution_count": 18,
   "metadata": {},
   "outputs": [],
   "source": [
    "results.to_hdf(f'{name}_stats.hdf5', 'results')"
   ]
  },
  {
   "cell_type": "markdown",
   "metadata": {},
   "source": [
    "Save the plot above:"
   ]
  },
  {
   "cell_type": "code",
   "execution_count": 19,
   "metadata": {},
   "outputs": [
    {
     "data": {
      "application/javascript": [
       "/* Put everything inside the global mpl namespace */\n",
       "window.mpl = {};\n",
       "\n",
       "\n",
       "mpl.get_websocket_type = function() {\n",
       "    if (typeof(WebSocket) !== 'undefined') {\n",
       "        return WebSocket;\n",
       "    } else if (typeof(MozWebSocket) !== 'undefined') {\n",
       "        return MozWebSocket;\n",
       "    } else {\n",
       "        alert('Your browser does not have WebSocket support. ' +\n",
       "              'Please try Chrome, Safari or Firefox ≥ 6. ' +\n",
       "              'Firefox 4 and 5 are also supported but you ' +\n",
       "              'have to enable WebSockets in about:config.');\n",
       "    };\n",
       "}\n",
       "\n",
       "mpl.figure = function(figure_id, websocket, ondownload, parent_element) {\n",
       "    this.id = figure_id;\n",
       "\n",
       "    this.ws = websocket;\n",
       "\n",
       "    this.supports_binary = (this.ws.binaryType != undefined);\n",
       "\n",
       "    if (!this.supports_binary) {\n",
       "        var warnings = document.getElementById(\"mpl-warnings\");\n",
       "        if (warnings) {\n",
       "            warnings.style.display = 'block';\n",
       "            warnings.textContent = (\n",
       "                \"This browser does not support binary websocket messages. \" +\n",
       "                    \"Performance may be slow.\");\n",
       "        }\n",
       "    }\n",
       "\n",
       "    this.imageObj = new Image();\n",
       "\n",
       "    this.context = undefined;\n",
       "    this.message = undefined;\n",
       "    this.canvas = undefined;\n",
       "    this.rubberband_canvas = undefined;\n",
       "    this.rubberband_context = undefined;\n",
       "    this.format_dropdown = undefined;\n",
       "\n",
       "    this.image_mode = 'full';\n",
       "\n",
       "    this.root = $('<div/>');\n",
       "    this._root_extra_style(this.root)\n",
       "    this.root.attr('style', 'display: inline-block');\n",
       "\n",
       "    $(parent_element).append(this.root);\n",
       "\n",
       "    this._init_header(this);\n",
       "    this._init_canvas(this);\n",
       "    this._init_toolbar(this);\n",
       "\n",
       "    var fig = this;\n",
       "\n",
       "    this.waiting = false;\n",
       "\n",
       "    this.ws.onopen =  function () {\n",
       "            fig.send_message(\"supports_binary\", {value: fig.supports_binary});\n",
       "            fig.send_message(\"send_image_mode\", {});\n",
       "            if (mpl.ratio != 1) {\n",
       "                fig.send_message(\"set_dpi_ratio\", {'dpi_ratio': mpl.ratio});\n",
       "            }\n",
       "            fig.send_message(\"refresh\", {});\n",
       "        }\n",
       "\n",
       "    this.imageObj.onload = function() {\n",
       "            if (fig.image_mode == 'full') {\n",
       "                // Full images could contain transparency (where diff images\n",
       "                // almost always do), so we need to clear the canvas so that\n",
       "                // there is no ghosting.\n",
       "                fig.context.clearRect(0, 0, fig.canvas.width, fig.canvas.height);\n",
       "            }\n",
       "            fig.context.drawImage(fig.imageObj, 0, 0);\n",
       "        };\n",
       "\n",
       "    this.imageObj.onunload = function() {\n",
       "        fig.ws.close();\n",
       "    }\n",
       "\n",
       "    this.ws.onmessage = this._make_on_message_function(this);\n",
       "\n",
       "    this.ondownload = ondownload;\n",
       "}\n",
       "\n",
       "mpl.figure.prototype._init_header = function() {\n",
       "    var titlebar = $(\n",
       "        '<div class=\"ui-dialog-titlebar ui-widget-header ui-corner-all ' +\n",
       "        'ui-helper-clearfix\"/>');\n",
       "    var titletext = $(\n",
       "        '<div class=\"ui-dialog-title\" style=\"width: 100%; ' +\n",
       "        'text-align: center; padding: 3px;\"/>');\n",
       "    titlebar.append(titletext)\n",
       "    this.root.append(titlebar);\n",
       "    this.header = titletext[0];\n",
       "}\n",
       "\n",
       "\n",
       "\n",
       "mpl.figure.prototype._canvas_extra_style = function(canvas_div) {\n",
       "\n",
       "}\n",
       "\n",
       "\n",
       "mpl.figure.prototype._root_extra_style = function(canvas_div) {\n",
       "\n",
       "}\n",
       "\n",
       "mpl.figure.prototype._init_canvas = function() {\n",
       "    var fig = this;\n",
       "\n",
       "    var canvas_div = $('<div/>');\n",
       "\n",
       "    canvas_div.attr('style', 'position: relative; clear: both; outline: 0');\n",
       "\n",
       "    function canvas_keyboard_event(event) {\n",
       "        return fig.key_event(event, event['data']);\n",
       "    }\n",
       "\n",
       "    canvas_div.keydown('key_press', canvas_keyboard_event);\n",
       "    canvas_div.keyup('key_release', canvas_keyboard_event);\n",
       "    this.canvas_div = canvas_div\n",
       "    this._canvas_extra_style(canvas_div)\n",
       "    this.root.append(canvas_div);\n",
       "\n",
       "    var canvas = $('<canvas/>');\n",
       "    canvas.addClass('mpl-canvas');\n",
       "    canvas.attr('style', \"left: 0; top: 0; z-index: 0; outline: 0\")\n",
       "\n",
       "    this.canvas = canvas[0];\n",
       "    this.context = canvas[0].getContext(\"2d\");\n",
       "\n",
       "    var backingStore = this.context.backingStorePixelRatio ||\n",
       "\tthis.context.webkitBackingStorePixelRatio ||\n",
       "\tthis.context.mozBackingStorePixelRatio ||\n",
       "\tthis.context.msBackingStorePixelRatio ||\n",
       "\tthis.context.oBackingStorePixelRatio ||\n",
       "\tthis.context.backingStorePixelRatio || 1;\n",
       "\n",
       "    mpl.ratio = (window.devicePixelRatio || 1) / backingStore;\n",
       "\n",
       "    var rubberband = $('<canvas/>');\n",
       "    rubberband.attr('style', \"position: absolute; left: 0; top: 0; z-index: 1;\")\n",
       "\n",
       "    var pass_mouse_events = true;\n",
       "\n",
       "    canvas_div.resizable({\n",
       "        start: function(event, ui) {\n",
       "            pass_mouse_events = false;\n",
       "        },\n",
       "        resize: function(event, ui) {\n",
       "            fig.request_resize(ui.size.width, ui.size.height);\n",
       "        },\n",
       "        stop: function(event, ui) {\n",
       "            pass_mouse_events = true;\n",
       "            fig.request_resize(ui.size.width, ui.size.height);\n",
       "        },\n",
       "    });\n",
       "\n",
       "    function mouse_event_fn(event) {\n",
       "        if (pass_mouse_events)\n",
       "            return fig.mouse_event(event, event['data']);\n",
       "    }\n",
       "\n",
       "    rubberband.mousedown('button_press', mouse_event_fn);\n",
       "    rubberband.mouseup('button_release', mouse_event_fn);\n",
       "    // Throttle sequential mouse events to 1 every 20ms.\n",
       "    rubberband.mousemove('motion_notify', mouse_event_fn);\n",
       "\n",
       "    rubberband.mouseenter('figure_enter', mouse_event_fn);\n",
       "    rubberband.mouseleave('figure_leave', mouse_event_fn);\n",
       "\n",
       "    canvas_div.on(\"wheel\", function (event) {\n",
       "        event = event.originalEvent;\n",
       "        event['data'] = 'scroll'\n",
       "        if (event.deltaY < 0) {\n",
       "            event.step = 1;\n",
       "        } else {\n",
       "            event.step = -1;\n",
       "        }\n",
       "        mouse_event_fn(event);\n",
       "    });\n",
       "\n",
       "    canvas_div.append(canvas);\n",
       "    canvas_div.append(rubberband);\n",
       "\n",
       "    this.rubberband = rubberband;\n",
       "    this.rubberband_canvas = rubberband[0];\n",
       "    this.rubberband_context = rubberband[0].getContext(\"2d\");\n",
       "    this.rubberband_context.strokeStyle = \"#000000\";\n",
       "\n",
       "    this._resize_canvas = function(width, height) {\n",
       "        // Keep the size of the canvas, canvas container, and rubber band\n",
       "        // canvas in synch.\n",
       "        canvas_div.css('width', width)\n",
       "        canvas_div.css('height', height)\n",
       "\n",
       "        canvas.attr('width', width * mpl.ratio);\n",
       "        canvas.attr('height', height * mpl.ratio);\n",
       "        canvas.attr('style', 'width: ' + width + 'px; height: ' + height + 'px;');\n",
       "\n",
       "        rubberband.attr('width', width);\n",
       "        rubberband.attr('height', height);\n",
       "    }\n",
       "\n",
       "    // Set the figure to an initial 600x600px, this will subsequently be updated\n",
       "    // upon first draw.\n",
       "    this._resize_canvas(600, 600);\n",
       "\n",
       "    // Disable right mouse context menu.\n",
       "    $(this.rubberband_canvas).bind(\"contextmenu\",function(e){\n",
       "        return false;\n",
       "    });\n",
       "\n",
       "    function set_focus () {\n",
       "        canvas.focus();\n",
       "        canvas_div.focus();\n",
       "    }\n",
       "\n",
       "    window.setTimeout(set_focus, 100);\n",
       "}\n",
       "\n",
       "mpl.figure.prototype._init_toolbar = function() {\n",
       "    var fig = this;\n",
       "\n",
       "    var nav_element = $('<div/>');\n",
       "    nav_element.attr('style', 'width: 100%');\n",
       "    this.root.append(nav_element);\n",
       "\n",
       "    // Define a callback function for later on.\n",
       "    function toolbar_event(event) {\n",
       "        return fig.toolbar_button_onclick(event['data']);\n",
       "    }\n",
       "    function toolbar_mouse_event(event) {\n",
       "        return fig.toolbar_button_onmouseover(event['data']);\n",
       "    }\n",
       "\n",
       "    for(var toolbar_ind in mpl.toolbar_items) {\n",
       "        var name = mpl.toolbar_items[toolbar_ind][0];\n",
       "        var tooltip = mpl.toolbar_items[toolbar_ind][1];\n",
       "        var image = mpl.toolbar_items[toolbar_ind][2];\n",
       "        var method_name = mpl.toolbar_items[toolbar_ind][3];\n",
       "\n",
       "        if (!name) {\n",
       "            // put a spacer in here.\n",
       "            continue;\n",
       "        }\n",
       "        var button = $('<button/>');\n",
       "        button.addClass('ui-button ui-widget ui-state-default ui-corner-all ' +\n",
       "                        'ui-button-icon-only');\n",
       "        button.attr('role', 'button');\n",
       "        button.attr('aria-disabled', 'false');\n",
       "        button.click(method_name, toolbar_event);\n",
       "        button.mouseover(tooltip, toolbar_mouse_event);\n",
       "\n",
       "        var icon_img = $('<span/>');\n",
       "        icon_img.addClass('ui-button-icon-primary ui-icon');\n",
       "        icon_img.addClass(image);\n",
       "        icon_img.addClass('ui-corner-all');\n",
       "\n",
       "        var tooltip_span = $('<span/>');\n",
       "        tooltip_span.addClass('ui-button-text');\n",
       "        tooltip_span.html(tooltip);\n",
       "\n",
       "        button.append(icon_img);\n",
       "        button.append(tooltip_span);\n",
       "\n",
       "        nav_element.append(button);\n",
       "    }\n",
       "\n",
       "    var fmt_picker_span = $('<span/>');\n",
       "\n",
       "    var fmt_picker = $('<select/>');\n",
       "    fmt_picker.addClass('mpl-toolbar-option ui-widget ui-widget-content');\n",
       "    fmt_picker_span.append(fmt_picker);\n",
       "    nav_element.append(fmt_picker_span);\n",
       "    this.format_dropdown = fmt_picker[0];\n",
       "\n",
       "    for (var ind in mpl.extensions) {\n",
       "        var fmt = mpl.extensions[ind];\n",
       "        var option = $(\n",
       "            '<option/>', {selected: fmt === mpl.default_extension}).html(fmt);\n",
       "        fmt_picker.append(option);\n",
       "    }\n",
       "\n",
       "    // Add hover states to the ui-buttons\n",
       "    $( \".ui-button\" ).hover(\n",
       "        function() { $(this).addClass(\"ui-state-hover\");},\n",
       "        function() { $(this).removeClass(\"ui-state-hover\");}\n",
       "    );\n",
       "\n",
       "    var status_bar = $('<span class=\"mpl-message\"/>');\n",
       "    nav_element.append(status_bar);\n",
       "    this.message = status_bar[0];\n",
       "}\n",
       "\n",
       "mpl.figure.prototype.request_resize = function(x_pixels, y_pixels) {\n",
       "    // Request matplotlib to resize the figure. Matplotlib will then trigger a resize in the client,\n",
       "    // which will in turn request a refresh of the image.\n",
       "    this.send_message('resize', {'width': x_pixels, 'height': y_pixels});\n",
       "}\n",
       "\n",
       "mpl.figure.prototype.send_message = function(type, properties) {\n",
       "    properties['type'] = type;\n",
       "    properties['figure_id'] = this.id;\n",
       "    this.ws.send(JSON.stringify(properties));\n",
       "}\n",
       "\n",
       "mpl.figure.prototype.send_draw_message = function() {\n",
       "    if (!this.waiting) {\n",
       "        this.waiting = true;\n",
       "        this.ws.send(JSON.stringify({type: \"draw\", figure_id: this.id}));\n",
       "    }\n",
       "}\n",
       "\n",
       "\n",
       "mpl.figure.prototype.handle_save = function(fig, msg) {\n",
       "    var format_dropdown = fig.format_dropdown;\n",
       "    var format = format_dropdown.options[format_dropdown.selectedIndex].value;\n",
       "    fig.ondownload(fig, format);\n",
       "}\n",
       "\n",
       "\n",
       "mpl.figure.prototype.handle_resize = function(fig, msg) {\n",
       "    var size = msg['size'];\n",
       "    if (size[0] != fig.canvas.width || size[1] != fig.canvas.height) {\n",
       "        fig._resize_canvas(size[0], size[1]);\n",
       "        fig.send_message(\"refresh\", {});\n",
       "    };\n",
       "}\n",
       "\n",
       "mpl.figure.prototype.handle_rubberband = function(fig, msg) {\n",
       "    var x0 = msg['x0'] / mpl.ratio;\n",
       "    var y0 = (fig.canvas.height - msg['y0']) / mpl.ratio;\n",
       "    var x1 = msg['x1'] / mpl.ratio;\n",
       "    var y1 = (fig.canvas.height - msg['y1']) / mpl.ratio;\n",
       "    x0 = Math.floor(x0) + 0.5;\n",
       "    y0 = Math.floor(y0) + 0.5;\n",
       "    x1 = Math.floor(x1) + 0.5;\n",
       "    y1 = Math.floor(y1) + 0.5;\n",
       "    var min_x = Math.min(x0, x1);\n",
       "    var min_y = Math.min(y0, y1);\n",
       "    var width = Math.abs(x1 - x0);\n",
       "    var height = Math.abs(y1 - y0);\n",
       "\n",
       "    fig.rubberband_context.clearRect(\n",
       "        0, 0, fig.canvas.width / mpl.ratio, fig.canvas.height / mpl.ratio);\n",
       "\n",
       "    fig.rubberband_context.strokeRect(min_x, min_y, width, height);\n",
       "}\n",
       "\n",
       "mpl.figure.prototype.handle_figure_label = function(fig, msg) {\n",
       "    // Updates the figure title.\n",
       "    fig.header.textContent = msg['label'];\n",
       "}\n",
       "\n",
       "mpl.figure.prototype.handle_cursor = function(fig, msg) {\n",
       "    var cursor = msg['cursor'];\n",
       "    switch(cursor)\n",
       "    {\n",
       "    case 0:\n",
       "        cursor = 'pointer';\n",
       "        break;\n",
       "    case 1:\n",
       "        cursor = 'default';\n",
       "        break;\n",
       "    case 2:\n",
       "        cursor = 'crosshair';\n",
       "        break;\n",
       "    case 3:\n",
       "        cursor = 'move';\n",
       "        break;\n",
       "    }\n",
       "    fig.rubberband_canvas.style.cursor = cursor;\n",
       "}\n",
       "\n",
       "mpl.figure.prototype.handle_message = function(fig, msg) {\n",
       "    fig.message.textContent = msg['message'];\n",
       "}\n",
       "\n",
       "mpl.figure.prototype.handle_draw = function(fig, msg) {\n",
       "    // Request the server to send over a new figure.\n",
       "    fig.send_draw_message();\n",
       "}\n",
       "\n",
       "mpl.figure.prototype.handle_image_mode = function(fig, msg) {\n",
       "    fig.image_mode = msg['mode'];\n",
       "}\n",
       "\n",
       "mpl.figure.prototype.updated_canvas_event = function() {\n",
       "    // Called whenever the canvas gets updated.\n",
       "    this.send_message(\"ack\", {});\n",
       "}\n",
       "\n",
       "// A function to construct a web socket function for onmessage handling.\n",
       "// Called in the figure constructor.\n",
       "mpl.figure.prototype._make_on_message_function = function(fig) {\n",
       "    return function socket_on_message(evt) {\n",
       "        if (evt.data instanceof Blob) {\n",
       "            /* FIXME: We get \"Resource interpreted as Image but\n",
       "             * transferred with MIME type text/plain:\" errors on\n",
       "             * Chrome.  But how to set the MIME type?  It doesn't seem\n",
       "             * to be part of the websocket stream */\n",
       "            evt.data.type = \"image/png\";\n",
       "\n",
       "            /* Free the memory for the previous frames */\n",
       "            if (fig.imageObj.src) {\n",
       "                (window.URL || window.webkitURL).revokeObjectURL(\n",
       "                    fig.imageObj.src);\n",
       "            }\n",
       "\n",
       "            fig.imageObj.src = (window.URL || window.webkitURL).createObjectURL(\n",
       "                evt.data);\n",
       "            fig.updated_canvas_event();\n",
       "            fig.waiting = false;\n",
       "            return;\n",
       "        }\n",
       "        else if (typeof evt.data === 'string' && evt.data.slice(0, 21) == \"data:image/png;base64\") {\n",
       "            fig.imageObj.src = evt.data;\n",
       "            fig.updated_canvas_event();\n",
       "            fig.waiting = false;\n",
       "            return;\n",
       "        }\n",
       "\n",
       "        var msg = JSON.parse(evt.data);\n",
       "        var msg_type = msg['type'];\n",
       "\n",
       "        // Call the  \"handle_{type}\" callback, which takes\n",
       "        // the figure and JSON message as its only arguments.\n",
       "        try {\n",
       "            var callback = fig[\"handle_\" + msg_type];\n",
       "        } catch (e) {\n",
       "            console.log(\"No handler for the '\" + msg_type + \"' message type: \", msg);\n",
       "            return;\n",
       "        }\n",
       "\n",
       "        if (callback) {\n",
       "            try {\n",
       "                // console.log(\"Handling '\" + msg_type + \"' message: \", msg);\n",
       "                callback(fig, msg);\n",
       "            } catch (e) {\n",
       "                console.log(\"Exception inside the 'handler_\" + msg_type + \"' callback:\", e, e.stack, msg);\n",
       "            }\n",
       "        }\n",
       "    };\n",
       "}\n",
       "\n",
       "// from http://stackoverflow.com/questions/1114465/getting-mouse-location-in-canvas\n",
       "mpl.findpos = function(e) {\n",
       "    //this section is from http://www.quirksmode.org/js/events_properties.html\n",
       "    var targ;\n",
       "    if (!e)\n",
       "        e = window.event;\n",
       "    if (e.target)\n",
       "        targ = e.target;\n",
       "    else if (e.srcElement)\n",
       "        targ = e.srcElement;\n",
       "    if (targ.nodeType == 3) // defeat Safari bug\n",
       "        targ = targ.parentNode;\n",
       "\n",
       "    // jQuery normalizes the pageX and pageY\n",
       "    // pageX,Y are the mouse positions relative to the document\n",
       "    // offset() returns the position of the element relative to the document\n",
       "    var x = e.pageX - $(targ).offset().left;\n",
       "    var y = e.pageY - $(targ).offset().top;\n",
       "\n",
       "    return {\"x\": x, \"y\": y};\n",
       "};\n",
       "\n",
       "/*\n",
       " * return a copy of an object with only non-object keys\n",
       " * we need this to avoid circular references\n",
       " * http://stackoverflow.com/a/24161582/3208463\n",
       " */\n",
       "function simpleKeys (original) {\n",
       "  return Object.keys(original).reduce(function (obj, key) {\n",
       "    if (typeof original[key] !== 'object')\n",
       "        obj[key] = original[key]\n",
       "    return obj;\n",
       "  }, {});\n",
       "}\n",
       "\n",
       "mpl.figure.prototype.mouse_event = function(event, name) {\n",
       "    var canvas_pos = mpl.findpos(event)\n",
       "\n",
       "    if (name === 'button_press')\n",
       "    {\n",
       "        this.canvas.focus();\n",
       "        this.canvas_div.focus();\n",
       "    }\n",
       "\n",
       "    var x = canvas_pos.x * mpl.ratio;\n",
       "    var y = canvas_pos.y * mpl.ratio;\n",
       "\n",
       "    this.send_message(name, {x: x, y: y, button: event.button,\n",
       "                             step: event.step,\n",
       "                             guiEvent: simpleKeys(event)});\n",
       "\n",
       "    /* This prevents the web browser from automatically changing to\n",
       "     * the text insertion cursor when the button is pressed.  We want\n",
       "     * to control all of the cursor setting manually through the\n",
       "     * 'cursor' event from matplotlib */\n",
       "    event.preventDefault();\n",
       "    return false;\n",
       "}\n",
       "\n",
       "mpl.figure.prototype._key_event_extra = function(event, name) {\n",
       "    // Handle any extra behaviour associated with a key event\n",
       "}\n",
       "\n",
       "mpl.figure.prototype.key_event = function(event, name) {\n",
       "\n",
       "    // Prevent repeat events\n",
       "    if (name == 'key_press')\n",
       "    {\n",
       "        if (event.which === this._key)\n",
       "            return;\n",
       "        else\n",
       "            this._key = event.which;\n",
       "    }\n",
       "    if (name == 'key_release')\n",
       "        this._key = null;\n",
       "\n",
       "    var value = '';\n",
       "    if (event.ctrlKey && event.which != 17)\n",
       "        value += \"ctrl+\";\n",
       "    if (event.altKey && event.which != 18)\n",
       "        value += \"alt+\";\n",
       "    if (event.shiftKey && event.which != 16)\n",
       "        value += \"shift+\";\n",
       "\n",
       "    value += 'k';\n",
       "    value += event.which.toString();\n",
       "\n",
       "    this._key_event_extra(event, name);\n",
       "\n",
       "    this.send_message(name, {key: value,\n",
       "                             guiEvent: simpleKeys(event)});\n",
       "    return false;\n",
       "}\n",
       "\n",
       "mpl.figure.prototype.toolbar_button_onclick = function(name) {\n",
       "    if (name == 'download') {\n",
       "        this.handle_save(this, null);\n",
       "    } else {\n",
       "        this.send_message(\"toolbar_button\", {name: name});\n",
       "    }\n",
       "};\n",
       "\n",
       "mpl.figure.prototype.toolbar_button_onmouseover = function(tooltip) {\n",
       "    this.message.textContent = tooltip;\n",
       "};\n",
       "mpl.toolbar_items = [[\"Home\", \"Reset original view\", \"fa fa-home icon-home\", \"home\"], [\"Back\", \"Back to previous view\", \"fa fa-arrow-left icon-arrow-left\", \"back\"], [\"Forward\", \"Forward to next view\", \"fa fa-arrow-right icon-arrow-right\", \"forward\"], [\"\", \"\", \"\", \"\"], [\"Pan\", \"Pan axes with left mouse, zoom with right\", \"fa fa-arrows icon-move\", \"pan\"], [\"Zoom\", \"Zoom to rectangle\", \"fa fa-square-o icon-check-empty\", \"zoom\"], [\"\", \"\", \"\", \"\"], [\"Download\", \"Download plot\", \"fa fa-floppy-o icon-save\", \"download\"]];\n",
       "\n",
       "mpl.extensions = [\"eps\", \"jpeg\", \"pdf\", \"png\", \"ps\", \"raw\", \"svg\", \"tif\"];\n",
       "\n",
       "mpl.default_extension = \"png\";var comm_websocket_adapter = function(comm) {\n",
       "    // Create a \"websocket\"-like object which calls the given IPython comm\n",
       "    // object with the appropriate methods. Currently this is a non binary\n",
       "    // socket, so there is still some room for performance tuning.\n",
       "    var ws = {};\n",
       "\n",
       "    ws.close = function() {\n",
       "        comm.close()\n",
       "    };\n",
       "    ws.send = function(m) {\n",
       "        //console.log('sending', m);\n",
       "        comm.send(m);\n",
       "    };\n",
       "    // Register the callback with on_msg.\n",
       "    comm.on_msg(function(msg) {\n",
       "        //console.log('receiving', msg['content']['data'], msg);\n",
       "        // Pass the mpl event to the overridden (by mpl) onmessage function.\n",
       "        ws.onmessage(msg['content']['data'])\n",
       "    });\n",
       "    return ws;\n",
       "}\n",
       "\n",
       "mpl.mpl_figure_comm = function(comm, msg) {\n",
       "    // This is the function which gets called when the mpl process\n",
       "    // starts-up an IPython Comm through the \"matplotlib\" channel.\n",
       "\n",
       "    var id = msg.content.data.id;\n",
       "    // Get hold of the div created by the display call when the Comm\n",
       "    // socket was opened in Python.\n",
       "    var element = $(\"#\" + id);\n",
       "    var ws_proxy = comm_websocket_adapter(comm)\n",
       "\n",
       "    function ondownload(figure, format) {\n",
       "        window.open(figure.imageObj.src);\n",
       "    }\n",
       "\n",
       "    var fig = new mpl.figure(id, ws_proxy,\n",
       "                           ondownload,\n",
       "                           element.get(0));\n",
       "\n",
       "    // Call onopen now - mpl needs it, as it is assuming we've passed it a real\n",
       "    // web socket which is closed, not our websocket->open comm proxy.\n",
       "    ws_proxy.onopen();\n",
       "\n",
       "    fig.parent_element = element.get(0);\n",
       "    fig.cell_info = mpl.find_output_cell(\"<div id='\" + id + \"'></div>\");\n",
       "    if (!fig.cell_info) {\n",
       "        console.error(\"Failed to find cell for figure\", id, fig);\n",
       "        return;\n",
       "    }\n",
       "\n",
       "    var output_index = fig.cell_info[2]\n",
       "    var cell = fig.cell_info[0];\n",
       "\n",
       "};\n",
       "\n",
       "mpl.figure.prototype.handle_close = function(fig, msg) {\n",
       "    var width = fig.canvas.width/mpl.ratio\n",
       "    fig.root.unbind('remove')\n",
       "\n",
       "    // Update the output cell to use the data from the current canvas.\n",
       "    fig.push_to_output();\n",
       "    var dataURL = fig.canvas.toDataURL();\n",
       "    // Re-enable the keyboard manager in IPython - without this line, in FF,\n",
       "    // the notebook keyboard shortcuts fail.\n",
       "    IPython.keyboard_manager.enable()\n",
       "    $(fig.parent_element).html('<img src=\"' + dataURL + '\" width=\"' + width + '\">');\n",
       "    fig.close_ws(fig, msg);\n",
       "}\n",
       "\n",
       "mpl.figure.prototype.close_ws = function(fig, msg){\n",
       "    fig.send_message('closing', msg);\n",
       "    // fig.ws.close()\n",
       "}\n",
       "\n",
       "mpl.figure.prototype.push_to_output = function(remove_interactive) {\n",
       "    // Turn the data on the canvas into data in the output cell.\n",
       "    var width = this.canvas.width/mpl.ratio\n",
       "    var dataURL = this.canvas.toDataURL();\n",
       "    this.cell_info[1]['text/html'] = '<img src=\"' + dataURL + '\" width=\"' + width + '\">';\n",
       "}\n",
       "\n",
       "mpl.figure.prototype.updated_canvas_event = function() {\n",
       "    // Tell IPython that the notebook contents must change.\n",
       "    IPython.notebook.set_dirty(true);\n",
       "    this.send_message(\"ack\", {});\n",
       "    var fig = this;\n",
       "    // Wait a second, then push the new image to the DOM so\n",
       "    // that it is saved nicely (might be nice to debounce this).\n",
       "    setTimeout(function () { fig.push_to_output() }, 1000);\n",
       "}\n",
       "\n",
       "mpl.figure.prototype._init_toolbar = function() {\n",
       "    var fig = this;\n",
       "\n",
       "    var nav_element = $('<div/>');\n",
       "    nav_element.attr('style', 'width: 100%');\n",
       "    this.root.append(nav_element);\n",
       "\n",
       "    // Define a callback function for later on.\n",
       "    function toolbar_event(event) {\n",
       "        return fig.toolbar_button_onclick(event['data']);\n",
       "    }\n",
       "    function toolbar_mouse_event(event) {\n",
       "        return fig.toolbar_button_onmouseover(event['data']);\n",
       "    }\n",
       "\n",
       "    for(var toolbar_ind in mpl.toolbar_items){\n",
       "        var name = mpl.toolbar_items[toolbar_ind][0];\n",
       "        var tooltip = mpl.toolbar_items[toolbar_ind][1];\n",
       "        var image = mpl.toolbar_items[toolbar_ind][2];\n",
       "        var method_name = mpl.toolbar_items[toolbar_ind][3];\n",
       "\n",
       "        if (!name) { continue; };\n",
       "\n",
       "        var button = $('<button class=\"btn btn-default\" href=\"#\" title=\"' + name + '\"><i class=\"fa ' + image + ' fa-lg\"></i></button>');\n",
       "        button.click(method_name, toolbar_event);\n",
       "        button.mouseover(tooltip, toolbar_mouse_event);\n",
       "        nav_element.append(button);\n",
       "    }\n",
       "\n",
       "    // Add the status bar.\n",
       "    var status_bar = $('<span class=\"mpl-message\" style=\"text-align:right; float: right;\"/>');\n",
       "    nav_element.append(status_bar);\n",
       "    this.message = status_bar[0];\n",
       "\n",
       "    // Add the close button to the window.\n",
       "    var buttongrp = $('<div class=\"btn-group inline pull-right\"></div>');\n",
       "    var button = $('<button class=\"btn btn-mini btn-primary\" href=\"#\" title=\"Stop Interaction\"><i class=\"fa fa-power-off icon-remove icon-large\"></i></button>');\n",
       "    button.click(function (evt) { fig.handle_close(fig, {}); } );\n",
       "    button.mouseover('Stop Interaction', toolbar_mouse_event);\n",
       "    buttongrp.append(button);\n",
       "    var titlebar = this.root.find($('.ui-dialog-titlebar'));\n",
       "    titlebar.prepend(buttongrp);\n",
       "}\n",
       "\n",
       "mpl.figure.prototype._root_extra_style = function(el){\n",
       "    var fig = this\n",
       "    el.on(\"remove\", function(){\n",
       "\tfig.close_ws(fig, {});\n",
       "    });\n",
       "}\n",
       "\n",
       "mpl.figure.prototype._canvas_extra_style = function(el){\n",
       "    // this is important to make the div 'focusable\n",
       "    el.attr('tabindex', 0)\n",
       "    // reach out to IPython and tell the keyboard manager to turn it's self\n",
       "    // off when our div gets focus\n",
       "\n",
       "    // location in version 3\n",
       "    if (IPython.notebook.keyboard_manager) {\n",
       "        IPython.notebook.keyboard_manager.register_events(el);\n",
       "    }\n",
       "    else {\n",
       "        // location in version 2\n",
       "        IPython.keyboard_manager.register_events(el);\n",
       "    }\n",
       "\n",
       "}\n",
       "\n",
       "mpl.figure.prototype._key_event_extra = function(event, name) {\n",
       "    var manager = IPython.notebook.keyboard_manager;\n",
       "    if (!manager)\n",
       "        manager = IPython.keyboard_manager;\n",
       "\n",
       "    // Check for shift+enter\n",
       "    if (event.shiftKey && event.which == 13) {\n",
       "        this.canvas_div.blur();\n",
       "        // select the cell after this one\n",
       "        var index = IPython.notebook.find_cell_index(this.cell_info[0]);\n",
       "        IPython.notebook.select(index + 1);\n",
       "    }\n",
       "}\n",
       "\n",
       "mpl.figure.prototype.handle_save = function(fig, msg) {\n",
       "    fig.ondownload(fig, null);\n",
       "}\n",
       "\n",
       "\n",
       "mpl.find_output_cell = function(html_output) {\n",
       "    // Return the cell and output element which can be found *uniquely* in the notebook.\n",
       "    // Note - this is a bit hacky, but it is done because the \"notebook_saving.Notebook\"\n",
       "    // IPython event is triggered only after the cells have been serialised, which for\n",
       "    // our purposes (turning an active figure into a static one), is too late.\n",
       "    var cells = IPython.notebook.get_cells();\n",
       "    var ncells = cells.length;\n",
       "    for (var i=0; i<ncells; i++) {\n",
       "        var cell = cells[i];\n",
       "        if (cell.cell_type === 'code'){\n",
       "            for (var j=0; j<cell.output_area.outputs.length; j++) {\n",
       "                var data = cell.output_area.outputs[j];\n",
       "                if (data.data) {\n",
       "                    // IPython >= 3 moved mimebundle to data attribute of output\n",
       "                    data = data.data;\n",
       "                }\n",
       "                if (data['text/html'] == html_output) {\n",
       "                    return [cell, data, j];\n",
       "                }\n",
       "            }\n",
       "        }\n",
       "    }\n",
       "}\n",
       "\n",
       "// Register the function which deals with the matplotlib target/channel.\n",
       "// The kernel may be null if the page has been refreshed.\n",
       "if (IPython.notebook.kernel != null) {\n",
       "    IPython.notebook.kernel.comm_manager.register_target('matplotlib', mpl.mpl_figure_comm);\n",
       "}\n"
      ],
      "text/plain": [
       "<IPython.core.display.Javascript object>"
      ]
     },
     "metadata": {},
     "output_type": "display_data"
    },
    {
     "data": {
      "text/html": [
       "<img src=\"data:image/png;base64,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\" width=\"1000\">"
      ],
      "text/plain": [
       "<IPython.core.display.HTML object>"
      ]
     },
     "metadata": {},
     "output_type": "display_data"
    }
   ],
   "source": [
    "dual_train_plots(results.index,\n",
    "                 results.cost, results.val,\n",
    "                 results.cost, results.val)\n",
    "plt.tight_layout()\n",
    "plt.savefig(str(output / f'{name}_stats_a.png'))"
   ]
  },
  {
   "cell_type": "code",
   "execution_count": null,
   "metadata": {},
   "outputs": [],
   "source": []
  }
 ],
 "metadata": {
  "kernelspec": {
   "display_name": "goofit-june2020",
   "language": "python",
   "name": "goofit-june2020"
  },
  "language_info": {
   "codemirror_mode": {
    "name": "ipython",
    "version": 3
   },
   "file_extension": ".py",
   "mimetype": "text/x-python",
   "name": "python",
   "nbconvert_exporter": "python",
   "pygments_lexer": "ipython3",
   "version": "3.7.6"
  }
 },
 "nbformat": 4,
 "nbformat_minor": 2
}
