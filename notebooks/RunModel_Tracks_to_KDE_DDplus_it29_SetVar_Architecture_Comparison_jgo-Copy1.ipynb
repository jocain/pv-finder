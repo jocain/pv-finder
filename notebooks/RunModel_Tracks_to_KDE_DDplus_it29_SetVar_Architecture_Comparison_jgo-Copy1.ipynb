{
 "cells": [
  {
   "cell_type": "code",
   "execution_count": 1,
   "metadata": {},
   "outputs": [],
   "source": [
    "%matplotlib notebook  "
   ]
  },
  {
   "cell_type": "code",
   "execution_count": 2,
   "metadata": {},
   "outputs": [
    {
     "name": "stdout",
     "output_type": "stream",
     "text": [
      "Wed Aug 11 05:08:14 2021       \n",
      "+-----------------------------------------------------------------------------+\n",
      "| NVIDIA-SMI 460.73.01    Driver Version: 460.73.01    CUDA Version: 11.2     |\n",
      "|-------------------------------+----------------------+----------------------+\n",
      "| GPU  Name        Persistence-M| Bus-Id        Disp.A | Volatile Uncorr. ECC |\n",
      "| Fan  Temp  Perf  Pwr:Usage/Cap|         Memory-Usage | GPU-Util  Compute M. |\n",
      "|                               |                      |               MIG M. |\n",
      "|===============================+======================+======================|\n",
      "|   0  A100-PCIE-40GB      Off  | 00000000:01:00.0 Off |                    0 |\n",
      "| N/A   47C    P0    75W / 250W |  10353MiB / 40536MiB |     39%      Default |\n",
      "|                               |                      |             Disabled |\n",
      "+-------------------------------+----------------------+----------------------+\n",
      "|   1  A100-PCIE-40GB      Off  | 00000000:25:00.0 Off |                    0 |\n",
      "| N/A   61C    P0   248W / 250W |  21014MiB / 40536MiB |     77%      Default |\n",
      "|                               |                      |             Disabled |\n",
      "+-------------------------------+----------------------+----------------------+\n",
      "|   2  A100-PCIE-40GB      Off  | 00000000:81:00.0 Off |                    0 |\n",
      "| N/A   27C    P0    35W / 250W |      3MiB / 40536MiB |      0%      Default |\n",
      "|                               |                      |             Disabled |\n",
      "+-------------------------------+----------------------+----------------------+\n",
      "|   3  A100-PCIE-40GB      Off  | 00000000:C1:00.0 Off |                    0 |\n",
      "| N/A   57C    P0   235W / 250W |  20750MiB / 40536MiB |     76%      Default |\n",
      "|                               |                      |             Disabled |\n",
      "+-------------------------------+----------------------+----------------------+\n",
      "                                                                               \n",
      "+-----------------------------------------------------------------------------+\n",
      "| Processes:                                                                  |\n",
      "|  GPU   GI   CI        PID   Type   Process name                  GPU Memory |\n",
      "|        ID   ID                                                   Usage      |\n",
      "|=============================================================================|\n",
      "|    0   N/A  N/A     20897      C   python                           8097MiB |\n",
      "|    0   N/A  N/A     98051      C   .../envs/will-gpu/bin/python     2253MiB |\n",
      "|    1   N/A  N/A     96766      C   .../july-2021-gpu/bin/python    21011MiB |\n",
      "|    3   N/A  N/A     96651      C   .../july-2021-gpu/bin/python    20747MiB |\n",
      "+-----------------------------------------------------------------------------+\n"
     ]
    }
   ],
   "source": [
    "!nvidia-smi"
   ]
  },
  {
   "cell_type": "code",
   "execution_count": 3,
   "metadata": {},
   "outputs": [],
   "source": [
    "import matplotlib.pyplot as plt\n",
    "import numpy as np\n",
    "import time\n",
    "import torch\n",
    "import pandas as pd\n",
    "\n",
    "# Python 3 standard library\n",
    "from pathlib import Path\n",
    "\n",
    "from model.collectdata_kde_Ellipsoids import collect_t2kde_data\n",
    "\n",
    "##  It takes 9 input features (poca centers + (A,B,C,D,E,F)) . \n",
    "from model.models_kde import TracksToKDE_Ellipsoids_DDplus as Model\n",
    "\n",
    "# kde_loss_Ba is a Chi2 loss (go and look at it!)\n",
    "from model.kde_loss_Ba import Loss\n",
    "\n",
    "from model.training_kde import trainNet, select_gpu, Results\n",
    "from model.plots import dual_train_plots, dual_train_plots_tracks_to_KDE, replace_in_ax"
   ]
  },
  {
   "cell_type": "code",
   "execution_count": 7,
   "metadata": {
    "scrolled": true
   },
   "outputs": [
    {
     "name": "stdout",
     "output_type": "stream",
     "text": [
      "1 available GPUs (initially using device 0):\n",
      "  0 A100-PCIE-40GB\n"
     ]
    }
   ],
   "source": [
    "#This notebook should be functionally the same as RunModel_Tracks_to_KDE_DDplus_it29_SetVar_Architecture_Comparison_jgo.\n",
    "#The only reason that notebook exists is to run model training in parallel. \n",
    "\n",
    "n_epochs = 250 - 65 - 4 - 53\n",
    "# Size of batches\n",
    "batch_size = 64 ## batch_size = 24 ---> 4763MiB / 12066MiB on Titan V\n",
    "# How fast to learn\n",
    "learning_rate = 1e-6\n",
    "architectures = [[5, 7, 10, 25, 50, 75, 100, 150, 250, 350, 500]]\n",
    "latentChannels = 4\n",
    "model_names = ['5to500_nodes_exp_trainset_slow_finisher']\n",
    "\n",
    "previous = ['jgo_files/10August2021_DDplus_loss_Ba_iter29_floatAll_SetVar_5to500_nodes_exp_trainset_slow_finisher_181_epochs_1e-06/10August2021_DDplus_loss_Ba_iter29_floatAll_SetVar_5to500_nodes_exp_trainset_slow_finisher_181_epochs_1e-06_53.pyt']#,\n",
    "\n",
    "\n",
    "# architectures = [[5]*11,\n",
    "#                  [10]*11,\n",
    "#                  [15]*11\n",
    "#                  [20]*11\n",
    "#                  [25]*11\n",
    "#                  [30]*11\n",
    "#                  [50]*11\n",
    "#                  [5, 6, 8, 9, 11, 12, 14, 15, 17, 18, 20],\n",
    "#                  [5, 5, 5, 6, 7, 8, 10, 12, 14, 17, 20],\n",
    "#                  [5, 6, 7, 8, 9, 11, 12, 14, 16, 17, 20]\n",
    "#                  [5, 9, 14, 18, 23, 27, 32, 36, 41, 45, 50],\n",
    "#                  [5, 13, 23, 31, 41, 49, 59, 67, 77, 85, 100],\n",
    "#                  [5, 7, 10, 25, 50, 75, 100, 150, 250, 350, 500]]\n",
    "# model_names = ['5_nodes',\n",
    "#                '10_nodes',\n",
    "#                '15_nodes',\n",
    "#                '20_nodes',\n",
    "#                '25_nodes',\n",
    "#                '30_nodes',\n",
    "#                '50_nodes',\n",
    "#                '5to20_lin_inc_nodes',\n",
    "#                '5to20_quadly_inc_nodes',\n",
    "#                '5to20_exp_inc_nodes',\n",
    "#                '5to50_nodes'\n",
    "#                '5to500_exp_inc_nodes']\n",
    "\n",
    "device = select_gpu(2)\n",
    "##device = \"cpu\""
   ]
  },
  {
   "cell_type": "code",
   "execution_count": 5,
   "metadata": {},
   "outputs": [
    {
     "name": "stdout",
     "output_type": "stream",
     "text": [
      "Loading data...\n"
     ]
    },
    {
     "name": "stderr",
     "output_type": "stream",
     "text": [
      "/data/home/jgocain/.local/lib/python3.8/site-packages/awkward0/persist.py:509: DeprecationWarning: tostring() is deprecated. Use tobytes() instead.\n",
      "  schema = schema.tostring()\n"
     ]
    },
    {
     "name": "stdout",
     "output_type": "stream",
     "text": [
      "pocaMx.shape =  (80000,)\n",
      "nEvts =  80000\n",
      "len(pocaMx[0]) =  199\n",
      "len(pocaMx[1]) =  25\n",
      "len(pocaMx[2]) =  369\n",
      "len(pocaMx[3]) =  143\n",
      "len(pocaMx[4]) =  160\n",
      "majorAxis.shape =  (80000, 3)\n",
      "minorAxis_1.shape =  (80000, 3)\n",
      "minorAxis_2.shape =  (80000, 3)\n",
      "have entered six_ellipsoid_parameters\n",
      "  \n",
      " \n",
      "  nEvts =  80000\n",
      " iEvt, nTrks =  0 199\n",
      " iEvt, nTrks =  1 25\n",
      " iEvt, nTrks =  2 369\n",
      " iEvt, nTrks =  3 143\n",
      " iEvt, nTrks =  4 160\n",
      " iEvt, nTrks =  5 260\n",
      " iEvt, nTrks =  6 237\n",
      " iEvt, nTrks =  7 327\n",
      " iEvt, nTrks =  8 178\n",
      " iEvt, nTrks =  9 106\n",
      "A.shape =  (80000,)\n",
      "majorAxis[iTrk][0][0] =  0.00045611936\n",
      "majorAxis[iTrk][1][0] =  -4.8292455e-05\n",
      "majorAxis[iTrk][2][0] =  0.090019904\n",
      "minorAxis_1[iTrk][0][0] =  -1.8602173\n",
      "minorAxis_1[iTrk][1][0] =  -17.569641\n",
      "minorAxis_1[iTrk][2][0] =  4.7891795e-08\n",
      "minorAxis_2[iTrk][0][0] =  -17.569414\n",
      "minorAxis_2[iTrk][1][0] =  1.8601931\n",
      "minorAxis_2[iTrk][2][0] =  0.0900199\n",
      "  \n",
      "majorAxis[iTrk][0][0] =  0.002360258\n",
      "majorAxis[iTrk][1][0] =  -0.007426616\n",
      "majorAxis[iTrk][2][0] =  0.3710108\n",
      "minorAxis_1[iTrk][0][0] =  -16.837948\n",
      "minorAxis_1[iTrk][1][0] =  -5.3512807\n",
      "minorAxis_1[iTrk][2][0] =  8.157131e-09\n",
      "minorAxis_2[iTrk][0][0] =  -5.3501005\n",
      "minorAxis_2[iTrk][1][0] =  16.834236\n",
      "minorAxis_2[iTrk][2][0] =  0.3710108\n",
      "  \n",
      "majorAxis[iTrk][0][0] =  6.220712e-05\n",
      "majorAxis[iTrk][1][0] =  -4.4594188e-05\n",
      "majorAxis[iTrk][2][0] =  0.036773544\n",
      "minorAxis_1[iTrk][0][0] =  10.293747\n",
      "minorAxis_1[iTrk][1][0] =  14.359369\n",
      "minorAxis_1[iTrk][2][0] =  1.571041e-06\n",
      "minorAxis_2[iTrk][0][0] =  14.359338\n",
      "minorAxis_2[iTrk][1][0] =  -10.293725\n",
      "minorAxis_2[iTrk][2][0] =  -0.03677354\n",
      "  \n",
      "majorAxis[iTrk][0][0] =  0.0033452737\n",
      "majorAxis[iTrk][1][0] =  0.00013028442\n",
      "majorAxis[iTrk][2][0] =  0.2431933\n",
      "minorAxis_1[iTrk][0][0] =  0.6875674\n",
      "minorAxis_1[iTrk][1][0] =  -17.65446\n",
      "minorAxis_1[iTrk][2][0] =  -6.6602626e-09\n",
      "minorAxis_2[iTrk][0][0] =  -17.652788\n",
      "minorAxis_2[iTrk][1][0] =  -0.68750226\n",
      "minorAxis_2[iTrk][2][0] =  0.2431933\n",
      "  \n",
      "majorAxis[iTrk][0][0] =  -0.00068196515\n",
      "majorAxis[iTrk][1][0] =  -0.00044562915\n",
      "majorAxis[iTrk][2][0] =  0.119970225\n",
      "minorAxis_1[iTrk][0][0] =  9.664597\n",
      "minorAxis_1[iTrk][1][0] =  -14.790141\n",
      "minorAxis_1[iTrk][2][0] =  1.9819232e-08\n",
      "minorAxis_2[iTrk][0][0] =  -14.789802\n",
      "minorAxis_2[iTrk][1][0] =  -9.664374\n",
      "minorAxis_2[iTrk][2][0] =  -0.11997023\n",
      "  \n",
      "majorAxis[iTrk][0][0] =  -8.245073e-05\n",
      "majorAxis[iTrk][1][0] =  0.00015860004\n",
      "majorAxis[iTrk][2][0] =  0.05619731\n",
      "minorAxis_1[iTrk][0][0] =  -15.676071\n",
      "minorAxis_1[iTrk][1][0] =  -8.149452\n",
      "minorAxis_1[iTrk][2][0] =  4.1105773e-07\n",
      "minorAxis_2[iTrk][0][0] =  -8.14941\n",
      "minorAxis_2[iTrk][1][0] =  15.675991\n",
      "minorAxis_2[iTrk][2][0] =  -0.056197315\n",
      "  \n",
      "majorAxis[iTrk][0][0] =  -0.00015151131\n",
      "majorAxis[iTrk][1][0] =  0.00067339616\n",
      "majorAxis[iTrk][2][0] =  0.11042937\n",
      "minorAxis_1[iTrk][0][0] =  17.236937\n",
      "minorAxis_1[iTrk][1][0] =  3.8782384\n",
      "minorAxis_1[iTrk][2][0] =  2.3217373e-08\n",
      "minorAxis_2[iTrk][0][0] =  3.8781626\n",
      "minorAxis_2[iTrk][1][0] =  -17.236599\n",
      "minorAxis_2[iTrk][2][0] =  0.11042936\n",
      "  \n",
      "majorAxis[iTrk][0][0] =  -7.577422e-05\n",
      "majorAxis[iTrk][1][0] =  -0.00036802414\n",
      "majorAxis[iTrk][2][0] =  0.08147708\n",
      "minorAxis_1[iTrk][0][0] =  -17.304853\n",
      "minorAxis_1[iTrk][1][0] =  3.5629773\n",
      "minorAxis_1[iTrk][2][0] =  5.80501e-09\n",
      "minorAxis_2[iTrk][0][0] =  3.5629392\n",
      "minorAxis_2[iTrk][1][0] =  17.304668\n",
      "minorAxis_2[iTrk][2][0] =  0.081477076\n",
      "  \n",
      "majorAxis[iTrk][0][0] =  0.00013397264\n",
      "majorAxis[iTrk][1][0] =  0.00094400026\n",
      "majorAxis[iTrk][2][0] =  0.12978876\n",
      "minorAxis_1[iTrk][0][0] =  17.492561\n",
      "minorAxis_1[iTrk][1][0] =  -2.4825466\n",
      "minorAxis_1[iTrk][2][0] =  1.1329301e-08\n",
      "minorAxis_2[iTrk][0][0] =  -2.4824798\n",
      "minorAxis_2[iTrk][1][0] =  -17.492088\n",
      "minorAxis_2[iTrk][2][0] =  0.12978874\n",
      "  \n",
      "majorAxis[iTrk][0][0] =  0.00043501743\n",
      "majorAxis[iTrk][1][0] =  -0.0016521378\n",
      "majorAxis[iTrk][2][0] =  0.17373301\n",
      "minorAxis_1[iTrk][0][0] =  -17.0855\n",
      "minorAxis_1[iTrk][1][0] =  -4.4987106\n",
      "minorAxis_1[iTrk][2][0] =  -7.7275175e-08\n",
      "minorAxis_2[iTrk][0][0] =  -4.4984937\n",
      "minorAxis_2[iTrk][1][0] =  17.084677\n",
      "minorAxis_2[iTrk][2][0] =  0.17373303\n",
      "  \n",
      "len(X) =  80000\n",
      "len(Xlist) =  1\n",
      "Loaded /share/lazy/will/data/June30_2020_80k_1.h5 in 147.3 s\n",
      "pocaMx.shape =  (80000,)\n",
      "nEvts =  80000\n",
      "len(pocaMx[0]) =  222\n",
      "len(pocaMx[1]) =  133\n",
      "len(pocaMx[2]) =  259\n",
      "len(pocaMx[3]) =  114\n",
      "len(pocaMx[4]) =  143\n",
      "majorAxis.shape =  (80000, 3)\n",
      "minorAxis_1.shape =  (80000, 3)\n",
      "minorAxis_2.shape =  (80000, 3)\n",
      "have entered six_ellipsoid_parameters\n",
      "  \n",
      " \n",
      "  nEvts =  80000\n",
      " iEvt, nTrks =  0 222\n",
      " iEvt, nTrks =  1 133\n",
      " iEvt, nTrks =  2 259\n",
      " iEvt, nTrks =  3 114\n",
      " iEvt, nTrks =  4 143\n",
      " iEvt, nTrks =  5 136\n",
      " iEvt, nTrks =  6 397\n",
      " iEvt, nTrks =  7 370\n",
      " iEvt, nTrks =  8 97\n",
      " iEvt, nTrks =  9 67\n",
      "A.shape =  (80000,)\n",
      "majorAxis[iTrk][0][0] =  -0.001036478\n",
      "majorAxis[iTrk][1][0] =  0.0009833863\n",
      "majorAxis[iTrk][2][0] =  0.15887721\n",
      "minorAxis_1[iTrk][0][0] =  -12.160475\n",
      "minorAxis_1[iTrk][1][0] =  -12.817002\n",
      "minorAxis_1[iTrk][2][0] =  0.0\n",
      "minorAxis_2[iTrk][0][0] =  -12.816484\n",
      "minorAxis_2[iTrk][1][0] =  12.159985\n",
      "minorAxis_2[iTrk][2][0] =  -0.15887721\n",
      "  \n",
      "majorAxis[iTrk][0][0] =  0.0016579849\n",
      "majorAxis[iTrk][1][0] =  0.0020989499\n",
      "majorAxis[iTrk][2][0] =  0.21738033\n",
      "minorAxis_1[iTrk][0][0] =  -13.864233\n",
      "minorAxis_1[iTrk][1][0] =  10.95152\n",
      "minorAxis_1[iTrk][2][0] =  -3.3017489e-09\n",
      "minorAxis_2[iTrk][0][0] =  10.95069\n",
      "minorAxis_2[iTrk][1][0] =  13.863184\n",
      "minorAxis_2[iTrk][2][0] =  -0.21738033\n",
      "  \n",
      "majorAxis[iTrk][0][0] =  0.00012481198\n",
      "majorAxis[iTrk][1][0] =  -0.00028747538\n",
      "majorAxis[iTrk][2][0] =  0.07441149\n",
      "minorAxis_1[iTrk][0][0] =  -16.206305\n",
      "minorAxis_1[iTrk][1][0] =  -7.036224\n",
      "minorAxis_1[iTrk][2][0] =  5.3456716e-08\n",
      "minorAxis_2[iTrk][0][0] =  -7.0361605\n",
      "minorAxis_2[iTrk][1][0] =  16.20616\n",
      "minorAxis_2[iTrk][2][0] =  0.07441148\n",
      "  \n",
      "majorAxis[iTrk][0][0] =  -0.007920195\n",
      "majorAxis[iTrk][1][0] =  -0.009694931\n",
      "majorAxis[iTrk][2][0] =  0.47021532\n",
      "minorAxis_1[iTrk][0][0] =  -13.682467\n",
      "minorAxis_1[iTrk][1][0] =  11.177781\n",
      "minorAxis_1[iTrk][2][0] =  1.8638048e-10\n",
      "minorAxis_2[iTrk][0][0] =  11.173822\n",
      "minorAxis_2[iTrk][1][0] =  13.677622\n",
      "minorAxis_2[iTrk][2][0] =  0.47021535\n",
      "  \n",
      "majorAxis[iTrk][0][0] =  0.00038854493\n",
      "majorAxis[iTrk][1][0] =  0.0009230774\n",
      "majorAxis[iTrk][2][0] =  0.13301943\n",
      "minorAxis_1[iTrk][0][0] =  -16.284061\n",
      "minorAxis_1[iTrk][1][0] =  6.854344\n",
      "minorAxis_1[iTrk][2][0] =  2.2469074e-07\n",
      "minorAxis_2[iTrk][0][0] =  6.8541493\n",
      "minorAxis_2[iTrk][1][0] =  16.283602\n",
      "minorAxis_2[iTrk][2][0] =  -0.13301945\n",
      "  \n",
      "majorAxis[iTrk][0][0] =  -5.6093595e-05\n",
      "majorAxis[iTrk][1][0] =  0.000114469876\n",
      "majorAxis[iTrk][2][0] =  0.04745733\n",
      "minorAxis_1[iTrk][0][0] =  15.865369\n",
      "minorAxis_1[iTrk][1][0] =  7.774496\n",
      "minorAxis_1[iTrk][2][0] =  1.8465234e-06\n",
      "minorAxis_2[iTrk][0][0] =  7.774468\n",
      "minorAxis_2[iTrk][1][0] =  -15.865313\n",
      "minorAxis_2[iTrk][2][0] =  0.04745733\n",
      "  \n",
      "majorAxis[iTrk][0][0] =  9.375396e-05\n",
      "majorAxis[iTrk][1][0] =  0.0002926058\n",
      "majorAxis[iTrk][2][0] =  0.07367872\n",
      "minorAxis_1[iTrk][0][0] =  -16.825275\n",
      "minorAxis_1[iTrk][1][0] =  5.390994\n",
      "minorAxis_1[iTrk][2][0] =  -2.1861728e-08\n",
      "minorAxis_2[iTrk][0][0] =  5.3909473\n",
      "minorAxis_2[iTrk][1][0] =  16.825129\n",
      "minorAxis_2[iTrk][2][0] =  -0.07367872\n",
      "  \n",
      "majorAxis[iTrk][0][0] =  -1.1543522e-06\n",
      "majorAxis[iTrk][1][0] =  2.8112001e-05\n",
      "majorAxis[iTrk][2][0] =  0.022295665\n",
      "minorAxis_1[iTrk][0][0] =  -17.652967\n",
      "minorAxis_1[iTrk][1][0] =  -0.7248769\n",
      "minorAxis_1[iTrk][2][0] =  1.7815448e-07\n",
      "minorAxis_2[iTrk][0][0] =  -0.7248763\n",
      "minorAxis_2[iTrk][1][0] =  17.652954\n",
      "minorAxis_2[iTrk][2][0] =  -0.022295661\n",
      "  \n",
      "majorAxis[iTrk][0][0] =  -0.2612214\n",
      "majorAxis[iTrk][1][0] =  0.83076316\n",
      "majorAxis[iTrk][2][0] =  3.8745012\n",
      "minorAxis_1[iTrk][0][0] =  -16.85429\n",
      "minorAxis_1[iTrk][1][0] =  -5.299587\n",
      "minorAxis_1[iTrk][2][0] =  2.0865195e-11\n",
      "minorAxis_2[iTrk][0][0] =  -5.1705856\n",
      "minorAxis_2[iTrk][1][0] =  16.444027\n",
      "minorAxis_2[iTrk][2][0] =  -3.874501\n",
      "  \n",
      "majorAxis[iTrk][0][0] =  -0.057592034\n",
      "majorAxis[iTrk][1][0] =  0.06503555\n",
      "majorAxis[iTrk][2][0] =  1.2373537\n",
      "minorAxis_1[iTrk][0][0] =  13.227038\n",
      "minorAxis_1[iTrk][1][0] =  11.713163\n",
      "minorAxis_1[iTrk][2][0] =  1.7679876e-10\n",
      "minorAxis_2[iTrk][0][0] =  11.684402\n",
      "minorAxis_2[iTrk][1][0] =  -13.194561\n",
      "minorAxis_2[iTrk][2][0] =  1.2373537\n",
      "  \n",
      "len(X) =  80000\n",
      "len(Xlist) =  2\n",
      "Loaded /share/lazy/will/data/June30_2020_80k_2.h5 in 147.7 s\n",
      "pocaMx.shape =  (80000,)\n",
      "nEvts =  80000\n",
      "len(pocaMx[0]) =  196\n",
      "len(pocaMx[1]) =  35\n",
      "len(pocaMx[2]) =  265\n",
      "len(pocaMx[3]) =  128\n",
      "len(pocaMx[4]) =  124\n"
     ]
    },
    {
     "name": "stdout",
     "output_type": "stream",
     "text": [
      "majorAxis.shape =  (80000, 3)\n",
      "minorAxis_1.shape =  (80000, 3)\n",
      "minorAxis_2.shape =  (80000, 3)\n",
      "have entered six_ellipsoid_parameters\n",
      "  \n",
      " \n",
      "  nEvts =  80000\n",
      " iEvt, nTrks =  0 196\n",
      " iEvt, nTrks =  1 35\n",
      " iEvt, nTrks =  2 265\n",
      " iEvt, nTrks =  3 128\n",
      " iEvt, nTrks =  4 124\n",
      " iEvt, nTrks =  5 122\n",
      " iEvt, nTrks =  6 300\n",
      " iEvt, nTrks =  7 179\n",
      " iEvt, nTrks =  8 243\n",
      " iEvt, nTrks =  9 112\n",
      "A.shape =  (80000,)\n",
      "majorAxis[iTrk][0][0] =  -2.440992e-05\n",
      "majorAxis[iTrk][1][0] =  -0.00038087237\n",
      "majorAxis[iTrk][2][0] =  0.08211532\n",
      "minorAxis_1[iTrk][0][0] =  -17.631672\n",
      "minorAxis_1[iTrk][1][0] =  1.130005\n",
      "minorAxis_1[iTrk][2][0] =  4.7444193e-08\n",
      "minorAxis_2[iTrk][0][0] =  1.1299927\n",
      "minorAxis_2[iTrk][1][0] =  17.631481\n",
      "minorAxis_2[iTrk][2][0] =  0.08211532\n",
      "  \n",
      "majorAxis[iTrk][0][0] =  -0.02277395\n",
      "majorAxis[iTrk][1][0] =  0.0014473597\n",
      "majorAxis[iTrk][2][0] =  0.6347583\n",
      "minorAxis_1[iTrk][0][0] =  -1.1205891\n",
      "minorAxis_1[iTrk][1][0] =  -17.632273\n",
      "minorAxis_1[iTrk][2][0] =  2.1543272e-09\n",
      "minorAxis_2[iTrk][0][0] =  -17.620888\n",
      "minorAxis_2[iTrk][1][0] =  1.1198657\n",
      "minorAxis_2[iTrk][2][0] =  -0.63475823\n",
      "  \n",
      "majorAxis[iTrk][0][0] =  0.0004024825\n",
      "majorAxis[iTrk][1][0] =  -0.00023784715\n",
      "majorAxis[iTrk][2][0] =  0.090883136\n",
      "minorAxis_1[iTrk][0][0] =  -8.988615\n",
      "minorAxis_1[iTrk][1][0] =  -15.210441\n",
      "minorAxis_1[iTrk][2][0] =  -6.56547e-08\n",
      "minorAxis_2[iTrk][0][0] =  -15.21024\n",
      "minorAxis_2[iTrk][1][0] =  8.988497\n",
      "minorAxis_2[iTrk][2][0] =  0.090883136\n",
      "  \n",
      "majorAxis[iTrk][0][0] =  0.0068744724\n",
      "majorAxis[iTrk][1][0] =  0.0017050834\n",
      "majorAxis[iTrk][2][0] =  0.3537121\n",
      "minorAxis_1[iTrk][0][0] =  4.2532983\n",
      "minorAxis_1[iTrk][1][0] =  -17.148241\n",
      "minorAxis_1[iTrk][2][0] =  1.1939819e-09\n",
      "minorAxis_2[iTrk][0][0] =  -17.144806\n",
      "minorAxis_2[iTrk][1][0] =  -4.252446\n",
      "minorAxis_2[iTrk][2][0] =  0.3537121\n",
      "  \n",
      "majorAxis[iTrk][0][0] =  -0.004920899\n",
      "majorAxis[iTrk][1][0] =  0.0009170567\n",
      "majorAxis[iTrk][2][0] =  0.2973651\n",
      "minorAxis_1[iTrk][0][0] =  -3.236844\n",
      "minorAxis_1[iTrk][1][0] =  -17.36881\n",
      "minorAxis_1[iTrk][2][0] =  -4.7397712e-09\n",
      "minorAxis_2[iTrk][0][0] =  -17.36635\n",
      "minorAxis_2[iTrk][1][0] =  3.2363856\n",
      "minorAxis_2[iTrk][2][0] =  -0.29736507\n",
      "  \n",
      "majorAxis[iTrk][0][0] =  -0.0001240533\n",
      "majorAxis[iTrk][1][0] =  0.00033394952\n",
      "majorAxis[iTrk][2][0] =  0.079335004\n",
      "minorAxis_1[iTrk][0][0] =  -16.562042\n",
      "minorAxis_1[iTrk][1][0] =  -6.1523557\n",
      "minorAxis_1[iTrk][2][0] =  3.1261713e-08\n",
      "minorAxis_2[iTrk][0][0] =  -6.1522937\n",
      "minorAxis_2[iTrk][1][0] =  16.561876\n",
      "minorAxis_2[iTrk][2][0] =  -0.079335004\n",
      "  \n",
      "majorAxis[iTrk][0][0] =  0.00010132754\n",
      "majorAxis[iTrk][1][0] =  6.684385e-05\n",
      "majorAxis[iTrk][2][0] =  0.046310693\n",
      "minorAxis_1[iTrk][0][0] =  -9.728917\n",
      "minorAxis_1[iTrk][1][0] =  14.747911\n",
      "minorAxis_1[iTrk][2][0] =  -2.3591362e-07\n",
      "minorAxis_2[iTrk][0][0] =  14.74786\n",
      "minorAxis_2[iTrk][1][0] =  9.728883\n",
      "minorAxis_2[iTrk][2][0] =  -0.04631069\n",
      "  \n",
      "majorAxis[iTrk][0][0] =  0.0042806785\n",
      "majorAxis[iTrk][1][0] =  0.004939851\n",
      "majorAxis[iTrk][2][0] =  0.3398017\n",
      "minorAxis_1[iTrk][0][0] =  13.3521\n",
      "minorAxis_1[iTrk][1][0] =  -11.5704\n",
      "minorAxis_1[iTrk][2][0] =  1.21654296e-08\n",
      "minorAxis_2[iTrk][0][0] =  -11.56826\n",
      "minorAxis_2[iTrk][1][0] =  -13.349631\n",
      "minorAxis_2[iTrk][2][0] =  0.33980173\n",
      "  \n",
      "majorAxis[iTrk][0][0] =  -0.00013103899\n",
      "majorAxis[iTrk][1][0] =  -0.0006021903\n",
      "majorAxis[iTrk][2][0] =  0.10434653\n",
      "minorAxis_1[iTrk][0][0] =  -17.26384\n",
      "minorAxis_1[iTrk][1][0] =  3.7566798\n",
      "minorAxis_1[iTrk][2][0] =  -9.616703e-08\n",
      "minorAxis_2[iTrk][0][0] =  3.7566135\n",
      "minorAxis_2[iTrk][1][0] =  17.263535\n",
      "minorAxis_2[iTrk][2][0] =  0.10434652\n",
      "  \n",
      "majorAxis[iTrk][0][0] =  0.0016481678\n",
      "majorAxis[iTrk][1][0] =  -0.0019788505\n",
      "majorAxis[iTrk][2][0] =  0.21330062\n",
      "minorAxis_1[iTrk][0][0] =  -13.575765\n",
      "minorAxis_1[iTrk][1][0] =  -11.307139\n",
      "minorAxis_1[iTrk][2][0] =  8.543098e-09\n",
      "minorAxis_2[iTrk][0][0] =  -11.306314\n",
      "minorAxis_2[iTrk][1][0] =  13.574774\n",
      "minorAxis_2[iTrk][2][0] =  0.21330062\n",
      "  \n",
      "len(X) =  80000\n",
      "len(Xlist) =  3\n",
      "Loaded /share/lazy/will/data/June30_2020_80k_3.h5 in 149.2 s\n",
      "pocaMx.shape =  (80000,)\n",
      "nEvts =  80000\n",
      "len(pocaMx[0]) =  204\n",
      "len(pocaMx[1]) =  33\n",
      "len(pocaMx[2]) =  206\n",
      "len(pocaMx[3]) =  150\n",
      "len(pocaMx[4]) =  96\n",
      "majorAxis.shape =  (80000, 3)\n",
      "minorAxis_1.shape =  (80000, 3)\n",
      "minorAxis_2.shape =  (80000, 3)\n",
      "have entered six_ellipsoid_parameters\n",
      "  \n",
      " \n",
      "  nEvts =  80000\n",
      " iEvt, nTrks =  0 204\n",
      " iEvt, nTrks =  1 33\n",
      " iEvt, nTrks =  2 206\n",
      " iEvt, nTrks =  3 150\n",
      " iEvt, nTrks =  4 96\n",
      " iEvt, nTrks =  5 10\n",
      " iEvt, nTrks =  6 174\n",
      " iEvt, nTrks =  7 320\n",
      " iEvt, nTrks =  8 164\n",
      " iEvt, nTrks =  9 119\n",
      "A.shape =  (80000,)\n",
      "majorAxis[iTrk][0][0] =  0.00057876867\n",
      "majorAxis[iTrk][1][0] =  0.00037603904\n",
      "majorAxis[iTrk][2][0] =  0.110427074\n",
      "minorAxis_1[iTrk][0][0] =  9.62588\n",
      "minorAxis_1[iTrk][1][0] =  -14.81537\n",
      "minorAxis_1[iTrk][2][0] =  8.391163e-09\n",
      "minorAxis_2[iTrk][0][0] =  -14.815081\n",
      "minorAxis_2[iTrk][1][0] =  -9.625692\n",
      "minorAxis_2[iTrk][2][0] =  0.11042709\n",
      "  \n",
      "majorAxis[iTrk][0][0] =  -7.687664e-05\n",
      "majorAxis[iTrk][1][0] =  -0.0017985329\n",
      "majorAxis[iTrk][2][0] =  0.17833562\n",
      "minorAxis_1[iTrk][0][0] =  -17.651728\n",
      "minorAxis_1[iTrk][1][0] =  0.7545069\n",
      "minorAxis_1[iTrk][2][0] =  -7.932265e-09\n",
      "minorAxis_2[iTrk][0][0] =  0.75446844\n",
      "minorAxis_2[iTrk][1][0] =  17.650827\n",
      "minorAxis_2[iTrk][2][0] =  0.17833562\n",
      "  \n",
      "majorAxis[iTrk][0][0] =  4.5855802e-05\n",
      "majorAxis[iTrk][1][0] =  -0.00054240844\n",
      "majorAxis[iTrk][2][0] =  0.098067455\n",
      "minorAxis_1[iTrk][0][0] =  17.605043\n",
      "minorAxis_1[iTrk][1][0] =  1.4883496\n",
      "minorAxis_1[iTrk][2][0] =  -2.7847218e-08\n",
      "minorAxis_2[iTrk][0][0] =  1.4883265\n",
      "minorAxis_2[iTrk][1][0] =  -17.604773\n",
      "minorAxis_2[iTrk][2][0] =  -0.098067455\n",
      "  \n",
      "majorAxis[iTrk][0][0] =  -0.0013144773\n",
      "majorAxis[iTrk][1][0] =  0.0008680699\n",
      "majorAxis[iTrk][2][0] =  0.16682307\n",
      "minorAxis_1[iTrk][0][0] =  -9.736217\n",
      "minorAxis_1[iTrk][1][0] =  -14.743094\n",
      "minorAxis_1[iTrk][2][0] =  -1.7552136e-08\n",
      "minorAxis_2[iTrk][0][0] =  -14.742435\n",
      "minorAxis_2[iTrk][1][0] =  9.735782\n",
      "minorAxis_2[iTrk][2][0] =  -0.16682304\n",
      "  \n",
      "majorAxis[iTrk][0][0] =  0.032227762\n",
      "majorAxis[iTrk][1][0] =  0.007741693\n",
      "majorAxis[iTrk][2][0] =  0.76488173\n",
      "minorAxis_1[iTrk][0][0] =  -4.1267405\n",
      "minorAxis_1[iTrk][1][0] =  17.179138\n",
      "minorAxis_1[iTrk][2][0] =  -2.3529467e-10\n",
      "minorAxis_2[iTrk][0][0] =  17.16303\n",
      "minorAxis_2[iTrk][1][0] =  4.122871\n",
      "minorAxis_2[iTrk][2][0] =  -0.7648817\n",
      "  \n",
      "majorAxis[iTrk][0][0] =  1.9753945\n",
      "majorAxis[iTrk][1][0] =  2.5669005\n",
      "majorAxis[iTrk][2][0] =  7.226382\n",
      "minorAxis_1[iTrk][0][0] =  14.0017\n",
      "minorAxis_1[iTrk][1][0] =  -10.7752075\n",
      "minorAxis_1[iTrk][2][0] =  5.3286344e-11\n",
      "minorAxis_2[iTrk][0][0] =  -9.832683\n",
      "minorAxis_2[iTrk][1][0] =  -12.776951\n",
      "minorAxis_2[iTrk][2][0] =  7.226381\n",
      "  \n",
      "majorAxis[iTrk][0][0] =  -0.0026900356\n",
      "majorAxis[iTrk][1][0] =  -0.0015841618\n",
      "majorAxis[iTrk][2][0] =  0.234843\n",
      "minorAxis_1[iTrk][0][0] =  -8.965469\n",
      "minorAxis_1[iTrk][1][0] =  15.224096\n",
      "minorAxis_1[iTrk][2][0] =  2.8236277e-08\n",
      "minorAxis_2[iTrk][0][0] =  15.222751\n",
      "minorAxis_2[iTrk][1][0] =  8.964677\n",
      "minorAxis_2[iTrk][2][0] =  0.234843\n",
      "  \n",
      "majorAxis[iTrk][0][0] =  -0.0001692281\n",
      "majorAxis[iTrk][1][0] =  0.0003505444\n",
      "majorAxis[iTrk][2][0] =  0.08292902\n",
      "minorAxis_1[iTrk][0][0] =  -15.910811\n",
      "minorAxis_1[iTrk][1][0] =  -7.68107\n",
      "minorAxis_1[iTrk][2][0] =  1.587002e-08\n",
      "minorAxis_2[iTrk][0][0] =  -7.680986\n",
      "minorAxis_2[iTrk][1][0] =  15.910635\n",
      "minorAxis_2[iTrk][2][0] =  -0.08292903\n",
      "  \n",
      "majorAxis[iTrk][0][0] =  0.0017714669\n",
      "majorAxis[iTrk][1][0] =  -0.001515166\n",
      "majorAxis[iTrk][2][0] =  0.20293355\n",
      "minorAxis_1[iTrk][0][0] =  11.483943\n",
      "minorAxis_1[iTrk][1][0] =  13.426532\n",
      "minorAxis_1[iTrk][2][0] =  -2.7840934e-09\n",
      "minorAxis_2[iTrk][0][0] =  13.425648\n",
      "minorAxis_2[iTrk][1][0] =  -11.483187\n",
      "minorAxis_2[iTrk][2][0] =  -0.20293356\n",
      "  \n",
      "majorAxis[iTrk][0][0] =  0.0006359923\n",
      "majorAxis[iTrk][1][0] =  -0.0003371759\n",
      "majorAxis[iTrk][2][0] =  0.112773284\n",
      "minorAxis_1[iTrk][0][0] =  8.275655\n",
      "minorAxis_1[iTrk][1][0] =  15.609813\n",
      "minorAxis_1[iTrk][2][0] =  -5.6373224e-08\n",
      "minorAxis_2[iTrk][0][0] =  15.609494\n",
      "minorAxis_2[iTrk][1][0] =  -8.275486\n",
      "minorAxis_2[iTrk][2][0] =  -0.11277328\n",
      "  \n",
      "len(X) =  80000\n",
      "len(Xlist) =  4\n",
      "Loaded /share/lazy/will/data/June30_2020_80k_4.h5 in 147.0 s\n",
      "pocaMx.shape =  (80000,)\n",
      "nEvts =  80000\n",
      "len(pocaMx[0]) =  204\n",
      "len(pocaMx[1]) =  21\n",
      "len(pocaMx[2]) =  226\n",
      "len(pocaMx[3]) =  138\n",
      "len(pocaMx[4]) =  147\n",
      "majorAxis.shape =  (80000, 3)\n",
      "minorAxis_1.shape =  (80000, 3)\n"
     ]
    },
    {
     "name": "stdout",
     "output_type": "stream",
     "text": [
      "minorAxis_2.shape =  (80000, 3)\n",
      "have entered six_ellipsoid_parameters\n",
      "  \n",
      " \n",
      "  nEvts =  80000\n",
      " iEvt, nTrks =  0 204\n",
      " iEvt, nTrks =  1 21\n",
      " iEvt, nTrks =  2 226\n",
      " iEvt, nTrks =  3 138\n",
      " iEvt, nTrks =  4 147\n",
      " iEvt, nTrks =  5 226\n",
      " iEvt, nTrks =  6 315\n",
      " iEvt, nTrks =  7 298\n",
      " iEvt, nTrks =  8 113\n",
      " iEvt, nTrks =  9 53\n",
      "A.shape =  (80000,)\n",
      "majorAxis[iTrk][0][0] =  0.0008031223\n",
      "majorAxis[iTrk][1][0] =  0.0026818695\n",
      "majorAxis[iTrk][2][0] =  0.2223914\n",
      "minorAxis_1[iTrk][0][0] =  -16.925222\n",
      "minorAxis_1[iTrk][1][0] =  5.0684876\n",
      "minorAxis_1[iTrk][2][0] =  -2.4095305e-08\n",
      "minorAxis_2[iTrk][0][0] =  5.0680866\n",
      "minorAxis_2[iTrk][1][0] =  16.923882\n",
      "minorAxis_2[iTrk][2][0] =  -0.2223914\n",
      "  \n",
      "majorAxis[iTrk][0][0] =  0.0024043417\n",
      "majorAxis[iTrk][1][0] =  -0.0074925683\n",
      "majorAxis[iTrk][2][0] =  0.37282085\n",
      "minorAxis_1[iTrk][0][0] =  -16.822897\n",
      "minorAxis_1[iTrk][1][0] =  -5.3984146\n",
      "minorAxis_1[iTrk][2][0] =  -9.030704e-09\n",
      "minorAxis_2[iTrk][0][0] =  -5.3972125\n",
      "minorAxis_2[iTrk][1][0] =  16.81915\n",
      "minorAxis_2[iTrk][2][0] =  0.37282085\n",
      "  \n",
      "majorAxis[iTrk][0][0] =  -0.0033923152\n",
      "majorAxis[iTrk][1][0] =  -0.00039451112\n",
      "majorAxis[iTrk][2][0] =  0.24562779\n",
      "minorAxis_1[iTrk][0][0] =  2.0409365\n",
      "minorAxis_1[iTrk][1][0] =  -17.549568\n",
      "minorAxis_1[iTrk][2][0] =  -3.9882395e-09\n",
      "minorAxis_2[iTrk][0][0] =  -17.54787\n",
      "minorAxis_2[iTrk][1][0] =  -2.040739\n",
      "minorAxis_2[iTrk][2][0] =  -0.24562775\n",
      "  \n",
      "majorAxis[iTrk][0][0] =  0.00020631803\n",
      "majorAxis[iTrk][1][0] =  0.000101158985\n",
      "majorAxis[iTrk][2][0] =  0.06371613\n",
      "minorAxis_1[iTrk][0][0] =  7.778037\n",
      "minorAxis_1[iTrk][1][0] =  -15.863634\n",
      "minorAxis_1[iTrk][2][0] =  3.2227412e-08\n",
      "minorAxis_2[iTrk][0][0] =  -15.863531\n",
      "minorAxis_2[iTrk][1][0] =  -7.777986\n",
      "minorAxis_2[iTrk][2][0] =  0.063716136\n",
      "  \n",
      "majorAxis[iTrk][0][0] =  0.00014584894\n",
      "majorAxis[iTrk][1][0] =  0.0007148961\n",
      "majorAxis[iTrk][2][0] =  0.1135367\n",
      "minorAxis_1[iTrk][0][0] =  -17.311255\n",
      "minorAxis_1[iTrk][1][0] =  3.5317411\n",
      "minorAxis_1[iTrk][2][0] =  -2.0231154e-07\n",
      "minorAxis_2[iTrk][0][0] =  3.5316684\n",
      "minorAxis_2[iTrk][1][0] =  17.310898\n",
      "minorAxis_2[iTrk][2][0] =  -0.113536716\n",
      "  \n",
      "majorAxis[iTrk][0][0] =  -0.0005368296\n",
      "majorAxis[iTrk][1][0] =  0.001345834\n",
      "majorAxis[iTrk][2][0] =  0.15999614\n",
      "minorAxis_1[iTrk][0][0] =  16.410498\n",
      "minorAxis_1[iTrk][1][0] =  6.54586\n",
      "minorAxis_1[iTrk][2][0] =  0.0\n",
      "minorAxis_2[iTrk][0][0] =  6.545592\n",
      "minorAxis_2[iTrk][1][0] =  -16.409826\n",
      "minorAxis_2[iTrk][2][0] =  0.15999615\n",
      "  \n",
      "majorAxis[iTrk][0][0] =  6.889762e-06\n",
      "majorAxis[iTrk][1][0] =  5.0640443e-05\n",
      "majorAxis[iTrk][2][0] =  0.030049108\n",
      "minorAxis_1[iTrk][0][0] =  -17.506561\n",
      "minorAxis_1[iTrk][1][0] =  2.3818126\n",
      "minorAxis_1[iTrk][2][0] =  -1.5382514e-07\n",
      "minorAxis_2[iTrk][0][0] =  2.3818092\n",
      "minorAxis_2[iTrk][1][0] =  17.506536\n",
      "minorAxis_2[iTrk][2][0] =  -0.03004911\n",
      "  \n",
      "majorAxis[iTrk][0][0] =  -5.034964e-05\n",
      "majorAxis[iTrk][1][0] =  -0.00024525935\n",
      "majorAxis[iTrk][2][0] =  0.0665097\n",
      "minorAxis_1[iTrk][0][0] =  -17.306911\n",
      "minorAxis_1[iTrk][1][0] =  3.552961\n",
      "minorAxis_1[iTrk][2][0] =  3.9024204e-08\n",
      "minorAxis_2[iTrk][0][0] =  3.5529354\n",
      "minorAxis_2[iTrk][1][0] =  17.30679\n",
      "minorAxis_2[iTrk][2][0] =  0.0665097\n",
      "  \n",
      "majorAxis[iTrk][0][0] =  0.00012617538\n",
      "majorAxis[iTrk][1][0] =  -0.00039532635\n",
      "majorAxis[iTrk][2][0] =  0.08562479\n",
      "minorAxis_1[iTrk][0][0] =  16.831343\n",
      "minorAxis_1[iTrk][1][0] =  5.37202\n",
      "minorAxis_1[iTrk][2][0] =  7.591526e-09\n",
      "minorAxis_2[iTrk][0][0] =  5.3719573\n",
      "minorAxis_2[iTrk][1][0] =  -16.831146\n",
      "minorAxis_2[iTrk][2][0] =  -0.08562479\n",
      "  \n",
      "majorAxis[iTrk][0][0] =  -0.2846821\n",
      "majorAxis[iTrk][1][0] =  0.65561515\n",
      "majorAxis[iTrk][2][0] =  3.5178587\n",
      "minorAxis_1[iTrk][0][0] =  16.205975\n",
      "minorAxis_1[iTrk][1][0] =  7.03698\n",
      "minorAxis_1[iTrk][2][0] =  1.07003295e-11\n",
      "minorAxis_2[iTrk][0][0] =  6.8960795\n",
      "minorAxis_2[iTrk][1][0] =  -15.881484\n",
      "minorAxis_2[iTrk][2][0] =  3.5178587\n",
      "  \n",
      "len(X) =  80000\n",
      "len(Xlist) =  5\n",
      "Loaded /share/lazy/will/data/June30_2020_80k_5.h5 in 147.1 s\n",
      "pocaMx.shape =  (80000,)\n",
      "nEvts =  80000\n",
      "len(pocaMx[0]) =  215\n",
      "len(pocaMx[1]) =  30\n",
      "len(pocaMx[2]) =  379\n",
      "len(pocaMx[3]) =  70\n",
      "len(pocaMx[4]) =  79\n",
      "majorAxis.shape =  (80000, 3)\n",
      "minorAxis_1.shape =  (80000, 3)\n",
      "minorAxis_2.shape =  (80000, 3)\n",
      "have entered six_ellipsoid_parameters\n",
      "  \n",
      " \n",
      "  nEvts =  80000\n",
      " iEvt, nTrks =  0 215\n",
      " iEvt, nTrks =  1 30\n",
      " iEvt, nTrks =  2 379\n",
      " iEvt, nTrks =  3 70\n",
      " iEvt, nTrks =  4 79\n",
      " iEvt, nTrks =  5 151\n",
      " iEvt, nTrks =  6 57\n",
      " iEvt, nTrks =  7 229\n",
      " iEvt, nTrks =  8 138\n",
      " iEvt, nTrks =  9 222\n",
      "A.shape =  (80000,)\n",
      "majorAxis[iTrk][0][0] =  0.00013311462\n",
      "majorAxis[iTrk][1][0] =  0.00040591034\n",
      "majorAxis[iTrk][2][0] =  0.086874954\n",
      "minorAxis_1[iTrk][0][0] =  16.788149\n",
      "minorAxis_1[iTrk][1][0] =  -5.505522\n",
      "minorAxis_1[iTrk][2][0] =  -7.000627e-08\n",
      "minorAxis_2[iTrk][0][0] =  -5.505455\n",
      "minorAxis_2[iTrk][1][0] =  -16.787947\n",
      "minorAxis_2[iTrk][2][0] =  0.08687496\n",
      "  \n",
      "majorAxis[iTrk][0][0] =  0.026763462\n",
      "majorAxis[iTrk][1][0] =  0.07355015\n",
      "majorAxis[iTrk][2][0] =  1.1746362\n",
      "minorAxis_1[iTrk][0][0] =  16.602821\n",
      "minorAxis_1[iTrk][1][0] =  -6.041442\n",
      "minorAxis_1[iTrk][2][0] =  -1.443535e-08\n",
      "minorAxis_2[iTrk][0][0] =  -6.028075\n",
      "minorAxis_2[iTrk][1][0] =  -16.566088\n",
      "minorAxis_2[iTrk][2][0] =  1.1746362\n",
      "  \n",
      "majorAxis[iTrk][0][0] =  0.000346796\n",
      "majorAxis[iTrk][1][0] =  -0.00021899956\n",
      "majorAxis[iTrk][2][0] =  0.08512635\n",
      "minorAxis_1[iTrk][0][0] =  9.433597\n",
      "minorAxis_1[iTrk][1][0] =  14.9385395\n",
      "minorAxis_1[iTrk][2][0] =  8.4459785e-08\n",
      "minorAxis_2[iTrk][0][0] =  14.938367\n",
      "minorAxis_2[iTrk][1][0] =  -9.433488\n",
      "minorAxis_2[iTrk][2][0] =  -0.085126355\n",
      "  \n",
      "majorAxis[iTrk][0][0] =  0.040080216\n",
      "majorAxis[iTrk][1][0] =  -0.013717364\n",
      "majorAxis[iTrk][2][0] =  0.86461496\n",
      "minorAxis_1[iTrk][0][0] =  5.7209954\n",
      "minorAxis_1[iTrk][1][0] =  16.715948\n",
      "minorAxis_1[iTrk][2][0] =  2.8052788e-10\n",
      "minorAxis_2[iTrk][0][0] =  16.69592\n",
      "minorAxis_2[iTrk][1][0] =  -5.714141\n",
      "minorAxis_2[iTrk][2][0] =  -0.86461496\n",
      "  \n",
      "majorAxis[iTrk][0][0] =  -0.009764652\n",
      "majorAxis[iTrk][1][0] =  0.013131098\n",
      "majorAxis[iTrk][2][0] =  0.537568\n",
      "minorAxis_1[iTrk][0][0] =  -14.17752\n",
      "minorAxis_1[iTrk][1][0] =  -10.5428\n",
      "minorAxis_1[iTrk][2][0] =  3.9351034e-09\n",
      "minorAxis_2[iTrk][0][0] =  -10.537919\n",
      "minorAxis_2[iTrk][1][0] =  14.170957\n",
      "minorAxis_2[iTrk][2][0] =  -0.537568\n",
      "  \n",
      "majorAxis[iTrk][0][0] =  0.0022298535\n",
      "majorAxis[iTrk][1][0] =  0.0012376272\n",
      "majorAxis[iTrk][2][0] =  0.21226124\n",
      "minorAxis_1[iTrk][0][0] =  -8.574016\n",
      "minorAxis_1[iTrk][1][0] =  15.447946\n",
      "minorAxis_1[iTrk][2][0] =  3.814566e-09\n",
      "minorAxis_2[iTrk][0][0] =  15.44683\n",
      "minorAxis_2[iTrk][1][0] =  8.573396\n",
      "minorAxis_2[iTrk][2][0] =  -0.21226126\n",
      "  \n",
      "majorAxis[iTrk][0][0] =  0.0026248281\n",
      "majorAxis[iTrk][1][0] =  -0.0014882229\n",
      "majorAxis[iTrk][2][0] =  0.2308807\n",
      "minorAxis_1[iTrk][0][0] =  -8.714105\n",
      "minorAxis_1[iTrk][1][0] =  -15.369356\n",
      "minorAxis_1[iTrk][2][0] =  5.2593467e-09\n",
      "minorAxis_2[iTrk][0][0] =  -15.368044\n",
      "minorAxis_2[iTrk][1][0] =  8.713361\n",
      "minorAxis_2[iTrk][2][0] =  0.23088072\n",
      "  \n",
      "majorAxis[iTrk][0][0] =  0.00012981874\n",
      "majorAxis[iTrk][1][0] =  4.4331882e-05\n",
      "majorAxis[iTrk][2][0] =  0.04923065\n",
      "minorAxis_1[iTrk][0][0] =  5.7096643\n",
      "minorAxis_1[iTrk][1][0] =  -16.719824\n",
      "minorAxis_1[iTrk][2][0] =  -5.5859708e-08\n",
      "minorAxis_2[iTrk][0][0] =  -16.719757\n",
      "minorAxis_2[iTrk][1][0] =  -5.7096405\n",
      "minorAxis_2[iTrk][2][0] =  0.049230646\n",
      "  \n",
      "majorAxis[iTrk][0][0] =  -0.001441883\n",
      "majorAxis[iTrk][1][0] =  0.00083815283\n",
      "majorAxis[iTrk][2][0] =  0.17165338\n",
      "minorAxis_1[iTrk][0][0] =  -8.879023\n",
      "minorAxis_1[iTrk][1][0] =  -15.274674\n",
      "minorAxis_1[iTrk][2][0] =  1.0060263e-09\n",
      "minorAxis_2[iTrk][0][0] =  -15.273953\n",
      "minorAxis_2[iTrk][1][0] =  8.878603\n",
      "minorAxis_2[iTrk][2][0] =  -0.17165336\n",
      "  \n",
      "majorAxis[iTrk][0][0] =  -0.00015960756\n",
      "majorAxis[iTrk][1][0] =  0.00048018023\n",
      "majorAxis[iTrk][2][0] =  0.09455159\n",
      "minorAxis_1[iTrk][0][0] =  16.765923\n",
      "minorAxis_1[iTrk][1][0] =  5.572841\n",
      "minorAxis_1[iTrk][2][0] =  4.6534385e-08\n",
      "minorAxis_2[iTrk][0][0] =  5.5727615\n",
      "minorAxis_2[iTrk][1][0] =  -16.765684\n",
      "minorAxis_2[iTrk][2][0] =  0.09455159\n",
      "  \n",
      "len(X) =  80000\n",
      "len(Xlist) =  6\n",
      "Loaded /share/lazy/will/data/June30_2020_80k_6.h5 in 149.4 s\n",
      "pocaMx.shape =  (80000,)\n",
      "nEvts =  80000\n",
      "len(pocaMx[0]) =  196\n",
      "len(pocaMx[1]) =  310\n",
      "len(pocaMx[2]) =  201\n",
      "len(pocaMx[3]) =  58\n",
      "len(pocaMx[4]) =  135\n",
      "majorAxis.shape =  (80000, 3)\n",
      "minorAxis_1.shape =  (80000, 3)\n",
      "minorAxis_2.shape =  (80000, 3)\n",
      "have entered six_ellipsoid_parameters\n",
      "  \n",
      " \n"
     ]
    },
    {
     "name": "stdout",
     "output_type": "stream",
     "text": [
      "  nEvts =  80000\n",
      " iEvt, nTrks =  0 196\n",
      " iEvt, nTrks =  1 310\n",
      " iEvt, nTrks =  2 201\n",
      " iEvt, nTrks =  3 58\n",
      " iEvt, nTrks =  4 135\n",
      " iEvt, nTrks =  5 369\n",
      " iEvt, nTrks =  6 226\n",
      " iEvt, nTrks =  7 198\n",
      " iEvt, nTrks =  8 145\n",
      " iEvt, nTrks =  9 130\n",
      "A.shape =  (80000,)\n",
      "majorAxis[iTrk][0][0] =  0.002647314\n",
      "majorAxis[iTrk][1][0] =  0.008641847\n",
      "majorAxis[iTrk][2][0] =  0.3995565\n",
      "minorAxis_1[iTrk][0][0] =  16.89298\n",
      "minorAxis_1[iTrk][1][0] =  -5.1749372\n",
      "minorAxis_1[iTrk][2][0] =  -4.4746007e-09\n",
      "minorAxis_2[iTrk][0][0] =  -5.173614\n",
      "minorAxis_2[iTrk][1][0] =  -16.88866\n",
      "minorAxis_2[iTrk][2][0] =  0.39955652\n",
      "  \n",
      "majorAxis[iTrk][0][0] =  2.229869e-06\n",
      "majorAxis[iTrk][1][0] =  9.085482e-05\n",
      "majorAxis[iTrk][2][0] =  0.04007104\n",
      "minorAxis_1[iTrk][0][0] =  -17.662525\n",
      "minorAxis_1[iTrk][1][0] =  0.43349507\n",
      "minorAxis_1[iTrk][2][0] =  4.4459145e-07\n",
      "minorAxis_2[iTrk][0][0] =  0.433494\n",
      "minorAxis_2[iTrk][1][0] =  17.66248\n",
      "minorAxis_2[iTrk][2][0] =  -0.040071033\n",
      "  \n",
      "majorAxis[iTrk][0][0] =  -0.0064935046\n",
      "majorAxis[iTrk][1][0] =  0.004884482\n",
      "majorAxis[iTrk][2][0] =  0.3788497\n",
      "minorAxis_1[iTrk][0][0] =  10.620671\n",
      "minorAxis_1[iTrk][1][0] =  14.119281\n",
      "minorAxis_1[iTrk][2][0] =  -3.913408e-09\n",
      "minorAxis_2[iTrk][0][0] =  14.1160345\n",
      "minorAxis_2[iTrk][1][0] =  -10.618229\n",
      "minorAxis_2[iTrk][2][0] =  0.3788497\n",
      "  \n",
      "majorAxis[iTrk][0][0] =  -0.0001037657\n",
      "majorAxis[iTrk][1][0] =  0.00016843941\n",
      "majorAxis[iTrk][2][0] =  0.059121225\n",
      "minorAxis_1[iTrk][0][0] =  -15.042553\n",
      "minorAxis_1[iTrk][1][0] =  -9.26684\n",
      "minorAxis_1[iTrk][2][0] =  1.880491e-07\n",
      "minorAxis_2[iTrk][0][0] =  -9.266789\n",
      "minorAxis_2[iTrk][1][0] =  15.04247\n",
      "minorAxis_2[iTrk][2][0] =  -0.059121232\n",
      "  \n",
      "majorAxis[iTrk][0][0] =  5.3637512e-05\n",
      "majorAxis[iTrk][1][0] =  -0.0041385246\n",
      "majorAxis[iTrk][2][0] =  0.2704004\n",
      "minorAxis_1[iTrk][0][0] =  17.66636\n",
      "minorAxis_1[iTrk][1][0] =  0.22896557\n",
      "minorAxis_1[iTrk][2][0] =  2.369916e-09\n",
      "minorAxis_2[iTrk][0][0] =  0.22893874\n",
      "minorAxis_2[iTrk][1][0] =  -17.664291\n",
      "minorAxis_2[iTrk][2][0] =  -0.2704004\n",
      "  \n",
      "majorAxis[iTrk][0][0] =  -0.00029706117\n",
      "majorAxis[iTrk][1][0] =  -0.0004481396\n",
      "majorAxis[iTrk][2][0] =  0.09746325\n",
      "minorAxis_1[iTrk][0][0] =  -14.726247\n",
      "minorAxis_1[iTrk][1][0] =  9.761681\n",
      "minorAxis_1[iTrk][2][0] =  1.517715e-08\n",
      "minorAxis_2[iTrk][0][0] =  9.761532\n",
      "minorAxis_2[iTrk][1][0] =  14.726021\n",
      "minorAxis_2[iTrk][2][0] =  0.09746325\n",
      "  \n",
      "majorAxis[iTrk][0][0] =  2.688424e-05\n",
      "majorAxis[iTrk][1][0] =  0.00013253507\n",
      "majorAxis[iTrk][2][0] =  0.048880354\n",
      "minorAxis_1[iTrk][0][0] =  17.315207\n",
      "minorAxis_1[iTrk][1][0] =  -3.512324\n",
      "minorAxis_1[iTrk][2][0] =  -1.1563884e-07\n",
      "minorAxis_2[iTrk][0][0] =  -3.5123105\n",
      "minorAxis_2[iTrk][1][0] =  -17.31514\n",
      "minorAxis_2[iTrk][2][0] =  0.04888036\n",
      "  \n",
      "majorAxis[iTrk][0][0] =  0.0011632683\n",
      "majorAxis[iTrk][1][0] =  -0.00058679254\n",
      "majorAxis[iTrk][2][0] =  0.15171811\n",
      "minorAxis_1[iTrk][0][0] =  -7.9572115\n",
      "minorAxis_1[iTrk][1][0] =  -15.774522\n",
      "minorAxis_1[iTrk][2][0] =  3.982163e-11\n",
      "minorAxis_2[iTrk][0][0] =  -15.773939\n",
      "minorAxis_2[iTrk][1][0] =  7.9569173\n",
      "minorAxis_2[iTrk][2][0] =  0.15171811\n",
      "  \n",
      "majorAxis[iTrk][0][0] =  -0.0016862266\n",
      "majorAxis[iTrk][1][0] =  -0.016713515\n",
      "majorAxis[iTrk][2][0] =  0.5446556\n",
      "minorAxis_1[iTrk][0][0] =  -17.578606\n",
      "minorAxis_1[iTrk][1][0] =  1.7735057\n",
      "minorAxis_1[iTrk][2][0] =  -7.966059e-10\n",
      "minorAxis_2[iTrk][0][0] =  1.7726628\n",
      "minorAxis_2[iTrk][1][0] =  17.570251\n",
      "minorAxis_2[iTrk][2][0] =  0.5446556\n",
      "  \n",
      "majorAxis[iTrk][0][0] =  0.0024176969\n",
      "majorAxis[iTrk][1][0] =  0.0024645724\n",
      "majorAxis[iTrk][2][0] =  0.24696417\n",
      "minorAxis_1[iTrk][0][0] =  -12.61242\n",
      "minorAxis_1[iTrk][1][0] =  12.372534\n",
      "minorAxis_1[iTrk][2][0] =  3.0478948e-09\n",
      "minorAxis_2[iTrk][0][0] =  12.3713255\n",
      "minorAxis_2[iTrk][1][0] =  12.611188\n",
      "minorAxis_2[iTrk][2][0] =  -0.24696417\n",
      "  \n",
      "len(X) =  80000\n",
      "len(Xlist) =  7\n",
      "Loaded /share/lazy/will/data/June30_2020_80k_7.h5 in 151.1 s\n",
      "outer loop X.shape =  (560000, 9, 600)\n",
      "Constructing 560000 event dataset took 2.184 s\n",
      "x_t.shape =  torch.Size([560000, 9, 600])\n",
      "x_t.shape[0] =  560000\n",
      "x_t.shape[1] =  9\n",
      "x_t.shape =  torch.Size([560000, 9, 600])\n",
      "Loading data...\n",
      "pocaMx.shape =  (20000,)\n",
      "nEvts =  20000\n",
      "len(pocaMx[0]) =  211\n",
      "len(pocaMx[1]) =  21\n",
      "len(pocaMx[2]) =  20\n",
      "len(pocaMx[3]) =  198\n",
      "len(pocaMx[4]) =  233\n",
      "majorAxis.shape =  (20000, 3)\n",
      "minorAxis_1.shape =  (20000, 3)\n",
      "minorAxis_2.shape =  (20000, 3)\n",
      "have entered six_ellipsoid_parameters\n",
      "  \n",
      " \n",
      "  nEvts =  20000\n",
      " iEvt, nTrks =  0 211\n",
      " iEvt, nTrks =  1 21\n",
      " iEvt, nTrks =  2 20\n",
      " iEvt, nTrks =  3 198\n",
      " iEvt, nTrks =  4 233\n",
      " iEvt, nTrks =  5 85\n",
      " iEvt, nTrks =  6 223\n",
      " iEvt, nTrks =  7 425\n",
      " iEvt, nTrks =  8 252\n",
      " iEvt, nTrks =  9 169\n",
      "A.shape =  (20000,)\n",
      "majorAxis[iTrk][0][0] =  -0.00023452607\n",
      "majorAxis[iTrk][1][0] =  -0.00047206535\n",
      "majorAxis[iTrk][2][0] =  0.096502915\n",
      "minorAxis_1[iTrk][0][0] =  -15.822749\n",
      "minorAxis_1[iTrk][1][0] =  7.8608756\n",
      "minorAxis_1[iTrk][2][0] =  -2.6228399e-08\n",
      "minorAxis_2[iTrk][0][0] =  7.860759\n",
      "minorAxis_2[iTrk][1][0] =  15.822513\n",
      "minorAxis_2[iTrk][2][0] =  0.096502915\n",
      "  \n",
      "majorAxis[iTrk][0][0] =  -0.37655562\n",
      "majorAxis[iTrk][1][0] =  0.2768704\n",
      "majorAxis[iTrk][2][0] =  2.8546858\n",
      "minorAxis_1[iTrk][0][0] =  -10.466048\n",
      "minorAxis_1[iTrk][1][0] =  -14.234274\n",
      "minorAxis_1[iTrk][2][0] =  2.2974699e-11\n",
      "minorAxis_2[iTrk][0][0] =  -14.04724\n",
      "minorAxis_2[iTrk][1][0] =  10.328527\n",
      "minorAxis_2[iTrk][2][0] =  -2.8546853\n",
      "  \n",
      "majorAxis[iTrk][0][0] =  -0.024279848\n",
      "majorAxis[iTrk][1][0] =  0.0019689242\n",
      "majorAxis[iTrk][2][0] =  0.65580803\n",
      "minorAxis_1[iTrk][0][0] =  -1.4280497\n",
      "minorAxis_1[iTrk][1][0] =  -17.610037\n",
      "minorAxis_1[iTrk][2][0] =  -6.123401e-10\n",
      "minorAxis_2[iTrk][0][0] =  -17.597902\n",
      "minorAxis_2[iTrk][1][0] =  1.4270656\n",
      "minorAxis_2[iTrk][2][0] =  -0.6558081\n",
      "  \n",
      "majorAxis[iTrk][0][0] =  -0.007825993\n",
      "majorAxis[iTrk][1][0] =  0.004052097\n",
      "majorAxis[iTrk][2][0] =  0.3945435\n",
      "minorAxis_1[iTrk][0][0] =  8.123606\n",
      "minorAxis_1[iTrk][1][0] =  15.689478\n",
      "minorAxis_1[iTrk][2][0] =  -2.4940747e-10\n",
      "minorAxis_2[iTrk][0][0] =  15.685566\n",
      "minorAxis_2[iTrk][1][0] =  -8.12158\n",
      "minorAxis_2[iTrk][2][0] =  0.3945435\n",
      "  \n",
      "majorAxis[iTrk][0][0] =  0.0046102717\n",
      "majorAxis[iTrk][1][0] =  -0.0016007021\n",
      "majorAxis[iTrk][2][0] =  0.29361814\n",
      "minorAxis_1[iTrk][0][0] =  -5.794979\n",
      "minorAxis_1[iTrk][1][0] =  -16.690445\n",
      "minorAxis_1[iTrk][2][0] =  2.4897104e-09\n",
      "minorAxis_2[iTrk][0][0] =  -16.688139\n",
      "minorAxis_2[iTrk][1][0] =  5.794179\n",
      "minorAxis_2[iTrk][2][0] =  0.2936181\n",
      "  \n",
      "majorAxis[iTrk][0][0] =  -0.00020041714\n",
      "majorAxis[iTrk][1][0] =  0.00010468164\n",
      "majorAxis[iTrk][2][0] =  0.06320469\n",
      "minorAxis_1[iTrk][0][0] =  8.179679\n",
      "minorAxis_1[iTrk][1][0] =  15.660318\n",
      "minorAxis_1[iTrk][2][0] =  7.40176e-08\n",
      "minorAxis_2[iTrk][0][0] =  15.660218\n",
      "minorAxis_2[iTrk][1][0] =  -8.179626\n",
      "minorAxis_2[iTrk][2][0] =  0.06320469\n",
      "  \n",
      "majorAxis[iTrk][0][0] =  -0.00020603223\n",
      "majorAxis[iTrk][1][0] =  -0.0005662605\n",
      "majorAxis[iTrk][2][0] =  0.10317981\n",
      "minorAxis_1[iTrk][0][0] =  -16.603\n",
      "minorAxis_1[iTrk][1][0] =  6.040953\n",
      "minorAxis_1[iTrk][2][0] =  4.5812504e-07\n",
      "minorAxis_2[iTrk][0][0] =  6.0408506\n",
      "minorAxis_2[iTrk][1][0] =  16.602718\n",
      "minorAxis_2[iTrk][2][0] =  0.10317982\n",
      "  \n",
      "majorAxis[iTrk][0][0] =  -0.00040561036\n",
      "majorAxis[iTrk][1][0] =  0.00014461782\n",
      "majorAxis[iTrk][2][0] =  0.0872241\n",
      "minorAxis_1[iTrk][0][0] =  -5.933496\n",
      "minorAxis_1[iTrk][1][0] =  -16.641706\n",
      "minorAxis_1[iTrk][2][0] =  1.0720762e-08\n",
      "minorAxis_2[iTrk][0][0] =  -16.641502\n",
      "minorAxis_2[iTrk][1][0] =  5.9334235\n",
      "minorAxis_2[iTrk][2][0] =  -0.0872241\n",
      "  \n",
      "majorAxis[iTrk][0][0] =  0.00038461428\n",
      "majorAxis[iTrk][1][0] =  -3.4232737e-05\n",
      "majorAxis[iTrk][2][0] =  0.08259597\n",
      "minorAxis_1[iTrk][0][0] =  -1.5663412\n",
      "minorAxis_1[iTrk][1][0] =  -17.598276\n",
      "minorAxis_1[iTrk][2][0] =  3.2106848e-07\n",
      "minorAxis_2[iTrk][0][0] =  -17.598082\n",
      "minorAxis_2[iTrk][1][0] =  1.5663238\n",
      "minorAxis_2[iTrk][2][0] =  0.08259596\n",
      "  \n",
      "majorAxis[iTrk][0][0] =  -0.022277953\n",
      "majorAxis[iTrk][1][0] =  -0.0046837274\n",
      "majorAxis[iTrk][2][0] =  0.63399464\n",
      "minorAxis_1[iTrk][0][0] =  -3.6350286\n",
      "minorAxis_1[iTrk][1][0] =  17.289862\n",
      "minorAxis_1[iTrk][2][0] =  9.566169e-10\n",
      "minorAxis_2[iTrk][0][0] =  17.278727\n",
      "minorAxis_2[iTrk][1][0] =  3.6326876\n",
      "minorAxis_2[iTrk][2][0] =  0.6339946\n",
      "  \n",
      "len(X) =  20000\n",
      "len(Xlist) =  1\n",
      "Loaded dataAA/20K_POCA_kernel_evts_200926.h5 in 36.09 s\n",
      "outer loop X.shape =  (20000, 9, 600)\n",
      "Constructing 20000 event dataset took 0.1025 s\n",
      "x_t.shape =  torch.Size([20000, 9, 600])\n",
      "x_t.shape[0] =  20000\n",
      "x_t.shape[1] =  9\n",
      "x_t.shape =  torch.Size([20000, 9, 600])\n"
     ]
    }
   ],
   "source": [
    "# Data Import. If we are using a larger dataset (240K events, with the datasets above, and 11 GB  of GPU memory),\n",
    "# the dataset will overflow the GPU memory; device=device will allow the data to move back\n",
    "# and forth between the CPU and GPU memory. While this allows use of a larger dataset, it slows\n",
    "# down performance by about 10%.  So comment out when not needed.\n",
    "\n",
    "## Training dataset. You can put as many files here as desired.\n",
    "\n",
    "#train_loader = collect_t2kde_data('/share/lazy/pv-finder/20k_evts_for_KDE_learning_200716.h5',\n",
    "train_loader = collect_t2kde_data('/share/lazy/will/data/June30_2020_80k_1.h5', \n",
    "                                  '/share/lazy/will/data/June30_2020_80k_2.h5',\n",
    "                                    '/share/lazy/will/data/June30_2020_80k_3.h5',\n",
    "                                    '/share/lazy/will/data/June30_2020_80k_4.h5',\n",
    "                                      '/share/lazy/will/data/June30_2020_80k_5.h5',\n",
    "                                      '/share/lazy/will/data/June30_2020_80k_6.h5',\n",
    "                                      '/share/lazy/will/data/June30_2020_80k_7.h5',\n",
    "#     train_loader = collect_t2kde_data('dataAA/20K_POCA_kernel_evts_200926.h5',\n",
    "                             batch_size=batch_size,\n",
    "## if we are using a larger dataset (240K events, with the datasets above, and 11 GB  of GPU memory),\n",
    "## the dataset will overflow the GPU memory; device=device will allow the data to move back\n",
    "## and forth between the CPU and GPU memory. While this allows use of a larger dataset, it slows\n",
    "## down performance by about 10%.  So comment out when not needed.\n",
    "#                               device=device,\n",
    "                           # slice = slice(None,10000)\n",
    "                           )\n",
    "\n",
    "# Validation dataset. You can slice to reduce the size.\n",
    "## mds no separate validation set yet,\n",
    "\n",
    "## For iter12, change slice(18000,None) to slice(10000,None)\n",
    "## First, we'll see if this changes the validation cost significantly\n",
    "##  Second, we will see if this reduces the validation cost fluctuations\n",
    "val_loader = collect_t2kde_data('dataAA/20K_POCA_kernel_evts_200926.h5',\n",
    "                            batch_size=batch_size,\n",
    "#                                 device=device,\n",
    "                             #slice = slice(10000,None)\n",
    "                           )"
   ]
  },
  {
   "cell_type": "code",
   "execution_count": null,
   "metadata": {
    "scrolled": true
   },
   "outputs": [
    {
     "name": "stdout",
     "output_type": "stream",
     "text": [
      "5to500_nodes_exp_trainset_slow_finisher\n",
      " \n",
      "  for pretrained_dict\n",
      "index, k =   0    layer1.weight\n",
      "index, k =   1    layer1.bias\n",
      "index, k =   2    layer2.weight\n",
      "index, k =   3    layer2.bias\n",
      "index, k =   4    layer3.weight\n",
      "index, k =   5    layer3.bias\n",
      "index, k =   6    layer4.weight\n",
      "index, k =   7    layer4.bias\n",
      "index, k =   8    layer5.weight\n",
      "index, k =   9    layer5.bias\n",
      "index, k =   10    layer6.weight\n",
      "index, k =   11    layer6.bias\n",
      "index, k =   12    layer7.weight\n",
      "index, k =   13    layer7.bias\n",
      "index, k =   14    layer8.weight\n",
      "index, k =   15    layer8.bias\n",
      "index, k =   16    layer9.weight\n",
      "index, k =   17    layer9.bias\n",
      "index, k =   18    layer10.weight\n",
      "index, k =   19    layer10.bias\n",
      "index, k =   20    layer11.weight\n",
      "index, k =   21    layer11.bias\n",
      "index, k =   22    layer12new.weight\n",
      "index, k =   23    layer12new.bias\n",
      "index, k =   24    conv1.weight\n",
      "index, k =   25    conv1.bias\n",
      "index, k =   26    conv2.weight\n",
      "index, k =   27    conv2.bias\n",
      "index, k =   28    fc1.weight\n",
      "index, k =   29    fc1.bias\n",
      "index, k =   30    finalFilter.weight\n",
      "index, k =   31    finalFilter.bias\n",
      "pretrained_dict iterated\n",
      "Number of batches: train = 8750, val = 313\n"
     ]
    },
    {
     "data": {
      "application/vnd.jupyter.widget-view+json": {
       "model_id": "d2cdd636bc3d46c78441dc793b6efe2e",
       "version_major": 2,
       "version_minor": 0
      },
      "text/plain": [
       "Epochs:   0%|                                                           | 0/128 [00:00<?, ?it/s, train=start, …"
      ]
     },
     "metadata": {},
     "output_type": "display_data"
    },
    {
     "name": "stdout",
     "output_type": "stream",
     "text": [
      "Number of batches: train = 8750, val = 313\n"
     ]
    },
    {
     "data": {
      "application/vnd.jupyter.widget-view+json": {
       "model_id": "9fcd66c336a54a49a06e0931909d5359",
       "version_major": 2,
       "version_minor": 0
      },
      "text/plain": [
       "Training:   0%|                                                                   | 0/8750 [00:00<?, ?it/s, tr…"
      ]
     },
     "metadata": {},
     "output_type": "display_data"
    },
    {
     "name": "stdout",
     "output_type": "stream",
     "text": [
      "Epoch 0: train=2.84791, val=2.49268, took 1062.2 s\n"
     ]
    },
    {
     "data": {
      "application/vnd.jupyter.widget-view+json": {
       "model_id": "3e4c588b217d45f3ba5e83ae5707819e",
       "version_major": 2,
       "version_minor": 0
      },
      "text/plain": [
       "Training:   0%|                                                                   | 0/8750 [00:00<?, ?it/s, tr…"
      ]
     },
     "metadata": {},
     "output_type": "display_data"
    },
    {
     "name": "stdout",
     "output_type": "stream",
     "text": [
      "Epoch 1: train=2.83839, val=2.51028, took 1030.4 s\n"
     ]
    },
    {
     "data": {
      "application/vnd.jupyter.widget-view+json": {
       "model_id": "40f95d220ba445e6b36530c7641617a0",
       "version_major": 2,
       "version_minor": 0
      },
      "text/plain": [
       "Training:   0%|                                                                   | 0/8750 [00:00<?, ?it/s, tr…"
      ]
     },
     "metadata": {},
     "output_type": "display_data"
    },
    {
     "name": "stdout",
     "output_type": "stream",
     "text": [
      "Epoch 2: train=2.83744, val=2.68569, took 1018.2 s\n"
     ]
    },
    {
     "data": {
      "application/vnd.jupyter.widget-view+json": {
       "model_id": "9726562fb1904e3e8ba30e1d552d7228",
       "version_major": 2,
       "version_minor": 0
      },
      "text/plain": [
       "Training:   0%|                                                                   | 0/8750 [00:00<?, ?it/s, tr…"
      ]
     },
     "metadata": {},
     "output_type": "display_data"
    },
    {
     "name": "stdout",
     "output_type": "stream",
     "text": [
      "Epoch 3: train=2.84839, val=2.49282, took 1046.5 s\n"
     ]
    },
    {
     "data": {
      "application/vnd.jupyter.widget-view+json": {
       "model_id": "e5e6d2608fc845d1a03e2a9b743920fe",
       "version_major": 2,
       "version_minor": 0
      },
      "text/plain": [
       "Training:   0%|                                                                   | 0/8750 [00:00<?, ?it/s, tr…"
      ]
     },
     "metadata": {},
     "output_type": "display_data"
    },
    {
     "name": "stdout",
     "output_type": "stream",
     "text": [
      "Epoch 4: train=2.84683, val=2.49261, took 999.13 s\n"
     ]
    },
    {
     "data": {
      "application/vnd.jupyter.widget-view+json": {
       "model_id": "f6dbf71a076d42909030dfbefe26f727",
       "version_major": 2,
       "version_minor": 0
      },
      "text/plain": [
       "Training:   0%|                                                                   | 0/8750 [00:00<?, ?it/s, tr…"
      ]
     },
     "metadata": {},
     "output_type": "display_data"
    },
    {
     "name": "stdout",
     "output_type": "stream",
     "text": [
      "Epoch 5: train=2.88553, val=2.622, took 1030.3 s\n"
     ]
    },
    {
     "data": {
      "application/vnd.jupyter.widget-view+json": {
       "model_id": "0ef1ac94397947d49b5a1c5adb6beae0",
       "version_major": 2,
       "version_minor": 0
      },
      "text/plain": [
       "Training:   0%|                                                                   | 0/8750 [00:00<?, ?it/s, tr…"
      ]
     },
     "metadata": {},
     "output_type": "display_data"
    },
    {
     "name": "stdout",
     "output_type": "stream",
     "text": [
      "Epoch 6: train=2.91622, val=2.72099, took 1027.1 s\n"
     ]
    },
    {
     "data": {
      "application/vnd.jupyter.widget-view+json": {
       "model_id": "bac298488e26401b8c833c09b6bd715c",
       "version_major": 2,
       "version_minor": 0
      },
      "text/plain": [
       "Training:   0%|                                                                   | 0/8750 [00:00<?, ?it/s, tr…"
      ]
     },
     "metadata": {},
     "output_type": "display_data"
    },
    {
     "name": "stdout",
     "output_type": "stream",
     "text": [
      "Epoch 7: train=3.05731, val=2.51171, took 1042.2 s\n"
     ]
    },
    {
     "data": {
      "application/vnd.jupyter.widget-view+json": {
       "model_id": "567728fc2aa4435f950debd6159d07d6",
       "version_major": 2,
       "version_minor": 0
      },
      "text/plain": [
       "Training:   0%|                                                                   | 0/8750 [00:00<?, ?it/s, tr…"
      ]
     },
     "metadata": {},
     "output_type": "display_data"
    },
    {
     "name": "stdout",
     "output_type": "stream",
     "text": [
      "Epoch 8: train=2.93258, val=2.51432, took 957.16 s\n"
     ]
    },
    {
     "data": {
      "application/vnd.jupyter.widget-view+json": {
       "model_id": "1f410ae238cd4d5bad8382378d5d3f91",
       "version_major": 2,
       "version_minor": 0
      },
      "text/plain": [
       "Training:   0%|                                                                   | 0/8750 [00:00<?, ?it/s, tr…"
      ]
     },
     "metadata": {},
     "output_type": "display_data"
    },
    {
     "name": "stdout",
     "output_type": "stream",
     "text": [
      "Epoch 9: train=2.84468, val=2.60184, took 949.69 s\n"
     ]
    },
    {
     "data": {
      "application/vnd.jupyter.widget-view+json": {
       "model_id": "c29d3d29e2424179920ac0fc053d9158",
       "version_major": 2,
       "version_minor": 0
      },
      "text/plain": [
       "Training:   0%|                                                                   | 0/8750 [00:00<?, ?it/s, tr…"
      ]
     },
     "metadata": {},
     "output_type": "display_data"
    },
    {
     "name": "stdout",
     "output_type": "stream",
     "text": [
      "Epoch 10: train=2.84415, val=2.58301, took 946.64 s\n"
     ]
    },
    {
     "data": {
      "application/vnd.jupyter.widget-view+json": {
       "model_id": "da72652d189641128d3276f623230c72",
       "version_major": 2,
       "version_minor": 0
      },
      "text/plain": [
       "Training:   0%|                                                                   | 0/8750 [00:00<?, ?it/s, tr…"
      ]
     },
     "metadata": {},
     "output_type": "display_data"
    },
    {
     "name": "stdout",
     "output_type": "stream",
     "text": [
      "Epoch 11: train=2.84907, val=2.56677, took 957.46 s\n"
     ]
    },
    {
     "data": {
      "application/vnd.jupyter.widget-view+json": {
       "model_id": "6297cc380b324ab4afcd01115e6bf6ad",
       "version_major": 2,
       "version_minor": 0
      },
      "text/plain": [
       "Training:   0%|                                                                   | 0/8750 [00:00<?, ?it/s, tr…"
      ]
     },
     "metadata": {},
     "output_type": "display_data"
    },
    {
     "name": "stdout",
     "output_type": "stream",
     "text": [
      "Epoch 12: train=2.84915, val=2.54831, took 1016.0 s\n"
     ]
    },
    {
     "data": {
      "application/vnd.jupyter.widget-view+json": {
       "model_id": "f166488a79274943affa8a4ba609cbe3",
       "version_major": 2,
       "version_minor": 0
      },
      "text/plain": [
       "Training:   0%|                                                                   | 0/8750 [00:00<?, ?it/s, tr…"
      ]
     },
     "metadata": {},
     "output_type": "display_data"
    },
    {
     "name": "stdout",
     "output_type": "stream",
     "text": [
      "Epoch 13: train=2.84958, val=2.52478, took 1027.2 s\n"
     ]
    },
    {
     "data": {
      "application/vnd.jupyter.widget-view+json": {
       "model_id": "30d5679925664566b3c8f3df475905cc",
       "version_major": 2,
       "version_minor": 0
      },
      "text/plain": [
       "Training:   0%|                                                                   | 0/8750 [00:00<?, ?it/s, tr…"
      ]
     },
     "metadata": {},
     "output_type": "display_data"
    },
    {
     "name": "stdout",
     "output_type": "stream",
     "text": [
      "Epoch 14: train=2.84408, val=2.55686, took 1023.6 s\n"
     ]
    },
    {
     "data": {
      "application/vnd.jupyter.widget-view+json": {
       "model_id": "11faaed90e5641c6a85cbfc7aee76a1e",
       "version_major": 2,
       "version_minor": 0
      },
      "text/plain": [
       "Training:   0%|                                                                   | 0/8750 [00:00<?, ?it/s, tr…"
      ]
     },
     "metadata": {},
     "output_type": "display_data"
    },
    {
     "name": "stdout",
     "output_type": "stream",
     "text": [
      "Epoch 15: train=2.85244, val=2.58995, took 1016.6 s\n"
     ]
    },
    {
     "data": {
      "application/vnd.jupyter.widget-view+json": {
       "model_id": "ea1b0c27909741639a27215dc25b1dd2",
       "version_major": 2,
       "version_minor": 0
      },
      "text/plain": [
       "Training:   0%|                                                                   | 0/8750 [00:00<?, ?it/s, tr…"
      ]
     },
     "metadata": {},
     "output_type": "display_data"
    },
    {
     "name": "stdout",
     "output_type": "stream",
     "text": [
      "Epoch 16: train=2.84757, val=2.51154, took 1032.0 s\n"
     ]
    },
    {
     "data": {
      "application/vnd.jupyter.widget-view+json": {
       "model_id": "658674f863724edaae9de0fd37a6b0c9",
       "version_major": 2,
       "version_minor": 0
      },
      "text/plain": [
       "Training:   0%|                                                                   | 0/8750 [00:00<?, ?it/s, tr…"
      ]
     },
     "metadata": {},
     "output_type": "display_data"
    },
    {
     "name": "stdout",
     "output_type": "stream",
     "text": [
      "Epoch 17: train=2.83902, val=2.60786, took 972.07 s\n"
     ]
    },
    {
     "data": {
      "application/vnd.jupyter.widget-view+json": {
       "model_id": "fa2f71f9a0d9420681498faf5fb66246",
       "version_major": 2,
       "version_minor": 0
      },
      "text/plain": [
       "Training:   0%|                                                                   | 0/8750 [00:00<?, ?it/s, tr…"
      ]
     },
     "metadata": {},
     "output_type": "display_data"
    },
    {
     "name": "stdout",
     "output_type": "stream",
     "text": [
      "Epoch 18: train=2.8323, val=2.48757, took 1018.1 s\n"
     ]
    },
    {
     "data": {
      "application/vnd.jupyter.widget-view+json": {
       "model_id": "38d89fba8bd548f59df2e0416964f915",
       "version_major": 2,
       "version_minor": 0
      },
      "text/plain": [
       "Training:   0%|                                                                   | 0/8750 [00:00<?, ?it/s, tr…"
      ]
     },
     "metadata": {},
     "output_type": "display_data"
    },
    {
     "name": "stdout",
     "output_type": "stream",
     "text": [
      "Epoch 19: train=2.82158, val=2.48386, took 1032.5 s\n"
     ]
    },
    {
     "data": {
      "application/vnd.jupyter.widget-view+json": {
       "model_id": "e0eecef42c2741e7a7aff5c028285aec",
       "version_major": 2,
       "version_minor": 0
      },
      "text/plain": [
       "Training:   0%|                                                                   | 0/8750 [00:00<?, ?it/s, tr…"
      ]
     },
     "metadata": {},
     "output_type": "display_data"
    },
    {
     "name": "stdout",
     "output_type": "stream",
     "text": [
      "Epoch 20: train=2.81144, val=2.49849, took 1024.4 s\n"
     ]
    },
    {
     "data": {
      "application/vnd.jupyter.widget-view+json": {
       "model_id": "c90096c9de5542f884acbd5a093dcb65",
       "version_major": 2,
       "version_minor": 0
      },
      "text/plain": [
       "Training:   0%|                                                                   | 0/8750 [00:00<?, ?it/s, tr…"
      ]
     },
     "metadata": {},
     "output_type": "display_data"
    },
    {
     "name": "stdout",
     "output_type": "stream",
     "text": [
      "Epoch 21: train=2.7953, val=2.48205, took 1014.1 s\n"
     ]
    },
    {
     "data": {
      "application/vnd.jupyter.widget-view+json": {
       "model_id": "1e25737dbe2343ce9a53da71d29902ff",
       "version_major": 2,
       "version_minor": 0
      },
      "text/plain": [
       "Training:   0%|                                                                   | 0/8750 [00:00<?, ?it/s, tr…"
      ]
     },
     "metadata": {},
     "output_type": "display_data"
    },
    {
     "name": "stdout",
     "output_type": "stream",
     "text": [
      "Epoch 22: train=2.79397, val=2.48158, took 1008.2 s\n"
     ]
    },
    {
     "data": {
      "application/vnd.jupyter.widget-view+json": {
       "model_id": "4eeaab3ff04a4ecdbf4541c5de6d95fc",
       "version_major": 2,
       "version_minor": 0
      },
      "text/plain": [
       "Training:   0%|                                                                   | 0/8750 [00:00<?, ?it/s, tr…"
      ]
     },
     "metadata": {},
     "output_type": "display_data"
    },
    {
     "name": "stdout",
     "output_type": "stream",
     "text": [
      "Epoch 23: train=2.79194, val=2.47951, took 1008.0 s\n"
     ]
    },
    {
     "data": {
      "application/vnd.jupyter.widget-view+json": {
       "model_id": "52afb37f4882473c8ed9d3560f7ce99d",
       "version_major": 2,
       "version_minor": 0
      },
      "text/plain": [
       "Training:   0%|                                                                   | 0/8750 [00:00<?, ?it/s, tr…"
      ]
     },
     "metadata": {},
     "output_type": "display_data"
    },
    {
     "name": "stdout",
     "output_type": "stream",
     "text": [
      "Epoch 24: train=2.79185, val=2.4799, took 1045.6 s\n"
     ]
    },
    {
     "data": {
      "application/vnd.jupyter.widget-view+json": {
       "model_id": "35a9570da90a47e98abbf52c7fb7adea",
       "version_major": 2,
       "version_minor": 0
      },
      "text/plain": [
       "Training:   0%|                                                                   | 0/8750 [00:00<?, ?it/s, tr…"
      ]
     },
     "metadata": {},
     "output_type": "display_data"
    },
    {
     "name": "stdout",
     "output_type": "stream",
     "text": [
      "Epoch 25: train=2.79089, val=2.47245, took 1093.4 s\n"
     ]
    },
    {
     "data": {
      "application/vnd.jupyter.widget-view+json": {
       "model_id": "e02b117133644e95a14626382e7d928a",
       "version_major": 2,
       "version_minor": 0
      },
      "text/plain": [
       "Training:   0%|                                                                   | 0/8750 [00:00<?, ?it/s, tr…"
      ]
     },
     "metadata": {},
     "output_type": "display_data"
    },
    {
     "name": "stdout",
     "output_type": "stream",
     "text": [
      "Epoch 26: train=2.78984, val=2.47684, took 1110.0 s\n"
     ]
    },
    {
     "data": {
      "application/vnd.jupyter.widget-view+json": {
       "model_id": "e6f13c5f16f8435685c1401a9cffadd7",
       "version_major": 2,
       "version_minor": 0
      },
      "text/plain": [
       "Training:   0%|                                                                   | 0/8750 [00:00<?, ?it/s, tr…"
      ]
     },
     "metadata": {},
     "output_type": "display_data"
    },
    {
     "name": "stdout",
     "output_type": "stream",
     "text": [
      "Epoch 27: train=2.78861, val=2.47928, took 1104.4 s\n"
     ]
    },
    {
     "data": {
      "application/vnd.jupyter.widget-view+json": {
       "model_id": "b309d41e1a5c48e69ce08ac453a99528",
       "version_major": 2,
       "version_minor": 0
      },
      "text/plain": [
       "Training:   0%|                                                                   | 0/8750 [00:00<?, ?it/s, tr…"
      ]
     },
     "metadata": {},
     "output_type": "display_data"
    },
    {
     "name": "stdout",
     "output_type": "stream",
     "text": [
      "Epoch 28: train=2.78799, val=2.47681, took 1094.5 s\n"
     ]
    },
    {
     "data": {
      "application/vnd.jupyter.widget-view+json": {
       "model_id": "68b4252ace9b46bc82420dc22e8290a3",
       "version_major": 2,
       "version_minor": 0
      },
      "text/plain": [
       "Training:   0%|                                                                   | 0/8750 [00:00<?, ?it/s, tr…"
      ]
     },
     "metadata": {},
     "output_type": "display_data"
    },
    {
     "name": "stdout",
     "output_type": "stream",
     "text": [
      "Epoch 29: train=2.80191, val=2.47039, took 1092.2 s\n"
     ]
    },
    {
     "data": {
      "application/vnd.jupyter.widget-view+json": {
       "model_id": "be4f120856a145b0bf9279b14e66b647",
       "version_major": 2,
       "version_minor": 0
      },
      "text/plain": [
       "Training:   0%|                                                                   | 0/8750 [00:00<?, ?it/s, tr…"
      ]
     },
     "metadata": {},
     "output_type": "display_data"
    },
    {
     "name": "stdout",
     "output_type": "stream",
     "text": [
      "Epoch 30: train=2.81228, val=2.47414, took 1096.6 s\n"
     ]
    },
    {
     "data": {
      "application/vnd.jupyter.widget-view+json": {
       "model_id": "6edf499f915c45a3bd7722d2a89306c8",
       "version_major": 2,
       "version_minor": 0
      },
      "text/plain": [
       "Training:   0%|                                                                   | 0/8750 [00:00<?, ?it/s, tr…"
      ]
     },
     "metadata": {},
     "output_type": "display_data"
    },
    {
     "name": "stdout",
     "output_type": "stream",
     "text": [
      "Epoch 31: train=2.81351, val=2.47227, took 1123.1 s\n"
     ]
    },
    {
     "data": {
      "application/vnd.jupyter.widget-view+json": {
       "model_id": "4ad6704bd25745548cf7f557bc30ef12",
       "version_major": 2,
       "version_minor": 0
      },
      "text/plain": [
       "Training:   0%|                                                                   | 0/8750 [00:00<?, ?it/s, tr…"
      ]
     },
     "metadata": {},
     "output_type": "display_data"
    },
    {
     "name": "stdout",
     "output_type": "stream",
     "text": [
      "Epoch 32: train=2.81834, val=2.49095, took 1114.2 s\n"
     ]
    },
    {
     "data": {
      "application/vnd.jupyter.widget-view+json": {
       "model_id": "d7faaf3e959a403f8ad3c6cc20437196",
       "version_major": 2,
       "version_minor": 0
      },
      "text/plain": [
       "Training:   0%|                                                                   | 0/8750 [00:00<?, ?it/s, tr…"
      ]
     },
     "metadata": {},
     "output_type": "display_data"
    },
    {
     "name": "stdout",
     "output_type": "stream",
     "text": [
      "Epoch 33: train=2.82483, val=2.4804, took 1113.4 s\n"
     ]
    },
    {
     "data": {
      "application/vnd.jupyter.widget-view+json": {
       "model_id": "5b1604cda8e3489a8477a5608abc6d57",
       "version_major": 2,
       "version_minor": 0
      },
      "text/plain": [
       "Training:   0%|                                                                   | 0/8750 [00:00<?, ?it/s, tr…"
      ]
     },
     "metadata": {},
     "output_type": "display_data"
    },
    {
     "name": "stdout",
     "output_type": "stream",
     "text": [
      "Epoch 34: train=2.82593, val=2.5302, took 1126.5 s\n"
     ]
    },
    {
     "data": {
      "application/vnd.jupyter.widget-view+json": {
       "model_id": "e59ce1adabbe402fa94ff443976e27d5",
       "version_major": 2,
       "version_minor": 0
      },
      "text/plain": [
       "Training:   0%|                                                                   | 0/8750 [00:00<?, ?it/s, tr…"
      ]
     },
     "metadata": {},
     "output_type": "display_data"
    },
    {
     "name": "stdout",
     "output_type": "stream",
     "text": [
      "Epoch 35: train=2.82512, val=2.48125, took 1101.5 s\n"
     ]
    },
    {
     "data": {
      "application/vnd.jupyter.widget-view+json": {
       "model_id": "35da797a2bd54362aa7e229634aa5dbb",
       "version_major": 2,
       "version_minor": 0
      },
      "text/plain": [
       "Training:   0%|                                                                   | 0/8750 [00:00<?, ?it/s, tr…"
      ]
     },
     "metadata": {},
     "output_type": "display_data"
    },
    {
     "name": "stderr",
     "output_type": "stream",
     "text": [
      "IOPub message rate exceeded.\n",
      "The notebook server will temporarily stop sending output\n",
      "to the client in order to avoid crashing it.\n",
      "To change this limit, set the config variable\n",
      "`--NotebookApp.iopub_msg_rate_limit`.\n",
      "\n",
      "Current values:\n",
      "NotebookApp.iopub_msg_rate_limit=1000.0 (msgs/sec)\n",
      "NotebookApp.rate_limit_window=3.0 (secs)\n",
      "\n",
      "IOPub message rate exceeded.\n",
      "The notebook server will temporarily stop sending output\n",
      "to the client in order to avoid crashing it.\n",
      "To change this limit, set the config variable\n",
      "`--NotebookApp.iopub_msg_rate_limit`.\n",
      "\n",
      "Current values:\n",
      "NotebookApp.iopub_msg_rate_limit=1000.0 (msgs/sec)\n",
      "NotebookApp.rate_limit_window=3.0 (secs)\n",
      "\n"
     ]
    },
    {
     "name": "stdout",
     "output_type": "stream",
     "text": [
      "Epoch 38: train=2.82359, val=2.48032, took 1108.9 s\n"
     ]
    },
    {
     "data": {
      "application/vnd.jupyter.widget-view+json": {
       "model_id": "ed829fd26c8e4794a662b82c656c23e0",
       "version_major": 2,
       "version_minor": 0
      },
      "text/plain": [
       "Training:   0%|                                                                   | 0/8750 [00:00<?, ?it/s, tr…"
      ]
     },
     "metadata": {},
     "output_type": "display_data"
    },
    {
     "name": "stderr",
     "output_type": "stream",
     "text": [
      "IOPub message rate exceeded.\n",
      "The notebook server will temporarily stop sending output\n",
      "to the client in order to avoid crashing it.\n",
      "To change this limit, set the config variable\n",
      "`--NotebookApp.iopub_msg_rate_limit`.\n",
      "\n",
      "Current values:\n",
      "NotebookApp.iopub_msg_rate_limit=1000.0 (msgs/sec)\n",
      "NotebookApp.rate_limit_window=3.0 (secs)\n",
      "\n"
     ]
    },
    {
     "name": "stdout",
     "output_type": "stream",
     "text": [
      "Epoch 40: train=2.82254, val=2.52595, took 1115.5 s\n"
     ]
    },
    {
     "data": {
      "application/vnd.jupyter.widget-view+json": {
       "model_id": "97eb48a9bdca4e9c9136b1ce65423315",
       "version_major": 2,
       "version_minor": 0
      },
      "text/plain": [
       "Training:   0%|                                                                   | 0/8750 [00:00<?, ?it/s, tr…"
      ]
     },
     "metadata": {},
     "output_type": "display_data"
    },
    {
     "name": "stderr",
     "output_type": "stream",
     "text": [
      "IOPub message rate exceeded.\n",
      "The notebook server will temporarily stop sending output\n",
      "to the client in order to avoid crashing it.\n",
      "To change this limit, set the config variable\n",
      "`--NotebookApp.iopub_msg_rate_limit`.\n",
      "\n",
      "Current values:\n",
      "NotebookApp.iopub_msg_rate_limit=1000.0 (msgs/sec)\n",
      "NotebookApp.rate_limit_window=3.0 (secs)\n",
      "\n"
     ]
    },
    {
     "name": "stdout",
     "output_type": "stream",
     "text": [
      "Epoch 41: train=2.82088, val=2.51788, took 1118.1 s\n"
     ]
    },
    {
     "data": {
      "application/vnd.jupyter.widget-view+json": {
       "model_id": "da8e7723d12e4cec95ccebb74bfdc804",
       "version_major": 2,
       "version_minor": 0
      },
      "text/plain": [
       "Training:   0%|                                                                   | 0/8750 [00:00<?, ?it/s, tr…"
      ]
     },
     "metadata": {},
     "output_type": "display_data"
    }
   ],
   "source": [
    "destinations = []\n",
    "\n",
    "for i in range(len(model_names)):\n",
    "    modelstarttime = time.strftime(\"%d/%m/%Y %H:%M:%S\")\n",
    "    if previous[i] != 'None':\n",
    "        folder = time.strftime('%d%B%Y') + '_DDplus_loss_Ba_iter29_floatAll_SetVar_' + model_names[i] + '_' + str(n_epochs) + '_epochs_' + str(learning_rate)\n",
    "    else:\n",
    "        folder = time.strftime('%d%B%Y') + '_DDplus_loss_Ba_iter29_floatAll_SetVar_' + model_names[i] + '_nopretrain_' + str(n_epochs) + '_epochs_' + str(learning_rate)\n",
    "    name   = folder\n",
    "\n",
    "    # Make an output folder named \"name\" (change if you want)\n",
    "\n",
    "    ## Special instructions for those working on goofy at UC\n",
    "    ## Please be very careful to make sure that your folder\n",
    "    ## does not live in a subdirectory of your home directory\n",
    "    ## this disk has very little capacity. Instead, use \n",
    "    ## a subdirectory in /share/lazy with a symbolic link to\n",
    "    ## it in this (the notebooks) subdirectory\n",
    "    folder = 'jgo_files/' + folder\n",
    "    output = Path(folder)\n",
    "    output.mkdir(exist_ok=True)\n",
    "    \n",
    "    #Data Frame for storing learning results\n",
    "    results = pd.DataFrame([], columns=Results._fields)\n",
    "    \n",
    "    #Building the Model per settings written in 'architectures' array\n",
    "    nOut1, nOut2, nOut3, nOut4, nOut5, nOut6, nOut7, nOut8, nOut9, nOut10, nOut11 = architectures[i]\n",
    "    model = Model(nOut1,nOut2,nOut3,nOut4,nOut5,nOut6,nOut7,nOut8,nOut9,nOut10,nOut11)\n",
    "    \n",
    "    #Defining Loss Function\n",
    "    loss = Loss(epsilon=3e-6)\n",
    "    \n",
    "    model_dict = model.state_dict()\n",
    "    #Transfering Model to GPU (or CPU, if chosen)\n",
    "    model = model.to(device)\n",
    "    \n",
    "    updated_dict = model_dict\n",
    "    ##print(\"updated_dict = \",updated_dict)\n",
    "    ## when starting \"ab initio\", reduce biases as the bias gets summed for each track\n",
    "    ## contributing to the predicted KDE\n",
    "    updated_dict[\"layer1.bias\"] = 0.005*model_dict[\"layer1.bias\"]\n",
    "    updated_dict[\"layer2.bias\"] = 0.005*model_dict[\"layer2.bias\"]\n",
    "    updated_dict[\"layer3.bias\"] = 0.005*model_dict[\"layer3.bias\"]\n",
    "    updated_dict[\"layer4.bias\"] = 0.005*model_dict[\"layer4.bias\"]\n",
    "    updated_dict[\"layer5.bias\"] = 0.005*model_dict[\"layer5.bias\"]\n",
    "    updated_dict[\"layer6.bias\"] = 0.005*model_dict[\"layer6.bias\"]\n",
    "    updated_dict[\"layer7.bias\"] = 0.005*model_dict[\"layer7.bias\"]\n",
    "    updated_dict[\"layer8.bias\"] = 0.005*model_dict[\"layer8.bias\"]\n",
    "    updated_dict[\"layer9.bias\"] = 0.005*model_dict[\"layer9.bias\"]\n",
    "    updated_dict[\"layer10.bias\"] = 0.005*model_dict[\"layer10.bias\"]\n",
    "    updated_dict[\"layer11.bias\"] = 0.005*model_dict[\"layer11.bias\"]\n",
    "    model.load_state_dict(updated_dict,strict=False)\n",
    "\n",
    "    model_dict = model.state_dict()\n",
    "    \n",
    "    print(model_names[i])\n",
    "    if previous[i] != 'None':\n",
    "        pretrained_dict = torch.load(previous[i])\n",
    "        print(\" \")\n",
    "        print(\"  for pretrained_dict\")\n",
    "        index = 0\n",
    "        for k,v in pretrained_dict.items():\n",
    "            print(\"index, k =  \",index,\"  \",k)\n",
    "            index = index+1\n",
    "        ##print(\"model_dict instantiated\")\n",
    "        # 1. filter out unnecessary keys\n",
    "        pretrained_dict = {k: v for k, v in pretrained_dict.items() if k in model_dict}\n",
    "        print(\"pretrained_dict iterated\")\n",
    "        # 2. overwrite entries in the existing state dict\n",
    "        model_dict.update(pretrained_dict) \n",
    "        ##\n",
    "        #   when starting from a model with a fully connected last layer rather than a convolutional layer\n",
    "        # 3. load the new state dict\n",
    "        #   need to use strict=False as the two models state model attributes do not agree exactly\n",
    "        #   see https://pytorch.org/docs/master/_modules/torch/nn/modules/module.html#Module.load_state_dict\n",
    "\n",
    "        model.load_state_dict(pretrained_dict,strict=False)\n",
    "    \n",
    "    #Defining Optimizer (Reminder to ask about that)\n",
    "    optimizer = torch.optim.Adam(model.parameters(), lr=learning_rate)\n",
    "    \n",
    "    # Data Import. If we are using a larger dataset (240K events, with the datasets above, and 11 GB  of GPU memory),\n",
    "    # the dataset will overflow the GPU memory; device=device will allow the data to move back\n",
    "    # and forth between the CPU and GPU memory. While this allows use of a larger dataset, it slows\n",
    "    # down performance by about 10%.  So comment out when not needed.\n",
    "\n",
    "    \n",
    "    for result in trainNet(model, optimizer, loss, train_loader, val_loader, n_epochs, epoch_start=len(results), notebook=True):\n",
    "        \n",
    "        #Record Epoch Results\n",
    "        results = results.append(pd.Series(result._asdict()), ignore_index=True)\n",
    "\n",
    "        # Save each model state dictionary\n",
    "        torch.save(model.state_dict(), output / f'{name}_{result.epoch}.pyt')\n",
    "    \n",
    "    #Save final point in model\n",
    "    torch.save(model.state_dict(), output / f'{name}_final.pyt')\n",
    "    print('Final Model State Saved to', output / f'{name}_final.pyt')\n",
    "    \n",
    "    results.to_hdf(output / f'{name}_stats.hdf5', 'results')\n",
    "    print('Model Statistics Saved to', output / f'{name}_stats.hdf5')\n",
    "    \n",
    "    destinations.append(output / f'{name}_stats.hdf5')\n",
    "    \n",
    "    readme = open(output / f'{name}_README.txt', 'w')\n",
    "    readme.write('Model Run using RunModel_Tracks_to_KDE_DDplus_it29_SetVar_Architecture_Comparison_jgo \\n')\n",
    "    readme.write('Model Run from ' + modelstarttime + ' to ' + time.strftime(\"%d/%m/%Y %H:%M:%S\"))\n",
    "    readme.write('\\n')\n",
    "    readme.write('Model Architecture:' + ' \\n')\n",
    "    childindex = 0\n",
    "    for child in model.children():\n",
    "        readme.write(str(childindex) + '    ' + str(child) + ' \\n')\n",
    "        childindex = childindex+1\n",
    "    readme.write('\\n')\n",
    "    readme.write('No Layers Frozen' + ' \\n')\n",
    "    readme.write('\\n')\n",
    "    readme.write('Pre-training Used: ' + previous[i] + ' \\n')\n",
    "    readme.write('\\n')\n",
    "    readme.write('Training Data Used:' + ' \\n')\n",
    "    for trainfile in ['/share/lazy/will/data/June30_2020_80k_1.h5', \n",
    "                                  '/share/lazy/will/data/June30_2020_80k_2.h5',\n",
    "                                    '/share/lazy/will/data/June30_2020_80k_3.h5',\n",
    "                                    '/share/lazy/will/data/June30_2020_80k_4.h5',\n",
    "                                      '/share/lazy/will/data/June30_2020_80k_5.h5',\n",
    "                                      '/share/lazy/will/data/June30_2020_80k_6.h5',\n",
    "                                      '/share/lazy/will/data/June30_2020_80k_7.h5']:\n",
    "        readme.write(trainfile + ' \\n')\n",
    "    readme.write('No Training Slice Used \\n')\n",
    "    readme.write('\\n')\n",
    "    readme.write('No Validation Data Used \\n')\n",
    "    for testfile in ['dataAA/20K_POCA_kernel_evts_200926.h5']:\n",
    "        readme.write(testfile + '\\n')\n",
    "    readme.write('\\n')\n",
    "    readme.write('Batch Size:' + str(batch_size) + ' \\n')\n",
    "    readme.write('\\n')\n",
    "    readme.write('Loss Function: Ba' + ' \\n')\n",
    "    readme.write('\\n')\n",
    "    readme.write('Optimizer Used: Adam' + ' \\n')\n",
    "    readme.write('\\n')\n",
    "    readme.write('Latent Channels: ' + str(latentChannels) + ' \\n')\n",
    "    readme.close()\n",
    "    print('Model Settings Saved to', output / f'{name}_README.txt')\n",
    "    \n",
    "    \n",
    "    #"
   ]
  },
  {
   "cell_type": "code",
   "execution_count": null,
   "metadata": {},
   "outputs": [],
   "source": [
    "#Print File destinations\n",
    "stringer = ''\n",
    "for file in destinations:\n",
    "    stringer = stringer + '\\'' + name + '\\', '\n",
    "print(stringer)"
   ]
  },
  {
   "cell_type": "code",
   "execution_count": null,
   "metadata": {},
   "outputs": [],
   "source": [
    "print('Full Run Time')"
   ]
  },
  {
   "cell_type": "code",
   "execution_count": null,
   "metadata": {},
   "outputs": [],
   "source": [
    "quit()\n"
   ]
  },
  {
   "cell_type": "code",
   "execution_count": null,
   "metadata": {},
   "outputs": [],
   "source": []
  },
  {
   "cell_type": "code",
   "execution_count": null,
   "metadata": {},
   "outputs": [],
   "source": []
  },
  {
   "cell_type": "code",
   "execution_count": null,
   "metadata": {},
   "outputs": [],
   "source": []
  }
 ],
 "metadata": {
  "kernelspec": {
   "display_name": "july-2021-gpu",
   "language": "python",
   "name": "july-2021-gpu"
  },
  "language_info": {
   "codemirror_mode": {
    "name": "ipython",
    "version": 3
   },
   "file_extension": ".py",
   "mimetype": "text/x-python",
   "name": "python",
   "nbconvert_exporter": "python",
   "pygments_lexer": "ipython3",
   "version": "3.8.10"
  }
 },
 "nbformat": 4,
 "nbformat_minor": 2
}
