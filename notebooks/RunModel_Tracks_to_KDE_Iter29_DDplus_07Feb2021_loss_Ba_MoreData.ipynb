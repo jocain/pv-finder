{
 "cells": [
  {
   "cell_type": "code",
   "execution_count": 1,
   "metadata": {},
   "outputs": [],
   "source": [
    "##%matplotlib widget\n",
    "## with %matplotlib notebook: seems to require ipympl as part of environment, either\n",
    "## part of the conda environment or \"pip install ipympl\"\n",
    "## otherwise, does not show ANY plots in note\"book, plt.savefig() works\n",
    "%matplotlib notebook  \n",
    "##%matplotlib inline    ## --plt.savefig()  works, but re-sizing does NOT\n"
   ]
  },
  {
   "cell_type": "markdown",
   "metadata": {},
   "source": [
    "This notebook is the second attempt to read in track information and use it to predict the KDE used as input to PvFinder. This time, we are reading in poca KDEs rather than the original KDEs. \n",
    "\n",
    "collectdata_kde_C.py uses poca_z, poca_x, poca_y, major_axis_x, major_axis_y, and major_axis_z as the six track parameters (for the moment)\n"
   ]
  },
  {
   "cell_type": "markdown",
   "metadata": {},
   "source": [
    "Check the current GPU usage. Please try to be nice!"
   ]
  },
  {
   "cell_type": "code",
   "execution_count": 2,
   "metadata": {},
   "outputs": [
    {
     "name": "stdout",
     "output_type": "stream",
     "text": [
      "Sun Feb  7 03:50:24 2021       \n",
      "+-----------------------------------------------------------------------------+\n",
      "| NVIDIA-SMI 440.64.00    Driver Version: 440.64.00    CUDA Version: 10.2     |\n",
      "|-------------------------------+----------------------+----------------------+\n",
      "| GPU  Name        Persistence-M| Bus-Id        Disp.A | Volatile Uncorr. ECC |\n",
      "| Fan  Temp  Perf  Pwr:Usage/Cap|         Memory-Usage | GPU-Util  Compute M. |\n",
      "|===============================+======================+======================|\n",
      "|   0  TITAN V             Off  | 00000000:03:00.0 Off |                  N/A |\n",
      "| 43%   61C    P2   110W / 250W |   9073MiB / 12066MiB |     97%      Default |\n",
      "+-------------------------------+----------------------+----------------------+\n",
      "|   1  Tesla P100-PCIE...  Off  | 00000000:83:00.0 Off |                    0 |\n",
      "| N/A   33C    P0    33W / 250W |      0MiB / 16280MiB |      0%      Default |\n",
      "+-------------------------------+----------------------+----------------------+\n",
      "|   2  TITAN V             Off  | 00000000:84:00.0 Off |                  N/A |\n",
      "| 24%   39C    P0    35W / 250W |      0MiB / 12066MiB |      8%      Default |\n",
      "+-------------------------------+----------------------+----------------------+\n",
      "                                                                               \n",
      "+-----------------------------------------------------------------------------+\n",
      "| Processes:                                                       GPU Memory |\n",
      "|  GPU       PID   Type   Process name                             Usage      |\n",
      "|=============================================================================|\n",
      "|    0     37631      C   ...a/conda/envs/goofit-june2020/bin/python  9061MiB |\n",
      "+-----------------------------------------------------------------------------+\n"
     ]
    }
   ],
   "source": [
    "!nvidia-smi"
   ]
  },
  {
   "cell_type": "markdown",
   "metadata": {},
   "source": [
    "> **WARNING**: The card numbers here are *not* the same as in CUDA. You have been warned."
   ]
  },
  {
   "cell_type": "markdown",
   "metadata": {},
   "source": [
    "This notebook is first attempt to read in track information and use it to predict the KDE used as input to PvFinder.\n"
   ]
  },
  {
   "cell_type": "markdown",
   "metadata": {},
   "source": [
    "## Imports"
   ]
  },
  {
   "cell_type": "code",
   "execution_count": 3,
   "metadata": {},
   "outputs": [],
   "source": [
    "import matplotlib.pyplot as plt\n",
    "import numpy as np\n",
    "import time\n",
    "import torch\n",
    "import pandas as pd\n",
    "\n",
    "# Python 3 standard library\n",
    "from pathlib import Path\n",
    "\n",
    "##from torchsummary import summary"
   ]
  },
  {
   "cell_type": "markdown",
   "metadata": {},
   "source": [
    "### Set up local parameters"
   ]
  },
  {
   "cell_type": "code",
   "execution_count": 4,
   "metadata": {},
   "outputs": [],
   "source": [
    "n_epochs = 100\n",
    "\n",
    "folder = '07Feb_DDplus_loss_Ba_iter29_floatAll_100epochs_1p5em5_4xwill'\n",
    "name   = folder\n",
    "\n",
    "# Make an output folder named \"name\" (change if you want)\n",
    "\n",
    "## Special instructions for those working on goofy at UC\n",
    "## Please be very careful to make sure that your folder\n",
    "## does not live in a subdirectory of your home directory\n",
    "## this disk has very little capacity. Instead, use \n",
    "## a subdirectory in /share/lazy with a symbolic link to\n",
    "## it in this (the notebooks) subdirectory\n",
    "folder = 'ML_dir/' + folder\n",
    "output = Path(folder)\n",
    "\n",
    "\n",
    "# Size of batches\n",
    "batch_size = 64 ## batch_size = 24 ---> 4763MiB / 12066MiB on Titan V\n",
    "# How fast to learn\n",
    "learning_rate = 1.5e-5"
   ]
  },
  {
   "cell_type": "markdown",
   "metadata": {},
   "source": [
    "Make the output directory if it does not exist:"
   ]
  },
  {
   "cell_type": "code",
   "execution_count": 5,
   "metadata": {},
   "outputs": [],
   "source": [
    "output.mkdir(exist_ok=True)"
   ]
  },
  {
   "cell_type": "markdown",
   "metadata": {},
   "source": [
    "## Get the helper functions\n",
    "\n",
    "Add the directory with the model\n",
    "definitions to the path so we can import from it:\n",
    "\n",
    "> When you type `import X`,\n",
    "Python searches `sys.path` for a python\n",
    "file named `X.py` to import. So we need to add the model directory to the path."
   ]
  },
  {
   "cell_type": "code",
   "execution_count": 6,
   "metadata": {
    "scrolled": true
   },
   "outputs": [],
   "source": [
    "from model.collectdata_kde_Ellipsoids import collect_t2kde_data\n",
    "\n",
    "##  It takes 9 input features (poca centers + (A,B,C,D,E,F)) . \n",
    "from model.models_kde import TracksToKDE_Ellipsoids_DDplus as Model\n",
    "\n",
    "# kde_loss_Ba is a Chi2 loss (go and look at it!)\n",
    "from model.kde_loss_Ba import Loss\n",
    "\n",
    "from model.training_kde import trainNet, select_gpu, Results\n",
    "from model.plots import dual_train_plots, dual_train_plots_tracks_to_KDE, replace_in_ax"
   ]
  },
  {
   "cell_type": "code",
   "execution_count": 7,
   "metadata": {},
   "outputs": [],
   "source": [
    "# This gets built up during the run - do not rerun this cell\n",
    "results = pd.DataFrame([], columns=Results._fields)"
   ]
  },
  {
   "cell_type": "markdown",
   "metadata": {},
   "source": [
    "Set up Torch device configuration. All tensors and model parameters need to know where to be put.\n",
    "This takes a BUS ID number: The BUS ID is the same as the listing at the top of this script."
   ]
  },
  {
   "cell_type": "code",
   "execution_count": 8,
   "metadata": {},
   "outputs": [
    {
     "name": "stdout",
     "output_type": "stream",
     "text": [
      "1 available GPUs (initially using device 0):\n",
      "  0 TITAN V\n"
     ]
    }
   ],
   "source": [
    "# either 0 or 2 on goofy (i.e. TITAN V) [1 or 2 on sleepy RTX 2080TI]\n",
    "device = select_gpu(2)\n",
    "##device = \"cpu\""
   ]
  },
  {
   "cell_type": "markdown",
   "metadata": {},
   "source": [
    "## Loading data\n",
    "\n",
    "Load the dataset, split into parts, then move to device (see `collectdata.py` in the `../model` directory)"
   ]
  },
  {
   "cell_type": "markdown",
   "metadata": {},
   "source": [
    "# Preparing the model"
   ]
  },
  {
   "cell_type": "markdown",
   "metadata": {},
   "source": [
    "Prepare a model, use multiple GPUs if they are VISIBLE, and move the model to the device."
   ]
  },
  {
   "cell_type": "code",
   "execution_count": 9,
   "metadata": {
    "scrolled": true
   },
   "outputs": [],
   "source": [
    "##print(\"Let's use\", torch.cuda.device_count(), \"GPUs!\")\n",
    "##if torch.cuda.device_count() > 1:\n",
    "##    model = torch.nn.DataParallel(model)"
   ]
  },
  {
   "cell_type": "code",
   "execution_count": 10,
   "metadata": {},
   "outputs": [
    {
     "name": "stdout",
     "output_type": "stream",
     "text": [
      "ct, child =  0    Linear(in_features=9, out_features=50, bias=True)\n",
      "ct, child =  1    Linear(in_features=50, out_features=50, bias=True)\n",
      "ct, child =  2    Linear(in_features=50, out_features=50, bias=True)\n",
      "ct, child =  3    Linear(in_features=50, out_features=50, bias=True)\n",
      "ct, child =  4    Linear(in_features=50, out_features=50, bias=True)\n",
      "ct, child =  5    Linear(in_features=50, out_features=50, bias=True)\n",
      "ct, child =  6    Linear(in_features=50, out_features=50, bias=True)\n",
      "ct, child =  7    Linear(in_features=50, out_features=50, bias=True)\n",
      "ct, child =  8    Linear(in_features=50, out_features=50, bias=True)\n",
      "ct, child =  9    Linear(in_features=50, out_features=50, bias=True)\n",
      "ct, child =  10    Linear(in_features=50, out_features=50, bias=True)\n",
      "ct, child =  11    Linear(in_features=50, out_features=16000, bias=True)\n",
      "ct, child =  12    Conv1d(4, 25, kernel_size=(25,), stride=(1,), padding=(12,))\n",
      "ct, child =  13    Conv1d(25, 1, kernel_size=(5,), stride=(1,), padding=(2,))\n",
      "ct, child =  14    Linear(in_features=4000, out_features=4000, bias=True)\n",
      "ct, child =  15    Conv1d(25, 1, kernel_size=(15,), stride=(1,), padding=(7,))\n",
      "ct, child =  16    Dropout(p=0.15, inplace=False)\n",
      "ct, child =  17    Dropout(p=0.15, inplace=False)\n"
     ]
    }
   ],
   "source": [
    "## a comment on the web at https://pytorch.org/docs/stable/optim.html says\n",
    "\"\"\"\n",
    "If you need to move a model to GPU via .cuda(), please do so before constructing optimizers for it. \n",
    "Parameters of a model after .cuda() will be different objects with those before the call.\n",
    "\n",
    "In general, you should make sure that optimized parameters live in consistent locations when \n",
    "optimizers are constructed and used.\n",
    "\"\"\"\n",
    "## so move this here (although we are using model.to(device) not explicitly using .cuda()\n",
    "\n",
    "nOut1 = 50\n",
    "nOut2 = 50\n",
    "nOut3 = 50\n",
    "nOut4 = 50\n",
    "nOut5 = 50\n",
    "nOut6 = 50\n",
    "nOut7 = 50\n",
    "nOut8 = 50\n",
    "nOut9 = 50\n",
    "nOut10 = 50\n",
    "nOut11 = 50\n",
    "latentChannels = 4\n",
    "model = Model(nOut1,nOut2,nOut3,nOut4,nOut5,nOut6,nOut7,nOut8,nOut9,nOut10,nOut11,latentChannels)\n",
    "\n",
    "##summary(model, input_size=(4, 4000))\n",
    "##print(model.parameters)\n",
    "\n",
    "## add the following code to allow the user to freeze the some of the weights corresponding \n",
    "## to those taken from an earlier model trained with the original target histograms\n",
    "## presumably -- this leaves either the perturbative filter \"fixed\" and lets the \n",
    "## learning focus on the non-perturbative features, so get started faster, or vice versa\n",
    "ct = 0\n",
    "for child in model.children():\n",
    "  print('ct, child = ',ct, \"  \", child)\n",
    "  if ct < 0:\n",
    "    print(\"     About to set param.requires_grad=False for ct = \", ct, \"params\")\n",
    "    for param in child.parameters():\n",
    "        # fixing parameters\n",
    "        param.requires_grad = False \n",
    "  ct += 1\n",
    "##  mds 200121 loss = Loss(epsilon=1e-5,coefficient=1.0)\n",
    "##  loss = Loss(epsilon=1e-5,coefficient=2.5)\n",
    "##loss = Loss(epsilon=3e-5, debug=False)\n",
    "loss = Loss(epsilon=3e-5)"
   ]
  },
  {
   "cell_type": "markdown",
   "metadata": {},
   "source": [
    "Let's move the model's weight matricies to the GPU:"
   ]
  },
  {
   "cell_type": "code",
   "execution_count": 11,
   "metadata": {
    "scrolled": true
   },
   "outputs": [],
   "source": [
    "model = model.to(device)"
   ]
  },
  {
   "cell_type": "code",
   "execution_count": 12,
   "metadata": {
    "scrolled": true
   },
   "outputs": [],
   "source": [
    "optimizer = torch.optim.Adam(model.parameters(), lr=learning_rate)\n",
    "##optimizer = torch.optim.SGD(model.parameters(), lr=learning_rate)"
   ]
  },
  {
   "cell_type": "code",
   "execution_count": 13,
   "metadata": {
    "scrolled": true
   },
   "outputs": [
    {
     "name": "stdout",
     "output_type": "stream",
     "text": [
      "output =  ML_dir/07Feb_DDplus_loss_Ba_iter29_floatAll_100epochs_1p5em5_4xwill\n",
      "for model_dict\n",
      "index, k =   0    layer1.weight\n",
      "index, k =   1    layer1.bias\n",
      "index, k =   2    layer2.weight\n",
      "index, k =   3    layer2.bias\n",
      "index, k =   4    layer3.weight\n",
      "index, k =   5    layer3.bias\n",
      "index, k =   6    layer4.weight\n",
      "index, k =   7    layer4.bias\n",
      "index, k =   8    layer5.weight\n",
      "index, k =   9    layer5.bias\n",
      "index, k =   10    layer6.weight\n",
      "index, k =   11    layer6.bias\n",
      "index, k =   12    layer7.weight\n",
      "index, k =   13    layer7.bias\n",
      "index, k =   14    layer8.weight\n",
      "index, k =   15    layer8.bias\n",
      "index, k =   16    layer9.weight\n",
      "index, k =   17    layer9.bias\n",
      "index, k =   18    layer10.weight\n",
      "index, k =   19    layer10.bias\n",
      "index, k =   20    layer11.weight\n",
      "index, k =   21    layer11.bias\n",
      "index, k =   22    layer12new.weight\n",
      "index, k =   23    layer12new.bias\n",
      "index, k =   24    conv1.weight\n",
      "index, k =   25    conv1.bias\n",
      "index, k =   26    conv2.weight\n",
      "index, k =   27    conv2.bias\n",
      "index, k =   28    fc1.weight\n",
      "index, k =   29    fc1.bias\n",
      "index, k =   30    finalFilter.weight\n",
      "index, k =   31    finalFilter.bias\n",
      "dict_name =  ML_dir/06Feb_DDplus_loss_Ba_iter28_floatAll_100epochs_1p5em5_4xwill/06Feb_DDplus_loss_Ba_iter28_floatAll_100epochs_1p5em5_4xwill_final.pyt\n",
      " \n",
      "  for pretrained_dict\n",
      "index, k =   0    layer1.weight\n",
      "index, k =   1    layer1.bias\n",
      "index, k =   2    layer2.weight\n",
      "index, k =   3    layer2.bias\n",
      "index, k =   4    layer3.weight\n",
      "index, k =   5    layer3.bias\n",
      "index, k =   6    layer4.weight\n",
      "index, k =   7    layer4.bias\n",
      "index, k =   8    layer5.weight\n",
      "index, k =   9    layer5.bias\n",
      "index, k =   10    layer6.weight\n",
      "index, k =   11    layer6.bias\n",
      "index, k =   12    layer7.weight\n",
      "index, k =   13    layer7.bias\n",
      "index, k =   14    layer8.weight\n",
      "index, k =   15    layer8.bias\n",
      "index, k =   16    layer9.weight\n",
      "index, k =   17    layer9.bias\n",
      "index, k =   18    layer10.weight\n",
      "index, k =   19    layer10.bias\n",
      "index, k =   20    layer11.weight\n",
      "index, k =   21    layer11.bias\n",
      "index, k =   22    layer12new.weight\n",
      "index, k =   23    layer12new.bias\n",
      "index, k =   24    conv1.weight\n",
      "index, k =   25    conv1.bias\n",
      "index, k =   26    conv2.weight\n",
      "index, k =   27    conv2.bias\n",
      "index, k =   28    fc1.weight\n",
      "index, k =   29    fc1.bias\n",
      "index, k =   30    finalFilter.weight\n",
      "index, k =   31    finalFilter.bias\n",
      "pretrained_dict iterated\n"
     ]
    },
    {
     "data": {
      "text/plain": [
       "<All keys matched successfully>"
      ]
     },
     "execution_count": 13,
     "metadata": {},
     "output_type": "execute_result"
    }
   ],
   "source": [
    "print('output = ',output)\n",
    "##print('oldOutput = ',oldOutput)\n",
    "##  use the first four layers from a pre-existing model\n",
    "##  see example at https://discuss.pytorch.org/t/how-to-load-part-of-pre-trained-model/1113\n",
    "\n",
    "##   ML -> /share/lazy/sokoloff/ML\n",
    "model_dict = model.state_dict()\n",
    "## mds 190725 for debugging\n",
    "print(\"for model_dict\")\n",
    "index = 0\n",
    "for k,v in model_dict.items():\n",
    "    print(\"index, k =  \",index,\"  \",k)\n",
    "    index = index+1\n",
    "##    print(\"value = \", v)\n",
    " \n",
    "updated_dict = model_dict\n",
    "##print(\"updated_dict = \",updated_dict)\n",
    "## when starting \"ab initio\", reduce biases as the bias gets summed for each track\n",
    "## contributing to the predicted KDE\n",
    "updated_dict[\"layer1.bias\"] = 0.005*model_dict[\"layer1.bias\"]\n",
    "updated_dict[\"layer2.bias\"] = 0.005*model_dict[\"layer2.bias\"]\n",
    "updated_dict[\"layer3.bias\"] = 0.005*model_dict[\"layer3.bias\"]\n",
    "updated_dict[\"layer4.bias\"] = 0.005*model_dict[\"layer4.bias\"]\n",
    "updated_dict[\"layer5.bias\"] = 0.005*model_dict[\"layer5.bias\"]\n",
    "updated_dict[\"layer6.bias\"] = 0.005*model_dict[\"layer6.bias\"]\n",
    "updated_dict[\"layer7.bias\"] = 0.005*model_dict[\"layer7.bias\"]\n",
    "updated_dict[\"layer8.bias\"] = 0.005*model_dict[\"layer8.bias\"]\n",
    "updated_dict[\"layer9.bias\"] = 0.005*model_dict[\"layer9.bias\"]\n",
    "updated_dict[\"layer10.bias\"] = 0.005*model_dict[\"layer10.bias\"]\n",
    "updated_dict[\"layer11.bias\"] = 0.005*model_dict[\"layer11.bias\"]\n",
    "\n",
    "model.load_state_dict(updated_dict,strict=False)\n",
    "\n",
    "model_dict = model.state_dict()\n",
    "##print(\"updated model_dict = \",model_dict)\n",
    "\n",
    "## print(\" \\n\",\"  for pretrained_dict\")\n",
    "## index = 0\n",
    "##for k,v in pretrained_dict.items():\n",
    "##    print(\"index, k =  \",index,\"  \",k)\n",
    "##    index = index+1\n",
    "## mds  \n",
    "\n",
    "##pretrained_dict = torch.load('ML/29July2020_Trks_to_KDE_C_lossB_100epochs_b64_1m3_nOut_50x50/29July2020_Trks_to_KDE_C_lossB_100epochs_b64_1m3_nOut_50x50_final.pyt')\n",
    "##print(\"model_dict instantiated\")\n",
    "# 1. filter out unnecessary keys\n",
    "##pretrained_dict = {k: v for k, v in pretrained_dict.items() if k in model_dict}\n",
    "##print(\"pretrained_dict iterated\")\n",
    "# 2. overwrite entries in the existing state dict\n",
    "##model_dict.update(pretrained_dict) \n",
    "##\n",
    "#   when starting from a model with a fully connected last layer rather than a convolutional layer\n",
    "# 3. load the new state dict\n",
    "#   need to use strict=False as the two models state model attributes do not agree exactly\n",
    "#   see https://pytorch.org/docs/master/_modules/torch/nn/modules/module.html#Module.load_state_dict\n",
    "\n",
    "##model.load_state_dict(pretrained_dict,strict=False)\n",
    "\n",
    "## print('model_dict =    ', model_dict)\n",
    "\n",
    "## finished at training cost = 1.46, validation cost = 1.50\n",
    "##d_folder = '25December__DDplus_loss_Ba_iter7_floatAll_800epochs_4em6'\n",
    "d_folder = '06Feb_DDplus_loss_Ba_iter28_floatAll_100epochs_1p5em5_4xwill'\n",
    "d_name = d_folder\n",
    "##  for 24Jan_DDplus_loss_Ba_iter17_floatAll_150epochs_1p5em5_4xwill use suffix 87\n",
    "##  as this is the last epoch that ran before I killed the job (don't ask)\n",
    "suffix = 'final'\n",
    "dict_name = 'ML_dir/' + d_folder + '/' + d_name + '_'+ suffix + '.pyt'\n",
    "print('dict_name = ',dict_name)\n",
    "pretrained_dict = torch.load(dict_name)\n",
    "\n",
    "print(\" \")\n",
    "print(\"  for pretrained_dict\")\n",
    "index = 0\n",
    "for k,v in pretrained_dict.items():\n",
    "    print(\"index, k =  \",index,\"  \",k)\n",
    "    index = index+1\n",
    " \n",
    "\n",
    "##print(\"model_dict instantiated\")\n",
    "# 1. filter out unnecessary keys\n",
    "pretrained_dict = {k: v for k, v in pretrained_dict.items() if k in model_dict}\n",
    "print(\"pretrained_dict iterated\")\n",
    "# 2. overwrite entries in the existing state dict\n",
    "model_dict.update(pretrained_dict) \n",
    "##\n",
    "#   when starting from a model with a fully connected last layer rather than a convolutional layer\n",
    "# 3. load the new state dict\n",
    "#   need to use strict=False as the two models state model attributes do not agree exactly\n",
    "#   see https://pytorch.org/docs/master/_modules/torch/nn/modules/module.html#Module.load_state_dict\n",
    "\n",
    "model.load_state_dict(pretrained_dict,strict=False)\n",
    "\n"
   ]
  },
  {
   "cell_type": "code",
   "execution_count": 14,
   "metadata": {},
   "outputs": [],
   "source": [
    "##print('validation.dataset.tensors = ',validation.dataset.tensors)\n",
    "fig_size = plt.rcParams[\"figure.figsize\"]\n",
    "fig_size[0] = 10\n",
    "fig_size[1] = 4\n",
    "plt.rcParams[\"figure.figsize\"] = fig_size"
   ]
  },
  {
   "cell_type": "code",
   "execution_count": 15,
   "metadata": {},
   "outputs": [
    {
     "name": "stdout",
     "output_type": "stream",
     "text": [
      "Loading data...\n",
      "pocaMx.shape =  (80000,)\n",
      "nEvts =  80000\n",
      "len(pocaMx[0]) =  199\n",
      "len(pocaMx[1]) =  25\n",
      "len(pocaMx[2]) =  369\n",
      "len(pocaMx[3]) =  143\n",
      "len(pocaMx[4]) =  160\n",
      "majorAxis.shape =  (80000, 3)\n",
      "minorAxis_1.shape =  (80000, 3)\n",
      "minorAxis_2.shape =  (80000, 3)\n",
      "have entered six_ellipsoid_parameters\n",
      "  \n",
      " \n",
      "  nEvts =  80000\n",
      " iEvt, nTrks =  0 199\n",
      " iEvt, nTrks =  1 25\n",
      " iEvt, nTrks =  2 369\n",
      " iEvt, nTrks =  3 143\n",
      " iEvt, nTrks =  4 160\n",
      " iEvt, nTrks =  5 260\n",
      " iEvt, nTrks =  6 237\n",
      " iEvt, nTrks =  7 327\n",
      " iEvt, nTrks =  8 178\n",
      " iEvt, nTrks =  9 106\n",
      "A.shape =  (80000,)\n",
      "majorAxis[iTrk][0][0] =  0.00045611936\n",
      "majorAxis[iTrk][1][0] =  -4.8292455e-05\n",
      "majorAxis[iTrk][2][0] =  0.090019904\n",
      "minorAxis_1[iTrk][0][0] =  -1.8602173\n",
      "minorAxis_1[iTrk][1][0] =  -17.569641\n",
      "minorAxis_1[iTrk][2][0] =  4.7891795e-08\n",
      "minorAxis_2[iTrk][0][0] =  -17.569414\n",
      "minorAxis_2[iTrk][1][0] =  1.8601931\n",
      "minorAxis_2[iTrk][2][0] =  0.0900199\n",
      "  \n",
      "majorAxis[iTrk][0][0] =  0.002360258\n",
      "majorAxis[iTrk][1][0] =  -0.007426616\n",
      "majorAxis[iTrk][2][0] =  0.3710108\n",
      "minorAxis_1[iTrk][0][0] =  -16.837948\n",
      "minorAxis_1[iTrk][1][0] =  -5.3512807\n",
      "minorAxis_1[iTrk][2][0] =  8.157131e-09\n",
      "minorAxis_2[iTrk][0][0] =  -5.3501005\n",
      "minorAxis_2[iTrk][1][0] =  16.834236\n",
      "minorAxis_2[iTrk][2][0] =  0.3710108\n",
      "  \n",
      "majorAxis[iTrk][0][0] =  6.220712e-05\n",
      "majorAxis[iTrk][1][0] =  -4.4594188e-05\n",
      "majorAxis[iTrk][2][0] =  0.036773544\n",
      "minorAxis_1[iTrk][0][0] =  10.293747\n",
      "minorAxis_1[iTrk][1][0] =  14.359369\n",
      "minorAxis_1[iTrk][2][0] =  1.571041e-06\n",
      "minorAxis_2[iTrk][0][0] =  14.359338\n",
      "minorAxis_2[iTrk][1][0] =  -10.293725\n",
      "minorAxis_2[iTrk][2][0] =  -0.03677354\n",
      "  \n",
      "majorAxis[iTrk][0][0] =  0.0033452737\n",
      "majorAxis[iTrk][1][0] =  0.00013028442\n",
      "majorAxis[iTrk][2][0] =  0.2431933\n",
      "minorAxis_1[iTrk][0][0] =  0.6875674\n",
      "minorAxis_1[iTrk][1][0] =  -17.65446\n",
      "minorAxis_1[iTrk][2][0] =  -6.6602626e-09\n",
      "minorAxis_2[iTrk][0][0] =  -17.652788\n",
      "minorAxis_2[iTrk][1][0] =  -0.68750226\n",
      "minorAxis_2[iTrk][2][0] =  0.2431933\n",
      "  \n",
      "majorAxis[iTrk][0][0] =  -0.00068196515\n",
      "majorAxis[iTrk][1][0] =  -0.00044562915\n",
      "majorAxis[iTrk][2][0] =  0.119970225\n",
      "minorAxis_1[iTrk][0][0] =  9.664597\n",
      "minorAxis_1[iTrk][1][0] =  -14.790141\n",
      "minorAxis_1[iTrk][2][0] =  1.9819232e-08\n",
      "minorAxis_2[iTrk][0][0] =  -14.789802\n",
      "minorAxis_2[iTrk][1][0] =  -9.664374\n",
      "minorAxis_2[iTrk][2][0] =  -0.11997023\n",
      "  \n",
      "majorAxis[iTrk][0][0] =  -8.245073e-05\n",
      "majorAxis[iTrk][1][0] =  0.00015860004\n",
      "majorAxis[iTrk][2][0] =  0.05619731\n",
      "minorAxis_1[iTrk][0][0] =  -15.676071\n",
      "minorAxis_1[iTrk][1][0] =  -8.149452\n",
      "minorAxis_1[iTrk][2][0] =  4.1105773e-07\n",
      "minorAxis_2[iTrk][0][0] =  -8.14941\n",
      "minorAxis_2[iTrk][1][0] =  15.675991\n",
      "minorAxis_2[iTrk][2][0] =  -0.056197315\n",
      "  \n",
      "majorAxis[iTrk][0][0] =  -0.00015151131\n",
      "majorAxis[iTrk][1][0] =  0.00067339616\n",
      "majorAxis[iTrk][2][0] =  0.11042937\n",
      "minorAxis_1[iTrk][0][0] =  17.236937\n",
      "minorAxis_1[iTrk][1][0] =  3.8782384\n",
      "minorAxis_1[iTrk][2][0] =  2.3217373e-08\n",
      "minorAxis_2[iTrk][0][0] =  3.8781626\n",
      "minorAxis_2[iTrk][1][0] =  -17.236599\n",
      "minorAxis_2[iTrk][2][0] =  0.11042936\n",
      "  \n",
      "majorAxis[iTrk][0][0] =  -7.577422e-05\n",
      "majorAxis[iTrk][1][0] =  -0.00036802414\n",
      "majorAxis[iTrk][2][0] =  0.08147708\n",
      "minorAxis_1[iTrk][0][0] =  -17.304853\n",
      "minorAxis_1[iTrk][1][0] =  3.5629773\n",
      "minorAxis_1[iTrk][2][0] =  5.80501e-09\n",
      "minorAxis_2[iTrk][0][0] =  3.5629392\n",
      "minorAxis_2[iTrk][1][0] =  17.304668\n",
      "minorAxis_2[iTrk][2][0] =  0.081477076\n",
      "  \n",
      "majorAxis[iTrk][0][0] =  0.00013397264\n",
      "majorAxis[iTrk][1][0] =  0.00094400026\n",
      "majorAxis[iTrk][2][0] =  0.12978876\n",
      "minorAxis_1[iTrk][0][0] =  17.492561\n",
      "minorAxis_1[iTrk][1][0] =  -2.4825466\n",
      "minorAxis_1[iTrk][2][0] =  1.1329301e-08\n",
      "minorAxis_2[iTrk][0][0] =  -2.4824798\n",
      "minorAxis_2[iTrk][1][0] =  -17.492088\n",
      "minorAxis_2[iTrk][2][0] =  0.12978874\n",
      "  \n",
      "majorAxis[iTrk][0][0] =  0.00043501743\n",
      "majorAxis[iTrk][1][0] =  -0.0016521378\n",
      "majorAxis[iTrk][2][0] =  0.17373301\n",
      "minorAxis_1[iTrk][0][0] =  -17.0855\n",
      "minorAxis_1[iTrk][1][0] =  -4.4987106\n",
      "minorAxis_1[iTrk][2][0] =  -7.7275175e-08\n",
      "minorAxis_2[iTrk][0][0] =  -4.4984937\n",
      "minorAxis_2[iTrk][1][0] =  17.084677\n",
      "minorAxis_2[iTrk][2][0] =  0.17373303\n",
      "  \n",
      "len(X) =  80000\n",
      "len(Xlist) =  1\n",
      "Loaded /share/lazy/will/data/June30_2020_80k_1.h5 in 161.1 s\n",
      "pocaMx.shape =  (80000,)\n",
      "nEvts =  80000\n",
      "len(pocaMx[0]) =  222\n",
      "len(pocaMx[1]) =  133\n",
      "len(pocaMx[2]) =  259\n",
      "len(pocaMx[3]) =  114\n",
      "len(pocaMx[4]) =  143\n",
      "majorAxis.shape =  (80000, 3)\n",
      "minorAxis_1.shape =  (80000, 3)\n",
      "minorAxis_2.shape =  (80000, 3)\n",
      "have entered six_ellipsoid_parameters\n",
      "  \n",
      " \n",
      "  nEvts =  80000\n",
      " iEvt, nTrks =  0 222\n",
      " iEvt, nTrks =  1 133\n",
      " iEvt, nTrks =  2 259\n",
      " iEvt, nTrks =  3 114\n",
      " iEvt, nTrks =  4 143\n",
      " iEvt, nTrks =  5 136\n",
      " iEvt, nTrks =  6 397\n",
      " iEvt, nTrks =  7 370\n",
      " iEvt, nTrks =  8 97\n",
      " iEvt, nTrks =  9 67\n",
      "A.shape =  (80000,)\n",
      "majorAxis[iTrk][0][0] =  -0.001036478\n",
      "majorAxis[iTrk][1][0] =  0.0009833863\n",
      "majorAxis[iTrk][2][0] =  0.15887721\n",
      "minorAxis_1[iTrk][0][0] =  -12.160475\n",
      "minorAxis_1[iTrk][1][0] =  -12.817002\n",
      "minorAxis_1[iTrk][2][0] =  0.0\n",
      "minorAxis_2[iTrk][0][0] =  -12.816484\n",
      "minorAxis_2[iTrk][1][0] =  12.159985\n",
      "minorAxis_2[iTrk][2][0] =  -0.15887721\n",
      "  \n",
      "majorAxis[iTrk][0][0] =  0.0016579849\n",
      "majorAxis[iTrk][1][0] =  0.0020989499\n",
      "majorAxis[iTrk][2][0] =  0.21738033\n",
      "minorAxis_1[iTrk][0][0] =  -13.864233\n",
      "minorAxis_1[iTrk][1][0] =  10.95152\n",
      "minorAxis_1[iTrk][2][0] =  -3.3017489e-09\n",
      "minorAxis_2[iTrk][0][0] =  10.95069\n",
      "minorAxis_2[iTrk][1][0] =  13.863184\n",
      "minorAxis_2[iTrk][2][0] =  -0.21738033\n",
      "  \n",
      "majorAxis[iTrk][0][0] =  0.00012481198\n",
      "majorAxis[iTrk][1][0] =  -0.00028747538\n",
      "majorAxis[iTrk][2][0] =  0.07441149\n",
      "minorAxis_1[iTrk][0][0] =  -16.206305\n",
      "minorAxis_1[iTrk][1][0] =  -7.036224\n",
      "minorAxis_1[iTrk][2][0] =  5.3456716e-08\n",
      "minorAxis_2[iTrk][0][0] =  -7.0361605\n",
      "minorAxis_2[iTrk][1][0] =  16.20616\n",
      "minorAxis_2[iTrk][2][0] =  0.07441148\n",
      "  \n",
      "majorAxis[iTrk][0][0] =  -0.007920195\n",
      "majorAxis[iTrk][1][0] =  -0.009694931\n",
      "majorAxis[iTrk][2][0] =  0.47021532\n",
      "minorAxis_1[iTrk][0][0] =  -13.682467\n",
      "minorAxis_1[iTrk][1][0] =  11.177781\n",
      "minorAxis_1[iTrk][2][0] =  1.8638048e-10\n",
      "minorAxis_2[iTrk][0][0] =  11.173822\n",
      "minorAxis_2[iTrk][1][0] =  13.677622\n",
      "minorAxis_2[iTrk][2][0] =  0.47021535\n",
      "  \n",
      "majorAxis[iTrk][0][0] =  0.00038854493\n",
      "majorAxis[iTrk][1][0] =  0.0009230774\n",
      "majorAxis[iTrk][2][0] =  0.13301943\n",
      "minorAxis_1[iTrk][0][0] =  -16.284061\n",
      "minorAxis_1[iTrk][1][0] =  6.854344\n",
      "minorAxis_1[iTrk][2][0] =  2.2469074e-07\n",
      "minorAxis_2[iTrk][0][0] =  6.8541493\n",
      "minorAxis_2[iTrk][1][0] =  16.283602\n",
      "minorAxis_2[iTrk][2][0] =  -0.13301945\n",
      "  \n",
      "majorAxis[iTrk][0][0] =  -5.6093595e-05\n",
      "majorAxis[iTrk][1][0] =  0.000114469876\n",
      "majorAxis[iTrk][2][0] =  0.04745733\n",
      "minorAxis_1[iTrk][0][0] =  15.865369\n",
      "minorAxis_1[iTrk][1][0] =  7.774496\n",
      "minorAxis_1[iTrk][2][0] =  1.8465234e-06\n",
      "minorAxis_2[iTrk][0][0] =  7.774468\n",
      "minorAxis_2[iTrk][1][0] =  -15.865313\n",
      "minorAxis_2[iTrk][2][0] =  0.04745733\n",
      "  \n",
      "majorAxis[iTrk][0][0] =  9.375396e-05\n",
      "majorAxis[iTrk][1][0] =  0.0002926058\n",
      "majorAxis[iTrk][2][0] =  0.07367872\n",
      "minorAxis_1[iTrk][0][0] =  -16.825275\n",
      "minorAxis_1[iTrk][1][0] =  5.390994\n",
      "minorAxis_1[iTrk][2][0] =  -2.1861728e-08\n",
      "minorAxis_2[iTrk][0][0] =  5.3909473\n",
      "minorAxis_2[iTrk][1][0] =  16.825129\n",
      "minorAxis_2[iTrk][2][0] =  -0.07367872\n",
      "  \n",
      "majorAxis[iTrk][0][0] =  -1.1543522e-06\n",
      "majorAxis[iTrk][1][0] =  2.8112001e-05\n",
      "majorAxis[iTrk][2][0] =  0.022295665\n",
      "minorAxis_1[iTrk][0][0] =  -17.652967\n",
      "minorAxis_1[iTrk][1][0] =  -0.7248769\n",
      "minorAxis_1[iTrk][2][0] =  1.7815448e-07\n",
      "minorAxis_2[iTrk][0][0] =  -0.7248763\n",
      "minorAxis_2[iTrk][1][0] =  17.652954\n",
      "minorAxis_2[iTrk][2][0] =  -0.022295661\n",
      "  \n",
      "majorAxis[iTrk][0][0] =  -0.2612214\n",
      "majorAxis[iTrk][1][0] =  0.83076316\n",
      "majorAxis[iTrk][2][0] =  3.8745012\n",
      "minorAxis_1[iTrk][0][0] =  -16.85429\n",
      "minorAxis_1[iTrk][1][0] =  -5.299587\n",
      "minorAxis_1[iTrk][2][0] =  2.0865195e-11\n",
      "minorAxis_2[iTrk][0][0] =  -5.1705856\n",
      "minorAxis_2[iTrk][1][0] =  16.444027\n",
      "minorAxis_2[iTrk][2][0] =  -3.874501\n",
      "  \n",
      "majorAxis[iTrk][0][0] =  -0.057592034\n",
      "majorAxis[iTrk][1][0] =  0.06503555\n",
      "majorAxis[iTrk][2][0] =  1.2373537\n",
      "minorAxis_1[iTrk][0][0] =  13.227038\n",
      "minorAxis_1[iTrk][1][0] =  11.713163\n",
      "minorAxis_1[iTrk][2][0] =  1.7679876e-10\n",
      "minorAxis_2[iTrk][0][0] =  11.684402\n",
      "minorAxis_2[iTrk][1][0] =  -13.194561\n",
      "minorAxis_2[iTrk][2][0] =  1.2373537\n",
      "  \n",
      "len(X) =  80000\n",
      "len(Xlist) =  2\n",
      "Loaded /share/lazy/will/data/June30_2020_80k_2.h5 in 163.1 s\n",
      "pocaMx.shape =  (80000,)\n"
     ]
    },
    {
     "name": "stdout",
     "output_type": "stream",
     "text": [
      "nEvts =  80000\n",
      "len(pocaMx[0]) =  196\n",
      "len(pocaMx[1]) =  35\n",
      "len(pocaMx[2]) =  265\n",
      "len(pocaMx[3]) =  128\n",
      "len(pocaMx[4]) =  124\n",
      "majorAxis.shape =  (80000, 3)\n",
      "minorAxis_1.shape =  (80000, 3)\n",
      "minorAxis_2.shape =  (80000, 3)\n",
      "have entered six_ellipsoid_parameters\n",
      "  \n",
      " \n",
      "  nEvts =  80000\n",
      " iEvt, nTrks =  0 196\n",
      " iEvt, nTrks =  1 35\n",
      " iEvt, nTrks =  2 265\n",
      " iEvt, nTrks =  3 128\n",
      " iEvt, nTrks =  4 124\n",
      " iEvt, nTrks =  5 122\n",
      " iEvt, nTrks =  6 300\n",
      " iEvt, nTrks =  7 179\n",
      " iEvt, nTrks =  8 243\n",
      " iEvt, nTrks =  9 112\n",
      "A.shape =  (80000,)\n",
      "majorAxis[iTrk][0][0] =  -2.440992e-05\n",
      "majorAxis[iTrk][1][0] =  -0.00038087237\n",
      "majorAxis[iTrk][2][0] =  0.08211532\n",
      "minorAxis_1[iTrk][0][0] =  -17.631672\n",
      "minorAxis_1[iTrk][1][0] =  1.130005\n",
      "minorAxis_1[iTrk][2][0] =  4.7444193e-08\n",
      "minorAxis_2[iTrk][0][0] =  1.1299927\n",
      "minorAxis_2[iTrk][1][0] =  17.631481\n",
      "minorAxis_2[iTrk][2][0] =  0.08211532\n",
      "  \n",
      "majorAxis[iTrk][0][0] =  -0.02277395\n",
      "majorAxis[iTrk][1][0] =  0.0014473597\n",
      "majorAxis[iTrk][2][0] =  0.6347583\n",
      "minorAxis_1[iTrk][0][0] =  -1.1205891\n",
      "minorAxis_1[iTrk][1][0] =  -17.632273\n",
      "minorAxis_1[iTrk][2][0] =  2.1543272e-09\n",
      "minorAxis_2[iTrk][0][0] =  -17.620888\n",
      "minorAxis_2[iTrk][1][0] =  1.1198657\n",
      "minorAxis_2[iTrk][2][0] =  -0.63475823\n",
      "  \n",
      "majorAxis[iTrk][0][0] =  0.0004024825\n",
      "majorAxis[iTrk][1][0] =  -0.00023784715\n",
      "majorAxis[iTrk][2][0] =  0.090883136\n",
      "minorAxis_1[iTrk][0][0] =  -8.988615\n",
      "minorAxis_1[iTrk][1][0] =  -15.210441\n",
      "minorAxis_1[iTrk][2][0] =  -6.56547e-08\n",
      "minorAxis_2[iTrk][0][0] =  -15.21024\n",
      "minorAxis_2[iTrk][1][0] =  8.988497\n",
      "minorAxis_2[iTrk][2][0] =  0.090883136\n",
      "  \n",
      "majorAxis[iTrk][0][0] =  0.0068744724\n",
      "majorAxis[iTrk][1][0] =  0.0017050834\n",
      "majorAxis[iTrk][2][0] =  0.3537121\n",
      "minorAxis_1[iTrk][0][0] =  4.2532983\n",
      "minorAxis_1[iTrk][1][0] =  -17.148241\n",
      "minorAxis_1[iTrk][2][0] =  1.1939819e-09\n",
      "minorAxis_2[iTrk][0][0] =  -17.144806\n",
      "minorAxis_2[iTrk][1][0] =  -4.252446\n",
      "minorAxis_2[iTrk][2][0] =  0.3537121\n",
      "  \n",
      "majorAxis[iTrk][0][0] =  -0.004920899\n",
      "majorAxis[iTrk][1][0] =  0.0009170567\n",
      "majorAxis[iTrk][2][0] =  0.2973651\n",
      "minorAxis_1[iTrk][0][0] =  -3.236844\n",
      "minorAxis_1[iTrk][1][0] =  -17.36881\n",
      "minorAxis_1[iTrk][2][0] =  -4.7397712e-09\n",
      "minorAxis_2[iTrk][0][0] =  -17.36635\n",
      "minorAxis_2[iTrk][1][0] =  3.2363856\n",
      "minorAxis_2[iTrk][2][0] =  -0.29736507\n",
      "  \n",
      "majorAxis[iTrk][0][0] =  -0.0001240533\n",
      "majorAxis[iTrk][1][0] =  0.00033394952\n",
      "majorAxis[iTrk][2][0] =  0.079335004\n",
      "minorAxis_1[iTrk][0][0] =  -16.562042\n",
      "minorAxis_1[iTrk][1][0] =  -6.1523557\n",
      "minorAxis_1[iTrk][2][0] =  3.1261713e-08\n",
      "minorAxis_2[iTrk][0][0] =  -6.1522937\n",
      "minorAxis_2[iTrk][1][0] =  16.561876\n",
      "minorAxis_2[iTrk][2][0] =  -0.079335004\n",
      "  \n",
      "majorAxis[iTrk][0][0] =  0.00010132754\n",
      "majorAxis[iTrk][1][0] =  6.684385e-05\n",
      "majorAxis[iTrk][2][0] =  0.046310693\n",
      "minorAxis_1[iTrk][0][0] =  -9.728917\n",
      "minorAxis_1[iTrk][1][0] =  14.747911\n",
      "minorAxis_1[iTrk][2][0] =  -2.3591362e-07\n",
      "minorAxis_2[iTrk][0][0] =  14.74786\n",
      "minorAxis_2[iTrk][1][0] =  9.728883\n",
      "minorAxis_2[iTrk][2][0] =  -0.04631069\n",
      "  \n",
      "majorAxis[iTrk][0][0] =  0.0042806785\n",
      "majorAxis[iTrk][1][0] =  0.004939851\n",
      "majorAxis[iTrk][2][0] =  0.3398017\n",
      "minorAxis_1[iTrk][0][0] =  13.3521\n",
      "minorAxis_1[iTrk][1][0] =  -11.5704\n",
      "minorAxis_1[iTrk][2][0] =  1.21654296e-08\n",
      "minorAxis_2[iTrk][0][0] =  -11.56826\n",
      "minorAxis_2[iTrk][1][0] =  -13.349631\n",
      "minorAxis_2[iTrk][2][0] =  0.33980173\n",
      "  \n",
      "majorAxis[iTrk][0][0] =  -0.00013103899\n",
      "majorAxis[iTrk][1][0] =  -0.0006021903\n",
      "majorAxis[iTrk][2][0] =  0.10434653\n",
      "minorAxis_1[iTrk][0][0] =  -17.26384\n",
      "minorAxis_1[iTrk][1][0] =  3.7566798\n",
      "minorAxis_1[iTrk][2][0] =  -9.616703e-08\n",
      "minorAxis_2[iTrk][0][0] =  3.7566135\n",
      "minorAxis_2[iTrk][1][0] =  17.263535\n",
      "minorAxis_2[iTrk][2][0] =  0.10434652\n",
      "  \n",
      "majorAxis[iTrk][0][0] =  0.0016481678\n",
      "majorAxis[iTrk][1][0] =  -0.0019788505\n",
      "majorAxis[iTrk][2][0] =  0.21330062\n",
      "minorAxis_1[iTrk][0][0] =  -13.575765\n",
      "minorAxis_1[iTrk][1][0] =  -11.307139\n",
      "minorAxis_1[iTrk][2][0] =  8.543098e-09\n",
      "minorAxis_2[iTrk][0][0] =  -11.306314\n",
      "minorAxis_2[iTrk][1][0] =  13.574774\n",
      "minorAxis_2[iTrk][2][0] =  0.21330062\n",
      "  \n",
      "len(X) =  80000\n",
      "len(Xlist) =  3\n",
      "Loaded /share/lazy/will/data/June30_2020_80k_3.h5 in 166.5 s\n",
      "pocaMx.shape =  (80000,)\n",
      "nEvts =  80000\n",
      "len(pocaMx[0]) =  204\n",
      "len(pocaMx[1]) =  33\n",
      "len(pocaMx[2]) =  206\n",
      "len(pocaMx[3]) =  150\n",
      "len(pocaMx[4]) =  96\n",
      "majorAxis.shape =  (80000, 3)\n",
      "minorAxis_1.shape =  (80000, 3)\n",
      "minorAxis_2.shape =  (80000, 3)\n",
      "have entered six_ellipsoid_parameters\n",
      "  \n",
      " \n",
      "  nEvts =  80000\n",
      " iEvt, nTrks =  0 204\n",
      " iEvt, nTrks =  1 33\n",
      " iEvt, nTrks =  2 206\n",
      " iEvt, nTrks =  3 150\n",
      " iEvt, nTrks =  4 96\n",
      " iEvt, nTrks =  5 10\n",
      " iEvt, nTrks =  6 174\n",
      " iEvt, nTrks =  7 320\n",
      " iEvt, nTrks =  8 164\n",
      " iEvt, nTrks =  9 119\n",
      "A.shape =  (80000,)\n",
      "majorAxis[iTrk][0][0] =  0.00057876867\n",
      "majorAxis[iTrk][1][0] =  0.00037603904\n",
      "majorAxis[iTrk][2][0] =  0.110427074\n",
      "minorAxis_1[iTrk][0][0] =  9.62588\n",
      "minorAxis_1[iTrk][1][0] =  -14.81537\n",
      "minorAxis_1[iTrk][2][0] =  8.391163e-09\n",
      "minorAxis_2[iTrk][0][0] =  -14.815081\n",
      "minorAxis_2[iTrk][1][0] =  -9.625692\n",
      "minorAxis_2[iTrk][2][0] =  0.11042709\n",
      "  \n",
      "majorAxis[iTrk][0][0] =  -7.687664e-05\n",
      "majorAxis[iTrk][1][0] =  -0.0017985329\n",
      "majorAxis[iTrk][2][0] =  0.17833562\n",
      "minorAxis_1[iTrk][0][0] =  -17.651728\n",
      "minorAxis_1[iTrk][1][0] =  0.7545069\n",
      "minorAxis_1[iTrk][2][0] =  -7.932265e-09\n",
      "minorAxis_2[iTrk][0][0] =  0.75446844\n",
      "minorAxis_2[iTrk][1][0] =  17.650827\n",
      "minorAxis_2[iTrk][2][0] =  0.17833562\n",
      "  \n",
      "majorAxis[iTrk][0][0] =  4.5855802e-05\n",
      "majorAxis[iTrk][1][0] =  -0.00054240844\n",
      "majorAxis[iTrk][2][0] =  0.098067455\n",
      "minorAxis_1[iTrk][0][0] =  17.605043\n",
      "minorAxis_1[iTrk][1][0] =  1.4883496\n",
      "minorAxis_1[iTrk][2][0] =  -2.7847218e-08\n",
      "minorAxis_2[iTrk][0][0] =  1.4883265\n",
      "minorAxis_2[iTrk][1][0] =  -17.604773\n",
      "minorAxis_2[iTrk][2][0] =  -0.098067455\n",
      "  \n",
      "majorAxis[iTrk][0][0] =  -0.0013144773\n",
      "majorAxis[iTrk][1][0] =  0.0008680699\n",
      "majorAxis[iTrk][2][0] =  0.16682307\n",
      "minorAxis_1[iTrk][0][0] =  -9.736217\n",
      "minorAxis_1[iTrk][1][0] =  -14.743094\n",
      "minorAxis_1[iTrk][2][0] =  -1.7552136e-08\n",
      "minorAxis_2[iTrk][0][0] =  -14.742435\n",
      "minorAxis_2[iTrk][1][0] =  9.735782\n",
      "minorAxis_2[iTrk][2][0] =  -0.16682304\n",
      "  \n",
      "majorAxis[iTrk][0][0] =  0.032227762\n",
      "majorAxis[iTrk][1][0] =  0.007741693\n",
      "majorAxis[iTrk][2][0] =  0.76488173\n",
      "minorAxis_1[iTrk][0][0] =  -4.1267405\n",
      "minorAxis_1[iTrk][1][0] =  17.179138\n",
      "minorAxis_1[iTrk][2][0] =  -2.3529467e-10\n",
      "minorAxis_2[iTrk][0][0] =  17.16303\n",
      "minorAxis_2[iTrk][1][0] =  4.122871\n",
      "minorAxis_2[iTrk][2][0] =  -0.7648817\n",
      "  \n",
      "majorAxis[iTrk][0][0] =  1.9753945\n",
      "majorAxis[iTrk][1][0] =  2.5669005\n",
      "majorAxis[iTrk][2][0] =  7.226382\n",
      "minorAxis_1[iTrk][0][0] =  14.0017\n",
      "minorAxis_1[iTrk][1][0] =  -10.7752075\n",
      "minorAxis_1[iTrk][2][0] =  5.3286344e-11\n",
      "minorAxis_2[iTrk][0][0] =  -9.832683\n",
      "minorAxis_2[iTrk][1][0] =  -12.776951\n",
      "minorAxis_2[iTrk][2][0] =  7.226381\n",
      "  \n",
      "majorAxis[iTrk][0][0] =  -0.0026900356\n",
      "majorAxis[iTrk][1][0] =  -0.0015841618\n",
      "majorAxis[iTrk][2][0] =  0.234843\n",
      "minorAxis_1[iTrk][0][0] =  -8.965469\n",
      "minorAxis_1[iTrk][1][0] =  15.224096\n",
      "minorAxis_1[iTrk][2][0] =  2.8236277e-08\n",
      "minorAxis_2[iTrk][0][0] =  15.222751\n",
      "minorAxis_2[iTrk][1][0] =  8.964677\n",
      "minorAxis_2[iTrk][2][0] =  0.234843\n",
      "  \n",
      "majorAxis[iTrk][0][0] =  -0.0001692281\n",
      "majorAxis[iTrk][1][0] =  0.0003505444\n",
      "majorAxis[iTrk][2][0] =  0.08292902\n",
      "minorAxis_1[iTrk][0][0] =  -15.910811\n",
      "minorAxis_1[iTrk][1][0] =  -7.68107\n",
      "minorAxis_1[iTrk][2][0] =  1.587002e-08\n",
      "minorAxis_2[iTrk][0][0] =  -7.680986\n",
      "minorAxis_2[iTrk][1][0] =  15.910635\n",
      "minorAxis_2[iTrk][2][0] =  -0.08292903\n",
      "  \n",
      "majorAxis[iTrk][0][0] =  0.0017714669\n",
      "majorAxis[iTrk][1][0] =  -0.001515166\n",
      "majorAxis[iTrk][2][0] =  0.20293355\n",
      "minorAxis_1[iTrk][0][0] =  11.483943\n",
      "minorAxis_1[iTrk][1][0] =  13.426532\n",
      "minorAxis_1[iTrk][2][0] =  -2.7840934e-09\n",
      "minorAxis_2[iTrk][0][0] =  13.425648\n",
      "minorAxis_2[iTrk][1][0] =  -11.483187\n",
      "minorAxis_2[iTrk][2][0] =  -0.20293356\n",
      "  \n",
      "majorAxis[iTrk][0][0] =  0.0006359923\n",
      "majorAxis[iTrk][1][0] =  -0.0003371759\n",
      "majorAxis[iTrk][2][0] =  0.112773284\n",
      "minorAxis_1[iTrk][0][0] =  8.275655\n",
      "minorAxis_1[iTrk][1][0] =  15.609813\n",
      "minorAxis_1[iTrk][2][0] =  -5.6373224e-08\n",
      "minorAxis_2[iTrk][0][0] =  15.609494\n",
      "minorAxis_2[iTrk][1][0] =  -8.275486\n",
      "minorAxis_2[iTrk][2][0] =  -0.11277328\n",
      "  \n",
      "len(X) =  80000\n",
      "len(Xlist) =  4\n",
      "Loaded /share/lazy/will/data/June30_2020_80k_4.h5 in 167.1 s\n",
      "outer loop X.shape =  (320000, 9, 600)\n",
      "Constructing 320000 event dataset took 2.452 s\n",
      "x_t.shape =  torch.Size([320000, 9, 600])\n",
      "x_t.shape[0] =  320000\n",
      "x_t.shape[1] =  9\n",
      "x_t.shape =  torch.Size([320000, 9, 600])\n"
     ]
    }
   ],
   "source": [
    "## Training dataset. You can put as many files here as desired.\n",
    "\n",
    "##train_loader = collect_t2kde_data('/share/lazy/pv-finder/20k_evts_for_KDE_learning_200716.h5',\n",
    "train_loader = collect_t2kde_data('/share/lazy/will/data/June30_2020_80k_1.h5', \n",
    "                                  '/share/lazy/will/data/June30_2020_80k_2.h5',\n",
    "                                  '/share/lazy/will/data/June30_2020_80k_3.h5',\n",
    "                                  '/share/lazy/will/data/June30_2020_80k_4.h5',\n",
    "                                  #'/share/lazy/will/data/June30_2020_80k_5.h5',\n",
    "                                  #'/share/lazy/will/data/June30_2020_80k_6.h5',\n",
    "                                  #'/share/lazy/will/data/June30_2020_80k_7.h5',\n",
    "                             batch_size=batch_size,\n",
    "## if we are using a larger dataset (240K events, with the datasets above, and 11 GB  of GPU memory),\n",
    "## the dataset will overflow the GPU memory; device=device will allow the data to move back\n",
    "## and forth between the CPU and GPU memory. While this allows use of a larger dataset, it slows\n",
    "## down performance by about 10%.  So comment out when not needed.\n",
    "#                          device=device,\n",
    "##                           slice = slice(None,18000)\n",
    "                           )"
   ]
  },
  {
   "cell_type": "code",
   "execution_count": 16,
   "metadata": {
    "scrolled": false
   },
   "outputs": [
    {
     "name": "stdout",
     "output_type": "stream",
     "text": [
      "Loading data...\n",
      "pocaMx.shape =  (20000,)\n",
      "nEvts =  20000\n",
      "len(pocaMx[0]) =  211\n",
      "len(pocaMx[1]) =  21\n",
      "len(pocaMx[2]) =  20\n",
      "len(pocaMx[3]) =  198\n",
      "len(pocaMx[4]) =  233\n",
      "majorAxis.shape =  (20000, 3)\n",
      "minorAxis_1.shape =  (20000, 3)\n",
      "minorAxis_2.shape =  (20000, 3)\n",
      "have entered six_ellipsoid_parameters\n",
      "  \n",
      " \n",
      "  nEvts =  20000\n",
      " iEvt, nTrks =  0 211\n",
      " iEvt, nTrks =  1 21\n",
      " iEvt, nTrks =  2 20\n",
      " iEvt, nTrks =  3 198\n",
      " iEvt, nTrks =  4 233\n",
      " iEvt, nTrks =  5 85\n",
      " iEvt, nTrks =  6 223\n",
      " iEvt, nTrks =  7 425\n",
      " iEvt, nTrks =  8 252\n",
      " iEvt, nTrks =  9 169\n",
      "A.shape =  (20000,)\n",
      "majorAxis[iTrk][0][0] =  -0.00023452607\n",
      "majorAxis[iTrk][1][0] =  -0.00047206535\n",
      "majorAxis[iTrk][2][0] =  0.096502915\n",
      "minorAxis_1[iTrk][0][0] =  -15.822749\n",
      "minorAxis_1[iTrk][1][0] =  7.8608756\n",
      "minorAxis_1[iTrk][2][0] =  -2.6228399e-08\n",
      "minorAxis_2[iTrk][0][0] =  7.860759\n",
      "minorAxis_2[iTrk][1][0] =  15.822513\n",
      "minorAxis_2[iTrk][2][0] =  0.096502915\n",
      "  \n",
      "majorAxis[iTrk][0][0] =  -0.37655562\n",
      "majorAxis[iTrk][1][0] =  0.2768704\n",
      "majorAxis[iTrk][2][0] =  2.8546858\n",
      "minorAxis_1[iTrk][0][0] =  -10.466048\n",
      "minorAxis_1[iTrk][1][0] =  -14.234274\n",
      "minorAxis_1[iTrk][2][0] =  2.2974699e-11\n",
      "minorAxis_2[iTrk][0][0] =  -14.04724\n",
      "minorAxis_2[iTrk][1][0] =  10.328527\n",
      "minorAxis_2[iTrk][2][0] =  -2.8546853\n",
      "  \n",
      "majorAxis[iTrk][0][0] =  -0.024279848\n",
      "majorAxis[iTrk][1][0] =  0.0019689242\n",
      "majorAxis[iTrk][2][0] =  0.65580803\n",
      "minorAxis_1[iTrk][0][0] =  -1.4280497\n",
      "minorAxis_1[iTrk][1][0] =  -17.610037\n",
      "minorAxis_1[iTrk][2][0] =  -6.123401e-10\n",
      "minorAxis_2[iTrk][0][0] =  -17.597902\n",
      "minorAxis_2[iTrk][1][0] =  1.4270656\n",
      "minorAxis_2[iTrk][2][0] =  -0.6558081\n",
      "  \n",
      "majorAxis[iTrk][0][0] =  -0.007825993\n",
      "majorAxis[iTrk][1][0] =  0.004052097\n",
      "majorAxis[iTrk][2][0] =  0.3945435\n",
      "minorAxis_1[iTrk][0][0] =  8.123606\n",
      "minorAxis_1[iTrk][1][0] =  15.689478\n",
      "minorAxis_1[iTrk][2][0] =  -2.4940747e-10\n",
      "minorAxis_2[iTrk][0][0] =  15.685566\n",
      "minorAxis_2[iTrk][1][0] =  -8.12158\n",
      "minorAxis_2[iTrk][2][0] =  0.3945435\n",
      "  \n",
      "majorAxis[iTrk][0][0] =  0.0046102717\n",
      "majorAxis[iTrk][1][0] =  -0.0016007021\n",
      "majorAxis[iTrk][2][0] =  0.29361814\n",
      "minorAxis_1[iTrk][0][0] =  -5.794979\n",
      "minorAxis_1[iTrk][1][0] =  -16.690445\n",
      "minorAxis_1[iTrk][2][0] =  2.4897104e-09\n",
      "minorAxis_2[iTrk][0][0] =  -16.688139\n",
      "minorAxis_2[iTrk][1][0] =  5.794179\n",
      "minorAxis_2[iTrk][2][0] =  0.2936181\n",
      "  \n",
      "majorAxis[iTrk][0][0] =  -0.00020041714\n",
      "majorAxis[iTrk][1][0] =  0.00010468164\n",
      "majorAxis[iTrk][2][0] =  0.06320469\n",
      "minorAxis_1[iTrk][0][0] =  8.179679\n",
      "minorAxis_1[iTrk][1][0] =  15.660318\n",
      "minorAxis_1[iTrk][2][0] =  7.40176e-08\n",
      "minorAxis_2[iTrk][0][0] =  15.660218\n",
      "minorAxis_2[iTrk][1][0] =  -8.179626\n",
      "minorAxis_2[iTrk][2][0] =  0.06320469\n",
      "  \n",
      "majorAxis[iTrk][0][0] =  -0.00020603223\n",
      "majorAxis[iTrk][1][0] =  -0.0005662605\n",
      "majorAxis[iTrk][2][0] =  0.10317981\n",
      "minorAxis_1[iTrk][0][0] =  -16.603\n",
      "minorAxis_1[iTrk][1][0] =  6.040953\n",
      "minorAxis_1[iTrk][2][0] =  4.5812504e-07\n",
      "minorAxis_2[iTrk][0][0] =  6.0408506\n",
      "minorAxis_2[iTrk][1][0] =  16.602718\n",
      "minorAxis_2[iTrk][2][0] =  0.10317982\n",
      "  \n",
      "majorAxis[iTrk][0][0] =  -0.00040561036\n",
      "majorAxis[iTrk][1][0] =  0.00014461782\n",
      "majorAxis[iTrk][2][0] =  0.0872241\n",
      "minorAxis_1[iTrk][0][0] =  -5.933496\n",
      "minorAxis_1[iTrk][1][0] =  -16.641706\n",
      "minorAxis_1[iTrk][2][0] =  1.0720762e-08\n",
      "minorAxis_2[iTrk][0][0] =  -16.641502\n",
      "minorAxis_2[iTrk][1][0] =  5.9334235\n",
      "minorAxis_2[iTrk][2][0] =  -0.0872241\n",
      "  \n",
      "majorAxis[iTrk][0][0] =  0.00038461428\n",
      "majorAxis[iTrk][1][0] =  -3.4232737e-05\n",
      "majorAxis[iTrk][2][0] =  0.08259597\n",
      "minorAxis_1[iTrk][0][0] =  -1.5663412\n",
      "minorAxis_1[iTrk][1][0] =  -17.598276\n",
      "minorAxis_1[iTrk][2][0] =  3.2106848e-07\n",
      "minorAxis_2[iTrk][0][0] =  -17.598082\n",
      "minorAxis_2[iTrk][1][0] =  1.5663238\n",
      "minorAxis_2[iTrk][2][0] =  0.08259596\n",
      "  \n",
      "majorAxis[iTrk][0][0] =  -0.022277953\n",
      "majorAxis[iTrk][1][0] =  -0.0046837274\n",
      "majorAxis[iTrk][2][0] =  0.63399464\n",
      "minorAxis_1[iTrk][0][0] =  -3.6350286\n",
      "minorAxis_1[iTrk][1][0] =  17.289862\n",
      "minorAxis_1[iTrk][2][0] =  9.566169e-10\n",
      "minorAxis_2[iTrk][0][0] =  17.278727\n",
      "minorAxis_2[iTrk][1][0] =  3.6326876\n",
      "minorAxis_2[iTrk][2][0] =  0.6339946\n",
      "  \n",
      "len(X) =  20000\n",
      "len(Xlist) =  1\n",
      "Loaded dataAA/20K_POCA_kernel_evts_200926.h5 in 39.31 s\n",
      "outer loop X.shape =  (20000, 9, 600)\n",
      "Constructing 10000 event dataset took 0.04671 s\n",
      "x_t.shape =  torch.Size([10000, 9, 600])\n",
      "x_t.shape[0] =  10000\n",
      "x_t.shape[1] =  9\n",
      "x_t.shape =  torch.Size([10000, 9, 600])\n"
     ]
    }
   ],
   "source": [
    "                            \n",
    "# Validation dataset. You can slice to reduce the size.\n",
    "## mds no separate validation set yet,\n",
    "\n",
    "## For iter12, change slice(18000,None) to slice(10000,None)\n",
    "## First, we'll see if this changes the validation cost significantly\n",
    "##  Second, we will see if this reduces the validation cost fluctuations\n",
    "val_loader = collect_t2kde_data('dataAA/20K_POCA_kernel_evts_200926.h5',\n",
    "                            batch_size=batch_size,\n",
    "##                            device=device,\n",
    "                            slice = slice(10000,None)\n",
    "                           )"
   ]
  },
  {
   "cell_type": "code",
   "execution_count": 17,
   "metadata": {
    "scrolled": false
   },
   "outputs": [
    {
     "data": {
      "application/javascript": [
       "/* Put everything inside the global mpl namespace */\n",
       "window.mpl = {};\n",
       "\n",
       "\n",
       "mpl.get_websocket_type = function() {\n",
       "    if (typeof(WebSocket) !== 'undefined') {\n",
       "        return WebSocket;\n",
       "    } else if (typeof(MozWebSocket) !== 'undefined') {\n",
       "        return MozWebSocket;\n",
       "    } else {\n",
       "        alert('Your browser does not have WebSocket support. ' +\n",
       "              'Please try Chrome, Safari or Firefox ≥ 6. ' +\n",
       "              'Firefox 4 and 5 are also supported but you ' +\n",
       "              'have to enable WebSockets in about:config.');\n",
       "    };\n",
       "}\n",
       "\n",
       "mpl.figure = function(figure_id, websocket, ondownload, parent_element) {\n",
       "    this.id = figure_id;\n",
       "\n",
       "    this.ws = websocket;\n",
       "\n",
       "    this.supports_binary = (this.ws.binaryType != undefined);\n",
       "\n",
       "    if (!this.supports_binary) {\n",
       "        var warnings = document.getElementById(\"mpl-warnings\");\n",
       "        if (warnings) {\n",
       "            warnings.style.display = 'block';\n",
       "            warnings.textContent = (\n",
       "                \"This browser does not support binary websocket messages. \" +\n",
       "                    \"Performance may be slow.\");\n",
       "        }\n",
       "    }\n",
       "\n",
       "    this.imageObj = new Image();\n",
       "\n",
       "    this.context = undefined;\n",
       "    this.message = undefined;\n",
       "    this.canvas = undefined;\n",
       "    this.rubberband_canvas = undefined;\n",
       "    this.rubberband_context = undefined;\n",
       "    this.format_dropdown = undefined;\n",
       "\n",
       "    this.image_mode = 'full';\n",
       "\n",
       "    this.root = $('<div/>');\n",
       "    this._root_extra_style(this.root)\n",
       "    this.root.attr('style', 'display: inline-block');\n",
       "\n",
       "    $(parent_element).append(this.root);\n",
       "\n",
       "    this._init_header(this);\n",
       "    this._init_canvas(this);\n",
       "    this._init_toolbar(this);\n",
       "\n",
       "    var fig = this;\n",
       "\n",
       "    this.waiting = false;\n",
       "\n",
       "    this.ws.onopen =  function () {\n",
       "            fig.send_message(\"supports_binary\", {value: fig.supports_binary});\n",
       "            fig.send_message(\"send_image_mode\", {});\n",
       "            if (mpl.ratio != 1) {\n",
       "                fig.send_message(\"set_dpi_ratio\", {'dpi_ratio': mpl.ratio});\n",
       "            }\n",
       "            fig.send_message(\"refresh\", {});\n",
       "        }\n",
       "\n",
       "    this.imageObj.onload = function() {\n",
       "            if (fig.image_mode == 'full') {\n",
       "                // Full images could contain transparency (where diff images\n",
       "                // almost always do), so we need to clear the canvas so that\n",
       "                // there is no ghosting.\n",
       "                fig.context.clearRect(0, 0, fig.canvas.width, fig.canvas.height);\n",
       "            }\n",
       "            fig.context.drawImage(fig.imageObj, 0, 0);\n",
       "        };\n",
       "\n",
       "    this.imageObj.onunload = function() {\n",
       "        fig.ws.close();\n",
       "    }\n",
       "\n",
       "    this.ws.onmessage = this._make_on_message_function(this);\n",
       "\n",
       "    this.ondownload = ondownload;\n",
       "}\n",
       "\n",
       "mpl.figure.prototype._init_header = function() {\n",
       "    var titlebar = $(\n",
       "        '<div class=\"ui-dialog-titlebar ui-widget-header ui-corner-all ' +\n",
       "        'ui-helper-clearfix\"/>');\n",
       "    var titletext = $(\n",
       "        '<div class=\"ui-dialog-title\" style=\"width: 100%; ' +\n",
       "        'text-align: center; padding: 3px;\"/>');\n",
       "    titlebar.append(titletext)\n",
       "    this.root.append(titlebar);\n",
       "    this.header = titletext[0];\n",
       "}\n",
       "\n",
       "\n",
       "\n",
       "mpl.figure.prototype._canvas_extra_style = function(canvas_div) {\n",
       "\n",
       "}\n",
       "\n",
       "\n",
       "mpl.figure.prototype._root_extra_style = function(canvas_div) {\n",
       "\n",
       "}\n",
       "\n",
       "mpl.figure.prototype._init_canvas = function() {\n",
       "    var fig = this;\n",
       "\n",
       "    var canvas_div = $('<div/>');\n",
       "\n",
       "    canvas_div.attr('style', 'position: relative; clear: both; outline: 0');\n",
       "\n",
       "    function canvas_keyboard_event(event) {\n",
       "        return fig.key_event(event, event['data']);\n",
       "    }\n",
       "\n",
       "    canvas_div.keydown('key_press', canvas_keyboard_event);\n",
       "    canvas_div.keyup('key_release', canvas_keyboard_event);\n",
       "    this.canvas_div = canvas_div\n",
       "    this._canvas_extra_style(canvas_div)\n",
       "    this.root.append(canvas_div);\n",
       "\n",
       "    var canvas = $('<canvas/>');\n",
       "    canvas.addClass('mpl-canvas');\n",
       "    canvas.attr('style', \"left: 0; top: 0; z-index: 0; outline: 0\")\n",
       "\n",
       "    this.canvas = canvas[0];\n",
       "    this.context = canvas[0].getContext(\"2d\");\n",
       "\n",
       "    var backingStore = this.context.backingStorePixelRatio ||\n",
       "\tthis.context.webkitBackingStorePixelRatio ||\n",
       "\tthis.context.mozBackingStorePixelRatio ||\n",
       "\tthis.context.msBackingStorePixelRatio ||\n",
       "\tthis.context.oBackingStorePixelRatio ||\n",
       "\tthis.context.backingStorePixelRatio || 1;\n",
       "\n",
       "    mpl.ratio = (window.devicePixelRatio || 1) / backingStore;\n",
       "\n",
       "    var rubberband = $('<canvas/>');\n",
       "    rubberband.attr('style', \"position: absolute; left: 0; top: 0; z-index: 1;\")\n",
       "\n",
       "    var pass_mouse_events = true;\n",
       "\n",
       "    canvas_div.resizable({\n",
       "        start: function(event, ui) {\n",
       "            pass_mouse_events = false;\n",
       "        },\n",
       "        resize: function(event, ui) {\n",
       "            fig.request_resize(ui.size.width, ui.size.height);\n",
       "        },\n",
       "        stop: function(event, ui) {\n",
       "            pass_mouse_events = true;\n",
       "            fig.request_resize(ui.size.width, ui.size.height);\n",
       "        },\n",
       "    });\n",
       "\n",
       "    function mouse_event_fn(event) {\n",
       "        if (pass_mouse_events)\n",
       "            return fig.mouse_event(event, event['data']);\n",
       "    }\n",
       "\n",
       "    rubberband.mousedown('button_press', mouse_event_fn);\n",
       "    rubberband.mouseup('button_release', mouse_event_fn);\n",
       "    // Throttle sequential mouse events to 1 every 20ms.\n",
       "    rubberband.mousemove('motion_notify', mouse_event_fn);\n",
       "\n",
       "    rubberband.mouseenter('figure_enter', mouse_event_fn);\n",
       "    rubberband.mouseleave('figure_leave', mouse_event_fn);\n",
       "\n",
       "    canvas_div.on(\"wheel\", function (event) {\n",
       "        event = event.originalEvent;\n",
       "        event['data'] = 'scroll'\n",
       "        if (event.deltaY < 0) {\n",
       "            event.step = 1;\n",
       "        } else {\n",
       "            event.step = -1;\n",
       "        }\n",
       "        mouse_event_fn(event);\n",
       "    });\n",
       "\n",
       "    canvas_div.append(canvas);\n",
       "    canvas_div.append(rubberband);\n",
       "\n",
       "    this.rubberband = rubberband;\n",
       "    this.rubberband_canvas = rubberband[0];\n",
       "    this.rubberband_context = rubberband[0].getContext(\"2d\");\n",
       "    this.rubberband_context.strokeStyle = \"#000000\";\n",
       "\n",
       "    this._resize_canvas = function(width, height) {\n",
       "        // Keep the size of the canvas, canvas container, and rubber band\n",
       "        // canvas in synch.\n",
       "        canvas_div.css('width', width)\n",
       "        canvas_div.css('height', height)\n",
       "\n",
       "        canvas.attr('width', width * mpl.ratio);\n",
       "        canvas.attr('height', height * mpl.ratio);\n",
       "        canvas.attr('style', 'width: ' + width + 'px; height: ' + height + 'px;');\n",
       "\n",
       "        rubberband.attr('width', width);\n",
       "        rubberband.attr('height', height);\n",
       "    }\n",
       "\n",
       "    // Set the figure to an initial 600x600px, this will subsequently be updated\n",
       "    // upon first draw.\n",
       "    this._resize_canvas(600, 600);\n",
       "\n",
       "    // Disable right mouse context menu.\n",
       "    $(this.rubberband_canvas).bind(\"contextmenu\",function(e){\n",
       "        return false;\n",
       "    });\n",
       "\n",
       "    function set_focus () {\n",
       "        canvas.focus();\n",
       "        canvas_div.focus();\n",
       "    }\n",
       "\n",
       "    window.setTimeout(set_focus, 100);\n",
       "}\n",
       "\n",
       "mpl.figure.prototype._init_toolbar = function() {\n",
       "    var fig = this;\n",
       "\n",
       "    var nav_element = $('<div/>');\n",
       "    nav_element.attr('style', 'width: 100%');\n",
       "    this.root.append(nav_element);\n",
       "\n",
       "    // Define a callback function for later on.\n",
       "    function toolbar_event(event) {\n",
       "        return fig.toolbar_button_onclick(event['data']);\n",
       "    }\n",
       "    function toolbar_mouse_event(event) {\n",
       "        return fig.toolbar_button_onmouseover(event['data']);\n",
       "    }\n",
       "\n",
       "    for(var toolbar_ind in mpl.toolbar_items) {\n",
       "        var name = mpl.toolbar_items[toolbar_ind][0];\n",
       "        var tooltip = mpl.toolbar_items[toolbar_ind][1];\n",
       "        var image = mpl.toolbar_items[toolbar_ind][2];\n",
       "        var method_name = mpl.toolbar_items[toolbar_ind][3];\n",
       "\n",
       "        if (!name) {\n",
       "            // put a spacer in here.\n",
       "            continue;\n",
       "        }\n",
       "        var button = $('<button/>');\n",
       "        button.addClass('ui-button ui-widget ui-state-default ui-corner-all ' +\n",
       "                        'ui-button-icon-only');\n",
       "        button.attr('role', 'button');\n",
       "        button.attr('aria-disabled', 'false');\n",
       "        button.click(method_name, toolbar_event);\n",
       "        button.mouseover(tooltip, toolbar_mouse_event);\n",
       "\n",
       "        var icon_img = $('<span/>');\n",
       "        icon_img.addClass('ui-button-icon-primary ui-icon');\n",
       "        icon_img.addClass(image);\n",
       "        icon_img.addClass('ui-corner-all');\n",
       "\n",
       "        var tooltip_span = $('<span/>');\n",
       "        tooltip_span.addClass('ui-button-text');\n",
       "        tooltip_span.html(tooltip);\n",
       "\n",
       "        button.append(icon_img);\n",
       "        button.append(tooltip_span);\n",
       "\n",
       "        nav_element.append(button);\n",
       "    }\n",
       "\n",
       "    var fmt_picker_span = $('<span/>');\n",
       "\n",
       "    var fmt_picker = $('<select/>');\n",
       "    fmt_picker.addClass('mpl-toolbar-option ui-widget ui-widget-content');\n",
       "    fmt_picker_span.append(fmt_picker);\n",
       "    nav_element.append(fmt_picker_span);\n",
       "    this.format_dropdown = fmt_picker[0];\n",
       "\n",
       "    for (var ind in mpl.extensions) {\n",
       "        var fmt = mpl.extensions[ind];\n",
       "        var option = $(\n",
       "            '<option/>', {selected: fmt === mpl.default_extension}).html(fmt);\n",
       "        fmt_picker.append(option);\n",
       "    }\n",
       "\n",
       "    // Add hover states to the ui-buttons\n",
       "    $( \".ui-button\" ).hover(\n",
       "        function() { $(this).addClass(\"ui-state-hover\");},\n",
       "        function() { $(this).removeClass(\"ui-state-hover\");}\n",
       "    );\n",
       "\n",
       "    var status_bar = $('<span class=\"mpl-message\"/>');\n",
       "    nav_element.append(status_bar);\n",
       "    this.message = status_bar[0];\n",
       "}\n",
       "\n",
       "mpl.figure.prototype.request_resize = function(x_pixels, y_pixels) {\n",
       "    // Request matplotlib to resize the figure. Matplotlib will then trigger a resize in the client,\n",
       "    // which will in turn request a refresh of the image.\n",
       "    this.send_message('resize', {'width': x_pixels, 'height': y_pixels});\n",
       "}\n",
       "\n",
       "mpl.figure.prototype.send_message = function(type, properties) {\n",
       "    properties['type'] = type;\n",
       "    properties['figure_id'] = this.id;\n",
       "    this.ws.send(JSON.stringify(properties));\n",
       "}\n",
       "\n",
       "mpl.figure.prototype.send_draw_message = function() {\n",
       "    if (!this.waiting) {\n",
       "        this.waiting = true;\n",
       "        this.ws.send(JSON.stringify({type: \"draw\", figure_id: this.id}));\n",
       "    }\n",
       "}\n",
       "\n",
       "\n",
       "mpl.figure.prototype.handle_save = function(fig, msg) {\n",
       "    var format_dropdown = fig.format_dropdown;\n",
       "    var format = format_dropdown.options[format_dropdown.selectedIndex].value;\n",
       "    fig.ondownload(fig, format);\n",
       "}\n",
       "\n",
       "\n",
       "mpl.figure.prototype.handle_resize = function(fig, msg) {\n",
       "    var size = msg['size'];\n",
       "    if (size[0] != fig.canvas.width || size[1] != fig.canvas.height) {\n",
       "        fig._resize_canvas(size[0], size[1]);\n",
       "        fig.send_message(\"refresh\", {});\n",
       "    };\n",
       "}\n",
       "\n",
       "mpl.figure.prototype.handle_rubberband = function(fig, msg) {\n",
       "    var x0 = msg['x0'] / mpl.ratio;\n",
       "    var y0 = (fig.canvas.height - msg['y0']) / mpl.ratio;\n",
       "    var x1 = msg['x1'] / mpl.ratio;\n",
       "    var y1 = (fig.canvas.height - msg['y1']) / mpl.ratio;\n",
       "    x0 = Math.floor(x0) + 0.5;\n",
       "    y0 = Math.floor(y0) + 0.5;\n",
       "    x1 = Math.floor(x1) + 0.5;\n",
       "    y1 = Math.floor(y1) + 0.5;\n",
       "    var min_x = Math.min(x0, x1);\n",
       "    var min_y = Math.min(y0, y1);\n",
       "    var width = Math.abs(x1 - x0);\n",
       "    var height = Math.abs(y1 - y0);\n",
       "\n",
       "    fig.rubberband_context.clearRect(\n",
       "        0, 0, fig.canvas.width / mpl.ratio, fig.canvas.height / mpl.ratio);\n",
       "\n",
       "    fig.rubberband_context.strokeRect(min_x, min_y, width, height);\n",
       "}\n",
       "\n",
       "mpl.figure.prototype.handle_figure_label = function(fig, msg) {\n",
       "    // Updates the figure title.\n",
       "    fig.header.textContent = msg['label'];\n",
       "}\n",
       "\n",
       "mpl.figure.prototype.handle_cursor = function(fig, msg) {\n",
       "    var cursor = msg['cursor'];\n",
       "    switch(cursor)\n",
       "    {\n",
       "    case 0:\n",
       "        cursor = 'pointer';\n",
       "        break;\n",
       "    case 1:\n",
       "        cursor = 'default';\n",
       "        break;\n",
       "    case 2:\n",
       "        cursor = 'crosshair';\n",
       "        break;\n",
       "    case 3:\n",
       "        cursor = 'move';\n",
       "        break;\n",
       "    }\n",
       "    fig.rubberband_canvas.style.cursor = cursor;\n",
       "}\n",
       "\n",
       "mpl.figure.prototype.handle_message = function(fig, msg) {\n",
       "    fig.message.textContent = msg['message'];\n",
       "}\n",
       "\n",
       "mpl.figure.prototype.handle_draw = function(fig, msg) {\n",
       "    // Request the server to send over a new figure.\n",
       "    fig.send_draw_message();\n",
       "}\n",
       "\n",
       "mpl.figure.prototype.handle_image_mode = function(fig, msg) {\n",
       "    fig.image_mode = msg['mode'];\n",
       "}\n",
       "\n",
       "mpl.figure.prototype.updated_canvas_event = function() {\n",
       "    // Called whenever the canvas gets updated.\n",
       "    this.send_message(\"ack\", {});\n",
       "}\n",
       "\n",
       "// A function to construct a web socket function for onmessage handling.\n",
       "// Called in the figure constructor.\n",
       "mpl.figure.prototype._make_on_message_function = function(fig) {\n",
       "    return function socket_on_message(evt) {\n",
       "        if (evt.data instanceof Blob) {\n",
       "            /* FIXME: We get \"Resource interpreted as Image but\n",
       "             * transferred with MIME type text/plain:\" errors on\n",
       "             * Chrome.  But how to set the MIME type?  It doesn't seem\n",
       "             * to be part of the websocket stream */\n",
       "            evt.data.type = \"image/png\";\n",
       "\n",
       "            /* Free the memory for the previous frames */\n",
       "            if (fig.imageObj.src) {\n",
       "                (window.URL || window.webkitURL).revokeObjectURL(\n",
       "                    fig.imageObj.src);\n",
       "            }\n",
       "\n",
       "            fig.imageObj.src = (window.URL || window.webkitURL).createObjectURL(\n",
       "                evt.data);\n",
       "            fig.updated_canvas_event();\n",
       "            fig.waiting = false;\n",
       "            return;\n",
       "        }\n",
       "        else if (typeof evt.data === 'string' && evt.data.slice(0, 21) == \"data:image/png;base64\") {\n",
       "            fig.imageObj.src = evt.data;\n",
       "            fig.updated_canvas_event();\n",
       "            fig.waiting = false;\n",
       "            return;\n",
       "        }\n",
       "\n",
       "        var msg = JSON.parse(evt.data);\n",
       "        var msg_type = msg['type'];\n",
       "\n",
       "        // Call the  \"handle_{type}\" callback, which takes\n",
       "        // the figure and JSON message as its only arguments.\n",
       "        try {\n",
       "            var callback = fig[\"handle_\" + msg_type];\n",
       "        } catch (e) {\n",
       "            console.log(\"No handler for the '\" + msg_type + \"' message type: \", msg);\n",
       "            return;\n",
       "        }\n",
       "\n",
       "        if (callback) {\n",
       "            try {\n",
       "                // console.log(\"Handling '\" + msg_type + \"' message: \", msg);\n",
       "                callback(fig, msg);\n",
       "            } catch (e) {\n",
       "                console.log(\"Exception inside the 'handler_\" + msg_type + \"' callback:\", e, e.stack, msg);\n",
       "            }\n",
       "        }\n",
       "    };\n",
       "}\n",
       "\n",
       "// from http://stackoverflow.com/questions/1114465/getting-mouse-location-in-canvas\n",
       "mpl.findpos = function(e) {\n",
       "    //this section is from http://www.quirksmode.org/js/events_properties.html\n",
       "    var targ;\n",
       "    if (!e)\n",
       "        e = window.event;\n",
       "    if (e.target)\n",
       "        targ = e.target;\n",
       "    else if (e.srcElement)\n",
       "        targ = e.srcElement;\n",
       "    if (targ.nodeType == 3) // defeat Safari bug\n",
       "        targ = targ.parentNode;\n",
       "\n",
       "    // jQuery normalizes the pageX and pageY\n",
       "    // pageX,Y are the mouse positions relative to the document\n",
       "    // offset() returns the position of the element relative to the document\n",
       "    var x = e.pageX - $(targ).offset().left;\n",
       "    var y = e.pageY - $(targ).offset().top;\n",
       "\n",
       "    return {\"x\": x, \"y\": y};\n",
       "};\n",
       "\n",
       "/*\n",
       " * return a copy of an object with only non-object keys\n",
       " * we need this to avoid circular references\n",
       " * http://stackoverflow.com/a/24161582/3208463\n",
       " */\n",
       "function simpleKeys (original) {\n",
       "  return Object.keys(original).reduce(function (obj, key) {\n",
       "    if (typeof original[key] !== 'object')\n",
       "        obj[key] = original[key]\n",
       "    return obj;\n",
       "  }, {});\n",
       "}\n",
       "\n",
       "mpl.figure.prototype.mouse_event = function(event, name) {\n",
       "    var canvas_pos = mpl.findpos(event)\n",
       "\n",
       "    if (name === 'button_press')\n",
       "    {\n",
       "        this.canvas.focus();\n",
       "        this.canvas_div.focus();\n",
       "    }\n",
       "\n",
       "    var x = canvas_pos.x * mpl.ratio;\n",
       "    var y = canvas_pos.y * mpl.ratio;\n",
       "\n",
       "    this.send_message(name, {x: x, y: y, button: event.button,\n",
       "                             step: event.step,\n",
       "                             guiEvent: simpleKeys(event)});\n",
       "\n",
       "    /* This prevents the web browser from automatically changing to\n",
       "     * the text insertion cursor when the button is pressed.  We want\n",
       "     * to control all of the cursor setting manually through the\n",
       "     * 'cursor' event from matplotlib */\n",
       "    event.preventDefault();\n",
       "    return false;\n",
       "}\n",
       "\n",
       "mpl.figure.prototype._key_event_extra = function(event, name) {\n",
       "    // Handle any extra behaviour associated with a key event\n",
       "}\n",
       "\n",
       "mpl.figure.prototype.key_event = function(event, name) {\n",
       "\n",
       "    // Prevent repeat events\n",
       "    if (name == 'key_press')\n",
       "    {\n",
       "        if (event.which === this._key)\n",
       "            return;\n",
       "        else\n",
       "            this._key = event.which;\n",
       "    }\n",
       "    if (name == 'key_release')\n",
       "        this._key = null;\n",
       "\n",
       "    var value = '';\n",
       "    if (event.ctrlKey && event.which != 17)\n",
       "        value += \"ctrl+\";\n",
       "    if (event.altKey && event.which != 18)\n",
       "        value += \"alt+\";\n",
       "    if (event.shiftKey && event.which != 16)\n",
       "        value += \"shift+\";\n",
       "\n",
       "    value += 'k';\n",
       "    value += event.which.toString();\n",
       "\n",
       "    this._key_event_extra(event, name);\n",
       "\n",
       "    this.send_message(name, {key: value,\n",
       "                             guiEvent: simpleKeys(event)});\n",
       "    return false;\n",
       "}\n",
       "\n",
       "mpl.figure.prototype.toolbar_button_onclick = function(name) {\n",
       "    if (name == 'download') {\n",
       "        this.handle_save(this, null);\n",
       "    } else {\n",
       "        this.send_message(\"toolbar_button\", {name: name});\n",
       "    }\n",
       "};\n",
       "\n",
       "mpl.figure.prototype.toolbar_button_onmouseover = function(tooltip) {\n",
       "    this.message.textContent = tooltip;\n",
       "};\n",
       "mpl.toolbar_items = [[\"Home\", \"Reset original view\", \"fa fa-home icon-home\", \"home\"], [\"Back\", \"Back to previous view\", \"fa fa-arrow-left icon-arrow-left\", \"back\"], [\"Forward\", \"Forward to next view\", \"fa fa-arrow-right icon-arrow-right\", \"forward\"], [\"\", \"\", \"\", \"\"], [\"Pan\", \"Pan axes with left mouse, zoom with right\", \"fa fa-arrows icon-move\", \"pan\"], [\"Zoom\", \"Zoom to rectangle\", \"fa fa-square-o icon-check-empty\", \"zoom\"], [\"\", \"\", \"\", \"\"], [\"Download\", \"Download plot\", \"fa fa-floppy-o icon-save\", \"download\"]];\n",
       "\n",
       "mpl.extensions = [\"eps\", \"jpeg\", \"pdf\", \"png\", \"ps\", \"raw\", \"svg\", \"tif\"];\n",
       "\n",
       "mpl.default_extension = \"png\";var comm_websocket_adapter = function(comm) {\n",
       "    // Create a \"websocket\"-like object which calls the given IPython comm\n",
       "    // object with the appropriate methods. Currently this is a non binary\n",
       "    // socket, so there is still some room for performance tuning.\n",
       "    var ws = {};\n",
       "\n",
       "    ws.close = function() {\n",
       "        comm.close()\n",
       "    };\n",
       "    ws.send = function(m) {\n",
       "        //console.log('sending', m);\n",
       "        comm.send(m);\n",
       "    };\n",
       "    // Register the callback with on_msg.\n",
       "    comm.on_msg(function(msg) {\n",
       "        //console.log('receiving', msg['content']['data'], msg);\n",
       "        // Pass the mpl event to the overridden (by mpl) onmessage function.\n",
       "        ws.onmessage(msg['content']['data'])\n",
       "    });\n",
       "    return ws;\n",
       "}\n",
       "\n",
       "mpl.mpl_figure_comm = function(comm, msg) {\n",
       "    // This is the function which gets called when the mpl process\n",
       "    // starts-up an IPython Comm through the \"matplotlib\" channel.\n",
       "\n",
       "    var id = msg.content.data.id;\n",
       "    // Get hold of the div created by the display call when the Comm\n",
       "    // socket was opened in Python.\n",
       "    var element = $(\"#\" + id);\n",
       "    var ws_proxy = comm_websocket_adapter(comm)\n",
       "\n",
       "    function ondownload(figure, format) {\n",
       "        window.open(figure.imageObj.src);\n",
       "    }\n",
       "\n",
       "    var fig = new mpl.figure(id, ws_proxy,\n",
       "                           ondownload,\n",
       "                           element.get(0));\n",
       "\n",
       "    // Call onopen now - mpl needs it, as it is assuming we've passed it a real\n",
       "    // web socket which is closed, not our websocket->open comm proxy.\n",
       "    ws_proxy.onopen();\n",
       "\n",
       "    fig.parent_element = element.get(0);\n",
       "    fig.cell_info = mpl.find_output_cell(\"<div id='\" + id + \"'></div>\");\n",
       "    if (!fig.cell_info) {\n",
       "        console.error(\"Failed to find cell for figure\", id, fig);\n",
       "        return;\n",
       "    }\n",
       "\n",
       "    var output_index = fig.cell_info[2]\n",
       "    var cell = fig.cell_info[0];\n",
       "\n",
       "};\n",
       "\n",
       "mpl.figure.prototype.handle_close = function(fig, msg) {\n",
       "    var width = fig.canvas.width/mpl.ratio\n",
       "    fig.root.unbind('remove')\n",
       "\n",
       "    // Update the output cell to use the data from the current canvas.\n",
       "    fig.push_to_output();\n",
       "    var dataURL = fig.canvas.toDataURL();\n",
       "    // Re-enable the keyboard manager in IPython - without this line, in FF,\n",
       "    // the notebook keyboard shortcuts fail.\n",
       "    IPython.keyboard_manager.enable()\n",
       "    $(fig.parent_element).html('<img src=\"' + dataURL + '\" width=\"' + width + '\">');\n",
       "    fig.close_ws(fig, msg);\n",
       "}\n",
       "\n",
       "mpl.figure.prototype.close_ws = function(fig, msg){\n",
       "    fig.send_message('closing', msg);\n",
       "    // fig.ws.close()\n",
       "}\n",
       "\n",
       "mpl.figure.prototype.push_to_output = function(remove_interactive) {\n",
       "    // Turn the data on the canvas into data in the output cell.\n",
       "    var width = this.canvas.width/mpl.ratio\n",
       "    var dataURL = this.canvas.toDataURL();\n",
       "    this.cell_info[1]['text/html'] = '<img src=\"' + dataURL + '\" width=\"' + width + '\">';\n",
       "}\n",
       "\n",
       "mpl.figure.prototype.updated_canvas_event = function() {\n",
       "    // Tell IPython that the notebook contents must change.\n",
       "    IPython.notebook.set_dirty(true);\n",
       "    this.send_message(\"ack\", {});\n",
       "    var fig = this;\n",
       "    // Wait a second, then push the new image to the DOM so\n",
       "    // that it is saved nicely (might be nice to debounce this).\n",
       "    setTimeout(function () { fig.push_to_output() }, 1000);\n",
       "}\n",
       "\n",
       "mpl.figure.prototype._init_toolbar = function() {\n",
       "    var fig = this;\n",
       "\n",
       "    var nav_element = $('<div/>');\n",
       "    nav_element.attr('style', 'width: 100%');\n",
       "    this.root.append(nav_element);\n",
       "\n",
       "    // Define a callback function for later on.\n",
       "    function toolbar_event(event) {\n",
       "        return fig.toolbar_button_onclick(event['data']);\n",
       "    }\n",
       "    function toolbar_mouse_event(event) {\n",
       "        return fig.toolbar_button_onmouseover(event['data']);\n",
       "    }\n",
       "\n",
       "    for(var toolbar_ind in mpl.toolbar_items){\n",
       "        var name = mpl.toolbar_items[toolbar_ind][0];\n",
       "        var tooltip = mpl.toolbar_items[toolbar_ind][1];\n",
       "        var image = mpl.toolbar_items[toolbar_ind][2];\n",
       "        var method_name = mpl.toolbar_items[toolbar_ind][3];\n",
       "\n",
       "        if (!name) { continue; };\n",
       "\n",
       "        var button = $('<button class=\"btn btn-default\" href=\"#\" title=\"' + name + '\"><i class=\"fa ' + image + ' fa-lg\"></i></button>');\n",
       "        button.click(method_name, toolbar_event);\n",
       "        button.mouseover(tooltip, toolbar_mouse_event);\n",
       "        nav_element.append(button);\n",
       "    }\n",
       "\n",
       "    // Add the status bar.\n",
       "    var status_bar = $('<span class=\"mpl-message\" style=\"text-align:right; float: right;\"/>');\n",
       "    nav_element.append(status_bar);\n",
       "    this.message = status_bar[0];\n",
       "\n",
       "    // Add the close button to the window.\n",
       "    var buttongrp = $('<div class=\"btn-group inline pull-right\"></div>');\n",
       "    var button = $('<button class=\"btn btn-mini btn-primary\" href=\"#\" title=\"Stop Interaction\"><i class=\"fa fa-power-off icon-remove icon-large\"></i></button>');\n",
       "    button.click(function (evt) { fig.handle_close(fig, {}); } );\n",
       "    button.mouseover('Stop Interaction', toolbar_mouse_event);\n",
       "    buttongrp.append(button);\n",
       "    var titlebar = this.root.find($('.ui-dialog-titlebar'));\n",
       "    titlebar.prepend(buttongrp);\n",
       "}\n",
       "\n",
       "mpl.figure.prototype._root_extra_style = function(el){\n",
       "    var fig = this\n",
       "    el.on(\"remove\", function(){\n",
       "\tfig.close_ws(fig, {});\n",
       "    });\n",
       "}\n",
       "\n",
       "mpl.figure.prototype._canvas_extra_style = function(el){\n",
       "    // this is important to make the div 'focusable\n",
       "    el.attr('tabindex', 0)\n",
       "    // reach out to IPython and tell the keyboard manager to turn it's self\n",
       "    // off when our div gets focus\n",
       "\n",
       "    // location in version 3\n",
       "    if (IPython.notebook.keyboard_manager) {\n",
       "        IPython.notebook.keyboard_manager.register_events(el);\n",
       "    }\n",
       "    else {\n",
       "        // location in version 2\n",
       "        IPython.keyboard_manager.register_events(el);\n",
       "    }\n",
       "\n",
       "}\n",
       "\n",
       "mpl.figure.prototype._key_event_extra = function(event, name) {\n",
       "    var manager = IPython.notebook.keyboard_manager;\n",
       "    if (!manager)\n",
       "        manager = IPython.keyboard_manager;\n",
       "\n",
       "    // Check for shift+enter\n",
       "    if (event.shiftKey && event.which == 13) {\n",
       "        this.canvas_div.blur();\n",
       "        // select the cell after this one\n",
       "        var index = IPython.notebook.find_cell_index(this.cell_info[0]);\n",
       "        IPython.notebook.select(index + 1);\n",
       "    }\n",
       "}\n",
       "\n",
       "mpl.figure.prototype.handle_save = function(fig, msg) {\n",
       "    fig.ondownload(fig, null);\n",
       "}\n",
       "\n",
       "\n",
       "mpl.find_output_cell = function(html_output) {\n",
       "    // Return the cell and output element which can be found *uniquely* in the notebook.\n",
       "    // Note - this is a bit hacky, but it is done because the \"notebook_saving.Notebook\"\n",
       "    // IPython event is triggered only after the cells have been serialised, which for\n",
       "    // our purposes (turning an active figure into a static one), is too late.\n",
       "    var cells = IPython.notebook.get_cells();\n",
       "    var ncells = cells.length;\n",
       "    for (var i=0; i<ncells; i++) {\n",
       "        var cell = cells[i];\n",
       "        if (cell.cell_type === 'code'){\n",
       "            for (var j=0; j<cell.output_area.outputs.length; j++) {\n",
       "                var data = cell.output_area.outputs[j];\n",
       "                if (data.data) {\n",
       "                    // IPython >= 3 moved mimebundle to data attribute of output\n",
       "                    data = data.data;\n",
       "                }\n",
       "                if (data['text/html'] == html_output) {\n",
       "                    return [cell, data, j];\n",
       "                }\n",
       "            }\n",
       "        }\n",
       "    }\n",
       "}\n",
       "\n",
       "// Register the function which deals with the matplotlib target/channel.\n",
       "// The kernel may be null if the page has been refreshed.\n",
       "if (IPython.notebook.kernel != null) {\n",
       "    IPython.notebook.kernel.comm_manager.register_target('matplotlib', mpl.mpl_figure_comm);\n",
       "}\n"
      ],
      "text/plain": [
       "<IPython.core.display.Javascript object>"
      ]
     },
     "metadata": {},
     "output_type": "display_data"
    },
    {
     "data": {
      "text/html": [
       "<img src=\"data:image/png;base64,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\" width=\"1000\">"
      ],
      "text/plain": [
       "<IPython.core.display.HTML object>"
      ]
     },
     "metadata": {},
     "output_type": "display_data"
    }
   ],
   "source": [
    "ax, lax, lines = dual_train_plots_tracks_to_KDE()\n",
    "fig = ax.figure\n",
    "plt.tight_layout()"
   ]
  },
  {
   "cell_type": "code",
   "execution_count": 18,
   "metadata": {
    "scrolled": false
   },
   "outputs": [
    {
     "name": "stdout",
     "output_type": "stream",
     "text": [
      "Number of batches: train = 5000, val = 157\n"
     ]
    },
    {
     "data": {
      "application/vnd.jupyter.widget-view+json": {
       "model_id": "42f8d445a4334417be042f765f94135a",
       "version_major": 2,
       "version_minor": 0
      },
      "text/plain": [
       "HBox(children=(FloatProgress(value=0.0, description='Epochs', layout=Layout(flex='2'), style=ProgressStyle(des…"
      ]
     },
     "metadata": {},
     "output_type": "display_data"
    },
    {
     "name": "stdout",
     "output_type": "stream",
     "text": [
      "Number of batches: train = 5000, val = 157\n"
     ]
    },
    {
     "data": {
      "application/vnd.jupyter.widget-view+json": {
       "model_id": "",
       "version_major": 2,
       "version_minor": 0
      },
      "text/plain": [
       "HBox(children=(FloatProgress(value=0.0, description='Training', layout=Layout(flex='2'), max=5000.0, style=Pro…"
      ]
     },
     "metadata": {},
     "output_type": "display_data"
    },
    {
     "name": "stdout",
     "output_type": "stream",
     "text": [
      "Epoch 0: train=0.540346, val=0.362348, took 593.02 s\n"
     ]
    },
    {
     "data": {
      "application/vnd.jupyter.widget-view+json": {
       "model_id": "",
       "version_major": 2,
       "version_minor": 0
      },
      "text/plain": [
       "HBox(children=(FloatProgress(value=0.0, description='Training', layout=Layout(flex='2'), max=5000.0, style=Pro…"
      ]
     },
     "metadata": {},
     "output_type": "display_data"
    },
    {
     "name": "stdout",
     "output_type": "stream",
     "text": [
      "Epoch 1: train=0.53456, val=0.346436, took 586.64 s\n"
     ]
    },
    {
     "data": {
      "application/vnd.jupyter.widget-view+json": {
       "model_id": "",
       "version_major": 2,
       "version_minor": 0
      },
      "text/plain": [
       "HBox(children=(FloatProgress(value=0.0, description='Training', layout=Layout(flex='2'), max=5000.0, style=Pro…"
      ]
     },
     "metadata": {},
     "output_type": "display_data"
    },
    {
     "name": "stdout",
     "output_type": "stream",
     "text": [
      "Epoch 2: train=0.536531, val=0.347806, took 583.65 s\n"
     ]
    },
    {
     "data": {
      "application/vnd.jupyter.widget-view+json": {
       "model_id": "",
       "version_major": 2,
       "version_minor": 0
      },
      "text/plain": [
       "HBox(children=(FloatProgress(value=0.0, description='Training', layout=Layout(flex='2'), max=5000.0, style=Pro…"
      ]
     },
     "metadata": {},
     "output_type": "display_data"
    },
    {
     "name": "stdout",
     "output_type": "stream",
     "text": [
      "Epoch 3: train=0.537522, val=0.346311, took 585.41 s\n"
     ]
    },
    {
     "data": {
      "application/vnd.jupyter.widget-view+json": {
       "model_id": "",
       "version_major": 2,
       "version_minor": 0
      },
      "text/plain": [
       "HBox(children=(FloatProgress(value=0.0, description='Training', layout=Layout(flex='2'), max=5000.0, style=Pro…"
      ]
     },
     "metadata": {},
     "output_type": "display_data"
    },
    {
     "name": "stdout",
     "output_type": "stream",
     "text": [
      "Epoch 4: train=0.535198, val=0.353825, took 585.47 s\n"
     ]
    },
    {
     "data": {
      "application/vnd.jupyter.widget-view+json": {
       "model_id": "",
       "version_major": 2,
       "version_minor": 0
      },
      "text/plain": [
       "HBox(children=(FloatProgress(value=0.0, description='Training', layout=Layout(flex='2'), max=5000.0, style=Pro…"
      ]
     },
     "metadata": {},
     "output_type": "display_data"
    },
    {
     "name": "stdout",
     "output_type": "stream",
     "text": [
      "Epoch 5: train=0.536411, val=0.346875, took 583.56 s\n"
     ]
    },
    {
     "data": {
      "application/vnd.jupyter.widget-view+json": {
       "model_id": "",
       "version_major": 2,
       "version_minor": 0
      },
      "text/plain": [
       "HBox(children=(FloatProgress(value=0.0, description='Training', layout=Layout(flex='2'), max=5000.0, style=Pro…"
      ]
     },
     "metadata": {},
     "output_type": "display_data"
    },
    {
     "name": "stdout",
     "output_type": "stream",
     "text": [
      "Epoch 6: train=0.535604, val=0.357237, took 582.14 s\n"
     ]
    },
    {
     "data": {
      "application/vnd.jupyter.widget-view+json": {
       "model_id": "",
       "version_major": 2,
       "version_minor": 0
      },
      "text/plain": [
       "HBox(children=(FloatProgress(value=0.0, description='Training', layout=Layout(flex='2'), max=5000.0, style=Pro…"
      ]
     },
     "metadata": {},
     "output_type": "display_data"
    },
    {
     "name": "stdout",
     "output_type": "stream",
     "text": [
      "Epoch 7: train=0.535965, val=0.347546, took 583.37 s\n"
     ]
    },
    {
     "data": {
      "application/vnd.jupyter.widget-view+json": {
       "model_id": "",
       "version_major": 2,
       "version_minor": 0
      },
      "text/plain": [
       "HBox(children=(FloatProgress(value=0.0, description='Training', layout=Layout(flex='2'), max=5000.0, style=Pro…"
      ]
     },
     "metadata": {},
     "output_type": "display_data"
    },
    {
     "name": "stdout",
     "output_type": "stream",
     "text": [
      "Epoch 8: train=0.535063, val=0.354341, took 581.63 s\n"
     ]
    },
    {
     "data": {
      "application/vnd.jupyter.widget-view+json": {
       "model_id": "",
       "version_major": 2,
       "version_minor": 0
      },
      "text/plain": [
       "HBox(children=(FloatProgress(value=0.0, description='Training', layout=Layout(flex='2'), max=5000.0, style=Pro…"
      ]
     },
     "metadata": {},
     "output_type": "display_data"
    },
    {
     "name": "stdout",
     "output_type": "stream",
     "text": [
      "Epoch 9: train=0.534649, val=0.348854, took 584.09 s\n"
     ]
    },
    {
     "data": {
      "application/vnd.jupyter.widget-view+json": {
       "model_id": "",
       "version_major": 2,
       "version_minor": 0
      },
      "text/plain": [
       "HBox(children=(FloatProgress(value=0.0, description='Training', layout=Layout(flex='2'), max=5000.0, style=Pro…"
      ]
     },
     "metadata": {},
     "output_type": "display_data"
    },
    {
     "name": "stdout",
     "output_type": "stream",
     "text": [
      "Epoch 10: train=0.536591, val=0.344879, took 583.98 s\n"
     ]
    },
    {
     "data": {
      "application/vnd.jupyter.widget-view+json": {
       "model_id": "",
       "version_major": 2,
       "version_minor": 0
      },
      "text/plain": [
       "HBox(children=(FloatProgress(value=0.0, description='Training', layout=Layout(flex='2'), max=5000.0, style=Pro…"
      ]
     },
     "metadata": {},
     "output_type": "display_data"
    },
    {
     "name": "stdout",
     "output_type": "stream",
     "text": [
      "Epoch 11: train=0.536012, val=0.349107, took 582.92 s\n"
     ]
    },
    {
     "data": {
      "application/vnd.jupyter.widget-view+json": {
       "model_id": "",
       "version_major": 2,
       "version_minor": 0
      },
      "text/plain": [
       "HBox(children=(FloatProgress(value=0.0, description='Training', layout=Layout(flex='2'), max=5000.0, style=Pro…"
      ]
     },
     "metadata": {},
     "output_type": "display_data"
    },
    {
     "name": "stdout",
     "output_type": "stream",
     "text": [
      "Epoch 12: train=0.53412, val=0.356032, took 585.8 s\n"
     ]
    },
    {
     "data": {
      "application/vnd.jupyter.widget-view+json": {
       "model_id": "",
       "version_major": 2,
       "version_minor": 0
      },
      "text/plain": [
       "HBox(children=(FloatProgress(value=0.0, description='Training', layout=Layout(flex='2'), max=5000.0, style=Pro…"
      ]
     },
     "metadata": {},
     "output_type": "display_data"
    },
    {
     "name": "stdout",
     "output_type": "stream",
     "text": [
      "Epoch 13: train=0.534263, val=0.365231, took 585.13 s\n"
     ]
    },
    {
     "data": {
      "application/vnd.jupyter.widget-view+json": {
       "model_id": "",
       "version_major": 2,
       "version_minor": 0
      },
      "text/plain": [
       "HBox(children=(FloatProgress(value=0.0, description='Training', layout=Layout(flex='2'), max=5000.0, style=Pro…"
      ]
     },
     "metadata": {},
     "output_type": "display_data"
    },
    {
     "name": "stdout",
     "output_type": "stream",
     "text": [
      "Epoch 14: train=0.536157, val=0.346696, took 585.44 s\n"
     ]
    },
    {
     "data": {
      "application/vnd.jupyter.widget-view+json": {
       "model_id": "",
       "version_major": 2,
       "version_minor": 0
      },
      "text/plain": [
       "HBox(children=(FloatProgress(value=0.0, description='Training', layout=Layout(flex='2'), max=5000.0, style=Pro…"
      ]
     },
     "metadata": {},
     "output_type": "display_data"
    },
    {
     "name": "stdout",
     "output_type": "stream",
     "text": [
      "Epoch 15: train=0.534852, val=0.376588, took 583.8 s\n"
     ]
    },
    {
     "data": {
      "application/vnd.jupyter.widget-view+json": {
       "model_id": "",
       "version_major": 2,
       "version_minor": 0
      },
      "text/plain": [
       "HBox(children=(FloatProgress(value=0.0, description='Training', layout=Layout(flex='2'), max=5000.0, style=Pro…"
      ]
     },
     "metadata": {},
     "output_type": "display_data"
    },
    {
     "name": "stdout",
     "output_type": "stream",
     "text": [
      "Epoch 16: train=0.535798, val=0.394071, took 585.05 s\n"
     ]
    },
    {
     "data": {
      "application/vnd.jupyter.widget-view+json": {
       "model_id": "",
       "version_major": 2,
       "version_minor": 0
      },
      "text/plain": [
       "HBox(children=(FloatProgress(value=0.0, description='Training', layout=Layout(flex='2'), max=5000.0, style=Pro…"
      ]
     },
     "metadata": {},
     "output_type": "display_data"
    },
    {
     "name": "stdout",
     "output_type": "stream",
     "text": [
      "Epoch 17: train=0.535251, val=0.370396, took 585.23 s\n"
     ]
    },
    {
     "data": {
      "application/vnd.jupyter.widget-view+json": {
       "model_id": "",
       "version_major": 2,
       "version_minor": 0
      },
      "text/plain": [
       "HBox(children=(FloatProgress(value=0.0, description='Training', layout=Layout(flex='2'), max=5000.0, style=Pro…"
      ]
     },
     "metadata": {},
     "output_type": "display_data"
    },
    {
     "name": "stdout",
     "output_type": "stream",
     "text": [
      "Epoch 18: train=0.535233, val=0.377768, took 585.55 s\n"
     ]
    },
    {
     "data": {
      "application/vnd.jupyter.widget-view+json": {
       "model_id": "",
       "version_major": 2,
       "version_minor": 0
      },
      "text/plain": [
       "HBox(children=(FloatProgress(value=0.0, description='Training', layout=Layout(flex='2'), max=5000.0, style=Pro…"
      ]
     },
     "metadata": {},
     "output_type": "display_data"
    },
    {
     "name": "stdout",
     "output_type": "stream",
     "text": [
      "Epoch 19: train=0.535246, val=0.346232, took 586.51 s\n"
     ]
    },
    {
     "data": {
      "application/vnd.jupyter.widget-view+json": {
       "model_id": "",
       "version_major": 2,
       "version_minor": 0
      },
      "text/plain": [
       "HBox(children=(FloatProgress(value=0.0, description='Training', layout=Layout(flex='2'), max=5000.0, style=Pro…"
      ]
     },
     "metadata": {},
     "output_type": "display_data"
    },
    {
     "name": "stdout",
     "output_type": "stream",
     "text": [
      "Epoch 20: train=0.535165, val=0.348559, took 584.92 s\n"
     ]
    },
    {
     "data": {
      "application/vnd.jupyter.widget-view+json": {
       "model_id": "",
       "version_major": 2,
       "version_minor": 0
      },
      "text/plain": [
       "HBox(children=(FloatProgress(value=0.0, description='Training', layout=Layout(flex='2'), max=5000.0, style=Pro…"
      ]
     },
     "metadata": {},
     "output_type": "display_data"
    },
    {
     "name": "stdout",
     "output_type": "stream",
     "text": [
      "Epoch 21: train=0.532064, val=0.366569, took 583.1 s\n"
     ]
    },
    {
     "data": {
      "application/vnd.jupyter.widget-view+json": {
       "model_id": "",
       "version_major": 2,
       "version_minor": 0
      },
      "text/plain": [
       "HBox(children=(FloatProgress(value=0.0, description='Training', layout=Layout(flex='2'), max=5000.0, style=Pro…"
      ]
     },
     "metadata": {},
     "output_type": "display_data"
    },
    {
     "name": "stdout",
     "output_type": "stream",
     "text": [
      "Epoch 22: train=0.534409, val=0.354302, took 585.42 s\n"
     ]
    },
    {
     "data": {
      "application/vnd.jupyter.widget-view+json": {
       "model_id": "",
       "version_major": 2,
       "version_minor": 0
      },
      "text/plain": [
       "HBox(children=(FloatProgress(value=0.0, description='Training', layout=Layout(flex='2'), max=5000.0, style=Pro…"
      ]
     },
     "metadata": {},
     "output_type": "display_data"
    },
    {
     "name": "stdout",
     "output_type": "stream",
     "text": [
      "Epoch 23: train=0.535123, val=0.352318, took 585.68 s\n"
     ]
    },
    {
     "data": {
      "application/vnd.jupyter.widget-view+json": {
       "model_id": "",
       "version_major": 2,
       "version_minor": 0
      },
      "text/plain": [
       "HBox(children=(FloatProgress(value=0.0, description='Training', layout=Layout(flex='2'), max=5000.0, style=Pro…"
      ]
     },
     "metadata": {},
     "output_type": "display_data"
    },
    {
     "name": "stdout",
     "output_type": "stream",
     "text": [
      "Epoch 24: train=0.535212, val=0.359099, took 585.24 s\n"
     ]
    },
    {
     "data": {
      "application/vnd.jupyter.widget-view+json": {
       "model_id": "",
       "version_major": 2,
       "version_minor": 0
      },
      "text/plain": [
       "HBox(children=(FloatProgress(value=0.0, description='Training', layout=Layout(flex='2'), max=5000.0, style=Pro…"
      ]
     },
     "metadata": {},
     "output_type": "display_data"
    },
    {
     "name": "stdout",
     "output_type": "stream",
     "text": [
      "Epoch 25: train=0.534531, val=0.346677, took 585.83 s\n"
     ]
    },
    {
     "data": {
      "application/vnd.jupyter.widget-view+json": {
       "model_id": "",
       "version_major": 2,
       "version_minor": 0
      },
      "text/plain": [
       "HBox(children=(FloatProgress(value=0.0, description='Training', layout=Layout(flex='2'), max=5000.0, style=Pro…"
      ]
     },
     "metadata": {},
     "output_type": "display_data"
    },
    {
     "name": "stdout",
     "output_type": "stream",
     "text": [
      "Epoch 26: train=0.535025, val=0.378118, took 584.73 s\n"
     ]
    },
    {
     "data": {
      "application/vnd.jupyter.widget-view+json": {
       "model_id": "",
       "version_major": 2,
       "version_minor": 0
      },
      "text/plain": [
       "HBox(children=(FloatProgress(value=0.0, description='Training', layout=Layout(flex='2'), max=5000.0, style=Pro…"
      ]
     },
     "metadata": {},
     "output_type": "display_data"
    },
    {
     "name": "stdout",
     "output_type": "stream",
     "text": [
      "Epoch 27: train=0.533895, val=0.345988, took 584.09 s\n"
     ]
    },
    {
     "data": {
      "application/vnd.jupyter.widget-view+json": {
       "model_id": "",
       "version_major": 2,
       "version_minor": 0
      },
      "text/plain": [
       "HBox(children=(FloatProgress(value=0.0, description='Training', layout=Layout(flex='2'), max=5000.0, style=Pro…"
      ]
     },
     "metadata": {},
     "output_type": "display_data"
    },
    {
     "name": "stdout",
     "output_type": "stream",
     "text": [
      "Epoch 28: train=0.532869, val=0.346936, took 586.21 s\n"
     ]
    },
    {
     "data": {
      "application/vnd.jupyter.widget-view+json": {
       "model_id": "",
       "version_major": 2,
       "version_minor": 0
      },
      "text/plain": [
       "HBox(children=(FloatProgress(value=0.0, description='Training', layout=Layout(flex='2'), max=5000.0, style=Pro…"
      ]
     },
     "metadata": {},
     "output_type": "display_data"
    },
    {
     "name": "stdout",
     "output_type": "stream",
     "text": [
      "Epoch 29: train=0.534318, val=0.348544, took 585.46 s\n"
     ]
    },
    {
     "data": {
      "application/vnd.jupyter.widget-view+json": {
       "model_id": "",
       "version_major": 2,
       "version_minor": 0
      },
      "text/plain": [
       "HBox(children=(FloatProgress(value=0.0, description='Training', layout=Layout(flex='2'), max=5000.0, style=Pro…"
      ]
     },
     "metadata": {},
     "output_type": "display_data"
    },
    {
     "name": "stdout",
     "output_type": "stream",
     "text": [
      "Epoch 30: train=0.533032, val=0.346378, took 585.62 s\n"
     ]
    },
    {
     "data": {
      "application/vnd.jupyter.widget-view+json": {
       "model_id": "",
       "version_major": 2,
       "version_minor": 0
      },
      "text/plain": [
       "HBox(children=(FloatProgress(value=0.0, description='Training', layout=Layout(flex='2'), max=5000.0, style=Pro…"
      ]
     },
     "metadata": {},
     "output_type": "display_data"
    },
    {
     "name": "stdout",
     "output_type": "stream",
     "text": [
      "Epoch 31: train=0.533886, val=0.349509, took 585.5 s\n"
     ]
    },
    {
     "data": {
      "application/vnd.jupyter.widget-view+json": {
       "model_id": "",
       "version_major": 2,
       "version_minor": 0
      },
      "text/plain": [
       "HBox(children=(FloatProgress(value=0.0, description='Training', layout=Layout(flex='2'), max=5000.0, style=Pro…"
      ]
     },
     "metadata": {},
     "output_type": "display_data"
    },
    {
     "name": "stdout",
     "output_type": "stream",
     "text": [
      "Epoch 32: train=0.535364, val=0.349873, took 584.38 s\n"
     ]
    },
    {
     "data": {
      "application/vnd.jupyter.widget-view+json": {
       "model_id": "",
       "version_major": 2,
       "version_minor": 0
      },
      "text/plain": [
       "HBox(children=(FloatProgress(value=0.0, description='Training', layout=Layout(flex='2'), max=5000.0, style=Pro…"
      ]
     },
     "metadata": {},
     "output_type": "display_data"
    },
    {
     "name": "stdout",
     "output_type": "stream",
     "text": [
      "Epoch 33: train=0.532198, val=0.388752, took 585.75 s\n"
     ]
    },
    {
     "data": {
      "application/vnd.jupyter.widget-view+json": {
       "model_id": "",
       "version_major": 2,
       "version_minor": 0
      },
      "text/plain": [
       "HBox(children=(FloatProgress(value=0.0, description='Training', layout=Layout(flex='2'), max=5000.0, style=Pro…"
      ]
     },
     "metadata": {},
     "output_type": "display_data"
    },
    {
     "name": "stdout",
     "output_type": "stream",
     "text": [
      "Epoch 34: train=0.534122, val=0.362375, took 584.72 s\n"
     ]
    },
    {
     "data": {
      "application/vnd.jupyter.widget-view+json": {
       "model_id": "",
       "version_major": 2,
       "version_minor": 0
      },
      "text/plain": [
       "HBox(children=(FloatProgress(value=0.0, description='Training', layout=Layout(flex='2'), max=5000.0, style=Pro…"
      ]
     },
     "metadata": {},
     "output_type": "display_data"
    },
    {
     "name": "stdout",
     "output_type": "stream",
     "text": [
      "Epoch 35: train=0.535357, val=0.350625, took 586.75 s\n"
     ]
    },
    {
     "data": {
      "application/vnd.jupyter.widget-view+json": {
       "model_id": "",
       "version_major": 2,
       "version_minor": 0
      },
      "text/plain": [
       "HBox(children=(FloatProgress(value=0.0, description='Training', layout=Layout(flex='2'), max=5000.0, style=Pro…"
      ]
     },
     "metadata": {},
     "output_type": "display_data"
    },
    {
     "name": "stdout",
     "output_type": "stream",
     "text": [
      "Epoch 36: train=0.533487, val=0.349037, took 585.85 s\n"
     ]
    },
    {
     "data": {
      "application/vnd.jupyter.widget-view+json": {
       "model_id": "",
       "version_major": 2,
       "version_minor": 0
      },
      "text/plain": [
       "HBox(children=(FloatProgress(value=0.0, description='Training', layout=Layout(flex='2'), max=5000.0, style=Pro…"
      ]
     },
     "metadata": {},
     "output_type": "display_data"
    },
    {
     "name": "stdout",
     "output_type": "stream",
     "text": [
      "Epoch 37: train=0.533123, val=0.356357, took 585.95 s\n"
     ]
    },
    {
     "data": {
      "application/vnd.jupyter.widget-view+json": {
       "model_id": "",
       "version_major": 2,
       "version_minor": 0
      },
      "text/plain": [
       "HBox(children=(FloatProgress(value=0.0, description='Training', layout=Layout(flex='2'), max=5000.0, style=Pro…"
      ]
     },
     "metadata": {},
     "output_type": "display_data"
    },
    {
     "name": "stdout",
     "output_type": "stream",
     "text": [
      "Epoch 38: train=0.533609, val=0.344792, took 584.81 s\n"
     ]
    },
    {
     "data": {
      "application/vnd.jupyter.widget-view+json": {
       "model_id": "",
       "version_major": 2,
       "version_minor": 0
      },
      "text/plain": [
       "HBox(children=(FloatProgress(value=0.0, description='Training', layout=Layout(flex='2'), max=5000.0, style=Pro…"
      ]
     },
     "metadata": {},
     "output_type": "display_data"
    },
    {
     "name": "stdout",
     "output_type": "stream",
     "text": [
      "Epoch 39: train=0.533794, val=0.372861, took 586.13 s\n"
     ]
    },
    {
     "data": {
      "application/vnd.jupyter.widget-view+json": {
       "model_id": "",
       "version_major": 2,
       "version_minor": 0
      },
      "text/plain": [
       "HBox(children=(FloatProgress(value=0.0, description='Training', layout=Layout(flex='2'), max=5000.0, style=Pro…"
      ]
     },
     "metadata": {},
     "output_type": "display_data"
    },
    {
     "name": "stdout",
     "output_type": "stream",
     "text": [
      "Epoch 40: train=0.534351, val=0.354231, took 584.9 s\n"
     ]
    },
    {
     "data": {
      "application/vnd.jupyter.widget-view+json": {
       "model_id": "",
       "version_major": 2,
       "version_minor": 0
      },
      "text/plain": [
       "HBox(children=(FloatProgress(value=0.0, description='Training', layout=Layout(flex='2'), max=5000.0, style=Pro…"
      ]
     },
     "metadata": {},
     "output_type": "display_data"
    },
    {
     "name": "stdout",
     "output_type": "stream",
     "text": [
      "Epoch 41: train=0.534064, val=0.355718, took 583.83 s\n"
     ]
    },
    {
     "data": {
      "application/vnd.jupyter.widget-view+json": {
       "model_id": "",
       "version_major": 2,
       "version_minor": 0
      },
      "text/plain": [
       "HBox(children=(FloatProgress(value=0.0, description='Training', layout=Layout(flex='2'), max=5000.0, style=Pro…"
      ]
     },
     "metadata": {},
     "output_type": "display_data"
    },
    {
     "name": "stdout",
     "output_type": "stream",
     "text": [
      "Epoch 42: train=0.532704, val=0.342237, took 585.48 s\n"
     ]
    },
    {
     "data": {
      "application/vnd.jupyter.widget-view+json": {
       "model_id": "",
       "version_major": 2,
       "version_minor": 0
      },
      "text/plain": [
       "HBox(children=(FloatProgress(value=0.0, description='Training', layout=Layout(flex='2'), max=5000.0, style=Pro…"
      ]
     },
     "metadata": {},
     "output_type": "display_data"
    },
    {
     "name": "stdout",
     "output_type": "stream",
     "text": [
      "Epoch 43: train=0.531814, val=0.350214, took 587.82 s\n"
     ]
    },
    {
     "data": {
      "application/vnd.jupyter.widget-view+json": {
       "model_id": "",
       "version_major": 2,
       "version_minor": 0
      },
      "text/plain": [
       "HBox(children=(FloatProgress(value=0.0, description='Training', layout=Layout(flex='2'), max=5000.0, style=Pro…"
      ]
     },
     "metadata": {},
     "output_type": "display_data"
    },
    {
     "name": "stdout",
     "output_type": "stream",
     "text": [
      "Epoch 44: train=0.533508, val=0.403128, took 587.57 s\n"
     ]
    },
    {
     "data": {
      "application/vnd.jupyter.widget-view+json": {
       "model_id": "",
       "version_major": 2,
       "version_minor": 0
      },
      "text/plain": [
       "HBox(children=(FloatProgress(value=0.0, description='Training', layout=Layout(flex='2'), max=5000.0, style=Pro…"
      ]
     },
     "metadata": {},
     "output_type": "display_data"
    },
    {
     "name": "stdout",
     "output_type": "stream",
     "text": [
      "Epoch 45: train=0.531767, val=0.445225, took 585.57 s\n"
     ]
    },
    {
     "data": {
      "application/vnd.jupyter.widget-view+json": {
       "model_id": "",
       "version_major": 2,
       "version_minor": 0
      },
      "text/plain": [
       "HBox(children=(FloatProgress(value=0.0, description='Training', layout=Layout(flex='2'), max=5000.0, style=Pro…"
      ]
     },
     "metadata": {},
     "output_type": "display_data"
    },
    {
     "name": "stdout",
     "output_type": "stream",
     "text": [
      "Epoch 46: train=0.534629, val=0.348772, took 584.73 s\n"
     ]
    },
    {
     "data": {
      "application/vnd.jupyter.widget-view+json": {
       "model_id": "",
       "version_major": 2,
       "version_minor": 0
      },
      "text/plain": [
       "HBox(children=(FloatProgress(value=0.0, description='Training', layout=Layout(flex='2'), max=5000.0, style=Pro…"
      ]
     },
     "metadata": {},
     "output_type": "display_data"
    },
    {
     "name": "stdout",
     "output_type": "stream",
     "text": [
      "Epoch 47: train=0.532412, val=0.350481, took 584.84 s\n"
     ]
    },
    {
     "data": {
      "application/vnd.jupyter.widget-view+json": {
       "model_id": "",
       "version_major": 2,
       "version_minor": 0
      },
      "text/plain": [
       "HBox(children=(FloatProgress(value=0.0, description='Training', layout=Layout(flex='2'), max=5000.0, style=Pro…"
      ]
     },
     "metadata": {},
     "output_type": "display_data"
    },
    {
     "name": "stdout",
     "output_type": "stream",
     "text": [
      "Epoch 48: train=0.533776, val=0.347208, took 582.96 s\n"
     ]
    },
    {
     "data": {
      "application/vnd.jupyter.widget-view+json": {
       "model_id": "",
       "version_major": 2,
       "version_minor": 0
      },
      "text/plain": [
       "HBox(children=(FloatProgress(value=0.0, description='Training', layout=Layout(flex='2'), max=5000.0, style=Pro…"
      ]
     },
     "metadata": {},
     "output_type": "display_data"
    },
    {
     "name": "stdout",
     "output_type": "stream",
     "text": [
      "Epoch 49: train=0.531612, val=0.360136, took 582.43 s\n"
     ]
    },
    {
     "data": {
      "application/vnd.jupyter.widget-view+json": {
       "model_id": "",
       "version_major": 2,
       "version_minor": 0
      },
      "text/plain": [
       "HBox(children=(FloatProgress(value=0.0, description='Training', layout=Layout(flex='2'), max=5000.0, style=Pro…"
      ]
     },
     "metadata": {},
     "output_type": "display_data"
    },
    {
     "name": "stdout",
     "output_type": "stream",
     "text": [
      "Epoch 50: train=0.532333, val=0.347675, took 585.09 s\n"
     ]
    },
    {
     "data": {
      "application/vnd.jupyter.widget-view+json": {
       "model_id": "",
       "version_major": 2,
       "version_minor": 0
      },
      "text/plain": [
       "HBox(children=(FloatProgress(value=0.0, description='Training', layout=Layout(flex='2'), max=5000.0, style=Pro…"
      ]
     },
     "metadata": {},
     "output_type": "display_data"
    },
    {
     "name": "stdout",
     "output_type": "stream",
     "text": [
      "Epoch 51: train=0.532279, val=0.368296, took 583.53 s\n"
     ]
    },
    {
     "data": {
      "application/vnd.jupyter.widget-view+json": {
       "model_id": "",
       "version_major": 2,
       "version_minor": 0
      },
      "text/plain": [
       "HBox(children=(FloatProgress(value=0.0, description='Training', layout=Layout(flex='2'), max=5000.0, style=Pro…"
      ]
     },
     "metadata": {},
     "output_type": "display_data"
    },
    {
     "name": "stdout",
     "output_type": "stream",
     "text": [
      "Epoch 52: train=0.533601, val=0.348505, took 582.32 s\n"
     ]
    },
    {
     "data": {
      "application/vnd.jupyter.widget-view+json": {
       "model_id": "",
       "version_major": 2,
       "version_minor": 0
      },
      "text/plain": [
       "HBox(children=(FloatProgress(value=0.0, description='Training', layout=Layout(flex='2'), max=5000.0, style=Pro…"
      ]
     },
     "metadata": {},
     "output_type": "display_data"
    },
    {
     "name": "stdout",
     "output_type": "stream",
     "text": [
      "Epoch 53: train=0.533182, val=0.355611, took 582.05 s\n"
     ]
    },
    {
     "data": {
      "application/vnd.jupyter.widget-view+json": {
       "model_id": "",
       "version_major": 2,
       "version_minor": 0
      },
      "text/plain": [
       "HBox(children=(FloatProgress(value=0.0, description='Training', layout=Layout(flex='2'), max=5000.0, style=Pro…"
      ]
     },
     "metadata": {},
     "output_type": "display_data"
    },
    {
     "name": "stdout",
     "output_type": "stream",
     "text": [
      "Epoch 54: train=0.531603, val=0.359767, took 580.78 s\n"
     ]
    },
    {
     "data": {
      "application/vnd.jupyter.widget-view+json": {
       "model_id": "",
       "version_major": 2,
       "version_minor": 0
      },
      "text/plain": [
       "HBox(children=(FloatProgress(value=0.0, description='Training', layout=Layout(flex='2'), max=5000.0, style=Pro…"
      ]
     },
     "metadata": {},
     "output_type": "display_data"
    },
    {
     "name": "stdout",
     "output_type": "stream",
     "text": [
      "Epoch 55: train=0.530778, val=0.429439, took 580.83 s\n"
     ]
    },
    {
     "data": {
      "application/vnd.jupyter.widget-view+json": {
       "model_id": "",
       "version_major": 2,
       "version_minor": 0
      },
      "text/plain": [
       "HBox(children=(FloatProgress(value=0.0, description='Training', layout=Layout(flex='2'), max=5000.0, style=Pro…"
      ]
     },
     "metadata": {},
     "output_type": "display_data"
    },
    {
     "name": "stdout",
     "output_type": "stream",
     "text": [
      "Epoch 56: train=0.532633, val=0.371351, took 580.73 s\n"
     ]
    },
    {
     "data": {
      "application/vnd.jupyter.widget-view+json": {
       "model_id": "",
       "version_major": 2,
       "version_minor": 0
      },
      "text/plain": [
       "HBox(children=(FloatProgress(value=0.0, description='Training', layout=Layout(flex='2'), max=5000.0, style=Pro…"
      ]
     },
     "metadata": {},
     "output_type": "display_data"
    },
    {
     "name": "stdout",
     "output_type": "stream",
     "text": [
      "Epoch 57: train=0.532756, val=0.360063, took 580.78 s\n"
     ]
    },
    {
     "data": {
      "application/vnd.jupyter.widget-view+json": {
       "model_id": "",
       "version_major": 2,
       "version_minor": 0
      },
      "text/plain": [
       "HBox(children=(FloatProgress(value=0.0, description='Training', layout=Layout(flex='2'), max=5000.0, style=Pro…"
      ]
     },
     "metadata": {},
     "output_type": "display_data"
    },
    {
     "name": "stdout",
     "output_type": "stream",
     "text": [
      "Epoch 58: train=0.531308, val=0.344165, took 580.65 s\n"
     ]
    },
    {
     "data": {
      "application/vnd.jupyter.widget-view+json": {
       "model_id": "",
       "version_major": 2,
       "version_minor": 0
      },
      "text/plain": [
       "HBox(children=(FloatProgress(value=0.0, description='Training', layout=Layout(flex='2'), max=5000.0, style=Pro…"
      ]
     },
     "metadata": {},
     "output_type": "display_data"
    },
    {
     "name": "stdout",
     "output_type": "stream",
     "text": [
      "Epoch 59: train=0.532751, val=0.372225, took 580.51 s\n"
     ]
    },
    {
     "data": {
      "application/vnd.jupyter.widget-view+json": {
       "model_id": "",
       "version_major": 2,
       "version_minor": 0
      },
      "text/plain": [
       "HBox(children=(FloatProgress(value=0.0, description='Training', layout=Layout(flex='2'), max=5000.0, style=Pro…"
      ]
     },
     "metadata": {},
     "output_type": "display_data"
    },
    {
     "name": "stdout",
     "output_type": "stream",
     "text": [
      "Epoch 60: train=0.53186, val=0.344239, took 580.09 s\n"
     ]
    },
    {
     "data": {
      "application/vnd.jupyter.widget-view+json": {
       "model_id": "",
       "version_major": 2,
       "version_minor": 0
      },
      "text/plain": [
       "HBox(children=(FloatProgress(value=0.0, description='Training', layout=Layout(flex='2'), max=5000.0, style=Pro…"
      ]
     },
     "metadata": {},
     "output_type": "display_data"
    },
    {
     "name": "stdout",
     "output_type": "stream",
     "text": [
      "Epoch 61: train=0.53135, val=0.375534, took 578.97 s\n"
     ]
    },
    {
     "data": {
      "application/vnd.jupyter.widget-view+json": {
       "model_id": "",
       "version_major": 2,
       "version_minor": 0
      },
      "text/plain": [
       "HBox(children=(FloatProgress(value=0.0, description='Training', layout=Layout(flex='2'), max=5000.0, style=Pro…"
      ]
     },
     "metadata": {},
     "output_type": "display_data"
    },
    {
     "name": "stdout",
     "output_type": "stream",
     "text": [
      "Epoch 62: train=0.531964, val=0.36357, took 577.51 s\n"
     ]
    },
    {
     "data": {
      "application/vnd.jupyter.widget-view+json": {
       "model_id": "",
       "version_major": 2,
       "version_minor": 0
      },
      "text/plain": [
       "HBox(children=(FloatProgress(value=0.0, description='Training', layout=Layout(flex='2'), max=5000.0, style=Pro…"
      ]
     },
     "metadata": {},
     "output_type": "display_data"
    },
    {
     "name": "stdout",
     "output_type": "stream",
     "text": [
      "Epoch 63: train=0.534296, val=0.344276, took 577.94 s\n"
     ]
    },
    {
     "data": {
      "application/vnd.jupyter.widget-view+json": {
       "model_id": "",
       "version_major": 2,
       "version_minor": 0
      },
      "text/plain": [
       "HBox(children=(FloatProgress(value=0.0, description='Training', layout=Layout(flex='2'), max=5000.0, style=Pro…"
      ]
     },
     "metadata": {},
     "output_type": "display_data"
    },
    {
     "name": "stdout",
     "output_type": "stream",
     "text": [
      "Epoch 64: train=0.531734, val=0.343666, took 577.92 s\n"
     ]
    },
    {
     "data": {
      "application/vnd.jupyter.widget-view+json": {
       "model_id": "",
       "version_major": 2,
       "version_minor": 0
      },
      "text/plain": [
       "HBox(children=(FloatProgress(value=0.0, description='Training', layout=Layout(flex='2'), max=5000.0, style=Pro…"
      ]
     },
     "metadata": {},
     "output_type": "display_data"
    },
    {
     "name": "stdout",
     "output_type": "stream",
     "text": [
      "Epoch 65: train=0.531716, val=0.357081, took 578.05 s\n"
     ]
    },
    {
     "data": {
      "application/vnd.jupyter.widget-view+json": {
       "model_id": "",
       "version_major": 2,
       "version_minor": 0
      },
      "text/plain": [
       "HBox(children=(FloatProgress(value=0.0, description='Training', layout=Layout(flex='2'), max=5000.0, style=Pro…"
      ]
     },
     "metadata": {},
     "output_type": "display_data"
    },
    {
     "name": "stdout",
     "output_type": "stream",
     "text": [
      "Epoch 66: train=0.531915, val=0.344759, took 578.07 s\n"
     ]
    },
    {
     "data": {
      "application/vnd.jupyter.widget-view+json": {
       "model_id": "",
       "version_major": 2,
       "version_minor": 0
      },
      "text/plain": [
       "HBox(children=(FloatProgress(value=0.0, description='Training', layout=Layout(flex='2'), max=5000.0, style=Pro…"
      ]
     },
     "metadata": {},
     "output_type": "display_data"
    },
    {
     "name": "stdout",
     "output_type": "stream",
     "text": [
      "Epoch 67: train=0.529884, val=0.359143, took 577.46 s\n"
     ]
    },
    {
     "data": {
      "application/vnd.jupyter.widget-view+json": {
       "model_id": "",
       "version_major": 2,
       "version_minor": 0
      },
      "text/plain": [
       "HBox(children=(FloatProgress(value=0.0, description='Training', layout=Layout(flex='2'), max=5000.0, style=Pro…"
      ]
     },
     "metadata": {},
     "output_type": "display_data"
    },
    {
     "name": "stdout",
     "output_type": "stream",
     "text": [
      "Epoch 68: train=0.534377, val=0.358415, took 578.16 s\n"
     ]
    },
    {
     "data": {
      "application/vnd.jupyter.widget-view+json": {
       "model_id": "",
       "version_major": 2,
       "version_minor": 0
      },
      "text/plain": [
       "HBox(children=(FloatProgress(value=0.0, description='Training', layout=Layout(flex='2'), max=5000.0, style=Pro…"
      ]
     },
     "metadata": {},
     "output_type": "display_data"
    },
    {
     "name": "stdout",
     "output_type": "stream",
     "text": [
      "Epoch 69: train=0.531002, val=0.343535, took 577.35 s\n"
     ]
    },
    {
     "data": {
      "application/vnd.jupyter.widget-view+json": {
       "model_id": "",
       "version_major": 2,
       "version_minor": 0
      },
      "text/plain": [
       "HBox(children=(FloatProgress(value=0.0, description='Training', layout=Layout(flex='2'), max=5000.0, style=Pro…"
      ]
     },
     "metadata": {},
     "output_type": "display_data"
    },
    {
     "name": "stdout",
     "output_type": "stream",
     "text": [
      "Epoch 70: train=0.530671, val=0.346936, took 577.74 s\n"
     ]
    },
    {
     "data": {
      "application/vnd.jupyter.widget-view+json": {
       "model_id": "",
       "version_major": 2,
       "version_minor": 0
      },
      "text/plain": [
       "HBox(children=(FloatProgress(value=0.0, description='Training', layout=Layout(flex='2'), max=5000.0, style=Pro…"
      ]
     },
     "metadata": {},
     "output_type": "display_data"
    },
    {
     "name": "stdout",
     "output_type": "stream",
     "text": [
      "Epoch 71: train=0.530492, val=0.346669, took 578.02 s\n"
     ]
    },
    {
     "data": {
      "application/vnd.jupyter.widget-view+json": {
       "model_id": "",
       "version_major": 2,
       "version_minor": 0
      },
      "text/plain": [
       "HBox(children=(FloatProgress(value=0.0, description='Training', layout=Layout(flex='2'), max=5000.0, style=Pro…"
      ]
     },
     "metadata": {},
     "output_type": "display_data"
    },
    {
     "name": "stdout",
     "output_type": "stream",
     "text": [
      "Epoch 72: train=0.530893, val=0.350341, took 577.72 s\n"
     ]
    },
    {
     "data": {
      "application/vnd.jupyter.widget-view+json": {
       "model_id": "",
       "version_major": 2,
       "version_minor": 0
      },
      "text/plain": [
       "HBox(children=(FloatProgress(value=0.0, description='Training', layout=Layout(flex='2'), max=5000.0, style=Pro…"
      ]
     },
     "metadata": {},
     "output_type": "display_data"
    },
    {
     "name": "stdout",
     "output_type": "stream",
     "text": [
      "Epoch 73: train=0.531271, val=0.345013, took 578.04 s\n"
     ]
    },
    {
     "data": {
      "application/vnd.jupyter.widget-view+json": {
       "model_id": "",
       "version_major": 2,
       "version_minor": 0
      },
      "text/plain": [
       "HBox(children=(FloatProgress(value=0.0, description='Training', layout=Layout(flex='2'), max=5000.0, style=Pro…"
      ]
     },
     "metadata": {},
     "output_type": "display_data"
    },
    {
     "name": "stdout",
     "output_type": "stream",
     "text": [
      "Epoch 74: train=0.531516, val=0.443757, took 578.25 s\n"
     ]
    },
    {
     "data": {
      "application/vnd.jupyter.widget-view+json": {
       "model_id": "",
       "version_major": 2,
       "version_minor": 0
      },
      "text/plain": [
       "HBox(children=(FloatProgress(value=0.0, description='Training', layout=Layout(flex='2'), max=5000.0, style=Pro…"
      ]
     },
     "metadata": {},
     "output_type": "display_data"
    },
    {
     "name": "stdout",
     "output_type": "stream",
     "text": [
      "Epoch 75: train=0.529902, val=0.347236, took 578.07 s\n"
     ]
    },
    {
     "data": {
      "application/vnd.jupyter.widget-view+json": {
       "model_id": "",
       "version_major": 2,
       "version_minor": 0
      },
      "text/plain": [
       "HBox(children=(FloatProgress(value=0.0, description='Training', layout=Layout(flex='2'), max=5000.0, style=Pro…"
      ]
     },
     "metadata": {},
     "output_type": "display_data"
    },
    {
     "name": "stdout",
     "output_type": "stream",
     "text": [
      "Epoch 76: train=0.532232, val=0.346101, took 578.05 s\n"
     ]
    },
    {
     "data": {
      "application/vnd.jupyter.widget-view+json": {
       "model_id": "",
       "version_major": 2,
       "version_minor": 0
      },
      "text/plain": [
       "HBox(children=(FloatProgress(value=0.0, description='Training', layout=Layout(flex='2'), max=5000.0, style=Pro…"
      ]
     },
     "metadata": {},
     "output_type": "display_data"
    },
    {
     "name": "stdout",
     "output_type": "stream",
     "text": [
      "Epoch 77: train=0.530111, val=0.365446, took 578.64 s\n"
     ]
    },
    {
     "data": {
      "application/vnd.jupyter.widget-view+json": {
       "model_id": "",
       "version_major": 2,
       "version_minor": 0
      },
      "text/plain": [
       "HBox(children=(FloatProgress(value=0.0, description='Training', layout=Layout(flex='2'), max=5000.0, style=Pro…"
      ]
     },
     "metadata": {},
     "output_type": "display_data"
    },
    {
     "name": "stdout",
     "output_type": "stream",
     "text": [
      "Epoch 78: train=0.529248, val=0.361166, took 577.66 s\n"
     ]
    },
    {
     "data": {
      "application/vnd.jupyter.widget-view+json": {
       "model_id": "",
       "version_major": 2,
       "version_minor": 0
      },
      "text/plain": [
       "HBox(children=(FloatProgress(value=0.0, description='Training', layout=Layout(flex='2'), max=5000.0, style=Pro…"
      ]
     },
     "metadata": {},
     "output_type": "display_data"
    },
    {
     "name": "stdout",
     "output_type": "stream",
     "text": [
      "Epoch 79: train=0.530373, val=0.34696, took 577.98 s\n"
     ]
    },
    {
     "data": {
      "application/vnd.jupyter.widget-view+json": {
       "model_id": "",
       "version_major": 2,
       "version_minor": 0
      },
      "text/plain": [
       "HBox(children=(FloatProgress(value=0.0, description='Training', layout=Layout(flex='2'), max=5000.0, style=Pro…"
      ]
     },
     "metadata": {},
     "output_type": "display_data"
    },
    {
     "name": "stdout",
     "output_type": "stream",
     "text": [
      "Epoch 80: train=0.529698, val=0.346926, took 577.51 s\n"
     ]
    },
    {
     "data": {
      "application/vnd.jupyter.widget-view+json": {
       "model_id": "",
       "version_major": 2,
       "version_minor": 0
      },
      "text/plain": [
       "HBox(children=(FloatProgress(value=0.0, description='Training', layout=Layout(flex='2'), max=5000.0, style=Pro…"
      ]
     },
     "metadata": {},
     "output_type": "display_data"
    },
    {
     "name": "stdout",
     "output_type": "stream",
     "text": [
      "Epoch 81: train=0.528623, val=0.353955, took 577.79 s\n"
     ]
    },
    {
     "data": {
      "application/vnd.jupyter.widget-view+json": {
       "model_id": "",
       "version_major": 2,
       "version_minor": 0
      },
      "text/plain": [
       "HBox(children=(FloatProgress(value=0.0, description='Training', layout=Layout(flex='2'), max=5000.0, style=Pro…"
      ]
     },
     "metadata": {},
     "output_type": "display_data"
    },
    {
     "name": "stdout",
     "output_type": "stream",
     "text": [
      "Epoch 82: train=0.530167, val=0.344214, took 578.21 s\n"
     ]
    },
    {
     "data": {
      "application/vnd.jupyter.widget-view+json": {
       "model_id": "",
       "version_major": 2,
       "version_minor": 0
      },
      "text/plain": [
       "HBox(children=(FloatProgress(value=0.0, description='Training', layout=Layout(flex='2'), max=5000.0, style=Pro…"
      ]
     },
     "metadata": {},
     "output_type": "display_data"
    },
    {
     "name": "stdout",
     "output_type": "stream",
     "text": [
      "Epoch 83: train=0.52889, val=0.35885, took 578.79 s\n"
     ]
    },
    {
     "data": {
      "application/vnd.jupyter.widget-view+json": {
       "model_id": "",
       "version_major": 2,
       "version_minor": 0
      },
      "text/plain": [
       "HBox(children=(FloatProgress(value=0.0, description='Training', layout=Layout(flex='2'), max=5000.0, style=Pro…"
      ]
     },
     "metadata": {},
     "output_type": "display_data"
    },
    {
     "name": "stdout",
     "output_type": "stream",
     "text": [
      "Epoch 84: train=0.530294, val=0.344713, took 577.72 s\n"
     ]
    },
    {
     "data": {
      "application/vnd.jupyter.widget-view+json": {
       "model_id": "",
       "version_major": 2,
       "version_minor": 0
      },
      "text/plain": [
       "HBox(children=(FloatProgress(value=0.0, description='Training', layout=Layout(flex='2'), max=5000.0, style=Pro…"
      ]
     },
     "metadata": {},
     "output_type": "display_data"
    },
    {
     "name": "stdout",
     "output_type": "stream",
     "text": [
      "Epoch 85: train=0.530158, val=0.356765, took 578.23 s\n"
     ]
    },
    {
     "data": {
      "application/vnd.jupyter.widget-view+json": {
       "model_id": "",
       "version_major": 2,
       "version_minor": 0
      },
      "text/plain": [
       "HBox(children=(FloatProgress(value=0.0, description='Training', layout=Layout(flex='2'), max=5000.0, style=Pro…"
      ]
     },
     "metadata": {},
     "output_type": "display_data"
    },
    {
     "name": "stdout",
     "output_type": "stream",
     "text": [
      "Epoch 86: train=0.529517, val=0.344512, took 578.11 s\n"
     ]
    },
    {
     "data": {
      "application/vnd.jupyter.widget-view+json": {
       "model_id": "",
       "version_major": 2,
       "version_minor": 0
      },
      "text/plain": [
       "HBox(children=(FloatProgress(value=0.0, description='Training', layout=Layout(flex='2'), max=5000.0, style=Pro…"
      ]
     },
     "metadata": {},
     "output_type": "display_data"
    },
    {
     "name": "stdout",
     "output_type": "stream",
     "text": [
      "Epoch 87: train=0.529776, val=0.349613, took 578.24 s\n"
     ]
    },
    {
     "data": {
      "application/vnd.jupyter.widget-view+json": {
       "model_id": "",
       "version_major": 2,
       "version_minor": 0
      },
      "text/plain": [
       "HBox(children=(FloatProgress(value=0.0, description='Training', layout=Layout(flex='2'), max=5000.0, style=Pro…"
      ]
     },
     "metadata": {},
     "output_type": "display_data"
    },
    {
     "name": "stdout",
     "output_type": "stream",
     "text": [
      "Epoch 88: train=0.530039, val=0.345609, took 578.12 s\n"
     ]
    },
    {
     "data": {
      "application/vnd.jupyter.widget-view+json": {
       "model_id": "",
       "version_major": 2,
       "version_minor": 0
      },
      "text/plain": [
       "HBox(children=(FloatProgress(value=0.0, description='Training', layout=Layout(flex='2'), max=5000.0, style=Pro…"
      ]
     },
     "metadata": {},
     "output_type": "display_data"
    },
    {
     "name": "stdout",
     "output_type": "stream",
     "text": [
      "Epoch 89: train=0.527204, val=0.34426, took 578.08 s\n"
     ]
    },
    {
     "data": {
      "application/vnd.jupyter.widget-view+json": {
       "model_id": "",
       "version_major": 2,
       "version_minor": 0
      },
      "text/plain": [
       "HBox(children=(FloatProgress(value=0.0, description='Training', layout=Layout(flex='2'), max=5000.0, style=Pro…"
      ]
     },
     "metadata": {},
     "output_type": "display_data"
    },
    {
     "name": "stdout",
     "output_type": "stream",
     "text": [
      "Epoch 90: train=0.530779, val=0.342638, took 578.04 s\n"
     ]
    },
    {
     "data": {
      "application/vnd.jupyter.widget-view+json": {
       "model_id": "",
       "version_major": 2,
       "version_minor": 0
      },
      "text/plain": [
       "HBox(children=(FloatProgress(value=0.0, description='Training', layout=Layout(flex='2'), max=5000.0, style=Pro…"
      ]
     },
     "metadata": {},
     "output_type": "display_data"
    },
    {
     "name": "stdout",
     "output_type": "stream",
     "text": [
      "Epoch 91: train=0.5294, val=0.343171, took 577.61 s\n"
     ]
    },
    {
     "data": {
      "application/vnd.jupyter.widget-view+json": {
       "model_id": "",
       "version_major": 2,
       "version_minor": 0
      },
      "text/plain": [
       "HBox(children=(FloatProgress(value=0.0, description='Training', layout=Layout(flex='2'), max=5000.0, style=Pro…"
      ]
     },
     "metadata": {},
     "output_type": "display_data"
    },
    {
     "name": "stdout",
     "output_type": "stream",
     "text": [
      "Epoch 92: train=0.530175, val=0.343965, took 577.48 s\n"
     ]
    },
    {
     "data": {
      "application/vnd.jupyter.widget-view+json": {
       "model_id": "",
       "version_major": 2,
       "version_minor": 0
      },
      "text/plain": [
       "HBox(children=(FloatProgress(value=0.0, description='Training', layout=Layout(flex='2'), max=5000.0, style=Pro…"
      ]
     },
     "metadata": {},
     "output_type": "display_data"
    },
    {
     "name": "stdout",
     "output_type": "stream",
     "text": [
      "Epoch 93: train=0.528505, val=0.344708, took 577.43 s\n"
     ]
    },
    {
     "data": {
      "application/vnd.jupyter.widget-view+json": {
       "model_id": "",
       "version_major": 2,
       "version_minor": 0
      },
      "text/plain": [
       "HBox(children=(FloatProgress(value=0.0, description='Training', layout=Layout(flex='2'), max=5000.0, style=Pro…"
      ]
     },
     "metadata": {},
     "output_type": "display_data"
    },
    {
     "name": "stdout",
     "output_type": "stream",
     "text": [
      "Epoch 94: train=0.528231, val=0.34736, took 578.08 s\n"
     ]
    },
    {
     "data": {
      "application/vnd.jupyter.widget-view+json": {
       "model_id": "",
       "version_major": 2,
       "version_minor": 0
      },
      "text/plain": [
       "HBox(children=(FloatProgress(value=0.0, description='Training', layout=Layout(flex='2'), max=5000.0, style=Pro…"
      ]
     },
     "metadata": {},
     "output_type": "display_data"
    },
    {
     "name": "stdout",
     "output_type": "stream",
     "text": [
      "Epoch 95: train=0.527319, val=0.356039, took 578.0 s\n"
     ]
    },
    {
     "data": {
      "application/vnd.jupyter.widget-view+json": {
       "model_id": "",
       "version_major": 2,
       "version_minor": 0
      },
      "text/plain": [
       "HBox(children=(FloatProgress(value=0.0, description='Training', layout=Layout(flex='2'), max=5000.0, style=Pro…"
      ]
     },
     "metadata": {},
     "output_type": "display_data"
    },
    {
     "name": "stdout",
     "output_type": "stream",
     "text": [
      "Epoch 96: train=0.529509, val=0.347602, took 578.57 s\n"
     ]
    },
    {
     "data": {
      "application/vnd.jupyter.widget-view+json": {
       "model_id": "",
       "version_major": 2,
       "version_minor": 0
      },
      "text/plain": [
       "HBox(children=(FloatProgress(value=0.0, description='Training', layout=Layout(flex='2'), max=5000.0, style=Pro…"
      ]
     },
     "metadata": {},
     "output_type": "display_data"
    },
    {
     "name": "stdout",
     "output_type": "stream",
     "text": [
      "Epoch 97: train=0.527187, val=0.342076, took 577.91 s\n"
     ]
    },
    {
     "data": {
      "application/vnd.jupyter.widget-view+json": {
       "model_id": "",
       "version_major": 2,
       "version_minor": 0
      },
      "text/plain": [
       "HBox(children=(FloatProgress(value=0.0, description='Training', layout=Layout(flex='2'), max=5000.0, style=Pro…"
      ]
     },
     "metadata": {},
     "output_type": "display_data"
    },
    {
     "name": "stdout",
     "output_type": "stream",
     "text": [
      "Epoch 98: train=0.529058, val=0.349094, took 578.2 s\n"
     ]
    },
    {
     "data": {
      "application/vnd.jupyter.widget-view+json": {
       "model_id": "",
       "version_major": 2,
       "version_minor": 0
      },
      "text/plain": [
       "HBox(children=(FloatProgress(value=0.0, description='Training', layout=Layout(flex='2'), max=5000.0, style=Pro…"
      ]
     },
     "metadata": {},
     "output_type": "display_data"
    },
    {
     "name": "stdout",
     "output_type": "stream",
     "text": [
      "Epoch 99: train=0.529481, val=0.343537, took 577.53 s\n",
      "\n"
     ]
    }
   ],
   "source": [
    "for result in trainNet(model, optimizer, loss,\n",
    "                        train_loader, val_loader,\n",
    "                        n_epochs, epoch_start=len(results),\n",
    "                        notebook=True):\n",
    "    \n",
    "    results = results.append(pd.Series(result._asdict()), ignore_index=True)\n",
    "    xs = results.index\n",
    "    \n",
    "    # Update the plot above\n",
    "    lines['train'].set_data(results.index,results.cost)\n",
    "    lines['val'].set_data(results.index,results.val)\n",
    "    \n",
    "    #filter first cost epoch (can be really large)\n",
    "    max_cost = max(max(results.cost if len(results.cost)<2 else results.cost[1:]), max(results.val))\n",
    "    min_cost = min(min(results.cost), min(results.val))\n",
    "    \n",
    "    # The plot limits need updating too\n",
    "    \n",
    "    \n",
    "    \n",
    "    ax.set_ylim(min_cost*.9, max_cost*1.1)  \n",
    "    ax.set_xlim(-.5, len(results.cost) - .5)\n",
    "\n",
    "    \n",
    "    # Redraw the figure\n",
    "    fig.canvas.draw()\n",
    "\n",
    "    # Save each model state dictionary\n",
    "    torch.save(model.state_dict(), output / f'{name}_{result.epoch}.pyt')"
   ]
  },
  {
   "cell_type": "markdown",
   "metadata": {},
   "source": [
    "Go ahead and save the final model (even though it was also saved above):"
   ]
  },
  {
   "cell_type": "code",
   "execution_count": 19,
   "metadata": {},
   "outputs": [],
   "source": [
    "torch.save(model.state_dict(), output / f'{name}_final.pyt')"
   ]
  },
  {
   "cell_type": "markdown",
   "metadata": {},
   "source": [
    "Save the output results:"
   ]
  },
  {
   "cell_type": "code",
   "execution_count": 20,
   "metadata": {},
   "outputs": [],
   "source": [
    "results.to_hdf(output / f'{name}_stats.hdf5', 'results')"
   ]
  },
  {
   "cell_type": "markdown",
   "metadata": {},
   "source": [
    "Save the plot above:"
   ]
  },
  {
   "cell_type": "code",
   "execution_count": 21,
   "metadata": {},
   "outputs": [
    {
     "data": {
      "application/javascript": [
       "/* Put everything inside the global mpl namespace */\n",
       "window.mpl = {};\n",
       "\n",
       "\n",
       "mpl.get_websocket_type = function() {\n",
       "    if (typeof(WebSocket) !== 'undefined') {\n",
       "        return WebSocket;\n",
       "    } else if (typeof(MozWebSocket) !== 'undefined') {\n",
       "        return MozWebSocket;\n",
       "    } else {\n",
       "        alert('Your browser does not have WebSocket support. ' +\n",
       "              'Please try Chrome, Safari or Firefox ≥ 6. ' +\n",
       "              'Firefox 4 and 5 are also supported but you ' +\n",
       "              'have to enable WebSockets in about:config.');\n",
       "    };\n",
       "}\n",
       "\n",
       "mpl.figure = function(figure_id, websocket, ondownload, parent_element) {\n",
       "    this.id = figure_id;\n",
       "\n",
       "    this.ws = websocket;\n",
       "\n",
       "    this.supports_binary = (this.ws.binaryType != undefined);\n",
       "\n",
       "    if (!this.supports_binary) {\n",
       "        var warnings = document.getElementById(\"mpl-warnings\");\n",
       "        if (warnings) {\n",
       "            warnings.style.display = 'block';\n",
       "            warnings.textContent = (\n",
       "                \"This browser does not support binary websocket messages. \" +\n",
       "                    \"Performance may be slow.\");\n",
       "        }\n",
       "    }\n",
       "\n",
       "    this.imageObj = new Image();\n",
       "\n",
       "    this.context = undefined;\n",
       "    this.message = undefined;\n",
       "    this.canvas = undefined;\n",
       "    this.rubberband_canvas = undefined;\n",
       "    this.rubberband_context = undefined;\n",
       "    this.format_dropdown = undefined;\n",
       "\n",
       "    this.image_mode = 'full';\n",
       "\n",
       "    this.root = $('<div/>');\n",
       "    this._root_extra_style(this.root)\n",
       "    this.root.attr('style', 'display: inline-block');\n",
       "\n",
       "    $(parent_element).append(this.root);\n",
       "\n",
       "    this._init_header(this);\n",
       "    this._init_canvas(this);\n",
       "    this._init_toolbar(this);\n",
       "\n",
       "    var fig = this;\n",
       "\n",
       "    this.waiting = false;\n",
       "\n",
       "    this.ws.onopen =  function () {\n",
       "            fig.send_message(\"supports_binary\", {value: fig.supports_binary});\n",
       "            fig.send_message(\"send_image_mode\", {});\n",
       "            if (mpl.ratio != 1) {\n",
       "                fig.send_message(\"set_dpi_ratio\", {'dpi_ratio': mpl.ratio});\n",
       "            }\n",
       "            fig.send_message(\"refresh\", {});\n",
       "        }\n",
       "\n",
       "    this.imageObj.onload = function() {\n",
       "            if (fig.image_mode == 'full') {\n",
       "                // Full images could contain transparency (where diff images\n",
       "                // almost always do), so we need to clear the canvas so that\n",
       "                // there is no ghosting.\n",
       "                fig.context.clearRect(0, 0, fig.canvas.width, fig.canvas.height);\n",
       "            }\n",
       "            fig.context.drawImage(fig.imageObj, 0, 0);\n",
       "        };\n",
       "\n",
       "    this.imageObj.onunload = function() {\n",
       "        fig.ws.close();\n",
       "    }\n",
       "\n",
       "    this.ws.onmessage = this._make_on_message_function(this);\n",
       "\n",
       "    this.ondownload = ondownload;\n",
       "}\n",
       "\n",
       "mpl.figure.prototype._init_header = function() {\n",
       "    var titlebar = $(\n",
       "        '<div class=\"ui-dialog-titlebar ui-widget-header ui-corner-all ' +\n",
       "        'ui-helper-clearfix\"/>');\n",
       "    var titletext = $(\n",
       "        '<div class=\"ui-dialog-title\" style=\"width: 100%; ' +\n",
       "        'text-align: center; padding: 3px;\"/>');\n",
       "    titlebar.append(titletext)\n",
       "    this.root.append(titlebar);\n",
       "    this.header = titletext[0];\n",
       "}\n",
       "\n",
       "\n",
       "\n",
       "mpl.figure.prototype._canvas_extra_style = function(canvas_div) {\n",
       "\n",
       "}\n",
       "\n",
       "\n",
       "mpl.figure.prototype._root_extra_style = function(canvas_div) {\n",
       "\n",
       "}\n",
       "\n",
       "mpl.figure.prototype._init_canvas = function() {\n",
       "    var fig = this;\n",
       "\n",
       "    var canvas_div = $('<div/>');\n",
       "\n",
       "    canvas_div.attr('style', 'position: relative; clear: both; outline: 0');\n",
       "\n",
       "    function canvas_keyboard_event(event) {\n",
       "        return fig.key_event(event, event['data']);\n",
       "    }\n",
       "\n",
       "    canvas_div.keydown('key_press', canvas_keyboard_event);\n",
       "    canvas_div.keyup('key_release', canvas_keyboard_event);\n",
       "    this.canvas_div = canvas_div\n",
       "    this._canvas_extra_style(canvas_div)\n",
       "    this.root.append(canvas_div);\n",
       "\n",
       "    var canvas = $('<canvas/>');\n",
       "    canvas.addClass('mpl-canvas');\n",
       "    canvas.attr('style', \"left: 0; top: 0; z-index: 0; outline: 0\")\n",
       "\n",
       "    this.canvas = canvas[0];\n",
       "    this.context = canvas[0].getContext(\"2d\");\n",
       "\n",
       "    var backingStore = this.context.backingStorePixelRatio ||\n",
       "\tthis.context.webkitBackingStorePixelRatio ||\n",
       "\tthis.context.mozBackingStorePixelRatio ||\n",
       "\tthis.context.msBackingStorePixelRatio ||\n",
       "\tthis.context.oBackingStorePixelRatio ||\n",
       "\tthis.context.backingStorePixelRatio || 1;\n",
       "\n",
       "    mpl.ratio = (window.devicePixelRatio || 1) / backingStore;\n",
       "\n",
       "    var rubberband = $('<canvas/>');\n",
       "    rubberband.attr('style', \"position: absolute; left: 0; top: 0; z-index: 1;\")\n",
       "\n",
       "    var pass_mouse_events = true;\n",
       "\n",
       "    canvas_div.resizable({\n",
       "        start: function(event, ui) {\n",
       "            pass_mouse_events = false;\n",
       "        },\n",
       "        resize: function(event, ui) {\n",
       "            fig.request_resize(ui.size.width, ui.size.height);\n",
       "        },\n",
       "        stop: function(event, ui) {\n",
       "            pass_mouse_events = true;\n",
       "            fig.request_resize(ui.size.width, ui.size.height);\n",
       "        },\n",
       "    });\n",
       "\n",
       "    function mouse_event_fn(event) {\n",
       "        if (pass_mouse_events)\n",
       "            return fig.mouse_event(event, event['data']);\n",
       "    }\n",
       "\n",
       "    rubberband.mousedown('button_press', mouse_event_fn);\n",
       "    rubberband.mouseup('button_release', mouse_event_fn);\n",
       "    // Throttle sequential mouse events to 1 every 20ms.\n",
       "    rubberband.mousemove('motion_notify', mouse_event_fn);\n",
       "\n",
       "    rubberband.mouseenter('figure_enter', mouse_event_fn);\n",
       "    rubberband.mouseleave('figure_leave', mouse_event_fn);\n",
       "\n",
       "    canvas_div.on(\"wheel\", function (event) {\n",
       "        event = event.originalEvent;\n",
       "        event['data'] = 'scroll'\n",
       "        if (event.deltaY < 0) {\n",
       "            event.step = 1;\n",
       "        } else {\n",
       "            event.step = -1;\n",
       "        }\n",
       "        mouse_event_fn(event);\n",
       "    });\n",
       "\n",
       "    canvas_div.append(canvas);\n",
       "    canvas_div.append(rubberband);\n",
       "\n",
       "    this.rubberband = rubberband;\n",
       "    this.rubberband_canvas = rubberband[0];\n",
       "    this.rubberband_context = rubberband[0].getContext(\"2d\");\n",
       "    this.rubberband_context.strokeStyle = \"#000000\";\n",
       "\n",
       "    this._resize_canvas = function(width, height) {\n",
       "        // Keep the size of the canvas, canvas container, and rubber band\n",
       "        // canvas in synch.\n",
       "        canvas_div.css('width', width)\n",
       "        canvas_div.css('height', height)\n",
       "\n",
       "        canvas.attr('width', width * mpl.ratio);\n",
       "        canvas.attr('height', height * mpl.ratio);\n",
       "        canvas.attr('style', 'width: ' + width + 'px; height: ' + height + 'px;');\n",
       "\n",
       "        rubberband.attr('width', width);\n",
       "        rubberband.attr('height', height);\n",
       "    }\n",
       "\n",
       "    // Set the figure to an initial 600x600px, this will subsequently be updated\n",
       "    // upon first draw.\n",
       "    this._resize_canvas(600, 600);\n",
       "\n",
       "    // Disable right mouse context menu.\n",
       "    $(this.rubberband_canvas).bind(\"contextmenu\",function(e){\n",
       "        return false;\n",
       "    });\n",
       "\n",
       "    function set_focus () {\n",
       "        canvas.focus();\n",
       "        canvas_div.focus();\n",
       "    }\n",
       "\n",
       "    window.setTimeout(set_focus, 100);\n",
       "}\n",
       "\n",
       "mpl.figure.prototype._init_toolbar = function() {\n",
       "    var fig = this;\n",
       "\n",
       "    var nav_element = $('<div/>');\n",
       "    nav_element.attr('style', 'width: 100%');\n",
       "    this.root.append(nav_element);\n",
       "\n",
       "    // Define a callback function for later on.\n",
       "    function toolbar_event(event) {\n",
       "        return fig.toolbar_button_onclick(event['data']);\n",
       "    }\n",
       "    function toolbar_mouse_event(event) {\n",
       "        return fig.toolbar_button_onmouseover(event['data']);\n",
       "    }\n",
       "\n",
       "    for(var toolbar_ind in mpl.toolbar_items) {\n",
       "        var name = mpl.toolbar_items[toolbar_ind][0];\n",
       "        var tooltip = mpl.toolbar_items[toolbar_ind][1];\n",
       "        var image = mpl.toolbar_items[toolbar_ind][2];\n",
       "        var method_name = mpl.toolbar_items[toolbar_ind][3];\n",
       "\n",
       "        if (!name) {\n",
       "            // put a spacer in here.\n",
       "            continue;\n",
       "        }\n",
       "        var button = $('<button/>');\n",
       "        button.addClass('ui-button ui-widget ui-state-default ui-corner-all ' +\n",
       "                        'ui-button-icon-only');\n",
       "        button.attr('role', 'button');\n",
       "        button.attr('aria-disabled', 'false');\n",
       "        button.click(method_name, toolbar_event);\n",
       "        button.mouseover(tooltip, toolbar_mouse_event);\n",
       "\n",
       "        var icon_img = $('<span/>');\n",
       "        icon_img.addClass('ui-button-icon-primary ui-icon');\n",
       "        icon_img.addClass(image);\n",
       "        icon_img.addClass('ui-corner-all');\n",
       "\n",
       "        var tooltip_span = $('<span/>');\n",
       "        tooltip_span.addClass('ui-button-text');\n",
       "        tooltip_span.html(tooltip);\n",
       "\n",
       "        button.append(icon_img);\n",
       "        button.append(tooltip_span);\n",
       "\n",
       "        nav_element.append(button);\n",
       "    }\n",
       "\n",
       "    var fmt_picker_span = $('<span/>');\n",
       "\n",
       "    var fmt_picker = $('<select/>');\n",
       "    fmt_picker.addClass('mpl-toolbar-option ui-widget ui-widget-content');\n",
       "    fmt_picker_span.append(fmt_picker);\n",
       "    nav_element.append(fmt_picker_span);\n",
       "    this.format_dropdown = fmt_picker[0];\n",
       "\n",
       "    for (var ind in mpl.extensions) {\n",
       "        var fmt = mpl.extensions[ind];\n",
       "        var option = $(\n",
       "            '<option/>', {selected: fmt === mpl.default_extension}).html(fmt);\n",
       "        fmt_picker.append(option);\n",
       "    }\n",
       "\n",
       "    // Add hover states to the ui-buttons\n",
       "    $( \".ui-button\" ).hover(\n",
       "        function() { $(this).addClass(\"ui-state-hover\");},\n",
       "        function() { $(this).removeClass(\"ui-state-hover\");}\n",
       "    );\n",
       "\n",
       "    var status_bar = $('<span class=\"mpl-message\"/>');\n",
       "    nav_element.append(status_bar);\n",
       "    this.message = status_bar[0];\n",
       "}\n",
       "\n",
       "mpl.figure.prototype.request_resize = function(x_pixels, y_pixels) {\n",
       "    // Request matplotlib to resize the figure. Matplotlib will then trigger a resize in the client,\n",
       "    // which will in turn request a refresh of the image.\n",
       "    this.send_message('resize', {'width': x_pixels, 'height': y_pixels});\n",
       "}\n",
       "\n",
       "mpl.figure.prototype.send_message = function(type, properties) {\n",
       "    properties['type'] = type;\n",
       "    properties['figure_id'] = this.id;\n",
       "    this.ws.send(JSON.stringify(properties));\n",
       "}\n",
       "\n",
       "mpl.figure.prototype.send_draw_message = function() {\n",
       "    if (!this.waiting) {\n",
       "        this.waiting = true;\n",
       "        this.ws.send(JSON.stringify({type: \"draw\", figure_id: this.id}));\n",
       "    }\n",
       "}\n",
       "\n",
       "\n",
       "mpl.figure.prototype.handle_save = function(fig, msg) {\n",
       "    var format_dropdown = fig.format_dropdown;\n",
       "    var format = format_dropdown.options[format_dropdown.selectedIndex].value;\n",
       "    fig.ondownload(fig, format);\n",
       "}\n",
       "\n",
       "\n",
       "mpl.figure.prototype.handle_resize = function(fig, msg) {\n",
       "    var size = msg['size'];\n",
       "    if (size[0] != fig.canvas.width || size[1] != fig.canvas.height) {\n",
       "        fig._resize_canvas(size[0], size[1]);\n",
       "        fig.send_message(\"refresh\", {});\n",
       "    };\n",
       "}\n",
       "\n",
       "mpl.figure.prototype.handle_rubberband = function(fig, msg) {\n",
       "    var x0 = msg['x0'] / mpl.ratio;\n",
       "    var y0 = (fig.canvas.height - msg['y0']) / mpl.ratio;\n",
       "    var x1 = msg['x1'] / mpl.ratio;\n",
       "    var y1 = (fig.canvas.height - msg['y1']) / mpl.ratio;\n",
       "    x0 = Math.floor(x0) + 0.5;\n",
       "    y0 = Math.floor(y0) + 0.5;\n",
       "    x1 = Math.floor(x1) + 0.5;\n",
       "    y1 = Math.floor(y1) + 0.5;\n",
       "    var min_x = Math.min(x0, x1);\n",
       "    var min_y = Math.min(y0, y1);\n",
       "    var width = Math.abs(x1 - x0);\n",
       "    var height = Math.abs(y1 - y0);\n",
       "\n",
       "    fig.rubberband_context.clearRect(\n",
       "        0, 0, fig.canvas.width / mpl.ratio, fig.canvas.height / mpl.ratio);\n",
       "\n",
       "    fig.rubberband_context.strokeRect(min_x, min_y, width, height);\n",
       "}\n",
       "\n",
       "mpl.figure.prototype.handle_figure_label = function(fig, msg) {\n",
       "    // Updates the figure title.\n",
       "    fig.header.textContent = msg['label'];\n",
       "}\n",
       "\n",
       "mpl.figure.prototype.handle_cursor = function(fig, msg) {\n",
       "    var cursor = msg['cursor'];\n",
       "    switch(cursor)\n",
       "    {\n",
       "    case 0:\n",
       "        cursor = 'pointer';\n",
       "        break;\n",
       "    case 1:\n",
       "        cursor = 'default';\n",
       "        break;\n",
       "    case 2:\n",
       "        cursor = 'crosshair';\n",
       "        break;\n",
       "    case 3:\n",
       "        cursor = 'move';\n",
       "        break;\n",
       "    }\n",
       "    fig.rubberband_canvas.style.cursor = cursor;\n",
       "}\n",
       "\n",
       "mpl.figure.prototype.handle_message = function(fig, msg) {\n",
       "    fig.message.textContent = msg['message'];\n",
       "}\n",
       "\n",
       "mpl.figure.prototype.handle_draw = function(fig, msg) {\n",
       "    // Request the server to send over a new figure.\n",
       "    fig.send_draw_message();\n",
       "}\n",
       "\n",
       "mpl.figure.prototype.handle_image_mode = function(fig, msg) {\n",
       "    fig.image_mode = msg['mode'];\n",
       "}\n",
       "\n",
       "mpl.figure.prototype.updated_canvas_event = function() {\n",
       "    // Called whenever the canvas gets updated.\n",
       "    this.send_message(\"ack\", {});\n",
       "}\n",
       "\n",
       "// A function to construct a web socket function for onmessage handling.\n",
       "// Called in the figure constructor.\n",
       "mpl.figure.prototype._make_on_message_function = function(fig) {\n",
       "    return function socket_on_message(evt) {\n",
       "        if (evt.data instanceof Blob) {\n",
       "            /* FIXME: We get \"Resource interpreted as Image but\n",
       "             * transferred with MIME type text/plain:\" errors on\n",
       "             * Chrome.  But how to set the MIME type?  It doesn't seem\n",
       "             * to be part of the websocket stream */\n",
       "            evt.data.type = \"image/png\";\n",
       "\n",
       "            /* Free the memory for the previous frames */\n",
       "            if (fig.imageObj.src) {\n",
       "                (window.URL || window.webkitURL).revokeObjectURL(\n",
       "                    fig.imageObj.src);\n",
       "            }\n",
       "\n",
       "            fig.imageObj.src = (window.URL || window.webkitURL).createObjectURL(\n",
       "                evt.data);\n",
       "            fig.updated_canvas_event();\n",
       "            fig.waiting = false;\n",
       "            return;\n",
       "        }\n",
       "        else if (typeof evt.data === 'string' && evt.data.slice(0, 21) == \"data:image/png;base64\") {\n",
       "            fig.imageObj.src = evt.data;\n",
       "            fig.updated_canvas_event();\n",
       "            fig.waiting = false;\n",
       "            return;\n",
       "        }\n",
       "\n",
       "        var msg = JSON.parse(evt.data);\n",
       "        var msg_type = msg['type'];\n",
       "\n",
       "        // Call the  \"handle_{type}\" callback, which takes\n",
       "        // the figure and JSON message as its only arguments.\n",
       "        try {\n",
       "            var callback = fig[\"handle_\" + msg_type];\n",
       "        } catch (e) {\n",
       "            console.log(\"No handler for the '\" + msg_type + \"' message type: \", msg);\n",
       "            return;\n",
       "        }\n",
       "\n",
       "        if (callback) {\n",
       "            try {\n",
       "                // console.log(\"Handling '\" + msg_type + \"' message: \", msg);\n",
       "                callback(fig, msg);\n",
       "            } catch (e) {\n",
       "                console.log(\"Exception inside the 'handler_\" + msg_type + \"' callback:\", e, e.stack, msg);\n",
       "            }\n",
       "        }\n",
       "    };\n",
       "}\n",
       "\n",
       "// from http://stackoverflow.com/questions/1114465/getting-mouse-location-in-canvas\n",
       "mpl.findpos = function(e) {\n",
       "    //this section is from http://www.quirksmode.org/js/events_properties.html\n",
       "    var targ;\n",
       "    if (!e)\n",
       "        e = window.event;\n",
       "    if (e.target)\n",
       "        targ = e.target;\n",
       "    else if (e.srcElement)\n",
       "        targ = e.srcElement;\n",
       "    if (targ.nodeType == 3) // defeat Safari bug\n",
       "        targ = targ.parentNode;\n",
       "\n",
       "    // jQuery normalizes the pageX and pageY\n",
       "    // pageX,Y are the mouse positions relative to the document\n",
       "    // offset() returns the position of the element relative to the document\n",
       "    var x = e.pageX - $(targ).offset().left;\n",
       "    var y = e.pageY - $(targ).offset().top;\n",
       "\n",
       "    return {\"x\": x, \"y\": y};\n",
       "};\n",
       "\n",
       "/*\n",
       " * return a copy of an object with only non-object keys\n",
       " * we need this to avoid circular references\n",
       " * http://stackoverflow.com/a/24161582/3208463\n",
       " */\n",
       "function simpleKeys (original) {\n",
       "  return Object.keys(original).reduce(function (obj, key) {\n",
       "    if (typeof original[key] !== 'object')\n",
       "        obj[key] = original[key]\n",
       "    return obj;\n",
       "  }, {});\n",
       "}\n",
       "\n",
       "mpl.figure.prototype.mouse_event = function(event, name) {\n",
       "    var canvas_pos = mpl.findpos(event)\n",
       "\n",
       "    if (name === 'button_press')\n",
       "    {\n",
       "        this.canvas.focus();\n",
       "        this.canvas_div.focus();\n",
       "    }\n",
       "\n",
       "    var x = canvas_pos.x * mpl.ratio;\n",
       "    var y = canvas_pos.y * mpl.ratio;\n",
       "\n",
       "    this.send_message(name, {x: x, y: y, button: event.button,\n",
       "                             step: event.step,\n",
       "                             guiEvent: simpleKeys(event)});\n",
       "\n",
       "    /* This prevents the web browser from automatically changing to\n",
       "     * the text insertion cursor when the button is pressed.  We want\n",
       "     * to control all of the cursor setting manually through the\n",
       "     * 'cursor' event from matplotlib */\n",
       "    event.preventDefault();\n",
       "    return false;\n",
       "}\n",
       "\n",
       "mpl.figure.prototype._key_event_extra = function(event, name) {\n",
       "    // Handle any extra behaviour associated with a key event\n",
       "}\n",
       "\n",
       "mpl.figure.prototype.key_event = function(event, name) {\n",
       "\n",
       "    // Prevent repeat events\n",
       "    if (name == 'key_press')\n",
       "    {\n",
       "        if (event.which === this._key)\n",
       "            return;\n",
       "        else\n",
       "            this._key = event.which;\n",
       "    }\n",
       "    if (name == 'key_release')\n",
       "        this._key = null;\n",
       "\n",
       "    var value = '';\n",
       "    if (event.ctrlKey && event.which != 17)\n",
       "        value += \"ctrl+\";\n",
       "    if (event.altKey && event.which != 18)\n",
       "        value += \"alt+\";\n",
       "    if (event.shiftKey && event.which != 16)\n",
       "        value += \"shift+\";\n",
       "\n",
       "    value += 'k';\n",
       "    value += event.which.toString();\n",
       "\n",
       "    this._key_event_extra(event, name);\n",
       "\n",
       "    this.send_message(name, {key: value,\n",
       "                             guiEvent: simpleKeys(event)});\n",
       "    return false;\n",
       "}\n",
       "\n",
       "mpl.figure.prototype.toolbar_button_onclick = function(name) {\n",
       "    if (name == 'download') {\n",
       "        this.handle_save(this, null);\n",
       "    } else {\n",
       "        this.send_message(\"toolbar_button\", {name: name});\n",
       "    }\n",
       "};\n",
       "\n",
       "mpl.figure.prototype.toolbar_button_onmouseover = function(tooltip) {\n",
       "    this.message.textContent = tooltip;\n",
       "};\n",
       "mpl.toolbar_items = [[\"Home\", \"Reset original view\", \"fa fa-home icon-home\", \"home\"], [\"Back\", \"Back to previous view\", \"fa fa-arrow-left icon-arrow-left\", \"back\"], [\"Forward\", \"Forward to next view\", \"fa fa-arrow-right icon-arrow-right\", \"forward\"], [\"\", \"\", \"\", \"\"], [\"Pan\", \"Pan axes with left mouse, zoom with right\", \"fa fa-arrows icon-move\", \"pan\"], [\"Zoom\", \"Zoom to rectangle\", \"fa fa-square-o icon-check-empty\", \"zoom\"], [\"\", \"\", \"\", \"\"], [\"Download\", \"Download plot\", \"fa fa-floppy-o icon-save\", \"download\"]];\n",
       "\n",
       "mpl.extensions = [\"eps\", \"jpeg\", \"pdf\", \"png\", \"ps\", \"raw\", \"svg\", \"tif\"];\n",
       "\n",
       "mpl.default_extension = \"png\";var comm_websocket_adapter = function(comm) {\n",
       "    // Create a \"websocket\"-like object which calls the given IPython comm\n",
       "    // object with the appropriate methods. Currently this is a non binary\n",
       "    // socket, so there is still some room for performance tuning.\n",
       "    var ws = {};\n",
       "\n",
       "    ws.close = function() {\n",
       "        comm.close()\n",
       "    };\n",
       "    ws.send = function(m) {\n",
       "        //console.log('sending', m);\n",
       "        comm.send(m);\n",
       "    };\n",
       "    // Register the callback with on_msg.\n",
       "    comm.on_msg(function(msg) {\n",
       "        //console.log('receiving', msg['content']['data'], msg);\n",
       "        // Pass the mpl event to the overridden (by mpl) onmessage function.\n",
       "        ws.onmessage(msg['content']['data'])\n",
       "    });\n",
       "    return ws;\n",
       "}\n",
       "\n",
       "mpl.mpl_figure_comm = function(comm, msg) {\n",
       "    // This is the function which gets called when the mpl process\n",
       "    // starts-up an IPython Comm through the \"matplotlib\" channel.\n",
       "\n",
       "    var id = msg.content.data.id;\n",
       "    // Get hold of the div created by the display call when the Comm\n",
       "    // socket was opened in Python.\n",
       "    var element = $(\"#\" + id);\n",
       "    var ws_proxy = comm_websocket_adapter(comm)\n",
       "\n",
       "    function ondownload(figure, format) {\n",
       "        window.open(figure.imageObj.src);\n",
       "    }\n",
       "\n",
       "    var fig = new mpl.figure(id, ws_proxy,\n",
       "                           ondownload,\n",
       "                           element.get(0));\n",
       "\n",
       "    // Call onopen now - mpl needs it, as it is assuming we've passed it a real\n",
       "    // web socket which is closed, not our websocket->open comm proxy.\n",
       "    ws_proxy.onopen();\n",
       "\n",
       "    fig.parent_element = element.get(0);\n",
       "    fig.cell_info = mpl.find_output_cell(\"<div id='\" + id + \"'></div>\");\n",
       "    if (!fig.cell_info) {\n",
       "        console.error(\"Failed to find cell for figure\", id, fig);\n",
       "        return;\n",
       "    }\n",
       "\n",
       "    var output_index = fig.cell_info[2]\n",
       "    var cell = fig.cell_info[0];\n",
       "\n",
       "};\n",
       "\n",
       "mpl.figure.prototype.handle_close = function(fig, msg) {\n",
       "    var width = fig.canvas.width/mpl.ratio\n",
       "    fig.root.unbind('remove')\n",
       "\n",
       "    // Update the output cell to use the data from the current canvas.\n",
       "    fig.push_to_output();\n",
       "    var dataURL = fig.canvas.toDataURL();\n",
       "    // Re-enable the keyboard manager in IPython - without this line, in FF,\n",
       "    // the notebook keyboard shortcuts fail.\n",
       "    IPython.keyboard_manager.enable()\n",
       "    $(fig.parent_element).html('<img src=\"' + dataURL + '\" width=\"' + width + '\">');\n",
       "    fig.close_ws(fig, msg);\n",
       "}\n",
       "\n",
       "mpl.figure.prototype.close_ws = function(fig, msg){\n",
       "    fig.send_message('closing', msg);\n",
       "    // fig.ws.close()\n",
       "}\n",
       "\n",
       "mpl.figure.prototype.push_to_output = function(remove_interactive) {\n",
       "    // Turn the data on the canvas into data in the output cell.\n",
       "    var width = this.canvas.width/mpl.ratio\n",
       "    var dataURL = this.canvas.toDataURL();\n",
       "    this.cell_info[1]['text/html'] = '<img src=\"' + dataURL + '\" width=\"' + width + '\">';\n",
       "}\n",
       "\n",
       "mpl.figure.prototype.updated_canvas_event = function() {\n",
       "    // Tell IPython that the notebook contents must change.\n",
       "    IPython.notebook.set_dirty(true);\n",
       "    this.send_message(\"ack\", {});\n",
       "    var fig = this;\n",
       "    // Wait a second, then push the new image to the DOM so\n",
       "    // that it is saved nicely (might be nice to debounce this).\n",
       "    setTimeout(function () { fig.push_to_output() }, 1000);\n",
       "}\n",
       "\n",
       "mpl.figure.prototype._init_toolbar = function() {\n",
       "    var fig = this;\n",
       "\n",
       "    var nav_element = $('<div/>');\n",
       "    nav_element.attr('style', 'width: 100%');\n",
       "    this.root.append(nav_element);\n",
       "\n",
       "    // Define a callback function for later on.\n",
       "    function toolbar_event(event) {\n",
       "        return fig.toolbar_button_onclick(event['data']);\n",
       "    }\n",
       "    function toolbar_mouse_event(event) {\n",
       "        return fig.toolbar_button_onmouseover(event['data']);\n",
       "    }\n",
       "\n",
       "    for(var toolbar_ind in mpl.toolbar_items){\n",
       "        var name = mpl.toolbar_items[toolbar_ind][0];\n",
       "        var tooltip = mpl.toolbar_items[toolbar_ind][1];\n",
       "        var image = mpl.toolbar_items[toolbar_ind][2];\n",
       "        var method_name = mpl.toolbar_items[toolbar_ind][3];\n",
       "\n",
       "        if (!name) { continue; };\n",
       "\n",
       "        var button = $('<button class=\"btn btn-default\" href=\"#\" title=\"' + name + '\"><i class=\"fa ' + image + ' fa-lg\"></i></button>');\n",
       "        button.click(method_name, toolbar_event);\n",
       "        button.mouseover(tooltip, toolbar_mouse_event);\n",
       "        nav_element.append(button);\n",
       "    }\n",
       "\n",
       "    // Add the status bar.\n",
       "    var status_bar = $('<span class=\"mpl-message\" style=\"text-align:right; float: right;\"/>');\n",
       "    nav_element.append(status_bar);\n",
       "    this.message = status_bar[0];\n",
       "\n",
       "    // Add the close button to the window.\n",
       "    var buttongrp = $('<div class=\"btn-group inline pull-right\"></div>');\n",
       "    var button = $('<button class=\"btn btn-mini btn-primary\" href=\"#\" title=\"Stop Interaction\"><i class=\"fa fa-power-off icon-remove icon-large\"></i></button>');\n",
       "    button.click(function (evt) { fig.handle_close(fig, {}); } );\n",
       "    button.mouseover('Stop Interaction', toolbar_mouse_event);\n",
       "    buttongrp.append(button);\n",
       "    var titlebar = this.root.find($('.ui-dialog-titlebar'));\n",
       "    titlebar.prepend(buttongrp);\n",
       "}\n",
       "\n",
       "mpl.figure.prototype._root_extra_style = function(el){\n",
       "    var fig = this\n",
       "    el.on(\"remove\", function(){\n",
       "\tfig.close_ws(fig, {});\n",
       "    });\n",
       "}\n",
       "\n",
       "mpl.figure.prototype._canvas_extra_style = function(el){\n",
       "    // this is important to make the div 'focusable\n",
       "    el.attr('tabindex', 0)\n",
       "    // reach out to IPython and tell the keyboard manager to turn it's self\n",
       "    // off when our div gets focus\n",
       "\n",
       "    // location in version 3\n",
       "    if (IPython.notebook.keyboard_manager) {\n",
       "        IPython.notebook.keyboard_manager.register_events(el);\n",
       "    }\n",
       "    else {\n",
       "        // location in version 2\n",
       "        IPython.keyboard_manager.register_events(el);\n",
       "    }\n",
       "\n",
       "}\n",
       "\n",
       "mpl.figure.prototype._key_event_extra = function(event, name) {\n",
       "    var manager = IPython.notebook.keyboard_manager;\n",
       "    if (!manager)\n",
       "        manager = IPython.keyboard_manager;\n",
       "\n",
       "    // Check for shift+enter\n",
       "    if (event.shiftKey && event.which == 13) {\n",
       "        this.canvas_div.blur();\n",
       "        // select the cell after this one\n",
       "        var index = IPython.notebook.find_cell_index(this.cell_info[0]);\n",
       "        IPython.notebook.select(index + 1);\n",
       "    }\n",
       "}\n",
       "\n",
       "mpl.figure.prototype.handle_save = function(fig, msg) {\n",
       "    fig.ondownload(fig, null);\n",
       "}\n",
       "\n",
       "\n",
       "mpl.find_output_cell = function(html_output) {\n",
       "    // Return the cell and output element which can be found *uniquely* in the notebook.\n",
       "    // Note - this is a bit hacky, but it is done because the \"notebook_saving.Notebook\"\n",
       "    // IPython event is triggered only after the cells have been serialised, which for\n",
       "    // our purposes (turning an active figure into a static one), is too late.\n",
       "    var cells = IPython.notebook.get_cells();\n",
       "    var ncells = cells.length;\n",
       "    for (var i=0; i<ncells; i++) {\n",
       "        var cell = cells[i];\n",
       "        if (cell.cell_type === 'code'){\n",
       "            for (var j=0; j<cell.output_area.outputs.length; j++) {\n",
       "                var data = cell.output_area.outputs[j];\n",
       "                if (data.data) {\n",
       "                    // IPython >= 3 moved mimebundle to data attribute of output\n",
       "                    data = data.data;\n",
       "                }\n",
       "                if (data['text/html'] == html_output) {\n",
       "                    return [cell, data, j];\n",
       "                }\n",
       "            }\n",
       "        }\n",
       "    }\n",
       "}\n",
       "\n",
       "// Register the function which deals with the matplotlib target/channel.\n",
       "// The kernel may be null if the page has been refreshed.\n",
       "if (IPython.notebook.kernel != null) {\n",
       "    IPython.notebook.kernel.comm_manager.register_target('matplotlib', mpl.mpl_figure_comm);\n",
       "}\n"
      ],
      "text/plain": [
       "<IPython.core.display.Javascript object>"
      ]
     },
     "metadata": {},
     "output_type": "display_data"
    },
    {
     "data": {
      "text/html": [
       "<img src=\"data:image/png;base64,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\" width=\"1000\">"
      ],
      "text/plain": [
       "<IPython.core.display.HTML object>"
      ]
     },
     "metadata": {},
     "output_type": "display_data"
    }
   ],
   "source": [
    "dual_train_plots_tracks_to_KDE(results.index,\n",
    "                               results.cost, results.val,\n",
    "                               results.cost, results.val)\n",
    "plt.tight_layout()\n",
    "plt.savefig(str(output / f'{name}_stats_a.png'))"
   ]
  },
  {
   "cell_type": "code",
   "execution_count": 23,
   "metadata": {},
   "outputs": [],
   "source": [
    "#quit()"
   ]
  },
  {
   "cell_type": "code",
   "execution_count": null,
   "metadata": {},
   "outputs": [],
   "source": []
  },
  {
   "cell_type": "code",
   "execution_count": null,
   "metadata": {},
   "outputs": [],
   "source": []
  }
 ],
 "metadata": {
  "kernelspec": {
   "display_name": "june2020-gpu",
   "language": "python",
   "name": "june2020-gpu"
  },
  "language_info": {
   "codemirror_mode": {
    "name": "ipython",
    "version": 3
   },
   "file_extension": ".py",
   "mimetype": "text/x-python",
   "name": "python",
   "nbconvert_exporter": "python",
   "pygments_lexer": "ipython3",
   "version": "3.7.6"
  }
 },
 "nbformat": 4,
 "nbformat_minor": 2
}
