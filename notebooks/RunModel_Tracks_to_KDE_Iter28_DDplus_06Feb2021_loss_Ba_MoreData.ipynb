{
 "cells": [
  {
   "cell_type": "code",
   "execution_count": 1,
   "metadata": {},
   "outputs": [],
   "source": [
    "##%matplotlib widget\n",
    "## with %matplotlib notebook: seems to require ipympl as part of environment, either\n",
    "## part of the conda environment or \"pip install ipympl\"\n",
    "## otherwise, does not show ANY plots in note\"book, plt.savefig() works\n",
    "%matplotlib notebook  \n",
    "##%matplotlib inline    ## --plt.savefig()  works, but re-sizing does NOT\n"
   ]
  },
  {
   "cell_type": "markdown",
   "metadata": {},
   "source": [
    "This notebook is the second attempt to read in track information and use it to predict the KDE used as input to PvFinder. This time, we are reading in poca KDEs rather than the original KDEs. \n",
    "\n",
    "collectdata_kde_C.py uses poca_z, poca_x, poca_y, major_axis_x, major_axis_y, and major_axis_z as the six track parameters (for the moment)\n"
   ]
  },
  {
   "cell_type": "markdown",
   "metadata": {},
   "source": [
    "Check the current GPU usage. Please try to be nice!"
   ]
  },
  {
   "cell_type": "code",
   "execution_count": 2,
   "metadata": {},
   "outputs": [
    {
     "name": "stdout",
     "output_type": "stream",
     "text": [
      "Sat Feb  6 05:02:47 2021       \r\n",
      "+-----------------------------------------------------------------------------+\r\n",
      "| NVIDIA-SMI 440.64.00    Driver Version: 440.64.00    CUDA Version: 10.2     |\r\n",
      "|-------------------------------+----------------------+----------------------+\r\n",
      "| GPU  Name        Persistence-M| Bus-Id        Disp.A | Volatile Uncorr. ECC |\r\n",
      "| Fan  Temp  Perf  Pwr:Usage/Cap|         Memory-Usage | GPU-Util  Compute M. |\r\n",
      "|===============================+======================+======================|\r\n",
      "|   0  TITAN V             Off  | 00000000:03:00.0 Off |                  N/A |\r\n",
      "| 28%   31C    P8    23W / 250W |   1045MiB / 12066MiB |      0%      Default |\r\n",
      "+-------------------------------+----------------------+----------------------+\r\n",
      "|   1  Tesla P100-PCIE...  Off  | 00000000:83:00.0 Off |                    0 |\r\n",
      "| N/A   31C    P0    26W / 250W |     10MiB / 16280MiB |      0%      Default |\r\n",
      "+-------------------------------+----------------------+----------------------+\r\n",
      "|   2  TITAN V             Off  | 00000000:84:00.0 Off |                  N/A |\r\n",
      "| 28%   35C    P8    25W / 250W |     12MiB / 12066MiB |      0%      Default |\r\n",
      "+-------------------------------+----------------------+----------------------+\r\n",
      "                                                                               \r\n",
      "+-----------------------------------------------------------------------------+\r\n",
      "| Processes:                                                       GPU Memory |\r\n",
      "|  GPU       PID   Type   Process name                             Usage      |\r\n",
      "|=============================================================================|\r\n",
      "|    0     47872      C   ...a/conda/envs/goofit-june2020/bin/python  1033MiB |\r\n",
      "+-----------------------------------------------------------------------------+\r\n"
     ]
    }
   ],
   "source": [
    "!nvidia-smi"
   ]
  },
  {
   "cell_type": "markdown",
   "metadata": {},
   "source": [
    "> **WARNING**: The card numbers here are *not* the same as in CUDA. You have been warned."
   ]
  },
  {
   "cell_type": "markdown",
   "metadata": {},
   "source": [
    "This notebook is first attempt to read in track information and use it to predict the KDE used as input to PvFinder.\n"
   ]
  },
  {
   "cell_type": "markdown",
   "metadata": {},
   "source": [
    "## Imports"
   ]
  },
  {
   "cell_type": "code",
   "execution_count": 3,
   "metadata": {},
   "outputs": [],
   "source": [
    "import matplotlib.pyplot as plt\n",
    "import numpy as np\n",
    "import time\n",
    "import torch\n",
    "import pandas as pd\n",
    "\n",
    "# Python 3 standard library\n",
    "from pathlib import Path\n",
    "\n",
    "##from torchsummary import summary"
   ]
  },
  {
   "cell_type": "markdown",
   "metadata": {},
   "source": [
    "### Set up local parameters"
   ]
  },
  {
   "cell_type": "code",
   "execution_count": 4,
   "metadata": {},
   "outputs": [],
   "source": [
    "n_epochs = 100\n",
    "\n",
    "folder = '06Feb_DDplus_loss_Ba_iter28_floatAll_100epochs_1p5em5_4xwill'\n",
    "name   = folder\n",
    "\n",
    "# Make an output folder named \"name\" (change if you want)\n",
    "\n",
    "## Special instructions for those working on goofy at UC\n",
    "## Please be very careful to make sure that your folder\n",
    "## does not live in a subdirectory of your home directory\n",
    "## this disk has very little capacity. Instead, use \n",
    "## a subdirectory in /share/lazy with a symbolic link to\n",
    "## it in this (the notebooks) subdirectory\n",
    "folder = 'ML_dir/' + folder\n",
    "output = Path(folder)\n",
    "\n",
    "\n",
    "# Size of batches\n",
    "batch_size = 64 ## batch_size = 24 ---> 4763MiB / 12066MiB on Titan V\n",
    "# How fast to learn\n",
    "learning_rate = 1.5e-5"
   ]
  },
  {
   "cell_type": "markdown",
   "metadata": {},
   "source": [
    "Make the output directory if it does not exist:"
   ]
  },
  {
   "cell_type": "code",
   "execution_count": 5,
   "metadata": {},
   "outputs": [],
   "source": [
    "output.mkdir(exist_ok=True)"
   ]
  },
  {
   "cell_type": "markdown",
   "metadata": {},
   "source": [
    "## Get the helper functions\n",
    "\n",
    "Add the directory with the model\n",
    "definitions to the path so we can import from it:\n",
    "\n",
    "> When you type `import X`,\n",
    "Python searches `sys.path` for a python\n",
    "file named `X.py` to import. So we need to add the model directory to the path."
   ]
  },
  {
   "cell_type": "code",
   "execution_count": 6,
   "metadata": {
    "scrolled": true
   },
   "outputs": [],
   "source": [
    "from model.collectdata_kde_Ellipsoids import collect_t2kde_data\n",
    "\n",
    "##  It takes 9 input features (poca centers + (A,B,C,D,E,F)) . \n",
    "from model.models_kde import TracksToKDE_Ellipsoids_DDplus as Model\n",
    "\n",
    "# kde_loss_Ba is a Chi2 loss (go and look at it!)\n",
    "from model.kde_loss_Ba import Loss\n",
    "\n",
    "from model.training_kde import trainNet, select_gpu, Results\n",
    "from model.plots import dual_train_plots, dual_train_plots_tracks_to_KDE, replace_in_ax"
   ]
  },
  {
   "cell_type": "code",
   "execution_count": 7,
   "metadata": {},
   "outputs": [],
   "source": [
    "# This gets built up during the run - do not rerun this cell\n",
    "results = pd.DataFrame([], columns=Results._fields)"
   ]
  },
  {
   "cell_type": "markdown",
   "metadata": {},
   "source": [
    "Set up Torch device configuration. All tensors and model parameters need to know where to be put.\n",
    "This takes a BUS ID number: The BUS ID is the same as the listing at the top of this script."
   ]
  },
  {
   "cell_type": "code",
   "execution_count": 8,
   "metadata": {},
   "outputs": [
    {
     "name": "stdout",
     "output_type": "stream",
     "text": [
      "1 available GPUs (initially using device 0):\n",
      "  0 TITAN V\n"
     ]
    }
   ],
   "source": [
    "# either 0 or 2 on goofy (i.e. TITAN V) [1 or 2 on sleepy RTX 2080TI]\n",
    "device = select_gpu(2)\n",
    "##device = \"cpu\""
   ]
  },
  {
   "cell_type": "markdown",
   "metadata": {},
   "source": [
    "## Loading data\n",
    "\n",
    "Load the dataset, split into parts, then move to device (see `collectdata.py` in the `../model` directory)"
   ]
  },
  {
   "cell_type": "markdown",
   "metadata": {},
   "source": [
    "# Preparing the model"
   ]
  },
  {
   "cell_type": "markdown",
   "metadata": {},
   "source": [
    "Prepare a model, use multiple GPUs if they are VISIBLE, and move the model to the device."
   ]
  },
  {
   "cell_type": "code",
   "execution_count": 9,
   "metadata": {
    "scrolled": true
   },
   "outputs": [],
   "source": [
    "##print(\"Let's use\", torch.cuda.device_count(), \"GPUs!\")\n",
    "##if torch.cuda.device_count() > 1:\n",
    "##    model = torch.nn.DataParallel(model)"
   ]
  },
  {
   "cell_type": "code",
   "execution_count": 10,
   "metadata": {},
   "outputs": [
    {
     "name": "stdout",
     "output_type": "stream",
     "text": [
      "ct, child =  0    Linear(in_features=9, out_features=50, bias=True)\n",
      "ct, child =  1    Linear(in_features=50, out_features=50, bias=True)\n",
      "ct, child =  2    Linear(in_features=50, out_features=50, bias=True)\n",
      "ct, child =  3    Linear(in_features=50, out_features=50, bias=True)\n",
      "ct, child =  4    Linear(in_features=50, out_features=50, bias=True)\n",
      "ct, child =  5    Linear(in_features=50, out_features=50, bias=True)\n",
      "ct, child =  6    Linear(in_features=50, out_features=50, bias=True)\n",
      "ct, child =  7    Linear(in_features=50, out_features=50, bias=True)\n",
      "ct, child =  8    Linear(in_features=50, out_features=50, bias=True)\n",
      "ct, child =  9    Linear(in_features=50, out_features=50, bias=True)\n",
      "ct, child =  10    Linear(in_features=50, out_features=50, bias=True)\n",
      "ct, child =  11    Linear(in_features=50, out_features=16000, bias=True)\n",
      "ct, child =  12    Conv1d(4, 25, kernel_size=(25,), stride=(1,), padding=(12,))\n",
      "ct, child =  13    Conv1d(25, 1, kernel_size=(5,), stride=(1,), padding=(2,))\n",
      "ct, child =  14    Linear(in_features=4000, out_features=4000, bias=True)\n",
      "ct, child =  15    Conv1d(25, 1, kernel_size=(15,), stride=(1,), padding=(7,))\n",
      "ct, child =  16    Dropout(p=0.15, inplace=False)\n",
      "ct, child =  17    Dropout(p=0.15, inplace=False)\n"
     ]
    }
   ],
   "source": [
    "## a comment on the web at https://pytorch.org/docs/stable/optim.html says\n",
    "\"\"\"\n",
    "If you need to move a model to GPU via .cuda(), please do so before constructing optimizers for it. \n",
    "Parameters of a model after .cuda() will be different objects with those before the call.\n",
    "\n",
    "In general, you should make sure that optimized parameters live in consistent locations when \n",
    "optimizers are constructed and used.\n",
    "\"\"\"\n",
    "## so move this here (although we are using model.to(device) not explicitly using .cuda()\n",
    "\n",
    "nOut1 = 50\n",
    "nOut2 = 50\n",
    "nOut3 = 50\n",
    "nOut4 = 50\n",
    "nOut5 = 50\n",
    "nOut6 = 50\n",
    "nOut7 = 50\n",
    "nOut8 = 50\n",
    "nOut9 = 50\n",
    "nOut10 = 50\n",
    "nOut11 = 50\n",
    "latentChannels = 4\n",
    "model = Model(nOut1,nOut2,nOut3,nOut4,nOut5,nOut6,nOut7,nOut8,nOut9,nOut10,nOut11,latentChannels)\n",
    "\n",
    "##summary(model, input_size=(4, 4000))\n",
    "##print(model.parameters)\n",
    "\n",
    "## add the following code to allow the user to freeze the some of the weights corresponding \n",
    "## to those taken from an earlier model trained with the original target histograms\n",
    "## presumably -- this leaves either the perturbative filter \"fixed\" and lets the \n",
    "## learning focus on the non-perturbative features, so get started faster, or vice versa\n",
    "ct = 0\n",
    "for child in model.children():\n",
    "  print('ct, child = ',ct, \"  \", child)\n",
    "  if ct < 0:\n",
    "    print(\"     About to set param.requires_grad=False for ct = \", ct, \"params\")\n",
    "    for param in child.parameters():\n",
    "        # fixing parameters\n",
    "        param.requires_grad = False \n",
    "  ct += 1\n",
    "##  mds 200121 loss = Loss(epsilon=1e-5,coefficient=1.0)\n",
    "##  loss = Loss(epsilon=1e-5,coefficient=2.5)\n",
    "##loss = Loss(epsilon=3e-5, debug=False)\n",
    "loss = Loss(epsilon=3e-5)"
   ]
  },
  {
   "cell_type": "markdown",
   "metadata": {},
   "source": [
    "Let's move the model's weight matricies to the GPU:"
   ]
  },
  {
   "cell_type": "code",
   "execution_count": 11,
   "metadata": {
    "scrolled": true
   },
   "outputs": [],
   "source": [
    "model = model.to(device)"
   ]
  },
  {
   "cell_type": "code",
   "execution_count": 12,
   "metadata": {
    "scrolled": true
   },
   "outputs": [],
   "source": [
    "optimizer = torch.optim.Adam(model.parameters(), lr=learning_rate)\n",
    "##optimizer = torch.optim.SGD(model.parameters(), lr=learning_rate)"
   ]
  },
  {
   "cell_type": "code",
   "execution_count": 13,
   "metadata": {
    "scrolled": true
   },
   "outputs": [
    {
     "name": "stdout",
     "output_type": "stream",
     "text": [
      "output =  ML_dir/06Feb_DDplus_loss_Ba_iter28_floatAll_100epochs_1p5em5_4xwill\n",
      "for model_dict\n",
      "index, k =   0    layer1.weight\n",
      "index, k =   1    layer1.bias\n",
      "index, k =   2    layer2.weight\n",
      "index, k =   3    layer2.bias\n",
      "index, k =   4    layer3.weight\n",
      "index, k =   5    layer3.bias\n",
      "index, k =   6    layer4.weight\n",
      "index, k =   7    layer4.bias\n",
      "index, k =   8    layer5.weight\n",
      "index, k =   9    layer5.bias\n",
      "index, k =   10    layer6.weight\n",
      "index, k =   11    layer6.bias\n",
      "index, k =   12    layer7.weight\n",
      "index, k =   13    layer7.bias\n",
      "index, k =   14    layer8.weight\n",
      "index, k =   15    layer8.bias\n",
      "index, k =   16    layer9.weight\n",
      "index, k =   17    layer9.bias\n",
      "index, k =   18    layer10.weight\n",
      "index, k =   19    layer10.bias\n",
      "index, k =   20    layer11.weight\n",
      "index, k =   21    layer11.bias\n",
      "index, k =   22    layer12new.weight\n",
      "index, k =   23    layer12new.bias\n",
      "index, k =   24    conv1.weight\n",
      "index, k =   25    conv1.bias\n",
      "index, k =   26    conv2.weight\n",
      "index, k =   27    conv2.bias\n",
      "index, k =   28    fc1.weight\n",
      "index, k =   29    fc1.bias\n",
      "index, k =   30    finalFilter.weight\n",
      "index, k =   31    finalFilter.bias\n",
      "dict_name =  ML_dir/05Feb_DDplus_loss_Ba_iter27_floatAll_100epochs_1p5em5_4xwill/05Feb_DDplus_loss_Ba_iter27_floatAll_100epochs_1p5em5_4xwill_final.pyt\n",
      " \n",
      "  for pretrained_dict\n",
      "index, k =   0    layer1.weight\n",
      "index, k =   1    layer1.bias\n",
      "index, k =   2    layer2.weight\n",
      "index, k =   3    layer2.bias\n",
      "index, k =   4    layer3.weight\n",
      "index, k =   5    layer3.bias\n",
      "index, k =   6    layer4.weight\n",
      "index, k =   7    layer4.bias\n",
      "index, k =   8    layer5.weight\n",
      "index, k =   9    layer5.bias\n",
      "index, k =   10    layer6.weight\n",
      "index, k =   11    layer6.bias\n",
      "index, k =   12    layer7.weight\n",
      "index, k =   13    layer7.bias\n",
      "index, k =   14    layer8.weight\n",
      "index, k =   15    layer8.bias\n",
      "index, k =   16    layer9.weight\n",
      "index, k =   17    layer9.bias\n",
      "index, k =   18    layer10.weight\n",
      "index, k =   19    layer10.bias\n",
      "index, k =   20    layer11.weight\n",
      "index, k =   21    layer11.bias\n",
      "index, k =   22    layer12new.weight\n",
      "index, k =   23    layer12new.bias\n",
      "index, k =   24    conv1.weight\n",
      "index, k =   25    conv1.bias\n",
      "index, k =   26    conv2.weight\n",
      "index, k =   27    conv2.bias\n",
      "index, k =   28    fc1.weight\n",
      "index, k =   29    fc1.bias\n",
      "index, k =   30    finalFilter.weight\n",
      "index, k =   31    finalFilter.bias\n",
      "pretrained_dict iterated\n"
     ]
    },
    {
     "data": {
      "text/plain": [
       "<All keys matched successfully>"
      ]
     },
     "execution_count": 13,
     "metadata": {},
     "output_type": "execute_result"
    }
   ],
   "source": [
    "print('output = ',output)\n",
    "##print('oldOutput = ',oldOutput)\n",
    "##  use the first four layers from a pre-existing model\n",
    "##  see example at https://discuss.pytorch.org/t/how-to-load-part-of-pre-trained-model/1113\n",
    "\n",
    "##   ML -> /share/lazy/sokoloff/ML\n",
    "model_dict = model.state_dict()\n",
    "## mds 190725 for debugging\n",
    "print(\"for model_dict\")\n",
    "index = 0\n",
    "for k,v in model_dict.items():\n",
    "    print(\"index, k =  \",index,\"  \",k)\n",
    "    index = index+1\n",
    "##    print(\"value = \", v)\n",
    " \n",
    "updated_dict = model_dict\n",
    "##print(\"updated_dict = \",updated_dict)\n",
    "## when starting \"ab initio\", reduce biases as the bias gets summed for each track\n",
    "## contributing to the predicted KDE\n",
    "updated_dict[\"layer1.bias\"] = 0.005*model_dict[\"layer1.bias\"]\n",
    "updated_dict[\"layer2.bias\"] = 0.005*model_dict[\"layer2.bias\"]\n",
    "updated_dict[\"layer3.bias\"] = 0.005*model_dict[\"layer3.bias\"]\n",
    "updated_dict[\"layer4.bias\"] = 0.005*model_dict[\"layer4.bias\"]\n",
    "updated_dict[\"layer5.bias\"] = 0.005*model_dict[\"layer5.bias\"]\n",
    "updated_dict[\"layer6.bias\"] = 0.005*model_dict[\"layer6.bias\"]\n",
    "updated_dict[\"layer7.bias\"] = 0.005*model_dict[\"layer7.bias\"]\n",
    "updated_dict[\"layer8.bias\"] = 0.005*model_dict[\"layer8.bias\"]\n",
    "updated_dict[\"layer9.bias\"] = 0.005*model_dict[\"layer9.bias\"]\n",
    "updated_dict[\"layer10.bias\"] = 0.005*model_dict[\"layer10.bias\"]\n",
    "updated_dict[\"layer11.bias\"] = 0.005*model_dict[\"layer11.bias\"]\n",
    "\n",
    "model.load_state_dict(updated_dict,strict=False)\n",
    "\n",
    "model_dict = model.state_dict()\n",
    "##print(\"updated model_dict = \",model_dict)\n",
    "\n",
    "## print(\" \\n\",\"  for pretrained_dict\")\n",
    "## index = 0\n",
    "##for k,v in pretrained_dict.items():\n",
    "##    print(\"index, k =  \",index,\"  \",k)\n",
    "##    index = index+1\n",
    "## mds  \n",
    "\n",
    "##pretrained_dict = torch.load('ML/29July2020_Trks_to_KDE_C_lossB_100epochs_b64_1m3_nOut_50x50/29July2020_Trks_to_KDE_C_lossB_100epochs_b64_1m3_nOut_50x50_final.pyt')\n",
    "##print(\"model_dict instantiated\")\n",
    "# 1. filter out unnecessary keys\n",
    "##pretrained_dict = {k: v for k, v in pretrained_dict.items() if k in model_dict}\n",
    "##print(\"pretrained_dict iterated\")\n",
    "# 2. overwrite entries in the existing state dict\n",
    "##model_dict.update(pretrained_dict) \n",
    "##\n",
    "#   when starting from a model with a fully connected last layer rather than a convolutional layer\n",
    "# 3. load the new state dict\n",
    "#   need to use strict=False as the two models state model attributes do not agree exactly\n",
    "#   see https://pytorch.org/docs/master/_modules/torch/nn/modules/module.html#Module.load_state_dict\n",
    "\n",
    "##model.load_state_dict(pretrained_dict,strict=False)\n",
    "\n",
    "## print('model_dict =    ', model_dict)\n",
    "\n",
    "## finished at training cost = 1.46, validation cost = 1.50\n",
    "##d_folder = '25December__DDplus_loss_Ba_iter7_floatAll_800epochs_4em6'\n",
    "d_folder = '05Feb_DDplus_loss_Ba_iter27_floatAll_100epochs_1p5em5_4xwill'\n",
    "d_name = d_folder\n",
    "##  for 24Jan_DDplus_loss_Ba_iter17_floatAll_150epochs_1p5em5_4xwill use suffix 87\n",
    "##  as this is the last epoch that ran before I killed the job (don't ask)\n",
    "suffix = 'final'\n",
    "dict_name = 'ML_dir/' + d_folder + '/' + d_name + '_'+ suffix + '.pyt'\n",
    "print('dict_name = ',dict_name)\n",
    "pretrained_dict = torch.load(dict_name)\n",
    "\n",
    "print(\" \")\n",
    "print(\"  for pretrained_dict\")\n",
    "index = 0\n",
    "for k,v in pretrained_dict.items():\n",
    "    print(\"index, k =  \",index,\"  \",k)\n",
    "    index = index+1\n",
    " \n",
    "\n",
    "##print(\"model_dict instantiated\")\n",
    "# 1. filter out unnecessary keys\n",
    "pretrained_dict = {k: v for k, v in pretrained_dict.items() if k in model_dict}\n",
    "print(\"pretrained_dict iterated\")\n",
    "# 2. overwrite entries in the existing state dict\n",
    "model_dict.update(pretrained_dict) \n",
    "##\n",
    "#   when starting from a model with a fully connected last layer rather than a convolutional layer\n",
    "# 3. load the new state dict\n",
    "#   need to use strict=False as the two models state model attributes do not agree exactly\n",
    "#   see https://pytorch.org/docs/master/_modules/torch/nn/modules/module.html#Module.load_state_dict\n",
    "\n",
    "model.load_state_dict(pretrained_dict,strict=False)\n",
    "\n"
   ]
  },
  {
   "cell_type": "code",
   "execution_count": 14,
   "metadata": {},
   "outputs": [],
   "source": [
    "##print('validation.dataset.tensors = ',validation.dataset.tensors)\n",
    "fig_size = plt.rcParams[\"figure.figsize\"]\n",
    "fig_size[0] = 10\n",
    "fig_size[1] = 4\n",
    "plt.rcParams[\"figure.figsize\"] = fig_size"
   ]
  },
  {
   "cell_type": "code",
   "execution_count": 15,
   "metadata": {},
   "outputs": [
    {
     "name": "stdout",
     "output_type": "stream",
     "text": [
      "Loading data...\n",
      "pocaMx.shape =  (80000,)\n",
      "nEvts =  80000\n",
      "len(pocaMx[0]) =  199\n",
      "len(pocaMx[1]) =  25\n",
      "len(pocaMx[2]) =  369\n",
      "len(pocaMx[3]) =  143\n",
      "len(pocaMx[4]) =  160\n",
      "majorAxis.shape =  (80000, 3)\n",
      "minorAxis_1.shape =  (80000, 3)\n",
      "minorAxis_2.shape =  (80000, 3)\n",
      "have entered six_ellipsoid_parameters\n",
      "  \n",
      " \n",
      "  nEvts =  80000\n",
      " iEvt, nTrks =  0 199\n",
      " iEvt, nTrks =  1 25\n",
      " iEvt, nTrks =  2 369\n",
      " iEvt, nTrks =  3 143\n",
      " iEvt, nTrks =  4 160\n",
      " iEvt, nTrks =  5 260\n",
      " iEvt, nTrks =  6 237\n",
      " iEvt, nTrks =  7 327\n",
      " iEvt, nTrks =  8 178\n",
      " iEvt, nTrks =  9 106\n",
      "A.shape =  (80000,)\n",
      "majorAxis[iTrk][0][0] =  0.00045611936\n",
      "majorAxis[iTrk][1][0] =  -4.8292455e-05\n",
      "majorAxis[iTrk][2][0] =  0.090019904\n",
      "minorAxis_1[iTrk][0][0] =  -1.8602173\n",
      "minorAxis_1[iTrk][1][0] =  -17.569641\n",
      "minorAxis_1[iTrk][2][0] =  4.7891795e-08\n",
      "minorAxis_2[iTrk][0][0] =  -17.569414\n",
      "minorAxis_2[iTrk][1][0] =  1.8601931\n",
      "minorAxis_2[iTrk][2][0] =  0.0900199\n",
      "  \n",
      "majorAxis[iTrk][0][0] =  0.002360258\n",
      "majorAxis[iTrk][1][0] =  -0.007426616\n",
      "majorAxis[iTrk][2][0] =  0.3710108\n",
      "minorAxis_1[iTrk][0][0] =  -16.837948\n",
      "minorAxis_1[iTrk][1][0] =  -5.3512807\n",
      "minorAxis_1[iTrk][2][0] =  8.157131e-09\n",
      "minorAxis_2[iTrk][0][0] =  -5.3501005\n",
      "minorAxis_2[iTrk][1][0] =  16.834236\n",
      "minorAxis_2[iTrk][2][0] =  0.3710108\n",
      "  \n",
      "majorAxis[iTrk][0][0] =  6.220712e-05\n",
      "majorAxis[iTrk][1][0] =  -4.4594188e-05\n",
      "majorAxis[iTrk][2][0] =  0.036773544\n",
      "minorAxis_1[iTrk][0][0] =  10.293747\n",
      "minorAxis_1[iTrk][1][0] =  14.359369\n",
      "minorAxis_1[iTrk][2][0] =  1.571041e-06\n",
      "minorAxis_2[iTrk][0][0] =  14.359338\n",
      "minorAxis_2[iTrk][1][0] =  -10.293725\n",
      "minorAxis_2[iTrk][2][0] =  -0.03677354\n",
      "  \n",
      "majorAxis[iTrk][0][0] =  0.0033452737\n",
      "majorAxis[iTrk][1][0] =  0.00013028442\n",
      "majorAxis[iTrk][2][0] =  0.2431933\n",
      "minorAxis_1[iTrk][0][0] =  0.6875674\n",
      "minorAxis_1[iTrk][1][0] =  -17.65446\n",
      "minorAxis_1[iTrk][2][0] =  -6.6602626e-09\n",
      "minorAxis_2[iTrk][0][0] =  -17.652788\n",
      "minorAxis_2[iTrk][1][0] =  -0.68750226\n",
      "minorAxis_2[iTrk][2][0] =  0.2431933\n",
      "  \n",
      "majorAxis[iTrk][0][0] =  -0.00068196515\n",
      "majorAxis[iTrk][1][0] =  -0.00044562915\n",
      "majorAxis[iTrk][2][0] =  0.119970225\n",
      "minorAxis_1[iTrk][0][0] =  9.664597\n",
      "minorAxis_1[iTrk][1][0] =  -14.790141\n",
      "minorAxis_1[iTrk][2][0] =  1.9819232e-08\n",
      "minorAxis_2[iTrk][0][0] =  -14.789802\n",
      "minorAxis_2[iTrk][1][0] =  -9.664374\n",
      "minorAxis_2[iTrk][2][0] =  -0.11997023\n",
      "  \n",
      "majorAxis[iTrk][0][0] =  -8.245073e-05\n",
      "majorAxis[iTrk][1][0] =  0.00015860004\n",
      "majorAxis[iTrk][2][0] =  0.05619731\n",
      "minorAxis_1[iTrk][0][0] =  -15.676071\n",
      "minorAxis_1[iTrk][1][0] =  -8.149452\n",
      "minorAxis_1[iTrk][2][0] =  4.1105773e-07\n",
      "minorAxis_2[iTrk][0][0] =  -8.14941\n",
      "minorAxis_2[iTrk][1][0] =  15.675991\n",
      "minorAxis_2[iTrk][2][0] =  -0.056197315\n",
      "  \n",
      "majorAxis[iTrk][0][0] =  -0.00015151131\n",
      "majorAxis[iTrk][1][0] =  0.00067339616\n",
      "majorAxis[iTrk][2][0] =  0.11042937\n",
      "minorAxis_1[iTrk][0][0] =  17.236937\n",
      "minorAxis_1[iTrk][1][0] =  3.8782384\n",
      "minorAxis_1[iTrk][2][0] =  2.3217373e-08\n",
      "minorAxis_2[iTrk][0][0] =  3.8781626\n",
      "minorAxis_2[iTrk][1][0] =  -17.236599\n",
      "minorAxis_2[iTrk][2][0] =  0.11042936\n",
      "  \n",
      "majorAxis[iTrk][0][0] =  -7.577422e-05\n",
      "majorAxis[iTrk][1][0] =  -0.00036802414\n",
      "majorAxis[iTrk][2][0] =  0.08147708\n",
      "minorAxis_1[iTrk][0][0] =  -17.304853\n",
      "minorAxis_1[iTrk][1][0] =  3.5629773\n",
      "minorAxis_1[iTrk][2][0] =  5.80501e-09\n",
      "minorAxis_2[iTrk][0][0] =  3.5629392\n",
      "minorAxis_2[iTrk][1][0] =  17.304668\n",
      "minorAxis_2[iTrk][2][0] =  0.081477076\n",
      "  \n",
      "majorAxis[iTrk][0][0] =  0.00013397264\n",
      "majorAxis[iTrk][1][0] =  0.00094400026\n",
      "majorAxis[iTrk][2][0] =  0.12978876\n",
      "minorAxis_1[iTrk][0][0] =  17.492561\n",
      "minorAxis_1[iTrk][1][0] =  -2.4825466\n",
      "minorAxis_1[iTrk][2][0] =  1.1329301e-08\n",
      "minorAxis_2[iTrk][0][0] =  -2.4824798\n",
      "minorAxis_2[iTrk][1][0] =  -17.492088\n",
      "minorAxis_2[iTrk][2][0] =  0.12978874\n",
      "  \n",
      "majorAxis[iTrk][0][0] =  0.00043501743\n",
      "majorAxis[iTrk][1][0] =  -0.0016521378\n",
      "majorAxis[iTrk][2][0] =  0.17373301\n",
      "minorAxis_1[iTrk][0][0] =  -17.0855\n",
      "minorAxis_1[iTrk][1][0] =  -4.4987106\n",
      "minorAxis_1[iTrk][2][0] =  -7.7275175e-08\n",
      "minorAxis_2[iTrk][0][0] =  -4.4984937\n",
      "minorAxis_2[iTrk][1][0] =  17.084677\n",
      "minorAxis_2[iTrk][2][0] =  0.17373303\n",
      "  \n",
      "len(X) =  80000\n",
      "len(Xlist) =  1\n",
      "Loaded /share/lazy/will/data/June30_2020_80k_1.h5 in 153.5 s\n",
      "pocaMx.shape =  (80000,)\n",
      "nEvts =  80000\n",
      "len(pocaMx[0]) =  222\n",
      "len(pocaMx[1]) =  133\n",
      "len(pocaMx[2]) =  259\n",
      "len(pocaMx[3]) =  114\n",
      "len(pocaMx[4]) =  143\n",
      "majorAxis.shape =  (80000, 3)\n",
      "minorAxis_1.shape =  (80000, 3)\n",
      "minorAxis_2.shape =  (80000, 3)\n",
      "have entered six_ellipsoid_parameters\n",
      "  \n",
      " \n",
      "  nEvts =  80000\n",
      " iEvt, nTrks =  0 222\n",
      " iEvt, nTrks =  1 133\n",
      " iEvt, nTrks =  2 259\n",
      " iEvt, nTrks =  3 114\n",
      " iEvt, nTrks =  4 143\n",
      " iEvt, nTrks =  5 136\n",
      " iEvt, nTrks =  6 397\n",
      " iEvt, nTrks =  7 370\n",
      " iEvt, nTrks =  8 97\n",
      " iEvt, nTrks =  9 67\n",
      "A.shape =  (80000,)\n",
      "majorAxis[iTrk][0][0] =  -0.001036478\n",
      "majorAxis[iTrk][1][0] =  0.0009833863\n",
      "majorAxis[iTrk][2][0] =  0.15887721\n",
      "minorAxis_1[iTrk][0][0] =  -12.160475\n",
      "minorAxis_1[iTrk][1][0] =  -12.817002\n",
      "minorAxis_1[iTrk][2][0] =  0.0\n",
      "minorAxis_2[iTrk][0][0] =  -12.816484\n",
      "minorAxis_2[iTrk][1][0] =  12.159985\n",
      "minorAxis_2[iTrk][2][0] =  -0.15887721\n",
      "  \n",
      "majorAxis[iTrk][0][0] =  0.0016579849\n",
      "majorAxis[iTrk][1][0] =  0.0020989499\n",
      "majorAxis[iTrk][2][0] =  0.21738033\n",
      "minorAxis_1[iTrk][0][0] =  -13.864233\n",
      "minorAxis_1[iTrk][1][0] =  10.95152\n",
      "minorAxis_1[iTrk][2][0] =  -3.3017489e-09\n",
      "minorAxis_2[iTrk][0][0] =  10.95069\n",
      "minorAxis_2[iTrk][1][0] =  13.863184\n",
      "minorAxis_2[iTrk][2][0] =  -0.21738033\n",
      "  \n",
      "majorAxis[iTrk][0][0] =  0.00012481198\n",
      "majorAxis[iTrk][1][0] =  -0.00028747538\n",
      "majorAxis[iTrk][2][0] =  0.07441149\n",
      "minorAxis_1[iTrk][0][0] =  -16.206305\n",
      "minorAxis_1[iTrk][1][0] =  -7.036224\n",
      "minorAxis_1[iTrk][2][0] =  5.3456716e-08\n",
      "minorAxis_2[iTrk][0][0] =  -7.0361605\n",
      "minorAxis_2[iTrk][1][0] =  16.20616\n",
      "minorAxis_2[iTrk][2][0] =  0.07441148\n",
      "  \n",
      "majorAxis[iTrk][0][0] =  -0.007920195\n",
      "majorAxis[iTrk][1][0] =  -0.009694931\n",
      "majorAxis[iTrk][2][0] =  0.47021532\n",
      "minorAxis_1[iTrk][0][0] =  -13.682467\n",
      "minorAxis_1[iTrk][1][0] =  11.177781\n",
      "minorAxis_1[iTrk][2][0] =  1.8638048e-10\n",
      "minorAxis_2[iTrk][0][0] =  11.173822\n",
      "minorAxis_2[iTrk][1][0] =  13.677622\n",
      "minorAxis_2[iTrk][2][0] =  0.47021535\n",
      "  \n",
      "majorAxis[iTrk][0][0] =  0.00038854493\n",
      "majorAxis[iTrk][1][0] =  0.0009230774\n",
      "majorAxis[iTrk][2][0] =  0.13301943\n",
      "minorAxis_1[iTrk][0][0] =  -16.284061\n",
      "minorAxis_1[iTrk][1][0] =  6.854344\n",
      "minorAxis_1[iTrk][2][0] =  2.2469074e-07\n",
      "minorAxis_2[iTrk][0][0] =  6.8541493\n",
      "minorAxis_2[iTrk][1][0] =  16.283602\n",
      "minorAxis_2[iTrk][2][0] =  -0.13301945\n",
      "  \n",
      "majorAxis[iTrk][0][0] =  -5.6093595e-05\n",
      "majorAxis[iTrk][1][0] =  0.000114469876\n",
      "majorAxis[iTrk][2][0] =  0.04745733\n",
      "minorAxis_1[iTrk][0][0] =  15.865369\n",
      "minorAxis_1[iTrk][1][0] =  7.774496\n",
      "minorAxis_1[iTrk][2][0] =  1.8465234e-06\n",
      "minorAxis_2[iTrk][0][0] =  7.774468\n",
      "minorAxis_2[iTrk][1][0] =  -15.865313\n",
      "minorAxis_2[iTrk][2][0] =  0.04745733\n",
      "  \n",
      "majorAxis[iTrk][0][0] =  9.375396e-05\n",
      "majorAxis[iTrk][1][0] =  0.0002926058\n",
      "majorAxis[iTrk][2][0] =  0.07367872\n",
      "minorAxis_1[iTrk][0][0] =  -16.825275\n",
      "minorAxis_1[iTrk][1][0] =  5.390994\n",
      "minorAxis_1[iTrk][2][0] =  -2.1861728e-08\n",
      "minorAxis_2[iTrk][0][0] =  5.3909473\n",
      "minorAxis_2[iTrk][1][0] =  16.825129\n",
      "minorAxis_2[iTrk][2][0] =  -0.07367872\n",
      "  \n",
      "majorAxis[iTrk][0][0] =  -1.1543522e-06\n",
      "majorAxis[iTrk][1][0] =  2.8112001e-05\n",
      "majorAxis[iTrk][2][0] =  0.022295665\n",
      "minorAxis_1[iTrk][0][0] =  -17.652967\n",
      "minorAxis_1[iTrk][1][0] =  -0.7248769\n",
      "minorAxis_1[iTrk][2][0] =  1.7815448e-07\n",
      "minorAxis_2[iTrk][0][0] =  -0.7248763\n",
      "minorAxis_2[iTrk][1][0] =  17.652954\n",
      "minorAxis_2[iTrk][2][0] =  -0.022295661\n",
      "  \n",
      "majorAxis[iTrk][0][0] =  -0.2612214\n",
      "majorAxis[iTrk][1][0] =  0.83076316\n",
      "majorAxis[iTrk][2][0] =  3.8745012\n",
      "minorAxis_1[iTrk][0][0] =  -16.85429\n",
      "minorAxis_1[iTrk][1][0] =  -5.299587\n",
      "minorAxis_1[iTrk][2][0] =  2.0865195e-11\n",
      "minorAxis_2[iTrk][0][0] =  -5.1705856\n",
      "minorAxis_2[iTrk][1][0] =  16.444027\n",
      "minorAxis_2[iTrk][2][0] =  -3.874501\n",
      "  \n",
      "majorAxis[iTrk][0][0] =  -0.057592034\n",
      "majorAxis[iTrk][1][0] =  0.06503555\n",
      "majorAxis[iTrk][2][0] =  1.2373537\n",
      "minorAxis_1[iTrk][0][0] =  13.227038\n",
      "minorAxis_1[iTrk][1][0] =  11.713163\n",
      "minorAxis_1[iTrk][2][0] =  1.7679876e-10\n",
      "minorAxis_2[iTrk][0][0] =  11.684402\n",
      "minorAxis_2[iTrk][1][0] =  -13.194561\n",
      "minorAxis_2[iTrk][2][0] =  1.2373537\n",
      "  \n",
      "len(X) =  80000\n",
      "len(Xlist) =  2\n",
      "Loaded /share/lazy/will/data/June30_2020_80k_2.h5 in 155.3 s\n",
      "pocaMx.shape =  (80000,)\n"
     ]
    },
    {
     "name": "stdout",
     "output_type": "stream",
     "text": [
      "nEvts =  80000\n",
      "len(pocaMx[0]) =  196\n",
      "len(pocaMx[1]) =  35\n",
      "len(pocaMx[2]) =  265\n",
      "len(pocaMx[3]) =  128\n",
      "len(pocaMx[4]) =  124\n",
      "majorAxis.shape =  (80000, 3)\n",
      "minorAxis_1.shape =  (80000, 3)\n",
      "minorAxis_2.shape =  (80000, 3)\n",
      "have entered six_ellipsoid_parameters\n",
      "  \n",
      " \n",
      "  nEvts =  80000\n",
      " iEvt, nTrks =  0 196\n",
      " iEvt, nTrks =  1 35\n",
      " iEvt, nTrks =  2 265\n",
      " iEvt, nTrks =  3 128\n",
      " iEvt, nTrks =  4 124\n",
      " iEvt, nTrks =  5 122\n",
      " iEvt, nTrks =  6 300\n",
      " iEvt, nTrks =  7 179\n",
      " iEvt, nTrks =  8 243\n",
      " iEvt, nTrks =  9 112\n",
      "A.shape =  (80000,)\n",
      "majorAxis[iTrk][0][0] =  -2.440992e-05\n",
      "majorAxis[iTrk][1][0] =  -0.00038087237\n",
      "majorAxis[iTrk][2][0] =  0.08211532\n",
      "minorAxis_1[iTrk][0][0] =  -17.631672\n",
      "minorAxis_1[iTrk][1][0] =  1.130005\n",
      "minorAxis_1[iTrk][2][0] =  4.7444193e-08\n",
      "minorAxis_2[iTrk][0][0] =  1.1299927\n",
      "minorAxis_2[iTrk][1][0] =  17.631481\n",
      "minorAxis_2[iTrk][2][0] =  0.08211532\n",
      "  \n",
      "majorAxis[iTrk][0][0] =  -0.02277395\n",
      "majorAxis[iTrk][1][0] =  0.0014473597\n",
      "majorAxis[iTrk][2][0] =  0.6347583\n",
      "minorAxis_1[iTrk][0][0] =  -1.1205891\n",
      "minorAxis_1[iTrk][1][0] =  -17.632273\n",
      "minorAxis_1[iTrk][2][0] =  2.1543272e-09\n",
      "minorAxis_2[iTrk][0][0] =  -17.620888\n",
      "minorAxis_2[iTrk][1][0] =  1.1198657\n",
      "minorAxis_2[iTrk][2][0] =  -0.63475823\n",
      "  \n",
      "majorAxis[iTrk][0][0] =  0.0004024825\n",
      "majorAxis[iTrk][1][0] =  -0.00023784715\n",
      "majorAxis[iTrk][2][0] =  0.090883136\n",
      "minorAxis_1[iTrk][0][0] =  -8.988615\n",
      "minorAxis_1[iTrk][1][0] =  -15.210441\n",
      "minorAxis_1[iTrk][2][0] =  -6.56547e-08\n",
      "minorAxis_2[iTrk][0][0] =  -15.21024\n",
      "minorAxis_2[iTrk][1][0] =  8.988497\n",
      "minorAxis_2[iTrk][2][0] =  0.090883136\n",
      "  \n",
      "majorAxis[iTrk][0][0] =  0.0068744724\n",
      "majorAxis[iTrk][1][0] =  0.0017050834\n",
      "majorAxis[iTrk][2][0] =  0.3537121\n",
      "minorAxis_1[iTrk][0][0] =  4.2532983\n",
      "minorAxis_1[iTrk][1][0] =  -17.148241\n",
      "minorAxis_1[iTrk][2][0] =  1.1939819e-09\n",
      "minorAxis_2[iTrk][0][0] =  -17.144806\n",
      "minorAxis_2[iTrk][1][0] =  -4.252446\n",
      "minorAxis_2[iTrk][2][0] =  0.3537121\n",
      "  \n",
      "majorAxis[iTrk][0][0] =  -0.004920899\n",
      "majorAxis[iTrk][1][0] =  0.0009170567\n",
      "majorAxis[iTrk][2][0] =  0.2973651\n",
      "minorAxis_1[iTrk][0][0] =  -3.236844\n",
      "minorAxis_1[iTrk][1][0] =  -17.36881\n",
      "minorAxis_1[iTrk][2][0] =  -4.7397712e-09\n",
      "minorAxis_2[iTrk][0][0] =  -17.36635\n",
      "minorAxis_2[iTrk][1][0] =  3.2363856\n",
      "minorAxis_2[iTrk][2][0] =  -0.29736507\n",
      "  \n",
      "majorAxis[iTrk][0][0] =  -0.0001240533\n",
      "majorAxis[iTrk][1][0] =  0.00033394952\n",
      "majorAxis[iTrk][2][0] =  0.079335004\n",
      "minorAxis_1[iTrk][0][0] =  -16.562042\n",
      "minorAxis_1[iTrk][1][0] =  -6.1523557\n",
      "minorAxis_1[iTrk][2][0] =  3.1261713e-08\n",
      "minorAxis_2[iTrk][0][0] =  -6.1522937\n",
      "minorAxis_2[iTrk][1][0] =  16.561876\n",
      "minorAxis_2[iTrk][2][0] =  -0.079335004\n",
      "  \n",
      "majorAxis[iTrk][0][0] =  0.00010132754\n",
      "majorAxis[iTrk][1][0] =  6.684385e-05\n",
      "majorAxis[iTrk][2][0] =  0.046310693\n",
      "minorAxis_1[iTrk][0][0] =  -9.728917\n",
      "minorAxis_1[iTrk][1][0] =  14.747911\n",
      "minorAxis_1[iTrk][2][0] =  -2.3591362e-07\n",
      "minorAxis_2[iTrk][0][0] =  14.74786\n",
      "minorAxis_2[iTrk][1][0] =  9.728883\n",
      "minorAxis_2[iTrk][2][0] =  -0.04631069\n",
      "  \n",
      "majorAxis[iTrk][0][0] =  0.0042806785\n",
      "majorAxis[iTrk][1][0] =  0.004939851\n",
      "majorAxis[iTrk][2][0] =  0.3398017\n",
      "minorAxis_1[iTrk][0][0] =  13.3521\n",
      "minorAxis_1[iTrk][1][0] =  -11.5704\n",
      "minorAxis_1[iTrk][2][0] =  1.21654296e-08\n",
      "minorAxis_2[iTrk][0][0] =  -11.56826\n",
      "minorAxis_2[iTrk][1][0] =  -13.349631\n",
      "minorAxis_2[iTrk][2][0] =  0.33980173\n",
      "  \n",
      "majorAxis[iTrk][0][0] =  -0.00013103899\n",
      "majorAxis[iTrk][1][0] =  -0.0006021903\n",
      "majorAxis[iTrk][2][0] =  0.10434653\n",
      "minorAxis_1[iTrk][0][0] =  -17.26384\n",
      "minorAxis_1[iTrk][1][0] =  3.7566798\n",
      "minorAxis_1[iTrk][2][0] =  -9.616703e-08\n",
      "minorAxis_2[iTrk][0][0] =  3.7566135\n",
      "minorAxis_2[iTrk][1][0] =  17.263535\n",
      "minorAxis_2[iTrk][2][0] =  0.10434652\n",
      "  \n",
      "majorAxis[iTrk][0][0] =  0.0016481678\n",
      "majorAxis[iTrk][1][0] =  -0.0019788505\n",
      "majorAxis[iTrk][2][0] =  0.21330062\n",
      "minorAxis_1[iTrk][0][0] =  -13.575765\n",
      "minorAxis_1[iTrk][1][0] =  -11.307139\n",
      "minorAxis_1[iTrk][2][0] =  8.543098e-09\n",
      "minorAxis_2[iTrk][0][0] =  -11.306314\n",
      "minorAxis_2[iTrk][1][0] =  13.574774\n",
      "minorAxis_2[iTrk][2][0] =  0.21330062\n",
      "  \n",
      "len(X) =  80000\n",
      "len(Xlist) =  3\n",
      "Loaded /share/lazy/will/data/June30_2020_80k_3.h5 in 151.7 s\n",
      "pocaMx.shape =  (80000,)\n",
      "nEvts =  80000\n",
      "len(pocaMx[0]) =  204\n",
      "len(pocaMx[1]) =  33\n",
      "len(pocaMx[2]) =  206\n",
      "len(pocaMx[3]) =  150\n",
      "len(pocaMx[4]) =  96\n",
      "majorAxis.shape =  (80000, 3)\n",
      "minorAxis_1.shape =  (80000, 3)\n",
      "minorAxis_2.shape =  (80000, 3)\n",
      "have entered six_ellipsoid_parameters\n",
      "  \n",
      " \n",
      "  nEvts =  80000\n",
      " iEvt, nTrks =  0 204\n",
      " iEvt, nTrks =  1 33\n",
      " iEvt, nTrks =  2 206\n",
      " iEvt, nTrks =  3 150\n",
      " iEvt, nTrks =  4 96\n",
      " iEvt, nTrks =  5 10\n",
      " iEvt, nTrks =  6 174\n",
      " iEvt, nTrks =  7 320\n",
      " iEvt, nTrks =  8 164\n",
      " iEvt, nTrks =  9 119\n",
      "A.shape =  (80000,)\n",
      "majorAxis[iTrk][0][0] =  0.00057876867\n",
      "majorAxis[iTrk][1][0] =  0.00037603904\n",
      "majorAxis[iTrk][2][0] =  0.110427074\n",
      "minorAxis_1[iTrk][0][0] =  9.62588\n",
      "minorAxis_1[iTrk][1][0] =  -14.81537\n",
      "minorAxis_1[iTrk][2][0] =  8.391163e-09\n",
      "minorAxis_2[iTrk][0][0] =  -14.815081\n",
      "minorAxis_2[iTrk][1][0] =  -9.625692\n",
      "minorAxis_2[iTrk][2][0] =  0.11042709\n",
      "  \n",
      "majorAxis[iTrk][0][0] =  -7.687664e-05\n",
      "majorAxis[iTrk][1][0] =  -0.0017985329\n",
      "majorAxis[iTrk][2][0] =  0.17833562\n",
      "minorAxis_1[iTrk][0][0] =  -17.651728\n",
      "minorAxis_1[iTrk][1][0] =  0.7545069\n",
      "minorAxis_1[iTrk][2][0] =  -7.932265e-09\n",
      "minorAxis_2[iTrk][0][0] =  0.75446844\n",
      "minorAxis_2[iTrk][1][0] =  17.650827\n",
      "minorAxis_2[iTrk][2][0] =  0.17833562\n",
      "  \n",
      "majorAxis[iTrk][0][0] =  4.5855802e-05\n",
      "majorAxis[iTrk][1][0] =  -0.00054240844\n",
      "majorAxis[iTrk][2][0] =  0.098067455\n",
      "minorAxis_1[iTrk][0][0] =  17.605043\n",
      "minorAxis_1[iTrk][1][0] =  1.4883496\n",
      "minorAxis_1[iTrk][2][0] =  -2.7847218e-08\n",
      "minorAxis_2[iTrk][0][0] =  1.4883265\n",
      "minorAxis_2[iTrk][1][0] =  -17.604773\n",
      "minorAxis_2[iTrk][2][0] =  -0.098067455\n",
      "  \n",
      "majorAxis[iTrk][0][0] =  -0.0013144773\n",
      "majorAxis[iTrk][1][0] =  0.0008680699\n",
      "majorAxis[iTrk][2][0] =  0.16682307\n",
      "minorAxis_1[iTrk][0][0] =  -9.736217\n",
      "minorAxis_1[iTrk][1][0] =  -14.743094\n",
      "minorAxis_1[iTrk][2][0] =  -1.7552136e-08\n",
      "minorAxis_2[iTrk][0][0] =  -14.742435\n",
      "minorAxis_2[iTrk][1][0] =  9.735782\n",
      "minorAxis_2[iTrk][2][0] =  -0.16682304\n",
      "  \n",
      "majorAxis[iTrk][0][0] =  0.032227762\n",
      "majorAxis[iTrk][1][0] =  0.007741693\n",
      "majorAxis[iTrk][2][0] =  0.76488173\n",
      "minorAxis_1[iTrk][0][0] =  -4.1267405\n",
      "minorAxis_1[iTrk][1][0] =  17.179138\n",
      "minorAxis_1[iTrk][2][0] =  -2.3529467e-10\n",
      "minorAxis_2[iTrk][0][0] =  17.16303\n",
      "minorAxis_2[iTrk][1][0] =  4.122871\n",
      "minorAxis_2[iTrk][2][0] =  -0.7648817\n",
      "  \n",
      "majorAxis[iTrk][0][0] =  1.9753945\n",
      "majorAxis[iTrk][1][0] =  2.5669005\n",
      "majorAxis[iTrk][2][0] =  7.226382\n",
      "minorAxis_1[iTrk][0][0] =  14.0017\n",
      "minorAxis_1[iTrk][1][0] =  -10.7752075\n",
      "minorAxis_1[iTrk][2][0] =  5.3286344e-11\n",
      "minorAxis_2[iTrk][0][0] =  -9.832683\n",
      "minorAxis_2[iTrk][1][0] =  -12.776951\n",
      "minorAxis_2[iTrk][2][0] =  7.226381\n",
      "  \n",
      "majorAxis[iTrk][0][0] =  -0.0026900356\n",
      "majorAxis[iTrk][1][0] =  -0.0015841618\n",
      "majorAxis[iTrk][2][0] =  0.234843\n",
      "minorAxis_1[iTrk][0][0] =  -8.965469\n",
      "minorAxis_1[iTrk][1][0] =  15.224096\n",
      "minorAxis_1[iTrk][2][0] =  2.8236277e-08\n",
      "minorAxis_2[iTrk][0][0] =  15.222751\n",
      "minorAxis_2[iTrk][1][0] =  8.964677\n",
      "minorAxis_2[iTrk][2][0] =  0.234843\n",
      "  \n",
      "majorAxis[iTrk][0][0] =  -0.0001692281\n",
      "majorAxis[iTrk][1][0] =  0.0003505444\n",
      "majorAxis[iTrk][2][0] =  0.08292902\n",
      "minorAxis_1[iTrk][0][0] =  -15.910811\n",
      "minorAxis_1[iTrk][1][0] =  -7.68107\n",
      "minorAxis_1[iTrk][2][0] =  1.587002e-08\n",
      "minorAxis_2[iTrk][0][0] =  -7.680986\n",
      "minorAxis_2[iTrk][1][0] =  15.910635\n",
      "minorAxis_2[iTrk][2][0] =  -0.08292903\n",
      "  \n",
      "majorAxis[iTrk][0][0] =  0.0017714669\n",
      "majorAxis[iTrk][1][0] =  -0.001515166\n",
      "majorAxis[iTrk][2][0] =  0.20293355\n",
      "minorAxis_1[iTrk][0][0] =  11.483943\n",
      "minorAxis_1[iTrk][1][0] =  13.426532\n",
      "minorAxis_1[iTrk][2][0] =  -2.7840934e-09\n",
      "minorAxis_2[iTrk][0][0] =  13.425648\n",
      "minorAxis_2[iTrk][1][0] =  -11.483187\n",
      "minorAxis_2[iTrk][2][0] =  -0.20293356\n",
      "  \n",
      "majorAxis[iTrk][0][0] =  0.0006359923\n",
      "majorAxis[iTrk][1][0] =  -0.0003371759\n",
      "majorAxis[iTrk][2][0] =  0.112773284\n",
      "minorAxis_1[iTrk][0][0] =  8.275655\n",
      "minorAxis_1[iTrk][1][0] =  15.609813\n",
      "minorAxis_1[iTrk][2][0] =  -5.6373224e-08\n",
      "minorAxis_2[iTrk][0][0] =  15.609494\n",
      "minorAxis_2[iTrk][1][0] =  -8.275486\n",
      "minorAxis_2[iTrk][2][0] =  -0.11277328\n",
      "  \n",
      "len(X) =  80000\n",
      "len(Xlist) =  4\n",
      "Loaded /share/lazy/will/data/June30_2020_80k_4.h5 in 155.5 s\n",
      "outer loop X.shape =  (320000, 9, 600)\n",
      "Constructing 320000 event dataset took 2.721 s\n",
      "x_t.shape =  torch.Size([320000, 9, 600])\n",
      "x_t.shape[0] =  320000\n",
      "x_t.shape[1] =  9\n",
      "x_t.shape =  torch.Size([320000, 9, 600])\n"
     ]
    }
   ],
   "source": [
    "## Training dataset. You can put as many files here as desired.\n",
    "\n",
    "##train_loader = collect_t2kde_data('/share/lazy/pv-finder/20k_evts_for_KDE_learning_200716.h5',\n",
    "train_loader = collect_t2kde_data('/share/lazy/will/data/June30_2020_80k_1.h5', \n",
    "                                  '/share/lazy/will/data/June30_2020_80k_2.h5',\n",
    "                                  '/share/lazy/will/data/June30_2020_80k_3.h5',\n",
    "                                  '/share/lazy/will/data/June30_2020_80k_4.h5',\n",
    "                                  #'/share/lazy/will/data/June30_2020_80k_5.h5',\n",
    "                                  #'/share/lazy/will/data/June30_2020_80k_6.h5',\n",
    "                                  #'/share/lazy/will/data/June30_2020_80k_7.h5',\n",
    "                             batch_size=batch_size,\n",
    "## if we are using a larger dataset (240K events, with the datasets above, and 11 GB  of GPU memory),\n",
    "## the dataset will overflow the GPU memory; device=device will allow the data to move back\n",
    "## and forth between the CPU and GPU memory. While this allows use of a larger dataset, it slows\n",
    "## down performance by about 10%.  So comment out when not needed.\n",
    "#                          device=device,\n",
    "##                           slice = slice(None,18000)\n",
    "                           )"
   ]
  },
  {
   "cell_type": "code",
   "execution_count": 16,
   "metadata": {
    "scrolled": false
   },
   "outputs": [
    {
     "name": "stdout",
     "output_type": "stream",
     "text": [
      "Loading data...\n",
      "pocaMx.shape =  (20000,)\n",
      "nEvts =  20000\n",
      "len(pocaMx[0]) =  211\n",
      "len(pocaMx[1]) =  21\n",
      "len(pocaMx[2]) =  20\n",
      "len(pocaMx[3]) =  198\n",
      "len(pocaMx[4]) =  233\n",
      "majorAxis.shape =  (20000, 3)\n",
      "minorAxis_1.shape =  (20000, 3)\n",
      "minorAxis_2.shape =  (20000, 3)\n",
      "have entered six_ellipsoid_parameters\n",
      "  \n",
      " \n",
      "  nEvts =  20000\n",
      " iEvt, nTrks =  0 211\n",
      " iEvt, nTrks =  1 21\n",
      " iEvt, nTrks =  2 20\n",
      " iEvt, nTrks =  3 198\n",
      " iEvt, nTrks =  4 233\n",
      " iEvt, nTrks =  5 85\n",
      " iEvt, nTrks =  6 223\n",
      " iEvt, nTrks =  7 425\n",
      " iEvt, nTrks =  8 252\n",
      " iEvt, nTrks =  9 169\n",
      "A.shape =  (20000,)\n",
      "majorAxis[iTrk][0][0] =  -0.00023452607\n",
      "majorAxis[iTrk][1][0] =  -0.00047206535\n",
      "majorAxis[iTrk][2][0] =  0.096502915\n",
      "minorAxis_1[iTrk][0][0] =  -15.822749\n",
      "minorAxis_1[iTrk][1][0] =  7.8608756\n",
      "minorAxis_1[iTrk][2][0] =  -2.6228399e-08\n",
      "minorAxis_2[iTrk][0][0] =  7.860759\n",
      "minorAxis_2[iTrk][1][0] =  15.822513\n",
      "minorAxis_2[iTrk][2][0] =  0.096502915\n",
      "  \n",
      "majorAxis[iTrk][0][0] =  -0.37655562\n",
      "majorAxis[iTrk][1][0] =  0.2768704\n",
      "majorAxis[iTrk][2][0] =  2.8546858\n",
      "minorAxis_1[iTrk][0][0] =  -10.466048\n",
      "minorAxis_1[iTrk][1][0] =  -14.234274\n",
      "minorAxis_1[iTrk][2][0] =  2.2974699e-11\n",
      "minorAxis_2[iTrk][0][0] =  -14.04724\n",
      "minorAxis_2[iTrk][1][0] =  10.328527\n",
      "minorAxis_2[iTrk][2][0] =  -2.8546853\n",
      "  \n",
      "majorAxis[iTrk][0][0] =  -0.024279848\n",
      "majorAxis[iTrk][1][0] =  0.0019689242\n",
      "majorAxis[iTrk][2][0] =  0.65580803\n",
      "minorAxis_1[iTrk][0][0] =  -1.4280497\n",
      "minorAxis_1[iTrk][1][0] =  -17.610037\n",
      "minorAxis_1[iTrk][2][0] =  -6.123401e-10\n",
      "minorAxis_2[iTrk][0][0] =  -17.597902\n",
      "minorAxis_2[iTrk][1][0] =  1.4270656\n",
      "minorAxis_2[iTrk][2][0] =  -0.6558081\n",
      "  \n",
      "majorAxis[iTrk][0][0] =  -0.007825993\n",
      "majorAxis[iTrk][1][0] =  0.004052097\n",
      "majorAxis[iTrk][2][0] =  0.3945435\n",
      "minorAxis_1[iTrk][0][0] =  8.123606\n",
      "minorAxis_1[iTrk][1][0] =  15.689478\n",
      "minorAxis_1[iTrk][2][0] =  -2.4940747e-10\n",
      "minorAxis_2[iTrk][0][0] =  15.685566\n",
      "minorAxis_2[iTrk][1][0] =  -8.12158\n",
      "minorAxis_2[iTrk][2][0] =  0.3945435\n",
      "  \n",
      "majorAxis[iTrk][0][0] =  0.0046102717\n",
      "majorAxis[iTrk][1][0] =  -0.0016007021\n",
      "majorAxis[iTrk][2][0] =  0.29361814\n",
      "minorAxis_1[iTrk][0][0] =  -5.794979\n",
      "minorAxis_1[iTrk][1][0] =  -16.690445\n",
      "minorAxis_1[iTrk][2][0] =  2.4897104e-09\n",
      "minorAxis_2[iTrk][0][0] =  -16.688139\n",
      "minorAxis_2[iTrk][1][0] =  5.794179\n",
      "minorAxis_2[iTrk][2][0] =  0.2936181\n",
      "  \n",
      "majorAxis[iTrk][0][0] =  -0.00020041714\n",
      "majorAxis[iTrk][1][0] =  0.00010468164\n",
      "majorAxis[iTrk][2][0] =  0.06320469\n",
      "minorAxis_1[iTrk][0][0] =  8.179679\n",
      "minorAxis_1[iTrk][1][0] =  15.660318\n",
      "minorAxis_1[iTrk][2][0] =  7.40176e-08\n",
      "minorAxis_2[iTrk][0][0] =  15.660218\n",
      "minorAxis_2[iTrk][1][0] =  -8.179626\n",
      "minorAxis_2[iTrk][2][0] =  0.06320469\n",
      "  \n",
      "majorAxis[iTrk][0][0] =  -0.00020603223\n",
      "majorAxis[iTrk][1][0] =  -0.0005662605\n",
      "majorAxis[iTrk][2][0] =  0.10317981\n",
      "minorAxis_1[iTrk][0][0] =  -16.603\n",
      "minorAxis_1[iTrk][1][0] =  6.040953\n",
      "minorAxis_1[iTrk][2][0] =  4.5812504e-07\n",
      "minorAxis_2[iTrk][0][0] =  6.0408506\n",
      "minorAxis_2[iTrk][1][0] =  16.602718\n",
      "minorAxis_2[iTrk][2][0] =  0.10317982\n",
      "  \n",
      "majorAxis[iTrk][0][0] =  -0.00040561036\n",
      "majorAxis[iTrk][1][0] =  0.00014461782\n",
      "majorAxis[iTrk][2][0] =  0.0872241\n",
      "minorAxis_1[iTrk][0][0] =  -5.933496\n",
      "minorAxis_1[iTrk][1][0] =  -16.641706\n",
      "minorAxis_1[iTrk][2][0] =  1.0720762e-08\n",
      "minorAxis_2[iTrk][0][0] =  -16.641502\n",
      "minorAxis_2[iTrk][1][0] =  5.9334235\n",
      "minorAxis_2[iTrk][2][0] =  -0.0872241\n",
      "  \n",
      "majorAxis[iTrk][0][0] =  0.00038461428\n",
      "majorAxis[iTrk][1][0] =  -3.4232737e-05\n",
      "majorAxis[iTrk][2][0] =  0.08259597\n",
      "minorAxis_1[iTrk][0][0] =  -1.5663412\n",
      "minorAxis_1[iTrk][1][0] =  -17.598276\n",
      "minorAxis_1[iTrk][2][0] =  3.2106848e-07\n",
      "minorAxis_2[iTrk][0][0] =  -17.598082\n",
      "minorAxis_2[iTrk][1][0] =  1.5663238\n",
      "minorAxis_2[iTrk][2][0] =  0.08259596\n",
      "  \n",
      "majorAxis[iTrk][0][0] =  -0.022277953\n",
      "majorAxis[iTrk][1][0] =  -0.0046837274\n",
      "majorAxis[iTrk][2][0] =  0.63399464\n",
      "minorAxis_1[iTrk][0][0] =  -3.6350286\n",
      "minorAxis_1[iTrk][1][0] =  17.289862\n",
      "minorAxis_1[iTrk][2][0] =  9.566169e-10\n",
      "minorAxis_2[iTrk][0][0] =  17.278727\n",
      "minorAxis_2[iTrk][1][0] =  3.6326876\n",
      "minorAxis_2[iTrk][2][0] =  0.6339946\n",
      "  \n",
      "len(X) =  20000\n",
      "len(Xlist) =  1\n",
      "Loaded dataAA/20K_POCA_kernel_evts_200926.h5 in 37.66 s\n",
      "outer loop X.shape =  (20000, 9, 600)\n",
      "Constructing 10000 event dataset took 0.09041 s\n",
      "x_t.shape =  torch.Size([10000, 9, 600])\n",
      "x_t.shape[0] =  10000\n",
      "x_t.shape[1] =  9\n",
      "x_t.shape =  torch.Size([10000, 9, 600])\n"
     ]
    }
   ],
   "source": [
    "                            \n",
    "# Validation dataset. You can slice to reduce the size.\n",
    "## mds no separate validation set yet,\n",
    "\n",
    "## For iter12, change slice(18000,None) to slice(10000,None)\n",
    "## First, we'll see if this changes the validation cost significantly\n",
    "##  Second, we will see if this reduces the validation cost fluctuations\n",
    "val_loader = collect_t2kde_data('dataAA/20K_POCA_kernel_evts_200926.h5',\n",
    "                            batch_size=batch_size,\n",
    "##                            device=device,\n",
    "                            slice = slice(10000,None)\n",
    "                           )"
   ]
  },
  {
   "cell_type": "code",
   "execution_count": 17,
   "metadata": {
    "scrolled": false
   },
   "outputs": [
    {
     "data": {
      "application/javascript": [
       "/* Put everything inside the global mpl namespace */\n",
       "window.mpl = {};\n",
       "\n",
       "\n",
       "mpl.get_websocket_type = function() {\n",
       "    if (typeof(WebSocket) !== 'undefined') {\n",
       "        return WebSocket;\n",
       "    } else if (typeof(MozWebSocket) !== 'undefined') {\n",
       "        return MozWebSocket;\n",
       "    } else {\n",
       "        alert('Your browser does not have WebSocket support. ' +\n",
       "              'Please try Chrome, Safari or Firefox ≥ 6. ' +\n",
       "              'Firefox 4 and 5 are also supported but you ' +\n",
       "              'have to enable WebSockets in about:config.');\n",
       "    };\n",
       "}\n",
       "\n",
       "mpl.figure = function(figure_id, websocket, ondownload, parent_element) {\n",
       "    this.id = figure_id;\n",
       "\n",
       "    this.ws = websocket;\n",
       "\n",
       "    this.supports_binary = (this.ws.binaryType != undefined);\n",
       "\n",
       "    if (!this.supports_binary) {\n",
       "        var warnings = document.getElementById(\"mpl-warnings\");\n",
       "        if (warnings) {\n",
       "            warnings.style.display = 'block';\n",
       "            warnings.textContent = (\n",
       "                \"This browser does not support binary websocket messages. \" +\n",
       "                    \"Performance may be slow.\");\n",
       "        }\n",
       "    }\n",
       "\n",
       "    this.imageObj = new Image();\n",
       "\n",
       "    this.context = undefined;\n",
       "    this.message = undefined;\n",
       "    this.canvas = undefined;\n",
       "    this.rubberband_canvas = undefined;\n",
       "    this.rubberband_context = undefined;\n",
       "    this.format_dropdown = undefined;\n",
       "\n",
       "    this.image_mode = 'full';\n",
       "\n",
       "    this.root = $('<div/>');\n",
       "    this._root_extra_style(this.root)\n",
       "    this.root.attr('style', 'display: inline-block');\n",
       "\n",
       "    $(parent_element).append(this.root);\n",
       "\n",
       "    this._init_header(this);\n",
       "    this._init_canvas(this);\n",
       "    this._init_toolbar(this);\n",
       "\n",
       "    var fig = this;\n",
       "\n",
       "    this.waiting = false;\n",
       "\n",
       "    this.ws.onopen =  function () {\n",
       "            fig.send_message(\"supports_binary\", {value: fig.supports_binary});\n",
       "            fig.send_message(\"send_image_mode\", {});\n",
       "            if (mpl.ratio != 1) {\n",
       "                fig.send_message(\"set_dpi_ratio\", {'dpi_ratio': mpl.ratio});\n",
       "            }\n",
       "            fig.send_message(\"refresh\", {});\n",
       "        }\n",
       "\n",
       "    this.imageObj.onload = function() {\n",
       "            if (fig.image_mode == 'full') {\n",
       "                // Full images could contain transparency (where diff images\n",
       "                // almost always do), so we need to clear the canvas so that\n",
       "                // there is no ghosting.\n",
       "                fig.context.clearRect(0, 0, fig.canvas.width, fig.canvas.height);\n",
       "            }\n",
       "            fig.context.drawImage(fig.imageObj, 0, 0);\n",
       "        };\n",
       "\n",
       "    this.imageObj.onunload = function() {\n",
       "        fig.ws.close();\n",
       "    }\n",
       "\n",
       "    this.ws.onmessage = this._make_on_message_function(this);\n",
       "\n",
       "    this.ondownload = ondownload;\n",
       "}\n",
       "\n",
       "mpl.figure.prototype._init_header = function() {\n",
       "    var titlebar = $(\n",
       "        '<div class=\"ui-dialog-titlebar ui-widget-header ui-corner-all ' +\n",
       "        'ui-helper-clearfix\"/>');\n",
       "    var titletext = $(\n",
       "        '<div class=\"ui-dialog-title\" style=\"width: 100%; ' +\n",
       "        'text-align: center; padding: 3px;\"/>');\n",
       "    titlebar.append(titletext)\n",
       "    this.root.append(titlebar);\n",
       "    this.header = titletext[0];\n",
       "}\n",
       "\n",
       "\n",
       "\n",
       "mpl.figure.prototype._canvas_extra_style = function(canvas_div) {\n",
       "\n",
       "}\n",
       "\n",
       "\n",
       "mpl.figure.prototype._root_extra_style = function(canvas_div) {\n",
       "\n",
       "}\n",
       "\n",
       "mpl.figure.prototype._init_canvas = function() {\n",
       "    var fig = this;\n",
       "\n",
       "    var canvas_div = $('<div/>');\n",
       "\n",
       "    canvas_div.attr('style', 'position: relative; clear: both; outline: 0');\n",
       "\n",
       "    function canvas_keyboard_event(event) {\n",
       "        return fig.key_event(event, event['data']);\n",
       "    }\n",
       "\n",
       "    canvas_div.keydown('key_press', canvas_keyboard_event);\n",
       "    canvas_div.keyup('key_release', canvas_keyboard_event);\n",
       "    this.canvas_div = canvas_div\n",
       "    this._canvas_extra_style(canvas_div)\n",
       "    this.root.append(canvas_div);\n",
       "\n",
       "    var canvas = $('<canvas/>');\n",
       "    canvas.addClass('mpl-canvas');\n",
       "    canvas.attr('style', \"left: 0; top: 0; z-index: 0; outline: 0\")\n",
       "\n",
       "    this.canvas = canvas[0];\n",
       "    this.context = canvas[0].getContext(\"2d\");\n",
       "\n",
       "    var backingStore = this.context.backingStorePixelRatio ||\n",
       "\tthis.context.webkitBackingStorePixelRatio ||\n",
       "\tthis.context.mozBackingStorePixelRatio ||\n",
       "\tthis.context.msBackingStorePixelRatio ||\n",
       "\tthis.context.oBackingStorePixelRatio ||\n",
       "\tthis.context.backingStorePixelRatio || 1;\n",
       "\n",
       "    mpl.ratio = (window.devicePixelRatio || 1) / backingStore;\n",
       "\n",
       "    var rubberband = $('<canvas/>');\n",
       "    rubberband.attr('style', \"position: absolute; left: 0; top: 0; z-index: 1;\")\n",
       "\n",
       "    var pass_mouse_events = true;\n",
       "\n",
       "    canvas_div.resizable({\n",
       "        start: function(event, ui) {\n",
       "            pass_mouse_events = false;\n",
       "        },\n",
       "        resize: function(event, ui) {\n",
       "            fig.request_resize(ui.size.width, ui.size.height);\n",
       "        },\n",
       "        stop: function(event, ui) {\n",
       "            pass_mouse_events = true;\n",
       "            fig.request_resize(ui.size.width, ui.size.height);\n",
       "        },\n",
       "    });\n",
       "\n",
       "    function mouse_event_fn(event) {\n",
       "        if (pass_mouse_events)\n",
       "            return fig.mouse_event(event, event['data']);\n",
       "    }\n",
       "\n",
       "    rubberband.mousedown('button_press', mouse_event_fn);\n",
       "    rubberband.mouseup('button_release', mouse_event_fn);\n",
       "    // Throttle sequential mouse events to 1 every 20ms.\n",
       "    rubberband.mousemove('motion_notify', mouse_event_fn);\n",
       "\n",
       "    rubberband.mouseenter('figure_enter', mouse_event_fn);\n",
       "    rubberband.mouseleave('figure_leave', mouse_event_fn);\n",
       "\n",
       "    canvas_div.on(\"wheel\", function (event) {\n",
       "        event = event.originalEvent;\n",
       "        event['data'] = 'scroll'\n",
       "        if (event.deltaY < 0) {\n",
       "            event.step = 1;\n",
       "        } else {\n",
       "            event.step = -1;\n",
       "        }\n",
       "        mouse_event_fn(event);\n",
       "    });\n",
       "\n",
       "    canvas_div.append(canvas);\n",
       "    canvas_div.append(rubberband);\n",
       "\n",
       "    this.rubberband = rubberband;\n",
       "    this.rubberband_canvas = rubberband[0];\n",
       "    this.rubberband_context = rubberband[0].getContext(\"2d\");\n",
       "    this.rubberband_context.strokeStyle = \"#000000\";\n",
       "\n",
       "    this._resize_canvas = function(width, height) {\n",
       "        // Keep the size of the canvas, canvas container, and rubber band\n",
       "        // canvas in synch.\n",
       "        canvas_div.css('width', width)\n",
       "        canvas_div.css('height', height)\n",
       "\n",
       "        canvas.attr('width', width * mpl.ratio);\n",
       "        canvas.attr('height', height * mpl.ratio);\n",
       "        canvas.attr('style', 'width: ' + width + 'px; height: ' + height + 'px;');\n",
       "\n",
       "        rubberband.attr('width', width);\n",
       "        rubberband.attr('height', height);\n",
       "    }\n",
       "\n",
       "    // Set the figure to an initial 600x600px, this will subsequently be updated\n",
       "    // upon first draw.\n",
       "    this._resize_canvas(600, 600);\n",
       "\n",
       "    // Disable right mouse context menu.\n",
       "    $(this.rubberband_canvas).bind(\"contextmenu\",function(e){\n",
       "        return false;\n",
       "    });\n",
       "\n",
       "    function set_focus () {\n",
       "        canvas.focus();\n",
       "        canvas_div.focus();\n",
       "    }\n",
       "\n",
       "    window.setTimeout(set_focus, 100);\n",
       "}\n",
       "\n",
       "mpl.figure.prototype._init_toolbar = function() {\n",
       "    var fig = this;\n",
       "\n",
       "    var nav_element = $('<div/>');\n",
       "    nav_element.attr('style', 'width: 100%');\n",
       "    this.root.append(nav_element);\n",
       "\n",
       "    // Define a callback function for later on.\n",
       "    function toolbar_event(event) {\n",
       "        return fig.toolbar_button_onclick(event['data']);\n",
       "    }\n",
       "    function toolbar_mouse_event(event) {\n",
       "        return fig.toolbar_button_onmouseover(event['data']);\n",
       "    }\n",
       "\n",
       "    for(var toolbar_ind in mpl.toolbar_items) {\n",
       "        var name = mpl.toolbar_items[toolbar_ind][0];\n",
       "        var tooltip = mpl.toolbar_items[toolbar_ind][1];\n",
       "        var image = mpl.toolbar_items[toolbar_ind][2];\n",
       "        var method_name = mpl.toolbar_items[toolbar_ind][3];\n",
       "\n",
       "        if (!name) {\n",
       "            // put a spacer in here.\n",
       "            continue;\n",
       "        }\n",
       "        var button = $('<button/>');\n",
       "        button.addClass('ui-button ui-widget ui-state-default ui-corner-all ' +\n",
       "                        'ui-button-icon-only');\n",
       "        button.attr('role', 'button');\n",
       "        button.attr('aria-disabled', 'false');\n",
       "        button.click(method_name, toolbar_event);\n",
       "        button.mouseover(tooltip, toolbar_mouse_event);\n",
       "\n",
       "        var icon_img = $('<span/>');\n",
       "        icon_img.addClass('ui-button-icon-primary ui-icon');\n",
       "        icon_img.addClass(image);\n",
       "        icon_img.addClass('ui-corner-all');\n",
       "\n",
       "        var tooltip_span = $('<span/>');\n",
       "        tooltip_span.addClass('ui-button-text');\n",
       "        tooltip_span.html(tooltip);\n",
       "\n",
       "        button.append(icon_img);\n",
       "        button.append(tooltip_span);\n",
       "\n",
       "        nav_element.append(button);\n",
       "    }\n",
       "\n",
       "    var fmt_picker_span = $('<span/>');\n",
       "\n",
       "    var fmt_picker = $('<select/>');\n",
       "    fmt_picker.addClass('mpl-toolbar-option ui-widget ui-widget-content');\n",
       "    fmt_picker_span.append(fmt_picker);\n",
       "    nav_element.append(fmt_picker_span);\n",
       "    this.format_dropdown = fmt_picker[0];\n",
       "\n",
       "    for (var ind in mpl.extensions) {\n",
       "        var fmt = mpl.extensions[ind];\n",
       "        var option = $(\n",
       "            '<option/>', {selected: fmt === mpl.default_extension}).html(fmt);\n",
       "        fmt_picker.append(option);\n",
       "    }\n",
       "\n",
       "    // Add hover states to the ui-buttons\n",
       "    $( \".ui-button\" ).hover(\n",
       "        function() { $(this).addClass(\"ui-state-hover\");},\n",
       "        function() { $(this).removeClass(\"ui-state-hover\");}\n",
       "    );\n",
       "\n",
       "    var status_bar = $('<span class=\"mpl-message\"/>');\n",
       "    nav_element.append(status_bar);\n",
       "    this.message = status_bar[0];\n",
       "}\n",
       "\n",
       "mpl.figure.prototype.request_resize = function(x_pixels, y_pixels) {\n",
       "    // Request matplotlib to resize the figure. Matplotlib will then trigger a resize in the client,\n",
       "    // which will in turn request a refresh of the image.\n",
       "    this.send_message('resize', {'width': x_pixels, 'height': y_pixels});\n",
       "}\n",
       "\n",
       "mpl.figure.prototype.send_message = function(type, properties) {\n",
       "    properties['type'] = type;\n",
       "    properties['figure_id'] = this.id;\n",
       "    this.ws.send(JSON.stringify(properties));\n",
       "}\n",
       "\n",
       "mpl.figure.prototype.send_draw_message = function() {\n",
       "    if (!this.waiting) {\n",
       "        this.waiting = true;\n",
       "        this.ws.send(JSON.stringify({type: \"draw\", figure_id: this.id}));\n",
       "    }\n",
       "}\n",
       "\n",
       "\n",
       "mpl.figure.prototype.handle_save = function(fig, msg) {\n",
       "    var format_dropdown = fig.format_dropdown;\n",
       "    var format = format_dropdown.options[format_dropdown.selectedIndex].value;\n",
       "    fig.ondownload(fig, format);\n",
       "}\n",
       "\n",
       "\n",
       "mpl.figure.prototype.handle_resize = function(fig, msg) {\n",
       "    var size = msg['size'];\n",
       "    if (size[0] != fig.canvas.width || size[1] != fig.canvas.height) {\n",
       "        fig._resize_canvas(size[0], size[1]);\n",
       "        fig.send_message(\"refresh\", {});\n",
       "    };\n",
       "}\n",
       "\n",
       "mpl.figure.prototype.handle_rubberband = function(fig, msg) {\n",
       "    var x0 = msg['x0'] / mpl.ratio;\n",
       "    var y0 = (fig.canvas.height - msg['y0']) / mpl.ratio;\n",
       "    var x1 = msg['x1'] / mpl.ratio;\n",
       "    var y1 = (fig.canvas.height - msg['y1']) / mpl.ratio;\n",
       "    x0 = Math.floor(x0) + 0.5;\n",
       "    y0 = Math.floor(y0) + 0.5;\n",
       "    x1 = Math.floor(x1) + 0.5;\n",
       "    y1 = Math.floor(y1) + 0.5;\n",
       "    var min_x = Math.min(x0, x1);\n",
       "    var min_y = Math.min(y0, y1);\n",
       "    var width = Math.abs(x1 - x0);\n",
       "    var height = Math.abs(y1 - y0);\n",
       "\n",
       "    fig.rubberband_context.clearRect(\n",
       "        0, 0, fig.canvas.width / mpl.ratio, fig.canvas.height / mpl.ratio);\n",
       "\n",
       "    fig.rubberband_context.strokeRect(min_x, min_y, width, height);\n",
       "}\n",
       "\n",
       "mpl.figure.prototype.handle_figure_label = function(fig, msg) {\n",
       "    // Updates the figure title.\n",
       "    fig.header.textContent = msg['label'];\n",
       "}\n",
       "\n",
       "mpl.figure.prototype.handle_cursor = function(fig, msg) {\n",
       "    var cursor = msg['cursor'];\n",
       "    switch(cursor)\n",
       "    {\n",
       "    case 0:\n",
       "        cursor = 'pointer';\n",
       "        break;\n",
       "    case 1:\n",
       "        cursor = 'default';\n",
       "        break;\n",
       "    case 2:\n",
       "        cursor = 'crosshair';\n",
       "        break;\n",
       "    case 3:\n",
       "        cursor = 'move';\n",
       "        break;\n",
       "    }\n",
       "    fig.rubberband_canvas.style.cursor = cursor;\n",
       "}\n",
       "\n",
       "mpl.figure.prototype.handle_message = function(fig, msg) {\n",
       "    fig.message.textContent = msg['message'];\n",
       "}\n",
       "\n",
       "mpl.figure.prototype.handle_draw = function(fig, msg) {\n",
       "    // Request the server to send over a new figure.\n",
       "    fig.send_draw_message();\n",
       "}\n",
       "\n",
       "mpl.figure.prototype.handle_image_mode = function(fig, msg) {\n",
       "    fig.image_mode = msg['mode'];\n",
       "}\n",
       "\n",
       "mpl.figure.prototype.updated_canvas_event = function() {\n",
       "    // Called whenever the canvas gets updated.\n",
       "    this.send_message(\"ack\", {});\n",
       "}\n",
       "\n",
       "// A function to construct a web socket function for onmessage handling.\n",
       "// Called in the figure constructor.\n",
       "mpl.figure.prototype._make_on_message_function = function(fig) {\n",
       "    return function socket_on_message(evt) {\n",
       "        if (evt.data instanceof Blob) {\n",
       "            /* FIXME: We get \"Resource interpreted as Image but\n",
       "             * transferred with MIME type text/plain:\" errors on\n",
       "             * Chrome.  But how to set the MIME type?  It doesn't seem\n",
       "             * to be part of the websocket stream */\n",
       "            evt.data.type = \"image/png\";\n",
       "\n",
       "            /* Free the memory for the previous frames */\n",
       "            if (fig.imageObj.src) {\n",
       "                (window.URL || window.webkitURL).revokeObjectURL(\n",
       "                    fig.imageObj.src);\n",
       "            }\n",
       "\n",
       "            fig.imageObj.src = (window.URL || window.webkitURL).createObjectURL(\n",
       "                evt.data);\n",
       "            fig.updated_canvas_event();\n",
       "            fig.waiting = false;\n",
       "            return;\n",
       "        }\n",
       "        else if (typeof evt.data === 'string' && evt.data.slice(0, 21) == \"data:image/png;base64\") {\n",
       "            fig.imageObj.src = evt.data;\n",
       "            fig.updated_canvas_event();\n",
       "            fig.waiting = false;\n",
       "            return;\n",
       "        }\n",
       "\n",
       "        var msg = JSON.parse(evt.data);\n",
       "        var msg_type = msg['type'];\n",
       "\n",
       "        // Call the  \"handle_{type}\" callback, which takes\n",
       "        // the figure and JSON message as its only arguments.\n",
       "        try {\n",
       "            var callback = fig[\"handle_\" + msg_type];\n",
       "        } catch (e) {\n",
       "            console.log(\"No handler for the '\" + msg_type + \"' message type: \", msg);\n",
       "            return;\n",
       "        }\n",
       "\n",
       "        if (callback) {\n",
       "            try {\n",
       "                // console.log(\"Handling '\" + msg_type + \"' message: \", msg);\n",
       "                callback(fig, msg);\n",
       "            } catch (e) {\n",
       "                console.log(\"Exception inside the 'handler_\" + msg_type + \"' callback:\", e, e.stack, msg);\n",
       "            }\n",
       "        }\n",
       "    };\n",
       "}\n",
       "\n",
       "// from http://stackoverflow.com/questions/1114465/getting-mouse-location-in-canvas\n",
       "mpl.findpos = function(e) {\n",
       "    //this section is from http://www.quirksmode.org/js/events_properties.html\n",
       "    var targ;\n",
       "    if (!e)\n",
       "        e = window.event;\n",
       "    if (e.target)\n",
       "        targ = e.target;\n",
       "    else if (e.srcElement)\n",
       "        targ = e.srcElement;\n",
       "    if (targ.nodeType == 3) // defeat Safari bug\n",
       "        targ = targ.parentNode;\n",
       "\n",
       "    // jQuery normalizes the pageX and pageY\n",
       "    // pageX,Y are the mouse positions relative to the document\n",
       "    // offset() returns the position of the element relative to the document\n",
       "    var x = e.pageX - $(targ).offset().left;\n",
       "    var y = e.pageY - $(targ).offset().top;\n",
       "\n",
       "    return {\"x\": x, \"y\": y};\n",
       "};\n",
       "\n",
       "/*\n",
       " * return a copy of an object with only non-object keys\n",
       " * we need this to avoid circular references\n",
       " * http://stackoverflow.com/a/24161582/3208463\n",
       " */\n",
       "function simpleKeys (original) {\n",
       "  return Object.keys(original).reduce(function (obj, key) {\n",
       "    if (typeof original[key] !== 'object')\n",
       "        obj[key] = original[key]\n",
       "    return obj;\n",
       "  }, {});\n",
       "}\n",
       "\n",
       "mpl.figure.prototype.mouse_event = function(event, name) {\n",
       "    var canvas_pos = mpl.findpos(event)\n",
       "\n",
       "    if (name === 'button_press')\n",
       "    {\n",
       "        this.canvas.focus();\n",
       "        this.canvas_div.focus();\n",
       "    }\n",
       "\n",
       "    var x = canvas_pos.x * mpl.ratio;\n",
       "    var y = canvas_pos.y * mpl.ratio;\n",
       "\n",
       "    this.send_message(name, {x: x, y: y, button: event.button,\n",
       "                             step: event.step,\n",
       "                             guiEvent: simpleKeys(event)});\n",
       "\n",
       "    /* This prevents the web browser from automatically changing to\n",
       "     * the text insertion cursor when the button is pressed.  We want\n",
       "     * to control all of the cursor setting manually through the\n",
       "     * 'cursor' event from matplotlib */\n",
       "    event.preventDefault();\n",
       "    return false;\n",
       "}\n",
       "\n",
       "mpl.figure.prototype._key_event_extra = function(event, name) {\n",
       "    // Handle any extra behaviour associated with a key event\n",
       "}\n",
       "\n",
       "mpl.figure.prototype.key_event = function(event, name) {\n",
       "\n",
       "    // Prevent repeat events\n",
       "    if (name == 'key_press')\n",
       "    {\n",
       "        if (event.which === this._key)\n",
       "            return;\n",
       "        else\n",
       "            this._key = event.which;\n",
       "    }\n",
       "    if (name == 'key_release')\n",
       "        this._key = null;\n",
       "\n",
       "    var value = '';\n",
       "    if (event.ctrlKey && event.which != 17)\n",
       "        value += \"ctrl+\";\n",
       "    if (event.altKey && event.which != 18)\n",
       "        value += \"alt+\";\n",
       "    if (event.shiftKey && event.which != 16)\n",
       "        value += \"shift+\";\n",
       "\n",
       "    value += 'k';\n",
       "    value += event.which.toString();\n",
       "\n",
       "    this._key_event_extra(event, name);\n",
       "\n",
       "    this.send_message(name, {key: value,\n",
       "                             guiEvent: simpleKeys(event)});\n",
       "    return false;\n",
       "}\n",
       "\n",
       "mpl.figure.prototype.toolbar_button_onclick = function(name) {\n",
       "    if (name == 'download') {\n",
       "        this.handle_save(this, null);\n",
       "    } else {\n",
       "        this.send_message(\"toolbar_button\", {name: name});\n",
       "    }\n",
       "};\n",
       "\n",
       "mpl.figure.prototype.toolbar_button_onmouseover = function(tooltip) {\n",
       "    this.message.textContent = tooltip;\n",
       "};\n",
       "mpl.toolbar_items = [[\"Home\", \"Reset original view\", \"fa fa-home icon-home\", \"home\"], [\"Back\", \"Back to previous view\", \"fa fa-arrow-left icon-arrow-left\", \"back\"], [\"Forward\", \"Forward to next view\", \"fa fa-arrow-right icon-arrow-right\", \"forward\"], [\"\", \"\", \"\", \"\"], [\"Pan\", \"Pan axes with left mouse, zoom with right\", \"fa fa-arrows icon-move\", \"pan\"], [\"Zoom\", \"Zoom to rectangle\", \"fa fa-square-o icon-check-empty\", \"zoom\"], [\"\", \"\", \"\", \"\"], [\"Download\", \"Download plot\", \"fa fa-floppy-o icon-save\", \"download\"]];\n",
       "\n",
       "mpl.extensions = [\"eps\", \"jpeg\", \"pdf\", \"png\", \"ps\", \"raw\", \"svg\", \"tif\"];\n",
       "\n",
       "mpl.default_extension = \"png\";var comm_websocket_adapter = function(comm) {\n",
       "    // Create a \"websocket\"-like object which calls the given IPython comm\n",
       "    // object with the appropriate methods. Currently this is a non binary\n",
       "    // socket, so there is still some room for performance tuning.\n",
       "    var ws = {};\n",
       "\n",
       "    ws.close = function() {\n",
       "        comm.close()\n",
       "    };\n",
       "    ws.send = function(m) {\n",
       "        //console.log('sending', m);\n",
       "        comm.send(m);\n",
       "    };\n",
       "    // Register the callback with on_msg.\n",
       "    comm.on_msg(function(msg) {\n",
       "        //console.log('receiving', msg['content']['data'], msg);\n",
       "        // Pass the mpl event to the overridden (by mpl) onmessage function.\n",
       "        ws.onmessage(msg['content']['data'])\n",
       "    });\n",
       "    return ws;\n",
       "}\n",
       "\n",
       "mpl.mpl_figure_comm = function(comm, msg) {\n",
       "    // This is the function which gets called when the mpl process\n",
       "    // starts-up an IPython Comm through the \"matplotlib\" channel.\n",
       "\n",
       "    var id = msg.content.data.id;\n",
       "    // Get hold of the div created by the display call when the Comm\n",
       "    // socket was opened in Python.\n",
       "    var element = $(\"#\" + id);\n",
       "    var ws_proxy = comm_websocket_adapter(comm)\n",
       "\n",
       "    function ondownload(figure, format) {\n",
       "        window.open(figure.imageObj.src);\n",
       "    }\n",
       "\n",
       "    var fig = new mpl.figure(id, ws_proxy,\n",
       "                           ondownload,\n",
       "                           element.get(0));\n",
       "\n",
       "    // Call onopen now - mpl needs it, as it is assuming we've passed it a real\n",
       "    // web socket which is closed, not our websocket->open comm proxy.\n",
       "    ws_proxy.onopen();\n",
       "\n",
       "    fig.parent_element = element.get(0);\n",
       "    fig.cell_info = mpl.find_output_cell(\"<div id='\" + id + \"'></div>\");\n",
       "    if (!fig.cell_info) {\n",
       "        console.error(\"Failed to find cell for figure\", id, fig);\n",
       "        return;\n",
       "    }\n",
       "\n",
       "    var output_index = fig.cell_info[2]\n",
       "    var cell = fig.cell_info[0];\n",
       "\n",
       "};\n",
       "\n",
       "mpl.figure.prototype.handle_close = function(fig, msg) {\n",
       "    var width = fig.canvas.width/mpl.ratio\n",
       "    fig.root.unbind('remove')\n",
       "\n",
       "    // Update the output cell to use the data from the current canvas.\n",
       "    fig.push_to_output();\n",
       "    var dataURL = fig.canvas.toDataURL();\n",
       "    // Re-enable the keyboard manager in IPython - without this line, in FF,\n",
       "    // the notebook keyboard shortcuts fail.\n",
       "    IPython.keyboard_manager.enable()\n",
       "    $(fig.parent_element).html('<img src=\"' + dataURL + '\" width=\"' + width + '\">');\n",
       "    fig.close_ws(fig, msg);\n",
       "}\n",
       "\n",
       "mpl.figure.prototype.close_ws = function(fig, msg){\n",
       "    fig.send_message('closing', msg);\n",
       "    // fig.ws.close()\n",
       "}\n",
       "\n",
       "mpl.figure.prototype.push_to_output = function(remove_interactive) {\n",
       "    // Turn the data on the canvas into data in the output cell.\n",
       "    var width = this.canvas.width/mpl.ratio\n",
       "    var dataURL = this.canvas.toDataURL();\n",
       "    this.cell_info[1]['text/html'] = '<img src=\"' + dataURL + '\" width=\"' + width + '\">';\n",
       "}\n",
       "\n",
       "mpl.figure.prototype.updated_canvas_event = function() {\n",
       "    // Tell IPython that the notebook contents must change.\n",
       "    IPython.notebook.set_dirty(true);\n",
       "    this.send_message(\"ack\", {});\n",
       "    var fig = this;\n",
       "    // Wait a second, then push the new image to the DOM so\n",
       "    // that it is saved nicely (might be nice to debounce this).\n",
       "    setTimeout(function () { fig.push_to_output() }, 1000);\n",
       "}\n",
       "\n",
       "mpl.figure.prototype._init_toolbar = function() {\n",
       "    var fig = this;\n",
       "\n",
       "    var nav_element = $('<div/>');\n",
       "    nav_element.attr('style', 'width: 100%');\n",
       "    this.root.append(nav_element);\n",
       "\n",
       "    // Define a callback function for later on.\n",
       "    function toolbar_event(event) {\n",
       "        return fig.toolbar_button_onclick(event['data']);\n",
       "    }\n",
       "    function toolbar_mouse_event(event) {\n",
       "        return fig.toolbar_button_onmouseover(event['data']);\n",
       "    }\n",
       "\n",
       "    for(var toolbar_ind in mpl.toolbar_items){\n",
       "        var name = mpl.toolbar_items[toolbar_ind][0];\n",
       "        var tooltip = mpl.toolbar_items[toolbar_ind][1];\n",
       "        var image = mpl.toolbar_items[toolbar_ind][2];\n",
       "        var method_name = mpl.toolbar_items[toolbar_ind][3];\n",
       "\n",
       "        if (!name) { continue; };\n",
       "\n",
       "        var button = $('<button class=\"btn btn-default\" href=\"#\" title=\"' + name + '\"><i class=\"fa ' + image + ' fa-lg\"></i></button>');\n",
       "        button.click(method_name, toolbar_event);\n",
       "        button.mouseover(tooltip, toolbar_mouse_event);\n",
       "        nav_element.append(button);\n",
       "    }\n",
       "\n",
       "    // Add the status bar.\n",
       "    var status_bar = $('<span class=\"mpl-message\" style=\"text-align:right; float: right;\"/>');\n",
       "    nav_element.append(status_bar);\n",
       "    this.message = status_bar[0];\n",
       "\n",
       "    // Add the close button to the window.\n",
       "    var buttongrp = $('<div class=\"btn-group inline pull-right\"></div>');\n",
       "    var button = $('<button class=\"btn btn-mini btn-primary\" href=\"#\" title=\"Stop Interaction\"><i class=\"fa fa-power-off icon-remove icon-large\"></i></button>');\n",
       "    button.click(function (evt) { fig.handle_close(fig, {}); } );\n",
       "    button.mouseover('Stop Interaction', toolbar_mouse_event);\n",
       "    buttongrp.append(button);\n",
       "    var titlebar = this.root.find($('.ui-dialog-titlebar'));\n",
       "    titlebar.prepend(buttongrp);\n",
       "}\n",
       "\n",
       "mpl.figure.prototype._root_extra_style = function(el){\n",
       "    var fig = this\n",
       "    el.on(\"remove\", function(){\n",
       "\tfig.close_ws(fig, {});\n",
       "    });\n",
       "}\n",
       "\n",
       "mpl.figure.prototype._canvas_extra_style = function(el){\n",
       "    // this is important to make the div 'focusable\n",
       "    el.attr('tabindex', 0)\n",
       "    // reach out to IPython and tell the keyboard manager to turn it's self\n",
       "    // off when our div gets focus\n",
       "\n",
       "    // location in version 3\n",
       "    if (IPython.notebook.keyboard_manager) {\n",
       "        IPython.notebook.keyboard_manager.register_events(el);\n",
       "    }\n",
       "    else {\n",
       "        // location in version 2\n",
       "        IPython.keyboard_manager.register_events(el);\n",
       "    }\n",
       "\n",
       "}\n",
       "\n",
       "mpl.figure.prototype._key_event_extra = function(event, name) {\n",
       "    var manager = IPython.notebook.keyboard_manager;\n",
       "    if (!manager)\n",
       "        manager = IPython.keyboard_manager;\n",
       "\n",
       "    // Check for shift+enter\n",
       "    if (event.shiftKey && event.which == 13) {\n",
       "        this.canvas_div.blur();\n",
       "        // select the cell after this one\n",
       "        var index = IPython.notebook.find_cell_index(this.cell_info[0]);\n",
       "        IPython.notebook.select(index + 1);\n",
       "    }\n",
       "}\n",
       "\n",
       "mpl.figure.prototype.handle_save = function(fig, msg) {\n",
       "    fig.ondownload(fig, null);\n",
       "}\n",
       "\n",
       "\n",
       "mpl.find_output_cell = function(html_output) {\n",
       "    // Return the cell and output element which can be found *uniquely* in the notebook.\n",
       "    // Note - this is a bit hacky, but it is done because the \"notebook_saving.Notebook\"\n",
       "    // IPython event is triggered only after the cells have been serialised, which for\n",
       "    // our purposes (turning an active figure into a static one), is too late.\n",
       "    var cells = IPython.notebook.get_cells();\n",
       "    var ncells = cells.length;\n",
       "    for (var i=0; i<ncells; i++) {\n",
       "        var cell = cells[i];\n",
       "        if (cell.cell_type === 'code'){\n",
       "            for (var j=0; j<cell.output_area.outputs.length; j++) {\n",
       "                var data = cell.output_area.outputs[j];\n",
       "                if (data.data) {\n",
       "                    // IPython >= 3 moved mimebundle to data attribute of output\n",
       "                    data = data.data;\n",
       "                }\n",
       "                if (data['text/html'] == html_output) {\n",
       "                    return [cell, data, j];\n",
       "                }\n",
       "            }\n",
       "        }\n",
       "    }\n",
       "}\n",
       "\n",
       "// Register the function which deals with the matplotlib target/channel.\n",
       "// The kernel may be null if the page has been refreshed.\n",
       "if (IPython.notebook.kernel != null) {\n",
       "    IPython.notebook.kernel.comm_manager.register_target('matplotlib', mpl.mpl_figure_comm);\n",
       "}\n"
      ],
      "text/plain": [
       "<IPython.core.display.Javascript object>"
      ]
     },
     "metadata": {},
     "output_type": "display_data"
    },
    {
     "data": {
      "text/html": [
       "<img src=\"data:image/png;base64,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\" width=\"1000\">"
      ],
      "text/plain": [
       "<IPython.core.display.HTML object>"
      ]
     },
     "metadata": {},
     "output_type": "display_data"
    }
   ],
   "source": [
    "ax, lax, lines = dual_train_plots_tracks_to_KDE()\n",
    "fig = ax.figure\n",
    "plt.tight_layout()"
   ]
  },
  {
   "cell_type": "code",
   "execution_count": 18,
   "metadata": {
    "scrolled": false
   },
   "outputs": [
    {
     "name": "stdout",
     "output_type": "stream",
     "text": [
      "Number of batches: train = 5000, val = 157\n"
     ]
    },
    {
     "data": {
      "application/vnd.jupyter.widget-view+json": {
       "model_id": "02a7f8676d814c45a23be3d82892d8a5",
       "version_major": 2,
       "version_minor": 0
      },
      "text/plain": [
       "HBox(children=(FloatProgress(value=0.0, description='Epochs', layout=Layout(flex='2'), style=ProgressStyle(des…"
      ]
     },
     "metadata": {},
     "output_type": "display_data"
    },
    {
     "name": "stdout",
     "output_type": "stream",
     "text": [
      "Number of batches: train = 5000, val = 157\n"
     ]
    },
    {
     "data": {
      "application/vnd.jupyter.widget-view+json": {
       "model_id": "",
       "version_major": 2,
       "version_minor": 0
      },
      "text/plain": [
       "HBox(children=(FloatProgress(value=0.0, description='Training', layout=Layout(flex='2'), max=5000.0, style=Pro…"
      ]
     },
     "metadata": {},
     "output_type": "display_data"
    },
    {
     "name": "stdout",
     "output_type": "stream",
     "text": [
      "Epoch 0: train=0.545835, val=0.356246, took 587.81 s\n"
     ]
    },
    {
     "data": {
      "application/vnd.jupyter.widget-view+json": {
       "model_id": "",
       "version_major": 2,
       "version_minor": 0
      },
      "text/plain": [
       "HBox(children=(FloatProgress(value=0.0, description='Training', layout=Layout(flex='2'), max=5000.0, style=Pro…"
      ]
     },
     "metadata": {},
     "output_type": "display_data"
    },
    {
     "name": "stdout",
     "output_type": "stream",
     "text": [
      "Epoch 1: train=0.543161, val=0.371292, took 593.81 s\n"
     ]
    },
    {
     "data": {
      "application/vnd.jupyter.widget-view+json": {
       "model_id": "",
       "version_major": 2,
       "version_minor": 0
      },
      "text/plain": [
       "HBox(children=(FloatProgress(value=0.0, description='Training', layout=Layout(flex='2'), max=5000.0, style=Pro…"
      ]
     },
     "metadata": {},
     "output_type": "display_data"
    },
    {
     "name": "stdout",
     "output_type": "stream",
     "text": [
      "Epoch 2: train=0.54476, val=0.357586, took 590.98 s\n"
     ]
    },
    {
     "data": {
      "application/vnd.jupyter.widget-view+json": {
       "model_id": "",
       "version_major": 2,
       "version_minor": 0
      },
      "text/plain": [
       "HBox(children=(FloatProgress(value=0.0, description='Training', layout=Layout(flex='2'), max=5000.0, style=Pro…"
      ]
     },
     "metadata": {},
     "output_type": "display_data"
    },
    {
     "name": "stdout",
     "output_type": "stream",
     "text": [
      "Epoch 3: train=0.543924, val=0.358423, took 592.73 s\n"
     ]
    },
    {
     "data": {
      "application/vnd.jupyter.widget-view+json": {
       "model_id": "",
       "version_major": 2,
       "version_minor": 0
      },
      "text/plain": [
       "HBox(children=(FloatProgress(value=0.0, description='Training', layout=Layout(flex='2'), max=5000.0, style=Pro…"
      ]
     },
     "metadata": {},
     "output_type": "display_data"
    },
    {
     "name": "stdout",
     "output_type": "stream",
     "text": [
      "Epoch 4: train=0.543782, val=0.382916, took 587.48 s\n"
     ]
    },
    {
     "data": {
      "application/vnd.jupyter.widget-view+json": {
       "model_id": "",
       "version_major": 2,
       "version_minor": 0
      },
      "text/plain": [
       "HBox(children=(FloatProgress(value=0.0, description='Training', layout=Layout(flex='2'), max=5000.0, style=Pro…"
      ]
     },
     "metadata": {},
     "output_type": "display_data"
    },
    {
     "name": "stdout",
     "output_type": "stream",
     "text": [
      "Epoch 5: train=0.543178, val=0.383138, took 587.1 s\n"
     ]
    },
    {
     "data": {
      "application/vnd.jupyter.widget-view+json": {
       "model_id": "",
       "version_major": 2,
       "version_minor": 0
      },
      "text/plain": [
       "HBox(children=(FloatProgress(value=0.0, description='Training', layout=Layout(flex='2'), max=5000.0, style=Pro…"
      ]
     },
     "metadata": {},
     "output_type": "display_data"
    },
    {
     "name": "stdout",
     "output_type": "stream",
     "text": [
      "Epoch 6: train=0.54485, val=0.377969, took 588.13 s\n"
     ]
    },
    {
     "data": {
      "application/vnd.jupyter.widget-view+json": {
       "model_id": "",
       "version_major": 2,
       "version_minor": 0
      },
      "text/plain": [
       "HBox(children=(FloatProgress(value=0.0, description='Training', layout=Layout(flex='2'), max=5000.0, style=Pro…"
      ]
     },
     "metadata": {},
     "output_type": "display_data"
    },
    {
     "name": "stdout",
     "output_type": "stream",
     "text": [
      "Epoch 7: train=0.54437, val=0.354268, took 586.74 s\n"
     ]
    },
    {
     "data": {
      "application/vnd.jupyter.widget-view+json": {
       "model_id": "",
       "version_major": 2,
       "version_minor": 0
      },
      "text/plain": [
       "HBox(children=(FloatProgress(value=0.0, description='Training', layout=Layout(flex='2'), max=5000.0, style=Pro…"
      ]
     },
     "metadata": {},
     "output_type": "display_data"
    },
    {
     "name": "stdout",
     "output_type": "stream",
     "text": [
      "Epoch 8: train=0.543804, val=0.355256, took 588.55 s\n"
     ]
    },
    {
     "data": {
      "application/vnd.jupyter.widget-view+json": {
       "model_id": "",
       "version_major": 2,
       "version_minor": 0
      },
      "text/plain": [
       "HBox(children=(FloatProgress(value=0.0, description='Training', layout=Layout(flex='2'), max=5000.0, style=Pro…"
      ]
     },
     "metadata": {},
     "output_type": "display_data"
    },
    {
     "name": "stdout",
     "output_type": "stream",
     "text": [
      "Epoch 9: train=0.542917, val=0.41804, took 586.78 s\n"
     ]
    },
    {
     "data": {
      "application/vnd.jupyter.widget-view+json": {
       "model_id": "",
       "version_major": 2,
       "version_minor": 0
      },
      "text/plain": [
       "HBox(children=(FloatProgress(value=0.0, description='Training', layout=Layout(flex='2'), max=5000.0, style=Pro…"
      ]
     },
     "metadata": {},
     "output_type": "display_data"
    },
    {
     "name": "stdout",
     "output_type": "stream",
     "text": [
      "Epoch 10: train=0.543738, val=0.361148, took 588.5 s\n"
     ]
    },
    {
     "data": {
      "application/vnd.jupyter.widget-view+json": {
       "model_id": "",
       "version_major": 2,
       "version_minor": 0
      },
      "text/plain": [
       "HBox(children=(FloatProgress(value=0.0, description='Training', layout=Layout(flex='2'), max=5000.0, style=Pro…"
      ]
     },
     "metadata": {},
     "output_type": "display_data"
    },
    {
     "name": "stdout",
     "output_type": "stream",
     "text": [
      "Epoch 11: train=0.543943, val=0.358786, took 589.17 s\n"
     ]
    },
    {
     "data": {
      "application/vnd.jupyter.widget-view+json": {
       "model_id": "",
       "version_major": 2,
       "version_minor": 0
      },
      "text/plain": [
       "HBox(children=(FloatProgress(value=0.0, description='Training', layout=Layout(flex='2'), max=5000.0, style=Pro…"
      ]
     },
     "metadata": {},
     "output_type": "display_data"
    },
    {
     "name": "stdout",
     "output_type": "stream",
     "text": [
      "Epoch 12: train=0.54366, val=0.353794, took 587.15 s\n"
     ]
    },
    {
     "data": {
      "application/vnd.jupyter.widget-view+json": {
       "model_id": "",
       "version_major": 2,
       "version_minor": 0
      },
      "text/plain": [
       "HBox(children=(FloatProgress(value=0.0, description='Training', layout=Layout(flex='2'), max=5000.0, style=Pro…"
      ]
     },
     "metadata": {},
     "output_type": "display_data"
    },
    {
     "name": "stdout",
     "output_type": "stream",
     "text": [
      "Epoch 13: train=0.542541, val=0.373516, took 591.8 s\n"
     ]
    },
    {
     "data": {
      "application/vnd.jupyter.widget-view+json": {
       "model_id": "",
       "version_major": 2,
       "version_minor": 0
      },
      "text/plain": [
       "HBox(children=(FloatProgress(value=0.0, description='Training', layout=Layout(flex='2'), max=5000.0, style=Pro…"
      ]
     },
     "metadata": {},
     "output_type": "display_data"
    },
    {
     "name": "stdout",
     "output_type": "stream",
     "text": [
      "Epoch 14: train=0.541952, val=0.351981, took 588.46 s\n"
     ]
    },
    {
     "data": {
      "application/vnd.jupyter.widget-view+json": {
       "model_id": "",
       "version_major": 2,
       "version_minor": 0
      },
      "text/plain": [
       "HBox(children=(FloatProgress(value=0.0, description='Training', layout=Layout(flex='2'), max=5000.0, style=Pro…"
      ]
     },
     "metadata": {},
     "output_type": "display_data"
    },
    {
     "name": "stdout",
     "output_type": "stream",
     "text": [
      "Epoch 15: train=0.544516, val=0.358564, took 587.96 s\n"
     ]
    },
    {
     "data": {
      "application/vnd.jupyter.widget-view+json": {
       "model_id": "",
       "version_major": 2,
       "version_minor": 0
      },
      "text/plain": [
       "HBox(children=(FloatProgress(value=0.0, description='Training', layout=Layout(flex='2'), max=5000.0, style=Pro…"
      ]
     },
     "metadata": {},
     "output_type": "display_data"
    },
    {
     "name": "stdout",
     "output_type": "stream",
     "text": [
      "Epoch 16: train=0.544829, val=0.354461, took 586.8 s\n"
     ]
    },
    {
     "data": {
      "application/vnd.jupyter.widget-view+json": {
       "model_id": "",
       "version_major": 2,
       "version_minor": 0
      },
      "text/plain": [
       "HBox(children=(FloatProgress(value=0.0, description='Training', layout=Layout(flex='2'), max=5000.0, style=Pro…"
      ]
     },
     "metadata": {},
     "output_type": "display_data"
    },
    {
     "name": "stdout",
     "output_type": "stream",
     "text": [
      "Epoch 17: train=0.541959, val=0.378678, took 588.25 s\n"
     ]
    },
    {
     "data": {
      "application/vnd.jupyter.widget-view+json": {
       "model_id": "",
       "version_major": 2,
       "version_minor": 0
      },
      "text/plain": [
       "HBox(children=(FloatProgress(value=0.0, description='Training', layout=Layout(flex='2'), max=5000.0, style=Pro…"
      ]
     },
     "metadata": {},
     "output_type": "display_data"
    },
    {
     "name": "stdout",
     "output_type": "stream",
     "text": [
      "Epoch 18: train=0.54343, val=0.351558, took 586.63 s\n"
     ]
    },
    {
     "data": {
      "application/vnd.jupyter.widget-view+json": {
       "model_id": "",
       "version_major": 2,
       "version_minor": 0
      },
      "text/plain": [
       "HBox(children=(FloatProgress(value=0.0, description='Training', layout=Layout(flex='2'), max=5000.0, style=Pro…"
      ]
     },
     "metadata": {},
     "output_type": "display_data"
    },
    {
     "name": "stdout",
     "output_type": "stream",
     "text": [
      "Epoch 19: train=0.544489, val=0.370766, took 589.36 s\n"
     ]
    },
    {
     "data": {
      "application/vnd.jupyter.widget-view+json": {
       "model_id": "",
       "version_major": 2,
       "version_minor": 0
      },
      "text/plain": [
       "HBox(children=(FloatProgress(value=0.0, description='Training', layout=Layout(flex='2'), max=5000.0, style=Pro…"
      ]
     },
     "metadata": {},
     "output_type": "display_data"
    },
    {
     "name": "stdout",
     "output_type": "stream",
     "text": [
      "Epoch 20: train=0.541448, val=0.378255, took 587.1 s\n"
     ]
    },
    {
     "data": {
      "application/vnd.jupyter.widget-view+json": {
       "model_id": "",
       "version_major": 2,
       "version_minor": 0
      },
      "text/plain": [
       "HBox(children=(FloatProgress(value=0.0, description='Training', layout=Layout(flex='2'), max=5000.0, style=Pro…"
      ]
     },
     "metadata": {},
     "output_type": "display_data"
    },
    {
     "name": "stdout",
     "output_type": "stream",
     "text": [
      "Epoch 21: train=0.541679, val=0.360075, took 586.67 s\n"
     ]
    },
    {
     "data": {
      "application/vnd.jupyter.widget-view+json": {
       "model_id": "",
       "version_major": 2,
       "version_minor": 0
      },
      "text/plain": [
       "HBox(children=(FloatProgress(value=0.0, description='Training', layout=Layout(flex='2'), max=5000.0, style=Pro…"
      ]
     },
     "metadata": {},
     "output_type": "display_data"
    },
    {
     "name": "stdout",
     "output_type": "stream",
     "text": [
      "Epoch 22: train=0.542664, val=0.350909, took 589.37 s\n"
     ]
    },
    {
     "data": {
      "application/vnd.jupyter.widget-view+json": {
       "model_id": "",
       "version_major": 2,
       "version_minor": 0
      },
      "text/plain": [
       "HBox(children=(FloatProgress(value=0.0, description='Training', layout=Layout(flex='2'), max=5000.0, style=Pro…"
      ]
     },
     "metadata": {},
     "output_type": "display_data"
    },
    {
     "name": "stdout",
     "output_type": "stream",
     "text": [
      "Epoch 23: train=0.54261, val=0.397525, took 587.5 s\n"
     ]
    },
    {
     "data": {
      "application/vnd.jupyter.widget-view+json": {
       "model_id": "",
       "version_major": 2,
       "version_minor": 0
      },
      "text/plain": [
       "HBox(children=(FloatProgress(value=0.0, description='Training', layout=Layout(flex='2'), max=5000.0, style=Pro…"
      ]
     },
     "metadata": {},
     "output_type": "display_data"
    },
    {
     "name": "stdout",
     "output_type": "stream",
     "text": [
      "Epoch 24: train=0.541581, val=0.353228, took 587.03 s\n"
     ]
    },
    {
     "data": {
      "application/vnd.jupyter.widget-view+json": {
       "model_id": "",
       "version_major": 2,
       "version_minor": 0
      },
      "text/plain": [
       "HBox(children=(FloatProgress(value=0.0, description='Training', layout=Layout(flex='2'), max=5000.0, style=Pro…"
      ]
     },
     "metadata": {},
     "output_type": "display_data"
    },
    {
     "name": "stdout",
     "output_type": "stream",
     "text": [
      "Epoch 25: train=0.541911, val=0.360195, took 590.04 s\n"
     ]
    },
    {
     "data": {
      "application/vnd.jupyter.widget-view+json": {
       "model_id": "",
       "version_major": 2,
       "version_minor": 0
      },
      "text/plain": [
       "HBox(children=(FloatProgress(value=0.0, description='Training', layout=Layout(flex='2'), max=5000.0, style=Pro…"
      ]
     },
     "metadata": {},
     "output_type": "display_data"
    },
    {
     "name": "stdout",
     "output_type": "stream",
     "text": [
      "Epoch 26: train=0.542457, val=0.353637, took 586.71 s\n"
     ]
    },
    {
     "data": {
      "application/vnd.jupyter.widget-view+json": {
       "model_id": "",
       "version_major": 2,
       "version_minor": 0
      },
      "text/plain": [
       "HBox(children=(FloatProgress(value=0.0, description='Training', layout=Layout(flex='2'), max=5000.0, style=Pro…"
      ]
     },
     "metadata": {},
     "output_type": "display_data"
    },
    {
     "name": "stdout",
     "output_type": "stream",
     "text": [
      "Epoch 27: train=0.541463, val=0.354898, took 588.67 s\n"
     ]
    },
    {
     "data": {
      "application/vnd.jupyter.widget-view+json": {
       "model_id": "",
       "version_major": 2,
       "version_minor": 0
      },
      "text/plain": [
       "HBox(children=(FloatProgress(value=0.0, description='Training', layout=Layout(flex='2'), max=5000.0, style=Pro…"
      ]
     },
     "metadata": {},
     "output_type": "display_data"
    },
    {
     "name": "stdout",
     "output_type": "stream",
     "text": [
      "Epoch 28: train=0.543488, val=0.349872, took 587.19 s\n"
     ]
    },
    {
     "data": {
      "application/vnd.jupyter.widget-view+json": {
       "model_id": "",
       "version_major": 2,
       "version_minor": 0
      },
      "text/plain": [
       "HBox(children=(FloatProgress(value=0.0, description='Training', layout=Layout(flex='2'), max=5000.0, style=Pro…"
      ]
     },
     "metadata": {},
     "output_type": "display_data"
    },
    {
     "name": "stdout",
     "output_type": "stream",
     "text": [
      "Epoch 29: train=0.541407, val=0.370379, took 588.22 s\n"
     ]
    },
    {
     "data": {
      "application/vnd.jupyter.widget-view+json": {
       "model_id": "",
       "version_major": 2,
       "version_minor": 0
      },
      "text/plain": [
       "HBox(children=(FloatProgress(value=0.0, description='Training', layout=Layout(flex='2'), max=5000.0, style=Pro…"
      ]
     },
     "metadata": {},
     "output_type": "display_data"
    },
    {
     "name": "stdout",
     "output_type": "stream",
     "text": [
      "Epoch 30: train=0.541029, val=0.351843, took 588.16 s\n"
     ]
    },
    {
     "data": {
      "application/vnd.jupyter.widget-view+json": {
       "model_id": "",
       "version_major": 2,
       "version_minor": 0
      },
      "text/plain": [
       "HBox(children=(FloatProgress(value=0.0, description='Training', layout=Layout(flex='2'), max=5000.0, style=Pro…"
      ]
     },
     "metadata": {},
     "output_type": "display_data"
    },
    {
     "name": "stdout",
     "output_type": "stream",
     "text": [
      "Epoch 31: train=0.543374, val=0.379634, took 587.32 s\n"
     ]
    },
    {
     "data": {
      "application/vnd.jupyter.widget-view+json": {
       "model_id": "",
       "version_major": 2,
       "version_minor": 0
      },
      "text/plain": [
       "HBox(children=(FloatProgress(value=0.0, description='Training', layout=Layout(flex='2'), max=5000.0, style=Pro…"
      ]
     },
     "metadata": {},
     "output_type": "display_data"
    },
    {
     "name": "stdout",
     "output_type": "stream",
     "text": [
      "Epoch 32: train=0.541537, val=0.361931, took 587.14 s\n"
     ]
    },
    {
     "data": {
      "application/vnd.jupyter.widget-view+json": {
       "model_id": "",
       "version_major": 2,
       "version_minor": 0
      },
      "text/plain": [
       "HBox(children=(FloatProgress(value=0.0, description='Training', layout=Layout(flex='2'), max=5000.0, style=Pro…"
      ]
     },
     "metadata": {},
     "output_type": "display_data"
    },
    {
     "name": "stdout",
     "output_type": "stream",
     "text": [
      "Epoch 33: train=0.542384, val=0.363566, took 584.3 s\n"
     ]
    },
    {
     "data": {
      "application/vnd.jupyter.widget-view+json": {
       "model_id": "",
       "version_major": 2,
       "version_minor": 0
      },
      "text/plain": [
       "HBox(children=(FloatProgress(value=0.0, description='Training', layout=Layout(flex='2'), max=5000.0, style=Pro…"
      ]
     },
     "metadata": {},
     "output_type": "display_data"
    },
    {
     "name": "stdout",
     "output_type": "stream",
     "text": [
      "Epoch 34: train=0.541484, val=0.359848, took 583.34 s\n"
     ]
    },
    {
     "data": {
      "application/vnd.jupyter.widget-view+json": {
       "model_id": "",
       "version_major": 2,
       "version_minor": 0
      },
      "text/plain": [
       "HBox(children=(FloatProgress(value=0.0, description='Training', layout=Layout(flex='2'), max=5000.0, style=Pro…"
      ]
     },
     "metadata": {},
     "output_type": "display_data"
    },
    {
     "name": "stdout",
     "output_type": "stream",
     "text": [
      "Epoch 35: train=0.540888, val=0.36381, took 584.66 s\n"
     ]
    },
    {
     "data": {
      "application/vnd.jupyter.widget-view+json": {
       "model_id": "",
       "version_major": 2,
       "version_minor": 0
      },
      "text/plain": [
       "HBox(children=(FloatProgress(value=0.0, description='Training', layout=Layout(flex='2'), max=5000.0, style=Pro…"
      ]
     },
     "metadata": {},
     "output_type": "display_data"
    },
    {
     "name": "stdout",
     "output_type": "stream",
     "text": [
      "Epoch 36: train=0.539425, val=0.359966, took 585.13 s\n"
     ]
    },
    {
     "data": {
      "application/vnd.jupyter.widget-view+json": {
       "model_id": "",
       "version_major": 2,
       "version_minor": 0
      },
      "text/plain": [
       "HBox(children=(FloatProgress(value=0.0, description='Training', layout=Layout(flex='2'), max=5000.0, style=Pro…"
      ]
     },
     "metadata": {},
     "output_type": "display_data"
    },
    {
     "name": "stdout",
     "output_type": "stream",
     "text": [
      "Epoch 37: train=0.54265, val=0.353475, took 584.52 s\n"
     ]
    },
    {
     "data": {
      "application/vnd.jupyter.widget-view+json": {
       "model_id": "",
       "version_major": 2,
       "version_minor": 0
      },
      "text/plain": [
       "HBox(children=(FloatProgress(value=0.0, description='Training', layout=Layout(flex='2'), max=5000.0, style=Pro…"
      ]
     },
     "metadata": {},
     "output_type": "display_data"
    },
    {
     "name": "stdout",
     "output_type": "stream",
     "text": [
      "Epoch 38: train=0.542219, val=0.377526, took 583.52 s\n"
     ]
    },
    {
     "data": {
      "application/vnd.jupyter.widget-view+json": {
       "model_id": "",
       "version_major": 2,
       "version_minor": 0
      },
      "text/plain": [
       "HBox(children=(FloatProgress(value=0.0, description='Training', layout=Layout(flex='2'), max=5000.0, style=Pro…"
      ]
     },
     "metadata": {},
     "output_type": "display_data"
    },
    {
     "name": "stdout",
     "output_type": "stream",
     "text": [
      "Epoch 39: train=0.539984, val=0.371212, took 584.39 s\n"
     ]
    },
    {
     "data": {
      "application/vnd.jupyter.widget-view+json": {
       "model_id": "",
       "version_major": 2,
       "version_minor": 0
      },
      "text/plain": [
       "HBox(children=(FloatProgress(value=0.0, description='Training', layout=Layout(flex='2'), max=5000.0, style=Pro…"
      ]
     },
     "metadata": {},
     "output_type": "display_data"
    },
    {
     "name": "stdout",
     "output_type": "stream",
     "text": [
      "Epoch 40: train=0.540958, val=0.349146, took 584.58 s\n"
     ]
    },
    {
     "data": {
      "application/vnd.jupyter.widget-view+json": {
       "model_id": "",
       "version_major": 2,
       "version_minor": 0
      },
      "text/plain": [
       "HBox(children=(FloatProgress(value=0.0, description='Training', layout=Layout(flex='2'), max=5000.0, style=Pro…"
      ]
     },
     "metadata": {},
     "output_type": "display_data"
    },
    {
     "name": "stdout",
     "output_type": "stream",
     "text": [
      "Epoch 41: train=0.541905, val=0.362881, took 582.9 s\n"
     ]
    },
    {
     "data": {
      "application/vnd.jupyter.widget-view+json": {
       "model_id": "",
       "version_major": 2,
       "version_minor": 0
      },
      "text/plain": [
       "HBox(children=(FloatProgress(value=0.0, description='Training', layout=Layout(flex='2'), max=5000.0, style=Pro…"
      ]
     },
     "metadata": {},
     "output_type": "display_data"
    },
    {
     "name": "stdout",
     "output_type": "stream",
     "text": [
      "Epoch 42: train=0.543213, val=0.360528, took 584.58 s\n"
     ]
    },
    {
     "data": {
      "application/vnd.jupyter.widget-view+json": {
       "model_id": "",
       "version_major": 2,
       "version_minor": 0
      },
      "text/plain": [
       "HBox(children=(FloatProgress(value=0.0, description='Training', layout=Layout(flex='2'), max=5000.0, style=Pro…"
      ]
     },
     "metadata": {},
     "output_type": "display_data"
    },
    {
     "name": "stdout",
     "output_type": "stream",
     "text": [
      "Epoch 43: train=0.539126, val=0.354787, took 583.53 s\n"
     ]
    },
    {
     "data": {
      "application/vnd.jupyter.widget-view+json": {
       "model_id": "",
       "version_major": 2,
       "version_minor": 0
      },
      "text/plain": [
       "HBox(children=(FloatProgress(value=0.0, description='Training', layout=Layout(flex='2'), max=5000.0, style=Pro…"
      ]
     },
     "metadata": {},
     "output_type": "display_data"
    },
    {
     "name": "stdout",
     "output_type": "stream",
     "text": [
      "Epoch 44: train=0.539128, val=0.378973, took 582.69 s\n"
     ]
    },
    {
     "data": {
      "application/vnd.jupyter.widget-view+json": {
       "model_id": "",
       "version_major": 2,
       "version_minor": 0
      },
      "text/plain": [
       "HBox(children=(FloatProgress(value=0.0, description='Training', layout=Layout(flex='2'), max=5000.0, style=Pro…"
      ]
     },
     "metadata": {},
     "output_type": "display_data"
    },
    {
     "name": "stdout",
     "output_type": "stream",
     "text": [
      "Epoch 45: train=0.538481, val=0.3732, took 583.68 s\n"
     ]
    },
    {
     "data": {
      "application/vnd.jupyter.widget-view+json": {
       "model_id": "",
       "version_major": 2,
       "version_minor": 0
      },
      "text/plain": [
       "HBox(children=(FloatProgress(value=0.0, description='Training', layout=Layout(flex='2'), max=5000.0, style=Pro…"
      ]
     },
     "metadata": {},
     "output_type": "display_data"
    },
    {
     "name": "stdout",
     "output_type": "stream",
     "text": [
      "Epoch 46: train=0.539131, val=0.364138, took 582.21 s\n"
     ]
    },
    {
     "data": {
      "application/vnd.jupyter.widget-view+json": {
       "model_id": "",
       "version_major": 2,
       "version_minor": 0
      },
      "text/plain": [
       "HBox(children=(FloatProgress(value=0.0, description='Training', layout=Layout(flex='2'), max=5000.0, style=Pro…"
      ]
     },
     "metadata": {},
     "output_type": "display_data"
    },
    {
     "name": "stdout",
     "output_type": "stream",
     "text": [
      "Epoch 47: train=0.54123, val=0.358593, took 582.24 s\n"
     ]
    },
    {
     "data": {
      "application/vnd.jupyter.widget-view+json": {
       "model_id": "",
       "version_major": 2,
       "version_minor": 0
      },
      "text/plain": [
       "HBox(children=(FloatProgress(value=0.0, description='Training', layout=Layout(flex='2'), max=5000.0, style=Pro…"
      ]
     },
     "metadata": {},
     "output_type": "display_data"
    },
    {
     "name": "stdout",
     "output_type": "stream",
     "text": [
      "Epoch 48: train=0.541345, val=0.351734, took 580.74 s\n"
     ]
    },
    {
     "data": {
      "application/vnd.jupyter.widget-view+json": {
       "model_id": "",
       "version_major": 2,
       "version_minor": 0
      },
      "text/plain": [
       "HBox(children=(FloatProgress(value=0.0, description='Training', layout=Layout(flex='2'), max=5000.0, style=Pro…"
      ]
     },
     "metadata": {},
     "output_type": "display_data"
    },
    {
     "name": "stdout",
     "output_type": "stream",
     "text": [
      "Epoch 49: train=0.540173, val=0.358498, took 582.56 s\n"
     ]
    },
    {
     "data": {
      "application/vnd.jupyter.widget-view+json": {
       "model_id": "",
       "version_major": 2,
       "version_minor": 0
      },
      "text/plain": [
       "HBox(children=(FloatProgress(value=0.0, description='Training', layout=Layout(flex='2'), max=5000.0, style=Pro…"
      ]
     },
     "metadata": {},
     "output_type": "display_data"
    },
    {
     "name": "stdout",
     "output_type": "stream",
     "text": [
      "Epoch 50: train=0.541116, val=0.348318, took 582.69 s\n"
     ]
    },
    {
     "data": {
      "application/vnd.jupyter.widget-view+json": {
       "model_id": "",
       "version_major": 2,
       "version_minor": 0
      },
      "text/plain": [
       "HBox(children=(FloatProgress(value=0.0, description='Training', layout=Layout(flex='2'), max=5000.0, style=Pro…"
      ]
     },
     "metadata": {},
     "output_type": "display_data"
    },
    {
     "name": "stdout",
     "output_type": "stream",
     "text": [
      "Epoch 51: train=0.538648, val=0.350717, took 582.32 s\n"
     ]
    },
    {
     "data": {
      "application/vnd.jupyter.widget-view+json": {
       "model_id": "",
       "version_major": 2,
       "version_minor": 0
      },
      "text/plain": [
       "HBox(children=(FloatProgress(value=0.0, description='Training', layout=Layout(flex='2'), max=5000.0, style=Pro…"
      ]
     },
     "metadata": {},
     "output_type": "display_data"
    },
    {
     "name": "stdout",
     "output_type": "stream",
     "text": [
      "Epoch 52: train=0.538553, val=0.3848, took 582.0 s\n"
     ]
    },
    {
     "data": {
      "application/vnd.jupyter.widget-view+json": {
       "model_id": "",
       "version_major": 2,
       "version_minor": 0
      },
      "text/plain": [
       "HBox(children=(FloatProgress(value=0.0, description='Training', layout=Layout(flex='2'), max=5000.0, style=Pro…"
      ]
     },
     "metadata": {},
     "output_type": "display_data"
    },
    {
     "name": "stdout",
     "output_type": "stream",
     "text": [
      "Epoch 53: train=0.539679, val=0.399007, took 582.57 s\n"
     ]
    },
    {
     "data": {
      "application/vnd.jupyter.widget-view+json": {
       "model_id": "",
       "version_major": 2,
       "version_minor": 0
      },
      "text/plain": [
       "HBox(children=(FloatProgress(value=0.0, description='Training', layout=Layout(flex='2'), max=5000.0, style=Pro…"
      ]
     },
     "metadata": {},
     "output_type": "display_data"
    },
    {
     "name": "stdout",
     "output_type": "stream",
     "text": [
      "Epoch 54: train=0.540126, val=0.353771, took 582.23 s\n"
     ]
    },
    {
     "data": {
      "application/vnd.jupyter.widget-view+json": {
       "model_id": "",
       "version_major": 2,
       "version_minor": 0
      },
      "text/plain": [
       "HBox(children=(FloatProgress(value=0.0, description='Training', layout=Layout(flex='2'), max=5000.0, style=Pro…"
      ]
     },
     "metadata": {},
     "output_type": "display_data"
    },
    {
     "name": "stdout",
     "output_type": "stream",
     "text": [
      "Epoch 55: train=0.539041, val=0.35494, took 582.21 s\n"
     ]
    },
    {
     "data": {
      "application/vnd.jupyter.widget-view+json": {
       "model_id": "",
       "version_major": 2,
       "version_minor": 0
      },
      "text/plain": [
       "HBox(children=(FloatProgress(value=0.0, description='Training', layout=Layout(flex='2'), max=5000.0, style=Pro…"
      ]
     },
     "metadata": {},
     "output_type": "display_data"
    },
    {
     "name": "stdout",
     "output_type": "stream",
     "text": [
      "Epoch 56: train=0.539967, val=0.347356, took 582.23 s\n"
     ]
    },
    {
     "data": {
      "application/vnd.jupyter.widget-view+json": {
       "model_id": "",
       "version_major": 2,
       "version_minor": 0
      },
      "text/plain": [
       "HBox(children=(FloatProgress(value=0.0, description='Training', layout=Layout(flex='2'), max=5000.0, style=Pro…"
      ]
     },
     "metadata": {},
     "output_type": "display_data"
    },
    {
     "name": "stdout",
     "output_type": "stream",
     "text": [
      "Epoch 57: train=0.539869, val=0.348607, took 583.69 s\n"
     ]
    },
    {
     "data": {
      "application/vnd.jupyter.widget-view+json": {
       "model_id": "",
       "version_major": 2,
       "version_minor": 0
      },
      "text/plain": [
       "HBox(children=(FloatProgress(value=0.0, description='Training', layout=Layout(flex='2'), max=5000.0, style=Pro…"
      ]
     },
     "metadata": {},
     "output_type": "display_data"
    },
    {
     "name": "stdout",
     "output_type": "stream",
     "text": [
      "Epoch 58: train=0.53918, val=0.349683, took 582.35 s\n"
     ]
    },
    {
     "data": {
      "application/vnd.jupyter.widget-view+json": {
       "model_id": "",
       "version_major": 2,
       "version_minor": 0
      },
      "text/plain": [
       "HBox(children=(FloatProgress(value=0.0, description='Training', layout=Layout(flex='2'), max=5000.0, style=Pro…"
      ]
     },
     "metadata": {},
     "output_type": "display_data"
    },
    {
     "name": "stdout",
     "output_type": "stream",
     "text": [
      "Epoch 59: train=0.539713, val=0.358996, took 582.65 s\n"
     ]
    },
    {
     "data": {
      "application/vnd.jupyter.widget-view+json": {
       "model_id": "",
       "version_major": 2,
       "version_minor": 0
      },
      "text/plain": [
       "HBox(children=(FloatProgress(value=0.0, description='Training', layout=Layout(flex='2'), max=5000.0, style=Pro…"
      ]
     },
     "metadata": {},
     "output_type": "display_data"
    },
    {
     "name": "stdout",
     "output_type": "stream",
     "text": [
      "Epoch 60: train=0.538075, val=0.351164, took 582.28 s\n"
     ]
    },
    {
     "data": {
      "application/vnd.jupyter.widget-view+json": {
       "model_id": "",
       "version_major": 2,
       "version_minor": 0
      },
      "text/plain": [
       "HBox(children=(FloatProgress(value=0.0, description='Training', layout=Layout(flex='2'), max=5000.0, style=Pro…"
      ]
     },
     "metadata": {},
     "output_type": "display_data"
    },
    {
     "name": "stdout",
     "output_type": "stream",
     "text": [
      "Epoch 61: train=0.538467, val=0.347198, took 582.58 s\n"
     ]
    },
    {
     "data": {
      "application/vnd.jupyter.widget-view+json": {
       "model_id": "",
       "version_major": 2,
       "version_minor": 0
      },
      "text/plain": [
       "HBox(children=(FloatProgress(value=0.0, description='Training', layout=Layout(flex='2'), max=5000.0, style=Pro…"
      ]
     },
     "metadata": {},
     "output_type": "display_data"
    },
    {
     "name": "stdout",
     "output_type": "stream",
     "text": [
      "Epoch 62: train=0.539386, val=0.349145, took 582.45 s\n"
     ]
    },
    {
     "data": {
      "application/vnd.jupyter.widget-view+json": {
       "model_id": "",
       "version_major": 2,
       "version_minor": 0
      },
      "text/plain": [
       "HBox(children=(FloatProgress(value=0.0, description='Training', layout=Layout(flex='2'), max=5000.0, style=Pro…"
      ]
     },
     "metadata": {},
     "output_type": "display_data"
    },
    {
     "name": "stdout",
     "output_type": "stream",
     "text": [
      "Epoch 63: train=0.538997, val=0.356362, took 582.33 s\n"
     ]
    },
    {
     "data": {
      "application/vnd.jupyter.widget-view+json": {
       "model_id": "",
       "version_major": 2,
       "version_minor": 0
      },
      "text/plain": [
       "HBox(children=(FloatProgress(value=0.0, description='Training', layout=Layout(flex='2'), max=5000.0, style=Pro…"
      ]
     },
     "metadata": {},
     "output_type": "display_data"
    },
    {
     "name": "stdout",
     "output_type": "stream",
     "text": [
      "Epoch 64: train=0.538135, val=0.369587, took 580.57 s\n"
     ]
    },
    {
     "data": {
      "application/vnd.jupyter.widget-view+json": {
       "model_id": "",
       "version_major": 2,
       "version_minor": 0
      },
      "text/plain": [
       "HBox(children=(FloatProgress(value=0.0, description='Training', layout=Layout(flex='2'), max=5000.0, style=Pro…"
      ]
     },
     "metadata": {},
     "output_type": "display_data"
    },
    {
     "name": "stdout",
     "output_type": "stream",
     "text": [
      "Epoch 65: train=0.536857, val=0.350353, took 582.58 s\n"
     ]
    },
    {
     "data": {
      "application/vnd.jupyter.widget-view+json": {
       "model_id": "",
       "version_major": 2,
       "version_minor": 0
      },
      "text/plain": [
       "HBox(children=(FloatProgress(value=0.0, description='Training', layout=Layout(flex='2'), max=5000.0, style=Pro…"
      ]
     },
     "metadata": {},
     "output_type": "display_data"
    },
    {
     "name": "stdout",
     "output_type": "stream",
     "text": [
      "Epoch 66: train=0.540263, val=0.352321, took 581.93 s\n"
     ]
    },
    {
     "data": {
      "application/vnd.jupyter.widget-view+json": {
       "model_id": "",
       "version_major": 2,
       "version_minor": 0
      },
      "text/plain": [
       "HBox(children=(FloatProgress(value=0.0, description='Training', layout=Layout(flex='2'), max=5000.0, style=Pro…"
      ]
     },
     "metadata": {},
     "output_type": "display_data"
    },
    {
     "name": "stdout",
     "output_type": "stream",
     "text": [
      "Epoch 67: train=0.539538, val=0.357142, took 581.87 s\n"
     ]
    },
    {
     "data": {
      "application/vnd.jupyter.widget-view+json": {
       "model_id": "",
       "version_major": 2,
       "version_minor": 0
      },
      "text/plain": [
       "HBox(children=(FloatProgress(value=0.0, description='Training', layout=Layout(flex='2'), max=5000.0, style=Pro…"
      ]
     },
     "metadata": {},
     "output_type": "display_data"
    },
    {
     "name": "stdout",
     "output_type": "stream",
     "text": [
      "Epoch 68: train=0.53728, val=0.368915, took 582.47 s\n"
     ]
    },
    {
     "data": {
      "application/vnd.jupyter.widget-view+json": {
       "model_id": "",
       "version_major": 2,
       "version_minor": 0
      },
      "text/plain": [
       "HBox(children=(FloatProgress(value=0.0, description='Training', layout=Layout(flex='2'), max=5000.0, style=Pro…"
      ]
     },
     "metadata": {},
     "output_type": "display_data"
    },
    {
     "name": "stdout",
     "output_type": "stream",
     "text": [
      "Epoch 69: train=0.537843, val=0.350975, took 582.51 s\n"
     ]
    },
    {
     "data": {
      "application/vnd.jupyter.widget-view+json": {
       "model_id": "",
       "version_major": 2,
       "version_minor": 0
      },
      "text/plain": [
       "HBox(children=(FloatProgress(value=0.0, description='Training', layout=Layout(flex='2'), max=5000.0, style=Pro…"
      ]
     },
     "metadata": {},
     "output_type": "display_data"
    },
    {
     "name": "stdout",
     "output_type": "stream",
     "text": [
      "Epoch 70: train=0.537983, val=0.350179, took 582.17 s\n"
     ]
    },
    {
     "data": {
      "application/vnd.jupyter.widget-view+json": {
       "model_id": "",
       "version_major": 2,
       "version_minor": 0
      },
      "text/plain": [
       "HBox(children=(FloatProgress(value=0.0, description='Training', layout=Layout(flex='2'), max=5000.0, style=Pro…"
      ]
     },
     "metadata": {},
     "output_type": "display_data"
    },
    {
     "name": "stdout",
     "output_type": "stream",
     "text": [
      "Epoch 71: train=0.538393, val=0.345699, took 581.87 s\n"
     ]
    },
    {
     "data": {
      "application/vnd.jupyter.widget-view+json": {
       "model_id": "",
       "version_major": 2,
       "version_minor": 0
      },
      "text/plain": [
       "HBox(children=(FloatProgress(value=0.0, description='Training', layout=Layout(flex='2'), max=5000.0, style=Pro…"
      ]
     },
     "metadata": {},
     "output_type": "display_data"
    },
    {
     "name": "stdout",
     "output_type": "stream",
     "text": [
      "Epoch 72: train=0.537293, val=0.349646, took 581.48 s\n"
     ]
    },
    {
     "data": {
      "application/vnd.jupyter.widget-view+json": {
       "model_id": "",
       "version_major": 2,
       "version_minor": 0
      },
      "text/plain": [
       "HBox(children=(FloatProgress(value=0.0, description='Training', layout=Layout(flex='2'), max=5000.0, style=Pro…"
      ]
     },
     "metadata": {},
     "output_type": "display_data"
    },
    {
     "name": "stdout",
     "output_type": "stream",
     "text": [
      "Epoch 73: train=0.54116, val=0.350948, took 582.27 s\n"
     ]
    },
    {
     "data": {
      "application/vnd.jupyter.widget-view+json": {
       "model_id": "",
       "version_major": 2,
       "version_minor": 0
      },
      "text/plain": [
       "HBox(children=(FloatProgress(value=0.0, description='Training', layout=Layout(flex='2'), max=5000.0, style=Pro…"
      ]
     },
     "metadata": {},
     "output_type": "display_data"
    },
    {
     "name": "stdout",
     "output_type": "stream",
     "text": [
      "Epoch 74: train=0.539347, val=0.365903, took 581.18 s\n"
     ]
    },
    {
     "data": {
      "application/vnd.jupyter.widget-view+json": {
       "model_id": "",
       "version_major": 2,
       "version_minor": 0
      },
      "text/plain": [
       "HBox(children=(FloatProgress(value=0.0, description='Training', layout=Layout(flex='2'), max=5000.0, style=Pro…"
      ]
     },
     "metadata": {},
     "output_type": "display_data"
    },
    {
     "name": "stdout",
     "output_type": "stream",
     "text": [
      "Epoch 75: train=0.538429, val=0.34852, took 582.57 s\n"
     ]
    },
    {
     "data": {
      "application/vnd.jupyter.widget-view+json": {
       "model_id": "",
       "version_major": 2,
       "version_minor": 0
      },
      "text/plain": [
       "HBox(children=(FloatProgress(value=0.0, description='Training', layout=Layout(flex='2'), max=5000.0, style=Pro…"
      ]
     },
     "metadata": {},
     "output_type": "display_data"
    },
    {
     "name": "stdout",
     "output_type": "stream",
     "text": [
      "Epoch 76: train=0.537648, val=0.348568, took 581.52 s\n"
     ]
    },
    {
     "data": {
      "application/vnd.jupyter.widget-view+json": {
       "model_id": "",
       "version_major": 2,
       "version_minor": 0
      },
      "text/plain": [
       "HBox(children=(FloatProgress(value=0.0, description='Training', layout=Layout(flex='2'), max=5000.0, style=Pro…"
      ]
     },
     "metadata": {},
     "output_type": "display_data"
    },
    {
     "name": "stdout",
     "output_type": "stream",
     "text": [
      "Epoch 77: train=0.536544, val=0.347678, took 581.17 s\n"
     ]
    },
    {
     "data": {
      "application/vnd.jupyter.widget-view+json": {
       "model_id": "",
       "version_major": 2,
       "version_minor": 0
      },
      "text/plain": [
       "HBox(children=(FloatProgress(value=0.0, description='Training', layout=Layout(flex='2'), max=5000.0, style=Pro…"
      ]
     },
     "metadata": {},
     "output_type": "display_data"
    },
    {
     "name": "stdout",
     "output_type": "stream",
     "text": [
      "Epoch 78: train=0.540845, val=0.345207, took 582.45 s\n"
     ]
    },
    {
     "data": {
      "application/vnd.jupyter.widget-view+json": {
       "model_id": "",
       "version_major": 2,
       "version_minor": 0
      },
      "text/plain": [
       "HBox(children=(FloatProgress(value=0.0, description='Training', layout=Layout(flex='2'), max=5000.0, style=Pro…"
      ]
     },
     "metadata": {},
     "output_type": "display_data"
    },
    {
     "name": "stdout",
     "output_type": "stream",
     "text": [
      "Epoch 79: train=0.537563, val=0.345187, took 581.23 s\n"
     ]
    },
    {
     "data": {
      "application/vnd.jupyter.widget-view+json": {
       "model_id": "",
       "version_major": 2,
       "version_minor": 0
      },
      "text/plain": [
       "HBox(children=(FloatProgress(value=0.0, description='Training', layout=Layout(flex='2'), max=5000.0, style=Pro…"
      ]
     },
     "metadata": {},
     "output_type": "display_data"
    },
    {
     "name": "stdout",
     "output_type": "stream",
     "text": [
      "Epoch 80: train=0.536209, val=0.376943, took 581.98 s\n"
     ]
    },
    {
     "data": {
      "application/vnd.jupyter.widget-view+json": {
       "model_id": "",
       "version_major": 2,
       "version_minor": 0
      },
      "text/plain": [
       "HBox(children=(FloatProgress(value=0.0, description='Training', layout=Layout(flex='2'), max=5000.0, style=Pro…"
      ]
     },
     "metadata": {},
     "output_type": "display_data"
    },
    {
     "name": "stdout",
     "output_type": "stream",
     "text": [
      "Epoch 81: train=0.538482, val=0.347204, took 582.2 s\n"
     ]
    },
    {
     "data": {
      "application/vnd.jupyter.widget-view+json": {
       "model_id": "",
       "version_major": 2,
       "version_minor": 0
      },
      "text/plain": [
       "HBox(children=(FloatProgress(value=0.0, description='Training', layout=Layout(flex='2'), max=5000.0, style=Pro…"
      ]
     },
     "metadata": {},
     "output_type": "display_data"
    },
    {
     "name": "stdout",
     "output_type": "stream",
     "text": [
      "Epoch 82: train=0.538624, val=0.34928, took 581.62 s\n"
     ]
    },
    {
     "data": {
      "application/vnd.jupyter.widget-view+json": {
       "model_id": "",
       "version_major": 2,
       "version_minor": 0
      },
      "text/plain": [
       "HBox(children=(FloatProgress(value=0.0, description='Training', layout=Layout(flex='2'), max=5000.0, style=Pro…"
      ]
     },
     "metadata": {},
     "output_type": "display_data"
    },
    {
     "name": "stdout",
     "output_type": "stream",
     "text": [
      "Epoch 83: train=0.536507, val=0.359472, took 581.58 s\n"
     ]
    },
    {
     "data": {
      "application/vnd.jupyter.widget-view+json": {
       "model_id": "",
       "version_major": 2,
       "version_minor": 0
      },
      "text/plain": [
       "HBox(children=(FloatProgress(value=0.0, description='Training', layout=Layout(flex='2'), max=5000.0, style=Pro…"
      ]
     },
     "metadata": {},
     "output_type": "display_data"
    },
    {
     "name": "stdout",
     "output_type": "stream",
     "text": [
      "Epoch 84: train=0.536945, val=0.346166, took 581.92 s\n"
     ]
    },
    {
     "data": {
      "application/vnd.jupyter.widget-view+json": {
       "model_id": "",
       "version_major": 2,
       "version_minor": 0
      },
      "text/plain": [
       "HBox(children=(FloatProgress(value=0.0, description='Training', layout=Layout(flex='2'), max=5000.0, style=Pro…"
      ]
     },
     "metadata": {},
     "output_type": "display_data"
    },
    {
     "name": "stdout",
     "output_type": "stream",
     "text": [
      "Epoch 85: train=0.536772, val=0.351438, took 582.09 s\n"
     ]
    },
    {
     "data": {
      "application/vnd.jupyter.widget-view+json": {
       "model_id": "",
       "version_major": 2,
       "version_minor": 0
      },
      "text/plain": [
       "HBox(children=(FloatProgress(value=0.0, description='Training', layout=Layout(flex='2'), max=5000.0, style=Pro…"
      ]
     },
     "metadata": {},
     "output_type": "display_data"
    },
    {
     "name": "stdout",
     "output_type": "stream",
     "text": [
      "Epoch 86: train=0.537333, val=0.35145, took 585.09 s\n"
     ]
    },
    {
     "data": {
      "application/vnd.jupyter.widget-view+json": {
       "model_id": "",
       "version_major": 2,
       "version_minor": 0
      },
      "text/plain": [
       "HBox(children=(FloatProgress(value=0.0, description='Training', layout=Layout(flex='2'), max=5000.0, style=Pro…"
      ]
     },
     "metadata": {},
     "output_type": "display_data"
    },
    {
     "name": "stdout",
     "output_type": "stream",
     "text": [
      "Epoch 87: train=0.535856, val=0.346382, took 581.78 s\n"
     ]
    },
    {
     "data": {
      "application/vnd.jupyter.widget-view+json": {
       "model_id": "",
       "version_major": 2,
       "version_minor": 0
      },
      "text/plain": [
       "HBox(children=(FloatProgress(value=0.0, description='Training', layout=Layout(flex='2'), max=5000.0, style=Pro…"
      ]
     },
     "metadata": {},
     "output_type": "display_data"
    },
    {
     "name": "stdout",
     "output_type": "stream",
     "text": [
      "Epoch 88: train=0.536605, val=0.356267, took 581.59 s\n"
     ]
    },
    {
     "data": {
      "application/vnd.jupyter.widget-view+json": {
       "model_id": "",
       "version_major": 2,
       "version_minor": 0
      },
      "text/plain": [
       "HBox(children=(FloatProgress(value=0.0, description='Training', layout=Layout(flex='2'), max=5000.0, style=Pro…"
      ]
     },
     "metadata": {},
     "output_type": "display_data"
    },
    {
     "name": "stdout",
     "output_type": "stream",
     "text": [
      "Epoch 89: train=0.536826, val=0.380778, took 581.11 s\n"
     ]
    },
    {
     "data": {
      "application/vnd.jupyter.widget-view+json": {
       "model_id": "",
       "version_major": 2,
       "version_minor": 0
      },
      "text/plain": [
       "HBox(children=(FloatProgress(value=0.0, description='Training', layout=Layout(flex='2'), max=5000.0, style=Pro…"
      ]
     },
     "metadata": {},
     "output_type": "display_data"
    },
    {
     "name": "stdout",
     "output_type": "stream",
     "text": [
      "Epoch 90: train=0.535325, val=0.351676, took 579.63 s\n"
     ]
    },
    {
     "data": {
      "application/vnd.jupyter.widget-view+json": {
       "model_id": "",
       "version_major": 2,
       "version_minor": 0
      },
      "text/plain": [
       "HBox(children=(FloatProgress(value=0.0, description='Training', layout=Layout(flex='2'), max=5000.0, style=Pro…"
      ]
     },
     "metadata": {},
     "output_type": "display_data"
    },
    {
     "name": "stdout",
     "output_type": "stream",
     "text": [
      "Epoch 91: train=0.537634, val=0.361974, took 580.22 s\n"
     ]
    },
    {
     "data": {
      "application/vnd.jupyter.widget-view+json": {
       "model_id": "",
       "version_major": 2,
       "version_minor": 0
      },
      "text/plain": [
       "HBox(children=(FloatProgress(value=0.0, description='Training', layout=Layout(flex='2'), max=5000.0, style=Pro…"
      ]
     },
     "metadata": {},
     "output_type": "display_data"
    },
    {
     "name": "stdout",
     "output_type": "stream",
     "text": [
      "Epoch 92: train=0.535623, val=0.351088, took 581.3 s\n"
     ]
    },
    {
     "data": {
      "application/vnd.jupyter.widget-view+json": {
       "model_id": "",
       "version_major": 2,
       "version_minor": 0
      },
      "text/plain": [
       "HBox(children=(FloatProgress(value=0.0, description='Training', layout=Layout(flex='2'), max=5000.0, style=Pro…"
      ]
     },
     "metadata": {},
     "output_type": "display_data"
    },
    {
     "name": "stdout",
     "output_type": "stream",
     "text": [
      "Epoch 93: train=0.538012, val=0.367306, took 581.32 s\n"
     ]
    },
    {
     "data": {
      "application/vnd.jupyter.widget-view+json": {
       "model_id": "",
       "version_major": 2,
       "version_minor": 0
      },
      "text/plain": [
       "HBox(children=(FloatProgress(value=0.0, description='Training', layout=Layout(flex='2'), max=5000.0, style=Pro…"
      ]
     },
     "metadata": {},
     "output_type": "display_data"
    },
    {
     "name": "stdout",
     "output_type": "stream",
     "text": [
      "Epoch 94: train=0.537167, val=0.345392, took 580.42 s\n"
     ]
    },
    {
     "data": {
      "application/vnd.jupyter.widget-view+json": {
       "model_id": "",
       "version_major": 2,
       "version_minor": 0
      },
      "text/plain": [
       "HBox(children=(FloatProgress(value=0.0, description='Training', layout=Layout(flex='2'), max=5000.0, style=Pro…"
      ]
     },
     "metadata": {},
     "output_type": "display_data"
    },
    {
     "name": "stdout",
     "output_type": "stream",
     "text": [
      "Epoch 95: train=0.534916, val=0.377956, took 581.41 s\n"
     ]
    },
    {
     "data": {
      "application/vnd.jupyter.widget-view+json": {
       "model_id": "",
       "version_major": 2,
       "version_minor": 0
      },
      "text/plain": [
       "HBox(children=(FloatProgress(value=0.0, description='Training', layout=Layout(flex='2'), max=5000.0, style=Pro…"
      ]
     },
     "metadata": {},
     "output_type": "display_data"
    },
    {
     "name": "stdout",
     "output_type": "stream",
     "text": [
      "Epoch 96: train=0.537435, val=0.349779, took 581.19 s\n"
     ]
    },
    {
     "data": {
      "application/vnd.jupyter.widget-view+json": {
       "model_id": "",
       "version_major": 2,
       "version_minor": 0
      },
      "text/plain": [
       "HBox(children=(FloatProgress(value=0.0, description='Training', layout=Layout(flex='2'), max=5000.0, style=Pro…"
      ]
     },
     "metadata": {},
     "output_type": "display_data"
    },
    {
     "name": "stdout",
     "output_type": "stream",
     "text": [
      "Epoch 97: train=0.537347, val=0.347167, took 582.21 s\n"
     ]
    },
    {
     "data": {
      "application/vnd.jupyter.widget-view+json": {
       "model_id": "",
       "version_major": 2,
       "version_minor": 0
      },
      "text/plain": [
       "HBox(children=(FloatProgress(value=0.0, description='Training', layout=Layout(flex='2'), max=5000.0, style=Pro…"
      ]
     },
     "metadata": {},
     "output_type": "display_data"
    },
    {
     "name": "stdout",
     "output_type": "stream",
     "text": [
      "Epoch 98: train=0.53583, val=0.359966, took 580.73 s\n"
     ]
    },
    {
     "data": {
      "application/vnd.jupyter.widget-view+json": {
       "model_id": "",
       "version_major": 2,
       "version_minor": 0
      },
      "text/plain": [
       "HBox(children=(FloatProgress(value=0.0, description='Training', layout=Layout(flex='2'), max=5000.0, style=Pro…"
      ]
     },
     "metadata": {},
     "output_type": "display_data"
    },
    {
     "name": "stdout",
     "output_type": "stream",
     "text": [
      "Epoch 99: train=0.536776, val=0.350943, took 581.31 s\n",
      "\n"
     ]
    }
   ],
   "source": [
    "for result in trainNet(model, optimizer, loss,\n",
    "                        train_loader, val_loader,\n",
    "                        n_epochs, epoch_start=len(results),\n",
    "                        notebook=True):\n",
    "    \n",
    "    results = results.append(pd.Series(result._asdict()), ignore_index=True)\n",
    "    xs = results.index\n",
    "    \n",
    "    # Update the plot above\n",
    "    lines['train'].set_data(results.index,results.cost)\n",
    "    lines['val'].set_data(results.index,results.val)\n",
    "    \n",
    "    #filter first cost epoch (can be really large)\n",
    "    max_cost = max(max(results.cost if len(results.cost)<2 else results.cost[1:]), max(results.val))\n",
    "    min_cost = min(min(results.cost), min(results.val))\n",
    "    \n",
    "    # The plot limits need updating too\n",
    "    \n",
    "    \n",
    "    \n",
    "    ax.set_ylim(min_cost*.9, max_cost*1.1)  \n",
    "    ax.set_xlim(-.5, len(results.cost) - .5)\n",
    "\n",
    "    \n",
    "    # Redraw the figure\n",
    "    fig.canvas.draw()\n",
    "\n",
    "    # Save each model state dictionary\n",
    "    torch.save(model.state_dict(), output / f'{name}_{result.epoch}.pyt')"
   ]
  },
  {
   "cell_type": "markdown",
   "metadata": {},
   "source": [
    "Go ahead and save the final model (even though it was also saved above):"
   ]
  },
  {
   "cell_type": "code",
   "execution_count": 19,
   "metadata": {},
   "outputs": [],
   "source": [
    "torch.save(model.state_dict(), output / f'{name}_final.pyt')"
   ]
  },
  {
   "cell_type": "markdown",
   "metadata": {},
   "source": [
    "Save the output results:"
   ]
  },
  {
   "cell_type": "code",
   "execution_count": 20,
   "metadata": {},
   "outputs": [],
   "source": [
    "results.to_hdf(output / f'{name}_stats.hdf5', 'results')"
   ]
  },
  {
   "cell_type": "markdown",
   "metadata": {},
   "source": [
    "Save the plot above:"
   ]
  },
  {
   "cell_type": "code",
   "execution_count": 21,
   "metadata": {},
   "outputs": [
    {
     "data": {
      "application/javascript": [
       "/* Put everything inside the global mpl namespace */\n",
       "window.mpl = {};\n",
       "\n",
       "\n",
       "mpl.get_websocket_type = function() {\n",
       "    if (typeof(WebSocket) !== 'undefined') {\n",
       "        return WebSocket;\n",
       "    } else if (typeof(MozWebSocket) !== 'undefined') {\n",
       "        return MozWebSocket;\n",
       "    } else {\n",
       "        alert('Your browser does not have WebSocket support. ' +\n",
       "              'Please try Chrome, Safari or Firefox ≥ 6. ' +\n",
       "              'Firefox 4 and 5 are also supported but you ' +\n",
       "              'have to enable WebSockets in about:config.');\n",
       "    };\n",
       "}\n",
       "\n",
       "mpl.figure = function(figure_id, websocket, ondownload, parent_element) {\n",
       "    this.id = figure_id;\n",
       "\n",
       "    this.ws = websocket;\n",
       "\n",
       "    this.supports_binary = (this.ws.binaryType != undefined);\n",
       "\n",
       "    if (!this.supports_binary) {\n",
       "        var warnings = document.getElementById(\"mpl-warnings\");\n",
       "        if (warnings) {\n",
       "            warnings.style.display = 'block';\n",
       "            warnings.textContent = (\n",
       "                \"This browser does not support binary websocket messages. \" +\n",
       "                    \"Performance may be slow.\");\n",
       "        }\n",
       "    }\n",
       "\n",
       "    this.imageObj = new Image();\n",
       "\n",
       "    this.context = undefined;\n",
       "    this.message = undefined;\n",
       "    this.canvas = undefined;\n",
       "    this.rubberband_canvas = undefined;\n",
       "    this.rubberband_context = undefined;\n",
       "    this.format_dropdown = undefined;\n",
       "\n",
       "    this.image_mode = 'full';\n",
       "\n",
       "    this.root = $('<div/>');\n",
       "    this._root_extra_style(this.root)\n",
       "    this.root.attr('style', 'display: inline-block');\n",
       "\n",
       "    $(parent_element).append(this.root);\n",
       "\n",
       "    this._init_header(this);\n",
       "    this._init_canvas(this);\n",
       "    this._init_toolbar(this);\n",
       "\n",
       "    var fig = this;\n",
       "\n",
       "    this.waiting = false;\n",
       "\n",
       "    this.ws.onopen =  function () {\n",
       "            fig.send_message(\"supports_binary\", {value: fig.supports_binary});\n",
       "            fig.send_message(\"send_image_mode\", {});\n",
       "            if (mpl.ratio != 1) {\n",
       "                fig.send_message(\"set_dpi_ratio\", {'dpi_ratio': mpl.ratio});\n",
       "            }\n",
       "            fig.send_message(\"refresh\", {});\n",
       "        }\n",
       "\n",
       "    this.imageObj.onload = function() {\n",
       "            if (fig.image_mode == 'full') {\n",
       "                // Full images could contain transparency (where diff images\n",
       "                // almost always do), so we need to clear the canvas so that\n",
       "                // there is no ghosting.\n",
       "                fig.context.clearRect(0, 0, fig.canvas.width, fig.canvas.height);\n",
       "            }\n",
       "            fig.context.drawImage(fig.imageObj, 0, 0);\n",
       "        };\n",
       "\n",
       "    this.imageObj.onunload = function() {\n",
       "        fig.ws.close();\n",
       "    }\n",
       "\n",
       "    this.ws.onmessage = this._make_on_message_function(this);\n",
       "\n",
       "    this.ondownload = ondownload;\n",
       "}\n",
       "\n",
       "mpl.figure.prototype._init_header = function() {\n",
       "    var titlebar = $(\n",
       "        '<div class=\"ui-dialog-titlebar ui-widget-header ui-corner-all ' +\n",
       "        'ui-helper-clearfix\"/>');\n",
       "    var titletext = $(\n",
       "        '<div class=\"ui-dialog-title\" style=\"width: 100%; ' +\n",
       "        'text-align: center; padding: 3px;\"/>');\n",
       "    titlebar.append(titletext)\n",
       "    this.root.append(titlebar);\n",
       "    this.header = titletext[0];\n",
       "}\n",
       "\n",
       "\n",
       "\n",
       "mpl.figure.prototype._canvas_extra_style = function(canvas_div) {\n",
       "\n",
       "}\n",
       "\n",
       "\n",
       "mpl.figure.prototype._root_extra_style = function(canvas_div) {\n",
       "\n",
       "}\n",
       "\n",
       "mpl.figure.prototype._init_canvas = function() {\n",
       "    var fig = this;\n",
       "\n",
       "    var canvas_div = $('<div/>');\n",
       "\n",
       "    canvas_div.attr('style', 'position: relative; clear: both; outline: 0');\n",
       "\n",
       "    function canvas_keyboard_event(event) {\n",
       "        return fig.key_event(event, event['data']);\n",
       "    }\n",
       "\n",
       "    canvas_div.keydown('key_press', canvas_keyboard_event);\n",
       "    canvas_div.keyup('key_release', canvas_keyboard_event);\n",
       "    this.canvas_div = canvas_div\n",
       "    this._canvas_extra_style(canvas_div)\n",
       "    this.root.append(canvas_div);\n",
       "\n",
       "    var canvas = $('<canvas/>');\n",
       "    canvas.addClass('mpl-canvas');\n",
       "    canvas.attr('style', \"left: 0; top: 0; z-index: 0; outline: 0\")\n",
       "\n",
       "    this.canvas = canvas[0];\n",
       "    this.context = canvas[0].getContext(\"2d\");\n",
       "\n",
       "    var backingStore = this.context.backingStorePixelRatio ||\n",
       "\tthis.context.webkitBackingStorePixelRatio ||\n",
       "\tthis.context.mozBackingStorePixelRatio ||\n",
       "\tthis.context.msBackingStorePixelRatio ||\n",
       "\tthis.context.oBackingStorePixelRatio ||\n",
       "\tthis.context.backingStorePixelRatio || 1;\n",
       "\n",
       "    mpl.ratio = (window.devicePixelRatio || 1) / backingStore;\n",
       "\n",
       "    var rubberband = $('<canvas/>');\n",
       "    rubberband.attr('style', \"position: absolute; left: 0; top: 0; z-index: 1;\")\n",
       "\n",
       "    var pass_mouse_events = true;\n",
       "\n",
       "    canvas_div.resizable({\n",
       "        start: function(event, ui) {\n",
       "            pass_mouse_events = false;\n",
       "        },\n",
       "        resize: function(event, ui) {\n",
       "            fig.request_resize(ui.size.width, ui.size.height);\n",
       "        },\n",
       "        stop: function(event, ui) {\n",
       "            pass_mouse_events = true;\n",
       "            fig.request_resize(ui.size.width, ui.size.height);\n",
       "        },\n",
       "    });\n",
       "\n",
       "    function mouse_event_fn(event) {\n",
       "        if (pass_mouse_events)\n",
       "            return fig.mouse_event(event, event['data']);\n",
       "    }\n",
       "\n",
       "    rubberband.mousedown('button_press', mouse_event_fn);\n",
       "    rubberband.mouseup('button_release', mouse_event_fn);\n",
       "    // Throttle sequential mouse events to 1 every 20ms.\n",
       "    rubberband.mousemove('motion_notify', mouse_event_fn);\n",
       "\n",
       "    rubberband.mouseenter('figure_enter', mouse_event_fn);\n",
       "    rubberband.mouseleave('figure_leave', mouse_event_fn);\n",
       "\n",
       "    canvas_div.on(\"wheel\", function (event) {\n",
       "        event = event.originalEvent;\n",
       "        event['data'] = 'scroll'\n",
       "        if (event.deltaY < 0) {\n",
       "            event.step = 1;\n",
       "        } else {\n",
       "            event.step = -1;\n",
       "        }\n",
       "        mouse_event_fn(event);\n",
       "    });\n",
       "\n",
       "    canvas_div.append(canvas);\n",
       "    canvas_div.append(rubberband);\n",
       "\n",
       "    this.rubberband = rubberband;\n",
       "    this.rubberband_canvas = rubberband[0];\n",
       "    this.rubberband_context = rubberband[0].getContext(\"2d\");\n",
       "    this.rubberband_context.strokeStyle = \"#000000\";\n",
       "\n",
       "    this._resize_canvas = function(width, height) {\n",
       "        // Keep the size of the canvas, canvas container, and rubber band\n",
       "        // canvas in synch.\n",
       "        canvas_div.css('width', width)\n",
       "        canvas_div.css('height', height)\n",
       "\n",
       "        canvas.attr('width', width * mpl.ratio);\n",
       "        canvas.attr('height', height * mpl.ratio);\n",
       "        canvas.attr('style', 'width: ' + width + 'px; height: ' + height + 'px;');\n",
       "\n",
       "        rubberband.attr('width', width);\n",
       "        rubberband.attr('height', height);\n",
       "    }\n",
       "\n",
       "    // Set the figure to an initial 600x600px, this will subsequently be updated\n",
       "    // upon first draw.\n",
       "    this._resize_canvas(600, 600);\n",
       "\n",
       "    // Disable right mouse context menu.\n",
       "    $(this.rubberband_canvas).bind(\"contextmenu\",function(e){\n",
       "        return false;\n",
       "    });\n",
       "\n",
       "    function set_focus () {\n",
       "        canvas.focus();\n",
       "        canvas_div.focus();\n",
       "    }\n",
       "\n",
       "    window.setTimeout(set_focus, 100);\n",
       "}\n",
       "\n",
       "mpl.figure.prototype._init_toolbar = function() {\n",
       "    var fig = this;\n",
       "\n",
       "    var nav_element = $('<div/>');\n",
       "    nav_element.attr('style', 'width: 100%');\n",
       "    this.root.append(nav_element);\n",
       "\n",
       "    // Define a callback function for later on.\n",
       "    function toolbar_event(event) {\n",
       "        return fig.toolbar_button_onclick(event['data']);\n",
       "    }\n",
       "    function toolbar_mouse_event(event) {\n",
       "        return fig.toolbar_button_onmouseover(event['data']);\n",
       "    }\n",
       "\n",
       "    for(var toolbar_ind in mpl.toolbar_items) {\n",
       "        var name = mpl.toolbar_items[toolbar_ind][0];\n",
       "        var tooltip = mpl.toolbar_items[toolbar_ind][1];\n",
       "        var image = mpl.toolbar_items[toolbar_ind][2];\n",
       "        var method_name = mpl.toolbar_items[toolbar_ind][3];\n",
       "\n",
       "        if (!name) {\n",
       "            // put a spacer in here.\n",
       "            continue;\n",
       "        }\n",
       "        var button = $('<button/>');\n",
       "        button.addClass('ui-button ui-widget ui-state-default ui-corner-all ' +\n",
       "                        'ui-button-icon-only');\n",
       "        button.attr('role', 'button');\n",
       "        button.attr('aria-disabled', 'false');\n",
       "        button.click(method_name, toolbar_event);\n",
       "        button.mouseover(tooltip, toolbar_mouse_event);\n",
       "\n",
       "        var icon_img = $('<span/>');\n",
       "        icon_img.addClass('ui-button-icon-primary ui-icon');\n",
       "        icon_img.addClass(image);\n",
       "        icon_img.addClass('ui-corner-all');\n",
       "\n",
       "        var tooltip_span = $('<span/>');\n",
       "        tooltip_span.addClass('ui-button-text');\n",
       "        tooltip_span.html(tooltip);\n",
       "\n",
       "        button.append(icon_img);\n",
       "        button.append(tooltip_span);\n",
       "\n",
       "        nav_element.append(button);\n",
       "    }\n",
       "\n",
       "    var fmt_picker_span = $('<span/>');\n",
       "\n",
       "    var fmt_picker = $('<select/>');\n",
       "    fmt_picker.addClass('mpl-toolbar-option ui-widget ui-widget-content');\n",
       "    fmt_picker_span.append(fmt_picker);\n",
       "    nav_element.append(fmt_picker_span);\n",
       "    this.format_dropdown = fmt_picker[0];\n",
       "\n",
       "    for (var ind in mpl.extensions) {\n",
       "        var fmt = mpl.extensions[ind];\n",
       "        var option = $(\n",
       "            '<option/>', {selected: fmt === mpl.default_extension}).html(fmt);\n",
       "        fmt_picker.append(option);\n",
       "    }\n",
       "\n",
       "    // Add hover states to the ui-buttons\n",
       "    $( \".ui-button\" ).hover(\n",
       "        function() { $(this).addClass(\"ui-state-hover\");},\n",
       "        function() { $(this).removeClass(\"ui-state-hover\");}\n",
       "    );\n",
       "\n",
       "    var status_bar = $('<span class=\"mpl-message\"/>');\n",
       "    nav_element.append(status_bar);\n",
       "    this.message = status_bar[0];\n",
       "}\n",
       "\n",
       "mpl.figure.prototype.request_resize = function(x_pixels, y_pixels) {\n",
       "    // Request matplotlib to resize the figure. Matplotlib will then trigger a resize in the client,\n",
       "    // which will in turn request a refresh of the image.\n",
       "    this.send_message('resize', {'width': x_pixels, 'height': y_pixels});\n",
       "}\n",
       "\n",
       "mpl.figure.prototype.send_message = function(type, properties) {\n",
       "    properties['type'] = type;\n",
       "    properties['figure_id'] = this.id;\n",
       "    this.ws.send(JSON.stringify(properties));\n",
       "}\n",
       "\n",
       "mpl.figure.prototype.send_draw_message = function() {\n",
       "    if (!this.waiting) {\n",
       "        this.waiting = true;\n",
       "        this.ws.send(JSON.stringify({type: \"draw\", figure_id: this.id}));\n",
       "    }\n",
       "}\n",
       "\n",
       "\n",
       "mpl.figure.prototype.handle_save = function(fig, msg) {\n",
       "    var format_dropdown = fig.format_dropdown;\n",
       "    var format = format_dropdown.options[format_dropdown.selectedIndex].value;\n",
       "    fig.ondownload(fig, format);\n",
       "}\n",
       "\n",
       "\n",
       "mpl.figure.prototype.handle_resize = function(fig, msg) {\n",
       "    var size = msg['size'];\n",
       "    if (size[0] != fig.canvas.width || size[1] != fig.canvas.height) {\n",
       "        fig._resize_canvas(size[0], size[1]);\n",
       "        fig.send_message(\"refresh\", {});\n",
       "    };\n",
       "}\n",
       "\n",
       "mpl.figure.prototype.handle_rubberband = function(fig, msg) {\n",
       "    var x0 = msg['x0'] / mpl.ratio;\n",
       "    var y0 = (fig.canvas.height - msg['y0']) / mpl.ratio;\n",
       "    var x1 = msg['x1'] / mpl.ratio;\n",
       "    var y1 = (fig.canvas.height - msg['y1']) / mpl.ratio;\n",
       "    x0 = Math.floor(x0) + 0.5;\n",
       "    y0 = Math.floor(y0) + 0.5;\n",
       "    x1 = Math.floor(x1) + 0.5;\n",
       "    y1 = Math.floor(y1) + 0.5;\n",
       "    var min_x = Math.min(x0, x1);\n",
       "    var min_y = Math.min(y0, y1);\n",
       "    var width = Math.abs(x1 - x0);\n",
       "    var height = Math.abs(y1 - y0);\n",
       "\n",
       "    fig.rubberband_context.clearRect(\n",
       "        0, 0, fig.canvas.width / mpl.ratio, fig.canvas.height / mpl.ratio);\n",
       "\n",
       "    fig.rubberband_context.strokeRect(min_x, min_y, width, height);\n",
       "}\n",
       "\n",
       "mpl.figure.prototype.handle_figure_label = function(fig, msg) {\n",
       "    // Updates the figure title.\n",
       "    fig.header.textContent = msg['label'];\n",
       "}\n",
       "\n",
       "mpl.figure.prototype.handle_cursor = function(fig, msg) {\n",
       "    var cursor = msg['cursor'];\n",
       "    switch(cursor)\n",
       "    {\n",
       "    case 0:\n",
       "        cursor = 'pointer';\n",
       "        break;\n",
       "    case 1:\n",
       "        cursor = 'default';\n",
       "        break;\n",
       "    case 2:\n",
       "        cursor = 'crosshair';\n",
       "        break;\n",
       "    case 3:\n",
       "        cursor = 'move';\n",
       "        break;\n",
       "    }\n",
       "    fig.rubberband_canvas.style.cursor = cursor;\n",
       "}\n",
       "\n",
       "mpl.figure.prototype.handle_message = function(fig, msg) {\n",
       "    fig.message.textContent = msg['message'];\n",
       "}\n",
       "\n",
       "mpl.figure.prototype.handle_draw = function(fig, msg) {\n",
       "    // Request the server to send over a new figure.\n",
       "    fig.send_draw_message();\n",
       "}\n",
       "\n",
       "mpl.figure.prototype.handle_image_mode = function(fig, msg) {\n",
       "    fig.image_mode = msg['mode'];\n",
       "}\n",
       "\n",
       "mpl.figure.prototype.updated_canvas_event = function() {\n",
       "    // Called whenever the canvas gets updated.\n",
       "    this.send_message(\"ack\", {});\n",
       "}\n",
       "\n",
       "// A function to construct a web socket function for onmessage handling.\n",
       "// Called in the figure constructor.\n",
       "mpl.figure.prototype._make_on_message_function = function(fig) {\n",
       "    return function socket_on_message(evt) {\n",
       "        if (evt.data instanceof Blob) {\n",
       "            /* FIXME: We get \"Resource interpreted as Image but\n",
       "             * transferred with MIME type text/plain:\" errors on\n",
       "             * Chrome.  But how to set the MIME type?  It doesn't seem\n",
       "             * to be part of the websocket stream */\n",
       "            evt.data.type = \"image/png\";\n",
       "\n",
       "            /* Free the memory for the previous frames */\n",
       "            if (fig.imageObj.src) {\n",
       "                (window.URL || window.webkitURL).revokeObjectURL(\n",
       "                    fig.imageObj.src);\n",
       "            }\n",
       "\n",
       "            fig.imageObj.src = (window.URL || window.webkitURL).createObjectURL(\n",
       "                evt.data);\n",
       "            fig.updated_canvas_event();\n",
       "            fig.waiting = false;\n",
       "            return;\n",
       "        }\n",
       "        else if (typeof evt.data === 'string' && evt.data.slice(0, 21) == \"data:image/png;base64\") {\n",
       "            fig.imageObj.src = evt.data;\n",
       "            fig.updated_canvas_event();\n",
       "            fig.waiting = false;\n",
       "            return;\n",
       "        }\n",
       "\n",
       "        var msg = JSON.parse(evt.data);\n",
       "        var msg_type = msg['type'];\n",
       "\n",
       "        // Call the  \"handle_{type}\" callback, which takes\n",
       "        // the figure and JSON message as its only arguments.\n",
       "        try {\n",
       "            var callback = fig[\"handle_\" + msg_type];\n",
       "        } catch (e) {\n",
       "            console.log(\"No handler for the '\" + msg_type + \"' message type: \", msg);\n",
       "            return;\n",
       "        }\n",
       "\n",
       "        if (callback) {\n",
       "            try {\n",
       "                // console.log(\"Handling '\" + msg_type + \"' message: \", msg);\n",
       "                callback(fig, msg);\n",
       "            } catch (e) {\n",
       "                console.log(\"Exception inside the 'handler_\" + msg_type + \"' callback:\", e, e.stack, msg);\n",
       "            }\n",
       "        }\n",
       "    };\n",
       "}\n",
       "\n",
       "// from http://stackoverflow.com/questions/1114465/getting-mouse-location-in-canvas\n",
       "mpl.findpos = function(e) {\n",
       "    //this section is from http://www.quirksmode.org/js/events_properties.html\n",
       "    var targ;\n",
       "    if (!e)\n",
       "        e = window.event;\n",
       "    if (e.target)\n",
       "        targ = e.target;\n",
       "    else if (e.srcElement)\n",
       "        targ = e.srcElement;\n",
       "    if (targ.nodeType == 3) // defeat Safari bug\n",
       "        targ = targ.parentNode;\n",
       "\n",
       "    // jQuery normalizes the pageX and pageY\n",
       "    // pageX,Y are the mouse positions relative to the document\n",
       "    // offset() returns the position of the element relative to the document\n",
       "    var x = e.pageX - $(targ).offset().left;\n",
       "    var y = e.pageY - $(targ).offset().top;\n",
       "\n",
       "    return {\"x\": x, \"y\": y};\n",
       "};\n",
       "\n",
       "/*\n",
       " * return a copy of an object with only non-object keys\n",
       " * we need this to avoid circular references\n",
       " * http://stackoverflow.com/a/24161582/3208463\n",
       " */\n",
       "function simpleKeys (original) {\n",
       "  return Object.keys(original).reduce(function (obj, key) {\n",
       "    if (typeof original[key] !== 'object')\n",
       "        obj[key] = original[key]\n",
       "    return obj;\n",
       "  }, {});\n",
       "}\n",
       "\n",
       "mpl.figure.prototype.mouse_event = function(event, name) {\n",
       "    var canvas_pos = mpl.findpos(event)\n",
       "\n",
       "    if (name === 'button_press')\n",
       "    {\n",
       "        this.canvas.focus();\n",
       "        this.canvas_div.focus();\n",
       "    }\n",
       "\n",
       "    var x = canvas_pos.x * mpl.ratio;\n",
       "    var y = canvas_pos.y * mpl.ratio;\n",
       "\n",
       "    this.send_message(name, {x: x, y: y, button: event.button,\n",
       "                             step: event.step,\n",
       "                             guiEvent: simpleKeys(event)});\n",
       "\n",
       "    /* This prevents the web browser from automatically changing to\n",
       "     * the text insertion cursor when the button is pressed.  We want\n",
       "     * to control all of the cursor setting manually through the\n",
       "     * 'cursor' event from matplotlib */\n",
       "    event.preventDefault();\n",
       "    return false;\n",
       "}\n",
       "\n",
       "mpl.figure.prototype._key_event_extra = function(event, name) {\n",
       "    // Handle any extra behaviour associated with a key event\n",
       "}\n",
       "\n",
       "mpl.figure.prototype.key_event = function(event, name) {\n",
       "\n",
       "    // Prevent repeat events\n",
       "    if (name == 'key_press')\n",
       "    {\n",
       "        if (event.which === this._key)\n",
       "            return;\n",
       "        else\n",
       "            this._key = event.which;\n",
       "    }\n",
       "    if (name == 'key_release')\n",
       "        this._key = null;\n",
       "\n",
       "    var value = '';\n",
       "    if (event.ctrlKey && event.which != 17)\n",
       "        value += \"ctrl+\";\n",
       "    if (event.altKey && event.which != 18)\n",
       "        value += \"alt+\";\n",
       "    if (event.shiftKey && event.which != 16)\n",
       "        value += \"shift+\";\n",
       "\n",
       "    value += 'k';\n",
       "    value += event.which.toString();\n",
       "\n",
       "    this._key_event_extra(event, name);\n",
       "\n",
       "    this.send_message(name, {key: value,\n",
       "                             guiEvent: simpleKeys(event)});\n",
       "    return false;\n",
       "}\n",
       "\n",
       "mpl.figure.prototype.toolbar_button_onclick = function(name) {\n",
       "    if (name == 'download') {\n",
       "        this.handle_save(this, null);\n",
       "    } else {\n",
       "        this.send_message(\"toolbar_button\", {name: name});\n",
       "    }\n",
       "};\n",
       "\n",
       "mpl.figure.prototype.toolbar_button_onmouseover = function(tooltip) {\n",
       "    this.message.textContent = tooltip;\n",
       "};\n",
       "mpl.toolbar_items = [[\"Home\", \"Reset original view\", \"fa fa-home icon-home\", \"home\"], [\"Back\", \"Back to previous view\", \"fa fa-arrow-left icon-arrow-left\", \"back\"], [\"Forward\", \"Forward to next view\", \"fa fa-arrow-right icon-arrow-right\", \"forward\"], [\"\", \"\", \"\", \"\"], [\"Pan\", \"Pan axes with left mouse, zoom with right\", \"fa fa-arrows icon-move\", \"pan\"], [\"Zoom\", \"Zoom to rectangle\", \"fa fa-square-o icon-check-empty\", \"zoom\"], [\"\", \"\", \"\", \"\"], [\"Download\", \"Download plot\", \"fa fa-floppy-o icon-save\", \"download\"]];\n",
       "\n",
       "mpl.extensions = [\"eps\", \"jpeg\", \"pdf\", \"png\", \"ps\", \"raw\", \"svg\", \"tif\"];\n",
       "\n",
       "mpl.default_extension = \"png\";var comm_websocket_adapter = function(comm) {\n",
       "    // Create a \"websocket\"-like object which calls the given IPython comm\n",
       "    // object with the appropriate methods. Currently this is a non binary\n",
       "    // socket, so there is still some room for performance tuning.\n",
       "    var ws = {};\n",
       "\n",
       "    ws.close = function() {\n",
       "        comm.close()\n",
       "    };\n",
       "    ws.send = function(m) {\n",
       "        //console.log('sending', m);\n",
       "        comm.send(m);\n",
       "    };\n",
       "    // Register the callback with on_msg.\n",
       "    comm.on_msg(function(msg) {\n",
       "        //console.log('receiving', msg['content']['data'], msg);\n",
       "        // Pass the mpl event to the overridden (by mpl) onmessage function.\n",
       "        ws.onmessage(msg['content']['data'])\n",
       "    });\n",
       "    return ws;\n",
       "}\n",
       "\n",
       "mpl.mpl_figure_comm = function(comm, msg) {\n",
       "    // This is the function which gets called when the mpl process\n",
       "    // starts-up an IPython Comm through the \"matplotlib\" channel.\n",
       "\n",
       "    var id = msg.content.data.id;\n",
       "    // Get hold of the div created by the display call when the Comm\n",
       "    // socket was opened in Python.\n",
       "    var element = $(\"#\" + id);\n",
       "    var ws_proxy = comm_websocket_adapter(comm)\n",
       "\n",
       "    function ondownload(figure, format) {\n",
       "        window.open(figure.imageObj.src);\n",
       "    }\n",
       "\n",
       "    var fig = new mpl.figure(id, ws_proxy,\n",
       "                           ondownload,\n",
       "                           element.get(0));\n",
       "\n",
       "    // Call onopen now - mpl needs it, as it is assuming we've passed it a real\n",
       "    // web socket which is closed, not our websocket->open comm proxy.\n",
       "    ws_proxy.onopen();\n",
       "\n",
       "    fig.parent_element = element.get(0);\n",
       "    fig.cell_info = mpl.find_output_cell(\"<div id='\" + id + \"'></div>\");\n",
       "    if (!fig.cell_info) {\n",
       "        console.error(\"Failed to find cell for figure\", id, fig);\n",
       "        return;\n",
       "    }\n",
       "\n",
       "    var output_index = fig.cell_info[2]\n",
       "    var cell = fig.cell_info[0];\n",
       "\n",
       "};\n",
       "\n",
       "mpl.figure.prototype.handle_close = function(fig, msg) {\n",
       "    var width = fig.canvas.width/mpl.ratio\n",
       "    fig.root.unbind('remove')\n",
       "\n",
       "    // Update the output cell to use the data from the current canvas.\n",
       "    fig.push_to_output();\n",
       "    var dataURL = fig.canvas.toDataURL();\n",
       "    // Re-enable the keyboard manager in IPython - without this line, in FF,\n",
       "    // the notebook keyboard shortcuts fail.\n",
       "    IPython.keyboard_manager.enable()\n",
       "    $(fig.parent_element).html('<img src=\"' + dataURL + '\" width=\"' + width + '\">');\n",
       "    fig.close_ws(fig, msg);\n",
       "}\n",
       "\n",
       "mpl.figure.prototype.close_ws = function(fig, msg){\n",
       "    fig.send_message('closing', msg);\n",
       "    // fig.ws.close()\n",
       "}\n",
       "\n",
       "mpl.figure.prototype.push_to_output = function(remove_interactive) {\n",
       "    // Turn the data on the canvas into data in the output cell.\n",
       "    var width = this.canvas.width/mpl.ratio\n",
       "    var dataURL = this.canvas.toDataURL();\n",
       "    this.cell_info[1]['text/html'] = '<img src=\"' + dataURL + '\" width=\"' + width + '\">';\n",
       "}\n",
       "\n",
       "mpl.figure.prototype.updated_canvas_event = function() {\n",
       "    // Tell IPython that the notebook contents must change.\n",
       "    IPython.notebook.set_dirty(true);\n",
       "    this.send_message(\"ack\", {});\n",
       "    var fig = this;\n",
       "    // Wait a second, then push the new image to the DOM so\n",
       "    // that it is saved nicely (might be nice to debounce this).\n",
       "    setTimeout(function () { fig.push_to_output() }, 1000);\n",
       "}\n",
       "\n",
       "mpl.figure.prototype._init_toolbar = function() {\n",
       "    var fig = this;\n",
       "\n",
       "    var nav_element = $('<div/>');\n",
       "    nav_element.attr('style', 'width: 100%');\n",
       "    this.root.append(nav_element);\n",
       "\n",
       "    // Define a callback function for later on.\n",
       "    function toolbar_event(event) {\n",
       "        return fig.toolbar_button_onclick(event['data']);\n",
       "    }\n",
       "    function toolbar_mouse_event(event) {\n",
       "        return fig.toolbar_button_onmouseover(event['data']);\n",
       "    }\n",
       "\n",
       "    for(var toolbar_ind in mpl.toolbar_items){\n",
       "        var name = mpl.toolbar_items[toolbar_ind][0];\n",
       "        var tooltip = mpl.toolbar_items[toolbar_ind][1];\n",
       "        var image = mpl.toolbar_items[toolbar_ind][2];\n",
       "        var method_name = mpl.toolbar_items[toolbar_ind][3];\n",
       "\n",
       "        if (!name) { continue; };\n",
       "\n",
       "        var button = $('<button class=\"btn btn-default\" href=\"#\" title=\"' + name + '\"><i class=\"fa ' + image + ' fa-lg\"></i></button>');\n",
       "        button.click(method_name, toolbar_event);\n",
       "        button.mouseover(tooltip, toolbar_mouse_event);\n",
       "        nav_element.append(button);\n",
       "    }\n",
       "\n",
       "    // Add the status bar.\n",
       "    var status_bar = $('<span class=\"mpl-message\" style=\"text-align:right; float: right;\"/>');\n",
       "    nav_element.append(status_bar);\n",
       "    this.message = status_bar[0];\n",
       "\n",
       "    // Add the close button to the window.\n",
       "    var buttongrp = $('<div class=\"btn-group inline pull-right\"></div>');\n",
       "    var button = $('<button class=\"btn btn-mini btn-primary\" href=\"#\" title=\"Stop Interaction\"><i class=\"fa fa-power-off icon-remove icon-large\"></i></button>');\n",
       "    button.click(function (evt) { fig.handle_close(fig, {}); } );\n",
       "    button.mouseover('Stop Interaction', toolbar_mouse_event);\n",
       "    buttongrp.append(button);\n",
       "    var titlebar = this.root.find($('.ui-dialog-titlebar'));\n",
       "    titlebar.prepend(buttongrp);\n",
       "}\n",
       "\n",
       "mpl.figure.prototype._root_extra_style = function(el){\n",
       "    var fig = this\n",
       "    el.on(\"remove\", function(){\n",
       "\tfig.close_ws(fig, {});\n",
       "    });\n",
       "}\n",
       "\n",
       "mpl.figure.prototype._canvas_extra_style = function(el){\n",
       "    // this is important to make the div 'focusable\n",
       "    el.attr('tabindex', 0)\n",
       "    // reach out to IPython and tell the keyboard manager to turn it's self\n",
       "    // off when our div gets focus\n",
       "\n",
       "    // location in version 3\n",
       "    if (IPython.notebook.keyboard_manager) {\n",
       "        IPython.notebook.keyboard_manager.register_events(el);\n",
       "    }\n",
       "    else {\n",
       "        // location in version 2\n",
       "        IPython.keyboard_manager.register_events(el);\n",
       "    }\n",
       "\n",
       "}\n",
       "\n",
       "mpl.figure.prototype._key_event_extra = function(event, name) {\n",
       "    var manager = IPython.notebook.keyboard_manager;\n",
       "    if (!manager)\n",
       "        manager = IPython.keyboard_manager;\n",
       "\n",
       "    // Check for shift+enter\n",
       "    if (event.shiftKey && event.which == 13) {\n",
       "        this.canvas_div.blur();\n",
       "        // select the cell after this one\n",
       "        var index = IPython.notebook.find_cell_index(this.cell_info[0]);\n",
       "        IPython.notebook.select(index + 1);\n",
       "    }\n",
       "}\n",
       "\n",
       "mpl.figure.prototype.handle_save = function(fig, msg) {\n",
       "    fig.ondownload(fig, null);\n",
       "}\n",
       "\n",
       "\n",
       "mpl.find_output_cell = function(html_output) {\n",
       "    // Return the cell and output element which can be found *uniquely* in the notebook.\n",
       "    // Note - this is a bit hacky, but it is done because the \"notebook_saving.Notebook\"\n",
       "    // IPython event is triggered only after the cells have been serialised, which for\n",
       "    // our purposes (turning an active figure into a static one), is too late.\n",
       "    var cells = IPython.notebook.get_cells();\n",
       "    var ncells = cells.length;\n",
       "    for (var i=0; i<ncells; i++) {\n",
       "        var cell = cells[i];\n",
       "        if (cell.cell_type === 'code'){\n",
       "            for (var j=0; j<cell.output_area.outputs.length; j++) {\n",
       "                var data = cell.output_area.outputs[j];\n",
       "                if (data.data) {\n",
       "                    // IPython >= 3 moved mimebundle to data attribute of output\n",
       "                    data = data.data;\n",
       "                }\n",
       "                if (data['text/html'] == html_output) {\n",
       "                    return [cell, data, j];\n",
       "                }\n",
       "            }\n",
       "        }\n",
       "    }\n",
       "}\n",
       "\n",
       "// Register the function which deals with the matplotlib target/channel.\n",
       "// The kernel may be null if the page has been refreshed.\n",
       "if (IPython.notebook.kernel != null) {\n",
       "    IPython.notebook.kernel.comm_manager.register_target('matplotlib', mpl.mpl_figure_comm);\n",
       "}\n"
      ],
      "text/plain": [
       "<IPython.core.display.Javascript object>"
      ]
     },
     "metadata": {},
     "output_type": "display_data"
    },
    {
     "data": {
      "text/html": [
       "<img src=\"data:image/png;base64,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\" width=\"1000\">"
      ],
      "text/plain": [
       "<IPython.core.display.HTML object>"
      ]
     },
     "metadata": {},
     "output_type": "display_data"
    }
   ],
   "source": [
    "dual_train_plots_tracks_to_KDE(results.index,\n",
    "                               results.cost, results.val,\n",
    "                               results.cost, results.val)\n",
    "plt.tight_layout()\n",
    "plt.savefig(str(output / f'{name}_stats_a.png'))"
   ]
  },
  {
   "cell_type": "code",
   "execution_count": 23,
   "metadata": {},
   "outputs": [],
   "source": [
    "#quit()"
   ]
  },
  {
   "cell_type": "code",
   "execution_count": null,
   "metadata": {},
   "outputs": [],
   "source": []
  },
  {
   "cell_type": "code",
   "execution_count": null,
   "metadata": {},
   "outputs": [],
   "source": []
  }
 ],
 "metadata": {
  "kernelspec": {
   "display_name": "goofit-june2020",
   "language": "python",
   "name": "goofit-june2020"
  },
  "language_info": {
   "codemirror_mode": {
    "name": "ipython",
    "version": 3
   },
   "file_extension": ".py",
   "mimetype": "text/x-python",
   "name": "python",
   "nbconvert_exporter": "python",
   "pygments_lexer": "ipython3",
   "version": "3.7.6"
  }
 },
 "nbformat": 4,
 "nbformat_minor": 2
}
