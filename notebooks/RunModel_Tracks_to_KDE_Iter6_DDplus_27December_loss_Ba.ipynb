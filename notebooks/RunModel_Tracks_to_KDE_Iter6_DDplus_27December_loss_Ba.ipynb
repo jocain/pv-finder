{
 "cells": [
  {
   "cell_type": "code",
   "execution_count": 1,
   "metadata": {},
   "outputs": [],
   "source": [
    "##%matplotlib widget\n",
    "## with %matplotlib notebook: seems to require ipympl as part of environment, either\n",
    "## part of the conda environment or \"pip install ipympl\"\n",
    "## otherwise, does not show ANY plots in note\"book, plt.savefig() works\n",
    "%matplotlib notebook  \n",
    "##%matplotlib inline    ## --plt.savefig()  works, but re-sizing does NOT\n"
   ]
  },
  {
   "cell_type": "markdown",
   "metadata": {},
   "source": [
    "This notebook is the second attempt to read in track information and use it to predict the KDE used as input to PvFinder. This time, we are reading in poca KDEs rather than the original KDEs. \n",
    "\n",
    "collectdata_kde_C.py uses poca_z, poca_x, poca_y, major_axis_x, major_axis_y, and major_axis_z as the six track parameters (for the moment)\n"
   ]
  },
  {
   "cell_type": "markdown",
   "metadata": {},
   "source": [
    "Check the current GPU usage. Please try to be nice!"
   ]
  },
  {
   "cell_type": "code",
   "execution_count": 2,
   "metadata": {},
   "outputs": [
    {
     "name": "stdout",
     "output_type": "stream",
     "text": [
      "Sun Dec 27 11:06:38 2020       \r\n",
      "+-----------------------------------------------------------------------------+\r\n",
      "| NVIDIA-SMI 450.36.06    Driver Version: 450.36.06    CUDA Version: 11.0     |\r\n",
      "|-------------------------------+----------------------+----------------------+\r\n",
      "| GPU  Name        Persistence-M| Bus-Id        Disp.A | Volatile Uncorr. ECC |\r\n",
      "| Fan  Temp  Perf  Pwr:Usage/Cap|         Memory-Usage | GPU-Util  Compute M. |\r\n",
      "|                               |                      |               MIG M. |\r\n",
      "|===============================+======================+======================|\r\n",
      "|   0  GeForce RTX 208...  On   | 00000000:18:00.0 Off |                  N/A |\r\n",
      "| 29%   40C    P8    40W / 250W |      1MiB / 11019MiB |      0%      Default |\r\n",
      "|                               |                      |                  N/A |\r\n",
      "+-------------------------------+----------------------+----------------------+\r\n",
      "|   1  GeForce RTX 208...  On   | 00000000:3B:00.0 Off |                  N/A |\r\n",
      "| 29%   41C    P8    39W / 250W |     61MiB / 11019MiB |      0%      Default |\r\n",
      "|                               |                      |                  N/A |\r\n",
      "+-------------------------------+----------------------+----------------------+\r\n",
      "                                                                               \r\n",
      "+-----------------------------------------------------------------------------+\r\n",
      "| Processes:                                                                  |\r\n",
      "|  GPU   GI   CI        PID   Type   Process name                  GPU Memory |\r\n",
      "|        ID   ID                                                   Usage      |\r\n",
      "|=============================================================================|\r\n",
      "|    1   N/A  N/A      3736      G   /usr/bin/X                         33MiB |\r\n",
      "|    1   N/A  N/A      3790      G   /usr/bin/gnome-shell               25MiB |\r\n",
      "+-----------------------------------------------------------------------------+\r\n"
     ]
    }
   ],
   "source": [
    "!nvidia-smi"
   ]
  },
  {
   "cell_type": "markdown",
   "metadata": {},
   "source": [
    "> **WARNING**: The card numbers here are *not* the same as in CUDA. You have been warned."
   ]
  },
  {
   "cell_type": "markdown",
   "metadata": {},
   "source": [
    "This notebook is first attempt to read in track information and use it to predict the KDE used as input to PvFinder.\n"
   ]
  },
  {
   "cell_type": "markdown",
   "metadata": {},
   "source": [
    "## Imports"
   ]
  },
  {
   "cell_type": "code",
   "execution_count": 3,
   "metadata": {},
   "outputs": [],
   "source": [
    "import matplotlib.pyplot as plt\n",
    "import numpy as np\n",
    "import time\n",
    "import torch\n",
    "import pandas as pd\n",
    "\n",
    "# Python 3 standard library\n",
    "from pathlib import Path\n",
    "\n",
    "##from torchsummary import summary"
   ]
  },
  {
   "cell_type": "markdown",
   "metadata": {},
   "source": [
    "### Set up local parameters"
   ]
  },
  {
   "cell_type": "code",
   "execution_count": 4,
   "metadata": {},
   "outputs": [],
   "source": [
    "n_epochs = 800\n",
    "\n",
    "# Name is the output file name\n",
    "\n",
    "\n",
    "##  201027 -- about to go to bed, so try 2500 epochs with lr = 1e55\n",
    "##  previous iteration had l4 = 3e-5 and cost dropped almost linearly\n",
    "##  for 100 epochs -- final training costs ~ 2.02, validation cost ~ 2.01\n",
    "\n",
    "## for iter 4, try 10 epochs with lr = 3e-6\n",
    "## usually have a big jump down at epoch 0; want to try a\n",
    "## small number of epochs per iteration and see what happens (iter4: 10 epochs gave\n",
    "## traiing cost dropping from 1.54 to 1.50 immediately, then dropping very slowly)\n",
    "folder = '25December__DDplus_loss_Ba_iter5_floatAll_800epochs_5em6'\n",
    "name   = folder\n",
    "\n",
    "# Make an output folder named \"name\" (change if you want)\n",
    "\n",
    "## Special instructions for those working on goofy at UC\n",
    "## Please be very careful to make sure that your folder\n",
    "## does not live in a subdirectory of your home directory\n",
    "## this disk has very little capacity. Instead, use \n",
    "## a subdirectory in /share/lazy with a symbolic link to\n",
    "## it in this (the notebooks) subdirectory\n",
    "folder = 'ML/' + folder\n",
    "output = Path(folder)\n",
    "\n",
    "\n",
    "# Size of batches\n",
    "batch_size = 16 ## was 64\n",
    "# How fast to learn\n",
    "learning_rate = 5e-6"
   ]
  },
  {
   "cell_type": "markdown",
   "metadata": {},
   "source": [
    "Make the output directory if it does not exist:"
   ]
  },
  {
   "cell_type": "code",
   "execution_count": 5,
   "metadata": {},
   "outputs": [],
   "source": [
    "output.mkdir(exist_ok=True)"
   ]
  },
  {
   "cell_type": "markdown",
   "metadata": {},
   "source": [
    "## Get the helper functions\n",
    "\n",
    "Add the directory with the model\n",
    "definitions to the path so we can import from it:\n",
    "\n",
    "> When you type `import X`,\n",
    "Python searches `sys.path` for a python\n",
    "file named `X.py` to import. So we need to add the model directory to the path."
   ]
  },
  {
   "cell_type": "code",
   "execution_count": 6,
   "metadata": {
    "scrolled": true
   },
   "outputs": [],
   "source": [
    "# From model/collectdata.py\n",
    "##from model.collectdata_kde_B import collect_t2kde_data\n",
    "## collectdata_kde_C should use the new poca KDE rather than the original kernel KDE\n",
    "from model.collectdata_kde_Ellipsoids import collect_t2kde_data\n",
    "\n",
    "\n",
    "# From model/loss.py\n",
    "##from loss import Loss\n",
    "## kde_loss_D includes botha ratio term and a chisq term, 98% ave_chisq\n",
    "## kde_loss_E adds a chi^4 term to the kde_loss_D return value\n",
    "## this is intended to emphasize the importance of values significantly different than zero\n",
    "from model.kde_loss_Ba import Loss\n",
    "\n",
    "##  TracksToKDE_Ellipsoids_SevenLayerCake has 7 hidden layers producing the 4000-bin KDE historgram\n",
    "##  It takes 9 input features (pocca centers + (A,B,C,D,E,F) . \n",
    "from model.models_kde import TracksToKDE_Ellipsoids_DDplus as Model\n",
    "\n",
    "\n",
    "from model.training_kde import trainNet, select_gpu, Results\n",
    "from model.plots import dual_train_plots, replace_in_ax"
   ]
  },
  {
   "cell_type": "code",
   "execution_count": 7,
   "metadata": {},
   "outputs": [],
   "source": [
    "# This gets built up during the run - do not rerun this cell\n",
    "results = pd.DataFrame([], columns=Results._fields)"
   ]
  },
  {
   "cell_type": "markdown",
   "metadata": {},
   "source": [
    "Set up Torch device configuration. All tensors and model parameters need to know where to be put.\n",
    "This takes a BUS ID number: The BUS ID is the same as the listing at the top of this script."
   ]
  },
  {
   "cell_type": "code",
   "execution_count": 8,
   "metadata": {},
   "outputs": [
    {
     "name": "stdout",
     "output_type": "stream",
     "text": [
      "1 available GPUs (initially using device 0):\n",
      "  0 GeForce RTX 2080 Ti\n"
     ]
    }
   ],
   "source": [
    "device = select_gpu(0)\n",
    "##device = \"cpu\""
   ]
  },
  {
   "cell_type": "markdown",
   "metadata": {},
   "source": [
    "## Loading data\n",
    "\n",
    "Load the dataset, split into parts, then move to device (see `collectdata.py` in the `../model` directory)"
   ]
  },
  {
   "cell_type": "markdown",
   "metadata": {},
   "source": [
    "# Preparing the model"
   ]
  },
  {
   "cell_type": "markdown",
   "metadata": {},
   "source": [
    "Prepare a model, use multiple GPUs if they are VISIBLE, and move the model to the device."
   ]
  },
  {
   "cell_type": "code",
   "execution_count": 9,
   "metadata": {
    "scrolled": true
   },
   "outputs": [],
   "source": [
    "##print(\"Let's use\", torch.cuda.device_count(), \"GPUs!\")\n",
    "##if torch.cuda.device_count() > 1:\n",
    "##    model = torch.nn.DataParallel(model)"
   ]
  },
  {
   "cell_type": "code",
   "execution_count": 10,
   "metadata": {},
   "outputs": [
    {
     "name": "stdout",
     "output_type": "stream",
     "text": [
      "ct, child =  0    Linear(in_features=9, out_features=50, bias=True)\n",
      "ct, child =  1    Linear(in_features=50, out_features=50, bias=True)\n",
      "ct, child =  2    Linear(in_features=50, out_features=50, bias=True)\n",
      "ct, child =  3    Linear(in_features=50, out_features=50, bias=True)\n",
      "ct, child =  4    Linear(in_features=50, out_features=50, bias=True)\n",
      "ct, child =  5    Linear(in_features=50, out_features=50, bias=True)\n",
      "ct, child =  6    Linear(in_features=50, out_features=50, bias=True)\n",
      "ct, child =  7    Linear(in_features=50, out_features=50, bias=True)\n",
      "ct, child =  8    Linear(in_features=50, out_features=50, bias=True)\n",
      "ct, child =  9    Linear(in_features=50, out_features=50, bias=True)\n",
      "ct, child =  10    Linear(in_features=50, out_features=50, bias=True)\n",
      "ct, child =  11    Linear(in_features=50, out_features=16000, bias=True)\n",
      "ct, child =  12    Conv1d(4, 25, kernel_size=(25,), stride=(1,), padding=(12,))\n",
      "ct, child =  13    Conv1d(25, 1, kernel_size=(5,), stride=(1,), padding=(2,))\n",
      "ct, child =  14    Linear(in_features=4000, out_features=4000, bias=True)\n",
      "ct, child =  15    Conv1d(25, 1, kernel_size=(15,), stride=(1,), padding=(7,))\n",
      "ct, child =  16    Dropout(p=0.15, inplace=False)\n",
      "ct, child =  17    Dropout(p=0.15, inplace=False)\n"
     ]
    }
   ],
   "source": [
    "## a comment on the web at https://pytorch.org/docs/stable/optim.html says\n",
    "\"\"\"\n",
    "If you need to move a model to GPU via .cuda(), please do so before constructing optimizers for it. \n",
    "Parameters of a model after .cuda() will be different objects with those before the call.\n",
    "\n",
    "In general, you should make sure that optimized parameters live in consistent locations when \n",
    "optimizers are constructed and used.\n",
    "\"\"\"\n",
    "## so move this here (although we are using model.to(device) not explicitly using .cuda()\n",
    "\n",
    "nOut1 = 50\n",
    "nOut2 = 50\n",
    "nOut3 = 50\n",
    "nOut4 = 50\n",
    "nOut5 = 50\n",
    "nOut6 = 50\n",
    "nOut7 = 50\n",
    "nOut8 = 50\n",
    "nOut9 = 50\n",
    "nOut10 = 50\n",
    "nOut11 = 50\n",
    "latentChannels = 4\n",
    "model = Model(nOut1,nOut2,nOut3,nOut4,nOut5,nOut6,nOut7,nOut8,nOut9,nOut10,nOut11,latentChannels)\n",
    "\n",
    "##summary(model, input_size=(4, 4000))\n",
    "##print(model.parameters)\n",
    "\n",
    "## add the following code to allow the user to freeze the some of the weights corresponding \n",
    "## to those taken from an earlier model trained with the original target histograms\n",
    "## presumably -- this leaves either the perturbative filter \"fixed\" and lets the \n",
    "## learning focus on the non-perturbative features, so get started faster, or vice versa\n",
    "ct = 0\n",
    "for child in model.children():\n",
    "  print('ct, child = ',ct, \"  \", child)\n",
    "  if ct < 0:\n",
    "    print(\"     About to set param.requires_grad=False for ct = \", ct, \"params\")\n",
    "    for param in child.parameters():\n",
    "        param.requires_grad = False \n",
    "  ct += 1\n",
    "##  mds 200121 loss = Loss(epsilon=1e-5,coefficient=1.0)\n",
    "##  loss = Loss(epsilon=1e-5,coefficient=2.5)\n",
    "##loss = Loss(epsilon=3e-5, debug=False)\n",
    "loss = Loss(epsilon=3e-5)"
   ]
  },
  {
   "cell_type": "markdown",
   "metadata": {},
   "source": [
    "Let's move the model's weight matricies to the GPU:"
   ]
  },
  {
   "cell_type": "code",
   "execution_count": 11,
   "metadata": {
    "scrolled": true
   },
   "outputs": [],
   "source": [
    "model = model.to(device)"
   ]
  },
  {
   "cell_type": "code",
   "execution_count": 12,
   "metadata": {
    "scrolled": true
   },
   "outputs": [],
   "source": [
    "optimizer = torch.optim.Adam(model.parameters(), lr=learning_rate)\n",
    "##optimizer = torch.optim.SGD(model.parameters(), lr=learning_rate)"
   ]
  },
  {
   "cell_type": "code",
   "execution_count": 13,
   "metadata": {
    "scrolled": false
   },
   "outputs": [
    {
     "name": "stdout",
     "output_type": "stream",
     "text": [
      "output =  ML/25December__DDplus_loss_Ba_iter5_floatAll_800epochs_5em6\n",
      "for model_dict\n",
      "index, k =   0    layer1.weight\n",
      "index, k =   1    layer1.bias\n",
      "index, k =   2    layer2.weight\n",
      "index, k =   3    layer2.bias\n",
      "index, k =   4    layer3.weight\n",
      "index, k =   5    layer3.bias\n",
      "index, k =   6    layer4.weight\n",
      "index, k =   7    layer4.bias\n",
      "index, k =   8    layer5.weight\n",
      "index, k =   9    layer5.bias\n",
      "index, k =   10    layer6.weight\n",
      "index, k =   11    layer6.bias\n",
      "index, k =   12    layer7.weight\n",
      "index, k =   13    layer7.bias\n",
      "index, k =   14    layer8.weight\n",
      "index, k =   15    layer8.bias\n",
      "index, k =   16    layer9.weight\n",
      "index, k =   17    layer9.bias\n",
      "index, k =   18    layer10.weight\n",
      "index, k =   19    layer10.bias\n",
      "index, k =   20    layer11.weight\n",
      "index, k =   21    layer11.bias\n",
      "index, k =   22    layer12new.weight\n",
      "index, k =   23    layer12new.bias\n",
      "index, k =   24    conv1.weight\n",
      "index, k =   25    conv1.bias\n",
      "index, k =   26    conv2.weight\n",
      "index, k =   27    conv2.bias\n",
      "index, k =   28    fc1.weight\n",
      "index, k =   29    fc1.bias\n",
      "index, k =   30    finalFilter.weight\n",
      "index, k =   31    finalFilter.bias\n",
      "dict_name =  ML/25December__DDplus_loss_Ba_iter5_floatAll_800epochs_1em5/25December__DDplus_loss_Ba_iter5_floatAll_800epochs_1em5_final.pyt\n",
      " \n",
      "  for pretrained_dict\n",
      "index, k =   0    layer1.weight\n",
      "index, k =   1    layer1.bias\n",
      "index, k =   2    layer2.weight\n",
      "index, k =   3    layer2.bias\n",
      "index, k =   4    layer3.weight\n",
      "index, k =   5    layer3.bias\n",
      "index, k =   6    layer4.weight\n",
      "index, k =   7    layer4.bias\n",
      "index, k =   8    layer5.weight\n",
      "index, k =   9    layer5.bias\n",
      "index, k =   10    layer6.weight\n",
      "index, k =   11    layer6.bias\n",
      "index, k =   12    layer7.weight\n",
      "index, k =   13    layer7.bias\n",
      "index, k =   14    layer8.weight\n",
      "index, k =   15    layer8.bias\n",
      "index, k =   16    layer9.weight\n",
      "index, k =   17    layer9.bias\n",
      "index, k =   18    layer10.weight\n",
      "index, k =   19    layer10.bias\n",
      "index, k =   20    layer11.weight\n",
      "index, k =   21    layer11.bias\n",
      "index, k =   22    layer12new.weight\n",
      "index, k =   23    layer12new.bias\n",
      "index, k =   24    conv1.weight\n",
      "index, k =   25    conv1.bias\n",
      "index, k =   26    conv2.weight\n",
      "index, k =   27    conv2.bias\n",
      "index, k =   28    fc1.weight\n",
      "index, k =   29    fc1.bias\n",
      "index, k =   30    finalFilter.weight\n",
      "index, k =   31    finalFilter.bias\n",
      "pretrained_dict iterated\n"
     ]
    },
    {
     "data": {
      "text/plain": [
       "<All keys matched successfully>"
      ]
     },
     "execution_count": 13,
     "metadata": {},
     "output_type": "execute_result"
    }
   ],
   "source": [
    "print('output = ',output)\n",
    "##print('oldOutput = ',oldOutput)\n",
    "##  use the first four layers from a pre-existing model\n",
    "##  see example at https://discuss.pytorch.org/t/how-to-load-part-of-pre-trained-model/1113\n",
    "\n",
    "##   ML -> /share/lazy/sokoloff/ML\n",
    "model_dict = model.state_dict()\n",
    "## mds 190725 for debugging\n",
    "print(\"for model_dict\")\n",
    "index = 0\n",
    "for k,v in model_dict.items():\n",
    "    print(\"index, k =  \",index,\"  \",k)\n",
    "    index = index+1\n",
    "##    print(\"value = \", v)\n",
    " \n",
    "updated_dict = model_dict\n",
    "##print(\"updated_dict = \",updated_dict)\n",
    "## when starting \"ab initio\", reduce biases as the bias gets summed for each track\n",
    "## contributing to the predicted KDE\n",
    "updated_dict[\"layer1.bias\"] = 0.005*model_dict[\"layer1.bias\"]\n",
    "updated_dict[\"layer2.bias\"] = 0.005*model_dict[\"layer2.bias\"]\n",
    "updated_dict[\"layer3.bias\"] = 0.005*model_dict[\"layer3.bias\"]\n",
    "updated_dict[\"layer4.bias\"] = 0.005*model_dict[\"layer4.bias\"]\n",
    "updated_dict[\"layer5.bias\"] = 0.005*model_dict[\"layer5.bias\"]\n",
    "updated_dict[\"layer6.bias\"] = 0.005*model_dict[\"layer6.bias\"]\n",
    "updated_dict[\"layer7.bias\"] = 0.005*model_dict[\"layer7.bias\"]\n",
    "updated_dict[\"layer8.bias\"] = 0.005*model_dict[\"layer8.bias\"]\n",
    "updated_dict[\"layer9.bias\"] = 0.005*model_dict[\"layer9.bias\"]\n",
    "updated_dict[\"layer10.bias\"] = 0.005*model_dict[\"layer10.bias\"]\n",
    "updated_dict[\"layer11.bias\"] = 0.005*model_dict[\"layer11.bias\"]\n",
    "\n",
    "model.load_state_dict(updated_dict,strict=False)\n",
    "\n",
    "model_dict = model.state_dict()\n",
    "##print(\"updated model_dict = \",model_dict)\n",
    "\n",
    "## print(\" \\n\",\"  for pretrained_dict\")\n",
    "## index = 0\n",
    "##for k,v in pretrained_dict.items():\n",
    "##    print(\"index, k =  \",index,\"  \",k)\n",
    "##    index = index+1\n",
    "## mds  \n",
    "\n",
    "##pretrained_dict = torch.load('ML/29July2020_Trks_to_KDE_C_lossB_100epochs_b64_1m3_nOut_50x50/29July2020_Trks_to_KDE_C_lossB_100epochs_b64_1m3_nOut_50x50_final.pyt')\n",
    "##print(\"model_dict instantiated\")\n",
    "# 1. filter out unnecessary keys\n",
    "##pretrained_dict = {k: v for k, v in pretrained_dict.items() if k in model_dict}\n",
    "##print(\"pretrained_dict iterated\")\n",
    "# 2. overwrite entries in the existing state dict\n",
    "##model_dict.update(pretrained_dict) \n",
    "##\n",
    "#   when starting from a model with a fully connected last layer rather than a convolutional layer\n",
    "# 3. load the new state dict\n",
    "#   need to use strict=False as the two models state model attributes do not agree exactly\n",
    "#   see https://pytorch.org/docs/master/_modules/torch/nn/modules/module.html#Module.load_state_dict\n",
    "\n",
    "##model.load_state_dict(pretrained_dict,strict=False)\n",
    "\n",
    "## print('model_dict =    ', model_dict)\n",
    "\n",
    "## finished at training cost = 1.46, validation cost = 1.50\n",
    "d_folder = '25December__DDplus_loss_Ba_iter5_floatAll_800epochs_1em5'\n",
    "d_name = d_folder\n",
    "suffix = 'final'\n",
    "dict_name = 'ML/' + d_folder + '/' + d_name + '_'+ suffix + '.pyt'\n",
    "print('dict_name = ',dict_name)\n",
    "pretrained_dict = torch.load(dict_name)\n",
    "\n",
    "print(\" \")\n",
    "print(\"  for pretrained_dict\")\n",
    "index = 0\n",
    "for k,v in pretrained_dict.items():\n",
    "    print(\"index, k =  \",index,\"  \",k)\n",
    "    index = index+1\n",
    " \n",
    "\n",
    "##print(\"model_dict instantiated\")\n",
    "# 1. filter out unnecessary keys\n",
    "pretrained_dict = {k: v for k, v in pretrained_dict.items() if k in model_dict}\n",
    "print(\"pretrained_dict iterated\")\n",
    "# 2. overwrite entries in the existing state dict\n",
    "model_dict.update(pretrained_dict) \n",
    "##\n",
    "#   when starting from a model with a fully connected last layer rather than a convolutional layer\n",
    "# 3. load the new state dict\n",
    "#   need to use strict=False as the two models state model attributes do not agree exactly\n",
    "#   see https://pytorch.org/docs/master/_modules/torch/nn/modules/module.html#Module.load_state_dict\n",
    "\n",
    "model.load_state_dict(pretrained_dict,strict=False)\n",
    "\n"
   ]
  },
  {
   "cell_type": "code",
   "execution_count": 14,
   "metadata": {},
   "outputs": [],
   "source": [
    "##print('validation.dataset.tensors = ',validation.dataset.tensors)\n",
    "fig_size = plt.rcParams[\"figure.figsize\"]\n",
    "fig_size[0] = 10\n",
    "fig_size[1] = 4\n",
    "plt.rcParams[\"figure.figsize\"] = fig_size"
   ]
  },
  {
   "cell_type": "code",
   "execution_count": 15,
   "metadata": {
    "scrolled": false
   },
   "outputs": [
    {
     "name": "stdout",
     "output_type": "stream",
     "text": [
      "Loading data...\n",
      "pocaMx.shape =  (20000,)\n",
      "nEvts =  20000\n",
      "len(pocaMx[0]) =  211\n",
      "len(pocaMx[1]) =  21\n",
      "len(pocaMx[2]) =  20\n",
      "len(pocaMx[3]) =  198\n",
      "len(pocaMx[4]) =  233\n",
      "majorAxis.shape =  (20000, 3)\n",
      "minorAxis_1.shape =  (20000, 3)\n",
      "minorAxis_2.shape =  (20000, 3)\n",
      "have entered six_ellipsoid_parameters\n",
      "  \n",
      " \n",
      "  nEvts =  20000\n",
      " iEvt, nTrks =  0 211\n",
      " iEvt, nTrks =  1 21\n",
      " iEvt, nTrks =  2 20\n",
      " iEvt, nTrks =  3 198\n",
      " iEvt, nTrks =  4 233\n",
      " iEvt, nTrks =  5 85\n",
      " iEvt, nTrks =  6 223\n",
      " iEvt, nTrks =  7 425\n",
      " iEvt, nTrks =  8 252\n",
      " iEvt, nTrks =  9 169\n",
      "A.shape =  (20000,)\n",
      "majorAxis[iTrk][0][0] =  -0.00023452607\n",
      "majorAxis[iTrk][1][0] =  -0.00047206535\n",
      "majorAxis[iTrk][2][0] =  0.096502915\n",
      "minorAxis_1[iTrk][0][0] =  -15.822749\n",
      "minorAxis_1[iTrk][1][0] =  7.8608756\n",
      "minorAxis_1[iTrk][2][0] =  -2.6228399e-08\n",
      "minorAxis_2[iTrk][0][0] =  7.860759\n",
      "minorAxis_2[iTrk][1][0] =  15.822513\n",
      "minorAxis_2[iTrk][2][0] =  0.096502915\n",
      "  \n",
      "majorAxis[iTrk][0][0] =  -0.37655562\n",
      "majorAxis[iTrk][1][0] =  0.2768704\n",
      "majorAxis[iTrk][2][0] =  2.8546858\n",
      "minorAxis_1[iTrk][0][0] =  -10.466048\n",
      "minorAxis_1[iTrk][1][0] =  -14.234274\n",
      "minorAxis_1[iTrk][2][0] =  2.2974699e-11\n",
      "minorAxis_2[iTrk][0][0] =  -14.04724\n",
      "minorAxis_2[iTrk][1][0] =  10.328527\n",
      "minorAxis_2[iTrk][2][0] =  -2.8546853\n",
      "  \n",
      "majorAxis[iTrk][0][0] =  -0.024279848\n",
      "majorAxis[iTrk][1][0] =  0.0019689242\n",
      "majorAxis[iTrk][2][0] =  0.65580803\n",
      "minorAxis_1[iTrk][0][0] =  -1.4280497\n",
      "minorAxis_1[iTrk][1][0] =  -17.610037\n",
      "minorAxis_1[iTrk][2][0] =  -6.123401e-10\n",
      "minorAxis_2[iTrk][0][0] =  -17.597902\n",
      "minorAxis_2[iTrk][1][0] =  1.4270656\n",
      "minorAxis_2[iTrk][2][0] =  -0.6558081\n",
      "  \n",
      "majorAxis[iTrk][0][0] =  -0.007825993\n",
      "majorAxis[iTrk][1][0] =  0.004052097\n",
      "majorAxis[iTrk][2][0] =  0.3945435\n",
      "minorAxis_1[iTrk][0][0] =  8.123606\n",
      "minorAxis_1[iTrk][1][0] =  15.689478\n",
      "minorAxis_1[iTrk][2][0] =  -2.4940747e-10\n",
      "minorAxis_2[iTrk][0][0] =  15.685566\n",
      "minorAxis_2[iTrk][1][0] =  -8.12158\n",
      "minorAxis_2[iTrk][2][0] =  0.3945435\n",
      "  \n",
      "majorAxis[iTrk][0][0] =  0.0046102717\n",
      "majorAxis[iTrk][1][0] =  -0.0016007021\n",
      "majorAxis[iTrk][2][0] =  0.29361814\n",
      "minorAxis_1[iTrk][0][0] =  -5.794979\n",
      "minorAxis_1[iTrk][1][0] =  -16.690445\n",
      "minorAxis_1[iTrk][2][0] =  2.4897104e-09\n",
      "minorAxis_2[iTrk][0][0] =  -16.688139\n",
      "minorAxis_2[iTrk][1][0] =  5.794179\n",
      "minorAxis_2[iTrk][2][0] =  0.2936181\n",
      "  \n",
      "majorAxis[iTrk][0][0] =  -0.00020041714\n",
      "majorAxis[iTrk][1][0] =  0.00010468164\n",
      "majorAxis[iTrk][2][0] =  0.06320469\n",
      "minorAxis_1[iTrk][0][0] =  8.179679\n",
      "minorAxis_1[iTrk][1][0] =  15.660318\n",
      "minorAxis_1[iTrk][2][0] =  7.40176e-08\n",
      "minorAxis_2[iTrk][0][0] =  15.660218\n",
      "minorAxis_2[iTrk][1][0] =  -8.179626\n",
      "minorAxis_2[iTrk][2][0] =  0.06320469\n",
      "  \n",
      "majorAxis[iTrk][0][0] =  -0.00020603223\n",
      "majorAxis[iTrk][1][0] =  -0.0005662605\n",
      "majorAxis[iTrk][2][0] =  0.10317981\n",
      "minorAxis_1[iTrk][0][0] =  -16.603\n",
      "minorAxis_1[iTrk][1][0] =  6.040953\n",
      "minorAxis_1[iTrk][2][0] =  4.5812504e-07\n",
      "minorAxis_2[iTrk][0][0] =  6.0408506\n",
      "minorAxis_2[iTrk][1][0] =  16.602718\n",
      "minorAxis_2[iTrk][2][0] =  0.10317982\n",
      "  \n",
      "majorAxis[iTrk][0][0] =  -0.00040561036\n",
      "majorAxis[iTrk][1][0] =  0.00014461782\n",
      "majorAxis[iTrk][2][0] =  0.0872241\n",
      "minorAxis_1[iTrk][0][0] =  -5.933496\n",
      "minorAxis_1[iTrk][1][0] =  -16.641706\n",
      "minorAxis_1[iTrk][2][0] =  1.0720762e-08\n",
      "minorAxis_2[iTrk][0][0] =  -16.641502\n",
      "minorAxis_2[iTrk][1][0] =  5.9334235\n",
      "minorAxis_2[iTrk][2][0] =  -0.0872241\n",
      "  \n",
      "majorAxis[iTrk][0][0] =  0.00038461428\n",
      "majorAxis[iTrk][1][0] =  -3.4232737e-05\n",
      "majorAxis[iTrk][2][0] =  0.08259597\n",
      "minorAxis_1[iTrk][0][0] =  -1.5663412\n",
      "minorAxis_1[iTrk][1][0] =  -17.598276\n",
      "minorAxis_1[iTrk][2][0] =  3.2106848e-07\n",
      "minorAxis_2[iTrk][0][0] =  -17.598082\n",
      "minorAxis_2[iTrk][1][0] =  1.5663238\n",
      "minorAxis_2[iTrk][2][0] =  0.08259596\n",
      "  \n",
      "majorAxis[iTrk][0][0] =  -0.022277953\n",
      "majorAxis[iTrk][1][0] =  -0.0046837274\n",
      "majorAxis[iTrk][2][0] =  0.63399464\n",
      "minorAxis_1[iTrk][0][0] =  -3.6350286\n",
      "minorAxis_1[iTrk][1][0] =  17.289862\n",
      "minorAxis_1[iTrk][2][0] =  9.566169e-10\n",
      "minorAxis_2[iTrk][0][0] =  17.278727\n",
      "minorAxis_2[iTrk][1][0] =  3.6326876\n",
      "minorAxis_2[iTrk][2][0] =  0.6339946\n",
      "  \n",
      "len(X) =  20000\n",
      "len(Xlist) =  1\n",
      "Loaded dataAA/20K_POCA_kernel_evts_200926.h5 in 30.47 s\n",
      "outer loop X.shape =  (20000, 9, 600)\n",
      "Constructing 18000 event dataset took 0.07869 s\n",
      "x_t.shape =  torch.Size([18000, 9, 600])\n",
      "x_t.shape[0] =  18000\n",
      "x_t.shape[1] =  9\n",
      "x_t.shape =  torch.Size([18000, 9, 600])\n",
      "Loading data...\n",
      "pocaMx.shape =  (20000,)\n",
      "nEvts =  20000\n",
      "len(pocaMx[0]) =  211\n",
      "len(pocaMx[1]) =  21\n",
      "len(pocaMx[2]) =  20\n",
      "len(pocaMx[3]) =  198\n",
      "len(pocaMx[4]) =  233\n",
      "majorAxis.shape =  (20000, 3)\n",
      "minorAxis_1.shape =  (20000, 3)\n",
      "minorAxis_2.shape =  (20000, 3)\n",
      "have entered six_ellipsoid_parameters\n",
      "  \n",
      " \n",
      "  nEvts =  20000\n",
      " iEvt, nTrks =  0 211\n",
      " iEvt, nTrks =  1 21\n",
      " iEvt, nTrks =  2 20\n",
      " iEvt, nTrks =  3 198\n",
      " iEvt, nTrks =  4 233\n",
      " iEvt, nTrks =  5 85\n",
      " iEvt, nTrks =  6 223\n",
      " iEvt, nTrks =  7 425\n",
      " iEvt, nTrks =  8 252\n",
      " iEvt, nTrks =  9 169\n",
      "A.shape =  (20000,)\n",
      "majorAxis[iTrk][0][0] =  -0.00023452607\n",
      "majorAxis[iTrk][1][0] =  -0.00047206535\n",
      "majorAxis[iTrk][2][0] =  0.096502915\n",
      "minorAxis_1[iTrk][0][0] =  -15.822749\n",
      "minorAxis_1[iTrk][1][0] =  7.8608756\n",
      "minorAxis_1[iTrk][2][0] =  -2.6228399e-08\n",
      "minorAxis_2[iTrk][0][0] =  7.860759\n",
      "minorAxis_2[iTrk][1][0] =  15.822513\n",
      "minorAxis_2[iTrk][2][0] =  0.096502915\n",
      "  \n",
      "majorAxis[iTrk][0][0] =  -0.37655562\n",
      "majorAxis[iTrk][1][0] =  0.2768704\n",
      "majorAxis[iTrk][2][0] =  2.8546858\n",
      "minorAxis_1[iTrk][0][0] =  -10.466048\n",
      "minorAxis_1[iTrk][1][0] =  -14.234274\n",
      "minorAxis_1[iTrk][2][0] =  2.2974699e-11\n",
      "minorAxis_2[iTrk][0][0] =  -14.04724\n",
      "minorAxis_2[iTrk][1][0] =  10.328527\n",
      "minorAxis_2[iTrk][2][0] =  -2.8546853\n",
      "  \n",
      "majorAxis[iTrk][0][0] =  -0.024279848\n",
      "majorAxis[iTrk][1][0] =  0.0019689242\n",
      "majorAxis[iTrk][2][0] =  0.65580803\n",
      "minorAxis_1[iTrk][0][0] =  -1.4280497\n",
      "minorAxis_1[iTrk][1][0] =  -17.610037\n",
      "minorAxis_1[iTrk][2][0] =  -6.123401e-10\n",
      "minorAxis_2[iTrk][0][0] =  -17.597902\n",
      "minorAxis_2[iTrk][1][0] =  1.4270656\n",
      "minorAxis_2[iTrk][2][0] =  -0.6558081\n",
      "  \n",
      "majorAxis[iTrk][0][0] =  -0.007825993\n",
      "majorAxis[iTrk][1][0] =  0.004052097\n",
      "majorAxis[iTrk][2][0] =  0.3945435\n",
      "minorAxis_1[iTrk][0][0] =  8.123606\n",
      "minorAxis_1[iTrk][1][0] =  15.689478\n",
      "minorAxis_1[iTrk][2][0] =  -2.4940747e-10\n",
      "minorAxis_2[iTrk][0][0] =  15.685566\n",
      "minorAxis_2[iTrk][1][0] =  -8.12158\n",
      "minorAxis_2[iTrk][2][0] =  0.3945435\n",
      "  \n",
      "majorAxis[iTrk][0][0] =  0.0046102717\n",
      "majorAxis[iTrk][1][0] =  -0.0016007021\n",
      "majorAxis[iTrk][2][0] =  0.29361814\n",
      "minorAxis_1[iTrk][0][0] =  -5.794979\n",
      "minorAxis_1[iTrk][1][0] =  -16.690445\n",
      "minorAxis_1[iTrk][2][0] =  2.4897104e-09\n",
      "minorAxis_2[iTrk][0][0] =  -16.688139\n",
      "minorAxis_2[iTrk][1][0] =  5.794179\n",
      "minorAxis_2[iTrk][2][0] =  0.2936181\n",
      "  \n",
      "majorAxis[iTrk][0][0] =  -0.00020041714\n",
      "majorAxis[iTrk][1][0] =  0.00010468164\n",
      "majorAxis[iTrk][2][0] =  0.06320469\n",
      "minorAxis_1[iTrk][0][0] =  8.179679\n",
      "minorAxis_1[iTrk][1][0] =  15.660318\n",
      "minorAxis_1[iTrk][2][0] =  7.40176e-08\n",
      "minorAxis_2[iTrk][0][0] =  15.660218\n",
      "minorAxis_2[iTrk][1][0] =  -8.179626\n",
      "minorAxis_2[iTrk][2][0] =  0.06320469\n",
      "  \n",
      "majorAxis[iTrk][0][0] =  -0.00020603223\n",
      "majorAxis[iTrk][1][0] =  -0.0005662605\n",
      "majorAxis[iTrk][2][0] =  0.10317981\n",
      "minorAxis_1[iTrk][0][0] =  -16.603\n",
      "minorAxis_1[iTrk][1][0] =  6.040953\n",
      "minorAxis_1[iTrk][2][0] =  4.5812504e-07\n",
      "minorAxis_2[iTrk][0][0] =  6.0408506\n",
      "minorAxis_2[iTrk][1][0] =  16.602718\n",
      "minorAxis_2[iTrk][2][0] =  0.10317982\n",
      "  \n",
      "majorAxis[iTrk][0][0] =  -0.00040561036\n",
      "majorAxis[iTrk][1][0] =  0.00014461782\n",
      "majorAxis[iTrk][2][0] =  0.0872241\n",
      "minorAxis_1[iTrk][0][0] =  -5.933496\n",
      "minorAxis_1[iTrk][1][0] =  -16.641706\n",
      "minorAxis_1[iTrk][2][0] =  1.0720762e-08\n",
      "minorAxis_2[iTrk][0][0] =  -16.641502\n",
      "minorAxis_2[iTrk][1][0] =  5.9334235\n",
      "minorAxis_2[iTrk][2][0] =  -0.0872241\n",
      "  \n",
      "majorAxis[iTrk][0][0] =  0.00038461428\n",
      "majorAxis[iTrk][1][0] =  -3.4232737e-05\n",
      "majorAxis[iTrk][2][0] =  0.08259597\n",
      "minorAxis_1[iTrk][0][0] =  -1.5663412\n",
      "minorAxis_1[iTrk][1][0] =  -17.598276\n",
      "minorAxis_1[iTrk][2][0] =  3.2106848e-07\n",
      "minorAxis_2[iTrk][0][0] =  -17.598082\n",
      "minorAxis_2[iTrk][1][0] =  1.5663238\n",
      "minorAxis_2[iTrk][2][0] =  0.08259596\n",
      "  \n",
      "majorAxis[iTrk][0][0] =  -0.022277953\n",
      "majorAxis[iTrk][1][0] =  -0.0046837274\n",
      "majorAxis[iTrk][2][0] =  0.63399464\n",
      "minorAxis_1[iTrk][0][0] =  -3.6350286\n",
      "minorAxis_1[iTrk][1][0] =  17.289862\n",
      "minorAxis_1[iTrk][2][0] =  9.566169e-10\n",
      "minorAxis_2[iTrk][0][0] =  17.278727\n",
      "minorAxis_2[iTrk][1][0] =  3.6326876\n",
      "minorAxis_2[iTrk][2][0] =  0.6339946\n",
      "  \n"
     ]
    },
    {
     "name": "stdout",
     "output_type": "stream",
     "text": [
      "len(X) =  20000\n",
      "len(Xlist) =  1\n",
      "Loaded dataAA/20K_POCA_kernel_evts_200926.h5 in 28.17 s\n",
      "outer loop X.shape =  (20000, 9, 600)\n",
      "Constructing 2000 event dataset took 0.007036 s\n",
      "x_t.shape =  torch.Size([2000, 9, 600])\n",
      "x_t.shape[0] =  2000\n",
      "x_t.shape[1] =  9\n",
      "x_t.shape =  torch.Size([2000, 9, 600])\n"
     ]
    }
   ],
   "source": [
    "\n",
    "## Training dataset. You can put as many files here as desired.\n",
    "\n",
    "##train_loader = collect_t2kde_data('/share/lazy/pv-finder/20k_evts_for_KDE_learning_200716.h5',\n",
    "train_loader = collect_t2kde_data('dataAA/20K_POCA_kernel_evts_200926.h5',\n",
    "##train_loader = collect_t2kde_data('/share/lazy/pv-finder/test_data_for_KDE_learning_BastilleDay20.h5',\n",
    "                            batch_size=batch_size,\n",
    "## if we are using a larger dataset (240K events, with the datasets above, and 11 GB  of GPU memory),\n",
    "## the dataset will overflow the GPU memory; device=device will allow the data to move back\n",
    "## and forth between the CPU and GPU memory. While this allows use of a larger dataset, it slows\n",
    "## down performance by about 10%.  So comment out when not needed.\n",
    "##                          device=device,\n",
    "                           slice = slice(None,18000)\n",
    "                           )\n",
    "                            \n",
    "# Validation dataset. You can slice to reduce the size.\n",
    "## mds no separate validation set yet,\n",
    "val_loader = collect_t2kde_data('dataAA/20K_POCA_kernel_evts_200926.h5',\n",
    "                            batch_size=batch_size,\n",
    "##                            device=device,\n",
    "                            slice = slice(18000,None)\n",
    "                           )\n"
   ]
  },
  {
   "cell_type": "code",
   "execution_count": 16,
   "metadata": {
    "scrolled": false
   },
   "outputs": [
    {
     "data": {
      "application/javascript": [
       "/* Put everything inside the global mpl namespace */\n",
       "window.mpl = {};\n",
       "\n",
       "\n",
       "mpl.get_websocket_type = function() {\n",
       "    if (typeof(WebSocket) !== 'undefined') {\n",
       "        return WebSocket;\n",
       "    } else if (typeof(MozWebSocket) !== 'undefined') {\n",
       "        return MozWebSocket;\n",
       "    } else {\n",
       "        alert('Your browser does not have WebSocket support. ' +\n",
       "              'Please try Chrome, Safari or Firefox ≥ 6. ' +\n",
       "              'Firefox 4 and 5 are also supported but you ' +\n",
       "              'have to enable WebSockets in about:config.');\n",
       "    };\n",
       "}\n",
       "\n",
       "mpl.figure = function(figure_id, websocket, ondownload, parent_element) {\n",
       "    this.id = figure_id;\n",
       "\n",
       "    this.ws = websocket;\n",
       "\n",
       "    this.supports_binary = (this.ws.binaryType != undefined);\n",
       "\n",
       "    if (!this.supports_binary) {\n",
       "        var warnings = document.getElementById(\"mpl-warnings\");\n",
       "        if (warnings) {\n",
       "            warnings.style.display = 'block';\n",
       "            warnings.textContent = (\n",
       "                \"This browser does not support binary websocket messages. \" +\n",
       "                    \"Performance may be slow.\");\n",
       "        }\n",
       "    }\n",
       "\n",
       "    this.imageObj = new Image();\n",
       "\n",
       "    this.context = undefined;\n",
       "    this.message = undefined;\n",
       "    this.canvas = undefined;\n",
       "    this.rubberband_canvas = undefined;\n",
       "    this.rubberband_context = undefined;\n",
       "    this.format_dropdown = undefined;\n",
       "\n",
       "    this.image_mode = 'full';\n",
       "\n",
       "    this.root = $('<div/>');\n",
       "    this._root_extra_style(this.root)\n",
       "    this.root.attr('style', 'display: inline-block');\n",
       "\n",
       "    $(parent_element).append(this.root);\n",
       "\n",
       "    this._init_header(this);\n",
       "    this._init_canvas(this);\n",
       "    this._init_toolbar(this);\n",
       "\n",
       "    var fig = this;\n",
       "\n",
       "    this.waiting = false;\n",
       "\n",
       "    this.ws.onopen =  function () {\n",
       "            fig.send_message(\"supports_binary\", {value: fig.supports_binary});\n",
       "            fig.send_message(\"send_image_mode\", {});\n",
       "            if (mpl.ratio != 1) {\n",
       "                fig.send_message(\"set_dpi_ratio\", {'dpi_ratio': mpl.ratio});\n",
       "            }\n",
       "            fig.send_message(\"refresh\", {});\n",
       "        }\n",
       "\n",
       "    this.imageObj.onload = function() {\n",
       "            if (fig.image_mode == 'full') {\n",
       "                // Full images could contain transparency (where diff images\n",
       "                // almost always do), so we need to clear the canvas so that\n",
       "                // there is no ghosting.\n",
       "                fig.context.clearRect(0, 0, fig.canvas.width, fig.canvas.height);\n",
       "            }\n",
       "            fig.context.drawImage(fig.imageObj, 0, 0);\n",
       "        };\n",
       "\n",
       "    this.imageObj.onunload = function() {\n",
       "        fig.ws.close();\n",
       "    }\n",
       "\n",
       "    this.ws.onmessage = this._make_on_message_function(this);\n",
       "\n",
       "    this.ondownload = ondownload;\n",
       "}\n",
       "\n",
       "mpl.figure.prototype._init_header = function() {\n",
       "    var titlebar = $(\n",
       "        '<div class=\"ui-dialog-titlebar ui-widget-header ui-corner-all ' +\n",
       "        'ui-helper-clearfix\"/>');\n",
       "    var titletext = $(\n",
       "        '<div class=\"ui-dialog-title\" style=\"width: 100%; ' +\n",
       "        'text-align: center; padding: 3px;\"/>');\n",
       "    titlebar.append(titletext)\n",
       "    this.root.append(titlebar);\n",
       "    this.header = titletext[0];\n",
       "}\n",
       "\n",
       "\n",
       "\n",
       "mpl.figure.prototype._canvas_extra_style = function(canvas_div) {\n",
       "\n",
       "}\n",
       "\n",
       "\n",
       "mpl.figure.prototype._root_extra_style = function(canvas_div) {\n",
       "\n",
       "}\n",
       "\n",
       "mpl.figure.prototype._init_canvas = function() {\n",
       "    var fig = this;\n",
       "\n",
       "    var canvas_div = $('<div/>');\n",
       "\n",
       "    canvas_div.attr('style', 'position: relative; clear: both; outline: 0');\n",
       "\n",
       "    function canvas_keyboard_event(event) {\n",
       "        return fig.key_event(event, event['data']);\n",
       "    }\n",
       "\n",
       "    canvas_div.keydown('key_press', canvas_keyboard_event);\n",
       "    canvas_div.keyup('key_release', canvas_keyboard_event);\n",
       "    this.canvas_div = canvas_div\n",
       "    this._canvas_extra_style(canvas_div)\n",
       "    this.root.append(canvas_div);\n",
       "\n",
       "    var canvas = $('<canvas/>');\n",
       "    canvas.addClass('mpl-canvas');\n",
       "    canvas.attr('style', \"left: 0; top: 0; z-index: 0; outline: 0\")\n",
       "\n",
       "    this.canvas = canvas[0];\n",
       "    this.context = canvas[0].getContext(\"2d\");\n",
       "\n",
       "    var backingStore = this.context.backingStorePixelRatio ||\n",
       "\tthis.context.webkitBackingStorePixelRatio ||\n",
       "\tthis.context.mozBackingStorePixelRatio ||\n",
       "\tthis.context.msBackingStorePixelRatio ||\n",
       "\tthis.context.oBackingStorePixelRatio ||\n",
       "\tthis.context.backingStorePixelRatio || 1;\n",
       "\n",
       "    mpl.ratio = (window.devicePixelRatio || 1) / backingStore;\n",
       "\n",
       "    var rubberband = $('<canvas/>');\n",
       "    rubberband.attr('style', \"position: absolute; left: 0; top: 0; z-index: 1;\")\n",
       "\n",
       "    var pass_mouse_events = true;\n",
       "\n",
       "    canvas_div.resizable({\n",
       "        start: function(event, ui) {\n",
       "            pass_mouse_events = false;\n",
       "        },\n",
       "        resize: function(event, ui) {\n",
       "            fig.request_resize(ui.size.width, ui.size.height);\n",
       "        },\n",
       "        stop: function(event, ui) {\n",
       "            pass_mouse_events = true;\n",
       "            fig.request_resize(ui.size.width, ui.size.height);\n",
       "        },\n",
       "    });\n",
       "\n",
       "    function mouse_event_fn(event) {\n",
       "        if (pass_mouse_events)\n",
       "            return fig.mouse_event(event, event['data']);\n",
       "    }\n",
       "\n",
       "    rubberband.mousedown('button_press', mouse_event_fn);\n",
       "    rubberband.mouseup('button_release', mouse_event_fn);\n",
       "    // Throttle sequential mouse events to 1 every 20ms.\n",
       "    rubberband.mousemove('motion_notify', mouse_event_fn);\n",
       "\n",
       "    rubberband.mouseenter('figure_enter', mouse_event_fn);\n",
       "    rubberband.mouseleave('figure_leave', mouse_event_fn);\n",
       "\n",
       "    canvas_div.on(\"wheel\", function (event) {\n",
       "        event = event.originalEvent;\n",
       "        event['data'] = 'scroll'\n",
       "        if (event.deltaY < 0) {\n",
       "            event.step = 1;\n",
       "        } else {\n",
       "            event.step = -1;\n",
       "        }\n",
       "        mouse_event_fn(event);\n",
       "    });\n",
       "\n",
       "    canvas_div.append(canvas);\n",
       "    canvas_div.append(rubberband);\n",
       "\n",
       "    this.rubberband = rubberband;\n",
       "    this.rubberband_canvas = rubberband[0];\n",
       "    this.rubberband_context = rubberband[0].getContext(\"2d\");\n",
       "    this.rubberband_context.strokeStyle = \"#000000\";\n",
       "\n",
       "    this._resize_canvas = function(width, height) {\n",
       "        // Keep the size of the canvas, canvas container, and rubber band\n",
       "        // canvas in synch.\n",
       "        canvas_div.css('width', width)\n",
       "        canvas_div.css('height', height)\n",
       "\n",
       "        canvas.attr('width', width * mpl.ratio);\n",
       "        canvas.attr('height', height * mpl.ratio);\n",
       "        canvas.attr('style', 'width: ' + width + 'px; height: ' + height + 'px;');\n",
       "\n",
       "        rubberband.attr('width', width);\n",
       "        rubberband.attr('height', height);\n",
       "    }\n",
       "\n",
       "    // Set the figure to an initial 600x600px, this will subsequently be updated\n",
       "    // upon first draw.\n",
       "    this._resize_canvas(600, 600);\n",
       "\n",
       "    // Disable right mouse context menu.\n",
       "    $(this.rubberband_canvas).bind(\"contextmenu\",function(e){\n",
       "        return false;\n",
       "    });\n",
       "\n",
       "    function set_focus () {\n",
       "        canvas.focus();\n",
       "        canvas_div.focus();\n",
       "    }\n",
       "\n",
       "    window.setTimeout(set_focus, 100);\n",
       "}\n",
       "\n",
       "mpl.figure.prototype._init_toolbar = function() {\n",
       "    var fig = this;\n",
       "\n",
       "    var nav_element = $('<div/>');\n",
       "    nav_element.attr('style', 'width: 100%');\n",
       "    this.root.append(nav_element);\n",
       "\n",
       "    // Define a callback function for later on.\n",
       "    function toolbar_event(event) {\n",
       "        return fig.toolbar_button_onclick(event['data']);\n",
       "    }\n",
       "    function toolbar_mouse_event(event) {\n",
       "        return fig.toolbar_button_onmouseover(event['data']);\n",
       "    }\n",
       "\n",
       "    for(var toolbar_ind in mpl.toolbar_items) {\n",
       "        var name = mpl.toolbar_items[toolbar_ind][0];\n",
       "        var tooltip = mpl.toolbar_items[toolbar_ind][1];\n",
       "        var image = mpl.toolbar_items[toolbar_ind][2];\n",
       "        var method_name = mpl.toolbar_items[toolbar_ind][3];\n",
       "\n",
       "        if (!name) {\n",
       "            // put a spacer in here.\n",
       "            continue;\n",
       "        }\n",
       "        var button = $('<button/>');\n",
       "        button.addClass('ui-button ui-widget ui-state-default ui-corner-all ' +\n",
       "                        'ui-button-icon-only');\n",
       "        button.attr('role', 'button');\n",
       "        button.attr('aria-disabled', 'false');\n",
       "        button.click(method_name, toolbar_event);\n",
       "        button.mouseover(tooltip, toolbar_mouse_event);\n",
       "\n",
       "        var icon_img = $('<span/>');\n",
       "        icon_img.addClass('ui-button-icon-primary ui-icon');\n",
       "        icon_img.addClass(image);\n",
       "        icon_img.addClass('ui-corner-all');\n",
       "\n",
       "        var tooltip_span = $('<span/>');\n",
       "        tooltip_span.addClass('ui-button-text');\n",
       "        tooltip_span.html(tooltip);\n",
       "\n",
       "        button.append(icon_img);\n",
       "        button.append(tooltip_span);\n",
       "\n",
       "        nav_element.append(button);\n",
       "    }\n",
       "\n",
       "    var fmt_picker_span = $('<span/>');\n",
       "\n",
       "    var fmt_picker = $('<select/>');\n",
       "    fmt_picker.addClass('mpl-toolbar-option ui-widget ui-widget-content');\n",
       "    fmt_picker_span.append(fmt_picker);\n",
       "    nav_element.append(fmt_picker_span);\n",
       "    this.format_dropdown = fmt_picker[0];\n",
       "\n",
       "    for (var ind in mpl.extensions) {\n",
       "        var fmt = mpl.extensions[ind];\n",
       "        var option = $(\n",
       "            '<option/>', {selected: fmt === mpl.default_extension}).html(fmt);\n",
       "        fmt_picker.append(option);\n",
       "    }\n",
       "\n",
       "    // Add hover states to the ui-buttons\n",
       "    $( \".ui-button\" ).hover(\n",
       "        function() { $(this).addClass(\"ui-state-hover\");},\n",
       "        function() { $(this).removeClass(\"ui-state-hover\");}\n",
       "    );\n",
       "\n",
       "    var status_bar = $('<span class=\"mpl-message\"/>');\n",
       "    nav_element.append(status_bar);\n",
       "    this.message = status_bar[0];\n",
       "}\n",
       "\n",
       "mpl.figure.prototype.request_resize = function(x_pixels, y_pixels) {\n",
       "    // Request matplotlib to resize the figure. Matplotlib will then trigger a resize in the client,\n",
       "    // which will in turn request a refresh of the image.\n",
       "    this.send_message('resize', {'width': x_pixels, 'height': y_pixels});\n",
       "}\n",
       "\n",
       "mpl.figure.prototype.send_message = function(type, properties) {\n",
       "    properties['type'] = type;\n",
       "    properties['figure_id'] = this.id;\n",
       "    this.ws.send(JSON.stringify(properties));\n",
       "}\n",
       "\n",
       "mpl.figure.prototype.send_draw_message = function() {\n",
       "    if (!this.waiting) {\n",
       "        this.waiting = true;\n",
       "        this.ws.send(JSON.stringify({type: \"draw\", figure_id: this.id}));\n",
       "    }\n",
       "}\n",
       "\n",
       "\n",
       "mpl.figure.prototype.handle_save = function(fig, msg) {\n",
       "    var format_dropdown = fig.format_dropdown;\n",
       "    var format = format_dropdown.options[format_dropdown.selectedIndex].value;\n",
       "    fig.ondownload(fig, format);\n",
       "}\n",
       "\n",
       "\n",
       "mpl.figure.prototype.handle_resize = function(fig, msg) {\n",
       "    var size = msg['size'];\n",
       "    if (size[0] != fig.canvas.width || size[1] != fig.canvas.height) {\n",
       "        fig._resize_canvas(size[0], size[1]);\n",
       "        fig.send_message(\"refresh\", {});\n",
       "    };\n",
       "}\n",
       "\n",
       "mpl.figure.prototype.handle_rubberband = function(fig, msg) {\n",
       "    var x0 = msg['x0'] / mpl.ratio;\n",
       "    var y0 = (fig.canvas.height - msg['y0']) / mpl.ratio;\n",
       "    var x1 = msg['x1'] / mpl.ratio;\n",
       "    var y1 = (fig.canvas.height - msg['y1']) / mpl.ratio;\n",
       "    x0 = Math.floor(x0) + 0.5;\n",
       "    y0 = Math.floor(y0) + 0.5;\n",
       "    x1 = Math.floor(x1) + 0.5;\n",
       "    y1 = Math.floor(y1) + 0.5;\n",
       "    var min_x = Math.min(x0, x1);\n",
       "    var min_y = Math.min(y0, y1);\n",
       "    var width = Math.abs(x1 - x0);\n",
       "    var height = Math.abs(y1 - y0);\n",
       "\n",
       "    fig.rubberband_context.clearRect(\n",
       "        0, 0, fig.canvas.width / mpl.ratio, fig.canvas.height / mpl.ratio);\n",
       "\n",
       "    fig.rubberband_context.strokeRect(min_x, min_y, width, height);\n",
       "}\n",
       "\n",
       "mpl.figure.prototype.handle_figure_label = function(fig, msg) {\n",
       "    // Updates the figure title.\n",
       "    fig.header.textContent = msg['label'];\n",
       "}\n",
       "\n",
       "mpl.figure.prototype.handle_cursor = function(fig, msg) {\n",
       "    var cursor = msg['cursor'];\n",
       "    switch(cursor)\n",
       "    {\n",
       "    case 0:\n",
       "        cursor = 'pointer';\n",
       "        break;\n",
       "    case 1:\n",
       "        cursor = 'default';\n",
       "        break;\n",
       "    case 2:\n",
       "        cursor = 'crosshair';\n",
       "        break;\n",
       "    case 3:\n",
       "        cursor = 'move';\n",
       "        break;\n",
       "    }\n",
       "    fig.rubberband_canvas.style.cursor = cursor;\n",
       "}\n",
       "\n",
       "mpl.figure.prototype.handle_message = function(fig, msg) {\n",
       "    fig.message.textContent = msg['message'];\n",
       "}\n",
       "\n",
       "mpl.figure.prototype.handle_draw = function(fig, msg) {\n",
       "    // Request the server to send over a new figure.\n",
       "    fig.send_draw_message();\n",
       "}\n",
       "\n",
       "mpl.figure.prototype.handle_image_mode = function(fig, msg) {\n",
       "    fig.image_mode = msg['mode'];\n",
       "}\n",
       "\n",
       "mpl.figure.prototype.updated_canvas_event = function() {\n",
       "    // Called whenever the canvas gets updated.\n",
       "    this.send_message(\"ack\", {});\n",
       "}\n",
       "\n",
       "// A function to construct a web socket function for onmessage handling.\n",
       "// Called in the figure constructor.\n",
       "mpl.figure.prototype._make_on_message_function = function(fig) {\n",
       "    return function socket_on_message(evt) {\n",
       "        if (evt.data instanceof Blob) {\n",
       "            /* FIXME: We get \"Resource interpreted as Image but\n",
       "             * transferred with MIME type text/plain:\" errors on\n",
       "             * Chrome.  But how to set the MIME type?  It doesn't seem\n",
       "             * to be part of the websocket stream */\n",
       "            evt.data.type = \"image/png\";\n",
       "\n",
       "            /* Free the memory for the previous frames */\n",
       "            if (fig.imageObj.src) {\n",
       "                (window.URL || window.webkitURL).revokeObjectURL(\n",
       "                    fig.imageObj.src);\n",
       "            }\n",
       "\n",
       "            fig.imageObj.src = (window.URL || window.webkitURL).createObjectURL(\n",
       "                evt.data);\n",
       "            fig.updated_canvas_event();\n",
       "            fig.waiting = false;\n",
       "            return;\n",
       "        }\n",
       "        else if (typeof evt.data === 'string' && evt.data.slice(0, 21) == \"data:image/png;base64\") {\n",
       "            fig.imageObj.src = evt.data;\n",
       "            fig.updated_canvas_event();\n",
       "            fig.waiting = false;\n",
       "            return;\n",
       "        }\n",
       "\n",
       "        var msg = JSON.parse(evt.data);\n",
       "        var msg_type = msg['type'];\n",
       "\n",
       "        // Call the  \"handle_{type}\" callback, which takes\n",
       "        // the figure and JSON message as its only arguments.\n",
       "        try {\n",
       "            var callback = fig[\"handle_\" + msg_type];\n",
       "        } catch (e) {\n",
       "            console.log(\"No handler for the '\" + msg_type + \"' message type: \", msg);\n",
       "            return;\n",
       "        }\n",
       "\n",
       "        if (callback) {\n",
       "            try {\n",
       "                // console.log(\"Handling '\" + msg_type + \"' message: \", msg);\n",
       "                callback(fig, msg);\n",
       "            } catch (e) {\n",
       "                console.log(\"Exception inside the 'handler_\" + msg_type + \"' callback:\", e, e.stack, msg);\n",
       "            }\n",
       "        }\n",
       "    };\n",
       "}\n",
       "\n",
       "// from http://stackoverflow.com/questions/1114465/getting-mouse-location-in-canvas\n",
       "mpl.findpos = function(e) {\n",
       "    //this section is from http://www.quirksmode.org/js/events_properties.html\n",
       "    var targ;\n",
       "    if (!e)\n",
       "        e = window.event;\n",
       "    if (e.target)\n",
       "        targ = e.target;\n",
       "    else if (e.srcElement)\n",
       "        targ = e.srcElement;\n",
       "    if (targ.nodeType == 3) // defeat Safari bug\n",
       "        targ = targ.parentNode;\n",
       "\n",
       "    // jQuery normalizes the pageX and pageY\n",
       "    // pageX,Y are the mouse positions relative to the document\n",
       "    // offset() returns the position of the element relative to the document\n",
       "    var x = e.pageX - $(targ).offset().left;\n",
       "    var y = e.pageY - $(targ).offset().top;\n",
       "\n",
       "    return {\"x\": x, \"y\": y};\n",
       "};\n",
       "\n",
       "/*\n",
       " * return a copy of an object with only non-object keys\n",
       " * we need this to avoid circular references\n",
       " * http://stackoverflow.com/a/24161582/3208463\n",
       " */\n",
       "function simpleKeys (original) {\n",
       "  return Object.keys(original).reduce(function (obj, key) {\n",
       "    if (typeof original[key] !== 'object')\n",
       "        obj[key] = original[key]\n",
       "    return obj;\n",
       "  }, {});\n",
       "}\n",
       "\n",
       "mpl.figure.prototype.mouse_event = function(event, name) {\n",
       "    var canvas_pos = mpl.findpos(event)\n",
       "\n",
       "    if (name === 'button_press')\n",
       "    {\n",
       "        this.canvas.focus();\n",
       "        this.canvas_div.focus();\n",
       "    }\n",
       "\n",
       "    var x = canvas_pos.x * mpl.ratio;\n",
       "    var y = canvas_pos.y * mpl.ratio;\n",
       "\n",
       "    this.send_message(name, {x: x, y: y, button: event.button,\n",
       "                             step: event.step,\n",
       "                             guiEvent: simpleKeys(event)});\n",
       "\n",
       "    /* This prevents the web browser from automatically changing to\n",
       "     * the text insertion cursor when the button is pressed.  We want\n",
       "     * to control all of the cursor setting manually through the\n",
       "     * 'cursor' event from matplotlib */\n",
       "    event.preventDefault();\n",
       "    return false;\n",
       "}\n",
       "\n",
       "mpl.figure.prototype._key_event_extra = function(event, name) {\n",
       "    // Handle any extra behaviour associated with a key event\n",
       "}\n",
       "\n",
       "mpl.figure.prototype.key_event = function(event, name) {\n",
       "\n",
       "    // Prevent repeat events\n",
       "    if (name == 'key_press')\n",
       "    {\n",
       "        if (event.which === this._key)\n",
       "            return;\n",
       "        else\n",
       "            this._key = event.which;\n",
       "    }\n",
       "    if (name == 'key_release')\n",
       "        this._key = null;\n",
       "\n",
       "    var value = '';\n",
       "    if (event.ctrlKey && event.which != 17)\n",
       "        value += \"ctrl+\";\n",
       "    if (event.altKey && event.which != 18)\n",
       "        value += \"alt+\";\n",
       "    if (event.shiftKey && event.which != 16)\n",
       "        value += \"shift+\";\n",
       "\n",
       "    value += 'k';\n",
       "    value += event.which.toString();\n",
       "\n",
       "    this._key_event_extra(event, name);\n",
       "\n",
       "    this.send_message(name, {key: value,\n",
       "                             guiEvent: simpleKeys(event)});\n",
       "    return false;\n",
       "}\n",
       "\n",
       "mpl.figure.prototype.toolbar_button_onclick = function(name) {\n",
       "    if (name == 'download') {\n",
       "        this.handle_save(this, null);\n",
       "    } else {\n",
       "        this.send_message(\"toolbar_button\", {name: name});\n",
       "    }\n",
       "};\n",
       "\n",
       "mpl.figure.prototype.toolbar_button_onmouseover = function(tooltip) {\n",
       "    this.message.textContent = tooltip;\n",
       "};\n",
       "mpl.toolbar_items = [[\"Home\", \"Reset original view\", \"fa fa-home icon-home\", \"home\"], [\"Back\", \"Back to previous view\", \"fa fa-arrow-left icon-arrow-left\", \"back\"], [\"Forward\", \"Forward to next view\", \"fa fa-arrow-right icon-arrow-right\", \"forward\"], [\"\", \"\", \"\", \"\"], [\"Pan\", \"Pan axes with left mouse, zoom with right\", \"fa fa-arrows icon-move\", \"pan\"], [\"Zoom\", \"Zoom to rectangle\", \"fa fa-square-o icon-check-empty\", \"zoom\"], [\"\", \"\", \"\", \"\"], [\"Download\", \"Download plot\", \"fa fa-floppy-o icon-save\", \"download\"]];\n",
       "\n",
       "mpl.extensions = [\"eps\", \"jpeg\", \"pdf\", \"png\", \"ps\", \"raw\", \"svg\", \"tif\"];\n",
       "\n",
       "mpl.default_extension = \"png\";var comm_websocket_adapter = function(comm) {\n",
       "    // Create a \"websocket\"-like object which calls the given IPython comm\n",
       "    // object with the appropriate methods. Currently this is a non binary\n",
       "    // socket, so there is still some room for performance tuning.\n",
       "    var ws = {};\n",
       "\n",
       "    ws.close = function() {\n",
       "        comm.close()\n",
       "    };\n",
       "    ws.send = function(m) {\n",
       "        //console.log('sending', m);\n",
       "        comm.send(m);\n",
       "    };\n",
       "    // Register the callback with on_msg.\n",
       "    comm.on_msg(function(msg) {\n",
       "        //console.log('receiving', msg['content']['data'], msg);\n",
       "        // Pass the mpl event to the overridden (by mpl) onmessage function.\n",
       "        ws.onmessage(msg['content']['data'])\n",
       "    });\n",
       "    return ws;\n",
       "}\n",
       "\n",
       "mpl.mpl_figure_comm = function(comm, msg) {\n",
       "    // This is the function which gets called when the mpl process\n",
       "    // starts-up an IPython Comm through the \"matplotlib\" channel.\n",
       "\n",
       "    var id = msg.content.data.id;\n",
       "    // Get hold of the div created by the display call when the Comm\n",
       "    // socket was opened in Python.\n",
       "    var element = $(\"#\" + id);\n",
       "    var ws_proxy = comm_websocket_adapter(comm)\n",
       "\n",
       "    function ondownload(figure, format) {\n",
       "        window.open(figure.imageObj.src);\n",
       "    }\n",
       "\n",
       "    var fig = new mpl.figure(id, ws_proxy,\n",
       "                           ondownload,\n",
       "                           element.get(0));\n",
       "\n",
       "    // Call onopen now - mpl needs it, as it is assuming we've passed it a real\n",
       "    // web socket which is closed, not our websocket->open comm proxy.\n",
       "    ws_proxy.onopen();\n",
       "\n",
       "    fig.parent_element = element.get(0);\n",
       "    fig.cell_info = mpl.find_output_cell(\"<div id='\" + id + \"'></div>\");\n",
       "    if (!fig.cell_info) {\n",
       "        console.error(\"Failed to find cell for figure\", id, fig);\n",
       "        return;\n",
       "    }\n",
       "\n",
       "    var output_index = fig.cell_info[2]\n",
       "    var cell = fig.cell_info[0];\n",
       "\n",
       "};\n",
       "\n",
       "mpl.figure.prototype.handle_close = function(fig, msg) {\n",
       "    var width = fig.canvas.width/mpl.ratio\n",
       "    fig.root.unbind('remove')\n",
       "\n",
       "    // Update the output cell to use the data from the current canvas.\n",
       "    fig.push_to_output();\n",
       "    var dataURL = fig.canvas.toDataURL();\n",
       "    // Re-enable the keyboard manager in IPython - without this line, in FF,\n",
       "    // the notebook keyboard shortcuts fail.\n",
       "    IPython.keyboard_manager.enable()\n",
       "    $(fig.parent_element).html('<img src=\"' + dataURL + '\" width=\"' + width + '\">');\n",
       "    fig.close_ws(fig, msg);\n",
       "}\n",
       "\n",
       "mpl.figure.prototype.close_ws = function(fig, msg){\n",
       "    fig.send_message('closing', msg);\n",
       "    // fig.ws.close()\n",
       "}\n",
       "\n",
       "mpl.figure.prototype.push_to_output = function(remove_interactive) {\n",
       "    // Turn the data on the canvas into data in the output cell.\n",
       "    var width = this.canvas.width/mpl.ratio\n",
       "    var dataURL = this.canvas.toDataURL();\n",
       "    this.cell_info[1]['text/html'] = '<img src=\"' + dataURL + '\" width=\"' + width + '\">';\n",
       "}\n",
       "\n",
       "mpl.figure.prototype.updated_canvas_event = function() {\n",
       "    // Tell IPython that the notebook contents must change.\n",
       "    IPython.notebook.set_dirty(true);\n",
       "    this.send_message(\"ack\", {});\n",
       "    var fig = this;\n",
       "    // Wait a second, then push the new image to the DOM so\n",
       "    // that it is saved nicely (might be nice to debounce this).\n",
       "    setTimeout(function () { fig.push_to_output() }, 1000);\n",
       "}\n",
       "\n",
       "mpl.figure.prototype._init_toolbar = function() {\n",
       "    var fig = this;\n",
       "\n",
       "    var nav_element = $('<div/>');\n",
       "    nav_element.attr('style', 'width: 100%');\n",
       "    this.root.append(nav_element);\n",
       "\n",
       "    // Define a callback function for later on.\n",
       "    function toolbar_event(event) {\n",
       "        return fig.toolbar_button_onclick(event['data']);\n",
       "    }\n",
       "    function toolbar_mouse_event(event) {\n",
       "        return fig.toolbar_button_onmouseover(event['data']);\n",
       "    }\n",
       "\n",
       "    for(var toolbar_ind in mpl.toolbar_items){\n",
       "        var name = mpl.toolbar_items[toolbar_ind][0];\n",
       "        var tooltip = mpl.toolbar_items[toolbar_ind][1];\n",
       "        var image = mpl.toolbar_items[toolbar_ind][2];\n",
       "        var method_name = mpl.toolbar_items[toolbar_ind][3];\n",
       "\n",
       "        if (!name) { continue; };\n",
       "\n",
       "        var button = $('<button class=\"btn btn-default\" href=\"#\" title=\"' + name + '\"><i class=\"fa ' + image + ' fa-lg\"></i></button>');\n",
       "        button.click(method_name, toolbar_event);\n",
       "        button.mouseover(tooltip, toolbar_mouse_event);\n",
       "        nav_element.append(button);\n",
       "    }\n",
       "\n",
       "    // Add the status bar.\n",
       "    var status_bar = $('<span class=\"mpl-message\" style=\"text-align:right; float: right;\"/>');\n",
       "    nav_element.append(status_bar);\n",
       "    this.message = status_bar[0];\n",
       "\n",
       "    // Add the close button to the window.\n",
       "    var buttongrp = $('<div class=\"btn-group inline pull-right\"></div>');\n",
       "    var button = $('<button class=\"btn btn-mini btn-primary\" href=\"#\" title=\"Stop Interaction\"><i class=\"fa fa-power-off icon-remove icon-large\"></i></button>');\n",
       "    button.click(function (evt) { fig.handle_close(fig, {}); } );\n",
       "    button.mouseover('Stop Interaction', toolbar_mouse_event);\n",
       "    buttongrp.append(button);\n",
       "    var titlebar = this.root.find($('.ui-dialog-titlebar'));\n",
       "    titlebar.prepend(buttongrp);\n",
       "}\n",
       "\n",
       "mpl.figure.prototype._root_extra_style = function(el){\n",
       "    var fig = this\n",
       "    el.on(\"remove\", function(){\n",
       "\tfig.close_ws(fig, {});\n",
       "    });\n",
       "}\n",
       "\n",
       "mpl.figure.prototype._canvas_extra_style = function(el){\n",
       "    // this is important to make the div 'focusable\n",
       "    el.attr('tabindex', 0)\n",
       "    // reach out to IPython and tell the keyboard manager to turn it's self\n",
       "    // off when our div gets focus\n",
       "\n",
       "    // location in version 3\n",
       "    if (IPython.notebook.keyboard_manager) {\n",
       "        IPython.notebook.keyboard_manager.register_events(el);\n",
       "    }\n",
       "    else {\n",
       "        // location in version 2\n",
       "        IPython.keyboard_manager.register_events(el);\n",
       "    }\n",
       "\n",
       "}\n",
       "\n",
       "mpl.figure.prototype._key_event_extra = function(event, name) {\n",
       "    var manager = IPython.notebook.keyboard_manager;\n",
       "    if (!manager)\n",
       "        manager = IPython.keyboard_manager;\n",
       "\n",
       "    // Check for shift+enter\n",
       "    if (event.shiftKey && event.which == 13) {\n",
       "        this.canvas_div.blur();\n",
       "        // select the cell after this one\n",
       "        var index = IPython.notebook.find_cell_index(this.cell_info[0]);\n",
       "        IPython.notebook.select(index + 1);\n",
       "    }\n",
       "}\n",
       "\n",
       "mpl.figure.prototype.handle_save = function(fig, msg) {\n",
       "    fig.ondownload(fig, null);\n",
       "}\n",
       "\n",
       "\n",
       "mpl.find_output_cell = function(html_output) {\n",
       "    // Return the cell and output element which can be found *uniquely* in the notebook.\n",
       "    // Note - this is a bit hacky, but it is done because the \"notebook_saving.Notebook\"\n",
       "    // IPython event is triggered only after the cells have been serialised, which for\n",
       "    // our purposes (turning an active figure into a static one), is too late.\n",
       "    var cells = IPython.notebook.get_cells();\n",
       "    var ncells = cells.length;\n",
       "    for (var i=0; i<ncells; i++) {\n",
       "        var cell = cells[i];\n",
       "        if (cell.cell_type === 'code'){\n",
       "            for (var j=0; j<cell.output_area.outputs.length; j++) {\n",
       "                var data = cell.output_area.outputs[j];\n",
       "                if (data.data) {\n",
       "                    // IPython >= 3 moved mimebundle to data attribute of output\n",
       "                    data = data.data;\n",
       "                }\n",
       "                if (data['text/html'] == html_output) {\n",
       "                    return [cell, data, j];\n",
       "                }\n",
       "            }\n",
       "        }\n",
       "    }\n",
       "}\n",
       "\n",
       "// Register the function which deals with the matplotlib target/channel.\n",
       "// The kernel may be null if the page has been refreshed.\n",
       "if (IPython.notebook.kernel != null) {\n",
       "    IPython.notebook.kernel.comm_manager.register_target('matplotlib', mpl.mpl_figure_comm);\n",
       "}\n"
      ],
      "text/plain": [
       "<IPython.core.display.Javascript object>"
      ]
     },
     "metadata": {},
     "output_type": "display_data"
    },
    {
     "data": {
      "text/html": [
       "<img src=\"data:image/png;base64,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\" width=\"999.75\">"
      ],
      "text/plain": [
       "<IPython.core.display.HTML object>"
      ]
     },
     "metadata": {},
     "output_type": "display_data"
    }
   ],
   "source": [
    "ax, tax, lax, lines = dual_train_plots()\n",
    "fig = ax.figure\n",
    "plt.tight_layout()"
   ]
  },
  {
   "cell_type": "code",
   "execution_count": 17,
   "metadata": {
    "scrolled": false
   },
   "outputs": [
    {
     "name": "stdout",
     "output_type": "stream",
     "text": [
      "Number of batches: train = 1125, val = 125\n"
     ]
    },
    {
     "data": {
      "application/vnd.jupyter.widget-view+json": {
       "model_id": "daa543a055414047ae1af94eff6c5b33",
       "version_major": 2,
       "version_minor": 0
      },
      "text/plain": [
       "HBox(children=(FloatProgress(value=0.0, description='Epochs', layout=Layout(flex='2'), max=800.0, style=Progre…"
      ]
     },
     "metadata": {},
     "output_type": "display_data"
    },
    {
     "name": "stdout",
     "output_type": "stream",
     "text": [
      "Number of batches: train = 1125, val = 125\n"
     ]
    },
    {
     "data": {
      "application/vnd.jupyter.widget-view+json": {
       "model_id": "",
       "version_major": 2,
       "version_minor": 0
      },
      "text/plain": [
       "HBox(children=(FloatProgress(value=0.0, description='Training', layout=Layout(flex='2'), max=1125.0, style=Pro…"
      ]
     },
     "metadata": {},
     "output_type": "display_data"
    },
    {
     "name": "stdout",
     "output_type": "stream",
     "text": [
      "Epoch 0: train=1.01754, val=0.982774, took 37.205 s\n"
     ]
    },
    {
     "data": {
      "application/vnd.jupyter.widget-view+json": {
       "model_id": "",
       "version_major": 2,
       "version_minor": 0
      },
      "text/plain": [
       "HBox(children=(FloatProgress(value=0.0, description='Training', layout=Layout(flex='2'), max=1125.0, style=Pro…"
      ]
     },
     "metadata": {},
     "output_type": "display_data"
    },
    {
     "name": "stdout",
     "output_type": "stream",
     "text": [
      "Epoch 1: train=1.01418, val=1.07495, took 36.642 s\n"
     ]
    },
    {
     "data": {
      "application/vnd.jupyter.widget-view+json": {
       "model_id": "",
       "version_major": 2,
       "version_minor": 0
      },
      "text/plain": [
       "HBox(children=(FloatProgress(value=0.0, description='Training', layout=Layout(flex='2'), max=1125.0, style=Pro…"
      ]
     },
     "metadata": {},
     "output_type": "display_data"
    },
    {
     "name": "stdout",
     "output_type": "stream",
     "text": [
      "Epoch 2: train=1.01361, val=0.983806, took 36.794 s\n"
     ]
    },
    {
     "data": {
      "application/vnd.jupyter.widget-view+json": {
       "model_id": "",
       "version_major": 2,
       "version_minor": 0
      },
      "text/plain": [
       "HBox(children=(FloatProgress(value=0.0, description='Training', layout=Layout(flex='2'), max=1125.0, style=Pro…"
      ]
     },
     "metadata": {},
     "output_type": "display_data"
    },
    {
     "name": "stdout",
     "output_type": "stream",
     "text": [
      "Epoch 3: train=1.00726, val=0.983153, took 37.057 s\n"
     ]
    },
    {
     "data": {
      "application/vnd.jupyter.widget-view+json": {
       "model_id": "",
       "version_major": 2,
       "version_minor": 0
      },
      "text/plain": [
       "HBox(children=(FloatProgress(value=0.0, description='Training', layout=Layout(flex='2'), max=1125.0, style=Pro…"
      ]
     },
     "metadata": {},
     "output_type": "display_data"
    },
    {
     "name": "stdout",
     "output_type": "stream",
     "text": [
      "Epoch 4: train=1.02056, val=0.980541, took 36.841 s\n"
     ]
    },
    {
     "data": {
      "application/vnd.jupyter.widget-view+json": {
       "model_id": "",
       "version_major": 2,
       "version_minor": 0
      },
      "text/plain": [
       "HBox(children=(FloatProgress(value=0.0, description='Training', layout=Layout(flex='2'), max=1125.0, style=Pro…"
      ]
     },
     "metadata": {},
     "output_type": "display_data"
    },
    {
     "name": "stdout",
     "output_type": "stream",
     "text": [
      "Epoch 5: train=1.01083, val=1.00689, took 36.9 s\n"
     ]
    },
    {
     "data": {
      "application/vnd.jupyter.widget-view+json": {
       "model_id": "",
       "version_major": 2,
       "version_minor": 0
      },
      "text/plain": [
       "HBox(children=(FloatProgress(value=0.0, description='Training', layout=Layout(flex='2'), max=1125.0, style=Pro…"
      ]
     },
     "metadata": {},
     "output_type": "display_data"
    },
    {
     "name": "stdout",
     "output_type": "stream",
     "text": [
      "Epoch 6: train=1.01205, val=0.980585, took 36.885 s\n"
     ]
    },
    {
     "data": {
      "application/vnd.jupyter.widget-view+json": {
       "model_id": "",
       "version_major": 2,
       "version_minor": 0
      },
      "text/plain": [
       "HBox(children=(FloatProgress(value=0.0, description='Training', layout=Layout(flex='2'), max=1125.0, style=Pro…"
      ]
     },
     "metadata": {},
     "output_type": "display_data"
    },
    {
     "name": "stdout",
     "output_type": "stream",
     "text": [
      "Epoch 7: train=1.0137, val=1.0061, took 36.936 s\n"
     ]
    },
    {
     "data": {
      "application/vnd.jupyter.widget-view+json": {
       "model_id": "",
       "version_major": 2,
       "version_minor": 0
      },
      "text/plain": [
       "HBox(children=(FloatProgress(value=0.0, description='Training', layout=Layout(flex='2'), max=1125.0, style=Pro…"
      ]
     },
     "metadata": {},
     "output_type": "display_data"
    },
    {
     "name": "stdout",
     "output_type": "stream",
     "text": [
      "Epoch 8: train=1.01905, val=1.10054, took 37.05 s\n"
     ]
    },
    {
     "data": {
      "application/vnd.jupyter.widget-view+json": {
       "model_id": "",
       "version_major": 2,
       "version_minor": 0
      },
      "text/plain": [
       "HBox(children=(FloatProgress(value=0.0, description='Training', layout=Layout(flex='2'), max=1125.0, style=Pro…"
      ]
     },
     "metadata": {},
     "output_type": "display_data"
    },
    {
     "name": "stdout",
     "output_type": "stream",
     "text": [
      "Epoch 9: train=1.01438, val=0.988306, took 37.04 s\n"
     ]
    },
    {
     "data": {
      "application/vnd.jupyter.widget-view+json": {
       "model_id": "",
       "version_major": 2,
       "version_minor": 0
      },
      "text/plain": [
       "HBox(children=(FloatProgress(value=0.0, description='Training', layout=Layout(flex='2'), max=1125.0, style=Pro…"
      ]
     },
     "metadata": {},
     "output_type": "display_data"
    },
    {
     "name": "stdout",
     "output_type": "stream",
     "text": [
      "Epoch 10: train=1.00991, val=0.983481, took 37.008 s\n"
     ]
    },
    {
     "data": {
      "application/vnd.jupyter.widget-view+json": {
       "model_id": "",
       "version_major": 2,
       "version_minor": 0
      },
      "text/plain": [
       "HBox(children=(FloatProgress(value=0.0, description='Training', layout=Layout(flex='2'), max=1125.0, style=Pro…"
      ]
     },
     "metadata": {},
     "output_type": "display_data"
    },
    {
     "name": "stdout",
     "output_type": "stream",
     "text": [
      "Epoch 11: train=1.01372, val=1.01963, took 37.059 s\n"
     ]
    },
    {
     "data": {
      "application/vnd.jupyter.widget-view+json": {
       "model_id": "",
       "version_major": 2,
       "version_minor": 0
      },
      "text/plain": [
       "HBox(children=(FloatProgress(value=0.0, description='Training', layout=Layout(flex='2'), max=1125.0, style=Pro…"
      ]
     },
     "metadata": {},
     "output_type": "display_data"
    },
    {
     "name": "stdout",
     "output_type": "stream",
     "text": [
      "Epoch 12: train=1.01585, val=0.98707, took 37.083 s\n"
     ]
    },
    {
     "data": {
      "application/vnd.jupyter.widget-view+json": {
       "model_id": "",
       "version_major": 2,
       "version_minor": 0
      },
      "text/plain": [
       "HBox(children=(FloatProgress(value=0.0, description='Training', layout=Layout(flex='2'), max=1125.0, style=Pro…"
      ]
     },
     "metadata": {},
     "output_type": "display_data"
    },
    {
     "name": "stdout",
     "output_type": "stream",
     "text": [
      "Epoch 13: train=1.00802, val=1.04447, took 36.997 s\n"
     ]
    },
    {
     "data": {
      "application/vnd.jupyter.widget-view+json": {
       "model_id": "",
       "version_major": 2,
       "version_minor": 0
      },
      "text/plain": [
       "HBox(children=(FloatProgress(value=0.0, description='Training', layout=Layout(flex='2'), max=1125.0, style=Pro…"
      ]
     },
     "metadata": {},
     "output_type": "display_data"
    },
    {
     "name": "stdout",
     "output_type": "stream",
     "text": [
      "Epoch 14: train=1.01839, val=0.989664, took 37.334 s\n"
     ]
    },
    {
     "data": {
      "application/vnd.jupyter.widget-view+json": {
       "model_id": "",
       "version_major": 2,
       "version_minor": 0
      },
      "text/plain": [
       "HBox(children=(FloatProgress(value=0.0, description='Training', layout=Layout(flex='2'), max=1125.0, style=Pro…"
      ]
     },
     "metadata": {},
     "output_type": "display_data"
    },
    {
     "name": "stdout",
     "output_type": "stream",
     "text": [
      "Epoch 15: train=1.00889, val=0.986204, took 37.106 s\n"
     ]
    },
    {
     "data": {
      "application/vnd.jupyter.widget-view+json": {
       "model_id": "",
       "version_major": 2,
       "version_minor": 0
      },
      "text/plain": [
       "HBox(children=(FloatProgress(value=0.0, description='Training', layout=Layout(flex='2'), max=1125.0, style=Pro…"
      ]
     },
     "metadata": {},
     "output_type": "display_data"
    },
    {
     "name": "stdout",
     "output_type": "stream",
     "text": [
      "Epoch 16: train=1.0158, val=0.988817, took 37.078 s\n"
     ]
    },
    {
     "data": {
      "application/vnd.jupyter.widget-view+json": {
       "model_id": "",
       "version_major": 2,
       "version_minor": 0
      },
      "text/plain": [
       "HBox(children=(FloatProgress(value=0.0, description='Training', layout=Layout(flex='2'), max=1125.0, style=Pro…"
      ]
     },
     "metadata": {},
     "output_type": "display_data"
    },
    {
     "name": "stdout",
     "output_type": "stream",
     "text": [
      "Epoch 17: train=1.01009, val=0.988713, took 37.001 s\n"
     ]
    },
    {
     "data": {
      "application/vnd.jupyter.widget-view+json": {
       "model_id": "",
       "version_major": 2,
       "version_minor": 0
      },
      "text/plain": [
       "HBox(children=(FloatProgress(value=0.0, description='Training', layout=Layout(flex='2'), max=1125.0, style=Pro…"
      ]
     },
     "metadata": {},
     "output_type": "display_data"
    },
    {
     "name": "stdout",
     "output_type": "stream",
     "text": [
      "Epoch 18: train=1.01063, val=1.09496, took 37.053 s\n"
     ]
    },
    {
     "data": {
      "application/vnd.jupyter.widget-view+json": {
       "model_id": "",
       "version_major": 2,
       "version_minor": 0
      },
      "text/plain": [
       "HBox(children=(FloatProgress(value=0.0, description='Training', layout=Layout(flex='2'), max=1125.0, style=Pro…"
      ]
     },
     "metadata": {},
     "output_type": "display_data"
    },
    {
     "name": "stdout",
     "output_type": "stream",
     "text": [
      "Epoch 19: train=1.00768, val=0.988861, took 36.942 s\n"
     ]
    },
    {
     "data": {
      "application/vnd.jupyter.widget-view+json": {
       "model_id": "",
       "version_major": 2,
       "version_minor": 0
      },
      "text/plain": [
       "HBox(children=(FloatProgress(value=0.0, description='Training', layout=Layout(flex='2'), max=1125.0, style=Pro…"
      ]
     },
     "metadata": {},
     "output_type": "display_data"
    },
    {
     "name": "stdout",
     "output_type": "stream",
     "text": [
      "Epoch 20: train=1.01227, val=1.02145, took 36.922 s\n"
     ]
    },
    {
     "data": {
      "application/vnd.jupyter.widget-view+json": {
       "model_id": "",
       "version_major": 2,
       "version_minor": 0
      },
      "text/plain": [
       "HBox(children=(FloatProgress(value=0.0, description='Training', layout=Layout(flex='2'), max=1125.0, style=Pro…"
      ]
     },
     "metadata": {},
     "output_type": "display_data"
    },
    {
     "name": "stdout",
     "output_type": "stream",
     "text": [
      "Epoch 21: train=1.00667, val=1.01701, took 36.925 s\n"
     ]
    },
    {
     "data": {
      "application/vnd.jupyter.widget-view+json": {
       "model_id": "",
       "version_major": 2,
       "version_minor": 0
      },
      "text/plain": [
       "HBox(children=(FloatProgress(value=0.0, description='Training', layout=Layout(flex='2'), max=1125.0, style=Pro…"
      ]
     },
     "metadata": {},
     "output_type": "display_data"
    },
    {
     "name": "stdout",
     "output_type": "stream",
     "text": [
      "Epoch 22: train=1.01093, val=0.9998, took 36.978 s\n"
     ]
    },
    {
     "data": {
      "application/vnd.jupyter.widget-view+json": {
       "model_id": "",
       "version_major": 2,
       "version_minor": 0
      },
      "text/plain": [
       "HBox(children=(FloatProgress(value=0.0, description='Training', layout=Layout(flex='2'), max=1125.0, style=Pro…"
      ]
     },
     "metadata": {},
     "output_type": "display_data"
    },
    {
     "name": "stdout",
     "output_type": "stream",
     "text": [
      "Epoch 23: train=1.0095, val=1.06945, took 36.85 s\n"
     ]
    },
    {
     "data": {
      "application/vnd.jupyter.widget-view+json": {
       "model_id": "",
       "version_major": 2,
       "version_minor": 0
      },
      "text/plain": [
       "HBox(children=(FloatProgress(value=0.0, description='Training', layout=Layout(flex='2'), max=1125.0, style=Pro…"
      ]
     },
     "metadata": {},
     "output_type": "display_data"
    },
    {
     "name": "stdout",
     "output_type": "stream",
     "text": [
      "Epoch 24: train=1.01004, val=0.997746, took 36.897 s\n"
     ]
    },
    {
     "data": {
      "application/vnd.jupyter.widget-view+json": {
       "model_id": "",
       "version_major": 2,
       "version_minor": 0
      },
      "text/plain": [
       "HBox(children=(FloatProgress(value=0.0, description='Training', layout=Layout(flex='2'), max=1125.0, style=Pro…"
      ]
     },
     "metadata": {},
     "output_type": "display_data"
    },
    {
     "name": "stdout",
     "output_type": "stream",
     "text": [
      "Epoch 25: train=1.01184, val=0.997731, took 37.22 s\n"
     ]
    },
    {
     "data": {
      "application/vnd.jupyter.widget-view+json": {
       "model_id": "",
       "version_major": 2,
       "version_minor": 0
      },
      "text/plain": [
       "HBox(children=(FloatProgress(value=0.0, description='Training', layout=Layout(flex='2'), max=1125.0, style=Pro…"
      ]
     },
     "metadata": {},
     "output_type": "display_data"
    },
    {
     "name": "stdout",
     "output_type": "stream",
     "text": [
      "Epoch 26: train=1.01281, val=1.00529, took 36.994 s\n"
     ]
    },
    {
     "data": {
      "application/vnd.jupyter.widget-view+json": {
       "model_id": "",
       "version_major": 2,
       "version_minor": 0
      },
      "text/plain": [
       "HBox(children=(FloatProgress(value=0.0, description='Training', layout=Layout(flex='2'), max=1125.0, style=Pro…"
      ]
     },
     "metadata": {},
     "output_type": "display_data"
    },
    {
     "name": "stdout",
     "output_type": "stream",
     "text": [
      "Epoch 27: train=1.00713, val=0.980476, took 36.949 s\n"
     ]
    },
    {
     "data": {
      "application/vnd.jupyter.widget-view+json": {
       "model_id": "",
       "version_major": 2,
       "version_minor": 0
      },
      "text/plain": [
       "HBox(children=(FloatProgress(value=0.0, description='Training', layout=Layout(flex='2'), max=1125.0, style=Pro…"
      ]
     },
     "metadata": {},
     "output_type": "display_data"
    },
    {
     "name": "stdout",
     "output_type": "stream",
     "text": [
      "Epoch 28: train=1.0102, val=0.98217, took 37.289 s\n"
     ]
    },
    {
     "data": {
      "application/vnd.jupyter.widget-view+json": {
       "model_id": "",
       "version_major": 2,
       "version_minor": 0
      },
      "text/plain": [
       "HBox(children=(FloatProgress(value=0.0, description='Training', layout=Layout(flex='2'), max=1125.0, style=Pro…"
      ]
     },
     "metadata": {},
     "output_type": "display_data"
    },
    {
     "name": "stdout",
     "output_type": "stream",
     "text": [
      "Epoch 29: train=1.01219, val=0.981747, took 37.039 s\n"
     ]
    },
    {
     "data": {
      "application/vnd.jupyter.widget-view+json": {
       "model_id": "",
       "version_major": 2,
       "version_minor": 0
      },
      "text/plain": [
       "HBox(children=(FloatProgress(value=0.0, description='Training', layout=Layout(flex='2'), max=1125.0, style=Pro…"
      ]
     },
     "metadata": {},
     "output_type": "display_data"
    },
    {
     "name": "stdout",
     "output_type": "stream",
     "text": [
      "Epoch 30: train=1.00947, val=0.99001, took 37.063 s\n"
     ]
    },
    {
     "data": {
      "application/vnd.jupyter.widget-view+json": {
       "model_id": "",
       "version_major": 2,
       "version_minor": 0
      },
      "text/plain": [
       "HBox(children=(FloatProgress(value=0.0, description='Training', layout=Layout(flex='2'), max=1125.0, style=Pro…"
      ]
     },
     "metadata": {},
     "output_type": "display_data"
    },
    {
     "name": "stdout",
     "output_type": "stream",
     "text": [
      "Epoch 31: train=1.01081, val=1.01416, took 37.03 s\n"
     ]
    },
    {
     "data": {
      "application/vnd.jupyter.widget-view+json": {
       "model_id": "",
       "version_major": 2,
       "version_minor": 0
      },
      "text/plain": [
       "HBox(children=(FloatProgress(value=0.0, description='Training', layout=Layout(flex='2'), max=1125.0, style=Pro…"
      ]
     },
     "metadata": {},
     "output_type": "display_data"
    },
    {
     "name": "stdout",
     "output_type": "stream",
     "text": [
      "Epoch 32: train=1.01099, val=0.980987, took 36.851 s\n"
     ]
    },
    {
     "data": {
      "application/vnd.jupyter.widget-view+json": {
       "model_id": "",
       "version_major": 2,
       "version_minor": 0
      },
      "text/plain": [
       "HBox(children=(FloatProgress(value=0.0, description='Training', layout=Layout(flex='2'), max=1125.0, style=Pro…"
      ]
     },
     "metadata": {},
     "output_type": "display_data"
    },
    {
     "name": "stdout",
     "output_type": "stream",
     "text": [
      "Epoch 33: train=1.01354, val=1.01024, took 36.907 s\n"
     ]
    },
    {
     "data": {
      "application/vnd.jupyter.widget-view+json": {
       "model_id": "",
       "version_major": 2,
       "version_minor": 0
      },
      "text/plain": [
       "HBox(children=(FloatProgress(value=0.0, description='Training', layout=Layout(flex='2'), max=1125.0, style=Pro…"
      ]
     },
     "metadata": {},
     "output_type": "display_data"
    },
    {
     "name": "stdout",
     "output_type": "stream",
     "text": [
      "Epoch 34: train=1.00574, val=0.993225, took 37.026 s\n"
     ]
    },
    {
     "data": {
      "application/vnd.jupyter.widget-view+json": {
       "model_id": "",
       "version_major": 2,
       "version_minor": 0
      },
      "text/plain": [
       "HBox(children=(FloatProgress(value=0.0, description='Training', layout=Layout(flex='2'), max=1125.0, style=Pro…"
      ]
     },
     "metadata": {},
     "output_type": "display_data"
    },
    {
     "name": "stdout",
     "output_type": "stream",
     "text": [
      "Epoch 35: train=1.01421, val=0.994883, took 36.815 s\n"
     ]
    },
    {
     "data": {
      "application/vnd.jupyter.widget-view+json": {
       "model_id": "",
       "version_major": 2,
       "version_minor": 0
      },
      "text/plain": [
       "HBox(children=(FloatProgress(value=0.0, description='Training', layout=Layout(flex='2'), max=1125.0, style=Pro…"
      ]
     },
     "metadata": {},
     "output_type": "display_data"
    },
    {
     "name": "stdout",
     "output_type": "stream",
     "text": [
      "Epoch 36: train=1.00821, val=0.981497, took 37.031 s\n"
     ]
    },
    {
     "data": {
      "application/vnd.jupyter.widget-view+json": {
       "model_id": "",
       "version_major": 2,
       "version_minor": 0
      },
      "text/plain": [
       "HBox(children=(FloatProgress(value=0.0, description='Training', layout=Layout(flex='2'), max=1125.0, style=Pro…"
      ]
     },
     "metadata": {},
     "output_type": "display_data"
    },
    {
     "name": "stdout",
     "output_type": "stream",
     "text": [
      "Epoch 37: train=1.00801, val=1.00387, took 36.93 s\n"
     ]
    },
    {
     "data": {
      "application/vnd.jupyter.widget-view+json": {
       "model_id": "",
       "version_major": 2,
       "version_minor": 0
      },
      "text/plain": [
       "HBox(children=(FloatProgress(value=0.0, description='Training', layout=Layout(flex='2'), max=1125.0, style=Pro…"
      ]
     },
     "metadata": {},
     "output_type": "display_data"
    },
    {
     "name": "stdout",
     "output_type": "stream",
     "text": [
      "Epoch 38: train=1.00286, val=1.0385, took 37.315 s\n"
     ]
    },
    {
     "data": {
      "application/vnd.jupyter.widget-view+json": {
       "model_id": "",
       "version_major": 2,
       "version_minor": 0
      },
      "text/plain": [
       "HBox(children=(FloatProgress(value=0.0, description='Training', layout=Layout(flex='2'), max=1125.0, style=Pro…"
      ]
     },
     "metadata": {},
     "output_type": "display_data"
    },
    {
     "name": "stdout",
     "output_type": "stream",
     "text": [
      "Epoch 39: train=1.01031, val=0.985982, took 36.939 s\n"
     ]
    },
    {
     "data": {
      "application/vnd.jupyter.widget-view+json": {
       "model_id": "",
       "version_major": 2,
       "version_minor": 0
      },
      "text/plain": [
       "HBox(children=(FloatProgress(value=0.0, description='Training', layout=Layout(flex='2'), max=1125.0, style=Pro…"
      ]
     },
     "metadata": {},
     "output_type": "display_data"
    },
    {
     "name": "stdout",
     "output_type": "stream",
     "text": [
      "Epoch 40: train=1.00726, val=0.979445, took 37.196 s\n"
     ]
    },
    {
     "data": {
      "application/vnd.jupyter.widget-view+json": {
       "model_id": "",
       "version_major": 2,
       "version_minor": 0
      },
      "text/plain": [
       "HBox(children=(FloatProgress(value=0.0, description='Training', layout=Layout(flex='2'), max=1125.0, style=Pro…"
      ]
     },
     "metadata": {},
     "output_type": "display_data"
    },
    {
     "name": "stdout",
     "output_type": "stream",
     "text": [
      "Epoch 41: train=1.01502, val=0.985004, took 37.086 s\n"
     ]
    },
    {
     "data": {
      "application/vnd.jupyter.widget-view+json": {
       "model_id": "",
       "version_major": 2,
       "version_minor": 0
      },
      "text/plain": [
       "HBox(children=(FloatProgress(value=0.0, description='Training', layout=Layout(flex='2'), max=1125.0, style=Pro…"
      ]
     },
     "metadata": {},
     "output_type": "display_data"
    },
    {
     "name": "stdout",
     "output_type": "stream",
     "text": [
      "Epoch 42: train=1.01, val=0.97991, took 36.834 s\n"
     ]
    },
    {
     "data": {
      "application/vnd.jupyter.widget-view+json": {
       "model_id": "",
       "version_major": 2,
       "version_minor": 0
      },
      "text/plain": [
       "HBox(children=(FloatProgress(value=0.0, description='Training', layout=Layout(flex='2'), max=1125.0, style=Pro…"
      ]
     },
     "metadata": {},
     "output_type": "display_data"
    },
    {
     "name": "stdout",
     "output_type": "stream",
     "text": [
      "Epoch 43: train=1.00469, val=1.03537, took 37.069 s\n"
     ]
    },
    {
     "data": {
      "application/vnd.jupyter.widget-view+json": {
       "model_id": "",
       "version_major": 2,
       "version_minor": 0
      },
      "text/plain": [
       "HBox(children=(FloatProgress(value=0.0, description='Training', layout=Layout(flex='2'), max=1125.0, style=Pro…"
      ]
     },
     "metadata": {},
     "output_type": "display_data"
    },
    {
     "name": "stdout",
     "output_type": "stream",
     "text": [
      "Epoch 44: train=1.01226, val=1.03071, took 36.865 s\n"
     ]
    },
    {
     "data": {
      "application/vnd.jupyter.widget-view+json": {
       "model_id": "",
       "version_major": 2,
       "version_minor": 0
      },
      "text/plain": [
       "HBox(children=(FloatProgress(value=0.0, description='Training', layout=Layout(flex='2'), max=1125.0, style=Pro…"
      ]
     },
     "metadata": {},
     "output_type": "display_data"
    },
    {
     "name": "stdout",
     "output_type": "stream",
     "text": [
      "Epoch 45: train=1.00847, val=0.98296, took 37.007 s\n"
     ]
    },
    {
     "data": {
      "application/vnd.jupyter.widget-view+json": {
       "model_id": "",
       "version_major": 2,
       "version_minor": 0
      },
      "text/plain": [
       "HBox(children=(FloatProgress(value=0.0, description='Training', layout=Layout(flex='2'), max=1125.0, style=Pro…"
      ]
     },
     "metadata": {},
     "output_type": "display_data"
    },
    {
     "name": "stdout",
     "output_type": "stream",
     "text": [
      "Epoch 46: train=1.01476, val=0.990345, took 36.962 s\n"
     ]
    },
    {
     "data": {
      "application/vnd.jupyter.widget-view+json": {
       "model_id": "",
       "version_major": 2,
       "version_minor": 0
      },
      "text/plain": [
       "HBox(children=(FloatProgress(value=0.0, description='Training', layout=Layout(flex='2'), max=1125.0, style=Pro…"
      ]
     },
     "metadata": {},
     "output_type": "display_data"
    },
    {
     "name": "stdout",
     "output_type": "stream",
     "text": [
      "Epoch 47: train=1.00723, val=0.983196, took 36.921 s\n"
     ]
    },
    {
     "data": {
      "application/vnd.jupyter.widget-view+json": {
       "model_id": "",
       "version_major": 2,
       "version_minor": 0
      },
      "text/plain": [
       "HBox(children=(FloatProgress(value=0.0, description='Training', layout=Layout(flex='2'), max=1125.0, style=Pro…"
      ]
     },
     "metadata": {},
     "output_type": "display_data"
    },
    {
     "name": "stdout",
     "output_type": "stream",
     "text": [
      "Epoch 48: train=1.01235, val=0.985854, took 36.896 s\n"
     ]
    },
    {
     "data": {
      "application/vnd.jupyter.widget-view+json": {
       "model_id": "",
       "version_major": 2,
       "version_minor": 0
      },
      "text/plain": [
       "HBox(children=(FloatProgress(value=0.0, description='Training', layout=Layout(flex='2'), max=1125.0, style=Pro…"
      ]
     },
     "metadata": {},
     "output_type": "display_data"
    },
    {
     "name": "stdout",
     "output_type": "stream",
     "text": [
      "Epoch 49: train=1.01007, val=0.979285, took 36.964 s\n"
     ]
    },
    {
     "data": {
      "application/vnd.jupyter.widget-view+json": {
       "model_id": "",
       "version_major": 2,
       "version_minor": 0
      },
      "text/plain": [
       "HBox(children=(FloatProgress(value=0.0, description='Training', layout=Layout(flex='2'), max=1125.0, style=Pro…"
      ]
     },
     "metadata": {},
     "output_type": "display_data"
    },
    {
     "name": "stdout",
     "output_type": "stream",
     "text": [
      "Epoch 50: train=1.00611, val=0.979529, took 36.92 s\n"
     ]
    },
    {
     "data": {
      "application/vnd.jupyter.widget-view+json": {
       "model_id": "",
       "version_major": 2,
       "version_minor": 0
      },
      "text/plain": [
       "HBox(children=(FloatProgress(value=0.0, description='Training', layout=Layout(flex='2'), max=1125.0, style=Pro…"
      ]
     },
     "metadata": {},
     "output_type": "display_data"
    },
    {
     "name": "stdout",
     "output_type": "stream",
     "text": [
      "Epoch 51: train=1.0119, val=0.993035, took 37.03 s\n"
     ]
    },
    {
     "data": {
      "application/vnd.jupyter.widget-view+json": {
       "model_id": "",
       "version_major": 2,
       "version_minor": 0
      },
      "text/plain": [
       "HBox(children=(FloatProgress(value=0.0, description='Training', layout=Layout(flex='2'), max=1125.0, style=Pro…"
      ]
     },
     "metadata": {},
     "output_type": "display_data"
    },
    {
     "name": "stdout",
     "output_type": "stream",
     "text": [
      "Epoch 52: train=1.00461, val=0.990008, took 36.871 s\n"
     ]
    },
    {
     "data": {
      "application/vnd.jupyter.widget-view+json": {
       "model_id": "",
       "version_major": 2,
       "version_minor": 0
      },
      "text/plain": [
       "HBox(children=(FloatProgress(value=0.0, description='Training', layout=Layout(flex='2'), max=1125.0, style=Pro…"
      ]
     },
     "metadata": {},
     "output_type": "display_data"
    },
    {
     "name": "stdout",
     "output_type": "stream",
     "text": [
      "Epoch 53: train=1.00723, val=0.986896, took 36.939 s\n"
     ]
    },
    {
     "data": {
      "application/vnd.jupyter.widget-view+json": {
       "model_id": "",
       "version_major": 2,
       "version_minor": 0
      },
      "text/plain": [
       "HBox(children=(FloatProgress(value=0.0, description='Training', layout=Layout(flex='2'), max=1125.0, style=Pro…"
      ]
     },
     "metadata": {},
     "output_type": "display_data"
    },
    {
     "name": "stdout",
     "output_type": "stream",
     "text": [
      "Epoch 54: train=1.01018, val=1.13809, took 36.963 s\n"
     ]
    },
    {
     "data": {
      "application/vnd.jupyter.widget-view+json": {
       "model_id": "",
       "version_major": 2,
       "version_minor": 0
      },
      "text/plain": [
       "HBox(children=(FloatProgress(value=0.0, description='Training', layout=Layout(flex='2'), max=1125.0, style=Pro…"
      ]
     },
     "metadata": {},
     "output_type": "display_data"
    },
    {
     "name": "stdout",
     "output_type": "stream",
     "text": [
      "Epoch 55: train=1.00961, val=0.981432, took 36.968 s\n"
     ]
    },
    {
     "data": {
      "application/vnd.jupyter.widget-view+json": {
       "model_id": "",
       "version_major": 2,
       "version_minor": 0
      },
      "text/plain": [
       "HBox(children=(FloatProgress(value=0.0, description='Training', layout=Layout(flex='2'), max=1125.0, style=Pro…"
      ]
     },
     "metadata": {},
     "output_type": "display_data"
    },
    {
     "name": "stdout",
     "output_type": "stream",
     "text": [
      "Epoch 56: train=1.00682, val=0.996616, took 36.895 s\n"
     ]
    },
    {
     "data": {
      "application/vnd.jupyter.widget-view+json": {
       "model_id": "",
       "version_major": 2,
       "version_minor": 0
      },
      "text/plain": [
       "HBox(children=(FloatProgress(value=0.0, description='Training', layout=Layout(flex='2'), max=1125.0, style=Pro…"
      ]
     },
     "metadata": {},
     "output_type": "display_data"
    },
    {
     "name": "stdout",
     "output_type": "stream",
     "text": [
      "Epoch 57: train=1.00515, val=0.979224, took 36.973 s\n"
     ]
    },
    {
     "data": {
      "application/vnd.jupyter.widget-view+json": {
       "model_id": "",
       "version_major": 2,
       "version_minor": 0
      },
      "text/plain": [
       "HBox(children=(FloatProgress(value=0.0, description='Training', layout=Layout(flex='2'), max=1125.0, style=Pro…"
      ]
     },
     "metadata": {},
     "output_type": "display_data"
    },
    {
     "name": "stdout",
     "output_type": "stream",
     "text": [
      "Epoch 58: train=1.00971, val=0.979663, took 36.889 s\n"
     ]
    },
    {
     "data": {
      "application/vnd.jupyter.widget-view+json": {
       "model_id": "",
       "version_major": 2,
       "version_minor": 0
      },
      "text/plain": [
       "HBox(children=(FloatProgress(value=0.0, description='Training', layout=Layout(flex='2'), max=1125.0, style=Pro…"
      ]
     },
     "metadata": {},
     "output_type": "display_data"
    },
    {
     "name": "stdout",
     "output_type": "stream",
     "text": [
      "Epoch 59: train=1.0102, val=1.00182, took 36.886 s\n"
     ]
    },
    {
     "data": {
      "application/vnd.jupyter.widget-view+json": {
       "model_id": "",
       "version_major": 2,
       "version_minor": 0
      },
      "text/plain": [
       "HBox(children=(FloatProgress(value=0.0, description='Training', layout=Layout(flex='2'), max=1125.0, style=Pro…"
      ]
     },
     "metadata": {},
     "output_type": "display_data"
    },
    {
     "name": "stdout",
     "output_type": "stream",
     "text": [
      "Epoch 60: train=1.00876, val=0.993862, took 36.959 s\n"
     ]
    },
    {
     "data": {
      "application/vnd.jupyter.widget-view+json": {
       "model_id": "",
       "version_major": 2,
       "version_minor": 0
      },
      "text/plain": [
       "HBox(children=(FloatProgress(value=0.0, description='Training', layout=Layout(flex='2'), max=1125.0, style=Pro…"
      ]
     },
     "metadata": {},
     "output_type": "display_data"
    },
    {
     "name": "stdout",
     "output_type": "stream",
     "text": [
      "Epoch 61: train=1.00762, val=1.01486, took 36.863 s\n"
     ]
    },
    {
     "data": {
      "application/vnd.jupyter.widget-view+json": {
       "model_id": "",
       "version_major": 2,
       "version_minor": 0
      },
      "text/plain": [
       "HBox(children=(FloatProgress(value=0.0, description='Training', layout=Layout(flex='2'), max=1125.0, style=Pro…"
      ]
     },
     "metadata": {},
     "output_type": "display_data"
    },
    {
     "name": "stdout",
     "output_type": "stream",
     "text": [
      "Epoch 62: train=1.00871, val=0.98001, took 36.973 s\n"
     ]
    },
    {
     "data": {
      "application/vnd.jupyter.widget-view+json": {
       "model_id": "",
       "version_major": 2,
       "version_minor": 0
      },
      "text/plain": [
       "HBox(children=(FloatProgress(value=0.0, description='Training', layout=Layout(flex='2'), max=1125.0, style=Pro…"
      ]
     },
     "metadata": {},
     "output_type": "display_data"
    },
    {
     "name": "stdout",
     "output_type": "stream",
     "text": [
      "Epoch 63: train=1.00707, val=1.01945, took 36.863 s\n"
     ]
    },
    {
     "data": {
      "application/vnd.jupyter.widget-view+json": {
       "model_id": "",
       "version_major": 2,
       "version_minor": 0
      },
      "text/plain": [
       "HBox(children=(FloatProgress(value=0.0, description='Training', layout=Layout(flex='2'), max=1125.0, style=Pro…"
      ]
     },
     "metadata": {},
     "output_type": "display_data"
    },
    {
     "name": "stdout",
     "output_type": "stream",
     "text": [
      "Epoch 64: train=1.00907, val=0.98457, took 36.808 s\n"
     ]
    },
    {
     "data": {
      "application/vnd.jupyter.widget-view+json": {
       "model_id": "",
       "version_major": 2,
       "version_minor": 0
      },
      "text/plain": [
       "HBox(children=(FloatProgress(value=0.0, description='Training', layout=Layout(flex='2'), max=1125.0, style=Pro…"
      ]
     },
     "metadata": {},
     "output_type": "display_data"
    },
    {
     "name": "stdout",
     "output_type": "stream",
     "text": [
      "Epoch 65: train=1.00302, val=0.988448, took 36.815 s\n"
     ]
    },
    {
     "data": {
      "application/vnd.jupyter.widget-view+json": {
       "model_id": "",
       "version_major": 2,
       "version_minor": 0
      },
      "text/plain": [
       "HBox(children=(FloatProgress(value=0.0, description='Training', layout=Layout(flex='2'), max=1125.0, style=Pro…"
      ]
     },
     "metadata": {},
     "output_type": "display_data"
    },
    {
     "name": "stdout",
     "output_type": "stream",
     "text": [
      "Epoch 66: train=1.01248, val=0.986629, took 37.069 s\n"
     ]
    },
    {
     "data": {
      "application/vnd.jupyter.widget-view+json": {
       "model_id": "",
       "version_major": 2,
       "version_minor": 0
      },
      "text/plain": [
       "HBox(children=(FloatProgress(value=0.0, description='Training', layout=Layout(flex='2'), max=1125.0, style=Pro…"
      ]
     },
     "metadata": {},
     "output_type": "display_data"
    },
    {
     "name": "stdout",
     "output_type": "stream",
     "text": [
      "Epoch 67: train=1.00479, val=0.979133, took 36.949 s\n"
     ]
    },
    {
     "data": {
      "application/vnd.jupyter.widget-view+json": {
       "model_id": "",
       "version_major": 2,
       "version_minor": 0
      },
      "text/plain": [
       "HBox(children=(FloatProgress(value=0.0, description='Training', layout=Layout(flex='2'), max=1125.0, style=Pro…"
      ]
     },
     "metadata": {},
     "output_type": "display_data"
    },
    {
     "name": "stdout",
     "output_type": "stream",
     "text": [
      "Epoch 68: train=1.00313, val=0.978855, took 37.138 s\n"
     ]
    },
    {
     "data": {
      "application/vnd.jupyter.widget-view+json": {
       "model_id": "",
       "version_major": 2,
       "version_minor": 0
      },
      "text/plain": [
       "HBox(children=(FloatProgress(value=0.0, description='Training', layout=Layout(flex='2'), max=1125.0, style=Pro…"
      ]
     },
     "metadata": {},
     "output_type": "display_data"
    },
    {
     "name": "stdout",
     "output_type": "stream",
     "text": [
      "Epoch 69: train=1.01309, val=0.990112, took 37.03 s\n"
     ]
    },
    {
     "data": {
      "application/vnd.jupyter.widget-view+json": {
       "model_id": "",
       "version_major": 2,
       "version_minor": 0
      },
      "text/plain": [
       "HBox(children=(FloatProgress(value=0.0, description='Training', layout=Layout(flex='2'), max=1125.0, style=Pro…"
      ]
     },
     "metadata": {},
     "output_type": "display_data"
    },
    {
     "name": "stdout",
     "output_type": "stream",
     "text": [
      "Epoch 70: train=1.00594, val=0.978827, took 37.178 s\n"
     ]
    },
    {
     "data": {
      "application/vnd.jupyter.widget-view+json": {
       "model_id": "",
       "version_major": 2,
       "version_minor": 0
      },
      "text/plain": [
       "HBox(children=(FloatProgress(value=0.0, description='Training', layout=Layout(flex='2'), max=1125.0, style=Pro…"
      ]
     },
     "metadata": {},
     "output_type": "display_data"
    },
    {
     "name": "stdout",
     "output_type": "stream",
     "text": [
      "Epoch 71: train=1.00409, val=0.993335, took 37.445 s\n"
     ]
    },
    {
     "data": {
      "application/vnd.jupyter.widget-view+json": {
       "model_id": "",
       "version_major": 2,
       "version_minor": 0
      },
      "text/plain": [
       "HBox(children=(FloatProgress(value=0.0, description='Training', layout=Layout(flex='2'), max=1125.0, style=Pro…"
      ]
     },
     "metadata": {},
     "output_type": "display_data"
    },
    {
     "name": "stdout",
     "output_type": "stream",
     "text": [
      "Epoch 72: train=1.00658, val=0.981031, took 37.021 s\n"
     ]
    },
    {
     "data": {
      "application/vnd.jupyter.widget-view+json": {
       "model_id": "",
       "version_major": 2,
       "version_minor": 0
      },
      "text/plain": [
       "HBox(children=(FloatProgress(value=0.0, description='Training', layout=Layout(flex='2'), max=1125.0, style=Pro…"
      ]
     },
     "metadata": {},
     "output_type": "display_data"
    },
    {
     "name": "stdout",
     "output_type": "stream",
     "text": [
      "Epoch 73: train=1.00554, val=0.985549, took 37.197 s\n"
     ]
    },
    {
     "data": {
      "application/vnd.jupyter.widget-view+json": {
       "model_id": "",
       "version_major": 2,
       "version_minor": 0
      },
      "text/plain": [
       "HBox(children=(FloatProgress(value=0.0, description='Training', layout=Layout(flex='2'), max=1125.0, style=Pro…"
      ]
     },
     "metadata": {},
     "output_type": "display_data"
    },
    {
     "name": "stdout",
     "output_type": "stream",
     "text": [
      "Epoch 74: train=1.00539, val=0.997395, took 36.99 s\n"
     ]
    },
    {
     "data": {
      "application/vnd.jupyter.widget-view+json": {
       "model_id": "",
       "version_major": 2,
       "version_minor": 0
      },
      "text/plain": [
       "HBox(children=(FloatProgress(value=0.0, description='Training', layout=Layout(flex='2'), max=1125.0, style=Pro…"
      ]
     },
     "metadata": {},
     "output_type": "display_data"
    },
    {
     "name": "stdout",
     "output_type": "stream",
     "text": [
      "Epoch 75: train=1.00579, val=0.992265, took 37.101 s\n"
     ]
    },
    {
     "data": {
      "application/vnd.jupyter.widget-view+json": {
       "model_id": "",
       "version_major": 2,
       "version_minor": 0
      },
      "text/plain": [
       "HBox(children=(FloatProgress(value=0.0, description='Training', layout=Layout(flex='2'), max=1125.0, style=Pro…"
      ]
     },
     "metadata": {},
     "output_type": "display_data"
    },
    {
     "name": "stdout",
     "output_type": "stream",
     "text": [
      "Epoch 76: train=1.00927, val=0.983033, took 36.854 s\n"
     ]
    },
    {
     "data": {
      "application/vnd.jupyter.widget-view+json": {
       "model_id": "",
       "version_major": 2,
       "version_minor": 0
      },
      "text/plain": [
       "HBox(children=(FloatProgress(value=0.0, description='Training', layout=Layout(flex='2'), max=1125.0, style=Pro…"
      ]
     },
     "metadata": {},
     "output_type": "display_data"
    },
    {
     "name": "stdout",
     "output_type": "stream",
     "text": [
      "Epoch 77: train=1.00329, val=0.982449, took 36.888 s\n"
     ]
    },
    {
     "data": {
      "application/vnd.jupyter.widget-view+json": {
       "model_id": "",
       "version_major": 2,
       "version_minor": 0
      },
      "text/plain": [
       "HBox(children=(FloatProgress(value=0.0, description='Training', layout=Layout(flex='2'), max=1125.0, style=Pro…"
      ]
     },
     "metadata": {},
     "output_type": "display_data"
    },
    {
     "name": "stdout",
     "output_type": "stream",
     "text": [
      "Epoch 78: train=1.00271, val=0.979638, took 37.111 s\n"
     ]
    },
    {
     "data": {
      "application/vnd.jupyter.widget-view+json": {
       "model_id": "",
       "version_major": 2,
       "version_minor": 0
      },
      "text/plain": [
       "HBox(children=(FloatProgress(value=0.0, description='Training', layout=Layout(flex='2'), max=1125.0, style=Pro…"
      ]
     },
     "metadata": {},
     "output_type": "display_data"
    },
    {
     "name": "stdout",
     "output_type": "stream",
     "text": [
      "Epoch 79: train=1.00876, val=0.975994, took 37.208 s\n"
     ]
    },
    {
     "data": {
      "application/vnd.jupyter.widget-view+json": {
       "model_id": "",
       "version_major": 2,
       "version_minor": 0
      },
      "text/plain": [
       "HBox(children=(FloatProgress(value=0.0, description='Training', layout=Layout(flex='2'), max=1125.0, style=Pro…"
      ]
     },
     "metadata": {},
     "output_type": "display_data"
    },
    {
     "name": "stdout",
     "output_type": "stream",
     "text": [
      "Epoch 80: train=1.00904, val=0.983115, took 37.115 s\n"
     ]
    },
    {
     "data": {
      "application/vnd.jupyter.widget-view+json": {
       "model_id": "",
       "version_major": 2,
       "version_minor": 0
      },
      "text/plain": [
       "HBox(children=(FloatProgress(value=0.0, description='Training', layout=Layout(flex='2'), max=1125.0, style=Pro…"
      ]
     },
     "metadata": {},
     "output_type": "display_data"
    },
    {
     "name": "stdout",
     "output_type": "stream",
     "text": [
      "Epoch 81: train=1.00648, val=0.983183, took 37.315 s\n"
     ]
    },
    {
     "data": {
      "application/vnd.jupyter.widget-view+json": {
       "model_id": "",
       "version_major": 2,
       "version_minor": 0
      },
      "text/plain": [
       "HBox(children=(FloatProgress(value=0.0, description='Training', layout=Layout(flex='2'), max=1125.0, style=Pro…"
      ]
     },
     "metadata": {},
     "output_type": "display_data"
    },
    {
     "name": "stdout",
     "output_type": "stream",
     "text": [
      "Epoch 82: train=1.00733, val=0.995038, took 37.27 s\n"
     ]
    },
    {
     "data": {
      "application/vnd.jupyter.widget-view+json": {
       "model_id": "",
       "version_major": 2,
       "version_minor": 0
      },
      "text/plain": [
       "HBox(children=(FloatProgress(value=0.0, description='Training', layout=Layout(flex='2'), max=1125.0, style=Pro…"
      ]
     },
     "metadata": {},
     "output_type": "display_data"
    },
    {
     "name": "stdout",
     "output_type": "stream",
     "text": [
      "Epoch 83: train=1.00898, val=1.02569, took 37.474 s\n"
     ]
    },
    {
     "data": {
      "application/vnd.jupyter.widget-view+json": {
       "model_id": "",
       "version_major": 2,
       "version_minor": 0
      },
      "text/plain": [
       "HBox(children=(FloatProgress(value=0.0, description='Training', layout=Layout(flex='2'), max=1125.0, style=Pro…"
      ]
     },
     "metadata": {},
     "output_type": "display_data"
    },
    {
     "name": "stdout",
     "output_type": "stream",
     "text": [
      "Epoch 84: train=1.00738, val=0.997477, took 37.099 s\n"
     ]
    },
    {
     "data": {
      "application/vnd.jupyter.widget-view+json": {
       "model_id": "",
       "version_major": 2,
       "version_minor": 0
      },
      "text/plain": [
       "HBox(children=(FloatProgress(value=0.0, description='Training', layout=Layout(flex='2'), max=1125.0, style=Pro…"
      ]
     },
     "metadata": {},
     "output_type": "display_data"
    },
    {
     "name": "stdout",
     "output_type": "stream",
     "text": [
      "Epoch 85: train=1.00726, val=1.01696, took 37.041 s\n"
     ]
    },
    {
     "data": {
      "application/vnd.jupyter.widget-view+json": {
       "model_id": "",
       "version_major": 2,
       "version_minor": 0
      },
      "text/plain": [
       "HBox(children=(FloatProgress(value=0.0, description='Training', layout=Layout(flex='2'), max=1125.0, style=Pro…"
      ]
     },
     "metadata": {},
     "output_type": "display_data"
    },
    {
     "name": "stdout",
     "output_type": "stream",
     "text": [
      "Epoch 86: train=1.00601, val=1.00015, took 37.331 s\n"
     ]
    },
    {
     "data": {
      "application/vnd.jupyter.widget-view+json": {
       "model_id": "",
       "version_major": 2,
       "version_minor": 0
      },
      "text/plain": [
       "HBox(children=(FloatProgress(value=0.0, description='Training', layout=Layout(flex='2'), max=1125.0, style=Pro…"
      ]
     },
     "metadata": {},
     "output_type": "display_data"
    },
    {
     "name": "stdout",
     "output_type": "stream",
     "text": [
      "Epoch 87: train=1.00547, val=1.02518, took 37.389 s\n"
     ]
    },
    {
     "data": {
      "application/vnd.jupyter.widget-view+json": {
       "model_id": "",
       "version_major": 2,
       "version_minor": 0
      },
      "text/plain": [
       "HBox(children=(FloatProgress(value=0.0, description='Training', layout=Layout(flex='2'), max=1125.0, style=Pro…"
      ]
     },
     "metadata": {},
     "output_type": "display_data"
    },
    {
     "name": "stdout",
     "output_type": "stream",
     "text": [
      "Epoch 88: train=1.00639, val=1.00815, took 37.273 s\n"
     ]
    },
    {
     "data": {
      "application/vnd.jupyter.widget-view+json": {
       "model_id": "",
       "version_major": 2,
       "version_minor": 0
      },
      "text/plain": [
       "HBox(children=(FloatProgress(value=0.0, description='Training', layout=Layout(flex='2'), max=1125.0, style=Pro…"
      ]
     },
     "metadata": {},
     "output_type": "display_data"
    },
    {
     "name": "stdout",
     "output_type": "stream",
     "text": [
      "Epoch 89: train=1.00594, val=0.984366, took 37.3 s\n"
     ]
    },
    {
     "data": {
      "application/vnd.jupyter.widget-view+json": {
       "model_id": "",
       "version_major": 2,
       "version_minor": 0
      },
      "text/plain": [
       "HBox(children=(FloatProgress(value=0.0, description='Training', layout=Layout(flex='2'), max=1125.0, style=Pro…"
      ]
     },
     "metadata": {},
     "output_type": "display_data"
    },
    {
     "name": "stdout",
     "output_type": "stream",
     "text": [
      "Epoch 90: train=1.00193, val=0.976959, took 37.297 s\n"
     ]
    },
    {
     "data": {
      "application/vnd.jupyter.widget-view+json": {
       "model_id": "",
       "version_major": 2,
       "version_minor": 0
      },
      "text/plain": [
       "HBox(children=(FloatProgress(value=0.0, description='Training', layout=Layout(flex='2'), max=1125.0, style=Pro…"
      ]
     },
     "metadata": {},
     "output_type": "display_data"
    },
    {
     "name": "stdout",
     "output_type": "stream",
     "text": [
      "Epoch 91: train=1.00944, val=0.97939, took 37.293 s\n"
     ]
    },
    {
     "data": {
      "application/vnd.jupyter.widget-view+json": {
       "model_id": "",
       "version_major": 2,
       "version_minor": 0
      },
      "text/plain": [
       "HBox(children=(FloatProgress(value=0.0, description='Training', layout=Layout(flex='2'), max=1125.0, style=Pro…"
      ]
     },
     "metadata": {},
     "output_type": "display_data"
    },
    {
     "name": "stdout",
     "output_type": "stream",
     "text": [
      "Epoch 92: train=1.00604, val=0.979664, took 37.12 s\n"
     ]
    },
    {
     "data": {
      "application/vnd.jupyter.widget-view+json": {
       "model_id": "",
       "version_major": 2,
       "version_minor": 0
      },
      "text/plain": [
       "HBox(children=(FloatProgress(value=0.0, description='Training', layout=Layout(flex='2'), max=1125.0, style=Pro…"
      ]
     },
     "metadata": {},
     "output_type": "display_data"
    },
    {
     "name": "stdout",
     "output_type": "stream",
     "text": [
      "Epoch 93: train=1.00392, val=1.01997, took 37.201 s\n"
     ]
    },
    {
     "data": {
      "application/vnd.jupyter.widget-view+json": {
       "model_id": "",
       "version_major": 2,
       "version_minor": 0
      },
      "text/plain": [
       "HBox(children=(FloatProgress(value=0.0, description='Training', layout=Layout(flex='2'), max=1125.0, style=Pro…"
      ]
     },
     "metadata": {},
     "output_type": "display_data"
    },
    {
     "name": "stdout",
     "output_type": "stream",
     "text": [
      "Epoch 94: train=1.00404, val=1.02138, took 37.336 s\n"
     ]
    },
    {
     "data": {
      "application/vnd.jupyter.widget-view+json": {
       "model_id": "",
       "version_major": 2,
       "version_minor": 0
      },
      "text/plain": [
       "HBox(children=(FloatProgress(value=0.0, description='Training', layout=Layout(flex='2'), max=1125.0, style=Pro…"
      ]
     },
     "metadata": {},
     "output_type": "display_data"
    },
    {
     "name": "stdout",
     "output_type": "stream",
     "text": [
      "Epoch 95: train=1.00584, val=1.00275, took 37.238 s\n"
     ]
    },
    {
     "data": {
      "application/vnd.jupyter.widget-view+json": {
       "model_id": "",
       "version_major": 2,
       "version_minor": 0
      },
      "text/plain": [
       "HBox(children=(FloatProgress(value=0.0, description='Training', layout=Layout(flex='2'), max=1125.0, style=Pro…"
      ]
     },
     "metadata": {},
     "output_type": "display_data"
    },
    {
     "name": "stdout",
     "output_type": "stream",
     "text": [
      "Epoch 96: train=1.0058, val=0.991999, took 37.163 s\n"
     ]
    },
    {
     "data": {
      "application/vnd.jupyter.widget-view+json": {
       "model_id": "",
       "version_major": 2,
       "version_minor": 0
      },
      "text/plain": [
       "HBox(children=(FloatProgress(value=0.0, description='Training', layout=Layout(flex='2'), max=1125.0, style=Pro…"
      ]
     },
     "metadata": {},
     "output_type": "display_data"
    },
    {
     "name": "stdout",
     "output_type": "stream",
     "text": [
      "Epoch 97: train=1.00736, val=1.00514, took 37.598 s\n"
     ]
    },
    {
     "data": {
      "application/vnd.jupyter.widget-view+json": {
       "model_id": "",
       "version_major": 2,
       "version_minor": 0
      },
      "text/plain": [
       "HBox(children=(FloatProgress(value=0.0, description='Training', layout=Layout(flex='2'), max=1125.0, style=Pro…"
      ]
     },
     "metadata": {},
     "output_type": "display_data"
    },
    {
     "name": "stdout",
     "output_type": "stream",
     "text": [
      "Epoch 98: train=1.00374, val=0.981918, took 37.414 s\n"
     ]
    },
    {
     "data": {
      "application/vnd.jupyter.widget-view+json": {
       "model_id": "",
       "version_major": 2,
       "version_minor": 0
      },
      "text/plain": [
       "HBox(children=(FloatProgress(value=0.0, description='Training', layout=Layout(flex='2'), max=1125.0, style=Pro…"
      ]
     },
     "metadata": {},
     "output_type": "display_data"
    },
    {
     "name": "stdout",
     "output_type": "stream",
     "text": [
      "Epoch 99: train=1.00571, val=0.980155, took 37.387 s\n"
     ]
    },
    {
     "data": {
      "application/vnd.jupyter.widget-view+json": {
       "model_id": "",
       "version_major": 2,
       "version_minor": 0
      },
      "text/plain": [
       "HBox(children=(FloatProgress(value=0.0, description='Training', layout=Layout(flex='2'), max=1125.0, style=Pro…"
      ]
     },
     "metadata": {},
     "output_type": "display_data"
    },
    {
     "name": "stdout",
     "output_type": "stream",
     "text": [
      "Epoch 100: train=1.0024, val=0.987002, took 37.397 s\n"
     ]
    },
    {
     "data": {
      "application/vnd.jupyter.widget-view+json": {
       "model_id": "",
       "version_major": 2,
       "version_minor": 0
      },
      "text/plain": [
       "HBox(children=(FloatProgress(value=0.0, description='Training', layout=Layout(flex='2'), max=1125.0, style=Pro…"
      ]
     },
     "metadata": {},
     "output_type": "display_data"
    },
    {
     "name": "stdout",
     "output_type": "stream",
     "text": [
      "Epoch 101: train=0.999912, val=0.99113, took 37.544 s\n"
     ]
    },
    {
     "data": {
      "application/vnd.jupyter.widget-view+json": {
       "model_id": "",
       "version_major": 2,
       "version_minor": 0
      },
      "text/plain": [
       "HBox(children=(FloatProgress(value=0.0, description='Training', layout=Layout(flex='2'), max=1125.0, style=Pro…"
      ]
     },
     "metadata": {},
     "output_type": "display_data"
    },
    {
     "name": "stdout",
     "output_type": "stream",
     "text": [
      "Epoch 102: train=1.00803, val=0.978906, took 37.44 s\n"
     ]
    },
    {
     "data": {
      "application/vnd.jupyter.widget-view+json": {
       "model_id": "",
       "version_major": 2,
       "version_minor": 0
      },
      "text/plain": [
       "HBox(children=(FloatProgress(value=0.0, description='Training', layout=Layout(flex='2'), max=1125.0, style=Pro…"
      ]
     },
     "metadata": {},
     "output_type": "display_data"
    },
    {
     "name": "stdout",
     "output_type": "stream",
     "text": [
      "Epoch 103: train=1.00386, val=0.978351, took 37.253 s\n"
     ]
    },
    {
     "data": {
      "application/vnd.jupyter.widget-view+json": {
       "model_id": "",
       "version_major": 2,
       "version_minor": 0
      },
      "text/plain": [
       "HBox(children=(FloatProgress(value=0.0, description='Training', layout=Layout(flex='2'), max=1125.0, style=Pro…"
      ]
     },
     "metadata": {},
     "output_type": "display_data"
    },
    {
     "name": "stdout",
     "output_type": "stream",
     "text": [
      "Epoch 104: train=1.01084, val=0.991262, took 37.386 s\n"
     ]
    },
    {
     "data": {
      "application/vnd.jupyter.widget-view+json": {
       "model_id": "",
       "version_major": 2,
       "version_minor": 0
      },
      "text/plain": [
       "HBox(children=(FloatProgress(value=0.0, description='Training', layout=Layout(flex='2'), max=1125.0, style=Pro…"
      ]
     },
     "metadata": {},
     "output_type": "display_data"
    },
    {
     "name": "stdout",
     "output_type": "stream",
     "text": [
      "Epoch 105: train=1.00308, val=1.02461, took 37.283 s\n"
     ]
    },
    {
     "data": {
      "application/vnd.jupyter.widget-view+json": {
       "model_id": "",
       "version_major": 2,
       "version_minor": 0
      },
      "text/plain": [
       "HBox(children=(FloatProgress(value=0.0, description='Training', layout=Layout(flex='2'), max=1125.0, style=Pro…"
      ]
     },
     "metadata": {},
     "output_type": "display_data"
    },
    {
     "name": "stdout",
     "output_type": "stream",
     "text": [
      "Epoch 106: train=1.00224, val=0.979208, took 37.532 s\n"
     ]
    },
    {
     "data": {
      "application/vnd.jupyter.widget-view+json": {
       "model_id": "",
       "version_major": 2,
       "version_minor": 0
      },
      "text/plain": [
       "HBox(children=(FloatProgress(value=0.0, description='Training', layout=Layout(flex='2'), max=1125.0, style=Pro…"
      ]
     },
     "metadata": {},
     "output_type": "display_data"
    },
    {
     "name": "stdout",
     "output_type": "stream",
     "text": [
      "Epoch 107: train=1.00425, val=0.978828, took 37.407 s\n"
     ]
    },
    {
     "data": {
      "application/vnd.jupyter.widget-view+json": {
       "model_id": "",
       "version_major": 2,
       "version_minor": 0
      },
      "text/plain": [
       "HBox(children=(FloatProgress(value=0.0, description='Training', layout=Layout(flex='2'), max=1125.0, style=Pro…"
      ]
     },
     "metadata": {},
     "output_type": "display_data"
    },
    {
     "name": "stdout",
     "output_type": "stream",
     "text": [
      "Epoch 108: train=1.00072, val=1.03628, took 37.505 s\n"
     ]
    },
    {
     "data": {
      "application/vnd.jupyter.widget-view+json": {
       "model_id": "",
       "version_major": 2,
       "version_minor": 0
      },
      "text/plain": [
       "HBox(children=(FloatProgress(value=0.0, description='Training', layout=Layout(flex='2'), max=1125.0, style=Pro…"
      ]
     },
     "metadata": {},
     "output_type": "display_data"
    },
    {
     "name": "stdout",
     "output_type": "stream",
     "text": [
      "Epoch 109: train=1.00419, val=0.977964, took 37.345 s\n"
     ]
    },
    {
     "data": {
      "application/vnd.jupyter.widget-view+json": {
       "model_id": "",
       "version_major": 2,
       "version_minor": 0
      },
      "text/plain": [
       "HBox(children=(FloatProgress(value=0.0, description='Training', layout=Layout(flex='2'), max=1125.0, style=Pro…"
      ]
     },
     "metadata": {},
     "output_type": "display_data"
    },
    {
     "name": "stdout",
     "output_type": "stream",
     "text": [
      "Epoch 110: train=1.00278, val=0.997045, took 37.382 s\n"
     ]
    },
    {
     "data": {
      "application/vnd.jupyter.widget-view+json": {
       "model_id": "",
       "version_major": 2,
       "version_minor": 0
      },
      "text/plain": [
       "HBox(children=(FloatProgress(value=0.0, description='Training', layout=Layout(flex='2'), max=1125.0, style=Pro…"
      ]
     },
     "metadata": {},
     "output_type": "display_data"
    },
    {
     "name": "stdout",
     "output_type": "stream",
     "text": [
      "Epoch 111: train=0.999953, val=0.97743, took 37.193 s\n"
     ]
    },
    {
     "data": {
      "application/vnd.jupyter.widget-view+json": {
       "model_id": "",
       "version_major": 2,
       "version_minor": 0
      },
      "text/plain": [
       "HBox(children=(FloatProgress(value=0.0, description='Training', layout=Layout(flex='2'), max=1125.0, style=Pro…"
      ]
     },
     "metadata": {},
     "output_type": "display_data"
    },
    {
     "name": "stdout",
     "output_type": "stream",
     "text": [
      "Epoch 112: train=1.00648, val=0.979573, took 37.088 s\n"
     ]
    },
    {
     "data": {
      "application/vnd.jupyter.widget-view+json": {
       "model_id": "",
       "version_major": 2,
       "version_minor": 0
      },
      "text/plain": [
       "HBox(children=(FloatProgress(value=0.0, description='Training', layout=Layout(flex='2'), max=1125.0, style=Pro…"
      ]
     },
     "metadata": {},
     "output_type": "display_data"
    },
    {
     "name": "stdout",
     "output_type": "stream",
     "text": [
      "Epoch 113: train=1.00279, val=0.985651, took 37.259 s\n"
     ]
    },
    {
     "data": {
      "application/vnd.jupyter.widget-view+json": {
       "model_id": "",
       "version_major": 2,
       "version_minor": 0
      },
      "text/plain": [
       "HBox(children=(FloatProgress(value=0.0, description='Training', layout=Layout(flex='2'), max=1125.0, style=Pro…"
      ]
     },
     "metadata": {},
     "output_type": "display_data"
    },
    {
     "name": "stdout",
     "output_type": "stream",
     "text": [
      "Epoch 114: train=1.00482, val=1.00181, took 37.127 s\n"
     ]
    },
    {
     "data": {
      "application/vnd.jupyter.widget-view+json": {
       "model_id": "",
       "version_major": 2,
       "version_minor": 0
      },
      "text/plain": [
       "HBox(children=(FloatProgress(value=0.0, description='Training', layout=Layout(flex='2'), max=1125.0, style=Pro…"
      ]
     },
     "metadata": {},
     "output_type": "display_data"
    },
    {
     "name": "stdout",
     "output_type": "stream",
     "text": [
      "Epoch 115: train=1.00517, val=1.04466, took 37.287 s\n"
     ]
    },
    {
     "data": {
      "application/vnd.jupyter.widget-view+json": {
       "model_id": "",
       "version_major": 2,
       "version_minor": 0
      },
      "text/plain": [
       "HBox(children=(FloatProgress(value=0.0, description='Training', layout=Layout(flex='2'), max=1125.0, style=Pro…"
      ]
     },
     "metadata": {},
     "output_type": "display_data"
    },
    {
     "name": "stdout",
     "output_type": "stream",
     "text": [
      "Epoch 116: train=1.00528, val=0.976783, took 37.387 s\n"
     ]
    },
    {
     "data": {
      "application/vnd.jupyter.widget-view+json": {
       "model_id": "",
       "version_major": 2,
       "version_minor": 0
      },
      "text/plain": [
       "HBox(children=(FloatProgress(value=0.0, description='Training', layout=Layout(flex='2'), max=1125.0, style=Pro…"
      ]
     },
     "metadata": {},
     "output_type": "display_data"
    },
    {
     "name": "stdout",
     "output_type": "stream",
     "text": [
      "Epoch 117: train=0.997891, val=0.977379, took 37.088 s\n"
     ]
    },
    {
     "data": {
      "application/vnd.jupyter.widget-view+json": {
       "model_id": "",
       "version_major": 2,
       "version_minor": 0
      },
      "text/plain": [
       "HBox(children=(FloatProgress(value=0.0, description='Training', layout=Layout(flex='2'), max=1125.0, style=Pro…"
      ]
     },
     "metadata": {},
     "output_type": "display_data"
    },
    {
     "name": "stdout",
     "output_type": "stream",
     "text": [
      "Epoch 118: train=1.00986, val=0.977089, took 37.217 s\n"
     ]
    },
    {
     "data": {
      "application/vnd.jupyter.widget-view+json": {
       "model_id": "",
       "version_major": 2,
       "version_minor": 0
      },
      "text/plain": [
       "HBox(children=(FloatProgress(value=0.0, description='Training', layout=Layout(flex='2'), max=1125.0, style=Pro…"
      ]
     },
     "metadata": {},
     "output_type": "display_data"
    },
    {
     "name": "stdout",
     "output_type": "stream",
     "text": [
      "Epoch 119: train=1.00037, val=0.978613, took 37.319 s\n"
     ]
    },
    {
     "data": {
      "application/vnd.jupyter.widget-view+json": {
       "model_id": "",
       "version_major": 2,
       "version_minor": 0
      },
      "text/plain": [
       "HBox(children=(FloatProgress(value=0.0, description='Training', layout=Layout(flex='2'), max=1125.0, style=Pro…"
      ]
     },
     "metadata": {},
     "output_type": "display_data"
    },
    {
     "name": "stdout",
     "output_type": "stream",
     "text": [
      "Epoch 120: train=1.00483, val=0.979342, took 37.081 s\n"
     ]
    },
    {
     "data": {
      "application/vnd.jupyter.widget-view+json": {
       "model_id": "",
       "version_major": 2,
       "version_minor": 0
      },
      "text/plain": [
       "HBox(children=(FloatProgress(value=0.0, description='Training', layout=Layout(flex='2'), max=1125.0, style=Pro…"
      ]
     },
     "metadata": {},
     "output_type": "display_data"
    },
    {
     "name": "stdout",
     "output_type": "stream",
     "text": [
      "Epoch 121: train=1.00181, val=0.990328, took 37.143 s\n"
     ]
    },
    {
     "data": {
      "application/vnd.jupyter.widget-view+json": {
       "model_id": "",
       "version_major": 2,
       "version_minor": 0
      },
      "text/plain": [
       "HBox(children=(FloatProgress(value=0.0, description='Training', layout=Layout(flex='2'), max=1125.0, style=Pro…"
      ]
     },
     "metadata": {},
     "output_type": "display_data"
    },
    {
     "name": "stdout",
     "output_type": "stream",
     "text": [
      "Epoch 122: train=1.00644, val=0.981105, took 37.12 s\n"
     ]
    },
    {
     "data": {
      "application/vnd.jupyter.widget-view+json": {
       "model_id": "",
       "version_major": 2,
       "version_minor": 0
      },
      "text/plain": [
       "HBox(children=(FloatProgress(value=0.0, description='Training', layout=Layout(flex='2'), max=1125.0, style=Pro…"
      ]
     },
     "metadata": {},
     "output_type": "display_data"
    },
    {
     "name": "stdout",
     "output_type": "stream",
     "text": [
      "Epoch 123: train=1.00268, val=0.978575, took 36.902 s\n"
     ]
    },
    {
     "data": {
      "application/vnd.jupyter.widget-view+json": {
       "model_id": "",
       "version_major": 2,
       "version_minor": 0
      },
      "text/plain": [
       "HBox(children=(FloatProgress(value=0.0, description='Training', layout=Layout(flex='2'), max=1125.0, style=Pro…"
      ]
     },
     "metadata": {},
     "output_type": "display_data"
    },
    {
     "name": "stdout",
     "output_type": "stream",
     "text": [
      "Epoch 124: train=0.997263, val=1.02502, took 37.102 s\n"
     ]
    },
    {
     "data": {
      "application/vnd.jupyter.widget-view+json": {
       "model_id": "",
       "version_major": 2,
       "version_minor": 0
      },
      "text/plain": [
       "HBox(children=(FloatProgress(value=0.0, description='Training', layout=Layout(flex='2'), max=1125.0, style=Pro…"
      ]
     },
     "metadata": {},
     "output_type": "display_data"
    },
    {
     "name": "stdout",
     "output_type": "stream",
     "text": [
      "Epoch 125: train=1.00577, val=0.977159, took 37.421 s\n"
     ]
    },
    {
     "data": {
      "application/vnd.jupyter.widget-view+json": {
       "model_id": "",
       "version_major": 2,
       "version_minor": 0
      },
      "text/plain": [
       "HBox(children=(FloatProgress(value=0.0, description='Training', layout=Layout(flex='2'), max=1125.0, style=Pro…"
      ]
     },
     "metadata": {},
     "output_type": "display_data"
    },
    {
     "name": "stdout",
     "output_type": "stream",
     "text": [
      "Epoch 126: train=1.00289, val=1.11914, took 37.439 s\n"
     ]
    },
    {
     "data": {
      "application/vnd.jupyter.widget-view+json": {
       "model_id": "",
       "version_major": 2,
       "version_minor": 0
      },
      "text/plain": [
       "HBox(children=(FloatProgress(value=0.0, description='Training', layout=Layout(flex='2'), max=1125.0, style=Pro…"
      ]
     },
     "metadata": {},
     "output_type": "display_data"
    },
    {
     "name": "stdout",
     "output_type": "stream",
     "text": [
      "Epoch 127: train=1.00246, val=0.978554, took 37.27 s\n"
     ]
    },
    {
     "data": {
      "application/vnd.jupyter.widget-view+json": {
       "model_id": "",
       "version_major": 2,
       "version_minor": 0
      },
      "text/plain": [
       "HBox(children=(FloatProgress(value=0.0, description='Training', layout=Layout(flex='2'), max=1125.0, style=Pro…"
      ]
     },
     "metadata": {},
     "output_type": "display_data"
    },
    {
     "name": "stdout",
     "output_type": "stream",
     "text": [
      "Epoch 128: train=0.999473, val=0.983048, took 37.145 s\n"
     ]
    },
    {
     "data": {
      "application/vnd.jupyter.widget-view+json": {
       "model_id": "",
       "version_major": 2,
       "version_minor": 0
      },
      "text/plain": [
       "HBox(children=(FloatProgress(value=0.0, description='Training', layout=Layout(flex='2'), max=1125.0, style=Pro…"
      ]
     },
     "metadata": {},
     "output_type": "display_data"
    },
    {
     "name": "stdout",
     "output_type": "stream",
     "text": [
      "Epoch 129: train=1.00433, val=1.02862, took 37.216 s\n"
     ]
    },
    {
     "data": {
      "application/vnd.jupyter.widget-view+json": {
       "model_id": "",
       "version_major": 2,
       "version_minor": 0
      },
      "text/plain": [
       "HBox(children=(FloatProgress(value=0.0, description='Training', layout=Layout(flex='2'), max=1125.0, style=Pro…"
      ]
     },
     "metadata": {},
     "output_type": "display_data"
    },
    {
     "name": "stdout",
     "output_type": "stream",
     "text": [
      "Epoch 130: train=1.00056, val=0.985151, took 37.289 s\n"
     ]
    },
    {
     "data": {
      "application/vnd.jupyter.widget-view+json": {
       "model_id": "",
       "version_major": 2,
       "version_minor": 0
      },
      "text/plain": [
       "HBox(children=(FloatProgress(value=0.0, description='Training', layout=Layout(flex='2'), max=1125.0, style=Pro…"
      ]
     },
     "metadata": {},
     "output_type": "display_data"
    },
    {
     "name": "stdout",
     "output_type": "stream",
     "text": [
      "Epoch 131: train=1.00349, val=0.995384, took 37.193 s\n"
     ]
    },
    {
     "data": {
      "application/vnd.jupyter.widget-view+json": {
       "model_id": "",
       "version_major": 2,
       "version_minor": 0
      },
      "text/plain": [
       "HBox(children=(FloatProgress(value=0.0, description='Training', layout=Layout(flex='2'), max=1125.0, style=Pro…"
      ]
     },
     "metadata": {},
     "output_type": "display_data"
    },
    {
     "name": "stdout",
     "output_type": "stream",
     "text": [
      "Epoch 132: train=1.00535, val=0.978911, took 37.077 s\n"
     ]
    },
    {
     "data": {
      "application/vnd.jupyter.widget-view+json": {
       "model_id": "",
       "version_major": 2,
       "version_minor": 0
      },
      "text/plain": [
       "HBox(children=(FloatProgress(value=0.0, description='Training', layout=Layout(flex='2'), max=1125.0, style=Pro…"
      ]
     },
     "metadata": {},
     "output_type": "display_data"
    },
    {
     "name": "stdout",
     "output_type": "stream",
     "text": [
      "Epoch 133: train=1.0066, val=0.981039, took 37.134 s\n"
     ]
    },
    {
     "data": {
      "application/vnd.jupyter.widget-view+json": {
       "model_id": "",
       "version_major": 2,
       "version_minor": 0
      },
      "text/plain": [
       "HBox(children=(FloatProgress(value=0.0, description='Training', layout=Layout(flex='2'), max=1125.0, style=Pro…"
      ]
     },
     "metadata": {},
     "output_type": "display_data"
    },
    {
     "name": "stdout",
     "output_type": "stream",
     "text": [
      "Epoch 134: train=1.00026, val=0.97752, took 37.189 s\n"
     ]
    },
    {
     "data": {
      "application/vnd.jupyter.widget-view+json": {
       "model_id": "",
       "version_major": 2,
       "version_minor": 0
      },
      "text/plain": [
       "HBox(children=(FloatProgress(value=0.0, description='Training', layout=Layout(flex='2'), max=1125.0, style=Pro…"
      ]
     },
     "metadata": {},
     "output_type": "display_data"
    },
    {
     "name": "stdout",
     "output_type": "stream",
     "text": [
      "Epoch 135: train=1.00629, val=1.05089, took 37.133 s\n"
     ]
    },
    {
     "data": {
      "application/vnd.jupyter.widget-view+json": {
       "model_id": "",
       "version_major": 2,
       "version_minor": 0
      },
      "text/plain": [
       "HBox(children=(FloatProgress(value=0.0, description='Training', layout=Layout(flex='2'), max=1125.0, style=Pro…"
      ]
     },
     "metadata": {},
     "output_type": "display_data"
    },
    {
     "name": "stdout",
     "output_type": "stream",
     "text": [
      "Epoch 136: train=1.00189, val=0.982599, took 37.199 s\n"
     ]
    },
    {
     "data": {
      "application/vnd.jupyter.widget-view+json": {
       "model_id": "",
       "version_major": 2,
       "version_minor": 0
      },
      "text/plain": [
       "HBox(children=(FloatProgress(value=0.0, description='Training', layout=Layout(flex='2'), max=1125.0, style=Pro…"
      ]
     },
     "metadata": {},
     "output_type": "display_data"
    },
    {
     "name": "stdout",
     "output_type": "stream",
     "text": [
      "Epoch 137: train=1.00181, val=0.996816, took 37.187 s\n"
     ]
    },
    {
     "data": {
      "application/vnd.jupyter.widget-view+json": {
       "model_id": "",
       "version_major": 2,
       "version_minor": 0
      },
      "text/plain": [
       "HBox(children=(FloatProgress(value=0.0, description='Training', layout=Layout(flex='2'), max=1125.0, style=Pro…"
      ]
     },
     "metadata": {},
     "output_type": "display_data"
    },
    {
     "name": "stdout",
     "output_type": "stream",
     "text": [
      "Epoch 138: train=1.00704, val=0.995854, took 36.996 s\n"
     ]
    },
    {
     "data": {
      "application/vnd.jupyter.widget-view+json": {
       "model_id": "",
       "version_major": 2,
       "version_minor": 0
      },
      "text/plain": [
       "HBox(children=(FloatProgress(value=0.0, description='Training', layout=Layout(flex='2'), max=1125.0, style=Pro…"
      ]
     },
     "metadata": {},
     "output_type": "display_data"
    },
    {
     "name": "stdout",
     "output_type": "stream",
     "text": [
      "Epoch 139: train=1.00264, val=0.977998, took 37.192 s\n"
     ]
    },
    {
     "data": {
      "application/vnd.jupyter.widget-view+json": {
       "model_id": "",
       "version_major": 2,
       "version_minor": 0
      },
      "text/plain": [
       "HBox(children=(FloatProgress(value=0.0, description='Training', layout=Layout(flex='2'), max=1125.0, style=Pro…"
      ]
     },
     "metadata": {},
     "output_type": "display_data"
    },
    {
     "name": "stdout",
     "output_type": "stream",
     "text": [
      "Epoch 140: train=1.003, val=0.985828, took 37.316 s\n"
     ]
    },
    {
     "data": {
      "application/vnd.jupyter.widget-view+json": {
       "model_id": "",
       "version_major": 2,
       "version_minor": 0
      },
      "text/plain": [
       "HBox(children=(FloatProgress(value=0.0, description='Training', layout=Layout(flex='2'), max=1125.0, style=Pro…"
      ]
     },
     "metadata": {},
     "output_type": "display_data"
    },
    {
     "name": "stdout",
     "output_type": "stream",
     "text": [
      "Epoch 141: train=1.00058, val=0.975911, took 37.191 s\n"
     ]
    },
    {
     "data": {
      "application/vnd.jupyter.widget-view+json": {
       "model_id": "",
       "version_major": 2,
       "version_minor": 0
      },
      "text/plain": [
       "HBox(children=(FloatProgress(value=0.0, description='Training', layout=Layout(flex='2'), max=1125.0, style=Pro…"
      ]
     },
     "metadata": {},
     "output_type": "display_data"
    },
    {
     "name": "stdout",
     "output_type": "stream",
     "text": [
      "Epoch 142: train=1.00113, val=1.02888, took 37.184 s\n"
     ]
    },
    {
     "data": {
      "application/vnd.jupyter.widget-view+json": {
       "model_id": "",
       "version_major": 2,
       "version_minor": 0
      },
      "text/plain": [
       "HBox(children=(FloatProgress(value=0.0, description='Training', layout=Layout(flex='2'), max=1125.0, style=Pro…"
      ]
     },
     "metadata": {},
     "output_type": "display_data"
    },
    {
     "name": "stdout",
     "output_type": "stream",
     "text": [
      "Epoch 143: train=1.00305, val=1.03601, took 37.295 s\n"
     ]
    },
    {
     "data": {
      "application/vnd.jupyter.widget-view+json": {
       "model_id": "",
       "version_major": 2,
       "version_minor": 0
      },
      "text/plain": [
       "HBox(children=(FloatProgress(value=0.0, description='Training', layout=Layout(flex='2'), max=1125.0, style=Pro…"
      ]
     },
     "metadata": {},
     "output_type": "display_data"
    },
    {
     "name": "stdout",
     "output_type": "stream",
     "text": [
      "Epoch 144: train=1.00372, val=0.997922, took 37.151 s\n"
     ]
    },
    {
     "data": {
      "application/vnd.jupyter.widget-view+json": {
       "model_id": "",
       "version_major": 2,
       "version_minor": 0
      },
      "text/plain": [
       "HBox(children=(FloatProgress(value=0.0, description='Training', layout=Layout(flex='2'), max=1125.0, style=Pro…"
      ]
     },
     "metadata": {},
     "output_type": "display_data"
    },
    {
     "name": "stdout",
     "output_type": "stream",
     "text": [
      "Epoch 145: train=1.00181, val=0.97485, took 37.086 s\n"
     ]
    },
    {
     "data": {
      "application/vnd.jupyter.widget-view+json": {
       "model_id": "",
       "version_major": 2,
       "version_minor": 0
      },
      "text/plain": [
       "HBox(children=(FloatProgress(value=0.0, description='Training', layout=Layout(flex='2'), max=1125.0, style=Pro…"
      ]
     },
     "metadata": {},
     "output_type": "display_data"
    },
    {
     "name": "stdout",
     "output_type": "stream",
     "text": [
      "Epoch 146: train=1.0, val=0.992294, took 37.172 s\n"
     ]
    },
    {
     "data": {
      "application/vnd.jupyter.widget-view+json": {
       "model_id": "",
       "version_major": 2,
       "version_minor": 0
      },
      "text/plain": [
       "HBox(children=(FloatProgress(value=0.0, description='Training', layout=Layout(flex='2'), max=1125.0, style=Pro…"
      ]
     },
     "metadata": {},
     "output_type": "display_data"
    },
    {
     "name": "stdout",
     "output_type": "stream",
     "text": [
      "Epoch 147: train=1.00028, val=0.987543, took 37.479 s\n"
     ]
    },
    {
     "data": {
      "application/vnd.jupyter.widget-view+json": {
       "model_id": "",
       "version_major": 2,
       "version_minor": 0
      },
      "text/plain": [
       "HBox(children=(FloatProgress(value=0.0, description='Training', layout=Layout(flex='2'), max=1125.0, style=Pro…"
      ]
     },
     "metadata": {},
     "output_type": "display_data"
    },
    {
     "name": "stdout",
     "output_type": "stream",
     "text": [
      "Epoch 148: train=1.00529, val=1.09503, took 37.388 s\n"
     ]
    },
    {
     "data": {
      "application/vnd.jupyter.widget-view+json": {
       "model_id": "",
       "version_major": 2,
       "version_minor": 0
      },
      "text/plain": [
       "HBox(children=(FloatProgress(value=0.0, description='Training', layout=Layout(flex='2'), max=1125.0, style=Pro…"
      ]
     },
     "metadata": {},
     "output_type": "display_data"
    },
    {
     "name": "stdout",
     "output_type": "stream",
     "text": [
      "Epoch 149: train=1.00336, val=0.990057, took 37.315 s\n"
     ]
    },
    {
     "data": {
      "application/vnd.jupyter.widget-view+json": {
       "model_id": "",
       "version_major": 2,
       "version_minor": 0
      },
      "text/plain": [
       "HBox(children=(FloatProgress(value=0.0, description='Training', layout=Layout(flex='2'), max=1125.0, style=Pro…"
      ]
     },
     "metadata": {},
     "output_type": "display_data"
    },
    {
     "name": "stdout",
     "output_type": "stream",
     "text": [
      "Epoch 150: train=0.999991, val=0.981139, took 37.231 s\n"
     ]
    },
    {
     "data": {
      "application/vnd.jupyter.widget-view+json": {
       "model_id": "",
       "version_major": 2,
       "version_minor": 0
      },
      "text/plain": [
       "HBox(children=(FloatProgress(value=0.0, description='Training', layout=Layout(flex='2'), max=1125.0, style=Pro…"
      ]
     },
     "metadata": {},
     "output_type": "display_data"
    },
    {
     "name": "stdout",
     "output_type": "stream",
     "text": [
      "Epoch 151: train=0.998674, val=1.01056, took 37.284 s\n"
     ]
    },
    {
     "data": {
      "application/vnd.jupyter.widget-view+json": {
       "model_id": "",
       "version_major": 2,
       "version_minor": 0
      },
      "text/plain": [
       "HBox(children=(FloatProgress(value=0.0, description='Training', layout=Layout(flex='2'), max=1125.0, style=Pro…"
      ]
     },
     "metadata": {},
     "output_type": "display_data"
    },
    {
     "name": "stdout",
     "output_type": "stream",
     "text": [
      "Epoch 152: train=0.99892, val=0.98793, took 37.037 s\n"
     ]
    },
    {
     "data": {
      "application/vnd.jupyter.widget-view+json": {
       "model_id": "",
       "version_major": 2,
       "version_minor": 0
      },
      "text/plain": [
       "HBox(children=(FloatProgress(value=0.0, description='Training', layout=Layout(flex='2'), max=1125.0, style=Pro…"
      ]
     },
     "metadata": {},
     "output_type": "display_data"
    },
    {
     "name": "stdout",
     "output_type": "stream",
     "text": [
      "Epoch 153: train=1.0023, val=0.977376, took 36.964 s\n"
     ]
    },
    {
     "data": {
      "application/vnd.jupyter.widget-view+json": {
       "model_id": "",
       "version_major": 2,
       "version_minor": 0
      },
      "text/plain": [
       "HBox(children=(FloatProgress(value=0.0, description='Training', layout=Layout(flex='2'), max=1125.0, style=Pro…"
      ]
     },
     "metadata": {},
     "output_type": "display_data"
    },
    {
     "name": "stdout",
     "output_type": "stream",
     "text": [
      "Epoch 154: train=0.996229, val=1.07752, took 37.264 s\n"
     ]
    },
    {
     "data": {
      "application/vnd.jupyter.widget-view+json": {
       "model_id": "",
       "version_major": 2,
       "version_minor": 0
      },
      "text/plain": [
       "HBox(children=(FloatProgress(value=0.0, description='Training', layout=Layout(flex='2'), max=1125.0, style=Pro…"
      ]
     },
     "metadata": {},
     "output_type": "display_data"
    },
    {
     "name": "stdout",
     "output_type": "stream",
     "text": [
      "Epoch 155: train=1.00011, val=1.02453, took 37.313 s\n"
     ]
    },
    {
     "data": {
      "application/vnd.jupyter.widget-view+json": {
       "model_id": "",
       "version_major": 2,
       "version_minor": 0
      },
      "text/plain": [
       "HBox(children=(FloatProgress(value=0.0, description='Training', layout=Layout(flex='2'), max=1125.0, style=Pro…"
      ]
     },
     "metadata": {},
     "output_type": "display_data"
    },
    {
     "name": "stdout",
     "output_type": "stream",
     "text": [
      "Epoch 156: train=0.995604, val=0.977652, took 37.236 s\n"
     ]
    },
    {
     "data": {
      "application/vnd.jupyter.widget-view+json": {
       "model_id": "",
       "version_major": 2,
       "version_minor": 0
      },
      "text/plain": [
       "HBox(children=(FloatProgress(value=0.0, description='Training', layout=Layout(flex='2'), max=1125.0, style=Pro…"
      ]
     },
     "metadata": {},
     "output_type": "display_data"
    },
    {
     "name": "stdout",
     "output_type": "stream",
     "text": [
      "Epoch 157: train=0.999305, val=0.987779, took 37.33 s\n"
     ]
    },
    {
     "data": {
      "application/vnd.jupyter.widget-view+json": {
       "model_id": "",
       "version_major": 2,
       "version_minor": 0
      },
      "text/plain": [
       "HBox(children=(FloatProgress(value=0.0, description='Training', layout=Layout(flex='2'), max=1125.0, style=Pro…"
      ]
     },
     "metadata": {},
     "output_type": "display_data"
    },
    {
     "name": "stdout",
     "output_type": "stream",
     "text": [
      "Epoch 158: train=0.99986, val=0.991655, took 37.046 s\n"
     ]
    },
    {
     "data": {
      "application/vnd.jupyter.widget-view+json": {
       "model_id": "",
       "version_major": 2,
       "version_minor": 0
      },
      "text/plain": [
       "HBox(children=(FloatProgress(value=0.0, description='Training', layout=Layout(flex='2'), max=1125.0, style=Pro…"
      ]
     },
     "metadata": {},
     "output_type": "display_data"
    },
    {
     "name": "stdout",
     "output_type": "stream",
     "text": [
      "Epoch 159: train=1.00121, val=0.978999, took 37.214 s\n"
     ]
    },
    {
     "data": {
      "application/vnd.jupyter.widget-view+json": {
       "model_id": "",
       "version_major": 2,
       "version_minor": 0
      },
      "text/plain": [
       "HBox(children=(FloatProgress(value=0.0, description='Training', layout=Layout(flex='2'), max=1125.0, style=Pro…"
      ]
     },
     "metadata": {},
     "output_type": "display_data"
    },
    {
     "name": "stdout",
     "output_type": "stream",
     "text": [
      "Epoch 160: train=0.998852, val=0.983263, took 37.141 s\n"
     ]
    },
    {
     "data": {
      "application/vnd.jupyter.widget-view+json": {
       "model_id": "",
       "version_major": 2,
       "version_minor": 0
      },
      "text/plain": [
       "HBox(children=(FloatProgress(value=0.0, description='Training', layout=Layout(flex='2'), max=1125.0, style=Pro…"
      ]
     },
     "metadata": {},
     "output_type": "display_data"
    },
    {
     "name": "stdout",
     "output_type": "stream",
     "text": [
      "Epoch 161: train=0.996877, val=1.01314, took 37.369 s\n"
     ]
    },
    {
     "data": {
      "application/vnd.jupyter.widget-view+json": {
       "model_id": "",
       "version_major": 2,
       "version_minor": 0
      },
      "text/plain": [
       "HBox(children=(FloatProgress(value=0.0, description='Training', layout=Layout(flex='2'), max=1125.0, style=Pro…"
      ]
     },
     "metadata": {},
     "output_type": "display_data"
    },
    {
     "name": "stdout",
     "output_type": "stream",
     "text": [
      "Epoch 162: train=1.0023, val=0.980802, took 37.236 s\n"
     ]
    },
    {
     "data": {
      "application/vnd.jupyter.widget-view+json": {
       "model_id": "",
       "version_major": 2,
       "version_minor": 0
      },
      "text/plain": [
       "HBox(children=(FloatProgress(value=0.0, description='Training', layout=Layout(flex='2'), max=1125.0, style=Pro…"
      ]
     },
     "metadata": {},
     "output_type": "display_data"
    },
    {
     "name": "stdout",
     "output_type": "stream",
     "text": [
      "Epoch 163: train=0.999217, val=0.977461, took 37.336 s\n"
     ]
    },
    {
     "data": {
      "application/vnd.jupyter.widget-view+json": {
       "model_id": "",
       "version_major": 2,
       "version_minor": 0
      },
      "text/plain": [
       "HBox(children=(FloatProgress(value=0.0, description='Training', layout=Layout(flex='2'), max=1125.0, style=Pro…"
      ]
     },
     "metadata": {},
     "output_type": "display_data"
    },
    {
     "name": "stdout",
     "output_type": "stream",
     "text": [
      "Epoch 164: train=0.998206, val=0.981175, took 37.074 s\n"
     ]
    },
    {
     "data": {
      "application/vnd.jupyter.widget-view+json": {
       "model_id": "",
       "version_major": 2,
       "version_minor": 0
      },
      "text/plain": [
       "HBox(children=(FloatProgress(value=0.0, description='Training', layout=Layout(flex='2'), max=1125.0, style=Pro…"
      ]
     },
     "metadata": {},
     "output_type": "display_data"
    },
    {
     "name": "stdout",
     "output_type": "stream",
     "text": [
      "Epoch 165: train=0.996504, val=1.06274, took 37.009 s\n"
     ]
    },
    {
     "data": {
      "application/vnd.jupyter.widget-view+json": {
       "model_id": "",
       "version_major": 2,
       "version_minor": 0
      },
      "text/plain": [
       "HBox(children=(FloatProgress(value=0.0, description='Training', layout=Layout(flex='2'), max=1125.0, style=Pro…"
      ]
     },
     "metadata": {},
     "output_type": "display_data"
    },
    {
     "name": "stdout",
     "output_type": "stream",
     "text": [
      "Epoch 166: train=0.999441, val=1.05112, took 36.932 s\n"
     ]
    },
    {
     "data": {
      "application/vnd.jupyter.widget-view+json": {
       "model_id": "",
       "version_major": 2,
       "version_minor": 0
      },
      "text/plain": [
       "HBox(children=(FloatProgress(value=0.0, description='Training', layout=Layout(flex='2'), max=1125.0, style=Pro…"
      ]
     },
     "metadata": {},
     "output_type": "display_data"
    },
    {
     "name": "stdout",
     "output_type": "stream",
     "text": [
      "Epoch 167: train=0.997564, val=0.980594, took 37.331 s\n"
     ]
    },
    {
     "data": {
      "application/vnd.jupyter.widget-view+json": {
       "model_id": "",
       "version_major": 2,
       "version_minor": 0
      },
      "text/plain": [
       "HBox(children=(FloatProgress(value=0.0, description='Training', layout=Layout(flex='2'), max=1125.0, style=Pro…"
      ]
     },
     "metadata": {},
     "output_type": "display_data"
    },
    {
     "name": "stdout",
     "output_type": "stream",
     "text": [
      "Epoch 168: train=0.995775, val=1.02262, took 37.325 s\n"
     ]
    },
    {
     "data": {
      "application/vnd.jupyter.widget-view+json": {
       "model_id": "",
       "version_major": 2,
       "version_minor": 0
      },
      "text/plain": [
       "HBox(children=(FloatProgress(value=0.0, description='Training', layout=Layout(flex='2'), max=1125.0, style=Pro…"
      ]
     },
     "metadata": {},
     "output_type": "display_data"
    },
    {
     "name": "stdout",
     "output_type": "stream",
     "text": [
      "Epoch 169: train=1.00011, val=0.999994, took 37.129 s\n"
     ]
    },
    {
     "data": {
      "application/vnd.jupyter.widget-view+json": {
       "model_id": "",
       "version_major": 2,
       "version_minor": 0
      },
      "text/plain": [
       "HBox(children=(FloatProgress(value=0.0, description='Training', layout=Layout(flex='2'), max=1125.0, style=Pro…"
      ]
     },
     "metadata": {},
     "output_type": "display_data"
    },
    {
     "name": "stdout",
     "output_type": "stream",
     "text": [
      "Epoch 170: train=0.997649, val=0.978294, took 37.319 s\n"
     ]
    },
    {
     "data": {
      "application/vnd.jupyter.widget-view+json": {
       "model_id": "",
       "version_major": 2,
       "version_minor": 0
      },
      "text/plain": [
       "HBox(children=(FloatProgress(value=0.0, description='Training', layout=Layout(flex='2'), max=1125.0, style=Pro…"
      ]
     },
     "metadata": {},
     "output_type": "display_data"
    },
    {
     "name": "stdout",
     "output_type": "stream",
     "text": [
      "Epoch 171: train=0.998367, val=1.02436, took 37.146 s\n"
     ]
    },
    {
     "data": {
      "application/vnd.jupyter.widget-view+json": {
       "model_id": "",
       "version_major": 2,
       "version_minor": 0
      },
      "text/plain": [
       "HBox(children=(FloatProgress(value=0.0, description='Training', layout=Layout(flex='2'), max=1125.0, style=Pro…"
      ]
     },
     "metadata": {},
     "output_type": "display_data"
    },
    {
     "name": "stdout",
     "output_type": "stream",
     "text": [
      "Epoch 172: train=1.0017, val=0.990135, took 37.068 s\n"
     ]
    },
    {
     "data": {
      "application/vnd.jupyter.widget-view+json": {
       "model_id": "",
       "version_major": 2,
       "version_minor": 0
      },
      "text/plain": [
       "HBox(children=(FloatProgress(value=0.0, description='Training', layout=Layout(flex='2'), max=1125.0, style=Pro…"
      ]
     },
     "metadata": {},
     "output_type": "display_data"
    },
    {
     "name": "stdout",
     "output_type": "stream",
     "text": [
      "Epoch 173: train=0.999231, val=0.975489, took 37.265 s\n"
     ]
    },
    {
     "data": {
      "application/vnd.jupyter.widget-view+json": {
       "model_id": "",
       "version_major": 2,
       "version_minor": 0
      },
      "text/plain": [
       "HBox(children=(FloatProgress(value=0.0, description='Training', layout=Layout(flex='2'), max=1125.0, style=Pro…"
      ]
     },
     "metadata": {},
     "output_type": "display_data"
    },
    {
     "name": "stdout",
     "output_type": "stream",
     "text": [
      "Epoch 174: train=0.998731, val=0.973968, took 37.213 s\n"
     ]
    },
    {
     "data": {
      "application/vnd.jupyter.widget-view+json": {
       "model_id": "",
       "version_major": 2,
       "version_minor": 0
      },
      "text/plain": [
       "HBox(children=(FloatProgress(value=0.0, description='Training', layout=Layout(flex='2'), max=1125.0, style=Pro…"
      ]
     },
     "metadata": {},
     "output_type": "display_data"
    },
    {
     "name": "stdout",
     "output_type": "stream",
     "text": [
      "Epoch 175: train=0.998575, val=0.980399, took 37.234 s\n"
     ]
    },
    {
     "data": {
      "application/vnd.jupyter.widget-view+json": {
       "model_id": "",
       "version_major": 2,
       "version_minor": 0
      },
      "text/plain": [
       "HBox(children=(FloatProgress(value=0.0, description='Training', layout=Layout(flex='2'), max=1125.0, style=Pro…"
      ]
     },
     "metadata": {},
     "output_type": "display_data"
    },
    {
     "name": "stdout",
     "output_type": "stream",
     "text": [
      "Epoch 176: train=1.00604, val=0.986915, took 37.065 s\n"
     ]
    },
    {
     "data": {
      "application/vnd.jupyter.widget-view+json": {
       "model_id": "",
       "version_major": 2,
       "version_minor": 0
      },
      "text/plain": [
       "HBox(children=(FloatProgress(value=0.0, description='Training', layout=Layout(flex='2'), max=1125.0, style=Pro…"
      ]
     },
     "metadata": {},
     "output_type": "display_data"
    },
    {
     "name": "stdout",
     "output_type": "stream",
     "text": [
      "Epoch 177: train=1.00344, val=0.987031, took 37.172 s\n"
     ]
    },
    {
     "data": {
      "application/vnd.jupyter.widget-view+json": {
       "model_id": "",
       "version_major": 2,
       "version_minor": 0
      },
      "text/plain": [
       "HBox(children=(FloatProgress(value=0.0, description='Training', layout=Layout(flex='2'), max=1125.0, style=Pro…"
      ]
     },
     "metadata": {},
     "output_type": "display_data"
    },
    {
     "name": "stdout",
     "output_type": "stream",
     "text": [
      "Epoch 178: train=0.997932, val=0.997396, took 37.304 s\n"
     ]
    },
    {
     "data": {
      "application/vnd.jupyter.widget-view+json": {
       "model_id": "",
       "version_major": 2,
       "version_minor": 0
      },
      "text/plain": [
       "HBox(children=(FloatProgress(value=0.0, description='Training', layout=Layout(flex='2'), max=1125.0, style=Pro…"
      ]
     },
     "metadata": {},
     "output_type": "display_data"
    },
    {
     "name": "stdout",
     "output_type": "stream",
     "text": [
      "Epoch 179: train=1.00319, val=0.974646, took 37.098 s\n"
     ]
    },
    {
     "data": {
      "application/vnd.jupyter.widget-view+json": {
       "model_id": "",
       "version_major": 2,
       "version_minor": 0
      },
      "text/plain": [
       "HBox(children=(FloatProgress(value=0.0, description='Training', layout=Layout(flex='2'), max=1125.0, style=Pro…"
      ]
     },
     "metadata": {},
     "output_type": "display_data"
    },
    {
     "name": "stdout",
     "output_type": "stream",
     "text": [
      "Epoch 180: train=0.999584, val=0.978081, took 37.194 s\n"
     ]
    },
    {
     "data": {
      "application/vnd.jupyter.widget-view+json": {
       "model_id": "",
       "version_major": 2,
       "version_minor": 0
      },
      "text/plain": [
       "HBox(children=(FloatProgress(value=0.0, description='Training', layout=Layout(flex='2'), max=1125.0, style=Pro…"
      ]
     },
     "metadata": {},
     "output_type": "display_data"
    },
    {
     "name": "stdout",
     "output_type": "stream",
     "text": [
      "Epoch 181: train=0.991203, val=0.979059, took 37.294 s\n"
     ]
    },
    {
     "data": {
      "application/vnd.jupyter.widget-view+json": {
       "model_id": "",
       "version_major": 2,
       "version_minor": 0
      },
      "text/plain": [
       "HBox(children=(FloatProgress(value=0.0, description='Training', layout=Layout(flex='2'), max=1125.0, style=Pro…"
      ]
     },
     "metadata": {},
     "output_type": "display_data"
    },
    {
     "name": "stdout",
     "output_type": "stream",
     "text": [
      "Epoch 182: train=0.999114, val=0.978414, took 37.311 s\n"
     ]
    },
    {
     "data": {
      "application/vnd.jupyter.widget-view+json": {
       "model_id": "",
       "version_major": 2,
       "version_minor": 0
      },
      "text/plain": [
       "HBox(children=(FloatProgress(value=0.0, description='Training', layout=Layout(flex='2'), max=1125.0, style=Pro…"
      ]
     },
     "metadata": {},
     "output_type": "display_data"
    },
    {
     "name": "stdout",
     "output_type": "stream",
     "text": [
      "Epoch 183: train=0.996522, val=0.976893, took 37.101 s\n"
     ]
    },
    {
     "data": {
      "application/vnd.jupyter.widget-view+json": {
       "model_id": "",
       "version_major": 2,
       "version_minor": 0
      },
      "text/plain": [
       "HBox(children=(FloatProgress(value=0.0, description='Training', layout=Layout(flex='2'), max=1125.0, style=Pro…"
      ]
     },
     "metadata": {},
     "output_type": "display_data"
    },
    {
     "name": "stdout",
     "output_type": "stream",
     "text": [
      "Epoch 184: train=0.999454, val=0.98852, took 37.302 s\n"
     ]
    },
    {
     "data": {
      "application/vnd.jupyter.widget-view+json": {
       "model_id": "",
       "version_major": 2,
       "version_minor": 0
      },
      "text/plain": [
       "HBox(children=(FloatProgress(value=0.0, description='Training', layout=Layout(flex='2'), max=1125.0, style=Pro…"
      ]
     },
     "metadata": {},
     "output_type": "display_data"
    },
    {
     "name": "stdout",
     "output_type": "stream",
     "text": [
      "Epoch 185: train=0.99929, val=1.0294, took 37.331 s\n"
     ]
    },
    {
     "data": {
      "application/vnd.jupyter.widget-view+json": {
       "model_id": "",
       "version_major": 2,
       "version_minor": 0
      },
      "text/plain": [
       "HBox(children=(FloatProgress(value=0.0, description='Training', layout=Layout(flex='2'), max=1125.0, style=Pro…"
      ]
     },
     "metadata": {},
     "output_type": "display_data"
    },
    {
     "name": "stdout",
     "output_type": "stream",
     "text": [
      "Epoch 186: train=1.00056, val=1.02365, took 37.255 s\n"
     ]
    },
    {
     "data": {
      "application/vnd.jupyter.widget-view+json": {
       "model_id": "",
       "version_major": 2,
       "version_minor": 0
      },
      "text/plain": [
       "HBox(children=(FloatProgress(value=0.0, description='Training', layout=Layout(flex='2'), max=1125.0, style=Pro…"
      ]
     },
     "metadata": {},
     "output_type": "display_data"
    },
    {
     "name": "stdout",
     "output_type": "stream",
     "text": [
      "Epoch 187: train=0.994803, val=0.975653, took 37.367 s\n"
     ]
    },
    {
     "data": {
      "application/vnd.jupyter.widget-view+json": {
       "model_id": "",
       "version_major": 2,
       "version_minor": 0
      },
      "text/plain": [
       "HBox(children=(FloatProgress(value=0.0, description='Training', layout=Layout(flex='2'), max=1125.0, style=Pro…"
      ]
     },
     "metadata": {},
     "output_type": "display_data"
    },
    {
     "name": "stdout",
     "output_type": "stream",
     "text": [
      "Epoch 188: train=1.00006, val=1.03894, took 37.153 s\n"
     ]
    },
    {
     "data": {
      "application/vnd.jupyter.widget-view+json": {
       "model_id": "",
       "version_major": 2,
       "version_minor": 0
      },
      "text/plain": [
       "HBox(children=(FloatProgress(value=0.0, description='Training', layout=Layout(flex='2'), max=1125.0, style=Pro…"
      ]
     },
     "metadata": {},
     "output_type": "display_data"
    },
    {
     "name": "stdout",
     "output_type": "stream",
     "text": [
      "Epoch 189: train=0.995608, val=1.02063, took 37.006 s\n"
     ]
    },
    {
     "data": {
      "application/vnd.jupyter.widget-view+json": {
       "model_id": "",
       "version_major": 2,
       "version_minor": 0
      },
      "text/plain": [
       "HBox(children=(FloatProgress(value=0.0, description='Training', layout=Layout(flex='2'), max=1125.0, style=Pro…"
      ]
     },
     "metadata": {},
     "output_type": "display_data"
    },
    {
     "name": "stdout",
     "output_type": "stream",
     "text": [
      "Epoch 190: train=0.998514, val=0.995271, took 37.121 s\n"
     ]
    },
    {
     "data": {
      "application/vnd.jupyter.widget-view+json": {
       "model_id": "",
       "version_major": 2,
       "version_minor": 0
      },
      "text/plain": [
       "HBox(children=(FloatProgress(value=0.0, description='Training', layout=Layout(flex='2'), max=1125.0, style=Pro…"
      ]
     },
     "metadata": {},
     "output_type": "display_data"
    },
    {
     "name": "stdout",
     "output_type": "stream",
     "text": [
      "Epoch 191: train=1.00038, val=0.976766, took 37.113 s\n"
     ]
    },
    {
     "data": {
      "application/vnd.jupyter.widget-view+json": {
       "model_id": "",
       "version_major": 2,
       "version_minor": 0
      },
      "text/plain": [
       "HBox(children=(FloatProgress(value=0.0, description='Training', layout=Layout(flex='2'), max=1125.0, style=Pro…"
      ]
     },
     "metadata": {},
     "output_type": "display_data"
    },
    {
     "name": "stdout",
     "output_type": "stream",
     "text": [
      "Epoch 192: train=0.993561, val=0.975395, took 37.47 s\n"
     ]
    },
    {
     "data": {
      "application/vnd.jupyter.widget-view+json": {
       "model_id": "",
       "version_major": 2,
       "version_minor": 0
      },
      "text/plain": [
       "HBox(children=(FloatProgress(value=0.0, description='Training', layout=Layout(flex='2'), max=1125.0, style=Pro…"
      ]
     },
     "metadata": {},
     "output_type": "display_data"
    },
    {
     "name": "stdout",
     "output_type": "stream",
     "text": [
      "Epoch 193: train=0.996227, val=0.974192, took 37.117 s\n"
     ]
    },
    {
     "data": {
      "application/vnd.jupyter.widget-view+json": {
       "model_id": "",
       "version_major": 2,
       "version_minor": 0
      },
      "text/plain": [
       "HBox(children=(FloatProgress(value=0.0, description='Training', layout=Layout(flex='2'), max=1125.0, style=Pro…"
      ]
     },
     "metadata": {},
     "output_type": "display_data"
    },
    {
     "name": "stdout",
     "output_type": "stream",
     "text": [
      "Epoch 194: train=1.00363, val=0.977998, took 37.073 s\n"
     ]
    },
    {
     "data": {
      "application/vnd.jupyter.widget-view+json": {
       "model_id": "",
       "version_major": 2,
       "version_minor": 0
      },
      "text/plain": [
       "HBox(children=(FloatProgress(value=0.0, description='Training', layout=Layout(flex='2'), max=1125.0, style=Pro…"
      ]
     },
     "metadata": {},
     "output_type": "display_data"
    },
    {
     "name": "stdout",
     "output_type": "stream",
     "text": [
      "Epoch 195: train=0.999221, val=0.980291, took 37.17 s\n"
     ]
    },
    {
     "data": {
      "application/vnd.jupyter.widget-view+json": {
       "model_id": "",
       "version_major": 2,
       "version_minor": 0
      },
      "text/plain": [
       "HBox(children=(FloatProgress(value=0.0, description='Training', layout=Layout(flex='2'), max=1125.0, style=Pro…"
      ]
     },
     "metadata": {},
     "output_type": "display_data"
    },
    {
     "name": "stdout",
     "output_type": "stream",
     "text": [
      "Epoch 196: train=0.995902, val=0.980825, took 36.973 s\n"
     ]
    },
    {
     "data": {
      "application/vnd.jupyter.widget-view+json": {
       "model_id": "",
       "version_major": 2,
       "version_minor": 0
      },
      "text/plain": [
       "HBox(children=(FloatProgress(value=0.0, description='Training', layout=Layout(flex='2'), max=1125.0, style=Pro…"
      ]
     },
     "metadata": {},
     "output_type": "display_data"
    },
    {
     "name": "stdout",
     "output_type": "stream",
     "text": [
      "Epoch 197: train=0.998305, val=0.976099, took 37.162 s\n"
     ]
    },
    {
     "data": {
      "application/vnd.jupyter.widget-view+json": {
       "model_id": "",
       "version_major": 2,
       "version_minor": 0
      },
      "text/plain": [
       "HBox(children=(FloatProgress(value=0.0, description='Training', layout=Layout(flex='2'), max=1125.0, style=Pro…"
      ]
     },
     "metadata": {},
     "output_type": "display_data"
    },
    {
     "name": "stdout",
     "output_type": "stream",
     "text": [
      "Epoch 198: train=0.994182, val=1.01778, took 37.043 s\n"
     ]
    },
    {
     "data": {
      "application/vnd.jupyter.widget-view+json": {
       "model_id": "",
       "version_major": 2,
       "version_minor": 0
      },
      "text/plain": [
       "HBox(children=(FloatProgress(value=0.0, description='Training', layout=Layout(flex='2'), max=1125.0, style=Pro…"
      ]
     },
     "metadata": {},
     "output_type": "display_data"
    },
    {
     "name": "stdout",
     "output_type": "stream",
     "text": [
      "Epoch 199: train=0.999167, val=0.985439, took 37.195 s\n"
     ]
    },
    {
     "data": {
      "application/vnd.jupyter.widget-view+json": {
       "model_id": "",
       "version_major": 2,
       "version_minor": 0
      },
      "text/plain": [
       "HBox(children=(FloatProgress(value=0.0, description='Training', layout=Layout(flex='2'), max=1125.0, style=Pro…"
      ]
     },
     "metadata": {},
     "output_type": "display_data"
    },
    {
     "name": "stdout",
     "output_type": "stream",
     "text": [
      "Epoch 200: train=1.00162, val=0.974814, took 37.412 s\n"
     ]
    },
    {
     "data": {
      "application/vnd.jupyter.widget-view+json": {
       "model_id": "",
       "version_major": 2,
       "version_minor": 0
      },
      "text/plain": [
       "HBox(children=(FloatProgress(value=0.0, description='Training', layout=Layout(flex='2'), max=1125.0, style=Pro…"
      ]
     },
     "metadata": {},
     "output_type": "display_data"
    },
    {
     "name": "stdout",
     "output_type": "stream",
     "text": [
      "Epoch 201: train=1.00374, val=1.08663, took 37.096 s\n"
     ]
    },
    {
     "data": {
      "application/vnd.jupyter.widget-view+json": {
       "model_id": "",
       "version_major": 2,
       "version_minor": 0
      },
      "text/plain": [
       "HBox(children=(FloatProgress(value=0.0, description='Training', layout=Layout(flex='2'), max=1125.0, style=Pro…"
      ]
     },
     "metadata": {},
     "output_type": "display_data"
    },
    {
     "name": "stdout",
     "output_type": "stream",
     "text": [
      "Epoch 202: train=0.995505, val=1.06829, took 37.286 s\n"
     ]
    },
    {
     "data": {
      "application/vnd.jupyter.widget-view+json": {
       "model_id": "",
       "version_major": 2,
       "version_minor": 0
      },
      "text/plain": [
       "HBox(children=(FloatProgress(value=0.0, description='Training', layout=Layout(flex='2'), max=1125.0, style=Pro…"
      ]
     },
     "metadata": {},
     "output_type": "display_data"
    },
    {
     "name": "stdout",
     "output_type": "stream",
     "text": [
      "Epoch 203: train=0.997817, val=0.977592, took 36.929 s\n"
     ]
    },
    {
     "data": {
      "application/vnd.jupyter.widget-view+json": {
       "model_id": "",
       "version_major": 2,
       "version_minor": 0
      },
      "text/plain": [
       "HBox(children=(FloatProgress(value=0.0, description='Training', layout=Layout(flex='2'), max=1125.0, style=Pro…"
      ]
     },
     "metadata": {},
     "output_type": "display_data"
    },
    {
     "name": "stdout",
     "output_type": "stream",
     "text": [
      "Epoch 204: train=0.996655, val=0.980171, took 37.207 s\n"
     ]
    },
    {
     "data": {
      "application/vnd.jupyter.widget-view+json": {
       "model_id": "",
       "version_major": 2,
       "version_minor": 0
      },
      "text/plain": [
       "HBox(children=(FloatProgress(value=0.0, description='Training', layout=Layout(flex='2'), max=1125.0, style=Pro…"
      ]
     },
     "metadata": {},
     "output_type": "display_data"
    },
    {
     "name": "stdout",
     "output_type": "stream",
     "text": [
      "Epoch 205: train=1.00296, val=0.975617, took 37.082 s\n"
     ]
    },
    {
     "data": {
      "application/vnd.jupyter.widget-view+json": {
       "model_id": "",
       "version_major": 2,
       "version_minor": 0
      },
      "text/plain": [
       "HBox(children=(FloatProgress(value=0.0, description='Training', layout=Layout(flex='2'), max=1125.0, style=Pro…"
      ]
     },
     "metadata": {},
     "output_type": "display_data"
    },
    {
     "name": "stdout",
     "output_type": "stream",
     "text": [
      "Epoch 206: train=0.993712, val=1.02078, took 37.233 s\n"
     ]
    },
    {
     "data": {
      "application/vnd.jupyter.widget-view+json": {
       "model_id": "",
       "version_major": 2,
       "version_minor": 0
      },
      "text/plain": [
       "HBox(children=(FloatProgress(value=0.0, description='Training', layout=Layout(flex='2'), max=1125.0, style=Pro…"
      ]
     },
     "metadata": {},
     "output_type": "display_data"
    },
    {
     "name": "stdout",
     "output_type": "stream",
     "text": [
      "Epoch 207: train=0.995447, val=0.989413, took 37.283 s\n"
     ]
    },
    {
     "data": {
      "application/vnd.jupyter.widget-view+json": {
       "model_id": "",
       "version_major": 2,
       "version_minor": 0
      },
      "text/plain": [
       "HBox(children=(FloatProgress(value=0.0, description='Training', layout=Layout(flex='2'), max=1125.0, style=Pro…"
      ]
     },
     "metadata": {},
     "output_type": "display_data"
    },
    {
     "name": "stdout",
     "output_type": "stream",
     "text": [
      "Epoch 208: train=0.994486, val=1.0099, took 37.093 s\n"
     ]
    },
    {
     "data": {
      "application/vnd.jupyter.widget-view+json": {
       "model_id": "",
       "version_major": 2,
       "version_minor": 0
      },
      "text/plain": [
       "HBox(children=(FloatProgress(value=0.0, description='Training', layout=Layout(flex='2'), max=1125.0, style=Pro…"
      ]
     },
     "metadata": {},
     "output_type": "display_data"
    },
    {
     "name": "stdout",
     "output_type": "stream",
     "text": [
      "Epoch 209: train=0.998494, val=0.977969, took 37.198 s\n"
     ]
    },
    {
     "data": {
      "application/vnd.jupyter.widget-view+json": {
       "model_id": "",
       "version_major": 2,
       "version_minor": 0
      },
      "text/plain": [
       "HBox(children=(FloatProgress(value=0.0, description='Training', layout=Layout(flex='2'), max=1125.0, style=Pro…"
      ]
     },
     "metadata": {},
     "output_type": "display_data"
    },
    {
     "name": "stdout",
     "output_type": "stream",
     "text": [
      "Epoch 210: train=1.00225, val=0.997227, took 37.238 s\n"
     ]
    },
    {
     "data": {
      "application/vnd.jupyter.widget-view+json": {
       "model_id": "",
       "version_major": 2,
       "version_minor": 0
      },
      "text/plain": [
       "HBox(children=(FloatProgress(value=0.0, description='Training', layout=Layout(flex='2'), max=1125.0, style=Pro…"
      ]
     },
     "metadata": {},
     "output_type": "display_data"
    },
    {
     "name": "stdout",
     "output_type": "stream",
     "text": [
      "Epoch 211: train=0.991881, val=1.02068, took 37.353 s\n"
     ]
    },
    {
     "data": {
      "application/vnd.jupyter.widget-view+json": {
       "model_id": "",
       "version_major": 2,
       "version_minor": 0
      },
      "text/plain": [
       "HBox(children=(FloatProgress(value=0.0, description='Training', layout=Layout(flex='2'), max=1125.0, style=Pro…"
      ]
     },
     "metadata": {},
     "output_type": "display_data"
    },
    {
     "name": "stdout",
     "output_type": "stream",
     "text": [
      "Epoch 212: train=0.99461, val=0.999034, took 37.084 s\n"
     ]
    },
    {
     "data": {
      "application/vnd.jupyter.widget-view+json": {
       "model_id": "",
       "version_major": 2,
       "version_minor": 0
      },
      "text/plain": [
       "HBox(children=(FloatProgress(value=0.0, description='Training', layout=Layout(flex='2'), max=1125.0, style=Pro…"
      ]
     },
     "metadata": {},
     "output_type": "display_data"
    },
    {
     "name": "stdout",
     "output_type": "stream",
     "text": [
      "Epoch 213: train=0.996016, val=1.0022, took 37.275 s\n"
     ]
    },
    {
     "data": {
      "application/vnd.jupyter.widget-view+json": {
       "model_id": "",
       "version_major": 2,
       "version_minor": 0
      },
      "text/plain": [
       "HBox(children=(FloatProgress(value=0.0, description='Training', layout=Layout(flex='2'), max=1125.0, style=Pro…"
      ]
     },
     "metadata": {},
     "output_type": "display_data"
    },
    {
     "name": "stdout",
     "output_type": "stream",
     "text": [
      "Epoch 214: train=0.992085, val=1.02117, took 37.216 s\n"
     ]
    },
    {
     "data": {
      "application/vnd.jupyter.widget-view+json": {
       "model_id": "",
       "version_major": 2,
       "version_minor": 0
      },
      "text/plain": [
       "HBox(children=(FloatProgress(value=0.0, description='Training', layout=Layout(flex='2'), max=1125.0, style=Pro…"
      ]
     },
     "metadata": {},
     "output_type": "display_data"
    },
    {
     "name": "stdout",
     "output_type": "stream",
     "text": [
      "Epoch 215: train=0.994599, val=0.985153, took 37.166 s\n"
     ]
    },
    {
     "data": {
      "application/vnd.jupyter.widget-view+json": {
       "model_id": "",
       "version_major": 2,
       "version_minor": 0
      },
      "text/plain": [
       "HBox(children=(FloatProgress(value=0.0, description='Training', layout=Layout(flex='2'), max=1125.0, style=Pro…"
      ]
     },
     "metadata": {},
     "output_type": "display_data"
    },
    {
     "name": "stdout",
     "output_type": "stream",
     "text": [
      "Epoch 216: train=0.997641, val=0.974313, took 37.317 s\n"
     ]
    },
    {
     "data": {
      "application/vnd.jupyter.widget-view+json": {
       "model_id": "",
       "version_major": 2,
       "version_minor": 0
      },
      "text/plain": [
       "HBox(children=(FloatProgress(value=0.0, description='Training', layout=Layout(flex='2'), max=1125.0, style=Pro…"
      ]
     },
     "metadata": {},
     "output_type": "display_data"
    },
    {
     "name": "stdout",
     "output_type": "stream",
     "text": [
      "Epoch 217: train=1.00322, val=0.97481, took 37.031 s\n"
     ]
    },
    {
     "data": {
      "application/vnd.jupyter.widget-view+json": {
       "model_id": "",
       "version_major": 2,
       "version_minor": 0
      },
      "text/plain": [
       "HBox(children=(FloatProgress(value=0.0, description='Training', layout=Layout(flex='2'), max=1125.0, style=Pro…"
      ]
     },
     "metadata": {},
     "output_type": "display_data"
    },
    {
     "name": "stdout",
     "output_type": "stream",
     "text": [
      "Epoch 218: train=0.993114, val=0.977539, took 37.242 s\n"
     ]
    },
    {
     "data": {
      "application/vnd.jupyter.widget-view+json": {
       "model_id": "",
       "version_major": 2,
       "version_minor": 0
      },
      "text/plain": [
       "HBox(children=(FloatProgress(value=0.0, description='Training', layout=Layout(flex='2'), max=1125.0, style=Pro…"
      ]
     },
     "metadata": {},
     "output_type": "display_data"
    },
    {
     "name": "stdout",
     "output_type": "stream",
     "text": [
      "Epoch 219: train=0.998682, val=0.990045, took 37.3 s\n"
     ]
    },
    {
     "data": {
      "application/vnd.jupyter.widget-view+json": {
       "model_id": "",
       "version_major": 2,
       "version_minor": 0
      },
      "text/plain": [
       "HBox(children=(FloatProgress(value=0.0, description='Training', layout=Layout(flex='2'), max=1125.0, style=Pro…"
      ]
     },
     "metadata": {},
     "output_type": "display_data"
    },
    {
     "name": "stdout",
     "output_type": "stream",
     "text": [
      "Epoch 220: train=0.994486, val=0.975693, took 37.134 s\n"
     ]
    },
    {
     "data": {
      "application/vnd.jupyter.widget-view+json": {
       "model_id": "",
       "version_major": 2,
       "version_minor": 0
      },
      "text/plain": [
       "HBox(children=(FloatProgress(value=0.0, description='Training', layout=Layout(flex='2'), max=1125.0, style=Pro…"
      ]
     },
     "metadata": {},
     "output_type": "display_data"
    },
    {
     "name": "stdout",
     "output_type": "stream",
     "text": [
      "Epoch 221: train=0.998055, val=0.986209, took 37.179 s\n"
     ]
    },
    {
     "data": {
      "application/vnd.jupyter.widget-view+json": {
       "model_id": "",
       "version_major": 2,
       "version_minor": 0
      },
      "text/plain": [
       "HBox(children=(FloatProgress(value=0.0, description='Training', layout=Layout(flex='2'), max=1125.0, style=Pro…"
      ]
     },
     "metadata": {},
     "output_type": "display_data"
    },
    {
     "name": "stdout",
     "output_type": "stream",
     "text": [
      "Epoch 222: train=0.998217, val=1.00551, took 37.249 s\n"
     ]
    },
    {
     "data": {
      "application/vnd.jupyter.widget-view+json": {
       "model_id": "",
       "version_major": 2,
       "version_minor": 0
      },
      "text/plain": [
       "HBox(children=(FloatProgress(value=0.0, description='Training', layout=Layout(flex='2'), max=1125.0, style=Pro…"
      ]
     },
     "metadata": {},
     "output_type": "display_data"
    },
    {
     "name": "stdout",
     "output_type": "stream",
     "text": [
      "Epoch 223: train=0.998495, val=0.983921, took 37.303 s\n"
     ]
    },
    {
     "data": {
      "application/vnd.jupyter.widget-view+json": {
       "model_id": "",
       "version_major": 2,
       "version_minor": 0
      },
      "text/plain": [
       "HBox(children=(FloatProgress(value=0.0, description='Training', layout=Layout(flex='2'), max=1125.0, style=Pro…"
      ]
     },
     "metadata": {},
     "output_type": "display_data"
    },
    {
     "name": "stdout",
     "output_type": "stream",
     "text": [
      "Epoch 224: train=0.993301, val=0.983724, took 37.326 s\n"
     ]
    },
    {
     "data": {
      "application/vnd.jupyter.widget-view+json": {
       "model_id": "",
       "version_major": 2,
       "version_minor": 0
      },
      "text/plain": [
       "HBox(children=(FloatProgress(value=0.0, description='Training', layout=Layout(flex='2'), max=1125.0, style=Pro…"
      ]
     },
     "metadata": {},
     "output_type": "display_data"
    },
    {
     "name": "stdout",
     "output_type": "stream",
     "text": [
      "Epoch 225: train=0.991008, val=0.976692, took 37.249 s\n"
     ]
    },
    {
     "data": {
      "application/vnd.jupyter.widget-view+json": {
       "model_id": "",
       "version_major": 2,
       "version_minor": 0
      },
      "text/plain": [
       "HBox(children=(FloatProgress(value=0.0, description='Training', layout=Layout(flex='2'), max=1125.0, style=Pro…"
      ]
     },
     "metadata": {},
     "output_type": "display_data"
    },
    {
     "name": "stdout",
     "output_type": "stream",
     "text": [
      "Epoch 226: train=0.999029, val=0.976588, took 37.178 s\n"
     ]
    },
    {
     "data": {
      "application/vnd.jupyter.widget-view+json": {
       "model_id": "",
       "version_major": 2,
       "version_minor": 0
      },
      "text/plain": [
       "HBox(children=(FloatProgress(value=0.0, description='Training', layout=Layout(flex='2'), max=1125.0, style=Pro…"
      ]
     },
     "metadata": {},
     "output_type": "display_data"
    },
    {
     "name": "stdout",
     "output_type": "stream",
     "text": [
      "Epoch 227: train=0.990071, val=0.972788, took 37.138 s\n"
     ]
    },
    {
     "data": {
      "application/vnd.jupyter.widget-view+json": {
       "model_id": "",
       "version_major": 2,
       "version_minor": 0
      },
      "text/plain": [
       "HBox(children=(FloatProgress(value=0.0, description='Training', layout=Layout(flex='2'), max=1125.0, style=Pro…"
      ]
     },
     "metadata": {},
     "output_type": "display_data"
    },
    {
     "name": "stdout",
     "output_type": "stream",
     "text": [
      "Epoch 228: train=0.99796, val=1.02235, took 37.184 s\n"
     ]
    },
    {
     "data": {
      "application/vnd.jupyter.widget-view+json": {
       "model_id": "",
       "version_major": 2,
       "version_minor": 0
      },
      "text/plain": [
       "HBox(children=(FloatProgress(value=0.0, description='Training', layout=Layout(flex='2'), max=1125.0, style=Pro…"
      ]
     },
     "metadata": {},
     "output_type": "display_data"
    },
    {
     "name": "stdout",
     "output_type": "stream",
     "text": [
      "Epoch 229: train=0.992598, val=0.988196, took 37.126 s\n"
     ]
    },
    {
     "data": {
      "application/vnd.jupyter.widget-view+json": {
       "model_id": "",
       "version_major": 2,
       "version_minor": 0
      },
      "text/plain": [
       "HBox(children=(FloatProgress(value=0.0, description='Training', layout=Layout(flex='2'), max=1125.0, style=Pro…"
      ]
     },
     "metadata": {},
     "output_type": "display_data"
    },
    {
     "name": "stdout",
     "output_type": "stream",
     "text": [
      "Epoch 230: train=0.995739, val=1.01205, took 37.205 s\n"
     ]
    },
    {
     "data": {
      "application/vnd.jupyter.widget-view+json": {
       "model_id": "",
       "version_major": 2,
       "version_minor": 0
      },
      "text/plain": [
       "HBox(children=(FloatProgress(value=0.0, description='Training', layout=Layout(flex='2'), max=1125.0, style=Pro…"
      ]
     },
     "metadata": {},
     "output_type": "display_data"
    },
    {
     "name": "stdout",
     "output_type": "stream",
     "text": [
      "Epoch 231: train=0.99739, val=0.990356, took 37.109 s\n"
     ]
    },
    {
     "data": {
      "application/vnd.jupyter.widget-view+json": {
       "model_id": "",
       "version_major": 2,
       "version_minor": 0
      },
      "text/plain": [
       "HBox(children=(FloatProgress(value=0.0, description='Training', layout=Layout(flex='2'), max=1125.0, style=Pro…"
      ]
     },
     "metadata": {},
     "output_type": "display_data"
    },
    {
     "name": "stdout",
     "output_type": "stream",
     "text": [
      "Epoch 232: train=1.00365, val=0.984787, took 37.28 s\n"
     ]
    },
    {
     "data": {
      "application/vnd.jupyter.widget-view+json": {
       "model_id": "",
       "version_major": 2,
       "version_minor": 0
      },
      "text/plain": [
       "HBox(children=(FloatProgress(value=0.0, description='Training', layout=Layout(flex='2'), max=1125.0, style=Pro…"
      ]
     },
     "metadata": {},
     "output_type": "display_data"
    },
    {
     "name": "stdout",
     "output_type": "stream",
     "text": [
      "Epoch 233: train=0.99941, val=0.993733, took 37.154 s\n"
     ]
    },
    {
     "data": {
      "application/vnd.jupyter.widget-view+json": {
       "model_id": "",
       "version_major": 2,
       "version_minor": 0
      },
      "text/plain": [
       "HBox(children=(FloatProgress(value=0.0, description='Training', layout=Layout(flex='2'), max=1125.0, style=Pro…"
      ]
     },
     "metadata": {},
     "output_type": "display_data"
    },
    {
     "name": "stdout",
     "output_type": "stream",
     "text": [
      "Epoch 234: train=0.989839, val=0.973067, took 37.173 s\n"
     ]
    },
    {
     "data": {
      "application/vnd.jupyter.widget-view+json": {
       "model_id": "",
       "version_major": 2,
       "version_minor": 0
      },
      "text/plain": [
       "HBox(children=(FloatProgress(value=0.0, description='Training', layout=Layout(flex='2'), max=1125.0, style=Pro…"
      ]
     },
     "metadata": {},
     "output_type": "display_data"
    },
    {
     "name": "stdout",
     "output_type": "stream",
     "text": [
      "Epoch 235: train=0.990947, val=1.00811, took 37.157 s\n"
     ]
    },
    {
     "data": {
      "application/vnd.jupyter.widget-view+json": {
       "model_id": "",
       "version_major": 2,
       "version_minor": 0
      },
      "text/plain": [
       "HBox(children=(FloatProgress(value=0.0, description='Training', layout=Layout(flex='2'), max=1125.0, style=Pro…"
      ]
     },
     "metadata": {},
     "output_type": "display_data"
    },
    {
     "name": "stdout",
     "output_type": "stream",
     "text": [
      "Epoch 236: train=0.996732, val=0.975293, took 37.201 s\n"
     ]
    },
    {
     "data": {
      "application/vnd.jupyter.widget-view+json": {
       "model_id": "",
       "version_major": 2,
       "version_minor": 0
      },
      "text/plain": [
       "HBox(children=(FloatProgress(value=0.0, description='Training', layout=Layout(flex='2'), max=1125.0, style=Pro…"
      ]
     },
     "metadata": {},
     "output_type": "display_data"
    },
    {
     "name": "stdout",
     "output_type": "stream",
     "text": [
      "Epoch 237: train=0.991688, val=1.00679, took 36.902 s\n"
     ]
    },
    {
     "data": {
      "application/vnd.jupyter.widget-view+json": {
       "model_id": "",
       "version_major": 2,
       "version_minor": 0
      },
      "text/plain": [
       "HBox(children=(FloatProgress(value=0.0, description='Training', layout=Layout(flex='2'), max=1125.0, style=Pro…"
      ]
     },
     "metadata": {},
     "output_type": "display_data"
    },
    {
     "name": "stdout",
     "output_type": "stream",
     "text": [
      "Epoch 238: train=0.993961, val=0.982452, took 37.292 s\n"
     ]
    },
    {
     "data": {
      "application/vnd.jupyter.widget-view+json": {
       "model_id": "",
       "version_major": 2,
       "version_minor": 0
      },
      "text/plain": [
       "HBox(children=(FloatProgress(value=0.0, description='Training', layout=Layout(flex='2'), max=1125.0, style=Pro…"
      ]
     },
     "metadata": {},
     "output_type": "display_data"
    },
    {
     "name": "stdout",
     "output_type": "stream",
     "text": [
      "Epoch 239: train=1.00087, val=0.987211, took 37.205 s\n"
     ]
    },
    {
     "data": {
      "application/vnd.jupyter.widget-view+json": {
       "model_id": "",
       "version_major": 2,
       "version_minor": 0
      },
      "text/plain": [
       "HBox(children=(FloatProgress(value=0.0, description='Training', layout=Layout(flex='2'), max=1125.0, style=Pro…"
      ]
     },
     "metadata": {},
     "output_type": "display_data"
    },
    {
     "name": "stdout",
     "output_type": "stream",
     "text": [
      "Epoch 240: train=0.992319, val=0.977812, took 37.049 s\n"
     ]
    },
    {
     "data": {
      "application/vnd.jupyter.widget-view+json": {
       "model_id": "",
       "version_major": 2,
       "version_minor": 0
      },
      "text/plain": [
       "HBox(children=(FloatProgress(value=0.0, description='Training', layout=Layout(flex='2'), max=1125.0, style=Pro…"
      ]
     },
     "metadata": {},
     "output_type": "display_data"
    },
    {
     "name": "stdout",
     "output_type": "stream",
     "text": [
      "Epoch 241: train=0.994697, val=0.975455, took 37.059 s\n"
     ]
    },
    {
     "data": {
      "application/vnd.jupyter.widget-view+json": {
       "model_id": "",
       "version_major": 2,
       "version_minor": 0
      },
      "text/plain": [
       "HBox(children=(FloatProgress(value=0.0, description='Training', layout=Layout(flex='2'), max=1125.0, style=Pro…"
      ]
     },
     "metadata": {},
     "output_type": "display_data"
    },
    {
     "name": "stdout",
     "output_type": "stream",
     "text": [
      "Epoch 242: train=1.00068, val=0.991751, took 37.121 s\n"
     ]
    },
    {
     "data": {
      "application/vnd.jupyter.widget-view+json": {
       "model_id": "",
       "version_major": 2,
       "version_minor": 0
      },
      "text/plain": [
       "HBox(children=(FloatProgress(value=0.0, description='Training', layout=Layout(flex='2'), max=1125.0, style=Pro…"
      ]
     },
     "metadata": {},
     "output_type": "display_data"
    },
    {
     "name": "stdout",
     "output_type": "stream",
     "text": [
      "Epoch 243: train=0.993419, val=1.0018, took 37.103 s\n"
     ]
    },
    {
     "data": {
      "application/vnd.jupyter.widget-view+json": {
       "model_id": "",
       "version_major": 2,
       "version_minor": 0
      },
      "text/plain": [
       "HBox(children=(FloatProgress(value=0.0, description='Training', layout=Layout(flex='2'), max=1125.0, style=Pro…"
      ]
     },
     "metadata": {},
     "output_type": "display_data"
    },
    {
     "name": "stdout",
     "output_type": "stream",
     "text": [
      "Epoch 244: train=0.996438, val=0.99792, took 37.244 s\n"
     ]
    },
    {
     "data": {
      "application/vnd.jupyter.widget-view+json": {
       "model_id": "",
       "version_major": 2,
       "version_minor": 0
      },
      "text/plain": [
       "HBox(children=(FloatProgress(value=0.0, description='Training', layout=Layout(flex='2'), max=1125.0, style=Pro…"
      ]
     },
     "metadata": {},
     "output_type": "display_data"
    },
    {
     "name": "stdout",
     "output_type": "stream",
     "text": [
      "Epoch 245: train=0.996225, val=1.01982, took 37.016 s\n"
     ]
    },
    {
     "data": {
      "application/vnd.jupyter.widget-view+json": {
       "model_id": "",
       "version_major": 2,
       "version_minor": 0
      },
      "text/plain": [
       "HBox(children=(FloatProgress(value=0.0, description='Training', layout=Layout(flex='2'), max=1125.0, style=Pro…"
      ]
     },
     "metadata": {},
     "output_type": "display_data"
    },
    {
     "name": "stdout",
     "output_type": "stream",
     "text": [
      "Epoch 246: train=0.995407, val=0.980002, took 37.379 s\n"
     ]
    },
    {
     "data": {
      "application/vnd.jupyter.widget-view+json": {
       "model_id": "",
       "version_major": 2,
       "version_minor": 0
      },
      "text/plain": [
       "HBox(children=(FloatProgress(value=0.0, description='Training', layout=Layout(flex='2'), max=1125.0, style=Pro…"
      ]
     },
     "metadata": {},
     "output_type": "display_data"
    },
    {
     "name": "stdout",
     "output_type": "stream",
     "text": [
      "Epoch 247: train=0.994083, val=0.993521, took 37.26 s\n"
     ]
    },
    {
     "data": {
      "application/vnd.jupyter.widget-view+json": {
       "model_id": "",
       "version_major": 2,
       "version_minor": 0
      },
      "text/plain": [
       "HBox(children=(FloatProgress(value=0.0, description='Training', layout=Layout(flex='2'), max=1125.0, style=Pro…"
      ]
     },
     "metadata": {},
     "output_type": "display_data"
    },
    {
     "name": "stdout",
     "output_type": "stream",
     "text": [
      "Epoch 248: train=0.995895, val=1.14897, took 37.171 s\n"
     ]
    },
    {
     "data": {
      "application/vnd.jupyter.widget-view+json": {
       "model_id": "",
       "version_major": 2,
       "version_minor": 0
      },
      "text/plain": [
       "HBox(children=(FloatProgress(value=0.0, description='Training', layout=Layout(flex='2'), max=1125.0, style=Pro…"
      ]
     },
     "metadata": {},
     "output_type": "display_data"
    },
    {
     "name": "stdout",
     "output_type": "stream",
     "text": [
      "Epoch 249: train=0.996527, val=0.97654, took 37.279 s\n"
     ]
    },
    {
     "data": {
      "application/vnd.jupyter.widget-view+json": {
       "model_id": "",
       "version_major": 2,
       "version_minor": 0
      },
      "text/plain": [
       "HBox(children=(FloatProgress(value=0.0, description='Training', layout=Layout(flex='2'), max=1125.0, style=Pro…"
      ]
     },
     "metadata": {},
     "output_type": "display_data"
    },
    {
     "name": "stdout",
     "output_type": "stream",
     "text": [
      "Epoch 250: train=0.996176, val=0.977702, took 37.146 s\n"
     ]
    },
    {
     "data": {
      "application/vnd.jupyter.widget-view+json": {
       "model_id": "",
       "version_major": 2,
       "version_minor": 0
      },
      "text/plain": [
       "HBox(children=(FloatProgress(value=0.0, description='Training', layout=Layout(flex='2'), max=1125.0, style=Pro…"
      ]
     },
     "metadata": {},
     "output_type": "display_data"
    },
    {
     "name": "stdout",
     "output_type": "stream",
     "text": [
      "Epoch 251: train=0.993759, val=0.989706, took 37.524 s\n"
     ]
    },
    {
     "data": {
      "application/vnd.jupyter.widget-view+json": {
       "model_id": "",
       "version_major": 2,
       "version_minor": 0
      },
      "text/plain": [
       "HBox(children=(FloatProgress(value=0.0, description='Training', layout=Layout(flex='2'), max=1125.0, style=Pro…"
      ]
     },
     "metadata": {},
     "output_type": "display_data"
    },
    {
     "name": "stdout",
     "output_type": "stream",
     "text": [
      "Epoch 252: train=0.992115, val=1.00597, took 37.233 s\n"
     ]
    },
    {
     "data": {
      "application/vnd.jupyter.widget-view+json": {
       "model_id": "",
       "version_major": 2,
       "version_minor": 0
      },
      "text/plain": [
       "HBox(children=(FloatProgress(value=0.0, description='Training', layout=Layout(flex='2'), max=1125.0, style=Pro…"
      ]
     },
     "metadata": {},
     "output_type": "display_data"
    },
    {
     "name": "stdout",
     "output_type": "stream",
     "text": [
      "Epoch 253: train=0.992784, val=0.990751, took 37.21 s\n"
     ]
    },
    {
     "data": {
      "application/vnd.jupyter.widget-view+json": {
       "model_id": "",
       "version_major": 2,
       "version_minor": 0
      },
      "text/plain": [
       "HBox(children=(FloatProgress(value=0.0, description='Training', layout=Layout(flex='2'), max=1125.0, style=Pro…"
      ]
     },
     "metadata": {},
     "output_type": "display_data"
    },
    {
     "name": "stdout",
     "output_type": "stream",
     "text": [
      "Epoch 254: train=0.989955, val=0.975269, took 37.175 s\n"
     ]
    },
    {
     "data": {
      "application/vnd.jupyter.widget-view+json": {
       "model_id": "",
       "version_major": 2,
       "version_minor": 0
      },
      "text/plain": [
       "HBox(children=(FloatProgress(value=0.0, description='Training', layout=Layout(flex='2'), max=1125.0, style=Pro…"
      ]
     },
     "metadata": {},
     "output_type": "display_data"
    },
    {
     "name": "stdout",
     "output_type": "stream",
     "text": [
      "Epoch 255: train=0.99371, val=0.976165, took 37.296 s\n"
     ]
    },
    {
     "data": {
      "application/vnd.jupyter.widget-view+json": {
       "model_id": "",
       "version_major": 2,
       "version_minor": 0
      },
      "text/plain": [
       "HBox(children=(FloatProgress(value=0.0, description='Training', layout=Layout(flex='2'), max=1125.0, style=Pro…"
      ]
     },
     "metadata": {},
     "output_type": "display_data"
    },
    {
     "name": "stdout",
     "output_type": "stream",
     "text": [
      "Epoch 256: train=0.990129, val=0.977769, took 37.201 s\n"
     ]
    },
    {
     "data": {
      "application/vnd.jupyter.widget-view+json": {
       "model_id": "",
       "version_major": 2,
       "version_minor": 0
      },
      "text/plain": [
       "HBox(children=(FloatProgress(value=0.0, description='Training', layout=Layout(flex='2'), max=1125.0, style=Pro…"
      ]
     },
     "metadata": {},
     "output_type": "display_data"
    },
    {
     "name": "stdout",
     "output_type": "stream",
     "text": [
      "Epoch 257: train=0.990128, val=0.978174, took 37.36 s\n"
     ]
    },
    {
     "data": {
      "application/vnd.jupyter.widget-view+json": {
       "model_id": "",
       "version_major": 2,
       "version_minor": 0
      },
      "text/plain": [
       "HBox(children=(FloatProgress(value=0.0, description='Training', layout=Layout(flex='2'), max=1125.0, style=Pro…"
      ]
     },
     "metadata": {},
     "output_type": "display_data"
    },
    {
     "name": "stdout",
     "output_type": "stream",
     "text": [
      "Epoch 258: train=0.996836, val=0.974175, took 37.017 s\n"
     ]
    },
    {
     "data": {
      "application/vnd.jupyter.widget-view+json": {
       "model_id": "",
       "version_major": 2,
       "version_minor": 0
      },
      "text/plain": [
       "HBox(children=(FloatProgress(value=0.0, description='Training', layout=Layout(flex='2'), max=1125.0, style=Pro…"
      ]
     },
     "metadata": {},
     "output_type": "display_data"
    },
    {
     "name": "stdout",
     "output_type": "stream",
     "text": [
      "Epoch 259: train=0.99198, val=0.978239, took 37.184 s\n"
     ]
    },
    {
     "data": {
      "application/vnd.jupyter.widget-view+json": {
       "model_id": "",
       "version_major": 2,
       "version_minor": 0
      },
      "text/plain": [
       "HBox(children=(FloatProgress(value=0.0, description='Training', layout=Layout(flex='2'), max=1125.0, style=Pro…"
      ]
     },
     "metadata": {},
     "output_type": "display_data"
    },
    {
     "name": "stdout",
     "output_type": "stream",
     "text": [
      "Epoch 260: train=0.996566, val=1.09544, took 37.275 s\n"
     ]
    },
    {
     "data": {
      "application/vnd.jupyter.widget-view+json": {
       "model_id": "",
       "version_major": 2,
       "version_minor": 0
      },
      "text/plain": [
       "HBox(children=(FloatProgress(value=0.0, description='Training', layout=Layout(flex='2'), max=1125.0, style=Pro…"
      ]
     },
     "metadata": {},
     "output_type": "display_data"
    },
    {
     "name": "stdout",
     "output_type": "stream",
     "text": [
      "Epoch 261: train=0.988253, val=0.987713, took 37.034 s\n"
     ]
    },
    {
     "data": {
      "application/vnd.jupyter.widget-view+json": {
       "model_id": "",
       "version_major": 2,
       "version_minor": 0
      },
      "text/plain": [
       "HBox(children=(FloatProgress(value=0.0, description='Training', layout=Layout(flex='2'), max=1125.0, style=Pro…"
      ]
     },
     "metadata": {},
     "output_type": "display_data"
    },
    {
     "name": "stdout",
     "output_type": "stream",
     "text": [
      "Epoch 262: train=0.98774, val=0.981196, took 37.109 s\n"
     ]
    },
    {
     "data": {
      "application/vnd.jupyter.widget-view+json": {
       "model_id": "",
       "version_major": 2,
       "version_minor": 0
      },
      "text/plain": [
       "HBox(children=(FloatProgress(value=0.0, description='Training', layout=Layout(flex='2'), max=1125.0, style=Pro…"
      ]
     },
     "metadata": {},
     "output_type": "display_data"
    },
    {
     "name": "stdout",
     "output_type": "stream",
     "text": [
      "Epoch 263: train=0.994391, val=0.985014, took 37.436 s\n"
     ]
    },
    {
     "data": {
      "application/vnd.jupyter.widget-view+json": {
       "model_id": "",
       "version_major": 2,
       "version_minor": 0
      },
      "text/plain": [
       "HBox(children=(FloatProgress(value=0.0, description='Training', layout=Layout(flex='2'), max=1125.0, style=Pro…"
      ]
     },
     "metadata": {},
     "output_type": "display_data"
    },
    {
     "name": "stdout",
     "output_type": "stream",
     "text": [
      "Epoch 264: train=0.99828, val=0.991793, took 36.958 s\n"
     ]
    },
    {
     "data": {
      "application/vnd.jupyter.widget-view+json": {
       "model_id": "",
       "version_major": 2,
       "version_minor": 0
      },
      "text/plain": [
       "HBox(children=(FloatProgress(value=0.0, description='Training', layout=Layout(flex='2'), max=1125.0, style=Pro…"
      ]
     },
     "metadata": {},
     "output_type": "display_data"
    },
    {
     "name": "stdout",
     "output_type": "stream",
     "text": [
      "Epoch 265: train=0.987584, val=1.2171, took 37.127 s\n"
     ]
    },
    {
     "data": {
      "application/vnd.jupyter.widget-view+json": {
       "model_id": "",
       "version_major": 2,
       "version_minor": 0
      },
      "text/plain": [
       "HBox(children=(FloatProgress(value=0.0, description='Training', layout=Layout(flex='2'), max=1125.0, style=Pro…"
      ]
     },
     "metadata": {},
     "output_type": "display_data"
    },
    {
     "name": "stdout",
     "output_type": "stream",
     "text": [
      "Epoch 266: train=0.992148, val=1.01934, took 37.351 s\n"
     ]
    },
    {
     "data": {
      "application/vnd.jupyter.widget-view+json": {
       "model_id": "",
       "version_major": 2,
       "version_minor": 0
      },
      "text/plain": [
       "HBox(children=(FloatProgress(value=0.0, description='Training', layout=Layout(flex='2'), max=1125.0, style=Pro…"
      ]
     },
     "metadata": {},
     "output_type": "display_data"
    },
    {
     "name": "stdout",
     "output_type": "stream",
     "text": [
      "Epoch 267: train=0.990083, val=0.976081, took 37.123 s\n"
     ]
    },
    {
     "data": {
      "application/vnd.jupyter.widget-view+json": {
       "model_id": "",
       "version_major": 2,
       "version_minor": 0
      },
      "text/plain": [
       "HBox(children=(FloatProgress(value=0.0, description='Training', layout=Layout(flex='2'), max=1125.0, style=Pro…"
      ]
     },
     "metadata": {},
     "output_type": "display_data"
    },
    {
     "name": "stdout",
     "output_type": "stream",
     "text": [
      "Epoch 268: train=0.991048, val=0.978986, took 37.118 s\n"
     ]
    },
    {
     "data": {
      "application/vnd.jupyter.widget-view+json": {
       "model_id": "",
       "version_major": 2,
       "version_minor": 0
      },
      "text/plain": [
       "HBox(children=(FloatProgress(value=0.0, description='Training', layout=Layout(flex='2'), max=1125.0, style=Pro…"
      ]
     },
     "metadata": {},
     "output_type": "display_data"
    },
    {
     "name": "stdout",
     "output_type": "stream",
     "text": [
      "Epoch 269: train=0.99016, val=0.992135, took 37.167 s\n"
     ]
    },
    {
     "data": {
      "application/vnd.jupyter.widget-view+json": {
       "model_id": "",
       "version_major": 2,
       "version_minor": 0
      },
      "text/plain": [
       "HBox(children=(FloatProgress(value=0.0, description='Training', layout=Layout(flex='2'), max=1125.0, style=Pro…"
      ]
     },
     "metadata": {},
     "output_type": "display_data"
    },
    {
     "name": "stdout",
     "output_type": "stream",
     "text": [
      "Epoch 270: train=0.992457, val=0.974851, took 37.106 s\n"
     ]
    },
    {
     "data": {
      "application/vnd.jupyter.widget-view+json": {
       "model_id": "",
       "version_major": 2,
       "version_minor": 0
      },
      "text/plain": [
       "HBox(children=(FloatProgress(value=0.0, description='Training', layout=Layout(flex='2'), max=1125.0, style=Pro…"
      ]
     },
     "metadata": {},
     "output_type": "display_data"
    },
    {
     "name": "stdout",
     "output_type": "stream",
     "text": [
      "Epoch 271: train=0.993668, val=1.04217, took 37.09 s\n"
     ]
    },
    {
     "data": {
      "application/vnd.jupyter.widget-view+json": {
       "model_id": "",
       "version_major": 2,
       "version_minor": 0
      },
      "text/plain": [
       "HBox(children=(FloatProgress(value=0.0, description='Training', layout=Layout(flex='2'), max=1125.0, style=Pro…"
      ]
     },
     "metadata": {},
     "output_type": "display_data"
    },
    {
     "name": "stdout",
     "output_type": "stream",
     "text": [
      "Epoch 272: train=0.991424, val=1.03951, took 37.181 s\n"
     ]
    },
    {
     "data": {
      "application/vnd.jupyter.widget-view+json": {
       "model_id": "",
       "version_major": 2,
       "version_minor": 0
      },
      "text/plain": [
       "HBox(children=(FloatProgress(value=0.0, description='Training', layout=Layout(flex='2'), max=1125.0, style=Pro…"
      ]
     },
     "metadata": {},
     "output_type": "display_data"
    },
    {
     "name": "stdout",
     "output_type": "stream",
     "text": [
      "Epoch 273: train=0.995261, val=0.984107, took 37.221 s\n"
     ]
    },
    {
     "data": {
      "application/vnd.jupyter.widget-view+json": {
       "model_id": "",
       "version_major": 2,
       "version_minor": 0
      },
      "text/plain": [
       "HBox(children=(FloatProgress(value=0.0, description='Training', layout=Layout(flex='2'), max=1125.0, style=Pro…"
      ]
     },
     "metadata": {},
     "output_type": "display_data"
    },
    {
     "name": "stdout",
     "output_type": "stream",
     "text": [
      "Epoch 274: train=0.989285, val=0.979903, took 37.131 s\n"
     ]
    },
    {
     "data": {
      "application/vnd.jupyter.widget-view+json": {
       "model_id": "",
       "version_major": 2,
       "version_minor": 0
      },
      "text/plain": [
       "HBox(children=(FloatProgress(value=0.0, description='Training', layout=Layout(flex='2'), max=1125.0, style=Pro…"
      ]
     },
     "metadata": {},
     "output_type": "display_data"
    },
    {
     "name": "stdout",
     "output_type": "stream",
     "text": [
      "Epoch 275: train=0.990941, val=1.00936, took 37.218 s\n"
     ]
    },
    {
     "data": {
      "application/vnd.jupyter.widget-view+json": {
       "model_id": "",
       "version_major": 2,
       "version_minor": 0
      },
      "text/plain": [
       "HBox(children=(FloatProgress(value=0.0, description='Training', layout=Layout(flex='2'), max=1125.0, style=Pro…"
      ]
     },
     "metadata": {},
     "output_type": "display_data"
    },
    {
     "name": "stdout",
     "output_type": "stream",
     "text": [
      "Epoch 276: train=0.993059, val=1.01925, took 37.075 s\n"
     ]
    },
    {
     "data": {
      "application/vnd.jupyter.widget-view+json": {
       "model_id": "",
       "version_major": 2,
       "version_minor": 0
      },
      "text/plain": [
       "HBox(children=(FloatProgress(value=0.0, description='Training', layout=Layout(flex='2'), max=1125.0, style=Pro…"
      ]
     },
     "metadata": {},
     "output_type": "display_data"
    },
    {
     "name": "stdout",
     "output_type": "stream",
     "text": [
      "Epoch 277: train=0.992931, val=0.975201, took 37.506 s\n"
     ]
    },
    {
     "data": {
      "application/vnd.jupyter.widget-view+json": {
       "model_id": "",
       "version_major": 2,
       "version_minor": 0
      },
      "text/plain": [
       "HBox(children=(FloatProgress(value=0.0, description='Training', layout=Layout(flex='2'), max=1125.0, style=Pro…"
      ]
     },
     "metadata": {},
     "output_type": "display_data"
    },
    {
     "name": "stdout",
     "output_type": "stream",
     "text": [
      "Epoch 278: train=0.987433, val=0.992305, took 37.187 s\n"
     ]
    },
    {
     "data": {
      "application/vnd.jupyter.widget-view+json": {
       "model_id": "",
       "version_major": 2,
       "version_minor": 0
      },
      "text/plain": [
       "HBox(children=(FloatProgress(value=0.0, description='Training', layout=Layout(flex='2'), max=1125.0, style=Pro…"
      ]
     },
     "metadata": {},
     "output_type": "display_data"
    },
    {
     "name": "stdout",
     "output_type": "stream",
     "text": [
      "Epoch 279: train=0.993137, val=0.977835, took 37.447 s\n"
     ]
    },
    {
     "data": {
      "application/vnd.jupyter.widget-view+json": {
       "model_id": "",
       "version_major": 2,
       "version_minor": 0
      },
      "text/plain": [
       "HBox(children=(FloatProgress(value=0.0, description='Training', layout=Layout(flex='2'), max=1125.0, style=Pro…"
      ]
     },
     "metadata": {},
     "output_type": "display_data"
    },
    {
     "name": "stdout",
     "output_type": "stream",
     "text": [
      "Epoch 280: train=0.992915, val=0.977557, took 37.201 s\n"
     ]
    },
    {
     "data": {
      "application/vnd.jupyter.widget-view+json": {
       "model_id": "",
       "version_major": 2,
       "version_minor": 0
      },
      "text/plain": [
       "HBox(children=(FloatProgress(value=0.0, description='Training', layout=Layout(flex='2'), max=1125.0, style=Pro…"
      ]
     },
     "metadata": {},
     "output_type": "display_data"
    },
    {
     "name": "stdout",
     "output_type": "stream",
     "text": [
      "Epoch 281: train=0.992616, val=0.972701, took 37.015 s\n"
     ]
    },
    {
     "data": {
      "application/vnd.jupyter.widget-view+json": {
       "model_id": "",
       "version_major": 2,
       "version_minor": 0
      },
      "text/plain": [
       "HBox(children=(FloatProgress(value=0.0, description='Training', layout=Layout(flex='2'), max=1125.0, style=Pro…"
      ]
     },
     "metadata": {},
     "output_type": "display_data"
    },
    {
     "name": "stdout",
     "output_type": "stream",
     "text": [
      "Epoch 282: train=0.990314, val=0.973108, took 37.196 s\n"
     ]
    },
    {
     "data": {
      "application/vnd.jupyter.widget-view+json": {
       "model_id": "",
       "version_major": 2,
       "version_minor": 0
      },
      "text/plain": [
       "HBox(children=(FloatProgress(value=0.0, description='Training', layout=Layout(flex='2'), max=1125.0, style=Pro…"
      ]
     },
     "metadata": {},
     "output_type": "display_data"
    },
    {
     "name": "stdout",
     "output_type": "stream",
     "text": [
      "Epoch 283: train=0.995232, val=0.998937, took 37.365 s\n"
     ]
    },
    {
     "data": {
      "application/vnd.jupyter.widget-view+json": {
       "model_id": "",
       "version_major": 2,
       "version_minor": 0
      },
      "text/plain": [
       "HBox(children=(FloatProgress(value=0.0, description='Training', layout=Layout(flex='2'), max=1125.0, style=Pro…"
      ]
     },
     "metadata": {},
     "output_type": "display_data"
    },
    {
     "name": "stdout",
     "output_type": "stream",
     "text": [
      "Epoch 284: train=0.99349, val=0.977232, took 37.171 s\n"
     ]
    },
    {
     "data": {
      "application/vnd.jupyter.widget-view+json": {
       "model_id": "",
       "version_major": 2,
       "version_minor": 0
      },
      "text/plain": [
       "HBox(children=(FloatProgress(value=0.0, description='Training', layout=Layout(flex='2'), max=1125.0, style=Pro…"
      ]
     },
     "metadata": {},
     "output_type": "display_data"
    },
    {
     "name": "stdout",
     "output_type": "stream",
     "text": [
      "Epoch 285: train=0.992856, val=0.973935, took 37.309 s\n"
     ]
    },
    {
     "data": {
      "application/vnd.jupyter.widget-view+json": {
       "model_id": "",
       "version_major": 2,
       "version_minor": 0
      },
      "text/plain": [
       "HBox(children=(FloatProgress(value=0.0, description='Training', layout=Layout(flex='2'), max=1125.0, style=Pro…"
      ]
     },
     "metadata": {},
     "output_type": "display_data"
    },
    {
     "name": "stdout",
     "output_type": "stream",
     "text": [
      "Epoch 286: train=0.990016, val=0.977142, took 37.085 s\n"
     ]
    },
    {
     "data": {
      "application/vnd.jupyter.widget-view+json": {
       "model_id": "",
       "version_major": 2,
       "version_minor": 0
      },
      "text/plain": [
       "HBox(children=(FloatProgress(value=0.0, description='Training', layout=Layout(flex='2'), max=1125.0, style=Pro…"
      ]
     },
     "metadata": {},
     "output_type": "display_data"
    },
    {
     "name": "stdout",
     "output_type": "stream",
     "text": [
      "Epoch 287: train=0.994654, val=0.973493, took 37.146 s\n"
     ]
    },
    {
     "data": {
      "application/vnd.jupyter.widget-view+json": {
       "model_id": "",
       "version_major": 2,
       "version_minor": 0
      },
      "text/plain": [
       "HBox(children=(FloatProgress(value=0.0, description='Training', layout=Layout(flex='2'), max=1125.0, style=Pro…"
      ]
     },
     "metadata": {},
     "output_type": "display_data"
    },
    {
     "name": "stdout",
     "output_type": "stream",
     "text": [
      "Epoch 288: train=0.992119, val=0.977091, took 37.291 s\n"
     ]
    },
    {
     "data": {
      "application/vnd.jupyter.widget-view+json": {
       "model_id": "",
       "version_major": 2,
       "version_minor": 0
      },
      "text/plain": [
       "HBox(children=(FloatProgress(value=0.0, description='Training', layout=Layout(flex='2'), max=1125.0, style=Pro…"
      ]
     },
     "metadata": {},
     "output_type": "display_data"
    },
    {
     "name": "stdout",
     "output_type": "stream",
     "text": [
      "Epoch 289: train=0.987557, val=0.974597, took 36.922 s\n"
     ]
    },
    {
     "data": {
      "application/vnd.jupyter.widget-view+json": {
       "model_id": "",
       "version_major": 2,
       "version_minor": 0
      },
      "text/plain": [
       "HBox(children=(FloatProgress(value=0.0, description='Training', layout=Layout(flex='2'), max=1125.0, style=Pro…"
      ]
     },
     "metadata": {},
     "output_type": "display_data"
    },
    {
     "name": "stdout",
     "output_type": "stream",
     "text": [
      "Epoch 290: train=0.995822, val=0.982883, took 37.179 s\n"
     ]
    },
    {
     "data": {
      "application/vnd.jupyter.widget-view+json": {
       "model_id": "",
       "version_major": 2,
       "version_minor": 0
      },
      "text/plain": [
       "HBox(children=(FloatProgress(value=0.0, description='Training', layout=Layout(flex='2'), max=1125.0, style=Pro…"
      ]
     },
     "metadata": {},
     "output_type": "display_data"
    },
    {
     "name": "stdout",
     "output_type": "stream",
     "text": [
      "Epoch 291: train=0.984861, val=0.981402, took 37.161 s\n"
     ]
    },
    {
     "data": {
      "application/vnd.jupyter.widget-view+json": {
       "model_id": "",
       "version_major": 2,
       "version_minor": 0
      },
      "text/plain": [
       "HBox(children=(FloatProgress(value=0.0, description='Training', layout=Layout(flex='2'), max=1125.0, style=Pro…"
      ]
     },
     "metadata": {},
     "output_type": "display_data"
    },
    {
     "name": "stdout",
     "output_type": "stream",
     "text": [
      "Epoch 292: train=0.991305, val=0.990889, took 37.218 s\n"
     ]
    },
    {
     "data": {
      "application/vnd.jupyter.widget-view+json": {
       "model_id": "",
       "version_major": 2,
       "version_minor": 0
      },
      "text/plain": [
       "HBox(children=(FloatProgress(value=0.0, description='Training', layout=Layout(flex='2'), max=1125.0, style=Pro…"
      ]
     },
     "metadata": {},
     "output_type": "display_data"
    },
    {
     "name": "stdout",
     "output_type": "stream",
     "text": [
      "Epoch 293: train=0.996394, val=0.972402, took 37.111 s\n"
     ]
    },
    {
     "data": {
      "application/vnd.jupyter.widget-view+json": {
       "model_id": "",
       "version_major": 2,
       "version_minor": 0
      },
      "text/plain": [
       "HBox(children=(FloatProgress(value=0.0, description='Training', layout=Layout(flex='2'), max=1125.0, style=Pro…"
      ]
     },
     "metadata": {},
     "output_type": "display_data"
    },
    {
     "name": "stdout",
     "output_type": "stream",
     "text": [
      "Epoch 294: train=0.988204, val=0.974973, took 37.146 s\n"
     ]
    },
    {
     "data": {
      "application/vnd.jupyter.widget-view+json": {
       "model_id": "",
       "version_major": 2,
       "version_minor": 0
      },
      "text/plain": [
       "HBox(children=(FloatProgress(value=0.0, description='Training', layout=Layout(flex='2'), max=1125.0, style=Pro…"
      ]
     },
     "metadata": {},
     "output_type": "display_data"
    },
    {
     "name": "stdout",
     "output_type": "stream",
     "text": [
      "Epoch 295: train=0.990452, val=1.03938, took 37.158 s\n"
     ]
    },
    {
     "data": {
      "application/vnd.jupyter.widget-view+json": {
       "model_id": "",
       "version_major": 2,
       "version_minor": 0
      },
      "text/plain": [
       "HBox(children=(FloatProgress(value=0.0, description='Training', layout=Layout(flex='2'), max=1125.0, style=Pro…"
      ]
     },
     "metadata": {},
     "output_type": "display_data"
    },
    {
     "name": "stdout",
     "output_type": "stream",
     "text": [
      "Epoch 296: train=0.9968, val=1.0336, took 37.173 s\n"
     ]
    },
    {
     "data": {
      "application/vnd.jupyter.widget-view+json": {
       "model_id": "",
       "version_major": 2,
       "version_minor": 0
      },
      "text/plain": [
       "HBox(children=(FloatProgress(value=0.0, description='Training', layout=Layout(flex='2'), max=1125.0, style=Pro…"
      ]
     },
     "metadata": {},
     "output_type": "display_data"
    },
    {
     "name": "stdout",
     "output_type": "stream",
     "text": [
      "Epoch 297: train=0.986659, val=0.985396, took 37.018 s\n"
     ]
    },
    {
     "data": {
      "application/vnd.jupyter.widget-view+json": {
       "model_id": "",
       "version_major": 2,
       "version_minor": 0
      },
      "text/plain": [
       "HBox(children=(FloatProgress(value=0.0, description='Training', layout=Layout(flex='2'), max=1125.0, style=Pro…"
      ]
     },
     "metadata": {},
     "output_type": "display_data"
    },
    {
     "name": "stdout",
     "output_type": "stream",
     "text": [
      "Epoch 298: train=0.993581, val=0.996104, took 37.265 s\n"
     ]
    },
    {
     "data": {
      "application/vnd.jupyter.widget-view+json": {
       "model_id": "",
       "version_major": 2,
       "version_minor": 0
      },
      "text/plain": [
       "HBox(children=(FloatProgress(value=0.0, description='Training', layout=Layout(flex='2'), max=1125.0, style=Pro…"
      ]
     },
     "metadata": {},
     "output_type": "display_data"
    },
    {
     "name": "stdout",
     "output_type": "stream",
     "text": [
      "Epoch 299: train=0.988782, val=1.01658, took 37.269 s\n"
     ]
    },
    {
     "data": {
      "application/vnd.jupyter.widget-view+json": {
       "model_id": "",
       "version_major": 2,
       "version_minor": 0
      },
      "text/plain": [
       "HBox(children=(FloatProgress(value=0.0, description='Training', layout=Layout(flex='2'), max=1125.0, style=Pro…"
      ]
     },
     "metadata": {},
     "output_type": "display_data"
    },
    {
     "name": "stdout",
     "output_type": "stream",
     "text": [
      "Epoch 300: train=0.992612, val=1.07395, took 37.254 s\n"
     ]
    },
    {
     "data": {
      "application/vnd.jupyter.widget-view+json": {
       "model_id": "",
       "version_major": 2,
       "version_minor": 0
      },
      "text/plain": [
       "HBox(children=(FloatProgress(value=0.0, description='Training', layout=Layout(flex='2'), max=1125.0, style=Pro…"
      ]
     },
     "metadata": {},
     "output_type": "display_data"
    },
    {
     "name": "stdout",
     "output_type": "stream",
     "text": [
      "Epoch 301: train=0.988087, val=0.997129, took 37.192 s\n"
     ]
    },
    {
     "data": {
      "application/vnd.jupyter.widget-view+json": {
       "model_id": "",
       "version_major": 2,
       "version_minor": 0
      },
      "text/plain": [
       "HBox(children=(FloatProgress(value=0.0, description='Training', layout=Layout(flex='2'), max=1125.0, style=Pro…"
      ]
     },
     "metadata": {},
     "output_type": "display_data"
    },
    {
     "name": "stdout",
     "output_type": "stream",
     "text": [
      "Epoch 302: train=0.989573, val=0.976848, took 37.127 s\n"
     ]
    },
    {
     "data": {
      "application/vnd.jupyter.widget-view+json": {
       "model_id": "",
       "version_major": 2,
       "version_minor": 0
      },
      "text/plain": [
       "HBox(children=(FloatProgress(value=0.0, description='Training', layout=Layout(flex='2'), max=1125.0, style=Pro…"
      ]
     },
     "metadata": {},
     "output_type": "display_data"
    },
    {
     "name": "stdout",
     "output_type": "stream",
     "text": [
      "Epoch 303: train=0.989793, val=0.981937, took 36.897 s\n"
     ]
    },
    {
     "data": {
      "application/vnd.jupyter.widget-view+json": {
       "model_id": "",
       "version_major": 2,
       "version_minor": 0
      },
      "text/plain": [
       "HBox(children=(FloatProgress(value=0.0, description='Training', layout=Layout(flex='2'), max=1125.0, style=Pro…"
      ]
     },
     "metadata": {},
     "output_type": "display_data"
    },
    {
     "name": "stdout",
     "output_type": "stream",
     "text": [
      "Epoch 304: train=0.987778, val=0.981522, took 37.179 s\n"
     ]
    },
    {
     "data": {
      "application/vnd.jupyter.widget-view+json": {
       "model_id": "",
       "version_major": 2,
       "version_minor": 0
      },
      "text/plain": [
       "HBox(children=(FloatProgress(value=0.0, description='Training', layout=Layout(flex='2'), max=1125.0, style=Pro…"
      ]
     },
     "metadata": {},
     "output_type": "display_data"
    },
    {
     "name": "stdout",
     "output_type": "stream",
     "text": [
      "Epoch 305: train=0.990084, val=0.980921, took 37.306 s\n"
     ]
    },
    {
     "data": {
      "application/vnd.jupyter.widget-view+json": {
       "model_id": "",
       "version_major": 2,
       "version_minor": 0
      },
      "text/plain": [
       "HBox(children=(FloatProgress(value=0.0, description='Training', layout=Layout(flex='2'), max=1125.0, style=Pro…"
      ]
     },
     "metadata": {},
     "output_type": "display_data"
    },
    {
     "name": "stdout",
     "output_type": "stream",
     "text": [
      "Epoch 306: train=0.991463, val=0.972591, took 36.979 s\n"
     ]
    },
    {
     "data": {
      "application/vnd.jupyter.widget-view+json": {
       "model_id": "",
       "version_major": 2,
       "version_minor": 0
      },
      "text/plain": [
       "HBox(children=(FloatProgress(value=0.0, description='Training', layout=Layout(flex='2'), max=1125.0, style=Pro…"
      ]
     },
     "metadata": {},
     "output_type": "display_data"
    },
    {
     "name": "stdout",
     "output_type": "stream",
     "text": [
      "Epoch 307: train=0.98853, val=1.00624, took 37.043 s\n"
     ]
    },
    {
     "data": {
      "application/vnd.jupyter.widget-view+json": {
       "model_id": "",
       "version_major": 2,
       "version_minor": 0
      },
      "text/plain": [
       "HBox(children=(FloatProgress(value=0.0, description='Training', layout=Layout(flex='2'), max=1125.0, style=Pro…"
      ]
     },
     "metadata": {},
     "output_type": "display_data"
    },
    {
     "name": "stdout",
     "output_type": "stream",
     "text": [
      "Epoch 308: train=0.989189, val=1.00422, took 37.192 s\n"
     ]
    },
    {
     "data": {
      "application/vnd.jupyter.widget-view+json": {
       "model_id": "",
       "version_major": 2,
       "version_minor": 0
      },
      "text/plain": [
       "HBox(children=(FloatProgress(value=0.0, description='Training', layout=Layout(flex='2'), max=1125.0, style=Pro…"
      ]
     },
     "metadata": {},
     "output_type": "display_data"
    },
    {
     "name": "stdout",
     "output_type": "stream",
     "text": [
      "Epoch 309: train=0.990028, val=0.989179, took 37.057 s\n"
     ]
    },
    {
     "data": {
      "application/vnd.jupyter.widget-view+json": {
       "model_id": "",
       "version_major": 2,
       "version_minor": 0
      },
      "text/plain": [
       "HBox(children=(FloatProgress(value=0.0, description='Training', layout=Layout(flex='2'), max=1125.0, style=Pro…"
      ]
     },
     "metadata": {},
     "output_type": "display_data"
    },
    {
     "name": "stdout",
     "output_type": "stream",
     "text": [
      "Epoch 310: train=0.986258, val=0.978174, took 37.259 s\n"
     ]
    },
    {
     "data": {
      "application/vnd.jupyter.widget-view+json": {
       "model_id": "",
       "version_major": 2,
       "version_minor": 0
      },
      "text/plain": [
       "HBox(children=(FloatProgress(value=0.0, description='Training', layout=Layout(flex='2'), max=1125.0, style=Pro…"
      ]
     },
     "metadata": {},
     "output_type": "display_data"
    },
    {
     "name": "stdout",
     "output_type": "stream",
     "text": [
      "Epoch 311: train=0.990247, val=0.974106, took 37.185 s\n"
     ]
    },
    {
     "data": {
      "application/vnd.jupyter.widget-view+json": {
       "model_id": "",
       "version_major": 2,
       "version_minor": 0
      },
      "text/plain": [
       "HBox(children=(FloatProgress(value=0.0, description='Training', layout=Layout(flex='2'), max=1125.0, style=Pro…"
      ]
     },
     "metadata": {},
     "output_type": "display_data"
    },
    {
     "name": "stdout",
     "output_type": "stream",
     "text": [
      "Epoch 312: train=0.986458, val=0.972072, took 37.014 s\n"
     ]
    },
    {
     "data": {
      "application/vnd.jupyter.widget-view+json": {
       "model_id": "",
       "version_major": 2,
       "version_minor": 0
      },
      "text/plain": [
       "HBox(children=(FloatProgress(value=0.0, description='Training', layout=Layout(flex='2'), max=1125.0, style=Pro…"
      ]
     },
     "metadata": {},
     "output_type": "display_data"
    },
    {
     "name": "stdout",
     "output_type": "stream",
     "text": [
      "Epoch 313: train=0.985865, val=0.970806, took 37.247 s\n"
     ]
    },
    {
     "data": {
      "application/vnd.jupyter.widget-view+json": {
       "model_id": "",
       "version_major": 2,
       "version_minor": 0
      },
      "text/plain": [
       "HBox(children=(FloatProgress(value=0.0, description='Training', layout=Layout(flex='2'), max=1125.0, style=Pro…"
      ]
     },
     "metadata": {},
     "output_type": "display_data"
    },
    {
     "name": "stdout",
     "output_type": "stream",
     "text": [
      "Epoch 314: train=0.989059, val=0.979982, took 37.032 s\n"
     ]
    },
    {
     "data": {
      "application/vnd.jupyter.widget-view+json": {
       "model_id": "",
       "version_major": 2,
       "version_minor": 0
      },
      "text/plain": [
       "HBox(children=(FloatProgress(value=0.0, description='Training', layout=Layout(flex='2'), max=1125.0, style=Pro…"
      ]
     },
     "metadata": {},
     "output_type": "display_data"
    },
    {
     "name": "stdout",
     "output_type": "stream",
     "text": [
      "Epoch 315: train=0.993479, val=1.0003, took 37.09 s\n"
     ]
    },
    {
     "data": {
      "application/vnd.jupyter.widget-view+json": {
       "model_id": "",
       "version_major": 2,
       "version_minor": 0
      },
      "text/plain": [
       "HBox(children=(FloatProgress(value=0.0, description='Training', layout=Layout(flex='2'), max=1125.0, style=Pro…"
      ]
     },
     "metadata": {},
     "output_type": "display_data"
    },
    {
     "name": "stdout",
     "output_type": "stream",
     "text": [
      "Epoch 316: train=0.990661, val=0.972586, took 37.16 s\n"
     ]
    },
    {
     "data": {
      "application/vnd.jupyter.widget-view+json": {
       "model_id": "",
       "version_major": 2,
       "version_minor": 0
      },
      "text/plain": [
       "HBox(children=(FloatProgress(value=0.0, description='Training', layout=Layout(flex='2'), max=1125.0, style=Pro…"
      ]
     },
     "metadata": {},
     "output_type": "display_data"
    },
    {
     "name": "stdout",
     "output_type": "stream",
     "text": [
      "Epoch 317: train=0.98331, val=1.0808, took 36.976 s\n"
     ]
    },
    {
     "data": {
      "application/vnd.jupyter.widget-view+json": {
       "model_id": "",
       "version_major": 2,
       "version_minor": 0
      },
      "text/plain": [
       "HBox(children=(FloatProgress(value=0.0, description='Training', layout=Layout(flex='2'), max=1125.0, style=Pro…"
      ]
     },
     "metadata": {},
     "output_type": "display_data"
    },
    {
     "name": "stdout",
     "output_type": "stream",
     "text": [
      "Epoch 318: train=0.991961, val=0.972689, took 37.122 s\n"
     ]
    },
    {
     "data": {
      "application/vnd.jupyter.widget-view+json": {
       "model_id": "",
       "version_major": 2,
       "version_minor": 0
      },
      "text/plain": [
       "HBox(children=(FloatProgress(value=0.0, description='Training', layout=Layout(flex='2'), max=1125.0, style=Pro…"
      ]
     },
     "metadata": {},
     "output_type": "display_data"
    },
    {
     "name": "stdout",
     "output_type": "stream",
     "text": [
      "Epoch 319: train=0.991911, val=0.973563, took 36.892 s\n"
     ]
    },
    {
     "data": {
      "application/vnd.jupyter.widget-view+json": {
       "model_id": "",
       "version_major": 2,
       "version_minor": 0
      },
      "text/plain": [
       "HBox(children=(FloatProgress(value=0.0, description='Training', layout=Layout(flex='2'), max=1125.0, style=Pro…"
      ]
     },
     "metadata": {},
     "output_type": "display_data"
    },
    {
     "name": "stdout",
     "output_type": "stream",
     "text": [
      "Epoch 320: train=0.989159, val=0.970432, took 36.904 s\n"
     ]
    },
    {
     "data": {
      "application/vnd.jupyter.widget-view+json": {
       "model_id": "",
       "version_major": 2,
       "version_minor": 0
      },
      "text/plain": [
       "HBox(children=(FloatProgress(value=0.0, description='Training', layout=Layout(flex='2'), max=1125.0, style=Pro…"
      ]
     },
     "metadata": {},
     "output_type": "display_data"
    },
    {
     "name": "stdout",
     "output_type": "stream",
     "text": [
      "Epoch 321: train=0.981828, val=1.00685, took 37.203 s\n"
     ]
    },
    {
     "data": {
      "application/vnd.jupyter.widget-view+json": {
       "model_id": "",
       "version_major": 2,
       "version_minor": 0
      },
      "text/plain": [
       "HBox(children=(FloatProgress(value=0.0, description='Training', layout=Layout(flex='2'), max=1125.0, style=Pro…"
      ]
     },
     "metadata": {},
     "output_type": "display_data"
    },
    {
     "name": "stdout",
     "output_type": "stream",
     "text": [
      "Epoch 322: train=0.989708, val=1.00053, took 36.954 s\n"
     ]
    },
    {
     "data": {
      "application/vnd.jupyter.widget-view+json": {
       "model_id": "",
       "version_major": 2,
       "version_minor": 0
      },
      "text/plain": [
       "HBox(children=(FloatProgress(value=0.0, description='Training', layout=Layout(flex='2'), max=1125.0, style=Pro…"
      ]
     },
     "metadata": {},
     "output_type": "display_data"
    },
    {
     "name": "stdout",
     "output_type": "stream",
     "text": [
      "Epoch 323: train=0.989529, val=1.02903, took 36.885 s\n"
     ]
    },
    {
     "data": {
      "application/vnd.jupyter.widget-view+json": {
       "model_id": "",
       "version_major": 2,
       "version_minor": 0
      },
      "text/plain": [
       "HBox(children=(FloatProgress(value=0.0, description='Training', layout=Layout(flex='2'), max=1125.0, style=Pro…"
      ]
     },
     "metadata": {},
     "output_type": "display_data"
    },
    {
     "name": "stdout",
     "output_type": "stream",
     "text": [
      "Epoch 324: train=0.989416, val=0.989302, took 37.168 s\n"
     ]
    },
    {
     "data": {
      "application/vnd.jupyter.widget-view+json": {
       "model_id": "",
       "version_major": 2,
       "version_minor": 0
      },
      "text/plain": [
       "HBox(children=(FloatProgress(value=0.0, description='Training', layout=Layout(flex='2'), max=1125.0, style=Pro…"
      ]
     },
     "metadata": {},
     "output_type": "display_data"
    },
    {
     "name": "stdout",
     "output_type": "stream",
     "text": [
      "Epoch 325: train=0.989875, val=0.981237, took 37.056 s\n"
     ]
    },
    {
     "data": {
      "application/vnd.jupyter.widget-view+json": {
       "model_id": "",
       "version_major": 2,
       "version_minor": 0
      },
      "text/plain": [
       "HBox(children=(FloatProgress(value=0.0, description='Training', layout=Layout(flex='2'), max=1125.0, style=Pro…"
      ]
     },
     "metadata": {},
     "output_type": "display_data"
    },
    {
     "name": "stdout",
     "output_type": "stream",
     "text": [
      "Epoch 326: train=0.986933, val=0.98068, took 36.954 s\n"
     ]
    },
    {
     "data": {
      "application/vnd.jupyter.widget-view+json": {
       "model_id": "",
       "version_major": 2,
       "version_minor": 0
      },
      "text/plain": [
       "HBox(children=(FloatProgress(value=0.0, description='Training', layout=Layout(flex='2'), max=1125.0, style=Pro…"
      ]
     },
     "metadata": {},
     "output_type": "display_data"
    },
    {
     "name": "stdout",
     "output_type": "stream",
     "text": [
      "Epoch 327: train=0.98723, val=0.979666, took 37.062 s\n"
     ]
    },
    {
     "data": {
      "application/vnd.jupyter.widget-view+json": {
       "model_id": "",
       "version_major": 2,
       "version_minor": 0
      },
      "text/plain": [
       "HBox(children=(FloatProgress(value=0.0, description='Training', layout=Layout(flex='2'), max=1125.0, style=Pro…"
      ]
     },
     "metadata": {},
     "output_type": "display_data"
    },
    {
     "name": "stdout",
     "output_type": "stream",
     "text": [
      "Epoch 328: train=0.988379, val=0.993111, took 36.936 s\n"
     ]
    },
    {
     "data": {
      "application/vnd.jupyter.widget-view+json": {
       "model_id": "",
       "version_major": 2,
       "version_minor": 0
      },
      "text/plain": [
       "HBox(children=(FloatProgress(value=0.0, description='Training', layout=Layout(flex='2'), max=1125.0, style=Pro…"
      ]
     },
     "metadata": {},
     "output_type": "display_data"
    },
    {
     "name": "stdout",
     "output_type": "stream",
     "text": [
      "Epoch 329: train=0.989666, val=0.977009, took 37.393 s\n"
     ]
    },
    {
     "data": {
      "application/vnd.jupyter.widget-view+json": {
       "model_id": "",
       "version_major": 2,
       "version_minor": 0
      },
      "text/plain": [
       "HBox(children=(FloatProgress(value=0.0, description='Training', layout=Layout(flex='2'), max=1125.0, style=Pro…"
      ]
     },
     "metadata": {},
     "output_type": "display_data"
    },
    {
     "name": "stdout",
     "output_type": "stream",
     "text": [
      "Epoch 330: train=0.994064, val=0.973334, took 37.293 s\n"
     ]
    },
    {
     "data": {
      "application/vnd.jupyter.widget-view+json": {
       "model_id": "",
       "version_major": 2,
       "version_minor": 0
      },
      "text/plain": [
       "HBox(children=(FloatProgress(value=0.0, description='Training', layout=Layout(flex='2'), max=1125.0, style=Pro…"
      ]
     },
     "metadata": {},
     "output_type": "display_data"
    },
    {
     "name": "stdout",
     "output_type": "stream",
     "text": [
      "Epoch 331: train=0.984013, val=0.993588, took 37.134 s\n"
     ]
    },
    {
     "data": {
      "application/vnd.jupyter.widget-view+json": {
       "model_id": "",
       "version_major": 2,
       "version_minor": 0
      },
      "text/plain": [
       "HBox(children=(FloatProgress(value=0.0, description='Training', layout=Layout(flex='2'), max=1125.0, style=Pro…"
      ]
     },
     "metadata": {},
     "output_type": "display_data"
    },
    {
     "name": "stdout",
     "output_type": "stream",
     "text": [
      "Epoch 332: train=0.989232, val=0.977899, took 37.123 s\n"
     ]
    },
    {
     "data": {
      "application/vnd.jupyter.widget-view+json": {
       "model_id": "",
       "version_major": 2,
       "version_minor": 0
      },
      "text/plain": [
       "HBox(children=(FloatProgress(value=0.0, description='Training', layout=Layout(flex='2'), max=1125.0, style=Pro…"
      ]
     },
     "metadata": {},
     "output_type": "display_data"
    },
    {
     "name": "stdout",
     "output_type": "stream",
     "text": [
      "Epoch 333: train=0.981692, val=0.982584, took 36.987 s\n"
     ]
    },
    {
     "data": {
      "application/vnd.jupyter.widget-view+json": {
       "model_id": "",
       "version_major": 2,
       "version_minor": 0
      },
      "text/plain": [
       "HBox(children=(FloatProgress(value=0.0, description='Training', layout=Layout(flex='2'), max=1125.0, style=Pro…"
      ]
     },
     "metadata": {},
     "output_type": "display_data"
    },
    {
     "name": "stdout",
     "output_type": "stream",
     "text": [
      "Epoch 334: train=0.987876, val=0.976379, took 36.919 s\n"
     ]
    },
    {
     "data": {
      "application/vnd.jupyter.widget-view+json": {
       "model_id": "",
       "version_major": 2,
       "version_minor": 0
      },
      "text/plain": [
       "HBox(children=(FloatProgress(value=0.0, description='Training', layout=Layout(flex='2'), max=1125.0, style=Pro…"
      ]
     },
     "metadata": {},
     "output_type": "display_data"
    },
    {
     "name": "stdout",
     "output_type": "stream",
     "text": [
      "Epoch 335: train=0.987489, val=0.973327, took 37.013 s\n"
     ]
    },
    {
     "data": {
      "application/vnd.jupyter.widget-view+json": {
       "model_id": "",
       "version_major": 2,
       "version_minor": 0
      },
      "text/plain": [
       "HBox(children=(FloatProgress(value=0.0, description='Training', layout=Layout(flex='2'), max=1125.0, style=Pro…"
      ]
     },
     "metadata": {},
     "output_type": "display_data"
    },
    {
     "name": "stdout",
     "output_type": "stream",
     "text": [
      "Epoch 336: train=0.994629, val=1.00882, took 37.002 s\n"
     ]
    },
    {
     "data": {
      "application/vnd.jupyter.widget-view+json": {
       "model_id": "",
       "version_major": 2,
       "version_minor": 0
      },
      "text/plain": [
       "HBox(children=(FloatProgress(value=0.0, description='Training', layout=Layout(flex='2'), max=1125.0, style=Pro…"
      ]
     },
     "metadata": {},
     "output_type": "display_data"
    },
    {
     "name": "stdout",
     "output_type": "stream",
     "text": [
      "Epoch 337: train=0.989533, val=1.05667, took 36.882 s\n"
     ]
    },
    {
     "data": {
      "application/vnd.jupyter.widget-view+json": {
       "model_id": "",
       "version_major": 2,
       "version_minor": 0
      },
      "text/plain": [
       "HBox(children=(FloatProgress(value=0.0, description='Training', layout=Layout(flex='2'), max=1125.0, style=Pro…"
      ]
     },
     "metadata": {},
     "output_type": "display_data"
    },
    {
     "name": "stdout",
     "output_type": "stream",
     "text": [
      "Epoch 338: train=0.988865, val=0.977525, took 37.098 s\n"
     ]
    },
    {
     "data": {
      "application/vnd.jupyter.widget-view+json": {
       "model_id": "",
       "version_major": 2,
       "version_minor": 0
      },
      "text/plain": [
       "HBox(children=(FloatProgress(value=0.0, description='Training', layout=Layout(flex='2'), max=1125.0, style=Pro…"
      ]
     },
     "metadata": {},
     "output_type": "display_data"
    },
    {
     "name": "stdout",
     "output_type": "stream",
     "text": [
      "Epoch 339: train=0.984485, val=0.980085, took 36.85 s\n"
     ]
    },
    {
     "data": {
      "application/vnd.jupyter.widget-view+json": {
       "model_id": "",
       "version_major": 2,
       "version_minor": 0
      },
      "text/plain": [
       "HBox(children=(FloatProgress(value=0.0, description='Training', layout=Layout(flex='2'), max=1125.0, style=Pro…"
      ]
     },
     "metadata": {},
     "output_type": "display_data"
    },
    {
     "name": "stdout",
     "output_type": "stream",
     "text": [
      "Epoch 340: train=0.991829, val=0.980355, took 36.865 s\n"
     ]
    },
    {
     "data": {
      "application/vnd.jupyter.widget-view+json": {
       "model_id": "",
       "version_major": 2,
       "version_minor": 0
      },
      "text/plain": [
       "HBox(children=(FloatProgress(value=0.0, description='Training', layout=Layout(flex='2'), max=1125.0, style=Pro…"
      ]
     },
     "metadata": {},
     "output_type": "display_data"
    },
    {
     "name": "stdout",
     "output_type": "stream",
     "text": [
      "Epoch 341: train=0.991482, val=0.973303, took 36.771 s\n"
     ]
    },
    {
     "data": {
      "application/vnd.jupyter.widget-view+json": {
       "model_id": "",
       "version_major": 2,
       "version_minor": 0
      },
      "text/plain": [
       "HBox(children=(FloatProgress(value=0.0, description='Training', layout=Layout(flex='2'), max=1125.0, style=Pro…"
      ]
     },
     "metadata": {},
     "output_type": "display_data"
    },
    {
     "name": "stdout",
     "output_type": "stream",
     "text": [
      "Epoch 342: train=0.985079, val=0.975807, took 36.781 s\n"
     ]
    },
    {
     "data": {
      "application/vnd.jupyter.widget-view+json": {
       "model_id": "",
       "version_major": 2,
       "version_minor": 0
      },
      "text/plain": [
       "HBox(children=(FloatProgress(value=0.0, description='Training', layout=Layout(flex='2'), max=1125.0, style=Pro…"
      ]
     },
     "metadata": {},
     "output_type": "display_data"
    },
    {
     "name": "stdout",
     "output_type": "stream",
     "text": [
      "Epoch 343: train=0.990224, val=0.976308, took 36.747 s\n"
     ]
    },
    {
     "data": {
      "application/vnd.jupyter.widget-view+json": {
       "model_id": "",
       "version_major": 2,
       "version_minor": 0
      },
      "text/plain": [
       "HBox(children=(FloatProgress(value=0.0, description='Training', layout=Layout(flex='2'), max=1125.0, style=Pro…"
      ]
     },
     "metadata": {},
     "output_type": "display_data"
    },
    {
     "name": "stdout",
     "output_type": "stream",
     "text": [
      "Epoch 344: train=0.987557, val=1.01129, took 36.721 s\n"
     ]
    },
    {
     "data": {
      "application/vnd.jupyter.widget-view+json": {
       "model_id": "",
       "version_major": 2,
       "version_minor": 0
      },
      "text/plain": [
       "HBox(children=(FloatProgress(value=0.0, description='Training', layout=Layout(flex='2'), max=1125.0, style=Pro…"
      ]
     },
     "metadata": {},
     "output_type": "display_data"
    },
    {
     "name": "stdout",
     "output_type": "stream",
     "text": [
      "Epoch 345: train=0.987046, val=0.969464, took 36.971 s\n"
     ]
    },
    {
     "data": {
      "application/vnd.jupyter.widget-view+json": {
       "model_id": "",
       "version_major": 2,
       "version_minor": 0
      },
      "text/plain": [
       "HBox(children=(FloatProgress(value=0.0, description='Training', layout=Layout(flex='2'), max=1125.0, style=Pro…"
      ]
     },
     "metadata": {},
     "output_type": "display_data"
    },
    {
     "name": "stdout",
     "output_type": "stream",
     "text": [
      "Epoch 346: train=0.986679, val=0.982988, took 36.876 s\n"
     ]
    },
    {
     "data": {
      "application/vnd.jupyter.widget-view+json": {
       "model_id": "",
       "version_major": 2,
       "version_minor": 0
      },
      "text/plain": [
       "HBox(children=(FloatProgress(value=0.0, description='Training', layout=Layout(flex='2'), max=1125.0, style=Pro…"
      ]
     },
     "metadata": {},
     "output_type": "display_data"
    },
    {
     "name": "stdout",
     "output_type": "stream",
     "text": [
      "Epoch 347: train=0.984768, val=1.00846, took 36.82 s\n"
     ]
    },
    {
     "data": {
      "application/vnd.jupyter.widget-view+json": {
       "model_id": "",
       "version_major": 2,
       "version_minor": 0
      },
      "text/plain": [
       "HBox(children=(FloatProgress(value=0.0, description='Training', layout=Layout(flex='2'), max=1125.0, style=Pro…"
      ]
     },
     "metadata": {},
     "output_type": "display_data"
    },
    {
     "name": "stdout",
     "output_type": "stream",
     "text": [
      "Epoch 348: train=0.988729, val=0.978756, took 36.985 s\n"
     ]
    },
    {
     "data": {
      "application/vnd.jupyter.widget-view+json": {
       "model_id": "",
       "version_major": 2,
       "version_minor": 0
      },
      "text/plain": [
       "HBox(children=(FloatProgress(value=0.0, description='Training', layout=Layout(flex='2'), max=1125.0, style=Pro…"
      ]
     },
     "metadata": {},
     "output_type": "display_data"
    },
    {
     "name": "stdout",
     "output_type": "stream",
     "text": [
      "Epoch 349: train=0.988078, val=1.04769, took 36.774 s\n"
     ]
    },
    {
     "data": {
      "application/vnd.jupyter.widget-view+json": {
       "model_id": "",
       "version_major": 2,
       "version_minor": 0
      },
      "text/plain": [
       "HBox(children=(FloatProgress(value=0.0, description='Training', layout=Layout(flex='2'), max=1125.0, style=Pro…"
      ]
     },
     "metadata": {},
     "output_type": "display_data"
    },
    {
     "name": "stdout",
     "output_type": "stream",
     "text": [
      "Epoch 350: train=0.986492, val=0.980046, took 36.652 s\n"
     ]
    },
    {
     "data": {
      "application/vnd.jupyter.widget-view+json": {
       "model_id": "",
       "version_major": 2,
       "version_minor": 0
      },
      "text/plain": [
       "HBox(children=(FloatProgress(value=0.0, description='Training', layout=Layout(flex='2'), max=1125.0, style=Pro…"
      ]
     },
     "metadata": {},
     "output_type": "display_data"
    },
    {
     "name": "stdout",
     "output_type": "stream",
     "text": [
      "Epoch 351: train=0.989799, val=0.993575, took 36.978 s\n"
     ]
    },
    {
     "data": {
      "application/vnd.jupyter.widget-view+json": {
       "model_id": "",
       "version_major": 2,
       "version_minor": 0
      },
      "text/plain": [
       "HBox(children=(FloatProgress(value=0.0, description='Training', layout=Layout(flex='2'), max=1125.0, style=Pro…"
      ]
     },
     "metadata": {},
     "output_type": "display_data"
    },
    {
     "name": "stdout",
     "output_type": "stream",
     "text": [
      "Epoch 352: train=0.984878, val=0.979711, took 36.842 s\n"
     ]
    },
    {
     "data": {
      "application/vnd.jupyter.widget-view+json": {
       "model_id": "",
       "version_major": 2,
       "version_minor": 0
      },
      "text/plain": [
       "HBox(children=(FloatProgress(value=0.0, description='Training', layout=Layout(flex='2'), max=1125.0, style=Pro…"
      ]
     },
     "metadata": {},
     "output_type": "display_data"
    },
    {
     "name": "stdout",
     "output_type": "stream",
     "text": [
      "Epoch 353: train=0.984085, val=0.977277, took 36.743 s\n"
     ]
    },
    {
     "data": {
      "application/vnd.jupyter.widget-view+json": {
       "model_id": "",
       "version_major": 2,
       "version_minor": 0
      },
      "text/plain": [
       "HBox(children=(FloatProgress(value=0.0, description='Training', layout=Layout(flex='2'), max=1125.0, style=Pro…"
      ]
     },
     "metadata": {},
     "output_type": "display_data"
    },
    {
     "name": "stdout",
     "output_type": "stream",
     "text": [
      "Epoch 354: train=0.984609, val=0.989582, took 36.994 s\n"
     ]
    },
    {
     "data": {
      "application/vnd.jupyter.widget-view+json": {
       "model_id": "",
       "version_major": 2,
       "version_minor": 0
      },
      "text/plain": [
       "HBox(children=(FloatProgress(value=0.0, description='Training', layout=Layout(flex='2'), max=1125.0, style=Pro…"
      ]
     },
     "metadata": {},
     "output_type": "display_data"
    },
    {
     "name": "stdout",
     "output_type": "stream",
     "text": [
      "Epoch 355: train=0.992276, val=0.970309, took 36.722 s\n"
     ]
    },
    {
     "data": {
      "application/vnd.jupyter.widget-view+json": {
       "model_id": "",
       "version_major": 2,
       "version_minor": 0
      },
      "text/plain": [
       "HBox(children=(FloatProgress(value=0.0, description='Training', layout=Layout(flex='2'), max=1125.0, style=Pro…"
      ]
     },
     "metadata": {},
     "output_type": "display_data"
    },
    {
     "name": "stdout",
     "output_type": "stream",
     "text": [
      "Epoch 356: train=0.984069, val=0.973062, took 36.785 s\n"
     ]
    },
    {
     "data": {
      "application/vnd.jupyter.widget-view+json": {
       "model_id": "",
       "version_major": 2,
       "version_minor": 0
      },
      "text/plain": [
       "HBox(children=(FloatProgress(value=0.0, description='Training', layout=Layout(flex='2'), max=1125.0, style=Pro…"
      ]
     },
     "metadata": {},
     "output_type": "display_data"
    },
    {
     "name": "stdout",
     "output_type": "stream",
     "text": [
      "Epoch 357: train=0.989777, val=1.01569, took 36.679 s\n"
     ]
    },
    {
     "data": {
      "application/vnd.jupyter.widget-view+json": {
       "model_id": "",
       "version_major": 2,
       "version_minor": 0
      },
      "text/plain": [
       "HBox(children=(FloatProgress(value=0.0, description='Training', layout=Layout(flex='2'), max=1125.0, style=Pro…"
      ]
     },
     "metadata": {},
     "output_type": "display_data"
    },
    {
     "name": "stdout",
     "output_type": "stream",
     "text": [
      "Epoch 358: train=0.984339, val=0.973083, took 36.974 s\n"
     ]
    },
    {
     "data": {
      "application/vnd.jupyter.widget-view+json": {
       "model_id": "",
       "version_major": 2,
       "version_minor": 0
      },
      "text/plain": [
       "HBox(children=(FloatProgress(value=0.0, description='Training', layout=Layout(flex='2'), max=1125.0, style=Pro…"
      ]
     },
     "metadata": {},
     "output_type": "display_data"
    },
    {
     "name": "stdout",
     "output_type": "stream",
     "text": [
      "Epoch 359: train=0.988034, val=0.974947, took 36.865 s\n"
     ]
    },
    {
     "data": {
      "application/vnd.jupyter.widget-view+json": {
       "model_id": "",
       "version_major": 2,
       "version_minor": 0
      },
      "text/plain": [
       "HBox(children=(FloatProgress(value=0.0, description='Training', layout=Layout(flex='2'), max=1125.0, style=Pro…"
      ]
     },
     "metadata": {},
     "output_type": "display_data"
    },
    {
     "name": "stdout",
     "output_type": "stream",
     "text": [
      "Epoch 360: train=0.985607, val=0.988006, took 36.722 s\n"
     ]
    },
    {
     "data": {
      "application/vnd.jupyter.widget-view+json": {
       "model_id": "",
       "version_major": 2,
       "version_minor": 0
      },
      "text/plain": [
       "HBox(children=(FloatProgress(value=0.0, description='Training', layout=Layout(flex='2'), max=1125.0, style=Pro…"
      ]
     },
     "metadata": {},
     "output_type": "display_data"
    },
    {
     "name": "stdout",
     "output_type": "stream",
     "text": [
      "Epoch 361: train=0.981991, val=0.97349, took 36.651 s\n"
     ]
    },
    {
     "data": {
      "application/vnd.jupyter.widget-view+json": {
       "model_id": "",
       "version_major": 2,
       "version_minor": 0
      },
      "text/plain": [
       "HBox(children=(FloatProgress(value=0.0, description='Training', layout=Layout(flex='2'), max=1125.0, style=Pro…"
      ]
     },
     "metadata": {},
     "output_type": "display_data"
    },
    {
     "name": "stdout",
     "output_type": "stream",
     "text": [
      "Epoch 362: train=0.982404, val=1.02691, took 36.813 s\n"
     ]
    },
    {
     "data": {
      "application/vnd.jupyter.widget-view+json": {
       "model_id": "",
       "version_major": 2,
       "version_minor": 0
      },
      "text/plain": [
       "HBox(children=(FloatProgress(value=0.0, description='Training', layout=Layout(flex='2'), max=1125.0, style=Pro…"
      ]
     },
     "metadata": {},
     "output_type": "display_data"
    },
    {
     "name": "stdout",
     "output_type": "stream",
     "text": [
      "Epoch 363: train=0.989849, val=0.974367, took 36.883 s\n"
     ]
    },
    {
     "data": {
      "application/vnd.jupyter.widget-view+json": {
       "model_id": "",
       "version_major": 2,
       "version_minor": 0
      },
      "text/plain": [
       "HBox(children=(FloatProgress(value=0.0, description='Training', layout=Layout(flex='2'), max=1125.0, style=Pro…"
      ]
     },
     "metadata": {},
     "output_type": "display_data"
    },
    {
     "name": "stdout",
     "output_type": "stream",
     "text": [
      "Epoch 364: train=0.982449, val=0.977993, took 36.797 s\n"
     ]
    },
    {
     "data": {
      "application/vnd.jupyter.widget-view+json": {
       "model_id": "",
       "version_major": 2,
       "version_minor": 0
      },
      "text/plain": [
       "HBox(children=(FloatProgress(value=0.0, description='Training', layout=Layout(flex='2'), max=1125.0, style=Pro…"
      ]
     },
     "metadata": {},
     "output_type": "display_data"
    },
    {
     "name": "stdout",
     "output_type": "stream",
     "text": [
      "Epoch 365: train=0.986808, val=1.02964, took 36.647 s\n"
     ]
    },
    {
     "data": {
      "application/vnd.jupyter.widget-view+json": {
       "model_id": "",
       "version_major": 2,
       "version_minor": 0
      },
      "text/plain": [
       "HBox(children=(FloatProgress(value=0.0, description='Training', layout=Layout(flex='2'), max=1125.0, style=Pro…"
      ]
     },
     "metadata": {},
     "output_type": "display_data"
    },
    {
     "name": "stdout",
     "output_type": "stream",
     "text": [
      "Epoch 366: train=1.0007, val=0.979971, took 36.863 s\n"
     ]
    },
    {
     "data": {
      "application/vnd.jupyter.widget-view+json": {
       "model_id": "",
       "version_major": 2,
       "version_minor": 0
      },
      "text/plain": [
       "HBox(children=(FloatProgress(value=0.0, description='Training', layout=Layout(flex='2'), max=1125.0, style=Pro…"
      ]
     },
     "metadata": {},
     "output_type": "display_data"
    },
    {
     "name": "stdout",
     "output_type": "stream",
     "text": [
      "Epoch 367: train=0.986862, val=1.03507, took 36.856 s\n"
     ]
    },
    {
     "data": {
      "application/vnd.jupyter.widget-view+json": {
       "model_id": "",
       "version_major": 2,
       "version_minor": 0
      },
      "text/plain": [
       "HBox(children=(FloatProgress(value=0.0, description='Training', layout=Layout(flex='2'), max=1125.0, style=Pro…"
      ]
     },
     "metadata": {},
     "output_type": "display_data"
    },
    {
     "name": "stdout",
     "output_type": "stream",
     "text": [
      "Epoch 368: train=0.982634, val=1.01404, took 36.734 s\n"
     ]
    },
    {
     "data": {
      "application/vnd.jupyter.widget-view+json": {
       "model_id": "",
       "version_major": 2,
       "version_minor": 0
      },
      "text/plain": [
       "HBox(children=(FloatProgress(value=0.0, description='Training', layout=Layout(flex='2'), max=1125.0, style=Pro…"
      ]
     },
     "metadata": {},
     "output_type": "display_data"
    },
    {
     "name": "stdout",
     "output_type": "stream",
     "text": [
      "Epoch 369: train=0.988937, val=0.979519, took 36.957 s\n"
     ]
    },
    {
     "data": {
      "application/vnd.jupyter.widget-view+json": {
       "model_id": "",
       "version_major": 2,
       "version_minor": 0
      },
      "text/plain": [
       "HBox(children=(FloatProgress(value=0.0, description='Training', layout=Layout(flex='2'), max=1125.0, style=Pro…"
      ]
     },
     "metadata": {},
     "output_type": "display_data"
    },
    {
     "name": "stdout",
     "output_type": "stream",
     "text": [
      "Epoch 370: train=0.984137, val=0.968191, took 36.803 s\n"
     ]
    },
    {
     "data": {
      "application/vnd.jupyter.widget-view+json": {
       "model_id": "",
       "version_major": 2,
       "version_minor": 0
      },
      "text/plain": [
       "HBox(children=(FloatProgress(value=0.0, description='Training', layout=Layout(flex='2'), max=1125.0, style=Pro…"
      ]
     },
     "metadata": {},
     "output_type": "display_data"
    },
    {
     "name": "stdout",
     "output_type": "stream",
     "text": [
      "Epoch 371: train=0.985448, val=0.974314, took 36.705 s\n"
     ]
    },
    {
     "data": {
      "application/vnd.jupyter.widget-view+json": {
       "model_id": "",
       "version_major": 2,
       "version_minor": 0
      },
      "text/plain": [
       "HBox(children=(FloatProgress(value=0.0, description='Training', layout=Layout(flex='2'), max=1125.0, style=Pro…"
      ]
     },
     "metadata": {},
     "output_type": "display_data"
    },
    {
     "name": "stdout",
     "output_type": "stream",
     "text": [
      "Epoch 372: train=0.983911, val=1.029, took 36.803 s\n"
     ]
    },
    {
     "data": {
      "application/vnd.jupyter.widget-view+json": {
       "model_id": "",
       "version_major": 2,
       "version_minor": 0
      },
      "text/plain": [
       "HBox(children=(FloatProgress(value=0.0, description='Training', layout=Layout(flex='2'), max=1125.0, style=Pro…"
      ]
     },
     "metadata": {},
     "output_type": "display_data"
    },
    {
     "name": "stdout",
     "output_type": "stream",
     "text": [
      "Epoch 373: train=0.983247, val=0.971129, took 36.97 s\n"
     ]
    },
    {
     "data": {
      "application/vnd.jupyter.widget-view+json": {
       "model_id": "",
       "version_major": 2,
       "version_minor": 0
      },
      "text/plain": [
       "HBox(children=(FloatProgress(value=0.0, description='Training', layout=Layout(flex='2'), max=1125.0, style=Pro…"
      ]
     },
     "metadata": {},
     "output_type": "display_data"
    },
    {
     "name": "stdout",
     "output_type": "stream",
     "text": [
      "Epoch 374: train=0.986189, val=0.996699, took 36.793 s\n"
     ]
    },
    {
     "data": {
      "application/vnd.jupyter.widget-view+json": {
       "model_id": "",
       "version_major": 2,
       "version_minor": 0
      },
      "text/plain": [
       "HBox(children=(FloatProgress(value=0.0, description='Training', layout=Layout(flex='2'), max=1125.0, style=Pro…"
      ]
     },
     "metadata": {},
     "output_type": "display_data"
    },
    {
     "name": "stdout",
     "output_type": "stream",
     "text": [
      "Epoch 375: train=0.996179, val=0.972855, took 36.64 s\n"
     ]
    },
    {
     "data": {
      "application/vnd.jupyter.widget-view+json": {
       "model_id": "",
       "version_major": 2,
       "version_minor": 0
      },
      "text/plain": [
       "HBox(children=(FloatProgress(value=0.0, description='Training', layout=Layout(flex='2'), max=1125.0, style=Pro…"
      ]
     },
     "metadata": {},
     "output_type": "display_data"
    },
    {
     "name": "stdout",
     "output_type": "stream",
     "text": [
      "Epoch 376: train=0.98588, val=1.00851, took 36.694 s\n"
     ]
    },
    {
     "data": {
      "application/vnd.jupyter.widget-view+json": {
       "model_id": "",
       "version_major": 2,
       "version_minor": 0
      },
      "text/plain": [
       "HBox(children=(FloatProgress(value=0.0, description='Training', layout=Layout(flex='2'), max=1125.0, style=Pro…"
      ]
     },
     "metadata": {},
     "output_type": "display_data"
    },
    {
     "name": "stdout",
     "output_type": "stream",
     "text": [
      "Epoch 377: train=0.978979, val=0.997283, took 36.923 s\n"
     ]
    },
    {
     "data": {
      "application/vnd.jupyter.widget-view+json": {
       "model_id": "",
       "version_major": 2,
       "version_minor": 0
      },
      "text/plain": [
       "HBox(children=(FloatProgress(value=0.0, description='Training', layout=Layout(flex='2'), max=1125.0, style=Pro…"
      ]
     },
     "metadata": {},
     "output_type": "display_data"
    },
    {
     "name": "stdout",
     "output_type": "stream",
     "text": [
      "Epoch 378: train=0.993017, val=0.971335, took 36.853 s\n"
     ]
    },
    {
     "data": {
      "application/vnd.jupyter.widget-view+json": {
       "model_id": "",
       "version_major": 2,
       "version_minor": 0
      },
      "text/plain": [
       "HBox(children=(FloatProgress(value=0.0, description='Training', layout=Layout(flex='2'), max=1125.0, style=Pro…"
      ]
     },
     "metadata": {},
     "output_type": "display_data"
    },
    {
     "name": "stdout",
     "output_type": "stream",
     "text": [
      "Epoch 379: train=0.98697, val=0.982924, took 36.672 s\n"
     ]
    },
    {
     "data": {
      "application/vnd.jupyter.widget-view+json": {
       "model_id": "",
       "version_major": 2,
       "version_minor": 0
      },
      "text/plain": [
       "HBox(children=(FloatProgress(value=0.0, description='Training', layout=Layout(flex='2'), max=1125.0, style=Pro…"
      ]
     },
     "metadata": {},
     "output_type": "display_data"
    },
    {
     "name": "stdout",
     "output_type": "stream",
     "text": [
      "Epoch 380: train=0.982881, val=0.988694, took 36.86 s\n"
     ]
    },
    {
     "data": {
      "application/vnd.jupyter.widget-view+json": {
       "model_id": "",
       "version_major": 2,
       "version_minor": 0
      },
      "text/plain": [
       "HBox(children=(FloatProgress(value=0.0, description='Training', layout=Layout(flex='2'), max=1125.0, style=Pro…"
      ]
     },
     "metadata": {},
     "output_type": "display_data"
    },
    {
     "name": "stdout",
     "output_type": "stream",
     "text": [
      "Epoch 381: train=0.978938, val=0.978218, took 36.732 s\n"
     ]
    },
    {
     "data": {
      "application/vnd.jupyter.widget-view+json": {
       "model_id": "",
       "version_major": 2,
       "version_minor": 0
      },
      "text/plain": [
       "HBox(children=(FloatProgress(value=0.0, description='Training', layout=Layout(flex='2'), max=1125.0, style=Pro…"
      ]
     },
     "metadata": {},
     "output_type": "display_data"
    },
    {
     "name": "stdout",
     "output_type": "stream",
     "text": [
      "Epoch 382: train=0.985307, val=0.972925, took 36.843 s\n"
     ]
    },
    {
     "data": {
      "application/vnd.jupyter.widget-view+json": {
       "model_id": "",
       "version_major": 2,
       "version_minor": 0
      },
      "text/plain": [
       "HBox(children=(FloatProgress(value=0.0, description='Training', layout=Layout(flex='2'), max=1125.0, style=Pro…"
      ]
     },
     "metadata": {},
     "output_type": "display_data"
    },
    {
     "name": "stdout",
     "output_type": "stream",
     "text": [
      "Epoch 383: train=0.986116, val=0.980997, took 36.994 s\n"
     ]
    },
    {
     "data": {
      "application/vnd.jupyter.widget-view+json": {
       "model_id": "",
       "version_major": 2,
       "version_minor": 0
      },
      "text/plain": [
       "HBox(children=(FloatProgress(value=0.0, description='Training', layout=Layout(flex='2'), max=1125.0, style=Pro…"
      ]
     },
     "metadata": {},
     "output_type": "display_data"
    },
    {
     "name": "stdout",
     "output_type": "stream",
     "text": [
      "Epoch 384: train=0.983168, val=1.00222, took 36.798 s\n"
     ]
    },
    {
     "data": {
      "application/vnd.jupyter.widget-view+json": {
       "model_id": "",
       "version_major": 2,
       "version_minor": 0
      },
      "text/plain": [
       "HBox(children=(FloatProgress(value=0.0, description='Training', layout=Layout(flex='2'), max=1125.0, style=Pro…"
      ]
     },
     "metadata": {},
     "output_type": "display_data"
    },
    {
     "name": "stdout",
     "output_type": "stream",
     "text": [
      "Epoch 385: train=0.989935, val=0.970345, took 36.796 s\n"
     ]
    },
    {
     "data": {
      "application/vnd.jupyter.widget-view+json": {
       "model_id": "",
       "version_major": 2,
       "version_minor": 0
      },
      "text/plain": [
       "HBox(children=(FloatProgress(value=0.0, description='Training', layout=Layout(flex='2'), max=1125.0, style=Pro…"
      ]
     },
     "metadata": {},
     "output_type": "display_data"
    },
    {
     "name": "stdout",
     "output_type": "stream",
     "text": [
      "Epoch 386: train=0.979932, val=0.97142, took 36.793 s\n"
     ]
    },
    {
     "data": {
      "application/vnd.jupyter.widget-view+json": {
       "model_id": "",
       "version_major": 2,
       "version_minor": 0
      },
      "text/plain": [
       "HBox(children=(FloatProgress(value=0.0, description='Training', layout=Layout(flex='2'), max=1125.0, style=Pro…"
      ]
     },
     "metadata": {},
     "output_type": "display_data"
    },
    {
     "name": "stdout",
     "output_type": "stream",
     "text": [
      "Epoch 387: train=0.9841, val=0.997749, took 36.689 s\n"
     ]
    },
    {
     "data": {
      "application/vnd.jupyter.widget-view+json": {
       "model_id": "",
       "version_major": 2,
       "version_minor": 0
      },
      "text/plain": [
       "HBox(children=(FloatProgress(value=0.0, description='Training', layout=Layout(flex='2'), max=1125.0, style=Pro…"
      ]
     },
     "metadata": {},
     "output_type": "display_data"
    },
    {
     "name": "stdout",
     "output_type": "stream",
     "text": [
      "Epoch 388: train=0.987195, val=0.974807, took 36.904 s\n"
     ]
    },
    {
     "data": {
      "application/vnd.jupyter.widget-view+json": {
       "model_id": "",
       "version_major": 2,
       "version_minor": 0
      },
      "text/plain": [
       "HBox(children=(FloatProgress(value=0.0, description='Training', layout=Layout(flex='2'), max=1125.0, style=Pro…"
      ]
     },
     "metadata": {},
     "output_type": "display_data"
    },
    {
     "name": "stdout",
     "output_type": "stream",
     "text": [
      "Epoch 389: train=0.979803, val=0.971603, took 36.684 s\n"
     ]
    },
    {
     "data": {
      "application/vnd.jupyter.widget-view+json": {
       "model_id": "",
       "version_major": 2,
       "version_minor": 0
      },
      "text/plain": [
       "HBox(children=(FloatProgress(value=0.0, description='Training', layout=Layout(flex='2'), max=1125.0, style=Pro…"
      ]
     },
     "metadata": {},
     "output_type": "display_data"
    },
    {
     "name": "stdout",
     "output_type": "stream",
     "text": [
      "Epoch 390: train=0.976978, val=0.985433, took 36.943 s\n"
     ]
    },
    {
     "data": {
      "application/vnd.jupyter.widget-view+json": {
       "model_id": "",
       "version_major": 2,
       "version_minor": 0
      },
      "text/plain": [
       "HBox(children=(FloatProgress(value=0.0, description='Training', layout=Layout(flex='2'), max=1125.0, style=Pro…"
      ]
     },
     "metadata": {},
     "output_type": "display_data"
    },
    {
     "name": "stdout",
     "output_type": "stream",
     "text": [
      "Epoch 391: train=0.985805, val=0.988885, took 36.72 s\n"
     ]
    },
    {
     "data": {
      "application/vnd.jupyter.widget-view+json": {
       "model_id": "",
       "version_major": 2,
       "version_minor": 0
      },
      "text/plain": [
       "HBox(children=(FloatProgress(value=0.0, description='Training', layout=Layout(flex='2'), max=1125.0, style=Pro…"
      ]
     },
     "metadata": {},
     "output_type": "display_data"
    },
    {
     "name": "stdout",
     "output_type": "stream",
     "text": [
      "Epoch 392: train=0.98771, val=0.971978, took 36.871 s\n"
     ]
    },
    {
     "data": {
      "application/vnd.jupyter.widget-view+json": {
       "model_id": "",
       "version_major": 2,
       "version_minor": 0
      },
      "text/plain": [
       "HBox(children=(FloatProgress(value=0.0, description='Training', layout=Layout(flex='2'), max=1125.0, style=Pro…"
      ]
     },
     "metadata": {},
     "output_type": "display_data"
    },
    {
     "name": "stdout",
     "output_type": "stream",
     "text": [
      "Epoch 393: train=0.989039, val=0.995197, took 36.639 s\n"
     ]
    },
    {
     "data": {
      "application/vnd.jupyter.widget-view+json": {
       "model_id": "",
       "version_major": 2,
       "version_minor": 0
      },
      "text/plain": [
       "HBox(children=(FloatProgress(value=0.0, description='Training', layout=Layout(flex='2'), max=1125.0, style=Pro…"
      ]
     },
     "metadata": {},
     "output_type": "display_data"
    },
    {
     "name": "stdout",
     "output_type": "stream",
     "text": [
      "Epoch 394: train=0.984182, val=0.968366, took 36.893 s\n"
     ]
    },
    {
     "data": {
      "application/vnd.jupyter.widget-view+json": {
       "model_id": "",
       "version_major": 2,
       "version_minor": 0
      },
      "text/plain": [
       "HBox(children=(FloatProgress(value=0.0, description='Training', layout=Layout(flex='2'), max=1125.0, style=Pro…"
      ]
     },
     "metadata": {},
     "output_type": "display_data"
    },
    {
     "name": "stdout",
     "output_type": "stream",
     "text": [
      "Epoch 395: train=0.984526, val=1.06594, took 36.839 s\n"
     ]
    },
    {
     "data": {
      "application/vnd.jupyter.widget-view+json": {
       "model_id": "",
       "version_major": 2,
       "version_minor": 0
      },
      "text/plain": [
       "HBox(children=(FloatProgress(value=0.0, description='Training', layout=Layout(flex='2'), max=1125.0, style=Pro…"
      ]
     },
     "metadata": {},
     "output_type": "display_data"
    },
    {
     "name": "stdout",
     "output_type": "stream",
     "text": [
      "Epoch 396: train=0.987451, val=0.984507, took 36.755 s\n"
     ]
    },
    {
     "data": {
      "application/vnd.jupyter.widget-view+json": {
       "model_id": "",
       "version_major": 2,
       "version_minor": 0
      },
      "text/plain": [
       "HBox(children=(FloatProgress(value=0.0, description='Training', layout=Layout(flex='2'), max=1125.0, style=Pro…"
      ]
     },
     "metadata": {},
     "output_type": "display_data"
    },
    {
     "name": "stdout",
     "output_type": "stream",
     "text": [
      "Epoch 397: train=0.981321, val=1.03379, took 36.619 s\n"
     ]
    },
    {
     "data": {
      "application/vnd.jupyter.widget-view+json": {
       "model_id": "",
       "version_major": 2,
       "version_minor": 0
      },
      "text/plain": [
       "HBox(children=(FloatProgress(value=0.0, description='Training', layout=Layout(flex='2'), max=1125.0, style=Pro…"
      ]
     },
     "metadata": {},
     "output_type": "display_data"
    },
    {
     "name": "stdout",
     "output_type": "stream",
     "text": [
      "Epoch 398: train=0.98091, val=0.977339, took 36.749 s\n"
     ]
    },
    {
     "data": {
      "application/vnd.jupyter.widget-view+json": {
       "model_id": "",
       "version_major": 2,
       "version_minor": 0
      },
      "text/plain": [
       "HBox(children=(FloatProgress(value=0.0, description='Training', layout=Layout(flex='2'), max=1125.0, style=Pro…"
      ]
     },
     "metadata": {},
     "output_type": "display_data"
    },
    {
     "name": "stdout",
     "output_type": "stream",
     "text": [
      "Epoch 399: train=0.986069, val=0.999351, took 36.667 s\n"
     ]
    },
    {
     "data": {
      "application/vnd.jupyter.widget-view+json": {
       "model_id": "",
       "version_major": 2,
       "version_minor": 0
      },
      "text/plain": [
       "HBox(children=(FloatProgress(value=0.0, description='Training', layout=Layout(flex='2'), max=1125.0, style=Pro…"
      ]
     },
     "metadata": {},
     "output_type": "display_data"
    },
    {
     "name": "stdout",
     "output_type": "stream",
     "text": [
      "Epoch 400: train=0.983041, val=0.979345, took 36.949 s\n"
     ]
    },
    {
     "data": {
      "application/vnd.jupyter.widget-view+json": {
       "model_id": "",
       "version_major": 2,
       "version_minor": 0
      },
      "text/plain": [
       "HBox(children=(FloatProgress(value=0.0, description='Training', layout=Layout(flex='2'), max=1125.0, style=Pro…"
      ]
     },
     "metadata": {},
     "output_type": "display_data"
    },
    {
     "name": "stdout",
     "output_type": "stream",
     "text": [
      "Epoch 401: train=0.98269, val=0.976464, took 36.734 s\n"
     ]
    },
    {
     "data": {
      "application/vnd.jupyter.widget-view+json": {
       "model_id": "",
       "version_major": 2,
       "version_minor": 0
      },
      "text/plain": [
       "HBox(children=(FloatProgress(value=0.0, description='Training', layout=Layout(flex='2'), max=1125.0, style=Pro…"
      ]
     },
     "metadata": {},
     "output_type": "display_data"
    },
    {
     "name": "stdout",
     "output_type": "stream",
     "text": [
      "Epoch 402: train=0.981871, val=0.971575, took 36.752 s\n"
     ]
    },
    {
     "data": {
      "application/vnd.jupyter.widget-view+json": {
       "model_id": "",
       "version_major": 2,
       "version_minor": 0
      },
      "text/plain": [
       "HBox(children=(FloatProgress(value=0.0, description='Training', layout=Layout(flex='2'), max=1125.0, style=Pro…"
      ]
     },
     "metadata": {},
     "output_type": "display_data"
    },
    {
     "name": "stdout",
     "output_type": "stream",
     "text": [
      "Epoch 403: train=0.983327, val=0.969951, took 36.732 s\n"
     ]
    },
    {
     "data": {
      "application/vnd.jupyter.widget-view+json": {
       "model_id": "",
       "version_major": 2,
       "version_minor": 0
      },
      "text/plain": [
       "HBox(children=(FloatProgress(value=0.0, description='Training', layout=Layout(flex='2'), max=1125.0, style=Pro…"
      ]
     },
     "metadata": {},
     "output_type": "display_data"
    },
    {
     "name": "stdout",
     "output_type": "stream",
     "text": [
      "Epoch 404: train=0.979977, val=0.969143, took 36.817 s\n"
     ]
    },
    {
     "data": {
      "application/vnd.jupyter.widget-view+json": {
       "model_id": "",
       "version_major": 2,
       "version_minor": 0
      },
      "text/plain": [
       "HBox(children=(FloatProgress(value=0.0, description='Training', layout=Layout(flex='2'), max=1125.0, style=Pro…"
      ]
     },
     "metadata": {},
     "output_type": "display_data"
    },
    {
     "name": "stdout",
     "output_type": "stream",
     "text": [
      "Epoch 405: train=0.981595, val=0.979649, took 36.698 s\n"
     ]
    },
    {
     "data": {
      "application/vnd.jupyter.widget-view+json": {
       "model_id": "",
       "version_major": 2,
       "version_minor": 0
      },
      "text/plain": [
       "HBox(children=(FloatProgress(value=0.0, description='Training', layout=Layout(flex='2'), max=1125.0, style=Pro…"
      ]
     },
     "metadata": {},
     "output_type": "display_data"
    },
    {
     "name": "stdout",
     "output_type": "stream",
     "text": [
      "Epoch 406: train=0.984022, val=0.972774, took 36.894 s\n"
     ]
    },
    {
     "data": {
      "application/vnd.jupyter.widget-view+json": {
       "model_id": "",
       "version_major": 2,
       "version_minor": 0
      },
      "text/plain": [
       "HBox(children=(FloatProgress(value=0.0, description='Training', layout=Layout(flex='2'), max=1125.0, style=Pro…"
      ]
     },
     "metadata": {},
     "output_type": "display_data"
    },
    {
     "name": "stdout",
     "output_type": "stream",
     "text": [
      "Epoch 407: train=0.978754, val=0.992681, took 36.669 s\n"
     ]
    },
    {
     "data": {
      "application/vnd.jupyter.widget-view+json": {
       "model_id": "",
       "version_major": 2,
       "version_minor": 0
      },
      "text/plain": [
       "HBox(children=(FloatProgress(value=0.0, description='Training', layout=Layout(flex='2'), max=1125.0, style=Pro…"
      ]
     },
     "metadata": {},
     "output_type": "display_data"
    },
    {
     "name": "stdout",
     "output_type": "stream",
     "text": [
      "Epoch 408: train=0.984338, val=0.97206, took 36.713 s\n"
     ]
    },
    {
     "data": {
      "application/vnd.jupyter.widget-view+json": {
       "model_id": "",
       "version_major": 2,
       "version_minor": 0
      },
      "text/plain": [
       "HBox(children=(FloatProgress(value=0.0, description='Training', layout=Layout(flex='2'), max=1125.0, style=Pro…"
      ]
     },
     "metadata": {},
     "output_type": "display_data"
    },
    {
     "name": "stdout",
     "output_type": "stream",
     "text": [
      "Epoch 409: train=0.985097, val=0.982818, took 36.634 s\n"
     ]
    },
    {
     "data": {
      "application/vnd.jupyter.widget-view+json": {
       "model_id": "",
       "version_major": 2,
       "version_minor": 0
      },
      "text/plain": [
       "HBox(children=(FloatProgress(value=0.0, description='Training', layout=Layout(flex='2'), max=1125.0, style=Pro…"
      ]
     },
     "metadata": {},
     "output_type": "display_data"
    },
    {
     "name": "stdout",
     "output_type": "stream",
     "text": [
      "Epoch 410: train=0.985442, val=0.985495, took 36.736 s\n"
     ]
    },
    {
     "data": {
      "application/vnd.jupyter.widget-view+json": {
       "model_id": "",
       "version_major": 2,
       "version_minor": 0
      },
      "text/plain": [
       "HBox(children=(FloatProgress(value=0.0, description='Training', layout=Layout(flex='2'), max=1125.0, style=Pro…"
      ]
     },
     "metadata": {},
     "output_type": "display_data"
    },
    {
     "name": "stdout",
     "output_type": "stream",
     "text": [
      "Epoch 411: train=0.983872, val=0.97781, took 36.735 s\n"
     ]
    },
    {
     "data": {
      "application/vnd.jupyter.widget-view+json": {
       "model_id": "",
       "version_major": 2,
       "version_minor": 0
      },
      "text/plain": [
       "HBox(children=(FloatProgress(value=0.0, description='Training', layout=Layout(flex='2'), max=1125.0, style=Pro…"
      ]
     },
     "metadata": {},
     "output_type": "display_data"
    },
    {
     "name": "stdout",
     "output_type": "stream",
     "text": [
      "Epoch 412: train=0.982871, val=0.971094, took 36.625 s\n"
     ]
    },
    {
     "data": {
      "application/vnd.jupyter.widget-view+json": {
       "model_id": "",
       "version_major": 2,
       "version_minor": 0
      },
      "text/plain": [
       "HBox(children=(FloatProgress(value=0.0, description='Training', layout=Layout(flex='2'), max=1125.0, style=Pro…"
      ]
     },
     "metadata": {},
     "output_type": "display_data"
    },
    {
     "name": "stdout",
     "output_type": "stream",
     "text": [
      "Epoch 413: train=0.987286, val=0.969083, took 36.698 s\n"
     ]
    },
    {
     "data": {
      "application/vnd.jupyter.widget-view+json": {
       "model_id": "",
       "version_major": 2,
       "version_minor": 0
      },
      "text/plain": [
       "HBox(children=(FloatProgress(value=0.0, description='Training', layout=Layout(flex='2'), max=1125.0, style=Pro…"
      ]
     },
     "metadata": {},
     "output_type": "display_data"
    },
    {
     "name": "stdout",
     "output_type": "stream",
     "text": [
      "Epoch 414: train=0.986233, val=0.987514, took 36.668 s\n"
     ]
    },
    {
     "data": {
      "application/vnd.jupyter.widget-view+json": {
       "model_id": "",
       "version_major": 2,
       "version_minor": 0
      },
      "text/plain": [
       "HBox(children=(FloatProgress(value=0.0, description='Training', layout=Layout(flex='2'), max=1125.0, style=Pro…"
      ]
     },
     "metadata": {},
     "output_type": "display_data"
    },
    {
     "name": "stdout",
     "output_type": "stream",
     "text": [
      "Epoch 415: train=0.978784, val=0.979914, took 36.799 s\n"
     ]
    },
    {
     "data": {
      "application/vnd.jupyter.widget-view+json": {
       "model_id": "",
       "version_major": 2,
       "version_minor": 0
      },
      "text/plain": [
       "HBox(children=(FloatProgress(value=0.0, description='Training', layout=Layout(flex='2'), max=1125.0, style=Pro…"
      ]
     },
     "metadata": {},
     "output_type": "display_data"
    },
    {
     "name": "stdout",
     "output_type": "stream",
     "text": [
      "Epoch 416: train=0.980326, val=0.968236, took 36.835 s\n"
     ]
    },
    {
     "data": {
      "application/vnd.jupyter.widget-view+json": {
       "model_id": "",
       "version_major": 2,
       "version_minor": 0
      },
      "text/plain": [
       "HBox(children=(FloatProgress(value=0.0, description='Training', layout=Layout(flex='2'), max=1125.0, style=Pro…"
      ]
     },
     "metadata": {},
     "output_type": "display_data"
    },
    {
     "name": "stdout",
     "output_type": "stream",
     "text": [
      "Epoch 417: train=0.983001, val=0.969478, took 37.07 s\n"
     ]
    },
    {
     "data": {
      "application/vnd.jupyter.widget-view+json": {
       "model_id": "",
       "version_major": 2,
       "version_minor": 0
      },
      "text/plain": [
       "HBox(children=(FloatProgress(value=0.0, description='Training', layout=Layout(flex='2'), max=1125.0, style=Pro…"
      ]
     },
     "metadata": {},
     "output_type": "display_data"
    },
    {
     "name": "stdout",
     "output_type": "stream",
     "text": [
      "Epoch 418: train=0.978966, val=0.982002, took 36.688 s\n"
     ]
    },
    {
     "data": {
      "application/vnd.jupyter.widget-view+json": {
       "model_id": "",
       "version_major": 2,
       "version_minor": 0
      },
      "text/plain": [
       "HBox(children=(FloatProgress(value=0.0, description='Training', layout=Layout(flex='2'), max=1125.0, style=Pro…"
      ]
     },
     "metadata": {},
     "output_type": "display_data"
    },
    {
     "name": "stdout",
     "output_type": "stream",
     "text": [
      "Epoch 419: train=0.983093, val=0.978703, took 36.744 s\n"
     ]
    },
    {
     "data": {
      "application/vnd.jupyter.widget-view+json": {
       "model_id": "",
       "version_major": 2,
       "version_minor": 0
      },
      "text/plain": [
       "HBox(children=(FloatProgress(value=0.0, description='Training', layout=Layout(flex='2'), max=1125.0, style=Pro…"
      ]
     },
     "metadata": {},
     "output_type": "display_data"
    },
    {
     "name": "stdout",
     "output_type": "stream",
     "text": [
      "Epoch 420: train=0.981162, val=0.980506, took 36.717 s\n"
     ]
    },
    {
     "data": {
      "application/vnd.jupyter.widget-view+json": {
       "model_id": "",
       "version_major": 2,
       "version_minor": 0
      },
      "text/plain": [
       "HBox(children=(FloatProgress(value=0.0, description='Training', layout=Layout(flex='2'), max=1125.0, style=Pro…"
      ]
     },
     "metadata": {},
     "output_type": "display_data"
    },
    {
     "name": "stdout",
     "output_type": "stream",
     "text": [
      "Epoch 421: train=0.978781, val=0.977123, took 36.669 s\n"
     ]
    },
    {
     "data": {
      "application/vnd.jupyter.widget-view+json": {
       "model_id": "",
       "version_major": 2,
       "version_minor": 0
      },
      "text/plain": [
       "HBox(children=(FloatProgress(value=0.0, description='Training', layout=Layout(flex='2'), max=1125.0, style=Pro…"
      ]
     },
     "metadata": {},
     "output_type": "display_data"
    },
    {
     "name": "stdout",
     "output_type": "stream",
     "text": [
      "Epoch 422: train=0.983104, val=0.975286, took 36.688 s\n"
     ]
    },
    {
     "data": {
      "application/vnd.jupyter.widget-view+json": {
       "model_id": "",
       "version_major": 2,
       "version_minor": 0
      },
      "text/plain": [
       "HBox(children=(FloatProgress(value=0.0, description='Training', layout=Layout(flex='2'), max=1125.0, style=Pro…"
      ]
     },
     "metadata": {},
     "output_type": "display_data"
    },
    {
     "name": "stdout",
     "output_type": "stream",
     "text": [
      "Epoch 423: train=0.976746, val=0.983956, took 36.864 s\n"
     ]
    },
    {
     "data": {
      "application/vnd.jupyter.widget-view+json": {
       "model_id": "",
       "version_major": 2,
       "version_minor": 0
      },
      "text/plain": [
       "HBox(children=(FloatProgress(value=0.0, description='Training', layout=Layout(flex='2'), max=1125.0, style=Pro…"
      ]
     },
     "metadata": {},
     "output_type": "display_data"
    },
    {
     "name": "stdout",
     "output_type": "stream",
     "text": [
      "Epoch 424: train=0.984971, val=0.980078, took 36.864 s\n"
     ]
    },
    {
     "data": {
      "application/vnd.jupyter.widget-view+json": {
       "model_id": "",
       "version_major": 2,
       "version_minor": 0
      },
      "text/plain": [
       "HBox(children=(FloatProgress(value=0.0, description='Training', layout=Layout(flex='2'), max=1125.0, style=Pro…"
      ]
     },
     "metadata": {},
     "output_type": "display_data"
    },
    {
     "name": "stdout",
     "output_type": "stream",
     "text": [
      "Epoch 425: train=0.98635, val=0.97018, took 36.979 s\n"
     ]
    },
    {
     "data": {
      "application/vnd.jupyter.widget-view+json": {
       "model_id": "",
       "version_major": 2,
       "version_minor": 0
      },
      "text/plain": [
       "HBox(children=(FloatProgress(value=0.0, description='Training', layout=Layout(flex='2'), max=1125.0, style=Pro…"
      ]
     },
     "metadata": {},
     "output_type": "display_data"
    },
    {
     "name": "stdout",
     "output_type": "stream",
     "text": [
      "Epoch 426: train=0.984014, val=0.973473, took 36.833 s\n"
     ]
    },
    {
     "data": {
      "application/vnd.jupyter.widget-view+json": {
       "model_id": "",
       "version_major": 2,
       "version_minor": 0
      },
      "text/plain": [
       "HBox(children=(FloatProgress(value=0.0, description='Training', layout=Layout(flex='2'), max=1125.0, style=Pro…"
      ]
     },
     "metadata": {},
     "output_type": "display_data"
    },
    {
     "name": "stdout",
     "output_type": "stream",
     "text": [
      "Epoch 427: train=0.977576, val=0.967299, took 37.113 s\n"
     ]
    },
    {
     "data": {
      "application/vnd.jupyter.widget-view+json": {
       "model_id": "",
       "version_major": 2,
       "version_minor": 0
      },
      "text/plain": [
       "HBox(children=(FloatProgress(value=0.0, description='Training', layout=Layout(flex='2'), max=1125.0, style=Pro…"
      ]
     },
     "metadata": {},
     "output_type": "display_data"
    },
    {
     "name": "stdout",
     "output_type": "stream",
     "text": [
      "Epoch 428: train=0.987122, val=0.987177, took 36.936 s\n"
     ]
    },
    {
     "data": {
      "application/vnd.jupyter.widget-view+json": {
       "model_id": "",
       "version_major": 2,
       "version_minor": 0
      },
      "text/plain": [
       "HBox(children=(FloatProgress(value=0.0, description='Training', layout=Layout(flex='2'), max=1125.0, style=Pro…"
      ]
     },
     "metadata": {},
     "output_type": "display_data"
    },
    {
     "name": "stdout",
     "output_type": "stream",
     "text": [
      "Epoch 429: train=0.985449, val=0.9689, took 36.653 s\n"
     ]
    },
    {
     "data": {
      "application/vnd.jupyter.widget-view+json": {
       "model_id": "",
       "version_major": 2,
       "version_minor": 0
      },
      "text/plain": [
       "HBox(children=(FloatProgress(value=0.0, description='Training', layout=Layout(flex='2'), max=1125.0, style=Pro…"
      ]
     },
     "metadata": {},
     "output_type": "display_data"
    },
    {
     "name": "stdout",
     "output_type": "stream",
     "text": [
      "Epoch 430: train=0.98504, val=0.985686, took 37.122 s\n"
     ]
    },
    {
     "data": {
      "application/vnd.jupyter.widget-view+json": {
       "model_id": "",
       "version_major": 2,
       "version_minor": 0
      },
      "text/plain": [
       "HBox(children=(FloatProgress(value=0.0, description='Training', layout=Layout(flex='2'), max=1125.0, style=Pro…"
      ]
     },
     "metadata": {},
     "output_type": "display_data"
    },
    {
     "name": "stdout",
     "output_type": "stream",
     "text": [
      "Epoch 431: train=0.985335, val=0.966283, took 36.804 s\n"
     ]
    },
    {
     "data": {
      "application/vnd.jupyter.widget-view+json": {
       "model_id": "",
       "version_major": 2,
       "version_minor": 0
      },
      "text/plain": [
       "HBox(children=(FloatProgress(value=0.0, description='Training', layout=Layout(flex='2'), max=1125.0, style=Pro…"
      ]
     },
     "metadata": {},
     "output_type": "display_data"
    },
    {
     "name": "stdout",
     "output_type": "stream",
     "text": [
      "Epoch 432: train=0.980393, val=1.01496, took 36.766 s\n"
     ]
    },
    {
     "data": {
      "application/vnd.jupyter.widget-view+json": {
       "model_id": "",
       "version_major": 2,
       "version_minor": 0
      },
      "text/plain": [
       "HBox(children=(FloatProgress(value=0.0, description='Training', layout=Layout(flex='2'), max=1125.0, style=Pro…"
      ]
     },
     "metadata": {},
     "output_type": "display_data"
    },
    {
     "name": "stdout",
     "output_type": "stream",
     "text": [
      "Epoch 433: train=0.980485, val=1.00393, took 36.691 s\n"
     ]
    },
    {
     "data": {
      "application/vnd.jupyter.widget-view+json": {
       "model_id": "",
       "version_major": 2,
       "version_minor": 0
      },
      "text/plain": [
       "HBox(children=(FloatProgress(value=0.0, description='Training', layout=Layout(flex='2'), max=1125.0, style=Pro…"
      ]
     },
     "metadata": {},
     "output_type": "display_data"
    },
    {
     "name": "stdout",
     "output_type": "stream",
     "text": [
      "Epoch 434: train=0.987531, val=0.970831, took 36.708 s\n"
     ]
    },
    {
     "data": {
      "application/vnd.jupyter.widget-view+json": {
       "model_id": "",
       "version_major": 2,
       "version_minor": 0
      },
      "text/plain": [
       "HBox(children=(FloatProgress(value=0.0, description='Training', layout=Layout(flex='2'), max=1125.0, style=Pro…"
      ]
     },
     "metadata": {},
     "output_type": "display_data"
    },
    {
     "name": "stdout",
     "output_type": "stream",
     "text": [
      "Epoch 435: train=0.981056, val=0.96921, took 36.787 s\n"
     ]
    },
    {
     "data": {
      "application/vnd.jupyter.widget-view+json": {
       "model_id": "",
       "version_major": 2,
       "version_minor": 0
      },
      "text/plain": [
       "HBox(children=(FloatProgress(value=0.0, description='Training', layout=Layout(flex='2'), max=1125.0, style=Pro…"
      ]
     },
     "metadata": {},
     "output_type": "display_data"
    },
    {
     "name": "stdout",
     "output_type": "stream",
     "text": [
      "Epoch 436: train=0.980577, val=0.971362, took 36.826 s\n"
     ]
    },
    {
     "data": {
      "application/vnd.jupyter.widget-view+json": {
       "model_id": "",
       "version_major": 2,
       "version_minor": 0
      },
      "text/plain": [
       "HBox(children=(FloatProgress(value=0.0, description='Training', layout=Layout(flex='2'), max=1125.0, style=Pro…"
      ]
     },
     "metadata": {},
     "output_type": "display_data"
    },
    {
     "name": "stdout",
     "output_type": "stream",
     "text": [
      "Epoch 437: train=0.988173, val=0.972827, took 36.819 s\n"
     ]
    },
    {
     "data": {
      "application/vnd.jupyter.widget-view+json": {
       "model_id": "",
       "version_major": 2,
       "version_minor": 0
      },
      "text/plain": [
       "HBox(children=(FloatProgress(value=0.0, description='Training', layout=Layout(flex='2'), max=1125.0, style=Pro…"
      ]
     },
     "metadata": {},
     "output_type": "display_data"
    },
    {
     "name": "stdout",
     "output_type": "stream",
     "text": [
      "Epoch 438: train=0.982954, val=0.984437, took 36.692 s\n"
     ]
    },
    {
     "data": {
      "application/vnd.jupyter.widget-view+json": {
       "model_id": "",
       "version_major": 2,
       "version_minor": 0
      },
      "text/plain": [
       "HBox(children=(FloatProgress(value=0.0, description='Training', layout=Layout(flex='2'), max=1125.0, style=Pro…"
      ]
     },
     "metadata": {},
     "output_type": "display_data"
    },
    {
     "name": "stdout",
     "output_type": "stream",
     "text": [
      "Epoch 439: train=0.979857, val=1.02405, took 36.884 s\n"
     ]
    },
    {
     "data": {
      "application/vnd.jupyter.widget-view+json": {
       "model_id": "",
       "version_major": 2,
       "version_minor": 0
      },
      "text/plain": [
       "HBox(children=(FloatProgress(value=0.0, description='Training', layout=Layout(flex='2'), max=1125.0, style=Pro…"
      ]
     },
     "metadata": {},
     "output_type": "display_data"
    },
    {
     "name": "stdout",
     "output_type": "stream",
     "text": [
      "Epoch 440: train=0.972984, val=1.05097, took 36.938 s\n"
     ]
    },
    {
     "data": {
      "application/vnd.jupyter.widget-view+json": {
       "model_id": "",
       "version_major": 2,
       "version_minor": 0
      },
      "text/plain": [
       "HBox(children=(FloatProgress(value=0.0, description='Training', layout=Layout(flex='2'), max=1125.0, style=Pro…"
      ]
     },
     "metadata": {},
     "output_type": "display_data"
    },
    {
     "name": "stdout",
     "output_type": "stream",
     "text": [
      "Epoch 441: train=0.986182, val=0.972504, took 36.769 s\n"
     ]
    },
    {
     "data": {
      "application/vnd.jupyter.widget-view+json": {
       "model_id": "",
       "version_major": 2,
       "version_minor": 0
      },
      "text/plain": [
       "HBox(children=(FloatProgress(value=0.0, description='Training', layout=Layout(flex='2'), max=1125.0, style=Pro…"
      ]
     },
     "metadata": {},
     "output_type": "display_data"
    },
    {
     "name": "stdout",
     "output_type": "stream",
     "text": [
      "Epoch 442: train=0.98146, val=0.994473, took 37.155 s\n"
     ]
    },
    {
     "data": {
      "application/vnd.jupyter.widget-view+json": {
       "model_id": "",
       "version_major": 2,
       "version_minor": 0
      },
      "text/plain": [
       "HBox(children=(FloatProgress(value=0.0, description='Training', layout=Layout(flex='2'), max=1125.0, style=Pro…"
      ]
     },
     "metadata": {},
     "output_type": "display_data"
    },
    {
     "name": "stdout",
     "output_type": "stream",
     "text": [
      "Epoch 443: train=0.981835, val=0.970533, took 36.911 s\n"
     ]
    },
    {
     "data": {
      "application/vnd.jupyter.widget-view+json": {
       "model_id": "",
       "version_major": 2,
       "version_minor": 0
      },
      "text/plain": [
       "HBox(children=(FloatProgress(value=0.0, description='Training', layout=Layout(flex='2'), max=1125.0, style=Pro…"
      ]
     },
     "metadata": {},
     "output_type": "display_data"
    },
    {
     "name": "stdout",
     "output_type": "stream",
     "text": [
      "Epoch 444: train=0.981685, val=1.10547, took 37.166 s\n"
     ]
    },
    {
     "data": {
      "application/vnd.jupyter.widget-view+json": {
       "model_id": "",
       "version_major": 2,
       "version_minor": 0
      },
      "text/plain": [
       "HBox(children=(FloatProgress(value=0.0, description='Training', layout=Layout(flex='2'), max=1125.0, style=Pro…"
      ]
     },
     "metadata": {},
     "output_type": "display_data"
    },
    {
     "name": "stdout",
     "output_type": "stream",
     "text": [
      "Epoch 445: train=0.982195, val=0.971886, took 36.844 s\n"
     ]
    },
    {
     "data": {
      "application/vnd.jupyter.widget-view+json": {
       "model_id": "",
       "version_major": 2,
       "version_minor": 0
      },
      "text/plain": [
       "HBox(children=(FloatProgress(value=0.0, description='Training', layout=Layout(flex='2'), max=1125.0, style=Pro…"
      ]
     },
     "metadata": {},
     "output_type": "display_data"
    },
    {
     "name": "stdout",
     "output_type": "stream",
     "text": [
      "Epoch 446: train=0.979057, val=0.978803, took 37.048 s\n"
     ]
    },
    {
     "data": {
      "application/vnd.jupyter.widget-view+json": {
       "model_id": "",
       "version_major": 2,
       "version_minor": 0
      },
      "text/plain": [
       "HBox(children=(FloatProgress(value=0.0, description='Training', layout=Layout(flex='2'), max=1125.0, style=Pro…"
      ]
     },
     "metadata": {},
     "output_type": "display_data"
    },
    {
     "name": "stdout",
     "output_type": "stream",
     "text": [
      "Epoch 447: train=0.985215, val=0.974112, took 36.972 s\n"
     ]
    },
    {
     "data": {
      "application/vnd.jupyter.widget-view+json": {
       "model_id": "",
       "version_major": 2,
       "version_minor": 0
      },
      "text/plain": [
       "HBox(children=(FloatProgress(value=0.0, description='Training', layout=Layout(flex='2'), max=1125.0, style=Pro…"
      ]
     },
     "metadata": {},
     "output_type": "display_data"
    },
    {
     "name": "stdout",
     "output_type": "stream",
     "text": [
      "Epoch 448: train=0.977315, val=0.971541, took 36.813 s\n"
     ]
    },
    {
     "data": {
      "application/vnd.jupyter.widget-view+json": {
       "model_id": "",
       "version_major": 2,
       "version_minor": 0
      },
      "text/plain": [
       "HBox(children=(FloatProgress(value=0.0, description='Training', layout=Layout(flex='2'), max=1125.0, style=Pro…"
      ]
     },
     "metadata": {},
     "output_type": "display_data"
    },
    {
     "name": "stdout",
     "output_type": "stream",
     "text": [
      "Epoch 449: train=0.97707, val=0.972001, took 36.626 s\n"
     ]
    },
    {
     "data": {
      "application/vnd.jupyter.widget-view+json": {
       "model_id": "",
       "version_major": 2,
       "version_minor": 0
      },
      "text/plain": [
       "HBox(children=(FloatProgress(value=0.0, description='Training', layout=Layout(flex='2'), max=1125.0, style=Pro…"
      ]
     },
     "metadata": {},
     "output_type": "display_data"
    },
    {
     "name": "stdout",
     "output_type": "stream",
     "text": [
      "Epoch 450: train=0.982104, val=1.01237, took 36.621 s\n"
     ]
    },
    {
     "data": {
      "application/vnd.jupyter.widget-view+json": {
       "model_id": "",
       "version_major": 2,
       "version_minor": 0
      },
      "text/plain": [
       "HBox(children=(FloatProgress(value=0.0, description='Training', layout=Layout(flex='2'), max=1125.0, style=Pro…"
      ]
     },
     "metadata": {},
     "output_type": "display_data"
    },
    {
     "name": "stdout",
     "output_type": "stream",
     "text": [
      "Epoch 451: train=0.980504, val=0.976837, took 36.809 s\n"
     ]
    },
    {
     "data": {
      "application/vnd.jupyter.widget-view+json": {
       "model_id": "",
       "version_major": 2,
       "version_minor": 0
      },
      "text/plain": [
       "HBox(children=(FloatProgress(value=0.0, description='Training', layout=Layout(flex='2'), max=1125.0, style=Pro…"
      ]
     },
     "metadata": {},
     "output_type": "display_data"
    },
    {
     "name": "stdout",
     "output_type": "stream",
     "text": [
      "Epoch 452: train=0.980185, val=1.01462, took 36.899 s\n"
     ]
    },
    {
     "data": {
      "application/vnd.jupyter.widget-view+json": {
       "model_id": "",
       "version_major": 2,
       "version_minor": 0
      },
      "text/plain": [
       "HBox(children=(FloatProgress(value=0.0, description='Training', layout=Layout(flex='2'), max=1125.0, style=Pro…"
      ]
     },
     "metadata": {},
     "output_type": "display_data"
    },
    {
     "name": "stdout",
     "output_type": "stream",
     "text": [
      "Epoch 453: train=0.97641, val=0.985689, took 37.082 s\n"
     ]
    },
    {
     "data": {
      "application/vnd.jupyter.widget-view+json": {
       "model_id": "",
       "version_major": 2,
       "version_minor": 0
      },
      "text/plain": [
       "HBox(children=(FloatProgress(value=0.0, description='Training', layout=Layout(flex='2'), max=1125.0, style=Pro…"
      ]
     },
     "metadata": {},
     "output_type": "display_data"
    },
    {
     "name": "stdout",
     "output_type": "stream",
     "text": [
      "Epoch 454: train=0.978212, val=1.01937, took 36.729 s\n"
     ]
    },
    {
     "data": {
      "application/vnd.jupyter.widget-view+json": {
       "model_id": "",
       "version_major": 2,
       "version_minor": 0
      },
      "text/plain": [
       "HBox(children=(FloatProgress(value=0.0, description='Training', layout=Layout(flex='2'), max=1125.0, style=Pro…"
      ]
     },
     "metadata": {},
     "output_type": "display_data"
    },
    {
     "name": "stdout",
     "output_type": "stream",
     "text": [
      "Epoch 455: train=0.983507, val=0.970816, took 36.707 s\n"
     ]
    },
    {
     "data": {
      "application/vnd.jupyter.widget-view+json": {
       "model_id": "",
       "version_major": 2,
       "version_minor": 0
      },
      "text/plain": [
       "HBox(children=(FloatProgress(value=0.0, description='Training', layout=Layout(flex='2'), max=1125.0, style=Pro…"
      ]
     },
     "metadata": {},
     "output_type": "display_data"
    },
    {
     "name": "stdout",
     "output_type": "stream",
     "text": [
      "Epoch 456: train=0.97985, val=0.977632, took 37.044 s\n"
     ]
    },
    {
     "data": {
      "application/vnd.jupyter.widget-view+json": {
       "model_id": "",
       "version_major": 2,
       "version_minor": 0
      },
      "text/plain": [
       "HBox(children=(FloatProgress(value=0.0, description='Training', layout=Layout(flex='2'), max=1125.0, style=Pro…"
      ]
     },
     "metadata": {},
     "output_type": "display_data"
    },
    {
     "name": "stdout",
     "output_type": "stream",
     "text": [
      "Epoch 457: train=0.977827, val=0.985362, took 36.874 s\n"
     ]
    },
    {
     "data": {
      "application/vnd.jupyter.widget-view+json": {
       "model_id": "",
       "version_major": 2,
       "version_minor": 0
      },
      "text/plain": [
       "HBox(children=(FloatProgress(value=0.0, description='Training', layout=Layout(flex='2'), max=1125.0, style=Pro…"
      ]
     },
     "metadata": {},
     "output_type": "display_data"
    },
    {
     "name": "stdout",
     "output_type": "stream",
     "text": [
      "Epoch 458: train=0.97998, val=1.06136, took 36.933 s\n"
     ]
    },
    {
     "data": {
      "application/vnd.jupyter.widget-view+json": {
       "model_id": "",
       "version_major": 2,
       "version_minor": 0
      },
      "text/plain": [
       "HBox(children=(FloatProgress(value=0.0, description='Training', layout=Layout(flex='2'), max=1125.0, style=Pro…"
      ]
     },
     "metadata": {},
     "output_type": "display_data"
    },
    {
     "name": "stdout",
     "output_type": "stream",
     "text": [
      "Epoch 459: train=0.980449, val=0.971699, took 36.748 s\n"
     ]
    },
    {
     "data": {
      "application/vnd.jupyter.widget-view+json": {
       "model_id": "",
       "version_major": 2,
       "version_minor": 0
      },
      "text/plain": [
       "HBox(children=(FloatProgress(value=0.0, description='Training', layout=Layout(flex='2'), max=1125.0, style=Pro…"
      ]
     },
     "metadata": {},
     "output_type": "display_data"
    },
    {
     "name": "stdout",
     "output_type": "stream",
     "text": [
      "Epoch 460: train=0.97918, val=0.967208, took 36.793 s\n"
     ]
    },
    {
     "data": {
      "application/vnd.jupyter.widget-view+json": {
       "model_id": "",
       "version_major": 2,
       "version_minor": 0
      },
      "text/plain": [
       "HBox(children=(FloatProgress(value=0.0, description='Training', layout=Layout(flex='2'), max=1125.0, style=Pro…"
      ]
     },
     "metadata": {},
     "output_type": "display_data"
    },
    {
     "name": "stdout",
     "output_type": "stream",
     "text": [
      "Epoch 461: train=0.974396, val=0.967949, took 36.754 s\n"
     ]
    },
    {
     "data": {
      "application/vnd.jupyter.widget-view+json": {
       "model_id": "",
       "version_major": 2,
       "version_minor": 0
      },
      "text/plain": [
       "HBox(children=(FloatProgress(value=0.0, description='Training', layout=Layout(flex='2'), max=1125.0, style=Pro…"
      ]
     },
     "metadata": {},
     "output_type": "display_data"
    },
    {
     "name": "stdout",
     "output_type": "stream",
     "text": [
      "Epoch 462: train=0.984124, val=0.98443, took 36.822 s\n"
     ]
    },
    {
     "data": {
      "application/vnd.jupyter.widget-view+json": {
       "model_id": "",
       "version_major": 2,
       "version_minor": 0
      },
      "text/plain": [
       "HBox(children=(FloatProgress(value=0.0, description='Training', layout=Layout(flex='2'), max=1125.0, style=Pro…"
      ]
     },
     "metadata": {},
     "output_type": "display_data"
    },
    {
     "name": "stdout",
     "output_type": "stream",
     "text": [
      "Epoch 463: train=0.98133, val=0.970022, took 36.82 s\n"
     ]
    },
    {
     "data": {
      "application/vnd.jupyter.widget-view+json": {
       "model_id": "",
       "version_major": 2,
       "version_minor": 0
      },
      "text/plain": [
       "HBox(children=(FloatProgress(value=0.0, description='Training', layout=Layout(flex='2'), max=1125.0, style=Pro…"
      ]
     },
     "metadata": {},
     "output_type": "display_data"
    },
    {
     "name": "stdout",
     "output_type": "stream",
     "text": [
      "Epoch 464: train=0.980094, val=0.972275, took 36.937 s\n"
     ]
    },
    {
     "data": {
      "application/vnd.jupyter.widget-view+json": {
       "model_id": "",
       "version_major": 2,
       "version_minor": 0
      },
      "text/plain": [
       "HBox(children=(FloatProgress(value=0.0, description='Training', layout=Layout(flex='2'), max=1125.0, style=Pro…"
      ]
     },
     "metadata": {},
     "output_type": "display_data"
    },
    {
     "name": "stdout",
     "output_type": "stream",
     "text": [
      "Epoch 465: train=0.977612, val=1.02394, took 36.865 s\n"
     ]
    },
    {
     "data": {
      "application/vnd.jupyter.widget-view+json": {
       "model_id": "",
       "version_major": 2,
       "version_minor": 0
      },
      "text/plain": [
       "HBox(children=(FloatProgress(value=0.0, description='Training', layout=Layout(flex='2'), max=1125.0, style=Pro…"
      ]
     },
     "metadata": {},
     "output_type": "display_data"
    },
    {
     "name": "stdout",
     "output_type": "stream",
     "text": [
      "Epoch 466: train=0.979096, val=0.994236, took 36.651 s\n"
     ]
    },
    {
     "data": {
      "application/vnd.jupyter.widget-view+json": {
       "model_id": "",
       "version_major": 2,
       "version_minor": 0
      },
      "text/plain": [
       "HBox(children=(FloatProgress(value=0.0, description='Training', layout=Layout(flex='2'), max=1125.0, style=Pro…"
      ]
     },
     "metadata": {},
     "output_type": "display_data"
    },
    {
     "name": "stdout",
     "output_type": "stream",
     "text": [
      "Epoch 467: train=0.983927, val=0.979532, took 36.603 s\n"
     ]
    },
    {
     "data": {
      "application/vnd.jupyter.widget-view+json": {
       "model_id": "",
       "version_major": 2,
       "version_minor": 0
      },
      "text/plain": [
       "HBox(children=(FloatProgress(value=0.0, description='Training', layout=Layout(flex='2'), max=1125.0, style=Pro…"
      ]
     },
     "metadata": {},
     "output_type": "display_data"
    },
    {
     "name": "stdout",
     "output_type": "stream",
     "text": [
      "Epoch 468: train=0.981837, val=0.968815, took 36.791 s\n"
     ]
    },
    {
     "data": {
      "application/vnd.jupyter.widget-view+json": {
       "model_id": "",
       "version_major": 2,
       "version_minor": 0
      },
      "text/plain": [
       "HBox(children=(FloatProgress(value=0.0, description='Training', layout=Layout(flex='2'), max=1125.0, style=Pro…"
      ]
     },
     "metadata": {},
     "output_type": "display_data"
    },
    {
     "name": "stdout",
     "output_type": "stream",
     "text": [
      "Epoch 469: train=0.981119, val=0.973007, took 36.921 s\n"
     ]
    },
    {
     "data": {
      "application/vnd.jupyter.widget-view+json": {
       "model_id": "",
       "version_major": 2,
       "version_minor": 0
      },
      "text/plain": [
       "HBox(children=(FloatProgress(value=0.0, description='Training', layout=Layout(flex='2'), max=1125.0, style=Pro…"
      ]
     },
     "metadata": {},
     "output_type": "display_data"
    },
    {
     "name": "stdout",
     "output_type": "stream",
     "text": [
      "Epoch 470: train=0.979033, val=0.966083, took 36.786 s\n"
     ]
    },
    {
     "data": {
      "application/vnd.jupyter.widget-view+json": {
       "model_id": "",
       "version_major": 2,
       "version_minor": 0
      },
      "text/plain": [
       "HBox(children=(FloatProgress(value=0.0, description='Training', layout=Layout(flex='2'), max=1125.0, style=Pro…"
      ]
     },
     "metadata": {},
     "output_type": "display_data"
    },
    {
     "name": "stdout",
     "output_type": "stream",
     "text": [
      "Epoch 471: train=0.976542, val=0.974665, took 37.072 s\n"
     ]
    },
    {
     "data": {
      "application/vnd.jupyter.widget-view+json": {
       "model_id": "",
       "version_major": 2,
       "version_minor": 0
      },
      "text/plain": [
       "HBox(children=(FloatProgress(value=0.0, description='Training', layout=Layout(flex='2'), max=1125.0, style=Pro…"
      ]
     },
     "metadata": {},
     "output_type": "display_data"
    },
    {
     "name": "stdout",
     "output_type": "stream",
     "text": [
      "Epoch 472: train=0.979204, val=0.985554, took 36.801 s\n"
     ]
    },
    {
     "data": {
      "application/vnd.jupyter.widget-view+json": {
       "model_id": "",
       "version_major": 2,
       "version_minor": 0
      },
      "text/plain": [
       "HBox(children=(FloatProgress(value=0.0, description='Training', layout=Layout(flex='2'), max=1125.0, style=Pro…"
      ]
     },
     "metadata": {},
     "output_type": "display_data"
    },
    {
     "name": "stdout",
     "output_type": "stream",
     "text": [
      "Epoch 473: train=0.977241, val=0.969846, took 36.688 s\n"
     ]
    },
    {
     "data": {
      "application/vnd.jupyter.widget-view+json": {
       "model_id": "",
       "version_major": 2,
       "version_minor": 0
      },
      "text/plain": [
       "HBox(children=(FloatProgress(value=0.0, description='Training', layout=Layout(flex='2'), max=1125.0, style=Pro…"
      ]
     },
     "metadata": {},
     "output_type": "display_data"
    },
    {
     "name": "stdout",
     "output_type": "stream",
     "text": [
      "Epoch 474: train=0.978526, val=0.975693, took 36.631 s\n"
     ]
    },
    {
     "data": {
      "application/vnd.jupyter.widget-view+json": {
       "model_id": "",
       "version_major": 2,
       "version_minor": 0
      },
      "text/plain": [
       "HBox(children=(FloatProgress(value=0.0, description='Training', layout=Layout(flex='2'), max=1125.0, style=Pro…"
      ]
     },
     "metadata": {},
     "output_type": "display_data"
    },
    {
     "name": "stdout",
     "output_type": "stream",
     "text": [
      "Epoch 475: train=0.982026, val=0.970235, took 36.781 s\n"
     ]
    },
    {
     "data": {
      "application/vnd.jupyter.widget-view+json": {
       "model_id": "",
       "version_major": 2,
       "version_minor": 0
      },
      "text/plain": [
       "HBox(children=(FloatProgress(value=0.0, description='Training', layout=Layout(flex='2'), max=1125.0, style=Pro…"
      ]
     },
     "metadata": {},
     "output_type": "display_data"
    },
    {
     "name": "stdout",
     "output_type": "stream",
     "text": [
      "Epoch 476: train=0.9788, val=0.974511, took 36.813 s\n"
     ]
    },
    {
     "data": {
      "application/vnd.jupyter.widget-view+json": {
       "model_id": "",
       "version_major": 2,
       "version_minor": 0
      },
      "text/plain": [
       "HBox(children=(FloatProgress(value=0.0, description='Training', layout=Layout(flex='2'), max=1125.0, style=Pro…"
      ]
     },
     "metadata": {},
     "output_type": "display_data"
    },
    {
     "name": "stdout",
     "output_type": "stream",
     "text": [
      "Epoch 477: train=0.977108, val=0.97584, took 36.913 s\n"
     ]
    },
    {
     "data": {
      "application/vnd.jupyter.widget-view+json": {
       "model_id": "",
       "version_major": 2,
       "version_minor": 0
      },
      "text/plain": [
       "HBox(children=(FloatProgress(value=0.0, description='Training', layout=Layout(flex='2'), max=1125.0, style=Pro…"
      ]
     },
     "metadata": {},
     "output_type": "display_data"
    },
    {
     "name": "stdout",
     "output_type": "stream",
     "text": [
      "Epoch 478: train=0.980418, val=1.02989, took 36.673 s\n"
     ]
    },
    {
     "data": {
      "application/vnd.jupyter.widget-view+json": {
       "model_id": "",
       "version_major": 2,
       "version_minor": 0
      },
      "text/plain": [
       "HBox(children=(FloatProgress(value=0.0, description='Training', layout=Layout(flex='2'), max=1125.0, style=Pro…"
      ]
     },
     "metadata": {},
     "output_type": "display_data"
    },
    {
     "name": "stdout",
     "output_type": "stream",
     "text": [
      "Epoch 479: train=0.97937, val=0.973939, took 36.743 s\n"
     ]
    },
    {
     "data": {
      "application/vnd.jupyter.widget-view+json": {
       "model_id": "",
       "version_major": 2,
       "version_minor": 0
      },
      "text/plain": [
       "HBox(children=(FloatProgress(value=0.0, description='Training', layout=Layout(flex='2'), max=1125.0, style=Pro…"
      ]
     },
     "metadata": {},
     "output_type": "display_data"
    },
    {
     "name": "stdout",
     "output_type": "stream",
     "text": [
      "Epoch 480: train=0.97778, val=1.07912, took 36.809 s\n"
     ]
    },
    {
     "data": {
      "application/vnd.jupyter.widget-view+json": {
       "model_id": "",
       "version_major": 2,
       "version_minor": 0
      },
      "text/plain": [
       "HBox(children=(FloatProgress(value=0.0, description='Training', layout=Layout(flex='2'), max=1125.0, style=Pro…"
      ]
     },
     "metadata": {},
     "output_type": "display_data"
    },
    {
     "name": "stdout",
     "output_type": "stream",
     "text": [
      "Epoch 481: train=0.978897, val=0.969341, took 36.731 s\n"
     ]
    },
    {
     "data": {
      "application/vnd.jupyter.widget-view+json": {
       "model_id": "",
       "version_major": 2,
       "version_minor": 0
      },
      "text/plain": [
       "HBox(children=(FloatProgress(value=0.0, description='Training', layout=Layout(flex='2'), max=1125.0, style=Pro…"
      ]
     },
     "metadata": {},
     "output_type": "display_data"
    },
    {
     "name": "stdout",
     "output_type": "stream",
     "text": [
      "Epoch 482: train=0.975499, val=0.986038, took 36.85 s\n"
     ]
    },
    {
     "data": {
      "application/vnd.jupyter.widget-view+json": {
       "model_id": "",
       "version_major": 2,
       "version_minor": 0
      },
      "text/plain": [
       "HBox(children=(FloatProgress(value=0.0, description='Training', layout=Layout(flex='2'), max=1125.0, style=Pro…"
      ]
     },
     "metadata": {},
     "output_type": "display_data"
    },
    {
     "name": "stdout",
     "output_type": "stream",
     "text": [
      "Epoch 483: train=0.979527, val=0.97043, took 36.846 s\n"
     ]
    },
    {
     "data": {
      "application/vnd.jupyter.widget-view+json": {
       "model_id": "",
       "version_major": 2,
       "version_minor": 0
      },
      "text/plain": [
       "HBox(children=(FloatProgress(value=0.0, description='Training', layout=Layout(flex='2'), max=1125.0, style=Pro…"
      ]
     },
     "metadata": {},
     "output_type": "display_data"
    },
    {
     "name": "stdout",
     "output_type": "stream",
     "text": [
      "Epoch 484: train=0.979342, val=0.967172, took 36.791 s\n"
     ]
    },
    {
     "data": {
      "application/vnd.jupyter.widget-view+json": {
       "model_id": "",
       "version_major": 2,
       "version_minor": 0
      },
      "text/plain": [
       "HBox(children=(FloatProgress(value=0.0, description='Training', layout=Layout(flex='2'), max=1125.0, style=Pro…"
      ]
     },
     "metadata": {},
     "output_type": "display_data"
    },
    {
     "name": "stdout",
     "output_type": "stream",
     "text": [
      "Epoch 485: train=0.980909, val=0.966077, took 36.906 s\n"
     ]
    },
    {
     "data": {
      "application/vnd.jupyter.widget-view+json": {
       "model_id": "",
       "version_major": 2,
       "version_minor": 0
      },
      "text/plain": [
       "HBox(children=(FloatProgress(value=0.0, description='Training', layout=Layout(flex='2'), max=1125.0, style=Pro…"
      ]
     },
     "metadata": {},
     "output_type": "display_data"
    },
    {
     "name": "stdout",
     "output_type": "stream",
     "text": [
      "Epoch 486: train=0.975954, val=0.969796, took 37.183 s\n"
     ]
    },
    {
     "data": {
      "application/vnd.jupyter.widget-view+json": {
       "model_id": "",
       "version_major": 2,
       "version_minor": 0
      },
      "text/plain": [
       "HBox(children=(FloatProgress(value=0.0, description='Training', layout=Layout(flex='2'), max=1125.0, style=Pro…"
      ]
     },
     "metadata": {},
     "output_type": "display_data"
    },
    {
     "name": "stdout",
     "output_type": "stream",
     "text": [
      "Epoch 487: train=0.990984, val=0.99172, took 36.989 s\n"
     ]
    },
    {
     "data": {
      "application/vnd.jupyter.widget-view+json": {
       "model_id": "",
       "version_major": 2,
       "version_minor": 0
      },
      "text/plain": [
       "HBox(children=(FloatProgress(value=0.0, description='Training', layout=Layout(flex='2'), max=1125.0, style=Pro…"
      ]
     },
     "metadata": {},
     "output_type": "display_data"
    },
    {
     "name": "stdout",
     "output_type": "stream",
     "text": [
      "Epoch 488: train=0.976142, val=0.968456, took 36.904 s\n"
     ]
    },
    {
     "data": {
      "application/vnd.jupyter.widget-view+json": {
       "model_id": "",
       "version_major": 2,
       "version_minor": 0
      },
      "text/plain": [
       "HBox(children=(FloatProgress(value=0.0, description='Training', layout=Layout(flex='2'), max=1125.0, style=Pro…"
      ]
     },
     "metadata": {},
     "output_type": "display_data"
    },
    {
     "name": "stdout",
     "output_type": "stream",
     "text": [
      "Epoch 489: train=0.98095, val=0.974057, took 36.717 s\n"
     ]
    },
    {
     "data": {
      "application/vnd.jupyter.widget-view+json": {
       "model_id": "",
       "version_major": 2,
       "version_minor": 0
      },
      "text/plain": [
       "HBox(children=(FloatProgress(value=0.0, description='Training', layout=Layout(flex='2'), max=1125.0, style=Pro…"
      ]
     },
     "metadata": {},
     "output_type": "display_data"
    },
    {
     "name": "stdout",
     "output_type": "stream",
     "text": [
      "Epoch 490: train=0.976682, val=0.990414, took 36.778 s\n"
     ]
    },
    {
     "data": {
      "application/vnd.jupyter.widget-view+json": {
       "model_id": "",
       "version_major": 2,
       "version_minor": 0
      },
      "text/plain": [
       "HBox(children=(FloatProgress(value=0.0, description='Training', layout=Layout(flex='2'), max=1125.0, style=Pro…"
      ]
     },
     "metadata": {},
     "output_type": "display_data"
    },
    {
     "name": "stdout",
     "output_type": "stream",
     "text": [
      "Epoch 491: train=0.979721, val=0.966796, took 36.796 s\n"
     ]
    },
    {
     "data": {
      "application/vnd.jupyter.widget-view+json": {
       "model_id": "",
       "version_major": 2,
       "version_minor": 0
      },
      "text/plain": [
       "HBox(children=(FloatProgress(value=0.0, description='Training', layout=Layout(flex='2'), max=1125.0, style=Pro…"
      ]
     },
     "metadata": {},
     "output_type": "display_data"
    },
    {
     "name": "stdout",
     "output_type": "stream",
     "text": [
      "Epoch 492: train=0.980549, val=0.992024, took 36.792 s\n"
     ]
    },
    {
     "data": {
      "application/vnd.jupyter.widget-view+json": {
       "model_id": "",
       "version_major": 2,
       "version_minor": 0
      },
      "text/plain": [
       "HBox(children=(FloatProgress(value=0.0, description='Training', layout=Layout(flex='2'), max=1125.0, style=Pro…"
      ]
     },
     "metadata": {},
     "output_type": "display_data"
    },
    {
     "name": "stdout",
     "output_type": "stream",
     "text": [
      "Epoch 493: train=0.974127, val=1.35612, took 36.842 s\n"
     ]
    },
    {
     "data": {
      "application/vnd.jupyter.widget-view+json": {
       "model_id": "",
       "version_major": 2,
       "version_minor": 0
      },
      "text/plain": [
       "HBox(children=(FloatProgress(value=0.0, description='Training', layout=Layout(flex='2'), max=1125.0, style=Pro…"
      ]
     },
     "metadata": {},
     "output_type": "display_data"
    },
    {
     "name": "stdout",
     "output_type": "stream",
     "text": [
      "Epoch 494: train=0.981488, val=1.01664, took 36.741 s\n"
     ]
    },
    {
     "data": {
      "application/vnd.jupyter.widget-view+json": {
       "model_id": "",
       "version_major": 2,
       "version_minor": 0
      },
      "text/plain": [
       "HBox(children=(FloatProgress(value=0.0, description='Training', layout=Layout(flex='2'), max=1125.0, style=Pro…"
      ]
     },
     "metadata": {},
     "output_type": "display_data"
    },
    {
     "name": "stdout",
     "output_type": "stream",
     "text": [
      "Epoch 495: train=0.977542, val=0.984712, took 36.854 s\n"
     ]
    },
    {
     "data": {
      "application/vnd.jupyter.widget-view+json": {
       "model_id": "",
       "version_major": 2,
       "version_minor": 0
      },
      "text/plain": [
       "HBox(children=(FloatProgress(value=0.0, description='Training', layout=Layout(flex='2'), max=1125.0, style=Pro…"
      ]
     },
     "metadata": {},
     "output_type": "display_data"
    },
    {
     "name": "stdout",
     "output_type": "stream",
     "text": [
      "Epoch 496: train=0.977581, val=1.03165, took 36.754 s\n"
     ]
    },
    {
     "data": {
      "application/vnd.jupyter.widget-view+json": {
       "model_id": "",
       "version_major": 2,
       "version_minor": 0
      },
      "text/plain": [
       "HBox(children=(FloatProgress(value=0.0, description='Training', layout=Layout(flex='2'), max=1125.0, style=Pro…"
      ]
     },
     "metadata": {},
     "output_type": "display_data"
    },
    {
     "name": "stdout",
     "output_type": "stream",
     "text": [
      "Epoch 497: train=0.971744, val=0.978605, took 36.68 s\n"
     ]
    },
    {
     "data": {
      "application/vnd.jupyter.widget-view+json": {
       "model_id": "",
       "version_major": 2,
       "version_minor": 0
      },
      "text/plain": [
       "HBox(children=(FloatProgress(value=0.0, description='Training', layout=Layout(flex='2'), max=1125.0, style=Pro…"
      ]
     },
     "metadata": {},
     "output_type": "display_data"
    },
    {
     "name": "stdout",
     "output_type": "stream",
     "text": [
      "Epoch 498: train=0.980394, val=0.971649, took 36.715 s\n"
     ]
    },
    {
     "data": {
      "application/vnd.jupyter.widget-view+json": {
       "model_id": "",
       "version_major": 2,
       "version_minor": 0
      },
      "text/plain": [
       "HBox(children=(FloatProgress(value=0.0, description='Training', layout=Layout(flex='2'), max=1125.0, style=Pro…"
      ]
     },
     "metadata": {},
     "output_type": "display_data"
    },
    {
     "name": "stdout",
     "output_type": "stream",
     "text": [
      "Epoch 499: train=0.985657, val=0.977936, took 36.792 s\n"
     ]
    },
    {
     "data": {
      "application/vnd.jupyter.widget-view+json": {
       "model_id": "",
       "version_major": 2,
       "version_minor": 0
      },
      "text/plain": [
       "HBox(children=(FloatProgress(value=0.0, description='Training', layout=Layout(flex='2'), max=1125.0, style=Pro…"
      ]
     },
     "metadata": {},
     "output_type": "display_data"
    },
    {
     "name": "stdout",
     "output_type": "stream",
     "text": [
      "Epoch 500: train=0.979849, val=0.973641, took 36.761 s\n"
     ]
    },
    {
     "data": {
      "application/vnd.jupyter.widget-view+json": {
       "model_id": "",
       "version_major": 2,
       "version_minor": 0
      },
      "text/plain": [
       "HBox(children=(FloatProgress(value=0.0, description='Training', layout=Layout(flex='2'), max=1125.0, style=Pro…"
      ]
     },
     "metadata": {},
     "output_type": "display_data"
    },
    {
     "name": "stdout",
     "output_type": "stream",
     "text": [
      "Epoch 501: train=0.97454, val=0.969106, took 36.821 s\n"
     ]
    },
    {
     "data": {
      "application/vnd.jupyter.widget-view+json": {
       "model_id": "",
       "version_major": 2,
       "version_minor": 0
      },
      "text/plain": [
       "HBox(children=(FloatProgress(value=0.0, description='Training', layout=Layout(flex='2'), max=1125.0, style=Pro…"
      ]
     },
     "metadata": {},
     "output_type": "display_data"
    },
    {
     "name": "stdout",
     "output_type": "stream",
     "text": [
      "Epoch 502: train=0.976208, val=1.01951, took 36.793 s\n"
     ]
    },
    {
     "data": {
      "application/vnd.jupyter.widget-view+json": {
       "model_id": "",
       "version_major": 2,
       "version_minor": 0
      },
      "text/plain": [
       "HBox(children=(FloatProgress(value=0.0, description='Training', layout=Layout(flex='2'), max=1125.0, style=Pro…"
      ]
     },
     "metadata": {},
     "output_type": "display_data"
    },
    {
     "name": "stdout",
     "output_type": "stream",
     "text": [
      "Epoch 503: train=0.974456, val=1.00019, took 36.806 s\n"
     ]
    },
    {
     "data": {
      "application/vnd.jupyter.widget-view+json": {
       "model_id": "",
       "version_major": 2,
       "version_minor": 0
      },
      "text/plain": [
       "HBox(children=(FloatProgress(value=0.0, description='Training', layout=Layout(flex='2'), max=1125.0, style=Pro…"
      ]
     },
     "metadata": {},
     "output_type": "display_data"
    },
    {
     "name": "stdout",
     "output_type": "stream",
     "text": [
      "Epoch 504: train=0.978374, val=0.981247, took 37.024 s\n"
     ]
    },
    {
     "data": {
      "application/vnd.jupyter.widget-view+json": {
       "model_id": "",
       "version_major": 2,
       "version_minor": 0
      },
      "text/plain": [
       "HBox(children=(FloatProgress(value=0.0, description='Training', layout=Layout(flex='2'), max=1125.0, style=Pro…"
      ]
     },
     "metadata": {},
     "output_type": "display_data"
    },
    {
     "name": "stdout",
     "output_type": "stream",
     "text": [
      "Epoch 505: train=0.979112, val=0.968818, took 36.927 s\n"
     ]
    },
    {
     "data": {
      "application/vnd.jupyter.widget-view+json": {
       "model_id": "",
       "version_major": 2,
       "version_minor": 0
      },
      "text/plain": [
       "HBox(children=(FloatProgress(value=0.0, description='Training', layout=Layout(flex='2'), max=1125.0, style=Pro…"
      ]
     },
     "metadata": {},
     "output_type": "display_data"
    },
    {
     "name": "stdout",
     "output_type": "stream",
     "text": [
      "Epoch 506: train=0.975345, val=0.968999, took 36.755 s\n"
     ]
    },
    {
     "data": {
      "application/vnd.jupyter.widget-view+json": {
       "model_id": "",
       "version_major": 2,
       "version_minor": 0
      },
      "text/plain": [
       "HBox(children=(FloatProgress(value=0.0, description='Training', layout=Layout(flex='2'), max=1125.0, style=Pro…"
      ]
     },
     "metadata": {},
     "output_type": "display_data"
    },
    {
     "name": "stdout",
     "output_type": "stream",
     "text": [
      "Epoch 507: train=0.973153, val=0.975202, took 36.807 s\n"
     ]
    },
    {
     "data": {
      "application/vnd.jupyter.widget-view+json": {
       "model_id": "",
       "version_major": 2,
       "version_minor": 0
      },
      "text/plain": [
       "HBox(children=(FloatProgress(value=0.0, description='Training', layout=Layout(flex='2'), max=1125.0, style=Pro…"
      ]
     },
     "metadata": {},
     "output_type": "display_data"
    },
    {
     "name": "stdout",
     "output_type": "stream",
     "text": [
      "Epoch 508: train=0.979203, val=0.981382, took 36.967 s\n"
     ]
    },
    {
     "data": {
      "application/vnd.jupyter.widget-view+json": {
       "model_id": "",
       "version_major": 2,
       "version_minor": 0
      },
      "text/plain": [
       "HBox(children=(FloatProgress(value=0.0, description='Training', layout=Layout(flex='2'), max=1125.0, style=Pro…"
      ]
     },
     "metadata": {},
     "output_type": "display_data"
    },
    {
     "name": "stdout",
     "output_type": "stream",
     "text": [
      "Epoch 509: train=0.976424, val=0.973337, took 37.029 s\n"
     ]
    },
    {
     "data": {
      "application/vnd.jupyter.widget-view+json": {
       "model_id": "",
       "version_major": 2,
       "version_minor": 0
      },
      "text/plain": [
       "HBox(children=(FloatProgress(value=0.0, description='Training', layout=Layout(flex='2'), max=1125.0, style=Pro…"
      ]
     },
     "metadata": {},
     "output_type": "display_data"
    },
    {
     "name": "stdout",
     "output_type": "stream",
     "text": [
      "Epoch 510: train=0.9809, val=1.02465, took 37.185 s\n"
     ]
    },
    {
     "data": {
      "application/vnd.jupyter.widget-view+json": {
       "model_id": "",
       "version_major": 2,
       "version_minor": 0
      },
      "text/plain": [
       "HBox(children=(FloatProgress(value=0.0, description='Training', layout=Layout(flex='2'), max=1125.0, style=Pro…"
      ]
     },
     "metadata": {},
     "output_type": "display_data"
    },
    {
     "name": "stdout",
     "output_type": "stream",
     "text": [
      "Epoch 511: train=0.974335, val=0.971219, took 36.963 s\n"
     ]
    },
    {
     "data": {
      "application/vnd.jupyter.widget-view+json": {
       "model_id": "",
       "version_major": 2,
       "version_minor": 0
      },
      "text/plain": [
       "HBox(children=(FloatProgress(value=0.0, description='Training', layout=Layout(flex='2'), max=1125.0, style=Pro…"
      ]
     },
     "metadata": {},
     "output_type": "display_data"
    },
    {
     "name": "stdout",
     "output_type": "stream",
     "text": [
      "Epoch 512: train=0.976622, val=0.971197, took 36.822 s\n"
     ]
    },
    {
     "data": {
      "application/vnd.jupyter.widget-view+json": {
       "model_id": "",
       "version_major": 2,
       "version_minor": 0
      },
      "text/plain": [
       "HBox(children=(FloatProgress(value=0.0, description='Training', layout=Layout(flex='2'), max=1125.0, style=Pro…"
      ]
     },
     "metadata": {},
     "output_type": "display_data"
    },
    {
     "name": "stdout",
     "output_type": "stream",
     "text": [
      "Epoch 513: train=0.975431, val=0.979151, took 36.796 s\n"
     ]
    },
    {
     "data": {
      "application/vnd.jupyter.widget-view+json": {
       "model_id": "",
       "version_major": 2,
       "version_minor": 0
      },
      "text/plain": [
       "HBox(children=(FloatProgress(value=0.0, description='Training', layout=Layout(flex='2'), max=1125.0, style=Pro…"
      ]
     },
     "metadata": {},
     "output_type": "display_data"
    },
    {
     "name": "stdout",
     "output_type": "stream",
     "text": [
      "Epoch 514: train=0.974457, val=1.0067, took 36.718 s\n"
     ]
    },
    {
     "data": {
      "application/vnd.jupyter.widget-view+json": {
       "model_id": "",
       "version_major": 2,
       "version_minor": 0
      },
      "text/plain": [
       "HBox(children=(FloatProgress(value=0.0, description='Training', layout=Layout(flex='2'), max=1125.0, style=Pro…"
      ]
     },
     "metadata": {},
     "output_type": "display_data"
    },
    {
     "name": "stdout",
     "output_type": "stream",
     "text": [
      "Epoch 515: train=0.978016, val=0.991802, took 36.832 s\n"
     ]
    },
    {
     "data": {
      "application/vnd.jupyter.widget-view+json": {
       "model_id": "",
       "version_major": 2,
       "version_minor": 0
      },
      "text/plain": [
       "HBox(children=(FloatProgress(value=0.0, description='Training', layout=Layout(flex='2'), max=1125.0, style=Pro…"
      ]
     },
     "metadata": {},
     "output_type": "display_data"
    },
    {
     "name": "stdout",
     "output_type": "stream",
     "text": [
      "Epoch 516: train=0.977284, val=0.983025, took 36.82 s\n"
     ]
    },
    {
     "data": {
      "application/vnd.jupyter.widget-view+json": {
       "model_id": "",
       "version_major": 2,
       "version_minor": 0
      },
      "text/plain": [
       "HBox(children=(FloatProgress(value=0.0, description='Training', layout=Layout(flex='2'), max=1125.0, style=Pro…"
      ]
     },
     "metadata": {},
     "output_type": "display_data"
    },
    {
     "name": "stdout",
     "output_type": "stream",
     "text": [
      "Epoch 517: train=0.976256, val=0.982047, took 36.74 s\n"
     ]
    },
    {
     "data": {
      "application/vnd.jupyter.widget-view+json": {
       "model_id": "",
       "version_major": 2,
       "version_minor": 0
      },
      "text/plain": [
       "HBox(children=(FloatProgress(value=0.0, description='Training', layout=Layout(flex='2'), max=1125.0, style=Pro…"
      ]
     },
     "metadata": {},
     "output_type": "display_data"
    },
    {
     "name": "stdout",
     "output_type": "stream",
     "text": [
      "Epoch 518: train=0.978435, val=0.966939, took 36.853 s\n"
     ]
    },
    {
     "data": {
      "application/vnd.jupyter.widget-view+json": {
       "model_id": "",
       "version_major": 2,
       "version_minor": 0
      },
      "text/plain": [
       "HBox(children=(FloatProgress(value=0.0, description='Training', layout=Layout(flex='2'), max=1125.0, style=Pro…"
      ]
     },
     "metadata": {},
     "output_type": "display_data"
    },
    {
     "name": "stdout",
     "output_type": "stream",
     "text": [
      "Epoch 519: train=0.974693, val=0.969688, took 36.787 s\n"
     ]
    },
    {
     "data": {
      "application/vnd.jupyter.widget-view+json": {
       "model_id": "",
       "version_major": 2,
       "version_minor": 0
      },
      "text/plain": [
       "HBox(children=(FloatProgress(value=0.0, description='Training', layout=Layout(flex='2'), max=1125.0, style=Pro…"
      ]
     },
     "metadata": {},
     "output_type": "display_data"
    },
    {
     "name": "stdout",
     "output_type": "stream",
     "text": [
      "Epoch 520: train=0.977743, val=0.970569, took 36.888 s\n"
     ]
    },
    {
     "data": {
      "application/vnd.jupyter.widget-view+json": {
       "model_id": "",
       "version_major": 2,
       "version_minor": 0
      },
      "text/plain": [
       "HBox(children=(FloatProgress(value=0.0, description='Training', layout=Layout(flex='2'), max=1125.0, style=Pro…"
      ]
     },
     "metadata": {},
     "output_type": "display_data"
    },
    {
     "name": "stdout",
     "output_type": "stream",
     "text": [
      "Epoch 521: train=0.976985, val=1.18043, took 36.743 s\n"
     ]
    },
    {
     "data": {
      "application/vnd.jupyter.widget-view+json": {
       "model_id": "",
       "version_major": 2,
       "version_minor": 0
      },
      "text/plain": [
       "HBox(children=(FloatProgress(value=0.0, description='Training', layout=Layout(flex='2'), max=1125.0, style=Pro…"
      ]
     },
     "metadata": {},
     "output_type": "display_data"
    },
    {
     "name": "stdout",
     "output_type": "stream",
     "text": [
      "Epoch 522: train=0.975519, val=0.967966, took 36.665 s\n"
     ]
    },
    {
     "data": {
      "application/vnd.jupyter.widget-view+json": {
       "model_id": "",
       "version_major": 2,
       "version_minor": 0
      },
      "text/plain": [
       "HBox(children=(FloatProgress(value=0.0, description='Training', layout=Layout(flex='2'), max=1125.0, style=Pro…"
      ]
     },
     "metadata": {},
     "output_type": "display_data"
    },
    {
     "name": "stdout",
     "output_type": "stream",
     "text": [
      "Epoch 523: train=0.977048, val=0.966396, took 36.779 s\n"
     ]
    },
    {
     "data": {
      "application/vnd.jupyter.widget-view+json": {
       "model_id": "",
       "version_major": 2,
       "version_minor": 0
      },
      "text/plain": [
       "HBox(children=(FloatProgress(value=0.0, description='Training', layout=Layout(flex='2'), max=1125.0, style=Pro…"
      ]
     },
     "metadata": {},
     "output_type": "display_data"
    },
    {
     "name": "stdout",
     "output_type": "stream",
     "text": [
      "Epoch 524: train=0.968281, val=1.00125, took 36.835 s\n"
     ]
    },
    {
     "data": {
      "application/vnd.jupyter.widget-view+json": {
       "model_id": "",
       "version_major": 2,
       "version_minor": 0
      },
      "text/plain": [
       "HBox(children=(FloatProgress(value=0.0, description='Training', layout=Layout(flex='2'), max=1125.0, style=Pro…"
      ]
     },
     "metadata": {},
     "output_type": "display_data"
    },
    {
     "name": "stdout",
     "output_type": "stream",
     "text": [
      "Epoch 525: train=0.974503, val=0.971942, took 36.88 s\n"
     ]
    },
    {
     "data": {
      "application/vnd.jupyter.widget-view+json": {
       "model_id": "",
       "version_major": 2,
       "version_minor": 0
      },
      "text/plain": [
       "HBox(children=(FloatProgress(value=0.0, description='Training', layout=Layout(flex='2'), max=1125.0, style=Pro…"
      ]
     },
     "metadata": {},
     "output_type": "display_data"
    },
    {
     "name": "stdout",
     "output_type": "stream",
     "text": [
      "Epoch 526: train=0.977201, val=0.966238, took 36.878 s\n"
     ]
    },
    {
     "data": {
      "application/vnd.jupyter.widget-view+json": {
       "model_id": "",
       "version_major": 2,
       "version_minor": 0
      },
      "text/plain": [
       "HBox(children=(FloatProgress(value=0.0, description='Training', layout=Layout(flex='2'), max=1125.0, style=Pro…"
      ]
     },
     "metadata": {},
     "output_type": "display_data"
    },
    {
     "name": "stdout",
     "output_type": "stream",
     "text": [
      "Epoch 527: train=0.978132, val=0.966733, took 36.906 s\n"
     ]
    },
    {
     "data": {
      "application/vnd.jupyter.widget-view+json": {
       "model_id": "",
       "version_major": 2,
       "version_minor": 0
      },
      "text/plain": [
       "HBox(children=(FloatProgress(value=0.0, description='Training', layout=Layout(flex='2'), max=1125.0, style=Pro…"
      ]
     },
     "metadata": {},
     "output_type": "display_data"
    },
    {
     "name": "stdout",
     "output_type": "stream",
     "text": [
      "Epoch 528: train=0.97922, val=1.01088, took 36.757 s\n"
     ]
    },
    {
     "data": {
      "application/vnd.jupyter.widget-view+json": {
       "model_id": "",
       "version_major": 2,
       "version_minor": 0
      },
      "text/plain": [
       "HBox(children=(FloatProgress(value=0.0, description='Training', layout=Layout(flex='2'), max=1125.0, style=Pro…"
      ]
     },
     "metadata": {},
     "output_type": "display_data"
    },
    {
     "name": "stdout",
     "output_type": "stream",
     "text": [
      "Epoch 529: train=0.974159, val=0.971674, took 36.764 s\n"
     ]
    },
    {
     "data": {
      "application/vnd.jupyter.widget-view+json": {
       "model_id": "",
       "version_major": 2,
       "version_minor": 0
      },
      "text/plain": [
       "HBox(children=(FloatProgress(value=0.0, description='Training', layout=Layout(flex='2'), max=1125.0, style=Pro…"
      ]
     },
     "metadata": {},
     "output_type": "display_data"
    },
    {
     "name": "stdout",
     "output_type": "stream",
     "text": [
      "Epoch 530: train=0.974476, val=0.972407, took 36.664 s\n"
     ]
    },
    {
     "data": {
      "application/vnd.jupyter.widget-view+json": {
       "model_id": "",
       "version_major": 2,
       "version_minor": 0
      },
      "text/plain": [
       "HBox(children=(FloatProgress(value=0.0, description='Training', layout=Layout(flex='2'), max=1125.0, style=Pro…"
      ]
     },
     "metadata": {},
     "output_type": "display_data"
    },
    {
     "name": "stdout",
     "output_type": "stream",
     "text": [
      "Epoch 531: train=0.976807, val=1.01841, took 36.831 s\n"
     ]
    },
    {
     "data": {
      "application/vnd.jupyter.widget-view+json": {
       "model_id": "",
       "version_major": 2,
       "version_minor": 0
      },
      "text/plain": [
       "HBox(children=(FloatProgress(value=0.0, description='Training', layout=Layout(flex='2'), max=1125.0, style=Pro…"
      ]
     },
     "metadata": {},
     "output_type": "display_data"
    },
    {
     "name": "stdout",
     "output_type": "stream",
     "text": [
      "Epoch 532: train=0.978834, val=0.972393, took 36.809 s\n"
     ]
    },
    {
     "data": {
      "application/vnd.jupyter.widget-view+json": {
       "model_id": "",
       "version_major": 2,
       "version_minor": 0
      },
      "text/plain": [
       "HBox(children=(FloatProgress(value=0.0, description='Training', layout=Layout(flex='2'), max=1125.0, style=Pro…"
      ]
     },
     "metadata": {},
     "output_type": "display_data"
    },
    {
     "name": "stdout",
     "output_type": "stream",
     "text": [
      "Epoch 533: train=0.98157, val=0.974822, took 36.79 s\n"
     ]
    },
    {
     "data": {
      "application/vnd.jupyter.widget-view+json": {
       "model_id": "",
       "version_major": 2,
       "version_minor": 0
      },
      "text/plain": [
       "HBox(children=(FloatProgress(value=0.0, description='Training', layout=Layout(flex='2'), max=1125.0, style=Pro…"
      ]
     },
     "metadata": {},
     "output_type": "display_data"
    },
    {
     "name": "stdout",
     "output_type": "stream",
     "text": [
      "Epoch 534: train=0.970641, val=0.969935, took 36.955 s\n"
     ]
    },
    {
     "data": {
      "application/vnd.jupyter.widget-view+json": {
       "model_id": "",
       "version_major": 2,
       "version_minor": 0
      },
      "text/plain": [
       "HBox(children=(FloatProgress(value=0.0, description='Training', layout=Layout(flex='2'), max=1125.0, style=Pro…"
      ]
     },
     "metadata": {},
     "output_type": "display_data"
    },
    {
     "name": "stdout",
     "output_type": "stream",
     "text": [
      "Epoch 535: train=0.977294, val=0.980307, took 36.895 s\n"
     ]
    },
    {
     "data": {
      "application/vnd.jupyter.widget-view+json": {
       "model_id": "",
       "version_major": 2,
       "version_minor": 0
      },
      "text/plain": [
       "HBox(children=(FloatProgress(value=0.0, description='Training', layout=Layout(flex='2'), max=1125.0, style=Pro…"
      ]
     },
     "metadata": {},
     "output_type": "display_data"
    },
    {
     "name": "stdout",
     "output_type": "stream",
     "text": [
      "Epoch 536: train=0.976651, val=0.972261, took 36.804 s\n"
     ]
    },
    {
     "data": {
      "application/vnd.jupyter.widget-view+json": {
       "model_id": "",
       "version_major": 2,
       "version_minor": 0
      },
      "text/plain": [
       "HBox(children=(FloatProgress(value=0.0, description='Training', layout=Layout(flex='2'), max=1125.0, style=Pro…"
      ]
     },
     "metadata": {},
     "output_type": "display_data"
    },
    {
     "name": "stdout",
     "output_type": "stream",
     "text": [
      "Epoch 537: train=0.969224, val=0.987891, took 36.825 s\n"
     ]
    },
    {
     "data": {
      "application/vnd.jupyter.widget-view+json": {
       "model_id": "",
       "version_major": 2,
       "version_minor": 0
      },
      "text/plain": [
       "HBox(children=(FloatProgress(value=0.0, description='Training', layout=Layout(flex='2'), max=1125.0, style=Pro…"
      ]
     },
     "metadata": {},
     "output_type": "display_data"
    },
    {
     "name": "stdout",
     "output_type": "stream",
     "text": [
      "Epoch 538: train=0.96923, val=1.03086, took 36.809 s\n"
     ]
    },
    {
     "data": {
      "application/vnd.jupyter.widget-view+json": {
       "model_id": "",
       "version_major": 2,
       "version_minor": 0
      },
      "text/plain": [
       "HBox(children=(FloatProgress(value=0.0, description='Training', layout=Layout(flex='2'), max=1125.0, style=Pro…"
      ]
     },
     "metadata": {},
     "output_type": "display_data"
    },
    {
     "name": "stdout",
     "output_type": "stream",
     "text": [
      "Epoch 539: train=0.976753, val=0.979044, took 36.797 s\n"
     ]
    },
    {
     "data": {
      "application/vnd.jupyter.widget-view+json": {
       "model_id": "",
       "version_major": 2,
       "version_minor": 0
      },
      "text/plain": [
       "HBox(children=(FloatProgress(value=0.0, description='Training', layout=Layout(flex='2'), max=1125.0, style=Pro…"
      ]
     },
     "metadata": {},
     "output_type": "display_data"
    },
    {
     "name": "stdout",
     "output_type": "stream",
     "text": [
      "Epoch 540: train=0.970197, val=1.02316, took 36.818 s\n"
     ]
    },
    {
     "data": {
      "application/vnd.jupyter.widget-view+json": {
       "model_id": "",
       "version_major": 2,
       "version_minor": 0
      },
      "text/plain": [
       "HBox(children=(FloatProgress(value=0.0, description='Training', layout=Layout(flex='2'), max=1125.0, style=Pro…"
      ]
     },
     "metadata": {},
     "output_type": "display_data"
    },
    {
     "name": "stdout",
     "output_type": "stream",
     "text": [
      "Epoch 541: train=0.979742, val=0.970533, took 36.884 s\n"
     ]
    },
    {
     "data": {
      "application/vnd.jupyter.widget-view+json": {
       "model_id": "",
       "version_major": 2,
       "version_minor": 0
      },
      "text/plain": [
       "HBox(children=(FloatProgress(value=0.0, description='Training', layout=Layout(flex='2'), max=1125.0, style=Pro…"
      ]
     },
     "metadata": {},
     "output_type": "display_data"
    },
    {
     "name": "stdout",
     "output_type": "stream",
     "text": [
      "Epoch 542: train=0.971739, val=1.0274, took 37.043 s\n"
     ]
    },
    {
     "data": {
      "application/vnd.jupyter.widget-view+json": {
       "model_id": "",
       "version_major": 2,
       "version_minor": 0
      },
      "text/plain": [
       "HBox(children=(FloatProgress(value=0.0, description='Training', layout=Layout(flex='2'), max=1125.0, style=Pro…"
      ]
     },
     "metadata": {},
     "output_type": "display_data"
    },
    {
     "name": "stdout",
     "output_type": "stream",
     "text": [
      "Epoch 543: train=0.975096, val=1.0235, took 36.898 s\n"
     ]
    },
    {
     "data": {
      "application/vnd.jupyter.widget-view+json": {
       "model_id": "",
       "version_major": 2,
       "version_minor": 0
      },
      "text/plain": [
       "HBox(children=(FloatProgress(value=0.0, description='Training', layout=Layout(flex='2'), max=1125.0, style=Pro…"
      ]
     },
     "metadata": {},
     "output_type": "display_data"
    },
    {
     "name": "stdout",
     "output_type": "stream",
     "text": [
      "Epoch 544: train=0.974482, val=0.965118, took 37.017 s\n"
     ]
    },
    {
     "data": {
      "application/vnd.jupyter.widget-view+json": {
       "model_id": "",
       "version_major": 2,
       "version_minor": 0
      },
      "text/plain": [
       "HBox(children=(FloatProgress(value=0.0, description='Training', layout=Layout(flex='2'), max=1125.0, style=Pro…"
      ]
     },
     "metadata": {},
     "output_type": "display_data"
    },
    {
     "name": "stdout",
     "output_type": "stream",
     "text": [
      "Epoch 545: train=0.974217, val=0.973332, took 36.877 s\n"
     ]
    },
    {
     "data": {
      "application/vnd.jupyter.widget-view+json": {
       "model_id": "",
       "version_major": 2,
       "version_minor": 0
      },
      "text/plain": [
       "HBox(children=(FloatProgress(value=0.0, description='Training', layout=Layout(flex='2'), max=1125.0, style=Pro…"
      ]
     },
     "metadata": {},
     "output_type": "display_data"
    },
    {
     "name": "stdout",
     "output_type": "stream",
     "text": [
      "Epoch 546: train=0.97366, val=0.971037, took 36.981 s\n"
     ]
    },
    {
     "data": {
      "application/vnd.jupyter.widget-view+json": {
       "model_id": "",
       "version_major": 2,
       "version_minor": 0
      },
      "text/plain": [
       "HBox(children=(FloatProgress(value=0.0, description='Training', layout=Layout(flex='2'), max=1125.0, style=Pro…"
      ]
     },
     "metadata": {},
     "output_type": "display_data"
    },
    {
     "name": "stdout",
     "output_type": "stream",
     "text": [
      "Epoch 547: train=0.977574, val=1.00145, took 36.745 s\n"
     ]
    },
    {
     "data": {
      "application/vnd.jupyter.widget-view+json": {
       "model_id": "",
       "version_major": 2,
       "version_minor": 0
      },
      "text/plain": [
       "HBox(children=(FloatProgress(value=0.0, description='Training', layout=Layout(flex='2'), max=1125.0, style=Pro…"
      ]
     },
     "metadata": {},
     "output_type": "display_data"
    },
    {
     "name": "stdout",
     "output_type": "stream",
     "text": [
      "Epoch 548: train=0.973265, val=0.964842, took 36.788 s\n"
     ]
    },
    {
     "data": {
      "application/vnd.jupyter.widget-view+json": {
       "model_id": "",
       "version_major": 2,
       "version_minor": 0
      },
      "text/plain": [
       "HBox(children=(FloatProgress(value=0.0, description='Training', layout=Layout(flex='2'), max=1125.0, style=Pro…"
      ]
     },
     "metadata": {},
     "output_type": "display_data"
    },
    {
     "name": "stdout",
     "output_type": "stream",
     "text": [
      "Epoch 549: train=0.978077, val=0.969816, took 36.92 s\n"
     ]
    },
    {
     "data": {
      "application/vnd.jupyter.widget-view+json": {
       "model_id": "",
       "version_major": 2,
       "version_minor": 0
      },
      "text/plain": [
       "HBox(children=(FloatProgress(value=0.0, description='Training', layout=Layout(flex='2'), max=1125.0, style=Pro…"
      ]
     },
     "metadata": {},
     "output_type": "display_data"
    },
    {
     "name": "stdout",
     "output_type": "stream",
     "text": [
      "Epoch 550: train=0.975503, val=1.0388, took 36.895 s\n"
     ]
    },
    {
     "data": {
      "application/vnd.jupyter.widget-view+json": {
       "model_id": "",
       "version_major": 2,
       "version_minor": 0
      },
      "text/plain": [
       "HBox(children=(FloatProgress(value=0.0, description='Training', layout=Layout(flex='2'), max=1125.0, style=Pro…"
      ]
     },
     "metadata": {},
     "output_type": "display_data"
    },
    {
     "name": "stdout",
     "output_type": "stream",
     "text": [
      "Epoch 551: train=0.973912, val=0.966254, took 36.798 s\n"
     ]
    },
    {
     "data": {
      "application/vnd.jupyter.widget-view+json": {
       "model_id": "",
       "version_major": 2,
       "version_minor": 0
      },
      "text/plain": [
       "HBox(children=(FloatProgress(value=0.0, description='Training', layout=Layout(flex='2'), max=1125.0, style=Pro…"
      ]
     },
     "metadata": {},
     "output_type": "display_data"
    },
    {
     "name": "stdout",
     "output_type": "stream",
     "text": [
      "Epoch 552: train=0.975591, val=0.964976, took 36.737 s\n"
     ]
    },
    {
     "data": {
      "application/vnd.jupyter.widget-view+json": {
       "model_id": "",
       "version_major": 2,
       "version_minor": 0
      },
      "text/plain": [
       "HBox(children=(FloatProgress(value=0.0, description='Training', layout=Layout(flex='2'), max=1125.0, style=Pro…"
      ]
     },
     "metadata": {},
     "output_type": "display_data"
    },
    {
     "name": "stdout",
     "output_type": "stream",
     "text": [
      "Epoch 553: train=0.972722, val=0.969331, took 36.713 s\n"
     ]
    },
    {
     "data": {
      "application/vnd.jupyter.widget-view+json": {
       "model_id": "",
       "version_major": 2,
       "version_minor": 0
      },
      "text/plain": [
       "HBox(children=(FloatProgress(value=0.0, description='Training', layout=Layout(flex='2'), max=1125.0, style=Pro…"
      ]
     },
     "metadata": {},
     "output_type": "display_data"
    },
    {
     "name": "stdout",
     "output_type": "stream",
     "text": [
      "Epoch 554: train=0.975907, val=0.973769, took 36.734 s\n"
     ]
    },
    {
     "data": {
      "application/vnd.jupyter.widget-view+json": {
       "model_id": "",
       "version_major": 2,
       "version_minor": 0
      },
      "text/plain": [
       "HBox(children=(FloatProgress(value=0.0, description='Training', layout=Layout(flex='2'), max=1125.0, style=Pro…"
      ]
     },
     "metadata": {},
     "output_type": "display_data"
    },
    {
     "name": "stdout",
     "output_type": "stream",
     "text": [
      "Epoch 555: train=0.974116, val=0.969902, took 36.937 s\n"
     ]
    },
    {
     "data": {
      "application/vnd.jupyter.widget-view+json": {
       "model_id": "",
       "version_major": 2,
       "version_minor": 0
      },
      "text/plain": [
       "HBox(children=(FloatProgress(value=0.0, description='Training', layout=Layout(flex='2'), max=1125.0, style=Pro…"
      ]
     },
     "metadata": {},
     "output_type": "display_data"
    },
    {
     "name": "stdout",
     "output_type": "stream",
     "text": [
      "Epoch 556: train=0.979119, val=0.967914, took 36.844 s\n"
     ]
    },
    {
     "data": {
      "application/vnd.jupyter.widget-view+json": {
       "model_id": "",
       "version_major": 2,
       "version_minor": 0
      },
      "text/plain": [
       "HBox(children=(FloatProgress(value=0.0, description='Training', layout=Layout(flex='2'), max=1125.0, style=Pro…"
      ]
     },
     "metadata": {},
     "output_type": "display_data"
    },
    {
     "name": "stdout",
     "output_type": "stream",
     "text": [
      "Epoch 557: train=0.970028, val=0.966882, took 36.721 s\n"
     ]
    },
    {
     "data": {
      "application/vnd.jupyter.widget-view+json": {
       "model_id": "",
       "version_major": 2,
       "version_minor": 0
      },
      "text/plain": [
       "HBox(children=(FloatProgress(value=0.0, description='Training', layout=Layout(flex='2'), max=1125.0, style=Pro…"
      ]
     },
     "metadata": {},
     "output_type": "display_data"
    },
    {
     "name": "stdout",
     "output_type": "stream",
     "text": [
      "Epoch 558: train=0.974727, val=0.98386, took 37.219 s\n"
     ]
    },
    {
     "data": {
      "application/vnd.jupyter.widget-view+json": {
       "model_id": "",
       "version_major": 2,
       "version_minor": 0
      },
      "text/plain": [
       "HBox(children=(FloatProgress(value=0.0, description='Training', layout=Layout(flex='2'), max=1125.0, style=Pro…"
      ]
     },
     "metadata": {},
     "output_type": "display_data"
    },
    {
     "name": "stdout",
     "output_type": "stream",
     "text": [
      "Epoch 559: train=0.97258, val=0.970172, took 37.26 s\n"
     ]
    },
    {
     "data": {
      "application/vnd.jupyter.widget-view+json": {
       "model_id": "",
       "version_major": 2,
       "version_minor": 0
      },
      "text/plain": [
       "HBox(children=(FloatProgress(value=0.0, description='Training', layout=Layout(flex='2'), max=1125.0, style=Pro…"
      ]
     },
     "metadata": {},
     "output_type": "display_data"
    },
    {
     "name": "stdout",
     "output_type": "stream",
     "text": [
      "Epoch 560: train=0.977915, val=0.967262, took 36.783 s\n"
     ]
    },
    {
     "data": {
      "application/vnd.jupyter.widget-view+json": {
       "model_id": "",
       "version_major": 2,
       "version_minor": 0
      },
      "text/plain": [
       "HBox(children=(FloatProgress(value=0.0, description='Training', layout=Layout(flex='2'), max=1125.0, style=Pro…"
      ]
     },
     "metadata": {},
     "output_type": "display_data"
    },
    {
     "name": "stdout",
     "output_type": "stream",
     "text": [
      "Epoch 561: train=0.971283, val=0.970752, took 36.915 s\n"
     ]
    },
    {
     "data": {
      "application/vnd.jupyter.widget-view+json": {
       "model_id": "",
       "version_major": 2,
       "version_minor": 0
      },
      "text/plain": [
       "HBox(children=(FloatProgress(value=0.0, description='Training', layout=Layout(flex='2'), max=1125.0, style=Pro…"
      ]
     },
     "metadata": {},
     "output_type": "display_data"
    },
    {
     "name": "stdout",
     "output_type": "stream",
     "text": [
      "Epoch 562: train=0.976986, val=0.977602, took 36.826 s\n"
     ]
    },
    {
     "data": {
      "application/vnd.jupyter.widget-view+json": {
       "model_id": "",
       "version_major": 2,
       "version_minor": 0
      },
      "text/plain": [
       "HBox(children=(FloatProgress(value=0.0, description='Training', layout=Layout(flex='2'), max=1125.0, style=Pro…"
      ]
     },
     "metadata": {},
     "output_type": "display_data"
    },
    {
     "name": "stdout",
     "output_type": "stream",
     "text": [
      "Epoch 563: train=0.971333, val=0.969135, took 36.702 s\n"
     ]
    },
    {
     "data": {
      "application/vnd.jupyter.widget-view+json": {
       "model_id": "",
       "version_major": 2,
       "version_minor": 0
      },
      "text/plain": [
       "HBox(children=(FloatProgress(value=0.0, description='Training', layout=Layout(flex='2'), max=1125.0, style=Pro…"
      ]
     },
     "metadata": {},
     "output_type": "display_data"
    },
    {
     "name": "stdout",
     "output_type": "stream",
     "text": [
      "Epoch 564: train=0.985743, val=0.992896, took 36.814 s\n"
     ]
    },
    {
     "data": {
      "application/vnd.jupyter.widget-view+json": {
       "model_id": "",
       "version_major": 2,
       "version_minor": 0
      },
      "text/plain": [
       "HBox(children=(FloatProgress(value=0.0, description='Training', layout=Layout(flex='2'), max=1125.0, style=Pro…"
      ]
     },
     "metadata": {},
     "output_type": "display_data"
    },
    {
     "name": "stdout",
     "output_type": "stream",
     "text": [
      "Epoch 565: train=0.97625, val=0.96509, took 36.685 s\n"
     ]
    },
    {
     "data": {
      "application/vnd.jupyter.widget-view+json": {
       "model_id": "",
       "version_major": 2,
       "version_minor": 0
      },
      "text/plain": [
       "HBox(children=(FloatProgress(value=0.0, description='Training', layout=Layout(flex='2'), max=1125.0, style=Pro…"
      ]
     },
     "metadata": {},
     "output_type": "display_data"
    },
    {
     "name": "stdout",
     "output_type": "stream",
     "text": [
      "Epoch 566: train=0.971977, val=0.984269, took 36.793 s\n"
     ]
    },
    {
     "data": {
      "application/vnd.jupyter.widget-view+json": {
       "model_id": "",
       "version_major": 2,
       "version_minor": 0
      },
      "text/plain": [
       "HBox(children=(FloatProgress(value=0.0, description='Training', layout=Layout(flex='2'), max=1125.0, style=Pro…"
      ]
     },
     "metadata": {},
     "output_type": "display_data"
    },
    {
     "name": "stdout",
     "output_type": "stream",
     "text": [
      "Epoch 567: train=0.979064, val=1.01175, took 37.023 s\n"
     ]
    },
    {
     "data": {
      "application/vnd.jupyter.widget-view+json": {
       "model_id": "",
       "version_major": 2,
       "version_minor": 0
      },
      "text/plain": [
       "HBox(children=(FloatProgress(value=0.0, description='Training', layout=Layout(flex='2'), max=1125.0, style=Pro…"
      ]
     },
     "metadata": {},
     "output_type": "display_data"
    },
    {
     "name": "stdout",
     "output_type": "stream",
     "text": [
      "Epoch 568: train=0.968209, val=1.00461, took 36.821 s\n"
     ]
    },
    {
     "data": {
      "application/vnd.jupyter.widget-view+json": {
       "model_id": "",
       "version_major": 2,
       "version_minor": 0
      },
      "text/plain": [
       "HBox(children=(FloatProgress(value=0.0, description='Training', layout=Layout(flex='2'), max=1125.0, style=Pro…"
      ]
     },
     "metadata": {},
     "output_type": "display_data"
    },
    {
     "name": "stdout",
     "output_type": "stream",
     "text": [
      "Epoch 569: train=0.977387, val=0.971662, took 36.703 s\n"
     ]
    },
    {
     "data": {
      "application/vnd.jupyter.widget-view+json": {
       "model_id": "",
       "version_major": 2,
       "version_minor": 0
      },
      "text/plain": [
       "HBox(children=(FloatProgress(value=0.0, description='Training', layout=Layout(flex='2'), max=1125.0, style=Pro…"
      ]
     },
     "metadata": {},
     "output_type": "display_data"
    },
    {
     "name": "stdout",
     "output_type": "stream",
     "text": [
      "Epoch 570: train=0.974846, val=1.01535, took 36.769 s\n"
     ]
    },
    {
     "data": {
      "application/vnd.jupyter.widget-view+json": {
       "model_id": "",
       "version_major": 2,
       "version_minor": 0
      },
      "text/plain": [
       "HBox(children=(FloatProgress(value=0.0, description='Training', layout=Layout(flex='2'), max=1125.0, style=Pro…"
      ]
     },
     "metadata": {},
     "output_type": "display_data"
    },
    {
     "name": "stdout",
     "output_type": "stream",
     "text": [
      "Epoch 571: train=0.973232, val=0.976071, took 37.416 s\n"
     ]
    },
    {
     "data": {
      "application/vnd.jupyter.widget-view+json": {
       "model_id": "",
       "version_major": 2,
       "version_minor": 0
      },
      "text/plain": [
       "HBox(children=(FloatProgress(value=0.0, description='Training', layout=Layout(flex='2'), max=1125.0, style=Pro…"
      ]
     },
     "metadata": {},
     "output_type": "display_data"
    },
    {
     "name": "stdout",
     "output_type": "stream",
     "text": [
      "Epoch 572: train=0.971102, val=0.976487, took 36.725 s\n"
     ]
    },
    {
     "data": {
      "application/vnd.jupyter.widget-view+json": {
       "model_id": "",
       "version_major": 2,
       "version_minor": 0
      },
      "text/plain": [
       "HBox(children=(FloatProgress(value=0.0, description='Training', layout=Layout(flex='2'), max=1125.0, style=Pro…"
      ]
     },
     "metadata": {},
     "output_type": "display_data"
    },
    {
     "name": "stdout",
     "output_type": "stream",
     "text": [
      "Epoch 573: train=0.973271, val=1.0038, took 36.708 s\n"
     ]
    },
    {
     "data": {
      "application/vnd.jupyter.widget-view+json": {
       "model_id": "",
       "version_major": 2,
       "version_minor": 0
      },
      "text/plain": [
       "HBox(children=(FloatProgress(value=0.0, description='Training', layout=Layout(flex='2'), max=1125.0, style=Pro…"
      ]
     },
     "metadata": {},
     "output_type": "display_data"
    },
    {
     "name": "stdout",
     "output_type": "stream",
     "text": [
      "Epoch 574: train=0.972835, val=1.06061, took 36.664 s\n"
     ]
    },
    {
     "data": {
      "application/vnd.jupyter.widget-view+json": {
       "model_id": "",
       "version_major": 2,
       "version_minor": 0
      },
      "text/plain": [
       "HBox(children=(FloatProgress(value=0.0, description='Training', layout=Layout(flex='2'), max=1125.0, style=Pro…"
      ]
     },
     "metadata": {},
     "output_type": "display_data"
    },
    {
     "name": "stdout",
     "output_type": "stream",
     "text": [
      "Epoch 575: train=0.976374, val=0.992441, took 36.818 s\n"
     ]
    },
    {
     "data": {
      "application/vnd.jupyter.widget-view+json": {
       "model_id": "",
       "version_major": 2,
       "version_minor": 0
      },
      "text/plain": [
       "HBox(children=(FloatProgress(value=0.0, description='Training', layout=Layout(flex='2'), max=1125.0, style=Pro…"
      ]
     },
     "metadata": {},
     "output_type": "display_data"
    },
    {
     "name": "stdout",
     "output_type": "stream",
     "text": [
      "Epoch 576: train=0.972679, val=0.975743, took 36.742 s\n"
     ]
    },
    {
     "data": {
      "application/vnd.jupyter.widget-view+json": {
       "model_id": "",
       "version_major": 2,
       "version_minor": 0
      },
      "text/plain": [
       "HBox(children=(FloatProgress(value=0.0, description='Training', layout=Layout(flex='2'), max=1125.0, style=Pro…"
      ]
     },
     "metadata": {},
     "output_type": "display_data"
    },
    {
     "name": "stdout",
     "output_type": "stream",
     "text": [
      "Epoch 577: train=0.970366, val=0.979489, took 36.723 s\n"
     ]
    },
    {
     "data": {
      "application/vnd.jupyter.widget-view+json": {
       "model_id": "",
       "version_major": 2,
       "version_minor": 0
      },
      "text/plain": [
       "HBox(children=(FloatProgress(value=0.0, description='Training', layout=Layout(flex='2'), max=1125.0, style=Pro…"
      ]
     },
     "metadata": {},
     "output_type": "display_data"
    },
    {
     "name": "stdout",
     "output_type": "stream",
     "text": [
      "Epoch 578: train=0.968422, val=0.980844, took 36.742 s\n"
     ]
    },
    {
     "data": {
      "application/vnd.jupyter.widget-view+json": {
       "model_id": "",
       "version_major": 2,
       "version_minor": 0
      },
      "text/plain": [
       "HBox(children=(FloatProgress(value=0.0, description='Training', layout=Layout(flex='2'), max=1125.0, style=Pro…"
      ]
     },
     "metadata": {},
     "output_type": "display_data"
    },
    {
     "name": "stdout",
     "output_type": "stream",
     "text": [
      "Epoch 579: train=0.977328, val=0.982923, took 36.845 s\n"
     ]
    },
    {
     "data": {
      "application/vnd.jupyter.widget-view+json": {
       "model_id": "",
       "version_major": 2,
       "version_minor": 0
      },
      "text/plain": [
       "HBox(children=(FloatProgress(value=0.0, description='Training', layout=Layout(flex='2'), max=1125.0, style=Pro…"
      ]
     },
     "metadata": {},
     "output_type": "display_data"
    },
    {
     "name": "stdout",
     "output_type": "stream",
     "text": [
      "Epoch 580: train=0.972657, val=0.971157, took 36.723 s\n"
     ]
    },
    {
     "data": {
      "application/vnd.jupyter.widget-view+json": {
       "model_id": "",
       "version_major": 2,
       "version_minor": 0
      },
      "text/plain": [
       "HBox(children=(FloatProgress(value=0.0, description='Training', layout=Layout(flex='2'), max=1125.0, style=Pro…"
      ]
     },
     "metadata": {},
     "output_type": "display_data"
    },
    {
     "name": "stdout",
     "output_type": "stream",
     "text": [
      "Epoch 581: train=0.97081, val=0.963443, took 36.783 s\n"
     ]
    },
    {
     "data": {
      "application/vnd.jupyter.widget-view+json": {
       "model_id": "",
       "version_major": 2,
       "version_minor": 0
      },
      "text/plain": [
       "HBox(children=(FloatProgress(value=0.0, description='Training', layout=Layout(flex='2'), max=1125.0, style=Pro…"
      ]
     },
     "metadata": {},
     "output_type": "display_data"
    },
    {
     "name": "stdout",
     "output_type": "stream",
     "text": [
      "Epoch 582: train=0.973807, val=0.970762, took 36.891 s\n"
     ]
    },
    {
     "data": {
      "application/vnd.jupyter.widget-view+json": {
       "model_id": "",
       "version_major": 2,
       "version_minor": 0
      },
      "text/plain": [
       "HBox(children=(FloatProgress(value=0.0, description='Training', layout=Layout(flex='2'), max=1125.0, style=Pro…"
      ]
     },
     "metadata": {},
     "output_type": "display_data"
    },
    {
     "name": "stdout",
     "output_type": "stream",
     "text": [
      "Epoch 583: train=0.967284, val=0.964911, took 36.69 s\n"
     ]
    },
    {
     "data": {
      "application/vnd.jupyter.widget-view+json": {
       "model_id": "",
       "version_major": 2,
       "version_minor": 0
      },
      "text/plain": [
       "HBox(children=(FloatProgress(value=0.0, description='Training', layout=Layout(flex='2'), max=1125.0, style=Pro…"
      ]
     },
     "metadata": {},
     "output_type": "display_data"
    },
    {
     "name": "stdout",
     "output_type": "stream",
     "text": [
      "Epoch 584: train=0.968183, val=0.974578, took 36.666 s\n"
     ]
    },
    {
     "data": {
      "application/vnd.jupyter.widget-view+json": {
       "model_id": "",
       "version_major": 2,
       "version_minor": 0
      },
      "text/plain": [
       "HBox(children=(FloatProgress(value=0.0, description='Training', layout=Layout(flex='2'), max=1125.0, style=Pro…"
      ]
     },
     "metadata": {},
     "output_type": "display_data"
    },
    {
     "name": "stdout",
     "output_type": "stream",
     "text": [
      "Epoch 585: train=0.968051, val=1.13763, took 36.674 s\n"
     ]
    },
    {
     "data": {
      "application/vnd.jupyter.widget-view+json": {
       "model_id": "",
       "version_major": 2,
       "version_minor": 0
      },
      "text/plain": [
       "HBox(children=(FloatProgress(value=0.0, description='Training', layout=Layout(flex='2'), max=1125.0, style=Pro…"
      ]
     },
     "metadata": {},
     "output_type": "display_data"
    },
    {
     "name": "stdout",
     "output_type": "stream",
     "text": [
      "Epoch 586: train=0.974898, val=0.968734, took 36.778 s\n"
     ]
    },
    {
     "data": {
      "application/vnd.jupyter.widget-view+json": {
       "model_id": "",
       "version_major": 2,
       "version_minor": 0
      },
      "text/plain": [
       "HBox(children=(FloatProgress(value=0.0, description='Training', layout=Layout(flex='2'), max=1125.0, style=Pro…"
      ]
     },
     "metadata": {},
     "output_type": "display_data"
    },
    {
     "name": "stdout",
     "output_type": "stream",
     "text": [
      "Epoch 587: train=0.973029, val=1.15015, took 36.78 s\n"
     ]
    },
    {
     "data": {
      "application/vnd.jupyter.widget-view+json": {
       "model_id": "",
       "version_major": 2,
       "version_minor": 0
      },
      "text/plain": [
       "HBox(children=(FloatProgress(value=0.0, description='Training', layout=Layout(flex='2'), max=1125.0, style=Pro…"
      ]
     },
     "metadata": {},
     "output_type": "display_data"
    },
    {
     "name": "stdout",
     "output_type": "stream",
     "text": [
      "Epoch 588: train=0.976263, val=1.02039, took 36.636 s\n"
     ]
    },
    {
     "data": {
      "application/vnd.jupyter.widget-view+json": {
       "model_id": "",
       "version_major": 2,
       "version_minor": 0
      },
      "text/plain": [
       "HBox(children=(FloatProgress(value=0.0, description='Training', layout=Layout(flex='2'), max=1125.0, style=Pro…"
      ]
     },
     "metadata": {},
     "output_type": "display_data"
    },
    {
     "name": "stdout",
     "output_type": "stream",
     "text": [
      "Epoch 589: train=0.969983, val=0.968403, took 36.802 s\n"
     ]
    },
    {
     "data": {
      "application/vnd.jupyter.widget-view+json": {
       "model_id": "",
       "version_major": 2,
       "version_minor": 0
      },
      "text/plain": [
       "HBox(children=(FloatProgress(value=0.0, description='Training', layout=Layout(flex='2'), max=1125.0, style=Pro…"
      ]
     },
     "metadata": {},
     "output_type": "display_data"
    },
    {
     "name": "stdout",
     "output_type": "stream",
     "text": [
      "Epoch 590: train=0.969611, val=0.966292, took 36.688 s\n"
     ]
    },
    {
     "data": {
      "application/vnd.jupyter.widget-view+json": {
       "model_id": "",
       "version_major": 2,
       "version_minor": 0
      },
      "text/plain": [
       "HBox(children=(FloatProgress(value=0.0, description='Training', layout=Layout(flex='2'), max=1125.0, style=Pro…"
      ]
     },
     "metadata": {},
     "output_type": "display_data"
    },
    {
     "name": "stdout",
     "output_type": "stream",
     "text": [
      "Epoch 591: train=0.969447, val=1.00283, took 36.871 s\n"
     ]
    },
    {
     "data": {
      "application/vnd.jupyter.widget-view+json": {
       "model_id": "",
       "version_major": 2,
       "version_minor": 0
      },
      "text/plain": [
       "HBox(children=(FloatProgress(value=0.0, description='Training', layout=Layout(flex='2'), max=1125.0, style=Pro…"
      ]
     },
     "metadata": {},
     "output_type": "display_data"
    },
    {
     "name": "stdout",
     "output_type": "stream",
     "text": [
      "Epoch 592: train=0.974378, val=0.961289, took 37.016 s\n"
     ]
    },
    {
     "data": {
      "application/vnd.jupyter.widget-view+json": {
       "model_id": "",
       "version_major": 2,
       "version_minor": 0
      },
      "text/plain": [
       "HBox(children=(FloatProgress(value=0.0, description='Training', layout=Layout(flex='2'), max=1125.0, style=Pro…"
      ]
     },
     "metadata": {},
     "output_type": "display_data"
    },
    {
     "name": "stdout",
     "output_type": "stream",
     "text": [
      "Epoch 593: train=0.969864, val=0.996196, took 36.755 s\n"
     ]
    },
    {
     "data": {
      "application/vnd.jupyter.widget-view+json": {
       "model_id": "",
       "version_major": 2,
       "version_minor": 0
      },
      "text/plain": [
       "HBox(children=(FloatProgress(value=0.0, description='Training', layout=Layout(flex='2'), max=1125.0, style=Pro…"
      ]
     },
     "metadata": {},
     "output_type": "display_data"
    },
    {
     "name": "stdout",
     "output_type": "stream",
     "text": [
      "Epoch 594: train=0.971052, val=1.14823, took 36.643 s\n"
     ]
    },
    {
     "data": {
      "application/vnd.jupyter.widget-view+json": {
       "model_id": "",
       "version_major": 2,
       "version_minor": 0
      },
      "text/plain": [
       "HBox(children=(FloatProgress(value=0.0, description='Training', layout=Layout(flex='2'), max=1125.0, style=Pro…"
      ]
     },
     "metadata": {},
     "output_type": "display_data"
    },
    {
     "name": "stdout",
     "output_type": "stream",
     "text": [
      "Epoch 595: train=0.970998, val=0.996841, took 36.643 s\n"
     ]
    },
    {
     "data": {
      "application/vnd.jupyter.widget-view+json": {
       "model_id": "",
       "version_major": 2,
       "version_minor": 0
      },
      "text/plain": [
       "HBox(children=(FloatProgress(value=0.0, description='Training', layout=Layout(flex='2'), max=1125.0, style=Pro…"
      ]
     },
     "metadata": {},
     "output_type": "display_data"
    },
    {
     "name": "stdout",
     "output_type": "stream",
     "text": [
      "Epoch 596: train=0.971741, val=0.964384, took 37.131 s\n"
     ]
    },
    {
     "data": {
      "application/vnd.jupyter.widget-view+json": {
       "model_id": "",
       "version_major": 2,
       "version_minor": 0
      },
      "text/plain": [
       "HBox(children=(FloatProgress(value=0.0, description='Training', layout=Layout(flex='2'), max=1125.0, style=Pro…"
      ]
     },
     "metadata": {},
     "output_type": "display_data"
    },
    {
     "name": "stdout",
     "output_type": "stream",
     "text": [
      "Epoch 597: train=0.972839, val=1.02292, took 36.948 s\n"
     ]
    },
    {
     "data": {
      "application/vnd.jupyter.widget-view+json": {
       "model_id": "",
       "version_major": 2,
       "version_minor": 0
      },
      "text/plain": [
       "HBox(children=(FloatProgress(value=0.0, description='Training', layout=Layout(flex='2'), max=1125.0, style=Pro…"
      ]
     },
     "metadata": {},
     "output_type": "display_data"
    },
    {
     "name": "stdout",
     "output_type": "stream",
     "text": [
      "Epoch 598: train=0.970665, val=0.990525, took 36.872 s\n"
     ]
    },
    {
     "data": {
      "application/vnd.jupyter.widget-view+json": {
       "model_id": "",
       "version_major": 2,
       "version_minor": 0
      },
      "text/plain": [
       "HBox(children=(FloatProgress(value=0.0, description='Training', layout=Layout(flex='2'), max=1125.0, style=Pro…"
      ]
     },
     "metadata": {},
     "output_type": "display_data"
    },
    {
     "name": "stdout",
     "output_type": "stream",
     "text": [
      "Epoch 599: train=0.972539, val=0.968586, took 36.877 s\n"
     ]
    },
    {
     "data": {
      "application/vnd.jupyter.widget-view+json": {
       "model_id": "",
       "version_major": 2,
       "version_minor": 0
      },
      "text/plain": [
       "HBox(children=(FloatProgress(value=0.0, description='Training', layout=Layout(flex='2'), max=1125.0, style=Pro…"
      ]
     },
     "metadata": {},
     "output_type": "display_data"
    },
    {
     "name": "stdout",
     "output_type": "stream",
     "text": [
      "Epoch 600: train=0.971183, val=0.969322, took 36.786 s\n"
     ]
    },
    {
     "data": {
      "application/vnd.jupyter.widget-view+json": {
       "model_id": "",
       "version_major": 2,
       "version_minor": 0
      },
      "text/plain": [
       "HBox(children=(FloatProgress(value=0.0, description='Training', layout=Layout(flex='2'), max=1125.0, style=Pro…"
      ]
     },
     "metadata": {},
     "output_type": "display_data"
    },
    {
     "name": "stdout",
     "output_type": "stream",
     "text": [
      "Epoch 601: train=0.970485, val=0.97344, took 36.742 s\n"
     ]
    },
    {
     "data": {
      "application/vnd.jupyter.widget-view+json": {
       "model_id": "",
       "version_major": 2,
       "version_minor": 0
      },
      "text/plain": [
       "HBox(children=(FloatProgress(value=0.0, description='Training', layout=Layout(flex='2'), max=1125.0, style=Pro…"
      ]
     },
     "metadata": {},
     "output_type": "display_data"
    },
    {
     "name": "stdout",
     "output_type": "stream",
     "text": [
      "Epoch 602: train=0.969503, val=0.966205, took 36.857 s\n"
     ]
    },
    {
     "data": {
      "application/vnd.jupyter.widget-view+json": {
       "model_id": "",
       "version_major": 2,
       "version_minor": 0
      },
      "text/plain": [
       "HBox(children=(FloatProgress(value=0.0, description='Training', layout=Layout(flex='2'), max=1125.0, style=Pro…"
      ]
     },
     "metadata": {},
     "output_type": "display_data"
    },
    {
     "name": "stdout",
     "output_type": "stream",
     "text": [
      "Epoch 603: train=0.971402, val=0.964255, took 36.739 s\n"
     ]
    },
    {
     "data": {
      "application/vnd.jupyter.widget-view+json": {
       "model_id": "",
       "version_major": 2,
       "version_minor": 0
      },
      "text/plain": [
       "HBox(children=(FloatProgress(value=0.0, description='Training', layout=Layout(flex='2'), max=1125.0, style=Pro…"
      ]
     },
     "metadata": {},
     "output_type": "display_data"
    },
    {
     "name": "stdout",
     "output_type": "stream",
     "text": [
      "Epoch 604: train=0.968813, val=0.999822, took 36.844 s\n"
     ]
    },
    {
     "data": {
      "application/vnd.jupyter.widget-view+json": {
       "model_id": "",
       "version_major": 2,
       "version_minor": 0
      },
      "text/plain": [
       "HBox(children=(FloatProgress(value=0.0, description='Training', layout=Layout(flex='2'), max=1125.0, style=Pro…"
      ]
     },
     "metadata": {},
     "output_type": "display_data"
    },
    {
     "name": "stdout",
     "output_type": "stream",
     "text": [
      "Epoch 605: train=0.977053, val=0.973756, took 36.818 s\n"
     ]
    },
    {
     "data": {
      "application/vnd.jupyter.widget-view+json": {
       "model_id": "",
       "version_major": 2,
       "version_minor": 0
      },
      "text/plain": [
       "HBox(children=(FloatProgress(value=0.0, description='Training', layout=Layout(flex='2'), max=1125.0, style=Pro…"
      ]
     },
     "metadata": {},
     "output_type": "display_data"
    },
    {
     "name": "stdout",
     "output_type": "stream",
     "text": [
      "Epoch 606: train=0.96786, val=0.960763, took 36.686 s\n"
     ]
    },
    {
     "data": {
      "application/vnd.jupyter.widget-view+json": {
       "model_id": "",
       "version_major": 2,
       "version_minor": 0
      },
      "text/plain": [
       "HBox(children=(FloatProgress(value=0.0, description='Training', layout=Layout(flex='2'), max=1125.0, style=Pro…"
      ]
     },
     "metadata": {},
     "output_type": "display_data"
    },
    {
     "name": "stdout",
     "output_type": "stream",
     "text": [
      "Epoch 607: train=0.971656, val=0.964807, took 36.739 s\n"
     ]
    },
    {
     "data": {
      "application/vnd.jupyter.widget-view+json": {
       "model_id": "",
       "version_major": 2,
       "version_minor": 0
      },
      "text/plain": [
       "HBox(children=(FloatProgress(value=0.0, description='Training', layout=Layout(flex='2'), max=1125.0, style=Pro…"
      ]
     },
     "metadata": {},
     "output_type": "display_data"
    },
    {
     "name": "stdout",
     "output_type": "stream",
     "text": [
      "Epoch 608: train=0.973469, val=0.96771, took 36.694 s\n"
     ]
    },
    {
     "data": {
      "application/vnd.jupyter.widget-view+json": {
       "model_id": "",
       "version_major": 2,
       "version_minor": 0
      },
      "text/plain": [
       "HBox(children=(FloatProgress(value=0.0, description='Training', layout=Layout(flex='2'), max=1125.0, style=Pro…"
      ]
     },
     "metadata": {},
     "output_type": "display_data"
    },
    {
     "name": "stdout",
     "output_type": "stream",
     "text": [
      "Epoch 609: train=0.973234, val=0.964793, took 36.832 s\n"
     ]
    },
    {
     "data": {
      "application/vnd.jupyter.widget-view+json": {
       "model_id": "",
       "version_major": 2,
       "version_minor": 0
      },
      "text/plain": [
       "HBox(children=(FloatProgress(value=0.0, description='Training', layout=Layout(flex='2'), max=1125.0, style=Pro…"
      ]
     },
     "metadata": {},
     "output_type": "display_data"
    },
    {
     "name": "stdout",
     "output_type": "stream",
     "text": [
      "Epoch 610: train=0.970725, val=0.998758, took 36.7 s\n"
     ]
    },
    {
     "data": {
      "application/vnd.jupyter.widget-view+json": {
       "model_id": "",
       "version_major": 2,
       "version_minor": 0
      },
      "text/plain": [
       "HBox(children=(FloatProgress(value=0.0, description='Training', layout=Layout(flex='2'), max=1125.0, style=Pro…"
      ]
     },
     "metadata": {},
     "output_type": "display_data"
    },
    {
     "name": "stdout",
     "output_type": "stream",
     "text": [
      "Epoch 611: train=0.970883, val=0.973919, took 36.714 s\n"
     ]
    },
    {
     "data": {
      "application/vnd.jupyter.widget-view+json": {
       "model_id": "",
       "version_major": 2,
       "version_minor": 0
      },
      "text/plain": [
       "HBox(children=(FloatProgress(value=0.0, description='Training', layout=Layout(flex='2'), max=1125.0, style=Pro…"
      ]
     },
     "metadata": {},
     "output_type": "display_data"
    },
    {
     "name": "stdout",
     "output_type": "stream",
     "text": [
      "Epoch 612: train=0.969878, val=0.982342, took 36.866 s\n"
     ]
    },
    {
     "data": {
      "application/vnd.jupyter.widget-view+json": {
       "model_id": "",
       "version_major": 2,
       "version_minor": 0
      },
      "text/plain": [
       "HBox(children=(FloatProgress(value=0.0, description='Training', layout=Layout(flex='2'), max=1125.0, style=Pro…"
      ]
     },
     "metadata": {},
     "output_type": "display_data"
    },
    {
     "name": "stdout",
     "output_type": "stream",
     "text": [
      "Epoch 613: train=0.969045, val=0.979001, took 36.838 s\n"
     ]
    },
    {
     "data": {
      "application/vnd.jupyter.widget-view+json": {
       "model_id": "",
       "version_major": 2,
       "version_minor": 0
      },
      "text/plain": [
       "HBox(children=(FloatProgress(value=0.0, description='Training', layout=Layout(flex='2'), max=1125.0, style=Pro…"
      ]
     },
     "metadata": {},
     "output_type": "display_data"
    },
    {
     "name": "stdout",
     "output_type": "stream",
     "text": [
      "Epoch 614: train=0.969697, val=0.976568, took 36.812 s\n"
     ]
    },
    {
     "data": {
      "application/vnd.jupyter.widget-view+json": {
       "model_id": "",
       "version_major": 2,
       "version_minor": 0
      },
      "text/plain": [
       "HBox(children=(FloatProgress(value=0.0, description='Training', layout=Layout(flex='2'), max=1125.0, style=Pro…"
      ]
     },
     "metadata": {},
     "output_type": "display_data"
    },
    {
     "name": "stdout",
     "output_type": "stream",
     "text": [
      "Epoch 615: train=0.971582, val=0.986312, took 36.79 s\n"
     ]
    },
    {
     "data": {
      "application/vnd.jupyter.widget-view+json": {
       "model_id": "",
       "version_major": 2,
       "version_minor": 0
      },
      "text/plain": [
       "HBox(children=(FloatProgress(value=0.0, description='Training', layout=Layout(flex='2'), max=1125.0, style=Pro…"
      ]
     },
     "metadata": {},
     "output_type": "display_data"
    },
    {
     "name": "stdout",
     "output_type": "stream",
     "text": [
      "Epoch 616: train=0.972319, val=0.971504, took 36.69 s\n"
     ]
    },
    {
     "data": {
      "application/vnd.jupyter.widget-view+json": {
       "model_id": "",
       "version_major": 2,
       "version_minor": 0
      },
      "text/plain": [
       "HBox(children=(FloatProgress(value=0.0, description='Training', layout=Layout(flex='2'), max=1125.0, style=Pro…"
      ]
     },
     "metadata": {},
     "output_type": "display_data"
    },
    {
     "name": "stdout",
     "output_type": "stream",
     "text": [
      "Epoch 617: train=0.96617, val=0.967101, took 37.103 s\n"
     ]
    },
    {
     "data": {
      "application/vnd.jupyter.widget-view+json": {
       "model_id": "",
       "version_major": 2,
       "version_minor": 0
      },
      "text/plain": [
       "HBox(children=(FloatProgress(value=0.0, description='Training', layout=Layout(flex='2'), max=1125.0, style=Pro…"
      ]
     },
     "metadata": {},
     "output_type": "display_data"
    },
    {
     "name": "stdout",
     "output_type": "stream",
     "text": [
      "Epoch 618: train=0.97698, val=0.991053, took 36.953 s\n"
     ]
    },
    {
     "data": {
      "application/vnd.jupyter.widget-view+json": {
       "model_id": "",
       "version_major": 2,
       "version_minor": 0
      },
      "text/plain": [
       "HBox(children=(FloatProgress(value=0.0, description='Training', layout=Layout(flex='2'), max=1125.0, style=Pro…"
      ]
     },
     "metadata": {},
     "output_type": "display_data"
    },
    {
     "name": "stdout",
     "output_type": "stream",
     "text": [
      "Epoch 619: train=0.969551, val=0.975237, took 37.633 s\n"
     ]
    },
    {
     "data": {
      "application/vnd.jupyter.widget-view+json": {
       "model_id": "",
       "version_major": 2,
       "version_minor": 0
      },
      "text/plain": [
       "HBox(children=(FloatProgress(value=0.0, description='Training', layout=Layout(flex='2'), max=1125.0, style=Pro…"
      ]
     },
     "metadata": {},
     "output_type": "display_data"
    },
    {
     "name": "stdout",
     "output_type": "stream",
     "text": [
      "Epoch 620: train=0.97202, val=0.966856, took 37.133 s\n"
     ]
    },
    {
     "data": {
      "application/vnd.jupyter.widget-view+json": {
       "model_id": "",
       "version_major": 2,
       "version_minor": 0
      },
      "text/plain": [
       "HBox(children=(FloatProgress(value=0.0, description='Training', layout=Layout(flex='2'), max=1125.0, style=Pro…"
      ]
     },
     "metadata": {},
     "output_type": "display_data"
    },
    {
     "name": "stdout",
     "output_type": "stream",
     "text": [
      "Epoch 621: train=0.969203, val=0.968027, took 36.741 s\n"
     ]
    },
    {
     "data": {
      "application/vnd.jupyter.widget-view+json": {
       "model_id": "",
       "version_major": 2,
       "version_minor": 0
      },
      "text/plain": [
       "HBox(children=(FloatProgress(value=0.0, description='Training', layout=Layout(flex='2'), max=1125.0, style=Pro…"
      ]
     },
     "metadata": {},
     "output_type": "display_data"
    },
    {
     "name": "stdout",
     "output_type": "stream",
     "text": [
      "Epoch 622: train=0.976713, val=0.998789, took 36.743 s\n"
     ]
    },
    {
     "data": {
      "application/vnd.jupyter.widget-view+json": {
       "model_id": "",
       "version_major": 2,
       "version_minor": 0
      },
      "text/plain": [
       "HBox(children=(FloatProgress(value=0.0, description='Training', layout=Layout(flex='2'), max=1125.0, style=Pro…"
      ]
     },
     "metadata": {},
     "output_type": "display_data"
    },
    {
     "name": "stdout",
     "output_type": "stream",
     "text": [
      "Epoch 623: train=0.968755, val=1.04576, took 36.818 s\n"
     ]
    },
    {
     "data": {
      "application/vnd.jupyter.widget-view+json": {
       "model_id": "",
       "version_major": 2,
       "version_minor": 0
      },
      "text/plain": [
       "HBox(children=(FloatProgress(value=0.0, description='Training', layout=Layout(flex='2'), max=1125.0, style=Pro…"
      ]
     },
     "metadata": {},
     "output_type": "display_data"
    },
    {
     "name": "stdout",
     "output_type": "stream",
     "text": [
      "Epoch 624: train=0.968912, val=1.00142, took 36.715 s\n"
     ]
    },
    {
     "data": {
      "application/vnd.jupyter.widget-view+json": {
       "model_id": "",
       "version_major": 2,
       "version_minor": 0
      },
      "text/plain": [
       "HBox(children=(FloatProgress(value=0.0, description='Training', layout=Layout(flex='2'), max=1125.0, style=Pro…"
      ]
     },
     "metadata": {},
     "output_type": "display_data"
    },
    {
     "name": "stdout",
     "output_type": "stream",
     "text": [
      "Epoch 625: train=0.971759, val=1.01863, took 36.759 s\n"
     ]
    },
    {
     "data": {
      "application/vnd.jupyter.widget-view+json": {
       "model_id": "",
       "version_major": 2,
       "version_minor": 0
      },
      "text/plain": [
       "HBox(children=(FloatProgress(value=0.0, description='Training', layout=Layout(flex='2'), max=1125.0, style=Pro…"
      ]
     },
     "metadata": {},
     "output_type": "display_data"
    },
    {
     "name": "stdout",
     "output_type": "stream",
     "text": [
      "Epoch 626: train=0.978709, val=0.988385, took 36.987 s\n"
     ]
    },
    {
     "data": {
      "application/vnd.jupyter.widget-view+json": {
       "model_id": "",
       "version_major": 2,
       "version_minor": 0
      },
      "text/plain": [
       "HBox(children=(FloatProgress(value=0.0, description='Training', layout=Layout(flex='2'), max=1125.0, style=Pro…"
      ]
     },
     "metadata": {},
     "output_type": "display_data"
    },
    {
     "name": "stdout",
     "output_type": "stream",
     "text": [
      "Epoch 627: train=0.967535, val=0.969031, took 36.833 s\n"
     ]
    },
    {
     "data": {
      "application/vnd.jupyter.widget-view+json": {
       "model_id": "",
       "version_major": 2,
       "version_minor": 0
      },
      "text/plain": [
       "HBox(children=(FloatProgress(value=0.0, description='Training', layout=Layout(flex='2'), max=1125.0, style=Pro…"
      ]
     },
     "metadata": {},
     "output_type": "display_data"
    },
    {
     "name": "stdout",
     "output_type": "stream",
     "text": [
      "Epoch 628: train=0.975648, val=0.979391, took 36.791 s\n"
     ]
    },
    {
     "data": {
      "application/vnd.jupyter.widget-view+json": {
       "model_id": "",
       "version_major": 2,
       "version_minor": 0
      },
      "text/plain": [
       "HBox(children=(FloatProgress(value=0.0, description='Training', layout=Layout(flex='2'), max=1125.0, style=Pro…"
      ]
     },
     "metadata": {},
     "output_type": "display_data"
    },
    {
     "name": "stdout",
     "output_type": "stream",
     "text": [
      "Epoch 629: train=0.96989, val=0.991754, took 36.688 s\n"
     ]
    },
    {
     "data": {
      "application/vnd.jupyter.widget-view+json": {
       "model_id": "",
       "version_major": 2,
       "version_minor": 0
      },
      "text/plain": [
       "HBox(children=(FloatProgress(value=0.0, description='Training', layout=Layout(flex='2'), max=1125.0, style=Pro…"
      ]
     },
     "metadata": {},
     "output_type": "display_data"
    },
    {
     "name": "stdout",
     "output_type": "stream",
     "text": [
      "Epoch 630: train=0.9729, val=0.968166, took 36.714 s\n"
     ]
    },
    {
     "data": {
      "application/vnd.jupyter.widget-view+json": {
       "model_id": "",
       "version_major": 2,
       "version_minor": 0
      },
      "text/plain": [
       "HBox(children=(FloatProgress(value=0.0, description='Training', layout=Layout(flex='2'), max=1125.0, style=Pro…"
      ]
     },
     "metadata": {},
     "output_type": "display_data"
    },
    {
     "name": "stdout",
     "output_type": "stream",
     "text": [
      "Epoch 631: train=0.971988, val=0.961997, took 36.774 s\n"
     ]
    },
    {
     "data": {
      "application/vnd.jupyter.widget-view+json": {
       "model_id": "",
       "version_major": 2,
       "version_minor": 0
      },
      "text/plain": [
       "HBox(children=(FloatProgress(value=0.0, description='Training', layout=Layout(flex='2'), max=1125.0, style=Pro…"
      ]
     },
     "metadata": {},
     "output_type": "display_data"
    },
    {
     "name": "stdout",
     "output_type": "stream",
     "text": [
      "Epoch 632: train=0.97072, val=1.01886, took 36.748 s\n"
     ]
    },
    {
     "data": {
      "application/vnd.jupyter.widget-view+json": {
       "model_id": "",
       "version_major": 2,
       "version_minor": 0
      },
      "text/plain": [
       "HBox(children=(FloatProgress(value=0.0, description='Training', layout=Layout(flex='2'), max=1125.0, style=Pro…"
      ]
     },
     "metadata": {},
     "output_type": "display_data"
    },
    {
     "name": "stdout",
     "output_type": "stream",
     "text": [
      "Epoch 633: train=0.965538, val=0.969929, took 36.789 s\n"
     ]
    },
    {
     "data": {
      "application/vnd.jupyter.widget-view+json": {
       "model_id": "",
       "version_major": 2,
       "version_minor": 0
      },
      "text/plain": [
       "HBox(children=(FloatProgress(value=0.0, description='Training', layout=Layout(flex='2'), max=1125.0, style=Pro…"
      ]
     },
     "metadata": {},
     "output_type": "display_data"
    },
    {
     "name": "stdout",
     "output_type": "stream",
     "text": [
      "Epoch 634: train=0.970332, val=0.96623, took 36.769 s\n"
     ]
    },
    {
     "data": {
      "application/vnd.jupyter.widget-view+json": {
       "model_id": "",
       "version_major": 2,
       "version_minor": 0
      },
      "text/plain": [
       "HBox(children=(FloatProgress(value=0.0, description='Training', layout=Layout(flex='2'), max=1125.0, style=Pro…"
      ]
     },
     "metadata": {},
     "output_type": "display_data"
    },
    {
     "name": "stdout",
     "output_type": "stream",
     "text": [
      "Epoch 635: train=0.972399, val=1.0092, took 36.719 s\n"
     ]
    },
    {
     "data": {
      "application/vnd.jupyter.widget-view+json": {
       "model_id": "",
       "version_major": 2,
       "version_minor": 0
      },
      "text/plain": [
       "HBox(children=(FloatProgress(value=0.0, description='Training', layout=Layout(flex='2'), max=1125.0, style=Pro…"
      ]
     },
     "metadata": {},
     "output_type": "display_data"
    },
    {
     "name": "stdout",
     "output_type": "stream",
     "text": [
      "Epoch 636: train=0.96642, val=1.02212, took 36.65 s\n"
     ]
    },
    {
     "data": {
      "application/vnd.jupyter.widget-view+json": {
       "model_id": "",
       "version_major": 2,
       "version_minor": 0
      },
      "text/plain": [
       "HBox(children=(FloatProgress(value=0.0, description='Training', layout=Layout(flex='2'), max=1125.0, style=Pro…"
      ]
     },
     "metadata": {},
     "output_type": "display_data"
    },
    {
     "name": "stdout",
     "output_type": "stream",
     "text": [
      "Epoch 637: train=0.971604, val=0.984307, took 36.826 s\n"
     ]
    },
    {
     "data": {
      "application/vnd.jupyter.widget-view+json": {
       "model_id": "",
       "version_major": 2,
       "version_minor": 0
      },
      "text/plain": [
       "HBox(children=(FloatProgress(value=0.0, description='Training', layout=Layout(flex='2'), max=1125.0, style=Pro…"
      ]
     },
     "metadata": {},
     "output_type": "display_data"
    },
    {
     "name": "stdout",
     "output_type": "stream",
     "text": [
      "Epoch 638: train=0.968467, val=1.03528, took 36.712 s\n"
     ]
    },
    {
     "data": {
      "application/vnd.jupyter.widget-view+json": {
       "model_id": "",
       "version_major": 2,
       "version_minor": 0
      },
      "text/plain": [
       "HBox(children=(FloatProgress(value=0.0, description='Training', layout=Layout(flex='2'), max=1125.0, style=Pro…"
      ]
     },
     "metadata": {},
     "output_type": "display_data"
    },
    {
     "name": "stdout",
     "output_type": "stream",
     "text": [
      "Epoch 639: train=0.970777, val=0.966982, took 36.696 s\n"
     ]
    },
    {
     "data": {
      "application/vnd.jupyter.widget-view+json": {
       "model_id": "",
       "version_major": 2,
       "version_minor": 0
      },
      "text/plain": [
       "HBox(children=(FloatProgress(value=0.0, description='Training', layout=Layout(flex='2'), max=1125.0, style=Pro…"
      ]
     },
     "metadata": {},
     "output_type": "display_data"
    },
    {
     "name": "stdout",
     "output_type": "stream",
     "text": [
      "Epoch 640: train=0.972229, val=0.968939, took 36.737 s\n"
     ]
    },
    {
     "data": {
      "application/vnd.jupyter.widget-view+json": {
       "model_id": "",
       "version_major": 2,
       "version_minor": 0
      },
      "text/plain": [
       "HBox(children=(FloatProgress(value=0.0, description='Training', layout=Layout(flex='2'), max=1125.0, style=Pro…"
      ]
     },
     "metadata": {},
     "output_type": "display_data"
    },
    {
     "name": "stdout",
     "output_type": "stream",
     "text": [
      "Epoch 641: train=0.967773, val=0.967949, took 37.035 s\n"
     ]
    },
    {
     "data": {
      "application/vnd.jupyter.widget-view+json": {
       "model_id": "",
       "version_major": 2,
       "version_minor": 0
      },
      "text/plain": [
       "HBox(children=(FloatProgress(value=0.0, description='Training', layout=Layout(flex='2'), max=1125.0, style=Pro…"
      ]
     },
     "metadata": {},
     "output_type": "display_data"
    },
    {
     "name": "stdout",
     "output_type": "stream",
     "text": [
      "Epoch 642: train=0.968424, val=0.971599, took 36.861 s\n"
     ]
    },
    {
     "data": {
      "application/vnd.jupyter.widget-view+json": {
       "model_id": "",
       "version_major": 2,
       "version_minor": 0
      },
      "text/plain": [
       "HBox(children=(FloatProgress(value=0.0, description='Training', layout=Layout(flex='2'), max=1125.0, style=Pro…"
      ]
     },
     "metadata": {},
     "output_type": "display_data"
    },
    {
     "name": "stdout",
     "output_type": "stream",
     "text": [
      "Epoch 643: train=0.968312, val=0.989681, took 36.765 s\n"
     ]
    },
    {
     "data": {
      "application/vnd.jupyter.widget-view+json": {
       "model_id": "",
       "version_major": 2,
       "version_minor": 0
      },
      "text/plain": [
       "HBox(children=(FloatProgress(value=0.0, description='Training', layout=Layout(flex='2'), max=1125.0, style=Pro…"
      ]
     },
     "metadata": {},
     "output_type": "display_data"
    },
    {
     "name": "stdout",
     "output_type": "stream",
     "text": [
      "Epoch 644: train=0.971114, val=0.96463, took 36.758 s\n"
     ]
    },
    {
     "data": {
      "application/vnd.jupyter.widget-view+json": {
       "model_id": "",
       "version_major": 2,
       "version_minor": 0
      },
      "text/plain": [
       "HBox(children=(FloatProgress(value=0.0, description='Training', layout=Layout(flex='2'), max=1125.0, style=Pro…"
      ]
     },
     "metadata": {},
     "output_type": "display_data"
    },
    {
     "name": "stdout",
     "output_type": "stream",
     "text": [
      "Epoch 645: train=0.974786, val=0.969047, took 36.786 s\n"
     ]
    },
    {
     "data": {
      "application/vnd.jupyter.widget-view+json": {
       "model_id": "",
       "version_major": 2,
       "version_minor": 0
      },
      "text/plain": [
       "HBox(children=(FloatProgress(value=0.0, description='Training', layout=Layout(flex='2'), max=1125.0, style=Pro…"
      ]
     },
     "metadata": {},
     "output_type": "display_data"
    },
    {
     "name": "stdout",
     "output_type": "stream",
     "text": [
      "Epoch 646: train=0.964479, val=0.968281, took 36.752 s\n"
     ]
    },
    {
     "data": {
      "application/vnd.jupyter.widget-view+json": {
       "model_id": "",
       "version_major": 2,
       "version_minor": 0
      },
      "text/plain": [
       "HBox(children=(FloatProgress(value=0.0, description='Training', layout=Layout(flex='2'), max=1125.0, style=Pro…"
      ]
     },
     "metadata": {},
     "output_type": "display_data"
    },
    {
     "name": "stdout",
     "output_type": "stream",
     "text": [
      "Epoch 647: train=0.969076, val=0.980808, took 36.851 s\n"
     ]
    },
    {
     "data": {
      "application/vnd.jupyter.widget-view+json": {
       "model_id": "",
       "version_major": 2,
       "version_minor": 0
      },
      "text/plain": [
       "HBox(children=(FloatProgress(value=0.0, description='Training', layout=Layout(flex='2'), max=1125.0, style=Pro…"
      ]
     },
     "metadata": {},
     "output_type": "display_data"
    },
    {
     "name": "stdout",
     "output_type": "stream",
     "text": [
      "Epoch 648: train=0.970919, val=0.994178, took 36.736 s\n"
     ]
    },
    {
     "data": {
      "application/vnd.jupyter.widget-view+json": {
       "model_id": "",
       "version_major": 2,
       "version_minor": 0
      },
      "text/plain": [
       "HBox(children=(FloatProgress(value=0.0, description='Training', layout=Layout(flex='2'), max=1125.0, style=Pro…"
      ]
     },
     "metadata": {},
     "output_type": "display_data"
    },
    {
     "name": "stdout",
     "output_type": "stream",
     "text": [
      "Epoch 649: train=0.975535, val=0.966727, took 36.656 s\n"
     ]
    },
    {
     "data": {
      "application/vnd.jupyter.widget-view+json": {
       "model_id": "",
       "version_major": 2,
       "version_minor": 0
      },
      "text/plain": [
       "HBox(children=(FloatProgress(value=0.0, description='Training', layout=Layout(flex='2'), max=1125.0, style=Pro…"
      ]
     },
     "metadata": {},
     "output_type": "display_data"
    },
    {
     "name": "stdout",
     "output_type": "stream",
     "text": [
      "Epoch 650: train=0.965358, val=0.969945, took 36.71 s\n"
     ]
    },
    {
     "data": {
      "application/vnd.jupyter.widget-view+json": {
       "model_id": "",
       "version_major": 2,
       "version_minor": 0
      },
      "text/plain": [
       "HBox(children=(FloatProgress(value=0.0, description='Training', layout=Layout(flex='2'), max=1125.0, style=Pro…"
      ]
     },
     "metadata": {},
     "output_type": "display_data"
    },
    {
     "name": "stdout",
     "output_type": "stream",
     "text": [
      "Epoch 651: train=0.967001, val=0.965179, took 36.765 s\n"
     ]
    },
    {
     "data": {
      "application/vnd.jupyter.widget-view+json": {
       "model_id": "",
       "version_major": 2,
       "version_minor": 0
      },
      "text/plain": [
       "HBox(children=(FloatProgress(value=0.0, description='Training', layout=Layout(flex='2'), max=1125.0, style=Pro…"
      ]
     },
     "metadata": {},
     "output_type": "display_data"
    },
    {
     "name": "stdout",
     "output_type": "stream",
     "text": [
      "Epoch 652: train=0.967529, val=0.964912, took 37.182 s\n"
     ]
    },
    {
     "data": {
      "application/vnd.jupyter.widget-view+json": {
       "model_id": "",
       "version_major": 2,
       "version_minor": 0
      },
      "text/plain": [
       "HBox(children=(FloatProgress(value=0.0, description='Training', layout=Layout(flex='2'), max=1125.0, style=Pro…"
      ]
     },
     "metadata": {},
     "output_type": "display_data"
    },
    {
     "name": "stdout",
     "output_type": "stream",
     "text": [
      "Epoch 653: train=0.967637, val=0.967416, took 36.763 s\n"
     ]
    },
    {
     "data": {
      "application/vnd.jupyter.widget-view+json": {
       "model_id": "",
       "version_major": 2,
       "version_minor": 0
      },
      "text/plain": [
       "HBox(children=(FloatProgress(value=0.0, description='Training', layout=Layout(flex='2'), max=1125.0, style=Pro…"
      ]
     },
     "metadata": {},
     "output_type": "display_data"
    },
    {
     "name": "stdout",
     "output_type": "stream",
     "text": [
      "Epoch 654: train=0.965001, val=1.00527, took 36.786 s\n"
     ]
    },
    {
     "data": {
      "application/vnd.jupyter.widget-view+json": {
       "model_id": "",
       "version_major": 2,
       "version_minor": 0
      },
      "text/plain": [
       "HBox(children=(FloatProgress(value=0.0, description='Training', layout=Layout(flex='2'), max=1125.0, style=Pro…"
      ]
     },
     "metadata": {},
     "output_type": "display_data"
    },
    {
     "name": "stdout",
     "output_type": "stream",
     "text": [
      "Epoch 655: train=0.96761, val=0.981398, took 36.823 s\n"
     ]
    },
    {
     "data": {
      "application/vnd.jupyter.widget-view+json": {
       "model_id": "",
       "version_major": 2,
       "version_minor": 0
      },
      "text/plain": [
       "HBox(children=(FloatProgress(value=0.0, description='Training', layout=Layout(flex='2'), max=1125.0, style=Pro…"
      ]
     },
     "metadata": {},
     "output_type": "display_data"
    },
    {
     "name": "stdout",
     "output_type": "stream",
     "text": [
      "Epoch 656: train=0.965793, val=0.978472, took 36.666 s\n"
     ]
    },
    {
     "data": {
      "application/vnd.jupyter.widget-view+json": {
       "model_id": "",
       "version_major": 2,
       "version_minor": 0
      },
      "text/plain": [
       "HBox(children=(FloatProgress(value=0.0, description='Training', layout=Layout(flex='2'), max=1125.0, style=Pro…"
      ]
     },
     "metadata": {},
     "output_type": "display_data"
    },
    {
     "name": "stdout",
     "output_type": "stream",
     "text": [
      "Epoch 657: train=0.970283, val=0.964891, took 36.619 s\n"
     ]
    },
    {
     "data": {
      "application/vnd.jupyter.widget-view+json": {
       "model_id": "",
       "version_major": 2,
       "version_minor": 0
      },
      "text/plain": [
       "HBox(children=(FloatProgress(value=0.0, description='Training', layout=Layout(flex='2'), max=1125.0, style=Pro…"
      ]
     },
     "metadata": {},
     "output_type": "display_data"
    },
    {
     "name": "stdout",
     "output_type": "stream",
     "text": [
      "Epoch 658: train=0.965769, val=0.998911, took 36.87 s\n"
     ]
    },
    {
     "data": {
      "application/vnd.jupyter.widget-view+json": {
       "model_id": "",
       "version_major": 2,
       "version_minor": 0
      },
      "text/plain": [
       "HBox(children=(FloatProgress(value=0.0, description='Training', layout=Layout(flex='2'), max=1125.0, style=Pro…"
      ]
     },
     "metadata": {},
     "output_type": "display_data"
    },
    {
     "name": "stdout",
     "output_type": "stream",
     "text": [
      "Epoch 659: train=0.968376, val=0.982071, took 37.074 s\n"
     ]
    },
    {
     "data": {
      "application/vnd.jupyter.widget-view+json": {
       "model_id": "",
       "version_major": 2,
       "version_minor": 0
      },
      "text/plain": [
       "HBox(children=(FloatProgress(value=0.0, description='Training', layout=Layout(flex='2'), max=1125.0, style=Pro…"
      ]
     },
     "metadata": {},
     "output_type": "display_data"
    },
    {
     "name": "stdout",
     "output_type": "stream",
     "text": [
      "Epoch 660: train=0.96904, val=0.966705, took 36.726 s\n"
     ]
    },
    {
     "data": {
      "application/vnd.jupyter.widget-view+json": {
       "model_id": "",
       "version_major": 2,
       "version_minor": 0
      },
      "text/plain": [
       "HBox(children=(FloatProgress(value=0.0, description='Training', layout=Layout(flex='2'), max=1125.0, style=Pro…"
      ]
     },
     "metadata": {},
     "output_type": "display_data"
    },
    {
     "name": "stdout",
     "output_type": "stream",
     "text": [
      "Epoch 661: train=0.968075, val=1.01669, took 36.999 s\n"
     ]
    },
    {
     "data": {
      "application/vnd.jupyter.widget-view+json": {
       "model_id": "",
       "version_major": 2,
       "version_minor": 0
      },
      "text/plain": [
       "HBox(children=(FloatProgress(value=0.0, description='Training', layout=Layout(flex='2'), max=1125.0, style=Pro…"
      ]
     },
     "metadata": {},
     "output_type": "display_data"
    },
    {
     "name": "stdout",
     "output_type": "stream",
     "text": [
      "Epoch 662: train=0.967993, val=0.961522, took 36.819 s\n"
     ]
    },
    {
     "data": {
      "application/vnd.jupyter.widget-view+json": {
       "model_id": "",
       "version_major": 2,
       "version_minor": 0
      },
      "text/plain": [
       "HBox(children=(FloatProgress(value=0.0, description='Training', layout=Layout(flex='2'), max=1125.0, style=Pro…"
      ]
     },
     "metadata": {},
     "output_type": "display_data"
    },
    {
     "name": "stdout",
     "output_type": "stream",
     "text": [
      "Epoch 663: train=0.964876, val=0.978184, took 36.877 s\n"
     ]
    },
    {
     "data": {
      "application/vnd.jupyter.widget-view+json": {
       "model_id": "",
       "version_major": 2,
       "version_minor": 0
      },
      "text/plain": [
       "HBox(children=(FloatProgress(value=0.0, description='Training', layout=Layout(flex='2'), max=1125.0, style=Pro…"
      ]
     },
     "metadata": {},
     "output_type": "display_data"
    },
    {
     "name": "stdout",
     "output_type": "stream",
     "text": [
      "Epoch 664: train=0.965932, val=0.965046, took 36.75 s\n"
     ]
    },
    {
     "data": {
      "application/vnd.jupyter.widget-view+json": {
       "model_id": "",
       "version_major": 2,
       "version_minor": 0
      },
      "text/plain": [
       "HBox(children=(FloatProgress(value=0.0, description='Training', layout=Layout(flex='2'), max=1125.0, style=Pro…"
      ]
     },
     "metadata": {},
     "output_type": "display_data"
    },
    {
     "name": "stdout",
     "output_type": "stream",
     "text": [
      "Epoch 665: train=0.961826, val=0.971894, took 36.708 s\n"
     ]
    },
    {
     "data": {
      "application/vnd.jupyter.widget-view+json": {
       "model_id": "",
       "version_major": 2,
       "version_minor": 0
      },
      "text/plain": [
       "HBox(children=(FloatProgress(value=0.0, description='Training', layout=Layout(flex='2'), max=1125.0, style=Pro…"
      ]
     },
     "metadata": {},
     "output_type": "display_data"
    },
    {
     "name": "stdout",
     "output_type": "stream",
     "text": [
      "Epoch 666: train=0.971563, val=0.964032, took 36.677 s\n"
     ]
    },
    {
     "data": {
      "application/vnd.jupyter.widget-view+json": {
       "model_id": "",
       "version_major": 2,
       "version_minor": 0
      },
      "text/plain": [
       "HBox(children=(FloatProgress(value=0.0, description='Training', layout=Layout(flex='2'), max=1125.0, style=Pro…"
      ]
     },
     "metadata": {},
     "output_type": "display_data"
    },
    {
     "name": "stdout",
     "output_type": "stream",
     "text": [
      "Epoch 667: train=0.971114, val=0.980892, took 36.941 s\n"
     ]
    },
    {
     "data": {
      "application/vnd.jupyter.widget-view+json": {
       "model_id": "",
       "version_major": 2,
       "version_minor": 0
      },
      "text/plain": [
       "HBox(children=(FloatProgress(value=0.0, description='Training', layout=Layout(flex='2'), max=1125.0, style=Pro…"
      ]
     },
     "metadata": {},
     "output_type": "display_data"
    },
    {
     "name": "stdout",
     "output_type": "stream",
     "text": [
      "Epoch 668: train=0.965856, val=0.978413, took 36.667 s\n"
     ]
    },
    {
     "data": {
      "application/vnd.jupyter.widget-view+json": {
       "model_id": "",
       "version_major": 2,
       "version_minor": 0
      },
      "text/plain": [
       "HBox(children=(FloatProgress(value=0.0, description='Training', layout=Layout(flex='2'), max=1125.0, style=Pro…"
      ]
     },
     "metadata": {},
     "output_type": "display_data"
    },
    {
     "name": "stdout",
     "output_type": "stream",
     "text": [
      "Epoch 669: train=0.966602, val=0.967035, took 37.004 s\n"
     ]
    },
    {
     "data": {
      "application/vnd.jupyter.widget-view+json": {
       "model_id": "",
       "version_major": 2,
       "version_minor": 0
      },
      "text/plain": [
       "HBox(children=(FloatProgress(value=0.0, description='Training', layout=Layout(flex='2'), max=1125.0, style=Pro…"
      ]
     },
     "metadata": {},
     "output_type": "display_data"
    },
    {
     "name": "stdout",
     "output_type": "stream",
     "text": [
      "Epoch 670: train=0.967589, val=0.974091, took 36.845 s\n"
     ]
    },
    {
     "data": {
      "application/vnd.jupyter.widget-view+json": {
       "model_id": "",
       "version_major": 2,
       "version_minor": 0
      },
      "text/plain": [
       "HBox(children=(FloatProgress(value=0.0, description='Training', layout=Layout(flex='2'), max=1125.0, style=Pro…"
      ]
     },
     "metadata": {},
     "output_type": "display_data"
    },
    {
     "name": "stdout",
     "output_type": "stream",
     "text": [
      "Epoch 671: train=0.968823, val=0.982915, took 36.772 s\n"
     ]
    },
    {
     "data": {
      "application/vnd.jupyter.widget-view+json": {
       "model_id": "",
       "version_major": 2,
       "version_minor": 0
      },
      "text/plain": [
       "HBox(children=(FloatProgress(value=0.0, description='Training', layout=Layout(flex='2'), max=1125.0, style=Pro…"
      ]
     },
     "metadata": {},
     "output_type": "display_data"
    },
    {
     "name": "stdout",
     "output_type": "stream",
     "text": [
      "Epoch 672: train=0.964772, val=0.969949, took 36.971 s\n"
     ]
    },
    {
     "data": {
      "application/vnd.jupyter.widget-view+json": {
       "model_id": "",
       "version_major": 2,
       "version_minor": 0
      },
      "text/plain": [
       "HBox(children=(FloatProgress(value=0.0, description='Training', layout=Layout(flex='2'), max=1125.0, style=Pro…"
      ]
     },
     "metadata": {},
     "output_type": "display_data"
    },
    {
     "name": "stdout",
     "output_type": "stream",
     "text": [
      "Epoch 673: train=0.968382, val=0.989329, took 36.783 s\n"
     ]
    },
    {
     "data": {
      "application/vnd.jupyter.widget-view+json": {
       "model_id": "",
       "version_major": 2,
       "version_minor": 0
      },
      "text/plain": [
       "HBox(children=(FloatProgress(value=0.0, description='Training', layout=Layout(flex='2'), max=1125.0, style=Pro…"
      ]
     },
     "metadata": {},
     "output_type": "display_data"
    },
    {
     "name": "stdout",
     "output_type": "stream",
     "text": [
      "Epoch 674: train=0.96648, val=0.964137, took 36.779 s\n"
     ]
    },
    {
     "data": {
      "application/vnd.jupyter.widget-view+json": {
       "model_id": "",
       "version_major": 2,
       "version_minor": 0
      },
      "text/plain": [
       "HBox(children=(FloatProgress(value=0.0, description='Training', layout=Layout(flex='2'), max=1125.0, style=Pro…"
      ]
     },
     "metadata": {},
     "output_type": "display_data"
    },
    {
     "name": "stdout",
     "output_type": "stream",
     "text": [
      "Epoch 675: train=0.967292, val=0.976295, took 36.805 s\n"
     ]
    },
    {
     "data": {
      "application/vnd.jupyter.widget-view+json": {
       "model_id": "",
       "version_major": 2,
       "version_minor": 0
      },
      "text/plain": [
       "HBox(children=(FloatProgress(value=0.0, description='Training', layout=Layout(flex='2'), max=1125.0, style=Pro…"
      ]
     },
     "metadata": {},
     "output_type": "display_data"
    },
    {
     "name": "stdout",
     "output_type": "stream",
     "text": [
      "Epoch 676: train=0.970402, val=0.969987, took 36.808 s\n"
     ]
    },
    {
     "data": {
      "application/vnd.jupyter.widget-view+json": {
       "model_id": "",
       "version_major": 2,
       "version_minor": 0
      },
      "text/plain": [
       "HBox(children=(FloatProgress(value=0.0, description='Training', layout=Layout(flex='2'), max=1125.0, style=Pro…"
      ]
     },
     "metadata": {},
     "output_type": "display_data"
    },
    {
     "name": "stdout",
     "output_type": "stream",
     "text": [
      "Epoch 677: train=0.972199, val=0.963441, took 36.756 s\n"
     ]
    },
    {
     "data": {
      "application/vnd.jupyter.widget-view+json": {
       "model_id": "",
       "version_major": 2,
       "version_minor": 0
      },
      "text/plain": [
       "HBox(children=(FloatProgress(value=0.0, description='Training', layout=Layout(flex='2'), max=1125.0, style=Pro…"
      ]
     },
     "metadata": {},
     "output_type": "display_data"
    },
    {
     "name": "stdout",
     "output_type": "stream",
     "text": [
      "Epoch 678: train=0.969073, val=0.96648, took 36.844 s\n"
     ]
    },
    {
     "data": {
      "application/vnd.jupyter.widget-view+json": {
       "model_id": "",
       "version_major": 2,
       "version_minor": 0
      },
      "text/plain": [
       "HBox(children=(FloatProgress(value=0.0, description='Training', layout=Layout(flex='2'), max=1125.0, style=Pro…"
      ]
     },
     "metadata": {},
     "output_type": "display_data"
    },
    {
     "name": "stdout",
     "output_type": "stream",
     "text": [
      "Epoch 679: train=0.97324, val=0.965389, took 36.813 s\n"
     ]
    },
    {
     "data": {
      "application/vnd.jupyter.widget-view+json": {
       "model_id": "",
       "version_major": 2,
       "version_minor": 0
      },
      "text/plain": [
       "HBox(children=(FloatProgress(value=0.0, description='Training', layout=Layout(flex='2'), max=1125.0, style=Pro…"
      ]
     },
     "metadata": {},
     "output_type": "display_data"
    },
    {
     "name": "stdout",
     "output_type": "stream",
     "text": [
      "Epoch 680: train=0.966558, val=0.989709, took 36.841 s\n"
     ]
    },
    {
     "data": {
      "application/vnd.jupyter.widget-view+json": {
       "model_id": "",
       "version_major": 2,
       "version_minor": 0
      },
      "text/plain": [
       "HBox(children=(FloatProgress(value=0.0, description='Training', layout=Layout(flex='2'), max=1125.0, style=Pro…"
      ]
     },
     "metadata": {},
     "output_type": "display_data"
    },
    {
     "name": "stdout",
     "output_type": "stream",
     "text": [
      "Epoch 681: train=0.962256, val=0.999491, took 36.694 s\n"
     ]
    },
    {
     "data": {
      "application/vnd.jupyter.widget-view+json": {
       "model_id": "",
       "version_major": 2,
       "version_minor": 0
      },
      "text/plain": [
       "HBox(children=(FloatProgress(value=0.0, description='Training', layout=Layout(flex='2'), max=1125.0, style=Pro…"
      ]
     },
     "metadata": {},
     "output_type": "display_data"
    },
    {
     "name": "stdout",
     "output_type": "stream",
     "text": [
      "Epoch 682: train=0.97229, val=0.973316, took 36.744 s\n"
     ]
    },
    {
     "data": {
      "application/vnd.jupyter.widget-view+json": {
       "model_id": "",
       "version_major": 2,
       "version_minor": 0
      },
      "text/plain": [
       "HBox(children=(FloatProgress(value=0.0, description='Training', layout=Layout(flex='2'), max=1125.0, style=Pro…"
      ]
     },
     "metadata": {},
     "output_type": "display_data"
    },
    {
     "name": "stdout",
     "output_type": "stream",
     "text": [
      "Epoch 683: train=0.965981, val=0.969969, took 36.973 s\n"
     ]
    },
    {
     "data": {
      "application/vnd.jupyter.widget-view+json": {
       "model_id": "",
       "version_major": 2,
       "version_minor": 0
      },
      "text/plain": [
       "HBox(children=(FloatProgress(value=0.0, description='Training', layout=Layout(flex='2'), max=1125.0, style=Pro…"
      ]
     },
     "metadata": {},
     "output_type": "display_data"
    },
    {
     "name": "stdout",
     "output_type": "stream",
     "text": [
      "Epoch 684: train=0.968739, val=0.96524, took 36.77 s\n"
     ]
    },
    {
     "data": {
      "application/vnd.jupyter.widget-view+json": {
       "model_id": "",
       "version_major": 2,
       "version_minor": 0
      },
      "text/plain": [
       "HBox(children=(FloatProgress(value=0.0, description='Training', layout=Layout(flex='2'), max=1125.0, style=Pro…"
      ]
     },
     "metadata": {},
     "output_type": "display_data"
    },
    {
     "name": "stdout",
     "output_type": "stream",
     "text": [
      "Epoch 685: train=0.96024, val=0.972101, took 36.738 s\n"
     ]
    },
    {
     "data": {
      "application/vnd.jupyter.widget-view+json": {
       "model_id": "",
       "version_major": 2,
       "version_minor": 0
      },
      "text/plain": [
       "HBox(children=(FloatProgress(value=0.0, description='Training', layout=Layout(flex='2'), max=1125.0, style=Pro…"
      ]
     },
     "metadata": {},
     "output_type": "display_data"
    },
    {
     "name": "stdout",
     "output_type": "stream",
     "text": [
      "Epoch 686: train=0.966388, val=0.963253, took 36.947 s\n"
     ]
    },
    {
     "data": {
      "application/vnd.jupyter.widget-view+json": {
       "model_id": "",
       "version_major": 2,
       "version_minor": 0
      },
      "text/plain": [
       "HBox(children=(FloatProgress(value=0.0, description='Training', layout=Layout(flex='2'), max=1125.0, style=Pro…"
      ]
     },
     "metadata": {},
     "output_type": "display_data"
    },
    {
     "name": "stdout",
     "output_type": "stream",
     "text": [
      "Epoch 687: train=0.960313, val=0.994188, took 36.753 s\n"
     ]
    },
    {
     "data": {
      "application/vnd.jupyter.widget-view+json": {
       "model_id": "",
       "version_major": 2,
       "version_minor": 0
      },
      "text/plain": [
       "HBox(children=(FloatProgress(value=0.0, description='Training', layout=Layout(flex='2'), max=1125.0, style=Pro…"
      ]
     },
     "metadata": {},
     "output_type": "display_data"
    },
    {
     "name": "stdout",
     "output_type": "stream",
     "text": [
      "Epoch 688: train=0.965348, val=0.965684, took 36.643 s\n"
     ]
    },
    {
     "data": {
      "application/vnd.jupyter.widget-view+json": {
       "model_id": "",
       "version_major": 2,
       "version_minor": 0
      },
      "text/plain": [
       "HBox(children=(FloatProgress(value=0.0, description='Training', layout=Layout(flex='2'), max=1125.0, style=Pro…"
      ]
     },
     "metadata": {},
     "output_type": "display_data"
    },
    {
     "name": "stdout",
     "output_type": "stream",
     "text": [
      "Epoch 689: train=0.962662, val=0.964192, took 36.803 s\n"
     ]
    },
    {
     "data": {
      "application/vnd.jupyter.widget-view+json": {
       "model_id": "",
       "version_major": 2,
       "version_minor": 0
      },
      "text/plain": [
       "HBox(children=(FloatProgress(value=0.0, description='Training', layout=Layout(flex='2'), max=1125.0, style=Pro…"
      ]
     },
     "metadata": {},
     "output_type": "display_data"
    },
    {
     "name": "stdout",
     "output_type": "stream",
     "text": [
      "Epoch 690: train=0.968245, val=1.05881, took 36.845 s\n"
     ]
    },
    {
     "data": {
      "application/vnd.jupyter.widget-view+json": {
       "model_id": "",
       "version_major": 2,
       "version_minor": 0
      },
      "text/plain": [
       "HBox(children=(FloatProgress(value=0.0, description='Training', layout=Layout(flex='2'), max=1125.0, style=Pro…"
      ]
     },
     "metadata": {},
     "output_type": "display_data"
    },
    {
     "name": "stdout",
     "output_type": "stream",
     "text": [
      "Epoch 691: train=0.968807, val=0.970272, took 36.8 s\n"
     ]
    },
    {
     "data": {
      "application/vnd.jupyter.widget-view+json": {
       "model_id": "",
       "version_major": 2,
       "version_minor": 0
      },
      "text/plain": [
       "HBox(children=(FloatProgress(value=0.0, description='Training', layout=Layout(flex='2'), max=1125.0, style=Pro…"
      ]
     },
     "metadata": {},
     "output_type": "display_data"
    },
    {
     "name": "stdout",
     "output_type": "stream",
     "text": [
      "Epoch 692: train=0.968411, val=0.975757, took 36.83 s\n"
     ]
    },
    {
     "data": {
      "application/vnd.jupyter.widget-view+json": {
       "model_id": "",
       "version_major": 2,
       "version_minor": 0
      },
      "text/plain": [
       "HBox(children=(FloatProgress(value=0.0, description='Training', layout=Layout(flex='2'), max=1125.0, style=Pro…"
      ]
     },
     "metadata": {},
     "output_type": "display_data"
    },
    {
     "name": "stdout",
     "output_type": "stream",
     "text": [
      "Epoch 693: train=0.963754, val=0.964904, took 36.929 s\n"
     ]
    },
    {
     "data": {
      "application/vnd.jupyter.widget-view+json": {
       "model_id": "",
       "version_major": 2,
       "version_minor": 0
      },
      "text/plain": [
       "HBox(children=(FloatProgress(value=0.0, description='Training', layout=Layout(flex='2'), max=1125.0, style=Pro…"
      ]
     },
     "metadata": {},
     "output_type": "display_data"
    },
    {
     "name": "stdout",
     "output_type": "stream",
     "text": [
      "Epoch 694: train=0.96787, val=0.965237, took 36.936 s\n"
     ]
    },
    {
     "data": {
      "application/vnd.jupyter.widget-view+json": {
       "model_id": "",
       "version_major": 2,
       "version_minor": 0
      },
      "text/plain": [
       "HBox(children=(FloatProgress(value=0.0, description='Training', layout=Layout(flex='2'), max=1125.0, style=Pro…"
      ]
     },
     "metadata": {},
     "output_type": "display_data"
    },
    {
     "name": "stdout",
     "output_type": "stream",
     "text": [
      "Epoch 695: train=0.967597, val=0.968272, took 36.947 s\n"
     ]
    },
    {
     "data": {
      "application/vnd.jupyter.widget-view+json": {
       "model_id": "",
       "version_major": 2,
       "version_minor": 0
      },
      "text/plain": [
       "HBox(children=(FloatProgress(value=0.0, description='Training', layout=Layout(flex='2'), max=1125.0, style=Pro…"
      ]
     },
     "metadata": {},
     "output_type": "display_data"
    },
    {
     "name": "stdout",
     "output_type": "stream",
     "text": [
      "Epoch 696: train=0.967888, val=0.976795, took 36.96 s\n"
     ]
    },
    {
     "data": {
      "application/vnd.jupyter.widget-view+json": {
       "model_id": "",
       "version_major": 2,
       "version_minor": 0
      },
      "text/plain": [
       "HBox(children=(FloatProgress(value=0.0, description='Training', layout=Layout(flex='2'), max=1125.0, style=Pro…"
      ]
     },
     "metadata": {},
     "output_type": "display_data"
    },
    {
     "name": "stdout",
     "output_type": "stream",
     "text": [
      "Epoch 697: train=0.965698, val=1.03463, took 36.869 s\n"
     ]
    },
    {
     "data": {
      "application/vnd.jupyter.widget-view+json": {
       "model_id": "",
       "version_major": 2,
       "version_minor": 0
      },
      "text/plain": [
       "HBox(children=(FloatProgress(value=0.0, description='Training', layout=Layout(flex='2'), max=1125.0, style=Pro…"
      ]
     },
     "metadata": {},
     "output_type": "display_data"
    },
    {
     "name": "stdout",
     "output_type": "stream",
     "text": [
      "Epoch 698: train=0.960504, val=0.966343, took 36.781 s\n"
     ]
    },
    {
     "data": {
      "application/vnd.jupyter.widget-view+json": {
       "model_id": "",
       "version_major": 2,
       "version_minor": 0
      },
      "text/plain": [
       "HBox(children=(FloatProgress(value=0.0, description='Training', layout=Layout(flex='2'), max=1125.0, style=Pro…"
      ]
     },
     "metadata": {},
     "output_type": "display_data"
    },
    {
     "name": "stdout",
     "output_type": "stream",
     "text": [
      "Epoch 699: train=0.967502, val=0.987576, took 36.782 s\n"
     ]
    },
    {
     "data": {
      "application/vnd.jupyter.widget-view+json": {
       "model_id": "",
       "version_major": 2,
       "version_minor": 0
      },
      "text/plain": [
       "HBox(children=(FloatProgress(value=0.0, description='Training', layout=Layout(flex='2'), max=1125.0, style=Pro…"
      ]
     },
     "metadata": {},
     "output_type": "display_data"
    },
    {
     "name": "stdout",
     "output_type": "stream",
     "text": [
      "Epoch 700: train=0.963704, val=1.03054, took 36.828 s\n"
     ]
    },
    {
     "data": {
      "application/vnd.jupyter.widget-view+json": {
       "model_id": "",
       "version_major": 2,
       "version_minor": 0
      },
      "text/plain": [
       "HBox(children=(FloatProgress(value=0.0, description='Training', layout=Layout(flex='2'), max=1125.0, style=Pro…"
      ]
     },
     "metadata": {},
     "output_type": "display_data"
    },
    {
     "name": "stdout",
     "output_type": "stream",
     "text": [
      "Epoch 701: train=0.963441, val=0.961765, took 36.901 s\n"
     ]
    },
    {
     "data": {
      "application/vnd.jupyter.widget-view+json": {
       "model_id": "",
       "version_major": 2,
       "version_minor": 0
      },
      "text/plain": [
       "HBox(children=(FloatProgress(value=0.0, description='Training', layout=Layout(flex='2'), max=1125.0, style=Pro…"
      ]
     },
     "metadata": {},
     "output_type": "display_data"
    },
    {
     "name": "stdout",
     "output_type": "stream",
     "text": [
      "Epoch 702: train=0.966855, val=1.00233, took 36.815 s\n"
     ]
    },
    {
     "data": {
      "application/vnd.jupyter.widget-view+json": {
       "model_id": "",
       "version_major": 2,
       "version_minor": 0
      },
      "text/plain": [
       "HBox(children=(FloatProgress(value=0.0, description='Training', layout=Layout(flex='2'), max=1125.0, style=Pro…"
      ]
     },
     "metadata": {},
     "output_type": "display_data"
    },
    {
     "name": "stdout",
     "output_type": "stream",
     "text": [
      "Epoch 703: train=0.962854, val=0.990966, took 36.864 s\n"
     ]
    },
    {
     "data": {
      "application/vnd.jupyter.widget-view+json": {
       "model_id": "",
       "version_major": 2,
       "version_minor": 0
      },
      "text/plain": [
       "HBox(children=(FloatProgress(value=0.0, description='Training', layout=Layout(flex='2'), max=1125.0, style=Pro…"
      ]
     },
     "metadata": {},
     "output_type": "display_data"
    },
    {
     "name": "stdout",
     "output_type": "stream",
     "text": [
      "Epoch 704: train=0.965014, val=0.970629, took 36.974 s\n"
     ]
    },
    {
     "data": {
      "application/vnd.jupyter.widget-view+json": {
       "model_id": "",
       "version_major": 2,
       "version_minor": 0
      },
      "text/plain": [
       "HBox(children=(FloatProgress(value=0.0, description='Training', layout=Layout(flex='2'), max=1125.0, style=Pro…"
      ]
     },
     "metadata": {},
     "output_type": "display_data"
    },
    {
     "name": "stdout",
     "output_type": "stream",
     "text": [
      "Epoch 705: train=0.970334, val=0.959238, took 36.864 s\n"
     ]
    },
    {
     "data": {
      "application/vnd.jupyter.widget-view+json": {
       "model_id": "",
       "version_major": 2,
       "version_minor": 0
      },
      "text/plain": [
       "HBox(children=(FloatProgress(value=0.0, description='Training', layout=Layout(flex='2'), max=1125.0, style=Pro…"
      ]
     },
     "metadata": {},
     "output_type": "display_data"
    },
    {
     "name": "stdout",
     "output_type": "stream",
     "text": [
      "Epoch 706: train=0.95923, val=0.962306, took 36.886 s\n"
     ]
    },
    {
     "data": {
      "application/vnd.jupyter.widget-view+json": {
       "model_id": "",
       "version_major": 2,
       "version_minor": 0
      },
      "text/plain": [
       "HBox(children=(FloatProgress(value=0.0, description='Training', layout=Layout(flex='2'), max=1125.0, style=Pro…"
      ]
     },
     "metadata": {},
     "output_type": "display_data"
    },
    {
     "name": "stdout",
     "output_type": "stream",
     "text": [
      "Epoch 707: train=0.959748, val=0.965121, took 37.106 s\n"
     ]
    },
    {
     "data": {
      "application/vnd.jupyter.widget-view+json": {
       "model_id": "",
       "version_major": 2,
       "version_minor": 0
      },
      "text/plain": [
       "HBox(children=(FloatProgress(value=0.0, description='Training', layout=Layout(flex='2'), max=1125.0, style=Pro…"
      ]
     },
     "metadata": {},
     "output_type": "display_data"
    },
    {
     "name": "stdout",
     "output_type": "stream",
     "text": [
      "Epoch 708: train=0.973425, val=0.979276, took 36.805 s\n"
     ]
    },
    {
     "data": {
      "application/vnd.jupyter.widget-view+json": {
       "model_id": "",
       "version_major": 2,
       "version_minor": 0
      },
      "text/plain": [
       "HBox(children=(FloatProgress(value=0.0, description='Training', layout=Layout(flex='2'), max=1125.0, style=Pro…"
      ]
     },
     "metadata": {},
     "output_type": "display_data"
    },
    {
     "name": "stdout",
     "output_type": "stream",
     "text": [
      "Epoch 709: train=0.961066, val=0.986628, took 36.92 s\n"
     ]
    },
    {
     "data": {
      "application/vnd.jupyter.widget-view+json": {
       "model_id": "",
       "version_major": 2,
       "version_minor": 0
      },
      "text/plain": [
       "HBox(children=(FloatProgress(value=0.0, description='Training', layout=Layout(flex='2'), max=1125.0, style=Pro…"
      ]
     },
     "metadata": {},
     "output_type": "display_data"
    },
    {
     "name": "stdout",
     "output_type": "stream",
     "text": [
      "Epoch 710: train=0.969451, val=0.965521, took 36.708 s\n"
     ]
    },
    {
     "data": {
      "application/vnd.jupyter.widget-view+json": {
       "model_id": "",
       "version_major": 2,
       "version_minor": 0
      },
      "text/plain": [
       "HBox(children=(FloatProgress(value=0.0, description='Training', layout=Layout(flex='2'), max=1125.0, style=Pro…"
      ]
     },
     "metadata": {},
     "output_type": "display_data"
    },
    {
     "name": "stdout",
     "output_type": "stream",
     "text": [
      "Epoch 711: train=0.960036, val=0.972086, took 36.735 s\n"
     ]
    },
    {
     "data": {
      "application/vnd.jupyter.widget-view+json": {
       "model_id": "",
       "version_major": 2,
       "version_minor": 0
      },
      "text/plain": [
       "HBox(children=(FloatProgress(value=0.0, description='Training', layout=Layout(flex='2'), max=1125.0, style=Pro…"
      ]
     },
     "metadata": {},
     "output_type": "display_data"
    },
    {
     "name": "stdout",
     "output_type": "stream",
     "text": [
      "Epoch 712: train=0.96469, val=0.973709, took 37.026 s\n"
     ]
    },
    {
     "data": {
      "application/vnd.jupyter.widget-view+json": {
       "model_id": "",
       "version_major": 2,
       "version_minor": 0
      },
      "text/plain": [
       "HBox(children=(FloatProgress(value=0.0, description='Training', layout=Layout(flex='2'), max=1125.0, style=Pro…"
      ]
     },
     "metadata": {},
     "output_type": "display_data"
    },
    {
     "name": "stdout",
     "output_type": "stream",
     "text": [
      "Epoch 713: train=0.962946, val=0.968522, took 36.848 s\n"
     ]
    },
    {
     "data": {
      "application/vnd.jupyter.widget-view+json": {
       "model_id": "",
       "version_major": 2,
       "version_minor": 0
      },
      "text/plain": [
       "HBox(children=(FloatProgress(value=0.0, description='Training', layout=Layout(flex='2'), max=1125.0, style=Pro…"
      ]
     },
     "metadata": {},
     "output_type": "display_data"
    },
    {
     "name": "stdout",
     "output_type": "stream",
     "text": [
      "Epoch 714: train=0.964554, val=1.0037, took 36.7 s\n"
     ]
    },
    {
     "data": {
      "application/vnd.jupyter.widget-view+json": {
       "model_id": "",
       "version_major": 2,
       "version_minor": 0
      },
      "text/plain": [
       "HBox(children=(FloatProgress(value=0.0, description='Training', layout=Layout(flex='2'), max=1125.0, style=Pro…"
      ]
     },
     "metadata": {},
     "output_type": "display_data"
    },
    {
     "name": "stdout",
     "output_type": "stream",
     "text": [
      "Epoch 715: train=0.967023, val=0.998249, took 37.113 s\n"
     ]
    },
    {
     "data": {
      "application/vnd.jupyter.widget-view+json": {
       "model_id": "",
       "version_major": 2,
       "version_minor": 0
      },
      "text/plain": [
       "HBox(children=(FloatProgress(value=0.0, description='Training', layout=Layout(flex='2'), max=1125.0, style=Pro…"
      ]
     },
     "metadata": {},
     "output_type": "display_data"
    },
    {
     "name": "stdout",
     "output_type": "stream",
     "text": [
      "Epoch 716: train=0.966322, val=1.01417, took 36.854 s\n"
     ]
    },
    {
     "data": {
      "application/vnd.jupyter.widget-view+json": {
       "model_id": "",
       "version_major": 2,
       "version_minor": 0
      },
      "text/plain": [
       "HBox(children=(FloatProgress(value=0.0, description='Training', layout=Layout(flex='2'), max=1125.0, style=Pro…"
      ]
     },
     "metadata": {},
     "output_type": "display_data"
    },
    {
     "name": "stdout",
     "output_type": "stream",
     "text": [
      "Epoch 717: train=0.962641, val=0.975615, took 36.94 s\n"
     ]
    },
    {
     "data": {
      "application/vnd.jupyter.widget-view+json": {
       "model_id": "",
       "version_major": 2,
       "version_minor": 0
      },
      "text/plain": [
       "HBox(children=(FloatProgress(value=0.0, description='Training', layout=Layout(flex='2'), max=1125.0, style=Pro…"
      ]
     },
     "metadata": {},
     "output_type": "display_data"
    },
    {
     "name": "stdout",
     "output_type": "stream",
     "text": [
      "Epoch 718: train=0.965506, val=0.965277, took 36.918 s\n"
     ]
    },
    {
     "data": {
      "application/vnd.jupyter.widget-view+json": {
       "model_id": "",
       "version_major": 2,
       "version_minor": 0
      },
      "text/plain": [
       "HBox(children=(FloatProgress(value=0.0, description='Training', layout=Layout(flex='2'), max=1125.0, style=Pro…"
      ]
     },
     "metadata": {},
     "output_type": "display_data"
    },
    {
     "name": "stdout",
     "output_type": "stream",
     "text": [
      "Epoch 719: train=0.96029, val=0.968811, took 36.847 s\n"
     ]
    },
    {
     "data": {
      "application/vnd.jupyter.widget-view+json": {
       "model_id": "",
       "version_major": 2,
       "version_minor": 0
      },
      "text/plain": [
       "HBox(children=(FloatProgress(value=0.0, description='Training', layout=Layout(flex='2'), max=1125.0, style=Pro…"
      ]
     },
     "metadata": {},
     "output_type": "display_data"
    },
    {
     "name": "stdout",
     "output_type": "stream",
     "text": [
      "Epoch 720: train=0.963765, val=0.964136, took 36.926 s\n"
     ]
    },
    {
     "data": {
      "application/vnd.jupyter.widget-view+json": {
       "model_id": "",
       "version_major": 2,
       "version_minor": 0
      },
      "text/plain": [
       "HBox(children=(FloatProgress(value=0.0, description='Training', layout=Layout(flex='2'), max=1125.0, style=Pro…"
      ]
     },
     "metadata": {},
     "output_type": "display_data"
    },
    {
     "name": "stdout",
     "output_type": "stream",
     "text": [
      "Epoch 721: train=0.966877, val=0.983285, took 36.846 s\n"
     ]
    },
    {
     "data": {
      "application/vnd.jupyter.widget-view+json": {
       "model_id": "",
       "version_major": 2,
       "version_minor": 0
      },
      "text/plain": [
       "HBox(children=(FloatProgress(value=0.0, description='Training', layout=Layout(flex='2'), max=1125.0, style=Pro…"
      ]
     },
     "metadata": {},
     "output_type": "display_data"
    },
    {
     "name": "stdout",
     "output_type": "stream",
     "text": [
      "Epoch 722: train=0.963037, val=0.969972, took 37.028 s\n"
     ]
    },
    {
     "data": {
      "application/vnd.jupyter.widget-view+json": {
       "model_id": "",
       "version_major": 2,
       "version_minor": 0
      },
      "text/plain": [
       "HBox(children=(FloatProgress(value=0.0, description='Training', layout=Layout(flex='2'), max=1125.0, style=Pro…"
      ]
     },
     "metadata": {},
     "output_type": "display_data"
    },
    {
     "name": "stdout",
     "output_type": "stream",
     "text": [
      "Epoch 723: train=0.960708, val=0.961816, took 36.799 s\n"
     ]
    },
    {
     "data": {
      "application/vnd.jupyter.widget-view+json": {
       "model_id": "",
       "version_major": 2,
       "version_minor": 0
      },
      "text/plain": [
       "HBox(children=(FloatProgress(value=0.0, description='Training', layout=Layout(flex='2'), max=1125.0, style=Pro…"
      ]
     },
     "metadata": {},
     "output_type": "display_data"
    },
    {
     "name": "stdout",
     "output_type": "stream",
     "text": [
      "Epoch 724: train=0.962991, val=0.98288, took 36.847 s\n"
     ]
    },
    {
     "data": {
      "application/vnd.jupyter.widget-view+json": {
       "model_id": "",
       "version_major": 2,
       "version_minor": 0
      },
      "text/plain": [
       "HBox(children=(FloatProgress(value=0.0, description='Training', layout=Layout(flex='2'), max=1125.0, style=Pro…"
      ]
     },
     "metadata": {},
     "output_type": "display_data"
    },
    {
     "name": "stdout",
     "output_type": "stream",
     "text": [
      "Epoch 725: train=0.960592, val=0.963672, took 36.815 s\n"
     ]
    },
    {
     "data": {
      "application/vnd.jupyter.widget-view+json": {
       "model_id": "",
       "version_major": 2,
       "version_minor": 0
      },
      "text/plain": [
       "HBox(children=(FloatProgress(value=0.0, description='Training', layout=Layout(flex='2'), max=1125.0, style=Pro…"
      ]
     },
     "metadata": {},
     "output_type": "display_data"
    },
    {
     "name": "stdout",
     "output_type": "stream",
     "text": [
      "Epoch 726: train=0.961976, val=1.04239, took 36.922 s\n"
     ]
    },
    {
     "data": {
      "application/vnd.jupyter.widget-view+json": {
       "model_id": "",
       "version_major": 2,
       "version_minor": 0
      },
      "text/plain": [
       "HBox(children=(FloatProgress(value=0.0, description='Training', layout=Layout(flex='2'), max=1125.0, style=Pro…"
      ]
     },
     "metadata": {},
     "output_type": "display_data"
    },
    {
     "name": "stdout",
     "output_type": "stream",
     "text": [
      "Epoch 727: train=0.958708, val=0.962959, took 37.161 s\n"
     ]
    },
    {
     "data": {
      "application/vnd.jupyter.widget-view+json": {
       "model_id": "",
       "version_major": 2,
       "version_minor": 0
      },
      "text/plain": [
       "HBox(children=(FloatProgress(value=0.0, description='Training', layout=Layout(flex='2'), max=1125.0, style=Pro…"
      ]
     },
     "metadata": {},
     "output_type": "display_data"
    },
    {
     "name": "stdout",
     "output_type": "stream",
     "text": [
      "Epoch 728: train=0.966948, val=0.971715, took 36.829 s\n"
     ]
    },
    {
     "data": {
      "application/vnd.jupyter.widget-view+json": {
       "model_id": "",
       "version_major": 2,
       "version_minor": 0
      },
      "text/plain": [
       "HBox(children=(FloatProgress(value=0.0, description='Training', layout=Layout(flex='2'), max=1125.0, style=Pro…"
      ]
     },
     "metadata": {},
     "output_type": "display_data"
    },
    {
     "name": "stdout",
     "output_type": "stream",
     "text": [
      "Epoch 729: train=0.957834, val=0.962349, took 36.87 s\n"
     ]
    },
    {
     "data": {
      "application/vnd.jupyter.widget-view+json": {
       "model_id": "",
       "version_major": 2,
       "version_minor": 0
      },
      "text/plain": [
       "HBox(children=(FloatProgress(value=0.0, description='Training', layout=Layout(flex='2'), max=1125.0, style=Pro…"
      ]
     },
     "metadata": {},
     "output_type": "display_data"
    },
    {
     "name": "stdout",
     "output_type": "stream",
     "text": [
      "Epoch 730: train=0.965445, val=0.966596, took 36.814 s\n"
     ]
    },
    {
     "data": {
      "application/vnd.jupyter.widget-view+json": {
       "model_id": "",
       "version_major": 2,
       "version_minor": 0
      },
      "text/plain": [
       "HBox(children=(FloatProgress(value=0.0, description='Training', layout=Layout(flex='2'), max=1125.0, style=Pro…"
      ]
     },
     "metadata": {},
     "output_type": "display_data"
    },
    {
     "name": "stdout",
     "output_type": "stream",
     "text": [
      "Epoch 731: train=0.96125, val=0.965362, took 36.869 s\n"
     ]
    },
    {
     "data": {
      "application/vnd.jupyter.widget-view+json": {
       "model_id": "",
       "version_major": 2,
       "version_minor": 0
      },
      "text/plain": [
       "HBox(children=(FloatProgress(value=0.0, description='Training', layout=Layout(flex='2'), max=1125.0, style=Pro…"
      ]
     },
     "metadata": {},
     "output_type": "display_data"
    },
    {
     "name": "stdout",
     "output_type": "stream",
     "text": [
      "Epoch 732: train=0.961017, val=0.973839, took 36.856 s\n"
     ]
    },
    {
     "data": {
      "application/vnd.jupyter.widget-view+json": {
       "model_id": "",
       "version_major": 2,
       "version_minor": 0
      },
      "text/plain": [
       "HBox(children=(FloatProgress(value=0.0, description='Training', layout=Layout(flex='2'), max=1125.0, style=Pro…"
      ]
     },
     "metadata": {},
     "output_type": "display_data"
    },
    {
     "name": "stdout",
     "output_type": "stream",
     "text": [
      "Epoch 733: train=0.9629, val=0.961724, took 36.828 s\n"
     ]
    },
    {
     "data": {
      "application/vnd.jupyter.widget-view+json": {
       "model_id": "",
       "version_major": 2,
       "version_minor": 0
      },
      "text/plain": [
       "HBox(children=(FloatProgress(value=0.0, description='Training', layout=Layout(flex='2'), max=1125.0, style=Pro…"
      ]
     },
     "metadata": {},
     "output_type": "display_data"
    },
    {
     "name": "stdout",
     "output_type": "stream",
     "text": [
      "Epoch 734: train=0.967615, val=0.958996, took 37.069 s\n"
     ]
    },
    {
     "data": {
      "application/vnd.jupyter.widget-view+json": {
       "model_id": "",
       "version_major": 2,
       "version_minor": 0
      },
      "text/plain": [
       "HBox(children=(FloatProgress(value=0.0, description='Training', layout=Layout(flex='2'), max=1125.0, style=Pro…"
      ]
     },
     "metadata": {},
     "output_type": "display_data"
    },
    {
     "name": "stdout",
     "output_type": "stream",
     "text": [
      "Epoch 735: train=0.964919, val=0.962593, took 36.694 s\n"
     ]
    },
    {
     "data": {
      "application/vnd.jupyter.widget-view+json": {
       "model_id": "",
       "version_major": 2,
       "version_minor": 0
      },
      "text/plain": [
       "HBox(children=(FloatProgress(value=0.0, description='Training', layout=Layout(flex='2'), max=1125.0, style=Pro…"
      ]
     },
     "metadata": {},
     "output_type": "display_data"
    },
    {
     "name": "stdout",
     "output_type": "stream",
     "text": [
      "Epoch 736: train=0.967335, val=0.993872, took 36.628 s\n"
     ]
    },
    {
     "data": {
      "application/vnd.jupyter.widget-view+json": {
       "model_id": "",
       "version_major": 2,
       "version_minor": 0
      },
      "text/plain": [
       "HBox(children=(FloatProgress(value=0.0, description='Training', layout=Layout(flex='2'), max=1125.0, style=Pro…"
      ]
     },
     "metadata": {},
     "output_type": "display_data"
    },
    {
     "name": "stdout",
     "output_type": "stream",
     "text": [
      "Epoch 737: train=0.963035, val=0.963614, took 36.656 s\n"
     ]
    },
    {
     "data": {
      "application/vnd.jupyter.widget-view+json": {
       "model_id": "",
       "version_major": 2,
       "version_minor": 0
      },
      "text/plain": [
       "HBox(children=(FloatProgress(value=0.0, description='Training', layout=Layout(flex='2'), max=1125.0, style=Pro…"
      ]
     },
     "metadata": {},
     "output_type": "display_data"
    },
    {
     "name": "stdout",
     "output_type": "stream",
     "text": [
      "Epoch 738: train=0.963297, val=0.969523, took 36.778 s\n"
     ]
    },
    {
     "data": {
      "application/vnd.jupyter.widget-view+json": {
       "model_id": "",
       "version_major": 2,
       "version_minor": 0
      },
      "text/plain": [
       "HBox(children=(FloatProgress(value=0.0, description='Training', layout=Layout(flex='2'), max=1125.0, style=Pro…"
      ]
     },
     "metadata": {},
     "output_type": "display_data"
    },
    {
     "name": "stdout",
     "output_type": "stream",
     "text": [
      "Epoch 739: train=0.965955, val=0.975744, took 36.747 s\n"
     ]
    },
    {
     "data": {
      "application/vnd.jupyter.widget-view+json": {
       "model_id": "",
       "version_major": 2,
       "version_minor": 0
      },
      "text/plain": [
       "HBox(children=(FloatProgress(value=0.0, description='Training', layout=Layout(flex='2'), max=1125.0, style=Pro…"
      ]
     },
     "metadata": {},
     "output_type": "display_data"
    },
    {
     "name": "stdout",
     "output_type": "stream",
     "text": [
      "Epoch 740: train=0.965552, val=0.963001, took 36.717 s\n"
     ]
    },
    {
     "data": {
      "application/vnd.jupyter.widget-view+json": {
       "model_id": "",
       "version_major": 2,
       "version_minor": 0
      },
      "text/plain": [
       "HBox(children=(FloatProgress(value=0.0, description='Training', layout=Layout(flex='2'), max=1125.0, style=Pro…"
      ]
     },
     "metadata": {},
     "output_type": "display_data"
    },
    {
     "name": "stdout",
     "output_type": "stream",
     "text": [
      "Epoch 741: train=0.963461, val=0.961354, took 36.809 s\n"
     ]
    },
    {
     "data": {
      "application/vnd.jupyter.widget-view+json": {
       "model_id": "",
       "version_major": 2,
       "version_minor": 0
      },
      "text/plain": [
       "HBox(children=(FloatProgress(value=0.0, description='Training', layout=Layout(flex='2'), max=1125.0, style=Pro…"
      ]
     },
     "metadata": {},
     "output_type": "display_data"
    },
    {
     "name": "stdout",
     "output_type": "stream",
     "text": [
      "Epoch 742: train=0.961446, val=0.965327, took 36.676 s\n"
     ]
    },
    {
     "data": {
      "application/vnd.jupyter.widget-view+json": {
       "model_id": "",
       "version_major": 2,
       "version_minor": 0
      },
      "text/plain": [
       "HBox(children=(FloatProgress(value=0.0, description='Training', layout=Layout(flex='2'), max=1125.0, style=Pro…"
      ]
     },
     "metadata": {},
     "output_type": "display_data"
    },
    {
     "name": "stdout",
     "output_type": "stream",
     "text": [
      "Epoch 743: train=0.963531, val=0.96684, took 36.992 s\n"
     ]
    },
    {
     "data": {
      "application/vnd.jupyter.widget-view+json": {
       "model_id": "",
       "version_major": 2,
       "version_minor": 0
      },
      "text/plain": [
       "HBox(children=(FloatProgress(value=0.0, description='Training', layout=Layout(flex='2'), max=1125.0, style=Pro…"
      ]
     },
     "metadata": {},
     "output_type": "display_data"
    },
    {
     "name": "stdout",
     "output_type": "stream",
     "text": [
      "Epoch 744: train=0.957605, val=0.966142, took 36.77 s\n"
     ]
    },
    {
     "data": {
      "application/vnd.jupyter.widget-view+json": {
       "model_id": "",
       "version_major": 2,
       "version_minor": 0
      },
      "text/plain": [
       "HBox(children=(FloatProgress(value=0.0, description='Training', layout=Layout(flex='2'), max=1125.0, style=Pro…"
      ]
     },
     "metadata": {},
     "output_type": "display_data"
    },
    {
     "name": "stdout",
     "output_type": "stream",
     "text": [
      "Epoch 745: train=0.95881, val=1.00846, took 36.659 s\n"
     ]
    },
    {
     "data": {
      "application/vnd.jupyter.widget-view+json": {
       "model_id": "",
       "version_major": 2,
       "version_minor": 0
      },
      "text/plain": [
       "HBox(children=(FloatProgress(value=0.0, description='Training', layout=Layout(flex='2'), max=1125.0, style=Pro…"
      ]
     },
     "metadata": {},
     "output_type": "display_data"
    },
    {
     "name": "stdout",
     "output_type": "stream",
     "text": [
      "Epoch 746: train=0.963743, val=0.975567, took 36.788 s\n"
     ]
    },
    {
     "data": {
      "application/vnd.jupyter.widget-view+json": {
       "model_id": "",
       "version_major": 2,
       "version_minor": 0
      },
      "text/plain": [
       "HBox(children=(FloatProgress(value=0.0, description='Training', layout=Layout(flex='2'), max=1125.0, style=Pro…"
      ]
     },
     "metadata": {},
     "output_type": "display_data"
    },
    {
     "name": "stdout",
     "output_type": "stream",
     "text": [
      "Epoch 747: train=0.958153, val=0.976097, took 36.73 s\n"
     ]
    },
    {
     "data": {
      "application/vnd.jupyter.widget-view+json": {
       "model_id": "",
       "version_major": 2,
       "version_minor": 0
      },
      "text/plain": [
       "HBox(children=(FloatProgress(value=0.0, description='Training', layout=Layout(flex='2'), max=1125.0, style=Pro…"
      ]
     },
     "metadata": {},
     "output_type": "display_data"
    },
    {
     "name": "stdout",
     "output_type": "stream",
     "text": [
      "Epoch 748: train=0.964499, val=0.967539, took 36.79 s\n"
     ]
    },
    {
     "data": {
      "application/vnd.jupyter.widget-view+json": {
       "model_id": "",
       "version_major": 2,
       "version_minor": 0
      },
      "text/plain": [
       "HBox(children=(FloatProgress(value=0.0, description='Training', layout=Layout(flex='2'), max=1125.0, style=Pro…"
      ]
     },
     "metadata": {},
     "output_type": "display_data"
    },
    {
     "name": "stdout",
     "output_type": "stream",
     "text": [
      "Epoch 749: train=0.960896, val=0.95935, took 36.827 s\n"
     ]
    },
    {
     "data": {
      "application/vnd.jupyter.widget-view+json": {
       "model_id": "",
       "version_major": 2,
       "version_minor": 0
      },
      "text/plain": [
       "HBox(children=(FloatProgress(value=0.0, description='Training', layout=Layout(flex='2'), max=1125.0, style=Pro…"
      ]
     },
     "metadata": {},
     "output_type": "display_data"
    },
    {
     "name": "stdout",
     "output_type": "stream",
     "text": [
      "Epoch 750: train=0.963841, val=0.969784, took 36.747 s\n"
     ]
    },
    {
     "data": {
      "application/vnd.jupyter.widget-view+json": {
       "model_id": "",
       "version_major": 2,
       "version_minor": 0
      },
      "text/plain": [
       "HBox(children=(FloatProgress(value=0.0, description='Training', layout=Layout(flex='2'), max=1125.0, style=Pro…"
      ]
     },
     "metadata": {},
     "output_type": "display_data"
    },
    {
     "name": "stdout",
     "output_type": "stream",
     "text": [
      "Epoch 751: train=0.969723, val=0.960435, took 36.729 s\n"
     ]
    },
    {
     "data": {
      "application/vnd.jupyter.widget-view+json": {
       "model_id": "",
       "version_major": 2,
       "version_minor": 0
      },
      "text/plain": [
       "HBox(children=(FloatProgress(value=0.0, description='Training', layout=Layout(flex='2'), max=1125.0, style=Pro…"
      ]
     },
     "metadata": {},
     "output_type": "display_data"
    },
    {
     "name": "stdout",
     "output_type": "stream",
     "text": [
      "Epoch 752: train=0.960001, val=0.968947, took 36.728 s\n"
     ]
    },
    {
     "data": {
      "application/vnd.jupyter.widget-view+json": {
       "model_id": "",
       "version_major": 2,
       "version_minor": 0
      },
      "text/plain": [
       "HBox(children=(FloatProgress(value=0.0, description='Training', layout=Layout(flex='2'), max=1125.0, style=Pro…"
      ]
     },
     "metadata": {},
     "output_type": "display_data"
    },
    {
     "name": "stdout",
     "output_type": "stream",
     "text": [
      "Epoch 753: train=0.965723, val=0.968172, took 36.682 s\n"
     ]
    },
    {
     "data": {
      "application/vnd.jupyter.widget-view+json": {
       "model_id": "",
       "version_major": 2,
       "version_minor": 0
      },
      "text/plain": [
       "HBox(children=(FloatProgress(value=0.0, description='Training', layout=Layout(flex='2'), max=1125.0, style=Pro…"
      ]
     },
     "metadata": {},
     "output_type": "display_data"
    },
    {
     "name": "stdout",
     "output_type": "stream",
     "text": [
      "Epoch 754: train=0.959869, val=0.979233, took 36.781 s\n"
     ]
    },
    {
     "data": {
      "application/vnd.jupyter.widget-view+json": {
       "model_id": "",
       "version_major": 2,
       "version_minor": 0
      },
      "text/plain": [
       "HBox(children=(FloatProgress(value=0.0, description='Training', layout=Layout(flex='2'), max=1125.0, style=Pro…"
      ]
     },
     "metadata": {},
     "output_type": "display_data"
    },
    {
     "name": "stdout",
     "output_type": "stream",
     "text": [
      "Epoch 755: train=0.966138, val=0.980565, took 36.904 s\n"
     ]
    },
    {
     "data": {
      "application/vnd.jupyter.widget-view+json": {
       "model_id": "",
       "version_major": 2,
       "version_minor": 0
      },
      "text/plain": [
       "HBox(children=(FloatProgress(value=0.0, description='Training', layout=Layout(flex='2'), max=1125.0, style=Pro…"
      ]
     },
     "metadata": {},
     "output_type": "display_data"
    },
    {
     "name": "stdout",
     "output_type": "stream",
     "text": [
      "Epoch 756: train=0.959805, val=0.972349, took 37.519 s\n"
     ]
    },
    {
     "data": {
      "application/vnd.jupyter.widget-view+json": {
       "model_id": "",
       "version_major": 2,
       "version_minor": 0
      },
      "text/plain": [
       "HBox(children=(FloatProgress(value=0.0, description='Training', layout=Layout(flex='2'), max=1125.0, style=Pro…"
      ]
     },
     "metadata": {},
     "output_type": "display_data"
    },
    {
     "name": "stdout",
     "output_type": "stream",
     "text": [
      "Epoch 757: train=0.966794, val=0.962434, took 36.815 s\n"
     ]
    },
    {
     "data": {
      "application/vnd.jupyter.widget-view+json": {
       "model_id": "",
       "version_major": 2,
       "version_minor": 0
      },
      "text/plain": [
       "HBox(children=(FloatProgress(value=0.0, description='Training', layout=Layout(flex='2'), max=1125.0, style=Pro…"
      ]
     },
     "metadata": {},
     "output_type": "display_data"
    },
    {
     "name": "stdout",
     "output_type": "stream",
     "text": [
      "Epoch 758: train=0.961562, val=0.98362, took 36.87 s\n"
     ]
    },
    {
     "data": {
      "application/vnd.jupyter.widget-view+json": {
       "model_id": "",
       "version_major": 2,
       "version_minor": 0
      },
      "text/plain": [
       "HBox(children=(FloatProgress(value=0.0, description='Training', layout=Layout(flex='2'), max=1125.0, style=Pro…"
      ]
     },
     "metadata": {},
     "output_type": "display_data"
    },
    {
     "name": "stdout",
     "output_type": "stream",
     "text": [
      "Epoch 759: train=0.962316, val=0.971252, took 36.73 s\n"
     ]
    },
    {
     "data": {
      "application/vnd.jupyter.widget-view+json": {
       "model_id": "",
       "version_major": 2,
       "version_minor": 0
      },
      "text/plain": [
       "HBox(children=(FloatProgress(value=0.0, description='Training', layout=Layout(flex='2'), max=1125.0, style=Pro…"
      ]
     },
     "metadata": {},
     "output_type": "display_data"
    },
    {
     "name": "stdout",
     "output_type": "stream",
     "text": [
      "Epoch 760: train=0.958973, val=0.97319, took 36.992 s\n"
     ]
    },
    {
     "data": {
      "application/vnd.jupyter.widget-view+json": {
       "model_id": "",
       "version_major": 2,
       "version_minor": 0
      },
      "text/plain": [
       "HBox(children=(FloatProgress(value=0.0, description='Training', layout=Layout(flex='2'), max=1125.0, style=Pro…"
      ]
     },
     "metadata": {},
     "output_type": "display_data"
    },
    {
     "name": "stdout",
     "output_type": "stream",
     "text": [
      "Epoch 761: train=0.96434, val=0.96624, took 37.113 s\n"
     ]
    },
    {
     "data": {
      "application/vnd.jupyter.widget-view+json": {
       "model_id": "",
       "version_major": 2,
       "version_minor": 0
      },
      "text/plain": [
       "HBox(children=(FloatProgress(value=0.0, description='Training', layout=Layout(flex='2'), max=1125.0, style=Pro…"
      ]
     },
     "metadata": {},
     "output_type": "display_data"
    },
    {
     "name": "stdout",
     "output_type": "stream",
     "text": [
      "Epoch 762: train=0.966943, val=1.02895, took 36.783 s\n"
     ]
    },
    {
     "data": {
      "application/vnd.jupyter.widget-view+json": {
       "model_id": "",
       "version_major": 2,
       "version_minor": 0
      },
      "text/plain": [
       "HBox(children=(FloatProgress(value=0.0, description='Training', layout=Layout(flex='2'), max=1125.0, style=Pro…"
      ]
     },
     "metadata": {},
     "output_type": "display_data"
    },
    {
     "name": "stdout",
     "output_type": "stream",
     "text": [
      "Epoch 763: train=0.961192, val=1.00676, took 36.752 s\n"
     ]
    },
    {
     "data": {
      "application/vnd.jupyter.widget-view+json": {
       "model_id": "",
       "version_major": 2,
       "version_minor": 0
      },
      "text/plain": [
       "HBox(children=(FloatProgress(value=0.0, description='Training', layout=Layout(flex='2'), max=1125.0, style=Pro…"
      ]
     },
     "metadata": {},
     "output_type": "display_data"
    },
    {
     "name": "stdout",
     "output_type": "stream",
     "text": [
      "Epoch 764: train=0.967209, val=0.996615, took 36.883 s\n"
     ]
    },
    {
     "data": {
      "application/vnd.jupyter.widget-view+json": {
       "model_id": "",
       "version_major": 2,
       "version_minor": 0
      },
      "text/plain": [
       "HBox(children=(FloatProgress(value=0.0, description='Training', layout=Layout(flex='2'), max=1125.0, style=Pro…"
      ]
     },
     "metadata": {},
     "output_type": "display_data"
    },
    {
     "name": "stdout",
     "output_type": "stream",
     "text": [
      "Epoch 765: train=0.962008, val=0.967637, took 36.713 s\n"
     ]
    },
    {
     "data": {
      "application/vnd.jupyter.widget-view+json": {
       "model_id": "",
       "version_major": 2,
       "version_minor": 0
      },
      "text/plain": [
       "HBox(children=(FloatProgress(value=0.0, description='Training', layout=Layout(flex='2'), max=1125.0, style=Pro…"
      ]
     },
     "metadata": {},
     "output_type": "display_data"
    },
    {
     "name": "stdout",
     "output_type": "stream",
     "text": [
      "Epoch 766: train=0.968608, val=1.00209, took 36.956 s\n"
     ]
    },
    {
     "data": {
      "application/vnd.jupyter.widget-view+json": {
       "model_id": "",
       "version_major": 2,
       "version_minor": 0
      },
      "text/plain": [
       "HBox(children=(FloatProgress(value=0.0, description='Training', layout=Layout(flex='2'), max=1125.0, style=Pro…"
      ]
     },
     "metadata": {},
     "output_type": "display_data"
    },
    {
     "name": "stdout",
     "output_type": "stream",
     "text": [
      "Epoch 767: train=0.95845, val=0.977381, took 36.696 s\n"
     ]
    },
    {
     "data": {
      "application/vnd.jupyter.widget-view+json": {
       "model_id": "",
       "version_major": 2,
       "version_minor": 0
      },
      "text/plain": [
       "HBox(children=(FloatProgress(value=0.0, description='Training', layout=Layout(flex='2'), max=1125.0, style=Pro…"
      ]
     },
     "metadata": {},
     "output_type": "display_data"
    },
    {
     "name": "stdout",
     "output_type": "stream",
     "text": [
      "Epoch 768: train=0.961032, val=1.00018, took 36.717 s\n"
     ]
    },
    {
     "data": {
      "application/vnd.jupyter.widget-view+json": {
       "model_id": "",
       "version_major": 2,
       "version_minor": 0
      },
      "text/plain": [
       "HBox(children=(FloatProgress(value=0.0, description='Training', layout=Layout(flex='2'), max=1125.0, style=Pro…"
      ]
     },
     "metadata": {},
     "output_type": "display_data"
    },
    {
     "name": "stdout",
     "output_type": "stream",
     "text": [
      "Epoch 769: train=0.962372, val=0.980389, took 36.754 s\n"
     ]
    },
    {
     "data": {
      "application/vnd.jupyter.widget-view+json": {
       "model_id": "",
       "version_major": 2,
       "version_minor": 0
      },
      "text/plain": [
       "HBox(children=(FloatProgress(value=0.0, description='Training', layout=Layout(flex='2'), max=1125.0, style=Pro…"
      ]
     },
     "metadata": {},
     "output_type": "display_data"
    },
    {
     "name": "stdout",
     "output_type": "stream",
     "text": [
      "Epoch 770: train=0.959493, val=0.962817, took 36.824 s\n"
     ]
    },
    {
     "data": {
      "application/vnd.jupyter.widget-view+json": {
       "model_id": "",
       "version_major": 2,
       "version_minor": 0
      },
      "text/plain": [
       "HBox(children=(FloatProgress(value=0.0, description='Training', layout=Layout(flex='2'), max=1125.0, style=Pro…"
      ]
     },
     "metadata": {},
     "output_type": "display_data"
    },
    {
     "name": "stdout",
     "output_type": "stream",
     "text": [
      "Epoch 771: train=0.961409, val=0.968332, took 36.672 s\n"
     ]
    },
    {
     "data": {
      "application/vnd.jupyter.widget-view+json": {
       "model_id": "",
       "version_major": 2,
       "version_minor": 0
      },
      "text/plain": [
       "HBox(children=(FloatProgress(value=0.0, description='Training', layout=Layout(flex='2'), max=1125.0, style=Pro…"
      ]
     },
     "metadata": {},
     "output_type": "display_data"
    },
    {
     "name": "stdout",
     "output_type": "stream",
     "text": [
      "Epoch 772: train=0.958747, val=0.979617, took 37.004 s\n"
     ]
    },
    {
     "data": {
      "application/vnd.jupyter.widget-view+json": {
       "model_id": "",
       "version_major": 2,
       "version_minor": 0
      },
      "text/plain": [
       "HBox(children=(FloatProgress(value=0.0, description='Training', layout=Layout(flex='2'), max=1125.0, style=Pro…"
      ]
     },
     "metadata": {},
     "output_type": "display_data"
    },
    {
     "name": "stdout",
     "output_type": "stream",
     "text": [
      "Epoch 773: train=0.964524, val=0.964491, took 36.892 s\n"
     ]
    },
    {
     "data": {
      "application/vnd.jupyter.widget-view+json": {
       "model_id": "",
       "version_major": 2,
       "version_minor": 0
      },
      "text/plain": [
       "HBox(children=(FloatProgress(value=0.0, description='Training', layout=Layout(flex='2'), max=1125.0, style=Pro…"
      ]
     },
     "metadata": {},
     "output_type": "display_data"
    },
    {
     "name": "stdout",
     "output_type": "stream",
     "text": [
      "Epoch 774: train=0.961381, val=0.971593, took 37.224 s\n"
     ]
    },
    {
     "data": {
      "application/vnd.jupyter.widget-view+json": {
       "model_id": "",
       "version_major": 2,
       "version_minor": 0
      },
      "text/plain": [
       "HBox(children=(FloatProgress(value=0.0, description='Training', layout=Layout(flex='2'), max=1125.0, style=Pro…"
      ]
     },
     "metadata": {},
     "output_type": "display_data"
    },
    {
     "name": "stdout",
     "output_type": "stream",
     "text": [
      "Epoch 775: train=0.965764, val=0.961555, took 36.983 s\n"
     ]
    },
    {
     "data": {
      "application/vnd.jupyter.widget-view+json": {
       "model_id": "",
       "version_major": 2,
       "version_minor": 0
      },
      "text/plain": [
       "HBox(children=(FloatProgress(value=0.0, description='Training', layout=Layout(flex='2'), max=1125.0, style=Pro…"
      ]
     },
     "metadata": {},
     "output_type": "display_data"
    },
    {
     "name": "stdout",
     "output_type": "stream",
     "text": [
      "Epoch 776: train=0.956181, val=0.96335, took 36.684 s\n"
     ]
    },
    {
     "data": {
      "application/vnd.jupyter.widget-view+json": {
       "model_id": "",
       "version_major": 2,
       "version_minor": 0
      },
      "text/plain": [
       "HBox(children=(FloatProgress(value=0.0, description='Training', layout=Layout(flex='2'), max=1125.0, style=Pro…"
      ]
     },
     "metadata": {},
     "output_type": "display_data"
    },
    {
     "name": "stdout",
     "output_type": "stream",
     "text": [
      "Epoch 777: train=0.963228, val=0.976709, took 36.744 s\n"
     ]
    },
    {
     "data": {
      "application/vnd.jupyter.widget-view+json": {
       "model_id": "",
       "version_major": 2,
       "version_minor": 0
      },
      "text/plain": [
       "HBox(children=(FloatProgress(value=0.0, description='Training', layout=Layout(flex='2'), max=1125.0, style=Pro…"
      ]
     },
     "metadata": {},
     "output_type": "display_data"
    },
    {
     "name": "stdout",
     "output_type": "stream",
     "text": [
      "Epoch 778: train=0.968136, val=0.961755, took 36.815 s\n"
     ]
    },
    {
     "data": {
      "application/vnd.jupyter.widget-view+json": {
       "model_id": "",
       "version_major": 2,
       "version_minor": 0
      },
      "text/plain": [
       "HBox(children=(FloatProgress(value=0.0, description='Training', layout=Layout(flex='2'), max=1125.0, style=Pro…"
      ]
     },
     "metadata": {},
     "output_type": "display_data"
    },
    {
     "name": "stdout",
     "output_type": "stream",
     "text": [
      "Epoch 779: train=0.958142, val=0.961508, took 36.856 s\n"
     ]
    },
    {
     "data": {
      "application/vnd.jupyter.widget-view+json": {
       "model_id": "",
       "version_major": 2,
       "version_minor": 0
      },
      "text/plain": [
       "HBox(children=(FloatProgress(value=0.0, description='Training', layout=Layout(flex='2'), max=1125.0, style=Pro…"
      ]
     },
     "metadata": {},
     "output_type": "display_data"
    },
    {
     "name": "stdout",
     "output_type": "stream",
     "text": [
      "Epoch 780: train=0.956251, val=0.973966, took 36.885 s\n"
     ]
    },
    {
     "data": {
      "application/vnd.jupyter.widget-view+json": {
       "model_id": "",
       "version_major": 2,
       "version_minor": 0
      },
      "text/plain": [
       "HBox(children=(FloatProgress(value=0.0, description='Training', layout=Layout(flex='2'), max=1125.0, style=Pro…"
      ]
     },
     "metadata": {},
     "output_type": "display_data"
    },
    {
     "name": "stdout",
     "output_type": "stream",
     "text": [
      "Epoch 781: train=0.963779, val=0.989907, took 36.694 s\n"
     ]
    },
    {
     "data": {
      "application/vnd.jupyter.widget-view+json": {
       "model_id": "",
       "version_major": 2,
       "version_minor": 0
      },
      "text/plain": [
       "HBox(children=(FloatProgress(value=0.0, description='Training', layout=Layout(flex='2'), max=1125.0, style=Pro…"
      ]
     },
     "metadata": {},
     "output_type": "display_data"
    },
    {
     "name": "stdout",
     "output_type": "stream",
     "text": [
      "Epoch 782: train=0.964541, val=0.961725, took 36.782 s\n"
     ]
    },
    {
     "data": {
      "application/vnd.jupyter.widget-view+json": {
       "model_id": "",
       "version_major": 2,
       "version_minor": 0
      },
      "text/plain": [
       "HBox(children=(FloatProgress(value=0.0, description='Training', layout=Layout(flex='2'), max=1125.0, style=Pro…"
      ]
     },
     "metadata": {},
     "output_type": "display_data"
    },
    {
     "name": "stdout",
     "output_type": "stream",
     "text": [
      "Epoch 783: train=0.957871, val=0.96287, took 36.806 s\n"
     ]
    },
    {
     "data": {
      "application/vnd.jupyter.widget-view+json": {
       "model_id": "",
       "version_major": 2,
       "version_minor": 0
      },
      "text/plain": [
       "HBox(children=(FloatProgress(value=0.0, description='Training', layout=Layout(flex='2'), max=1125.0, style=Pro…"
      ]
     },
     "metadata": {},
     "output_type": "display_data"
    },
    {
     "name": "stdout",
     "output_type": "stream",
     "text": [
      "Epoch 784: train=0.96001, val=0.959723, took 37.022 s\n"
     ]
    },
    {
     "data": {
      "application/vnd.jupyter.widget-view+json": {
       "model_id": "",
       "version_major": 2,
       "version_minor": 0
      },
      "text/plain": [
       "HBox(children=(FloatProgress(value=0.0, description='Training', layout=Layout(flex='2'), max=1125.0, style=Pro…"
      ]
     },
     "metadata": {},
     "output_type": "display_data"
    },
    {
     "name": "stdout",
     "output_type": "stream",
     "text": [
      "Epoch 785: train=0.954586, val=1.0171, took 36.783 s\n"
     ]
    },
    {
     "data": {
      "application/vnd.jupyter.widget-view+json": {
       "model_id": "",
       "version_major": 2,
       "version_minor": 0
      },
      "text/plain": [
       "HBox(children=(FloatProgress(value=0.0, description='Training', layout=Layout(flex='2'), max=1125.0, style=Pro…"
      ]
     },
     "metadata": {},
     "output_type": "display_data"
    },
    {
     "name": "stdout",
     "output_type": "stream",
     "text": [
      "Epoch 786: train=0.9633, val=0.967851, took 36.704 s\n"
     ]
    },
    {
     "data": {
      "application/vnd.jupyter.widget-view+json": {
       "model_id": "",
       "version_major": 2,
       "version_minor": 0
      },
      "text/plain": [
       "HBox(children=(FloatProgress(value=0.0, description='Training', layout=Layout(flex='2'), max=1125.0, style=Pro…"
      ]
     },
     "metadata": {},
     "output_type": "display_data"
    },
    {
     "name": "stdout",
     "output_type": "stream",
     "text": [
      "Epoch 787: train=0.963696, val=0.961786, took 36.83 s\n"
     ]
    },
    {
     "data": {
      "application/vnd.jupyter.widget-view+json": {
       "model_id": "",
       "version_major": 2,
       "version_minor": 0
      },
      "text/plain": [
       "HBox(children=(FloatProgress(value=0.0, description='Training', layout=Layout(flex='2'), max=1125.0, style=Pro…"
      ]
     },
     "metadata": {},
     "output_type": "display_data"
    },
    {
     "name": "stdout",
     "output_type": "stream",
     "text": [
      "Epoch 788: train=0.960196, val=0.97067, took 36.828 s\n"
     ]
    },
    {
     "data": {
      "application/vnd.jupyter.widget-view+json": {
       "model_id": "",
       "version_major": 2,
       "version_minor": 0
      },
      "text/plain": [
       "HBox(children=(FloatProgress(value=0.0, description='Training', layout=Layout(flex='2'), max=1125.0, style=Pro…"
      ]
     },
     "metadata": {},
     "output_type": "display_data"
    },
    {
     "name": "stdout",
     "output_type": "stream",
     "text": [
      "Epoch 789: train=0.959915, val=0.958592, took 36.796 s\n"
     ]
    },
    {
     "data": {
      "application/vnd.jupyter.widget-view+json": {
       "model_id": "",
       "version_major": 2,
       "version_minor": 0
      },
      "text/plain": [
       "HBox(children=(FloatProgress(value=0.0, description='Training', layout=Layout(flex='2'), max=1125.0, style=Pro…"
      ]
     },
     "metadata": {},
     "output_type": "display_data"
    },
    {
     "name": "stdout",
     "output_type": "stream",
     "text": [
      "Epoch 790: train=0.962295, val=0.960166, took 36.757 s\n"
     ]
    },
    {
     "data": {
      "application/vnd.jupyter.widget-view+json": {
       "model_id": "",
       "version_major": 2,
       "version_minor": 0
      },
      "text/plain": [
       "HBox(children=(FloatProgress(value=0.0, description='Training', layout=Layout(flex='2'), max=1125.0, style=Pro…"
      ]
     },
     "metadata": {},
     "output_type": "display_data"
    },
    {
     "name": "stdout",
     "output_type": "stream",
     "text": [
      "Epoch 791: train=0.961818, val=1.06095, took 36.96 s\n"
     ]
    },
    {
     "data": {
      "application/vnd.jupyter.widget-view+json": {
       "model_id": "",
       "version_major": 2,
       "version_minor": 0
      },
      "text/plain": [
       "HBox(children=(FloatProgress(value=0.0, description='Training', layout=Layout(flex='2'), max=1125.0, style=Pro…"
      ]
     },
     "metadata": {},
     "output_type": "display_data"
    },
    {
     "name": "stdout",
     "output_type": "stream",
     "text": [
      "Epoch 792: train=0.963629, val=0.959701, took 36.744 s\n"
     ]
    },
    {
     "data": {
      "application/vnd.jupyter.widget-view+json": {
       "model_id": "",
       "version_major": 2,
       "version_minor": 0
      },
      "text/plain": [
       "HBox(children=(FloatProgress(value=0.0, description='Training', layout=Layout(flex='2'), max=1125.0, style=Pro…"
      ]
     },
     "metadata": {},
     "output_type": "display_data"
    },
    {
     "name": "stdout",
     "output_type": "stream",
     "text": [
      "Epoch 793: train=0.96075, val=0.967648, took 36.857 s\n"
     ]
    },
    {
     "data": {
      "application/vnd.jupyter.widget-view+json": {
       "model_id": "",
       "version_major": 2,
       "version_minor": 0
      },
      "text/plain": [
       "HBox(children=(FloatProgress(value=0.0, description='Training', layout=Layout(flex='2'), max=1125.0, style=Pro…"
      ]
     },
     "metadata": {},
     "output_type": "display_data"
    },
    {
     "name": "stdout",
     "output_type": "stream",
     "text": [
      "Epoch 794: train=0.960201, val=0.966688, took 36.889 s\n"
     ]
    },
    {
     "data": {
      "application/vnd.jupyter.widget-view+json": {
       "model_id": "",
       "version_major": 2,
       "version_minor": 0
      },
      "text/plain": [
       "HBox(children=(FloatProgress(value=0.0, description='Training', layout=Layout(flex='2'), max=1125.0, style=Pro…"
      ]
     },
     "metadata": {},
     "output_type": "display_data"
    },
    {
     "name": "stdout",
     "output_type": "stream",
     "text": [
      "Epoch 795: train=0.963405, val=0.960807, took 36.759 s\n"
     ]
    },
    {
     "data": {
      "application/vnd.jupyter.widget-view+json": {
       "model_id": "",
       "version_major": 2,
       "version_minor": 0
      },
      "text/plain": [
       "HBox(children=(FloatProgress(value=0.0, description='Training', layout=Layout(flex='2'), max=1125.0, style=Pro…"
      ]
     },
     "metadata": {},
     "output_type": "display_data"
    },
    {
     "name": "stdout",
     "output_type": "stream",
     "text": [
      "Epoch 796: train=0.957076, val=0.970607, took 36.727 s\n"
     ]
    },
    {
     "data": {
      "application/vnd.jupyter.widget-view+json": {
       "model_id": "",
       "version_major": 2,
       "version_minor": 0
      },
      "text/plain": [
       "HBox(children=(FloatProgress(value=0.0, description='Training', layout=Layout(flex='2'), max=1125.0, style=Pro…"
      ]
     },
     "metadata": {},
     "output_type": "display_data"
    },
    {
     "name": "stdout",
     "output_type": "stream",
     "text": [
      "Epoch 797: train=0.971622, val=0.960186, took 36.846 s\n"
     ]
    },
    {
     "data": {
      "application/vnd.jupyter.widget-view+json": {
       "model_id": "",
       "version_major": 2,
       "version_minor": 0
      },
      "text/plain": [
       "HBox(children=(FloatProgress(value=0.0, description='Training', layout=Layout(flex='2'), max=1125.0, style=Pro…"
      ]
     },
     "metadata": {},
     "output_type": "display_data"
    },
    {
     "name": "stdout",
     "output_type": "stream",
     "text": [
      "Epoch 798: train=0.959996, val=0.968586, took 36.976 s\n"
     ]
    },
    {
     "data": {
      "application/vnd.jupyter.widget-view+json": {
       "model_id": "",
       "version_major": 2,
       "version_minor": 0
      },
      "text/plain": [
       "HBox(children=(FloatProgress(value=0.0, description='Training', layout=Layout(flex='2'), max=1125.0, style=Pro…"
      ]
     },
     "metadata": {},
     "output_type": "display_data"
    },
    {
     "name": "stdout",
     "output_type": "stream",
     "text": [
      "Epoch 799: train=0.958782, val=0.997293, took 36.938 s\n",
      "\n"
     ]
    }
   ],
   "source": [
    "for result in trainNet(model, optimizer, loss,\n",
    "                        train_loader, val_loader,\n",
    "                        n_epochs, epoch_start=len(results),\n",
    "                        notebook=True):\n",
    "    \n",
    "    results = results.append(pd.Series(result._asdict()), ignore_index=True)\n",
    "    xs = results.index\n",
    "    \n",
    "    # Update the plot above\n",
    "    lines['train'].set_data(results.index,results.cost)\n",
    "    lines['val'].set_data(results.index,results.val)\n",
    "    \n",
    "    #filter first cost epoch (can be really large)\n",
    "    max_cost = max(max(results.cost if len(results.cost)<2 else results.cost[1:]), max(results.val))\n",
    "    min_cost = min(min(results.cost), min(results.val))\n",
    "    \n",
    "    # The plot limits need updating too\n",
    "    \n",
    "    \n",
    "    \n",
    "    ax.set_ylim(min_cost*.9, max_cost*1.1)  \n",
    "    ax.set_xlim(-.5, len(results.cost) - .5)\n",
    "\n",
    "    \n",
    "    # Redraw the figure\n",
    "    fig.canvas.draw()\n",
    "\n",
    "    # Save each model state dictionary\n",
    "    torch.save(model.state_dict(), output / f'{name}_{result.epoch}.pyt')"
   ]
  },
  {
   "cell_type": "markdown",
   "metadata": {},
   "source": [
    "Go ahead and save the final model (even though it was also saved above):"
   ]
  },
  {
   "cell_type": "code",
   "execution_count": 18,
   "metadata": {},
   "outputs": [],
   "source": [
    "torch.save(model.state_dict(), output / f'{name}_final.pyt')"
   ]
  },
  {
   "cell_type": "markdown",
   "metadata": {},
   "source": [
    "Save the output results:"
   ]
  },
  {
   "cell_type": "code",
   "execution_count": 19,
   "metadata": {},
   "outputs": [],
   "source": [
    "results.to_hdf(f'{name}_stats.hdf5', 'results')"
   ]
  },
  {
   "cell_type": "markdown",
   "metadata": {},
   "source": [
    "Save the plot above:"
   ]
  },
  {
   "cell_type": "code",
   "execution_count": 20,
   "metadata": {},
   "outputs": [
    {
     "data": {
      "application/javascript": [
       "/* Put everything inside the global mpl namespace */\n",
       "window.mpl = {};\n",
       "\n",
       "\n",
       "mpl.get_websocket_type = function() {\n",
       "    if (typeof(WebSocket) !== 'undefined') {\n",
       "        return WebSocket;\n",
       "    } else if (typeof(MozWebSocket) !== 'undefined') {\n",
       "        return MozWebSocket;\n",
       "    } else {\n",
       "        alert('Your browser does not have WebSocket support. ' +\n",
       "              'Please try Chrome, Safari or Firefox ≥ 6. ' +\n",
       "              'Firefox 4 and 5 are also supported but you ' +\n",
       "              'have to enable WebSockets in about:config.');\n",
       "    };\n",
       "}\n",
       "\n",
       "mpl.figure = function(figure_id, websocket, ondownload, parent_element) {\n",
       "    this.id = figure_id;\n",
       "\n",
       "    this.ws = websocket;\n",
       "\n",
       "    this.supports_binary = (this.ws.binaryType != undefined);\n",
       "\n",
       "    if (!this.supports_binary) {\n",
       "        var warnings = document.getElementById(\"mpl-warnings\");\n",
       "        if (warnings) {\n",
       "            warnings.style.display = 'block';\n",
       "            warnings.textContent = (\n",
       "                \"This browser does not support binary websocket messages. \" +\n",
       "                    \"Performance may be slow.\");\n",
       "        }\n",
       "    }\n",
       "\n",
       "    this.imageObj = new Image();\n",
       "\n",
       "    this.context = undefined;\n",
       "    this.message = undefined;\n",
       "    this.canvas = undefined;\n",
       "    this.rubberband_canvas = undefined;\n",
       "    this.rubberband_context = undefined;\n",
       "    this.format_dropdown = undefined;\n",
       "\n",
       "    this.image_mode = 'full';\n",
       "\n",
       "    this.root = $('<div/>');\n",
       "    this._root_extra_style(this.root)\n",
       "    this.root.attr('style', 'display: inline-block');\n",
       "\n",
       "    $(parent_element).append(this.root);\n",
       "\n",
       "    this._init_header(this);\n",
       "    this._init_canvas(this);\n",
       "    this._init_toolbar(this);\n",
       "\n",
       "    var fig = this;\n",
       "\n",
       "    this.waiting = false;\n",
       "\n",
       "    this.ws.onopen =  function () {\n",
       "            fig.send_message(\"supports_binary\", {value: fig.supports_binary});\n",
       "            fig.send_message(\"send_image_mode\", {});\n",
       "            if (mpl.ratio != 1) {\n",
       "                fig.send_message(\"set_dpi_ratio\", {'dpi_ratio': mpl.ratio});\n",
       "            }\n",
       "            fig.send_message(\"refresh\", {});\n",
       "        }\n",
       "\n",
       "    this.imageObj.onload = function() {\n",
       "            if (fig.image_mode == 'full') {\n",
       "                // Full images could contain transparency (where diff images\n",
       "                // almost always do), so we need to clear the canvas so that\n",
       "                // there is no ghosting.\n",
       "                fig.context.clearRect(0, 0, fig.canvas.width, fig.canvas.height);\n",
       "            }\n",
       "            fig.context.drawImage(fig.imageObj, 0, 0);\n",
       "        };\n",
       "\n",
       "    this.imageObj.onunload = function() {\n",
       "        fig.ws.close();\n",
       "    }\n",
       "\n",
       "    this.ws.onmessage = this._make_on_message_function(this);\n",
       "\n",
       "    this.ondownload = ondownload;\n",
       "}\n",
       "\n",
       "mpl.figure.prototype._init_header = function() {\n",
       "    var titlebar = $(\n",
       "        '<div class=\"ui-dialog-titlebar ui-widget-header ui-corner-all ' +\n",
       "        'ui-helper-clearfix\"/>');\n",
       "    var titletext = $(\n",
       "        '<div class=\"ui-dialog-title\" style=\"width: 100%; ' +\n",
       "        'text-align: center; padding: 3px;\"/>');\n",
       "    titlebar.append(titletext)\n",
       "    this.root.append(titlebar);\n",
       "    this.header = titletext[0];\n",
       "}\n",
       "\n",
       "\n",
       "\n",
       "mpl.figure.prototype._canvas_extra_style = function(canvas_div) {\n",
       "\n",
       "}\n",
       "\n",
       "\n",
       "mpl.figure.prototype._root_extra_style = function(canvas_div) {\n",
       "\n",
       "}\n",
       "\n",
       "mpl.figure.prototype._init_canvas = function() {\n",
       "    var fig = this;\n",
       "\n",
       "    var canvas_div = $('<div/>');\n",
       "\n",
       "    canvas_div.attr('style', 'position: relative; clear: both; outline: 0');\n",
       "\n",
       "    function canvas_keyboard_event(event) {\n",
       "        return fig.key_event(event, event['data']);\n",
       "    }\n",
       "\n",
       "    canvas_div.keydown('key_press', canvas_keyboard_event);\n",
       "    canvas_div.keyup('key_release', canvas_keyboard_event);\n",
       "    this.canvas_div = canvas_div\n",
       "    this._canvas_extra_style(canvas_div)\n",
       "    this.root.append(canvas_div);\n",
       "\n",
       "    var canvas = $('<canvas/>');\n",
       "    canvas.addClass('mpl-canvas');\n",
       "    canvas.attr('style', \"left: 0; top: 0; z-index: 0; outline: 0\")\n",
       "\n",
       "    this.canvas = canvas[0];\n",
       "    this.context = canvas[0].getContext(\"2d\");\n",
       "\n",
       "    var backingStore = this.context.backingStorePixelRatio ||\n",
       "\tthis.context.webkitBackingStorePixelRatio ||\n",
       "\tthis.context.mozBackingStorePixelRatio ||\n",
       "\tthis.context.msBackingStorePixelRatio ||\n",
       "\tthis.context.oBackingStorePixelRatio ||\n",
       "\tthis.context.backingStorePixelRatio || 1;\n",
       "\n",
       "    mpl.ratio = (window.devicePixelRatio || 1) / backingStore;\n",
       "\n",
       "    var rubberband = $('<canvas/>');\n",
       "    rubberband.attr('style', \"position: absolute; left: 0; top: 0; z-index: 1;\")\n",
       "\n",
       "    var pass_mouse_events = true;\n",
       "\n",
       "    canvas_div.resizable({\n",
       "        start: function(event, ui) {\n",
       "            pass_mouse_events = false;\n",
       "        },\n",
       "        resize: function(event, ui) {\n",
       "            fig.request_resize(ui.size.width, ui.size.height);\n",
       "        },\n",
       "        stop: function(event, ui) {\n",
       "            pass_mouse_events = true;\n",
       "            fig.request_resize(ui.size.width, ui.size.height);\n",
       "        },\n",
       "    });\n",
       "\n",
       "    function mouse_event_fn(event) {\n",
       "        if (pass_mouse_events)\n",
       "            return fig.mouse_event(event, event['data']);\n",
       "    }\n",
       "\n",
       "    rubberband.mousedown('button_press', mouse_event_fn);\n",
       "    rubberband.mouseup('button_release', mouse_event_fn);\n",
       "    // Throttle sequential mouse events to 1 every 20ms.\n",
       "    rubberband.mousemove('motion_notify', mouse_event_fn);\n",
       "\n",
       "    rubberband.mouseenter('figure_enter', mouse_event_fn);\n",
       "    rubberband.mouseleave('figure_leave', mouse_event_fn);\n",
       "\n",
       "    canvas_div.on(\"wheel\", function (event) {\n",
       "        event = event.originalEvent;\n",
       "        event['data'] = 'scroll'\n",
       "        if (event.deltaY < 0) {\n",
       "            event.step = 1;\n",
       "        } else {\n",
       "            event.step = -1;\n",
       "        }\n",
       "        mouse_event_fn(event);\n",
       "    });\n",
       "\n",
       "    canvas_div.append(canvas);\n",
       "    canvas_div.append(rubberband);\n",
       "\n",
       "    this.rubberband = rubberband;\n",
       "    this.rubberband_canvas = rubberband[0];\n",
       "    this.rubberband_context = rubberband[0].getContext(\"2d\");\n",
       "    this.rubberband_context.strokeStyle = \"#000000\";\n",
       "\n",
       "    this._resize_canvas = function(width, height) {\n",
       "        // Keep the size of the canvas, canvas container, and rubber band\n",
       "        // canvas in synch.\n",
       "        canvas_div.css('width', width)\n",
       "        canvas_div.css('height', height)\n",
       "\n",
       "        canvas.attr('width', width * mpl.ratio);\n",
       "        canvas.attr('height', height * mpl.ratio);\n",
       "        canvas.attr('style', 'width: ' + width + 'px; height: ' + height + 'px;');\n",
       "\n",
       "        rubberband.attr('width', width);\n",
       "        rubberband.attr('height', height);\n",
       "    }\n",
       "\n",
       "    // Set the figure to an initial 600x600px, this will subsequently be updated\n",
       "    // upon first draw.\n",
       "    this._resize_canvas(600, 600);\n",
       "\n",
       "    // Disable right mouse context menu.\n",
       "    $(this.rubberband_canvas).bind(\"contextmenu\",function(e){\n",
       "        return false;\n",
       "    });\n",
       "\n",
       "    function set_focus () {\n",
       "        canvas.focus();\n",
       "        canvas_div.focus();\n",
       "    }\n",
       "\n",
       "    window.setTimeout(set_focus, 100);\n",
       "}\n",
       "\n",
       "mpl.figure.prototype._init_toolbar = function() {\n",
       "    var fig = this;\n",
       "\n",
       "    var nav_element = $('<div/>');\n",
       "    nav_element.attr('style', 'width: 100%');\n",
       "    this.root.append(nav_element);\n",
       "\n",
       "    // Define a callback function for later on.\n",
       "    function toolbar_event(event) {\n",
       "        return fig.toolbar_button_onclick(event['data']);\n",
       "    }\n",
       "    function toolbar_mouse_event(event) {\n",
       "        return fig.toolbar_button_onmouseover(event['data']);\n",
       "    }\n",
       "\n",
       "    for(var toolbar_ind in mpl.toolbar_items) {\n",
       "        var name = mpl.toolbar_items[toolbar_ind][0];\n",
       "        var tooltip = mpl.toolbar_items[toolbar_ind][1];\n",
       "        var image = mpl.toolbar_items[toolbar_ind][2];\n",
       "        var method_name = mpl.toolbar_items[toolbar_ind][3];\n",
       "\n",
       "        if (!name) {\n",
       "            // put a spacer in here.\n",
       "            continue;\n",
       "        }\n",
       "        var button = $('<button/>');\n",
       "        button.addClass('ui-button ui-widget ui-state-default ui-corner-all ' +\n",
       "                        'ui-button-icon-only');\n",
       "        button.attr('role', 'button');\n",
       "        button.attr('aria-disabled', 'false');\n",
       "        button.click(method_name, toolbar_event);\n",
       "        button.mouseover(tooltip, toolbar_mouse_event);\n",
       "\n",
       "        var icon_img = $('<span/>');\n",
       "        icon_img.addClass('ui-button-icon-primary ui-icon');\n",
       "        icon_img.addClass(image);\n",
       "        icon_img.addClass('ui-corner-all');\n",
       "\n",
       "        var tooltip_span = $('<span/>');\n",
       "        tooltip_span.addClass('ui-button-text');\n",
       "        tooltip_span.html(tooltip);\n",
       "\n",
       "        button.append(icon_img);\n",
       "        button.append(tooltip_span);\n",
       "\n",
       "        nav_element.append(button);\n",
       "    }\n",
       "\n",
       "    var fmt_picker_span = $('<span/>');\n",
       "\n",
       "    var fmt_picker = $('<select/>');\n",
       "    fmt_picker.addClass('mpl-toolbar-option ui-widget ui-widget-content');\n",
       "    fmt_picker_span.append(fmt_picker);\n",
       "    nav_element.append(fmt_picker_span);\n",
       "    this.format_dropdown = fmt_picker[0];\n",
       "\n",
       "    for (var ind in mpl.extensions) {\n",
       "        var fmt = mpl.extensions[ind];\n",
       "        var option = $(\n",
       "            '<option/>', {selected: fmt === mpl.default_extension}).html(fmt);\n",
       "        fmt_picker.append(option);\n",
       "    }\n",
       "\n",
       "    // Add hover states to the ui-buttons\n",
       "    $( \".ui-button\" ).hover(\n",
       "        function() { $(this).addClass(\"ui-state-hover\");},\n",
       "        function() { $(this).removeClass(\"ui-state-hover\");}\n",
       "    );\n",
       "\n",
       "    var status_bar = $('<span class=\"mpl-message\"/>');\n",
       "    nav_element.append(status_bar);\n",
       "    this.message = status_bar[0];\n",
       "}\n",
       "\n",
       "mpl.figure.prototype.request_resize = function(x_pixels, y_pixels) {\n",
       "    // Request matplotlib to resize the figure. Matplotlib will then trigger a resize in the client,\n",
       "    // which will in turn request a refresh of the image.\n",
       "    this.send_message('resize', {'width': x_pixels, 'height': y_pixels});\n",
       "}\n",
       "\n",
       "mpl.figure.prototype.send_message = function(type, properties) {\n",
       "    properties['type'] = type;\n",
       "    properties['figure_id'] = this.id;\n",
       "    this.ws.send(JSON.stringify(properties));\n",
       "}\n",
       "\n",
       "mpl.figure.prototype.send_draw_message = function() {\n",
       "    if (!this.waiting) {\n",
       "        this.waiting = true;\n",
       "        this.ws.send(JSON.stringify({type: \"draw\", figure_id: this.id}));\n",
       "    }\n",
       "}\n",
       "\n",
       "\n",
       "mpl.figure.prototype.handle_save = function(fig, msg) {\n",
       "    var format_dropdown = fig.format_dropdown;\n",
       "    var format = format_dropdown.options[format_dropdown.selectedIndex].value;\n",
       "    fig.ondownload(fig, format);\n",
       "}\n",
       "\n",
       "\n",
       "mpl.figure.prototype.handle_resize = function(fig, msg) {\n",
       "    var size = msg['size'];\n",
       "    if (size[0] != fig.canvas.width || size[1] != fig.canvas.height) {\n",
       "        fig._resize_canvas(size[0], size[1]);\n",
       "        fig.send_message(\"refresh\", {});\n",
       "    };\n",
       "}\n",
       "\n",
       "mpl.figure.prototype.handle_rubberband = function(fig, msg) {\n",
       "    var x0 = msg['x0'] / mpl.ratio;\n",
       "    var y0 = (fig.canvas.height - msg['y0']) / mpl.ratio;\n",
       "    var x1 = msg['x1'] / mpl.ratio;\n",
       "    var y1 = (fig.canvas.height - msg['y1']) / mpl.ratio;\n",
       "    x0 = Math.floor(x0) + 0.5;\n",
       "    y0 = Math.floor(y0) + 0.5;\n",
       "    x1 = Math.floor(x1) + 0.5;\n",
       "    y1 = Math.floor(y1) + 0.5;\n",
       "    var min_x = Math.min(x0, x1);\n",
       "    var min_y = Math.min(y0, y1);\n",
       "    var width = Math.abs(x1 - x0);\n",
       "    var height = Math.abs(y1 - y0);\n",
       "\n",
       "    fig.rubberband_context.clearRect(\n",
       "        0, 0, fig.canvas.width / mpl.ratio, fig.canvas.height / mpl.ratio);\n",
       "\n",
       "    fig.rubberband_context.strokeRect(min_x, min_y, width, height);\n",
       "}\n",
       "\n",
       "mpl.figure.prototype.handle_figure_label = function(fig, msg) {\n",
       "    // Updates the figure title.\n",
       "    fig.header.textContent = msg['label'];\n",
       "}\n",
       "\n",
       "mpl.figure.prototype.handle_cursor = function(fig, msg) {\n",
       "    var cursor = msg['cursor'];\n",
       "    switch(cursor)\n",
       "    {\n",
       "    case 0:\n",
       "        cursor = 'pointer';\n",
       "        break;\n",
       "    case 1:\n",
       "        cursor = 'default';\n",
       "        break;\n",
       "    case 2:\n",
       "        cursor = 'crosshair';\n",
       "        break;\n",
       "    case 3:\n",
       "        cursor = 'move';\n",
       "        break;\n",
       "    }\n",
       "    fig.rubberband_canvas.style.cursor = cursor;\n",
       "}\n",
       "\n",
       "mpl.figure.prototype.handle_message = function(fig, msg) {\n",
       "    fig.message.textContent = msg['message'];\n",
       "}\n",
       "\n",
       "mpl.figure.prototype.handle_draw = function(fig, msg) {\n",
       "    // Request the server to send over a new figure.\n",
       "    fig.send_draw_message();\n",
       "}\n",
       "\n",
       "mpl.figure.prototype.handle_image_mode = function(fig, msg) {\n",
       "    fig.image_mode = msg['mode'];\n",
       "}\n",
       "\n",
       "mpl.figure.prototype.updated_canvas_event = function() {\n",
       "    // Called whenever the canvas gets updated.\n",
       "    this.send_message(\"ack\", {});\n",
       "}\n",
       "\n",
       "// A function to construct a web socket function for onmessage handling.\n",
       "// Called in the figure constructor.\n",
       "mpl.figure.prototype._make_on_message_function = function(fig) {\n",
       "    return function socket_on_message(evt) {\n",
       "        if (evt.data instanceof Blob) {\n",
       "            /* FIXME: We get \"Resource interpreted as Image but\n",
       "             * transferred with MIME type text/plain:\" errors on\n",
       "             * Chrome.  But how to set the MIME type?  It doesn't seem\n",
       "             * to be part of the websocket stream */\n",
       "            evt.data.type = \"image/png\";\n",
       "\n",
       "            /* Free the memory for the previous frames */\n",
       "            if (fig.imageObj.src) {\n",
       "                (window.URL || window.webkitURL).revokeObjectURL(\n",
       "                    fig.imageObj.src);\n",
       "            }\n",
       "\n",
       "            fig.imageObj.src = (window.URL || window.webkitURL).createObjectURL(\n",
       "                evt.data);\n",
       "            fig.updated_canvas_event();\n",
       "            fig.waiting = false;\n",
       "            return;\n",
       "        }\n",
       "        else if (typeof evt.data === 'string' && evt.data.slice(0, 21) == \"data:image/png;base64\") {\n",
       "            fig.imageObj.src = evt.data;\n",
       "            fig.updated_canvas_event();\n",
       "            fig.waiting = false;\n",
       "            return;\n",
       "        }\n",
       "\n",
       "        var msg = JSON.parse(evt.data);\n",
       "        var msg_type = msg['type'];\n",
       "\n",
       "        // Call the  \"handle_{type}\" callback, which takes\n",
       "        // the figure and JSON message as its only arguments.\n",
       "        try {\n",
       "            var callback = fig[\"handle_\" + msg_type];\n",
       "        } catch (e) {\n",
       "            console.log(\"No handler for the '\" + msg_type + \"' message type: \", msg);\n",
       "            return;\n",
       "        }\n",
       "\n",
       "        if (callback) {\n",
       "            try {\n",
       "                // console.log(\"Handling '\" + msg_type + \"' message: \", msg);\n",
       "                callback(fig, msg);\n",
       "            } catch (e) {\n",
       "                console.log(\"Exception inside the 'handler_\" + msg_type + \"' callback:\", e, e.stack, msg);\n",
       "            }\n",
       "        }\n",
       "    };\n",
       "}\n",
       "\n",
       "// from http://stackoverflow.com/questions/1114465/getting-mouse-location-in-canvas\n",
       "mpl.findpos = function(e) {\n",
       "    //this section is from http://www.quirksmode.org/js/events_properties.html\n",
       "    var targ;\n",
       "    if (!e)\n",
       "        e = window.event;\n",
       "    if (e.target)\n",
       "        targ = e.target;\n",
       "    else if (e.srcElement)\n",
       "        targ = e.srcElement;\n",
       "    if (targ.nodeType == 3) // defeat Safari bug\n",
       "        targ = targ.parentNode;\n",
       "\n",
       "    // jQuery normalizes the pageX and pageY\n",
       "    // pageX,Y are the mouse positions relative to the document\n",
       "    // offset() returns the position of the element relative to the document\n",
       "    var x = e.pageX - $(targ).offset().left;\n",
       "    var y = e.pageY - $(targ).offset().top;\n",
       "\n",
       "    return {\"x\": x, \"y\": y};\n",
       "};\n",
       "\n",
       "/*\n",
       " * return a copy of an object with only non-object keys\n",
       " * we need this to avoid circular references\n",
       " * http://stackoverflow.com/a/24161582/3208463\n",
       " */\n",
       "function simpleKeys (original) {\n",
       "  return Object.keys(original).reduce(function (obj, key) {\n",
       "    if (typeof original[key] !== 'object')\n",
       "        obj[key] = original[key]\n",
       "    return obj;\n",
       "  }, {});\n",
       "}\n",
       "\n",
       "mpl.figure.prototype.mouse_event = function(event, name) {\n",
       "    var canvas_pos = mpl.findpos(event)\n",
       "\n",
       "    if (name === 'button_press')\n",
       "    {\n",
       "        this.canvas.focus();\n",
       "        this.canvas_div.focus();\n",
       "    }\n",
       "\n",
       "    var x = canvas_pos.x * mpl.ratio;\n",
       "    var y = canvas_pos.y * mpl.ratio;\n",
       "\n",
       "    this.send_message(name, {x: x, y: y, button: event.button,\n",
       "                             step: event.step,\n",
       "                             guiEvent: simpleKeys(event)});\n",
       "\n",
       "    /* This prevents the web browser from automatically changing to\n",
       "     * the text insertion cursor when the button is pressed.  We want\n",
       "     * to control all of the cursor setting manually through the\n",
       "     * 'cursor' event from matplotlib */\n",
       "    event.preventDefault();\n",
       "    return false;\n",
       "}\n",
       "\n",
       "mpl.figure.prototype._key_event_extra = function(event, name) {\n",
       "    // Handle any extra behaviour associated with a key event\n",
       "}\n",
       "\n",
       "mpl.figure.prototype.key_event = function(event, name) {\n",
       "\n",
       "    // Prevent repeat events\n",
       "    if (name == 'key_press')\n",
       "    {\n",
       "        if (event.which === this._key)\n",
       "            return;\n",
       "        else\n",
       "            this._key = event.which;\n",
       "    }\n",
       "    if (name == 'key_release')\n",
       "        this._key = null;\n",
       "\n",
       "    var value = '';\n",
       "    if (event.ctrlKey && event.which != 17)\n",
       "        value += \"ctrl+\";\n",
       "    if (event.altKey && event.which != 18)\n",
       "        value += \"alt+\";\n",
       "    if (event.shiftKey && event.which != 16)\n",
       "        value += \"shift+\";\n",
       "\n",
       "    value += 'k';\n",
       "    value += event.which.toString();\n",
       "\n",
       "    this._key_event_extra(event, name);\n",
       "\n",
       "    this.send_message(name, {key: value,\n",
       "                             guiEvent: simpleKeys(event)});\n",
       "    return false;\n",
       "}\n",
       "\n",
       "mpl.figure.prototype.toolbar_button_onclick = function(name) {\n",
       "    if (name == 'download') {\n",
       "        this.handle_save(this, null);\n",
       "    } else {\n",
       "        this.send_message(\"toolbar_button\", {name: name});\n",
       "    }\n",
       "};\n",
       "\n",
       "mpl.figure.prototype.toolbar_button_onmouseover = function(tooltip) {\n",
       "    this.message.textContent = tooltip;\n",
       "};\n",
       "mpl.toolbar_items = [[\"Home\", \"Reset original view\", \"fa fa-home icon-home\", \"home\"], [\"Back\", \"Back to previous view\", \"fa fa-arrow-left icon-arrow-left\", \"back\"], [\"Forward\", \"Forward to next view\", \"fa fa-arrow-right icon-arrow-right\", \"forward\"], [\"\", \"\", \"\", \"\"], [\"Pan\", \"Pan axes with left mouse, zoom with right\", \"fa fa-arrows icon-move\", \"pan\"], [\"Zoom\", \"Zoom to rectangle\", \"fa fa-square-o icon-check-empty\", \"zoom\"], [\"\", \"\", \"\", \"\"], [\"Download\", \"Download plot\", \"fa fa-floppy-o icon-save\", \"download\"]];\n",
       "\n",
       "mpl.extensions = [\"eps\", \"jpeg\", \"pdf\", \"png\", \"ps\", \"raw\", \"svg\", \"tif\"];\n",
       "\n",
       "mpl.default_extension = \"png\";var comm_websocket_adapter = function(comm) {\n",
       "    // Create a \"websocket\"-like object which calls the given IPython comm\n",
       "    // object with the appropriate methods. Currently this is a non binary\n",
       "    // socket, so there is still some room for performance tuning.\n",
       "    var ws = {};\n",
       "\n",
       "    ws.close = function() {\n",
       "        comm.close()\n",
       "    };\n",
       "    ws.send = function(m) {\n",
       "        //console.log('sending', m);\n",
       "        comm.send(m);\n",
       "    };\n",
       "    // Register the callback with on_msg.\n",
       "    comm.on_msg(function(msg) {\n",
       "        //console.log('receiving', msg['content']['data'], msg);\n",
       "        // Pass the mpl event to the overridden (by mpl) onmessage function.\n",
       "        ws.onmessage(msg['content']['data'])\n",
       "    });\n",
       "    return ws;\n",
       "}\n",
       "\n",
       "mpl.mpl_figure_comm = function(comm, msg) {\n",
       "    // This is the function which gets called when the mpl process\n",
       "    // starts-up an IPython Comm through the \"matplotlib\" channel.\n",
       "\n",
       "    var id = msg.content.data.id;\n",
       "    // Get hold of the div created by the display call when the Comm\n",
       "    // socket was opened in Python.\n",
       "    var element = $(\"#\" + id);\n",
       "    var ws_proxy = comm_websocket_adapter(comm)\n",
       "\n",
       "    function ondownload(figure, format) {\n",
       "        window.open(figure.imageObj.src);\n",
       "    }\n",
       "\n",
       "    var fig = new mpl.figure(id, ws_proxy,\n",
       "                           ondownload,\n",
       "                           element.get(0));\n",
       "\n",
       "    // Call onopen now - mpl needs it, as it is assuming we've passed it a real\n",
       "    // web socket which is closed, not our websocket->open comm proxy.\n",
       "    ws_proxy.onopen();\n",
       "\n",
       "    fig.parent_element = element.get(0);\n",
       "    fig.cell_info = mpl.find_output_cell(\"<div id='\" + id + \"'></div>\");\n",
       "    if (!fig.cell_info) {\n",
       "        console.error(\"Failed to find cell for figure\", id, fig);\n",
       "        return;\n",
       "    }\n",
       "\n",
       "    var output_index = fig.cell_info[2]\n",
       "    var cell = fig.cell_info[0];\n",
       "\n",
       "};\n",
       "\n",
       "mpl.figure.prototype.handle_close = function(fig, msg) {\n",
       "    var width = fig.canvas.width/mpl.ratio\n",
       "    fig.root.unbind('remove')\n",
       "\n",
       "    // Update the output cell to use the data from the current canvas.\n",
       "    fig.push_to_output();\n",
       "    var dataURL = fig.canvas.toDataURL();\n",
       "    // Re-enable the keyboard manager in IPython - without this line, in FF,\n",
       "    // the notebook keyboard shortcuts fail.\n",
       "    IPython.keyboard_manager.enable()\n",
       "    $(fig.parent_element).html('<img src=\"' + dataURL + '\" width=\"' + width + '\">');\n",
       "    fig.close_ws(fig, msg);\n",
       "}\n",
       "\n",
       "mpl.figure.prototype.close_ws = function(fig, msg){\n",
       "    fig.send_message('closing', msg);\n",
       "    // fig.ws.close()\n",
       "}\n",
       "\n",
       "mpl.figure.prototype.push_to_output = function(remove_interactive) {\n",
       "    // Turn the data on the canvas into data in the output cell.\n",
       "    var width = this.canvas.width/mpl.ratio\n",
       "    var dataURL = this.canvas.toDataURL();\n",
       "    this.cell_info[1]['text/html'] = '<img src=\"' + dataURL + '\" width=\"' + width + '\">';\n",
       "}\n",
       "\n",
       "mpl.figure.prototype.updated_canvas_event = function() {\n",
       "    // Tell IPython that the notebook contents must change.\n",
       "    IPython.notebook.set_dirty(true);\n",
       "    this.send_message(\"ack\", {});\n",
       "    var fig = this;\n",
       "    // Wait a second, then push the new image to the DOM so\n",
       "    // that it is saved nicely (might be nice to debounce this).\n",
       "    setTimeout(function () { fig.push_to_output() }, 1000);\n",
       "}\n",
       "\n",
       "mpl.figure.prototype._init_toolbar = function() {\n",
       "    var fig = this;\n",
       "\n",
       "    var nav_element = $('<div/>');\n",
       "    nav_element.attr('style', 'width: 100%');\n",
       "    this.root.append(nav_element);\n",
       "\n",
       "    // Define a callback function for later on.\n",
       "    function toolbar_event(event) {\n",
       "        return fig.toolbar_button_onclick(event['data']);\n",
       "    }\n",
       "    function toolbar_mouse_event(event) {\n",
       "        return fig.toolbar_button_onmouseover(event['data']);\n",
       "    }\n",
       "\n",
       "    for(var toolbar_ind in mpl.toolbar_items){\n",
       "        var name = mpl.toolbar_items[toolbar_ind][0];\n",
       "        var tooltip = mpl.toolbar_items[toolbar_ind][1];\n",
       "        var image = mpl.toolbar_items[toolbar_ind][2];\n",
       "        var method_name = mpl.toolbar_items[toolbar_ind][3];\n",
       "\n",
       "        if (!name) { continue; };\n",
       "\n",
       "        var button = $('<button class=\"btn btn-default\" href=\"#\" title=\"' + name + '\"><i class=\"fa ' + image + ' fa-lg\"></i></button>');\n",
       "        button.click(method_name, toolbar_event);\n",
       "        button.mouseover(tooltip, toolbar_mouse_event);\n",
       "        nav_element.append(button);\n",
       "    }\n",
       "\n",
       "    // Add the status bar.\n",
       "    var status_bar = $('<span class=\"mpl-message\" style=\"text-align:right; float: right;\"/>');\n",
       "    nav_element.append(status_bar);\n",
       "    this.message = status_bar[0];\n",
       "\n",
       "    // Add the close button to the window.\n",
       "    var buttongrp = $('<div class=\"btn-group inline pull-right\"></div>');\n",
       "    var button = $('<button class=\"btn btn-mini btn-primary\" href=\"#\" title=\"Stop Interaction\"><i class=\"fa fa-power-off icon-remove icon-large\"></i></button>');\n",
       "    button.click(function (evt) { fig.handle_close(fig, {}); } );\n",
       "    button.mouseover('Stop Interaction', toolbar_mouse_event);\n",
       "    buttongrp.append(button);\n",
       "    var titlebar = this.root.find($('.ui-dialog-titlebar'));\n",
       "    titlebar.prepend(buttongrp);\n",
       "}\n",
       "\n",
       "mpl.figure.prototype._root_extra_style = function(el){\n",
       "    var fig = this\n",
       "    el.on(\"remove\", function(){\n",
       "\tfig.close_ws(fig, {});\n",
       "    });\n",
       "}\n",
       "\n",
       "mpl.figure.prototype._canvas_extra_style = function(el){\n",
       "    // this is important to make the div 'focusable\n",
       "    el.attr('tabindex', 0)\n",
       "    // reach out to IPython and tell the keyboard manager to turn it's self\n",
       "    // off when our div gets focus\n",
       "\n",
       "    // location in version 3\n",
       "    if (IPython.notebook.keyboard_manager) {\n",
       "        IPython.notebook.keyboard_manager.register_events(el);\n",
       "    }\n",
       "    else {\n",
       "        // location in version 2\n",
       "        IPython.keyboard_manager.register_events(el);\n",
       "    }\n",
       "\n",
       "}\n",
       "\n",
       "mpl.figure.prototype._key_event_extra = function(event, name) {\n",
       "    var manager = IPython.notebook.keyboard_manager;\n",
       "    if (!manager)\n",
       "        manager = IPython.keyboard_manager;\n",
       "\n",
       "    // Check for shift+enter\n",
       "    if (event.shiftKey && event.which == 13) {\n",
       "        this.canvas_div.blur();\n",
       "        // select the cell after this one\n",
       "        var index = IPython.notebook.find_cell_index(this.cell_info[0]);\n",
       "        IPython.notebook.select(index + 1);\n",
       "    }\n",
       "}\n",
       "\n",
       "mpl.figure.prototype.handle_save = function(fig, msg) {\n",
       "    fig.ondownload(fig, null);\n",
       "}\n",
       "\n",
       "\n",
       "mpl.find_output_cell = function(html_output) {\n",
       "    // Return the cell and output element which can be found *uniquely* in the notebook.\n",
       "    // Note - this is a bit hacky, but it is done because the \"notebook_saving.Notebook\"\n",
       "    // IPython event is triggered only after the cells have been serialised, which for\n",
       "    // our purposes (turning an active figure into a static one), is too late.\n",
       "    var cells = IPython.notebook.get_cells();\n",
       "    var ncells = cells.length;\n",
       "    for (var i=0; i<ncells; i++) {\n",
       "        var cell = cells[i];\n",
       "        if (cell.cell_type === 'code'){\n",
       "            for (var j=0; j<cell.output_area.outputs.length; j++) {\n",
       "                var data = cell.output_area.outputs[j];\n",
       "                if (data.data) {\n",
       "                    // IPython >= 3 moved mimebundle to data attribute of output\n",
       "                    data = data.data;\n",
       "                }\n",
       "                if (data['text/html'] == html_output) {\n",
       "                    return [cell, data, j];\n",
       "                }\n",
       "            }\n",
       "        }\n",
       "    }\n",
       "}\n",
       "\n",
       "// Register the function which deals with the matplotlib target/channel.\n",
       "// The kernel may be null if the page has been refreshed.\n",
       "if (IPython.notebook.kernel != null) {\n",
       "    IPython.notebook.kernel.comm_manager.register_target('matplotlib', mpl.mpl_figure_comm);\n",
       "}\n"
      ],
      "text/plain": [
       "<IPython.core.display.Javascript object>"
      ]
     },
     "metadata": {},
     "output_type": "display_data"
    },
    {
     "data": {
      "text/html": [
       "<img src=\"data:image/png;base64,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\" width=\"999.75\">"
      ],
      "text/plain": [
       "<IPython.core.display.HTML object>"
      ]
     },
     "metadata": {},
     "output_type": "display_data"
    }
   ],
   "source": [
    "dual_train_plots(results.index,\n",
    "                 results.cost, results.val,\n",
    "                 results.cost, results.val)\n",
    "plt.tight_layout()\n",
    "plt.savefig(str(output / f'{name}_stats_a.png'))"
   ]
  },
  {
   "cell_type": "code",
   "execution_count": 22,
   "metadata": {},
   "outputs": [],
   "source": [
    "##quit()\n"
   ]
  },
  {
   "cell_type": "code",
   "execution_count": null,
   "metadata": {},
   "outputs": [],
   "source": []
  },
  {
   "cell_type": "code",
   "execution_count": null,
   "metadata": {},
   "outputs": [],
   "source": []
  }
 ],
 "metadata": {
  "kernelspec": {
   "display_name": "june2020-gpu",
   "language": "python",
   "name": "june2020-gpu"
  },
  "language_info": {
   "codemirror_mode": {
    "name": "ipython",
    "version": 3
   },
   "file_extension": ".py",
   "mimetype": "text/x-python",
   "name": "python",
   "nbconvert_exporter": "python",
   "pygments_lexer": "ipython3",
   "version": "3.7.6"
  }
 },
 "nbformat": 4,
 "nbformat_minor": 2
}
